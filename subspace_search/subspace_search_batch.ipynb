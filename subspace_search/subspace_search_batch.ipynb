{
 "cells": [
  {
   "cell_type": "code",
   "execution_count": 1,
   "id": "17d3a33d",
   "metadata": {},
   "outputs": [],
   "source": [
    "%load_ext autoreload\n",
    "%autoreload 2"
   ]
  },
  {
   "cell_type": "code",
   "execution_count": 43,
   "id": "528c6b2a",
   "metadata": {},
   "outputs": [],
   "source": [
    "import torch\n",
    "import numpy as np\n",
    "import json\n",
    "from tqdm.auto import tqdm\n",
    "import random\n",
    "import transformers\n",
    "import baukit\n",
    "import matplotlib.pyplot as plt\n",
    "\n",
    "import os\n",
    "import sys\n",
    "sys.path.append('..')\n",
    "\n",
    "from relations import estimate\n",
    "from util import model_utils\n",
    "from baukit import nethook\n",
    "from operator import itemgetter\n",
    "from relations.evaluate import evaluate\n",
    "from relations.corner import CornerEstimator"
   ]
  },
  {
   "cell_type": "code",
   "execution_count": 3,
   "id": "7cb7ac99",
   "metadata": {},
   "outputs": [
    {
     "name": "stdout",
     "output_type": "stream",
     "text": [
      "EleutherAI/gpt-j-6B ==> device: cuda:0, memory: 24320971760\n"
     ]
    }
   ],
   "source": [
    "MODEL_NAME = \"EleutherAI/gpt-j-6B\"  # gpt2-{medium,large,xl} or EleutherAI/gpt-j-6B\n",
    "mt = model_utils.ModelAndTokenizer(MODEL_NAME, low_cpu_mem_usage=True, torch_dtype=torch.float32)\n",
    "\n",
    "model = mt.model\n",
    "tokenizer = mt.tokenizer\n",
    "tokenizer.pad_token = tokenizer.eos_token\n",
    "\n",
    "print(f\"{MODEL_NAME} ==> device: {model.device}, memory: {model.get_memory_footprint()}\")"
   ]
  },
  {
   "cell_type": "code",
   "execution_count": 4,
   "id": "9359d6a2",
   "metadata": {},
   "outputs": [],
   "source": [
    "corner_estimator = CornerEstimator(\n",
    "    model = model, tokenizer = tokenizer, ln_f_name = mt.ln_f_name, unembedder_module_name = mt.unembedder_name\n",
    ")"
   ]
  },
  {
   "cell_type": "code",
   "execution_count": 5,
   "id": "6025d81e",
   "metadata": {},
   "outputs": [
    {
     "name": "stdout",
     "output_type": "stream",
     "text": [
      "unique objects:  96 [' Nepal', ' Colombia', ' Algeria', ' Tunisia', ' Taiwan']\n"
     ]
    }
   ],
   "source": [
    "#################################################\n",
    "relation = \"{} is located in the country of\"\n",
    "relation_id = \"P17\"\n",
    "precision_at = 3\n",
    "#################################################\n",
    "\n",
    "with open(\"../data/counterfact.json\") as f:\n",
    "    counterfact = json.load(f)\n",
    "\n",
    "counterfact_filtered = [\n",
    "    c['requested_rewrite'] for c in counterfact \n",
    "    if c[\"requested_rewrite\"]['relation_id'] == relation_id\n",
    "]\n",
    "objects = [\" \"+ o['target_true']['str'] for o in counterfact_filtered]\n",
    "objects = list(set(objects))\n",
    "objects.append(\" China\")\n",
    "print(\"unique objects: \", len(objects), objects[0:5])"
   ]
  },
  {
   "cell_type": "code",
   "execution_count": 6,
   "id": "0b712c2e",
   "metadata": {},
   "outputs": [
    {
     "data": {
      "text/plain": [
       "torch.Size([96])"
      ]
     },
     "execution_count": 6,
     "metadata": {},
     "output_type": "execute_result"
    }
   ],
   "source": [
    "target_token_ids = tokenizer(objects, padding=True, return_tensors=\"pt\").to(model.device)\n",
    "target_token_ids = target_token_ids.input_ids.view(len(objects))\n",
    "target_token_ids.shape"
   ]
  },
  {
   "cell_type": "code",
   "execution_count": 7,
   "id": "82c31ebc",
   "metadata": {},
   "outputs": [
    {
     "data": {
      "text/plain": [
       "{'prompt': '{}, which is located in',\n",
       " 'relation_id': 'P17',\n",
       " 'target_new': {'str': 'Sweden', 'id': 'Q34'},\n",
       " 'target_true': {'str': 'Spain', 'id': 'Q29'},\n",
       " 'subject': 'Autonomous University of Madrid'}"
      ]
     },
     "execution_count": 7,
     "metadata": {},
     "output_type": "execute_result"
    }
   ],
   "source": [
    "counterfact_filtered[0]"
   ]
  },
  {
   "cell_type": "code",
   "execution_count": 8,
   "id": "7d398c7f",
   "metadata": {},
   "outputs": [
    {
     "name": "stderr",
     "output_type": "stream",
     "text": [
      "100%|██████████| 875/875 [03:24<00:00,  4.28it/s]\n"
     ]
    }
   ],
   "source": [
    "from relations.evaluate import filter_correct_predictions_by_model\n",
    "\n",
    "counterfact_gold = filter_correct_predictions_by_model(\n",
    "    model, tokenizer,\n",
    "    \"{} is located in the country of\",\n",
    "    counterfact_filtered\n",
    ")"
   ]
  },
  {
   "cell_type": "code",
   "execution_count": 83,
   "id": "b1e9e631",
   "metadata": {},
   "outputs": [],
   "source": [
    "batch_size = 20\n",
    "cf_original = counterfact_gold[:batch_size]\n",
    "cf_corrupted = []\n",
    "\n",
    "for c_o in cf_original:\n",
    "    perm = np.random.permutation(len(counterfact_gold))\n",
    "    for i in perm:\n",
    "        c_i = counterfact_gold[i]\n",
    "        if(c_i['subject'] != c_o['subject'] and c_i['target_true']['str'] != c_o['target_true']['str']):\n",
    "            cf_corrupted.append(c_i)\n",
    "            break"
   ]
  },
  {
   "cell_type": "code",
   "execution_count": 84,
   "id": "02f5c431",
   "metadata": {},
   "outputs": [
    {
     "name": "stdout",
     "output_type": "stream",
     "text": [
      "Autonomous University of Madrid <=> Kuomintang <<<>>> Spain <=> Taiwan\n",
      "Kuala Langat <=> Santa Maria da Feira Municipality <<<>>> Malaysia <=> Portugal\n",
      "Wanne-Eickel Central Station <=> Lodhran Tehsil <<<>>> Germany <=> Pakistan\n",
      "Bastille <=> Gobind Sagar <<<>>> France <=> India\n",
      "Shablykinsky District <=> Transylvanian Plateau <<<>>> Russia <=> Romania\n",
      "Valdemarsvik <=> Warsaw Uprising Museum <<<>>> Sweden <=> Poland\n",
      "Attingal <=> National Congress of Brasil <<<>>> India <=> Brazil\n",
      "Nizampatnam <=> Santo Spirito in Sassia <<<>>> India <=> Italy\n",
      "Darmstadt <=> 1931 Nicaragua earthquake <<<>>> Germany <=> Nicaragua\n",
      "Adliswil <=> Perpignan <<<>>> Switzerland <=> France\n",
      "Canada Live <=> Honnavar <<<>>> Canada <=> India\n",
      "Knockmealdown Mountains <=> Ikuno-ku <<<>>> Ireland <=> Japan\n",
      "Gazzola <=> Putyvl <<<>>> Italy <=> Ukraine\n",
      "Borovsky District <=> Cairo American College <<<>>> Russia <=> Egypt\n",
      "Kyoto University <=> Kahrizak <<<>>> Japan <=> Iran\n",
      "HSBC Bank Malta <=> Cocconato <<<>>> Malta <=> Italy\n",
      "Chu Lai Base Area <=> Lewin Brzeski <<<>>> Vietnam <=> Poland\n",
      "National Highway 45 <=> Bourg-la-Reine <<<>>> India <=> France\n",
      "Kfar Giladi <=> National Highway 45 <<<>>> Israel <=> India\n",
      "Agios Dimitrios <=> Shastri Park <<<>>> Greece <=> India\n"
     ]
    }
   ],
   "source": [
    "for c_o, c_i in zip(cf_original, cf_corrupted):\n",
    "    print(f\"{c_o['subject']} <=> {c_i['subject']} <<<>>> {c_o['target_true']['str']} <=> {c_i['target_true']['str']}\")"
   ]
  },
  {
   "cell_type": "code",
   "execution_count": 85,
   "id": "5dd6839f",
   "metadata": {},
   "outputs": [],
   "source": [
    "prompts_original_batch = [\n",
    "    relation.format(cf['subject']) for cf in cf_original\n",
    "]\n",
    "subject_original_batch = [cf['subject'] for cf in cf_original]\n",
    "\n",
    "batch_tokenized_o = tokenizer(prompts_original_batch, padding = True, return_tensors = \"pt\", return_offsets_mapping = True).to(model.device)\n",
    "offset_mapping = batch_tokenized_o.pop('offset_mapping')"
   ]
  },
  {
   "cell_type": "code",
   "execution_count": 86,
   "id": "3be64c8f",
   "metadata": {},
   "outputs": [],
   "source": [
    "subject_original_ranges = [\n",
    "    estimate._find_token_range(string = prompt, substring = subject, offset_mapping = offset) \n",
    "    for prompt, subject, offset in zip(prompts_original_batch, subject_original_batch, offset_mapping)\n",
    "]"
   ]
  },
  {
   "cell_type": "code",
   "execution_count": 87,
   "id": "06bc5468",
   "metadata": {},
   "outputs": [],
   "source": [
    "prompts_corruption_batch = [\n",
    "    relation.format(cf['subject']) for cf in cf_corrupted\n",
    "]\n",
    "subject_corruption_batch = [cf['subject'] for cf in cf_corrupted]\n",
    "\n",
    "batch_tokenized_c = tokenizer(prompts_corruption_batch, padding = True, return_tensors = \"pt\", return_offsets_mapping = True).to(model.device)\n",
    "offset_mapping = batch_tokenized_c.pop('offset_mapping')"
   ]
  },
  {
   "cell_type": "code",
   "execution_count": 88,
   "id": "850aecac",
   "metadata": {},
   "outputs": [],
   "source": [
    "subject_corruption_ranges = [\n",
    "    estimate._find_token_range(string = prompt, substring = subject, offset_mapping = offset) \n",
    "    for prompt, subject, offset in zip(prompts_corruption_batch, subject_corruption_batch, offset_mapping)\n",
    "]"
   ]
  },
  {
   "cell_type": "code",
   "execution_count": 89,
   "id": "b65a2c73",
   "metadata": {},
   "outputs": [],
   "source": [
    "###################################################\n",
    "intervention_layer = 15\n",
    "###################################################\n",
    "\n",
    "intervention_layer_name = mt.layer_name_format.format(15)"
   ]
  },
  {
   "cell_type": "code",
   "execution_count": 90,
   "id": "4fc78d52",
   "metadata": {},
   "outputs": [
    {
     "data": {
      "text/plain": [
       "(torch.Size([20, 4096]), torch.Size([20, 4096]))"
      ]
     },
     "execution_count": 90,
     "metadata": {},
     "output_type": "execute_result"
    }
   ],
   "source": [
    "def collect_h_batch(\n",
    "    model, tokenizer,\n",
    "    prompt_batch, subject_ranges,\n",
    "    intervention_layer_name\n",
    "):\n",
    "    h_batch = []\n",
    "    for prompt, sub_range in zip(prompt_batch, subject_ranges):\n",
    "        tokenized = tokenizer(prompt, return_tensors = \"pt\").to(model.device)\n",
    "        with baukit.TraceDict(\n",
    "            model, [intervention_layer_name]\n",
    "        ) as traces:\n",
    "            output = model(**tokenized)\n",
    "        h = model_utils.untuple(traces[intervention_layer_name].output)[0][sub_range[1] - 1]\n",
    "        h_batch.append(h)\n",
    "#     print(len(h_batch))\n",
    "    return torch.stack(h_batch, dim = 0)\n",
    "        \n",
    "h_original_batch = collect_h_batch(\n",
    "    model, tokenizer,\n",
    "    prompt_batch = [relation.format(cf['subject']) for cf in cf_original], \n",
    "    subject_ranges = subject_original_ranges,\n",
    "    intervention_layer_name = mt.layer_name_format.format(intervention_layer)\n",
    ")\n",
    "\n",
    "h_corruption_batch = collect_h_batch(\n",
    "    model, tokenizer,\n",
    "    prompt_batch = [relation.format(cf['subject']) for cf in cf_corrupted], \n",
    "    subject_ranges = subject_corruption_ranges,\n",
    "    intervention_layer_name = mt.layer_name_format.format(intervention_layer)\n",
    ")\n",
    "\n",
    "h_original_batch.shape, h_corruption_batch.shape"
   ]
  },
  {
   "cell_type": "code",
   "execution_count": 91,
   "id": "9da6fcda",
   "metadata": {},
   "outputs": [
    {
     "data": {
      "text/plain": [
       "tensor([10,  9, 13,  8, 10, 10,  8, 10,  8,  9,  7, 11,  8,  9,  8,  9, 11,  8,\n",
       "         9, 10], device='cuda:0')"
      ]
     },
     "execution_count": 91,
     "metadata": {},
     "output_type": "execute_result"
    }
   ],
   "source": [
    "batch_tokenized_o.attention_mask.sum(dim = 1) - 1"
   ]
  },
  {
   "cell_type": "markdown",
   "id": "79b7632b",
   "metadata": {},
   "source": [
    "## Necessary subspace search"
   ]
  },
  {
   "cell_type": "code",
   "execution_count": 92,
   "id": "f514c633",
   "metadata": {},
   "outputs": [],
   "source": [
    "from typing import List\n",
    "\n",
    "def interpret_model_output(output):\n",
    "    token_ids = output.logits[0][-1].argsort()[-10:]\n",
    "    logits = output.logits[0][-1][token_ids]\n",
    "    proba = torch.nn.functional.softmax(output.logits[0][-1], dim = 0)[token_ids]\n",
    "\n",
    "    return [\n",
    "        (tokenizer.decode(t), l.item(), p.item()) for t, l, p in zip(token_ids, logits, proba)\n",
    "    ][::-1]\n",
    "\n",
    "def get_replace_intervention_batch(\n",
    "    intervention_layer: str,\n",
    "    intervention_indices: List[int],\n",
    "    h_intervention: List[torch.tensor],\n",
    "):\n",
    "    def intervention(output, layer):\n",
    "        if(layer != intervention_layer):\n",
    "            return output\n",
    "        for i in range(len(intervention_indices)):\n",
    "            # replace the hidden state at `(t_pos[i])`th token of `i`th prompt with `h_intervention[i]` \n",
    "            output[0][i][intervention_indices[i]] = h_intervention[i]  \n",
    "            \n",
    "        return output\n",
    "    \n",
    "    return intervention"
   ]
  },
  {
   "cell_type": "code",
   "execution_count": 93,
   "id": "4478b11c",
   "metadata": {},
   "outputs": [],
   "source": [
    "with baukit.TraceDict(\n",
    "    model, [intervention_layer_name],\n",
    "):\n",
    "    output_o = model(**batch_tokenized_o)"
   ]
  },
  {
   "cell_type": "code",
   "execution_count": 94,
   "id": "a51de8f4",
   "metadata": {},
   "outputs": [],
   "source": [
    "answer_indices = batch_tokenized_o['attention_mask'].sum(dim = 1) - 1"
   ]
  },
  {
   "cell_type": "code",
   "execution_count": 95,
   "id": "adb203ea",
   "metadata": {},
   "outputs": [
    {
     "name": "stdout",
     "output_type": "stream",
     "text": [
      "Autonomous University of Madrid is located in the country of  ===>  (' Spain', 16.377225875854492, 0.6641588807106018)\n",
      "Kuala Langat is located in the country of  ===>  (' Malaysia', 18.25891876220703, 0.5825766324996948)\n",
      "Wanne-Eickel Central Station is located in the country of  ===>  (' Germany', 15.945134162902832, 0.21043244004249573)\n",
      "Bastille is located in the country of  ===>  (' France', 14.45266056060791, 0.2441401332616806)\n",
      "Shablykinsky District is located in the country of  ===>  (' Russia', 15.651861190795898, 0.09798916429281235)\n",
      "Valdemarsvik is located in the country of  ===>  (' Sweden', 15.790266990661621, 0.3024168014526367)\n",
      "Attingal is located in the country of  ===>  (' India', 14.69201946258545, 0.1472671777009964)\n",
      "Nizampatnam is located in the country of  ===>  (' India', 17.59539222717285, 0.4073825776576996)\n",
      "Darmstadt is located in the country of  ===>  (' Germany', 16.2531681060791, 0.4313625693321228)\n",
      "Adliswil is located in the country of  ===>  (' Switzerland', 17.879608154296875, 0.7009488344192505)\n",
      "Canada Live is located in the country of  ===>  (' Canada', 16.84209442138672, 0.7337380647659302)\n",
      "Knockmealdown Mountains is located in the country of  ===>  (' Ireland', 16.732301712036133, 0.38265514373779297)\n",
      "Gazzola is located in the country of  ===>  (' Italy', 14.224711418151855, 0.09603741019964218)\n",
      "Borovsky District is located in the country of  ===>  (' Russia', 15.183754920959473, 0.09827623516321182)\n",
      "Kyoto University is located in the country of  ===>  (' Japan', 16.708568572998047, 0.6056042313575745)\n",
      "HSBC Bank Malta is located in the country of  ===>  (' Malta', 18.07572364807129, 0.932995080947876)\n",
      "Chu Lai Base Area is located in the country of  ===>  (' Vietnam', 15.586697578430176, 0.21952426433563232)\n",
      "National Highway 45 is located in the country of  ===>  (' India', 16.25505828857422, 0.27785027027130127)\n",
      "Kfar Giladi is located in the country of  ===>  (' Israel', 17.104801177978516, 0.6329278349876404)\n",
      "Agios Dimitrios is located in the country of  ===>  (' Greece', 15.53442668914795, 0.1647273451089859)\n"
     ]
    }
   ],
   "source": [
    "def interpret_output_batch(logits, token_indices, top_k = 5):\n",
    "    ret = []\n",
    "    for cur_logit, t_idx in zip(logits, token_indices):\n",
    "        token_ids = cur_logit[t_idx].argsort()[-top_k:]\n",
    "        lgts = cur_logit[t_idx][token_ids]\n",
    "        proba = torch.nn.functional.softmax(cur_logit[t_idx], dim = 0)[token_ids]\n",
    "        ret.append([\n",
    "            (tokenizer.decode(t), l.item(), p.item()) for t, l, p in zip(token_ids, lgts, proba)\n",
    "        ][::-1])\n",
    "    return ret\n",
    "\n",
    "interpreted = interpret_output_batch(\n",
    "    outputs_o.logits,\n",
    "    token_indices = batch_tokenized_o['attention_mask'].sum(dim = 1) - 1,\n",
    "    top_k = 5\n",
    ")\n",
    "\n",
    "for prompt, intr in zip(prompts_original_batch, interpreted):\n",
    "    print(prompt, \" ===> \", intr[0])"
   ]
  },
  {
   "cell_type": "code",
   "execution_count": 96,
   "id": "0b1b6262",
   "metadata": {},
   "outputs": [
    {
     "data": {
      "text/plain": [
       "[4, 3, 7, 2, 4, 4, 2, 4, 2, 3, 1, 5, 2, 3, 2, 3, 5, 2, 3, 4]"
      ]
     },
     "execution_count": 96,
     "metadata": {},
     "output_type": "execute_result"
    }
   ],
   "source": [
    "[rng[1] - 1 for rng in subject_original_ranges]"
   ]
  },
  {
   "cell_type": "code",
   "execution_count": 97,
   "id": "0a53c1d6",
   "metadata": {},
   "outputs": [
    {
     "data": {
      "text/plain": [
       "torch.Size([20, 96])"
      ]
     },
     "execution_count": 97,
     "metadata": {},
     "output_type": "execute_result"
    }
   ],
   "source": [
    "target_distribution = []\n",
    "for i in range(batch_size):\n",
    "    a_idx = answer_indices[i]\n",
    "    current_target = torch.nn.functional.log_softmax(output_o.logits[i][a_idx][target_token_ids], dim = 0)\n",
    "    target_distribution.append(current_target)\n",
    "\n",
    "target_distribution = torch.stack(target_distribution, dim = 0)\n",
    "target_distribution.shape"
   ]
  },
  {
   "cell_type": "code",
   "execution_count": 98,
   "id": "345a5114",
   "metadata": {},
   "outputs": [],
   "source": [
    "def logits_to_distribution(logits, answer_indices, target_token_ids = None):\n",
    "    p_distribution = []\n",
    "    for i in range(logits.shape[0]):\n",
    "        a_idx = answer_indices[i]\n",
    "        current_target = torch.nn.functional.log_softmax(logits[i][a_idx][target_token_ids], dim = 0)\n",
    "        p_distribution.append(current_target)\n",
    "\n",
    "    return torch.stack(p_distribution, dim = 0)\n",
    "\n",
    "p_distribution = logits_to_distribution(\n",
    "    outputs_o.logits, \n",
    "    answer_indices = answer_indices,\n",
    "    target_token_ids = target_token_ids\n",
    ")"
   ]
  },
  {
   "cell_type": "code",
   "execution_count": 99,
   "id": "eda1cb6a",
   "metadata": {},
   "outputs": [
    {
     "data": {
      "text/plain": [
       "tensor(0., device='cuda:0')"
      ]
     },
     "execution_count": 99,
     "metadata": {},
     "output_type": "execute_result"
    }
   ],
   "source": [
    "from torch.nn.functional import kl_div\n",
    "\n",
    "kl_div(p_distribution, target_distribution, reduction = \"batchmean\", log_target = True)"
   ]
  },
  {
   "cell_type": "code",
   "execution_count": 100,
   "id": "df3008ec",
   "metadata": {},
   "outputs": [],
   "source": [
    "# predicted_distribution = []\n",
    "# for idx in np.random.permutation(batch_size):\n",
    "# #     print(idx)\n",
    "#     predicted_distribution.append(target_distribution[idx])\n",
    "# predicted_distribution = torch.stack(predicted_distribution, dim = 0)"
   ]
  },
  {
   "cell_type": "code",
   "execution_count": 101,
   "id": "04b8728d",
   "metadata": {},
   "outputs": [],
   "source": [
    "###########################################################\n",
    "num_basis = 100\n",
    "intervention_layer = 10\n",
    "##########################################################\n",
    "\n",
    "intervention_layer_name = mt.layer_name_format.format(intervention_layer)"
   ]
  },
  {
   "cell_type": "code",
   "execution_count": 102,
   "id": "ce341222",
   "metadata": {},
   "outputs": [],
   "source": [
    "def make_subspace_normal(Q, num_epochs = 100, learning_rate = 0.001):\n",
    "    normal_loss = (torch.eye(num_basis).to(model.dtype).to(model.device) - Q.T @ Q).square().sum()\n",
    "    print(f\"initial loss => {normal_loss.item()}\")\n",
    "    \n",
    "    Q.requires_grad = True\n",
    "    optimizer = torch.optim.Adam([Q], lr = learning_rate)\n",
    "    for epoch in tqdm(range(num_epochs)):\n",
    "        subspace = Q @ Q.T\n",
    "        normal_loss = (torch.eye(num_basis).to(model.dtype).to(model.device) - Q.T @ Q).square().sum()\n",
    "        optimizer.zero_grad()\n",
    "        model.zero_grad()\n",
    "        normal_loss.backward()\n",
    "        optimizer.step()\n",
    "    \n",
    "    normal_loss = (torch.eye(num_basis).to(model.dtype).to(model.device) - Q.T @ Q).square().sum()\n",
    "    print(f\"final loss => {normal_loss.item()}\")\n",
    "    return Q"
   ]
  },
  {
   "cell_type": "code",
   "execution_count": 103,
   "id": "ec6352de",
   "metadata": {},
   "outputs": [
    {
     "name": "stdout",
     "output_type": "stream",
     "text": [
      "initial loss => 16463.931640625\n"
     ]
    },
    {
     "data": {
      "application/vnd.jupyter.widget-view+json": {
       "model_id": "60d70ff91a08464690dd136b2f8acb0a",
       "version_major": 2,
       "version_minor": 0
      },
      "text/plain": [
       "  0%|          | 0/300 [00:00<?, ?it/s]"
      ]
     },
     "metadata": {},
     "output_type": "display_data"
    },
    {
     "name": "stdout",
     "output_type": "stream",
     "text": [
      "final loss => 0.8146403431892395\n"
     ]
    },
    {
     "data": {
      "image/png": "[encoded data removed]",
      "text/plain": [
       "<Figure size 640x480 with 2 Axes>"
      ]
     },
     "metadata": {},
     "output_type": "display_data"
    }
   ],
   "source": [
    "####################################\n",
    "num_epochs = 3\n",
    "learning_rate = 0.001\n",
    "normal_lambda = 1\n",
    "batch_size = 20\n",
    "num_basis = 100\n",
    "###################################\n",
    "\n",
    "Q = torch.FloatTensor(mt.n_embd, num_basis).uniform_(-.1, .1).to(model.device)\n",
    "Q.requires_grad = True\n",
    "\n",
    "# Make Q normal before optimizing with KL\n",
    "Q = make_subspace_normal(Q, num_epochs = 300)\n",
    "from util import misc\n",
    "misc.visualize_matrix((Q.T @ Q).detach().cpu())"
   ]
  },
  {
   "cell_type": "code",
   "execution_count": 104,
   "id": "8fbaa79f",
   "metadata": {},
   "outputs": [
    {
     "data": {
      "application/vnd.jupyter.widget-view+json": {
       "model_id": "14b5b134b70f49a193fcfd67df19170c",
       "version_major": 2,
       "version_minor": 0
      },
      "text/plain": [
       "  0%|          | 0/10 [00:00<?, ?it/s]"
      ]
     },
     "metadata": {},
     "output_type": "display_data"
    },
    {
     "name": "stdout",
     "output_type": "stream",
     "text": [
      "Epoch >> 1: 2.3081982135772705 + 0.8146403431892395 = 3.1228384971618652\n",
      "Epoch >> 2: 1.663977026939392 + 0.04700171947479248 = 1.7109787464141846\n",
      "Epoch >> 3: 1.108739972114563 + 0.13523349165916443 = 1.2439734935760498\n",
      "Epoch >> 4: 0.6280838847160339 + 0.28541964292526245 = 0.9135035276412964\n",
      "Epoch >> 5: 0.37704241275787354 + 0.2700986862182617 = 0.6471410989761353\n",
      "Epoch >> 6: 0.2880299985408783 + 0.144524484872818 = 0.4325544834136963\n",
      "Epoch >> 7: 0.24129509925842285 + 0.05204859375953674 = 0.2933436930179596\n",
      "Epoch >> 8: 0.19398348033428192 + 0.06960193812847137 = 0.2635854184627533\n",
      "Epoch >> 9: 0.1471986323595047 + 0.1316547393798828 = 0.2788533568382263\n",
      "Epoch >> 10: 0.10569434612989426 + 0.1403108537197113 = 0.24600520730018616\n"
     ]
    }
   ],
   "source": [
    "optimizer = torch.optim.Adam([Q], lr = learning_rate)\n",
    "\n",
    "num_epochs = 10\n",
    "_lambda = 1\n",
    "\n",
    "loss_track = []\n",
    "\n",
    "\n",
    "for epoch in tqdm(range(num_epochs)):\n",
    "    subspace = Q @ Q.T # <---- current subspace\n",
    "    \n",
    "    # build the h_intervention_batch\n",
    "    I = torch.eye(mt.n_embd).to(model.dtype).to(model.device)\n",
    "    h_intervention_batch = h_original_batch @ subspace + h_corruption_batch @ (I - subspace)\n",
    "    \n",
    "#     print(h_intervention_batch)\n",
    "    \n",
    "    with baukit.TraceDict(\n",
    "        model, [intervention_layer_name],\n",
    "        edit_output = get_replace_intervention_batch(\n",
    "            intervention_layer = intervention_layer_name,\n",
    "            intervention_indices = [rng[1] - 1 for rng in subject_original_ranges],\n",
    "            h_intervention = h_intervention_batch\n",
    "        )\n",
    "    ) as traces_c:\n",
    "        output_c = model(**batch_tokenized_o)\n",
    "        \n",
    "    predicted_distribution = logits_to_distribution(\n",
    "        output_c.logits, \n",
    "        answer_indices = answer_indices,\n",
    "        target_token_ids = target_token_ids\n",
    "    )\n",
    "    \n",
    "    kl_loss = kl_div(predicted_distribution, target_distribution, reduction = \"batchmean\", log_target = True)\n",
    "    normal_loss = (torch.eye(num_basis).to(model.dtype).to(model.device) - Q.T @ Q).square().sum()\n",
    "    loss = kl_loss + _lambda * (normal_loss)\n",
    "    \n",
    "    print(f\"Epoch >> {epoch + 1}: {kl_loss.item()} + {normal_loss.item()} = {loss.item()}\")\n",
    "    \n",
    "    loss_track.append(loss.item())\n",
    "    optimizer.zero_grad()\n",
    "    model.zero_grad()\n",
    "    loss.backward()\n",
    "    optimizer.step()"
   ]
  },
  {
   "cell_type": "code",
   "execution_count": 106,
   "id": "05a1d24c",
   "metadata": {},
   "outputs": [
    {
     "data": {
      "text/plain": [
       "[<matplotlib.lines.Line2D at 0x7f43b8ee2aa0>]"
      ]
     },
     "execution_count": 106,
     "metadata": {},
     "output_type": "execute_result"
    },
    {
     "data": {
      "image/png": "[encoded data removed]",
      "text/plain": [
       "<Figure size 640x480 with 1 Axes>"
      ]
     },
     "metadata": {},
     "output_type": "display_data"
    }
   ],
   "source": [
    "plt.plot(loss_track)"
   ]
  },
  {
   "cell_type": "code",
   "execution_count": 107,
   "id": "c5403b0b",
   "metadata": {},
   "outputs": [
    {
     "data": {
      "image/png": "[encoded data removed]",
      "text/plain": [
       "<Figure size 640x480 with 2 Axes>"
      ]
     },
     "metadata": {},
     "output_type": "display_data"
    }
   ],
   "source": [
    "misc.visualize_matrix((Q @ Q.T).detach().cpu())"
   ]
  },
  {
   "cell_type": "code",
   "execution_count": 108,
   "id": "d6b44f3d",
   "metadata": {},
   "outputs": [],
   "source": [
    "# interpreted = interpret_output_batch(\n",
    "#     output_c.logits,\n",
    "#     token_indices = answer_indices,\n",
    "#     top_k = 5\n",
    "# )\n",
    "\n",
    "# for prompt, intr, corr in zip(prompts_original_batch, interpreted, cf_corrupted):\n",
    "#     print(prompt, \" ===> \", intr[0], \"<<>>\", corr[\"target_true\"][\"str\"])"
   ]
  },
  {
   "cell_type": "code",
   "execution_count": null,
   "id": "7572d255",
   "metadata": {},
   "outputs": [],
   "source": []
  },
  {
   "cell_type": "code",
   "execution_count": null,
   "id": "800de288",
   "metadata": {},
   "outputs": [],
   "source": []
  },
  {
   "cell_type": "code",
   "execution_count": 295,
   "id": "939ef6cc",
   "metadata": {},
   "outputs": [
    {
     "name": "stdout",
     "output_type": "stream",
     "text": [
      "initial loss => 16491.90234375\n"
     ]
    },
    {
     "data": {
      "application/vnd.jupyter.widget-view+json": {
       "model_id": "a1a4bdd65fe949fba2a4d7d681d750f8",
       "version_major": 2,
       "version_minor": 0
      },
      "text/plain": [
       "  0%|          | 0/300 [00:00<?, ?it/s]"
      ]
     },
     "metadata": {},
     "output_type": "display_data"
    },
    {
     "name": "stdout",
     "output_type": "stream",
     "text": [
      "final loss => 0.8169213533401489\n"
     ]
    },
    {
     "data": {
      "image/png": "[encoded data removed]",
      "text/plain": [
       "<Figure size 640x480 with 2 Axes>"
      ]
     },
     "metadata": {},
     "output_type": "display_data"
    }
   ],
   "source": [
    "####################################\n",
    "num_basis = 100\n",
    "intervention_layer = 15\n",
    "# ---------------------------------\n",
    "num_epochs = 10\n",
    "batch_size = 20\n",
    "learning_rate = 0.001\n",
    "normal_lambda = 1\n",
    "###################################\n",
    "\n",
    "Q = torch.FloatTensor(mt.n_embd, num_basis).uniform_(-.1, .1).to(model.device)\n",
    "Q.requires_grad = True\n",
    "\n",
    "# Make Q normal before optimizing with KL\n",
    "Q = make_subspace_normal(Q, num_epochs = 300)\n",
    "from util import misc\n",
    "misc.visualize_matrix((Q.T @ Q).detach().cpu())"
   ]
  },
  {
   "cell_type": "code",
   "execution_count": 296,
   "id": "b5e3cf9a",
   "metadata": {},
   "outputs": [
    {
     "data": {
      "application/vnd.jupyter.widget-view+json": {
       "model_id": "ff984c06c7944f48b982c8fe6b87610d",
       "version_major": 2,
       "version_minor": 0
      },
      "text/plain": [
       "  0%|          | 0/10 [00:00<?, ?it/s]"
      ]
     },
     "metadata": {},
     "output_type": "display_data"
    },
    {
     "name": "stdout",
     "output_type": "stream",
     "text": [
      "Epoch >> 1\n"
     ]
    },
    {
     "data": {
      "application/vnd.jupyter.widget-view+json": {
       "model_id": "e25f3cc507b04181a87e5bb5e1dde349",
       "version_major": 2,
       "version_minor": 0
      },
      "text/plain": [
       "  0%|          | 0/21 [00:00<?, ?it/s]"
      ]
     },
     "metadata": {},
     "output_type": "display_data"
    },
    {
     "name": "stdout",
     "output_type": "stream",
     "text": [
      "0 -- 20 >>> 0 >>> 2.1687259674072266 + 0.8169213533401489 = 2.985647201538086\n",
      "0 -- 20 >>> 1 >>> 2.2874398231506348 + 0.04187893867492676 = 2.3293187618255615\n",
      "0 -- 20 >>> 2 >>> 3.2126424312591553 + 0.14425718784332275 = 3.3568997383117676\n",
      "20 -- 40 >>> 0 >>> 1.573833703994751 + 0.3197263181209564 = 1.8935600519180298\n",
      "20 -- 40 >>> 1 >>> 1.1488945484161377 + 0.32675451040267944 = 1.475649118423462\n",
      "20 -- 40 >>> 2 >>> 1.0662487745285034 + 0.2189432680606842 = 1.2851920127868652\n",
      "40 -- 60 >>> 0 >>> 2.274876356124878 + 0.13666099309921265 = 2.4115374088287354\n",
      "40 -- 60 >>> 1 >>> 1.9454469680786133 + 0.1333680897951126 = 2.07881498336792\n",
      "40 -- 60 >>> 2 >>> 0.9601961374282837 + 0.20552504062652588 = 1.1657211780548096\n",
      "60 -- 80 >>> 0 >>> 1.3725117444992065 + 0.2844730317592621 = 1.656984806060791\n",
      "60 -- 80 >>> 1 >>> 0.89629727602005 + 0.3245311677455902 = 1.2208284139633179\n",
      "60 -- 80 >>> 2 >>> 1.4635798931121826 + 0.2918544113636017 = 1.755434274673462\n",
      "80 -- 100 >>> 0 >>> 0.6228140592575073 + 0.24143338203430176 = 0.8642474412918091\n",
      "80 -- 100 >>> 1 >>> 0.6903260350227356 + 0.17477098107337952 = 0.8650970458984375\n",
      "80 -- 100 >>> 2 >>> 0.4500291049480438 + 0.12528623640537262 = 0.5753153562545776\n",
      "100 -- 120 >>> 0 >>> 1.3998416662216187 + 0.09304565191268921 = 1.492887258529663\n",
      "100 -- 120 >>> 1 >>> 1.6991688013076782 + 0.0797799825668335 = 1.7789487838745117\n",
      "100 -- 120 >>> 2 >>> 1.4566078186035156 + 0.08497031778097153 = 1.5415781736373901\n",
      "120 -- 140 >>> 0 >>> 1.2177348136901855 + 0.09492821991443634 = 1.3126630783081055\n",
      "120 -- 140 >>> 1 >>> 0.7306529879570007 + 0.10449620336294174 = 0.8351491689682007\n",
      "120 -- 140 >>> 2 >>> 0.8184232711791992 + 0.10772307217121124 = 0.9261463284492493\n",
      "140 -- 160 >>> 0 >>> 0.3958183228969574 + 0.11877736449241638 = 0.5145956873893738\n",
      "140 -- 160 >>> 1 >>> 0.37343427538871765 + 0.12739907205104828 = 0.5008333325386047\n",
      "140 -- 160 >>> 2 >>> 0.58008873462677 + 0.12929227948188782 = 0.7093809843063354\n",
      "160 -- 180 >>> 0 >>> 0.7441548705101013 + 0.12766408920288086 = 0.8718189597129822\n",
      "160 -- 180 >>> 1 >>> 0.6530634760856628 + 0.11986978352069855 = 0.7729332447052002\n",
      "160 -- 180 >>> 2 >>> 0.37307414412498474 + 0.11464443802833557 = 0.4877185821533203\n",
      "180 -- 200 >>> 0 >>> 0.8677968978881836 + 0.1171867698431015 = 0.9849836826324463\n",
      "180 -- 200 >>> 1 >>> 0.7543749213218689 + 0.11827057600021362 = 0.8726454973220825\n",
      "180 -- 200 >>> 2 >>> 0.643495500087738 + 0.109464630484581 = 0.7529601454734802\n",
      "200 -- 220 >>> 0 >>> 0.46566149592399597 + 0.09627140313386917 = 0.5619329214096069\n",
      "200 -- 220 >>> 1 >>> 0.3086565136909485 + 0.08091408014297485 = 0.38957059383392334\n",
      "200 -- 220 >>> 2 >>> 0.3082488179206848 + 0.0697723925113678 = 0.3780212104320526\n",
      "220 -- 240 >>> 0 >>> 0.6894218325614929 + 0.06438332796096802 = 0.7538051605224609\n",
      "220 -- 240 >>> 1 >>> 0.9137701988220215 + 0.06548810005187988 = 0.9792582988739014\n",
      "220 -- 240 >>> 2 >>> 0.6226781010627747 + 0.07142845541238785 = 0.6941065788269043\n",
      "240 -- 260 >>> 0 >>> 0.43783947825431824 + 0.07798346132040024 = 0.5158229470252991\n",
      "240 -- 260 >>> 1 >>> 0.34470146894454956 + 0.08222980797290802 = 0.4269312620162964\n",
      "240 -- 260 >>> 2 >>> 0.2929745316505432 + 0.08267460018396378 = 0.3756491243839264\n",
      "260 -- 280 >>> 0 >>> 0.7009718418121338 + 0.07930635660886765 = 0.780278205871582\n",
      "260 -- 280 >>> 1 >>> 0.3239627778530121 + 0.07589413225650787 = 0.39985692501068115\n",
      "260 -- 280 >>> 2 >>> 0.2892584502696991 + 0.07793039828538895 = 0.36718884110450745\n",
      "280 -- 300 >>> 0 >>> 0.2509526014328003 + 0.08220513164997101 = 0.3331577181816101\n",
      "280 -- 300 >>> 1 >>> 0.2352704107761383 + 0.0811978280544281 = 0.3164682388305664\n",
      "280 -- 300 >>> 2 >>> 0.24741797149181366 + 0.07500970363616943 = 0.3224276900291443\n",
      "300 -- 320 >>> 0 >>> 0.7524470686912537 + 0.06914785504341125 = 0.8215949535369873\n",
      "300 -- 320 >>> 1 >>> 0.45464298129081726 + 0.06838628649711609 = 0.5230292677879333\n",
      "300 -- 320 >>> 2 >>> 0.3215067386627197 + 0.07148071378469467 = 0.392987459897995\n",
      "320 -- 340 >>> 0 >>> 1.0813171863555908 + 0.07642289996147156 = 1.1577401161193848\n",
      "320 -- 340 >>> 1 >>> 0.777839183807373 + 0.08499227464199066 = 0.8628314733505249\n",
      "320 -- 340 >>> 2 >>> 0.49472299218177795 + 0.10430029034614563 = 0.5990232825279236\n",
      "340 -- 360 >>> 0 >>> 0.5009509921073914 + 0.12709972262382507 = 0.628050684928894\n",
      "340 -- 360 >>> 1 >>> 0.3619976341724396 + 0.13734908401966095 = 0.4993467330932617\n",
      "340 -- 360 >>> 2 >>> 0.6314591765403748 + 0.13472671806812286 = 0.7661858797073364\n",
      "360 -- 380 >>> 0 >>> 0.15564760565757751 + 0.13064898550510406 = 0.2862966060638428\n",
      "360 -- 380 >>> 1 >>> 0.11741922050714493 + 0.12305119633674622 = 0.24047040939331055\n",
      "360 -- 380 >>> 2 >>> 0.13101248443126678 + 0.11183258146047592 = 0.2428450584411621\n",
      "380 -- 400 >>> 0 >>> 0.1674848049879074 + 0.09862777590751648 = 0.2661125659942627\n",
      "380 -- 400 >>> 1 >>> 0.13651131093502045 + 0.08385999500751495 = 0.2203713059425354\n",
      "380 -- 400 >>> 2 >>> 0.13937532901763916 + 0.07051248848438263 = 0.2098878175020218\n",
      "400 -- 407 >>> 0 >>> 0.2758426368236542 + 0.06137947738170624 = 0.3372220993041992\n",
      "400 -- 407 >>> 1 >>> 0.2378564476966858 + 0.05738328769803047 = 0.29523974657058716\n",
      "400 -- 407 >>> 2 >>> 0.15916752815246582 + 0.06140247359871864 = 0.22056999802589417\n",
      "Epoch >> 2\n"
     ]
    },
    {
     "data": {
      "application/vnd.jupyter.widget-view+json": {
       "model_id": "1f716ff68087495db8cf8b7bf4753354",
       "version_major": 2,
       "version_minor": 0
      },
      "text/plain": [
       "  0%|          | 0/21 [00:00<?, ?it/s]"
      ]
     },
     "metadata": {},
     "output_type": "display_data"
    },
    {
     "name": "stdout",
     "output_type": "stream",
     "text": [
      "0 -- 20 >>> 0 >>> 0.16500291228294373 + 0.07193751633167267 = 0.2369404286146164\n",
      "0 -- 20 >>> 1 >>> 0.18974126875400543 + 0.0787416398525238 = 0.26848292350769043\n",
      "0 -- 20 >>> 2 >>> 0.21060870587825775 + 0.07709890604019165 = 0.2877076268196106\n",
      "20 -- 40 >>> 0 >>> 0.13378457725048065 + 0.06756149977445602 = 0.20134606957435608\n",
      "20 -- 40 >>> 1 >>> 0.16633272171020508 + 0.054059334099292755 = 0.22039204835891724\n",
      "20 -- 40 >>> 2 >>> 0.07642950862646103 + 0.042243823409080505 = 0.11867333203554153\n",
      "40 -- 60 >>> 0 >>> 0.28603145480155945 + 0.03634743019938469 = 0.32237887382507324\n",
      "40 -- 60 >>> 1 >>> 0.17950566112995148 + 0.035888805985450745 = 0.21539446711540222\n",
      "40 -- 60 >>> 2 >>> 0.20610284805297852 + 0.04218664765357971 = 0.24828949570655823\n",
      "60 -- 80 >>> 0 >>> 0.29052719473838806 + 0.051265649497509 = 0.34179285168647766\n",
      "60 -- 80 >>> 1 >>> 0.20941738784313202 + 0.05436266213655472 = 0.26378005743026733\n",
      "60 -- 80 >>> 2 >>> 0.22515983879566193 + 0.05059148371219635 = 0.2757513225078583\n",
      "80 -- 100 >>> 0 >>> 0.17360317707061768 + 0.04262956976890564 = 0.21623274683952332\n",
      "80 -- 100 >>> 1 >>> 0.08034428209066391 + 0.03569977730512619 = 0.1160440593957901\n",
      "80 -- 100 >>> 2 >>> 0.061930861324071884 + 0.0325908325612545 = 0.09452169388532639\n",
      "100 -- 120 >>> 0 >>> 0.31736627221107483 + 0.03296054154634476 = 0.350326806306839\n",
      "100 -- 120 >>> 1 >>> 0.26516616344451904 + 0.03602013364434242 = 0.30118629336357117\n",
      "100 -- 120 >>> 2 >>> 0.23635581135749817 + 0.04505612701177597 = 0.28141194581985474\n",
      "120 -- 140 >>> 0 >>> 0.21277718245983124 + 0.055357594043016434 = 0.2681347727775574\n",
      "120 -- 140 >>> 1 >>> 0.21314631402492523 + 0.059869419783353806 = 0.27301573753356934\n",
      "120 -- 140 >>> 2 >>> 0.08353810012340546 + 0.056873418390750885 = 0.14041152596473694\n",
      "140 -- 160 >>> 0 >>> 0.06541811674833298 + 0.04896651953458786 = 0.11438463628292084\n",
      "140 -- 160 >>> 1 >>> 0.14050689339637756 + 0.0393349826335907 = 0.17984187602996826\n",
      "140 -- 160 >>> 2 >>> 0.16143928468227386 + 0.03222281113266945 = 0.19366209208965302\n",
      "160 -- 180 >>> 0 >>> 0.12716619670391083 + 0.02916775271296501 = 0.15633395314216614\n",
      "160 -- 180 >>> 1 >>> 0.11896038055419922 + 0.029017457738518715 = 0.14797784388065338\n",
      "160 -- 180 >>> 2 >>> 0.1651383489370346 + 0.029072165489196777 = 0.19421051442623138\n",
      "180 -- 200 >>> 0 >>> 0.2894555628299713 + 0.028629643842577934 = 0.3180851936340332\n",
      "180 -- 200 >>> 1 >>> 0.2258804887533188 + 0.0291563980281353 = 0.2550368905067444\n",
      "180 -- 200 >>> 2 >>> 0.26410239934921265 + 0.03046252578496933 = 0.2945649325847626\n",
      "200 -- 220 >>> 0 >>> 0.21306906640529633 + 0.03612145408987999 = 0.2491905242204666\n",
      "200 -- 220 >>> 1 >>> 0.11970632523298264 + 0.0407620407640934 = 0.16046836972236633\n",
      "200 -- 220 >>> 2 >>> 0.11038788408041 + 0.039846714586019516 = 0.15023459494113922\n",
      "220 -- 240 >>> 0 >>> 0.3002758026123047 + 0.03501402586698532 = 0.3352898359298706\n",
      "220 -- 240 >>> 1 >>> 0.30539947748184204 + 0.030163051560521126 = 0.335562527179718\n",
      "220 -- 240 >>> 2 >>> 0.20630088448524475 + 0.02901076339185238 = 0.23531164228916168\n",
      "240 -- 260 >>> 0 >>> 0.12063465267419815 + 0.03322227671742439 = 0.15385693311691284\n",
      "240 -- 260 >>> 1 >>> 0.15066201984882355 + 0.037501100450754166 = 0.18816311657428741\n",
      "240 -- 260 >>> 2 >>> 0.11675117164850235 + 0.03864450752735138 = 0.15539568662643433\n",
      "260 -- 280 >>> 0 >>> 0.17244330048561096 + 0.03647037595510483 = 0.2089136838912964\n",
      "260 -- 280 >>> 1 >>> 0.11348100006580353 + 0.03666459396481514 = 0.15014559030532837\n",
      "260 -- 280 >>> 2 >>> 0.13959935307502747 + 0.03840286657214165 = 0.1780022233724594\n",
      "280 -- 300 >>> 0 >>> 0.05296783521771431 + 0.036379434168338776 = 0.08934727311134338\n",
      "280 -- 300 >>> 1 >>> 0.08251959830522537 + 0.03164951503276825 = 0.11416911333799362\n",
      "280 -- 300 >>> 2 >>> 0.06060245260596275 + 0.02647072821855545 = 0.0870731770992279\n",
      "300 -- 320 >>> 0 >>> 0.14040127396583557 + 0.022744882851839066 = 0.16314615309238434\n",
      "300 -- 320 >>> 1 >>> 0.18937960267066956 + 0.020344678312540054 = 0.2097242772579193\n",
      "300 -- 320 >>> 2 >>> 0.15079759061336517 + 0.019805574789643288 = 0.1706031709909439\n",
      "320 -- 340 >>> 0 >>> 0.09934581816196442 + 0.022139504551887512 = 0.12148532271385193\n",
      "320 -- 340 >>> 1 >>> 0.1174251064658165 + 0.023873787373304367 = 0.14129889011383057\n",
      "320 -- 340 >>> 2 >>> 0.08652930706739426 + 0.02392169088125229 = 0.11045099794864655\n",
      "340 -- 360 >>> 0 >>> 0.2112850695848465 + 0.021826380863785744 = 0.2331114560365677\n",
      "340 -- 360 >>> 1 >>> 0.09808477014303207 + 0.020104333758354187 = 0.11818910390138626\n",
      "340 -- 360 >>> 2 >>> 0.15669111907482147 + 0.0196493212133646 = 0.17634044587612152\n",
      "360 -- 380 >>> 0 >>> 0.08952800184488297 + 0.021204957738518715 = 0.11073295772075653\n",
      "360 -- 380 >>> 1 >>> 0.0555729866027832 + 0.02213069051504135 = 0.07770367711782455\n",
      "360 -- 380 >>> 2 >>> 0.05112702399492264 + 0.02091566100716591 = 0.07204268872737885\n",
      "380 -- 400 >>> 0 >>> 0.04164937138557434 + 0.017216678708791733 = 0.058866050094366074\n",
      "380 -- 400 >>> 1 >>> 0.07844351977109909 + 0.01306478027254343 = 0.09150829911231995\n",
      "380 -- 400 >>> 2 >>> 0.06446944922208786 + 0.01047831866890192 = 0.0749477669596672\n",
      "400 -- 407 >>> 0 >>> 0.07141799479722977 + 0.010442734695971012 = 0.0818607285618782\n",
      "400 -- 407 >>> 1 >>> 0.08648069947957993 + 0.012079525738954544 = 0.09856022894382477\n",
      "400 -- 407 >>> 2 >>> 0.0422830767929554 + 0.01374034397304058 = 0.05602341890335083\n",
      "Epoch >> 3\n"
     ]
    },
    {
     "data": {
      "application/vnd.jupyter.widget-view+json": {
       "model_id": "090428fb9b49458a908e48ee6cbb4bd5",
       "version_major": 2,
       "version_minor": 0
      },
      "text/plain": [
       "  0%|          | 0/21 [00:00<?, ?it/s]"
      ]
     },
     "metadata": {},
     "output_type": "display_data"
    },
    {
     "name": "stdout",
     "output_type": "stream",
     "text": [
      "0 -- 20 >>> 0 >>> 0.2781948447227478 + 0.015070983208715916 = 0.29326581954956055\n",
      "0 -- 20 >>> 1 >>> 0.07675596326589584 + 0.014939351007342339 = 0.09169531613588333\n",
      "0 -- 20 >>> 2 >>> 0.05080823227763176 + 0.013782674446702003 = 0.06459090858697891\n",
      "20 -- 40 >>> 0 >>> 0.08838646858930588 + 0.012129159644246101 = 0.10051562637090683\n",
      "20 -- 40 >>> 1 >>> 0.0718044638633728 + 0.011247796937823296 = 0.08305226266384125\n",
      "20 -- 40 >>> 2 >>> 0.07040231674909592 + 0.01091410405933857 = 0.08131641894578934\n",
      "40 -- 60 >>> 0 >>> 0.06164732202887535 + 0.010230985470116138 = 0.07187830656766891\n",
      "40 -- 60 >>> 1 >>> 0.0961543545126915 + 0.009859234094619751 = 0.10601358860731125\n",
      "40 -- 60 >>> 2 >>> 0.05713862180709839 + 0.010013435035943985 = 0.06715205311775208\n",
      "60 -- 80 >>> 0 >>> 0.16704435646533966 + 0.01007150299847126 = 0.17711585760116577\n",
      "60 -- 80 >>> 1 >>> 0.17715142667293549 + 0.010498283430933952 = 0.1876497119665146\n",
      "60 -- 80 >>> 2 >>> 0.10843169689178467 + 0.013984059914946556 = 0.12241575866937637\n",
      "80 -- 100 >>> 0 >>> 0.06267281621694565 + 0.018195627257227898 = 0.0808684453368187\n",
      "80 -- 100 >>> 1 >>> 0.05701056867837906 + 0.019359007477760315 = 0.07636957615613937\n",
      "80 -- 100 >>> 2 >>> 0.06523362547159195 + 0.016574770212173462 = 0.08180839568376541\n",
      "100 -- 120 >>> 0 >>> 0.09016457945108414 + 0.011807553470134735 = 0.10197213292121887\n",
      "100 -- 120 >>> 1 >>> 0.10066616535186768 + 0.00843069888651371 = 0.10909686237573624\n",
      "100 -- 120 >>> 2 >>> 0.0769810602068901 + 0.008516037836670876 = 0.08549709618091583\n",
      "120 -- 140 >>> 0 >>> 0.08261435478925705 + 0.011044349521398544 = 0.0936587005853653\n",
      "120 -- 140 >>> 1 >>> 0.048148419708013535 + 0.013993211090564728 = 0.06214163079857826\n",
      "120 -- 140 >>> 2 >>> 0.06387173384428024 + 0.014651340432465076 = 0.07852307707071304\n",
      "140 -- 160 >>> 0 >>> 0.05895651504397392 + 0.012402060441672802 = 0.0713585764169693\n",
      "140 -- 160 >>> 1 >>> 0.05619829520583153 + 0.009900590404868126 = 0.0660988837480545\n",
      "140 -- 160 >>> 2 >>> 0.05273914337158203 + 0.009437471628189087 = 0.06217661499977112\n",
      "160 -- 180 >>> 0 >>> 0.07873281091451645 + 0.011466662399470806 = 0.09019947052001953\n",
      "160 -- 180 >>> 1 >>> 0.06673746556043625 + 0.012950241565704346 = 0.0796877071261406\n",
      "160 -- 180 >>> 2 >>> 0.08700870722532272 + 0.012501700781285763 = 0.09951040893793106\n",
      "180 -- 200 >>> 0 >>> 0.09166921675205231 + 0.009800953790545464 = 0.10147017240524292\n",
      "180 -- 200 >>> 1 >>> 0.08483684062957764 + 0.0077437786385416985 = 0.09258061647415161\n",
      "180 -- 200 >>> 2 >>> 0.1200982853770256 + 0.007935801520943642 = 0.1280340850353241\n",
      "200 -- 220 >>> 0 >>> 0.10961192101240158 + 0.010404142551124096 = 0.12001606076955795\n",
      "200 -- 220 >>> 1 >>> 0.05892029032111168 + 0.015160378068685532 = 0.07408066838979721\n",
      "200 -- 220 >>> 2 >>> 0.06534838676452637 + 0.019073037430644035 = 0.08442142605781555\n",
      "220 -- 240 >>> 0 >>> 0.1663295477628708 + 0.018055226653814316 = 0.1843847781419754\n",
      "220 -- 240 >>> 1 >>> 0.1360752135515213 + 0.014841929078102112 = 0.1509171426296234\n",
      "220 -- 240 >>> 2 >>> 0.12182968854904175 + 0.014537004753947258 = 0.13636669516563416\n",
      "240 -- 260 >>> 0 >>> 0.08887624740600586 + 0.01628412865102291 = 0.10516037791967392\n",
      "240 -- 260 >>> 1 >>> 0.03471441939473152 + 0.01824682205915451 = 0.05296124145388603\n",
      "240 -- 260 >>> 2 >>> 0.05413221940398216 + 0.0181119441986084 = 0.07224416732788086\n",
      "260 -- 280 >>> 0 >>> 0.08947373181581497 + 0.015436336398124695 = 0.10491006821393967\n",
      "260 -- 280 >>> 1 >>> 0.11051266640424728 + 0.012720810249447823 = 0.12323347479104996\n",
      "260 -- 280 >>> 2 >>> 0.1390203982591629 + 0.01300022192299366 = 0.1520206183195114\n",
      "280 -- 300 >>> 0 >>> 0.031999390572309494 + 0.014557557180523872 = 0.046556949615478516\n",
      "280 -- 300 >>> 1 >>> 0.053532738238573074 + 0.01607397571206093 = 0.069606713950634\n",
      "280 -- 300 >>> 2 >>> 0.026887688785791397 + 0.015858743339776993 = 0.04274643212556839\n",
      "300 -- 320 >>> 0 >>> 0.08431925624608994 + 0.013612627983093262 = 0.0979318842291832\n",
      "300 -- 320 >>> 1 >>> 0.09270681440830231 + 0.011348458006978035 = 0.10405527055263519\n",
      "300 -- 320 >>> 2 >>> 0.1093166396021843 + 0.011295042932033539 = 0.12061168253421783\n",
      "320 -- 340 >>> 0 >>> 0.09635330736637115 + 0.01366882398724556 = 0.11002212762832642\n",
      "320 -- 340 >>> 1 >>> 0.08133507519960403 + 0.015370506793260574 = 0.09670558571815491\n",
      "320 -- 340 >>> 2 >>> 0.07938378304243088 + 0.014889910817146301 = 0.09427369385957718\n",
      "340 -- 360 >>> 0 >>> 0.0662660002708435 + 0.012203367426991463 = 0.07846936583518982\n",
      "340 -- 360 >>> 1 >>> 0.09753667563199997 + 0.00939747504889965 = 0.10693415254354477\n",
      "340 -- 360 >>> 2 >>> 0.284525066614151 + 0.011577688157558441 = 0.29610276222229004\n",
      "360 -- 380 >>> 0 >>> 0.10153883695602417 + 0.017863068729639053 = 0.11940190196037292\n",
      "360 -- 380 >>> 1 >>> 0.08482977002859116 + 0.021423036232590675 = 0.10625280439853668\n",
      "360 -- 380 >>> 2 >>> 0.07303017377853394 + 0.01975347474217415 = 0.09278364479541779\n",
      "380 -- 400 >>> 0 >>> 0.04369155317544937 + 0.014285186305642128 = 0.05797673761844635\n",
      "380 -- 400 >>> 1 >>> 0.060443587601184845 + 0.010201307944953442 = 0.07064489275217056\n",
      "380 -- 400 >>> 2 >>> 0.0571785531938076 + 0.009751364588737488 = 0.06692992150783539\n",
      "400 -- 407 >>> 0 >>> 0.08012761175632477 + 0.011883104220032692 = 0.09201071411371231\n",
      "400 -- 407 >>> 1 >>> 0.06513774394989014 + 0.013771364465355873 = 0.07890910655260086\n",
      "400 -- 407 >>> 2 >>> 0.058764927089214325 + 0.017128730192780495 = 0.07589365541934967\n",
      "Epoch >> 4\n"
     ]
    },
    {
     "data": {
      "application/vnd.jupyter.widget-view+json": {
       "model_id": "c537390e6fef4a31965e1b118c8d3497",
       "version_major": 2,
       "version_minor": 0
      },
      "text/plain": [
       "  0%|          | 0/21 [00:00<?, ?it/s]"
      ]
     },
     "metadata": {},
     "output_type": "display_data"
    },
    {
     "name": "stdout",
     "output_type": "stream",
     "text": [
      "0 -- 20 >>> 0 >>> 0.033047545701265335 + 0.020439092069864273 = 0.05348663777112961\n",
      "0 -- 20 >>> 1 >>> 0.03024229407310486 + 0.02031966857612133 = 0.05056196451187134\n",
      "0 -- 20 >>> 2 >>> 0.03555986285209656 + 0.01635502278804779 = 0.05191488564014435\n",
      "20 -- 40 >>> 0 >>> 0.06564550846815109 + 0.011448552832007408 = 0.07709406316280365\n",
      "20 -- 40 >>> 1 >>> 0.07066822797060013 + 0.009340653195977211 = 0.08000887930393219\n",
      "20 -- 40 >>> 2 >>> 0.052329182624816895 + 0.011351280845701694 = 0.06368046253919601\n",
      "40 -- 60 >>> 0 >>> 0.0788470134139061 + 0.013664307072758675 = 0.09251131862401962\n",
      "40 -- 60 >>> 1 >>> 0.06258632242679596 + 0.015099678188562393 = 0.07768599689006805\n",
      "40 -- 60 >>> 2 >>> 0.06082484871149063 + 0.014057468622922897 = 0.07488231360912323\n",
      "60 -- 80 >>> 0 >>> 0.07675722986459732 + 0.01196986623108387 = 0.08872709423303604\n",
      "60 -- 80 >>> 1 >>> 0.13312049210071564 + 0.009719457477331161 = 0.1428399533033371\n",
      "60 -- 80 >>> 2 >>> 0.07728233188390732 + 0.012223211117088795 = 0.08950554579496384\n",
      "80 -- 100 >>> 0 >>> 0.02930372767150402 + 0.019070424139499664 = 0.048374153673648834\n",
      "80 -- 100 >>> 1 >>> 0.045266106724739075 + 0.023294173181056976 = 0.06856027990579605\n",
      "80 -- 100 >>> 2 >>> 0.0533909872174263 + 0.020482897758483887 = 0.07387388497591019\n",
      "100 -- 120 >>> 0 >>> 0.12308221310377121 + 0.013995826244354248 = 0.13707804679870605\n",
      "100 -- 120 >>> 1 >>> 0.08243310451507568 + 0.00988793559372425 = 0.09232103824615479\n",
      "100 -- 120 >>> 2 >>> 0.08522694557905197 + 0.011328399181365967 = 0.09655534476041794\n",
      "120 -- 140 >>> 0 >>> 0.03785376623272896 + 0.015822507441043854 = 0.05367627367377281\n",
      "120 -- 140 >>> 1 >>> 0.047812122851610184 + 0.01812870055437088 = 0.06594082713127136\n",
      "120 -- 140 >>> 2 >>> 0.04036732763051987 + 0.015933800488710403 = 0.05630112811923027\n",
      "140 -- 160 >>> 0 >>> 0.08565132319927216 + 0.011862851679325104 = 0.09751417487859726\n",
      "140 -- 160 >>> 1 >>> 0.06338732689619064 + 0.009515547193586826 = 0.0729028731584549\n",
      "140 -- 160 >>> 2 >>> 0.0638987347483635 + 0.010148245841264725 = 0.07404698431491852\n",
      "160 -- 180 >>> 0 >>> 0.07459639757871628 + 0.012407887727022171 = 0.08700428903102875\n",
      "160 -- 180 >>> 1 >>> 0.08960223942995071 + 0.014606518670916557 = 0.10420875996351242\n",
      "160 -- 180 >>> 2 >>> 0.1077481061220169 + 0.01627464033663273 = 0.12402274459600449\n",
      "180 -- 200 >>> 0 >>> 0.1155824214220047 + 0.014286205172538757 = 0.12986862659454346\n",
      "180 -- 200 >>> 1 >>> 0.12812139093875885 + 0.011610226705670357 = 0.13973161578178406\n",
      "180 -- 200 >>> 2 >>> 0.09927333891391754 + 0.013822540640830994 = 0.11309587955474854\n",
      "200 -- 220 >>> 0 >>> 0.06596464663743973 + 0.02141426131129265 = 0.08737890422344208\n",
      "200 -- 220 >>> 1 >>> 0.068362295627594 + 0.02680075541138649 = 0.09516304731369019\n",
      "200 -- 220 >>> 2 >>> 0.05278486758470535 + 0.025484029203653336 = 0.07826890051364899\n",
      "220 -- 240 >>> 0 >>> 0.12363580614328384 + 0.019165366888046265 = 0.1428011655807495\n",
      "220 -- 240 >>> 1 >>> 0.1012493371963501 + 0.014063987880945206 = 0.115313321352005\n",
      "220 -- 240 >>> 2 >>> 0.10871043056249619 + 0.01457923837006092 = 0.12328966706991196\n",
      "240 -- 260 >>> 0 >>> 0.049372874200344086 + 0.019967269152402878 = 0.06934013962745667\n",
      "240 -- 260 >>> 1 >>> 0.05322848632931709 + 0.024442069232463837 = 0.07767055928707123\n",
      "240 -- 260 >>> 2 >>> 0.08818935602903366 + 0.022743195295333862 = 0.11093255132436752\n",
      "260 -- 280 >>> 0 >>> 0.059692420065402985 + 0.01740199327468872 = 0.0770944133400917\n",
      "260 -- 280 >>> 1 >>> 0.06287222355604172 + 0.01332937367260456 = 0.07620159536600113\n",
      "260 -- 280 >>> 2 >>> 0.08534570783376694 + 0.012609007768332958 = 0.09795471280813217\n",
      "280 -- 300 >>> 0 >>> 0.041755449026823044 + 0.014795923605561256 = 0.05655137449502945\n",
      "280 -- 300 >>> 1 >>> 0.025811513885855675 + 0.01668180339038372 = 0.042493317276239395\n",
      "280 -- 300 >>> 2 >>> 0.04027199372649193 + 0.01528024859726429 = 0.05555224418640137\n",
      "300 -- 320 >>> 0 >>> 0.10068082809448242 + 0.01179729588329792 = 0.11247812211513519\n",
      "300 -- 320 >>> 1 >>> 0.08555256575345993 + 0.009075362235307693 = 0.09462793171405792\n",
      "300 -- 320 >>> 2 >>> 0.08589895814657211 + 0.009068215265870094 = 0.09496717154979706\n",
      "320 -- 340 >>> 0 >>> 0.0939086303114891 + 0.011336833238601685 = 0.10524546355009079\n",
      "320 -- 340 >>> 1 >>> 0.07797301560640335 + 0.014978211373090744 = 0.0929512232542038\n",
      "320 -- 340 >>> 2 >>> 0.08751421421766281 + 0.017473766580224037 = 0.1049879789352417\n",
      "340 -- 360 >>> 0 >>> 0.06480091065168381 + 0.018107276409864426 = 0.08290818333625793\n",
      "340 -- 360 >>> 1 >>> 0.05826817825436592 + 0.01643344573676586 = 0.07470162212848663\n",
      "340 -- 360 >>> 2 >>> 0.03872165083885193 + 0.014010927639901638 = 0.05273257941007614\n",
      "360 -- 380 >>> 0 >>> 0.06667330116033554 + 0.012010371312499046 = 0.07868367433547974\n",
      "360 -- 380 >>> 1 >>> 0.057187628000974655 + 0.01181289553642273 = 0.06900052726268768\n",
      "360 -- 380 >>> 2 >>> 0.06177190691232681 + 0.012730826623737812 = 0.07450273633003235\n",
      "380 -- 400 >>> 0 >>> 0.09673698991537094 + 0.014101867564022541 = 0.1108388602733612\n",
      "380 -- 400 >>> 1 >>> 0.06369519233703613 + 0.01388358324766159 = 0.07757877558469772\n",
      "380 -- 400 >>> 2 >>> 0.07122129201889038 + 0.014623665250837803 = 0.08584495633840561\n",
      "400 -- 407 >>> 0 >>> 0.10224393755197525 + 0.015558145008981228 = 0.11780208349227905\n",
      "400 -- 407 >>> 1 >>> 0.08580154925584793 + 0.01526625081896782 = 0.10106779634952545\n",
      "400 -- 407 >>> 2 >>> 0.046130623668432236 + 0.02265743538737297 = 0.0687880590558052\n",
      "Epoch >> 5\n"
     ]
    },
    {
     "data": {
      "application/vnd.jupyter.widget-view+json": {
       "model_id": "37f25464ba7841a5bf9ab0e42731d5e1",
       "version_major": 2,
       "version_minor": 0
      },
      "text/plain": [
       "  0%|          | 0/21 [00:00<?, ?it/s]"
      ]
     },
     "metadata": {},
     "output_type": "display_data"
    },
    {
     "name": "stdout",
     "output_type": "stream",
     "text": [
      "0 -- 20 >>> 0 >>> 0.06277339905500412 + 0.036437951028347015 = 0.09921135008335114\n",
      "0 -- 20 >>> 1 >>> 0.052971601486206055 + 0.04016704857349396 = 0.09313865005970001\n",
      "0 -- 20 >>> 2 >>> 0.04654916748404503 + 0.03059232234954834 = 0.07714149355888367\n",
      "20 -- 40 >>> 0 >>> 0.09827093034982681 + 0.01803499460220337 = 0.11630592495203018\n",
      "20 -- 40 >>> 1 >>> 0.056122418493032455 + 0.014472970739006996 = 0.0705953910946846\n",
      "20 -- 40 >>> 2 >>> 0.04574600234627724 + 0.021375706419348717 = 0.0671217069029808\n",
      "40 -- 60 >>> 0 >>> 0.07297094911336899 + 0.027719641104340553 = 0.10069058835506439\n",
      "40 -- 60 >>> 1 >>> 0.09198125451803207 + 0.02639945223927498 = 0.11838071048259735\n",
      "40 -- 60 >>> 2 >>> 0.06984157860279083 + 0.020293530076742172 = 0.0901351124048233\n",
      "60 -- 80 >>> 0 >>> 0.13493794202804565 + 0.015485532581806183 = 0.15042346715927124\n",
      "60 -- 80 >>> 1 >>> 0.13593311607837677 + 0.015189392492175102 = 0.15112251043319702\n",
      "60 -- 80 >>> 2 >>> 0.1488758772611618 + 0.018982388079166412 = 0.1678582727909088\n",
      "80 -- 100 >>> 0 >>> 0.05802511051297188 + 0.023611916229128838 = 0.08163702487945557\n",
      "80 -- 100 >>> 1 >>> 0.03634876012802124 + 0.025605712085962296 = 0.061954472213983536\n",
      "80 -- 100 >>> 2 >>> 0.052324991673231125 + 0.021625511348247528 = 0.07395049929618835\n",
      "100 -- 120 >>> 0 >>> 0.3108147978782654 + 0.014966673217713833 = 0.3257814645767212\n",
      "100 -- 120 >>> 1 >>> 0.13952264189720154 + 0.01339881680905819 = 0.15292145311832428\n",
      "100 -- 120 >>> 2 >>> 0.1086530014872551 + 0.026222018525004387 = 0.13487501442432404\n",
      "120 -- 140 >>> 0 >>> 0.09380828589200974 + 0.03917546942830086 = 0.1329837590456009\n",
      "120 -- 140 >>> 1 >>> 0.2113955020904541 + 0.03929496183991432 = 0.2506904602050781\n",
      "120 -- 140 >>> 2 >>> 0.04695545509457588 + 0.029226139187812805 = 0.07618159055709839\n",
      "140 -- 160 >>> 0 >>> 0.059235669672489166 + 0.019890595227479935 = 0.0791262686252594\n",
      "140 -- 160 >>> 1 >>> 0.038087762892246246 + 0.01791936531662941 = 0.056007128208875656\n",
      "140 -- 160 >>> 2 >>> 0.0518857017159462 + 0.02196478843688965 = 0.07385049015283585\n",
      "160 -- 180 >>> 0 >>> 0.1085691824555397 + 0.024723272770643234 = 0.13329245150089264\n",
      "160 -- 180 >>> 1 >>> 0.1005457416176796 + 0.023426063358783722 = 0.12397180497646332\n",
      "160 -- 180 >>> 2 >>> 0.08858361095190048 + 0.02137543261051178 = 0.10995904356241226\n",
      "180 -- 200 >>> 0 >>> 0.0942452922463417 + 0.019808517768979073 = 0.11405380815267563\n",
      "180 -- 200 >>> 1 >>> 0.11485064029693604 + 0.01920594461262226 = 0.13405658304691315\n",
      "180 -- 200 >>> 2 >>> 0.10351666063070297 + 0.020092319697141647 = 0.12360897660255432\n",
      "200 -- 220 >>> 0 >>> 0.08396053314208984 + 0.021442700177431107 = 0.10540322959423065\n",
      "200 -- 220 >>> 1 >>> 0.08479607850313187 + 0.021188102662563324 = 0.10598418116569519\n",
      "200 -- 220 >>> 2 >>> 0.08979670703411102 + 0.019333012402057648 = 0.10912971943616867\n",
      "220 -- 240 >>> 0 >>> 0.10736310482025146 + 0.019220085814595222 = 0.12658318877220154\n",
      "220 -- 240 >>> 1 >>> 0.1307963728904724 + 0.022418539971113205 = 0.15321491658687592\n",
      "220 -- 240 >>> 2 >>> 0.08226694166660309 + 0.026242826133966446 = 0.10850976407527924\n",
      "240 -- 260 >>> 0 >>> 0.051682259887456894 + 0.026024986058473587 = 0.07770724594593048\n",
      "240 -- 260 >>> 1 >>> 0.05350727587938309 + 0.022035174071788788 = 0.07554244995117188\n",
      "240 -- 260 >>> 2 >>> 0.033712130039930344 + 0.017396030947566032 = 0.05110815912485123\n",
      "260 -- 280 >>> 0 >>> 0.14135824143886566 + 0.016166958957910538 = 0.1575251966714859\n",
      "260 -- 280 >>> 1 >>> 0.15488827228546143 + 0.019182544201612473 = 0.1740708202123642\n",
      "260 -- 280 >>> 2 >>> 0.06784956157207489 + 0.029480108991265297 = 0.09732966870069504\n",
      "280 -- 300 >>> 0 >>> 0.05075621232390404 + 0.04206468164920807 = 0.0928208976984024\n",
      "280 -- 300 >>> 1 >>> 0.0342322401702404 + 0.04024242237210274 = 0.07447466254234314\n",
      "280 -- 300 >>> 2 >>> 0.044404711574316025 + 0.026766274124383926 = 0.07117098569869995\n",
      "300 -- 320 >>> 0 >>> 0.07191002368927002 + 0.015581014566123486 = 0.08749103546142578\n",
      "300 -- 320 >>> 1 >>> 0.08992237597703934 + 0.015018872916698456 = 0.10494124889373779\n",
      "300 -- 320 >>> 2 >>> 0.07330460846424103 + 0.023040685802698135 = 0.09634529054164886\n",
      "320 -- 340 >>> 0 >>> 0.06548918038606644 + 0.028352590277791023 = 0.09384176880121231\n",
      "320 -- 340 >>> 1 >>> 0.08857055753469467 + 0.02408754453063011 = 0.11265809834003448\n",
      "320 -- 340 >>> 2 >>> 0.06372958421707153 + 0.016683321446180344 = 0.08041290938854218\n",
      "340 -- 360 >>> 0 >>> 0.07270344346761703 + 0.013634884729981422 = 0.08633832633495331\n",
      "340 -- 360 >>> 1 >>> 0.08205034583806992 + 0.01568560115993023 = 0.0977359488606453\n",
      "340 -- 360 >>> 2 >>> 0.05401846766471863 + 0.02003469690680504 = 0.07405316829681396\n",
      "360 -- 380 >>> 0 >>> 0.10151048004627228 + 0.021255284547805786 = 0.12276576459407806\n",
      "360 -- 380 >>> 1 >>> 0.07690540701150894 + 0.018760988488793373 = 0.09566639363765717\n",
      "360 -- 380 >>> 2 >>> 0.06095513701438904 + 0.017484150826931 = 0.07843928784132004\n",
      "380 -- 400 >>> 0 >>> 0.04506925866007805 + 0.01885898783802986 = 0.06392824649810791\n",
      "380 -- 400 >>> 1 >>> 0.033360496163368225 + 0.01929299160838127 = 0.052653487771749496\n",
      "380 -- 400 >>> 2 >>> 0.0420905277132988 + 0.016792690381407738 = 0.058883219957351685\n",
      "400 -- 407 >>> 0 >>> 0.08630552887916565 + 0.01318780891597271 = 0.09949333965778351\n",
      "400 -- 407 >>> 1 >>> 0.06608791649341583 + 0.0137966088950634 = 0.07988452911376953\n",
      "400 -- 407 >>> 2 >>> 0.08547565340995789 + 0.018916137516498566 = 0.10439179092645645\n",
      "Epoch >> 6\n"
     ]
    },
    {
     "data": {
      "application/vnd.jupyter.widget-view+json": {
       "model_id": "c138c1a4ff0f40f082c97fc60620a1c1",
       "version_major": 2,
       "version_minor": 0
      },
      "text/plain": [
       "  0%|          | 0/21 [00:00<?, ?it/s]"
      ]
     },
     "metadata": {},
     "output_type": "display_data"
    },
    {
     "name": "stdout",
     "output_type": "stream",
     "text": [
      "0 -- 20 >>> 0 >>> 0.04885914921760559 + 0.02480287104845047 = 0.07366202026605606\n",
      "0 -- 20 >>> 1 >>> 0.07706653326749802 + 0.02294115722179413 = 0.10000769048929214\n",
      "0 -- 20 >>> 2 >>> 0.06525402516126633 + 0.01674044132232666 = 0.08199446648359299\n",
      "20 -- 40 >>> 0 >>> 0.103826142847538 + 0.019018232822418213 = 0.12284437566995621\n",
      "20 -- 40 >>> 1 >>> 0.09355484694242477 + 0.026771940290927887 = 0.12032678723335266\n",
      "20 -- 40 >>> 2 >>> 0.04638583958148956 + 0.03545954078435898 = 0.08184538036584854\n",
      "40 -- 60 >>> 0 >>> 0.06067204475402832 + 0.03289839252829552 = 0.09357044100761414\n",
      "40 -- 60 >>> 1 >>> 0.04332861304283142 + 0.02256776951253414 = 0.06589638441801071\n",
      "40 -- 60 >>> 2 >>> 0.06322934478521347 + 0.015413956716656685 = 0.078643299639225\n",
      "60 -- 80 >>> 0 >>> 0.11474142223596573 + 0.015303108841180801 = 0.13004453480243683\n",
      "60 -- 80 >>> 1 >>> 0.09411491453647614 + 0.019171584397554398 = 0.11328649520874023\n",
      "60 -- 80 >>> 2 >>> 0.08971373736858368 + 0.023066826164722443 = 0.11278056353330612\n",
      "80 -- 100 >>> 0 >>> 0.0473041795194149 + 0.02486196532845497 = 0.07216614484786987\n",
      "80 -- 100 >>> 1 >>> 0.030836215242743492 + 0.02426484227180481 = 0.05510105937719345\n",
      "80 -- 100 >>> 2 >>> 0.03959139809012413 + 0.021307501941919327 = 0.06089890003204346\n",
      "100 -- 120 >>> 0 >>> 0.06283978372812271 + 0.017465543001890182 = 0.0803053230047226\n",
      "100 -- 120 >>> 1 >>> 0.06606601923704147 + 0.014678114093840122 = 0.08074413239955902\n",
      "100 -- 120 >>> 2 >>> 0.09249014407396317 + 0.014252595603466034 = 0.1067427396774292\n",
      "120 -- 140 >>> 0 >>> 0.06478844583034515 + 0.016105061396956444 = 0.08089350908994675\n",
      "120 -- 140 >>> 1 >>> 0.09652725607156754 + 0.017624245956540108 = 0.1141515001654625\n",
      "120 -- 140 >>> 2 >>> 0.04087335988879204 + 0.019019829109311104 = 0.05989319086074829\n",
      "140 -- 160 >>> 0 >>> 0.041310328990221024 + 0.020778749138116837 = 0.06208907812833786\n",
      "140 -- 160 >>> 1 >>> 0.05282706022262573 + 0.01984456181526184 = 0.07267162203788757\n",
      "140 -- 160 >>> 2 >>> 0.04059165343642235 + 0.01767798513174057 = 0.05826963856816292\n",
      "160 -- 180 >>> 0 >>> 0.09562244266271591 + 0.015985403209924698 = 0.11160784959793091\n",
      "160 -- 180 >>> 1 >>> 0.09387816488742828 + 0.015293873846530914 = 0.1091720387339592\n",
      "160 -- 180 >>> 2 >>> 0.08599250763654709 + 0.016727767884731293 = 0.10272027552127838\n",
      "180 -- 200 >>> 0 >>> 0.0768129900097847 + 0.018394777551293373 = 0.09520776569843292\n",
      "180 -- 200 >>> 1 >>> 0.09331344068050385 + 0.018127037212252617 = 0.11144047975540161\n",
      "180 -- 200 >>> 2 >>> 0.09718861430883408 + 0.018547333776950836 = 0.11573594808578491\n",
      "200 -- 220 >>> 0 >>> 0.1096700057387352 + 0.01899891346693039 = 0.1286689192056656\n",
      "200 -- 220 >>> 1 >>> 0.07210393249988556 + 0.023675821721553802 = 0.09577975422143936\n",
      "200 -- 220 >>> 2 >>> 0.049863096326589584 + 0.031173082068562508 = 0.08103618025779724\n",
      "220 -- 240 >>> 0 >>> 0.16784970462322235 + 0.03365606069564819 = 0.20150576531887054\n",
      "220 -- 240 >>> 1 >>> 0.11287830024957657 + 0.02963923290371895 = 0.14251753687858582\n",
      "220 -- 240 >>> 2 >>> 0.07987465709447861 + 0.030100565403699875 = 0.10997521877288818\n",
      "240 -- 260 >>> 0 >>> 0.04284624755382538 + 0.03520556539297104 = 0.07805181294679642\n",
      "240 -- 260 >>> 1 >>> 0.069830022752285 + 0.03664451465010643 = 0.10647453367710114\n",
      "240 -- 260 >>> 2 >>> 0.037499330937862396 + 0.031201664358377457 = 0.06870099902153015\n",
      "260 -- 280 >>> 0 >>> 0.0941661149263382 + 0.023333841934800148 = 0.1174999549984932\n",
      "260 -- 280 >>> 1 >>> 0.0962228998541832 + 0.019443457946181297 = 0.11566635966300964\n",
      "260 -- 280 >>> 2 >>> 0.10075366497039795 + 0.02090737223625183 = 0.12166103720664978\n",
      "280 -- 300 >>> 0 >>> 0.031886253505945206 + 0.024435317143797874 = 0.05632156878709793\n",
      "280 -- 300 >>> 1 >>> 0.03835316374897957 + 0.024775948375463486 = 0.06312911212444305\n",
      "280 -- 300 >>> 2 >>> 0.03277174383401871 + 0.02057688683271408 = 0.05334863066673279\n",
      "300 -- 320 >>> 0 >>> 0.16733413934707642 + 0.015382836572825909 = 0.1827169805765152\n",
      "300 -- 320 >>> 1 >>> 0.050451088696718216 + 0.013957887887954712 = 0.06440897285938263\n",
      "300 -- 320 >>> 2 >>> 0.06401199102401733 + 0.019310301169753075 = 0.08332229405641556\n",
      "320 -- 340 >>> 0 >>> 0.08862128108739853 + 0.026612265035510063 = 0.11523354798555374\n",
      "320 -- 340 >>> 1 >>> 0.04853597283363342 + 0.029225803911685944 = 0.07776177674531937\n",
      "320 -- 340 >>> 2 >>> 0.09701661020517349 + 0.026866953819990158 = 0.12388356029987335\n",
      "340 -- 360 >>> 0 >>> 0.04575474187731743 + 0.03475353494286537 = 0.0805082768201828\n",
      "340 -- 360 >>> 1 >>> 0.050976015627384186 + 0.04386057332158089 = 0.09483659267425537\n",
      "340 -- 360 >>> 2 >>> 0.03139746934175491 + 0.039574556052684784 = 0.0709720253944397\n",
      "360 -- 380 >>> 0 >>> 0.08531560748815536 + 0.0250909011811018 = 0.11040651053190231\n",
      "360 -- 380 >>> 1 >>> 0.06670309603214264 + 0.016335465013980865 = 0.0830385610461235\n",
      "360 -- 380 >>> 2 >>> 0.04182862862944603 + 0.02031424082815647 = 0.06214287132024765\n",
      "380 -- 400 >>> 0 >>> 0.04594961926341057 + 0.028603650629520416 = 0.07455326616764069\n",
      "380 -- 400 >>> 1 >>> 0.035378873348236084 + 0.02935393899679184 = 0.06473281234502792\n",
      "380 -- 400 >>> 2 >>> 0.03606255352497101 + 0.021823329851031303 = 0.05788588523864746\n",
      "400 -- 407 >>> 0 >>> 0.13119029998779297 + 0.013882563449442387 = 0.14507286250591278\n",
      "400 -- 407 >>> 1 >>> 0.07767157256603241 + 0.017224812880158424 = 0.09489638358354568\n",
      "400 -- 407 >>> 2 >>> 0.03405969217419624 + 0.03960080444812775 = 0.07366049289703369\n",
      "Epoch >> 7\n"
     ]
    },
    {
     "data": {
      "application/vnd.jupyter.widget-view+json": {
       "model_id": "3bbe61491ed64cf0b464461b0b9efcca",
       "version_major": 2,
       "version_minor": 0
      },
      "text/plain": [
       "  0%|          | 0/21 [00:00<?, ?it/s]"
      ]
     },
     "metadata": {},
     "output_type": "display_data"
    },
    {
     "name": "stdout",
     "output_type": "stream",
     "text": [
      "0 -- 20 >>> 0 >>> 0.05214039236307144 + 0.061670731753110886 = 0.11381112039089203\n",
      "0 -- 20 >>> 1 >>> 0.05245247110724449 + 0.05692169815301895 = 0.10937416553497314\n",
      "0 -- 20 >>> 2 >>> 0.048820171505212784 + 0.032137371599674225 = 0.08095754683017731\n",
      "20 -- 40 >>> 0 >>> 0.09023349732160568 + 0.015549317002296448 = 0.10578281432390213\n",
      "20 -- 40 >>> 1 >>> 0.05247325822710991 + 0.021502608433365822 = 0.07397586852312088\n",
      "20 -- 40 >>> 2 >>> 0.04573642835021019 + 0.0361117348074913 = 0.0818481594324112\n",
      "40 -- 60 >>> 0 >>> 0.061679907143116 + 0.040149420499801636 = 0.10182932764291763\n",
      "40 -- 60 >>> 1 >>> 0.07881315797567368 + 0.029965892434120178 = 0.10877905040979385\n",
      "40 -- 60 >>> 2 >>> 0.08077501505613327 + 0.02162359096109867 = 0.10239860415458679\n",
      "60 -- 80 >>> 0 >>> 0.14455600082874298 + 0.024616463109850883 = 0.169172465801239\n",
      "60 -- 80 >>> 1 >>> 0.1678718775510788 + 0.0331934355199337 = 0.2010653167963028\n",
      "60 -- 80 >>> 2 >>> 0.1356261521577835 + 0.03761554881930351 = 0.17324170470237732\n",
      "80 -- 100 >>> 0 >>> 0.032882723957300186 + 0.03753625229001045 = 0.07041897624731064\n",
      "80 -- 100 >>> 1 >>> 0.0685514509677887 + 0.033105142414569855 = 0.10165659338235855\n",
      "80 -- 100 >>> 2 >>> 0.04804152995347977 + 0.027161765843629837 = 0.0752032995223999\n",
      "100 -- 120 >>> 0 >>> 0.07053858041763306 + 0.02330106496810913 = 0.09383964538574219\n",
      "100 -- 120 >>> 1 >>> 0.0880361795425415 + 0.0225168839097023 = 0.1105530634522438\n",
      "100 -- 120 >>> 2 >>> 0.09953363239765167 + 0.025908444076776505 = 0.12544207274913788\n",
      "120 -- 140 >>> 0 >>> 0.02339269034564495 + 0.030499469488859177 = 0.05389215797185898\n",
      "120 -- 140 >>> 1 >>> 0.029681993648409843 + 0.028404109179973602 = 0.058086104691028595\n",
      "120 -- 140 >>> 2 >>> 0.04392910376191139 + 0.02052184008061886 = 0.0644509419798851\n",
      "140 -- 160 >>> 0 >>> 0.06623300909996033 + 0.015009121969342232 = 0.08124212920665741\n",
      "140 -- 160 >>> 1 >>> 0.08276332169771194 + 0.01633584126830101 = 0.09909915924072266\n",
      "140 -- 160 >>> 2 >>> 0.044461388140916824 + 0.0210844986140728 = 0.06554588675498962\n",
      "160 -- 180 >>> 0 >>> 0.09467728435993195 + 0.023377330973744392 = 0.11805461347103119\n",
      "160 -- 180 >>> 1 >>> 0.08095281571149826 + 0.02057032845914364 = 0.10152314603328705\n",
      "160 -- 180 >>> 2 >>> 0.0734061524271965 + 0.017540812492370605 = 0.09094696491956711\n",
      "180 -- 200 >>> 0 >>> 0.09052318334579468 + 0.017354704439640045 = 0.10787788778543472\n",
      "180 -- 200 >>> 1 >>> 0.10331704467535019 + 0.01834946498274803 = 0.12166650593280792\n",
      "180 -- 200 >>> 2 >>> 0.11857936531305313 + 0.01919695734977722 = 0.13777631521224976\n",
      "200 -- 220 >>> 0 >>> 0.08414894342422485 + 0.01869540847837925 = 0.10284435003995895\n",
      "200 -- 220 >>> 1 >>> 0.09024655818939209 + 0.017719853669404984 = 0.10796640813350677\n",
      "200 -- 220 >>> 2 >>> 0.10109543800354004 + 0.017155924811959267 = 0.11825136095285416\n",
      "220 -- 240 >>> 0 >>> 0.13538296520709991 + 0.018241629004478455 = 0.15362459421157837\n",
      "220 -- 240 >>> 1 >>> 0.15345917642116547 + 0.019912557676434517 = 0.17337173223495483\n",
      "220 -- 240 >>> 2 >>> 0.0958142876625061 + 0.025330793112516403 = 0.1211450845003128\n",
      "240 -- 260 >>> 0 >>> 0.08847012370824814 + 0.028198445215821266 = 0.11666856706142426\n",
      "240 -- 260 >>> 1 >>> 0.0832061916589737 + 0.027432290837168694 = 0.11063848435878754\n",
      "240 -- 260 >>> 2 >>> 0.04913201183080673 + 0.026112861931324005 = 0.07524487376213074\n",
      "260 -- 280 >>> 0 >>> 0.12197692692279816 + 0.024347450584173203 = 0.14632438123226166\n",
      "260 -- 280 >>> 1 >>> 0.06858249753713608 + 0.025379657745361328 = 0.0939621552824974\n",
      "260 -- 280 >>> 2 >>> 0.08916725218296051 + 0.028309866786003113 = 0.11747711896896362\n",
      "280 -- 300 >>> 0 >>> 0.029755378141999245 + 0.02778821624815464 = 0.057543594390153885\n",
      "280 -- 300 >>> 1 >>> 0.041054870933294296 + 0.025299012660980225 = 0.06635388731956482\n",
      "280 -- 300 >>> 2 >>> 0.03460108861327171 + 0.021981878206133842 = 0.056582964956760406\n",
      "300 -- 320 >>> 0 >>> 0.2404203861951828 + 0.019953036680817604 = 0.26037341356277466\n",
      "300 -- 320 >>> 1 >>> 0.28168168663978577 + 0.02378208190202713 = 0.3054637610912323\n",
      "300 -- 320 >>> 2 >>> 0.08904805034399033 + 0.045168519020080566 = 0.1342165768146515\n",
      "320 -- 340 >>> 0 >>> 0.05666489526629448 + 0.07117559760808945 = 0.12784048914909363\n",
      "320 -- 340 >>> 1 >>> 0.08673357963562012 + 0.06805442273616791 = 0.15478800237178802\n",
      "320 -- 340 >>> 2 >>> 0.0639229416847229 + 0.040398068726062775 = 0.10432101041078568\n",
      "340 -- 360 >>> 0 >>> 0.06712578982114792 + 0.02176743745803833 = 0.08889322727918625\n",
      "340 -- 360 >>> 1 >>> 0.06600617617368698 + 0.025210300460457802 = 0.09121647477149963\n",
      "340 -- 360 >>> 2 >>> 0.04528891667723656 + 0.0373072512447834 = 0.08259616792201996\n",
      "360 -- 380 >>> 0 >>> 0.07233410328626633 + 0.04106675088405609 = 0.11340085417032242\n",
      "360 -- 380 >>> 1 >>> 0.07004961371421814 + 0.031784847378730774 = 0.10183446109294891\n",
      "360 -- 380 >>> 2 >>> 0.06074117496609688 + 0.02089759334921837 = 0.08163876831531525\n",
      "380 -- 400 >>> 0 >>> 0.07102831453084946 + 0.019318481907248497 = 0.0903467983007431\n",
      "380 -- 400 >>> 1 >>> 0.042513567954301834 + 0.02468404360115528 = 0.06719761341810226\n",
      "380 -- 400 >>> 2 >>> 0.05755983665585518 + 0.028936129063367844 = 0.08649596571922302\n",
      "400 -- 407 >>> 0 >>> 0.12545731663703918 + 0.02545449323952198 = 0.15091180801391602\n",
      "400 -- 407 >>> 1 >>> 0.14941361546516418 + 0.024333445355296135 = 0.17374706268310547\n",
      "400 -- 407 >>> 2 >>> 0.11838231235742569 + 0.0311850905418396 = 0.1495673954486847\n",
      "Epoch >> 8\n"
     ]
    },
    {
     "data": {
      "application/vnd.jupyter.widget-view+json": {
       "model_id": "452f29c2f80a4ae683293ad6062e1bf9",
       "version_major": 2,
       "version_minor": 0
      },
      "text/plain": [
       "  0%|          | 0/21 [00:00<?, ?it/s]"
      ]
     },
     "metadata": {},
     "output_type": "display_data"
    },
    {
     "name": "stdout",
     "output_type": "stream",
     "text": [
      "0 -- 20 >>> 0 >>> 0.06810852885246277 + 0.03959958255290985 = 0.10770811140537262\n",
      "0 -- 20 >>> 1 >>> 0.044638630002737045 + 0.03618095815181732 = 0.08081959187984467\n",
      "0 -- 20 >>> 2 >>> 0.038530148565769196 + 0.024323206394910812 = 0.06285335123538971\n",
      "20 -- 40 >>> 0 >>> 0.09268247336149216 + 0.01650644838809967 = 0.10918892174959183\n",
      "20 -- 40 >>> 1 >>> 0.04667101427912712 + 0.019217567518353462 = 0.06588858366012573\n",
      "20 -- 40 >>> 2 >>> 0.04739084467291832 + 0.0292412880808115 = 0.07663213461637497\n",
      "40 -- 60 >>> 0 >>> 0.07927384227514267 + 0.033027034252882004 = 0.11230087280273438\n",
      "40 -- 60 >>> 1 >>> 0.06443046778440475 + 0.026401855051517487 = 0.09083232283592224\n",
      "40 -- 60 >>> 2 >>> 0.05121487379074097 + 0.018397752195596695 = 0.06961262226104736\n",
      "60 -- 80 >>> 0 >>> 0.12261765450239182 + 0.016115307807922363 = 0.13873296976089478\n",
      "60 -- 80 >>> 1 >>> 0.1171698197722435 + 0.02218007668852806 = 0.13934989273548126\n",
      "60 -- 80 >>> 2 >>> 0.09550736844539642 + 0.0305611714720726 = 0.12606853246688843\n",
      "80 -- 100 >>> 0 >>> 0.06356578320264816 + 0.03203296288847923 = 0.0955987423658371\n",
      "80 -- 100 >>> 1 >>> 0.05011951923370361 + 0.025453492999076843 = 0.07557301223278046\n",
      "80 -- 100 >>> 2 >>> 0.037575867027044296 + 0.01754312962293625 = 0.055118996649980545\n",
      "100 -- 120 >>> 0 >>> 0.08813030272722244 + 0.01504148356616497 = 0.10317178815603256\n",
      "100 -- 120 >>> 1 >>> 0.0795183852314949 + 0.018444936722517014 = 0.09796331822872162\n",
      "100 -- 120 >>> 2 >>> 0.05565774440765381 + 0.024201655760407448 = 0.07985939830541611\n",
      "120 -- 140 >>> 0 >>> 0.03277061879634857 + 0.025890320539474487 = 0.05866093933582306\n",
      "120 -- 140 >>> 1 >>> 0.06549032777547836 + 0.02094663679599762 = 0.08643696457147598\n",
      "120 -- 140 >>> 2 >>> 0.03014250099658966 + 0.01503170095384121 = 0.04517420381307602\n",
      "140 -- 160 >>> 0 >>> 0.04121723771095276 + 0.014581345021724701 = 0.05579858273267746\n",
      "140 -- 160 >>> 1 >>> 0.055410947650671005 + 0.01649222895503044 = 0.07190317660570145\n",
      "140 -- 160 >>> 2 >>> 0.034834809601306915 + 0.01742524839937687 = 0.052260056138038635\n",
      "160 -- 180 >>> 0 >>> 0.08609157055616379 + 0.01579272747039795 = 0.10188429802656174\n",
      "160 -- 180 >>> 1 >>> 0.11398261785507202 + 0.013402163982391357 = 0.12738478183746338\n",
      "160 -- 180 >>> 2 >>> 0.11170043796300888 + 0.014691037125885487 = 0.1263914704322815\n",
      "180 -- 200 >>> 0 >>> 0.11747556179761887 + 0.018503829836845398 = 0.13597938418388367\n",
      "180 -- 200 >>> 1 >>> 0.08612153679132462 + 0.019719023257493973 = 0.10584056377410889\n",
      "180 -- 200 >>> 2 >>> 0.07944368571043015 + 0.02033758908510208 = 0.09978127479553223\n",
      "200 -- 220 >>> 0 >>> 0.0494755282998085 + 0.020334899425506592 = 0.0698104277253151\n",
      "200 -- 220 >>> 1 >>> 0.0928269475698471 + 0.018053803592920303 = 0.11088074743747711\n",
      "200 -- 220 >>> 2 >>> 0.09372025728225708 + 0.016258977353572845 = 0.10997923463582993\n",
      "220 -- 240 >>> 0 >>> 0.1395292729139328 + 0.020199637860059738 = 0.15972891449928284\n",
      "220 -- 240 >>> 1 >>> 0.11642362922430038 + 0.02564959228038788 = 0.14207321405410767\n",
      "220 -- 240 >>> 2 >>> 0.10507519543170929 + 0.025728631764650345 = 0.13080382347106934\n",
      "240 -- 260 >>> 0 >>> 0.030968576669692993 + 0.022884909063577652 = 0.053853485733270645\n",
      "240 -- 260 >>> 1 >>> 0.056294988840818405 + 0.018940851092338562 = 0.07523584365844727\n",
      "240 -- 260 >>> 2 >>> 0.041678495705127716 + 0.017808204516768456 = 0.05948670208454132\n",
      "260 -- 280 >>> 0 >>> 0.05856038257479668 + 0.01860954426229 = 0.07716992497444153\n",
      "260 -- 280 >>> 1 >>> 0.0509304516017437 + 0.019255204126238823 = 0.07018565386533737\n",
      "260 -- 280 >>> 2 >>> 0.04032180830836296 + 0.018937429413199425 = 0.059259235858917236\n",
      "280 -- 300 >>> 0 >>> 0.029994377866387367 + 0.017499318346381187 = 0.047493696212768555\n",
      "280 -- 300 >>> 1 >>> 0.02556118182837963 + 0.015035953372716904 = 0.040597133338451385\n",
      "280 -- 300 >>> 2 >>> 0.031588681042194366 + 0.012668430805206299 = 0.044257111847400665\n",
      "300 -- 320 >>> 0 >>> 0.12736117839813232 + 0.01160377822816372 = 0.1389649510383606\n",
      "300 -- 320 >>> 1 >>> 0.08860769122838974 + 0.014673130586743355 = 0.10328081995248795\n",
      "300 -- 320 >>> 2 >>> 0.09344618767499924 + 0.019264046102762222 = 0.11271023750305176\n",
      "320 -- 340 >>> 0 >>> 0.048197221010923386 + 0.02169392816722393 = 0.06989114731550217\n",
      "320 -- 340 >>> 1 >>> 0.066014863550663 + 0.01900058425962925 = 0.0850154459476471\n",
      "320 -- 340 >>> 2 >>> 0.03626203164458275 + 0.015457472763955593 = 0.051719505339860916\n",
      "340 -- 360 >>> 0 >>> 0.2762102782726288 + 0.014659121632575989 = 0.29086941480636597\n",
      "340 -- 360 >>> 1 >>> 0.07567961513996124 + 0.01650189235806465 = 0.0921815037727356\n",
      "340 -- 360 >>> 2 >>> 0.04386584460735321 + 0.020258154720067978 = 0.06412400305271149\n",
      "360 -- 380 >>> 0 >>> 0.06553871929645538 + 0.022059906274080276 = 0.08759862184524536\n",
      "360 -- 380 >>> 1 >>> 0.05026602745056152 + 0.018991956487298012 = 0.06925798207521439\n",
      "360 -- 380 >>> 2 >>> 0.03627883270382881 + 0.01518003549426794 = 0.05145886912941933\n",
      "380 -- 400 >>> 0 >>> 0.04873013496398926 + 0.013512357138097286 = 0.06224249303340912\n",
      "380 -- 400 >>> 1 >>> 0.07111532986164093 + 0.013835106045007706 = 0.08495043218135834\n",
      "380 -- 400 >>> 2 >>> 0.05732513591647148 + 0.017090342938899994 = 0.07441547513008118\n",
      "400 -- 407 >>> 0 >>> 0.2462940663099289 + 0.021553050726652145 = 0.26784712076187134\n",
      "400 -- 407 >>> 1 >>> 0.07899209856987 + 0.02896813675761223 = 0.10796023905277252\n",
      "400 -- 407 >>> 2 >>> 0.04294823855161667 + 0.05400057137012482 = 0.09694880992174149\n",
      "Epoch >> 9\n"
     ]
    },
    {
     "data": {
      "application/vnd.jupyter.widget-view+json": {
       "model_id": "7c6db95d44064992b811eab23cc00462",
       "version_major": 2,
       "version_minor": 0
      },
      "text/plain": [
       "  0%|          | 0/21 [00:00<?, ?it/s]"
      ]
     },
     "metadata": {},
     "output_type": "display_data"
    },
    {
     "name": "stdout",
     "output_type": "stream",
     "text": [
      "0 -- 20 >>> 0 >>> 0.03691767156124115 + 0.07171300053596497 = 0.10863067209720612\n",
      "0 -- 20 >>> 1 >>> 0.04630070552229881 + 0.05561693757772446 = 0.10191763937473297\n",
      "0 -- 20 >>> 2 >>> 0.06173310428857803 + 0.027793101966381073 = 0.0895262062549591\n",
      "20 -- 40 >>> 0 >>> 0.0432591550052166 + 0.018879307433962822 = 0.06213846057653427\n",
      "20 -- 40 >>> 1 >>> 0.07487279921770096 + 0.02745044231414795 = 0.10232324153184891\n",
      "20 -- 40 >>> 2 >>> 0.04927125573158264 + 0.03551103174686432 = 0.08478228747844696\n",
      "40 -- 60 >>> 0 >>> 0.05243469402194023 + 0.03283396363258362 = 0.08526866137981415\n",
      "40 -- 60 >>> 1 >>> 0.06723880767822266 + 0.023393267765641212 = 0.09063207358121872\n",
      "40 -- 60 >>> 2 >>> 0.047060295939445496 + 0.01542800571769476 = 0.06248830258846283\n",
      "60 -- 80 >>> 0 >>> 0.11494213342666626 + 0.015404293313622475 = 0.13034643232822418\n",
      "60 -- 80 >>> 1 >>> 0.23009763658046722 + 0.021748818457126617 = 0.25184646248817444\n",
      "60 -- 80 >>> 2 >>> 0.07679100334644318 + 0.03159046545624733 = 0.10838146507740021\n",
      "80 -- 100 >>> 0 >>> 0.06412593275308609 + 0.04409250244498253 = 0.10821843147277832\n",
      "80 -- 100 >>> 1 >>> 0.0421530045568943 + 0.04059048742055893 = 0.08274349570274353\n",
      "80 -- 100 >>> 2 >>> 0.06034962087869644 + 0.02558799460530281 = 0.08593761920928955\n",
      "100 -- 120 >>> 0 >>> 0.07122065871953964 + 0.016115941107273102 = 0.08733659982681274\n",
      "100 -- 120 >>> 1 >>> 0.08254838734865189 + 0.02061820775270462 = 0.1031665951013565\n",
      "100 -- 120 >>> 2 >>> 0.11651191860437393 + 0.031674373894929886 = 0.14818629622459412\n",
      "120 -- 140 >>> 0 >>> 0.03928808867931366 + 0.04330458119511604 = 0.0825926661491394\n",
      "120 -- 140 >>> 1 >>> 0.033585745841264725 + 0.04009866714477539 = 0.07368440926074982\n",
      "120 -- 140 >>> 2 >>> 0.06249658018350601 + 0.026978325098752975 = 0.08947490155696869\n",
      "140 -- 160 >>> 0 >>> 0.029749104753136635 + 0.01852722279727459 = 0.048276327550411224\n",
      "140 -- 160 >>> 1 >>> 0.03956015408039093 + 0.020214654505252838 = 0.05977480858564377\n",
      "140 -- 160 >>> 2 >>> 0.03014170005917549 + 0.02531544119119644 = 0.05545714125037193\n",
      "160 -- 180 >>> 0 >>> 0.07256004214286804 + 0.02525130659341812 = 0.09781134873628616\n",
      "160 -- 180 >>> 1 >>> 0.07840780168771744 + 0.01963070034980774 = 0.09803850203752518\n",
      "160 -- 180 >>> 2 >>> 0.08709868043661118 + 0.014354737475514412 = 0.10145341604948044\n",
      "180 -- 200 >>> 0 >>> 0.11129516363143921 + 0.016640812158584595 = 0.1279359757900238\n",
      "180 -- 200 >>> 1 >>> 0.08436387777328491 + 0.023060180246829987 = 0.1074240580201149\n",
      "180 -- 200 >>> 2 >>> 0.21227557957172394 + 0.025723092257976532 = 0.23799866437911987\n",
      "200 -- 220 >>> 0 >>> 0.07945461571216583 + 0.022028272971510887 = 0.10148289054632187\n",
      "200 -- 220 >>> 1 >>> 0.060969527810811996 + 0.019004251807928085 = 0.07997377961874008\n",
      "200 -- 220 >>> 2 >>> 0.06470879912376404 + 0.020078131929039955 = 0.08478692919015884\n",
      "220 -- 240 >>> 0 >>> 0.10759501904249191 + 0.021565068513154984 = 0.1291600912809372\n",
      "220 -- 240 >>> 1 >>> 0.113918237388134 + 0.021650588139891624 = 0.13556882739067078\n",
      "220 -- 240 >>> 2 >>> 0.09689982235431671 + 0.020312078297138214 = 0.11721190065145493\n",
      "240 -- 260 >>> 0 >>> 0.05396487936377525 + 0.02004450559616089 = 0.07400938868522644\n",
      "240 -- 260 >>> 1 >>> 0.05011684447526932 + 0.02043735980987549 = 0.0705542042851448\n",
      "240 -- 260 >>> 2 >>> 0.06466709822416306 + 0.01938878744840622 = 0.08405588567256927\n",
      "260 -- 280 >>> 0 >>> 0.061746638268232346 + 0.021526407450437546 = 0.08327304571866989\n",
      "260 -- 280 >>> 1 >>> 0.06697769463062286 + 0.024468351155519485 = 0.09144604206085205\n",
      "260 -- 280 >>> 2 >>> 0.06454485654830933 + 0.024350784718990326 = 0.08889564126729965\n",
      "280 -- 300 >>> 0 >>> 0.04552502930164337 + 0.021207604557275772 = 0.06673263013362885\n",
      "280 -- 300 >>> 1 >>> 0.03790319710969925 + 0.01761903241276741 = 0.05552222952246666\n",
      "280 -- 300 >>> 2 >>> 0.03536389395594597 + 0.016776368021965027 = 0.052140261977910995\n",
      "300 -- 320 >>> 0 >>> 0.1060519590973854 + 0.017680158838629723 = 0.12373211979866028\n",
      "300 -- 320 >>> 1 >>> 0.11659510433673859 + 0.01910088211297989 = 0.13569599390029907\n",
      "300 -- 320 >>> 2 >>> 0.15615534782409668 + 0.0218679029494524 = 0.17802324891090393\n",
      "320 -- 340 >>> 0 >>> 0.043993476778268814 + 0.0231822207570076 = 0.06717570126056671\n",
      "320 -- 340 >>> 1 >>> 0.04504391551017761 + 0.020874271169304848 = 0.06591818481683731\n",
      "320 -- 340 >>> 2 >>> 0.0445028580725193 + 0.01778065599501133 = 0.06228351593017578\n",
      "340 -- 360 >>> 0 >>> 0.05359220132231712 + 0.017046086490154266 = 0.07063828408718109\n",
      "340 -- 360 >>> 1 >>> 0.04204913601279259 + 0.018103066831827164 = 0.06015220284461975\n",
      "340 -- 360 >>> 2 >>> 0.03357420489192009 + 0.018053878098726273 = 0.05162808299064636\n",
      "360 -- 380 >>> 0 >>> 0.06811704486608505 + 0.016101889312267303 = 0.08421893417835236\n",
      "360 -- 380 >>> 1 >>> 0.0626463070511818 + 0.013499650172889233 = 0.0761459544301033\n",
      "360 -- 380 >>> 2 >>> 0.038698453456163406 + 0.013768983073532581 = 0.05246743559837341\n",
      "380 -- 400 >>> 0 >>> 0.04821193218231201 + 0.015894904732704163 = 0.06410683691501617\n",
      "380 -- 400 >>> 1 >>> 0.04369401931762695 + 0.01611526869237423 = 0.05980928987264633\n",
      "380 -- 400 >>> 2 >>> 0.04341433197259903 + 0.01402998436242342 = 0.057444315403699875\n",
      "400 -- 407 >>> 0 >>> 0.0855659693479538 + 0.012067832052707672 = 0.09763380140066147\n",
      "400 -- 407 >>> 1 >>> 0.015498876571655273 + 0.01190205104649067 = 0.027400927618145943\n",
      "400 -- 407 >>> 2 >>> 0.02640298195183277 + 0.013275573030114174 = 0.039678554981946945\n",
      "Epoch >> 10\n"
     ]
    },
    {
     "data": {
      "application/vnd.jupyter.widget-view+json": {
       "model_id": "bcb03472cea6453ea998be19a84a0074",
       "version_major": 2,
       "version_minor": 0
      },
      "text/plain": [
       "  0%|          | 0/21 [00:00<?, ?it/s]"
      ]
     },
     "metadata": {},
     "output_type": "display_data"
    },
    {
     "name": "stdout",
     "output_type": "stream",
     "text": [
      "0 -- 20 >>> 0 >>> 0.03676675632596016 + 0.01324138231575489 = 0.0500081405043602\n",
      "0 -- 20 >>> 1 >>> 0.04152536019682884 + 0.011224089190363884 = 0.05274944752454758\n",
      "0 -- 20 >>> 2 >>> 0.031115621328353882 + 0.009182637557387352 = 0.04029826074838638\n",
      "20 -- 40 >>> 0 >>> 0.05340280756354332 + 0.008948520757257938 = 0.062351327389478683\n",
      "20 -- 40 >>> 1 >>> 0.04194124415516853 + 0.009481247514486313 = 0.051422491669654846\n",
      "20 -- 40 >>> 2 >>> 0.04967833682894707 + 0.010201485827565193 = 0.05987982451915741\n",
      "40 -- 60 >>> 0 >>> 0.06840737909078598 + 0.010765337385237217 = 0.07917271554470062\n",
      "40 -- 60 >>> 1 >>> 0.0650271400809288 + 0.010963029228150845 = 0.07599017024040222\n",
      "40 -- 60 >>> 2 >>> 0.04778575524687767 + 0.012250986881554127 = 0.06003674119710922\n",
      "60 -- 80 >>> 0 >>> 0.0691315084695816 + 0.01458829641342163 = 0.08371980488300323\n",
      "60 -- 80 >>> 1 >>> 0.09011819213628769 + 0.01474799681454897 = 0.10486619174480438\n",
      "60 -- 80 >>> 2 >>> 0.0746784582734108 + 0.014746077358722687 = 0.08942453563213348\n",
      "80 -- 100 >>> 0 >>> 0.029065394774079323 + 0.01812412217259407 = 0.04718951880931854\n",
      "80 -- 100 >>> 1 >>> 0.029900336638092995 + 0.017302069813013077 = 0.04720240831375122\n",
      "80 -- 100 >>> 2 >>> 0.03660446032881737 + 0.012688917107880116 = 0.04929337650537491\n",
      "100 -- 120 >>> 0 >>> 0.09003408998250961 + 0.009496293030679226 = 0.09953038394451141\n",
      "100 -- 120 >>> 1 >>> 0.07105852663516998 + 0.010852677747607231 = 0.08191120624542236\n",
      "100 -- 120 >>> 2 >>> 0.07874522358179092 + 0.015586405992507935 = 0.09433162957429886\n",
      "120 -- 140 >>> 0 >>> 0.031912971287965775 + 0.01844700239598751 = 0.050359971821308136\n",
      "120 -- 140 >>> 1 >>> 0.026731833815574646 + 0.014877654612064362 = 0.04160948842763901\n",
      "120 -- 140 >>> 2 >>> 0.03354436904191971 + 0.0089434077963233 = 0.04248777776956558\n",
      "140 -- 160 >>> 0 >>> 0.06435171514749527 + 0.006831672973930836 = 0.07118339091539383\n",
      "140 -- 160 >>> 1 >>> 0.04896321892738342 + 0.010687075555324554 = 0.05965029448270798\n",
      "140 -- 160 >>> 2 >>> 0.05800675228238106 + 0.016061175614595413 = 0.07406792789697647\n",
      "160 -- 180 >>> 0 >>> 0.08294432610273361 + 0.016597185283899307 = 0.09954151511192322\n",
      "160 -- 180 >>> 1 >>> 0.06577770411968231 + 0.013511966913938522 = 0.07928967475891113\n",
      "160 -- 180 >>> 2 >>> 0.06629949808120728 + 0.011561170220375061 = 0.07786066830158234\n",
      "180 -- 200 >>> 0 >>> 0.08302409201860428 + 0.012867201119661331 = 0.09589129686355591\n",
      "180 -- 200 >>> 1 >>> 0.16902323067188263 + 0.014844885095953941 = 0.18386811017990112\n",
      "180 -- 200 >>> 2 >>> 0.08920948207378387 + 0.028841888532042503 = 0.11805137246847153\n",
      "200 -- 220 >>> 0 >>> 0.046964969485998154 + 0.044741176068782806 = 0.09170614182949066\n",
      "200 -- 220 >>> 1 >>> 0.07052026689052582 + 0.040663138031959534 = 0.11118340492248535\n",
      "200 -- 220 >>> 2 >>> 0.022464333102107048 + 0.025108838453888893 = 0.04757317155599594\n",
      "220 -- 240 >>> 0 >>> 0.09376003593206406 + 0.01640491373836994 = 0.11016494780778885\n",
      "220 -- 240 >>> 1 >>> 0.07515240460634232 + 0.02163701131939888 = 0.0967894196510315\n",
      "220 -- 240 >>> 2 >>> 0.06478705257177353 + 0.03200014680624008 = 0.09678719937801361\n",
      "240 -- 260 >>> 0 >>> 0.06538426131010056 + 0.03290725126862526 = 0.09829151630401611\n",
      "240 -- 260 >>> 1 >>> 0.06539678573608398 + 0.02306469902396202 = 0.0884614884853363\n",
      "240 -- 260 >>> 2 >>> 0.07892519235610962 + 0.01672823168337345 = 0.09565342217683792\n",
      "260 -- 280 >>> 0 >>> 0.12094583362340927 + 0.02180321142077446 = 0.14274904131889343\n",
      "260 -- 280 >>> 1 >>> 0.1580260694026947 + 0.02773364633321762 = 0.18575972318649292\n",
      "260 -- 280 >>> 2 >>> 0.0727655366063118 + 0.034300774335861206 = 0.107066310942173\n",
      "280 -- 300 >>> 0 >>> 0.03042062558233738 + 0.034168533980846405 = 0.06458915770053864\n",
      "280 -- 300 >>> 1 >>> 0.02456643432378769 + 0.026240602135658264 = 0.05080703645944595\n",
      "280 -- 300 >>> 2 >>> 0.0274514090269804 + 0.01859971135854721 = 0.04605112224817276\n",
      "300 -- 320 >>> 0 >>> 0.07925756275653839 + 0.0179977435618639 = 0.09725530445575714\n",
      "300 -- 320 >>> 1 >>> 0.08021899312734604 + 0.02194741554558277 = 0.10216640681028366\n",
      "300 -- 320 >>> 2 >>> 0.06036732345819473 + 0.024783514440059662 = 0.0851508378982544\n",
      "320 -- 340 >>> 0 >>> 0.04321559891104698 + 0.02222185581922531 = 0.065437451004982\n",
      "320 -- 340 >>> 1 >>> 0.054498013108968735 + 0.01691974699497223 = 0.07141776382923126\n",
      "320 -- 340 >>> 2 >>> 0.048305969685316086 + 0.013838261365890503 = 0.06214423105120659\n",
      "340 -- 360 >>> 0 >>> 0.060129713267087936 + 0.015178035944700241 = 0.07530774921178818\n",
      "340 -- 360 >>> 1 >>> 0.04678644239902496 + 0.017023783177137375 = 0.06381022930145264\n",
      "340 -- 360 >>> 2 >>> 0.0448785237967968 + 0.017002219334244728 = 0.061880744993686676\n",
      "360 -- 380 >>> 0 >>> 0.055853426456451416 + 0.015028747729957104 = 0.0708821713924408\n",
      "360 -- 380 >>> 1 >>> 0.05025704577565193 + 0.013424592092633247 = 0.06368163973093033\n",
      "360 -- 380 >>> 2 >>> 0.05271685868501663 + 0.013289009220898151 = 0.06600587069988251\n",
      "380 -- 400 >>> 0 >>> 0.07812211662530899 + 0.01505615096539259 = 0.09317826479673386\n",
      "380 -- 400 >>> 1 >>> 0.056280553340911865 + 0.01776699535548687 = 0.07404755055904388\n",
      "380 -- 400 >>> 2 >>> 0.029031753540039062 + 0.019965263083577156 = 0.04899701476097107\n",
      "400 -- 407 >>> 0 >>> 0.052984483540058136 + 0.020384298637509346 = 0.07336878031492233\n",
      "400 -- 407 >>> 1 >>> 0.028441336005926132 + 0.016539432108402252 = 0.044980768114328384\n",
      "400 -- 407 >>> 2 >>> 0.03211088851094246 + 0.02185494638979435 = 0.05396583676338196\n"
     ]
    }
   ],
   "source": [
    "loss_track = []\n",
    "optimizer = torch.optim.Adam([Q], lr = learning_rate)\n",
    "\n",
    "\n",
    "initial = True\n",
    "for epoch in tqdm(range(num_epochs)):\n",
    "    print(f\"Epoch >> {epoch + 1}\")\n",
    "    \n",
    "    for batch_st in tqdm(range(0, len(counterfact_gold), batch_size)):\n",
    "        \n",
    "        # building the current gold batch\n",
    "        batch_nd = min(batch_st + batch_size, len(counterfact_gold))\n",
    "        cf_original = counterfact_gold[batch_st : batch_nd]\n",
    "        \n",
    "        prompts_original_batch = [relation.format(cf['subject']) for cf in cf_original]\n",
    "        subject_original_batch = [cf['subject'] for cf in cf_original]\n",
    "        batch_tokenized_o = tokenizer(prompts_original_batch, padding = True, return_tensors = \"pt\", return_offsets_mapping = True).to(model.device)\n",
    "        offset_mapping = batch_tokenized_o.pop('offset_mapping')\n",
    "        subject_original_ranges = [\n",
    "            estimate._find_token_range(string = prompt, substring = subject, offset_mapping = offset) \n",
    "            for prompt, subject, offset in zip(prompts_original_batch, subject_original_batch, offset_mapping)\n",
    "        ]\n",
    "        \n",
    "        # collect the gold `h_o`\n",
    "        h_original_batch = collect_h_batch(\n",
    "            model, tokenizer,\n",
    "            prompt_batch = prompts_original_batch, \n",
    "            subject_ranges = subject_original_ranges,\n",
    "            intervention_layer_name = mt.layer_name_format.format(intervention_layer)\n",
    "        )\n",
    "        \n",
    "        for iteration in range(3):\n",
    "            \n",
    "            # collecting the corruption \n",
    "            cf_corrupted = []\n",
    "            for c_o in cf_original:\n",
    "                perm = np.random.permutation(len(counterfact_gold))\n",
    "                for idx in perm:\n",
    "                    c_i = counterfact_gold[idx]\n",
    "                    if(c_i['subject'] != c_o['subject'] and c_i['target_true']['str'] != c_o['target_true']['str']):\n",
    "                        cf_corrupted.append(c_i)\n",
    "                        break\n",
    "            \n",
    "            prompts_corruption_batch = [relation.format(cf['subject']) for cf in cf_corrupted]\n",
    "            subject_corruption_batch = [cf['subject'] for cf in cf_corrupted]\n",
    "            batch_tokenized_c = tokenizer(prompts_corruption_batch, padding = True, return_tensors = \"pt\", return_offsets_mapping = True).to(model.device)\n",
    "            offset_mapping = batch_tokenized_c.pop('offset_mapping')\n",
    "            subject_corruption_ranges = [\n",
    "                estimate._find_token_range(string = prompt, substring = subject, offset_mapping = offset) \n",
    "                for prompt, subject, offset in zip(prompts_corruption_batch, subject_corruption_batch, offset_mapping)\n",
    "            ]\n",
    "            \n",
    "            # collecting respective h_c\n",
    "            h_corruption_batch = collect_h_batch(\n",
    "                model, tokenizer,\n",
    "                prompt_batch = prompts_corruption_batch, \n",
    "                subject_ranges = subject_corruption_ranges,\n",
    "                intervention_layer_name = mt.layer_name_format.format(intervention_layer)\n",
    "            )\n",
    "            \n",
    "            subspace = Q @ Q.T # <---- current subspace\n",
    "            \n",
    "            # build the h_intervention_batch\n",
    "            I = torch.eye(mt.n_embd).to(model.dtype).to(model.device)\n",
    "            h_intervention_batch = h_original_batch @ subspace + h_corruption_batch @ (I - subspace)\n",
    "#             h_corruption_mean = h_corruption_batch.mean(dim = 0)\n",
    "#             h_intervention_batch = h_original_batch @ subspace + h_corruption_mean @ (I - subspace)\n",
    "\n",
    "            # run the prompts as usual to collect target distribution\n",
    "            with baukit.TraceDict(\n",
    "                model, [intervention_layer_name],\n",
    "            ):\n",
    "                output_o = model(**batch_tokenized_o)\n",
    "            answer_indices = batch_tokenized_o['attention_mask'].sum(dim = 1) - 1\n",
    "\n",
    "            target_distribution = logits_to_distribution(\n",
    "                output_o.logits, \n",
    "                answer_indices = answer_indices,\n",
    "                target_token_ids = target_token_ids\n",
    "            )\n",
    "\n",
    "            # run with corrupted hidden representations\n",
    "            with baukit.TraceDict(\n",
    "                model, [intervention_layer_name],\n",
    "                edit_output = get_replace_intervention_batch(\n",
    "                    intervention_layer = intervention_layer_name,\n",
    "                    intervention_indices = [rng[1] - 1 for rng in subject_original_ranges],\n",
    "                    h_intervention = h_intervention_batch\n",
    "                )\n",
    "            ) as traces_c:\n",
    "                output_c = model(**batch_tokenized_o)\n",
    "\n",
    "            predicted_distribution = logits_to_distribution(\n",
    "                output_c.logits, \n",
    "                answer_indices = answer_indices,\n",
    "                target_token_ids = target_token_ids\n",
    "            )\n",
    "\n",
    "\n",
    "            kl_loss = kl_div(predicted_distribution, target_distribution, reduction = \"batchmean\", log_target = True)\n",
    "            normal_loss = (torch.eye(num_basis).to(model.dtype).to(model.device) - Q.T @ Q).square().sum()\n",
    "\n",
    "            loss = kl_loss + _lambda * (normal_loss)\n",
    "\n",
    "            print(f\"{batch_st} -- {batch_nd} >>> {iteration} >>> {kl_loss.item()} + {normal_loss.item()} = {loss.item()}\")\n",
    "\n",
    "            loss_track.append(loss.item())\n",
    "            optimizer.zero_grad()\n",
    "            model.zero_grad()\n",
    "            loss.backward()\n",
    "            optimizer.step()"
   ]
  },
  {
   "cell_type": "code",
   "execution_count": 297,
   "id": "9746a1ee",
   "metadata": {},
   "outputs": [
    {
     "data": {
      "text/plain": [
       "tensor(0.0281, device='cuda:0', grad_fn=<SumBackward0>)"
      ]
     },
     "execution_count": 297,
     "metadata": {},
     "output_type": "execute_result"
    }
   ],
   "source": [
    "(torch.eye(num_basis).to(model.dtype).to(model.device) - Q.T @ Q).square().sum()"
   ]
  },
  {
   "cell_type": "code",
   "execution_count": 298,
   "id": "d1dd3d12",
   "metadata": {},
   "outputs": [
    {
     "data": {
      "text/plain": [
       "[<matplotlib.lines.Line2D at 0x7f43b8e075b0>]"
      ]
     },
     "execution_count": 298,
     "metadata": {},
     "output_type": "execute_result"
    },
    {
     "data": {
      "image/png": "[encoded data removed]",
      "text/plain": [
       "<Figure size 640x480 with 1 Axes>"
      ]
     },
     "metadata": {},
     "output_type": "display_data"
    }
   ],
   "source": [
    "import matplotlib.pyplot as plt\n",
    "\n",
    "plt.plot(loss_track)"
   ]
  },
  {
   "cell_type": "code",
   "execution_count": 299,
   "id": "dfaa7511",
   "metadata": {},
   "outputs": [
    {
     "data": {
      "image/png": "[encoded data removed]",
      "text/plain": [
       "<Figure size 640x480 with 2 Axes>"
      ]
     },
     "metadata": {},
     "output_type": "display_data"
    }
   ],
   "source": [
    "from util import misc\n",
    "\n",
    "misc.visualize_matrix((Q.T @ Q).detach().cpu())"
   ]
  },
  {
   "cell_type": "code",
   "execution_count": 300,
   "id": "03d0afe2",
   "metadata": {},
   "outputs": [
    {
     "data": {
      "image/png": "[encoded data removed]",
      "text/plain": [
       "<Figure size 640x480 with 2 Axes>"
      ]
     },
     "metadata": {},
     "output_type": "display_data"
    }
   ],
   "source": [
    "misc.visualize_matrix((Q @ Q.T).detach().cpu())"
   ]
  },
  {
   "cell_type": "markdown",
   "id": "0333238c",
   "metadata": {},
   "source": [
    "## Check Effect"
   ]
  },
  {
   "cell_type": "code",
   "execution_count": 301,
   "id": "78be3379",
   "metadata": {},
   "outputs": [],
   "source": [
    "perm = np.random.permutation(len(counterfact_gold))\n",
    "\n",
    "cf_original = [counterfact_gold[p] for p in perm[:batch_size]]\n",
    "\n",
    "cf_corrupted = []\n",
    "for c_o in cf_original:\n",
    "    perm = np.random.permutation(len(counterfact_gold))\n",
    "    for i in perm:\n",
    "        c_i = counterfact_gold[i]\n",
    "        if(c_i['subject'] != c_o['subject'] and c_i['target_true']['str'] != c_o['target_true']['str']):\n",
    "            cf_corrupted.append(c_i)\n",
    "            break"
   ]
  },
  {
   "cell_type": "code",
   "execution_count": 302,
   "id": "db8c90ff",
   "metadata": {},
   "outputs": [
    {
     "name": "stdout",
     "output_type": "stream",
     "text": [
      "Colombes, France <<<>>> Nova Friburgo, Brazil\n",
      "Maybach, Germany <<<>>> Circuit des Ardennes, Belgium\n",
      "Cocconato, Italy <<<>>> Atromitos Piraeus F.C., Greece\n",
      "Bolpur, India <<<>>> Taranto Sport, Italy\n",
      "Emscher, Germany <<<>>> Dundalk, Ireland\n",
      "Harnaut, India <<<>>> Lewin Brzeski, Poland\n",
      "Southern Savonia, Finland <<<>>> Mukkam, India\n",
      "Lajran Rural District, Iran <<<>>> Borghetto di Vara, Italy\n",
      "K.S.V. Roeselare, Belgium <<<>>> Saint-Jacques-de-la-Lande, France\n",
      "National Congress of Brasil, Brazil <<<>>> Southern Savonia, Finland\n",
      "Sydney Hospital, Australia <<<>>> Adliswil, Switzerland\n",
      "Jiul de Vest River, Romania <<<>>> Wismar, Germany\n",
      "Mbale District, Uganda <<<>>> Bilecik Province, Turkey\n",
      "FC Anker Wismar, Germany <<<>>> Borovsky District, Russia\n",
      "Japan National Route 112, Japan <<<>>> Turkey national rugby union team, Turkey\n",
      "Attingal, India <<<>>> Saint-Louis-de-Kent, New Brunswick, Canada\n",
      "Gazzola, Italy <<<>>> Dornbirn, Austria\n",
      "Pesisir Selatan, Indonesia <<<>>> Hammarby IF DFF, Sweden\n",
      "Legnica County, Poland <<<>>> Ustevatn, Norway\n",
      "Bastille, France <<<>>> Sonitpur district, India\n"
     ]
    }
   ],
   "source": [
    "for c_o, c_i in zip(cf_original, cf_corrupted):\n",
    "    print(f\"{c_o['subject']}, {c_o['target_true']['str']} <<<>>> {c_i['subject']}, {c_i['target_true']['str']}\")"
   ]
  },
  {
   "cell_type": "code",
   "execution_count": 303,
   "id": "21732a6d",
   "metadata": {},
   "outputs": [],
   "source": [
    "# collect the gold `h_o` and corruption `h_c` \n",
    "prompts_original_batch = [relation.format(cf['subject']) for cf in cf_original]\n",
    "subject_original_batch = [cf['subject'] for cf in cf_original]\n",
    "batch_tokenized_o = tokenizer(prompts_original_batch, padding = True, return_tensors = \"pt\", return_offsets_mapping = True).to(model.device)\n",
    "offset_mapping = batch_tokenized_o.pop('offset_mapping')\n",
    "subject_original_ranges = [\n",
    "    estimate._find_token_range(string = prompt, substring = subject, offset_mapping = offset) \n",
    "    for prompt, subject, offset in zip(prompts_original_batch, subject_original_batch, offset_mapping)\n",
    "]\n",
    "        \n",
    "prompts_corruption_batch = [relation.format(cf['subject']) for cf in cf_corrupted]\n",
    "subject_corruption_batch = [cf['subject'] for cf in cf_corrupted]\n",
    "batch_tokenized_c = tokenizer(prompts_corruption_batch, padding = True, return_tensors = \"pt\", return_offsets_mapping = True).to(model.device)\n",
    "offset_mapping = batch_tokenized_c.pop('offset_mapping')\n",
    "subject_corruption_ranges = [\n",
    "    estimate._find_token_range(string = prompt, substring = subject, offset_mapping = offset) \n",
    "    for prompt, subject, offset in zip(prompts_corruption_batch, subject_corruption_batch, offset_mapping)\n",
    "]"
   ]
  },
  {
   "cell_type": "code",
   "execution_count": 304,
   "id": "40e991f5",
   "metadata": {},
   "outputs": [],
   "source": [
    "h_original_batch = collect_h_batch(\n",
    "    model, tokenizer,\n",
    "    prompt_batch = prompts_original_batch, \n",
    "    subject_ranges = subject_original_ranges,\n",
    "    intervention_layer_name = mt.layer_name_format.format(intervention_layer)\n",
    ")\n",
    "\n",
    "h_corruption_batch = collect_h_batch(\n",
    "    model, tokenizer,\n",
    "    prompt_batch = prompts_corruption_batch, \n",
    "    subject_ranges = subject_corruption_ranges,\n",
    "    intervention_layer_name = mt.layer_name_format.format(intervention_layer)\n",
    ")"
   ]
  },
  {
   "cell_type": "code",
   "execution_count": null,
   "id": "0f14c9fa",
   "metadata": {},
   "outputs": [],
   "source": []
  },
  {
   "cell_type": "code",
   "execution_count": 305,
   "id": "5b7c77c1",
   "metadata": {},
   "outputs": [
    {
     "data": {
      "text/plain": [
       "torch.Size([20, 4096])"
      ]
     },
     "execution_count": 305,
     "metadata": {},
     "output_type": "execute_result"
    }
   ],
   "source": [
    "h_intervention_batch = h_original_batch @ subspace + h_corruption_batch @ (I - subspace)\n",
    "# h_corruption_mean = h_corruption_batch.mean(dim = 0)\n",
    "# h_intervention_batch = h_original_batch @ subspace + h_corruption_mean @ (I - subspace)\n",
    "\n",
    "h_intervention_batch.shape"
   ]
  },
  {
   "cell_type": "code",
   "execution_count": 308,
   "id": "55de41aa",
   "metadata": {},
   "outputs": [
    {
     "name": "stdout",
     "output_type": "stream",
     "text": [
      "Colombes is located in the country of  ===>  (' Colombia', 13.521454811096191, 0.08089239150285721)\n",
      "Maybach is located in the country of  ===>  (' the', 12.679513931274414, 0.047018326818943024)\n",
      "Cocconato is located in the country of  ===>  (' the', 12.923079490661621, 0.06715359538793564)\n",
      "Bolpur is located in the country of  ===>  (' India', 13.554283142089844, 0.05072493851184845)\n",
      "Emscher is located in the country of  ===>  (' Germany', 13.52907657623291, 0.09576839208602905)\n",
      "Harnaut is located in the country of  ===>  (' the', 13.400875091552734, 0.06942175328731537)\n",
      "Southern Savonia is located in the country of  ===>  (' the', 13.241996765136719, 0.07206452637910843)\n",
      "Lajran Rural District is located in the country of  ===>  (' Iran', 14.478758811950684, 0.08481581509113312)\n",
      "K.S.V. Roeselare is located in the country of  ===>  (' the', 14.381155014038086, 0.1056300550699234)\n",
      "National Congress of Brasil is located in the country of  ===>  (' Brazil', 13.87472152709961, 0.16983813047409058)\n",
      "Sydney Hospital is located in the country of  ===>  (' Australia', 13.436295509338379, 0.1574133187532425)\n",
      "Jiul de Vest River is located in the country of  ===>  (' Romania', 16.341968536376953, 0.36959561705589294)\n",
      "Mbale District is located in the country of  ===>  (' Uganda', 19.69137191772461, 0.6531056761741638)\n",
      "FC Anker Wismar is located in the country of  ===>  (' Germany', 14.383185386657715, 0.12937404215335846)\n",
      "Japan National Route 112 is located in the country of  ===>  (' Japan', 16.67388343811035, 0.5956345200538635)\n",
      "Attingal is located in the country of  ===>  (' the', 13.213918685913086, 0.056882668286561966)\n",
      "Gazzola is located in the country of  ===>  (' the', 12.72683334350586, 0.06297943741083145)\n",
      "Pesisir Selatan is located in the country of  ===>  (' Indonesia', 14.600409507751465, 0.13429000973701477)\n",
      "Legnica County is located in the country of  ===>  (' Poland', 17.595861434936523, 0.8611889481544495)\n",
      "Bastille is located in the country of  ===>  (' the', 12.85446834564209, 0.06920856237411499)\n"
     ]
    }
   ],
   "source": [
    "subspace = Q @ Q.T\n",
    "h_intervention_batch = h_original_batch @ subspace # + h_corruption_batch @ (I - subspace)\n",
    "# h_intervention_batch = h_original_batch @ subspace + h_corruption_mean @ (I - subspace)\n",
    "\n",
    "with baukit.TraceDict(\n",
    "    model, [intervention_layer_name],\n",
    "    edit_output = get_replace_intervention_batch(\n",
    "        intervention_layer = intervention_layer_name,\n",
    "        intervention_indices = [rng[1] - 1 for rng in subject_original_ranges],\n",
    "        h_intervention = h_intervention_batch\n",
    "    )\n",
    "):\n",
    "    output_o = model(**batch_tokenized_o)\n",
    "\n",
    "interpreted = interpret_output_batch(\n",
    "    output_o.logits,\n",
    "    token_indices = batch_tokenized_o['attention_mask'].sum(dim = 1) - 1,\n",
    "    top_k = 5\n",
    ")\n",
    "\n",
    "for prompt, intr in zip(prompts_original_batch, interpreted):\n",
    "    print(prompt, \" ===> \", intr[0])"
   ]
  },
  {
   "cell_type": "code",
   "execution_count": 309,
   "id": "9ea30aae",
   "metadata": {},
   "outputs": [],
   "source": [
    "# h = torch.randn(mt.n_embd).to(model.device)\n",
    "# torch.dist((h@subspace)[None].T, subspace @ h[None].T)"
   ]
  },
  {
   "cell_type": "markdown",
   "id": "d5463f8d",
   "metadata": {},
   "source": [
    "## Check on a Relation"
   ]
  },
  {
   "cell_type": "code",
   "execution_count": 310,
   "id": "8661f3e9",
   "metadata": {},
   "outputs": [],
   "source": [
    "def get_averaged_JB(top_performers, relation_prompt, subspace = None, num_icl = 3, calculate_at_lnf = False):\n",
    "    try:\n",
    "        jbs = []\n",
    "        for s, s_idx, o in tqdm(top_performers):\n",
    "            others = set(top_performers) - {(s, s_idx, o)}\n",
    "            others = random.sample(list(others), k = min(num_icl, len(list(others)))) \n",
    "            prompt = \"\"\n",
    "            prompt += \"\\n\".join(relation_prompt.format(s_other) + f\" {o_other}.\" for s_other, idx_other, o_other in others) + \"\\n\"\n",
    "            prompt += relation_prompt\n",
    "            print(\"subject: \", s)\n",
    "            print(prompt)\n",
    "\n",
    "            jb, _ = estimate.relation_operator_from_sample(\n",
    "                model, tokenizer,\n",
    "                s, prompt,\n",
    "                subject_token_index= s_idx,\n",
    "                layer = 15,\n",
    "                device = model.device,\n",
    "                subspace = subspace\n",
    "                # calculate_at_lnf = calculate_at_lnf,\n",
    "                # layer_name_format = \"model.decoder.layers.{}\",\n",
    "                # ln_f_name = \"model.decoder.final_layer_norm\",\n",
    "                # n_layer_field = \"num_hidden_layers\"\n",
    "            )\n",
    "            print(jb.weight.norm(), jb.bias.norm())\n",
    "            print()\n",
    "            jbs.append(jb)\n",
    "        \n",
    "        weight = torch.stack([jb.weight for jb in jbs]).mean(dim=0)\n",
    "        bias  = torch.stack([jb.bias for jb in jbs]).mean(dim=0)\n",
    "\n",
    "        return weight, bias\n",
    "    except RuntimeError as e:\n",
    "        if(str(e).startswith(\"CUDA out of memory\")):\n",
    "            print(\"CUDA out of memory\")\n",
    "        if(num_icl > 1):\n",
    "            num_icl -= 1\n",
    "            print(\"trying with smaller icl >> \", num_icl)\n",
    "            return get_averaged_JB(top_performers, relation_prompt, num_icl, calculate_at_lnf)\n",
    "        else:\n",
    "            raise Exception(\"RuntimeError >> can't calculate Jacobian with minimum number of icl examples\")\n",
    "\n",
    "def get_multiple_averaged_JB(top_performers, relation_prompt, subspace = None, N = 3, num_icl = 2, calculate_at_lnf = False):\n",
    "    weights_and_biases = []\n",
    "    sample_size = min(len(top_performers), num_icl + 2)\n",
    "    for _ in tqdm(range(N)):\n",
    "        cur_sample = random.sample(top_performers, k = sample_size)\n",
    "        weight, bias = get_averaged_JB(cur_sample, relation_prompt, subspace, num_icl, calculate_at_lnf)\n",
    "        weights_and_biases.append({\n",
    "            'weight': weight,\n",
    "            'bias'  : bias\n",
    "        })\n",
    "    return weights_and_biases"
   ]
  },
  {
   "cell_type": "code",
   "execution_count": 311,
   "id": "9570bb56",
   "metadata": {},
   "outputs": [
    {
     "data": {
      "text/plain": [
       "'{} is located in the country of'"
      ]
     },
     "execution_count": 311,
     "metadata": {},
     "output_type": "execute_result"
    }
   ],
   "source": [
    "relation"
   ]
  },
  {
   "cell_type": "code",
   "execution_count": 312,
   "id": "0a840b68",
   "metadata": {},
   "outputs": [
    {
     "data": {
      "application/vnd.jupyter.widget-view+json": {
       "model_id": "b61a158f36754c17aeb78785575cf4d4",
       "version_major": 2,
       "version_minor": 0
      },
      "text/plain": [
       "  0%|          | 0/3 [00:00<?, ?it/s]"
      ]
     },
     "metadata": {},
     "output_type": "display_data"
    },
    {
     "data": {
      "application/vnd.jupyter.widget-view+json": {
       "model_id": "e81b00d27bff454ca91097986b56bb60",
       "version_major": 2,
       "version_minor": 0
      },
      "text/plain": [
       "  0%|          | 0/4 [00:00<?, ?it/s]"
      ]
     },
     "metadata": {},
     "output_type": "display_data"
    },
    {
     "name": "stdout",
     "output_type": "stream",
     "text": [
      "subject:  Niagara Falls\n",
      "Kyoto University is located in the country of Japan.\n",
      "Ginza is located in the country of Japan.\n",
      "{} is located in the country of\n",
      "tensor(19.7434, device='cuda:0') tensor(262.0714, device='cuda:0')\n",
      "\n",
      "subject:  Kyoto University\n",
      "Niagara Falls is located in the country of Canada.\n",
      "Ginza is located in the country of Japan.\n",
      "{} is located in the country of\n",
      "tensor(23.0908, device='cuda:0') tensor(248.8911, device='cuda:0')\n",
      "\n",
      "subject:  Valdemarsvik\n",
      "Ginza is located in the country of Japan.\n",
      "Kyoto University is located in the country of Japan.\n",
      "{} is located in the country of\n",
      "tensor(16.8983, device='cuda:0') tensor(260.1151, device='cuda:0')\n",
      "\n",
      "subject:  Ginza\n",
      "Kyoto University is located in the country of Japan.\n",
      "Valdemarsvik is located in the country of Sweden.\n",
      "{} is located in the country of\n",
      "tensor(31.4903, device='cuda:0') tensor(251.0994, device='cuda:0')\n",
      "\n"
     ]
    },
    {
     "data": {
      "application/vnd.jupyter.widget-view+json": {
       "model_id": "38b920284e8744fea15538b4018ff660",
       "version_major": 2,
       "version_minor": 0
      },
      "text/plain": [
       "  0%|          | 0/4 [00:00<?, ?it/s]"
      ]
     },
     "metadata": {},
     "output_type": "display_data"
    },
    {
     "name": "stdout",
     "output_type": "stream",
     "text": [
      "subject:  Ginza\n",
      "Kyoto University is located in the country of Japan.\n",
      "Hattfjelldal is located in the country of Norway.\n",
      "{} is located in the country of\n",
      "tensor(32.1833, device='cuda:0') tensor(256.0479, device='cuda:0')\n",
      "\n",
      "subject:  Kyoto University\n",
      "Hattfjelldal is located in the country of Norway.\n",
      "The Great Wall is located in the country of China.\n",
      "{} is located in the country of\n",
      "tensor(25.6172, device='cuda:0') tensor(225.0871, device='cuda:0')\n",
      "\n",
      "subject:  The Great Wall\n",
      "Hattfjelldal is located in the country of Norway.\n",
      "Kyoto University is located in the country of Japan.\n",
      "{} is located in the country of\n",
      "tensor(28.2094, device='cuda:0') tensor(233.1182, device='cuda:0')\n",
      "\n",
      "subject:  Hattfjelldal\n",
      "Ginza is located in the country of Japan.\n",
      "The Great Wall is located in the country of China.\n",
      "{} is located in the country of\n",
      "tensor(25.4600, device='cuda:0') tensor(273.6544, device='cuda:0')\n",
      "\n"
     ]
    },
    {
     "data": {
      "application/vnd.jupyter.widget-view+json": {
       "model_id": "db72ff09448a42baac5b0a438d7fed81",
       "version_major": 2,
       "version_minor": 0
      },
      "text/plain": [
       "  0%|          | 0/4 [00:00<?, ?it/s]"
      ]
     },
     "metadata": {},
     "output_type": "display_data"
    },
    {
     "name": "stdout",
     "output_type": "stream",
     "text": [
      "subject:  Valdemarsvik\n",
      "Ginza is located in the country of Japan.\n",
      "Niagara Falls is located in the country of Canada.\n",
      "{} is located in the country of\n",
      "tensor(18.7833, device='cuda:0') tensor(279.3770, device='cuda:0')\n",
      "\n",
      "subject:  The Great Wall\n",
      "Ginza is located in the country of Japan.\n",
      "Valdemarsvik is located in the country of Sweden.\n",
      "{} is located in the country of\n",
      "tensor(26.8683, device='cuda:0') tensor(267.3033, device='cuda:0')\n",
      "\n",
      "subject:  Niagara Falls\n",
      "The Great Wall is located in the country of China.\n",
      "Ginza is located in the country of Japan.\n",
      "{} is located in the country of\n",
      "tensor(23.8912, device='cuda:0') tensor(277.9996, device='cuda:0')\n",
      "\n",
      "subject:  Ginza\n",
      "The Great Wall is located in the country of China.\n",
      "Niagara Falls is located in the country of Canada.\n",
      "{} is located in the country of\n",
      "tensor(33.5513, device='cuda:0') tensor(250.7028, device='cuda:0')\n",
      "\n"
     ]
    }
   ],
   "source": [
    "samples = [\n",
    "    (\"The Great Wall\", -1, \"China\"),\n",
    "    (\"Niagara Falls\", -2, \"Canada\"),\n",
    "    (\"Valdemarsvik\", -1, \"Sweden\"),\n",
    "    (\"Kyoto University\", -2, \"Japan\"),\n",
    "    (\"Hattfjelldal\", -1, \"Norway\"),\n",
    "    (\"Ginza\", -1, \"Japan\"),\n",
    "]\n",
    "\n",
    "weights_and_biases = get_multiple_averaged_JB(\n",
    "    samples, \n",
    "    relation_prompt = relation, \n",
    "    N = 3, \n",
    "    calculate_at_lnf=False\n",
    ")"
   ]
  },
  {
   "cell_type": "code",
   "execution_count": 313,
   "id": "d82af55f",
   "metadata": {},
   "outputs": [
    {
     "name": "stdout",
     "output_type": "stream",
     "text": [
      "transformer.ln_f.weight torch.Size([4096]) torch.float32\n",
      "transformer.ln_f.bias torch.Size([4096]) torch.float32\n",
      "lm_head.weight torch.Size([50400, 4096]) torch.float32\n",
      "lm_head.bias torch.Size([50400]) torch.float32\n",
      "initial representation:  [('ix', 9.945), ('Rad', 9.843), ('Op', 9.708), ('Nation', 9.642), ('Ing', 9.492)]\n",
      "torch.float32\n"
     ]
    },
    {
     "data": {
      "image/png": "[encoded data removed]",
      "text/plain": [
       "<Figure size 640x480 with 1 Axes>"
      ]
     },
     "metadata": {},
     "output_type": "display_data"
    },
    {
     "name": "stdout",
     "output_type": "stream",
     "text": [
      "final representation:  [(' Cyprus', 51.699), (' Zimbabwe', 51.693), (' Romania', 51.497), (' Bangladesh', 51.492), (' Nigeria', 51.328)]\n"
     ]
    }
   ],
   "source": [
    "corner = corner_estimator.estimate_corner_with_gradient_descent(objects, target_logit_value=50, verbose=True)"
   ]
  },
  {
   "cell_type": "code",
   "execution_count": 314,
   "id": "884db3f0",
   "metadata": {},
   "outputs": [],
   "source": [
    "relation_operator = estimate.RelationOperator(\n",
    "    model = model,\n",
    "    tokenizer= tokenizer,\n",
    "    relation = relation,\n",
    "    layer = 15,\n",
    "    weight = torch.stack(\n",
    "        [wb['weight'] for wb in weights_and_biases]\n",
    "    ).mean(dim=0),\n",
    "    # bias = torch.stack(\n",
    "    #     [wb['bias'] for wb in weights_and_biases]\n",
    "    # ).mean(dim=0),\n",
    "    bias = corner,\n",
    "\n",
    "    # layer_name_format = \"model.decoder.layers.{}\",\n",
    "    # ln_f_name = \"model.decoder.final_layer_norm\",\n",
    ")"
   ]
  },
  {
   "cell_type": "code",
   "execution_count": 315,
   "id": "156031e6",
   "metadata": {},
   "outputs": [
    {
     "data": {
      "text/plain": [
       "[' China', ' Beijing', ' Taiwan', ' Russia', ' Kazakhstan']"
      ]
     },
     "execution_count": 315,
     "metadata": {},
     "output_type": "execute_result"
    }
   ],
   "source": [
    "relation_operator(\"The Great Wall\", device = model.device)"
   ]
  },
  {
   "cell_type": "code",
   "execution_count": 316,
   "id": "a02eec99",
   "metadata": {},
   "outputs": [],
   "source": [
    "from relations.evaluate import evaluate"
   ]
  },
  {
   "cell_type": "code",
   "execution_count": 317,
   "id": "cdb0bfb2",
   "metadata": {},
   "outputs": [
    {
     "name": "stdout",
     "output_type": "stream",
     "text": [
      "validating on 407 subject --> object associations\n"
     ]
    },
    {
     "name": "stderr",
     "output_type": "stream",
     "text": [
      "100%|██████████| 407/407 [00:22<00:00, 17.85it/s]\n"
     ]
    },
    {
     "data": {
      "text/plain": [
       "0.8230958230958231"
      ]
     },
     "execution_count": 317,
     "metadata": {},
     "output_type": "execute_result"
    }
   ],
   "source": [
    "precision, ret_dict = evaluate(\n",
    "    relation_id = \"P17\",\n",
    "    relation_operator = relation_operator,\n",
    "    validation_set = [(c[\"subject\"], -1, c[\"target_true\"][\"str\"]) for c in counterfact_gold],\n",
    "    precision_at = 3,\n",
    ")\n",
    "\n",
    "precision"
   ]
  },
  {
   "cell_type": "code",
   "execution_count": 339,
   "id": "8baac1c5",
   "metadata": {},
   "outputs": [
    {
     "data": {
      "application/vnd.jupyter.widget-view+json": {
       "model_id": "7a14ed794caa4dc3960b4fc31a1eb563",
       "version_major": 2,
       "version_minor": 0
      },
      "text/plain": [
       "  0%|          | 0/3 [00:00<?, ?it/s]"
      ]
     },
     "metadata": {},
     "output_type": "display_data"
    },
    {
     "data": {
      "application/vnd.jupyter.widget-view+json": {
       "model_id": "a58ddc2840a843df9e6a3225623ff06e",
       "version_major": 2,
       "version_minor": 0
      },
      "text/plain": [
       "  0%|          | 0/4 [00:00<?, ?it/s]"
      ]
     },
     "metadata": {},
     "output_type": "display_data"
    },
    {
     "name": "stdout",
     "output_type": "stream",
     "text": [
      "subject:  Hattfjelldal\n",
      "Valdemarsvik is located in the country of Sweden.\n",
      "Kyoto University is located in the country of Japan.\n",
      "{} is located in the country of\n",
      "tensor(80.0001, device='cuda:0') tensor(249.8445, device='cuda:0', grad_fn=<LinalgVectorNormBackward0>)\n",
      "\n",
      "subject:  Kyoto University\n",
      "Niagara Falls is located in the country of Canada.\n",
      "Hattfjelldal is located in the country of Norway.\n",
      "{} is located in the country of\n",
      "tensor(82.2312, device='cuda:0') tensor(250.2853, device='cuda:0', grad_fn=<LinalgVectorNormBackward0>)\n",
      "\n",
      "subject:  Valdemarsvik\n",
      "Niagara Falls is located in the country of Canada.\n",
      "Hattfjelldal is located in the country of Norway.\n",
      "{} is located in the country of\n",
      "tensor(44.8916, device='cuda:0') tensor(277.7527, device='cuda:0', grad_fn=<LinalgVectorNormBackward0>)\n",
      "\n",
      "subject:  Niagara Falls\n",
      "Kyoto University is located in the country of Japan.\n",
      "Valdemarsvik is located in the country of Sweden.\n",
      "{} is located in the country of\n",
      "tensor(108.2379, device='cuda:0') tensor(273.7233, device='cuda:0', grad_fn=<LinalgVectorNormBackward0>)\n",
      "\n"
     ]
    },
    {
     "data": {
      "application/vnd.jupyter.widget-view+json": {
       "model_id": "483ad0236eed49519ddc06604d116c0e",
       "version_major": 2,
       "version_minor": 0
      },
      "text/plain": [
       "  0%|          | 0/4 [00:00<?, ?it/s]"
      ]
     },
     "metadata": {},
     "output_type": "display_data"
    },
    {
     "name": "stdout",
     "output_type": "stream",
     "text": [
      "subject:  Ginza\n",
      "Valdemarsvik is located in the country of Sweden.\n",
      "The Great Wall is located in the country of China.\n",
      "{} is located in the country of\n",
      "tensor(68.9775, device='cuda:0') tensor(244.7100, device='cuda:0', grad_fn=<LinalgVectorNormBackward0>)\n",
      "\n",
      "subject:  Valdemarsvik\n",
      "The Great Wall is located in the country of China.\n",
      "Niagara Falls is located in the country of Canada.\n",
      "{} is located in the country of\n",
      "tensor(49.9703, device='cuda:0') tensor(276.1677, device='cuda:0', grad_fn=<LinalgVectorNormBackward0>)\n",
      "\n",
      "subject:  Niagara Falls\n",
      "The Great Wall is located in the country of China.\n",
      "Ginza is located in the country of Japan.\n",
      "{} is located in the country of\n",
      "tensor(107.8401, device='cuda:0') tensor(284.7330, device='cuda:0', grad_fn=<LinalgVectorNormBackward0>)\n",
      "\n",
      "subject:  The Great Wall\n",
      "Ginza is located in the country of Japan.\n",
      "Niagara Falls is located in the country of Canada.\n",
      "{} is located in the country of\n",
      "tensor(105.7469, device='cuda:0') tensor(261.6273, device='cuda:0', grad_fn=<LinalgVectorNormBackward0>)\n",
      "\n"
     ]
    },
    {
     "data": {
      "application/vnd.jupyter.widget-view+json": {
       "model_id": "905ede1973ec43fdaaebea86e026376b",
       "version_major": 2,
       "version_minor": 0
      },
      "text/plain": [
       "  0%|          | 0/4 [00:00<?, ?it/s]"
      ]
     },
     "metadata": {},
     "output_type": "display_data"
    },
    {
     "name": "stdout",
     "output_type": "stream",
     "text": [
      "subject:  Valdemarsvik\n",
      "Hattfjelldal is located in the country of Norway.\n",
      "The Great Wall is located in the country of China.\n",
      "{} is located in the country of\n",
      "tensor(46.1953, device='cuda:0') tensor(264.3004, device='cuda:0', grad_fn=<LinalgVectorNormBackward0>)\n",
      "\n",
      "subject:  Hattfjelldal\n",
      "The Great Wall is located in the country of China.\n",
      "Ginza is located in the country of Japan.\n",
      "{} is located in the country of\n",
      "tensor(79.6235, device='cuda:0') tensor(265.7157, device='cuda:0', grad_fn=<LinalgVectorNormBackward0>)\n",
      "\n",
      "subject:  The Great Wall\n",
      "Ginza is located in the country of Japan.\n",
      "Hattfjelldal is located in the country of Norway.\n",
      "{} is located in the country of\n",
      "tensor(109.3693, device='cuda:0') tensor(269.6064, device='cuda:0', grad_fn=<LinalgVectorNormBackward0>)\n",
      "\n",
      "subject:  Ginza\n",
      "Valdemarsvik is located in the country of Sweden.\n",
      "The Great Wall is located in the country of China.\n",
      "{} is located in the country of\n",
      "tensor(68.9775, device='cuda:0') tensor(244.7100, device='cuda:0', grad_fn=<LinalgVectorNormBackward0>)\n",
      "\n"
     ]
    }
   ],
   "source": [
    "# h_intervention_batch = h_original_batch @ subspace + h_corruption_mean @ (I - subspace)\n",
    "subspace = Q @ Q.T\n",
    "\n",
    "weights_and_biases_subspace = get_multiple_averaged_JB(\n",
    "    samples, \n",
    "    relation_prompt = relation, \n",
    "    N = 3, \n",
    "    calculate_at_lnf=False,\n",
    "    subspace = (\n",
    "        subspace, \n",
    "#         h_corruption_mean @ (I - subspace)\n",
    "        torch.zeros(mt.n_embd).to(model.dtype).to(model.device)\n",
    "    )\n",
    ")"
   ]
  },
  {
   "cell_type": "code",
   "execution_count": 341,
   "id": "ab0ba61b",
   "metadata": {},
   "outputs": [],
   "source": [
    "relation_operator_subspace = estimate.RelationOperator(\n",
    "    model = model,\n",
    "    tokenizer= tokenizer,\n",
    "    relation = relation,\n",
    "    layer = 15,\n",
    "    weight = torch.stack(\n",
    "        [wb['weight'] for wb in weights_and_biases_subspace]\n",
    "    ).mean(dim=0),\n",
    "    # bias = torch.stack(\n",
    "    #     [wb['bias'] for wb in weights_and_biases]\n",
    "    # ).mean(dim=0),\n",
    "    bias = corner,\n",
    "    subspace = (\n",
    "        subspace, \n",
    "#         h_corruption_mean @ (I - subspace)\n",
    "        torch.zeros(mt.n_embd).to(model.dtype).to(model.device)\n",
    "    )\n",
    "\n",
    "    # layer_name_format = \"model.decoder.layers.{}\",\n",
    "    # ln_f_name = \"model.decoder.final_layer_norm\",\n",
    ")"
   ]
  },
  {
   "cell_type": "code",
   "execution_count": 342,
   "id": "9cc92124",
   "metadata": {},
   "outputs": [
    {
     "data": {
      "text/plain": [
       "[' India', ' Pakistan', ' Bangladesh', ' Nepal', ' Afghanistan']"
      ]
     },
     "execution_count": 342,
     "metadata": {},
     "output_type": "execute_result"
    }
   ],
   "source": [
    "relation_operator_subspace(\"Taj Mahal\", device = model.device)"
   ]
  },
  {
   "cell_type": "code",
   "execution_count": 343,
   "id": "4066c052",
   "metadata": {},
   "outputs": [
    {
     "name": "stdout",
     "output_type": "stream",
     "text": [
      "validating on 407 subject --> object associations\n"
     ]
    },
    {
     "name": "stderr",
     "output_type": "stream",
     "text": [
      "100%|██████████| 407/407 [00:22<00:00, 17.85it/s]\n"
     ]
    },
    {
     "data": {
      "text/plain": [
       "0.8452088452088452"
      ]
     },
     "execution_count": 343,
     "metadata": {},
     "output_type": "execute_result"
    }
   ],
   "source": [
    "precision, ret_dict = evaluate(\n",
    "    relation_id = \"P17\",\n",
    "    relation_operator = relation_operator_subspace,\n",
    "    validation_set = [(c[\"subject\"], -1, c[\"target_true\"][\"str\"]) for c in counterfact_gold],\n",
    "    precision_at = 3,\n",
    ")\n",
    "\n",
    "precision"
   ]
  },
  {
   "cell_type": "code",
   "execution_count": 240,
   "id": "6797a1e2",
   "metadata": {},
   "outputs": [
    {
     "data": {
      "text/plain": [
       "(tensor(18.6448, device='cuda:0'), tensor(57.5564, device='cuda:0'))"
      ]
     },
     "execution_count": 240,
     "metadata": {},
     "output_type": "execute_result"
    }
   ],
   "source": [
    "relation_operator.weight.norm(), relation_operator_subspace.weight.norm()"
   ]
  },
  {
   "cell_type": "code",
   "execution_count": 241,
   "id": "301c6c85",
   "metadata": {},
   "outputs": [
    {
     "data": {
      "text/plain": [
       "(tensor(49.3129, device='cuda:0'), tensor(49.3129, device='cuda:0'))"
      ]
     },
     "execution_count": 241,
     "metadata": {},
     "output_type": "execute_result"
    }
   ],
   "source": [
    "relation_operator.bias.norm(), relation_operator_subspace.bias.norm()"
   ]
  },
  {
   "cell_type": "code",
   "execution_count": 242,
   "id": "36cd1758",
   "metadata": {},
   "outputs": [
    {
     "data": {
      "text/plain": [
       "tensor(241.1568, device='cuda:0')"
      ]
     },
     "execution_count": 242,
     "metadata": {},
     "output_type": "execute_result"
    }
   ],
   "source": [
    "torch.stack([wb['bias'] for wb in weights_and_biases]).mean(dim=0).norm()"
   ]
  },
  {
   "cell_type": "code",
   "execution_count": 243,
   "id": "11796181",
   "metadata": {},
   "outputs": [
    {
     "data": {
      "text/plain": [
       "tensor(237.4820, device='cuda:0', grad_fn=<LinalgVectorNormBackward0>)"
      ]
     },
     "execution_count": 243,
     "metadata": {},
     "output_type": "execute_result"
    }
   ],
   "source": [
    "torch.stack([wb['bias'] for wb in weights_and_biases_subspace]).mean(dim=0).norm()"
   ]
  },
  {
   "cell_type": "code",
   "execution_count": 245,
   "id": "570fa3b7",
   "metadata": {},
   "outputs": [],
   "source": [
    "relation_operator_identity = estimate.RelationOperator(\n",
    "    model = model,\n",
    "    tokenizer= tokenizer,\n",
    "    relation = relation,\n",
    "    layer = 15,\n",
    "    weight = torch.eye(mt.n_embd).to(model.dtype).to(model.device),\n",
    "    bias = corner,\n",
    "\n",
    "    # layer_name_format = \"model.decoder.layers.{}\",\n",
    "    # ln_f_name = \"model.decoder.final_layer_norm\",\n",
    ")"
   ]
  },
  {
   "cell_type": "code",
   "execution_count": 246,
   "id": "ae696027",
   "metadata": {},
   "outputs": [
    {
     "name": "stdout",
     "output_type": "stream",
     "text": [
      "validating on 407 subject --> object associations\n"
     ]
    },
    {
     "name": "stderr",
     "output_type": "stream",
     "text": [
      "100%|██████████| 407/407 [00:22<00:00, 17.72it/s]\n"
     ]
    },
    {
     "data": {
      "text/plain": [
       "0.855036855036855"
      ]
     },
     "execution_count": 246,
     "metadata": {},
     "output_type": "execute_result"
    }
   ],
   "source": [
    "precision, ret_dict = evaluate(\n",
    "    relation_id = \"P17\",\n",
    "    relation_operator = relation_operator_identity,\n",
    "    validation_set = [(c[\"subject\"], -1, c[\"target_true\"][\"str\"]) for c in counterfact_gold],\n",
    "    precision_at = 3,\n",
    ")\n",
    "\n",
    "precision"
   ]
  },
  {
   "cell_type": "code",
   "execution_count": 285,
   "id": "eb5f8462",
   "metadata": {},
   "outputs": [
    {
     "data": {
      "text/plain": [
       "torch.Size([4096])"
      ]
     },
     "execution_count": 285,
     "metadata": {},
     "output_type": "execute_result"
    }
   ],
   "source": [
    "torch.zeros(mt.n_embd).to(model.dtype).to(model.device)"
   ]
  },
  {
   "cell_type": "code",
   "execution_count": null,
   "id": "64881758",
   "metadata": {},
   "outputs": [],
   "source": [
    "r = \"{} is located in the country of\"\n",
    "\n",
    "\"The Space Needle\" ---> h_o ----> z_o ---> \"United States\"\n",
    "\"Eiffel Tower\"     ---> h_c ----> z_c ---> \"France\"\n",
    "\n",
    "Q = [n_embd, low_rank = 100]\n",
    "subspace = Q @ Q.T\n",
    "\n",
    "h_i = subspace @ h_o + (I - subspace) @ h_c\n",
    "\n",
    "\"The Space Needle\" ---> h_i ----> z_i ---> X = \"United States\"\n",
    "\n",
    "\n",
    "loss = KL(ll(z_o) | ll(z_i)) + (I - Q.T @ Q).square().sum()"
   ]
  },
  {
   "cell_type": "code",
   "execution_count": null,
   "id": "0560660c",
   "metadata": {},
   "outputs": [],
   "source": [
    "J @ h_o + bias = z_o\n",
    "J @ (subspace @ h_o + (I - subspace) @ h_avg) + corner\n",
    "\n",
    "h_i = h_avg + subspace @ (h_o - h_avg)\n",
    "norm(subspace@(h_0-h_avg))"
   ]
  }
 ],
 "metadata": {
  "kernelspec": {
   "display_name": "Python 3 (ipykernel)",
   "language": "python",
   "name": "python3"
  },
  "language_info": {
   "codemirror_mode": {
    "name": "ipython",
    "version": 3
   },
   "file_extension": ".py",
   "mimetype": "text/x-python",
   "name": "python",
   "nbconvert_exporter": "python",
   "pygments_lexer": "ipython3",
   "version": "3.10.10"
  }
 },
 "nbformat": 4,
 "nbformat_minor": 5
}
