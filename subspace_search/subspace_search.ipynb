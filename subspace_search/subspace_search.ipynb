{
 "cells": [
  {
   "cell_type": "code",
   "execution_count": 1,
   "id": "17d3a33d",
   "metadata": {},
   "outputs": [],
   "source": [
    "%load_ext autoreload\n",
    "%autoreload 2"
   ]
  },
  {
   "cell_type": "code",
   "execution_count": 2,
   "id": "528c6b2a",
   "metadata": {},
   "outputs": [],
   "source": [
    "import torch\n",
    "import numpy as np\n",
    "import json\n",
    "from tqdm.auto import tqdm\n",
    "import random\n",
    "import transformers\n",
    "import baukit\n",
    "\n",
    "import os\n",
    "import sys\n",
    "sys.path.append('..')\n",
    "\n",
    "from relations import estimate\n",
    "from util import model_utils\n",
    "from baukit import nethook\n",
    "from operator import itemgetter\n",
    "from relations.evaluate import evaluate\n",
    "from relations.corner import CornerEstimator"
   ]
  },
  {
   "cell_type": "code",
   "execution_count": 3,
   "id": "7cb7ac99",
   "metadata": {},
   "outputs": [
    {
     "name": "stdout",
     "output_type": "stream",
     "text": [
      "EleutherAI/gpt-j-6B ==> device: cuda:0, memory: 24320971760\n"
     ]
    }
   ],
   "source": [
    "MODEL_NAME = \"EleutherAI/gpt-j-6B\"  # gpt2-{medium,large,xl} or EleutherAI/gpt-j-6B\n",
    "mt = model_utils.ModelAndTokenizer(MODEL_NAME, low_cpu_mem_usage=True, torch_dtype=torch.float32)\n",
    "\n",
    "model = mt.model\n",
    "tokenizer = mt.tokenizer\n",
    "tokenizer.pad_token = tokenizer.eos_token\n",
    "\n",
    "print(f\"{MODEL_NAME} ==> device: {model.device}, memory: {model.get_memory_footprint()}\")"
   ]
  },
  {
   "cell_type": "code",
   "execution_count": 4,
   "id": "b018d5af",
   "metadata": {},
   "outputs": [
    {
     "data": {
      "text/plain": [
       "'transformer.ln_f'"
      ]
     },
     "execution_count": 4,
     "metadata": {},
     "output_type": "execute_result"
    }
   ],
   "source": [
    "mt.ln_f_name"
   ]
  },
  {
   "cell_type": "code",
   "execution_count": 5,
   "id": "9359d6a2",
   "metadata": {},
   "outputs": [],
   "source": [
    "corner_estimator = CornerEstimator(\n",
    "    model = model, tokenizer = tokenizer, ln_f_name = mt.ln_f_name, unembedder_module_name = mt.unembedder_name\n",
    ")"
   ]
  },
  {
   "cell_type": "code",
   "execution_count": 6,
   "id": "6025d81e",
   "metadata": {},
   "outputs": [
    {
     "name": "stdout",
     "output_type": "stream",
     "text": [
      "unique objects:  96 [' Albania', ' Poland', ' Rwanda', ' Slovenia', ' Austria']\n"
     ]
    }
   ],
   "source": [
    "#################################################\n",
    "relation_id = \"P17\"\n",
    "precision_at = 3\n",
    "#################################################\n",
    "\n",
    "with open(\"../data/counterfact.json\") as f:\n",
    "    counterfact = json.load(f)\n",
    "\n",
    "objects = [c['requested_rewrite'] for c in counterfact if c[\"requested_rewrite\"]['relation_id'] == relation_id]\n",
    "objects = [\" \"+ o['target_true']['str'] for o in objects]\n",
    "objects = list(set(objects))\n",
    "objects.append(\" China\")\n",
    "print(\"unique objects: \", len(objects), objects[0:5])"
   ]
  },
  {
   "cell_type": "code",
   "execution_count": 7,
   "id": "0b712c2e",
   "metadata": {},
   "outputs": [
    {
     "data": {
      "text/plain": [
       "torch.Size([96])"
      ]
     },
     "execution_count": 7,
     "metadata": {},
     "output_type": "execute_result"
    }
   ],
   "source": [
    "target_token_ids = tokenizer(objects, padding=True, return_tensors=\"pt\").to(model.device)\n",
    "target_token_ids = target_token_ids.input_ids.view(len(objects))\n",
    "target_token_ids.shape"
   ]
  },
  {
   "cell_type": "code",
   "execution_count": 56,
   "id": "b10c9971",
   "metadata": {},
   "outputs": [
    {
     "data": {
      "text/plain": [
       "(['Taj Mahal is located in the country of India. It is a city and a municipal board',\n",
       "  'Zbuczyn is located in the country of Poland, in the province of Łó'],\n",
       " [{'top_token': ' India',\n",
       "   'candidates': [{'token': ' India', 'token_id': 3794, 'p': 0.7467},\n",
       "    {'token': ' Pakistan', 'token_id': 7648, 'p': 0.0507},\n",
       "    {'token': ' Uttar', 'token_id': 44744, 'p': 0.022},\n",
       "    {'token': ' the', 'token_id': 262, 'p': 0.017},\n",
       "    {'token': ' Bangladesh', 'token_id': 19483, 'p': 0.0104}]},\n",
       "  {'top_token': ' Poland',\n",
       "   'candidates': [{'token': ' Poland', 'token_id': 12873, 'p': 0.6571},\n",
       "    {'token': ' Belarus', 'token_id': 33368, 'p': 0.0218},\n",
       "    {'token': ' the', 'token_id': 262, 'p': 0.0201},\n",
       "    {'token': ' Ukraine', 'token_id': 7049, 'p': 0.0116},\n",
       "    {'token': ' Lithuania', 'token_id': 31295, 'p': 0.0097}]}])"
      ]
     },
     "execution_count": 56,
     "metadata": {},
     "output_type": "execute_result"
    }
   ],
   "source": [
    "relation = \"{} is located in the country of\"\n",
    "subject_o = \"Taj Mahal\"\n",
    "subject_i = \"Zbuczyn\"\n",
    "\n",
    "prompt_o = relation.format(subject_o)\n",
    "prompt_i = relation.format(subject_i)\n",
    "\n",
    "txt, ret_dct = model_utils.generate_fast(\n",
    "    model, tokenizer,\n",
    "    prompts = [\n",
    "        prompt_o, prompt_i\n",
    "    ],\n",
    "    argmax_greedy = True,\n",
    "    get_answer_tokens = True\n",
    ")\n",
    "\n",
    "txt, ret_dct['answer']"
   ]
  },
  {
   "cell_type": "markdown",
   "id": "79b7632b",
   "metadata": {},
   "source": [
    "## Necessary subspace search"
   ]
  },
  {
   "cell_type": "code",
   "execution_count": 57,
   "id": "f514c633",
   "metadata": {},
   "outputs": [],
   "source": [
    "def interpret_model_output(output):\n",
    "    token_ids = output.logits[0][-1].argsort()[-10:]\n",
    "    logits = output.logits[0][-1][token_ids]\n",
    "    proba = torch.nn.functional.softmax(output.logits[0][-1], dim = 0)[token_ids]\n",
    "\n",
    "    return [\n",
    "        (tokenizer.decode(t), l.item(), p.item()) for t, l, p in zip(token_ids, logits, proba)\n",
    "    ][::-1]\n",
    "\n",
    "def get_replace_intervention(\n",
    "    intervention_layer,\n",
    "    intervention_token_pos,\n",
    "    replacement,\n",
    "):\n",
    "    def intervention(output, layer):\n",
    "        if(layer != intervention_layer):\n",
    "            return output\n",
    "        output[0][0][intervention_token_pos] = replacement\n",
    "            \n",
    "        return output\n",
    "    \n",
    "    return intervention"
   ]
  },
  {
   "cell_type": "code",
   "execution_count": 58,
   "id": "04b8728d",
   "metadata": {},
   "outputs": [],
   "source": [
    "###########################################################\n",
    "num_basis = 100\n",
    "intervention_layer = 15\n",
    "##########################################################\n",
    "\n",
    "intervention_layer_name = mt.layer_name_format.format(intervention_layer)"
   ]
  },
  {
   "cell_type": "code",
   "execution_count": 59,
   "id": "5f0eaa88",
   "metadata": {},
   "outputs": [
    {
     "data": {
      "text/plain": [
       "(0, 4)"
      ]
     },
     "execution_count": 59,
     "metadata": {},
     "output_type": "execute_result"
    }
   ],
   "source": [
    "tokenized_o = tokenizer(prompt_o, return_tensors = \"pt\", return_offsets_mapping = True).to(model.device)\n",
    "offset_mapping = tokenized_o.pop(\"offset_mapping\")\n",
    "range_o = estimate._find_token_range(\n",
    "    prompt_o, subject_o, offset_mapping=offset_mapping[0]\n",
    ")\n",
    "range_o"
   ]
  },
  {
   "cell_type": "code",
   "execution_count": 60,
   "id": "e39c75d3",
   "metadata": {},
   "outputs": [
    {
     "data": {
      "text/plain": [
       "[(' India', 17.919260025024414, 0.7466663718223572),\n",
       " (' Pakistan', 15.228890419006348, 0.05066568776965141),\n",
       " (' Uttar', 14.396512985229492, 0.022040273994207382),\n",
       " (' the', 14.134864807128906, 0.0169662032276392),\n",
       " (' Bangladesh', 13.649147033691406, 0.010438548400998116),\n",
       " (' Ag', 13.510643005371094, 0.009088424034416676),\n",
       " (' Punjab', 13.340045928955078, 0.00766300642862916),\n",
       " (' Nepal', 13.251482963562012, 0.007013531867414713),\n",
       " (' United', 13.155050277709961, 0.006368785165250301),\n",
       " (' Taj', 12.864961624145508, 0.004765107296407223)]"
      ]
     },
     "execution_count": 60,
     "metadata": {},
     "output_type": "execute_result"
    }
   ],
   "source": [
    "with baukit.TraceDict(\n",
    "    model, [intervention_layer_name]\n",
    ") as traces_o:\n",
    "    output_o = model(**tokenized_o)\n",
    "interpret_model_output(output_o)"
   ]
  },
  {
   "cell_type": "code",
   "execution_count": 61,
   "id": "a4eac024",
   "metadata": {},
   "outputs": [
    {
     "name": "stdout",
     "output_type": "stream",
     "text": [
      "torch.Size([4096])\n"
     ]
    },
    {
     "data": {
      "text/plain": [
       "[' Singh', '�', \"'s\", ' Archives', ' singer']"
      ]
     },
     "execution_count": 61,
     "metadata": {},
     "output_type": "execute_result"
    }
   ],
   "source": [
    "h_o = model_utils.untuple(traces_o[intervention_layer_name].output)[0][range_o[1] - 1]\n",
    "print(h_o.shape)\n",
    "\n",
    "corner_estimator.get_vocab_representation(h_o)"
   ]
  },
  {
   "cell_type": "code",
   "execution_count": 62,
   "id": "a20925e1",
   "metadata": {},
   "outputs": [
    {
     "data": {
      "text/plain": [
       "(0, 5)"
      ]
     },
     "execution_count": 62,
     "metadata": {},
     "output_type": "execute_result"
    }
   ],
   "source": [
    "tokenized_i = tokenizer(prompt_i, return_tensors = \"pt\", return_offsets_mapping = True).to(model.device)\n",
    "offset_mapping = tokenized_i.pop(\"offset_mapping\")\n",
    "range_i = estimate._find_token_range(\n",
    "    prompt_i, subject_i, offset_mapping=offset_mapping[0]\n",
    ")\n",
    "range_i"
   ]
  },
  {
   "cell_type": "code",
   "execution_count": 63,
   "id": "1244b497",
   "metadata": {},
   "outputs": [
    {
     "data": {
      "text/plain": [
       "[(' Poland', 16.342823028564453, 0.6571455597877502),\n",
       " (' Belarus', 12.937439918518066, 0.02181335538625717),\n",
       " (' the', 12.856554985046387, 0.020118454471230507),\n",
       " (' Ukraine', 12.309950828552246, 0.011646821163594723),\n",
       " (' Lithuania', 12.127655029296875, 0.009705934673547745),\n",
       " (' �', 11.85157585144043, 0.007364405784755945),\n",
       " (' P', 11.803400993347168, 0.007018036674708128),\n",
       " (' south', 11.629080772399902, 0.005895346403121948),\n",
       " (' K', 11.613897323608398, 0.005806510336697102),\n",
       " (' Germany', 11.520854949951172, 0.005290630739182234)]"
      ]
     },
     "execution_count": 63,
     "metadata": {},
     "output_type": "execute_result"
    }
   ],
   "source": [
    "with baukit.TraceDict(\n",
    "    model, [intervention_layer_name]\n",
    ") as traces_i:\n",
    "    output_i = model(**tokenized_i)\n",
    "interpret_model_output(output_i)"
   ]
  },
  {
   "cell_type": "code",
   "execution_count": 64,
   "id": "64d26d8f",
   "metadata": {},
   "outputs": [
    {
     "name": "stdout",
     "output_type": "stream",
     "text": [
      "torch.Size([4096])\n"
     ]
    },
    {
     "data": {
      "text/plain": [
       "['nie', 'ew', 'ka', '�', 'ow']"
      ]
     },
     "execution_count": 64,
     "metadata": {},
     "output_type": "execute_result"
    }
   ],
   "source": [
    "h_i = model_utils.untuple(traces_i[intervention_layer_name].output)[0][range_i[1] - 1]\n",
    "print(h_i.shape)\n",
    "\n",
    "corner_estimator.get_vocab_representation(h_i)"
   ]
  },
  {
   "cell_type": "code",
   "execution_count": 65,
   "id": "6d02a73f",
   "metadata": {},
   "outputs": [
    {
     "data": {
      "text/plain": [
       "[(' India', 16.540157318115234, 0.34483572840690613),\n",
       " (' Poland', 16.12696647644043, 0.22812126576900482),\n",
       " (' Pakistan', 14.928086280822754, 0.06878578662872314),\n",
       " (' Taj', 14.263662338256836, 0.03539509326219559),\n",
       " (' the', 13.528918266296387, 0.016976485028862953),\n",
       " (' Bangladesh', 13.368673324584961, 0.014462863095104694),\n",
       " (' Ukraine', 12.944073677062988, 0.009459169581532478),\n",
       " (' Bh', 12.827205657958984, 0.008415847085416317),\n",
       " (' Punjab', 12.824841499328613, 0.008395974524319172),\n",
       " (' Azerbaijan', 12.76975154876709, 0.007945951074361801)]"
      ]
     },
     "execution_count": 65,
     "metadata": {},
     "output_type": "execute_result"
    }
   ],
   "source": [
    "with baukit.TraceDict(\n",
    "    model, [intervention_layer_name],\n",
    "    edit_output = get_replace_intervention(\n",
    "        intervention_layer = intervention_layer_name,\n",
    "        intervention_token_pos = range_o[1] - 1,\n",
    "        replacement = h_i\n",
    "    )\n",
    ") as traces_c:\n",
    "    output_c = model(**tokenized_o)\n",
    "\n",
    "interpret_model_output(output_c)"
   ]
  },
  {
   "cell_type": "code",
   "execution_count": null,
   "id": "727260f8",
   "metadata": {},
   "outputs": [],
   "source": []
  },
  {
   "cell_type": "code",
   "execution_count": null,
   "id": "d472cd93",
   "metadata": {},
   "outputs": [],
   "source": []
  },
  {
   "cell_type": "code",
   "execution_count": null,
   "id": "7c8e46c0",
   "metadata": {},
   "outputs": [],
   "source": []
  },
  {
   "cell_type": "code",
   "execution_count": 17,
   "id": "3790cc55",
   "metadata": {},
   "outputs": [
    {
     "data": {
      "text/plain": [
       "tensor(1.0000, device='cuda:0')"
      ]
     },
     "execution_count": 17,
     "metadata": {},
     "output_type": "execute_result"
    }
   ],
   "source": [
    "target_distribution = torch.nn.functional.softmax(output_o.logits[0][-1][[target_token_ids]], dim = 0)\n",
    "target_distribution.sum()"
   ]
  },
  {
   "cell_type": "code",
   "execution_count": 18,
   "id": "ce341222",
   "metadata": {},
   "outputs": [],
   "source": [
    "def make_subspace_normal(Q, num_epochs = 100, learning_rate = 0.001):\n",
    "    normal_loss = (torch.eye(num_basis).to(model.dtype).to(model.device) - Q.T @ Q).square().sum()\n",
    "    print(f\"initial loss => {normal_loss.item()}\")\n",
    "    \n",
    "    Q.requires_grad = True\n",
    "    optimizer = torch.optim.Adam([Q], lr = learning_rate)\n",
    "    for epoch in tqdm(range(num_epochs)):\n",
    "        subspace = Q @ Q.T\n",
    "        normal_loss = (torch.eye(num_basis).to(model.dtype).to(model.device) - Q.T @ Q).square().sum()\n",
    "        optimizer.zero_grad()\n",
    "        model.zero_grad()\n",
    "        normal_loss.backward()\n",
    "        optimizer.step()\n",
    "    \n",
    "    normal_loss = (torch.eye(num_basis).to(model.dtype).to(model.device) - Q.T @ Q).square().sum()\n",
    "    print(f\"final loss => {normal_loss.item()}\")\n",
    "    return Q"
   ]
  },
  {
   "cell_type": "code",
   "execution_count": 66,
   "id": "6355f93f",
   "metadata": {},
   "outputs": [],
   "source": [
    "intervention_token_pos = range_o[1] - 1  # intervene on the last token of subject\n",
    "\n",
    "Q = torch.FloatTensor(mt.n_embd, num_basis).uniform_(-.1, .1).to(model.device)\n",
    "Q.requires_grad = True"
   ]
  },
  {
   "cell_type": "code",
   "execution_count": 68,
   "id": "ec6352de",
   "metadata": {},
   "outputs": [
    {
     "name": "stdout",
     "output_type": "stream",
     "text": [
      "initial loss => 58.751220703125\n"
     ]
    },
    {
     "data": {
      "application/vnd.jupyter.widget-view+json": {
       "model_id": "06db3a9b2382416f8c0a3ea01910f779",
       "version_major": 2,
       "version_minor": 0
      },
      "text/plain": [
       "  0%|          | 0/300 [00:00<?, ?it/s]"
      ]
     },
     "metadata": {},
     "output_type": "display_data"
    },
    {
     "name": "stdout",
     "output_type": "stream",
     "text": [
      "final loss => 3.8020595786308897e-13\n"
     ]
    },
    {
     "data": {
      "application/vnd.jupyter.widget-view+json": {
       "model_id": "80163d93df10453598fd63f5061c48b1",
       "version_major": 2,
       "version_minor": 0
      },
      "text/plain": [
       "  0%|          | 0/20 [00:00<?, ?it/s]"
      ]
     },
     "metadata": {},
     "output_type": "display_data"
    },
    {
     "name": "stdout",
     "output_type": "stream",
     "text": [
      "True\n",
      "initial\n",
      "[(' China', 19.67629051208496, 0.925338089466095), (' India', 15.391878128051758, 0.012752748094499111), (' the', 14.588817596435547, 0.005712668411433697), (' Myanmar', 13.963502883911133, 0.003056808840483427), (' Yun', 13.613762855529785, 0.0021546566858887672), (' Chin', 13.56003189086914, 0.002041940577328205), (' People', 13.361471176147461, 0.0016742073930799961), (' North', 13.28667163848877, 0.0015535462880507112), ('\\n', 13.205667495727539, 0.001432664692401886), (' G', 13.17929458618164, 0.0013953750021755695)]\n",
      "0.00023856665939092636 0.0023856668267399073\n",
      "True\n",
      "7.716646359767765e-05 0.000771664606872946\n",
      "True\n",
      "7.171423203544691e-05 0.0007171423058025539\n",
      "True\n",
      "1.1788135452661663e-05 0.00011788135452661663\n",
      "True\n",
      "7.589104643557221e-05 0.0007589104352518916\n",
      "True\n",
      "7.69668331486173e-05 0.0007696683751419187\n",
      "True\n",
      "7.705959433224052e-05 0.0007705959142185748\n",
      "True\n",
      "7.706705218879506e-05 0.0007706705364398658\n",
      "True\n",
      "7.705660391366109e-05 0.0007705660536885262\n",
      "True\n",
      "7.7033371780999e-05 0.0007703337469138205\n",
      "True\n",
      "7.700029527768493e-05 0.0007700029527768493\n",
      "True\n",
      "7.695131353102624e-05 0.0007695131353102624\n",
      "True\n",
      "7.688786718063056e-05 0.0007688786718063056\n",
      "True\n",
      "7.680564885959029e-05 0.000768056430388242\n",
      "True\n",
      "7.669170008739457e-05 0.0007669170154258609\n",
      "True\n",
      "7.654550427105278e-05 0.0007654550718143582\n",
      "True\n",
      "7.635039946762845e-05 0.0007635040092281997\n",
      "True\n",
      "7.60634575271979e-05 0.0007606346043758094\n",
      "True\n",
      "7.563972030766308e-05 0.0007563971448689699\n",
      "True\n",
      "7.496903708670288e-05 0.0007496903417631984\n",
      "\n",
      "Final\n",
      "[(' China', 21.397274017333984, 0.9573375582695007), (' the', 17.410358428955078, 0.01776518113911152), ('\\n', 15.57684326171875, 0.0028397762216627598), (' People', 15.404253005981445, 0.002389621688053012), (' Beijing', 15.248077392578125, 0.002044103806838393), (' his', 14.949613571166992, 0.0015166373923420906), (' North', 14.779999732971191, 0.0012800277909263968), (' Chinese', 14.304637908935547, 0.0007957422058098018), ('China', 14.10545825958252, 0.0006520332535728812), (' north', 13.93367862701416, 0.0005491193733178079)]\n"
     ]
    }
   ],
   "source": [
    "####################################\n",
    "num_epochs = 20\n",
    "normal_lambda = 10\n",
    "learning_rate = 0.001\n",
    "###################################\n",
    "\n",
    "optimizer = torch.optim.Adam([Q], lr = learning_rate)\n",
    "kl_loss = torch.nn.KLDivLoss(reduction=\"batchmean\", log_target = True)\n",
    "\n",
    "loss_track = []\n",
    "I = torch.eye(mt.n_embd).to(model.dtype).to(model.device)\n",
    "\n",
    "# Make Q normal before optimizing with KL\n",
    "Q = make_subspace_normal(Q, num_epochs = 300)\n",
    "\n",
    "\n",
    "initial = True\n",
    "for epoch in tqdm(range(num_epochs)):\n",
    "    \n",
    "    subspace = Q @ Q.T\n",
    "    h_c = subspace @ h_o + (I - subspace) @ h_i\n",
    "    \n",
    "    with baukit.TraceDict(\n",
    "        model, [intervention_layer_name],\n",
    "        edit_output = get_replace_intervention(\n",
    "            intervention_layer = intervention_layer_name,\n",
    "            intervention_token_pos = intervention_token_pos,\n",
    "            replacement = h_c\n",
    "        )\n",
    "    ) as traces_c:\n",
    "        output_c = model(**tokenized_o)\n",
    "    print(output_c.logits.requires_grad)\n",
    "        \n",
    "    if(initial):\n",
    "        print(\"initial\")\n",
    "        print(interpret_model_output(output_c))\n",
    "        initial = False\n",
    "\n",
    "    predicted_distribution = torch.nn.functional.softmax(output_c.logits[0][-1][[target_token_ids]], dim = 0)\n",
    "    kl = torch.abs(kl_loss(predicted_distribution, target_distribution))\n",
    "    normal_loss = (torch.eye(num_basis).to(model.dtype).to(model.device) - Q.T @ Q).square().sum()\n",
    "    _lambda = normal_lambda * (kl / normal_loss) # make normal loss equivalent to kl loss. otherwise it will swamp kl loss\n",
    "#     _lambda = normal_lambda\n",
    "    print(kl.item(), (_lambda*normal_loss).item())\n",
    "    loss = kl + torch.abs(_lambda*normal_loss) \n",
    "    \n",
    "    loss_track.append(loss.item())\n",
    "    \n",
    "    optimizer.zero_grad()\n",
    "    model.zero_grad()\n",
    "    loss.backward()\n",
    "    optimizer.step()\n",
    "\n",
    "print()\n",
    "print(\"Final\")\n",
    "print(interpret_model_output(output_c))"
   ]
  },
  {
   "cell_type": "code",
   "execution_count": 22,
   "id": "d1dd3d12",
   "metadata": {},
   "outputs": [
    {
     "data": {
      "text/plain": [
       "[<matplotlib.lines.Line2D at 0x7fe3c70ecee0>]"
      ]
     },
     "execution_count": 22,
     "metadata": {},
     "output_type": "execute_result"
    },
    {
     "data": {
      "image/png": "[encoded data removed]",
      "text/plain": [
       "<Figure size 640x480 with 1 Axes>"
      ]
     },
     "metadata": {},
     "output_type": "display_data"
    }
   ],
   "source": [
    "import matplotlib.pyplot as plt\n",
    "\n",
    "plt.plot(loss_track)"
   ]
  },
  {
   "cell_type": "code",
   "execution_count": 23,
   "id": "32059ca5",
   "metadata": {},
   "outputs": [
    {
     "data": {
      "text/plain": [
       "(0.0, 1.0)"
      ]
     },
     "execution_count": 23,
     "metadata": {},
     "output_type": "execute_result"
    },
    {
     "data": {
      "image/png": "[encoded data removed]",
      "text/plain": [
       "<Figure size 640x480 with 1 Axes>"
      ]
     },
     "metadata": {},
     "output_type": "display_data"
    }
   ],
   "source": [
    "plt.plot((target_distribution - predicted_distribution).detach().cpu().numpy())\n",
    "plt.ylim(0, 1)"
   ]
  },
  {
   "cell_type": "code",
   "execution_count": 24,
   "id": "dfaa7511",
   "metadata": {},
   "outputs": [
    {
     "data": {
      "image/png": "[encoded data removed]",
      "text/plain": [
       "<Figure size 640x480 with 2 Axes>"
      ]
     },
     "metadata": {},
     "output_type": "display_data"
    }
   ],
   "source": [
    "from util import misc\n",
    "\n",
    "misc.visualize_matrix((Q.T @ Q).detach().cpu())"
   ]
  },
  {
   "cell_type": "code",
   "execution_count": 25,
   "id": "687f3090",
   "metadata": {},
   "outputs": [
    {
     "data": {
      "text/plain": [
       "47.13986587524414"
      ]
     },
     "execution_count": 25,
     "metadata": {},
     "output_type": "execute_result"
    }
   ],
   "source": [
    "(torch.eye(num_basis).to(model.dtype).to(model.device) - Q.T@Q).square().sum().item()"
   ]
  },
  {
   "cell_type": "code",
   "execution_count": null,
   "id": "03d0afe2",
   "metadata": {},
   "outputs": [],
   "source": [
    "misc.visualize_matrix((Q @ Q.T).detach().cpu())"
   ]
  },
  {
   "cell_type": "code",
   "execution_count": null,
   "id": "e0708f9a",
   "metadata": {},
   "outputs": [],
   "source": []
  }
 ],
 "metadata": {
  "kernelspec": {
   "display_name": "Python 3 (ipykernel)",
   "language": "python",
   "name": "python3"
  },
  "language_info": {
   "codemirror_mode": {
    "name": "ipython",
    "version": 3
   },
   "file_extension": ".py",
   "mimetype": "text/x-python",
   "name": "python",
   "nbconvert_exporter": "python",
   "pygments_lexer": "ipython3",
   "version": "3.10.10"
  }
 },
 "nbformat": 4,
 "nbformat_minor": 5
}
