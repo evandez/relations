{
 "cells": [
  {
   "cell_type": "code",
   "execution_count": 8,
   "metadata": {},
   "outputs": [
    {
     "name": "stdout",
     "output_type": "stream",
     "text": [
      "The autoreload extension is already loaded. To reload it, use:\n",
      "  %reload_ext autoreload\n"
     ]
    }
   ],
   "source": [
    "%load_ext autoreload\n",
    "%autoreload 2"
   ]
  },
  {
   "cell_type": "code",
   "execution_count": 9,
   "metadata": {},
   "outputs": [],
   "source": [
    "import sys\n",
    "sys.path.append('..')\n",
    "\n",
    "from src import models, data\n",
    "from src.attributelens.attributelens import Attribute_Lens\n",
    "import src.attributelens.utils as lens_utils\n",
    "from src.operators import JacobianIclMeanEstimator\n",
    "import numpy as np\n",
    "from src.utils import experiment_utils, logging_utils\n",
    "from baukit import Menu, show\n",
    "\n",
    "import logging\n",
    "logger = logging.getLogger(__name__)\n",
    "\n",
    "logging.basicConfig(\n",
    "    level=logging.INFO,\n",
    "    format = logging_utils.DEFAULT_FORMAT,\n",
    "    datefmt=logging_utils.DEFAULT_DATEFMT,\n",
    "    stream=sys.stdout\n",
    ")"
   ]
  },
  {
   "cell_type": "code",
   "execution_count": 10,
   "metadata": {},
   "outputs": [
    {
     "name": "stdout",
     "output_type": "stream",
     "text": [
      "2023-06-27 17:42:38 src.models INFO     loading EleutherAI/gpt-j-6B (device=cuda:0, fp16=True)\n",
      "dtype: torch.float16, device: cuda:0, memory: 12219206136\n"
     ]
    }
   ],
   "source": [
    "device = \"cuda:0\"\n",
    "mt = models.load_model(\"gptj\", device=device, fp16=True)\n",
    "print(f\"dtype: {mt.model.dtype}, device: {mt.model.device}, memory: {mt.model.get_memory_footprint()}\")"
   ]
  },
  {
   "cell_type": "code",
   "execution_count": 38,
   "metadata": {},
   "outputs": [],
   "source": [
    "prompt = mt.tokenizer.eos_token + \" John Lennon is a\""
   ]
  },
  {
   "cell_type": "code",
   "execution_count": 39,
   "metadata": {},
   "outputs": [
    {
     "name": "stdout",
     "output_type": "stream",
     "text": [
      "2023-06-27 17:56:28 src.attributelens.attributelens INFO     prompt: \"<|endoftext|> John Lennon is a\"\n",
      "prediction:  great\n",
      "must_have_layers:  []\n",
      "expected_answers:  []\n"
     ]
    },
    {
     "data": {
      "text/html": [
       "<iframe\n",
       "    scrolling=\"no\"\n",
       "    width=\"540px\"\n",
       "    height=\"470\"\n",
       "    src=\"iframe_figures/figure_39.html\"\n",
       "    frameborder=\"0\"\n",
       "    allowfullscreen\n",
       "></iframe>\n"
      ]
     },
     "metadata": {},
     "output_type": "display_data"
    }
   ],
   "source": [
    "lens = Attribute_Lens(mt=mt, top_k=10)\n",
    "att_info = lens.apply_attribute_lens(\n",
    "    prompt=prompt,\n",
    "    relation_operator=None # Will use Identity if set to None. Basically Logit Lens\n",
    ")\n",
    "att_info['subject_range']= (1, att_info['subject_range'][-1]) # ignore the first EOS token\n",
    "print('prediction:', att_info['nextwords'][-1])\n",
    "p = lens_utils.visualize_attribute_lens(\n",
    "    att_info, layer_skip=3, must_have_layers=[],\n",
    ")\n",
    "\n",
    "# p.write_image('bill_bradley_lens.pdf')\n",
    "p.show(renderer='iframe')"
   ]
  },
  {
   "cell_type": "code",
   "execution_count": 55,
   "metadata": {},
   "outputs": [
    {
     "data": {
      "text/html": [
       "<form id=\"_140709215934000_1\" style=\"display:flex;flex:1;flex-flow:column;gap:3px\"><select name=\"menu\" style=\"display:flex;flex:1;flex-flow:row wrap;gap:inherit\"><option value=\"characteristic gender\" style=\"display:flex;flex:1;flex-flow:row wrap;gap:inherit\">characteristic gender</option><option value=\"univ degree gender\" style=\"display:flex;flex:1;flex-flow:row wrap;gap:inherit\">univ degree gender</option><option value=\"name birthplace\" style=\"display:flex;flex:1;flex-flow:row wrap;gap:inherit\">name birthplace</option><option value=\"name gender\" style=\"display:flex;flex:1;flex-flow:row wrap;gap:inherit\">name gender</option><option value=\"name religion\" style=\"display:flex;flex:1;flex-flow:row wrap;gap:inherit\">name religion</option><option value=\"occupation age\" style=\"display:flex;flex:1;flex-flow:row wrap;gap:inherit\">occupation age</option><option value=\"occupation gender\" style=\"display:flex;flex:1;flex-flow:row wrap;gap:inherit\">occupation gender</option><option value=\"person native language\" style=\"display:flex;flex:1;flex-flow:row wrap;gap:inherit\">person native language</option><option value=\"fruit inside color\" style=\"display:flex;flex:1;flex-flow:row wrap;gap:inherit\">fruit inside color</option><option value=\"fruit outside color\" style=\"display:flex;flex:1;flex-flow:row wrap;gap:inherit\">fruit outside color</option><option value=\"object superclass\" style=\"display:flex;flex:1;flex-flow:row wrap;gap:inherit\">object superclass</option><option value=\"substance phase of matter\" style=\"display:flex;flex:1;flex-flow:row wrap;gap:inherit\">substance phase of matter</option><option value=\"task person type\" style=\"display:flex;flex:1;flex-flow:row wrap;gap:inherit\">task person type</option><option value=\"task done by tool\" style=\"display:flex;flex:1;flex-flow:row wrap;gap:inherit\">task done by tool</option><option value=\"word sentiment\" style=\"display:flex;flex:1;flex-flow:row wrap;gap:inherit\">word sentiment</option><option value=\"work location\" style=\"display:flex;flex:1;flex-flow:row wrap;gap:inherit\">work location</option><option value=\"city in country\" style=\"display:flex;flex:1;flex-flow:row wrap;gap:inherit\">city in country</option><option value=\"company CEO\" style=\"display:flex;flex:1;flex-flow:row wrap;gap:inherit\">company CEO</option><option value=\"company hq\" style=\"display:flex;flex:1;flex-flow:row wrap;gap:inherit\">company hq</option><option value=\"country capital city\" style=\"display:flex;flex:1;flex-flow:row wrap;gap:inherit\">country capital city</option><option value=\"country currency\" style=\"display:flex;flex:1;flex-flow:row wrap;gap:inherit\">country currency</option><option value=\"country language\" style=\"display:flex;flex:1;flex-flow:row wrap;gap:inherit\">country language</option><option value=\"country largest city\" style=\"display:flex;flex:1;flex-flow:row wrap;gap:inherit\">country largest city</option><option value=\"food from country\" style=\"display:flex;flex:1;flex-flow:row wrap;gap:inherit\">food from country</option><option value=\"landmark in country\" style=\"display:flex;flex:1;flex-flow:row wrap;gap:inherit\">landmark in country</option><option value=\"landmark on continent\" style=\"display:flex;flex:1;flex-flow:row wrap;gap:inherit\">landmark on continent</option><option value=\"person lead singer of band\" style=\"display:flex;flex:1;flex-flow:row wrap;gap:inherit\">person lead singer of band</option><option value=\"person father\" style=\"display:flex;flex:1;flex-flow:row wrap;gap:inherit\">person father</option><option value=\"person mother\" style=\"display:flex;flex:1;flex-flow:row wrap;gap:inherit\">person mother</option><option value=\"person occupation\" style=\"display:flex;flex:1;flex-flow:row wrap;gap:inherit\">person occupation</option><option value=\"person plays instrument\" style=\"display:flex;flex:1;flex-flow:row wrap;gap:inherit\">person plays instrument</option><option value=\"person sport position\" style=\"display:flex;flex:1;flex-flow:row wrap;gap:inherit\">person sport position</option><option value=\"plays pro sport\" style=\"display:flex;flex:1;flex-flow:row wrap;gap:inherit\">plays pro sport</option><option value=\"person university\" style=\"display:flex;flex:1;flex-flow:row wrap;gap:inherit\">person university</option><option value=\"pokemon evolution\" style=\"display:flex;flex:1;flex-flow:row wrap;gap:inherit\">pokemon evolution</option><option value=\"president birth year\" style=\"display:flex;flex:1;flex-flow:row wrap;gap:inherit\">president birth year</option><option value=\"president election year\" style=\"display:flex;flex:1;flex-flow:row wrap;gap:inherit\">president election year</option><option value=\"product by company\" style=\"display:flex;flex:1;flex-flow:row wrap;gap:inherit\">product by company</option><option value=\"star constellation name\" style=\"display:flex;flex:1;flex-flow:row wrap;gap:inherit\">star constellation name</option><option value=\"superhero archnemesis\" style=\"display:flex;flex:1;flex-flow:row wrap;gap:inherit\">superhero archnemesis</option><option value=\"superhero person\" style=\"display:flex;flex:1;flex-flow:row wrap;gap:inherit\">superhero person</option><option value=\"adjective antonym\" style=\"display:flex;flex:1;flex-flow:row wrap;gap:inherit\">adjective antonym</option><option value=\"adjective comparative\" style=\"display:flex;flex:1;flex-flow:row wrap;gap:inherit\">adjective comparative</option><option value=\"adjective superlative\" style=\"display:flex;flex:1;flex-flow:row wrap;gap:inherit\">adjective superlative</option><option value=\"verb past tense\" style=\"display:flex;flex:1;flex-flow:row wrap;gap:inherit\">verb past tense</option><option value=\"word first letter\" style=\"display:flex;flex:1;flex-flow:row wrap;gap:inherit\">word first letter</option><option value=\"word last letter\" style=\"display:flex;flex:1;flex-flow:row wrap;gap:inherit\">word last letter</option></select></form><script>(function() {\n",
       "function getChan(obj_id) {\n",
       "var cname = \"comm_\" + obj_id;\n",
       "if (!window[cname]) { window[cname] = []; }\n",
       "var chan = window[cname];\n",
       "if (!chan.comm && Jupyter.notebook.kernel) {\n",
       "chan.comm = Jupyter.notebook.kernel.comm_manager.new_comm(cname, {});\n",
       "chan.comm.on_msg((ev) => {\n",
       "if (chan.retry) { clearInterval(chan.retry); chan.retry = null; }\n",
       "if (ev.content.data == 'ok') { return; }\n",
       "var args = ev.content.data.slice(1);\n",
       "for (fn of chan) { fn.apply(null, args); }\n",
       "});\n",
       "chan.retries = 5;\n",
       "chan.retry = setInterval(() => {\n",
       "if (chan.retries) { chan.retries -= 1; chan.comm.open(); }\n",
       "else { clearInterval(chan.retry); chan.retry = null; }\n",
       "}, 2000);\n",
       "}\n",
       "return chan;\n",
       "}\n",
       "function recvFromPython(obj_id, fn) {\n",
       "getChan(obj_id).push(fn);\n",
       "}\n",
       "function sendToPython(obj_id, ...args) {\n",
       "var comm = getChan(obj_id).comm;\n",
       "if (comm) { comm.send(args); }\n",
       "}\n",
       "class Model {\n",
       "constructor(obj_id, init) {\n",
       "this._id = obj_id;\n",
       "this._listeners = {};\n",
       "this._data = Object.assign({}, init);\n",
       "this._sent = {};\n",
       "recvFromPython(this._id, (name, value) => {\n",
       "this._data[name] = value;\n",
       "var e = new Event(name); e.value = value;\n",
       "if (this._listeners.hasOwnProperty(name)) {\n",
       "this._listeners[name].forEach((fn) => { fn(e); });\n",
       "}\n",
       "if (this._sent[name]) {\n",
       "value = this._sent[name];\n",
       "delete this._sent[name];\n",
       "if (value.length) {\n",
       "value = value[0];\n",
       "this.set_soon(name, value);\n",
       "}\n",
       "}\n",
       "})\n",
       "}\n",
       "trigger(name, value) {\n",
       "sendToPython(this._id, name, value);\n",
       "}\n",
       "get(name) {\n",
       "return this._data[name];\n",
       "}\n",
       "set(name, value) {\n",
       "delete this._sent[name];\n",
       "this.trigger(name, value);\n",
       "}\n",
       "set_soon(name, value) {\n",
       "if (!this._sent.hasOwnProperty(name)) {\n",
       "this._sent[name] = [];\n",
       "this.trigger(name, value);\n",
       "} else {\n",
       "this._sent[name] = [value];\n",
       "}\n",
       "}\n",
       "on(name, fn) {\n",
       "name.split(/\\s+/).forEach((n) => {\n",
       "if (!this._listeners.hasOwnProperty(n)) {\n",
       "this._listeners[n] = [];\n",
       "}\n",
       "this._listeners[n].push(fn);\n",
       "});\n",
       "}\n",
       "off(name, fn) {\n",
       "name.split(/\\s+/).forEach((n) => {\n",
       "if (!fn) {\n",
       "delete this._listeners[n];\n",
       "} else if (this._listeners.hasOwnProperty(n)) {\n",
       "this._listeners[n] = this._listeners[n].filter(\n",
       "(e) => { return e !== fn; });\n",
       "}\n",
       "});\n",
       "}\n",
       "}\n",
       "\n",
       "var model = new Model(\"140709215934000\", {\"style\": null, \"choices\": [\"characteristic gender\", \"univ degree gender\", \"name birthplace\", \"name gender\", \"name religion\", \"occupation age\", \"occupation gender\", \"person native language\", \"fruit inside color\", \"fruit outside color\", \"object superclass\", \"substance phase of matter\", \"task person type\", \"task done by tool\", \"word sentiment\", \"work location\", \"city in country\", \"company CEO\", \"company hq\", \"country capital city\", \"country currency\", \"country language\", \"country largest city\", \"food from country\", \"landmark in country\", \"landmark on continent\", \"person lead singer of band\", \"person father\", \"person mother\", \"person occupation\", \"person plays instrument\", \"person sport position\", \"plays pro sport\", \"person university\", \"pokemon evolution\", \"president birth year\", \"president election year\", \"product by company\", \"star constellation name\", \"superhero archnemesis\", \"superhero person\", \"adjective antonym\", \"adjective comparative\", \"adjective superlative\", \"verb past tense\", \"word first letter\", \"word last letter\"], \"value\": [\"characteristic gender\", \"univ degree gender\", \"name birthplace\", \"name gender\", \"name religion\", \"occupation age\", \"occupation gender\", \"person native language\", \"fruit inside color\", \"fruit outside color\", \"object superclass\", \"substance phase of matter\", \"task person type\", \"task done by tool\", \"word sentiment\", \"work location\", \"city in country\", \"company CEO\", \"company hq\", \"country capital city\", \"country currency\", \"country language\", \"country largest city\", \"food from country\", \"landmark in country\", \"landmark on continent\", \"person lead singer of band\", \"person father\", \"person mother\", \"person occupation\", \"person plays instrument\", \"person sport position\", \"plays pro sport\", \"person university\", \"pokemon evolution\", \"president birth year\", \"president election year\", \"product by company\", \"star constellation name\", \"superhero archnemesis\", \"superhero person\", \"adjective antonym\", \"adjective comparative\", \"adjective superlative\", \"verb past tense\", \"word first letter\", \"word last letter\"]});\n",
       "var element = document.getElementById(\"_140709215934000_1\");\n",
       "model.on('write', (ev) => {\n",
       "var dummy = document.createElement('div');\n",
       "dummy.innerHTML = ev.value.trim();\n",
       "dummy.childNodes.forEach((item) => {\n",
       "element.parentNode.insertBefore(item, element);\n",
       "});\n",
       "});\n",
       "function upd(a) { return (e) => { for (k in e.value) {\n",
       "element[a][k] = e.value[k];\n",
       "}}}\n",
       "model.on('style', upd('style'));\n",
       "model.on('style', upd('style'));\n",
       "model.on('data', upd('dataset'));\n",
       "\n",
       "function esc(unsafe) {\n",
       "return unsafe.replace(/&/g, \"&amp;\").replace(/</g, \"&lt;\")\n",
       ".replace(/>/g, \"&gt;\").replace(/\"/g, \"&quot;\");\n",
       "}\n",
       "function render() {\n",
       "var value = model.get('value');\n",
       "var lines = model.get('choices').map((c) => {\n",
       "return '<option value=\"' + esc(''+c) + '\"' +\n",
       "(c == value ? ' selected' : '') +\n",
       "'>' + esc(''+c) + '</option>';\n",
       "});\n",
       "element.menu.innerHTML = lines.join('\\n');\n",
       "}\n",
       "model.on('value', (ev) => {\n",
       "[...element.querySelectorAll('option')].forEach((e) => {\n",
       "e.selected = (e.value == ev.value);\n",
       "})\n",
       "});\n",
       "element.addEventListener('change', (e) => {\n",
       "model.set('value', element.menu.value);\n",
       "});\n",
       "})();</script>"
      ],
      "text/plain": [
       "<baukit.show.HtmlRepr at 0x7ff96ade7f70>"
      ]
     },
     "metadata": {},
     "output_type": "display_data"
    }
   ],
   "source": [
    "dataset = data.load_dataset()\n",
    "\n",
    "relation_names = [r.name for r in dataset]\n",
    "relation_options = Menu(choices = relation_names, value = relation_names)\n",
    "show(relation_options)"
   ]
  },
  {
   "cell_type": "code",
   "execution_count": 57,
   "metadata": {},
   "outputs": [
    {
     "name": "stdout",
     "output_type": "stream",
     "text": [
      "selected relation >>  person native language\n"
     ]
    }
   ],
   "source": [
    "relation_name = relation_options.value\n",
    "print(\"selected relation >> \", relation_name)"
   ]
  },
  {
   "cell_type": "code",
   "execution_count": 58,
   "metadata": {},
   "outputs": [
    {
     "name": "stdout",
     "output_type": "stream",
     "text": [
      "919\n",
      "2023-06-27 18:01:16 src.utils.experiment_utils INFO     setting all seeds to 12\n",
      "Herbert Edward Read -> English\n",
      "Orane Demazis -> French\n",
      "Beatrix of the Netherlands -> Dutch\n",
      "Aleksandr Kaleri -> Russian\n",
      "Nie Weiping -> Chinese\n"
     ]
    }
   ],
   "source": [
    "datums = dataset.filter(relation_names=[relation_name])[0]\n",
    "\n",
    "print(len(datums.samples))\n",
    "experiment_utils.set_seed(12) # set seed to a constant value for sampling consistency\n",
    "\n",
    "train, test = datums.split(5)\n",
    "print(\"\\n\".join([sample.__str__() for sample in train.samples]))"
   ]
  },
  {
   "cell_type": "code",
   "execution_count": 59,
   "metadata": {},
   "outputs": [],
   "source": [
    "mean_estimator = JacobianIclMeanEstimator(\n",
    "    mt=mt,\n",
    "    h_layer=8,\n",
    "    beta=2.5  # magnifying the `J` contribution\n",
    ") \n",
    "\n",
    "operator = mean_estimator(train)"
   ]
  },
  {
   "cell_type": "code",
   "execution_count": 60,
   "metadata": {},
   "outputs": [
    {
     "name": "stdout",
     "output_type": "stream",
     "text": [
      "2023-06-27 18:01:43 src.attributelens.attributelens INFO     prompt: \"<|endoftext|> John Lennon is a\"\n",
      "prediction: ['Q', ',', ',', ' a', ' great']\n",
      "must_have_layers:  []\n",
      "expected_answers:  ['music', 'beatles']\n"
     ]
    },
    {
     "data": {
      "text/html": [
       "<iframe\n",
       "    scrolling=\"no\"\n",
       "    width=\"540px\"\n",
       "    height=\"470\"\n",
       "    src=\"iframe_figures/figure_60.html\"\n",
       "    frameborder=\"0\"\n",
       "    allowfullscreen\n",
       "></iframe>\n"
      ]
     },
     "metadata": {},
     "output_type": "display_data"
    }
   ],
   "source": [
    "lens = Attribute_Lens(mt=mt, top_k=10)\n",
    "att_info = lens.apply_attribute_lens(\n",
    "    prompt=prompt,\n",
    "    relation_operator=operator,\n",
    ")\n",
    "\n",
    "print('prediction:', att_info['nextwords'])\n",
    "\n",
    "att_info['subject_range']= (1, att_info['subject_range'][-1]) # ignore the first EOS token\n",
    "p = lens_utils.visualize_attribute_lens(\n",
    "    att_info, layer_skip=3, must_have_layers=[], colorscale='greens', expected_answers=['music', 'beatles']\n",
    ")\n",
    "\n",
    "p.show(renderer=\"iframe\")"
   ]
  },
  {
   "cell_type": "code",
   "execution_count": null,
   "metadata": {},
   "outputs": [],
   "source": []
  }
 ],
 "metadata": {
  "kernelspec": {
   "display_name": "Python 3 (ipykernel)",
   "language": "python",
   "name": "python3"
  },
  "language_info": {
   "codemirror_mode": {
    "name": "ipython",
    "version": 3
   },
   "file_extension": ".py",
   "mimetype": "text/x-python",
   "name": "python",
   "nbconvert_exporter": "python",
   "pygments_lexer": "ipython3",
   "version": "3.10.11"
  }
 },
 "nbformat": 4,
 "nbformat_minor": 2
}
