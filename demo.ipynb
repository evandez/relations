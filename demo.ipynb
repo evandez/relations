{
 "cells": [
  {
   "cell_type": "code",
   "execution_count": 1,
   "metadata": {},
   "outputs": [],
   "source": [
    "%load_ext autoreload\n",
    "%autoreload 2"
   ]
  },
  {
   "cell_type": "code",
   "execution_count": 2,
   "metadata": {},
   "outputs": [],
   "source": [
    "import torch\n",
    "import copy\n",
    "import numpy as np\n",
    "import matplotlib.pyplot as plt\n",
    "from src import models, data\n",
    "from src.metrics import recall"
   ]
  },
  {
   "cell_type": "code",
   "execution_count": 30,
   "metadata": {},
   "outputs": [
    {
     "name": "stdout",
     "output_type": "stream",
     "text": [
      "dtype: torch.float16, device: cuda:0, memory: 12219206136\n"
     ]
    }
   ],
   "source": [
    "device = \"cuda:0\"\n",
    "mt = models.load_model(\"gptj\", device=device)\n",
    "print(f\"dtype: {mt.model.dtype}, device: {mt.model.device}, memory: {mt.model.get_memory_footprint()}\")"
   ]
  },
  {
   "cell_type": "code",
   "execution_count": 4,
   "metadata": {},
   "outputs": [
    {
     "name": "stdout",
     "output_type": "stream",
     "text": [
      "Relation(name='capital city', prompt_templates=['The capital city of {} is', 'The political capital of {} is', 'The seat of government for {} is', 'The government of {} is centered in'], samples=[RelationSample(subject='United States', object='Washington D.C.'), RelationSample(subject='Canada', object='Ottawa'), RelationSample(subject='Mexico', object='Mexico City'), RelationSample(subject='Brazil', object='Bras\\\\u00edlia'), RelationSample(subject='Argentina', object='Buenos Aires'), RelationSample(subject='Chile', object='Santiago'), RelationSample(subject='Peru', object='Lima'), RelationSample(subject='Colombia', object='Bogot\\\\u00e1'), RelationSample(subject='Venezuela', object='Caracas'), RelationSample(subject='Spain', object='Madrid'), RelationSample(subject='France', object='Paris'), RelationSample(subject='Germany', object='Berlin'), RelationSample(subject='Italy', object='Rome'), RelationSample(subject='Russia', object='Moscow'), RelationSample(subject='China', object='Beijing'), RelationSample(subject='Japan', object='Tokyo'), RelationSample(subject='South Korea', object='Seoul'), RelationSample(subject='India', object='New Delhi'), RelationSample(subject='Pakistan', object='Islamabad'), RelationSample(subject='Nigeria', object='Abuja'), RelationSample(subject='Egypt', object='Cairo'), RelationSample(subject='Saudi Arabia', object='Riyadh'), RelationSample(subject='Turkey', object='Ankara'), RelationSample(subject='Australia', object='Canberra')], _domain=None, _range=None)\n"
     ]
    },
    {
     "data": {
      "text/plain": [
       "24"
      ]
     },
     "execution_count": 4,
     "metadata": {},
     "output_type": "execute_result"
    }
   ],
   "source": [
    "dataset = data.load_dataset()\n",
    "capital_cities = dataset[0]\n",
    "print(capital_cities)\n",
    "# capital_cities.__dict__.keys()\n",
    "len(capital_cities.samples)"
   ]
  },
  {
   "cell_type": "code",
   "execution_count": 5,
   "metadata": {},
   "outputs": [
    {
     "data": {
      "text/plain": [
       "[RelationSample(subject='Chile', object='Santiago'),\n",
       " RelationSample(subject='Peru', object='Lima'),\n",
       " RelationSample(subject='Japan', object='Tokyo')]"
      ]
     },
     "execution_count": 5,
     "metadata": {},
     "output_type": "execute_result"
    }
   ],
   "source": [
    "indices = np.random.choice(range(len(capital_cities.samples)), 3, replace=False)\n",
    "samples = [capital_cities.samples[i] for i in indices]\n",
    "\n",
    "training_samples = copy.deepcopy(capital_cities.__dict__)\n",
    "training_samples[\"samples\"] = samples\n",
    "training_samples = data.Relation(**training_samples)\n",
    "\n",
    "training_samples.samples"
   ]
  },
  {
   "cell_type": "code",
   "execution_count": 6,
   "metadata": {},
   "outputs": [],
   "source": [
    "from src.operators import JacobianIclMeanEstimator\n",
    "\n",
    "mean_estimator = JacobianIclMeanEstimator(\n",
    "    mt=mt,\n",
    "    h_layer=12,\n",
    "    bias_scale_factor=0.2       # so that the bias doesn't knock out the prediction too much in the direction of training examples\n",
    ") \n",
    "\n",
    "operator = mean_estimator(training_samples)"
   ]
  },
  {
   "cell_type": "code",
   "execution_count": 7,
   "metadata": {},
   "outputs": [
    {
     "data": {
      "text/plain": [
       "[PredictedObject(token=' Washington', prob=0.38452938199043274),\n",
       " PredictedObject(token=' Bog', prob=0.18163883686065674),\n",
       " PredictedObject(token=' Lima', prob=0.07002800703048706),\n",
       " PredictedObject(token=' Mexico', prob=0.05539671331644058),\n",
       " PredictedObject(token=' Suc', prob=0.03867314010858536),\n",
       " PredictedObject(token=' Bras', prob=0.03521229326725006),\n",
       " PredictedObject(token='Washington', prob=0.0156253594905138),\n",
       " PredictedObject(token=' Buenos', prob=0.013055476360023022),\n",
       " PredictedObject(token='Bu', prob=0.01216904167085886),\n",
       " PredictedObject(token=' Argentina', prob=0.00804324634373188)]"
      ]
     },
     "execution_count": 7,
     "metadata": {},
     "output_type": "execute_result"
    }
   ],
   "source": [
    "operator(\"United States\", k = 10).predictions"
   ]
  },
  {
   "cell_type": "code",
   "execution_count": 8,
   "metadata": {},
   "outputs": [
    {
     "data": {
      "text/plain": [
       "[0.8095238095238095,\n",
       " 0.9047619047619048,\n",
       " 0.9523809523809523,\n",
       " 0.9523809523809523,\n",
       " 0.9523809523809523]"
      ]
     },
     "execution_count": 8,
     "metadata": {},
     "output_type": "execute_result"
    }
   ],
   "source": [
    "test_samples = list(set(capital_cities.samples) - set(training_samples.samples))\n",
    "\n",
    "predictions = []\n",
    "target = []\n",
    "\n",
    "for sample in test_samples:\n",
    "    cur_predictions = operator(sample.subject, k = 5).predictions\n",
    "    predictions.append([\n",
    "        p.token for p in cur_predictions\n",
    "    ])\n",
    "    target.append(sample.object)\n",
    "\n",
    "recall(predictions, target)"
   ]
  },
  {
   "cell_type": "code",
   "execution_count": 54,
   "metadata": {},
   "outputs": [],
   "source": [
    "from attributelens.attributelens import Attribute_Lens\n",
    "import attributelens.utils as lens_utils"
   ]
  },
  {
   "cell_type": "code",
   "execution_count": 90,
   "metadata": {},
   "outputs": [
    {
     "name": "stdout",
     "output_type": "stream",
     "text": [
      "subject  :  People's Republic of China\n",
      "relation :  The capital city of {} is\n",
      "subject mapping:  4 9  >>  [' People', \"'s\", ' Republic', ' of', ' China']\n"
     ]
    }
   ],
   "source": [
    "lens = Attribute_Lens(mt=mt, top_k=10)\n",
    "att_info = lens.apply_attribute_lens(\n",
    "    subject=\"People's Republic of China\",\n",
    "    relation_operator=operator\n",
    ")"
   ]
  },
  {
   "cell_type": "code",
   "execution_count": 92,
   "metadata": {},
   "outputs": [
    {
     "name": "stdout",
     "output_type": "stream",
     "text": [
      "must_have_layers:  [15, 25]\n",
      "expected_answers:  [' Seattle', ' Washington']\n"
     ]
    },
    {
     "data": {
      "application/vnd.plotly.v1+json": {
       "config": {
        "plotlyServerURL": "https://plot.ly"
       },
       "data": [
        {
         "colorscale": [
          [
           0,
           "rgb(247,251,255)"
          ],
          [
           0.125,
           "rgb(222,235,247)"
          ],
          [
           0.25,
           "rgb(198,219,239)"
          ],
          [
           0.375,
           "rgb(158,202,225)"
          ],
          [
           0.5,
           "rgb(107,174,214)"
          ],
          [
           0.625,
           "rgb(66,146,198)"
          ],
          [
           0.75,
           "rgb(33,113,181)"
          ],
          [
           0.875,
           "rgb(8,81,156)"
          ],
          [
           1,
           "rgb(8,48,107)"
          ]
         ],
         "customdata": [
          [
           [
            " Lima",
            "0.4311",
            "' Lima': 0.431097 <br>   '\n': 0.121597 <br>   ' ': 0.069284 <br>   '...': 0.037669 <br>   ' also': 0.033243 <br>   '...': 0.02529 <br>   ' Bras': 0.015581 <br>   ' Santiago': 0.014523 <br>   ' San': 0.014076 <br>   ' Mexico': 0.012325 "
           ],
           [
            " Lima",
            "0.2747",
            "' Lima': 0.274728 <br>   '\n': 0.118159 <br>   ' ': 0.079951 <br>   ' Bras': 0.044153 <br>   '...': 0.043468 <br>   '...': 0.038662 <br>   ' Santiago': 0.038062 <br>   ' the': 0.027847 <br>   ' also': 0.026572 <br>   ' Mexico': 0.017426 "
           ],
           [
            "\n",
            "0.2527",
            "'\n': 0.25271 <br>   ' Lima': 0.13956 <br>   ' ': 0.063398 <br>   ' Santiago': 0.062415 <br>   '...': 0.039365 <br>   ' Canberra': 0.03727 <br>   '...': 0.03289 <br>   ' Tokyo': 0.029253 <br>   ' also': 0.026018 <br>   ' Beijing': 0.015536 "
           ],
           [
            " Lima",
            "0.2455",
            "' Lima': 0.24549 <br>   '\n': 0.146589 <br>   ' ': 0.07487 <br>   '...': 0.06817 <br>   '...': 0.052268 <br>   ' Santiago': 0.04759 <br>   ' also': 0.030727 <br>   ' the': 0.026905 <br>   ' Bog': 0.012909 <br>   ' Mexico': 0.012709 "
           ],
           [
            " Beijing",
            "0.9252",
            "' Beijing': 0.925163 <br>   ' Lima': 0.017212 <br>   '\n': 0.010278 <br>   ' Tai': 0.007288 <br>   ' Santiago': 0.006089 <br>   ' ': 0.002138 <br>   '...': 0.001828 <br>   '...': 0.001772 <br>   ' Tokyo': 0.001626 <br>   ' Canberra': 0.001058 "
           ]
          ],
          [
           [
            " Lima",
            "0.5648",
            "' Lima': 0.564805 <br>   '\n': 0.060468 <br>   ' also': 0.056804 <br>   ' ': 0.045643 <br>   ' Beijing': 0.022245 <br>   '...': 0.016402 <br>   ' Buenos': 0.015289 <br>   ' Canberra': 0.014703 <br>   ' the': 0.008643 <br>   '...': 0.008576 "
           ],
           [
            " Lima",
            "0.3362",
            "' Lima': 0.336192 <br>   '\n': 0.129614 <br>   ' ': 0.078615 <br>   ' also': 0.046943 <br>   '...': 0.038917 <br>   ' Bras': 0.030309 <br>   ' Santiago': 0.026539 <br>   '...': 0.022878 <br>   ' the': 0.021159 <br>   ' Canberra': 0.009463 "
           ],
           [
            "\n",
            "0.2633",
            "'\n': 0.263348 <br>   ' Lima': 0.162244 <br>   ' ': 0.055201 <br>   ' Santiago': 0.051052 <br>   ' Tokyo': 0.040702 <br>   ' Canberra': 0.037351 <br>   '...': 0.027541 <br>   '...': 0.027114 <br>   ' also': 0.017506 <br>   ' Beijing': 0.016835 "
           ],
           [
            " Lima",
            "0.2522",
            "' Lima': 0.252187 <br>   '\n': 0.130833 <br>   ' ': 0.056712 <br>   ' Santiago': 0.048508 <br>   '...': 0.038373 <br>   ' also': 0.030594 <br>   ' Bog': 0.024202 <br>   ' the': 0.020221 <br>   ' Bras': 0.019599 <br>   '...': 0.017845 "
           ],
           [
            " Beijing",
            "0.9851",
            "' Beijing': 0.985064 <br>   ' Tai': 0.003337 <br>   ' Lima': 0.002442 <br>   '\n': 0.001528 <br>   ' Xi': 0.000678 <br>   ' Santiago': 0.000608 <br>   ' Chong': 0.000536 <br>   ' Canberra': 0.000338 <br>   ' ': 0.000261 <br>   ' Shanghai': 0.00022 "
           ]
          ],
          [
           [
            " Lima",
            "0.7076",
            "' Lima': 0.70759 <br>   ' Beijing': 0.046671 <br>   '\n': 0.039301 <br>   ' also': 0.036919 <br>   ' ': 0.020872 <br>   ' San': 0.008499 <br>   ' Buenos': 0.006724 <br>   '...': 0.006466 <br>   ' Canberra': 0.005445 <br>   ' -': 0.003772 "
           ],
           [
            " Lima",
            "0.4662",
            "' Lima': 0.466219 <br>   ' ': 0.083588 <br>   '\n': 0.074928 <br>   ' Bras': 0.036517 <br>   ' also': 0.029804 <br>   '...': 0.028218 <br>   '...': 0.023762 <br>   ' **': 0.013021 <br>   ' Santiago': 0.011401 <br>   ' Car': 0.009378 "
           ],
           [
            " Beijing",
            "0.3339",
            "' Beijing': 0.333909 <br>   '\n': 0.143613 <br>   ' Lima': 0.113607 <br>   ' ': 0.035748 <br>   ' Canberra': 0.029406 <br>   ' Santiago': 0.022546 <br>   ' also': 0.016113 <br>   '...': 0.015375 <br>   ' **': 0.012163 <br>   ' Bras': 0.010403 "
           ],
           [
            " Lima",
            "0.1256",
            "' Lima': 0.125637 <br>   '\n': 0.119884 <br>   ' Bog': 0.063174 <br>   '...': 0.05116 <br>   ' ': 0.046947 <br>   ' Mexico': 0.045149 <br>   ' Santiago': 0.025725 <br>   ' not': 0.022176 <br>   ' the': 0.02035 <br>   ' Tokyo': 0.017819 "
           ],
           [
            " Beijing",
            "0.9961",
            "' Beijing': 0.996143 <br>   ' Xi': 0.00073 <br>   ' Tai': 0.000644 <br>   ' China': 0.000379 <br>   ' Chong': 0.000339 <br>   ' Chinese': 0.000286 <br>   ' Lima': 0.000153 <br>   '\n': 0.000151 <br>   ' Shanghai': 0.00012 <br>   ' Cheng': 8.7e-05 "
           ]
          ],
          [
           [
            " Lima",
            "0.6689",
            "' Lima': 0.66887 <br>   ' also': 0.073882 <br>   '\n': 0.038329 <br>   ' Beijing': 0.025935 <br>   ' ': 0.014662 <br>   ' the': 0.009691 <br>   ' San': 0.008893 <br>   ' Buenos': 0.008687 <br>   '...': 0.007258 <br>   ' …': 0.005436 "
           ],
           [
            " Lima",
            "0.3135",
            "' Lima': 0.313474 <br>   ' Bras': 0.076222 <br>   '\n': 0.072732 <br>   ' also': 0.072166 <br>   ' ': 0.071604 <br>   '...': 0.016356 <br>   ' known': 0.014547 <br>   '...': 0.01399 <br>   ' Beijing': 0.013245 <br>   ' the': 0.01304 "
           ],
           [
            " Beijing",
            "0.6848",
            "' Beijing': 0.684819 <br>   '\n': 0.041449 <br>   ' Lima': 0.02289 <br>   ' Chong': 0.020359 <br>   ' China': 0.016487 <br>   ' Pyongyang': 0.013776 <br>   ' also': 0.007911 <br>   ' ': 0.007374 <br>   ' Santiago': 0.005395 <br>   ' known': 0.005188 "
           ],
           [
            "\n",
            "0.1818",
            "'\n': 0.181825 <br>   ' Lima': 0.084556 <br>   ' ': 0.060904 <br>   '...': 0.053747 <br>   ' not': 0.027026 <br>   ' the': 0.019015 <br>   ' (': 0.017045 <br>   ' -': 0.01665 <br>   ' Bog': 0.016521 <br>   ' also': 0.016012 "
           ],
           [
            " Beijing",
            "0.9958",
            "' Beijing': 0.995767 <br>   ' Xi': 0.000967 <br>   ' China': 0.000577 <br>   ' Tai': 0.000501 <br>   ' Chinese': 0.000478 <br>   ' Chong': 0.000295 <br>   '\n': 0.000164 <br>   ' Mandarin': 9.2e-05 <br>   ' Shanghai': 7.8e-05 <br>   'Be': 5.4e-05 "
           ]
          ],
          [
           [
            " Lima",
            "0.7035",
            "' Lima': 0.703532 <br>   ' also': 0.040316 <br>   ' Beijing': 0.036139 <br>   ' Bras': 0.012296 <br>   '\n': 0.007939 <br>   ' Car': 0.006897 <br>   ' ': 0.00653 <br>   ' Buenos': 0.005499 <br>   ' Rio': 0.004968 <br>   ' Peru': 0.004216 "
           ],
           [
            " Bras",
            "0.3278",
            "' Bras': 0.327776 <br>   ' Lima': 0.133472 <br>   ' also': 0.053928 <br>   ' ': 0.024118 <br>   '\n': 0.021284 <br>   ' Brazil': 0.020791 <br>   ' known': 0.015572 <br>   ' Cam': 0.015211 <br>   ' Car': 0.013958 <br>   ' Chu': 0.012415 "
           ],
           [
            " Beijing",
            "0.7298",
            "' Beijing': 0.729756 <br>   ' China': 0.047018 <br>   ' Chong': 0.04085 <br>   '\n': 0.015749 <br>   ' Pyongyang': 0.012955 <br>   ' Bras': 0.012854 <br>   ' Moscow': 0.004803 <br>   ' Car': 0.004339 <br>   ' Lima': 0.004339 <br>   ' Communist': 0.003982 "
           ],
           [
            "\n",
            "0.1044",
            "'\n': 0.104353 <br>   ' known': 0.034954 <br>   '...': 0.032327 <br>   ' not': 0.026179 <br>   ' the': 0.024593 <br>   ' always': 0.020072 <br>   ' -': 0.017303 <br>   ' here': 0.016903 <br>   ' also': 0.015879 <br>   ' ': 0.01527 "
           ],
           [
            " Beijing",
            "0.9966",
            "' Beijing': 0.99656 <br>   ' Xi': 0.000655 <br>   ' China': 0.000494 <br>   ' Chinese': 0.000307 <br>   ' Chong': 0.000284 <br>   'Be': 0.00016 <br>   ' Mandarin': 0.000142 <br>   ' Guang': 0.000113 <br>   ' Tai': 9.5e-05 <br>   '\n': 7.5e-05 "
           ]
          ],
          [
           [
            " Lima",
            "0.3743",
            "' Lima': 0.374273 <br>   ' Beijing': 0.066063 <br>   ' also': 0.061578 <br>   ' Bras': 0.017642 <br>   ' Chu': 0.017505 <br>   ' Republic': 0.016703 <br>   ' ': 0.015691 <br>   ' Car': 0.014176 <br>   ' Je': 0.010371 <br>   ' Chong': 0.009443 "
           ],
           [
            " Bras",
            "0.3384",
            "' Bras': 0.338388 <br>   ' Beijing': 0.051893 <br>   ' Brazil': 0.030034 <br>   ' Cam': 0.026505 <br>   ' known': 0.023945 <br>   ' Venezuela': 0.022319 <br>   ' also': 0.020804 <br>   ' Car': 0.020164 <br>   ' Chu': 0.016076 <br>   ' Lima': 0.013643 "
           ],
           [
            " Beijing",
            "0.8451",
            "' Beijing': 0.845054 <br>   ' China': 0.06619 <br>   ' Chong': 0.030781 <br>   ' Pyongyang': 0.006014 <br>   ' Bras': 0.004265 <br>   ' Communist': 0.003048 <br>   '\n': 0.002411 <br>   ' Tian': 0.002265 <br>   ' Tehran': 0.002247 <br>   ' communist': 0.001764 "
           ],
           [
            "\n",
            "0.0587",
            "'\n': 0.058746 <br>   '...': 0.034535 <br>   ' Venezuela': 0.029082 <br>   ' -': 0.024299 <br>   ' Peru': 0.020144 <br>   ' Bras': 0.018485 <br>   ' known': 0.017502 <br>   ' Rep': 0.017096 <br>   ' Car': 0.017096 <br>   ' not': 0.016441 "
           ],
           [
            " Beijing",
            "0.9963",
            "' Beijing': 0.996323 <br>   ' China': 0.000909 <br>   ' Chinese': 0.000777 <br>   ' Chong': 0.000526 <br>   ' Xi': 0.000486 <br>   ' Guang': 0.000252 <br>   ' Cheng': 0.000193 <br>   ' Mandarin': 0.000185 <br>   ' Tian': 7.2e-05 <br>   ' Shanghai': 5.8e-05 "
           ]
          ],
          [
           [
            " Lima",
            "0.1657",
            "' Lima': 0.165749 <br>   ' Beijing': 0.140669 <br>   ' Republic': 0.040937 <br>   ' also': 0.038158 <br>   ' Je': 0.030422 <br>   ' Car': 0.028579 <br>   ' ': 0.019038 <br>   ' Cam': 0.014597 <br>   ' -': 0.013605 <br>   ' Chong': 0.010351 "
           ],
           [
            " Beijing",
            "0.1352",
            "' Beijing': 0.135177 <br>   ' Bras': 0.048958 <br>   ' socialism': 0.037245 <br>   ' Cam': 0.033912 <br>   ' China': 0.03161 <br>   ' Venezuela': 0.026827 <br>   ' Bangladesh': 0.01787 <br>   ' Marxism': 0.017052 <br>   ' Chu': 0.016788 <br>   ' Cambodia': 0.016399 "
           ],
           [
            " Beijing",
            "0.75",
            "' Beijing': 0.750039 <br>   ' China': 0.13239 <br>   ' Chong': 0.026897 <br>   ' Pyongyang': 0.007951 <br>   ' Communist': 0.007827 <br>   ' Bras': 0.006049 <br>   ' communist': 0.005594 <br>   ' Moscow': 0.003815 <br>   ' Tehran': 0.003815 <br>   ' Tian': 0.003556 "
           ],
           [
            " Venezuela",
            "0.0678",
            "' Venezuela': 0.067765 <br>   ' Russia': 0.05662 <br>   '\n': 0.020667 <br>   ' Peru': 0.018239 <br>   ' assumed': 0.017956 <br>   ' Car': 0.015003 <br>   ' Brazil': 0.014316 <br>   ' here': 0.014094 <br>   ' elected': 0.013984 <br>   ' Bras': 0.013344 "
           ],
           [
            " Beijing",
            "0.9929",
            "' Beijing': 0.992916 <br>   ' China': 0.002423 <br>   ' Chinese': 0.002385 <br>   ' Xi': 0.000613 <br>   ' Mandarin': 0.000408 <br>   ' Chong': 0.000328 <br>   ' Guang': 0.000229 <br>   ' Cheng': 0.000222 <br>   ' Shanghai': 0.000126 <br>   ' Tian': 9.4e-05 "
           ]
          ],
          [
           [
            " Beijing",
            "0.0832",
            "' Beijing': 0.083175 <br>   ' Lima': 0.067885 <br>   ' Republic': 0.052458 <br>   ' Cam': 0.031324 <br>   ' also': 0.028744 <br>   ' Je': 0.024205 <br>   ' ': 0.022039 <br>   ' Car': 0.019298 <br>   ' Y': 0.015266 <br>   ' Pe': 0.014912 "
           ],
           [
            " Beijing",
            "0.086",
            "' Beijing': 0.085983 <br>   ' Cam': 0.08465 <br>   ' Marxism': 0.06909 <br>   ' socialism': 0.066964 <br>   ' Marxist': 0.060497 <br>   ' Communist': 0.050547 <br>   ' Bangladesh': 0.037858 <br>   ' China': 0.030658 <br>   ' Venezuela': 0.026429 <br>   ' Y': 0.019036 "
           ],
           [
            " Beijing",
            "0.7624",
            "' Beijing': 0.762435 <br>   ' China': 0.09395 <br>   ' Chong': 0.028653 <br>   ' Pyongyang': 0.014296 <br>   ' Communist': 0.01343 <br>   ' Tehran': 0.010624 <br>   ' communist': 0.006806 <br>   ' Bras': 0.004032 <br>   ' Tian': 0.003396 <br>   ' Moscow': 0.00237 "
           ],
           [
            " Venezuela",
            "0.055",
            "' Venezuela': 0.055007 <br>   ' here': 0.035515 <br>   ' Armenia': 0.025581 <br>   ' Car': 0.02293 <br>   ' assumed': 0.019461 <br>   ' frequently': 0.017858 <br>   ' effective': 0.015515 <br>   ' always': 0.012663 <br>   ' known': 0.012274 <br>   '\n': 0.012083 "
           ],
           [
            " Beijing",
            "0.991",
            "' Beijing': 0.990987 <br>   ' Chinese': 0.002783 <br>   ' China': 0.002456 <br>   ' Xi': 0.001561 <br>   ' Mandarin': 0.000531 <br>   ' Chong': 0.000491 <br>   ' Guang': 0.000271 <br>   ' Cheng': 0.000259 <br>   ' Tian': 0.000157 <br>   'Be': 0.000128 "
           ]
          ],
          [
           [
            " Beijing",
            "0.1471",
            "' Beijing': 0.147111 <br>   ' Lima': 0.038981 <br>   ' Republic': 0.036334 <br>   ' also': 0.035492 <br>   ' Pe': 0.032569 <br>   ' Je': 0.031322 <br>   ' Cam': 0.030596 <br>   ' ': 0.021696 <br>   ' Y': 0.015998 <br>   ' Chou': 0.013899 "
           ],
           [
            " Beijing",
            "0.146",
            "' Beijing': 0.145969 <br>   ' Cam': 0.105962 <br>   ' China': 0.09648 <br>   ' Communist': 0.03662 <br>   ' Marxism': 0.033604 <br>   ' Bangladesh': 0.033083 <br>   ' socialism': 0.028297 <br>   ' Chong': 0.027427 <br>   ' Cambodia': 0.019755 <br>   ' Beng': 0.017987 "
           ],
           [
            " Beijing",
            "0.8243",
            "' Beijing': 0.824301 <br>   ' China': 0.104798 <br>   ' Chong': 0.026497 <br>   ' Pyongyang': 0.004127 <br>   ' Tehran': 0.003938 <br>   ' Communist': 0.003671 <br>   ' Chinese': 0.002092 <br>   ' Tian': 0.002027 <br>   ' Bras': 0.001832 <br>   ' communist': 0.001507 "
           ],
           [
            " Venezuela",
            "0.1366",
            "' Venezuela': 0.136608 <br>   ' Armenia': 0.080938 <br>   ' here': 0.036481 <br>   ' Car': 0.020625 <br>   ' Peru': 0.016189 <br>   ' assumed': 0.013847 <br>   ' effective': 0.01222 <br>   ' Russia': 0.011301 <br>   ' Congress': 0.010784 <br>   ' Argentina': 0.010534 "
           ],
           [
            " Beijing",
            "0.9887",
            "' Beijing': 0.98871 <br>   ' China': 0.003916 <br>   ' Chinese': 0.003511 <br>   ' Xi': 0.001793 <br>   ' Mandarin': 0.000475 <br>   ' Chong': 0.000413 <br>   ' Cheng': 0.000307 <br>   ' Guang': 0.000254 <br>   ' Tian': 0.000147 <br>   'Chinese': 0.000138 "
           ]
          ],
          [
           [
            " Beijing",
            "0.1232",
            "' Beijing': 0.123216 <br>   ' Republic': 0.045329 <br>   ' Je': 0.039691 <br>   ' also': 0.034755 <br>   ' Lima': 0.031893 <br>   ' Pe': 0.027067 <br>   ' Chou': 0.022971 <br>   ' Chu': 0.01789 <br>   ' Cam': 0.015912 <br>   'Be': 0.014948 "
           ],
           [
            " Beijing",
            "0.1809",
            "' Beijing': 0.180869 <br>   ' China': 0.109703 <br>   ' Cam': 0.108002 <br>   ' Bangladesh': 0.037912 <br>   ' Communist': 0.033197 <br>   ' socialism': 0.022816 <br>   ' Y': 0.018768 <br>   ' Beng': 0.016955 <br>   ' Cambodia': 0.014057 <br>   ' Marxism': 0.013731 "
           ],
           [
            " Beijing",
            "0.8247",
            "' Beijing': 0.82475 <br>   ' China': 0.074353 <br>   ' Chong': 0.023396 <br>   ' Bras': 0.012138 <br>   ' Tehran': 0.009984 <br>   ' Pyongyang': 0.004396 <br>   ' Communist': 0.002951 <br>   'Be': 0.002228 <br>   ' Chinese': 0.002077 <br>   ' communist': 0.001762 "
           ],
           [
            " Venezuela",
            "0.0728",
            "' Venezuela': 0.072789 <br>   ' Armenia': 0.058488 <br>   ' here': 0.023631 <br>   ' Car': 0.019438 <br>   ' elected': 0.017424 <br>   ' Republic': 0.016627 <br>   ' Peru': 0.016241 <br>   ' today': 0.014221 <br>   '\n': 0.013892 <br>   ' now': 0.013465 "
           ],
           [
            " Beijing",
            "0.9888",
            "' Beijing': 0.988813 <br>   ' Chinese': 0.003856 <br>   ' China': 0.002956 <br>   ' Xi': 0.001658 <br>   ' Mandarin': 0.00062 <br>   ' Chong': 0.000498 <br>   ' Cheng': 0.000394 <br>   ' Guang': 0.000388 <br>   'Be': 0.000232 <br>   'Chinese': 0.000224 "
           ]
          ],
          [
           [
            " Beijing",
            "0.0486",
            "' Beijing': 0.048577 <br>   ' Lima': 0.037537 <br>   ' Car': 0.035818 <br>   ' Chou': 0.033127 <br>   ' Pe': 0.029695 <br>   ' also': 0.029007 <br>   ' Cam': 0.019323 <br>   ' Je': 0.016788 <br>   ' Chu': 0.016399 <br>   ' known': 0.014931 "
           ],
           [
            " Cam",
            "0.0988",
            "' Cam': 0.098762 <br>   ' Beijing': 0.072823 <br>   ' Communist': 0.059436 <br>   ' Car': 0.04281 <br>   ' China': 0.036333 <br>   ' socialism': 0.034131 <br>   ' Chou': 0.032824 <br>   ' Y': 0.026581 <br>   ' Marxism': 0.024393 <br>   ' Marxist': 0.021359 "
           ],
           [
            " Beijing",
            "0.802",
            "' Beijing': 0.80201 <br>   ' China': 0.058097 <br>   ' Chong': 0.029442 <br>   ' Tehran': 0.020235 <br>   ' Bras': 0.016387 <br>   ' Pyongyang': 0.006468 <br>   ' Communist': 0.005156 <br>   ' communist': 0.00276 <br>   ' Moscow': 0.002739 <br>   ' Zh': 0.002593 "
           ],
           [
            " Car",
            "0.054",
            "' Car': 0.054049 <br>   ' Venezuela': 0.042093 <br>   ' Armenia': 0.026756 <br>   ' today': 0.026341 <br>   ' Republic': 0.020039 <br>   '\n': 0.018679 <br>   ' now': 0.016356 <br>   ' elected': 0.014322 <br>   ' politically': 0.014322 <br>   ' Bras': 0.01304 "
           ],
           [
            " Beijing",
            "0.9858",
            "' Beijing': 0.985823 <br>   ' Chinese': 0.006747 <br>   ' China': 0.002769 <br>   ' Xi': 0.001653 <br>   ' Mandarin': 0.000927 <br>   ' Chong': 0.000425 <br>   ' Cheng': 0.000399 <br>   'Chinese': 0.000336 <br>   ' Guang': 0.000283 <br>   'Be': 0.00022 "
           ]
          ],
          [
           [
            " Lima",
            "0.0361",
            "' Lima': 0.036071 <br>   ' Chou': 0.028984 <br>   ' Car': 0.026597 <br>   ' Pe': 0.01992 <br>   ' also': 0.018423 <br>   ' known': 0.017307 <br>   ' Je': 0.015758 <br>   ' Ne': 0.011988 <br>   ' Y': 0.010662 <br>   'pe': 0.009784 "
           ],
           [
            " Cam",
            "0.0756",
            "' Cam': 0.075643 <br>   ' Chou': 0.059838 <br>   ' Marxism': 0.050784 <br>   ' socialism': 0.043438 <br>   ' Y': 0.0431 <br>   ' Marxist': 0.031533 <br>   ' Communist': 0.028046 <br>   ' -': 0.02307 <br>   ' Beng': 0.017414 <br>   ' Bangladesh': 0.01598 "
           ],
           [
            " Beijing",
            "0.5994",
            "' Beijing': 0.599352 <br>   ' Tehran': 0.063667 <br>   ' Bras': 0.055315 <br>   ' China': 0.05076 <br>   ' Chong': 0.029608 <br>   ' communist': 0.013555 <br>   ' Communist': 0.011504 <br>   ' Zh': 0.008417 <br>   ' Pe': 0.007907 <br>   ' PE': 0.007256 "
           ],
           [
            " Venezuela",
            "0.0929",
            "' Venezuela': 0.09292 <br>   ' Car': 0.069594 <br>   ' Peru': 0.02443 <br>   ' Armenia': 0.023678 <br>   ' here': 0.013811 <br>   '\n': 0.013386 <br>   ' Lima': 0.011813 <br>   ' Argentina': 0.010756 <br>   ' now': 0.009948 <br>   ' Havana': 0.009948 "
           ],
           [
            " Beijing",
            "0.9482",
            "' Beijing': 0.94815 <br>   ' Chinese': 0.032444 <br>   ' China': 0.005054 <br>   ' Xi': 0.004125 <br>   ' Mandarin': 0.003212 <br>   'Be': 0.002042 <br>   'Chinese': 0.001339 <br>   ' Cheng': 0.001339 <br>   ' Guang': 0.000663 <br>   ' Chong': 0.000533 "
           ]
          ],
          [
           [
            " Lima",
            "0.0883",
            "' Lima': 0.088329 <br>   ' Car': 0.06933 <br>   ' Chou': 0.023223 <br>   ' also': 0.015713 <br>   ' Je': 0.015111 <br>   ' known': 0.011954 <br>   ' Pe': 0.011954 <br>   ' only': 0.010549 <br>   '—': 0.009988 <br>   ' Y': 0.009383 "
           ],
           [
            " Chou",
            "0.0809",
            "' Chou': 0.080948 <br>   ' Bangladesh': 0.034544 <br>   ' Cam': 0.034009 <br>   ' -': 0.033221 <br>   ' Y': 0.025273 <br>   ' Alma': 0.019077 <br>   '\n': 0.018204 <br>   ' Beirut': 0.013634 <br>   ' socialism': 0.012908 <br>   ' Car': 0.012808 "
           ],
           [
            " Beijing",
            "0.4112",
            "' Beijing': 0.411212 <br>   ' Tehran': 0.092473 <br>   ' Bras': 0.085524 <br>   ' Chong': 0.037072 <br>   ' China': 0.031462 <br>   ' PE': 0.017512 <br>   ' communist': 0.016973 <br>   'Be': 0.016069 <br>   ' Communist': 0.015944 <br>   ' Pe': 0.009671 "
           ],
           [
            " Car",
            "0.0617",
            "' Car': 0.061654 <br>   ' Venezuela': 0.048393 <br>   '\n': 0.028449 <br>   ' Armenia': 0.016465 <br>   ' Cap': 0.011767 <br>   ' politically': 0.011228 <br>   ' frequently': 0.011141 <br>   ' ': 0.010466 <br>   ' PE': 0.010466 <br>   ' here': 0.009529 "
           ],
           [
            " Beijing",
            "0.9462",
            "' Beijing': 0.946182 <br>   ' Chinese': 0.026841 <br>   'Be': 0.006681 <br>   ' China': 0.005805 <br>   ' Mandarin': 0.003867 <br>   ' Xi': 0.003633 <br>   ' Cheng': 0.001663 <br>   'Chinese': 0.001491 <br>   ' Chong': 0.001143 <br>   ' Guang': 0.000798 "
           ]
          ],
          [
           [
            " only",
            "0.0253",
            "' only': 0.025297 <br>   ' Hu': 0.02395 <br>   ' Lima': 0.017938 <br>   ' Car': 0.016983 <br>   ' also': 0.015585 <br>   '—': 0.01282 <br>   ' exclusively': 0.010382 <br>   ' PE': 0.009379 <br>   ' Je': 0.008085 <br>   ' assumed': 0.008022 "
           ],
           [
            " socialism",
            "0.0448",
            "' socialism': 0.044766 <br>   ' Car': 0.017259 <br>   ' Alma': 0.016991 <br>   ' Cam': 0.016728 <br>   ' -': 0.01634 <br>   ' Bangladesh': 0.014878 <br>   ' Chou': 0.011231 <br>   ' Y': 0.010468 <br>   ' Yaz': 0.010146 <br>   'L': 0.008411 "
           ],
           [
            " Beijing",
            "0.229",
            "' Beijing': 0.228967 <br>   ' Bras': 0.058803 <br>   ' PE': 0.045086 <br>   'PE': 0.035946 <br>   ' Chong': 0.035666 <br>   ' China': 0.03123 <br>   'Be': 0.019851 <br>   ' communist': 0.018216 <br>   ' Zh': 0.017934 <br>   ' Tehran': 0.01698 "
           ],
           [
            " Car",
            "0.0355",
            "' Car': 0.03546 <br>   ' Armenia': 0.024949 <br>   ' frequently': 0.020522 <br>   ' Bras': 0.018253 <br>   ' Venezuela': 0.017417 <br>   ' now': 0.012644 <br>   ' elected': 0.012351 <br>   ' Suc': 0.011785 <br>   '\n': 0.009847 <br>   ' Lima': 0.009178 "
           ],
           [
            " Beijing",
            "0.7171",
            "' Beijing': 0.717072 <br>   ' Chinese': 0.111698 <br>   ' Mandarin': 0.053593 <br>   'Be': 0.029597 <br>   ' China': 0.020342 <br>   ' Cheng': 0.016473 <br>   'Chinese': 0.015842 <br>   ' Xi': 0.007966 <br>   ' Chong': 0.007842 <br>   ' Guang': 0.004946 "
           ]
          ],
          [
           [
            " only",
            "0.0236",
            "' only': 0.023592 <br>   ' Hu': 0.013654 <br>   '131': 0.012529 <br>   ' APP': 0.010469 <br>   '—': 0.010469 <br>   ' Je': 0.009912 <br>   ' exclusively': 0.009758 <br>   'SOURCE': 0.009758 <br>   ' Jal': 0.00809 <br>   ' assumed': 0.007139 "
           ],
           [
            " socialism",
            "0.0314",
            "' socialism': 0.031396 <br>   ' Alma': 0.027277 <br>   ' Yaz': 0.015064 <br>   ' Cam': 0.012586 <br>   ' Car': 0.010682 <br>   ' Im': 0.010516 <br>   ' only': 0.010516 <br>   ' Egg': 0.010353 <br>   ' exclusively': 0.009957 <br>   ' Bangladesh': 0.009066 "
           ],
           [
            " Beijing",
            "0.1504",
            "' Beijing': 0.150408 <br>   ' Bras': 0.077423 <br>   ' PE': 0.05198 <br>   ' Chong': 0.049599 <br>   'PE': 0.038029 <br>   ' China': 0.019884 <br>   ' communist': 0.016484 <br>   'py': 0.015486 <br>   ' Zh': 0.014777 <br>   'Be': 0.012346 "
           ],
           [
            " Bras",
            "0.0232",
            "' Bras': 0.023207 <br>   ' Armenia': 0.022318 <br>   ' Car': 0.021972 <br>   ' Venezuela': 0.019695 <br>   ' frequently': 0.017112 <br>   ' periodically': 0.015101 <br>   ' Cap': 0.010625 <br>   ' presidential': 0.010218 <br>   ' Suc': 0.00945 <br>   ' Coch': 0.008877 "
           ],
           [
            " Beijing",
            "0.6773",
            "' Beijing': 0.677342 <br>   ' Chinese': 0.10551 <br>   ' Mandarin': 0.049067 <br>   'Be': 0.044328 <br>   ' Cheng': 0.022997 <br>   ' China': 0.01998 <br>   ' Chong': 0.018192 <br>   'Chinese': 0.016694 <br>   ' Xi': 0.010285 <br>   ' Guang': 0.00735 "
           ]
          ],
          [
           [
            " APP",
            "0.0226",
            "' APP': 0.022591 <br>   ' only': 0.013702 <br>   '131': 0.013385 <br>   ' Assad': 0.011904 <br>   'SOURCE': 0.011359 <br>   ' Jou': 0.009947 <br>   ' Jal': 0.00722 <br>   ' Hu': 0.00689 <br>   ' Je': 0.006372 <br>   ' constitutionally': 0.006176 "
           ],
           [
            " socialism",
            "0.0344",
            "' socialism': 0.034359 <br>   ' Alma': 0.026344 <br>   ' Yaz': 0.020357 <br>   ' Bangladesh': 0.017965 <br>   ' Cam': 0.016877 <br>   ' Marxist': 0.015978 <br>   ' Car': 0.015978 <br>   ' Egg': 0.015487 <br>   ' Marxism': 0.012839 <br>   ' Afghanistan': 0.012542 "
           ],
           [
            " Beijing",
            "0.1285",
            "' Beijing': 0.128473 <br>   ' Bras': 0.098504 <br>   ' Chong': 0.060686 <br>   ' PE': 0.039182 <br>   ' China': 0.025298 <br>   'PE': 0.023951 <br>   'Be': 0.019096 <br>   ' Rousse': 0.013647 <br>   ' communist': 0.012044 <br>   'py': 0.010221 "
           ],
           [
            " Bras",
            "0.0682",
            "' Bras': 0.068192 <br>   ' Venezuela': 0.042012 <br>   ' Armenia': 0.040719 <br>   ' Car': 0.022487 <br>   ' Havana': 0.017928 <br>   ' Paragu': 0.016452 <br>   ' Argentina': 0.015097 <br>   ' Bog': 0.01498 <br>   ' Pakistan': 0.012037 <br>   ' Bra': 0.011132 "
           ],
           [
            " Beijing",
            "0.6535",
            "' Beijing': 0.653541 <br>   ' Chinese': 0.096384 <br>   'Be': 0.047342 <br>   ' Mandarin': 0.037745 <br>   ' Chong': 0.032793 <br>   ' Cheng': 0.030093 <br>   ' China': 0.024948 <br>   'Chinese': 0.017281 <br>   ' Xi': 0.009923 <br>   ' Guang': 0.005879 "
           ]
          ],
          [
           [
            " Chou",
            "0.061",
            "' Chou': 0.061017 <br>   ' also': 0.042931 <br>   ' known': 0.033435 <br>   ' only': 0.024271 <br>   ' Car': 0.013404 <br>   ' exclusively': 0.011922 <br>   ' commonly': 0.00973 <br>   ' Jou': 0.009505 <br>   ' simply': 0.009505 <br>   ' Hu': 0.008454 "
           ],
           [
            " Alma",
            "0.0279",
            "' Alma': 0.027931 <br>   ' Car': 0.026861 <br>   ' seat': 0.021083 <br>   ' Chou': 0.017754 <br>   '\n': 0.016678 <br>   ' socialism': 0.01642 <br>   ' communist': 0.015791 <br>   ' Cam': 0.014834 <br>   ' Marxist': 0.014155 <br>   ' the': 0.012989 "
           ],
           [
            " Beijing",
            "0.5775",
            "' Beijing': 0.577529 <br>   ' Bras': 0.140428 <br>   ' Chong': 0.044188 <br>   'Be': 0.036348 <br>   ' Tehran': 0.013372 <br>   ' Be': 0.011709 <br>   ' PE': 0.010414 <br>   ' communist': 0.007157 <br>   ' Rousse': 0.007157 <br>   ' China': 0.006776 "
           ],
           [
            "\n",
            "0.1286",
            "'\n': 0.128597 <br>   ' Lima': 0.043075 <br>   '...': 0.020189 <br>   ' Cap': 0.017956 <br>   ' Bras': 0.016222 <br>   ' ': 0.016096 <br>   ' Havana': 0.015359 <br>   ' L': 0.015359 <br>   ' Washington': 0.014886 <br>   '...': 0.014094 "
           ],
           [
            " Beijing",
            "0.9337",
            "' Beijing': 0.933743 <br>   'Be': 0.028641 <br>   ' Chinese': 0.014178 <br>   ' Chong': 0.00564 <br>   ' Mandarin': 0.003999 <br>   ' Be': 0.002369 <br>   ' Xi': 0.002209 <br>   ' China': 0.00198 <br>   'Chinese': 0.001874 <br>   ' Cheng': 0.001319 "
           ]
          ]
         ],
         "hovertemplate": "<b>'%{customdata[0]}': %{customdata[1]}</b><br><br>Top_k:<br>   %{customdata[2]}<extra></extra>",
         "reversescale": false,
         "showscale": false,
         "type": "heatmap",
         "x": [
          0,
          1,
          2,
          3,
          4
         ],
         "y": [
          0,
          1,
          2,
          3,
          4,
          5,
          6,
          7,
          8,
          9,
          10,
          11,
          12,
          13,
          14,
          15,
          16
         ],
         "z": [
          [
           0.4311,
           0.2747,
           0.2527,
           0.2455,
           0.9252
          ],
          [
           0.5648,
           0.3362,
           0.2633,
           0.2522,
           0.9851
          ],
          [
           0.7076,
           0.4662,
           0.3339,
           0.1256,
           0.9961
          ],
          [
           0.6689,
           0.3135,
           0.6848,
           0.1818,
           0.9958
          ],
          [
           0.7035,
           0.3278,
           0.7298,
           0.1044,
           0.9966
          ],
          [
           0.3743,
           0.3384,
           0.8451,
           0.0587,
           0.9963
          ],
          [
           0.1657,
           0.1352,
           0.75,
           0.0678,
           0.9929
          ],
          [
           0.0832,
           0.086,
           0.7624,
           0.055,
           0.991
          ],
          [
           0.1471,
           0.146,
           0.8243,
           0.1366,
           0.9887
          ],
          [
           0.1232,
           0.1809,
           0.8247,
           0.0728,
           0.9888
          ],
          [
           0.0486,
           0.0988,
           0.802,
           0.054,
           0.9858
          ],
          [
           0.0361,
           0.0756,
           0.5994,
           0.0929,
           0.9482
          ],
          [
           0.0883,
           0.0809,
           0.4112,
           0.0617,
           0.9462
          ],
          [
           0.0253,
           0.0448,
           0.229,
           0.0355,
           0.7171
          ],
          [
           0.0236,
           0.0314,
           0.1504,
           0.0232,
           0.6773
          ],
          [
           0.0226,
           0.0344,
           0.1285,
           0.0682,
           0.6535
          ],
          [
           0.061,
           0.0279,
           0.5775,
           0.1286,
           0.9337
          ]
         ]
        }
       ],
       "layout": {
        "annotations": [
         {
          "font": {
           "color": "#000000"
          },
          "showarrow": false,
          "text": " Lima",
          "x": 0,
          "xref": "x",
          "y": 0,
          "yref": "y"
         },
         {
          "font": {
           "color": "#000000"
          },
          "showarrow": false,
          "text": " Lima",
          "x": 1,
          "xref": "x",
          "y": 0,
          "yref": "y"
         },
         {
          "font": {
           "color": "#000000"
          },
          "showarrow": false,
          "text": "\n",
          "x": 2,
          "xref": "x",
          "y": 0,
          "yref": "y"
         },
         {
          "font": {
           "color": "#000000"
          },
          "showarrow": false,
          "text": " Lima",
          "x": 3,
          "xref": "x",
          "y": 0,
          "yref": "y"
         },
         {
          "font": {
           "color": "#FFFFFF"
          },
          "showarrow": false,
          "text": " Beijing",
          "x": 4,
          "xref": "x",
          "y": 0,
          "yref": "y"
         },
         {
          "font": {
           "color": "#FFFFFF"
          },
          "showarrow": false,
          "text": " Lima",
          "x": 0,
          "xref": "x",
          "y": 1,
          "yref": "y"
         },
         {
          "font": {
           "color": "#000000"
          },
          "showarrow": false,
          "text": " Lima",
          "x": 1,
          "xref": "x",
          "y": 1,
          "yref": "y"
         },
         {
          "font": {
           "color": "#000000"
          },
          "showarrow": false,
          "text": "\n",
          "x": 2,
          "xref": "x",
          "y": 1,
          "yref": "y"
         },
         {
          "font": {
           "color": "#000000"
          },
          "showarrow": false,
          "text": " Lima",
          "x": 3,
          "xref": "x",
          "y": 1,
          "yref": "y"
         },
         {
          "font": {
           "color": "#FFFFFF"
          },
          "showarrow": false,
          "text": " Beijing",
          "x": 4,
          "xref": "x",
          "y": 1,
          "yref": "y"
         },
         {
          "font": {
           "color": "#FFFFFF"
          },
          "showarrow": false,
          "text": " Lima",
          "x": 0,
          "xref": "x",
          "y": 2,
          "yref": "y"
         },
         {
          "font": {
           "color": "#000000"
          },
          "showarrow": false,
          "text": " Lima",
          "x": 1,
          "xref": "x",
          "y": 2,
          "yref": "y"
         },
         {
          "font": {
           "color": "#000000"
          },
          "showarrow": false,
          "text": " Beijing",
          "x": 2,
          "xref": "x",
          "y": 2,
          "yref": "y"
         },
         {
          "font": {
           "color": "#000000"
          },
          "showarrow": false,
          "text": " Lima",
          "x": 3,
          "xref": "x",
          "y": 2,
          "yref": "y"
         },
         {
          "font": {
           "color": "#FFFFFF"
          },
          "showarrow": false,
          "text": " Beijing",
          "x": 4,
          "xref": "x",
          "y": 2,
          "yref": "y"
         },
         {
          "font": {
           "color": "#FFFFFF"
          },
          "showarrow": false,
          "text": " Lima",
          "x": 0,
          "xref": "x",
          "y": 3,
          "yref": "y"
         },
         {
          "font": {
           "color": "#000000"
          },
          "showarrow": false,
          "text": " Lima",
          "x": 1,
          "xref": "x",
          "y": 3,
          "yref": "y"
         },
         {
          "font": {
           "color": "#FFFFFF"
          },
          "showarrow": false,
          "text": " Beijing",
          "x": 2,
          "xref": "x",
          "y": 3,
          "yref": "y"
         },
         {
          "font": {
           "color": "#000000"
          },
          "showarrow": false,
          "text": "\n",
          "x": 3,
          "xref": "x",
          "y": 3,
          "yref": "y"
         },
         {
          "font": {
           "color": "#FFFFFF"
          },
          "showarrow": false,
          "text": " Beijing",
          "x": 4,
          "xref": "x",
          "y": 3,
          "yref": "y"
         },
         {
          "font": {
           "color": "#FFFFFF"
          },
          "showarrow": false,
          "text": " Lima",
          "x": 0,
          "xref": "x",
          "y": 4,
          "yref": "y"
         },
         {
          "font": {
           "color": "#000000"
          },
          "showarrow": false,
          "text": " Bras",
          "x": 1,
          "xref": "x",
          "y": 4,
          "yref": "y"
         },
         {
          "font": {
           "color": "#FFFFFF"
          },
          "showarrow": false,
          "text": " Beijing",
          "x": 2,
          "xref": "x",
          "y": 4,
          "yref": "y"
         },
         {
          "font": {
           "color": "#000000"
          },
          "showarrow": false,
          "text": "\n",
          "x": 3,
          "xref": "x",
          "y": 4,
          "yref": "y"
         },
         {
          "font": {
           "color": "#FFFFFF"
          },
          "showarrow": false,
          "text": " Beijing",
          "x": 4,
          "xref": "x",
          "y": 4,
          "yref": "y"
         },
         {
          "font": {
           "color": "#000000"
          },
          "showarrow": false,
          "text": " Lima",
          "x": 0,
          "xref": "x",
          "y": 5,
          "yref": "y"
         },
         {
          "font": {
           "color": "#000000"
          },
          "showarrow": false,
          "text": " Bras",
          "x": 1,
          "xref": "x",
          "y": 5,
          "yref": "y"
         },
         {
          "font": {
           "color": "#FFFFFF"
          },
          "showarrow": false,
          "text": " Beijing",
          "x": 2,
          "xref": "x",
          "y": 5,
          "yref": "y"
         },
         {
          "font": {
           "color": "#000000"
          },
          "showarrow": false,
          "text": "\n",
          "x": 3,
          "xref": "x",
          "y": 5,
          "yref": "y"
         },
         {
          "font": {
           "color": "#FFFFFF"
          },
          "showarrow": false,
          "text": " Beijing",
          "x": 4,
          "xref": "x",
          "y": 5,
          "yref": "y"
         },
         {
          "font": {
           "color": "#000000"
          },
          "showarrow": false,
          "text": " Lima",
          "x": 0,
          "xref": "x",
          "y": 6,
          "yref": "y"
         },
         {
          "font": {
           "color": "#000000"
          },
          "showarrow": false,
          "text": " Beijing",
          "x": 1,
          "xref": "x",
          "y": 6,
          "yref": "y"
         },
         {
          "font": {
           "color": "#FFFFFF"
          },
          "showarrow": false,
          "text": " Beijing",
          "x": 2,
          "xref": "x",
          "y": 6,
          "yref": "y"
         },
         {
          "font": {
           "color": "#000000"
          },
          "showarrow": false,
          "text": " Venezuela",
          "x": 3,
          "xref": "x",
          "y": 6,
          "yref": "y"
         },
         {
          "font": {
           "color": "#FFFFFF"
          },
          "showarrow": false,
          "text": " Beijing",
          "x": 4,
          "xref": "x",
          "y": 6,
          "yref": "y"
         },
         {
          "font": {
           "color": "#000000"
          },
          "showarrow": false,
          "text": " Beijing",
          "x": 0,
          "xref": "x",
          "y": 7,
          "yref": "y"
         },
         {
          "font": {
           "color": "#000000"
          },
          "showarrow": false,
          "text": " Beijing",
          "x": 1,
          "xref": "x",
          "y": 7,
          "yref": "y"
         },
         {
          "font": {
           "color": "#FFFFFF"
          },
          "showarrow": false,
          "text": " Beijing",
          "x": 2,
          "xref": "x",
          "y": 7,
          "yref": "y"
         },
         {
          "font": {
           "color": "#000000"
          },
          "showarrow": false,
          "text": " Venezuela",
          "x": 3,
          "xref": "x",
          "y": 7,
          "yref": "y"
         },
         {
          "font": {
           "color": "#FFFFFF"
          },
          "showarrow": false,
          "text": " Beijing",
          "x": 4,
          "xref": "x",
          "y": 7,
          "yref": "y"
         },
         {
          "font": {
           "color": "#000000"
          },
          "showarrow": false,
          "text": " Beijing",
          "x": 0,
          "xref": "x",
          "y": 8,
          "yref": "y"
         },
         {
          "font": {
           "color": "#000000"
          },
          "showarrow": false,
          "text": " Beijing",
          "x": 1,
          "xref": "x",
          "y": 8,
          "yref": "y"
         },
         {
          "font": {
           "color": "#FFFFFF"
          },
          "showarrow": false,
          "text": " Beijing",
          "x": 2,
          "xref": "x",
          "y": 8,
          "yref": "y"
         },
         {
          "font": {
           "color": "#000000"
          },
          "showarrow": false,
          "text": " Venezuela",
          "x": 3,
          "xref": "x",
          "y": 8,
          "yref": "y"
         },
         {
          "font": {
           "color": "#FFFFFF"
          },
          "showarrow": false,
          "text": " Beijing",
          "x": 4,
          "xref": "x",
          "y": 8,
          "yref": "y"
         },
         {
          "font": {
           "color": "#000000"
          },
          "showarrow": false,
          "text": " Beijing",
          "x": 0,
          "xref": "x",
          "y": 9,
          "yref": "y"
         },
         {
          "font": {
           "color": "#000000"
          },
          "showarrow": false,
          "text": " Beijing",
          "x": 1,
          "xref": "x",
          "y": 9,
          "yref": "y"
         },
         {
          "font": {
           "color": "#FFFFFF"
          },
          "showarrow": false,
          "text": " Beijing",
          "x": 2,
          "xref": "x",
          "y": 9,
          "yref": "y"
         },
         {
          "font": {
           "color": "#000000"
          },
          "showarrow": false,
          "text": " Venezuela",
          "x": 3,
          "xref": "x",
          "y": 9,
          "yref": "y"
         },
         {
          "font": {
           "color": "#FFFFFF"
          },
          "showarrow": false,
          "text": " Beijing",
          "x": 4,
          "xref": "x",
          "y": 9,
          "yref": "y"
         },
         {
          "font": {
           "color": "#000000"
          },
          "showarrow": false,
          "text": " Beijing",
          "x": 0,
          "xref": "x",
          "y": 10,
          "yref": "y"
         },
         {
          "font": {
           "color": "#000000"
          },
          "showarrow": false,
          "text": " Cam",
          "x": 1,
          "xref": "x",
          "y": 10,
          "yref": "y"
         },
         {
          "font": {
           "color": "#FFFFFF"
          },
          "showarrow": false,
          "text": " Beijing",
          "x": 2,
          "xref": "x",
          "y": 10,
          "yref": "y"
         },
         {
          "font": {
           "color": "#000000"
          },
          "showarrow": false,
          "text": " Car",
          "x": 3,
          "xref": "x",
          "y": 10,
          "yref": "y"
         },
         {
          "font": {
           "color": "#FFFFFF"
          },
          "showarrow": false,
          "text": " Beijing",
          "x": 4,
          "xref": "x",
          "y": 10,
          "yref": "y"
         },
         {
          "font": {
           "color": "#000000"
          },
          "showarrow": false,
          "text": " Lima",
          "x": 0,
          "xref": "x",
          "y": 11,
          "yref": "y"
         },
         {
          "font": {
           "color": "#000000"
          },
          "showarrow": false,
          "text": " Cam",
          "x": 1,
          "xref": "x",
          "y": 11,
          "yref": "y"
         },
         {
          "font": {
           "color": "#FFFFFF"
          },
          "showarrow": false,
          "text": " Beijing",
          "x": 2,
          "xref": "x",
          "y": 11,
          "yref": "y"
         },
         {
          "font": {
           "color": "#000000"
          },
          "showarrow": false,
          "text": " Venezuela",
          "x": 3,
          "xref": "x",
          "y": 11,
          "yref": "y"
         },
         {
          "font": {
           "color": "#FFFFFF"
          },
          "showarrow": false,
          "text": " Beijing",
          "x": 4,
          "xref": "x",
          "y": 11,
          "yref": "y"
         },
         {
          "font": {
           "color": "#000000"
          },
          "showarrow": false,
          "text": " Lima",
          "x": 0,
          "xref": "x",
          "y": 12,
          "yref": "y"
         },
         {
          "font": {
           "color": "#000000"
          },
          "showarrow": false,
          "text": " Chou",
          "x": 1,
          "xref": "x",
          "y": 12,
          "yref": "y"
         },
         {
          "font": {
           "color": "#000000"
          },
          "showarrow": false,
          "text": " Beijing",
          "x": 2,
          "xref": "x",
          "y": 12,
          "yref": "y"
         },
         {
          "font": {
           "color": "#000000"
          },
          "showarrow": false,
          "text": " Car",
          "x": 3,
          "xref": "x",
          "y": 12,
          "yref": "y"
         },
         {
          "font": {
           "color": "#FFFFFF"
          },
          "showarrow": false,
          "text": " Beijing",
          "x": 4,
          "xref": "x",
          "y": 12,
          "yref": "y"
         },
         {
          "font": {
           "color": "#000000"
          },
          "showarrow": false,
          "text": " only",
          "x": 0,
          "xref": "x",
          "y": 13,
          "yref": "y"
         },
         {
          "font": {
           "color": "#000000"
          },
          "showarrow": false,
          "text": " socialism",
          "x": 1,
          "xref": "x",
          "y": 13,
          "yref": "y"
         },
         {
          "font": {
           "color": "#000000"
          },
          "showarrow": false,
          "text": " Beijing",
          "x": 2,
          "xref": "x",
          "y": 13,
          "yref": "y"
         },
         {
          "font": {
           "color": "#000000"
          },
          "showarrow": false,
          "text": " Car",
          "x": 3,
          "xref": "x",
          "y": 13,
          "yref": "y"
         },
         {
          "font": {
           "color": "#FFFFFF"
          },
          "showarrow": false,
          "text": " Beijing",
          "x": 4,
          "xref": "x",
          "y": 13,
          "yref": "y"
         },
         {
          "font": {
           "color": "#000000"
          },
          "showarrow": false,
          "text": " only",
          "x": 0,
          "xref": "x",
          "y": 14,
          "yref": "y"
         },
         {
          "font": {
           "color": "#000000"
          },
          "showarrow": false,
          "text": " socialism",
          "x": 1,
          "xref": "x",
          "y": 14,
          "yref": "y"
         },
         {
          "font": {
           "color": "#000000"
          },
          "showarrow": false,
          "text": " Beijing",
          "x": 2,
          "xref": "x",
          "y": 14,
          "yref": "y"
         },
         {
          "font": {
           "color": "#000000"
          },
          "showarrow": false,
          "text": " Bras",
          "x": 3,
          "xref": "x",
          "y": 14,
          "yref": "y"
         },
         {
          "font": {
           "color": "#FFFFFF"
          },
          "showarrow": false,
          "text": " Beijing",
          "x": 4,
          "xref": "x",
          "y": 14,
          "yref": "y"
         },
         {
          "font": {
           "color": "#000000"
          },
          "showarrow": false,
          "text": " APP",
          "x": 0,
          "xref": "x",
          "y": 15,
          "yref": "y"
         },
         {
          "font": {
           "color": "#000000"
          },
          "showarrow": false,
          "text": " socialism",
          "x": 1,
          "xref": "x",
          "y": 15,
          "yref": "y"
         },
         {
          "font": {
           "color": "#000000"
          },
          "showarrow": false,
          "text": " Beijing",
          "x": 2,
          "xref": "x",
          "y": 15,
          "yref": "y"
         },
         {
          "font": {
           "color": "#000000"
          },
          "showarrow": false,
          "text": " Bras",
          "x": 3,
          "xref": "x",
          "y": 15,
          "yref": "y"
         },
         {
          "font": {
           "color": "#FFFFFF"
          },
          "showarrow": false,
          "text": " Beijing",
          "x": 4,
          "xref": "x",
          "y": 15,
          "yref": "y"
         },
         {
          "font": {
           "color": "#000000"
          },
          "showarrow": false,
          "text": " Chou",
          "x": 0,
          "xref": "x",
          "y": 16,
          "yref": "y"
         },
         {
          "font": {
           "color": "#000000"
          },
          "showarrow": false,
          "text": " Alma",
          "x": 1,
          "xref": "x",
          "y": 16,
          "yref": "y"
         },
         {
          "font": {
           "color": "#FFFFFF"
          },
          "showarrow": false,
          "text": " Beijing",
          "x": 2,
          "xref": "x",
          "y": 16,
          "yref": "y"
         },
         {
          "font": {
           "color": "#000000"
          },
          "showarrow": false,
          "text": "\n",
          "x": 3,
          "xref": "x",
          "y": 16,
          "yref": "y"
         },
         {
          "font": {
           "color": "#FFFFFF"
          },
          "showarrow": false,
          "text": " Beijing",
          "x": 4,
          "xref": "x",
          "y": 16,
          "yref": "y"
         }
        ],
        "autosize": false,
        "height": 795,
        "plot_bgcolor": "white",
        "template": {
         "data": {
          "bar": [
           {
            "error_x": {
             "color": "#2a3f5f"
            },
            "error_y": {
             "color": "#2a3f5f"
            },
            "marker": {
             "line": {
              "color": "#E5ECF6",
              "width": 0.5
             },
             "pattern": {
              "fillmode": "overlay",
              "size": 10,
              "solidity": 0.2
             }
            },
            "type": "bar"
           }
          ],
          "barpolar": [
           {
            "marker": {
             "line": {
              "color": "#E5ECF6",
              "width": 0.5
             },
             "pattern": {
              "fillmode": "overlay",
              "size": 10,
              "solidity": 0.2
             }
            },
            "type": "barpolar"
           }
          ],
          "carpet": [
           {
            "aaxis": {
             "endlinecolor": "#2a3f5f",
             "gridcolor": "white",
             "linecolor": "white",
             "minorgridcolor": "white",
             "startlinecolor": "#2a3f5f"
            },
            "baxis": {
             "endlinecolor": "#2a3f5f",
             "gridcolor": "white",
             "linecolor": "white",
             "minorgridcolor": "white",
             "startlinecolor": "#2a3f5f"
            },
            "type": "carpet"
           }
          ],
          "choropleth": [
           {
            "colorbar": {
             "outlinewidth": 0,
             "ticks": ""
            },
            "type": "choropleth"
           }
          ],
          "contour": [
           {
            "colorbar": {
             "outlinewidth": 0,
             "ticks": ""
            },
            "colorscale": [
             [
              0,
              "#0d0887"
             ],
             [
              0.1111111111111111,
              "#46039f"
             ],
             [
              0.2222222222222222,
              "#7201a8"
             ],
             [
              0.3333333333333333,
              "#9c179e"
             ],
             [
              0.4444444444444444,
              "#bd3786"
             ],
             [
              0.5555555555555556,
              "#d8576b"
             ],
             [
              0.6666666666666666,
              "#ed7953"
             ],
             [
              0.7777777777777778,
              "#fb9f3a"
             ],
             [
              0.8888888888888888,
              "#fdca26"
             ],
             [
              1,
              "#f0f921"
             ]
            ],
            "type": "contour"
           }
          ],
          "contourcarpet": [
           {
            "colorbar": {
             "outlinewidth": 0,
             "ticks": ""
            },
            "type": "contourcarpet"
           }
          ],
          "heatmap": [
           {
            "colorbar": {
             "outlinewidth": 0,
             "ticks": ""
            },
            "colorscale": [
             [
              0,
              "#0d0887"
             ],
             [
              0.1111111111111111,
              "#46039f"
             ],
             [
              0.2222222222222222,
              "#7201a8"
             ],
             [
              0.3333333333333333,
              "#9c179e"
             ],
             [
              0.4444444444444444,
              "#bd3786"
             ],
             [
              0.5555555555555556,
              "#d8576b"
             ],
             [
              0.6666666666666666,
              "#ed7953"
             ],
             [
              0.7777777777777778,
              "#fb9f3a"
             ],
             [
              0.8888888888888888,
              "#fdca26"
             ],
             [
              1,
              "#f0f921"
             ]
            ],
            "type": "heatmap"
           }
          ],
          "heatmapgl": [
           {
            "colorbar": {
             "outlinewidth": 0,
             "ticks": ""
            },
            "colorscale": [
             [
              0,
              "#0d0887"
             ],
             [
              0.1111111111111111,
              "#46039f"
             ],
             [
              0.2222222222222222,
              "#7201a8"
             ],
             [
              0.3333333333333333,
              "#9c179e"
             ],
             [
              0.4444444444444444,
              "#bd3786"
             ],
             [
              0.5555555555555556,
              "#d8576b"
             ],
             [
              0.6666666666666666,
              "#ed7953"
             ],
             [
              0.7777777777777778,
              "#fb9f3a"
             ],
             [
              0.8888888888888888,
              "#fdca26"
             ],
             [
              1,
              "#f0f921"
             ]
            ],
            "type": "heatmapgl"
           }
          ],
          "histogram": [
           {
            "marker": {
             "pattern": {
              "fillmode": "overlay",
              "size": 10,
              "solidity": 0.2
             }
            },
            "type": "histogram"
           }
          ],
          "histogram2d": [
           {
            "colorbar": {
             "outlinewidth": 0,
             "ticks": ""
            },
            "colorscale": [
             [
              0,
              "#0d0887"
             ],
             [
              0.1111111111111111,
              "#46039f"
             ],
             [
              0.2222222222222222,
              "#7201a8"
             ],
             [
              0.3333333333333333,
              "#9c179e"
             ],
             [
              0.4444444444444444,
              "#bd3786"
             ],
             [
              0.5555555555555556,
              "#d8576b"
             ],
             [
              0.6666666666666666,
              "#ed7953"
             ],
             [
              0.7777777777777778,
              "#fb9f3a"
             ],
             [
              0.8888888888888888,
              "#fdca26"
             ],
             [
              1,
              "#f0f921"
             ]
            ],
            "type": "histogram2d"
           }
          ],
          "histogram2dcontour": [
           {
            "colorbar": {
             "outlinewidth": 0,
             "ticks": ""
            },
            "colorscale": [
             [
              0,
              "#0d0887"
             ],
             [
              0.1111111111111111,
              "#46039f"
             ],
             [
              0.2222222222222222,
              "#7201a8"
             ],
             [
              0.3333333333333333,
              "#9c179e"
             ],
             [
              0.4444444444444444,
              "#bd3786"
             ],
             [
              0.5555555555555556,
              "#d8576b"
             ],
             [
              0.6666666666666666,
              "#ed7953"
             ],
             [
              0.7777777777777778,
              "#fb9f3a"
             ],
             [
              0.8888888888888888,
              "#fdca26"
             ],
             [
              1,
              "#f0f921"
             ]
            ],
            "type": "histogram2dcontour"
           }
          ],
          "mesh3d": [
           {
            "colorbar": {
             "outlinewidth": 0,
             "ticks": ""
            },
            "type": "mesh3d"
           }
          ],
          "parcoords": [
           {
            "line": {
             "colorbar": {
              "outlinewidth": 0,
              "ticks": ""
             }
            },
            "type": "parcoords"
           }
          ],
          "pie": [
           {
            "automargin": true,
            "type": "pie"
           }
          ],
          "scatter": [
           {
            "fillpattern": {
             "fillmode": "overlay",
             "size": 10,
             "solidity": 0.2
            },
            "type": "scatter"
           }
          ],
          "scatter3d": [
           {
            "line": {
             "colorbar": {
              "outlinewidth": 0,
              "ticks": ""
             }
            },
            "marker": {
             "colorbar": {
              "outlinewidth": 0,
              "ticks": ""
             }
            },
            "type": "scatter3d"
           }
          ],
          "scattercarpet": [
           {
            "marker": {
             "colorbar": {
              "outlinewidth": 0,
              "ticks": ""
             }
            },
            "type": "scattercarpet"
           }
          ],
          "scattergeo": [
           {
            "marker": {
             "colorbar": {
              "outlinewidth": 0,
              "ticks": ""
             }
            },
            "type": "scattergeo"
           }
          ],
          "scattergl": [
           {
            "marker": {
             "colorbar": {
              "outlinewidth": 0,
              "ticks": ""
             }
            },
            "type": "scattergl"
           }
          ],
          "scattermapbox": [
           {
            "marker": {
             "colorbar": {
              "outlinewidth": 0,
              "ticks": ""
             }
            },
            "type": "scattermapbox"
           }
          ],
          "scatterpolar": [
           {
            "marker": {
             "colorbar": {
              "outlinewidth": 0,
              "ticks": ""
             }
            },
            "type": "scatterpolar"
           }
          ],
          "scatterpolargl": [
           {
            "marker": {
             "colorbar": {
              "outlinewidth": 0,
              "ticks": ""
             }
            },
            "type": "scatterpolargl"
           }
          ],
          "scatterternary": [
           {
            "marker": {
             "colorbar": {
              "outlinewidth": 0,
              "ticks": ""
             }
            },
            "type": "scatterternary"
           }
          ],
          "surface": [
           {
            "colorbar": {
             "outlinewidth": 0,
             "ticks": ""
            },
            "colorscale": [
             [
              0,
              "#0d0887"
             ],
             [
              0.1111111111111111,
              "#46039f"
             ],
             [
              0.2222222222222222,
              "#7201a8"
             ],
             [
              0.3333333333333333,
              "#9c179e"
             ],
             [
              0.4444444444444444,
              "#bd3786"
             ],
             [
              0.5555555555555556,
              "#d8576b"
             ],
             [
              0.6666666666666666,
              "#ed7953"
             ],
             [
              0.7777777777777778,
              "#fb9f3a"
             ],
             [
              0.8888888888888888,
              "#fdca26"
             ],
             [
              1,
              "#f0f921"
             ]
            ],
            "type": "surface"
           }
          ],
          "table": [
           {
            "cells": {
             "fill": {
              "color": "#EBF0F8"
             },
             "line": {
              "color": "white"
             }
            },
            "header": {
             "fill": {
              "color": "#C8D4E3"
             },
             "line": {
              "color": "white"
             }
            },
            "type": "table"
           }
          ]
         },
         "layout": {
          "annotationdefaults": {
           "arrowcolor": "#2a3f5f",
           "arrowhead": 0,
           "arrowwidth": 1
          },
          "autotypenumbers": "strict",
          "coloraxis": {
           "colorbar": {
            "outlinewidth": 0,
            "ticks": ""
           }
          },
          "colorscale": {
           "diverging": [
            [
             0,
             "#8e0152"
            ],
            [
             0.1,
             "#c51b7d"
            ],
            [
             0.2,
             "#de77ae"
            ],
            [
             0.3,
             "#f1b6da"
            ],
            [
             0.4,
             "#fde0ef"
            ],
            [
             0.5,
             "#f7f7f7"
            ],
            [
             0.6,
             "#e6f5d0"
            ],
            [
             0.7,
             "#b8e186"
            ],
            [
             0.8,
             "#7fbc41"
            ],
            [
             0.9,
             "#4d9221"
            ],
            [
             1,
             "#276419"
            ]
           ],
           "sequential": [
            [
             0,
             "#0d0887"
            ],
            [
             0.1111111111111111,
             "#46039f"
            ],
            [
             0.2222222222222222,
             "#7201a8"
            ],
            [
             0.3333333333333333,
             "#9c179e"
            ],
            [
             0.4444444444444444,
             "#bd3786"
            ],
            [
             0.5555555555555556,
             "#d8576b"
            ],
            [
             0.6666666666666666,
             "#ed7953"
            ],
            [
             0.7777777777777778,
             "#fb9f3a"
            ],
            [
             0.8888888888888888,
             "#fdca26"
            ],
            [
             1,
             "#f0f921"
            ]
           ],
           "sequentialminus": [
            [
             0,
             "#0d0887"
            ],
            [
             0.1111111111111111,
             "#46039f"
            ],
            [
             0.2222222222222222,
             "#7201a8"
            ],
            [
             0.3333333333333333,
             "#9c179e"
            ],
            [
             0.4444444444444444,
             "#bd3786"
            ],
            [
             0.5555555555555556,
             "#d8576b"
            ],
            [
             0.6666666666666666,
             "#ed7953"
            ],
            [
             0.7777777777777778,
             "#fb9f3a"
            ],
            [
             0.8888888888888888,
             "#fdca26"
            ],
            [
             1,
             "#f0f921"
            ]
           ]
          },
          "colorway": [
           "#636efa",
           "#EF553B",
           "#00cc96",
           "#ab63fa",
           "#FFA15A",
           "#19d3f3",
           "#FF6692",
           "#B6E880",
           "#FF97FF",
           "#FECB52"
          ],
          "font": {
           "color": "#2a3f5f"
          },
          "geo": {
           "bgcolor": "white",
           "lakecolor": "white",
           "landcolor": "#E5ECF6",
           "showlakes": true,
           "showland": true,
           "subunitcolor": "white"
          },
          "hoverlabel": {
           "align": "left"
          },
          "hovermode": "closest",
          "mapbox": {
           "style": "light"
          },
          "paper_bgcolor": "white",
          "plot_bgcolor": "#E5ECF6",
          "polar": {
           "angularaxis": {
            "gridcolor": "white",
            "linecolor": "white",
            "ticks": ""
           },
           "bgcolor": "#E5ECF6",
           "radialaxis": {
            "gridcolor": "white",
            "linecolor": "white",
            "ticks": ""
           }
          },
          "scene": {
           "xaxis": {
            "backgroundcolor": "#E5ECF6",
            "gridcolor": "white",
            "gridwidth": 2,
            "linecolor": "white",
            "showbackground": true,
            "ticks": "",
            "zerolinecolor": "white"
           },
           "yaxis": {
            "backgroundcolor": "#E5ECF6",
            "gridcolor": "white",
            "gridwidth": 2,
            "linecolor": "white",
            "showbackground": true,
            "ticks": "",
            "zerolinecolor": "white"
           },
           "zaxis": {
            "backgroundcolor": "#E5ECF6",
            "gridcolor": "white",
            "gridwidth": 2,
            "linecolor": "white",
            "showbackground": true,
            "ticks": "",
            "zerolinecolor": "white"
           }
          },
          "shapedefaults": {
           "line": {
            "color": "#2a3f5f"
           }
          },
          "ternary": {
           "aaxis": {
            "gridcolor": "white",
            "linecolor": "white",
            "ticks": ""
           },
           "baxis": {
            "gridcolor": "white",
            "linecolor": "white",
            "ticks": ""
           },
           "bgcolor": "#E5ECF6",
           "caxis": {
            "gridcolor": "white",
            "linecolor": "white",
            "ticks": ""
           }
          },
          "title": {
           "x": 0.05
          },
          "xaxis": {
           "automargin": true,
           "gridcolor": "white",
           "linecolor": "white",
           "ticks": "",
           "title": {
            "standoff": 15
           },
           "zerolinecolor": "white",
           "zerolinewidth": 2
          },
          "yaxis": {
           "automargin": true,
           "gridcolor": "white",
           "linecolor": "white",
           "ticks": "",
           "title": {
            "standoff": 15
           },
           "zerolinecolor": "white",
           "zerolinewidth": 2
          }
         }
        },
        "width": 650,
        "xaxis": {
         "dtick": 1,
         "gridcolor": "rgb(0, 0, 0)",
         "range": [
          -0.5,
          5
         ],
         "side": "bottom",
         "tickfont": {
          "color": "darkblue",
          "family": "Times New Roman",
          "size": 17
         },
         "tickmode": "array",
         "ticks": "",
         "ticktext": [
          " People",
          "'s",
          " Republic",
          " of",
          " China"
         ],
         "tickvals": [
          0,
          1,
          2,
          3,
          4
         ]
        },
        "yaxis": {
         "dtick": 1,
         "range": [
          -0.5,
          17
         ],
         "tickfont": {
          "color": "firebrick",
          "family": "verdana",
          "size": 14
         },
         "tickmode": "array",
         "ticks": "",
         "ticksuffix": "  ",
         "ticktext": [
          "h.0 ",
          "h.2 ",
          "h.4 ",
          "h.6 ",
          "h.8 ",
          "h.10 ",
          "h.12 ",
          "h.14 ",
          "h.15 ",
          "h.16 ",
          "h.18 ",
          "h.20 ",
          "h.22 ",
          "h.24 ",
          "h.25 ",
          "h.26 ",
          "h.27 "
         ],
         "tickvals": [
          0,
          1,
          2,
          3,
          4,
          5,
          6,
          7,
          8,
          9,
          10,
          11,
          12,
          13,
          14,
          15,
          16
         ]
        }
       }
      }
     },
     "metadata": {},
     "output_type": "display_data"
    }
   ],
   "source": [
    "lens_utils.visualize_attribute_lens(\n",
    "    att_info, layer_skip=2, must_have_layers=[15, 25],\n",
    "    expected_answers=[' Seattle', \" Washington\"]\n",
    ")"
   ]
  },
  {
   "cell_type": "code",
   "execution_count": null,
   "metadata": {},
   "outputs": [],
   "source": []
  }
 ],
 "metadata": {
  "kernelspec": {
   "display_name": "relations",
   "language": "python",
   "name": "python3"
  },
  "language_info": {
   "codemirror_mode": {
    "name": "ipython",
    "version": 3
   },
   "file_extension": ".py",
   "mimetype": "text/x-python",
   "name": "python",
   "nbconvert_exporter": "python",
   "pygments_lexer": "ipython3",
   "version": "3.10.11"
  },
  "orig_nbformat": 4
 },
 "nbformat": 4,
 "nbformat_minor": 2
}
