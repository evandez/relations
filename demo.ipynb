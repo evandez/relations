{
 "cells": [
  {
   "cell_type": "code",
   "execution_count": 1,
   "metadata": {},
   "outputs": [],
   "source": [
    "%load_ext autoreload\n",
    "%autoreload 2"
   ]
  },
  {
   "cell_type": "code",
   "execution_count": 2,
   "metadata": {},
   "outputs": [],
   "source": [
    "import torch\n",
    "import copy\n",
    "import numpy as np\n",
    "import matplotlib.pyplot as plt\n",
    "from src import models, data\n",
    "from src.metrics import recall"
   ]
  },
  {
   "cell_type": "code",
   "execution_count": 3,
   "metadata": {},
   "outputs": [
    {
     "name": "stdout",
     "output_type": "stream",
     "text": [
      "dtype: torch.float16, device: cuda:0, memory: 12219206136\n"
     ]
    }
   ],
   "source": [
    "device = \"cuda:0\"\n",
    "mt = models.load_model(\"gptj\", device=device)\n",
    "print(f\"dtype: {mt.model.dtype}, device: {mt.model.device}, memory: {mt.model.get_memory_footprint()}\")"
   ]
  },
  {
   "cell_type": "code",
   "execution_count": 4,
   "metadata": {},
   "outputs": [
    {
     "name": "stdout",
     "output_type": "stream",
     "text": [
      "Relation(name='capital city', prompt_templates=['The capital city of {} is', 'The political capital of {} is', 'The seat of government for {} is', 'The government of {} is centered in'], samples=[RelationSample(subject='United States', object='Washington D.C.'), RelationSample(subject='Canada', object='Ottawa'), RelationSample(subject='Mexico', object='Mexico City'), RelationSample(subject='Brazil', object='Bras\\\\u00edlia'), RelationSample(subject='Argentina', object='Buenos Aires'), RelationSample(subject='Chile', object='Santiago'), RelationSample(subject='Peru', object='Lima'), RelationSample(subject='Colombia', object='Bogot\\\\u00e1'), RelationSample(subject='Venezuela', object='Caracas'), RelationSample(subject='Spain', object='Madrid'), RelationSample(subject='France', object='Paris'), RelationSample(subject='Germany', object='Berlin'), RelationSample(subject='Italy', object='Rome'), RelationSample(subject='Russia', object='Moscow'), RelationSample(subject='China', object='Beijing'), RelationSample(subject='Japan', object='Tokyo'), RelationSample(subject='South Korea', object='Seoul'), RelationSample(subject='India', object='New Delhi'), RelationSample(subject='Pakistan', object='Islamabad'), RelationSample(subject='Nigeria', object='Abuja'), RelationSample(subject='Egypt', object='Cairo'), RelationSample(subject='Saudi Arabia', object='Riyadh'), RelationSample(subject='Turkey', object='Ankara'), RelationSample(subject='Australia', object='Canberra')], properties=RelationProperties(relation_type='factual', domain_name='country', range_name='city', symmetric=False, fn_type='ONE_TO_ONE', disambiguating=True), _domain=None, _range=None)\n"
     ]
    },
    {
     "data": {
      "text/plain": [
       "24"
      ]
     },
     "execution_count": 4,
     "metadata": {},
     "output_type": "execute_result"
    }
   ],
   "source": [
    "dataset = data.load_dataset()\n",
    "capital_cities =[d for d in dataset if d.name == \"capital city\"][0]\n",
    "print(capital_cities)\n",
    "# capital_cities.__dict__.keys()\n",
    "len(capital_cities.samples)"
   ]
  },
  {
   "cell_type": "code",
   "execution_count": 5,
   "metadata": {},
   "outputs": [
    {
     "data": {
      "text/plain": [
       "[RelationSample(subject='Russia', object='Moscow'),\n",
       " RelationSample(subject='Brazil', object='Bras\\\\u00edlia'),\n",
       " RelationSample(subject='Colombia', object='Bogot\\\\u00e1')]"
      ]
     },
     "execution_count": 5,
     "metadata": {},
     "output_type": "execute_result"
    }
   ],
   "source": [
    "indices = np.random.choice(range(len(capital_cities.samples)), 3, replace=False)\n",
    "samples = [capital_cities.samples[i] for i in indices]\n",
    "\n",
    "training_samples = copy.deepcopy(capital_cities.__dict__)\n",
    "training_samples[\"samples\"] = samples\n",
    "training_samples = data.Relation(**training_samples)\n",
    "\n",
    "training_samples.samples"
   ]
  },
  {
   "cell_type": "code",
   "execution_count": 6,
   "metadata": {},
   "outputs": [],
   "source": [
    "from src.operators import JacobianIclMeanEstimator\n",
    "\n",
    "mean_estimator = JacobianIclMeanEstimator(\n",
    "    mt=mt,\n",
    "    h_layer=12,\n",
    "    bias_scale_factor=0.2       # so that the bias doesn't knock out the prediction too much in the direction of training examples\n",
    ") \n",
    "\n",
    "operator = mean_estimator(training_samples)"
   ]
  },
  {
   "cell_type": "code",
   "execution_count": 7,
   "metadata": {},
   "outputs": [
    {
     "data": {
      "text/plain": [
       "[PredictedToken(token=' Washington', prob=0.8589062094688416),\n",
       " PredictedToken(token='Washington', prob=0.025335896760225296),\n",
       " PredictedToken(token='\\n', prob=0.011509350501000881),\n",
       " PredictedToken(token=' Bog', prob=0.007489277049899101),\n",
       " PredictedToken(token=' New', prob=0.007373166270554066),\n",
       " PredictedToken(token=' USA', prob=0.005653202533721924),\n",
       " PredictedToken(token=' Car', prob=0.004334460943937302),\n",
       " PredictedToken(token=' Bras', prob=0.004300729837268591),\n",
       " PredictedToken(token=' America', prob=0.003946571610867977),\n",
       " PredictedToken(token=' Monte', prob=0.003246361156925559)]"
      ]
     },
     "execution_count": 7,
     "metadata": {},
     "output_type": "execute_result"
    }
   ],
   "source": [
    "operator(\"United States\", k = 10).predictions"
   ]
  },
  {
   "cell_type": "code",
   "execution_count": 8,
   "metadata": {},
   "outputs": [
    {
     "data": {
      "text/plain": [
       "[0.8571428571428571,\n",
       " 0.9523809523809523,\n",
       " 0.9523809523809523,\n",
       " 0.9523809523809523,\n",
       " 0.9523809523809523]"
      ]
     },
     "execution_count": 8,
     "metadata": {},
     "output_type": "execute_result"
    }
   ],
   "source": [
    "test_samples = list(set(capital_cities.samples) - set(training_samples.samples))\n",
    "\n",
    "predictions = []\n",
    "target = []\n",
    "\n",
    "for sample in test_samples:\n",
    "    cur_predictions = operator(sample.subject, k = 5).predictions\n",
    "    predictions.append([\n",
    "        p.token for p in cur_predictions\n",
    "    ])\n",
    "    target.append(sample.object)\n",
    "\n",
    "recall(predictions, target)"
   ]
  },
  {
   "cell_type": "code",
   "execution_count": 9,
   "metadata": {},
   "outputs": [],
   "source": [
    "from attributelens.attributelens import Attribute_Lens\n",
    "import attributelens.utils as lens_utils"
   ]
  },
  {
   "cell_type": "code",
   "execution_count": 10,
   "metadata": {},
   "outputs": [
    {
     "name": "stdout",
     "output_type": "stream",
     "text": [
      "subject  :  People's Republic of China\n",
      "relation :  The capital city of {} is\n",
      "subject mapping:  4 9  >>  [' People', \"'s\", ' Republic', ' of', ' China']\n"
     ]
    }
   ],
   "source": [
    "lens = Attribute_Lens(mt=mt, top_k=10)\n",
    "att_info = lens.apply_attribute_lens(\n",
    "    subject=\"People's Republic of China\",\n",
    "    relation_operator=operator\n",
    ")"
   ]
  },
  {
   "cell_type": "code",
   "execution_count": 11,
   "metadata": {},
   "outputs": [
    {
     "name": "stdout",
     "output_type": "stream",
     "text": [
      "must_have_layers:  [15, 25]\n",
      "expected_answers:  [' Seattle', ' Washington']\n"
     ]
    },
    {
     "data": {
      "application/vnd.plotly.v1+json": {
       "config": {
        "plotlyServerURL": "https://plot.ly"
       },
       "data": [
        {
         "colorscale": [
          [
           0,
           "rgb(247,251,255)"
          ],
          [
           0.125,
           "rgb(222,235,247)"
          ],
          [
           0.25,
           "rgb(198,219,239)"
          ],
          [
           0.375,
           "rgb(158,202,225)"
          ],
          [
           0.5,
           "rgb(107,174,214)"
          ],
          [
           0.625,
           "rgb(66,146,198)"
          ],
          [
           0.75,
           "rgb(33,113,181)"
          ],
          [
           0.875,
           "rgb(8,81,156)"
          ],
          [
           1,
           "rgb(8,48,107)"
          ]
         ],
         "customdata": [
          [
           [
            " Bras",
            "0.3405",
            "' Bras': 0.340465 <br>   ' Bog': 0.102226 <br>   ' ': 0.084748 <br>   '\n': 0.040346 <br>   ' Rio': 0.024663 <br>   ' \\': 0.023351 <br>   ' B': 0.022281 <br>   ' N': 0.020607 <br>   ' Bel': 0.016819 <br>   ' S': 0.016688 "
           ],
           [
            " Bras",
            "0.4013",
            "' Bras': 0.401274 <br>   ' Bog': 0.075397 <br>   ' ': 0.070278 <br>   ' \\': 0.038209 <br>   '\n': 0.032682 <br>   '\\': 0.020135 <br>   ' Rio': 0.01819 <br>   ' B': 0.015318 <br>   ' Mos': 0.014503 <br>   ' N': 0.013308 "
           ],
           [
            " Bras",
            "0.3496",
            "' Bras': 0.349564 <br>   ' Bog': 0.080474 <br>   ' ': 0.061222 <br>   ' Rio': 0.049193 <br>   '\n': 0.045496 <br>   '\\': 0.020667 <br>   ' B': 0.018382 <br>   ' S': 0.018382 <br>   ' \\': 0.017268 <br>   ' Washington': 0.015121 "
           ],
           [
            " Bras",
            "0.3067",
            "' Bras': 0.306653 <br>   ' ': 0.109341 <br>   ' Bog': 0.075149 <br>   ' \\': 0.068424 <br>   '\n': 0.036624 <br>   ' Rio': 0.030601 <br>   '\\': 0.029659 <br>   ' B': 0.019757 <br>   ' S': 0.015508 <br>   '...': 0.014342 "
           ],
           [
            " Bras",
            "0.2186",
            "' Bras': 0.218604 <br>   ' \\': 0.070418 <br>   ' ': 0.067193 <br>   ' Bog': 0.060704 <br>   ' Beijing': 0.053991 <br>   ' B': 0.037988 <br>   ' Rio': 0.035686 <br>   '\\': 0.033524 <br>   '\n': 0.032747 <br>   ' R': 0.030524 "
           ]
          ],
          [
           [
            " Bras",
            "0.2914",
            "' Bras': 0.291441 <br>   ' Bog': 0.176768 <br>   ' ': 0.053911 <br>   ' B': 0.039752 <br>   ' Lima': 0.024682 <br>   ' Rio': 0.021613 <br>   ' Car': 0.020948 <br>   '\n': 0.019373 <br>   ' Bel': 0.019373 <br>   ' N': 0.018058 "
           ],
           [
            " Bras",
            "0.4869",
            "' Bras': 0.486902 <br>   ' Bog': 0.058152 <br>   ' ': 0.036676 <br>   ' \\': 0.033656 <br>   ' Mos': 0.027469 <br>   '\n': 0.019327 <br>   ' Rio': 0.013705 <br>   ' Bel': 0.013492 <br>   ' S': 0.012478 <br>   ' N': 0.012189 "
           ],
           [
            " Bras",
            "0.4791",
            "' Bras': 0.479115 <br>   ' Rio': 0.050894 <br>   ' ': 0.036658 <br>   ' Bog': 0.03235 <br>   '\n': 0.022061 <br>   '\\': 0.021382 <br>   ' Mos': 0.017316 <br>   ' \\': 0.016653 <br>   ' Moscow': 0.016015 <br>   ' B': 0.015766 "
           ],
           [
            " Bras",
            "0.5848",
            "' Bras': 0.584803 <br>   ' Bog': 0.055252 <br>   ' ': 0.053135 <br>   ' \\': 0.025896 <br>   ' Rio': 0.021637 <br>   '\n': 0.015343 <br>   ' B': 0.01292 <br>   ' Mos': 0.007655 <br>   ' N': 0.007362 <br>   ' Bel': 0.007304 "
           ],
           [
            " Beijing",
            "0.2872",
            "' Beijing': 0.287183 <br>   ' Bras': 0.161095 <br>   ' Bog': 0.045085 <br>   ' ': 0.038563 <br>   ' \\': 0.033505 <br>   ' B': 0.03123 <br>   ' R': 0.027776 <br>   ' Rio': 0.021464 <br>   '\n': 0.021131 <br>   '\\': 0.020642 "
           ]
          ],
          [
           [
            " Bras",
            "0.2257",
            "' Bras': 0.225665 <br>   ' Bog': 0.12858 <br>   ' Lima': 0.05841 <br>   ' Rio': 0.044436 <br>   ' ': 0.040777 <br>   ' B': 0.040145 <br>   '\n': 0.025718 <br>   ' S': 0.025319 <br>   ' Car': 0.01838 <br>   ' M': 0.018095 "
           ],
           [
            " Bras",
            "0.5196",
            "' Bras': 0.519647 <br>   ' Bog': 0.047959 <br>   ' ': 0.026902 <br>   '\n': 0.021617 <br>   ' Bel': 0.015449 <br>   ' B': 0.015328 <br>   ' Mos': 0.0144 <br>   ' Car': 0.013633 <br>   ' Rio': 0.012708 <br>   ' \\': 0.011481 "
           ],
           [
            " Bras",
            "0.4165",
            "' Bras': 0.416543 <br>   ' Rio': 0.053791 <br>   ' ': 0.040922 <br>   ' Moscow': 0.038443 <br>   ' B': 0.031132 <br>   '\n': 0.029475 <br>   ' Beijing': 0.017464 <br>   ' Mos': 0.016278 <br>   ' Petro': 0.015654 <br>   ' BR': 0.011816 "
           ],
           [
            " Bras",
            "0.5067",
            "' Bras': 0.506651 <br>   ' \\': 0.054667 <br>   ' Bog': 0.052573 <br>   ' ': 0.049003 <br>   '\n': 0.026025 <br>   ' B': 0.01761 <br>   ' Rio': 0.017337 <br>   ' the': 0.009352 <br>   ' Sao': 0.008126 <br>   ' �': 0.007633 "
           ],
           [
            " Beijing",
            "0.751",
            "' Beijing': 0.750972 <br>   ' Bras': 0.026513 <br>   ' R': 0.016462 <br>   ' ': 0.011226 <br>   ' \\': 0.009678 <br>   ' B': 0.009602 <br>   '\n': 0.00938 <br>   ' Bog': 0.007362 <br>   ' Shanghai': 0.006703 <br>   ' P': 0.005645 "
           ]
          ],
          [
           [
            " Bog",
            "0.1742",
            "' Bog': 0.174218 <br>   ' Bras': 0.135681 <br>   ' Lima': 0.088289 <br>   '\n': 0.038571 <br>   ' Car': 0.036234 <br>   ' ': 0.034575 <br>   ' B': 0.028219 <br>   ' Rio': 0.024137 <br>   ' Qu': 0.019855 <br>   ' N': 0.019395 "
           ],
           [
            " Bras",
            "0.5072",
            "' Bras': 0.507202 <br>   ' Bog': 0.049056 <br>   '\n': 0.03046 <br>   ' Car': 0.025851 <br>   ' Bel': 0.019361 <br>   ' Petro': 0.017086 <br>   ' Mos': 0.013411 <br>   ' ': 0.013101 <br>   ' Petr': 0.011743 <br>   ' Qu': 0.011382 "
           ],
           [
            " Bras",
            "0.1765",
            "' Bras': 0.176457 <br>   ' Beijing': 0.078302 <br>   ' B': 0.059569 <br>   '\n': 0.056399 <br>   ' Moscow': 0.054238 <br>   ' Lu': 0.033677 <br>   ' the': 0.024639 <br>   ' Mos': 0.022086 <br>   ' Be': 0.02011 <br>   ' Petr': 0.019491 "
           ],
           [
            " Bras",
            "0.4468",
            "' Bras': 0.44681 <br>   ' ': 0.070145 <br>   ' \\': 0.047835 <br>   ' Bog': 0.041236 <br>   '\n': 0.035271 <br>   ' Sao': 0.018587 <br>   ' the': 0.017598 <br>   ' Rio': 0.015774 <br>   ' B': 0.01553 <br>   ' Mos': 0.012381 "
           ],
           [
            " Beijing",
            "0.7348",
            "' Beijing': 0.734765 <br>   ' Bras': 0.034907 <br>   ' R': 0.013249 <br>   '\n': 0.013044 <br>   ' ': 0.009035 <br>   ' China': 0.007789 <br>   ' Shanghai': 0.006927 <br>   ' \\': 0.006927 <br>   ' B': 0.006767 <br>   ' Bog': 0.005879 "
           ]
          ],
          [
           [
            " Lima",
            "0.1354",
            "' Lima': 0.135399 <br>   ' Bog': 0.129199 <br>   ' Bras': 0.088106 <br>   ' Car': 0.086065 <br>   ' Qu': 0.030687 <br>   ' N': 0.023164 <br>   ' Colombia': 0.021423 <br>   '\n': 0.020283 <br>   ' B': 0.01592 <br>   ' Rio': 0.01592 "
           ],
           [
            " Bras",
            "0.4591",
            "' Bras': 0.459122 <br>   ' Petro': 0.060696 <br>   ' Car': 0.037394 <br>   '\n': 0.026724 <br>   ' Qu': 0.026516 <br>   ' Lu': 0.022329 <br>   ' L': 0.019249 <br>   ' Bog': 0.017802 <br>   ' Bel': 0.017526 <br>   ' Petr': 0.016464 "
           ],
           [
            " Bras",
            "0.318",
            "' Bras': 0.318015 <br>   ' Lu': 0.049926 <br>   ' Car': 0.045814 <br>   ' Beijing': 0.042704 <br>   '\n': 0.041068 <br>   ' Petr': 0.037982 <br>   ' B': 0.028006 <br>   ' Petro': 0.027357 <br>   ' the': 0.022503 <br>   ' PE': 0.014758 "
           ],
           [
            " Bras",
            "0.5383",
            "' Bras': 0.538292 <br>   '\n': 0.044882 <br>   ' the': 0.036346 <br>   ' Bog': 0.031826 <br>   ' ': 0.025176 <br>   ' Rio': 0.0148 <br>   ' Sao': 0.011892 <br>   ' �': 0.010172 <br>   ' Car': 0.008701 <br>   ' \\': 0.008566 "
           ],
           [
            " Beijing",
            "0.6585",
            "' Beijing': 0.658484 <br>   ' Bras': 0.038629 <br>   ' China': 0.023613 <br>   '\n': 0.020356 <br>   ' Shanghai': 0.01356 <br>   ' R': 0.010561 <br>   ' ': 0.008552 <br>   ' B': 0.00597 <br>   ' the': 0.00495 <br>   '...': 0.004723 "
           ]
          ],
          [
           [
            " Lima",
            "0.1159",
            "' Lima': 0.115943 <br>   ' Car': 0.096874 <br>   ' Bog': 0.074858 <br>   ' Qu': 0.073124 <br>   ' Colombia': 0.049866 <br>   ' Bras': 0.044352 <br>   ' Republic': 0.027112 <br>   '\n': 0.019991 <br>   ' N': 0.018345 <br>   ' Ch': 0.013317 "
           ],
           [
            " Bras",
            "0.1876",
            "' Bras': 0.187609 <br>   ' Petro': 0.087931 <br>   ' Qu': 0.059034 <br>   ' Ch': 0.054172 <br>   ' Car': 0.049325 <br>   ' Lu': 0.029917 <br>   ' Pet': 0.019774 <br>   '\n': 0.019165 <br>   ' Mo': 0.01745 <br>   ' Petr': 0.016913 "
           ],
           [
            " Bras",
            "0.2367",
            "' Bras': 0.236705 <br>   ' Beijing': 0.190198 <br>   ' China': 0.055351 <br>   ' Petr': 0.042439 <br>   '\n': 0.039557 <br>   ' Petro': 0.023806 <br>   ' B': 0.023255 <br>   ' Lu': 0.023074 <br>   ' Car': 0.021009 <br>   ' Pe': 0.018253 "
           ],
           [
            " Bras",
            "0.4543",
            "' Bras': 0.454338 <br>   '\n': 0.047514 <br>   ' Bog': 0.026036 <br>   ' Sao': 0.021416 <br>   ' ': 0.018607 <br>   ' the': 0.017208 <br>   ' Car': 0.016549 <br>   ' �': 0.01372 <br>   ' Rio': 0.012788 <br>   ' Brazil': 0.010437 "
           ],
           [
            " Beijing",
            "0.8786",
            "' Beijing': 0.878614 <br>   ' China': 0.053596 <br>   ' Shanghai': 0.01911 <br>   ' Chinese': 0.016092 <br>   ' Chong': 0.005064 <br>   ' Qing': 0.004264 <br>   ' Guang': 0.002468 <br>   ' Cheng': 0.001968 <br>   ' Tian': 0.001723 <br>   ' Tai': 0.001157 "
           ]
          ],
          [
           [
            " Lima",
            "0.1512",
            "' Lima': 0.151159 <br>   ' Qu': 0.104705 <br>   ' Car': 0.088862 <br>   ' Republic': 0.039741 <br>   '\n': 0.029075 <br>   ' Bog': 0.022119 <br>   ' Colombia': 0.021439 <br>   ' Peru': 0.016183 <br>   ' Cap': 0.015202 <br>   ' Bras': 0.013312 "
           ],
           [
            " Petro",
            "0.094",
            "' Petro': 0.093982 <br>   ' Qu': 0.055249 <br>   ' Bras': 0.042693 <br>   ' Ch': 0.03827 <br>   '\n': 0.03827 <br>   ' Pet': 0.034845 <br>   ' Lu': 0.032227 <br>   ' Mo': 0.027565 <br>   ' Ev': 0.026926 <br>   ' Car': 0.026303 "
           ],
           [
            " Bras",
            "0.1728",
            "' Bras': 0.172799 <br>   ' Beijing': 0.144379 <br>   ' China': 0.123494 <br>   '\n': 0.04874 <br>   ' Petr': 0.043013 <br>   ' Petro': 0.034293 <br>   ' Lu': 0.028878 <br>   ' Pe': 0.018791 <br>   ' Car': 0.017515 <br>   ' PE': 0.016199 "
           ],
           [
            " Bras",
            "0.3846",
            "' Bras': 0.384583 <br>   '\n': 0.100324 <br>   ' the': 0.022561 <br>   ' Car': 0.01757 <br>   ' �': 0.017298 <br>   ' ': 0.014118 <br>   ' Colombia': 0.012266 <br>   ' Bog': 0.012171 <br>   ' Brazil': 0.010249 <br>   ' Rio': 0.009856 "
           ],
           [
            " Beijing",
            "0.8177",
            "' Beijing': 0.81775 <br>   ' China': 0.096152 <br>   ' Chinese': 0.03707 <br>   ' Shanghai': 0.033753 <br>   ' Qing': 0.004291 <br>   ' Mandarin': 0.001437 <br>   ' Chong': 0.001415 <br>   ' Guang': 0.00135 <br>   ' Tian': 0.000965 <br>   ' Cheng': 0.000852 "
           ]
          ],
          [
           [
            " Car",
            "0.0908",
            "' Car': 0.090779 <br>   ' Republic': 0.090073 <br>   ' Lima': 0.084615 <br>   ' Qu': 0.058611 <br>   ' PE': 0.045291 <br>   ' Colombia': 0.031866 <br>   ' Peru': 0.024433 <br>   ' Venezuela': 0.013599 <br>   ' Bog': 0.012577 <br>   ' L': 0.011451 "
           ],
           [
            " Petro",
            "0.0741",
            "' Petro': 0.074147 <br>   ' Pet': 0.041919 <br>   ' PE': 0.038769 <br>   ' Bangladesh': 0.031396 <br>   ' Ev': 0.030193 <br>   ' Marxist': 0.028143 <br>   ' Ch': 0.026028 <br>   ' Marxism': 0.025425 <br>   ' Cuba': 0.022791 <br>   '\n': 0.02209 "
           ],
           [
            " Beijing",
            "0.2306",
            "' Beijing': 0.230559 <br>   ' Bras': 0.133437 <br>   ' China': 0.112366 <br>   ' PE': 0.049862 <br>   ' Mao': 0.037933 <br>   ' Pe': 0.02841 <br>   ' Petr': 0.024112 <br>   '\n': 0.023007 <br>   ' Lu': 0.019074 <br>   ' Petro': 0.015326 "
           ],
           [
            " Bras",
            "0.257",
            "' Bras': 0.257031 <br>   '\n': 0.058711 <br>   ' the': 0.028614 <br>   ' Car': 0.02486 <br>   ' Bog': 0.0131 <br>   ' PE': 0.012998 <br>   ' B': 0.012403 <br>   ' Colombia': 0.012307 <br>   ' �': 0.010692 <br>   ' Petro': 0.009812 "
           ],
           [
            " Beijing",
            "0.8772",
            "' Beijing': 0.877163 <br>   ' China': 0.068705 <br>   ' Shanghai': 0.020629 <br>   ' Chinese': 0.020309 <br>   ' Qing': 0.003529 <br>   ' Chong': 0.001258 <br>   ' Mandarin': 0.001146 <br>   ' Guang': 0.001111 <br>   ' Cheng': 0.000995 <br>   ' Tian': 0.000921 "
           ]
          ],
          [
           [
            " Qu",
            "0.1249",
            "' Qu': 0.124942 <br>   ' PE': 0.100394 <br>   ' Republic': 0.095051 <br>   ' Lima': 0.065328 <br>   ' Car': 0.053737 <br>   ' Peru': 0.019924 <br>   ' Colombia': 0.018427 <br>   '\n': 0.012179 <br>   ' Pe': 0.010499 <br>   ' Je': 0.010176 "
           ],
           [
            " PE",
            "0.1012",
            "' PE': 0.101221 <br>   ' Bangladesh': 0.061875 <br>   ' Petro': 0.038721 <br>   ' Petr': 0.033641 <br>   ' China': 0.025793 <br>   ' Ev': 0.025593 <br>   ' Pet': 0.021891 <br>   ' Al': 0.021384 <br>   '\n': 0.020564 <br>   ' Ch': 0.020404 "
           ],
           [
            " Beijing",
            "0.3676",
            "' Beijing': 0.367563 <br>   ' China': 0.155636 <br>   ' Bras': 0.148509 <br>   ' PE': 0.0406 <br>   ' Mao': 0.026213 <br>   ' Petr': 0.017737 <br>   ' Pe': 0.016533 <br>   '\n': 0.012775 <br>   ' Lu': 0.011542 <br>   ' B': 0.007932 "
           ],
           [
            " Bras",
            "0.5066",
            "' Bras': 0.506641 <br>   '\n': 0.039683 <br>   ' Colombia': 0.030426 <br>   ' Brazil': 0.016672 <br>   ' Car': 0.015662 <br>   ' Bog': 0.012883 <br>   ' the': 0.012487 <br>   ' Bol': 0.008786 <br>   ' Venezuela': 0.008062 <br>   ' Qu': 0.007937 "
           ],
           [
            " Beijing",
            "0.8695",
            "' Beijing': 0.869505 <br>   ' China': 0.087448 <br>   ' Shanghai': 0.01669 <br>   ' Chinese': 0.01669 <br>   ' Qing': 0.002155 <br>   ' Mandarin': 0.000942 <br>   ' Cheng': 0.000898 <br>   ' Chong': 0.000818 <br>   ' Guang': 0.000818 <br>   'China': 0.000757 "
           ]
          ],
          [
           [
            " Qu",
            "0.1733",
            "' Qu': 0.173309 <br>   ' PE': 0.161542 <br>   ' Republic': 0.092766 <br>   ' Lima': 0.059428 <br>   ' Car': 0.024968 <br>   ' Je': 0.019906 <br>   ' Peru': 0.019445 <br>   ' Pe': 0.016374 <br>   ' Colombia': 0.011521 <br>   ' Ev': 0.009114 "
           ],
           [
            " Bangladesh",
            "0.0571",
            "' Bangladesh': 0.057096 <br>   ' PE': 0.055339 <br>   ' Petro': 0.044815 <br>   ' Ch': 0.038633 <br>   ' Beijing': 0.029162 <br>   '\n': 0.02697 <br>   ' Haiti': 0.02676 <br>   ' Pet': 0.024557 <br>   ' Qu': 0.023801 <br>   ' China': 0.023616 "
           ],
           [
            " Beijing",
            "0.3563",
            "' Beijing': 0.356267 <br>   ' Bras': 0.244859 <br>   ' China': 0.105312 <br>   ' PE': 0.027905 <br>   ' Mao': 0.022248 <br>   ' Petr': 0.014936 <br>   ' Pe': 0.014936 <br>   ' Lu': 0.013285 <br>   '\n': 0.01248 <br>   ' B': 0.010675 "
           ],
           [
            " Bras",
            "0.5726",
            "' Bras': 0.572616 <br>   '\n': 0.046637 <br>   ' Brazil': 0.020216 <br>   ' Colombia': 0.015868 <br>   ' the': 0.013052 <br>   ' B': 0.010165 <br>   ' Car': 0.008493 <br>   ' Bog': 0.007673 <br>   ' President': 0.006666 <br>   ' Qu': 0.005837 "
           ],
           [
            " Beijing",
            "0.8849",
            "' Beijing': 0.884874 <br>   ' China': 0.074941 <br>   ' Chinese': 0.018654 <br>   ' Shanghai': 0.012622 <br>   ' Qing': 0.001847 <br>   ' Mandarin': 0.001086 <br>   'China': 0.000973 <br>   ' Guang': 0.000729 <br>   ' Cheng': 0.000696 <br>   ' Tian': 0.000513 "
           ]
          ],
          [
           [
            " Qu",
            "0.1931",
            "' Qu': 0.1931 <br>   ' Car': 0.10581 <br>   ' PE': 0.079248 <br>   ' Lima': 0.042418 <br>   ' Republic': 0.02455 <br>   ' Colombia': 0.02455 <br>   ' Lu': 0.022179 <br>   ' Je': 0.019119 <br>   ' Peru': 0.017683 <br>   ' Pe': 0.015007 "
           ],
           [
            " PE",
            "0.0539",
            "' PE': 0.053914 <br>   ' Car': 0.047952 <br>   ' Petro': 0.042318 <br>   ' Pet': 0.041662 <br>   ' Ch': 0.04038 <br>   ' Bangladesh': 0.037638 <br>   ' Lu': 0.031695 <br>   '\n': 0.030719 <br>   ' Haiti': 0.028858 <br>   ' Be': 0.025467 "
           ],
           [
            " Beijing",
            "0.286",
            "' Beijing': 0.285972 <br>   ' Bras': 0.202784 <br>   ' China': 0.057198 <br>   ' Pe': 0.049694 <br>   ' PE': 0.047419 <br>   ' Petr': 0.043175 <br>   ' Mao': 0.034964 <br>   ' Lu': 0.015637 <br>   '\n': 0.011351 <br>   ' Petro': 0.010831 "
           ],
           [
            " Bras",
            "0.5021",
            "' Bras': 0.50215 <br>   '\n': 0.032863 <br>   ' Pe': 0.02789 <br>   ' Lima': 0.027673 <br>   ' Car': 0.014697 <br>   ' Havana': 0.01297 <br>   ' Qu': 0.012473 <br>   ' Peru': 0.011357 <br>   ' Pret': 0.010837 <br>   ' PE': 0.010341 "
           ],
           [
            " Beijing",
            "0.8964",
            "' Beijing': 0.896447 <br>   ' China': 0.055545 <br>   ' Chinese': 0.021082 <br>   ' Shanghai': 0.017753 <br>   ' Qing': 0.00212 <br>   ' Mandarin': 0.001412 <br>   ' Cheng': 0.000721 <br>   'China': 0.000694 <br>   ' Tian': 0.000603 <br>   ' Guang': 0.000593 "
           ]
          ],
          [
           [
            " Qu",
            "0.1764",
            "' Qu': 0.176407 <br>   ' PE': 0.095165 <br>   ' Car': 0.069624 <br>   ' Je': 0.028798 <br>   ' Haiti': 0.027479 <br>   ' Lima': 0.026842 <br>   ' Peru': 0.015175 <br>   ' Colombia': 0.014145 <br>   ' Ev': 0.01371 <br>   ' car': 0.013497 "
           ],
           [
            " Bangladesh",
            "0.0989",
            "' Bangladesh': 0.098857 <br>   ' Haiti': 0.074622 <br>   ' Petro': 0.040889 <br>   ' Pet': 0.038113 <br>   ' Bolshe': 0.036368 <br>   ' Alma': 0.022581 <br>   ' Petr': 0.022231 <br>   ' Mao': 0.021213 <br>   ' PE': 0.020722 <br>   ' Qu': 0.020084 "
           ],
           [
            " Bras",
            "0.4156",
            "' Bras': 0.415577 <br>   ' Beijing': 0.117219 <br>   ' Pe': 0.05987 <br>   ' China': 0.051209 <br>   ' PE': 0.049634 <br>   ' Petr': 0.02828 <br>   ' Mao': 0.02636 <br>   ' Lu': 0.009473 <br>   ' Petro': 0.009326 <br>   ' Tehran': 0.00677 "
           ],
           [
            " Bras",
            "0.5014",
            "' Bras': 0.501385 <br>   '\n': 0.029413 <br>   ' Pe': 0.025755 <br>   ' Lima': 0.018551 <br>   ' Havana': 0.013678 <br>   ' Brazil': 0.011164 <br>   ' the': 0.011164 <br>   ' Colombia': 0.01082 <br>   ' Car': 0.010653 <br>   ' Peru': 0.010406 "
           ],
           [
            " Beijing",
            "0.8273",
            "' Beijing': 0.827277 <br>   ' China': 0.072287 <br>   ' Chinese': 0.057183 <br>   ' Shanghai': 0.025775 <br>   ' Qing': 0.006122 <br>   ' Mandarin': 0.001853 <br>   'China': 0.001224 <br>   ' Cheng': 0.001106 <br>   'Chinese': 0.001031 <br>   ' Guang': 0.000749 "
           ]
          ],
          [
           [
            " Qu",
            "0.1154",
            "' Qu': 0.115444 <br>   ' PE': 0.101086 <br>   ' Car': 0.089209 <br>   ' Lima': 0.052035 <br>   ' Peru': 0.035209 <br>   ' Haiti': 0.026785 <br>   ' Ev': 0.015994 <br>   ' car': 0.014563 <br>   ' Nepal': 0.014563 <br>   ' Je': 0.013896 "
           ],
           [
            " Bangladesh",
            "0.0635",
            "' Bangladesh': 0.063522 <br>   ' Haiti': 0.052661 <br>   ' Alma': 0.052251 <br>   '\n': 0.036763 <br>   ' PE': 0.032191 <br>   ' Qu': 0.029772 <br>   ' L': 0.024875 <br>   ' Petro': 0.023736 <br>   ' Be': 0.021612 <br>   ' Mao': 0.018631 "
           ],
           [
            " Bras",
            "0.4771",
            "' Bras': 0.477119 <br>   ' PE': 0.084877 <br>   ' Beijing': 0.051884 <br>   ' Pe': 0.046147 <br>   ' China': 0.021293 <br>   ' Petr': 0.017791 <br>   ' Petro': 0.012815 <br>   ' Mao': 0.010624 <br>   ' Lu': 0.00998 <br>   '\n': 0.008536 "
           ],
           [
            " Bras",
            "0.3988",
            "' Bras': 0.398836 <br>   ' Pe': 0.062127 <br>   ' PE': 0.037682 <br>   '\n': 0.034579 <br>   ' Car': 0.015831 <br>   ' Lima': 0.015225 <br>   ' the': 0.009985 <br>   ' Havana': 0.009602 <br>   ' ': 0.008675 <br>   ' Cap': 0.008607 "
           ],
           [
            " Beijing",
            "0.7918",
            "' Beijing': 0.79182 <br>   ' China': 0.117694 <br>   ' Chinese': 0.038209 <br>   ' Shanghai': 0.02354 <br>   ' Qing': 0.009968 <br>   'China': 0.002089 <br>   ' Mandarin': 0.001844 <br>   ' Cheng': 0.001209 <br>   ' Tian': 0.001154 <br>   'Chinese': 0.001145 "
           ]
          ],
          [
           [
            " Qu",
            "0.1337",
            "' Qu': 0.133684 <br>   ' PE': 0.084975 <br>   ' AQ': 0.029829 <br>   ' Afghanistan': 0.02716 <br>   ' Car': 0.024346 <br>   ' Peru': 0.023231 <br>   ' Colombia': 0.019259 <br>   ' Lima': 0.014999 <br>   ' Haiti': 0.014652 <br>   ' car': 0.010803 "
           ],
           [
            " PE",
            "0.1091",
            "' PE': 0.10906 <br>   ' Afghanistan': 0.064113 <br>   ' Qu': 0.061177 <br>   ' Alma': 0.044758 <br>   ' Bangladesh': 0.042709 <br>   ' Haiti': 0.039499 <br>   ' All': 0.017256 <br>   ' L': 0.01621 <br>   ' the': 0.016084 <br>   ' Al': 0.013334 "
           ],
           [
            " PE",
            "0.276",
            "' PE': 0.276017 <br>   ' Bras': 0.17821 <br>   ' China': 0.072568 <br>   ' Beijing': 0.032966 <br>   ' Pe': 0.025079 <br>   ' General': 0.017372 <br>   ' Mao': 0.013424 <br>   ' Petr': 0.009154 <br>   ' Lu': 0.009154 <br>   ' Car': 0.007649 "
           ],
           [
            " Bras",
            "0.3662",
            "' Bras': 0.366242 <br>   ' PE': 0.055294 <br>   ' Lima': 0.034066 <br>   ' Pe': 0.026739 <br>   ' Peru': 0.024156 <br>   '\n': 0.01293 <br>   ' Car': 0.012147 <br>   ' Colombia': 0.011958 <br>   ' Qu': 0.010309 <br>   ' Cap': 0.009837 "
           ],
           [
            " China",
            "0.4913",
            "' China': 0.491284 <br>   ' Beijing': 0.218006 <br>   ' Chinese': 0.106248 <br>   ' Qing': 0.078956 <br>   ' Shanghai': 0.024651 <br>   'China': 0.019049 <br>   'Chinese': 0.009284 <br>   ' Mandarin': 0.004931 <br>   ' Cheng': 0.00425 <br>   ' Qian': 0.002944 "
           ]
          ],
          [
           [
            " Qu",
            "0.0524",
            "' Qu': 0.052362 <br>   ' PE': 0.039525 <br>   ' Colombia': 0.023786 <br>   ' Nepal': 0.021322 <br>   ' Afghanistan': 0.019874 <br>   ' Haiti': 0.018238 <br>   ' All': 0.015722 <br>   ' Peru': 0.015599 <br>   ' Ev': 0.015358 <br>   ' quoted': 0.013239 "
           ],
           [
            " Afghanistan",
            "0.1067",
            "' Afghanistan': 0.106663 <br>   ' PE': 0.056648 <br>   ' Bangladesh': 0.050384 <br>   ' All': 0.04276 <br>   ' Qu': 0.037736 <br>   ' Alma': 0.029619 <br>   ' Haiti': 0.025137 <br>   ' the': 0.023431 <br>   ' Al': 0.016877 <br>   ' Iran': 0.012347 "
           ],
           [
            " PE",
            "0.317",
            "' PE': 0.316988 <br>   ' Bras': 0.19529 <br>   ' China': 0.0429 <br>   ' Beijing': 0.021403 <br>   ' Mao': 0.018596 <br>   ' General': 0.0121 <br>   ' Pe': 0.012006 <br>   ' All': 0.009278 <br>   ' Lu': 0.007874 <br>   'PE': 0.005851 "
           ],
           [
            " Bras",
            "0.3922",
            "' Bras': 0.392196 <br>   ' Colombia': 0.034003 <br>   ' Lima': 0.028633 <br>   ' Peru': 0.021113 <br>   ' Cap': 0.020463 <br>   ' PE': 0.016188 <br>   '\n': 0.014398 <br>   ' Bog': 0.009666 <br>   ' Brazil': 0.00901 <br>   ' Qu': 0.00853 "
           ],
           [
            " China",
            "0.5657",
            "' China': 0.565656 <br>   ' Beijing': 0.159551 <br>   ' Chinese': 0.084737 <br>   ' Qing': 0.073048 <br>   'China': 0.023166 <br>   ' Shanghai': 0.015074 <br>   'Chinese': 0.007882 <br>   ' Cheng': 0.004353 <br>   ' Mandarin': 0.004252 <br>   ' Qian': 0.003209 "
           ]
          ],
          [
           [
            " Qu",
            "0.02",
            "' Qu': 0.019982 <br>   ' All': 0.016958 <br>   ' Colombia': 0.016056 <br>   ' Ev': 0.015441 <br>   ' Nepal': 0.015321 <br>   ' quoted': 0.015083 <br>   ' PE': 0.013311 <br>   ' Afghanistan': 0.01212 <br>   ' AQ': 0.010448 <br>   ' un': 0.009587 "
           ],
           [
            " Afghanistan",
            "0.1298",
            "' Afghanistan': 0.129774 <br>   ' PE': 0.052025 <br>   ' the': 0.046272 <br>   ' All': 0.037181 <br>   ' Bangladesh': 0.03011 <br>   ' Alma': 0.024962 <br>   ' Haiti': 0.012454 <br>   ' Al': 0.011428 <br>   ' L': 0.010007 <br>   ' Qu': 0.008627 "
           ],
           [
            " PE",
            "0.1909",
            "' PE': 0.190872 <br>   ' Bras': 0.169765 <br>   ' China': 0.072447 <br>   ' Beijing': 0.018317 <br>   ' All': 0.016039 <br>   ' General': 0.012788 <br>   ' Mao': 0.009211 <br>   ' car': 0.008789 <br>   ' Car': 0.008256 <br>   ' CAR': 0.008065 "
           ],
           [
            " Bras",
            "0.4234",
            "' Bras': 0.423412 <br>   ' Colombia': 0.049398 <br>   ' Lima': 0.017891 <br>   ' PE': 0.016417 <br>   ' Cap': 0.012786 <br>   ' Brazil': 0.009727 <br>   ' Peru': 0.008926 <br>   ' Car': 0.008385 <br>   ' the': 0.008255 <br>   ' Acc': 0.007458 "
           ],
           [
            " China",
            "0.5623",
            "' China': 0.562338 <br>   ' Beijing': 0.116955 <br>   ' Qing': 0.095456 <br>   ' Chinese': 0.064589 <br>   'China': 0.027349 <br>   ' Shanghai': 0.01149 <br>   'Chinese': 0.006395 <br>   ' Cheng': 0.004194 <br>   ' Qian': 0.003971 <br>   ' Chong': 0.00337 "
           ]
          ],
          [
           [
            " Qu",
            "0.1058",
            "' Qu': 0.10583 <br>   ' the': 0.028707 <br>   ' Lima': 0.022709 <br>   ' Bras': 0.022183 <br>   ' Ev': 0.018974 <br>   ' Je': 0.014548 <br>   ' Mao': 0.012251 <br>   ' Car': 0.011419 <br>   ' car': 0.008687 <br>   ' quoted': 0.007726 "
           ],
           [
            " the",
            "0.1643",
            "' the': 0.164347 <br>   '\n': 0.063362 <br>   ' L': 0.047456 <br>   ' PE': 0.020094 <br>   ' Alma': 0.01602 <br>   ' Be': 0.014933 <br>   ' Lu': 0.011721 <br>   ' Al': 0.010925 <br>   ' Qu': 0.008778 <br>   ' Car': 0.008642 "
           ],
           [
            " Beijing",
            "0.2915",
            "' Beijing': 0.291529 <br>   ' Bras': 0.188225 <br>   ' PE': 0.075458 <br>   ' Pe': 0.045768 <br>   ' Lu': 0.02932 <br>   ' Mao': 0.026905 <br>   ' China': 0.023013 <br>   ' the': 0.016969 <br>   '\n': 0.009445 <br>   ' Plan': 0.005596 "
           ],
           [
            " Bras",
            "0.25",
            "' Bras': 0.249959 <br>   '\n': 0.095618 <br>   ' Bog': 0.050387 <br>   ' Washington': 0.023988 <br>   ' ': 0.023432 <br>   ' Lima': 0.021841 <br>   ' the': 0.020043 <br>   ' B': 0.013883 <br>   ' Lu': 0.013144 <br>   ' Havana': 0.012542 "
           ],
           [
            " Beijing",
            "0.9136",
            "' Beijing': 0.913641 <br>   ' China': 0.031263 <br>   ' Shanghai': 0.014426 <br>   ' Qing': 0.011959 <br>   ' Chinese': 0.00946 <br>   'Be': 0.001112 <br>   ' Chong': 0.000866 <br>   ' Be': 0.000833 <br>   ' Mandarin': 0.000833 <br>   ' Cheng': 0.000777 "
           ]
          ]
         ],
         "hovertemplate": "<b>'%{customdata[0]}': %{customdata[1]}</b><br><br>Top_k:<br>   %{customdata[2]}<extra></extra>",
         "reversescale": false,
         "showscale": false,
         "type": "heatmap",
         "x": [
          0,
          1,
          2,
          3,
          4
         ],
         "y": [
          0,
          1,
          2,
          3,
          4,
          5,
          6,
          7,
          8,
          9,
          10,
          11,
          12,
          13,
          14,
          15,
          16
         ],
         "z": [
          [
           0.3405,
           0.4013,
           0.3496,
           0.3067,
           0.2186
          ],
          [
           0.2914,
           0.4869,
           0.4791,
           0.5848,
           0.2872
          ],
          [
           0.2257,
           0.5196,
           0.4165,
           0.5067,
           0.751
          ],
          [
           0.1742,
           0.5072,
           0.1765,
           0.4468,
           0.7348
          ],
          [
           0.1354,
           0.4591,
           0.318,
           0.5383,
           0.6585
          ],
          [
           0.1159,
           0.1876,
           0.2367,
           0.4543,
           0.8786
          ],
          [
           0.1512,
           0.094,
           0.1728,
           0.3846,
           0.8177
          ],
          [
           0.0908,
           0.0741,
           0.2306,
           0.257,
           0.8772
          ],
          [
           0.1249,
           0.1012,
           0.3676,
           0.5066,
           0.8695
          ],
          [
           0.1733,
           0.0571,
           0.3563,
           0.5726,
           0.8849
          ],
          [
           0.1931,
           0.0539,
           0.286,
           0.5021,
           0.8964
          ],
          [
           0.1764,
           0.0989,
           0.4156,
           0.5014,
           0.8273
          ],
          [
           0.1154,
           0.0635,
           0.4771,
           0.3988,
           0.7918
          ],
          [
           0.1337,
           0.1091,
           0.276,
           0.3662,
           0.4913
          ],
          [
           0.0524,
           0.1067,
           0.317,
           0.3922,
           0.5657
          ],
          [
           0.02,
           0.1298,
           0.1909,
           0.4234,
           0.5623
          ],
          [
           0.1058,
           0.1643,
           0.2915,
           0.25,
           0.9136
          ]
         ]
        }
       ],
       "layout": {
        "annotations": [
         {
          "font": {
           "color": "#000000"
          },
          "showarrow": false,
          "text": " Bras",
          "x": 0,
          "xref": "x",
          "y": 0,
          "yref": "y"
         },
         {
          "font": {
           "color": "#000000"
          },
          "showarrow": false,
          "text": " Bras",
          "x": 1,
          "xref": "x",
          "y": 0,
          "yref": "y"
         },
         {
          "font": {
           "color": "#000000"
          },
          "showarrow": false,
          "text": " Bras",
          "x": 2,
          "xref": "x",
          "y": 0,
          "yref": "y"
         },
         {
          "font": {
           "color": "#000000"
          },
          "showarrow": false,
          "text": " Bras",
          "x": 3,
          "xref": "x",
          "y": 0,
          "yref": "y"
         },
         {
          "font": {
           "color": "#000000"
          },
          "showarrow": false,
          "text": " Bras",
          "x": 4,
          "xref": "x",
          "y": 0,
          "yref": "y"
         },
         {
          "font": {
           "color": "#000000"
          },
          "showarrow": false,
          "text": " Bras",
          "x": 0,
          "xref": "x",
          "y": 1,
          "yref": "y"
         },
         {
          "font": {
           "color": "#FFFFFF"
          },
          "showarrow": false,
          "text": " Bras",
          "x": 1,
          "xref": "x",
          "y": 1,
          "yref": "y"
         },
         {
          "font": {
           "color": "#FFFFFF"
          },
          "showarrow": false,
          "text": " Bras",
          "x": 2,
          "xref": "x",
          "y": 1,
          "yref": "y"
         },
         {
          "font": {
           "color": "#FFFFFF"
          },
          "showarrow": false,
          "text": " Bras",
          "x": 3,
          "xref": "x",
          "y": 1,
          "yref": "y"
         },
         {
          "font": {
           "color": "#000000"
          },
          "showarrow": false,
          "text": " Beijing",
          "x": 4,
          "xref": "x",
          "y": 1,
          "yref": "y"
         },
         {
          "font": {
           "color": "#000000"
          },
          "showarrow": false,
          "text": " Bras",
          "x": 0,
          "xref": "x",
          "y": 2,
          "yref": "y"
         },
         {
          "font": {
           "color": "#FFFFFF"
          },
          "showarrow": false,
          "text": " Bras",
          "x": 1,
          "xref": "x",
          "y": 2,
          "yref": "y"
         },
         {
          "font": {
           "color": "#000000"
          },
          "showarrow": false,
          "text": " Bras",
          "x": 2,
          "xref": "x",
          "y": 2,
          "yref": "y"
         },
         {
          "font": {
           "color": "#FFFFFF"
          },
          "showarrow": false,
          "text": " Bras",
          "x": 3,
          "xref": "x",
          "y": 2,
          "yref": "y"
         },
         {
          "font": {
           "color": "#FFFFFF"
          },
          "showarrow": false,
          "text": " Beijing",
          "x": 4,
          "xref": "x",
          "y": 2,
          "yref": "y"
         },
         {
          "font": {
           "color": "#000000"
          },
          "showarrow": false,
          "text": " Bog",
          "x": 0,
          "xref": "x",
          "y": 3,
          "yref": "y"
         },
         {
          "font": {
           "color": "#FFFFFF"
          },
          "showarrow": false,
          "text": " Bras",
          "x": 1,
          "xref": "x",
          "y": 3,
          "yref": "y"
         },
         {
          "font": {
           "color": "#000000"
          },
          "showarrow": false,
          "text": " Bras",
          "x": 2,
          "xref": "x",
          "y": 3,
          "yref": "y"
         },
         {
          "font": {
           "color": "#000000"
          },
          "showarrow": false,
          "text": " Bras",
          "x": 3,
          "xref": "x",
          "y": 3,
          "yref": "y"
         },
         {
          "font": {
           "color": "#FFFFFF"
          },
          "showarrow": false,
          "text": " Beijing",
          "x": 4,
          "xref": "x",
          "y": 3,
          "yref": "y"
         },
         {
          "font": {
           "color": "#000000"
          },
          "showarrow": false,
          "text": " Lima",
          "x": 0,
          "xref": "x",
          "y": 4,
          "yref": "y"
         },
         {
          "font": {
           "color": "#000000"
          },
          "showarrow": false,
          "text": " Bras",
          "x": 1,
          "xref": "x",
          "y": 4,
          "yref": "y"
         },
         {
          "font": {
           "color": "#000000"
          },
          "showarrow": false,
          "text": " Bras",
          "x": 2,
          "xref": "x",
          "y": 4,
          "yref": "y"
         },
         {
          "font": {
           "color": "#FFFFFF"
          },
          "showarrow": false,
          "text": " Bras",
          "x": 3,
          "xref": "x",
          "y": 4,
          "yref": "y"
         },
         {
          "font": {
           "color": "#FFFFFF"
          },
          "showarrow": false,
          "text": " Beijing",
          "x": 4,
          "xref": "x",
          "y": 4,
          "yref": "y"
         },
         {
          "font": {
           "color": "#000000"
          },
          "showarrow": false,
          "text": " Lima",
          "x": 0,
          "xref": "x",
          "y": 5,
          "yref": "y"
         },
         {
          "font": {
           "color": "#000000"
          },
          "showarrow": false,
          "text": " Bras",
          "x": 1,
          "xref": "x",
          "y": 5,
          "yref": "y"
         },
         {
          "font": {
           "color": "#000000"
          },
          "showarrow": false,
          "text": " Bras",
          "x": 2,
          "xref": "x",
          "y": 5,
          "yref": "y"
         },
         {
          "font": {
           "color": "#000000"
          },
          "showarrow": false,
          "text": " Bras",
          "x": 3,
          "xref": "x",
          "y": 5,
          "yref": "y"
         },
         {
          "font": {
           "color": "#FFFFFF"
          },
          "showarrow": false,
          "text": " Beijing",
          "x": 4,
          "xref": "x",
          "y": 5,
          "yref": "y"
         },
         {
          "font": {
           "color": "#000000"
          },
          "showarrow": false,
          "text": " Lima",
          "x": 0,
          "xref": "x",
          "y": 6,
          "yref": "y"
         },
         {
          "font": {
           "color": "#000000"
          },
          "showarrow": false,
          "text": " Petro",
          "x": 1,
          "xref": "x",
          "y": 6,
          "yref": "y"
         },
         {
          "font": {
           "color": "#000000"
          },
          "showarrow": false,
          "text": " Bras",
          "x": 2,
          "xref": "x",
          "y": 6,
          "yref": "y"
         },
         {
          "font": {
           "color": "#000000"
          },
          "showarrow": false,
          "text": " Bras",
          "x": 3,
          "xref": "x",
          "y": 6,
          "yref": "y"
         },
         {
          "font": {
           "color": "#FFFFFF"
          },
          "showarrow": false,
          "text": " Beijing",
          "x": 4,
          "xref": "x",
          "y": 6,
          "yref": "y"
         },
         {
          "font": {
           "color": "#000000"
          },
          "showarrow": false,
          "text": " Car",
          "x": 0,
          "xref": "x",
          "y": 7,
          "yref": "y"
         },
         {
          "font": {
           "color": "#000000"
          },
          "showarrow": false,
          "text": " Petro",
          "x": 1,
          "xref": "x",
          "y": 7,
          "yref": "y"
         },
         {
          "font": {
           "color": "#000000"
          },
          "showarrow": false,
          "text": " Beijing",
          "x": 2,
          "xref": "x",
          "y": 7,
          "yref": "y"
         },
         {
          "font": {
           "color": "#000000"
          },
          "showarrow": false,
          "text": " Bras",
          "x": 3,
          "xref": "x",
          "y": 7,
          "yref": "y"
         },
         {
          "font": {
           "color": "#FFFFFF"
          },
          "showarrow": false,
          "text": " Beijing",
          "x": 4,
          "xref": "x",
          "y": 7,
          "yref": "y"
         },
         {
          "font": {
           "color": "#000000"
          },
          "showarrow": false,
          "text": " Qu",
          "x": 0,
          "xref": "x",
          "y": 8,
          "yref": "y"
         },
         {
          "font": {
           "color": "#000000"
          },
          "showarrow": false,
          "text": " PE",
          "x": 1,
          "xref": "x",
          "y": 8,
          "yref": "y"
         },
         {
          "font": {
           "color": "#000000"
          },
          "showarrow": false,
          "text": " Beijing",
          "x": 2,
          "xref": "x",
          "y": 8,
          "yref": "y"
         },
         {
          "font": {
           "color": "#FFFFFF"
          },
          "showarrow": false,
          "text": " Bras",
          "x": 3,
          "xref": "x",
          "y": 8,
          "yref": "y"
         },
         {
          "font": {
           "color": "#FFFFFF"
          },
          "showarrow": false,
          "text": " Beijing",
          "x": 4,
          "xref": "x",
          "y": 8,
          "yref": "y"
         },
         {
          "font": {
           "color": "#000000"
          },
          "showarrow": false,
          "text": " Qu",
          "x": 0,
          "xref": "x",
          "y": 9,
          "yref": "y"
         },
         {
          "font": {
           "color": "#000000"
          },
          "showarrow": false,
          "text": " Bangladesh",
          "x": 1,
          "xref": "x",
          "y": 9,
          "yref": "y"
         },
         {
          "font": {
           "color": "#000000"
          },
          "showarrow": false,
          "text": " Beijing",
          "x": 2,
          "xref": "x",
          "y": 9,
          "yref": "y"
         },
         {
          "font": {
           "color": "#FFFFFF"
          },
          "showarrow": false,
          "text": " Bras",
          "x": 3,
          "xref": "x",
          "y": 9,
          "yref": "y"
         },
         {
          "font": {
           "color": "#FFFFFF"
          },
          "showarrow": false,
          "text": " Beijing",
          "x": 4,
          "xref": "x",
          "y": 9,
          "yref": "y"
         },
         {
          "font": {
           "color": "#000000"
          },
          "showarrow": false,
          "text": " Qu",
          "x": 0,
          "xref": "x",
          "y": 10,
          "yref": "y"
         },
         {
          "font": {
           "color": "#000000"
          },
          "showarrow": false,
          "text": " PE",
          "x": 1,
          "xref": "x",
          "y": 10,
          "yref": "y"
         },
         {
          "font": {
           "color": "#000000"
          },
          "showarrow": false,
          "text": " Beijing",
          "x": 2,
          "xref": "x",
          "y": 10,
          "yref": "y"
         },
         {
          "font": {
           "color": "#FFFFFF"
          },
          "showarrow": false,
          "text": " Bras",
          "x": 3,
          "xref": "x",
          "y": 10,
          "yref": "y"
         },
         {
          "font": {
           "color": "#FFFFFF"
          },
          "showarrow": false,
          "text": " Beijing",
          "x": 4,
          "xref": "x",
          "y": 10,
          "yref": "y"
         },
         {
          "font": {
           "color": "#000000"
          },
          "showarrow": false,
          "text": " Qu",
          "x": 0,
          "xref": "x",
          "y": 11,
          "yref": "y"
         },
         {
          "font": {
           "color": "#000000"
          },
          "showarrow": false,
          "text": " Bangladesh",
          "x": 1,
          "xref": "x",
          "y": 11,
          "yref": "y"
         },
         {
          "font": {
           "color": "#000000"
          },
          "showarrow": false,
          "text": " Bras",
          "x": 2,
          "xref": "x",
          "y": 11,
          "yref": "y"
         },
         {
          "font": {
           "color": "#FFFFFF"
          },
          "showarrow": false,
          "text": " Bras",
          "x": 3,
          "xref": "x",
          "y": 11,
          "yref": "y"
         },
         {
          "font": {
           "color": "#FFFFFF"
          },
          "showarrow": false,
          "text": " Beijing",
          "x": 4,
          "xref": "x",
          "y": 11,
          "yref": "y"
         },
         {
          "font": {
           "color": "#000000"
          },
          "showarrow": false,
          "text": " Qu",
          "x": 0,
          "xref": "x",
          "y": 12,
          "yref": "y"
         },
         {
          "font": {
           "color": "#000000"
          },
          "showarrow": false,
          "text": " Bangladesh",
          "x": 1,
          "xref": "x",
          "y": 12,
          "yref": "y"
         },
         {
          "font": {
           "color": "#FFFFFF"
          },
          "showarrow": false,
          "text": " Bras",
          "x": 2,
          "xref": "x",
          "y": 12,
          "yref": "y"
         },
         {
          "font": {
           "color": "#000000"
          },
          "showarrow": false,
          "text": " Bras",
          "x": 3,
          "xref": "x",
          "y": 12,
          "yref": "y"
         },
         {
          "font": {
           "color": "#FFFFFF"
          },
          "showarrow": false,
          "text": " Beijing",
          "x": 4,
          "xref": "x",
          "y": 12,
          "yref": "y"
         },
         {
          "font": {
           "color": "#000000"
          },
          "showarrow": false,
          "text": " Qu",
          "x": 0,
          "xref": "x",
          "y": 13,
          "yref": "y"
         },
         {
          "font": {
           "color": "#000000"
          },
          "showarrow": false,
          "text": " PE",
          "x": 1,
          "xref": "x",
          "y": 13,
          "yref": "y"
         },
         {
          "font": {
           "color": "#000000"
          },
          "showarrow": false,
          "text": " PE",
          "x": 2,
          "xref": "x",
          "y": 13,
          "yref": "y"
         },
         {
          "font": {
           "color": "#000000"
          },
          "showarrow": false,
          "text": " Bras",
          "x": 3,
          "xref": "x",
          "y": 13,
          "yref": "y"
         },
         {
          "font": {
           "color": "#FFFFFF"
          },
          "showarrow": false,
          "text": " China",
          "x": 4,
          "xref": "x",
          "y": 13,
          "yref": "y"
         },
         {
          "font": {
           "color": "#000000"
          },
          "showarrow": false,
          "text": " Qu",
          "x": 0,
          "xref": "x",
          "y": 14,
          "yref": "y"
         },
         {
          "font": {
           "color": "#000000"
          },
          "showarrow": false,
          "text": " Afghanistan",
          "x": 1,
          "xref": "x",
          "y": 14,
          "yref": "y"
         },
         {
          "font": {
           "color": "#000000"
          },
          "showarrow": false,
          "text": " PE",
          "x": 2,
          "xref": "x",
          "y": 14,
          "yref": "y"
         },
         {
          "font": {
           "color": "#000000"
          },
          "showarrow": false,
          "text": " Bras",
          "x": 3,
          "xref": "x",
          "y": 14,
          "yref": "y"
         },
         {
          "font": {
           "color": "#FFFFFF"
          },
          "showarrow": false,
          "text": " China",
          "x": 4,
          "xref": "x",
          "y": 14,
          "yref": "y"
         },
         {
          "font": {
           "color": "#000000"
          },
          "showarrow": false,
          "text": " Qu",
          "x": 0,
          "xref": "x",
          "y": 15,
          "yref": "y"
         },
         {
          "font": {
           "color": "#000000"
          },
          "showarrow": false,
          "text": " Afghanistan",
          "x": 1,
          "xref": "x",
          "y": 15,
          "yref": "y"
         },
         {
          "font": {
           "color": "#000000"
          },
          "showarrow": false,
          "text": " PE",
          "x": 2,
          "xref": "x",
          "y": 15,
          "yref": "y"
         },
         {
          "font": {
           "color": "#000000"
          },
          "showarrow": false,
          "text": " Bras",
          "x": 3,
          "xref": "x",
          "y": 15,
          "yref": "y"
         },
         {
          "font": {
           "color": "#FFFFFF"
          },
          "showarrow": false,
          "text": " China",
          "x": 4,
          "xref": "x",
          "y": 15,
          "yref": "y"
         },
         {
          "font": {
           "color": "#000000"
          },
          "showarrow": false,
          "text": " Qu",
          "x": 0,
          "xref": "x",
          "y": 16,
          "yref": "y"
         },
         {
          "font": {
           "color": "#000000"
          },
          "showarrow": false,
          "text": " the",
          "x": 1,
          "xref": "x",
          "y": 16,
          "yref": "y"
         },
         {
          "font": {
           "color": "#000000"
          },
          "showarrow": false,
          "text": " Beijing",
          "x": 2,
          "xref": "x",
          "y": 16,
          "yref": "y"
         },
         {
          "font": {
           "color": "#000000"
          },
          "showarrow": false,
          "text": " Bras",
          "x": 3,
          "xref": "x",
          "y": 16,
          "yref": "y"
         },
         {
          "font": {
           "color": "#FFFFFF"
          },
          "showarrow": false,
          "text": " Beijing",
          "x": 4,
          "xref": "x",
          "y": 16,
          "yref": "y"
         }
        ],
        "autosize": false,
        "height": 795,
        "plot_bgcolor": "white",
        "template": {
         "data": {
          "bar": [
           {
            "error_x": {
             "color": "#2a3f5f"
            },
            "error_y": {
             "color": "#2a3f5f"
            },
            "marker": {
             "line": {
              "color": "#E5ECF6",
              "width": 0.5
             },
             "pattern": {
              "fillmode": "overlay",
              "size": 10,
              "solidity": 0.2
             }
            },
            "type": "bar"
           }
          ],
          "barpolar": [
           {
            "marker": {
             "line": {
              "color": "#E5ECF6",
              "width": 0.5
             },
             "pattern": {
              "fillmode": "overlay",
              "size": 10,
              "solidity": 0.2
             }
            },
            "type": "barpolar"
           }
          ],
          "carpet": [
           {
            "aaxis": {
             "endlinecolor": "#2a3f5f",
             "gridcolor": "white",
             "linecolor": "white",
             "minorgridcolor": "white",
             "startlinecolor": "#2a3f5f"
            },
            "baxis": {
             "endlinecolor": "#2a3f5f",
             "gridcolor": "white",
             "linecolor": "white",
             "minorgridcolor": "white",
             "startlinecolor": "#2a3f5f"
            },
            "type": "carpet"
           }
          ],
          "choropleth": [
           {
            "colorbar": {
             "outlinewidth": 0,
             "ticks": ""
            },
            "type": "choropleth"
           }
          ],
          "contour": [
           {
            "colorbar": {
             "outlinewidth": 0,
             "ticks": ""
            },
            "colorscale": [
             [
              0,
              "#0d0887"
             ],
             [
              0.1111111111111111,
              "#46039f"
             ],
             [
              0.2222222222222222,
              "#7201a8"
             ],
             [
              0.3333333333333333,
              "#9c179e"
             ],
             [
              0.4444444444444444,
              "#bd3786"
             ],
             [
              0.5555555555555556,
              "#d8576b"
             ],
             [
              0.6666666666666666,
              "#ed7953"
             ],
             [
              0.7777777777777778,
              "#fb9f3a"
             ],
             [
              0.8888888888888888,
              "#fdca26"
             ],
             [
              1,
              "#f0f921"
             ]
            ],
            "type": "contour"
           }
          ],
          "contourcarpet": [
           {
            "colorbar": {
             "outlinewidth": 0,
             "ticks": ""
            },
            "type": "contourcarpet"
           }
          ],
          "heatmap": [
           {
            "colorbar": {
             "outlinewidth": 0,
             "ticks": ""
            },
            "colorscale": [
             [
              0,
              "#0d0887"
             ],
             [
              0.1111111111111111,
              "#46039f"
             ],
             [
              0.2222222222222222,
              "#7201a8"
             ],
             [
              0.3333333333333333,
              "#9c179e"
             ],
             [
              0.4444444444444444,
              "#bd3786"
             ],
             [
              0.5555555555555556,
              "#d8576b"
             ],
             [
              0.6666666666666666,
              "#ed7953"
             ],
             [
              0.7777777777777778,
              "#fb9f3a"
             ],
             [
              0.8888888888888888,
              "#fdca26"
             ],
             [
              1,
              "#f0f921"
             ]
            ],
            "type": "heatmap"
           }
          ],
          "heatmapgl": [
           {
            "colorbar": {
             "outlinewidth": 0,
             "ticks": ""
            },
            "colorscale": [
             [
              0,
              "#0d0887"
             ],
             [
              0.1111111111111111,
              "#46039f"
             ],
             [
              0.2222222222222222,
              "#7201a8"
             ],
             [
              0.3333333333333333,
              "#9c179e"
             ],
             [
              0.4444444444444444,
              "#bd3786"
             ],
             [
              0.5555555555555556,
              "#d8576b"
             ],
             [
              0.6666666666666666,
              "#ed7953"
             ],
             [
              0.7777777777777778,
              "#fb9f3a"
             ],
             [
              0.8888888888888888,
              "#fdca26"
             ],
             [
              1,
              "#f0f921"
             ]
            ],
            "type": "heatmapgl"
           }
          ],
          "histogram": [
           {
            "marker": {
             "pattern": {
              "fillmode": "overlay",
              "size": 10,
              "solidity": 0.2
             }
            },
            "type": "histogram"
           }
          ],
          "histogram2d": [
           {
            "colorbar": {
             "outlinewidth": 0,
             "ticks": ""
            },
            "colorscale": [
             [
              0,
              "#0d0887"
             ],
             [
              0.1111111111111111,
              "#46039f"
             ],
             [
              0.2222222222222222,
              "#7201a8"
             ],
             [
              0.3333333333333333,
              "#9c179e"
             ],
             [
              0.4444444444444444,
              "#bd3786"
             ],
             [
              0.5555555555555556,
              "#d8576b"
             ],
             [
              0.6666666666666666,
              "#ed7953"
             ],
             [
              0.7777777777777778,
              "#fb9f3a"
             ],
             [
              0.8888888888888888,
              "#fdca26"
             ],
             [
              1,
              "#f0f921"
             ]
            ],
            "type": "histogram2d"
           }
          ],
          "histogram2dcontour": [
           {
            "colorbar": {
             "outlinewidth": 0,
             "ticks": ""
            },
            "colorscale": [
             [
              0,
              "#0d0887"
             ],
             [
              0.1111111111111111,
              "#46039f"
             ],
             [
              0.2222222222222222,
              "#7201a8"
             ],
             [
              0.3333333333333333,
              "#9c179e"
             ],
             [
              0.4444444444444444,
              "#bd3786"
             ],
             [
              0.5555555555555556,
              "#d8576b"
             ],
             [
              0.6666666666666666,
              "#ed7953"
             ],
             [
              0.7777777777777778,
              "#fb9f3a"
             ],
             [
              0.8888888888888888,
              "#fdca26"
             ],
             [
              1,
              "#f0f921"
             ]
            ],
            "type": "histogram2dcontour"
           }
          ],
          "mesh3d": [
           {
            "colorbar": {
             "outlinewidth": 0,
             "ticks": ""
            },
            "type": "mesh3d"
           }
          ],
          "parcoords": [
           {
            "line": {
             "colorbar": {
              "outlinewidth": 0,
              "ticks": ""
             }
            },
            "type": "parcoords"
           }
          ],
          "pie": [
           {
            "automargin": true,
            "type": "pie"
           }
          ],
          "scatter": [
           {
            "fillpattern": {
             "fillmode": "overlay",
             "size": 10,
             "solidity": 0.2
            },
            "type": "scatter"
           }
          ],
          "scatter3d": [
           {
            "line": {
             "colorbar": {
              "outlinewidth": 0,
              "ticks": ""
             }
            },
            "marker": {
             "colorbar": {
              "outlinewidth": 0,
              "ticks": ""
             }
            },
            "type": "scatter3d"
           }
          ],
          "scattercarpet": [
           {
            "marker": {
             "colorbar": {
              "outlinewidth": 0,
              "ticks": ""
             }
            },
            "type": "scattercarpet"
           }
          ],
          "scattergeo": [
           {
            "marker": {
             "colorbar": {
              "outlinewidth": 0,
              "ticks": ""
             }
            },
            "type": "scattergeo"
           }
          ],
          "scattergl": [
           {
            "marker": {
             "colorbar": {
              "outlinewidth": 0,
              "ticks": ""
             }
            },
            "type": "scattergl"
           }
          ],
          "scattermapbox": [
           {
            "marker": {
             "colorbar": {
              "outlinewidth": 0,
              "ticks": ""
             }
            },
            "type": "scattermapbox"
           }
          ],
          "scatterpolar": [
           {
            "marker": {
             "colorbar": {
              "outlinewidth": 0,
              "ticks": ""
             }
            },
            "type": "scatterpolar"
           }
          ],
          "scatterpolargl": [
           {
            "marker": {
             "colorbar": {
              "outlinewidth": 0,
              "ticks": ""
             }
            },
            "type": "scatterpolargl"
           }
          ],
          "scatterternary": [
           {
            "marker": {
             "colorbar": {
              "outlinewidth": 0,
              "ticks": ""
             }
            },
            "type": "scatterternary"
           }
          ],
          "surface": [
           {
            "colorbar": {
             "outlinewidth": 0,
             "ticks": ""
            },
            "colorscale": [
             [
              0,
              "#0d0887"
             ],
             [
              0.1111111111111111,
              "#46039f"
             ],
             [
              0.2222222222222222,
              "#7201a8"
             ],
             [
              0.3333333333333333,
              "#9c179e"
             ],
             [
              0.4444444444444444,
              "#bd3786"
             ],
             [
              0.5555555555555556,
              "#d8576b"
             ],
             [
              0.6666666666666666,
              "#ed7953"
             ],
             [
              0.7777777777777778,
              "#fb9f3a"
             ],
             [
              0.8888888888888888,
              "#fdca26"
             ],
             [
              1,
              "#f0f921"
             ]
            ],
            "type": "surface"
           }
          ],
          "table": [
           {
            "cells": {
             "fill": {
              "color": "#EBF0F8"
             },
             "line": {
              "color": "white"
             }
            },
            "header": {
             "fill": {
              "color": "#C8D4E3"
             },
             "line": {
              "color": "white"
             }
            },
            "type": "table"
           }
          ]
         },
         "layout": {
          "annotationdefaults": {
           "arrowcolor": "#2a3f5f",
           "arrowhead": 0,
           "arrowwidth": 1
          },
          "autotypenumbers": "strict",
          "coloraxis": {
           "colorbar": {
            "outlinewidth": 0,
            "ticks": ""
           }
          },
          "colorscale": {
           "diverging": [
            [
             0,
             "#8e0152"
            ],
            [
             0.1,
             "#c51b7d"
            ],
            [
             0.2,
             "#de77ae"
            ],
            [
             0.3,
             "#f1b6da"
            ],
            [
             0.4,
             "#fde0ef"
            ],
            [
             0.5,
             "#f7f7f7"
            ],
            [
             0.6,
             "#e6f5d0"
            ],
            [
             0.7,
             "#b8e186"
            ],
            [
             0.8,
             "#7fbc41"
            ],
            [
             0.9,
             "#4d9221"
            ],
            [
             1,
             "#276419"
            ]
           ],
           "sequential": [
            [
             0,
             "#0d0887"
            ],
            [
             0.1111111111111111,
             "#46039f"
            ],
            [
             0.2222222222222222,
             "#7201a8"
            ],
            [
             0.3333333333333333,
             "#9c179e"
            ],
            [
             0.4444444444444444,
             "#bd3786"
            ],
            [
             0.5555555555555556,
             "#d8576b"
            ],
            [
             0.6666666666666666,
             "#ed7953"
            ],
            [
             0.7777777777777778,
             "#fb9f3a"
            ],
            [
             0.8888888888888888,
             "#fdca26"
            ],
            [
             1,
             "#f0f921"
            ]
           ],
           "sequentialminus": [
            [
             0,
             "#0d0887"
            ],
            [
             0.1111111111111111,
             "#46039f"
            ],
            [
             0.2222222222222222,
             "#7201a8"
            ],
            [
             0.3333333333333333,
             "#9c179e"
            ],
            [
             0.4444444444444444,
             "#bd3786"
            ],
            [
             0.5555555555555556,
             "#d8576b"
            ],
            [
             0.6666666666666666,
             "#ed7953"
            ],
            [
             0.7777777777777778,
             "#fb9f3a"
            ],
            [
             0.8888888888888888,
             "#fdca26"
            ],
            [
             1,
             "#f0f921"
            ]
           ]
          },
          "colorway": [
           "#636efa",
           "#EF553B",
           "#00cc96",
           "#ab63fa",
           "#FFA15A",
           "#19d3f3",
           "#FF6692",
           "#B6E880",
           "#FF97FF",
           "#FECB52"
          ],
          "font": {
           "color": "#2a3f5f"
          },
          "geo": {
           "bgcolor": "white",
           "lakecolor": "white",
           "landcolor": "#E5ECF6",
           "showlakes": true,
           "showland": true,
           "subunitcolor": "white"
          },
          "hoverlabel": {
           "align": "left"
          },
          "hovermode": "closest",
          "mapbox": {
           "style": "light"
          },
          "paper_bgcolor": "white",
          "plot_bgcolor": "#E5ECF6",
          "polar": {
           "angularaxis": {
            "gridcolor": "white",
            "linecolor": "white",
            "ticks": ""
           },
           "bgcolor": "#E5ECF6",
           "radialaxis": {
            "gridcolor": "white",
            "linecolor": "white",
            "ticks": ""
           }
          },
          "scene": {
           "xaxis": {
            "backgroundcolor": "#E5ECF6",
            "gridcolor": "white",
            "gridwidth": 2,
            "linecolor": "white",
            "showbackground": true,
            "ticks": "",
            "zerolinecolor": "white"
           },
           "yaxis": {
            "backgroundcolor": "#E5ECF6",
            "gridcolor": "white",
            "gridwidth": 2,
            "linecolor": "white",
            "showbackground": true,
            "ticks": "",
            "zerolinecolor": "white"
           },
           "zaxis": {
            "backgroundcolor": "#E5ECF6",
            "gridcolor": "white",
            "gridwidth": 2,
            "linecolor": "white",
            "showbackground": true,
            "ticks": "",
            "zerolinecolor": "white"
           }
          },
          "shapedefaults": {
           "line": {
            "color": "#2a3f5f"
           }
          },
          "ternary": {
           "aaxis": {
            "gridcolor": "white",
            "linecolor": "white",
            "ticks": ""
           },
           "baxis": {
            "gridcolor": "white",
            "linecolor": "white",
            "ticks": ""
           },
           "bgcolor": "#E5ECF6",
           "caxis": {
            "gridcolor": "white",
            "linecolor": "white",
            "ticks": ""
           }
          },
          "title": {
           "x": 0.05
          },
          "xaxis": {
           "automargin": true,
           "gridcolor": "white",
           "linecolor": "white",
           "ticks": "",
           "title": {
            "standoff": 15
           },
           "zerolinecolor": "white",
           "zerolinewidth": 2
          },
          "yaxis": {
           "automargin": true,
           "gridcolor": "white",
           "linecolor": "white",
           "ticks": "",
           "title": {
            "standoff": 15
           },
           "zerolinecolor": "white",
           "zerolinewidth": 2
          }
         }
        },
        "width": 650,
        "xaxis": {
         "dtick": 1,
         "gridcolor": "rgb(0, 0, 0)",
         "range": [
          -0.5,
          5
         ],
         "side": "bottom",
         "tickfont": {
          "color": "darkblue",
          "family": "Courier New, Monospace",
          "size": 17
         },
         "tickmode": "array",
         "ticks": "",
         "ticktext": [
          " People",
          "'s",
          " Republic",
          " of",
          " China"
         ],
         "tickvals": [
          0,
          1,
          2,
          3,
          4
         ]
        },
        "yaxis": {
         "dtick": 1,
         "range": [
          -0.5,
          17
         ],
         "tickfont": {
          "color": "firebrick",
          "family": "verdana",
          "size": 14
         },
         "tickmode": "array",
         "ticks": "",
         "ticksuffix": "  ",
         "ticktext": [
          "h.0 ",
          "h.2 ",
          "h.4 ",
          "h.6 ",
          "h.8 ",
          "h.10 ",
          "h.12 ",
          "h.14 ",
          "h.15 ",
          "h.16 ",
          "h.18 ",
          "h.20 ",
          "h.22 ",
          "h.24 ",
          "h.25 ",
          "h.26 ",
          "h.27 "
         ],
         "tickvals": [
          0,
          1,
          2,
          3,
          4,
          5,
          6,
          7,
          8,
          9,
          10,
          11,
          12,
          13,
          14,
          15,
          16
         ]
        }
       }
      }
     },
     "metadata": {},
     "output_type": "display_data"
    }
   ],
   "source": [
    "lens_utils.visualize_attribute_lens(\n",
    "    att_info, layer_skip=2, must_have_layers=[15, 25],\n",
    "    expected_answers=[' Seattle', \" Washington\"]\n",
    ")"
   ]
  },
  {
   "cell_type": "code",
   "execution_count": null,
   "metadata": {},
   "outputs": [],
   "source": []
  }
 ],
 "metadata": {
  "kernelspec": {
   "display_name": "relations",
   "language": "python",
   "name": "python3"
  },
  "language_info": {
   "codemirror_mode": {
    "name": "ipython",
    "version": 3
   },
   "file_extension": ".py",
   "mimetype": "text/x-python",
   "name": "python",
   "nbconvert_exporter": "python",
   "pygments_lexer": "ipython3",
   "version": "3.10.11"
  },
  "orig_nbformat": 4
 },
 "nbformat": 4,
 "nbformat_minor": 2
}
