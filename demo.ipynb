{
 "cells": [
  {
   "cell_type": "code",
   "execution_count": 1,
   "metadata": {},
   "outputs": [],
   "source": [
    "%load_ext autoreload\n",
    "%autoreload 2"
   ]
  },
  {
   "cell_type": "code",
   "execution_count": 2,
   "metadata": {},
   "outputs": [],
   "source": [
    "import torch\n",
    "import copy\n",
    "import numpy as np\n",
    "import matplotlib.pyplot as plt\n",
    "from src import models, data\n",
    "from src.metrics import recall"
   ]
  },
  {
   "cell_type": "code",
   "execution_count": 3,
   "metadata": {},
   "outputs": [
    {
     "name": "stdout",
     "output_type": "stream",
     "text": [
      "dtype: torch.float16, device: cuda:0, memory: 12219206136\n"
     ]
    }
   ],
   "source": [
    "device = \"cuda:0\"\n",
    "mt = models.load_model(\"gptj\", device=device)\n",
    "print(f\"dtype: {mt.model.dtype}, device: {mt.model.device}, memory: {mt.model.get_memory_footprint()}\")"
   ]
  },
  {
   "cell_type": "code",
   "execution_count": 4,
   "metadata": {},
   "outputs": [
    {
     "name": "stdout",
     "output_type": "stream",
     "text": [
      "Relation(name='country capital city', prompt_templates=['The capital city of {} is', 'The political capital of {} is', 'The seat of government for {} is', 'The government of {} is centered in'], samples=[RelationSample(subject='United States', object='Washington D.C.'), RelationSample(subject='Canada', object='Ottawa'), RelationSample(subject='Mexico', object='Mexico City'), RelationSample(subject='Brazil', object='Bras\\\\u00edlia'), RelationSample(subject='Argentina', object='Buenos Aires'), RelationSample(subject='Chile', object='Santiago'), RelationSample(subject='Peru', object='Lima'), RelationSample(subject='Colombia', object='Bogot\\\\u00e1'), RelationSample(subject='Venezuela', object='Caracas'), RelationSample(subject='Spain', object='Madrid'), RelationSample(subject='France', object='Paris'), RelationSample(subject='Germany', object='Berlin'), RelationSample(subject='Italy', object='Rome'), RelationSample(subject='Russia', object='Moscow'), RelationSample(subject='China', object='Beijing'), RelationSample(subject='Japan', object='Tokyo'), RelationSample(subject='South Korea', object='Seoul'), RelationSample(subject='India', object='New Delhi'), RelationSample(subject='Pakistan', object='Islamabad'), RelationSample(subject='Nigeria', object='Abuja'), RelationSample(subject='Egypt', object='Cairo'), RelationSample(subject='Saudi Arabia', object='Riyadh'), RelationSample(subject='Turkey', object='Ankara'), RelationSample(subject='Australia', object='Canberra')], properties=RelationProperties(relation_type='factual', domain_name='country', range_name='city', symmetric=False, fn_type='ONE_TO_ONE', disambiguating=True), _domain=None, _range=None)\n"
     ]
    },
    {
     "data": {
      "text/plain": [
       "24"
      ]
     },
     "execution_count": 4,
     "metadata": {},
     "output_type": "execute_result"
    }
   ],
   "source": [
    "dataset = data.load_dataset()\n",
    "capital_cities =[d for d in dataset if d.name == \"country capital city\"][0]\n",
    "print(capital_cities)\n",
    "# capital_cities.__dict__.keys()\n",
    "len(capital_cities.samples)"
   ]
  },
  {
   "cell_type": "code",
   "execution_count": 5,
   "metadata": {},
   "outputs": [
    {
     "data": {
      "text/plain": [
       "[RelationSample(subject='Spain', object='Madrid'),\n",
       " RelationSample(subject='Mexico', object='Mexico City'),\n",
       " RelationSample(subject='Pakistan', object='Islamabad')]"
      ]
     },
     "execution_count": 5,
     "metadata": {},
     "output_type": "execute_result"
    }
   ],
   "source": [
    "indices = np.random.choice(range(len(capital_cities.samples)), 3, replace=False)\n",
    "samples = [capital_cities.samples[i] for i in indices]\n",
    "\n",
    "training_samples = copy.deepcopy(capital_cities.__dict__)\n",
    "training_samples[\"samples\"] = samples\n",
    "training_samples = data.Relation(**training_samples)\n",
    "\n",
    "training_samples.samples"
   ]
  },
  {
   "cell_type": "code",
   "execution_count": 6,
   "metadata": {},
   "outputs": [],
   "source": [
    "from src.operators import JacobianIclMeanEstimator\n",
    "\n",
    "mean_estimator = JacobianIclMeanEstimator(\n",
    "    mt=mt,\n",
    "    h_layer=12,\n",
    "    bias_scale_factor=0.2       # so that the bias doesn't knock out the prediction too much in the direction of training examples\n",
    ") \n",
    "\n",
    "operator = mean_estimator(training_samples)"
   ]
  },
  {
   "cell_type": "code",
   "execution_count": 7,
   "metadata": {},
   "outputs": [
    {
     "data": {
      "text/plain": [
       "[PredictedToken(token=' Washington', prob=0.8437522053718567),\n",
       " PredictedToken(token=' New', prob=0.09615714848041534),\n",
       " PredictedToken(token=' Mexico', prob=0.020473038777709007),\n",
       " PredictedToken(token='Washington', prob=0.01594441942870617),\n",
       " PredictedToken(token=' USA', prob=0.006292895879596472),\n",
       " PredictedToken(token=' America', prob=0.005340711213648319),\n",
       " PredictedToken(token=' American', prob=0.0009136880398727953),\n",
       " PredictedToken(token=' Los', prob=0.0008063268614932895),\n",
       " PredictedToken(token=' United', prob=0.0005807754350826144),\n",
       " PredictedToken(token=' NYC', prob=0.0004967635031789541)]"
      ]
     },
     "execution_count": 7,
     "metadata": {},
     "output_type": "execute_result"
    }
   ],
   "source": [
    "operator(\"United States\", k = 10).predictions"
   ]
  },
  {
   "cell_type": "code",
   "execution_count": 8,
   "metadata": {},
   "outputs": [
    {
     "data": {
      "text/plain": [
       "[0.6190476190476191,\n",
       " 0.8095238095238095,\n",
       " 0.9047619047619048,\n",
       " 0.9523809523809523,\n",
       " 1.0]"
      ]
     },
     "execution_count": 8,
     "metadata": {},
     "output_type": "execute_result"
    }
   ],
   "source": [
    "test_samples = list(set(capital_cities.samples) - set(training_samples.samples))\n",
    "\n",
    "predictions = []\n",
    "target = []\n",
    "\n",
    "for sample in test_samples:\n",
    "    cur_predictions = operator(sample.subject, k = 5).predictions\n",
    "    predictions.append([\n",
    "        p.token for p in cur_predictions\n",
    "    ])\n",
    "    target.append(sample.object)\n",
    "\n",
    "recall(predictions, target)"
   ]
  },
  {
   "cell_type": "code",
   "execution_count": 9,
   "metadata": {},
   "outputs": [],
   "source": [
    "from attributelens.attributelens import Attribute_Lens\n",
    "import attributelens.utils as lens_utils"
   ]
  },
  {
   "cell_type": "code",
   "execution_count": 18,
   "metadata": {},
   "outputs": [
    {
     "name": "stdout",
     "output_type": "stream",
     "text": [
      "subject  :  People's Republic of China\n",
      "prompt_template :  The capital city of {} is\n",
      "subject mapping:  4 9  >>  [' People', \"'s\", ' Republic', ' of', ' China']\n"
     ]
    }
   ],
   "source": [
    "lens = Attribute_Lens(mt=mt, top_k=10)\n",
    "att_info = lens.apply_attribute_lens(\n",
    "    subject=\"People's Republic of China\",\n",
    "    relation_operator=operator\n",
    ")"
   ]
  },
  {
   "cell_type": "code",
   "execution_count": 22,
   "metadata": {},
   "outputs": [
    {
     "name": "stdout",
     "output_type": "stream",
     "text": [
      "must_have_layers:  [15, 25]\n",
      "expected_answers:  [' Seattle', ' Washington']\n"
     ]
    },
    {
     "data": {
      "application/vnd.plotly.v1+json": {
       "config": {
        "plotlyServerURL": "https://plot.ly"
       },
       "data": [
        {
         "colorscale": [
          [
           0,
           "rgb(247,251,255)"
          ],
          [
           0.125,
           "rgb(222,235,247)"
          ],
          [
           0.25,
           "rgb(198,219,239)"
          ],
          [
           0.375,
           "rgb(158,202,225)"
          ],
          [
           0.5,
           "rgb(107,174,214)"
          ],
          [
           0.625,
           "rgb(66,146,198)"
          ],
          [
           0.75,
           "rgb(33,113,181)"
          ],
          [
           0.875,
           "rgb(8,81,156)"
          ],
          [
           1,
           "rgb(8,48,107)"
          ]
         ],
         "customdata": [
          [
           [
            " New",
            "0.1671",
            "' New': 0.16714 <br>   '\n': 0.146353 <br>   ' Mexico': 0.126164 <br>   ' the': 0.049406 <br>   ' ': 0.034762 <br>   ' Islamabad': 0.027715 <br>   '...': 0.026862 <br>   ' Delhi': 0.023705 <br>   ' Madrid': 0.022269 <br>   ' Lima': 0.021084 "
           ],
           [
            " Mexico",
            "0.2006",
            "' Mexico': 0.200592 <br>   '\n': 0.124551 <br>   ' Islamabad': 0.073794 <br>   ' the': 0.07265 <br>   ' New': 0.041719 <br>   ' ': 0.029125 <br>   '...': 0.021142 <br>   ' Madrid': 0.020174 <br>   '...': 0.016466 <br>   ':': 0.014418 "
           ],
           [
            " Mexico",
            "0.1832",
            "' Mexico': 0.183215 <br>   ' Islamabad': 0.15918 <br>   '\n': 0.134043 <br>   ' New': 0.046324 <br>   ' Delhi': 0.031101 <br>   ' the': 0.025783 <br>   ' ': 0.023112 <br>   ' Madrid': 0.019311 <br>   ' Ankara': 0.017583 <br>   ' Washington': 0.016647 "
           ],
           [
            "\n",
            "0.1591",
            "'\n': 0.159095 <br>   ' Mexico': 0.119157 <br>   ' the': 0.071152 <br>   ' Islamabad': 0.048521 <br>   ' New': 0.046663 <br>   ' ': 0.045227 <br>   '...': 0.039913 <br>   ' Madrid': 0.030128 <br>   '...': 0.022215 <br>   ' (': 0.014683 "
           ],
           [
            " Beijing",
            "0.8765",
            "' Beijing': 0.876521 <br>   ' Mexico': 0.023912 <br>   '\n': 0.0127 <br>   ' New': 0.007466 <br>   ' Islamabad': 0.005462 <br>   ' Tokyo': 0.003472 <br>   ' the': 0.0026 <br>   ' Manila': 0.00256 <br>   ' Tai': 0.00254 <br>   ' China': 0.002368 "
           ]
          ],
          [
           [
            " New",
            "0.2201",
            "' New': 0.220069 <br>   ' Mexico': 0.103953 <br>   ' Delhi': 0.082234 <br>   '\n': 0.077858 <br>   ' Islamabad': 0.069248 <br>   ' Lima': 0.04135 <br>   ' the': 0.037945 <br>   ' ': 0.022482 <br>   ' Madrid': 0.015572 <br>   '...': 0.015451 "
           ],
           [
            " Islamabad",
            "0.1952",
            "' Islamabad': 0.195236 <br>   ' Mexico': 0.125073 <br>   '\n': 0.118416 <br>   ' the': 0.058164 <br>   ' ': 0.023871 <br>   ' New': 0.023685 <br>   ':': 0.018302 <br>   ' The': 0.015055 <br>   ' Madrid': 0.014822 <br>   '...': 0.014706 "
           ],
           [
            " Islamabad",
            "0.3385",
            "' Islamabad': 0.338541 <br>   ' Mexico': 0.143347 <br>   '\n': 0.105698 <br>   ' Paris': 0.038281 <br>   ' Madrid': 0.025302 <br>   ' Tehran': 0.021812 <br>   ' Santiago': 0.018512 <br>   ' Delhi': 0.015711 <br>   ' ': 0.012923 <br>   ' Manila': 0.011675 "
           ],
           [
            " Islamabad",
            "0.1569",
            "' Islamabad': 0.15688 <br>   ' Mexico': 0.146228 <br>   '\n': 0.098173 <br>   ' New': 0.054216 <br>   ' the': 0.046737 <br>   ' ': 0.030176 <br>   ' Madrid': 0.027262 <br>   ' Delhi': 0.016279 <br>   '...': 0.016152 <br>   ' The': 0.012481 "
           ],
           [
            " Beijing",
            "0.977",
            "' Beijing': 0.976954 <br>   ' Mexico': 0.003134 <br>   '\n': 0.001457 <br>   ' Tai': 0.001435 <br>   ' Manila': 0.001171 <br>   ' China': 0.001153 <br>   ' New': 0.001083 <br>   ' Shanghai': 0.001066 <br>   ' Islamabad': 0.000986 <br>   ' Tokyo': 0.000774 "
           ]
          ],
          [
           [
            " New",
            "0.1327",
            "' New': 0.132674 <br>   '\n': 0.117085 <br>   ' Mexico': 0.077995 <br>   ' Lima': 0.075007 <br>   ' Islamabad': 0.070463 <br>   ' Delhi': 0.055307 <br>   ' the': 0.032513 <br>   ' Beijing': 0.032009 <br>   ' ': 0.022876 <br>   ' Los': 0.017816 "
           ],
           [
            "\n",
            "0.1447",
            "'\n': 0.144657 <br>   ' Mexico': 0.084377 <br>   ' Islamabad': 0.064694 <br>   ' the': 0.049992 <br>   ' ': 0.045875 <br>   ' New': 0.024175 <br>   '...': 0.022184 <br>   ' Beijing': 0.020199 <br>   '...': 0.019274 <br>   ':': 0.017549 "
           ],
           [
            " Beijing",
            "0.2931",
            "' Beijing': 0.293058 <br>   ' Islamabad': 0.204587 <br>   '\n': 0.085954 <br>   ' Mexico': 0.055064 <br>   ' Paris': 0.020416 <br>   ' Lima': 0.017192 <br>   ' Delhi': 0.017192 <br>   ' Manila': 0.013181 <br>   ' ': 0.012578 <br>   ' the': 0.012578 "
           ],
           [
            " Mexico",
            "0.1731",
            "' Mexico': 0.173121 <br>   ' Islamabad': 0.113535 <br>   '\n': 0.099415 <br>   ' ': 0.033041 <br>   ' the': 0.031528 <br>   ' New': 0.03032 <br>   '...': 0.026757 <br>   ' Madrid': 0.019424 <br>   ' Delhi': 0.018534 <br>   ' The': 0.01839 "
           ],
           [
            " Beijing",
            "0.9931",
            "' Beijing': 0.993131 <br>   ' China': 0.002462 <br>   ' Shanghai': 0.000775 <br>   ' Tai': 0.000481 <br>   ' Mexico': 0.000346 <br>   ' Chinese': 0.000336 <br>   '\n': 0.000196 <br>   ' New': 0.000184 <br>   ' Manila': 0.000136 <br>   ' Xi': 9.9e-05 "
           ]
          ],
          [
           [
            " Lima",
            "0.1444",
            "' Lima': 0.144391 <br>   '\n': 0.117848 <br>   ' Mexico': 0.073748 <br>   ' New': 0.056104 <br>   ' Islamabad': 0.055668 <br>   ' the': 0.040727 <br>   ' Delhi': 0.040096 <br>   ' ': 0.034029 <br>   ' also': 0.030503 <br>   ' Beijing': 0.027343 "
           ],
           [
            "\n",
            "0.1449",
            "'\n': 0.144856 <br>   ' Islamabad': 0.119155 <br>   ' Mexico': 0.067364 <br>   ' ': 0.039601 <br>   ' the': 0.038084 <br>   ' Beijing': 0.026587 <br>   ' also': 0.022741 <br>   ' Ch': 0.016508 <br>   '...': 0.01563 <br>   ' Car': 0.013369 "
           ],
           [
            " Beijing",
            "0.7493",
            "' Beijing': 0.749293 <br>   ' Islamabad': 0.028159 <br>   '\n': 0.027507 <br>   ' Tehran': 0.013198 <br>   ' Pyongyang': 0.013095 <br>   ' Moscow': 0.010942 <br>   ' Republic': 0.009286 <br>   ' China': 0.007881 <br>   ' Chong': 0.006955 <br>   ' Mexico': 0.006636 "
           ],
           [
            "\n",
            "0.1108",
            "'\n': 0.110818 <br>   ' Mexico': 0.09405 <br>   ' ': 0.055723 <br>   ' the': 0.049949 <br>   ' Islamabad': 0.030296 <br>   ' The': 0.025116 <br>   ' (': 0.020499 <br>   ' –': 0.019869 <br>   '...': 0.019257 <br>   ' also': 0.017262 "
           ],
           [
            " Beijing",
            "0.9933",
            "' Beijing': 0.993264 <br>   ' China': 0.003472 <br>   ' Chinese': 0.000562 <br>   ' Shanghai': 0.000558 <br>   ' Tai': 0.000459 <br>   ' Mexico': 0.000236 <br>   '\n': 0.000109 <br>   ' Tokyo': 6.6e-05 <br>   ' Chong': 5.7e-05 <br>   ' New': 5.3e-05 "
           ]
          ],
          [
           [
            " Lima",
            "0.3412",
            "' Lima': 0.341234 <br>   ' Mexico': 0.08105 <br>   ' Delhi': 0.08042 <br>   ' New': 0.073797 <br>   ' Beijing': 0.040437 <br>   '\n': 0.028451 <br>   ' Islamabad': 0.020979 <br>   ' Ch': 0.016857 <br>   ' L': 0.01559 <br>   ' the': 0.012824 "
           ],
           [
            "\n",
            "0.0989",
            "'\n': 0.098887 <br>   ' Mexico': 0.070121 <br>   ' Lima': 0.044225 <br>   ' Ch': 0.042531 <br>   ' ': 0.036664 <br>   ' Beijing': 0.033383 <br>   ' also': 0.028332 <br>   ' the': 0.027675 <br>   ' L': 0.024423 <br>   '...': 0.024233 "
           ],
           [
            " Beijing",
            "0.6932",
            "' Beijing': 0.693203 <br>   ' China': 0.036738 <br>   ' Tehran': 0.029062 <br>   '\n': 0.021597 <br>   ' Mexico': 0.018618 <br>   ' Chong': 0.015925 <br>   ' Moscow': 0.014844 <br>   ' P': 0.010945 <br>   ' Republic': 0.010775 <br>   ' Havana': 0.010775 "
           ],
           [
            "\n",
            "0.1013",
            "'\n': 0.101325 <br>   ' Mexico': 0.099754 <br>   ' the': 0.035017 <br>   ' Moscow': 0.034744 <br>   ' ': 0.026432 <br>   ' Republic': 0.021913 <br>   '...': 0.01889 <br>   ' also': 0.016933 <br>   ' (': 0.016412 <br>   ' here': 0.014259 "
           ],
           [
            " Beijing",
            "0.9931",
            "' Beijing': 0.993147 <br>   ' China': 0.004528 <br>   ' Shanghai': 0.000838 <br>   ' Chinese': 0.000431 <br>   ' Mexico': 0.000121 <br>   ' Tai': 9.9e-05 <br>   ' New': 5.8e-05 <br>   ' Chong': 5.4e-05 <br>   ' Mandarin': 4.1e-05 <br>   ' Tian': 3.5e-05 "
           ]
          ],
          [
           [
            " Lima",
            "0.446",
            "' Lima': 0.445962 <br>   ' Beijing': 0.058497 <br>   ' Ch': 0.043813 <br>   ' Delhi': 0.042798 <br>   ' New': 0.034389 <br>   ' Mexico': 0.025556 <br>   ' Republic': 0.021022 <br>   ' Islamabad': 0.014224 <br>   ' Peru': 0.014113 <br>   '\n': 0.011978 "
           ],
           [
            " Beijing",
            "0.2246",
            "' Beijing': 0.224555 <br>   ' Ch': 0.081328 <br>   ' Republic': 0.060438 <br>   ' Bangladesh': 0.040261 <br>   '\n': 0.03235 <br>   ' Dh': 0.020403 <br>   ' today': 0.016652 <br>   ' ': 0.015401 <br>   '...': 0.013277 <br>   ' L': 0.01257 "
           ],
           [
            " Beijing",
            "0.9064",
            "' Beijing': 0.906361 <br>   ' China': 0.04045 <br>   ' Tehran': 0.015595 <br>   ' Chong': 0.012728 <br>   ' Moscow': 0.003047 <br>   ' Pyongyang': 0.002487 <br>   ' Republic': 0.002195 <br>   ' Lima': 0.001184 <br>   ' Communist': 0.00113 <br>   '\n': 0.000929 "
           ],
           [
            " Mexico",
            "0.1399",
            "' Mexico': 0.139905 <br>   ' Moscow': 0.059704 <br>   '\n': 0.057417 <br>   ' Republic': 0.048729 <br>   ' ': 0.020958 <br>   ' Russia': 0.020313 <br>   ' Lima': 0.019083 <br>   ' –': 0.018352 <br>   '...': 0.016322 <br>   ' Ch': 0.016195 "
           ],
           [
            " Beijing",
            "0.9881",
            "' Beijing': 0.988106 <br>   ' China': 0.009995 <br>   ' Chinese': 0.001121 <br>   ' Shanghai': 0.000521 <br>   ' Chong': 6.6e-05 <br>   ' Cheng': 4.5e-05 <br>   ' Tai': 2.5e-05 <br>   ' Mandarin': 2.3e-05 <br>   ' Tian': 1.9e-05 <br>   ' Taiwan': 1.3e-05 "
           ]
          ],
          [
           [
            " Lima",
            "0.4685",
            "' Lima': 0.468498 <br>   ' Beijing': 0.180622 <br>   ' Republic': 0.031882 <br>   ' Delhi': 0.023878 <br>   ' Pe': 0.019337 <br>   ' Ch': 0.019037 <br>   ' New': 0.013712 <br>   ' L': 0.011729 <br>   ' Car': 0.01019 <br>   '\n': 0.008317 "
           ],
           [
            " Beijing",
            "0.3951",
            "' Beijing': 0.395106 <br>   ' Republic': 0.074821 <br>   ' today': 0.046096 <br>   ' Ch': 0.038215 <br>   ' China': 0.034795 <br>   ' Chong': 0.022117 <br>   '\n': 0.013207 <br>   '...': 0.012406 <br>   ' Bangladesh': 0.011385 <br>   ' Communist': 0.010366 "
           ],
           [
            " Beijing",
            "0.8041",
            "' Beijing': 0.804066 <br>   ' China': 0.123308 <br>   ' Tehran': 0.01891 <br>   ' Chong': 0.010691 <br>   ' Republic': 0.006638 <br>   ' Moscow': 0.00595 <br>   ' Communist': 0.003417 <br>   ' Pyongyang': 0.002811 <br>   ' Chinese': 0.001902 <br>   ' Russia': 0.001872 "
           ],
           [
            " Moscow",
            "0.0814",
            "' Moscow': 0.081381 <br>   ' Russia': 0.078877 <br>   ' Republic': 0.073522 <br>   ' Mexico': 0.058617 <br>   '\n': 0.033925 <br>   ' today': 0.029474 <br>   ' Havana': 0.019179 <br>   ' Venezuela': 0.017058 <br>   '...': 0.014591 <br>   ' the': 0.014365 "
           ],
           [
            " Beijing",
            "0.9653",
            "' Beijing': 0.965287 <br>   ' China': 0.030074 <br>   ' Chinese': 0.003481 <br>   ' Shanghai': 0.001013 <br>   'China': 3.9e-05 <br>   ' Mandarin': 2.6e-05 <br>   ' Chong': 2.3e-05 <br>   ' Cheng': 1.6e-05 <br>   ' Tian': 9e-06 <br>   'Chinese': 6e-06 "
           ]
          ],
          [
           [
            " Lima",
            "0.2971",
            "' Lima': 0.297106 <br>   ' Beijing': 0.274778 <br>   ' Pe': 0.050829 <br>   ' Republic': 0.042469 <br>   ' L': 0.033596 <br>   ' Ch': 0.02829 <br>   ' Car': 0.010489 <br>   ' ': 0.009113 <br>   '\n': 0.007323 <br>   ' Communist': 0.007323 "
           ],
           [
            " Beijing",
            "0.2723",
            "' Beijing': 0.272322 <br>   ' Communist': 0.096344 <br>   ' China': 0.043426 <br>   ' Republic': 0.041437 <br>   ' today': 0.035721 <br>   ' Marxist': 0.02436 <br>   ' Ch': 0.021497 <br>   ' Soviet': 0.019573 <br>   ' Peoples': 0.016873 <br>   ' Chong': 0.016227 "
           ],
           [
            " Beijing",
            "0.7862",
            "' Beijing': 0.786188 <br>   ' China': 0.103125 <br>   ' Tehran': 0.039758 <br>   ' Chong': 0.011391 <br>   ' Republic': 0.007708 <br>   ' Communist': 0.007648 <br>   ' Pyongyang': 0.005728 <br>   ' Mao': 0.005297 <br>   ' Moscow': 0.00288 <br>   ' Chinese': 0.002463 "
           ],
           [
            " today",
            "0.0848",
            "' today': 0.084764 <br>   ' Republic': 0.077783 <br>   ' Havana': 0.034787 <br>   ' Moscow': 0.033194 <br>   ' Russia': 0.020133 <br>   '\n': 0.019362 <br>   ' now': 0.019211 <br>   ' Ch': 0.019062 <br>   ' here': 0.017221 <br>   ' Venezuela': 0.015803 "
           ],
           [
            " Beijing",
            "0.9678",
            "' Beijing': 0.967779 <br>   ' China': 0.028325 <br>   ' Chinese': 0.003228 <br>   ' Shanghai': 0.000495 <br>   'China': 4.2e-05 <br>   ' Mandarin': 3.2e-05 <br>   ' Chong': 2.8e-05 <br>   ' Cheng': 2.6e-05 <br>   ' Tian': 1.1e-05 <br>   'Chinese': 7e-06 "
           ]
          ],
          [
           [
            " Beijing",
            "0.5869",
            "' Beijing': 0.586895 <br>   ' Lima': 0.170796 <br>   ' Pe': 0.045256 <br>   ' Ch': 0.021378 <br>   ' Republic': 0.01402 <br>   ' L': 0.011443 <br>   ' Petr': 0.00678 <br>   ' Car': 0.005405 <br>   ' New': 0.004412 <br>   ' Communist': 0.003803 "
           ],
           [
            " Beijing",
            "0.5201",
            "' Beijing': 0.520139 <br>   ' China': 0.085576 <br>   ' Communist': 0.063595 <br>   ' Ch': 0.021302 <br>   ' Chong': 0.018652 <br>   ' Peoples': 0.018363 <br>   ' Republic': 0.01659 <br>   ' today': 0.015105 <br>   ' Soviet': 0.011856 <br>   ' P': 0.007191 "
           ],
           [
            " Beijing",
            "0.8132",
            "' Beijing': 0.81323 <br>   ' China': 0.145804 <br>   ' Tehran': 0.012941 <br>   ' Chong': 0.008487 <br>   ' Mao': 0.002528 <br>   ' Chinese': 0.002249 <br>   ' Pyongyang': 0.002 <br>   ' Republic': 0.001879 <br>   ' Communist': 0.001779 <br>   ' Moscow': 0.000888 "
           ],
           [
            " Republic",
            "0.0922",
            "' Republic': 0.092233 <br>   ' today': 0.082034 <br>   ' Venezuela': 0.070717 <br>   ' Russia': 0.032377 <br>   ' Havana': 0.023873 <br>   ' Moscow': 0.021907 <br>   ' Mexico': 0.021737 <br>   ' Argentina': 0.021568 <br>   ' now': 0.0214 <br>   ' Peru': 0.019183 "
           ],
           [
            " Beijing",
            "0.9512",
            "' Beijing': 0.951151 <br>   ' China': 0.044486 <br>   ' Chinese': 0.003768 <br>   ' Shanghai': 0.000397 <br>   'China': 6e-05 <br>   ' Mandarin': 5.1e-05 <br>   ' Cheng': 2.8e-05 <br>   ' Chong': 2e-05 <br>   ' Tian': 1e-05 <br>   'Chinese': 8e-06 "
           ]
          ],
          [
           [
            " Beijing",
            "0.6235",
            "' Beijing': 0.623539 <br>   ' Lima': 0.109205 <br>   ' Pe': 0.038635 <br>   ' Ch': 0.038036 <br>   ' Republic': 0.018537 <br>   ' L': 0.013043 <br>   ' New': 0.007788 <br>   ' Petr': 0.006662 <br>   ' Delhi': 0.00527 <br>   ' Chou': 0.004724 "
           ],
           [
            " Beijing",
            "0.5917",
            "' Beijing': 0.591738 <br>   ' China': 0.082625 <br>   ' Communist': 0.052932 <br>   ' Ch': 0.019934 <br>   ' today': 0.017319 <br>   ' Peoples': 0.013916 <br>   ' Republic': 0.012971 <br>   ' Soviet': 0.011719 <br>   ' P': 0.009343 <br>   ' Chong': 0.00927 "
           ],
           [
            " Beijing",
            "0.8154",
            "' Beijing': 0.815369 <br>   ' China': 0.121194 <br>   ' Tehran': 0.032113 <br>   ' Chong': 0.006323 <br>   ' Republic': 0.003465 <br>   ' Mao': 0.003034 <br>   ' Chinese': 0.002381 <br>   ' Pyongyang': 0.002185 <br>   ' Communist': 0.00165 <br>   ' Peoples': 0.001188 "
           ],
           [
            " today",
            "0.1284",
            "' today': 0.128379 <br>   ' Republic': 0.115981 <br>   ' Havana': 0.026082 <br>   ' Venezuela': 0.025083 <br>   '\n': 0.021454 <br>   ' now': 0.020957 <br>   ' President': 0.018933 <br>   ' Russia': 0.01751 <br>   ' Moscow': 0.017374 <br>   ' Argentina': 0.015574 "
           ],
           [
            " Beijing",
            "0.9599",
            "' Beijing': 0.959935 <br>   ' China': 0.035516 <br>   ' Chinese': 0.003985 <br>   ' Shanghai': 0.000371 <br>   'China': 6e-05 <br>   ' Mandarin': 4.8e-05 <br>   ' Cheng': 2.9e-05 <br>   ' Chong': 1.9e-05 <br>   'Chinese': 1e-05 <br>   ' Tian': 7e-06 "
           ]
          ],
          [
           [
            " Beijing",
            "0.3687",
            "' Beijing': 0.368704 <br>   ' Lima': 0.142148 <br>   ' Ch': 0.08422 <br>   ' Pe': 0.047243 <br>   ' New': 0.029334 <br>   ' Delhi': 0.029106 <br>   ' Petr': 0.025486 <br>   ' L': 0.013749 <br>   ' Nepal': 0.012421 <br>   ' Republic': 0.011668 "
           ],
           [
            " Beijing",
            "0.2918",
            "' Beijing': 0.291837 <br>   ' Communist': 0.146745 <br>   ' China': 0.062623 <br>   ' Ch': 0.034048 <br>   ' Soviet': 0.028007 <br>   ' Lenin': 0.026105 <br>   ' today': 0.025105 <br>   ' Peoples': 0.022504 <br>   ' Chong': 0.021983 <br>   ' P': 0.021306 "
           ],
           [
            " Beijing",
            "0.7402",
            "' Beijing': 0.740216 <br>   ' China': 0.118963 <br>   ' Tehran': 0.078018 <br>   ' Chong': 0.010234 <br>   ' Mao': 0.007429 <br>   ' Republic': 0.006711 <br>   ' Pyongyang': 0.004722 <br>   ' Moscow': 0.003678 <br>   ' Communist': 0.003678 <br>   ' Chinese': 0.00282 "
           ],
           [
            " today",
            "0.1405",
            "' today': 0.140511 <br>   ' Republic': 0.096572 <br>   ' Havana': 0.074044 <br>   ' Moscow': 0.039633 <br>   ' President': 0.024227 <br>   ' Lima': 0.022232 <br>   ' Pret': 0.020085 <br>   ' now': 0.01718 <br>   ' Car': 0.014695 <br>   '\n': 0.014242 "
           ],
           [
            " Beijing",
            "0.959",
            "' Beijing': 0.958959 <br>   ' China': 0.032305 <br>   ' Chinese': 0.007917 <br>   ' Shanghai': 0.000583 <br>   ' Mandarin': 8.5e-05 <br>   'China': 4.9e-05 <br>   ' Cheng': 3.6e-05 <br>   ' Chong': 2.4e-05 <br>   'Chinese': 1.5e-05 <br>   ' Tian': 1e-05 "
           ]
          ],
          [
           [
            " Lima",
            "0.3109",
            "' Lima': 0.31087 <br>   ' Ch': 0.066707 <br>   ' Beijing': 0.065673 <br>   ' Pe': 0.054021 <br>   ' Delhi': 0.033806 <br>   ' Ja': 0.033806 <br>   ' New': 0.030541 <br>   ' Petr': 0.027591 <br>   ' Chand': 0.02416 <br>   ' Nepal': 0.02416 "
           ],
           [
            " Communist",
            "0.1093",
            "' Communist': 0.109254 <br>   ' today': 0.066266 <br>   ' Lenin': 0.055802 <br>   ' Ch': 0.050808 <br>   ' Marxist': 0.04519 <br>   '\n': 0.041794 <br>   ' Soviet': 0.039569 <br>   ' Marxism': 0.028501 <br>   ' P': 0.022546 <br>   ' Bolshe': 0.022196 "
           ],
           [
            " Beijing",
            "0.4345",
            "' Beijing': 0.434532 <br>   ' Tehran': 0.322917 <br>   ' China': 0.116953 <br>   ' Mao': 0.016849 <br>   ' Republic': 0.012619 <br>   ' Chong': 0.007774 <br>   ' Peoples': 0.007303 <br>   ' Communist': 0.006598 <br>   ' Petro': 0.004395 <br>   ' Chinese': 0.00373 "
           ],
           [
            " today",
            "0.0582",
            "' today': 0.058214 <br>   ' Republic': 0.057312 <br>   ' Russia': 0.05342 <br>   ' Moscow': 0.044984 <br>   ' Havana': 0.035586 <br>   ' Venezuela': 0.029044 <br>   ' Pret': 0.026035 <br>   ' Lima': 0.020276 <br>   ' now': 0.020118 <br>   ' Peru': 0.018175 "
           ],
           [
            " Beijing",
            "0.925",
            "' Beijing': 0.924972 <br>   ' China': 0.046777 <br>   ' Chinese': 0.026653 <br>   ' Shanghai': 0.000971 <br>   ' Mandarin': 0.000234 <br>   ' Cheng': 0.000177 <br>   'China': 7.1e-05 <br>   ' Chong': 3.8e-05 <br>   'Chinese': 3.5e-05 <br>   ' Tian': 1.5e-05 "
           ]
          ],
          [
           [
            " Lima",
            "0.2672",
            "' Lima': 0.267228 <br>   ' Delhi': 0.075375 <br>   ' Chand': 0.062488 <br>   ' New': 0.04982 <br>   ' Ch': 0.04982 <br>   ' Nepal': 0.038198 <br>   ' Pe': 0.03478 <br>   ' Chou': 0.032929 <br>   ' Ja': 0.017488 <br>   ' Beijing': 0.014842 "
           ],
           [
            " Republic",
            "0.0665",
            "' Republic': 0.066525 <br>   ' today': 0.053455 <br>   ' Communist': 0.052216 <br>   '\n': 0.043289 <br>   ' Lenin': 0.038804 <br>   ' Marxist': 0.031424 <br>   ' Tehran': 0.022812 <br>   ' Ch': 0.021938 <br>   ' Soviet': 0.020609 <br>   ' Dh': 0.020448 "
           ],
           [
            " Tehran",
            "0.5225",
            "' Tehran': 0.522486 <br>   ' Beijing': 0.231852 <br>   ' China': 0.077661 <br>   ' Republic': 0.023501 <br>   ' Mao': 0.012579 <br>   ' Iran': 0.008713 <br>   ' Chong': 0.007934 <br>   ' Communist': 0.007056 <br>   ' Peoples': 0.007056 <br>   ' Petro': 0.003927 "
           ],
           [
            " Republic",
            "0.0455",
            "' Republic': 0.045487 <br>   ' today': 0.03302 <br>   ' President': 0.032255 <br>   ' Havana': 0.030065 <br>   ' Russia': 0.030065 <br>   ' Moscow': 0.026326 <br>   '\n': 0.023783 <br>   ' Tehran': 0.0174 <br>   ' Venezuela': 0.016865 <br>   ' Pakistan': 0.015967 "
           ],
           [
            " Beijing",
            "0.8798",
            "' Beijing': 0.879782 <br>   ' China': 0.074509 <br>   ' Chinese': 0.043802 <br>   ' Shanghai': 0.000983 <br>   ' Cheng': 0.000314 <br>   ' Mandarin': 0.000249 <br>   ' Chong': 7.6e-05 <br>   'China': 6.9e-05 <br>   ' Tian': 3.9e-05 <br>   'Chinese': 3.9e-05 "
           ]
          ],
          [
           [
            " Lima",
            "0.1786",
            "' Lima': 0.178567 <br>   ' Chand': 0.092639 <br>   ' Chou': 0.073859 <br>   ' Ja': 0.036849 <br>   ' Nepal': 0.033815 <br>   ' Delhi': 0.033291 <br>   ' Ch': 0.024356 <br>   ' Pe': 0.018821 <br>   ' Beijing': 0.013986 <br>   ' Peru': 0.01244 "
           ],
           [
            " Republic",
            "0.0524",
            "' Republic': 0.052415 <br>   ' today': 0.049626 <br>   ' Dh': 0.0301 <br>   ' Soviet': 0.026563 <br>   ' Lenin': 0.024954 <br>   '\n': 0.024759 <br>   ' Peoples': 0.01742 <br>   ' USSR': 0.016111 <br>   ' Syl': 0.015738 <br>   ' Communist': 0.013998 "
           ],
           [
            " Beijing",
            "0.3576",
            "' Beijing': 0.357578 <br>   ' China': 0.24576 <br>   ' Tehran': 0.161173 <br>   ' Mao': 0.023401 <br>   ' Chong': 0.021983 <br>   ' Republic': 0.012923 <br>   ' Chinese': 0.011141 <br>   ' Peoples': 0.008151 <br>   ' Iran': 0.005825 <br>   ' Dh': 0.005558 "
           ],
           [
            " Tehran",
            "0.0415",
            "' Tehran': 0.041489 <br>   ' Peru': 0.031317 <br>   ' Moscow': 0.028073 <br>   ' today': 0.027209 <br>   ' Pret': 0.026167 <br>   ' Russia': 0.024012 <br>   ' Republic': 0.021693 <br>   ' Argentina': 0.019598 <br>   ' Lima': 0.018995 <br>   ' Ch': 0.016894 "
           ],
           [
            " Beijing",
            "0.6975",
            "' Beijing': 0.697491 <br>   ' China': 0.209425 <br>   ' Chinese': 0.084615 <br>   ' Cheng': 0.002636 <br>   ' Shanghai': 0.002085 <br>   ' Mandarin': 0.001285 <br>   ' Chong': 0.000738 <br>   'China': 0.000354 <br>   'Chinese': 0.000161 <br>   ' Tibetan': 0.000131 "
           ]
          ],
          [
           [
            " Lima",
            "0.1917",
            "' Lima': 0.191716 <br>   ' Chou': 0.075666 <br>   ' Chand': 0.059857 <br>   ' Nepal': 0.054928 <br>   ' Peru': 0.025744 <br>   ' Luk': 0.021176 <br>   ' Ja': 0.018543 <br>   ' Ch': 0.015372 <br>   ' Beijing': 0.010901 <br>   ' Chu': 0.009037 "
           ],
           [
            " Dh",
            "0.0648",
            "' Dh': 0.064756 <br>   ' Republic': 0.03035 <br>   ' today': 0.02807 <br>   '\n': 0.020859 <br>   ' Marxist': 0.017842 <br>   ' Syl': 0.016373 <br>   ' Lenin': 0.016245 <br>   ' Soviet': 0.014225 <br>   ' the': 0.013259 <br>   ' Bangladesh': 0.012652 "
           ],
           [
            " Beijing",
            "0.4484",
            "' Beijing': 0.448404 <br>   ' China': 0.194369 <br>   ' Tehran': 0.105676 <br>   ' Mao': 0.043032 <br>   ' Chong': 0.029807 <br>   ' Chinese': 0.011582 <br>   ' Dh': 0.008811 <br>   ' Republic': 0.007837 <br>   ' Peoples': 0.005869 <br>   ' Kyr': 0.003702 "
           ],
           [
            " Tehran",
            "0.038",
            "' Tehran': 0.03797 <br>   ' Argentina': 0.031478 <br>   ' Peru': 0.026301 <br>   ' Pret': 0.024135 <br>   ' Havana': 0.022496 <br>   ' Moscow': 0.020166 <br>   ' Ch': 0.016718 <br>   ' Russia': 0.016588 <br>   ' Poland': 0.016331 <br>   '\n': 0.015222 "
           ],
           [
            " Beijing",
            "0.6935",
            "' Beijing': 0.693528 <br>   ' China': 0.232303 <br>   ' Chinese': 0.065524 <br>   ' Cheng': 0.002368 <br>   ' Shanghai': 0.001505 <br>   ' Mandarin': 0.001328 <br>   ' Chong': 0.00111 <br>   'China': 0.000481 <br>   'Chinese': 0.000135 <br>   ' Tibetan': 0.000124 "
           ]
          ],
          [
           [
            " Chou",
            "0.0833",
            "' Chou': 0.083251 <br>   ' Lima': 0.082603 <br>   ' Nepal': 0.052097 <br>   ' Chand': 0.051692 <br>   ' Luk': 0.021381 <br>   ' Peru': 0.017587 <br>   ' Ja': 0.016522 <br>   ' China': 0.014467 <br>   ' Liu': 0.014354 <br>   ' Ch': 0.012278 "
           ],
           [
            " today",
            "0.0329",
            "' today': 0.03287 <br>   ' Republic': 0.03287 <br>   ' Dh': 0.0254 <br>   ' Marxist': 0.024618 <br>   ' the': 0.020893 <br>   '\n': 0.014137 <br>   ' Senate': 0.012283 <br>   ' Lenin': 0.010183 <br>   ' Syl': 0.010025 <br>   ' socialism': 0.008916 "
           ],
           [
            " Beijing",
            "0.4312",
            "' Beijing': 0.431157 <br>   ' China': 0.271927 <br>   ' Tehran': 0.079135 <br>   ' Chong': 0.022147 <br>   ' Mao': 0.020969 <br>   ' Nepal': 0.012327 <br>   ' Kyr': 0.010626 <br>   ' Chinese': 0.008606 <br>   ' Dh': 0.004715 <br>   ' Kath': 0.004227 "
           ],
           [
            " Pakistan",
            "0.0417",
            "' Pakistan': 0.041673 <br>   ' Argentina': 0.039455 <br>   ' Tehran': 0.035092 <br>   ' Havana': 0.030251 <br>   ' Peru': 0.024498 <br>   ' Pret': 0.024498 <br>   ' Mexico': 0.019839 <br>   ' Moscow': 0.017923 <br>   ' Venezuela': 0.017784 <br>   ' Russia': 0.017508 "
           ],
           [
            " Beijing",
            "0.7376",
            "' Beijing': 0.737619 <br>   ' China': 0.214659 <br>   ' Chinese': 0.038486 <br>   ' Chong': 0.001857 <br>   ' Cheng': 0.001601 <br>   ' Shanghai': 0.001516 <br>   ' Mandarin': 0.001066 <br>   'China': 0.000473 <br>   ' Tian': 0.000249 <br>   ' Zheng': 0.000224 "
           ]
          ],
          [
           [
            " Lima",
            "0.1006",
            "' Lima': 0.10062 <br>   ' Chou': 0.088106 <br>   ' Beijing': 0.033704 <br>   ' Ch': 0.032667 <br>   ' Pe': 0.024087 <br>   ' Liu': 0.022103 <br>   ' the': 0.013617 <br>   ' New': 0.012594 <br>   ' Luk': 0.010772 <br>   '\n': 0.009963 "
           ],
           [
            " the",
            "0.0925",
            "' the': 0.092486 <br>   '\n': 0.037368 <br>   ' today': 0.029792 <br>   ' Senate': 0.019538 <br>   ' Lenin': 0.017108 <br>   ' Marxist': 0.016975 <br>   ' Republic': 0.016712 <br>   ' Communist': 0.011046 <br>   ' again': 0.010706 <br>   ' Soviet': 0.007956 "
           ],
           [
            " Beijing",
            "0.817",
            "' Beijing': 0.817005 <br>   ' Tehran': 0.063993 <br>   ' China': 0.042297 <br>   ' Chong': 0.009438 <br>   ' Mao': 0.009438 <br>   ' Chinese': 0.003813 <br>   ' Republic': 0.002207 <br>   ' Pyongyang': 0.001917 <br>   ' Dh': 0.001705 <br>   ' communist': 0.001425 "
           ],
           [
            " Havana",
            "0.0512",
            "' Havana': 0.051168 <br>   '\n': 0.044804 <br>   ' Moscow': 0.036283 <br>   ' Islamabad': 0.022529 <br>   ' Tehran': 0.018971 <br>   ' Washington': 0.015605 <br>   ' Ankara': 0.015007 <br>   ' Mexico': 0.013989 <br>   '...': 0.012737 <br>   ' ': 0.011688 "
           ],
           [
            " Beijing",
            "0.9764",
            "' Beijing': 0.976354 <br>   ' China': 0.015296 <br>   ' Chinese': 0.006894 <br>   ' Shanghai': 0.000631 <br>   ' Chong': 0.000197 <br>   ' Mandarin': 0.000157 <br>   ' Cheng': 0.000144 <br>   ' Xi': 3.6e-05 <br>   ' Tian': 3.2e-05 <br>   ' Zheng': 3.1e-05 "
           ]
          ]
         ],
         "hovertemplate": "<b>'%{customdata[0]}': %{customdata[1]}</b><br><br>Top_k:<br>   %{customdata[2]}<extra></extra>",
         "reversescale": false,
         "showscale": false,
         "type": "heatmap",
         "x": [
          0,
          1,
          2,
          3,
          4
         ],
         "y": [
          0,
          1,
          2,
          3,
          4,
          5,
          6,
          7,
          8,
          9,
          10,
          11,
          12,
          13,
          14,
          15,
          16
         ],
         "z": [
          [
           0.1671,
           0.2006,
           0.1832,
           0.1591,
           0.8765
          ],
          [
           0.2201,
           0.1952,
           0.3385,
           0.1569,
           0.977
          ],
          [
           0.1327,
           0.1447,
           0.2931,
           0.1731,
           0.9931
          ],
          [
           0.1444,
           0.1449,
           0.7493,
           0.1108,
           0.9933
          ],
          [
           0.3412,
           0.0989,
           0.6932,
           0.1013,
           0.9931
          ],
          [
           0.446,
           0.2246,
           0.9064,
           0.1399,
           0.9881
          ],
          [
           0.4685,
           0.3951,
           0.8041,
           0.0814,
           0.9653
          ],
          [
           0.2971,
           0.2723,
           0.7862,
           0.0848,
           0.9678
          ],
          [
           0.5869,
           0.5201,
           0.8132,
           0.0922,
           0.9512
          ],
          [
           0.6235,
           0.5917,
           0.8154,
           0.1284,
           0.9599
          ],
          [
           0.3687,
           0.2918,
           0.7402,
           0.1405,
           0.959
          ],
          [
           0.3109,
           0.1093,
           0.4345,
           0.0582,
           0.925
          ],
          [
           0.2672,
           0.0665,
           0.5225,
           0.0455,
           0.8798
          ],
          [
           0.1786,
           0.0524,
           0.3576,
           0.0415,
           0.6975
          ],
          [
           0.1917,
           0.0648,
           0.4484,
           0.038,
           0.6935
          ],
          [
           0.0833,
           0.0329,
           0.4312,
           0.0417,
           0.7376
          ],
          [
           0.1006,
           0.0925,
           0.817,
           0.0512,
           0.9764
          ]
         ]
        }
       ],
       "layout": {
        "annotations": [
         {
          "font": {
           "color": "#000000"
          },
          "showarrow": false,
          "text": " New",
          "x": 0,
          "xref": "x",
          "y": 0,
          "yref": "y"
         },
         {
          "font": {
           "color": "#000000"
          },
          "showarrow": false,
          "text": " Mexico",
          "x": 1,
          "xref": "x",
          "y": 0,
          "yref": "y"
         },
         {
          "font": {
           "color": "#000000"
          },
          "showarrow": false,
          "text": " Mexico",
          "x": 2,
          "xref": "x",
          "y": 0,
          "yref": "y"
         },
         {
          "font": {
           "color": "#000000"
          },
          "showarrow": false,
          "text": "\n",
          "x": 3,
          "xref": "x",
          "y": 0,
          "yref": "y"
         },
         {
          "font": {
           "color": "#FFFFFF"
          },
          "showarrow": false,
          "text": " Beijing",
          "x": 4,
          "xref": "x",
          "y": 0,
          "yref": "y"
         },
         {
          "font": {
           "color": "#000000"
          },
          "showarrow": false,
          "text": " New",
          "x": 0,
          "xref": "x",
          "y": 1,
          "yref": "y"
         },
         {
          "font": {
           "color": "#000000"
          },
          "showarrow": false,
          "text": " Islamabad",
          "x": 1,
          "xref": "x",
          "y": 1,
          "yref": "y"
         },
         {
          "font": {
           "color": "#000000"
          },
          "showarrow": false,
          "text": " Islamabad",
          "x": 2,
          "xref": "x",
          "y": 1,
          "yref": "y"
         },
         {
          "font": {
           "color": "#000000"
          },
          "showarrow": false,
          "text": " Islamabad",
          "x": 3,
          "xref": "x",
          "y": 1,
          "yref": "y"
         },
         {
          "font": {
           "color": "#FFFFFF"
          },
          "showarrow": false,
          "text": " Beijing",
          "x": 4,
          "xref": "x",
          "y": 1,
          "yref": "y"
         },
         {
          "font": {
           "color": "#000000"
          },
          "showarrow": false,
          "text": " New",
          "x": 0,
          "xref": "x",
          "y": 2,
          "yref": "y"
         },
         {
          "font": {
           "color": "#000000"
          },
          "showarrow": false,
          "text": "\n",
          "x": 1,
          "xref": "x",
          "y": 2,
          "yref": "y"
         },
         {
          "font": {
           "color": "#000000"
          },
          "showarrow": false,
          "text": " Beijing",
          "x": 2,
          "xref": "x",
          "y": 2,
          "yref": "y"
         },
         {
          "font": {
           "color": "#000000"
          },
          "showarrow": false,
          "text": " Mexico",
          "x": 3,
          "xref": "x",
          "y": 2,
          "yref": "y"
         },
         {
          "font": {
           "color": "#FFFFFF"
          },
          "showarrow": false,
          "text": " Beijing",
          "x": 4,
          "xref": "x",
          "y": 2,
          "yref": "y"
         },
         {
          "font": {
           "color": "#000000"
          },
          "showarrow": false,
          "text": " Lima",
          "x": 0,
          "xref": "x",
          "y": 3,
          "yref": "y"
         },
         {
          "font": {
           "color": "#000000"
          },
          "showarrow": false,
          "text": "\n",
          "x": 1,
          "xref": "x",
          "y": 3,
          "yref": "y"
         },
         {
          "font": {
           "color": "#FFFFFF"
          },
          "showarrow": false,
          "text": " Beijing",
          "x": 2,
          "xref": "x",
          "y": 3,
          "yref": "y"
         },
         {
          "font": {
           "color": "#000000"
          },
          "showarrow": false,
          "text": "\n",
          "x": 3,
          "xref": "x",
          "y": 3,
          "yref": "y"
         },
         {
          "font": {
           "color": "#FFFFFF"
          },
          "showarrow": false,
          "text": " Beijing",
          "x": 4,
          "xref": "x",
          "y": 3,
          "yref": "y"
         },
         {
          "font": {
           "color": "#000000"
          },
          "showarrow": false,
          "text": " Lima",
          "x": 0,
          "xref": "x",
          "y": 4,
          "yref": "y"
         },
         {
          "font": {
           "color": "#000000"
          },
          "showarrow": false,
          "text": "\n",
          "x": 1,
          "xref": "x",
          "y": 4,
          "yref": "y"
         },
         {
          "font": {
           "color": "#FFFFFF"
          },
          "showarrow": false,
          "text": " Beijing",
          "x": 2,
          "xref": "x",
          "y": 4,
          "yref": "y"
         },
         {
          "font": {
           "color": "#000000"
          },
          "showarrow": false,
          "text": "\n",
          "x": 3,
          "xref": "x",
          "y": 4,
          "yref": "y"
         },
         {
          "font": {
           "color": "#FFFFFF"
          },
          "showarrow": false,
          "text": " Beijing",
          "x": 4,
          "xref": "x",
          "y": 4,
          "yref": "y"
         },
         {
          "font": {
           "color": "#000000"
          },
          "showarrow": false,
          "text": " Lima",
          "x": 0,
          "xref": "x",
          "y": 5,
          "yref": "y"
         },
         {
          "font": {
           "color": "#000000"
          },
          "showarrow": false,
          "text": " Beijing",
          "x": 1,
          "xref": "x",
          "y": 5,
          "yref": "y"
         },
         {
          "font": {
           "color": "#FFFFFF"
          },
          "showarrow": false,
          "text": " Beijing",
          "x": 2,
          "xref": "x",
          "y": 5,
          "yref": "y"
         },
         {
          "font": {
           "color": "#000000"
          },
          "showarrow": false,
          "text": " Mexico",
          "x": 3,
          "xref": "x",
          "y": 5,
          "yref": "y"
         },
         {
          "font": {
           "color": "#FFFFFF"
          },
          "showarrow": false,
          "text": " Beijing",
          "x": 4,
          "xref": "x",
          "y": 5,
          "yref": "y"
         },
         {
          "font": {
           "color": "#000000"
          },
          "showarrow": false,
          "text": " Lima",
          "x": 0,
          "xref": "x",
          "y": 6,
          "yref": "y"
         },
         {
          "font": {
           "color": "#000000"
          },
          "showarrow": false,
          "text": " Beijing",
          "x": 1,
          "xref": "x",
          "y": 6,
          "yref": "y"
         },
         {
          "font": {
           "color": "#FFFFFF"
          },
          "showarrow": false,
          "text": " Beijing",
          "x": 2,
          "xref": "x",
          "y": 6,
          "yref": "y"
         },
         {
          "font": {
           "color": "#000000"
          },
          "showarrow": false,
          "text": " Moscow",
          "x": 3,
          "xref": "x",
          "y": 6,
          "yref": "y"
         },
         {
          "font": {
           "color": "#FFFFFF"
          },
          "showarrow": false,
          "text": " Beijing",
          "x": 4,
          "xref": "x",
          "y": 6,
          "yref": "y"
         },
         {
          "font": {
           "color": "#000000"
          },
          "showarrow": false,
          "text": " Lima",
          "x": 0,
          "xref": "x",
          "y": 7,
          "yref": "y"
         },
         {
          "font": {
           "color": "#000000"
          },
          "showarrow": false,
          "text": " Beijing",
          "x": 1,
          "xref": "x",
          "y": 7,
          "yref": "y"
         },
         {
          "font": {
           "color": "#FFFFFF"
          },
          "showarrow": false,
          "text": " Beijing",
          "x": 2,
          "xref": "x",
          "y": 7,
          "yref": "y"
         },
         {
          "font": {
           "color": "#000000"
          },
          "showarrow": false,
          "text": " today",
          "x": 3,
          "xref": "x",
          "y": 7,
          "yref": "y"
         },
         {
          "font": {
           "color": "#FFFFFF"
          },
          "showarrow": false,
          "text": " Beijing",
          "x": 4,
          "xref": "x",
          "y": 7,
          "yref": "y"
         },
         {
          "font": {
           "color": "#FFFFFF"
          },
          "showarrow": false,
          "text": " Beijing",
          "x": 0,
          "xref": "x",
          "y": 8,
          "yref": "y"
         },
         {
          "font": {
           "color": "#FFFFFF"
          },
          "showarrow": false,
          "text": " Beijing",
          "x": 1,
          "xref": "x",
          "y": 8,
          "yref": "y"
         },
         {
          "font": {
           "color": "#FFFFFF"
          },
          "showarrow": false,
          "text": " Beijing",
          "x": 2,
          "xref": "x",
          "y": 8,
          "yref": "y"
         },
         {
          "font": {
           "color": "#000000"
          },
          "showarrow": false,
          "text": " Republic",
          "x": 3,
          "xref": "x",
          "y": 8,
          "yref": "y"
         },
         {
          "font": {
           "color": "#FFFFFF"
          },
          "showarrow": false,
          "text": " Beijing",
          "x": 4,
          "xref": "x",
          "y": 8,
          "yref": "y"
         },
         {
          "font": {
           "color": "#FFFFFF"
          },
          "showarrow": false,
          "text": " Beijing",
          "x": 0,
          "xref": "x",
          "y": 9,
          "yref": "y"
         },
         {
          "font": {
           "color": "#FFFFFF"
          },
          "showarrow": false,
          "text": " Beijing",
          "x": 1,
          "xref": "x",
          "y": 9,
          "yref": "y"
         },
         {
          "font": {
           "color": "#FFFFFF"
          },
          "showarrow": false,
          "text": " Beijing",
          "x": 2,
          "xref": "x",
          "y": 9,
          "yref": "y"
         },
         {
          "font": {
           "color": "#000000"
          },
          "showarrow": false,
          "text": " today",
          "x": 3,
          "xref": "x",
          "y": 9,
          "yref": "y"
         },
         {
          "font": {
           "color": "#FFFFFF"
          },
          "showarrow": false,
          "text": " Beijing",
          "x": 4,
          "xref": "x",
          "y": 9,
          "yref": "y"
         },
         {
          "font": {
           "color": "#000000"
          },
          "showarrow": false,
          "text": " Beijing",
          "x": 0,
          "xref": "x",
          "y": 10,
          "yref": "y"
         },
         {
          "font": {
           "color": "#000000"
          },
          "showarrow": false,
          "text": " Beijing",
          "x": 1,
          "xref": "x",
          "y": 10,
          "yref": "y"
         },
         {
          "font": {
           "color": "#FFFFFF"
          },
          "showarrow": false,
          "text": " Beijing",
          "x": 2,
          "xref": "x",
          "y": 10,
          "yref": "y"
         },
         {
          "font": {
           "color": "#000000"
          },
          "showarrow": false,
          "text": " today",
          "x": 3,
          "xref": "x",
          "y": 10,
          "yref": "y"
         },
         {
          "font": {
           "color": "#FFFFFF"
          },
          "showarrow": false,
          "text": " Beijing",
          "x": 4,
          "xref": "x",
          "y": 10,
          "yref": "y"
         },
         {
          "font": {
           "color": "#000000"
          },
          "showarrow": false,
          "text": " Lima",
          "x": 0,
          "xref": "x",
          "y": 11,
          "yref": "y"
         },
         {
          "font": {
           "color": "#000000"
          },
          "showarrow": false,
          "text": " Communist",
          "x": 1,
          "xref": "x",
          "y": 11,
          "yref": "y"
         },
         {
          "font": {
           "color": "#000000"
          },
          "showarrow": false,
          "text": " Beijing",
          "x": 2,
          "xref": "x",
          "y": 11,
          "yref": "y"
         },
         {
          "font": {
           "color": "#000000"
          },
          "showarrow": false,
          "text": " today",
          "x": 3,
          "xref": "x",
          "y": 11,
          "yref": "y"
         },
         {
          "font": {
           "color": "#FFFFFF"
          },
          "showarrow": false,
          "text": " Beijing",
          "x": 4,
          "xref": "x",
          "y": 11,
          "yref": "y"
         },
         {
          "font": {
           "color": "#000000"
          },
          "showarrow": false,
          "text": " Lima",
          "x": 0,
          "xref": "x",
          "y": 12,
          "yref": "y"
         },
         {
          "font": {
           "color": "#000000"
          },
          "showarrow": false,
          "text": " Republic",
          "x": 1,
          "xref": "x",
          "y": 12,
          "yref": "y"
         },
         {
          "font": {
           "color": "#FFFFFF"
          },
          "showarrow": false,
          "text": " Tehran",
          "x": 2,
          "xref": "x",
          "y": 12,
          "yref": "y"
         },
         {
          "font": {
           "color": "#000000"
          },
          "showarrow": false,
          "text": " Republic",
          "x": 3,
          "xref": "x",
          "y": 12,
          "yref": "y"
         },
         {
          "font": {
           "color": "#FFFFFF"
          },
          "showarrow": false,
          "text": " Beijing",
          "x": 4,
          "xref": "x",
          "y": 12,
          "yref": "y"
         },
         {
          "font": {
           "color": "#000000"
          },
          "showarrow": false,
          "text": " Lima",
          "x": 0,
          "xref": "x",
          "y": 13,
          "yref": "y"
         },
         {
          "font": {
           "color": "#000000"
          },
          "showarrow": false,
          "text": " Republic",
          "x": 1,
          "xref": "x",
          "y": 13,
          "yref": "y"
         },
         {
          "font": {
           "color": "#000000"
          },
          "showarrow": false,
          "text": " Beijing",
          "x": 2,
          "xref": "x",
          "y": 13,
          "yref": "y"
         },
         {
          "font": {
           "color": "#000000"
          },
          "showarrow": false,
          "text": " Tehran",
          "x": 3,
          "xref": "x",
          "y": 13,
          "yref": "y"
         },
         {
          "font": {
           "color": "#FFFFFF"
          },
          "showarrow": false,
          "text": " Beijing",
          "x": 4,
          "xref": "x",
          "y": 13,
          "yref": "y"
         },
         {
          "font": {
           "color": "#000000"
          },
          "showarrow": false,
          "text": " Lima",
          "x": 0,
          "xref": "x",
          "y": 14,
          "yref": "y"
         },
         {
          "font": {
           "color": "#000000"
          },
          "showarrow": false,
          "text": " Dh",
          "x": 1,
          "xref": "x",
          "y": 14,
          "yref": "y"
         },
         {
          "font": {
           "color": "#000000"
          },
          "showarrow": false,
          "text": " Beijing",
          "x": 2,
          "xref": "x",
          "y": 14,
          "yref": "y"
         },
         {
          "font": {
           "color": "#000000"
          },
          "showarrow": false,
          "text": " Tehran",
          "x": 3,
          "xref": "x",
          "y": 14,
          "yref": "y"
         },
         {
          "font": {
           "color": "#FFFFFF"
          },
          "showarrow": false,
          "text": " Beijing",
          "x": 4,
          "xref": "x",
          "y": 14,
          "yref": "y"
         },
         {
          "font": {
           "color": "#000000"
          },
          "showarrow": false,
          "text": " Chou",
          "x": 0,
          "xref": "x",
          "y": 15,
          "yref": "y"
         },
         {
          "font": {
           "color": "#000000"
          },
          "showarrow": false,
          "text": " today",
          "x": 1,
          "xref": "x",
          "y": 15,
          "yref": "y"
         },
         {
          "font": {
           "color": "#000000"
          },
          "showarrow": false,
          "text": " Beijing",
          "x": 2,
          "xref": "x",
          "y": 15,
          "yref": "y"
         },
         {
          "font": {
           "color": "#000000"
          },
          "showarrow": false,
          "text": " Pakistan",
          "x": 3,
          "xref": "x",
          "y": 15,
          "yref": "y"
         },
         {
          "font": {
           "color": "#FFFFFF"
          },
          "showarrow": false,
          "text": " Beijing",
          "x": 4,
          "xref": "x",
          "y": 15,
          "yref": "y"
         },
         {
          "font": {
           "color": "#000000"
          },
          "showarrow": false,
          "text": " Lima",
          "x": 0,
          "xref": "x",
          "y": 16,
          "yref": "y"
         },
         {
          "font": {
           "color": "#000000"
          },
          "showarrow": false,
          "text": " the",
          "x": 1,
          "xref": "x",
          "y": 16,
          "yref": "y"
         },
         {
          "font": {
           "color": "#FFFFFF"
          },
          "showarrow": false,
          "text": " Beijing",
          "x": 2,
          "xref": "x",
          "y": 16,
          "yref": "y"
         },
         {
          "font": {
           "color": "#000000"
          },
          "showarrow": false,
          "text": " Havana",
          "x": 3,
          "xref": "x",
          "y": 16,
          "yref": "y"
         },
         {
          "font": {
           "color": "#FFFFFF"
          },
          "showarrow": false,
          "text": " Beijing",
          "x": 4,
          "xref": "x",
          "y": 16,
          "yref": "y"
         }
        ],
        "autosize": false,
        "height": 795,
        "plot_bgcolor": "white",
        "template": {
         "data": {
          "bar": [
           {
            "error_x": {
             "color": "#2a3f5f"
            },
            "error_y": {
             "color": "#2a3f5f"
            },
            "marker": {
             "line": {
              "color": "#E5ECF6",
              "width": 0.5
             },
             "pattern": {
              "fillmode": "overlay",
              "size": 10,
              "solidity": 0.2
             }
            },
            "type": "bar"
           }
          ],
          "barpolar": [
           {
            "marker": {
             "line": {
              "color": "#E5ECF6",
              "width": 0.5
             },
             "pattern": {
              "fillmode": "overlay",
              "size": 10,
              "solidity": 0.2
             }
            },
            "type": "barpolar"
           }
          ],
          "carpet": [
           {
            "aaxis": {
             "endlinecolor": "#2a3f5f",
             "gridcolor": "white",
             "linecolor": "white",
             "minorgridcolor": "white",
             "startlinecolor": "#2a3f5f"
            },
            "baxis": {
             "endlinecolor": "#2a3f5f",
             "gridcolor": "white",
             "linecolor": "white",
             "minorgridcolor": "white",
             "startlinecolor": "#2a3f5f"
            },
            "type": "carpet"
           }
          ],
          "choropleth": [
           {
            "colorbar": {
             "outlinewidth": 0,
             "ticks": ""
            },
            "type": "choropleth"
           }
          ],
          "contour": [
           {
            "colorbar": {
             "outlinewidth": 0,
             "ticks": ""
            },
            "colorscale": [
             [
              0,
              "#0d0887"
             ],
             [
              0.1111111111111111,
              "#46039f"
             ],
             [
              0.2222222222222222,
              "#7201a8"
             ],
             [
              0.3333333333333333,
              "#9c179e"
             ],
             [
              0.4444444444444444,
              "#bd3786"
             ],
             [
              0.5555555555555556,
              "#d8576b"
             ],
             [
              0.6666666666666666,
              "#ed7953"
             ],
             [
              0.7777777777777778,
              "#fb9f3a"
             ],
             [
              0.8888888888888888,
              "#fdca26"
             ],
             [
              1,
              "#f0f921"
             ]
            ],
            "type": "contour"
           }
          ],
          "contourcarpet": [
           {
            "colorbar": {
             "outlinewidth": 0,
             "ticks": ""
            },
            "type": "contourcarpet"
           }
          ],
          "heatmap": [
           {
            "colorbar": {
             "outlinewidth": 0,
             "ticks": ""
            },
            "colorscale": [
             [
              0,
              "#0d0887"
             ],
             [
              0.1111111111111111,
              "#46039f"
             ],
             [
              0.2222222222222222,
              "#7201a8"
             ],
             [
              0.3333333333333333,
              "#9c179e"
             ],
             [
              0.4444444444444444,
              "#bd3786"
             ],
             [
              0.5555555555555556,
              "#d8576b"
             ],
             [
              0.6666666666666666,
              "#ed7953"
             ],
             [
              0.7777777777777778,
              "#fb9f3a"
             ],
             [
              0.8888888888888888,
              "#fdca26"
             ],
             [
              1,
              "#f0f921"
             ]
            ],
            "type": "heatmap"
           }
          ],
          "heatmapgl": [
           {
            "colorbar": {
             "outlinewidth": 0,
             "ticks": ""
            },
            "colorscale": [
             [
              0,
              "#0d0887"
             ],
             [
              0.1111111111111111,
              "#46039f"
             ],
             [
              0.2222222222222222,
              "#7201a8"
             ],
             [
              0.3333333333333333,
              "#9c179e"
             ],
             [
              0.4444444444444444,
              "#bd3786"
             ],
             [
              0.5555555555555556,
              "#d8576b"
             ],
             [
              0.6666666666666666,
              "#ed7953"
             ],
             [
              0.7777777777777778,
              "#fb9f3a"
             ],
             [
              0.8888888888888888,
              "#fdca26"
             ],
             [
              1,
              "#f0f921"
             ]
            ],
            "type": "heatmapgl"
           }
          ],
          "histogram": [
           {
            "marker": {
             "pattern": {
              "fillmode": "overlay",
              "size": 10,
              "solidity": 0.2
             }
            },
            "type": "histogram"
           }
          ],
          "histogram2d": [
           {
            "colorbar": {
             "outlinewidth": 0,
             "ticks": ""
            },
            "colorscale": [
             [
              0,
              "#0d0887"
             ],
             [
              0.1111111111111111,
              "#46039f"
             ],
             [
              0.2222222222222222,
              "#7201a8"
             ],
             [
              0.3333333333333333,
              "#9c179e"
             ],
             [
              0.4444444444444444,
              "#bd3786"
             ],
             [
              0.5555555555555556,
              "#d8576b"
             ],
             [
              0.6666666666666666,
              "#ed7953"
             ],
             [
              0.7777777777777778,
              "#fb9f3a"
             ],
             [
              0.8888888888888888,
              "#fdca26"
             ],
             [
              1,
              "#f0f921"
             ]
            ],
            "type": "histogram2d"
           }
          ],
          "histogram2dcontour": [
           {
            "colorbar": {
             "outlinewidth": 0,
             "ticks": ""
            },
            "colorscale": [
             [
              0,
              "#0d0887"
             ],
             [
              0.1111111111111111,
              "#46039f"
             ],
             [
              0.2222222222222222,
              "#7201a8"
             ],
             [
              0.3333333333333333,
              "#9c179e"
             ],
             [
              0.4444444444444444,
              "#bd3786"
             ],
             [
              0.5555555555555556,
              "#d8576b"
             ],
             [
              0.6666666666666666,
              "#ed7953"
             ],
             [
              0.7777777777777778,
              "#fb9f3a"
             ],
             [
              0.8888888888888888,
              "#fdca26"
             ],
             [
              1,
              "#f0f921"
             ]
            ],
            "type": "histogram2dcontour"
           }
          ],
          "mesh3d": [
           {
            "colorbar": {
             "outlinewidth": 0,
             "ticks": ""
            },
            "type": "mesh3d"
           }
          ],
          "parcoords": [
           {
            "line": {
             "colorbar": {
              "outlinewidth": 0,
              "ticks": ""
             }
            },
            "type": "parcoords"
           }
          ],
          "pie": [
           {
            "automargin": true,
            "type": "pie"
           }
          ],
          "scatter": [
           {
            "fillpattern": {
             "fillmode": "overlay",
             "size": 10,
             "solidity": 0.2
            },
            "type": "scatter"
           }
          ],
          "scatter3d": [
           {
            "line": {
             "colorbar": {
              "outlinewidth": 0,
              "ticks": ""
             }
            },
            "marker": {
             "colorbar": {
              "outlinewidth": 0,
              "ticks": ""
             }
            },
            "type": "scatter3d"
           }
          ],
          "scattercarpet": [
           {
            "marker": {
             "colorbar": {
              "outlinewidth": 0,
              "ticks": ""
             }
            },
            "type": "scattercarpet"
           }
          ],
          "scattergeo": [
           {
            "marker": {
             "colorbar": {
              "outlinewidth": 0,
              "ticks": ""
             }
            },
            "type": "scattergeo"
           }
          ],
          "scattergl": [
           {
            "marker": {
             "colorbar": {
              "outlinewidth": 0,
              "ticks": ""
             }
            },
            "type": "scattergl"
           }
          ],
          "scattermapbox": [
           {
            "marker": {
             "colorbar": {
              "outlinewidth": 0,
              "ticks": ""
             }
            },
            "type": "scattermapbox"
           }
          ],
          "scatterpolar": [
           {
            "marker": {
             "colorbar": {
              "outlinewidth": 0,
              "ticks": ""
             }
            },
            "type": "scatterpolar"
           }
          ],
          "scatterpolargl": [
           {
            "marker": {
             "colorbar": {
              "outlinewidth": 0,
              "ticks": ""
             }
            },
            "type": "scatterpolargl"
           }
          ],
          "scatterternary": [
           {
            "marker": {
             "colorbar": {
              "outlinewidth": 0,
              "ticks": ""
             }
            },
            "type": "scatterternary"
           }
          ],
          "surface": [
           {
            "colorbar": {
             "outlinewidth": 0,
             "ticks": ""
            },
            "colorscale": [
             [
              0,
              "#0d0887"
             ],
             [
              0.1111111111111111,
              "#46039f"
             ],
             [
              0.2222222222222222,
              "#7201a8"
             ],
             [
              0.3333333333333333,
              "#9c179e"
             ],
             [
              0.4444444444444444,
              "#bd3786"
             ],
             [
              0.5555555555555556,
              "#d8576b"
             ],
             [
              0.6666666666666666,
              "#ed7953"
             ],
             [
              0.7777777777777778,
              "#fb9f3a"
             ],
             [
              0.8888888888888888,
              "#fdca26"
             ],
             [
              1,
              "#f0f921"
             ]
            ],
            "type": "surface"
           }
          ],
          "table": [
           {
            "cells": {
             "fill": {
              "color": "#EBF0F8"
             },
             "line": {
              "color": "white"
             }
            },
            "header": {
             "fill": {
              "color": "#C8D4E3"
             },
             "line": {
              "color": "white"
             }
            },
            "type": "table"
           }
          ]
         },
         "layout": {
          "annotationdefaults": {
           "arrowcolor": "#2a3f5f",
           "arrowhead": 0,
           "arrowwidth": 1
          },
          "autotypenumbers": "strict",
          "coloraxis": {
           "colorbar": {
            "outlinewidth": 0,
            "ticks": ""
           }
          },
          "colorscale": {
           "diverging": [
            [
             0,
             "#8e0152"
            ],
            [
             0.1,
             "#c51b7d"
            ],
            [
             0.2,
             "#de77ae"
            ],
            [
             0.3,
             "#f1b6da"
            ],
            [
             0.4,
             "#fde0ef"
            ],
            [
             0.5,
             "#f7f7f7"
            ],
            [
             0.6,
             "#e6f5d0"
            ],
            [
             0.7,
             "#b8e186"
            ],
            [
             0.8,
             "#7fbc41"
            ],
            [
             0.9,
             "#4d9221"
            ],
            [
             1,
             "#276419"
            ]
           ],
           "sequential": [
            [
             0,
             "#0d0887"
            ],
            [
             0.1111111111111111,
             "#46039f"
            ],
            [
             0.2222222222222222,
             "#7201a8"
            ],
            [
             0.3333333333333333,
             "#9c179e"
            ],
            [
             0.4444444444444444,
             "#bd3786"
            ],
            [
             0.5555555555555556,
             "#d8576b"
            ],
            [
             0.6666666666666666,
             "#ed7953"
            ],
            [
             0.7777777777777778,
             "#fb9f3a"
            ],
            [
             0.8888888888888888,
             "#fdca26"
            ],
            [
             1,
             "#f0f921"
            ]
           ],
           "sequentialminus": [
            [
             0,
             "#0d0887"
            ],
            [
             0.1111111111111111,
             "#46039f"
            ],
            [
             0.2222222222222222,
             "#7201a8"
            ],
            [
             0.3333333333333333,
             "#9c179e"
            ],
            [
             0.4444444444444444,
             "#bd3786"
            ],
            [
             0.5555555555555556,
             "#d8576b"
            ],
            [
             0.6666666666666666,
             "#ed7953"
            ],
            [
             0.7777777777777778,
             "#fb9f3a"
            ],
            [
             0.8888888888888888,
             "#fdca26"
            ],
            [
             1,
             "#f0f921"
            ]
           ]
          },
          "colorway": [
           "#636efa",
           "#EF553B",
           "#00cc96",
           "#ab63fa",
           "#FFA15A",
           "#19d3f3",
           "#FF6692",
           "#B6E880",
           "#FF97FF",
           "#FECB52"
          ],
          "font": {
           "color": "#2a3f5f"
          },
          "geo": {
           "bgcolor": "white",
           "lakecolor": "white",
           "landcolor": "#E5ECF6",
           "showlakes": true,
           "showland": true,
           "subunitcolor": "white"
          },
          "hoverlabel": {
           "align": "left"
          },
          "hovermode": "closest",
          "mapbox": {
           "style": "light"
          },
          "paper_bgcolor": "white",
          "plot_bgcolor": "#E5ECF6",
          "polar": {
           "angularaxis": {
            "gridcolor": "white",
            "linecolor": "white",
            "ticks": ""
           },
           "bgcolor": "#E5ECF6",
           "radialaxis": {
            "gridcolor": "white",
            "linecolor": "white",
            "ticks": ""
           }
          },
          "scene": {
           "xaxis": {
            "backgroundcolor": "#E5ECF6",
            "gridcolor": "white",
            "gridwidth": 2,
            "linecolor": "white",
            "showbackground": true,
            "ticks": "",
            "zerolinecolor": "white"
           },
           "yaxis": {
            "backgroundcolor": "#E5ECF6",
            "gridcolor": "white",
            "gridwidth": 2,
            "linecolor": "white",
            "showbackground": true,
            "ticks": "",
            "zerolinecolor": "white"
           },
           "zaxis": {
            "backgroundcolor": "#E5ECF6",
            "gridcolor": "white",
            "gridwidth": 2,
            "linecolor": "white",
            "showbackground": true,
            "ticks": "",
            "zerolinecolor": "white"
           }
          },
          "shapedefaults": {
           "line": {
            "color": "#2a3f5f"
           }
          },
          "ternary": {
           "aaxis": {
            "gridcolor": "white",
            "linecolor": "white",
            "ticks": ""
           },
           "baxis": {
            "gridcolor": "white",
            "linecolor": "white",
            "ticks": ""
           },
           "bgcolor": "#E5ECF6",
           "caxis": {
            "gridcolor": "white",
            "linecolor": "white",
            "ticks": ""
           }
          },
          "title": {
           "x": 0.05
          },
          "xaxis": {
           "automargin": true,
           "gridcolor": "white",
           "linecolor": "white",
           "ticks": "",
           "title": {
            "standoff": 15
           },
           "zerolinecolor": "white",
           "zerolinewidth": 2
          },
          "yaxis": {
           "automargin": true,
           "gridcolor": "white",
           "linecolor": "white",
           "ticks": "",
           "title": {
            "standoff": 15
           },
           "zerolinecolor": "white",
           "zerolinewidth": 2
          }
         }
        },
        "title": {
         "font": {
          "color": "rgb(0,0,0)",
          "family": "Courier New, Monospace",
          "size": 20
         },
         "text": "<b><i>The capital city of {} is</i></b>",
         "y": 0.95
        },
        "width": 650,
        "xaxis": {
         "dtick": 1,
         "gridcolor": "rgb(0, 0, 0)",
         "range": [
          -0.5,
          5
         ],
         "side": "bottom",
         "tickfont": {
          "color": "darkblue",
          "family": "Courier New, Monospace",
          "size": 17
         },
         "tickmode": "array",
         "ticks": "",
         "ticktext": [
          " People",
          "'s",
          " Republic",
          " of",
          " China"
         ],
         "tickvals": [
          0,
          1,
          2,
          3,
          4
         ]
        },
        "yaxis": {
         "dtick": 1,
         "range": [
          -0.5,
          17
         ],
         "tickfont": {
          "color": "firebrick",
          "family": "verdana",
          "size": 14
         },
         "tickmode": "array",
         "ticks": "",
         "ticksuffix": "  ",
         "ticktext": [
          "h.0 ",
          "h.2 ",
          "h.4 ",
          "h.6 ",
          "h.8 ",
          "h.10 ",
          "h.12 ",
          "h.14 ",
          "h.15 ",
          "h.16 ",
          "h.18 ",
          "h.20 ",
          "h.22 ",
          "h.24 ",
          "h.25 ",
          "h.26 ",
          "h.27 "
         ],
         "tickvals": [
          0,
          1,
          2,
          3,
          4,
          5,
          6,
          7,
          8,
          9,
          10,
          11,
          12,
          13,
          14,
          15,
          16
         ]
        }
       }
      },
      "text/html": [
       "<div>                            <div id=\"36acd907-af6c-43e8-a511-83e8cb118394\" class=\"plotly-graph-div\" style=\"height:795px; width:650px;\"></div>            <script type=\"text/javascript\">                require([\"plotly\"], function(Plotly) {                    window.PLOTLYENV=window.PLOTLYENV || {};                                    if (document.getElementById(\"36acd907-af6c-43e8-a511-83e8cb118394\")) {                    Plotly.newPlot(                        \"36acd907-af6c-43e8-a511-83e8cb118394\",                        [{\"colorscale\":[[0.0,\"rgb(247,251,255)\"],[0.125,\"rgb(222,235,247)\"],[0.25,\"rgb(198,219,239)\"],[0.375,\"rgb(158,202,225)\"],[0.5,\"rgb(107,174,214)\"],[0.625,\"rgb(66,146,198)\"],[0.75,\"rgb(33,113,181)\"],[0.875,\"rgb(8,81,156)\"],[1.0,\"rgb(8,48,107)\"]],\"customdata\":[[[\" New\",\"0.1671\",\"' New': 0.16714 <br>   '\\n': 0.146353 <br>   ' Mexico': 0.126164 <br>   ' the': 0.049406 <br>   ' ': 0.034762 <br>   ' Islamabad': 0.027715 <br>   '...': 0.026862 <br>   ' Delhi': 0.023705 <br>   ' Madrid': 0.022269 <br>   ' Lima': 0.021084 \"],[\" Mexico\",\"0.2006\",\"' Mexico': 0.200592 <br>   '\\n': 0.124551 <br>   ' Islamabad': 0.073794 <br>   ' the': 0.07265 <br>   ' New': 0.041719 <br>   ' ': 0.029125 <br>   '...': 0.021142 <br>   ' Madrid': 0.020174 <br>   '...': 0.016466 <br>   ':': 0.014418 \"],[\" Mexico\",\"0.1832\",\"' Mexico': 0.183215 <br>   ' Islamabad': 0.15918 <br>   '\\n': 0.134043 <br>   ' New': 0.046324 <br>   ' Delhi': 0.031101 <br>   ' the': 0.025783 <br>   ' ': 0.023112 <br>   ' Madrid': 0.019311 <br>   ' Ankara': 0.017583 <br>   ' Washington': 0.016647 \"],[\"\\n\",\"0.1591\",\"'\\n': 0.159095 <br>   ' Mexico': 0.119157 <br>   ' the': 0.071152 <br>   ' Islamabad': 0.048521 <br>   ' New': 0.046663 <br>   ' ': 0.045227 <br>   '...': 0.039913 <br>   ' Madrid': 0.030128 <br>   '...': 0.022215 <br>   ' (': 0.014683 \"],[\" Beijing\",\"0.8765\",\"' Beijing': 0.876521 <br>   ' Mexico': 0.023912 <br>   '\\n': 0.0127 <br>   ' New': 0.007466 <br>   ' Islamabad': 0.005462 <br>   ' Tokyo': 0.003472 <br>   ' the': 0.0026 <br>   ' Manila': 0.00256 <br>   ' Tai': 0.00254 <br>   ' China': 0.002368 \"]],[[\" New\",\"0.2201\",\"' New': 0.220069 <br>   ' Mexico': 0.103953 <br>   ' Delhi': 0.082234 <br>   '\\n': 0.077858 <br>   ' Islamabad': 0.069248 <br>   ' Lima': 0.04135 <br>   ' the': 0.037945 <br>   ' ': 0.022482 <br>   ' Madrid': 0.015572 <br>   '...': 0.015451 \"],[\" Islamabad\",\"0.1952\",\"' Islamabad': 0.195236 <br>   ' Mexico': 0.125073 <br>   '\\n': 0.118416 <br>   ' the': 0.058164 <br>   ' ': 0.023871 <br>   ' New': 0.023685 <br>   ':': 0.018302 <br>   ' The': 0.015055 <br>   ' Madrid': 0.014822 <br>   '...': 0.014706 \"],[\" Islamabad\",\"0.3385\",\"' Islamabad': 0.338541 <br>   ' Mexico': 0.143347 <br>   '\\n': 0.105698 <br>   ' Paris': 0.038281 <br>   ' Madrid': 0.025302 <br>   ' Tehran': 0.021812 <br>   ' Santiago': 0.018512 <br>   ' Delhi': 0.015711 <br>   ' ': 0.012923 <br>   ' Manila': 0.011675 \"],[\" Islamabad\",\"0.1569\",\"' Islamabad': 0.15688 <br>   ' Mexico': 0.146228 <br>   '\\n': 0.098173 <br>   ' New': 0.054216 <br>   ' the': 0.046737 <br>   ' ': 0.030176 <br>   ' Madrid': 0.027262 <br>   ' Delhi': 0.016279 <br>   '...': 0.016152 <br>   ' The': 0.012481 \"],[\" Beijing\",\"0.977\",\"' Beijing': 0.976954 <br>   ' Mexico': 0.003134 <br>   '\\n': 0.001457 <br>   ' Tai': 0.001435 <br>   ' Manila': 0.001171 <br>   ' China': 0.001153 <br>   ' New': 0.001083 <br>   ' Shanghai': 0.001066 <br>   ' Islamabad': 0.000986 <br>   ' Tokyo': 0.000774 \"]],[[\" New\",\"0.1327\",\"' New': 0.132674 <br>   '\\n': 0.117085 <br>   ' Mexico': 0.077995 <br>   ' Lima': 0.075007 <br>   ' Islamabad': 0.070463 <br>   ' Delhi': 0.055307 <br>   ' the': 0.032513 <br>   ' Beijing': 0.032009 <br>   ' ': 0.022876 <br>   ' Los': 0.017816 \"],[\"\\n\",\"0.1447\",\"'\\n': 0.144657 <br>   ' Mexico': 0.084377 <br>   ' Islamabad': 0.064694 <br>   ' the': 0.049992 <br>   ' ': 0.045875 <br>   ' New': 0.024175 <br>   '...': 0.022184 <br>   ' Beijing': 0.020199 <br>   '...': 0.019274 <br>   ':': 0.017549 \"],[\" Beijing\",\"0.2931\",\"' Beijing': 0.293058 <br>   ' Islamabad': 0.204587 <br>   '\\n': 0.085954 <br>   ' Mexico': 0.055064 <br>   ' Paris': 0.020416 <br>   ' Lima': 0.017192 <br>   ' Delhi': 0.017192 <br>   ' Manila': 0.013181 <br>   ' ': 0.012578 <br>   ' the': 0.012578 \"],[\" Mexico\",\"0.1731\",\"' Mexico': 0.173121 <br>   ' Islamabad': 0.113535 <br>   '\\n': 0.099415 <br>   ' ': 0.033041 <br>   ' the': 0.031528 <br>   ' New': 0.03032 <br>   '...': 0.026757 <br>   ' Madrid': 0.019424 <br>   ' Delhi': 0.018534 <br>   ' The': 0.01839 \"],[\" Beijing\",\"0.9931\",\"' Beijing': 0.993131 <br>   ' China': 0.002462 <br>   ' Shanghai': 0.000775 <br>   ' Tai': 0.000481 <br>   ' Mexico': 0.000346 <br>   ' Chinese': 0.000336 <br>   '\\n': 0.000196 <br>   ' New': 0.000184 <br>   ' Manila': 0.000136 <br>   ' Xi': 9.9e-05 \"]],[[\" Lima\",\"0.1444\",\"' Lima': 0.144391 <br>   '\\n': 0.117848 <br>   ' Mexico': 0.073748 <br>   ' New': 0.056104 <br>   ' Islamabad': 0.055668 <br>   ' the': 0.040727 <br>   ' Delhi': 0.040096 <br>   ' ': 0.034029 <br>   ' also': 0.030503 <br>   ' Beijing': 0.027343 \"],[\"\\n\",\"0.1449\",\"'\\n': 0.144856 <br>   ' Islamabad': 0.119155 <br>   ' Mexico': 0.067364 <br>   ' ': 0.039601 <br>   ' the': 0.038084 <br>   ' Beijing': 0.026587 <br>   ' also': 0.022741 <br>   ' Ch': 0.016508 <br>   '...': 0.01563 <br>   ' Car': 0.013369 \"],[\" Beijing\",\"0.7493\",\"' Beijing': 0.749293 <br>   ' Islamabad': 0.028159 <br>   '\\n': 0.027507 <br>   ' Tehran': 0.013198 <br>   ' Pyongyang': 0.013095 <br>   ' Moscow': 0.010942 <br>   ' Republic': 0.009286 <br>   ' China': 0.007881 <br>   ' Chong': 0.006955 <br>   ' Mexico': 0.006636 \"],[\"\\n\",\"0.1108\",\"'\\n': 0.110818 <br>   ' Mexico': 0.09405 <br>   ' ': 0.055723 <br>   ' the': 0.049949 <br>   ' Islamabad': 0.030296 <br>   ' The': 0.025116 <br>   ' (': 0.020499 <br>   ' \\u2013': 0.019869 <br>   '...': 0.019257 <br>   ' also': 0.017262 \"],[\" Beijing\",\"0.9933\",\"' Beijing': 0.993264 <br>   ' China': 0.003472 <br>   ' Chinese': 0.000562 <br>   ' Shanghai': 0.000558 <br>   ' Tai': 0.000459 <br>   ' Mexico': 0.000236 <br>   '\\n': 0.000109 <br>   ' Tokyo': 6.6e-05 <br>   ' Chong': 5.7e-05 <br>   ' New': 5.3e-05 \"]],[[\" Lima\",\"0.3412\",\"' Lima': 0.341234 <br>   ' Mexico': 0.08105 <br>   ' Delhi': 0.08042 <br>   ' New': 0.073797 <br>   ' Beijing': 0.040437 <br>   '\\n': 0.028451 <br>   ' Islamabad': 0.020979 <br>   ' Ch': 0.016857 <br>   ' L': 0.01559 <br>   ' the': 0.012824 \"],[\"\\n\",\"0.0989\",\"'\\n': 0.098887 <br>   ' Mexico': 0.070121 <br>   ' Lima': 0.044225 <br>   ' Ch': 0.042531 <br>   ' ': 0.036664 <br>   ' Beijing': 0.033383 <br>   ' also': 0.028332 <br>   ' the': 0.027675 <br>   ' L': 0.024423 <br>   '...': 0.024233 \"],[\" Beijing\",\"0.6932\",\"' Beijing': 0.693203 <br>   ' China': 0.036738 <br>   ' Tehran': 0.029062 <br>   '\\n': 0.021597 <br>   ' Mexico': 0.018618 <br>   ' Chong': 0.015925 <br>   ' Moscow': 0.014844 <br>   ' P': 0.010945 <br>   ' Republic': 0.010775 <br>   ' Havana': 0.010775 \"],[\"\\n\",\"0.1013\",\"'\\n': 0.101325 <br>   ' Mexico': 0.099754 <br>   ' the': 0.035017 <br>   ' Moscow': 0.034744 <br>   ' ': 0.026432 <br>   ' Republic': 0.021913 <br>   '...': 0.01889 <br>   ' also': 0.016933 <br>   ' (': 0.016412 <br>   ' here': 0.014259 \"],[\" Beijing\",\"0.9931\",\"' Beijing': 0.993147 <br>   ' China': 0.004528 <br>   ' Shanghai': 0.000838 <br>   ' Chinese': 0.000431 <br>   ' Mexico': 0.000121 <br>   ' Tai': 9.9e-05 <br>   ' New': 5.8e-05 <br>   ' Chong': 5.4e-05 <br>   ' Mandarin': 4.1e-05 <br>   ' Tian': 3.5e-05 \"]],[[\" Lima\",\"0.446\",\"' Lima': 0.445962 <br>   ' Beijing': 0.058497 <br>   ' Ch': 0.043813 <br>   ' Delhi': 0.042798 <br>   ' New': 0.034389 <br>   ' Mexico': 0.025556 <br>   ' Republic': 0.021022 <br>   ' Islamabad': 0.014224 <br>   ' Peru': 0.014113 <br>   '\\n': 0.011978 \"],[\" Beijing\",\"0.2246\",\"' Beijing': 0.224555 <br>   ' Ch': 0.081328 <br>   ' Republic': 0.060438 <br>   ' Bangladesh': 0.040261 <br>   '\\n': 0.03235 <br>   ' Dh': 0.020403 <br>   ' today': 0.016652 <br>   ' ': 0.015401 <br>   '...': 0.013277 <br>   ' L': 0.01257 \"],[\" Beijing\",\"0.9064\",\"' Beijing': 0.906361 <br>   ' China': 0.04045 <br>   ' Tehran': 0.015595 <br>   ' Chong': 0.012728 <br>   ' Moscow': 0.003047 <br>   ' Pyongyang': 0.002487 <br>   ' Republic': 0.002195 <br>   ' Lima': 0.001184 <br>   ' Communist': 0.00113 <br>   '\\n': 0.000929 \"],[\" Mexico\",\"0.1399\",\"' Mexico': 0.139905 <br>   ' Moscow': 0.059704 <br>   '\\n': 0.057417 <br>   ' Republic': 0.048729 <br>   ' ': 0.020958 <br>   ' Russia': 0.020313 <br>   ' Lima': 0.019083 <br>   ' \\u2013': 0.018352 <br>   '...': 0.016322 <br>   ' Ch': 0.016195 \"],[\" Beijing\",\"0.9881\",\"' Beijing': 0.988106 <br>   ' China': 0.009995 <br>   ' Chinese': 0.001121 <br>   ' Shanghai': 0.000521 <br>   ' Chong': 6.6e-05 <br>   ' Cheng': 4.5e-05 <br>   ' Tai': 2.5e-05 <br>   ' Mandarin': 2.3e-05 <br>   ' Tian': 1.9e-05 <br>   ' Taiwan': 1.3e-05 \"]],[[\" Lima\",\"0.4685\",\"' Lima': 0.468498 <br>   ' Beijing': 0.180622 <br>   ' Republic': 0.031882 <br>   ' Delhi': 0.023878 <br>   ' Pe': 0.019337 <br>   ' Ch': 0.019037 <br>   ' New': 0.013712 <br>   ' L': 0.011729 <br>   ' Car': 0.01019 <br>   '\\n': 0.008317 \"],[\" Beijing\",\"0.3951\",\"' Beijing': 0.395106 <br>   ' Republic': 0.074821 <br>   ' today': 0.046096 <br>   ' Ch': 0.038215 <br>   ' China': 0.034795 <br>   ' Chong': 0.022117 <br>   '\\n': 0.013207 <br>   '...': 0.012406 <br>   ' Bangladesh': 0.011385 <br>   ' Communist': 0.010366 \"],[\" Beijing\",\"0.8041\",\"' Beijing': 0.804066 <br>   ' China': 0.123308 <br>   ' Tehran': 0.01891 <br>   ' Chong': 0.010691 <br>   ' Republic': 0.006638 <br>   ' Moscow': 0.00595 <br>   ' Communist': 0.003417 <br>   ' Pyongyang': 0.002811 <br>   ' Chinese': 0.001902 <br>   ' Russia': 0.001872 \"],[\" Moscow\",\"0.0814\",\"' Moscow': 0.081381 <br>   ' Russia': 0.078877 <br>   ' Republic': 0.073522 <br>   ' Mexico': 0.058617 <br>   '\\n': 0.033925 <br>   ' today': 0.029474 <br>   ' Havana': 0.019179 <br>   ' Venezuela': 0.017058 <br>   '...': 0.014591 <br>   ' the': 0.014365 \"],[\" Beijing\",\"0.9653\",\"' Beijing': 0.965287 <br>   ' China': 0.030074 <br>   ' Chinese': 0.003481 <br>   ' Shanghai': 0.001013 <br>   'China': 3.9e-05 <br>   ' Mandarin': 2.6e-05 <br>   ' Chong': 2.3e-05 <br>   ' Cheng': 1.6e-05 <br>   ' Tian': 9e-06 <br>   'Chinese': 6e-06 \"]],[[\" Lima\",\"0.2971\",\"' Lima': 0.297106 <br>   ' Beijing': 0.274778 <br>   ' Pe': 0.050829 <br>   ' Republic': 0.042469 <br>   ' L': 0.033596 <br>   ' Ch': 0.02829 <br>   ' Car': 0.010489 <br>   ' ': 0.009113 <br>   '\\n': 0.007323 <br>   ' Communist': 0.007323 \"],[\" Beijing\",\"0.2723\",\"' Beijing': 0.272322 <br>   ' Communist': 0.096344 <br>   ' China': 0.043426 <br>   ' Republic': 0.041437 <br>   ' today': 0.035721 <br>   ' Marxist': 0.02436 <br>   ' Ch': 0.021497 <br>   ' Soviet': 0.019573 <br>   ' Peoples': 0.016873 <br>   ' Chong': 0.016227 \"],[\" Beijing\",\"0.7862\",\"' Beijing': 0.786188 <br>   ' China': 0.103125 <br>   ' Tehran': 0.039758 <br>   ' Chong': 0.011391 <br>   ' Republic': 0.007708 <br>   ' Communist': 0.007648 <br>   ' Pyongyang': 0.005728 <br>   ' Mao': 0.005297 <br>   ' Moscow': 0.00288 <br>   ' Chinese': 0.002463 \"],[\" today\",\"0.0848\",\"' today': 0.084764 <br>   ' Republic': 0.077783 <br>   ' Havana': 0.034787 <br>   ' Moscow': 0.033194 <br>   ' Russia': 0.020133 <br>   '\\n': 0.019362 <br>   ' now': 0.019211 <br>   ' Ch': 0.019062 <br>   ' here': 0.017221 <br>   ' Venezuela': 0.015803 \"],[\" Beijing\",\"0.9678\",\"' Beijing': 0.967779 <br>   ' China': 0.028325 <br>   ' Chinese': 0.003228 <br>   ' Shanghai': 0.000495 <br>   'China': 4.2e-05 <br>   ' Mandarin': 3.2e-05 <br>   ' Chong': 2.8e-05 <br>   ' Cheng': 2.6e-05 <br>   ' Tian': 1.1e-05 <br>   'Chinese': 7e-06 \"]],[[\" Beijing\",\"0.5869\",\"' Beijing': 0.586895 <br>   ' Lima': 0.170796 <br>   ' Pe': 0.045256 <br>   ' Ch': 0.021378 <br>   ' Republic': 0.01402 <br>   ' L': 0.011443 <br>   ' Petr': 0.00678 <br>   ' Car': 0.005405 <br>   ' New': 0.004412 <br>   ' Communist': 0.003803 \"],[\" Beijing\",\"0.5201\",\"' Beijing': 0.520139 <br>   ' China': 0.085576 <br>   ' Communist': 0.063595 <br>   ' Ch': 0.021302 <br>   ' Chong': 0.018652 <br>   ' Peoples': 0.018363 <br>   ' Republic': 0.01659 <br>   ' today': 0.015105 <br>   ' Soviet': 0.011856 <br>   ' P': 0.007191 \"],[\" Beijing\",\"0.8132\",\"' Beijing': 0.81323 <br>   ' China': 0.145804 <br>   ' Tehran': 0.012941 <br>   ' Chong': 0.008487 <br>   ' Mao': 0.002528 <br>   ' Chinese': 0.002249 <br>   ' Pyongyang': 0.002 <br>   ' Republic': 0.001879 <br>   ' Communist': 0.001779 <br>   ' Moscow': 0.000888 \"],[\" Republic\",\"0.0922\",\"' Republic': 0.092233 <br>   ' today': 0.082034 <br>   ' Venezuela': 0.070717 <br>   ' Russia': 0.032377 <br>   ' Havana': 0.023873 <br>   ' Moscow': 0.021907 <br>   ' Mexico': 0.021737 <br>   ' Argentina': 0.021568 <br>   ' now': 0.0214 <br>   ' Peru': 0.019183 \"],[\" Beijing\",\"0.9512\",\"' Beijing': 0.951151 <br>   ' China': 0.044486 <br>   ' Chinese': 0.003768 <br>   ' Shanghai': 0.000397 <br>   'China': 6e-05 <br>   ' Mandarin': 5.1e-05 <br>   ' Cheng': 2.8e-05 <br>   ' Chong': 2e-05 <br>   ' Tian': 1e-05 <br>   'Chinese': 8e-06 \"]],[[\" Beijing\",\"0.6235\",\"' Beijing': 0.623539 <br>   ' Lima': 0.109205 <br>   ' Pe': 0.038635 <br>   ' Ch': 0.038036 <br>   ' Republic': 0.018537 <br>   ' L': 0.013043 <br>   ' New': 0.007788 <br>   ' Petr': 0.006662 <br>   ' Delhi': 0.00527 <br>   ' Chou': 0.004724 \"],[\" Beijing\",\"0.5917\",\"' Beijing': 0.591738 <br>   ' China': 0.082625 <br>   ' Communist': 0.052932 <br>   ' Ch': 0.019934 <br>   ' today': 0.017319 <br>   ' Peoples': 0.013916 <br>   ' Republic': 0.012971 <br>   ' Soviet': 0.011719 <br>   ' P': 0.009343 <br>   ' Chong': 0.00927 \"],[\" Beijing\",\"0.8154\",\"' Beijing': 0.815369 <br>   ' China': 0.121194 <br>   ' Tehran': 0.032113 <br>   ' Chong': 0.006323 <br>   ' Republic': 0.003465 <br>   ' Mao': 0.003034 <br>   ' Chinese': 0.002381 <br>   ' Pyongyang': 0.002185 <br>   ' Communist': 0.00165 <br>   ' Peoples': 0.001188 \"],[\" today\",\"0.1284\",\"' today': 0.128379 <br>   ' Republic': 0.115981 <br>   ' Havana': 0.026082 <br>   ' Venezuela': 0.025083 <br>   '\\n': 0.021454 <br>   ' now': 0.020957 <br>   ' President': 0.018933 <br>   ' Russia': 0.01751 <br>   ' Moscow': 0.017374 <br>   ' Argentina': 0.015574 \"],[\" Beijing\",\"0.9599\",\"' Beijing': 0.959935 <br>   ' China': 0.035516 <br>   ' Chinese': 0.003985 <br>   ' Shanghai': 0.000371 <br>   'China': 6e-05 <br>   ' Mandarin': 4.8e-05 <br>   ' Cheng': 2.9e-05 <br>   ' Chong': 1.9e-05 <br>   'Chinese': 1e-05 <br>   ' Tian': 7e-06 \"]],[[\" Beijing\",\"0.3687\",\"' Beijing': 0.368704 <br>   ' Lima': 0.142148 <br>   ' Ch': 0.08422 <br>   ' Pe': 0.047243 <br>   ' New': 0.029334 <br>   ' Delhi': 0.029106 <br>   ' Petr': 0.025486 <br>   ' L': 0.013749 <br>   ' Nepal': 0.012421 <br>   ' Republic': 0.011668 \"],[\" Beijing\",\"0.2918\",\"' Beijing': 0.291837 <br>   ' Communist': 0.146745 <br>   ' China': 0.062623 <br>   ' Ch': 0.034048 <br>   ' Soviet': 0.028007 <br>   ' Lenin': 0.026105 <br>   ' today': 0.025105 <br>   ' Peoples': 0.022504 <br>   ' Chong': 0.021983 <br>   ' P': 0.021306 \"],[\" Beijing\",\"0.7402\",\"' Beijing': 0.740216 <br>   ' China': 0.118963 <br>   ' Tehran': 0.078018 <br>   ' Chong': 0.010234 <br>   ' Mao': 0.007429 <br>   ' Republic': 0.006711 <br>   ' Pyongyang': 0.004722 <br>   ' Moscow': 0.003678 <br>   ' Communist': 0.003678 <br>   ' Chinese': 0.00282 \"],[\" today\",\"0.1405\",\"' today': 0.140511 <br>   ' Republic': 0.096572 <br>   ' Havana': 0.074044 <br>   ' Moscow': 0.039633 <br>   ' President': 0.024227 <br>   ' Lima': 0.022232 <br>   ' Pret': 0.020085 <br>   ' now': 0.01718 <br>   ' Car': 0.014695 <br>   '\\n': 0.014242 \"],[\" Beijing\",\"0.959\",\"' Beijing': 0.958959 <br>   ' China': 0.032305 <br>   ' Chinese': 0.007917 <br>   ' Shanghai': 0.000583 <br>   ' Mandarin': 8.5e-05 <br>   'China': 4.9e-05 <br>   ' Cheng': 3.6e-05 <br>   ' Chong': 2.4e-05 <br>   'Chinese': 1.5e-05 <br>   ' Tian': 1e-05 \"]],[[\" Lima\",\"0.3109\",\"' Lima': 0.31087 <br>   ' Ch': 0.066707 <br>   ' Beijing': 0.065673 <br>   ' Pe': 0.054021 <br>   ' Delhi': 0.033806 <br>   ' Ja': 0.033806 <br>   ' New': 0.030541 <br>   ' Petr': 0.027591 <br>   ' Chand': 0.02416 <br>   ' Nepal': 0.02416 \"],[\" Communist\",\"0.1093\",\"' Communist': 0.109254 <br>   ' today': 0.066266 <br>   ' Lenin': 0.055802 <br>   ' Ch': 0.050808 <br>   ' Marxist': 0.04519 <br>   '\\n': 0.041794 <br>   ' Soviet': 0.039569 <br>   ' Marxism': 0.028501 <br>   ' P': 0.022546 <br>   ' Bolshe': 0.022196 \"],[\" Beijing\",\"0.4345\",\"' Beijing': 0.434532 <br>   ' Tehran': 0.322917 <br>   ' China': 0.116953 <br>   ' Mao': 0.016849 <br>   ' Republic': 0.012619 <br>   ' Chong': 0.007774 <br>   ' Peoples': 0.007303 <br>   ' Communist': 0.006598 <br>   ' Petro': 0.004395 <br>   ' Chinese': 0.00373 \"],[\" today\",\"0.0582\",\"' today': 0.058214 <br>   ' Republic': 0.057312 <br>   ' Russia': 0.05342 <br>   ' Moscow': 0.044984 <br>   ' Havana': 0.035586 <br>   ' Venezuela': 0.029044 <br>   ' Pret': 0.026035 <br>   ' Lima': 0.020276 <br>   ' now': 0.020118 <br>   ' Peru': 0.018175 \"],[\" Beijing\",\"0.925\",\"' Beijing': 0.924972 <br>   ' China': 0.046777 <br>   ' Chinese': 0.026653 <br>   ' Shanghai': 0.000971 <br>   ' Mandarin': 0.000234 <br>   ' Cheng': 0.000177 <br>   'China': 7.1e-05 <br>   ' Chong': 3.8e-05 <br>   'Chinese': 3.5e-05 <br>   ' Tian': 1.5e-05 \"]],[[\" Lima\",\"0.2672\",\"' Lima': 0.267228 <br>   ' Delhi': 0.075375 <br>   ' Chand': 0.062488 <br>   ' New': 0.04982 <br>   ' Ch': 0.04982 <br>   ' Nepal': 0.038198 <br>   ' Pe': 0.03478 <br>   ' Chou': 0.032929 <br>   ' Ja': 0.017488 <br>   ' Beijing': 0.014842 \"],[\" Republic\",\"0.0665\",\"' Republic': 0.066525 <br>   ' today': 0.053455 <br>   ' Communist': 0.052216 <br>   '\\n': 0.043289 <br>   ' Lenin': 0.038804 <br>   ' Marxist': 0.031424 <br>   ' Tehran': 0.022812 <br>   ' Ch': 0.021938 <br>   ' Soviet': 0.020609 <br>   ' Dh': 0.020448 \"],[\" Tehran\",\"0.5225\",\"' Tehran': 0.522486 <br>   ' Beijing': 0.231852 <br>   ' China': 0.077661 <br>   ' Republic': 0.023501 <br>   ' Mao': 0.012579 <br>   ' Iran': 0.008713 <br>   ' Chong': 0.007934 <br>   ' Communist': 0.007056 <br>   ' Peoples': 0.007056 <br>   ' Petro': 0.003927 \"],[\" Republic\",\"0.0455\",\"' Republic': 0.045487 <br>   ' today': 0.03302 <br>   ' President': 0.032255 <br>   ' Havana': 0.030065 <br>   ' Russia': 0.030065 <br>   ' Moscow': 0.026326 <br>   '\\n': 0.023783 <br>   ' Tehran': 0.0174 <br>   ' Venezuela': 0.016865 <br>   ' Pakistan': 0.015967 \"],[\" Beijing\",\"0.8798\",\"' Beijing': 0.879782 <br>   ' China': 0.074509 <br>   ' Chinese': 0.043802 <br>   ' Shanghai': 0.000983 <br>   ' Cheng': 0.000314 <br>   ' Mandarin': 0.000249 <br>   ' Chong': 7.6e-05 <br>   'China': 6.9e-05 <br>   ' Tian': 3.9e-05 <br>   'Chinese': 3.9e-05 \"]],[[\" Lima\",\"0.1786\",\"' Lima': 0.178567 <br>   ' Chand': 0.092639 <br>   ' Chou': 0.073859 <br>   ' Ja': 0.036849 <br>   ' Nepal': 0.033815 <br>   ' Delhi': 0.033291 <br>   ' Ch': 0.024356 <br>   ' Pe': 0.018821 <br>   ' Beijing': 0.013986 <br>   ' Peru': 0.01244 \"],[\" Republic\",\"0.0524\",\"' Republic': 0.052415 <br>   ' today': 0.049626 <br>   ' Dh': 0.0301 <br>   ' Soviet': 0.026563 <br>   ' Lenin': 0.024954 <br>   '\\n': 0.024759 <br>   ' Peoples': 0.01742 <br>   ' USSR': 0.016111 <br>   ' Syl': 0.015738 <br>   ' Communist': 0.013998 \"],[\" Beijing\",\"0.3576\",\"' Beijing': 0.357578 <br>   ' China': 0.24576 <br>   ' Tehran': 0.161173 <br>   ' Mao': 0.023401 <br>   ' Chong': 0.021983 <br>   ' Republic': 0.012923 <br>   ' Chinese': 0.011141 <br>   ' Peoples': 0.008151 <br>   ' Iran': 0.005825 <br>   ' Dh': 0.005558 \"],[\" Tehran\",\"0.0415\",\"' Tehran': 0.041489 <br>   ' Peru': 0.031317 <br>   ' Moscow': 0.028073 <br>   ' today': 0.027209 <br>   ' Pret': 0.026167 <br>   ' Russia': 0.024012 <br>   ' Republic': 0.021693 <br>   ' Argentina': 0.019598 <br>   ' Lima': 0.018995 <br>   ' Ch': 0.016894 \"],[\" Beijing\",\"0.6975\",\"' Beijing': 0.697491 <br>   ' China': 0.209425 <br>   ' Chinese': 0.084615 <br>   ' Cheng': 0.002636 <br>   ' Shanghai': 0.002085 <br>   ' Mandarin': 0.001285 <br>   ' Chong': 0.000738 <br>   'China': 0.000354 <br>   'Chinese': 0.000161 <br>   ' Tibetan': 0.000131 \"]],[[\" Lima\",\"0.1917\",\"' Lima': 0.191716 <br>   ' Chou': 0.075666 <br>   ' Chand': 0.059857 <br>   ' Nepal': 0.054928 <br>   ' Peru': 0.025744 <br>   ' Luk': 0.021176 <br>   ' Ja': 0.018543 <br>   ' Ch': 0.015372 <br>   ' Beijing': 0.010901 <br>   ' Chu': 0.009037 \"],[\" Dh\",\"0.0648\",\"' Dh': 0.064756 <br>   ' Republic': 0.03035 <br>   ' today': 0.02807 <br>   '\\n': 0.020859 <br>   ' Marxist': 0.017842 <br>   ' Syl': 0.016373 <br>   ' Lenin': 0.016245 <br>   ' Soviet': 0.014225 <br>   ' the': 0.013259 <br>   ' Bangladesh': 0.012652 \"],[\" Beijing\",\"0.4484\",\"' Beijing': 0.448404 <br>   ' China': 0.194369 <br>   ' Tehran': 0.105676 <br>   ' Mao': 0.043032 <br>   ' Chong': 0.029807 <br>   ' Chinese': 0.011582 <br>   ' Dh': 0.008811 <br>   ' Republic': 0.007837 <br>   ' Peoples': 0.005869 <br>   ' Kyr': 0.003702 \"],[\" Tehran\",\"0.038\",\"' Tehran': 0.03797 <br>   ' Argentina': 0.031478 <br>   ' Peru': 0.026301 <br>   ' Pret': 0.024135 <br>   ' Havana': 0.022496 <br>   ' Moscow': 0.020166 <br>   ' Ch': 0.016718 <br>   ' Russia': 0.016588 <br>   ' Poland': 0.016331 <br>   '\\n': 0.015222 \"],[\" Beijing\",\"0.6935\",\"' Beijing': 0.693528 <br>   ' China': 0.232303 <br>   ' Chinese': 0.065524 <br>   ' Cheng': 0.002368 <br>   ' Shanghai': 0.001505 <br>   ' Mandarin': 0.001328 <br>   ' Chong': 0.00111 <br>   'China': 0.000481 <br>   'Chinese': 0.000135 <br>   ' Tibetan': 0.000124 \"]],[[\" Chou\",\"0.0833\",\"' Chou': 0.083251 <br>   ' Lima': 0.082603 <br>   ' Nepal': 0.052097 <br>   ' Chand': 0.051692 <br>   ' Luk': 0.021381 <br>   ' Peru': 0.017587 <br>   ' Ja': 0.016522 <br>   ' China': 0.014467 <br>   ' Liu': 0.014354 <br>   ' Ch': 0.012278 \"],[\" today\",\"0.0329\",\"' today': 0.03287 <br>   ' Republic': 0.03287 <br>   ' Dh': 0.0254 <br>   ' Marxist': 0.024618 <br>   ' the': 0.020893 <br>   '\\n': 0.014137 <br>   ' Senate': 0.012283 <br>   ' Lenin': 0.010183 <br>   ' Syl': 0.010025 <br>   ' socialism': 0.008916 \"],[\" Beijing\",\"0.4312\",\"' Beijing': 0.431157 <br>   ' China': 0.271927 <br>   ' Tehran': 0.079135 <br>   ' Chong': 0.022147 <br>   ' Mao': 0.020969 <br>   ' Nepal': 0.012327 <br>   ' Kyr': 0.010626 <br>   ' Chinese': 0.008606 <br>   ' Dh': 0.004715 <br>   ' Kath': 0.004227 \"],[\" Pakistan\",\"0.0417\",\"' Pakistan': 0.041673 <br>   ' Argentina': 0.039455 <br>   ' Tehran': 0.035092 <br>   ' Havana': 0.030251 <br>   ' Peru': 0.024498 <br>   ' Pret': 0.024498 <br>   ' Mexico': 0.019839 <br>   ' Moscow': 0.017923 <br>   ' Venezuela': 0.017784 <br>   ' Russia': 0.017508 \"],[\" Beijing\",\"0.7376\",\"' Beijing': 0.737619 <br>   ' China': 0.214659 <br>   ' Chinese': 0.038486 <br>   ' Chong': 0.001857 <br>   ' Cheng': 0.001601 <br>   ' Shanghai': 0.001516 <br>   ' Mandarin': 0.001066 <br>   'China': 0.000473 <br>   ' Tian': 0.000249 <br>   ' Zheng': 0.000224 \"]],[[\" Lima\",\"0.1006\",\"' Lima': 0.10062 <br>   ' Chou': 0.088106 <br>   ' Beijing': 0.033704 <br>   ' Ch': 0.032667 <br>   ' Pe': 0.024087 <br>   ' Liu': 0.022103 <br>   ' the': 0.013617 <br>   ' New': 0.012594 <br>   ' Luk': 0.010772 <br>   '\\n': 0.009963 \"],[\" the\",\"0.0925\",\"' the': 0.092486 <br>   '\\n': 0.037368 <br>   ' today': 0.029792 <br>   ' Senate': 0.019538 <br>   ' Lenin': 0.017108 <br>   ' Marxist': 0.016975 <br>   ' Republic': 0.016712 <br>   ' Communist': 0.011046 <br>   ' again': 0.010706 <br>   ' Soviet': 0.007956 \"],[\" Beijing\",\"0.817\",\"' Beijing': 0.817005 <br>   ' Tehran': 0.063993 <br>   ' China': 0.042297 <br>   ' Chong': 0.009438 <br>   ' Mao': 0.009438 <br>   ' Chinese': 0.003813 <br>   ' Republic': 0.002207 <br>   ' Pyongyang': 0.001917 <br>   ' Dh': 0.001705 <br>   ' communist': 0.001425 \"],[\" Havana\",\"0.0512\",\"' Havana': 0.051168 <br>   '\\n': 0.044804 <br>   ' Moscow': 0.036283 <br>   ' Islamabad': 0.022529 <br>   ' Tehran': 0.018971 <br>   ' Washington': 0.015605 <br>   ' Ankara': 0.015007 <br>   ' Mexico': 0.013989 <br>   '...': 0.012737 <br>   ' ': 0.011688 \"],[\" Beijing\",\"0.9764\",\"' Beijing': 0.976354 <br>   ' China': 0.015296 <br>   ' Chinese': 0.006894 <br>   ' Shanghai': 0.000631 <br>   ' Chong': 0.000197 <br>   ' Mandarin': 0.000157 <br>   ' Cheng': 0.000144 <br>   ' Xi': 3.6e-05 <br>   ' Tian': 3.2e-05 <br>   ' Zheng': 3.1e-05 \"]]],\"reversescale\":false,\"showscale\":false,\"x\":[0,1,2,3,4],\"y\":[0,1,2,3,4,5,6,7,8,9,10,11,12,13,14,15,16],\"z\":[[0.1671,0.2006,0.1832,0.1591,0.8765],[0.2201,0.1952,0.3385,0.1569,0.977],[0.1327,0.1447,0.2931,0.1731,0.9931],[0.1444,0.1449,0.7493,0.1108,0.9933],[0.3412,0.0989,0.6932,0.1013,0.9931],[0.446,0.2246,0.9064,0.1399,0.9881],[0.4685,0.3951,0.8041,0.0814,0.9653],[0.2971,0.2723,0.7862,0.0848,0.9678],[0.5869,0.5201,0.8132,0.0922,0.9512],[0.6235,0.5917,0.8154,0.1284,0.9599],[0.3687,0.2918,0.7402,0.1405,0.959],[0.3109,0.1093,0.4345,0.0582,0.925],[0.2672,0.0665,0.5225,0.0455,0.8798],[0.1786,0.0524,0.3576,0.0415,0.6975],[0.1917,0.0648,0.4484,0.038,0.6935],[0.0833,0.0329,0.4312,0.0417,0.7376],[0.1006,0.0925,0.817,0.0512,0.9764]],\"type\":\"heatmap\",\"hovertemplate\":\"<b>'%{customdata[0]}': %{customdata[1]}</b><br><br>Top_k:<br>   %{customdata[2]}<extra></extra>\"}],                        {\"annotations\":[{\"font\":{\"color\":\"#000000\"},\"showarrow\":false,\"text\":\" New\",\"x\":0,\"xref\":\"x\",\"y\":0,\"yref\":\"y\"},{\"font\":{\"color\":\"#000000\"},\"showarrow\":false,\"text\":\" Mexico\",\"x\":1,\"xref\":\"x\",\"y\":0,\"yref\":\"y\"},{\"font\":{\"color\":\"#000000\"},\"showarrow\":false,\"text\":\" Mexico\",\"x\":2,\"xref\":\"x\",\"y\":0,\"yref\":\"y\"},{\"font\":{\"color\":\"#000000\"},\"showarrow\":false,\"text\":\"\\n\",\"x\":3,\"xref\":\"x\",\"y\":0,\"yref\":\"y\"},{\"font\":{\"color\":\"#FFFFFF\"},\"showarrow\":false,\"text\":\" Beijing\",\"x\":4,\"xref\":\"x\",\"y\":0,\"yref\":\"y\"},{\"font\":{\"color\":\"#000000\"},\"showarrow\":false,\"text\":\" New\",\"x\":0,\"xref\":\"x\",\"y\":1,\"yref\":\"y\"},{\"font\":{\"color\":\"#000000\"},\"showarrow\":false,\"text\":\" Islamabad\",\"x\":1,\"xref\":\"x\",\"y\":1,\"yref\":\"y\"},{\"font\":{\"color\":\"#000000\"},\"showarrow\":false,\"text\":\" Islamabad\",\"x\":2,\"xref\":\"x\",\"y\":1,\"yref\":\"y\"},{\"font\":{\"color\":\"#000000\"},\"showarrow\":false,\"text\":\" Islamabad\",\"x\":3,\"xref\":\"x\",\"y\":1,\"yref\":\"y\"},{\"font\":{\"color\":\"#FFFFFF\"},\"showarrow\":false,\"text\":\" Beijing\",\"x\":4,\"xref\":\"x\",\"y\":1,\"yref\":\"y\"},{\"font\":{\"color\":\"#000000\"},\"showarrow\":false,\"text\":\" New\",\"x\":0,\"xref\":\"x\",\"y\":2,\"yref\":\"y\"},{\"font\":{\"color\":\"#000000\"},\"showarrow\":false,\"text\":\"\\n\",\"x\":1,\"xref\":\"x\",\"y\":2,\"yref\":\"y\"},{\"font\":{\"color\":\"#000000\"},\"showarrow\":false,\"text\":\" Beijing\",\"x\":2,\"xref\":\"x\",\"y\":2,\"yref\":\"y\"},{\"font\":{\"color\":\"#000000\"},\"showarrow\":false,\"text\":\" Mexico\",\"x\":3,\"xref\":\"x\",\"y\":2,\"yref\":\"y\"},{\"font\":{\"color\":\"#FFFFFF\"},\"showarrow\":false,\"text\":\" Beijing\",\"x\":4,\"xref\":\"x\",\"y\":2,\"yref\":\"y\"},{\"font\":{\"color\":\"#000000\"},\"showarrow\":false,\"text\":\" Lima\",\"x\":0,\"xref\":\"x\",\"y\":3,\"yref\":\"y\"},{\"font\":{\"color\":\"#000000\"},\"showarrow\":false,\"text\":\"\\n\",\"x\":1,\"xref\":\"x\",\"y\":3,\"yref\":\"y\"},{\"font\":{\"color\":\"#FFFFFF\"},\"showarrow\":false,\"text\":\" Beijing\",\"x\":2,\"xref\":\"x\",\"y\":3,\"yref\":\"y\"},{\"font\":{\"color\":\"#000000\"},\"showarrow\":false,\"text\":\"\\n\",\"x\":3,\"xref\":\"x\",\"y\":3,\"yref\":\"y\"},{\"font\":{\"color\":\"#FFFFFF\"},\"showarrow\":false,\"text\":\" Beijing\",\"x\":4,\"xref\":\"x\",\"y\":3,\"yref\":\"y\"},{\"font\":{\"color\":\"#000000\"},\"showarrow\":false,\"text\":\" Lima\",\"x\":0,\"xref\":\"x\",\"y\":4,\"yref\":\"y\"},{\"font\":{\"color\":\"#000000\"},\"showarrow\":false,\"text\":\"\\n\",\"x\":1,\"xref\":\"x\",\"y\":4,\"yref\":\"y\"},{\"font\":{\"color\":\"#FFFFFF\"},\"showarrow\":false,\"text\":\" Beijing\",\"x\":2,\"xref\":\"x\",\"y\":4,\"yref\":\"y\"},{\"font\":{\"color\":\"#000000\"},\"showarrow\":false,\"text\":\"\\n\",\"x\":3,\"xref\":\"x\",\"y\":4,\"yref\":\"y\"},{\"font\":{\"color\":\"#FFFFFF\"},\"showarrow\":false,\"text\":\" Beijing\",\"x\":4,\"xref\":\"x\",\"y\":4,\"yref\":\"y\"},{\"font\":{\"color\":\"#000000\"},\"showarrow\":false,\"text\":\" Lima\",\"x\":0,\"xref\":\"x\",\"y\":5,\"yref\":\"y\"},{\"font\":{\"color\":\"#000000\"},\"showarrow\":false,\"text\":\" Beijing\",\"x\":1,\"xref\":\"x\",\"y\":5,\"yref\":\"y\"},{\"font\":{\"color\":\"#FFFFFF\"},\"showarrow\":false,\"text\":\" Beijing\",\"x\":2,\"xref\":\"x\",\"y\":5,\"yref\":\"y\"},{\"font\":{\"color\":\"#000000\"},\"showarrow\":false,\"text\":\" Mexico\",\"x\":3,\"xref\":\"x\",\"y\":5,\"yref\":\"y\"},{\"font\":{\"color\":\"#FFFFFF\"},\"showarrow\":false,\"text\":\" Beijing\",\"x\":4,\"xref\":\"x\",\"y\":5,\"yref\":\"y\"},{\"font\":{\"color\":\"#000000\"},\"showarrow\":false,\"text\":\" Lima\",\"x\":0,\"xref\":\"x\",\"y\":6,\"yref\":\"y\"},{\"font\":{\"color\":\"#000000\"},\"showarrow\":false,\"text\":\" Beijing\",\"x\":1,\"xref\":\"x\",\"y\":6,\"yref\":\"y\"},{\"font\":{\"color\":\"#FFFFFF\"},\"showarrow\":false,\"text\":\" Beijing\",\"x\":2,\"xref\":\"x\",\"y\":6,\"yref\":\"y\"},{\"font\":{\"color\":\"#000000\"},\"showarrow\":false,\"text\":\" Moscow\",\"x\":3,\"xref\":\"x\",\"y\":6,\"yref\":\"y\"},{\"font\":{\"color\":\"#FFFFFF\"},\"showarrow\":false,\"text\":\" Beijing\",\"x\":4,\"xref\":\"x\",\"y\":6,\"yref\":\"y\"},{\"font\":{\"color\":\"#000000\"},\"showarrow\":false,\"text\":\" Lima\",\"x\":0,\"xref\":\"x\",\"y\":7,\"yref\":\"y\"},{\"font\":{\"color\":\"#000000\"},\"showarrow\":false,\"text\":\" Beijing\",\"x\":1,\"xref\":\"x\",\"y\":7,\"yref\":\"y\"},{\"font\":{\"color\":\"#FFFFFF\"},\"showarrow\":false,\"text\":\" Beijing\",\"x\":2,\"xref\":\"x\",\"y\":7,\"yref\":\"y\"},{\"font\":{\"color\":\"#000000\"},\"showarrow\":false,\"text\":\" today\",\"x\":3,\"xref\":\"x\",\"y\":7,\"yref\":\"y\"},{\"font\":{\"color\":\"#FFFFFF\"},\"showarrow\":false,\"text\":\" Beijing\",\"x\":4,\"xref\":\"x\",\"y\":7,\"yref\":\"y\"},{\"font\":{\"color\":\"#FFFFFF\"},\"showarrow\":false,\"text\":\" Beijing\",\"x\":0,\"xref\":\"x\",\"y\":8,\"yref\":\"y\"},{\"font\":{\"color\":\"#FFFFFF\"},\"showarrow\":false,\"text\":\" Beijing\",\"x\":1,\"xref\":\"x\",\"y\":8,\"yref\":\"y\"},{\"font\":{\"color\":\"#FFFFFF\"},\"showarrow\":false,\"text\":\" Beijing\",\"x\":2,\"xref\":\"x\",\"y\":8,\"yref\":\"y\"},{\"font\":{\"color\":\"#000000\"},\"showarrow\":false,\"text\":\" Republic\",\"x\":3,\"xref\":\"x\",\"y\":8,\"yref\":\"y\"},{\"font\":{\"color\":\"#FFFFFF\"},\"showarrow\":false,\"text\":\" Beijing\",\"x\":4,\"xref\":\"x\",\"y\":8,\"yref\":\"y\"},{\"font\":{\"color\":\"#FFFFFF\"},\"showarrow\":false,\"text\":\" Beijing\",\"x\":0,\"xref\":\"x\",\"y\":9,\"yref\":\"y\"},{\"font\":{\"color\":\"#FFFFFF\"},\"showarrow\":false,\"text\":\" Beijing\",\"x\":1,\"xref\":\"x\",\"y\":9,\"yref\":\"y\"},{\"font\":{\"color\":\"#FFFFFF\"},\"showarrow\":false,\"text\":\" Beijing\",\"x\":2,\"xref\":\"x\",\"y\":9,\"yref\":\"y\"},{\"font\":{\"color\":\"#000000\"},\"showarrow\":false,\"text\":\" today\",\"x\":3,\"xref\":\"x\",\"y\":9,\"yref\":\"y\"},{\"font\":{\"color\":\"#FFFFFF\"},\"showarrow\":false,\"text\":\" Beijing\",\"x\":4,\"xref\":\"x\",\"y\":9,\"yref\":\"y\"},{\"font\":{\"color\":\"#000000\"},\"showarrow\":false,\"text\":\" Beijing\",\"x\":0,\"xref\":\"x\",\"y\":10,\"yref\":\"y\"},{\"font\":{\"color\":\"#000000\"},\"showarrow\":false,\"text\":\" Beijing\",\"x\":1,\"xref\":\"x\",\"y\":10,\"yref\":\"y\"},{\"font\":{\"color\":\"#FFFFFF\"},\"showarrow\":false,\"text\":\" Beijing\",\"x\":2,\"xref\":\"x\",\"y\":10,\"yref\":\"y\"},{\"font\":{\"color\":\"#000000\"},\"showarrow\":false,\"text\":\" today\",\"x\":3,\"xref\":\"x\",\"y\":10,\"yref\":\"y\"},{\"font\":{\"color\":\"#FFFFFF\"},\"showarrow\":false,\"text\":\" Beijing\",\"x\":4,\"xref\":\"x\",\"y\":10,\"yref\":\"y\"},{\"font\":{\"color\":\"#000000\"},\"showarrow\":false,\"text\":\" Lima\",\"x\":0,\"xref\":\"x\",\"y\":11,\"yref\":\"y\"},{\"font\":{\"color\":\"#000000\"},\"showarrow\":false,\"text\":\" Communist\",\"x\":1,\"xref\":\"x\",\"y\":11,\"yref\":\"y\"},{\"font\":{\"color\":\"#000000\"},\"showarrow\":false,\"text\":\" Beijing\",\"x\":2,\"xref\":\"x\",\"y\":11,\"yref\":\"y\"},{\"font\":{\"color\":\"#000000\"},\"showarrow\":false,\"text\":\" today\",\"x\":3,\"xref\":\"x\",\"y\":11,\"yref\":\"y\"},{\"font\":{\"color\":\"#FFFFFF\"},\"showarrow\":false,\"text\":\" Beijing\",\"x\":4,\"xref\":\"x\",\"y\":11,\"yref\":\"y\"},{\"font\":{\"color\":\"#000000\"},\"showarrow\":false,\"text\":\" Lima\",\"x\":0,\"xref\":\"x\",\"y\":12,\"yref\":\"y\"},{\"font\":{\"color\":\"#000000\"},\"showarrow\":false,\"text\":\" Republic\",\"x\":1,\"xref\":\"x\",\"y\":12,\"yref\":\"y\"},{\"font\":{\"color\":\"#FFFFFF\"},\"showarrow\":false,\"text\":\" Tehran\",\"x\":2,\"xref\":\"x\",\"y\":12,\"yref\":\"y\"},{\"font\":{\"color\":\"#000000\"},\"showarrow\":false,\"text\":\" Republic\",\"x\":3,\"xref\":\"x\",\"y\":12,\"yref\":\"y\"},{\"font\":{\"color\":\"#FFFFFF\"},\"showarrow\":false,\"text\":\" Beijing\",\"x\":4,\"xref\":\"x\",\"y\":12,\"yref\":\"y\"},{\"font\":{\"color\":\"#000000\"},\"showarrow\":false,\"text\":\" Lima\",\"x\":0,\"xref\":\"x\",\"y\":13,\"yref\":\"y\"},{\"font\":{\"color\":\"#000000\"},\"showarrow\":false,\"text\":\" Republic\",\"x\":1,\"xref\":\"x\",\"y\":13,\"yref\":\"y\"},{\"font\":{\"color\":\"#000000\"},\"showarrow\":false,\"text\":\" Beijing\",\"x\":2,\"xref\":\"x\",\"y\":13,\"yref\":\"y\"},{\"font\":{\"color\":\"#000000\"},\"showarrow\":false,\"text\":\" Tehran\",\"x\":3,\"xref\":\"x\",\"y\":13,\"yref\":\"y\"},{\"font\":{\"color\":\"#FFFFFF\"},\"showarrow\":false,\"text\":\" Beijing\",\"x\":4,\"xref\":\"x\",\"y\":13,\"yref\":\"y\"},{\"font\":{\"color\":\"#000000\"},\"showarrow\":false,\"text\":\" Lima\",\"x\":0,\"xref\":\"x\",\"y\":14,\"yref\":\"y\"},{\"font\":{\"color\":\"#000000\"},\"showarrow\":false,\"text\":\" Dh\",\"x\":1,\"xref\":\"x\",\"y\":14,\"yref\":\"y\"},{\"font\":{\"color\":\"#000000\"},\"showarrow\":false,\"text\":\" Beijing\",\"x\":2,\"xref\":\"x\",\"y\":14,\"yref\":\"y\"},{\"font\":{\"color\":\"#000000\"},\"showarrow\":false,\"text\":\" Tehran\",\"x\":3,\"xref\":\"x\",\"y\":14,\"yref\":\"y\"},{\"font\":{\"color\":\"#FFFFFF\"},\"showarrow\":false,\"text\":\" Beijing\",\"x\":4,\"xref\":\"x\",\"y\":14,\"yref\":\"y\"},{\"font\":{\"color\":\"#000000\"},\"showarrow\":false,\"text\":\" Chou\",\"x\":0,\"xref\":\"x\",\"y\":15,\"yref\":\"y\"},{\"font\":{\"color\":\"#000000\"},\"showarrow\":false,\"text\":\" today\",\"x\":1,\"xref\":\"x\",\"y\":15,\"yref\":\"y\"},{\"font\":{\"color\":\"#000000\"},\"showarrow\":false,\"text\":\" Beijing\",\"x\":2,\"xref\":\"x\",\"y\":15,\"yref\":\"y\"},{\"font\":{\"color\":\"#000000\"},\"showarrow\":false,\"text\":\" Pakistan\",\"x\":3,\"xref\":\"x\",\"y\":15,\"yref\":\"y\"},{\"font\":{\"color\":\"#FFFFFF\"},\"showarrow\":false,\"text\":\" Beijing\",\"x\":4,\"xref\":\"x\",\"y\":15,\"yref\":\"y\"},{\"font\":{\"color\":\"#000000\"},\"showarrow\":false,\"text\":\" Lima\",\"x\":0,\"xref\":\"x\",\"y\":16,\"yref\":\"y\"},{\"font\":{\"color\":\"#000000\"},\"showarrow\":false,\"text\":\" the\",\"x\":1,\"xref\":\"x\",\"y\":16,\"yref\":\"y\"},{\"font\":{\"color\":\"#FFFFFF\"},\"showarrow\":false,\"text\":\" Beijing\",\"x\":2,\"xref\":\"x\",\"y\":16,\"yref\":\"y\"},{\"font\":{\"color\":\"#000000\"},\"showarrow\":false,\"text\":\" Havana\",\"x\":3,\"xref\":\"x\",\"y\":16,\"yref\":\"y\"},{\"font\":{\"color\":\"#FFFFFF\"},\"showarrow\":false,\"text\":\" Beijing\",\"x\":4,\"xref\":\"x\",\"y\":16,\"yref\":\"y\"}],\"xaxis\":{\"dtick\":1,\"gridcolor\":\"rgb(0, 0, 0)\",\"side\":\"bottom\",\"ticks\":\"\",\"range\":[-0.5,5],\"tickfont\":{\"family\":\"Courier New, Monospace\",\"color\":\"darkblue\",\"size\":17},\"tickmode\":\"array\",\"tickvals\":[0,1,2,3,4],\"ticktext\":[\" People\",\"'s\",\" Republic\",\" of\",\" China\"]},\"yaxis\":{\"dtick\":1,\"ticks\":\"\",\"ticksuffix\":\"  \",\"range\":[-0.5,17],\"tickfont\":{\"family\":\"verdana\",\"color\":\"firebrick\",\"size\":14},\"tickmode\":\"array\",\"tickvals\":[0,1,2,3,4,5,6,7,8,9,10,11,12,13,14,15,16],\"ticktext\":[\"h.0 \",\"h.2 \",\"h.4 \",\"h.6 \",\"h.8 \",\"h.10 \",\"h.12 \",\"h.14 \",\"h.15 \",\"h.16 \",\"h.18 \",\"h.20 \",\"h.22 \",\"h.24 \",\"h.25 \",\"h.26 \",\"h.27 \"]},\"template\":{\"data\":{\"histogram2dcontour\":[{\"type\":\"histogram2dcontour\",\"colorbar\":{\"outlinewidth\":0,\"ticks\":\"\"},\"colorscale\":[[0.0,\"#0d0887\"],[0.1111111111111111,\"#46039f\"],[0.2222222222222222,\"#7201a8\"],[0.3333333333333333,\"#9c179e\"],[0.4444444444444444,\"#bd3786\"],[0.5555555555555556,\"#d8576b\"],[0.6666666666666666,\"#ed7953\"],[0.7777777777777778,\"#fb9f3a\"],[0.8888888888888888,\"#fdca26\"],[1.0,\"#f0f921\"]]}],\"choropleth\":[{\"type\":\"choropleth\",\"colorbar\":{\"outlinewidth\":0,\"ticks\":\"\"}}],\"histogram2d\":[{\"type\":\"histogram2d\",\"colorbar\":{\"outlinewidth\":0,\"ticks\":\"\"},\"colorscale\":[[0.0,\"#0d0887\"],[0.1111111111111111,\"#46039f\"],[0.2222222222222222,\"#7201a8\"],[0.3333333333333333,\"#9c179e\"],[0.4444444444444444,\"#bd3786\"],[0.5555555555555556,\"#d8576b\"],[0.6666666666666666,\"#ed7953\"],[0.7777777777777778,\"#fb9f3a\"],[0.8888888888888888,\"#fdca26\"],[1.0,\"#f0f921\"]]}],\"heatmap\":[{\"type\":\"heatmap\",\"colorbar\":{\"outlinewidth\":0,\"ticks\":\"\"},\"colorscale\":[[0.0,\"#0d0887\"],[0.1111111111111111,\"#46039f\"],[0.2222222222222222,\"#7201a8\"],[0.3333333333333333,\"#9c179e\"],[0.4444444444444444,\"#bd3786\"],[0.5555555555555556,\"#d8576b\"],[0.6666666666666666,\"#ed7953\"],[0.7777777777777778,\"#fb9f3a\"],[0.8888888888888888,\"#fdca26\"],[1.0,\"#f0f921\"]]}],\"heatmapgl\":[{\"type\":\"heatmapgl\",\"colorbar\":{\"outlinewidth\":0,\"ticks\":\"\"},\"colorscale\":[[0.0,\"#0d0887\"],[0.1111111111111111,\"#46039f\"],[0.2222222222222222,\"#7201a8\"],[0.3333333333333333,\"#9c179e\"],[0.4444444444444444,\"#bd3786\"],[0.5555555555555556,\"#d8576b\"],[0.6666666666666666,\"#ed7953\"],[0.7777777777777778,\"#fb9f3a\"],[0.8888888888888888,\"#fdca26\"],[1.0,\"#f0f921\"]]}],\"contourcarpet\":[{\"type\":\"contourcarpet\",\"colorbar\":{\"outlinewidth\":0,\"ticks\":\"\"}}],\"contour\":[{\"type\":\"contour\",\"colorbar\":{\"outlinewidth\":0,\"ticks\":\"\"},\"colorscale\":[[0.0,\"#0d0887\"],[0.1111111111111111,\"#46039f\"],[0.2222222222222222,\"#7201a8\"],[0.3333333333333333,\"#9c179e\"],[0.4444444444444444,\"#bd3786\"],[0.5555555555555556,\"#d8576b\"],[0.6666666666666666,\"#ed7953\"],[0.7777777777777778,\"#fb9f3a\"],[0.8888888888888888,\"#fdca26\"],[1.0,\"#f0f921\"]]}],\"surface\":[{\"type\":\"surface\",\"colorbar\":{\"outlinewidth\":0,\"ticks\":\"\"},\"colorscale\":[[0.0,\"#0d0887\"],[0.1111111111111111,\"#46039f\"],[0.2222222222222222,\"#7201a8\"],[0.3333333333333333,\"#9c179e\"],[0.4444444444444444,\"#bd3786\"],[0.5555555555555556,\"#d8576b\"],[0.6666666666666666,\"#ed7953\"],[0.7777777777777778,\"#fb9f3a\"],[0.8888888888888888,\"#fdca26\"],[1.0,\"#f0f921\"]]}],\"mesh3d\":[{\"type\":\"mesh3d\",\"colorbar\":{\"outlinewidth\":0,\"ticks\":\"\"}}],\"scatter\":[{\"fillpattern\":{\"fillmode\":\"overlay\",\"size\":10,\"solidity\":0.2},\"type\":\"scatter\"}],\"parcoords\":[{\"type\":\"parcoords\",\"line\":{\"colorbar\":{\"outlinewidth\":0,\"ticks\":\"\"}}}],\"scatterpolargl\":[{\"type\":\"scatterpolargl\",\"marker\":{\"colorbar\":{\"outlinewidth\":0,\"ticks\":\"\"}}}],\"bar\":[{\"error_x\":{\"color\":\"#2a3f5f\"},\"error_y\":{\"color\":\"#2a3f5f\"},\"marker\":{\"line\":{\"color\":\"#E5ECF6\",\"width\":0.5},\"pattern\":{\"fillmode\":\"overlay\",\"size\":10,\"solidity\":0.2}},\"type\":\"bar\"}],\"scattergeo\":[{\"type\":\"scattergeo\",\"marker\":{\"colorbar\":{\"outlinewidth\":0,\"ticks\":\"\"}}}],\"scatterpolar\":[{\"type\":\"scatterpolar\",\"marker\":{\"colorbar\":{\"outlinewidth\":0,\"ticks\":\"\"}}}],\"histogram\":[{\"marker\":{\"pattern\":{\"fillmode\":\"overlay\",\"size\":10,\"solidity\":0.2}},\"type\":\"histogram\"}],\"scattergl\":[{\"type\":\"scattergl\",\"marker\":{\"colorbar\":{\"outlinewidth\":0,\"ticks\":\"\"}}}],\"scatter3d\":[{\"type\":\"scatter3d\",\"line\":{\"colorbar\":{\"outlinewidth\":0,\"ticks\":\"\"}},\"marker\":{\"colorbar\":{\"outlinewidth\":0,\"ticks\":\"\"}}}],\"scattermapbox\":[{\"type\":\"scattermapbox\",\"marker\":{\"colorbar\":{\"outlinewidth\":0,\"ticks\":\"\"}}}],\"scatterternary\":[{\"type\":\"scatterternary\",\"marker\":{\"colorbar\":{\"outlinewidth\":0,\"ticks\":\"\"}}}],\"scattercarpet\":[{\"type\":\"scattercarpet\",\"marker\":{\"colorbar\":{\"outlinewidth\":0,\"ticks\":\"\"}}}],\"carpet\":[{\"aaxis\":{\"endlinecolor\":\"#2a3f5f\",\"gridcolor\":\"white\",\"linecolor\":\"white\",\"minorgridcolor\":\"white\",\"startlinecolor\":\"#2a3f5f\"},\"baxis\":{\"endlinecolor\":\"#2a3f5f\",\"gridcolor\":\"white\",\"linecolor\":\"white\",\"minorgridcolor\":\"white\",\"startlinecolor\":\"#2a3f5f\"},\"type\":\"carpet\"}],\"table\":[{\"cells\":{\"fill\":{\"color\":\"#EBF0F8\"},\"line\":{\"color\":\"white\"}},\"header\":{\"fill\":{\"color\":\"#C8D4E3\"},\"line\":{\"color\":\"white\"}},\"type\":\"table\"}],\"barpolar\":[{\"marker\":{\"line\":{\"color\":\"#E5ECF6\",\"width\":0.5},\"pattern\":{\"fillmode\":\"overlay\",\"size\":10,\"solidity\":0.2}},\"type\":\"barpolar\"}],\"pie\":[{\"automargin\":true,\"type\":\"pie\"}]},\"layout\":{\"autotypenumbers\":\"strict\",\"colorway\":[\"#636efa\",\"#EF553B\",\"#00cc96\",\"#ab63fa\",\"#FFA15A\",\"#19d3f3\",\"#FF6692\",\"#B6E880\",\"#FF97FF\",\"#FECB52\"],\"font\":{\"color\":\"#2a3f5f\"},\"hovermode\":\"closest\",\"hoverlabel\":{\"align\":\"left\"},\"paper_bgcolor\":\"white\",\"plot_bgcolor\":\"#E5ECF6\",\"polar\":{\"bgcolor\":\"#E5ECF6\",\"angularaxis\":{\"gridcolor\":\"white\",\"linecolor\":\"white\",\"ticks\":\"\"},\"radialaxis\":{\"gridcolor\":\"white\",\"linecolor\":\"white\",\"ticks\":\"\"}},\"ternary\":{\"bgcolor\":\"#E5ECF6\",\"aaxis\":{\"gridcolor\":\"white\",\"linecolor\":\"white\",\"ticks\":\"\"},\"baxis\":{\"gridcolor\":\"white\",\"linecolor\":\"white\",\"ticks\":\"\"},\"caxis\":{\"gridcolor\":\"white\",\"linecolor\":\"white\",\"ticks\":\"\"}},\"coloraxis\":{\"colorbar\":{\"outlinewidth\":0,\"ticks\":\"\"}},\"colorscale\":{\"sequential\":[[0.0,\"#0d0887\"],[0.1111111111111111,\"#46039f\"],[0.2222222222222222,\"#7201a8\"],[0.3333333333333333,\"#9c179e\"],[0.4444444444444444,\"#bd3786\"],[0.5555555555555556,\"#d8576b\"],[0.6666666666666666,\"#ed7953\"],[0.7777777777777778,\"#fb9f3a\"],[0.8888888888888888,\"#fdca26\"],[1.0,\"#f0f921\"]],\"sequentialminus\":[[0.0,\"#0d0887\"],[0.1111111111111111,\"#46039f\"],[0.2222222222222222,\"#7201a8\"],[0.3333333333333333,\"#9c179e\"],[0.4444444444444444,\"#bd3786\"],[0.5555555555555556,\"#d8576b\"],[0.6666666666666666,\"#ed7953\"],[0.7777777777777778,\"#fb9f3a\"],[0.8888888888888888,\"#fdca26\"],[1.0,\"#f0f921\"]],\"diverging\":[[0,\"#8e0152\"],[0.1,\"#c51b7d\"],[0.2,\"#de77ae\"],[0.3,\"#f1b6da\"],[0.4,\"#fde0ef\"],[0.5,\"#f7f7f7\"],[0.6,\"#e6f5d0\"],[0.7,\"#b8e186\"],[0.8,\"#7fbc41\"],[0.9,\"#4d9221\"],[1,\"#276419\"]]},\"xaxis\":{\"gridcolor\":\"white\",\"linecolor\":\"white\",\"ticks\":\"\",\"title\":{\"standoff\":15},\"zerolinecolor\":\"white\",\"automargin\":true,\"zerolinewidth\":2},\"yaxis\":{\"gridcolor\":\"white\",\"linecolor\":\"white\",\"ticks\":\"\",\"title\":{\"standoff\":15},\"zerolinecolor\":\"white\",\"automargin\":true,\"zerolinewidth\":2},\"scene\":{\"xaxis\":{\"backgroundcolor\":\"#E5ECF6\",\"gridcolor\":\"white\",\"linecolor\":\"white\",\"showbackground\":true,\"ticks\":\"\",\"zerolinecolor\":\"white\",\"gridwidth\":2},\"yaxis\":{\"backgroundcolor\":\"#E5ECF6\",\"gridcolor\":\"white\",\"linecolor\":\"white\",\"showbackground\":true,\"ticks\":\"\",\"zerolinecolor\":\"white\",\"gridwidth\":2},\"zaxis\":{\"backgroundcolor\":\"#E5ECF6\",\"gridcolor\":\"white\",\"linecolor\":\"white\",\"showbackground\":true,\"ticks\":\"\",\"zerolinecolor\":\"white\",\"gridwidth\":2}},\"shapedefaults\":{\"line\":{\"color\":\"#2a3f5f\"}},\"annotationdefaults\":{\"arrowcolor\":\"#2a3f5f\",\"arrowhead\":0,\"arrowwidth\":1},\"geo\":{\"bgcolor\":\"white\",\"landcolor\":\"#E5ECF6\",\"subunitcolor\":\"white\",\"showland\":true,\"showlakes\":true,\"lakecolor\":\"white\"},\"title\":{\"x\":0.05},\"mapbox\":{\"style\":\"light\"}}},\"autosize\":false,\"width\":650,\"height\":795,\"title\":{\"font\":{\"family\":\"Courier New, Monospace\",\"size\":20,\"color\":\"rgb(0,0,0)\"},\"text\":\"<b><i>The capital city of {} is</i></b>\",\"y\":0.95},\"plot_bgcolor\":\"white\"},                        {\"responsive\": true}                    ).then(function(){\n",
       "                            \n",
       "var gd = document.getElementById('36acd907-af6c-43e8-a511-83e8cb118394');\n",
       "var x = new MutationObserver(function (mutations, observer) {{\n",
       "        var display = window.getComputedStyle(gd).display;\n",
       "        if (!display || display === 'none') {{\n",
       "            console.log([gd, 'removed!']);\n",
       "            Plotly.purge(gd);\n",
       "            observer.disconnect();\n",
       "        }}\n",
       "}});\n",
       "\n",
       "// Listen for the removal of the full notebook cells\n",
       "var notebookContainer = gd.closest('#notebook-container');\n",
       "if (notebookContainer) {{\n",
       "    x.observe(notebookContainer, {childList: true});\n",
       "}}\n",
       "\n",
       "// Listen for the clearing of the current output cell\n",
       "var outputEl = gd.closest('.output');\n",
       "if (outputEl) {{\n",
       "    x.observe(outputEl, {childList: true});\n",
       "}}\n",
       "\n",
       "                        })                };                });            </script>        </div>"
      ]
     },
     "metadata": {},
     "output_type": "display_data"
    }
   ],
   "source": [
    "lens_utils.visualize_attribute_lens(\n",
    "    att_info, layer_skip=2, must_have_layers=[15, 25],\n",
    "    expected_answers=[' Seattle', \" Washington\"]\n",
    ")"
   ]
  },
  {
   "cell_type": "code",
   "execution_count": 23,
   "metadata": {},
   "outputs": [],
   "source": [
    "from src.operators import LinearRelationOperator\n",
    "\n",
    "dct = dict()\n",
    "for k,v in operator.__dict__.items():\n",
    "    dct[k] = v"
   ]
  },
  {
   "cell_type": "code",
   "execution_count": 32,
   "metadata": {},
   "outputs": [],
   "source": [
    "dct[\"prompt_template\"] = \"Berlin, Berlin, Berlin. The capital of {} is\"\n",
    "new_operator = LinearRelationOperator(**dct)"
   ]
  },
  {
   "cell_type": "code",
   "execution_count": 35,
   "metadata": {},
   "outputs": [
    {
     "name": "stdout",
     "output_type": "stream",
     "text": [
      "subject  :  Japan\n",
      "prompt_template :  Berlin, Berlin, Berlin. The capital of {} is\n",
      "subject mapping:  10 11  >>  [' Japan']\n",
      "must_have_layers:  [15, 25]\n",
      "expected_answers:  [' Berlin', ' Beijing']\n"
     ]
    },
    {
     "data": {
      "application/vnd.plotly.v1+json": {
       "config": {
        "plotlyServerURL": "https://plot.ly"
       },
       "data": [
        {
         "colorscale": [
          [
           0,
           "rgb(247,251,255)"
          ],
          [
           0.125,
           "rgb(222,235,247)"
          ],
          [
           0.25,
           "rgb(198,219,239)"
          ],
          [
           0.375,
           "rgb(158,202,225)"
          ],
          [
           0.5,
           "rgb(107,174,214)"
          ],
          [
           0.625,
           "rgb(66,146,198)"
          ],
          [
           0.75,
           "rgb(33,113,181)"
          ],
          [
           0.875,
           "rgb(8,81,156)"
          ],
          [
           1,
           "rgb(8,48,107)"
          ]
         ],
         "customdata": [
          [
           [
            " Tokyo",
            "0.9434",
            "' Tokyo': 0.943432 <br>   ' Mexico': 0.007147 <br>   ' Japan': 0.005925 <br>   ' Manila': 0.004268 <br>   '\n': 0.002979 <br>   ' Madrid': 0.002357 <br>   'Tok': 0.00218 <br>   ' Tok': 0.001751 <br>   ' Ankara': 0.001633 <br>   ' Istanbul': 0.001486 "
           ]
          ],
          [
           [
            " Tokyo",
            "0.9788",
            "' Tokyo': 0.978766 <br>   ' Japan': 0.009014 <br>   'Tok': 0.001789 <br>   ' Manila': 0.001483 <br>   ' Osaka': 0.001111 <br>   ' Mexico': 0.000943 <br>   ' Kyoto': 0.0008 <br>   ' Seoul': 0.000638 <br>   ' Tok': 0.000633 <br>   ' Ankara': 0.000387 "
           ]
          ],
          [
           [
            " Tokyo",
            "0.9662",
            "' Tokyo': 0.966166 <br>   ' Japan': 0.024955 <br>   'Tok': 0.00298 <br>   ' Osaka': 0.001079 <br>   ' Tok': 0.000765 <br>   ' Japanese': 0.000596 <br>   ' Mexico': 0.000587 <br>   ' Manila': 0.000543 <br>   ' Kyoto': 0.000464 <br>   ' Seoul': 0.000403 "
           ]
          ],
          [
           [
            " Tokyo",
            "0.9661",
            "' Tokyo': 0.966135 <br>   ' Japan': 0.027407 <br>   'Tok': 0.002714 <br>   ' Japanese': 0.000828 <br>   ' Manila': 0.000464 <br>   ' Tok': 0.000464 <br>   ' Osaka': 0.000436 <br>   ' Mexico': 0.000367 <br>   ' Ankara': 0.000314 <br>   ' Kyoto': 0.000116 "
           ]
          ],
          [
           [
            " Tokyo",
            "0.9435",
            "' Tokyo': 0.943513 <br>   ' Japan': 0.050792 <br>   'Tok': 0.003298 <br>   ' Japanese': 0.001333 <br>   ' Osaka': 0.000582 <br>   ' Tok': 0.000204 <br>   ' Kyoto': 4.9e-05 <br>   ' Manila': 4.5e-05 <br>   ' Mexico': 3.8e-05 <br>   'Japan': 2.9e-05 "
           ]
          ],
          [
           [
            " Tokyo",
            "0.8792",
            "' Tokyo': 0.879237 <br>   ' Japan': 0.111782 <br>   ' Japanese': 0.005653 <br>   'Tok': 0.002798 <br>   ' Osaka': 0.00035 <br>   ' Tok': 6.9e-05 <br>   'Japan': 5.7e-05 <br>   ' Kyoto': 1.8e-05 <br>   ' Yok': 8e-06 <br>   'Japanese': 6e-06 "
           ]
          ],
          [
           [
            " Tokyo",
            "0.7233",
            "' Tokyo': 0.723257 <br>   ' Japan': 0.257885 <br>   ' Japanese': 0.017009 <br>   'Tok': 0.001607 <br>   'Japan': 0.000111 <br>   ' Osaka': 9.5e-05 <br>   ' Tok': 1.5e-05 <br>   'Japanese': 1.1e-05 <br>   ' Yok': 3e-06 <br>   ' Kyoto': 3e-06 "
           ]
          ],
          [
           [
            " Tokyo",
            "0.7322",
            "' Tokyo': 0.732155 <br>   ' Japan': 0.245241 <br>   ' Japanese': 0.021097 <br>   'Tok': 0.001287 <br>   'Japan': 9.3e-05 <br>   ' Osaka': 9.3e-05 <br>   ' Tok': 1.4e-05 <br>   'Japanese': 1e-05 <br>   ' Yok': 3e-06 <br>   ' Kyoto': 3e-06 "
           ]
          ],
          [
           [
            " Tokyo",
            "0.6412",
            "' Tokyo': 0.641228 <br>   ' Japan': 0.322429 <br>   ' Japanese': 0.034519 <br>   'Tok': 0.001565 <br>   'Japan': 0.000146 <br>   ' Osaka': 7.8e-05 <br>   'Japanese': 1.8e-05 <br>   ' Tok': 1e-05 <br>   ' Yok': 3e-06 <br>   ' Kyoto': 2e-06 "
           ]
          ],
          [
           [
            " Tokyo",
            "0.6876",
            "' Tokyo': 0.687615 <br>   ' Japan': 0.277822 <br>   ' Japanese': 0.031662 <br>   'Tok': 0.002599 <br>   'Japan': 0.0002 <br>   ' Osaka': 5.4e-05 <br>   'Japanese': 2.5e-05 <br>   ' Tok': 1.3e-05 <br>   ' Yok': 4e-06 <br>   ' Kyoto': 2e-06 "
           ]
          ],
          [
           [
            " Tokyo",
            "0.6664",
            "' Tokyo': 0.666384 <br>   ' Japan': 0.286608 <br>   ' Japanese': 0.043271 <br>   'Tok': 0.003337 <br>   'Japan': 0.000292 <br>   'Japanese': 4.8e-05 <br>   ' Osaka': 4.1e-05 <br>   ' Tok': 1e-05 <br>   ' Yok': 3e-06 <br>   ' Kyoto': 1e-06 "
           ]
          ],
          [
           [
            " Tokyo",
            "0.7258",
            "' Tokyo': 0.725772 <br>   ' Japan': 0.186394 <br>   ' Japanese': 0.081429 <br>   'Tok': 0.005807 <br>   'Japan': 0.000333 <br>   'Japanese': 0.00013 <br>   ' Osaka': 5e-05 <br>   ' Tok': 3.5e-05 <br>   ' Aki': 1.3e-05 <br>   ' Kyoto': 7e-06 "
           ]
          ],
          [
           [
            " Tokyo",
            "0.678",
            "' Tokyo': 0.678047 <br>   ' Japan': 0.206793 <br>   ' Japanese': 0.110688 <br>   'Tok': 0.003729 <br>   'Japan': 0.000369 <br>   'Japanese': 0.000159 <br>   ' Osaka': 6.2e-05 <br>   ' Tok': 4.5e-05 <br>   ' Aki': 2.6e-05 <br>   ' Yok': 1e-05 "
           ]
          ],
          [
           [
            " Tokyo",
            "0.4618",
            "' Tokyo': 0.461765 <br>   ' Japan': 0.401188 <br>   ' Japanese': 0.132298 <br>   'Tok': 0.003063 <br>   'Japan': 0.00092 <br>   'Japanese': 0.00024 <br>   ' Osaka': 0.000157 <br>   ' Tok': 6.3e-05 <br>   ' Aki': 4.9e-05 <br>   ' Ja': 3e-05 "
           ]
          ],
          [
           [
            " Japan",
            "0.5311",
            "' Japan': 0.531093 <br>   ' Tokyo': 0.359356 <br>   ' Japanese': 0.104578 <br>   'Tok': 0.002618 <br>   'Japan': 0.001256 <br>   'Japanese': 0.000218 <br>   ' Osaka': 0.00019 <br>   ' Aki': 0.000115 <br>   ' Ja': 8.4e-05 <br>   ' Yosh': 5.7e-05 "
           ]
          ],
          [
           [
            " Japan",
            "0.5875",
            "' Japan': 0.587525 <br>   ' Tokyo': 0.300078 <br>   ' Japanese': 0.105337 <br>   'Tok': 0.002988 <br>   'Japan': 0.001625 <br>   ' Aki': 0.000349 <br>   ' Osaka': 0.000287 <br>   'Japanese': 0.000265 <br>   ' Ja': 0.000247 <br>   ' Kyoto': 0.000127 "
           ]
          ],
          [
           [
            " Tokyo",
            "0.9143",
            "' Tokyo': 0.914292 <br>   ' Japan': 0.070503 <br>   ' Japanese': 0.012062 <br>   'Tok': 0.002375 <br>   ' Kyoto': 0.000198 <br>   ' Osaka': 0.000183 <br>   'Japan': 6.8e-05 <br>   ' Tok': 5.6e-05 <br>   ' Aki': 4.7e-05 <br>   ' Manila': 2.5e-05 "
           ]
          ]
         ],
         "hovertemplate": "<b>'%{customdata[0]}': %{customdata[1]}</b><br><br>Top_k:<br>   %{customdata[2]}<extra></extra>",
         "reversescale": false,
         "showscale": false,
         "type": "heatmap",
         "x": [
          0
         ],
         "y": [
          0,
          1,
          2,
          3,
          4,
          5,
          6,
          7,
          8,
          9,
          10,
          11,
          12,
          13,
          14,
          15,
          16
         ],
         "z": [
          [
           0.9434
          ],
          [
           0.9788
          ],
          [
           0.9662
          ],
          [
           0.9661
          ],
          [
           0.9435
          ],
          [
           0.8792
          ],
          [
           0.7233
          ],
          [
           0.7322
          ],
          [
           0.6412
          ],
          [
           0.6876
          ],
          [
           0.6664
          ],
          [
           0.7258
          ],
          [
           0.678
          ],
          [
           0.4618
          ],
          [
           0.5311
          ],
          [
           0.5875
          ],
          [
           0.9143
          ]
         ]
        }
       ],
       "layout": {
        "annotations": [
         {
          "font": {
           "color": "#FFFFFF"
          },
          "showarrow": false,
          "text": " Tokyo",
          "x": 0,
          "xref": "x",
          "y": 0,
          "yref": "y"
         },
         {
          "font": {
           "color": "#FFFFFF"
          },
          "showarrow": false,
          "text": " Tokyo",
          "x": 0,
          "xref": "x",
          "y": 1,
          "yref": "y"
         },
         {
          "font": {
           "color": "#FFFFFF"
          },
          "showarrow": false,
          "text": " Tokyo",
          "x": 0,
          "xref": "x",
          "y": 2,
          "yref": "y"
         },
         {
          "font": {
           "color": "#FFFFFF"
          },
          "showarrow": false,
          "text": " Tokyo",
          "x": 0,
          "xref": "x",
          "y": 3,
          "yref": "y"
         },
         {
          "font": {
           "color": "#FFFFFF"
          },
          "showarrow": false,
          "text": " Tokyo",
          "x": 0,
          "xref": "x",
          "y": 4,
          "yref": "y"
         },
         {
          "font": {
           "color": "#FFFFFF"
          },
          "showarrow": false,
          "text": " Tokyo",
          "x": 0,
          "xref": "x",
          "y": 5,
          "yref": "y"
         },
         {
          "font": {
           "color": "#FFFFFF"
          },
          "showarrow": false,
          "text": " Tokyo",
          "x": 0,
          "xref": "x",
          "y": 6,
          "yref": "y"
         },
         {
          "font": {
           "color": "#FFFFFF"
          },
          "showarrow": false,
          "text": " Tokyo",
          "x": 0,
          "xref": "x",
          "y": 7,
          "yref": "y"
         },
         {
          "font": {
           "color": "#000000"
          },
          "showarrow": false,
          "text": " Tokyo",
          "x": 0,
          "xref": "x",
          "y": 8,
          "yref": "y"
         },
         {
          "font": {
           "color": "#000000"
          },
          "showarrow": false,
          "text": " Tokyo",
          "x": 0,
          "xref": "x",
          "y": 9,
          "yref": "y"
         },
         {
          "font": {
           "color": "#000000"
          },
          "showarrow": false,
          "text": " Tokyo",
          "x": 0,
          "xref": "x",
          "y": 10,
          "yref": "y"
         },
         {
          "font": {
           "color": "#FFFFFF"
          },
          "showarrow": false,
          "text": " Tokyo",
          "x": 0,
          "xref": "x",
          "y": 11,
          "yref": "y"
         },
         {
          "font": {
           "color": "#000000"
          },
          "showarrow": false,
          "text": " Tokyo",
          "x": 0,
          "xref": "x",
          "y": 12,
          "yref": "y"
         },
         {
          "font": {
           "color": "#000000"
          },
          "showarrow": false,
          "text": " Tokyo",
          "x": 0,
          "xref": "x",
          "y": 13,
          "yref": "y"
         },
         {
          "font": {
           "color": "#000000"
          },
          "showarrow": false,
          "text": " Japan",
          "x": 0,
          "xref": "x",
          "y": 14,
          "yref": "y"
         },
         {
          "font": {
           "color": "#000000"
          },
          "showarrow": false,
          "text": " Japan",
          "x": 0,
          "xref": "x",
          "y": 15,
          "yref": "y"
         },
         {
          "font": {
           "color": "#FFFFFF"
          },
          "showarrow": false,
          "text": " Tokyo",
          "x": 0,
          "xref": "x",
          "y": 16,
          "yref": "y"
         }
        ],
        "autosize": false,
        "height": 795,
        "plot_bgcolor": "white",
        "template": {
         "data": {
          "bar": [
           {
            "error_x": {
             "color": "#2a3f5f"
            },
            "error_y": {
             "color": "#2a3f5f"
            },
            "marker": {
             "line": {
              "color": "#E5ECF6",
              "width": 0.5
             },
             "pattern": {
              "fillmode": "overlay",
              "size": 10,
              "solidity": 0.2
             }
            },
            "type": "bar"
           }
          ],
          "barpolar": [
           {
            "marker": {
             "line": {
              "color": "#E5ECF6",
              "width": 0.5
             },
             "pattern": {
              "fillmode": "overlay",
              "size": 10,
              "solidity": 0.2
             }
            },
            "type": "barpolar"
           }
          ],
          "carpet": [
           {
            "aaxis": {
             "endlinecolor": "#2a3f5f",
             "gridcolor": "white",
             "linecolor": "white",
             "minorgridcolor": "white",
             "startlinecolor": "#2a3f5f"
            },
            "baxis": {
             "endlinecolor": "#2a3f5f",
             "gridcolor": "white",
             "linecolor": "white",
             "minorgridcolor": "white",
             "startlinecolor": "#2a3f5f"
            },
            "type": "carpet"
           }
          ],
          "choropleth": [
           {
            "colorbar": {
             "outlinewidth": 0,
             "ticks": ""
            },
            "type": "choropleth"
           }
          ],
          "contour": [
           {
            "colorbar": {
             "outlinewidth": 0,
             "ticks": ""
            },
            "colorscale": [
             [
              0,
              "#0d0887"
             ],
             [
              0.1111111111111111,
              "#46039f"
             ],
             [
              0.2222222222222222,
              "#7201a8"
             ],
             [
              0.3333333333333333,
              "#9c179e"
             ],
             [
              0.4444444444444444,
              "#bd3786"
             ],
             [
              0.5555555555555556,
              "#d8576b"
             ],
             [
              0.6666666666666666,
              "#ed7953"
             ],
             [
              0.7777777777777778,
              "#fb9f3a"
             ],
             [
              0.8888888888888888,
              "#fdca26"
             ],
             [
              1,
              "#f0f921"
             ]
            ],
            "type": "contour"
           }
          ],
          "contourcarpet": [
           {
            "colorbar": {
             "outlinewidth": 0,
             "ticks": ""
            },
            "type": "contourcarpet"
           }
          ],
          "heatmap": [
           {
            "colorbar": {
             "outlinewidth": 0,
             "ticks": ""
            },
            "colorscale": [
             [
              0,
              "#0d0887"
             ],
             [
              0.1111111111111111,
              "#46039f"
             ],
             [
              0.2222222222222222,
              "#7201a8"
             ],
             [
              0.3333333333333333,
              "#9c179e"
             ],
             [
              0.4444444444444444,
              "#bd3786"
             ],
             [
              0.5555555555555556,
              "#d8576b"
             ],
             [
              0.6666666666666666,
              "#ed7953"
             ],
             [
              0.7777777777777778,
              "#fb9f3a"
             ],
             [
              0.8888888888888888,
              "#fdca26"
             ],
             [
              1,
              "#f0f921"
             ]
            ],
            "type": "heatmap"
           }
          ],
          "heatmapgl": [
           {
            "colorbar": {
             "outlinewidth": 0,
             "ticks": ""
            },
            "colorscale": [
             [
              0,
              "#0d0887"
             ],
             [
              0.1111111111111111,
              "#46039f"
             ],
             [
              0.2222222222222222,
              "#7201a8"
             ],
             [
              0.3333333333333333,
              "#9c179e"
             ],
             [
              0.4444444444444444,
              "#bd3786"
             ],
             [
              0.5555555555555556,
              "#d8576b"
             ],
             [
              0.6666666666666666,
              "#ed7953"
             ],
             [
              0.7777777777777778,
              "#fb9f3a"
             ],
             [
              0.8888888888888888,
              "#fdca26"
             ],
             [
              1,
              "#f0f921"
             ]
            ],
            "type": "heatmapgl"
           }
          ],
          "histogram": [
           {
            "marker": {
             "pattern": {
              "fillmode": "overlay",
              "size": 10,
              "solidity": 0.2
             }
            },
            "type": "histogram"
           }
          ],
          "histogram2d": [
           {
            "colorbar": {
             "outlinewidth": 0,
             "ticks": ""
            },
            "colorscale": [
             [
              0,
              "#0d0887"
             ],
             [
              0.1111111111111111,
              "#46039f"
             ],
             [
              0.2222222222222222,
              "#7201a8"
             ],
             [
              0.3333333333333333,
              "#9c179e"
             ],
             [
              0.4444444444444444,
              "#bd3786"
             ],
             [
              0.5555555555555556,
              "#d8576b"
             ],
             [
              0.6666666666666666,
              "#ed7953"
             ],
             [
              0.7777777777777778,
              "#fb9f3a"
             ],
             [
              0.8888888888888888,
              "#fdca26"
             ],
             [
              1,
              "#f0f921"
             ]
            ],
            "type": "histogram2d"
           }
          ],
          "histogram2dcontour": [
           {
            "colorbar": {
             "outlinewidth": 0,
             "ticks": ""
            },
            "colorscale": [
             [
              0,
              "#0d0887"
             ],
             [
              0.1111111111111111,
              "#46039f"
             ],
             [
              0.2222222222222222,
              "#7201a8"
             ],
             [
              0.3333333333333333,
              "#9c179e"
             ],
             [
              0.4444444444444444,
              "#bd3786"
             ],
             [
              0.5555555555555556,
              "#d8576b"
             ],
             [
              0.6666666666666666,
              "#ed7953"
             ],
             [
              0.7777777777777778,
              "#fb9f3a"
             ],
             [
              0.8888888888888888,
              "#fdca26"
             ],
             [
              1,
              "#f0f921"
             ]
            ],
            "type": "histogram2dcontour"
           }
          ],
          "mesh3d": [
           {
            "colorbar": {
             "outlinewidth": 0,
             "ticks": ""
            },
            "type": "mesh3d"
           }
          ],
          "parcoords": [
           {
            "line": {
             "colorbar": {
              "outlinewidth": 0,
              "ticks": ""
             }
            },
            "type": "parcoords"
           }
          ],
          "pie": [
           {
            "automargin": true,
            "type": "pie"
           }
          ],
          "scatter": [
           {
            "fillpattern": {
             "fillmode": "overlay",
             "size": 10,
             "solidity": 0.2
            },
            "type": "scatter"
           }
          ],
          "scatter3d": [
           {
            "line": {
             "colorbar": {
              "outlinewidth": 0,
              "ticks": ""
             }
            },
            "marker": {
             "colorbar": {
              "outlinewidth": 0,
              "ticks": ""
             }
            },
            "type": "scatter3d"
           }
          ],
          "scattercarpet": [
           {
            "marker": {
             "colorbar": {
              "outlinewidth": 0,
              "ticks": ""
             }
            },
            "type": "scattercarpet"
           }
          ],
          "scattergeo": [
           {
            "marker": {
             "colorbar": {
              "outlinewidth": 0,
              "ticks": ""
             }
            },
            "type": "scattergeo"
           }
          ],
          "scattergl": [
           {
            "marker": {
             "colorbar": {
              "outlinewidth": 0,
              "ticks": ""
             }
            },
            "type": "scattergl"
           }
          ],
          "scattermapbox": [
           {
            "marker": {
             "colorbar": {
              "outlinewidth": 0,
              "ticks": ""
             }
            },
            "type": "scattermapbox"
           }
          ],
          "scatterpolar": [
           {
            "marker": {
             "colorbar": {
              "outlinewidth": 0,
              "ticks": ""
             }
            },
            "type": "scatterpolar"
           }
          ],
          "scatterpolargl": [
           {
            "marker": {
             "colorbar": {
              "outlinewidth": 0,
              "ticks": ""
             }
            },
            "type": "scatterpolargl"
           }
          ],
          "scatterternary": [
           {
            "marker": {
             "colorbar": {
              "outlinewidth": 0,
              "ticks": ""
             }
            },
            "type": "scatterternary"
           }
          ],
          "surface": [
           {
            "colorbar": {
             "outlinewidth": 0,
             "ticks": ""
            },
            "colorscale": [
             [
              0,
              "#0d0887"
             ],
             [
              0.1111111111111111,
              "#46039f"
             ],
             [
              0.2222222222222222,
              "#7201a8"
             ],
             [
              0.3333333333333333,
              "#9c179e"
             ],
             [
              0.4444444444444444,
              "#bd3786"
             ],
             [
              0.5555555555555556,
              "#d8576b"
             ],
             [
              0.6666666666666666,
              "#ed7953"
             ],
             [
              0.7777777777777778,
              "#fb9f3a"
             ],
             [
              0.8888888888888888,
              "#fdca26"
             ],
             [
              1,
              "#f0f921"
             ]
            ],
            "type": "surface"
           }
          ],
          "table": [
           {
            "cells": {
             "fill": {
              "color": "#EBF0F8"
             },
             "line": {
              "color": "white"
             }
            },
            "header": {
             "fill": {
              "color": "#C8D4E3"
             },
             "line": {
              "color": "white"
             }
            },
            "type": "table"
           }
          ]
         },
         "layout": {
          "annotationdefaults": {
           "arrowcolor": "#2a3f5f",
           "arrowhead": 0,
           "arrowwidth": 1
          },
          "autotypenumbers": "strict",
          "coloraxis": {
           "colorbar": {
            "outlinewidth": 0,
            "ticks": ""
           }
          },
          "colorscale": {
           "diverging": [
            [
             0,
             "#8e0152"
            ],
            [
             0.1,
             "#c51b7d"
            ],
            [
             0.2,
             "#de77ae"
            ],
            [
             0.3,
             "#f1b6da"
            ],
            [
             0.4,
             "#fde0ef"
            ],
            [
             0.5,
             "#f7f7f7"
            ],
            [
             0.6,
             "#e6f5d0"
            ],
            [
             0.7,
             "#b8e186"
            ],
            [
             0.8,
             "#7fbc41"
            ],
            [
             0.9,
             "#4d9221"
            ],
            [
             1,
             "#276419"
            ]
           ],
           "sequential": [
            [
             0,
             "#0d0887"
            ],
            [
             0.1111111111111111,
             "#46039f"
            ],
            [
             0.2222222222222222,
             "#7201a8"
            ],
            [
             0.3333333333333333,
             "#9c179e"
            ],
            [
             0.4444444444444444,
             "#bd3786"
            ],
            [
             0.5555555555555556,
             "#d8576b"
            ],
            [
             0.6666666666666666,
             "#ed7953"
            ],
            [
             0.7777777777777778,
             "#fb9f3a"
            ],
            [
             0.8888888888888888,
             "#fdca26"
            ],
            [
             1,
             "#f0f921"
            ]
           ],
           "sequentialminus": [
            [
             0,
             "#0d0887"
            ],
            [
             0.1111111111111111,
             "#46039f"
            ],
            [
             0.2222222222222222,
             "#7201a8"
            ],
            [
             0.3333333333333333,
             "#9c179e"
            ],
            [
             0.4444444444444444,
             "#bd3786"
            ],
            [
             0.5555555555555556,
             "#d8576b"
            ],
            [
             0.6666666666666666,
             "#ed7953"
            ],
            [
             0.7777777777777778,
             "#fb9f3a"
            ],
            [
             0.8888888888888888,
             "#fdca26"
            ],
            [
             1,
             "#f0f921"
            ]
           ]
          },
          "colorway": [
           "#636efa",
           "#EF553B",
           "#00cc96",
           "#ab63fa",
           "#FFA15A",
           "#19d3f3",
           "#FF6692",
           "#B6E880",
           "#FF97FF",
           "#FECB52"
          ],
          "font": {
           "color": "#2a3f5f"
          },
          "geo": {
           "bgcolor": "white",
           "lakecolor": "white",
           "landcolor": "#E5ECF6",
           "showlakes": true,
           "showland": true,
           "subunitcolor": "white"
          },
          "hoverlabel": {
           "align": "left"
          },
          "hovermode": "closest",
          "mapbox": {
           "style": "light"
          },
          "paper_bgcolor": "white",
          "plot_bgcolor": "#E5ECF6",
          "polar": {
           "angularaxis": {
            "gridcolor": "white",
            "linecolor": "white",
            "ticks": ""
           },
           "bgcolor": "#E5ECF6",
           "radialaxis": {
            "gridcolor": "white",
            "linecolor": "white",
            "ticks": ""
           }
          },
          "scene": {
           "xaxis": {
            "backgroundcolor": "#E5ECF6",
            "gridcolor": "white",
            "gridwidth": 2,
            "linecolor": "white",
            "showbackground": true,
            "ticks": "",
            "zerolinecolor": "white"
           },
           "yaxis": {
            "backgroundcolor": "#E5ECF6",
            "gridcolor": "white",
            "gridwidth": 2,
            "linecolor": "white",
            "showbackground": true,
            "ticks": "",
            "zerolinecolor": "white"
           },
           "zaxis": {
            "backgroundcolor": "#E5ECF6",
            "gridcolor": "white",
            "gridwidth": 2,
            "linecolor": "white",
            "showbackground": true,
            "ticks": "",
            "zerolinecolor": "white"
           }
          },
          "shapedefaults": {
           "line": {
            "color": "#2a3f5f"
           }
          },
          "ternary": {
           "aaxis": {
            "gridcolor": "white",
            "linecolor": "white",
            "ticks": ""
           },
           "baxis": {
            "gridcolor": "white",
            "linecolor": "white",
            "ticks": ""
           },
           "bgcolor": "#E5ECF6",
           "caxis": {
            "gridcolor": "white",
            "linecolor": "white",
            "ticks": ""
           }
          },
          "title": {
           "x": 0.05
          },
          "xaxis": {
           "automargin": true,
           "gridcolor": "white",
           "linecolor": "white",
           "ticks": "",
           "title": {
            "standoff": 15
           },
           "zerolinecolor": "white",
           "zerolinewidth": 2
          },
          "yaxis": {
           "automargin": true,
           "gridcolor": "white",
           "linecolor": "white",
           "ticks": "",
           "title": {
            "standoff": 15
           },
           "zerolinecolor": "white",
           "zerolinewidth": 2
          }
         }
        },
        "title": {
         "font": {
          "color": "rgb(0,0,0)",
          "family": "Courier New, Monospace",
          "size": 20
         },
         "text": "<b><i>Berlin, Berlin, Berlin. The capital of {} is</i></b>",
         "y": 0.95
        },
        "width": 290,
        "xaxis": {
         "dtick": 1,
         "gridcolor": "rgb(0, 0, 0)",
         "range": [
          -0.5,
          1
         ],
         "side": "bottom",
         "tickfont": {
          "color": "darkblue",
          "family": "Courier New, Monospace",
          "size": 17
         },
         "tickmode": "array",
         "ticks": "",
         "ticktext": [
          " Japan"
         ],
         "tickvals": [
          0
         ]
        },
        "yaxis": {
         "dtick": 1,
         "range": [
          -0.5,
          17
         ],
         "tickfont": {
          "color": "firebrick",
          "family": "verdana",
          "size": 14
         },
         "tickmode": "array",
         "ticks": "",
         "ticksuffix": "  ",
         "ticktext": [
          "h.0 ",
          "h.2 ",
          "h.4 ",
          "h.6 ",
          "h.8 ",
          "h.10 ",
          "h.12 ",
          "h.14 ",
          "h.15 ",
          "h.16 ",
          "h.18 ",
          "h.20 ",
          "h.22 ",
          "h.24 ",
          "h.25 ",
          "h.26 ",
          "h.27 "
         ],
         "tickvals": [
          0,
          1,
          2,
          3,
          4,
          5,
          6,
          7,
          8,
          9,
          10,
          11,
          12,
          13,
          14,
          15,
          16
         ]
        }
       }
      },
      "text/html": [
       "<div>                            <div id=\"7b7358a3-dba7-41e4-bc47-1b966f805da5\" class=\"plotly-graph-div\" style=\"height:795px; width:290px;\"></div>            <script type=\"text/javascript\">                require([\"plotly\"], function(Plotly) {                    window.PLOTLYENV=window.PLOTLYENV || {};                                    if (document.getElementById(\"7b7358a3-dba7-41e4-bc47-1b966f805da5\")) {                    Plotly.newPlot(                        \"7b7358a3-dba7-41e4-bc47-1b966f805da5\",                        [{\"colorscale\":[[0.0,\"rgb(247,251,255)\"],[0.125,\"rgb(222,235,247)\"],[0.25,\"rgb(198,219,239)\"],[0.375,\"rgb(158,202,225)\"],[0.5,\"rgb(107,174,214)\"],[0.625,\"rgb(66,146,198)\"],[0.75,\"rgb(33,113,181)\"],[0.875,\"rgb(8,81,156)\"],[1.0,\"rgb(8,48,107)\"]],\"customdata\":[[[\" Tokyo\",\"0.9434\",\"' Tokyo': 0.943432 <br>   ' Mexico': 0.007147 <br>   ' Japan': 0.005925 <br>   ' Manila': 0.004268 <br>   '\\n': 0.002979 <br>   ' Madrid': 0.002357 <br>   'Tok': 0.00218 <br>   ' Tok': 0.001751 <br>   ' Ankara': 0.001633 <br>   ' Istanbul': 0.001486 \"]],[[\" Tokyo\",\"0.9788\",\"' Tokyo': 0.978766 <br>   ' Japan': 0.009014 <br>   'Tok': 0.001789 <br>   ' Manila': 0.001483 <br>   ' Osaka': 0.001111 <br>   ' Mexico': 0.000943 <br>   ' Kyoto': 0.0008 <br>   ' Seoul': 0.000638 <br>   ' Tok': 0.000633 <br>   ' Ankara': 0.000387 \"]],[[\" Tokyo\",\"0.9662\",\"' Tokyo': 0.966166 <br>   ' Japan': 0.024955 <br>   'Tok': 0.00298 <br>   ' Osaka': 0.001079 <br>   ' Tok': 0.000765 <br>   ' Japanese': 0.000596 <br>   ' Mexico': 0.000587 <br>   ' Manila': 0.000543 <br>   ' Kyoto': 0.000464 <br>   ' Seoul': 0.000403 \"]],[[\" Tokyo\",\"0.9661\",\"' Tokyo': 0.966135 <br>   ' Japan': 0.027407 <br>   'Tok': 0.002714 <br>   ' Japanese': 0.000828 <br>   ' Manila': 0.000464 <br>   ' Tok': 0.000464 <br>   ' Osaka': 0.000436 <br>   ' Mexico': 0.000367 <br>   ' Ankara': 0.000314 <br>   ' Kyoto': 0.000116 \"]],[[\" Tokyo\",\"0.9435\",\"' Tokyo': 0.943513 <br>   ' Japan': 0.050792 <br>   'Tok': 0.003298 <br>   ' Japanese': 0.001333 <br>   ' Osaka': 0.000582 <br>   ' Tok': 0.000204 <br>   ' Kyoto': 4.9e-05 <br>   ' Manila': 4.5e-05 <br>   ' Mexico': 3.8e-05 <br>   'Japan': 2.9e-05 \"]],[[\" Tokyo\",\"0.8792\",\"' Tokyo': 0.879237 <br>   ' Japan': 0.111782 <br>   ' Japanese': 0.005653 <br>   'Tok': 0.002798 <br>   ' Osaka': 0.00035 <br>   ' Tok': 6.9e-05 <br>   'Japan': 5.7e-05 <br>   ' Kyoto': 1.8e-05 <br>   ' Yok': 8e-06 <br>   'Japanese': 6e-06 \"]],[[\" Tokyo\",\"0.7233\",\"' Tokyo': 0.723257 <br>   ' Japan': 0.257885 <br>   ' Japanese': 0.017009 <br>   'Tok': 0.001607 <br>   'Japan': 0.000111 <br>   ' Osaka': 9.5e-05 <br>   ' Tok': 1.5e-05 <br>   'Japanese': 1.1e-05 <br>   ' Yok': 3e-06 <br>   ' Kyoto': 3e-06 \"]],[[\" Tokyo\",\"0.7322\",\"' Tokyo': 0.732155 <br>   ' Japan': 0.245241 <br>   ' Japanese': 0.021097 <br>   'Tok': 0.001287 <br>   'Japan': 9.3e-05 <br>   ' Osaka': 9.3e-05 <br>   ' Tok': 1.4e-05 <br>   'Japanese': 1e-05 <br>   ' Yok': 3e-06 <br>   ' Kyoto': 3e-06 \"]],[[\" Tokyo\",\"0.6412\",\"' Tokyo': 0.641228 <br>   ' Japan': 0.322429 <br>   ' Japanese': 0.034519 <br>   'Tok': 0.001565 <br>   'Japan': 0.000146 <br>   ' Osaka': 7.8e-05 <br>   'Japanese': 1.8e-05 <br>   ' Tok': 1e-05 <br>   ' Yok': 3e-06 <br>   ' Kyoto': 2e-06 \"]],[[\" Tokyo\",\"0.6876\",\"' Tokyo': 0.687615 <br>   ' Japan': 0.277822 <br>   ' Japanese': 0.031662 <br>   'Tok': 0.002599 <br>   'Japan': 0.0002 <br>   ' Osaka': 5.4e-05 <br>   'Japanese': 2.5e-05 <br>   ' Tok': 1.3e-05 <br>   ' Yok': 4e-06 <br>   ' Kyoto': 2e-06 \"]],[[\" Tokyo\",\"0.6664\",\"' Tokyo': 0.666384 <br>   ' Japan': 0.286608 <br>   ' Japanese': 0.043271 <br>   'Tok': 0.003337 <br>   'Japan': 0.000292 <br>   'Japanese': 4.8e-05 <br>   ' Osaka': 4.1e-05 <br>   ' Tok': 1e-05 <br>   ' Yok': 3e-06 <br>   ' Kyoto': 1e-06 \"]],[[\" Tokyo\",\"0.7258\",\"' Tokyo': 0.725772 <br>   ' Japan': 0.186394 <br>   ' Japanese': 0.081429 <br>   'Tok': 0.005807 <br>   'Japan': 0.000333 <br>   'Japanese': 0.00013 <br>   ' Osaka': 5e-05 <br>   ' Tok': 3.5e-05 <br>   ' Aki': 1.3e-05 <br>   ' Kyoto': 7e-06 \"]],[[\" Tokyo\",\"0.678\",\"' Tokyo': 0.678047 <br>   ' Japan': 0.206793 <br>   ' Japanese': 0.110688 <br>   'Tok': 0.003729 <br>   'Japan': 0.000369 <br>   'Japanese': 0.000159 <br>   ' Osaka': 6.2e-05 <br>   ' Tok': 4.5e-05 <br>   ' Aki': 2.6e-05 <br>   ' Yok': 1e-05 \"]],[[\" Tokyo\",\"0.4618\",\"' Tokyo': 0.461765 <br>   ' Japan': 0.401188 <br>   ' Japanese': 0.132298 <br>   'Tok': 0.003063 <br>   'Japan': 0.00092 <br>   'Japanese': 0.00024 <br>   ' Osaka': 0.000157 <br>   ' Tok': 6.3e-05 <br>   ' Aki': 4.9e-05 <br>   ' Ja': 3e-05 \"]],[[\" Japan\",\"0.5311\",\"' Japan': 0.531093 <br>   ' Tokyo': 0.359356 <br>   ' Japanese': 0.104578 <br>   'Tok': 0.002618 <br>   'Japan': 0.001256 <br>   'Japanese': 0.000218 <br>   ' Osaka': 0.00019 <br>   ' Aki': 0.000115 <br>   ' Ja': 8.4e-05 <br>   ' Yosh': 5.7e-05 \"]],[[\" Japan\",\"0.5875\",\"' Japan': 0.587525 <br>   ' Tokyo': 0.300078 <br>   ' Japanese': 0.105337 <br>   'Tok': 0.002988 <br>   'Japan': 0.001625 <br>   ' Aki': 0.000349 <br>   ' Osaka': 0.000287 <br>   'Japanese': 0.000265 <br>   ' Ja': 0.000247 <br>   ' Kyoto': 0.000127 \"]],[[\" Tokyo\",\"0.9143\",\"' Tokyo': 0.914292 <br>   ' Japan': 0.070503 <br>   ' Japanese': 0.012062 <br>   'Tok': 0.002375 <br>   ' Kyoto': 0.000198 <br>   ' Osaka': 0.000183 <br>   'Japan': 6.8e-05 <br>   ' Tok': 5.6e-05 <br>   ' Aki': 4.7e-05 <br>   ' Manila': 2.5e-05 \"]]],\"reversescale\":false,\"showscale\":false,\"x\":[0],\"y\":[0,1,2,3,4,5,6,7,8,9,10,11,12,13,14,15,16],\"z\":[[0.9434],[0.9788],[0.9662],[0.9661],[0.9435],[0.8792],[0.7233],[0.7322],[0.6412],[0.6876],[0.6664],[0.7258],[0.678],[0.4618],[0.5311],[0.5875],[0.9143]],\"type\":\"heatmap\",\"hovertemplate\":\"<b>'%{customdata[0]}': %{customdata[1]}</b><br><br>Top_k:<br>   %{customdata[2]}<extra></extra>\"}],                        {\"annotations\":[{\"font\":{\"color\":\"#FFFFFF\"},\"showarrow\":false,\"text\":\" Tokyo\",\"x\":0,\"xref\":\"x\",\"y\":0,\"yref\":\"y\"},{\"font\":{\"color\":\"#FFFFFF\"},\"showarrow\":false,\"text\":\" Tokyo\",\"x\":0,\"xref\":\"x\",\"y\":1,\"yref\":\"y\"},{\"font\":{\"color\":\"#FFFFFF\"},\"showarrow\":false,\"text\":\" Tokyo\",\"x\":0,\"xref\":\"x\",\"y\":2,\"yref\":\"y\"},{\"font\":{\"color\":\"#FFFFFF\"},\"showarrow\":false,\"text\":\" Tokyo\",\"x\":0,\"xref\":\"x\",\"y\":3,\"yref\":\"y\"},{\"font\":{\"color\":\"#FFFFFF\"},\"showarrow\":false,\"text\":\" Tokyo\",\"x\":0,\"xref\":\"x\",\"y\":4,\"yref\":\"y\"},{\"font\":{\"color\":\"#FFFFFF\"},\"showarrow\":false,\"text\":\" Tokyo\",\"x\":0,\"xref\":\"x\",\"y\":5,\"yref\":\"y\"},{\"font\":{\"color\":\"#FFFFFF\"},\"showarrow\":false,\"text\":\" Tokyo\",\"x\":0,\"xref\":\"x\",\"y\":6,\"yref\":\"y\"},{\"font\":{\"color\":\"#FFFFFF\"},\"showarrow\":false,\"text\":\" Tokyo\",\"x\":0,\"xref\":\"x\",\"y\":7,\"yref\":\"y\"},{\"font\":{\"color\":\"#000000\"},\"showarrow\":false,\"text\":\" Tokyo\",\"x\":0,\"xref\":\"x\",\"y\":8,\"yref\":\"y\"},{\"font\":{\"color\":\"#000000\"},\"showarrow\":false,\"text\":\" Tokyo\",\"x\":0,\"xref\":\"x\",\"y\":9,\"yref\":\"y\"},{\"font\":{\"color\":\"#000000\"},\"showarrow\":false,\"text\":\" Tokyo\",\"x\":0,\"xref\":\"x\",\"y\":10,\"yref\":\"y\"},{\"font\":{\"color\":\"#FFFFFF\"},\"showarrow\":false,\"text\":\" Tokyo\",\"x\":0,\"xref\":\"x\",\"y\":11,\"yref\":\"y\"},{\"font\":{\"color\":\"#000000\"},\"showarrow\":false,\"text\":\" Tokyo\",\"x\":0,\"xref\":\"x\",\"y\":12,\"yref\":\"y\"},{\"font\":{\"color\":\"#000000\"},\"showarrow\":false,\"text\":\" Tokyo\",\"x\":0,\"xref\":\"x\",\"y\":13,\"yref\":\"y\"},{\"font\":{\"color\":\"#000000\"},\"showarrow\":false,\"text\":\" Japan\",\"x\":0,\"xref\":\"x\",\"y\":14,\"yref\":\"y\"},{\"font\":{\"color\":\"#000000\"},\"showarrow\":false,\"text\":\" Japan\",\"x\":0,\"xref\":\"x\",\"y\":15,\"yref\":\"y\"},{\"font\":{\"color\":\"#FFFFFF\"},\"showarrow\":false,\"text\":\" Tokyo\",\"x\":0,\"xref\":\"x\",\"y\":16,\"yref\":\"y\"}],\"xaxis\":{\"dtick\":1,\"gridcolor\":\"rgb(0, 0, 0)\",\"side\":\"bottom\",\"ticks\":\"\",\"range\":[-0.5,1],\"tickfont\":{\"family\":\"Courier New, Monospace\",\"color\":\"darkblue\",\"size\":17},\"tickmode\":\"array\",\"tickvals\":[0],\"ticktext\":[\" Japan\"]},\"yaxis\":{\"dtick\":1,\"ticks\":\"\",\"ticksuffix\":\"  \",\"range\":[-0.5,17],\"tickfont\":{\"family\":\"verdana\",\"color\":\"firebrick\",\"size\":14},\"tickmode\":\"array\",\"tickvals\":[0,1,2,3,4,5,6,7,8,9,10,11,12,13,14,15,16],\"ticktext\":[\"h.0 \",\"h.2 \",\"h.4 \",\"h.6 \",\"h.8 \",\"h.10 \",\"h.12 \",\"h.14 \",\"h.15 \",\"h.16 \",\"h.18 \",\"h.20 \",\"h.22 \",\"h.24 \",\"h.25 \",\"h.26 \",\"h.27 \"]},\"template\":{\"data\":{\"histogram2dcontour\":[{\"type\":\"histogram2dcontour\",\"colorbar\":{\"outlinewidth\":0,\"ticks\":\"\"},\"colorscale\":[[0.0,\"#0d0887\"],[0.1111111111111111,\"#46039f\"],[0.2222222222222222,\"#7201a8\"],[0.3333333333333333,\"#9c179e\"],[0.4444444444444444,\"#bd3786\"],[0.5555555555555556,\"#d8576b\"],[0.6666666666666666,\"#ed7953\"],[0.7777777777777778,\"#fb9f3a\"],[0.8888888888888888,\"#fdca26\"],[1.0,\"#f0f921\"]]}],\"choropleth\":[{\"type\":\"choropleth\",\"colorbar\":{\"outlinewidth\":0,\"ticks\":\"\"}}],\"histogram2d\":[{\"type\":\"histogram2d\",\"colorbar\":{\"outlinewidth\":0,\"ticks\":\"\"},\"colorscale\":[[0.0,\"#0d0887\"],[0.1111111111111111,\"#46039f\"],[0.2222222222222222,\"#7201a8\"],[0.3333333333333333,\"#9c179e\"],[0.4444444444444444,\"#bd3786\"],[0.5555555555555556,\"#d8576b\"],[0.6666666666666666,\"#ed7953\"],[0.7777777777777778,\"#fb9f3a\"],[0.8888888888888888,\"#fdca26\"],[1.0,\"#f0f921\"]]}],\"heatmap\":[{\"type\":\"heatmap\",\"colorbar\":{\"outlinewidth\":0,\"ticks\":\"\"},\"colorscale\":[[0.0,\"#0d0887\"],[0.1111111111111111,\"#46039f\"],[0.2222222222222222,\"#7201a8\"],[0.3333333333333333,\"#9c179e\"],[0.4444444444444444,\"#bd3786\"],[0.5555555555555556,\"#d8576b\"],[0.6666666666666666,\"#ed7953\"],[0.7777777777777778,\"#fb9f3a\"],[0.8888888888888888,\"#fdca26\"],[1.0,\"#f0f921\"]]}],\"heatmapgl\":[{\"type\":\"heatmapgl\",\"colorbar\":{\"outlinewidth\":0,\"ticks\":\"\"},\"colorscale\":[[0.0,\"#0d0887\"],[0.1111111111111111,\"#46039f\"],[0.2222222222222222,\"#7201a8\"],[0.3333333333333333,\"#9c179e\"],[0.4444444444444444,\"#bd3786\"],[0.5555555555555556,\"#d8576b\"],[0.6666666666666666,\"#ed7953\"],[0.7777777777777778,\"#fb9f3a\"],[0.8888888888888888,\"#fdca26\"],[1.0,\"#f0f921\"]]}],\"contourcarpet\":[{\"type\":\"contourcarpet\",\"colorbar\":{\"outlinewidth\":0,\"ticks\":\"\"}}],\"contour\":[{\"type\":\"contour\",\"colorbar\":{\"outlinewidth\":0,\"ticks\":\"\"},\"colorscale\":[[0.0,\"#0d0887\"],[0.1111111111111111,\"#46039f\"],[0.2222222222222222,\"#7201a8\"],[0.3333333333333333,\"#9c179e\"],[0.4444444444444444,\"#bd3786\"],[0.5555555555555556,\"#d8576b\"],[0.6666666666666666,\"#ed7953\"],[0.7777777777777778,\"#fb9f3a\"],[0.8888888888888888,\"#fdca26\"],[1.0,\"#f0f921\"]]}],\"surface\":[{\"type\":\"surface\",\"colorbar\":{\"outlinewidth\":0,\"ticks\":\"\"},\"colorscale\":[[0.0,\"#0d0887\"],[0.1111111111111111,\"#46039f\"],[0.2222222222222222,\"#7201a8\"],[0.3333333333333333,\"#9c179e\"],[0.4444444444444444,\"#bd3786\"],[0.5555555555555556,\"#d8576b\"],[0.6666666666666666,\"#ed7953\"],[0.7777777777777778,\"#fb9f3a\"],[0.8888888888888888,\"#fdca26\"],[1.0,\"#f0f921\"]]}],\"mesh3d\":[{\"type\":\"mesh3d\",\"colorbar\":{\"outlinewidth\":0,\"ticks\":\"\"}}],\"scatter\":[{\"fillpattern\":{\"fillmode\":\"overlay\",\"size\":10,\"solidity\":0.2},\"type\":\"scatter\"}],\"parcoords\":[{\"type\":\"parcoords\",\"line\":{\"colorbar\":{\"outlinewidth\":0,\"ticks\":\"\"}}}],\"scatterpolargl\":[{\"type\":\"scatterpolargl\",\"marker\":{\"colorbar\":{\"outlinewidth\":0,\"ticks\":\"\"}}}],\"bar\":[{\"error_x\":{\"color\":\"#2a3f5f\"},\"error_y\":{\"color\":\"#2a3f5f\"},\"marker\":{\"line\":{\"color\":\"#E5ECF6\",\"width\":0.5},\"pattern\":{\"fillmode\":\"overlay\",\"size\":10,\"solidity\":0.2}},\"type\":\"bar\"}],\"scattergeo\":[{\"type\":\"scattergeo\",\"marker\":{\"colorbar\":{\"outlinewidth\":0,\"ticks\":\"\"}}}],\"scatterpolar\":[{\"type\":\"scatterpolar\",\"marker\":{\"colorbar\":{\"outlinewidth\":0,\"ticks\":\"\"}}}],\"histogram\":[{\"marker\":{\"pattern\":{\"fillmode\":\"overlay\",\"size\":10,\"solidity\":0.2}},\"type\":\"histogram\"}],\"scattergl\":[{\"type\":\"scattergl\",\"marker\":{\"colorbar\":{\"outlinewidth\":0,\"ticks\":\"\"}}}],\"scatter3d\":[{\"type\":\"scatter3d\",\"line\":{\"colorbar\":{\"outlinewidth\":0,\"ticks\":\"\"}},\"marker\":{\"colorbar\":{\"outlinewidth\":0,\"ticks\":\"\"}}}],\"scattermapbox\":[{\"type\":\"scattermapbox\",\"marker\":{\"colorbar\":{\"outlinewidth\":0,\"ticks\":\"\"}}}],\"scatterternary\":[{\"type\":\"scatterternary\",\"marker\":{\"colorbar\":{\"outlinewidth\":0,\"ticks\":\"\"}}}],\"scattercarpet\":[{\"type\":\"scattercarpet\",\"marker\":{\"colorbar\":{\"outlinewidth\":0,\"ticks\":\"\"}}}],\"carpet\":[{\"aaxis\":{\"endlinecolor\":\"#2a3f5f\",\"gridcolor\":\"white\",\"linecolor\":\"white\",\"minorgridcolor\":\"white\",\"startlinecolor\":\"#2a3f5f\"},\"baxis\":{\"endlinecolor\":\"#2a3f5f\",\"gridcolor\":\"white\",\"linecolor\":\"white\",\"minorgridcolor\":\"white\",\"startlinecolor\":\"#2a3f5f\"},\"type\":\"carpet\"}],\"table\":[{\"cells\":{\"fill\":{\"color\":\"#EBF0F8\"},\"line\":{\"color\":\"white\"}},\"header\":{\"fill\":{\"color\":\"#C8D4E3\"},\"line\":{\"color\":\"white\"}},\"type\":\"table\"}],\"barpolar\":[{\"marker\":{\"line\":{\"color\":\"#E5ECF6\",\"width\":0.5},\"pattern\":{\"fillmode\":\"overlay\",\"size\":10,\"solidity\":0.2}},\"type\":\"barpolar\"}],\"pie\":[{\"automargin\":true,\"type\":\"pie\"}]},\"layout\":{\"autotypenumbers\":\"strict\",\"colorway\":[\"#636efa\",\"#EF553B\",\"#00cc96\",\"#ab63fa\",\"#FFA15A\",\"#19d3f3\",\"#FF6692\",\"#B6E880\",\"#FF97FF\",\"#FECB52\"],\"font\":{\"color\":\"#2a3f5f\"},\"hovermode\":\"closest\",\"hoverlabel\":{\"align\":\"left\"},\"paper_bgcolor\":\"white\",\"plot_bgcolor\":\"#E5ECF6\",\"polar\":{\"bgcolor\":\"#E5ECF6\",\"angularaxis\":{\"gridcolor\":\"white\",\"linecolor\":\"white\",\"ticks\":\"\"},\"radialaxis\":{\"gridcolor\":\"white\",\"linecolor\":\"white\",\"ticks\":\"\"}},\"ternary\":{\"bgcolor\":\"#E5ECF6\",\"aaxis\":{\"gridcolor\":\"white\",\"linecolor\":\"white\",\"ticks\":\"\"},\"baxis\":{\"gridcolor\":\"white\",\"linecolor\":\"white\",\"ticks\":\"\"},\"caxis\":{\"gridcolor\":\"white\",\"linecolor\":\"white\",\"ticks\":\"\"}},\"coloraxis\":{\"colorbar\":{\"outlinewidth\":0,\"ticks\":\"\"}},\"colorscale\":{\"sequential\":[[0.0,\"#0d0887\"],[0.1111111111111111,\"#46039f\"],[0.2222222222222222,\"#7201a8\"],[0.3333333333333333,\"#9c179e\"],[0.4444444444444444,\"#bd3786\"],[0.5555555555555556,\"#d8576b\"],[0.6666666666666666,\"#ed7953\"],[0.7777777777777778,\"#fb9f3a\"],[0.8888888888888888,\"#fdca26\"],[1.0,\"#f0f921\"]],\"sequentialminus\":[[0.0,\"#0d0887\"],[0.1111111111111111,\"#46039f\"],[0.2222222222222222,\"#7201a8\"],[0.3333333333333333,\"#9c179e\"],[0.4444444444444444,\"#bd3786\"],[0.5555555555555556,\"#d8576b\"],[0.6666666666666666,\"#ed7953\"],[0.7777777777777778,\"#fb9f3a\"],[0.8888888888888888,\"#fdca26\"],[1.0,\"#f0f921\"]],\"diverging\":[[0,\"#8e0152\"],[0.1,\"#c51b7d\"],[0.2,\"#de77ae\"],[0.3,\"#f1b6da\"],[0.4,\"#fde0ef\"],[0.5,\"#f7f7f7\"],[0.6,\"#e6f5d0\"],[0.7,\"#b8e186\"],[0.8,\"#7fbc41\"],[0.9,\"#4d9221\"],[1,\"#276419\"]]},\"xaxis\":{\"gridcolor\":\"white\",\"linecolor\":\"white\",\"ticks\":\"\",\"title\":{\"standoff\":15},\"zerolinecolor\":\"white\",\"automargin\":true,\"zerolinewidth\":2},\"yaxis\":{\"gridcolor\":\"white\",\"linecolor\":\"white\",\"ticks\":\"\",\"title\":{\"standoff\":15},\"zerolinecolor\":\"white\",\"automargin\":true,\"zerolinewidth\":2},\"scene\":{\"xaxis\":{\"backgroundcolor\":\"#E5ECF6\",\"gridcolor\":\"white\",\"linecolor\":\"white\",\"showbackground\":true,\"ticks\":\"\",\"zerolinecolor\":\"white\",\"gridwidth\":2},\"yaxis\":{\"backgroundcolor\":\"#E5ECF6\",\"gridcolor\":\"white\",\"linecolor\":\"white\",\"showbackground\":true,\"ticks\":\"\",\"zerolinecolor\":\"white\",\"gridwidth\":2},\"zaxis\":{\"backgroundcolor\":\"#E5ECF6\",\"gridcolor\":\"white\",\"linecolor\":\"white\",\"showbackground\":true,\"ticks\":\"\",\"zerolinecolor\":\"white\",\"gridwidth\":2}},\"shapedefaults\":{\"line\":{\"color\":\"#2a3f5f\"}},\"annotationdefaults\":{\"arrowcolor\":\"#2a3f5f\",\"arrowhead\":0,\"arrowwidth\":1},\"geo\":{\"bgcolor\":\"white\",\"landcolor\":\"#E5ECF6\",\"subunitcolor\":\"white\",\"showland\":true,\"showlakes\":true,\"lakecolor\":\"white\"},\"title\":{\"x\":0.05},\"mapbox\":{\"style\":\"light\"}}},\"autosize\":false,\"width\":290,\"height\":795,\"title\":{\"font\":{\"family\":\"Courier New, Monospace\",\"size\":20,\"color\":\"rgb(0,0,0)\"},\"text\":\"<b><i>Berlin, Berlin, Berlin. The capital of {} is</i></b>\",\"y\":0.95},\"plot_bgcolor\":\"white\"},                        {\"responsive\": true}                    ).then(function(){\n",
       "                            \n",
       "var gd = document.getElementById('7b7358a3-dba7-41e4-bc47-1b966f805da5');\n",
       "var x = new MutationObserver(function (mutations, observer) {{\n",
       "        var display = window.getComputedStyle(gd).display;\n",
       "        if (!display || display === 'none') {{\n",
       "            console.log([gd, 'removed!']);\n",
       "            Plotly.purge(gd);\n",
       "            observer.disconnect();\n",
       "        }}\n",
       "}});\n",
       "\n",
       "// Listen for the removal of the full notebook cells\n",
       "var notebookContainer = gd.closest('#notebook-container');\n",
       "if (notebookContainer) {{\n",
       "    x.observe(notebookContainer, {childList: true});\n",
       "}}\n",
       "\n",
       "// Listen for the clearing of the current output cell\n",
       "var outputEl = gd.closest('.output');\n",
       "if (outputEl) {{\n",
       "    x.observe(outputEl, {childList: true});\n",
       "}}\n",
       "\n",
       "                        })                };                });            </script>        </div>"
      ]
     },
     "metadata": {},
     "output_type": "display_data"
    }
   ],
   "source": [
    "att_info = lens.apply_attribute_lens(\n",
    "    subject=\"Japan\",\n",
    "    relation_operator=new_operator\n",
    ")\n",
    "\n",
    "lens_utils.visualize_attribute_lens(\n",
    "    att_info, layer_skip=2, must_have_layers=[15, 25],\n",
    "    expected_answers=[' Berlin', \" Beijing\"]\n",
    ")"
   ]
  },
  {
   "cell_type": "code",
   "execution_count": null,
   "metadata": {},
   "outputs": [],
   "source": []
  }
 ],
 "metadata": {
  "kernelspec": {
   "display_name": "relations",
   "language": "python",
   "name": "python3"
  },
  "language_info": {
   "codemirror_mode": {
    "name": "ipython",
    "version": 3
   },
   "file_extension": ".py",
   "mimetype": "text/x-python",
   "name": "python",
   "nbconvert_exporter": "python",
   "pygments_lexer": "ipython3",
   "version": "3.10.11"
  },
  "orig_nbformat": 4
 },
 "nbformat": 4,
 "nbformat_minor": 2
}
