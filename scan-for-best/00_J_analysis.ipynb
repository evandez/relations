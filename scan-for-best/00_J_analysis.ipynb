{
 "cells": [
  {
   "cell_type": "code",
   "execution_count": 1,
   "metadata": {},
   "outputs": [],
   "source": [
    "%load_ext autoreload\n",
    "%autoreload 2"
   ]
  },
  {
   "cell_type": "code",
   "execution_count": 31,
   "metadata": {},
   "outputs": [],
   "source": [
    "import torch\n",
    "import numpy as np\n",
    "import json\n",
    "from tqdm.auto import tqdm\n",
    "\n",
    "import os\n",
    "import sys\n",
    "import random\n",
    "sys.path.append('..')\n",
    "\n",
    "from relations import estimate\n",
    "from util import model_utils\n",
    "from dsets.counterfact import CounterFactDataset\n",
    "from util import nethook\n",
    "from relations import evaluate"
   ]
  },
  {
   "cell_type": "code",
   "execution_count": 3,
   "metadata": {},
   "outputs": [],
   "source": [
    "MODEL_NAME = \"EleutherAI/gpt-j-6B\"  # gpt2-{medium,large,xl} or EleutherAI/gpt-j-6B\n",
    "mt = model_utils.ModelAndTokenizer(MODEL_NAME, low_cpu_mem_usage=True, torch_dtype=torch.float16)\n",
    "\n",
    "model = mt.model\n",
    "tokenizer = mt.tokenizer\n",
    "tokenizer.pad_token = tokenizer.eos_token"
   ]
  },
  {
   "cell_type": "code",
   "execution_count": 25,
   "metadata": {},
   "outputs": [
    {
     "data": {
      "text/plain": [
       "10"
      ]
     },
     "execution_count": 25,
     "metadata": {},
     "output_type": "execute_result"
    }
   ],
   "source": [
    "rid = \"P17\"\n",
    "\n",
    "with open(\"best_performing_cases__relationwise__gpt-j.json\") as f:\n",
    "    best_performing = json.load(f)[rid]\n",
    "\n",
    "len(best_performing)"
   ]
  },
  {
   "cell_type": "code",
   "execution_count": 26,
   "metadata": {},
   "outputs": [
    {
     "name": "stdout",
     "output_type": "stream",
     "text": [
      "Loaded dataset with 21919 elements\n",
      "P17 >> number of requests in counterfact = 875\n"
     ]
    }
   ],
   "source": [
    "from dsets.counterfact import CounterFactDataset\n",
    "counterfact = CounterFactDataset(\"../data/\")\n",
    "\n",
    "cf_relation = [\n",
    "    c[\"requested_rewrite\"]\n",
    "    for c in counterfact\n",
    "    if c[\"requested_rewrite\"][\"relation_id\"] == rid\n",
    "]\n",
    "print(\n",
    "    f\"{rid} >> number of requests in counterfact = {len(cf_relation)}\"\n",
    ")"
   ]
  },
  {
   "cell_type": "code",
   "execution_count": 29,
   "metadata": {},
   "outputs": [
    {
     "data": {
      "application/vnd.jupyter.widget-view+json": {
       "model_id": "2b3d27f6e25a4c8bae804345bdec41bd",
       "version_major": 2,
       "version_minor": 0
      },
      "text/plain": [
       "  0%|          | 0/875 [00:00<?, ?it/s]"
      ]
     },
     "metadata": {},
     "output_type": "display_data"
    }
   ],
   "source": [
    "model_predict_ok = evaluate.filter_correct_predictions_by_model(\n",
    "    model,\n",
    "    tokenizer,\n",
    "    \"{} is located in the country of\",\n",
    "    cf_relation,\n",
    ")"
   ]
  },
  {
   "cell_type": "code",
   "execution_count": 30,
   "metadata": {},
   "outputs": [
    {
     "data": {
      "text/plain": [
       "406"
      ]
     },
     "execution_count": 30,
     "metadata": {},
     "output_type": "execute_result"
    }
   ],
   "source": [
    "len(model_predict_ok)"
   ]
  },
  {
   "cell_type": "code",
   "execution_count": 83,
   "metadata": {},
   "outputs": [],
   "source": [
    "prompts = [\n",
    "    \"{}\",\n",
    "    \"{} is located in the country of\",\n",
    "    \"{} is in\",\n",
    "    \"The country where {} is located in is\",\n",
    "    \"{} can be found in\",\n",
    "    \"{} is located within the confines of\"\n",
    "]"
   ]
  },
  {
   "cell_type": "code",
   "execution_count": 84,
   "metadata": {},
   "outputs": [
    {
     "data": {
      "text/plain": [
       "['subject__country',\n",
       " 'subject_is_located_in_the_country_of__country',\n",
       " 'subject_is_in__country',\n",
       " 'The_country_where_subject_is_located_in_is__country',\n",
       " 'subject_can_be_found_in__country',\n",
       " 'subject_is_located_within_the_confines_of__country']"
      ]
     },
     "execution_count": 84,
     "metadata": {},
     "output_type": "execute_result"
    }
   ],
   "source": [
    "[p.replace(\"{}\", \"subject\").replace(\" \", \"_\")+\"__country\" for p in prompts]"
   ]
  },
  {
   "attachments": {},
   "cell_type": "markdown",
   "metadata": {},
   "source": [
    "## Calculate Jacobians and biases"
   ]
  },
  {
   "cell_type": "code",
   "execution_count": 85,
   "metadata": {},
   "outputs": [],
   "source": [
    "def get_averaged_JB(top_performers, relation_prompt, num_icl = 3, calculate_at_lnf = False):\n",
    "    try:\n",
    "        jbs = []\n",
    "        for s, s_idx, o in tqdm(top_performers):\n",
    "            others = set(top_performers) - {(s, s_idx, o)}\n",
    "            others = random.sample(list(others), k = min(num_icl, len(list(others)))) \n",
    "            prompt = \"\"\n",
    "            prompt += \"\\n\".join(relation_prompt.format(s_other) + f\" {o_other}\" for s_other, idx_other, o_other in others) + \"\\n\"\n",
    "            prompt += relation_prompt\n",
    "            print(\"subject: \", s)\n",
    "            print(prompt)\n",
    "\n",
    "            jb = estimate.estimate_relation_operator(\n",
    "                model, tokenizer,\n",
    "                s, prompt,\n",
    "                subject_token_index= s_idx,\n",
    "                layer = 15,\n",
    "                device = model.device,\n",
    "                # calculate_at_lnf = calculate_at_lnf\n",
    "                # layer_name_format = \"model.decoder.layers.{}\",\n",
    "                # ln_f_name = \"model.decoder.final_layer_norm\",\n",
    "                # n_layer_field = \"num_hidden_layers\"\n",
    "            )\n",
    "            print(jb.weight.norm(), jb.bias.norm())\n",
    "            print()\n",
    "            jbs.append(jb)\n",
    "        \n",
    "        weight = torch.stack([jb.weight for jb in jbs]).mean(dim=0)\n",
    "        bias  = torch.stack([jb.bias for jb in jbs]).mean(dim=0)\n",
    "\n",
    "        return weight, bias\n",
    "    except RuntimeError as e:\n",
    "        if(str(e).startswith(\"CUDA out of memory\")):\n",
    "            print(\"CUDA out of memory\")\n",
    "        if(num_icl > 1):\n",
    "            num_icl -= 1\n",
    "            print(\"trying with smaller icl >> \", num_icl)\n",
    "            return get_averaged_JB(top_performers, relation_prompt, num_icl, calculate_at_lnf)\n",
    "        else:\n",
    "            raise Exception(\"RuntimeError >> can't calculate Jacobian with minimum number of icl examples\")\n",
    "\n",
    "def get_multiple_averaged_JB(top_performers, relation_prompt, N = 3, num_icl = 2, calculate_at_lnf = False):\n",
    "    weights_and_biases = []\n",
    "    sample_size = min(len(top_performers), num_icl + 2)\n",
    "    for _ in tqdm(range(N)):\n",
    "        cur_sample = random.sample(top_performers, k = sample_size)\n",
    "        weight, bias = get_averaged_JB(cur_sample, relation_prompt, num_icl, calculate_at_lnf)\n",
    "        weights_and_biases.append({\n",
    "            'weight': weight,\n",
    "            'bias'  : bias\n",
    "        })\n",
    "    return weights_and_biases"
   ]
  },
  {
   "cell_type": "code",
   "execution_count": 86,
   "metadata": {},
   "outputs": [
    {
     "data": {
      "application/vnd.jupyter.widget-view+json": {
       "model_id": "436613f99bfa42c9b1bb0f57beccf9b7",
       "version_major": 2,
       "version_minor": 0
      },
      "text/plain": [
       "  0%|          | 0/5 [00:00<?, ?it/s]"
      ]
     },
     "metadata": {},
     "output_type": "display_data"
    },
    {
     "data": {
      "application/vnd.jupyter.widget-view+json": {
       "model_id": "fd637155305f445c898d807fbd11837e",
       "version_major": 2,
       "version_minor": 0
      },
      "text/plain": [
       "  0%|          | 0/5 [00:00<?, ?it/s]"
      ]
     },
     "metadata": {},
     "output_type": "display_data"
    },
    {
     "name": "stdout",
     "output_type": "stream",
     "text": [
      "subject:  Harnaut\n",
      "Southern Savonia Finland\n",
      "Umarex Germany\n",
      "Sabratha Libya\n",
      "{}\n",
      "tensor(17.4219, device='cuda:0', dtype=torch.float16) tensor(252.7500, device='cuda:0', dtype=torch.float16)\n",
      "\n",
      "subject:  Imperia\n",
      "Sabratha Libya\n",
      "Umarex Germany\n",
      "Southern Savonia Finland\n",
      "{}\n",
      "tensor(5.3945, device='cuda:0', dtype=torch.float16) tensor(317.5000, device='cuda:0', dtype=torch.float16)\n",
      "\n",
      "subject:  Southern Savonia\n",
      "Sabratha Libya\n",
      "Umarex Germany\n",
      "Imperia Italy\n",
      "{}\n",
      "tensor(13.3906, device='cuda:0', dtype=torch.float16) tensor(307., device='cuda:0', dtype=torch.float16)\n",
      "\n",
      "subject:  Umarex\n",
      "Southern Savonia Finland\n",
      "Sabratha Libya\n",
      "Harnaut India\n",
      "{}\n",
      "tensor(23.5156, device='cuda:0', dtype=torch.float16) tensor(265.7500, device='cuda:0', dtype=torch.float16)\n",
      "\n",
      "subject:  Sabratha\n",
      "Umarex Germany\n",
      "Southern Savonia Finland\n",
      "Imperia Italy\n",
      "{}\n",
      "tensor(14.0234, device='cuda:0', dtype=torch.float16) tensor(318.7500, device='cuda:0', dtype=torch.float16)\n",
      "\n"
     ]
    },
    {
     "data": {
      "application/vnd.jupyter.widget-view+json": {
       "model_id": "ae9ed1399baf4e1f8f80f08741dc3c36",
       "version_major": 2,
       "version_minor": 0
      },
      "text/plain": [
       "  0%|          | 0/5 [00:00<?, ?it/s]"
      ]
     },
     "metadata": {},
     "output_type": "display_data"
    },
    {
     "name": "stdout",
     "output_type": "stream",
     "text": [
      "subject:  Imperia\n",
      "Ufa Russia\n",
      "Umarex Germany\n",
      "Eurostat Luxembourg\n",
      "{}\n",
      "tensor(4.5508, device='cuda:0', dtype=torch.float16) tensor(320.2500, device='cuda:0', dtype=torch.float16)\n",
      "\n",
      "subject:  Southern Savonia\n",
      "Eurostat Luxembourg\n",
      "Ufa Russia\n",
      "Imperia Italy\n",
      "{}\n",
      "tensor(15.2266, device='cuda:0', dtype=torch.float16) tensor(275., device='cuda:0', dtype=torch.float16)\n",
      "\n",
      "subject:  Eurostat\n",
      "Umarex Germany\n",
      "Imperia Italy\n",
      "Southern Savonia Finland\n",
      "{}\n",
      "tensor(8.5156, device='cuda:0', dtype=torch.float16) tensor(309., device='cuda:0', dtype=torch.float16)\n",
      "\n",
      "subject:  Umarex\n",
      "Imperia Italy\n",
      "Southern Savonia Finland\n",
      "Ufa Russia\n",
      "{}\n",
      "tensor(15.0703, device='cuda:0', dtype=torch.float16) tensor(359.5000, device='cuda:0', dtype=torch.float16)\n",
      "\n",
      "subject:  Ufa\n",
      "Southern Savonia Finland\n",
      "Imperia Italy\n",
      "Umarex Germany\n",
      "{}\n",
      "tensor(8.6250, device='cuda:0', dtype=torch.float16) tensor(294., device='cuda:0', dtype=torch.float16)\n",
      "\n"
     ]
    },
    {
     "data": {
      "application/vnd.jupyter.widget-view+json": {
       "model_id": "ed7919565ddb4298b9a749de93386afa",
       "version_major": 2,
       "version_minor": 0
      },
      "text/plain": [
       "  0%|          | 0/5 [00:00<?, ?it/s]"
      ]
     },
     "metadata": {},
     "output_type": "display_data"
    },
    {
     "name": "stdout",
     "output_type": "stream",
     "text": [
      "subject:  Marugame\n",
      "Sabratha Libya\n",
      "Umarex Germany\n",
      "Ufa Russia\n",
      "{}\n",
      "tensor(26.4062, device='cuda:0', dtype=torch.float16) tensor(299.5000, device='cuda:0', dtype=torch.float16)\n",
      "\n",
      "subject:  Southern Savonia\n",
      "Sabratha Libya\n",
      "Ufa Russia\n",
      "Marugame Japan\n",
      "{}\n",
      "tensor(18.4062, device='cuda:0', dtype=torch.float16) tensor(264.5000, device='cuda:0', dtype=torch.float16)\n",
      "\n",
      "subject:  Ufa\n",
      "Umarex Germany\n",
      "Sabratha Libya\n",
      "Marugame Japan\n",
      "{}\n",
      "tensor(7.3398, device='cuda:0', dtype=torch.float16) tensor(297.7500, device='cuda:0', dtype=torch.float16)\n",
      "\n",
      "subject:  Umarex\n",
      "Sabratha Libya\n",
      "Southern Savonia Finland\n",
      "Ufa Russia\n",
      "{}\n",
      "tensor(15.4844, device='cuda:0', dtype=torch.float16) tensor(345.7500, device='cuda:0', dtype=torch.float16)\n",
      "\n",
      "subject:  Sabratha\n",
      "Southern Savonia Finland\n",
      "Ufa Russia\n",
      "Umarex Germany\n",
      "{}\n",
      "tensor(15.0703, device='cuda:0', dtype=torch.float16) tensor(333.7500, device='cuda:0', dtype=torch.float16)\n",
      "\n"
     ]
    },
    {
     "data": {
      "application/vnd.jupyter.widget-view+json": {
       "model_id": "c8b7040f9a814c8fb0aceb335a2a09c7",
       "version_major": 2,
       "version_minor": 0
      },
      "text/plain": [
       "  0%|          | 0/5 [00:00<?, ?it/s]"
      ]
     },
     "metadata": {},
     "output_type": "display_data"
    },
    {
     "name": "stdout",
     "output_type": "stream",
     "text": [
      "subject:  Eurostat\n",
      "Imperia Italy\n",
      "Harnaut India\n",
      "Marugame Japan\n",
      "{}\n",
      "tensor(10.2188, device='cuda:0', dtype=torch.float16) tensor(296., device='cuda:0', dtype=torch.float16)\n",
      "\n",
      "subject:  Marugame\n",
      "Harnaut India\n",
      "Eurostat Luxembourg\n",
      "Imperia Italy\n",
      "{}\n",
      "tensor(18.1719, device='cuda:0', dtype=torch.float16) tensor(312.2500, device='cuda:0', dtype=torch.float16)\n",
      "\n",
      "subject:  Sabratha\n",
      "Imperia Italy\n",
      "Harnaut India\n",
      "Eurostat Luxembourg\n",
      "{}\n",
      "tensor(16.3906, device='cuda:0', dtype=torch.float16) tensor(331.7500, device='cuda:0', dtype=torch.float16)\n",
      "\n",
      "subject:  Harnaut\n",
      "Eurostat Luxembourg\n",
      "Sabratha Libya\n",
      "Imperia Italy\n",
      "{}\n",
      "tensor(17.9375, device='cuda:0', dtype=torch.float16) tensor(273.5000, device='cuda:0', dtype=torch.float16)\n",
      "\n",
      "subject:  Imperia\n",
      "Harnaut India\n",
      "Marugame Japan\n",
      "Sabratha Libya\n",
      "{}\n",
      "tensor(8.8672, device='cuda:0', dtype=torch.float16) tensor(265.7500, device='cuda:0', dtype=torch.float16)\n",
      "\n"
     ]
    },
    {
     "data": {
      "application/vnd.jupyter.widget-view+json": {
       "model_id": "344f9d22e38a4578866d08040ef00041",
       "version_major": 2,
       "version_minor": 0
      },
      "text/plain": [
       "  0%|          | 0/5 [00:00<?, ?it/s]"
      ]
     },
     "metadata": {},
     "output_type": "display_data"
    },
    {
     "name": "stdout",
     "output_type": "stream",
     "text": [
      "subject:  Imperia\n",
      "Southern Savonia Finland\n",
      "Haut Atlas Morocco\n",
      "Marugame Japan\n",
      "{}\n",
      "tensor(6.1875, device='cuda:0', dtype=torch.float16) tensor(298., device='cuda:0', dtype=torch.float16)\n",
      "\n",
      "subject:  Ufa\n",
      "Southern Savonia Finland\n",
      "Haut Atlas Morocco\n",
      "Imperia Italy\n",
      "{}\n",
      "tensor(7.1914, device='cuda:0', dtype=torch.float16) tensor(330., device='cuda:0', dtype=torch.float16)\n",
      "\n",
      "subject:  Haut Atlas\n",
      "Marugame Japan\n",
      "Southern Savonia Finland\n",
      "Imperia Italy\n",
      "{}\n",
      "tensor(16.1875, device='cuda:0', dtype=torch.float16) tensor(286.7500, device='cuda:0', dtype=torch.float16)\n",
      "\n",
      "subject:  Marugame\n",
      "Imperia Italy\n",
      "Haut Atlas Morocco\n",
      "Ufa Russia\n",
      "{}\n",
      "tensor(27.2031, device='cuda:0', dtype=torch.float16) tensor(322., device='cuda:0', dtype=torch.float16)\n",
      "\n",
      "subject:  Southern Savonia\n",
      "Marugame Japan\n",
      "Ufa Russia\n",
      "Imperia Italy\n",
      "{}\n",
      "tensor(15.4766, device='cuda:0', dtype=torch.float16) tensor(263., device='cuda:0', dtype=torch.float16)\n",
      "\n"
     ]
    },
    {
     "data": {
      "application/vnd.jupyter.widget-view+json": {
       "model_id": "e28dedc566dd404f966c069f58267baf",
       "version_major": 2,
       "version_minor": 0
      },
      "text/plain": [
       "  0%|          | 0/5 [00:00<?, ?it/s]"
      ]
     },
     "metadata": {},
     "output_type": "display_data"
    },
    {
     "data": {
      "application/vnd.jupyter.widget-view+json": {
       "model_id": "e42f99e63b0d4f6c876bdb8009385662",
       "version_major": 2,
       "version_minor": 0
      },
      "text/plain": [
       "  0%|          | 0/5 [00:00<?, ?it/s]"
      ]
     },
     "metadata": {},
     "output_type": "display_data"
    },
    {
     "name": "stdout",
     "output_type": "stream",
     "text": [
      "subject:  Southern Savonia\n",
      "Haut Atlas is located in the country of Morocco\n",
      "Canada Live is located in the country of Canada\n",
      "Ufa is located in the country of Russia\n",
      "{} is located in the country of\n",
      "tensor(10.7891, device='cuda:0', dtype=torch.float16) tensor(257., device='cuda:0', dtype=torch.float16)\n",
      "\n",
      "subject:  Imperia\n",
      "Canada Live is located in the country of Canada\n",
      "Southern Savonia is located in the country of Finland\n",
      "Haut Atlas is located in the country of Morocco\n",
      "{} is located in the country of\n",
      "tensor(3.5781, device='cuda:0', dtype=torch.float16) tensor(274.2500, device='cuda:0', dtype=torch.float16)\n",
      "\n",
      "subject:  Haut Atlas\n",
      "Southern Savonia is located in the country of Finland\n",
      "Imperia is located in the country of Italy\n",
      "Ufa is located in the country of Russia\n",
      "{} is located in the country of\n",
      "tensor(10.2734, device='cuda:0', dtype=torch.float16) tensor(305.5000, device='cuda:0', dtype=torch.float16)\n",
      "\n",
      "subject:  Canada Live\n",
      "Imperia is located in the country of Italy\n",
      "Haut Atlas is located in the country of Morocco\n",
      "Southern Savonia is located in the country of Finland\n",
      "{} is located in the country of\n",
      "tensor(18.9219, device='cuda:0', dtype=torch.float16) tensor(347.5000, device='cuda:0', dtype=torch.float16)\n",
      "\n",
      "subject:  Ufa\n",
      "Haut Atlas is located in the country of Morocco\n",
      "Southern Savonia is located in the country of Finland\n",
      "Canada Live is located in the country of Canada\n",
      "{} is located in the country of\n",
      "tensor(4.6328, device='cuda:0', dtype=torch.float16) tensor(274.5000, device='cuda:0', dtype=torch.float16)\n",
      "\n"
     ]
    },
    {
     "data": {
      "application/vnd.jupyter.widget-view+json": {
       "model_id": "0090c85070d14d1da0bcef0ccde6d5d8",
       "version_major": 2,
       "version_minor": 0
      },
      "text/plain": [
       "  0%|          | 0/5 [00:00<?, ?it/s]"
      ]
     },
     "metadata": {},
     "output_type": "display_data"
    },
    {
     "name": "stdout",
     "output_type": "stream",
     "text": [
      "subject:  Southern Savonia\n",
      "Eurostat is located in the country of Luxembourg\n",
      "Haut Atlas is located in the country of Morocco\n",
      "Imperia is located in the country of Italy\n",
      "{} is located in the country of\n",
      "tensor(11.5156, device='cuda:0', dtype=torch.float16) tensor(258.7500, device='cuda:0', dtype=torch.float16)\n",
      "\n",
      "subject:  Sabratha\n",
      "Imperia is located in the country of Italy\n",
      "Haut Atlas is located in the country of Morocco\n",
      "Southern Savonia is located in the country of Finland\n",
      "{} is located in the country of\n",
      "tensor(16., device='cuda:0', dtype=torch.float16) tensor(276.2500, device='cuda:0', dtype=torch.float16)\n",
      "\n",
      "subject:  Eurostat\n",
      "Haut Atlas is located in the country of Morocco\n",
      "Southern Savonia is located in the country of Finland\n",
      "Sabratha is located in the country of Libya\n",
      "{} is located in the country of\n",
      "tensor(11.2891, device='cuda:0', dtype=torch.float16) tensor(243.6250, device='cuda:0', dtype=torch.float16)\n",
      "\n",
      "subject:  Imperia\n",
      "Southern Savonia is located in the country of Finland\n",
      "Eurostat is located in the country of Luxembourg\n",
      "Sabratha is located in the country of Libya\n",
      "{} is located in the country of\n",
      "tensor(5.9023, device='cuda:0', dtype=torch.float16) tensor(242.5000, device='cuda:0', dtype=torch.float16)\n",
      "\n",
      "subject:  Haut Atlas\n",
      "Sabratha is located in the country of Libya\n",
      "Southern Savonia is located in the country of Finland\n",
      "Imperia is located in the country of Italy\n",
      "{} is located in the country of\n",
      "tensor(9.5156, device='cuda:0', dtype=torch.float16) tensor(296.7500, device='cuda:0', dtype=torch.float16)\n",
      "\n"
     ]
    },
    {
     "data": {
      "application/vnd.jupyter.widget-view+json": {
       "model_id": "046c6e8d505f480d953166eb4e9172c4",
       "version_major": 2,
       "version_minor": 0
      },
      "text/plain": [
       "  0%|          | 0/5 [00:00<?, ?it/s]"
      ]
     },
     "metadata": {},
     "output_type": "display_data"
    },
    {
     "name": "stdout",
     "output_type": "stream",
     "text": [
      "subject:  Canada Live\n",
      "Harnaut is located in the country of India\n",
      "Sabratha is located in the country of Libya\n",
      "Eurostat is located in the country of Luxembourg\n",
      "{} is located in the country of\n",
      "tensor(18.3125, device='cuda:0', dtype=torch.float16) tensor(316., device='cuda:0', dtype=torch.float16)\n",
      "\n",
      "subject:  Sabratha\n",
      "Ufa is located in the country of Russia\n",
      "Canada Live is located in the country of Canada\n",
      "Eurostat is located in the country of Luxembourg\n",
      "{} is located in the country of\n",
      "tensor(15.3047, device='cuda:0', dtype=torch.float16) tensor(274.2500, device='cuda:0', dtype=torch.float16)\n",
      "\n",
      "subject:  Harnaut\n",
      "Eurostat is located in the country of Luxembourg\n",
      "Ufa is located in the country of Russia\n",
      "Canada Live is located in the country of Canada\n",
      "{} is located in the country of\n",
      "tensor(24.5469, device='cuda:0', dtype=torch.float16) tensor(275.5000, device='cuda:0', dtype=torch.float16)\n",
      "\n",
      "subject:  Eurostat\n",
      "Harnaut is located in the country of India\n",
      "Ufa is located in the country of Russia\n",
      "Canada Live is located in the country of Canada\n",
      "{} is located in the country of\n",
      "tensor(12.7031, device='cuda:0', dtype=torch.float16) tensor(299.7500, device='cuda:0', dtype=torch.float16)\n",
      "\n",
      "subject:  Ufa\n",
      "Eurostat is located in the country of Luxembourg\n",
      "Canada Live is located in the country of Canada\n",
      "Harnaut is located in the country of India\n",
      "{} is located in the country of\n",
      "tensor(2.9238, device='cuda:0', dtype=torch.float16) tensor(296.7500, device='cuda:0', dtype=torch.float16)\n",
      "\n"
     ]
    },
    {
     "data": {
      "application/vnd.jupyter.widget-view+json": {
       "model_id": "27a7090e63504ba3abae946245c96396",
       "version_major": 2,
       "version_minor": 0
      },
      "text/plain": [
       "  0%|          | 0/5 [00:00<?, ?it/s]"
      ]
     },
     "metadata": {},
     "output_type": "display_data"
    },
    {
     "name": "stdout",
     "output_type": "stream",
     "text": [
      "subject:  Eurostat\n",
      "Harnaut is located in the country of India\n",
      "Ufa is located in the country of Russia\n",
      "Canada Live is located in the country of Canada\n",
      "{} is located in the country of\n",
      "tensor(12.7031, device='cuda:0', dtype=torch.float16) tensor(299.7500, device='cuda:0', dtype=torch.float16)\n",
      "\n",
      "subject:  Umarex\n",
      "Canada Live is located in the country of Canada\n",
      "Harnaut is located in the country of India\n",
      "Eurostat is located in the country of Luxembourg\n",
      "{} is located in the country of\n",
      "tensor(27.6875, device='cuda:0', dtype=torch.float16) tensor(319., device='cuda:0', dtype=torch.float16)\n",
      "\n",
      "subject:  Harnaut\n",
      "Umarex is located in the country of Germany\n",
      "Ufa is located in the country of Russia\n",
      "Canada Live is located in the country of Canada\n",
      "{} is located in the country of\n",
      "tensor(19.7812, device='cuda:0', dtype=torch.float16) tensor(296., device='cuda:0', dtype=torch.float16)\n",
      "\n",
      "subject:  Canada Live\n",
      "Ufa is located in the country of Russia\n",
      "Harnaut is located in the country of India\n",
      "Eurostat is located in the country of Luxembourg\n",
      "{} is located in the country of\n",
      "tensor(17.3594, device='cuda:0', dtype=torch.float16) tensor(324.2500, device='cuda:0', dtype=torch.float16)\n",
      "\n",
      "subject:  Ufa\n",
      "Harnaut is located in the country of India\n",
      "Umarex is located in the country of Germany\n",
      "Eurostat is located in the country of Luxembourg\n",
      "{} is located in the country of\n",
      "tensor(3.2324, device='cuda:0', dtype=torch.float16) tensor(288.5000, device='cuda:0', dtype=torch.float16)\n",
      "\n"
     ]
    },
    {
     "data": {
      "application/vnd.jupyter.widget-view+json": {
       "model_id": "b189c4f62c6346f0a58787a5a40d1dd1",
       "version_major": 2,
       "version_minor": 0
      },
      "text/plain": [
       "  0%|          | 0/5 [00:00<?, ?it/s]"
      ]
     },
     "metadata": {},
     "output_type": "display_data"
    },
    {
     "name": "stdout",
     "output_type": "stream",
     "text": [
      "subject:  Sabratha\n",
      "Imperia is located in the country of Italy\n",
      "Southern Savonia is located in the country of Finland\n",
      "Marugame is located in the country of Japan\n",
      "{} is located in the country of\n",
      "tensor(16.7344, device='cuda:0', dtype=torch.float16) tensor(265.7500, device='cuda:0', dtype=torch.float16)\n",
      "\n",
      "subject:  Southern Savonia\n",
      "Imperia is located in the country of Italy\n",
      "Ufa is located in the country of Russia\n",
      "Marugame is located in the country of Japan\n",
      "{} is located in the country of\n",
      "tensor(12.7969, device='cuda:0', dtype=torch.float16) tensor(268., device='cuda:0', dtype=torch.float16)\n",
      "\n",
      "subject:  Marugame\n",
      "Ufa is located in the country of Russia\n",
      "Southern Savonia is located in the country of Finland\n",
      "Imperia is located in the country of Italy\n",
      "{} is located in the country of\n",
      "tensor(40.9375, device='cuda:0', dtype=torch.float16) tensor(227.6250, device='cuda:0', dtype=torch.float16)\n",
      "\n",
      "subject:  Ufa\n",
      "Imperia is located in the country of Italy\n",
      "Southern Savonia is located in the country of Finland\n",
      "Marugame is located in the country of Japan\n",
      "{} is located in the country of\n",
      "tensor(5.5039, device='cuda:0', dtype=torch.float16) tensor(246.5000, device='cuda:0', dtype=torch.float16)\n",
      "\n",
      "subject:  Imperia\n",
      "Sabratha is located in the country of Libya\n",
      "Marugame is located in the country of Japan\n",
      "Ufa is located in the country of Russia\n",
      "{} is located in the country of\n",
      "tensor(5.6836, device='cuda:0', dtype=torch.float16) tensor(266.7500, device='cuda:0', dtype=torch.float16)\n",
      "\n"
     ]
    },
    {
     "data": {
      "application/vnd.jupyter.widget-view+json": {
       "model_id": "b3aac5a918e0465ab591d9717f35b15a",
       "version_major": 2,
       "version_minor": 0
      },
      "text/plain": [
       "  0%|          | 0/5 [00:00<?, ?it/s]"
      ]
     },
     "metadata": {},
     "output_type": "display_data"
    },
    {
     "data": {
      "application/vnd.jupyter.widget-view+json": {
       "model_id": "76df4ee47eba4512b95456d6392eb91b",
       "version_major": 2,
       "version_minor": 0
      },
      "text/plain": [
       "  0%|          | 0/5 [00:00<?, ?it/s]"
      ]
     },
     "metadata": {},
     "output_type": "display_data"
    },
    {
     "name": "stdout",
     "output_type": "stream",
     "text": [
      "subject:  Eurostat\n",
      "Canada Live is in Canada\n",
      "Imperia is in Italy\n",
      "Harnaut is in India\n",
      "{} is in\n",
      "tensor(12.8047, device='cuda:0', dtype=torch.float16) tensor(276.5000, device='cuda:0', dtype=torch.float16)\n",
      "\n",
      "subject:  Haut Atlas\n",
      "Harnaut is in India\n",
      "Canada Live is in Canada\n",
      "Eurostat is in Luxembourg\n",
      "{} is in\n",
      "tensor(17.2500, device='cuda:0', dtype=torch.float16) tensor(314.7500, device='cuda:0', dtype=torch.float16)\n",
      "\n",
      "subject:  Harnaut\n",
      "Canada Live is in Canada\n",
      "Imperia is in Italy\n",
      "Haut Atlas is in Morocco\n",
      "{} is in\n",
      "tensor(24.4844, device='cuda:0', dtype=torch.float16) tensor(303.5000, device='cuda:0', dtype=torch.float16)\n",
      "\n",
      "subject:  Canada Live\n",
      "Eurostat is in Luxembourg\n",
      "Imperia is in Italy\n",
      "Haut Atlas is in Morocco\n",
      "{} is in\n",
      "tensor(22.0312, device='cuda:0', dtype=torch.float16) tensor(352.5000, device='cuda:0', dtype=torch.float16)\n",
      "\n",
      "subject:  Imperia\n",
      "Canada Live is in Canada\n",
      "Eurostat is in Luxembourg\n",
      "Harnaut is in India\n",
      "{} is in\n",
      "tensor(7.1211, device='cuda:0', dtype=torch.float16) tensor(310.7500, device='cuda:0', dtype=torch.float16)\n",
      "\n"
     ]
    },
    {
     "data": {
      "application/vnd.jupyter.widget-view+json": {
       "model_id": "592f206fdd264d059a6335333ddce0a0",
       "version_major": 2,
       "version_minor": 0
      },
      "text/plain": [
       "  0%|          | 0/5 [00:00<?, ?it/s]"
      ]
     },
     "metadata": {},
     "output_type": "display_data"
    },
    {
     "name": "stdout",
     "output_type": "stream",
     "text": [
      "subject:  Canada Live\n",
      "Harnaut is in India\n",
      "Ufa is in Russia\n",
      "Umarex is in Germany\n",
      "{} is in\n",
      "tensor(17.7812, device='cuda:0', dtype=torch.float16) tensor(391.5000, device='cuda:0', dtype=torch.float16)\n",
      "\n",
      "subject:  Haut Atlas\n",
      "Umarex is in Germany\n",
      "Canada Live is in Canada\n",
      "Ufa is in Russia\n",
      "{} is in\n",
      "tensor(13.0703, device='cuda:0', dtype=torch.float16) tensor(382.7500, device='cuda:0', dtype=torch.float16)\n",
      "\n",
      "subject:  Umarex\n",
      "Canada Live is in Canada\n",
      "Ufa is in Russia\n",
      "Haut Atlas is in Morocco\n",
      "{} is in\n",
      "tensor(32.2812, device='cuda:0', dtype=torch.float16) tensor(305.2500, device='cuda:0', dtype=torch.float16)\n",
      "\n",
      "subject:  Harnaut\n",
      "Ufa is in Russia\n",
      "Haut Atlas is in Morocco\n",
      "Umarex is in Germany\n",
      "{} is in\n",
      "tensor(13.8047, device='cuda:0', dtype=torch.float16) tensor(335.5000, device='cuda:0', dtype=torch.float16)\n",
      "\n",
      "subject:  Ufa\n",
      "Canada Live is in Canada\n",
      "Haut Atlas is in Morocco\n",
      "Umarex is in Germany\n",
      "{} is in\n",
      "tensor(2.7969, device='cuda:0', dtype=torch.float16) tensor(315.5000, device='cuda:0', dtype=torch.float16)\n",
      "\n"
     ]
    },
    {
     "data": {
      "application/vnd.jupyter.widget-view+json": {
       "model_id": "20e4542d772c43aba75517237d6a849f",
       "version_major": 2,
       "version_minor": 0
      },
      "text/plain": [
       "  0%|          | 0/5 [00:00<?, ?it/s]"
      ]
     },
     "metadata": {},
     "output_type": "display_data"
    },
    {
     "name": "stdout",
     "output_type": "stream",
     "text": [
      "subject:  Marugame\n",
      "Ufa is in Russia\n",
      "Canada Live is in Canada\n",
      "Harnaut is in India\n",
      "{} is in\n",
      "tensor(45.9062, device='cuda:0', dtype=torch.float16) tensor(257.7500, device='cuda:0', dtype=torch.float16)\n",
      "\n",
      "subject:  Ufa\n",
      "Umarex is in Germany\n",
      "Harnaut is in India\n",
      "Marugame is in Japan\n",
      "{} is in\n",
      "tensor(5.2305, device='cuda:0', dtype=torch.float16) tensor(286.7500, device='cuda:0', dtype=torch.float16)\n",
      "\n",
      "subject:  Canada Live\n",
      "Harnaut is in India\n",
      "Umarex is in Germany\n",
      "Marugame is in Japan\n",
      "{} is in\n",
      "tensor(19.5000, device='cuda:0', dtype=torch.float16) tensor(386.2500, device='cuda:0', dtype=torch.float16)\n",
      "\n",
      "subject:  Umarex\n",
      "Canada Live is in Canada\n",
      "Marugame is in Japan\n",
      "Harnaut is in India\n",
      "{} is in\n",
      "tensor(26.1719, device='cuda:0', dtype=torch.float16) tensor(354.7500, device='cuda:0', dtype=torch.float16)\n",
      "\n",
      "subject:  Harnaut\n",
      "Ufa is in Russia\n",
      "Marugame is in Japan\n",
      "Umarex is in Germany\n",
      "{} is in\n",
      "tensor(15.3438, device='cuda:0', dtype=torch.float16) tensor(313.5000, device='cuda:0', dtype=torch.float16)\n",
      "\n"
     ]
    },
    {
     "data": {
      "application/vnd.jupyter.widget-view+json": {
       "model_id": "2ad87a92bb924cb99a5cabec8dbb9f75",
       "version_major": 2,
       "version_minor": 0
      },
      "text/plain": [
       "  0%|          | 0/5 [00:00<?, ?it/s]"
      ]
     },
     "metadata": {},
     "output_type": "display_data"
    },
    {
     "name": "stdout",
     "output_type": "stream",
     "text": [
      "subject:  Imperia\n",
      "Ufa is in Russia\n",
      "Eurostat is in Luxembourg\n",
      "Harnaut is in India\n",
      "{} is in\n",
      "tensor(8.8438, device='cuda:0', dtype=torch.float16) tensor(276., device='cuda:0', dtype=torch.float16)\n",
      "\n",
      "subject:  Harnaut\n",
      "Imperia is in Italy\n",
      "Ufa is in Russia\n",
      "Canada Live is in Canada\n",
      "{} is in\n",
      "tensor(23.1094, device='cuda:0', dtype=torch.float16) tensor(334.7500, device='cuda:0', dtype=torch.float16)\n",
      "\n",
      "subject:  Canada Live\n",
      "Harnaut is in India\n",
      "Eurostat is in Luxembourg\n",
      "Ufa is in Russia\n",
      "{} is in\n",
      "tensor(19.7500, device='cuda:0', dtype=torch.float16) tensor(354.2500, device='cuda:0', dtype=torch.float16)\n",
      "\n",
      "subject:  Eurostat\n",
      "Harnaut is in India\n",
      "Canada Live is in Canada\n",
      "Ufa is in Russia\n",
      "{} is in\n",
      "tensor(12.1406, device='cuda:0', dtype=torch.float16) tensor(263.7500, device='cuda:0', dtype=torch.float16)\n",
      "\n",
      "subject:  Ufa\n",
      "Eurostat is in Luxembourg\n",
      "Canada Live is in Canada\n",
      "Imperia is in Italy\n",
      "{} is in\n",
      "tensor(4.4766, device='cuda:0', dtype=torch.float16) tensor(301.5000, device='cuda:0', dtype=torch.float16)\n",
      "\n"
     ]
    },
    {
     "data": {
      "application/vnd.jupyter.widget-view+json": {
       "model_id": "059992ef0fc543969a70785b7c7425bf",
       "version_major": 2,
       "version_minor": 0
      },
      "text/plain": [
       "  0%|          | 0/5 [00:00<?, ?it/s]"
      ]
     },
     "metadata": {},
     "output_type": "display_data"
    },
    {
     "name": "stdout",
     "output_type": "stream",
     "text": [
      "subject:  Imperia\n",
      "Umarex is in Germany\n",
      "Marugame is in Japan\n",
      "Haut Atlas is in Morocco\n",
      "{} is in\n",
      "tensor(4.9414, device='cuda:0', dtype=torch.float16) tensor(298.2500, device='cuda:0', dtype=torch.float16)\n",
      "\n",
      "subject:  Umarex\n",
      "Canada Live is in Canada\n",
      "Imperia is in Italy\n",
      "Marugame is in Japan\n",
      "{} is in\n",
      "tensor(24.8438, device='cuda:0', dtype=torch.float16) tensor(343.2500, device='cuda:0', dtype=torch.float16)\n",
      "\n",
      "subject:  Marugame\n",
      "Haut Atlas is in Morocco\n",
      "Canada Live is in Canada\n",
      "Imperia is in Italy\n",
      "{} is in\n",
      "tensor(45.1875, device='cuda:0', dtype=torch.float16) tensor(268.7500, device='cuda:0', dtype=torch.float16)\n",
      "\n",
      "subject:  Haut Atlas\n",
      "Canada Live is in Canada\n",
      "Imperia is in Italy\n",
      "Marugame is in Japan\n",
      "{} is in\n",
      "tensor(16.0938, device='cuda:0', dtype=torch.float16) tensor(343.2500, device='cuda:0', dtype=torch.float16)\n",
      "\n",
      "subject:  Canada Live\n",
      "Umarex is in Germany\n",
      "Marugame is in Japan\n",
      "Imperia is in Italy\n",
      "{} is in\n",
      "tensor(20.6250, device='cuda:0', dtype=torch.float16) tensor(364., device='cuda:0', dtype=torch.float16)\n",
      "\n"
     ]
    },
    {
     "data": {
      "application/vnd.jupyter.widget-view+json": {
       "model_id": "9ddbc42384574ee095c65b58cf110260",
       "version_major": 2,
       "version_minor": 0
      },
      "text/plain": [
       "  0%|          | 0/5 [00:00<?, ?it/s]"
      ]
     },
     "metadata": {},
     "output_type": "display_data"
    },
    {
     "data": {
      "application/vnd.jupyter.widget-view+json": {
       "model_id": "510331d8d3aa4f83a864bc8d70b00dfe",
       "version_major": 2,
       "version_minor": 0
      },
      "text/plain": [
       "  0%|          | 0/5 [00:00<?, ?it/s]"
      ]
     },
     "metadata": {},
     "output_type": "display_data"
    },
    {
     "name": "stdout",
     "output_type": "stream",
     "text": [
      "subject:  Eurostat\n",
      "The country where Imperia is located in is Italy\n",
      "The country where Canada Live is located in is Canada\n",
      "The country where Ufa is located in is Russia\n",
      "The country where {} is located in is\n",
      "tensor(18.8594, device='cuda:0', dtype=torch.float16) tensor(275.5000, device='cuda:0', dtype=torch.float16)\n",
      "\n",
      "subject:  Ufa\n",
      "The country where Imperia is located in is Italy\n",
      "The country where Eurostat is located in is Luxembourg\n",
      "The country where Canada Live is located in is Canada\n",
      "The country where {} is located in is\n",
      "tensor(28.0781, device='cuda:0', dtype=torch.float16) tensor(293.7500, device='cuda:0', dtype=torch.float16)\n",
      "\n",
      "subject:  Umarex\n",
      "The country where Imperia is located in is Italy\n",
      "The country where Canada Live is located in is Canada\n",
      "The country where Eurostat is located in is Luxembourg\n",
      "The country where {} is located in is\n",
      "tensor(13.5781, device='cuda:0', dtype=torch.float16) tensor(342.5000, device='cuda:0', dtype=torch.float16)\n",
      "\n",
      "subject:  Canada Live\n",
      "The country where Eurostat is located in is Luxembourg\n",
      "The country where Imperia is located in is Italy\n",
      "The country where Umarex is located in is Germany\n",
      "The country where {} is located in is\n",
      "tensor(6.3906, device='cuda:0', dtype=torch.float16) tensor(369.7500, device='cuda:0', dtype=torch.float16)\n",
      "\n",
      "subject:  Imperia\n",
      "The country where Canada Live is located in is Canada\n",
      "The country where Eurostat is located in is Luxembourg\n",
      "The country where Umarex is located in is Germany\n",
      "The country where {} is located in is\n",
      "tensor(14.3672, device='cuda:0', dtype=torch.float16) tensor(348.5000, device='cuda:0', dtype=torch.float16)\n",
      "\n"
     ]
    },
    {
     "data": {
      "application/vnd.jupyter.widget-view+json": {
       "model_id": "017ef318782c46aa831c545555ffd27e",
       "version_major": 2,
       "version_minor": 0
      },
      "text/plain": [
       "  0%|          | 0/5 [00:00<?, ?it/s]"
      ]
     },
     "metadata": {},
     "output_type": "display_data"
    },
    {
     "name": "stdout",
     "output_type": "stream",
     "text": [
      "subject:  Ufa\n",
      "The country where Marugame is located in is Japan\n",
      "The country where Harnaut is located in is India\n",
      "The country where Southern Savonia is located in is Finland\n",
      "The country where {} is located in is\n",
      "tensor(30.5156, device='cuda:0', dtype=torch.float16) tensor(274.2500, device='cuda:0', dtype=torch.float16)\n",
      "\n",
      "subject:  Harnaut\n",
      "The country where Southern Savonia is located in is Finland\n",
      "The country where Sabratha is located in is Libya\n",
      "The country where Marugame is located in is Japan\n",
      "The country where {} is located in is\n",
      "tensor(17.4531, device='cuda:0', dtype=torch.float16) tensor(278.5000, device='cuda:0', dtype=torch.float16)\n",
      "\n",
      "subject:  Southern Savonia\n",
      "The country where Harnaut is located in is India\n",
      "The country where Marugame is located in is Japan\n",
      "The country where Ufa is located in is Russia\n",
      "The country where {} is located in is\n",
      "tensor(27.0781, device='cuda:0', dtype=torch.float16) tensor(263., device='cuda:0', dtype=torch.float16)\n",
      "\n",
      "subject:  Sabratha\n",
      "The country where Southern Savonia is located in is Finland\n",
      "The country where Marugame is located in is Japan\n",
      "The country where Ufa is located in is Russia\n",
      "The country where {} is located in is\n",
      "tensor(35.3438, device='cuda:0', dtype=torch.float16) tensor(251., device='cuda:0', dtype=torch.float16)\n",
      "\n",
      "subject:  Marugame\n",
      "The country where Sabratha is located in is Libya\n",
      "The country where Ufa is located in is Russia\n",
      "The country where Harnaut is located in is India\n",
      "The country where {} is located in is\n",
      "tensor(29.7188, device='cuda:0', dtype=torch.float16) tensor(287.7500, device='cuda:0', dtype=torch.float16)\n",
      "\n"
     ]
    },
    {
     "data": {
      "application/vnd.jupyter.widget-view+json": {
       "model_id": "f1ebce7383324b168a234a419ddaab40",
       "version_major": 2,
       "version_minor": 0
      },
      "text/plain": [
       "  0%|          | 0/5 [00:00<?, ?it/s]"
      ]
     },
     "metadata": {},
     "output_type": "display_data"
    },
    {
     "name": "stdout",
     "output_type": "stream",
     "text": [
      "subject:  Haut Atlas\n",
      "The country where Eurostat is located in is Luxembourg\n",
      "The country where Ufa is located in is Russia\n",
      "The country where Sabratha is located in is Libya\n",
      "The country where {} is located in is\n",
      "tensor(27.2344, device='cuda:0', dtype=torch.float16) tensor(287.2500, device='cuda:0', dtype=torch.float16)\n",
      "\n",
      "subject:  Eurostat\n",
      "The country where Sabratha is located in is Libya\n",
      "The country where Harnaut is located in is India\n",
      "The country where Haut Atlas is located in is Morocco\n",
      "The country where {} is located in is\n",
      "tensor(20.5781, device='cuda:0', dtype=torch.float16) tensor(257., device='cuda:0', dtype=torch.float16)\n",
      "\n",
      "subject:  Sabratha\n",
      "The country where Ufa is located in is Russia\n",
      "The country where Harnaut is located in is India\n",
      "The country where Haut Atlas is located in is Morocco\n",
      "The country where {} is located in is\n",
      "tensor(32.9375, device='cuda:0', dtype=torch.float16) tensor(277.7500, device='cuda:0', dtype=torch.float16)\n",
      "\n",
      "subject:  Harnaut\n",
      "The country where Haut Atlas is located in is Morocco\n",
      "The country where Eurostat is located in is Luxembourg\n",
      "The country where Ufa is located in is Russia\n",
      "The country where {} is located in is\n",
      "tensor(14.0703, device='cuda:0', dtype=torch.float16) tensor(340.5000, device='cuda:0', dtype=torch.float16)\n",
      "\n",
      "subject:  Ufa\n",
      "The country where Sabratha is located in is Libya\n",
      "The country where Eurostat is located in is Luxembourg\n",
      "The country where Harnaut is located in is India\n",
      "The country where {} is located in is\n",
      "tensor(33.5312, device='cuda:0', dtype=torch.float16) tensor(255.2500, device='cuda:0', dtype=torch.float16)\n",
      "\n"
     ]
    },
    {
     "data": {
      "application/vnd.jupyter.widget-view+json": {
       "model_id": "340649962ab1437c8a7af2d0fc3e7ed7",
       "version_major": 2,
       "version_minor": 0
      },
      "text/plain": [
       "  0%|          | 0/5 [00:00<?, ?it/s]"
      ]
     },
     "metadata": {},
     "output_type": "display_data"
    },
    {
     "name": "stdout",
     "output_type": "stream",
     "text": [
      "subject:  Imperia\n",
      "The country where Sabratha is located in is Libya\n",
      "The country where Umarex is located in is Germany\n",
      "The country where Haut Atlas is located in is Morocco\n",
      "The country where {} is located in is\n",
      "tensor(13.6094, device='cuda:0', dtype=torch.float16) tensor(348.2500, device='cuda:0', dtype=torch.float16)\n",
      "\n",
      "subject:  Haut Atlas\n",
      "The country where Imperia is located in is Italy\n",
      "The country where Sabratha is located in is Libya\n",
      "The country where Umarex is located in is Germany\n",
      "The country where {} is located in is\n",
      "tensor(20.3438, device='cuda:0', dtype=torch.float16) tensor(333.7500, device='cuda:0', dtype=torch.float16)\n",
      "\n",
      "subject:  Sabratha\n",
      "The country where Umarex is located in is Germany\n",
      "The country where Haut Atlas is located in is Morocco\n",
      "The country where Ufa is located in is Russia\n",
      "The country where {} is located in is\n",
      "tensor(31.8750, device='cuda:0', dtype=torch.float16) tensor(275., device='cuda:0', dtype=torch.float16)\n",
      "\n",
      "subject:  Umarex\n",
      "The country where Haut Atlas is located in is Morocco\n",
      "The country where Imperia is located in is Italy\n",
      "The country where Sabratha is located in is Libya\n",
      "The country where {} is located in is\n",
      "tensor(12.6016, device='cuda:0', dtype=torch.float16) tensor(330.7500, device='cuda:0', dtype=torch.float16)\n",
      "\n",
      "subject:  Ufa\n",
      "The country where Haut Atlas is located in is Morocco\n",
      "The country where Umarex is located in is Germany\n",
      "The country where Sabratha is located in is Libya\n",
      "The country where {} is located in is\n",
      "tensor(34.5312, device='cuda:0', dtype=torch.float16) tensor(253.6250, device='cuda:0', dtype=torch.float16)\n",
      "\n"
     ]
    },
    {
     "data": {
      "application/vnd.jupyter.widget-view+json": {
       "model_id": "e7211bb8147b4ec3b2989cde14558766",
       "version_major": 2,
       "version_minor": 0
      },
      "text/plain": [
       "  0%|          | 0/5 [00:00<?, ?it/s]"
      ]
     },
     "metadata": {},
     "output_type": "display_data"
    },
    {
     "name": "stdout",
     "output_type": "stream",
     "text": [
      "subject:  Canada Live\n",
      "The country where Imperia is located in is Italy\n",
      "The country where Harnaut is located in is India\n",
      "The country where Haut Atlas is located in is Morocco\n",
      "The country where {} is located in is\n",
      "tensor(5.4180, device='cuda:0', dtype=torch.float16) tensor(335.5000, device='cuda:0', dtype=torch.float16)\n",
      "\n",
      "subject:  Eurostat\n",
      "The country where Harnaut is located in is India\n",
      "The country where Haut Atlas is located in is Morocco\n",
      "The country where Canada Live is located in is Canada\n",
      "The country where {} is located in is\n",
      "tensor(17.1094, device='cuda:0', dtype=torch.float16) tensor(281., device='cuda:0', dtype=torch.float16)\n",
      "\n",
      "subject:  Harnaut\n",
      "The country where Haut Atlas is located in is Morocco\n",
      "The country where Canada Live is located in is Canada\n",
      "The country where Eurostat is located in is Luxembourg\n",
      "The country where {} is located in is\n",
      "tensor(18.5781, device='cuda:0', dtype=torch.float16) tensor(342., device='cuda:0', dtype=torch.float16)\n",
      "\n",
      "subject:  Haut Atlas\n",
      "The country where Imperia is located in is Italy\n",
      "The country where Harnaut is located in is India\n",
      "The country where Eurostat is located in is Luxembourg\n",
      "The country where {} is located in is\n",
      "tensor(20.2500, device='cuda:0', dtype=torch.float16) tensor(344.7500, device='cuda:0', dtype=torch.float16)\n",
      "\n",
      "subject:  Imperia\n",
      "The country where Eurostat is located in is Luxembourg\n",
      "The country where Harnaut is located in is India\n",
      "The country where Canada Live is located in is Canada\n",
      "The country where {} is located in is\n",
      "tensor(15.5156, device='cuda:0', dtype=torch.float16) tensor(352.2500, device='cuda:0', dtype=torch.float16)\n",
      "\n"
     ]
    },
    {
     "data": {
      "application/vnd.jupyter.widget-view+json": {
       "model_id": "31ab6d4b55c04783b65cbcad11bfd8ba",
       "version_major": 2,
       "version_minor": 0
      },
      "text/plain": [
       "  0%|          | 0/5 [00:00<?, ?it/s]"
      ]
     },
     "metadata": {},
     "output_type": "display_data"
    },
    {
     "data": {
      "application/vnd.jupyter.widget-view+json": {
       "model_id": "a7679a40b6a246b0b1993e159a3d9349",
       "version_major": 2,
       "version_minor": 0
      },
      "text/plain": [
       "  0%|          | 0/5 [00:00<?, ?it/s]"
      ]
     },
     "metadata": {},
     "output_type": "display_data"
    },
    {
     "name": "stdout",
     "output_type": "stream",
     "text": [
      "subject:  Sabratha\n",
      "Haut Atlas can be found in Morocco\n",
      "Canada Live can be found in Canada\n",
      "Marugame can be found in Japan\n",
      "{} can be found in\n",
      "tensor(16.7656, device='cuda:0', dtype=torch.float16) tensor(274.7500, device='cuda:0', dtype=torch.float16)\n",
      "\n",
      "subject:  Haut Atlas\n",
      "Umarex can be found in Germany\n",
      "Sabratha can be found in Libya\n",
      "Canada Live can be found in Canada\n",
      "{} can be found in\n",
      "tensor(9.0781, device='cuda:0', dtype=torch.float16) tensor(335., device='cuda:0', dtype=torch.float16)\n",
      "\n",
      "subject:  Canada Live\n",
      "Sabratha can be found in Libya\n",
      "Umarex can be found in Germany\n",
      "Marugame can be found in Japan\n",
      "{} can be found in\n",
      "tensor(20.2500, device='cuda:0', dtype=torch.float16) tensor(377.5000, device='cuda:0', dtype=torch.float16)\n",
      "\n",
      "subject:  Marugame\n",
      "Haut Atlas can be found in Morocco\n",
      "Umarex can be found in Germany\n",
      "Canada Live can be found in Canada\n",
      "{} can be found in\n",
      "tensor(26.4531, device='cuda:0', dtype=torch.float16) tensor(296., device='cuda:0', dtype=torch.float16)\n",
      "\n",
      "subject:  Umarex\n",
      "Marugame can be found in Japan\n",
      "Sabratha can be found in Libya\n",
      "Canada Live can be found in Canada\n",
      "{} can be found in\n",
      "tensor(19.7969, device='cuda:0', dtype=torch.float16) tensor(350.2500, device='cuda:0', dtype=torch.float16)\n",
      "\n"
     ]
    },
    {
     "data": {
      "application/vnd.jupyter.widget-view+json": {
       "model_id": "a0a34205b60c429fa823a2717c0f70f4",
       "version_major": 2,
       "version_minor": 0
      },
      "text/plain": [
       "  0%|          | 0/5 [00:00<?, ?it/s]"
      ]
     },
     "metadata": {},
     "output_type": "display_data"
    },
    {
     "name": "stdout",
     "output_type": "stream",
     "text": [
      "subject:  Southern Savonia\n",
      "Sabratha can be found in Libya\n",
      "Imperia can be found in Italy\n",
      "Eurostat can be found in Luxembourg\n",
      "{} can be found in\n",
      "tensor(15.8906, device='cuda:0', dtype=torch.float16) tensor(248., device='cuda:0', dtype=torch.float16)\n",
      "\n",
      "subject:  Imperia\n",
      "Canada Live can be found in Canada\n",
      "Eurostat can be found in Luxembourg\n",
      "Southern Savonia can be found in Finland\n",
      "{} can be found in\n",
      "tensor(5.2734, device='cuda:0', dtype=torch.float16) tensor(283.2500, device='cuda:0', dtype=torch.float16)\n",
      "\n",
      "subject:  Sabratha\n",
      "Southern Savonia can be found in Finland\n",
      "Canada Live can be found in Canada\n",
      "Eurostat can be found in Luxembourg\n",
      "{} can be found in\n",
      "tensor(16.1875, device='cuda:0', dtype=torch.float16) tensor(292., device='cuda:0', dtype=torch.float16)\n",
      "\n",
      "subject:  Canada Live\n",
      "Southern Savonia can be found in Finland\n",
      "Sabratha can be found in Libya\n",
      "Eurostat can be found in Luxembourg\n",
      "{} can be found in\n",
      "tensor(20.0625, device='cuda:0', dtype=torch.float16) tensor(343.5000, device='cuda:0', dtype=torch.float16)\n",
      "\n",
      "subject:  Eurostat\n",
      "Canada Live can be found in Canada\n",
      "Southern Savonia can be found in Finland\n",
      "Sabratha can be found in Libya\n",
      "{} can be found in\n",
      "tensor(10., device='cuda:0', dtype=torch.float16) tensor(236.5000, device='cuda:0', dtype=torch.float16)\n",
      "\n"
     ]
    },
    {
     "data": {
      "application/vnd.jupyter.widget-view+json": {
       "model_id": "08254e70a964460cb6592e7ed3cb78c5",
       "version_major": 2,
       "version_minor": 0
      },
      "text/plain": [
       "  0%|          | 0/5 [00:00<?, ?it/s]"
      ]
     },
     "metadata": {},
     "output_type": "display_data"
    },
    {
     "name": "stdout",
     "output_type": "stream",
     "text": [
      "subject:  Marugame\n",
      "Haut Atlas can be found in Morocco\n",
      "Harnaut can be found in India\n",
      "Canada Live can be found in Canada\n",
      "{} can be found in\n",
      "tensor(32.0938, device='cuda:0', dtype=torch.float16) tensor(277., device='cuda:0', dtype=torch.float16)\n",
      "\n",
      "subject:  Haut Atlas\n",
      "Harnaut can be found in India\n",
      "Eurostat can be found in Luxembourg\n",
      "Marugame can be found in Japan\n",
      "{} can be found in\n",
      "tensor(11.0625, device='cuda:0', dtype=torch.float16) tensor(292.5000, device='cuda:0', dtype=torch.float16)\n",
      "\n",
      "subject:  Eurostat\n",
      "Harnaut can be found in India\n",
      "Marugame can be found in Japan\n",
      "Canada Live can be found in Canada\n",
      "{} can be found in\n",
      "tensor(12.1328, device='cuda:0', dtype=torch.float16) tensor(318.5000, device='cuda:0', dtype=torch.float16)\n",
      "\n",
      "subject:  Canada Live\n",
      "Haut Atlas can be found in Morocco\n",
      "Harnaut can be found in India\n",
      "Eurostat can be found in Luxembourg\n",
      "{} can be found in\n",
      "tensor(20.5938, device='cuda:0', dtype=torch.float16) tensor(369.5000, device='cuda:0', dtype=torch.float16)\n",
      "\n",
      "subject:  Harnaut\n",
      "Marugame can be found in Japan\n",
      "Canada Live can be found in Canada\n",
      "Haut Atlas can be found in Morocco\n",
      "{} can be found in\n",
      "tensor(18.6562, device='cuda:0', dtype=torch.float16) tensor(319.7500, device='cuda:0', dtype=torch.float16)\n",
      "\n"
     ]
    },
    {
     "data": {
      "application/vnd.jupyter.widget-view+json": {
       "model_id": "4f2f24004ae84d72a93ed75c2422750e",
       "version_major": 2,
       "version_minor": 0
      },
      "text/plain": [
       "  0%|          | 0/5 [00:00<?, ?it/s]"
      ]
     },
     "metadata": {},
     "output_type": "display_data"
    },
    {
     "name": "stdout",
     "output_type": "stream",
     "text": [
      "subject:  Harnaut\n",
      "Eurostat can be found in Luxembourg\n",
      "Umarex can be found in Germany\n",
      "Haut Atlas can be found in Morocco\n",
      "{} can be found in\n",
      "tensor(14.8906, device='cuda:0', dtype=torch.float16) tensor(334.7500, device='cuda:0', dtype=torch.float16)\n",
      "\n",
      "subject:  Sabratha\n",
      "Harnaut can be found in India\n",
      "Haut Atlas can be found in Morocco\n",
      "Umarex can be found in Germany\n",
      "{} can be found in\n",
      "tensor(10.7656, device='cuda:0', dtype=torch.float16) tensor(293., device='cuda:0', dtype=torch.float16)\n",
      "\n",
      "subject:  Haut Atlas\n",
      "Umarex can be found in Germany\n",
      "Harnaut can be found in India\n",
      "Sabratha can be found in Libya\n",
      "{} can be found in\n",
      "tensor(7.5352, device='cuda:0', dtype=torch.float16) tensor(309.2500, device='cuda:0', dtype=torch.float16)\n",
      "\n",
      "subject:  Umarex\n",
      "Sabratha can be found in Libya\n",
      "Haut Atlas can be found in Morocco\n",
      "Harnaut can be found in India\n",
      "{} can be found in\n",
      "tensor(20.3906, device='cuda:0', dtype=torch.float16) tensor(328.2500, device='cuda:0', dtype=torch.float16)\n",
      "\n",
      "subject:  Eurostat\n",
      "Haut Atlas can be found in Morocco\n",
      "Harnaut can be found in India\n",
      "Umarex can be found in Germany\n",
      "{} can be found in\n",
      "tensor(4.7930, device='cuda:0', dtype=torch.float16) tensor(264.2500, device='cuda:0', dtype=torch.float16)\n",
      "\n"
     ]
    },
    {
     "data": {
      "application/vnd.jupyter.widget-view+json": {
       "model_id": "47931070a9e748a4adbb867d2c1d8ece",
       "version_major": 2,
       "version_minor": 0
      },
      "text/plain": [
       "  0%|          | 0/5 [00:00<?, ?it/s]"
      ]
     },
     "metadata": {},
     "output_type": "display_data"
    },
    {
     "name": "stdout",
     "output_type": "stream",
     "text": [
      "subject:  Marugame\n",
      "Haut Atlas can be found in Morocco\n",
      "Harnaut can be found in India\n",
      "Eurostat can be found in Luxembourg\n",
      "{} can be found in\n",
      "tensor(30.4375, device='cuda:0', dtype=torch.float16) tensor(255.3750, device='cuda:0', dtype=torch.float16)\n",
      "\n",
      "subject:  Eurostat\n",
      "Marugame can be found in Japan\n",
      "Harnaut can be found in India\n",
      "Haut Atlas can be found in Morocco\n",
      "{} can be found in\n",
      "tensor(9.6328, device='cuda:0', dtype=torch.float16) tensor(261., device='cuda:0', dtype=torch.float16)\n",
      "\n",
      "subject:  Harnaut\n",
      "Sabratha can be found in Libya\n",
      "Eurostat can be found in Luxembourg\n",
      "Marugame can be found in Japan\n",
      "{} can be found in\n",
      "tensor(31.0156, device='cuda:0', dtype=torch.float16) tensor(230.3750, device='cuda:0', dtype=torch.float16)\n",
      "\n",
      "subject:  Sabratha\n",
      "Marugame can be found in Japan\n",
      "Haut Atlas can be found in Morocco\n",
      "Eurostat can be found in Luxembourg\n",
      "{} can be found in\n",
      "tensor(15.9453, device='cuda:0', dtype=torch.float16) tensor(267.7500, device='cuda:0', dtype=torch.float16)\n",
      "\n",
      "subject:  Haut Atlas\n",
      "Harnaut can be found in India\n",
      "Sabratha can be found in Libya\n",
      "Eurostat can be found in Luxembourg\n",
      "{} can be found in\n",
      "tensor(9.6328, device='cuda:0', dtype=torch.float16) tensor(300.2500, device='cuda:0', dtype=torch.float16)\n",
      "\n"
     ]
    },
    {
     "data": {
      "application/vnd.jupyter.widget-view+json": {
       "model_id": "c287bfd358ef49379ebd89c348293dc8",
       "version_major": 2,
       "version_minor": 0
      },
      "text/plain": [
       "  0%|          | 0/5 [00:00<?, ?it/s]"
      ]
     },
     "metadata": {},
     "output_type": "display_data"
    },
    {
     "data": {
      "application/vnd.jupyter.widget-view+json": {
       "model_id": "35bd6e7adb274edc8c558adc010f83de",
       "version_major": 2,
       "version_minor": 0
      },
      "text/plain": [
       "  0%|          | 0/5 [00:00<?, ?it/s]"
      ]
     },
     "metadata": {},
     "output_type": "display_data"
    },
    {
     "name": "stdout",
     "output_type": "stream",
     "text": [
      "subject:  Sabratha\n",
      "Marugame is located within the confines of Japan\n",
      "Harnaut is located within the confines of India\n",
      "Southern Savonia is located within the confines of Finland\n",
      "{} is located within the confines of\n",
      "tensor(20.2031, device='cuda:0', dtype=torch.float16) tensor(272., device='cuda:0', dtype=torch.float16)\n",
      "\n",
      "subject:  Imperia\n",
      "Sabratha is located within the confines of Libya\n",
      "Southern Savonia is located within the confines of Finland\n",
      "Marugame is located within the confines of Japan\n",
      "{} is located within the confines of\n",
      "tensor(7.4414, device='cuda:0', dtype=torch.float16) tensor(265.7500, device='cuda:0', dtype=torch.float16)\n",
      "\n",
      "subject:  Southern Savonia\n",
      "Sabratha is located within the confines of Libya\n",
      "Marugame is located within the confines of Japan\n",
      "Harnaut is located within the confines of India\n",
      "{} is located within the confines of\n",
      "tensor(16.0469, device='cuda:0', dtype=torch.float16) tensor(271.2500, device='cuda:0', dtype=torch.float16)\n",
      "\n",
      "subject:  Marugame\n",
      "Sabratha is located within the confines of Libya\n",
      "Harnaut is located within the confines of India\n",
      "Southern Savonia is located within the confines of Finland\n",
      "{} is located within the confines of\n",
      "tensor(40.4062, device='cuda:0', dtype=torch.float16) tensor(237.1250, device='cuda:0', dtype=torch.float16)\n",
      "\n",
      "subject:  Harnaut\n",
      "Marugame is located within the confines of Japan\n",
      "Southern Savonia is located within the confines of Finland\n",
      "Imperia is located within the confines of Italy\n",
      "{} is located within the confines of\n",
      "tensor(21.6719, device='cuda:0', dtype=torch.float16) tensor(274., device='cuda:0', dtype=torch.float16)\n",
      "\n"
     ]
    },
    {
     "data": {
      "application/vnd.jupyter.widget-view+json": {
       "model_id": "cc3345b783554089be5d17dec6c27fc9",
       "version_major": 2,
       "version_minor": 0
      },
      "text/plain": [
       "  0%|          | 0/5 [00:00<?, ?it/s]"
      ]
     },
     "metadata": {},
     "output_type": "display_data"
    },
    {
     "name": "stdout",
     "output_type": "stream",
     "text": [
      "subject:  Eurostat\n",
      "Southern Savonia is located within the confines of Finland\n",
      "Marugame is located within the confines of Japan\n",
      "Haut Atlas is located within the confines of Morocco\n",
      "{} is located within the confines of\n",
      "tensor(11.4844, device='cuda:0', dtype=torch.float16) tensor(262.7500, device='cuda:0', dtype=torch.float16)\n",
      "\n",
      "subject:  Southern Savonia\n",
      "Eurostat is located within the confines of Luxembourg\n",
      "Canada Live is located within the confines of Canada\n",
      "Marugame is located within the confines of Japan\n",
      "{} is located within the confines of\n",
      "tensor(11.6328, device='cuda:0', dtype=torch.float16) tensor(278.7500, device='cuda:0', dtype=torch.float16)\n",
      "\n",
      "subject:  Marugame\n",
      "Eurostat is located within the confines of Luxembourg\n",
      "Southern Savonia is located within the confines of Finland\n",
      "Canada Live is located within the confines of Canada\n",
      "{} is located within the confines of\n",
      "tensor(41.2812, device='cuda:0', dtype=torch.float16) tensor(244.1250, device='cuda:0', dtype=torch.float16)\n",
      "\n",
      "subject:  Canada Live\n",
      "Southern Savonia is located within the confines of Finland\n",
      "Marugame is located within the confines of Japan\n",
      "Haut Atlas is located within the confines of Morocco\n",
      "{} is located within the confines of\n",
      "tensor(20.4375, device='cuda:0', dtype=torch.float16) tensor(320.7500, device='cuda:0', dtype=torch.float16)\n",
      "\n",
      "subject:  Haut Atlas\n",
      "Southern Savonia is located within the confines of Finland\n",
      "Eurostat is located within the confines of Luxembourg\n",
      "Canada Live is located within the confines of Canada\n",
      "{} is located within the confines of\n",
      "tensor(15.9531, device='cuda:0', dtype=torch.float16) tensor(286., device='cuda:0', dtype=torch.float16)\n",
      "\n"
     ]
    },
    {
     "data": {
      "application/vnd.jupyter.widget-view+json": {
       "model_id": "8e5b7f1048d74d5d90c7f075c199f19a",
       "version_major": 2,
       "version_minor": 0
      },
      "text/plain": [
       "  0%|          | 0/5 [00:00<?, ?it/s]"
      ]
     },
     "metadata": {},
     "output_type": "display_data"
    },
    {
     "name": "stdout",
     "output_type": "stream",
     "text": [
      "subject:  Canada Live\n",
      "Imperia is located within the confines of Italy\n",
      "Umarex is located within the confines of Germany\n",
      "Sabratha is located within the confines of Libya\n",
      "{} is located within the confines of\n",
      "tensor(19.2656, device='cuda:0', dtype=torch.float16) tensor(333., device='cuda:0', dtype=torch.float16)\n",
      "\n",
      "subject:  Imperia\n",
      "Sabratha is located within the confines of Libya\n",
      "Marugame is located within the confines of Japan\n",
      "Canada Live is located within the confines of Canada\n",
      "{} is located within the confines of\n",
      "tensor(3.9570, device='cuda:0', dtype=torch.float16) tensor(271.7500, device='cuda:0', dtype=torch.float16)\n",
      "\n",
      "subject:  Umarex\n",
      "Imperia is located within the confines of Italy\n",
      "Marugame is located within the confines of Japan\n",
      "Sabratha is located within the confines of Libya\n",
      "{} is located within the confines of\n",
      "tensor(19.2188, device='cuda:0', dtype=torch.float16) tensor(307.5000, device='cuda:0', dtype=torch.float16)\n",
      "\n",
      "subject:  Marugame\n",
      "Sabratha is located within the confines of Libya\n",
      "Canada Live is located within the confines of Canada\n",
      "Umarex is located within the confines of Germany\n",
      "{} is located within the confines of\n",
      "tensor(38.4062, device='cuda:0', dtype=torch.float16) tensor(257.5000, device='cuda:0', dtype=torch.float16)\n",
      "\n",
      "subject:  Sabratha\n",
      "Imperia is located within the confines of Italy\n",
      "Umarex is located within the confines of Germany\n",
      "Marugame is located within the confines of Japan\n",
      "{} is located within the confines of\n",
      "tensor(17.2500, device='cuda:0', dtype=torch.float16) tensor(271.2500, device='cuda:0', dtype=torch.float16)\n",
      "\n"
     ]
    },
    {
     "data": {
      "application/vnd.jupyter.widget-view+json": {
       "model_id": "3211df0facc64b4ea0d292d3460051c6",
       "version_major": 2,
       "version_minor": 0
      },
      "text/plain": [
       "  0%|          | 0/5 [00:00<?, ?it/s]"
      ]
     },
     "metadata": {},
     "output_type": "display_data"
    },
    {
     "name": "stdout",
     "output_type": "stream",
     "text": [
      "subject:  Southern Savonia\n",
      "Imperia is located within the confines of Italy\n",
      "Haut Atlas is located within the confines of Morocco\n",
      "Sabratha is located within the confines of Libya\n",
      "{} is located within the confines of\n",
      "tensor(13.8984, device='cuda:0', dtype=torch.float16) tensor(263.5000, device='cuda:0', dtype=torch.float16)\n",
      "\n",
      "subject:  Umarex\n",
      "Imperia is located within the confines of Italy\n",
      "Sabratha is located within the confines of Libya\n",
      "Southern Savonia is located within the confines of Finland\n",
      "{} is located within the confines of\n",
      "tensor(18.2969, device='cuda:0', dtype=torch.float16) tensor(341., device='cuda:0', dtype=torch.float16)\n",
      "\n",
      "subject:  Sabratha\n",
      "Umarex is located within the confines of Germany\n",
      "Imperia is located within the confines of Italy\n",
      "Haut Atlas is located within the confines of Morocco\n",
      "{} is located within the confines of\n",
      "tensor(18.3906, device='cuda:0', dtype=torch.float16) tensor(257.2500, device='cuda:0', dtype=torch.float16)\n",
      "\n",
      "subject:  Haut Atlas\n",
      "Southern Savonia is located within the confines of Finland\n",
      "Imperia is located within the confines of Italy\n",
      "Sabratha is located within the confines of Libya\n",
      "{} is located within the confines of\n",
      "tensor(8.3828, device='cuda:0', dtype=torch.float16) tensor(261.5000, device='cuda:0', dtype=torch.float16)\n",
      "\n",
      "subject:  Imperia\n",
      "Southern Savonia is located within the confines of Finland\n",
      "Umarex is located within the confines of Germany\n",
      "Sabratha is located within the confines of Libya\n",
      "{} is located within the confines of\n",
      "tensor(4.4102, device='cuda:0', dtype=torch.float16) tensor(252.3750, device='cuda:0', dtype=torch.float16)\n",
      "\n"
     ]
    },
    {
     "data": {
      "application/vnd.jupyter.widget-view+json": {
       "model_id": "1b213ee74bfe43dcbb5dd90009d98147",
       "version_major": 2,
       "version_minor": 0
      },
      "text/plain": [
       "  0%|          | 0/5 [00:00<?, ?it/s]"
      ]
     },
     "metadata": {},
     "output_type": "display_data"
    },
    {
     "name": "stdout",
     "output_type": "stream",
     "text": [
      "subject:  Harnaut\n",
      "Marugame is located within the confines of Japan\n",
      "Ufa is located within the confines of Russia\n",
      "Eurostat is located within the confines of Luxembourg\n",
      "{} is located within the confines of\n",
      "tensor(25.7031, device='cuda:0', dtype=torch.float16) tensor(250.3750, device='cuda:0', dtype=torch.float16)\n",
      "\n",
      "subject:  Marugame\n",
      "Ufa is located within the confines of Russia\n",
      "Harnaut is located within the confines of India\n",
      "Sabratha is located within the confines of Libya\n",
      "{} is located within the confines of\n",
      "tensor(41.7188, device='cuda:0', dtype=torch.float16) tensor(223., device='cuda:0', dtype=torch.float16)\n",
      "\n",
      "subject:  Ufa\n",
      "Eurostat is located within the confines of Luxembourg\n",
      "Harnaut is located within the confines of India\n",
      "Sabratha is located within the confines of Libya\n",
      "{} is located within the confines of\n",
      "tensor(4.5586, device='cuda:0', dtype=torch.float16) tensor(277.5000, device='cuda:0', dtype=torch.float16)\n",
      "\n",
      "subject:  Eurostat\n",
      "Ufa is located within the confines of Russia\n",
      "Harnaut is located within the confines of India\n",
      "Sabratha is located within the confines of Libya\n",
      "{} is located within the confines of\n",
      "tensor(13.0156, device='cuda:0', dtype=torch.float16) tensor(274.5000, device='cuda:0', dtype=torch.float16)\n",
      "\n",
      "subject:  Sabratha\n",
      "Eurostat is located within the confines of Luxembourg\n",
      "Marugame is located within the confines of Japan\n",
      "Harnaut is located within the confines of India\n",
      "{} is located within the confines of\n",
      "tensor(22.6250, device='cuda:0', dtype=torch.float16) tensor(271.5000, device='cuda:0', dtype=torch.float16)\n",
      "\n"
     ]
    }
   ],
   "source": [
    "sample = [(b['subject'], b['sub_idx'], b['object']) for b in best_performing]\n",
    "\n",
    "cache = []\n",
    "\n",
    "for cur_prompt in prompts:\n",
    "    weights_and_biases = get_multiple_averaged_JB(\n",
    "        sample, \n",
    "        relation_prompt= cur_prompt, \n",
    "        N = 5, num_icl=3,\n",
    "        calculate_at_lnf=False\n",
    "    )\n",
    "\n",
    "    result = {\n",
    "        'relation_id': rid,\n",
    "        'prompt': cur_prompt,\n",
    "        'jb': weights_and_biases\n",
    "    }\n",
    "\n",
    "    cache.append(result)"
   ]
  },
  {
   "cell_type": "code",
   "execution_count": 89,
   "metadata": {},
   "outputs": [],
   "source": [
    "np.savez(\n",
    "    f\"jb_with_different_prompting/{rid}.npz\", \n",
    "    jacobians = cache, \n",
    "    allow_pickle = True\n",
    ")"
   ]
  },
  {
   "cell_type": "code",
   "execution_count": 91,
   "metadata": {},
   "outputs": [],
   "source": [
    "# cache[0]['jb'][0]['weight']"
   ]
  },
  {
   "attachments": {},
   "cell_type": "markdown",
   "metadata": {},
   "source": [
    "## Analysis"
   ]
  },
  {
   "cell_type": "code",
   "execution_count": 106,
   "metadata": {},
   "outputs": [],
   "source": [
    "cached_jb = np.load(\n",
    "    f\"jb_with_different_prompting/{rid}.npz\",\n",
    "    allow_pickle=True\n",
    ")[\"jacobians\"]"
   ]
  },
  {
   "cell_type": "code",
   "execution_count": 173,
   "metadata": {},
   "outputs": [
    {
     "name": "stdout",
     "output_type": "stream",
     "text": [
      "{}  >>  5\n",
      "{} is located in the country of  >>  5\n",
      "{} is in  >>  5\n",
      "The country where {} is located in is  >>  5\n",
      "{} can be found in  >>  5\n",
      "{} is located within the confines of  >>  5\n"
     ]
    },
    {
     "data": {
      "text/plain": [
       "<matplotlib.colorbar.Colorbar at 0x7fbf8e881c60>"
      ]
     },
     "execution_count": 173,
     "metadata": {},
     "output_type": "execute_result"
    },
    {
     "data": {
      "image/png": "[encoded data removed]",
      "text/plain": [
       "<Figure size 640x480 with 2 Axes>"
      ]
     },
     "metadata": {},
     "output_type": "display_data"
    }
   ],
   "source": [
    "import matplotlib.pyplot as plt\n",
    "\n",
    "j_collection = []\n",
    "\n",
    "for i in range(len(cached_jb)):\n",
    "    # if(i == 3):\n",
    "    #     continue\n",
    "    batch = cached_jb[i]\n",
    "    print(batch['prompt'], \" >> \", len(batch['jb']))\n",
    "    j_collection += [b['weight'] for b in batch['jb']]\n",
    "    # cur_batch = torch.stack([b['weight'] for b in batch['jb']])\n",
    "    # print(cur_batch.shape)\n",
    "\n",
    "\n",
    "dist_map = torch.zeros(len(j_collection), len(j_collection))\n",
    "for fst in range(len(j_collection)):\n",
    "    for scd in range(len(j_collection)):\n",
    "        dist_map[fst][scd] = torch.dist(j_collection[fst], j_collection[scd])\n",
    "    \n",
    "img = plt.imshow(\n",
    "    dist_map, cmap='RdBu', interpolation='nearest', \n",
    "    # vmin = -limit, vmax = limit\n",
    ")\n",
    "plt.colorbar(img, orientation='vertical')"
   ]
  },
  {
   "cell_type": "code",
   "execution_count": 174,
   "metadata": {},
   "outputs": [
    {
     "name": "stdout",
     "output_type": "stream",
     "text": [
      "unique objects:  95 [' Uganda', ' Estonia', ' Fiji', ' Russia', ' Australia']\n"
     ]
    }
   ],
   "source": [
    "objects = [c['requested_rewrite'] for c in counterfact if c[\"requested_rewrite\"]['relation_id'] == rid]\n",
    "objects = [\" \"+ o['target_true']['str'] for o in objects]\n",
    "objects = list(set(objects))\n",
    "print(\"unique objects: \", len(objects), objects[0:5])"
   ]
  },
  {
   "cell_type": "code",
   "execution_count": 175,
   "metadata": {},
   "outputs": [
    {
     "name": "stderr",
     "output_type": "stream",
     "text": [
      "/home/local_arnab/Codes/relations/scan-for-best/../relations/corner.py:159: UserWarning: \n",
      "                model.dtype == torch.float16\n",
      "                the unembedder head will be typecasted to float32 in order to avoid precision underflows.\n",
      "                \n",
      "  warnings.warn(\n"
     ]
    },
    {
     "name": "stdout",
     "output_type": "stream",
     "text": [
      "transformer.ln_f.weight torch.Size([4096]) torch.float32\n",
      "transformer.ln_f.bias torch.Size([4096]) torch.float32\n",
      "lm_head.weight torch.Size([50400, 4096]) torch.float32\n",
      "lm_head.bias torch.Size([50400]) torch.float32\n",
      "initial representation:  [(' department', 10.488), (' ever', 9.867), (' Edge', 9.805), (' {', 9.294), ('\",', 9.135)]\n",
      "torch.float16\n"
     ]
    },
    {
     "data": {
      "image/png": "[encoded data removed]",
      "text/plain": [
       "<Figure size 640x480 with 1 Axes>"
      ]
     },
     "metadata": {},
     "output_type": "display_data"
    },
    {
     "name": "stdout",
     "output_type": "stream",
     "text": [
      "final representation:  [(' Ukraine', 51.969), (' Nigeria', 51.969), (' Cyprus', 51.812), (' Belgium', 51.812), (' Thailand', 51.594)]\n",
      "50.6875\n"
     ]
    }
   ],
   "source": [
    "from relations.corner import CornerEstimator\n",
    "\n",
    "corner_estimator = CornerEstimator(model=model, tokenizer=tokenizer)\n",
    "grad_dsc_corner = corner_estimator.estimate_corner_with_gradient_descent(\n",
    "    objects, target_logit_value=50, verbose=True\n",
    ")\n",
    "print(grad_dsc_corner.norm().item())"
   ]
  },
  {
   "cell_type": "code",
   "execution_count": 200,
   "metadata": {},
   "outputs": [],
   "source": [
    "mean_jacobian = torch.stack(j_collection).mean(dim=0)\n",
    "std_jacobian = torch.stack(j_collection).std(dim=0)"
   ]
  },
  {
   "cell_type": "code",
   "execution_count": 201,
   "metadata": {},
   "outputs": [],
   "source": [
    "def visualize_matrix(weight, limit_dim = 100):\n",
    "    weight = torch.stack([w[:limit_dim] for w in weight[:limit_dim]]).cpu()\n",
    "    limit = max(abs(weight.min().item()), abs(weight.max().item()))\n",
    "    img = plt.imshow(\n",
    "        weight,\n",
    "        cmap='RdBu', interpolation='nearest', \n",
    "        vmin = -limit, vmax = limit\n",
    "    )\n",
    "    plt.colorbar(img, orientation='vertical')"
   ]
  },
  {
   "cell_type": "code",
   "execution_count": 202,
   "metadata": {},
   "outputs": [
    {
     "data": {
      "image/png": "[encoded data removed]",
      "text/plain": [
       "<Figure size 640x480 with 2 Axes>"
      ]
     },
     "metadata": {},
     "output_type": "display_data"
    }
   ],
   "source": [
    "visualize_matrix(mean_jacobian)"
   ]
  },
  {
   "cell_type": "code",
   "execution_count": 203,
   "metadata": {},
   "outputs": [],
   "source": [
    "relation_operator = estimate.RelationOperator(\n",
    "    model = model,\n",
    "    tokenizer = tokenizer,\n",
    "    relation = '{} is located in the country of',\n",
    "    layer = 15,\n",
    "    weight = mean_jacobian,\n",
    "    bias = grad_dsc_corner\n",
    ")"
   ]
  },
  {
   "cell_type": "code",
   "execution_count": 204,
   "metadata": {},
   "outputs": [
    {
     "name": "stdout",
     "output_type": "stream",
     "text": [
      "validating on 406 subject --> object associations\n"
     ]
    },
    {
     "data": {
      "application/vnd.jupyter.widget-view+json": {
       "model_id": "c3991430863d4b7abfff745d1a75ba24",
       "version_major": 2,
       "version_minor": 0
      },
      "text/plain": [
       "  0%|          | 0/406 [00:00<?, ?it/s]"
      ]
     },
     "metadata": {},
     "output_type": "display_data"
    },
    {
     "data": {
      "text/plain": [
       "0.8497536945812808"
      ]
     },
     "execution_count": 204,
     "metadata": {},
     "output_type": "execute_result"
    }
   ],
   "source": [
    "precision, ret_dict = evaluate.evaluate(\n",
    "    relation_id=\"P17\",\n",
    "    relation_operator= relation_operator,\n",
    "    precision_at=3,\n",
    "    validation_set= [\n",
    "        (c[\"subject\"], -1, c[\"target_true\"][\"str\"]) \n",
    "        for c in model_predict_ok\n",
    "    ]\n",
    ")\n",
    "precision"
   ]
  },
  {
   "cell_type": "code",
   "execution_count": 229,
   "metadata": {},
   "outputs": [
    {
     "name": "stdout",
     "output_type": "stream",
     "text": [
      "validating on 406 subject --> object associations\n"
     ]
    },
    {
     "data": {
      "application/vnd.jupyter.widget-view+json": {
       "model_id": "e19b63681ef44d48aff7b342af7b26dc",
       "version_major": 2,
       "version_minor": 0
      },
      "text/plain": [
       "  0%|          | 0/406 [00:00<?, ?it/s]"
      ]
     },
     "metadata": {},
     "output_type": "display_data"
    },
    {
     "data": {
      "text/plain": [
       "0.8694581280788177"
      ]
     },
     "execution_count": 229,
     "metadata": {},
     "output_type": "execute_result"
    }
   ],
   "source": [
    "relation_operator = estimate.RelationOperator(\n",
    "    model = model,\n",
    "    tokenizer = tokenizer,\n",
    "    relation = '{} is located in the country of',\n",
    "    layer = 15,\n",
    "    weight = torch.eye(mean_jacobian.shape[0]).to(model.dtype).to(model.device),\n",
    "    bias = grad_dsc_corner\n",
    ")\n",
    "\n",
    "precision, ret_dict = evaluate.evaluate(\n",
    "    relation_id=\"P17\",\n",
    "    relation_operator= relation_operator,\n",
    "    precision_at=3,\n",
    "    validation_set= [\n",
    "        (c[\"subject\"], -1, c[\"target_true\"][\"str\"]) \n",
    "        for c in model_predict_ok\n",
    "    ]\n",
    ")\n",
    "precision"
   ]
  },
  {
   "cell_type": "code",
   "execution_count": 218,
   "metadata": {},
   "outputs": [],
   "source": [
    "def low_rank_approximation(weight, rank = 10):\n",
    "    typecache = weight.dtype\n",
    "    weight = weight.to(torch.float32)\n",
    "    svd = weight.svd()\n",
    "    wgt_est = torch.zeros(weight.shape).to(weight.device)\n",
    "    for i in range(rank):\n",
    "        wgt_est += svd.S[i] * (svd.U[:, i][None].T @ svd.V[:, i][None])\n",
    "    # print(f\"approximation error ==> {torch.dist(weight, wgt_est)}\")\n",
    "    approx_err = torch.dist(weight, wgt_est)\n",
    "    print(f\"rank {rank} >> \", approx_err)\n",
    "    weight = weight.to(typecache)\n",
    "    return wgt_est.to(typecache)"
   ]
  },
  {
   "cell_type": "code",
   "execution_count": 223,
   "metadata": {},
   "outputs": [],
   "source": [
    "# ranks = range(1, 100)\n",
    "# approx_errors = []\n",
    "# for rank in tqdm(ranks):\n",
    "#     jacobian_approx = low_rank_approximation(mean_jacobian, rank = rank)\n",
    "#     err = torch.dist(jacobian_approx, mean_jacobian)\n",
    "#     approx_errors.append(err)\n",
    "\n",
    "# plt.plot([err.item() for err in approx_errors])"
   ]
  },
  {
   "cell_type": "code",
   "execution_count": 227,
   "metadata": {},
   "outputs": [
    {
     "name": "stdout",
     "output_type": "stream",
     "text": [
      "rank 10 >>  tensor(7.3727, device='cuda:0')\n"
     ]
    },
    {
     "data": {
      "image/png": "[encoded data removed]",
      "text/plain": [
       "<Figure size 640x480 with 2 Axes>"
      ]
     },
     "metadata": {},
     "output_type": "display_data"
    }
   ],
   "source": [
    "jacobian_approx = low_rank_approximation(mean_jacobian, rank = 10)\n",
    "visualize_matrix(jacobian_approx)"
   ]
  },
  {
   "cell_type": "code",
   "execution_count": 228,
   "metadata": {},
   "outputs": [
    {
     "name": "stdout",
     "output_type": "stream",
     "text": [
      "validating on 406 subject --> object associations\n"
     ]
    },
    {
     "data": {
      "application/vnd.jupyter.widget-view+json": {
       "model_id": "f7206bfc6b0d4b4e976b86f9cbaf9065",
       "version_major": 2,
       "version_minor": 0
      },
      "text/plain": [
       "  0%|          | 0/406 [00:00<?, ?it/s]"
      ]
     },
     "metadata": {},
     "output_type": "display_data"
    },
    {
     "data": {
      "text/plain": [
       "0.458128078817734"
      ]
     },
     "execution_count": 228,
     "metadata": {},
     "output_type": "execute_result"
    }
   ],
   "source": [
    "relation_operator_approx = estimate.RelationOperator(\n",
    "    model = model,\n",
    "    tokenizer = tokenizer,\n",
    "    relation = '{} is located in the country of',\n",
    "    layer = 15,\n",
    "    weight = jacobian_approx,\n",
    "    bias = grad_dsc_corner\n",
    ")\n",
    "\n",
    "precision, ret_dict = evaluate.evaluate(\n",
    "    relation_id=\"P17\",\n",
    "    relation_operator= relation_operator_approx,\n",
    "    precision_at=3,\n",
    "    validation_set= [\n",
    "        (c[\"subject\"], -1, c[\"target_true\"][\"str\"]) \n",
    "        for c in model_predict_ok\n",
    "    ]\n",
    ")\n",
    "precision"
   ]
  },
  {
   "cell_type": "code",
   "execution_count": 242,
   "metadata": {},
   "outputs": [
    {
     "name": "stdout",
     "output_type": "stream",
     "text": [
      "rank 50 >>  tensor(64.6371, device='cuda:0')\n"
     ]
    },
    {
     "data": {
      "image/png": "[encoded data removed]",
      "text/plain": [
       "<Figure size 640x480 with 2 Axes>"
      ]
     },
     "metadata": {},
     "output_type": "display_data"
    }
   ],
   "source": [
    "I = torch.eye(model.config.n_embd).to(model.dtype).to(model.device)\n",
    "residual_add = mean_jacobian - I\n",
    "\n",
    "residual_add_approx = low_rank_approximation(residual_add, rank = 50)\n",
    "jacobian_approx = I + residual_add_approx\n",
    "visualize_matrix(jacobian_approx)"
   ]
  },
  {
   "cell_type": "code",
   "execution_count": 243,
   "metadata": {},
   "outputs": [
    {
     "name": "stdout",
     "output_type": "stream",
     "text": [
      "validating on 406 subject --> object associations\n"
     ]
    },
    {
     "data": {
      "application/vnd.jupyter.widget-view+json": {
       "model_id": "50d2c78d12df4351bbc2d8b213d99c5e",
       "version_major": 2,
       "version_minor": 0
      },
      "text/plain": [
       "  0%|          | 0/406 [00:00<?, ?it/s]"
      ]
     },
     "metadata": {},
     "output_type": "display_data"
    },
    {
     "data": {
      "text/plain": [
       "0.8719211822660099"
      ]
     },
     "execution_count": 243,
     "metadata": {},
     "output_type": "execute_result"
    }
   ],
   "source": [
    "relation_operator_approx = estimate.RelationOperator(\n",
    "    model = model,\n",
    "    tokenizer = tokenizer,\n",
    "    relation = '{} is located in the country of',\n",
    "    layer = 15,\n",
    "    weight = jacobian_approx,\n",
    "    bias = grad_dsc_corner\n",
    ")\n",
    "\n",
    "precision, ret_dict = evaluate.evaluate(\n",
    "    relation_id=\"P17\",\n",
    "    relation_operator= relation_operator_approx,\n",
    "    precision_at=3,\n",
    "    validation_set= [\n",
    "        (c[\"subject\"], -1, c[\"target_true\"][\"str\"]) \n",
    "        for c in model_predict_ok\n",
    "    ]\n",
    ")\n",
    "precision"
   ]
  },
  {
   "cell_type": "code",
   "execution_count": null,
   "metadata": {},
   "outputs": [],
   "source": []
  }
 ],
 "metadata": {
  "kernelspec": {
   "display_name": "Python 3",
   "language": "python",
   "name": "python3"
  },
  "language_info": {
   "codemirror_mode": {
    "name": "ipython",
    "version": 3
   },
   "file_extension": ".py",
   "mimetype": "text/x-python",
   "name": "python",
   "nbconvert_exporter": "python",
   "pygments_lexer": "ipython3",
   "version": "3.10.8"
  },
  "orig_nbformat": 4
 },
 "nbformat": 4,
 "nbformat_minor": 2
}
