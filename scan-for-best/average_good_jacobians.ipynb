{
 "cells": [
  {
   "cell_type": "code",
   "execution_count": 1,
   "metadata": {},
   "outputs": [],
   "source": [
    "%load_ext autoreload\n",
    "%autoreload 2"
   ]
  },
  {
   "cell_type": "code",
   "execution_count": 2,
   "metadata": {},
   "outputs": [],
   "source": [
    "import torch\n",
    "import numpy as np\n",
    "import json\n",
    "from tqdm.auto import tqdm\n",
    "import random\n",
    "\n",
    "\n",
    "import os\n",
    "import sys\n",
    "sys.path.append('..')\n",
    "\n",
    "from relations import estimate\n",
    "from util import model_utils\n",
    "from dsets.counterfact import CounterFactDataset\n",
    "from util import nethook\n",
    "from operator import itemgetter"
   ]
  },
  {
   "cell_type": "code",
   "execution_count": 3,
   "metadata": {},
   "outputs": [],
   "source": [
    "MODEL_NAME = \"EleutherAI/gpt-j-6B\"  # gpt2-{medium,large,xl} or EleutherAI/gpt-j-6B\n",
    "mt = model_utils.ModelAndTokenizer(MODEL_NAME, low_cpu_mem_usage=True, torch_dtype=torch.float16)\n",
    "\n",
    "model = mt.model\n",
    "tokenizer = mt.tokenizer\n",
    "tokenizer.pad_token = tokenizer.eos_token"
   ]
  },
  {
   "cell_type": "code",
   "execution_count": 4,
   "metadata": {},
   "outputs": [],
   "source": [
    "jb_save_path = \"gpt-j/jacobians_averaged\"\n",
    "os.makedirs(jb_save_path, exist_ok = True)"
   ]
  },
  {
   "cell_type": "code",
   "execution_count": 5,
   "metadata": {},
   "outputs": [
    {
     "name": "stdout",
     "output_type": "stream",
     "text": [
      "skipped  P136\n",
      "skipped  P449\n",
      "skipped  P138\n",
      "skipped  P131\n",
      "skipped  P407\n",
      "skipped  P108\n"
     ]
    }
   ],
   "source": [
    "cut_off = 50 # minimum number of correct predictions\n",
    "\n",
    "###########################################################################\n",
    "relation_dct = {\n",
    "    'P17'   : {'relation': '{} is located in the country of', 'correct_predict': None, 'cached_JB': None},\n",
    "    'P641'  : {'relation': '{} plays the sport of', 'correct_predict': None, 'cached_JB': None},\n",
    "    'P103'  : {'relation': 'The mother tongue of {} is', 'correct_predict': None, 'cached_JB': None},\n",
    "    'P176'  : {'relation': '{} is produced by', 'correct_predict': None, 'cached_JB': None},\n",
    "    'P140'  : {'relation': 'The official religion of {} is', 'correct_predict': None, 'cached_JB': None},\n",
    "    'P1303' : {'relation': '{} plays the instrument', 'correct_predict': None, 'cached_JB': None},\n",
    "    'P190'  : {'relation': 'What is the twin city of {}? It is', 'correct_predict': None, 'cached_JB': None},\n",
    "    'P740'  : {'relation': '{} was founded in', 'correct_predict': None, 'cached_JB': None},\n",
    "    'P178'  : {'relation': '{} was developed by', 'correct_predict': None, 'cached_JB': None},\n",
    "    'P495'  : {'relation': '{}, that originated in the country of', 'correct_predict': None, 'cached_JB': None},\n",
    "    'P127'  : {'relation': '{} is owned by', 'correct_predict': None, 'cached_JB': None},\n",
    "    'P413'  : {'relation': '{} plays in the position of', 'correct_predict': None, 'cached_JB': None},\n",
    "    'P39'   : {'relation': '{}, who holds the position of', 'correct_predict': None, 'cached_JB': None},\n",
    "    'P159'  : {'relation': 'The headquarter of {} is located in', 'correct_predict': None, 'cached_JB': None},\n",
    "    'P20'   : {'relation': '{} died in the city of', 'correct_predict': None, 'cached_JB': None},\n",
    "    'P136'  : {'relation': 'What does {} play? They play', 'correct_predict': None, 'cached_JB': None},\n",
    "    'P106'  : {'relation': 'The profession of {} is', 'correct_predict': None, 'cached_JB': None},\n",
    "    'P30'   : {'relation': '{} is located in the continent of', 'correct_predict': None, 'cached_JB': None},\n",
    "    'P937'  : {'relation': '{} worked in the city of', 'correct_predict': None, 'cached_JB': None},\n",
    "    'P449'  : {'relation': '{} was released on', 'correct_predict': None, 'cached_JB': None},\n",
    "    'P27'   : {'relation': '{} is a citizen of', 'correct_predict': None, 'cached_JB': None},\n",
    "    'P101'  : {'relation': '{} works in the field of', 'correct_predict': None, 'cached_JB': None},\n",
    "    'P19'   : {'relation': '{} was born in', 'correct_predict': None, 'cached_JB': None},\n",
    "    'P37'   : {'relation': 'In {}, an official language is', 'correct_predict': None, 'cached_JB': None},\n",
    "    'P138'  : {'relation': '{}, named after', 'correct_predict': None, 'cached_JB': None},\n",
    "    'P131'  : {'relation': '{} is located in', 'correct_predict': None, 'cached_JB': None},\n",
    "    'P407'  : {'relation': '{} was written in', 'correct_predict': None, 'cached_JB': None},\n",
    "    'P108'  : {'relation': '{}, who is employed by', 'correct_predict': None, 'cached_JB': None},\n",
    "    'P36'   : {'relation': 'The capital of {} is', 'correct_predict': None, 'cached_JB': None},\n",
    "}\n",
    "###########################################################################\n",
    "\n",
    "\n",
    "root_path = \"gpt-j\"\n",
    "\n",
    "pop_track = []\n",
    "for relation in relation_dct:\n",
    "    path = f\"{root_path}/{relation}\"\n",
    "    with open(f\"{path}/correct_prediction_{relation}.json\") as f:\n",
    "        correct_predictions = json.load(f)\n",
    "    if(len(correct_predictions) < cut_off):\n",
    "    # if \"performance\" not in os.listdir(path):\n",
    "        print(\"skipped \", relation)\n",
    "        pop_track.append(relation)\n",
    "    \n",
    "for r in pop_track:\n",
    "    relation_dct.pop(r)"
   ]
  },
  {
   "cell_type": "code",
   "execution_count": 6,
   "metadata": {},
   "outputs": [
    {
     "name": "stdout",
     "output_type": "stream",
     "text": [
      "The profession of {} is\n"
     ]
    }
   ],
   "source": [
    "relation_id = \"P106\"\n",
    "\n",
    "print(relation_dct[relation_id]['relation'])"
   ]
  },
  {
   "cell_type": "code",
   "execution_count": 7,
   "metadata": {},
   "outputs": [
    {
     "data": {
      "text/plain": [
       "[('Lucha Villa', 0, 'actor'), ('Cigoli', 0, 'architect')]"
      ]
     },
     "execution_count": 7,
     "metadata": {},
     "output_type": "execute_result"
    }
   ],
   "source": [
    "def get_top_performers(relation_id, consider_top = 5):\n",
    "    with open(f\"gpt-j/{relation_id}/performance\") as f:\n",
    "        performance = json.load(f)\n",
    "    performance.sort(key = itemgetter('p@3'), reverse=True)\n",
    "\n",
    "    subject__top_performers = []\n",
    "    object__top_performers = []\n",
    "    top_performers = []\n",
    "\n",
    "    for candidate in performance:\n",
    "        subject = candidate['subject']\n",
    "        try:\n",
    "            sub_idx = candidate['misc']['h_info']['sub_index']\n",
    "        except:\n",
    "            sub_idx = candidate['misc']['h_info']['h_index']\n",
    "        object = candidate['object']\n",
    "        if(subject in subject__top_performers or object in object__top_performers):\n",
    "            continue\n",
    "        if(len(tokenizer(subject).input_ids) > 3):\n",
    "            continue\n",
    "        \n",
    "        subject__top_performers.append(subject)\n",
    "        object__top_performers.append(object)\n",
    "        top_performers.append((\n",
    "            subject, sub_idx, object #, candidate['p@3']\n",
    "        ))\n",
    "\n",
    "        if(len(top_performers) == consider_top):\n",
    "            break\n",
    "    return top_performers\n",
    "\n",
    "top_performers = get_top_performers(relation_id, consider_top=10)\n",
    "top_performers"
   ]
  },
  {
   "cell_type": "code",
   "execution_count": 8,
   "metadata": {},
   "outputs": [],
   "source": [
    "# best_performing_cases = {}\n",
    "\n",
    "# for relation_id in relation_dct:\n",
    "#     top_performers = get_top_performers(relation_id, consider_top=10)\n",
    "#     cases_formatted = []\n",
    "#     for subject, sub_idx, obj, perf in top_performers:\n",
    "#         cases_formatted.append({\n",
    "#             'subject': subject,\n",
    "#             'sub_idx': sub_idx,\n",
    "#             'object': obj,\n",
    "#             'p@3_outof_50': perf\n",
    "#         })\n",
    "#     best_performing_cases[relation_id] = cases_formatted\n",
    "\n",
    "# with open(\"best_performing_cases__relationwise__gpt-j.json\", \"w\") as f:\n",
    "#     json.dump(best_performing_cases, f)"
   ]
  },
  {
   "cell_type": "code",
   "execution_count": 9,
   "metadata": {},
   "outputs": [
    {
     "data": {
      "text/plain": [
       "'The profession of {} is'"
      ]
     },
     "execution_count": 9,
     "metadata": {},
     "output_type": "execute_result"
    }
   ],
   "source": [
    "r = relation_dct[relation_id]['relation']\n",
    "r"
   ]
  },
  {
   "cell_type": "code",
   "execution_count": 10,
   "metadata": {},
   "outputs": [],
   "source": [
    "def get_averaged_JB(top_performers, relation_prompt, num_icl = 3, calculate_at_lnf = False):\n",
    "    try:\n",
    "        jbs = []\n",
    "        for s, s_idx, o in tqdm(top_performers):\n",
    "            others = set(top_performers) - {(s, s_idx, o)}\n",
    "            others = random.sample(list(others), k = min(num_icl, len(list(others)))) \n",
    "            prompt = \"\"\n",
    "            prompt += \"\\n\".join(relation_prompt.format(s_other) + f\" {o_other}.\" for s_other, idx_other, o_other in others) + \"\\n\"\n",
    "            prompt += relation_prompt\n",
    "            print(\"subject: \", s)\n",
    "            print(prompt)\n",
    "\n",
    "            inputs = tokenizer(prompt, return_tensors=\"pt\").to(model.device)\n",
    "            jb = estimate.estimate_relation_operator(\n",
    "                model, tokenizer,\n",
    "                s, prompt,\n",
    "                subject_token_index= s_idx,\n",
    "                layer = 15,\n",
    "                device = model.device,\n",
    "                calculate_at_lnf = calculate_at_lnf\n",
    "            )\n",
    "            print(jb.weight.norm(), jb.bias.norm())\n",
    "            print()\n",
    "            jbs.append(jb)\n",
    "        \n",
    "        weight = torch.stack([jb.weight for jb in jbs]).mean(dim=0)\n",
    "        bias  = torch.stack([jb.bias for jb in jbs]).mean(dim=0)\n",
    "\n",
    "        return weight, bias\n",
    "    except RuntimeError as e:\n",
    "        if(str(e).startswith(\"CUDA out of memory\")):\n",
    "            print(\"CUDA out of memory\")\n",
    "        if(num_icl > 1):\n",
    "            num_icl -= 1\n",
    "            print(\"trying with smaller icl >> \", num_icl)\n",
    "            return get_averaged_JB(top_performers, relation_prompt, num_icl, calculate_at_lnf)\n",
    "        else:\n",
    "            raise Exception(\"RuntimeError >> can't calculate Jacobian with minimum number of icl examples\")\n",
    "\n",
    "def get_multiple_averaged_JB(top_performers, relation_prompt, N = 3, num_icl = 3, calculate_at_lnf = False):\n",
    "    weights_and_biases = []\n",
    "    sample_size = min(len(top_performers), num_icl + 2)\n",
    "    for _ in tqdm(range(N)):\n",
    "        cur_sample = random.sample(top_performers, k = sample_size)\n",
    "        weight, bias = get_averaged_JB(cur_sample, relation_prompt, num_icl, calculate_at_lnf)\n",
    "        weights_and_biases.append({\n",
    "            'weight': weight,\n",
    "            'bias'  : bias\n",
    "        })\n",
    "    return weights_and_biases"
   ]
  },
  {
   "cell_type": "code",
   "execution_count": 11,
   "metadata": {},
   "outputs": [],
   "source": [
    "# weights_and_biases = get_multiple_averaged_JB(top_performers, relation_prompt=r)"
   ]
  },
  {
   "cell_type": "code",
   "execution_count": 12,
   "metadata": {},
   "outputs": [],
   "source": [
    "# len(weights_and_biases)"
   ]
  },
  {
   "cell_type": "code",
   "execution_count": 13,
   "metadata": {},
   "outputs": [],
   "source": [
    "\n",
    "# weight, bias = get_averaged_JB(top_performers, r)\n",
    "# relation = estimate.RelationOperator(\n",
    "#     weight=weight,\n",
    "#     bias=bias,\n",
    "#     model=model,\n",
    "#     tokenizer=tokenizer,\n",
    "#     layer= 15 ,\n",
    "#     relation= relation_dct[relation_id]['relation'],\n",
    "# )"
   ]
  },
  {
   "cell_type": "code",
   "execution_count": 14,
   "metadata": {},
   "outputs": [],
   "source": [
    "# test_subjects = [\n",
    "#     \"Hugh Jackman\",\n",
    "#     \"Michael Phelps\",\n",
    "#     \"Agatha Christie\",\n",
    "#     \"Barack Obama\",\n",
    "#     \"Sherlock Holmes\",\n",
    "#     \"Alan Turing\",\n",
    "#     \"Bill Gates\",\n",
    "#     \"Michelangelo\"\n",
    "# ]\n",
    "\n",
    "# for sub in test_subjects:\n",
    "#     print(f\"{sub} >> \", relation(sub, device= model.device))"
   ]
  },
  {
   "cell_type": "code",
   "execution_count": 15,
   "metadata": {},
   "outputs": [],
   "source": [
    "# test_cases = [\n",
    "#     # (\"Statue of Liberty\", -1, \"United States\"),\n",
    "#     (\"The Great Wall\", -1, \"China\"),\n",
    "#     (\"Niagara Falls\", -2, \"Canada\"),\n",
    "#     (\"Valdemarsvik\", -1, \"Sweden\"),\n",
    "#     (\"Kyoto University\", -2, \"Japan\"),\n",
    "#     (\"Hattfjelldal\", -1, \"Norway\"),\n",
    "#     (\"Ginza\", -1, \"Japan\"),\n",
    "#     (\"Sydney Hospital\", -2, \"Australia\"),\n",
    "#     (\"Mahalangur Himal\", -1, \"Nepal\"),\n",
    "#     (\"Higashikagawa\", -1, \"Japan\"),\n",
    "#     (\"Trento\", -1, \"Italy\"),\n",
    "#     (\"Taj Mahal\", -1, \"India\"),\n",
    "#     (\"Hagia Sophia\", -1, \"Turkey\"),\n",
    "#     (\"Colosseum\", -1, \"Italy\"),\n",
    "#     (\"Mount Everest\", -1, \"Nepal\"),\n",
    "#     (\"Valencia\", -1, \"Spain\"),\n",
    "#     (\"Lake Baikal\", -1, \"Russia\"),\n",
    "#     (\"Merlion Park\", -1, \"Singapore\"),\n",
    "#     (\"Cologne Cathedral\", -1, \"Germany\"),\n",
    "#     (\"Buda Castle\", -1, \"Hungary\")\n",
    "# ]\n",
    "\n",
    "# def check_with_test_cases(relation_operator):\n",
    "#     for subject, subject_token_index, target in test_cases:\n",
    "#         objects = relation_operator(\n",
    "#             subject,\n",
    "#             subject_token_index=subject_token_index,\n",
    "#             device=model.device,\n",
    "#             return_top_k=5,\n",
    "#         )\n",
    "#         print(f\"{subject}, target: {target}   ==>   predicted: {objects}\")\n",
    "\n",
    "# check_with_test_cases(relation)"
   ]
  },
  {
   "cell_type": "code",
   "execution_count": 16,
   "metadata": {},
   "outputs": [],
   "source": [
    "# print(f\"{jb_save_path}/{relation_id}.npz\")\n",
    "\n",
    "# np.savez(\n",
    "#     f\"{jb_save_path}/{relation_id}.npz\", \n",
    "#     weight_and_bias = [{\n",
    "#         'weight': weight.cpu().numpy(),\n",
    "#         'bias'  : bias.cpu().numpy()\n",
    "#     }],\n",
    "#     allow_pickle = True\n",
    "# )"
   ]
  },
  {
   "cell_type": "code",
   "execution_count": 17,
   "metadata": {},
   "outputs": [],
   "source": [
    "# jb = np.load(f\"{jb_save_path}/{relation_id}.npz\", allow_pickle= True)\n",
    "# list(jb.keys())"
   ]
  },
  {
   "cell_type": "code",
   "execution_count": 18,
   "metadata": {},
   "outputs": [],
   "source": [
    "# jb['weight_and_bias'][0]['weight'].shape"
   ]
  },
  {
   "cell_type": "code",
   "execution_count": 19,
   "metadata": {},
   "outputs": [
    {
     "data": {
      "text/plain": [
       "10"
      ]
     },
     "execution_count": 19,
     "metadata": {},
     "output_type": "execute_result"
    }
   ],
   "source": [
    "len(relation_dct.keys())"
   ]
  },
  {
   "cell_type": "code",
   "execution_count": 20,
   "metadata": {},
   "outputs": [
    {
     "name": "stdout",
     "output_type": "stream",
     "text": [
      "zzzzzzzzzzzzzzzzzzzzzzzzzzzzzzzzzzzzzzzzzzzzzzzzzzzz\n",
      "P159 The headquarter of {} is located in\n",
      "zzzzzzzzzzzzzzzzzzzzzzzzzzzzzzzzzzzzzzzzzzzzzzzzzzzz\n",
      "157\n",
      "The headquarter of {} is located in\n"
     ]
    },
    {
     "data": {
      "application/vnd.jupyter.widget-view+json": {
       "model_id": "db27621a40d14906aecf7b6584e3ec8b",
       "version_major": 2,
       "version_minor": 0
      },
      "text/plain": [
       "  0%|          | 0/10 [00:00<?, ?it/s]"
      ]
     },
     "metadata": {},
     "output_type": "display_data"
    },
    {
     "data": {
      "application/vnd.jupyter.widget-view+json": {
       "model_id": "e3a503dc71e144bdb9e61ed5c9522297",
       "version_major": 2,
       "version_minor": 0
      },
      "text/plain": [
       "  0%|          | 0/5 [00:00<?, ?it/s]"
      ]
     },
     "metadata": {},
     "output_type": "display_data"
    },
    {
     "name": "stdout",
     "output_type": "stream",
     "text": [
      "subject:  Stelco\n",
      "The headquarter of LG Chem is located in Seoul.\n",
      "The headquarter of Ericsson is located in Stockholm.\n",
      "The headquarter of Interpol is located in Lyon.\n",
      "The headquarter of {} is located in\n",
      "tensor(23.3125, device='cuda:0', dtype=torch.float16) tensor(17.3594, device='cuda:0', dtype=torch.float16)\n",
      "\n",
      "subject:  Interpol\n",
      "The headquarter of The Weather Channel is located in Atlanta.\n",
      "The headquarter of Stelco is located in Hamilton.\n",
      "The headquarter of LG Chem is located in Seoul.\n",
      "The headquarter of {} is located in\n",
      "tensor(40.3750, device='cuda:0', dtype=torch.float16) tensor(17.1719, device='cuda:0', dtype=torch.float16)\n",
      "\n",
      "subject:  The Weather Channel\n",
      "The headquarter of Stelco is located in Hamilton.\n",
      "The headquarter of Ericsson is located in Stockholm.\n",
      "The headquarter of Interpol is located in Lyon.\n",
      "The headquarter of {} is located in\n",
      "tensor(23.0938, device='cuda:0', dtype=torch.float16) tensor(14.5000, device='cuda:0', dtype=torch.float16)\n",
      "\n",
      "subject:  LG Chem\n",
      "The headquarter of Stelco is located in Hamilton.\n",
      "The headquarter of The Weather Channel is located in Atlanta.\n",
      "The headquarter of Interpol is located in Lyon.\n",
      "The headquarter of {} is located in\n",
      "tensor(16.9219, device='cuda:0', dtype=torch.float16) tensor(12.1797, device='cuda:0', dtype=torch.float16)\n",
      "\n",
      "subject:  Ericsson\n",
      "The headquarter of LG Chem is located in Seoul.\n",
      "The headquarter of Stelco is located in Hamilton.\n",
      "The headquarter of The Weather Channel is located in Atlanta.\n",
      "The headquarter of {} is located in\n",
      "tensor(24.9062, device='cuda:0', dtype=torch.float16) tensor(22.3750, device='cuda:0', dtype=torch.float16)\n",
      "\n"
     ]
    },
    {
     "data": {
      "application/vnd.jupyter.widget-view+json": {
       "model_id": "b823321446754e149b14cbc8215829d1",
       "version_major": 2,
       "version_minor": 0
      },
      "text/plain": [
       "  0%|          | 0/5 [00:00<?, ?it/s]"
      ]
     },
     "metadata": {},
     "output_type": "display_data"
    },
    {
     "name": "stdout",
     "output_type": "stream",
     "text": [
      "subject:  ChemAxon\n",
      "The headquarter of United Airlines is located in Chicago.\n",
      "The headquarter of SoundCloud is located in Berlin.\n",
      "The headquarter of Stelco is located in Hamilton.\n",
      "The headquarter of {} is located in\n",
      "tensor(24.0156, device='cuda:0', dtype=torch.float16) tensor(20.4375, device='cuda:0', dtype=torch.float16)\n",
      "\n",
      "subject:  United Airlines\n",
      "The headquarter of LG Chem is located in Seoul.\n",
      "The headquarter of Stelco is located in Hamilton.\n",
      "The headquarter of ChemAxon is located in Budapest.\n",
      "The headquarter of {} is located in\n",
      "tensor(26.2031, device='cuda:0', dtype=torch.float16) tensor(20.1562, device='cuda:0', dtype=torch.float16)\n",
      "\n",
      "subject:  SoundCloud\n",
      "The headquarter of United Airlines is located in Chicago.\n",
      "The headquarter of LG Chem is located in Seoul.\n",
      "The headquarter of ChemAxon is located in Budapest.\n",
      "The headquarter of {} is located in\n",
      "tensor(26.7500, device='cuda:0', dtype=torch.float16) tensor(17.4062, device='cuda:0', dtype=torch.float16)\n",
      "\n",
      "subject:  LG Chem\n",
      "The headquarter of United Airlines is located in Chicago.\n",
      "The headquarter of ChemAxon is located in Budapest.\n",
      "The headquarter of Stelco is located in Hamilton.\n",
      "The headquarter of {} is located in\n",
      "CUDA out of memory\n",
      "trying with smaller icl >>  2\n"
     ]
    },
    {
     "data": {
      "application/vnd.jupyter.widget-view+json": {
       "model_id": "8433874333424b168ecd13c5b7b10500",
       "version_major": 2,
       "version_minor": 0
      },
      "text/plain": [
       "  0%|          | 0/5 [00:00<?, ?it/s]"
      ]
     },
     "metadata": {},
     "output_type": "display_data"
    },
    {
     "name": "stdout",
     "output_type": "stream",
     "text": [
      "subject:  ChemAxon\n",
      "The headquarter of LG Chem is located in Seoul.\n",
      "The headquarter of Stelco is located in Hamilton.\n",
      "The headquarter of {} is located in\n",
      "tensor(19.2500, device='cuda:0', dtype=torch.float16) tensor(16.3438, device='cuda:0', dtype=torch.float16)\n",
      "\n",
      "subject:  United Airlines\n",
      "The headquarter of ChemAxon is located in Budapest.\n",
      "The headquarter of LG Chem is located in Seoul.\n",
      "The headquarter of {} is located in\n",
      "tensor(24.6562, device='cuda:0', dtype=torch.float16) tensor(18.4844, device='cuda:0', dtype=torch.float16)\n",
      "\n",
      "subject:  SoundCloud\n",
      "The headquarter of Stelco is located in Hamilton.\n",
      "The headquarter of ChemAxon is located in Budapest.\n",
      "The headquarter of {} is located in\n",
      "tensor(24.1719, device='cuda:0', dtype=torch.float16) tensor(15.5078, device='cuda:0', dtype=torch.float16)\n",
      "\n",
      "subject:  LG Chem\n",
      "The headquarter of Stelco is located in Hamilton.\n",
      "The headquarter of ChemAxon is located in Budapest.\n",
      "The headquarter of {} is located in\n",
      "tensor(14.4297, device='cuda:0', dtype=torch.float16) tensor(9.4375, device='cuda:0', dtype=torch.float16)\n",
      "\n",
      "subject:  Stelco\n",
      "The headquarter of United Airlines is located in Chicago.\n",
      "The headquarter of SoundCloud is located in Berlin.\n",
      "The headquarter of {} is located in\n",
      "tensor(25.3750, device='cuda:0', dtype=torch.float16) tensor(17.7656, device='cuda:0', dtype=torch.float16)\n",
      "\n"
     ]
    },
    {
     "data": {
      "application/vnd.jupyter.widget-view+json": {
       "model_id": "08ada2f9635b4115adbb73d4552e511e",
       "version_major": 2,
       "version_minor": 0
      },
      "text/plain": [
       "  0%|          | 0/5 [00:00<?, ?it/s]"
      ]
     },
     "metadata": {},
     "output_type": "display_data"
    },
    {
     "name": "stdout",
     "output_type": "stream",
     "text": [
      "subject:  United Airlines\n",
      "The headquarter of Ericsson is located in Stockholm.\n",
      "The headquarter of Serono is located in Geneva.\n",
      "The headquarter of SoundCloud is located in Berlin.\n",
      "The headquarter of {} is located in\n",
      "tensor(24.8438, device='cuda:0', dtype=torch.float16) tensor(19.4375, device='cuda:0', dtype=torch.float16)\n",
      "\n",
      "subject:  Ericsson\n",
      "The headquarter of ChemAxon is located in Budapest.\n",
      "The headquarter of United Airlines is located in Chicago.\n",
      "The headquarter of SoundCloud is located in Berlin.\n",
      "The headquarter of {} is located in\n",
      "CUDA out of memory\n",
      "trying with smaller icl >>  2\n"
     ]
    },
    {
     "data": {
      "application/vnd.jupyter.widget-view+json": {
       "model_id": "b36d66da992e41be8e20de0954398331",
       "version_major": 2,
       "version_minor": 0
      },
      "text/plain": [
       "  0%|          | 0/5 [00:00<?, ?it/s]"
      ]
     },
     "metadata": {},
     "output_type": "display_data"
    },
    {
     "name": "stdout",
     "output_type": "stream",
     "text": [
      "subject:  United Airlines\n",
      "The headquarter of Ericsson is located in Stockholm.\n",
      "The headquarter of Serono is located in Geneva.\n",
      "The headquarter of {} is located in\n",
      "tensor(25.7031, device='cuda:0', dtype=torch.float16) tensor(17.7969, device='cuda:0', dtype=torch.float16)\n",
      "\n",
      "subject:  Ericsson\n",
      "The headquarter of ChemAxon is located in Budapest.\n",
      "The headquarter of United Airlines is located in Chicago.\n",
      "The headquarter of {} is located in\n",
      "tensor(24.0156, device='cuda:0', dtype=torch.float16) tensor(20.2188, device='cuda:0', dtype=torch.float16)\n",
      "\n",
      "subject:  Serono\n",
      "The headquarter of United Airlines is located in Chicago.\n",
      "The headquarter of Ericsson is located in Stockholm.\n",
      "The headquarter of {} is located in\n",
      "tensor(34.7188, device='cuda:0', dtype=torch.float16) tensor(25.1094, device='cuda:0', dtype=torch.float16)\n",
      "\n",
      "subject:  ChemAxon\n",
      "The headquarter of United Airlines is located in Chicago.\n",
      "The headquarter of Ericsson is located in Stockholm.\n",
      "The headquarter of {} is located in\n",
      "tensor(25.6094, device='cuda:0', dtype=torch.float16) tensor(20.4688, device='cuda:0', dtype=torch.float16)\n",
      "\n",
      "subject:  SoundCloud\n",
      "The headquarter of ChemAxon is located in Budapest.\n",
      "The headquarter of Ericsson is located in Stockholm.\n",
      "The headquarter of {} is located in\n",
      "tensor(24.5000, device='cuda:0', dtype=torch.float16) tensor(14.8281, device='cuda:0', dtype=torch.float16)\n",
      "\n"
     ]
    },
    {
     "data": {
      "application/vnd.jupyter.widget-view+json": {
       "model_id": "8d2f0b02e65b4a54919f92592bdcee41",
       "version_major": 2,
       "version_minor": 0
      },
      "text/plain": [
       "  0%|          | 0/5 [00:00<?, ?it/s]"
      ]
     },
     "metadata": {},
     "output_type": "display_data"
    },
    {
     "name": "stdout",
     "output_type": "stream",
     "text": [
      "subject:  The Weather Channel\n",
      "The headquarter of Ericsson is located in Stockholm.\n",
      "The headquarter of Lenovo is located in Beijing.\n",
      "The headquarter of LG Chem is located in Seoul.\n",
      "The headquarter of {} is located in\n",
      "tensor(21.9531, device='cuda:0', dtype=torch.float16) tensor(13., device='cuda:0', dtype=torch.float16)\n",
      "\n",
      "subject:  Interpol\n",
      "The headquarter of The Weather Channel is located in Atlanta.\n",
      "The headquarter of Ericsson is located in Stockholm.\n",
      "The headquarter of Lenovo is located in Beijing.\n",
      "The headquarter of {} is located in\n",
      "tensor(39.0312, device='cuda:0', dtype=torch.float16) tensor(16.2656, device='cuda:0', dtype=torch.float16)\n",
      "\n",
      "subject:  Lenovo\n",
      "The headquarter of The Weather Channel is located in Atlanta.\n",
      "The headquarter of LG Chem is located in Seoul.\n",
      "The headquarter of Ericsson is located in Stockholm.\n",
      "The headquarter of {} is located in\n",
      "tensor(31.8906, device='cuda:0', dtype=torch.float16) tensor(25.5625, device='cuda:0', dtype=torch.float16)\n",
      "\n",
      "subject:  LG Chem\n",
      "The headquarter of Lenovo is located in Beijing.\n",
      "The headquarter of Interpol is located in Lyon.\n",
      "The headquarter of Ericsson is located in Stockholm.\n",
      "The headquarter of {} is located in\n",
      "tensor(13.9531, device='cuda:0', dtype=torch.float16) tensor(11.5000, device='cuda:0', dtype=torch.float16)\n",
      "\n",
      "subject:  Ericsson\n",
      "The headquarter of LG Chem is located in Seoul.\n",
      "The headquarter of The Weather Channel is located in Atlanta.\n",
      "The headquarter of Lenovo is located in Beijing.\n",
      "The headquarter of {} is located in\n",
      "CUDA out of memory\n",
      "trying with smaller icl >>  2\n"
     ]
    },
    {
     "data": {
      "application/vnd.jupyter.widget-view+json": {
       "model_id": "8e69369b28044c58ab954b7e0f9ef660",
       "version_major": 2,
       "version_minor": 0
      },
      "text/plain": [
       "  0%|          | 0/5 [00:00<?, ?it/s]"
      ]
     },
     "metadata": {},
     "output_type": "display_data"
    },
    {
     "name": "stdout",
     "output_type": "stream",
     "text": [
      "subject:  The Weather Channel\n",
      "The headquarter of Interpol is located in Lyon.\n",
      "The headquarter of Lenovo is located in Beijing.\n",
      "The headquarter of {} is located in\n",
      "tensor(19.8594, device='cuda:0', dtype=torch.float16) tensor(12.2031, device='cuda:0', dtype=torch.float16)\n",
      "\n",
      "subject:  Interpol\n",
      "The headquarter of LG Chem is located in Seoul.\n",
      "The headquarter of The Weather Channel is located in Atlanta.\n",
      "The headquarter of {} is located in\n",
      "tensor(40.5938, device='cuda:0', dtype=torch.float16) tensor(16.9844, device='cuda:0', dtype=torch.float16)\n",
      "\n",
      "subject:  Lenovo\n",
      "The headquarter of LG Chem is located in Seoul.\n",
      "The headquarter of Ericsson is located in Stockholm.\n",
      "The headquarter of {} is located in\n",
      "tensor(30.7031, device='cuda:0', dtype=torch.float16) tensor(23.3750, device='cuda:0', dtype=torch.float16)\n",
      "\n",
      "subject:  LG Chem\n",
      "The headquarter of The Weather Channel is located in Atlanta.\n",
      "The headquarter of Interpol is located in Lyon.\n",
      "The headquarter of {} is located in\n",
      "tensor(16.5938, device='cuda:0', dtype=torch.float16) tensor(12.9844, device='cuda:0', dtype=torch.float16)\n",
      "\n",
      "subject:  Ericsson\n",
      "The headquarter of Lenovo is located in Beijing.\n",
      "The headquarter of The Weather Channel is located in Atlanta.\n",
      "The headquarter of {} is located in\n",
      "tensor(23.1250, device='cuda:0', dtype=torch.float16) tensor(18.7812, device='cuda:0', dtype=torch.float16)\n",
      "\n"
     ]
    },
    {
     "data": {
      "application/vnd.jupyter.widget-view+json": {
       "model_id": "fd46fdff806749d2a79385850cbf0db6",
       "version_major": 2,
       "version_minor": 0
      },
      "text/plain": [
       "  0%|          | 0/5 [00:00<?, ?it/s]"
      ]
     },
     "metadata": {},
     "output_type": "display_data"
    },
    {
     "name": "stdout",
     "output_type": "stream",
     "text": [
      "subject:  ChemAxon\n",
      "The headquarter of LG Chem is located in Seoul.\n",
      "The headquarter of Lenovo is located in Beijing.\n",
      "The headquarter of United Airlines is located in Chicago.\n",
      "The headquarter of {} is located in\n",
      "tensor(22.3594, device='cuda:0', dtype=torch.float16) tensor(17.7344, device='cuda:0', dtype=torch.float16)\n",
      "\n",
      "subject:  United Airlines\n",
      "The headquarter of Ericsson is located in Stockholm.\n",
      "The headquarter of Lenovo is located in Beijing.\n",
      "The headquarter of ChemAxon is located in Budapest.\n",
      "The headquarter of {} is located in\n",
      "tensor(24.6406, device='cuda:0', dtype=torch.float16) tensor(18.8906, device='cuda:0', dtype=torch.float16)\n",
      "\n",
      "subject:  Ericsson\n",
      "The headquarter of United Airlines is located in Chicago.\n",
      "The headquarter of ChemAxon is located in Budapest.\n",
      "The headquarter of LG Chem is located in Seoul.\n",
      "The headquarter of {} is located in\n",
      "CUDA out of memory\n",
      "trying with smaller icl >>  2\n"
     ]
    },
    {
     "data": {
      "application/vnd.jupyter.widget-view+json": {
       "model_id": "cebb6ee448224350ac2fb54d3ae28c0f",
       "version_major": 2,
       "version_minor": 0
      },
      "text/plain": [
       "  0%|          | 0/5 [00:00<?, ?it/s]"
      ]
     },
     "metadata": {},
     "output_type": "display_data"
    },
    {
     "name": "stdout",
     "output_type": "stream",
     "text": [
      "subject:  ChemAxon\n",
      "The headquarter of United Airlines is located in Chicago.\n",
      "The headquarter of Lenovo is located in Beijing.\n",
      "The headquarter of {} is located in\n",
      "tensor(22.9688, device='cuda:0', dtype=torch.float16) tensor(18.6406, device='cuda:0', dtype=torch.float16)\n",
      "\n",
      "subject:  United Airlines\n",
      "The headquarter of Lenovo is located in Beijing.\n",
      "The headquarter of LG Chem is located in Seoul.\n",
      "The headquarter of {} is located in\n",
      "tensor(24.8281, device='cuda:0', dtype=torch.float16) tensor(19.5625, device='cuda:0', dtype=torch.float16)\n",
      "\n",
      "subject:  Ericsson\n",
      "The headquarter of United Airlines is located in Chicago.\n",
      "The headquarter of Lenovo is located in Beijing.\n",
      "The headquarter of {} is located in\n",
      "tensor(22.2344, device='cuda:0', dtype=torch.float16) tensor(18.2812, device='cuda:0', dtype=torch.float16)\n",
      "\n",
      "subject:  Lenovo\n",
      "The headquarter of Ericsson is located in Stockholm.\n",
      "The headquarter of LG Chem is located in Seoul.\n",
      "The headquarter of {} is located in\n",
      "tensor(30.1406, device='cuda:0', dtype=torch.float16) tensor(25.0938, device='cuda:0', dtype=torch.float16)\n",
      "\n",
      "subject:  LG Chem\n",
      "The headquarter of Ericsson is located in Stockholm.\n",
      "The headquarter of United Airlines is located in Chicago.\n",
      "The headquarter of {} is located in\n",
      "tensor(15.6328, device='cuda:0', dtype=torch.float16) tensor(11.6016, device='cuda:0', dtype=torch.float16)\n",
      "\n"
     ]
    },
    {
     "data": {
      "application/vnd.jupyter.widget-view+json": {
       "model_id": "a53aa9e795d649e88b8e5cd553de94b4",
       "version_major": 2,
       "version_minor": 0
      },
      "text/plain": [
       "  0%|          | 0/5 [00:00<?, ?it/s]"
      ]
     },
     "metadata": {},
     "output_type": "display_data"
    },
    {
     "name": "stdout",
     "output_type": "stream",
     "text": [
      "subject:  The Weather Channel\n",
      "The headquarter of LG Chem is located in Seoul.\n",
      "The headquarter of ChemAxon is located in Budapest.\n",
      "The headquarter of United Airlines is located in Chicago.\n",
      "The headquarter of {} is located in\n",
      "CUDA out of memory\n",
      "trying with smaller icl >>  2\n"
     ]
    },
    {
     "data": {
      "application/vnd.jupyter.widget-view+json": {
       "model_id": "a6bd79c1eede45ffb5a320fe2ba1829d",
       "version_major": 2,
       "version_minor": 0
      },
      "text/plain": [
       "  0%|          | 0/5 [00:00<?, ?it/s]"
      ]
     },
     "metadata": {},
     "output_type": "display_data"
    },
    {
     "name": "stdout",
     "output_type": "stream",
     "text": [
      "subject:  The Weather Channel\n",
      "The headquarter of ChemAxon is located in Budapest.\n",
      "The headquarter of LG Chem is located in Seoul.\n",
      "The headquarter of {} is located in\n",
      "tensor(21.5000, device='cuda:0', dtype=torch.float16) tensor(12.7969, device='cuda:0', dtype=torch.float16)\n",
      "\n",
      "subject:  LG Chem\n",
      "The headquarter of United Airlines is located in Chicago.\n",
      "The headquarter of ChemAxon is located in Budapest.\n",
      "The headquarter of {} is located in\n",
      "tensor(13.3750, device='cuda:0', dtype=torch.float16) tensor(9.6562, device='cuda:0', dtype=torch.float16)\n",
      "\n",
      "subject:  ChemAxon\n",
      "The headquarter of LG Chem is located in Seoul.\n",
      "The headquarter of The Weather Channel is located in Atlanta.\n",
      "The headquarter of {} is located in\n",
      "tensor(25.6406, device='cuda:0', dtype=torch.float16) tensor(20.4062, device='cuda:0', dtype=torch.float16)\n",
      "\n",
      "subject:  Stelco\n",
      "The headquarter of ChemAxon is located in Budapest.\n",
      "The headquarter of The Weather Channel is located in Atlanta.\n",
      "The headquarter of {} is located in\n",
      "tensor(26., device='cuda:0', dtype=torch.float16) tensor(19.2656, device='cuda:0', dtype=torch.float16)\n",
      "\n",
      "subject:  United Airlines\n",
      "The headquarter of The Weather Channel is located in Atlanta.\n",
      "The headquarter of Stelco is located in Hamilton.\n",
      "The headquarter of {} is located in\n",
      "tensor(25.5156, device='cuda:0', dtype=torch.float16) tensor(18.0156, device='cuda:0', dtype=torch.float16)\n",
      "\n"
     ]
    },
    {
     "data": {
      "application/vnd.jupyter.widget-view+json": {
       "model_id": "5609145e794e4eaab49465ceee539957",
       "version_major": 2,
       "version_minor": 0
      },
      "text/plain": [
       "  0%|          | 0/5 [00:00<?, ?it/s]"
      ]
     },
     "metadata": {},
     "output_type": "display_data"
    },
    {
     "name": "stdout",
     "output_type": "stream",
     "text": [
      "subject:  Interpol\n",
      "The headquarter of United Airlines is located in Chicago.\n",
      "The headquarter of Stelco is located in Hamilton.\n",
      "The headquarter of LG Chem is located in Seoul.\n",
      "The headquarter of {} is located in\n",
      "tensor(41.6562, device='cuda:0', dtype=torch.float16) tensor(18.4219, device='cuda:0', dtype=torch.float16)\n",
      "\n",
      "subject:  Serono\n",
      "The headquarter of LG Chem is located in Seoul.\n",
      "The headquarter of United Airlines is located in Chicago.\n",
      "The headquarter of Stelco is located in Hamilton.\n",
      "The headquarter of {} is located in\n",
      "tensor(35.4688, device='cuda:0', dtype=torch.float16) tensor(24.2188, device='cuda:0', dtype=torch.float16)\n",
      "\n",
      "subject:  LG Chem\n",
      "The headquarter of United Airlines is located in Chicago.\n",
      "The headquarter of Serono is located in Geneva.\n",
      "The headquarter of Stelco is located in Hamilton.\n",
      "The headquarter of {} is located in\n",
      "tensor(17.3750, device='cuda:0', dtype=torch.float16) tensor(12.2422, device='cuda:0', dtype=torch.float16)\n",
      "\n",
      "subject:  United Airlines\n",
      "The headquarter of Interpol is located in Lyon.\n",
      "The headquarter of Serono is located in Geneva.\n",
      "The headquarter of Stelco is located in Hamilton.\n",
      "The headquarter of {} is located in\n",
      "tensor(22.5625, device='cuda:0', dtype=torch.float16) tensor(17.1562, device='cuda:0', dtype=torch.float16)\n",
      "\n",
      "subject:  Stelco\n",
      "The headquarter of LG Chem is located in Seoul.\n",
      "The headquarter of Interpol is located in Lyon.\n",
      "The headquarter of United Airlines is located in Chicago.\n",
      "The headquarter of {} is located in\n",
      "tensor(25.4062, device='cuda:0', dtype=torch.float16) tensor(17.0938, device='cuda:0', dtype=torch.float16)\n",
      "\n"
     ]
    },
    {
     "data": {
      "application/vnd.jupyter.widget-view+json": {
       "model_id": "05e4a16c6f474c01a3041b559359110e",
       "version_major": 2,
       "version_minor": 0
      },
      "text/plain": [
       "  0%|          | 0/5 [00:00<?, ?it/s]"
      ]
     },
     "metadata": {},
     "output_type": "display_data"
    },
    {
     "name": "stdout",
     "output_type": "stream",
     "text": [
      "subject:  Serono\n",
      "The headquarter of ChemAxon is located in Budapest.\n",
      "The headquarter of Lenovo is located in Beijing.\n",
      "The headquarter of SoundCloud is located in Berlin.\n",
      "The headquarter of {} is located in\n",
      "tensor(31.3125, device='cuda:0', dtype=torch.float16) tensor(23.0938, device='cuda:0', dtype=torch.float16)\n",
      "\n",
      "subject:  SoundCloud\n",
      "The headquarter of ChemAxon is located in Budapest.\n",
      "The headquarter of LG Chem is located in Seoul.\n",
      "The headquarter of Serono is located in Geneva.\n",
      "The headquarter of {} is located in\n",
      "CUDA out of memory\n",
      "trying with smaller icl >>  2\n"
     ]
    },
    {
     "data": {
      "application/vnd.jupyter.widget-view+json": {
       "model_id": "118ff4df6b0f4dc4874e04f4f189e947",
       "version_major": 2,
       "version_minor": 0
      },
      "text/plain": [
       "  0%|          | 0/5 [00:00<?, ?it/s]"
      ]
     },
     "metadata": {},
     "output_type": "display_data"
    },
    {
     "name": "stdout",
     "output_type": "stream",
     "text": [
      "subject:  Serono\n",
      "The headquarter of SoundCloud is located in Berlin.\n",
      "The headquarter of LG Chem is located in Seoul.\n",
      "The headquarter of {} is located in\n",
      "tensor(33.1562, device='cuda:0', dtype=torch.float16) tensor(24.3125, device='cuda:0', dtype=torch.float16)\n",
      "\n",
      "subject:  SoundCloud\n",
      "The headquarter of ChemAxon is located in Budapest.\n",
      "The headquarter of LG Chem is located in Seoul.\n",
      "The headquarter of {} is located in\n",
      "tensor(22.0781, device='cuda:0', dtype=torch.float16) tensor(13.9141, device='cuda:0', dtype=torch.float16)\n",
      "\n",
      "subject:  Lenovo\n",
      "The headquarter of LG Chem is located in Seoul.\n",
      "The headquarter of Serono is located in Geneva.\n",
      "The headquarter of {} is located in\n",
      "tensor(33.2188, device='cuda:0', dtype=torch.float16) tensor(25.4375, device='cuda:0', dtype=torch.float16)\n",
      "\n",
      "subject:  ChemAxon\n",
      "The headquarter of Lenovo is located in Beijing.\n",
      "The headquarter of Serono is located in Geneva.\n",
      "The headquarter of {} is located in\n",
      "tensor(24.1875, device='cuda:0', dtype=torch.float16) tensor(17.7344, device='cuda:0', dtype=torch.float16)\n",
      "\n",
      "subject:  LG Chem\n",
      "The headquarter of ChemAxon is located in Budapest.\n",
      "The headquarter of Lenovo is located in Beijing.\n",
      "The headquarter of {} is located in\n",
      "tensor(12.3594, device='cuda:0', dtype=torch.float16) tensor(8.8125, device='cuda:0', dtype=torch.float16)\n",
      "\n"
     ]
    },
    {
     "data": {
      "application/vnd.jupyter.widget-view+json": {
       "model_id": "3cbbdf9e4e75407cb4503f5234a9df25",
       "version_major": 2,
       "version_minor": 0
      },
      "text/plain": [
       "  0%|          | 0/5 [00:00<?, ?it/s]"
      ]
     },
     "metadata": {},
     "output_type": "display_data"
    },
    {
     "name": "stdout",
     "output_type": "stream",
     "text": [
      "subject:  Stelco\n",
      "The headquarter of SoundCloud is located in Berlin.\n",
      "The headquarter of The Weather Channel is located in Atlanta.\n",
      "The headquarter of ChemAxon is located in Budapest.\n",
      "The headquarter of {} is located in\n",
      "CUDA out of memory\n",
      "trying with smaller icl >>  2\n"
     ]
    },
    {
     "data": {
      "application/vnd.jupyter.widget-view+json": {
       "model_id": "f7017133ba404bf9ad7008aaaa2d288f",
       "version_major": 2,
       "version_minor": 0
      },
      "text/plain": [
       "  0%|          | 0/5 [00:00<?, ?it/s]"
      ]
     },
     "metadata": {},
     "output_type": "display_data"
    },
    {
     "name": "stdout",
     "output_type": "stream",
     "text": [
      "subject:  Stelco\n",
      "The headquarter of SoundCloud is located in Berlin.\n",
      "The headquarter of ChemAxon is located in Budapest.\n",
      "The headquarter of {} is located in\n",
      "tensor(13., device='cuda:0', dtype=torch.float16) tensor(9.2266, device='cuda:0', dtype=torch.float16)\n",
      "\n",
      "subject:  SoundCloud\n",
      "The headquarter of Stelco is located in Hamilton.\n",
      "The headquarter of Serono is located in Geneva.\n",
      "The headquarter of {} is located in\n",
      "tensor(26.1562, device='cuda:0', dtype=torch.float16) tensor(18.2656, device='cuda:0', dtype=torch.float16)\n",
      "\n",
      "subject:  Serono\n",
      "The headquarter of ChemAxon is located in Budapest.\n",
      "The headquarter of SoundCloud is located in Berlin.\n",
      "The headquarter of {} is located in\n",
      "tensor(32.8438, device='cuda:0', dtype=torch.float16) tensor(23.4531, device='cuda:0', dtype=torch.float16)\n",
      "\n",
      "subject:  The Weather Channel\n",
      "The headquarter of ChemAxon is located in Budapest.\n",
      "The headquarter of Stelco is located in Hamilton.\n",
      "The headquarter of {} is located in\n",
      "tensor(20.6094, device='cuda:0', dtype=torch.float16) tensor(12.0781, device='cuda:0', dtype=torch.float16)\n",
      "\n",
      "subject:  ChemAxon\n",
      "The headquarter of Stelco is located in Hamilton.\n",
      "The headquarter of Serono is located in Geneva.\n",
      "The headquarter of {} is located in\n",
      "tensor(27.2188, device='cuda:0', dtype=torch.float16) tensor(20.3281, device='cuda:0', dtype=torch.float16)\n",
      "\n"
     ]
    },
    {
     "data": {
      "application/vnd.jupyter.widget-view+json": {
       "model_id": "e7427473a2814e7b9c0729026956cdbf",
       "version_major": 2,
       "version_minor": 0
      },
      "text/plain": [
       "  0%|          | 0/5 [00:00<?, ?it/s]"
      ]
     },
     "metadata": {},
     "output_type": "display_data"
    },
    {
     "name": "stdout",
     "output_type": "stream",
     "text": [
      "subject:  Stelco\n",
      "The headquarter of SoundCloud is located in Berlin.\n",
      "The headquarter of The Weather Channel is located in Atlanta.\n",
      "The headquarter of Lenovo is located in Beijing.\n",
      "The headquarter of {} is located in\n",
      "tensor(22.2969, device='cuda:0', dtype=torch.float16) tensor(17.5938, device='cuda:0', dtype=torch.float16)\n",
      "\n",
      "subject:  Ericsson\n",
      "The headquarter of Lenovo is located in Beijing.\n",
      "The headquarter of Stelco is located in Hamilton.\n",
      "The headquarter of SoundCloud is located in Berlin.\n",
      "The headquarter of {} is located in\n",
      "tensor(23.2188, device='cuda:0', dtype=torch.float16) tensor(19.8125, device='cuda:0', dtype=torch.float16)\n",
      "\n",
      "subject:  Lenovo\n",
      "The headquarter of The Weather Channel is located in Atlanta.\n",
      "The headquarter of Stelco is located in Hamilton.\n",
      "The headquarter of Ericsson is located in Stockholm.\n",
      "The headquarter of {} is located in\n",
      "CUDA out of memory\n",
      "trying with smaller icl >>  2\n"
     ]
    },
    {
     "data": {
      "application/vnd.jupyter.widget-view+json": {
       "model_id": "64198d4a841e496eb27996eb5ecf79cb",
       "version_major": 2,
       "version_minor": 0
      },
      "text/plain": [
       "  0%|          | 0/5 [00:00<?, ?it/s]"
      ]
     },
     "metadata": {},
     "output_type": "display_data"
    },
    {
     "name": "stdout",
     "output_type": "stream",
     "text": [
      "subject:  Stelco\n",
      "The headquarter of Lenovo is located in Beijing.\n",
      "The headquarter of SoundCloud is located in Berlin.\n",
      "The headquarter of {} is located in\n",
      "tensor(16.8750, device='cuda:0', dtype=torch.float16) tensor(12.2344, device='cuda:0', dtype=torch.float16)\n",
      "\n",
      "subject:  Ericsson\n",
      "The headquarter of The Weather Channel is located in Atlanta.\n",
      "The headquarter of Lenovo is located in Beijing.\n",
      "The headquarter of {} is located in\n",
      "tensor(21.8125, device='cuda:0', dtype=torch.float16) tensor(18.2031, device='cuda:0', dtype=torch.float16)\n",
      "\n",
      "subject:  Lenovo\n",
      "The headquarter of The Weather Channel is located in Atlanta.\n",
      "The headquarter of SoundCloud is located in Berlin.\n",
      "The headquarter of {} is located in\n",
      "tensor(32.3750, device='cuda:0', dtype=torch.float16) tensor(27.7188, device='cuda:0', dtype=torch.float16)\n",
      "\n",
      "subject:  SoundCloud\n",
      "The headquarter of Lenovo is located in Beijing.\n",
      "The headquarter of Stelco is located in Hamilton.\n",
      "The headquarter of {} is located in\n",
      "tensor(23.8750, device='cuda:0', dtype=torch.float16) tensor(16.0938, device='cuda:0', dtype=torch.float16)\n",
      "\n",
      "subject:  The Weather Channel\n",
      "The headquarter of Lenovo is located in Beijing.\n",
      "The headquarter of Ericsson is located in Stockholm.\n",
      "The headquarter of {} is located in\n",
      "tensor(22.0312, device='cuda:0', dtype=torch.float16) tensor(13.0703, device='cuda:0', dtype=torch.float16)\n",
      "\n",
      "Saving weights and biases >>  gpt-j/jacobians_averaged_collection/after__ln_f/P159.npz\n",
      "----------------------------------------------------\n",
      "zzzzzzzzzzzzzzzzzzzzzzzzzzzzzzzzzzzzzzzzzzzzzzzzzzzz\n",
      "P20 {} died in the city of\n",
      "zzzzzzzzzzzzzzzzzzzzzzzzzzzzzzzzzzzzzzzzzzzzzzzzzzzz\n",
      "144\n",
      "{} died in the city of\n"
     ]
    },
    {
     "data": {
      "application/vnd.jupyter.widget-view+json": {
       "model_id": "8fd81f8475f94a26aa8a6f284158c816",
       "version_major": 2,
       "version_minor": 0
      },
      "text/plain": [
       "  0%|          | 0/10 [00:00<?, ?it/s]"
      ]
     },
     "metadata": {},
     "output_type": "display_data"
    },
    {
     "data": {
      "application/vnd.jupyter.widget-view+json": {
       "model_id": "bfed543224104526b1a989874563862b",
       "version_major": 2,
       "version_minor": 0
      },
      "text/plain": [
       "  0%|          | 0/5 [00:00<?, ?it/s]"
      ]
     },
     "metadata": {},
     "output_type": "display_data"
    },
    {
     "name": "stdout",
     "output_type": "stream",
     "text": [
      "subject:  Francisco Franco\n",
      "Rosa Parks died in the city of Detroit.\n",
      "Fred Hampton died in the city of Chicago.\n",
      "Michael II died in the city of Constantinople.\n",
      "{} died in the city of\n",
      "tensor(3.3359, device='cuda:0', dtype=torch.float16) tensor(39.5938, device='cuda:0', dtype=torch.float16)\n",
      "\n",
      "subject:  Donatello\n",
      "Fred Hampton died in the city of Chicago.\n",
      "Michael II died in the city of Constantinople.\n",
      "Francisco Franco died in the city of Madrid.\n",
      "{} died in the city of\n",
      "tensor(5.0469, device='cuda:0', dtype=torch.float16) tensor(7.4453, device='cuda:0', dtype=torch.float16)\n",
      "\n",
      "subject:  Rosa Parks\n",
      "Donatello died in the city of Florence.\n",
      "Francisco Franco died in the city of Madrid.\n",
      "Michael II died in the city of Constantinople.\n",
      "{} died in the city of\n",
      "tensor(10.6797, device='cuda:0', dtype=torch.float16) tensor(29.2500, device='cuda:0', dtype=torch.float16)\n",
      "\n",
      "subject:  Michael II\n",
      "Francisco Franco died in the city of Madrid.\n",
      "Fred Hampton died in the city of Chicago.\n",
      "Rosa Parks died in the city of Detroit.\n",
      "{} died in the city of\n",
      "tensor(5.9023, device='cuda:0', dtype=torch.float16) tensor(5.4414, device='cuda:0', dtype=torch.float16)\n",
      "\n",
      "subject:  Fred Hampton\n",
      "Francisco Franco died in the city of Madrid.\n",
      "Donatello died in the city of Florence.\n",
      "Michael II died in the city of Constantinople.\n",
      "{} died in the city of\n",
      "tensor(5.4648, device='cuda:0', dtype=torch.float16) tensor(8.3203, device='cuda:0', dtype=torch.float16)\n",
      "\n"
     ]
    },
    {
     "data": {
      "application/vnd.jupyter.widget-view+json": {
       "model_id": "74cd30411bca440498920b865781b142",
       "version_major": 2,
       "version_minor": 0
      },
      "text/plain": [
       "  0%|          | 0/5 [00:00<?, ?it/s]"
      ]
     },
     "metadata": {},
     "output_type": "display_data"
    },
    {
     "name": "stdout",
     "output_type": "stream",
     "text": [
      "subject:  Rosa Parks\n",
      "Fred Hampton died in the city of Chicago.\n",
      "Samuel Adams died in the city of Boston.\n",
      "Nicholas V died in the city of Rome.\n",
      "{} died in the city of\n",
      "tensor(8.8594, device='cuda:0', dtype=torch.float16) tensor(14.8516, device='cuda:0', dtype=torch.float16)\n",
      "\n",
      "subject:  Nicholas V\n",
      "Rosa Parks died in the city of Detroit.\n",
      "Fred Hampton died in the city of Chicago.\n",
      "Charles Cowper died in the city of London.\n",
      "{} died in the city of\n",
      "tensor(6.2500, device='cuda:0', dtype=torch.float16) tensor(39.8438, device='cuda:0', dtype=torch.float16)\n",
      "\n",
      "subject:  Charles Cowper\n",
      "Fred Hampton died in the city of Chicago.\n",
      "Nicholas V died in the city of Rome.\n",
      "Samuel Adams died in the city of Boston.\n",
      "{} died in the city of\n",
      "tensor(4.4531, device='cuda:0', dtype=torch.float16) tensor(8.0234, device='cuda:0', dtype=torch.float16)\n",
      "\n",
      "subject:  Samuel Adams\n",
      "Fred Hampton died in the city of Chicago.\n",
      "Rosa Parks died in the city of Detroit.\n",
      "Charles Cowper died in the city of London.\n",
      "{} died in the city of\n",
      "tensor(3.8770, device='cuda:0', dtype=torch.float16) tensor(7.9531, device='cuda:0', dtype=torch.float16)\n",
      "\n",
      "subject:  Fred Hampton\n",
      "Rosa Parks died in the city of Detroit.\n",
      "Nicholas V died in the city of Rome.\n",
      "Samuel Adams died in the city of Boston.\n",
      "{} died in the city of\n",
      "tensor(7.1797, device='cuda:0', dtype=torch.float16) tensor(40.0312, device='cuda:0', dtype=torch.float16)\n",
      "\n"
     ]
    },
    {
     "data": {
      "application/vnd.jupyter.widget-view+json": {
       "model_id": "82d2cf5cba0a4664b6a8aaa7abba04a3",
       "version_major": 2,
       "version_minor": 0
      },
      "text/plain": [
       "  0%|          | 0/5 [00:00<?, ?it/s]"
      ]
     },
     "metadata": {},
     "output_type": "display_data"
    },
    {
     "name": "stdout",
     "output_type": "stream",
     "text": [
      "subject:  Rosa Parks\n",
      "Donatello died in the city of Florence.\n",
      "Fred Hampton died in the city of Chicago.\n",
      "Francisco Franco died in the city of Madrid.\n",
      "{} died in the city of\n",
      "tensor(13.2266, device='cuda:0', dtype=torch.float16) tensor(30.2812, device='cuda:0', dtype=torch.float16)\n",
      "\n",
      "subject:  Donatello\n",
      "Michael II died in the city of Constantinople.\n",
      "Rosa Parks died in the city of Detroit.\n",
      "Francisco Franco died in the city of Madrid.\n",
      "{} died in the city of\n",
      "tensor(4.0547, device='cuda:0', dtype=torch.float16) tensor(38.5938, device='cuda:0', dtype=torch.float16)\n",
      "\n",
      "subject:  Francisco Franco\n",
      "Donatello died in the city of Florence.\n",
      "Rosa Parks died in the city of Detroit.\n",
      "Fred Hampton died in the city of Chicago.\n",
      "{} died in the city of\n",
      "tensor(3.4492, device='cuda:0', dtype=torch.float16) tensor(24.3281, device='cuda:0', dtype=torch.float16)\n",
      "\n",
      "subject:  Fred Hampton\n",
      "Donatello died in the city of Florence.\n",
      "Michael II died in the city of Constantinople.\n",
      "Francisco Franco died in the city of Madrid.\n",
      "{} died in the city of\n",
      "tensor(6.5781, device='cuda:0', dtype=torch.float16) tensor(25.5312, device='cuda:0', dtype=torch.float16)\n",
      "\n",
      "subject:  Michael II\n",
      "Rosa Parks died in the city of Detroit.\n",
      "Fred Hampton died in the city of Chicago.\n",
      "Donatello died in the city of Florence.\n",
      "{} died in the city of\n",
      "tensor(5.5430, device='cuda:0', dtype=torch.float16) tensor(39.7500, device='cuda:0', dtype=torch.float16)\n",
      "\n"
     ]
    },
    {
     "data": {
      "application/vnd.jupyter.widget-view+json": {
       "model_id": "871d67d6fa5248eab406ce6e9ebe3391",
       "version_major": 2,
       "version_minor": 0
      },
      "text/plain": [
       "  0%|          | 0/5 [00:00<?, ?it/s]"
      ]
     },
     "metadata": {},
     "output_type": "display_data"
    },
    {
     "name": "stdout",
     "output_type": "stream",
     "text": [
      "subject:  Francisco Franco\n",
      "Samuel Adams died in the city of Boston.\n",
      "Michael II died in the city of Constantinople.\n",
      "Donatello died in the city of Florence.\n",
      "{} died in the city of\n",
      "tensor(2.8105, device='cuda:0', dtype=torch.float16) tensor(12.3750, device='cuda:0', dtype=torch.float16)\n",
      "\n",
      "subject:  Samuel Adams\n",
      "Michael II died in the city of Constantinople.\n",
      "Nicholas V died in the city of Rome.\n",
      "Donatello died in the city of Florence.\n",
      "{} died in the city of\n",
      "tensor(5.0625, device='cuda:0', dtype=torch.float16) tensor(39.0938, device='cuda:0', dtype=torch.float16)\n",
      "\n",
      "subject:  Michael II\n",
      "Samuel Adams died in the city of Boston.\n",
      "Francisco Franco died in the city of Madrid.\n",
      "Donatello died in the city of Florence.\n",
      "{} died in the city of\n",
      "tensor(7.7773, device='cuda:0', dtype=torch.float16) tensor(14.7188, device='cuda:0', dtype=torch.float16)\n",
      "\n",
      "subject:  Nicholas V\n",
      "Donatello died in the city of Florence.\n",
      "Francisco Franco died in the city of Madrid.\n",
      "Michael II died in the city of Constantinople.\n",
      "{} died in the city of\n",
      "tensor(8.7109, device='cuda:0', dtype=torch.float16) tensor(25.4688, device='cuda:0', dtype=torch.float16)\n",
      "\n",
      "subject:  Donatello\n",
      "Michael II died in the city of Constantinople.\n",
      "Francisco Franco died in the city of Madrid.\n",
      "Samuel Adams died in the city of Boston.\n",
      "{} died in the city of\n",
      "tensor(5.8242, device='cuda:0', dtype=torch.float16) tensor(38.8125, device='cuda:0', dtype=torch.float16)\n",
      "\n"
     ]
    },
    {
     "data": {
      "application/vnd.jupyter.widget-view+json": {
       "model_id": "0d98c92101b04f52b867708a8eb820aa",
       "version_major": 2,
       "version_minor": 0
      },
      "text/plain": [
       "  0%|          | 0/5 [00:00<?, ?it/s]"
      ]
     },
     "metadata": {},
     "output_type": "display_data"
    },
    {
     "name": "stdout",
     "output_type": "stream",
     "text": [
      "subject:  Samuel Adams\n",
      "Rosa Parks died in the city of Detroit.\n",
      "Francisco Franco died in the city of Madrid.\n",
      "Nicholas V died in the city of Rome.\n",
      "{} died in the city of\n",
      "tensor(5.5078, device='cuda:0', dtype=torch.float16) tensor(40.1250, device='cuda:0', dtype=torch.float16)\n",
      "\n",
      "subject:  Fred Hampton\n",
      "Rosa Parks died in the city of Detroit.\n",
      "Nicholas V died in the city of Rome.\n",
      "Francisco Franco died in the city of Madrid.\n",
      "{} died in the city of\n",
      "tensor(7.8359, device='cuda:0', dtype=torch.float16) tensor(40.2188, device='cuda:0', dtype=torch.float16)\n",
      "\n",
      "subject:  Nicholas V\n",
      "Fred Hampton died in the city of Chicago.\n",
      "Samuel Adams died in the city of Boston.\n",
      "Rosa Parks died in the city of Detroit.\n",
      "{} died in the city of\n",
      "tensor(7.4922, device='cuda:0', dtype=torch.float16) tensor(10.1094, device='cuda:0', dtype=torch.float16)\n",
      "\n",
      "subject:  Francisco Franco\n",
      "Nicholas V died in the city of Rome.\n",
      "Rosa Parks died in the city of Detroit.\n",
      "Fred Hampton died in the city of Chicago.\n",
      "{} died in the city of\n",
      "tensor(3.2637, device='cuda:0', dtype=torch.float16) tensor(5.1641, device='cuda:0', dtype=torch.float16)\n",
      "\n",
      "subject:  Rosa Parks\n",
      "Francisco Franco died in the city of Madrid.\n",
      "Fred Hampton died in the city of Chicago.\n",
      "Nicholas V died in the city of Rome.\n",
      "{} died in the city of\n",
      "tensor(11.4609, device='cuda:0', dtype=torch.float16) tensor(16.7969, device='cuda:0', dtype=torch.float16)\n",
      "\n"
     ]
    },
    {
     "data": {
      "application/vnd.jupyter.widget-view+json": {
       "model_id": "4d369aa219ea4051aa2a20f6eac967f5",
       "version_major": 2,
       "version_minor": 0
      },
      "text/plain": [
       "  0%|          | 0/5 [00:00<?, ?it/s]"
      ]
     },
     "metadata": {},
     "output_type": "display_data"
    },
    {
     "name": "stdout",
     "output_type": "stream",
     "text": [
      "subject:  Fred Hampton\n",
      "Rosa Parks died in the city of Detroit.\n",
      "Francisco Franco died in the city of Madrid.\n",
      "Samuel Adams died in the city of Boston.\n",
      "{} died in the city of\n",
      "tensor(8.3125, device='cuda:0', dtype=torch.float16) tensor(40.1562, device='cuda:0', dtype=torch.float16)\n",
      "\n",
      "subject:  Francisco Franco\n",
      "Samuel Adams died in the city of Boston.\n",
      "Fred Hampton died in the city of Chicago.\n",
      "Donatello died in the city of Florence.\n",
      "{} died in the city of\n",
      "tensor(3.0449, device='cuda:0', dtype=torch.float16) tensor(12.4609, device='cuda:0', dtype=torch.float16)\n",
      "\n",
      "subject:  Donatello\n",
      "Fred Hampton died in the city of Chicago.\n",
      "Rosa Parks died in the city of Detroit.\n",
      "Samuel Adams died in the city of Boston.\n",
      "{} died in the city of\n",
      "tensor(3.9004, device='cuda:0', dtype=torch.float16) tensor(7.1211, device='cuda:0', dtype=torch.float16)\n",
      "\n",
      "subject:  Rosa Parks\n",
      "Donatello died in the city of Florence.\n",
      "Fred Hampton died in the city of Chicago.\n",
      "Samuel Adams died in the city of Boston.\n",
      "{} died in the city of\n",
      "tensor(10.7578, device='cuda:0', dtype=torch.float16) tensor(29.8125, device='cuda:0', dtype=torch.float16)\n",
      "\n",
      "subject:  Samuel Adams\n",
      "Donatello died in the city of Florence.\n",
      "Rosa Parks died in the city of Detroit.\n",
      "Fred Hampton died in the city of Chicago.\n",
      "{} died in the city of\n",
      "tensor(5.5352, device='cuda:0', dtype=torch.float16) tensor(25.4219, device='cuda:0', dtype=torch.float16)\n",
      "\n"
     ]
    },
    {
     "data": {
      "application/vnd.jupyter.widget-view+json": {
       "model_id": "02b798509eb64c6599009fcfc82a5188",
       "version_major": 2,
       "version_minor": 0
      },
      "text/plain": [
       "  0%|          | 0/5 [00:00<?, ?it/s]"
      ]
     },
     "metadata": {},
     "output_type": "display_data"
    },
    {
     "name": "stdout",
     "output_type": "stream",
     "text": [
      "subject:  Rosa Parks\n",
      "Charles Cowper died in the city of London.\n",
      "Donatello died in the city of Florence.\n",
      "Francisco Franco died in the city of Madrid.\n",
      "{} died in the city of\n",
      "tensor(10.7109, device='cuda:0', dtype=torch.float16) tensor(29.6406, device='cuda:0', dtype=torch.float16)\n",
      "\n",
      "subject:  Charles Cowper\n",
      "Francisco Franco died in the city of Madrid.\n",
      "Rosa Parks died in the city of Detroit.\n",
      "Donatello died in the city of Florence.\n",
      "{} died in the city of\n",
      "tensor(4.0352, device='cuda:0', dtype=torch.float16) tensor(4.6133, device='cuda:0', dtype=torch.float16)\n",
      "\n",
      "subject:  Francisco Franco\n",
      "Donatello died in the city of Florence.\n",
      "Samuel Adams died in the city of Boston.\n",
      "Rosa Parks died in the city of Detroit.\n",
      "{} died in the city of\n",
      "tensor(3.5566, device='cuda:0', dtype=torch.float16) tensor(24.4062, device='cuda:0', dtype=torch.float16)\n",
      "\n",
      "subject:  Donatello\n",
      "Francisco Franco died in the city of Madrid.\n",
      "Charles Cowper died in the city of London.\n",
      "Rosa Parks died in the city of Detroit.\n",
      "{} died in the city of\n",
      "tensor(3.5898, device='cuda:0', dtype=torch.float16) tensor(3.0898, device='cuda:0', dtype=torch.float16)\n",
      "\n",
      "subject:  Samuel Adams\n",
      "Donatello died in the city of Florence.\n",
      "Francisco Franco died in the city of Madrid.\n",
      "Charles Cowper died in the city of London.\n",
      "{} died in the city of\n",
      "tensor(4.2773, device='cuda:0', dtype=torch.float16) tensor(24.8438, device='cuda:0', dtype=torch.float16)\n",
      "\n"
     ]
    },
    {
     "data": {
      "application/vnd.jupyter.widget-view+json": {
       "model_id": "7021c196f6254439b15e754a325609dd",
       "version_major": 2,
       "version_minor": 0
      },
      "text/plain": [
       "  0%|          | 0/5 [00:00<?, ?it/s]"
      ]
     },
     "metadata": {},
     "output_type": "display_data"
    },
    {
     "name": "stdout",
     "output_type": "stream",
     "text": [
      "subject:  Nicholas V\n",
      "Francisco Franco died in the city of Madrid.\n",
      "Samuel Adams died in the city of Boston.\n",
      "Michael II died in the city of Constantinople.\n",
      "{} died in the city of\n",
      "tensor(7.0781, device='cuda:0', dtype=torch.float16) tensor(7.0859, device='cuda:0', dtype=torch.float16)\n",
      "\n",
      "subject:  Francisco Franco\n",
      "Michael II died in the city of Constantinople.\n",
      "Rosa Parks died in the city of Detroit.\n",
      "Nicholas V died in the city of Rome.\n",
      "{} died in the city of\n",
      "tensor(2.7930, device='cuda:0', dtype=torch.float16) tensor(38.5938, device='cuda:0', dtype=torch.float16)\n",
      "\n",
      "subject:  Samuel Adams\n",
      "Michael II died in the city of Constantinople.\n",
      "Nicholas V died in the city of Rome.\n",
      "Rosa Parks died in the city of Detroit.\n",
      "{} died in the city of\n",
      "tensor(5.2070, device='cuda:0', dtype=torch.float16) tensor(39.1562, device='cuda:0', dtype=torch.float16)\n",
      "\n",
      "subject:  Michael II\n",
      "Samuel Adams died in the city of Boston.\n",
      "Rosa Parks died in the city of Detroit.\n",
      "Nicholas V died in the city of Rome.\n",
      "{} died in the city of\n",
      "tensor(8.2266, device='cuda:0', dtype=torch.float16) tensor(13.7109, device='cuda:0', dtype=torch.float16)\n",
      "\n",
      "subject:  Rosa Parks\n",
      "Michael II died in the city of Constantinople.\n",
      "Nicholas V died in the city of Rome.\n",
      "Samuel Adams died in the city of Boston.\n",
      "{} died in the city of\n",
      "tensor(8.8906, device='cuda:0', dtype=torch.float16) tensor(40.7812, device='cuda:0', dtype=torch.float16)\n",
      "\n"
     ]
    },
    {
     "data": {
      "application/vnd.jupyter.widget-view+json": {
       "model_id": "469721f245e24bfcaa0ec4243d35f1a3",
       "version_major": 2,
       "version_minor": 0
      },
      "text/plain": [
       "  0%|          | 0/5 [00:00<?, ?it/s]"
      ]
     },
     "metadata": {},
     "output_type": "display_data"
    },
    {
     "name": "stdout",
     "output_type": "stream",
     "text": [
      "subject:  Rosa Parks\n",
      "Charles Cowper died in the city of London.\n",
      "Nicholas V died in the city of Rome.\n",
      "Fred Hampton died in the city of Chicago.\n",
      "{} died in the city of\n",
      "tensor(11.2812, device='cuda:0', dtype=torch.float16) tensor(29.1562, device='cuda:0', dtype=torch.float16)\n",
      "\n",
      "subject:  Charles Cowper\n",
      "Rosa Parks died in the city of Detroit.\n",
      "Nicholas V died in the city of Rome.\n",
      "Fred Hampton died in the city of Chicago.\n",
      "{} died in the city of\n",
      "tensor(3.4785, device='cuda:0', dtype=torch.float16) tensor(39.5625, device='cuda:0', dtype=torch.float16)\n",
      "\n",
      "subject:  Fred Hampton\n",
      "Nicholas V died in the city of Rome.\n",
      "Rosa Parks died in the city of Detroit.\n",
      "Charles Cowper died in the city of London.\n",
      "{} died in the city of\n",
      "tensor(4.7148, device='cuda:0', dtype=torch.float16) tensor(6.6367, device='cuda:0', dtype=torch.float16)\n",
      "\n",
      "subject:  Nicholas V\n",
      "Donatello died in the city of Florence.\n",
      "Rosa Parks died in the city of Detroit.\n",
      "Charles Cowper died in the city of London.\n",
      "{} died in the city of\n",
      "tensor(6.7812, device='cuda:0', dtype=torch.float16) tensor(24.8438, device='cuda:0', dtype=torch.float16)\n",
      "\n",
      "subject:  Donatello\n",
      "Charles Cowper died in the city of London.\n",
      "Nicholas V died in the city of Rome.\n",
      "Fred Hampton died in the city of Chicago.\n",
      "{} died in the city of\n",
      "tensor(4.7070, device='cuda:0', dtype=torch.float16) tensor(25.4844, device='cuda:0', dtype=torch.float16)\n",
      "\n"
     ]
    },
    {
     "data": {
      "application/vnd.jupyter.widget-view+json": {
       "model_id": "21a7bbe6df6a40cb93fc0360a434c90c",
       "version_major": 2,
       "version_minor": 0
      },
      "text/plain": [
       "  0%|          | 0/5 [00:00<?, ?it/s]"
      ]
     },
     "metadata": {},
     "output_type": "display_data"
    },
    {
     "name": "stdout",
     "output_type": "stream",
     "text": [
      "subject:  Samuel Adams\n",
      "Michael II died in the city of Constantinople.\n",
      "Nicholas V died in the city of Rome.\n",
      "Charles Cowper died in the city of London.\n",
      "{} died in the city of\n",
      "tensor(2.6406, device='cuda:0', dtype=torch.float16) tensor(38.6250, device='cuda:0', dtype=torch.float16)\n",
      "\n",
      "subject:  Fred Hampton\n",
      "Samuel Adams died in the city of Boston.\n",
      "Charles Cowper died in the city of London.\n",
      "Michael II died in the city of Constantinople.\n",
      "{} died in the city of\n",
      "tensor(3.8574, device='cuda:0', dtype=torch.float16) tensor(12.7266, device='cuda:0', dtype=torch.float16)\n",
      "\n",
      "subject:  Charles Cowper\n",
      "Michael II died in the city of Constantinople.\n",
      "Fred Hampton died in the city of Chicago.\n",
      "Samuel Adams died in the city of Boston.\n",
      "{} died in the city of\n",
      "tensor(3.7383, device='cuda:0', dtype=torch.float16) tensor(38.6562, device='cuda:0', dtype=torch.float16)\n",
      "\n",
      "subject:  Michael II\n",
      "Samuel Adams died in the city of Boston.\n",
      "Nicholas V died in the city of Rome.\n",
      "Fred Hampton died in the city of Chicago.\n",
      "{} died in the city of\n",
      "tensor(5.3359, device='cuda:0', dtype=torch.float16) tensor(12.6016, device='cuda:0', dtype=torch.float16)\n",
      "\n",
      "subject:  Nicholas V\n",
      "Michael II died in the city of Constantinople.\n",
      "Charles Cowper died in the city of London.\n",
      "Fred Hampton died in the city of Chicago.\n",
      "{} died in the city of\n",
      "tensor(4.2969, device='cuda:0', dtype=torch.float16) tensor(38.5625, device='cuda:0', dtype=torch.float16)\n",
      "\n",
      "Saving weights and biases >>  gpt-j/jacobians_averaged_collection/after__ln_f/P20.npz\n",
      "----------------------------------------------------\n",
      "zzzzzzzzzzzzzzzzzzzzzzzzzzzzzzzzzzzzzzzzzzzzzzzzzzzz\n",
      "P106 The profession of {} is\n",
      "zzzzzzzzzzzzzzzzzzzzzzzzzzzzzzzzzzzzzzzzzzzzzzzzzzzz\n",
      "233\n",
      "The profession of {} is\n"
     ]
    },
    {
     "data": {
      "application/vnd.jupyter.widget-view+json": {
       "model_id": "145ec8e566264a9f932713b1486393ee",
       "version_major": 2,
       "version_minor": 0
      },
      "text/plain": [
       "  0%|          | 0/10 [00:00<?, ?it/s]"
      ]
     },
     "metadata": {},
     "output_type": "display_data"
    },
    {
     "data": {
      "application/vnd.jupyter.widget-view+json": {
       "model_id": "14c9ba2f391d4331838a0f84c134dd9f",
       "version_major": 2,
       "version_minor": 0
      },
      "text/plain": [
       "  0%|          | 0/2 [00:00<?, ?it/s]"
      ]
     },
     "metadata": {},
     "output_type": "display_data"
    },
    {
     "name": "stdout",
     "output_type": "stream",
     "text": [
      "subject:  Cigoli\n",
      "The profession of Lucha Villa is actor.\n",
      "The profession of {} is\n",
      "tensor(1.3398, device='cuda:0', dtype=torch.float16) tensor(3.2656, device='cuda:0', dtype=torch.float16)\n",
      "\n",
      "subject:  Lucha Villa\n",
      "The profession of Cigoli is architect.\n",
      "The profession of {} is\n",
      "tensor(0.5449, device='cuda:0', dtype=torch.float16) tensor(3., device='cuda:0', dtype=torch.float16)\n",
      "\n"
     ]
    },
    {
     "data": {
      "application/vnd.jupyter.widget-view+json": {
       "model_id": "2cdb12c888894d23bc74e8b2e18b141e",
       "version_major": 2,
       "version_minor": 0
      },
      "text/plain": [
       "  0%|          | 0/2 [00:00<?, ?it/s]"
      ]
     },
     "metadata": {},
     "output_type": "display_data"
    },
    {
     "name": "stdout",
     "output_type": "stream",
     "text": [
      "subject:  Cigoli\n",
      "The profession of Lucha Villa is actor.\n",
      "The profession of {} is\n",
      "tensor(1.3398, device='cuda:0', dtype=torch.float16) tensor(3.2656, device='cuda:0', dtype=torch.float16)\n",
      "\n",
      "subject:  Lucha Villa\n",
      "The profession of Cigoli is architect.\n",
      "The profession of {} is\n",
      "tensor(0.5449, device='cuda:0', dtype=torch.float16) tensor(3., device='cuda:0', dtype=torch.float16)\n",
      "\n"
     ]
    },
    {
     "data": {
      "application/vnd.jupyter.widget-view+json": {
       "model_id": "0b32072d72ec4ced96e2863b3a069ec4",
       "version_major": 2,
       "version_minor": 0
      },
      "text/plain": [
       "  0%|          | 0/2 [00:00<?, ?it/s]"
      ]
     },
     "metadata": {},
     "output_type": "display_data"
    },
    {
     "name": "stdout",
     "output_type": "stream",
     "text": [
      "subject:  Lucha Villa\n",
      "The profession of Cigoli is architect.\n",
      "The profession of {} is\n",
      "tensor(0.5449, device='cuda:0', dtype=torch.float16) tensor(3., device='cuda:0', dtype=torch.float16)\n",
      "\n",
      "subject:  Cigoli\n",
      "The profession of Lucha Villa is actor.\n",
      "The profession of {} is\n",
      "tensor(1.3398, device='cuda:0', dtype=torch.float16) tensor(3.2656, device='cuda:0', dtype=torch.float16)\n",
      "\n"
     ]
    },
    {
     "data": {
      "application/vnd.jupyter.widget-view+json": {
       "model_id": "e05596d5ceb449b787d59daf909c2e10",
       "version_major": 2,
       "version_minor": 0
      },
      "text/plain": [
       "  0%|          | 0/2 [00:00<?, ?it/s]"
      ]
     },
     "metadata": {},
     "output_type": "display_data"
    },
    {
     "name": "stdout",
     "output_type": "stream",
     "text": [
      "subject:  Cigoli\n",
      "The profession of Lucha Villa is actor.\n",
      "The profession of {} is\n",
      "tensor(1.3398, device='cuda:0', dtype=torch.float16) tensor(3.2656, device='cuda:0', dtype=torch.float16)\n",
      "\n",
      "subject:  Lucha Villa\n",
      "The profession of Cigoli is architect.\n",
      "The profession of {} is\n",
      "tensor(0.5449, device='cuda:0', dtype=torch.float16) tensor(3., device='cuda:0', dtype=torch.float16)\n",
      "\n"
     ]
    },
    {
     "data": {
      "application/vnd.jupyter.widget-view+json": {
       "model_id": "a65a35dd77c6405285c81c38b0cf4796",
       "version_major": 2,
       "version_minor": 0
      },
      "text/plain": [
       "  0%|          | 0/2 [00:00<?, ?it/s]"
      ]
     },
     "metadata": {},
     "output_type": "display_data"
    },
    {
     "name": "stdout",
     "output_type": "stream",
     "text": [
      "subject:  Lucha Villa\n",
      "The profession of Cigoli is architect.\n",
      "The profession of {} is\n",
      "tensor(0.5449, device='cuda:0', dtype=torch.float16) tensor(3., device='cuda:0', dtype=torch.float16)\n",
      "\n",
      "subject:  Cigoli\n",
      "The profession of Lucha Villa is actor.\n",
      "The profession of {} is\n",
      "tensor(1.3398, device='cuda:0', dtype=torch.float16) tensor(3.2656, device='cuda:0', dtype=torch.float16)\n",
      "\n"
     ]
    },
    {
     "data": {
      "application/vnd.jupyter.widget-view+json": {
       "model_id": "adcab1ff72074ea19b71797713b86bdc",
       "version_major": 2,
       "version_minor": 0
      },
      "text/plain": [
       "  0%|          | 0/2 [00:00<?, ?it/s]"
      ]
     },
     "metadata": {},
     "output_type": "display_data"
    },
    {
     "name": "stdout",
     "output_type": "stream",
     "text": [
      "subject:  Cigoli\n",
      "The profession of Lucha Villa is actor.\n",
      "The profession of {} is\n",
      "tensor(1.3398, device='cuda:0', dtype=torch.float16) tensor(3.2656, device='cuda:0', dtype=torch.float16)\n",
      "\n",
      "subject:  Lucha Villa\n",
      "The profession of Cigoli is architect.\n",
      "The profession of {} is\n",
      "tensor(0.5449, device='cuda:0', dtype=torch.float16) tensor(3., device='cuda:0', dtype=torch.float16)\n",
      "\n"
     ]
    },
    {
     "data": {
      "application/vnd.jupyter.widget-view+json": {
       "model_id": "79213ab4623340d4a1943d5b11581642",
       "version_major": 2,
       "version_minor": 0
      },
      "text/plain": [
       "  0%|          | 0/2 [00:00<?, ?it/s]"
      ]
     },
     "metadata": {},
     "output_type": "display_data"
    },
    {
     "name": "stdout",
     "output_type": "stream",
     "text": [
      "subject:  Cigoli\n",
      "The profession of Lucha Villa is actor.\n",
      "The profession of {} is\n",
      "tensor(1.3398, device='cuda:0', dtype=torch.float16) tensor(3.2656, device='cuda:0', dtype=torch.float16)\n",
      "\n",
      "subject:  Lucha Villa\n",
      "The profession of Cigoli is architect.\n",
      "The profession of {} is\n",
      "tensor(0.5449, device='cuda:0', dtype=torch.float16) tensor(3., device='cuda:0', dtype=torch.float16)\n",
      "\n"
     ]
    },
    {
     "data": {
      "application/vnd.jupyter.widget-view+json": {
       "model_id": "356a9db6b1d348238bd8efd937021b7f",
       "version_major": 2,
       "version_minor": 0
      },
      "text/plain": [
       "  0%|          | 0/2 [00:00<?, ?it/s]"
      ]
     },
     "metadata": {},
     "output_type": "display_data"
    },
    {
     "name": "stdout",
     "output_type": "stream",
     "text": [
      "subject:  Cigoli\n",
      "The profession of Lucha Villa is actor.\n",
      "The profession of {} is\n",
      "tensor(1.3398, device='cuda:0', dtype=torch.float16) tensor(3.2656, device='cuda:0', dtype=torch.float16)\n",
      "\n",
      "subject:  Lucha Villa\n",
      "The profession of Cigoli is architect.\n",
      "The profession of {} is\n",
      "tensor(0.5449, device='cuda:0', dtype=torch.float16) tensor(3., device='cuda:0', dtype=torch.float16)\n",
      "\n"
     ]
    },
    {
     "data": {
      "application/vnd.jupyter.widget-view+json": {
       "model_id": "f26009dc108245a0b39f65e9c9973c32",
       "version_major": 2,
       "version_minor": 0
      },
      "text/plain": [
       "  0%|          | 0/2 [00:00<?, ?it/s]"
      ]
     },
     "metadata": {},
     "output_type": "display_data"
    },
    {
     "name": "stdout",
     "output_type": "stream",
     "text": [
      "subject:  Cigoli\n",
      "The profession of Lucha Villa is actor.\n",
      "The profession of {} is\n",
      "tensor(1.3398, device='cuda:0', dtype=torch.float16) tensor(3.2656, device='cuda:0', dtype=torch.float16)\n",
      "\n",
      "subject:  Lucha Villa\n",
      "The profession of Cigoli is architect.\n",
      "The profession of {} is\n",
      "tensor(0.5449, device='cuda:0', dtype=torch.float16) tensor(3., device='cuda:0', dtype=torch.float16)\n",
      "\n"
     ]
    },
    {
     "data": {
      "application/vnd.jupyter.widget-view+json": {
       "model_id": "3aa14d79b00f4e3ebabe4a01c63e4917",
       "version_major": 2,
       "version_minor": 0
      },
      "text/plain": [
       "  0%|          | 0/2 [00:00<?, ?it/s]"
      ]
     },
     "metadata": {},
     "output_type": "display_data"
    },
    {
     "name": "stdout",
     "output_type": "stream",
     "text": [
      "subject:  Lucha Villa\n",
      "The profession of Cigoli is architect.\n",
      "The profession of {} is\n",
      "tensor(0.5449, device='cuda:0', dtype=torch.float16) tensor(3., device='cuda:0', dtype=torch.float16)\n",
      "\n",
      "subject:  Cigoli\n",
      "The profession of Lucha Villa is actor.\n",
      "The profession of {} is\n",
      "tensor(1.3398, device='cuda:0', dtype=torch.float16) tensor(3.2656, device='cuda:0', dtype=torch.float16)\n",
      "\n",
      "Saving weights and biases >>  gpt-j/jacobians_averaged_collection/after__ln_f/P106.npz\n",
      "----------------------------------------------------\n",
      "zzzzzzzzzzzzzzzzzzzzzzzzzzzzzzzzzzzzzzzzzzzzzzzzzzzz\n",
      "P30 {} is located in the continent of\n",
      "zzzzzzzzzzzzzzzzzzzzzzzzzzzzzzzzzzzzzzzzzzzzzzzzzzzz\n",
      "456\n",
      "{} is located in the continent of\n"
     ]
    },
    {
     "data": {
      "application/vnd.jupyter.widget-view+json": {
       "model_id": "bb036f96da72406a83cc1ca0012d3cd6",
       "version_major": 2,
       "version_minor": 0
      },
      "text/plain": [
       "  0%|          | 0/10 [00:00<?, ?it/s]"
      ]
     },
     "metadata": {},
     "output_type": "display_data"
    },
    {
     "data": {
      "application/vnd.jupyter.widget-view+json": {
       "model_id": "89ddeea402cf40efb74b0e0e36101297",
       "version_major": 2,
       "version_minor": 0
      },
      "text/plain": [
       "  0%|          | 0/4 [00:00<?, ?it/s]"
      ]
     },
     "metadata": {},
     "output_type": "display_data"
    },
    {
     "name": "stdout",
     "output_type": "stream",
     "text": [
      "subject:  Chad Basin\n",
      "English Channel is located in the continent of Europe.\n",
      "Romulus Glacier is located in the continent of Antarctica.\n",
      "Ma River is located in the continent of Asia.\n",
      "{} is located in the continent of\n",
      "tensor(8.3281, device='cuda:0', dtype=torch.float16) tensor(15.5078, device='cuda:0', dtype=torch.float16)\n",
      "\n",
      "subject:  Ma River\n",
      "Chad Basin is located in the continent of Africa.\n",
      "Romulus Glacier is located in the continent of Antarctica.\n",
      "English Channel is located in the continent of Europe.\n",
      "{} is located in the continent of\n",
      "tensor(3.1094, device='cuda:0', dtype=torch.float16) tensor(31.2969, device='cuda:0', dtype=torch.float16)\n",
      "\n",
      "subject:  Romulus Glacier\n",
      "English Channel is located in the continent of Europe.\n",
      "Chad Basin is located in the continent of Africa.\n",
      "Ma River is located in the continent of Asia.\n",
      "{} is located in the continent of\n",
      "tensor(3.5039, device='cuda:0', dtype=torch.float16) tensor(12.8672, device='cuda:0', dtype=torch.float16)\n",
      "\n",
      "subject:  English Channel\n",
      "Romulus Glacier is located in the continent of Antarctica.\n",
      "Ma River is located in the continent of Asia.\n",
      "Chad Basin is located in the continent of Africa.\n",
      "{} is located in the continent of\n",
      "tensor(3.2988, device='cuda:0', dtype=torch.float16) tensor(26.7188, device='cuda:0', dtype=torch.float16)\n",
      "\n"
     ]
    },
    {
     "data": {
      "application/vnd.jupyter.widget-view+json": {
       "model_id": "3b7b42ad103c40338a80f8df0dec6d1a",
       "version_major": 2,
       "version_minor": 0
      },
      "text/plain": [
       "  0%|          | 0/4 [00:00<?, ?it/s]"
      ]
     },
     "metadata": {},
     "output_type": "display_data"
    },
    {
     "name": "stdout",
     "output_type": "stream",
     "text": [
      "subject:  Ma River\n",
      "Romulus Glacier is located in the continent of Antarctica.\n",
      "English Channel is located in the continent of Europe.\n",
      "Chad Basin is located in the continent of Africa.\n",
      "{} is located in the continent of\n",
      "tensor(4.0742, device='cuda:0', dtype=torch.float16) tensor(26.6562, device='cuda:0', dtype=torch.float16)\n",
      "\n",
      "subject:  Romulus Glacier\n",
      "Chad Basin is located in the continent of Africa.\n",
      "Ma River is located in the continent of Asia.\n",
      "English Channel is located in the continent of Europe.\n",
      "{} is located in the continent of\n",
      "tensor(3.4707, device='cuda:0', dtype=torch.float16) tensor(31.3594, device='cuda:0', dtype=torch.float16)\n",
      "\n",
      "subject:  English Channel\n",
      "Romulus Glacier is located in the continent of Antarctica.\n",
      "Ma River is located in the continent of Asia.\n",
      "Chad Basin is located in the continent of Africa.\n",
      "{} is located in the continent of\n",
      "tensor(3.2988, device='cuda:0', dtype=torch.float16) tensor(26.7188, device='cuda:0', dtype=torch.float16)\n",
      "\n",
      "subject:  Chad Basin\n",
      "Romulus Glacier is located in the continent of Antarctica.\n",
      "English Channel is located in the continent of Europe.\n",
      "Ma River is located in the continent of Asia.\n",
      "{} is located in the continent of\n",
      "tensor(9.4922, device='cuda:0', dtype=torch.float16) tensor(28.3750, device='cuda:0', dtype=torch.float16)\n",
      "\n"
     ]
    },
    {
     "data": {
      "application/vnd.jupyter.widget-view+json": {
       "model_id": "89238d00f7774e17ba963874244df4cf",
       "version_major": 2,
       "version_minor": 0
      },
      "text/plain": [
       "  0%|          | 0/4 [00:00<?, ?it/s]"
      ]
     },
     "metadata": {},
     "output_type": "display_data"
    },
    {
     "name": "stdout",
     "output_type": "stream",
     "text": [
      "subject:  English Channel\n",
      "Romulus Glacier is located in the continent of Antarctica.\n",
      "Ma River is located in the continent of Asia.\n",
      "Chad Basin is located in the continent of Africa.\n",
      "{} is located in the continent of\n",
      "tensor(3.2988, device='cuda:0', dtype=torch.float16) tensor(26.7188, device='cuda:0', dtype=torch.float16)\n",
      "\n",
      "subject:  Ma River\n",
      "English Channel is located in the continent of Europe.\n",
      "Romulus Glacier is located in the continent of Antarctica.\n",
      "Chad Basin is located in the continent of Africa.\n",
      "{} is located in the continent of\n",
      "tensor(3.5527, device='cuda:0', dtype=torch.float16) tensor(12.8594, device='cuda:0', dtype=torch.float16)\n",
      "\n",
      "subject:  Romulus Glacier\n",
      "English Channel is located in the continent of Europe.\n",
      "Chad Basin is located in the continent of Africa.\n",
      "Ma River is located in the continent of Asia.\n",
      "{} is located in the continent of\n",
      "tensor(3.5039, device='cuda:0', dtype=torch.float16) tensor(12.8672, device='cuda:0', dtype=torch.float16)\n",
      "\n",
      "subject:  Chad Basin\n",
      "Romulus Glacier is located in the continent of Antarctica.\n",
      "Ma River is located in the continent of Asia.\n",
      "English Channel is located in the continent of Europe.\n",
      "{} is located in the continent of\n",
      "tensor(10.7969, device='cuda:0', dtype=torch.float16) tensor(28.9531, device='cuda:0', dtype=torch.float16)\n",
      "\n"
     ]
    },
    {
     "data": {
      "application/vnd.jupyter.widget-view+json": {
       "model_id": "3ddcdd38c5854039a48b939a33449c09",
       "version_major": 2,
       "version_minor": 0
      },
      "text/plain": [
       "  0%|          | 0/4 [00:00<?, ?it/s]"
      ]
     },
     "metadata": {},
     "output_type": "display_data"
    },
    {
     "name": "stdout",
     "output_type": "stream",
     "text": [
      "subject:  Ma River\n",
      "English Channel is located in the continent of Europe.\n",
      "Romulus Glacier is located in the continent of Antarctica.\n",
      "Chad Basin is located in the continent of Africa.\n",
      "{} is located in the continent of\n",
      "tensor(3.5527, device='cuda:0', dtype=torch.float16) tensor(12.8594, device='cuda:0', dtype=torch.float16)\n",
      "\n",
      "subject:  Chad Basin\n",
      "Ma River is located in the continent of Asia.\n",
      "Romulus Glacier is located in the continent of Antarctica.\n",
      "English Channel is located in the continent of Europe.\n",
      "{} is located in the continent of\n",
      "tensor(11.8203, device='cuda:0', dtype=torch.float16) tensor(83.4375, device='cuda:0', dtype=torch.float16)\n",
      "\n",
      "subject:  Romulus Glacier\n",
      "Ma River is located in the continent of Asia.\n",
      "Chad Basin is located in the continent of Africa.\n",
      "English Channel is located in the continent of Europe.\n",
      "{} is located in the continent of\n",
      "tensor(5.2344, device='cuda:0', dtype=torch.float16) tensor(82.5625, device='cuda:0', dtype=torch.float16)\n",
      "\n",
      "subject:  English Channel\n",
      "Chad Basin is located in the continent of Africa.\n",
      "Romulus Glacier is located in the continent of Antarctica.\n",
      "Ma River is located in the continent of Asia.\n",
      "{} is located in the continent of\n",
      "tensor(2.8027, device='cuda:0', dtype=torch.float16) tensor(31.3125, device='cuda:0', dtype=torch.float16)\n",
      "\n"
     ]
    },
    {
     "data": {
      "application/vnd.jupyter.widget-view+json": {
       "model_id": "200b089c95524d14b484bb791530c93a",
       "version_major": 2,
       "version_minor": 0
      },
      "text/plain": [
       "  0%|          | 0/4 [00:00<?, ?it/s]"
      ]
     },
     "metadata": {},
     "output_type": "display_data"
    },
    {
     "name": "stdout",
     "output_type": "stream",
     "text": [
      "subject:  Chad Basin\n",
      "Romulus Glacier is located in the continent of Antarctica.\n",
      "English Channel is located in the continent of Europe.\n",
      "Ma River is located in the continent of Asia.\n",
      "{} is located in the continent of\n",
      "tensor(9.4922, device='cuda:0', dtype=torch.float16) tensor(28.3750, device='cuda:0', dtype=torch.float16)\n",
      "\n",
      "subject:  Ma River\n",
      "Romulus Glacier is located in the continent of Antarctica.\n",
      "English Channel is located in the continent of Europe.\n",
      "Chad Basin is located in the continent of Africa.\n",
      "{} is located in the continent of\n",
      "tensor(4.0742, device='cuda:0', dtype=torch.float16) tensor(26.6562, device='cuda:0', dtype=torch.float16)\n",
      "\n",
      "subject:  Romulus Glacier\n",
      "English Channel is located in the continent of Europe.\n",
      "Chad Basin is located in the continent of Africa.\n",
      "Ma River is located in the continent of Asia.\n",
      "{} is located in the continent of\n",
      "tensor(3.5039, device='cuda:0', dtype=torch.float16) tensor(12.8672, device='cuda:0', dtype=torch.float16)\n",
      "\n",
      "subject:  English Channel\n",
      "Romulus Glacier is located in the continent of Antarctica.\n",
      "Chad Basin is located in the continent of Africa.\n",
      "Ma River is located in the continent of Asia.\n",
      "{} is located in the continent of\n",
      "tensor(3.6211, device='cuda:0', dtype=torch.float16) tensor(26.7344, device='cuda:0', dtype=torch.float16)\n",
      "\n"
     ]
    },
    {
     "data": {
      "application/vnd.jupyter.widget-view+json": {
       "model_id": "6df668486f23405d81398709e681004a",
       "version_major": 2,
       "version_minor": 0
      },
      "text/plain": [
       "  0%|          | 0/4 [00:00<?, ?it/s]"
      ]
     },
     "metadata": {},
     "output_type": "display_data"
    },
    {
     "name": "stdout",
     "output_type": "stream",
     "text": [
      "subject:  Chad Basin\n",
      "English Channel is located in the continent of Europe.\n",
      "Ma River is located in the continent of Asia.\n",
      "Romulus Glacier is located in the continent of Antarctica.\n",
      "{} is located in the continent of\n",
      "tensor(7.0586, device='cuda:0', dtype=torch.float16) tensor(14.8750, device='cuda:0', dtype=torch.float16)\n",
      "\n",
      "subject:  Ma River\n",
      "Romulus Glacier is located in the continent of Antarctica.\n",
      "English Channel is located in the continent of Europe.\n",
      "Chad Basin is located in the continent of Africa.\n",
      "{} is located in the continent of\n",
      "tensor(4.0742, device='cuda:0', dtype=torch.float16) tensor(26.6562, device='cuda:0', dtype=torch.float16)\n",
      "\n",
      "subject:  Romulus Glacier\n",
      "English Channel is located in the continent of Europe.\n",
      "Ma River is located in the continent of Asia.\n",
      "Chad Basin is located in the continent of Africa.\n",
      "{} is located in the continent of\n",
      "tensor(3.0918, device='cuda:0', dtype=torch.float16) tensor(12.8203, device='cuda:0', dtype=torch.float16)\n",
      "\n",
      "subject:  English Channel\n",
      "Chad Basin is located in the continent of Africa.\n",
      "Ma River is located in the continent of Asia.\n",
      "Romulus Glacier is located in the continent of Antarctica.\n",
      "{} is located in the continent of\n",
      "tensor(2.6992, device='cuda:0', dtype=torch.float16) tensor(31.3438, device='cuda:0', dtype=torch.float16)\n",
      "\n"
     ]
    },
    {
     "data": {
      "application/vnd.jupyter.widget-view+json": {
       "model_id": "bcfee0d483c64a7d8aeaa6ba5b75372a",
       "version_major": 2,
       "version_minor": 0
      },
      "text/plain": [
       "  0%|          | 0/4 [00:00<?, ?it/s]"
      ]
     },
     "metadata": {},
     "output_type": "display_data"
    },
    {
     "name": "stdout",
     "output_type": "stream",
     "text": [
      "subject:  English Channel\n",
      "Romulus Glacier is located in the continent of Antarctica.\n",
      "Chad Basin is located in the continent of Africa.\n",
      "Ma River is located in the continent of Asia.\n",
      "{} is located in the continent of\n",
      "tensor(3.6211, device='cuda:0', dtype=torch.float16) tensor(26.7344, device='cuda:0', dtype=torch.float16)\n",
      "\n",
      "subject:  Ma River\n",
      "Chad Basin is located in the continent of Africa.\n",
      "English Channel is located in the continent of Europe.\n",
      "Romulus Glacier is located in the continent of Antarctica.\n",
      "{} is located in the continent of\n",
      "tensor(2.9941, device='cuda:0', dtype=torch.float16) tensor(31.2656, device='cuda:0', dtype=torch.float16)\n",
      "\n",
      "subject:  Romulus Glacier\n",
      "English Channel is located in the continent of Europe.\n",
      "Ma River is located in the continent of Asia.\n",
      "Chad Basin is located in the continent of Africa.\n",
      "{} is located in the continent of\n",
      "tensor(3.0918, device='cuda:0', dtype=torch.float16) tensor(12.8203, device='cuda:0', dtype=torch.float16)\n",
      "\n",
      "subject:  Chad Basin\n",
      "Ma River is located in the continent of Asia.\n",
      "Romulus Glacier is located in the continent of Antarctica.\n",
      "English Channel is located in the continent of Europe.\n",
      "{} is located in the continent of\n",
      "tensor(11.8203, device='cuda:0', dtype=torch.float16) tensor(83.4375, device='cuda:0', dtype=torch.float16)\n",
      "\n"
     ]
    },
    {
     "data": {
      "application/vnd.jupyter.widget-view+json": {
       "model_id": "535429208ab54b8198a112e8ce037e46",
       "version_major": 2,
       "version_minor": 0
      },
      "text/plain": [
       "  0%|          | 0/4 [00:00<?, ?it/s]"
      ]
     },
     "metadata": {},
     "output_type": "display_data"
    },
    {
     "name": "stdout",
     "output_type": "stream",
     "text": [
      "subject:  Ma River\n",
      "English Channel is located in the continent of Europe.\n",
      "Chad Basin is located in the continent of Africa.\n",
      "Romulus Glacier is located in the continent of Antarctica.\n",
      "{} is located in the continent of\n",
      "tensor(3.3965, device='cuda:0', dtype=torch.float16) tensor(12.7969, device='cuda:0', dtype=torch.float16)\n",
      "\n",
      "subject:  Romulus Glacier\n",
      "Chad Basin is located in the continent of Africa.\n",
      "English Channel is located in the continent of Europe.\n",
      "Ma River is located in the continent of Asia.\n",
      "{} is located in the continent of\n",
      "tensor(3.1191, device='cuda:0', dtype=torch.float16) tensor(31.2969, device='cuda:0', dtype=torch.float16)\n",
      "\n",
      "subject:  Chad Basin\n",
      "Ma River is located in the continent of Asia.\n",
      "Romulus Glacier is located in the continent of Antarctica.\n",
      "English Channel is located in the continent of Europe.\n",
      "{} is located in the continent of\n",
      "tensor(11.8203, device='cuda:0', dtype=torch.float16) tensor(83.4375, device='cuda:0', dtype=torch.float16)\n",
      "\n",
      "subject:  English Channel\n",
      "Ma River is located in the continent of Asia.\n",
      "Romulus Glacier is located in the continent of Antarctica.\n",
      "Chad Basin is located in the continent of Africa.\n",
      "{} is located in the continent of\n",
      "tensor(3.1797, device='cuda:0', dtype=torch.float16) tensor(82.5000, device='cuda:0', dtype=torch.float16)\n",
      "\n"
     ]
    },
    {
     "data": {
      "application/vnd.jupyter.widget-view+json": {
       "model_id": "8c84c525c6a04dc29f55db133d7b744f",
       "version_major": 2,
       "version_minor": 0
      },
      "text/plain": [
       "  0%|          | 0/4 [00:00<?, ?it/s]"
      ]
     },
     "metadata": {},
     "output_type": "display_data"
    },
    {
     "name": "stdout",
     "output_type": "stream",
     "text": [
      "subject:  Romulus Glacier\n",
      "Ma River is located in the continent of Asia.\n",
      "Chad Basin is located in the continent of Africa.\n",
      "English Channel is located in the continent of Europe.\n",
      "{} is located in the continent of\n",
      "tensor(5.2344, device='cuda:0', dtype=torch.float16) tensor(82.5625, device='cuda:0', dtype=torch.float16)\n",
      "\n",
      "subject:  English Channel\n",
      "Chad Basin is located in the continent of Africa.\n",
      "Ma River is located in the continent of Asia.\n",
      "Romulus Glacier is located in the continent of Antarctica.\n",
      "{} is located in the continent of\n",
      "tensor(2.6992, device='cuda:0', dtype=torch.float16) tensor(31.3438, device='cuda:0', dtype=torch.float16)\n",
      "\n",
      "subject:  Chad Basin\n",
      "Romulus Glacier is located in the continent of Antarctica.\n",
      "Ma River is located in the continent of Asia.\n",
      "English Channel is located in the continent of Europe.\n",
      "{} is located in the continent of\n",
      "tensor(10.7969, device='cuda:0', dtype=torch.float16) tensor(28.9531, device='cuda:0', dtype=torch.float16)\n",
      "\n",
      "subject:  Ma River\n",
      "Chad Basin is located in the continent of Africa.\n",
      "Romulus Glacier is located in the continent of Antarctica.\n",
      "English Channel is located in the continent of Europe.\n",
      "{} is located in the continent of\n",
      "tensor(3.1094, device='cuda:0', dtype=torch.float16) tensor(31.2969, device='cuda:0', dtype=torch.float16)\n",
      "\n"
     ]
    },
    {
     "data": {
      "application/vnd.jupyter.widget-view+json": {
       "model_id": "dd8add1e63ca4449b272ba78d1308b57",
       "version_major": 2,
       "version_minor": 0
      },
      "text/plain": [
       "  0%|          | 0/4 [00:00<?, ?it/s]"
      ]
     },
     "metadata": {},
     "output_type": "display_data"
    },
    {
     "name": "stdout",
     "output_type": "stream",
     "text": [
      "subject:  Romulus Glacier\n",
      "Chad Basin is located in the continent of Africa.\n",
      "Ma River is located in the continent of Asia.\n",
      "English Channel is located in the continent of Europe.\n",
      "{} is located in the continent of\n",
      "tensor(3.4707, device='cuda:0', dtype=torch.float16) tensor(31.3594, device='cuda:0', dtype=torch.float16)\n",
      "\n",
      "subject:  English Channel\n",
      "Ma River is located in the continent of Asia.\n",
      "Romulus Glacier is located in the continent of Antarctica.\n",
      "Chad Basin is located in the continent of Africa.\n",
      "{} is located in the continent of\n",
      "tensor(3.1797, device='cuda:0', dtype=torch.float16) tensor(82.5000, device='cuda:0', dtype=torch.float16)\n",
      "\n",
      "subject:  Chad Basin\n",
      "Romulus Glacier is located in the continent of Antarctica.\n",
      "English Channel is located in the continent of Europe.\n",
      "Ma River is located in the continent of Asia.\n",
      "{} is located in the continent of\n",
      "tensor(9.4922, device='cuda:0', dtype=torch.float16) tensor(28.3750, device='cuda:0', dtype=torch.float16)\n",
      "\n",
      "subject:  Ma River\n",
      "Romulus Glacier is located in the continent of Antarctica.\n",
      "English Channel is located in the continent of Europe.\n",
      "Chad Basin is located in the continent of Africa.\n",
      "{} is located in the continent of\n",
      "tensor(4.0742, device='cuda:0', dtype=torch.float16) tensor(26.6562, device='cuda:0', dtype=torch.float16)\n",
      "\n",
      "Saving weights and biases >>  gpt-j/jacobians_averaged_collection/after__ln_f/P30.npz\n",
      "----------------------------------------------------\n",
      "zzzzzzzzzzzzzzzzzzzzzzzzzzzzzzzzzzzzzzzzzzzzzzzzzzzz\n",
      "P937 {} worked in the city of\n",
      "zzzzzzzzzzzzzzzzzzzzzzzzzzzzzzzzzzzzzzzzzzzzzzzzzzzz\n",
      "328\n",
      "{} worked in the city of\n"
     ]
    },
    {
     "data": {
      "application/vnd.jupyter.widget-view+json": {
       "model_id": "fc3210eb1ea948c881b328cfcd45afba",
       "version_major": 2,
       "version_minor": 0
      },
      "text/plain": [
       "  0%|          | 0/10 [00:00<?, ?it/s]"
      ]
     },
     "metadata": {},
     "output_type": "display_data"
    },
    {
     "data": {
      "application/vnd.jupyter.widget-view+json": {
       "model_id": "9f48f94b2a8a4c5f8951b44a000628d9",
       "version_major": 2,
       "version_minor": 0
      },
      "text/plain": [
       "  0%|          | 0/5 [00:00<?, ?it/s]"
      ]
     },
     "metadata": {},
     "output_type": "display_data"
    },
    {
     "name": "stdout",
     "output_type": "stream",
     "text": [
      "subject:  Albert Einstein\n",
      "Howard Florey worked in the city of London.\n",
      "Billy Corgan worked in the city of Chicago.\n",
      "Joseph Reinach worked in the city of Paris.\n",
      "{} worked in the city of\n",
      "tensor(3.2852, device='cuda:0', dtype=torch.float16) tensor(12.1875, device='cuda:0', dtype=torch.float16)\n",
      "\n",
      "subject:  Joseph Reinach\n",
      "Alban Berg worked in the city of Vienna.\n",
      "Albert Einstein worked in the city of Bern.\n",
      "Billy Corgan worked in the city of Chicago.\n",
      "{} worked in the city of\n",
      "tensor(6.6406, device='cuda:0', dtype=torch.float16) tensor(15.0156, device='cuda:0', dtype=torch.float16)\n",
      "\n",
      "subject:  Billy Corgan\n",
      "Alban Berg worked in the city of Vienna.\n",
      "Albert Einstein worked in the city of Bern.\n",
      "Joseph Reinach worked in the city of Paris.\n",
      "{} worked in the city of\n",
      "tensor(14.2969, device='cuda:0', dtype=torch.float16) tensor(19.1719, device='cuda:0', dtype=torch.float16)\n",
      "\n",
      "subject:  Howard Florey\n",
      "Billy Corgan worked in the city of Chicago.\n",
      "Alban Berg worked in the city of Vienna.\n",
      "Joseph Reinach worked in the city of Paris.\n",
      "{} worked in the city of\n",
      "CUDA out of memory\n",
      "trying with smaller icl >>  2\n"
     ]
    },
    {
     "data": {
      "application/vnd.jupyter.widget-view+json": {
       "model_id": "047d031a2f0c4757a1dc69d5784983d2",
       "version_major": 2,
       "version_minor": 0
      },
      "text/plain": [
       "  0%|          | 0/5 [00:00<?, ?it/s]"
      ]
     },
     "metadata": {},
     "output_type": "display_data"
    },
    {
     "name": "stdout",
     "output_type": "stream",
     "text": [
      "subject:  Albert Einstein\n",
      "Alban Berg worked in the city of Vienna.\n",
      "Billy Corgan worked in the city of Chicago.\n",
      "{} worked in the city of\n",
      "tensor(6.3281, device='cuda:0', dtype=torch.float16) tensor(16.3281, device='cuda:0', dtype=torch.float16)\n",
      "\n",
      "subject:  Joseph Reinach\n",
      "Alban Berg worked in the city of Vienna.\n",
      "Billy Corgan worked in the city of Chicago.\n",
      "{} worked in the city of\n",
      "tensor(4.7812, device='cuda:0', dtype=torch.float16) tensor(14.5312, device='cuda:0', dtype=torch.float16)\n",
      "\n",
      "subject:  Billy Corgan\n",
      "Joseph Reinach worked in the city of Paris.\n",
      "Howard Florey worked in the city of London.\n",
      "{} worked in the city of\n",
      "tensor(12.1953, device='cuda:0', dtype=torch.float16) tensor(36.7812, device='cuda:0', dtype=torch.float16)\n",
      "\n",
      "subject:  Howard Florey\n",
      "Alban Berg worked in the city of Vienna.\n",
      "Joseph Reinach worked in the city of Paris.\n",
      "{} worked in the city of\n",
      "tensor(19.5938, device='cuda:0', dtype=torch.float16) tensor(23.1250, device='cuda:0', dtype=torch.float16)\n",
      "\n",
      "subject:  Alban Berg\n",
      "Joseph Reinach worked in the city of Paris.\n",
      "Albert Einstein worked in the city of Bern.\n",
      "{} worked in the city of\n",
      "tensor(0.8433, device='cuda:0', dtype=torch.float16) tensor(34.4688, device='cuda:0', dtype=torch.float16)\n",
      "\n"
     ]
    },
    {
     "data": {
      "application/vnd.jupyter.widget-view+json": {
       "model_id": "dc4fb40c392747efae2cf92405146988",
       "version_major": 2,
       "version_minor": 0
      },
      "text/plain": [
       "  0%|          | 0/5 [00:00<?, ?it/s]"
      ]
     },
     "metadata": {},
     "output_type": "display_data"
    },
    {
     "name": "stdout",
     "output_type": "stream",
     "text": [
      "subject:  Christian Bohr\n",
      "Carl Mayer worked in the city of Berlin.\n",
      "Joseph Reinach worked in the city of Paris.\n",
      "John Goodsir worked in the city of Edinburgh.\n",
      "{} worked in the city of\n",
      "tensor(12.6953, device='cuda:0', dtype=torch.float16) tensor(15.4219, device='cuda:0', dtype=torch.float16)\n",
      "\n",
      "subject:  Veturia\n",
      "Christian Bohr worked in the city of Copenhagen.\n",
      "Joseph Reinach worked in the city of Paris.\n",
      "Carl Mayer worked in the city of Berlin.\n",
      "{} worked in the city of\n",
      "tensor(2.6738, device='cuda:0', dtype=torch.float16) tensor(100., device='cuda:0', dtype=torch.float16)\n",
      "\n",
      "subject:  John Goodsir\n",
      "Christian Bohr worked in the city of Copenhagen.\n",
      "Veturia worked in the city of Rome.\n",
      "Carl Mayer worked in the city of Berlin.\n",
      "{} worked in the city of\n",
      "tensor(2.9336, device='cuda:0', dtype=torch.float16) tensor(99.8750, device='cuda:0', dtype=torch.float16)\n",
      "\n",
      "subject:  Joseph Reinach\n",
      "Christian Bohr worked in the city of Copenhagen.\n",
      "Veturia worked in the city of Rome.\n",
      "Carl Mayer worked in the city of Berlin.\n",
      "{} worked in the city of\n",
      "tensor(5.4922, device='cuda:0', dtype=torch.float16) tensor(100.0625, device='cuda:0', dtype=torch.float16)\n",
      "\n",
      "subject:  Carl Mayer\n",
      "Veturia worked in the city of Rome.\n",
      "John Goodsir worked in the city of Edinburgh.\n",
      "Christian Bohr worked in the city of Copenhagen.\n",
      "{} worked in the city of\n",
      "tensor(3.0117, device='cuda:0', dtype=torch.float16) tensor(19.2344, device='cuda:0', dtype=torch.float16)\n",
      "\n"
     ]
    },
    {
     "data": {
      "application/vnd.jupyter.widget-view+json": {
       "model_id": "d789049093f848e2bd50073a6d496ea8",
       "version_major": 2,
       "version_minor": 0
      },
      "text/plain": [
       "  0%|          | 0/5 [00:00<?, ?it/s]"
      ]
     },
     "metadata": {},
     "output_type": "display_data"
    },
    {
     "name": "stdout",
     "output_type": "stream",
     "text": [
      "subject:  Carl Mayer\n",
      "Joseph Reinach worked in the city of Paris.\n",
      "Christian Bohr worked in the city of Copenhagen.\n",
      "Alban Berg worked in the city of Vienna.\n",
      "{} worked in the city of\n",
      "tensor(2.1641, device='cuda:0', dtype=torch.float16) tensor(34.5000, device='cuda:0', dtype=torch.float16)\n",
      "\n",
      "subject:  Alban Berg\n",
      "Joseph Reinach worked in the city of Paris.\n",
      "Veturia worked in the city of Rome.\n",
      "Carl Mayer worked in the city of Berlin.\n",
      "{} worked in the city of\n",
      "tensor(0.7095, device='cuda:0', dtype=torch.float16) tensor(34.4688, device='cuda:0', dtype=torch.float16)\n",
      "\n",
      "subject:  Christian Bohr\n",
      "Joseph Reinach worked in the city of Paris.\n",
      "Veturia worked in the city of Rome.\n",
      "Carl Mayer worked in the city of Berlin.\n",
      "{} worked in the city of\n",
      "tensor(10.7891, device='cuda:0', dtype=torch.float16) tensor(36.3438, device='cuda:0', dtype=torch.float16)\n",
      "\n",
      "subject:  Joseph Reinach\n",
      "Veturia worked in the city of Rome.\n",
      "Carl Mayer worked in the city of Berlin.\n",
      "Christian Bohr worked in the city of Copenhagen.\n",
      "{} worked in the city of\n",
      "tensor(5.9805, device='cuda:0', dtype=torch.float16) tensor(20.5781, device='cuda:0', dtype=torch.float16)\n",
      "\n",
      "subject:  Veturia\n",
      "Carl Mayer worked in the city of Berlin.\n",
      "Christian Bohr worked in the city of Copenhagen.\n",
      "Alban Berg worked in the city of Vienna.\n",
      "{} worked in the city of\n",
      "tensor(4.0391, device='cuda:0', dtype=torch.float16) tensor(8.1328, device='cuda:0', dtype=torch.float16)\n",
      "\n"
     ]
    },
    {
     "data": {
      "application/vnd.jupyter.widget-view+json": {
       "model_id": "6d417ced13704cd9a3e11f3e93cc6986",
       "version_major": 2,
       "version_minor": 0
      },
      "text/plain": [
       "  0%|          | 0/5 [00:00<?, ?it/s]"
      ]
     },
     "metadata": {},
     "output_type": "display_data"
    },
    {
     "name": "stdout",
     "output_type": "stream",
     "text": [
      "subject:  Howard Florey\n",
      "Alban Berg worked in the city of Vienna.\n",
      "Albert Einstein worked in the city of Bern.\n",
      "Billy Corgan worked in the city of Chicago.\n",
      "{} worked in the city of\n",
      "tensor(19.1094, device='cuda:0', dtype=torch.float16) tensor(25.1406, device='cuda:0', dtype=torch.float16)\n",
      "\n",
      "subject:  Alban Berg\n",
      "Albert Einstein worked in the city of Bern.\n",
      "Billy Corgan worked in the city of Chicago.\n",
      "Howard Florey worked in the city of London.\n",
      "{} worked in the city of\n",
      "tensor(0.7280, device='cuda:0', dtype=torch.float16) tensor(10.6328, device='cuda:0', dtype=torch.float16)\n",
      "\n",
      "subject:  Billy Corgan\n",
      "Howard Florey worked in the city of London.\n",
      "Alban Berg worked in the city of Vienna.\n",
      "Albert Einstein worked in the city of Bern.\n",
      "{} worked in the city of\n",
      "tensor(10.4219, device='cuda:0', dtype=torch.float16) tensor(13.2891, device='cuda:0', dtype=torch.float16)\n",
      "\n",
      "subject:  Halvard Lange\n",
      "Howard Florey worked in the city of London.\n",
      "Albert Einstein worked in the city of Bern.\n",
      "Alban Berg worked in the city of Vienna.\n",
      "{} worked in the city of\n",
      "tensor(0.5044, device='cuda:0', dtype=torch.float16) tensor(9.3125, device='cuda:0', dtype=torch.float16)\n",
      "\n",
      "subject:  Albert Einstein\n",
      "Howard Florey worked in the city of London.\n",
      "Billy Corgan worked in the city of Chicago.\n",
      "Alban Berg worked in the city of Vienna.\n",
      "{} worked in the city of\n",
      "tensor(5.5977, device='cuda:0', dtype=torch.float16) tensor(13.1719, device='cuda:0', dtype=torch.float16)\n",
      "\n"
     ]
    },
    {
     "data": {
      "application/vnd.jupyter.widget-view+json": {
       "model_id": "872a8d3eeedf4c42b4f108d13ba12a2d",
       "version_major": 2,
       "version_minor": 0
      },
      "text/plain": [
       "  0%|          | 0/5 [00:00<?, ?it/s]"
      ]
     },
     "metadata": {},
     "output_type": "display_data"
    },
    {
     "name": "stdout",
     "output_type": "stream",
     "text": [
      "subject:  Joseph Reinach\n",
      "Howard Florey worked in the city of London.\n",
      "Christian Bohr worked in the city of Copenhagen.\n",
      "Billy Corgan worked in the city of Chicago.\n",
      "{} worked in the city of\n",
      "CUDA out of memory\n",
      "trying with smaller icl >>  2\n"
     ]
    },
    {
     "data": {
      "application/vnd.jupyter.widget-view+json": {
       "model_id": "943800b654a1452f8b827c1e0484268b",
       "version_major": 2,
       "version_minor": 0
      },
      "text/plain": [
       "  0%|          | 0/5 [00:00<?, ?it/s]"
      ]
     },
     "metadata": {},
     "output_type": "display_data"
    },
    {
     "name": "stdout",
     "output_type": "stream",
     "text": [
      "subject:  Joseph Reinach\n",
      "John Goodsir worked in the city of Edinburgh.\n",
      "Howard Florey worked in the city of London.\n",
      "{} worked in the city of\n",
      "tensor(6.5469, device='cuda:0', dtype=torch.float16) tensor(8.3438, device='cuda:0', dtype=torch.float16)\n",
      "\n",
      "subject:  Christian Bohr\n",
      "Howard Florey worked in the city of London.\n",
      "Joseph Reinach worked in the city of Paris.\n",
      "{} worked in the city of\n",
      "tensor(12.8828, device='cuda:0', dtype=torch.float16) tensor(19., device='cuda:0', dtype=torch.float16)\n",
      "\n",
      "subject:  Howard Florey\n",
      "Joseph Reinach worked in the city of Paris.\n",
      "Billy Corgan worked in the city of Chicago.\n",
      "{} worked in the city of\n",
      "tensor(17.1562, device='cuda:0', dtype=torch.float16) tensor(39.0312, device='cuda:0', dtype=torch.float16)\n",
      "\n",
      "subject:  John Goodsir\n",
      "Howard Florey worked in the city of London.\n",
      "Billy Corgan worked in the city of Chicago.\n",
      "{} worked in the city of\n",
      "tensor(2.0645, device='cuda:0', dtype=torch.float16) tensor(9.3984, device='cuda:0', dtype=torch.float16)\n",
      "\n",
      "subject:  Billy Corgan\n",
      "Christian Bohr worked in the city of Copenhagen.\n",
      "Joseph Reinach worked in the city of Paris.\n",
      "{} worked in the city of\n",
      "tensor(15.0938, device='cuda:0', dtype=torch.float16) tensor(100.9375, device='cuda:0', dtype=torch.float16)\n",
      "\n"
     ]
    },
    {
     "data": {
      "application/vnd.jupyter.widget-view+json": {
       "model_id": "2c90c5c2366e4937beef4ef092beeb0d",
       "version_major": 2,
       "version_minor": 0
      },
      "text/plain": [
       "  0%|          | 0/5 [00:00<?, ?it/s]"
      ]
     },
     "metadata": {},
     "output_type": "display_data"
    },
    {
     "name": "stdout",
     "output_type": "stream",
     "text": [
      "subject:  John Goodsir\n",
      "Carl Mayer worked in the city of Berlin.\n",
      "Joseph Reinach worked in the city of Paris.\n",
      "Billy Corgan worked in the city of Chicago.\n",
      "{} worked in the city of\n",
      "tensor(2.1816, device='cuda:0', dtype=torch.float16) tensor(4.7617, device='cuda:0', dtype=torch.float16)\n",
      "\n",
      "subject:  Joseph Reinach\n",
      "Carl Mayer worked in the city of Berlin.\n",
      "John Goodsir worked in the city of Edinburgh.\n",
      "Alban Berg worked in the city of Vienna.\n",
      "{} worked in the city of\n",
      "tensor(4.1875, device='cuda:0', dtype=torch.float16) tensor(6.5156, device='cuda:0', dtype=torch.float16)\n",
      "\n",
      "subject:  Billy Corgan\n",
      "Joseph Reinach worked in the city of Paris.\n",
      "Alban Berg worked in the city of Vienna.\n",
      "Carl Mayer worked in the city of Berlin.\n",
      "{} worked in the city of\n",
      "tensor(14.4297, device='cuda:0', dtype=torch.float16) tensor(36.5312, device='cuda:0', dtype=torch.float16)\n",
      "\n",
      "subject:  Alban Berg\n",
      "Joseph Reinach worked in the city of Paris.\n",
      "John Goodsir worked in the city of Edinburgh.\n",
      "Billy Corgan worked in the city of Chicago.\n",
      "{} worked in the city of\n",
      "CUDA out of memory\n",
      "trying with smaller icl >>  2\n"
     ]
    },
    {
     "data": {
      "application/vnd.jupyter.widget-view+json": {
       "model_id": "36f4fa11f2d84ea691de9795ee6eea01",
       "version_major": 2,
       "version_minor": 0
      },
      "text/plain": [
       "  0%|          | 0/5 [00:00<?, ?it/s]"
      ]
     },
     "metadata": {},
     "output_type": "display_data"
    },
    {
     "name": "stdout",
     "output_type": "stream",
     "text": [
      "subject:  John Goodsir\n",
      "Alban Berg worked in the city of Vienna.\n",
      "Joseph Reinach worked in the city of Paris.\n",
      "{} worked in the city of\n",
      "tensor(2.9590, device='cuda:0', dtype=torch.float16) tensor(13.4062, device='cuda:0', dtype=torch.float16)\n",
      "\n",
      "subject:  Joseph Reinach\n",
      "Alban Berg worked in the city of Vienna.\n",
      "Billy Corgan worked in the city of Chicago.\n",
      "{} worked in the city of\n",
      "tensor(4.7812, device='cuda:0', dtype=torch.float16) tensor(14.5312, device='cuda:0', dtype=torch.float16)\n",
      "\n",
      "subject:  Billy Corgan\n",
      "Alban Berg worked in the city of Vienna.\n",
      "Joseph Reinach worked in the city of Paris.\n",
      "{} worked in the city of\n",
      "tensor(14.1250, device='cuda:0', dtype=torch.float16) tensor(18.3906, device='cuda:0', dtype=torch.float16)\n",
      "\n",
      "subject:  Alban Berg\n",
      "Carl Mayer worked in the city of Berlin.\n",
      "Joseph Reinach worked in the city of Paris.\n",
      "{} worked in the city of\n",
      "tensor(0.7246, device='cuda:0', dtype=torch.float16) tensor(4.5977, device='cuda:0', dtype=torch.float16)\n",
      "\n",
      "subject:  Carl Mayer\n",
      "John Goodsir worked in the city of Edinburgh.\n",
      "Joseph Reinach worked in the city of Paris.\n",
      "{} worked in the city of\n",
      "tensor(3.0625, device='cuda:0', dtype=torch.float16) tensor(1.9766, device='cuda:0', dtype=torch.float16)\n",
      "\n"
     ]
    },
    {
     "data": {
      "application/vnd.jupyter.widget-view+json": {
       "model_id": "ee38b40e0f76442e9774562896be3740",
       "version_major": 2,
       "version_minor": 0
      },
      "text/plain": [
       "  0%|          | 0/5 [00:00<?, ?it/s]"
      ]
     },
     "metadata": {},
     "output_type": "display_data"
    },
    {
     "name": "stdout",
     "output_type": "stream",
     "text": [
      "subject:  Billy Corgan\n",
      "Christian Bohr worked in the city of Copenhagen.\n",
      "Alban Berg worked in the city of Vienna.\n",
      "Howard Florey worked in the city of London.\n",
      "{} worked in the city of\n",
      "CUDA out of memory\n",
      "trying with smaller icl >>  2\n"
     ]
    },
    {
     "data": {
      "application/vnd.jupyter.widget-view+json": {
       "model_id": "6a9ce5cb11a343d3a7fe6792b9b74737",
       "version_major": 2,
       "version_minor": 0
      },
      "text/plain": [
       "  0%|          | 0/5 [00:00<?, ?it/s]"
      ]
     },
     "metadata": {},
     "output_type": "display_data"
    },
    {
     "name": "stdout",
     "output_type": "stream",
     "text": [
      "subject:  Billy Corgan\n",
      "Christian Bohr worked in the city of Copenhagen.\n",
      "Howard Florey worked in the city of London.\n",
      "{} worked in the city of\n",
      "tensor(15.2969, device='cuda:0', dtype=torch.float16) tensor(101.2500, device='cuda:0', dtype=torch.float16)\n",
      "\n",
      "subject:  Joseph Reinach\n",
      "Billy Corgan worked in the city of Chicago.\n",
      "Howard Florey worked in the city of London.\n",
      "{} worked in the city of\n",
      "tensor(6.1172, device='cuda:0', dtype=torch.float16) tensor(16.6719, device='cuda:0', dtype=torch.float16)\n",
      "\n",
      "subject:  Christian Bohr\n",
      "Howard Florey worked in the city of London.\n",
      "Joseph Reinach worked in the city of Paris.\n",
      "{} worked in the city of\n",
      "tensor(12.8828, device='cuda:0', dtype=torch.float16) tensor(19., device='cuda:0', dtype=torch.float16)\n",
      "\n",
      "subject:  Howard Florey\n",
      "Christian Bohr worked in the city of Copenhagen.\n",
      "Billy Corgan worked in the city of Chicago.\n",
      "{} worked in the city of\n",
      "tensor(20.8906, device='cuda:0', dtype=torch.float16) tensor(102.3750, device='cuda:0', dtype=torch.float16)\n",
      "\n",
      "subject:  Alban Berg\n",
      "Howard Florey worked in the city of London.\n",
      "Christian Bohr worked in the city of Copenhagen.\n",
      "{} worked in the city of\n",
      "tensor(0.6987, device='cuda:0', dtype=torch.float16) tensor(9.3203, device='cuda:0', dtype=torch.float16)\n",
      "\n"
     ]
    },
    {
     "data": {
      "application/vnd.jupyter.widget-view+json": {
       "model_id": "f7984c919ff943dfb0de6d0e71f8507c",
       "version_major": 2,
       "version_minor": 0
      },
      "text/plain": [
       "  0%|          | 0/5 [00:00<?, ?it/s]"
      ]
     },
     "metadata": {},
     "output_type": "display_data"
    },
    {
     "name": "stdout",
     "output_type": "stream",
     "text": [
      "subject:  Albert Einstein\n",
      "Christian Bohr worked in the city of Copenhagen.\n",
      "Carl Mayer worked in the city of Berlin.\n",
      "Halvard Lange worked in the city of Oslo.\n",
      "{} worked in the city of\n",
      "tensor(3.8301, device='cuda:0', dtype=torch.float16) tensor(100.2500, device='cuda:0', dtype=torch.float16)\n",
      "\n",
      "subject:  Carl Mayer\n",
      "Billy Corgan worked in the city of Chicago.\n",
      "Christian Bohr worked in the city of Copenhagen.\n",
      "Albert Einstein worked in the city of Bern.\n",
      "{} worked in the city of\n",
      "tensor(2.0469, device='cuda:0', dtype=torch.float16) tensor(14.8906, device='cuda:0', dtype=torch.float16)\n",
      "\n",
      "subject:  Halvard Lange\n",
      "Christian Bohr worked in the city of Copenhagen.\n",
      "Albert Einstein worked in the city of Bern.\n",
      "Billy Corgan worked in the city of Chicago.\n",
      "{} worked in the city of\n",
      "tensor(0.5327, device='cuda:0', dtype=torch.float16) tensor(99.8750, device='cuda:0', dtype=torch.float16)\n",
      "\n",
      "subject:  Billy Corgan\n",
      "Carl Mayer worked in the city of Berlin.\n",
      "Albert Einstein worked in the city of Bern.\n",
      "Halvard Lange worked in the city of Oslo.\n",
      "{} worked in the city of\n",
      "tensor(11.3438, device='cuda:0', dtype=torch.float16) tensor(12.0938, device='cuda:0', dtype=torch.float16)\n",
      "\n",
      "subject:  Christian Bohr\n",
      "Halvard Lange worked in the city of Oslo.\n",
      "Billy Corgan worked in the city of Chicago.\n",
      "Carl Mayer worked in the city of Berlin.\n",
      "{} worked in the city of\n",
      "tensor(9.4375, device='cuda:0', dtype=torch.float16) tensor(65.8125, device='cuda:0', dtype=torch.float16)\n",
      "\n"
     ]
    },
    {
     "data": {
      "application/vnd.jupyter.widget-view+json": {
       "model_id": "7d84f0b6e3c04fbcb2abc8335876c467",
       "version_major": 2,
       "version_minor": 0
      },
      "text/plain": [
       "  0%|          | 0/5 [00:00<?, ?it/s]"
      ]
     },
     "metadata": {},
     "output_type": "display_data"
    },
    {
     "name": "stdout",
     "output_type": "stream",
     "text": [
      "subject:  Halvard Lange\n",
      "John Goodsir worked in the city of Edinburgh.\n",
      "Alban Berg worked in the city of Vienna.\n",
      "Joseph Reinach worked in the city of Paris.\n",
      "{} worked in the city of\n",
      "CUDA out of memory\n",
      "trying with smaller icl >>  2\n"
     ]
    },
    {
     "data": {
      "application/vnd.jupyter.widget-view+json": {
       "model_id": "5cc217f64a1740cc89f047168248ece9",
       "version_major": 2,
       "version_minor": 0
      },
      "text/plain": [
       "  0%|          | 0/5 [00:00<?, ?it/s]"
      ]
     },
     "metadata": {},
     "output_type": "display_data"
    },
    {
     "name": "stdout",
     "output_type": "stream",
     "text": [
      "subject:  Halvard Lange\n",
      "Christian Bohr worked in the city of Copenhagen.\n",
      "Joseph Reinach worked in the city of Paris.\n",
      "{} worked in the city of\n",
      "tensor(0.5322, device='cuda:0', dtype=torch.float16) tensor(99.8750, device='cuda:0', dtype=torch.float16)\n",
      "\n",
      "subject:  Joseph Reinach\n",
      "John Goodsir worked in the city of Edinburgh.\n",
      "Alban Berg worked in the city of Vienna.\n",
      "{} worked in the city of\n",
      "tensor(5.6992, device='cuda:0', dtype=torch.float16) tensor(6.5898, device='cuda:0', dtype=torch.float16)\n",
      "\n",
      "subject:  Christian Bohr\n",
      "John Goodsir worked in the city of Edinburgh.\n",
      "Joseph Reinach worked in the city of Paris.\n",
      "{} worked in the city of\n",
      "tensor(11.3359, device='cuda:0', dtype=torch.float16) tensor(13.4766, device='cuda:0', dtype=torch.float16)\n",
      "\n",
      "subject:  Alban Berg\n",
      "Joseph Reinach worked in the city of Paris.\n",
      "Halvard Lange worked in the city of Oslo.\n",
      "{} worked in the city of\n",
      "tensor(0.8193, device='cuda:0', dtype=torch.float16) tensor(34.4688, device='cuda:0', dtype=torch.float16)\n",
      "\n",
      "subject:  John Goodsir\n",
      "Halvard Lange worked in the city of Oslo.\n",
      "Alban Berg worked in the city of Vienna.\n",
      "{} worked in the city of\n",
      "tensor(3.8535, device='cuda:0', dtype=torch.float16) tensor(65.0625, device='cuda:0', dtype=torch.float16)\n",
      "\n"
     ]
    },
    {
     "data": {
      "application/vnd.jupyter.widget-view+json": {
       "model_id": "4ed24155477243599e772695d55d911b",
       "version_major": 2,
       "version_minor": 0
      },
      "text/plain": [
       "  0%|          | 0/5 [00:00<?, ?it/s]"
      ]
     },
     "metadata": {},
     "output_type": "display_data"
    },
    {
     "name": "stdout",
     "output_type": "stream",
     "text": [
      "subject:  Alban Berg\n",
      "Billy Corgan worked in the city of Chicago.\n",
      "Howard Florey worked in the city of London.\n",
      "John Goodsir worked in the city of Edinburgh.\n",
      "{} worked in the city of\n",
      "CUDA out of memory\n",
      "trying with smaller icl >>  2\n"
     ]
    },
    {
     "data": {
      "application/vnd.jupyter.widget-view+json": {
       "model_id": "6a8105b733f842f0aba99d4880a5e550",
       "version_major": 2,
       "version_minor": 0
      },
      "text/plain": [
       "  0%|          | 0/5 [00:00<?, ?it/s]"
      ]
     },
     "metadata": {},
     "output_type": "display_data"
    },
    {
     "name": "stdout",
     "output_type": "stream",
     "text": [
      "subject:  Alban Berg\n",
      "Howard Florey worked in the city of London.\n",
      "Carl Mayer worked in the city of Berlin.\n",
      "{} worked in the city of\n",
      "tensor(0.5786, device='cuda:0', dtype=torch.float16) tensor(9.3125, device='cuda:0', dtype=torch.float16)\n",
      "\n",
      "subject:  Carl Mayer\n",
      "Billy Corgan worked in the city of Chicago.\n",
      "Howard Florey worked in the city of London.\n",
      "{} worked in the city of\n",
      "tensor(2.0117, device='cuda:0', dtype=torch.float16) tensor(14.8516, device='cuda:0', dtype=torch.float16)\n",
      "\n",
      "subject:  John Goodsir\n",
      "Billy Corgan worked in the city of Chicago.\n",
      "Alban Berg worked in the city of Vienna.\n",
      "{} worked in the city of\n",
      "tensor(2.8555, device='cuda:0', dtype=torch.float16) tensor(14.9688, device='cuda:0', dtype=torch.float16)\n",
      "\n",
      "subject:  Billy Corgan\n",
      "Alban Berg worked in the city of Vienna.\n",
      "John Goodsir worked in the city of Edinburgh.\n",
      "{} worked in the city of\n",
      "tensor(16.7656, device='cuda:0', dtype=torch.float16) tensor(20.1875, device='cuda:0', dtype=torch.float16)\n",
      "\n",
      "subject:  Howard Florey\n",
      "Alban Berg worked in the city of Vienna.\n",
      "Carl Mayer worked in the city of Berlin.\n",
      "{} worked in the city of\n",
      "tensor(20.3750, device='cuda:0', dtype=torch.float16) tensor(24.0469, device='cuda:0', dtype=torch.float16)\n",
      "\n",
      "Saving weights and biases >>  gpt-j/jacobians_averaged_collection/after__ln_f/P937.npz\n",
      "----------------------------------------------------\n",
      "zzzzzzzzzzzzzzzzzzzzzzzzzzzzzzzzzzzzzzzzzzzzzzzzzzzz\n",
      "P27 {} is a citizen of\n",
      "zzzzzzzzzzzzzzzzzzzzzzzzzzzzzzzzzzzzzzzzzzzzzzzzzzzz\n",
      "305\n",
      "{} is a citizen of\n"
     ]
    },
    {
     "data": {
      "application/vnd.jupyter.widget-view+json": {
       "model_id": "74a955a4ca594eefba6afa9e85d62151",
       "version_major": 2,
       "version_minor": 0
      },
      "text/plain": [
       "  0%|          | 0/10 [00:00<?, ?it/s]"
      ]
     },
     "metadata": {},
     "output_type": "display_data"
    },
    {
     "data": {
      "application/vnd.jupyter.widget-view+json": {
       "model_id": "fb6348a4ff174b04b3c0741eab2c359a",
       "version_major": 2,
       "version_minor": 0
      },
      "text/plain": [
       "  0%|          | 0/5 [00:00<?, ?it/s]"
      ]
     },
     "metadata": {},
     "output_type": "display_data"
    },
    {
     "name": "stdout",
     "output_type": "stream",
     "text": [
      "subject:  Ronaldinho\n",
      "Andrew Bogut is a citizen of Australia.\n",
      "Ambar Roy is a citizen of India.\n",
      "Thomas Ong is a citizen of Singapore.\n",
      "{} is a citizen of\n",
      "tensor(4.2227, device='cuda:0', dtype=torch.float16) tensor(83., device='cuda:0', dtype=torch.float16)\n",
      "\n",
      "subject:  Mario Monti\n",
      "Thomas Ong is a citizen of Singapore.\n",
      "Andrew Bogut is a citizen of Australia.\n",
      "Ambar Roy is a citizen of India.\n",
      "{} is a citizen of\n",
      "tensor(10.1406, device='cuda:0', dtype=torch.float16) tensor(28.9062, device='cuda:0', dtype=torch.float16)\n",
      "\n",
      "subject:  Thomas Ong\n",
      "Ambar Roy is a citizen of India.\n",
      "Andrew Bogut is a citizen of Australia.\n",
      "Ronaldinho is a citizen of Brazil.\n",
      "{} is a citizen of\n",
      "tensor(4.9219, device='cuda:0', dtype=torch.float16) tensor(79.3125, device='cuda:0', dtype=torch.float16)\n",
      "\n",
      "subject:  Andrew Bogut\n",
      "Thomas Ong is a citizen of Singapore.\n",
      "Ronaldinho is a citizen of Brazil.\n",
      "Mario Monti is a citizen of Italy.\n",
      "{} is a citizen of\n",
      "tensor(9.2188, device='cuda:0', dtype=torch.float16) tensor(30., device='cuda:0', dtype=torch.float16)\n",
      "\n",
      "subject:  Ambar Roy\n",
      "Thomas Ong is a citizen of Singapore.\n",
      "Mario Monti is a citizen of Italy.\n",
      "Andrew Bogut is a citizen of Australia.\n",
      "{} is a citizen of\n",
      "tensor(6.4844, device='cuda:0', dtype=torch.float16) tensor(27.4531, device='cuda:0', dtype=torch.float16)\n",
      "\n"
     ]
    },
    {
     "data": {
      "application/vnd.jupyter.widget-view+json": {
       "model_id": "ea5195de0d114f7b868ecbbb2fb7a949",
       "version_major": 2,
       "version_minor": 0
      },
      "text/plain": [
       "  0%|          | 0/5 [00:00<?, ?it/s]"
      ]
     },
     "metadata": {},
     "output_type": "display_data"
    },
    {
     "name": "stdout",
     "output_type": "stream",
     "text": [
      "subject:  Harashima\n",
      "Ronaldinho is a citizen of Brazil.\n",
      "Thomas Ong is a citizen of Singapore.\n",
      "Pierre Cardin is a citizen of France.\n",
      "{} is a citizen of\n",
      "tensor(4.7383, device='cuda:0', dtype=torch.float16) tensor(25.4062, device='cuda:0', dtype=torch.float16)\n",
      "\n",
      "subject:  Thomas Ong\n",
      "Harashima is a citizen of Japan.\n",
      "Ronaldinho is a citizen of Brazil.\n",
      "Andrew Bogut is a citizen of Australia.\n",
      "{} is a citizen of\n",
      "tensor(5.4805, device='cuda:0', dtype=torch.float16) tensor(81.0625, device='cuda:0', dtype=torch.float16)\n",
      "\n",
      "subject:  Andrew Bogut\n",
      "Pierre Cardin is a citizen of France.\n",
      "Harashima is a citizen of Japan.\n",
      "Thomas Ong is a citizen of Singapore.\n",
      "{} is a citizen of\n",
      "tensor(6.8086, device='cuda:0', dtype=torch.float16) tensor(18.6406, device='cuda:0', dtype=torch.float16)\n",
      "\n",
      "subject:  Pierre Cardin\n",
      "Andrew Bogut is a citizen of Australia.\n",
      "Thomas Ong is a citizen of Singapore.\n",
      "Ronaldinho is a citizen of Brazil.\n",
      "{} is a citizen of\n",
      "tensor(4.4414, device='cuda:0', dtype=torch.float16) tensor(82.8750, device='cuda:0', dtype=torch.float16)\n",
      "\n",
      "subject:  Ronaldinho\n",
      "Andrew Bogut is a citizen of Australia.\n",
      "Harashima is a citizen of Japan.\n",
      "Pierre Cardin is a citizen of France.\n",
      "{} is a citizen of\n",
      "tensor(3.3262, device='cuda:0', dtype=torch.float16) tensor(82.9375, device='cuda:0', dtype=torch.float16)\n",
      "\n"
     ]
    },
    {
     "data": {
      "application/vnd.jupyter.widget-view+json": {
       "model_id": "3ae089b872ea4489abb7a18ec2ba454e",
       "version_major": 2,
       "version_minor": 0
      },
      "text/plain": [
       "  0%|          | 0/5 [00:00<?, ?it/s]"
      ]
     },
     "metadata": {},
     "output_type": "display_data"
    },
    {
     "name": "stdout",
     "output_type": "stream",
     "text": [
      "subject:  Thomas Ong\n",
      "Ronaldinho is a citizen of Brazil.\n",
      "Harashima is a citizen of Japan.\n",
      "Andrew Bogut is a citizen of Australia.\n",
      "{} is a citizen of\n",
      "tensor(5.5703, device='cuda:0', dtype=torch.float16) tensor(25.6094, device='cuda:0', dtype=torch.float16)\n",
      "\n",
      "subject:  Andrew Bogut\n",
      "Ronaldinho is a citizen of Brazil.\n",
      "Thomas Ong is a citizen of Singapore.\n",
      "Harashima is a citizen of Japan.\n",
      "{} is a citizen of\n",
      "tensor(9.7344, device='cuda:0', dtype=torch.float16) tensor(30.1406, device='cuda:0', dtype=torch.float16)\n",
      "\n",
      "subject:  Ambar Roy\n",
      "Thomas Ong is a citizen of Singapore.\n",
      "Ronaldinho is a citizen of Brazil.\n",
      "Andrew Bogut is a citizen of Australia.\n",
      "{} is a citizen of\n",
      "tensor(5.6445, device='cuda:0', dtype=torch.float16) tensor(27.3438, device='cuda:0', dtype=torch.float16)\n",
      "\n",
      "subject:  Ronaldinho\n",
      "Harashima is a citizen of Japan.\n",
      "Ambar Roy is a citizen of India.\n",
      "Andrew Bogut is a citizen of Australia.\n",
      "{} is a citizen of\n",
      "tensor(5.2578, device='cuda:0', dtype=torch.float16) tensor(81.3125, device='cuda:0', dtype=torch.float16)\n",
      "\n",
      "subject:  Harashima\n",
      "Ambar Roy is a citizen of India.\n",
      "Thomas Ong is a citizen of Singapore.\n",
      "Andrew Bogut is a citizen of Australia.\n",
      "{} is a citizen of\n",
      "tensor(5.4219, device='cuda:0', dtype=torch.float16) tensor(79.2500, device='cuda:0', dtype=torch.float16)\n",
      "\n"
     ]
    },
    {
     "data": {
      "application/vnd.jupyter.widget-view+json": {
       "model_id": "017900df97e745d09c82902c41b574da",
       "version_major": 2,
       "version_minor": 0
      },
      "text/plain": [
       "  0%|          | 0/5 [00:00<?, ?it/s]"
      ]
     },
     "metadata": {},
     "output_type": "display_data"
    },
    {
     "name": "stdout",
     "output_type": "stream",
     "text": [
      "subject:  Ambar Roy\n",
      "Ronaldinho is a citizen of Brazil.\n",
      "Pierre Cardin is a citizen of France.\n",
      "Andrew Bogut is a citizen of Australia.\n",
      "{} is a citizen of\n",
      "tensor(5.3633, device='cuda:0', dtype=torch.float16) tensor(25.5781, device='cuda:0', dtype=torch.float16)\n",
      "\n",
      "subject:  Ronaldinho\n",
      "Andrew Bogut is a citizen of Australia.\n",
      "Ambar Roy is a citizen of India.\n",
      "Mario Monti is a citizen of Italy.\n",
      "{} is a citizen of\n",
      "tensor(4.6797, device='cuda:0', dtype=torch.float16) tensor(83.0625, device='cuda:0', dtype=torch.float16)\n",
      "\n",
      "subject:  Mario Monti\n",
      "Andrew Bogut is a citizen of Australia.\n",
      "Ronaldinho is a citizen of Brazil.\n",
      "Pierre Cardin is a citizen of France.\n",
      "{} is a citizen of\n",
      "tensor(10.8594, device='cuda:0', dtype=torch.float16) tensor(83.8125, device='cuda:0', dtype=torch.float16)\n",
      "\n",
      "subject:  Andrew Bogut\n",
      "Ambar Roy is a citizen of India.\n",
      "Pierre Cardin is a citizen of France.\n",
      "Ronaldinho is a citizen of Brazil.\n",
      "{} is a citizen of\n",
      "tensor(10.1797, device='cuda:0', dtype=torch.float16) tensor(80.3125, device='cuda:0', dtype=torch.float16)\n",
      "\n",
      "subject:  Pierre Cardin\n",
      "Ronaldinho is a citizen of Brazil.\n",
      "Mario Monti is a citizen of Italy.\n",
      "Ambar Roy is a citizen of India.\n",
      "{} is a citizen of\n",
      "tensor(3.7129, device='cuda:0', dtype=torch.float16) tensor(25.3438, device='cuda:0', dtype=torch.float16)\n",
      "\n"
     ]
    },
    {
     "data": {
      "application/vnd.jupyter.widget-view+json": {
       "model_id": "6adebf7fe6b349faaac475d059ab77dd",
       "version_major": 2,
       "version_minor": 0
      },
      "text/plain": [
       "  0%|          | 0/5 [00:00<?, ?it/s]"
      ]
     },
     "metadata": {},
     "output_type": "display_data"
    },
    {
     "name": "stdout",
     "output_type": "stream",
     "text": [
      "subject:  Harashima\n",
      "Andrew Bogut is a citizen of Australia.\n",
      "Mario Monti is a citizen of Italy.\n",
      "Ambar Roy is a citizen of India.\n",
      "{} is a citizen of\n",
      "tensor(5.5195, device='cuda:0', dtype=torch.float16) tensor(83., device='cuda:0', dtype=torch.float16)\n",
      "\n",
      "subject:  Ronaldinho\n",
      "Harashima is a citizen of Japan.\n",
      "Mario Monti is a citizen of Italy.\n",
      "Andrew Bogut is a citizen of Australia.\n",
      "{} is a citizen of\n",
      "tensor(4.9180, device='cuda:0', dtype=torch.float16) tensor(81.2500, device='cuda:0', dtype=torch.float16)\n",
      "\n",
      "subject:  Ambar Roy\n",
      "Harashima is a citizen of Japan.\n",
      "Mario Monti is a citizen of Italy.\n",
      "Ronaldinho is a citizen of Brazil.\n",
      "{} is a citizen of\n",
      "tensor(6.5391, device='cuda:0', dtype=torch.float16) tensor(81.2500, device='cuda:0', dtype=torch.float16)\n",
      "\n",
      "subject:  Andrew Bogut\n",
      "Harashima is a citizen of Japan.\n",
      "Ambar Roy is a citizen of India.\n",
      "Mario Monti is a citizen of Italy.\n",
      "{} is a citizen of\n",
      "tensor(10.5938, device='cuda:0', dtype=torch.float16) tensor(82.0625, device='cuda:0', dtype=torch.float16)\n",
      "\n",
      "subject:  Mario Monti\n",
      "Andrew Bogut is a citizen of Australia.\n",
      "Harashima is a citizen of Japan.\n",
      "Ambar Roy is a citizen of India.\n",
      "{} is a citizen of\n",
      "tensor(9.9219, device='cuda:0', dtype=torch.float16) tensor(83.4375, device='cuda:0', dtype=torch.float16)\n",
      "\n"
     ]
    },
    {
     "data": {
      "application/vnd.jupyter.widget-view+json": {
       "model_id": "7327efe11f40494ab488acb3abea5600",
       "version_major": 2,
       "version_minor": 0
      },
      "text/plain": [
       "  0%|          | 0/5 [00:00<?, ?it/s]"
      ]
     },
     "metadata": {},
     "output_type": "display_data"
    },
    {
     "name": "stdout",
     "output_type": "stream",
     "text": [
      "subject:  Ronaldinho\n",
      "Pierre Cardin is a citizen of France.\n",
      "Mario Monti is a citizen of Italy.\n",
      "Harashima is a citizen of Japan.\n",
      "{} is a citizen of\n",
      "tensor(4.9219, device='cuda:0', dtype=torch.float16) tensor(16.2969, device='cuda:0', dtype=torch.float16)\n",
      "\n",
      "subject:  Pierre Cardin\n",
      "Harashima is a citizen of Japan.\n",
      "Ambar Roy is a citizen of India.\n",
      "Mario Monti is a citizen of Italy.\n",
      "{} is a citizen of\n",
      "tensor(3.6504, device='cuda:0', dtype=torch.float16) tensor(81., device='cuda:0', dtype=torch.float16)\n",
      "\n",
      "subject:  Harashima\n",
      "Ronaldinho is a citizen of Brazil.\n",
      "Ambar Roy is a citizen of India.\n",
      "Mario Monti is a citizen of Italy.\n",
      "{} is a citizen of\n",
      "tensor(5.6641, device='cuda:0', dtype=torch.float16) tensor(25.7031, device='cuda:0', dtype=torch.float16)\n",
      "\n",
      "subject:  Ambar Roy\n",
      "Ronaldinho is a citizen of Brazil.\n",
      "Mario Monti is a citizen of Italy.\n",
      "Harashima is a citizen of Japan.\n",
      "{} is a citizen of\n",
      "tensor(5.0469, device='cuda:0', dtype=torch.float16) tensor(25.5625, device='cuda:0', dtype=torch.float16)\n",
      "\n",
      "subject:  Mario Monti\n",
      "Pierre Cardin is a citizen of France.\n",
      "Ronaldinho is a citizen of Brazil.\n",
      "Ambar Roy is a citizen of India.\n",
      "{} is a citizen of\n",
      "tensor(9.4844, device='cuda:0', dtype=torch.float16) tensor(18.4844, device='cuda:0', dtype=torch.float16)\n",
      "\n"
     ]
    },
    {
     "data": {
      "application/vnd.jupyter.widget-view+json": {
       "model_id": "05c8e2f8bd1540bcb3e2de8822fbd772",
       "version_major": 2,
       "version_minor": 0
      },
      "text/plain": [
       "  0%|          | 0/5 [00:00<?, ?it/s]"
      ]
     },
     "metadata": {},
     "output_type": "display_data"
    },
    {
     "name": "stdout",
     "output_type": "stream",
     "text": [
      "subject:  Mario Monti\n",
      "Thomas Ong is a citizen of Singapore.\n",
      "Andrew Bogut is a citizen of Australia.\n",
      "Ambar Roy is a citizen of India.\n",
      "{} is a citizen of\n",
      "tensor(10.1406, device='cuda:0', dtype=torch.float16) tensor(28.9062, device='cuda:0', dtype=torch.float16)\n",
      "\n",
      "subject:  Pierre Cardin\n",
      "Thomas Ong is a citizen of Singapore.\n",
      "Andrew Bogut is a citizen of Australia.\n",
      "Ambar Roy is a citizen of India.\n",
      "{} is a citizen of\n",
      "tensor(4.1406, device='cuda:0', dtype=torch.float16) tensor(27.1250, device='cuda:0', dtype=torch.float16)\n",
      "\n",
      "subject:  Ambar Roy\n",
      "Thomas Ong is a citizen of Singapore.\n",
      "Andrew Bogut is a citizen of Australia.\n",
      "Pierre Cardin is a citizen of France.\n",
      "{} is a citizen of\n",
      "tensor(4.9492, device='cuda:0', dtype=torch.float16) tensor(27.1562, device='cuda:0', dtype=torch.float16)\n",
      "\n",
      "subject:  Andrew Bogut\n",
      "Pierre Cardin is a citizen of France.\n",
      "Mario Monti is a citizen of Italy.\n",
      "Thomas Ong is a citizen of Singapore.\n",
      "{} is a citizen of\n",
      "tensor(9.3281, device='cuda:0', dtype=torch.float16) tensor(20.4844, device='cuda:0', dtype=torch.float16)\n",
      "\n",
      "subject:  Thomas Ong\n",
      "Andrew Bogut is a citizen of Australia.\n",
      "Ambar Roy is a citizen of India.\n",
      "Mario Monti is a citizen of Italy.\n",
      "{} is a citizen of\n",
      "tensor(5.2656, device='cuda:0', dtype=torch.float16) tensor(83.0625, device='cuda:0', dtype=torch.float16)\n",
      "\n"
     ]
    },
    {
     "data": {
      "application/vnd.jupyter.widget-view+json": {
       "model_id": "7642441bdaa44c669123d800fbd9369a",
       "version_major": 2,
       "version_minor": 0
      },
      "text/plain": [
       "  0%|          | 0/5 [00:00<?, ?it/s]"
      ]
     },
     "metadata": {},
     "output_type": "display_data"
    },
    {
     "name": "stdout",
     "output_type": "stream",
     "text": [
      "subject:  Mario Monti\n",
      "Harashima is a citizen of Japan.\n",
      "Andrew Bogut is a citizen of Australia.\n",
      "Thomas Ong is a citizen of Singapore.\n",
      "{} is a citizen of\n",
      "tensor(10.0938, device='cuda:0', dtype=torch.float16) tensor(81.6250, device='cuda:0', dtype=torch.float16)\n",
      "\n",
      "subject:  Ronaldinho\n",
      "Thomas Ong is a citizen of Singapore.\n",
      "Andrew Bogut is a citizen of Australia.\n",
      "Mario Monti is a citizen of Italy.\n",
      "{} is a citizen of\n",
      "tensor(4.8789, device='cuda:0', dtype=torch.float16) tensor(27.7656, device='cuda:0', dtype=torch.float16)\n",
      "\n",
      "subject:  Harashima\n",
      "Mario Monti is a citizen of Italy.\n",
      "Ronaldinho is a citizen of Brazil.\n",
      "Thomas Ong is a citizen of Singapore.\n",
      "{} is a citizen of\n",
      "tensor(5.8516, device='cuda:0', dtype=torch.float16) tensor(33.3438, device='cuda:0', dtype=torch.float16)\n",
      "\n",
      "subject:  Thomas Ong\n",
      "Harashima is a citizen of Japan.\n",
      "Andrew Bogut is a citizen of Australia.\n",
      "Ronaldinho is a citizen of Brazil.\n",
      "{} is a citizen of\n",
      "tensor(5.6016, device='cuda:0', dtype=torch.float16) tensor(81., device='cuda:0', dtype=torch.float16)\n",
      "\n",
      "subject:  Andrew Bogut\n",
      "Thomas Ong is a citizen of Singapore.\n",
      "Ronaldinho is a citizen of Brazil.\n",
      "Mario Monti is a citizen of Italy.\n",
      "{} is a citizen of\n",
      "tensor(9.2188, device='cuda:0', dtype=torch.float16) tensor(30., device='cuda:0', dtype=torch.float16)\n",
      "\n"
     ]
    },
    {
     "data": {
      "application/vnd.jupyter.widget-view+json": {
       "model_id": "94807c33a4f14a70a43df5a70629c5cc",
       "version_major": 2,
       "version_minor": 0
      },
      "text/plain": [
       "  0%|          | 0/5 [00:00<?, ?it/s]"
      ]
     },
     "metadata": {},
     "output_type": "display_data"
    },
    {
     "name": "stdout",
     "output_type": "stream",
     "text": [
      "subject:  Thomas Ong\n",
      "Andrew Bogut is a citizen of Australia.\n",
      "Ambar Roy is a citizen of India.\n",
      "Harashima is a citizen of Japan.\n",
      "{} is a citizen of\n",
      "tensor(5.4844, device='cuda:0', dtype=torch.float16) tensor(83.0625, device='cuda:0', dtype=torch.float16)\n",
      "\n",
      "subject:  Ambar Roy\n",
      "Andrew Bogut is a citizen of Australia.\n",
      "Harashima is a citizen of Japan.\n",
      "Mario Monti is a citizen of Italy.\n",
      "{} is a citizen of\n",
      "tensor(5.8867, device='cuda:0', dtype=torch.float16) tensor(83., device='cuda:0', dtype=torch.float16)\n",
      "\n",
      "subject:  Mario Monti\n",
      "Andrew Bogut is a citizen of Australia.\n",
      "Ambar Roy is a citizen of India.\n",
      "Thomas Ong is a citizen of Singapore.\n",
      "{} is a citizen of\n",
      "tensor(9.4688, device='cuda:0', dtype=torch.float16) tensor(83.5625, device='cuda:0', dtype=torch.float16)\n",
      "\n",
      "subject:  Harashima\n",
      "Thomas Ong is a citizen of Singapore.\n",
      "Ambar Roy is a citizen of India.\n",
      "Mario Monti is a citizen of Italy.\n",
      "{} is a citizen of\n",
      "tensor(5.0859, device='cuda:0', dtype=torch.float16) tensor(27.2344, device='cuda:0', dtype=torch.float16)\n",
      "\n",
      "subject:  Andrew Bogut\n",
      "Mario Monti is a citizen of Italy.\n",
      "Ambar Roy is a citizen of India.\n",
      "Harashima is a citizen of Japan.\n",
      "{} is a citizen of\n",
      "tensor(10.6016, device='cuda:0', dtype=torch.float16) tensor(36.0938, device='cuda:0', dtype=torch.float16)\n",
      "\n"
     ]
    },
    {
     "data": {
      "application/vnd.jupyter.widget-view+json": {
       "model_id": "f77cb42626de4919aec39ae25c0c9ce6",
       "version_major": 2,
       "version_minor": 0
      },
      "text/plain": [
       "  0%|          | 0/5 [00:00<?, ?it/s]"
      ]
     },
     "metadata": {},
     "output_type": "display_data"
    },
    {
     "name": "stdout",
     "output_type": "stream",
     "text": [
      "subject:  Ronaldinho\n",
      "Ambar Roy is a citizen of India.\n",
      "Pierre Cardin is a citizen of France.\n",
      "Andrew Bogut is a citizen of Australia.\n",
      "{} is a citizen of\n",
      "tensor(4.1562, device='cuda:0', dtype=torch.float16) tensor(79.3750, device='cuda:0', dtype=torch.float16)\n",
      "\n",
      "subject:  Pierre Cardin\n",
      "Andrew Bogut is a citizen of Australia.\n",
      "Mario Monti is a citizen of Italy.\n",
      "Ambar Roy is a citizen of India.\n",
      "{} is a citizen of\n",
      "tensor(3.7168, device='cuda:0', dtype=torch.float16) tensor(82.8750, device='cuda:0', dtype=torch.float16)\n",
      "\n",
      "subject:  Andrew Bogut\n",
      "Pierre Cardin is a citizen of France.\n",
      "Ambar Roy is a citizen of India.\n",
      "Mario Monti is a citizen of Italy.\n",
      "{} is a citizen of\n",
      "tensor(9.4062, device='cuda:0', dtype=torch.float16) tensor(20., device='cuda:0', dtype=torch.float16)\n",
      "\n",
      "subject:  Mario Monti\n",
      "Ambar Roy is a citizen of India.\n",
      "Pierre Cardin is a citizen of France.\n",
      "Andrew Bogut is a citizen of Australia.\n",
      "{} is a citizen of\n",
      "tensor(10.6953, device='cuda:0', dtype=torch.float16) tensor(79.9375, device='cuda:0', dtype=torch.float16)\n",
      "\n",
      "subject:  Ambar Roy\n",
      "Mario Monti is a citizen of Italy.\n",
      "Ronaldinho is a citizen of Brazil.\n",
      "Pierre Cardin is a citizen of France.\n",
      "{} is a citizen of\n",
      "tensor(5.2969, device='cuda:0', dtype=torch.float16) tensor(33.2188, device='cuda:0', dtype=torch.float16)\n",
      "\n",
      "Saving weights and biases >>  gpt-j/jacobians_averaged_collection/after__ln_f/P27.npz\n",
      "----------------------------------------------------\n",
      "zzzzzzzzzzzzzzzzzzzzzzzzzzzzzzzzzzzzzzzzzzzzzzzzzzzz\n",
      "P101 {} works in the field of\n",
      "zzzzzzzzzzzzzzzzzzzzzzzzzzzzzzzzzzzzzzzzzzzzzzzzzzzz\n",
      "82\n",
      "{} works in the field of\n"
     ]
    },
    {
     "data": {
      "application/vnd.jupyter.widget-view+json": {
       "model_id": "1f97b8dea25246b0af2fdef2426b1f05",
       "version_major": 2,
       "version_minor": 0
      },
      "text/plain": [
       "  0%|          | 0/10 [00:00<?, ?it/s]"
      ]
     },
     "metadata": {},
     "output_type": "display_data"
    },
    {
     "data": {
      "application/vnd.jupyter.widget-view+json": {
       "model_id": "5e63244c6da8445a80dfd2a6fa2b5825",
       "version_major": 2,
       "version_minor": 0
      },
      "text/plain": [
       "  0%|          | 0/5 [00:00<?, ?it/s]"
      ]
     },
     "metadata": {},
     "output_type": "display_data"
    },
    {
     "name": "stdout",
     "output_type": "stream",
     "text": [
      "subject:  Michael Jackson\n",
      "European Physical Journal works in the field of physics.\n",
      "Euclid works in the field of geometry.\n",
      "Max Weber works in the field of sociology.\n",
      "{} works in the field of\n",
      "tensor(1.7627, device='cuda:0', dtype=torch.float16) tensor(2.5801, device='cuda:0', dtype=torch.float16)\n",
      "\n",
      "subject:  European Physical Journal\n",
      "Michael Jackson works in the field of musician.\n",
      "Max Weber works in the field of sociology.\n",
      "Euclid works in the field of geometry.\n",
      "{} works in the field of\n",
      "tensor(0.6782, device='cuda:0', dtype=torch.float16) tensor(38.4688, device='cuda:0', dtype=torch.float16)\n",
      "\n",
      "subject:  Max Weber\n",
      "millennialism works in the field of theology.\n",
      "European Physical Journal works in the field of physics.\n",
      "Michael Jackson works in the field of musician.\n",
      "{} works in the field of\n",
      "tensor(1.1182, device='cuda:0', dtype=torch.float16) tensor(73.6875, device='cuda:0', dtype=torch.float16)\n",
      "\n",
      "subject:  Euclid\n",
      "millennialism works in the field of theology.\n",
      "Max Weber works in the field of sociology.\n",
      "Michael Jackson works in the field of musician.\n",
      "{} works in the field of\n",
      "tensor(0.9009, device='cuda:0', dtype=torch.float16) tensor(73.6875, device='cuda:0', dtype=torch.float16)\n",
      "\n",
      "subject:  millennialism\n",
      "Michael Jackson works in the field of musician.\n",
      "Euclid works in the field of geometry.\n",
      "European Physical Journal works in the field of physics.\n",
      "{} works in the field of\n",
      "tensor(1.8662, device='cuda:0', dtype=torch.float16) tensor(38.5000, device='cuda:0', dtype=torch.float16)\n",
      "\n"
     ]
    },
    {
     "data": {
      "application/vnd.jupyter.widget-view+json": {
       "model_id": "8a06d18b96da4395997fbeb9a812a584",
       "version_major": 2,
       "version_minor": 0
      },
      "text/plain": [
       "  0%|          | 0/5 [00:00<?, ?it/s]"
      ]
     },
     "metadata": {},
     "output_type": "display_data"
    },
    {
     "name": "stdout",
     "output_type": "stream",
     "text": [
      "subject:  Hypatia\n",
      "millennialism works in the field of theology.\n",
      "Max Weber works in the field of sociology.\n",
      "Euclid works in the field of geometry.\n",
      "{} works in the field of\n",
      "tensor(14.7188, device='cuda:0', dtype=torch.float16) tensor(75.6875, device='cuda:0', dtype=torch.float16)\n",
      "\n",
      "subject:  Euclid\n",
      "James Hillman works in the field of psychology.\n",
      "millennialism works in the field of theology.\n",
      "Max Weber works in the field of sociology.\n",
      "{} works in the field of\n",
      "tensor(0.8647, device='cuda:0', dtype=torch.float16) tensor(0.8433, device='cuda:0', dtype=torch.float16)\n",
      "\n",
      "subject:  Max Weber\n",
      "Euclid works in the field of geometry.\n",
      "James Hillman works in the field of psychology.\n",
      "millennialism works in the field of theology.\n",
      "{} works in the field of\n",
      "tensor(0.7456, device='cuda:0', dtype=torch.float16) tensor(45.0938, device='cuda:0', dtype=torch.float16)\n",
      "\n",
      "subject:  millennialism\n",
      "James Hillman works in the field of psychology.\n",
      "Max Weber works in the field of sociology.\n",
      "Euclid works in the field of geometry.\n",
      "{} works in the field of\n",
      "tensor(2.0215, device='cuda:0', dtype=torch.float16) tensor(2.4121, device='cuda:0', dtype=torch.float16)\n",
      "\n",
      "subject:  James Hillman\n",
      "millennialism works in the field of theology.\n",
      "Max Weber works in the field of sociology.\n",
      "Euclid works in the field of geometry.\n",
      "{} works in the field of\n",
      "tensor(7.4258, device='cuda:0', dtype=torch.float16) tensor(74.4375, device='cuda:0', dtype=torch.float16)\n",
      "\n"
     ]
    },
    {
     "data": {
      "application/vnd.jupyter.widget-view+json": {
       "model_id": "4756e579d65a47d79a2b09137cd9f469",
       "version_major": 2,
       "version_minor": 0
      },
      "text/plain": [
       "  0%|          | 0/5 [00:00<?, ?it/s]"
      ]
     },
     "metadata": {},
     "output_type": "display_data"
    },
    {
     "name": "stdout",
     "output_type": "stream",
     "text": [
      "subject:  Max Weber\n",
      "Carl Menger works in the field of economics.\n",
      "European Physical Journal works in the field of physics.\n",
      "James Hillman works in the field of psychology.\n",
      "{} works in the field of\n",
      "tensor(0.5508, device='cuda:0', dtype=torch.float16) tensor(4.5859, device='cuda:0', dtype=torch.float16)\n",
      "\n",
      "subject:  Hypatia\n",
      "European Physical Journal works in the field of physics.\n",
      "James Hillman works in the field of psychology.\n",
      "Max Weber works in the field of sociology.\n",
      "{} works in the field of\n",
      "tensor(10.6719, device='cuda:0', dtype=torch.float16) tensor(11.6953, device='cuda:0', dtype=torch.float16)\n",
      "\n",
      "subject:  Carl Menger\n",
      "James Hillman works in the field of psychology.\n",
      "Hypatia works in the field of mathematics.\n",
      "Max Weber works in the field of sociology.\n",
      "{} works in the field of\n",
      "tensor(8.5469, device='cuda:0', dtype=torch.float16) tensor(8.4141, device='cuda:0', dtype=torch.float16)\n",
      "\n",
      "subject:  European Physical Journal\n",
      "Max Weber works in the field of sociology.\n",
      "Hypatia works in the field of mathematics.\n",
      "James Hillman works in the field of psychology.\n",
      "{} works in the field of\n",
      "tensor(0.4456, device='cuda:0', dtype=torch.float16) tensor(56.3125, device='cuda:0', dtype=torch.float16)\n",
      "\n",
      "subject:  James Hillman\n",
      "European Physical Journal works in the field of physics.\n",
      "Max Weber works in the field of sociology.\n",
      "Carl Menger works in the field of economics.\n",
      "{} works in the field of\n",
      "tensor(6.7422, device='cuda:0', dtype=torch.float16) tensor(10.7812, device='cuda:0', dtype=torch.float16)\n",
      "\n"
     ]
    },
    {
     "data": {
      "application/vnd.jupyter.widget-view+json": {
       "model_id": "49c455bb49114344919266401bc7d928",
       "version_major": 2,
       "version_minor": 0
      },
      "text/plain": [
       "  0%|          | 0/5 [00:00<?, ?it/s]"
      ]
     },
     "metadata": {},
     "output_type": "display_data"
    },
    {
     "name": "stdout",
     "output_type": "stream",
     "text": [
      "subject:  Hypatia\n",
      "Sima Qian works in the field of history.\n",
      "Michael Jackson works in the field of musician.\n",
      "Max Weber works in the field of sociology.\n",
      "{} works in the field of\n",
      "tensor(11.1719, device='cuda:0', dtype=torch.float16) tensor(70.8125, device='cuda:0', dtype=torch.float16)\n",
      "\n",
      "subject:  Michael Jackson\n",
      "Euclid works in the field of geometry.\n",
      "Hypatia works in the field of mathematics.\n",
      "Max Weber works in the field of sociology.\n",
      "{} works in the field of\n",
      "tensor(1.6592, device='cuda:0', dtype=torch.float16) tensor(45.1250, device='cuda:0', dtype=torch.float16)\n",
      "\n",
      "subject:  Euclid\n",
      "Sima Qian works in the field of history.\n",
      "Max Weber works in the field of sociology.\n",
      "Hypatia works in the field of mathematics.\n",
      "{} works in the field of\n",
      "tensor(0.9912, device='cuda:0', dtype=torch.float16) tensor(69.4375, device='cuda:0', dtype=torch.float16)\n",
      "\n",
      "subject:  Max Weber\n",
      "Euclid works in the field of geometry.\n",
      "Michael Jackson works in the field of musician.\n",
      "Sima Qian works in the field of history.\n",
      "{} works in the field of\n",
      "tensor(0.9116, device='cuda:0', dtype=torch.float16) tensor(45.0938, device='cuda:0', dtype=torch.float16)\n",
      "\n",
      "subject:  Sima Qian\n",
      "Euclid works in the field of geometry.\n",
      "Hypatia works in the field of mathematics.\n",
      "Max Weber works in the field of sociology.\n",
      "{} works in the field of\n",
      "tensor(1.9482, device='cuda:0', dtype=torch.float16) tensor(45.1250, device='cuda:0', dtype=torch.float16)\n",
      "\n"
     ]
    },
    {
     "data": {
      "application/vnd.jupyter.widget-view+json": {
       "model_id": "f0a05e698ad9446e9b883e24a9e1f94a",
       "version_major": 2,
       "version_minor": 0
      },
      "text/plain": [
       "  0%|          | 0/5 [00:00<?, ?it/s]"
      ]
     },
     "metadata": {},
     "output_type": "display_data"
    },
    {
     "name": "stdout",
     "output_type": "stream",
     "text": [
      "subject:  Euclid\n",
      "Michael Jackson works in the field of musician.\n",
      "James Hillman works in the field of psychology.\n",
      "Hypatia works in the field of mathematics.\n",
      "{} works in the field of\n",
      "tensor(1.1592, device='cuda:0', dtype=torch.float16) tensor(38.4688, device='cuda:0', dtype=torch.float16)\n",
      "\n",
      "subject:  Hypatia\n",
      "James Hillman works in the field of psychology.\n",
      "Michael Jackson works in the field of musician.\n",
      "Euclid works in the field of geometry.\n",
      "{} works in the field of\n",
      "tensor(11.7109, device='cuda:0', dtype=torch.float16) tensor(14.8516, device='cuda:0', dtype=torch.float16)\n",
      "\n",
      "subject:  James Hillman\n",
      "Michael Jackson works in the field of musician.\n",
      "Euclid works in the field of geometry.\n",
      "Hypatia works in the field of mathematics.\n",
      "{} works in the field of\n",
      "tensor(5.8203, device='cuda:0', dtype=torch.float16) tensor(39.5938, device='cuda:0', dtype=torch.float16)\n",
      "\n",
      "subject:  Sima Qian\n",
      "Hypatia works in the field of mathematics.\n",
      "Euclid works in the field of geometry.\n",
      "James Hillman works in the field of psychology.\n",
      "{} works in the field of\n",
      "tensor(2.0938, device='cuda:0', dtype=torch.float16) tensor(60.1875, device='cuda:0', dtype=torch.float16)\n",
      "\n",
      "subject:  Michael Jackson\n",
      "Euclid works in the field of geometry.\n",
      "James Hillman works in the field of psychology.\n",
      "Hypatia works in the field of mathematics.\n",
      "{} works in the field of\n",
      "tensor(1.4551, device='cuda:0', dtype=torch.float16) tensor(45.1250, device='cuda:0', dtype=torch.float16)\n",
      "\n"
     ]
    },
    {
     "data": {
      "application/vnd.jupyter.widget-view+json": {
       "model_id": "0cf6043918834a57aec917dd6fa3351b",
       "version_major": 2,
       "version_minor": 0
      },
      "text/plain": [
       "  0%|          | 0/5 [00:00<?, ?it/s]"
      ]
     },
     "metadata": {},
     "output_type": "display_data"
    },
    {
     "name": "stdout",
     "output_type": "stream",
     "text": [
      "subject:  Sima Qian\n",
      "Michael Jackson works in the field of musician.\n",
      "Edwin Hubble works in the field of astronomy.\n",
      "European Physical Journal works in the field of physics.\n",
      "{} works in the field of\n",
      "tensor(1.8857, device='cuda:0', dtype=torch.float16) tensor(38.5312, device='cuda:0', dtype=torch.float16)\n",
      "\n",
      "subject:  Edwin Hubble\n",
      "Sima Qian works in the field of history.\n",
      "Michael Jackson works in the field of musician.\n",
      "European Physical Journal works in the field of physics.\n",
      "{} works in the field of\n",
      "tensor(0.6304, device='cuda:0', dtype=torch.float16) tensor(69.4375, device='cuda:0', dtype=torch.float16)\n",
      "\n",
      "subject:  Michael Jackson\n",
      "Sima Qian works in the field of history.\n",
      "millennialism works in the field of theology.\n",
      "European Physical Journal works in the field of physics.\n",
      "{} works in the field of\n",
      "tensor(2.0391, device='cuda:0', dtype=torch.float16) tensor(69.5000, device='cuda:0', dtype=torch.float16)\n",
      "\n",
      "subject:  millennialism\n",
      "Michael Jackson works in the field of musician.\n",
      "European Physical Journal works in the field of physics.\n",
      "Sima Qian works in the field of history.\n",
      "{} works in the field of\n",
      "tensor(1.4893, device='cuda:0', dtype=torch.float16) tensor(38.5000, device='cuda:0', dtype=torch.float16)\n",
      "\n",
      "subject:  European Physical Journal\n",
      "Michael Jackson works in the field of musician.\n",
      "Edwin Hubble works in the field of astronomy.\n",
      "millennialism works in the field of theology.\n",
      "{} works in the field of\n",
      "tensor(0.5908, device='cuda:0', dtype=torch.float16) tensor(38.4688, device='cuda:0', dtype=torch.float16)\n",
      "\n"
     ]
    },
    {
     "data": {
      "application/vnd.jupyter.widget-view+json": {
       "model_id": "66d2ef06194a46ac9a4eb24ddf73ebfa",
       "version_major": 2,
       "version_minor": 0
      },
      "text/plain": [
       "  0%|          | 0/5 [00:00<?, ?it/s]"
      ]
     },
     "metadata": {},
     "output_type": "display_data"
    },
    {
     "name": "stdout",
     "output_type": "stream",
     "text": [
      "subject:  Max Weber\n",
      "millennialism works in the field of theology.\n",
      "Euclid works in the field of geometry.\n",
      "European Physical Journal works in the field of physics.\n",
      "{} works in the field of\n",
      "tensor(0.9312, device='cuda:0', dtype=torch.float16) tensor(73.6875, device='cuda:0', dtype=torch.float16)\n",
      "\n",
      "subject:  Carl Menger\n",
      "Max Weber works in the field of sociology.\n",
      "European Physical Journal works in the field of physics.\n",
      "millennialism works in the field of theology.\n",
      "{} works in the field of\n",
      "tensor(10.2266, device='cuda:0', dtype=torch.float16) tensor(56.9375, device='cuda:0', dtype=torch.float16)\n",
      "\n",
      "subject:  European Physical Journal\n",
      "Max Weber works in the field of sociology.\n",
      "Euclid works in the field of geometry.\n",
      "Carl Menger works in the field of economics.\n",
      "{} works in the field of\n",
      "tensor(0.5566, device='cuda:0', dtype=torch.float16) tensor(56.3125, device='cuda:0', dtype=torch.float16)\n",
      "\n",
      "subject:  Euclid\n",
      "Max Weber works in the field of sociology.\n",
      "Carl Menger works in the field of economics.\n",
      "European Physical Journal works in the field of physics.\n",
      "{} works in the field of\n",
      "tensor(0.7349, device='cuda:0', dtype=torch.float16) tensor(56.3125, device='cuda:0', dtype=torch.float16)\n",
      "\n",
      "subject:  millennialism\n",
      "Euclid works in the field of geometry.\n",
      "European Physical Journal works in the field of physics.\n",
      "Max Weber works in the field of sociology.\n",
      "{} works in the field of\n",
      "tensor(2.0898, device='cuda:0', dtype=torch.float16) tensor(45.1562, device='cuda:0', dtype=torch.float16)\n",
      "\n"
     ]
    },
    {
     "data": {
      "application/vnd.jupyter.widget-view+json": {
       "model_id": "71bf119b609d49a7a2402bd83f1c8aa9",
       "version_major": 2,
       "version_minor": 0
      },
      "text/plain": [
       "  0%|          | 0/5 [00:00<?, ?it/s]"
      ]
     },
     "metadata": {},
     "output_type": "display_data"
    },
    {
     "name": "stdout",
     "output_type": "stream",
     "text": [
      "subject:  Hypatia\n",
      "Sima Qian works in the field of history.\n",
      "Michael Jackson works in the field of musician.\n",
      "Carl Menger works in the field of economics.\n",
      "{} works in the field of\n",
      "tensor(11.3281, device='cuda:0', dtype=torch.float16) tensor(70.8125, device='cuda:0', dtype=torch.float16)\n",
      "\n",
      "subject:  Michael Jackson\n",
      "Hypatia works in the field of mathematics.\n",
      "Sima Qian works in the field of history.\n",
      "European Physical Journal works in the field of physics.\n",
      "{} works in the field of\n",
      "tensor(2.0918, device='cuda:0', dtype=torch.float16) tensor(60.1875, device='cuda:0', dtype=torch.float16)\n",
      "\n",
      "subject:  Carl Menger\n",
      "Michael Jackson works in the field of musician.\n",
      "Sima Qian works in the field of history.\n",
      "European Physical Journal works in the field of physics.\n",
      "{} works in the field of\n",
      "tensor(8.5781, device='cuda:0', dtype=torch.float16) tensor(39.2188, device='cuda:0', dtype=torch.float16)\n",
      "\n",
      "subject:  Sima Qian\n",
      "Hypatia works in the field of mathematics.\n",
      "Michael Jackson works in the field of musician.\n",
      "Carl Menger works in the field of economics.\n",
      "{} works in the field of\n",
      "tensor(1.8398, device='cuda:0', dtype=torch.float16) tensor(60.1875, device='cuda:0', dtype=torch.float16)\n",
      "\n",
      "subject:  European Physical Journal\n",
      "Hypatia works in the field of mathematics.\n",
      "Michael Jackson works in the field of musician.\n",
      "Sima Qian works in the field of history.\n",
      "{} works in the field of\n",
      "tensor(0.4277, device='cuda:0', dtype=torch.float16) tensor(60.1562, device='cuda:0', dtype=torch.float16)\n",
      "\n"
     ]
    },
    {
     "data": {
      "application/vnd.jupyter.widget-view+json": {
       "model_id": "bc16eef786f8442899c8b393a0346f57",
       "version_major": 2,
       "version_minor": 0
      },
      "text/plain": [
       "  0%|          | 0/5 [00:00<?, ?it/s]"
      ]
     },
     "metadata": {},
     "output_type": "display_data"
    },
    {
     "name": "stdout",
     "output_type": "stream",
     "text": [
      "subject:  millennialism\n",
      "Michael Jackson works in the field of musician.\n",
      "Euclid works in the field of geometry.\n",
      "Hypatia works in the field of mathematics.\n",
      "{} works in the field of\n",
      "tensor(2.0859, device='cuda:0', dtype=torch.float16) tensor(38.5625, device='cuda:0', dtype=torch.float16)\n",
      "\n",
      "subject:  Michael Jackson\n",
      "millennialism works in the field of theology.\n",
      "Euclid works in the field of geometry.\n",
      "Hypatia works in the field of mathematics.\n",
      "{} works in the field of\n",
      "tensor(1.6475, device='cuda:0', dtype=torch.float16) tensor(73.6875, device='cuda:0', dtype=torch.float16)\n",
      "\n",
      "subject:  Max Weber\n",
      "Michael Jackson works in the field of musician.\n",
      "Hypatia works in the field of mathematics.\n",
      "millennialism works in the field of theology.\n",
      "{} works in the field of\n",
      "tensor(0.7505, device='cuda:0', dtype=torch.float16) tensor(38.4688, device='cuda:0', dtype=torch.float16)\n",
      "\n",
      "subject:  Hypatia\n",
      "millennialism works in the field of theology.\n",
      "Euclid works in the field of geometry.\n",
      "Max Weber works in the field of sociology.\n",
      "{} works in the field of\n",
      "tensor(14.5781, device='cuda:0', dtype=torch.float16) tensor(75.4375, device='cuda:0', dtype=torch.float16)\n",
      "\n",
      "subject:  Euclid\n",
      "Max Weber works in the field of sociology.\n",
      "Michael Jackson works in the field of musician.\n",
      "millennialism works in the field of theology.\n",
      "{} works in the field of\n",
      "tensor(0.7651, device='cuda:0', dtype=torch.float16) tensor(56.3125, device='cuda:0', dtype=torch.float16)\n",
      "\n"
     ]
    },
    {
     "data": {
      "application/vnd.jupyter.widget-view+json": {
       "model_id": "6deb3f5868ae4b1680a207277d1d4236",
       "version_major": 2,
       "version_minor": 0
      },
      "text/plain": [
       "  0%|          | 0/5 [00:00<?, ?it/s]"
      ]
     },
     "metadata": {},
     "output_type": "display_data"
    },
    {
     "name": "stdout",
     "output_type": "stream",
     "text": [
      "subject:  Edwin Hubble\n",
      "Hypatia works in the field of mathematics.\n",
      "Sima Qian works in the field of history.\n",
      "Euclid works in the field of geometry.\n",
      "{} works in the field of\n",
      "tensor(0.8105, device='cuda:0', dtype=torch.float16) tensor(60.1562, device='cuda:0', dtype=torch.float16)\n",
      "\n",
      "subject:  Euclid\n",
      "Max Weber works in the field of sociology.\n",
      "Edwin Hubble works in the field of astronomy.\n",
      "Hypatia works in the field of mathematics.\n",
      "{} works in the field of\n",
      "tensor(0.8413, device='cuda:0', dtype=torch.float16) tensor(56.3125, device='cuda:0', dtype=torch.float16)\n",
      "\n",
      "subject:  Max Weber\n",
      "Sima Qian works in the field of history.\n",
      "Hypatia works in the field of mathematics.\n",
      "Edwin Hubble works in the field of astronomy.\n",
      "{} works in the field of\n",
      "tensor(0.7554, device='cuda:0', dtype=torch.float16) tensor(69.4375, device='cuda:0', dtype=torch.float16)\n",
      "\n",
      "subject:  Hypatia\n",
      "Sima Qian works in the field of history.\n",
      "Euclid works in the field of geometry.\n",
      "Max Weber works in the field of sociology.\n",
      "{} works in the field of\n",
      "tensor(14.2188, device='cuda:0', dtype=torch.float16) tensor(71.5000, device='cuda:0', dtype=torch.float16)\n",
      "\n",
      "subject:  Sima Qian\n",
      "Hypatia works in the field of mathematics.\n",
      "Max Weber works in the field of sociology.\n",
      "Edwin Hubble works in the field of astronomy.\n",
      "{} works in the field of\n",
      "tensor(2.1035, device='cuda:0', dtype=torch.float16) tensor(60.1875, device='cuda:0', dtype=torch.float16)\n",
      "\n",
      "Saving weights and biases >>  gpt-j/jacobians_averaged_collection/after__ln_f/P101.npz\n",
      "----------------------------------------------------\n",
      "zzzzzzzzzzzzzzzzzzzzzzzzzzzzzzzzzzzzzzzzzzzzzzzzzzzz\n",
      "P19 {} was born in\n",
      "zzzzzzzzzzzzzzzzzzzzzzzzzzzzzzzzzzzzzzzzzzzzzzzzzzzz\n",
      "128\n",
      "{} was born in\n"
     ]
    },
    {
     "data": {
      "application/vnd.jupyter.widget-view+json": {
       "model_id": "be266aff43aa4d13a488def28dfd93a3",
       "version_major": 2,
       "version_minor": 0
      },
      "text/plain": [
       "  0%|          | 0/10 [00:00<?, ?it/s]"
      ]
     },
     "metadata": {},
     "output_type": "display_data"
    },
    {
     "data": {
      "application/vnd.jupyter.widget-view+json": {
       "model_id": "e9c79d646d21426f9b93a09030a26d2b",
       "version_major": 2,
       "version_minor": 0
      },
      "text/plain": [
       "  0%|          | 0/5 [00:00<?, ?it/s]"
      ]
     },
     "metadata": {},
     "output_type": "display_data"
    },
    {
     "name": "stdout",
     "output_type": "stream",
     "text": [
      "subject:  Paul Epworth\n",
      "Mayumi Tanaka was born in Tokyo.\n",
      "Edward Said was born in Jerusalem.\n",
      "Daniel Alfredson was born in Stockholm.\n",
      "{} was born in\n",
      "tensor(3.9199, device='cuda:0', dtype=torch.float16) tensor(3.8672, device='cuda:0', dtype=torch.float16)\n",
      "\n",
      "subject:  Daniel Alfredson\n",
      "Edward Said was born in Jerusalem.\n",
      "Paul Epworth was born in London.\n",
      "Mayumi Tanaka was born in Tokyo.\n",
      "{} was born in\n",
      "tensor(10.3516, device='cuda:0', dtype=torch.float16) tensor(34.6250, device='cuda:0', dtype=torch.float16)\n",
      "\n",
      "subject:  Edward Said\n",
      "Mayumi Tanaka was born in Tokyo.\n",
      "Maria Altmann was born in Vienna.\n",
      "Paul Epworth was born in London.\n",
      "{} was born in\n",
      "tensor(6.1133, device='cuda:0', dtype=torch.float16) tensor(6.4688, device='cuda:0', dtype=torch.float16)\n",
      "\n",
      "subject:  Maria Altmann\n",
      "Edward Said was born in Jerusalem.\n",
      "Paul Epworth was born in London.\n",
      "Daniel Alfredson was born in Stockholm.\n",
      "{} was born in\n",
      "tensor(15.5781, device='cuda:0', dtype=torch.float16) tensor(36.1250, device='cuda:0', dtype=torch.float16)\n",
      "\n",
      "subject:  Mayumi Tanaka\n",
      "Edward Said was born in Jerusalem.\n",
      "Maria Altmann was born in Vienna.\n",
      "Paul Epworth was born in London.\n",
      "{} was born in\n",
      "tensor(0.6050, device='cuda:0', dtype=torch.float16) tensor(32.0938, device='cuda:0', dtype=torch.float16)\n",
      "\n"
     ]
    },
    {
     "data": {
      "application/vnd.jupyter.widget-view+json": {
       "model_id": "d6ec4e6fb9a74c8d986b22144d66e0a1",
       "version_major": 2,
       "version_minor": 0
      },
      "text/plain": [
       "  0%|          | 0/5 [00:00<?, ?it/s]"
      ]
     },
     "metadata": {},
     "output_type": "display_data"
    },
    {
     "name": "stdout",
     "output_type": "stream",
     "text": [
      "subject:  The Weeknd\n",
      "Sirindhorn was born in Bangkok.\n",
      "Sergey Lavrov was born in Moscow.\n",
      "Daniel Alfredson was born in Stockholm.\n",
      "{} was born in\n",
      "tensor(18.9062, device='cuda:0', dtype=torch.float16) tensor(28.8594, device='cuda:0', dtype=torch.float16)\n",
      "\n",
      "subject:  Sergey Lavrov\n",
      "Daniel Alfredson was born in Stockholm.\n",
      "The Weeknd was born in Toronto.\n",
      "Sirindhorn was born in Bangkok.\n",
      "{} was born in\n",
      "tensor(0.4612, device='cuda:0', dtype=torch.float16) tensor(3.9883, device='cuda:0', dtype=torch.float16)\n",
      "\n",
      "subject:  Daniel Alfredson\n",
      "Edward Said was born in Jerusalem.\n",
      "Sirindhorn was born in Bangkok.\n",
      "Sergey Lavrov was born in Moscow.\n",
      "{} was born in\n",
      "tensor(10.8828, device='cuda:0', dtype=torch.float16) tensor(34.5312, device='cuda:0', dtype=torch.float16)\n",
      "\n",
      "subject:  Sirindhorn\n",
      "Daniel Alfredson was born in Stockholm.\n",
      "Edward Said was born in Jerusalem.\n",
      "The Weeknd was born in Toronto.\n",
      "{} was born in\n",
      "tensor(18.2969, device='cuda:0', dtype=torch.float16) tensor(22.3750, device='cuda:0', dtype=torch.float16)\n",
      "\n",
      "subject:  Edward Said\n",
      "The Weeknd was born in Toronto.\n",
      "Sirindhorn was born in Bangkok.\n",
      "Daniel Alfredson was born in Stockholm.\n",
      "{} was born in\n",
      "tensor(4.3086, device='cuda:0', dtype=torch.float16) tensor(6.1016, device='cuda:0', dtype=torch.float16)\n",
      "\n"
     ]
    },
    {
     "data": {
      "application/vnd.jupyter.widget-view+json": {
       "model_id": "7fdabcfd8769430aba93bf17f236f93d",
       "version_major": 2,
       "version_minor": 0
      },
      "text/plain": [
       "  0%|          | 0/5 [00:00<?, ?it/s]"
      ]
     },
     "metadata": {},
     "output_type": "display_data"
    },
    {
     "name": "stdout",
     "output_type": "stream",
     "text": [
      "subject:  Edward Said\n",
      "Mayumi Tanaka was born in Tokyo.\n",
      "Paul Kimmage was born in Dublin.\n",
      "Sirindhorn was born in Bangkok.\n",
      "{} was born in\n",
      "tensor(6.7500, device='cuda:0', dtype=torch.float16) tensor(6.4961, device='cuda:0', dtype=torch.float16)\n",
      "\n",
      "subject:  Mayumi Tanaka\n",
      "Edward Said was born in Jerusalem.\n",
      "Paul Kimmage was born in Dublin.\n",
      "Sirindhorn was born in Bangkok.\n",
      "{} was born in\n",
      "tensor(0.7173, device='cuda:0', dtype=torch.float16) tensor(32.0938, device='cuda:0', dtype=torch.float16)\n",
      "\n",
      "subject:  Paul Kimmage\n",
      "Sirindhorn was born in Bangkok.\n",
      "Mayumi Tanaka was born in Tokyo.\n",
      "Edward Said was born in Jerusalem.\n",
      "{} was born in\n",
      "tensor(1.4160, device='cuda:0', dtype=torch.float16) tensor(10.4844, device='cuda:0', dtype=torch.float16)\n",
      "\n",
      "subject:  Sirindhorn\n",
      "Mayumi Tanaka was born in Tokyo.\n",
      "Paul Kimmage was born in Dublin.\n",
      "Edward Said was born in Jerusalem.\n",
      "{} was born in\n",
      "tensor(22.6250, device='cuda:0', dtype=torch.float16) tensor(23.1094, device='cuda:0', dtype=torch.float16)\n",
      "\n",
      "subject:  Maria Altmann\n",
      "Paul Kimmage was born in Dublin.\n",
      "Edward Said was born in Jerusalem.\n",
      "Mayumi Tanaka was born in Tokyo.\n",
      "{} was born in\n",
      "tensor(15.5156, device='cuda:0', dtype=torch.float16) tensor(32.3438, device='cuda:0', dtype=torch.float16)\n",
      "\n"
     ]
    },
    {
     "data": {
      "application/vnd.jupyter.widget-view+json": {
       "model_id": "d5f236aa565849b1abde9f142aeb8065",
       "version_major": 2,
       "version_minor": 0
      },
      "text/plain": [
       "  0%|          | 0/5 [00:00<?, ?it/s]"
      ]
     },
     "metadata": {},
     "output_type": "display_data"
    },
    {
     "name": "stdout",
     "output_type": "stream",
     "text": [
      "subject:  The Weeknd\n",
      "Daniel Alfredson was born in Stockholm.\n",
      "Paul Kimmage was born in Dublin.\n",
      "Mario Caiano was born in Rome.\n",
      "{} was born in\n",
      "tensor(13.4062, device='cuda:0', dtype=torch.float16) tensor(20.3438, device='cuda:0', dtype=torch.float16)\n",
      "\n",
      "subject:  Daniel Alfredson\n",
      "The Weeknd was born in Toronto.\n",
      "Maria Altmann was born in Vienna.\n",
      "Paul Kimmage was born in Dublin.\n",
      "{} was born in\n",
      "tensor(9.2109, device='cuda:0', dtype=torch.float16) tensor(12.2109, device='cuda:0', dtype=torch.float16)\n",
      "\n",
      "subject:  Maria Altmann\n",
      "Daniel Alfredson was born in Stockholm.\n",
      "Mario Caiano was born in Rome.\n",
      "Paul Kimmage was born in Dublin.\n",
      "{} was born in\n",
      "tensor(11.4844, device='cuda:0', dtype=torch.float16) tensor(12.5703, device='cuda:0', dtype=torch.float16)\n",
      "\n",
      "subject:  Mario Caiano\n",
      "Maria Altmann was born in Vienna.\n",
      "Daniel Alfredson was born in Stockholm.\n",
      "The Weeknd was born in Toronto.\n",
      "{} was born in\n",
      "tensor(0.4480, device='cuda:0', dtype=torch.float16) tensor(55.2500, device='cuda:0', dtype=torch.float16)\n",
      "\n",
      "subject:  Paul Kimmage\n",
      "The Weeknd was born in Toronto.\n",
      "Maria Altmann was born in Vienna.\n",
      "Mario Caiano was born in Rome.\n",
      "{} was born in\n",
      "tensor(1.3838, device='cuda:0', dtype=torch.float16) tensor(3.0781, device='cuda:0', dtype=torch.float16)\n",
      "\n"
     ]
    },
    {
     "data": {
      "application/vnd.jupyter.widget-view+json": {
       "model_id": "838fba64ce2f4ad183522c5e49809035",
       "version_major": 2,
       "version_minor": 0
      },
      "text/plain": [
       "  0%|          | 0/5 [00:00<?, ?it/s]"
      ]
     },
     "metadata": {},
     "output_type": "display_data"
    },
    {
     "name": "stdout",
     "output_type": "stream",
     "text": [
      "subject:  Paul Epworth\n",
      "Mario Caiano was born in Rome.\n",
      "Daniel Alfredson was born in Stockholm.\n",
      "Sergey Lavrov was born in Moscow.\n",
      "{} was born in\n",
      "tensor(4.5039, device='cuda:0', dtype=torch.float16) tensor(32.8750, device='cuda:0', dtype=torch.float16)\n",
      "\n",
      "subject:  The Weeknd\n",
      "Daniel Alfredson was born in Stockholm.\n",
      "Paul Epworth was born in London.\n",
      "Mario Caiano was born in Rome.\n",
      "{} was born in\n",
      "tensor(18.5156, device='cuda:0', dtype=torch.float16) tensor(24.2969, device='cuda:0', dtype=torch.float16)\n",
      "\n",
      "subject:  Sergey Lavrov\n",
      "Daniel Alfredson was born in Stockholm.\n",
      "The Weeknd was born in Toronto.\n",
      "Mario Caiano was born in Rome.\n",
      "{} was born in\n",
      "tensor(0.4697, device='cuda:0', dtype=torch.float16) tensor(3.9902, device='cuda:0', dtype=torch.float16)\n",
      "\n",
      "subject:  Daniel Alfredson\n",
      "Sergey Lavrov was born in Moscow.\n",
      "The Weeknd was born in Toronto.\n",
      "Mario Caiano was born in Rome.\n",
      "{} was born in\n",
      "tensor(11.7656, device='cuda:0', dtype=torch.float16) tensor(55.5938, device='cuda:0', dtype=torch.float16)\n",
      "\n",
      "subject:  Mario Caiano\n",
      "The Weeknd was born in Toronto.\n",
      "Daniel Alfredson was born in Stockholm.\n",
      "Sergey Lavrov was born in Moscow.\n",
      "{} was born in\n",
      "tensor(0.6958, device='cuda:0', dtype=torch.float16) tensor(2.9355, device='cuda:0', dtype=torch.float16)\n",
      "\n"
     ]
    },
    {
     "data": {
      "application/vnd.jupyter.widget-view+json": {
       "model_id": "4ee47325aa4d47479823d1f4829777de",
       "version_major": 2,
       "version_minor": 0
      },
      "text/plain": [
       "  0%|          | 0/5 [00:00<?, ?it/s]"
      ]
     },
     "metadata": {},
     "output_type": "display_data"
    },
    {
     "name": "stdout",
     "output_type": "stream",
     "text": [
      "subject:  Mayumi Tanaka\n",
      "Sirindhorn was born in Bangkok.\n",
      "Mario Caiano was born in Rome.\n",
      "Edward Said was born in Jerusalem.\n",
      "{} was born in\n",
      "tensor(0.5620, device='cuda:0', dtype=torch.float16) tensor(10.3828, device='cuda:0', dtype=torch.float16)\n",
      "\n",
      "subject:  Sirindhorn\n",
      "Mario Caiano was born in Rome.\n",
      "Edward Said was born in Jerusalem.\n",
      "Maria Altmann was born in Vienna.\n",
      "{} was born in\n",
      "tensor(20.8438, device='cuda:0', dtype=torch.float16) tensor(39.4375, device='cuda:0', dtype=torch.float16)\n",
      "\n",
      "subject:  Edward Said\n",
      "Mario Caiano was born in Rome.\n",
      "Maria Altmann was born in Vienna.\n",
      "Mayumi Tanaka was born in Tokyo.\n",
      "{} was born in\n",
      "tensor(4.5391, device='cuda:0', dtype=torch.float16) tensor(33.0938, device='cuda:0', dtype=torch.float16)\n",
      "\n",
      "subject:  Mario Caiano\n",
      "Mayumi Tanaka was born in Tokyo.\n",
      "Maria Altmann was born in Vienna.\n",
      "Edward Said was born in Jerusalem.\n",
      "{} was born in\n",
      "tensor(0.5405, device='cuda:0', dtype=torch.float16) tensor(2.4883, device='cuda:0', dtype=torch.float16)\n",
      "\n",
      "subject:  Maria Altmann\n",
      "Sirindhorn was born in Bangkok.\n",
      "Mario Caiano was born in Rome.\n",
      "Mayumi Tanaka was born in Tokyo.\n",
      "{} was born in\n",
      "tensor(14.5781, device='cuda:0', dtype=torch.float16) tensor(17.9844, device='cuda:0', dtype=torch.float16)\n",
      "\n"
     ]
    },
    {
     "data": {
      "application/vnd.jupyter.widget-view+json": {
       "model_id": "175f33ad1ce945b8931728ae810e4fc5",
       "version_major": 2,
       "version_minor": 0
      },
      "text/plain": [
       "  0%|          | 0/5 [00:00<?, ?it/s]"
      ]
     },
     "metadata": {},
     "output_type": "display_data"
    },
    {
     "name": "stdout",
     "output_type": "stream",
     "text": [
      "subject:  Sirindhorn\n",
      "Edward Said was born in Jerusalem.\n",
      "Paul Epworth was born in London.\n",
      "The Weeknd was born in Toronto.\n",
      "{} was born in\n",
      "tensor(18.5469, device='cuda:0', dtype=torch.float16) tensor(38.7812, device='cuda:0', dtype=torch.float16)\n",
      "\n",
      "subject:  Mayumi Tanaka\n",
      "Sirindhorn was born in Bangkok.\n",
      "Paul Epworth was born in London.\n",
      "The Weeknd was born in Toronto.\n",
      "{} was born in\n",
      "tensor(0.5518, device='cuda:0', dtype=torch.float16) tensor(10.3828, device='cuda:0', dtype=torch.float16)\n",
      "\n",
      "subject:  Edward Said\n",
      "The Weeknd was born in Toronto.\n",
      "Paul Epworth was born in London.\n",
      "Mayumi Tanaka was born in Tokyo.\n",
      "{} was born in\n",
      "tensor(6.3398, device='cuda:0', dtype=torch.float16) tensor(8.1406, device='cuda:0', dtype=torch.float16)\n",
      "\n",
      "subject:  The Weeknd\n",
      "Mayumi Tanaka was born in Tokyo.\n",
      "Paul Epworth was born in London.\n",
      "Sirindhorn was born in Bangkok.\n",
      "{} was born in\n",
      "tensor(17.7344, device='cuda:0', dtype=torch.float16) tensor(25.6562, device='cuda:0', dtype=torch.float16)\n",
      "\n",
      "subject:  Paul Epworth\n",
      "Mayumi Tanaka was born in Tokyo.\n",
      "Sirindhorn was born in Bangkok.\n",
      "Edward Said was born in Jerusalem.\n",
      "{} was born in\n",
      "tensor(4.3555, device='cuda:0', dtype=torch.float16) tensor(5.0547, device='cuda:0', dtype=torch.float16)\n",
      "\n"
     ]
    },
    {
     "data": {
      "application/vnd.jupyter.widget-view+json": {
       "model_id": "52933afaa30f47e083c37514aa41e541",
       "version_major": 2,
       "version_minor": 0
      },
      "text/plain": [
       "  0%|          | 0/5 [00:00<?, ?it/s]"
      ]
     },
     "metadata": {},
     "output_type": "display_data"
    },
    {
     "name": "stdout",
     "output_type": "stream",
     "text": [
      "subject:  The Weeknd\n",
      "Mario Caiano was born in Rome.\n",
      "Daniel Alfredson was born in Stockholm.\n",
      "Mayumi Tanaka was born in Tokyo.\n",
      "{} was born in\n",
      "tensor(20.5625, device='cuda:0', dtype=torch.float16) tensor(42.9688, device='cuda:0', dtype=torch.float16)\n",
      "\n",
      "subject:  Mario Caiano\n",
      "Daniel Alfredson was born in Stockholm.\n",
      "Mayumi Tanaka was born in Tokyo.\n",
      "Maria Altmann was born in Vienna.\n",
      "{} was born in\n",
      "tensor(0.4558, device='cuda:0', dtype=torch.float16) tensor(3.9824, device='cuda:0', dtype=torch.float16)\n",
      "\n",
      "subject:  Maria Altmann\n",
      "Daniel Alfredson was born in Stockholm.\n",
      "Mayumi Tanaka was born in Tokyo.\n",
      "Mario Caiano was born in Rome.\n",
      "{} was born in\n",
      "tensor(12.5469, device='cuda:0', dtype=torch.float16) tensor(13.2422, device='cuda:0', dtype=torch.float16)\n",
      "\n",
      "subject:  Mayumi Tanaka\n",
      "Maria Altmann was born in Vienna.\n",
      "The Weeknd was born in Toronto.\n",
      "Mario Caiano was born in Rome.\n",
      "{} was born in\n",
      "tensor(0.5171, device='cuda:0', dtype=torch.float16) tensor(55.2500, device='cuda:0', dtype=torch.float16)\n",
      "\n",
      "subject:  Daniel Alfredson\n",
      "Mario Caiano was born in Rome.\n",
      "The Weeknd was born in Toronto.\n",
      "Maria Altmann was born in Vienna.\n",
      "{} was born in\n",
      "tensor(9.1328, device='cuda:0', dtype=torch.float16) tensor(34.7188, device='cuda:0', dtype=torch.float16)\n",
      "\n"
     ]
    },
    {
     "data": {
      "application/vnd.jupyter.widget-view+json": {
       "model_id": "d3d1c633d4c54cf197d19a8adb1601d4",
       "version_major": 2,
       "version_minor": 0
      },
      "text/plain": [
       "  0%|          | 0/5 [00:00<?, ?it/s]"
      ]
     },
     "metadata": {},
     "output_type": "display_data"
    },
    {
     "name": "stdout",
     "output_type": "stream",
     "text": [
      "subject:  Mario Caiano\n",
      "Sergey Lavrov was born in Moscow.\n",
      "Maria Altmann was born in Vienna.\n",
      "Mayumi Tanaka was born in Tokyo.\n",
      "{} was born in\n",
      "tensor(0.4946, device='cuda:0', dtype=torch.float16) tensor(53.8750, device='cuda:0', dtype=torch.float16)\n",
      "\n",
      "subject:  Sergey Lavrov\n",
      "Mario Caiano was born in Rome.\n",
      "Sirindhorn was born in Bangkok.\n",
      "Mayumi Tanaka was born in Tokyo.\n",
      "{} was born in\n",
      "tensor(0.4702, device='cuda:0', dtype=torch.float16) tensor(32.6875, device='cuda:0', dtype=torch.float16)\n",
      "\n",
      "subject:  Mayumi Tanaka\n",
      "Sergey Lavrov was born in Moscow.\n",
      "Sirindhorn was born in Bangkok.\n",
      "Mario Caiano was born in Rome.\n",
      "{} was born in\n",
      "tensor(0.6641, device='cuda:0', dtype=torch.float16) tensor(53.8750, device='cuda:0', dtype=torch.float16)\n",
      "\n",
      "subject:  Maria Altmann\n",
      "Mario Caiano was born in Rome.\n",
      "Sergey Lavrov was born in Moscow.\n",
      "Sirindhorn was born in Bangkok.\n",
      "{} was born in\n",
      "tensor(15.7734, device='cuda:0', dtype=torch.float16) tensor(36.0312, device='cuda:0', dtype=torch.float16)\n",
      "\n",
      "subject:  Sirindhorn\n",
      "Sergey Lavrov was born in Moscow.\n",
      "Mario Caiano was born in Rome.\n",
      "Mayumi Tanaka was born in Tokyo.\n",
      "{} was born in\n",
      "tensor(21.0938, device='cuda:0', dtype=torch.float16) tensor(58.8125, device='cuda:0', dtype=torch.float16)\n",
      "\n"
     ]
    },
    {
     "data": {
      "application/vnd.jupyter.widget-view+json": {
       "model_id": "4da98794cab442c295fa2bc9809913a4",
       "version_major": 2,
       "version_minor": 0
      },
      "text/plain": [
       "  0%|          | 0/5 [00:00<?, ?it/s]"
      ]
     },
     "metadata": {},
     "output_type": "display_data"
    },
    {
     "name": "stdout",
     "output_type": "stream",
     "text": [
      "subject:  Paul Epworth\n",
      "Maria Altmann was born in Vienna.\n",
      "The Weeknd was born in Toronto.\n",
      "Sirindhorn was born in Bangkok.\n",
      "{} was born in\n",
      "tensor(3.9883, device='cuda:0', dtype=torch.float16) tensor(55.3438, device='cuda:0', dtype=torch.float16)\n",
      "\n",
      "subject:  Edward Said\n",
      "Paul Epworth was born in London.\n",
      "Maria Altmann was born in Vienna.\n",
      "The Weeknd was born in Toronto.\n",
      "{} was born in\n",
      "tensor(5.4180, device='cuda:0', dtype=torch.float16) tensor(29.3125, device='cuda:0', dtype=torch.float16)\n",
      "\n",
      "subject:  The Weeknd\n",
      "Edward Said was born in Jerusalem.\n",
      "Paul Epworth was born in London.\n",
      "Maria Altmann was born in Vienna.\n",
      "{} was born in\n",
      "tensor(12.5391, device='cuda:0', dtype=torch.float16) tensor(37.3438, device='cuda:0', dtype=torch.float16)\n",
      "\n",
      "subject:  Maria Altmann\n",
      "Edward Said was born in Jerusalem.\n",
      "The Weeknd was born in Toronto.\n",
      "Sirindhorn was born in Bangkok.\n",
      "{} was born in\n",
      "tensor(15.1719, device='cuda:0', dtype=torch.float16) tensor(35.5000, device='cuda:0', dtype=torch.float16)\n",
      "\n",
      "subject:  Sirindhorn\n",
      "Paul Epworth was born in London.\n",
      "The Weeknd was born in Toronto.\n",
      "Edward Said was born in Jerusalem.\n",
      "{} was born in\n",
      "tensor(18.0781, device='cuda:0', dtype=torch.float16) tensor(35.4062, device='cuda:0', dtype=torch.float16)\n",
      "\n",
      "Saving weights and biases >>  gpt-j/jacobians_averaged_collection/after__ln_f/P19.npz\n",
      "----------------------------------------------------\n",
      "zzzzzzzzzzzzzzzzzzzzzzzzzzzzzzzzzzzzzzzzzzzzzzzzzzzz\n",
      "P37 In {}, an official language is\n",
      "zzzzzzzzzzzzzzzzzzzzzzzzzzzzzzzzzzzzzzzzzzzzzzzzzzzz\n",
      "156\n",
      "In {}, an official language is\n"
     ]
    },
    {
     "data": {
      "application/vnd.jupyter.widget-view+json": {
       "model_id": "8f10901de2074fb6a91e653d292064a9",
       "version_major": 2,
       "version_minor": 0
      },
      "text/plain": [
       "  0%|          | 0/10 [00:00<?, ?it/s]"
      ]
     },
     "metadata": {},
     "output_type": "display_data"
    },
    {
     "data": {
      "application/vnd.jupyter.widget-view+json": {
       "model_id": "77e938a6e019414ebc9ad5e4e5bded28",
       "version_major": 2,
       "version_minor": 0
      },
      "text/plain": [
       "  0%|          | 0/5 [00:00<?, ?it/s]"
      ]
     },
     "metadata": {},
     "output_type": "display_data"
    },
    {
     "name": "stdout",
     "output_type": "stream",
     "text": [
      "subject:  Paimio\n",
      "In Angola, an official language is Portuguese.\n",
      "In Aruba, an official language is Dutch.\n",
      "In Church of Greece, an official language is Greek.\n",
      "In {}, an official language is\n",
      "tensor(18.3594, device='cuda:0', dtype=torch.float16) tensor(29.0938, device='cuda:0', dtype=torch.float16)\n",
      "\n",
      "subject:  Church of Greece\n",
      "In Niue, an official language is English.\n",
      "In Aruba, an official language is Dutch.\n",
      "In Angola, an official language is Portuguese.\n",
      "In {}, an official language is\n",
      "tensor(9.0156, device='cuda:0', dtype=torch.float16) tensor(22.2812, device='cuda:0', dtype=torch.float16)\n",
      "\n",
      "subject:  Niue\n",
      "In Paimio, an official language is Finnish.\n",
      "In Aruba, an official language is Dutch.\n",
      "In Angola, an official language is Portuguese.\n",
      "In {}, an official language is\n",
      "tensor(19.7969, device='cuda:0', dtype=torch.float16) tensor(33.3438, device='cuda:0', dtype=torch.float16)\n",
      "\n",
      "subject:  Angola\n",
      "In Aruba, an official language is Dutch.\n",
      "In Church of Greece, an official language is Greek.\n",
      "In Niue, an official language is English.\n",
      "In {}, an official language is\n",
      "tensor(15.4922, device='cuda:0', dtype=torch.float16) tensor(26.4375, device='cuda:0', dtype=torch.float16)\n",
      "\n",
      "subject:  Aruba\n",
      "In Paimio, an official language is Finnish.\n",
      "In Angola, an official language is Portuguese.\n",
      "In Niue, an official language is English.\n",
      "In {}, an official language is\n",
      "tensor(16.1094, device='cuda:0', dtype=torch.float16) tensor(24.9219, device='cuda:0', dtype=torch.float16)\n",
      "\n"
     ]
    },
    {
     "data": {
      "application/vnd.jupyter.widget-view+json": {
       "model_id": "f0e6cc706cc84e8da9f3199c678431b1",
       "version_major": 2,
       "version_minor": 0
      },
      "text/plain": [
       "  0%|          | 0/5 [00:00<?, ?it/s]"
      ]
     },
     "metadata": {},
     "output_type": "display_data"
    },
    {
     "name": "stdout",
     "output_type": "stream",
     "text": [
      "subject:  Bulgaria\n",
      "In Church of Greece, an official language is Greek.\n",
      "In Angola, an official language is Portuguese.\n",
      "In Paimio, an official language is Finnish.\n",
      "In {}, an official language is\n",
      "tensor(11.4219, device='cuda:0', dtype=torch.float16) tensor(23.5312, device='cuda:0', dtype=torch.float16)\n",
      "\n",
      "subject:  Angola\n",
      "In Paimio, an official language is Finnish.\n",
      "In Church of Greece, an official language is Greek.\n",
      "In Bulgaria, an official language is Bulgarian.\n",
      "In {}, an official language is\n",
      "tensor(16.1406, device='cuda:0', dtype=torch.float16) tensor(27.2344, device='cuda:0', dtype=torch.float16)\n",
      "\n",
      "subject:  Paimio\n",
      "In Church of Greece, an official language is Greek.\n",
      "In Comoros, an official language is French.\n",
      "In Angola, an official language is Portuguese.\n",
      "In {}, an official language is\n",
      "tensor(16.0469, device='cuda:0', dtype=torch.float16) tensor(27.9531, device='cuda:0', dtype=torch.float16)\n",
      "\n",
      "subject:  Comoros\n",
      "In Angola, an official language is Portuguese.\n",
      "In Bulgaria, an official language is Bulgarian.\n",
      "In Paimio, an official language is Finnish.\n",
      "In {}, an official language is\n",
      "tensor(22.1562, device='cuda:0', dtype=torch.float16) tensor(30.0625, device='cuda:0', dtype=torch.float16)\n",
      "\n",
      "subject:  Church of Greece\n",
      "In Angola, an official language is Portuguese.\n",
      "In Paimio, an official language is Finnish.\n",
      "In Bulgaria, an official language is Bulgarian.\n",
      "In {}, an official language is\n",
      "tensor(9.4531, device='cuda:0', dtype=torch.float16) tensor(22.6562, device='cuda:0', dtype=torch.float16)\n",
      "\n"
     ]
    },
    {
     "data": {
      "application/vnd.jupyter.widget-view+json": {
       "model_id": "9224b5a543e54480bb54d93dcfa8cee0",
       "version_major": 2,
       "version_minor": 0
      },
      "text/plain": [
       "  0%|          | 0/5 [00:00<?, ?it/s]"
      ]
     },
     "metadata": {},
     "output_type": "display_data"
    },
    {
     "name": "stdout",
     "output_type": "stream",
     "text": [
      "subject:  Comoros\n",
      "In Banten, an official language is Indonesian.\n",
      "In Aruba, an official language is Dutch.\n",
      "In Paimio, an official language is Finnish.\n",
      "In {}, an official language is\n",
      "tensor(22.7188, device='cuda:0', dtype=torch.float16) tensor(28.9219, device='cuda:0', dtype=torch.float16)\n",
      "\n",
      "subject:  Niue\n",
      "In Comoros, an official language is French.\n",
      "In Banten, an official language is Indonesian.\n",
      "In Paimio, an official language is Finnish.\n",
      "In {}, an official language is\n",
      "tensor(17.2188, device='cuda:0', dtype=torch.float16) tensor(31.1562, device='cuda:0', dtype=torch.float16)\n",
      "\n",
      "subject:  Aruba\n",
      "In Comoros, an official language is French.\n",
      "In Niue, an official language is English.\n",
      "In Banten, an official language is Indonesian.\n",
      "In {}, an official language is\n",
      "tensor(14.0312, device='cuda:0', dtype=torch.float16) tensor(23.7500, device='cuda:0', dtype=torch.float16)\n",
      "\n",
      "subject:  Paimio\n",
      "In Comoros, an official language is French.\n",
      "In Niue, an official language is English.\n",
      "In Banten, an official language is Indonesian.\n",
      "In {}, an official language is\n",
      "CUDA out of memory\n",
      "trying with smaller icl >>  2\n"
     ]
    },
    {
     "data": {
      "application/vnd.jupyter.widget-view+json": {
       "model_id": "01c0f1fd5dfc465683bbf000736ec2ff",
       "version_major": 2,
       "version_minor": 0
      },
      "text/plain": [
       "  0%|          | 0/5 [00:00<?, ?it/s]"
      ]
     },
     "metadata": {},
     "output_type": "display_data"
    },
    {
     "name": "stdout",
     "output_type": "stream",
     "text": [
      "subject:  Comoros\n",
      "In Paimio, an official language is Finnish.\n",
      "In Banten, an official language is Indonesian.\n",
      "In {}, an official language is\n",
      "tensor(20.8750, device='cuda:0', dtype=torch.float16) tensor(28., device='cuda:0', dtype=torch.float16)\n",
      "\n",
      "subject:  Niue\n",
      "In Comoros, an official language is French.\n",
      "In Aruba, an official language is Dutch.\n",
      "In {}, an official language is\n",
      "tensor(17.5781, device='cuda:0', dtype=torch.float16) tensor(30.2188, device='cuda:0', dtype=torch.float16)\n",
      "\n",
      "subject:  Aruba\n",
      "In Banten, an official language is Indonesian.\n",
      "In Niue, an official language is English.\n",
      "In {}, an official language is\n",
      "tensor(15.6250, device='cuda:0', dtype=torch.float16) tensor(24.9688, device='cuda:0', dtype=torch.float16)\n",
      "\n",
      "subject:  Paimio\n",
      "In Banten, an official language is Indonesian.\n",
      "In Comoros, an official language is French.\n",
      "In {}, an official language is\n",
      "tensor(17.0312, device='cuda:0', dtype=torch.float16) tensor(28.2188, device='cuda:0', dtype=torch.float16)\n",
      "\n",
      "subject:  Banten\n",
      "In Aruba, an official language is Dutch.\n",
      "In Comoros, an official language is French.\n",
      "In {}, an official language is\n",
      "tensor(13.3906, device='cuda:0', dtype=torch.float16) tensor(23.7188, device='cuda:0', dtype=torch.float16)\n",
      "\n"
     ]
    },
    {
     "data": {
      "application/vnd.jupyter.widget-view+json": {
       "model_id": "c3dc56a9d2bd4a4f975372b9f5a16bd5",
       "version_major": 2,
       "version_minor": 0
      },
      "text/plain": [
       "  0%|          | 0/5 [00:00<?, ?it/s]"
      ]
     },
     "metadata": {},
     "output_type": "display_data"
    },
    {
     "name": "stdout",
     "output_type": "stream",
     "text": [
      "subject:  Bulgaria\n",
      "In Tuva Republic, an official language is Russian.\n",
      "In Aruba, an official language is Dutch.\n",
      "In Church of Greece, an official language is Greek.\n",
      "In {}, an official language is\n",
      "tensor(11.8594, device='cuda:0', dtype=torch.float16) tensor(23.6250, device='cuda:0', dtype=torch.float16)\n",
      "\n",
      "subject:  Paimio\n",
      "In Tuva Republic, an official language is Russian.\n",
      "In Aruba, an official language is Dutch.\n",
      "In Church of Greece, an official language is Greek.\n",
      "In {}, an official language is\n",
      "tensor(17.0469, device='cuda:0', dtype=torch.float16) tensor(28.4531, device='cuda:0', dtype=torch.float16)\n",
      "\n",
      "subject:  Tuva Republic\n",
      "In Bulgaria, an official language is Bulgarian.\n",
      "In Aruba, an official language is Dutch.\n",
      "In Church of Greece, an official language is Greek.\n",
      "In {}, an official language is\n",
      "tensor(19.2344, device='cuda:0', dtype=torch.float16) tensor(28.6250, device='cuda:0', dtype=torch.float16)\n",
      "\n",
      "subject:  Aruba\n",
      "In Church of Greece, an official language is Greek.\n",
      "In Bulgaria, an official language is Bulgarian.\n",
      "In Tuva Republic, an official language is Russian.\n",
      "In {}, an official language is\n",
      "tensor(16.7344, device='cuda:0', dtype=torch.float16) tensor(25.7344, device='cuda:0', dtype=torch.float16)\n",
      "\n",
      "subject:  Church of Greece\n",
      "In Aruba, an official language is Dutch.\n",
      "In Bulgaria, an official language is Bulgarian.\n",
      "In Paimio, an official language is Finnish.\n",
      "In {}, an official language is\n",
      "tensor(9.9297, device='cuda:0', dtype=torch.float16) tensor(22.7031, device='cuda:0', dtype=torch.float16)\n",
      "\n"
     ]
    },
    {
     "data": {
      "application/vnd.jupyter.widget-view+json": {
       "model_id": "dfcf9c90b35445b1800f8331675f93c6",
       "version_major": 2,
       "version_minor": 0
      },
      "text/plain": [
       "  0%|          | 0/5 [00:00<?, ?it/s]"
      ]
     },
     "metadata": {},
     "output_type": "display_data"
    },
    {
     "name": "stdout",
     "output_type": "stream",
     "text": [
      "subject:  Banten\n",
      "In Tuva Republic, an official language is Russian.\n",
      "In Niue, an official language is English.\n",
      "In Angola, an official language is Portuguese.\n",
      "In {}, an official language is\n",
      "tensor(11.9922, device='cuda:0', dtype=torch.float16) tensor(23.4688, device='cuda:0', dtype=torch.float16)\n",
      "\n",
      "subject:  Angola\n",
      "In Panama, an official language is Spanish.\n",
      "In Tuva Republic, an official language is Russian.\n",
      "In Banten, an official language is Indonesian.\n",
      "In {}, an official language is\n",
      "tensor(14.1875, device='cuda:0', dtype=torch.float16) tensor(25.6719, device='cuda:0', dtype=torch.float16)\n",
      "\n",
      "subject:  Panama\n",
      "In Angola, an official language is Portuguese.\n",
      "In Banten, an official language is Indonesian.\n",
      "In Tuva Republic, an official language is Russian.\n",
      "In {}, an official language is\n",
      "tensor(14.7891, device='cuda:0', dtype=torch.float16) tensor(25.8125, device='cuda:0', dtype=torch.float16)\n",
      "\n",
      "subject:  Niue\n",
      "In Tuva Republic, an official language is Russian.\n",
      "In Angola, an official language is Portuguese.\n",
      "In Panama, an official language is Spanish.\n",
      "In {}, an official language is\n",
      "tensor(18.6250, device='cuda:0', dtype=torch.float16) tensor(34.4375, device='cuda:0', dtype=torch.float16)\n",
      "\n",
      "subject:  Tuva Republic\n",
      "In Niue, an official language is English.\n",
      "In Banten, an official language is Indonesian.\n",
      "In Panama, an official language is Spanish.\n",
      "In {}, an official language is\n",
      "CUDA out of memory\n",
      "trying with smaller icl >>  2\n"
     ]
    },
    {
     "data": {
      "application/vnd.jupyter.widget-view+json": {
       "model_id": "cd2aed02bb5745cf95ff57d44e122463",
       "version_major": 2,
       "version_minor": 0
      },
      "text/plain": [
       "  0%|          | 0/5 [00:00<?, ?it/s]"
      ]
     },
     "metadata": {},
     "output_type": "display_data"
    },
    {
     "name": "stdout",
     "output_type": "stream",
     "text": [
      "subject:  Banten\n",
      "In Angola, an official language is Portuguese.\n",
      "In Tuva Republic, an official language is Russian.\n",
      "In {}, an official language is\n",
      "tensor(13.5234, device='cuda:0', dtype=torch.float16) tensor(23.5781, device='cuda:0', dtype=torch.float16)\n",
      "\n",
      "subject:  Angola\n",
      "In Banten, an official language is Indonesian.\n",
      "In Panama, an official language is Spanish.\n",
      "In {}, an official language is\n",
      "tensor(14.9141, device='cuda:0', dtype=torch.float16) tensor(25.8594, device='cuda:0', dtype=torch.float16)\n",
      "\n",
      "subject:  Panama\n",
      "In Niue, an official language is English.\n",
      "In Banten, an official language is Indonesian.\n",
      "In {}, an official language is\n",
      "tensor(12.4219, device='cuda:0', dtype=torch.float16) tensor(24.7656, device='cuda:0', dtype=torch.float16)\n",
      "\n",
      "subject:  Niue\n",
      "In Angola, an official language is Portuguese.\n",
      "In Tuva Republic, an official language is Russian.\n",
      "In {}, an official language is\n",
      "tensor(18.8750, device='cuda:0', dtype=torch.float16) tensor(35., device='cuda:0', dtype=torch.float16)\n",
      "\n",
      "subject:  Tuva Republic\n",
      "In Banten, an official language is Indonesian.\n",
      "In Angola, an official language is Portuguese.\n",
      "In {}, an official language is\n",
      "tensor(19.5625, device='cuda:0', dtype=torch.float16) tensor(28.1875, device='cuda:0', dtype=torch.float16)\n",
      "\n"
     ]
    },
    {
     "data": {
      "application/vnd.jupyter.widget-view+json": {
       "model_id": "c6e282d47b3e4cc38f46589605e73b90",
       "version_major": 2,
       "version_minor": 0
      },
      "text/plain": [
       "  0%|          | 0/5 [00:00<?, ?it/s]"
      ]
     },
     "metadata": {},
     "output_type": "display_data"
    },
    {
     "name": "stdout",
     "output_type": "stream",
     "text": [
      "subject:  Angola\n",
      "In Bulgaria, an official language is Bulgarian.\n",
      "In Paimio, an official language is Finnish.\n",
      "In Comoros, an official language is French.\n",
      "In {}, an official language is\n",
      "tensor(14.6016, device='cuda:0', dtype=torch.float16) tensor(26.1562, device='cuda:0', dtype=torch.float16)\n",
      "\n",
      "subject:  Bulgaria\n",
      "In Comoros, an official language is French.\n",
      "In Banten, an official language is Indonesian.\n",
      "In Paimio, an official language is Finnish.\n",
      "In {}, an official language is\n",
      "CUDA out of memory\n",
      "trying with smaller icl >>  2\n"
     ]
    },
    {
     "data": {
      "application/vnd.jupyter.widget-view+json": {
       "model_id": "3e175e50655945fba5ff1c89ae95e681",
       "version_major": 2,
       "version_minor": 0
      },
      "text/plain": [
       "  0%|          | 0/5 [00:00<?, ?it/s]"
      ]
     },
     "metadata": {},
     "output_type": "display_data"
    },
    {
     "name": "stdout",
     "output_type": "stream",
     "text": [
      "subject:  Angola\n",
      "In Comoros, an official language is French.\n",
      "In Bulgaria, an official language is Bulgarian.\n",
      "In {}, an official language is\n",
      "tensor(16.2656, device='cuda:0', dtype=torch.float16) tensor(27.8281, device='cuda:0', dtype=torch.float16)\n",
      "\n",
      "subject:  Bulgaria\n",
      "In Angola, an official language is Portuguese.\n",
      "In Paimio, an official language is Finnish.\n",
      "In {}, an official language is\n",
      "tensor(12.0625, device='cuda:0', dtype=torch.float16) tensor(23.7812, device='cuda:0', dtype=torch.float16)\n",
      "\n",
      "subject:  Comoros\n",
      "In Paimio, an official language is Finnish.\n",
      "In Banten, an official language is Indonesian.\n",
      "In {}, an official language is\n",
      "tensor(20.8750, device='cuda:0', dtype=torch.float16) tensor(28., device='cuda:0', dtype=torch.float16)\n",
      "\n",
      "subject:  Paimio\n",
      "In Banten, an official language is Indonesian.\n",
      "In Angola, an official language is Portuguese.\n",
      "In {}, an official language is\n",
      "tensor(16.9531, device='cuda:0', dtype=torch.float16) tensor(27.7656, device='cuda:0', dtype=torch.float16)\n",
      "\n",
      "subject:  Banten\n",
      "In Angola, an official language is Portuguese.\n",
      "In Bulgaria, an official language is Bulgarian.\n",
      "In {}, an official language is\n",
      "tensor(15.3516, device='cuda:0', dtype=torch.float16) tensor(25.5312, device='cuda:0', dtype=torch.float16)\n",
      "\n"
     ]
    },
    {
     "data": {
      "application/vnd.jupyter.widget-view+json": {
       "model_id": "db7553efb28b41a4beb7d4dae3b2b9df",
       "version_major": 2,
       "version_minor": 0
      },
      "text/plain": [
       "  0%|          | 0/5 [00:00<?, ?it/s]"
      ]
     },
     "metadata": {},
     "output_type": "display_data"
    },
    {
     "name": "stdout",
     "output_type": "stream",
     "text": [
      "subject:  Tuva Republic\n",
      "In Banten, an official language is Indonesian.\n",
      "In Comoros, an official language is French.\n",
      "In Bulgaria, an official language is Bulgarian.\n",
      "In {}, an official language is\n",
      "CUDA out of memory\n",
      "trying with smaller icl >>  2\n"
     ]
    },
    {
     "data": {
      "application/vnd.jupyter.widget-view+json": {
       "model_id": "80cfd25f468f4c80969fbbfde8cd29f7",
       "version_major": 2,
       "version_minor": 0
      },
      "text/plain": [
       "  0%|          | 0/5 [00:00<?, ?it/s]"
      ]
     },
     "metadata": {},
     "output_type": "display_data"
    },
    {
     "name": "stdout",
     "output_type": "stream",
     "text": [
      "subject:  Tuva Republic\n",
      "In Bulgaria, an official language is Bulgarian.\n",
      "In Niue, an official language is English.\n",
      "In {}, an official language is\n",
      "tensor(17.0625, device='cuda:0', dtype=torch.float16) tensor(25.7812, device='cuda:0', dtype=torch.float16)\n",
      "\n",
      "subject:  Banten\n",
      "In Tuva Republic, an official language is Russian.\n",
      "In Comoros, an official language is French.\n",
      "In {}, an official language is\n",
      "tensor(12.3516, device='cuda:0', dtype=torch.float16) tensor(23.4844, device='cuda:0', dtype=torch.float16)\n",
      "\n",
      "subject:  Niue\n",
      "In Tuva Republic, an official language is Russian.\n",
      "In Bulgaria, an official language is Bulgarian.\n",
      "In {}, an official language is\n",
      "tensor(19.3594, device='cuda:0', dtype=torch.float16) tensor(34.4062, device='cuda:0', dtype=torch.float16)\n",
      "\n",
      "subject:  Comoros\n",
      "In Banten, an official language is Indonesian.\n",
      "In Bulgaria, an official language is Bulgarian.\n",
      "In {}, an official language is\n",
      "tensor(21.8906, device='cuda:0', dtype=torch.float16) tensor(28.3125, device='cuda:0', dtype=torch.float16)\n",
      "\n",
      "subject:  Bulgaria\n",
      "In Banten, an official language is Indonesian.\n",
      "In Tuva Republic, an official language is Russian.\n",
      "In {}, an official language is\n",
      "tensor(12.3125, device='cuda:0', dtype=torch.float16) tensor(23.8281, device='cuda:0', dtype=torch.float16)\n",
      "\n"
     ]
    },
    {
     "data": {
      "application/vnd.jupyter.widget-view+json": {
       "model_id": "b8882e5cba2d4a3fbda5eec2696c5175",
       "version_major": 2,
       "version_minor": 0
      },
      "text/plain": [
       "  0%|          | 0/5 [00:00<?, ?it/s]"
      ]
     },
     "metadata": {},
     "output_type": "display_data"
    },
    {
     "name": "stdout",
     "output_type": "stream",
     "text": [
      "subject:  Bulgaria\n",
      "In Tuva Republic, an official language is Russian.\n",
      "In Niue, an official language is English.\n",
      "In Angola, an official language is Portuguese.\n",
      "In {}, an official language is\n",
      "tensor(11.6953, device='cuda:0', dtype=torch.float16) tensor(23.7812, device='cuda:0', dtype=torch.float16)\n",
      "\n",
      "subject:  Angola\n",
      "In Bulgaria, an official language is Bulgarian.\n",
      "In Niue, an official language is English.\n",
      "In Banten, an official language is Indonesian.\n",
      "In {}, an official language is\n",
      "tensor(14.8594, device='cuda:0', dtype=torch.float16) tensor(25.8906, device='cuda:0', dtype=torch.float16)\n",
      "\n",
      "subject:  Banten\n",
      "In Niue, an official language is English.\n",
      "In Tuva Republic, an official language is Russian.\n",
      "In Bulgaria, an official language is Bulgarian.\n",
      "In {}, an official language is\n",
      "CUDA out of memory\n",
      "trying with smaller icl >>  2\n"
     ]
    },
    {
     "data": {
      "application/vnd.jupyter.widget-view+json": {
       "model_id": "3278e30335744e4a8149404179729b9b",
       "version_major": 2,
       "version_minor": 0
      },
      "text/plain": [
       "  0%|          | 0/5 [00:00<?, ?it/s]"
      ]
     },
     "metadata": {},
     "output_type": "display_data"
    },
    {
     "name": "stdout",
     "output_type": "stream",
     "text": [
      "subject:  Bulgaria\n",
      "In Angola, an official language is Portuguese.\n",
      "In Tuva Republic, an official language is Russian.\n",
      "In {}, an official language is\n",
      "tensor(12.7344, device='cuda:0', dtype=torch.float16) tensor(23.8594, device='cuda:0', dtype=torch.float16)\n",
      "\n",
      "subject:  Angola\n",
      "In Niue, an official language is English.\n",
      "In Tuva Republic, an official language is Russian.\n",
      "In {}, an official language is\n",
      "tensor(14.1953, device='cuda:0', dtype=torch.float16) tensor(26.3750, device='cuda:0', dtype=torch.float16)\n",
      "\n",
      "subject:  Banten\n",
      "In Angola, an official language is Portuguese.\n",
      "In Niue, an official language is English.\n",
      "In {}, an official language is\n",
      "tensor(13.0547, device='cuda:0', dtype=torch.float16) tensor(23.6562, device='cuda:0', dtype=torch.float16)\n",
      "\n",
      "subject:  Niue\n",
      "In Angola, an official language is Portuguese.\n",
      "In Bulgaria, an official language is Bulgarian.\n",
      "In {}, an official language is\n",
      "tensor(20.4844, device='cuda:0', dtype=torch.float16) tensor(35.6875, device='cuda:0', dtype=torch.float16)\n",
      "\n",
      "subject:  Tuva Republic\n",
      "In Banten, an official language is Indonesian.\n",
      "In Angola, an official language is Portuguese.\n",
      "In {}, an official language is\n",
      "tensor(19.5625, device='cuda:0', dtype=torch.float16) tensor(28.1875, device='cuda:0', dtype=torch.float16)\n",
      "\n"
     ]
    },
    {
     "data": {
      "application/vnd.jupyter.widget-view+json": {
       "model_id": "0a907e1ffde542ceb078ecc034e8d824",
       "version_major": 2,
       "version_minor": 0
      },
      "text/plain": [
       "  0%|          | 0/5 [00:00<?, ?it/s]"
      ]
     },
     "metadata": {},
     "output_type": "display_data"
    },
    {
     "name": "stdout",
     "output_type": "stream",
     "text": [
      "subject:  Church of Greece\n",
      "In Angola, an official language is Portuguese.\n",
      "In Niue, an official language is English.\n",
      "In Paimio, an official language is Finnish.\n",
      "In {}, an official language is\n",
      "CUDA out of memory\n",
      "trying with smaller icl >>  2\n"
     ]
    },
    {
     "data": {
      "application/vnd.jupyter.widget-view+json": {
       "model_id": "c7b1eb8a8d1244b0a510b9073038f9a8",
       "version_major": 2,
       "version_minor": 0
      },
      "text/plain": [
       "  0%|          | 0/5 [00:00<?, ?it/s]"
      ]
     },
     "metadata": {},
     "output_type": "display_data"
    },
    {
     "name": "stdout",
     "output_type": "stream",
     "text": [
      "subject:  Church of Greece\n",
      "In Angola, an official language is Portuguese.\n",
      "In Panama, an official language is Spanish.\n",
      "In {}, an official language is\n",
      "tensor(9.2188, device='cuda:0', dtype=torch.float16) tensor(22.2656, device='cuda:0', dtype=torch.float16)\n",
      "\n",
      "subject:  Paimio\n",
      "In Niue, an official language is English.\n",
      "In Church of Greece, an official language is Greek.\n",
      "In {}, an official language is\n",
      "tensor(14.9609, device='cuda:0', dtype=torch.float16) tensor(26.7656, device='cuda:0', dtype=torch.float16)\n",
      "\n",
      "subject:  Panama\n",
      "In Paimio, an official language is Finnish.\n",
      "In Niue, an official language is English.\n",
      "In {}, an official language is\n",
      "tensor(14.8906, device='cuda:0', dtype=torch.float16) tensor(25.6562, device='cuda:0', dtype=torch.float16)\n",
      "\n",
      "subject:  Niue\n",
      "In Paimio, an official language is Finnish.\n",
      "In Angola, an official language is Portuguese.\n",
      "In {}, an official language is\n",
      "tensor(19.6406, device='cuda:0', dtype=torch.float16) tensor(31.9062, device='cuda:0', dtype=torch.float16)\n",
      "\n",
      "subject:  Angola\n",
      "In Panama, an official language is Spanish.\n",
      "In Paimio, an official language is Finnish.\n",
      "In {}, an official language is\n",
      "tensor(14.7500, device='cuda:0', dtype=torch.float16) tensor(24.7031, device='cuda:0', dtype=torch.float16)\n",
      "\n"
     ]
    },
    {
     "data": {
      "application/vnd.jupyter.widget-view+json": {
       "model_id": "009579bd5b82454c9a71c0c6da05352f",
       "version_major": 2,
       "version_minor": 0
      },
      "text/plain": [
       "  0%|          | 0/5 [00:00<?, ?it/s]"
      ]
     },
     "metadata": {},
     "output_type": "display_data"
    },
    {
     "name": "stdout",
     "output_type": "stream",
     "text": [
      "subject:  Comoros\n",
      "In Angola, an official language is Portuguese.\n",
      "In Niue, an official language is English.\n",
      "In Aruba, an official language is Dutch.\n",
      "In {}, an official language is\n",
      "CUDA out of memory\n",
      "trying with smaller icl >>  2\n"
     ]
    },
    {
     "data": {
      "application/vnd.jupyter.widget-view+json": {
       "model_id": "673850073bc1457184e66c865de0d9af",
       "version_major": 2,
       "version_minor": 0
      },
      "text/plain": [
       "  0%|          | 0/5 [00:00<?, ?it/s]"
      ]
     },
     "metadata": {},
     "output_type": "display_data"
    },
    {
     "name": "stdout",
     "output_type": "stream",
     "text": [
      "subject:  Comoros\n",
      "In Angola, an official language is Portuguese.\n",
      "In Tuva Republic, an official language is Russian.\n",
      "In {}, an official language is\n",
      "tensor(20.5156, device='cuda:0', dtype=torch.float16) tensor(29.6250, device='cuda:0', dtype=torch.float16)\n",
      "\n",
      "subject:  Aruba\n",
      "In Angola, an official language is Portuguese.\n",
      "In Tuva Republic, an official language is Russian.\n",
      "In {}, an official language is\n",
      "tensor(16.9062, device='cuda:0', dtype=torch.float16) tensor(26.2344, device='cuda:0', dtype=torch.float16)\n",
      "\n",
      "subject:  Niue\n",
      "In Aruba, an official language is Dutch.\n",
      "In Angola, an official language is Portuguese.\n",
      "In {}, an official language is\n",
      "tensor(20.8281, device='cuda:0', dtype=torch.float16) tensor(33.8438, device='cuda:0', dtype=torch.float16)\n",
      "\n",
      "subject:  Angola\n",
      "In Niue, an official language is English.\n",
      "In Aruba, an official language is Dutch.\n",
      "In {}, an official language is\n",
      "tensor(14.5312, device='cuda:0', dtype=torch.float16) tensor(24.9219, device='cuda:0', dtype=torch.float16)\n",
      "\n",
      "subject:  Tuva Republic\n",
      "In Niue, an official language is English.\n",
      "In Angola, an official language is Portuguese.\n",
      "In {}, an official language is\n",
      "tensor(16.9219, device='cuda:0', dtype=torch.float16) tensor(27.3594, device='cuda:0', dtype=torch.float16)\n",
      "\n",
      "Saving weights and biases >>  gpt-j/jacobians_averaged_collection/after__ln_f/P37.npz\n",
      "----------------------------------------------------\n",
      "zzzzzzzzzzzzzzzzzzzzzzzzzzzzzzzzzzzzzzzzzzzzzzzzzzzz\n",
      "P36 The capital of {} is\n",
      "zzzzzzzzzzzzzzzzzzzzzzzzzzzzzzzzzzzzzzzzzzzzzzzzzzzz\n",
      "68\n",
      "The capital of {} is\n"
     ]
    },
    {
     "data": {
      "application/vnd.jupyter.widget-view+json": {
       "model_id": "968df5efb3bc4371bfe6ef649e9cf0c5",
       "version_major": 2,
       "version_minor": 0
      },
      "text/plain": [
       "  0%|          | 0/10 [00:00<?, ?it/s]"
      ]
     },
     "metadata": {},
     "output_type": "display_data"
    },
    {
     "data": {
      "application/vnd.jupyter.widget-view+json": {
       "model_id": "10c9efdc7ba24951853a1b8b9430654c",
       "version_major": 2,
       "version_minor": 0
      },
      "text/plain": [
       "  0%|          | 0/5 [00:00<?, ?it/s]"
      ]
     },
     "metadata": {},
     "output_type": "display_data"
    },
    {
     "name": "stdout",
     "output_type": "stream",
     "text": [
      "subject:  South Yemen\n",
      "The capital of Saxony is Dresden.\n",
      "The capital of Lazio is Rome.\n",
      "The capital of Demerara is Georgetown.\n",
      "The capital of {} is\n",
      "tensor(21.9375, device='cuda:0', dtype=torch.float16) tensor(18.5312, device='cuda:0', dtype=torch.float16)\n",
      "\n",
      "subject:  Saxony\n",
      "The capital of Demerara is Georgetown.\n",
      "The capital of South Yemen is Aden.\n",
      "The capital of United Arab Republic is Cairo.\n",
      "The capital of {} is\n",
      "tensor(18.5000, device='cuda:0', dtype=torch.float16) tensor(8.7109, device='cuda:0', dtype=torch.float16)\n",
      "\n",
      "subject:  United Arab Republic\n",
      "The capital of Demerara is Georgetown.\n",
      "The capital of Saxony is Dresden.\n",
      "The capital of South Yemen is Aden.\n",
      "The capital of {} is\n",
      "tensor(18.2500, device='cuda:0', dtype=torch.float16) tensor(10.9375, device='cuda:0', dtype=torch.float16)\n",
      "\n",
      "subject:  Lazio\n",
      "The capital of Demerara is Georgetown.\n",
      "The capital of Saxony is Dresden.\n",
      "The capital of United Arab Republic is Cairo.\n",
      "The capital of {} is\n",
      "tensor(16.6406, device='cuda:0', dtype=torch.float16) tensor(10.7266, device='cuda:0', dtype=torch.float16)\n",
      "\n",
      "subject:  Demerara\n",
      "The capital of Lazio is Rome.\n",
      "The capital of South Yemen is Aden.\n",
      "The capital of United Arab Republic is Cairo.\n",
      "The capital of {} is\n",
      "tensor(29.6094, device='cuda:0', dtype=torch.float16) tensor(32.5312, device='cuda:0', dtype=torch.float16)\n",
      "\n"
     ]
    },
    {
     "data": {
      "application/vnd.jupyter.widget-view+json": {
       "model_id": "7b4631c9825d4dc8b7fe52a42d5bd6c2",
       "version_major": 2,
       "version_minor": 0
      },
      "text/plain": [
       "  0%|          | 0/5 [00:00<?, ?it/s]"
      ]
     },
     "metadata": {},
     "output_type": "display_data"
    },
    {
     "name": "stdout",
     "output_type": "stream",
     "text": [
      "subject:  Portugal\n",
      "The capital of Saxony is Dresden.\n",
      "The capital of Campania is Naples.\n",
      "The capital of Norway is Oslo.\n",
      "The capital of {} is\n",
      "tensor(13.2031, device='cuda:0', dtype=torch.float16) tensor(9., device='cuda:0', dtype=torch.float16)\n",
      "\n",
      "subject:  Norway\n",
      "The capital of United Arab Republic is Cairo.\n",
      "The capital of Portugal is Lisbon.\n",
      "The capital of Saxony is Dresden.\n",
      "The capital of {} is\n",
      "tensor(11.1328, device='cuda:0', dtype=torch.float16) tensor(8.5156, device='cuda:0', dtype=torch.float16)\n",
      "\n",
      "subject:  Saxony\n",
      "The capital of Campania is Naples.\n",
      "The capital of Portugal is Lisbon.\n",
      "The capital of United Arab Republic is Cairo.\n",
      "The capital of {} is\n",
      "tensor(17.8125, device='cuda:0', dtype=torch.float16) tensor(9.4297, device='cuda:0', dtype=torch.float16)\n",
      "\n",
      "subject:  Campania\n",
      "The capital of United Arab Republic is Cairo.\n",
      "The capital of Norway is Oslo.\n",
      "The capital of Portugal is Lisbon.\n",
      "The capital of {} is\n",
      "tensor(19.0469, device='cuda:0', dtype=torch.float16) tensor(12.1562, device='cuda:0', dtype=torch.float16)\n",
      "\n",
      "subject:  United Arab Republic\n",
      "The capital of Portugal is Lisbon.\n",
      "The capital of Norway is Oslo.\n",
      "The capital of Campania is Naples.\n",
      "The capital of {} is\n",
      "tensor(17.7188, device='cuda:0', dtype=torch.float16) tensor(10.7656, device='cuda:0', dtype=torch.float16)\n",
      "\n"
     ]
    },
    {
     "data": {
      "application/vnd.jupyter.widget-view+json": {
       "model_id": "51502639ecf3425e83778fd9add379a7",
       "version_major": 2,
       "version_minor": 0
      },
      "text/plain": [
       "  0%|          | 0/5 [00:00<?, ?it/s]"
      ]
     },
     "metadata": {},
     "output_type": "display_data"
    },
    {
     "name": "stdout",
     "output_type": "stream",
     "text": [
      "subject:  Saxony\n",
      "The capital of Demerara is Georgetown.\n",
      "The capital of Lazio is Rome.\n",
      "The capital of United Arab Republic is Cairo.\n",
      "The capital of {} is\n",
      "tensor(16.6406, device='cuda:0', dtype=torch.float16) tensor(8.1328, device='cuda:0', dtype=torch.float16)\n",
      "\n",
      "subject:  Demerara\n",
      "The capital of United Arab Republic is Cairo.\n",
      "The capital of Lazio is Rome.\n",
      "The capital of Saxony is Dresden.\n",
      "The capital of {} is\n",
      "tensor(27.0156, device='cuda:0', dtype=torch.float16) tensor(26.8281, device='cuda:0', dtype=torch.float16)\n",
      "\n",
      "subject:  Lazio\n",
      "The capital of Saxony is Dresden.\n",
      "The capital of United Arab Republic is Cairo.\n",
      "The capital of Portugal is Lisbon.\n",
      "The capital of {} is\n",
      "tensor(16.4219, device='cuda:0', dtype=torch.float16) tensor(9.5703, device='cuda:0', dtype=torch.float16)\n",
      "\n",
      "subject:  United Arab Republic\n",
      "The capital of Portugal is Lisbon.\n",
      "The capital of Saxony is Dresden.\n",
      "The capital of Lazio is Rome.\n",
      "The capital of {} is\n",
      "tensor(17.2500, device='cuda:0', dtype=torch.float16) tensor(10.1406, device='cuda:0', dtype=torch.float16)\n",
      "\n",
      "subject:  Portugal\n",
      "The capital of Lazio is Rome.\n",
      "The capital of United Arab Republic is Cairo.\n",
      "The capital of Saxony is Dresden.\n",
      "The capital of {} is\n",
      "tensor(13.2188, device='cuda:0', dtype=torch.float16) tensor(9.3281, device='cuda:0', dtype=torch.float16)\n",
      "\n"
     ]
    },
    {
     "data": {
      "application/vnd.jupyter.widget-view+json": {
       "model_id": "e18af68b82e94ffcb1b46407a5fb66e6",
       "version_major": 2,
       "version_minor": 0
      },
      "text/plain": [
       "  0%|          | 0/5 [00:00<?, ?it/s]"
      ]
     },
     "metadata": {},
     "output_type": "display_data"
    },
    {
     "name": "stdout",
     "output_type": "stream",
     "text": [
      "subject:  Saxony\n",
      "The capital of Lebanon is Beirut.\n",
      "The capital of Lazio is Rome.\n",
      "The capital of Portugal is Lisbon.\n",
      "The capital of {} is\n",
      "tensor(15.3047, device='cuda:0', dtype=torch.float16) tensor(8.5156, device='cuda:0', dtype=torch.float16)\n",
      "\n",
      "subject:  Lazio\n",
      "The capital of Saxony is Dresden.\n",
      "The capital of Portugal is Lisbon.\n",
      "The capital of Lebanon is Beirut.\n",
      "The capital of {} is\n",
      "tensor(16.0469, device='cuda:0', dtype=torch.float16) tensor(9.9531, device='cuda:0', dtype=torch.float16)\n",
      "\n",
      "subject:  Lebanon\n",
      "The capital of Saxony is Dresden.\n",
      "The capital of Peru is Lima.\n",
      "The capital of Lazio is Rome.\n",
      "The capital of {} is\n",
      "tensor(16.7031, device='cuda:0', dtype=torch.float16) tensor(11.6172, device='cuda:0', dtype=torch.float16)\n",
      "\n",
      "subject:  Peru\n",
      "The capital of Lazio is Rome.\n",
      "The capital of Portugal is Lisbon.\n",
      "The capital of Saxony is Dresden.\n",
      "The capital of {} is\n",
      "tensor(17.4844, device='cuda:0', dtype=torch.float16) tensor(17.5938, device='cuda:0', dtype=torch.float16)\n",
      "\n",
      "subject:  Portugal\n",
      "The capital of Saxony is Dresden.\n",
      "The capital of Lebanon is Beirut.\n",
      "The capital of Lazio is Rome.\n",
      "The capital of {} is\n",
      "tensor(12.3594, device='cuda:0', dtype=torch.float16) tensor(8.1172, device='cuda:0', dtype=torch.float16)\n",
      "\n"
     ]
    },
    {
     "data": {
      "application/vnd.jupyter.widget-view+json": {
       "model_id": "5afc4a78bac14d9689a34892ebad6cc4",
       "version_major": 2,
       "version_minor": 0
      },
      "text/plain": [
       "  0%|          | 0/5 [00:00<?, ?it/s]"
      ]
     },
     "metadata": {},
     "output_type": "display_data"
    },
    {
     "name": "stdout",
     "output_type": "stream",
     "text": [
      "subject:  South Yemen\n",
      "The capital of Campania is Naples.\n",
      "The capital of Peru is Lima.\n",
      "The capital of Lazio is Rome.\n",
      "The capital of {} is\n",
      "tensor(24., device='cuda:0', dtype=torch.float16) tensor(20.6875, device='cuda:0', dtype=torch.float16)\n",
      "\n",
      "subject:  Campania\n",
      "The capital of Peru is Lima.\n",
      "The capital of Lazio is Rome.\n",
      "The capital of Norway is Oslo.\n",
      "The capital of {} is\n",
      "tensor(18.3906, device='cuda:0', dtype=torch.float16) tensor(11.8594, device='cuda:0', dtype=torch.float16)\n",
      "\n",
      "subject:  Peru\n",
      "The capital of Campania is Naples.\n",
      "The capital of Lazio is Rome.\n",
      "The capital of Norway is Oslo.\n",
      "The capital of {} is\n",
      "tensor(18.4375, device='cuda:0', dtype=torch.float16) tensor(17.3906, device='cuda:0', dtype=torch.float16)\n",
      "\n",
      "subject:  Norway\n",
      "The capital of Lazio is Rome.\n",
      "The capital of Campania is Naples.\n",
      "The capital of Peru is Lima.\n",
      "The capital of {} is\n",
      "tensor(11.9062, device='cuda:0', dtype=torch.float16) tensor(10.1797, device='cuda:0', dtype=torch.float16)\n",
      "\n",
      "subject:  Lazio\n",
      "The capital of Norway is Oslo.\n",
      "The capital of Peru is Lima.\n",
      "The capital of South Yemen is Aden.\n",
      "The capital of {} is\n",
      "tensor(16.1719, device='cuda:0', dtype=torch.float16) tensor(10.8672, device='cuda:0', dtype=torch.float16)\n",
      "\n"
     ]
    },
    {
     "data": {
      "application/vnd.jupyter.widget-view+json": {
       "model_id": "3f2f9bb6381e4895a09d9c8822b1bfaf",
       "version_major": 2,
       "version_minor": 0
      },
      "text/plain": [
       "  0%|          | 0/5 [00:00<?, ?it/s]"
      ]
     },
     "metadata": {},
     "output_type": "display_data"
    },
    {
     "name": "stdout",
     "output_type": "stream",
     "text": [
      "subject:  Saxony\n",
      "The capital of Lebanon is Beirut.\n",
      "The capital of Norway is Oslo.\n",
      "The capital of South Yemen is Aden.\n",
      "The capital of {} is\n",
      "tensor(17.8750, device='cuda:0', dtype=torch.float16) tensor(8.2969, device='cuda:0', dtype=torch.float16)\n",
      "\n",
      "subject:  Norway\n",
      "The capital of Saxony is Dresden.\n",
      "The capital of Portugal is Lisbon.\n",
      "The capital of Lebanon is Beirut.\n",
      "The capital of {} is\n",
      "tensor(11.5156, device='cuda:0', dtype=torch.float16) tensor(8.6250, device='cuda:0', dtype=torch.float16)\n",
      "\n",
      "subject:  Lebanon\n",
      "The capital of Saxony is Dresden.\n",
      "The capital of Norway is Oslo.\n",
      "The capital of South Yemen is Aden.\n",
      "The capital of {} is\n",
      "tensor(15.4922, device='cuda:0', dtype=torch.float16) tensor(12.1172, device='cuda:0', dtype=torch.float16)\n",
      "\n",
      "subject:  South Yemen\n",
      "The capital of Norway is Oslo.\n",
      "The capital of Portugal is Lisbon.\n",
      "The capital of Saxony is Dresden.\n",
      "The capital of {} is\n",
      "tensor(24.0625, device='cuda:0', dtype=torch.float16) tensor(20.7344, device='cuda:0', dtype=torch.float16)\n",
      "\n",
      "subject:  Portugal\n",
      "The capital of South Yemen is Aden.\n",
      "The capital of Saxony is Dresden.\n",
      "The capital of Norway is Oslo.\n",
      "The capital of {} is\n",
      "tensor(12.2734, device='cuda:0', dtype=torch.float16) tensor(8.4219, device='cuda:0', dtype=torch.float16)\n",
      "\n"
     ]
    },
    {
     "data": {
      "application/vnd.jupyter.widget-view+json": {
       "model_id": "5e75ed17cae2483e8943d1dbfbb30833",
       "version_major": 2,
       "version_minor": 0
      },
      "text/plain": [
       "  0%|          | 0/5 [00:00<?, ?it/s]"
      ]
     },
     "metadata": {},
     "output_type": "display_data"
    },
    {
     "name": "stdout",
     "output_type": "stream",
     "text": [
      "subject:  Norway\n",
      "The capital of Saxony is Dresden.\n",
      "The capital of Campania is Naples.\n",
      "The capital of Lazio is Rome.\n",
      "The capital of {} is\n",
      "tensor(12.0625, device='cuda:0', dtype=torch.float16) tensor(8.9453, device='cuda:0', dtype=torch.float16)\n",
      "\n",
      "subject:  Saxony\n",
      "The capital of Campania is Naples.\n",
      "The capital of Lazio is Rome.\n",
      "The capital of Norway is Oslo.\n",
      "The capital of {} is\n",
      "tensor(15.4297, device='cuda:0', dtype=torch.float16) tensor(9.1250, device='cuda:0', dtype=torch.float16)\n",
      "\n",
      "subject:  Campania\n",
      "The capital of Lazio is Rome.\n",
      "The capital of Norway is Oslo.\n",
      "The capital of Saxony is Dresden.\n",
      "The capital of {} is\n",
      "tensor(21.0469, device='cuda:0', dtype=torch.float16) tensor(10.8438, device='cuda:0', dtype=torch.float16)\n",
      "\n",
      "subject:  Portugal\n",
      "The capital of Saxony is Dresden.\n",
      "The capital of Campania is Naples.\n",
      "The capital of Lazio is Rome.\n",
      "The capital of {} is\n",
      "tensor(13.3125, device='cuda:0', dtype=torch.float16) tensor(8.9531, device='cuda:0', dtype=torch.float16)\n",
      "\n",
      "subject:  Lazio\n",
      "The capital of Campania is Naples.\n",
      "The capital of Saxony is Dresden.\n",
      "The capital of Portugal is Lisbon.\n",
      "The capital of {} is\n",
      "tensor(16.4062, device='cuda:0', dtype=torch.float16) tensor(10.1484, device='cuda:0', dtype=torch.float16)\n",
      "\n"
     ]
    },
    {
     "data": {
      "application/vnd.jupyter.widget-view+json": {
       "model_id": "d95d543405a340ef892093fc349fa101",
       "version_major": 2,
       "version_minor": 0
      },
      "text/plain": [
       "  0%|          | 0/5 [00:00<?, ?it/s]"
      ]
     },
     "metadata": {},
     "output_type": "display_data"
    },
    {
     "name": "stdout",
     "output_type": "stream",
     "text": [
      "subject:  Lebanon\n",
      "The capital of Demerara is Georgetown.\n",
      "The capital of Saxony is Dresden.\n",
      "The capital of Lazio is Rome.\n",
      "The capital of {} is\n",
      "tensor(17.4375, device='cuda:0', dtype=torch.float16) tensor(12.5547, device='cuda:0', dtype=torch.float16)\n",
      "\n",
      "subject:  Lazio\n",
      "The capital of Saxony is Dresden.\n",
      "The capital of Demerara is Georgetown.\n",
      "The capital of Portugal is Lisbon.\n",
      "The capital of {} is\n",
      "tensor(15.6250, device='cuda:0', dtype=torch.float16) tensor(10.1484, device='cuda:0', dtype=torch.float16)\n",
      "\n",
      "subject:  Portugal\n",
      "The capital of Demerara is Georgetown.\n",
      "The capital of Lebanon is Beirut.\n",
      "The capital of Saxony is Dresden.\n",
      "The capital of {} is\n",
      "tensor(12.5625, device='cuda:0', dtype=torch.float16) tensor(8.5781, device='cuda:0', dtype=torch.float16)\n",
      "\n",
      "subject:  Demerara\n",
      "The capital of Saxony is Dresden.\n",
      "The capital of Lebanon is Beirut.\n",
      "The capital of Lazio is Rome.\n",
      "The capital of {} is\n",
      "tensor(28.8750, device='cuda:0', dtype=torch.float16) tensor(28.0781, device='cuda:0', dtype=torch.float16)\n",
      "\n",
      "subject:  Saxony\n",
      "The capital of Demerara is Georgetown.\n",
      "The capital of Lazio is Rome.\n",
      "The capital of Portugal is Lisbon.\n",
      "The capital of {} is\n",
      "tensor(15.5469, device='cuda:0', dtype=torch.float16) tensor(8.3984, device='cuda:0', dtype=torch.float16)\n",
      "\n"
     ]
    },
    {
     "data": {
      "application/vnd.jupyter.widget-view+json": {
       "model_id": "35e4c11d0b824309a0f576cb9f41ccff",
       "version_major": 2,
       "version_minor": 0
      },
      "text/plain": [
       "  0%|          | 0/5 [00:00<?, ?it/s]"
      ]
     },
     "metadata": {},
     "output_type": "display_data"
    },
    {
     "name": "stdout",
     "output_type": "stream",
     "text": [
      "subject:  Lazio\n",
      "The capital of Peru is Lima.\n",
      "The capital of South Yemen is Aden.\n",
      "The capital of Campania is Naples.\n",
      "The capital of {} is\n",
      "tensor(17.9219, device='cuda:0', dtype=torch.float16) tensor(12.4375, device='cuda:0', dtype=torch.float16)\n",
      "\n",
      "subject:  South Yemen\n",
      "The capital of Campania is Naples.\n",
      "The capital of Peru is Lima.\n",
      "The capital of United Arab Republic is Cairo.\n",
      "The capital of {} is\n",
      "tensor(24., device='cuda:0', dtype=torch.float16) tensor(20.5000, device='cuda:0', dtype=torch.float16)\n",
      "\n",
      "subject:  Campania\n",
      "The capital of South Yemen is Aden.\n",
      "The capital of Peru is Lima.\n",
      "The capital of Lazio is Rome.\n",
      "The capital of {} is\n",
      "tensor(19.9688, device='cuda:0', dtype=torch.float16) tensor(12.8984, device='cuda:0', dtype=torch.float16)\n",
      "\n",
      "subject:  United Arab Republic\n",
      "The capital of South Yemen is Aden.\n",
      "The capital of Peru is Lima.\n",
      "The capital of Campania is Naples.\n",
      "The capital of {} is\n",
      "tensor(17.2500, device='cuda:0', dtype=torch.float16) tensor(11.0625, device='cuda:0', dtype=torch.float16)\n",
      "\n",
      "subject:  Peru\n",
      "The capital of Campania is Naples.\n",
      "The capital of Lazio is Rome.\n",
      "The capital of United Arab Republic is Cairo.\n",
      "The capital of {} is\n",
      "tensor(17.2812, device='cuda:0', dtype=torch.float16) tensor(16.6250, device='cuda:0', dtype=torch.float16)\n",
      "\n"
     ]
    },
    {
     "data": {
      "application/vnd.jupyter.widget-view+json": {
       "model_id": "bf74ed3681874b7f8e69bd651f99275f",
       "version_major": 2,
       "version_minor": 0
      },
      "text/plain": [
       "  0%|          | 0/5 [00:00<?, ?it/s]"
      ]
     },
     "metadata": {},
     "output_type": "display_data"
    },
    {
     "name": "stdout",
     "output_type": "stream",
     "text": [
      "subject:  South Yemen\n",
      "The capital of Lebanon is Beirut.\n",
      "The capital of Peru is Lima.\n",
      "The capital of Lazio is Rome.\n",
      "The capital of {} is\n",
      "tensor(22.3281, device='cuda:0', dtype=torch.float16) tensor(18.6875, device='cuda:0', dtype=torch.float16)\n",
      "\n",
      "subject:  Lebanon\n",
      "The capital of United Arab Republic is Cairo.\n",
      "The capital of South Yemen is Aden.\n",
      "The capital of Lazio is Rome.\n",
      "The capital of {} is\n",
      "tensor(14.5156, device='cuda:0', dtype=torch.float16) tensor(12.4141, device='cuda:0', dtype=torch.float16)\n",
      "\n",
      "subject:  Lazio\n",
      "The capital of Peru is Lima.\n",
      "The capital of South Yemen is Aden.\n",
      "The capital of Lebanon is Beirut.\n",
      "The capital of {} is\n",
      "tensor(14.2969, device='cuda:0', dtype=torch.float16) tensor(9.9766, device='cuda:0', dtype=torch.float16)\n",
      "\n",
      "subject:  United Arab Republic\n",
      "The capital of South Yemen is Aden.\n",
      "The capital of Lazio is Rome.\n",
      "The capital of Lebanon is Beirut.\n",
      "The capital of {} is\n",
      "tensor(17.4688, device='cuda:0', dtype=torch.float16) tensor(11.3750, device='cuda:0', dtype=torch.float16)\n",
      "\n",
      "subject:  Peru\n",
      "The capital of United Arab Republic is Cairo.\n",
      "The capital of Lazio is Rome.\n",
      "The capital of South Yemen is Aden.\n",
      "The capital of {} is\n",
      "tensor(16.0469, device='cuda:0', dtype=torch.float16) tensor(15.6719, device='cuda:0', dtype=torch.float16)\n",
      "\n",
      "Saving weights and biases >>  gpt-j/jacobians_averaged_collection/after__ln_f/P36.npz\n",
      "----------------------------------------------------\n"
     ]
    }
   ],
   "source": [
    "jb_save_path = \"gpt-j/jacobians_averaged_collection/after__ln_f\"\n",
    "os.makedirs(jb_save_path, exist_ok = True)\n",
    "\n",
    "for relation_id in relation_dct:\n",
    "    print(\"zzzzzzzzzzzzzzzzzzzzzzzzzzzzzzzzzzzzzzzzzzzzzzzzzzzz\")\n",
    "    print(relation_id, relation_dct[relation_id]['relation'])\n",
    "    print(\"zzzzzzzzzzzzzzzzzzzzzzzzzzzzzzzzzzzzzzzzzzzzzzzzzzzz\")\n",
    "    path = f\"{root_path}/{relation_id}\"\n",
    "    try:\n",
    "        with open(f\"{path}/correct_prediction_{relation_id}.json\") as f:\n",
    "            correct_predictions = json.load(f)\n",
    "            print(len(correct_predictions))\n",
    "    except:\n",
    "        print(f\"Error opening correct prediction {relation_id} (maybe the scan skipped this relation?)\")\n",
    "        print(\"XXXXXXXXXXXXXXXXXXXXXXXXXXXXXXXXXXXXXXXXXXXXXXXXXXXX\")\n",
    "        continue\n",
    "        \n",
    "    if(len(correct_predictions) < cut_off):\n",
    "        print(f\"skipped {relation_id} >> \", len(correct_predictions))\n",
    "        print(\"XXXXXXXXXXXXXXXXXXXXXXXXXXXXXXXXXXXXXXXXXXXXXXXXXXXX\")\n",
    "        continue\n",
    "\n",
    "    top_performers = get_top_performers(relation_id, consider_top=10)\n",
    "\n",
    "    relation_prompt = relation_dct[relation_id]['relation']\n",
    "    print(relation_prompt)\n",
    "\n",
    "    # weight, bias = get_averaged_JB(top_performers, relation_prompt)\n",
    "    weights_and_biases = get_multiple_averaged_JB(\n",
    "        top_performers, \n",
    "        relation_prompt=relation_prompt, \n",
    "        N = 10, \n",
    "        calculate_at_lnf=True\n",
    "    )\n",
    "\n",
    "    save_path = f\"{jb_save_path}/{relation_id}.npz\"\n",
    "    print(\"Saving weights and biases >> \", save_path)\n",
    "    np.savez(\n",
    "        save_path, \n",
    "        # JB = [{\n",
    "        #     'weight': weight.cpu().numpy(),\n",
    "        #     'bias'  : bias.cpu().numpy()\n",
    "        # }],\n",
    "        weights_and_biases = weights_and_biases,\n",
    "        allow_pickle = True\n",
    "    )\n",
    "    print(\"----------------------------------------------------\")\n"
   ]
  },
  {
   "cell_type": "code",
   "execution_count": null,
   "metadata": {},
   "outputs": [],
   "source": []
  }
 ],
 "metadata": {
  "kernelspec": {
   "display_name": "relation",
   "language": "python",
   "name": "python3"
  },
  "language_info": {
   "codemirror_mode": {
    "name": "ipython",
    "version": 3
   },
   "file_extension": ".py",
   "mimetype": "text/x-python",
   "name": "python",
   "nbconvert_exporter": "python",
   "pygments_lexer": "ipython3",
   "version": "3.10.8 (main, Nov 24 2022, 14:13:03) [GCC 11.2.0]"
  },
  "orig_nbformat": 4,
  "vscode": {
   "interpreter": {
    "hash": "3439fe3f7dcaddaf51997811d25ada8e7c0985d2997d22a3ed461af94d2f9f43"
   }
  }
 },
 "nbformat": 4,
 "nbformat_minor": 2
}
