{
 "cells": [
  {
   "cell_type": "code",
   "execution_count": 1,
   "metadata": {},
   "outputs": [],
   "source": [
    "%load_ext autoreload\n",
    "%autoreload 2"
   ]
  },
  {
   "cell_type": "code",
   "execution_count": 2,
   "metadata": {},
   "outputs": [],
   "source": [
    "import torch\n",
    "import numpy as np\n",
    "import json\n",
    "from tqdm.auto import tqdm\n",
    "import random\n",
    "\n",
    "\n",
    "import os\n",
    "import sys\n",
    "sys.path.append('..')\n",
    "\n",
    "from relations import estimate\n",
    "from util import model_utils\n",
    "from dsets.counterfact import CounterFactDataset\n",
    "from util import nethook\n",
    "from operator import itemgetter"
   ]
  },
  {
   "cell_type": "code",
   "execution_count": 3,
   "metadata": {},
   "outputs": [],
   "source": [
    "MODEL_NAME = \"EleutherAI/gpt-j-6B\"  # gpt2-{medium,large,xl} or EleutherAI/gpt-j-6B\n",
    "mt = model_utils.ModelAndTokenizer(MODEL_NAME, low_cpu_mem_usage=True, torch_dtype=torch.float16)\n",
    "\n",
    "model = mt.model\n",
    "tokenizer = mt.tokenizer\n",
    "tokenizer.pad_token = tokenizer.eos_token"
   ]
  },
  {
   "cell_type": "code",
   "execution_count": 4,
   "metadata": {},
   "outputs": [],
   "source": [
    "jb_save_path = \"gpt-j/jacobians_averaged\"\n",
    "os.makedirs(jb_save_path, exist_ok = True)"
   ]
  },
  {
   "cell_type": "code",
   "execution_count": 5,
   "metadata": {},
   "outputs": [
    {
     "name": "stdout",
     "output_type": "stream",
     "text": [
      "skipped  P1303\n",
      "skipped  P190\n",
      "skipped  P740\n",
      "skipped  P413\n",
      "skipped  P39\n",
      "skipped  P136\n",
      "skipped  P449\n",
      "skipped  P138\n",
      "skipped  P131\n",
      "skipped  P407\n",
      "skipped  P108\n"
     ]
    }
   ],
   "source": [
    "cut_off = 50 # minimum number of correct predictions\n",
    "\n",
    "###########################################################################\n",
    "relation_dct = {\n",
    "    'P17'   : {'relation': '{} is located in the country of', 'correct_predict': None, 'cached_JB': None},\n",
    "    'P641'  : {'relation': '{} plays the sport of', 'correct_predict': None, 'cached_JB': None},\n",
    "    'P103'  : {'relation': 'The mother tongue of {} is', 'correct_predict': None, 'cached_JB': None},\n",
    "    'P176'  : {'relation': '{} is produced by', 'correct_predict': None, 'cached_JB': None},\n",
    "    'P140'  : {'relation': 'The official religion of {} is', 'correct_predict': None, 'cached_JB': None},\n",
    "    'P1303' : {'relation': '{} plays the instrument', 'correct_predict': None, 'cached_JB': None},\n",
    "    'P190'  : {'relation': 'What is the twin city of {}? It is', 'correct_predict': None, 'cached_JB': None},\n",
    "    'P740'  : {'relation': '{} was founded in', 'correct_predict': None, 'cached_JB': None},\n",
    "    'P178'  : {'relation': '{} was developed by', 'correct_predict': None, 'cached_JB': None},\n",
    "    'P495'  : {'relation': '{}, that originated in the country of', 'correct_predict': None, 'cached_JB': None},\n",
    "    'P127'  : {'relation': '{} is owned by', 'correct_predict': None, 'cached_JB': None},\n",
    "    'P413'  : {'relation': '{} plays in the position of', 'correct_predict': None, 'cached_JB': None},\n",
    "    'P39'   : {'relation': '{}, who holds the position of', 'correct_predict': None, 'cached_JB': None},\n",
    "    'P159'  : {'relation': 'The headquarter of {} is located in', 'correct_predict': None, 'cached_JB': None},\n",
    "    'P20'   : {'relation': '{} died in the city of', 'correct_predict': None, 'cached_JB': None},\n",
    "    'P136'  : {'relation': 'What does {} play? They play', 'correct_predict': None, 'cached_JB': None},\n",
    "    'P106'  : {'relation': 'The profession of {} is', 'correct_predict': None, 'cached_JB': None},\n",
    "    'P30'   : {'relation': '{} is located in the continent of', 'correct_predict': None, 'cached_JB': None},\n",
    "    'P937'  : {'relation': '{} worked in the city of', 'correct_predict': None, 'cached_JB': None},\n",
    "    'P449'  : {'relation': '{} was released on', 'correct_predict': None, 'cached_JB': None},\n",
    "    'P27'   : {'relation': '{} is a citizen of', 'correct_predict': None, 'cached_JB': None},\n",
    "    'P101'  : {'relation': '{} works in the field of', 'correct_predict': None, 'cached_JB': None},\n",
    "    'P19'   : {'relation': '{} was born in', 'correct_predict': None, 'cached_JB': None},\n",
    "    'P37'   : {'relation': 'In {}, an official language is', 'correct_predict': None, 'cached_JB': None},\n",
    "    'P138'  : {'relation': '{}, named after', 'correct_predict': None, 'cached_JB': None},\n",
    "    'P131'  : {'relation': '{} is located in', 'correct_predict': None, 'cached_JB': None},\n",
    "    'P407'  : {'relation': '{} was written in', 'correct_predict': None, 'cached_JB': None},\n",
    "    'P108'  : {'relation': '{}, who is employed by', 'correct_predict': None, 'cached_JB': None},\n",
    "    'P36'   : {'relation': 'The capital of {} is', 'correct_predict': None, 'cached_JB': None},\n",
    "}\n",
    "###########################################################################\n",
    "\n",
    "\n",
    "root_path = \"gpt-j\"\n",
    "\n",
    "pop_track = []\n",
    "for relation in relation_dct:\n",
    "    path = f\"{root_path}/{relation}\"\n",
    "    with open(f\"{path}/correct_prediction_{relation}.json\") as f:\n",
    "        correct_predictions = json.load(f)\n",
    "    if(len(correct_predictions) < cut_off):\n",
    "    # if \"performance\" not in os.listdir(path):\n",
    "        print(\"skipped \", relation)\n",
    "        pop_track.append(relation)\n",
    "    \n",
    "for r in pop_track:\n",
    "    relation_dct.pop(r)"
   ]
  },
  {
   "cell_type": "code",
   "execution_count": 6,
   "metadata": {},
   "outputs": [
    {
     "name": "stdout",
     "output_type": "stream",
     "text": [
      "The profession of {} is\n"
     ]
    }
   ],
   "source": [
    "relation_id = \"P106\"\n",
    "\n",
    "print(relation_dct[relation_id]['relation'])"
   ]
  },
  {
   "cell_type": "code",
   "execution_count": 7,
   "metadata": {},
   "outputs": [
    {
     "data": {
      "text/plain": [
       "[('Lucha Villa', 0, 'actor'), ('Cigoli', 0, 'architect')]"
      ]
     },
     "execution_count": 7,
     "metadata": {},
     "output_type": "execute_result"
    }
   ],
   "source": [
    "def get_top_performers(relation_id, consider_top = 5):\n",
    "    with open(f\"gpt-j/{relation_id}/performance\") as f:\n",
    "        performance = json.load(f)\n",
    "    performance.sort(key = itemgetter('p@3'), reverse=True)\n",
    "\n",
    "    subject__top_performers = []\n",
    "    object__top_performers = []\n",
    "    top_performers = []\n",
    "\n",
    "    for candidate in performance:\n",
    "        subject = candidate['subject']\n",
    "        try:\n",
    "            sub_idx = candidate['misc']['h_info']['sub_index']\n",
    "        except:\n",
    "            sub_idx = candidate['misc']['h_info']['h_index']\n",
    "        object = candidate['object']\n",
    "        if(subject in subject__top_performers or object in object__top_performers):\n",
    "            continue\n",
    "        if(len(tokenizer(subject).input_ids) > 3):\n",
    "            continue\n",
    "        \n",
    "        subject__top_performers.append(subject)\n",
    "        object__top_performers.append(object)\n",
    "        top_performers.append((\n",
    "            subject, sub_idx, object #, candidate['p@3']\n",
    "        ))\n",
    "\n",
    "        if(len(top_performers) == consider_top):\n",
    "            break\n",
    "    return top_performers\n",
    "\n",
    "top_performers = get_top_performers(relation_id, consider_top=10)\n",
    "top_performers"
   ]
  },
  {
   "cell_type": "code",
   "execution_count": 8,
   "metadata": {},
   "outputs": [],
   "source": [
    "# best_performing_cases = {}\n",
    "\n",
    "# for relation_id in relation_dct:\n",
    "#     top_performers = get_top_performers(relation_id, consider_top=10)\n",
    "#     cases_formatted = []\n",
    "#     for subject, sub_idx, obj, perf in top_performers:\n",
    "#         cases_formatted.append({\n",
    "#             'subject': subject,\n",
    "#             'sub_idx': sub_idx,\n",
    "#             'object': obj,\n",
    "#             'p@3_outof_50': perf\n",
    "#         })\n",
    "#     best_performing_cases[relation_id] = cases_formatted\n",
    "\n",
    "# with open(\"best_performing_cases__relationwise__gpt-j.json\", \"w\") as f:\n",
    "#     json.dump(best_performing_cases, f)"
   ]
  },
  {
   "cell_type": "code",
   "execution_count": 9,
   "metadata": {},
   "outputs": [
    {
     "data": {
      "text/plain": [
       "'The profession of {} is'"
      ]
     },
     "execution_count": 9,
     "metadata": {},
     "output_type": "execute_result"
    }
   ],
   "source": [
    "r = relation_dct[relation_id]['relation']\n",
    "r"
   ]
  },
  {
   "cell_type": "code",
   "execution_count": 10,
   "metadata": {},
   "outputs": [],
   "source": [
    "def get_averaged_JB(top_performers, relation_prompt, num_icl = 3, calculate_at_lnf = False):\n",
    "    try:\n",
    "        jbs = []\n",
    "        for s, s_idx, o in tqdm(top_performers):\n",
    "            others = set(top_performers) - {(s, s_idx, o)}\n",
    "            others = random.sample(list(others), k = min(num_icl, len(list(others)))) \n",
    "            prompt = \"\"\n",
    "            prompt += \"\\n\".join(relation_prompt.format(s_other) + f\" {o_other}.\" for s_other, idx_other, o_other in others) + \"\\n\"\n",
    "            prompt += relation_prompt\n",
    "            print(\"subject: \", s)\n",
    "            print(prompt)\n",
    "\n",
    "            inputs = tokenizer(prompt, return_tensors=\"pt\").to(model.device)\n",
    "            jb = estimate.estimate_relation_operator(\n",
    "                model, tokenizer,\n",
    "                s, prompt,\n",
    "                subject_token_index= s_idx,\n",
    "                layer = 15,\n",
    "                device = model.device,\n",
    "                calculate_at_lnf = calculate_at_lnf\n",
    "            )\n",
    "            print(jb.weight.norm(), jb.bias.norm())\n",
    "            print()\n",
    "            jbs.append(jb)\n",
    "        \n",
    "        weight = torch.stack([jb.weight for jb in jbs]).mean(dim=0)\n",
    "        bias  = torch.stack([jb.bias for jb in jbs]).mean(dim=0)\n",
    "\n",
    "        return weight, bias\n",
    "    except RuntimeError as e:\n",
    "        if(str(e).startswith(\"CUDA out of memory\")):\n",
    "            print(\"CUDA out of memory\")\n",
    "        if(num_icl > 1):\n",
    "            num_icl -= 1\n",
    "            print(\"trying with smaller icl >> \", num_icl)\n",
    "            return get_averaged_JB(top_performers, relation_prompt, num_icl, calculate_at_lnf)\n",
    "        else:\n",
    "            raise Exception(\"RuntimeError >> can't calculate Jacobian with minimum number of icl examples\")\n",
    "\n",
    "def get_multiple_averaged_JB(top_performers, relation_prompt, N = 3, num_icl = 3, calculate_at_lnf = False):\n",
    "    weights_and_biases = []\n",
    "    sample_size = min(len(top_performers), num_icl + 2)\n",
    "    for _ in tqdm(range(N)):\n",
    "        cur_sample = random.sample(top_performers, k = sample_size)\n",
    "        weight, bias = get_averaged_JB(cur_sample, relation_prompt, num_icl, calculate_at_lnf)\n",
    "        weights_and_biases.append({\n",
    "            'weight': weight,\n",
    "            'bias'  : bias\n",
    "        })\n",
    "    return weights_and_biases"
   ]
  },
  {
   "cell_type": "code",
   "execution_count": 11,
   "metadata": {},
   "outputs": [],
   "source": [
    "# weights_and_biases = get_multiple_averaged_JB(top_performers, relation_prompt=r)"
   ]
  },
  {
   "cell_type": "code",
   "execution_count": 12,
   "metadata": {},
   "outputs": [],
   "source": [
    "# len(weights_and_biases)"
   ]
  },
  {
   "cell_type": "code",
   "execution_count": 13,
   "metadata": {},
   "outputs": [],
   "source": [
    "\n",
    "# weight, bias = get_averaged_JB(top_performers, r)\n",
    "# relation = estimate.RelationOperator(\n",
    "#     weight=weight,\n",
    "#     bias=bias,\n",
    "#     model=model,\n",
    "#     tokenizer=tokenizer,\n",
    "#     layer= 15 ,\n",
    "#     relation= relation_dct[relation_id]['relation'],\n",
    "# )"
   ]
  },
  {
   "cell_type": "code",
   "execution_count": 14,
   "metadata": {},
   "outputs": [],
   "source": [
    "# test_subjects = [\n",
    "#     \"Hugh Jackman\",\n",
    "#     \"Michael Phelps\",\n",
    "#     \"Agatha Christie\",\n",
    "#     \"Barack Obama\",\n",
    "#     \"Sherlock Holmes\",\n",
    "#     \"Alan Turing\",\n",
    "#     \"Bill Gates\",\n",
    "#     \"Michelangelo\"\n",
    "# ]\n",
    "\n",
    "# for sub in test_subjects:\n",
    "#     print(f\"{sub} >> \", relation(sub, device= model.device))"
   ]
  },
  {
   "cell_type": "code",
   "execution_count": 15,
   "metadata": {},
   "outputs": [],
   "source": [
    "# test_cases = [\n",
    "#     # (\"Statue of Liberty\", -1, \"United States\"),\n",
    "#     (\"The Great Wall\", -1, \"China\"),\n",
    "#     (\"Niagara Falls\", -2, \"Canada\"),\n",
    "#     (\"Valdemarsvik\", -1, \"Sweden\"),\n",
    "#     (\"Kyoto University\", -2, \"Japan\"),\n",
    "#     (\"Hattfjelldal\", -1, \"Norway\"),\n",
    "#     (\"Ginza\", -1, \"Japan\"),\n",
    "#     (\"Sydney Hospital\", -2, \"Australia\"),\n",
    "#     (\"Mahalangur Himal\", -1, \"Nepal\"),\n",
    "#     (\"Higashikagawa\", -1, \"Japan\"),\n",
    "#     (\"Trento\", -1, \"Italy\"),\n",
    "#     (\"Taj Mahal\", -1, \"India\"),\n",
    "#     (\"Hagia Sophia\", -1, \"Turkey\"),\n",
    "#     (\"Colosseum\", -1, \"Italy\"),\n",
    "#     (\"Mount Everest\", -1, \"Nepal\"),\n",
    "#     (\"Valencia\", -1, \"Spain\"),\n",
    "#     (\"Lake Baikal\", -1, \"Russia\"),\n",
    "#     (\"Merlion Park\", -1, \"Singapore\"),\n",
    "#     (\"Cologne Cathedral\", -1, \"Germany\"),\n",
    "#     (\"Buda Castle\", -1, \"Hungary\")\n",
    "# ]\n",
    "\n",
    "# def check_with_test_cases(relation_operator):\n",
    "#     for subject, subject_token_index, target in test_cases:\n",
    "#         objects = relation_operator(\n",
    "#             subject,\n",
    "#             subject_token_index=subject_token_index,\n",
    "#             device=model.device,\n",
    "#             return_top_k=5,\n",
    "#         )\n",
    "#         print(f\"{subject}, target: {target}   ==>   predicted: {objects}\")\n",
    "\n",
    "# check_with_test_cases(relation)"
   ]
  },
  {
   "cell_type": "code",
   "execution_count": 16,
   "metadata": {},
   "outputs": [],
   "source": [
    "# print(f\"{jb_save_path}/{relation_id}.npz\")\n",
    "\n",
    "# np.savez(\n",
    "#     f\"{jb_save_path}/{relation_id}.npz\", \n",
    "#     weight_and_bias = [{\n",
    "#         'weight': weight.cpu().numpy(),\n",
    "#         'bias'  : bias.cpu().numpy()\n",
    "#     }],\n",
    "#     allow_pickle = True\n",
    "# )"
   ]
  },
  {
   "cell_type": "code",
   "execution_count": 17,
   "metadata": {},
   "outputs": [],
   "source": [
    "# jb = np.load(f\"{jb_save_path}/{relation_id}.npz\", allow_pickle= True)\n",
    "# list(jb.keys())"
   ]
  },
  {
   "cell_type": "code",
   "execution_count": 18,
   "metadata": {},
   "outputs": [],
   "source": [
    "# jb['weight_and_bias'][0]['weight'].shape"
   ]
  },
  {
   "cell_type": "code",
   "execution_count": 19,
   "metadata": {},
   "outputs": [
    {
     "data": {
      "text/plain": [
       "18"
      ]
     },
     "execution_count": 19,
     "metadata": {},
     "output_type": "execute_result"
    }
   ],
   "source": [
    "len(relation_dct.keys())"
   ]
  },
  {
   "cell_type": "code",
   "execution_count": 20,
   "metadata": {},
   "outputs": [
    {
     "name": "stdout",
     "output_type": "stream",
     "text": [
      "zzzzzzzzzzzzzzzzzzzzzzzzzzzzzzzzzzzzzzzzzzzzzzzzzzzz\n",
      "P17 {} is located in the country of\n",
      "zzzzzzzzzzzzzzzzzzzzzzzzzzzzzzzzzzzzzzzzzzzzzzzzzzzz\n",
      "404\n",
      "{} is located in the country of\n"
     ]
    },
    {
     "data": {
      "application/vnd.jupyter.widget-view+json": {
       "model_id": "490cbfc2d34a47bd8b38ca82904d0d7d",
       "version_major": 2,
       "version_minor": 0
      },
      "text/plain": [
       "  0%|          | 0/10 [00:00<?, ?it/s]"
      ]
     },
     "metadata": {},
     "output_type": "display_data"
    },
    {
     "data": {
      "application/vnd.jupyter.widget-view+json": {
       "model_id": "481098b0ec1b423a931cd3f13b7571cf",
       "version_major": 2,
       "version_minor": 0
      },
      "text/plain": [
       "  0%|          | 0/5 [00:00<?, ?it/s]"
      ]
     },
     "metadata": {},
     "output_type": "display_data"
    },
    {
     "name": "stdout",
     "output_type": "stream",
     "text": [
      "subject:  Canada Live\n",
      "Imperia is located in the country of Italy.\n",
      "Eurostat is located in the country of Luxembourg.\n",
      "Sabratha is located in the country of Libya.\n",
      "{} is located in the country of\n",
      "tensor(8.3359, device='cuda:0', dtype=torch.float16) tensor(29.6250, device='cuda:0', dtype=torch.float16)\n",
      "\n",
      "subject:  Sabratha\n",
      "Eurostat is located in the country of Luxembourg.\n",
      "Canada Live is located in the country of Canada.\n",
      "Harnaut is located in the country of India.\n",
      "{} is located in the country of\n",
      "tensor(4.3750, device='cuda:0', dtype=torch.float16) tensor(21.4375, device='cuda:0', dtype=torch.float16)\n",
      "\n",
      "subject:  Harnaut\n",
      "Sabratha is located in the country of Libya.\n",
      "Imperia is located in the country of Italy.\n",
      "Eurostat is located in the country of Luxembourg.\n",
      "{} is located in the country of\n",
      "tensor(11.9219, device='cuda:0', dtype=torch.float16) tensor(16.5781, device='cuda:0', dtype=torch.float16)\n",
      "\n",
      "subject:  Eurostat\n",
      "Harnaut is located in the country of India.\n",
      "Sabratha is located in the country of Libya.\n",
      "Canada Live is located in the country of Canada.\n",
      "{} is located in the country of\n",
      "tensor(5.4844, device='cuda:0', dtype=torch.float16) tensor(12.8359, device='cuda:0', dtype=torch.float16)\n",
      "\n",
      "subject:  Imperia\n",
      "Sabratha is located in the country of Libya.\n",
      "Harnaut is located in the country of India.\n",
      "Eurostat is located in the country of Luxembourg.\n",
      "{} is located in the country of\n",
      "tensor(2.0039, device='cuda:0', dtype=torch.float16) tensor(11.5781, device='cuda:0', dtype=torch.float16)\n",
      "\n"
     ]
    },
    {
     "data": {
      "application/vnd.jupyter.widget-view+json": {
       "model_id": "7d798c60918c4e8581fd56d0c04a746e",
       "version_major": 2,
       "version_minor": 0
      },
      "text/plain": [
       "  0%|          | 0/5 [00:00<?, ?it/s]"
      ]
     },
     "metadata": {},
     "output_type": "display_data"
    },
    {
     "name": "stdout",
     "output_type": "stream",
     "text": [
      "subject:  Umarex\n",
      "Sabratha is located in the country of Libya.\n",
      "Marugame is located in the country of Japan.\n",
      "Eurostat is located in the country of Luxembourg.\n",
      "{} is located in the country of\n",
      "tensor(9.6484, device='cuda:0', dtype=torch.float16) tensor(13.9844, device='cuda:0', dtype=torch.float16)\n",
      "\n",
      "subject:  Eurostat\n",
      "Canada Live is located in the country of Canada.\n",
      "Umarex is located in the country of Germany.\n",
      "Marugame is located in the country of Japan.\n",
      "{} is located in the country of\n",
      "tensor(3.0059, device='cuda:0', dtype=torch.float16) tensor(3.8418, device='cuda:0', dtype=torch.float16)\n",
      "\n",
      "subject:  Canada Live\n",
      "Sabratha is located in the country of Libya.\n",
      "Umarex is located in the country of Germany.\n",
      "Marugame is located in the country of Japan.\n",
      "{} is located in the country of\n",
      "tensor(7.2070, device='cuda:0', dtype=torch.float16) tensor(13.5000, device='cuda:0', dtype=torch.float16)\n",
      "\n",
      "subject:  Sabratha\n",
      "Marugame is located in the country of Japan.\n",
      "Canada Live is located in the country of Canada.\n",
      "Eurostat is located in the country of Luxembourg.\n",
      "{} is located in the country of\n",
      "tensor(5.7188, device='cuda:0', dtype=torch.float16) tensor(67.5625, device='cuda:0', dtype=torch.float16)\n",
      "\n",
      "subject:  Marugame\n",
      "Canada Live is located in the country of Canada.\n",
      "Eurostat is located in the country of Luxembourg.\n",
      "Umarex is located in the country of Germany.\n",
      "{} is located in the country of\n",
      "tensor(17.4844, device='cuda:0', dtype=torch.float16) tensor(17.2969, device='cuda:0', dtype=torch.float16)\n",
      "\n"
     ]
    },
    {
     "data": {
      "application/vnd.jupyter.widget-view+json": {
       "model_id": "179a60ef5dbf4ce785c52f9ff1cb6826",
       "version_major": 2,
       "version_minor": 0
      },
      "text/plain": [
       "  0%|          | 0/5 [00:00<?, ?it/s]"
      ]
     },
     "metadata": {},
     "output_type": "display_data"
    },
    {
     "name": "stdout",
     "output_type": "stream",
     "text": [
      "subject:  Sabratha\n",
      "Umarex is located in the country of Germany.\n",
      "Southern Savonia is located in the country of Finland.\n",
      "Ufa is located in the country of Russia.\n",
      "{} is located in the country of\n",
      "tensor(7.9219, device='cuda:0', dtype=torch.float16) tensor(8.3203, device='cuda:0', dtype=torch.float16)\n",
      "\n",
      "subject:  Ufa\n",
      "Haut Atlas is located in the country of Morocco.\n",
      "Umarex is located in the country of Germany.\n",
      "Southern Savonia is located in the country of Finland.\n",
      "{} is located in the country of\n",
      "tensor(1.0879, device='cuda:0', dtype=torch.float16) tensor(11.0078, device='cuda:0', dtype=torch.float16)\n",
      "\n",
      "subject:  Umarex\n",
      "Sabratha is located in the country of Libya.\n",
      "Ufa is located in the country of Russia.\n",
      "Southern Savonia is located in the country of Finland.\n",
      "{} is located in the country of\n",
      "tensor(6.2539, device='cuda:0', dtype=torch.float16) tensor(12.7422, device='cuda:0', dtype=torch.float16)\n",
      "\n",
      "subject:  Southern Savonia\n",
      "Sabratha is located in the country of Libya.\n",
      "Haut Atlas is located in the country of Morocco.\n",
      "Umarex is located in the country of Germany.\n",
      "{} is located in the country of\n",
      "tensor(4.4414, device='cuda:0', dtype=torch.float16) tensor(12.4688, device='cuda:0', dtype=torch.float16)\n",
      "\n",
      "subject:  Haut Atlas\n",
      "Umarex is located in the country of Germany.\n",
      "Sabratha is located in the country of Libya.\n",
      "Ufa is located in the country of Russia.\n",
      "{} is located in the country of\n",
      "tensor(6.1406, device='cuda:0', dtype=torch.float16) tensor(6.0234, device='cuda:0', dtype=torch.float16)\n",
      "\n"
     ]
    },
    {
     "data": {
      "application/vnd.jupyter.widget-view+json": {
       "model_id": "9d281c4d71a24526a32c9735a2880aed",
       "version_major": 2,
       "version_minor": 0
      },
      "text/plain": [
       "  0%|          | 0/5 [00:00<?, ?it/s]"
      ]
     },
     "metadata": {},
     "output_type": "display_data"
    },
    {
     "name": "stdout",
     "output_type": "stream",
     "text": [
      "subject:  Eurostat\n",
      "Southern Savonia is located in the country of Finland.\n",
      "Imperia is located in the country of Italy.\n",
      "Haut Atlas is located in the country of Morocco.\n",
      "{} is located in the country of\n",
      "tensor(4.6641, device='cuda:0', dtype=torch.float16) tensor(15.8750, device='cuda:0', dtype=torch.float16)\n",
      "\n",
      "subject:  Imperia\n",
      "Southern Savonia is located in the country of Finland.\n",
      "Haut Atlas is located in the country of Morocco.\n",
      "Eurostat is located in the country of Luxembourg.\n",
      "{} is located in the country of\n",
      "tensor(1.8232, device='cuda:0', dtype=torch.float16) tensor(14.9297, device='cuda:0', dtype=torch.float16)\n",
      "\n",
      "subject:  Southern Savonia\n",
      "Ufa is located in the country of Russia.\n",
      "Haut Atlas is located in the country of Morocco.\n",
      "Imperia is located in the country of Italy.\n",
      "{} is located in the country of\n",
      "tensor(6.2188, device='cuda:0', dtype=torch.float16) tensor(7.4375, device='cuda:0', dtype=torch.float16)\n",
      "\n",
      "subject:  Haut Atlas\n",
      "Ufa is located in the country of Russia.\n",
      "Southern Savonia is located in the country of Finland.\n",
      "Imperia is located in the country of Italy.\n",
      "{} is located in the country of\n",
      "tensor(5.4297, device='cuda:0', dtype=torch.float16) tensor(7.2930, device='cuda:0', dtype=torch.float16)\n",
      "\n",
      "subject:  Ufa\n",
      "Eurostat is located in the country of Luxembourg.\n",
      "Southern Savonia is located in the country of Finland.\n",
      "Imperia is located in the country of Italy.\n",
      "{} is located in the country of\n",
      "tensor(2.7520, device='cuda:0', dtype=torch.float16) tensor(21.3125, device='cuda:0', dtype=torch.float16)\n",
      "\n"
     ]
    },
    {
     "data": {
      "application/vnd.jupyter.widget-view+json": {
       "model_id": "eb53ce9901c44e4d8c4ee60562bf7042",
       "version_major": 2,
       "version_minor": 0
      },
      "text/plain": [
       "  0%|          | 0/5 [00:00<?, ?it/s]"
      ]
     },
     "metadata": {},
     "output_type": "display_data"
    },
    {
     "name": "stdout",
     "output_type": "stream",
     "text": [
      "subject:  Southern Savonia\n",
      "Eurostat is located in the country of Luxembourg.\n",
      "Sabratha is located in the country of Libya.\n",
      "Imperia is located in the country of Italy.\n",
      "{} is located in the country of\n",
      "tensor(7.2656, device='cuda:0', dtype=torch.float16) tensor(22.9375, device='cuda:0', dtype=torch.float16)\n",
      "\n",
      "subject:  Eurostat\n",
      "Southern Savonia is located in the country of Finland.\n",
      "Haut Atlas is located in the country of Morocco.\n",
      "Sabratha is located in the country of Libya.\n",
      "{} is located in the country of\n",
      "tensor(5.7734, device='cuda:0', dtype=torch.float16) tensor(16.4062, device='cuda:0', dtype=torch.float16)\n",
      "\n",
      "subject:  Imperia\n",
      "Sabratha is located in the country of Libya.\n",
      "Haut Atlas is located in the country of Morocco.\n",
      "Southern Savonia is located in the country of Finland.\n",
      "{} is located in the country of\n",
      "tensor(1.7373, device='cuda:0', dtype=torch.float16) tensor(11.4922, device='cuda:0', dtype=torch.float16)\n",
      "\n",
      "subject:  Haut Atlas\n",
      "Southern Savonia is located in the country of Finland.\n",
      "Eurostat is located in the country of Luxembourg.\n",
      "Sabratha is located in the country of Libya.\n",
      "{} is located in the country of\n",
      "tensor(6.7422, device='cuda:0', dtype=torch.float16) tensor(16.5156, device='cuda:0', dtype=torch.float16)\n",
      "\n",
      "subject:  Sabratha\n",
      "Southern Savonia is located in the country of Finland.\n",
      "Eurostat is located in the country of Luxembourg.\n",
      "Imperia is located in the country of Italy.\n",
      "{} is located in the country of\n",
      "tensor(8.6797, device='cuda:0', dtype=torch.float16) tensor(17.6562, device='cuda:0', dtype=torch.float16)\n",
      "\n"
     ]
    },
    {
     "data": {
      "application/vnd.jupyter.widget-view+json": {
       "model_id": "efa51f8359b34327938498a11b5fcf2b",
       "version_major": 2,
       "version_minor": 0
      },
      "text/plain": [
       "  0%|          | 0/5 [00:00<?, ?it/s]"
      ]
     },
     "metadata": {},
     "output_type": "display_data"
    },
    {
     "name": "stdout",
     "output_type": "stream",
     "text": [
      "subject:  Canada Live\n",
      "Imperia is located in the country of Italy.\n",
      "Sabratha is located in the country of Libya.\n",
      "Harnaut is located in the country of India.\n",
      "{} is located in the country of\n",
      "tensor(7.9023, device='cuda:0', dtype=torch.float16) tensor(30.0625, device='cuda:0', dtype=torch.float16)\n",
      "\n",
      "subject:  Harnaut\n",
      "Canada Live is located in the country of Canada.\n",
      "Sabratha is located in the country of Libya.\n",
      "Ufa is located in the country of Russia.\n",
      "{} is located in the country of\n",
      "tensor(12.2656, device='cuda:0', dtype=torch.float16) tensor(12.9609, device='cuda:0', dtype=torch.float16)\n",
      "\n",
      "subject:  Ufa\n",
      "Harnaut is located in the country of India.\n",
      "Sabratha is located in the country of Libya.\n",
      "Imperia is located in the country of Italy.\n",
      "{} is located in the country of\n",
      "tensor(2.3789, device='cuda:0', dtype=torch.float16) tensor(11.1406, device='cuda:0', dtype=torch.float16)\n",
      "\n",
      "subject:  Imperia\n",
      "Canada Live is located in the country of Canada.\n",
      "Sabratha is located in the country of Libya.\n",
      "Ufa is located in the country of Russia.\n",
      "{} is located in the country of\n",
      "tensor(2.7207, device='cuda:0', dtype=torch.float16) tensor(2.6699, device='cuda:0', dtype=torch.float16)\n",
      "\n",
      "subject:  Sabratha\n",
      "Ufa is located in the country of Russia.\n",
      "Canada Live is located in the country of Canada.\n",
      "Harnaut is located in the country of India.\n",
      "{} is located in the country of\n",
      "tensor(5.0508, device='cuda:0', dtype=torch.float16) tensor(4.5898, device='cuda:0', dtype=torch.float16)\n",
      "\n"
     ]
    },
    {
     "data": {
      "application/vnd.jupyter.widget-view+json": {
       "model_id": "2bae77b53a9e49b592914c10f8ce65bb",
       "version_major": 2,
       "version_minor": 0
      },
      "text/plain": [
       "  0%|          | 0/5 [00:00<?, ?it/s]"
      ]
     },
     "metadata": {},
     "output_type": "display_data"
    },
    {
     "name": "stdout",
     "output_type": "stream",
     "text": [
      "subject:  Harnaut\n",
      "Umarex is located in the country of Germany.\n",
      "Sabratha is located in the country of Libya.\n",
      "Southern Savonia is located in the country of Finland.\n",
      "{} is located in the country of\n",
      "tensor(8.6953, device='cuda:0', dtype=torch.float16) tensor(8.9609, device='cuda:0', dtype=torch.float16)\n",
      "\n",
      "subject:  Eurostat\n",
      "Umarex is located in the country of Germany.\n",
      "Sabratha is located in the country of Libya.\n",
      "Southern Savonia is located in the country of Finland.\n",
      "{} is located in the country of\n",
      "tensor(4.8789, device='cuda:0', dtype=torch.float16) tensor(5.0430, device='cuda:0', dtype=torch.float16)\n",
      "\n",
      "subject:  Sabratha\n",
      "Southern Savonia is located in the country of Finland.\n",
      "Umarex is located in the country of Germany.\n",
      "Eurostat is located in the country of Luxembourg.\n",
      "{} is located in the country of\n",
      "tensor(6.0703, device='cuda:0', dtype=torch.float16) tensor(16.1406, device='cuda:0', dtype=torch.float16)\n",
      "\n",
      "subject:  Umarex\n",
      "Harnaut is located in the country of India.\n",
      "Southern Savonia is located in the country of Finland.\n",
      "Sabratha is located in the country of Libya.\n",
      "{} is located in the country of\n",
      "tensor(5.7266, device='cuda:0', dtype=torch.float16) tensor(12.2969, device='cuda:0', dtype=torch.float16)\n",
      "\n",
      "subject:  Southern Savonia\n",
      "Umarex is located in the country of Germany.\n",
      "Harnaut is located in the country of India.\n",
      "Sabratha is located in the country of Libya.\n",
      "{} is located in the country of\n",
      "tensor(5.3125, device='cuda:0', dtype=torch.float16) tensor(6.3359, device='cuda:0', dtype=torch.float16)\n",
      "\n"
     ]
    },
    {
     "data": {
      "application/vnd.jupyter.widget-view+json": {
       "model_id": "347178339a374e698bb418a107a1ba05",
       "version_major": 2,
       "version_minor": 0
      },
      "text/plain": [
       "  0%|          | 0/5 [00:00<?, ?it/s]"
      ]
     },
     "metadata": {},
     "output_type": "display_data"
    },
    {
     "name": "stdout",
     "output_type": "stream",
     "text": [
      "subject:  Canada Live\n",
      "Eurostat is located in the country of Luxembourg.\n",
      "Harnaut is located in the country of India.\n",
      "Imperia is located in the country of Italy.\n",
      "{} is located in the country of\n",
      "tensor(6.2969, device='cuda:0', dtype=torch.float16) tensor(21.9062, device='cuda:0', dtype=torch.float16)\n",
      "\n",
      "subject:  Imperia\n",
      "Harnaut is located in the country of India.\n",
      "Canada Live is located in the country of Canada.\n",
      "Sabratha is located in the country of Libya.\n",
      "{} is located in the country of\n",
      "tensor(1.6602, device='cuda:0', dtype=torch.float16) tensor(11.0469, device='cuda:0', dtype=torch.float16)\n",
      "\n",
      "subject:  Sabratha\n",
      "Eurostat is located in the country of Luxembourg.\n",
      "Harnaut is located in the country of India.\n",
      "Imperia is located in the country of Italy.\n",
      "{} is located in the country of\n",
      "tensor(4.9258, device='cuda:0', dtype=torch.float16) tensor(21.5469, device='cuda:0', dtype=torch.float16)\n",
      "\n",
      "subject:  Eurostat\n",
      "Sabratha is located in the country of Libya.\n",
      "Harnaut is located in the country of India.\n",
      "Canada Live is located in the country of Canada.\n",
      "{} is located in the country of\n",
      "tensor(5.9492, device='cuda:0', dtype=torch.float16) tensor(13.3359, device='cuda:0', dtype=torch.float16)\n",
      "\n",
      "subject:  Harnaut\n",
      "Eurostat is located in the country of Luxembourg.\n",
      "Sabratha is located in the country of Libya.\n",
      "Canada Live is located in the country of Canada.\n",
      "{} is located in the country of\n",
      "tensor(10.5938, device='cuda:0', dtype=torch.float16) tensor(23.3438, device='cuda:0', dtype=torch.float16)\n",
      "\n"
     ]
    },
    {
     "data": {
      "application/vnd.jupyter.widget-view+json": {
       "model_id": "4ccb9a8c679f4bd489dfcf1f41343988",
       "version_major": 2,
       "version_minor": 0
      },
      "text/plain": [
       "  0%|          | 0/5 [00:00<?, ?it/s]"
      ]
     },
     "metadata": {},
     "output_type": "display_data"
    },
    {
     "name": "stdout",
     "output_type": "stream",
     "text": [
      "subject:  Eurostat\n",
      "Marugame is located in the country of Japan.\n",
      "Umarex is located in the country of Germany.\n",
      "Canada Live is located in the country of Canada.\n",
      "{} is located in the country of\n",
      "tensor(2.9160, device='cuda:0', dtype=torch.float16) tensor(67.3750, device='cuda:0', dtype=torch.float16)\n",
      "\n",
      "subject:  Umarex\n",
      "Canada Live is located in the country of Canada.\n",
      "Marugame is located in the country of Japan.\n",
      "Eurostat is located in the country of Luxembourg.\n",
      "{} is located in the country of\n",
      "tensor(9.0078, device='cuda:0', dtype=torch.float16) tensor(6.4180, device='cuda:0', dtype=torch.float16)\n",
      "\n",
      "subject:  Imperia\n",
      "Umarex is located in the country of Germany.\n",
      "Eurostat is located in the country of Luxembourg.\n",
      "Marugame is located in the country of Japan.\n",
      "{} is located in the country of\n",
      "tensor(1.8125, device='cuda:0', dtype=torch.float16) tensor(1.7314, device='cuda:0', dtype=torch.float16)\n",
      "\n",
      "subject:  Marugame\n",
      "Umarex is located in the country of Germany.\n",
      "Canada Live is located in the country of Canada.\n",
      "Eurostat is located in the country of Luxembourg.\n",
      "{} is located in the country of\n",
      "tensor(20.5156, device='cuda:0', dtype=torch.float16) tensor(20.6406, device='cuda:0', dtype=torch.float16)\n",
      "\n",
      "subject:  Canada Live\n",
      "Eurostat is located in the country of Luxembourg.\n",
      "Imperia is located in the country of Italy.\n",
      "Marugame is located in the country of Japan.\n",
      "{} is located in the country of\n",
      "tensor(7.2305, device='cuda:0', dtype=torch.float16) tensor(21.6719, device='cuda:0', dtype=torch.float16)\n",
      "\n"
     ]
    },
    {
     "data": {
      "application/vnd.jupyter.widget-view+json": {
       "model_id": "e2c1a6edbe144d95972b7141189dac2c",
       "version_major": 2,
       "version_minor": 0
      },
      "text/plain": [
       "  0%|          | 0/5 [00:00<?, ?it/s]"
      ]
     },
     "metadata": {},
     "output_type": "display_data"
    },
    {
     "name": "stdout",
     "output_type": "stream",
     "text": [
      "subject:  Umarex\n",
      "Southern Savonia is located in the country of Finland.\n",
      "Eurostat is located in the country of Luxembourg.\n",
      "Ufa is located in the country of Russia.\n",
      "{} is located in the country of\n",
      "tensor(7.2812, device='cuda:0', dtype=torch.float16) tensor(16.1875, device='cuda:0', dtype=torch.float16)\n",
      "\n",
      "subject:  Eurostat\n",
      "Umarex is located in the country of Germany.\n",
      "Southern Savonia is located in the country of Finland.\n",
      "Haut Atlas is located in the country of Morocco.\n",
      "{} is located in the country of\n",
      "tensor(3.6328, device='cuda:0', dtype=torch.float16) tensor(3.9766, device='cuda:0', dtype=torch.float16)\n",
      "\n",
      "subject:  Ufa\n",
      "Eurostat is located in the country of Luxembourg.\n",
      "Haut Atlas is located in the country of Morocco.\n",
      "Umarex is located in the country of Germany.\n",
      "{} is located in the country of\n",
      "tensor(0.7065, device='cuda:0', dtype=torch.float16) tensor(21.1250, device='cuda:0', dtype=torch.float16)\n",
      "\n",
      "subject:  Southern Savonia\n",
      "Umarex is located in the country of Germany.\n",
      "Eurostat is located in the country of Luxembourg.\n",
      "Haut Atlas is located in the country of Morocco.\n",
      "{} is located in the country of\n",
      "tensor(5.0742, device='cuda:0', dtype=torch.float16) tensor(6.7539, device='cuda:0', dtype=torch.float16)\n",
      "\n",
      "subject:  Haut Atlas\n",
      "Southern Savonia is located in the country of Finland.\n",
      "Ufa is located in the country of Russia.\n",
      "Eurostat is located in the country of Luxembourg.\n",
      "{} is located in the country of\n",
      "tensor(6.5781, device='cuda:0', dtype=torch.float16) tensor(16.7344, device='cuda:0', dtype=torch.float16)\n",
      "\n",
      "Saving weights and biases >>  gpt-j/jacobians_averaged_collection/after__ln_f/P17.npz\n",
      "----------------------------------------------------\n",
      "zzzzzzzzzzzzzzzzzzzzzzzzzzzzzzzzzzzzzzzzzzzzzzzzzzzz\n",
      "P641 {} plays the sport of\n",
      "zzzzzzzzzzzzzzzzzzzzzzzzzzzzzzzzzzzzzzzzzzzzzzzzzzzz\n",
      "195\n",
      "{} plays the sport of\n"
     ]
    },
    {
     "data": {
      "application/vnd.jupyter.widget-view+json": {
       "model_id": "b359f438c2324e32982d5d79bc658da0",
       "version_major": 2,
       "version_minor": 0
      },
      "text/plain": [
       "  0%|          | 0/10 [00:00<?, ?it/s]"
      ]
     },
     "metadata": {},
     "output_type": "display_data"
    },
    {
     "data": {
      "application/vnd.jupyter.widget-view+json": {
       "model_id": "3961f96d5af045959f7ac5bc6b7e29b3",
       "version_major": 2,
       "version_minor": 0
      },
      "text/plain": [
       "  0%|          | 0/5 [00:00<?, ?it/s]"
      ]
     },
     "metadata": {},
     "output_type": "display_data"
    },
    {
     "name": "stdout",
     "output_type": "stream",
     "text": [
      "subject:  Corey Perry\n",
      "Frank Robinson plays the sport of baseball.\n",
      "Landon Donovan plays the sport of soccer.\n",
      "Tony Dungy plays the sport of football.\n",
      "{} plays the sport of\n",
      "tensor(2.1562, device='cuda:0', dtype=torch.float16) tensor(16.8906, device='cuda:0', dtype=torch.float16)\n",
      "\n",
      "subject:  Tony Dungy\n",
      "Kevin Durant plays the sport of basketball.\n",
      "Landon Donovan plays the sport of soccer.\n",
      "Frank Robinson plays the sport of baseball.\n",
      "{} plays the sport of\n",
      "tensor(6.3945, device='cuda:0', dtype=torch.float16) tensor(16.4844, device='cuda:0', dtype=torch.float16)\n",
      "\n",
      "subject:  Kevin Durant\n",
      "Landon Donovan plays the sport of soccer.\n",
      "Corey Perry plays the sport of hockey.\n",
      "Frank Robinson plays the sport of baseball.\n",
      "{} plays the sport of\n",
      "tensor(1.2637, device='cuda:0', dtype=torch.float16) tensor(5.5469, device='cuda:0', dtype=torch.float16)\n",
      "\n",
      "subject:  Landon Donovan\n",
      "Tony Dungy plays the sport of football.\n",
      "Kevin Durant plays the sport of basketball.\n",
      "Corey Perry plays the sport of hockey.\n",
      "{} plays the sport of\n",
      "tensor(3.4453, device='cuda:0', dtype=torch.float16) tensor(13.1875, device='cuda:0', dtype=torch.float16)\n",
      "\n",
      "subject:  Frank Robinson\n",
      "Kevin Durant plays the sport of basketball.\n",
      "Corey Perry plays the sport of hockey.\n",
      "Landon Donovan plays the sport of soccer.\n",
      "{} plays the sport of\n",
      "tensor(1.5020, device='cuda:0', dtype=torch.float16) tensor(14.3438, device='cuda:0', dtype=torch.float16)\n",
      "\n"
     ]
    },
    {
     "data": {
      "application/vnd.jupyter.widget-view+json": {
       "model_id": "5db55da6370d4b95b2a8a0ae026a43c9",
       "version_major": 2,
       "version_minor": 0
      },
      "text/plain": [
       "  0%|          | 0/5 [00:00<?, ?it/s]"
      ]
     },
     "metadata": {},
     "output_type": "display_data"
    },
    {
     "name": "stdout",
     "output_type": "stream",
     "text": [
      "subject:  Kevin Durant\n",
      "Landon Donovan plays the sport of soccer.\n",
      "Frank Robinson plays the sport of baseball.\n",
      "Corey Perry plays the sport of hockey.\n",
      "{} plays the sport of\n",
      "tensor(1.2500, device='cuda:0', dtype=torch.float16) tensor(5.5312, device='cuda:0', dtype=torch.float16)\n",
      "\n",
      "subject:  Corey Perry\n",
      "Kevin Durant plays the sport of basketball.\n",
      "Tony Dungy plays the sport of football.\n",
      "Landon Donovan plays the sport of soccer.\n",
      "{} plays the sport of\n",
      "tensor(1.9873, device='cuda:0', dtype=torch.float16) tensor(14.8125, device='cuda:0', dtype=torch.float16)\n",
      "\n",
      "subject:  Frank Robinson\n",
      "Corey Perry plays the sport of hockey.\n",
      "Kevin Durant plays the sport of basketball.\n",
      "Landon Donovan plays the sport of soccer.\n",
      "{} plays the sport of\n",
      "tensor(1.4814, device='cuda:0', dtype=torch.float16) tensor(41.8750, device='cuda:0', dtype=torch.float16)\n",
      "\n",
      "subject:  Landon Donovan\n",
      "Kevin Durant plays the sport of basketball.\n",
      "Tony Dungy plays the sport of football.\n",
      "Frank Robinson plays the sport of baseball.\n",
      "{} plays the sport of\n",
      "tensor(2.5352, device='cuda:0', dtype=torch.float16) tensor(14.8359, device='cuda:0', dtype=torch.float16)\n",
      "\n",
      "subject:  Tony Dungy\n",
      "Kevin Durant plays the sport of basketball.\n",
      "Frank Robinson plays the sport of baseball.\n",
      "Corey Perry plays the sport of hockey.\n",
      "{} plays the sport of\n",
      "tensor(5.8086, device='cuda:0', dtype=torch.float16) tensor(16.0938, device='cuda:0', dtype=torch.float16)\n",
      "\n"
     ]
    },
    {
     "data": {
      "application/vnd.jupyter.widget-view+json": {
       "model_id": "fd0658086f0542629b2d22c645de4cf7",
       "version_major": 2,
       "version_minor": 0
      },
      "text/plain": [
       "  0%|          | 0/5 [00:00<?, ?it/s]"
      ]
     },
     "metadata": {},
     "output_type": "display_data"
    },
    {
     "name": "stdout",
     "output_type": "stream",
     "text": [
      "subject:  Tony Dungy\n",
      "Frank Robinson plays the sport of baseball.\n",
      "Corey Perry plays the sport of hockey.\n",
      "Kevin Durant plays the sport of basketball.\n",
      "{} plays the sport of\n",
      "tensor(5.7695, device='cuda:0', dtype=torch.float16) tensor(17.7656, device='cuda:0', dtype=torch.float16)\n",
      "\n",
      "subject:  Frank Robinson\n",
      "Landon Donovan plays the sport of soccer.\n",
      "Kevin Durant plays the sport of basketball.\n",
      "Tony Dungy plays the sport of football.\n",
      "{} plays the sport of\n",
      "tensor(1.2041, device='cuda:0', dtype=torch.float16) tensor(5.5703, device='cuda:0', dtype=torch.float16)\n",
      "\n",
      "subject:  Kevin Durant\n",
      "Landon Donovan plays the sport of soccer.\n",
      "Corey Perry plays the sport of hockey.\n",
      "Frank Robinson plays the sport of baseball.\n",
      "{} plays the sport of\n",
      "tensor(1.2637, device='cuda:0', dtype=torch.float16) tensor(5.5469, device='cuda:0', dtype=torch.float16)\n",
      "\n",
      "subject:  Corey Perry\n",
      "Frank Robinson plays the sport of baseball.\n",
      "Landon Donovan plays the sport of soccer.\n",
      "Tony Dungy plays the sport of football.\n",
      "{} plays the sport of\n",
      "tensor(2.1562, device='cuda:0', dtype=torch.float16) tensor(16.8906, device='cuda:0', dtype=torch.float16)\n",
      "\n",
      "subject:  Landon Donovan\n",
      "Frank Robinson plays the sport of baseball.\n",
      "Tony Dungy plays the sport of football.\n",
      "Kevin Durant plays the sport of basketball.\n",
      "{} plays the sport of\n",
      "tensor(3.4902, device='cuda:0', dtype=torch.float16) tensor(17.2969, device='cuda:0', dtype=torch.float16)\n",
      "\n"
     ]
    },
    {
     "data": {
      "application/vnd.jupyter.widget-view+json": {
       "model_id": "672ccb12cc544e6498ad26f5993b3976",
       "version_major": 2,
       "version_minor": 0
      },
      "text/plain": [
       "  0%|          | 0/5 [00:00<?, ?it/s]"
      ]
     },
     "metadata": {},
     "output_type": "display_data"
    },
    {
     "name": "stdout",
     "output_type": "stream",
     "text": [
      "subject:  Landon Donovan\n",
      "Frank Robinson plays the sport of baseball.\n",
      "Corey Perry plays the sport of hockey.\n",
      "Kevin Durant plays the sport of basketball.\n",
      "{} plays the sport of\n",
      "tensor(3.5078, device='cuda:0', dtype=torch.float16) tensor(17.4375, device='cuda:0', dtype=torch.float16)\n",
      "\n",
      "subject:  Tony Dungy\n",
      "Frank Robinson plays the sport of baseball.\n",
      "Kevin Durant plays the sport of basketball.\n",
      "Corey Perry plays the sport of hockey.\n",
      "{} plays the sport of\n",
      "tensor(5.8672, device='cuda:0', dtype=torch.float16) tensor(17.8594, device='cuda:0', dtype=torch.float16)\n",
      "\n",
      "subject:  Corey Perry\n",
      "Tony Dungy plays the sport of football.\n",
      "Kevin Durant plays the sport of basketball.\n",
      "Frank Robinson plays the sport of baseball.\n",
      "{} plays the sport of\n",
      "tensor(2.0098, device='cuda:0', dtype=torch.float16) tensor(12.5391, device='cuda:0', dtype=torch.float16)\n",
      "\n",
      "subject:  Kevin Durant\n",
      "Frank Robinson plays the sport of baseball.\n",
      "Tony Dungy plays the sport of football.\n",
      "Corey Perry plays the sport of hockey.\n",
      "{} plays the sport of\n",
      "tensor(1.3447, device='cuda:0', dtype=torch.float16) tensor(16.4219, device='cuda:0', dtype=torch.float16)\n",
      "\n",
      "subject:  Frank Robinson\n",
      "Kevin Durant plays the sport of basketball.\n",
      "Tony Dungy plays the sport of football.\n",
      "Corey Perry plays the sport of hockey.\n",
      "{} plays the sport of\n",
      "tensor(1.4805, device='cuda:0', dtype=torch.float16) tensor(14.3281, device='cuda:0', dtype=torch.float16)\n",
      "\n"
     ]
    },
    {
     "data": {
      "application/vnd.jupyter.widget-view+json": {
       "model_id": "31230f1abd3f4fabab9d3d2c1e0cb2b7",
       "version_major": 2,
       "version_minor": 0
      },
      "text/plain": [
       "  0%|          | 0/5 [00:00<?, ?it/s]"
      ]
     },
     "metadata": {},
     "output_type": "display_data"
    },
    {
     "name": "stdout",
     "output_type": "stream",
     "text": [
      "subject:  Landon Donovan\n",
      "Kevin Durant plays the sport of basketball.\n",
      "Frank Robinson plays the sport of baseball.\n",
      "Tony Dungy plays the sport of football.\n",
      "{} plays the sport of\n",
      "tensor(2.6953, device='cuda:0', dtype=torch.float16) tensor(14.9375, device='cuda:0', dtype=torch.float16)\n",
      "\n",
      "subject:  Kevin Durant\n",
      "Corey Perry plays the sport of hockey.\n",
      "Tony Dungy plays the sport of football.\n",
      "Landon Donovan plays the sport of soccer.\n",
      "{} plays the sport of\n",
      "tensor(1.3398, device='cuda:0', dtype=torch.float16) tensor(41.8750, device='cuda:0', dtype=torch.float16)\n",
      "\n",
      "subject:  Tony Dungy\n",
      "Landon Donovan plays the sport of soccer.\n",
      "Corey Perry plays the sport of hockey.\n",
      "Frank Robinson plays the sport of baseball.\n",
      "{} plays the sport of\n",
      "tensor(5.8125, device='cuda:0', dtype=torch.float16) tensor(8.7812, device='cuda:0', dtype=torch.float16)\n",
      "\n",
      "subject:  Corey Perry\n",
      "Tony Dungy plays the sport of football.\n",
      "Kevin Durant plays the sport of basketball.\n",
      "Landon Donovan plays the sport of soccer.\n",
      "{} plays the sport of\n",
      "tensor(2.4883, device='cuda:0', dtype=torch.float16) tensor(12.7969, device='cuda:0', dtype=torch.float16)\n",
      "\n",
      "subject:  Frank Robinson\n",
      "Kevin Durant plays the sport of basketball.\n",
      "Landon Donovan plays the sport of soccer.\n",
      "Tony Dungy plays the sport of football.\n",
      "{} plays the sport of\n",
      "tensor(1.1465, device='cuda:0', dtype=torch.float16) tensor(14.3281, device='cuda:0', dtype=torch.float16)\n",
      "\n"
     ]
    },
    {
     "data": {
      "application/vnd.jupyter.widget-view+json": {
       "model_id": "735b02cc3d744553beb8d839d89f87ae",
       "version_major": 2,
       "version_minor": 0
      },
      "text/plain": [
       "  0%|          | 0/5 [00:00<?, ?it/s]"
      ]
     },
     "metadata": {},
     "output_type": "display_data"
    },
    {
     "name": "stdout",
     "output_type": "stream",
     "text": [
      "subject:  Landon Donovan\n",
      "Corey Perry plays the sport of hockey.\n",
      "Tony Dungy plays the sport of football.\n",
      "Frank Robinson plays the sport of baseball.\n",
      "{} plays the sport of\n",
      "tensor(2.8418, device='cuda:0', dtype=torch.float16) tensor(42.0625, device='cuda:0', dtype=torch.float16)\n",
      "\n",
      "subject:  Frank Robinson\n",
      "Tony Dungy plays the sport of football.\n",
      "Kevin Durant plays the sport of basketball.\n",
      "Corey Perry plays the sport of hockey.\n",
      "{} plays the sport of\n",
      "tensor(1.7520, device='cuda:0', dtype=torch.float16) tensor(11.9219, device='cuda:0', dtype=torch.float16)\n",
      "\n",
      "subject:  Kevin Durant\n",
      "Corey Perry plays the sport of hockey.\n",
      "Tony Dungy plays the sport of football.\n",
      "Landon Donovan plays the sport of soccer.\n",
      "{} plays the sport of\n",
      "tensor(1.3398, device='cuda:0', dtype=torch.float16) tensor(41.8750, device='cuda:0', dtype=torch.float16)\n",
      "\n",
      "subject:  Tony Dungy\n",
      "Kevin Durant plays the sport of basketball.\n",
      "Corey Perry plays the sport of hockey.\n",
      "Frank Robinson plays the sport of baseball.\n",
      "{} plays the sport of\n",
      "tensor(6.6367, device='cuda:0', dtype=torch.float16) tensor(16.5000, device='cuda:0', dtype=torch.float16)\n",
      "\n",
      "subject:  Corey Perry\n",
      "Tony Dungy plays the sport of football.\n",
      "Frank Robinson plays the sport of baseball.\n",
      "Kevin Durant plays the sport of basketball.\n",
      "{} plays the sport of\n",
      "tensor(2.2207, device='cuda:0', dtype=torch.float16) tensor(12.5312, device='cuda:0', dtype=torch.float16)\n",
      "\n"
     ]
    },
    {
     "data": {
      "application/vnd.jupyter.widget-view+json": {
       "model_id": "4bf04c9616d24456957c3c065ad750ba",
       "version_major": 2,
       "version_minor": 0
      },
      "text/plain": [
       "  0%|          | 0/5 [00:00<?, ?it/s]"
      ]
     },
     "metadata": {},
     "output_type": "display_data"
    },
    {
     "name": "stdout",
     "output_type": "stream",
     "text": [
      "subject:  Frank Robinson\n",
      "Corey Perry plays the sport of hockey.\n",
      "Tony Dungy plays the sport of football.\n",
      "Landon Donovan plays the sport of soccer.\n",
      "{} plays the sport of\n",
      "tensor(1.4854, device='cuda:0', dtype=torch.float16) tensor(41.8750, device='cuda:0', dtype=torch.float16)\n",
      "\n",
      "subject:  Landon Donovan\n",
      "Frank Robinson plays the sport of baseball.\n",
      "Tony Dungy plays the sport of football.\n",
      "Corey Perry plays the sport of hockey.\n",
      "{} plays the sport of\n",
      "tensor(3.5020, device='cuda:0', dtype=torch.float16) tensor(17.3906, device='cuda:0', dtype=torch.float16)\n",
      "\n",
      "subject:  Tony Dungy\n",
      "Kevin Durant plays the sport of basketball.\n",
      "Landon Donovan plays the sport of soccer.\n",
      "Frank Robinson plays the sport of baseball.\n",
      "{} plays the sport of\n",
      "tensor(6.3945, device='cuda:0', dtype=torch.float16) tensor(16.4844, device='cuda:0', dtype=torch.float16)\n",
      "\n",
      "subject:  Corey Perry\n",
      "Frank Robinson plays the sport of baseball.\n",
      "Tony Dungy plays the sport of football.\n",
      "Landon Donovan plays the sport of soccer.\n",
      "{} plays the sport of\n",
      "tensor(2.0957, device='cuda:0', dtype=torch.float16) tensor(16.9219, device='cuda:0', dtype=torch.float16)\n",
      "\n",
      "subject:  Kevin Durant\n",
      "Frank Robinson plays the sport of baseball.\n",
      "Landon Donovan plays the sport of soccer.\n",
      "Corey Perry plays the sport of hockey.\n",
      "{} plays the sport of\n",
      "tensor(1.4883, device='cuda:0', dtype=torch.float16) tensor(16.4375, device='cuda:0', dtype=torch.float16)\n",
      "\n"
     ]
    },
    {
     "data": {
      "application/vnd.jupyter.widget-view+json": {
       "model_id": "f20e11fd0619421a9b2373e6fc1db120",
       "version_major": 2,
       "version_minor": 0
      },
      "text/plain": [
       "  0%|          | 0/5 [00:00<?, ?it/s]"
      ]
     },
     "metadata": {},
     "output_type": "display_data"
    },
    {
     "name": "stdout",
     "output_type": "stream",
     "text": [
      "subject:  Tony Dungy\n",
      "Corey Perry plays the sport of hockey.\n",
      "Kevin Durant plays the sport of basketball.\n",
      "Landon Donovan plays the sport of soccer.\n",
      "{} plays the sport of\n",
      "tensor(6.0430, device='cuda:0', dtype=torch.float16) tensor(42.6250, device='cuda:0', dtype=torch.float16)\n",
      "\n",
      "subject:  Corey Perry\n",
      "Kevin Durant plays the sport of basketball.\n",
      "Tony Dungy plays the sport of football.\n",
      "Frank Robinson plays the sport of baseball.\n",
      "{} plays the sport of\n",
      "tensor(1.5664, device='cuda:0', dtype=torch.float16) tensor(14.6016, device='cuda:0', dtype=torch.float16)\n",
      "\n",
      "subject:  Frank Robinson\n",
      "Corey Perry plays the sport of hockey.\n",
      "Landon Donovan plays the sport of soccer.\n",
      "Kevin Durant plays the sport of basketball.\n",
      "{} plays the sport of\n",
      "tensor(1.3770, device='cuda:0', dtype=torch.float16) tensor(41.8438, device='cuda:0', dtype=torch.float16)\n",
      "\n",
      "subject:  Landon Donovan\n",
      "Kevin Durant plays the sport of basketball.\n",
      "Frank Robinson plays the sport of baseball.\n",
      "Corey Perry plays the sport of hockey.\n",
      "{} plays the sport of\n",
      "tensor(2.6934, device='cuda:0', dtype=torch.float16) tensor(15.1484, device='cuda:0', dtype=torch.float16)\n",
      "\n",
      "subject:  Kevin Durant\n",
      "Corey Perry plays the sport of hockey.\n",
      "Landon Donovan plays the sport of soccer.\n",
      "Frank Robinson plays the sport of baseball.\n",
      "{} plays the sport of\n",
      "tensor(1.4346, device='cuda:0', dtype=torch.float16) tensor(41.8438, device='cuda:0', dtype=torch.float16)\n",
      "\n"
     ]
    },
    {
     "data": {
      "application/vnd.jupyter.widget-view+json": {
       "model_id": "e25a8822aed94081b2b2f7d82f2d1bc4",
       "version_major": 2,
       "version_minor": 0
      },
      "text/plain": [
       "  0%|          | 0/5 [00:00<?, ?it/s]"
      ]
     },
     "metadata": {},
     "output_type": "display_data"
    },
    {
     "name": "stdout",
     "output_type": "stream",
     "text": [
      "subject:  Corey Perry\n",
      "Landon Donovan plays the sport of soccer.\n",
      "Tony Dungy plays the sport of football.\n",
      "Frank Robinson plays the sport of baseball.\n",
      "{} plays the sport of\n",
      "tensor(1.6406, device='cuda:0', dtype=torch.float16) tensor(6.2148, device='cuda:0', dtype=torch.float16)\n",
      "\n",
      "subject:  Tony Dungy\n",
      "Kevin Durant plays the sport of basketball.\n",
      "Corey Perry plays the sport of hockey.\n",
      "Frank Robinson plays the sport of baseball.\n",
      "{} plays the sport of\n",
      "tensor(6.6367, device='cuda:0', dtype=torch.float16) tensor(16.5000, device='cuda:0', dtype=torch.float16)\n",
      "\n",
      "subject:  Frank Robinson\n",
      "Corey Perry plays the sport of hockey.\n",
      "Landon Donovan plays the sport of soccer.\n",
      "Kevin Durant plays the sport of basketball.\n",
      "{} plays the sport of\n",
      "tensor(1.3770, device='cuda:0', dtype=torch.float16) tensor(41.8438, device='cuda:0', dtype=torch.float16)\n",
      "\n",
      "subject:  Landon Donovan\n",
      "Tony Dungy plays the sport of football.\n",
      "Corey Perry plays the sport of hockey.\n",
      "Frank Robinson plays the sport of baseball.\n",
      "{} plays the sport of\n",
      "tensor(3.4727, device='cuda:0', dtype=torch.float16) tensor(12.8906, device='cuda:0', dtype=torch.float16)\n",
      "\n",
      "subject:  Kevin Durant\n",
      "Landon Donovan plays the sport of soccer.\n",
      "Corey Perry plays the sport of hockey.\n",
      "Frank Robinson plays the sport of baseball.\n",
      "{} plays the sport of\n",
      "tensor(1.2637, device='cuda:0', dtype=torch.float16) tensor(5.5469, device='cuda:0', dtype=torch.float16)\n",
      "\n"
     ]
    },
    {
     "data": {
      "application/vnd.jupyter.widget-view+json": {
       "model_id": "8c0c61204a5d4b41bc8c7e4e1e24b433",
       "version_major": 2,
       "version_minor": 0
      },
      "text/plain": [
       "  0%|          | 0/5 [00:00<?, ?it/s]"
      ]
     },
     "metadata": {},
     "output_type": "display_data"
    },
    {
     "name": "stdout",
     "output_type": "stream",
     "text": [
      "subject:  Corey Perry\n",
      "Landon Donovan plays the sport of soccer.\n",
      "Kevin Durant plays the sport of basketball.\n",
      "Frank Robinson plays the sport of baseball.\n",
      "{} plays the sport of\n",
      "tensor(1.7910, device='cuda:0', dtype=torch.float16) tensor(6.6094, device='cuda:0', dtype=torch.float16)\n",
      "\n",
      "subject:  Kevin Durant\n",
      "Tony Dungy plays the sport of football.\n",
      "Corey Perry plays the sport of hockey.\n",
      "Landon Donovan plays the sport of soccer.\n",
      "{} plays the sport of\n",
      "tensor(1.5352, device='cuda:0', dtype=torch.float16) tensor(11.9219, device='cuda:0', dtype=torch.float16)\n",
      "\n",
      "subject:  Landon Donovan\n",
      "Corey Perry plays the sport of hockey.\n",
      "Tony Dungy plays the sport of football.\n",
      "Frank Robinson plays the sport of baseball.\n",
      "{} plays the sport of\n",
      "tensor(2.8418, device='cuda:0', dtype=torch.float16) tensor(42.0625, device='cuda:0', dtype=torch.float16)\n",
      "\n",
      "subject:  Frank Robinson\n",
      "Landon Donovan plays the sport of soccer.\n",
      "Kevin Durant plays the sport of basketball.\n",
      "Corey Perry plays the sport of hockey.\n",
      "{} plays the sport of\n",
      "tensor(1.4717, device='cuda:0', dtype=torch.float16) tensor(5.5391, device='cuda:0', dtype=torch.float16)\n",
      "\n",
      "subject:  Tony Dungy\n",
      "Landon Donovan plays the sport of soccer.\n",
      "Kevin Durant plays the sport of basketball.\n",
      "Corey Perry plays the sport of hockey.\n",
      "{} plays the sport of\n",
      "tensor(5.2305, device='cuda:0', dtype=torch.float16) tensor(8.6562, device='cuda:0', dtype=torch.float16)\n",
      "\n",
      "Saving weights and biases >>  gpt-j/jacobians_averaged_collection/after__ln_f/P641.npz\n",
      "----------------------------------------------------\n",
      "zzzzzzzzzzzzzzzzzzzzzzzzzzzzzzzzzzzzzzzzzzzzzzzzzzzz\n",
      "P103 The mother tongue of {} is\n",
      "zzzzzzzzzzzzzzzzzzzzzzzzzzzzzzzzzzzzzzzzzzzzzzzzzzzz\n",
      "317\n",
      "The mother tongue of {} is\n"
     ]
    },
    {
     "data": {
      "application/vnd.jupyter.widget-view+json": {
       "model_id": "670dcc5a908a43d29ed19c78c227a72b",
       "version_major": 2,
       "version_minor": 0
      },
      "text/plain": [
       "  0%|          | 0/10 [00:00<?, ?it/s]"
      ]
     },
     "metadata": {},
     "output_type": "display_data"
    },
    {
     "data": {
      "application/vnd.jupyter.widget-view+json": {
       "model_id": "f7e2a72b553e4e0fbbe91ad115b113d5",
       "version_major": 2,
       "version_minor": 0
      },
      "text/plain": [
       "  0%|          | 0/5 [00:00<?, ?it/s]"
      ]
     },
     "metadata": {},
     "output_type": "display_data"
    },
    {
     "name": "stdout",
     "output_type": "stream",
     "text": [
      "subject:  Shakira\n",
      "The mother tongue of Jan Commelin is Dutch.\n",
      "The mother tongue of Michael Albert is English.\n",
      "The mother tongue of Marie Curie is Polish.\n",
      "The mother tongue of {} is\n",
      "tensor(18.1250, device='cuda:0', dtype=torch.float16) tensor(11.2266, device='cuda:0', dtype=torch.float16)\n",
      "\n",
      "subject:  Marie Curie\n",
      "The mother tongue of Michael Albert is English.\n",
      "The mother tongue of Jan Commelin is Dutch.\n",
      "The mother tongue of Shakira is Spanish.\n",
      "The mother tongue of {} is\n",
      "tensor(16.3125, device='cuda:0', dtype=torch.float16) tensor(12.8516, device='cuda:0', dtype=torch.float16)\n",
      "\n",
      "subject:  Jan Commelin\n",
      "The mother tongue of Swedes is Swedish.\n",
      "The mother tongue of Marie Curie is Polish.\n",
      "The mother tongue of Michael Albert is English.\n",
      "The mother tongue of {} is\n",
      "tensor(7.8086, device='cuda:0', dtype=torch.float16) tensor(4.6836, device='cuda:0', dtype=torch.float16)\n",
      "\n",
      "subject:  Swedes\n",
      "The mother tongue of Michael Albert is English.\n",
      "The mother tongue of Shakira is Spanish.\n",
      "The mother tongue of Jan Commelin is Dutch.\n",
      "The mother tongue of {} is\n",
      "tensor(8.3438, device='cuda:0', dtype=torch.float16) tensor(6.2695, device='cuda:0', dtype=torch.float16)\n",
      "\n",
      "subject:  Michael Albert\n",
      "The mother tongue of Marie Curie is Polish.\n",
      "The mother tongue of Jan Commelin is Dutch.\n",
      "The mother tongue of Shakira is Spanish.\n",
      "The mother tongue of {} is\n",
      "tensor(13.0859, device='cuda:0', dtype=torch.float16) tensor(10., device='cuda:0', dtype=torch.float16)\n",
      "\n"
     ]
    },
    {
     "data": {
      "application/vnd.jupyter.widget-view+json": {
       "model_id": "e95c6ad883ba454d81f8e42a601f7206",
       "version_major": 2,
       "version_minor": 0
      },
      "text/plain": [
       "  0%|          | 0/5 [00:00<?, ?it/s]"
      ]
     },
     "metadata": {},
     "output_type": "display_data"
    },
    {
     "name": "stdout",
     "output_type": "stream",
     "text": [
      "subject:  Marie Glory\n",
      "The mother tongue of Marie Curie is Polish.\n",
      "The mother tongue of Michael Albert is English.\n",
      "The mother tongue of Shakira is Spanish.\n",
      "The mother tongue of {} is\n",
      "tensor(6.5000, device='cuda:0', dtype=torch.float16) tensor(5.8945, device='cuda:0', dtype=torch.float16)\n",
      "\n",
      "subject:  Michael Albert\n",
      "The mother tongue of Shakira is Spanish.\n",
      "The mother tongue of Marie Glory is French.\n",
      "The mother tongue of Marie Curie is Polish.\n",
      "The mother tongue of {} is\n",
      "tensor(12.2266, device='cuda:0', dtype=torch.float16) tensor(8.9375, device='cuda:0', dtype=torch.float16)\n",
      "\n",
      "subject:  Ovid\n",
      "The mother tongue of Shakira is Spanish.\n",
      "The mother tongue of Michael Albert is English.\n",
      "The mother tongue of Marie Glory is French.\n",
      "The mother tongue of {} is\n",
      "tensor(18.7812, device='cuda:0', dtype=torch.float16) tensor(13.6953, device='cuda:0', dtype=torch.float16)\n",
      "\n",
      "subject:  Shakira\n",
      "The mother tongue of Ovid is Latin.\n",
      "The mother tongue of Marie Curie is Polish.\n",
      "The mother tongue of Marie Glory is French.\n",
      "The mother tongue of {} is\n",
      "tensor(16.7812, device='cuda:0', dtype=torch.float16) tensor(8.6719, device='cuda:0', dtype=torch.float16)\n",
      "\n",
      "subject:  Marie Curie\n",
      "The mother tongue of Ovid is Latin.\n",
      "The mother tongue of Michael Albert is English.\n",
      "The mother tongue of Marie Glory is French.\n",
      "The mother tongue of {} is\n",
      "tensor(17.3750, device='cuda:0', dtype=torch.float16) tensor(11.1875, device='cuda:0', dtype=torch.float16)\n",
      "\n"
     ]
    },
    {
     "data": {
      "application/vnd.jupyter.widget-view+json": {
       "model_id": "a8c2fe0c4b1c4534a265baf335b805be",
       "version_major": 2,
       "version_minor": 0
      },
      "text/plain": [
       "  0%|          | 0/5 [00:00<?, ?it/s]"
      ]
     },
     "metadata": {},
     "output_type": "display_data"
    },
    {
     "name": "stdout",
     "output_type": "stream",
     "text": [
      "subject:  Marie Glory\n",
      "The mother tongue of Marie Curie is Polish.\n",
      "The mother tongue of Ovid is Latin.\n",
      "The mother tongue of Swedes is Swedish.\n",
      "The mother tongue of {} is\n",
      "tensor(7.6445, device='cuda:0', dtype=torch.float16) tensor(8.4844, device='cuda:0', dtype=torch.float16)\n",
      "\n",
      "subject:  Marie Curie\n",
      "The mother tongue of Marc Chagall is Russian.\n",
      "The mother tongue of Ovid is Latin.\n",
      "The mother tongue of Swedes is Swedish.\n",
      "The mother tongue of {} is\n",
      "tensor(16.2500, device='cuda:0', dtype=torch.float16) tensor(13.2812, device='cuda:0', dtype=torch.float16)\n",
      "\n",
      "subject:  Swedes\n",
      "The mother tongue of Marie Glory is French.\n",
      "The mother tongue of Ovid is Latin.\n",
      "The mother tongue of Marie Curie is Polish.\n",
      "The mother tongue of {} is\n",
      "tensor(9.5234, device='cuda:0', dtype=torch.float16) tensor(6.9414, device='cuda:0', dtype=torch.float16)\n",
      "\n",
      "subject:  Ovid\n",
      "The mother tongue of Marie Curie is Polish.\n",
      "The mother tongue of Marie Glory is French.\n",
      "The mother tongue of Swedes is Swedish.\n",
      "The mother tongue of {} is\n",
      "tensor(16.5781, device='cuda:0', dtype=torch.float16) tensor(12.0859, device='cuda:0', dtype=torch.float16)\n",
      "\n",
      "subject:  Marc Chagall\n",
      "The mother tongue of Marie Glory is French.\n",
      "The mother tongue of Swedes is Swedish.\n",
      "The mother tongue of Ovid is Latin.\n",
      "The mother tongue of {} is\n",
      "tensor(14.2266, device='cuda:0', dtype=torch.float16) tensor(8., device='cuda:0', dtype=torch.float16)\n",
      "\n"
     ]
    },
    {
     "data": {
      "application/vnd.jupyter.widget-view+json": {
       "model_id": "00f40f8262254ec4893c19f721424201",
       "version_major": 2,
       "version_minor": 0
      },
      "text/plain": [
       "  0%|          | 0/5 [00:00<?, ?it/s]"
      ]
     },
     "metadata": {},
     "output_type": "display_data"
    },
    {
     "name": "stdout",
     "output_type": "stream",
     "text": [
      "subject:  Marc Chagall\n",
      "The mother tongue of Jan Commelin is Dutch.\n",
      "The mother tongue of Swedes is Swedish.\n",
      "The mother tongue of Michael Albert is English.\n",
      "The mother tongue of {} is\n",
      "tensor(13.9375, device='cuda:0', dtype=torch.float16) tensor(7.8633, device='cuda:0', dtype=torch.float16)\n",
      "\n",
      "subject:  Jan Commelin\n",
      "The mother tongue of Marie Curie is Polish.\n",
      "The mother tongue of Swedes is Swedish.\n",
      "The mother tongue of Michael Albert is English.\n",
      "The mother tongue of {} is\n",
      "tensor(7.9336, device='cuda:0', dtype=torch.float16) tensor(4.5039, device='cuda:0', dtype=torch.float16)\n",
      "\n",
      "subject:  Swedes\n",
      "The mother tongue of Michael Albert is English.\n",
      "The mother tongue of Jan Commelin is Dutch.\n",
      "The mother tongue of Marie Curie is Polish.\n",
      "The mother tongue of {} is\n",
      "tensor(9.3047, device='cuda:0', dtype=torch.float16) tensor(7.1836, device='cuda:0', dtype=torch.float16)\n",
      "\n",
      "subject:  Marie Curie\n",
      "The mother tongue of Marc Chagall is Russian.\n",
      "The mother tongue of Jan Commelin is Dutch.\n",
      "The mother tongue of Swedes is Swedish.\n",
      "The mother tongue of {} is\n",
      "tensor(15.5547, device='cuda:0', dtype=torch.float16) tensor(13.7656, device='cuda:0', dtype=torch.float16)\n",
      "\n",
      "subject:  Michael Albert\n",
      "The mother tongue of Marc Chagall is Russian.\n",
      "The mother tongue of Jan Commelin is Dutch.\n",
      "The mother tongue of Marie Curie is Polish.\n",
      "The mother tongue of {} is\n",
      "tensor(12.4922, device='cuda:0', dtype=torch.float16) tensor(9.3047, device='cuda:0', dtype=torch.float16)\n",
      "\n"
     ]
    },
    {
     "data": {
      "application/vnd.jupyter.widget-view+json": {
       "model_id": "7040bc3494c24afea0c460031fa71611",
       "version_major": 2,
       "version_minor": 0
      },
      "text/plain": [
       "  0%|          | 0/5 [00:00<?, ?it/s]"
      ]
     },
     "metadata": {},
     "output_type": "display_data"
    },
    {
     "name": "stdout",
     "output_type": "stream",
     "text": [
      "subject:  Marie Curie\n",
      "The mother tongue of Ovid is Latin.\n",
      "The mother tongue of Marie Glory is French.\n",
      "The mother tongue of Jan Commelin is Dutch.\n",
      "The mother tongue of {} is\n",
      "tensor(17.7969, device='cuda:0', dtype=torch.float16) tensor(12.3125, device='cuda:0', dtype=torch.float16)\n",
      "\n",
      "subject:  Shakira\n",
      "The mother tongue of Marie Glory is French.\n",
      "The mother tongue of Marie Curie is Polish.\n",
      "The mother tongue of Ovid is Latin.\n",
      "The mother tongue of {} is\n",
      "tensor(16.9375, device='cuda:0', dtype=torch.float16) tensor(8.6875, device='cuda:0', dtype=torch.float16)\n",
      "\n",
      "subject:  Ovid\n",
      "The mother tongue of Marie Glory is French.\n",
      "The mother tongue of Shakira is Spanish.\n",
      "The mother tongue of Marie Curie is Polish.\n",
      "The mother tongue of {} is\n",
      "tensor(20.1250, device='cuda:0', dtype=torch.float16) tensor(14.3359, device='cuda:0', dtype=torch.float16)\n",
      "\n",
      "subject:  Marie Glory\n",
      "The mother tongue of Ovid is Latin.\n",
      "The mother tongue of Shakira is Spanish.\n",
      "The mother tongue of Jan Commelin is Dutch.\n",
      "The mother tongue of {} is\n",
      "tensor(6.6875, device='cuda:0', dtype=torch.float16) tensor(6.7852, device='cuda:0', dtype=torch.float16)\n",
      "\n",
      "subject:  Jan Commelin\n",
      "The mother tongue of Marie Curie is Polish.\n",
      "The mother tongue of Shakira is Spanish.\n",
      "The mother tongue of Marie Glory is French.\n",
      "The mother tongue of {} is\n",
      "tensor(7.9102, device='cuda:0', dtype=torch.float16) tensor(4.6719, device='cuda:0', dtype=torch.float16)\n",
      "\n"
     ]
    },
    {
     "data": {
      "application/vnd.jupyter.widget-view+json": {
       "model_id": "7ef4d808979a413793d50e2219c70b48",
       "version_major": 2,
       "version_minor": 0
      },
      "text/plain": [
       "  0%|          | 0/5 [00:00<?, ?it/s]"
      ]
     },
     "metadata": {},
     "output_type": "display_data"
    },
    {
     "name": "stdout",
     "output_type": "stream",
     "text": [
      "subject:  Shakira\n",
      "The mother tongue of Ovid is Latin.\n",
      "The mother tongue of Jan Commelin is Dutch.\n",
      "The mother tongue of Marie Curie is Polish.\n",
      "The mother tongue of {} is\n",
      "tensor(18.0938, device='cuda:0', dtype=torch.float16) tensor(9.8281, device='cuda:0', dtype=torch.float16)\n",
      "\n",
      "subject:  Jan Commelin\n",
      "The mother tongue of Shakira is Spanish.\n",
      "The mother tongue of Marie Curie is Polish.\n",
      "The mother tongue of Ovid is Latin.\n",
      "The mother tongue of {} is\n",
      "tensor(8.7656, device='cuda:0', dtype=torch.float16) tensor(5.0156, device='cuda:0', dtype=torch.float16)\n",
      "\n",
      "subject:  Marie Curie\n",
      "The mother tongue of Ovid is Latin.\n",
      "The mother tongue of Marc Chagall is Russian.\n",
      "The mother tongue of Jan Commelin is Dutch.\n",
      "The mother tongue of {} is\n",
      "tensor(17.8125, device='cuda:0', dtype=torch.float16) tensor(13.0547, device='cuda:0', dtype=torch.float16)\n",
      "\n",
      "subject:  Ovid\n",
      "The mother tongue of Jan Commelin is Dutch.\n",
      "The mother tongue of Shakira is Spanish.\n",
      "The mother tongue of Marie Curie is Polish.\n",
      "The mother tongue of {} is\n",
      "tensor(21.9531, device='cuda:0', dtype=torch.float16) tensor(15.3594, device='cuda:0', dtype=torch.float16)\n",
      "\n",
      "subject:  Marc Chagall\n",
      "The mother tongue of Marie Curie is Polish.\n",
      "The mother tongue of Jan Commelin is Dutch.\n",
      "The mother tongue of Ovid is Latin.\n",
      "The mother tongue of {} is\n",
      "tensor(16.3125, device='cuda:0', dtype=torch.float16) tensor(8.7266, device='cuda:0', dtype=torch.float16)\n",
      "\n"
     ]
    },
    {
     "data": {
      "application/vnd.jupyter.widget-view+json": {
       "model_id": "f4d1cdff3b7a437e8e98d1afad588f4b",
       "version_major": 2,
       "version_minor": 0
      },
      "text/plain": [
       "  0%|          | 0/5 [00:00<?, ?it/s]"
      ]
     },
     "metadata": {},
     "output_type": "display_data"
    },
    {
     "name": "stdout",
     "output_type": "stream",
     "text": [
      "subject:  Shakira\n",
      "The mother tongue of Marc Chagall is Russian.\n",
      "The mother tongue of Marie Curie is Polish.\n",
      "The mother tongue of Swedes is Swedish.\n",
      "The mother tongue of {} is\n",
      "tensor(16.2344, device='cuda:0', dtype=torch.float16) tensor(8.6172, device='cuda:0', dtype=torch.float16)\n",
      "\n",
      "subject:  Swedes\n",
      "The mother tongue of Shakira is Spanish.\n",
      "The mother tongue of Marie Curie is Polish.\n",
      "The mother tongue of Marc Chagall is Russian.\n",
      "The mother tongue of {} is\n",
      "tensor(10.0078, device='cuda:0', dtype=torch.float16) tensor(7.2461, device='cuda:0', dtype=torch.float16)\n",
      "\n",
      "subject:  Marie Glory\n",
      "The mother tongue of Marc Chagall is Russian.\n",
      "The mother tongue of Marie Curie is Polish.\n",
      "The mother tongue of Shakira is Spanish.\n",
      "The mother tongue of {} is\n",
      "tensor(5.9727, device='cuda:0', dtype=torch.float16) tensor(5.4688, device='cuda:0', dtype=torch.float16)\n",
      "\n",
      "subject:  Marc Chagall\n",
      "The mother tongue of Marie Glory is French.\n",
      "The mother tongue of Shakira is Spanish.\n",
      "The mother tongue of Marie Curie is Polish.\n",
      "The mother tongue of {} is\n",
      "tensor(15.2891, device='cuda:0', dtype=torch.float16) tensor(9.2344, device='cuda:0', dtype=torch.float16)\n",
      "\n",
      "subject:  Marie Curie\n",
      "The mother tongue of Marie Glory is French.\n",
      "The mother tongue of Marc Chagall is Russian.\n",
      "The mother tongue of Shakira is Spanish.\n",
      "The mother tongue of {} is\n",
      "tensor(17., device='cuda:0', dtype=torch.float16) tensor(13.4219, device='cuda:0', dtype=torch.float16)\n",
      "\n"
     ]
    },
    {
     "data": {
      "application/vnd.jupyter.widget-view+json": {
       "model_id": "2566552c7ccf4b5b9ee651a6a7a96c9d",
       "version_major": 2,
       "version_minor": 0
      },
      "text/plain": [
       "  0%|          | 0/5 [00:00<?, ?it/s]"
      ]
     },
     "metadata": {},
     "output_type": "display_data"
    },
    {
     "name": "stdout",
     "output_type": "stream",
     "text": [
      "subject:  Marc Chagall\n",
      "The mother tongue of Shakira is Spanish.\n",
      "The mother tongue of Swedes is Swedish.\n",
      "The mother tongue of Jan Commelin is Dutch.\n",
      "The mother tongue of {} is\n",
      "tensor(15.0156, device='cuda:0', dtype=torch.float16) tensor(9.1094, device='cuda:0', dtype=torch.float16)\n",
      "\n",
      "subject:  Swedes\n",
      "The mother tongue of Michael Albert is English.\n",
      "The mother tongue of Jan Commelin is Dutch.\n",
      "The mother tongue of Shakira is Spanish.\n",
      "The mother tongue of {} is\n",
      "tensor(8.7500, device='cuda:0', dtype=torch.float16) tensor(6.0781, device='cuda:0', dtype=torch.float16)\n",
      "\n",
      "subject:  Jan Commelin\n",
      "The mother tongue of Michael Albert is English.\n",
      "The mother tongue of Marc Chagall is Russian.\n",
      "The mother tongue of Swedes is Swedish.\n",
      "The mother tongue of {} is\n",
      "tensor(7.9219, device='cuda:0', dtype=torch.float16) tensor(5.1367, device='cuda:0', dtype=torch.float16)\n",
      "\n",
      "subject:  Michael Albert\n",
      "The mother tongue of Marc Chagall is Russian.\n",
      "The mother tongue of Shakira is Spanish.\n",
      "The mother tongue of Swedes is Swedish.\n",
      "The mother tongue of {} is\n",
      "tensor(13.5312, device='cuda:0', dtype=torch.float16) tensor(11.1250, device='cuda:0', dtype=torch.float16)\n",
      "\n",
      "subject:  Shakira\n",
      "The mother tongue of Swedes is Swedish.\n",
      "The mother tongue of Jan Commelin is Dutch.\n",
      "The mother tongue of Michael Albert is English.\n",
      "The mother tongue of {} is\n",
      "tensor(15.4141, device='cuda:0', dtype=torch.float16) tensor(9.9062, device='cuda:0', dtype=torch.float16)\n",
      "\n"
     ]
    },
    {
     "data": {
      "application/vnd.jupyter.widget-view+json": {
       "model_id": "f559d3457a244ce28f3edab09eafd4c5",
       "version_major": 2,
       "version_minor": 0
      },
      "text/plain": [
       "  0%|          | 0/5 [00:00<?, ?it/s]"
      ]
     },
     "metadata": {},
     "output_type": "display_data"
    },
    {
     "name": "stdout",
     "output_type": "stream",
     "text": [
      "subject:  Shakira\n",
      "The mother tongue of Michael Albert is English.\n",
      "The mother tongue of Marie Curie is Polish.\n",
      "The mother tongue of Jan Commelin is Dutch.\n",
      "The mother tongue of {} is\n",
      "tensor(18.0781, device='cuda:0', dtype=torch.float16) tensor(10.5547, device='cuda:0', dtype=torch.float16)\n",
      "\n",
      "subject:  Marie Curie\n",
      "The mother tongue of Shakira is Spanish.\n",
      "The mother tongue of Marie Glory is French.\n",
      "The mother tongue of Michael Albert is English.\n",
      "The mother tongue of {} is\n",
      "tensor(17.4062, device='cuda:0', dtype=torch.float16) tensor(12.5703, device='cuda:0', dtype=torch.float16)\n",
      "\n",
      "subject:  Marie Glory\n",
      "The mother tongue of Jan Commelin is Dutch.\n",
      "The mother tongue of Michael Albert is English.\n",
      "The mother tongue of Marie Curie is Polish.\n",
      "The mother tongue of {} is\n",
      "tensor(5.9453, device='cuda:0', dtype=torch.float16) tensor(5.6055, device='cuda:0', dtype=torch.float16)\n",
      "\n",
      "subject:  Jan Commelin\n",
      "The mother tongue of Marie Curie is Polish.\n",
      "The mother tongue of Shakira is Spanish.\n",
      "The mother tongue of Michael Albert is English.\n",
      "The mother tongue of {} is\n",
      "tensor(8.1094, device='cuda:0', dtype=torch.float16) tensor(4.8281, device='cuda:0', dtype=torch.float16)\n",
      "\n",
      "subject:  Michael Albert\n",
      "The mother tongue of Jan Commelin is Dutch.\n",
      "The mother tongue of Shakira is Spanish.\n",
      "The mother tongue of Marie Curie is Polish.\n",
      "The mother tongue of {} is\n",
      "tensor(13.5000, device='cuda:0', dtype=torch.float16) tensor(10.5234, device='cuda:0', dtype=torch.float16)\n",
      "\n"
     ]
    },
    {
     "data": {
      "application/vnd.jupyter.widget-view+json": {
       "model_id": "a984c1d8664a445092e40e19d6ffeba9",
       "version_major": 2,
       "version_minor": 0
      },
      "text/plain": [
       "  0%|          | 0/5 [00:00<?, ?it/s]"
      ]
     },
     "metadata": {},
     "output_type": "display_data"
    },
    {
     "name": "stdout",
     "output_type": "stream",
     "text": [
      "subject:  Shakira\n",
      "The mother tongue of Marc Chagall is Russian.\n",
      "The mother tongue of Marie Glory is French.\n",
      "The mother tongue of Marie Curie is Polish.\n",
      "The mother tongue of {} is\n",
      "tensor(16.1875, device='cuda:0', dtype=torch.float16) tensor(8.8047, device='cuda:0', dtype=torch.float16)\n",
      "\n",
      "subject:  Marie Glory\n",
      "The mother tongue of Swedes is Swedish.\n",
      "The mother tongue of Marie Curie is Polish.\n",
      "The mother tongue of Shakira is Spanish.\n",
      "The mother tongue of {} is\n",
      "tensor(6.6445, device='cuda:0', dtype=torch.float16) tensor(7.3320, device='cuda:0', dtype=torch.float16)\n",
      "\n",
      "subject:  Marc Chagall\n",
      "The mother tongue of Swedes is Swedish.\n",
      "The mother tongue of Marie Curie is Polish.\n",
      "The mother tongue of Shakira is Spanish.\n",
      "The mother tongue of {} is\n",
      "tensor(15.8750, device='cuda:0', dtype=torch.float16) tensor(10.0391, device='cuda:0', dtype=torch.float16)\n",
      "\n",
      "subject:  Swedes\n",
      "The mother tongue of Shakira is Spanish.\n",
      "The mother tongue of Marie Glory is French.\n",
      "The mother tongue of Marie Curie is Polish.\n",
      "The mother tongue of {} is\n",
      "tensor(9.8281, device='cuda:0', dtype=torch.float16) tensor(7.0547, device='cuda:0', dtype=torch.float16)\n",
      "\n",
      "subject:  Marie Curie\n",
      "The mother tongue of Marie Glory is French.\n",
      "The mother tongue of Shakira is Spanish.\n",
      "The mother tongue of Marc Chagall is Russian.\n",
      "The mother tongue of {} is\n",
      "tensor(17.4844, device='cuda:0', dtype=torch.float16) tensor(14.0625, device='cuda:0', dtype=torch.float16)\n",
      "\n",
      "Saving weights and biases >>  gpt-j/jacobians_averaged_collection/after__ln_f/P103.npz\n",
      "----------------------------------------------------\n",
      "zzzzzzzzzzzzzzzzzzzzzzzzzzzzzzzzzzzzzzzzzzzzzzzzzzzz\n",
      "P176 {} is produced by\n",
      "zzzzzzzzzzzzzzzzzzzzzzzzzzzzzzzzzzzzzzzzzzzzzzzzzzzz\n",
      "543\n",
      "{} is produced by\n"
     ]
    },
    {
     "data": {
      "application/vnd.jupyter.widget-view+json": {
       "model_id": "034c4785d9544db3b74b3db13786c5ef",
       "version_major": 2,
       "version_minor": 0
      },
      "text/plain": [
       "  0%|          | 0/10 [00:00<?, ?it/s]"
      ]
     },
     "metadata": {},
     "output_type": "display_data"
    },
    {
     "data": {
      "application/vnd.jupyter.widget-view+json": {
       "model_id": "b8877b5bd06f4e41a3bf968c46391e39",
       "version_major": 2,
       "version_minor": 0
      },
      "text/plain": [
       "  0%|          | 0/5 [00:00<?, ?it/s]"
      ]
     },
     "metadata": {},
     "output_type": "display_data"
    },
    {
     "name": "stdout",
     "output_type": "stream",
     "text": [
      "subject:  Google Authenticator\n",
      "Samsung NX series is produced by Samsung.\n",
      "Game & Watch is produced by Nintendo.\n",
      "BMW 700 is produced by BMW.\n",
      "{} is produced by\n",
      "tensor(11.6641, device='cuda:0', dtype=torch.float16) tensor(24.5469, device='cuda:0', dtype=torch.float16)\n",
      "\n",
      "subject:  Honda Valkyrie\n",
      "BMW 700 is produced by BMW.\n",
      "Game & Watch is produced by Nintendo.\n",
      "Samsung NX series is produced by Samsung.\n",
      "{} is produced by\n",
      "tensor(0.4468, device='cuda:0', dtype=torch.float16) tensor(89.9375, device='cuda:0', dtype=torch.float16)\n",
      "\n",
      "subject:  Samsung NX series\n",
      "Google Authenticator is produced by Google.\n",
      "Honda Valkyrie is produced by Honda.\n",
      "BMW 700 is produced by BMW.\n",
      "{} is produced by\n",
      "tensor(10.7188, device='cuda:0', dtype=torch.float16) tensor(10.2500, device='cuda:0', dtype=torch.float16)\n",
      "\n",
      "subject:  Game & Watch\n",
      "Samsung NX series is produced by Samsung.\n",
      "Google Authenticator is produced by Google.\n",
      "BMW 700 is produced by BMW.\n",
      "{} is produced by\n",
      "tensor(5.1406, device='cuda:0', dtype=torch.float16) tensor(21.9062, device='cuda:0', dtype=torch.float16)\n",
      "\n",
      "subject:  BMW 700\n",
      "Samsung NX series is produced by Samsung.\n",
      "Game & Watch is produced by Nintendo.\n",
      "Honda Valkyrie is produced by Honda.\n",
      "{} is produced by\n",
      "tensor(0.7744, device='cuda:0', dtype=torch.float16) tensor(20.0938, device='cuda:0', dtype=torch.float16)\n",
      "\n"
     ]
    },
    {
     "data": {
      "application/vnd.jupyter.widget-view+json": {
       "model_id": "5d907e426f0e4352ad25313db9f7fe42",
       "version_major": 2,
       "version_minor": 0
      },
      "text/plain": [
       "  0%|          | 0/5 [00:00<?, ?it/s]"
      ]
     },
     "metadata": {},
     "output_type": "display_data"
    },
    {
     "name": "stdout",
     "output_type": "stream",
     "text": [
      "subject:  Honda Valkyrie\n",
      "Game & Watch is produced by Nintendo.\n",
      "Samsung NX series is produced by Samsung.\n",
      "Renault 4 is produced by Renault.\n",
      "{} is produced by\n",
      "tensor(0.4817, device='cuda:0', dtype=torch.float16) tensor(50., device='cuda:0', dtype=torch.float16)\n",
      "\n",
      "subject:  Game & Watch\n",
      "Renault 4 is produced by Renault.\n",
      "Honda Valkyrie is produced by Honda.\n",
      "BMW 700 is produced by BMW.\n",
      "{} is produced by\n",
      "tensor(4.5938, device='cuda:0', dtype=torch.float16) tensor(36., device='cuda:0', dtype=torch.float16)\n",
      "\n",
      "subject:  BMW 700\n",
      "Game & Watch is produced by Nintendo.\n",
      "Honda Valkyrie is produced by Honda.\n",
      "Renault 4 is produced by Renault.\n",
      "{} is produced by\n",
      "tensor(0.9307, device='cuda:0', dtype=torch.float16) tensor(50., device='cuda:0', dtype=torch.float16)\n",
      "\n",
      "subject:  Renault 4\n",
      "Honda Valkyrie is produced by Honda.\n",
      "BMW 700 is produced by BMW.\n",
      "Samsung NX series is produced by Samsung.\n",
      "{} is produced by\n",
      "tensor(1.7549, device='cuda:0', dtype=torch.float16) tensor(11.1953, device='cuda:0', dtype=torch.float16)\n",
      "\n",
      "subject:  Samsung NX series\n",
      "Game & Watch is produced by Nintendo.\n",
      "Honda Valkyrie is produced by Honda.\n",
      "BMW 700 is produced by BMW.\n",
      "{} is produced by\n",
      "tensor(11., device='cuda:0', dtype=torch.float16) tensor(50.7188, device='cuda:0', dtype=torch.float16)\n",
      "\n"
     ]
    },
    {
     "data": {
      "application/vnd.jupyter.widget-view+json": {
       "model_id": "77512c4693c945969ffc81d8b1468b28",
       "version_major": 2,
       "version_minor": 0
      },
      "text/plain": [
       "  0%|          | 0/5 [00:00<?, ?it/s]"
      ]
     },
     "metadata": {},
     "output_type": "display_data"
    },
    {
     "name": "stdout",
     "output_type": "stream",
     "text": [
      "subject:  Google Authenticator\n",
      "Game & Watch is produced by Nintendo.\n",
      "Renault 4 is produced by Renault.\n",
      "Nokia 1100 is produced by Nokia.\n",
      "{} is produced by\n",
      "tensor(13.7969, device='cuda:0', dtype=torch.float16) tensor(52.8125, device='cuda:0', dtype=torch.float16)\n",
      "\n",
      "subject:  Nokia 1100\n",
      "Renault 4 is produced by Renault.\n",
      "Google Authenticator is produced by Google.\n",
      "Game & Watch is produced by Nintendo.\n",
      "{} is produced by\n",
      "tensor(0.9731, device='cuda:0', dtype=torch.float16) tensor(34.5000, device='cuda:0', dtype=torch.float16)\n",
      "\n",
      "subject:  Microsoft Band\n",
      "Renault 4 is produced by Renault.\n",
      "Game & Watch is produced by Nintendo.\n",
      "Nokia 1100 is produced by Nokia.\n",
      "{} is produced by\n",
      "tensor(7.8242, device='cuda:0', dtype=torch.float16) tensor(36.6875, device='cuda:0', dtype=torch.float16)\n",
      "\n",
      "subject:  Renault 4\n",
      "Game & Watch is produced by Nintendo.\n",
      "Google Authenticator is produced by Google.\n",
      "Nokia 1100 is produced by Nokia.\n",
      "{} is produced by\n",
      "tensor(1.3604, device='cuda:0', dtype=torch.float16) tensor(50.0312, device='cuda:0', dtype=torch.float16)\n",
      "\n",
      "subject:  Game & Watch\n",
      "Renault 4 is produced by Renault.\n",
      "Microsoft Band is produced by Microsoft.\n",
      "Google Authenticator is produced by Google.\n",
      "{} is produced by\n",
      "tensor(5.5039, device='cuda:0', dtype=torch.float16) tensor(36.0625, device='cuda:0', dtype=torch.float16)\n",
      "\n"
     ]
    },
    {
     "data": {
      "application/vnd.jupyter.widget-view+json": {
       "model_id": "d31f0be84eda420196a922b3db93ed87",
       "version_major": 2,
       "version_minor": 0
      },
      "text/plain": [
       "  0%|          | 0/5 [00:00<?, ?it/s]"
      ]
     },
     "metadata": {},
     "output_type": "display_data"
    },
    {
     "name": "stdout",
     "output_type": "stream",
     "text": [
      "subject:  Microsoft Band\n",
      "Nokia 1100 is produced by Nokia.\n",
      "Nissan Cherry is produced by Nissan.\n",
      "Honda Valkyrie is produced by Honda.\n",
      "{} is produced by\n",
      "tensor(9.9609, device='cuda:0', dtype=torch.float16) tensor(38.3438, device='cuda:0', dtype=torch.float16)\n",
      "\n",
      "subject:  Nissan Cherry\n",
      "Honda Valkyrie is produced by Honda.\n",
      "Microsoft Band is produced by Microsoft.\n",
      "Game & Watch is produced by Nintendo.\n",
      "{} is produced by\n",
      "tensor(0.5596, device='cuda:0', dtype=torch.float16) tensor(10.9297, device='cuda:0', dtype=torch.float16)\n",
      "\n",
      "subject:  Honda Valkyrie\n",
      "Nokia 1100 is produced by Nokia.\n",
      "Nissan Cherry is produced by Nissan.\n",
      "Game & Watch is produced by Nintendo.\n",
      "{} is produced by\n",
      "tensor(0.4136, device='cuda:0', dtype=torch.float16) tensor(36.0625, device='cuda:0', dtype=torch.float16)\n",
      "\n",
      "subject:  Game & Watch\n",
      "Nissan Cherry is produced by Nissan.\n",
      "Microsoft Band is produced by Microsoft.\n",
      "Honda Valkyrie is produced by Honda.\n",
      "{} is produced by\n",
      "tensor(5.2422, device='cuda:0', dtype=torch.float16) tensor(37.2188, device='cuda:0', dtype=torch.float16)\n",
      "\n",
      "subject:  Nokia 1100\n",
      "Game & Watch is produced by Nintendo.\n",
      "Honda Valkyrie is produced by Honda.\n",
      "Nissan Cherry is produced by Nissan.\n",
      "{} is produced by\n",
      "tensor(0.8188, device='cuda:0', dtype=torch.float16) tensor(50., device='cuda:0', dtype=torch.float16)\n",
      "\n"
     ]
    },
    {
     "data": {
      "application/vnd.jupyter.widget-view+json": {
       "model_id": "4a17105b27fb4cbaa8e1ee7a689b3b77",
       "version_major": 2,
       "version_minor": 0
      },
      "text/plain": [
       "  0%|          | 0/5 [00:00<?, ?it/s]"
      ]
     },
     "metadata": {},
     "output_type": "display_data"
    },
    {
     "name": "stdout",
     "output_type": "stream",
     "text": [
      "subject:  Samsung NX series\n",
      "Nokia 1100 is produced by Nokia.\n",
      "Microsoft Band is produced by Microsoft.\n",
      "BMW 700 is produced by BMW.\n",
      "{} is produced by\n",
      "tensor(10.6484, device='cuda:0', dtype=torch.float16) tensor(37.0312, device='cuda:0', dtype=torch.float16)\n",
      "\n",
      "subject:  Nokia 1100\n",
      "Samsung NX series is produced by Samsung.\n",
      "BMW 700 is produced by BMW.\n",
      "Microsoft Band is produced by Microsoft.\n",
      "{} is produced by\n",
      "tensor(0.8311, device='cuda:0', dtype=torch.float16) tensor(20.0938, device='cuda:0', dtype=torch.float16)\n",
      "\n",
      "subject:  Microsoft Band\n",
      "Nokia 1100 is produced by Nokia.\n",
      "BMW 700 is produced by BMW.\n",
      "Renault 4 is produced by Renault.\n",
      "{} is produced by\n",
      "tensor(9.4297, device='cuda:0', dtype=torch.float16) tensor(38.2812, device='cuda:0', dtype=torch.float16)\n",
      "\n",
      "subject:  Renault 4\n",
      "Samsung NX series is produced by Samsung.\n",
      "Nokia 1100 is produced by Nokia.\n",
      "BMW 700 is produced by BMW.\n",
      "{} is produced by\n",
      "tensor(1.7061, device='cuda:0', dtype=torch.float16) tensor(20.2812, device='cuda:0', dtype=torch.float16)\n",
      "\n",
      "subject:  BMW 700\n",
      "Renault 4 is produced by Renault.\n",
      "Microsoft Band is produced by Microsoft.\n",
      "Samsung NX series is produced by Samsung.\n",
      "{} is produced by\n",
      "tensor(0.8716, device='cuda:0', dtype=torch.float16) tensor(34.5000, device='cuda:0', dtype=torch.float16)\n",
      "\n"
     ]
    },
    {
     "data": {
      "application/vnd.jupyter.widget-view+json": {
       "model_id": "20dd4e6326504bb897da8845529b6652",
       "version_major": 2,
       "version_minor": 0
      },
      "text/plain": [
       "  0%|          | 0/5 [00:00<?, ?it/s]"
      ]
     },
     "metadata": {},
     "output_type": "display_data"
    },
    {
     "name": "stdout",
     "output_type": "stream",
     "text": [
      "subject:  Microsoft Band\n",
      "Google Authenticator is produced by Google.\n",
      "BMW 700 is produced by BMW.\n",
      "Game & Watch is produced by Nintendo.\n",
      "{} is produced by\n",
      "tensor(8.0312, device='cuda:0', dtype=torch.float16) tensor(14.2344, device='cuda:0', dtype=torch.float16)\n",
      "\n",
      "subject:  Google Authenticator\n",
      "BMW 700 is produced by BMW.\n",
      "Game & Watch is produced by Nintendo.\n",
      "Microsoft Band is produced by Microsoft.\n",
      "{} is produced by\n",
      "tensor(11.1562, device='cuda:0', dtype=torch.float16) tensor(90.8750, device='cuda:0', dtype=torch.float16)\n",
      "\n",
      "subject:  BMW 700\n",
      "Game & Watch is produced by Nintendo.\n",
      "Google Authenticator is produced by Google.\n",
      "Microsoft Band is produced by Microsoft.\n",
      "{} is produced by\n",
      "tensor(1.0596, device='cuda:0', dtype=torch.float16) tensor(50., device='cuda:0', dtype=torch.float16)\n",
      "\n",
      "subject:  Nokia 1100\n",
      "Microsoft Band is produced by Microsoft.\n",
      "Google Authenticator is produced by Google.\n",
      "BMW 700 is produced by BMW.\n",
      "{} is produced by\n",
      "tensor(0.8408, device='cuda:0', dtype=torch.float16) tensor(0.9531, device='cuda:0', dtype=torch.float16)\n",
      "\n",
      "subject:  Game & Watch\n",
      "BMW 700 is produced by BMW.\n",
      "Google Authenticator is produced by Google.\n",
      "Microsoft Band is produced by Microsoft.\n",
      "{} is produced by\n",
      "tensor(5.5469, device='cuda:0', dtype=torch.float16) tensor(90.3750, device='cuda:0', dtype=torch.float16)\n",
      "\n"
     ]
    },
    {
     "data": {
      "application/vnd.jupyter.widget-view+json": {
       "model_id": "9b8f5e16e8844a7ca2de30dbf595f3ab",
       "version_major": 2,
       "version_minor": 0
      },
      "text/plain": [
       "  0%|          | 0/5 [00:00<?, ?it/s]"
      ]
     },
     "metadata": {},
     "output_type": "display_data"
    },
    {
     "name": "stdout",
     "output_type": "stream",
     "text": [
      "subject:  Microsoft Band\n",
      "BMW 700 is produced by BMW.\n",
      "Toyota Corona is produced by Toyota.\n",
      "Game & Watch is produced by Nintendo.\n",
      "{} is produced by\n",
      "tensor(8.5547, device='cuda:0', dtype=torch.float16) tensor(91.0625, device='cuda:0', dtype=torch.float16)\n",
      "\n",
      "subject:  Toyota Corona\n",
      "BMW 700 is produced by BMW.\n",
      "Google Authenticator is produced by Google.\n",
      "Game & Watch is produced by Nintendo.\n",
      "{} is produced by\n",
      "tensor(0.6396, device='cuda:0', dtype=torch.float16) tensor(89.9375, device='cuda:0', dtype=torch.float16)\n",
      "\n",
      "subject:  Game & Watch\n",
      "BMW 700 is produced by BMW.\n",
      "Microsoft Band is produced by Microsoft.\n",
      "Toyota Corona is produced by Toyota.\n",
      "{} is produced by\n",
      "tensor(7.1602, device='cuda:0', dtype=torch.float16) tensor(90.5625, device='cuda:0', dtype=torch.float16)\n",
      "\n",
      "subject:  Google Authenticator\n",
      "Toyota Corona is produced by Toyota.\n",
      "Game & Watch is produced by Nintendo.\n",
      "Microsoft Band is produced by Microsoft.\n",
      "{} is produced by\n",
      "tensor(11.2656, device='cuda:0', dtype=torch.float16) tensor(33.7188, device='cuda:0', dtype=torch.float16)\n",
      "\n",
      "subject:  BMW 700\n",
      "Microsoft Band is produced by Microsoft.\n",
      "Toyota Corona is produced by Toyota.\n",
      "Google Authenticator is produced by Google.\n",
      "{} is produced by\n",
      "tensor(1.0820, device='cuda:0', dtype=torch.float16) tensor(1.1045, device='cuda:0', dtype=torch.float16)\n",
      "\n"
     ]
    },
    {
     "data": {
      "application/vnd.jupyter.widget-view+json": {
       "model_id": "068d641bbe4a457a931fa640ae089eb3",
       "version_major": 2,
       "version_minor": 0
      },
      "text/plain": [
       "  0%|          | 0/5 [00:00<?, ?it/s]"
      ]
     },
     "metadata": {},
     "output_type": "display_data"
    },
    {
     "name": "stdout",
     "output_type": "stream",
     "text": [
      "subject:  Honda Valkyrie\n",
      "Game & Watch is produced by Nintendo.\n",
      "BMW 700 is produced by BMW.\n",
      "Renault 4 is produced by Renault.\n",
      "{} is produced by\n",
      "tensor(0.5850, device='cuda:0', dtype=torch.float16) tensor(50., device='cuda:0', dtype=torch.float16)\n",
      "\n",
      "subject:  Renault 4\n",
      "Game & Watch is produced by Nintendo.\n",
      "BMW 700 is produced by BMW.\n",
      "Honda Valkyrie is produced by Honda.\n",
      "{} is produced by\n",
      "tensor(1.4980, device='cuda:0', dtype=torch.float16) tensor(50.0625, device='cuda:0', dtype=torch.float16)\n",
      "\n",
      "subject:  Game & Watch\n",
      "Renault 4 is produced by Renault.\n",
      "Honda Valkyrie is produced by Honda.\n",
      "BMW 700 is produced by BMW.\n",
      "{} is produced by\n",
      "tensor(4.5938, device='cuda:0', dtype=torch.float16) tensor(36., device='cuda:0', dtype=torch.float16)\n",
      "\n",
      "subject:  Nokia 1100\n",
      "Game & Watch is produced by Nintendo.\n",
      "BMW 700 is produced by BMW.\n",
      "Honda Valkyrie is produced by Honda.\n",
      "{} is produced by\n",
      "tensor(0.7236, device='cuda:0', dtype=torch.float16) tensor(50., device='cuda:0', dtype=torch.float16)\n",
      "\n",
      "subject:  BMW 700\n",
      "Honda Valkyrie is produced by Honda.\n",
      "Renault 4 is produced by Renault.\n",
      "Nokia 1100 is produced by Nokia.\n",
      "{} is produced by\n",
      "tensor(0.7129, device='cuda:0', dtype=torch.float16) tensor(10.9375, device='cuda:0', dtype=torch.float16)\n",
      "\n"
     ]
    },
    {
     "data": {
      "application/vnd.jupyter.widget-view+json": {
       "model_id": "a893d85d066d446fb4f1e88be540b13e",
       "version_major": 2,
       "version_minor": 0
      },
      "text/plain": [
       "  0%|          | 0/5 [00:00<?, ?it/s]"
      ]
     },
     "metadata": {},
     "output_type": "display_data"
    },
    {
     "name": "stdout",
     "output_type": "stream",
     "text": [
      "subject:  BMW 700\n",
      "Toyota Corona is produced by Toyota.\n",
      "Honda Valkyrie is produced by Honda.\n",
      "Nokia 1100 is produced by Nokia.\n",
      "{} is produced by\n",
      "tensor(0.8032, device='cuda:0', dtype=torch.float16) tensor(31.1094, device='cuda:0', dtype=torch.float16)\n",
      "\n",
      "subject:  Nokia 1100\n",
      "BMW 700 is produced by BMW.\n",
      "Microsoft Band is produced by Microsoft.\n",
      "Honda Valkyrie is produced by Honda.\n",
      "{} is produced by\n",
      "tensor(0.7871, device='cuda:0', dtype=torch.float16) tensor(89.9375, device='cuda:0', dtype=torch.float16)\n",
      "\n",
      "subject:  Honda Valkyrie\n",
      "Toyota Corona is produced by Toyota.\n",
      "Nokia 1100 is produced by Nokia.\n",
      "BMW 700 is produced by BMW.\n",
      "{} is produced by\n",
      "tensor(0.5679, device='cuda:0', dtype=torch.float16) tensor(31.0938, device='cuda:0', dtype=torch.float16)\n",
      "\n",
      "subject:  Toyota Corona\n",
      "Honda Valkyrie is produced by Honda.\n",
      "Microsoft Band is produced by Microsoft.\n",
      "Nokia 1100 is produced by Nokia.\n",
      "{} is produced by\n",
      "tensor(0.7939, device='cuda:0', dtype=torch.float16) tensor(10.9375, device='cuda:0', dtype=torch.float16)\n",
      "\n",
      "subject:  Microsoft Band\n",
      "Nokia 1100 is produced by Nokia.\n",
      "Toyota Corona is produced by Toyota.\n",
      "BMW 700 is produced by BMW.\n",
      "{} is produced by\n",
      "tensor(9.5625, device='cuda:0', dtype=torch.float16) tensor(38.7188, device='cuda:0', dtype=torch.float16)\n",
      "\n"
     ]
    },
    {
     "data": {
      "application/vnd.jupyter.widget-view+json": {
       "model_id": "60875a58a2664bef87175f7611a95073",
       "version_major": 2,
       "version_minor": 0
      },
      "text/plain": [
       "  0%|          | 0/5 [00:00<?, ?it/s]"
      ]
     },
     "metadata": {},
     "output_type": "display_data"
    },
    {
     "name": "stdout",
     "output_type": "stream",
     "text": [
      "subject:  Game & Watch\n",
      "Microsoft Band is produced by Microsoft.\n",
      "Nissan Cherry is produced by Nissan.\n",
      "Samsung NX series is produced by Samsung.\n",
      "{} is produced by\n",
      "tensor(5.2188, device='cuda:0', dtype=torch.float16) tensor(8.3984, device='cuda:0', dtype=torch.float16)\n",
      "\n",
      "subject:  Samsung NX series\n",
      "BMW 700 is produced by BMW.\n",
      "Microsoft Band is produced by Microsoft.\n",
      "Nissan Cherry is produced by Nissan.\n",
      "{} is produced by\n",
      "tensor(10.5234, device='cuda:0', dtype=torch.float16) tensor(90.4375, device='cuda:0', dtype=torch.float16)\n",
      "\n",
      "subject:  BMW 700\n",
      "Samsung NX series is produced by Samsung.\n",
      "Microsoft Band is produced by Microsoft.\n",
      "Game & Watch is produced by Nintendo.\n",
      "{} is produced by\n",
      "tensor(0.8203, device='cuda:0', dtype=torch.float16) tensor(20.0938, device='cuda:0', dtype=torch.float16)\n",
      "\n",
      "subject:  Microsoft Band\n",
      "Samsung NX series is produced by Samsung.\n",
      "Nissan Cherry is produced by Nissan.\n",
      "Game & Watch is produced by Nintendo.\n",
      "{} is produced by\n",
      "tensor(8.0781, device='cuda:0', dtype=torch.float16) tensor(23.7969, device='cuda:0', dtype=torch.float16)\n",
      "\n",
      "subject:  Nissan Cherry\n",
      "Samsung NX series is produced by Samsung.\n",
      "Game & Watch is produced by Nintendo.\n",
      "Microsoft Band is produced by Microsoft.\n",
      "{} is produced by\n",
      "tensor(0.4133, device='cuda:0', dtype=torch.float16) tensor(20.0938, device='cuda:0', dtype=torch.float16)\n",
      "\n",
      "Saving weights and biases >>  gpt-j/jacobians_averaged_collection/after__ln_f/P176.npz\n",
      "----------------------------------------------------\n",
      "zzzzzzzzzzzzzzzzzzzzzzzzzzzzzzzzzzzzzzzzzzzzzzzzzzzz\n",
      "P140 The official religion of {} is\n",
      "zzzzzzzzzzzzzzzzzzzzzzzzzzzzzzzzzzzzzzzzzzzzzzzzzzzz\n",
      "182\n",
      "The official religion of {} is\n"
     ]
    },
    {
     "data": {
      "application/vnd.jupyter.widget-view+json": {
       "model_id": "b23bfeca8bce4b0f83c7cfe174df383d",
       "version_major": 2,
       "version_minor": 0
      },
      "text/plain": [
       "  0%|          | 0/10 [00:00<?, ?it/s]"
      ]
     },
     "metadata": {},
     "output_type": "display_data"
    },
    {
     "data": {
      "application/vnd.jupyter.widget-view+json": {
       "model_id": "0c2d26afd3934b15bdb91e81ccfe7d61",
       "version_major": 2,
       "version_minor": 0
      },
      "text/plain": [
       "  0%|          | 0/4 [00:00<?, ?it/s]"
      ]
     },
     "metadata": {},
     "output_type": "display_data"
    },
    {
     "name": "stdout",
     "output_type": "stream",
     "text": [
      "subject:  Tom Cruise\n",
      "The official religion of Tefillin is Judaism.\n",
      "The official religion of Pala Empire is Buddhism.\n",
      "The official religion of Cat Stevens is Islam.\n",
      "The official religion of {} is\n",
      "tensor(9.2578, device='cuda:0', dtype=torch.float16) tensor(8.0859, device='cuda:0', dtype=torch.float16)\n",
      "\n",
      "subject:  Pala Empire\n",
      "The official religion of Tom Cruise is Scientology.\n",
      "The official religion of Tefillin is Judaism.\n",
      "The official religion of Cat Stevens is Islam.\n",
      "The official religion of {} is\n",
      "tensor(5.5625, device='cuda:0', dtype=torch.float16) tensor(4.9609, device='cuda:0', dtype=torch.float16)\n",
      "\n",
      "subject:  Cat Stevens\n",
      "The official religion of Tom Cruise is Scientology.\n",
      "The official religion of Tefillin is Judaism.\n",
      "The official religion of Pala Empire is Buddhism.\n",
      "The official religion of {} is\n",
      "tensor(11.4609, device='cuda:0', dtype=torch.float16) tensor(9.6719, device='cuda:0', dtype=torch.float16)\n",
      "\n",
      "subject:  Tefillin\n",
      "The official religion of Pala Empire is Buddhism.\n",
      "The official religion of Tom Cruise is Scientology.\n",
      "The official religion of Cat Stevens is Islam.\n",
      "The official religion of {} is\n",
      "tensor(12.7578, device='cuda:0', dtype=torch.float16) tensor(10.8750, device='cuda:0', dtype=torch.float16)\n",
      "\n"
     ]
    },
    {
     "data": {
      "application/vnd.jupyter.widget-view+json": {
       "model_id": "7a1c2fccef534ef78b2edb2931543627",
       "version_major": 2,
       "version_minor": 0
      },
      "text/plain": [
       "  0%|          | 0/4 [00:00<?, ?it/s]"
      ]
     },
     "metadata": {},
     "output_type": "display_data"
    },
    {
     "name": "stdout",
     "output_type": "stream",
     "text": [
      "subject:  Tom Cruise\n",
      "The official religion of Cat Stevens is Islam.\n",
      "The official religion of Tefillin is Judaism.\n",
      "The official religion of Pala Empire is Buddhism.\n",
      "The official religion of {} is\n",
      "tensor(9.6406, device='cuda:0', dtype=torch.float16) tensor(8.2656, device='cuda:0', dtype=torch.float16)\n",
      "\n",
      "subject:  Tefillin\n",
      "The official religion of Cat Stevens is Islam.\n",
      "The official religion of Pala Empire is Buddhism.\n",
      "The official religion of Tom Cruise is Scientology.\n",
      "The official religion of {} is\n",
      "tensor(10.5078, device='cuda:0', dtype=torch.float16) tensor(9.9141, device='cuda:0', dtype=torch.float16)\n",
      "\n",
      "subject:  Cat Stevens\n",
      "The official religion of Pala Empire is Buddhism.\n",
      "The official religion of Tefillin is Judaism.\n",
      "The official religion of Tom Cruise is Scientology.\n",
      "The official religion of {} is\n",
      "tensor(12.6250, device='cuda:0', dtype=torch.float16) tensor(10.6953, device='cuda:0', dtype=torch.float16)\n",
      "\n",
      "subject:  Pala Empire\n",
      "The official religion of Tefillin is Judaism.\n",
      "The official religion of Cat Stevens is Islam.\n",
      "The official religion of Tom Cruise is Scientology.\n",
      "The official religion of {} is\n",
      "tensor(5.0078, device='cuda:0', dtype=torch.float16) tensor(4.9766, device='cuda:0', dtype=torch.float16)\n",
      "\n"
     ]
    },
    {
     "data": {
      "application/vnd.jupyter.widget-view+json": {
       "model_id": "37450a3310724144a324ff178ff2bb4d",
       "version_major": 2,
       "version_minor": 0
      },
      "text/plain": [
       "  0%|          | 0/4 [00:00<?, ?it/s]"
      ]
     },
     "metadata": {},
     "output_type": "display_data"
    },
    {
     "name": "stdout",
     "output_type": "stream",
     "text": [
      "subject:  Tefillin\n",
      "The official religion of Cat Stevens is Islam.\n",
      "The official religion of Tom Cruise is Scientology.\n",
      "The official religion of Pala Empire is Buddhism.\n",
      "The official religion of {} is\n",
      "tensor(10.6250, device='cuda:0', dtype=torch.float16) tensor(9.0234, device='cuda:0', dtype=torch.float16)\n",
      "\n",
      "subject:  Cat Stevens\n",
      "The official religion of Tefillin is Judaism.\n",
      "The official religion of Pala Empire is Buddhism.\n",
      "The official religion of Tom Cruise is Scientology.\n",
      "The official religion of {} is\n",
      "tensor(13.9062, device='cuda:0', dtype=torch.float16) tensor(11.7031, device='cuda:0', dtype=torch.float16)\n",
      "\n",
      "subject:  Tom Cruise\n",
      "The official religion of Tefillin is Judaism.\n",
      "The official religion of Cat Stevens is Islam.\n",
      "The official religion of Pala Empire is Buddhism.\n",
      "The official religion of {} is\n",
      "tensor(9.8359, device='cuda:0', dtype=torch.float16) tensor(9.0938, device='cuda:0', dtype=torch.float16)\n",
      "\n",
      "subject:  Pala Empire\n",
      "The official religion of Tom Cruise is Scientology.\n",
      "The official religion of Tefillin is Judaism.\n",
      "The official religion of Cat Stevens is Islam.\n",
      "The official religion of {} is\n",
      "tensor(5.5625, device='cuda:0', dtype=torch.float16) tensor(4.9609, device='cuda:0', dtype=torch.float16)\n",
      "\n"
     ]
    },
    {
     "data": {
      "application/vnd.jupyter.widget-view+json": {
       "model_id": "4fff4d9e58254fd5aa6c2158c2171c0e",
       "version_major": 2,
       "version_minor": 0
      },
      "text/plain": [
       "  0%|          | 0/4 [00:00<?, ?it/s]"
      ]
     },
     "metadata": {},
     "output_type": "display_data"
    },
    {
     "name": "stdout",
     "output_type": "stream",
     "text": [
      "subject:  Tom Cruise\n",
      "The official religion of Tefillin is Judaism.\n",
      "The official religion of Cat Stevens is Islam.\n",
      "The official religion of Pala Empire is Buddhism.\n",
      "The official religion of {} is\n",
      "tensor(9.8359, device='cuda:0', dtype=torch.float16) tensor(9.0938, device='cuda:0', dtype=torch.float16)\n",
      "\n",
      "subject:  Tefillin\n",
      "The official religion of Tom Cruise is Scientology.\n",
      "The official religion of Cat Stevens is Islam.\n",
      "The official religion of Pala Empire is Buddhism.\n",
      "The official religion of {} is\n",
      "tensor(11.3750, device='cuda:0', dtype=torch.float16) tensor(9.4297, device='cuda:0', dtype=torch.float16)\n",
      "\n",
      "subject:  Pala Empire\n",
      "The official religion of Cat Stevens is Islam.\n",
      "The official religion of Tom Cruise is Scientology.\n",
      "The official religion of Tefillin is Judaism.\n",
      "The official religion of {} is\n",
      "tensor(5.4844, device='cuda:0', dtype=torch.float16) tensor(4.7109, device='cuda:0', dtype=torch.float16)\n",
      "\n",
      "subject:  Cat Stevens\n",
      "The official religion of Tom Cruise is Scientology.\n",
      "The official religion of Pala Empire is Buddhism.\n",
      "The official religion of Tefillin is Judaism.\n",
      "The official religion of {} is\n",
      "tensor(10.4141, device='cuda:0', dtype=torch.float16) tensor(9.1328, device='cuda:0', dtype=torch.float16)\n",
      "\n"
     ]
    },
    {
     "data": {
      "application/vnd.jupyter.widget-view+json": {
       "model_id": "679fe0ee9e1d4507a265a223fb97487e",
       "version_major": 2,
       "version_minor": 0
      },
      "text/plain": [
       "  0%|          | 0/4 [00:00<?, ?it/s]"
      ]
     },
     "metadata": {},
     "output_type": "display_data"
    },
    {
     "name": "stdout",
     "output_type": "stream",
     "text": [
      "subject:  Tefillin\n",
      "The official religion of Tom Cruise is Scientology.\n",
      "The official religion of Pala Empire is Buddhism.\n",
      "The official religion of Cat Stevens is Islam.\n",
      "The official religion of {} is\n",
      "tensor(11.6406, device='cuda:0', dtype=torch.float16) tensor(10.2891, device='cuda:0', dtype=torch.float16)\n",
      "\n",
      "subject:  Tom Cruise\n",
      "The official religion of Tefillin is Judaism.\n",
      "The official religion of Cat Stevens is Islam.\n",
      "The official religion of Pala Empire is Buddhism.\n",
      "The official religion of {} is\n",
      "tensor(9.8359, device='cuda:0', dtype=torch.float16) tensor(9.0938, device='cuda:0', dtype=torch.float16)\n",
      "\n",
      "subject:  Pala Empire\n",
      "The official religion of Tom Cruise is Scientology.\n",
      "The official religion of Cat Stevens is Islam.\n",
      "The official religion of Tefillin is Judaism.\n",
      "The official religion of {} is\n",
      "tensor(5.3359, device='cuda:0', dtype=torch.float16) tensor(4.7227, device='cuda:0', dtype=torch.float16)\n",
      "\n",
      "subject:  Cat Stevens\n",
      "The official religion of Pala Empire is Buddhism.\n",
      "The official religion of Tom Cruise is Scientology.\n",
      "The official religion of Tefillin is Judaism.\n",
      "The official religion of {} is\n",
      "tensor(13.4297, device='cuda:0', dtype=torch.float16) tensor(10.9141, device='cuda:0', dtype=torch.float16)\n",
      "\n"
     ]
    },
    {
     "data": {
      "application/vnd.jupyter.widget-view+json": {
       "model_id": "cda852529bdd49c99a5d26d76dccd3e6",
       "version_major": 2,
       "version_minor": 0
      },
      "text/plain": [
       "  0%|          | 0/4 [00:00<?, ?it/s]"
      ]
     },
     "metadata": {},
     "output_type": "display_data"
    },
    {
     "name": "stdout",
     "output_type": "stream",
     "text": [
      "subject:  Tefillin\n",
      "The official religion of Tom Cruise is Scientology.\n",
      "The official religion of Cat Stevens is Islam.\n",
      "The official religion of Pala Empire is Buddhism.\n",
      "The official religion of {} is\n",
      "tensor(11.3750, device='cuda:0', dtype=torch.float16) tensor(9.4297, device='cuda:0', dtype=torch.float16)\n",
      "\n",
      "subject:  Tom Cruise\n",
      "The official religion of Tefillin is Judaism.\n",
      "The official religion of Pala Empire is Buddhism.\n",
      "The official religion of Cat Stevens is Islam.\n",
      "The official religion of {} is\n",
      "tensor(9.2578, device='cuda:0', dtype=torch.float16) tensor(8.0859, device='cuda:0', dtype=torch.float16)\n",
      "\n",
      "subject:  Cat Stevens\n",
      "The official religion of Tefillin is Judaism.\n",
      "The official religion of Pala Empire is Buddhism.\n",
      "The official religion of Tom Cruise is Scientology.\n",
      "The official religion of {} is\n",
      "tensor(13.9062, device='cuda:0', dtype=torch.float16) tensor(11.7031, device='cuda:0', dtype=torch.float16)\n",
      "\n",
      "subject:  Pala Empire\n",
      "The official religion of Tefillin is Judaism.\n",
      "The official religion of Tom Cruise is Scientology.\n",
      "The official religion of Cat Stevens is Islam.\n",
      "The official religion of {} is\n",
      "tensor(5.3477, device='cuda:0', dtype=torch.float16) tensor(5.0508, device='cuda:0', dtype=torch.float16)\n",
      "\n"
     ]
    },
    {
     "data": {
      "application/vnd.jupyter.widget-view+json": {
       "model_id": "9f94ffc0676e43b295ee72249b81be31",
       "version_major": 2,
       "version_minor": 0
      },
      "text/plain": [
       "  0%|          | 0/4 [00:00<?, ?it/s]"
      ]
     },
     "metadata": {},
     "output_type": "display_data"
    },
    {
     "name": "stdout",
     "output_type": "stream",
     "text": [
      "subject:  Tom Cruise\n",
      "The official religion of Pala Empire is Buddhism.\n",
      "The official religion of Tefillin is Judaism.\n",
      "The official religion of Cat Stevens is Islam.\n",
      "The official religion of {} is\n",
      "tensor(8.0859, device='cuda:0', dtype=torch.float16) tensor(7.2227, device='cuda:0', dtype=torch.float16)\n",
      "\n",
      "subject:  Pala Empire\n",
      "The official religion of Cat Stevens is Islam.\n",
      "The official religion of Tefillin is Judaism.\n",
      "The official religion of Tom Cruise is Scientology.\n",
      "The official religion of {} is\n",
      "tensor(5.1172, device='cuda:0', dtype=torch.float16) tensor(4.8047, device='cuda:0', dtype=torch.float16)\n",
      "\n",
      "subject:  Tefillin\n",
      "The official religion of Cat Stevens is Islam.\n",
      "The official religion of Tom Cruise is Scientology.\n",
      "The official religion of Pala Empire is Buddhism.\n",
      "The official religion of {} is\n",
      "tensor(10.6250, device='cuda:0', dtype=torch.float16) tensor(9.0234, device='cuda:0', dtype=torch.float16)\n",
      "\n",
      "subject:  Cat Stevens\n",
      "The official religion of Pala Empire is Buddhism.\n",
      "The official religion of Tom Cruise is Scientology.\n",
      "The official religion of Tefillin is Judaism.\n",
      "The official religion of {} is\n",
      "tensor(13.4297, device='cuda:0', dtype=torch.float16) tensor(10.9141, device='cuda:0', dtype=torch.float16)\n",
      "\n"
     ]
    },
    {
     "data": {
      "application/vnd.jupyter.widget-view+json": {
       "model_id": "9b2b9a95b592492792d4a21af04a5ad4",
       "version_major": 2,
       "version_minor": 0
      },
      "text/plain": [
       "  0%|          | 0/4 [00:00<?, ?it/s]"
      ]
     },
     "metadata": {},
     "output_type": "display_data"
    },
    {
     "name": "stdout",
     "output_type": "stream",
     "text": [
      "subject:  Tom Cruise\n",
      "The official religion of Tefillin is Judaism.\n",
      "The official religion of Pala Empire is Buddhism.\n",
      "The official religion of Cat Stevens is Islam.\n",
      "The official religion of {} is\n",
      "tensor(9.2578, device='cuda:0', dtype=torch.float16) tensor(8.0859, device='cuda:0', dtype=torch.float16)\n",
      "\n",
      "subject:  Tefillin\n",
      "The official religion of Pala Empire is Buddhism.\n",
      "The official religion of Cat Stevens is Islam.\n",
      "The official religion of Tom Cruise is Scientology.\n",
      "The official religion of {} is\n",
      "tensor(11.4609, device='cuda:0', dtype=torch.float16) tensor(10.6562, device='cuda:0', dtype=torch.float16)\n",
      "\n",
      "subject:  Pala Empire\n",
      "The official religion of Cat Stevens is Islam.\n",
      "The official religion of Tefillin is Judaism.\n",
      "The official religion of Tom Cruise is Scientology.\n",
      "The official religion of {} is\n",
      "tensor(5.1172, device='cuda:0', dtype=torch.float16) tensor(4.8047, device='cuda:0', dtype=torch.float16)\n",
      "\n",
      "subject:  Cat Stevens\n",
      "The official religion of Pala Empire is Buddhism.\n",
      "The official religion of Tom Cruise is Scientology.\n",
      "The official religion of Tefillin is Judaism.\n",
      "The official religion of {} is\n",
      "tensor(13.4297, device='cuda:0', dtype=torch.float16) tensor(10.9141, device='cuda:0', dtype=torch.float16)\n",
      "\n"
     ]
    },
    {
     "data": {
      "application/vnd.jupyter.widget-view+json": {
       "model_id": "5c8520c31d2a465c8a6ce8ac0e3af168",
       "version_major": 2,
       "version_minor": 0
      },
      "text/plain": [
       "  0%|          | 0/4 [00:00<?, ?it/s]"
      ]
     },
     "metadata": {},
     "output_type": "display_data"
    },
    {
     "name": "stdout",
     "output_type": "stream",
     "text": [
      "subject:  Cat Stevens\n",
      "The official religion of Tefillin is Judaism.\n",
      "The official religion of Pala Empire is Buddhism.\n",
      "The official religion of Tom Cruise is Scientology.\n",
      "The official religion of {} is\n",
      "tensor(13.9062, device='cuda:0', dtype=torch.float16) tensor(11.7031, device='cuda:0', dtype=torch.float16)\n",
      "\n",
      "subject:  Tefillin\n",
      "The official religion of Cat Stevens is Islam.\n",
      "The official religion of Tom Cruise is Scientology.\n",
      "The official religion of Pala Empire is Buddhism.\n",
      "The official religion of {} is\n",
      "tensor(10.6250, device='cuda:0', dtype=torch.float16) tensor(9.0234, device='cuda:0', dtype=torch.float16)\n",
      "\n",
      "subject:  Pala Empire\n",
      "The official religion of Tefillin is Judaism.\n",
      "The official religion of Cat Stevens is Islam.\n",
      "The official religion of Tom Cruise is Scientology.\n",
      "The official religion of {} is\n",
      "tensor(5.0078, device='cuda:0', dtype=torch.float16) tensor(4.9766, device='cuda:0', dtype=torch.float16)\n",
      "\n",
      "subject:  Tom Cruise\n",
      "The official religion of Cat Stevens is Islam.\n",
      "The official religion of Tefillin is Judaism.\n",
      "The official religion of Pala Empire is Buddhism.\n",
      "The official religion of {} is\n",
      "tensor(9.6406, device='cuda:0', dtype=torch.float16) tensor(8.2656, device='cuda:0', dtype=torch.float16)\n",
      "\n"
     ]
    },
    {
     "data": {
      "application/vnd.jupyter.widget-view+json": {
       "model_id": "02f2fa5cc0d54ff5aef28b1709bc4ac9",
       "version_major": 2,
       "version_minor": 0
      },
      "text/plain": [
       "  0%|          | 0/4 [00:00<?, ?it/s]"
      ]
     },
     "metadata": {},
     "output_type": "display_data"
    },
    {
     "name": "stdout",
     "output_type": "stream",
     "text": [
      "subject:  Tom Cruise\n",
      "The official religion of Pala Empire is Buddhism.\n",
      "The official religion of Cat Stevens is Islam.\n",
      "The official religion of Tefillin is Judaism.\n",
      "The official religion of {} is\n",
      "tensor(8., device='cuda:0', dtype=torch.float16) tensor(7.3906, device='cuda:0', dtype=torch.float16)\n",
      "\n",
      "subject:  Tefillin\n",
      "The official religion of Tom Cruise is Scientology.\n",
      "The official religion of Pala Empire is Buddhism.\n",
      "The official religion of Cat Stevens is Islam.\n",
      "The official religion of {} is\n",
      "tensor(11.6406, device='cuda:0', dtype=torch.float16) tensor(10.2891, device='cuda:0', dtype=torch.float16)\n",
      "\n",
      "subject:  Pala Empire\n",
      "The official religion of Cat Stevens is Islam.\n",
      "The official religion of Tefillin is Judaism.\n",
      "The official religion of Tom Cruise is Scientology.\n",
      "The official religion of {} is\n",
      "tensor(5.1172, device='cuda:0', dtype=torch.float16) tensor(4.8047, device='cuda:0', dtype=torch.float16)\n",
      "\n",
      "subject:  Cat Stevens\n",
      "The official religion of Tefillin is Judaism.\n",
      "The official religion of Tom Cruise is Scientology.\n",
      "The official religion of Pala Empire is Buddhism.\n",
      "The official religion of {} is\n",
      "tensor(14.0234, device='cuda:0', dtype=torch.float16) tensor(11.4609, device='cuda:0', dtype=torch.float16)\n",
      "\n",
      "Saving weights and biases >>  gpt-j/jacobians_averaged_collection/after__ln_f/P140.npz\n",
      "----------------------------------------------------\n",
      "zzzzzzzzzzzzzzzzzzzzzzzzzzzzzzzzzzzzzzzzzzzzzzzzzzzz\n",
      "P178 {} was developed by\n",
      "zzzzzzzzzzzzzzzzzzzzzzzzzzzzzzzzzzzzzzzzzzzzzzzzzzzz\n",
      "400\n",
      "{} was developed by\n"
     ]
    },
    {
     "data": {
      "application/vnd.jupyter.widget-view+json": {
       "model_id": "9cd80922c8b94f7eb7544f727a701363",
       "version_major": 2,
       "version_minor": 0
      },
      "text/plain": [
       "  0%|          | 0/10 [00:00<?, ?it/s]"
      ]
     },
     "metadata": {},
     "output_type": "display_data"
    },
    {
     "data": {
      "application/vnd.jupyter.widget-view+json": {
       "model_id": "2d7786cd59c6425cb362227132fc1839",
       "version_major": 2,
       "version_minor": 0
      },
      "text/plain": [
       "  0%|          | 0/5 [00:00<?, ?it/s]"
      ]
     },
     "metadata": {},
     "output_type": "display_data"
    },
    {
     "name": "stdout",
     "output_type": "stream",
     "text": [
      "subject:  MobileMe\n",
      "MiniDisc was developed by Sony.\n",
      "SPDY was developed by Google.\n",
      "Adobe Connect was developed by Adobe.\n",
      "{} was developed by\n",
      "tensor(7.3320, device='cuda:0', dtype=torch.float16) tensor(26.4375, device='cuda:0', dtype=torch.float16)\n",
      "\n",
      "subject:  SPDY\n",
      "Amiibo was developed by Nintendo.\n",
      "Adobe Connect was developed by Adobe.\n",
      "MobileMe was developed by Apple.\n",
      "{} was developed by\n",
      "tensor(10.1406, device='cuda:0', dtype=torch.float16) tensor(33.3750, device='cuda:0', dtype=torch.float16)\n",
      "\n",
      "subject:  Adobe Connect\n",
      "MiniDisc was developed by Sony.\n",
      "MobileMe was developed by Apple.\n",
      "SPDY was developed by Google.\n",
      "{} was developed by\n",
      "tensor(2.0352, device='cuda:0', dtype=torch.float16) tensor(23.5156, device='cuda:0', dtype=torch.float16)\n",
      "\n",
      "subject:  Amiibo\n",
      "Adobe Connect was developed by Adobe.\n",
      "MiniDisc was developed by Sony.\n",
      "SPDY was developed by Google.\n",
      "{} was developed by\n",
      "tensor(7.1797, device='cuda:0', dtype=torch.float16) tensor(54.2500, device='cuda:0', dtype=torch.float16)\n",
      "\n",
      "subject:  MiniDisc\n",
      "SPDY was developed by Google.\n",
      "MobileMe was developed by Apple.\n",
      "Adobe Connect was developed by Adobe.\n",
      "{} was developed by\n",
      "tensor(9.9453, device='cuda:0', dtype=torch.float16) tensor(49.6562, device='cuda:0', dtype=torch.float16)\n",
      "\n"
     ]
    },
    {
     "data": {
      "application/vnd.jupyter.widget-view+json": {
       "model_id": "971a909115dc42a09ab49479f38f0edf",
       "version_major": 2,
       "version_minor": 0
      },
      "text/plain": [
       "  0%|          | 0/5 [00:00<?, ?it/s]"
      ]
     },
     "metadata": {},
     "output_type": "display_data"
    },
    {
     "name": "stdout",
     "output_type": "stream",
     "text": [
      "subject:  SPDY\n",
      "Samsung Kies was developed by Samsung.\n",
      "Adobe Connect was developed by Adobe.\n",
      "MiniDisc was developed by Sony.\n",
      "{} was developed by\n",
      "tensor(8.6641, device='cuda:0', dtype=torch.float16) tensor(22.8438, device='cuda:0', dtype=torch.float16)\n",
      "\n",
      "subject:  Samsung Kies\n",
      "MiniDisc was developed by Sony.\n",
      "SPDY was developed by Google.\n",
      "Itanium was developed by Intel.\n",
      "{} was developed by\n",
      "tensor(1.3574, device='cuda:0', dtype=torch.float16) tensor(23.4531, device='cuda:0', dtype=torch.float16)\n",
      "\n",
      "subject:  Adobe Connect\n",
      "SPDY was developed by Google.\n",
      "MiniDisc was developed by Sony.\n",
      "Itanium was developed by Intel.\n",
      "{} was developed by\n",
      "tensor(1.7754, device='cuda:0', dtype=torch.float16) tensor(46.5000, device='cuda:0', dtype=torch.float16)\n",
      "\n",
      "subject:  Itanium\n",
      "Adobe Connect was developed by Adobe.\n",
      "Samsung Kies was developed by Samsung.\n",
      "MiniDisc was developed by Sony.\n",
      "{} was developed by\n",
      "tensor(2.5879, device='cuda:0', dtype=torch.float16) tensor(53.6250, device='cuda:0', dtype=torch.float16)\n",
      "\n",
      "subject:  MiniDisc\n",
      "Itanium was developed by Intel.\n",
      "Samsung Kies was developed by Samsung.\n",
      "Adobe Connect was developed by Adobe.\n",
      "{} was developed by\n",
      "tensor(12., device='cuda:0', dtype=torch.float16) tensor(34.2812, device='cuda:0', dtype=torch.float16)\n",
      "\n"
     ]
    },
    {
     "data": {
      "application/vnd.jupyter.widget-view+json": {
       "model_id": "f0147ba9041047c787e3f0ab1d6f46ba",
       "version_major": 2,
       "version_minor": 0
      },
      "text/plain": [
       "  0%|          | 0/5 [00:00<?, ?it/s]"
      ]
     },
     "metadata": {},
     "output_type": "display_data"
    },
    {
     "name": "stdout",
     "output_type": "stream",
     "text": [
      "subject:  MobileMe\n",
      "YUI Library was developed by Yahoo.\n",
      "Samsung Kies was developed by Samsung.\n",
      "SPDY was developed by Google.\n",
      "{} was developed by\n",
      "tensor(7.3555, device='cuda:0', dtype=torch.float16) tensor(15.9531, device='cuda:0', dtype=torch.float16)\n",
      "\n",
      "subject:  SPDY\n",
      "MobileMe was developed by Apple.\n",
      "Samsung Kies was developed by Samsung.\n",
      "YUI Library was developed by Yahoo.\n",
      "{} was developed by\n",
      "tensor(8.1250, device='cuda:0', dtype=torch.float16) tensor(38.7188, device='cuda:0', dtype=torch.float16)\n",
      "\n",
      "subject:  Samsung Kies\n",
      "YUI Library was developed by Yahoo.\n",
      "SPDY was developed by Google.\n",
      "MobileMe was developed by Apple.\n",
      "{} was developed by\n",
      "tensor(1.1357, device='cuda:0', dtype=torch.float16) tensor(11.2734, device='cuda:0', dtype=torch.float16)\n",
      "\n",
      "subject:  YUI Library\n",
      "ThinkPad was developed by IBM.\n",
      "MobileMe was developed by Apple.\n",
      "SPDY was developed by Google.\n",
      "{} was developed by\n",
      "tensor(3.8223, device='cuda:0', dtype=torch.float16) tensor(22.2500, device='cuda:0', dtype=torch.float16)\n",
      "\n",
      "subject:  ThinkPad\n",
      "YUI Library was developed by Yahoo.\n",
      "Samsung Kies was developed by Samsung.\n",
      "SPDY was developed by Google.\n",
      "{} was developed by\n",
      "tensor(9.2266, device='cuda:0', dtype=torch.float16) tensor(15.4453, device='cuda:0', dtype=torch.float16)\n",
      "\n"
     ]
    },
    {
     "data": {
      "application/vnd.jupyter.widget-view+json": {
       "model_id": "3c9a67d86c1a40cea3c10cd4704afba6",
       "version_major": 2,
       "version_minor": 0
      },
      "text/plain": [
       "  0%|          | 0/5 [00:00<?, ?it/s]"
      ]
     },
     "metadata": {},
     "output_type": "display_data"
    },
    {
     "name": "stdout",
     "output_type": "stream",
     "text": [
      "subject:  Amiibo\n",
      "Samsung Kies was developed by Samsung.\n",
      "Itanium was developed by Intel.\n",
      "YUI Library was developed by Yahoo.\n",
      "{} was developed by\n",
      "tensor(7.8711, device='cuda:0', dtype=torch.float16) tensor(22.4062, device='cuda:0', dtype=torch.float16)\n",
      "\n",
      "subject:  Itanium\n",
      "Samsung Kies was developed by Samsung.\n",
      "Rich Text Format was developed by Microsoft.\n",
      "YUI Library was developed by Yahoo.\n",
      "{} was developed by\n",
      "tensor(2.8203, device='cuda:0', dtype=torch.float16) tensor(20.2656, device='cuda:0', dtype=torch.float16)\n",
      "\n",
      "subject:  Rich Text Format\n",
      "Itanium was developed by Intel.\n",
      "Samsung Kies was developed by Samsung.\n",
      "Amiibo was developed by Nintendo.\n",
      "{} was developed by\n",
      "tensor(4.5391, device='cuda:0', dtype=torch.float16) tensor(30.0312, device='cuda:0', dtype=torch.float16)\n",
      "\n",
      "subject:  YUI Library\n",
      "Amiibo was developed by Nintendo.\n",
      "Samsung Kies was developed by Samsung.\n",
      "Itanium was developed by Intel.\n",
      "{} was developed by\n",
      "tensor(3.0840, device='cuda:0', dtype=torch.float16) tensor(31.8906, device='cuda:0', dtype=torch.float16)\n",
      "\n",
      "subject:  Samsung Kies\n",
      "Amiibo was developed by Nintendo.\n",
      "YUI Library was developed by Yahoo.\n",
      "Itanium was developed by Intel.\n",
      "{} was developed by\n",
      "tensor(1.4766, device='cuda:0', dtype=torch.float16) tensor(31.8438, device='cuda:0', dtype=torch.float16)\n",
      "\n"
     ]
    },
    {
     "data": {
      "application/vnd.jupyter.widget-view+json": {
       "model_id": "cc1c4ec148cc432d90f160e7441e3241",
       "version_major": 2,
       "version_minor": 0
      },
      "text/plain": [
       "  0%|          | 0/5 [00:00<?, ?it/s]"
      ]
     },
     "metadata": {},
     "output_type": "display_data"
    },
    {
     "name": "stdout",
     "output_type": "stream",
     "text": [
      "subject:  Samsung Kies\n",
      "SPDY was developed by Google.\n",
      "Amiibo was developed by Nintendo.\n",
      "Itanium was developed by Intel.\n",
      "{} was developed by\n",
      "tensor(1.5908, device='cuda:0', dtype=torch.float16) tensor(46.5000, device='cuda:0', dtype=torch.float16)\n",
      "\n",
      "subject:  SPDY\n",
      "Amiibo was developed by Nintendo.\n",
      "Samsung Kies was developed by Samsung.\n",
      "Itanium was developed by Intel.\n",
      "{} was developed by\n",
      "tensor(9.1953, device='cuda:0', dtype=torch.float16) tensor(33.2812, device='cuda:0', dtype=torch.float16)\n",
      "\n",
      "subject:  Adobe Connect\n",
      "Amiibo was developed by Nintendo.\n",
      "Itanium was developed by Intel.\n",
      "SPDY was developed by Google.\n",
      "{} was developed by\n",
      "tensor(1.7744, device='cuda:0', dtype=torch.float16) tensor(31.8594, device='cuda:0', dtype=torch.float16)\n",
      "\n",
      "subject:  Itanium\n",
      "Samsung Kies was developed by Samsung.\n",
      "SPDY was developed by Google.\n",
      "Adobe Connect was developed by Adobe.\n",
      "{} was developed by\n",
      "tensor(1.4678, device='cuda:0', dtype=torch.float16) tensor(20.1250, device='cuda:0', dtype=torch.float16)\n",
      "\n",
      "subject:  Amiibo\n",
      "Adobe Connect was developed by Adobe.\n",
      "Itanium was developed by Intel.\n",
      "Samsung Kies was developed by Samsung.\n",
      "{} was developed by\n",
      "tensor(9.8359, device='cuda:0', dtype=torch.float16) tensor(55.1875, device='cuda:0', dtype=torch.float16)\n",
      "\n"
     ]
    },
    {
     "data": {
      "application/vnd.jupyter.widget-view+json": {
       "model_id": "348ed996139f4e3cacbbd00613e269f1",
       "version_major": 2,
       "version_minor": 0
      },
      "text/plain": [
       "  0%|          | 0/5 [00:00<?, ?it/s]"
      ]
     },
     "metadata": {},
     "output_type": "display_data"
    },
    {
     "name": "stdout",
     "output_type": "stream",
     "text": [
      "subject:  YUI Library\n",
      "MobileMe was developed by Apple.\n",
      "Itanium was developed by Intel.\n",
      "Amiibo was developed by Nintendo.\n",
      "{} was developed by\n",
      "tensor(2.8770, device='cuda:0', dtype=torch.float16) tensor(37.8438, device='cuda:0', dtype=torch.float16)\n",
      "\n",
      "subject:  MobileMe\n",
      "SPDY was developed by Google.\n",
      "Itanium was developed by Intel.\n",
      "Amiibo was developed by Nintendo.\n",
      "{} was developed by\n",
      "tensor(7.5156, device='cuda:0', dtype=torch.float16) tensor(47.5312, device='cuda:0', dtype=torch.float16)\n",
      "\n",
      "subject:  Itanium\n",
      "Amiibo was developed by Nintendo.\n",
      "YUI Library was developed by Yahoo.\n",
      "MobileMe was developed by Apple.\n",
      "{} was developed by\n",
      "tensor(3.6777, device='cuda:0', dtype=torch.float16) tensor(31.9375, device='cuda:0', dtype=torch.float16)\n",
      "\n",
      "subject:  SPDY\n",
      "Itanium was developed by Intel.\n",
      "YUI Library was developed by Yahoo.\n",
      "Amiibo was developed by Nintendo.\n",
      "{} was developed by\n",
      "tensor(9.2656, device='cuda:0', dtype=torch.float16) tensor(30.2188, device='cuda:0', dtype=torch.float16)\n",
      "\n",
      "subject:  Amiibo\n",
      "MobileMe was developed by Apple.\n",
      "SPDY was developed by Google.\n",
      "Itanium was developed by Intel.\n",
      "{} was developed by\n",
      "tensor(7.2891, device='cuda:0', dtype=torch.float16) tensor(38.7188, device='cuda:0', dtype=torch.float16)\n",
      "\n"
     ]
    },
    {
     "data": {
      "application/vnd.jupyter.widget-view+json": {
       "model_id": "4b859e6c0a2b4dd18c86ee5b8391be1d",
       "version_major": 2,
       "version_minor": 0
      },
      "text/plain": [
       "  0%|          | 0/5 [00:00<?, ?it/s]"
      ]
     },
     "metadata": {},
     "output_type": "display_data"
    },
    {
     "name": "stdout",
     "output_type": "stream",
     "text": [
      "subject:  Adobe Connect\n",
      "MobileMe was developed by Apple.\n",
      "Rich Text Format was developed by Microsoft.\n",
      "Amiibo was developed by Nintendo.\n",
      "{} was developed by\n",
      "tensor(2.0234, device='cuda:0', dtype=torch.float16) tensor(37.8125, device='cuda:0', dtype=torch.float16)\n",
      "\n",
      "subject:  Rich Text Format\n",
      "MobileMe was developed by Apple.\n",
      "YUI Library was developed by Yahoo.\n",
      "Adobe Connect was developed by Adobe.\n",
      "{} was developed by\n",
      "tensor(4.8359, device='cuda:0', dtype=torch.float16) tensor(38.5312, device='cuda:0', dtype=torch.float16)\n",
      "\n",
      "subject:  YUI Library\n",
      "Adobe Connect was developed by Adobe.\n",
      "MobileMe was developed by Apple.\n",
      "Rich Text Format was developed by Microsoft.\n",
      "{} was developed by\n",
      "tensor(4.3789, device='cuda:0', dtype=torch.float16) tensor(53.6250, device='cuda:0', dtype=torch.float16)\n",
      "\n",
      "subject:  MobileMe\n",
      "Rich Text Format was developed by Microsoft.\n",
      "Amiibo was developed by Nintendo.\n",
      "Adobe Connect was developed by Adobe.\n",
      "{} was developed by\n",
      "tensor(6.4297, device='cuda:0', dtype=torch.float16) tensor(36.5938, device='cuda:0', dtype=torch.float16)\n",
      "\n",
      "subject:  Amiibo\n",
      "Rich Text Format was developed by Microsoft.\n",
      "MobileMe was developed by Apple.\n",
      "Adobe Connect was developed by Adobe.\n",
      "{} was developed by\n",
      "tensor(5.7812, device='cuda:0', dtype=torch.float16) tensor(35.4375, device='cuda:0', dtype=torch.float16)\n",
      "\n"
     ]
    },
    {
     "data": {
      "application/vnd.jupyter.widget-view+json": {
       "model_id": "6024b409df2a4513b73b1d13cc56af19",
       "version_major": 2,
       "version_minor": 0
      },
      "text/plain": [
       "  0%|          | 0/5 [00:00<?, ?it/s]"
      ]
     },
     "metadata": {},
     "output_type": "display_data"
    },
    {
     "name": "stdout",
     "output_type": "stream",
     "text": [
      "subject:  Adobe Connect\n",
      "Itanium was developed by Intel.\n",
      "ThinkPad was developed by IBM.\n",
      "SPDY was developed by Google.\n",
      "{} was developed by\n",
      "tensor(1.7598, device='cuda:0', dtype=torch.float16) tensor(28.8594, device='cuda:0', dtype=torch.float16)\n",
      "\n",
      "subject:  ThinkPad\n",
      "Itanium was developed by Intel.\n",
      "SPDY was developed by Google.\n",
      "Adobe Connect was developed by Adobe.\n",
      "{} was developed by\n",
      "tensor(8.7109, device='cuda:0', dtype=torch.float16) tensor(30.9062, device='cuda:0', dtype=torch.float16)\n",
      "\n",
      "subject:  SPDY\n",
      "Rich Text Format was developed by Microsoft.\n",
      "Itanium was developed by Intel.\n",
      "Adobe Connect was developed by Adobe.\n",
      "{} was developed by\n",
      "tensor(10.5078, device='cuda:0', dtype=torch.float16) tensor(36.5000, device='cuda:0', dtype=torch.float16)\n",
      "\n",
      "subject:  Rich Text Format\n",
      "SPDY was developed by Google.\n",
      "Itanium was developed by Intel.\n",
      "Adobe Connect was developed by Adobe.\n",
      "{} was developed by\n",
      "tensor(6.0078, device='cuda:0', dtype=torch.float16) tensor(47.3438, device='cuda:0', dtype=torch.float16)\n",
      "\n",
      "subject:  Itanium\n",
      "Rich Text Format was developed by Microsoft.\n",
      "Adobe Connect was developed by Adobe.\n",
      "ThinkPad was developed by IBM.\n",
      "{} was developed by\n",
      "tensor(2.1855, device='cuda:0', dtype=torch.float16) tensor(34.6875, device='cuda:0', dtype=torch.float16)\n",
      "\n"
     ]
    },
    {
     "data": {
      "application/vnd.jupyter.widget-view+json": {
       "model_id": "666d82c6fb2d488298d453e03991753b",
       "version_major": 2,
       "version_minor": 0
      },
      "text/plain": [
       "  0%|          | 0/5 [00:00<?, ?it/s]"
      ]
     },
     "metadata": {},
     "output_type": "display_data"
    },
    {
     "name": "stdout",
     "output_type": "stream",
     "text": [
      "subject:  MiniDisc\n",
      "Itanium was developed by Intel.\n",
      "SPDY was developed by Google.\n",
      "Rich Text Format was developed by Microsoft.\n",
      "{} was developed by\n",
      "tensor(10.6172, device='cuda:0', dtype=torch.float16) tensor(34.1875, device='cuda:0', dtype=torch.float16)\n",
      "\n",
      "subject:  YUI Library\n",
      "SPDY was developed by Google.\n",
      "MiniDisc was developed by Sony.\n",
      "Rich Text Format was developed by Microsoft.\n",
      "{} was developed by\n",
      "tensor(4.0820, device='cuda:0', dtype=torch.float16) tensor(46.5938, device='cuda:0', dtype=torch.float16)\n",
      "\n",
      "subject:  Itanium\n",
      "Rich Text Format was developed by Microsoft.\n",
      "MiniDisc was developed by Sony.\n",
      "YUI Library was developed by Yahoo.\n",
      "{} was developed by\n",
      "tensor(2.6992, device='cuda:0', dtype=torch.float16) tensor(34.7500, device='cuda:0', dtype=torch.float16)\n",
      "\n",
      "subject:  Rich Text Format\n",
      "Itanium was developed by Intel.\n",
      "SPDY was developed by Google.\n",
      "YUI Library was developed by Yahoo.\n",
      "{} was developed by\n",
      "tensor(5.7383, device='cuda:0', dtype=torch.float16) tensor(30., device='cuda:0', dtype=torch.float16)\n",
      "\n",
      "subject:  SPDY\n",
      "MiniDisc was developed by Sony.\n",
      "YUI Library was developed by Yahoo.\n",
      "Itanium was developed by Intel.\n",
      "{} was developed by\n",
      "tensor(8.1406, device='cuda:0', dtype=torch.float16) tensor(24.8281, device='cuda:0', dtype=torch.float16)\n",
      "\n"
     ]
    },
    {
     "data": {
      "application/vnd.jupyter.widget-view+json": {
       "model_id": "2e836e1d99f84b5f937d6f15620ad7a6",
       "version_major": 2,
       "version_minor": 0
      },
      "text/plain": [
       "  0%|          | 0/5 [00:00<?, ?it/s]"
      ]
     },
     "metadata": {},
     "output_type": "display_data"
    },
    {
     "name": "stdout",
     "output_type": "stream",
     "text": [
      "subject:  MiniDisc\n",
      "MobileMe was developed by Apple.\n",
      "Samsung Kies was developed by Samsung.\n",
      "SPDY was developed by Google.\n",
      "{} was developed by\n",
      "tensor(7.0117, device='cuda:0', dtype=torch.float16) tensor(40.6250, device='cuda:0', dtype=torch.float16)\n",
      "\n",
      "subject:  MobileMe\n",
      "Rich Text Format was developed by Microsoft.\n",
      "MiniDisc was developed by Sony.\n",
      "SPDY was developed by Google.\n",
      "{} was developed by\n",
      "tensor(8.5391, device='cuda:0', dtype=torch.float16) tensor(37.5312, device='cuda:0', dtype=torch.float16)\n",
      "\n",
      "subject:  Samsung Kies\n",
      "MiniDisc was developed by Sony.\n",
      "MobileMe was developed by Apple.\n",
      "SPDY was developed by Google.\n",
      "{} was developed by\n",
      "tensor(1.0928, device='cuda:0', dtype=torch.float16) tensor(23.4531, device='cuda:0', dtype=torch.float16)\n",
      "\n",
      "subject:  SPDY\n",
      "Samsung Kies was developed by Samsung.\n",
      "MiniDisc was developed by Sony.\n",
      "Rich Text Format was developed by Microsoft.\n",
      "{} was developed by\n",
      "tensor(7.5742, device='cuda:0', dtype=torch.float16) tensor(21.5781, device='cuda:0', dtype=torch.float16)\n",
      "\n",
      "subject:  Rich Text Format\n",
      "Samsung Kies was developed by Samsung.\n",
      "MiniDisc was developed by Sony.\n",
      "MobileMe was developed by Apple.\n",
      "{} was developed by\n",
      "tensor(5.2422, device='cuda:0', dtype=torch.float16) tensor(22., device='cuda:0', dtype=torch.float16)\n",
      "\n",
      "Saving weights and biases >>  gpt-j/jacobians_averaged_collection/after__ln_f/P178.npz\n",
      "----------------------------------------------------\n",
      "zzzzzzzzzzzzzzzzzzzzzzzzzzzzzzzzzzzzzzzzzzzzzzzzzzzz\n",
      "P495 {}, that originated in the country of\n",
      "zzzzzzzzzzzzzzzzzzzzzzzzzzzzzzzzzzzzzzzzzzzzzzzzzzzz\n",
      "160\n",
      "{}, that originated in the country of\n"
     ]
    },
    {
     "data": {
      "application/vnd.jupyter.widget-view+json": {
       "model_id": "ef1f44cdff4b4546ab16ca9913c68b24",
       "version_major": 2,
       "version_minor": 0
      },
      "text/plain": [
       "  0%|          | 0/10 [00:00<?, ?it/s]"
      ]
     },
     "metadata": {},
     "output_type": "display_data"
    },
    {
     "data": {
      "application/vnd.jupyter.widget-view+json": {
       "model_id": "8a2345518a654e34893e3766d1ed1df2",
       "version_major": 2,
       "version_minor": 0
      },
      "text/plain": [
       "  0%|          | 0/5 [00:00<?, ?it/s]"
      ]
     },
     "metadata": {},
     "output_type": "display_data"
    },
    {
     "name": "stdout",
     "output_type": "stream",
     "text": [
      "subject:  Celebridade\n",
      "Kitchen Princess, that originated in the country of Japan.\n",
      "The X Factor, that originated in the country of Australia.\n",
      "Boyzone, that originated in the country of Ireland.\n",
      "{}, that originated in the country of\n",
      "CUDA out of memory\n",
      "trying with smaller icl >>  2\n"
     ]
    },
    {
     "data": {
      "application/vnd.jupyter.widget-view+json": {
       "model_id": "96c7364978a44fb4941160e60c70aa90",
       "version_major": 2,
       "version_minor": 0
      },
      "text/plain": [
       "  0%|          | 0/5 [00:00<?, ?it/s]"
      ]
     },
     "metadata": {},
     "output_type": "display_data"
    },
    {
     "name": "stdout",
     "output_type": "stream",
     "text": [
      "subject:  Celebridade\n",
      "Kitchen Princess, that originated in the country of Japan.\n",
      "The X Factor, that originated in the country of Australia.\n",
      "{}, that originated in the country of\n",
      "tensor(5.6211, device='cuda:0', dtype=torch.float16) tensor(15.9688, device='cuda:0', dtype=torch.float16)\n",
      "\n",
      "subject:  Boyzone\n",
      "The X Factor, that originated in the country of Australia.\n",
      "Dobermann, that originated in the country of Germany.\n",
      "{}, that originated in the country of\n",
      "tensor(4.5781, device='cuda:0', dtype=torch.float16) tensor(6.2852, device='cuda:0', dtype=torch.float16)\n",
      "\n",
      "subject:  Dobermann\n",
      "Boyzone, that originated in the country of Ireland.\n",
      "Celebridade, that originated in the country of Brazil.\n",
      "{}, that originated in the country of\n",
      "tensor(7.7305, device='cuda:0', dtype=torch.float16) tensor(41.1875, device='cuda:0', dtype=torch.float16)\n",
      "\n",
      "subject:  Kitchen Princess\n",
      "Boyzone, that originated in the country of Ireland.\n",
      "The X Factor, that originated in the country of Australia.\n",
      "{}, that originated in the country of\n",
      "tensor(2.3848, device='cuda:0', dtype=torch.float16) tensor(40.5938, device='cuda:0', dtype=torch.float16)\n",
      "\n",
      "subject:  The X Factor\n",
      "Boyzone, that originated in the country of Ireland.\n",
      "Celebridade, that originated in the country of Brazil.\n",
      "{}, that originated in the country of\n",
      "tensor(3.3809, device='cuda:0', dtype=torch.float16) tensor(40.5938, device='cuda:0', dtype=torch.float16)\n",
      "\n"
     ]
    },
    {
     "data": {
      "application/vnd.jupyter.widget-view+json": {
       "model_id": "745e4fcf51d64894a97e8337ede4ed92",
       "version_major": 2,
       "version_minor": 0
      },
      "text/plain": [
       "  0%|          | 0/5 [00:00<?, ?it/s]"
      ]
     },
     "metadata": {},
     "output_type": "display_data"
    },
    {
     "name": "stdout",
     "output_type": "stream",
     "text": [
      "subject:  Celebridade\n",
      "Danish pastry, that originated in the country of Denmark.\n",
      "Life Is Beautiful, that originated in the country of Italy.\n",
      "Kitchen Princess, that originated in the country of Japan.\n",
      "{}, that originated in the country of\n",
      "CUDA out of memory\n",
      "trying with smaller icl >>  2\n"
     ]
    },
    {
     "data": {
      "application/vnd.jupyter.widget-view+json": {
       "model_id": "077b9ca4b5034850836338859652bb7a",
       "version_major": 2,
       "version_minor": 0
      },
      "text/plain": [
       "  0%|          | 0/5 [00:00<?, ?it/s]"
      ]
     },
     "metadata": {},
     "output_type": "display_data"
    },
    {
     "name": "stdout",
     "output_type": "stream",
     "text": [
      "subject:  Celebridade\n",
      "Danish pastry, that originated in the country of Denmark.\n",
      "Kitchen Princess, that originated in the country of Japan.\n",
      "{}, that originated in the country of\n",
      "tensor(5.8984, device='cuda:0', dtype=torch.float16) tensor(15.1641, device='cuda:0', dtype=torch.float16)\n",
      "\n",
      "subject:  Kitchen Princess\n",
      "Life Is Beautiful, that originated in the country of Italy.\n",
      "Celebridade, that originated in the country of Brazil.\n",
      "{}, that originated in the country of\n",
      "tensor(2.4199, device='cuda:0', dtype=torch.float16) tensor(7.8555, device='cuda:0', dtype=torch.float16)\n",
      "\n",
      "subject:  Orphan Black\n",
      "Life Is Beautiful, that originated in the country of Italy.\n",
      "Celebridade, that originated in the country of Brazil.\n",
      "{}, that originated in the country of\n",
      "tensor(7.3125, device='cuda:0', dtype=torch.float16) tensor(11.2109, device='cuda:0', dtype=torch.float16)\n",
      "\n",
      "subject:  Danish pastry\n",
      "Orphan Black, that originated in the country of Canada.\n",
      "Life Is Beautiful, that originated in the country of Italy.\n",
      "{}, that originated in the country of\n",
      "tensor(0.6450, device='cuda:0', dtype=torch.float16) tensor(36.4375, device='cuda:0', dtype=torch.float16)\n",
      "\n",
      "subject:  Life Is Beautiful\n",
      "Celebridade, that originated in the country of Brazil.\n",
      "Kitchen Princess, that originated in the country of Japan.\n",
      "{}, that originated in the country of\n",
      "tensor(3.2754, device='cuda:0', dtype=torch.float16) tensor(71.7500, device='cuda:0', dtype=torch.float16)\n",
      "\n"
     ]
    },
    {
     "data": {
      "application/vnd.jupyter.widget-view+json": {
       "model_id": "f99949427fd641c8bded6dfaafdac87a",
       "version_major": 2,
       "version_minor": 0
      },
      "text/plain": [
       "  0%|          | 0/5 [00:00<?, ?it/s]"
      ]
     },
     "metadata": {},
     "output_type": "display_data"
    },
    {
     "name": "stdout",
     "output_type": "stream",
     "text": [
      "subject:  Orphan Black\n",
      "Danish pastry, that originated in the country of Denmark.\n",
      "Kitchen Princess, that originated in the country of Japan.\n",
      "The X Factor, that originated in the country of Australia.\n",
      "{}, that originated in the country of\n",
      "CUDA out of memory\n",
      "trying with smaller icl >>  2\n"
     ]
    },
    {
     "data": {
      "application/vnd.jupyter.widget-view+json": {
       "model_id": "43765e8b3c4249938db77077cf90da3d",
       "version_major": 2,
       "version_minor": 0
      },
      "text/plain": [
       "  0%|          | 0/5 [00:00<?, ?it/s]"
      ]
     },
     "metadata": {},
     "output_type": "display_data"
    },
    {
     "name": "stdout",
     "output_type": "stream",
     "text": [
      "subject:  Orphan Black\n",
      "Celebridade, that originated in the country of Brazil.\n",
      "Danish pastry, that originated in the country of Denmark.\n",
      "{}, that originated in the country of\n",
      "tensor(4.7578, device='cuda:0', dtype=torch.float16) tensor(72., device='cuda:0', dtype=torch.float16)\n",
      "\n",
      "subject:  The X Factor\n",
      "Kitchen Princess, that originated in the country of Japan.\n",
      "Orphan Black, that originated in the country of Canada.\n",
      "{}, that originated in the country of\n",
      "tensor(4.6016, device='cuda:0', dtype=torch.float16) tensor(15.9844, device='cuda:0', dtype=torch.float16)\n",
      "\n",
      "subject:  Danish pastry\n",
      "The X Factor, that originated in the country of Australia.\n",
      "Kitchen Princess, that originated in the country of Japan.\n",
      "{}, that originated in the country of\n",
      "tensor(0.6514, device='cuda:0', dtype=torch.float16) tensor(2.9609, device='cuda:0', dtype=torch.float16)\n",
      "\n",
      "subject:  Celebridade\n",
      "The X Factor, that originated in the country of Australia.\n",
      "Orphan Black, that originated in the country of Canada.\n",
      "{}, that originated in the country of\n",
      "tensor(5.3359, device='cuda:0', dtype=torch.float16) tensor(5.8164, device='cuda:0', dtype=torch.float16)\n",
      "\n",
      "subject:  Kitchen Princess\n",
      "Orphan Black, that originated in the country of Canada.\n",
      "Celebridade, that originated in the country of Brazil.\n",
      "{}, that originated in the country of\n",
      "tensor(2.7402, device='cuda:0', dtype=torch.float16) tensor(36.7188, device='cuda:0', dtype=torch.float16)\n",
      "\n"
     ]
    },
    {
     "data": {
      "application/vnd.jupyter.widget-view+json": {
       "model_id": "be634ff7175b478390cf7ee63148d4fd",
       "version_major": 2,
       "version_minor": 0
      },
      "text/plain": [
       "  0%|          | 0/5 [00:00<?, ?it/s]"
      ]
     },
     "metadata": {},
     "output_type": "display_data"
    },
    {
     "name": "stdout",
     "output_type": "stream",
     "text": [
      "subject:  Danish pastry\n",
      "Opeth, that originated in the country of Sweden.\n",
      "Kitchen Princess, that originated in the country of Japan.\n",
      "The X Factor, that originated in the country of Australia.\n",
      "{}, that originated in the country of\n",
      "CUDA out of memory\n",
      "trying with smaller icl >>  2\n"
     ]
    },
    {
     "data": {
      "application/vnd.jupyter.widget-view+json": {
       "model_id": "663edb67d4b44e299f21b4172899bd87",
       "version_major": 2,
       "version_minor": 0
      },
      "text/plain": [
       "  0%|          | 0/5 [00:00<?, ?it/s]"
      ]
     },
     "metadata": {},
     "output_type": "display_data"
    },
    {
     "name": "stdout",
     "output_type": "stream",
     "text": [
      "subject:  Danish pastry\n",
      "Kitchen Princess, that originated in the country of Japan.\n",
      "The X Factor, that originated in the country of Australia.\n",
      "{}, that originated in the country of\n",
      "tensor(0.5894, device='cuda:0', dtype=torch.float16) tensor(15.1172, device='cuda:0', dtype=torch.float16)\n",
      "\n",
      "subject:  Dobermann\n",
      "The X Factor, that originated in the country of Australia.\n",
      "Kitchen Princess, that originated in the country of Japan.\n",
      "{}, that originated in the country of\n",
      "tensor(5.8125, device='cuda:0', dtype=torch.float16) tensor(6.8945, device='cuda:0', dtype=torch.float16)\n",
      "\n",
      "subject:  The X Factor\n",
      "Kitchen Princess, that originated in the country of Japan.\n",
      "Dobermann, that originated in the country of Germany.\n",
      "{}, that originated in the country of\n",
      "tensor(1.6270, device='cuda:0', dtype=torch.float16) tensor(15.3047, device='cuda:0', dtype=torch.float16)\n",
      "\n",
      "subject:  Kitchen Princess\n",
      "Opeth, that originated in the country of Sweden.\n",
      "The X Factor, that originated in the country of Australia.\n",
      "{}, that originated in the country of\n",
      "tensor(2.1309, device='cuda:0', dtype=torch.float16) tensor(8.7500, device='cuda:0', dtype=torch.float16)\n",
      "\n",
      "subject:  Opeth\n",
      "Danish pastry, that originated in the country of Denmark.\n",
      "The X Factor, that originated in the country of Australia.\n",
      "{}, that originated in the country of\n",
      "tensor(3.6523, device='cuda:0', dtype=torch.float16) tensor(14.7266, device='cuda:0', dtype=torch.float16)\n",
      "\n"
     ]
    },
    {
     "data": {
      "application/vnd.jupyter.widget-view+json": {
       "model_id": "871c965b856a4f10a8662c3d8e8059e4",
       "version_major": 2,
       "version_minor": 0
      },
      "text/plain": [
       "  0%|          | 0/5 [00:00<?, ?it/s]"
      ]
     },
     "metadata": {},
     "output_type": "display_data"
    },
    {
     "name": "stdout",
     "output_type": "stream",
     "text": [
      "subject:  The X Factor\n",
      "Orphan Black, that originated in the country of Canada.\n",
      "Kitchen Princess, that originated in the country of Japan.\n",
      "The Fifth Element, that originated in the country of France.\n",
      "{}, that originated in the country of\n",
      "CUDA out of memory\n",
      "trying with smaller icl >>  2\n"
     ]
    },
    {
     "data": {
      "application/vnd.jupyter.widget-view+json": {
       "model_id": "beae2e633e3642caa9a0ebe9873d2667",
       "version_major": 2,
       "version_minor": 0
      },
      "text/plain": [
       "  0%|          | 0/5 [00:00<?, ?it/s]"
      ]
     },
     "metadata": {},
     "output_type": "display_data"
    },
    {
     "name": "stdout",
     "output_type": "stream",
     "text": [
      "subject:  The X Factor\n",
      "Kitchen Princess, that originated in the country of Japan.\n",
      "The Fifth Element, that originated in the country of France.\n",
      "{}, that originated in the country of\n",
      "tensor(2.1465, device='cuda:0', dtype=torch.float16) tensor(15.2656, device='cuda:0', dtype=torch.float16)\n",
      "\n",
      "subject:  Kitchen Princess\n",
      "Orphan Black, that originated in the country of Canada.\n",
      "The X Factor, that originated in the country of Australia.\n",
      "{}, that originated in the country of\n",
      "tensor(2.7969, device='cuda:0', dtype=torch.float16) tensor(36.6875, device='cuda:0', dtype=torch.float16)\n",
      "\n",
      "subject:  The Fifth Element\n",
      "Orphan Black, that originated in the country of Canada.\n",
      "Life Is Beautiful, that originated in the country of Italy.\n",
      "{}, that originated in the country of\n",
      "tensor(10.0391, device='cuda:0', dtype=torch.float16) tensor(38.6562, device='cuda:0', dtype=torch.float16)\n",
      "\n",
      "subject:  Orphan Black\n",
      "The X Factor, that originated in the country of Australia.\n",
      "Kitchen Princess, that originated in the country of Japan.\n",
      "{}, that originated in the country of\n",
      "tensor(7.2969, device='cuda:0', dtype=torch.float16) tensor(9.3203, device='cuda:0', dtype=torch.float16)\n",
      "\n",
      "subject:  Life Is Beautiful\n",
      "Kitchen Princess, that originated in the country of Japan.\n",
      "The Fifth Element, that originated in the country of France.\n",
      "{}, that originated in the country of\n",
      "tensor(4.4766, device='cuda:0', dtype=torch.float16) tensor(15.8594, device='cuda:0', dtype=torch.float16)\n",
      "\n"
     ]
    },
    {
     "data": {
      "application/vnd.jupyter.widget-view+json": {
       "model_id": "8d26c1f8ed5f42bcbe8cd4e2c29adc00",
       "version_major": 2,
       "version_minor": 0
      },
      "text/plain": [
       "  0%|          | 0/5 [00:00<?, ?it/s]"
      ]
     },
     "metadata": {},
     "output_type": "display_data"
    },
    {
     "name": "stdout",
     "output_type": "stream",
     "text": [
      "subject:  Danish pastry\n",
      "The X Factor, that originated in the country of Australia.\n",
      "Celebridade, that originated in the country of Brazil.\n",
      "Orphan Black, that originated in the country of Canada.\n",
      "{}, that originated in the country of\n",
      "CUDA out of memory\n",
      "trying with smaller icl >>  2\n"
     ]
    },
    {
     "data": {
      "application/vnd.jupyter.widget-view+json": {
       "model_id": "d296c3aeca8147e3a9f265f806bed987",
       "version_major": 2,
       "version_minor": 0
      },
      "text/plain": [
       "  0%|          | 0/5 [00:00<?, ?it/s]"
      ]
     },
     "metadata": {},
     "output_type": "display_data"
    },
    {
     "name": "stdout",
     "output_type": "stream",
     "text": [
      "subject:  Danish pastry\n",
      "The X Factor, that originated in the country of Australia.\n",
      "Celebridade, that originated in the country of Brazil.\n",
      "{}, that originated in the country of\n",
      "tensor(0.6636, device='cuda:0', dtype=torch.float16) tensor(2.9863, device='cuda:0', dtype=torch.float16)\n",
      "\n",
      "subject:  The X Factor\n",
      "Danish pastry, that originated in the country of Denmark.\n",
      "Celebridade, that originated in the country of Brazil.\n",
      "{}, that originated in the country of\n",
      "tensor(2.1191, device='cuda:0', dtype=torch.float16) tensor(14.5312, device='cuda:0', dtype=torch.float16)\n",
      "\n",
      "subject:  Celebridade\n",
      "Orphan Black, that originated in the country of Canada.\n",
      "The Fifth Element, that originated in the country of France.\n",
      "{}, that originated in the country of\n",
      "tensor(5.4102, device='cuda:0', dtype=torch.float16) tensor(37., device='cuda:0', dtype=torch.float16)\n",
      "\n",
      "subject:  The Fifth Element\n",
      "Danish pastry, that originated in the country of Denmark.\n",
      "The X Factor, that originated in the country of Australia.\n",
      "{}, that originated in the country of\n",
      "tensor(6.7305, device='cuda:0', dtype=torch.float16) tensor(17.0312, device='cuda:0', dtype=torch.float16)\n",
      "\n",
      "subject:  Orphan Black\n",
      "The X Factor, that originated in the country of Australia.\n",
      "The Fifth Element, that originated in the country of France.\n",
      "{}, that originated in the country of\n",
      "tensor(8.1641, device='cuda:0', dtype=torch.float16) tensor(10.1016, device='cuda:0', dtype=torch.float16)\n",
      "\n"
     ]
    },
    {
     "data": {
      "application/vnd.jupyter.widget-view+json": {
       "model_id": "5aaf100713af476c81b1a129a554fe6b",
       "version_major": 2,
       "version_minor": 0
      },
      "text/plain": [
       "  0%|          | 0/5 [00:00<?, ?it/s]"
      ]
     },
     "metadata": {},
     "output_type": "display_data"
    },
    {
     "name": "stdout",
     "output_type": "stream",
     "text": [
      "subject:  Celebridade\n",
      "Dobermann, that originated in the country of Germany.\n",
      "Danish pastry, that originated in the country of Denmark.\n",
      "Boyzone, that originated in the country of Ireland.\n",
      "{}, that originated in the country of\n",
      "CUDA out of memory\n",
      "trying with smaller icl >>  2\n"
     ]
    },
    {
     "data": {
      "application/vnd.jupyter.widget-view+json": {
       "model_id": "50aefded443047b3b4cf985ba770b877",
       "version_major": 2,
       "version_minor": 0
      },
      "text/plain": [
       "  0%|          | 0/5 [00:00<?, ?it/s]"
      ]
     },
     "metadata": {},
     "output_type": "display_data"
    },
    {
     "name": "stdout",
     "output_type": "stream",
     "text": [
      "subject:  Celebridade\n",
      "Dobermann, that originated in the country of Germany.\n",
      "The Fifth Element, that originated in the country of France.\n",
      "{}, that originated in the country of\n",
      "tensor(4.5156, device='cuda:0', dtype=torch.float16) tensor(15.2031, device='cuda:0', dtype=torch.float16)\n",
      "\n",
      "subject:  The Fifth Element\n",
      "Dobermann, that originated in the country of Germany.\n",
      "Boyzone, that originated in the country of Ireland.\n",
      "{}, that originated in the country of\n",
      "tensor(5.9766, device='cuda:0', dtype=torch.float16) tensor(16.2656, device='cuda:0', dtype=torch.float16)\n",
      "\n",
      "subject:  Danish pastry\n",
      "The Fifth Element, that originated in the country of France.\n",
      "Celebridade, that originated in the country of Brazil.\n",
      "{}, that originated in the country of\n",
      "tensor(0.5776, device='cuda:0', dtype=torch.float16) tensor(2.9434, device='cuda:0', dtype=torch.float16)\n",
      "\n",
      "subject:  Dobermann\n",
      "Danish pastry, that originated in the country of Denmark.\n",
      "Celebridade, that originated in the country of Brazil.\n",
      "{}, that originated in the country of\n",
      "tensor(9.5547, device='cuda:0', dtype=torch.float16) tensor(17.4688, device='cuda:0', dtype=torch.float16)\n",
      "\n",
      "subject:  Boyzone\n",
      "Danish pastry, that originated in the country of Denmark.\n",
      "Celebridade, that originated in the country of Brazil.\n",
      "{}, that originated in the country of\n",
      "tensor(4.9727, device='cuda:0', dtype=torch.float16) tensor(15.6562, device='cuda:0', dtype=torch.float16)\n",
      "\n"
     ]
    },
    {
     "data": {
      "application/vnd.jupyter.widget-view+json": {
       "model_id": "5c9bef70a7a14592a0ec4d2c325ad3a4",
       "version_major": 2,
       "version_minor": 0
      },
      "text/plain": [
       "  0%|          | 0/5 [00:00<?, ?it/s]"
      ]
     },
     "metadata": {},
     "output_type": "display_data"
    },
    {
     "name": "stdout",
     "output_type": "stream",
     "text": [
      "subject:  Life Is Beautiful\n",
      "Danish pastry, that originated in the country of Denmark.\n",
      "Kitchen Princess, that originated in the country of Japan.\n",
      "Dobermann, that originated in the country of Germany.\n",
      "{}, that originated in the country of\n",
      "CUDA out of memory\n",
      "trying with smaller icl >>  2\n"
     ]
    },
    {
     "data": {
      "application/vnd.jupyter.widget-view+json": {
       "model_id": "413882c4177a4cf7bcee9f7533f3e7ff",
       "version_major": 2,
       "version_minor": 0
      },
      "text/plain": [
       "  0%|          | 0/5 [00:00<?, ?it/s]"
      ]
     },
     "metadata": {},
     "output_type": "display_data"
    },
    {
     "name": "stdout",
     "output_type": "stream",
     "text": [
      "subject:  Life Is Beautiful\n",
      "Kitchen Princess, that originated in the country of Japan.\n",
      "Dobermann, that originated in the country of Germany.\n",
      "{}, that originated in the country of\n",
      "tensor(3.8125, device='cuda:0', dtype=torch.float16) tensor(15.3438, device='cuda:0', dtype=torch.float16)\n",
      "\n",
      "subject:  Dobermann\n",
      "Opeth, that originated in the country of Sweden.\n",
      "Kitchen Princess, that originated in the country of Japan.\n",
      "{}, that originated in the country of\n",
      "tensor(9.5234, device='cuda:0', dtype=torch.float16) tensor(12.9297, device='cuda:0', dtype=torch.float16)\n",
      "\n",
      "subject:  Kitchen Princess\n",
      "Danish pastry, that originated in the country of Denmark.\n",
      "Dobermann, that originated in the country of Germany.\n",
      "{}, that originated in the country of\n",
      "tensor(2.4336, device='cuda:0', dtype=torch.float16) tensor(14.6875, device='cuda:0', dtype=torch.float16)\n",
      "\n",
      "subject:  Opeth\n",
      "Dobermann, that originated in the country of Germany.\n",
      "Kitchen Princess, that originated in the country of Japan.\n",
      "{}, that originated in the country of\n",
      "tensor(2.3438, device='cuda:0', dtype=torch.float16) tensor(14.5547, device='cuda:0', dtype=torch.float16)\n",
      "\n",
      "subject:  Danish pastry\n",
      "Dobermann, that originated in the country of Germany.\n",
      "Life Is Beautiful, that originated in the country of Italy.\n",
      "{}, that originated in the country of\n",
      "tensor(0.6460, device='cuda:0', dtype=torch.float16) tensor(14.3125, device='cuda:0', dtype=torch.float16)\n",
      "\n"
     ]
    },
    {
     "data": {
      "application/vnd.jupyter.widget-view+json": {
       "model_id": "f7c2e11ec4014aa5a01240075320affe",
       "version_major": 2,
       "version_minor": 0
      },
      "text/plain": [
       "  0%|          | 0/5 [00:00<?, ?it/s]"
      ]
     },
     "metadata": {},
     "output_type": "display_data"
    },
    {
     "name": "stdout",
     "output_type": "stream",
     "text": [
      "subject:  Orphan Black\n",
      "The X Factor, that originated in the country of Australia.\n",
      "Boyzone, that originated in the country of Ireland.\n",
      "Dobermann, that originated in the country of Germany.\n",
      "{}, that originated in the country of\n",
      "CUDA out of memory\n",
      "trying with smaller icl >>  2\n"
     ]
    },
    {
     "data": {
      "application/vnd.jupyter.widget-view+json": {
       "model_id": "523b83a2c1a94a619c453cbbbb9c169e",
       "version_major": 2,
       "version_minor": 0
      },
      "text/plain": [
       "  0%|          | 0/5 [00:00<?, ?it/s]"
      ]
     },
     "metadata": {},
     "output_type": "display_data"
    },
    {
     "name": "stdout",
     "output_type": "stream",
     "text": [
      "subject:  Orphan Black\n",
      "Kitchen Princess, that originated in the country of Japan.\n",
      "Boyzone, that originated in the country of Ireland.\n",
      "{}, that originated in the country of\n",
      "tensor(7.3125, device='cuda:0', dtype=torch.float16) tensor(17.2812, device='cuda:0', dtype=torch.float16)\n",
      "\n",
      "subject:  Kitchen Princess\n",
      "Dobermann, that originated in the country of Germany.\n",
      "Orphan Black, that originated in the country of Canada.\n",
      "{}, that originated in the country of\n",
      "tensor(2.7578, device='cuda:0', dtype=torch.float16) tensor(14.9453, device='cuda:0', dtype=torch.float16)\n",
      "\n",
      "subject:  Dobermann\n",
      "The X Factor, that originated in the country of Australia.\n",
      "Boyzone, that originated in the country of Ireland.\n",
      "{}, that originated in the country of\n",
      "tensor(5.4648, device='cuda:0', dtype=torch.float16) tensor(5.8867, device='cuda:0', dtype=torch.float16)\n",
      "\n",
      "subject:  Boyzone\n",
      "Dobermann, that originated in the country of Germany.\n",
      "Orphan Black, that originated in the country of Canada.\n",
      "{}, that originated in the country of\n",
      "tensor(5.7891, device='cuda:0', dtype=torch.float16) tensor(15.5781, device='cuda:0', dtype=torch.float16)\n",
      "\n",
      "subject:  The X Factor\n",
      "Dobermann, that originated in the country of Germany.\n",
      "Boyzone, that originated in the country of Ireland.\n",
      "{}, that originated in the country of\n",
      "tensor(2.6289, device='cuda:0', dtype=torch.float16) tensor(14.5781, device='cuda:0', dtype=torch.float16)\n",
      "\n"
     ]
    },
    {
     "data": {
      "application/vnd.jupyter.widget-view+json": {
       "model_id": "75c7bff8aea34cbfbeadede143818b06",
       "version_major": 2,
       "version_minor": 0
      },
      "text/plain": [
       "  0%|          | 0/5 [00:00<?, ?it/s]"
      ]
     },
     "metadata": {},
     "output_type": "display_data"
    },
    {
     "name": "stdout",
     "output_type": "stream",
     "text": [
      "subject:  Dobermann\n",
      "The X Factor, that originated in the country of Australia.\n",
      "Celebridade, that originated in the country of Brazil.\n",
      "Danish pastry, that originated in the country of Denmark.\n",
      "{}, that originated in the country of\n",
      "CUDA out of memory\n",
      "trying with smaller icl >>  2\n"
     ]
    },
    {
     "data": {
      "application/vnd.jupyter.widget-view+json": {
       "model_id": "d1233f59f31c4ffd81ec4eda6d20ab23",
       "version_major": 2,
       "version_minor": 0
      },
      "text/plain": [
       "  0%|          | 0/5 [00:00<?, ?it/s]"
      ]
     },
     "metadata": {},
     "output_type": "display_data"
    },
    {
     "name": "stdout",
     "output_type": "stream",
     "text": [
      "subject:  Dobermann\n",
      "Danish pastry, that originated in the country of Denmark.\n",
      "The Fifth Element, that originated in the country of France.\n",
      "{}, that originated in the country of\n",
      "tensor(10.6328, device='cuda:0', dtype=torch.float16) tensor(17.7812, device='cuda:0', dtype=torch.float16)\n",
      "\n",
      "subject:  The Fifth Element\n",
      "Dobermann, that originated in the country of Germany.\n",
      "Celebridade, that originated in the country of Brazil.\n",
      "{}, that originated in the country of\n",
      "tensor(4.1602, device='cuda:0', dtype=torch.float16) tensor(15.2344, device='cuda:0', dtype=torch.float16)\n",
      "\n",
      "subject:  Danish pastry\n",
      "Celebridade, that originated in the country of Brazil.\n",
      "The X Factor, that originated in the country of Australia.\n",
      "{}, that originated in the country of\n",
      "tensor(0.6021, device='cuda:0', dtype=torch.float16) tensor(71.7500, device='cuda:0', dtype=torch.float16)\n",
      "\n",
      "subject:  Celebridade\n",
      "The Fifth Element, that originated in the country of France.\n",
      "Danish pastry, that originated in the country of Denmark.\n",
      "{}, that originated in the country of\n",
      "tensor(6.1719, device='cuda:0', dtype=torch.float16) tensor(6.8281, device='cuda:0', dtype=torch.float16)\n",
      "\n",
      "subject:  The X Factor\n",
      "Dobermann, that originated in the country of Germany.\n",
      "The Fifth Element, that originated in the country of France.\n",
      "{}, that originated in the country of\n",
      "tensor(1.5557, device='cuda:0', dtype=torch.float16) tensor(14.3984, device='cuda:0', dtype=torch.float16)\n",
      "\n",
      "Saving weights and biases >>  gpt-j/jacobians_averaged_collection/after__ln_f/P495.npz\n",
      "----------------------------------------------------\n",
      "zzzzzzzzzzzzzzzzzzzzzzzzzzzzzzzzzzzzzzzzzzzzzzzzzzzz\n",
      "P127 {} is owned by\n",
      "zzzzzzzzzzzzzzzzzzzzzzzzzzzzzzzzzzzzzzzzzzzzzzzzzzzz\n",
      "105\n",
      "{} is owned by\n"
     ]
    },
    {
     "data": {
      "application/vnd.jupyter.widget-view+json": {
       "model_id": "bcf8c22d9df04305a85a3c4af482ceea",
       "version_major": 2,
       "version_minor": 0
      },
      "text/plain": [
       "  0%|          | 0/10 [00:00<?, ?it/s]"
      ]
     },
     "metadata": {},
     "output_type": "display_data"
    },
    {
     "data": {
      "application/vnd.jupyter.widget-view+json": {
       "model_id": "6f8477a505144369be0d5fa94dead313",
       "version_major": 2,
       "version_minor": 0
      },
      "text/plain": [
       "  0%|          | 0/5 [00:00<?, ?it/s]"
      ]
     },
     "metadata": {},
     "output_type": "display_data"
    },
    {
     "name": "stdout",
     "output_type": "stream",
     "text": [
      "subject:  Betacam\n",
      "Amazon Music is owned by Amazon.\n",
      "Orkut is owned by Google.\n",
      "Yahoo Search is owned by Yahoo.\n",
      "{} is owned by\n",
      "tensor(10.9297, device='cuda:0', dtype=torch.float16) tensor(17.2969, device='cuda:0', dtype=torch.float16)\n",
      "\n",
      "subject:  Abarth\n",
      "Betacam is owned by Sony.\n",
      "Yahoo Search is owned by Yahoo.\n",
      "Orkut is owned by Google.\n",
      "{} is owned by\n",
      "tensor(5.9141, device='cuda:0', dtype=torch.float16) tensor(69.7500, device='cuda:0', dtype=torch.float16)\n",
      "\n",
      "subject:  Yahoo Search\n",
      "Abarth is owned by Fiat.\n",
      "Amazon Music is owned by Amazon.\n",
      "Orkut is owned by Google.\n",
      "{} is owned by\n",
      "tensor(1.3535, device='cuda:0', dtype=torch.float16) tensor(27.0938, device='cuda:0', dtype=torch.float16)\n",
      "\n",
      "subject:  Amazon Music\n",
      "Betacam is owned by Sony.\n",
      "Orkut is owned by Google.\n",
      "Abarth is owned by Fiat.\n",
      "{} is owned by\n",
      "tensor(10.0703, device='cuda:0', dtype=torch.float16) tensor(70.6250, device='cuda:0', dtype=torch.float16)\n",
      "\n",
      "subject:  Orkut\n",
      "Abarth is owned by Fiat.\n",
      "Amazon Music is owned by Amazon.\n",
      "Yahoo Search is owned by Yahoo.\n",
      "{} is owned by\n",
      "tensor(22.1406, device='cuda:0', dtype=torch.float16) tensor(36.8750, device='cuda:0', dtype=torch.float16)\n",
      "\n"
     ]
    },
    {
     "data": {
      "application/vnd.jupyter.widget-view+json": {
       "model_id": "93bff33e83644b27b7f72037db2589b1",
       "version_major": 2,
       "version_minor": 0
      },
      "text/plain": [
       "  0%|          | 0/5 [00:00<?, ?it/s]"
      ]
     },
     "metadata": {},
     "output_type": "display_data"
    },
    {
     "name": "stdout",
     "output_type": "stream",
     "text": [
      "subject:  Betacam\n",
      "Nintendo Software Technology is owned by Nintendo.\n",
      "Mojang is owned by Microsoft.\n",
      "Behance is owned by Adobe.\n",
      "{} is owned by\n",
      "tensor(11.0312, device='cuda:0', dtype=torch.float16) tensor(14.2969, device='cuda:0', dtype=torch.float16)\n",
      "\n",
      "subject:  Behance\n",
      "Nintendo Software Technology is owned by Nintendo.\n",
      "Mojang is owned by Microsoft.\n",
      "Yahoo Search is owned by Yahoo.\n",
      "{} is owned by\n",
      "tensor(15.5703, device='cuda:0', dtype=torch.float16) tensor(14.2891, device='cuda:0', dtype=torch.float16)\n",
      "\n",
      "subject:  Mojang\n",
      "Yahoo Search is owned by Yahoo.\n",
      "Behance is owned by Adobe.\n",
      "Betacam is owned by Sony.\n",
      "{} is owned by\n",
      "tensor(11.6094, device='cuda:0', dtype=torch.float16) tensor(21.4062, device='cuda:0', dtype=torch.float16)\n",
      "\n",
      "subject:  Nintendo Software Technology\n",
      "Behance is owned by Adobe.\n",
      "Yahoo Search is owned by Yahoo.\n",
      "Mojang is owned by Microsoft.\n",
      "{} is owned by\n",
      "tensor(10.1328, device='cuda:0', dtype=torch.float16) tensor(12.7344, device='cuda:0', dtype=torch.float16)\n",
      "\n",
      "subject:  Yahoo Search\n",
      "Behance is owned by Adobe.\n",
      "Betacam is owned by Sony.\n",
      "Mojang is owned by Microsoft.\n",
      "{} is owned by\n",
      "tensor(1.1660, device='cuda:0', dtype=torch.float16) tensor(4.2852, device='cuda:0', dtype=torch.float16)\n",
      "\n"
     ]
    },
    {
     "data": {
      "application/vnd.jupyter.widget-view+json": {
       "model_id": "5c40d7e0758742c8bbbb968f689d2232",
       "version_major": 2,
       "version_minor": 0
      },
      "text/plain": [
       "  0%|          | 0/5 [00:00<?, ?it/s]"
      ]
     },
     "metadata": {},
     "output_type": "display_data"
    },
    {
     "name": "stdout",
     "output_type": "stream",
     "text": [
      "subject:  Yahoo Search\n",
      "Amazon Music is owned by Amazon.\n",
      "Abarth is owned by Fiat.\n",
      "iAd is owned by Apple.\n",
      "{} is owned by\n",
      "tensor(1.1729, device='cuda:0', dtype=torch.float16) tensor(9.5625, device='cuda:0', dtype=torch.float16)\n",
      "\n",
      "subject:  iAd\n",
      "Yahoo Search is owned by Yahoo.\n",
      "Mojang is owned by Microsoft.\n",
      "Abarth is owned by Fiat.\n",
      "{} is owned by\n",
      "tensor(1.2119, device='cuda:0', dtype=torch.float16) tensor(11.2422, device='cuda:0', dtype=torch.float16)\n",
      "\n",
      "subject:  Abarth\n",
      "iAd is owned by Apple.\n",
      "Mojang is owned by Microsoft.\n",
      "Yahoo Search is owned by Yahoo.\n",
      "{} is owned by\n",
      "tensor(6.2773, device='cuda:0', dtype=torch.float16) tensor(9.6797, device='cuda:0', dtype=torch.float16)\n",
      "\n",
      "subject:  Amazon Music\n",
      "Yahoo Search is owned by Yahoo.\n",
      "Abarth is owned by Fiat.\n",
      "Mojang is owned by Microsoft.\n",
      "{} is owned by\n",
      "tensor(9.3438, device='cuda:0', dtype=torch.float16) tensor(16.5781, device='cuda:0', dtype=torch.float16)\n",
      "\n",
      "subject:  Mojang\n",
      "Abarth is owned by Fiat.\n",
      "Yahoo Search is owned by Yahoo.\n",
      "iAd is owned by Apple.\n",
      "{} is owned by\n",
      "tensor(14.0547, device='cuda:0', dtype=torch.float16) tensor(33.2500, device='cuda:0', dtype=torch.float16)\n",
      "\n"
     ]
    },
    {
     "data": {
      "application/vnd.jupyter.widget-view+json": {
       "model_id": "f24745fd93db4eb4a7a2fff89f6bf5a0",
       "version_major": 2,
       "version_minor": 0
      },
      "text/plain": [
       "  0%|          | 0/5 [00:00<?, ?it/s]"
      ]
     },
     "metadata": {},
     "output_type": "display_data"
    },
    {
     "name": "stdout",
     "output_type": "stream",
     "text": [
      "subject:  Betacam\n",
      "Yahoo Search is owned by Yahoo.\n",
      "Amazon Music is owned by Amazon.\n",
      "Cognos is owned by IBM.\n",
      "{} is owned by\n",
      "tensor(9.4609, device='cuda:0', dtype=torch.float16) tensor(15.8203, device='cuda:0', dtype=torch.float16)\n",
      "\n",
      "subject:  Yahoo Search\n",
      "Betacam is owned by Sony.\n",
      "Behance is owned by Adobe.\n",
      "Amazon Music is owned by Amazon.\n",
      "{} is owned by\n",
      "tensor(1.1680, device='cuda:0', dtype=torch.float16) tensor(69.2500, device='cuda:0', dtype=torch.float16)\n",
      "\n",
      "subject:  Amazon Music\n",
      "Cognos is owned by IBM.\n",
      "Yahoo Search is owned by Yahoo.\n",
      "Behance is owned by Adobe.\n",
      "{} is owned by\n",
      "tensor(8.5625, device='cuda:0', dtype=torch.float16) tensor(20.3125, device='cuda:0', dtype=torch.float16)\n",
      "\n",
      "subject:  Behance\n",
      "Yahoo Search is owned by Yahoo.\n",
      "Cognos is owned by IBM.\n",
      "Betacam is owned by Sony.\n",
      "{} is owned by\n",
      "tensor(17.0469, device='cuda:0', dtype=torch.float16) tensor(19.4531, device='cuda:0', dtype=torch.float16)\n",
      "\n",
      "subject:  Cognos\n",
      "Yahoo Search is owned by Yahoo.\n",
      "Amazon Music is owned by Amazon.\n",
      "Betacam is owned by Sony.\n",
      "{} is owned by\n",
      "tensor(18.3125, device='cuda:0', dtype=torch.float16) tensor(25.9219, device='cuda:0', dtype=torch.float16)\n",
      "\n"
     ]
    },
    {
     "data": {
      "application/vnd.jupyter.widget-view+json": {
       "model_id": "a8064164b1b1485fbd100f044c9c9753",
       "version_major": 2,
       "version_minor": 0
      },
      "text/plain": [
       "  0%|          | 0/5 [00:00<?, ?it/s]"
      ]
     },
     "metadata": {},
     "output_type": "display_data"
    },
    {
     "name": "stdout",
     "output_type": "stream",
     "text": [
      "subject:  Behance\n",
      "Nintendo Software Technology is owned by Nintendo.\n",
      "Abarth is owned by Fiat.\n",
      "Amazon Music is owned by Amazon.\n",
      "{} is owned by\n",
      "tensor(20.4062, device='cuda:0', dtype=torch.float16) tensor(18.3281, device='cuda:0', dtype=torch.float16)\n",
      "\n",
      "subject:  Amazon Music\n",
      "Behance is owned by Adobe.\n",
      "Nintendo Software Technology is owned by Nintendo.\n",
      "Cognos is owned by IBM.\n",
      "{} is owned by\n",
      "tensor(11.0547, device='cuda:0', dtype=torch.float16) tensor(14.9141, device='cuda:0', dtype=torch.float16)\n",
      "\n",
      "subject:  Nintendo Software Technology\n",
      "Abarth is owned by Fiat.\n",
      "Behance is owned by Adobe.\n",
      "Amazon Music is owned by Amazon.\n",
      "{} is owned by\n",
      "tensor(13.0703, device='cuda:0', dtype=torch.float16) tensor(29.7812, device='cuda:0', dtype=torch.float16)\n",
      "\n",
      "subject:  Abarth\n",
      "Amazon Music is owned by Amazon.\n",
      "Cognos is owned by IBM.\n",
      "Behance is owned by Adobe.\n",
      "{} is owned by\n",
      "tensor(7.2656, device='cuda:0', dtype=torch.float16) tensor(13.5703, device='cuda:0', dtype=torch.float16)\n",
      "\n",
      "subject:  Cognos\n",
      "Abarth is owned by Fiat.\n",
      "Amazon Music is owned by Amazon.\n",
      "Nintendo Software Technology is owned by Nintendo.\n",
      "{} is owned by\n",
      "tensor(28.6406, device='cuda:0', dtype=torch.float16) tensor(44.5625, device='cuda:0', dtype=torch.float16)\n",
      "\n"
     ]
    },
    {
     "data": {
      "application/vnd.jupyter.widget-view+json": {
       "model_id": "d370494f333a4f28ab90a02db0cae773",
       "version_major": 2,
       "version_minor": 0
      },
      "text/plain": [
       "  0%|          | 0/5 [00:00<?, ?it/s]"
      ]
     },
     "metadata": {},
     "output_type": "display_data"
    },
    {
     "name": "stdout",
     "output_type": "stream",
     "text": [
      "subject:  Mojang\n",
      "Yahoo Search is owned by Yahoo.\n",
      "Orkut is owned by Google.\n",
      "Nintendo Software Technology is owned by Nintendo.\n",
      "{} is owned by\n",
      "tensor(11.6328, device='cuda:0', dtype=torch.float16) tensor(22.4062, device='cuda:0', dtype=torch.float16)\n",
      "\n",
      "subject:  Orkut\n",
      "Yahoo Search is owned by Yahoo.\n",
      "Cognos is owned by IBM.\n",
      "Nintendo Software Technology is owned by Nintendo.\n",
      "{} is owned by\n",
      "tensor(23.2969, device='cuda:0', dtype=torch.float16) tensor(29.2188, device='cuda:0', dtype=torch.float16)\n",
      "\n",
      "subject:  Yahoo Search\n",
      "Mojang is owned by Microsoft.\n",
      "Nintendo Software Technology is owned by Nintendo.\n",
      "Cognos is owned by IBM.\n",
      "{} is owned by\n",
      "tensor(1.6484, device='cuda:0', dtype=torch.float16) tensor(46.4375, device='cuda:0', dtype=torch.float16)\n",
      "\n",
      "subject:  Cognos\n",
      "Mojang is owned by Microsoft.\n",
      "Yahoo Search is owned by Yahoo.\n",
      "Nintendo Software Technology is owned by Nintendo.\n",
      "{} is owned by\n",
      "tensor(18.5469, device='cuda:0', dtype=torch.float16) tensor(52.8750, device='cuda:0', dtype=torch.float16)\n",
      "\n",
      "subject:  Nintendo Software Technology\n",
      "Yahoo Search is owned by Yahoo.\n",
      "Cognos is owned by IBM.\n",
      "Orkut is owned by Google.\n",
      "{} is owned by\n",
      "tensor(10.7344, device='cuda:0', dtype=torch.float16) tensor(17.7500, device='cuda:0', dtype=torch.float16)\n",
      "\n"
     ]
    },
    {
     "data": {
      "application/vnd.jupyter.widget-view+json": {
       "model_id": "aa2d05ebe03e402fb7aced70ec401727",
       "version_major": 2,
       "version_minor": 0
      },
      "text/plain": [
       "  0%|          | 0/5 [00:00<?, ?it/s]"
      ]
     },
     "metadata": {},
     "output_type": "display_data"
    },
    {
     "name": "stdout",
     "output_type": "stream",
     "text": [
      "subject:  Yahoo Search\n",
      "Amazon Music is owned by Amazon.\n",
      "Betacam is owned by Sony.\n",
      "Orkut is owned by Google.\n",
      "{} is owned by\n",
      "tensor(0.9263, device='cuda:0', dtype=torch.float16) tensor(9.5547, device='cuda:0', dtype=torch.float16)\n",
      "\n",
      "subject:  Nintendo Software Technology\n",
      "Betacam is owned by Sony.\n",
      "Amazon Music is owned by Amazon.\n",
      "Orkut is owned by Google.\n",
      "{} is owned by\n",
      "tensor(10.3672, device='cuda:0', dtype=torch.float16) tensor(70.3750, device='cuda:0', dtype=torch.float16)\n",
      "\n",
      "subject:  Orkut\n",
      "Betacam is owned by Sony.\n",
      "Yahoo Search is owned by Yahoo.\n",
      "Nintendo Software Technology is owned by Nintendo.\n",
      "{} is owned by\n",
      "tensor(21.5000, device='cuda:0', dtype=torch.float16) tensor(73.6875, device='cuda:0', dtype=torch.float16)\n",
      "\n",
      "subject:  Betacam\n",
      "Orkut is owned by Google.\n",
      "Yahoo Search is owned by Yahoo.\n",
      "Amazon Music is owned by Amazon.\n",
      "{} is owned by\n",
      "tensor(9.5547, device='cuda:0', dtype=torch.float16) tensor(38.0625, device='cuda:0', dtype=torch.float16)\n",
      "\n",
      "subject:  Amazon Music\n",
      "Betacam is owned by Sony.\n",
      "Yahoo Search is owned by Yahoo.\n",
      "Nintendo Software Technology is owned by Nintendo.\n",
      "{} is owned by\n",
      "tensor(13.4219, device='cuda:0', dtype=torch.float16) tensor(70.5625, device='cuda:0', dtype=torch.float16)\n",
      "\n"
     ]
    },
    {
     "data": {
      "application/vnd.jupyter.widget-view+json": {
       "model_id": "21e6c17f84e547bda776db1a3d1f8ab8",
       "version_major": 2,
       "version_minor": 0
      },
      "text/plain": [
       "  0%|          | 0/5 [00:00<?, ?it/s]"
      ]
     },
     "metadata": {},
     "output_type": "display_data"
    },
    {
     "name": "stdout",
     "output_type": "stream",
     "text": [
      "subject:  Amazon Music\n",
      "Behance is owned by Adobe.\n",
      "Betacam is owned by Sony.\n",
      "Nintendo Software Technology is owned by Nintendo.\n",
      "{} is owned by\n",
      "tensor(11.1328, device='cuda:0', dtype=torch.float16) tensor(13.8438, device='cuda:0', dtype=torch.float16)\n",
      "\n",
      "subject:  Behance\n",
      "Betacam is owned by Sony.\n",
      "Nintendo Software Technology is owned by Nintendo.\n",
      "Yahoo Search is owned by Yahoo.\n",
      "{} is owned by\n",
      "tensor(14.5469, device='cuda:0', dtype=torch.float16) tensor(70.5625, device='cuda:0', dtype=torch.float16)\n",
      "\n",
      "subject:  Yahoo Search\n",
      "Behance is owned by Adobe.\n",
      "Amazon Music is owned by Amazon.\n",
      "Nintendo Software Technology is owned by Nintendo.\n",
      "{} is owned by\n",
      "tensor(1.5215, device='cuda:0', dtype=torch.float16) tensor(4.2344, device='cuda:0', dtype=torch.float16)\n",
      "\n",
      "subject:  Betacam\n",
      "Behance is owned by Adobe.\n",
      "Yahoo Search is owned by Yahoo.\n",
      "Nintendo Software Technology is owned by Nintendo.\n",
      "{} is owned by\n",
      "tensor(12.8047, device='cuda:0', dtype=torch.float16) tensor(16.3906, device='cuda:0', dtype=torch.float16)\n",
      "\n",
      "subject:  Nintendo Software Technology\n",
      "Betacam is owned by Sony.\n",
      "Amazon Music is owned by Amazon.\n",
      "Behance is owned by Adobe.\n",
      "{} is owned by\n",
      "tensor(10.3984, device='cuda:0', dtype=torch.float16) tensor(70.2500, device='cuda:0', dtype=torch.float16)\n",
      "\n"
     ]
    },
    {
     "data": {
      "application/vnd.jupyter.widget-view+json": {
       "model_id": "c993ce6c44544e7bb5442b0bbb51a103",
       "version_major": 2,
       "version_minor": 0
      },
      "text/plain": [
       "  0%|          | 0/5 [00:00<?, ?it/s]"
      ]
     },
     "metadata": {},
     "output_type": "display_data"
    },
    {
     "name": "stdout",
     "output_type": "stream",
     "text": [
      "subject:  Orkut\n",
      "iAd is owned by Apple.\n",
      "Betacam is owned by Sony.\n",
      "Mojang is owned by Microsoft.\n",
      "{} is owned by\n",
      "tensor(15.2031, device='cuda:0', dtype=torch.float16) tensor(20.4062, device='cuda:0', dtype=torch.float16)\n",
      "\n",
      "subject:  Betacam\n",
      "Yahoo Search is owned by Yahoo.\n",
      "iAd is owned by Apple.\n",
      "Mojang is owned by Microsoft.\n",
      "{} is owned by\n",
      "tensor(8.8438, device='cuda:0', dtype=torch.float16) tensor(15.0781, device='cuda:0', dtype=torch.float16)\n",
      "\n",
      "subject:  Mojang\n",
      "Betacam is owned by Sony.\n",
      "Orkut is owned by Google.\n",
      "iAd is owned by Apple.\n",
      "{} is owned by\n",
      "tensor(10.9062, device='cuda:0', dtype=torch.float16) tensor(71.1875, device='cuda:0', dtype=torch.float16)\n",
      "\n",
      "subject:  iAd\n",
      "Betacam is owned by Sony.\n",
      "Yahoo Search is owned by Yahoo.\n",
      "Orkut is owned by Google.\n",
      "{} is owned by\n",
      "tensor(1.1963, device='cuda:0', dtype=torch.float16) tensor(69.2500, device='cuda:0', dtype=torch.float16)\n",
      "\n",
      "subject:  Yahoo Search\n",
      "iAd is owned by Apple.\n",
      "Betacam is owned by Sony.\n",
      "Orkut is owned by Google.\n",
      "{} is owned by\n",
      "tensor(0.9058, device='cuda:0', dtype=torch.float16) tensor(5.8320, device='cuda:0', dtype=torch.float16)\n",
      "\n"
     ]
    },
    {
     "data": {
      "application/vnd.jupyter.widget-view+json": {
       "model_id": "79b1161e9ff84574a699158927db8c1a",
       "version_major": 2,
       "version_minor": 0
      },
      "text/plain": [
       "  0%|          | 0/5 [00:00<?, ?it/s]"
      ]
     },
     "metadata": {},
     "output_type": "display_data"
    },
    {
     "name": "stdout",
     "output_type": "stream",
     "text": [
      "subject:  Amazon Music\n",
      "Nintendo Software Technology is owned by Nintendo.\n",
      "Cognos is owned by IBM.\n",
      "iAd is owned by Apple.\n",
      "{} is owned by\n",
      "tensor(10.7344, device='cuda:0', dtype=torch.float16) tensor(12.2109, device='cuda:0', dtype=torch.float16)\n",
      "\n",
      "subject:  Mojang\n",
      "Amazon Music is owned by Amazon.\n",
      "iAd is owned by Apple.\n",
      "Cognos is owned by IBM.\n",
      "{} is owned by\n",
      "tensor(12.2344, device='cuda:0', dtype=torch.float16) tensor(19.8281, device='cuda:0', dtype=torch.float16)\n",
      "\n",
      "subject:  Nintendo Software Technology\n",
      "Cognos is owned by IBM.\n",
      "Amazon Music is owned by Amazon.\n",
      "iAd is owned by Apple.\n",
      "{} is owned by\n",
      "tensor(10.7109, device='cuda:0', dtype=torch.float16) tensor(19.4375, device='cuda:0', dtype=torch.float16)\n",
      "\n",
      "subject:  iAd\n",
      "Amazon Music is owned by Amazon.\n",
      "Nintendo Software Technology is owned by Nintendo.\n",
      "Cognos is owned by IBM.\n",
      "{} is owned by\n",
      "tensor(1.9346, device='cuda:0', dtype=torch.float16) tensor(9.6094, device='cuda:0', dtype=torch.float16)\n",
      "\n",
      "subject:  Cognos\n",
      "Nintendo Software Technology is owned by Nintendo.\n",
      "iAd is owned by Apple.\n",
      "Mojang is owned by Microsoft.\n",
      "{} is owned by\n",
      "tensor(18.3594, device='cuda:0', dtype=torch.float16) tensor(25.7344, device='cuda:0', dtype=torch.float16)\n",
      "\n",
      "Saving weights and biases >>  gpt-j/jacobians_averaged_collection/after__ln_f/P127.npz\n",
      "----------------------------------------------------\n",
      "zzzzzzzzzzzzzzzzzzzzzzzzzzzzzzzzzzzzzzzzzzzzzzzzzzzz\n",
      "P159 The headquarter of {} is located in\n",
      "zzzzzzzzzzzzzzzzzzzzzzzzzzzzzzzzzzzzzzzzzzzzzzzzzzzz\n",
      "157\n",
      "The headquarter of {} is located in\n"
     ]
    },
    {
     "data": {
      "application/vnd.jupyter.widget-view+json": {
       "model_id": "ad4cc6d04dfa4bb694bbdf8725071b5e",
       "version_major": 2,
       "version_minor": 0
      },
      "text/plain": [
       "  0%|          | 0/10 [00:00<?, ?it/s]"
      ]
     },
     "metadata": {},
     "output_type": "display_data"
    },
    {
     "data": {
      "application/vnd.jupyter.widget-view+json": {
       "model_id": "e22a3709da954bd893e13e1fa4a06e48",
       "version_major": 2,
       "version_minor": 0
      },
      "text/plain": [
       "  0%|          | 0/5 [00:00<?, ?it/s]"
      ]
     },
     "metadata": {},
     "output_type": "display_data"
    },
    {
     "name": "stdout",
     "output_type": "stream",
     "text": [
      "subject:  ChemAxon\n",
      "The headquarter of Ericsson is located in Stockholm.\n",
      "The headquarter of Serono is located in Geneva.\n",
      "The headquarter of Lenovo is located in Beijing.\n",
      "The headquarter of {} is located in\n",
      "tensor(23.6719, device='cuda:0', dtype=torch.float16) tensor(18.6406, device='cuda:0', dtype=torch.float16)\n",
      "\n",
      "subject:  Ericsson\n",
      "The headquarter of ChemAxon is located in Budapest.\n",
      "The headquarter of Lenovo is located in Beijing.\n",
      "The headquarter of Stelco is located in Hamilton.\n",
      "The headquarter of {} is located in\n",
      "tensor(22.6406, device='cuda:0', dtype=torch.float16) tensor(20.1250, device='cuda:0', dtype=torch.float16)\n",
      "\n",
      "subject:  Serono\n",
      "The headquarter of Ericsson is located in Stockholm.\n",
      "The headquarter of Lenovo is located in Beijing.\n",
      "The headquarter of Stelco is located in Hamilton.\n",
      "The headquarter of {} is located in\n",
      "tensor(33.2188, device='cuda:0', dtype=torch.float16) tensor(24.1250, device='cuda:0', dtype=torch.float16)\n",
      "\n",
      "subject:  Lenovo\n",
      "The headquarter of Ericsson is located in Stockholm.\n",
      "The headquarter of Stelco is located in Hamilton.\n",
      "The headquarter of Serono is located in Geneva.\n",
      "The headquarter of {} is located in\n",
      "tensor(32.4062, device='cuda:0', dtype=torch.float16) tensor(22.9219, device='cuda:0', dtype=torch.float16)\n",
      "\n",
      "subject:  Stelco\n",
      "The headquarter of Lenovo is located in Beijing.\n",
      "The headquarter of ChemAxon is located in Budapest.\n",
      "The headquarter of Serono is located in Geneva.\n",
      "The headquarter of {} is located in\n",
      "CUDA out of memory\n",
      "trying with smaller icl >>  2\n"
     ]
    },
    {
     "data": {
      "application/vnd.jupyter.widget-view+json": {
       "model_id": "66cafa02a11f439c84f66c8602c66ea5",
       "version_major": 2,
       "version_minor": 0
      },
      "text/plain": [
       "  0%|          | 0/5 [00:00<?, ?it/s]"
      ]
     },
     "metadata": {},
     "output_type": "display_data"
    },
    {
     "name": "stdout",
     "output_type": "stream",
     "text": [
      "subject:  ChemAxon\n",
      "The headquarter of Ericsson is located in Stockholm.\n",
      "The headquarter of Stelco is located in Hamilton.\n",
      "The headquarter of {} is located in\n",
      "tensor(24.0469, device='cuda:0', dtype=torch.float16) tensor(19.4375, device='cuda:0', dtype=torch.float16)\n",
      "\n",
      "subject:  Ericsson\n",
      "The headquarter of Lenovo is located in Beijing.\n",
      "The headquarter of ChemAxon is located in Budapest.\n",
      "The headquarter of {} is located in\n",
      "tensor(22.2188, device='cuda:0', dtype=torch.float16) tensor(18.8750, device='cuda:0', dtype=torch.float16)\n",
      "\n",
      "subject:  Serono\n",
      "The headquarter of ChemAxon is located in Budapest.\n",
      "The headquarter of Stelco is located in Hamilton.\n",
      "The headquarter of {} is located in\n",
      "tensor(31.0781, device='cuda:0', dtype=torch.float16) tensor(22.1250, device='cuda:0', dtype=torch.float16)\n",
      "\n",
      "subject:  Lenovo\n",
      "The headquarter of Serono is located in Geneva.\n",
      "The headquarter of Ericsson is located in Stockholm.\n",
      "The headquarter of {} is located in\n",
      "tensor(29.5469, device='cuda:0', dtype=torch.float16) tensor(21.8750, device='cuda:0', dtype=torch.float16)\n",
      "\n",
      "subject:  Stelco\n",
      "The headquarter of ChemAxon is located in Budapest.\n",
      "The headquarter of Serono is located in Geneva.\n",
      "The headquarter of {} is located in\n",
      "tensor(12.3359, device='cuda:0', dtype=torch.float16) tensor(8.7891, device='cuda:0', dtype=torch.float16)\n",
      "\n"
     ]
    },
    {
     "data": {
      "application/vnd.jupyter.widget-view+json": {
       "model_id": "b34d1f3c3a604ae88dbfdbada7b0a0ec",
       "version_major": 2,
       "version_minor": 0
      },
      "text/plain": [
       "  0%|          | 0/5 [00:00<?, ?it/s]"
      ]
     },
     "metadata": {},
     "output_type": "display_data"
    },
    {
     "name": "stdout",
     "output_type": "stream",
     "text": [
      "subject:  Interpol\n",
      "The headquarter of Stelco is located in Hamilton.\n",
      "The headquarter of SoundCloud is located in Berlin.\n",
      "The headquarter of Ericsson is located in Stockholm.\n",
      "The headquarter of {} is located in\n",
      "tensor(37.5312, device='cuda:0', dtype=torch.float16) tensor(18.6875, device='cuda:0', dtype=torch.float16)\n",
      "\n",
      "subject:  Stelco\n",
      "The headquarter of SoundCloud is located in Berlin.\n",
      "The headquarter of Ericsson is located in Stockholm.\n",
      "The headquarter of Interpol is located in Lyon.\n",
      "The headquarter of {} is located in\n",
      "tensor(17.7500, device='cuda:0', dtype=torch.float16) tensor(12.4844, device='cuda:0', dtype=torch.float16)\n",
      "\n",
      "subject:  Ericsson\n",
      "The headquarter of Stelco is located in Hamilton.\n",
      "The headquarter of SoundCloud is located in Berlin.\n",
      "The headquarter of Interpol is located in Lyon.\n",
      "The headquarter of {} is located in\n",
      "tensor(25.2500, device='cuda:0', dtype=torch.float16) tensor(21.0781, device='cuda:0', dtype=torch.float16)\n",
      "\n",
      "subject:  United Airlines\n",
      "The headquarter of SoundCloud is located in Berlin.\n",
      "The headquarter of Interpol is located in Lyon.\n",
      "The headquarter of Ericsson is located in Stockholm.\n",
      "The headquarter of {} is located in\n",
      "tensor(22.5000, device='cuda:0', dtype=torch.float16) tensor(17.7188, device='cuda:0', dtype=torch.float16)\n",
      "\n",
      "subject:  SoundCloud\n",
      "The headquarter of Stelco is located in Hamilton.\n",
      "The headquarter of Interpol is located in Lyon.\n",
      "The headquarter of United Airlines is located in Chicago.\n",
      "The headquarter of {} is located in\n",
      "CUDA out of memory\n",
      "trying with smaller icl >>  2\n"
     ]
    },
    {
     "data": {
      "application/vnd.jupyter.widget-view+json": {
       "model_id": "b55a9b78e7a04df9a42a7de59e56d606",
       "version_major": 2,
       "version_minor": 0
      },
      "text/plain": [
       "  0%|          | 0/5 [00:00<?, ?it/s]"
      ]
     },
     "metadata": {},
     "output_type": "display_data"
    },
    {
     "name": "stdout",
     "output_type": "stream",
     "text": [
      "subject:  Interpol\n",
      "The headquarter of Stelco is located in Hamilton.\n",
      "The headquarter of United Airlines is located in Chicago.\n",
      "The headquarter of {} is located in\n",
      "tensor(40.7500, device='cuda:0', dtype=torch.float16) tensor(16.2656, device='cuda:0', dtype=torch.float16)\n",
      "\n",
      "subject:  Stelco\n",
      "The headquarter of Ericsson is located in Stockholm.\n",
      "The headquarter of SoundCloud is located in Berlin.\n",
      "The headquarter of {} is located in\n",
      "tensor(18.1719, device='cuda:0', dtype=torch.float16) tensor(13.4453, device='cuda:0', dtype=torch.float16)\n",
      "\n",
      "subject:  Ericsson\n",
      "The headquarter of SoundCloud is located in Berlin.\n",
      "The headquarter of Interpol is located in Lyon.\n",
      "The headquarter of {} is located in\n",
      "tensor(22.9219, device='cuda:0', dtype=torch.float16) tensor(18.1406, device='cuda:0', dtype=torch.float16)\n",
      "\n",
      "subject:  United Airlines\n",
      "The headquarter of Ericsson is located in Stockholm.\n",
      "The headquarter of Stelco is located in Hamilton.\n",
      "The headquarter of {} is located in\n",
      "tensor(23.2812, device='cuda:0', dtype=torch.float16) tensor(16.4062, device='cuda:0', dtype=torch.float16)\n",
      "\n",
      "subject:  SoundCloud\n",
      "The headquarter of Interpol is located in Lyon.\n",
      "The headquarter of United Airlines is located in Chicago.\n",
      "The headquarter of {} is located in\n",
      "tensor(26.6562, device='cuda:0', dtype=torch.float16) tensor(16.3438, device='cuda:0', dtype=torch.float16)\n",
      "\n"
     ]
    },
    {
     "data": {
      "application/vnd.jupyter.widget-view+json": {
       "model_id": "67d09d7d76cc445ca4791e9f03777872",
       "version_major": 2,
       "version_minor": 0
      },
      "text/plain": [
       "  0%|          | 0/5 [00:00<?, ?it/s]"
      ]
     },
     "metadata": {},
     "output_type": "display_data"
    },
    {
     "name": "stdout",
     "output_type": "stream",
     "text": [
      "subject:  Stelco\n",
      "The headquarter of Interpol is located in Lyon.\n",
      "The headquarter of Ericsson is located in Stockholm.\n",
      "The headquarter of The Weather Channel is located in Atlanta.\n",
      "The headquarter of {} is located in\n",
      "CUDA out of memory\n",
      "trying with smaller icl >>  2\n"
     ]
    },
    {
     "data": {
      "application/vnd.jupyter.widget-view+json": {
       "model_id": "8cebe5f7202e4fc1bbcc009f5177247c",
       "version_major": 2,
       "version_minor": 0
      },
      "text/plain": [
       "  0%|          | 0/5 [00:00<?, ?it/s]"
      ]
     },
     "metadata": {},
     "output_type": "display_data"
    },
    {
     "name": "stdout",
     "output_type": "stream",
     "text": [
      "subject:  Stelco\n",
      "The headquarter of Interpol is located in Lyon.\n",
      "The headquarter of Lenovo is located in Beijing.\n",
      "The headquarter of {} is located in\n",
      "tensor(19.9688, device='cuda:0', dtype=torch.float16) tensor(14.1953, device='cuda:0', dtype=torch.float16)\n",
      "\n",
      "subject:  Lenovo\n",
      "The headquarter of Ericsson is located in Stockholm.\n",
      "The headquarter of Stelco is located in Hamilton.\n",
      "The headquarter of {} is located in\n",
      "tensor(30.7812, device='cuda:0', dtype=torch.float16) tensor(21.3750, device='cuda:0', dtype=torch.float16)\n",
      "\n",
      "subject:  Interpol\n",
      "The headquarter of Stelco is located in Hamilton.\n",
      "The headquarter of Lenovo is located in Beijing.\n",
      "The headquarter of {} is located in\n",
      "tensor(37.6562, device='cuda:0', dtype=torch.float16) tensor(14.8750, device='cuda:0', dtype=torch.float16)\n",
      "\n",
      "subject:  Ericsson\n",
      "The headquarter of The Weather Channel is located in Atlanta.\n",
      "The headquarter of Interpol is located in Lyon.\n",
      "The headquarter of {} is located in\n",
      "tensor(25.3594, device='cuda:0', dtype=torch.float16) tensor(20.2500, device='cuda:0', dtype=torch.float16)\n",
      "\n",
      "subject:  The Weather Channel\n",
      "The headquarter of Interpol is located in Lyon.\n",
      "The headquarter of Ericsson is located in Stockholm.\n",
      "The headquarter of {} is located in\n",
      "tensor(21.7031, device='cuda:0', dtype=torch.float16) tensor(13.9062, device='cuda:0', dtype=torch.float16)\n",
      "\n"
     ]
    },
    {
     "data": {
      "application/vnd.jupyter.widget-view+json": {
       "model_id": "c409e8dab4254f81836d76fe32cdc349",
       "version_major": 2,
       "version_minor": 0
      },
      "text/plain": [
       "  0%|          | 0/5 [00:00<?, ?it/s]"
      ]
     },
     "metadata": {},
     "output_type": "display_data"
    },
    {
     "name": "stdout",
     "output_type": "stream",
     "text": [
      "subject:  Serono\n",
      "The headquarter of SoundCloud is located in Berlin.\n",
      "The headquarter of LG Chem is located in Seoul.\n",
      "The headquarter of United Airlines is located in Chicago.\n",
      "The headquarter of {} is located in\n",
      "tensor(36., device='cuda:0', dtype=torch.float16) tensor(25.4062, device='cuda:0', dtype=torch.float16)\n",
      "\n",
      "subject:  United Airlines\n",
      "The headquarter of Ericsson is located in Stockholm.\n",
      "The headquarter of Serono is located in Geneva.\n",
      "The headquarter of LG Chem is located in Seoul.\n",
      "The headquarter of {} is located in\n",
      "tensor(27.0312, device='cuda:0', dtype=torch.float16) tensor(20., device='cuda:0', dtype=torch.float16)\n",
      "\n",
      "subject:  Ericsson\n",
      "The headquarter of SoundCloud is located in Berlin.\n",
      "The headquarter of Serono is located in Geneva.\n",
      "The headquarter of LG Chem is located in Seoul.\n",
      "The headquarter of {} is located in\n",
      "tensor(23.3438, device='cuda:0', dtype=torch.float16) tensor(20.2344, device='cuda:0', dtype=torch.float16)\n",
      "\n",
      "subject:  SoundCloud\n",
      "The headquarter of United Airlines is located in Chicago.\n",
      "The headquarter of Ericsson is located in Stockholm.\n",
      "The headquarter of Serono is located in Geneva.\n",
      "The headquarter of {} is located in\n",
      "tensor(27.1094, device='cuda:0', dtype=torch.float16) tensor(17.4844, device='cuda:0', dtype=torch.float16)\n",
      "\n",
      "subject:  LG Chem\n",
      "The headquarter of SoundCloud is located in Berlin.\n",
      "The headquarter of Serono is located in Geneva.\n",
      "The headquarter of United Airlines is located in Chicago.\n",
      "The headquarter of {} is located in\n",
      "tensor(14.5859, device='cuda:0', dtype=torch.float16) tensor(11.7500, device='cuda:0', dtype=torch.float16)\n",
      "\n"
     ]
    },
    {
     "data": {
      "application/vnd.jupyter.widget-view+json": {
       "model_id": "e4ad30ae66244ff2b7a4a5faac2a8131",
       "version_major": 2,
       "version_minor": 0
      },
      "text/plain": [
       "  0%|          | 0/5 [00:00<?, ?it/s]"
      ]
     },
     "metadata": {},
     "output_type": "display_data"
    },
    {
     "name": "stdout",
     "output_type": "stream",
     "text": [
      "subject:  Serono\n",
      "The headquarter of Ericsson is located in Stockholm.\n",
      "The headquarter of The Weather Channel is located in Atlanta.\n",
      "The headquarter of LG Chem is located in Seoul.\n",
      "The headquarter of {} is located in\n",
      "tensor(35.7188, device='cuda:0', dtype=torch.float16) tensor(26.5625, device='cuda:0', dtype=torch.float16)\n",
      "\n",
      "subject:  The Weather Channel\n",
      "The headquarter of Ericsson is located in Stockholm.\n",
      "The headquarter of Lenovo is located in Beijing.\n",
      "The headquarter of Serono is located in Geneva.\n",
      "The headquarter of {} is located in\n",
      "tensor(22.9531, device='cuda:0', dtype=torch.float16) tensor(13.6484, device='cuda:0', dtype=torch.float16)\n",
      "\n",
      "subject:  Lenovo\n",
      "The headquarter of Ericsson is located in Stockholm.\n",
      "The headquarter of LG Chem is located in Seoul.\n",
      "The headquarter of Serono is located in Geneva.\n",
      "The headquarter of {} is located in\n",
      "tensor(31.9688, device='cuda:0', dtype=torch.float16) tensor(26.1719, device='cuda:0', dtype=torch.float16)\n",
      "\n",
      "subject:  Ericsson\n",
      "The headquarter of The Weather Channel is located in Atlanta.\n",
      "The headquarter of Serono is located in Geneva.\n",
      "The headquarter of LG Chem is located in Seoul.\n",
      "The headquarter of {} is located in\n",
      "CUDA out of memory\n",
      "trying with smaller icl >>  2\n"
     ]
    },
    {
     "data": {
      "application/vnd.jupyter.widget-view+json": {
       "model_id": "095377076bf94acbbf1749849f6085d1",
       "version_major": 2,
       "version_minor": 0
      },
      "text/plain": [
       "  0%|          | 0/5 [00:00<?, ?it/s]"
      ]
     },
     "metadata": {},
     "output_type": "display_data"
    },
    {
     "name": "stdout",
     "output_type": "stream",
     "text": [
      "subject:  Serono\n",
      "The headquarter of Ericsson is located in Stockholm.\n",
      "The headquarter of LG Chem is located in Seoul.\n",
      "The headquarter of {} is located in\n",
      "tensor(34.5000, device='cuda:0', dtype=torch.float16) tensor(26.2031, device='cuda:0', dtype=torch.float16)\n",
      "\n",
      "subject:  The Weather Channel\n",
      "The headquarter of Serono is located in Geneva.\n",
      "The headquarter of LG Chem is located in Seoul.\n",
      "The headquarter of {} is located in\n",
      "tensor(24.0938, device='cuda:0', dtype=torch.float16) tensor(13.4062, device='cuda:0', dtype=torch.float16)\n",
      "\n",
      "subject:  Lenovo\n",
      "The headquarter of LG Chem is located in Seoul.\n",
      "The headquarter of Serono is located in Geneva.\n",
      "The headquarter of {} is located in\n",
      "tensor(33.2188, device='cuda:0', dtype=torch.float16) tensor(25.4375, device='cuda:0', dtype=torch.float16)\n",
      "\n",
      "subject:  Ericsson\n",
      "The headquarter of Serono is located in Geneva.\n",
      "The headquarter of The Weather Channel is located in Atlanta.\n",
      "The headquarter of {} is located in\n",
      "tensor(24.8906, device='cuda:0', dtype=torch.float16) tensor(20.5469, device='cuda:0', dtype=torch.float16)\n",
      "\n",
      "subject:  LG Chem\n",
      "The headquarter of Serono is located in Geneva.\n",
      "The headquarter of The Weather Channel is located in Atlanta.\n",
      "The headquarter of {} is located in\n",
      "tensor(16.1406, device='cuda:0', dtype=torch.float16) tensor(11.8359, device='cuda:0', dtype=torch.float16)\n",
      "\n"
     ]
    },
    {
     "data": {
      "application/vnd.jupyter.widget-view+json": {
       "model_id": "8aa9732671f74ea4b01bbd9cc88806d9",
       "version_major": 2,
       "version_minor": 0
      },
      "text/plain": [
       "  0%|          | 0/5 [00:00<?, ?it/s]"
      ]
     },
     "metadata": {},
     "output_type": "display_data"
    },
    {
     "name": "stdout",
     "output_type": "stream",
     "text": [
      "subject:  Lenovo\n",
      "The headquarter of ChemAxon is located in Budapest.\n",
      "The headquarter of SoundCloud is located in Berlin.\n",
      "The headquarter of Serono is located in Geneva.\n",
      "The headquarter of {} is located in\n",
      "CUDA out of memory\n",
      "trying with smaller icl >>  2\n"
     ]
    },
    {
     "data": {
      "application/vnd.jupyter.widget-view+json": {
       "model_id": "326d6e6ab5e8404aa4d4b539b8999195",
       "version_major": 2,
       "version_minor": 0
      },
      "text/plain": [
       "  0%|          | 0/5 [00:00<?, ?it/s]"
      ]
     },
     "metadata": {},
     "output_type": "display_data"
    },
    {
     "name": "stdout",
     "output_type": "stream",
     "text": [
      "subject:  Lenovo\n",
      "The headquarter of Serono is located in Geneva.\n",
      "The headquarter of Interpol is located in Lyon.\n",
      "The headquarter of {} is located in\n",
      "tensor(30.5938, device='cuda:0', dtype=torch.float16) tensor(21.8125, device='cuda:0', dtype=torch.float16)\n",
      "\n",
      "subject:  SoundCloud\n",
      "The headquarter of Interpol is located in Lyon.\n",
      "The headquarter of Serono is located in Geneva.\n",
      "The headquarter of {} is located in\n",
      "tensor(23.5625, device='cuda:0', dtype=torch.float16) tensor(16.5625, device='cuda:0', dtype=torch.float16)\n",
      "\n",
      "subject:  ChemAxon\n",
      "The headquarter of Serono is located in Geneva.\n",
      "The headquarter of Interpol is located in Lyon.\n",
      "The headquarter of {} is located in\n",
      "tensor(25.6250, device='cuda:0', dtype=torch.float16) tensor(19.1094, device='cuda:0', dtype=torch.float16)\n",
      "\n",
      "subject:  Interpol\n",
      "The headquarter of SoundCloud is located in Berlin.\n",
      "The headquarter of Serono is located in Geneva.\n",
      "The headquarter of {} is located in\n",
      "tensor(38.6875, device='cuda:0', dtype=torch.float16) tensor(18.1719, device='cuda:0', dtype=torch.float16)\n",
      "\n",
      "subject:  Serono\n",
      "The headquarter of SoundCloud is located in Berlin.\n",
      "The headquarter of Lenovo is located in Beijing.\n",
      "The headquarter of {} is located in\n",
      "tensor(32.0938, device='cuda:0', dtype=torch.float16) tensor(23.2344, device='cuda:0', dtype=torch.float16)\n",
      "\n"
     ]
    },
    {
     "data": {
      "application/vnd.jupyter.widget-view+json": {
       "model_id": "65fcd9bcca4241f98be13bd8730ec275",
       "version_major": 2,
       "version_minor": 0
      },
      "text/plain": [
       "  0%|          | 0/5 [00:00<?, ?it/s]"
      ]
     },
     "metadata": {},
     "output_type": "display_data"
    },
    {
     "name": "stdout",
     "output_type": "stream",
     "text": [
      "subject:  Interpol\n",
      "The headquarter of United Airlines is located in Chicago.\n",
      "The headquarter of Ericsson is located in Stockholm.\n",
      "The headquarter of Lenovo is located in Beijing.\n",
      "The headquarter of {} is located in\n",
      "CUDA out of memory\n",
      "trying with smaller icl >>  2\n"
     ]
    },
    {
     "data": {
      "application/vnd.jupyter.widget-view+json": {
       "model_id": "b0a0152f0c374c0ba253e8bc8ea1faf9",
       "version_major": 2,
       "version_minor": 0
      },
      "text/plain": [
       "  0%|          | 0/5 [00:00<?, ?it/s]"
      ]
     },
     "metadata": {},
     "output_type": "display_data"
    },
    {
     "name": "stdout",
     "output_type": "stream",
     "text": [
      "subject:  Interpol\n",
      "The headquarter of United Airlines is located in Chicago.\n",
      "The headquarter of Lenovo is located in Beijing.\n",
      "The headquarter of {} is located in\n",
      "tensor(38.2812, device='cuda:0', dtype=torch.float16) tensor(16.1406, device='cuda:0', dtype=torch.float16)\n",
      "\n",
      "subject:  United Airlines\n",
      "The headquarter of Lenovo is located in Beijing.\n",
      "The headquarter of Stelco is located in Hamilton.\n",
      "The headquarter of {} is located in\n",
      "tensor(21.6875, device='cuda:0', dtype=torch.float16) tensor(17.0156, device='cuda:0', dtype=torch.float16)\n",
      "\n",
      "subject:  Ericsson\n",
      "The headquarter of United Airlines is located in Chicago.\n",
      "The headquarter of Lenovo is located in Beijing.\n",
      "The headquarter of {} is located in\n",
      "tensor(22.2344, device='cuda:0', dtype=torch.float16) tensor(18.2812, device='cuda:0', dtype=torch.float16)\n",
      "\n",
      "subject:  Lenovo\n",
      "The headquarter of Ericsson is located in Stockholm.\n",
      "The headquarter of Stelco is located in Hamilton.\n",
      "The headquarter of {} is located in\n",
      "tensor(30.7812, device='cuda:0', dtype=torch.float16) tensor(21.3750, device='cuda:0', dtype=torch.float16)\n",
      "\n",
      "subject:  Stelco\n",
      "The headquarter of Ericsson is located in Stockholm.\n",
      "The headquarter of Lenovo is located in Beijing.\n",
      "The headquarter of {} is located in\n",
      "tensor(20.3906, device='cuda:0', dtype=torch.float16) tensor(14.7031, device='cuda:0', dtype=torch.float16)\n",
      "\n"
     ]
    },
    {
     "data": {
      "application/vnd.jupyter.widget-view+json": {
       "model_id": "75fb232919be4084bde355ef6d6eff76",
       "version_major": 2,
       "version_minor": 0
      },
      "text/plain": [
       "  0%|          | 0/5 [00:00<?, ?it/s]"
      ]
     },
     "metadata": {},
     "output_type": "display_data"
    },
    {
     "name": "stdout",
     "output_type": "stream",
     "text": [
      "subject:  ChemAxon\n",
      "The headquarter of Stelco is located in Hamilton.\n",
      "The headquarter of United Airlines is located in Chicago.\n",
      "The headquarter of LG Chem is located in Seoul.\n",
      "The headquarter of {} is located in\n",
      "CUDA out of memory\n",
      "trying with smaller icl >>  2\n"
     ]
    },
    {
     "data": {
      "application/vnd.jupyter.widget-view+json": {
       "model_id": "ea8e0fb38fc84c779ac11443cb57ee85",
       "version_major": 2,
       "version_minor": 0
      },
      "text/plain": [
       "  0%|          | 0/5 [00:00<?, ?it/s]"
      ]
     },
     "metadata": {},
     "output_type": "display_data"
    },
    {
     "name": "stdout",
     "output_type": "stream",
     "text": [
      "subject:  ChemAxon\n",
      "The headquarter of Interpol is located in Lyon.\n",
      "The headquarter of United Airlines is located in Chicago.\n",
      "The headquarter of {} is located in\n",
      "tensor(24.9531, device='cuda:0', dtype=torch.float16) tensor(19.5156, device='cuda:0', dtype=torch.float16)\n",
      "\n",
      "subject:  United Airlines\n",
      "The headquarter of Stelco is located in Hamilton.\n",
      "The headquarter of Interpol is located in Lyon.\n",
      "The headquarter of {} is located in\n",
      "tensor(22.1094, device='cuda:0', dtype=torch.float16) tensor(14.7031, device='cuda:0', dtype=torch.float16)\n",
      "\n",
      "subject:  Stelco\n",
      "The headquarter of United Airlines is located in Chicago.\n",
      "The headquarter of LG Chem is located in Seoul.\n",
      "The headquarter of {} is located in\n",
      "tensor(25.0156, device='cuda:0', dtype=torch.float16) tensor(16.3125, device='cuda:0', dtype=torch.float16)\n",
      "\n",
      "subject:  Interpol\n",
      "The headquarter of LG Chem is located in Seoul.\n",
      "The headquarter of United Airlines is located in Chicago.\n",
      "The headquarter of {} is located in\n",
      "tensor(41.3125, device='cuda:0', dtype=torch.float16) tensor(18.5469, device='cuda:0', dtype=torch.float16)\n",
      "\n",
      "subject:  LG Chem\n",
      "The headquarter of ChemAxon is located in Budapest.\n",
      "The headquarter of Stelco is located in Hamilton.\n",
      "The headquarter of {} is located in\n",
      "tensor(15.2812, device='cuda:0', dtype=torch.float16) tensor(9.2500, device='cuda:0', dtype=torch.float16)\n",
      "\n"
     ]
    },
    {
     "data": {
      "application/vnd.jupyter.widget-view+json": {
       "model_id": "c2c5ac640c3c4d09b078d44bf5da272c",
       "version_major": 2,
       "version_minor": 0
      },
      "text/plain": [
       "  0%|          | 0/5 [00:00<?, ?it/s]"
      ]
     },
     "metadata": {},
     "output_type": "display_data"
    },
    {
     "name": "stdout",
     "output_type": "stream",
     "text": [
      "subject:  ChemAxon\n",
      "The headquarter of The Weather Channel is located in Atlanta.\n",
      "The headquarter of United Airlines is located in Chicago.\n",
      "The headquarter of SoundCloud is located in Berlin.\n",
      "The headquarter of {} is located in\n",
      "CUDA out of memory\n",
      "trying with smaller icl >>  2\n"
     ]
    },
    {
     "data": {
      "application/vnd.jupyter.widget-view+json": {
       "model_id": "9d37e8c1bbe24487872b3b9327138b89",
       "version_major": 2,
       "version_minor": 0
      },
      "text/plain": [
       "  0%|          | 0/5 [00:00<?, ?it/s]"
      ]
     },
     "metadata": {},
     "output_type": "display_data"
    },
    {
     "name": "stdout",
     "output_type": "stream",
     "text": [
      "subject:  ChemAxon\n",
      "The headquarter of Stelco is located in Hamilton.\n",
      "The headquarter of United Airlines is located in Chicago.\n",
      "The headquarter of {} is located in\n",
      "tensor(24.4688, device='cuda:0', dtype=torch.float16) tensor(18.9688, device='cuda:0', dtype=torch.float16)\n",
      "\n",
      "subject:  SoundCloud\n",
      "The headquarter of Stelco is located in Hamilton.\n",
      "The headquarter of The Weather Channel is located in Atlanta.\n",
      "The headquarter of {} is located in\n",
      "tensor(26.0938, device='cuda:0', dtype=torch.float16) tensor(14.9062, device='cuda:0', dtype=torch.float16)\n",
      "\n",
      "subject:  Stelco\n",
      "The headquarter of United Airlines is located in Chicago.\n",
      "The headquarter of The Weather Channel is located in Atlanta.\n",
      "The headquarter of {} is located in\n",
      "tensor(28.5000, device='cuda:0', dtype=torch.float16) tensor(20.5000, device='cuda:0', dtype=torch.float16)\n",
      "\n",
      "subject:  The Weather Channel\n",
      "The headquarter of ChemAxon is located in Budapest.\n",
      "The headquarter of SoundCloud is located in Berlin.\n",
      "The headquarter of {} is located in\n",
      "tensor(21.3281, device='cuda:0', dtype=torch.float16) tensor(13.4219, device='cuda:0', dtype=torch.float16)\n",
      "\n",
      "subject:  United Airlines\n",
      "The headquarter of Stelco is located in Hamilton.\n",
      "The headquarter of The Weather Channel is located in Atlanta.\n",
      "The headquarter of {} is located in\n",
      "tensor(25.5156, device='cuda:0', dtype=torch.float16) tensor(19.2500, device='cuda:0', dtype=torch.float16)\n",
      "\n"
     ]
    },
    {
     "data": {
      "application/vnd.jupyter.widget-view+json": {
       "model_id": "0a16cf17c7494851ad562713ab9d48ab",
       "version_major": 2,
       "version_minor": 0
      },
      "text/plain": [
       "  0%|          | 0/5 [00:00<?, ?it/s]"
      ]
     },
     "metadata": {},
     "output_type": "display_data"
    },
    {
     "name": "stdout",
     "output_type": "stream",
     "text": [
      "subject:  LG Chem\n",
      "The headquarter of United Airlines is located in Chicago.\n",
      "The headquarter of Serono is located in Geneva.\n",
      "The headquarter of Interpol is located in Lyon.\n",
      "The headquarter of {} is located in\n",
      "CUDA out of memory\n",
      "trying with smaller icl >>  2\n"
     ]
    },
    {
     "data": {
      "application/vnd.jupyter.widget-view+json": {
       "model_id": "5a2754a11c404838836355bf69382475",
       "version_major": 2,
       "version_minor": 0
      },
      "text/plain": [
       "  0%|          | 0/5 [00:00<?, ?it/s]"
      ]
     },
     "metadata": {},
     "output_type": "display_data"
    },
    {
     "name": "stdout",
     "output_type": "stream",
     "text": [
      "subject:  LG Chem\n",
      "The headquarter of Serono is located in Geneva.\n",
      "The headquarter of ChemAxon is located in Budapest.\n",
      "The headquarter of {} is located in\n",
      "tensor(18.1562, device='cuda:0', dtype=torch.float16) tensor(12.4062, device='cuda:0', dtype=torch.float16)\n",
      "\n",
      "subject:  Serono\n",
      "The headquarter of United Airlines is located in Chicago.\n",
      "The headquarter of Interpol is located in Lyon.\n",
      "The headquarter of {} is located in\n",
      "tensor(33.1562, device='cuda:0', dtype=torch.float16) tensor(22.4844, device='cuda:0', dtype=torch.float16)\n",
      "\n",
      "subject:  United Airlines\n",
      "The headquarter of LG Chem is located in Seoul.\n",
      "The headquarter of Interpol is located in Lyon.\n",
      "The headquarter of {} is located in\n",
      "tensor(26.1094, device='cuda:0', dtype=torch.float16) tensor(18.1875, device='cuda:0', dtype=torch.float16)\n",
      "\n",
      "subject:  ChemAxon\n",
      "The headquarter of United Airlines is located in Chicago.\n",
      "The headquarter of Serono is located in Geneva.\n",
      "The headquarter of {} is located in\n",
      "tensor(28., device='cuda:0', dtype=torch.float16) tensor(20.5938, device='cuda:0', dtype=torch.float16)\n",
      "\n",
      "subject:  Interpol\n",
      "The headquarter of United Airlines is located in Chicago.\n",
      "The headquarter of LG Chem is located in Seoul.\n",
      "The headquarter of {} is located in\n",
      "tensor(41.6250, device='cuda:0', dtype=torch.float16) tensor(18.7188, device='cuda:0', dtype=torch.float16)\n",
      "\n",
      "Saving weights and biases >>  gpt-j/jacobians_averaged_collection/after__ln_f/P159.npz\n",
      "----------------------------------------------------\n",
      "zzzzzzzzzzzzzzzzzzzzzzzzzzzzzzzzzzzzzzzzzzzzzzzzzzzz\n",
      "P20 {} died in the city of\n",
      "zzzzzzzzzzzzzzzzzzzzzzzzzzzzzzzzzzzzzzzzzzzzzzzzzzzz\n",
      "144\n",
      "{} died in the city of\n"
     ]
    },
    {
     "data": {
      "application/vnd.jupyter.widget-view+json": {
       "model_id": "45f648d235a44073806a1bbd05fb355b",
       "version_major": 2,
       "version_minor": 0
      },
      "text/plain": [
       "  0%|          | 0/10 [00:00<?, ?it/s]"
      ]
     },
     "metadata": {},
     "output_type": "display_data"
    },
    {
     "data": {
      "application/vnd.jupyter.widget-view+json": {
       "model_id": "16b3c17a65c0418689859cd03a86f9e8",
       "version_major": 2,
       "version_minor": 0
      },
      "text/plain": [
       "  0%|          | 0/5 [00:00<?, ?it/s]"
      ]
     },
     "metadata": {},
     "output_type": "display_data"
    },
    {
     "name": "stdout",
     "output_type": "stream",
     "text": [
      "subject:  Samuel Adams\n",
      "Fred Hampton died in the city of Chicago.\n",
      "Michael II died in the city of Constantinople.\n",
      "Donatello died in the city of Florence.\n",
      "{} died in the city of\n",
      "tensor(4.0938, device='cuda:0', dtype=torch.float16) tensor(8.8672, device='cuda:0', dtype=torch.float16)\n",
      "\n",
      "subject:  Fred Hampton\n",
      "Donatello died in the city of Florence.\n",
      "Nicholas V died in the city of Rome.\n",
      "Samuel Adams died in the city of Boston.\n",
      "{} died in the city of\n",
      "tensor(6.9492, device='cuda:0', dtype=torch.float16) tensor(25.4688, device='cuda:0', dtype=torch.float16)\n",
      "\n",
      "subject:  Nicholas V\n",
      "Fred Hampton died in the city of Chicago.\n",
      "Samuel Adams died in the city of Boston.\n",
      "Michael II died in the city of Constantinople.\n",
      "{} died in the city of\n",
      "tensor(7.3516, device='cuda:0', dtype=torch.float16) tensor(10.0078, device='cuda:0', dtype=torch.float16)\n",
      "\n",
      "subject:  Donatello\n",
      "Samuel Adams died in the city of Boston.\n",
      "Fred Hampton died in the city of Chicago.\n",
      "Michael II died in the city of Constantinople.\n",
      "{} died in the city of\n",
      "tensor(5.2188, device='cuda:0', dtype=torch.float16) tensor(12.4141, device='cuda:0', dtype=torch.float16)\n",
      "\n",
      "subject:  Michael II\n",
      "Nicholas V died in the city of Rome.\n",
      "Donatello died in the city of Florence.\n",
      "Samuel Adams died in the city of Boston.\n",
      "{} died in the city of\n",
      "tensor(4.9766, device='cuda:0', dtype=torch.float16) tensor(5.7109, device='cuda:0', dtype=torch.float16)\n",
      "\n"
     ]
    },
    {
     "data": {
      "application/vnd.jupyter.widget-view+json": {
       "model_id": "447e485bc3bf4acfbd77265fbd157978",
       "version_major": 2,
       "version_minor": 0
      },
      "text/plain": [
       "  0%|          | 0/5 [00:00<?, ?it/s]"
      ]
     },
     "metadata": {},
     "output_type": "display_data"
    },
    {
     "name": "stdout",
     "output_type": "stream",
     "text": [
      "subject:  Rosa Parks\n",
      "Charles Cowper died in the city of London.\n",
      "Michael II died in the city of Constantinople.\n",
      "Francisco Franco died in the city of Madrid.\n",
      "{} died in the city of\n",
      "tensor(9.5781, device='cuda:0', dtype=torch.float16) tensor(28.5000, device='cuda:0', dtype=torch.float16)\n",
      "\n",
      "subject:  Michael II\n",
      "Samuel Adams died in the city of Boston.\n",
      "Rosa Parks died in the city of Detroit.\n",
      "Francisco Franco died in the city of Madrid.\n",
      "{} died in the city of\n",
      "tensor(7.8047, device='cuda:0', dtype=torch.float16) tensor(13.8203, device='cuda:0', dtype=torch.float16)\n",
      "\n",
      "subject:  Charles Cowper\n",
      "Rosa Parks died in the city of Detroit.\n",
      "Michael II died in the city of Constantinople.\n",
      "Samuel Adams died in the city of Boston.\n",
      "{} died in the city of\n",
      "tensor(3.5586, device='cuda:0', dtype=torch.float16) tensor(39.5938, device='cuda:0', dtype=torch.float16)\n",
      "\n",
      "subject:  Francisco Franco\n",
      "Michael II died in the city of Constantinople.\n",
      "Samuel Adams died in the city of Boston.\n",
      "Rosa Parks died in the city of Detroit.\n",
      "{} died in the city of\n",
      "tensor(3.2539, device='cuda:0', dtype=torch.float16) tensor(38.6250, device='cuda:0', dtype=torch.float16)\n",
      "\n",
      "subject:  Samuel Adams\n",
      "Francisco Franco died in the city of Madrid.\n",
      "Charles Cowper died in the city of London.\n",
      "Michael II died in the city of Constantinople.\n",
      "{} died in the city of\n",
      "tensor(3.3809, device='cuda:0', dtype=torch.float16) tensor(5.3008, device='cuda:0', dtype=torch.float16)\n",
      "\n"
     ]
    },
    {
     "data": {
      "application/vnd.jupyter.widget-view+json": {
       "model_id": "16589eeb745547ac932efa995b949aae",
       "version_major": 2,
       "version_minor": 0
      },
      "text/plain": [
       "  0%|          | 0/5 [00:00<?, ?it/s]"
      ]
     },
     "metadata": {},
     "output_type": "display_data"
    },
    {
     "name": "stdout",
     "output_type": "stream",
     "text": [
      "subject:  Francisco Franco\n",
      "Rosa Parks died in the city of Detroit.\n",
      "Charles Cowper died in the city of London.\n",
      "Nicholas V died in the city of Rome.\n",
      "{} died in the city of\n",
      "tensor(2.3301, device='cuda:0', dtype=torch.float16) tensor(39.5000, device='cuda:0', dtype=torch.float16)\n",
      "\n",
      "subject:  Charles Cowper\n",
      "Donatello died in the city of Florence.\n",
      "Francisco Franco died in the city of Madrid.\n",
      "Nicholas V died in the city of Rome.\n",
      "{} died in the city of\n",
      "tensor(8.1016, device='cuda:0', dtype=torch.float16) tensor(25.9688, device='cuda:0', dtype=torch.float16)\n",
      "\n",
      "subject:  Rosa Parks\n",
      "Nicholas V died in the city of Rome.\n",
      "Francisco Franco died in the city of Madrid.\n",
      "Charles Cowper died in the city of London.\n",
      "{} died in the city of\n",
      "tensor(8.7500, device='cuda:0', dtype=torch.float16) tensor(12.3828, device='cuda:0', dtype=torch.float16)\n",
      "\n",
      "subject:  Nicholas V\n",
      "Rosa Parks died in the city of Detroit.\n",
      "Charles Cowper died in the city of London.\n",
      "Francisco Franco died in the city of Madrid.\n",
      "{} died in the city of\n",
      "tensor(8.8984, device='cuda:0', dtype=torch.float16) tensor(40.3125, device='cuda:0', dtype=torch.float16)\n",
      "\n",
      "subject:  Donatello\n",
      "Francisco Franco died in the city of Madrid.\n",
      "Rosa Parks died in the city of Detroit.\n",
      "Charles Cowper died in the city of London.\n",
      "{} died in the city of\n",
      "tensor(4.1250, device='cuda:0', dtype=torch.float16) tensor(3.4062, device='cuda:0', dtype=torch.float16)\n",
      "\n"
     ]
    },
    {
     "data": {
      "application/vnd.jupyter.widget-view+json": {
       "model_id": "c36e577194cd4e869cacee53e74ecab8",
       "version_major": 2,
       "version_minor": 0
      },
      "text/plain": [
       "  0%|          | 0/5 [00:00<?, ?it/s]"
      ]
     },
     "metadata": {},
     "output_type": "display_data"
    },
    {
     "name": "stdout",
     "output_type": "stream",
     "text": [
      "subject:  Samuel Adams\n",
      "Donatello died in the city of Florence.\n",
      "Rosa Parks died in the city of Detroit.\n",
      "Francisco Franco died in the city of Madrid.\n",
      "{} died in the city of\n",
      "tensor(6.6445, device='cuda:0', dtype=torch.float16) tensor(25.7812, device='cuda:0', dtype=torch.float16)\n",
      "\n",
      "subject:  Donatello\n",
      "Samuel Adams died in the city of Boston.\n",
      "Francisco Franco died in the city of Madrid.\n",
      "Rosa Parks died in the city of Detroit.\n",
      "{} died in the city of\n",
      "tensor(4.3750, device='cuda:0', dtype=torch.float16) tensor(12.1719, device='cuda:0', dtype=torch.float16)\n",
      "\n",
      "subject:  Francisco Franco\n",
      "Samuel Adams died in the city of Boston.\n",
      "Nicholas V died in the city of Rome.\n",
      "Rosa Parks died in the city of Detroit.\n",
      "{} died in the city of\n",
      "tensor(3.4141, device='cuda:0', dtype=torch.float16) tensor(12.3203, device='cuda:0', dtype=torch.float16)\n",
      "\n",
      "subject:  Rosa Parks\n",
      "Donatello died in the city of Florence.\n",
      "Francisco Franco died in the city of Madrid.\n",
      "Nicholas V died in the city of Rome.\n",
      "{} died in the city of\n",
      "tensor(10.3984, device='cuda:0', dtype=torch.float16) tensor(28.5625, device='cuda:0', dtype=torch.float16)\n",
      "\n",
      "subject:  Nicholas V\n",
      "Donatello died in the city of Florence.\n",
      "Rosa Parks died in the city of Detroit.\n",
      "Francisco Franco died in the city of Madrid.\n",
      "{} died in the city of\n",
      "tensor(8.4688, device='cuda:0', dtype=torch.float16) tensor(25.4844, device='cuda:0', dtype=torch.float16)\n",
      "\n"
     ]
    },
    {
     "data": {
      "application/vnd.jupyter.widget-view+json": {
       "model_id": "02a33f36d88d4f8b8ab44bf63d7a4cf5",
       "version_major": 2,
       "version_minor": 0
      },
      "text/plain": [
       "  0%|          | 0/5 [00:00<?, ?it/s]"
      ]
     },
     "metadata": {},
     "output_type": "display_data"
    },
    {
     "name": "stdout",
     "output_type": "stream",
     "text": [
      "subject:  Fred Hampton\n",
      "Rosa Parks died in the city of Detroit.\n",
      "Nicholas V died in the city of Rome.\n",
      "Donatello died in the city of Florence.\n",
      "{} died in the city of\n",
      "tensor(6.1172, device='cuda:0', dtype=torch.float16) tensor(40.2500, device='cuda:0', dtype=torch.float16)\n",
      "\n",
      "subject:  Donatello\n",
      "Fred Hampton died in the city of Chicago.\n",
      "Francisco Franco died in the city of Madrid.\n",
      "Nicholas V died in the city of Rome.\n",
      "{} died in the city of\n",
      "tensor(6.5703, device='cuda:0', dtype=torch.float16) tensor(7.7070, device='cuda:0', dtype=torch.float16)\n",
      "\n",
      "subject:  Francisco Franco\n",
      "Fred Hampton died in the city of Chicago.\n",
      "Nicholas V died in the city of Rome.\n",
      "Rosa Parks died in the city of Detroit.\n",
      "{} died in the city of\n",
      "tensor(3.1855, device='cuda:0', dtype=torch.float16) tensor(7.3008, device='cuda:0', dtype=torch.float16)\n",
      "\n",
      "subject:  Nicholas V\n",
      "Rosa Parks died in the city of Detroit.\n",
      "Fred Hampton died in the city of Chicago.\n",
      "Donatello died in the city of Florence.\n",
      "{} died in the city of\n",
      "tensor(7.4648, device='cuda:0', dtype=torch.float16) tensor(40.0625, device='cuda:0', dtype=torch.float16)\n",
      "\n",
      "subject:  Rosa Parks\n",
      "Francisco Franco died in the city of Madrid.\n",
      "Donatello died in the city of Florence.\n",
      "Fred Hampton died in the city of Chicago.\n",
      "{} died in the city of\n",
      "tensor(11.9453, device='cuda:0', dtype=torch.float16) tensor(17.4688, device='cuda:0', dtype=torch.float16)\n",
      "\n"
     ]
    },
    {
     "data": {
      "application/vnd.jupyter.widget-view+json": {
       "model_id": "2d38fd10ee7c4d52a458bf86349640cc",
       "version_major": 2,
       "version_minor": 0
      },
      "text/plain": [
       "  0%|          | 0/5 [00:00<?, ?it/s]"
      ]
     },
     "metadata": {},
     "output_type": "display_data"
    },
    {
     "name": "stdout",
     "output_type": "stream",
     "text": [
      "subject:  Donatello\n",
      "Fred Hampton died in the city of Chicago.\n",
      "Charles Cowper died in the city of London.\n",
      "Rosa Parks died in the city of Detroit.\n",
      "{} died in the city of\n",
      "tensor(3.0898, device='cuda:0', dtype=torch.float16) tensor(6.8945, device='cuda:0', dtype=torch.float16)\n",
      "\n",
      "subject:  Charles Cowper\n",
      "Donatello died in the city of Florence.\n",
      "Michael II died in the city of Constantinople.\n",
      "Fred Hampton died in the city of Chicago.\n",
      "{} died in the city of\n",
      "tensor(3.2500, device='cuda:0', dtype=torch.float16) tensor(24.3438, device='cuda:0', dtype=torch.float16)\n",
      "\n",
      "subject:  Rosa Parks\n",
      "Michael II died in the city of Constantinople.\n",
      "Donatello died in the city of Florence.\n",
      "Charles Cowper died in the city of London.\n",
      "{} died in the city of\n",
      "tensor(8.0156, device='cuda:0', dtype=torch.float16) tensor(40.2812, device='cuda:0', dtype=torch.float16)\n",
      "\n",
      "subject:  Fred Hampton\n",
      "Michael II died in the city of Constantinople.\n",
      "Rosa Parks died in the city of Detroit.\n",
      "Charles Cowper died in the city of London.\n",
      "{} died in the city of\n",
      "tensor(4.6992, device='cuda:0', dtype=torch.float16) tensor(38.8438, device='cuda:0', dtype=torch.float16)\n",
      "\n",
      "subject:  Michael II\n",
      "Fred Hampton died in the city of Chicago.\n",
      "Charles Cowper died in the city of London.\n",
      "Donatello died in the city of Florence.\n",
      "{} died in the city of\n",
      "tensor(7.6445, device='cuda:0', dtype=torch.float16) tensor(9.5156, device='cuda:0', dtype=torch.float16)\n",
      "\n"
     ]
    },
    {
     "data": {
      "application/vnd.jupyter.widget-view+json": {
       "model_id": "676324b089ec4eab92124f9203895ed8",
       "version_major": 2,
       "version_minor": 0
      },
      "text/plain": [
       "  0%|          | 0/5 [00:00<?, ?it/s]"
      ]
     },
     "metadata": {},
     "output_type": "display_data"
    },
    {
     "name": "stdout",
     "output_type": "stream",
     "text": [
      "subject:  Rosa Parks\n",
      "Samuel Adams died in the city of Boston.\n",
      "Charles Cowper died in the city of London.\n",
      "Fred Hampton died in the city of Chicago.\n",
      "{} died in the city of\n",
      "tensor(10.7891, device='cuda:0', dtype=torch.float16) tensor(19.9531, device='cuda:0', dtype=torch.float16)\n",
      "\n",
      "subject:  Charles Cowper\n",
      "Samuel Adams died in the city of Boston.\n",
      "Michael II died in the city of Constantinople.\n",
      "Rosa Parks died in the city of Detroit.\n",
      "{} died in the city of\n",
      "tensor(2.7754, device='cuda:0', dtype=torch.float16) tensor(12.0781, device='cuda:0', dtype=torch.float16)\n",
      "\n",
      "subject:  Fred Hampton\n",
      "Michael II died in the city of Constantinople.\n",
      "Samuel Adams died in the city of Boston.\n",
      "Charles Cowper died in the city of London.\n",
      "{} died in the city of\n",
      "tensor(2.8848, device='cuda:0', dtype=torch.float16) tensor(38.6562, device='cuda:0', dtype=torch.float16)\n",
      "\n",
      "subject:  Samuel Adams\n",
      "Charles Cowper died in the city of London.\n",
      "Fred Hampton died in the city of Chicago.\n",
      "Rosa Parks died in the city of Detroit.\n",
      "{} died in the city of\n",
      "tensor(4.2031, device='cuda:0', dtype=torch.float16) tensor(25.8594, device='cuda:0', dtype=torch.float16)\n",
      "\n",
      "subject:  Michael II\n",
      "Samuel Adams died in the city of Boston.\n",
      "Rosa Parks died in the city of Detroit.\n",
      "Charles Cowper died in the city of London.\n",
      "{} died in the city of\n",
      "tensor(6.7891, device='cuda:0', dtype=torch.float16) tensor(13.2031, device='cuda:0', dtype=torch.float16)\n",
      "\n"
     ]
    },
    {
     "data": {
      "application/vnd.jupyter.widget-view+json": {
       "model_id": "44ed885861e3474bb0bc684a187f1cf2",
       "version_major": 2,
       "version_minor": 0
      },
      "text/plain": [
       "  0%|          | 0/5 [00:00<?, ?it/s]"
      ]
     },
     "metadata": {},
     "output_type": "display_data"
    },
    {
     "name": "stdout",
     "output_type": "stream",
     "text": [
      "subject:  Donatello\n",
      "Rosa Parks died in the city of Detroit.\n",
      "Francisco Franco died in the city of Madrid.\n",
      "Nicholas V died in the city of Rome.\n",
      "{} died in the city of\n",
      "tensor(6.0469, device='cuda:0', dtype=torch.float16) tensor(39.5938, device='cuda:0', dtype=torch.float16)\n",
      "\n",
      "subject:  Rosa Parks\n",
      "Nicholas V died in the city of Rome.\n",
      "Michael II died in the city of Constantinople.\n",
      "Francisco Franco died in the city of Madrid.\n",
      "{} died in the city of\n",
      "tensor(9.9766, device='cuda:0', dtype=torch.float16) tensor(13.7500, device='cuda:0', dtype=torch.float16)\n",
      "\n",
      "subject:  Michael II\n",
      "Rosa Parks died in the city of Detroit.\n",
      "Francisco Franco died in the city of Madrid.\n",
      "Donatello died in the city of Florence.\n",
      "{} died in the city of\n",
      "tensor(7.9727, device='cuda:0', dtype=torch.float16) tensor(40.3125, device='cuda:0', dtype=torch.float16)\n",
      "\n",
      "subject:  Francisco Franco\n",
      "Nicholas V died in the city of Rome.\n",
      "Michael II died in the city of Constantinople.\n",
      "Donatello died in the city of Florence.\n",
      "{} died in the city of\n",
      "tensor(2.4727, device='cuda:0', dtype=torch.float16) tensor(5.1992, device='cuda:0', dtype=torch.float16)\n",
      "\n",
      "subject:  Nicholas V\n",
      "Rosa Parks died in the city of Detroit.\n",
      "Francisco Franco died in the city of Madrid.\n",
      "Michael II died in the city of Constantinople.\n",
      "{} died in the city of\n",
      "tensor(8.7812, device='cuda:0', dtype=torch.float16) tensor(40.4062, device='cuda:0', dtype=torch.float16)\n",
      "\n"
     ]
    },
    {
     "data": {
      "application/vnd.jupyter.widget-view+json": {
       "model_id": "41fefebf9bc845a6b82dc6f8b4ac4910",
       "version_major": 2,
       "version_minor": 0
      },
      "text/plain": [
       "  0%|          | 0/5 [00:00<?, ?it/s]"
      ]
     },
     "metadata": {},
     "output_type": "display_data"
    },
    {
     "name": "stdout",
     "output_type": "stream",
     "text": [
      "subject:  Charles Cowper\n",
      "Rosa Parks died in the city of Detroit.\n",
      "Donatello died in the city of Florence.\n",
      "Michael II died in the city of Constantinople.\n",
      "{} died in the city of\n",
      "tensor(3.6035, device='cuda:0', dtype=torch.float16) tensor(39.6250, device='cuda:0', dtype=torch.float16)\n",
      "\n",
      "subject:  Rosa Parks\n",
      "Michael II died in the city of Constantinople.\n",
      "Donatello died in the city of Florence.\n",
      "Charles Cowper died in the city of London.\n",
      "{} died in the city of\n",
      "tensor(8.0156, device='cuda:0', dtype=torch.float16) tensor(40.2812, device='cuda:0', dtype=torch.float16)\n",
      "\n",
      "subject:  Donatello\n",
      "Charles Cowper died in the city of London.\n",
      "Michael II died in the city of Constantinople.\n",
      "Nicholas V died in the city of Rome.\n",
      "{} died in the city of\n",
      "tensor(6.7891, device='cuda:0', dtype=torch.float16) tensor(25.7656, device='cuda:0', dtype=torch.float16)\n",
      "\n",
      "subject:  Nicholas V\n",
      "Donatello died in the city of Florence.\n",
      "Michael II died in the city of Constantinople.\n",
      "Rosa Parks died in the city of Detroit.\n",
      "{} died in the city of\n",
      "tensor(7.3320, device='cuda:0', dtype=torch.float16) tensor(25.1562, device='cuda:0', dtype=torch.float16)\n",
      "\n",
      "subject:  Michael II\n",
      "Nicholas V died in the city of Rome.\n",
      "Charles Cowper died in the city of London.\n",
      "Rosa Parks died in the city of Detroit.\n",
      "{} died in the city of\n",
      "tensor(3.7520, device='cuda:0', dtype=torch.float16) tensor(5.0039, device='cuda:0', dtype=torch.float16)\n",
      "\n"
     ]
    },
    {
     "data": {
      "application/vnd.jupyter.widget-view+json": {
       "model_id": "907d2752f8974bd2bf8f61869baac67c",
       "version_major": 2,
       "version_minor": 0
      },
      "text/plain": [
       "  0%|          | 0/5 [00:00<?, ?it/s]"
      ]
     },
     "metadata": {},
     "output_type": "display_data"
    },
    {
     "name": "stdout",
     "output_type": "stream",
     "text": [
      "subject:  Rosa Parks\n",
      "Michael II died in the city of Constantinople.\n",
      "Samuel Adams died in the city of Boston.\n",
      "Donatello died in the city of Florence.\n",
      "{} died in the city of\n",
      "tensor(6.7969, device='cuda:0', dtype=torch.float16) tensor(39.6875, device='cuda:0', dtype=torch.float16)\n",
      "\n",
      "subject:  Samuel Adams\n",
      "Michael II died in the city of Constantinople.\n",
      "Rosa Parks died in the city of Detroit.\n",
      "Francisco Franco died in the city of Madrid.\n",
      "{} died in the city of\n",
      "tensor(5.9844, device='cuda:0', dtype=torch.float16) tensor(39.3125, device='cuda:0', dtype=torch.float16)\n",
      "\n",
      "subject:  Donatello\n",
      "Rosa Parks died in the city of Detroit.\n",
      "Francisco Franco died in the city of Madrid.\n",
      "Michael II died in the city of Constantinople.\n",
      "{} died in the city of\n",
      "tensor(6.0703, device='cuda:0', dtype=torch.float16) tensor(39.6250, device='cuda:0', dtype=torch.float16)\n",
      "\n",
      "subject:  Michael II\n",
      "Rosa Parks died in the city of Detroit.\n",
      "Donatello died in the city of Florence.\n",
      "Francisco Franco died in the city of Madrid.\n",
      "{} died in the city of\n",
      "tensor(8.1328, device='cuda:0', dtype=torch.float16) tensor(40.2812, device='cuda:0', dtype=torch.float16)\n",
      "\n",
      "subject:  Francisco Franco\n",
      "Michael II died in the city of Constantinople.\n",
      "Rosa Parks died in the city of Detroit.\n",
      "Donatello died in the city of Florence.\n",
      "{} died in the city of\n",
      "tensor(3.2383, device='cuda:0', dtype=torch.float16) tensor(38.7500, device='cuda:0', dtype=torch.float16)\n",
      "\n",
      "Saving weights and biases >>  gpt-j/jacobians_averaged_collection/after__ln_f/P20.npz\n",
      "----------------------------------------------------\n",
      "zzzzzzzzzzzzzzzzzzzzzzzzzzzzzzzzzzzzzzzzzzzzzzzzzzzz\n",
      "P106 The profession of {} is\n",
      "zzzzzzzzzzzzzzzzzzzzzzzzzzzzzzzzzzzzzzzzzzzzzzzzzzzz\n",
      "233\n",
      "The profession of {} is\n"
     ]
    },
    {
     "data": {
      "application/vnd.jupyter.widget-view+json": {
       "model_id": "fcd325e3ad8e422d926fc8dd0f60cb0f",
       "version_major": 2,
       "version_minor": 0
      },
      "text/plain": [
       "  0%|          | 0/10 [00:00<?, ?it/s]"
      ]
     },
     "metadata": {},
     "output_type": "display_data"
    },
    {
     "data": {
      "application/vnd.jupyter.widget-view+json": {
       "model_id": "79b0c33eef3b4705a462746ba5c6b5a1",
       "version_major": 2,
       "version_minor": 0
      },
      "text/plain": [
       "  0%|          | 0/2 [00:00<?, ?it/s]"
      ]
     },
     "metadata": {},
     "output_type": "display_data"
    },
    {
     "name": "stdout",
     "output_type": "stream",
     "text": [
      "subject:  Lucha Villa\n",
      "The profession of Cigoli is architect.\n",
      "The profession of {} is\n",
      "tensor(0.5449, device='cuda:0', dtype=torch.float16) tensor(3., device='cuda:0', dtype=torch.float16)\n",
      "\n",
      "subject:  Cigoli\n",
      "The profession of Lucha Villa is actor.\n",
      "The profession of {} is\n",
      "tensor(1.3398, device='cuda:0', dtype=torch.float16) tensor(3.2656, device='cuda:0', dtype=torch.float16)\n",
      "\n"
     ]
    },
    {
     "data": {
      "application/vnd.jupyter.widget-view+json": {
       "model_id": "06cbc933888d4e6693c8914dc9a15aef",
       "version_major": 2,
       "version_minor": 0
      },
      "text/plain": [
       "  0%|          | 0/2 [00:00<?, ?it/s]"
      ]
     },
     "metadata": {},
     "output_type": "display_data"
    },
    {
     "name": "stdout",
     "output_type": "stream",
     "text": [
      "subject:  Lucha Villa\n",
      "The profession of Cigoli is architect.\n",
      "The profession of {} is\n",
      "tensor(0.5449, device='cuda:0', dtype=torch.float16) tensor(3., device='cuda:0', dtype=torch.float16)\n",
      "\n",
      "subject:  Cigoli\n",
      "The profession of Lucha Villa is actor.\n",
      "The profession of {} is\n",
      "tensor(1.3398, device='cuda:0', dtype=torch.float16) tensor(3.2656, device='cuda:0', dtype=torch.float16)\n",
      "\n"
     ]
    },
    {
     "data": {
      "application/vnd.jupyter.widget-view+json": {
       "model_id": "07a33fd796b74d1c8c188de84264c5fd",
       "version_major": 2,
       "version_minor": 0
      },
      "text/plain": [
       "  0%|          | 0/2 [00:00<?, ?it/s]"
      ]
     },
     "metadata": {},
     "output_type": "display_data"
    },
    {
     "name": "stdout",
     "output_type": "stream",
     "text": [
      "subject:  Lucha Villa\n",
      "The profession of Cigoli is architect.\n",
      "The profession of {} is\n",
      "tensor(0.5449, device='cuda:0', dtype=torch.float16) tensor(3., device='cuda:0', dtype=torch.float16)\n",
      "\n",
      "subject:  Cigoli\n",
      "The profession of Lucha Villa is actor.\n",
      "The profession of {} is\n",
      "tensor(1.3398, device='cuda:0', dtype=torch.float16) tensor(3.2656, device='cuda:0', dtype=torch.float16)\n",
      "\n"
     ]
    },
    {
     "data": {
      "application/vnd.jupyter.widget-view+json": {
       "model_id": "6ddd81803b2b448d855ed19fcc69c55d",
       "version_major": 2,
       "version_minor": 0
      },
      "text/plain": [
       "  0%|          | 0/2 [00:00<?, ?it/s]"
      ]
     },
     "metadata": {},
     "output_type": "display_data"
    },
    {
     "name": "stdout",
     "output_type": "stream",
     "text": [
      "subject:  Cigoli\n",
      "The profession of Lucha Villa is actor.\n",
      "The profession of {} is\n",
      "tensor(1.3398, device='cuda:0', dtype=torch.float16) tensor(3.2656, device='cuda:0', dtype=torch.float16)\n",
      "\n",
      "subject:  Lucha Villa\n",
      "The profession of Cigoli is architect.\n",
      "The profession of {} is\n",
      "tensor(0.5449, device='cuda:0', dtype=torch.float16) tensor(3., device='cuda:0', dtype=torch.float16)\n",
      "\n"
     ]
    },
    {
     "data": {
      "application/vnd.jupyter.widget-view+json": {
       "model_id": "2d557bdd38c54c29a125a8cfe0e20423",
       "version_major": 2,
       "version_minor": 0
      },
      "text/plain": [
       "  0%|          | 0/2 [00:00<?, ?it/s]"
      ]
     },
     "metadata": {},
     "output_type": "display_data"
    },
    {
     "name": "stdout",
     "output_type": "stream",
     "text": [
      "subject:  Cigoli\n",
      "The profession of Lucha Villa is actor.\n",
      "The profession of {} is\n",
      "tensor(1.3398, device='cuda:0', dtype=torch.float16) tensor(3.2656, device='cuda:0', dtype=torch.float16)\n",
      "\n",
      "subject:  Lucha Villa\n",
      "The profession of Cigoli is architect.\n",
      "The profession of {} is\n",
      "tensor(0.5449, device='cuda:0', dtype=torch.float16) tensor(3., device='cuda:0', dtype=torch.float16)\n",
      "\n"
     ]
    },
    {
     "data": {
      "application/vnd.jupyter.widget-view+json": {
       "model_id": "23b398b4b758434289d8994752ecf36a",
       "version_major": 2,
       "version_minor": 0
      },
      "text/plain": [
       "  0%|          | 0/2 [00:00<?, ?it/s]"
      ]
     },
     "metadata": {},
     "output_type": "display_data"
    },
    {
     "name": "stdout",
     "output_type": "stream",
     "text": [
      "subject:  Lucha Villa\n",
      "The profession of Cigoli is architect.\n",
      "The profession of {} is\n",
      "tensor(0.5449, device='cuda:0', dtype=torch.float16) tensor(3., device='cuda:0', dtype=torch.float16)\n",
      "\n",
      "subject:  Cigoli\n",
      "The profession of Lucha Villa is actor.\n",
      "The profession of {} is\n",
      "tensor(1.3398, device='cuda:0', dtype=torch.float16) tensor(3.2656, device='cuda:0', dtype=torch.float16)\n",
      "\n"
     ]
    },
    {
     "data": {
      "application/vnd.jupyter.widget-view+json": {
       "model_id": "7811d48035e041029454aaa178f9c962",
       "version_major": 2,
       "version_minor": 0
      },
      "text/plain": [
       "  0%|          | 0/2 [00:00<?, ?it/s]"
      ]
     },
     "metadata": {},
     "output_type": "display_data"
    },
    {
     "name": "stdout",
     "output_type": "stream",
     "text": [
      "subject:  Cigoli\n",
      "The profession of Lucha Villa is actor.\n",
      "The profession of {} is\n",
      "tensor(1.3398, device='cuda:0', dtype=torch.float16) tensor(3.2656, device='cuda:0', dtype=torch.float16)\n",
      "\n",
      "subject:  Lucha Villa\n",
      "The profession of Cigoli is architect.\n",
      "The profession of {} is\n",
      "tensor(0.5449, device='cuda:0', dtype=torch.float16) tensor(3., device='cuda:0', dtype=torch.float16)\n",
      "\n"
     ]
    },
    {
     "data": {
      "application/vnd.jupyter.widget-view+json": {
       "model_id": "50c62e0b7a0f40aba0cfb8f8889ec68e",
       "version_major": 2,
       "version_minor": 0
      },
      "text/plain": [
       "  0%|          | 0/2 [00:00<?, ?it/s]"
      ]
     },
     "metadata": {},
     "output_type": "display_data"
    },
    {
     "name": "stdout",
     "output_type": "stream",
     "text": [
      "subject:  Lucha Villa\n",
      "The profession of Cigoli is architect.\n",
      "The profession of {} is\n",
      "tensor(0.5449, device='cuda:0', dtype=torch.float16) tensor(3., device='cuda:0', dtype=torch.float16)\n",
      "\n",
      "subject:  Cigoli\n",
      "The profession of Lucha Villa is actor.\n",
      "The profession of {} is\n",
      "tensor(1.3398, device='cuda:0', dtype=torch.float16) tensor(3.2656, device='cuda:0', dtype=torch.float16)\n",
      "\n"
     ]
    },
    {
     "data": {
      "application/vnd.jupyter.widget-view+json": {
       "model_id": "cb2a1c20ff3847408286473b045d1e5d",
       "version_major": 2,
       "version_minor": 0
      },
      "text/plain": [
       "  0%|          | 0/2 [00:00<?, ?it/s]"
      ]
     },
     "metadata": {},
     "output_type": "display_data"
    },
    {
     "name": "stdout",
     "output_type": "stream",
     "text": [
      "subject:  Lucha Villa\n",
      "The profession of Cigoli is architect.\n",
      "The profession of {} is\n",
      "tensor(0.5449, device='cuda:0', dtype=torch.float16) tensor(3., device='cuda:0', dtype=torch.float16)\n",
      "\n",
      "subject:  Cigoli\n",
      "The profession of Lucha Villa is actor.\n",
      "The profession of {} is\n",
      "tensor(1.3398, device='cuda:0', dtype=torch.float16) tensor(3.2656, device='cuda:0', dtype=torch.float16)\n",
      "\n"
     ]
    },
    {
     "data": {
      "application/vnd.jupyter.widget-view+json": {
       "model_id": "e322e18b13854c5cb6ebbb8cade143f7",
       "version_major": 2,
       "version_minor": 0
      },
      "text/plain": [
       "  0%|          | 0/2 [00:00<?, ?it/s]"
      ]
     },
     "metadata": {},
     "output_type": "display_data"
    },
    {
     "name": "stdout",
     "output_type": "stream",
     "text": [
      "subject:  Lucha Villa\n",
      "The profession of Cigoli is architect.\n",
      "The profession of {} is\n",
      "tensor(0.5449, device='cuda:0', dtype=torch.float16) tensor(3., device='cuda:0', dtype=torch.float16)\n",
      "\n",
      "subject:  Cigoli\n",
      "The profession of Lucha Villa is actor.\n",
      "The profession of {} is\n",
      "tensor(1.3398, device='cuda:0', dtype=torch.float16) tensor(3.2656, device='cuda:0', dtype=torch.float16)\n",
      "\n",
      "Saving weights and biases >>  gpt-j/jacobians_averaged_collection/after__ln_f/P106.npz\n",
      "----------------------------------------------------\n",
      "zzzzzzzzzzzzzzzzzzzzzzzzzzzzzzzzzzzzzzzzzzzzzzzzzzzz\n",
      "P30 {} is located in the continent of\n",
      "zzzzzzzzzzzzzzzzzzzzzzzzzzzzzzzzzzzzzzzzzzzzzzzzzzzz\n",
      "456\n",
      "{} is located in the continent of\n"
     ]
    },
    {
     "data": {
      "application/vnd.jupyter.widget-view+json": {
       "model_id": "967e53212a354671b5858685051743c4",
       "version_major": 2,
       "version_minor": 0
      },
      "text/plain": [
       "  0%|          | 0/10 [00:00<?, ?it/s]"
      ]
     },
     "metadata": {},
     "output_type": "display_data"
    },
    {
     "data": {
      "application/vnd.jupyter.widget-view+json": {
       "model_id": "5a86b5f2ea274e79b694ac18674ec03f",
       "version_major": 2,
       "version_minor": 0
      },
      "text/plain": [
       "  0%|          | 0/4 [00:00<?, ?it/s]"
      ]
     },
     "metadata": {},
     "output_type": "display_data"
    },
    {
     "name": "stdout",
     "output_type": "stream",
     "text": [
      "subject:  Chad Basin\n",
      "English Channel is located in the continent of Europe.\n",
      "Romulus Glacier is located in the continent of Antarctica.\n",
      "Ma River is located in the continent of Asia.\n",
      "{} is located in the continent of\n",
      "tensor(8.3281, device='cuda:0', dtype=torch.float16) tensor(15.5078, device='cuda:0', dtype=torch.float16)\n",
      "\n",
      "subject:  Ma River\n",
      "Romulus Glacier is located in the continent of Antarctica.\n",
      "English Channel is located in the continent of Europe.\n",
      "Chad Basin is located in the continent of Africa.\n",
      "{} is located in the continent of\n",
      "tensor(4.0742, device='cuda:0', dtype=torch.float16) tensor(26.6562, device='cuda:0', dtype=torch.float16)\n",
      "\n",
      "subject:  English Channel\n",
      "Romulus Glacier is located in the continent of Antarctica.\n",
      "Ma River is located in the continent of Asia.\n",
      "Chad Basin is located in the continent of Africa.\n",
      "{} is located in the continent of\n",
      "tensor(3.2988, device='cuda:0', dtype=torch.float16) tensor(26.7188, device='cuda:0', dtype=torch.float16)\n",
      "\n",
      "subject:  Romulus Glacier\n",
      "Chad Basin is located in the continent of Africa.\n",
      "English Channel is located in the continent of Europe.\n",
      "Ma River is located in the continent of Asia.\n",
      "{} is located in the continent of\n",
      "tensor(3.1191, device='cuda:0', dtype=torch.float16) tensor(31.2969, device='cuda:0', dtype=torch.float16)\n",
      "\n"
     ]
    },
    {
     "data": {
      "application/vnd.jupyter.widget-view+json": {
       "model_id": "4bfd86e793404031ae6c701af384b52c",
       "version_major": 2,
       "version_minor": 0
      },
      "text/plain": [
       "  0%|          | 0/4 [00:00<?, ?it/s]"
      ]
     },
     "metadata": {},
     "output_type": "display_data"
    },
    {
     "name": "stdout",
     "output_type": "stream",
     "text": [
      "subject:  English Channel\n",
      "Ma River is located in the continent of Asia.\n",
      "Romulus Glacier is located in the continent of Antarctica.\n",
      "Chad Basin is located in the continent of Africa.\n",
      "{} is located in the continent of\n",
      "tensor(3.1797, device='cuda:0', dtype=torch.float16) tensor(82.5000, device='cuda:0', dtype=torch.float16)\n",
      "\n",
      "subject:  Romulus Glacier\n",
      "English Channel is located in the continent of Europe.\n",
      "Chad Basin is located in the continent of Africa.\n",
      "Ma River is located in the continent of Asia.\n",
      "{} is located in the continent of\n",
      "tensor(3.5039, device='cuda:0', dtype=torch.float16) tensor(12.8672, device='cuda:0', dtype=torch.float16)\n",
      "\n",
      "subject:  Chad Basin\n",
      "Ma River is located in the continent of Asia.\n",
      "English Channel is located in the continent of Europe.\n",
      "Romulus Glacier is located in the continent of Antarctica.\n",
      "{} is located in the continent of\n",
      "tensor(9.5234, device='cuda:0', dtype=torch.float16) tensor(83.1250, device='cuda:0', dtype=torch.float16)\n",
      "\n",
      "subject:  Ma River\n",
      "English Channel is located in the continent of Europe.\n",
      "Romulus Glacier is located in the continent of Antarctica.\n",
      "Chad Basin is located in the continent of Africa.\n",
      "{} is located in the continent of\n",
      "tensor(3.5527, device='cuda:0', dtype=torch.float16) tensor(12.8594, device='cuda:0', dtype=torch.float16)\n",
      "\n"
     ]
    },
    {
     "data": {
      "application/vnd.jupyter.widget-view+json": {
       "model_id": "b3136a8749f54490981d5d601de9a35a",
       "version_major": 2,
       "version_minor": 0
      },
      "text/plain": [
       "  0%|          | 0/4 [00:00<?, ?it/s]"
      ]
     },
     "metadata": {},
     "output_type": "display_data"
    },
    {
     "name": "stdout",
     "output_type": "stream",
     "text": [
      "subject:  Romulus Glacier\n",
      "English Channel is located in the continent of Europe.\n",
      "Chad Basin is located in the continent of Africa.\n",
      "Ma River is located in the continent of Asia.\n",
      "{} is located in the continent of\n",
      "tensor(3.5039, device='cuda:0', dtype=torch.float16) tensor(12.8672, device='cuda:0', dtype=torch.float16)\n",
      "\n",
      "subject:  Chad Basin\n",
      "English Channel is located in the continent of Europe.\n",
      "Romulus Glacier is located in the continent of Antarctica.\n",
      "Ma River is located in the continent of Asia.\n",
      "{} is located in the continent of\n",
      "tensor(8.3281, device='cuda:0', dtype=torch.float16) tensor(15.5078, device='cuda:0', dtype=torch.float16)\n",
      "\n",
      "subject:  English Channel\n",
      "Chad Basin is located in the continent of Africa.\n",
      "Ma River is located in the continent of Asia.\n",
      "Romulus Glacier is located in the continent of Antarctica.\n",
      "{} is located in the continent of\n",
      "tensor(2.6992, device='cuda:0', dtype=torch.float16) tensor(31.3438, device='cuda:0', dtype=torch.float16)\n",
      "\n",
      "subject:  Ma River\n",
      "English Channel is located in the continent of Europe.\n",
      "Chad Basin is located in the continent of Africa.\n",
      "Romulus Glacier is located in the continent of Antarctica.\n",
      "{} is located in the continent of\n",
      "tensor(3.3965, device='cuda:0', dtype=torch.float16) tensor(12.7969, device='cuda:0', dtype=torch.float16)\n",
      "\n"
     ]
    },
    {
     "data": {
      "application/vnd.jupyter.widget-view+json": {
       "model_id": "7a4b0699c2834fbaa0a100fa286bc836",
       "version_major": 2,
       "version_minor": 0
      },
      "text/plain": [
       "  0%|          | 0/4 [00:00<?, ?it/s]"
      ]
     },
     "metadata": {},
     "output_type": "display_data"
    },
    {
     "name": "stdout",
     "output_type": "stream",
     "text": [
      "subject:  Ma River\n",
      "Romulus Glacier is located in the continent of Antarctica.\n",
      "Chad Basin is located in the continent of Africa.\n",
      "English Channel is located in the continent of Europe.\n",
      "{} is located in the continent of\n",
      "tensor(3.5918, device='cuda:0', dtype=torch.float16) tensor(26.6562, device='cuda:0', dtype=torch.float16)\n",
      "\n",
      "subject:  English Channel\n",
      "Chad Basin is located in the continent of Africa.\n",
      "Romulus Glacier is located in the continent of Antarctica.\n",
      "Ma River is located in the continent of Asia.\n",
      "{} is located in the continent of\n",
      "tensor(2.8027, device='cuda:0', dtype=torch.float16) tensor(31.3125, device='cuda:0', dtype=torch.float16)\n",
      "\n",
      "subject:  Romulus Glacier\n",
      "English Channel is located in the continent of Europe.\n",
      "Chad Basin is located in the continent of Africa.\n",
      "Ma River is located in the continent of Asia.\n",
      "{} is located in the continent of\n",
      "tensor(3.5039, device='cuda:0', dtype=torch.float16) tensor(12.8672, device='cuda:0', dtype=torch.float16)\n",
      "\n",
      "subject:  Chad Basin\n",
      "English Channel is located in the continent of Europe.\n",
      "Ma River is located in the continent of Asia.\n",
      "Romulus Glacier is located in the continent of Antarctica.\n",
      "{} is located in the continent of\n",
      "tensor(7.0586, device='cuda:0', dtype=torch.float16) tensor(14.8750, device='cuda:0', dtype=torch.float16)\n",
      "\n"
     ]
    },
    {
     "data": {
      "application/vnd.jupyter.widget-view+json": {
       "model_id": "96f9d609a6aa4914b1c952c5923d72a2",
       "version_major": 2,
       "version_minor": 0
      },
      "text/plain": [
       "  0%|          | 0/4 [00:00<?, ?it/s]"
      ]
     },
     "metadata": {},
     "output_type": "display_data"
    },
    {
     "name": "stdout",
     "output_type": "stream",
     "text": [
      "subject:  Romulus Glacier\n",
      "English Channel is located in the continent of Europe.\n",
      "Ma River is located in the continent of Asia.\n",
      "Chad Basin is located in the continent of Africa.\n",
      "{} is located in the continent of\n",
      "tensor(3.0918, device='cuda:0', dtype=torch.float16) tensor(12.8203, device='cuda:0', dtype=torch.float16)\n",
      "\n",
      "subject:  Ma River\n",
      "Chad Basin is located in the continent of Africa.\n",
      "Romulus Glacier is located in the continent of Antarctica.\n",
      "English Channel is located in the continent of Europe.\n",
      "{} is located in the continent of\n",
      "tensor(3.1094, device='cuda:0', dtype=torch.float16) tensor(31.2969, device='cuda:0', dtype=torch.float16)\n",
      "\n",
      "subject:  English Channel\n",
      "Romulus Glacier is located in the continent of Antarctica.\n",
      "Chad Basin is located in the continent of Africa.\n",
      "Ma River is located in the continent of Asia.\n",
      "{} is located in the continent of\n",
      "tensor(3.6211, device='cuda:0', dtype=torch.float16) tensor(26.7344, device='cuda:0', dtype=torch.float16)\n",
      "\n",
      "subject:  Chad Basin\n",
      "Ma River is located in the continent of Asia.\n",
      "English Channel is located in the continent of Europe.\n",
      "Romulus Glacier is located in the continent of Antarctica.\n",
      "{} is located in the continent of\n",
      "tensor(9.5234, device='cuda:0', dtype=torch.float16) tensor(83.1250, device='cuda:0', dtype=torch.float16)\n",
      "\n"
     ]
    },
    {
     "data": {
      "application/vnd.jupyter.widget-view+json": {
       "model_id": "38e2c54c44d942e4a9aa54c9fb7b2793",
       "version_major": 2,
       "version_minor": 0
      },
      "text/plain": [
       "  0%|          | 0/4 [00:00<?, ?it/s]"
      ]
     },
     "metadata": {},
     "output_type": "display_data"
    },
    {
     "name": "stdout",
     "output_type": "stream",
     "text": [
      "subject:  English Channel\n",
      "Chad Basin is located in the continent of Africa.\n",
      "Ma River is located in the continent of Asia.\n",
      "Romulus Glacier is located in the continent of Antarctica.\n",
      "{} is located in the continent of\n",
      "tensor(2.6992, device='cuda:0', dtype=torch.float16) tensor(31.3438, device='cuda:0', dtype=torch.float16)\n",
      "\n",
      "subject:  Romulus Glacier\n",
      "Ma River is located in the continent of Asia.\n",
      "English Channel is located in the continent of Europe.\n",
      "Chad Basin is located in the continent of Africa.\n",
      "{} is located in the continent of\n",
      "tensor(6.2422, device='cuda:0', dtype=torch.float16) tensor(82.6250, device='cuda:0', dtype=torch.float16)\n",
      "\n",
      "subject:  Chad Basin\n",
      "Ma River is located in the continent of Asia.\n",
      "Romulus Glacier is located in the continent of Antarctica.\n",
      "English Channel is located in the continent of Europe.\n",
      "{} is located in the continent of\n",
      "tensor(11.8203, device='cuda:0', dtype=torch.float16) tensor(83.4375, device='cuda:0', dtype=torch.float16)\n",
      "\n",
      "subject:  Ma River\n",
      "English Channel is located in the continent of Europe.\n",
      "Romulus Glacier is located in the continent of Antarctica.\n",
      "Chad Basin is located in the continent of Africa.\n",
      "{} is located in the continent of\n",
      "tensor(3.5527, device='cuda:0', dtype=torch.float16) tensor(12.8594, device='cuda:0', dtype=torch.float16)\n",
      "\n"
     ]
    },
    {
     "data": {
      "application/vnd.jupyter.widget-view+json": {
       "model_id": "374d6d8cc0474fb3a23c2bda7f00ebd9",
       "version_major": 2,
       "version_minor": 0
      },
      "text/plain": [
       "  0%|          | 0/4 [00:00<?, ?it/s]"
      ]
     },
     "metadata": {},
     "output_type": "display_data"
    },
    {
     "name": "stdout",
     "output_type": "stream",
     "text": [
      "subject:  Chad Basin\n",
      "Ma River is located in the continent of Asia.\n",
      "English Channel is located in the continent of Europe.\n",
      "Romulus Glacier is located in the continent of Antarctica.\n",
      "{} is located in the continent of\n",
      "tensor(9.5234, device='cuda:0', dtype=torch.float16) tensor(83.1250, device='cuda:0', dtype=torch.float16)\n",
      "\n",
      "subject:  Ma River\n",
      "Romulus Glacier is located in the continent of Antarctica.\n",
      "English Channel is located in the continent of Europe.\n",
      "Chad Basin is located in the continent of Africa.\n",
      "{} is located in the continent of\n",
      "tensor(4.0742, device='cuda:0', dtype=torch.float16) tensor(26.6562, device='cuda:0', dtype=torch.float16)\n",
      "\n",
      "subject:  English Channel\n",
      "Romulus Glacier is located in the continent of Antarctica.\n",
      "Chad Basin is located in the continent of Africa.\n",
      "Ma River is located in the continent of Asia.\n",
      "{} is located in the continent of\n",
      "tensor(3.6211, device='cuda:0', dtype=torch.float16) tensor(26.7344, device='cuda:0', dtype=torch.float16)\n",
      "\n",
      "subject:  Romulus Glacier\n",
      "English Channel is located in the continent of Europe.\n",
      "Ma River is located in the continent of Asia.\n",
      "Chad Basin is located in the continent of Africa.\n",
      "{} is located in the continent of\n",
      "tensor(3.0918, device='cuda:0', dtype=torch.float16) tensor(12.8203, device='cuda:0', dtype=torch.float16)\n",
      "\n"
     ]
    },
    {
     "data": {
      "application/vnd.jupyter.widget-view+json": {
       "model_id": "b207e13cbe80465eaedd071c7e446f62",
       "version_major": 2,
       "version_minor": 0
      },
      "text/plain": [
       "  0%|          | 0/4 [00:00<?, ?it/s]"
      ]
     },
     "metadata": {},
     "output_type": "display_data"
    },
    {
     "name": "stdout",
     "output_type": "stream",
     "text": [
      "subject:  Chad Basin\n",
      "Romulus Glacier is located in the continent of Antarctica.\n",
      "English Channel is located in the continent of Europe.\n",
      "Ma River is located in the continent of Asia.\n",
      "{} is located in the continent of\n",
      "tensor(9.4922, device='cuda:0', dtype=torch.float16) tensor(28.3750, device='cuda:0', dtype=torch.float16)\n",
      "\n",
      "subject:  Ma River\n",
      "Chad Basin is located in the continent of Africa.\n",
      "English Channel is located in the continent of Europe.\n",
      "Romulus Glacier is located in the continent of Antarctica.\n",
      "{} is located in the continent of\n",
      "tensor(2.9941, device='cuda:0', dtype=torch.float16) tensor(31.2656, device='cuda:0', dtype=torch.float16)\n",
      "\n",
      "subject:  English Channel\n",
      "Romulus Glacier is located in the continent of Antarctica.\n",
      "Ma River is located in the continent of Asia.\n",
      "Chad Basin is located in the continent of Africa.\n",
      "{} is located in the continent of\n",
      "tensor(3.2988, device='cuda:0', dtype=torch.float16) tensor(26.7188, device='cuda:0', dtype=torch.float16)\n",
      "\n",
      "subject:  Romulus Glacier\n",
      "Chad Basin is located in the continent of Africa.\n",
      "Ma River is located in the continent of Asia.\n",
      "English Channel is located in the continent of Europe.\n",
      "{} is located in the continent of\n",
      "tensor(3.4707, device='cuda:0', dtype=torch.float16) tensor(31.3594, device='cuda:0', dtype=torch.float16)\n",
      "\n"
     ]
    },
    {
     "data": {
      "application/vnd.jupyter.widget-view+json": {
       "model_id": "e87a16b129bd4cccb1174f654475fad0",
       "version_major": 2,
       "version_minor": 0
      },
      "text/plain": [
       "  0%|          | 0/4 [00:00<?, ?it/s]"
      ]
     },
     "metadata": {},
     "output_type": "display_data"
    },
    {
     "name": "stdout",
     "output_type": "stream",
     "text": [
      "subject:  English Channel\n",
      "Chad Basin is located in the continent of Africa.\n",
      "Romulus Glacier is located in the continent of Antarctica.\n",
      "Ma River is located in the continent of Asia.\n",
      "{} is located in the continent of\n",
      "tensor(2.8027, device='cuda:0', dtype=torch.float16) tensor(31.3125, device='cuda:0', dtype=torch.float16)\n",
      "\n",
      "subject:  Ma River\n",
      "Chad Basin is located in the continent of Africa.\n",
      "Romulus Glacier is located in the continent of Antarctica.\n",
      "English Channel is located in the continent of Europe.\n",
      "{} is located in the continent of\n",
      "tensor(3.1094, device='cuda:0', dtype=torch.float16) tensor(31.2969, device='cuda:0', dtype=torch.float16)\n",
      "\n",
      "subject:  Chad Basin\n",
      "Romulus Glacier is located in the continent of Antarctica.\n",
      "Ma River is located in the continent of Asia.\n",
      "English Channel is located in the continent of Europe.\n",
      "{} is located in the continent of\n",
      "tensor(10.7969, device='cuda:0', dtype=torch.float16) tensor(28.9531, device='cuda:0', dtype=torch.float16)\n",
      "\n",
      "subject:  Romulus Glacier\n",
      "Chad Basin is located in the continent of Africa.\n",
      "Ma River is located in the continent of Asia.\n",
      "English Channel is located in the continent of Europe.\n",
      "{} is located in the continent of\n",
      "tensor(3.4707, device='cuda:0', dtype=torch.float16) tensor(31.3594, device='cuda:0', dtype=torch.float16)\n",
      "\n"
     ]
    },
    {
     "data": {
      "application/vnd.jupyter.widget-view+json": {
       "model_id": "bdee3a43769c406b8f5cfe2f225a7b0d",
       "version_major": 2,
       "version_minor": 0
      },
      "text/plain": [
       "  0%|          | 0/4 [00:00<?, ?it/s]"
      ]
     },
     "metadata": {},
     "output_type": "display_data"
    },
    {
     "name": "stdout",
     "output_type": "stream",
     "text": [
      "subject:  Chad Basin\n",
      "English Channel is located in the continent of Europe.\n",
      "Romulus Glacier is located in the continent of Antarctica.\n",
      "Ma River is located in the continent of Asia.\n",
      "{} is located in the continent of\n",
      "tensor(8.3281, device='cuda:0', dtype=torch.float16) tensor(15.5078, device='cuda:0', dtype=torch.float16)\n",
      "\n",
      "subject:  Romulus Glacier\n",
      "English Channel is located in the continent of Europe.\n",
      "Ma River is located in the continent of Asia.\n",
      "Chad Basin is located in the continent of Africa.\n",
      "{} is located in the continent of\n",
      "tensor(3.0918, device='cuda:0', dtype=torch.float16) tensor(12.8203, device='cuda:0', dtype=torch.float16)\n",
      "\n",
      "subject:  English Channel\n",
      "Ma River is located in the continent of Asia.\n",
      "Romulus Glacier is located in the continent of Antarctica.\n",
      "Chad Basin is located in the continent of Africa.\n",
      "{} is located in the continent of\n",
      "tensor(3.1797, device='cuda:0', dtype=torch.float16) tensor(82.5000, device='cuda:0', dtype=torch.float16)\n",
      "\n",
      "subject:  Ma River\n",
      "Chad Basin is located in the continent of Africa.\n",
      "English Channel is located in the continent of Europe.\n",
      "Romulus Glacier is located in the continent of Antarctica.\n",
      "{} is located in the continent of\n",
      "tensor(2.9941, device='cuda:0', dtype=torch.float16) tensor(31.2656, device='cuda:0', dtype=torch.float16)\n",
      "\n",
      "Saving weights and biases >>  gpt-j/jacobians_averaged_collection/after__ln_f/P30.npz\n",
      "----------------------------------------------------\n",
      "zzzzzzzzzzzzzzzzzzzzzzzzzzzzzzzzzzzzzzzzzzzzzzzzzzzz\n",
      "P937 {} worked in the city of\n",
      "zzzzzzzzzzzzzzzzzzzzzzzzzzzzzzzzzzzzzzzzzzzzzzzzzzzz\n",
      "328\n",
      "{} worked in the city of\n"
     ]
    },
    {
     "data": {
      "application/vnd.jupyter.widget-view+json": {
       "model_id": "bcac0c233e7c48ea88451e95f38af5e5",
       "version_major": 2,
       "version_minor": 0
      },
      "text/plain": [
       "  0%|          | 0/10 [00:00<?, ?it/s]"
      ]
     },
     "metadata": {},
     "output_type": "display_data"
    },
    {
     "data": {
      "application/vnd.jupyter.widget-view+json": {
       "model_id": "f0012809a1ef4f61bdbc18941955a989",
       "version_major": 2,
       "version_minor": 0
      },
      "text/plain": [
       "  0%|          | 0/5 [00:00<?, ?it/s]"
      ]
     },
     "metadata": {},
     "output_type": "display_data"
    },
    {
     "name": "stdout",
     "output_type": "stream",
     "text": [
      "subject:  Billy Corgan\n",
      "Carl Mayer worked in the city of Berlin.\n",
      "Christian Bohr worked in the city of Copenhagen.\n",
      "Halvard Lange worked in the city of Oslo.\n",
      "{} worked in the city of\n",
      "tensor(13.2578, device='cuda:0', dtype=torch.float16) tensor(13.4062, device='cuda:0', dtype=torch.float16)\n",
      "\n",
      "subject:  Halvard Lange\n",
      "Carl Mayer worked in the city of Berlin.\n",
      "Billy Corgan worked in the city of Chicago.\n",
      "John Goodsir worked in the city of Edinburgh.\n",
      "{} worked in the city of\n",
      "tensor(0.5298, device='cuda:0', dtype=torch.float16) tensor(4.5820, device='cuda:0', dtype=torch.float16)\n",
      "\n",
      "subject:  Christian Bohr\n",
      "Halvard Lange worked in the city of Oslo.\n",
      "Carl Mayer worked in the city of Berlin.\n",
      "Billy Corgan worked in the city of Chicago.\n",
      "{} worked in the city of\n",
      "tensor(8.2500, device='cuda:0', dtype=torch.float16) tensor(65.6875, device='cuda:0', dtype=torch.float16)\n",
      "\n",
      "subject:  Carl Mayer\n",
      "John Goodsir worked in the city of Edinburgh.\n",
      "Billy Corgan worked in the city of Chicago.\n",
      "Christian Bohr worked in the city of Copenhagen.\n",
      "{} worked in the city of\n",
      "tensor(2.5176, device='cuda:0', dtype=torch.float16) tensor(1.9873, device='cuda:0', dtype=torch.float16)\n",
      "\n",
      "subject:  John Goodsir\n",
      "Carl Mayer worked in the city of Berlin.\n",
      "Halvard Lange worked in the city of Oslo.\n",
      "Christian Bohr worked in the city of Copenhagen.\n",
      "{} worked in the city of\n",
      "tensor(3.5137, device='cuda:0', dtype=torch.float16) tensor(5.1875, device='cuda:0', dtype=torch.float16)\n",
      "\n"
     ]
    },
    {
     "data": {
      "application/vnd.jupyter.widget-view+json": {
       "model_id": "f117da12e4074c7f902d1110e26e3252",
       "version_major": 2,
       "version_minor": 0
      },
      "text/plain": [
       "  0%|          | 0/5 [00:00<?, ?it/s]"
      ]
     },
     "metadata": {},
     "output_type": "display_data"
    },
    {
     "name": "stdout",
     "output_type": "stream",
     "text": [
      "subject:  Alban Berg\n",
      "Christian Bohr worked in the city of Copenhagen.\n",
      "Halvard Lange worked in the city of Oslo.\n",
      "Veturia worked in the city of Rome.\n",
      "{} worked in the city of\n",
      "tensor(0.7319, device='cuda:0', dtype=torch.float16) tensor(99.8750, device='cuda:0', dtype=torch.float16)\n",
      "\n",
      "subject:  Halvard Lange\n",
      "Alban Berg worked in the city of Vienna.\n",
      "Christian Bohr worked in the city of Copenhagen.\n",
      "Veturia worked in the city of Rome.\n",
      "{} worked in the city of\n",
      "tensor(0.5439, device='cuda:0', dtype=torch.float16) tensor(13.2266, device='cuda:0', dtype=torch.float16)\n",
      "\n",
      "subject:  Christian Bohr\n",
      "Halvard Lange worked in the city of Oslo.\n",
      "Joseph Reinach worked in the city of Paris.\n",
      "Veturia worked in the city of Rome.\n",
      "{} worked in the city of\n",
      "tensor(10.5000, device='cuda:0', dtype=torch.float16) tensor(66.3125, device='cuda:0', dtype=torch.float16)\n",
      "\n",
      "subject:  Veturia\n",
      "Joseph Reinach worked in the city of Paris.\n",
      "Christian Bohr worked in the city of Copenhagen.\n",
      "Halvard Lange worked in the city of Oslo.\n",
      "{} worked in the city of\n",
      "tensor(3.3496, device='cuda:0', dtype=torch.float16) tensor(34.8125, device='cuda:0', dtype=torch.float16)\n",
      "\n",
      "subject:  Joseph Reinach\n",
      "Alban Berg worked in the city of Vienna.\n",
      "Christian Bohr worked in the city of Copenhagen.\n",
      "Veturia worked in the city of Rome.\n",
      "{} worked in the city of\n",
      "tensor(4.7773, device='cuda:0', dtype=torch.float16) tensor(14.2344, device='cuda:0', dtype=torch.float16)\n",
      "\n"
     ]
    },
    {
     "data": {
      "application/vnd.jupyter.widget-view+json": {
       "model_id": "21e020798b8f4029bc0a125686599d93",
       "version_major": 2,
       "version_minor": 0
      },
      "text/plain": [
       "  0%|          | 0/5 [00:00<?, ?it/s]"
      ]
     },
     "metadata": {},
     "output_type": "display_data"
    },
    {
     "name": "stdout",
     "output_type": "stream",
     "text": [
      "subject:  John Goodsir\n",
      "Halvard Lange worked in the city of Oslo.\n",
      "Veturia worked in the city of Rome.\n",
      "Christian Bohr worked in the city of Copenhagen.\n",
      "{} worked in the city of\n",
      "tensor(5.1016, device='cuda:0', dtype=torch.float16) tensor(65.1250, device='cuda:0', dtype=torch.float16)\n",
      "\n",
      "subject:  Christian Bohr\n",
      "Joseph Reinach worked in the city of Paris.\n",
      "John Goodsir worked in the city of Edinburgh.\n",
      "Veturia worked in the city of Rome.\n",
      "{} worked in the city of\n",
      "tensor(9.6172, device='cuda:0', dtype=torch.float16) tensor(36.5312, device='cuda:0', dtype=torch.float16)\n",
      "\n",
      "subject:  Joseph Reinach\n",
      "Veturia worked in the city of Rome.\n",
      "Christian Bohr worked in the city of Copenhagen.\n",
      "John Goodsir worked in the city of Edinburgh.\n",
      "{} worked in the city of\n",
      "tensor(5.5156, device='cuda:0', dtype=torch.float16) tensor(20.5938, device='cuda:0', dtype=torch.float16)\n",
      "\n",
      "subject:  Halvard Lange\n",
      "Christian Bohr worked in the city of Copenhagen.\n",
      "Joseph Reinach worked in the city of Paris.\n",
      "John Goodsir worked in the city of Edinburgh.\n",
      "{} worked in the city of\n",
      "tensor(0.4109, device='cuda:0', dtype=torch.float16) tensor(99.8750, device='cuda:0', dtype=torch.float16)\n",
      "\n",
      "subject:  Veturia\n",
      "Halvard Lange worked in the city of Oslo.\n",
      "Joseph Reinach worked in the city of Paris.\n",
      "John Goodsir worked in the city of Edinburgh.\n",
      "{} worked in the city of\n",
      "tensor(2.6328, device='cuda:0', dtype=torch.float16) tensor(65.1250, device='cuda:0', dtype=torch.float16)\n",
      "\n"
     ]
    },
    {
     "data": {
      "application/vnd.jupyter.widget-view+json": {
       "model_id": "e1d2b120bf8b439fa26c3dbd9f5b1ad1",
       "version_major": 2,
       "version_minor": 0
      },
      "text/plain": [
       "  0%|          | 0/5 [00:00<?, ?it/s]"
      ]
     },
     "metadata": {},
     "output_type": "display_data"
    },
    {
     "name": "stdout",
     "output_type": "stream",
     "text": [
      "subject:  John Goodsir\n",
      "Christian Bohr worked in the city of Copenhagen.\n",
      "Joseph Reinach worked in the city of Paris.\n",
      "Billy Corgan worked in the city of Chicago.\n",
      "{} worked in the city of\n",
      "tensor(2.7734, device='cuda:0', dtype=torch.float16) tensor(99.8750, device='cuda:0', dtype=torch.float16)\n",
      "\n",
      "subject:  Joseph Reinach\n",
      "John Goodsir worked in the city of Edinburgh.\n",
      "Halvard Lange worked in the city of Oslo.\n",
      "Billy Corgan worked in the city of Chicago.\n",
      "{} worked in the city of\n",
      "tensor(3.8262, device='cuda:0', dtype=torch.float16) tensor(4.5117, device='cuda:0', dtype=torch.float16)\n",
      "\n",
      "subject:  Christian Bohr\n",
      "Halvard Lange worked in the city of Oslo.\n",
      "John Goodsir worked in the city of Edinburgh.\n",
      "Joseph Reinach worked in the city of Paris.\n",
      "{} worked in the city of\n",
      "tensor(12.3672, device='cuda:0', dtype=torch.float16) tensor(66.7500, device='cuda:0', dtype=torch.float16)\n",
      "\n",
      "subject:  Billy Corgan\n",
      "Joseph Reinach worked in the city of Paris.\n",
      "John Goodsir worked in the city of Edinburgh.\n",
      "Halvard Lange worked in the city of Oslo.\n",
      "{} worked in the city of\n",
      "tensor(12.5703, device='cuda:0', dtype=torch.float16) tensor(36.7500, device='cuda:0', dtype=torch.float16)\n",
      "\n",
      "subject:  Halvard Lange\n",
      "Billy Corgan worked in the city of Chicago.\n",
      "Joseph Reinach worked in the city of Paris.\n",
      "John Goodsir worked in the city of Edinburgh.\n",
      "{} worked in the city of\n",
      "tensor(0.4407, device='cuda:0', dtype=torch.float16) tensor(14.8125, device='cuda:0', dtype=torch.float16)\n",
      "\n"
     ]
    },
    {
     "data": {
      "application/vnd.jupyter.widget-view+json": {
       "model_id": "ed5fd00f270548ae8d666abac91ce024",
       "version_major": 2,
       "version_minor": 0
      },
      "text/plain": [
       "  0%|          | 0/5 [00:00<?, ?it/s]"
      ]
     },
     "metadata": {},
     "output_type": "display_data"
    },
    {
     "name": "stdout",
     "output_type": "stream",
     "text": [
      "subject:  Albert Einstein\n",
      "Christian Bohr worked in the city of Copenhagen.\n",
      "Howard Florey worked in the city of London.\n",
      "Joseph Reinach worked in the city of Paris.\n",
      "{} worked in the city of\n",
      "tensor(3.4102, device='cuda:0', dtype=torch.float16) tensor(100.2500, device='cuda:0', dtype=torch.float16)\n",
      "\n",
      "subject:  Howard Florey\n",
      "Albert Einstein worked in the city of Bern.\n",
      "Christian Bohr worked in the city of Copenhagen.\n",
      "Joseph Reinach worked in the city of Paris.\n",
      "{} worked in the city of\n",
      "tensor(23.1094, device='cuda:0', dtype=torch.float16) tensor(26., device='cuda:0', dtype=torch.float16)\n",
      "\n",
      "subject:  Joseph Reinach\n",
      "Howard Florey worked in the city of London.\n",
      "Albert Einstein worked in the city of Bern.\n",
      "Christian Bohr worked in the city of Copenhagen.\n",
      "{} worked in the city of\n",
      "tensor(7.8867, device='cuda:0', dtype=torch.float16) tensor(13.0859, device='cuda:0', dtype=torch.float16)\n",
      "\n",
      "subject:  Christian Bohr\n",
      "Joseph Reinach worked in the city of Paris.\n",
      "Albert Einstein worked in the city of Bern.\n",
      "John Goodsir worked in the city of Edinburgh.\n",
      "{} worked in the city of\n",
      "tensor(22.3438, device='cuda:0', dtype=torch.float16) tensor(40.6875, device='cuda:0', dtype=torch.float16)\n",
      "\n",
      "subject:  John Goodsir\n",
      "Christian Bohr worked in the city of Copenhagen.\n",
      "Albert Einstein worked in the city of Bern.\n",
      "Howard Florey worked in the city of London.\n",
      "{} worked in the city of\n",
      "tensor(4.7578, device='cuda:0', dtype=torch.float16) tensor(99.9375, device='cuda:0', dtype=torch.float16)\n",
      "\n"
     ]
    },
    {
     "data": {
      "application/vnd.jupyter.widget-view+json": {
       "model_id": "927afcff298e421f9cc1b594d40e99ff",
       "version_major": 2,
       "version_minor": 0
      },
      "text/plain": [
       "  0%|          | 0/5 [00:00<?, ?it/s]"
      ]
     },
     "metadata": {},
     "output_type": "display_data"
    },
    {
     "name": "stdout",
     "output_type": "stream",
     "text": [
      "subject:  Joseph Reinach\n",
      "Howard Florey worked in the city of London.\n",
      "Veturia worked in the city of Rome.\n",
      "Billy Corgan worked in the city of Chicago.\n",
      "{} worked in the city of\n",
      "tensor(2.8164, device='cuda:0', dtype=torch.float16) tensor(9.8438, device='cuda:0', dtype=torch.float16)\n",
      "\n",
      "subject:  Howard Florey\n",
      "Veturia worked in the city of Rome.\n",
      "Joseph Reinach worked in the city of Paris.\n",
      "Carl Mayer worked in the city of Berlin.\n",
      "{} worked in the city of\n",
      "tensor(17.7031, device='cuda:0', dtype=torch.float16) tensor(26.4844, device='cuda:0', dtype=torch.float16)\n",
      "\n",
      "subject:  Veturia\n",
      "Billy Corgan worked in the city of Chicago.\n",
      "Joseph Reinach worked in the city of Paris.\n",
      "Carl Mayer worked in the city of Berlin.\n",
      "{} worked in the city of\n",
      "tensor(3.1699, device='cuda:0', dtype=torch.float16) tensor(16.2656, device='cuda:0', dtype=torch.float16)\n",
      "\n",
      "subject:  Billy Corgan\n",
      "Howard Florey worked in the city of London.\n",
      "Carl Mayer worked in the city of Berlin.\n",
      "Veturia worked in the city of Rome.\n",
      "{} worked in the city of\n",
      "tensor(8.0938, device='cuda:0', dtype=torch.float16) tensor(12.5625, device='cuda:0', dtype=torch.float16)\n",
      "\n",
      "subject:  Carl Mayer\n",
      "Billy Corgan worked in the city of Chicago.\n",
      "Howard Florey worked in the city of London.\n",
      "Joseph Reinach worked in the city of Paris.\n",
      "{} worked in the city of\n",
      "tensor(2.5410, device='cuda:0', dtype=torch.float16) tensor(14.8594, device='cuda:0', dtype=torch.float16)\n",
      "\n"
     ]
    },
    {
     "data": {
      "application/vnd.jupyter.widget-view+json": {
       "model_id": "0d22938b4148403888967900337f236f",
       "version_major": 2,
       "version_minor": 0
      },
      "text/plain": [
       "  0%|          | 0/5 [00:00<?, ?it/s]"
      ]
     },
     "metadata": {},
     "output_type": "display_data"
    },
    {
     "name": "stdout",
     "output_type": "stream",
     "text": [
      "subject:  Alban Berg\n",
      "John Goodsir worked in the city of Edinburgh.\n",
      "Albert Einstein worked in the city of Bern.\n",
      "Billy Corgan worked in the city of Chicago.\n",
      "{} worked in the city of\n",
      "tensor(0.7876, device='cuda:0', dtype=torch.float16) tensor(1.6953, device='cuda:0', dtype=torch.float16)\n",
      "\n",
      "subject:  Billy Corgan\n",
      "Alban Berg worked in the city of Vienna.\n",
      "Howard Florey worked in the city of London.\n",
      "John Goodsir worked in the city of Edinburgh.\n",
      "{} worked in the city of\n",
      "tensor(15.3750, device='cuda:0', dtype=torch.float16) tensor(20.3281, device='cuda:0', dtype=torch.float16)\n",
      "\n",
      "subject:  Albert Einstein\n",
      "John Goodsir worked in the city of Edinburgh.\n",
      "Howard Florey worked in the city of London.\n",
      "Alban Berg worked in the city of Vienna.\n",
      "{} worked in the city of\n",
      "tensor(4.8398, device='cuda:0', dtype=torch.float16) tensor(9.5703, device='cuda:0', dtype=torch.float16)\n",
      "\n",
      "subject:  John Goodsir\n",
      "Billy Corgan worked in the city of Chicago.\n",
      "Albert Einstein worked in the city of Bern.\n",
      "Alban Berg worked in the city of Vienna.\n",
      "{} worked in the city of\n",
      "tensor(5.0781, device='cuda:0', dtype=torch.float16) tensor(15.4062, device='cuda:0', dtype=torch.float16)\n",
      "\n",
      "subject:  Howard Florey\n",
      "John Goodsir worked in the city of Edinburgh.\n",
      "Alban Berg worked in the city of Vienna.\n",
      "Albert Einstein worked in the city of Bern.\n",
      "{} worked in the city of\n",
      "tensor(19.0156, device='cuda:0', dtype=torch.float16) tensor(20.4688, device='cuda:0', dtype=torch.float16)\n",
      "\n"
     ]
    },
    {
     "data": {
      "application/vnd.jupyter.widget-view+json": {
       "model_id": "d2f5a3d911854940a3096f0b693ba8cc",
       "version_major": 2,
       "version_minor": 0
      },
      "text/plain": [
       "  0%|          | 0/5 [00:00<?, ?it/s]"
      ]
     },
     "metadata": {},
     "output_type": "display_data"
    },
    {
     "name": "stdout",
     "output_type": "stream",
     "text": [
      "subject:  Albert Einstein\n",
      "Alban Berg worked in the city of Vienna.\n",
      "Christian Bohr worked in the city of Copenhagen.\n",
      "Veturia worked in the city of Rome.\n",
      "{} worked in the city of\n",
      "tensor(3.4863, device='cuda:0', dtype=torch.float16) tensor(14.5469, device='cuda:0', dtype=torch.float16)\n",
      "\n",
      "subject:  Carl Mayer\n",
      "Christian Bohr worked in the city of Copenhagen.\n",
      "Albert Einstein worked in the city of Bern.\n",
      "Alban Berg worked in the city of Vienna.\n",
      "{} worked in the city of\n",
      "tensor(2.0625, device='cuda:0', dtype=torch.float16) tensor(99.8750, device='cuda:0', dtype=torch.float16)\n",
      "\n",
      "subject:  Christian Bohr\n",
      "Carl Mayer worked in the city of Berlin.\n",
      "Albert Einstein worked in the city of Bern.\n",
      "Alban Berg worked in the city of Vienna.\n",
      "{} worked in the city of\n",
      "tensor(23.7500, device='cuda:0', dtype=torch.float16) tensor(22.6094, device='cuda:0', dtype=torch.float16)\n",
      "\n",
      "subject:  Veturia\n",
      "Albert Einstein worked in the city of Bern.\n",
      "Christian Bohr worked in the city of Copenhagen.\n",
      "Alban Berg worked in the city of Vienna.\n",
      "{} worked in the city of\n",
      "tensor(6.9922, device='cuda:0', dtype=torch.float16) tensor(14.2656, device='cuda:0', dtype=torch.float16)\n",
      "\n",
      "subject:  Alban Berg\n",
      "Carl Mayer worked in the city of Berlin.\n",
      "Albert Einstein worked in the city of Bern.\n",
      "Veturia worked in the city of Rome.\n",
      "{} worked in the city of\n",
      "tensor(0.6460, device='cuda:0', dtype=torch.float16) tensor(4.5859, device='cuda:0', dtype=torch.float16)\n",
      "\n"
     ]
    },
    {
     "data": {
      "application/vnd.jupyter.widget-view+json": {
       "model_id": "e88f1b016c824e2799656b9ede4e0651",
       "version_major": 2,
       "version_minor": 0
      },
      "text/plain": [
       "  0%|          | 0/5 [00:00<?, ?it/s]"
      ]
     },
     "metadata": {},
     "output_type": "display_data"
    },
    {
     "name": "stdout",
     "output_type": "stream",
     "text": [
      "subject:  Halvard Lange\n",
      "Albert Einstein worked in the city of Bern.\n",
      "John Goodsir worked in the city of Edinburgh.\n",
      "Christian Bohr worked in the city of Copenhagen.\n",
      "{} worked in the city of\n",
      "tensor(0.5508, device='cuda:0', dtype=torch.float16) tensor(10.6250, device='cuda:0', dtype=torch.float16)\n",
      "\n",
      "subject:  Christian Bohr\n",
      "Albert Einstein worked in the city of Bern.\n",
      "Carl Mayer worked in the city of Berlin.\n",
      "Halvard Lange worked in the city of Oslo.\n",
      "{} worked in the city of\n",
      "tensor(18.5938, device='cuda:0', dtype=torch.float16) tensor(21.7969, device='cuda:0', dtype=torch.float16)\n",
      "\n",
      "subject:  Carl Mayer\n",
      "Albert Einstein worked in the city of Bern.\n",
      "Christian Bohr worked in the city of Copenhagen.\n",
      "John Goodsir worked in the city of Edinburgh.\n",
      "{} worked in the city of\n",
      "tensor(2.6113, device='cuda:0', dtype=torch.float16) tensor(10.6953, device='cuda:0', dtype=torch.float16)\n",
      "\n",
      "subject:  John Goodsir\n",
      "Christian Bohr worked in the city of Copenhagen.\n",
      "Carl Mayer worked in the city of Berlin.\n",
      "Albert Einstein worked in the city of Bern.\n",
      "{} worked in the city of\n",
      "tensor(4.6914, device='cuda:0', dtype=torch.float16) tensor(99.9375, device='cuda:0', dtype=torch.float16)\n",
      "\n",
      "subject:  Albert Einstein\n",
      "John Goodsir worked in the city of Edinburgh.\n",
      "Carl Mayer worked in the city of Berlin.\n",
      "Halvard Lange worked in the city of Oslo.\n",
      "{} worked in the city of\n",
      "tensor(3.2734, device='cuda:0', dtype=torch.float16) tensor(6.2109, device='cuda:0', dtype=torch.float16)\n",
      "\n"
     ]
    },
    {
     "data": {
      "application/vnd.jupyter.widget-view+json": {
       "model_id": "8beb646aa2af4058b54e577baf04507b",
       "version_major": 2,
       "version_minor": 0
      },
      "text/plain": [
       "  0%|          | 0/5 [00:00<?, ?it/s]"
      ]
     },
     "metadata": {},
     "output_type": "display_data"
    },
    {
     "name": "stdout",
     "output_type": "stream",
     "text": [
      "subject:  John Goodsir\n",
      "Veturia worked in the city of Rome.\n",
      "Christian Bohr worked in the city of Copenhagen.\n",
      "Alban Berg worked in the city of Vienna.\n",
      "{} worked in the city of\n",
      "tensor(4.2031, device='cuda:0', dtype=torch.float16) tensor(19.5781, device='cuda:0', dtype=torch.float16)\n",
      "\n",
      "subject:  Alban Berg\n",
      "Halvard Lange worked in the city of Oslo.\n",
      "John Goodsir worked in the city of Edinburgh.\n",
      "Christian Bohr worked in the city of Copenhagen.\n",
      "{} worked in the city of\n",
      "tensor(0.8301, device='cuda:0', dtype=torch.float16) tensor(65., device='cuda:0', dtype=torch.float16)\n",
      "\n",
      "subject:  Halvard Lange\n",
      "John Goodsir worked in the city of Edinburgh.\n",
      "Alban Berg worked in the city of Vienna.\n",
      "Christian Bohr worked in the city of Copenhagen.\n",
      "{} worked in the city of\n",
      "tensor(0.6021, device='cuda:0', dtype=torch.float16) tensor(1.6660, device='cuda:0', dtype=torch.float16)\n",
      "\n",
      "subject:  Christian Bohr\n",
      "Alban Berg worked in the city of Vienna.\n",
      "Halvard Lange worked in the city of Oslo.\n",
      "Veturia worked in the city of Rome.\n",
      "{} worked in the city of\n",
      "tensor(9.4922, device='cuda:0', dtype=torch.float16) tensor(17.1875, device='cuda:0', dtype=torch.float16)\n",
      "\n",
      "subject:  Veturia\n",
      "Halvard Lange worked in the city of Oslo.\n",
      "Alban Berg worked in the city of Vienna.\n",
      "John Goodsir worked in the city of Edinburgh.\n",
      "{} worked in the city of\n",
      "tensor(3.4043, device='cuda:0', dtype=torch.float16) tensor(65.2500, device='cuda:0', dtype=torch.float16)\n",
      "\n",
      "Saving weights and biases >>  gpt-j/jacobians_averaged_collection/after__ln_f/P937.npz\n",
      "----------------------------------------------------\n",
      "zzzzzzzzzzzzzzzzzzzzzzzzzzzzzzzzzzzzzzzzzzzzzzzzzzzz\n",
      "P27 {} is a citizen of\n",
      "zzzzzzzzzzzzzzzzzzzzzzzzzzzzzzzzzzzzzzzzzzzzzzzzzzzz\n",
      "305\n",
      "{} is a citizen of\n"
     ]
    },
    {
     "data": {
      "application/vnd.jupyter.widget-view+json": {
       "model_id": "3b630a4be91944c6957a39b9fcebdfa1",
       "version_major": 2,
       "version_minor": 0
      },
      "text/plain": [
       "  0%|          | 0/10 [00:00<?, ?it/s]"
      ]
     },
     "metadata": {},
     "output_type": "display_data"
    },
    {
     "data": {
      "application/vnd.jupyter.widget-view+json": {
       "model_id": "8aa075ccb7af4d3ea0da301310d98c63",
       "version_major": 2,
       "version_minor": 0
      },
      "text/plain": [
       "  0%|          | 0/5 [00:00<?, ?it/s]"
      ]
     },
     "metadata": {},
     "output_type": "display_data"
    },
    {
     "name": "stdout",
     "output_type": "stream",
     "text": [
      "subject:  Andrew Bogut\n",
      "Pierre Cardin is a citizen of France.\n",
      "Harashima is a citizen of Japan.\n",
      "Mario Monti is a citizen of Italy.\n",
      "{} is a citizen of\n",
      "tensor(9.4688, device='cuda:0', dtype=torch.float16) tensor(20., device='cuda:0', dtype=torch.float16)\n",
      "\n",
      "subject:  Pierre Cardin\n",
      "Ronaldinho is a citizen of Brazil.\n",
      "Mario Monti is a citizen of Italy.\n",
      "Harashima is a citizen of Japan.\n",
      "{} is a citizen of\n",
      "tensor(3.5371, device='cuda:0', dtype=torch.float16) tensor(25.3594, device='cuda:0', dtype=torch.float16)\n",
      "\n",
      "subject:  Mario Monti\n",
      "Harashima is a citizen of Japan.\n",
      "Andrew Bogut is a citizen of Australia.\n",
      "Pierre Cardin is a citizen of France.\n",
      "{} is a citizen of\n",
      "tensor(12.0078, device='cuda:0', dtype=torch.float16) tensor(82., device='cuda:0', dtype=torch.float16)\n",
      "\n",
      "subject:  Harashima\n",
      "Pierre Cardin is a citizen of France.\n",
      "Mario Monti is a citizen of Italy.\n",
      "Andrew Bogut is a citizen of Australia.\n",
      "{} is a citizen of\n",
      "tensor(7.5117, device='cuda:0', dtype=torch.float16) tensor(16.8281, device='cuda:0', dtype=torch.float16)\n",
      "\n",
      "subject:  Ronaldinho\n",
      "Andrew Bogut is a citizen of Australia.\n",
      "Mario Monti is a citizen of Italy.\n",
      "Pierre Cardin is a citizen of France.\n",
      "{} is a citizen of\n",
      "tensor(3.6270, device='cuda:0', dtype=torch.float16) tensor(83., device='cuda:0', dtype=torch.float16)\n",
      "\n"
     ]
    },
    {
     "data": {
      "application/vnd.jupyter.widget-view+json": {
       "model_id": "7bcd79d5b9154b00a2ae9d24bc52ae8f",
       "version_major": 2,
       "version_minor": 0
      },
      "text/plain": [
       "  0%|          | 0/5 [00:00<?, ?it/s]"
      ]
     },
     "metadata": {},
     "output_type": "display_data"
    },
    {
     "name": "stdout",
     "output_type": "stream",
     "text": [
      "subject:  Ambar Roy\n",
      "Andrew Bogut is a citizen of Australia.\n",
      "Pierre Cardin is a citizen of France.\n",
      "Mario Monti is a citizen of Italy.\n",
      "{} is a citizen of\n",
      "tensor(6.1484, device='cuda:0', dtype=torch.float16) tensor(83., device='cuda:0', dtype=torch.float16)\n",
      "\n",
      "subject:  Pierre Cardin\n",
      "Andrew Bogut is a citizen of Australia.\n",
      "Ambar Roy is a citizen of India.\n",
      "Mario Monti is a citizen of Italy.\n",
      "{} is a citizen of\n",
      "tensor(3.7129, device='cuda:0', dtype=torch.float16) tensor(82.8750, device='cuda:0', dtype=torch.float16)\n",
      "\n",
      "subject:  Mario Monti\n",
      "Andrew Bogut is a citizen of Australia.\n",
      "Ambar Roy is a citizen of India.\n",
      "Harashima is a citizen of Japan.\n",
      "{} is a citizen of\n",
      "tensor(11.2266, device='cuda:0', dtype=torch.float16) tensor(83.5625, device='cuda:0', dtype=torch.float16)\n",
      "\n",
      "subject:  Harashima\n",
      "Andrew Bogut is a citizen of Australia.\n",
      "Ambar Roy is a citizen of India.\n",
      "Pierre Cardin is a citizen of France.\n",
      "{} is a citizen of\n",
      "tensor(4.9336, device='cuda:0', dtype=torch.float16) tensor(82.9375, device='cuda:0', dtype=torch.float16)\n",
      "\n",
      "subject:  Andrew Bogut\n",
      "Harashima is a citizen of Japan.\n",
      "Mario Monti is a citizen of Italy.\n",
      "Pierre Cardin is a citizen of France.\n",
      "{} is a citizen of\n",
      "tensor(9.8125, device='cuda:0', dtype=torch.float16) tensor(82.0625, device='cuda:0', dtype=torch.float16)\n",
      "\n"
     ]
    },
    {
     "data": {
      "application/vnd.jupyter.widget-view+json": {
       "model_id": "c947af03f0684d2dacc2e89c81f637d0",
       "version_major": 2,
       "version_minor": 0
      },
      "text/plain": [
       "  0%|          | 0/5 [00:00<?, ?it/s]"
      ]
     },
     "metadata": {},
     "output_type": "display_data"
    },
    {
     "name": "stdout",
     "output_type": "stream",
     "text": [
      "subject:  Ronaldinho\n",
      "Thomas Ong is a citizen of Singapore.\n",
      "Ambar Roy is a citizen of India.\n",
      "Harashima is a citizen of Japan.\n",
      "{} is a citizen of\n",
      "tensor(2.9160, device='cuda:0', dtype=torch.float16) tensor(27.0781, device='cuda:0', dtype=torch.float16)\n",
      "\n",
      "subject:  Thomas Ong\n",
      "Ronaldinho is a citizen of Brazil.\n",
      "Harashima is a citizen of Japan.\n",
      "Ambar Roy is a citizen of India.\n",
      "{} is a citizen of\n",
      "tensor(5.0742, device='cuda:0', dtype=torch.float16) tensor(25.4062, device='cuda:0', dtype=torch.float16)\n",
      "\n",
      "subject:  Ambar Roy\n",
      "Andrew Bogut is a citizen of Australia.\n",
      "Thomas Ong is a citizen of Singapore.\n",
      "Ronaldinho is a citizen of Brazil.\n",
      "{} is a citizen of\n",
      "tensor(5.8047, device='cuda:0', dtype=torch.float16) tensor(82.9375, device='cuda:0', dtype=torch.float16)\n",
      "\n",
      "subject:  Andrew Bogut\n",
      "Ronaldinho is a citizen of Brazil.\n",
      "Ambar Roy is a citizen of India.\n",
      "Thomas Ong is a citizen of Singapore.\n",
      "{} is a citizen of\n",
      "tensor(8.8047, device='cuda:0', dtype=torch.float16) tensor(30., device='cuda:0', dtype=torch.float16)\n",
      "\n",
      "subject:  Harashima\n",
      "Andrew Bogut is a citizen of Australia.\n",
      "Ambar Roy is a citizen of India.\n",
      "Ronaldinho is a citizen of Brazil.\n",
      "{} is a citizen of\n",
      "tensor(5.7852, device='cuda:0', dtype=torch.float16) tensor(83., device='cuda:0', dtype=torch.float16)\n",
      "\n"
     ]
    },
    {
     "data": {
      "application/vnd.jupyter.widget-view+json": {
       "model_id": "b8c1fea6769a49e697ac465bd9700387",
       "version_major": 2,
       "version_minor": 0
      },
      "text/plain": [
       "  0%|          | 0/5 [00:00<?, ?it/s]"
      ]
     },
     "metadata": {},
     "output_type": "display_data"
    },
    {
     "name": "stdout",
     "output_type": "stream",
     "text": [
      "subject:  Ronaldinho\n",
      "Harashima is a citizen of Japan.\n",
      "Thomas Ong is a citizen of Singapore.\n",
      "Ambar Roy is a citizen of India.\n",
      "{} is a citizen of\n",
      "tensor(2.9004, device='cuda:0', dtype=torch.float16) tensor(80.9375, device='cuda:0', dtype=torch.float16)\n",
      "\n",
      "subject:  Andrew Bogut\n",
      "Harashima is a citizen of Japan.\n",
      "Ambar Roy is a citizen of India.\n",
      "Thomas Ong is a citizen of Singapore.\n",
      "{} is a citizen of\n",
      "tensor(6.9727, device='cuda:0', dtype=torch.float16) tensor(81.7500, device='cuda:0', dtype=torch.float16)\n",
      "\n",
      "subject:  Harashima\n",
      "Ronaldinho is a citizen of Brazil.\n",
      "Ambar Roy is a citizen of India.\n",
      "Andrew Bogut is a citizen of Australia.\n",
      "{} is a citizen of\n",
      "tensor(6.6172, device='cuda:0', dtype=torch.float16) tensor(26.0156, device='cuda:0', dtype=torch.float16)\n",
      "\n",
      "subject:  Thomas Ong\n",
      "Andrew Bogut is a citizen of Australia.\n",
      "Harashima is a citizen of Japan.\n",
      "Ronaldinho is a citizen of Brazil.\n",
      "{} is a citizen of\n",
      "tensor(5.7344, device='cuda:0', dtype=torch.float16) tensor(83., device='cuda:0', dtype=torch.float16)\n",
      "\n",
      "subject:  Ambar Roy\n",
      "Thomas Ong is a citizen of Singapore.\n",
      "Harashima is a citizen of Japan.\n",
      "Ronaldinho is a citizen of Brazil.\n",
      "{} is a citizen of\n",
      "tensor(4.5742, device='cuda:0', dtype=torch.float16) tensor(27.2500, device='cuda:0', dtype=torch.float16)\n",
      "\n"
     ]
    },
    {
     "data": {
      "application/vnd.jupyter.widget-view+json": {
       "model_id": "25783f23965a481e8b4ad05242110142",
       "version_major": 2,
       "version_minor": 0
      },
      "text/plain": [
       "  0%|          | 0/5 [00:00<?, ?it/s]"
      ]
     },
     "metadata": {},
     "output_type": "display_data"
    },
    {
     "name": "stdout",
     "output_type": "stream",
     "text": [
      "subject:  Harashima\n",
      "Pierre Cardin is a citizen of France.\n",
      "Thomas Ong is a citizen of Singapore.\n",
      "Mario Monti is a citizen of Italy.\n",
      "{} is a citizen of\n",
      "tensor(4.8594, device='cuda:0', dtype=torch.float16) tensor(15.3906, device='cuda:0', dtype=torch.float16)\n",
      "\n",
      "subject:  Andrew Bogut\n",
      "Mario Monti is a citizen of Italy.\n",
      "Thomas Ong is a citizen of Singapore.\n",
      "Harashima is a citizen of Japan.\n",
      "{} is a citizen of\n",
      "tensor(8.6953, device='cuda:0', dtype=torch.float16) tensor(35.4688, device='cuda:0', dtype=torch.float16)\n",
      "\n",
      "subject:  Pierre Cardin\n",
      "Harashima is a citizen of Japan.\n",
      "Thomas Ong is a citizen of Singapore.\n",
      "Andrew Bogut is a citizen of Australia.\n",
      "{} is a citizen of\n",
      "tensor(4.2031, device='cuda:0', dtype=torch.float16) tensor(81., device='cuda:0', dtype=torch.float16)\n",
      "\n",
      "subject:  Mario Monti\n",
      "Pierre Cardin is a citizen of France.\n",
      "Thomas Ong is a citizen of Singapore.\n",
      "Andrew Bogut is a citizen of Australia.\n",
      "{} is a citizen of\n",
      "tensor(9.4531, device='cuda:0', dtype=torch.float16) tensor(17.8906, device='cuda:0', dtype=torch.float16)\n",
      "\n",
      "subject:  Thomas Ong\n",
      "Andrew Bogut is a citizen of Australia.\n",
      "Pierre Cardin is a citizen of France.\n",
      "Harashima is a citizen of Japan.\n",
      "{} is a citizen of\n",
      "tensor(5.1211, device='cuda:0', dtype=torch.float16) tensor(82.9375, device='cuda:0', dtype=torch.float16)\n",
      "\n"
     ]
    },
    {
     "data": {
      "application/vnd.jupyter.widget-view+json": {
       "model_id": "e28d751c4601408fa7e9a3c083d775d8",
       "version_major": 2,
       "version_minor": 0
      },
      "text/plain": [
       "  0%|          | 0/5 [00:00<?, ?it/s]"
      ]
     },
     "metadata": {},
     "output_type": "display_data"
    },
    {
     "name": "stdout",
     "output_type": "stream",
     "text": [
      "subject:  Thomas Ong\n",
      "Ambar Roy is a citizen of India.\n",
      "Ronaldinho is a citizen of Brazil.\n",
      "Andrew Bogut is a citizen of Australia.\n",
      "{} is a citizen of\n",
      "tensor(4.8477, device='cuda:0', dtype=torch.float16) tensor(79.3125, device='cuda:0', dtype=torch.float16)\n",
      "\n",
      "subject:  Ronaldinho\n",
      "Pierre Cardin is a citizen of France.\n",
      "Ambar Roy is a citizen of India.\n",
      "Thomas Ong is a citizen of Singapore.\n",
      "{} is a citizen of\n",
      "tensor(3.0488, device='cuda:0', dtype=torch.float16) tensor(15.2188, device='cuda:0', dtype=torch.float16)\n",
      "\n",
      "subject:  Pierre Cardin\n",
      "Ronaldinho is a citizen of Brazil.\n",
      "Andrew Bogut is a citizen of Australia.\n",
      "Ambar Roy is a citizen of India.\n",
      "{} is a citizen of\n",
      "tensor(4.5430, device='cuda:0', dtype=torch.float16) tensor(25.3281, device='cuda:0', dtype=torch.float16)\n",
      "\n",
      "subject:  Andrew Bogut\n",
      "Pierre Cardin is a citizen of France.\n",
      "Ambar Roy is a citizen of India.\n",
      "Ronaldinho is a citizen of Brazil.\n",
      "{} is a citizen of\n",
      "tensor(9.9297, device='cuda:0', dtype=torch.float16) tensor(20.1406, device='cuda:0', dtype=torch.float16)\n",
      "\n",
      "subject:  Ambar Roy\n",
      "Ronaldinho is a citizen of Brazil.\n",
      "Pierre Cardin is a citizen of France.\n",
      "Thomas Ong is a citizen of Singapore.\n",
      "{} is a citizen of\n",
      "tensor(3.6270, device='cuda:0', dtype=torch.float16) tensor(25.2344, device='cuda:0', dtype=torch.float16)\n",
      "\n"
     ]
    },
    {
     "data": {
      "application/vnd.jupyter.widget-view+json": {
       "model_id": "85dda85f4b534a1680e618573cf14c30",
       "version_major": 2,
       "version_minor": 0
      },
      "text/plain": [
       "  0%|          | 0/5 [00:00<?, ?it/s]"
      ]
     },
     "metadata": {},
     "output_type": "display_data"
    },
    {
     "name": "stdout",
     "output_type": "stream",
     "text": [
      "subject:  Ambar Roy\n",
      "Harashima is a citizen of Japan.\n",
      "Thomas Ong is a citizen of Singapore.\n",
      "Pierre Cardin is a citizen of France.\n",
      "{} is a citizen of\n",
      "tensor(5.3789, device='cuda:0', dtype=torch.float16) tensor(81.0625, device='cuda:0', dtype=torch.float16)\n",
      "\n",
      "subject:  Thomas Ong\n",
      "Pierre Cardin is a citizen of France.\n",
      "Harashima is a citizen of Japan.\n",
      "Andrew Bogut is a citizen of Australia.\n",
      "{} is a citizen of\n",
      "tensor(4.9141, device='cuda:0', dtype=torch.float16) tensor(15.8750, device='cuda:0', dtype=torch.float16)\n",
      "\n",
      "subject:  Pierre Cardin\n",
      "Ambar Roy is a citizen of India.\n",
      "Harashima is a citizen of Japan.\n",
      "Andrew Bogut is a citizen of Australia.\n",
      "{} is a citizen of\n",
      "tensor(4.3711, device='cuda:0', dtype=torch.float16) tensor(79.2500, device='cuda:0', dtype=torch.float16)\n",
      "\n",
      "subject:  Harashima\n",
      "Pierre Cardin is a citizen of France.\n",
      "Thomas Ong is a citizen of Singapore.\n",
      "Andrew Bogut is a citizen of Australia.\n",
      "{} is a citizen of\n",
      "tensor(5.4492, device='cuda:0', dtype=torch.float16) tensor(15.6328, device='cuda:0', dtype=torch.float16)\n",
      "\n",
      "subject:  Andrew Bogut\n",
      "Ambar Roy is a citizen of India.\n",
      "Thomas Ong is a citizen of Singapore.\n",
      "Pierre Cardin is a citizen of France.\n",
      "{} is a citizen of\n",
      "tensor(7.0547, device='cuda:0', dtype=torch.float16) tensor(79.7500, device='cuda:0', dtype=torch.float16)\n",
      "\n"
     ]
    },
    {
     "data": {
      "application/vnd.jupyter.widget-view+json": {
       "model_id": "64cb26f8238e47d39e953e94d0153ee4",
       "version_major": 2,
       "version_minor": 0
      },
      "text/plain": [
       "  0%|          | 0/5 [00:00<?, ?it/s]"
      ]
     },
     "metadata": {},
     "output_type": "display_data"
    },
    {
     "name": "stdout",
     "output_type": "stream",
     "text": [
      "subject:  Thomas Ong\n",
      "Ambar Roy is a citizen of India.\n",
      "Ronaldinho is a citizen of Brazil.\n",
      "Harashima is a citizen of Japan.\n",
      "{} is a citizen of\n",
      "tensor(5.2148, device='cuda:0', dtype=torch.float16) tensor(79.2500, device='cuda:0', dtype=torch.float16)\n",
      "\n",
      "subject:  Mario Monti\n",
      "Ronaldinho is a citizen of Brazil.\n",
      "Thomas Ong is a citizen of Singapore.\n",
      "Ambar Roy is a citizen of India.\n",
      "{} is a citizen of\n",
      "tensor(10.3906, device='cuda:0', dtype=torch.float16) tensor(27.8438, device='cuda:0', dtype=torch.float16)\n",
      "\n",
      "subject:  Ronaldinho\n",
      "Mario Monti is a citizen of Italy.\n",
      "Thomas Ong is a citizen of Singapore.\n",
      "Ambar Roy is a citizen of India.\n",
      "{} is a citizen of\n",
      "tensor(3.6953, device='cuda:0', dtype=torch.float16) tensor(33.0625, device='cuda:0', dtype=torch.float16)\n",
      "\n",
      "subject:  Harashima\n",
      "Mario Monti is a citizen of Italy.\n",
      "Ambar Roy is a citizen of India.\n",
      "Ronaldinho is a citizen of Brazil.\n",
      "{} is a citizen of\n",
      "tensor(5.9648, device='cuda:0', dtype=torch.float16) tensor(33.3438, device='cuda:0', dtype=torch.float16)\n",
      "\n",
      "subject:  Ambar Roy\n",
      "Harashima is a citizen of Japan.\n",
      "Ronaldinho is a citizen of Brazil.\n",
      "Mario Monti is a citizen of Italy.\n",
      "{} is a citizen of\n",
      "tensor(5.7305, device='cuda:0', dtype=torch.float16) tensor(81.1250, device='cuda:0', dtype=torch.float16)\n",
      "\n"
     ]
    },
    {
     "data": {
      "application/vnd.jupyter.widget-view+json": {
       "model_id": "0228c16167be467a933f57f44b7d85fb",
       "version_major": 2,
       "version_minor": 0
      },
      "text/plain": [
       "  0%|          | 0/5 [00:00<?, ?it/s]"
      ]
     },
     "metadata": {},
     "output_type": "display_data"
    },
    {
     "name": "stdout",
     "output_type": "stream",
     "text": [
      "subject:  Pierre Cardin\n",
      "Thomas Ong is a citizen of Singapore.\n",
      "Ambar Roy is a citizen of India.\n",
      "Harashima is a citizen of Japan.\n",
      "{} is a citizen of\n",
      "tensor(3.0938, device='cuda:0', dtype=torch.float16) tensor(27.0312, device='cuda:0', dtype=torch.float16)\n",
      "\n",
      "subject:  Harashima\n",
      "Ambar Roy is a citizen of India.\n",
      "Andrew Bogut is a citizen of Australia.\n",
      "Thomas Ong is a citizen of Singapore.\n",
      "{} is a citizen of\n",
      "tensor(5.4961, device='cuda:0', dtype=torch.float16) tensor(79.2500, device='cuda:0', dtype=torch.float16)\n",
      "\n",
      "subject:  Thomas Ong\n",
      "Pierre Cardin is a citizen of France.\n",
      "Harashima is a citizen of Japan.\n",
      "Andrew Bogut is a citizen of Australia.\n",
      "{} is a citizen of\n",
      "tensor(4.9141, device='cuda:0', dtype=torch.float16) tensor(15.8750, device='cuda:0', dtype=torch.float16)\n",
      "\n",
      "subject:  Ambar Roy\n",
      "Andrew Bogut is a citizen of Australia.\n",
      "Thomas Ong is a citizen of Singapore.\n",
      "Harashima is a citizen of Japan.\n",
      "{} is a citizen of\n",
      "tensor(5.6211, device='cuda:0', dtype=torch.float16) tensor(82.9375, device='cuda:0', dtype=torch.float16)\n",
      "\n",
      "subject:  Andrew Bogut\n",
      "Ambar Roy is a citizen of India.\n",
      "Thomas Ong is a citizen of Singapore.\n",
      "Harashima is a citizen of Japan.\n",
      "{} is a citizen of\n",
      "tensor(6.5156, device='cuda:0', dtype=torch.float16) tensor(79.6875, device='cuda:0', dtype=torch.float16)\n",
      "\n"
     ]
    },
    {
     "data": {
      "application/vnd.jupyter.widget-view+json": {
       "model_id": "29e718ffc0b346e3886c2402c337bdc5",
       "version_major": 2,
       "version_minor": 0
      },
      "text/plain": [
       "  0%|          | 0/5 [00:00<?, ?it/s]"
      ]
     },
     "metadata": {},
     "output_type": "display_data"
    },
    {
     "name": "stdout",
     "output_type": "stream",
     "text": [
      "subject:  Ambar Roy\n",
      "Thomas Ong is a citizen of Singapore.\n",
      "Andrew Bogut is a citizen of Australia.\n",
      "Pierre Cardin is a citizen of France.\n",
      "{} is a citizen of\n",
      "tensor(4.9492, device='cuda:0', dtype=torch.float16) tensor(27.1562, device='cuda:0', dtype=torch.float16)\n",
      "\n",
      "subject:  Andrew Bogut\n",
      "Mario Monti is a citizen of Italy.\n",
      "Pierre Cardin is a citizen of France.\n",
      "Ambar Roy is a citizen of India.\n",
      "{} is a citizen of\n",
      "tensor(9.1094, device='cuda:0', dtype=torch.float16) tensor(35.4688, device='cuda:0', dtype=torch.float16)\n",
      "\n",
      "subject:  Thomas Ong\n",
      "Andrew Bogut is a citizen of Australia.\n",
      "Ambar Roy is a citizen of India.\n",
      "Mario Monti is a citizen of Italy.\n",
      "{} is a citizen of\n",
      "tensor(5.2656, device='cuda:0', dtype=torch.float16) tensor(83.0625, device='cuda:0', dtype=torch.float16)\n",
      "\n",
      "subject:  Mario Monti\n",
      "Ambar Roy is a citizen of India.\n",
      "Pierre Cardin is a citizen of France.\n",
      "Andrew Bogut is a citizen of Australia.\n",
      "{} is a citizen of\n",
      "tensor(10.6953, device='cuda:0', dtype=torch.float16) tensor(79.9375, device='cuda:0', dtype=torch.float16)\n",
      "\n",
      "subject:  Pierre Cardin\n",
      "Ambar Roy is a citizen of India.\n",
      "Andrew Bogut is a citizen of Australia.\n",
      "Thomas Ong is a citizen of Singapore.\n",
      "{} is a citizen of\n",
      "tensor(3.7539, device='cuda:0', dtype=torch.float16) tensor(79.1875, device='cuda:0', dtype=torch.float16)\n",
      "\n",
      "Saving weights and biases >>  gpt-j/jacobians_averaged_collection/after__ln_f/P27.npz\n",
      "----------------------------------------------------\n",
      "zzzzzzzzzzzzzzzzzzzzzzzzzzzzzzzzzzzzzzzzzzzzzzzzzzzz\n",
      "P101 {} works in the field of\n",
      "zzzzzzzzzzzzzzzzzzzzzzzzzzzzzzzzzzzzzzzzzzzzzzzzzzzz\n",
      "82\n",
      "{} works in the field of\n"
     ]
    },
    {
     "data": {
      "application/vnd.jupyter.widget-view+json": {
       "model_id": "86152f3355af4e619c9fe9999e790dfb",
       "version_major": 2,
       "version_minor": 0
      },
      "text/plain": [
       "  0%|          | 0/10 [00:00<?, ?it/s]"
      ]
     },
     "metadata": {},
     "output_type": "display_data"
    },
    {
     "data": {
      "application/vnd.jupyter.widget-view+json": {
       "model_id": "33498070c2c94bce80c4b1c31a21b8ea",
       "version_major": 2,
       "version_minor": 0
      },
      "text/plain": [
       "  0%|          | 0/5 [00:00<?, ?it/s]"
      ]
     },
     "metadata": {},
     "output_type": "display_data"
    },
    {
     "name": "stdout",
     "output_type": "stream",
     "text": [
      "subject:  Carl Menger\n",
      "Max Weber works in the field of sociology.\n",
      "Edwin Hubble works in the field of astronomy.\n",
      "Euclid works in the field of geometry.\n",
      "{} works in the field of\n",
      "tensor(9.7422, device='cuda:0', dtype=torch.float16) tensor(57.0312, device='cuda:0', dtype=torch.float16)\n",
      "\n",
      "subject:  European Physical Journal\n",
      "Carl Menger works in the field of economics.\n",
      "Euclid works in the field of geometry.\n",
      "Max Weber works in the field of sociology.\n",
      "{} works in the field of\n",
      "tensor(0.5562, device='cuda:0', dtype=torch.float16) tensor(4.5859, device='cuda:0', dtype=torch.float16)\n",
      "\n",
      "subject:  Edwin Hubble\n",
      "Carl Menger works in the field of economics.\n",
      "European Physical Journal works in the field of physics.\n",
      "Max Weber works in the field of sociology.\n",
      "{} works in the field of\n",
      "tensor(0.5083, device='cuda:0', dtype=torch.float16) tensor(4.5820, device='cuda:0', dtype=torch.float16)\n",
      "\n",
      "subject:  Euclid\n",
      "Carl Menger works in the field of economics.\n",
      "Max Weber works in the field of sociology.\n",
      "Edwin Hubble works in the field of astronomy.\n",
      "{} works in the field of\n",
      "tensor(1.0254, device='cuda:0', dtype=torch.float16) tensor(4.6250, device='cuda:0', dtype=torch.float16)\n",
      "\n",
      "subject:  Max Weber\n",
      "Carl Menger works in the field of economics.\n",
      "Edwin Hubble works in the field of astronomy.\n",
      "European Physical Journal works in the field of physics.\n",
      "{} works in the field of\n",
      "tensor(0.6001, device='cuda:0', dtype=torch.float16) tensor(4.5859, device='cuda:0', dtype=torch.float16)\n",
      "\n"
     ]
    },
    {
     "data": {
      "application/vnd.jupyter.widget-view+json": {
       "model_id": "36e8b392945e44388ad9fed9d0ac442b",
       "version_major": 2,
       "version_minor": 0
      },
      "text/plain": [
       "  0%|          | 0/5 [00:00<?, ?it/s]"
      ]
     },
     "metadata": {},
     "output_type": "display_data"
    },
    {
     "name": "stdout",
     "output_type": "stream",
     "text": [
      "subject:  Sima Qian\n",
      "Carl Menger works in the field of economics.\n",
      "Edwin Hubble works in the field of astronomy.\n",
      "millennialism works in the field of theology.\n",
      "{} works in the field of\n",
      "tensor(1.9463, device='cuda:0', dtype=torch.float16) tensor(5.0312, device='cuda:0', dtype=torch.float16)\n",
      "\n",
      "subject:  Carl Menger\n",
      "European Physical Journal works in the field of physics.\n",
      "Edwin Hubble works in the field of astronomy.\n",
      "Sima Qian works in the field of history.\n",
      "{} works in the field of\n",
      "tensor(8.8828, device='cuda:0', dtype=torch.float16) tensor(8.1094, device='cuda:0', dtype=torch.float16)\n",
      "\n",
      "subject:  European Physical Journal\n",
      "Carl Menger works in the field of economics.\n",
      "Sima Qian works in the field of history.\n",
      "millennialism works in the field of theology.\n",
      "{} works in the field of\n",
      "tensor(0.5039, device='cuda:0', dtype=torch.float16) tensor(4.5742, device='cuda:0', dtype=torch.float16)\n",
      "\n",
      "subject:  millennialism\n",
      "Edwin Hubble works in the field of astronomy.\n",
      "Carl Menger works in the field of economics.\n",
      "Sima Qian works in the field of history.\n",
      "{} works in the field of\n",
      "tensor(1.9316, device='cuda:0', dtype=torch.float16) tensor(2.9707, device='cuda:0', dtype=torch.float16)\n",
      "\n",
      "subject:  Edwin Hubble\n",
      "Sima Qian works in the field of history.\n",
      "Carl Menger works in the field of economics.\n",
      "European Physical Journal works in the field of physics.\n",
      "{} works in the field of\n",
      "tensor(0.5620, device='cuda:0', dtype=torch.float16) tensor(69.4375, device='cuda:0', dtype=torch.float16)\n",
      "\n"
     ]
    },
    {
     "data": {
      "application/vnd.jupyter.widget-view+json": {
       "model_id": "b3286c1b2cfa4c14b3d17a9f7dfff56f",
       "version_major": 2,
       "version_minor": 0
      },
      "text/plain": [
       "  0%|          | 0/5 [00:00<?, ?it/s]"
      ]
     },
     "metadata": {},
     "output_type": "display_data"
    },
    {
     "name": "stdout",
     "output_type": "stream",
     "text": [
      "subject:  millennialism\n",
      "Sima Qian works in the field of history.\n",
      "European Physical Journal works in the field of physics.\n",
      "Michael Jackson works in the field of musician.\n",
      "{} works in the field of\n",
      "tensor(1.2070, device='cuda:0', dtype=torch.float16) tensor(69.4375, device='cuda:0', dtype=torch.float16)\n",
      "\n",
      "subject:  European Physical Journal\n",
      "millennialism works in the field of theology.\n",
      "Hypatia works in the field of mathematics.\n",
      "Sima Qian works in the field of history.\n",
      "{} works in the field of\n",
      "tensor(0.4729, device='cuda:0', dtype=torch.float16) tensor(73.6875, device='cuda:0', dtype=torch.float16)\n",
      "\n",
      "subject:  Michael Jackson\n",
      "Hypatia works in the field of mathematics.\n",
      "Sima Qian works in the field of history.\n",
      "millennialism works in the field of theology.\n",
      "{} works in the field of\n",
      "tensor(1.6230, device='cuda:0', dtype=torch.float16) tensor(60.1875, device='cuda:0', dtype=torch.float16)\n",
      "\n",
      "subject:  Sima Qian\n",
      "European Physical Journal works in the field of physics.\n",
      "Hypatia works in the field of mathematics.\n",
      "Michael Jackson works in the field of musician.\n",
      "{} works in the field of\n",
      "tensor(1.7227, device='cuda:0', dtype=torch.float16) tensor(2.5488, device='cuda:0', dtype=torch.float16)\n",
      "\n",
      "subject:  Hypatia\n",
      "Sima Qian works in the field of history.\n",
      "European Physical Journal works in the field of physics.\n",
      "millennialism works in the field of theology.\n",
      "{} works in the field of\n",
      "tensor(9.7422, device='cuda:0', dtype=torch.float16) tensor(70.1875, device='cuda:0', dtype=torch.float16)\n",
      "\n"
     ]
    },
    {
     "data": {
      "application/vnd.jupyter.widget-view+json": {
       "model_id": "ce75a98842a344a4991aead7fe6cb9b1",
       "version_major": 2,
       "version_minor": 0
      },
      "text/plain": [
       "  0%|          | 0/5 [00:00<?, ?it/s]"
      ]
     },
     "metadata": {},
     "output_type": "display_data"
    },
    {
     "name": "stdout",
     "output_type": "stream",
     "text": [
      "subject:  Edwin Hubble\n",
      "millennialism works in the field of theology.\n",
      "Sima Qian works in the field of history.\n",
      "European Physical Journal works in the field of physics.\n",
      "{} works in the field of\n",
      "tensor(0.8267, device='cuda:0', dtype=torch.float16) tensor(73.6875, device='cuda:0', dtype=torch.float16)\n",
      "\n",
      "subject:  millennialism\n",
      "Carl Menger works in the field of economics.\n",
      "Edwin Hubble works in the field of astronomy.\n",
      "European Physical Journal works in the field of physics.\n",
      "{} works in the field of\n",
      "tensor(1.8896, device='cuda:0', dtype=torch.float16) tensor(4.9883, device='cuda:0', dtype=torch.float16)\n",
      "\n",
      "subject:  European Physical Journal\n",
      "millennialism works in the field of theology.\n",
      "Carl Menger works in the field of economics.\n",
      "Edwin Hubble works in the field of astronomy.\n",
      "{} works in the field of\n",
      "tensor(0.5952, device='cuda:0', dtype=torch.float16) tensor(73.6875, device='cuda:0', dtype=torch.float16)\n",
      "\n",
      "subject:  Sima Qian\n",
      "Carl Menger works in the field of economics.\n",
      "millennialism works in the field of theology.\n",
      "Edwin Hubble works in the field of astronomy.\n",
      "{} works in the field of\n",
      "tensor(2.0684, device='cuda:0', dtype=torch.float16) tensor(5.0312, device='cuda:0', dtype=torch.float16)\n",
      "\n",
      "subject:  Carl Menger\n",
      "Edwin Hubble works in the field of astronomy.\n",
      "millennialism works in the field of theology.\n",
      "European Physical Journal works in the field of physics.\n",
      "{} works in the field of\n",
      "tensor(10.8438, device='cuda:0', dtype=torch.float16) tensor(9.4844, device='cuda:0', dtype=torch.float16)\n",
      "\n"
     ]
    },
    {
     "data": {
      "application/vnd.jupyter.widget-view+json": {
       "model_id": "054f34d8b8094a288b822678b84810a8",
       "version_major": 2,
       "version_minor": 0
      },
      "text/plain": [
       "  0%|          | 0/5 [00:00<?, ?it/s]"
      ]
     },
     "metadata": {},
     "output_type": "display_data"
    },
    {
     "name": "stdout",
     "output_type": "stream",
     "text": [
      "subject:  Max Weber\n",
      "Sima Qian works in the field of history.\n",
      "Carl Menger works in the field of economics.\n",
      "Hypatia works in the field of mathematics.\n",
      "{} works in the field of\n",
      "tensor(0.8125, device='cuda:0', dtype=torch.float16) tensor(69.4375, device='cuda:0', dtype=torch.float16)\n",
      "\n",
      "subject:  Sima Qian\n",
      "Carl Menger works in the field of economics.\n",
      "Max Weber works in the field of sociology.\n",
      "James Hillman works in the field of psychology.\n",
      "{} works in the field of\n",
      "tensor(1.6416, device='cuda:0', dtype=torch.float16) tensor(4.8945, device='cuda:0', dtype=torch.float16)\n",
      "\n",
      "subject:  Hypatia\n",
      "Carl Menger works in the field of economics.\n",
      "Max Weber works in the field of sociology.\n",
      "Sima Qian works in the field of history.\n",
      "{} works in the field of\n",
      "tensor(12.5156, device='cuda:0', dtype=torch.float16) tensor(15.0859, device='cuda:0', dtype=torch.float16)\n",
      "\n",
      "subject:  James Hillman\n",
      "Sima Qian works in the field of history.\n",
      "Hypatia works in the field of mathematics.\n",
      "Max Weber works in the field of sociology.\n",
      "{} works in the field of\n",
      "tensor(7.7188, device='cuda:0', dtype=torch.float16) tensor(70.3125, device='cuda:0', dtype=torch.float16)\n",
      "\n",
      "subject:  Carl Menger\n",
      "James Hillman works in the field of psychology.\n",
      "Hypatia works in the field of mathematics.\n",
      "Max Weber works in the field of sociology.\n",
      "{} works in the field of\n",
      "tensor(8.5469, device='cuda:0', dtype=torch.float16) tensor(8.4141, device='cuda:0', dtype=torch.float16)\n",
      "\n"
     ]
    },
    {
     "data": {
      "application/vnd.jupyter.widget-view+json": {
       "model_id": "0787f37f6b8645d89578cad489ca53ae",
       "version_major": 2,
       "version_minor": 0
      },
      "text/plain": [
       "  0%|          | 0/5 [00:00<?, ?it/s]"
      ]
     },
     "metadata": {},
     "output_type": "display_data"
    },
    {
     "name": "stdout",
     "output_type": "stream",
     "text": [
      "subject:  James Hillman\n",
      "Sima Qian works in the field of history.\n",
      "Edwin Hubble works in the field of astronomy.\n",
      "Euclid works in the field of geometry.\n",
      "{} works in the field of\n",
      "tensor(6.6250, device='cuda:0', dtype=torch.float16) tensor(70.3750, device='cuda:0', dtype=torch.float16)\n",
      "\n",
      "subject:  Euclid\n",
      "Edwin Hubble works in the field of astronomy.\n",
      "James Hillman works in the field of psychology.\n",
      "Sima Qian works in the field of history.\n",
      "{} works in the field of\n",
      "tensor(1.0059, device='cuda:0', dtype=torch.float16) tensor(2.0957, device='cuda:0', dtype=torch.float16)\n",
      "\n",
      "subject:  Hypatia\n",
      "James Hillman works in the field of psychology.\n",
      "Edwin Hubble works in the field of astronomy.\n",
      "Sima Qian works in the field of history.\n",
      "{} works in the field of\n",
      "tensor(15.1953, device='cuda:0', dtype=torch.float16) tensor(17.9688, device='cuda:0', dtype=torch.float16)\n",
      "\n",
      "subject:  Edwin Hubble\n",
      "Sima Qian works in the field of history.\n",
      "Hypatia works in the field of mathematics.\n",
      "Euclid works in the field of geometry.\n",
      "{} works in the field of\n",
      "tensor(0.6982, device='cuda:0', dtype=torch.float16) tensor(69.4375, device='cuda:0', dtype=torch.float16)\n",
      "\n",
      "subject:  Sima Qian\n",
      "Hypatia works in the field of mathematics.\n",
      "Edwin Hubble works in the field of astronomy.\n",
      "Euclid works in the field of geometry.\n",
      "{} works in the field of\n",
      "tensor(2.1582, device='cuda:0', dtype=torch.float16) tensor(60.1875, device='cuda:0', dtype=torch.float16)\n",
      "\n"
     ]
    },
    {
     "data": {
      "application/vnd.jupyter.widget-view+json": {
       "model_id": "f486858682d943c0890fc5195d5ca17d",
       "version_major": 2,
       "version_minor": 0
      },
      "text/plain": [
       "  0%|          | 0/5 [00:00<?, ?it/s]"
      ]
     },
     "metadata": {},
     "output_type": "display_data"
    },
    {
     "name": "stdout",
     "output_type": "stream",
     "text": [
      "subject:  Carl Menger\n",
      "James Hillman works in the field of psychology.\n",
      "Sima Qian works in the field of history.\n",
      "Michael Jackson works in the field of musician.\n",
      "{} works in the field of\n",
      "tensor(9.6797, device='cuda:0', dtype=torch.float16) tensor(8.5547, device='cuda:0', dtype=torch.float16)\n",
      "\n",
      "subject:  Sima Qian\n",
      "millennialism works in the field of theology.\n",
      "Michael Jackson works in the field of musician.\n",
      "Carl Menger works in the field of economics.\n",
      "{} works in the field of\n",
      "tensor(1.7783, device='cuda:0', dtype=torch.float16) tensor(73.6875, device='cuda:0', dtype=torch.float16)\n",
      "\n",
      "subject:  millennialism\n",
      "James Hillman works in the field of psychology.\n",
      "Michael Jackson works in the field of musician.\n",
      "Sima Qian works in the field of history.\n",
      "{} works in the field of\n",
      "tensor(1.4600, device='cuda:0', dtype=torch.float16) tensor(1.7559, device='cuda:0', dtype=torch.float16)\n",
      "\n",
      "subject:  Michael Jackson\n",
      "James Hillman works in the field of psychology.\n",
      "Carl Menger works in the field of economics.\n",
      "Sima Qian works in the field of history.\n",
      "{} works in the field of\n",
      "tensor(1.3955, device='cuda:0', dtype=torch.float16) tensor(1.2656, device='cuda:0', dtype=torch.float16)\n",
      "\n",
      "subject:  James Hillman\n",
      "Michael Jackson works in the field of musician.\n",
      "Carl Menger works in the field of economics.\n",
      "millennialism works in the field of theology.\n",
      "{} works in the field of\n",
      "tensor(5.9688, device='cuda:0', dtype=torch.float16) tensor(39.4688, device='cuda:0', dtype=torch.float16)\n",
      "\n"
     ]
    },
    {
     "data": {
      "application/vnd.jupyter.widget-view+json": {
       "model_id": "27e8b40283ff46a6bbb9b211b8da02c1",
       "version_major": 2,
       "version_minor": 0
      },
      "text/plain": [
       "  0%|          | 0/5 [00:00<?, ?it/s]"
      ]
     },
     "metadata": {},
     "output_type": "display_data"
    },
    {
     "name": "stdout",
     "output_type": "stream",
     "text": [
      "subject:  Sima Qian\n",
      "Euclid works in the field of geometry.\n",
      "millennialism works in the field of theology.\n",
      "Hypatia works in the field of mathematics.\n",
      "{} works in the field of\n",
      "tensor(1.7803, device='cuda:0', dtype=torch.float16) tensor(45.1250, device='cuda:0', dtype=torch.float16)\n",
      "\n",
      "subject:  Max Weber\n",
      "Euclid works in the field of geometry.\n",
      "Hypatia works in the field of mathematics.\n",
      "millennialism works in the field of theology.\n",
      "{} works in the field of\n",
      "tensor(0.8970, device='cuda:0', dtype=torch.float16) tensor(45.0938, device='cuda:0', dtype=torch.float16)\n",
      "\n",
      "subject:  Euclid\n",
      "Max Weber works in the field of sociology.\n",
      "Sima Qian works in the field of history.\n",
      "Hypatia works in the field of mathematics.\n",
      "{} works in the field of\n",
      "tensor(0.9341, device='cuda:0', dtype=torch.float16) tensor(56.3125, device='cuda:0', dtype=torch.float16)\n",
      "\n",
      "subject:  Hypatia\n",
      "Euclid works in the field of geometry.\n",
      "Max Weber works in the field of sociology.\n",
      "Sima Qian works in the field of history.\n",
      "{} works in the field of\n",
      "tensor(15.1719, device='cuda:0', dtype=torch.float16) tensor(48.2812, device='cuda:0', dtype=torch.float16)\n",
      "\n",
      "subject:  millennialism\n",
      "Euclid works in the field of geometry.\n",
      "Max Weber works in the field of sociology.\n",
      "Hypatia works in the field of mathematics.\n",
      "{} works in the field of\n",
      "tensor(2.0020, device='cuda:0', dtype=torch.float16) tensor(45.1562, device='cuda:0', dtype=torch.float16)\n",
      "\n"
     ]
    },
    {
     "data": {
      "application/vnd.jupyter.widget-view+json": {
       "model_id": "4b55a2c7106f42b5b36c97c4058040b7",
       "version_major": 2,
       "version_minor": 0
      },
      "text/plain": [
       "  0%|          | 0/5 [00:00<?, ?it/s]"
      ]
     },
     "metadata": {},
     "output_type": "display_data"
    },
    {
     "name": "stdout",
     "output_type": "stream",
     "text": [
      "subject:  Edwin Hubble\n",
      "Max Weber works in the field of sociology.\n",
      "James Hillman works in the field of psychology.\n",
      "European Physical Journal works in the field of physics.\n",
      "{} works in the field of\n",
      "tensor(0.4429, device='cuda:0', dtype=torch.float16) tensor(56.3125, device='cuda:0', dtype=torch.float16)\n",
      "\n",
      "subject:  European Physical Journal\n",
      "James Hillman works in the field of psychology.\n",
      "Max Weber works in the field of sociology.\n",
      "millennialism works in the field of theology.\n",
      "{} works in the field of\n",
      "tensor(0.5752, device='cuda:0', dtype=torch.float16) tensor(0.5762, device='cuda:0', dtype=torch.float16)\n",
      "\n",
      "subject:  millennialism\n",
      "Edwin Hubble works in the field of astronomy.\n",
      "European Physical Journal works in the field of physics.\n",
      "James Hillman works in the field of psychology.\n",
      "{} works in the field of\n",
      "tensor(1.6816, device='cuda:0', dtype=torch.float16) tensor(2.7090, device='cuda:0', dtype=torch.float16)\n",
      "\n",
      "subject:  James Hillman\n",
      "European Physical Journal works in the field of physics.\n",
      "Edwin Hubble works in the field of astronomy.\n",
      "millennialism works in the field of theology.\n",
      "{} works in the field of\n",
      "tensor(6.3359, device='cuda:0', dtype=torch.float16) tensor(9.8203, device='cuda:0', dtype=torch.float16)\n",
      "\n",
      "subject:  Max Weber\n",
      "James Hillman works in the field of psychology.\n",
      "millennialism works in the field of theology.\n",
      "European Physical Journal works in the field of physics.\n",
      "{} works in the field of\n",
      "tensor(0.7583, device='cuda:0', dtype=torch.float16) tensor(0.6909, device='cuda:0', dtype=torch.float16)\n",
      "\n"
     ]
    },
    {
     "data": {
      "application/vnd.jupyter.widget-view+json": {
       "model_id": "33b2a0e1b56b45c49d95b1d07bc9bb3f",
       "version_major": 2,
       "version_minor": 0
      },
      "text/plain": [
       "  0%|          | 0/5 [00:00<?, ?it/s]"
      ]
     },
     "metadata": {},
     "output_type": "display_data"
    },
    {
     "name": "stdout",
     "output_type": "stream",
     "text": [
      "subject:  Max Weber\n",
      "Carl Menger works in the field of economics.\n",
      "Euclid works in the field of geometry.\n",
      "millennialism works in the field of theology.\n",
      "{} works in the field of\n",
      "tensor(0.7114, device='cuda:0', dtype=torch.float16) tensor(4.5938, device='cuda:0', dtype=torch.float16)\n",
      "\n",
      "subject:  Carl Menger\n",
      "Max Weber works in the field of sociology.\n",
      "James Hillman works in the field of psychology.\n",
      "millennialism works in the field of theology.\n",
      "{} works in the field of\n",
      "tensor(9.7422, device='cuda:0', dtype=torch.float16) tensor(56.9375, device='cuda:0', dtype=torch.float16)\n",
      "\n",
      "subject:  millennialism\n",
      "Max Weber works in the field of sociology.\n",
      "Euclid works in the field of geometry.\n",
      "Carl Menger works in the field of economics.\n",
      "{} works in the field of\n",
      "tensor(2.0723, device='cuda:0', dtype=torch.float16) tensor(56.3750, device='cuda:0', dtype=torch.float16)\n",
      "\n",
      "subject:  James Hillman\n",
      "Max Weber works in the field of sociology.\n",
      "millennialism works in the field of theology.\n",
      "Euclid works in the field of geometry.\n",
      "{} works in the field of\n",
      "tensor(7.1836, device='cuda:0', dtype=torch.float16) tensor(57.2188, device='cuda:0', dtype=torch.float16)\n",
      "\n",
      "subject:  Euclid\n",
      "Carl Menger works in the field of economics.\n",
      "Max Weber works in the field of sociology.\n",
      "millennialism works in the field of theology.\n",
      "{} works in the field of\n",
      "tensor(0.8110, device='cuda:0', dtype=torch.float16) tensor(4.6250, device='cuda:0', dtype=torch.float16)\n",
      "\n",
      "Saving weights and biases >>  gpt-j/jacobians_averaged_collection/after__ln_f/P101.npz\n",
      "----------------------------------------------------\n",
      "zzzzzzzzzzzzzzzzzzzzzzzzzzzzzzzzzzzzzzzzzzzzzzzzzzzz\n",
      "P19 {} was born in\n",
      "zzzzzzzzzzzzzzzzzzzzzzzzzzzzzzzzzzzzzzzzzzzzzzzzzzzz\n",
      "128\n",
      "{} was born in\n"
     ]
    },
    {
     "data": {
      "application/vnd.jupyter.widget-view+json": {
       "model_id": "1b83bb95ff184eaa803c83f392f59c66",
       "version_major": 2,
       "version_minor": 0
      },
      "text/plain": [
       "  0%|          | 0/10 [00:00<?, ?it/s]"
      ]
     },
     "metadata": {},
     "output_type": "display_data"
    },
    {
     "data": {
      "application/vnd.jupyter.widget-view+json": {
       "model_id": "8b700a43f9c44acea02c4995ac4e5a32",
       "version_major": 2,
       "version_minor": 0
      },
      "text/plain": [
       "  0%|          | 0/5 [00:00<?, ?it/s]"
      ]
     },
     "metadata": {},
     "output_type": "display_data"
    },
    {
     "name": "stdout",
     "output_type": "stream",
     "text": [
      "subject:  Edward Said\n",
      "Sirindhorn was born in Bangkok.\n",
      "Paul Epworth was born in London.\n",
      "Mayumi Tanaka was born in Tokyo.\n",
      "{} was born in\n",
      "tensor(6.1914, device='cuda:0', dtype=torch.float16) tensor(11.8750, device='cuda:0', dtype=torch.float16)\n",
      "\n",
      "subject:  Paul Epworth\n",
      "Edward Said was born in Jerusalem.\n",
      "Sirindhorn was born in Bangkok.\n",
      "The Weeknd was born in Toronto.\n",
      "{} was born in\n",
      "tensor(3.6895, device='cuda:0', dtype=torch.float16) tensor(32.2500, device='cuda:0', dtype=torch.float16)\n",
      "\n",
      "subject:  Sirindhorn\n",
      "Paul Epworth was born in London.\n",
      "Mayumi Tanaka was born in Tokyo.\n",
      "The Weeknd was born in Toronto.\n",
      "{} was born in\n",
      "tensor(19.5156, device='cuda:0', dtype=torch.float16) tensor(36.7188, device='cuda:0', dtype=torch.float16)\n",
      "\n",
      "subject:  Mayumi Tanaka\n",
      "Edward Said was born in Jerusalem.\n",
      "Sirindhorn was born in Bangkok.\n",
      "Paul Epworth was born in London.\n",
      "{} was born in\n",
      "tensor(0.5308, device='cuda:0', dtype=torch.float16) tensor(32.0938, device='cuda:0', dtype=torch.float16)\n",
      "\n",
      "subject:  The Weeknd\n",
      "Mayumi Tanaka was born in Tokyo.\n",
      "Edward Said was born in Jerusalem.\n",
      "Paul Epworth was born in London.\n",
      "{} was born in\n",
      "tensor(15.8438, device='cuda:0', dtype=torch.float16) tensor(23.0312, device='cuda:0', dtype=torch.float16)\n",
      "\n"
     ]
    },
    {
     "data": {
      "application/vnd.jupyter.widget-view+json": {
       "model_id": "b5e2d4d508bc468a81a4d298b4238e9d",
       "version_major": 2,
       "version_minor": 0
      },
      "text/plain": [
       "  0%|          | 0/5 [00:00<?, ?it/s]"
      ]
     },
     "metadata": {},
     "output_type": "display_data"
    },
    {
     "name": "stdout",
     "output_type": "stream",
     "text": [
      "subject:  Daniel Alfredson\n",
      "Mayumi Tanaka was born in Tokyo.\n",
      "Paul Kimmage was born in Dublin.\n",
      "The Weeknd was born in Toronto.\n",
      "{} was born in\n",
      "tensor(12.4922, device='cuda:0', dtype=torch.float16) tensor(14.5625, device='cuda:0', dtype=torch.float16)\n",
      "\n",
      "subject:  Mayumi Tanaka\n",
      "Daniel Alfredson was born in Stockholm.\n",
      "The Weeknd was born in Toronto.\n",
      "Sirindhorn was born in Bangkok.\n",
      "{} was born in\n",
      "tensor(0.5171, device='cuda:0', dtype=torch.float16) tensor(3.9844, device='cuda:0', dtype=torch.float16)\n",
      "\n",
      "subject:  The Weeknd\n",
      "Paul Kimmage was born in Dublin.\n",
      "Sirindhorn was born in Bangkok.\n",
      "Mayumi Tanaka was born in Tokyo.\n",
      "{} was born in\n",
      "tensor(14.7266, device='cuda:0', dtype=torch.float16) tensor(36.3125, device='cuda:0', dtype=torch.float16)\n",
      "\n",
      "subject:  Paul Kimmage\n",
      "Sirindhorn was born in Bangkok.\n",
      "The Weeknd was born in Toronto.\n",
      "Daniel Alfredson was born in Stockholm.\n",
      "{} was born in\n",
      "tensor(1.3252, device='cuda:0', dtype=torch.float16) tensor(10.4141, device='cuda:0', dtype=torch.float16)\n",
      "\n",
      "subject:  Sirindhorn\n",
      "Mayumi Tanaka was born in Tokyo.\n",
      "Daniel Alfredson was born in Stockholm.\n",
      "The Weeknd was born in Toronto.\n",
      "{} was born in\n",
      "tensor(21.2969, device='cuda:0', dtype=torch.float16) tensor(25.4688, device='cuda:0', dtype=torch.float16)\n",
      "\n"
     ]
    },
    {
     "data": {
      "application/vnd.jupyter.widget-view+json": {
       "model_id": "7fe0d54dc20a4f4d8f661f6e83478acc",
       "version_major": 2,
       "version_minor": 0
      },
      "text/plain": [
       "  0%|          | 0/5 [00:00<?, ?it/s]"
      ]
     },
     "metadata": {},
     "output_type": "display_data"
    },
    {
     "name": "stdout",
     "output_type": "stream",
     "text": [
      "subject:  Maria Altmann\n",
      "The Weeknd was born in Toronto.\n",
      "Paul Epworth was born in London.\n",
      "Edward Said was born in Jerusalem.\n",
      "{} was born in\n",
      "tensor(12.9922, device='cuda:0', dtype=torch.float16) tensor(13.9922, device='cuda:0', dtype=torch.float16)\n",
      "\n",
      "subject:  Paul Epworth\n",
      "Edward Said was born in Jerusalem.\n",
      "Maria Altmann was born in Vienna.\n",
      "Paul Kimmage was born in Dublin.\n",
      "{} was born in\n",
      "tensor(2.9199, device='cuda:0', dtype=torch.float16) tensor(32.1562, device='cuda:0', dtype=torch.float16)\n",
      "\n",
      "subject:  The Weeknd\n",
      "Edward Said was born in Jerusalem.\n",
      "Maria Altmann was born in Vienna.\n",
      "Paul Kimmage was born in Dublin.\n",
      "{} was born in\n",
      "tensor(11.6641, device='cuda:0', dtype=torch.float16) tensor(37., device='cuda:0', dtype=torch.float16)\n",
      "\n",
      "subject:  Edward Said\n",
      "The Weeknd was born in Toronto.\n",
      "Paul Kimmage was born in Dublin.\n",
      "Maria Altmann was born in Vienna.\n",
      "{} was born in\n",
      "tensor(6.1758, device='cuda:0', dtype=torch.float16) tensor(8.1406, device='cuda:0', dtype=torch.float16)\n",
      "\n",
      "subject:  Paul Kimmage\n",
      "The Weeknd was born in Toronto.\n",
      "Edward Said was born in Jerusalem.\n",
      "Maria Altmann was born in Vienna.\n",
      "{} was born in\n",
      "tensor(1.7070, device='cuda:0', dtype=torch.float16) tensor(3.2402, device='cuda:0', dtype=torch.float16)\n",
      "\n"
     ]
    },
    {
     "data": {
      "application/vnd.jupyter.widget-view+json": {
       "model_id": "b7f8d2c9e2d84847aed520fb3dead319",
       "version_major": 2,
       "version_minor": 0
      },
      "text/plain": [
       "  0%|          | 0/5 [00:00<?, ?it/s]"
      ]
     },
     "metadata": {},
     "output_type": "display_data"
    },
    {
     "name": "stdout",
     "output_type": "stream",
     "text": [
      "subject:  Maria Altmann\n",
      "Paul Epworth was born in London.\n",
      "Mario Caiano was born in Rome.\n",
      "Sirindhorn was born in Bangkok.\n",
      "{} was born in\n",
      "tensor(15.2969, device='cuda:0', dtype=torch.float16) tensor(32.3438, device='cuda:0', dtype=torch.float16)\n",
      "\n",
      "subject:  The Weeknd\n",
      "Sirindhorn was born in Bangkok.\n",
      "Paul Epworth was born in London.\n",
      "Maria Altmann was born in Vienna.\n",
      "{} was born in\n",
      "tensor(15.2578, device='cuda:0', dtype=torch.float16) tensor(23.1562, device='cuda:0', dtype=torch.float16)\n",
      "\n",
      "subject:  Paul Epworth\n",
      "Maria Altmann was born in Vienna.\n",
      "Sirindhorn was born in Bangkok.\n",
      "Mario Caiano was born in Rome.\n",
      "{} was born in\n",
      "tensor(4.3125, device='cuda:0', dtype=torch.float16) tensor(55.3438, device='cuda:0', dtype=torch.float16)\n",
      "\n",
      "subject:  Sirindhorn\n",
      "Paul Epworth was born in London.\n",
      "Maria Altmann was born in Vienna.\n",
      "Mario Caiano was born in Rome.\n",
      "{} was born in\n",
      "tensor(20.8438, device='cuda:0', dtype=torch.float16) tensor(37.1562, device='cuda:0', dtype=torch.float16)\n",
      "\n",
      "subject:  Mario Caiano\n",
      "Paul Epworth was born in London.\n",
      "Maria Altmann was born in Vienna.\n",
      "Sirindhorn was born in Bangkok.\n",
      "{} was born in\n",
      "tensor(0.4531, device='cuda:0', dtype=torch.float16) tensor(28.5156, device='cuda:0', dtype=torch.float16)\n",
      "\n"
     ]
    },
    {
     "data": {
      "application/vnd.jupyter.widget-view+json": {
       "model_id": "b5e267114d3c4c41b61ba244f7adc5bf",
       "version_major": 2,
       "version_minor": 0
      },
      "text/plain": [
       "  0%|          | 0/5 [00:00<?, ?it/s]"
      ]
     },
     "metadata": {},
     "output_type": "display_data"
    },
    {
     "name": "stdout",
     "output_type": "stream",
     "text": [
      "subject:  Sergey Lavrov\n",
      "Paul Kimmage was born in Dublin.\n",
      "Mario Caiano was born in Rome.\n",
      "Maria Altmann was born in Vienna.\n",
      "{} was born in\n",
      "tensor(0.5234, device='cuda:0', dtype=torch.float16) tensor(28.5156, device='cuda:0', dtype=torch.float16)\n",
      "\n",
      "subject:  Mario Caiano\n",
      "Maria Altmann was born in Vienna.\n",
      "Paul Epworth was born in London.\n",
      "Paul Kimmage was born in Dublin.\n",
      "{} was born in\n",
      "tensor(0.4436, device='cuda:0', dtype=torch.float16) tensor(55.2500, device='cuda:0', dtype=torch.float16)\n",
      "\n",
      "subject:  Paul Epworth\n",
      "Sergey Lavrov was born in Moscow.\n",
      "Mario Caiano was born in Rome.\n",
      "Maria Altmann was born in Vienna.\n",
      "{} was born in\n",
      "tensor(4.6250, device='cuda:0', dtype=torch.float16) tensor(54., device='cuda:0', dtype=torch.float16)\n",
      "\n",
      "subject:  Paul Kimmage\n",
      "Sergey Lavrov was born in Moscow.\n",
      "Mario Caiano was born in Rome.\n",
      "Paul Epworth was born in London.\n",
      "{} was born in\n",
      "tensor(0.8926, device='cuda:0', dtype=torch.float16) tensor(53.8750, device='cuda:0', dtype=torch.float16)\n",
      "\n",
      "subject:  Maria Altmann\n",
      "Sergey Lavrov was born in Moscow.\n",
      "Paul Kimmage was born in Dublin.\n",
      "Paul Epworth was born in London.\n",
      "{} was born in\n",
      "tensor(12.7969, device='cuda:0', dtype=torch.float16) tensor(55.9062, device='cuda:0', dtype=torch.float16)\n",
      "\n"
     ]
    },
    {
     "data": {
      "application/vnd.jupyter.widget-view+json": {
       "model_id": "c3fdedeb78ae4f59a31a7733ba5fe5a6",
       "version_major": 2,
       "version_minor": 0
      },
      "text/plain": [
       "  0%|          | 0/5 [00:00<?, ?it/s]"
      ]
     },
     "metadata": {},
     "output_type": "display_data"
    },
    {
     "name": "stdout",
     "output_type": "stream",
     "text": [
      "subject:  Sergey Lavrov\n",
      "Daniel Alfredson was born in Stockholm.\n",
      "Mario Caiano was born in Rome.\n",
      "Edward Said was born in Jerusalem.\n",
      "{} was born in\n",
      "tensor(0.4536, device='cuda:0', dtype=torch.float16) tensor(3.9863, device='cuda:0', dtype=torch.float16)\n",
      "\n",
      "subject:  Edward Said\n",
      "Daniel Alfredson was born in Stockholm.\n",
      "Sergey Lavrov was born in Moscow.\n",
      "The Weeknd was born in Toronto.\n",
      "{} was born in\n",
      "tensor(6.3203, device='cuda:0', dtype=torch.float16) tensor(9.2734, device='cuda:0', dtype=torch.float16)\n",
      "\n",
      "subject:  The Weeknd\n",
      "Daniel Alfredson was born in Stockholm.\n",
      "Mario Caiano was born in Rome.\n",
      "Sergey Lavrov was born in Moscow.\n",
      "{} was born in\n",
      "tensor(13.4531, device='cuda:0', dtype=torch.float16) tensor(21.9531, device='cuda:0', dtype=torch.float16)\n",
      "\n",
      "subject:  Daniel Alfredson\n",
      "Sergey Lavrov was born in Moscow.\n",
      "The Weeknd was born in Toronto.\n",
      "Mario Caiano was born in Rome.\n",
      "{} was born in\n",
      "tensor(11.7656, device='cuda:0', dtype=torch.float16) tensor(55.5938, device='cuda:0', dtype=torch.float16)\n",
      "\n",
      "subject:  Mario Caiano\n",
      "Daniel Alfredson was born in Stockholm.\n",
      "Edward Said was born in Jerusalem.\n",
      "Sergey Lavrov was born in Moscow.\n",
      "{} was born in\n",
      "tensor(0.5488, device='cuda:0', dtype=torch.float16) tensor(3.9883, device='cuda:0', dtype=torch.float16)\n",
      "\n"
     ]
    },
    {
     "data": {
      "application/vnd.jupyter.widget-view+json": {
       "model_id": "b3728211eff04e9aa49b7148fd7a335d",
       "version_major": 2,
       "version_minor": 0
      },
      "text/plain": [
       "  0%|          | 0/5 [00:00<?, ?it/s]"
      ]
     },
     "metadata": {},
     "output_type": "display_data"
    },
    {
     "name": "stdout",
     "output_type": "stream",
     "text": [
      "subject:  Mario Caiano\n",
      "Maria Altmann was born in Vienna.\n",
      "Edward Said was born in Jerusalem.\n",
      "Paul Epworth was born in London.\n",
      "{} was born in\n",
      "tensor(0.4978, device='cuda:0', dtype=torch.float16) tensor(55.2500, device='cuda:0', dtype=torch.float16)\n",
      "\n",
      "subject:  Maria Altmann\n",
      "Mario Caiano was born in Rome.\n",
      "Edward Said was born in Jerusalem.\n",
      "Paul Epworth was born in London.\n",
      "{} was born in\n",
      "tensor(12.9297, device='cuda:0', dtype=torch.float16) tensor(35.5625, device='cuda:0', dtype=torch.float16)\n",
      "\n",
      "subject:  Edward Said\n",
      "Sirindhorn was born in Bangkok.\n",
      "Paul Epworth was born in London.\n",
      "Maria Altmann was born in Vienna.\n",
      "{} was born in\n",
      "tensor(4.6641, device='cuda:0', dtype=torch.float16) tensor(11.8984, device='cuda:0', dtype=torch.float16)\n",
      "\n",
      "subject:  Sirindhorn\n",
      "Mario Caiano was born in Rome.\n",
      "Edward Said was born in Jerusalem.\n",
      "Maria Altmann was born in Vienna.\n",
      "{} was born in\n",
      "tensor(20.8438, device='cuda:0', dtype=torch.float16) tensor(39.4375, device='cuda:0', dtype=torch.float16)\n",
      "\n",
      "subject:  Paul Epworth\n",
      "Maria Altmann was born in Vienna.\n",
      "Mario Caiano was born in Rome.\n",
      "Edward Said was born in Jerusalem.\n",
      "{} was born in\n",
      "tensor(4.1602, device='cuda:0', dtype=torch.float16) tensor(55.3438, device='cuda:0', dtype=torch.float16)\n",
      "\n"
     ]
    },
    {
     "data": {
      "application/vnd.jupyter.widget-view+json": {
       "model_id": "03ba8c9246104d2ea6f3d9af0d0d1544",
       "version_major": 2,
       "version_minor": 0
      },
      "text/plain": [
       "  0%|          | 0/5 [00:00<?, ?it/s]"
      ]
     },
     "metadata": {},
     "output_type": "display_data"
    },
    {
     "name": "stdout",
     "output_type": "stream",
     "text": [
      "subject:  Edward Said\n",
      "Daniel Alfredson was born in Stockholm.\n",
      "Paul Epworth was born in London.\n",
      "Maria Altmann was born in Vienna.\n",
      "{} was born in\n",
      "tensor(5.9570, device='cuda:0', dtype=torch.float16) tensor(6.7891, device='cuda:0', dtype=torch.float16)\n",
      "\n",
      "subject:  Daniel Alfredson\n",
      "Mario Caiano was born in Rome.\n",
      "Paul Epworth was born in London.\n",
      "Edward Said was born in Jerusalem.\n",
      "{} was born in\n",
      "tensor(8.1953, device='cuda:0', dtype=torch.float16) tensor(34.9062, device='cuda:0', dtype=torch.float16)\n",
      "\n",
      "subject:  Paul Epworth\n",
      "Edward Said was born in Jerusalem.\n",
      "Daniel Alfredson was born in Stockholm.\n",
      "Maria Altmann was born in Vienna.\n",
      "{} was born in\n",
      "tensor(3.8535, device='cuda:0', dtype=torch.float16) tensor(32.1875, device='cuda:0', dtype=torch.float16)\n",
      "\n",
      "subject:  Maria Altmann\n",
      "Mario Caiano was born in Rome.\n",
      "Paul Epworth was born in London.\n",
      "Edward Said was born in Jerusalem.\n",
      "{} was born in\n",
      "tensor(12.3594, device='cuda:0', dtype=torch.float16) tensor(35.1875, device='cuda:0', dtype=torch.float16)\n",
      "\n",
      "subject:  Mario Caiano\n",
      "Paul Epworth was born in London.\n",
      "Edward Said was born in Jerusalem.\n",
      "Daniel Alfredson was born in Stockholm.\n",
      "{} was born in\n",
      "tensor(0.5049, device='cuda:0', dtype=torch.float16) tensor(28.5156, device='cuda:0', dtype=torch.float16)\n",
      "\n"
     ]
    },
    {
     "data": {
      "application/vnd.jupyter.widget-view+json": {
       "model_id": "c4601578361e435282a3701e7879fa53",
       "version_major": 2,
       "version_minor": 0
      },
      "text/plain": [
       "  0%|          | 0/5 [00:00<?, ?it/s]"
      ]
     },
     "metadata": {},
     "output_type": "display_data"
    },
    {
     "name": "stdout",
     "output_type": "stream",
     "text": [
      "subject:  Daniel Alfredson\n",
      "Sergey Lavrov was born in Moscow.\n",
      "Sirindhorn was born in Bangkok.\n",
      "Mario Caiano was born in Rome.\n",
      "{} was born in\n",
      "tensor(12.5156, device='cuda:0', dtype=torch.float16) tensor(56.0625, device='cuda:0', dtype=torch.float16)\n",
      "\n",
      "subject:  The Weeknd\n",
      "Mario Caiano was born in Rome.\n",
      "Sirindhorn was born in Bangkok.\n",
      "Daniel Alfredson was born in Stockholm.\n",
      "{} was born in\n",
      "tensor(20.6250, device='cuda:0', dtype=torch.float16) tensor(44.5312, device='cuda:0', dtype=torch.float16)\n",
      "\n",
      "subject:  Sergey Lavrov\n",
      "Sirindhorn was born in Bangkok.\n",
      "Mario Caiano was born in Rome.\n",
      "The Weeknd was born in Toronto.\n",
      "{} was born in\n",
      "tensor(0.5259, device='cuda:0', dtype=torch.float16) tensor(10.3828, device='cuda:0', dtype=torch.float16)\n",
      "\n",
      "subject:  Sirindhorn\n",
      "The Weeknd was born in Toronto.\n",
      "Mario Caiano was born in Rome.\n",
      "Daniel Alfredson was born in Stockholm.\n",
      "{} was born in\n",
      "tensor(19.6250, device='cuda:0', dtype=torch.float16) tensor(24.5156, device='cuda:0', dtype=torch.float16)\n",
      "\n",
      "subject:  Mario Caiano\n",
      "Sergey Lavrov was born in Moscow.\n",
      "The Weeknd was born in Toronto.\n",
      "Daniel Alfredson was born in Stockholm.\n",
      "{} was born in\n",
      "tensor(0.5386, device='cuda:0', dtype=torch.float16) tensor(53.8750, device='cuda:0', dtype=torch.float16)\n",
      "\n"
     ]
    },
    {
     "data": {
      "application/vnd.jupyter.widget-view+json": {
       "model_id": "9f13c6c20fef4466a641958b01853e02",
       "version_major": 2,
       "version_minor": 0
      },
      "text/plain": [
       "  0%|          | 0/5 [00:00<?, ?it/s]"
      ]
     },
     "metadata": {},
     "output_type": "display_data"
    },
    {
     "name": "stdout",
     "output_type": "stream",
     "text": [
      "subject:  Sergey Lavrov\n",
      "Paul Epworth was born in London.\n",
      "Edward Said was born in Jerusalem.\n",
      "Paul Kimmage was born in Dublin.\n",
      "{} was born in\n",
      "tensor(0.4287, device='cuda:0', dtype=torch.float16) tensor(28.5156, device='cuda:0', dtype=torch.float16)\n",
      "\n",
      "subject:  Paul Kimmage\n",
      "Edward Said was born in Jerusalem.\n",
      "Sergey Lavrov was born in Moscow.\n",
      "Mayumi Tanaka was born in Tokyo.\n",
      "{} was born in\n",
      "tensor(1.6494, device='cuda:0', dtype=torch.float16) tensor(32.1250, device='cuda:0', dtype=torch.float16)\n",
      "\n",
      "subject:  Mayumi Tanaka\n",
      "Paul Epworth was born in London.\n",
      "Sergey Lavrov was born in Moscow.\n",
      "Paul Kimmage was born in Dublin.\n",
      "{} was born in\n",
      "tensor(0.5176, device='cuda:0', dtype=torch.float16) tensor(28.5156, device='cuda:0', dtype=torch.float16)\n",
      "\n",
      "subject:  Edward Said\n",
      "Mayumi Tanaka was born in Tokyo.\n",
      "Sergey Lavrov was born in Moscow.\n",
      "Paul Epworth was born in London.\n",
      "{} was born in\n",
      "tensor(6.4297, device='cuda:0', dtype=torch.float16) tensor(7.3242, device='cuda:0', dtype=torch.float16)\n",
      "\n",
      "subject:  Paul Epworth\n",
      "Sergey Lavrov was born in Moscow.\n",
      "Mayumi Tanaka was born in Tokyo.\n",
      "Edward Said was born in Jerusalem.\n",
      "{} was born in\n",
      "tensor(4.2617, device='cuda:0', dtype=torch.float16) tensor(54., device='cuda:0', dtype=torch.float16)\n",
      "\n",
      "Saving weights and biases >>  gpt-j/jacobians_averaged_collection/after__ln_f/P19.npz\n",
      "----------------------------------------------------\n",
      "zzzzzzzzzzzzzzzzzzzzzzzzzzzzzzzzzzzzzzzzzzzzzzzzzzzz\n",
      "P37 In {}, an official language is\n",
      "zzzzzzzzzzzzzzzzzzzzzzzzzzzzzzzzzzzzzzzzzzzzzzzzzzzz\n",
      "156\n",
      "In {}, an official language is\n"
     ]
    },
    {
     "data": {
      "application/vnd.jupyter.widget-view+json": {
       "model_id": "4b8f76603afe4a609e7666cd5d87522d",
       "version_major": 2,
       "version_minor": 0
      },
      "text/plain": [
       "  0%|          | 0/10 [00:00<?, ?it/s]"
      ]
     },
     "metadata": {},
     "output_type": "display_data"
    },
    {
     "data": {
      "application/vnd.jupyter.widget-view+json": {
       "model_id": "daaeb4b45b6149dd8f5a46c9695ff12e",
       "version_major": 2,
       "version_minor": 0
      },
      "text/plain": [
       "  0%|          | 0/5 [00:00<?, ?it/s]"
      ]
     },
     "metadata": {},
     "output_type": "display_data"
    },
    {
     "name": "stdout",
     "output_type": "stream",
     "text": [
      "subject:  Bulgaria\n",
      "In Church of Greece, an official language is Greek.\n",
      "In Panama, an official language is Spanish.\n",
      "In Niue, an official language is English.\n",
      "In {}, an official language is\n",
      "tensor(11.5859, device='cuda:0', dtype=torch.float16) tensor(23.3750, device='cuda:0', dtype=torch.float16)\n",
      "\n",
      "subject:  Comoros\n",
      "In Niue, an official language is English.\n",
      "In Panama, an official language is Spanish.\n",
      "In Bulgaria, an official language is Bulgarian.\n",
      "In {}, an official language is\n",
      "tensor(19.4844, device='cuda:0', dtype=torch.float16) tensor(28., device='cuda:0', dtype=torch.float16)\n",
      "\n",
      "subject:  Panama\n",
      "In Church of Greece, an official language is Greek.\n",
      "In Niue, an official language is English.\n",
      "In Comoros, an official language is French.\n",
      "In {}, an official language is\n",
      "tensor(14.3359, device='cuda:0', dtype=torch.float16) tensor(25.5156, device='cuda:0', dtype=torch.float16)\n",
      "\n",
      "subject:  Niue\n",
      "In Church of Greece, an official language is Greek.\n",
      "In Bulgaria, an official language is Bulgarian.\n",
      "In Comoros, an official language is French.\n",
      "In {}, an official language is\n",
      "tensor(17.6875, device='cuda:0', dtype=torch.float16) tensor(32.5000, device='cuda:0', dtype=torch.float16)\n",
      "\n",
      "subject:  Church of Greece\n",
      "In Bulgaria, an official language is Bulgarian.\n",
      "In Panama, an official language is Spanish.\n",
      "In Niue, an official language is English.\n",
      "In {}, an official language is\n",
      "tensor(8.8516, device='cuda:0', dtype=torch.float16) tensor(22.4688, device='cuda:0', dtype=torch.float16)\n",
      "\n"
     ]
    },
    {
     "data": {
      "application/vnd.jupyter.widget-view+json": {
       "model_id": "95375e66865c434dbaaf5e427418de1b",
       "version_major": 2,
       "version_minor": 0
      },
      "text/plain": [
       "  0%|          | 0/5 [00:00<?, ?it/s]"
      ]
     },
     "metadata": {},
     "output_type": "display_data"
    },
    {
     "name": "stdout",
     "output_type": "stream",
     "text": [
      "subject:  Banten\n",
      "In Bulgaria, an official language is Bulgarian.\n",
      "In Niue, an official language is English.\n",
      "In Panama, an official language is Spanish.\n",
      "In {}, an official language is\n",
      "tensor(12.8594, device='cuda:0', dtype=torch.float16) tensor(24.1875, device='cuda:0', dtype=torch.float16)\n",
      "\n",
      "subject:  Niue\n",
      "In Tuva Republic, an official language is Russian.\n",
      "In Bulgaria, an official language is Bulgarian.\n",
      "In Banten, an official language is Indonesian.\n",
      "In {}, an official language is\n",
      "tensor(19.0469, device='cuda:0', dtype=torch.float16) tensor(35.0312, device='cuda:0', dtype=torch.float16)\n",
      "\n",
      "subject:  Tuva Republic\n",
      "In Banten, an official language is Indonesian.\n",
      "In Bulgaria, an official language is Bulgarian.\n",
      "In Niue, an official language is English.\n",
      "In {}, an official language is\n",
      "tensor(17.8438, device='cuda:0', dtype=torch.float16) tensor(26.5469, device='cuda:0', dtype=torch.float16)\n",
      "\n",
      "subject:  Bulgaria\n",
      "In Panama, an official language is Spanish.\n",
      "In Banten, an official language is Indonesian.\n",
      "In Tuva Republic, an official language is Russian.\n",
      "In {}, an official language is\n",
      "tensor(11.8438, device='cuda:0', dtype=torch.float16) tensor(23.5781, device='cuda:0', dtype=torch.float16)\n",
      "\n",
      "subject:  Panama\n",
      "In Banten, an official language is Indonesian.\n",
      "In Niue, an official language is English.\n",
      "In Tuva Republic, an official language is Russian.\n",
      "In {}, an official language is\n",
      "tensor(14.7969, device='cuda:0', dtype=torch.float16) tensor(26.1250, device='cuda:0', dtype=torch.float16)\n",
      "\n"
     ]
    },
    {
     "data": {
      "application/vnd.jupyter.widget-view+json": {
       "model_id": "58fa757faee04319a742d29e84b683be",
       "version_major": 2,
       "version_minor": 0
      },
      "text/plain": [
       "  0%|          | 0/5 [00:00<?, ?it/s]"
      ]
     },
     "metadata": {},
     "output_type": "display_data"
    },
    {
     "name": "stdout",
     "output_type": "stream",
     "text": [
      "subject:  Church of Greece\n",
      "In Aruba, an official language is Dutch.\n",
      "In Tuva Republic, an official language is Russian.\n",
      "In Bulgaria, an official language is Bulgarian.\n",
      "In {}, an official language is\n",
      "tensor(9.2188, device='cuda:0', dtype=torch.float16) tensor(22.3438, device='cuda:0', dtype=torch.float16)\n",
      "\n",
      "subject:  Aruba\n",
      "In Church of Greece, an official language is Greek.\n",
      "In Tuva Republic, an official language is Russian.\n",
      "In Niue, an official language is English.\n",
      "In {}, an official language is\n",
      "tensor(15.2031, device='cuda:0', dtype=torch.float16) tensor(24.6094, device='cuda:0', dtype=torch.float16)\n",
      "\n",
      "subject:  Tuva Republic\n",
      "In Church of Greece, an official language is Greek.\n",
      "In Bulgaria, an official language is Bulgarian.\n",
      "In Niue, an official language is English.\n",
      "In {}, an official language is\n",
      "tensor(17.4375, device='cuda:0', dtype=torch.float16) tensor(26.8438, device='cuda:0', dtype=torch.float16)\n",
      "\n",
      "subject:  Bulgaria\n",
      "In Aruba, an official language is Dutch.\n",
      "In Niue, an official language is English.\n",
      "In Church of Greece, an official language is Greek.\n",
      "In {}, an official language is\n",
      "tensor(11.3672, device='cuda:0', dtype=torch.float16) tensor(23.6250, device='cuda:0', dtype=torch.float16)\n",
      "\n",
      "subject:  Niue\n",
      "In Tuva Republic, an official language is Russian.\n",
      "In Aruba, an official language is Dutch.\n",
      "In Bulgaria, an official language is Bulgarian.\n",
      "In {}, an official language is\n",
      "tensor(19.9062, device='cuda:0', dtype=torch.float16) tensor(34.9688, device='cuda:0', dtype=torch.float16)\n",
      "\n"
     ]
    },
    {
     "data": {
      "application/vnd.jupyter.widget-view+json": {
       "model_id": "dee0a09ca7b7440798437ee98f9169e8",
       "version_major": 2,
       "version_minor": 0
      },
      "text/plain": [
       "  0%|          | 0/5 [00:00<?, ?it/s]"
      ]
     },
     "metadata": {},
     "output_type": "display_data"
    },
    {
     "name": "stdout",
     "output_type": "stream",
     "text": [
      "subject:  Bulgaria\n",
      "In Angola, an official language is Portuguese.\n",
      "In Paimio, an official language is Finnish.\n",
      "In Comoros, an official language is French.\n",
      "In {}, an official language is\n",
      "tensor(12.0781, device='cuda:0', dtype=torch.float16) tensor(23.9375, device='cuda:0', dtype=torch.float16)\n",
      "\n",
      "subject:  Paimio\n",
      "In Aruba, an official language is Dutch.\n",
      "In Bulgaria, an official language is Bulgarian.\n",
      "In Angola, an official language is Portuguese.\n",
      "In {}, an official language is\n",
      "tensor(17.1719, device='cuda:0', dtype=torch.float16) tensor(28.6562, device='cuda:0', dtype=torch.float16)\n",
      "\n",
      "subject:  Angola\n",
      "In Bulgaria, an official language is Bulgarian.\n",
      "In Aruba, an official language is Dutch.\n",
      "In Comoros, an official language is French.\n",
      "In {}, an official language is\n",
      "tensor(16.1094, device='cuda:0', dtype=torch.float16) tensor(27.3906, device='cuda:0', dtype=torch.float16)\n",
      "\n",
      "subject:  Comoros\n",
      "In Bulgaria, an official language is Bulgarian.\n",
      "In Aruba, an official language is Dutch.\n",
      "In Paimio, an official language is Finnish.\n",
      "In {}, an official language is\n",
      "tensor(22.6719, device='cuda:0', dtype=torch.float16) tensor(29.2969, device='cuda:0', dtype=torch.float16)\n",
      "\n",
      "subject:  Aruba\n",
      "In Angola, an official language is Portuguese.\n",
      "In Bulgaria, an official language is Bulgarian.\n",
      "In Paimio, an official language is Finnish.\n",
      "In {}, an official language is\n",
      "tensor(18.8750, device='cuda:0', dtype=torch.float16) tensor(26.6406, device='cuda:0', dtype=torch.float16)\n",
      "\n"
     ]
    },
    {
     "data": {
      "application/vnd.jupyter.widget-view+json": {
       "model_id": "73febab3ca614b13b1d1c9763a953ae8",
       "version_major": 2,
       "version_minor": 0
      },
      "text/plain": [
       "  0%|          | 0/5 [00:00<?, ?it/s]"
      ]
     },
     "metadata": {},
     "output_type": "display_data"
    },
    {
     "name": "stdout",
     "output_type": "stream",
     "text": [
      "subject:  Aruba\n",
      "In Bulgaria, an official language is Bulgarian.\n",
      "In Comoros, an official language is French.\n",
      "In Angola, an official language is Portuguese.\n",
      "In {}, an official language is\n",
      "tensor(16.7031, device='cuda:0', dtype=torch.float16) tensor(25.4062, device='cuda:0', dtype=torch.float16)\n",
      "\n",
      "subject:  Angola\n",
      "In Church of Greece, an official language is Greek.\n",
      "In Bulgaria, an official language is Bulgarian.\n",
      "In Aruba, an official language is Dutch.\n",
      "In {}, an official language is\n",
      "tensor(16.5938, device='cuda:0', dtype=torch.float16) tensor(26.7188, device='cuda:0', dtype=torch.float16)\n",
      "\n",
      "subject:  Comoros\n",
      "In Angola, an official language is Portuguese.\n",
      "In Church of Greece, an official language is Greek.\n",
      "In Bulgaria, an official language is Bulgarian.\n",
      "In {}, an official language is\n",
      "tensor(21.2031, device='cuda:0', dtype=torch.float16) tensor(30.6406, device='cuda:0', dtype=torch.float16)\n",
      "\n",
      "subject:  Church of Greece\n",
      "In Angola, an official language is Portuguese.\n",
      "In Aruba, an official language is Dutch.\n",
      "In Bulgaria, an official language is Bulgarian.\n",
      "In {}, an official language is\n",
      "tensor(9.7422, device='cuda:0', dtype=torch.float16) tensor(22.7188, device='cuda:0', dtype=torch.float16)\n",
      "\n",
      "subject:  Bulgaria\n",
      "In Aruba, an official language is Dutch.\n",
      "In Angola, an official language is Portuguese.\n",
      "In Church of Greece, an official language is Greek.\n",
      "In {}, an official language is\n",
      "tensor(12.2656, device='cuda:0', dtype=torch.float16) tensor(24.0469, device='cuda:0', dtype=torch.float16)\n",
      "\n"
     ]
    },
    {
     "data": {
      "application/vnd.jupyter.widget-view+json": {
       "model_id": "5d2d56b044414f85b8e99e0cee0fc623",
       "version_major": 2,
       "version_minor": 0
      },
      "text/plain": [
       "  0%|          | 0/5 [00:00<?, ?it/s]"
      ]
     },
     "metadata": {},
     "output_type": "display_data"
    },
    {
     "name": "stdout",
     "output_type": "stream",
     "text": [
      "subject:  Paimio\n",
      "In Bulgaria, an official language is Bulgarian.\n",
      "In Panama, an official language is Spanish.\n",
      "In Comoros, an official language is French.\n",
      "In {}, an official language is\n",
      "tensor(15.1484, device='cuda:0', dtype=torch.float16) tensor(27.7344, device='cuda:0', dtype=torch.float16)\n",
      "\n",
      "subject:  Comoros\n",
      "In Paimio, an official language is Finnish.\n",
      "In Angola, an official language is Portuguese.\n",
      "In Bulgaria, an official language is Bulgarian.\n",
      "In {}, an official language is\n",
      "tensor(21.7031, device='cuda:0', dtype=torch.float16) tensor(30.5625, device='cuda:0', dtype=torch.float16)\n",
      "\n",
      "subject:  Panama\n",
      "In Bulgaria, an official language is Bulgarian.\n",
      "In Comoros, an official language is French.\n",
      "In Paimio, an official language is Finnish.\n",
      "In {}, an official language is\n",
      "tensor(14.0859, device='cuda:0', dtype=torch.float16) tensor(25.5938, device='cuda:0', dtype=torch.float16)\n",
      "\n",
      "subject:  Angola\n",
      "In Comoros, an official language is French.\n",
      "In Paimio, an official language is Finnish.\n",
      "In Bulgaria, an official language is Bulgarian.\n",
      "In {}, an official language is\n",
      "tensor(15.6953, device='cuda:0', dtype=torch.float16) tensor(27.0156, device='cuda:0', dtype=torch.float16)\n",
      "\n",
      "subject:  Bulgaria\n",
      "In Comoros, an official language is French.\n",
      "In Angola, an official language is Portuguese.\n",
      "In Paimio, an official language is Finnish.\n",
      "In {}, an official language is\n",
      "tensor(11.6797, device='cuda:0', dtype=torch.float16) tensor(23.7344, device='cuda:0', dtype=torch.float16)\n",
      "\n"
     ]
    },
    {
     "data": {
      "application/vnd.jupyter.widget-view+json": {
       "model_id": "b683430a50e54690839755bb5bf21469",
       "version_major": 2,
       "version_minor": 0
      },
      "text/plain": [
       "  0%|          | 0/5 [00:00<?, ?it/s]"
      ]
     },
     "metadata": {},
     "output_type": "display_data"
    },
    {
     "name": "stdout",
     "output_type": "stream",
     "text": [
      "subject:  Aruba\n",
      "In Niue, an official language is English.\n",
      "In Panama, an official language is Spanish.\n",
      "In Church of Greece, an official language is Greek.\n",
      "In {}, an official language is\n",
      "tensor(14.4297, device='cuda:0', dtype=torch.float16) tensor(24.5469, device='cuda:0', dtype=torch.float16)\n",
      "\n",
      "subject:  Niue\n",
      "In Paimio, an official language is Finnish.\n",
      "In Panama, an official language is Spanish.\n",
      "In Aruba, an official language is Dutch.\n",
      "In {}, an official language is\n",
      "tensor(19.3438, device='cuda:0', dtype=torch.float16) tensor(31.4219, device='cuda:0', dtype=torch.float16)\n",
      "\n",
      "subject:  Paimio\n",
      "In Aruba, an official language is Dutch.\n",
      "In Panama, an official language is Spanish.\n",
      "In Niue, an official language is English.\n",
      "In {}, an official language is\n",
      "tensor(15.8516, device='cuda:0', dtype=torch.float16) tensor(27.6875, device='cuda:0', dtype=torch.float16)\n",
      "\n",
      "subject:  Panama\n",
      "In Aruba, an official language is Dutch.\n",
      "In Niue, an official language is English.\n",
      "In Paimio, an official language is Finnish.\n",
      "In {}, an official language is\n",
      "tensor(14.7109, device='cuda:0', dtype=torch.float16) tensor(26.1719, device='cuda:0', dtype=torch.float16)\n",
      "\n",
      "subject:  Church of Greece\n",
      "In Panama, an official language is Spanish.\n",
      "In Aruba, an official language is Dutch.\n",
      "In Paimio, an official language is Finnish.\n",
      "In {}, an official language is\n",
      "tensor(9.2266, device='cuda:0', dtype=torch.float16) tensor(22.4688, device='cuda:0', dtype=torch.float16)\n",
      "\n"
     ]
    },
    {
     "data": {
      "application/vnd.jupyter.widget-view+json": {
       "model_id": "84be3ab7dd954bbbb251f5f95a3b1910",
       "version_major": 2,
       "version_minor": 0
      },
      "text/plain": [
       "  0%|          | 0/5 [00:00<?, ?it/s]"
      ]
     },
     "metadata": {},
     "output_type": "display_data"
    },
    {
     "name": "stdout",
     "output_type": "stream",
     "text": [
      "subject:  Angola\n",
      "In Bulgaria, an official language is Bulgarian.\n",
      "In Paimio, an official language is Finnish.\n",
      "In Banten, an official language is Indonesian.\n",
      "In {}, an official language is\n",
      "tensor(14.2031, device='cuda:0', dtype=torch.float16) tensor(25.0781, device='cuda:0', dtype=torch.float16)\n",
      "\n",
      "subject:  Banten\n",
      "In Comoros, an official language is French.\n",
      "In Angola, an official language is Portuguese.\n",
      "In Paimio, an official language is Finnish.\n",
      "In {}, an official language is\n",
      "tensor(12.3516, device='cuda:0', dtype=torch.float16) tensor(23.7656, device='cuda:0', dtype=torch.float16)\n",
      "\n",
      "subject:  Paimio\n",
      "In Banten, an official language is Indonesian.\n",
      "In Angola, an official language is Portuguese.\n",
      "In Bulgaria, an official language is Bulgarian.\n",
      "In {}, an official language is\n",
      "tensor(17.5000, device='cuda:0', dtype=torch.float16) tensor(29., device='cuda:0', dtype=torch.float16)\n",
      "\n",
      "subject:  Bulgaria\n",
      "In Angola, an official language is Portuguese.\n",
      "In Comoros, an official language is French.\n",
      "In Banten, an official language is Indonesian.\n",
      "In {}, an official language is\n",
      "tensor(12.3359, device='cuda:0', dtype=torch.float16) tensor(24.2344, device='cuda:0', dtype=torch.float16)\n",
      "\n",
      "subject:  Comoros\n",
      "In Angola, an official language is Portuguese.\n",
      "In Banten, an official language is Indonesian.\n",
      "In Bulgaria, an official language is Bulgarian.\n",
      "In {}, an official language is\n",
      "tensor(22.2500, device='cuda:0', dtype=torch.float16) tensor(30.6875, device='cuda:0', dtype=torch.float16)\n",
      "\n"
     ]
    },
    {
     "data": {
      "application/vnd.jupyter.widget-view+json": {
       "model_id": "1f9bcd5db84045dd8c8af75dd32f617d",
       "version_major": 2,
       "version_minor": 0
      },
      "text/plain": [
       "  0%|          | 0/5 [00:00<?, ?it/s]"
      ]
     },
     "metadata": {},
     "output_type": "display_data"
    },
    {
     "name": "stdout",
     "output_type": "stream",
     "text": [
      "subject:  Paimio\n",
      "In Niue, an official language is English.\n",
      "In Angola, an official language is Portuguese.\n",
      "In Bulgaria, an official language is Bulgarian.\n",
      "In {}, an official language is\n",
      "tensor(15.8125, device='cuda:0', dtype=torch.float16) tensor(27.8750, device='cuda:0', dtype=torch.float16)\n",
      "\n",
      "subject:  Bulgaria\n",
      "In Paimio, an official language is Finnish.\n",
      "In Angola, an official language is Portuguese.\n",
      "In Church of Greece, an official language is Greek.\n",
      "In {}, an official language is\n",
      "tensor(11.7031, device='cuda:0', dtype=torch.float16) tensor(23.6875, device='cuda:0', dtype=torch.float16)\n",
      "\n",
      "subject:  Niue\n",
      "In Church of Greece, an official language is Greek.\n",
      "In Bulgaria, an official language is Bulgarian.\n",
      "In Paimio, an official language is Finnish.\n",
      "In {}, an official language is\n",
      "tensor(19.7344, device='cuda:0', dtype=torch.float16) tensor(35.2188, device='cuda:0', dtype=torch.float16)\n",
      "\n",
      "subject:  Church of Greece\n",
      "In Bulgaria, an official language is Bulgarian.\n",
      "In Niue, an official language is English.\n",
      "In Paimio, an official language is Finnish.\n",
      "In {}, an official language is\n",
      "tensor(9.2578, device='cuda:0', dtype=torch.float16) tensor(22.6406, device='cuda:0', dtype=torch.float16)\n",
      "\n",
      "subject:  Angola\n",
      "In Niue, an official language is English.\n",
      "In Paimio, an official language is Finnish.\n",
      "In Church of Greece, an official language is Greek.\n",
      "In {}, an official language is\n",
      "tensor(14.4219, device='cuda:0', dtype=torch.float16) tensor(25.7969, device='cuda:0', dtype=torch.float16)\n",
      "\n"
     ]
    },
    {
     "data": {
      "application/vnd.jupyter.widget-view+json": {
       "model_id": "46c251afc42745518d889fef6ac2a0f2",
       "version_major": 2,
       "version_minor": 0
      },
      "text/plain": [
       "  0%|          | 0/5 [00:00<?, ?it/s]"
      ]
     },
     "metadata": {},
     "output_type": "display_data"
    },
    {
     "name": "stdout",
     "output_type": "stream",
     "text": [
      "subject:  Panama\n",
      "In Tuva Republic, an official language is Russian.\n",
      "In Church of Greece, an official language is Greek.\n",
      "In Niue, an official language is English.\n",
      "In {}, an official language is\n",
      "tensor(15.4531, device='cuda:0', dtype=torch.float16) tensor(26.4375, device='cuda:0', dtype=torch.float16)\n",
      "\n",
      "subject:  Church of Greece\n",
      "In Bulgaria, an official language is Bulgarian.\n",
      "In Panama, an official language is Spanish.\n",
      "In Niue, an official language is English.\n",
      "In {}, an official language is\n",
      "tensor(8.8516, device='cuda:0', dtype=torch.float16) tensor(22.4688, device='cuda:0', dtype=torch.float16)\n",
      "\n",
      "subject:  Tuva Republic\n",
      "In Panama, an official language is Spanish.\n",
      "In Church of Greece, an official language is Greek.\n",
      "In Bulgaria, an official language is Bulgarian.\n",
      "In {}, an official language is\n",
      "tensor(17.6875, device='cuda:0', dtype=torch.float16) tensor(27.4219, device='cuda:0', dtype=torch.float16)\n",
      "\n",
      "subject:  Niue\n",
      "In Tuva Republic, an official language is Russian.\n",
      "In Church of Greece, an official language is Greek.\n",
      "In Bulgaria, an official language is Bulgarian.\n",
      "In {}, an official language is\n",
      "tensor(18.6406, device='cuda:0', dtype=torch.float16) tensor(34.7188, device='cuda:0', dtype=torch.float16)\n",
      "\n",
      "subject:  Bulgaria\n",
      "In Tuva Republic, an official language is Russian.\n",
      "In Niue, an official language is English.\n",
      "In Panama, an official language is Spanish.\n",
      "In {}, an official language is\n",
      "tensor(11.4375, device='cuda:0', dtype=torch.float16) tensor(23.4375, device='cuda:0', dtype=torch.float16)\n",
      "\n",
      "Saving weights and biases >>  gpt-j/jacobians_averaged_collection/after__ln_f/P37.npz\n",
      "----------------------------------------------------\n",
      "zzzzzzzzzzzzzzzzzzzzzzzzzzzzzzzzzzzzzzzzzzzzzzzzzzzz\n",
      "P36 The capital of {} is\n",
      "zzzzzzzzzzzzzzzzzzzzzzzzzzzzzzzzzzzzzzzzzzzzzzzzzzzz\n",
      "68\n",
      "The capital of {} is\n"
     ]
    },
    {
     "data": {
      "application/vnd.jupyter.widget-view+json": {
       "model_id": "419e27a783d44d8a8cfa68a71e00cfe7",
       "version_major": 2,
       "version_minor": 0
      },
      "text/plain": [
       "  0%|          | 0/10 [00:00<?, ?it/s]"
      ]
     },
     "metadata": {},
     "output_type": "display_data"
    },
    {
     "data": {
      "application/vnd.jupyter.widget-view+json": {
       "model_id": "5c99a631605444d186f147de40030b6c",
       "version_major": 2,
       "version_minor": 0
      },
      "text/plain": [
       "  0%|          | 0/5 [00:00<?, ?it/s]"
      ]
     },
     "metadata": {},
     "output_type": "display_data"
    },
    {
     "name": "stdout",
     "output_type": "stream",
     "text": [
      "subject:  Peru\n",
      "The capital of Norway is Oslo.\n",
      "The capital of South Yemen is Aden.\n",
      "The capital of Lazio is Rome.\n",
      "The capital of {} is\n",
      "tensor(16.4375, device='cuda:0', dtype=torch.float16) tensor(15.7422, device='cuda:0', dtype=torch.float16)\n",
      "\n",
      "subject:  Lebanon\n",
      "The capital of Lazio is Rome.\n",
      "The capital of Peru is Lima.\n",
      "The capital of South Yemen is Aden.\n",
      "The capital of {} is\n",
      "tensor(15.0938, device='cuda:0', dtype=torch.float16) tensor(11.7031, device='cuda:0', dtype=torch.float16)\n",
      "\n",
      "subject:  Lazio\n",
      "The capital of South Yemen is Aden.\n",
      "The capital of Lebanon is Beirut.\n",
      "The capital of Peru is Lima.\n",
      "The capital of {} is\n",
      "tensor(14.2969, device='cuda:0', dtype=torch.float16) tensor(10.2656, device='cuda:0', dtype=torch.float16)\n",
      "\n",
      "subject:  Norway\n",
      "The capital of Peru is Lima.\n",
      "The capital of Lebanon is Beirut.\n",
      "The capital of South Yemen is Aden.\n",
      "The capital of {} is\n",
      "tensor(11.4922, device='cuda:0', dtype=torch.float16) tensor(9.6484, device='cuda:0', dtype=torch.float16)\n",
      "\n",
      "subject:  South Yemen\n",
      "The capital of Peru is Lima.\n",
      "The capital of Lazio is Rome.\n",
      "The capital of Norway is Oslo.\n",
      "The capital of {} is\n",
      "tensor(22.1094, device='cuda:0', dtype=torch.float16) tensor(19.0781, device='cuda:0', dtype=torch.float16)\n",
      "\n"
     ]
    },
    {
     "data": {
      "application/vnd.jupyter.widget-view+json": {
       "model_id": "1cf0ac67c77142c8a5f1e09ad4204746",
       "version_major": 2,
       "version_minor": 0
      },
      "text/plain": [
       "  0%|          | 0/5 [00:00<?, ?it/s]"
      ]
     },
     "metadata": {},
     "output_type": "display_data"
    },
    {
     "name": "stdout",
     "output_type": "stream",
     "text": [
      "subject:  Campania\n",
      "The capital of Peru is Lima.\n",
      "The capital of Lebanon is Beirut.\n",
      "The capital of Portugal is Lisbon.\n",
      "The capital of {} is\n",
      "tensor(18.6719, device='cuda:0', dtype=torch.float16) tensor(12.7969, device='cuda:0', dtype=torch.float16)\n",
      "\n",
      "subject:  Lebanon\n",
      "The capital of Peru is Lima.\n",
      "The capital of Portugal is Lisbon.\n",
      "The capital of Lazio is Rome.\n",
      "The capital of {} is\n",
      "tensor(17.3125, device='cuda:0', dtype=torch.float16) tensor(12.7422, device='cuda:0', dtype=torch.float16)\n",
      "\n",
      "subject:  Lazio\n",
      "The capital of Campania is Naples.\n",
      "The capital of Portugal is Lisbon.\n",
      "The capital of Lebanon is Beirut.\n",
      "The capital of {} is\n",
      "tensor(16.7344, device='cuda:0', dtype=torch.float16) tensor(10.9453, device='cuda:0', dtype=torch.float16)\n",
      "\n",
      "subject:  Peru\n",
      "The capital of Campania is Naples.\n",
      "The capital of Lebanon is Beirut.\n",
      "The capital of Lazio is Rome.\n",
      "The capital of {} is\n",
      "tensor(17.4531, device='cuda:0', dtype=torch.float16) tensor(17.2031, device='cuda:0', dtype=torch.float16)\n",
      "\n",
      "subject:  Portugal\n",
      "The capital of Lebanon is Beirut.\n",
      "The capital of Campania is Naples.\n",
      "The capital of Lazio is Rome.\n",
      "The capital of {} is\n",
      "tensor(13.1484, device='cuda:0', dtype=torch.float16) tensor(8.9141, device='cuda:0', dtype=torch.float16)\n",
      "\n"
     ]
    },
    {
     "data": {
      "application/vnd.jupyter.widget-view+json": {
       "model_id": "201e86ee908e4c788b332d3963698171",
       "version_major": 2,
       "version_minor": 0
      },
      "text/plain": [
       "  0%|          | 0/5 [00:00<?, ?it/s]"
      ]
     },
     "metadata": {},
     "output_type": "display_data"
    },
    {
     "name": "stdout",
     "output_type": "stream",
     "text": [
      "subject:  Demerara\n",
      "The capital of United Arab Republic is Cairo.\n",
      "The capital of Peru is Lima.\n",
      "The capital of South Yemen is Aden.\n",
      "The capital of {} is\n",
      "tensor(29.0781, device='cuda:0', dtype=torch.float16) tensor(33.6875, device='cuda:0', dtype=torch.float16)\n",
      "\n",
      "subject:  United Arab Republic\n",
      "The capital of Saxony is Dresden.\n",
      "The capital of Demerara is Georgetown.\n",
      "The capital of South Yemen is Aden.\n",
      "The capital of {} is\n",
      "tensor(18.7812, device='cuda:0', dtype=torch.float16) tensor(11.3047, device='cuda:0', dtype=torch.float16)\n",
      "\n",
      "subject:  Saxony\n",
      "The capital of Demerara is Georgetown.\n",
      "The capital of South Yemen is Aden.\n",
      "The capital of United Arab Republic is Cairo.\n",
      "The capital of {} is\n",
      "tensor(18.5000, device='cuda:0', dtype=torch.float16) tensor(8.7109, device='cuda:0', dtype=torch.float16)\n",
      "\n",
      "subject:  South Yemen\n",
      "The capital of Saxony is Dresden.\n",
      "The capital of Peru is Lima.\n",
      "The capital of Demerara is Georgetown.\n",
      "The capital of {} is\n",
      "tensor(22.0781, device='cuda:0', dtype=torch.float16) tensor(19.0312, device='cuda:0', dtype=torch.float16)\n",
      "\n",
      "subject:  Peru\n",
      "The capital of South Yemen is Aden.\n",
      "The capital of Demerara is Georgetown.\n",
      "The capital of United Arab Republic is Cairo.\n",
      "The capital of {} is\n",
      "tensor(16.5938, device='cuda:0', dtype=torch.float16) tensor(15.7578, device='cuda:0', dtype=torch.float16)\n",
      "\n"
     ]
    },
    {
     "data": {
      "application/vnd.jupyter.widget-view+json": {
       "model_id": "0d323f928b924e54aed993843df130e8",
       "version_major": 2,
       "version_minor": 0
      },
      "text/plain": [
       "  0%|          | 0/5 [00:00<?, ?it/s]"
      ]
     },
     "metadata": {},
     "output_type": "display_data"
    },
    {
     "name": "stdout",
     "output_type": "stream",
     "text": [
      "subject:  Demerara\n",
      "The capital of Norway is Oslo.\n",
      "The capital of Saxony is Dresden.\n",
      "The capital of Peru is Lima.\n",
      "The capital of {} is\n",
      "tensor(27.7656, device='cuda:0', dtype=torch.float16) tensor(31.1094, device='cuda:0', dtype=torch.float16)\n",
      "\n",
      "subject:  Saxony\n",
      "The capital of Lebanon is Beirut.\n",
      "The capital of Demerara is Georgetown.\n",
      "The capital of Norway is Oslo.\n",
      "The capital of {} is\n",
      "tensor(16.6719, device='cuda:0', dtype=torch.float16) tensor(8.8359, device='cuda:0', dtype=torch.float16)\n",
      "\n",
      "subject:  Peru\n",
      "The capital of Lebanon is Beirut.\n",
      "The capital of Saxony is Dresden.\n",
      "The capital of Norway is Oslo.\n",
      "The capital of {} is\n",
      "tensor(16.9688, device='cuda:0', dtype=torch.float16) tensor(16.0938, device='cuda:0', dtype=torch.float16)\n",
      "\n",
      "subject:  Lebanon\n",
      "The capital of Peru is Lima.\n",
      "The capital of Saxony is Dresden.\n",
      "The capital of Norway is Oslo.\n",
      "The capital of {} is\n",
      "tensor(16.4062, device='cuda:0', dtype=torch.float16) tensor(12.3750, device='cuda:0', dtype=torch.float16)\n",
      "\n",
      "subject:  Norway\n",
      "The capital of Peru is Lima.\n",
      "The capital of Lebanon is Beirut.\n",
      "The capital of Saxony is Dresden.\n",
      "The capital of {} is\n",
      "tensor(11.5781, device='cuda:0', dtype=torch.float16) tensor(9.8125, device='cuda:0', dtype=torch.float16)\n",
      "\n"
     ]
    },
    {
     "data": {
      "application/vnd.jupyter.widget-view+json": {
       "model_id": "559eb65be8d0486eac4ceb18938756db",
       "version_major": 2,
       "version_minor": 0
      },
      "text/plain": [
       "  0%|          | 0/5 [00:00<?, ?it/s]"
      ]
     },
     "metadata": {},
     "output_type": "display_data"
    },
    {
     "name": "stdout",
     "output_type": "stream",
     "text": [
      "subject:  Saxony\n",
      "The capital of Peru is Lima.\n",
      "The capital of Norway is Oslo.\n",
      "The capital of Portugal is Lisbon.\n",
      "The capital of {} is\n",
      "tensor(16.8594, device='cuda:0', dtype=torch.float16) tensor(9.1797, device='cuda:0', dtype=torch.float16)\n",
      "\n",
      "subject:  Peru\n",
      "The capital of Norway is Oslo.\n",
      "The capital of Portugal is Lisbon.\n",
      "The capital of Saxony is Dresden.\n",
      "The capital of {} is\n",
      "tensor(17.5781, device='cuda:0', dtype=torch.float16) tensor(17.1719, device='cuda:0', dtype=torch.float16)\n",
      "\n",
      "subject:  Norway\n",
      "The capital of Saxony is Dresden.\n",
      "The capital of Peru is Lima.\n",
      "The capital of Lebanon is Beirut.\n",
      "The capital of {} is\n",
      "tensor(11.2422, device='cuda:0', dtype=torch.float16) tensor(8.9375, device='cuda:0', dtype=torch.float16)\n",
      "\n",
      "subject:  Portugal\n",
      "The capital of Lebanon is Beirut.\n",
      "The capital of Peru is Lima.\n",
      "The capital of Saxony is Dresden.\n",
      "The capital of {} is\n",
      "tensor(12.8672, device='cuda:0', dtype=torch.float16) tensor(8.9844, device='cuda:0', dtype=torch.float16)\n",
      "\n",
      "subject:  Lebanon\n",
      "The capital of Portugal is Lisbon.\n",
      "The capital of Norway is Oslo.\n",
      "The capital of Saxony is Dresden.\n",
      "The capital of {} is\n",
      "tensor(16.9531, device='cuda:0', dtype=torch.float16) tensor(13.0156, device='cuda:0', dtype=torch.float16)\n",
      "\n"
     ]
    },
    {
     "data": {
      "application/vnd.jupyter.widget-view+json": {
       "model_id": "892b1334d2414ec7bbd2ac2b88891ed4",
       "version_major": 2,
       "version_minor": 0
      },
      "text/plain": [
       "  0%|          | 0/5 [00:00<?, ?it/s]"
      ]
     },
     "metadata": {},
     "output_type": "display_data"
    },
    {
     "name": "stdout",
     "output_type": "stream",
     "text": [
      "subject:  South Yemen\n",
      "The capital of United Arab Republic is Cairo.\n",
      "The capital of Portugal is Lisbon.\n",
      "The capital of Demerara is Georgetown.\n",
      "The capital of {} is\n",
      "tensor(21.2500, device='cuda:0', dtype=torch.float16) tensor(18.3281, device='cuda:0', dtype=torch.float16)\n",
      "\n",
      "subject:  Portugal\n",
      "The capital of Demerara is Georgetown.\n",
      "The capital of Peru is Lima.\n",
      "The capital of South Yemen is Aden.\n",
      "The capital of {} is\n",
      "tensor(13.0078, device='cuda:0', dtype=torch.float16) tensor(10.1875, device='cuda:0', dtype=torch.float16)\n",
      "\n",
      "subject:  Demerara\n",
      "The capital of Portugal is Lisbon.\n",
      "The capital of South Yemen is Aden.\n",
      "The capital of United Arab Republic is Cairo.\n",
      "The capital of {} is\n",
      "tensor(29.0938, device='cuda:0', dtype=torch.float16) tensor(32.9375, device='cuda:0', dtype=torch.float16)\n",
      "\n",
      "subject:  Peru\n",
      "The capital of Portugal is Lisbon.\n",
      "The capital of United Arab Republic is Cairo.\n",
      "The capital of Demerara is Georgetown.\n",
      "The capital of {} is\n",
      "tensor(17.3594, device='cuda:0', dtype=torch.float16) tensor(17.5312, device='cuda:0', dtype=torch.float16)\n",
      "\n",
      "subject:  United Arab Republic\n",
      "The capital of Portugal is Lisbon.\n",
      "The capital of Peru is Lima.\n",
      "The capital of Demerara is Georgetown.\n",
      "The capital of {} is\n",
      "tensor(16.9531, device='cuda:0', dtype=torch.float16) tensor(10.4219, device='cuda:0', dtype=torch.float16)\n",
      "\n"
     ]
    },
    {
     "data": {
      "application/vnd.jupyter.widget-view+json": {
       "model_id": "0d9d66844624485c9489556b39a0f512",
       "version_major": 2,
       "version_minor": 0
      },
      "text/plain": [
       "  0%|          | 0/5 [00:00<?, ?it/s]"
      ]
     },
     "metadata": {},
     "output_type": "display_data"
    },
    {
     "name": "stdout",
     "output_type": "stream",
     "text": [
      "subject:  United Arab Republic\n",
      "The capital of Demerara is Georgetown.\n",
      "The capital of Lazio is Rome.\n",
      "The capital of Saxony is Dresden.\n",
      "The capital of {} is\n",
      "tensor(17.6250, device='cuda:0', dtype=torch.float16) tensor(10.0703, device='cuda:0', dtype=torch.float16)\n",
      "\n",
      "subject:  Saxony\n",
      "The capital of United Arab Republic is Cairo.\n",
      "The capital of Norway is Oslo.\n",
      "The capital of Demerara is Georgetown.\n",
      "The capital of {} is\n",
      "tensor(16.9219, device='cuda:0', dtype=torch.float16) tensor(8.2578, device='cuda:0', dtype=torch.float16)\n",
      "\n",
      "subject:  Demerara\n",
      "The capital of Saxony is Dresden.\n",
      "The capital of United Arab Republic is Cairo.\n",
      "The capital of Lazio is Rome.\n",
      "The capital of {} is\n",
      "tensor(27.4062, device='cuda:0', dtype=torch.float16) tensor(30.9688, device='cuda:0', dtype=torch.float16)\n",
      "\n",
      "subject:  Norway\n",
      "The capital of United Arab Republic is Cairo.\n",
      "The capital of Saxony is Dresden.\n",
      "The capital of Lazio is Rome.\n",
      "The capital of {} is\n",
      "tensor(11.7969, device='cuda:0', dtype=torch.float16) tensor(9.5859, device='cuda:0', dtype=torch.float16)\n",
      "\n",
      "subject:  Lazio\n",
      "The capital of Norway is Oslo.\n",
      "The capital of Saxony is Dresden.\n",
      "The capital of Demerara is Georgetown.\n",
      "The capital of {} is\n",
      "tensor(15.9453, device='cuda:0', dtype=torch.float16) tensor(10.3281, device='cuda:0', dtype=torch.float16)\n",
      "\n"
     ]
    },
    {
     "data": {
      "application/vnd.jupyter.widget-view+json": {
       "model_id": "9b0e17352dfd4027a32daa2880b0e0a9",
       "version_major": 2,
       "version_minor": 0
      },
      "text/plain": [
       "  0%|          | 0/5 [00:00<?, ?it/s]"
      ]
     },
     "metadata": {},
     "output_type": "display_data"
    },
    {
     "name": "stdout",
     "output_type": "stream",
     "text": [
      "subject:  Demerara\n",
      "The capital of Portugal is Lisbon.\n",
      "The capital of Norway is Oslo.\n",
      "The capital of Lebanon is Beirut.\n",
      "The capital of {} is\n",
      "tensor(28.7188, device='cuda:0', dtype=torch.float16) tensor(33.8125, device='cuda:0', dtype=torch.float16)\n",
      "\n",
      "subject:  Campania\n",
      "The capital of Lebanon is Beirut.\n",
      "The capital of Demerara is Georgetown.\n",
      "The capital of Norway is Oslo.\n",
      "The capital of {} is\n",
      "tensor(19.1094, device='cuda:0', dtype=torch.float16) tensor(11.5625, device='cuda:0', dtype=torch.float16)\n",
      "\n",
      "subject:  Lebanon\n",
      "The capital of Portugal is Lisbon.\n",
      "The capital of Norway is Oslo.\n",
      "The capital of Campania is Naples.\n",
      "The capital of {} is\n",
      "tensor(17.5781, device='cuda:0', dtype=torch.float16) tensor(13.7266, device='cuda:0', dtype=torch.float16)\n",
      "\n",
      "subject:  Norway\n",
      "The capital of Lebanon is Beirut.\n",
      "The capital of Portugal is Lisbon.\n",
      "The capital of Campania is Naples.\n",
      "The capital of {} is\n",
      "tensor(11.8047, device='cuda:0', dtype=torch.float16) tensor(9.7344, device='cuda:0', dtype=torch.float16)\n",
      "\n",
      "subject:  Portugal\n",
      "The capital of Demerara is Georgetown.\n",
      "The capital of Norway is Oslo.\n",
      "The capital of Campania is Naples.\n",
      "The capital of {} is\n",
      "tensor(13.6484, device='cuda:0', dtype=torch.float16) tensor(9.5703, device='cuda:0', dtype=torch.float16)\n",
      "\n"
     ]
    },
    {
     "data": {
      "application/vnd.jupyter.widget-view+json": {
       "model_id": "d9d3a94d31d147a0977e2637edf76191",
       "version_major": 2,
       "version_minor": 0
      },
      "text/plain": [
       "  0%|          | 0/5 [00:00<?, ?it/s]"
      ]
     },
     "metadata": {},
     "output_type": "display_data"
    },
    {
     "name": "stdout",
     "output_type": "stream",
     "text": [
      "subject:  South Yemen\n",
      "The capital of Lazio is Rome.\n",
      "The capital of Portugal is Lisbon.\n",
      "The capital of Campania is Naples.\n",
      "The capital of {} is\n",
      "tensor(23.3594, device='cuda:0', dtype=torch.float16) tensor(19.7188, device='cuda:0', dtype=torch.float16)\n",
      "\n",
      "subject:  Portugal\n",
      "The capital of South Yemen is Aden.\n",
      "The capital of United Arab Republic is Cairo.\n",
      "The capital of Campania is Naples.\n",
      "The capital of {} is\n",
      "tensor(12.0234, device='cuda:0', dtype=torch.float16) tensor(8.5234, device='cuda:0', dtype=torch.float16)\n",
      "\n",
      "subject:  United Arab Republic\n",
      "The capital of Lazio is Rome.\n",
      "The capital of Portugal is Lisbon.\n",
      "The capital of Campania is Naples.\n",
      "The capital of {} is\n",
      "tensor(17.2344, device='cuda:0', dtype=torch.float16) tensor(10.2656, device='cuda:0', dtype=torch.float16)\n",
      "\n",
      "subject:  Lazio\n",
      "The capital of Portugal is Lisbon.\n",
      "The capital of United Arab Republic is Cairo.\n",
      "The capital of Campania is Naples.\n",
      "The capital of {} is\n",
      "tensor(18.5000, device='cuda:0', dtype=torch.float16) tensor(12.1641, device='cuda:0', dtype=torch.float16)\n",
      "\n",
      "subject:  Campania\n",
      "The capital of South Yemen is Aden.\n",
      "The capital of Lazio is Rome.\n",
      "The capital of United Arab Republic is Cairo.\n",
      "The capital of {} is\n",
      "tensor(19.1250, device='cuda:0', dtype=torch.float16) tensor(11.0625, device='cuda:0', dtype=torch.float16)\n",
      "\n"
     ]
    },
    {
     "data": {
      "application/vnd.jupyter.widget-view+json": {
       "model_id": "5ec7af0410524cdd9858673723b48a95",
       "version_major": 2,
       "version_minor": 0
      },
      "text/plain": [
       "  0%|          | 0/5 [00:00<?, ?it/s]"
      ]
     },
     "metadata": {},
     "output_type": "display_data"
    },
    {
     "name": "stdout",
     "output_type": "stream",
     "text": [
      "subject:  Peru\n",
      "The capital of Norway is Oslo.\n",
      "The capital of United Arab Republic is Cairo.\n",
      "The capital of Lazio is Rome.\n",
      "The capital of {} is\n",
      "tensor(16.5156, device='cuda:0', dtype=torch.float16) tensor(15.3828, device='cuda:0', dtype=torch.float16)\n",
      "\n",
      "subject:  Norway\n",
      "The capital of Lazio is Rome.\n",
      "The capital of Saxony is Dresden.\n",
      "The capital of United Arab Republic is Cairo.\n",
      "The capital of {} is\n",
      "tensor(12.3359, device='cuda:0', dtype=torch.float16) tensor(9.6875, device='cuda:0', dtype=torch.float16)\n",
      "\n",
      "subject:  United Arab Republic\n",
      "The capital of Saxony is Dresden.\n",
      "The capital of Peru is Lima.\n",
      "The capital of Norway is Oslo.\n",
      "The capital of {} is\n",
      "tensor(18.8906, device='cuda:0', dtype=torch.float16) tensor(11.9844, device='cuda:0', dtype=torch.float16)\n",
      "\n",
      "subject:  Lazio\n",
      "The capital of Norway is Oslo.\n",
      "The capital of Peru is Lima.\n",
      "The capital of United Arab Republic is Cairo.\n",
      "The capital of {} is\n",
      "tensor(16.1719, device='cuda:0', dtype=torch.float16) tensor(10.8594, device='cuda:0', dtype=torch.float16)\n",
      "\n",
      "subject:  Saxony\n",
      "The capital of Peru is Lima.\n",
      "The capital of Lazio is Rome.\n",
      "The capital of Norway is Oslo.\n",
      "The capital of {} is\n",
      "tensor(14.8438, device='cuda:0', dtype=torch.float16) tensor(8.8203, device='cuda:0', dtype=torch.float16)\n",
      "\n",
      "Saving weights and biases >>  gpt-j/jacobians_averaged_collection/after__ln_f/P36.npz\n",
      "----------------------------------------------------\n"
     ]
    }
   ],
   "source": [
    "jb_save_path = \"gpt-j/jacobians_averaged_collection/after__ln_f\"\n",
    "os.makedirs(jb_save_path, exist_ok = True)\n",
    "\n",
    "for relation_id in relation_dct:\n",
    "    print(\"zzzzzzzzzzzzzzzzzzzzzzzzzzzzzzzzzzzzzzzzzzzzzzzzzzzz\")\n",
    "    print(relation_id, relation_dct[relation_id]['relation'])\n",
    "    print(\"zzzzzzzzzzzzzzzzzzzzzzzzzzzzzzzzzzzzzzzzzzzzzzzzzzzz\")\n",
    "    path = f\"{root_path}/{relation_id}\"\n",
    "    try:\n",
    "        with open(f\"{path}/correct_prediction_{relation_id}.json\") as f:\n",
    "            correct_predictions = json.load(f)\n",
    "            print(len(correct_predictions))\n",
    "    except:\n",
    "        print(f\"Error opening correct prediction {relation_id} (maybe the scan skipped this relation?)\")\n",
    "        print(\"XXXXXXXXXXXXXXXXXXXXXXXXXXXXXXXXXXXXXXXXXXXXXXXXXXXX\")\n",
    "        continue\n",
    "        \n",
    "    if(len(correct_predictions) < cut_off):\n",
    "        print(f\"skipped {relation_id} >> \", len(correct_predictions))\n",
    "        print(\"XXXXXXXXXXXXXXXXXXXXXXXXXXXXXXXXXXXXXXXXXXXXXXXXXXXX\")\n",
    "        continue\n",
    "\n",
    "    top_performers = get_top_performers(relation_id, consider_top=10)\n",
    "\n",
    "    relation_prompt = relation_dct[relation_id]['relation']\n",
    "    print(relation_prompt)\n",
    "\n",
    "    # weight, bias = get_averaged_JB(top_performers, relation_prompt)\n",
    "    weights_and_biases = get_multiple_averaged_JB(\n",
    "        top_performers, \n",
    "        relation_prompt=relation_prompt, \n",
    "        N = 10, \n",
    "        calculate_at_lnf=True\n",
    "    )\n",
    "\n",
    "    save_path = f\"{jb_save_path}/{relation_id}.npz\"\n",
    "    print(\"Saving weights and biases >> \", save_path)\n",
    "    np.savez(\n",
    "        save_path, \n",
    "        # JB = [{\n",
    "        #     'weight': weight.cpu().numpy(),\n",
    "        #     'bias'  : bias.cpu().numpy()\n",
    "        # }],\n",
    "        weights_and_biases = weights_and_biases,\n",
    "        allow_pickle = True\n",
    "    )\n",
    "    print(\"----------------------------------------------------\")\n"
   ]
  },
  {
   "cell_type": "code",
   "execution_count": null,
   "metadata": {},
   "outputs": [],
   "source": []
  }
 ],
 "metadata": {
  "kernelspec": {
   "display_name": "relation",
   "language": "python",
   "name": "python3"
  },
  "language_info": {
   "codemirror_mode": {
    "name": "ipython",
    "version": 3
   },
   "file_extension": ".py",
   "mimetype": "text/x-python",
   "name": "python",
   "nbconvert_exporter": "python",
   "pygments_lexer": "ipython3",
   "version": "3.10.8"
  },
  "orig_nbformat": 4,
  "vscode": {
   "interpreter": {
    "hash": "3439fe3f7dcaddaf51997811d25ada8e7c0985d2997d22a3ed461af94d2f9f43"
   }
  }
 },
 "nbformat": 4,
 "nbformat_minor": 2
}
