{
 "cells": [
  {
   "cell_type": "code",
   "execution_count": 1,
   "metadata": {},
   "outputs": [],
   "source": [
    "%load_ext autoreload\n",
    "%autoreload 2"
   ]
  },
  {
   "cell_type": "code",
   "execution_count": 2,
   "metadata": {},
   "outputs": [],
   "source": [
    "import torch\n",
    "import numpy as np\n",
    "import json\n",
    "from tqdm.auto import tqdm\n",
    "import random\n",
    "\n",
    "\n",
    "import os\n",
    "import sys\n",
    "sys.path.append('..')\n",
    "\n",
    "from relations import estimate\n",
    "from util import model_utils\n",
    "from dsets.counterfact import CounterFactDataset\n",
    "from util import nethook\n",
    "from operator import itemgetter"
   ]
  },
  {
   "cell_type": "code",
   "execution_count": 3,
   "metadata": {},
   "outputs": [],
   "source": [
    "MODEL_NAME = \"EleutherAI/gpt-j-6B\"  # gpt2-{medium,large,xl} or EleutherAI/gpt-j-6B\n",
    "mt = model_utils.ModelAndTokenizer(MODEL_NAME, low_cpu_mem_usage=True, torch_dtype=torch.float16)\n",
    "\n",
    "model = mt.model\n",
    "tokenizer = mt.tokenizer\n",
    "tokenizer.pad_token = tokenizer.eos_token"
   ]
  },
  {
   "cell_type": "code",
   "execution_count": 4,
   "metadata": {},
   "outputs": [],
   "source": [
    "jb_save_path = \"gpt-j/jacobians_averaged\"\n",
    "os.makedirs(jb_save_path, exist_ok = True)"
   ]
  },
  {
   "cell_type": "code",
   "execution_count": 5,
   "metadata": {},
   "outputs": [
    {
     "name": "stdout",
     "output_type": "stream",
     "text": [
      "skipped  P1303\n",
      "skipped  P190\n",
      "skipped  P740\n",
      "skipped  P413\n",
      "skipped  P39\n",
      "skipped  P136\n",
      "skipped  P449\n",
      "skipped  P138\n",
      "skipped  P131\n",
      "skipped  P407\n",
      "skipped  P108\n"
     ]
    }
   ],
   "source": [
    "cut_off = 50 # minimum number of correct predictions\n",
    "\n",
    "###########################################################################\n",
    "relation_dct = {\n",
    "    # 'P17'   : {'relation': '{} is located in the country of', 'correct_predict': None, 'cached_JB': None},\n",
    "    # 'P641'  : {'relation': '{} plays the sport of', 'correct_predict': None, 'cached_JB': None},\n",
    "    # 'P103'  : {'relation': 'The mother tongue of {} is', 'correct_predict': None, 'cached_JB': None},\n",
    "    'P176'  : {'relation': '{} is produced by', 'correct_predict': None, 'cached_JB': None},\n",
    "    'P140'  : {'relation': 'The official religion of {} is', 'correct_predict': None, 'cached_JB': None},\n",
    "    'P1303' : {'relation': '{} plays the instrument', 'correct_predict': None, 'cached_JB': None},\n",
    "    'P190'  : {'relation': 'What is the twin city of {}? It is', 'correct_predict': None, 'cached_JB': None},\n",
    "    'P740'  : {'relation': '{} was founded in', 'correct_predict': None, 'cached_JB': None},\n",
    "    'P178'  : {'relation': '{} was developed by', 'correct_predict': None, 'cached_JB': None},\n",
    "    'P495'  : {'relation': '{}, that originated in the country of', 'correct_predict': None, 'cached_JB': None},\n",
    "    'P127'  : {'relation': '{} is owned by', 'correct_predict': None, 'cached_JB': None},\n",
    "    'P413'  : {'relation': '{} plays in the position of', 'correct_predict': None, 'cached_JB': None},\n",
    "    'P39'   : {'relation': '{}, who holds the position of', 'correct_predict': None, 'cached_JB': None},\n",
    "    'P159'  : {'relation': 'The headquarter of {} is located in', 'correct_predict': None, 'cached_JB': None},\n",
    "    'P20'   : {'relation': '{} died in the city of', 'correct_predict': None, 'cached_JB': None},\n",
    "    'P136'  : {'relation': 'What does {} play? They play', 'correct_predict': None, 'cached_JB': None},\n",
    "    'P106'  : {'relation': 'The profession of {} is', 'correct_predict': None, 'cached_JB': None},\n",
    "    'P30'   : {'relation': '{} is located in the continent of', 'correct_predict': None, 'cached_JB': None},\n",
    "    'P937'  : {'relation': '{} worked in the city of', 'correct_predict': None, 'cached_JB': None},\n",
    "    'P449'  : {'relation': '{} was released on', 'correct_predict': None, 'cached_JB': None},\n",
    "    'P27'   : {'relation': '{} is a citizen of', 'correct_predict': None, 'cached_JB': None},\n",
    "    'P101'  : {'relation': '{} works in the field of', 'correct_predict': None, 'cached_JB': None},\n",
    "    'P19'   : {'relation': '{} was born in', 'correct_predict': None, 'cached_JB': None},\n",
    "    'P37'   : {'relation': 'In {}, an official language is', 'correct_predict': None, 'cached_JB': None},\n",
    "    'P138'  : {'relation': '{}, named after', 'correct_predict': None, 'cached_JB': None},\n",
    "    'P131'  : {'relation': '{} is located in', 'correct_predict': None, 'cached_JB': None},\n",
    "    'P407'  : {'relation': '{} was written in', 'correct_predict': None, 'cached_JB': None},\n",
    "    'P108'  : {'relation': '{}, who is employed by', 'correct_predict': None, 'cached_JB': None},\n",
    "    'P36'   : {'relation': 'The capital of {} is', 'correct_predict': None, 'cached_JB': None},\n",
    "}\n",
    "###########################################################################\n",
    "\n",
    "\n",
    "root_path = \"gpt-j\"\n",
    "\n",
    "pop_track = []\n",
    "for relation in relation_dct:\n",
    "    path = f\"{root_path}/{relation}\"\n",
    "    with open(f\"{path}/correct_prediction_{relation}.json\") as f:\n",
    "        correct_predictions = json.load(f)\n",
    "    if(len(correct_predictions) < cut_off):\n",
    "    # if \"performance\" not in os.listdir(path):\n",
    "        print(\"skipped \", relation)\n",
    "        pop_track.append(relation)\n",
    "    \n",
    "for r in pop_track:\n",
    "    relation_dct.pop(r)"
   ]
  },
  {
   "cell_type": "code",
   "execution_count": 9,
   "metadata": {},
   "outputs": [
    {
     "name": "stdout",
     "output_type": "stream",
     "text": [
      "The profession of {} is\n"
     ]
    }
   ],
   "source": [
    "relation_id = \"P106\"\n",
    "\n",
    "print(relation_dct[relation_id]['relation'])"
   ]
  },
  {
   "cell_type": "code",
   "execution_count": 10,
   "metadata": {},
   "outputs": [
    {
     "data": {
      "text/plain": [
       "[('Lucha Villa', 0, 'actor'), ('Cigoli', 0, 'architect')]"
      ]
     },
     "execution_count": 10,
     "metadata": {},
     "output_type": "execute_result"
    }
   ],
   "source": [
    "def get_top_performers(relation_id, consider_top = 5):\n",
    "    with open(f\"gpt-j/{relation_id}/performance\") as f:\n",
    "        performance = json.load(f)\n",
    "    performance.sort(key = itemgetter('p@3'), reverse=True)\n",
    "\n",
    "    subject__top_performers = []\n",
    "    object__top_performers = []\n",
    "    top_performers = []\n",
    "\n",
    "    for candidate in performance:\n",
    "        subject = candidate['subject']\n",
    "        try:\n",
    "            sub_idx = candidate['misc']['h_info']['sub_index']\n",
    "        except:\n",
    "            sub_idx = candidate['misc']['h_info']['h_index']\n",
    "        object = candidate['object']\n",
    "        if(subject in subject__top_performers or object in object__top_performers):\n",
    "            continue\n",
    "        if(len(tokenizer(subject).input_ids) > 3):\n",
    "            continue\n",
    "        \n",
    "        subject__top_performers.append(subject)\n",
    "        object__top_performers.append(object)\n",
    "        top_performers.append((\n",
    "            subject, sub_idx, object #, candidate['p@3']\n",
    "        ))\n",
    "\n",
    "        if(len(top_performers) == consider_top):\n",
    "            break\n",
    "    return top_performers\n",
    "\n",
    "top_performers = get_top_performers(relation_id, consider_top=10)\n",
    "top_performers"
   ]
  },
  {
   "cell_type": "code",
   "execution_count": 11,
   "metadata": {},
   "outputs": [],
   "source": [
    "# best_performing_cases = {}\n",
    "\n",
    "# for relation_id in relation_dct:\n",
    "#     top_performers = get_top_performers(relation_id, consider_top=10)\n",
    "#     cases_formatted = []\n",
    "#     for subject, sub_idx, obj, perf in top_performers:\n",
    "#         cases_formatted.append({\n",
    "#             'subject': subject,\n",
    "#             'sub_idx': sub_idx,\n",
    "#             'object': obj,\n",
    "#             'p@3_outof_50': perf\n",
    "#         })\n",
    "#     best_performing_cases[relation_id] = cases_formatted\n",
    "\n",
    "# with open(\"best_performing_cases__relationwise__gpt-j.json\", \"w\") as f:\n",
    "#     json.dump(best_performing_cases, f)"
   ]
  },
  {
   "cell_type": "code",
   "execution_count": 12,
   "metadata": {},
   "outputs": [
    {
     "data": {
      "text/plain": [
       "'The profession of {} is'"
      ]
     },
     "execution_count": 12,
     "metadata": {},
     "output_type": "execute_result"
    }
   ],
   "source": [
    "r = relation_dct[relation_id]['relation']\n",
    "r"
   ]
  },
  {
   "cell_type": "code",
   "execution_count": 13,
   "metadata": {},
   "outputs": [],
   "source": [
    "def get_averaged_JB(top_performers, relation_prompt, num_icl = 3):\n",
    "    jbs = []\n",
    "    for s, s_idx, o in tqdm(top_performers):\n",
    "        others = set(top_performers) - {(s, s_idx, o)}\n",
    "        others = random.sample(list(others), k = min(num_icl, len(list(others)))) \n",
    "        prompt = \"\"\n",
    "        prompt += \"\\n\".join(relation_prompt.format(s_other) + f\" {o_other}.\" for s_other, idx_other, o_other in others) + \"\\n\"\n",
    "        prompt += relation_prompt\n",
    "        print(\"subject: \", s)\n",
    "        print(prompt)\n",
    "\n",
    "        inputs = tokenizer(prompt, return_tensors=\"pt\").to(model.device)\n",
    "        jb = estimate.estimate_relation_operator(\n",
    "            model, tokenizer,\n",
    "            s, prompt,\n",
    "            subject_token_index= s_idx,\n",
    "            layer = 15,\n",
    "            device = model.device,\n",
    "        )\n",
    "        print(jb.weight.norm(), jb.bias.norm())\n",
    "        print()\n",
    "        jbs.append(jb)\n",
    "    \n",
    "    weight = torch.stack([jb.weight for jb in jbs]).mean(dim=0)\n",
    "    bias  = torch.stack([jb.bias for jb in jbs]).mean(dim=0)\n",
    "\n",
    "    return weight, bias\n",
    "\n",
    "def get_multiple_averaged_JB(top_performers, relation_prompt, N = 3, num_icl = 3):\n",
    "    weights_and_biases = []\n",
    "    sample_size = min(len(top_performers), num_icl + 2)\n",
    "    for _ in tqdm(range(N)):\n",
    "        cur_sample = random.sample(top_performers, k = sample_size)\n",
    "        weight, bias = get_averaged_JB(cur_sample, relation_prompt, num_icl)\n",
    "        weights_and_biases.append({\n",
    "            'weight': weight,\n",
    "            'bias'  : bias\n",
    "        })\n",
    "    return weights_and_biases"
   ]
  },
  {
   "cell_type": "code",
   "execution_count": 17,
   "metadata": {},
   "outputs": [
    {
     "data": {
      "application/vnd.jupyter.widget-view+json": {
       "model_id": "d3426d1af3c24f09849e565340a76157",
       "version_major": 2,
       "version_minor": 0
      },
      "text/plain": [
       "  0%|          | 0/3 [00:00<?, ?it/s]"
      ]
     },
     "metadata": {},
     "output_type": "display_data"
    },
    {
     "data": {
      "application/vnd.jupyter.widget-view+json": {
       "model_id": "b7a4e66e7def442dac84220f6ad0485b",
       "version_major": 2,
       "version_minor": 0
      },
      "text/plain": [
       "  0%|          | 0/5 [00:00<?, ?it/s]"
      ]
     },
     "metadata": {},
     "output_type": "display_data"
    },
    {
     "name": "stdout",
     "output_type": "stream",
     "text": [
      "subject:  Southern Savonia\n",
      "Harnaut is located in the country of India.\n",
      "Marugame is located in the country of Japan.\n",
      "Umarex is located in the country of Germany.\n",
      "{} is located in the country of\n",
      "tensor(8.9141, device='cuda:0', dtype=torch.float16) tensor(266.2500, device='cuda:0', dtype=torch.float16)\n",
      "\n",
      "subject:  Canada Live\n",
      "Marugame is located in the country of Japan.\n",
      "Southern Savonia is located in the country of Finland.\n",
      "Umarex is located in the country of Germany.\n",
      "{} is located in the country of\n",
      "tensor(19.2188, device='cuda:0', dtype=torch.float16) tensor(325.2500, device='cuda:0', dtype=torch.float16)\n",
      "\n",
      "subject:  Umarex\n",
      "Southern Savonia is located in the country of Finland.\n",
      "Marugame is located in the country of Japan.\n",
      "Canada Live is located in the country of Canada.\n",
      "{} is located in the country of\n",
      "tensor(20.5156, device='cuda:0', dtype=torch.float16) tensor(327.7500, device='cuda:0', dtype=torch.float16)\n",
      "\n",
      "subject:  Harnaut\n",
      "Marugame is located in the country of Japan.\n",
      "Canada Live is located in the country of Canada.\n",
      "Umarex is located in the country of Germany.\n",
      "{} is located in the country of\n",
      "tensor(14.6719, device='cuda:0', dtype=torch.float16) tensor(324., device='cuda:0', dtype=torch.float16)\n",
      "\n",
      "subject:  Marugame\n",
      "Canada Live is located in the country of Canada.\n",
      "Southern Savonia is located in the country of Finland.\n",
      "Harnaut is located in the country of India.\n",
      "{} is located in the country of\n",
      "tensor(26.7969, device='cuda:0', dtype=torch.float16) tensor(253.5000, device='cuda:0', dtype=torch.float16)\n",
      "\n"
     ]
    },
    {
     "data": {
      "application/vnd.jupyter.widget-view+json": {
       "model_id": "5e0e5a07e24247ada2195c07ac94949e",
       "version_major": 2,
       "version_minor": 0
      },
      "text/plain": [
       "  0%|          | 0/5 [00:00<?, ?it/s]"
      ]
     },
     "metadata": {},
     "output_type": "display_data"
    },
    {
     "name": "stdout",
     "output_type": "stream",
     "text": [
      "subject:  Imperia\n",
      "Haut Atlas is located in the country of Morocco.\n",
      "Eurostat is located in the country of Luxembourg.\n",
      "Canada Live is located in the country of Canada.\n",
      "{} is located in the country of\n",
      "tensor(3.8398, device='cuda:0', dtype=torch.float16) tensor(274.7500, device='cuda:0', dtype=torch.float16)\n",
      "\n",
      "subject:  Haut Atlas\n",
      "Eurostat is located in the country of Luxembourg.\n",
      "Imperia is located in the country of Italy.\n",
      "Southern Savonia is located in the country of Finland.\n",
      "{} is located in the country of\n",
      "tensor(9.8672, device='cuda:0', dtype=torch.float16) tensor(304., device='cuda:0', dtype=torch.float16)\n",
      "\n",
      "subject:  Southern Savonia\n",
      "Haut Atlas is located in the country of Morocco.\n",
      "Canada Live is located in the country of Canada.\n",
      "Imperia is located in the country of Italy.\n",
      "{} is located in the country of\n",
      "tensor(10.7500, device='cuda:0', dtype=torch.float16) tensor(254.1250, device='cuda:0', dtype=torch.float16)\n",
      "\n",
      "subject:  Canada Live\n",
      "Southern Savonia is located in the country of Finland.\n",
      "Eurostat is located in the country of Luxembourg.\n",
      "Imperia is located in the country of Italy.\n",
      "{} is located in the country of\n",
      "tensor(22.5938, device='cuda:0', dtype=torch.float16) tensor(311.7500, device='cuda:0', dtype=torch.float16)\n",
      "\n",
      "subject:  Eurostat\n",
      "Canada Live is located in the country of Canada.\n",
      "Haut Atlas is located in the country of Morocco.\n",
      "Southern Savonia is located in the country of Finland.\n",
      "{} is located in the country of\n",
      "tensor(11.9453, device='cuda:0', dtype=torch.float16) tensor(237.8750, device='cuda:0', dtype=torch.float16)\n",
      "\n"
     ]
    },
    {
     "data": {
      "application/vnd.jupyter.widget-view+json": {
       "model_id": "a332fe3ecb4c463da5fc695699b86a66",
       "version_major": 2,
       "version_minor": 0
      },
      "text/plain": [
       "  0%|          | 0/5 [00:00<?, ?it/s]"
      ]
     },
     "metadata": {},
     "output_type": "display_data"
    },
    {
     "name": "stdout",
     "output_type": "stream",
     "text": [
      "subject:  Marugame\n",
      "Eurostat is located in the country of Luxembourg.\n",
      "Sabratha is located in the country of Libya.\n",
      "Ufa is located in the country of Russia.\n",
      "{} is located in the country of\n",
      "tensor(50.3750, device='cuda:0', dtype=torch.float16) tensor(207.1250, device='cuda:0', dtype=torch.float16)\n",
      "\n",
      "subject:  Sabratha\n",
      "Marugame is located in the country of Japan.\n",
      "Imperia is located in the country of Italy.\n",
      "Ufa is located in the country of Russia.\n",
      "{} is located in the country of\n",
      "tensor(14.8828, device='cuda:0', dtype=torch.float16) tensor(274.7500, device='cuda:0', dtype=torch.float16)\n",
      "\n",
      "subject:  Eurostat\n",
      "Marugame is located in the country of Japan.\n",
      "Ufa is located in the country of Russia.\n",
      "Imperia is located in the country of Italy.\n",
      "{} is located in the country of\n",
      "tensor(10.8203, device='cuda:0', dtype=torch.float16) tensor(265.5000, device='cuda:0', dtype=torch.float16)\n",
      "\n",
      "subject:  Imperia\n",
      "Ufa is located in the country of Russia.\n",
      "Marugame is located in the country of Japan.\n",
      "Sabratha is located in the country of Libya.\n",
      "{} is located in the country of\n",
      "tensor(5.5977, device='cuda:0', dtype=torch.float16) tensor(250.8750, device='cuda:0', dtype=torch.float16)\n",
      "\n",
      "subject:  Ufa\n",
      "Imperia is located in the country of Italy.\n",
      "Eurostat is located in the country of Luxembourg.\n",
      "Marugame is located in the country of Japan.\n",
      "{} is located in the country of\n",
      "tensor(4.2969, device='cuda:0', dtype=torch.float16) tensor(222.7500, device='cuda:0', dtype=torch.float16)\n",
      "\n"
     ]
    }
   ],
   "source": [
    "weights_and_biases = get_multiple_averaged_JB(top_performers, relation_prompt=r)"
   ]
  },
  {
   "cell_type": "code",
   "execution_count": 19,
   "metadata": {},
   "outputs": [
    {
     "data": {
      "text/plain": [
       "3"
      ]
     },
     "execution_count": 19,
     "metadata": {},
     "output_type": "execute_result"
    }
   ],
   "source": [
    "len(weights_and_biases)"
   ]
  },
  {
   "cell_type": "code",
   "execution_count": null,
   "metadata": {},
   "outputs": [],
   "source": [
    "\n",
    "weight, bias = get_averaged_JB(top_performers, r)\n",
    "relation = estimate.RelationOperator(\n",
    "    weight=weight,\n",
    "    bias=bias,\n",
    "    model=model,\n",
    "    tokenizer=tokenizer,\n",
    "    layer= 15 ,\n",
    "    relation= relation_dct[relation_id]['relation'],\n",
    ")"
   ]
  },
  {
   "cell_type": "code",
   "execution_count": 25,
   "metadata": {},
   "outputs": [],
   "source": [
    "# test_subjects = [\n",
    "#     \"Hugh Jackman\",\n",
    "#     \"Michael Phelps\",\n",
    "#     \"Agatha Christie\",\n",
    "#     \"Barack Obama\",\n",
    "#     \"Sherlock Holmes\",\n",
    "#     \"Alan Turing\",\n",
    "#     \"Bill Gates\",\n",
    "#     \"Michelangelo\"\n",
    "# ]\n",
    "\n",
    "# for sub in test_subjects:\n",
    "#     print(f\"{sub} >> \", relation(sub, device= model.device))"
   ]
  },
  {
   "cell_type": "code",
   "execution_count": 14,
   "metadata": {},
   "outputs": [
    {
     "name": "stdout",
     "output_type": "stream",
     "text": [
      "The Great Wall, target: China   ==>   predicted: [' China', ' Russia', ' Germany', ' Canada', ' India']\n",
      "Niagara Falls, target: Canada   ==>   predicted: [' Canada', ' Germany', ' Russia', ' United', ' Switzerland']\n",
      "Valdemarsvik, target: Sweden   ==>   predicted: [' Russia', ' Germany', ' Sweden', ' Canada', ' Switzerland']\n",
      "Kyoto University, target: Japan   ==>   predicted: [' Japan', ' Russia', ' Germany', ' India', ' Canada']\n",
      "Hattfjelldal, target: Norway   ==>   predicted: [' Germany', ' Russia', ' Canada', ' Switzerland', ' Norway']\n",
      "Ginza, target: Japan   ==>   predicted: [' Russia', ' Japan', ' Germany', ' Canada', ' China']\n",
      "Sydney Hospital, target: Australia   ==>   predicted: [' Australia', ' Canada', ' Germany', ' Russia', ' India']\n",
      "Mahalangur Himal, target: Nepal   ==>   predicted: [' India', ' Russia', ' Germany', ' Canada', ' Switzerland']\n",
      "Higashikagawa, target: Japan   ==>   predicted: [' Japan', ' Germany', ' Russia', ' Canada', ' India']\n",
      "Trento, target: Italy   ==>   predicted: [' Italy', ' Germany', ' Switzerland', ' Russia', ' Austria']\n",
      "Taj Mahal, target: India   ==>   predicted: [' India', ' Russia', ' Germany', ' Canada', ' United']\n",
      "Hagia Sophia, target: Turkey   ==>   predicted: [' Russia', ' Turkey', ' Germany', ' Canada', ' France']\n",
      "Colosseum, target: Italy   ==>   predicted: [' Italy', ' Germany', ' Russia', ' Switzerland', ' Canada']\n",
      "Mount Everest, target: Nepal   ==>   predicted: [' Russia', ' India', ' Germany', ' Canada', ' China']\n",
      "Valencia, target: Spain   ==>   predicted: [' Spain', ' Germany', ' France', ' Russia', ' Canada']\n",
      "Lake Baikal, target: Russia   ==>   predicted: [' Russia', ' Germany', ' Ukraine', ' Kazakhstan', ' Canada']\n",
      "Merlion Park, target: Singapore   ==>   predicted: [' Canada', ' Germany', ' Russia', ' United', ' India']\n",
      "Cologne Cathedral, target: Germany   ==>   predicted: [' Germany', ' Russia', ' Switzerland', ' France', ' Canada']\n",
      "Buda Castle, target: Hungary   ==>   predicted: [' Germany', ' Russia', ' Austria', ' Switzerland', ' Turkey']\n"
     ]
    }
   ],
   "source": [
    "test_cases = [\n",
    "    # (\"Statue of Liberty\", -1, \"United States\"),\n",
    "    (\"The Great Wall\", -1, \"China\"),\n",
    "    (\"Niagara Falls\", -2, \"Canada\"),\n",
    "    (\"Valdemarsvik\", -1, \"Sweden\"),\n",
    "    (\"Kyoto University\", -2, \"Japan\"),\n",
    "    (\"Hattfjelldal\", -1, \"Norway\"),\n",
    "    (\"Ginza\", -1, \"Japan\"),\n",
    "    (\"Sydney Hospital\", -2, \"Australia\"),\n",
    "    (\"Mahalangur Himal\", -1, \"Nepal\"),\n",
    "    (\"Higashikagawa\", -1, \"Japan\"),\n",
    "    (\"Trento\", -1, \"Italy\"),\n",
    "    (\"Taj Mahal\", -1, \"India\"),\n",
    "    (\"Hagia Sophia\", -1, \"Turkey\"),\n",
    "    (\"Colosseum\", -1, \"Italy\"),\n",
    "    (\"Mount Everest\", -1, \"Nepal\"),\n",
    "    (\"Valencia\", -1, \"Spain\"),\n",
    "    (\"Lake Baikal\", -1, \"Russia\"),\n",
    "    (\"Merlion Park\", -1, \"Singapore\"),\n",
    "    (\"Cologne Cathedral\", -1, \"Germany\"),\n",
    "    (\"Buda Castle\", -1, \"Hungary\")\n",
    "]\n",
    "\n",
    "def check_with_test_cases(relation_operator):\n",
    "    for subject, subject_token_index, target in test_cases:\n",
    "        objects = relation_operator(\n",
    "            subject,\n",
    "            subject_token_index=subject_token_index,\n",
    "            device=model.device,\n",
    "            return_top_k=5,\n",
    "        )\n",
    "        print(f\"{subject}, target: {target}   ==>   predicted: {objects}\")\n",
    "\n",
    "check_with_test_cases(relation)"
   ]
  },
  {
   "cell_type": "code",
   "execution_count": 19,
   "metadata": {},
   "outputs": [
    {
     "name": "stdout",
     "output_type": "stream",
     "text": [
      "gpt-j/jacobians_averaged/P17.npz\n"
     ]
    }
   ],
   "source": [
    "print(f\"{jb_save_path}/{relation_id}.npz\")\n",
    "\n",
    "np.savez(\n",
    "    f\"{jb_save_path}/{relation_id}.npz\", \n",
    "    weight_and_bias = [{\n",
    "        'weight': weight.cpu().numpy(),\n",
    "        'bias'  : bias.cpu().numpy()\n",
    "    }],\n",
    "    allow_pickle = True\n",
    ")"
   ]
  },
  {
   "cell_type": "code",
   "execution_count": 22,
   "metadata": {},
   "outputs": [
    {
     "data": {
      "text/plain": [
       "['weight_and_bias', 'allow_pickle']"
      ]
     },
     "execution_count": 22,
     "metadata": {},
     "output_type": "execute_result"
    }
   ],
   "source": [
    "jb = np.load(f\"{jb_save_path}/{relation_id}.npz\", allow_pickle= True)\n",
    "list(jb.keys())"
   ]
  },
  {
   "cell_type": "code",
   "execution_count": 27,
   "metadata": {},
   "outputs": [
    {
     "data": {
      "text/plain": [
       "(4096, 4096)"
      ]
     },
     "execution_count": 27,
     "metadata": {},
     "output_type": "execute_result"
    }
   ],
   "source": [
    "jb['weight_and_bias'][0]['weight'].shape"
   ]
  },
  {
   "cell_type": "code",
   "execution_count": 29,
   "metadata": {},
   "outputs": [
    {
     "data": {
      "text/plain": [
       "18"
      ]
     },
     "execution_count": 29,
     "metadata": {},
     "output_type": "execute_result"
    }
   ],
   "source": [
    "len(relation_dct.keys())"
   ]
  },
  {
   "cell_type": "code",
   "execution_count": 14,
   "metadata": {},
   "outputs": [
    {
     "name": "stdout",
     "output_type": "stream",
     "text": [
      "zzzzzzzzzzzzzzzzzzzzzzzzzzzzzzzzzzzzzzzzzzzzzzzzzzzz\n",
      "P176 {} is produced by\n",
      "zzzzzzzzzzzzzzzzzzzzzzzzzzzzzzzzzzzzzzzzzzzzzzzzzzzz\n",
      "543\n",
      "{} is produced by\n"
     ]
    },
    {
     "data": {
      "application/vnd.jupyter.widget-view+json": {
       "model_id": "e460ee0030774e1488d86e02d9c2b728",
       "version_major": 2,
       "version_minor": 0
      },
      "text/plain": [
       "  0%|          | 0/10 [00:00<?, ?it/s]"
      ]
     },
     "metadata": {},
     "output_type": "display_data"
    },
    {
     "data": {
      "application/vnd.jupyter.widget-view+json": {
       "model_id": "25a05b46e3974c4ba9e50aa0cee76bff",
       "version_major": 2,
       "version_minor": 0
      },
      "text/plain": [
       "  0%|          | 0/5 [00:00<?, ?it/s]"
      ]
     },
     "metadata": {},
     "output_type": "display_data"
    },
    {
     "name": "stdout",
     "output_type": "stream",
     "text": [
      "subject:  Renault 4\n",
      "Honda Valkyrie is produced by Honda.\n",
      "BMW 700 is produced by BMW.\n",
      "Toyota Corona is produced by Toyota.\n",
      "{} is produced by\n",
      "tensor(5.1016, device='cuda:0', dtype=torch.float16) tensor(284., device='cuda:0', dtype=torch.float16)\n",
      "\n",
      "subject:  Honda Valkyrie\n",
      "Renault 4 is produced by Renault.\n",
      "Toyota Corona is produced by Toyota.\n",
      "BMW 700 is produced by BMW.\n",
      "{} is produced by\n",
      "tensor(1.3691, device='cuda:0', dtype=torch.float16) tensor(268.5000, device='cuda:0', dtype=torch.float16)\n",
      "\n",
      "subject:  BMW 700\n",
      "Toyota Corona is produced by Toyota.\n",
      "Nokia 1100 is produced by Nokia.\n",
      "Renault 4 is produced by Renault.\n",
      "{} is produced by\n",
      "tensor(1.9082, device='cuda:0', dtype=torch.float16) tensor(290., device='cuda:0', dtype=torch.float16)\n",
      "\n",
      "subject:  Nokia 1100\n",
      "Toyota Corona is produced by Toyota.\n",
      "BMW 700 is produced by BMW.\n",
      "Honda Valkyrie is produced by Honda.\n",
      "{} is produced by\n",
      "tensor(1.6045, device='cuda:0', dtype=torch.float16) tensor(268.7500, device='cuda:0', dtype=torch.float16)\n",
      "\n",
      "subject:  Toyota Corona\n",
      "BMW 700 is produced by BMW.\n",
      "Honda Valkyrie is produced by Honda.\n",
      "Nokia 1100 is produced by Nokia.\n",
      "{} is produced by\n",
      "tensor(1.8369, device='cuda:0', dtype=torch.float16) tensor(264., device='cuda:0', dtype=torch.float16)\n",
      "\n"
     ]
    },
    {
     "data": {
      "application/vnd.jupyter.widget-view+json": {
       "model_id": "ed527eb31da74906915ecdd250e4a9f2",
       "version_major": 2,
       "version_minor": 0
      },
      "text/plain": [
       "  0%|          | 0/5 [00:00<?, ?it/s]"
      ]
     },
     "metadata": {},
     "output_type": "display_data"
    },
    {
     "name": "stdout",
     "output_type": "stream",
     "text": [
      "subject:  Nokia 1100\n",
      "Google Authenticator is produced by Google.\n",
      "Samsung NX series is produced by Samsung.\n",
      "Honda Valkyrie is produced by Honda.\n",
      "{} is produced by\n",
      "tensor(1.7061, device='cuda:0', dtype=torch.float16) tensor(250.5000, device='cuda:0', dtype=torch.float16)\n",
      "\n",
      "subject:  Honda Valkyrie\n",
      "Game & Watch is produced by Nintendo.\n",
      "Google Authenticator is produced by Google.\n",
      "Nokia 1100 is produced by Nokia.\n",
      "{} is produced by\n",
      "tensor(0.9194, device='cuda:0', dtype=torch.float16) tensor(279.2500, device='cuda:0', dtype=torch.float16)\n",
      "\n",
      "subject:  Google Authenticator\n",
      "Honda Valkyrie is produced by Honda.\n",
      "Samsung NX series is produced by Samsung.\n",
      "Game & Watch is produced by Nintendo.\n",
      "{} is produced by\n",
      "tensor(21.3906, device='cuda:0', dtype=torch.float16) tensor(204.8750, device='cuda:0', dtype=torch.float16)\n",
      "\n",
      "subject:  Samsung NX series\n",
      "Google Authenticator is produced by Google.\n",
      "Nokia 1100 is produced by Nokia.\n",
      "Game & Watch is produced by Nintendo.\n",
      "{} is produced by\n",
      "tensor(27.2031, device='cuda:0', dtype=torch.float16) tensor(274.7500, device='cuda:0', dtype=torch.float16)\n",
      "\n",
      "subject:  Game & Watch\n",
      "Honda Valkyrie is produced by Honda.\n",
      "Nokia 1100 is produced by Nokia.\n",
      "Google Authenticator is produced by Google.\n",
      "{} is produced by\n",
      "tensor(10.8125, device='cuda:0', dtype=torch.float16) tensor(208.1250, device='cuda:0', dtype=torch.float16)\n",
      "\n"
     ]
    },
    {
     "data": {
      "application/vnd.jupyter.widget-view+json": {
       "model_id": "5e9a2d99dbcb423d847e5ee114ff0ecb",
       "version_major": 2,
       "version_minor": 0
      },
      "text/plain": [
       "  0%|          | 0/5 [00:00<?, ?it/s]"
      ]
     },
     "metadata": {},
     "output_type": "display_data"
    },
    {
     "name": "stdout",
     "output_type": "stream",
     "text": [
      "subject:  Game & Watch\n",
      "Nokia 1100 is produced by Nokia.\n",
      "Renault 4 is produced by Renault.\n",
      "BMW 700 is produced by BMW.\n",
      "{} is produced by\n",
      "tensor(9.6328, device='cuda:0', dtype=torch.float16) tensor(219., device='cuda:0', dtype=torch.float16)\n",
      "\n",
      "subject:  BMW 700\n",
      "Nokia 1100 is produced by Nokia.\n",
      "Game & Watch is produced by Nintendo.\n",
      "Renault 4 is produced by Renault.\n",
      "{} is produced by\n",
      "tensor(1.8164, device='cuda:0', dtype=torch.float16) tensor(288.7500, device='cuda:0', dtype=torch.float16)\n",
      "\n",
      "subject:  Toyota Corona\n",
      "BMW 700 is produced by BMW.\n",
      "Game & Watch is produced by Nintendo.\n",
      "Renault 4 is produced by Renault.\n",
      "{} is produced by\n",
      "tensor(1.5117, device='cuda:0', dtype=torch.float16) tensor(270.2500, device='cuda:0', dtype=torch.float16)\n",
      "\n",
      "subject:  Renault 4\n",
      "Nokia 1100 is produced by Nokia.\n",
      "BMW 700 is produced by BMW.\n",
      "Toyota Corona is produced by Toyota.\n",
      "{} is produced by\n",
      "tensor(4.8906, device='cuda:0', dtype=torch.float16) tensor(286.7500, device='cuda:0', dtype=torch.float16)\n",
      "\n",
      "subject:  Nokia 1100\n",
      "BMW 700 is produced by BMW.\n",
      "Toyota Corona is produced by Toyota.\n",
      "Renault 4 is produced by Renault.\n",
      "{} is produced by\n",
      "tensor(1.5938, device='cuda:0', dtype=torch.float16) tensor(249.7500, device='cuda:0', dtype=torch.float16)\n",
      "\n"
     ]
    },
    {
     "data": {
      "application/vnd.jupyter.widget-view+json": {
       "model_id": "c3c19b95728f49d58895565ee57ba66d",
       "version_major": 2,
       "version_minor": 0
      },
      "text/plain": [
       "  0%|          | 0/5 [00:00<?, ?it/s]"
      ]
     },
     "metadata": {},
     "output_type": "display_data"
    },
    {
     "name": "stdout",
     "output_type": "stream",
     "text": [
      "subject:  BMW 700\n",
      "Game & Watch is produced by Nintendo.\n",
      "Toyota Corona is produced by Toyota.\n",
      "Samsung NX series is produced by Samsung.\n",
      "{} is produced by\n",
      "tensor(2.8164, device='cuda:0', dtype=torch.float16) tensor(300.5000, device='cuda:0', dtype=torch.float16)\n",
      "\n",
      "subject:  Toyota Corona\n",
      "BMW 700 is produced by BMW.\n",
      "Game & Watch is produced by Nintendo.\n",
      "Nissan Cherry is produced by Nissan.\n",
      "{} is produced by\n",
      "tensor(1.5156, device='cuda:0', dtype=torch.float16) tensor(279.2500, device='cuda:0', dtype=torch.float16)\n",
      "\n",
      "subject:  Samsung NX series\n",
      "Toyota Corona is produced by Toyota.\n",
      "Nissan Cherry is produced by Nissan.\n",
      "BMW 700 is produced by BMW.\n",
      "{} is produced by\n",
      "tensor(28.8906, device='cuda:0', dtype=torch.float16) tensor(291.7500, device='cuda:0', dtype=torch.float16)\n",
      "\n",
      "subject:  Game & Watch\n",
      "Toyota Corona is produced by Toyota.\n",
      "Samsung NX series is produced by Samsung.\n",
      "BMW 700 is produced by BMW.\n",
      "{} is produced by\n",
      "tensor(9.9766, device='cuda:0', dtype=torch.float16) tensor(216.8750, device='cuda:0', dtype=torch.float16)\n",
      "\n",
      "subject:  Nissan Cherry\n",
      "Samsung NX series is produced by Samsung.\n",
      "BMW 700 is produced by BMW.\n",
      "Toyota Corona is produced by Toyota.\n",
      "{} is produced by\n",
      "tensor(1.9121, device='cuda:0', dtype=torch.float16) tensor(322.5000, device='cuda:0', dtype=torch.float16)\n",
      "\n"
     ]
    },
    {
     "data": {
      "application/vnd.jupyter.widget-view+json": {
       "model_id": "1ce360a3fb3348608bf8f4aa8c360f0e",
       "version_major": 2,
       "version_minor": 0
      },
      "text/plain": [
       "  0%|          | 0/5 [00:00<?, ?it/s]"
      ]
     },
     "metadata": {},
     "output_type": "display_data"
    },
    {
     "name": "stdout",
     "output_type": "stream",
     "text": [
      "subject:  Nissan Cherry\n",
      "Samsung NX series is produced by Samsung.\n",
      "Nokia 1100 is produced by Nokia.\n",
      "Game & Watch is produced by Nintendo.\n",
      "{} is produced by\n",
      "tensor(1.0713, device='cuda:0', dtype=torch.float16) tensor(335., device='cuda:0', dtype=torch.float16)\n",
      "\n",
      "subject:  Samsung NX series\n",
      "Game & Watch is produced by Nintendo.\n",
      "Nokia 1100 is produced by Nokia.\n",
      "Toyota Corona is produced by Toyota.\n",
      "{} is produced by\n",
      "tensor(27.2969, device='cuda:0', dtype=torch.float16) tensor(271.7500, device='cuda:0', dtype=torch.float16)\n",
      "\n",
      "subject:  Toyota Corona\n",
      "Nissan Cherry is produced by Nissan.\n",
      "Game & Watch is produced by Nintendo.\n",
      "Nokia 1100 is produced by Nokia.\n",
      "{} is produced by\n",
      "tensor(1.5488, device='cuda:0', dtype=torch.float16) tensor(258.7500, device='cuda:0', dtype=torch.float16)\n",
      "\n",
      "subject:  Game & Watch\n",
      "Nokia 1100 is produced by Nokia.\n",
      "Toyota Corona is produced by Toyota.\n",
      "Samsung NX series is produced by Samsung.\n",
      "{} is produced by\n",
      "tensor(11.8281, device='cuda:0', dtype=torch.float16) tensor(212.7500, device='cuda:0', dtype=torch.float16)\n",
      "\n",
      "subject:  Nokia 1100\n",
      "Nissan Cherry is produced by Nissan.\n",
      "Game & Watch is produced by Nintendo.\n",
      "Samsung NX series is produced by Samsung.\n",
      "{} is produced by\n",
      "tensor(2.2891, device='cuda:0', dtype=torch.float16) tensor(244.6250, device='cuda:0', dtype=torch.float16)\n",
      "\n"
     ]
    },
    {
     "data": {
      "application/vnd.jupyter.widget-view+json": {
       "model_id": "9fb5cd18c2e64a88aa3a6d838fb468d3",
       "version_major": 2,
       "version_minor": 0
      },
      "text/plain": [
       "  0%|          | 0/5 [00:00<?, ?it/s]"
      ]
     },
     "metadata": {},
     "output_type": "display_data"
    },
    {
     "name": "stdout",
     "output_type": "stream",
     "text": [
      "subject:  Game & Watch\n",
      "Nokia 1100 is produced by Nokia.\n",
      "Samsung NX series is produced by Samsung.\n",
      "Honda Valkyrie is produced by Honda.\n",
      "{} is produced by\n",
      "tensor(10.3672, device='cuda:0', dtype=torch.float16) tensor(224.3750, device='cuda:0', dtype=torch.float16)\n",
      "\n",
      "subject:  Samsung NX series\n",
      "Honda Valkyrie is produced by Honda.\n",
      "Nokia 1100 is produced by Nokia.\n",
      "Google Authenticator is produced by Google.\n",
      "{} is produced by\n",
      "tensor(29.3906, device='cuda:0', dtype=torch.float16) tensor(276.2500, device='cuda:0', dtype=torch.float16)\n",
      "\n",
      "subject:  Honda Valkyrie\n",
      "Google Authenticator is produced by Google.\n",
      "Samsung NX series is produced by Samsung.\n",
      "Nokia 1100 is produced by Nokia.\n",
      "{} is produced by\n",
      "tensor(1.0322, device='cuda:0', dtype=torch.float16) tensor(302.5000, device='cuda:0', dtype=torch.float16)\n",
      "\n",
      "subject:  Nokia 1100\n",
      "Samsung NX series is produced by Samsung.\n",
      "Game & Watch is produced by Nintendo.\n",
      "Google Authenticator is produced by Google.\n",
      "{} is produced by\n",
      "tensor(2.0098, device='cuda:0', dtype=torch.float16) tensor(266.7500, device='cuda:0', dtype=torch.float16)\n",
      "\n",
      "subject:  Google Authenticator\n",
      "Game & Watch is produced by Nintendo.\n",
      "Nokia 1100 is produced by Nokia.\n",
      "Samsung NX series is produced by Samsung.\n",
      "{} is produced by\n",
      "tensor(23.7500, device='cuda:0', dtype=torch.float16) tensor(200.3750, device='cuda:0', dtype=torch.float16)\n",
      "\n"
     ]
    },
    {
     "data": {
      "application/vnd.jupyter.widget-view+json": {
       "model_id": "cc9d966bf1814402909691d8d72fc220",
       "version_major": 2,
       "version_minor": 0
      },
      "text/plain": [
       "  0%|          | 0/5 [00:00<?, ?it/s]"
      ]
     },
     "metadata": {},
     "output_type": "display_data"
    },
    {
     "name": "stdout",
     "output_type": "stream",
     "text": [
      "subject:  Game & Watch\n",
      "BMW 700 is produced by BMW.\n",
      "Nokia 1100 is produced by Nokia.\n",
      "Google Authenticator is produced by Google.\n",
      "{} is produced by\n",
      "tensor(10.5000, device='cuda:0', dtype=torch.float16) tensor(216.5000, device='cuda:0', dtype=torch.float16)\n",
      "\n",
      "subject:  Nissan Cherry\n",
      "Google Authenticator is produced by Google.\n",
      "Game & Watch is produced by Nintendo.\n",
      "Nokia 1100 is produced by Nokia.\n",
      "{} is produced by\n",
      "tensor(1.0732, device='cuda:0', dtype=torch.float16) tensor(328.2500, device='cuda:0', dtype=torch.float16)\n",
      "\n",
      "subject:  Google Authenticator\n",
      "Nokia 1100 is produced by Nokia.\n",
      "Game & Watch is produced by Nintendo.\n",
      "Nissan Cherry is produced by Nissan.\n",
      "{} is produced by\n",
      "tensor(22.1250, device='cuda:0', dtype=torch.float16) tensor(201., device='cuda:0', dtype=torch.float16)\n",
      "\n",
      "subject:  BMW 700\n",
      "Game & Watch is produced by Nintendo.\n",
      "Nokia 1100 is produced by Nokia.\n",
      "Nissan Cherry is produced by Nissan.\n",
      "{} is produced by\n",
      "tensor(1.8926, device='cuda:0', dtype=torch.float16) tensor(294.5000, device='cuda:0', dtype=torch.float16)\n",
      "\n",
      "subject:  Nokia 1100\n",
      "Google Authenticator is produced by Google.\n",
      "BMW 700 is produced by BMW.\n",
      "Nissan Cherry is produced by Nissan.\n",
      "{} is produced by\n",
      "tensor(1.8750, device='cuda:0', dtype=torch.float16) tensor(265.5000, device='cuda:0', dtype=torch.float16)\n",
      "\n"
     ]
    },
    {
     "data": {
      "application/vnd.jupyter.widget-view+json": {
       "model_id": "071d811d8f78478d9ad4c9a054e7882d",
       "version_major": 2,
       "version_minor": 0
      },
      "text/plain": [
       "  0%|          | 0/5 [00:00<?, ?it/s]"
      ]
     },
     "metadata": {},
     "output_type": "display_data"
    },
    {
     "name": "stdout",
     "output_type": "stream",
     "text": [
      "subject:  Toyota Corona\n",
      "BMW 700 is produced by BMW.\n",
      "Samsung NX series is produced by Samsung.\n",
      "Nissan Cherry is produced by Nissan.\n",
      "{} is produced by\n",
      "tensor(1.5801, device='cuda:0', dtype=torch.float16) tensor(278.5000, device='cuda:0', dtype=torch.float16)\n",
      "\n",
      "subject:  Nissan Cherry\n",
      "Samsung NX series is produced by Samsung.\n",
      "Toyota Corona is produced by Toyota.\n",
      "BMW 700 is produced by BMW.\n",
      "{} is produced by\n",
      "tensor(1.7559, device='cuda:0', dtype=torch.float16) tensor(329.5000, device='cuda:0', dtype=torch.float16)\n",
      "\n",
      "subject:  BMW 700\n",
      "Toyota Corona is produced by Toyota.\n",
      "Nissan Cherry is produced by Nissan.\n",
      "Samsung NX series is produced by Samsung.\n",
      "{} is produced by\n",
      "tensor(2.1875, device='cuda:0', dtype=torch.float16) tensor(294.2500, device='cuda:0', dtype=torch.float16)\n",
      "\n",
      "subject:  Microsoft Band\n",
      "BMW 700 is produced by BMW.\n",
      "Toyota Corona is produced by Toyota.\n",
      "Nissan Cherry is produced by Nissan.\n",
      "{} is produced by\n",
      "tensor(24.3281, device='cuda:0', dtype=torch.float16) tensor(273.7500, device='cuda:0', dtype=torch.float16)\n",
      "\n",
      "subject:  Samsung NX series\n",
      "Toyota Corona is produced by Toyota.\n",
      "Nissan Cherry is produced by Nissan.\n",
      "Microsoft Band is produced by Microsoft.\n",
      "{} is produced by\n",
      "tensor(27.2188, device='cuda:0', dtype=torch.float16) tensor(276.5000, device='cuda:0', dtype=torch.float16)\n",
      "\n"
     ]
    },
    {
     "data": {
      "application/vnd.jupyter.widget-view+json": {
       "model_id": "e4701cfb399b4d19beb62eef0a33cde5",
       "version_major": 2,
       "version_minor": 0
      },
      "text/plain": [
       "  0%|          | 0/5 [00:00<?, ?it/s]"
      ]
     },
     "metadata": {},
     "output_type": "display_data"
    },
    {
     "name": "stdout",
     "output_type": "stream",
     "text": [
      "subject:  BMW 700\n",
      "Samsung NX series is produced by Samsung.\n",
      "Toyota Corona is produced by Toyota.\n",
      "Honda Valkyrie is produced by Honda.\n",
      "{} is produced by\n",
      "tensor(2.2656, device='cuda:0', dtype=torch.float16) tensor(301., device='cuda:0', dtype=torch.float16)\n",
      "\n",
      "subject:  Samsung NX series\n",
      "Renault 4 is produced by Renault.\n",
      "BMW 700 is produced by BMW.\n",
      "Honda Valkyrie is produced by Honda.\n",
      "{} is produced by\n",
      "tensor(30.7969, device='cuda:0', dtype=torch.float16) tensor(292.7500, device='cuda:0', dtype=torch.float16)\n",
      "\n",
      "subject:  Honda Valkyrie\n",
      "Renault 4 is produced by Renault.\n",
      "Toyota Corona is produced by Toyota.\n",
      "BMW 700 is produced by BMW.\n",
      "{} is produced by\n",
      "tensor(1.3691, device='cuda:0', dtype=torch.float16) tensor(268.5000, device='cuda:0', dtype=torch.float16)\n",
      "\n",
      "subject:  Toyota Corona\n",
      "Samsung NX series is produced by Samsung.\n",
      "Honda Valkyrie is produced by Honda.\n",
      "Renault 4 is produced by Renault.\n",
      "{} is produced by\n",
      "tensor(1.6025, device='cuda:0', dtype=torch.float16) tensor(280.2500, device='cuda:0', dtype=torch.float16)\n",
      "\n",
      "subject:  Renault 4\n",
      "Honda Valkyrie is produced by Honda.\n",
      "Samsung NX series is produced by Samsung.\n",
      "Toyota Corona is produced by Toyota.\n",
      "{} is produced by\n",
      "tensor(4.5547, device='cuda:0', dtype=torch.float16) tensor(289.2500, device='cuda:0', dtype=torch.float16)\n",
      "\n"
     ]
    },
    {
     "data": {
      "application/vnd.jupyter.widget-view+json": {
       "model_id": "bba435dd6b90476bbb02f8f22a789a33",
       "version_major": 2,
       "version_minor": 0
      },
      "text/plain": [
       "  0%|          | 0/5 [00:00<?, ?it/s]"
      ]
     },
     "metadata": {},
     "output_type": "display_data"
    },
    {
     "name": "stdout",
     "output_type": "stream",
     "text": [
      "subject:  Samsung NX series\n",
      "Nokia 1100 is produced by Nokia.\n",
      "Game & Watch is produced by Nintendo.\n",
      "Nissan Cherry is produced by Nissan.\n",
      "{} is produced by\n",
      "tensor(26.1875, device='cuda:0', dtype=torch.float16) tensor(279.5000, device='cuda:0', dtype=torch.float16)\n",
      "\n",
      "subject:  Nokia 1100\n",
      "Game & Watch is produced by Nintendo.\n",
      "Samsung NX series is produced by Samsung.\n",
      "Nissan Cherry is produced by Nissan.\n",
      "{} is produced by\n",
      "tensor(1.9570, device='cuda:0', dtype=torch.float16) tensor(253.6250, device='cuda:0', dtype=torch.float16)\n",
      "\n",
      "subject:  Game & Watch\n",
      "BMW 700 is produced by BMW.\n",
      "Nissan Cherry is produced by Nissan.\n",
      "Nokia 1100 is produced by Nokia.\n",
      "{} is produced by\n",
      "tensor(10.3828, device='cuda:0', dtype=torch.float16) tensor(216.5000, device='cuda:0', dtype=torch.float16)\n",
      "\n",
      "subject:  Nissan Cherry\n",
      "Nokia 1100 is produced by Nokia.\n",
      "BMW 700 is produced by BMW.\n",
      "Samsung NX series is produced by Samsung.\n",
      "{} is produced by\n",
      "tensor(1.1094, device='cuda:0', dtype=torch.float16) tensor(332.2500, device='cuda:0', dtype=torch.float16)\n",
      "\n",
      "subject:  BMW 700\n",
      "Game & Watch is produced by Nintendo.\n",
      "Nissan Cherry is produced by Nissan.\n",
      "Samsung NX series is produced by Samsung.\n",
      "{} is produced by\n",
      "tensor(2.7070, device='cuda:0', dtype=torch.float16) tensor(314.5000, device='cuda:0', dtype=torch.float16)\n",
      "\n",
      "Saving weights and biases >>  gpt-j/jacobians_averaged_collection/P176.npz\n",
      "----------------------------------------------------\n",
      "zzzzzzzzzzzzzzzzzzzzzzzzzzzzzzzzzzzzzzzzzzzzzzzzzzzz\n",
      "P140 The official religion of {} is\n",
      "zzzzzzzzzzzzzzzzzzzzzzzzzzzzzzzzzzzzzzzzzzzzzzzzzzzz\n",
      "182\n",
      "The official religion of {} is\n"
     ]
    },
    {
     "data": {
      "application/vnd.jupyter.widget-view+json": {
       "model_id": "c652c3b542b44b40a84b4fa3db7e79c8",
       "version_major": 2,
       "version_minor": 0
      },
      "text/plain": [
       "  0%|          | 0/10 [00:00<?, ?it/s]"
      ]
     },
     "metadata": {},
     "output_type": "display_data"
    },
    {
     "data": {
      "application/vnd.jupyter.widget-view+json": {
       "model_id": "b3f0da421a674f0aa9d549d14929c7c2",
       "version_major": 2,
       "version_minor": 0
      },
      "text/plain": [
       "  0%|          | 0/4 [00:00<?, ?it/s]"
      ]
     },
     "metadata": {},
     "output_type": "display_data"
    },
    {
     "name": "stdout",
     "output_type": "stream",
     "text": [
      "subject:  Pala Empire\n",
      "The official religion of Tom Cruise is Scientology.\n",
      "The official religion of Tefillin is Judaism.\n",
      "The official religion of Cat Stevens is Islam.\n",
      "The official religion of {} is\n",
      "tensor(16.3750, device='cuda:0', dtype=torch.float16) tensor(336.2500, device='cuda:0', dtype=torch.float16)\n",
      "\n",
      "subject:  Tom Cruise\n",
      "The official religion of Pala Empire is Buddhism.\n",
      "The official religion of Tefillin is Judaism.\n",
      "The official religion of Cat Stevens is Islam.\n",
      "The official religion of {} is\n",
      "tensor(22.9375, device='cuda:0', dtype=torch.float16) tensor(328.5000, device='cuda:0', dtype=torch.float16)\n",
      "\n",
      "subject:  Cat Stevens\n",
      "The official religion of Pala Empire is Buddhism.\n",
      "The official religion of Tefillin is Judaism.\n",
      "The official religion of Tom Cruise is Scientology.\n",
      "The official religion of {} is\n",
      "tensor(30.6094, device='cuda:0', dtype=torch.float16) tensor(277.2500, device='cuda:0', dtype=torch.float16)\n",
      "\n",
      "subject:  Tefillin\n",
      "The official religion of Cat Stevens is Islam.\n",
      "The official religion of Tom Cruise is Scientology.\n",
      "The official religion of Pala Empire is Buddhism.\n",
      "The official religion of {} is\n",
      "tensor(27.8750, device='cuda:0', dtype=torch.float16) tensor(300.2500, device='cuda:0', dtype=torch.float16)\n",
      "\n"
     ]
    },
    {
     "data": {
      "application/vnd.jupyter.widget-view+json": {
       "model_id": "99101626e7bd4a06b5b6602957467da4",
       "version_major": 2,
       "version_minor": 0
      },
      "text/plain": [
       "  0%|          | 0/4 [00:00<?, ?it/s]"
      ]
     },
     "metadata": {},
     "output_type": "display_data"
    },
    {
     "name": "stdout",
     "output_type": "stream",
     "text": [
      "subject:  Tom Cruise\n",
      "The official religion of Pala Empire is Buddhism.\n",
      "The official religion of Cat Stevens is Islam.\n",
      "The official religion of Tefillin is Judaism.\n",
      "The official religion of {} is\n",
      "tensor(22.9688, device='cuda:0', dtype=torch.float16) tensor(333., device='cuda:0', dtype=torch.float16)\n",
      "\n",
      "subject:  Tefillin\n",
      "The official religion of Pala Empire is Buddhism.\n",
      "The official religion of Cat Stevens is Islam.\n",
      "The official religion of Tom Cruise is Scientology.\n",
      "The official religion of {} is\n",
      "tensor(30.1094, device='cuda:0', dtype=torch.float16) tensor(303.2500, device='cuda:0', dtype=torch.float16)\n",
      "\n",
      "subject:  Cat Stevens\n",
      "The official religion of Pala Empire is Buddhism.\n",
      "The official religion of Tefillin is Judaism.\n",
      "The official religion of Tom Cruise is Scientology.\n",
      "The official religion of {} is\n",
      "tensor(30.6094, device='cuda:0', dtype=torch.float16) tensor(277.2500, device='cuda:0', dtype=torch.float16)\n",
      "\n",
      "subject:  Pala Empire\n",
      "The official religion of Tefillin is Judaism.\n",
      "The official religion of Cat Stevens is Islam.\n",
      "The official religion of Tom Cruise is Scientology.\n",
      "The official religion of {} is\n",
      "tensor(15.6562, device='cuda:0', dtype=torch.float16) tensor(357.2500, device='cuda:0', dtype=torch.float16)\n",
      "\n"
     ]
    },
    {
     "data": {
      "application/vnd.jupyter.widget-view+json": {
       "model_id": "bb21c37e530e4a1dbe0660ad5e9e3772",
       "version_major": 2,
       "version_minor": 0
      },
      "text/plain": [
       "  0%|          | 0/4 [00:00<?, ?it/s]"
      ]
     },
     "metadata": {},
     "output_type": "display_data"
    },
    {
     "name": "stdout",
     "output_type": "stream",
     "text": [
      "subject:  Cat Stevens\n",
      "The official religion of Pala Empire is Buddhism.\n",
      "The official religion of Tom Cruise is Scientology.\n",
      "The official religion of Tefillin is Judaism.\n",
      "The official religion of {} is\n",
      "tensor(31.8594, device='cuda:0', dtype=torch.float16) tensor(271.2500, device='cuda:0', dtype=torch.float16)\n",
      "\n",
      "subject:  Tefillin\n",
      "The official religion of Tom Cruise is Scientology.\n",
      "The official religion of Cat Stevens is Islam.\n",
      "The official religion of Pala Empire is Buddhism.\n",
      "The official religion of {} is\n",
      "tensor(28.5938, device='cuda:0', dtype=torch.float16) tensor(289.2500, device='cuda:0', dtype=torch.float16)\n",
      "\n",
      "subject:  Pala Empire\n",
      "The official religion of Tom Cruise is Scientology.\n",
      "The official religion of Tefillin is Judaism.\n",
      "The official religion of Cat Stevens is Islam.\n",
      "The official religion of {} is\n",
      "tensor(16.3750, device='cuda:0', dtype=torch.float16) tensor(336.2500, device='cuda:0', dtype=torch.float16)\n",
      "\n",
      "subject:  Tom Cruise\n",
      "The official religion of Cat Stevens is Islam.\n",
      "The official religion of Pala Empire is Buddhism.\n",
      "The official religion of Tefillin is Judaism.\n",
      "The official religion of {} is\n",
      "tensor(26.3594, device='cuda:0', dtype=torch.float16) tensor(326.7500, device='cuda:0', dtype=torch.float16)\n",
      "\n"
     ]
    },
    {
     "data": {
      "application/vnd.jupyter.widget-view+json": {
       "model_id": "2c91bf7536544d5ab1e6474e7c760018",
       "version_major": 2,
       "version_minor": 0
      },
      "text/plain": [
       "  0%|          | 0/4 [00:00<?, ?it/s]"
      ]
     },
     "metadata": {},
     "output_type": "display_data"
    },
    {
     "name": "stdout",
     "output_type": "stream",
     "text": [
      "subject:  Pala Empire\n",
      "The official religion of Tom Cruise is Scientology.\n",
      "The official religion of Cat Stevens is Islam.\n",
      "The official religion of Tefillin is Judaism.\n",
      "The official religion of {} is\n",
      "tensor(15.5625, device='cuda:0', dtype=torch.float16) tensor(333.2500, device='cuda:0', dtype=torch.float16)\n",
      "\n",
      "subject:  Tefillin\n",
      "The official religion of Pala Empire is Buddhism.\n",
      "The official religion of Cat Stevens is Islam.\n",
      "The official religion of Tom Cruise is Scientology.\n",
      "The official religion of {} is\n",
      "tensor(30.1094, device='cuda:0', dtype=torch.float16) tensor(303.2500, device='cuda:0', dtype=torch.float16)\n",
      "\n",
      "subject:  Tom Cruise\n",
      "The official religion of Tefillin is Judaism.\n",
      "The official religion of Cat Stevens is Islam.\n",
      "The official religion of Pala Empire is Buddhism.\n",
      "The official religion of {} is\n",
      "tensor(26.4375, device='cuda:0', dtype=torch.float16) tensor(311.5000, device='cuda:0', dtype=torch.float16)\n",
      "\n",
      "subject:  Cat Stevens\n",
      "The official religion of Tom Cruise is Scientology.\n",
      "The official religion of Tefillin is Judaism.\n",
      "The official religion of Pala Empire is Buddhism.\n",
      "The official religion of {} is\n",
      "tensor(29.4219, device='cuda:0', dtype=torch.float16) tensor(293.5000, device='cuda:0', dtype=torch.float16)\n",
      "\n"
     ]
    },
    {
     "data": {
      "application/vnd.jupyter.widget-view+json": {
       "model_id": "e290f6f9759a4c36b44a5266d2ca8911",
       "version_major": 2,
       "version_minor": 0
      },
      "text/plain": [
       "  0%|          | 0/4 [00:00<?, ?it/s]"
      ]
     },
     "metadata": {},
     "output_type": "display_data"
    },
    {
     "name": "stdout",
     "output_type": "stream",
     "text": [
      "subject:  Cat Stevens\n",
      "The official religion of Pala Empire is Buddhism.\n",
      "The official religion of Tefillin is Judaism.\n",
      "The official religion of Tom Cruise is Scientology.\n",
      "The official religion of {} is\n",
      "tensor(30.6094, device='cuda:0', dtype=torch.float16) tensor(277.2500, device='cuda:0', dtype=torch.float16)\n",
      "\n",
      "subject:  Tom Cruise\n",
      "The official religion of Pala Empire is Buddhism.\n",
      "The official religion of Tefillin is Judaism.\n",
      "The official religion of Cat Stevens is Islam.\n",
      "The official religion of {} is\n",
      "tensor(22.9375, device='cuda:0', dtype=torch.float16) tensor(328.5000, device='cuda:0', dtype=torch.float16)\n",
      "\n",
      "subject:  Tefillin\n",
      "The official religion of Pala Empire is Buddhism.\n",
      "The official religion of Cat Stevens is Islam.\n",
      "The official religion of Tom Cruise is Scientology.\n",
      "The official religion of {} is\n",
      "tensor(30.1094, device='cuda:0', dtype=torch.float16) tensor(303.2500, device='cuda:0', dtype=torch.float16)\n",
      "\n",
      "subject:  Pala Empire\n",
      "The official religion of Tefillin is Judaism.\n",
      "The official religion of Tom Cruise is Scientology.\n",
      "The official religion of Cat Stevens is Islam.\n",
      "The official religion of {} is\n",
      "tensor(16.3125, device='cuda:0', dtype=torch.float16) tensor(348.2500, device='cuda:0', dtype=torch.float16)\n",
      "\n"
     ]
    },
    {
     "data": {
      "application/vnd.jupyter.widget-view+json": {
       "model_id": "c5858a6412d94ff488b52064970ef3d1",
       "version_major": 2,
       "version_minor": 0
      },
      "text/plain": [
       "  0%|          | 0/4 [00:00<?, ?it/s]"
      ]
     },
     "metadata": {},
     "output_type": "display_data"
    },
    {
     "name": "stdout",
     "output_type": "stream",
     "text": [
      "subject:  Tefillin\n",
      "The official religion of Cat Stevens is Islam.\n",
      "The official religion of Pala Empire is Buddhism.\n",
      "The official religion of Tom Cruise is Scientology.\n",
      "The official religion of {} is\n",
      "tensor(28.0156, device='cuda:0', dtype=torch.float16) tensor(306.2500, device='cuda:0', dtype=torch.float16)\n",
      "\n",
      "subject:  Tom Cruise\n",
      "The official religion of Cat Stevens is Islam.\n",
      "The official religion of Pala Empire is Buddhism.\n",
      "The official religion of Tefillin is Judaism.\n",
      "The official religion of {} is\n",
      "tensor(26.3594, device='cuda:0', dtype=torch.float16) tensor(326.7500, device='cuda:0', dtype=torch.float16)\n",
      "\n",
      "subject:  Pala Empire\n",
      "The official religion of Tom Cruise is Scientology.\n",
      "The official religion of Cat Stevens is Islam.\n",
      "The official religion of Tefillin is Judaism.\n",
      "The official religion of {} is\n",
      "tensor(15.5625, device='cuda:0', dtype=torch.float16) tensor(333.2500, device='cuda:0', dtype=torch.float16)\n",
      "\n",
      "subject:  Cat Stevens\n",
      "The official religion of Tefillin is Judaism.\n",
      "The official religion of Tom Cruise is Scientology.\n",
      "The official religion of Pala Empire is Buddhism.\n",
      "The official religion of {} is\n",
      "tensor(33.0938, device='cuda:0', dtype=torch.float16) tensor(267.5000, device='cuda:0', dtype=torch.float16)\n",
      "\n"
     ]
    },
    {
     "data": {
      "application/vnd.jupyter.widget-view+json": {
       "model_id": "1d448a1e9e1448f5a72631433f29225d",
       "version_major": 2,
       "version_minor": 0
      },
      "text/plain": [
       "  0%|          | 0/4 [00:00<?, ?it/s]"
      ]
     },
     "metadata": {},
     "output_type": "display_data"
    },
    {
     "name": "stdout",
     "output_type": "stream",
     "text": [
      "subject:  Tefillin\n",
      "The official religion of Pala Empire is Buddhism.\n",
      "The official religion of Cat Stevens is Islam.\n",
      "The official religion of Tom Cruise is Scientology.\n",
      "The official religion of {} is\n",
      "tensor(30.1094, device='cuda:0', dtype=torch.float16) tensor(303.2500, device='cuda:0', dtype=torch.float16)\n",
      "\n",
      "subject:  Cat Stevens\n",
      "The official religion of Tefillin is Judaism.\n",
      "The official religion of Tom Cruise is Scientology.\n",
      "The official religion of Pala Empire is Buddhism.\n",
      "The official religion of {} is\n",
      "tensor(33.0938, device='cuda:0', dtype=torch.float16) tensor(267.5000, device='cuda:0', dtype=torch.float16)\n",
      "\n",
      "subject:  Tom Cruise\n",
      "The official religion of Cat Stevens is Islam.\n",
      "The official religion of Tefillin is Judaism.\n",
      "The official religion of Pala Empire is Buddhism.\n",
      "The official religion of {} is\n",
      "tensor(26.8281, device='cuda:0', dtype=torch.float16) tensor(322.7500, device='cuda:0', dtype=torch.float16)\n",
      "\n",
      "subject:  Pala Empire\n",
      "The official religion of Tom Cruise is Scientology.\n",
      "The official religion of Tefillin is Judaism.\n",
      "The official religion of Cat Stevens is Islam.\n",
      "The official religion of {} is\n",
      "tensor(16.3750, device='cuda:0', dtype=torch.float16) tensor(336.2500, device='cuda:0', dtype=torch.float16)\n",
      "\n"
     ]
    },
    {
     "data": {
      "application/vnd.jupyter.widget-view+json": {
       "model_id": "ea4c0765f8a7424595bb832e2f573f72",
       "version_major": 2,
       "version_minor": 0
      },
      "text/plain": [
       "  0%|          | 0/4 [00:00<?, ?it/s]"
      ]
     },
     "metadata": {},
     "output_type": "display_data"
    },
    {
     "name": "stdout",
     "output_type": "stream",
     "text": [
      "subject:  Pala Empire\n",
      "The official religion of Tom Cruise is Scientology.\n",
      "The official religion of Cat Stevens is Islam.\n",
      "The official religion of Tefillin is Judaism.\n",
      "The official religion of {} is\n",
      "tensor(15.5625, device='cuda:0', dtype=torch.float16) tensor(333.2500, device='cuda:0', dtype=torch.float16)\n",
      "\n",
      "subject:  Tefillin\n",
      "The official religion of Pala Empire is Buddhism.\n",
      "The official religion of Tom Cruise is Scientology.\n",
      "The official religion of Cat Stevens is Islam.\n",
      "The official religion of {} is\n",
      "tensor(31.3281, device='cuda:0', dtype=torch.float16) tensor(284.5000, device='cuda:0', dtype=torch.float16)\n",
      "\n",
      "subject:  Cat Stevens\n",
      "The official religion of Tefillin is Judaism.\n",
      "The official religion of Pala Empire is Buddhism.\n",
      "The official religion of Tom Cruise is Scientology.\n",
      "The official religion of {} is\n",
      "tensor(32.2812, device='cuda:0', dtype=torch.float16) tensor(263.5000, device='cuda:0', dtype=torch.float16)\n",
      "\n",
      "subject:  Tom Cruise\n",
      "The official religion of Cat Stevens is Islam.\n",
      "The official religion of Tefillin is Judaism.\n",
      "The official religion of Pala Empire is Buddhism.\n",
      "The official religion of {} is\n",
      "tensor(26.8281, device='cuda:0', dtype=torch.float16) tensor(322.7500, device='cuda:0', dtype=torch.float16)\n",
      "\n"
     ]
    },
    {
     "data": {
      "application/vnd.jupyter.widget-view+json": {
       "model_id": "ee6ac6b3957b454e9014f37d95454085",
       "version_major": 2,
       "version_minor": 0
      },
      "text/plain": [
       "  0%|          | 0/4 [00:00<?, ?it/s]"
      ]
     },
     "metadata": {},
     "output_type": "display_data"
    },
    {
     "name": "stdout",
     "output_type": "stream",
     "text": [
      "subject:  Pala Empire\n",
      "The official religion of Tom Cruise is Scientology.\n",
      "The official religion of Tefillin is Judaism.\n",
      "The official religion of Cat Stevens is Islam.\n",
      "The official religion of {} is\n",
      "tensor(16.3750, device='cuda:0', dtype=torch.float16) tensor(336.2500, device='cuda:0', dtype=torch.float16)\n",
      "\n",
      "subject:  Tom Cruise\n",
      "The official religion of Tefillin is Judaism.\n",
      "The official religion of Pala Empire is Buddhism.\n",
      "The official religion of Cat Stevens is Islam.\n",
      "The official religion of {} is\n",
      "tensor(25.0156, device='cuda:0', dtype=torch.float16) tensor(313.7500, device='cuda:0', dtype=torch.float16)\n",
      "\n",
      "subject:  Cat Stevens\n",
      "The official religion of Tom Cruise is Scientology.\n",
      "The official religion of Pala Empire is Buddhism.\n",
      "The official religion of Tefillin is Judaism.\n",
      "The official religion of {} is\n",
      "tensor(27.2500, device='cuda:0', dtype=torch.float16) tensor(301.2500, device='cuda:0', dtype=torch.float16)\n",
      "\n",
      "subject:  Tefillin\n",
      "The official religion of Pala Empire is Buddhism.\n",
      "The official religion of Cat Stevens is Islam.\n",
      "The official religion of Tom Cruise is Scientology.\n",
      "The official religion of {} is\n",
      "tensor(30.1094, device='cuda:0', dtype=torch.float16) tensor(303.2500, device='cuda:0', dtype=torch.float16)\n",
      "\n"
     ]
    },
    {
     "data": {
      "application/vnd.jupyter.widget-view+json": {
       "model_id": "d84a2ec0d875400781bd9905dc54eb90",
       "version_major": 2,
       "version_minor": 0
      },
      "text/plain": [
       "  0%|          | 0/4 [00:00<?, ?it/s]"
      ]
     },
     "metadata": {},
     "output_type": "display_data"
    },
    {
     "name": "stdout",
     "output_type": "stream",
     "text": [
      "subject:  Cat Stevens\n",
      "The official religion of Tefillin is Judaism.\n",
      "The official religion of Pala Empire is Buddhism.\n",
      "The official religion of Tom Cruise is Scientology.\n",
      "The official religion of {} is\n",
      "tensor(32.2812, device='cuda:0', dtype=torch.float16) tensor(263.5000, device='cuda:0', dtype=torch.float16)\n",
      "\n",
      "subject:  Tom Cruise\n",
      "The official religion of Tefillin is Judaism.\n",
      "The official religion of Cat Stevens is Islam.\n",
      "The official religion of Pala Empire is Buddhism.\n",
      "The official religion of {} is\n",
      "tensor(26.4375, device='cuda:0', dtype=torch.float16) tensor(311.5000, device='cuda:0', dtype=torch.float16)\n",
      "\n",
      "subject:  Tefillin\n",
      "The official religion of Pala Empire is Buddhism.\n",
      "The official religion of Tom Cruise is Scientology.\n",
      "The official religion of Cat Stevens is Islam.\n",
      "The official religion of {} is\n",
      "tensor(31.3281, device='cuda:0', dtype=torch.float16) tensor(284.5000, device='cuda:0', dtype=torch.float16)\n",
      "\n",
      "subject:  Pala Empire\n",
      "The official religion of Tefillin is Judaism.\n",
      "The official religion of Cat Stevens is Islam.\n",
      "The official religion of Tom Cruise is Scientology.\n",
      "The official religion of {} is\n",
      "tensor(15.6562, device='cuda:0', dtype=torch.float16) tensor(357.2500, device='cuda:0', dtype=torch.float16)\n",
      "\n",
      "Saving weights and biases >>  gpt-j/jacobians_averaged_collection/P140.npz\n",
      "----------------------------------------------------\n",
      "zzzzzzzzzzzzzzzzzzzzzzzzzzzzzzzzzzzzzzzzzzzzzzzzzzzz\n",
      "P178 {} was developed by\n",
      "zzzzzzzzzzzzzzzzzzzzzzzzzzzzzzzzzzzzzzzzzzzzzzzzzzzz\n",
      "400\n",
      "{} was developed by\n"
     ]
    },
    {
     "data": {
      "application/vnd.jupyter.widget-view+json": {
       "model_id": "99197ae5841a41fbb77205a1d32726b9",
       "version_major": 2,
       "version_minor": 0
      },
      "text/plain": [
       "  0%|          | 0/10 [00:00<?, ?it/s]"
      ]
     },
     "metadata": {},
     "output_type": "display_data"
    },
    {
     "data": {
      "application/vnd.jupyter.widget-view+json": {
       "model_id": "6d7ea22f467941df94abc15aff389ce6",
       "version_major": 2,
       "version_minor": 0
      },
      "text/plain": [
       "  0%|          | 0/5 [00:00<?, ?it/s]"
      ]
     },
     "metadata": {},
     "output_type": "display_data"
    },
    {
     "name": "stdout",
     "output_type": "stream",
     "text": [
      "subject:  SPDY\n",
      "Itanium was developed by Intel.\n",
      "MobileMe was developed by Apple.\n",
      "Samsung Kies was developed by Samsung.\n",
      "{} was developed by\n",
      "tensor(14.5547, device='cuda:0', dtype=torch.float16) tensor(184.2500, device='cuda:0', dtype=torch.float16)\n",
      "\n",
      "subject:  Samsung Kies\n",
      "SPDY was developed by Google.\n",
      "YUI Library was developed by Yahoo.\n",
      "Itanium was developed by Intel.\n",
      "{} was developed by\n",
      "tensor(3.6445, device='cuda:0', dtype=torch.float16) tensor(316.7500, device='cuda:0', dtype=torch.float16)\n",
      "\n",
      "subject:  MobileMe\n",
      "SPDY was developed by Google.\n",
      "YUI Library was developed by Yahoo.\n",
      "Itanium was developed by Intel.\n",
      "{} was developed by\n",
      "tensor(14.0078, device='cuda:0', dtype=torch.float16) tensor(212.5000, device='cuda:0', dtype=torch.float16)\n",
      "\n",
      "subject:  YUI Library\n",
      "MobileMe was developed by Apple.\n",
      "Itanium was developed by Intel.\n",
      "Samsung Kies was developed by Samsung.\n",
      "{} was developed by\n",
      "tensor(6.8281, device='cuda:0', dtype=torch.float16) tensor(206.5000, device='cuda:0', dtype=torch.float16)\n",
      "\n",
      "subject:  Itanium\n",
      "MobileMe was developed by Apple.\n",
      "SPDY was developed by Google.\n",
      "Samsung Kies was developed by Samsung.\n",
      "{} was developed by\n",
      "tensor(2.7246, device='cuda:0', dtype=torch.float16) tensor(208.8750, device='cuda:0', dtype=torch.float16)\n",
      "\n"
     ]
    },
    {
     "data": {
      "application/vnd.jupyter.widget-view+json": {
       "model_id": "d32cd24297044f178d3d0d5dd720e92f",
       "version_major": 2,
       "version_minor": 0
      },
      "text/plain": [
       "  0%|          | 0/5 [00:00<?, ?it/s]"
      ]
     },
     "metadata": {},
     "output_type": "display_data"
    },
    {
     "name": "stdout",
     "output_type": "stream",
     "text": [
      "subject:  Amiibo\n",
      "MiniDisc was developed by Sony.\n",
      "Samsung Kies was developed by Samsung.\n",
      "MobileMe was developed by Apple.\n",
      "{} was developed by\n",
      "tensor(9.4922, device='cuda:0', dtype=torch.float16) tensor(202.7500, device='cuda:0', dtype=torch.float16)\n",
      "\n",
      "subject:  MobileMe\n",
      "Samsung Kies was developed by Samsung.\n",
      "YUI Library was developed by Yahoo.\n",
      "MiniDisc was developed by Sony.\n",
      "{} was developed by\n",
      "tensor(14.0312, device='cuda:0', dtype=torch.float16) tensor(217., device='cuda:0', dtype=torch.float16)\n",
      "\n",
      "subject:  Samsung Kies\n",
      "YUI Library was developed by Yahoo.\n",
      "MiniDisc was developed by Sony.\n",
      "MobileMe was developed by Apple.\n",
      "{} was developed by\n",
      "tensor(2.9160, device='cuda:0', dtype=torch.float16) tensor(318.2500, device='cuda:0', dtype=torch.float16)\n",
      "\n",
      "subject:  YUI Library\n",
      "Amiibo was developed by Nintendo.\n",
      "Samsung Kies was developed by Samsung.\n",
      "MiniDisc was developed by Sony.\n",
      "{} was developed by\n",
      "tensor(4.3594, device='cuda:0', dtype=torch.float16) tensor(242.6250, device='cuda:0', dtype=torch.float16)\n",
      "\n",
      "subject:  MiniDisc\n",
      "Amiibo was developed by Nintendo.\n",
      "MobileMe was developed by Apple.\n",
      "Samsung Kies was developed by Samsung.\n",
      "{} was developed by\n",
      "tensor(15.6953, device='cuda:0', dtype=torch.float16) tensor(182.1250, device='cuda:0', dtype=torch.float16)\n",
      "\n"
     ]
    },
    {
     "data": {
      "application/vnd.jupyter.widget-view+json": {
       "model_id": "ef3ec59d844646a7975e69da9ecad7dd",
       "version_major": 2,
       "version_minor": 0
      },
      "text/plain": [
       "  0%|          | 0/5 [00:00<?, ?it/s]"
      ]
     },
     "metadata": {},
     "output_type": "display_data"
    },
    {
     "name": "stdout",
     "output_type": "stream",
     "text": [
      "subject:  MiniDisc\n",
      "Rich Text Format was developed by Microsoft.\n",
      "Amiibo was developed by Nintendo.\n",
      "YUI Library was developed by Yahoo.\n",
      "{} was developed by\n",
      "tensor(14.2188, device='cuda:0', dtype=torch.float16) tensor(198.8750, device='cuda:0', dtype=torch.float16)\n",
      "\n",
      "subject:  Amiibo\n",
      "MiniDisc was developed by Sony.\n",
      "Itanium was developed by Intel.\n",
      "YUI Library was developed by Yahoo.\n",
      "{} was developed by\n",
      "tensor(11.8516, device='cuda:0', dtype=torch.float16) tensor(196.5000, device='cuda:0', dtype=torch.float16)\n",
      "\n",
      "subject:  Itanium\n",
      "YUI Library was developed by Yahoo.\n",
      "Amiibo was developed by Nintendo.\n",
      "MiniDisc was developed by Sony.\n",
      "{} was developed by\n",
      "tensor(5.4922, device='cuda:0', dtype=torch.float16) tensor(196.2500, device='cuda:0', dtype=torch.float16)\n",
      "\n",
      "subject:  Rich Text Format\n",
      "MiniDisc was developed by Sony.\n",
      "Amiibo was developed by Nintendo.\n",
      "Itanium was developed by Intel.\n",
      "{} was developed by\n",
      "tensor(8.3438, device='cuda:0', dtype=torch.float16) tensor(180., device='cuda:0', dtype=torch.float16)\n",
      "\n",
      "subject:  YUI Library\n",
      "Itanium was developed by Intel.\n",
      "Rich Text Format was developed by Microsoft.\n",
      "Amiibo was developed by Nintendo.\n",
      "{} was developed by\n",
      "tensor(5.3516, device='cuda:0', dtype=torch.float16) tensor(197.1250, device='cuda:0', dtype=torch.float16)\n",
      "\n"
     ]
    },
    {
     "data": {
      "application/vnd.jupyter.widget-view+json": {
       "model_id": "a8afe7ff4c984e5c85fb1d33f7d48040",
       "version_major": 2,
       "version_minor": 0
      },
      "text/plain": [
       "  0%|          | 0/5 [00:00<?, ?it/s]"
      ]
     },
     "metadata": {},
     "output_type": "display_data"
    },
    {
     "name": "stdout",
     "output_type": "stream",
     "text": [
      "subject:  MobileMe\n",
      "Itanium was developed by Intel.\n",
      "ThinkPad was developed by IBM.\n",
      "SPDY was developed by Google.\n",
      "{} was developed by\n",
      "tensor(12.9375, device='cuda:0', dtype=torch.float16) tensor(210.3750, device='cuda:0', dtype=torch.float16)\n",
      "\n",
      "subject:  ThinkPad\n",
      "Amiibo was developed by Nintendo.\n",
      "Itanium was developed by Intel.\n",
      "SPDY was developed by Google.\n",
      "{} was developed by\n",
      "tensor(20.2500, device='cuda:0', dtype=torch.float16) tensor(228.2500, device='cuda:0', dtype=torch.float16)\n",
      "\n",
      "subject:  Itanium\n",
      "SPDY was developed by Google.\n",
      "MobileMe was developed by Apple.\n",
      "Amiibo was developed by Nintendo.\n",
      "{} was developed by\n",
      "tensor(3.7109, device='cuda:0', dtype=torch.float16) tensor(197., device='cuda:0', dtype=torch.float16)\n",
      "\n",
      "subject:  Amiibo\n",
      "ThinkPad was developed by IBM.\n",
      "Itanium was developed by Intel.\n",
      "SPDY was developed by Google.\n",
      "{} was developed by\n",
      "tensor(14.7734, device='cuda:0', dtype=torch.float16) tensor(207.2500, device='cuda:0', dtype=torch.float16)\n",
      "\n",
      "subject:  SPDY\n",
      "ThinkPad was developed by IBM.\n",
      "MobileMe was developed by Apple.\n",
      "Itanium was developed by Intel.\n",
      "{} was developed by\n",
      "tensor(15.2188, device='cuda:0', dtype=torch.float16) tensor(186.8750, device='cuda:0', dtype=torch.float16)\n",
      "\n"
     ]
    },
    {
     "data": {
      "application/vnd.jupyter.widget-view+json": {
       "model_id": "e527d96a196b4820ab3cfdacbb179dbd",
       "version_major": 2,
       "version_minor": 0
      },
      "text/plain": [
       "  0%|          | 0/5 [00:00<?, ?it/s]"
      ]
     },
     "metadata": {},
     "output_type": "display_data"
    },
    {
     "name": "stdout",
     "output_type": "stream",
     "text": [
      "subject:  ThinkPad\n",
      "MobileMe was developed by Apple.\n",
      "Samsung Kies was developed by Samsung.\n",
      "Adobe Connect was developed by Adobe.\n",
      "{} was developed by\n",
      "tensor(18.0625, device='cuda:0', dtype=torch.float16) tensor(258.7500, device='cuda:0', dtype=torch.float16)\n",
      "\n",
      "subject:  Adobe Connect\n",
      "MobileMe was developed by Apple.\n",
      "Samsung Kies was developed by Samsung.\n",
      "ThinkPad was developed by IBM.\n",
      "{} was developed by\n",
      "tensor(4.1367, device='cuda:0', dtype=torch.float16) tensor(278.5000, device='cuda:0', dtype=torch.float16)\n",
      "\n",
      "subject:  Rich Text Format\n",
      "ThinkPad was developed by IBM.\n",
      "Samsung Kies was developed by Samsung.\n",
      "Adobe Connect was developed by Adobe.\n",
      "{} was developed by\n",
      "tensor(8.7656, device='cuda:0', dtype=torch.float16) tensor(213.8750, device='cuda:0', dtype=torch.float16)\n",
      "\n",
      "subject:  MobileMe\n",
      "Samsung Kies was developed by Samsung.\n",
      "ThinkPad was developed by IBM.\n",
      "Rich Text Format was developed by Microsoft.\n",
      "{} was developed by\n",
      "tensor(13.2422, device='cuda:0', dtype=torch.float16) tensor(211.1250, device='cuda:0', dtype=torch.float16)\n",
      "\n",
      "subject:  Samsung Kies\n",
      "Rich Text Format was developed by Microsoft.\n",
      "ThinkPad was developed by IBM.\n",
      "Adobe Connect was developed by Adobe.\n",
      "{} was developed by\n",
      "tensor(2.7598, device='cuda:0', dtype=torch.float16) tensor(297.2500, device='cuda:0', dtype=torch.float16)\n",
      "\n"
     ]
    },
    {
     "data": {
      "application/vnd.jupyter.widget-view+json": {
       "model_id": "fcc5c9a80ed94cde9c908e99505fd8ef",
       "version_major": 2,
       "version_minor": 0
      },
      "text/plain": [
       "  0%|          | 0/5 [00:00<?, ?it/s]"
      ]
     },
     "metadata": {},
     "output_type": "display_data"
    },
    {
     "name": "stdout",
     "output_type": "stream",
     "text": [
      "subject:  Adobe Connect\n",
      "ThinkPad was developed by IBM.\n",
      "MobileMe was developed by Apple.\n",
      "Rich Text Format was developed by Microsoft.\n",
      "{} was developed by\n",
      "tensor(3.8418, device='cuda:0', dtype=torch.float16) tensor(275.2500, device='cuda:0', dtype=torch.float16)\n",
      "\n",
      "subject:  ThinkPad\n",
      "Rich Text Format was developed by Microsoft.\n",
      "MobileMe was developed by Apple.\n",
      "YUI Library was developed by Yahoo.\n",
      "{} was developed by\n",
      "tensor(19.0156, device='cuda:0', dtype=torch.float16) tensor(257.7500, device='cuda:0', dtype=torch.float16)\n",
      "\n",
      "subject:  MobileMe\n",
      "ThinkPad was developed by IBM.\n",
      "YUI Library was developed by Yahoo.\n",
      "Adobe Connect was developed by Adobe.\n",
      "{} was developed by\n",
      "tensor(12.2422, device='cuda:0', dtype=torch.float16) tensor(220.7500, device='cuda:0', dtype=torch.float16)\n",
      "\n",
      "subject:  Rich Text Format\n",
      "MobileMe was developed by Apple.\n",
      "YUI Library was developed by Yahoo.\n",
      "Adobe Connect was developed by Adobe.\n",
      "{} was developed by\n",
      "tensor(9.2500, device='cuda:0', dtype=torch.float16) tensor(219.3750, device='cuda:0', dtype=torch.float16)\n",
      "\n",
      "subject:  YUI Library\n",
      "Rich Text Format was developed by Microsoft.\n",
      "MobileMe was developed by Apple.\n",
      "Adobe Connect was developed by Adobe.\n",
      "{} was developed by\n",
      "tensor(7.6328, device='cuda:0', dtype=torch.float16) tensor(207.7500, device='cuda:0', dtype=torch.float16)\n",
      "\n"
     ]
    },
    {
     "data": {
      "application/vnd.jupyter.widget-view+json": {
       "model_id": "4412db62ba5347f5934e03bbd88495f5",
       "version_major": 2,
       "version_minor": 0
      },
      "text/plain": [
       "  0%|          | 0/5 [00:00<?, ?it/s]"
      ]
     },
     "metadata": {},
     "output_type": "display_data"
    },
    {
     "name": "stdout",
     "output_type": "stream",
     "text": [
      "subject:  Rich Text Format\n",
      "YUI Library was developed by Yahoo.\n",
      "MiniDisc was developed by Sony.\n",
      "Samsung Kies was developed by Samsung.\n",
      "{} was developed by\n",
      "tensor(11.1484, device='cuda:0', dtype=torch.float16) tensor(198.6250, device='cuda:0', dtype=torch.float16)\n",
      "\n",
      "subject:  Samsung Kies\n",
      "YUI Library was developed by Yahoo.\n",
      "Rich Text Format was developed by Microsoft.\n",
      "MiniDisc was developed by Sony.\n",
      "{} was developed by\n",
      "tensor(2.7773, device='cuda:0', dtype=torch.float16) tensor(329.2500, device='cuda:0', dtype=torch.float16)\n",
      "\n",
      "subject:  YUI Library\n",
      "ThinkPad was developed by IBM.\n",
      "Rich Text Format was developed by Microsoft.\n",
      "Samsung Kies was developed by Samsung.\n",
      "{} was developed by\n",
      "tensor(6.8828, device='cuda:0', dtype=torch.float16) tensor(209.5000, device='cuda:0', dtype=torch.float16)\n",
      "\n",
      "subject:  MiniDisc\n",
      "YUI Library was developed by Yahoo.\n",
      "Rich Text Format was developed by Microsoft.\n",
      "Samsung Kies was developed by Samsung.\n",
      "{} was developed by\n",
      "tensor(15.7812, device='cuda:0', dtype=torch.float16) tensor(200.8750, device='cuda:0', dtype=torch.float16)\n",
      "\n",
      "subject:  ThinkPad\n",
      "MiniDisc was developed by Sony.\n",
      "Samsung Kies was developed by Samsung.\n",
      "YUI Library was developed by Yahoo.\n",
      "{} was developed by\n",
      "tensor(19.2812, device='cuda:0', dtype=torch.float16) tensor(270.2500, device='cuda:0', dtype=torch.float16)\n",
      "\n"
     ]
    },
    {
     "data": {
      "application/vnd.jupyter.widget-view+json": {
       "model_id": "a649de4cf3824eae8f3f59ab87f38925",
       "version_major": 2,
       "version_minor": 0
      },
      "text/plain": [
       "  0%|          | 0/5 [00:00<?, ?it/s]"
      ]
     },
     "metadata": {},
     "output_type": "display_data"
    },
    {
     "name": "stdout",
     "output_type": "stream",
     "text": [
      "subject:  MobileMe\n",
      "SPDY was developed by Google.\n",
      "Amiibo was developed by Nintendo.\n",
      "YUI Library was developed by Yahoo.\n",
      "{} was developed by\n",
      "tensor(12.5078, device='cuda:0', dtype=torch.float16) tensor(200.8750, device='cuda:0', dtype=torch.float16)\n",
      "\n",
      "subject:  SPDY\n",
      "MobileMe was developed by Apple.\n",
      "Rich Text Format was developed by Microsoft.\n",
      "Amiibo was developed by Nintendo.\n",
      "{} was developed by\n",
      "tensor(12.8906, device='cuda:0', dtype=torch.float16) tensor(178.5000, device='cuda:0', dtype=torch.float16)\n",
      "\n",
      "subject:  Rich Text Format\n",
      "SPDY was developed by Google.\n",
      "Amiibo was developed by Nintendo.\n",
      "YUI Library was developed by Yahoo.\n",
      "{} was developed by\n",
      "tensor(9.1172, device='cuda:0', dtype=torch.float16) tensor(207.1250, device='cuda:0', dtype=torch.float16)\n",
      "\n",
      "subject:  Amiibo\n",
      "YUI Library was developed by Yahoo.\n",
      "Rich Text Format was developed by Microsoft.\n",
      "SPDY was developed by Google.\n",
      "{} was developed by\n",
      "tensor(11.0234, device='cuda:0', dtype=torch.float16) tensor(226.1250, device='cuda:0', dtype=torch.float16)\n",
      "\n",
      "subject:  YUI Library\n",
      "MobileMe was developed by Apple.\n",
      "Rich Text Format was developed by Microsoft.\n",
      "SPDY was developed by Google.\n",
      "{} was developed by\n",
      "tensor(6.9609, device='cuda:0', dtype=torch.float16) tensor(205.5000, device='cuda:0', dtype=torch.float16)\n",
      "\n"
     ]
    },
    {
     "data": {
      "application/vnd.jupyter.widget-view+json": {
       "model_id": "3ab1f6b96f144def86815a784d32c565",
       "version_major": 2,
       "version_minor": 0
      },
      "text/plain": [
       "  0%|          | 0/5 [00:00<?, ?it/s]"
      ]
     },
     "metadata": {},
     "output_type": "display_data"
    },
    {
     "name": "stdout",
     "output_type": "stream",
     "text": [
      "subject:  MobileMe\n",
      "Amiibo was developed by Nintendo.\n",
      "SPDY was developed by Google.\n",
      "YUI Library was developed by Yahoo.\n",
      "{} was developed by\n",
      "tensor(13.1797, device='cuda:0', dtype=torch.float16) tensor(198.7500, device='cuda:0', dtype=torch.float16)\n",
      "\n",
      "subject:  SPDY\n",
      "Samsung Kies was developed by Samsung.\n",
      "MobileMe was developed by Apple.\n",
      "Amiibo was developed by Nintendo.\n",
      "{} was developed by\n",
      "tensor(11.3984, device='cuda:0', dtype=torch.float16) tensor(190.7500, device='cuda:0', dtype=torch.float16)\n",
      "\n",
      "subject:  YUI Library\n",
      "SPDY was developed by Google.\n",
      "MobileMe was developed by Apple.\n",
      "Amiibo was developed by Nintendo.\n",
      "{} was developed by\n",
      "tensor(4.5938, device='cuda:0', dtype=torch.float16) tensor(210., device='cuda:0', dtype=torch.float16)\n",
      "\n",
      "subject:  Samsung Kies\n",
      "MobileMe was developed by Apple.\n",
      "YUI Library was developed by Yahoo.\n",
      "Amiibo was developed by Nintendo.\n",
      "{} was developed by\n",
      "tensor(2.3984, device='cuda:0', dtype=torch.float16) tensor(321.2500, device='cuda:0', dtype=torch.float16)\n",
      "\n",
      "subject:  Amiibo\n",
      "MobileMe was developed by Apple.\n",
      "YUI Library was developed by Yahoo.\n",
      "SPDY was developed by Google.\n",
      "{} was developed by\n",
      "tensor(9.9688, device='cuda:0', dtype=torch.float16) tensor(225.6250, device='cuda:0', dtype=torch.float16)\n",
      "\n"
     ]
    },
    {
     "data": {
      "application/vnd.jupyter.widget-view+json": {
       "model_id": "87ed536f18f040c08307a35ad08f89ae",
       "version_major": 2,
       "version_minor": 0
      },
      "text/plain": [
       "  0%|          | 0/5 [00:00<?, ?it/s]"
      ]
     },
     "metadata": {},
     "output_type": "display_data"
    },
    {
     "name": "stdout",
     "output_type": "stream",
     "text": [
      "subject:  Rich Text Format\n",
      "SPDY was developed by Google.\n",
      "Itanium was developed by Intel.\n",
      "Amiibo was developed by Nintendo.\n",
      "{} was developed by\n",
      "tensor(8.6562, device='cuda:0', dtype=torch.float16) tensor(183.5000, device='cuda:0', dtype=torch.float16)\n",
      "\n",
      "subject:  Amiibo\n",
      "Adobe Connect was developed by Adobe.\n",
      "Itanium was developed by Intel.\n",
      "SPDY was developed by Google.\n",
      "{} was developed by\n",
      "tensor(14.9375, device='cuda:0', dtype=torch.float16) tensor(197.1250, device='cuda:0', dtype=torch.float16)\n",
      "\n",
      "subject:  Itanium\n",
      "Rich Text Format was developed by Microsoft.\n",
      "SPDY was developed by Google.\n",
      "Amiibo was developed by Nintendo.\n",
      "{} was developed by\n",
      "tensor(3.4238, device='cuda:0', dtype=torch.float16) tensor(199.2500, device='cuda:0', dtype=torch.float16)\n",
      "\n",
      "subject:  SPDY\n",
      "Itanium was developed by Intel.\n",
      "Rich Text Format was developed by Microsoft.\n",
      "Adobe Connect was developed by Adobe.\n",
      "{} was developed by\n",
      "tensor(16.5781, device='cuda:0', dtype=torch.float16) tensor(174., device='cuda:0', dtype=torch.float16)\n",
      "\n",
      "subject:  Adobe Connect\n",
      "Rich Text Format was developed by Microsoft.\n",
      "SPDY was developed by Google.\n",
      "Itanium was developed by Intel.\n",
      "{} was developed by\n",
      "tensor(3.2344, device='cuda:0', dtype=torch.float16) tensor(253.7500, device='cuda:0', dtype=torch.float16)\n",
      "\n",
      "Saving weights and biases >>  gpt-j/jacobians_averaged_collection/P178.npz\n",
      "----------------------------------------------------\n",
      "zzzzzzzzzzzzzzzzzzzzzzzzzzzzzzzzzzzzzzzzzzzzzzzzzzzz\n",
      "P495 {}, that originated in the country of\n",
      "zzzzzzzzzzzzzzzzzzzzzzzzzzzzzzzzzzzzzzzzzzzzzzzzzzzz\n",
      "160\n",
      "{}, that originated in the country of\n"
     ]
    },
    {
     "data": {
      "application/vnd.jupyter.widget-view+json": {
       "model_id": "4821d2f79c2b4c42936760ebb0a6315d",
       "version_major": 2,
       "version_minor": 0
      },
      "text/plain": [
       "  0%|          | 0/10 [00:00<?, ?it/s]"
      ]
     },
     "metadata": {},
     "output_type": "display_data"
    },
    {
     "data": {
      "application/vnd.jupyter.widget-view+json": {
       "model_id": "cc9d3bf1743d44d08db393d10956256a",
       "version_major": 2,
       "version_minor": 0
      },
      "text/plain": [
       "  0%|          | 0/5 [00:00<?, ?it/s]"
      ]
     },
     "metadata": {},
     "output_type": "display_data"
    },
    {
     "name": "stdout",
     "output_type": "stream",
     "text": [
      "subject:  Boyzone\n",
      "Celebridade, that originated in the country of Brazil.\n",
      "Kitchen Princess, that originated in the country of Japan.\n",
      "Danish pastry, that originated in the country of Denmark.\n",
      "{}, that originated in the country of\n",
      "tensor(8.7734, device='cuda:0', dtype=torch.float16) tensor(257.7500, device='cuda:0', dtype=torch.float16)\n",
      "\n",
      "subject:  Celebridade\n",
      "Kitchen Princess, that originated in the country of Japan.\n",
      "Boyzone, that originated in the country of Ireland.\n",
      "Danish pastry, that originated in the country of Denmark.\n",
      "{}, that originated in the country of\n",
      "tensor(17.1719, device='cuda:0', dtype=torch.float16) tensor(292.2500, device='cuda:0', dtype=torch.float16)\n",
      "\n",
      "subject:  Danish pastry\n",
      "Boyzone, that originated in the country of Ireland.\n",
      "Kitchen Princess, that originated in the country of Japan.\n",
      "Orphan Black, that originated in the country of Canada.\n",
      "{}, that originated in the country of\n",
      "tensor(1.2461, device='cuda:0', dtype=torch.float16) tensor(311., device='cuda:0', dtype=torch.float16)\n",
      "\n",
      "subject:  Orphan Black\n",
      "Celebridade, that originated in the country of Brazil.\n",
      "Kitchen Princess, that originated in the country of Japan.\n",
      "Boyzone, that originated in the country of Ireland.\n",
      "{}, that originated in the country of\n",
      "tensor(14.3125, device='cuda:0', dtype=torch.float16) tensor(227.5000, device='cuda:0', dtype=torch.float16)\n",
      "\n",
      "subject:  Kitchen Princess\n",
      "Boyzone, that originated in the country of Ireland.\n",
      "Orphan Black, that originated in the country of Canada.\n",
      "Celebridade, that originated in the country of Brazil.\n",
      "{}, that originated in the country of\n",
      "tensor(8., device='cuda:0', dtype=torch.float16) tensor(324.7500, device='cuda:0', dtype=torch.float16)\n",
      "\n"
     ]
    },
    {
     "data": {
      "application/vnd.jupyter.widget-view+json": {
       "model_id": "bc49427641744164a45e749ea3baec59",
       "version_major": 2,
       "version_minor": 0
      },
      "text/plain": [
       "  0%|          | 0/5 [00:00<?, ?it/s]"
      ]
     },
     "metadata": {},
     "output_type": "display_data"
    },
    {
     "name": "stdout",
     "output_type": "stream",
     "text": [
      "subject:  The X Factor\n",
      "Danish pastry, that originated in the country of Denmark.\n",
      "Dobermann, that originated in the country of Germany.\n",
      "Kitchen Princess, that originated in the country of Japan.\n",
      "{}, that originated in the country of\n",
      "tensor(4.3047, device='cuda:0', dtype=torch.float16) tensor(282.2500, device='cuda:0', dtype=torch.float16)\n",
      "\n",
      "subject:  Orphan Black\n",
      "Danish pastry, that originated in the country of Denmark.\n",
      "The X Factor, that originated in the country of Australia.\n",
      "Kitchen Princess, that originated in the country of Japan.\n",
      "{}, that originated in the country of\n",
      "tensor(14.9688, device='cuda:0', dtype=torch.float16) tensor(235.3750, device='cuda:0', dtype=torch.float16)\n",
      "\n",
      "subject:  Kitchen Princess\n",
      "Danish pastry, that originated in the country of Denmark.\n",
      "The X Factor, that originated in the country of Australia.\n",
      "Orphan Black, that originated in the country of Canada.\n",
      "{}, that originated in the country of\n",
      "tensor(6.9961, device='cuda:0', dtype=torch.float16) tensor(332.2500, device='cuda:0', dtype=torch.float16)\n",
      "\n",
      "subject:  Dobermann\n",
      "Kitchen Princess, that originated in the country of Japan.\n",
      "Orphan Black, that originated in the country of Canada.\n",
      "The X Factor, that originated in the country of Australia.\n",
      "{}, that originated in the country of\n",
      "tensor(22.8594, device='cuda:0', dtype=torch.float16) tensor(293.5000, device='cuda:0', dtype=torch.float16)\n",
      "\n",
      "subject:  Danish pastry\n",
      "The X Factor, that originated in the country of Australia.\n",
      "Dobermann, that originated in the country of Germany.\n",
      "Kitchen Princess, that originated in the country of Japan.\n",
      "{}, that originated in the country of\n",
      "tensor(1.6875, device='cuda:0', dtype=torch.float16) tensor(329., device='cuda:0', dtype=torch.float16)\n",
      "\n"
     ]
    },
    {
     "data": {
      "application/vnd.jupyter.widget-view+json": {
       "model_id": "e1c36c962403451e8ef277aa16fd2c1f",
       "version_major": 2,
       "version_minor": 0
      },
      "text/plain": [
       "  0%|          | 0/5 [00:00<?, ?it/s]"
      ]
     },
     "metadata": {},
     "output_type": "display_data"
    },
    {
     "name": "stdout",
     "output_type": "stream",
     "text": [
      "subject:  Celebridade\n",
      "Danish pastry, that originated in the country of Denmark.\n",
      "Boyzone, that originated in the country of Ireland.\n",
      "Opeth, that originated in the country of Sweden.\n",
      "{}, that originated in the country of\n",
      "tensor(13.1250, device='cuda:0', dtype=torch.float16) tensor(317., device='cuda:0', dtype=torch.float16)\n",
      "\n",
      "subject:  Danish pastry\n",
      "The Fifth Element, that originated in the country of France.\n",
      "Boyzone, that originated in the country of Ireland.\n",
      "Celebridade, that originated in the country of Brazil.\n",
      "{}, that originated in the country of\n",
      "tensor(1.1562, device='cuda:0', dtype=torch.float16) tensor(307.5000, device='cuda:0', dtype=torch.float16)\n",
      "\n",
      "subject:  Boyzone\n",
      "Opeth, that originated in the country of Sweden.\n",
      "Danish pastry, that originated in the country of Denmark.\n",
      "The Fifth Element, that originated in the country of France.\n",
      "{}, that originated in the country of\n",
      "tensor(8.7734, device='cuda:0', dtype=torch.float16) tensor(291.7500, device='cuda:0', dtype=torch.float16)\n",
      "\n",
      "subject:  Opeth\n",
      "Celebridade, that originated in the country of Brazil.\n",
      "Danish pastry, that originated in the country of Denmark.\n",
      "The Fifth Element, that originated in the country of France.\n",
      "{}, that originated in the country of\n",
      "tensor(7.2461, device='cuda:0', dtype=torch.float16) tensor(276.5000, device='cuda:0', dtype=torch.float16)\n",
      "\n",
      "subject:  The Fifth Element\n",
      "Danish pastry, that originated in the country of Denmark.\n",
      "Opeth, that originated in the country of Sweden.\n",
      "Celebridade, that originated in the country of Brazil.\n",
      "{}, that originated in the country of\n",
      "tensor(12.6250, device='cuda:0', dtype=torch.float16) tensor(228., device='cuda:0', dtype=torch.float16)\n",
      "\n"
     ]
    },
    {
     "data": {
      "application/vnd.jupyter.widget-view+json": {
       "model_id": "2c92d2ba1f7041c4b5807bd4caca7123",
       "version_major": 2,
       "version_minor": 0
      },
      "text/plain": [
       "  0%|          | 0/5 [00:00<?, ?it/s]"
      ]
     },
     "metadata": {},
     "output_type": "display_data"
    },
    {
     "name": "stdout",
     "output_type": "stream",
     "text": [
      "subject:  Life Is Beautiful\n",
      "Opeth, that originated in the country of Sweden.\n",
      "Celebridade, that originated in the country of Brazil.\n",
      "Dobermann, that originated in the country of Germany.\n",
      "{}, that originated in the country of\n",
      "tensor(9.1641, device='cuda:0', dtype=torch.float16) tensor(291.7500, device='cuda:0', dtype=torch.float16)\n",
      "\n",
      "subject:  Celebridade\n",
      "Kitchen Princess, that originated in the country of Japan.\n",
      "Dobermann, that originated in the country of Germany.\n",
      "Opeth, that originated in the country of Sweden.\n",
      "{}, that originated in the country of\n",
      "tensor(12.2734, device='cuda:0', dtype=torch.float16) tensor(320.2500, device='cuda:0', dtype=torch.float16)\n",
      "\n",
      "subject:  Opeth\n",
      "Life Is Beautiful, that originated in the country of Italy.\n",
      "Kitchen Princess, that originated in the country of Japan.\n",
      "Dobermann, that originated in the country of Germany.\n",
      "{}, that originated in the country of\n",
      "tensor(7.7461, device='cuda:0', dtype=torch.float16) tensor(269.7500, device='cuda:0', dtype=torch.float16)\n",
      "\n",
      "subject:  Dobermann\n",
      "Kitchen Princess, that originated in the country of Japan.\n",
      "Opeth, that originated in the country of Sweden.\n",
      "Life Is Beautiful, that originated in the country of Italy.\n",
      "{}, that originated in the country of\n",
      "tensor(20.7344, device='cuda:0', dtype=torch.float16) tensor(304.2500, device='cuda:0', dtype=torch.float16)\n",
      "\n",
      "subject:  Kitchen Princess\n",
      "Dobermann, that originated in the country of Germany.\n",
      "Life Is Beautiful, that originated in the country of Italy.\n",
      "Celebridade, that originated in the country of Brazil.\n",
      "{}, that originated in the country of\n",
      "tensor(8.6562, device='cuda:0', dtype=torch.float16) tensor(328.5000, device='cuda:0', dtype=torch.float16)\n",
      "\n"
     ]
    },
    {
     "data": {
      "application/vnd.jupyter.widget-view+json": {
       "model_id": "ab58902911a84a5cb53b80d09a0b173b",
       "version_major": 2,
       "version_minor": 0
      },
      "text/plain": [
       "  0%|          | 0/5 [00:00<?, ?it/s]"
      ]
     },
     "metadata": {},
     "output_type": "display_data"
    },
    {
     "name": "stdout",
     "output_type": "stream",
     "text": [
      "subject:  Orphan Black\n",
      "The X Factor, that originated in the country of Australia.\n",
      "Life Is Beautiful, that originated in the country of Italy.\n",
      "The Fifth Element, that originated in the country of France.\n",
      "{}, that originated in the country of\n",
      "tensor(16.8594, device='cuda:0', dtype=torch.float16) tensor(234.2500, device='cuda:0', dtype=torch.float16)\n",
      "\n",
      "subject:  Life Is Beautiful\n",
      "The X Factor, that originated in the country of Australia.\n",
      "Dobermann, that originated in the country of Germany.\n",
      "Orphan Black, that originated in the country of Canada.\n",
      "{}, that originated in the country of\n",
      "tensor(9.7891, device='cuda:0', dtype=torch.float16) tensor(252.5000, device='cuda:0', dtype=torch.float16)\n",
      "\n",
      "subject:  The Fifth Element\n",
      "Orphan Black, that originated in the country of Canada.\n",
      "Life Is Beautiful, that originated in the country of Italy.\n",
      "Dobermann, that originated in the country of Germany.\n",
      "{}, that originated in the country of\n",
      "tensor(21.5312, device='cuda:0', dtype=torch.float16) tensor(227.7500, device='cuda:0', dtype=torch.float16)\n",
      "\n",
      "subject:  Dobermann\n",
      "The Fifth Element, that originated in the country of France.\n",
      "Life Is Beautiful, that originated in the country of Italy.\n",
      "The X Factor, that originated in the country of Australia.\n",
      "{}, that originated in the country of\n",
      "tensor(24.5625, device='cuda:0', dtype=torch.float16) tensor(308.7500, device='cuda:0', dtype=torch.float16)\n",
      "\n",
      "subject:  The X Factor\n",
      "Orphan Black, that originated in the country of Canada.\n",
      "The Fifth Element, that originated in the country of France.\n",
      "Dobermann, that originated in the country of Germany.\n",
      "{}, that originated in the country of\n",
      "tensor(6.9023, device='cuda:0', dtype=torch.float16) tensor(268.7500, device='cuda:0', dtype=torch.float16)\n",
      "\n"
     ]
    },
    {
     "data": {
      "application/vnd.jupyter.widget-view+json": {
       "model_id": "55396405daad4e2d8e7f25e0c2bd05b7",
       "version_major": 2,
       "version_minor": 0
      },
      "text/plain": [
       "  0%|          | 0/5 [00:00<?, ?it/s]"
      ]
     },
     "metadata": {},
     "output_type": "display_data"
    },
    {
     "name": "stdout",
     "output_type": "stream",
     "text": [
      "subject:  The Fifth Element\n",
      "Boyzone, that originated in the country of Ireland.\n",
      "Celebridade, that originated in the country of Brazil.\n",
      "Opeth, that originated in the country of Sweden.\n",
      "{}, that originated in the country of\n",
      "tensor(12.6875, device='cuda:0', dtype=torch.float16) tensor(239.8750, device='cuda:0', dtype=torch.float16)\n",
      "\n",
      "subject:  Opeth\n",
      "The X Factor, that originated in the country of Australia.\n",
      "Celebridade, that originated in the country of Brazil.\n",
      "Boyzone, that originated in the country of Ireland.\n",
      "{}, that originated in the country of\n",
      "tensor(6.1445, device='cuda:0', dtype=torch.float16) tensor(264.2500, device='cuda:0', dtype=torch.float16)\n",
      "\n",
      "subject:  The X Factor\n",
      "Boyzone, that originated in the country of Ireland.\n",
      "Celebridade, that originated in the country of Brazil.\n",
      "Opeth, that originated in the country of Sweden.\n",
      "{}, that originated in the country of\n",
      "tensor(5.9570, device='cuda:0', dtype=torch.float16) tensor(257., device='cuda:0', dtype=torch.float16)\n",
      "\n",
      "subject:  Celebridade\n",
      "Opeth, that originated in the country of Sweden.\n",
      "The Fifth Element, that originated in the country of France.\n",
      "Boyzone, that originated in the country of Ireland.\n",
      "{}, that originated in the country of\n",
      "tensor(15.7109, device='cuda:0', dtype=torch.float16) tensor(314., device='cuda:0', dtype=torch.float16)\n",
      "\n",
      "subject:  Boyzone\n",
      "Celebridade, that originated in the country of Brazil.\n",
      "Opeth, that originated in the country of Sweden.\n",
      "The X Factor, that originated in the country of Australia.\n",
      "{}, that originated in the country of\n",
      "tensor(9.7344, device='cuda:0', dtype=torch.float16) tensor(268.5000, device='cuda:0', dtype=torch.float16)\n",
      "\n"
     ]
    },
    {
     "data": {
      "application/vnd.jupyter.widget-view+json": {
       "model_id": "9d02cf23e2d4416796ef2c185305f9e5",
       "version_major": 2,
       "version_minor": 0
      },
      "text/plain": [
       "  0%|          | 0/5 [00:00<?, ?it/s]"
      ]
     },
     "metadata": {},
     "output_type": "display_data"
    },
    {
     "name": "stdout",
     "output_type": "stream",
     "text": [
      "subject:  Danish pastry\n",
      "Dobermann, that originated in the country of Germany.\n",
      "Kitchen Princess, that originated in the country of Japan.\n",
      "Opeth, that originated in the country of Sweden.\n",
      "{}, that originated in the country of\n",
      "tensor(1.1963, device='cuda:0', dtype=torch.float16) tensor(321.2500, device='cuda:0', dtype=torch.float16)\n",
      "\n",
      "subject:  Life Is Beautiful\n",
      "Kitchen Princess, that originated in the country of Japan.\n",
      "Opeth, that originated in the country of Sweden.\n",
      "Dobermann, that originated in the country of Germany.\n",
      "{}, that originated in the country of\n",
      "tensor(9.4531, device='cuda:0', dtype=torch.float16) tensor(274., device='cuda:0', dtype=torch.float16)\n",
      "\n",
      "subject:  Kitchen Princess\n",
      "Life Is Beautiful, that originated in the country of Italy.\n",
      "Danish pastry, that originated in the country of Denmark.\n",
      "Opeth, that originated in the country of Sweden.\n",
      "{}, that originated in the country of\n",
      "tensor(7.7227, device='cuda:0', dtype=torch.float16) tensor(338.2500, device='cuda:0', dtype=torch.float16)\n",
      "\n",
      "subject:  Opeth\n",
      "Life Is Beautiful, that originated in the country of Italy.\n",
      "Dobermann, that originated in the country of Germany.\n",
      "Kitchen Princess, that originated in the country of Japan.\n",
      "{}, that originated in the country of\n",
      "tensor(8.0312, device='cuda:0', dtype=torch.float16) tensor(272.2500, device='cuda:0', dtype=torch.float16)\n",
      "\n",
      "subject:  Dobermann\n",
      "Danish pastry, that originated in the country of Denmark.\n",
      "Kitchen Princess, that originated in the country of Japan.\n",
      "Life Is Beautiful, that originated in the country of Italy.\n",
      "{}, that originated in the country of\n",
      "tensor(26.0156, device='cuda:0', dtype=torch.float16) tensor(296.2500, device='cuda:0', dtype=torch.float16)\n",
      "\n"
     ]
    },
    {
     "data": {
      "application/vnd.jupyter.widget-view+json": {
       "model_id": "c58874744e6b4cce88c8df402208bb82",
       "version_major": 2,
       "version_minor": 0
      },
      "text/plain": [
       "  0%|          | 0/5 [00:00<?, ?it/s]"
      ]
     },
     "metadata": {},
     "output_type": "display_data"
    },
    {
     "name": "stdout",
     "output_type": "stream",
     "text": [
      "subject:  Orphan Black\n",
      "Life Is Beautiful, that originated in the country of Italy.\n",
      "The Fifth Element, that originated in the country of France.\n",
      "Dobermann, that originated in the country of Germany.\n",
      "{}, that originated in the country of\n",
      "tensor(15.2344, device='cuda:0', dtype=torch.float16) tensor(244., device='cuda:0', dtype=torch.float16)\n",
      "\n",
      "subject:  The Fifth Element\n",
      "Orphan Black, that originated in the country of Canada.\n",
      "Dobermann, that originated in the country of Germany.\n",
      "Life Is Beautiful, that originated in the country of Italy.\n",
      "{}, that originated in the country of\n",
      "tensor(21.3438, device='cuda:0', dtype=torch.float16) tensor(230.1250, device='cuda:0', dtype=torch.float16)\n",
      "\n",
      "subject:  Life Is Beautiful\n",
      "Dobermann, that originated in the country of Germany.\n",
      "Orphan Black, that originated in the country of Canada.\n",
      "Boyzone, that originated in the country of Ireland.\n",
      "{}, that originated in the country of\n",
      "tensor(9.7266, device='cuda:0', dtype=torch.float16) tensor(238.1250, device='cuda:0', dtype=torch.float16)\n",
      "\n",
      "subject:  Boyzone\n",
      "The Fifth Element, that originated in the country of France.\n",
      "Life Is Beautiful, that originated in the country of Italy.\n",
      "Orphan Black, that originated in the country of Canada.\n",
      "{}, that originated in the country of\n",
      "tensor(12.3750, device='cuda:0', dtype=torch.float16) tensor(280.5000, device='cuda:0', dtype=torch.float16)\n",
      "\n",
      "subject:  Dobermann\n",
      "Orphan Black, that originated in the country of Canada.\n",
      "The Fifth Element, that originated in the country of France.\n",
      "Boyzone, that originated in the country of Ireland.\n",
      "{}, that originated in the country of\n",
      "tensor(23.3750, device='cuda:0', dtype=torch.float16) tensor(300., device='cuda:0', dtype=torch.float16)\n",
      "\n"
     ]
    },
    {
     "data": {
      "application/vnd.jupyter.widget-view+json": {
       "model_id": "56eee27af3e246edbd1faebb3a8374af",
       "version_major": 2,
       "version_minor": 0
      },
      "text/plain": [
       "  0%|          | 0/5 [00:00<?, ?it/s]"
      ]
     },
     "metadata": {},
     "output_type": "display_data"
    },
    {
     "name": "stdout",
     "output_type": "stream",
     "text": [
      "subject:  Danish pastry\n",
      "Celebridade, that originated in the country of Brazil.\n",
      "Kitchen Princess, that originated in the country of Japan.\n",
      "The X Factor, that originated in the country of Australia.\n",
      "{}, that originated in the country of\n",
      "tensor(1.6426, device='cuda:0', dtype=torch.float16) tensor(305.5000, device='cuda:0', dtype=torch.float16)\n",
      "\n",
      "subject:  Kitchen Princess\n",
      "Celebridade, that originated in the country of Brazil.\n",
      "The Fifth Element, that originated in the country of France.\n",
      "Danish pastry, that originated in the country of Denmark.\n",
      "{}, that originated in the country of\n",
      "tensor(7.8789, device='cuda:0', dtype=torch.float16) tensor(327., device='cuda:0', dtype=torch.float16)\n",
      "\n",
      "subject:  Celebridade\n",
      "Danish pastry, that originated in the country of Denmark.\n",
      "The X Factor, that originated in the country of Australia.\n",
      "The Fifth Element, that originated in the country of France.\n",
      "{}, that originated in the country of\n",
      "tensor(10.7266, device='cuda:0', dtype=torch.float16) tensor(323.2500, device='cuda:0', dtype=torch.float16)\n",
      "\n",
      "subject:  The X Factor\n",
      "Celebridade, that originated in the country of Brazil.\n",
      "The Fifth Element, that originated in the country of France.\n",
      "Kitchen Princess, that originated in the country of Japan.\n",
      "{}, that originated in the country of\n",
      "tensor(7.1094, device='cuda:0', dtype=torch.float16) tensor(258.5000, device='cuda:0', dtype=torch.float16)\n",
      "\n",
      "subject:  The Fifth Element\n",
      "Danish pastry, that originated in the country of Denmark.\n",
      "Kitchen Princess, that originated in the country of Japan.\n",
      "Celebridade, that originated in the country of Brazil.\n",
      "{}, that originated in the country of\n",
      "tensor(12.9141, device='cuda:0', dtype=torch.float16) tensor(232.5000, device='cuda:0', dtype=torch.float16)\n",
      "\n"
     ]
    },
    {
     "data": {
      "application/vnd.jupyter.widget-view+json": {
       "model_id": "5b6fc41386104286ae4bdbf6302e6463",
       "version_major": 2,
       "version_minor": 0
      },
      "text/plain": [
       "  0%|          | 0/5 [00:00<?, ?it/s]"
      ]
     },
     "metadata": {},
     "output_type": "display_data"
    },
    {
     "name": "stdout",
     "output_type": "stream",
     "text": [
      "subject:  Dobermann\n",
      "Opeth, that originated in the country of Sweden.\n",
      "Life Is Beautiful, that originated in the country of Italy.\n",
      "Danish pastry, that originated in the country of Denmark.\n",
      "{}, that originated in the country of\n",
      "tensor(33.6875, device='cuda:0', dtype=torch.float16) tensor(268.5000, device='cuda:0', dtype=torch.float16)\n",
      "\n",
      "subject:  Opeth\n",
      "Danish pastry, that originated in the country of Denmark.\n",
      "Celebridade, that originated in the country of Brazil.\n",
      "Dobermann, that originated in the country of Germany.\n",
      "{}, that originated in the country of\n",
      "tensor(7.9688, device='cuda:0', dtype=torch.float16) tensor(281., device='cuda:0', dtype=torch.float16)\n",
      "\n",
      "subject:  Danish pastry\n",
      "Dobermann, that originated in the country of Germany.\n",
      "Life Is Beautiful, that originated in the country of Italy.\n",
      "Celebridade, that originated in the country of Brazil.\n",
      "{}, that originated in the country of\n",
      "tensor(1.1650, device='cuda:0', dtype=torch.float16) tensor(304., device='cuda:0', dtype=torch.float16)\n",
      "\n",
      "subject:  Life Is Beautiful\n",
      "Danish pastry, that originated in the country of Denmark.\n",
      "Celebridade, that originated in the country of Brazil.\n",
      "Dobermann, that originated in the country of Germany.\n",
      "{}, that originated in the country of\n",
      "tensor(10.9531, device='cuda:0', dtype=torch.float16) tensor(272.7500, device='cuda:0', dtype=torch.float16)\n",
      "\n",
      "subject:  Celebridade\n",
      "Opeth, that originated in the country of Sweden.\n",
      "Life Is Beautiful, that originated in the country of Italy.\n",
      "Dobermann, that originated in the country of Germany.\n",
      "{}, that originated in the country of\n",
      "tensor(9.9141, device='cuda:0', dtype=torch.float16) tensor(333.2500, device='cuda:0', dtype=torch.float16)\n",
      "\n",
      "Saving weights and biases >>  gpt-j/jacobians_averaged_collection/P495.npz\n",
      "----------------------------------------------------\n",
      "zzzzzzzzzzzzzzzzzzzzzzzzzzzzzzzzzzzzzzzzzzzzzzzzzzzz\n",
      "P127 {} is owned by\n",
      "zzzzzzzzzzzzzzzzzzzzzzzzzzzzzzzzzzzzzzzzzzzzzzzzzzzz\n",
      "105\n",
      "{} is owned by\n"
     ]
    },
    {
     "data": {
      "application/vnd.jupyter.widget-view+json": {
       "model_id": "d1c10edf145f4597b2e661c4c25efb51",
       "version_major": 2,
       "version_minor": 0
      },
      "text/plain": [
       "  0%|          | 0/10 [00:00<?, ?it/s]"
      ]
     },
     "metadata": {},
     "output_type": "display_data"
    },
    {
     "data": {
      "application/vnd.jupyter.widget-view+json": {
       "model_id": "e81e13560b694496b15994dfd110dfc5",
       "version_major": 2,
       "version_minor": 0
      },
      "text/plain": [
       "  0%|          | 0/5 [00:00<?, ?it/s]"
      ]
     },
     "metadata": {},
     "output_type": "display_data"
    },
    {
     "name": "stdout",
     "output_type": "stream",
     "text": [
      "subject:  Amazon Music\n",
      "Orkut is owned by Google.\n",
      "Behance is owned by Adobe.\n",
      "Mojang is owned by Microsoft.\n",
      "{} is owned by\n",
      "tensor(20.0469, device='cuda:0', dtype=torch.float16) tensor(266.7500, device='cuda:0', dtype=torch.float16)\n",
      "\n",
      "subject:  Behance\n",
      "Mojang is owned by Microsoft.\n",
      "Orkut is owned by Google.\n",
      "iAd is owned by Apple.\n",
      "{} is owned by\n",
      "tensor(21.5938, device='cuda:0', dtype=torch.float16) tensor(188.2500, device='cuda:0', dtype=torch.float16)\n",
      "\n",
      "subject:  iAd\n",
      "Mojang is owned by Microsoft.\n",
      "Amazon Music is owned by Amazon.\n",
      "Orkut is owned by Google.\n",
      "{} is owned by\n",
      "tensor(2.3066, device='cuda:0', dtype=torch.float16) tensor(209.5000, device='cuda:0', dtype=torch.float16)\n",
      "\n",
      "subject:  Mojang\n",
      "Behance is owned by Adobe.\n",
      "Amazon Music is owned by Amazon.\n",
      "Orkut is owned by Google.\n",
      "{} is owned by\n",
      "tensor(24.5625, device='cuda:0', dtype=torch.float16) tensor(214.7500, device='cuda:0', dtype=torch.float16)\n",
      "\n",
      "subject:  Orkut\n",
      "Amazon Music is owned by Amazon.\n",
      "iAd is owned by Apple.\n",
      "Mojang is owned by Microsoft.\n",
      "{} is owned by\n",
      "tensor(28.6250, device='cuda:0', dtype=torch.float16) tensor(182.6250, device='cuda:0', dtype=torch.float16)\n",
      "\n"
     ]
    },
    {
     "data": {
      "application/vnd.jupyter.widget-view+json": {
       "model_id": "75635e1d2b764c13b4060622e233e1a9",
       "version_major": 2,
       "version_minor": 0
      },
      "text/plain": [
       "  0%|          | 0/5 [00:00<?, ?it/s]"
      ]
     },
     "metadata": {},
     "output_type": "display_data"
    },
    {
     "name": "stdout",
     "output_type": "stream",
     "text": [
      "subject:  Orkut\n",
      "Betacam is owned by Sony.\n",
      "Yahoo Search is owned by Yahoo.\n",
      "Cognos is owned by IBM.\n",
      "{} is owned by\n",
      "tensor(30.9688, device='cuda:0', dtype=torch.float16) tensor(177., device='cuda:0', dtype=torch.float16)\n",
      "\n",
      "subject:  Yahoo Search\n",
      "Orkut is owned by Google.\n",
      "Betacam is owned by Sony.\n",
      "Mojang is owned by Microsoft.\n",
      "{} is owned by\n",
      "tensor(1.9980, device='cuda:0', dtype=torch.float16) tensor(252.1250, device='cuda:0', dtype=torch.float16)\n",
      "\n",
      "subject:  Cognos\n",
      "Mojang is owned by Microsoft.\n",
      "Yahoo Search is owned by Yahoo.\n",
      "Orkut is owned by Google.\n",
      "{} is owned by\n",
      "tensor(25.2812, device='cuda:0', dtype=torch.float16) tensor(221.8750, device='cuda:0', dtype=torch.float16)\n",
      "\n",
      "subject:  Betacam\n",
      "Mojang is owned by Microsoft.\n",
      "Cognos is owned by IBM.\n",
      "Orkut is owned by Google.\n",
      "{} is owned by\n",
      "tensor(15.0938, device='cuda:0', dtype=torch.float16) tensor(275.7500, device='cuda:0', dtype=torch.float16)\n",
      "\n",
      "subject:  Mojang\n",
      "Orkut is owned by Google.\n",
      "Yahoo Search is owned by Yahoo.\n",
      "Betacam is owned by Sony.\n",
      "{} is owned by\n",
      "tensor(20.7812, device='cuda:0', dtype=torch.float16) tensor(230.2500, device='cuda:0', dtype=torch.float16)\n",
      "\n"
     ]
    },
    {
     "data": {
      "application/vnd.jupyter.widget-view+json": {
       "model_id": "2f13a89710eb4f43b3b82d45fab90cdd",
       "version_major": 2,
       "version_minor": 0
      },
      "text/plain": [
       "  0%|          | 0/5 [00:00<?, ?it/s]"
      ]
     },
     "metadata": {},
     "output_type": "display_data"
    },
    {
     "name": "stdout",
     "output_type": "stream",
     "text": [
      "subject:  Abarth\n",
      "Nintendo Software Technology is owned by Nintendo.\n",
      "Yahoo Search is owned by Yahoo.\n",
      "Orkut is owned by Google.\n",
      "{} is owned by\n",
      "tensor(14.3984, device='cuda:0', dtype=torch.float16) tensor(234.5000, device='cuda:0', dtype=torch.float16)\n",
      "\n",
      "subject:  Betacam\n",
      "Nintendo Software Technology is owned by Nintendo.\n",
      "Yahoo Search is owned by Yahoo.\n",
      "Abarth is owned by Fiat.\n",
      "{} is owned by\n",
      "tensor(29.3281, device='cuda:0', dtype=torch.float16) tensor(237.7500, device='cuda:0', dtype=torch.float16)\n",
      "\n",
      "subject:  Yahoo Search\n",
      "Nintendo Software Technology is owned by Nintendo.\n",
      "Betacam is owned by Sony.\n",
      "Abarth is owned by Fiat.\n",
      "{} is owned by\n",
      "tensor(2.1113, device='cuda:0', dtype=torch.float16) tensor(215.7500, device='cuda:0', dtype=torch.float16)\n",
      "\n",
      "subject:  Orkut\n",
      "Nintendo Software Technology is owned by Nintendo.\n",
      "Yahoo Search is owned by Yahoo.\n",
      "Betacam is owned by Sony.\n",
      "{} is owned by\n",
      "tensor(28.7188, device='cuda:0', dtype=torch.float16) tensor(182., device='cuda:0', dtype=torch.float16)\n",
      "\n",
      "subject:  Nintendo Software Technology\n",
      "Betacam is owned by Sony.\n",
      "Orkut is owned by Google.\n",
      "Yahoo Search is owned by Yahoo.\n",
      "{} is owned by\n",
      "tensor(26.3594, device='cuda:0', dtype=torch.float16) tensor(281.5000, device='cuda:0', dtype=torch.float16)\n",
      "\n"
     ]
    },
    {
     "data": {
      "application/vnd.jupyter.widget-view+json": {
       "model_id": "2b3935f5c9834cd180ff0584018c2133",
       "version_major": 2,
       "version_minor": 0
      },
      "text/plain": [
       "  0%|          | 0/5 [00:00<?, ?it/s]"
      ]
     },
     "metadata": {},
     "output_type": "display_data"
    },
    {
     "name": "stdout",
     "output_type": "stream",
     "text": [
      "subject:  Nintendo Software Technology\n",
      "Cognos is owned by IBM.\n",
      "Behance is owned by Adobe.\n",
      "Abarth is owned by Fiat.\n",
      "{} is owned by\n",
      "tensor(24.9375, device='cuda:0', dtype=torch.float16) tensor(247.5000, device='cuda:0', dtype=torch.float16)\n",
      "\n",
      "subject:  Orkut\n",
      "Nintendo Software Technology is owned by Nintendo.\n",
      "Abarth is owned by Fiat.\n",
      "Cognos is owned by IBM.\n",
      "{} is owned by\n",
      "tensor(31.0312, device='cuda:0', dtype=torch.float16) tensor(179., device='cuda:0', dtype=torch.float16)\n",
      "\n",
      "subject:  Abarth\n",
      "Nintendo Software Technology is owned by Nintendo.\n",
      "Behance is owned by Adobe.\n",
      "Cognos is owned by IBM.\n",
      "{} is owned by\n",
      "tensor(14.1875, device='cuda:0', dtype=torch.float16) tensor(226.1250, device='cuda:0', dtype=torch.float16)\n",
      "\n",
      "subject:  Behance\n",
      "Nintendo Software Technology is owned by Nintendo.\n",
      "Orkut is owned by Google.\n",
      "Cognos is owned by IBM.\n",
      "{} is owned by\n",
      "tensor(27.1875, device='cuda:0', dtype=torch.float16) tensor(196.2500, device='cuda:0', dtype=torch.float16)\n",
      "\n",
      "subject:  Cognos\n",
      "Orkut is owned by Google.\n",
      "Behance is owned by Adobe.\n",
      "Nintendo Software Technology is owned by Nintendo.\n",
      "{} is owned by\n",
      "tensor(36.4062, device='cuda:0', dtype=torch.float16) tensor(196.7500, device='cuda:0', dtype=torch.float16)\n",
      "\n"
     ]
    },
    {
     "data": {
      "application/vnd.jupyter.widget-view+json": {
       "model_id": "74124680268b4c3abc6f9c8f5142c009",
       "version_major": 2,
       "version_minor": 0
      },
      "text/plain": [
       "  0%|          | 0/5 [00:00<?, ?it/s]"
      ]
     },
     "metadata": {},
     "output_type": "display_data"
    },
    {
     "name": "stdout",
     "output_type": "stream",
     "text": [
      "subject:  Amazon Music\n",
      "Betacam is owned by Sony.\n",
      "Cognos is owned by IBM.\n",
      "iAd is owned by Apple.\n",
      "{} is owned by\n",
      "tensor(22.7500, device='cuda:0', dtype=torch.float16) tensor(287.7500, device='cuda:0', dtype=torch.float16)\n",
      "\n",
      "subject:  iAd\n",
      "Amazon Music is owned by Amazon.\n",
      "Betacam is owned by Sony.\n",
      "Cognos is owned by IBM.\n",
      "{} is owned by\n",
      "tensor(2.1699, device='cuda:0', dtype=torch.float16) tensor(199.1250, device='cuda:0', dtype=torch.float16)\n",
      "\n",
      "subject:  Orkut\n",
      "Cognos is owned by IBM.\n",
      "Betacam is owned by Sony.\n",
      "iAd is owned by Apple.\n",
      "{} is owned by\n",
      "tensor(29.2188, device='cuda:0', dtype=torch.float16) tensor(195.8750, device='cuda:0', dtype=torch.float16)\n",
      "\n",
      "subject:  Cognos\n",
      "Amazon Music is owned by Amazon.\n",
      "iAd is owned by Apple.\n",
      "Betacam is owned by Sony.\n",
      "{} is owned by\n",
      "tensor(31.3594, device='cuda:0', dtype=torch.float16) tensor(210.2500, device='cuda:0', dtype=torch.float16)\n",
      "\n",
      "subject:  Betacam\n",
      "iAd is owned by Apple.\n",
      "Cognos is owned by IBM.\n",
      "Orkut is owned by Google.\n",
      "{} is owned by\n",
      "tensor(20.6250, device='cuda:0', dtype=torch.float16) tensor(260.5000, device='cuda:0', dtype=torch.float16)\n",
      "\n"
     ]
    },
    {
     "data": {
      "application/vnd.jupyter.widget-view+json": {
       "model_id": "e1267e788128453497b9b66085d5a365",
       "version_major": 2,
       "version_minor": 0
      },
      "text/plain": [
       "  0%|          | 0/5 [00:00<?, ?it/s]"
      ]
     },
     "metadata": {},
     "output_type": "display_data"
    },
    {
     "name": "stdout",
     "output_type": "stream",
     "text": [
      "subject:  Yahoo Search\n",
      "Orkut is owned by Google.\n",
      "Cognos is owned by IBM.\n",
      "iAd is owned by Apple.\n",
      "{} is owned by\n",
      "tensor(2.2090, device='cuda:0', dtype=torch.float16) tensor(247.2500, device='cuda:0', dtype=torch.float16)\n",
      "\n",
      "subject:  Nintendo Software Technology\n",
      "Yahoo Search is owned by Yahoo.\n",
      "iAd is owned by Apple.\n",
      "Cognos is owned by IBM.\n",
      "{} is owned by\n",
      "tensor(26.9375, device='cuda:0', dtype=torch.float16) tensor(273.5000, device='cuda:0', dtype=torch.float16)\n",
      "\n",
      "subject:  iAd\n",
      "Yahoo Search is owned by Yahoo.\n",
      "Nintendo Software Technology is owned by Nintendo.\n",
      "Orkut is owned by Google.\n",
      "{} is owned by\n",
      "tensor(2.5254, device='cuda:0', dtype=torch.float16) tensor(177.5000, device='cuda:0', dtype=torch.float16)\n",
      "\n",
      "subject:  Cognos\n",
      "iAd is owned by Apple.\n",
      "Orkut is owned by Google.\n",
      "Nintendo Software Technology is owned by Nintendo.\n",
      "{} is owned by\n",
      "tensor(35.2500, device='cuda:0', dtype=torch.float16) tensor(197.1250, device='cuda:0', dtype=torch.float16)\n",
      "\n",
      "subject:  Orkut\n",
      "iAd is owned by Apple.\n",
      "Nintendo Software Technology is owned by Nintendo.\n",
      "Cognos is owned by IBM.\n",
      "{} is owned by\n",
      "tensor(33.0312, device='cuda:0', dtype=torch.float16) tensor(172.3750, device='cuda:0', dtype=torch.float16)\n",
      "\n"
     ]
    },
    {
     "data": {
      "application/vnd.jupyter.widget-view+json": {
       "model_id": "15fbf623f72e46c68802570252f8a059",
       "version_major": 2,
       "version_minor": 0
      },
      "text/plain": [
       "  0%|          | 0/5 [00:00<?, ?it/s]"
      ]
     },
     "metadata": {},
     "output_type": "display_data"
    },
    {
     "name": "stdout",
     "output_type": "stream",
     "text": [
      "subject:  Cognos\n",
      "Abarth is owned by Fiat.\n",
      "Nintendo Software Technology is owned by Nintendo.\n",
      "Yahoo Search is owned by Yahoo.\n",
      "{} is owned by\n",
      "tensor(37.1250, device='cuda:0', dtype=torch.float16) tensor(194.3750, device='cuda:0', dtype=torch.float16)\n",
      "\n",
      "subject:  Yahoo Search\n",
      "Cognos is owned by IBM.\n",
      "Nintendo Software Technology is owned by Nintendo.\n",
      "Abarth is owned by Fiat.\n",
      "{} is owned by\n",
      "tensor(2.2227, device='cuda:0', dtype=torch.float16) tensor(195.1250, device='cuda:0', dtype=torch.float16)\n",
      "\n",
      "subject:  Nintendo Software Technology\n",
      "Yahoo Search is owned by Yahoo.\n",
      "Abarth is owned by Fiat.\n",
      "Cognos is owned by IBM.\n",
      "{} is owned by\n",
      "tensor(26.0781, device='cuda:0', dtype=torch.float16) tensor(247., device='cuda:0', dtype=torch.float16)\n",
      "\n",
      "subject:  Abarth\n",
      "Yahoo Search is owned by Yahoo.\n",
      "Nintendo Software Technology is owned by Nintendo.\n",
      "Behance is owned by Adobe.\n",
      "{} is owned by\n",
      "tensor(13.2656, device='cuda:0', dtype=torch.float16) tensor(219.6250, device='cuda:0', dtype=torch.float16)\n",
      "\n",
      "subject:  Behance\n",
      "Yahoo Search is owned by Yahoo.\n",
      "Cognos is owned by IBM.\n",
      "Abarth is owned by Fiat.\n",
      "{} is owned by\n",
      "tensor(30.0156, device='cuda:0', dtype=torch.float16) tensor(178.2500, device='cuda:0', dtype=torch.float16)\n",
      "\n"
     ]
    },
    {
     "data": {
      "application/vnd.jupyter.widget-view+json": {
       "model_id": "660b8c6539884a96bf799cfa10e7203b",
       "version_major": 2,
       "version_minor": 0
      },
      "text/plain": [
       "  0%|          | 0/5 [00:00<?, ?it/s]"
      ]
     },
     "metadata": {},
     "output_type": "display_data"
    },
    {
     "name": "stdout",
     "output_type": "stream",
     "text": [
      "subject:  iAd\n",
      "Cognos is owned by IBM.\n",
      "Orkut is owned by Google.\n",
      "Amazon Music is owned by Amazon.\n",
      "{} is owned by\n",
      "tensor(2.8867, device='cuda:0', dtype=torch.float16) tensor(217.7500, device='cuda:0', dtype=torch.float16)\n",
      "\n",
      "subject:  Orkut\n",
      "Betacam is owned by Sony.\n",
      "Amazon Music is owned by Amazon.\n",
      "iAd is owned by Apple.\n",
      "{} is owned by\n",
      "tensor(31.5156, device='cuda:0', dtype=torch.float16) tensor(186.8750, device='cuda:0', dtype=torch.float16)\n",
      "\n",
      "subject:  Betacam\n",
      "Orkut is owned by Google.\n",
      "Amazon Music is owned by Amazon.\n",
      "Cognos is owned by IBM.\n",
      "{} is owned by\n",
      "tensor(21.5312, device='cuda:0', dtype=torch.float16) tensor(267.2500, device='cuda:0', dtype=torch.float16)\n",
      "\n",
      "subject:  Cognos\n",
      "Orkut is owned by Google.\n",
      "Betacam is owned by Sony.\n",
      "iAd is owned by Apple.\n",
      "{} is owned by\n",
      "tensor(28.3281, device='cuda:0', dtype=torch.float16) tensor(212.8750, device='cuda:0', dtype=torch.float16)\n",
      "\n",
      "subject:  Amazon Music\n",
      "Betacam is owned by Sony.\n",
      "Orkut is owned by Google.\n",
      "Cognos is owned by IBM.\n",
      "{} is owned by\n",
      "tensor(22.4219, device='cuda:0', dtype=torch.float16) tensor(282.5000, device='cuda:0', dtype=torch.float16)\n",
      "\n"
     ]
    },
    {
     "data": {
      "application/vnd.jupyter.widget-view+json": {
       "model_id": "c9429b9a7867454b8af326d8522086b6",
       "version_major": 2,
       "version_minor": 0
      },
      "text/plain": [
       "  0%|          | 0/5 [00:00<?, ?it/s]"
      ]
     },
     "metadata": {},
     "output_type": "display_data"
    },
    {
     "name": "stdout",
     "output_type": "stream",
     "text": [
      "subject:  iAd\n",
      "Nintendo Software Technology is owned by Nintendo.\n",
      "Mojang is owned by Microsoft.\n",
      "Orkut is owned by Google.\n",
      "{} is owned by\n",
      "tensor(2.5859, device='cuda:0', dtype=torch.float16) tensor(201.2500, device='cuda:0', dtype=torch.float16)\n",
      "\n",
      "subject:  Nintendo Software Technology\n",
      "Yahoo Search is owned by Yahoo.\n",
      "Orkut is owned by Google.\n",
      "iAd is owned by Apple.\n",
      "{} is owned by\n",
      "tensor(25.5000, device='cuda:0', dtype=torch.float16) tensor(270.2500, device='cuda:0', dtype=torch.float16)\n",
      "\n",
      "subject:  Yahoo Search\n",
      "Nintendo Software Technology is owned by Nintendo.\n",
      "iAd is owned by Apple.\n",
      "Mojang is owned by Microsoft.\n",
      "{} is owned by\n",
      "tensor(3.1367, device='cuda:0', dtype=torch.float16) tensor(238.3750, device='cuda:0', dtype=torch.float16)\n",
      "\n",
      "subject:  Mojang\n",
      "Orkut is owned by Google.\n",
      "Yahoo Search is owned by Yahoo.\n",
      "iAd is owned by Apple.\n",
      "{} is owned by\n",
      "tensor(21.2500, device='cuda:0', dtype=torch.float16) tensor(235.8750, device='cuda:0', dtype=torch.float16)\n",
      "\n",
      "subject:  Orkut\n",
      "Yahoo Search is owned by Yahoo.\n",
      "Nintendo Software Technology is owned by Nintendo.\n",
      "Mojang is owned by Microsoft.\n",
      "{} is owned by\n",
      "tensor(32.3750, device='cuda:0', dtype=torch.float16) tensor(171.5000, device='cuda:0', dtype=torch.float16)\n",
      "\n"
     ]
    },
    {
     "data": {
      "application/vnd.jupyter.widget-view+json": {
       "model_id": "5ad4587e2d594fd7b006d587af50d7f7",
       "version_major": 2,
       "version_minor": 0
      },
      "text/plain": [
       "  0%|          | 0/5 [00:00<?, ?it/s]"
      ]
     },
     "metadata": {},
     "output_type": "display_data"
    },
    {
     "name": "stdout",
     "output_type": "stream",
     "text": [
      "subject:  Orkut\n",
      "Cognos is owned by IBM.\n",
      "Yahoo Search is owned by Yahoo.\n",
      "Nintendo Software Technology is owned by Nintendo.\n",
      "{} is owned by\n",
      "tensor(35.7500, device='cuda:0', dtype=torch.float16) tensor(167., device='cuda:0', dtype=torch.float16)\n",
      "\n",
      "subject:  Cognos\n",
      "Yahoo Search is owned by Yahoo.\n",
      "Nintendo Software Technology is owned by Nintendo.\n",
      "Orkut is owned by Google.\n",
      "{} is owned by\n",
      "tensor(34.4375, device='cuda:0', dtype=torch.float16) tensor(194.5000, device='cuda:0', dtype=torch.float16)\n",
      "\n",
      "subject:  Mojang\n",
      "Cognos is owned by IBM.\n",
      "Orkut is owned by Google.\n",
      "Yahoo Search is owned by Yahoo.\n",
      "{} is owned by\n",
      "tensor(24.0156, device='cuda:0', dtype=torch.float16) tensor(222., device='cuda:0', dtype=torch.float16)\n",
      "\n",
      "subject:  Yahoo Search\n",
      "Orkut is owned by Google.\n",
      "Mojang is owned by Microsoft.\n",
      "Cognos is owned by IBM.\n",
      "{} is owned by\n",
      "tensor(2.4941, device='cuda:0', dtype=torch.float16) tensor(234.3750, device='cuda:0', dtype=torch.float16)\n",
      "\n",
      "subject:  Nintendo Software Technology\n",
      "Mojang is owned by Microsoft.\n",
      "Cognos is owned by IBM.\n",
      "Yahoo Search is owned by Yahoo.\n",
      "{} is owned by\n",
      "tensor(24.9219, device='cuda:0', dtype=torch.float16) tensor(255.5000, device='cuda:0', dtype=torch.float16)\n",
      "\n",
      "Saving weights and biases >>  gpt-j/jacobians_averaged_collection/P127.npz\n",
      "----------------------------------------------------\n",
      "zzzzzzzzzzzzzzzzzzzzzzzzzzzzzzzzzzzzzzzzzzzzzzzzzzzz\n",
      "P159 The headquarter of {} is located in\n",
      "zzzzzzzzzzzzzzzzzzzzzzzzzzzzzzzzzzzzzzzzzzzzzzzzzzzz\n",
      "157\n",
      "The headquarter of {} is located in\n"
     ]
    },
    {
     "data": {
      "application/vnd.jupyter.widget-view+json": {
       "model_id": "0c6ab805e0e14450a20886ac8a433933",
       "version_major": 2,
       "version_minor": 0
      },
      "text/plain": [
       "  0%|          | 0/10 [00:00<?, ?it/s]"
      ]
     },
     "metadata": {},
     "output_type": "display_data"
    },
    {
     "data": {
      "application/vnd.jupyter.widget-view+json": {
       "model_id": "b918504092d7468980b632ae0a53b54f",
       "version_major": 2,
       "version_minor": 0
      },
      "text/plain": [
       "  0%|          | 0/5 [00:00<?, ?it/s]"
      ]
     },
     "metadata": {},
     "output_type": "display_data"
    },
    {
     "name": "stdout",
     "output_type": "stream",
     "text": [
      "subject:  Stelco\n",
      "The headquarter of Interpol is located in Lyon.\n",
      "The headquarter of Serono is located in Geneva.\n",
      "The headquarter of LG Chem is located in Seoul.\n",
      "The headquarter of {} is located in\n",
      "tensor(35.5625, device='cuda:0', dtype=torch.float16) tensor(191.2500, device='cuda:0', dtype=torch.float16)\n",
      "\n",
      "subject:  Serono\n",
      "The headquarter of Interpol is located in Lyon.\n",
      "The headquarter of LG Chem is located in Seoul.\n",
      "The headquarter of Stelco is located in Hamilton.\n",
      "The headquarter of {} is located in\n",
      "tensor(42.7188, device='cuda:0', dtype=torch.float16) tensor(146.6250, device='cuda:0', dtype=torch.float16)\n",
      "\n",
      "subject:  Ericsson\n",
      "The headquarter of Stelco is located in Hamilton.\n",
      "The headquarter of LG Chem is located in Seoul.\n",
      "The headquarter of Interpol is located in Lyon.\n",
      "The headquarter of {} is located in\n",
      "tensor(35.6562, device='cuda:0', dtype=torch.float16) tensor(170.5000, device='cuda:0', dtype=torch.float16)\n",
      "\n",
      "subject:  Interpol\n",
      "The headquarter of Serono is located in Geneva.\n",
      "The headquarter of Stelco is located in Hamilton.\n",
      "The headquarter of Ericsson is located in Stockholm.\n",
      "The headquarter of {} is located in\n",
      "tensor(51.1875, device='cuda:0', dtype=torch.float16) tensor(156.2500, device='cuda:0', dtype=torch.float16)\n",
      "\n",
      "subject:  LG Chem\n",
      "The headquarter of Ericsson is located in Stockholm.\n",
      "The headquarter of Stelco is located in Hamilton.\n",
      "The headquarter of Interpol is located in Lyon.\n",
      "The headquarter of {} is located in\n",
      "tensor(26.6719, device='cuda:0', dtype=torch.float16) tensor(195., device='cuda:0', dtype=torch.float16)\n",
      "\n"
     ]
    },
    {
     "data": {
      "application/vnd.jupyter.widget-view+json": {
       "model_id": "c0bdbc6abbc0483a88816bdd5721a495",
       "version_major": 2,
       "version_minor": 0
      },
      "text/plain": [
       "  0%|          | 0/5 [00:00<?, ?it/s]"
      ]
     },
     "metadata": {},
     "output_type": "display_data"
    },
    {
     "name": "stdout",
     "output_type": "stream",
     "text": [
      "subject:  Lenovo\n",
      "The headquarter of Serono is located in Geneva.\n",
      "The headquarter of Interpol is located in Lyon.\n",
      "The headquarter of Stelco is located in Hamilton.\n",
      "The headquarter of {} is located in\n",
      "tensor(44.5312, device='cuda:0', dtype=torch.float16) tensor(159.2500, device='cuda:0', dtype=torch.float16)\n",
      "\n",
      "subject:  Stelco\n",
      "The headquarter of Interpol is located in Lyon.\n",
      "The headquarter of Serono is located in Geneva.\n",
      "The headquarter of SoundCloud is located in Berlin.\n",
      "The headquarter of {} is located in\n",
      "tensor(30.1250, device='cuda:0', dtype=torch.float16) tensor(276.5000, device='cuda:0', dtype=torch.float16)\n",
      "\n",
      "subject:  SoundCloud\n",
      "The headquarter of Serono is located in Geneva.\n",
      "The headquarter of Stelco is located in Hamilton.\n",
      "The headquarter of Interpol is located in Lyon.\n",
      "The headquarter of {} is located in\n",
      "tensor(37.7188, device='cuda:0', dtype=torch.float16) tensor(187.8750, device='cuda:0', dtype=torch.float16)\n",
      "\n",
      "subject:  Interpol\n",
      "The headquarter of Lenovo is located in Beijing.\n",
      "The headquarter of Serono is located in Geneva.\n",
      "The headquarter of SoundCloud is located in Berlin.\n",
      "The headquarter of {} is located in\n",
      "tensor(50.9688, device='cuda:0', dtype=torch.float16) tensor(165.5000, device='cuda:0', dtype=torch.float16)\n",
      "\n",
      "subject:  Serono\n",
      "The headquarter of Interpol is located in Lyon.\n",
      "The headquarter of Lenovo is located in Beijing.\n",
      "The headquarter of SoundCloud is located in Berlin.\n",
      "The headquarter of {} is located in\n",
      "tensor(43.4062, device='cuda:0', dtype=torch.float16) tensor(148.1250, device='cuda:0', dtype=torch.float16)\n",
      "\n"
     ]
    },
    {
     "data": {
      "application/vnd.jupyter.widget-view+json": {
       "model_id": "c5b56e8c3df446549efb9638ac59afe0",
       "version_major": 2,
       "version_minor": 0
      },
      "text/plain": [
       "  0%|          | 0/5 [00:00<?, ?it/s]"
      ]
     },
     "metadata": {},
     "output_type": "display_data"
    },
    {
     "name": "stdout",
     "output_type": "stream",
     "text": [
      "subject:  The Weather Channel\n",
      "The headquarter of United Airlines is located in Chicago.\n",
      "The headquarter of ChemAxon is located in Budapest.\n",
      "The headquarter of SoundCloud is located in Berlin.\n",
      "The headquarter of {} is located in\n",
      "tensor(34.2188, device='cuda:0', dtype=torch.float16) tensor(169.8750, device='cuda:0', dtype=torch.float16)\n",
      "\n",
      "subject:  SoundCloud\n",
      "The headquarter of ChemAxon is located in Budapest.\n",
      "The headquarter of The Weather Channel is located in Atlanta.\n",
      "The headquarter of LG Chem is located in Seoul.\n",
      "The headquarter of {} is located in\n",
      "tensor(42.4375, device='cuda:0', dtype=torch.float16) tensor(186.5000, device='cuda:0', dtype=torch.float16)\n",
      "\n",
      "subject:  United Airlines\n",
      "The headquarter of LG Chem is located in Seoul.\n",
      "The headquarter of SoundCloud is located in Berlin.\n",
      "The headquarter of ChemAxon is located in Budapest.\n",
      "The headquarter of {} is located in\n",
      "tensor(42.6562, device='cuda:0', dtype=torch.float16) tensor(183.2500, device='cuda:0', dtype=torch.float16)\n",
      "\n",
      "subject:  ChemAxon\n",
      "The headquarter of LG Chem is located in Seoul.\n",
      "The headquarter of United Airlines is located in Chicago.\n",
      "The headquarter of SoundCloud is located in Berlin.\n",
      "The headquarter of {} is located in\n",
      "tensor(33.1562, device='cuda:0', dtype=torch.float16) tensor(168.7500, device='cuda:0', dtype=torch.float16)\n",
      "\n",
      "subject:  LG Chem\n",
      "The headquarter of ChemAxon is located in Budapest.\n",
      "The headquarter of SoundCloud is located in Berlin.\n",
      "The headquarter of The Weather Channel is located in Atlanta.\n",
      "The headquarter of {} is located in\n",
      "tensor(24.4219, device='cuda:0', dtype=torch.float16) tensor(188.1250, device='cuda:0', dtype=torch.float16)\n",
      "\n"
     ]
    },
    {
     "data": {
      "application/vnd.jupyter.widget-view+json": {
       "model_id": "bf48a9f9b9b9440da4360d8a1dc24485",
       "version_major": 2,
       "version_minor": 0
      },
      "text/plain": [
       "  0%|          | 0/5 [00:00<?, ?it/s]"
      ]
     },
     "metadata": {},
     "output_type": "display_data"
    },
    {
     "name": "stdout",
     "output_type": "stream",
     "text": [
      "subject:  ChemAxon\n",
      "The headquarter of LG Chem is located in Seoul.\n",
      "The headquarter of Interpol is located in Lyon.\n",
      "The headquarter of Serono is located in Geneva.\n",
      "The headquarter of {} is located in\n",
      "tensor(35.3750, device='cuda:0', dtype=torch.float16) tensor(166.1250, device='cuda:0', dtype=torch.float16)\n",
      "\n",
      "subject:  Serono\n",
      "The headquarter of SoundCloud is located in Berlin.\n",
      "The headquarter of ChemAxon is located in Budapest.\n",
      "The headquarter of LG Chem is located in Seoul.\n",
      "The headquarter of {} is located in\n",
      "tensor(43.7500, device='cuda:0', dtype=torch.float16) tensor(152.5000, device='cuda:0', dtype=torch.float16)\n",
      "\n",
      "subject:  SoundCloud\n",
      "The headquarter of ChemAxon is located in Budapest.\n",
      "The headquarter of LG Chem is located in Seoul.\n",
      "The headquarter of Serono is located in Geneva.\n",
      "The headquarter of {} is located in\n",
      "tensor(41.7812, device='cuda:0', dtype=torch.float16) tensor(196.8750, device='cuda:0', dtype=torch.float16)\n",
      "\n",
      "subject:  LG Chem\n",
      "The headquarter of Serono is located in Geneva.\n",
      "The headquarter of ChemAxon is located in Budapest.\n",
      "The headquarter of Interpol is located in Lyon.\n",
      "The headquarter of {} is located in\n",
      "tensor(28.7656, device='cuda:0', dtype=torch.float16) tensor(207., device='cuda:0', dtype=torch.float16)\n",
      "\n",
      "subject:  Interpol\n",
      "The headquarter of ChemAxon is located in Budapest.\n",
      "The headquarter of LG Chem is located in Seoul.\n",
      "The headquarter of SoundCloud is located in Berlin.\n",
      "The headquarter of {} is located in\n",
      "tensor(52.9375, device='cuda:0', dtype=torch.float16) tensor(178.6250, device='cuda:0', dtype=torch.float16)\n",
      "\n"
     ]
    },
    {
     "data": {
      "application/vnd.jupyter.widget-view+json": {
       "model_id": "b38b6ea332f34253b2635d8577816253",
       "version_major": 2,
       "version_minor": 0
      },
      "text/plain": [
       "  0%|          | 0/5 [00:00<?, ?it/s]"
      ]
     },
     "metadata": {},
     "output_type": "display_data"
    },
    {
     "name": "stdout",
     "output_type": "stream",
     "text": [
      "subject:  Lenovo\n",
      "The headquarter of LG Chem is located in Seoul.\n",
      "The headquarter of SoundCloud is located in Berlin.\n",
      "The headquarter of The Weather Channel is located in Atlanta.\n",
      "The headquarter of {} is located in\n",
      "tensor(46.2812, device='cuda:0', dtype=torch.float16) tensor(150.2500, device='cuda:0', dtype=torch.float16)\n",
      "\n",
      "subject:  Interpol\n",
      "The headquarter of SoundCloud is located in Berlin.\n",
      "The headquarter of LG Chem is located in Seoul.\n",
      "The headquarter of The Weather Channel is located in Atlanta.\n",
      "The headquarter of {} is located in\n",
      "tensor(53.9688, device='cuda:0', dtype=torch.float16) tensor(162.6250, device='cuda:0', dtype=torch.float16)\n",
      "\n",
      "subject:  SoundCloud\n",
      "The headquarter of Interpol is located in Lyon.\n",
      "The headquarter of LG Chem is located in Seoul.\n",
      "The headquarter of Lenovo is located in Beijing.\n",
      "The headquarter of {} is located in\n",
      "tensor(39.5938, device='cuda:0', dtype=torch.float16) tensor(186.2500, device='cuda:0', dtype=torch.float16)\n",
      "\n",
      "subject:  LG Chem\n",
      "The headquarter of Lenovo is located in Beijing.\n",
      "The headquarter of The Weather Channel is located in Atlanta.\n",
      "The headquarter of Interpol is located in Lyon.\n",
      "The headquarter of {} is located in\n",
      "tensor(25.8594, device='cuda:0', dtype=torch.float16) tensor(201., device='cuda:0', dtype=torch.float16)\n",
      "\n",
      "subject:  The Weather Channel\n",
      "The headquarter of Lenovo is located in Beijing.\n",
      "The headquarter of Interpol is located in Lyon.\n",
      "The headquarter of SoundCloud is located in Berlin.\n",
      "The headquarter of {} is located in\n",
      "tensor(30.8438, device='cuda:0', dtype=torch.float16) tensor(175.8750, device='cuda:0', dtype=torch.float16)\n",
      "\n"
     ]
    },
    {
     "data": {
      "application/vnd.jupyter.widget-view+json": {
       "model_id": "8eb7d04b0cbe45919bed66391df2129d",
       "version_major": 2,
       "version_minor": 0
      },
      "text/plain": [
       "  0%|          | 0/5 [00:00<?, ?it/s]"
      ]
     },
     "metadata": {},
     "output_type": "display_data"
    },
    {
     "name": "stdout",
     "output_type": "stream",
     "text": [
      "subject:  Stelco\n",
      "The headquarter of LG Chem is located in Seoul.\n",
      "The headquarter of Ericsson is located in Stockholm.\n",
      "The headquarter of Serono is located in Geneva.\n",
      "The headquarter of {} is located in\n",
      "tensor(37.7812, device='cuda:0', dtype=torch.float16) tensor(192.3750, device='cuda:0', dtype=torch.float16)\n",
      "\n",
      "subject:  Serono\n",
      "The headquarter of Ericsson is located in Stockholm.\n",
      "The headquarter of SoundCloud is located in Berlin.\n",
      "The headquarter of LG Chem is located in Seoul.\n",
      "The headquarter of {} is located in\n",
      "tensor(44.8438, device='cuda:0', dtype=torch.float16) tensor(145., device='cuda:0', dtype=torch.float16)\n",
      "\n",
      "subject:  Ericsson\n",
      "The headquarter of Serono is located in Geneva.\n",
      "The headquarter of SoundCloud is located in Berlin.\n",
      "The headquarter of LG Chem is located in Seoul.\n",
      "The headquarter of {} is located in\n",
      "tensor(34.8750, device='cuda:0', dtype=torch.float16) tensor(167., device='cuda:0', dtype=torch.float16)\n",
      "\n",
      "subject:  LG Chem\n",
      "The headquarter of SoundCloud is located in Berlin.\n",
      "The headquarter of Serono is located in Geneva.\n",
      "The headquarter of Stelco is located in Hamilton.\n",
      "The headquarter of {} is located in\n",
      "tensor(27.6094, device='cuda:0', dtype=torch.float16) tensor(191.8750, device='cuda:0', dtype=torch.float16)\n",
      "\n",
      "subject:  SoundCloud\n",
      "The headquarter of Ericsson is located in Stockholm.\n",
      "The headquarter of Serono is located in Geneva.\n",
      "The headquarter of Stelco is located in Hamilton.\n",
      "The headquarter of {} is located in\n",
      "tensor(41.5312, device='cuda:0', dtype=torch.float16) tensor(182.5000, device='cuda:0', dtype=torch.float16)\n",
      "\n"
     ]
    },
    {
     "data": {
      "application/vnd.jupyter.widget-view+json": {
       "model_id": "ea0e89fa14d7450ab8483f4a54e01753",
       "version_major": 2,
       "version_minor": 0
      },
      "text/plain": [
       "  0%|          | 0/5 [00:00<?, ?it/s]"
      ]
     },
     "metadata": {},
     "output_type": "display_data"
    },
    {
     "name": "stdout",
     "output_type": "stream",
     "text": [
      "subject:  Stelco\n",
      "The headquarter of LG Chem is located in Seoul.\n",
      "The headquarter of The Weather Channel is located in Atlanta.\n",
      "The headquarter of SoundCloud is located in Berlin.\n",
      "The headquarter of {} is located in\n",
      "tensor(41.9375, device='cuda:0', dtype=torch.float16) tensor(179.6250, device='cuda:0', dtype=torch.float16)\n",
      "\n",
      "subject:  Ericsson\n",
      "The headquarter of LG Chem is located in Seoul.\n",
      "The headquarter of Stelco is located in Hamilton.\n",
      "The headquarter of SoundCloud is located in Berlin.\n",
      "The headquarter of {} is located in\n",
      "tensor(36.6875, device='cuda:0', dtype=torch.float16) tensor(174.7500, device='cuda:0', dtype=torch.float16)\n",
      "\n",
      "subject:  The Weather Channel\n",
      "The headquarter of Ericsson is located in Stockholm.\n",
      "The headquarter of LG Chem is located in Seoul.\n",
      "The headquarter of Stelco is located in Hamilton.\n",
      "The headquarter of {} is located in\n",
      "tensor(35.5625, device='cuda:0', dtype=torch.float16) tensor(166.7500, device='cuda:0', dtype=torch.float16)\n",
      "\n",
      "subject:  LG Chem\n",
      "The headquarter of The Weather Channel is located in Atlanta.\n",
      "The headquarter of Ericsson is located in Stockholm.\n",
      "The headquarter of Stelco is located in Hamilton.\n",
      "The headquarter of {} is located in\n",
      "tensor(24.3594, device='cuda:0', dtype=torch.float16) tensor(182.5000, device='cuda:0', dtype=torch.float16)\n",
      "\n",
      "subject:  SoundCloud\n",
      "The headquarter of Ericsson is located in Stockholm.\n",
      "The headquarter of Stelco is located in Hamilton.\n",
      "The headquarter of The Weather Channel is located in Atlanta.\n",
      "The headquarter of {} is located in\n",
      "tensor(40.4062, device='cuda:0', dtype=torch.float16) tensor(176.8750, device='cuda:0', dtype=torch.float16)\n",
      "\n"
     ]
    },
    {
     "data": {
      "application/vnd.jupyter.widget-view+json": {
       "model_id": "4027e18fbfe6495fadd39a8adef84db9",
       "version_major": 2,
       "version_minor": 0
      },
      "text/plain": [
       "  0%|          | 0/5 [00:00<?, ?it/s]"
      ]
     },
     "metadata": {},
     "output_type": "display_data"
    },
    {
     "name": "stdout",
     "output_type": "stream",
     "text": [
      "subject:  United Airlines\n",
      "The headquarter of Ericsson is located in Stockholm.\n",
      "The headquarter of Lenovo is located in Beijing.\n",
      "The headquarter of Interpol is located in Lyon.\n",
      "The headquarter of {} is located in\n",
      "tensor(39.7812, device='cuda:0', dtype=torch.float16) tensor(186.6250, device='cuda:0', dtype=torch.float16)\n",
      "\n",
      "subject:  Interpol\n",
      "The headquarter of United Airlines is located in Chicago.\n",
      "The headquarter of Lenovo is located in Beijing.\n",
      "The headquarter of Ericsson is located in Stockholm.\n",
      "The headquarter of {} is located in\n",
      "tensor(49.7188, device='cuda:0', dtype=torch.float16) tensor(153.8750, device='cuda:0', dtype=torch.float16)\n",
      "\n",
      "subject:  Lenovo\n",
      "The headquarter of Stelco is located in Hamilton.\n",
      "The headquarter of Interpol is located in Lyon.\n",
      "The headquarter of United Airlines is located in Chicago.\n",
      "The headquarter of {} is located in\n",
      "tensor(44.6562, device='cuda:0', dtype=torch.float16) tensor(155.8750, device='cuda:0', dtype=torch.float16)\n",
      "\n",
      "subject:  Stelco\n",
      "The headquarter of Ericsson is located in Stockholm.\n",
      "The headquarter of Interpol is located in Lyon.\n",
      "The headquarter of Lenovo is located in Beijing.\n",
      "The headquarter of {} is located in\n",
      "tensor(36.4375, device='cuda:0', dtype=torch.float16) tensor(214.8750, device='cuda:0', dtype=torch.float16)\n",
      "\n",
      "subject:  Ericsson\n",
      "The headquarter of United Airlines is located in Chicago.\n",
      "The headquarter of Stelco is located in Hamilton.\n",
      "The headquarter of Interpol is located in Lyon.\n",
      "The headquarter of {} is located in\n",
      "tensor(36.1562, device='cuda:0', dtype=torch.float16) tensor(162., device='cuda:0', dtype=torch.float16)\n",
      "\n"
     ]
    },
    {
     "data": {
      "application/vnd.jupyter.widget-view+json": {
       "model_id": "e912bd449cca461bad35be4951081fef",
       "version_major": 2,
       "version_minor": 0
      },
      "text/plain": [
       "  0%|          | 0/5 [00:00<?, ?it/s]"
      ]
     },
     "metadata": {},
     "output_type": "display_data"
    },
    {
     "name": "stdout",
     "output_type": "stream",
     "text": [
      "subject:  LG Chem\n",
      "The headquarter of ChemAxon is located in Budapest.\n",
      "The headquarter of Stelco is located in Hamilton.\n",
      "The headquarter of SoundCloud is located in Berlin.\n",
      "The headquarter of {} is located in\n",
      "tensor(21.6875, device='cuda:0', dtype=torch.float16) tensor(195.1250, device='cuda:0', dtype=torch.float16)\n",
      "\n",
      "subject:  Stelco\n",
      "The headquarter of Lenovo is located in Beijing.\n",
      "The headquarter of LG Chem is located in Seoul.\n",
      "The headquarter of SoundCloud is located in Berlin.\n",
      "The headquarter of {} is located in\n",
      "tensor(36.6250, device='cuda:0', dtype=torch.float16) tensor(223.7500, device='cuda:0', dtype=torch.float16)\n",
      "\n",
      "subject:  SoundCloud\n",
      "The headquarter of ChemAxon is located in Budapest.\n",
      "The headquarter of Stelco is located in Hamilton.\n",
      "The headquarter of LG Chem is located in Seoul.\n",
      "The headquarter of {} is located in\n",
      "tensor(41.9062, device='cuda:0', dtype=torch.float16) tensor(207.7500, device='cuda:0', dtype=torch.float16)\n",
      "\n",
      "subject:  ChemAxon\n",
      "The headquarter of Stelco is located in Hamilton.\n",
      "The headquarter of LG Chem is located in Seoul.\n",
      "The headquarter of Lenovo is located in Beijing.\n",
      "The headquarter of {} is located in\n",
      "tensor(34.4062, device='cuda:0', dtype=torch.float16) tensor(182.7500, device='cuda:0', dtype=torch.float16)\n",
      "\n",
      "subject:  Lenovo\n",
      "The headquarter of SoundCloud is located in Berlin.\n",
      "The headquarter of Stelco is located in Hamilton.\n",
      "The headquarter of ChemAxon is located in Budapest.\n",
      "The headquarter of {} is located in\n",
      "tensor(47.3750, device='cuda:0', dtype=torch.float16) tensor(158.7500, device='cuda:0', dtype=torch.float16)\n",
      "\n"
     ]
    },
    {
     "data": {
      "application/vnd.jupyter.widget-view+json": {
       "model_id": "a6bc4a359fc04bbbbc9a5b921be4eaad",
       "version_major": 2,
       "version_minor": 0
      },
      "text/plain": [
       "  0%|          | 0/5 [00:00<?, ?it/s]"
      ]
     },
     "metadata": {},
     "output_type": "display_data"
    },
    {
     "name": "stdout",
     "output_type": "stream",
     "text": [
      "subject:  ChemAxon\n",
      "The headquarter of Lenovo is located in Beijing.\n",
      "The headquarter of Stelco is located in Hamilton.\n",
      "The headquarter of Ericsson is located in Stockholm.\n",
      "The headquarter of {} is located in\n",
      "tensor(31.6562, device='cuda:0', dtype=torch.float16) tensor(164., device='cuda:0', dtype=torch.float16)\n",
      "\n",
      "subject:  Ericsson\n",
      "The headquarter of The Weather Channel is located in Atlanta.\n",
      "The headquarter of Lenovo is located in Beijing.\n",
      "The headquarter of ChemAxon is located in Budapest.\n",
      "The headquarter of {} is located in\n",
      "tensor(35.2500, device='cuda:0', dtype=torch.float16) tensor(167., device='cuda:0', dtype=torch.float16)\n",
      "\n",
      "subject:  The Weather Channel\n",
      "The headquarter of ChemAxon is located in Budapest.\n",
      "The headquarter of Ericsson is located in Stockholm.\n",
      "The headquarter of Lenovo is located in Beijing.\n",
      "The headquarter of {} is located in\n",
      "tensor(31.2656, device='cuda:0', dtype=torch.float16) tensor(180.3750, device='cuda:0', dtype=torch.float16)\n",
      "\n",
      "subject:  Lenovo\n",
      "The headquarter of The Weather Channel is located in Atlanta.\n",
      "The headquarter of Stelco is located in Hamilton.\n",
      "The headquarter of ChemAxon is located in Budapest.\n",
      "The headquarter of {} is located in\n",
      "tensor(49.3750, device='cuda:0', dtype=torch.float16) tensor(151.8750, device='cuda:0', dtype=torch.float16)\n",
      "\n",
      "subject:  Stelco\n",
      "The headquarter of Lenovo is located in Beijing.\n",
      "The headquarter of ChemAxon is located in Budapest.\n",
      "The headquarter of Ericsson is located in Stockholm.\n",
      "The headquarter of {} is located in\n",
      "tensor(32.8438, device='cuda:0', dtype=torch.float16) tensor(238.2500, device='cuda:0', dtype=torch.float16)\n",
      "\n",
      "Saving weights and biases >>  gpt-j/jacobians_averaged_collection/P159.npz\n",
      "----------------------------------------------------\n",
      "zzzzzzzzzzzzzzzzzzzzzzzzzzzzzzzzzzzzzzzzzzzzzzzzzzzz\n",
      "P20 {} died in the city of\n",
      "zzzzzzzzzzzzzzzzzzzzzzzzzzzzzzzzzzzzzzzzzzzzzzzzzzzz\n",
      "144\n",
      "{} died in the city of\n"
     ]
    },
    {
     "data": {
      "application/vnd.jupyter.widget-view+json": {
       "model_id": "a5efdf9db702483084f776c6fffdd6bc",
       "version_major": 2,
       "version_minor": 0
      },
      "text/plain": [
       "  0%|          | 0/10 [00:00<?, ?it/s]"
      ]
     },
     "metadata": {},
     "output_type": "display_data"
    },
    {
     "data": {
      "application/vnd.jupyter.widget-view+json": {
       "model_id": "a83a195b880b4a5f9b5299c394d7caf1",
       "version_major": 2,
       "version_minor": 0
      },
      "text/plain": [
       "  0%|          | 0/5 [00:00<?, ?it/s]"
      ]
     },
     "metadata": {},
     "output_type": "display_data"
    },
    {
     "name": "stdout",
     "output_type": "stream",
     "text": [
      "subject:  Rosa Parks\n",
      "Francisco Franco died in the city of Madrid.\n",
      "Charles Cowper died in the city of London.\n",
      "Donatello died in the city of Florence.\n",
      "{} died in the city of\n",
      "tensor(15.3203, device='cuda:0', dtype=torch.float16) tensor(206.7500, device='cuda:0', dtype=torch.float16)\n",
      "\n",
      "subject:  Francisco Franco\n",
      "Fred Hampton died in the city of Chicago.\n",
      "Charles Cowper died in the city of London.\n",
      "Donatello died in the city of Florence.\n",
      "{} died in the city of\n",
      "tensor(4.5039, device='cuda:0', dtype=torch.float16) tensor(219.1250, device='cuda:0', dtype=torch.float16)\n",
      "\n",
      "subject:  Donatello\n",
      "Fred Hampton died in the city of Chicago.\n",
      "Rosa Parks died in the city of Detroit.\n",
      "Charles Cowper died in the city of London.\n",
      "{} died in the city of\n",
      "tensor(8.6094, device='cuda:0', dtype=torch.float16) tensor(253.3750, device='cuda:0', dtype=torch.float16)\n",
      "\n",
      "subject:  Charles Cowper\n",
      "Rosa Parks died in the city of Detroit.\n",
      "Francisco Franco died in the city of Madrid.\n",
      "Fred Hampton died in the city of Chicago.\n",
      "{} died in the city of\n",
      "tensor(12., device='cuda:0', dtype=torch.float16) tensor(362., device='cuda:0', dtype=torch.float16)\n",
      "\n",
      "subject:  Fred Hampton\n",
      "Rosa Parks died in the city of Detroit.\n",
      "Francisco Franco died in the city of Madrid.\n",
      "Donatello died in the city of Florence.\n",
      "{} died in the city of\n",
      "tensor(11.0938, device='cuda:0', dtype=torch.float16) tensor(165.3750, device='cuda:0', dtype=torch.float16)\n",
      "\n"
     ]
    },
    {
     "data": {
      "application/vnd.jupyter.widget-view+json": {
       "model_id": "8393d8ceeda04f9a8df0bdef87007e1f",
       "version_major": 2,
       "version_minor": 0
      },
      "text/plain": [
       "  0%|          | 0/5 [00:00<?, ?it/s]"
      ]
     },
     "metadata": {},
     "output_type": "display_data"
    },
    {
     "name": "stdout",
     "output_type": "stream",
     "text": [
      "subject:  Nicholas V\n",
      "Samuel Adams died in the city of Boston.\n",
      "Charles Cowper died in the city of London.\n",
      "Donatello died in the city of Florence.\n",
      "{} died in the city of\n",
      "tensor(16.9062, device='cuda:0', dtype=torch.float16) tensor(206.3750, device='cuda:0', dtype=torch.float16)\n",
      "\n",
      "subject:  Samuel Adams\n",
      "Donatello died in the city of Florence.\n",
      "Michael II died in the city of Constantinople.\n",
      "Charles Cowper died in the city of London.\n",
      "{} died in the city of\n",
      "tensor(5.4805, device='cuda:0', dtype=torch.float16) tensor(230., device='cuda:0', dtype=torch.float16)\n",
      "\n",
      "subject:  Donatello\n",
      "Samuel Adams died in the city of Boston.\n",
      "Nicholas V died in the city of Rome.\n",
      "Charles Cowper died in the city of London.\n",
      "{} died in the city of\n",
      "tensor(10.7266, device='cuda:0', dtype=torch.float16) tensor(206.3750, device='cuda:0', dtype=torch.float16)\n",
      "\n",
      "subject:  Michael II\n",
      "Nicholas V died in the city of Rome.\n",
      "Samuel Adams died in the city of Boston.\n",
      "Donatello died in the city of Florence.\n",
      "{} died in the city of\n",
      "tensor(14.5000, device='cuda:0', dtype=torch.float16) tensor(238., device='cuda:0', dtype=torch.float16)\n",
      "\n",
      "subject:  Charles Cowper\n",
      "Donatello died in the city of Florence.\n",
      "Nicholas V died in the city of Rome.\n",
      "Samuel Adams died in the city of Boston.\n",
      "{} died in the city of\n",
      "tensor(13.7812, device='cuda:0', dtype=torch.float16) tensor(302.2500, device='cuda:0', dtype=torch.float16)\n",
      "\n"
     ]
    },
    {
     "data": {
      "application/vnd.jupyter.widget-view+json": {
       "model_id": "947cf1dcaba34d119120fcb18d3d3bb9",
       "version_major": 2,
       "version_minor": 0
      },
      "text/plain": [
       "  0%|          | 0/5 [00:00<?, ?it/s]"
      ]
     },
     "metadata": {},
     "output_type": "display_data"
    },
    {
     "name": "stdout",
     "output_type": "stream",
     "text": [
      "subject:  Michael II\n",
      "Nicholas V died in the city of Rome.\n",
      "Samuel Adams died in the city of Boston.\n",
      "Charles Cowper died in the city of London.\n",
      "{} died in the city of\n",
      "tensor(10.1250, device='cuda:0', dtype=torch.float16) tensor(270.2500, device='cuda:0', dtype=torch.float16)\n",
      "\n",
      "subject:  Charles Cowper\n",
      "Rosa Parks died in the city of Detroit.\n",
      "Nicholas V died in the city of Rome.\n",
      "Samuel Adams died in the city of Boston.\n",
      "{} died in the city of\n",
      "tensor(13.4531, device='cuda:0', dtype=torch.float16) tensor(314.2500, device='cuda:0', dtype=torch.float16)\n",
      "\n",
      "subject:  Rosa Parks\n",
      "Nicholas V died in the city of Rome.\n",
      "Samuel Adams died in the city of Boston.\n",
      "Charles Cowper died in the city of London.\n",
      "{} died in the city of\n",
      "tensor(14.7969, device='cuda:0', dtype=torch.float16) tensor(220.7500, device='cuda:0', dtype=torch.float16)\n",
      "\n",
      "subject:  Samuel Adams\n",
      "Nicholas V died in the city of Rome.\n",
      "Michael II died in the city of Constantinople.\n",
      "Charles Cowper died in the city of London.\n",
      "{} died in the city of\n",
      "tensor(5.6914, device='cuda:0', dtype=torch.float16) tensor(238.5000, device='cuda:0', dtype=torch.float16)\n",
      "\n",
      "subject:  Nicholas V\n",
      "Charles Cowper died in the city of London.\n",
      "Michael II died in the city of Constantinople.\n",
      "Rosa Parks died in the city of Detroit.\n",
      "{} died in the city of\n",
      "tensor(14.4609, device='cuda:0', dtype=torch.float16) tensor(236.3750, device='cuda:0', dtype=torch.float16)\n",
      "\n"
     ]
    },
    {
     "data": {
      "application/vnd.jupyter.widget-view+json": {
       "model_id": "10dd3abe851249768fbaf542c0c767dd",
       "version_major": 2,
       "version_minor": 0
      },
      "text/plain": [
       "  0%|          | 0/5 [00:00<?, ?it/s]"
      ]
     },
     "metadata": {},
     "output_type": "display_data"
    },
    {
     "name": "stdout",
     "output_type": "stream",
     "text": [
      "subject:  Francisco Franco\n",
      "Donatello died in the city of Florence.\n",
      "Charles Cowper died in the city of London.\n",
      "Michael II died in the city of Constantinople.\n",
      "{} died in the city of\n",
      "tensor(4.9766, device='cuda:0', dtype=torch.float16) tensor(239.7500, device='cuda:0', dtype=torch.float16)\n",
      "\n",
      "subject:  Fred Hampton\n",
      "Charles Cowper died in the city of London.\n",
      "Francisco Franco died in the city of Madrid.\n",
      "Michael II died in the city of Constantinople.\n",
      "{} died in the city of\n",
      "tensor(8.7344, device='cuda:0', dtype=torch.float16) tensor(190., device='cuda:0', dtype=torch.float16)\n",
      "\n",
      "subject:  Donatello\n",
      "Francisco Franco died in the city of Madrid.\n",
      "Michael II died in the city of Constantinople.\n",
      "Fred Hampton died in the city of Chicago.\n",
      "{} died in the city of\n",
      "tensor(9.6250, device='cuda:0', dtype=torch.float16) tensor(201.3750, device='cuda:0', dtype=torch.float16)\n",
      "\n",
      "subject:  Michael II\n",
      "Charles Cowper died in the city of London.\n",
      "Donatello died in the city of Florence.\n",
      "Fred Hampton died in the city of Chicago.\n",
      "{} died in the city of\n",
      "tensor(9.9453, device='cuda:0', dtype=torch.float16) tensor(239.3750, device='cuda:0', dtype=torch.float16)\n",
      "\n",
      "subject:  Charles Cowper\n",
      "Francisco Franco died in the city of Madrid.\n",
      "Fred Hampton died in the city of Chicago.\n",
      "Donatello died in the city of Florence.\n",
      "{} died in the city of\n",
      "tensor(12.5703, device='cuda:0', dtype=torch.float16) tensor(344., device='cuda:0', dtype=torch.float16)\n",
      "\n"
     ]
    },
    {
     "data": {
      "application/vnd.jupyter.widget-view+json": {
       "model_id": "825139901f8348aea214a98fe6fa9583",
       "version_major": 2,
       "version_minor": 0
      },
      "text/plain": [
       "  0%|          | 0/5 [00:00<?, ?it/s]"
      ]
     },
     "metadata": {},
     "output_type": "display_data"
    },
    {
     "name": "stdout",
     "output_type": "stream",
     "text": [
      "subject:  Charles Cowper\n",
      "Samuel Adams died in the city of Boston.\n",
      "Rosa Parks died in the city of Detroit.\n",
      "Donatello died in the city of Florence.\n",
      "{} died in the city of\n",
      "tensor(12.4375, device='cuda:0', dtype=torch.float16) tensor(343.7500, device='cuda:0', dtype=torch.float16)\n",
      "\n",
      "subject:  Rosa Parks\n",
      "Charles Cowper died in the city of London.\n",
      "Donatello died in the city of Florence.\n",
      "Fred Hampton died in the city of Chicago.\n",
      "{} died in the city of\n",
      "tensor(20.0156, device='cuda:0', dtype=torch.float16) tensor(205.1250, device='cuda:0', dtype=torch.float16)\n",
      "\n",
      "subject:  Fred Hampton\n",
      "Donatello died in the city of Florence.\n",
      "Rosa Parks died in the city of Detroit.\n",
      "Charles Cowper died in the city of London.\n",
      "{} died in the city of\n",
      "tensor(8.4141, device='cuda:0', dtype=torch.float16) tensor(173.2500, device='cuda:0', dtype=torch.float16)\n",
      "\n",
      "subject:  Donatello\n",
      "Rosa Parks died in the city of Detroit.\n",
      "Samuel Adams died in the city of Boston.\n",
      "Fred Hampton died in the city of Chicago.\n",
      "{} died in the city of\n",
      "tensor(7.3047, device='cuda:0', dtype=torch.float16) tensor(262.7500, device='cuda:0', dtype=torch.float16)\n",
      "\n",
      "subject:  Samuel Adams\n",
      "Fred Hampton died in the city of Chicago.\n",
      "Charles Cowper died in the city of London.\n",
      "Rosa Parks died in the city of Detroit.\n",
      "{} died in the city of\n",
      "tensor(7.5273, device='cuda:0', dtype=torch.float16) tensor(202.7500, device='cuda:0', dtype=torch.float16)\n",
      "\n"
     ]
    },
    {
     "data": {
      "application/vnd.jupyter.widget-view+json": {
       "model_id": "462fa2593e034c61946fd93b1d95fd44",
       "version_major": 2,
       "version_minor": 0
      },
      "text/plain": [
       "  0%|          | 0/5 [00:00<?, ?it/s]"
      ]
     },
     "metadata": {},
     "output_type": "display_data"
    },
    {
     "name": "stdout",
     "output_type": "stream",
     "text": [
      "subject:  Charles Cowper\n",
      "Fred Hampton died in the city of Chicago.\n",
      "Nicholas V died in the city of Rome.\n",
      "Rosa Parks died in the city of Detroit.\n",
      "{} died in the city of\n",
      "tensor(9.0312, device='cuda:0', dtype=torch.float16) tensor(368., device='cuda:0', dtype=torch.float16)\n",
      "\n",
      "subject:  Fred Hampton\n",
      "Nicholas V died in the city of Rome.\n",
      "Donatello died in the city of Florence.\n",
      "Rosa Parks died in the city of Detroit.\n",
      "{} died in the city of\n",
      "tensor(8.9453, device='cuda:0', dtype=torch.float16) tensor(163.8750, device='cuda:0', dtype=torch.float16)\n",
      "\n",
      "subject:  Rosa Parks\n",
      "Donatello died in the city of Florence.\n",
      "Nicholas V died in the city of Rome.\n",
      "Fred Hampton died in the city of Chicago.\n",
      "{} died in the city of\n",
      "tensor(20.9531, device='cuda:0', dtype=torch.float16) tensor(200.3750, device='cuda:0', dtype=torch.float16)\n",
      "\n",
      "subject:  Nicholas V\n",
      "Rosa Parks died in the city of Detroit.\n",
      "Charles Cowper died in the city of London.\n",
      "Fred Hampton died in the city of Chicago.\n",
      "{} died in the city of\n",
      "tensor(14.7969, device='cuda:0', dtype=torch.float16) tensor(257.2500, device='cuda:0', dtype=torch.float16)\n",
      "\n",
      "subject:  Donatello\n",
      "Nicholas V died in the city of Rome.\n",
      "Rosa Parks died in the city of Detroit.\n",
      "Fred Hampton died in the city of Chicago.\n",
      "{} died in the city of\n",
      "tensor(7.9297, device='cuda:0', dtype=torch.float16) tensor(239.1250, device='cuda:0', dtype=torch.float16)\n",
      "\n"
     ]
    },
    {
     "data": {
      "application/vnd.jupyter.widget-view+json": {
       "model_id": "c33c6937f1b148b7b530fe2fff3ac995",
       "version_major": 2,
       "version_minor": 0
      },
      "text/plain": [
       "  0%|          | 0/5 [00:00<?, ?it/s]"
      ]
     },
     "metadata": {},
     "output_type": "display_data"
    },
    {
     "name": "stdout",
     "output_type": "stream",
     "text": [
      "subject:  Samuel Adams\n",
      "Donatello died in the city of Florence.\n",
      "Charles Cowper died in the city of London.\n",
      "Nicholas V died in the city of Rome.\n",
      "{} died in the city of\n",
      "tensor(7.9336, device='cuda:0', dtype=torch.float16) tensor(213.5000, device='cuda:0', dtype=torch.float16)\n",
      "\n",
      "subject:  Donatello\n",
      "Charles Cowper died in the city of London.\n",
      "Nicholas V died in the city of Rome.\n",
      "Samuel Adams died in the city of Boston.\n",
      "{} died in the city of\n",
      "tensor(10.4219, device='cuda:0', dtype=torch.float16) tensor(197.3750, device='cuda:0', dtype=torch.float16)\n",
      "\n",
      "subject:  Rosa Parks\n",
      "Donatello died in the city of Florence.\n",
      "Charles Cowper died in the city of London.\n",
      "Nicholas V died in the city of Rome.\n",
      "{} died in the city of\n",
      "tensor(15.4766, device='cuda:0', dtype=torch.float16) tensor(207.7500, device='cuda:0', dtype=torch.float16)\n",
      "\n",
      "subject:  Nicholas V\n",
      "Donatello died in the city of Florence.\n",
      "Samuel Adams died in the city of Boston.\n",
      "Rosa Parks died in the city of Detroit.\n",
      "{} died in the city of\n",
      "tensor(14.2578, device='cuda:0', dtype=torch.float16) tensor(211., device='cuda:0', dtype=torch.float16)\n",
      "\n",
      "subject:  Charles Cowper\n",
      "Donatello died in the city of Florence.\n",
      "Nicholas V died in the city of Rome.\n",
      "Samuel Adams died in the city of Boston.\n",
      "{} died in the city of\n",
      "tensor(13.7812, device='cuda:0', dtype=torch.float16) tensor(302.2500, device='cuda:0', dtype=torch.float16)\n",
      "\n"
     ]
    },
    {
     "data": {
      "application/vnd.jupyter.widget-view+json": {
       "model_id": "a859cb9e14a1443991e27f29789764e2",
       "version_major": 2,
       "version_minor": 0
      },
      "text/plain": [
       "  0%|          | 0/5 [00:00<?, ?it/s]"
      ]
     },
     "metadata": {},
     "output_type": "display_data"
    },
    {
     "name": "stdout",
     "output_type": "stream",
     "text": [
      "subject:  Nicholas V\n",
      "Samuel Adams died in the city of Boston.\n",
      "Fred Hampton died in the city of Chicago.\n",
      "Charles Cowper died in the city of London.\n",
      "{} died in the city of\n",
      "tensor(14.3438, device='cuda:0', dtype=torch.float16) tensor(249.2500, device='cuda:0', dtype=torch.float16)\n",
      "\n",
      "subject:  Charles Cowper\n",
      "Fred Hampton died in the city of Chicago.\n",
      "Nicholas V died in the city of Rome.\n",
      "Michael II died in the city of Constantinople.\n",
      "{} died in the city of\n",
      "tensor(12.0938, device='cuda:0', dtype=torch.float16) tensor(300.2500, device='cuda:0', dtype=torch.float16)\n",
      "\n",
      "subject:  Samuel Adams\n",
      "Nicholas V died in the city of Rome.\n",
      "Charles Cowper died in the city of London.\n",
      "Michael II died in the city of Constantinople.\n",
      "{} died in the city of\n",
      "tensor(7.9492, device='cuda:0', dtype=torch.float16) tensor(268., device='cuda:0', dtype=torch.float16)\n",
      "\n",
      "subject:  Fred Hampton\n",
      "Samuel Adams died in the city of Boston.\n",
      "Nicholas V died in the city of Rome.\n",
      "Michael II died in the city of Constantinople.\n",
      "{} died in the city of\n",
      "tensor(8.8828, device='cuda:0', dtype=torch.float16) tensor(192., device='cuda:0', dtype=torch.float16)\n",
      "\n",
      "subject:  Michael II\n",
      "Fred Hampton died in the city of Chicago.\n",
      "Charles Cowper died in the city of London.\n",
      "Nicholas V died in the city of Rome.\n",
      "{} died in the city of\n",
      "tensor(15.4219, device='cuda:0', dtype=torch.float16) tensor(235.5000, device='cuda:0', dtype=torch.float16)\n",
      "\n"
     ]
    },
    {
     "data": {
      "application/vnd.jupyter.widget-view+json": {
       "model_id": "b678ca4c75bc4db1a6f82886c2a4691d",
       "version_major": 2,
       "version_minor": 0
      },
      "text/plain": [
       "  0%|          | 0/5 [00:00<?, ?it/s]"
      ]
     },
     "metadata": {},
     "output_type": "display_data"
    },
    {
     "name": "stdout",
     "output_type": "stream",
     "text": [
      "subject:  Samuel Adams\n",
      "Rosa Parks died in the city of Detroit.\n",
      "Nicholas V died in the city of Rome.\n",
      "Donatello died in the city of Florence.\n",
      "{} died in the city of\n",
      "tensor(7.4141, device='cuda:0', dtype=torch.float16) tensor(188.7500, device='cuda:0', dtype=torch.float16)\n",
      "\n",
      "subject:  Donatello\n",
      "Charles Cowper died in the city of London.\n",
      "Nicholas V died in the city of Rome.\n",
      "Rosa Parks died in the city of Detroit.\n",
      "{} died in the city of\n",
      "tensor(7.9062, device='cuda:0', dtype=torch.float16) tensor(213.3750, device='cuda:0', dtype=torch.float16)\n",
      "\n",
      "subject:  Nicholas V\n",
      "Samuel Adams died in the city of Boston.\n",
      "Rosa Parks died in the city of Detroit.\n",
      "Donatello died in the city of Florence.\n",
      "{} died in the city of\n",
      "tensor(15.2656, device='cuda:0', dtype=torch.float16) tensor(208.3750, device='cuda:0', dtype=torch.float16)\n",
      "\n",
      "subject:  Rosa Parks\n",
      "Samuel Adams died in the city of Boston.\n",
      "Donatello died in the city of Florence.\n",
      "Charles Cowper died in the city of London.\n",
      "{} died in the city of\n",
      "tensor(15.0234, device='cuda:0', dtype=torch.float16) tensor(209.5000, device='cuda:0', dtype=torch.float16)\n",
      "\n",
      "subject:  Charles Cowper\n",
      "Rosa Parks died in the city of Detroit.\n",
      "Donatello died in the city of Florence.\n",
      "Nicholas V died in the city of Rome.\n",
      "{} died in the city of\n",
      "tensor(14.6328, device='cuda:0', dtype=torch.float16) tensor(304.7500, device='cuda:0', dtype=torch.float16)\n",
      "\n"
     ]
    },
    {
     "data": {
      "application/vnd.jupyter.widget-view+json": {
       "model_id": "5793b6941b0845e69cd2fb6e3708091f",
       "version_major": 2,
       "version_minor": 0
      },
      "text/plain": [
       "  0%|          | 0/5 [00:00<?, ?it/s]"
      ]
     },
     "metadata": {},
     "output_type": "display_data"
    },
    {
     "name": "stdout",
     "output_type": "stream",
     "text": [
      "subject:  Francisco Franco\n",
      "Charles Cowper died in the city of London.\n",
      "Nicholas V died in the city of Rome.\n",
      "Donatello died in the city of Florence.\n",
      "{} died in the city of\n",
      "tensor(4.3164, device='cuda:0', dtype=torch.float16) tensor(211.2500, device='cuda:0', dtype=torch.float16)\n",
      "\n",
      "subject:  Charles Cowper\n",
      "Nicholas V died in the city of Rome.\n",
      "Fred Hampton died in the city of Chicago.\n",
      "Francisco Franco died in the city of Madrid.\n",
      "{} died in the city of\n",
      "tensor(17.0312, device='cuda:0', dtype=torch.float16) tensor(316.7500, device='cuda:0', dtype=torch.float16)\n",
      "\n",
      "subject:  Fred Hampton\n",
      "Nicholas V died in the city of Rome.\n",
      "Donatello died in the city of Florence.\n",
      "Francisco Franco died in the city of Madrid.\n",
      "{} died in the city of\n",
      "tensor(9.6406, device='cuda:0', dtype=torch.float16) tensor(176.3750, device='cuda:0', dtype=torch.float16)\n",
      "\n",
      "subject:  Donatello\n",
      "Francisco Franco died in the city of Madrid.\n",
      "Charles Cowper died in the city of London.\n",
      "Nicholas V died in the city of Rome.\n",
      "{} died in the city of\n",
      "tensor(10.0703, device='cuda:0', dtype=torch.float16) tensor(195.1250, device='cuda:0', dtype=torch.float16)\n",
      "\n",
      "subject:  Nicholas V\n",
      "Donatello died in the city of Florence.\n",
      "Fred Hampton died in the city of Chicago.\n",
      "Francisco Franco died in the city of Madrid.\n",
      "{} died in the city of\n",
      "tensor(16.3906, device='cuda:0', dtype=torch.float16) tensor(196.6250, device='cuda:0', dtype=torch.float16)\n",
      "\n",
      "Saving weights and biases >>  gpt-j/jacobians_averaged_collection/P20.npz\n",
      "----------------------------------------------------\n",
      "zzzzzzzzzzzzzzzzzzzzzzzzzzzzzzzzzzzzzzzzzzzzzzzzzzzz\n",
      "P106 The profession of {} is\n",
      "zzzzzzzzzzzzzzzzzzzzzzzzzzzzzzzzzzzzzzzzzzzzzzzzzzzz\n",
      "233\n",
      "The profession of {} is\n"
     ]
    },
    {
     "data": {
      "application/vnd.jupyter.widget-view+json": {
       "model_id": "5a26e8a63a184831bdbbe7e2d773caa9",
       "version_major": 2,
       "version_minor": 0
      },
      "text/plain": [
       "  0%|          | 0/10 [00:00<?, ?it/s]"
      ]
     },
     "metadata": {},
     "output_type": "display_data"
    },
    {
     "data": {
      "application/vnd.jupyter.widget-view+json": {
       "model_id": "64421a5aead7491fbb5eb1f22b00892e",
       "version_major": 2,
       "version_minor": 0
      },
      "text/plain": [
       "  0%|          | 0/2 [00:00<?, ?it/s]"
      ]
     },
     "metadata": {},
     "output_type": "display_data"
    },
    {
     "name": "stdout",
     "output_type": "stream",
     "text": [
      "subject:  Lucha Villa\n",
      "The profession of Cigoli is architect.\n",
      "The profession of {} is\n",
      "tensor(1.9912, device='cuda:0', dtype=torch.float16) tensor(418.2500, device='cuda:0', dtype=torch.float16)\n",
      "\n",
      "subject:  Cigoli\n",
      "The profession of Lucha Villa is actor.\n",
      "The profession of {} is\n",
      "tensor(4.8359, device='cuda:0', dtype=torch.float16) tensor(416.2500, device='cuda:0', dtype=torch.float16)\n",
      "\n"
     ]
    },
    {
     "data": {
      "application/vnd.jupyter.widget-view+json": {
       "model_id": "624cde03950b43dd9e6214884e17ac27",
       "version_major": 2,
       "version_minor": 0
      },
      "text/plain": [
       "  0%|          | 0/2 [00:00<?, ?it/s]"
      ]
     },
     "metadata": {},
     "output_type": "display_data"
    },
    {
     "name": "stdout",
     "output_type": "stream",
     "text": [
      "subject:  Cigoli\n",
      "The profession of Lucha Villa is actor.\n",
      "The profession of {} is\n",
      "tensor(4.8359, device='cuda:0', dtype=torch.float16) tensor(416.2500, device='cuda:0', dtype=torch.float16)\n",
      "\n",
      "subject:  Lucha Villa\n",
      "The profession of Cigoli is architect.\n",
      "The profession of {} is\n",
      "tensor(1.9912, device='cuda:0', dtype=torch.float16) tensor(418.2500, device='cuda:0', dtype=torch.float16)\n",
      "\n"
     ]
    },
    {
     "data": {
      "application/vnd.jupyter.widget-view+json": {
       "model_id": "0e52e8c35db3439f86b8acda7d7f2400",
       "version_major": 2,
       "version_minor": 0
      },
      "text/plain": [
       "  0%|          | 0/2 [00:00<?, ?it/s]"
      ]
     },
     "metadata": {},
     "output_type": "display_data"
    },
    {
     "name": "stdout",
     "output_type": "stream",
     "text": [
      "subject:  Cigoli\n",
      "The profession of Lucha Villa is actor.\n",
      "The profession of {} is\n",
      "tensor(4.8359, device='cuda:0', dtype=torch.float16) tensor(416.2500, device='cuda:0', dtype=torch.float16)\n",
      "\n",
      "subject:  Lucha Villa\n",
      "The profession of Cigoli is architect.\n",
      "The profession of {} is\n",
      "tensor(1.9912, device='cuda:0', dtype=torch.float16) tensor(418.2500, device='cuda:0', dtype=torch.float16)\n",
      "\n"
     ]
    },
    {
     "data": {
      "application/vnd.jupyter.widget-view+json": {
       "model_id": "c684e6d825724c7ca9080c8b00dbb8e4",
       "version_major": 2,
       "version_minor": 0
      },
      "text/plain": [
       "  0%|          | 0/2 [00:00<?, ?it/s]"
      ]
     },
     "metadata": {},
     "output_type": "display_data"
    },
    {
     "name": "stdout",
     "output_type": "stream",
     "text": [
      "subject:  Cigoli\n",
      "The profession of Lucha Villa is actor.\n",
      "The profession of {} is\n",
      "tensor(4.8359, device='cuda:0', dtype=torch.float16) tensor(416.2500, device='cuda:0', dtype=torch.float16)\n",
      "\n",
      "subject:  Lucha Villa\n",
      "The profession of Cigoli is architect.\n",
      "The profession of {} is\n",
      "tensor(1.9912, device='cuda:0', dtype=torch.float16) tensor(418.2500, device='cuda:0', dtype=torch.float16)\n",
      "\n"
     ]
    },
    {
     "data": {
      "application/vnd.jupyter.widget-view+json": {
       "model_id": "5dc85a44da754a4aad6ecce6f0caad26",
       "version_major": 2,
       "version_minor": 0
      },
      "text/plain": [
       "  0%|          | 0/2 [00:00<?, ?it/s]"
      ]
     },
     "metadata": {},
     "output_type": "display_data"
    },
    {
     "name": "stdout",
     "output_type": "stream",
     "text": [
      "subject:  Cigoli\n",
      "The profession of Lucha Villa is actor.\n",
      "The profession of {} is\n",
      "tensor(4.8359, device='cuda:0', dtype=torch.float16) tensor(416.2500, device='cuda:0', dtype=torch.float16)\n",
      "\n",
      "subject:  Lucha Villa\n",
      "The profession of Cigoli is architect.\n",
      "The profession of {} is\n",
      "tensor(1.9912, device='cuda:0', dtype=torch.float16) tensor(418.2500, device='cuda:0', dtype=torch.float16)\n",
      "\n"
     ]
    },
    {
     "data": {
      "application/vnd.jupyter.widget-view+json": {
       "model_id": "8241a12e4db34acc8521cc22543bd716",
       "version_major": 2,
       "version_minor": 0
      },
      "text/plain": [
       "  0%|          | 0/2 [00:00<?, ?it/s]"
      ]
     },
     "metadata": {},
     "output_type": "display_data"
    },
    {
     "name": "stdout",
     "output_type": "stream",
     "text": [
      "subject:  Lucha Villa\n",
      "The profession of Cigoli is architect.\n",
      "The profession of {} is\n",
      "tensor(1.9912, device='cuda:0', dtype=torch.float16) tensor(418.2500, device='cuda:0', dtype=torch.float16)\n",
      "\n",
      "subject:  Cigoli\n",
      "The profession of Lucha Villa is actor.\n",
      "The profession of {} is\n",
      "tensor(4.8359, device='cuda:0', dtype=torch.float16) tensor(416.2500, device='cuda:0', dtype=torch.float16)\n",
      "\n"
     ]
    },
    {
     "data": {
      "application/vnd.jupyter.widget-view+json": {
       "model_id": "7a77ec09bd3b4594abf1b327efc3ad60",
       "version_major": 2,
       "version_minor": 0
      },
      "text/plain": [
       "  0%|          | 0/2 [00:00<?, ?it/s]"
      ]
     },
     "metadata": {},
     "output_type": "display_data"
    },
    {
     "name": "stdout",
     "output_type": "stream",
     "text": [
      "subject:  Lucha Villa\n",
      "The profession of Cigoli is architect.\n",
      "The profession of {} is\n",
      "tensor(1.9912, device='cuda:0', dtype=torch.float16) tensor(418.2500, device='cuda:0', dtype=torch.float16)\n",
      "\n",
      "subject:  Cigoli\n",
      "The profession of Lucha Villa is actor.\n",
      "The profession of {} is\n",
      "tensor(4.8359, device='cuda:0', dtype=torch.float16) tensor(416.2500, device='cuda:0', dtype=torch.float16)\n",
      "\n"
     ]
    },
    {
     "data": {
      "application/vnd.jupyter.widget-view+json": {
       "model_id": "2fac5cd79182427cb983006f0fc94e8d",
       "version_major": 2,
       "version_minor": 0
      },
      "text/plain": [
       "  0%|          | 0/2 [00:00<?, ?it/s]"
      ]
     },
     "metadata": {},
     "output_type": "display_data"
    },
    {
     "name": "stdout",
     "output_type": "stream",
     "text": [
      "subject:  Cigoli\n",
      "The profession of Lucha Villa is actor.\n",
      "The profession of {} is\n",
      "tensor(4.8359, device='cuda:0', dtype=torch.float16) tensor(416.2500, device='cuda:0', dtype=torch.float16)\n",
      "\n",
      "subject:  Lucha Villa\n",
      "The profession of Cigoli is architect.\n",
      "The profession of {} is\n",
      "tensor(1.9912, device='cuda:0', dtype=torch.float16) tensor(418.2500, device='cuda:0', dtype=torch.float16)\n",
      "\n"
     ]
    },
    {
     "data": {
      "application/vnd.jupyter.widget-view+json": {
       "model_id": "ec0a7a2d1ef94bde9999050431873ded",
       "version_major": 2,
       "version_minor": 0
      },
      "text/plain": [
       "  0%|          | 0/2 [00:00<?, ?it/s]"
      ]
     },
     "metadata": {},
     "output_type": "display_data"
    },
    {
     "name": "stdout",
     "output_type": "stream",
     "text": [
      "subject:  Lucha Villa\n",
      "The profession of Cigoli is architect.\n",
      "The profession of {} is\n",
      "tensor(1.9912, device='cuda:0', dtype=torch.float16) tensor(418.2500, device='cuda:0', dtype=torch.float16)\n",
      "\n",
      "subject:  Cigoli\n",
      "The profession of Lucha Villa is actor.\n",
      "The profession of {} is\n",
      "tensor(4.8359, device='cuda:0', dtype=torch.float16) tensor(416.2500, device='cuda:0', dtype=torch.float16)\n",
      "\n"
     ]
    },
    {
     "data": {
      "application/vnd.jupyter.widget-view+json": {
       "model_id": "31d32a292fef4b41824261823fe62a14",
       "version_major": 2,
       "version_minor": 0
      },
      "text/plain": [
       "  0%|          | 0/2 [00:00<?, ?it/s]"
      ]
     },
     "metadata": {},
     "output_type": "display_data"
    },
    {
     "name": "stdout",
     "output_type": "stream",
     "text": [
      "subject:  Lucha Villa\n",
      "The profession of Cigoli is architect.\n",
      "The profession of {} is\n",
      "tensor(1.9912, device='cuda:0', dtype=torch.float16) tensor(418.2500, device='cuda:0', dtype=torch.float16)\n",
      "\n",
      "subject:  Cigoli\n",
      "The profession of Lucha Villa is actor.\n",
      "The profession of {} is\n",
      "tensor(4.8359, device='cuda:0', dtype=torch.float16) tensor(416.2500, device='cuda:0', dtype=torch.float16)\n",
      "\n",
      "Saving weights and biases >>  gpt-j/jacobians_averaged_collection/P106.npz\n",
      "----------------------------------------------------\n",
      "zzzzzzzzzzzzzzzzzzzzzzzzzzzzzzzzzzzzzzzzzzzzzzzzzzzz\n",
      "P30 {} is located in the continent of\n",
      "zzzzzzzzzzzzzzzzzzzzzzzzzzzzzzzzzzzzzzzzzzzzzzzzzzzz\n",
      "456\n",
      "{} is located in the continent of\n"
     ]
    },
    {
     "data": {
      "application/vnd.jupyter.widget-view+json": {
       "model_id": "5831e1830d7f4c55bb12283a993a2bd7",
       "version_major": 2,
       "version_minor": 0
      },
      "text/plain": [
       "  0%|          | 0/10 [00:00<?, ?it/s]"
      ]
     },
     "metadata": {},
     "output_type": "display_data"
    },
    {
     "data": {
      "application/vnd.jupyter.widget-view+json": {
       "model_id": "fb69a9b1cb794485975c7e2b82c54758",
       "version_major": 2,
       "version_minor": 0
      },
      "text/plain": [
       "  0%|          | 0/4 [00:00<?, ?it/s]"
      ]
     },
     "metadata": {},
     "output_type": "display_data"
    },
    {
     "name": "stdout",
     "output_type": "stream",
     "text": [
      "subject:  English Channel\n",
      "Chad Basin is located in the continent of Africa.\n",
      "Romulus Glacier is located in the continent of Antarctica.\n",
      "Ma River is located in the continent of Asia.\n",
      "{} is located in the continent of\n",
      "tensor(5.9688, device='cuda:0', dtype=torch.float16) tensor(245.1250, device='cuda:0', dtype=torch.float16)\n",
      "\n",
      "subject:  Chad Basin\n",
      "Romulus Glacier is located in the continent of Antarctica.\n",
      "English Channel is located in the continent of Europe.\n",
      "Ma River is located in the continent of Asia.\n",
      "{} is located in the continent of\n",
      "tensor(21.2969, device='cuda:0', dtype=torch.float16) tensor(252., device='cuda:0', dtype=torch.float16)\n",
      "\n",
      "subject:  Romulus Glacier\n",
      "Chad Basin is located in the continent of Africa.\n",
      "Ma River is located in the continent of Asia.\n",
      "English Channel is located in the continent of Europe.\n",
      "{} is located in the continent of\n",
      "tensor(7.8711, device='cuda:0', dtype=torch.float16) tensor(262.5000, device='cuda:0', dtype=torch.float16)\n",
      "\n",
      "subject:  Ma River\n",
      "Romulus Glacier is located in the continent of Antarctica.\n",
      "Chad Basin is located in the continent of Africa.\n",
      "English Channel is located in the continent of Europe.\n",
      "{} is located in the continent of\n",
      "tensor(8.1094, device='cuda:0', dtype=torch.float16) tensor(258.2500, device='cuda:0', dtype=torch.float16)\n",
      "\n"
     ]
    },
    {
     "data": {
      "application/vnd.jupyter.widget-view+json": {
       "model_id": "1621c8de0b21496ea9c8e68715f4cf34",
       "version_major": 2,
       "version_minor": 0
      },
      "text/plain": [
       "  0%|          | 0/4 [00:00<?, ?it/s]"
      ]
     },
     "metadata": {},
     "output_type": "display_data"
    },
    {
     "name": "stdout",
     "output_type": "stream",
     "text": [
      "subject:  Chad Basin\n",
      "English Channel is located in the continent of Europe.\n",
      "Romulus Glacier is located in the continent of Antarctica.\n",
      "Ma River is located in the continent of Asia.\n",
      "{} is located in the continent of\n",
      "tensor(19.8438, device='cuda:0', dtype=torch.float16) tensor(269.2500, device='cuda:0', dtype=torch.float16)\n",
      "\n",
      "subject:  Ma River\n",
      "Romulus Glacier is located in the continent of Antarctica.\n",
      "English Channel is located in the continent of Europe.\n",
      "Chad Basin is located in the continent of Africa.\n",
      "{} is located in the continent of\n",
      "tensor(8.6719, device='cuda:0', dtype=torch.float16) tensor(242.8750, device='cuda:0', dtype=torch.float16)\n",
      "\n",
      "subject:  English Channel\n",
      "Romulus Glacier is located in the continent of Antarctica.\n",
      "Ma River is located in the continent of Asia.\n",
      "Chad Basin is located in the continent of Africa.\n",
      "{} is located in the continent of\n",
      "tensor(7.5742, device='cuda:0', dtype=torch.float16) tensor(265.7500, device='cuda:0', dtype=torch.float16)\n",
      "\n",
      "subject:  Romulus Glacier\n",
      "Ma River is located in the continent of Asia.\n",
      "Chad Basin is located in the continent of Africa.\n",
      "English Channel is located in the continent of Europe.\n",
      "{} is located in the continent of\n",
      "tensor(11.1875, device='cuda:0', dtype=torch.float16) tensor(247.5000, device='cuda:0', dtype=torch.float16)\n",
      "\n"
     ]
    },
    {
     "data": {
      "application/vnd.jupyter.widget-view+json": {
       "model_id": "704ed4a73eef4419803c1efe409a4801",
       "version_major": 2,
       "version_minor": 0
      },
      "text/plain": [
       "  0%|          | 0/4 [00:00<?, ?it/s]"
      ]
     },
     "metadata": {},
     "output_type": "display_data"
    },
    {
     "name": "stdout",
     "output_type": "stream",
     "text": [
      "subject:  Ma River\n",
      "Chad Basin is located in the continent of Africa.\n",
      "English Channel is located in the continent of Europe.\n",
      "Romulus Glacier is located in the continent of Antarctica.\n",
      "{} is located in the continent of\n",
      "tensor(6.8789, device='cuda:0', dtype=torch.float16) tensor(263.7500, device='cuda:0', dtype=torch.float16)\n",
      "\n",
      "subject:  Chad Basin\n",
      "English Channel is located in the continent of Europe.\n",
      "Ma River is located in the continent of Asia.\n",
      "Romulus Glacier is located in the continent of Antarctica.\n",
      "{} is located in the continent of\n",
      "tensor(17.0625, device='cuda:0', dtype=torch.float16) tensor(273.5000, device='cuda:0', dtype=torch.float16)\n",
      "\n",
      "subject:  English Channel\n",
      "Ma River is located in the continent of Asia.\n",
      "Romulus Glacier is located in the continent of Antarctica.\n",
      "Chad Basin is located in the continent of Africa.\n",
      "{} is located in the continent of\n",
      "tensor(6.5117, device='cuda:0', dtype=torch.float16) tensor(236.3750, device='cuda:0', dtype=torch.float16)\n",
      "\n",
      "subject:  Romulus Glacier\n",
      "English Channel is located in the continent of Europe.\n",
      "Chad Basin is located in the continent of Africa.\n",
      "Ma River is located in the continent of Asia.\n",
      "{} is located in the continent of\n",
      "tensor(8.5469, device='cuda:0', dtype=torch.float16) tensor(280.5000, device='cuda:0', dtype=torch.float16)\n",
      "\n"
     ]
    },
    {
     "data": {
      "application/vnd.jupyter.widget-view+json": {
       "model_id": "e4e8c52e637d417397e94b9d633b5907",
       "version_major": 2,
       "version_minor": 0
      },
      "text/plain": [
       "  0%|          | 0/4 [00:00<?, ?it/s]"
      ]
     },
     "metadata": {},
     "output_type": "display_data"
    },
    {
     "name": "stdout",
     "output_type": "stream",
     "text": [
      "subject:  Chad Basin\n",
      "English Channel is located in the continent of Europe.\n",
      "Ma River is located in the continent of Asia.\n",
      "Romulus Glacier is located in the continent of Antarctica.\n",
      "{} is located in the continent of\n",
      "tensor(17.0625, device='cuda:0', dtype=torch.float16) tensor(273.5000, device='cuda:0', dtype=torch.float16)\n",
      "\n",
      "subject:  Romulus Glacier\n",
      "Ma River is located in the continent of Asia.\n",
      "Chad Basin is located in the continent of Africa.\n",
      "English Channel is located in the continent of Europe.\n",
      "{} is located in the continent of\n",
      "tensor(11.1875, device='cuda:0', dtype=torch.float16) tensor(247.5000, device='cuda:0', dtype=torch.float16)\n",
      "\n",
      "subject:  Ma River\n",
      "Romulus Glacier is located in the continent of Antarctica.\n",
      "English Channel is located in the continent of Europe.\n",
      "Chad Basin is located in the continent of Africa.\n",
      "{} is located in the continent of\n",
      "tensor(8.6719, device='cuda:0', dtype=torch.float16) tensor(242.8750, device='cuda:0', dtype=torch.float16)\n",
      "\n",
      "subject:  English Channel\n",
      "Romulus Glacier is located in the continent of Antarctica.\n",
      "Ma River is located in the continent of Asia.\n",
      "Chad Basin is located in the continent of Africa.\n",
      "{} is located in the continent of\n",
      "tensor(7.5742, device='cuda:0', dtype=torch.float16) tensor(265.7500, device='cuda:0', dtype=torch.float16)\n",
      "\n"
     ]
    },
    {
     "data": {
      "application/vnd.jupyter.widget-view+json": {
       "model_id": "e85e804c497d415b8ac2040abbb1b9d7",
       "version_major": 2,
       "version_minor": 0
      },
      "text/plain": [
       "  0%|          | 0/4 [00:00<?, ?it/s]"
      ]
     },
     "metadata": {},
     "output_type": "display_data"
    },
    {
     "name": "stdout",
     "output_type": "stream",
     "text": [
      "subject:  Ma River\n",
      "Romulus Glacier is located in the continent of Antarctica.\n",
      "Chad Basin is located in the continent of Africa.\n",
      "English Channel is located in the continent of Europe.\n",
      "{} is located in the continent of\n",
      "tensor(8.1094, device='cuda:0', dtype=torch.float16) tensor(258.2500, device='cuda:0', dtype=torch.float16)\n",
      "\n",
      "subject:  Chad Basin\n",
      "Romulus Glacier is located in the continent of Antarctica.\n",
      "English Channel is located in the continent of Europe.\n",
      "Ma River is located in the continent of Asia.\n",
      "{} is located in the continent of\n",
      "tensor(21.2969, device='cuda:0', dtype=torch.float16) tensor(252., device='cuda:0', dtype=torch.float16)\n",
      "\n",
      "subject:  English Channel\n",
      "Romulus Glacier is located in the continent of Antarctica.\n",
      "Chad Basin is located in the continent of Africa.\n",
      "Ma River is located in the continent of Asia.\n",
      "{} is located in the continent of\n",
      "tensor(7.9727, device='cuda:0', dtype=torch.float16) tensor(254.6250, device='cuda:0', dtype=torch.float16)\n",
      "\n",
      "subject:  Romulus Glacier\n",
      "Chad Basin is located in the continent of Africa.\n",
      "Ma River is located in the continent of Asia.\n",
      "English Channel is located in the continent of Europe.\n",
      "{} is located in the continent of\n",
      "tensor(7.8711, device='cuda:0', dtype=torch.float16) tensor(262.5000, device='cuda:0', dtype=torch.float16)\n",
      "\n"
     ]
    },
    {
     "data": {
      "application/vnd.jupyter.widget-view+json": {
       "model_id": "d9385ce394b34b6db2c17a31ea278344",
       "version_major": 2,
       "version_minor": 0
      },
      "text/plain": [
       "  0%|          | 0/4 [00:00<?, ?it/s]"
      ]
     },
     "metadata": {},
     "output_type": "display_data"
    },
    {
     "name": "stdout",
     "output_type": "stream",
     "text": [
      "subject:  English Channel\n",
      "Ma River is located in the continent of Asia.\n",
      "Chad Basin is located in the continent of Africa.\n",
      "Romulus Glacier is located in the continent of Antarctica.\n",
      "{} is located in the continent of\n",
      "tensor(5.6797, device='cuda:0', dtype=torch.float16) tensor(241., device='cuda:0', dtype=torch.float16)\n",
      "\n",
      "subject:  Romulus Glacier\n",
      "Ma River is located in the continent of Asia.\n",
      "English Channel is located in the continent of Europe.\n",
      "Chad Basin is located in the continent of Africa.\n",
      "{} is located in the continent of\n",
      "tensor(12.4922, device='cuda:0', dtype=torch.float16) tensor(230.7500, device='cuda:0', dtype=torch.float16)\n",
      "\n",
      "subject:  Chad Basin\n",
      "English Channel is located in the continent of Europe.\n",
      "Romulus Glacier is located in the continent of Antarctica.\n",
      "Ma River is located in the continent of Asia.\n",
      "{} is located in the continent of\n",
      "tensor(19.8438, device='cuda:0', dtype=torch.float16) tensor(269.2500, device='cuda:0', dtype=torch.float16)\n",
      "\n",
      "subject:  Ma River\n",
      "English Channel is located in the continent of Europe.\n",
      "Romulus Glacier is located in the continent of Antarctica.\n",
      "Chad Basin is located in the continent of Africa.\n",
      "{} is located in the continent of\n",
      "tensor(8.1484, device='cuda:0', dtype=torch.float16) tensor(263.5000, device='cuda:0', dtype=torch.float16)\n",
      "\n"
     ]
    },
    {
     "data": {
      "application/vnd.jupyter.widget-view+json": {
       "model_id": "9de7d9b0ed21489b81c06981debd481f",
       "version_major": 2,
       "version_minor": 0
      },
      "text/plain": [
       "  0%|          | 0/4 [00:00<?, ?it/s]"
      ]
     },
     "metadata": {},
     "output_type": "display_data"
    },
    {
     "name": "stdout",
     "output_type": "stream",
     "text": [
      "subject:  Romulus Glacier\n",
      "Ma River is located in the continent of Asia.\n",
      "English Channel is located in the continent of Europe.\n",
      "Chad Basin is located in the continent of Africa.\n",
      "{} is located in the continent of\n",
      "tensor(12.4922, device='cuda:0', dtype=torch.float16) tensor(230.7500, device='cuda:0', dtype=torch.float16)\n",
      "\n",
      "subject:  Ma River\n",
      "English Channel is located in the continent of Europe.\n",
      "Chad Basin is located in the continent of Africa.\n",
      "Romulus Glacier is located in the continent of Antarctica.\n",
      "{} is located in the continent of\n",
      "tensor(7.9297, device='cuda:0', dtype=torch.float16) tensor(267.5000, device='cuda:0', dtype=torch.float16)\n",
      "\n",
      "subject:  Chad Basin\n",
      "Ma River is located in the continent of Asia.\n",
      "Romulus Glacier is located in the continent of Antarctica.\n",
      "English Channel is located in the continent of Europe.\n",
      "{} is located in the continent of\n",
      "tensor(23.7500, device='cuda:0', dtype=torch.float16) tensor(227.1250, device='cuda:0', dtype=torch.float16)\n",
      "\n",
      "subject:  English Channel\n",
      "Romulus Glacier is located in the continent of Antarctica.\n",
      "Ma River is located in the continent of Asia.\n",
      "Chad Basin is located in the continent of Africa.\n",
      "{} is located in the continent of\n",
      "tensor(7.5742, device='cuda:0', dtype=torch.float16) tensor(265.7500, device='cuda:0', dtype=torch.float16)\n",
      "\n"
     ]
    },
    {
     "data": {
      "application/vnd.jupyter.widget-view+json": {
       "model_id": "deff4dbfcc3c42768861773af2e2b3c5",
       "version_major": 2,
       "version_minor": 0
      },
      "text/plain": [
       "  0%|          | 0/4 [00:00<?, ?it/s]"
      ]
     },
     "metadata": {},
     "output_type": "display_data"
    },
    {
     "name": "stdout",
     "output_type": "stream",
     "text": [
      "subject:  Ma River\n",
      "Romulus Glacier is located in the continent of Antarctica.\n",
      "English Channel is located in the continent of Europe.\n",
      "Chad Basin is located in the continent of Africa.\n",
      "{} is located in the continent of\n",
      "tensor(8.6719, device='cuda:0', dtype=torch.float16) tensor(242.8750, device='cuda:0', dtype=torch.float16)\n",
      "\n",
      "subject:  Romulus Glacier\n",
      "Chad Basin is located in the continent of Africa.\n",
      "English Channel is located in the continent of Europe.\n",
      "Ma River is located in the continent of Asia.\n",
      "{} is located in the continent of\n",
      "tensor(7.4844, device='cuda:0', dtype=torch.float16) tensor(276.5000, device='cuda:0', dtype=torch.float16)\n",
      "\n",
      "subject:  English Channel\n",
      "Romulus Glacier is located in the continent of Antarctica.\n",
      "Ma River is located in the continent of Asia.\n",
      "Chad Basin is located in the continent of Africa.\n",
      "{} is located in the continent of\n",
      "tensor(7.5742, device='cuda:0', dtype=torch.float16) tensor(265.7500, device='cuda:0', dtype=torch.float16)\n",
      "\n",
      "subject:  Chad Basin\n",
      "Ma River is located in the continent of Asia.\n",
      "English Channel is located in the continent of Europe.\n",
      "Romulus Glacier is located in the continent of Antarctica.\n",
      "{} is located in the continent of\n",
      "tensor(20.3906, device='cuda:0', dtype=torch.float16) tensor(244., device='cuda:0', dtype=torch.float16)\n",
      "\n"
     ]
    },
    {
     "data": {
      "application/vnd.jupyter.widget-view+json": {
       "model_id": "a73aade718174f0fa363a5528acc724a",
       "version_major": 2,
       "version_minor": 0
      },
      "text/plain": [
       "  0%|          | 0/4 [00:00<?, ?it/s]"
      ]
     },
     "metadata": {},
     "output_type": "display_data"
    },
    {
     "name": "stdout",
     "output_type": "stream",
     "text": [
      "subject:  Ma River\n",
      "English Channel is located in the continent of Europe.\n",
      "Chad Basin is located in the continent of Africa.\n",
      "Romulus Glacier is located in the continent of Antarctica.\n",
      "{} is located in the continent of\n",
      "tensor(7.9297, device='cuda:0', dtype=torch.float16) tensor(267.5000, device='cuda:0', dtype=torch.float16)\n",
      "\n",
      "subject:  Romulus Glacier\n",
      "English Channel is located in the continent of Europe.\n",
      "Chad Basin is located in the continent of Africa.\n",
      "Ma River is located in the continent of Asia.\n",
      "{} is located in the continent of\n",
      "tensor(8.5469, device='cuda:0', dtype=torch.float16) tensor(280.5000, device='cuda:0', dtype=torch.float16)\n",
      "\n",
      "subject:  Chad Basin\n",
      "English Channel is located in the continent of Europe.\n",
      "Romulus Glacier is located in the continent of Antarctica.\n",
      "Ma River is located in the continent of Asia.\n",
      "{} is located in the continent of\n",
      "tensor(19.8438, device='cuda:0', dtype=torch.float16) tensor(269.2500, device='cuda:0', dtype=torch.float16)\n",
      "\n",
      "subject:  English Channel\n",
      "Romulus Glacier is located in the continent of Antarctica.\n",
      "Chad Basin is located in the continent of Africa.\n",
      "Ma River is located in the continent of Asia.\n",
      "{} is located in the continent of\n",
      "tensor(7.9727, device='cuda:0', dtype=torch.float16) tensor(254.6250, device='cuda:0', dtype=torch.float16)\n",
      "\n"
     ]
    },
    {
     "data": {
      "application/vnd.jupyter.widget-view+json": {
       "model_id": "be83db996817434d9e4a7a61f883ddb4",
       "version_major": 2,
       "version_minor": 0
      },
      "text/plain": [
       "  0%|          | 0/4 [00:00<?, ?it/s]"
      ]
     },
     "metadata": {},
     "output_type": "display_data"
    },
    {
     "name": "stdout",
     "output_type": "stream",
     "text": [
      "subject:  Chad Basin\n",
      "Ma River is located in the continent of Asia.\n",
      "Romulus Glacier is located in the continent of Antarctica.\n",
      "English Channel is located in the continent of Europe.\n",
      "{} is located in the continent of\n",
      "tensor(23.7500, device='cuda:0', dtype=torch.float16) tensor(227.1250, device='cuda:0', dtype=torch.float16)\n",
      "\n",
      "subject:  English Channel\n",
      "Romulus Glacier is located in the continent of Antarctica.\n",
      "Ma River is located in the continent of Asia.\n",
      "Chad Basin is located in the continent of Africa.\n",
      "{} is located in the continent of\n",
      "tensor(7.5742, device='cuda:0', dtype=torch.float16) tensor(265.7500, device='cuda:0', dtype=torch.float16)\n",
      "\n",
      "subject:  Romulus Glacier\n",
      "Ma River is located in the continent of Asia.\n",
      "English Channel is located in the continent of Europe.\n",
      "Chad Basin is located in the continent of Africa.\n",
      "{} is located in the continent of\n",
      "tensor(12.4922, device='cuda:0', dtype=torch.float16) tensor(230.7500, device='cuda:0', dtype=torch.float16)\n",
      "\n",
      "subject:  Ma River\n",
      "English Channel is located in the continent of Europe.\n",
      "Chad Basin is located in the continent of Africa.\n",
      "Romulus Glacier is located in the continent of Antarctica.\n",
      "{} is located in the continent of\n",
      "tensor(7.9297, device='cuda:0', dtype=torch.float16) tensor(267.5000, device='cuda:0', dtype=torch.float16)\n",
      "\n",
      "Saving weights and biases >>  gpt-j/jacobians_averaged_collection/P30.npz\n",
      "----------------------------------------------------\n",
      "zzzzzzzzzzzzzzzzzzzzzzzzzzzzzzzzzzzzzzzzzzzzzzzzzzzz\n",
      "P937 {} worked in the city of\n",
      "zzzzzzzzzzzzzzzzzzzzzzzzzzzzzzzzzzzzzzzzzzzzzzzzzzzz\n",
      "328\n",
      "{} worked in the city of\n"
     ]
    },
    {
     "data": {
      "application/vnd.jupyter.widget-view+json": {
       "model_id": "46996a8f56d44227a88d38d427a2cd64",
       "version_major": 2,
       "version_minor": 0
      },
      "text/plain": [
       "  0%|          | 0/10 [00:00<?, ?it/s]"
      ]
     },
     "metadata": {},
     "output_type": "display_data"
    },
    {
     "data": {
      "application/vnd.jupyter.widget-view+json": {
       "model_id": "622b31aa60fa4a39bd5221f308611c7f",
       "version_major": 2,
       "version_minor": 0
      },
      "text/plain": [
       "  0%|          | 0/5 [00:00<?, ?it/s]"
      ]
     },
     "metadata": {},
     "output_type": "display_data"
    },
    {
     "name": "stdout",
     "output_type": "stream",
     "text": [
      "subject:  Albert Einstein\n",
      "Joseph Reinach worked in the city of Paris.\n",
      "Christian Bohr worked in the city of Copenhagen.\n",
      "Veturia worked in the city of Rome.\n",
      "{} worked in the city of\n",
      "tensor(7.0234, device='cuda:0', dtype=torch.float16) tensor(228.1250, device='cuda:0', dtype=torch.float16)\n",
      "\n",
      "subject:  Veturia\n",
      "Joseph Reinach worked in the city of Paris.\n",
      "Billy Corgan worked in the city of Chicago.\n",
      "Albert Einstein worked in the city of Bern.\n",
      "{} worked in the city of\n",
      "tensor(11.0312, device='cuda:0', dtype=torch.float16) tensor(400.7500, device='cuda:0', dtype=torch.float16)\n",
      "\n",
      "subject:  Joseph Reinach\n",
      "Veturia worked in the city of Rome.\n",
      "Albert Einstein worked in the city of Bern.\n",
      "Billy Corgan worked in the city of Chicago.\n",
      "{} worked in the city of\n",
      "tensor(17.2344, device='cuda:0', dtype=torch.float16) tensor(321.5000, device='cuda:0', dtype=torch.float16)\n",
      "\n",
      "subject:  Christian Bohr\n",
      "Veturia worked in the city of Rome.\n",
      "Joseph Reinach worked in the city of Paris.\n",
      "Billy Corgan worked in the city of Chicago.\n",
      "{} worked in the city of\n",
      "tensor(24.8438, device='cuda:0', dtype=torch.float16) tensor(320., device='cuda:0', dtype=torch.float16)\n",
      "\n",
      "subject:  Billy Corgan\n",
      "Joseph Reinach worked in the city of Paris.\n",
      "Veturia worked in the city of Rome.\n",
      "Albert Einstein worked in the city of Bern.\n",
      "{} worked in the city of\n",
      "tensor(28.6562, device='cuda:0', dtype=torch.float16) tensor(269.2500, device='cuda:0', dtype=torch.float16)\n",
      "\n"
     ]
    },
    {
     "data": {
      "application/vnd.jupyter.widget-view+json": {
       "model_id": "0fb445b7a2c74cf1a5bb2acfd8b1740d",
       "version_major": 2,
       "version_minor": 0
      },
      "text/plain": [
       "  0%|          | 0/5 [00:00<?, ?it/s]"
      ]
     },
     "metadata": {},
     "output_type": "display_data"
    },
    {
     "name": "stdout",
     "output_type": "stream",
     "text": [
      "subject:  Christian Bohr\n",
      "Joseph Reinach worked in the city of Paris.\n",
      "John Goodsir worked in the city of Edinburgh.\n",
      "Albert Einstein worked in the city of Bern.\n",
      "{} worked in the city of\n",
      "tensor(42.9062, device='cuda:0', dtype=torch.float16) tensor(226.7500, device='cuda:0', dtype=torch.float16)\n",
      "\n",
      "subject:  Joseph Reinach\n",
      "Halvard Lange worked in the city of Oslo.\n",
      "John Goodsir worked in the city of Edinburgh.\n",
      "Albert Einstein worked in the city of Bern.\n",
      "{} worked in the city of\n",
      "tensor(17.2031, device='cuda:0', dtype=torch.float16) tensor(300.2500, device='cuda:0', dtype=torch.float16)\n",
      "\n",
      "subject:  Halvard Lange\n",
      "Albert Einstein worked in the city of Bern.\n",
      "Joseph Reinach worked in the city of Paris.\n",
      "John Goodsir worked in the city of Edinburgh.\n",
      "{} worked in the city of\n",
      "tensor(1.1514, device='cuda:0', dtype=torch.float16) tensor(289.7500, device='cuda:0', dtype=torch.float16)\n",
      "\n",
      "subject:  Albert Einstein\n",
      "Christian Bohr worked in the city of Copenhagen.\n",
      "John Goodsir worked in the city of Edinburgh.\n",
      "Joseph Reinach worked in the city of Paris.\n",
      "{} worked in the city of\n",
      "tensor(5.0234, device='cuda:0', dtype=torch.float16) tensor(210.2500, device='cuda:0', dtype=torch.float16)\n",
      "\n",
      "subject:  John Goodsir\n",
      "Albert Einstein worked in the city of Bern.\n",
      "Christian Bohr worked in the city of Copenhagen.\n",
      "Halvard Lange worked in the city of Oslo.\n",
      "{} worked in the city of\n",
      "tensor(15.3906, device='cuda:0', dtype=torch.float16) tensor(277.7500, device='cuda:0', dtype=torch.float16)\n",
      "\n"
     ]
    },
    {
     "data": {
      "application/vnd.jupyter.widget-view+json": {
       "model_id": "3fe4897c4a0f409eba04aaa3d2a31672",
       "version_major": 2,
       "version_minor": 0
      },
      "text/plain": [
       "  0%|          | 0/5 [00:00<?, ?it/s]"
      ]
     },
     "metadata": {},
     "output_type": "display_data"
    },
    {
     "name": "stdout",
     "output_type": "stream",
     "text": [
      "subject:  Veturia\n",
      "Halvard Lange worked in the city of Oslo.\n",
      "Albert Einstein worked in the city of Bern.\n",
      "Alban Berg worked in the city of Vienna.\n",
      "{} worked in the city of\n",
      "tensor(11.4922, device='cuda:0', dtype=torch.float16) tensor(335.7500, device='cuda:0', dtype=torch.float16)\n",
      "\n",
      "subject:  Albert Einstein\n",
      "Veturia worked in the city of Rome.\n",
      "Alban Berg worked in the city of Vienna.\n",
      "Halvard Lange worked in the city of Oslo.\n",
      "{} worked in the city of\n",
      "tensor(10.7969, device='cuda:0', dtype=torch.float16) tensor(220.2500, device='cuda:0', dtype=torch.float16)\n",
      "\n",
      "subject:  Halvard Lange\n",
      "Alban Berg worked in the city of Vienna.\n",
      "Veturia worked in the city of Rome.\n",
      "Albert Einstein worked in the city of Bern.\n",
      "{} worked in the city of\n",
      "tensor(1.5557, device='cuda:0', dtype=torch.float16) tensor(295.7500, device='cuda:0', dtype=torch.float16)\n",
      "\n",
      "subject:  Joseph Reinach\n",
      "Veturia worked in the city of Rome.\n",
      "Alban Berg worked in the city of Vienna.\n",
      "Halvard Lange worked in the city of Oslo.\n",
      "{} worked in the city of\n",
      "tensor(8.9453, device='cuda:0', dtype=torch.float16) tensor(325.2500, device='cuda:0', dtype=torch.float16)\n",
      "\n",
      "subject:  Alban Berg\n",
      "Veturia worked in the city of Rome.\n",
      "Albert Einstein worked in the city of Bern.\n",
      "Joseph Reinach worked in the city of Paris.\n",
      "{} worked in the city of\n",
      "tensor(1.3066, device='cuda:0', dtype=torch.float16) tensor(215.8750, device='cuda:0', dtype=torch.float16)\n",
      "\n"
     ]
    },
    {
     "data": {
      "application/vnd.jupyter.widget-view+json": {
       "model_id": "9700dd27219a4dbdb21aa8a368d50a9d",
       "version_major": 2,
       "version_minor": 0
      },
      "text/plain": [
       "  0%|          | 0/5 [00:00<?, ?it/s]"
      ]
     },
     "metadata": {},
     "output_type": "display_data"
    },
    {
     "name": "stdout",
     "output_type": "stream",
     "text": [
      "subject:  Albert Einstein\n",
      "Carl Mayer worked in the city of Berlin.\n",
      "John Goodsir worked in the city of Edinburgh.\n",
      "Christian Bohr worked in the city of Copenhagen.\n",
      "{} worked in the city of\n",
      "tensor(7.3477, device='cuda:0', dtype=torch.float16) tensor(210.3750, device='cuda:0', dtype=torch.float16)\n",
      "\n",
      "subject:  Christian Bohr\n",
      "John Goodsir worked in the city of Edinburgh.\n",
      "Veturia worked in the city of Rome.\n",
      "Carl Mayer worked in the city of Berlin.\n",
      "{} worked in the city of\n",
      "tensor(29.2031, device='cuda:0', dtype=torch.float16) tensor(314., device='cuda:0', dtype=torch.float16)\n",
      "\n",
      "subject:  Veturia\n",
      "Albert Einstein worked in the city of Bern.\n",
      "Carl Mayer worked in the city of Berlin.\n",
      "John Goodsir worked in the city of Edinburgh.\n",
      "{} worked in the city of\n",
      "tensor(12.4688, device='cuda:0', dtype=torch.float16) tensor(311.7500, device='cuda:0', dtype=torch.float16)\n",
      "\n",
      "subject:  Carl Mayer\n",
      "Christian Bohr worked in the city of Copenhagen.\n",
      "Veturia worked in the city of Rome.\n",
      "Albert Einstein worked in the city of Bern.\n",
      "{} worked in the city of\n",
      "tensor(5.8594, device='cuda:0', dtype=torch.float16) tensor(352.2500, device='cuda:0', dtype=torch.float16)\n",
      "\n",
      "subject:  John Goodsir\n",
      "Albert Einstein worked in the city of Bern.\n",
      "Christian Bohr worked in the city of Copenhagen.\n",
      "Veturia worked in the city of Rome.\n",
      "{} worked in the city of\n",
      "tensor(14.4844, device='cuda:0', dtype=torch.float16) tensor(286., device='cuda:0', dtype=torch.float16)\n",
      "\n"
     ]
    },
    {
     "data": {
      "application/vnd.jupyter.widget-view+json": {
       "model_id": "3225d300ded9414dad993485727f1e41",
       "version_major": 2,
       "version_minor": 0
      },
      "text/plain": [
       "  0%|          | 0/5 [00:00<?, ?it/s]"
      ]
     },
     "metadata": {},
     "output_type": "display_data"
    },
    {
     "name": "stdout",
     "output_type": "stream",
     "text": [
      "subject:  Joseph Reinach\n",
      "Albert Einstein worked in the city of Bern.\n",
      "Carl Mayer worked in the city of Berlin.\n",
      "Halvard Lange worked in the city of Oslo.\n",
      "{} worked in the city of\n",
      "tensor(12.0391, device='cuda:0', dtype=torch.float16) tensor(314.7500, device='cuda:0', dtype=torch.float16)\n",
      "\n",
      "subject:  Carl Mayer\n",
      "Halvard Lange worked in the city of Oslo.\n",
      "Alban Berg worked in the city of Vienna.\n",
      "Joseph Reinach worked in the city of Paris.\n",
      "{} worked in the city of\n",
      "tensor(8.8125, device='cuda:0', dtype=torch.float16) tensor(353.5000, device='cuda:0', dtype=torch.float16)\n",
      "\n",
      "subject:  Alban Berg\n",
      "Halvard Lange worked in the city of Oslo.\n",
      "Joseph Reinach worked in the city of Paris.\n",
      "Carl Mayer worked in the city of Berlin.\n",
      "{} worked in the city of\n",
      "tensor(1.4893, device='cuda:0', dtype=torch.float16) tensor(223.7500, device='cuda:0', dtype=torch.float16)\n",
      "\n",
      "subject:  Albert Einstein\n",
      "Carl Mayer worked in the city of Berlin.\n",
      "Alban Berg worked in the city of Vienna.\n",
      "Joseph Reinach worked in the city of Paris.\n",
      "{} worked in the city of\n",
      "tensor(7.8867, device='cuda:0', dtype=torch.float16) tensor(237.6250, device='cuda:0', dtype=torch.float16)\n",
      "\n",
      "subject:  Halvard Lange\n",
      "Carl Mayer worked in the city of Berlin.\n",
      "Albert Einstein worked in the city of Bern.\n",
      "Alban Berg worked in the city of Vienna.\n",
      "{} worked in the city of\n",
      "tensor(1.4512, device='cuda:0', dtype=torch.float16) tensor(295.2500, device='cuda:0', dtype=torch.float16)\n",
      "\n"
     ]
    },
    {
     "data": {
      "application/vnd.jupyter.widget-view+json": {
       "model_id": "280632b1ee604b55aa1caae950c124f3",
       "version_major": 2,
       "version_minor": 0
      },
      "text/plain": [
       "  0%|          | 0/5 [00:00<?, ?it/s]"
      ]
     },
     "metadata": {},
     "output_type": "display_data"
    },
    {
     "name": "stdout",
     "output_type": "stream",
     "text": [
      "subject:  Howard Florey\n",
      "Carl Mayer worked in the city of Berlin.\n",
      "Halvard Lange worked in the city of Oslo.\n",
      "Albert Einstein worked in the city of Bern.\n",
      "{} worked in the city of\n",
      "tensor(34.8750, device='cuda:0', dtype=torch.float16) tensor(252., device='cuda:0', dtype=torch.float16)\n",
      "\n",
      "subject:  Halvard Lange\n",
      "Howard Florey worked in the city of London.\n",
      "Joseph Reinach worked in the city of Paris.\n",
      "Albert Einstein worked in the city of Bern.\n",
      "{} worked in the city of\n",
      "tensor(1.3037, device='cuda:0', dtype=torch.float16) tensor(294.2500, device='cuda:0', dtype=torch.float16)\n",
      "\n",
      "subject:  Albert Einstein\n",
      "Joseph Reinach worked in the city of Paris.\n",
      "Howard Florey worked in the city of London.\n",
      "Halvard Lange worked in the city of Oslo.\n",
      "{} worked in the city of\n",
      "tensor(6.5859, device='cuda:0', dtype=torch.float16) tensor(217.5000, device='cuda:0', dtype=torch.float16)\n",
      "\n",
      "subject:  Joseph Reinach\n",
      "Carl Mayer worked in the city of Berlin.\n",
      "Halvard Lange worked in the city of Oslo.\n",
      "Albert Einstein worked in the city of Bern.\n",
      "{} worked in the city of\n",
      "tensor(11.5859, device='cuda:0', dtype=torch.float16) tensor(340.7500, device='cuda:0', dtype=torch.float16)\n",
      "\n",
      "subject:  Carl Mayer\n",
      "Albert Einstein worked in the city of Bern.\n",
      "Halvard Lange worked in the city of Oslo.\n",
      "Howard Florey worked in the city of London.\n",
      "{} worked in the city of\n",
      "tensor(7.7422, device='cuda:0', dtype=torch.float16) tensor(342.7500, device='cuda:0', dtype=torch.float16)\n",
      "\n"
     ]
    },
    {
     "data": {
      "application/vnd.jupyter.widget-view+json": {
       "model_id": "e5adf28e696a4aa0938df2b38f572849",
       "version_major": 2,
       "version_minor": 0
      },
      "text/plain": [
       "  0%|          | 0/5 [00:00<?, ?it/s]"
      ]
     },
     "metadata": {},
     "output_type": "display_data"
    },
    {
     "name": "stdout",
     "output_type": "stream",
     "text": [
      "subject:  Veturia\n",
      "Howard Florey worked in the city of London.\n",
      "John Goodsir worked in the city of Edinburgh.\n",
      "Albert Einstein worked in the city of Bern.\n",
      "{} worked in the city of\n",
      "tensor(11.5391, device='cuda:0', dtype=torch.float16) tensor(361., device='cuda:0', dtype=torch.float16)\n",
      "\n",
      "subject:  Howard Florey\n",
      "Albert Einstein worked in the city of Bern.\n",
      "John Goodsir worked in the city of Edinburgh.\n",
      "Veturia worked in the city of Rome.\n",
      "{} worked in the city of\n",
      "tensor(40.0312, device='cuda:0', dtype=torch.float16) tensor(229.8750, device='cuda:0', dtype=torch.float16)\n",
      "\n",
      "subject:  John Goodsir\n",
      "Albert Einstein worked in the city of Bern.\n",
      "Joseph Reinach worked in the city of Paris.\n",
      "Howard Florey worked in the city of London.\n",
      "{} worked in the city of\n",
      "tensor(12.7109, device='cuda:0', dtype=torch.float16) tensor(298., device='cuda:0', dtype=torch.float16)\n",
      "\n",
      "subject:  Albert Einstein\n",
      "Joseph Reinach worked in the city of Paris.\n",
      "Howard Florey worked in the city of London.\n",
      "John Goodsir worked in the city of Edinburgh.\n",
      "{} worked in the city of\n",
      "tensor(5.9961, device='cuda:0', dtype=torch.float16) tensor(218.1250, device='cuda:0', dtype=torch.float16)\n",
      "\n",
      "subject:  Joseph Reinach\n",
      "Howard Florey worked in the city of London.\n",
      "Veturia worked in the city of Rome.\n",
      "John Goodsir worked in the city of Edinburgh.\n",
      "{} worked in the city of\n",
      "tensor(9.1406, device='cuda:0', dtype=torch.float16) tensor(324.2500, device='cuda:0', dtype=torch.float16)\n",
      "\n"
     ]
    },
    {
     "data": {
      "application/vnd.jupyter.widget-view+json": {
       "model_id": "0591ec462dc14dc88c7ea42c519bc24d",
       "version_major": 2,
       "version_minor": 0
      },
      "text/plain": [
       "  0%|          | 0/5 [00:00<?, ?it/s]"
      ]
     },
     "metadata": {},
     "output_type": "display_data"
    },
    {
     "name": "stdout",
     "output_type": "stream",
     "text": [
      "subject:  Joseph Reinach\n",
      "Carl Mayer worked in the city of Berlin.\n",
      "Christian Bohr worked in the city of Copenhagen.\n",
      "Veturia worked in the city of Rome.\n",
      "{} worked in the city of\n",
      "tensor(13.0781, device='cuda:0', dtype=torch.float16) tensor(310., device='cuda:0', dtype=torch.float16)\n",
      "\n",
      "subject:  Alban Berg\n",
      "Veturia worked in the city of Rome.\n",
      "Christian Bohr worked in the city of Copenhagen.\n",
      "Carl Mayer worked in the city of Berlin.\n",
      "{} worked in the city of\n",
      "tensor(1.2930, device='cuda:0', dtype=torch.float16) tensor(221.3750, device='cuda:0', dtype=torch.float16)\n",
      "\n",
      "subject:  Christian Bohr\n",
      "Alban Berg worked in the city of Vienna.\n",
      "Carl Mayer worked in the city of Berlin.\n",
      "Joseph Reinach worked in the city of Paris.\n",
      "{} worked in the city of\n",
      "tensor(30., device='cuda:0', dtype=torch.float16) tensor(309.5000, device='cuda:0', dtype=torch.float16)\n",
      "\n",
      "subject:  Carl Mayer\n",
      "Alban Berg worked in the city of Vienna.\n",
      "Veturia worked in the city of Rome.\n",
      "Joseph Reinach worked in the city of Paris.\n",
      "{} worked in the city of\n",
      "tensor(8.2188, device='cuda:0', dtype=torch.float16) tensor(352.5000, device='cuda:0', dtype=torch.float16)\n",
      "\n",
      "subject:  Veturia\n",
      "Christian Bohr worked in the city of Copenhagen.\n",
      "Alban Berg worked in the city of Vienna.\n",
      "Joseph Reinach worked in the city of Paris.\n",
      "{} worked in the city of\n",
      "tensor(9.7969, device='cuda:0', dtype=torch.float16) tensor(345.2500, device='cuda:0', dtype=torch.float16)\n",
      "\n"
     ]
    },
    {
     "data": {
      "application/vnd.jupyter.widget-view+json": {
       "model_id": "235646139b3e462abbbcffa9e791f63f",
       "version_major": 2,
       "version_minor": 0
      },
      "text/plain": [
       "  0%|          | 0/5 [00:00<?, ?it/s]"
      ]
     },
     "metadata": {},
     "output_type": "display_data"
    },
    {
     "name": "stdout",
     "output_type": "stream",
     "text": [
      "subject:  Albert Einstein\n",
      "Billy Corgan worked in the city of Chicago.\n",
      "Howard Florey worked in the city of London.\n",
      "Veturia worked in the city of Rome.\n",
      "{} worked in the city of\n",
      "tensor(9.8516, device='cuda:0', dtype=torch.float16) tensor(231.5000, device='cuda:0', dtype=torch.float16)\n",
      "\n",
      "subject:  Christian Bohr\n",
      "Veturia worked in the city of Rome.\n",
      "Howard Florey worked in the city of London.\n",
      "Albert Einstein worked in the city of Bern.\n",
      "{} worked in the city of\n",
      "tensor(40.5000, device='cuda:0', dtype=torch.float16) tensor(227., device='cuda:0', dtype=torch.float16)\n",
      "\n",
      "subject:  Howard Florey\n",
      "Albert Einstein worked in the city of Bern.\n",
      "Veturia worked in the city of Rome.\n",
      "Christian Bohr worked in the city of Copenhagen.\n",
      "{} worked in the city of\n",
      "tensor(44., device='cuda:0', dtype=torch.float16) tensor(200.1250, device='cuda:0', dtype=torch.float16)\n",
      "\n",
      "subject:  Billy Corgan\n",
      "Christian Bohr worked in the city of Copenhagen.\n",
      "Veturia worked in the city of Rome.\n",
      "Howard Florey worked in the city of London.\n",
      "{} worked in the city of\n",
      "tensor(28.1094, device='cuda:0', dtype=torch.float16) tensor(250.3750, device='cuda:0', dtype=torch.float16)\n",
      "\n",
      "subject:  Veturia\n",
      "Billy Corgan worked in the city of Chicago.\n",
      "Christian Bohr worked in the city of Copenhagen.\n",
      "Howard Florey worked in the city of London.\n",
      "{} worked in the city of\n",
      "tensor(14.7344, device='cuda:0', dtype=torch.float16) tensor(343.2500, device='cuda:0', dtype=torch.float16)\n",
      "\n"
     ]
    },
    {
     "data": {
      "application/vnd.jupyter.widget-view+json": {
       "model_id": "5ed896a377264d11a0cb1a2d28d6f95c",
       "version_major": 2,
       "version_minor": 0
      },
      "text/plain": [
       "  0%|          | 0/5 [00:00<?, ?it/s]"
      ]
     },
     "metadata": {},
     "output_type": "display_data"
    },
    {
     "name": "stdout",
     "output_type": "stream",
     "text": [
      "subject:  Alban Berg\n",
      "John Goodsir worked in the city of Edinburgh.\n",
      "Howard Florey worked in the city of London.\n",
      "Veturia worked in the city of Rome.\n",
      "{} worked in the city of\n",
      "tensor(1.2861, device='cuda:0', dtype=torch.float16) tensor(277.7500, device='cuda:0', dtype=torch.float16)\n",
      "\n",
      "subject:  John Goodsir\n",
      "Howard Florey worked in the city of London.\n",
      "Albert Einstein worked in the city of Bern.\n",
      "Veturia worked in the city of Rome.\n",
      "{} worked in the city of\n",
      "tensor(10.6953, device='cuda:0', dtype=torch.float16) tensor(307.2500, device='cuda:0', dtype=torch.float16)\n",
      "\n",
      "subject:  Veturia\n",
      "Albert Einstein worked in the city of Bern.\n",
      "Alban Berg worked in the city of Vienna.\n",
      "John Goodsir worked in the city of Edinburgh.\n",
      "{} worked in the city of\n",
      "tensor(15.9609, device='cuda:0', dtype=torch.float16) tensor(305., device='cuda:0', dtype=torch.float16)\n",
      "\n",
      "subject:  Howard Florey\n",
      "Albert Einstein worked in the city of Bern.\n",
      "Veturia worked in the city of Rome.\n",
      "John Goodsir worked in the city of Edinburgh.\n",
      "{} worked in the city of\n",
      "tensor(41.3438, device='cuda:0', dtype=torch.float16) tensor(219.6250, device='cuda:0', dtype=torch.float16)\n",
      "\n",
      "subject:  Albert Einstein\n",
      "Howard Florey worked in the city of London.\n",
      "Veturia worked in the city of Rome.\n",
      "John Goodsir worked in the city of Edinburgh.\n",
      "{} worked in the city of\n",
      "tensor(6.3516, device='cuda:0', dtype=torch.float16) tensor(233.7500, device='cuda:0', dtype=torch.float16)\n",
      "\n",
      "Saving weights and biases >>  gpt-j/jacobians_averaged_collection/P937.npz\n",
      "----------------------------------------------------\n",
      "zzzzzzzzzzzzzzzzzzzzzzzzzzzzzzzzzzzzzzzzzzzzzzzzzzzz\n",
      "P27 {} is a citizen of\n",
      "zzzzzzzzzzzzzzzzzzzzzzzzzzzzzzzzzzzzzzzzzzzzzzzzzzzz\n",
      "305\n",
      "{} is a citizen of\n"
     ]
    },
    {
     "data": {
      "application/vnd.jupyter.widget-view+json": {
       "model_id": "56037e21bfa6445783ddf019cb4f4829",
       "version_major": 2,
       "version_minor": 0
      },
      "text/plain": [
       "  0%|          | 0/10 [00:00<?, ?it/s]"
      ]
     },
     "metadata": {},
     "output_type": "display_data"
    },
    {
     "data": {
      "application/vnd.jupyter.widget-view+json": {
       "model_id": "2ba49d041c5a4951a1fce9b008c199f3",
       "version_major": 2,
       "version_minor": 0
      },
      "text/plain": [
       "  0%|          | 0/5 [00:00<?, ?it/s]"
      ]
     },
     "metadata": {},
     "output_type": "display_data"
    },
    {
     "name": "stdout",
     "output_type": "stream",
     "text": [
      "subject:  Thomas Ong\n",
      "Pierre Cardin is a citizen of France.\n",
      "Ambar Roy is a citizen of India.\n",
      "Ronaldinho is a citizen of Brazil.\n",
      "{} is a citizen of\n",
      "tensor(13.7656, device='cuda:0', dtype=torch.float16) tensor(282.7500, device='cuda:0', dtype=torch.float16)\n",
      "\n",
      "subject:  Ambar Roy\n",
      "Mario Monti is a citizen of Italy.\n",
      "Thomas Ong is a citizen of Singapore.\n",
      "Pierre Cardin is a citizen of France.\n",
      "{} is a citizen of\n",
      "tensor(12.1094, device='cuda:0', dtype=torch.float16) tensor(262.7500, device='cuda:0', dtype=torch.float16)\n",
      "\n",
      "subject:  Pierre Cardin\n",
      "Thomas Ong is a citizen of Singapore.\n",
      "Ambar Roy is a citizen of India.\n",
      "Ronaldinho is a citizen of Brazil.\n",
      "{} is a citizen of\n",
      "tensor(9.2500, device='cuda:0', dtype=torch.float16) tensor(253.7500, device='cuda:0', dtype=torch.float16)\n",
      "\n",
      "subject:  Ronaldinho\n",
      "Mario Monti is a citizen of Italy.\n",
      "Ambar Roy is a citizen of India.\n",
      "Thomas Ong is a citizen of Singapore.\n",
      "{} is a citizen of\n",
      "tensor(7.6992, device='cuda:0', dtype=torch.float16) tensor(247.6250, device='cuda:0', dtype=torch.float16)\n",
      "\n",
      "subject:  Mario Monti\n",
      "Ambar Roy is a citizen of India.\n",
      "Thomas Ong is a citizen of Singapore.\n",
      "Pierre Cardin is a citizen of France.\n",
      "{} is a citizen of\n",
      "tensor(20.7188, device='cuda:0', dtype=torch.float16) tensor(243.5000, device='cuda:0', dtype=torch.float16)\n",
      "\n"
     ]
    },
    {
     "data": {
      "application/vnd.jupyter.widget-view+json": {
       "model_id": "8da20ecf880247bda296c2296c256a7a",
       "version_major": 2,
       "version_minor": 0
      },
      "text/plain": [
       "  0%|          | 0/5 [00:00<?, ?it/s]"
      ]
     },
     "metadata": {},
     "output_type": "display_data"
    },
    {
     "name": "stdout",
     "output_type": "stream",
     "text": [
      "subject:  Andrew Bogut\n",
      "Ambar Roy is a citizen of India.\n",
      "Harashima is a citizen of Japan.\n",
      "Ronaldinho is a citizen of Brazil.\n",
      "{} is a citizen of\n",
      "tensor(23.7812, device='cuda:0', dtype=torch.float16) tensor(258.7500, device='cuda:0', dtype=torch.float16)\n",
      "\n",
      "subject:  Pierre Cardin\n",
      "Harashima is a citizen of Japan.\n",
      "Ambar Roy is a citizen of India.\n",
      "Andrew Bogut is a citizen of Australia.\n",
      "{} is a citizen of\n",
      "tensor(9.9844, device='cuda:0', dtype=torch.float16) tensor(250., device='cuda:0', dtype=torch.float16)\n",
      "\n",
      "subject:  Ronaldinho\n",
      "Ambar Roy is a citizen of India.\n",
      "Pierre Cardin is a citizen of France.\n",
      "Harashima is a citizen of Japan.\n",
      "{} is a citizen of\n",
      "tensor(7.2461, device='cuda:0', dtype=torch.float16) tensor(239., device='cuda:0', dtype=torch.float16)\n",
      "\n",
      "subject:  Ambar Roy\n",
      "Harashima is a citizen of Japan.\n",
      "Andrew Bogut is a citizen of Australia.\n",
      "Pierre Cardin is a citizen of France.\n",
      "{} is a citizen of\n",
      "tensor(13.4609, device='cuda:0', dtype=torch.float16) tensor(264., device='cuda:0', dtype=torch.float16)\n",
      "\n",
      "subject:  Harashima\n",
      "Ambar Roy is a citizen of India.\n",
      "Andrew Bogut is a citizen of Australia.\n",
      "Ronaldinho is a citizen of Brazil.\n",
      "{} is a citizen of\n",
      "tensor(15.4609, device='cuda:0', dtype=torch.float16) tensor(286.7500, device='cuda:0', dtype=torch.float16)\n",
      "\n"
     ]
    },
    {
     "data": {
      "application/vnd.jupyter.widget-view+json": {
       "model_id": "9e117d5b6f3447fa9c35c4254f64c862",
       "version_major": 2,
       "version_minor": 0
      },
      "text/plain": [
       "  0%|          | 0/5 [00:00<?, ?it/s]"
      ]
     },
     "metadata": {},
     "output_type": "display_data"
    },
    {
     "name": "stdout",
     "output_type": "stream",
     "text": [
      "subject:  Ambar Roy\n",
      "Pierre Cardin is a citizen of France.\n",
      "Andrew Bogut is a citizen of Australia.\n",
      "Ronaldinho is a citizen of Brazil.\n",
      "{} is a citizen of\n",
      "tensor(11.6328, device='cuda:0', dtype=torch.float16) tensor(268.7500, device='cuda:0', dtype=torch.float16)\n",
      "\n",
      "subject:  Harashima\n",
      "Ronaldinho is a citizen of Brazil.\n",
      "Ambar Roy is a citizen of India.\n",
      "Andrew Bogut is a citizen of Australia.\n",
      "{} is a citizen of\n",
      "tensor(17.5469, device='cuda:0', dtype=torch.float16) tensor(308., device='cuda:0', dtype=torch.float16)\n",
      "\n",
      "subject:  Ronaldinho\n",
      "Ambar Roy is a citizen of India.\n",
      "Harashima is a citizen of Japan.\n",
      "Andrew Bogut is a citizen of Australia.\n",
      "{} is a citizen of\n",
      "tensor(10.8281, device='cuda:0', dtype=torch.float16) tensor(239.6250, device='cuda:0', dtype=torch.float16)\n",
      "\n",
      "subject:  Pierre Cardin\n",
      "Andrew Bogut is a citizen of Australia.\n",
      "Ambar Roy is a citizen of India.\n",
      "Harashima is a citizen of Japan.\n",
      "{} is a citizen of\n",
      "tensor(11.4609, device='cuda:0', dtype=torch.float16) tensor(252., device='cuda:0', dtype=torch.float16)\n",
      "\n",
      "subject:  Andrew Bogut\n",
      "Ronaldinho is a citizen of Brazil.\n",
      "Ambar Roy is a citizen of India.\n",
      "Pierre Cardin is a citizen of France.\n",
      "{} is a citizen of\n",
      "tensor(21.3281, device='cuda:0', dtype=torch.float16) tensor(255.7500, device='cuda:0', dtype=torch.float16)\n",
      "\n"
     ]
    },
    {
     "data": {
      "application/vnd.jupyter.widget-view+json": {
       "model_id": "393cb8d7d92a4b0783452ff538756dad",
       "version_major": 2,
       "version_minor": 0
      },
      "text/plain": [
       "  0%|          | 0/5 [00:00<?, ?it/s]"
      ]
     },
     "metadata": {},
     "output_type": "display_data"
    },
    {
     "name": "stdout",
     "output_type": "stream",
     "text": [
      "subject:  Andrew Bogut\n",
      "Mario Monti is a citizen of Italy.\n",
      "Ronaldinho is a citizen of Brazil.\n",
      "Thomas Ong is a citizen of Singapore.\n",
      "{} is a citizen of\n",
      "tensor(18.6875, device='cuda:0', dtype=torch.float16) tensor(254.5000, device='cuda:0', dtype=torch.float16)\n",
      "\n",
      "subject:  Ambar Roy\n",
      "Thomas Ong is a citizen of Singapore.\n",
      "Andrew Bogut is a citizen of Australia.\n",
      "Mario Monti is a citizen of Italy.\n",
      "{} is a citizen of\n",
      "tensor(12.6875, device='cuda:0', dtype=torch.float16) tensor(266.5000, device='cuda:0', dtype=torch.float16)\n",
      "\n",
      "subject:  Thomas Ong\n",
      "Mario Monti is a citizen of Italy.\n",
      "Ambar Roy is a citizen of India.\n",
      "Ronaldinho is a citizen of Brazil.\n",
      "{} is a citizen of\n",
      "tensor(13.8281, device='cuda:0', dtype=torch.float16) tensor(275.2500, device='cuda:0', dtype=torch.float16)\n",
      "\n",
      "subject:  Mario Monti\n",
      "Ronaldinho is a citizen of Brazil.\n",
      "Thomas Ong is a citizen of Singapore.\n",
      "Andrew Bogut is a citizen of Australia.\n",
      "{} is a citizen of\n",
      "tensor(23.4844, device='cuda:0', dtype=torch.float16) tensor(244.5000, device='cuda:0', dtype=torch.float16)\n",
      "\n",
      "subject:  Ronaldinho\n",
      "Ambar Roy is a citizen of India.\n",
      "Thomas Ong is a citizen of Singapore.\n",
      "Mario Monti is a citizen of Italy.\n",
      "{} is a citizen of\n",
      "tensor(9.1016, device='cuda:0', dtype=torch.float16) tensor(237.1250, device='cuda:0', dtype=torch.float16)\n",
      "\n"
     ]
    },
    {
     "data": {
      "application/vnd.jupyter.widget-view+json": {
       "model_id": "2f6e37067f5c4710b0afa0082908efa9",
       "version_major": 2,
       "version_minor": 0
      },
      "text/plain": [
       "  0%|          | 0/5 [00:00<?, ?it/s]"
      ]
     },
     "metadata": {},
     "output_type": "display_data"
    },
    {
     "name": "stdout",
     "output_type": "stream",
     "text": [
      "subject:  Thomas Ong\n",
      "Harashima is a citizen of Japan.\n",
      "Ronaldinho is a citizen of Brazil.\n",
      "Andrew Bogut is a citizen of Australia.\n",
      "{} is a citizen of\n",
      "tensor(13.4531, device='cuda:0', dtype=torch.float16) tensor(276.7500, device='cuda:0', dtype=torch.float16)\n",
      "\n",
      "subject:  Ronaldinho\n",
      "Harashima is a citizen of Japan.\n",
      "Mario Monti is a citizen of Italy.\n",
      "Andrew Bogut is a citizen of Australia.\n",
      "{} is a citizen of\n",
      "tensor(9.8750, device='cuda:0', dtype=torch.float16) tensor(233.2500, device='cuda:0', dtype=torch.float16)\n",
      "\n",
      "subject:  Harashima\n",
      "Thomas Ong is a citizen of Singapore.\n",
      "Mario Monti is a citizen of Italy.\n",
      "Andrew Bogut is a citizen of Australia.\n",
      "{} is a citizen of\n",
      "tensor(17.7188, device='cuda:0', dtype=torch.float16) tensor(304., device='cuda:0', dtype=torch.float16)\n",
      "\n",
      "subject:  Mario Monti\n",
      "Andrew Bogut is a citizen of Australia.\n",
      "Thomas Ong is a citizen of Singapore.\n",
      "Ronaldinho is a citizen of Brazil.\n",
      "{} is a citizen of\n",
      "tensor(21.3438, device='cuda:0', dtype=torch.float16) tensor(243.7500, device='cuda:0', dtype=torch.float16)\n",
      "\n",
      "subject:  Andrew Bogut\n",
      "Thomas Ong is a citizen of Singapore.\n",
      "Ronaldinho is a citizen of Brazil.\n",
      "Harashima is a citizen of Japan.\n",
      "{} is a citizen of\n",
      "tensor(22.0469, device='cuda:0', dtype=torch.float16) tensor(258.7500, device='cuda:0', dtype=torch.float16)\n",
      "\n"
     ]
    },
    {
     "data": {
      "application/vnd.jupyter.widget-view+json": {
       "model_id": "b938c78348ff41e684ed4ef80c07fe1b",
       "version_major": 2,
       "version_minor": 0
      },
      "text/plain": [
       "  0%|          | 0/5 [00:00<?, ?it/s]"
      ]
     },
     "metadata": {},
     "output_type": "display_data"
    },
    {
     "name": "stdout",
     "output_type": "stream",
     "text": [
      "subject:  Thomas Ong\n",
      "Andrew Bogut is a citizen of Australia.\n",
      "Harashima is a citizen of Japan.\n",
      "Mario Monti is a citizen of Italy.\n",
      "{} is a citizen of\n",
      "tensor(13.5703, device='cuda:0', dtype=torch.float16) tensor(286.5000, device='cuda:0', dtype=torch.float16)\n",
      "\n",
      "subject:  Ronaldinho\n",
      "Harashima is a citizen of Japan.\n",
      "Mario Monti is a citizen of Italy.\n",
      "Andrew Bogut is a citizen of Australia.\n",
      "{} is a citizen of\n",
      "tensor(9.8750, device='cuda:0', dtype=torch.float16) tensor(233.2500, device='cuda:0', dtype=torch.float16)\n",
      "\n",
      "subject:  Mario Monti\n",
      "Ronaldinho is a citizen of Brazil.\n",
      "Thomas Ong is a citizen of Singapore.\n",
      "Harashima is a citizen of Japan.\n",
      "{} is a citizen of\n",
      "tensor(24.3438, device='cuda:0', dtype=torch.float16) tensor(247.7500, device='cuda:0', dtype=torch.float16)\n",
      "\n",
      "subject:  Andrew Bogut\n",
      "Ronaldinho is a citizen of Brazil.\n",
      "Harashima is a citizen of Japan.\n",
      "Mario Monti is a citizen of Italy.\n",
      "{} is a citizen of\n",
      "tensor(22.5469, device='cuda:0', dtype=torch.float16) tensor(257.5000, device='cuda:0', dtype=torch.float16)\n",
      "\n",
      "subject:  Harashima\n",
      "Mario Monti is a citizen of Italy.\n",
      "Ronaldinho is a citizen of Brazil.\n",
      "Andrew Bogut is a citizen of Australia.\n",
      "{} is a citizen of\n",
      "tensor(19.9844, device='cuda:0', dtype=torch.float16) tensor(297.5000, device='cuda:0', dtype=torch.float16)\n",
      "\n"
     ]
    },
    {
     "data": {
      "application/vnd.jupyter.widget-view+json": {
       "model_id": "ab28398e60e64ab6b57f24c1af9f7d70",
       "version_major": 2,
       "version_minor": 0
      },
      "text/plain": [
       "  0%|          | 0/5 [00:00<?, ?it/s]"
      ]
     },
     "metadata": {},
     "output_type": "display_data"
    },
    {
     "name": "stdout",
     "output_type": "stream",
     "text": [
      "subject:  Ambar Roy\n",
      "Thomas Ong is a citizen of Singapore.\n",
      "Andrew Bogut is a citizen of Australia.\n",
      "Harashima is a citizen of Japan.\n",
      "{} is a citizen of\n",
      "tensor(12.1172, device='cuda:0', dtype=torch.float16) tensor(269.7500, device='cuda:0', dtype=torch.float16)\n",
      "\n",
      "subject:  Andrew Bogut\n",
      "Ambar Roy is a citizen of India.\n",
      "Harashima is a citizen of Japan.\n",
      "Thomas Ong is a citizen of Singapore.\n",
      "{} is a citizen of\n",
      "tensor(15.0469, device='cuda:0', dtype=torch.float16) tensor(262.5000, device='cuda:0', dtype=torch.float16)\n",
      "\n",
      "subject:  Harashima\n",
      "Ronaldinho is a citizen of Brazil.\n",
      "Thomas Ong is a citizen of Singapore.\n",
      "Andrew Bogut is a citizen of Australia.\n",
      "{} is a citizen of\n",
      "tensor(16.9062, device='cuda:0', dtype=torch.float16) tensor(306.2500, device='cuda:0', dtype=torch.float16)\n",
      "\n",
      "subject:  Ronaldinho\n",
      "Thomas Ong is a citizen of Singapore.\n",
      "Harashima is a citizen of Japan.\n",
      "Ambar Roy is a citizen of India.\n",
      "{} is a citizen of\n",
      "tensor(6.2695, device='cuda:0', dtype=torch.float16) tensor(254.6250, device='cuda:0', dtype=torch.float16)\n",
      "\n",
      "subject:  Thomas Ong\n",
      "Ambar Roy is a citizen of India.\n",
      "Harashima is a citizen of Japan.\n",
      "Andrew Bogut is a citizen of Australia.\n",
      "{} is a citizen of\n",
      "tensor(11.0625, device='cuda:0', dtype=torch.float16) tensor(271., device='cuda:0', dtype=torch.float16)\n",
      "\n"
     ]
    },
    {
     "data": {
      "application/vnd.jupyter.widget-view+json": {
       "model_id": "4e5f6dd190c44acba500e53e110effce",
       "version_major": 2,
       "version_minor": 0
      },
      "text/plain": [
       "  0%|          | 0/5 [00:00<?, ?it/s]"
      ]
     },
     "metadata": {},
     "output_type": "display_data"
    },
    {
     "name": "stdout",
     "output_type": "stream",
     "text": [
      "subject:  Ronaldinho\n",
      "Mario Monti is a citizen of Italy.\n",
      "Pierre Cardin is a citizen of France.\n",
      "Harashima is a citizen of Japan.\n",
      "{} is a citizen of\n",
      "tensor(8.3984, device='cuda:0', dtype=torch.float16) tensor(243.8750, device='cuda:0', dtype=torch.float16)\n",
      "\n",
      "subject:  Pierre Cardin\n",
      "Thomas Ong is a citizen of Singapore.\n",
      "Harashima is a citizen of Japan.\n",
      "Ronaldinho is a citizen of Brazil.\n",
      "{} is a citizen of\n",
      "tensor(9.2656, device='cuda:0', dtype=torch.float16) tensor(249.5000, device='cuda:0', dtype=torch.float16)\n",
      "\n",
      "subject:  Harashima\n",
      "Mario Monti is a citizen of Italy.\n",
      "Pierre Cardin is a citizen of France.\n",
      "Ronaldinho is a citizen of Brazil.\n",
      "{} is a citizen of\n",
      "tensor(14.0859, device='cuda:0', dtype=torch.float16) tensor(301.2500, device='cuda:0', dtype=torch.float16)\n",
      "\n",
      "subject:  Thomas Ong\n",
      "Pierre Cardin is a citizen of France.\n",
      "Harashima is a citizen of Japan.\n",
      "Ronaldinho is a citizen of Brazil.\n",
      "{} is a citizen of\n",
      "tensor(15.0234, device='cuda:0', dtype=torch.float16) tensor(277.2500, device='cuda:0', dtype=torch.float16)\n",
      "\n",
      "subject:  Mario Monti\n",
      "Harashima is a citizen of Japan.\n",
      "Thomas Ong is a citizen of Singapore.\n",
      "Ronaldinho is a citizen of Brazil.\n",
      "{} is a citizen of\n",
      "tensor(21.3281, device='cuda:0', dtype=torch.float16) tensor(244.2500, device='cuda:0', dtype=torch.float16)\n",
      "\n"
     ]
    },
    {
     "data": {
      "application/vnd.jupyter.widget-view+json": {
       "model_id": "27644a7471fc421bbbec69617764ca9b",
       "version_major": 2,
       "version_minor": 0
      },
      "text/plain": [
       "  0%|          | 0/5 [00:00<?, ?it/s]"
      ]
     },
     "metadata": {},
     "output_type": "display_data"
    },
    {
     "name": "stdout",
     "output_type": "stream",
     "text": [
      "subject:  Ronaldinho\n",
      "Andrew Bogut is a citizen of Australia.\n",
      "Pierre Cardin is a citizen of France.\n",
      "Ambar Roy is a citizen of India.\n",
      "{} is a citizen of\n",
      "tensor(7.1719, device='cuda:0', dtype=torch.float16) tensor(239.1250, device='cuda:0', dtype=torch.float16)\n",
      "\n",
      "subject:  Mario Monti\n",
      "Ambar Roy is a citizen of India.\n",
      "Pierre Cardin is a citizen of France.\n",
      "Andrew Bogut is a citizen of Australia.\n",
      "{} is a citizen of\n",
      "tensor(21.8594, device='cuda:0', dtype=torch.float16) tensor(238.7500, device='cuda:0', dtype=torch.float16)\n",
      "\n",
      "subject:  Andrew Bogut\n",
      "Ambar Roy is a citizen of India.\n",
      "Pierre Cardin is a citizen of France.\n",
      "Mario Monti is a citizen of Italy.\n",
      "{} is a citizen of\n",
      "tensor(20.0781, device='cuda:0', dtype=torch.float16) tensor(249.2500, device='cuda:0', dtype=torch.float16)\n",
      "\n",
      "subject:  Pierre Cardin\n",
      "Mario Monti is a citizen of Italy.\n",
      "Andrew Bogut is a citizen of Australia.\n",
      "Ambar Roy is a citizen of India.\n",
      "{} is a citizen of\n",
      "tensor(8.6484, device='cuda:0', dtype=torch.float16) tensor(248.6250, device='cuda:0', dtype=torch.float16)\n",
      "\n",
      "subject:  Ambar Roy\n",
      "Ronaldinho is a citizen of Brazil.\n",
      "Andrew Bogut is a citizen of Australia.\n",
      "Pierre Cardin is a citizen of France.\n",
      "{} is a citizen of\n",
      "tensor(12.3516, device='cuda:0', dtype=torch.float16) tensor(280.2500, device='cuda:0', dtype=torch.float16)\n",
      "\n"
     ]
    },
    {
     "data": {
      "application/vnd.jupyter.widget-view+json": {
       "model_id": "2e6286f7cb15411b8b8958d088a24c56",
       "version_major": 2,
       "version_minor": 0
      },
      "text/plain": [
       "  0%|          | 0/5 [00:00<?, ?it/s]"
      ]
     },
     "metadata": {},
     "output_type": "display_data"
    },
    {
     "name": "stdout",
     "output_type": "stream",
     "text": [
      "subject:  Pierre Cardin\n",
      "Ambar Roy is a citizen of India.\n",
      "Harashima is a citizen of Japan.\n",
      "Thomas Ong is a citizen of Singapore.\n",
      "{} is a citizen of\n",
      "tensor(6.3672, device='cuda:0', dtype=torch.float16) tensor(247.8750, device='cuda:0', dtype=torch.float16)\n",
      "\n",
      "subject:  Ambar Roy\n",
      "Thomas Ong is a citizen of Singapore.\n",
      "Pierre Cardin is a citizen of France.\n",
      "Harashima is a citizen of Japan.\n",
      "{} is a citizen of\n",
      "tensor(9.4062, device='cuda:0', dtype=torch.float16) tensor(272.2500, device='cuda:0', dtype=torch.float16)\n",
      "\n",
      "subject:  Ronaldinho\n",
      "Pierre Cardin is a citizen of France.\n",
      "Ambar Roy is a citizen of India.\n",
      "Thomas Ong is a citizen of Singapore.\n",
      "{} is a citizen of\n",
      "tensor(6.8125, device='cuda:0', dtype=torch.float16) tensor(256.5000, device='cuda:0', dtype=torch.float16)\n",
      "\n",
      "subject:  Harashima\n",
      "Thomas Ong is a citizen of Singapore.\n",
      "Ambar Roy is a citizen of India.\n",
      "Pierre Cardin is a citizen of France.\n",
      "{} is a citizen of\n",
      "tensor(11.1719, device='cuda:0', dtype=torch.float16) tensor(326., device='cuda:0', dtype=torch.float16)\n",
      "\n",
      "subject:  Thomas Ong\n",
      "Ronaldinho is a citizen of Brazil.\n",
      "Harashima is a citizen of Japan.\n",
      "Pierre Cardin is a citizen of France.\n",
      "{} is a citizen of\n",
      "tensor(10.9531, device='cuda:0', dtype=torch.float16) tensor(293.2500, device='cuda:0', dtype=torch.float16)\n",
      "\n",
      "Saving weights and biases >>  gpt-j/jacobians_averaged_collection/P27.npz\n",
      "----------------------------------------------------\n",
      "zzzzzzzzzzzzzzzzzzzzzzzzzzzzzzzzzzzzzzzzzzzzzzzzzzzz\n",
      "P101 {} works in the field of\n",
      "zzzzzzzzzzzzzzzzzzzzzzzzzzzzzzzzzzzzzzzzzzzzzzzzzzzz\n",
      "82\n",
      "{} works in the field of\n"
     ]
    },
    {
     "data": {
      "application/vnd.jupyter.widget-view+json": {
       "model_id": "b547d24e0a964e589c77fd071fd6a8a5",
       "version_major": 2,
       "version_minor": 0
      },
      "text/plain": [
       "  0%|          | 0/10 [00:00<?, ?it/s]"
      ]
     },
     "metadata": {},
     "output_type": "display_data"
    },
    {
     "data": {
      "application/vnd.jupyter.widget-view+json": {
       "model_id": "9b5aa7714de944b9b74a6373318b5362",
       "version_major": 2,
       "version_minor": 0
      },
      "text/plain": [
       "  0%|          | 0/5 [00:00<?, ?it/s]"
      ]
     },
     "metadata": {},
     "output_type": "display_data"
    },
    {
     "name": "stdout",
     "output_type": "stream",
     "text": [
      "subject:  Max Weber\n",
      "European Physical Journal works in the field of physics.\n",
      "Michael Jackson works in the field of musician.\n",
      "Hypatia works in the field of mathematics.\n",
      "{} works in the field of\n",
      "tensor(2.3086, device='cuda:0', dtype=torch.float16) tensor(320., device='cuda:0', dtype=torch.float16)\n",
      "\n",
      "subject:  European Physical Journal\n",
      "Max Weber works in the field of sociology.\n",
      "Michael Jackson works in the field of musician.\n",
      "Hypatia works in the field of mathematics.\n",
      "{} works in the field of\n",
      "tensor(1.4014, device='cuda:0', dtype=torch.float16) tensor(336.7500, device='cuda:0', dtype=torch.float16)\n",
      "\n",
      "subject:  Hypatia\n",
      "European Physical Journal works in the field of physics.\n",
      "Max Weber works in the field of sociology.\n",
      "millennialism works in the field of theology.\n",
      "{} works in the field of\n",
      "tensor(28.9219, device='cuda:0', dtype=torch.float16) tensor(272.7500, device='cuda:0', dtype=torch.float16)\n",
      "\n",
      "subject:  millennialism\n",
      "European Physical Journal works in the field of physics.\n",
      "Max Weber works in the field of sociology.\n",
      "Hypatia works in the field of mathematics.\n",
      "{} works in the field of\n",
      "tensor(4.5703, device='cuda:0', dtype=torch.float16) tensor(307.5000, device='cuda:0', dtype=torch.float16)\n",
      "\n",
      "subject:  Michael Jackson\n",
      "Hypatia works in the field of mathematics.\n",
      "European Physical Journal works in the field of physics.\n",
      "millennialism works in the field of theology.\n",
      "{} works in the field of\n",
      "tensor(4.9883, device='cuda:0', dtype=torch.float16) tensor(286.7500, device='cuda:0', dtype=torch.float16)\n",
      "\n"
     ]
    },
    {
     "data": {
      "application/vnd.jupyter.widget-view+json": {
       "model_id": "3ced98b0c16e45c08363228ee73d857d",
       "version_major": 2,
       "version_minor": 0
      },
      "text/plain": [
       "  0%|          | 0/5 [00:00<?, ?it/s]"
      ]
     },
     "metadata": {},
     "output_type": "display_data"
    },
    {
     "name": "stdout",
     "output_type": "stream",
     "text": [
      "subject:  Michael Jackson\n",
      "Hypatia works in the field of mathematics.\n",
      "Carl Menger works in the field of economics.\n",
      "millennialism works in the field of theology.\n",
      "{} works in the field of\n",
      "tensor(4.8086, device='cuda:0', dtype=torch.float16) tensor(283.5000, device='cuda:0', dtype=torch.float16)\n",
      "\n",
      "subject:  Carl Menger\n",
      "Hypatia works in the field of mathematics.\n",
      "Michael Jackson works in the field of musician.\n",
      "Max Weber works in the field of sociology.\n",
      "{} works in the field of\n",
      "tensor(24.8594, device='cuda:0', dtype=torch.float16) tensor(267., device='cuda:0', dtype=torch.float16)\n",
      "\n",
      "subject:  millennialism\n",
      "Max Weber works in the field of sociology.\n",
      "Michael Jackson works in the field of musician.\n",
      "Carl Menger works in the field of economics.\n",
      "{} works in the field of\n",
      "tensor(3.8926, device='cuda:0', dtype=torch.float16) tensor(300.2500, device='cuda:0', dtype=torch.float16)\n",
      "\n",
      "subject:  Hypatia\n",
      "millennialism works in the field of theology.\n",
      "Carl Menger works in the field of economics.\n",
      "Michael Jackson works in the field of musician.\n",
      "{} works in the field of\n",
      "tensor(27.8438, device='cuda:0', dtype=torch.float16) tensor(276.2500, device='cuda:0', dtype=torch.float16)\n",
      "\n",
      "subject:  Max Weber\n",
      "millennialism works in the field of theology.\n",
      "Hypatia works in the field of mathematics.\n",
      "Michael Jackson works in the field of musician.\n",
      "{} works in the field of\n",
      "tensor(2.1602, device='cuda:0', dtype=torch.float16) tensor(303., device='cuda:0', dtype=torch.float16)\n",
      "\n"
     ]
    },
    {
     "data": {
      "application/vnd.jupyter.widget-view+json": {
       "model_id": "c51933dc53dd458091988daaf18b73e2",
       "version_major": 2,
       "version_minor": 0
      },
      "text/plain": [
       "  0%|          | 0/5 [00:00<?, ?it/s]"
      ]
     },
     "metadata": {},
     "output_type": "display_data"
    },
    {
     "name": "stdout",
     "output_type": "stream",
     "text": [
      "subject:  Hypatia\n",
      "European Physical Journal works in the field of physics.\n",
      "Edwin Hubble works in the field of astronomy.\n",
      "Michael Jackson works in the field of musician.\n",
      "{} works in the field of\n",
      "tensor(27.8125, device='cuda:0', dtype=torch.float16) tensor(300.7500, device='cuda:0', dtype=torch.float16)\n",
      "\n",
      "subject:  European Physical Journal\n",
      "Michael Jackson works in the field of musician.\n",
      "Euclid works in the field of geometry.\n",
      "Hypatia works in the field of mathematics.\n",
      "{} works in the field of\n",
      "tensor(1.6338, device='cuda:0', dtype=torch.float16) tensor(323.5000, device='cuda:0', dtype=torch.float16)\n",
      "\n",
      "subject:  Edwin Hubble\n",
      "Michael Jackson works in the field of musician.\n",
      "Euclid works in the field of geometry.\n",
      "Hypatia works in the field of mathematics.\n",
      "{} works in the field of\n",
      "tensor(2.0215, device='cuda:0', dtype=torch.float16) tensor(300.2500, device='cuda:0', dtype=torch.float16)\n",
      "\n",
      "subject:  Michael Jackson\n",
      "Edwin Hubble works in the field of astronomy.\n",
      "European Physical Journal works in the field of physics.\n",
      "Euclid works in the field of geometry.\n",
      "{} works in the field of\n",
      "tensor(4.5312, device='cuda:0', dtype=torch.float16) tensor(268., device='cuda:0', dtype=torch.float16)\n",
      "\n",
      "subject:  Euclid\n",
      "Hypatia works in the field of mathematics.\n",
      "European Physical Journal works in the field of physics.\n",
      "Michael Jackson works in the field of musician.\n",
      "{} works in the field of\n",
      "tensor(2.4297, device='cuda:0', dtype=torch.float16) tensor(315.7500, device='cuda:0', dtype=torch.float16)\n",
      "\n"
     ]
    },
    {
     "data": {
      "application/vnd.jupyter.widget-view+json": {
       "model_id": "8df68b664ea74a2ab37b0c5ab74eb3c5",
       "version_major": 2,
       "version_minor": 0
      },
      "text/plain": [
       "  0%|          | 0/5 [00:00<?, ?it/s]"
      ]
     },
     "metadata": {},
     "output_type": "display_data"
    },
    {
     "name": "stdout",
     "output_type": "stream",
     "text": [
      "subject:  Sima Qian\n",
      "Michael Jackson works in the field of musician.\n",
      "European Physical Journal works in the field of physics.\n",
      "Hypatia works in the field of mathematics.\n",
      "{} works in the field of\n",
      "tensor(4.9844, device='cuda:0', dtype=torch.float16) tensor(300.7500, device='cuda:0', dtype=torch.float16)\n",
      "\n",
      "subject:  James Hillman\n",
      "Hypatia works in the field of mathematics.\n",
      "Michael Jackson works in the field of musician.\n",
      "European Physical Journal works in the field of physics.\n",
      "{} works in the field of\n",
      "tensor(15.0312, device='cuda:0', dtype=torch.float16) tensor(311., device='cuda:0', dtype=torch.float16)\n",
      "\n",
      "subject:  Michael Jackson\n",
      "European Physical Journal works in the field of physics.\n",
      "Sima Qian works in the field of history.\n",
      "James Hillman works in the field of psychology.\n",
      "{} works in the field of\n",
      "tensor(3.2207, device='cuda:0', dtype=torch.float16) tensor(299.2500, device='cuda:0', dtype=torch.float16)\n",
      "\n",
      "subject:  European Physical Journal\n",
      "Michael Jackson works in the field of musician.\n",
      "Sima Qian works in the field of history.\n",
      "James Hillman works in the field of psychology.\n",
      "{} works in the field of\n",
      "tensor(1.1406, device='cuda:0', dtype=torch.float16) tensor(335., device='cuda:0', dtype=torch.float16)\n",
      "\n",
      "subject:  Hypatia\n",
      "European Physical Journal works in the field of physics.\n",
      "Michael Jackson works in the field of musician.\n",
      "Sima Qian works in the field of history.\n",
      "{} works in the field of\n",
      "tensor(26.9844, device='cuda:0', dtype=torch.float16) tensor(310.7500, device='cuda:0', dtype=torch.float16)\n",
      "\n"
     ]
    },
    {
     "data": {
      "application/vnd.jupyter.widget-view+json": {
       "model_id": "a9e1ee554f5f4846a60b571a84017e74",
       "version_major": 2,
       "version_minor": 0
      },
      "text/plain": [
       "  0%|          | 0/5 [00:00<?, ?it/s]"
      ]
     },
     "metadata": {},
     "output_type": "display_data"
    },
    {
     "name": "stdout",
     "output_type": "stream",
     "text": [
      "subject:  Euclid\n",
      "European Physical Journal works in the field of physics.\n",
      "millennialism works in the field of theology.\n",
      "Edwin Hubble works in the field of astronomy.\n",
      "{} works in the field of\n",
      "tensor(2.2910, device='cuda:0', dtype=torch.float16) tensor(273.7500, device='cuda:0', dtype=torch.float16)\n",
      "\n",
      "subject:  Edwin Hubble\n",
      "James Hillman works in the field of psychology.\n",
      "millennialism works in the field of theology.\n",
      "European Physical Journal works in the field of physics.\n",
      "{} works in the field of\n",
      "tensor(1.6133, device='cuda:0', dtype=torch.float16) tensor(297.7500, device='cuda:0', dtype=torch.float16)\n",
      "\n",
      "subject:  European Physical Journal\n",
      "millennialism works in the field of theology.\n",
      "Edwin Hubble works in the field of astronomy.\n",
      "Euclid works in the field of geometry.\n",
      "{} works in the field of\n",
      "tensor(1.5264, device='cuda:0', dtype=torch.float16) tensor(284.7500, device='cuda:0', dtype=torch.float16)\n",
      "\n",
      "subject:  James Hillman\n",
      "Edwin Hubble works in the field of astronomy.\n",
      "European Physical Journal works in the field of physics.\n",
      "Euclid works in the field of geometry.\n",
      "{} works in the field of\n",
      "tensor(13., device='cuda:0', dtype=torch.float16) tensor(268.7500, device='cuda:0', dtype=torch.float16)\n",
      "\n",
      "subject:  millennialism\n",
      "Edwin Hubble works in the field of astronomy.\n",
      "James Hillman works in the field of psychology.\n",
      "European Physical Journal works in the field of physics.\n",
      "{} works in the field of\n",
      "tensor(4.0586, device='cuda:0', dtype=torch.float16) tensor(252.8750, device='cuda:0', dtype=torch.float16)\n",
      "\n"
     ]
    },
    {
     "data": {
      "application/vnd.jupyter.widget-view+json": {
       "model_id": "7fde6d8749b54f9da80fb607b8c92865",
       "version_major": 2,
       "version_minor": 0
      },
      "text/plain": [
       "  0%|          | 0/5 [00:00<?, ?it/s]"
      ]
     },
     "metadata": {},
     "output_type": "display_data"
    },
    {
     "name": "stdout",
     "output_type": "stream",
     "text": [
      "subject:  James Hillman\n",
      "Carl Menger works in the field of economics.\n",
      "European Physical Journal works in the field of physics.\n",
      "Max Weber works in the field of sociology.\n",
      "{} works in the field of\n",
      "tensor(14.6016, device='cuda:0', dtype=torch.float16) tensor(291.7500, device='cuda:0', dtype=torch.float16)\n",
      "\n",
      "subject:  European Physical Journal\n",
      "James Hillman works in the field of psychology.\n",
      "millennialism works in the field of theology.\n",
      "Carl Menger works in the field of economics.\n",
      "{} works in the field of\n",
      "tensor(1.7334, device='cuda:0', dtype=torch.float16) tensor(309.5000, device='cuda:0', dtype=torch.float16)\n",
      "\n",
      "subject:  millennialism\n",
      "European Physical Journal works in the field of physics.\n",
      "Max Weber works in the field of sociology.\n",
      "Carl Menger works in the field of economics.\n",
      "{} works in the field of\n",
      "tensor(5.2109, device='cuda:0', dtype=torch.float16) tensor(301.5000, device='cuda:0', dtype=torch.float16)\n",
      "\n",
      "subject:  Carl Menger\n",
      "millennialism works in the field of theology.\n",
      "James Hillman works in the field of psychology.\n",
      "European Physical Journal works in the field of physics.\n",
      "{} works in the field of\n",
      "tensor(22.7031, device='cuda:0', dtype=torch.float16) tensor(257.2500, device='cuda:0', dtype=torch.float16)\n",
      "\n",
      "subject:  Max Weber\n",
      "European Physical Journal works in the field of physics.\n",
      "James Hillman works in the field of psychology.\n",
      "Carl Menger works in the field of economics.\n",
      "{} works in the field of\n",
      "tensor(1.6758, device='cuda:0', dtype=torch.float16) tensor(276., device='cuda:0', dtype=torch.float16)\n",
      "\n"
     ]
    },
    {
     "data": {
      "application/vnd.jupyter.widget-view+json": {
       "model_id": "0ae9fade24194d33862fbfa206fbf995",
       "version_major": 2,
       "version_minor": 0
      },
      "text/plain": [
       "  0%|          | 0/5 [00:00<?, ?it/s]"
      ]
     },
     "metadata": {},
     "output_type": "display_data"
    },
    {
     "name": "stdout",
     "output_type": "stream",
     "text": [
      "subject:  James Hillman\n",
      "Euclid works in the field of geometry.\n",
      "Sima Qian works in the field of history.\n",
      "European Physical Journal works in the field of physics.\n",
      "{} works in the field of\n",
      "tensor(16.4219, device='cuda:0', dtype=torch.float16) tensor(283., device='cuda:0', dtype=torch.float16)\n",
      "\n",
      "subject:  Hypatia\n",
      "European Physical Journal works in the field of physics.\n",
      "James Hillman works in the field of psychology.\n",
      "Sima Qian works in the field of history.\n",
      "{} works in the field of\n",
      "tensor(28.6562, device='cuda:0', dtype=torch.float16) tensor(264.7500, device='cuda:0', dtype=torch.float16)\n",
      "\n",
      "subject:  Euclid\n",
      "European Physical Journal works in the field of physics.\n",
      "Hypatia works in the field of mathematics.\n",
      "Sima Qian works in the field of history.\n",
      "{} works in the field of\n",
      "tensor(2.3379, device='cuda:0', dtype=torch.float16) tensor(278., device='cuda:0', dtype=torch.float16)\n",
      "\n",
      "subject:  European Physical Journal\n",
      "James Hillman works in the field of psychology.\n",
      "Sima Qian works in the field of history.\n",
      "Hypatia works in the field of mathematics.\n",
      "{} works in the field of\n",
      "tensor(1.6172, device='cuda:0', dtype=torch.float16) tensor(312.5000, device='cuda:0', dtype=torch.float16)\n",
      "\n",
      "subject:  Sima Qian\n",
      "Hypatia works in the field of mathematics.\n",
      "Euclid works in the field of geometry.\n",
      "European Physical Journal works in the field of physics.\n",
      "{} works in the field of\n",
      "tensor(6.0977, device='cuda:0', dtype=torch.float16) tensor(285., device='cuda:0', dtype=torch.float16)\n",
      "\n"
     ]
    },
    {
     "data": {
      "application/vnd.jupyter.widget-view+json": {
       "model_id": "61dd068bc7bb4f73806c2a6b2ed9f264",
       "version_major": 2,
       "version_minor": 0
      },
      "text/plain": [
       "  0%|          | 0/5 [00:00<?, ?it/s]"
      ]
     },
     "metadata": {},
     "output_type": "display_data"
    },
    {
     "name": "stdout",
     "output_type": "stream",
     "text": [
      "subject:  Carl Menger\n",
      "James Hillman works in the field of psychology.\n",
      "millennialism works in the field of theology.\n",
      "Hypatia works in the field of mathematics.\n",
      "{} works in the field of\n",
      "tensor(23.7812, device='cuda:0', dtype=torch.float16) tensor(274., device='cuda:0', dtype=torch.float16)\n",
      "\n",
      "subject:  Hypatia\n",
      "Michael Jackson works in the field of musician.\n",
      "millennialism works in the field of theology.\n",
      "Carl Menger works in the field of economics.\n",
      "{} works in the field of\n",
      "tensor(26.0625, device='cuda:0', dtype=torch.float16) tensor(278.2500, device='cuda:0', dtype=torch.float16)\n",
      "\n",
      "subject:  millennialism\n",
      "James Hillman works in the field of psychology.\n",
      "Hypatia works in the field of mathematics.\n",
      "Carl Menger works in the field of economics.\n",
      "{} works in the field of\n",
      "tensor(4.6953, device='cuda:0', dtype=torch.float16) tensor(294.7500, device='cuda:0', dtype=torch.float16)\n",
      "\n",
      "subject:  Michael Jackson\n",
      "Carl Menger works in the field of economics.\n",
      "James Hillman works in the field of psychology.\n",
      "Hypatia works in the field of mathematics.\n",
      "{} works in the field of\n",
      "tensor(3.2285, device='cuda:0', dtype=torch.float16) tensor(300.5000, device='cuda:0', dtype=torch.float16)\n",
      "\n",
      "subject:  James Hillman\n",
      "Michael Jackson works in the field of musician.\n",
      "Hypatia works in the field of mathematics.\n",
      "millennialism works in the field of theology.\n",
      "{} works in the field of\n",
      "tensor(14.9531, device='cuda:0', dtype=torch.float16) tensor(282.5000, device='cuda:0', dtype=torch.float16)\n",
      "\n"
     ]
    },
    {
     "data": {
      "application/vnd.jupyter.widget-view+json": {
       "model_id": "52777a9c6d204670b38f12ecd1ac2996",
       "version_major": 2,
       "version_minor": 0
      },
      "text/plain": [
       "  0%|          | 0/5 [00:00<?, ?it/s]"
      ]
     },
     "metadata": {},
     "output_type": "display_data"
    },
    {
     "name": "stdout",
     "output_type": "stream",
     "text": [
      "subject:  James Hillman\n",
      "Euclid works in the field of geometry.\n",
      "Edwin Hubble works in the field of astronomy.\n",
      "Carl Menger works in the field of economics.\n",
      "{} works in the field of\n",
      "tensor(15.4062, device='cuda:0', dtype=torch.float16) tensor(265.5000, device='cuda:0', dtype=torch.float16)\n",
      "\n",
      "subject:  Carl Menger\n",
      "James Hillman works in the field of psychology.\n",
      "Euclid works in the field of geometry.\n",
      "Edwin Hubble works in the field of astronomy.\n",
      "{} works in the field of\n",
      "tensor(20.0312, device='cuda:0', dtype=torch.float16) tensor(259.5000, device='cuda:0', dtype=torch.float16)\n",
      "\n",
      "subject:  Edwin Hubble\n",
      "James Hillman works in the field of psychology.\n",
      "Carl Menger works in the field of economics.\n",
      "Hypatia works in the field of mathematics.\n",
      "{} works in the field of\n",
      "tensor(1.5928, device='cuda:0', dtype=torch.float16) tensor(291.7500, device='cuda:0', dtype=torch.float16)\n",
      "\n",
      "subject:  Euclid\n",
      "James Hillman works in the field of psychology.\n",
      "Edwin Hubble works in the field of astronomy.\n",
      "Carl Menger works in the field of economics.\n",
      "{} works in the field of\n",
      "tensor(1.8115, device='cuda:0', dtype=torch.float16) tensor(247.2500, device='cuda:0', dtype=torch.float16)\n",
      "\n",
      "subject:  Hypatia\n",
      "James Hillman works in the field of psychology.\n",
      "Edwin Hubble works in the field of astronomy.\n",
      "Euclid works in the field of geometry.\n",
      "{} works in the field of\n",
      "tensor(28.3125, device='cuda:0', dtype=torch.float16) tensor(228.2500, device='cuda:0', dtype=torch.float16)\n",
      "\n"
     ]
    },
    {
     "data": {
      "application/vnd.jupyter.widget-view+json": {
       "model_id": "a660ec4520454f838fd4e578b339759e",
       "version_major": 2,
       "version_minor": 0
      },
      "text/plain": [
       "  0%|          | 0/5 [00:00<?, ?it/s]"
      ]
     },
     "metadata": {},
     "output_type": "display_data"
    },
    {
     "name": "stdout",
     "output_type": "stream",
     "text": [
      "subject:  Michael Jackson\n",
      "Carl Menger works in the field of economics.\n",
      "Max Weber works in the field of sociology.\n",
      "Edwin Hubble works in the field of astronomy.\n",
      "{} works in the field of\n",
      "tensor(3.8828, device='cuda:0', dtype=torch.float16) tensor(284.5000, device='cuda:0', dtype=torch.float16)\n",
      "\n",
      "subject:  Carl Menger\n",
      "Max Weber works in the field of sociology.\n",
      "Edwin Hubble works in the field of astronomy.\n",
      "millennialism works in the field of theology.\n",
      "{} works in the field of\n",
      "tensor(23.0625, device='cuda:0', dtype=torch.float16) tensor(253.1250, device='cuda:0', dtype=torch.float16)\n",
      "\n",
      "subject:  Max Weber\n",
      "millennialism works in the field of theology.\n",
      "Michael Jackson works in the field of musician.\n",
      "Carl Menger works in the field of economics.\n",
      "{} works in the field of\n",
      "tensor(1.8262, device='cuda:0', dtype=torch.float16) tensor(271.7500, device='cuda:0', dtype=torch.float16)\n",
      "\n",
      "subject:  millennialism\n",
      "Edwin Hubble works in the field of astronomy.\n",
      "Carl Menger works in the field of economics.\n",
      "Michael Jackson works in the field of musician.\n",
      "{} works in the field of\n",
      "tensor(3.7559, device='cuda:0', dtype=torch.float16) tensor(295.7500, device='cuda:0', dtype=torch.float16)\n",
      "\n",
      "subject:  Edwin Hubble\n",
      "Carl Menger works in the field of economics.\n",
      "Max Weber works in the field of sociology.\n",
      "millennialism works in the field of theology.\n",
      "{} works in the field of\n",
      "tensor(1.5059, device='cuda:0', dtype=torch.float16) tensor(312.2500, device='cuda:0', dtype=torch.float16)\n",
      "\n",
      "Saving weights and biases >>  gpt-j/jacobians_averaged_collection/P101.npz\n",
      "----------------------------------------------------\n",
      "zzzzzzzzzzzzzzzzzzzzzzzzzzzzzzzzzzzzzzzzzzzzzzzzzzzz\n",
      "P19 {} was born in\n",
      "zzzzzzzzzzzzzzzzzzzzzzzzzzzzzzzzzzzzzzzzzzzzzzzzzzzz\n",
      "128\n",
      "{} was born in\n"
     ]
    },
    {
     "data": {
      "application/vnd.jupyter.widget-view+json": {
       "model_id": "a99e726164f64384a7e0c366883d2055",
       "version_major": 2,
       "version_minor": 0
      },
      "text/plain": [
       "  0%|          | 0/10 [00:00<?, ?it/s]"
      ]
     },
     "metadata": {},
     "output_type": "display_data"
    },
    {
     "data": {
      "application/vnd.jupyter.widget-view+json": {
       "model_id": "e2edeff067dd4e1089a1303bfdb7f33b",
       "version_major": 2,
       "version_minor": 0
      },
      "text/plain": [
       "  0%|          | 0/5 [00:00<?, ?it/s]"
      ]
     },
     "metadata": {},
     "output_type": "display_data"
    },
    {
     "name": "stdout",
     "output_type": "stream",
     "text": [
      "subject:  The Weeknd\n",
      "Edward Said was born in Jerusalem.\n",
      "Maria Altmann was born in Vienna.\n",
      "Mayumi Tanaka was born in Tokyo.\n",
      "{} was born in\n",
      "tensor(15.0859, device='cuda:0', dtype=torch.float16) tensor(150.6250, device='cuda:0', dtype=torch.float16)\n",
      "\n",
      "subject:  Maria Altmann\n",
      "Mayumi Tanaka was born in Tokyo.\n",
      "The Weeknd was born in Toronto.\n",
      "Paul Kimmage was born in Dublin.\n",
      "{} was born in\n",
      "tensor(32.3438, device='cuda:0', dtype=torch.float16) tensor(233.3750, device='cuda:0', dtype=torch.float16)\n",
      "\n",
      "subject:  Edward Said\n",
      "Maria Altmann was born in Vienna.\n",
      "Mayumi Tanaka was born in Tokyo.\n",
      "The Weeknd was born in Toronto.\n",
      "{} was born in\n",
      "tensor(7.1914, device='cuda:0', dtype=torch.float16) tensor(141.5000, device='cuda:0', dtype=torch.float16)\n",
      "\n",
      "subject:  Paul Kimmage\n",
      "Mayumi Tanaka was born in Tokyo.\n",
      "The Weeknd was born in Toronto.\n",
      "Maria Altmann was born in Vienna.\n",
      "{} was born in\n",
      "tensor(4.5078, device='cuda:0', dtype=torch.float16) tensor(325.2500, device='cuda:0', dtype=torch.float16)\n",
      "\n",
      "subject:  Mayumi Tanaka\n",
      "Edward Said was born in Jerusalem.\n",
      "Maria Altmann was born in Vienna.\n",
      "The Weeknd was born in Toronto.\n",
      "{} was born in\n",
      "tensor(1.9775, device='cuda:0', dtype=torch.float16) tensor(360.5000, device='cuda:0', dtype=torch.float16)\n",
      "\n"
     ]
    },
    {
     "data": {
      "application/vnd.jupyter.widget-view+json": {
       "model_id": "fe5723efce12419ebc80df8de50f0175",
       "version_major": 2,
       "version_minor": 0
      },
      "text/plain": [
       "  0%|          | 0/5 [00:00<?, ?it/s]"
      ]
     },
     "metadata": {},
     "output_type": "display_data"
    },
    {
     "name": "stdout",
     "output_type": "stream",
     "text": [
      "subject:  Sergey Lavrov\n",
      "Maria Altmann was born in Vienna.\n",
      "Daniel Alfredson was born in Stockholm.\n",
      "Mayumi Tanaka was born in Tokyo.\n",
      "{} was born in\n",
      "tensor(1.1074, device='cuda:0', dtype=torch.float16) tensor(237.6250, device='cuda:0', dtype=torch.float16)\n",
      "\n",
      "subject:  Mayumi Tanaka\n",
      "Daniel Alfredson was born in Stockholm.\n",
      "The Weeknd was born in Toronto.\n",
      "Sergey Lavrov was born in Moscow.\n",
      "{} was born in\n",
      "tensor(1.9844, device='cuda:0', dtype=torch.float16) tensor(345., device='cuda:0', dtype=torch.float16)\n",
      "\n",
      "subject:  Daniel Alfredson\n",
      "Maria Altmann was born in Vienna.\n",
      "The Weeknd was born in Toronto.\n",
      "Mayumi Tanaka was born in Tokyo.\n",
      "{} was born in\n",
      "tensor(26.9375, device='cuda:0', dtype=torch.float16) tensor(286.2500, device='cuda:0', dtype=torch.float16)\n",
      "\n",
      "subject:  Maria Altmann\n",
      "Mayumi Tanaka was born in Tokyo.\n",
      "Daniel Alfredson was born in Stockholm.\n",
      "The Weeknd was born in Toronto.\n",
      "{} was born in\n",
      "tensor(33.4688, device='cuda:0', dtype=torch.float16) tensor(235.2500, device='cuda:0', dtype=torch.float16)\n",
      "\n",
      "subject:  The Weeknd\n",
      "Daniel Alfredson was born in Stockholm.\n",
      "Maria Altmann was born in Vienna.\n",
      "Sergey Lavrov was born in Moscow.\n",
      "{} was born in\n",
      "tensor(17.5156, device='cuda:0', dtype=torch.float16) tensor(148.3750, device='cuda:0', dtype=torch.float16)\n",
      "\n"
     ]
    },
    {
     "data": {
      "application/vnd.jupyter.widget-view+json": {
       "model_id": "ba8dab6fd92d4bfc9798ad6428e46f67",
       "version_major": 2,
       "version_minor": 0
      },
      "text/plain": [
       "  0%|          | 0/5 [00:00<?, ?it/s]"
      ]
     },
     "metadata": {},
     "output_type": "display_data"
    },
    {
     "name": "stdout",
     "output_type": "stream",
     "text": [
      "subject:  Mario Caiano\n",
      "Paul Epworth was born in London.\n",
      "Edward Said was born in Jerusalem.\n",
      "Sergey Lavrov was born in Moscow.\n",
      "{} was born in\n",
      "tensor(1.8154, device='cuda:0', dtype=torch.float16) tensor(329.2500, device='cuda:0', dtype=torch.float16)\n",
      "\n",
      "subject:  Edward Said\n",
      "Sergey Lavrov was born in Moscow.\n",
      "Mario Caiano was born in Rome.\n",
      "Paul Epworth was born in London.\n",
      "{} was born in\n",
      "tensor(8.6719, device='cuda:0', dtype=torch.float16) tensor(145.8750, device='cuda:0', dtype=torch.float16)\n",
      "\n",
      "subject:  Paul Epworth\n",
      "Mario Caiano was born in Rome.\n",
      "Edward Said was born in Jerusalem.\n",
      "Sergey Lavrov was born in Moscow.\n",
      "{} was born in\n",
      "tensor(10.8750, device='cuda:0', dtype=torch.float16) tensor(351., device='cuda:0', dtype=torch.float16)\n",
      "\n",
      "subject:  Daniel Alfredson\n",
      "Edward Said was born in Jerusalem.\n",
      "Sergey Lavrov was born in Moscow.\n",
      "Mario Caiano was born in Rome.\n",
      "{} was born in\n",
      "tensor(27.6250, device='cuda:0', dtype=torch.float16) tensor(305.2500, device='cuda:0', dtype=torch.float16)\n",
      "\n",
      "subject:  Sergey Lavrov\n",
      "Paul Epworth was born in London.\n",
      "Daniel Alfredson was born in Stockholm.\n",
      "Edward Said was born in Jerusalem.\n",
      "{} was born in\n",
      "tensor(0.9888, device='cuda:0', dtype=torch.float16) tensor(258., device='cuda:0', dtype=torch.float16)\n",
      "\n"
     ]
    },
    {
     "data": {
      "application/vnd.jupyter.widget-view+json": {
       "model_id": "fbb79d2009924b01a70ade310652db5d",
       "version_major": 2,
       "version_minor": 0
      },
      "text/plain": [
       "  0%|          | 0/5 [00:00<?, ?it/s]"
      ]
     },
     "metadata": {},
     "output_type": "display_data"
    },
    {
     "name": "stdout",
     "output_type": "stream",
     "text": [
      "subject:  Paul Epworth\n",
      "Mario Caiano was born in Rome.\n",
      "Mayumi Tanaka was born in Tokyo.\n",
      "Sirindhorn was born in Bangkok.\n",
      "{} was born in\n",
      "tensor(15.2578, device='cuda:0', dtype=torch.float16) tensor(335., device='cuda:0', dtype=torch.float16)\n",
      "\n",
      "subject:  Sirindhorn\n",
      "Paul Epworth was born in London.\n",
      "Mario Caiano was born in Rome.\n",
      "Mayumi Tanaka was born in Tokyo.\n",
      "{} was born in\n",
      "tensor(37.2500, device='cuda:0', dtype=torch.float16) tensor(211.2500, device='cuda:0', dtype=torch.float16)\n",
      "\n",
      "subject:  Mario Caiano\n",
      "Sirindhorn was born in Bangkok.\n",
      "Daniel Alfredson was born in Stockholm.\n",
      "Mayumi Tanaka was born in Tokyo.\n",
      "{} was born in\n",
      "tensor(1.6553, device='cuda:0', dtype=torch.float16) tensor(341.5000, device='cuda:0', dtype=torch.float16)\n",
      "\n",
      "subject:  Daniel Alfredson\n",
      "Mario Caiano was born in Rome.\n",
      "Mayumi Tanaka was born in Tokyo.\n",
      "Paul Epworth was born in London.\n",
      "{} was born in\n",
      "tensor(29.3125, device='cuda:0', dtype=torch.float16) tensor(302.5000, device='cuda:0', dtype=torch.float16)\n",
      "\n",
      "subject:  Mayumi Tanaka\n",
      "Paul Epworth was born in London.\n",
      "Daniel Alfredson was born in Stockholm.\n",
      "Mario Caiano was born in Rome.\n",
      "{} was born in\n",
      "tensor(1.8438, device='cuda:0', dtype=torch.float16) tensor(342.2500, device='cuda:0', dtype=torch.float16)\n",
      "\n"
     ]
    },
    {
     "data": {
      "application/vnd.jupyter.widget-view+json": {
       "model_id": "7b55a3a85c0e455da7cb0c225a40223c",
       "version_major": 2,
       "version_minor": 0
      },
      "text/plain": [
       "  0%|          | 0/5 [00:00<?, ?it/s]"
      ]
     },
     "metadata": {},
     "output_type": "display_data"
    },
    {
     "name": "stdout",
     "output_type": "stream",
     "text": [
      "subject:  The Weeknd\n",
      "Mayumi Tanaka was born in Tokyo.\n",
      "Sirindhorn was born in Bangkok.\n",
      "Sergey Lavrov was born in Moscow.\n",
      "{} was born in\n",
      "tensor(18.8281, device='cuda:0', dtype=torch.float16) tensor(155.2500, device='cuda:0', dtype=torch.float16)\n",
      "\n",
      "subject:  Mayumi Tanaka\n",
      "Sergey Lavrov was born in Moscow.\n",
      "Mario Caiano was born in Rome.\n",
      "Sirindhorn was born in Bangkok.\n",
      "{} was born in\n",
      "tensor(2.1328, device='cuda:0', dtype=torch.float16) tensor(321.5000, device='cuda:0', dtype=torch.float16)\n",
      "\n",
      "subject:  Sirindhorn\n",
      "The Weeknd was born in Toronto.\n",
      "Mayumi Tanaka was born in Tokyo.\n",
      "Mario Caiano was born in Rome.\n",
      "{} was born in\n",
      "tensor(37.7188, device='cuda:0', dtype=torch.float16) tensor(210.5000, device='cuda:0', dtype=torch.float16)\n",
      "\n",
      "subject:  Sergey Lavrov\n",
      "Mayumi Tanaka was born in Tokyo.\n",
      "Sirindhorn was born in Bangkok.\n",
      "Mario Caiano was born in Rome.\n",
      "{} was born in\n",
      "tensor(1.2646, device='cuda:0', dtype=torch.float16) tensor(225.5000, device='cuda:0', dtype=torch.float16)\n",
      "\n",
      "subject:  Mario Caiano\n",
      "Sergey Lavrov was born in Moscow.\n",
      "Mayumi Tanaka was born in Tokyo.\n",
      "The Weeknd was born in Toronto.\n",
      "{} was born in\n",
      "tensor(1.9014, device='cuda:0', dtype=torch.float16) tensor(338.5000, device='cuda:0', dtype=torch.float16)\n",
      "\n"
     ]
    },
    {
     "data": {
      "application/vnd.jupyter.widget-view+json": {
       "model_id": "410b2dece23c4bea9fcfa25cd988cd7e",
       "version_major": 2,
       "version_minor": 0
      },
      "text/plain": [
       "  0%|          | 0/5 [00:00<?, ?it/s]"
      ]
     },
     "metadata": {},
     "output_type": "display_data"
    },
    {
     "name": "stdout",
     "output_type": "stream",
     "text": [
      "subject:  Maria Altmann\n",
      "Daniel Alfredson was born in Stockholm.\n",
      "Mayumi Tanaka was born in Tokyo.\n",
      "Sirindhorn was born in Bangkok.\n",
      "{} was born in\n",
      "tensor(31.1250, device='cuda:0', dtype=torch.float16) tensor(239., device='cuda:0', dtype=torch.float16)\n",
      "\n",
      "subject:  Mayumi Tanaka\n",
      "Sirindhorn was born in Bangkok.\n",
      "Daniel Alfredson was born in Stockholm.\n",
      "The Weeknd was born in Toronto.\n",
      "{} was born in\n",
      "tensor(1.7676, device='cuda:0', dtype=torch.float16) tensor(340., device='cuda:0', dtype=torch.float16)\n",
      "\n",
      "subject:  Sirindhorn\n",
      "Daniel Alfredson was born in Stockholm.\n",
      "Mayumi Tanaka was born in Tokyo.\n",
      "Maria Altmann was born in Vienna.\n",
      "{} was born in\n",
      "tensor(37.8438, device='cuda:0', dtype=torch.float16) tensor(215.8750, device='cuda:0', dtype=torch.float16)\n",
      "\n",
      "subject:  The Weeknd\n",
      "Mayumi Tanaka was born in Tokyo.\n",
      "Daniel Alfredson was born in Stockholm.\n",
      "Sirindhorn was born in Bangkok.\n",
      "{} was born in\n",
      "tensor(25.2500, device='cuda:0', dtype=torch.float16) tensor(143.1250, device='cuda:0', dtype=torch.float16)\n",
      "\n",
      "subject:  Daniel Alfredson\n",
      "Sirindhorn was born in Bangkok.\n",
      "The Weeknd was born in Toronto.\n",
      "Maria Altmann was born in Vienna.\n",
      "{} was born in\n",
      "tensor(21.3438, device='cuda:0', dtype=torch.float16) tensor(294., device='cuda:0', dtype=torch.float16)\n",
      "\n"
     ]
    },
    {
     "data": {
      "application/vnd.jupyter.widget-view+json": {
       "model_id": "ab5f3a9d6029492c8e6c91f41c532b70",
       "version_major": 2,
       "version_minor": 0
      },
      "text/plain": [
       "  0%|          | 0/5 [00:00<?, ?it/s]"
      ]
     },
     "metadata": {},
     "output_type": "display_data"
    },
    {
     "name": "stdout",
     "output_type": "stream",
     "text": [
      "subject:  The Weeknd\n",
      "Sirindhorn was born in Bangkok.\n",
      "Maria Altmann was born in Vienna.\n",
      "Paul Epworth was born in London.\n",
      "{} was born in\n",
      "tensor(21.8594, device='cuda:0', dtype=torch.float16) tensor(153., device='cuda:0', dtype=torch.float16)\n",
      "\n",
      "subject:  Maria Altmann\n",
      "Edward Said was born in Jerusalem.\n",
      "Paul Epworth was born in London.\n",
      "Sirindhorn was born in Bangkok.\n",
      "{} was born in\n",
      "tensor(29.9844, device='cuda:0', dtype=torch.float16) tensor(238.1250, device='cuda:0', dtype=torch.float16)\n",
      "\n",
      "subject:  Paul Epworth\n",
      "The Weeknd was born in Toronto.\n",
      "Edward Said was born in Jerusalem.\n",
      "Sirindhorn was born in Bangkok.\n",
      "{} was born in\n",
      "tensor(9.8203, device='cuda:0', dtype=torch.float16) tensor(369., device='cuda:0', dtype=torch.float16)\n",
      "\n",
      "subject:  Sirindhorn\n",
      "Edward Said was born in Jerusalem.\n",
      "The Weeknd was born in Toronto.\n",
      "Paul Epworth was born in London.\n",
      "{} was born in\n",
      "tensor(35.6562, device='cuda:0', dtype=torch.float16) tensor(232.3750, device='cuda:0', dtype=torch.float16)\n",
      "\n",
      "subject:  Edward Said\n",
      "The Weeknd was born in Toronto.\n",
      "Sirindhorn was born in Bangkok.\n",
      "Maria Altmann was born in Vienna.\n",
      "{} was born in\n",
      "tensor(8.2656, device='cuda:0', dtype=torch.float16) tensor(143.5000, device='cuda:0', dtype=torch.float16)\n",
      "\n"
     ]
    },
    {
     "data": {
      "application/vnd.jupyter.widget-view+json": {
       "model_id": "30d8070ad4c34566b7751360f7a1d4bd",
       "version_major": 2,
       "version_minor": 0
      },
      "text/plain": [
       "  0%|          | 0/5 [00:00<?, ?it/s]"
      ]
     },
     "metadata": {},
     "output_type": "display_data"
    },
    {
     "name": "stdout",
     "output_type": "stream",
     "text": [
      "subject:  Paul Epworth\n",
      "Mario Caiano was born in Rome.\n",
      "The Weeknd was born in Toronto.\n",
      "Sirindhorn was born in Bangkok.\n",
      "{} was born in\n",
      "tensor(14.3984, device='cuda:0', dtype=torch.float16) tensor(353.7500, device='cuda:0', dtype=torch.float16)\n",
      "\n",
      "subject:  Sergey Lavrov\n",
      "The Weeknd was born in Toronto.\n",
      "Mario Caiano was born in Rome.\n",
      "Sirindhorn was born in Bangkok.\n",
      "{} was born in\n",
      "tensor(1.2461, device='cuda:0', dtype=torch.float16) tensor(238.1250, device='cuda:0', dtype=torch.float16)\n",
      "\n",
      "subject:  The Weeknd\n",
      "Sirindhorn was born in Bangkok.\n",
      "Mario Caiano was born in Rome.\n",
      "Sergey Lavrov was born in Moscow.\n",
      "{} was born in\n",
      "tensor(17.5156, device='cuda:0', dtype=torch.float16) tensor(157., device='cuda:0', dtype=torch.float16)\n",
      "\n",
      "subject:  Sirindhorn\n",
      "The Weeknd was born in Toronto.\n",
      "Sergey Lavrov was born in Moscow.\n",
      "Mario Caiano was born in Rome.\n",
      "{} was born in\n",
      "tensor(38.9062, device='cuda:0', dtype=torch.float16) tensor(210.3750, device='cuda:0', dtype=torch.float16)\n",
      "\n",
      "subject:  Mario Caiano\n",
      "Paul Epworth was born in London.\n",
      "Sergey Lavrov was born in Moscow.\n",
      "The Weeknd was born in Toronto.\n",
      "{} was born in\n",
      "tensor(1.6963, device='cuda:0', dtype=torch.float16) tensor(352.5000, device='cuda:0', dtype=torch.float16)\n",
      "\n"
     ]
    },
    {
     "data": {
      "application/vnd.jupyter.widget-view+json": {
       "model_id": "59d3a8e824ad46e59a22177bdf80106e",
       "version_major": 2,
       "version_minor": 0
      },
      "text/plain": [
       "  0%|          | 0/5 [00:00<?, ?it/s]"
      ]
     },
     "metadata": {},
     "output_type": "display_data"
    },
    {
     "name": "stdout",
     "output_type": "stream",
     "text": [
      "subject:  Paul Kimmage\n",
      "The Weeknd was born in Toronto.\n",
      "Mario Caiano was born in Rome.\n",
      "Maria Altmann was born in Vienna.\n",
      "{} was born in\n",
      "tensor(4.8555, device='cuda:0', dtype=torch.float16) tensor(324., device='cuda:0', dtype=torch.float16)\n",
      "\n",
      "subject:  Edward Said\n",
      "Paul Kimmage was born in Dublin.\n",
      "Maria Altmann was born in Vienna.\n",
      "Mario Caiano was born in Rome.\n",
      "{} was born in\n",
      "tensor(5.6367, device='cuda:0', dtype=torch.float16) tensor(143.1250, device='cuda:0', dtype=torch.float16)\n",
      "\n",
      "subject:  Mario Caiano\n",
      "The Weeknd was born in Toronto.\n",
      "Maria Altmann was born in Vienna.\n",
      "Paul Kimmage was born in Dublin.\n",
      "{} was born in\n",
      "tensor(1.7461, device='cuda:0', dtype=torch.float16) tensor(344.5000, device='cuda:0', dtype=torch.float16)\n",
      "\n",
      "subject:  The Weeknd\n",
      "Mario Caiano was born in Rome.\n",
      "Edward Said was born in Jerusalem.\n",
      "Paul Kimmage was born in Dublin.\n",
      "{} was born in\n",
      "tensor(15.5703, device='cuda:0', dtype=torch.float16) tensor(157., device='cuda:0', dtype=torch.float16)\n",
      "\n",
      "subject:  Maria Altmann\n",
      "Paul Kimmage was born in Dublin.\n",
      "Edward Said was born in Jerusalem.\n",
      "The Weeknd was born in Toronto.\n",
      "{} was born in\n",
      "tensor(30.5469, device='cuda:0', dtype=torch.float16) tensor(251.7500, device='cuda:0', dtype=torch.float16)\n",
      "\n"
     ]
    },
    {
     "data": {
      "application/vnd.jupyter.widget-view+json": {
       "model_id": "3bd0bc71e5b647768d2d1124072353a8",
       "version_major": 2,
       "version_minor": 0
      },
      "text/plain": [
       "  0%|          | 0/5 [00:00<?, ?it/s]"
      ]
     },
     "metadata": {},
     "output_type": "display_data"
    },
    {
     "name": "stdout",
     "output_type": "stream",
     "text": [
      "subject:  Mayumi Tanaka\n",
      "Daniel Alfredson was born in Stockholm.\n",
      "Sergey Lavrov was born in Moscow.\n",
      "The Weeknd was born in Toronto.\n",
      "{} was born in\n",
      "tensor(1.9736, device='cuda:0', dtype=torch.float16) tensor(347.5000, device='cuda:0', dtype=torch.float16)\n",
      "\n",
      "subject:  The Weeknd\n",
      "Sirindhorn was born in Bangkok.\n",
      "Daniel Alfredson was born in Stockholm.\n",
      "Mayumi Tanaka was born in Tokyo.\n",
      "{} was born in\n",
      "tensor(26.1406, device='cuda:0', dtype=torch.float16) tensor(148.3750, device='cuda:0', dtype=torch.float16)\n",
      "\n",
      "subject:  Sergey Lavrov\n",
      "Sirindhorn was born in Bangkok.\n",
      "Mayumi Tanaka was born in Tokyo.\n",
      "Daniel Alfredson was born in Stockholm.\n",
      "{} was born in\n",
      "tensor(1.3252, device='cuda:0', dtype=torch.float16) tensor(241.1250, device='cuda:0', dtype=torch.float16)\n",
      "\n",
      "subject:  Daniel Alfredson\n",
      "Mayumi Tanaka was born in Tokyo.\n",
      "Sirindhorn was born in Bangkok.\n",
      "Sergey Lavrov was born in Moscow.\n",
      "{} was born in\n",
      "tensor(28.3125, device='cuda:0', dtype=torch.float16) tensor(284.2500, device='cuda:0', dtype=torch.float16)\n",
      "\n",
      "subject:  Sirindhorn\n",
      "Sergey Lavrov was born in Moscow.\n",
      "The Weeknd was born in Toronto.\n",
      "Mayumi Tanaka was born in Tokyo.\n",
      "{} was born in\n",
      "tensor(38.0625, device='cuda:0', dtype=torch.float16) tensor(215.1250, device='cuda:0', dtype=torch.float16)\n",
      "\n",
      "Saving weights and biases >>  gpt-j/jacobians_averaged_collection/P19.npz\n",
      "----------------------------------------------------\n",
      "zzzzzzzzzzzzzzzzzzzzzzzzzzzzzzzzzzzzzzzzzzzzzzzzzzzz\n",
      "P37 In {}, an official language is\n",
      "zzzzzzzzzzzzzzzzzzzzzzzzzzzzzzzzzzzzzzzzzzzzzzzzzzzz\n",
      "156\n",
      "In {}, an official language is\n"
     ]
    },
    {
     "data": {
      "application/vnd.jupyter.widget-view+json": {
       "model_id": "872f41b2e6fc40cf8ca1ed8c6ba0987a",
       "version_major": 2,
       "version_minor": 0
      },
      "text/plain": [
       "  0%|          | 0/10 [00:00<?, ?it/s]"
      ]
     },
     "metadata": {},
     "output_type": "display_data"
    },
    {
     "data": {
      "application/vnd.jupyter.widget-view+json": {
       "model_id": "ea59fddb64094119b2560e1372e0f2da",
       "version_major": 2,
       "version_minor": 0
      },
      "text/plain": [
       "  0%|          | 0/5 [00:00<?, ?it/s]"
      ]
     },
     "metadata": {},
     "output_type": "display_data"
    },
    {
     "name": "stdout",
     "output_type": "stream",
     "text": [
      "subject:  Aruba\n",
      "In Paimio, an official language is Finnish.\n",
      "In Bulgaria, an official language is Bulgarian.\n",
      "In Tuva Republic, an official language is Russian.\n",
      "In {}, an official language is\n",
      "tensor(32.1562, device='cuda:0', dtype=torch.float16) tensor(218.6250, device='cuda:0', dtype=torch.float16)\n",
      "\n",
      "subject:  Paimio\n",
      "In Tuva Republic, an official language is Russian.\n",
      "In Comoros, an official language is French.\n",
      "In Aruba, an official language is Dutch.\n",
      "In {}, an official language is\n",
      "tensor(33.5312, device='cuda:0', dtype=torch.float16) tensor(241.6250, device='cuda:0', dtype=torch.float16)\n",
      "\n",
      "subject:  Tuva Republic\n",
      "In Bulgaria, an official language is Bulgarian.\n",
      "In Paimio, an official language is Finnish.\n",
      "In Comoros, an official language is French.\n",
      "In {}, an official language is\n",
      "tensor(32.6875, device='cuda:0', dtype=torch.float16) tensor(230.2500, device='cuda:0', dtype=torch.float16)\n",
      "\n",
      "subject:  Comoros\n",
      "In Bulgaria, an official language is Bulgarian.\n",
      "In Paimio, an official language is Finnish.\n",
      "In Tuva Republic, an official language is Russian.\n",
      "In {}, an official language is\n",
      "tensor(38.7812, device='cuda:0', dtype=torch.float16) tensor(215.1250, device='cuda:0', dtype=torch.float16)\n",
      "\n",
      "subject:  Bulgaria\n",
      "In Aruba, an official language is Dutch.\n",
      "In Comoros, an official language is French.\n",
      "In Paimio, an official language is Finnish.\n",
      "In {}, an official language is\n",
      "tensor(22.9688, device='cuda:0', dtype=torch.float16) tensor(226.3750, device='cuda:0', dtype=torch.float16)\n",
      "\n"
     ]
    },
    {
     "data": {
      "application/vnd.jupyter.widget-view+json": {
       "model_id": "de9dc26ae0b44890ae16a1c5199f6620",
       "version_major": 2,
       "version_minor": 0
      },
      "text/plain": [
       "  0%|          | 0/5 [00:00<?, ?it/s]"
      ]
     },
     "metadata": {},
     "output_type": "display_data"
    },
    {
     "name": "stdout",
     "output_type": "stream",
     "text": [
      "subject:  Panama\n",
      "In Niue, an official language is English.\n",
      "In Bulgaria, an official language is Bulgarian.\n",
      "In Banten, an official language is Indonesian.\n",
      "In {}, an official language is\n",
      "tensor(30.1406, device='cuda:0', dtype=torch.float16) tensor(236., device='cuda:0', dtype=torch.float16)\n",
      "\n",
      "subject:  Bulgaria\n",
      "In Panama, an official language is Spanish.\n",
      "In Banten, an official language is Indonesian.\n",
      "In Niue, an official language is English.\n",
      "In {}, an official language is\n",
      "tensor(24.9219, device='cuda:0', dtype=torch.float16) tensor(241., device='cuda:0', dtype=torch.float16)\n",
      "\n",
      "subject:  Banten\n",
      "In Panama, an official language is Spanish.\n",
      "In Niue, an official language is English.\n",
      "In Angola, an official language is Portuguese.\n",
      "In {}, an official language is\n",
      "tensor(27.7656, device='cuda:0', dtype=torch.float16) tensor(260.2500, device='cuda:0', dtype=torch.float16)\n",
      "\n",
      "subject:  Niue\n",
      "In Panama, an official language is Spanish.\n",
      "In Bulgaria, an official language is Bulgarian.\n",
      "In Angola, an official language is Portuguese.\n",
      "In {}, an official language is\n",
      "tensor(34.4375, device='cuda:0', dtype=torch.float16) tensor(203.6250, device='cuda:0', dtype=torch.float16)\n",
      "\n",
      "subject:  Angola\n",
      "In Bulgaria, an official language is Bulgarian.\n",
      "In Panama, an official language is Spanish.\n",
      "In Banten, an official language is Indonesian.\n",
      "In {}, an official language is\n",
      "tensor(30.5938, device='cuda:0', dtype=torch.float16) tensor(244.3750, device='cuda:0', dtype=torch.float16)\n",
      "\n"
     ]
    },
    {
     "data": {
      "application/vnd.jupyter.widget-view+json": {
       "model_id": "27dae659ae9448608529e90cf7cb4eec",
       "version_major": 2,
       "version_minor": 0
      },
      "text/plain": [
       "  0%|          | 0/5 [00:00<?, ?it/s]"
      ]
     },
     "metadata": {},
     "output_type": "display_data"
    },
    {
     "name": "stdout",
     "output_type": "stream",
     "text": [
      "subject:  Bulgaria\n",
      "In Church of Greece, an official language is Greek.\n",
      "In Comoros, an official language is French.\n",
      "In Tuva Republic, an official language is Russian.\n",
      "In {}, an official language is\n",
      "tensor(24.8594, device='cuda:0', dtype=torch.float16) tensor(242., device='cuda:0', dtype=torch.float16)\n",
      "\n",
      "subject:  Aruba\n",
      "In Bulgaria, an official language is Bulgarian.\n",
      "In Church of Greece, an official language is Greek.\n",
      "In Comoros, an official language is French.\n",
      "In {}, an official language is\n",
      "tensor(31.1250, device='cuda:0', dtype=torch.float16) tensor(226.7500, device='cuda:0', dtype=torch.float16)\n",
      "\n",
      "subject:  Church of Greece\n",
      "In Aruba, an official language is Dutch.\n",
      "In Tuva Republic, an official language is Russian.\n",
      "In Bulgaria, an official language is Bulgarian.\n",
      "In {}, an official language is\n",
      "tensor(19.7500, device='cuda:0', dtype=torch.float16) tensor(243.6250, device='cuda:0', dtype=torch.float16)\n",
      "\n",
      "subject:  Comoros\n",
      "In Aruba, an official language is Dutch.\n",
      "In Bulgaria, an official language is Bulgarian.\n",
      "In Church of Greece, an official language is Greek.\n",
      "In {}, an official language is\n",
      "tensor(40.6875, device='cuda:0', dtype=torch.float16) tensor(208.8750, device='cuda:0', dtype=torch.float16)\n",
      "\n",
      "subject:  Tuva Republic\n",
      "In Bulgaria, an official language is Bulgarian.\n",
      "In Comoros, an official language is French.\n",
      "In Aruba, an official language is Dutch.\n",
      "In {}, an official language is\n",
      "tensor(34.5938, device='cuda:0', dtype=torch.float16) tensor(222.5000, device='cuda:0', dtype=torch.float16)\n",
      "\n"
     ]
    },
    {
     "data": {
      "application/vnd.jupyter.widget-view+json": {
       "model_id": "293ade4776a24e13b5e3cb550413cfe6",
       "version_major": 2,
       "version_minor": 0
      },
      "text/plain": [
       "  0%|          | 0/5 [00:00<?, ?it/s]"
      ]
     },
     "metadata": {},
     "output_type": "display_data"
    },
    {
     "name": "stdout",
     "output_type": "stream",
     "text": [
      "subject:  Banten\n",
      "In Church of Greece, an official language is Greek.\n",
      "In Paimio, an official language is Finnish.\n",
      "In Bulgaria, an official language is Bulgarian.\n",
      "In {}, an official language is\n",
      "tensor(30.9375, device='cuda:0', dtype=torch.float16) tensor(249.6250, device='cuda:0', dtype=torch.float16)\n",
      "\n",
      "subject:  Aruba\n",
      "In Paimio, an official language is Finnish.\n",
      "In Church of Greece, an official language is Greek.\n",
      "In Banten, an official language is Indonesian.\n",
      "In {}, an official language is\n",
      "tensor(30.5469, device='cuda:0', dtype=torch.float16) tensor(225.2500, device='cuda:0', dtype=torch.float16)\n",
      "\n",
      "subject:  Church of Greece\n",
      "In Bulgaria, an official language is Bulgarian.\n",
      "In Aruba, an official language is Dutch.\n",
      "In Banten, an official language is Indonesian.\n",
      "In {}, an official language is\n",
      "tensor(21.2500, device='cuda:0', dtype=torch.float16) tensor(248.1250, device='cuda:0', dtype=torch.float16)\n",
      "\n",
      "subject:  Bulgaria\n",
      "In Church of Greece, an official language is Greek.\n",
      "In Banten, an official language is Indonesian.\n",
      "In Aruba, an official language is Dutch.\n",
      "In {}, an official language is\n",
      "tensor(24.5312, device='cuda:0', dtype=torch.float16) tensor(242.1250, device='cuda:0', dtype=torch.float16)\n",
      "\n",
      "subject:  Paimio\n",
      "In Banten, an official language is Indonesian.\n",
      "In Bulgaria, an official language is Bulgarian.\n",
      "In Church of Greece, an official language is Greek.\n",
      "In {}, an official language is\n",
      "tensor(36.1250, device='cuda:0', dtype=torch.float16) tensor(236.8750, device='cuda:0', dtype=torch.float16)\n",
      "\n"
     ]
    },
    {
     "data": {
      "application/vnd.jupyter.widget-view+json": {
       "model_id": "b61e815ea182467d82b0830ad712e3bc",
       "version_major": 2,
       "version_minor": 0
      },
      "text/plain": [
       "  0%|          | 0/5 [00:00<?, ?it/s]"
      ]
     },
     "metadata": {},
     "output_type": "display_data"
    },
    {
     "name": "stdout",
     "output_type": "stream",
     "text": [
      "subject:  Niue\n",
      "In Banten, an official language is Indonesian.\n",
      "In Paimio, an official language is Finnish.\n",
      "In Aruba, an official language is Dutch.\n",
      "In {}, an official language is\n",
      "tensor(35., device='cuda:0', dtype=torch.float16) tensor(199.1250, device='cuda:0', dtype=torch.float16)\n",
      "\n",
      "subject:  Banten\n",
      "In Paimio, an official language is Finnish.\n",
      "In Tuva Republic, an official language is Russian.\n",
      "In Niue, an official language is English.\n",
      "In {}, an official language is\n",
      "tensor(27.3281, device='cuda:0', dtype=torch.float16) tensor(249.1250, device='cuda:0', dtype=torch.float16)\n",
      "\n",
      "subject:  Paimio\n",
      "In Niue, an official language is English.\n",
      "In Aruba, an official language is Dutch.\n",
      "In Tuva Republic, an official language is Russian.\n",
      "In {}, an official language is\n",
      "tensor(33.2812, device='cuda:0', dtype=torch.float16) tensor(251.5000, device='cuda:0', dtype=torch.float16)\n",
      "\n",
      "subject:  Aruba\n",
      "In Niue, an official language is English.\n",
      "In Paimio, an official language is Finnish.\n",
      "In Banten, an official language is Indonesian.\n",
      "In {}, an official language is\n",
      "tensor(26.1719, device='cuda:0', dtype=torch.float16) tensor(253.5000, device='cuda:0', dtype=torch.float16)\n",
      "\n",
      "subject:  Tuva Republic\n",
      "In Aruba, an official language is Dutch.\n",
      "In Niue, an official language is English.\n",
      "In Banten, an official language is Indonesian.\n",
      "In {}, an official language is\n",
      "tensor(32.2812, device='cuda:0', dtype=torch.float16) tensor(236., device='cuda:0', dtype=torch.float16)\n",
      "\n"
     ]
    },
    {
     "data": {
      "application/vnd.jupyter.widget-view+json": {
       "model_id": "6eb409b91af34f82929ffa4c15844772",
       "version_major": 2,
       "version_minor": 0
      },
      "text/plain": [
       "  0%|          | 0/5 [00:00<?, ?it/s]"
      ]
     },
     "metadata": {},
     "output_type": "display_data"
    },
    {
     "name": "stdout",
     "output_type": "stream",
     "text": [
      "subject:  Banten\n",
      "In Panama, an official language is Spanish.\n",
      "In Bulgaria, an official language is Bulgarian.\n",
      "In Comoros, an official language is French.\n",
      "In {}, an official language is\n",
      "tensor(29.4688, device='cuda:0', dtype=torch.float16) tensor(246., device='cuda:0', dtype=torch.float16)\n",
      "\n",
      "subject:  Bulgaria\n",
      "In Comoros, an official language is French.\n",
      "In Panama, an official language is Spanish.\n",
      "In Banten, an official language is Indonesian.\n",
      "In {}, an official language is\n",
      "tensor(23.1406, device='cuda:0', dtype=torch.float16) tensor(235., device='cuda:0', dtype=torch.float16)\n",
      "\n",
      "subject:  Panama\n",
      "In Comoros, an official language is French.\n",
      "In Banten, an official language is Indonesian.\n",
      "In Tuva Republic, an official language is Russian.\n",
      "In {}, an official language is\n",
      "tensor(28.9688, device='cuda:0', dtype=torch.float16) tensor(238.7500, device='cuda:0', dtype=torch.float16)\n",
      "\n",
      "subject:  Comoros\n",
      "In Bulgaria, an official language is Bulgarian.\n",
      "In Tuva Republic, an official language is Russian.\n",
      "In Panama, an official language is Spanish.\n",
      "In {}, an official language is\n",
      "tensor(38.4688, device='cuda:0', dtype=torch.float16) tensor(212.7500, device='cuda:0', dtype=torch.float16)\n",
      "\n",
      "subject:  Tuva Republic\n",
      "In Panama, an official language is Spanish.\n",
      "In Bulgaria, an official language is Bulgarian.\n",
      "In Banten, an official language is Indonesian.\n",
      "In {}, an official language is\n",
      "tensor(33.9062, device='cuda:0', dtype=torch.float16) tensor(225.5000, device='cuda:0', dtype=torch.float16)\n",
      "\n"
     ]
    },
    {
     "data": {
      "application/vnd.jupyter.widget-view+json": {
       "model_id": "6e8a5d657acb4617910eb7f05a4cb191",
       "version_major": 2,
       "version_minor": 0
      },
      "text/plain": [
       "  0%|          | 0/5 [00:00<?, ?it/s]"
      ]
     },
     "metadata": {},
     "output_type": "display_data"
    },
    {
     "name": "stdout",
     "output_type": "stream",
     "text": [
      "subject:  Aruba\n",
      "In Paimio, an official language is Finnish.\n",
      "In Comoros, an official language is French.\n",
      "In Panama, an official language is Spanish.\n",
      "In {}, an official language is\n",
      "tensor(30.0781, device='cuda:0', dtype=torch.float16) tensor(230.3750, device='cuda:0', dtype=torch.float16)\n",
      "\n",
      "subject:  Panama\n",
      "In Aruba, an official language is Dutch.\n",
      "In Comoros, an official language is French.\n",
      "In Niue, an official language is English.\n",
      "In {}, an official language is\n",
      "tensor(29.1094, device='cuda:0', dtype=torch.float16) tensor(223.1250, device='cuda:0', dtype=torch.float16)\n",
      "\n",
      "subject:  Comoros\n",
      "In Niue, an official language is English.\n",
      "In Panama, an official language is Spanish.\n",
      "In Aruba, an official language is Dutch.\n",
      "In {}, an official language is\n",
      "tensor(37.7812, device='cuda:0', dtype=torch.float16) tensor(216.3750, device='cuda:0', dtype=torch.float16)\n",
      "\n",
      "subject:  Niue\n",
      "In Panama, an official language is Spanish.\n",
      "In Comoros, an official language is French.\n",
      "In Paimio, an official language is Finnish.\n",
      "In {}, an official language is\n",
      "tensor(31.6094, device='cuda:0', dtype=torch.float16) tensor(202.7500, device='cuda:0', dtype=torch.float16)\n",
      "\n",
      "subject:  Paimio\n",
      "In Aruba, an official language is Dutch.\n",
      "In Panama, an official language is Spanish.\n",
      "In Niue, an official language is English.\n",
      "In {}, an official language is\n",
      "tensor(33.2188, device='cuda:0', dtype=torch.float16) tensor(247.3750, device='cuda:0', dtype=torch.float16)\n",
      "\n"
     ]
    },
    {
     "data": {
      "application/vnd.jupyter.widget-view+json": {
       "model_id": "9ae7725027ab4dcf985b2c5aff49d7fb",
       "version_major": 2,
       "version_minor": 0
      },
      "text/plain": [
       "  0%|          | 0/5 [00:00<?, ?it/s]"
      ]
     },
     "metadata": {},
     "output_type": "display_data"
    },
    {
     "name": "stdout",
     "output_type": "stream",
     "text": [
      "subject:  Paimio\n",
      "In Angola, an official language is Portuguese.\n",
      "In Bulgaria, an official language is Bulgarian.\n",
      "In Tuva Republic, an official language is Russian.\n",
      "In {}, an official language is\n",
      "tensor(35.8125, device='cuda:0', dtype=torch.float16) tensor(235.1250, device='cuda:0', dtype=torch.float16)\n",
      "\n",
      "subject:  Angola\n",
      "In Bulgaria, an official language is Bulgarian.\n",
      "In Church of Greece, an official language is Greek.\n",
      "In Paimio, an official language is Finnish.\n",
      "In {}, an official language is\n",
      "tensor(33.6250, device='cuda:0', dtype=torch.float16) tensor(246.1250, device='cuda:0', dtype=torch.float16)\n",
      "\n",
      "subject:  Tuva Republic\n",
      "In Bulgaria, an official language is Bulgarian.\n",
      "In Angola, an official language is Portuguese.\n",
      "In Paimio, an official language is Finnish.\n",
      "In {}, an official language is\n",
      "tensor(35.0938, device='cuda:0', dtype=torch.float16) tensor(223.2500, device='cuda:0', dtype=torch.float16)\n",
      "\n",
      "subject:  Bulgaria\n",
      "In Angola, an official language is Portuguese.\n",
      "In Paimio, an official language is Finnish.\n",
      "In Church of Greece, an official language is Greek.\n",
      "In {}, an official language is\n",
      "tensor(24.1719, device='cuda:0', dtype=torch.float16) tensor(241.7500, device='cuda:0', dtype=torch.float16)\n",
      "\n",
      "subject:  Church of Greece\n",
      "In Angola, an official language is Portuguese.\n",
      "In Paimio, an official language is Finnish.\n",
      "In Tuva Republic, an official language is Russian.\n",
      "In {}, an official language is\n",
      "tensor(21.1875, device='cuda:0', dtype=torch.float16) tensor(247.3750, device='cuda:0', dtype=torch.float16)\n",
      "\n"
     ]
    },
    {
     "data": {
      "application/vnd.jupyter.widget-view+json": {
       "model_id": "d56a9f9789b643dc8f3e5909fd4d5fdf",
       "version_major": 2,
       "version_minor": 0
      },
      "text/plain": [
       "  0%|          | 0/5 [00:00<?, ?it/s]"
      ]
     },
     "metadata": {},
     "output_type": "display_data"
    },
    {
     "name": "stdout",
     "output_type": "stream",
     "text": [
      "subject:  Bulgaria\n",
      "In Banten, an official language is Indonesian.\n",
      "In Church of Greece, an official language is Greek.\n",
      "In Comoros, an official language is French.\n",
      "In {}, an official language is\n",
      "tensor(24.3281, device='cuda:0', dtype=torch.float16) tensor(236., device='cuda:0', dtype=torch.float16)\n",
      "\n",
      "subject:  Tuva Republic\n",
      "In Church of Greece, an official language is Greek.\n",
      "In Bulgaria, an official language is Bulgarian.\n",
      "In Comoros, an official language is French.\n",
      "In {}, an official language is\n",
      "tensor(33.4375, device='cuda:0', dtype=torch.float16) tensor(227.6250, device='cuda:0', dtype=torch.float16)\n",
      "\n",
      "subject:  Church of Greece\n",
      "In Bulgaria, an official language is Bulgarian.\n",
      "In Comoros, an official language is French.\n",
      "In Tuva Republic, an official language is Russian.\n",
      "In {}, an official language is\n",
      "tensor(19.9062, device='cuda:0', dtype=torch.float16) tensor(247.1250, device='cuda:0', dtype=torch.float16)\n",
      "\n",
      "subject:  Banten\n",
      "In Bulgaria, an official language is Bulgarian.\n",
      "In Comoros, an official language is French.\n",
      "In Tuva Republic, an official language is Russian.\n",
      "In {}, an official language is\n",
      "tensor(27.2500, device='cuda:0', dtype=torch.float16) tensor(246., device='cuda:0', dtype=torch.float16)\n",
      "\n",
      "subject:  Comoros\n",
      "In Bulgaria, an official language is Bulgarian.\n",
      "In Tuva Republic, an official language is Russian.\n",
      "In Banten, an official language is Indonesian.\n",
      "In {}, an official language is\n",
      "tensor(37.2812, device='cuda:0', dtype=torch.float16) tensor(212.5000, device='cuda:0', dtype=torch.float16)\n",
      "\n"
     ]
    },
    {
     "data": {
      "application/vnd.jupyter.widget-view+json": {
       "model_id": "b869e47dfdfc47578ed0360fb247a481",
       "version_major": 2,
       "version_minor": 0
      },
      "text/plain": [
       "  0%|          | 0/5 [00:00<?, ?it/s]"
      ]
     },
     "metadata": {},
     "output_type": "display_data"
    },
    {
     "name": "stdout",
     "output_type": "stream",
     "text": [
      "subject:  Comoros\n",
      "In Church of Greece, an official language is Greek.\n",
      "In Aruba, an official language is Dutch.\n",
      "In Angola, an official language is Portuguese.\n",
      "In {}, an official language is\n",
      "tensor(39.5000, device='cuda:0', dtype=torch.float16) tensor(211.2500, device='cuda:0', dtype=torch.float16)\n",
      "\n",
      "subject:  Church of Greece\n",
      "In Panama, an official language is Spanish.\n",
      "In Angola, an official language is Portuguese.\n",
      "In Aruba, an official language is Dutch.\n",
      "In {}, an official language is\n",
      "tensor(21.7031, device='cuda:0', dtype=torch.float16) tensor(248., device='cuda:0', dtype=torch.float16)\n",
      "\n",
      "subject:  Angola\n",
      "In Comoros, an official language is French.\n",
      "In Aruba, an official language is Dutch.\n",
      "In Panama, an official language is Spanish.\n",
      "In {}, an official language is\n",
      "tensor(29.7188, device='cuda:0', dtype=torch.float16) tensor(230.3750, device='cuda:0', dtype=torch.float16)\n",
      "\n",
      "subject:  Panama\n",
      "In Church of Greece, an official language is Greek.\n",
      "In Comoros, an official language is French.\n",
      "In Aruba, an official language is Dutch.\n",
      "In {}, an official language is\n",
      "tensor(29.6562, device='cuda:0', dtype=torch.float16) tensor(231.6250, device='cuda:0', dtype=torch.float16)\n",
      "\n",
      "subject:  Aruba\n",
      "In Panama, an official language is Spanish.\n",
      "In Comoros, an official language is French.\n",
      "In Church of Greece, an official language is Greek.\n",
      "In {}, an official language is\n",
      "tensor(31.0781, device='cuda:0', dtype=torch.float16) tensor(228.1250, device='cuda:0', dtype=torch.float16)\n",
      "\n",
      "Saving weights and biases >>  gpt-j/jacobians_averaged_collection/P37.npz\n",
      "----------------------------------------------------\n",
      "zzzzzzzzzzzzzzzzzzzzzzzzzzzzzzzzzzzzzzzzzzzzzzzzzzzz\n",
      "P36 The capital of {} is\n",
      "zzzzzzzzzzzzzzzzzzzzzzzzzzzzzzzzzzzzzzzzzzzzzzzzzzzz\n",
      "68\n",
      "The capital of {} is\n"
     ]
    },
    {
     "data": {
      "application/vnd.jupyter.widget-view+json": {
       "model_id": "0769b462980f48e589766a8ff2a2ba2b",
       "version_major": 2,
       "version_minor": 0
      },
      "text/plain": [
       "  0%|          | 0/10 [00:00<?, ?it/s]"
      ]
     },
     "metadata": {},
     "output_type": "display_data"
    },
    {
     "data": {
      "application/vnd.jupyter.widget-view+json": {
       "model_id": "21e50dee320f41bba18cd57184704695",
       "version_major": 2,
       "version_minor": 0
      },
      "text/plain": [
       "  0%|          | 0/5 [00:00<?, ?it/s]"
      ]
     },
     "metadata": {},
     "output_type": "display_data"
    },
    {
     "name": "stdout",
     "output_type": "stream",
     "text": [
      "subject:  Portugal\n",
      "The capital of Norway is Oslo.\n",
      "The capital of Demerara is Georgetown.\n",
      "The capital of Campania is Naples.\n",
      "The capital of {} is\n",
      "tensor(24.0781, device='cuda:0', dtype=torch.float16) tensor(198.7500, device='cuda:0', dtype=torch.float16)\n",
      "\n",
      "subject:  Demerara\n",
      "The capital of Portugal is Lisbon.\n",
      "The capital of Lebanon is Beirut.\n",
      "The capital of Campania is Naples.\n",
      "The capital of {} is\n",
      "tensor(44.9062, device='cuda:0', dtype=torch.float16) tensor(177., device='cuda:0', dtype=torch.float16)\n",
      "\n",
      "subject:  Norway\n",
      "The capital of Campania is Naples.\n",
      "The capital of Portugal is Lisbon.\n",
      "The capital of Lebanon is Beirut.\n",
      "The capital of {} is\n",
      "tensor(21.1562, device='cuda:0', dtype=torch.float16) tensor(201.3750, device='cuda:0', dtype=torch.float16)\n",
      "\n",
      "subject:  Lebanon\n",
      "The capital of Demerara is Georgetown.\n",
      "The capital of Campania is Naples.\n",
      "The capital of Portugal is Lisbon.\n",
      "The capital of {} is\n",
      "tensor(29.7344, device='cuda:0', dtype=torch.float16) tensor(183.7500, device='cuda:0', dtype=torch.float16)\n",
      "\n",
      "subject:  Campania\n",
      "The capital of Portugal is Lisbon.\n",
      "The capital of Demerara is Georgetown.\n",
      "The capital of Lebanon is Beirut.\n",
      "The capital of {} is\n",
      "tensor(32.0312, device='cuda:0', dtype=torch.float16) tensor(185.7500, device='cuda:0', dtype=torch.float16)\n",
      "\n"
     ]
    },
    {
     "data": {
      "application/vnd.jupyter.widget-view+json": {
       "model_id": "b8699bea656b4399b6848a45bfe75889",
       "version_major": 2,
       "version_minor": 0
      },
      "text/plain": [
       "  0%|          | 0/5 [00:00<?, ?it/s]"
      ]
     },
     "metadata": {},
     "output_type": "display_data"
    },
    {
     "name": "stdout",
     "output_type": "stream",
     "text": [
      "subject:  Demerara\n",
      "The capital of Peru is Lima.\n",
      "The capital of Campania is Naples.\n",
      "The capital of Saxony is Dresden.\n",
      "The capital of {} is\n",
      "tensor(43.3750, device='cuda:0', dtype=torch.float16) tensor(177., device='cuda:0', dtype=torch.float16)\n",
      "\n",
      "subject:  Campania\n",
      "The capital of Peru is Lima.\n",
      "The capital of Saxony is Dresden.\n",
      "The capital of United Arab Republic is Cairo.\n",
      "The capital of {} is\n",
      "tensor(35., device='cuda:0', dtype=torch.float16) tensor(183.8750, device='cuda:0', dtype=torch.float16)\n",
      "\n",
      "subject:  Peru\n",
      "The capital of Campania is Naples.\n",
      "The capital of Demerara is Georgetown.\n",
      "The capital of Saxony is Dresden.\n",
      "The capital of {} is\n",
      "tensor(32.1562, device='cuda:0', dtype=torch.float16) tensor(192.1250, device='cuda:0', dtype=torch.float16)\n",
      "\n",
      "subject:  Saxony\n",
      "The capital of Peru is Lima.\n",
      "The capital of United Arab Republic is Cairo.\n",
      "The capital of Demerara is Georgetown.\n",
      "The capital of {} is\n",
      "tensor(31.0469, device='cuda:0', dtype=torch.float16) tensor(187.8750, device='cuda:0', dtype=torch.float16)\n",
      "\n",
      "subject:  United Arab Republic\n",
      "The capital of Peru is Lima.\n",
      "The capital of Demerara is Georgetown.\n",
      "The capital of Campania is Naples.\n",
      "The capital of {} is\n",
      "tensor(34.4688, device='cuda:0', dtype=torch.float16) tensor(216.3750, device='cuda:0', dtype=torch.float16)\n",
      "\n"
     ]
    },
    {
     "data": {
      "application/vnd.jupyter.widget-view+json": {
       "model_id": "da4e7788703447f29502b8b48966d7b1",
       "version_major": 2,
       "version_minor": 0
      },
      "text/plain": [
       "  0%|          | 0/5 [00:00<?, ?it/s]"
      ]
     },
     "metadata": {},
     "output_type": "display_data"
    },
    {
     "name": "stdout",
     "output_type": "stream",
     "text": [
      "subject:  Norway\n",
      "The capital of Lebanon is Beirut.\n",
      "The capital of South Yemen is Aden.\n",
      "The capital of United Arab Republic is Cairo.\n",
      "The capital of {} is\n",
      "tensor(21.6719, device='cuda:0', dtype=torch.float16) tensor(208.3750, device='cuda:0', dtype=torch.float16)\n",
      "\n",
      "subject:  Campania\n",
      "The capital of Lebanon is Beirut.\n",
      "The capital of United Arab Republic is Cairo.\n",
      "The capital of South Yemen is Aden.\n",
      "The capital of {} is\n",
      "tensor(32.0938, device='cuda:0', dtype=torch.float16) tensor(185.1250, device='cuda:0', dtype=torch.float16)\n",
      "\n",
      "subject:  South Yemen\n",
      "The capital of Norway is Oslo.\n",
      "The capital of Campania is Naples.\n",
      "The capital of Lebanon is Beirut.\n",
      "The capital of {} is\n",
      "tensor(42.5625, device='cuda:0', dtype=torch.float16) tensor(196.3750, device='cuda:0', dtype=torch.float16)\n",
      "\n",
      "subject:  Lebanon\n",
      "The capital of Norway is Oslo.\n",
      "The capital of Campania is Naples.\n",
      "The capital of United Arab Republic is Cairo.\n",
      "The capital of {} is\n",
      "tensor(29.9688, device='cuda:0', dtype=torch.float16) tensor(200.1250, device='cuda:0', dtype=torch.float16)\n",
      "\n",
      "subject:  United Arab Republic\n",
      "The capital of Campania is Naples.\n",
      "The capital of South Yemen is Aden.\n",
      "The capital of Norway is Oslo.\n",
      "The capital of {} is\n",
      "tensor(31.9375, device='cuda:0', dtype=torch.float16) tensor(205.1250, device='cuda:0', dtype=torch.float16)\n",
      "\n"
     ]
    },
    {
     "data": {
      "application/vnd.jupyter.widget-view+json": {
       "model_id": "4f56164d4ea3439abb97b4ac1d929925",
       "version_major": 2,
       "version_minor": 0
      },
      "text/plain": [
       "  0%|          | 0/5 [00:00<?, ?it/s]"
      ]
     },
     "metadata": {},
     "output_type": "display_data"
    },
    {
     "name": "stdout",
     "output_type": "stream",
     "text": [
      "subject:  Lebanon\n",
      "The capital of Saxony is Dresden.\n",
      "The capital of South Yemen is Aden.\n",
      "The capital of Norway is Oslo.\n",
      "The capital of {} is\n",
      "tensor(28.5312, device='cuda:0', dtype=torch.float16) tensor(197.3750, device='cuda:0', dtype=torch.float16)\n",
      "\n",
      "subject:  South Yemen\n",
      "The capital of Norway is Oslo.\n",
      "The capital of Demerara is Georgetown.\n",
      "The capital of Lebanon is Beirut.\n",
      "The capital of {} is\n",
      "tensor(42.3750, device='cuda:0', dtype=torch.float16) tensor(199.3750, device='cuda:0', dtype=torch.float16)\n",
      "\n",
      "subject:  Saxony\n",
      "The capital of South Yemen is Aden.\n",
      "The capital of Demerara is Georgetown.\n",
      "The capital of Norway is Oslo.\n",
      "The capital of {} is\n",
      "tensor(27.3125, device='cuda:0', dtype=torch.float16) tensor(186.1250, device='cuda:0', dtype=torch.float16)\n",
      "\n",
      "subject:  Demerara\n",
      "The capital of South Yemen is Aden.\n",
      "The capital of Saxony is Dresden.\n",
      "The capital of Lebanon is Beirut.\n",
      "The capital of {} is\n",
      "tensor(43.5938, device='cuda:0', dtype=torch.float16) tensor(170.7500, device='cuda:0', dtype=torch.float16)\n",
      "\n",
      "subject:  Norway\n",
      "The capital of Saxony is Dresden.\n",
      "The capital of Demerara is Georgetown.\n",
      "The capital of Lebanon is Beirut.\n",
      "The capital of {} is\n",
      "tensor(21.2344, device='cuda:0', dtype=torch.float16) tensor(208.6250, device='cuda:0', dtype=torch.float16)\n",
      "\n"
     ]
    },
    {
     "data": {
      "application/vnd.jupyter.widget-view+json": {
       "model_id": "295cdebf573f4c4b89c9854b0624c701",
       "version_major": 2,
       "version_minor": 0
      },
      "text/plain": [
       "  0%|          | 0/5 [00:00<?, ?it/s]"
      ]
     },
     "metadata": {},
     "output_type": "display_data"
    },
    {
     "name": "stdout",
     "output_type": "stream",
     "text": [
      "subject:  Norway\n",
      "The capital of Lazio is Rome.\n",
      "The capital of Demerara is Georgetown.\n",
      "The capital of Campania is Naples.\n",
      "The capital of {} is\n",
      "tensor(23.4688, device='cuda:0', dtype=torch.float16) tensor(199.7500, device='cuda:0', dtype=torch.float16)\n",
      "\n",
      "subject:  United Arab Republic\n",
      "The capital of Lazio is Rome.\n",
      "The capital of Campania is Naples.\n",
      "The capital of Norway is Oslo.\n",
      "The capital of {} is\n",
      "tensor(33.4375, device='cuda:0', dtype=torch.float16) tensor(207., device='cuda:0', dtype=torch.float16)\n",
      "\n",
      "subject:  Lazio\n",
      "The capital of Campania is Naples.\n",
      "The capital of Norway is Oslo.\n",
      "The capital of Demerara is Georgetown.\n",
      "The capital of {} is\n",
      "tensor(29.8750, device='cuda:0', dtype=torch.float16) tensor(189.1250, device='cuda:0', dtype=torch.float16)\n",
      "\n",
      "subject:  Campania\n",
      "The capital of Demerara is Georgetown.\n",
      "The capital of Norway is Oslo.\n",
      "The capital of United Arab Republic is Cairo.\n",
      "The capital of {} is\n",
      "tensor(35.2188, device='cuda:0', dtype=torch.float16) tensor(179.8750, device='cuda:0', dtype=torch.float16)\n",
      "\n",
      "subject:  Demerara\n",
      "The capital of Campania is Naples.\n",
      "The capital of Norway is Oslo.\n",
      "The capital of Lazio is Rome.\n",
      "The capital of {} is\n",
      "tensor(45.7812, device='cuda:0', dtype=torch.float16) tensor(181.1250, device='cuda:0', dtype=torch.float16)\n",
      "\n"
     ]
    },
    {
     "data": {
      "application/vnd.jupyter.widget-view+json": {
       "model_id": "2a7405d669ed41408c9624b41ed65b35",
       "version_major": 2,
       "version_minor": 0
      },
      "text/plain": [
       "  0%|          | 0/5 [00:00<?, ?it/s]"
      ]
     },
     "metadata": {},
     "output_type": "display_data"
    },
    {
     "name": "stdout",
     "output_type": "stream",
     "text": [
      "subject:  Portugal\n",
      "The capital of Lebanon is Beirut.\n",
      "The capital of Peru is Lima.\n",
      "The capital of United Arab Republic is Cairo.\n",
      "The capital of {} is\n",
      "tensor(22.9844, device='cuda:0', dtype=torch.float16) tensor(218.3750, device='cuda:0', dtype=torch.float16)\n",
      "\n",
      "subject:  Lazio\n",
      "The capital of Peru is Lima.\n",
      "The capital of Lebanon is Beirut.\n",
      "The capital of Portugal is Lisbon.\n",
      "The capital of {} is\n",
      "tensor(28.1562, device='cuda:0', dtype=torch.float16) tensor(207.1250, device='cuda:0', dtype=torch.float16)\n",
      "\n",
      "subject:  Lebanon\n",
      "The capital of United Arab Republic is Cairo.\n",
      "The capital of Peru is Lima.\n",
      "The capital of Lazio is Rome.\n",
      "The capital of {} is\n",
      "tensor(28.5938, device='cuda:0', dtype=torch.float16) tensor(215.1250, device='cuda:0', dtype=torch.float16)\n",
      "\n",
      "subject:  Peru\n",
      "The capital of Lazio is Rome.\n",
      "The capital of United Arab Republic is Cairo.\n",
      "The capital of Portugal is Lisbon.\n",
      "The capital of {} is\n",
      "tensor(29.9688, device='cuda:0', dtype=torch.float16) tensor(194.6250, device='cuda:0', dtype=torch.float16)\n",
      "\n",
      "subject:  United Arab Republic\n",
      "The capital of Lebanon is Beirut.\n",
      "The capital of Lazio is Rome.\n",
      "The capital of Peru is Lima.\n",
      "The capital of {} is\n",
      "tensor(30.4531, device='cuda:0', dtype=torch.float16) tensor(211.7500, device='cuda:0', dtype=torch.float16)\n",
      "\n"
     ]
    },
    {
     "data": {
      "application/vnd.jupyter.widget-view+json": {
       "model_id": "31de99ceb94d4a2fa8b0deb92f20cc26",
       "version_major": 2,
       "version_minor": 0
      },
      "text/plain": [
       "  0%|          | 0/5 [00:00<?, ?it/s]"
      ]
     },
     "metadata": {},
     "output_type": "display_data"
    },
    {
     "name": "stdout",
     "output_type": "stream",
     "text": [
      "subject:  Demerara\n",
      "The capital of Saxony is Dresden.\n",
      "The capital of Lazio is Rome.\n",
      "The capital of Norway is Oslo.\n",
      "The capital of {} is\n",
      "tensor(42.5312, device='cuda:0', dtype=torch.float16) tensor(181.6250, device='cuda:0', dtype=torch.float16)\n",
      "\n",
      "subject:  Norway\n",
      "The capital of Demerara is Georgetown.\n",
      "The capital of Lazio is Rome.\n",
      "The capital of Saxony is Dresden.\n",
      "The capital of {} is\n",
      "tensor(21.3906, device='cuda:0', dtype=torch.float16) tensor(215.8750, device='cuda:0', dtype=torch.float16)\n",
      "\n",
      "subject:  Lazio\n",
      "The capital of Campania is Naples.\n",
      "The capital of Demerara is Georgetown.\n",
      "The capital of Saxony is Dresden.\n",
      "The capital of {} is\n",
      "tensor(27.8281, device='cuda:0', dtype=torch.float16) tensor(188.1250, device='cuda:0', dtype=torch.float16)\n",
      "\n",
      "subject:  Campania\n",
      "The capital of Norway is Oslo.\n",
      "The capital of Lazio is Rome.\n",
      "The capital of Saxony is Dresden.\n",
      "The capital of {} is\n",
      "tensor(33.0312, device='cuda:0', dtype=torch.float16) tensor(190.6250, device='cuda:0', dtype=torch.float16)\n",
      "\n",
      "subject:  Saxony\n",
      "The capital of Norway is Oslo.\n",
      "The capital of Lazio is Rome.\n",
      "The capital of Campania is Naples.\n",
      "The capital of {} is\n",
      "tensor(25.5156, device='cuda:0', dtype=torch.float16) tensor(198.7500, device='cuda:0', dtype=torch.float16)\n",
      "\n"
     ]
    },
    {
     "data": {
      "application/vnd.jupyter.widget-view+json": {
       "model_id": "e6b747b1a6ec4707838a2db2dd2279bd",
       "version_major": 2,
       "version_minor": 0
      },
      "text/plain": [
       "  0%|          | 0/5 [00:00<?, ?it/s]"
      ]
     },
     "metadata": {},
     "output_type": "display_data"
    },
    {
     "name": "stdout",
     "output_type": "stream",
     "text": [
      "subject:  Lazio\n",
      "The capital of Peru is Lima.\n",
      "The capital of Lebanon is Beirut.\n",
      "The capital of United Arab Republic is Cairo.\n",
      "The capital of {} is\n",
      "tensor(28.0781, device='cuda:0', dtype=torch.float16) tensor(217.3750, device='cuda:0', dtype=torch.float16)\n",
      "\n",
      "subject:  United Arab Republic\n",
      "The capital of Peru is Lima.\n",
      "The capital of Lazio is Rome.\n",
      "The capital of Norway is Oslo.\n",
      "The capital of {} is\n",
      "tensor(32.6875, device='cuda:0', dtype=torch.float16) tensor(215.8750, device='cuda:0', dtype=torch.float16)\n",
      "\n",
      "subject:  Norway\n",
      "The capital of United Arab Republic is Cairo.\n",
      "The capital of Lazio is Rome.\n",
      "The capital of Peru is Lima.\n",
      "The capital of {} is\n",
      "tensor(22.3281, device='cuda:0', dtype=torch.float16) tensor(224.8750, device='cuda:0', dtype=torch.float16)\n",
      "\n",
      "subject:  Lebanon\n",
      "The capital of Lazio is Rome.\n",
      "The capital of Peru is Lima.\n",
      "The capital of Norway is Oslo.\n",
      "The capital of {} is\n",
      "tensor(29.2812, device='cuda:0', dtype=torch.float16) tensor(199.3750, device='cuda:0', dtype=torch.float16)\n",
      "\n",
      "subject:  Peru\n",
      "The capital of Lazio is Rome.\n",
      "The capital of United Arab Republic is Cairo.\n",
      "The capital of Norway is Oslo.\n",
      "The capital of {} is\n",
      "tensor(30.2656, device='cuda:0', dtype=torch.float16) tensor(194.6250, device='cuda:0', dtype=torch.float16)\n",
      "\n"
     ]
    },
    {
     "data": {
      "application/vnd.jupyter.widget-view+json": {
       "model_id": "73f60bf31d504bd387d804ec1d694f8d",
       "version_major": 2,
       "version_minor": 0
      },
      "text/plain": [
       "  0%|          | 0/5 [00:00<?, ?it/s]"
      ]
     },
     "metadata": {},
     "output_type": "display_data"
    },
    {
     "name": "stdout",
     "output_type": "stream",
     "text": [
      "subject:  United Arab Republic\n",
      "The capital of Campania is Naples.\n",
      "The capital of Lebanon is Beirut.\n",
      "The capital of Norway is Oslo.\n",
      "The capital of {} is\n",
      "tensor(33.2500, device='cuda:0', dtype=torch.float16) tensor(206.5000, device='cuda:0', dtype=torch.float16)\n",
      "\n",
      "subject:  Norway\n",
      "The capital of Campania is Naples.\n",
      "The capital of United Arab Republic is Cairo.\n",
      "The capital of Lebanon is Beirut.\n",
      "The capital of {} is\n",
      "tensor(21.9844, device='cuda:0', dtype=torch.float16) tensor(210.5000, device='cuda:0', dtype=torch.float16)\n",
      "\n",
      "subject:  Campania\n",
      "The capital of Lebanon is Beirut.\n",
      "The capital of Saxony is Dresden.\n",
      "The capital of United Arab Republic is Cairo.\n",
      "The capital of {} is\n",
      "tensor(32.9688, device='cuda:0', dtype=torch.float16) tensor(183.2500, device='cuda:0', dtype=torch.float16)\n",
      "\n",
      "subject:  Lebanon\n",
      "The capital of Campania is Naples.\n",
      "The capital of Norway is Oslo.\n",
      "The capital of United Arab Republic is Cairo.\n",
      "The capital of {} is\n",
      "tensor(29.5625, device='cuda:0', dtype=torch.float16) tensor(203.5000, device='cuda:0', dtype=torch.float16)\n",
      "\n",
      "subject:  Saxony\n",
      "The capital of Lebanon is Beirut.\n",
      "The capital of United Arab Republic is Cairo.\n",
      "The capital of Campania is Naples.\n",
      "The capital of {} is\n",
      "tensor(26.6406, device='cuda:0', dtype=torch.float16) tensor(190.7500, device='cuda:0', dtype=torch.float16)\n",
      "\n"
     ]
    },
    {
     "data": {
      "application/vnd.jupyter.widget-view+json": {
       "model_id": "f5d6943c90cd4b0d828befb4516083f5",
       "version_major": 2,
       "version_minor": 0
      },
      "text/plain": [
       "  0%|          | 0/5 [00:00<?, ?it/s]"
      ]
     },
     "metadata": {},
     "output_type": "display_data"
    },
    {
     "name": "stdout",
     "output_type": "stream",
     "text": [
      "subject:  South Yemen\n",
      "The capital of Demerara is Georgetown.\n",
      "The capital of Peru is Lima.\n",
      "The capital of Portugal is Lisbon.\n",
      "The capital of {} is\n",
      "tensor(40.7188, device='cuda:0', dtype=torch.float16) tensor(193.3750, device='cuda:0', dtype=torch.float16)\n",
      "\n",
      "subject:  Campania\n",
      "The capital of South Yemen is Aden.\n",
      "The capital of Portugal is Lisbon.\n",
      "The capital of Demerara is Georgetown.\n",
      "The capital of {} is\n",
      "tensor(33.9062, device='cuda:0', dtype=torch.float16) tensor(184.8750, device='cuda:0', dtype=torch.float16)\n",
      "\n",
      "subject:  Demerara\n",
      "The capital of South Yemen is Aden.\n",
      "The capital of Campania is Naples.\n",
      "The capital of Peru is Lima.\n",
      "The capital of {} is\n",
      "tensor(43.7812, device='cuda:0', dtype=torch.float16) tensor(171.8750, device='cuda:0', dtype=torch.float16)\n",
      "\n",
      "subject:  Portugal\n",
      "The capital of Campania is Naples.\n",
      "The capital of Peru is Lima.\n",
      "The capital of South Yemen is Aden.\n",
      "The capital of {} is\n",
      "tensor(23.2500, device='cuda:0', dtype=torch.float16) tensor(199.8750, device='cuda:0', dtype=torch.float16)\n",
      "\n",
      "subject:  Peru\n",
      "The capital of Portugal is Lisbon.\n",
      "The capital of Campania is Naples.\n",
      "The capital of Demerara is Georgetown.\n",
      "The capital of {} is\n",
      "tensor(31.1875, device='cuda:0', dtype=torch.float16) tensor(198.5000, device='cuda:0', dtype=torch.float16)\n",
      "\n",
      "Saving weights and biases >>  gpt-j/jacobians_averaged_collection/P36.npz\n",
      "----------------------------------------------------\n"
     ]
    },
    {
     "ename": "",
     "evalue": "",
     "output_type": "error",
     "traceback": [
      "\u001b[1;31mThe Kernel crashed while executing code in the the current cell or a previous cell. Please review the code in the cell(s) to identify a possible cause of the failure. Click <a href='https://aka.ms/vscodeJupyterKernelCrash'>here</a> for more info. View Jupyter <a href='command:jupyter.viewOutput'>log</a> for further details."
     ]
    }
   ],
   "source": [
    "jb_save_path = \"gpt-j/jacobians_averaged_collection\"\n",
    "os.makedirs(jb_save_path, exist_ok = True)\n",
    "\n",
    "for relation_id in relation_dct:\n",
    "    print(\"zzzzzzzzzzzzzzzzzzzzzzzzzzzzzzzzzzzzzzzzzzzzzzzzzzzz\")\n",
    "    print(relation_id, relation_dct[relation_id]['relation'])\n",
    "    print(\"zzzzzzzzzzzzzzzzzzzzzzzzzzzzzzzzzzzzzzzzzzzzzzzzzzzz\")\n",
    "    path = f\"{root_path}/{relation_id}\"\n",
    "    try:\n",
    "        with open(f\"{path}/correct_prediction_{relation_id}.json\") as f:\n",
    "            correct_predictions = json.load(f)\n",
    "            print(len(correct_predictions))\n",
    "    except:\n",
    "        print(f\"Error opening correct prediction {relation_id} (maybe the scan skipped this relation?)\")\n",
    "        print(\"XXXXXXXXXXXXXXXXXXXXXXXXXXXXXXXXXXXXXXXXXXXXXXXXXXXX\")\n",
    "        continue\n",
    "        \n",
    "    if(len(correct_predictions) < cut_off):\n",
    "        print(f\"skipped {relation_id} >> \", len(correct_predictions))\n",
    "        print(\"XXXXXXXXXXXXXXXXXXXXXXXXXXXXXXXXXXXXXXXXXXXXXXXXXXXX\")\n",
    "        continue\n",
    "\n",
    "    top_performers = get_top_performers(relation_id, consider_top=10)\n",
    "\n",
    "    relation_prompt = relation_dct[relation_id]['relation']\n",
    "    print(relation_prompt)\n",
    "\n",
    "    # weight, bias = get_averaged_JB(top_performers, relation_prompt)\n",
    "    weights_and_biases = get_multiple_averaged_JB(top_performers, relation_prompt=relation_prompt, N = 10)\n",
    "\n",
    "    save_path = f\"{jb_save_path}/{relation_id}.npz\"\n",
    "    print(\"Saving weights and biases >> \", save_path)\n",
    "    np.savez(\n",
    "        save_path, \n",
    "        # JB = [{\n",
    "        #     'weight': weight.cpu().numpy(),\n",
    "        #     'bias'  : bias.cpu().numpy()\n",
    "        # }],\n",
    "        weights_and_biases = weights_and_biases,\n",
    "        allow_pickle = True\n",
    "    )\n",
    "    print(\"----------------------------------------------------\")\n"
   ]
  },
  {
   "cell_type": "code",
   "execution_count": null,
   "metadata": {},
   "outputs": [],
   "source": []
  }
 ],
 "metadata": {
  "kernelspec": {
   "display_name": "relation",
   "language": "python",
   "name": "python3"
  },
  "language_info": {
   "codemirror_mode": {
    "name": "ipython",
    "version": 3
   },
   "file_extension": ".py",
   "mimetype": "text/x-python",
   "name": "python",
   "nbconvert_exporter": "python",
   "pygments_lexer": "ipython3",
   "version": "3.10.8"
  },
  "orig_nbformat": 4,
  "vscode": {
   "interpreter": {
    "hash": "3439fe3f7dcaddaf51997811d25ada8e7c0985d2997d22a3ed461af94d2f9f43"
   }
  }
 },
 "nbformat": 4,
 "nbformat_minor": 2
}
