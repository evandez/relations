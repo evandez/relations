{
 "cells": [
  {
   "cell_type": "code",
   "execution_count": 2,
   "metadata": {},
   "outputs": [
    {
     "name": "stdout",
     "output_type": "stream",
     "text": [
      "The autoreload extension is already loaded. To reload it, use:\n",
      "  %reload_ext autoreload\n"
     ]
    }
   ],
   "source": [
    "%load_ext autoreload\n",
    "%autoreload 2"
   ]
  },
  {
   "cell_type": "code",
   "execution_count": 3,
   "metadata": {},
   "outputs": [],
   "source": [
    "import torch\n",
    "import numpy as np\n",
    "import json\n",
    "from tqdm.auto import tqdm\n",
    "import random\n",
    "\n",
    "\n",
    "import os\n",
    "import sys\n",
    "sys.path.append('..')\n",
    "\n",
    "from relations import estimate\n",
    "from util import model_utils\n",
    "from dsets.counterfact import CounterFactDataset\n",
    "from util import nethook\n",
    "from operator import itemgetter"
   ]
  },
  {
   "cell_type": "code",
   "execution_count": 4,
   "metadata": {},
   "outputs": [],
   "source": [
    "MODEL_NAME = \"EleutherAI/gpt-j-6B\"  # gpt2-{medium,large,xl} or EleutherAI/gpt-j-6B\n",
    "mt = model_utils.ModelAndTokenizer(MODEL_NAME, low_cpu_mem_usage=True, torch_dtype=torch.float16)\n",
    "\n",
    "model = mt.model\n",
    "tokenizer = mt.tokenizer\n",
    "tokenizer.pad_token = tokenizer.eos_token"
   ]
  },
  {
   "cell_type": "code",
   "execution_count": 5,
   "metadata": {},
   "outputs": [],
   "source": [
    "jb_save_path = \"gpt-j/jacobians_averaged\"\n",
    "os.makedirs(jb_save_path, exist_ok = True)"
   ]
  },
  {
   "cell_type": "code",
   "execution_count": 6,
   "metadata": {},
   "outputs": [
    {
     "name": "stdout",
     "output_type": "stream",
     "text": [
      "skipped  P1303\n",
      "skipped  P190\n",
      "skipped  P740\n",
      "skipped  P413\n",
      "skipped  P39\n",
      "skipped  P136\n",
      "skipped  P449\n",
      "skipped  P138\n",
      "skipped  P131\n",
      "skipped  P407\n",
      "skipped  P108\n"
     ]
    }
   ],
   "source": [
    "cut_off = 50 # minimum number of correct predictions\n",
    "\n",
    "###########################################################################\n",
    "relation_dct = {\n",
    "    'P17'   : {'relation': '{} is located in the country of', 'correct_predict': None, 'cached_JB': None},\n",
    "    'P641'  : {'relation': '{} plays the sport of', 'correct_predict': None, 'cached_JB': None},\n",
    "    'P103'  : {'relation': 'The mother tongue of {} is', 'correct_predict': None, 'cached_JB': None},\n",
    "    'P176'  : {'relation': '{} is produced by', 'correct_predict': None, 'cached_JB': None},\n",
    "    'P140'  : {'relation': 'The official religion of {} is', 'correct_predict': None, 'cached_JB': None},\n",
    "    'P1303' : {'relation': '{} plays the instrument', 'correct_predict': None, 'cached_JB': None},\n",
    "    'P190'  : {'relation': 'What is the twin city of {}? It is', 'correct_predict': None, 'cached_JB': None},\n",
    "    'P740'  : {'relation': '{} was founded in', 'correct_predict': None, 'cached_JB': None},\n",
    "    'P178'  : {'relation': '{} was developed by', 'correct_predict': None, 'cached_JB': None},\n",
    "    'P495'  : {'relation': '{}, that originated in the country of', 'correct_predict': None, 'cached_JB': None},\n",
    "    'P127'  : {'relation': '{} is owned by', 'correct_predict': None, 'cached_JB': None},\n",
    "    'P413'  : {'relation': '{} plays in the position of', 'correct_predict': None, 'cached_JB': None},\n",
    "    'P39'   : {'relation': '{}, who holds the position of', 'correct_predict': None, 'cached_JB': None},\n",
    "    'P159'  : {'relation': 'The headquarter of {} is located in', 'correct_predict': None, 'cached_JB': None},\n",
    "    'P20'   : {'relation': '{} died in the city of', 'correct_predict': None, 'cached_JB': None},\n",
    "    'P136'  : {'relation': 'What does {} play? They play', 'correct_predict': None, 'cached_JB': None},\n",
    "    'P106'  : {'relation': 'The profession of {} is', 'correct_predict': None, 'cached_JB': None},\n",
    "    'P30'   : {'relation': '{} is located in the continent of', 'correct_predict': None, 'cached_JB': None},\n",
    "    'P937'  : {'relation': '{} worked in the city of', 'correct_predict': None, 'cached_JB': None},\n",
    "    'P449'  : {'relation': '{} was released on', 'correct_predict': None, 'cached_JB': None},\n",
    "    'P27'   : {'relation': '{} is a citizen of', 'correct_predict': None, 'cached_JB': None},\n",
    "    'P101'  : {'relation': '{} works in the field of', 'correct_predict': None, 'cached_JB': None},\n",
    "    'P19'   : {'relation': '{} was born in', 'correct_predict': None, 'cached_JB': None},\n",
    "    'P37'   : {'relation': 'In {}, an official language is', 'correct_predict': None, 'cached_JB': None},\n",
    "    'P138'  : {'relation': '{}, named after', 'correct_predict': None, 'cached_JB': None},\n",
    "    'P131'  : {'relation': '{} is located in', 'correct_predict': None, 'cached_JB': None},\n",
    "    'P407'  : {'relation': '{} was written in', 'correct_predict': None, 'cached_JB': None},\n",
    "    'P108'  : {'relation': '{}, who is employed by', 'correct_predict': None, 'cached_JB': None},\n",
    "    'P36'   : {'relation': 'The capital of {} is', 'correct_predict': None, 'cached_JB': None},\n",
    "}\n",
    "###########################################################################\n",
    "\n",
    "\n",
    "root_path = \"gpt-j\"\n",
    "\n",
    "pop_track = []\n",
    "for relation in relation_dct:\n",
    "    path = f\"{root_path}/{relation}\"\n",
    "    with open(f\"{path}/correct_prediction_{relation}.json\") as f:\n",
    "        correct_predictions = json.load(f)\n",
    "    if(len(correct_predictions) < cut_off):\n",
    "    # if \"performance\" not in os.listdir(path):\n",
    "        print(\"skipped \", relation)\n",
    "        pop_track.append(relation)\n",
    "    \n",
    "for r in pop_track:\n",
    "    relation_dct.pop(r)"
   ]
  },
  {
   "cell_type": "code",
   "execution_count": 7,
   "metadata": {},
   "outputs": [
    {
     "name": "stdout",
     "output_type": "stream",
     "text": [
      "The profession of {} is\n"
     ]
    }
   ],
   "source": [
    "relation_id = \"P106\"\n",
    "\n",
    "print(relation_dct[relation_id]['relation'])"
   ]
  },
  {
   "cell_type": "code",
   "execution_count": 8,
   "metadata": {},
   "outputs": [
    {
     "data": {
      "text/plain": [
       "[('Lucha Villa', 0, 'actor'), ('Cigoli', 0, 'architect')]"
      ]
     },
     "execution_count": 8,
     "metadata": {},
     "output_type": "execute_result"
    }
   ],
   "source": [
    "def get_top_performers(relation_id, consider_top = 5):\n",
    "    with open(f\"gpt-j/{relation_id}/performance\") as f:\n",
    "        performance = json.load(f)\n",
    "    performance.sort(key = itemgetter('p@3'), reverse=True)\n",
    "\n",
    "    subject__top_performers = []\n",
    "    object__top_performers = []\n",
    "    top_performers = []\n",
    "\n",
    "    for candidate in performance:\n",
    "        subject = candidate['subject']\n",
    "        try:\n",
    "            sub_idx = candidate['misc']['h_info']['sub_index']\n",
    "        except:\n",
    "            sub_idx = candidate['misc']['h_info']['h_index']\n",
    "        object = candidate['object']\n",
    "        if(subject in subject__top_performers or object in object__top_performers):\n",
    "            continue\n",
    "        if(len(tokenizer(subject).input_ids) > 3):\n",
    "            continue\n",
    "        \n",
    "        subject__top_performers.append(subject)\n",
    "        object__top_performers.append(object)\n",
    "        top_performers.append((\n",
    "            subject, sub_idx, object #, candidate['p@3']\n",
    "        ))\n",
    "\n",
    "        if(len(top_performers) == consider_top):\n",
    "            break\n",
    "    return top_performers\n",
    "\n",
    "top_performers = get_top_performers(relation_id, consider_top=10)\n",
    "top_performers"
   ]
  },
  {
   "cell_type": "code",
   "execution_count": 9,
   "metadata": {},
   "outputs": [],
   "source": [
    "# best_performing_cases = {}\n",
    "\n",
    "# for relation_id in relation_dct:\n",
    "#     top_performers = get_top_performers(relation_id, consider_top=10)\n",
    "#     cases_formatted = []\n",
    "#     for subject, sub_idx, obj, perf in top_performers:\n",
    "#         cases_formatted.append({\n",
    "#             'subject': subject,\n",
    "#             'sub_idx': sub_idx,\n",
    "#             'object': obj,\n",
    "#             'p@3_outof_50': perf\n",
    "#         })\n",
    "#     best_performing_cases[relation_id] = cases_formatted\n",
    "\n",
    "# with open(\"best_performing_cases__relationwise__gpt-j.json\", \"w\") as f:\n",
    "#     json.dump(best_performing_cases, f)"
   ]
  },
  {
   "cell_type": "code",
   "execution_count": 10,
   "metadata": {},
   "outputs": [
    {
     "data": {
      "text/plain": [
       "'The profession of {} is'"
      ]
     },
     "execution_count": 10,
     "metadata": {},
     "output_type": "execute_result"
    }
   ],
   "source": [
    "r = relation_dct[relation_id]['relation']\n",
    "r"
   ]
  },
  {
   "cell_type": "code",
   "execution_count": 11,
   "metadata": {},
   "outputs": [],
   "source": [
    "def get_averaged_JB(top_performers, relation_prompt, num_icl = 3, calculate_at_lnf = False):\n",
    "    try:\n",
    "        jbs = []\n",
    "        for s, s_idx, o in tqdm(top_performers):\n",
    "            others = set(top_performers) - {(s, s_idx, o)}\n",
    "            others = random.sample(list(others), k = min(num_icl, len(list(others)))) \n",
    "            prompt = \"\"\n",
    "            prompt += \"\\n\".join(relation_prompt.format(s_other) + f\" {o_other}.\" for s_other, idx_other, o_other in others) + \"\\n\"\n",
    "            prompt += relation_prompt\n",
    "            print(\"subject: \", s)\n",
    "            print(prompt)\n",
    "\n",
    "            inputs = tokenizer(prompt, return_tensors=\"pt\").to(model.device)\n",
    "            jb = estimate.estimate_relation_operator(\n",
    "                model, tokenizer,\n",
    "                s, prompt,\n",
    "                subject_token_index= s_idx,\n",
    "                layer = 15,\n",
    "                device = model.device,\n",
    "                calculate_at_lnf = calculate_at_lnf\n",
    "            )\n",
    "            print(jb.weight.norm(), jb.bias.norm())\n",
    "            print()\n",
    "            jbs.append(jb)\n",
    "        \n",
    "        weight = torch.stack([jb.weight for jb in jbs]).mean(dim=0)\n",
    "        bias  = torch.stack([jb.bias for jb in jbs]).mean(dim=0)\n",
    "\n",
    "        return weight, bias\n",
    "    except RuntimeError as e:\n",
    "        if(str(e).startswith(\"CUDA out of memory\")):\n",
    "            print(\"CUDA out of memory\")\n",
    "        if(num_icl > 1):\n",
    "            num_icl -= 1\n",
    "            print(\"trying with smaller icl >> \", num_icl)\n",
    "            return get_averaged_JB(top_performers, relation_prompt, num_icl, calculate_at_lnf)\n",
    "        else:\n",
    "            raise Exception(\"RuntimeError >> can't calculate Jacobian with minimum number of icl examples\")\n",
    "\n",
    "def get_multiple_averaged_JB(top_performers, relation_prompt, N = 3, num_icl = 3, calculate_at_lnf = False):\n",
    "    weights_and_biases = []\n",
    "    sample_size = min(len(top_performers), num_icl + 2)\n",
    "    for _ in tqdm(range(N)):\n",
    "        cur_sample = random.sample(top_performers, k = sample_size)\n",
    "        weight, bias = get_averaged_JB(cur_sample, relation_prompt, num_icl, calculate_at_lnf)\n",
    "        weights_and_biases.append({\n",
    "            'weight': weight,\n",
    "            'bias'  : bias\n",
    "        })\n",
    "    return weights_and_biases"
   ]
  },
  {
   "cell_type": "code",
   "execution_count": 12,
   "metadata": {},
   "outputs": [],
   "source": [
    "# weights_and_biases = get_multiple_averaged_JB(top_performers, relation_prompt=r)"
   ]
  },
  {
   "cell_type": "code",
   "execution_count": 13,
   "metadata": {},
   "outputs": [],
   "source": [
    "# len(weights_and_biases)"
   ]
  },
  {
   "cell_type": "code",
   "execution_count": 14,
   "metadata": {},
   "outputs": [],
   "source": [
    "\n",
    "# weight, bias = get_averaged_JB(top_performers, r)\n",
    "# relation = estimate.RelationOperator(\n",
    "#     weight=weight,\n",
    "#     bias=bias,\n",
    "#     model=model,\n",
    "#     tokenizer=tokenizer,\n",
    "#     layer= 15 ,\n",
    "#     relation= relation_dct[relation_id]['relation'],\n",
    "# )"
   ]
  },
  {
   "cell_type": "code",
   "execution_count": 15,
   "metadata": {},
   "outputs": [],
   "source": [
    "# test_subjects = [\n",
    "#     \"Hugh Jackman\",\n",
    "#     \"Michael Phelps\",\n",
    "#     \"Agatha Christie\",\n",
    "#     \"Barack Obama\",\n",
    "#     \"Sherlock Holmes\",\n",
    "#     \"Alan Turing\",\n",
    "#     \"Bill Gates\",\n",
    "#     \"Michelangelo\"\n",
    "# ]\n",
    "\n",
    "# for sub in test_subjects:\n",
    "#     print(f\"{sub} >> \", relation(sub, device= model.device))"
   ]
  },
  {
   "cell_type": "code",
   "execution_count": 16,
   "metadata": {},
   "outputs": [],
   "source": [
    "# test_cases = [\n",
    "#     # (\"Statue of Liberty\", -1, \"United States\"),\n",
    "#     (\"The Great Wall\", -1, \"China\"),\n",
    "#     (\"Niagara Falls\", -2, \"Canada\"),\n",
    "#     (\"Valdemarsvik\", -1, \"Sweden\"),\n",
    "#     (\"Kyoto University\", -2, \"Japan\"),\n",
    "#     (\"Hattfjelldal\", -1, \"Norway\"),\n",
    "#     (\"Ginza\", -1, \"Japan\"),\n",
    "#     (\"Sydney Hospital\", -2, \"Australia\"),\n",
    "#     (\"Mahalangur Himal\", -1, \"Nepal\"),\n",
    "#     (\"Higashikagawa\", -1, \"Japan\"),\n",
    "#     (\"Trento\", -1, \"Italy\"),\n",
    "#     (\"Taj Mahal\", -1, \"India\"),\n",
    "#     (\"Hagia Sophia\", -1, \"Turkey\"),\n",
    "#     (\"Colosseum\", -1, \"Italy\"),\n",
    "#     (\"Mount Everest\", -1, \"Nepal\"),\n",
    "#     (\"Valencia\", -1, \"Spain\"),\n",
    "#     (\"Lake Baikal\", -1, \"Russia\"),\n",
    "#     (\"Merlion Park\", -1, \"Singapore\"),\n",
    "#     (\"Cologne Cathedral\", -1, \"Germany\"),\n",
    "#     (\"Buda Castle\", -1, \"Hungary\")\n",
    "# ]\n",
    "\n",
    "# def check_with_test_cases(relation_operator):\n",
    "#     for subject, subject_token_index, target in test_cases:\n",
    "#         objects = relation_operator(\n",
    "#             subject,\n",
    "#             subject_token_index=subject_token_index,\n",
    "#             device=model.device,\n",
    "#             return_top_k=5,\n",
    "#         )\n",
    "#         print(f\"{subject}, target: {target}   ==>   predicted: {objects}\")\n",
    "\n",
    "# check_with_test_cases(relation)"
   ]
  },
  {
   "cell_type": "code",
   "execution_count": 17,
   "metadata": {},
   "outputs": [],
   "source": [
    "# print(f\"{jb_save_path}/{relation_id}.npz\")\n",
    "\n",
    "# np.savez(\n",
    "#     f\"{jb_save_path}/{relation_id}.npz\", \n",
    "#     weight_and_bias = [{\n",
    "#         'weight': weight.cpu().numpy(),\n",
    "#         'bias'  : bias.cpu().numpy()\n",
    "#     }],\n",
    "#     allow_pickle = True\n",
    "# )"
   ]
  },
  {
   "cell_type": "code",
   "execution_count": 18,
   "metadata": {},
   "outputs": [],
   "source": [
    "# jb = np.load(f\"{jb_save_path}/{relation_id}.npz\", allow_pickle= True)\n",
    "# list(jb.keys())"
   ]
  },
  {
   "cell_type": "code",
   "execution_count": 19,
   "metadata": {},
   "outputs": [],
   "source": [
    "# jb['weight_and_bias'][0]['weight'].shape"
   ]
  },
  {
   "cell_type": "code",
   "execution_count": 20,
   "metadata": {},
   "outputs": [
    {
     "data": {
      "text/plain": [
       "18"
      ]
     },
     "execution_count": 20,
     "metadata": {},
     "output_type": "execute_result"
    }
   ],
   "source": [
    "len(relation_dct.keys())"
   ]
  },
  {
   "cell_type": "code",
   "execution_count": 21,
   "metadata": {},
   "outputs": [
    {
     "name": "stdout",
     "output_type": "stream",
     "text": [
      "zzzzzzzzzzzzzzzzzzzzzzzzzzzzzzzzzzzzzzzzzzzzzzzzzzzz\n",
      "P17 {} is located in the country of\n",
      "zzzzzzzzzzzzzzzzzzzzzzzzzzzzzzzzzzzzzzzzzzzzzzzzzzzz\n",
      "404\n",
      "{} is located in the country of\n"
     ]
    },
    {
     "data": {
      "application/vnd.jupyter.widget-view+json": {
       "model_id": "8caeab02426a40e0af4c48836856c226",
       "version_major": 2,
       "version_minor": 0
      },
      "text/plain": [
       "  0%|          | 0/10 [00:00<?, ?it/s]"
      ]
     },
     "metadata": {},
     "output_type": "display_data"
    },
    {
     "data": {
      "application/vnd.jupyter.widget-view+json": {
       "model_id": "23f7c22ccd02491e8b727e00a70163ce",
       "version_major": 2,
       "version_minor": 0
      },
      "text/plain": [
       "  0%|          | 0/5 [00:00<?, ?it/s]"
      ]
     },
     "metadata": {},
     "output_type": "display_data"
    },
    {
     "name": "stdout",
     "output_type": "stream",
     "text": [
      "subject:  Haut Atlas\n",
      "Marugame is located in the country of Japan.\n",
      "Sabratha is located in the country of Libya.\n",
      "Southern Savonia is located in the country of Finland.\n",
      "{} is located in the country of\n",
      "tensor(12.1172, device='cuda:0', dtype=torch.float16) tensor(269.7500, device='cuda:0', dtype=torch.float16)\n",
      "\n",
      "subject:  Southern Savonia\n",
      "Umarex is located in the country of Germany.\n",
      "Sabratha is located in the country of Libya.\n",
      "Haut Atlas is located in the country of Morocco.\n",
      "{} is located in the country of\n",
      "tensor(14.3047, device='cuda:0', dtype=torch.float16) tensor(238.3750, device='cuda:0', dtype=torch.float16)\n",
      "\n",
      "subject:  Marugame\n",
      "Haut Atlas is located in the country of Morocco.\n",
      "Sabratha is located in the country of Libya.\n",
      "Umarex is located in the country of Germany.\n",
      "{} is located in the country of\n",
      "tensor(41.1875, device='cuda:0', dtype=torch.float16) tensor(238.8750, device='cuda:0', dtype=torch.float16)\n",
      "\n",
      "subject:  Sabratha\n",
      "Southern Savonia is located in the country of Finland.\n",
      "Marugame is located in the country of Japan.\n",
      "Haut Atlas is located in the country of Morocco.\n",
      "{} is located in the country of\n",
      "tensor(16.4688, device='cuda:0', dtype=torch.float16) tensor(250.5000, device='cuda:0', dtype=torch.float16)\n",
      "\n",
      "subject:  Umarex\n",
      "Marugame is located in the country of Japan.\n",
      "Haut Atlas is located in the country of Morocco.\n",
      "Southern Savonia is located in the country of Finland.\n",
      "{} is located in the country of\n",
      "tensor(19.5312, device='cuda:0', dtype=torch.float16) tensor(306.5000, device='cuda:0', dtype=torch.float16)\n",
      "\n"
     ]
    },
    {
     "data": {
      "application/vnd.jupyter.widget-view+json": {
       "model_id": "31b1c1c95c3b4c37ae4f3d6025340a56",
       "version_major": 2,
       "version_minor": 0
      },
      "text/plain": [
       "  0%|          | 0/5 [00:00<?, ?it/s]"
      ]
     },
     "metadata": {},
     "output_type": "display_data"
    },
    {
     "name": "stdout",
     "output_type": "stream",
     "text": [
      "subject:  Canada Live\n",
      "Umarex is located in the country of Germany.\n",
      "Ufa is located in the country of Russia.\n",
      "Harnaut is located in the country of India.\n",
      "{} is located in the country of\n",
      "tensor(20.0469, device='cuda:0', dtype=torch.float16) tensor(331.2500, device='cuda:0', dtype=torch.float16)\n",
      "\n",
      "subject:  Harnaut\n",
      "Eurostat is located in the country of Luxembourg.\n",
      "Umarex is located in the country of Germany.\n",
      "Ufa is located in the country of Russia.\n",
      "{} is located in the country of\n",
      "tensor(19.8906, device='cuda:0', dtype=torch.float16) tensor(286.7500, device='cuda:0', dtype=torch.float16)\n",
      "\n",
      "subject:  Ufa\n",
      "Eurostat is located in the country of Luxembourg.\n",
      "Umarex is located in the country of Germany.\n",
      "Harnaut is located in the country of India.\n",
      "{} is located in the country of\n",
      "tensor(2.3594, device='cuda:0', dtype=torch.float16) tensor(311., device='cuda:0', dtype=torch.float16)\n",
      "\n",
      "subject:  Umarex\n",
      "Eurostat is located in the country of Luxembourg.\n",
      "Canada Live is located in the country of Canada.\n",
      "Harnaut is located in the country of India.\n",
      "{} is located in the country of\n",
      "tensor(27.1562, device='cuda:0', dtype=torch.float16) tensor(343., device='cuda:0', dtype=torch.float16)\n",
      "\n",
      "subject:  Eurostat\n",
      "Canada Live is located in the country of Canada.\n",
      "Umarex is located in the country of Germany.\n",
      "Ufa is located in the country of Russia.\n",
      "{} is located in the country of\n",
      "tensor(7.1094, device='cuda:0', dtype=torch.float16) tensor(240.2500, device='cuda:0', dtype=torch.float16)\n",
      "\n"
     ]
    },
    {
     "data": {
      "application/vnd.jupyter.widget-view+json": {
       "model_id": "6f82e78087e749e1a2b066de8a7fae49",
       "version_major": 2,
       "version_minor": 0
      },
      "text/plain": [
       "  0%|          | 0/5 [00:00<?, ?it/s]"
      ]
     },
     "metadata": {},
     "output_type": "display_data"
    },
    {
     "name": "stdout",
     "output_type": "stream",
     "text": [
      "subject:  Imperia\n",
      "Harnaut is located in the country of India.\n",
      "Haut Atlas is located in the country of Morocco.\n",
      "Sabratha is located in the country of Libya.\n",
      "{} is located in the country of\n",
      "tensor(4.3555, device='cuda:0', dtype=torch.float16) tensor(285.5000, device='cuda:0', dtype=torch.float16)\n",
      "\n",
      "subject:  Sabratha\n",
      "Harnaut is located in the country of India.\n",
      "Marugame is located in the country of Japan.\n",
      "Haut Atlas is located in the country of Morocco.\n",
      "{} is located in the country of\n",
      "tensor(15.9609, device='cuda:0', dtype=torch.float16) tensor(250.3750, device='cuda:0', dtype=torch.float16)\n",
      "\n",
      "subject:  Marugame\n",
      "Harnaut is located in the country of India.\n",
      "Imperia is located in the country of Italy.\n",
      "Haut Atlas is located in the country of Morocco.\n",
      "{} is located in the country of\n",
      "tensor(33.9062, device='cuda:0', dtype=torch.float16) tensor(267., device='cuda:0', dtype=torch.float16)\n",
      "\n",
      "subject:  Harnaut\n",
      "Imperia is located in the country of Italy.\n",
      "Marugame is located in the country of Japan.\n",
      "Haut Atlas is located in the country of Morocco.\n",
      "{} is located in the country of\n",
      "tensor(21.9844, device='cuda:0', dtype=torch.float16) tensor(288.5000, device='cuda:0', dtype=torch.float16)\n",
      "\n",
      "subject:  Haut Atlas\n",
      "Sabratha is located in the country of Libya.\n",
      "Imperia is located in the country of Italy.\n",
      "Harnaut is located in the country of India.\n",
      "{} is located in the country of\n",
      "tensor(11.2422, device='cuda:0', dtype=torch.float16) tensor(310., device='cuda:0', dtype=torch.float16)\n",
      "\n"
     ]
    },
    {
     "data": {
      "application/vnd.jupyter.widget-view+json": {
       "model_id": "16a0907b3a7941d1821a738353cc4e4f",
       "version_major": 2,
       "version_minor": 0
      },
      "text/plain": [
       "  0%|          | 0/5 [00:00<?, ?it/s]"
      ]
     },
     "metadata": {},
     "output_type": "display_data"
    },
    {
     "name": "stdout",
     "output_type": "stream",
     "text": [
      "subject:  Sabratha\n",
      "Umarex is located in the country of Germany.\n",
      "Canada Live is located in the country of Canada.\n",
      "Ufa is located in the country of Russia.\n",
      "{} is located in the country of\n",
      "tensor(13.5859, device='cuda:0', dtype=torch.float16) tensor(270.7500, device='cuda:0', dtype=torch.float16)\n",
      "\n",
      "subject:  Ufa\n",
      "Sabratha is located in the country of Libya.\n",
      "Umarex is located in the country of Germany.\n",
      "Canada Live is located in the country of Canada.\n",
      "{} is located in the country of\n",
      "tensor(2.3984, device='cuda:0', dtype=torch.float16) tensor(286.7500, device='cuda:0', dtype=torch.float16)\n",
      "\n",
      "subject:  Umarex\n",
      "Sabratha is located in the country of Libya.\n",
      "Southern Savonia is located in the country of Finland.\n",
      "Canada Live is located in the country of Canada.\n",
      "{} is located in the country of\n",
      "tensor(25.9844, device='cuda:0', dtype=torch.float16) tensor(330., device='cuda:0', dtype=torch.float16)\n",
      "\n",
      "subject:  Canada Live\n",
      "Southern Savonia is located in the country of Finland.\n",
      "Ufa is located in the country of Russia.\n",
      "Sabratha is located in the country of Libya.\n",
      "{} is located in the country of\n",
      "tensor(21.7500, device='cuda:0', dtype=torch.float16) tensor(319., device='cuda:0', dtype=torch.float16)\n",
      "\n",
      "subject:  Southern Savonia\n",
      "Canada Live is located in the country of Canada.\n",
      "Umarex is located in the country of Germany.\n",
      "Ufa is located in the country of Russia.\n",
      "{} is located in the country of\n",
      "tensor(9.0781, device='cuda:0', dtype=torch.float16) tensor(245.3750, device='cuda:0', dtype=torch.float16)\n",
      "\n"
     ]
    },
    {
     "data": {
      "application/vnd.jupyter.widget-view+json": {
       "model_id": "1b90f1561a8440b4b9958a4bfb282b0a",
       "version_major": 2,
       "version_minor": 0
      },
      "text/plain": [
       "  0%|          | 0/5 [00:00<?, ?it/s]"
      ]
     },
     "metadata": {},
     "output_type": "display_data"
    },
    {
     "name": "stdout",
     "output_type": "stream",
     "text": [
      "subject:  Marugame\n",
      "Haut Atlas is located in the country of Morocco.\n",
      "Canada Live is located in the country of Canada.\n",
      "Ufa is located in the country of Russia.\n",
      "{} is located in the country of\n",
      "tensor(43.9062, device='cuda:0', dtype=torch.float16) tensor(222.3750, device='cuda:0', dtype=torch.float16)\n",
      "\n",
      "subject:  Haut Atlas\n",
      "Marugame is located in the country of Japan.\n",
      "Ufa is located in the country of Russia.\n",
      "Canada Live is located in the country of Canada.\n",
      "{} is located in the country of\n",
      "tensor(12.0625, device='cuda:0', dtype=torch.float16) tensor(318.5000, device='cuda:0', dtype=torch.float16)\n",
      "\n",
      "subject:  Canada Live\n",
      "Haut Atlas is located in the country of Morocco.\n",
      "Marugame is located in the country of Japan.\n",
      "Ufa is located in the country of Russia.\n",
      "{} is located in the country of\n",
      "tensor(19.7188, device='cuda:0', dtype=torch.float16) tensor(337.7500, device='cuda:0', dtype=torch.float16)\n",
      "\n",
      "subject:  Eurostat\n",
      "Marugame is located in the country of Japan.\n",
      "Haut Atlas is located in the country of Morocco.\n",
      "Ufa is located in the country of Russia.\n",
      "{} is located in the country of\n",
      "tensor(11.6641, device='cuda:0', dtype=torch.float16) tensor(254.6250, device='cuda:0', dtype=torch.float16)\n",
      "\n",
      "subject:  Ufa\n",
      "Haut Atlas is located in the country of Morocco.\n",
      "Canada Live is located in the country of Canada.\n",
      "Eurostat is located in the country of Luxembourg.\n",
      "{} is located in the country of\n",
      "tensor(2.8008, device='cuda:0', dtype=torch.float16) tensor(264.5000, device='cuda:0', dtype=torch.float16)\n",
      "\n"
     ]
    },
    {
     "data": {
      "application/vnd.jupyter.widget-view+json": {
       "model_id": "4291f4c6547345c085b8cb80f12336e0",
       "version_major": 2,
       "version_minor": 0
      },
      "text/plain": [
       "  0%|          | 0/5 [00:00<?, ?it/s]"
      ]
     },
     "metadata": {},
     "output_type": "display_data"
    },
    {
     "name": "stdout",
     "output_type": "stream",
     "text": [
      "subject:  Sabratha\n",
      "Ufa is located in the country of Russia.\n",
      "Umarex is located in the country of Germany.\n",
      "Canada Live is located in the country of Canada.\n",
      "{} is located in the country of\n",
      "tensor(11.5938, device='cuda:0', dtype=torch.float16) tensor(286.5000, device='cuda:0', dtype=torch.float16)\n",
      "\n",
      "subject:  Harnaut\n",
      "Sabratha is located in the country of Libya.\n",
      "Canada Live is located in the country of Canada.\n",
      "Ufa is located in the country of Russia.\n",
      "{} is located in the country of\n",
      "tensor(26.0469, device='cuda:0', dtype=torch.float16) tensor(271.7500, device='cuda:0', dtype=torch.float16)\n",
      "\n",
      "subject:  Umarex\n",
      "Sabratha is located in the country of Libya.\n",
      "Ufa is located in the country of Russia.\n",
      "Canada Live is located in the country of Canada.\n",
      "{} is located in the country of\n",
      "tensor(27.7500, device='cuda:0', dtype=torch.float16) tensor(327.2500, device='cuda:0', dtype=torch.float16)\n",
      "\n",
      "subject:  Canada Live\n",
      "Harnaut is located in the country of India.\n",
      "Umarex is located in the country of Germany.\n",
      "Sabratha is located in the country of Libya.\n",
      "{} is located in the country of\n",
      "tensor(20.3438, device='cuda:0', dtype=torch.float16) tensor(325.7500, device='cuda:0', dtype=torch.float16)\n",
      "\n",
      "subject:  Ufa\n",
      "Sabratha is located in the country of Libya.\n",
      "Umarex is located in the country of Germany.\n",
      "Harnaut is located in the country of India.\n",
      "{} is located in the country of\n",
      "tensor(2.3145, device='cuda:0', dtype=torch.float16) tensor(268., device='cuda:0', dtype=torch.float16)\n",
      "\n"
     ]
    },
    {
     "data": {
      "application/vnd.jupyter.widget-view+json": {
       "model_id": "aa4e057a6c8d4d1292fb73ca9718b342",
       "version_major": 2,
       "version_minor": 0
      },
      "text/plain": [
       "  0%|          | 0/5 [00:00<?, ?it/s]"
      ]
     },
     "metadata": {},
     "output_type": "display_data"
    },
    {
     "name": "stdout",
     "output_type": "stream",
     "text": [
      "subject:  Southern Savonia\n",
      "Umarex is located in the country of Germany.\n",
      "Canada Live is located in the country of Canada.\n",
      "Sabratha is located in the country of Libya.\n",
      "{} is located in the country of\n",
      "tensor(10.5625, device='cuda:0', dtype=torch.float16) tensor(253.7500, device='cuda:0', dtype=torch.float16)\n",
      "\n",
      "subject:  Sabratha\n",
      "Southern Savonia is located in the country of Finland.\n",
      "Canada Live is located in the country of Canada.\n",
      "Umarex is located in the country of Germany.\n",
      "{} is located in the country of\n",
      "tensor(12.9375, device='cuda:0', dtype=torch.float16) tensor(280.2500, device='cuda:0', dtype=torch.float16)\n",
      "\n",
      "subject:  Ufa\n",
      "Southern Savonia is located in the country of Finland.\n",
      "Sabratha is located in the country of Libya.\n",
      "Canada Live is located in the country of Canada.\n",
      "{} is located in the country of\n",
      "tensor(4.0273, device='cuda:0', dtype=torch.float16) tensor(261.5000, device='cuda:0', dtype=torch.float16)\n",
      "\n",
      "subject:  Canada Live\n",
      "Sabratha is located in the country of Libya.\n",
      "Umarex is located in the country of Germany.\n",
      "Southern Savonia is located in the country of Finland.\n",
      "{} is located in the country of\n",
      "tensor(20.4531, device='cuda:0', dtype=torch.float16) tensor(332.5000, device='cuda:0', dtype=torch.float16)\n",
      "\n",
      "subject:  Umarex\n",
      "Sabratha is located in the country of Libya.\n",
      "Southern Savonia is located in the country of Finland.\n",
      "Ufa is located in the country of Russia.\n",
      "{} is located in the country of\n",
      "tensor(21.0156, device='cuda:0', dtype=torch.float16) tensor(339., device='cuda:0', dtype=torch.float16)\n",
      "\n"
     ]
    },
    {
     "data": {
      "application/vnd.jupyter.widget-view+json": {
       "model_id": "67f117ac32a9402398a9df2a903b37b2",
       "version_major": 2,
       "version_minor": 0
      },
      "text/plain": [
       "  0%|          | 0/5 [00:00<?, ?it/s]"
      ]
     },
     "metadata": {},
     "output_type": "display_data"
    },
    {
     "name": "stdout",
     "output_type": "stream",
     "text": [
      "subject:  Ufa\n",
      "Eurostat is located in the country of Luxembourg.\n",
      "Haut Atlas is located in the country of Morocco.\n",
      "Sabratha is located in the country of Libya.\n",
      "{} is located in the country of\n",
      "tensor(3.6016, device='cuda:0', dtype=torch.float16) tensor(245.3750, device='cuda:0', dtype=torch.float16)\n",
      "\n",
      "subject:  Sabratha\n",
      "Eurostat is located in the country of Luxembourg.\n",
      "Canada Live is located in the country of Canada.\n",
      "Ufa is located in the country of Russia.\n",
      "{} is located in the country of\n",
      "tensor(14.3359, device='cuda:0', dtype=torch.float16) tensor(273.2500, device='cuda:0', dtype=torch.float16)\n",
      "\n",
      "subject:  Canada Live\n",
      "Haut Atlas is located in the country of Morocco.\n",
      "Eurostat is located in the country of Luxembourg.\n",
      "Sabratha is located in the country of Libya.\n",
      "{} is located in the country of\n",
      "tensor(22.2500, device='cuda:0', dtype=torch.float16) tensor(303., device='cuda:0', dtype=torch.float16)\n",
      "\n",
      "subject:  Eurostat\n",
      "Ufa is located in the country of Russia.\n",
      "Sabratha is located in the country of Libya.\n",
      "Canada Live is located in the country of Canada.\n",
      "{} is located in the country of\n",
      "tensor(12.3359, device='cuda:0', dtype=torch.float16) tensor(255.8750, device='cuda:0', dtype=torch.float16)\n",
      "\n",
      "subject:  Haut Atlas\n",
      "Canada Live is located in the country of Canada.\n",
      "Sabratha is located in the country of Libya.\n",
      "Eurostat is located in the country of Luxembourg.\n",
      "{} is located in the country of\n",
      "tensor(13.3516, device='cuda:0', dtype=torch.float16) tensor(260.7500, device='cuda:0', dtype=torch.float16)\n",
      "\n"
     ]
    },
    {
     "data": {
      "application/vnd.jupyter.widget-view+json": {
       "model_id": "359a3033b88f40049ef5e0ed4a0b881f",
       "version_major": 2,
       "version_minor": 0
      },
      "text/plain": [
       "  0%|          | 0/5 [00:00<?, ?it/s]"
      ]
     },
     "metadata": {},
     "output_type": "display_data"
    },
    {
     "name": "stdout",
     "output_type": "stream",
     "text": [
      "subject:  Sabratha\n",
      "Southern Savonia is located in the country of Finland.\n",
      "Imperia is located in the country of Italy.\n",
      "Ufa is located in the country of Russia.\n",
      "{} is located in the country of\n",
      "tensor(16.4688, device='cuda:0', dtype=torch.float16) tensor(264., device='cuda:0', dtype=torch.float16)\n",
      "\n",
      "subject:  Imperia\n",
      "Southern Savonia is located in the country of Finland.\n",
      "Sabratha is located in the country of Libya.\n",
      "Ufa is located in the country of Russia.\n",
      "{} is located in the country of\n",
      "tensor(6.9570, device='cuda:0', dtype=torch.float16) tensor(256.5000, device='cuda:0', dtype=torch.float16)\n",
      "\n",
      "subject:  Ufa\n",
      "Umarex is located in the country of Germany.\n",
      "Sabratha is located in the country of Libya.\n",
      "Imperia is located in the country of Italy.\n",
      "{} is located in the country of\n",
      "tensor(2.7461, device='cuda:0', dtype=torch.float16) tensor(253.8750, device='cuda:0', dtype=torch.float16)\n",
      "\n",
      "subject:  Umarex\n",
      "Ufa is located in the country of Russia.\n",
      "Imperia is located in the country of Italy.\n",
      "Sabratha is located in the country of Libya.\n",
      "{} is located in the country of\n",
      "tensor(17.7344, device='cuda:0', dtype=torch.float16) tensor(302.7500, device='cuda:0', dtype=torch.float16)\n",
      "\n",
      "subject:  Southern Savonia\n",
      "Sabratha is located in the country of Libya.\n",
      "Imperia is located in the country of Italy.\n",
      "Ufa is located in the country of Russia.\n",
      "{} is located in the country of\n",
      "tensor(14.2656, device='cuda:0', dtype=torch.float16) tensor(260.2500, device='cuda:0', dtype=torch.float16)\n",
      "\n"
     ]
    },
    {
     "data": {
      "application/vnd.jupyter.widget-view+json": {
       "model_id": "a1cd88ca454b4c78a934b616540e8fe1",
       "version_major": 2,
       "version_minor": 0
      },
      "text/plain": [
       "  0%|          | 0/5 [00:00<?, ?it/s]"
      ]
     },
     "metadata": {},
     "output_type": "display_data"
    },
    {
     "name": "stdout",
     "output_type": "stream",
     "text": [
      "subject:  Haut Atlas\n",
      "Harnaut is located in the country of India.\n",
      "Sabratha is located in the country of Libya.\n",
      "Southern Savonia is located in the country of Finland.\n",
      "{} is located in the country of\n",
      "tensor(9.2578, device='cuda:0', dtype=torch.float16) tensor(298.7500, device='cuda:0', dtype=torch.float16)\n",
      "\n",
      "subject:  Southern Savonia\n",
      "Sabratha is located in the country of Libya.\n",
      "Canada Live is located in the country of Canada.\n",
      "Haut Atlas is located in the country of Morocco.\n",
      "{} is located in the country of\n",
      "tensor(12.6719, device='cuda:0', dtype=torch.float16) tensor(239., device='cuda:0', dtype=torch.float16)\n",
      "\n",
      "subject:  Harnaut\n",
      "Sabratha is located in the country of Libya.\n",
      "Canada Live is located in the country of Canada.\n",
      "Haut Atlas is located in the country of Morocco.\n",
      "{} is located in the country of\n",
      "tensor(28.2344, device='cuda:0', dtype=torch.float16) tensor(297., device='cuda:0', dtype=torch.float16)\n",
      "\n",
      "subject:  Sabratha\n",
      "Haut Atlas is located in the country of Morocco.\n",
      "Southern Savonia is located in the country of Finland.\n",
      "Harnaut is located in the country of India.\n",
      "{} is located in the country of\n",
      "tensor(13.0547, device='cuda:0', dtype=torch.float16) tensor(287., device='cuda:0', dtype=torch.float16)\n",
      "\n",
      "subject:  Canada Live\n",
      "Southern Savonia is located in the country of Finland.\n",
      "Haut Atlas is located in the country of Morocco.\n",
      "Harnaut is located in the country of India.\n",
      "{} is located in the country of\n",
      "tensor(19.5625, device='cuda:0', dtype=torch.float16) tensor(354., device='cuda:0', dtype=torch.float16)\n",
      "\n",
      "Saving weights and biases >>  gpt-j/jacobians_averaged_collection/before__ln_f/P17.npz\n",
      "----------------------------------------------------\n",
      "zzzzzzzzzzzzzzzzzzzzzzzzzzzzzzzzzzzzzzzzzzzzzzzzzzzz\n",
      "P641 {} plays the sport of\n",
      "zzzzzzzzzzzzzzzzzzzzzzzzzzzzzzzzzzzzzzzzzzzzzzzzzzzz\n",
      "195\n",
      "{} plays the sport of\n"
     ]
    },
    {
     "data": {
      "application/vnd.jupyter.widget-view+json": {
       "model_id": "e978be696a17483b84988e79c8d94908",
       "version_major": 2,
       "version_minor": 0
      },
      "text/plain": [
       "  0%|          | 0/10 [00:00<?, ?it/s]"
      ]
     },
     "metadata": {},
     "output_type": "display_data"
    },
    {
     "data": {
      "application/vnd.jupyter.widget-view+json": {
       "model_id": "5d37fe68e6094fddb238ae1cceb04dc8",
       "version_major": 2,
       "version_minor": 0
      },
      "text/plain": [
       "  0%|          | 0/5 [00:00<?, ?it/s]"
      ]
     },
     "metadata": {},
     "output_type": "display_data"
    },
    {
     "name": "stdout",
     "output_type": "stream",
     "text": [
      "subject:  Frank Robinson\n",
      "Landon Donovan plays the sport of soccer.\n",
      "Corey Perry plays the sport of hockey.\n",
      "Tony Dungy plays the sport of football.\n",
      "{} plays the sport of\n",
      "tensor(2.9414, device='cuda:0', dtype=torch.float16) tensor(258., device='cuda:0', dtype=torch.float16)\n",
      "\n",
      "subject:  Corey Perry\n",
      "Kevin Durant plays the sport of basketball.\n",
      "Landon Donovan plays the sport of soccer.\n",
      "Tony Dungy plays the sport of football.\n",
      "{} plays the sport of\n",
      "tensor(4.5742, device='cuda:0', dtype=torch.float16) tensor(264., device='cuda:0', dtype=torch.float16)\n",
      "\n",
      "subject:  Kevin Durant\n",
      "Tony Dungy plays the sport of football.\n",
      "Corey Perry plays the sport of hockey.\n",
      "Frank Robinson plays the sport of baseball.\n",
      "{} plays the sport of\n",
      "tensor(3.2617, device='cuda:0', dtype=torch.float16) tensor(275.5000, device='cuda:0', dtype=torch.float16)\n",
      "\n",
      "subject:  Tony Dungy\n",
      "Kevin Durant plays the sport of basketball.\n",
      "Landon Donovan plays the sport of soccer.\n",
      "Corey Perry plays the sport of hockey.\n",
      "{} plays the sport of\n",
      "tensor(12.6797, device='cuda:0', dtype=torch.float16) tensor(250.3750, device='cuda:0', dtype=torch.float16)\n",
      "\n",
      "subject:  Landon Donovan\n",
      "Kevin Durant plays the sport of basketball.\n",
      "Frank Robinson plays the sport of baseball.\n",
      "Corey Perry plays the sport of hockey.\n",
      "{} plays the sport of\n",
      "tensor(6.1211, device='cuda:0', dtype=torch.float16) tensor(262.5000, device='cuda:0', dtype=torch.float16)\n",
      "\n"
     ]
    },
    {
     "data": {
      "application/vnd.jupyter.widget-view+json": {
       "model_id": "3011bf7ef47649c986369525bb90a25e",
       "version_major": 2,
       "version_minor": 0
      },
      "text/plain": [
       "  0%|          | 0/5 [00:00<?, ?it/s]"
      ]
     },
     "metadata": {},
     "output_type": "display_data"
    },
    {
     "name": "stdout",
     "output_type": "stream",
     "text": [
      "subject:  Corey Perry\n",
      "Landon Donovan plays the sport of soccer.\n",
      "Frank Robinson plays the sport of baseball.\n",
      "Kevin Durant plays the sport of basketball.\n",
      "{} plays the sport of\n",
      "tensor(4.2188, device='cuda:0', dtype=torch.float16) tensor(258.2500, device='cuda:0', dtype=torch.float16)\n",
      "\n",
      "subject:  Landon Donovan\n",
      "Tony Dungy plays the sport of football.\n",
      "Frank Robinson plays the sport of baseball.\n",
      "Corey Perry plays the sport of hockey.\n",
      "{} plays the sport of\n",
      "tensor(8.2656, device='cuda:0', dtype=torch.float16) tensor(264., device='cuda:0', dtype=torch.float16)\n",
      "\n",
      "subject:  Kevin Durant\n",
      "Tony Dungy plays the sport of football.\n",
      "Frank Robinson plays the sport of baseball.\n",
      "Corey Perry plays the sport of hockey.\n",
      "{} plays the sport of\n",
      "tensor(3.2520, device='cuda:0', dtype=torch.float16) tensor(272.7500, device='cuda:0', dtype=torch.float16)\n",
      "\n",
      "subject:  Tony Dungy\n",
      "Corey Perry plays the sport of hockey.\n",
      "Kevin Durant plays the sport of basketball.\n",
      "Landon Donovan plays the sport of soccer.\n",
      "{} plays the sport of\n",
      "tensor(12.9141, device='cuda:0', dtype=torch.float16) tensor(250.1250, device='cuda:0', dtype=torch.float16)\n",
      "\n",
      "subject:  Frank Robinson\n",
      "Tony Dungy plays the sport of football.\n",
      "Corey Perry plays the sport of hockey.\n",
      "Landon Donovan plays the sport of soccer.\n",
      "{} plays the sport of\n",
      "tensor(3.3789, device='cuda:0', dtype=torch.float16) tensor(236.8750, device='cuda:0', dtype=torch.float16)\n",
      "\n"
     ]
    },
    {
     "data": {
      "application/vnd.jupyter.widget-view+json": {
       "model_id": "1ca7e24c3fbe4fc0887cf96bd9e3fca5",
       "version_major": 2,
       "version_minor": 0
      },
      "text/plain": [
       "  0%|          | 0/5 [00:00<?, ?it/s]"
      ]
     },
     "metadata": {},
     "output_type": "display_data"
    },
    {
     "name": "stdout",
     "output_type": "stream",
     "text": [
      "subject:  Kevin Durant\n",
      "Frank Robinson plays the sport of baseball.\n",
      "Corey Perry plays the sport of hockey.\n",
      "Tony Dungy plays the sport of football.\n",
      "{} plays the sport of\n",
      "tensor(2.9883, device='cuda:0', dtype=torch.float16) tensor(277., device='cuda:0', dtype=torch.float16)\n",
      "\n",
      "subject:  Landon Donovan\n",
      "Corey Perry plays the sport of hockey.\n",
      "Frank Robinson plays the sport of baseball.\n",
      "Kevin Durant plays the sport of basketball.\n",
      "{} plays the sport of\n",
      "tensor(7.1797, device='cuda:0', dtype=torch.float16) tensor(257.7500, device='cuda:0', dtype=torch.float16)\n",
      "\n",
      "subject:  Frank Robinson\n",
      "Kevin Durant plays the sport of basketball.\n",
      "Tony Dungy plays the sport of football.\n",
      "Landon Donovan plays the sport of soccer.\n",
      "{} plays the sport of\n",
      "tensor(2.5371, device='cuda:0', dtype=torch.float16) tensor(233., device='cuda:0', dtype=torch.float16)\n",
      "\n",
      "subject:  Corey Perry\n",
      "Landon Donovan plays the sport of soccer.\n",
      "Frank Robinson plays the sport of baseball.\n",
      "Tony Dungy plays the sport of football.\n",
      "{} plays the sport of\n",
      "tensor(4.2695, device='cuda:0', dtype=torch.float16) tensor(273.5000, device='cuda:0', dtype=torch.float16)\n",
      "\n",
      "subject:  Tony Dungy\n",
      "Landon Donovan plays the sport of soccer.\n",
      "Kevin Durant plays the sport of basketball.\n",
      "Corey Perry plays the sport of hockey.\n",
      "{} plays the sport of\n",
      "tensor(11.4609, device='cuda:0', dtype=torch.float16) tensor(255.8750, device='cuda:0', dtype=torch.float16)\n",
      "\n"
     ]
    },
    {
     "data": {
      "application/vnd.jupyter.widget-view+json": {
       "model_id": "9dcae07112ce41b6adfae2e14f948cb2",
       "version_major": 2,
       "version_minor": 0
      },
      "text/plain": [
       "  0%|          | 0/5 [00:00<?, ?it/s]"
      ]
     },
     "metadata": {},
     "output_type": "display_data"
    },
    {
     "name": "stdout",
     "output_type": "stream",
     "text": [
      "subject:  Landon Donovan\n",
      "Corey Perry plays the sport of hockey.\n",
      "Kevin Durant plays the sport of basketball.\n",
      "Frank Robinson plays the sport of baseball.\n",
      "{} plays the sport of\n",
      "tensor(6.8125, device='cuda:0', dtype=torch.float16) tensor(262.5000, device='cuda:0', dtype=torch.float16)\n",
      "\n",
      "subject:  Kevin Durant\n",
      "Corey Perry plays the sport of hockey.\n",
      "Frank Robinson plays the sport of baseball.\n",
      "Tony Dungy plays the sport of football.\n",
      "{} plays the sport of\n",
      "tensor(2.6855, device='cuda:0', dtype=torch.float16) tensor(280.5000, device='cuda:0', dtype=torch.float16)\n",
      "\n",
      "subject:  Corey Perry\n",
      "Frank Robinson plays the sport of baseball.\n",
      "Kevin Durant plays the sport of basketball.\n",
      "Tony Dungy plays the sport of football.\n",
      "{} plays the sport of\n",
      "tensor(4.4219, device='cuda:0', dtype=torch.float16) tensor(253.5000, device='cuda:0', dtype=torch.float16)\n",
      "\n",
      "subject:  Tony Dungy\n",
      "Landon Donovan plays the sport of soccer.\n",
      "Frank Robinson plays the sport of baseball.\n",
      "Corey Perry plays the sport of hockey.\n",
      "{} plays the sport of\n",
      "tensor(11.9375, device='cuda:0', dtype=torch.float16) tensor(265.7500, device='cuda:0', dtype=torch.float16)\n",
      "\n",
      "subject:  Frank Robinson\n",
      "Corey Perry plays the sport of hockey.\n",
      "Kevin Durant plays the sport of basketball.\n",
      "Tony Dungy plays the sport of football.\n",
      "{} plays the sport of\n",
      "tensor(2.9941, device='cuda:0', dtype=torch.float16) tensor(248.2500, device='cuda:0', dtype=torch.float16)\n",
      "\n"
     ]
    },
    {
     "data": {
      "application/vnd.jupyter.widget-view+json": {
       "model_id": "d0b344f6f30a46be971379a7d7fa4b88",
       "version_major": 2,
       "version_minor": 0
      },
      "text/plain": [
       "  0%|          | 0/5 [00:00<?, ?it/s]"
      ]
     },
     "metadata": {},
     "output_type": "display_data"
    },
    {
     "name": "stdout",
     "output_type": "stream",
     "text": [
      "subject:  Corey Perry\n",
      "Frank Robinson plays the sport of baseball.\n",
      "Tony Dungy plays the sport of football.\n",
      "Kevin Durant plays the sport of basketball.\n",
      "{} plays the sport of\n",
      "tensor(4.2656, device='cuda:0', dtype=torch.float16) tensor(253.5000, device='cuda:0', dtype=torch.float16)\n",
      "\n",
      "subject:  Landon Donovan\n",
      "Tony Dungy plays the sport of football.\n",
      "Frank Robinson plays the sport of baseball.\n",
      "Corey Perry plays the sport of hockey.\n",
      "{} plays the sport of\n",
      "tensor(8.2656, device='cuda:0', dtype=torch.float16) tensor(264., device='cuda:0', dtype=torch.float16)\n",
      "\n",
      "subject:  Frank Robinson\n",
      "Tony Dungy plays the sport of football.\n",
      "Corey Perry plays the sport of hockey.\n",
      "Kevin Durant plays the sport of basketball.\n",
      "{} plays the sport of\n",
      "tensor(3.0508, device='cuda:0', dtype=torch.float16) tensor(242., device='cuda:0', dtype=torch.float16)\n",
      "\n",
      "subject:  Tony Dungy\n",
      "Kevin Durant plays the sport of basketball.\n",
      "Corey Perry plays the sport of hockey.\n",
      "Landon Donovan plays the sport of soccer.\n",
      "{} plays the sport of\n",
      "tensor(13.8203, device='cuda:0', dtype=torch.float16) tensor(247., device='cuda:0', dtype=torch.float16)\n",
      "\n",
      "subject:  Kevin Durant\n",
      "Tony Dungy plays the sport of football.\n",
      "Frank Robinson plays the sport of baseball.\n",
      "Landon Donovan plays the sport of soccer.\n",
      "{} plays the sport of\n",
      "tensor(3.5762, device='cuda:0', dtype=torch.float16) tensor(270.5000, device='cuda:0', dtype=torch.float16)\n",
      "\n"
     ]
    },
    {
     "data": {
      "application/vnd.jupyter.widget-view+json": {
       "model_id": "798a559e5b084e138a6bee70a843d6c3",
       "version_major": 2,
       "version_minor": 0
      },
      "text/plain": [
       "  0%|          | 0/5 [00:00<?, ?it/s]"
      ]
     },
     "metadata": {},
     "output_type": "display_data"
    },
    {
     "name": "stdout",
     "output_type": "stream",
     "text": [
      "subject:  Landon Donovan\n",
      "Frank Robinson plays the sport of baseball.\n",
      "Kevin Durant plays the sport of basketball.\n",
      "Corey Perry plays the sport of hockey.\n",
      "{} plays the sport of\n",
      "tensor(7.1797, device='cuda:0', dtype=torch.float16) tensor(253.5000, device='cuda:0', dtype=torch.float16)\n",
      "\n",
      "subject:  Corey Perry\n",
      "Frank Robinson plays the sport of baseball.\n",
      "Kevin Durant plays the sport of basketball.\n",
      "Landon Donovan plays the sport of soccer.\n",
      "{} plays the sport of\n",
      "tensor(5.0977, device='cuda:0', dtype=torch.float16) tensor(247.6250, device='cuda:0', dtype=torch.float16)\n",
      "\n",
      "subject:  Frank Robinson\n",
      "Corey Perry plays the sport of hockey.\n",
      "Landon Donovan plays the sport of soccer.\n",
      "Kevin Durant plays the sport of basketball.\n",
      "{} plays the sport of\n",
      "tensor(2.9531, device='cuda:0', dtype=torch.float16) tensor(246.5000, device='cuda:0', dtype=torch.float16)\n",
      "\n",
      "subject:  Tony Dungy\n",
      "Landon Donovan plays the sport of soccer.\n",
      "Kevin Durant plays the sport of basketball.\n",
      "Corey Perry plays the sport of hockey.\n",
      "{} plays the sport of\n",
      "tensor(11.4609, device='cuda:0', dtype=torch.float16) tensor(255.8750, device='cuda:0', dtype=torch.float16)\n",
      "\n",
      "subject:  Kevin Durant\n",
      "Landon Donovan plays the sport of soccer.\n",
      "Corey Perry plays the sport of hockey.\n",
      "Frank Robinson plays the sport of baseball.\n",
      "{} plays the sport of\n",
      "tensor(3.1172, device='cuda:0', dtype=torch.float16) tensor(283.7500, device='cuda:0', dtype=torch.float16)\n",
      "\n"
     ]
    },
    {
     "data": {
      "application/vnd.jupyter.widget-view+json": {
       "model_id": "81c2ba3fa0954d5c957a16232d540fd9",
       "version_major": 2,
       "version_minor": 0
      },
      "text/plain": [
       "  0%|          | 0/5 [00:00<?, ?it/s]"
      ]
     },
     "metadata": {},
     "output_type": "display_data"
    },
    {
     "name": "stdout",
     "output_type": "stream",
     "text": [
      "subject:  Kevin Durant\n",
      "Landon Donovan plays the sport of soccer.\n",
      "Corey Perry plays the sport of hockey.\n",
      "Frank Robinson plays the sport of baseball.\n",
      "{} plays the sport of\n",
      "tensor(3.1172, device='cuda:0', dtype=torch.float16) tensor(283.7500, device='cuda:0', dtype=torch.float16)\n",
      "\n",
      "subject:  Tony Dungy\n",
      "Corey Perry plays the sport of hockey.\n",
      "Landon Donovan plays the sport of soccer.\n",
      "Kevin Durant plays the sport of basketball.\n",
      "{} plays the sport of\n",
      "tensor(12.2031, device='cuda:0', dtype=torch.float16) tensor(255.7500, device='cuda:0', dtype=torch.float16)\n",
      "\n",
      "subject:  Frank Robinson\n",
      "Landon Donovan plays the sport of soccer.\n",
      "Tony Dungy plays the sport of football.\n",
      "Corey Perry plays the sport of hockey.\n",
      "{} plays the sport of\n",
      "tensor(3.2285, device='cuda:0', dtype=torch.float16) tensor(247.2500, device='cuda:0', dtype=torch.float16)\n",
      "\n",
      "subject:  Corey Perry\n",
      "Frank Robinson plays the sport of baseball.\n",
      "Kevin Durant plays the sport of basketball.\n",
      "Landon Donovan plays the sport of soccer.\n",
      "{} plays the sport of\n",
      "tensor(5.0977, device='cuda:0', dtype=torch.float16) tensor(247.6250, device='cuda:0', dtype=torch.float16)\n",
      "\n",
      "subject:  Landon Donovan\n",
      "Frank Robinson plays the sport of baseball.\n",
      "Tony Dungy plays the sport of football.\n",
      "Kevin Durant plays the sport of basketball.\n",
      "{} plays the sport of\n",
      "tensor(7.6641, device='cuda:0', dtype=torch.float16) tensor(254.3750, device='cuda:0', dtype=torch.float16)\n",
      "\n"
     ]
    },
    {
     "data": {
      "application/vnd.jupyter.widget-view+json": {
       "model_id": "84a16ab420164ca2aeb2bdaed6228175",
       "version_major": 2,
       "version_minor": 0
      },
      "text/plain": [
       "  0%|          | 0/5 [00:00<?, ?it/s]"
      ]
     },
     "metadata": {},
     "output_type": "display_data"
    },
    {
     "name": "stdout",
     "output_type": "stream",
     "text": [
      "subject:  Landon Donovan\n",
      "Corey Perry plays the sport of hockey.\n",
      "Tony Dungy plays the sport of football.\n",
      "Frank Robinson plays the sport of baseball.\n",
      "{} plays the sport of\n",
      "tensor(6.6953, device='cuda:0', dtype=torch.float16) tensor(273.2500, device='cuda:0', dtype=torch.float16)\n",
      "\n",
      "subject:  Frank Robinson\n",
      "Corey Perry plays the sport of hockey.\n",
      "Tony Dungy plays the sport of football.\n",
      "Landon Donovan plays the sport of soccer.\n",
      "{} plays the sport of\n",
      "tensor(3.1016, device='cuda:0', dtype=torch.float16) tensor(241., device='cuda:0', dtype=torch.float16)\n",
      "\n",
      "subject:  Tony Dungy\n",
      "Frank Robinson plays the sport of baseball.\n",
      "Corey Perry plays the sport of hockey.\n",
      "Landon Donovan plays the sport of soccer.\n",
      "{} plays the sport of\n",
      "tensor(14.5938, device='cuda:0', dtype=torch.float16) tensor(257.2500, device='cuda:0', dtype=torch.float16)\n",
      "\n",
      "subject:  Kevin Durant\n",
      "Frank Robinson plays the sport of baseball.\n",
      "Landon Donovan plays the sport of soccer.\n",
      "Corey Perry plays the sport of hockey.\n",
      "{} plays the sport of\n",
      "tensor(3.4688, device='cuda:0', dtype=torch.float16) tensor(268.2500, device='cuda:0', dtype=torch.float16)\n",
      "\n",
      "subject:  Corey Perry\n",
      "Tony Dungy plays the sport of football.\n",
      "Frank Robinson plays the sport of baseball.\n",
      "Kevin Durant plays the sport of basketball.\n",
      "{} plays the sport of\n",
      "tensor(4.8359, device='cuda:0', dtype=torch.float16) tensor(253., device='cuda:0', dtype=torch.float16)\n",
      "\n"
     ]
    },
    {
     "data": {
      "application/vnd.jupyter.widget-view+json": {
       "model_id": "20a78c7438284f1a946e573c47ceedb2",
       "version_major": 2,
       "version_minor": 0
      },
      "text/plain": [
       "  0%|          | 0/5 [00:00<?, ?it/s]"
      ]
     },
     "metadata": {},
     "output_type": "display_data"
    },
    {
     "name": "stdout",
     "output_type": "stream",
     "text": [
      "subject:  Kevin Durant\n",
      "Tony Dungy plays the sport of football.\n",
      "Landon Donovan plays the sport of soccer.\n",
      "Frank Robinson plays the sport of baseball.\n",
      "{} plays the sport of\n",
      "tensor(2.9512, device='cuda:0', dtype=torch.float16) tensor(278.7500, device='cuda:0', dtype=torch.float16)\n",
      "\n",
      "subject:  Frank Robinson\n",
      "Corey Perry plays the sport of hockey.\n",
      "Landon Donovan plays the sport of soccer.\n",
      "Tony Dungy plays the sport of football.\n",
      "{} plays the sport of\n",
      "tensor(2.8633, device='cuda:0', dtype=torch.float16) tensor(250.1250, device='cuda:0', dtype=torch.float16)\n",
      "\n",
      "subject:  Tony Dungy\n",
      "Landon Donovan plays the sport of soccer.\n",
      "Kevin Durant plays the sport of basketball.\n",
      "Corey Perry plays the sport of hockey.\n",
      "{} plays the sport of\n",
      "tensor(11.4609, device='cuda:0', dtype=torch.float16) tensor(255.8750, device='cuda:0', dtype=torch.float16)\n",
      "\n",
      "subject:  Corey Perry\n",
      "Landon Donovan plays the sport of soccer.\n",
      "Kevin Durant plays the sport of basketball.\n",
      "Frank Robinson plays the sport of baseball.\n",
      "{} plays the sport of\n",
      "tensor(4.1484, device='cuda:0', dtype=torch.float16) tensor(268.7500, device='cuda:0', dtype=torch.float16)\n",
      "\n",
      "subject:  Landon Donovan\n",
      "Frank Robinson plays the sport of baseball.\n",
      "Corey Perry plays the sport of hockey.\n",
      "Kevin Durant plays the sport of basketball.\n",
      "{} plays the sport of\n",
      "tensor(7.8594, device='cuda:0', dtype=torch.float16) tensor(259., device='cuda:0', dtype=torch.float16)\n",
      "\n"
     ]
    },
    {
     "data": {
      "application/vnd.jupyter.widget-view+json": {
       "model_id": "31425c69d34a493191d4dbb8cee0aec4",
       "version_major": 2,
       "version_minor": 0
      },
      "text/plain": [
       "  0%|          | 0/5 [00:00<?, ?it/s]"
      ]
     },
     "metadata": {},
     "output_type": "display_data"
    },
    {
     "name": "stdout",
     "output_type": "stream",
     "text": [
      "subject:  Tony Dungy\n",
      "Frank Robinson plays the sport of baseball.\n",
      "Corey Perry plays the sport of hockey.\n",
      "Landon Donovan plays the sport of soccer.\n",
      "{} plays the sport of\n",
      "tensor(14.5938, device='cuda:0', dtype=torch.float16) tensor(257.2500, device='cuda:0', dtype=torch.float16)\n",
      "\n",
      "subject:  Corey Perry\n",
      "Landon Donovan plays the sport of soccer.\n",
      "Frank Robinson plays the sport of baseball.\n",
      "Kevin Durant plays the sport of basketball.\n",
      "{} plays the sport of\n",
      "tensor(4.2188, device='cuda:0', dtype=torch.float16) tensor(258.2500, device='cuda:0', dtype=torch.float16)\n",
      "\n",
      "subject:  Landon Donovan\n",
      "Frank Robinson plays the sport of baseball.\n",
      "Kevin Durant plays the sport of basketball.\n",
      "Tony Dungy plays the sport of football.\n",
      "{} plays the sport of\n",
      "tensor(7.0859, device='cuda:0', dtype=torch.float16) tensor(259., device='cuda:0', dtype=torch.float16)\n",
      "\n",
      "subject:  Frank Robinson\n",
      "Corey Perry plays the sport of hockey.\n",
      "Tony Dungy plays the sport of football.\n",
      "Landon Donovan plays the sport of soccer.\n",
      "{} plays the sport of\n",
      "tensor(3.1016, device='cuda:0', dtype=torch.float16) tensor(241., device='cuda:0', dtype=torch.float16)\n",
      "\n",
      "subject:  Kevin Durant\n",
      "Landon Donovan plays the sport of soccer.\n",
      "Tony Dungy plays the sport of football.\n",
      "Frank Robinson plays the sport of baseball.\n",
      "{} plays the sport of\n",
      "tensor(2.6582, device='cuda:0', dtype=torch.float16) tensor(288., device='cuda:0', dtype=torch.float16)\n",
      "\n",
      "Saving weights and biases >>  gpt-j/jacobians_averaged_collection/before__ln_f/P641.npz\n",
      "----------------------------------------------------\n",
      "zzzzzzzzzzzzzzzzzzzzzzzzzzzzzzzzzzzzzzzzzzzzzzzzzzzz\n",
      "P103 The mother tongue of {} is\n",
      "zzzzzzzzzzzzzzzzzzzzzzzzzzzzzzzzzzzzzzzzzzzzzzzzzzzz\n",
      "317\n",
      "The mother tongue of {} is\n"
     ]
    },
    {
     "data": {
      "application/vnd.jupyter.widget-view+json": {
       "model_id": "f50d4554c3d84676b9520ac9467ebe25",
       "version_major": 2,
       "version_minor": 0
      },
      "text/plain": [
       "  0%|          | 0/10 [00:00<?, ?it/s]"
      ]
     },
     "metadata": {},
     "output_type": "display_data"
    },
    {
     "data": {
      "application/vnd.jupyter.widget-view+json": {
       "model_id": "0617a27278624755a3639446f6d06628",
       "version_major": 2,
       "version_minor": 0
      },
      "text/plain": [
       "  0%|          | 0/5 [00:00<?, ?it/s]"
      ]
     },
     "metadata": {},
     "output_type": "display_data"
    },
    {
     "name": "stdout",
     "output_type": "stream",
     "text": [
      "subject:  Marie Curie\n",
      "The mother tongue of Michael Albert is English.\n",
      "The mother tongue of Ovid is Latin.\n",
      "The mother tongue of Shakira is Spanish.\n",
      "The mother tongue of {} is\n",
      "tensor(35.2188, device='cuda:0', dtype=torch.float16) tensor(253.2500, device='cuda:0', dtype=torch.float16)\n",
      "\n",
      "subject:  Ovid\n",
      "The mother tongue of Marie Curie is Polish.\n",
      "The mother tongue of Shakira is Spanish.\n",
      "The mother tongue of Michael Albert is English.\n",
      "The mother tongue of {} is\n",
      "tensor(39.6250, device='cuda:0', dtype=torch.float16) tensor(231.3750, device='cuda:0', dtype=torch.float16)\n",
      "\n",
      "subject:  Michael Albert\n",
      "The mother tongue of Shakira is Spanish.\n",
      "The mother tongue of Marc Chagall is Russian.\n",
      "The mother tongue of Ovid is Latin.\n",
      "The mother tongue of {} is\n",
      "tensor(34.9375, device='cuda:0', dtype=torch.float16) tensor(261.5000, device='cuda:0', dtype=torch.float16)\n",
      "\n",
      "subject:  Shakira\n",
      "The mother tongue of Marc Chagall is Russian.\n",
      "The mother tongue of Michael Albert is English.\n",
      "The mother tongue of Marie Curie is Polish.\n",
      "The mother tongue of {} is\n",
      "tensor(35.7500, device='cuda:0', dtype=torch.float16) tensor(252.8750, device='cuda:0', dtype=torch.float16)\n",
      "\n",
      "subject:  Marc Chagall\n",
      "The mother tongue of Marie Curie is Polish.\n",
      "The mother tongue of Ovid is Latin.\n",
      "The mother tongue of Shakira is Spanish.\n",
      "The mother tongue of {} is\n",
      "tensor(33.6562, device='cuda:0', dtype=torch.float16) tensor(233.5000, device='cuda:0', dtype=torch.float16)\n",
      "\n"
     ]
    },
    {
     "data": {
      "application/vnd.jupyter.widget-view+json": {
       "model_id": "b5d26386ac2447adbecaaeedacf7babd",
       "version_major": 2,
       "version_minor": 0
      },
      "text/plain": [
       "  0%|          | 0/5 [00:00<?, ?it/s]"
      ]
     },
     "metadata": {},
     "output_type": "display_data"
    },
    {
     "name": "stdout",
     "output_type": "stream",
     "text": [
      "subject:  Marie Glory\n",
      "The mother tongue of Marc Chagall is Russian.\n",
      "The mother tongue of Michael Albert is English.\n",
      "The mother tongue of Ovid is Latin.\n",
      "The mother tongue of {} is\n",
      "tensor(20.8594, device='cuda:0', dtype=torch.float16) tensor(346., device='cuda:0', dtype=torch.float16)\n",
      "\n",
      "subject:  Michael Albert\n",
      "The mother tongue of Marie Glory is French.\n",
      "The mother tongue of Ovid is Latin.\n",
      "The mother tongue of Marc Chagall is Russian.\n",
      "The mother tongue of {} is\n",
      "tensor(33.5000, device='cuda:0', dtype=torch.float16) tensor(268.7500, device='cuda:0', dtype=torch.float16)\n",
      "\n",
      "subject:  Ovid\n",
      "The mother tongue of Michael Albert is English.\n",
      "The mother tongue of Marie Glory is French.\n",
      "The mother tongue of Swedes is Swedish.\n",
      "The mother tongue of {} is\n",
      "tensor(35.3750, device='cuda:0', dtype=torch.float16) tensor(278.5000, device='cuda:0', dtype=torch.float16)\n",
      "\n",
      "subject:  Swedes\n",
      "The mother tongue of Marc Chagall is Russian.\n",
      "The mother tongue of Michael Albert is English.\n",
      "The mother tongue of Marie Glory is French.\n",
      "The mother tongue of {} is\n",
      "tensor(20.2031, device='cuda:0', dtype=torch.float16) tensor(277., device='cuda:0', dtype=torch.float16)\n",
      "\n",
      "subject:  Marc Chagall\n",
      "The mother tongue of Michael Albert is English.\n",
      "The mother tongue of Marie Glory is French.\n",
      "The mother tongue of Ovid is Latin.\n",
      "The mother tongue of {} is\n",
      "tensor(32.9688, device='cuda:0', dtype=torch.float16) tensor(259.5000, device='cuda:0', dtype=torch.float16)\n",
      "\n"
     ]
    },
    {
     "data": {
      "application/vnd.jupyter.widget-view+json": {
       "model_id": "708b5353f0624c7689224359369ab69b",
       "version_major": 2,
       "version_minor": 0
      },
      "text/plain": [
       "  0%|          | 0/5 [00:00<?, ?it/s]"
      ]
     },
     "metadata": {},
     "output_type": "display_data"
    },
    {
     "name": "stdout",
     "output_type": "stream",
     "text": [
      "subject:  Ovid\n",
      "The mother tongue of Swedes is Swedish.\n",
      "The mother tongue of Marc Chagall is Russian.\n",
      "The mother tongue of Shakira is Spanish.\n",
      "The mother tongue of {} is\n",
      "tensor(39.7812, device='cuda:0', dtype=torch.float16) tensor(240., device='cuda:0', dtype=torch.float16)\n",
      "\n",
      "subject:  Swedes\n",
      "The mother tongue of Ovid is Latin.\n",
      "The mother tongue of Marc Chagall is Russian.\n",
      "The mother tongue of Marie Curie is Polish.\n",
      "The mother tongue of {} is\n",
      "tensor(22.2656, device='cuda:0', dtype=torch.float16) tensor(260.7500, device='cuda:0', dtype=torch.float16)\n",
      "\n",
      "subject:  Marie Curie\n",
      "The mother tongue of Ovid is Latin.\n",
      "The mother tongue of Shakira is Spanish.\n",
      "The mother tongue of Marc Chagall is Russian.\n",
      "The mother tongue of {} is\n",
      "tensor(34.5938, device='cuda:0', dtype=torch.float16) tensor(232.5000, device='cuda:0', dtype=torch.float16)\n",
      "\n",
      "subject:  Shakira\n",
      "The mother tongue of Marie Curie is Polish.\n",
      "The mother tongue of Swedes is Swedish.\n",
      "The mother tongue of Ovid is Latin.\n",
      "The mother tongue of {} is\n",
      "tensor(34.1250, device='cuda:0', dtype=torch.float16) tensor(257.7500, device='cuda:0', dtype=torch.float16)\n",
      "\n",
      "subject:  Marc Chagall\n",
      "The mother tongue of Marie Curie is Polish.\n",
      "The mother tongue of Swedes is Swedish.\n",
      "The mother tongue of Ovid is Latin.\n",
      "The mother tongue of {} is\n",
      "tensor(34.4375, device='cuda:0', dtype=torch.float16) tensor(252., device='cuda:0', dtype=torch.float16)\n",
      "\n"
     ]
    },
    {
     "data": {
      "application/vnd.jupyter.widget-view+json": {
       "model_id": "76265efd4be64efe9bfd962aa195cdb0",
       "version_major": 2,
       "version_minor": 0
      },
      "text/plain": [
       "  0%|          | 0/5 [00:00<?, ?it/s]"
      ]
     },
     "metadata": {},
     "output_type": "display_data"
    },
    {
     "name": "stdout",
     "output_type": "stream",
     "text": [
      "subject:  Michael Albert\n",
      "The mother tongue of Marie Glory is French.\n",
      "The mother tongue of Swedes is Swedish.\n",
      "The mother tongue of Marie Curie is Polish.\n",
      "The mother tongue of {} is\n",
      "tensor(30.9062, device='cuda:0', dtype=torch.float16) tensor(308.2500, device='cuda:0', dtype=torch.float16)\n",
      "\n",
      "subject:  Swedes\n",
      "The mother tongue of Marie Glory is French.\n",
      "The mother tongue of Marie Curie is Polish.\n",
      "The mother tongue of Jan Commelin is Dutch.\n",
      "The mother tongue of {} is\n",
      "tensor(21.1719, device='cuda:0', dtype=torch.float16) tensor(262.5000, device='cuda:0', dtype=torch.float16)\n",
      "\n",
      "subject:  Marie Glory\n",
      "The mother tongue of Marie Curie is Polish.\n",
      "The mother tongue of Swedes is Swedish.\n",
      "The mother tongue of Michael Albert is English.\n",
      "The mother tongue of {} is\n",
      "tensor(21.2656, device='cuda:0', dtype=torch.float16) tensor(356.5000, device='cuda:0', dtype=torch.float16)\n",
      "\n",
      "subject:  Marie Curie\n",
      "The mother tongue of Jan Commelin is Dutch.\n",
      "The mother tongue of Swedes is Swedish.\n",
      "The mother tongue of Marie Glory is French.\n",
      "The mother tongue of {} is\n",
      "tensor(38.5312, device='cuda:0', dtype=torch.float16) tensor(261., device='cuda:0', dtype=torch.float16)\n",
      "\n",
      "subject:  Jan Commelin\n",
      "The mother tongue of Marie Glory is French.\n",
      "The mother tongue of Marie Curie is Polish.\n",
      "The mother tongue of Michael Albert is English.\n",
      "The mother tongue of {} is\n",
      "tensor(21.6406, device='cuda:0', dtype=torch.float16) tensor(337., device='cuda:0', dtype=torch.float16)\n",
      "\n"
     ]
    },
    {
     "data": {
      "application/vnd.jupyter.widget-view+json": {
       "model_id": "98a96cdb56ef42c8bc1df34fb9647a03",
       "version_major": 2,
       "version_minor": 0
      },
      "text/plain": [
       "  0%|          | 0/5 [00:00<?, ?it/s]"
      ]
     },
     "metadata": {},
     "output_type": "display_data"
    },
    {
     "name": "stdout",
     "output_type": "stream",
     "text": [
      "subject:  Marie Curie\n",
      "The mother tongue of Marc Chagall is Russian.\n",
      "The mother tongue of Ovid is Latin.\n",
      "The mother tongue of Jan Commelin is Dutch.\n",
      "The mother tongue of {} is\n",
      "tensor(35.6250, device='cuda:0', dtype=torch.float16) tensor(247., device='cuda:0', dtype=torch.float16)\n",
      "\n",
      "subject:  Marc Chagall\n",
      "The mother tongue of Marie Curie is Polish.\n",
      "The mother tongue of Jan Commelin is Dutch.\n",
      "The mother tongue of Ovid is Latin.\n",
      "The mother tongue of {} is\n",
      "tensor(33.7500, device='cuda:0', dtype=torch.float16) tensor(239.3750, device='cuda:0', dtype=torch.float16)\n",
      "\n",
      "subject:  Michael Albert\n",
      "The mother tongue of Jan Commelin is Dutch.\n",
      "The mother tongue of Ovid is Latin.\n",
      "The mother tongue of Marie Curie is Polish.\n",
      "The mother tongue of {} is\n",
      "tensor(34.6250, device='cuda:0', dtype=torch.float16) tensor(266.2500, device='cuda:0', dtype=torch.float16)\n",
      "\n",
      "subject:  Ovid\n",
      "The mother tongue of Jan Commelin is Dutch.\n",
      "The mother tongue of Michael Albert is English.\n",
      "The mother tongue of Marc Chagall is Russian.\n",
      "The mother tongue of {} is\n",
      "tensor(41.6562, device='cuda:0', dtype=torch.float16) tensor(230.7500, device='cuda:0', dtype=torch.float16)\n",
      "\n",
      "subject:  Jan Commelin\n",
      "The mother tongue of Marc Chagall is Russian.\n",
      "The mother tongue of Ovid is Latin.\n",
      "The mother tongue of Michael Albert is English.\n",
      "The mother tongue of {} is\n",
      "tensor(21.4531, device='cuda:0', dtype=torch.float16) tensor(327., device='cuda:0', dtype=torch.float16)\n",
      "\n"
     ]
    },
    {
     "data": {
      "application/vnd.jupyter.widget-view+json": {
       "model_id": "6e8f29d71ffb49cd8a835bcdc5ceb613",
       "version_major": 2,
       "version_minor": 0
      },
      "text/plain": [
       "  0%|          | 0/5 [00:00<?, ?it/s]"
      ]
     },
     "metadata": {},
     "output_type": "display_data"
    },
    {
     "name": "stdout",
     "output_type": "stream",
     "text": [
      "subject:  Michael Albert\n",
      "The mother tongue of Marc Chagall is Russian.\n",
      "The mother tongue of Jan Commelin is Dutch.\n",
      "The mother tongue of Ovid is Latin.\n",
      "The mother tongue of {} is\n",
      "tensor(34.0625, device='cuda:0', dtype=torch.float16) tensor(288.2500, device='cuda:0', dtype=torch.float16)\n",
      "\n",
      "subject:  Marc Chagall\n",
      "The mother tongue of Michael Albert is English.\n",
      "The mother tongue of Marie Curie is Polish.\n",
      "The mother tongue of Ovid is Latin.\n",
      "The mother tongue of {} is\n",
      "tensor(33.9375, device='cuda:0', dtype=torch.float16) tensor(241.1250, device='cuda:0', dtype=torch.float16)\n",
      "\n",
      "subject:  Marie Curie\n",
      "The mother tongue of Ovid is Latin.\n",
      "The mother tongue of Marc Chagall is Russian.\n",
      "The mother tongue of Michael Albert is English.\n",
      "The mother tongue of {} is\n",
      "tensor(34.6875, device='cuda:0', dtype=torch.float16) tensor(248.2500, device='cuda:0', dtype=torch.float16)\n",
      "\n",
      "subject:  Ovid\n",
      "The mother tongue of Jan Commelin is Dutch.\n",
      "The mother tongue of Marc Chagall is Russian.\n",
      "The mother tongue of Marie Curie is Polish.\n",
      "The mother tongue of {} is\n",
      "tensor(42.9062, device='cuda:0', dtype=torch.float16) tensor(218., device='cuda:0', dtype=torch.float16)\n",
      "\n",
      "subject:  Jan Commelin\n",
      "The mother tongue of Michael Albert is English.\n",
      "The mother tongue of Marie Curie is Polish.\n",
      "The mother tongue of Marc Chagall is Russian.\n",
      "The mother tongue of {} is\n",
      "tensor(21.9062, device='cuda:0', dtype=torch.float16) tensor(305., device='cuda:0', dtype=torch.float16)\n",
      "\n"
     ]
    },
    {
     "data": {
      "application/vnd.jupyter.widget-view+json": {
       "model_id": "fbd22b1151d0438b9c2fddf5c2c38eaa",
       "version_major": 2,
       "version_minor": 0
      },
      "text/plain": [
       "  0%|          | 0/5 [00:00<?, ?it/s]"
      ]
     },
     "metadata": {},
     "output_type": "display_data"
    },
    {
     "name": "stdout",
     "output_type": "stream",
     "text": [
      "subject:  Swedes\n",
      "The mother tongue of Michael Albert is English.\n",
      "The mother tongue of Shakira is Spanish.\n",
      "The mother tongue of Marc Chagall is Russian.\n",
      "The mother tongue of {} is\n",
      "tensor(20.1250, device='cuda:0', dtype=torch.float16) tensor(262.2500, device='cuda:0', dtype=torch.float16)\n",
      "\n",
      "subject:  Marc Chagall\n",
      "The mother tongue of Swedes is Swedish.\n",
      "The mother tongue of Shakira is Spanish.\n",
      "The mother tongue of Ovid is Latin.\n",
      "The mother tongue of {} is\n",
      "tensor(33.8438, device='cuda:0', dtype=torch.float16) tensor(254.5000, device='cuda:0', dtype=torch.float16)\n",
      "\n",
      "subject:  Shakira\n",
      "The mother tongue of Swedes is Swedish.\n",
      "The mother tongue of Michael Albert is English.\n",
      "The mother tongue of Ovid is Latin.\n",
      "The mother tongue of {} is\n",
      "tensor(34.2188, device='cuda:0', dtype=torch.float16) tensor(259.7500, device='cuda:0', dtype=torch.float16)\n",
      "\n",
      "subject:  Ovid\n",
      "The mother tongue of Marc Chagall is Russian.\n",
      "The mother tongue of Shakira is Spanish.\n",
      "The mother tongue of Swedes is Swedish.\n",
      "The mother tongue of {} is\n",
      "tensor(38.5938, device='cuda:0', dtype=torch.float16) tensor(258.5000, device='cuda:0', dtype=torch.float16)\n",
      "\n",
      "subject:  Michael Albert\n",
      "The mother tongue of Swedes is Swedish.\n",
      "The mother tongue of Ovid is Latin.\n",
      "The mother tongue of Shakira is Spanish.\n",
      "The mother tongue of {} is\n",
      "tensor(35.0312, device='cuda:0', dtype=torch.float16) tensor(272.2500, device='cuda:0', dtype=torch.float16)\n",
      "\n"
     ]
    },
    {
     "data": {
      "application/vnd.jupyter.widget-view+json": {
       "model_id": "6126646eab9f46b09135d03f54ad5ea6",
       "version_major": 2,
       "version_minor": 0
      },
      "text/plain": [
       "  0%|          | 0/5 [00:00<?, ?it/s]"
      ]
     },
     "metadata": {},
     "output_type": "display_data"
    },
    {
     "name": "stdout",
     "output_type": "stream",
     "text": [
      "subject:  Marie Glory\n",
      "The mother tongue of Jan Commelin is Dutch.\n",
      "The mother tongue of Swedes is Swedish.\n",
      "The mother tongue of Shakira is Spanish.\n",
      "The mother tongue of {} is\n",
      "tensor(20.0469, device='cuda:0', dtype=torch.float16) tensor(344.5000, device='cuda:0', dtype=torch.float16)\n",
      "\n",
      "subject:  Swedes\n",
      "The mother tongue of Shakira is Spanish.\n",
      "The mother tongue of Marie Curie is Polish.\n",
      "The mother tongue of Marie Glory is French.\n",
      "The mother tongue of {} is\n",
      "tensor(21.6562, device='cuda:0', dtype=torch.float16) tensor(262.5000, device='cuda:0', dtype=torch.float16)\n",
      "\n",
      "subject:  Marie Curie\n",
      "The mother tongue of Jan Commelin is Dutch.\n",
      "The mother tongue of Swedes is Swedish.\n",
      "The mother tongue of Shakira is Spanish.\n",
      "The mother tongue of {} is\n",
      "tensor(37.1250, device='cuda:0', dtype=torch.float16) tensor(261.7500, device='cuda:0', dtype=torch.float16)\n",
      "\n",
      "subject:  Jan Commelin\n",
      "The mother tongue of Shakira is Spanish.\n",
      "The mother tongue of Swedes is Swedish.\n",
      "The mother tongue of Marie Curie is Polish.\n",
      "The mother tongue of {} is\n",
      "tensor(23.6094, device='cuda:0', dtype=torch.float16) tensor(315.2500, device='cuda:0', dtype=torch.float16)\n",
      "\n",
      "subject:  Shakira\n",
      "The mother tongue of Jan Commelin is Dutch.\n",
      "The mother tongue of Swedes is Swedish.\n",
      "The mother tongue of Marie Glory is French.\n",
      "The mother tongue of {} is\n",
      "tensor(38.3125, device='cuda:0', dtype=torch.float16) tensor(271.5000, device='cuda:0', dtype=torch.float16)\n",
      "\n"
     ]
    },
    {
     "data": {
      "application/vnd.jupyter.widget-view+json": {
       "model_id": "7f1853b5c4eb435c97bfa28f47b72a20",
       "version_major": 2,
       "version_minor": 0
      },
      "text/plain": [
       "  0%|          | 0/5 [00:00<?, ?it/s]"
      ]
     },
     "metadata": {},
     "output_type": "display_data"
    },
    {
     "name": "stdout",
     "output_type": "stream",
     "text": [
      "subject:  Marie Glory\n",
      "The mother tongue of Marc Chagall is Russian.\n",
      "The mother tongue of Marie Curie is Polish.\n",
      "The mother tongue of Jan Commelin is Dutch.\n",
      "The mother tongue of {} is\n",
      "tensor(17.9062, device='cuda:0', dtype=torch.float16) tensor(356.5000, device='cuda:0', dtype=torch.float16)\n",
      "\n",
      "subject:  Shakira\n",
      "The mother tongue of Marie Glory is French.\n",
      "The mother tongue of Jan Commelin is Dutch.\n",
      "The mother tongue of Marie Curie is Polish.\n",
      "The mother tongue of {} is\n",
      "tensor(37.1250, device='cuda:0', dtype=torch.float16) tensor(254.5000, device='cuda:0', dtype=torch.float16)\n",
      "\n",
      "subject:  Marc Chagall\n",
      "The mother tongue of Marie Curie is Polish.\n",
      "The mother tongue of Shakira is Spanish.\n",
      "The mother tongue of Marie Glory is French.\n",
      "The mother tongue of {} is\n",
      "tensor(32.9688, device='cuda:0', dtype=torch.float16) tensor(249.5000, device='cuda:0', dtype=torch.float16)\n",
      "\n",
      "subject:  Marie Curie\n",
      "The mother tongue of Jan Commelin is Dutch.\n",
      "The mother tongue of Marc Chagall is Russian.\n",
      "The mother tongue of Marie Glory is French.\n",
      "The mother tongue of {} is\n",
      "tensor(38.3438, device='cuda:0', dtype=torch.float16) tensor(230., device='cuda:0', dtype=torch.float16)\n",
      "\n",
      "subject:  Jan Commelin\n",
      "The mother tongue of Marie Curie is Polish.\n",
      "The mother tongue of Marie Glory is French.\n",
      "The mother tongue of Shakira is Spanish.\n",
      "The mother tongue of {} is\n",
      "tensor(21.8750, device='cuda:0', dtype=torch.float16) tensor(314., device='cuda:0', dtype=torch.float16)\n",
      "\n"
     ]
    },
    {
     "data": {
      "application/vnd.jupyter.widget-view+json": {
       "model_id": "4fe62e42bfd94ed8a6cbff6f42aec4f4",
       "version_major": 2,
       "version_minor": 0
      },
      "text/plain": [
       "  0%|          | 0/5 [00:00<?, ?it/s]"
      ]
     },
     "metadata": {},
     "output_type": "display_data"
    },
    {
     "name": "stdout",
     "output_type": "stream",
     "text": [
      "subject:  Marie Glory\n",
      "The mother tongue of Michael Albert is English.\n",
      "The mother tongue of Swedes is Swedish.\n",
      "The mother tongue of Ovid is Latin.\n",
      "The mother tongue of {} is\n",
      "tensor(21.7812, device='cuda:0', dtype=torch.float16) tensor(364.5000, device='cuda:0', dtype=torch.float16)\n",
      "\n",
      "subject:  Ovid\n",
      "The mother tongue of Michael Albert is English.\n",
      "The mother tongue of Marie Glory is French.\n",
      "The mother tongue of Marc Chagall is Russian.\n",
      "The mother tongue of {} is\n",
      "tensor(38.2188, device='cuda:0', dtype=torch.float16) tensor(244.8750, device='cuda:0', dtype=torch.float16)\n",
      "\n",
      "subject:  Michael Albert\n",
      "The mother tongue of Swedes is Swedish.\n",
      "The mother tongue of Marie Glory is French.\n",
      "The mother tongue of Marc Chagall is Russian.\n",
      "The mother tongue of {} is\n",
      "tensor(32.7500, device='cuda:0', dtype=torch.float16) tensor(283.5000, device='cuda:0', dtype=torch.float16)\n",
      "\n",
      "subject:  Swedes\n",
      "The mother tongue of Marc Chagall is Russian.\n",
      "The mother tongue of Michael Albert is English.\n",
      "The mother tongue of Ovid is Latin.\n",
      "The mother tongue of {} is\n",
      "tensor(20.2188, device='cuda:0', dtype=torch.float16) tensor(273.7500, device='cuda:0', dtype=torch.float16)\n",
      "\n",
      "subject:  Marc Chagall\n",
      "The mother tongue of Michael Albert is English.\n",
      "The mother tongue of Marie Glory is French.\n",
      "The mother tongue of Ovid is Latin.\n",
      "The mother tongue of {} is\n",
      "tensor(32.9688, device='cuda:0', dtype=torch.float16) tensor(259.5000, device='cuda:0', dtype=torch.float16)\n",
      "\n",
      "Saving weights and biases >>  gpt-j/jacobians_averaged_collection/before__ln_f/P103.npz\n",
      "----------------------------------------------------\n",
      "zzzzzzzzzzzzzzzzzzzzzzzzzzzzzzzzzzzzzzzzzzzzzzzzzzzz\n",
      "P176 {} is produced by\n",
      "zzzzzzzzzzzzzzzzzzzzzzzzzzzzzzzzzzzzzzzzzzzzzzzzzzzz\n",
      "543\n",
      "{} is produced by\n"
     ]
    },
    {
     "data": {
      "application/vnd.jupyter.widget-view+json": {
       "model_id": "a66e65427c4448f6a285db0e0067c333",
       "version_major": 2,
       "version_minor": 0
      },
      "text/plain": [
       "  0%|          | 0/10 [00:00<?, ?it/s]"
      ]
     },
     "metadata": {},
     "output_type": "display_data"
    },
    {
     "data": {
      "application/vnd.jupyter.widget-view+json": {
       "model_id": "1ab41514ea094bc0bed2fdfbb32963fd",
       "version_major": 2,
       "version_minor": 0
      },
      "text/plain": [
       "  0%|          | 0/5 [00:00<?, ?it/s]"
      ]
     },
     "metadata": {},
     "output_type": "display_data"
    },
    {
     "name": "stdout",
     "output_type": "stream",
     "text": [
      "subject:  Nokia 1100\n",
      "Google Authenticator is produced by Google.\n",
      "Samsung NX series is produced by Samsung.\n",
      "Microsoft Band is produced by Microsoft.\n",
      "{} is produced by\n",
      "tensor(2.2539, device='cuda:0', dtype=torch.float16) tensor(259.5000, device='cuda:0', dtype=torch.float16)\n",
      "\n",
      "subject:  Microsoft Band\n",
      "Nokia 1100 is produced by Nokia.\n",
      "Google Authenticator is produced by Google.\n",
      "BMW 700 is produced by BMW.\n",
      "{} is produced by\n",
      "tensor(21.7500, device='cuda:0', dtype=torch.float16) tensor(281.5000, device='cuda:0', dtype=torch.float16)\n",
      "\n",
      "subject:  Google Authenticator\n",
      "Samsung NX series is produced by Samsung.\n",
      "Nokia 1100 is produced by Nokia.\n",
      "BMW 700 is produced by BMW.\n",
      "{} is produced by\n",
      "tensor(19.8750, device='cuda:0', dtype=torch.float16) tensor(225.7500, device='cuda:0', dtype=torch.float16)\n",
      "\n",
      "subject:  BMW 700\n",
      "Nokia 1100 is produced by Nokia.\n",
      "Google Authenticator is produced by Google.\n",
      "Microsoft Band is produced by Microsoft.\n",
      "{} is produced by\n",
      "tensor(2.2617, device='cuda:0', dtype=torch.float16) tensor(309.5000, device='cuda:0', dtype=torch.float16)\n",
      "\n",
      "subject:  Samsung NX series\n",
      "Nokia 1100 is produced by Nokia.\n",
      "Microsoft Band is produced by Microsoft.\n",
      "BMW 700 is produced by BMW.\n",
      "{} is produced by\n",
      "tensor(27.9531, device='cuda:0', dtype=torch.float16) tensor(287., device='cuda:0', dtype=torch.float16)\n",
      "\n"
     ]
    },
    {
     "data": {
      "application/vnd.jupyter.widget-view+json": {
       "model_id": "d96bcdae798d47409b809f3ed4617380",
       "version_major": 2,
       "version_minor": 0
      },
      "text/plain": [
       "  0%|          | 0/5 [00:00<?, ?it/s]"
      ]
     },
     "metadata": {},
     "output_type": "display_data"
    },
    {
     "name": "stdout",
     "output_type": "stream",
     "text": [
      "subject:  Game & Watch\n",
      "Nissan Cherry is produced by Nissan.\n",
      "Honda Valkyrie is produced by Honda.\n",
      "Samsung NX series is produced by Samsung.\n",
      "{} is produced by\n",
      "tensor(10.3438, device='cuda:0', dtype=torch.float16) tensor(223.2500, device='cuda:0', dtype=torch.float16)\n",
      "\n",
      "subject:  Microsoft Band\n",
      "Game & Watch is produced by Nintendo.\n",
      "Samsung NX series is produced by Samsung.\n",
      "Nissan Cherry is produced by Nissan.\n",
      "{} is produced by\n",
      "tensor(23.5000, device='cuda:0', dtype=torch.float16) tensor(267., device='cuda:0', dtype=torch.float16)\n",
      "\n",
      "subject:  Samsung NX series\n",
      "Game & Watch is produced by Nintendo.\n",
      "Nissan Cherry is produced by Nissan.\n",
      "Honda Valkyrie is produced by Honda.\n",
      "{} is produced by\n",
      "tensor(28.8906, device='cuda:0', dtype=torch.float16) tensor(283.5000, device='cuda:0', dtype=torch.float16)\n",
      "\n",
      "subject:  Nissan Cherry\n",
      "Honda Valkyrie is produced by Honda.\n",
      "Samsung NX series is produced by Samsung.\n",
      "Microsoft Band is produced by Microsoft.\n",
      "{} is produced by\n",
      "tensor(1.4482, device='cuda:0', dtype=torch.float16) tensor(313., device='cuda:0', dtype=torch.float16)\n",
      "\n",
      "subject:  Honda Valkyrie\n",
      "Samsung NX series is produced by Samsung.\n",
      "Nissan Cherry is produced by Nissan.\n",
      "Microsoft Band is produced by Microsoft.\n",
      "{} is produced by\n",
      "tensor(1.0625, device='cuda:0', dtype=torch.float16) tensor(301.2500, device='cuda:0', dtype=torch.float16)\n",
      "\n"
     ]
    },
    {
     "data": {
      "application/vnd.jupyter.widget-view+json": {
       "model_id": "aeaeca1583364447a0c0b6ada67e9c03",
       "version_major": 2,
       "version_minor": 0
      },
      "text/plain": [
       "  0%|          | 0/5 [00:00<?, ?it/s]"
      ]
     },
     "metadata": {},
     "output_type": "display_data"
    },
    {
     "name": "stdout",
     "output_type": "stream",
     "text": [
      "subject:  Nokia 1100\n",
      "Google Authenticator is produced by Google.\n",
      "Samsung NX series is produced by Samsung.\n",
      "Microsoft Band is produced by Microsoft.\n",
      "{} is produced by\n",
      "tensor(2.2539, device='cuda:0', dtype=torch.float16) tensor(259.5000, device='cuda:0', dtype=torch.float16)\n",
      "\n",
      "subject:  Toyota Corona\n",
      "Samsung NX series is produced by Samsung.\n",
      "Microsoft Band is produced by Microsoft.\n",
      "Google Authenticator is produced by Google.\n",
      "{} is produced by\n",
      "tensor(1.5137, device='cuda:0', dtype=torch.float16) tensor(297.2500, device='cuda:0', dtype=torch.float16)\n",
      "\n",
      "subject:  Microsoft Band\n",
      "Samsung NX series is produced by Samsung.\n",
      "Toyota Corona is produced by Toyota.\n",
      "Nokia 1100 is produced by Nokia.\n",
      "{} is produced by\n",
      "tensor(21.9375, device='cuda:0', dtype=torch.float16) tensor(269.5000, device='cuda:0', dtype=torch.float16)\n",
      "\n",
      "subject:  Samsung NX series\n",
      "Google Authenticator is produced by Google.\n",
      "Toyota Corona is produced by Toyota.\n",
      "Microsoft Band is produced by Microsoft.\n",
      "{} is produced by\n",
      "tensor(28.9375, device='cuda:0', dtype=torch.float16) tensor(255.3750, device='cuda:0', dtype=torch.float16)\n",
      "\n",
      "subject:  Google Authenticator\n",
      "Nokia 1100 is produced by Nokia.\n",
      "Samsung NX series is produced by Samsung.\n",
      "Microsoft Band is produced by Microsoft.\n",
      "{} is produced by\n",
      "tensor(19.6406, device='cuda:0', dtype=torch.float16) tensor(225.7500, device='cuda:0', dtype=torch.float16)\n",
      "\n"
     ]
    },
    {
     "data": {
      "application/vnd.jupyter.widget-view+json": {
       "model_id": "79ed6a676ca1499a98eeb9f7b11fd1cc",
       "version_major": 2,
       "version_minor": 0
      },
      "text/plain": [
       "  0%|          | 0/5 [00:00<?, ?it/s]"
      ]
     },
     "metadata": {},
     "output_type": "display_data"
    },
    {
     "name": "stdout",
     "output_type": "stream",
     "text": [
      "subject:  Toyota Corona\n",
      "Google Authenticator is produced by Google.\n",
      "Nissan Cherry is produced by Nissan.\n",
      "Samsung NX series is produced by Samsung.\n",
      "{} is produced by\n",
      "tensor(1.9551, device='cuda:0', dtype=torch.float16) tensor(280.5000, device='cuda:0', dtype=torch.float16)\n",
      "\n",
      "subject:  Nissan Cherry\n",
      "Game & Watch is produced by Nintendo.\n",
      "Samsung NX series is produced by Samsung.\n",
      "Toyota Corona is produced by Toyota.\n",
      "{} is produced by\n",
      "tensor(1.3486, device='cuda:0', dtype=torch.float16) tensor(313.2500, device='cuda:0', dtype=torch.float16)\n",
      "\n",
      "subject:  Google Authenticator\n",
      "Samsung NX series is produced by Samsung.\n",
      "Nissan Cherry is produced by Nissan.\n",
      "Game & Watch is produced by Nintendo.\n",
      "{} is produced by\n",
      "tensor(20.6875, device='cuda:0', dtype=torch.float16) tensor(211.1250, device='cuda:0', dtype=torch.float16)\n",
      "\n",
      "subject:  Samsung NX series\n",
      "Google Authenticator is produced by Google.\n",
      "Nissan Cherry is produced by Nissan.\n",
      "Toyota Corona is produced by Toyota.\n",
      "{} is produced by\n",
      "tensor(30.6250, device='cuda:0', dtype=torch.float16) tensor(279.7500, device='cuda:0', dtype=torch.float16)\n",
      "\n",
      "subject:  Game & Watch\n",
      "Nissan Cherry is produced by Nissan.\n",
      "Google Authenticator is produced by Google.\n",
      "Samsung NX series is produced by Samsung.\n",
      "{} is produced by\n",
      "tensor(11.3594, device='cuda:0', dtype=torch.float16) tensor(217.1250, device='cuda:0', dtype=torch.float16)\n",
      "\n"
     ]
    },
    {
     "data": {
      "application/vnd.jupyter.widget-view+json": {
       "model_id": "e9b1b033c1e144699a853075f980ee6e",
       "version_major": 2,
       "version_minor": 0
      },
      "text/plain": [
       "  0%|          | 0/5 [00:00<?, ?it/s]"
      ]
     },
     "metadata": {},
     "output_type": "display_data"
    },
    {
     "name": "stdout",
     "output_type": "stream",
     "text": [
      "subject:  Game & Watch\n",
      "Renault 4 is produced by Renault.\n",
      "Nissan Cherry is produced by Nissan.\n",
      "Nokia 1100 is produced by Nokia.\n",
      "{} is produced by\n",
      "tensor(11.0703, device='cuda:0', dtype=torch.float16) tensor(217.8750, device='cuda:0', dtype=torch.float16)\n",
      "\n",
      "subject:  Nokia 1100\n",
      "Samsung NX series is produced by Samsung.\n",
      "Game & Watch is produced by Nintendo.\n",
      "Renault 4 is produced by Renault.\n",
      "{} is produced by\n",
      "tensor(1.8828, device='cuda:0', dtype=torch.float16) tensor(261., device='cuda:0', dtype=torch.float16)\n",
      "\n",
      "subject:  Samsung NX series\n",
      "Renault 4 is produced by Renault.\n",
      "Nissan Cherry is produced by Nissan.\n",
      "Nokia 1100 is produced by Nokia.\n",
      "{} is produced by\n",
      "tensor(27.9531, device='cuda:0', dtype=torch.float16) tensor(280.7500, device='cuda:0', dtype=torch.float16)\n",
      "\n",
      "subject:  Renault 4\n",
      "Nokia 1100 is produced by Nokia.\n",
      "Samsung NX series is produced by Samsung.\n",
      "Nissan Cherry is produced by Nissan.\n",
      "{} is produced by\n",
      "tensor(4.2148, device='cuda:0', dtype=torch.float16) tensor(306.2500, device='cuda:0', dtype=torch.float16)\n",
      "\n",
      "subject:  Nissan Cherry\n",
      "Nokia 1100 is produced by Nokia.\n",
      "Samsung NX series is produced by Samsung.\n",
      "Renault 4 is produced by Renault.\n",
      "{} is produced by\n",
      "tensor(1.1104, device='cuda:0', dtype=torch.float16) tensor(321.5000, device='cuda:0', dtype=torch.float16)\n",
      "\n"
     ]
    },
    {
     "data": {
      "application/vnd.jupyter.widget-view+json": {
       "model_id": "d4b49530b4514ea4bf40428e80d118ed",
       "version_major": 2,
       "version_minor": 0
      },
      "text/plain": [
       "  0%|          | 0/5 [00:00<?, ?it/s]"
      ]
     },
     "metadata": {},
     "output_type": "display_data"
    },
    {
     "name": "stdout",
     "output_type": "stream",
     "text": [
      "subject:  Samsung NX series\n",
      "Nokia 1100 is produced by Nokia.\n",
      "BMW 700 is produced by BMW.\n",
      "Honda Valkyrie is produced by Honda.\n",
      "{} is produced by\n",
      "tensor(29.2656, device='cuda:0', dtype=torch.float16) tensor(291.5000, device='cuda:0', dtype=torch.float16)\n",
      "\n",
      "subject:  Nokia 1100\n",
      "Samsung NX series is produced by Samsung.\n",
      "BMW 700 is produced by BMW.\n",
      "Nissan Cherry is produced by Nissan.\n",
      "{} is produced by\n",
      "tensor(1.6387, device='cuda:0', dtype=torch.float16) tensor(283.5000, device='cuda:0', dtype=torch.float16)\n",
      "\n",
      "subject:  Nissan Cherry\n",
      "Nokia 1100 is produced by Nokia.\n",
      "Samsung NX series is produced by Samsung.\n",
      "BMW 700 is produced by BMW.\n",
      "{} is produced by\n",
      "tensor(1.1045, device='cuda:0', dtype=torch.float16) tensor(321., device='cuda:0', dtype=torch.float16)\n",
      "\n",
      "subject:  BMW 700\n",
      "Nissan Cherry is produced by Nissan.\n",
      "Honda Valkyrie is produced by Honda.\n",
      "Samsung NX series is produced by Samsung.\n",
      "{} is produced by\n",
      "tensor(2.2559, device='cuda:0', dtype=torch.float16) tensor(293.5000, device='cuda:0', dtype=torch.float16)\n",
      "\n",
      "subject:  Honda Valkyrie\n",
      "BMW 700 is produced by BMW.\n",
      "Nokia 1100 is produced by Nokia.\n",
      "Samsung NX series is produced by Samsung.\n",
      "{} is produced by\n",
      "tensor(1.1885, device='cuda:0', dtype=torch.float16) tensor(278.5000, device='cuda:0', dtype=torch.float16)\n",
      "\n"
     ]
    },
    {
     "data": {
      "application/vnd.jupyter.widget-view+json": {
       "model_id": "b0aaeb0bda8946d4a25565e794212a6a",
       "version_major": 2,
       "version_minor": 0
      },
      "text/plain": [
       "  0%|          | 0/5 [00:00<?, ?it/s]"
      ]
     },
     "metadata": {},
     "output_type": "display_data"
    },
    {
     "name": "stdout",
     "output_type": "stream",
     "text": [
      "subject:  Samsung NX series\n",
      "Nissan Cherry is produced by Nissan.\n",
      "BMW 700 is produced by BMW.\n",
      "Google Authenticator is produced by Google.\n",
      "{} is produced by\n",
      "tensor(28.7656, device='cuda:0', dtype=torch.float16) tensor(294., device='cuda:0', dtype=torch.float16)\n",
      "\n",
      "subject:  Google Authenticator\n",
      "Samsung NX series is produced by Samsung.\n",
      "Nissan Cherry is produced by Nissan.\n",
      "Honda Valkyrie is produced by Honda.\n",
      "{} is produced by\n",
      "tensor(20.8125, device='cuda:0', dtype=torch.float16) tensor(215.3750, device='cuda:0', dtype=torch.float16)\n",
      "\n",
      "subject:  Nissan Cherry\n",
      "Samsung NX series is produced by Samsung.\n",
      "BMW 700 is produced by BMW.\n",
      "Google Authenticator is produced by Google.\n",
      "{} is produced by\n",
      "tensor(1.5244, device='cuda:0', dtype=torch.float16) tensor(363.5000, device='cuda:0', dtype=torch.float16)\n",
      "\n",
      "subject:  Honda Valkyrie\n",
      "Samsung NX series is produced by Samsung.\n",
      "Google Authenticator is produced by Google.\n",
      "BMW 700 is produced by BMW.\n",
      "{} is produced by\n",
      "tensor(1.3604, device='cuda:0', dtype=torch.float16) tensor(311., device='cuda:0', dtype=torch.float16)\n",
      "\n",
      "subject:  BMW 700\n",
      "Samsung NX series is produced by Samsung.\n",
      "Honda Valkyrie is produced by Honda.\n",
      "Google Authenticator is produced by Google.\n",
      "{} is produced by\n",
      "tensor(2.2832, device='cuda:0', dtype=torch.float16) tensor(316.5000, device='cuda:0', dtype=torch.float16)\n",
      "\n"
     ]
    },
    {
     "data": {
      "application/vnd.jupyter.widget-view+json": {
       "model_id": "f30f334394aa48618ba10cfde56044ad",
       "version_major": 2,
       "version_minor": 0
      },
      "text/plain": [
       "  0%|          | 0/5 [00:00<?, ?it/s]"
      ]
     },
     "metadata": {},
     "output_type": "display_data"
    },
    {
     "name": "stdout",
     "output_type": "stream",
     "text": [
      "subject:  Nokia 1100\n",
      "Nissan Cherry is produced by Nissan.\n",
      "Toyota Corona is produced by Toyota.\n",
      "Honda Valkyrie is produced by Honda.\n",
      "{} is produced by\n",
      "tensor(1.7402, device='cuda:0', dtype=torch.float16) tensor(238.8750, device='cuda:0', dtype=torch.float16)\n",
      "\n",
      "subject:  Honda Valkyrie\n",
      "Nokia 1100 is produced by Nokia.\n",
      "Toyota Corona is produced by Toyota.\n",
      "Nissan Cherry is produced by Nissan.\n",
      "{} is produced by\n",
      "tensor(1.2949, device='cuda:0', dtype=torch.float16) tensor(263.5000, device='cuda:0', dtype=torch.float16)\n",
      "\n",
      "subject:  Toyota Corona\n",
      "Honda Valkyrie is produced by Honda.\n",
      "Google Authenticator is produced by Google.\n",
      "Nissan Cherry is produced by Nissan.\n",
      "{} is produced by\n",
      "tensor(2.0645, device='cuda:0', dtype=torch.float16) tensor(244.7500, device='cuda:0', dtype=torch.float16)\n",
      "\n",
      "subject:  Nissan Cherry\n",
      "Google Authenticator is produced by Google.\n",
      "Nokia 1100 is produced by Nokia.\n",
      "Honda Valkyrie is produced by Honda.\n",
      "{} is produced by\n",
      "tensor(1.2588, device='cuda:0', dtype=torch.float16) tensor(334.2500, device='cuda:0', dtype=torch.float16)\n",
      "\n",
      "subject:  Google Authenticator\n",
      "Nokia 1100 is produced by Nokia.\n",
      "Honda Valkyrie is produced by Honda.\n",
      "Toyota Corona is produced by Toyota.\n",
      "{} is produced by\n",
      "tensor(21.9375, device='cuda:0', dtype=torch.float16) tensor(202., device='cuda:0', dtype=torch.float16)\n",
      "\n"
     ]
    },
    {
     "data": {
      "application/vnd.jupyter.widget-view+json": {
       "model_id": "2265c8e28bfe4462bc8acc63bcad8925",
       "version_major": 2,
       "version_minor": 0
      },
      "text/plain": [
       "  0%|          | 0/5 [00:00<?, ?it/s]"
      ]
     },
     "metadata": {},
     "output_type": "display_data"
    },
    {
     "name": "stdout",
     "output_type": "stream",
     "text": [
      "subject:  Game & Watch\n",
      "Honda Valkyrie is produced by Honda.\n",
      "BMW 700 is produced by BMW.\n",
      "Samsung NX series is produced by Samsung.\n",
      "{} is produced by\n",
      "tensor(10.1562, device='cuda:0', dtype=torch.float16) tensor(219., device='cuda:0', dtype=torch.float16)\n",
      "\n",
      "subject:  Renault 4\n",
      "BMW 700 is produced by BMW.\n",
      "Honda Valkyrie is produced by Honda.\n",
      "Samsung NX series is produced by Samsung.\n",
      "{} is produced by\n",
      "tensor(4.8203, device='cuda:0', dtype=torch.float16) tensor(307.5000, device='cuda:0', dtype=torch.float16)\n",
      "\n",
      "subject:  Honda Valkyrie\n",
      "Renault 4 is produced by Renault.\n",
      "BMW 700 is produced by BMW.\n",
      "Game & Watch is produced by Nintendo.\n",
      "{} is produced by\n",
      "tensor(1.1250, device='cuda:0', dtype=torch.float16) tensor(273.7500, device='cuda:0', dtype=torch.float16)\n",
      "\n",
      "subject:  Samsung NX series\n",
      "Honda Valkyrie is produced by Honda.\n",
      "BMW 700 is produced by BMW.\n",
      "Game & Watch is produced by Nintendo.\n",
      "{} is produced by\n",
      "tensor(28.0938, device='cuda:0', dtype=torch.float16) tensor(281., device='cuda:0', dtype=torch.float16)\n",
      "\n",
      "subject:  BMW 700\n",
      "Samsung NX series is produced by Samsung.\n",
      "Honda Valkyrie is produced by Honda.\n",
      "Game & Watch is produced by Nintendo.\n",
      "{} is produced by\n",
      "tensor(2.1973, device='cuda:0', dtype=torch.float16) tensor(304.5000, device='cuda:0', dtype=torch.float16)\n",
      "\n"
     ]
    },
    {
     "data": {
      "application/vnd.jupyter.widget-view+json": {
       "model_id": "e0765573fd254b34bdb75c9dce41dbaa",
       "version_major": 2,
       "version_minor": 0
      },
      "text/plain": [
       "  0%|          | 0/5 [00:00<?, ?it/s]"
      ]
     },
     "metadata": {},
     "output_type": "display_data"
    },
    {
     "name": "stdout",
     "output_type": "stream",
     "text": [
      "subject:  Samsung NX series\n",
      "Google Authenticator is produced by Google.\n",
      "Honda Valkyrie is produced by Honda.\n",
      "Toyota Corona is produced by Toyota.\n",
      "{} is produced by\n",
      "tensor(30.1875, device='cuda:0', dtype=torch.float16) tensor(267.2500, device='cuda:0', dtype=torch.float16)\n",
      "\n",
      "subject:  Toyota Corona\n",
      "Samsung NX series is produced by Samsung.\n",
      "Nokia 1100 is produced by Nokia.\n",
      "Honda Valkyrie is produced by Honda.\n",
      "{} is produced by\n",
      "tensor(1.6045, device='cuda:0', dtype=torch.float16) tensor(286., device='cuda:0', dtype=torch.float16)\n",
      "\n",
      "subject:  Nokia 1100\n",
      "Toyota Corona is produced by Toyota.\n",
      "Honda Valkyrie is produced by Honda.\n",
      "Samsung NX series is produced by Samsung.\n",
      "{} is produced by\n",
      "tensor(1.9473, device='cuda:0', dtype=torch.float16) tensor(247.3750, device='cuda:0', dtype=torch.float16)\n",
      "\n",
      "subject:  Google Authenticator\n",
      "Honda Valkyrie is produced by Honda.\n",
      "Nokia 1100 is produced by Nokia.\n",
      "Toyota Corona is produced by Toyota.\n",
      "{} is produced by\n",
      "tensor(25.1875, device='cuda:0', dtype=torch.float16) tensor(195.3750, device='cuda:0', dtype=torch.float16)\n",
      "\n",
      "subject:  Honda Valkyrie\n",
      "Google Authenticator is produced by Google.\n",
      "Toyota Corona is produced by Toyota.\n",
      "Nokia 1100 is produced by Nokia.\n",
      "{} is produced by\n",
      "tensor(1.1104, device='cuda:0', dtype=torch.float16) tensor(258., device='cuda:0', dtype=torch.float16)\n",
      "\n",
      "Saving weights and biases >>  gpt-j/jacobians_averaged_collection/before__ln_f/P176.npz\n",
      "----------------------------------------------------\n",
      "zzzzzzzzzzzzzzzzzzzzzzzzzzzzzzzzzzzzzzzzzzzzzzzzzzzz\n",
      "P140 The official religion of {} is\n",
      "zzzzzzzzzzzzzzzzzzzzzzzzzzzzzzzzzzzzzzzzzzzzzzzzzzzz\n",
      "182\n",
      "The official religion of {} is\n"
     ]
    },
    {
     "data": {
      "application/vnd.jupyter.widget-view+json": {
       "model_id": "015996d2df7c4c7db846cc4cb7b8b7f3",
       "version_major": 2,
       "version_minor": 0
      },
      "text/plain": [
       "  0%|          | 0/10 [00:00<?, ?it/s]"
      ]
     },
     "metadata": {},
     "output_type": "display_data"
    },
    {
     "data": {
      "application/vnd.jupyter.widget-view+json": {
       "model_id": "3e9d4f7d995141759fb26e3b8335ca92",
       "version_major": 2,
       "version_minor": 0
      },
      "text/plain": [
       "  0%|          | 0/4 [00:00<?, ?it/s]"
      ]
     },
     "metadata": {},
     "output_type": "display_data"
    },
    {
     "name": "stdout",
     "output_type": "stream",
     "text": [
      "subject:  Cat Stevens\n",
      "The official religion of Pala Empire is Buddhism.\n",
      "The official religion of Tom Cruise is Scientology.\n",
      "The official religion of Tefillin is Judaism.\n",
      "The official religion of {} is\n",
      "tensor(31.8594, device='cuda:0', dtype=torch.float16) tensor(271.2500, device='cuda:0', dtype=torch.float16)\n",
      "\n",
      "subject:  Tom Cruise\n",
      "The official religion of Pala Empire is Buddhism.\n",
      "The official religion of Cat Stevens is Islam.\n",
      "The official religion of Tefillin is Judaism.\n",
      "The official religion of {} is\n",
      "tensor(22.9688, device='cuda:0', dtype=torch.float16) tensor(333., device='cuda:0', dtype=torch.float16)\n",
      "\n",
      "subject:  Tefillin\n",
      "The official religion of Tom Cruise is Scientology.\n",
      "The official religion of Cat Stevens is Islam.\n",
      "The official religion of Pala Empire is Buddhism.\n",
      "The official religion of {} is\n",
      "tensor(28.5938, device='cuda:0', dtype=torch.float16) tensor(289.2500, device='cuda:0', dtype=torch.float16)\n",
      "\n",
      "subject:  Pala Empire\n",
      "The official religion of Tom Cruise is Scientology.\n",
      "The official religion of Cat Stevens is Islam.\n",
      "The official religion of Tefillin is Judaism.\n",
      "The official religion of {} is\n",
      "tensor(15.5625, device='cuda:0', dtype=torch.float16) tensor(333.2500, device='cuda:0', dtype=torch.float16)\n",
      "\n"
     ]
    },
    {
     "data": {
      "application/vnd.jupyter.widget-view+json": {
       "model_id": "94ee604615a54dddaab8a1b503459c59",
       "version_major": 2,
       "version_minor": 0
      },
      "text/plain": [
       "  0%|          | 0/4 [00:00<?, ?it/s]"
      ]
     },
     "metadata": {},
     "output_type": "display_data"
    },
    {
     "name": "stdout",
     "output_type": "stream",
     "text": [
      "subject:  Tefillin\n",
      "The official religion of Tom Cruise is Scientology.\n",
      "The official religion of Pala Empire is Buddhism.\n",
      "The official religion of Cat Stevens is Islam.\n",
      "The official religion of {} is\n",
      "tensor(29.7344, device='cuda:0', dtype=torch.float16) tensor(295., device='cuda:0', dtype=torch.float16)\n",
      "\n",
      "subject:  Cat Stevens\n",
      "The official religion of Tom Cruise is Scientology.\n",
      "The official religion of Pala Empire is Buddhism.\n",
      "The official religion of Tefillin is Judaism.\n",
      "The official religion of {} is\n",
      "tensor(27.2500, device='cuda:0', dtype=torch.float16) tensor(301.2500, device='cuda:0', dtype=torch.float16)\n",
      "\n",
      "subject:  Tom Cruise\n",
      "The official religion of Tefillin is Judaism.\n",
      "The official religion of Pala Empire is Buddhism.\n",
      "The official religion of Cat Stevens is Islam.\n",
      "The official religion of {} is\n",
      "tensor(25.0156, device='cuda:0', dtype=torch.float16) tensor(313.7500, device='cuda:0', dtype=torch.float16)\n",
      "\n",
      "subject:  Pala Empire\n",
      "The official religion of Tom Cruise is Scientology.\n",
      "The official religion of Tefillin is Judaism.\n",
      "The official religion of Cat Stevens is Islam.\n",
      "The official religion of {} is\n",
      "tensor(16.3750, device='cuda:0', dtype=torch.float16) tensor(336.2500, device='cuda:0', dtype=torch.float16)\n",
      "\n"
     ]
    },
    {
     "data": {
      "application/vnd.jupyter.widget-view+json": {
       "model_id": "6095aa9cbb924deda4e51c319b1d12bd",
       "version_major": 2,
       "version_minor": 0
      },
      "text/plain": [
       "  0%|          | 0/4 [00:00<?, ?it/s]"
      ]
     },
     "metadata": {},
     "output_type": "display_data"
    },
    {
     "name": "stdout",
     "output_type": "stream",
     "text": [
      "subject:  Cat Stevens\n",
      "The official religion of Tom Cruise is Scientology.\n",
      "The official religion of Tefillin is Judaism.\n",
      "The official religion of Pala Empire is Buddhism.\n",
      "The official religion of {} is\n",
      "tensor(29.4219, device='cuda:0', dtype=torch.float16) tensor(293.5000, device='cuda:0', dtype=torch.float16)\n",
      "\n",
      "subject:  Tefillin\n",
      "The official religion of Cat Stevens is Islam.\n",
      "The official religion of Tom Cruise is Scientology.\n",
      "The official religion of Pala Empire is Buddhism.\n",
      "The official religion of {} is\n",
      "tensor(27.8750, device='cuda:0', dtype=torch.float16) tensor(300.2500, device='cuda:0', dtype=torch.float16)\n",
      "\n",
      "subject:  Tom Cruise\n",
      "The official religion of Tefillin is Judaism.\n",
      "The official religion of Pala Empire is Buddhism.\n",
      "The official religion of Cat Stevens is Islam.\n",
      "The official religion of {} is\n",
      "tensor(25.0156, device='cuda:0', dtype=torch.float16) tensor(313.7500, device='cuda:0', dtype=torch.float16)\n",
      "\n",
      "subject:  Pala Empire\n",
      "The official religion of Tom Cruise is Scientology.\n",
      "The official religion of Tefillin is Judaism.\n",
      "The official religion of Cat Stevens is Islam.\n",
      "The official religion of {} is\n",
      "tensor(16.3750, device='cuda:0', dtype=torch.float16) tensor(336.2500, device='cuda:0', dtype=torch.float16)\n",
      "\n"
     ]
    },
    {
     "data": {
      "application/vnd.jupyter.widget-view+json": {
       "model_id": "b2bf439645c345ddb57423327e271d60",
       "version_major": 2,
       "version_minor": 0
      },
      "text/plain": [
       "  0%|          | 0/4 [00:00<?, ?it/s]"
      ]
     },
     "metadata": {},
     "output_type": "display_data"
    },
    {
     "name": "stdout",
     "output_type": "stream",
     "text": [
      "subject:  Pala Empire\n",
      "The official religion of Cat Stevens is Islam.\n",
      "The official religion of Tefillin is Judaism.\n",
      "The official religion of Tom Cruise is Scientology.\n",
      "The official religion of {} is\n",
      "tensor(15.3125, device='cuda:0', dtype=torch.float16) tensor(342.5000, device='cuda:0', dtype=torch.float16)\n",
      "\n",
      "subject:  Tefillin\n",
      "The official religion of Tom Cruise is Scientology.\n",
      "The official religion of Cat Stevens is Islam.\n",
      "The official religion of Pala Empire is Buddhism.\n",
      "The official religion of {} is\n",
      "tensor(28.5938, device='cuda:0', dtype=torch.float16) tensor(289.2500, device='cuda:0', dtype=torch.float16)\n",
      "\n",
      "subject:  Tom Cruise\n",
      "The official religion of Tefillin is Judaism.\n",
      "The official religion of Cat Stevens is Islam.\n",
      "The official religion of Pala Empire is Buddhism.\n",
      "The official religion of {} is\n",
      "tensor(26.4375, device='cuda:0', dtype=torch.float16) tensor(311.5000, device='cuda:0', dtype=torch.float16)\n",
      "\n",
      "subject:  Cat Stevens\n",
      "The official religion of Tom Cruise is Scientology.\n",
      "The official religion of Pala Empire is Buddhism.\n",
      "The official religion of Tefillin is Judaism.\n",
      "The official religion of {} is\n",
      "tensor(27.2500, device='cuda:0', dtype=torch.float16) tensor(301.2500, device='cuda:0', dtype=torch.float16)\n",
      "\n"
     ]
    },
    {
     "data": {
      "application/vnd.jupyter.widget-view+json": {
       "model_id": "9a72c665e19c419f99788f840b908a67",
       "version_major": 2,
       "version_minor": 0
      },
      "text/plain": [
       "  0%|          | 0/4 [00:00<?, ?it/s]"
      ]
     },
     "metadata": {},
     "output_type": "display_data"
    },
    {
     "name": "stdout",
     "output_type": "stream",
     "text": [
      "subject:  Cat Stevens\n",
      "The official religion of Pala Empire is Buddhism.\n",
      "The official religion of Tom Cruise is Scientology.\n",
      "The official religion of Tefillin is Judaism.\n",
      "The official religion of {} is\n",
      "tensor(31.8594, device='cuda:0', dtype=torch.float16) tensor(271.2500, device='cuda:0', dtype=torch.float16)\n",
      "\n",
      "subject:  Pala Empire\n",
      "The official religion of Cat Stevens is Islam.\n",
      "The official religion of Tom Cruise is Scientology.\n",
      "The official religion of Tefillin is Judaism.\n",
      "The official religion of {} is\n",
      "tensor(15.9062, device='cuda:0', dtype=torch.float16) tensor(331.7500, device='cuda:0', dtype=torch.float16)\n",
      "\n",
      "subject:  Tom Cruise\n",
      "The official religion of Pala Empire is Buddhism.\n",
      "The official religion of Tefillin is Judaism.\n",
      "The official religion of Cat Stevens is Islam.\n",
      "The official religion of {} is\n",
      "tensor(22.9375, device='cuda:0', dtype=torch.float16) tensor(328.5000, device='cuda:0', dtype=torch.float16)\n",
      "\n",
      "subject:  Tefillin\n",
      "The official religion of Cat Stevens is Islam.\n",
      "The official religion of Tom Cruise is Scientology.\n",
      "The official religion of Pala Empire is Buddhism.\n",
      "The official religion of {} is\n",
      "tensor(27.8750, device='cuda:0', dtype=torch.float16) tensor(300.2500, device='cuda:0', dtype=torch.float16)\n",
      "\n"
     ]
    },
    {
     "data": {
      "application/vnd.jupyter.widget-view+json": {
       "model_id": "b889dae529194c7f83ebe5920bc89462",
       "version_major": 2,
       "version_minor": 0
      },
      "text/plain": [
       "  0%|          | 0/4 [00:00<?, ?it/s]"
      ]
     },
     "metadata": {},
     "output_type": "display_data"
    },
    {
     "name": "stdout",
     "output_type": "stream",
     "text": [
      "subject:  Cat Stevens\n",
      "The official religion of Pala Empire is Buddhism.\n",
      "The official religion of Tom Cruise is Scientology.\n",
      "The official religion of Tefillin is Judaism.\n",
      "The official religion of {} is\n",
      "tensor(31.8594, device='cuda:0', dtype=torch.float16) tensor(271.2500, device='cuda:0', dtype=torch.float16)\n",
      "\n",
      "subject:  Tom Cruise\n",
      "The official religion of Cat Stevens is Islam.\n",
      "The official religion of Pala Empire is Buddhism.\n",
      "The official religion of Tefillin is Judaism.\n",
      "The official religion of {} is\n",
      "tensor(26.3594, device='cuda:0', dtype=torch.float16) tensor(326.7500, device='cuda:0', dtype=torch.float16)\n",
      "\n",
      "subject:  Pala Empire\n",
      "The official religion of Tefillin is Judaism.\n",
      "The official religion of Tom Cruise is Scientology.\n",
      "The official religion of Cat Stevens is Islam.\n",
      "The official religion of {} is\n",
      "tensor(16.3125, device='cuda:0', dtype=torch.float16) tensor(348.2500, device='cuda:0', dtype=torch.float16)\n",
      "\n",
      "subject:  Tefillin\n",
      "The official religion of Pala Empire is Buddhism.\n",
      "The official religion of Cat Stevens is Islam.\n",
      "The official religion of Tom Cruise is Scientology.\n",
      "The official religion of {} is\n",
      "tensor(30.1094, device='cuda:0', dtype=torch.float16) tensor(303.2500, device='cuda:0', dtype=torch.float16)\n",
      "\n"
     ]
    },
    {
     "data": {
      "application/vnd.jupyter.widget-view+json": {
       "model_id": "04bf7b0d4420453aaba4f3afcfbfc159",
       "version_major": 2,
       "version_minor": 0
      },
      "text/plain": [
       "  0%|          | 0/4 [00:00<?, ?it/s]"
      ]
     },
     "metadata": {},
     "output_type": "display_data"
    },
    {
     "name": "stdout",
     "output_type": "stream",
     "text": [
      "subject:  Tom Cruise\n",
      "The official religion of Pala Empire is Buddhism.\n",
      "The official religion of Cat Stevens is Islam.\n",
      "The official religion of Tefillin is Judaism.\n",
      "The official religion of {} is\n",
      "tensor(22.9688, device='cuda:0', dtype=torch.float16) tensor(333., device='cuda:0', dtype=torch.float16)\n",
      "\n",
      "subject:  Pala Empire\n",
      "The official religion of Tom Cruise is Scientology.\n",
      "The official religion of Cat Stevens is Islam.\n",
      "The official religion of Tefillin is Judaism.\n",
      "The official religion of {} is\n",
      "tensor(15.5625, device='cuda:0', dtype=torch.float16) tensor(333.2500, device='cuda:0', dtype=torch.float16)\n",
      "\n",
      "subject:  Cat Stevens\n",
      "The official religion of Tom Cruise is Scientology.\n",
      "The official religion of Pala Empire is Buddhism.\n",
      "The official religion of Tefillin is Judaism.\n",
      "The official religion of {} is\n",
      "tensor(27.2500, device='cuda:0', dtype=torch.float16) tensor(301.2500, device='cuda:0', dtype=torch.float16)\n",
      "\n",
      "subject:  Tefillin\n",
      "The official religion of Cat Stevens is Islam.\n",
      "The official religion of Pala Empire is Buddhism.\n",
      "The official religion of Tom Cruise is Scientology.\n",
      "The official religion of {} is\n",
      "tensor(28.0156, device='cuda:0', dtype=torch.float16) tensor(306.2500, device='cuda:0', dtype=torch.float16)\n",
      "\n"
     ]
    },
    {
     "data": {
      "application/vnd.jupyter.widget-view+json": {
       "model_id": "b9b545fb32184708b38ac5980d9f1a3e",
       "version_major": 2,
       "version_minor": 0
      },
      "text/plain": [
       "  0%|          | 0/4 [00:00<?, ?it/s]"
      ]
     },
     "metadata": {},
     "output_type": "display_data"
    },
    {
     "name": "stdout",
     "output_type": "stream",
     "text": [
      "subject:  Pala Empire\n",
      "The official religion of Tefillin is Judaism.\n",
      "The official religion of Cat Stevens is Islam.\n",
      "The official religion of Tom Cruise is Scientology.\n",
      "The official religion of {} is\n",
      "tensor(15.6562, device='cuda:0', dtype=torch.float16) tensor(357.2500, device='cuda:0', dtype=torch.float16)\n",
      "\n",
      "subject:  Tom Cruise\n",
      "The official religion of Tefillin is Judaism.\n",
      "The official religion of Pala Empire is Buddhism.\n",
      "The official religion of Cat Stevens is Islam.\n",
      "The official religion of {} is\n",
      "tensor(25.0156, device='cuda:0', dtype=torch.float16) tensor(313.7500, device='cuda:0', dtype=torch.float16)\n",
      "\n",
      "subject:  Cat Stevens\n",
      "The official religion of Pala Empire is Buddhism.\n",
      "The official religion of Tefillin is Judaism.\n",
      "The official religion of Tom Cruise is Scientology.\n",
      "The official religion of {} is\n",
      "tensor(30.6094, device='cuda:0', dtype=torch.float16) tensor(277.2500, device='cuda:0', dtype=torch.float16)\n",
      "\n",
      "subject:  Tefillin\n",
      "The official religion of Tom Cruise is Scientology.\n",
      "The official religion of Cat Stevens is Islam.\n",
      "The official religion of Pala Empire is Buddhism.\n",
      "The official religion of {} is\n",
      "tensor(28.5938, device='cuda:0', dtype=torch.float16) tensor(289.2500, device='cuda:0', dtype=torch.float16)\n",
      "\n"
     ]
    },
    {
     "data": {
      "application/vnd.jupyter.widget-view+json": {
       "model_id": "a09a06d8e53e496899b5ecded0af0d3c",
       "version_major": 2,
       "version_minor": 0
      },
      "text/plain": [
       "  0%|          | 0/4 [00:00<?, ?it/s]"
      ]
     },
     "metadata": {},
     "output_type": "display_data"
    },
    {
     "name": "stdout",
     "output_type": "stream",
     "text": [
      "subject:  Tom Cruise\n",
      "The official religion of Pala Empire is Buddhism.\n",
      "The official religion of Cat Stevens is Islam.\n",
      "The official religion of Tefillin is Judaism.\n",
      "The official religion of {} is\n",
      "tensor(22.9688, device='cuda:0', dtype=torch.float16) tensor(333., device='cuda:0', dtype=torch.float16)\n",
      "\n",
      "subject:  Tefillin\n",
      "The official religion of Tom Cruise is Scientology.\n",
      "The official religion of Cat Stevens is Islam.\n",
      "The official religion of Pala Empire is Buddhism.\n",
      "The official religion of {} is\n",
      "tensor(28.5938, device='cuda:0', dtype=torch.float16) tensor(289.2500, device='cuda:0', dtype=torch.float16)\n",
      "\n",
      "subject:  Cat Stevens\n",
      "The official religion of Tefillin is Judaism.\n",
      "The official religion of Tom Cruise is Scientology.\n",
      "The official religion of Pala Empire is Buddhism.\n",
      "The official religion of {} is\n",
      "tensor(33.0938, device='cuda:0', dtype=torch.float16) tensor(267.5000, device='cuda:0', dtype=torch.float16)\n",
      "\n",
      "subject:  Pala Empire\n",
      "The official religion of Tom Cruise is Scientology.\n",
      "The official religion of Tefillin is Judaism.\n",
      "The official religion of Cat Stevens is Islam.\n",
      "The official religion of {} is\n",
      "tensor(16.3750, device='cuda:0', dtype=torch.float16) tensor(336.2500, device='cuda:0', dtype=torch.float16)\n",
      "\n"
     ]
    },
    {
     "data": {
      "application/vnd.jupyter.widget-view+json": {
       "model_id": "e1536cd416d3448c85ea15818644760f",
       "version_major": 2,
       "version_minor": 0
      },
      "text/plain": [
       "  0%|          | 0/4 [00:00<?, ?it/s]"
      ]
     },
     "metadata": {},
     "output_type": "display_data"
    },
    {
     "name": "stdout",
     "output_type": "stream",
     "text": [
      "subject:  Tom Cruise\n",
      "The official religion of Pala Empire is Buddhism.\n",
      "The official religion of Tefillin is Judaism.\n",
      "The official religion of Cat Stevens is Islam.\n",
      "The official religion of {} is\n",
      "tensor(22.9375, device='cuda:0', dtype=torch.float16) tensor(328.5000, device='cuda:0', dtype=torch.float16)\n",
      "\n",
      "subject:  Tefillin\n",
      "The official religion of Pala Empire is Buddhism.\n",
      "The official religion of Tom Cruise is Scientology.\n",
      "The official religion of Cat Stevens is Islam.\n",
      "The official religion of {} is\n",
      "tensor(31.3281, device='cuda:0', dtype=torch.float16) tensor(284.5000, device='cuda:0', dtype=torch.float16)\n",
      "\n",
      "subject:  Pala Empire\n",
      "The official religion of Cat Stevens is Islam.\n",
      "The official religion of Tefillin is Judaism.\n",
      "The official religion of Tom Cruise is Scientology.\n",
      "The official religion of {} is\n",
      "tensor(15.3125, device='cuda:0', dtype=torch.float16) tensor(342.5000, device='cuda:0', dtype=torch.float16)\n",
      "\n",
      "subject:  Cat Stevens\n",
      "The official religion of Tefillin is Judaism.\n",
      "The official religion of Tom Cruise is Scientology.\n",
      "The official religion of Pala Empire is Buddhism.\n",
      "The official religion of {} is\n",
      "tensor(33.0938, device='cuda:0', dtype=torch.float16) tensor(267.5000, device='cuda:0', dtype=torch.float16)\n",
      "\n",
      "Saving weights and biases >>  gpt-j/jacobians_averaged_collection/before__ln_f/P140.npz\n",
      "----------------------------------------------------\n",
      "zzzzzzzzzzzzzzzzzzzzzzzzzzzzzzzzzzzzzzzzzzzzzzzzzzzz\n",
      "P178 {} was developed by\n",
      "zzzzzzzzzzzzzzzzzzzzzzzzzzzzzzzzzzzzzzzzzzzzzzzzzzzz\n",
      "400\n",
      "{} was developed by\n"
     ]
    },
    {
     "data": {
      "application/vnd.jupyter.widget-view+json": {
       "model_id": "6adb1c4121dd4c84a283e8123f89d357",
       "version_major": 2,
       "version_minor": 0
      },
      "text/plain": [
       "  0%|          | 0/10 [00:00<?, ?it/s]"
      ]
     },
     "metadata": {},
     "output_type": "display_data"
    },
    {
     "data": {
      "application/vnd.jupyter.widget-view+json": {
       "model_id": "1c5c3c11887c4aafbce1a5afb1ff71d6",
       "version_major": 2,
       "version_minor": 0
      },
      "text/plain": [
       "  0%|          | 0/5 [00:00<?, ?it/s]"
      ]
     },
     "metadata": {},
     "output_type": "display_data"
    },
    {
     "name": "stdout",
     "output_type": "stream",
     "text": [
      "subject:  SPDY\n",
      "MobileMe was developed by Apple.\n",
      "MiniDisc was developed by Sony.\n",
      "YUI Library was developed by Yahoo.\n",
      "{} was developed by\n",
      "tensor(13.9219, device='cuda:0', dtype=torch.float16) tensor(184.2500, device='cuda:0', dtype=torch.float16)\n",
      "\n",
      "subject:  YUI Library\n",
      "MobileMe was developed by Apple.\n",
      "SPDY was developed by Google.\n",
      "MiniDisc was developed by Sony.\n",
      "{} was developed by\n",
      "tensor(5.4531, device='cuda:0', dtype=torch.float16) tensor(210.1250, device='cuda:0', dtype=torch.float16)\n",
      "\n",
      "subject:  ThinkPad\n",
      "MiniDisc was developed by Sony.\n",
      "MobileMe was developed by Apple.\n",
      "YUI Library was developed by Yahoo.\n",
      "{} was developed by\n",
      "tensor(18.5469, device='cuda:0', dtype=torch.float16) tensor(253.8750, device='cuda:0', dtype=torch.float16)\n",
      "\n",
      "subject:  MobileMe\n",
      "YUI Library was developed by Yahoo.\n",
      "ThinkPad was developed by IBM.\n",
      "SPDY was developed by Google.\n",
      "{} was developed by\n",
      "tensor(13.0781, device='cuda:0', dtype=torch.float16) tensor(213.6250, device='cuda:0', dtype=torch.float16)\n",
      "\n",
      "subject:  MiniDisc\n",
      "SPDY was developed by Google.\n",
      "YUI Library was developed by Yahoo.\n",
      "MobileMe was developed by Apple.\n",
      "{} was developed by\n",
      "tensor(15.0391, device='cuda:0', dtype=torch.float16) tensor(203.1250, device='cuda:0', dtype=torch.float16)\n",
      "\n"
     ]
    },
    {
     "data": {
      "application/vnd.jupyter.widget-view+json": {
       "model_id": "dcffe049007b4aeeb4f3b83ccf153fd8",
       "version_major": 2,
       "version_minor": 0
      },
      "text/plain": [
       "  0%|          | 0/5 [00:00<?, ?it/s]"
      ]
     },
     "metadata": {},
     "output_type": "display_data"
    },
    {
     "name": "stdout",
     "output_type": "stream",
     "text": [
      "subject:  MobileMe\n",
      "Rich Text Format was developed by Microsoft.\n",
      "YUI Library was developed by Yahoo.\n",
      "Adobe Connect was developed by Adobe.\n",
      "{} was developed by\n",
      "tensor(9.9844, device='cuda:0', dtype=torch.float16) tensor(220.2500, device='cuda:0', dtype=torch.float16)\n",
      "\n",
      "subject:  YUI Library\n",
      "MobileMe was developed by Apple.\n",
      "SPDY was developed by Google.\n",
      "Rich Text Format was developed by Microsoft.\n",
      "{} was developed by\n",
      "tensor(6.9297, device='cuda:0', dtype=torch.float16) tensor(209.2500, device='cuda:0', dtype=torch.float16)\n",
      "\n",
      "subject:  Rich Text Format\n",
      "MobileMe was developed by Apple.\n",
      "SPDY was developed by Google.\n",
      "Adobe Connect was developed by Adobe.\n",
      "{} was developed by\n",
      "tensor(9.1875, device='cuda:0', dtype=torch.float16) tensor(213.3750, device='cuda:0', dtype=torch.float16)\n",
      "\n",
      "subject:  Adobe Connect\n",
      "Rich Text Format was developed by Microsoft.\n",
      "SPDY was developed by Google.\n",
      "YUI Library was developed by Yahoo.\n",
      "{} was developed by\n",
      "tensor(3.8242, device='cuda:0', dtype=torch.float16) tensor(276.2500, device='cuda:0', dtype=torch.float16)\n",
      "\n",
      "subject:  SPDY\n",
      "MobileMe was developed by Apple.\n",
      "YUI Library was developed by Yahoo.\n",
      "Rich Text Format was developed by Microsoft.\n",
      "{} was developed by\n",
      "tensor(13.7031, device='cuda:0', dtype=torch.float16) tensor(191.8750, device='cuda:0', dtype=torch.float16)\n",
      "\n"
     ]
    },
    {
     "data": {
      "application/vnd.jupyter.widget-view+json": {
       "model_id": "6de6f12c2f104624ac3eb2e7130b3dbd",
       "version_major": 2,
       "version_minor": 0
      },
      "text/plain": [
       "  0%|          | 0/5 [00:00<?, ?it/s]"
      ]
     },
     "metadata": {},
     "output_type": "display_data"
    },
    {
     "name": "stdout",
     "output_type": "stream",
     "text": [
      "subject:  MobileMe\n",
      "Samsung Kies was developed by Samsung.\n",
      "Itanium was developed by Intel.\n",
      "ThinkPad was developed by IBM.\n",
      "{} was developed by\n",
      "tensor(11.5703, device='cuda:0', dtype=torch.float16) tensor(210.2500, device='cuda:0', dtype=torch.float16)\n",
      "\n",
      "subject:  Samsung Kies\n",
      "Itanium was developed by Intel.\n",
      "MobileMe was developed by Apple.\n",
      "YUI Library was developed by Yahoo.\n",
      "{} was developed by\n",
      "tensor(3.7617, device='cuda:0', dtype=torch.float16) tensor(307.5000, device='cuda:0', dtype=torch.float16)\n",
      "\n",
      "subject:  ThinkPad\n",
      "Itanium was developed by Intel.\n",
      "Samsung Kies was developed by Samsung.\n",
      "YUI Library was developed by Yahoo.\n",
      "{} was developed by\n",
      "tensor(21.3594, device='cuda:0', dtype=torch.float16) tensor(251., device='cuda:0', dtype=torch.float16)\n",
      "\n",
      "subject:  Itanium\n",
      "ThinkPad was developed by IBM.\n",
      "MobileMe was developed by Apple.\n",
      "YUI Library was developed by Yahoo.\n",
      "{} was developed by\n",
      "tensor(2.9395, device='cuda:0', dtype=torch.float16) tensor(210.5000, device='cuda:0', dtype=torch.float16)\n",
      "\n",
      "subject:  YUI Library\n",
      "Samsung Kies was developed by Samsung.\n",
      "ThinkPad was developed by IBM.\n",
      "Itanium was developed by Intel.\n",
      "{} was developed by\n",
      "tensor(6.6211, device='cuda:0', dtype=torch.float16) tensor(213.2500, device='cuda:0', dtype=torch.float16)\n",
      "\n"
     ]
    },
    {
     "data": {
      "application/vnd.jupyter.widget-view+json": {
       "model_id": "0d159dc3905f40c5aa96f374c1a155cf",
       "version_major": 2,
       "version_minor": 0
      },
      "text/plain": [
       "  0%|          | 0/5 [00:00<?, ?it/s]"
      ]
     },
     "metadata": {},
     "output_type": "display_data"
    },
    {
     "name": "stdout",
     "output_type": "stream",
     "text": [
      "subject:  Rich Text Format\n",
      "MobileMe was developed by Apple.\n",
      "Samsung Kies was developed by Samsung.\n",
      "Itanium was developed by Intel.\n",
      "{} was developed by\n",
      "tensor(8.0625, device='cuda:0', dtype=torch.float16) tensor(199.5000, device='cuda:0', dtype=torch.float16)\n",
      "\n",
      "subject:  Itanium\n",
      "Rich Text Format was developed by Microsoft.\n",
      "MiniDisc was developed by Sony.\n",
      "Samsung Kies was developed by Samsung.\n",
      "{} was developed by\n",
      "tensor(3.3086, device='cuda:0', dtype=torch.float16) tensor(182.8750, device='cuda:0', dtype=torch.float16)\n",
      "\n",
      "subject:  MiniDisc\n",
      "Samsung Kies was developed by Samsung.\n",
      "MobileMe was developed by Apple.\n",
      "Itanium was developed by Intel.\n",
      "{} was developed by\n",
      "tensor(15.9531, device='cuda:0', dtype=torch.float16) tensor(183.7500, device='cuda:0', dtype=torch.float16)\n",
      "\n",
      "subject:  Samsung Kies\n",
      "Itanium was developed by Intel.\n",
      "Rich Text Format was developed by Microsoft.\n",
      "MobileMe was developed by Apple.\n",
      "{} was developed by\n",
      "tensor(3.8770, device='cuda:0', dtype=torch.float16) tensor(278.2500, device='cuda:0', dtype=torch.float16)\n",
      "\n",
      "subject:  MobileMe\n",
      "MiniDisc was developed by Sony.\n",
      "Rich Text Format was developed by Microsoft.\n",
      "Samsung Kies was developed by Samsung.\n",
      "{} was developed by\n",
      "tensor(12.7969, device='cuda:0', dtype=torch.float16) tensor(201., device='cuda:0', dtype=torch.float16)\n",
      "\n"
     ]
    },
    {
     "data": {
      "application/vnd.jupyter.widget-view+json": {
       "model_id": "ce1b81186ef24e61949ee2eccb71af95",
       "version_major": 2,
       "version_minor": 0
      },
      "text/plain": [
       "  0%|          | 0/5 [00:00<?, ?it/s]"
      ]
     },
     "metadata": {},
     "output_type": "display_data"
    },
    {
     "name": "stdout",
     "output_type": "stream",
     "text": [
      "subject:  ThinkPad\n",
      "MobileMe was developed by Apple.\n",
      "MiniDisc was developed by Sony.\n",
      "Amiibo was developed by Nintendo.\n",
      "{} was developed by\n",
      "tensor(17.0938, device='cuda:0', dtype=torch.float16) tensor(241.6250, device='cuda:0', dtype=torch.float16)\n",
      "\n",
      "subject:  MiniDisc\n",
      "Rich Text Format was developed by Microsoft.\n",
      "Amiibo was developed by Nintendo.\n",
      "ThinkPad was developed by IBM.\n",
      "{} was developed by\n",
      "tensor(14.6094, device='cuda:0', dtype=torch.float16) tensor(179.5000, device='cuda:0', dtype=torch.float16)\n",
      "\n",
      "subject:  Rich Text Format\n",
      "Amiibo was developed by Nintendo.\n",
      "MobileMe was developed by Apple.\n",
      "MiniDisc was developed by Sony.\n",
      "{} was developed by\n",
      "tensor(9.5859, device='cuda:0', dtype=torch.float16) tensor(189.8750, device='cuda:0', dtype=torch.float16)\n",
      "\n",
      "subject:  Amiibo\n",
      "MobileMe was developed by Apple.\n",
      "ThinkPad was developed by IBM.\n",
      "Rich Text Format was developed by Microsoft.\n",
      "{} was developed by\n",
      "tensor(10.7031, device='cuda:0', dtype=torch.float16) tensor(208.7500, device='cuda:0', dtype=torch.float16)\n",
      "\n",
      "subject:  MobileMe\n",
      "Rich Text Format was developed by Microsoft.\n",
      "MiniDisc was developed by Sony.\n",
      "ThinkPad was developed by IBM.\n",
      "{} was developed by\n",
      "tensor(12.1328, device='cuda:0', dtype=torch.float16) tensor(185.5000, device='cuda:0', dtype=torch.float16)\n",
      "\n"
     ]
    },
    {
     "data": {
      "application/vnd.jupyter.widget-view+json": {
       "model_id": "dc9c22d0f56d401eaaffe3cf3700ebbd",
       "version_major": 2,
       "version_minor": 0
      },
      "text/plain": [
       "  0%|          | 0/5 [00:00<?, ?it/s]"
      ]
     },
     "metadata": {},
     "output_type": "display_data"
    },
    {
     "name": "stdout",
     "output_type": "stream",
     "text": [
      "subject:  Adobe Connect\n",
      "YUI Library was developed by Yahoo.\n",
      "MiniDisc was developed by Sony.\n",
      "ThinkPad was developed by IBM.\n",
      "{} was developed by\n",
      "tensor(4.6289, device='cuda:0', dtype=torch.float16) tensor(264.2500, device='cuda:0', dtype=torch.float16)\n",
      "\n",
      "subject:  Samsung Kies\n",
      "YUI Library was developed by Yahoo.\n",
      "Adobe Connect was developed by Adobe.\n",
      "MiniDisc was developed by Sony.\n",
      "{} was developed by\n",
      "tensor(2.6855, device='cuda:0', dtype=torch.float16) tensor(330.2500, device='cuda:0', dtype=torch.float16)\n",
      "\n",
      "subject:  YUI Library\n",
      "MiniDisc was developed by Sony.\n",
      "Samsung Kies was developed by Samsung.\n",
      "Adobe Connect was developed by Adobe.\n",
      "{} was developed by\n",
      "tensor(6.8320, device='cuda:0', dtype=torch.float16) tensor(227., device='cuda:0', dtype=torch.float16)\n",
      "\n",
      "subject:  ThinkPad\n",
      "YUI Library was developed by Yahoo.\n",
      "Samsung Kies was developed by Samsung.\n",
      "MiniDisc was developed by Sony.\n",
      "{} was developed by\n",
      "tensor(19.8125, device='cuda:0', dtype=torch.float16) tensor(261.2500, device='cuda:0', dtype=torch.float16)\n",
      "\n",
      "subject:  MiniDisc\n",
      "YUI Library was developed by Yahoo.\n",
      "ThinkPad was developed by IBM.\n",
      "Adobe Connect was developed by Adobe.\n",
      "{} was developed by\n",
      "tensor(18.2344, device='cuda:0', dtype=torch.float16) tensor(192.2500, device='cuda:0', dtype=torch.float16)\n",
      "\n"
     ]
    },
    {
     "data": {
      "application/vnd.jupyter.widget-view+json": {
       "model_id": "7b34c6ee288a4794b46c7dcc4af5cb82",
       "version_major": 2,
       "version_minor": 0
      },
      "text/plain": [
       "  0%|          | 0/5 [00:00<?, ?it/s]"
      ]
     },
     "metadata": {},
     "output_type": "display_data"
    },
    {
     "name": "stdout",
     "output_type": "stream",
     "text": [
      "subject:  Itanium\n",
      "MiniDisc was developed by Sony.\n",
      "YUI Library was developed by Yahoo.\n",
      "Rich Text Format was developed by Microsoft.\n",
      "{} was developed by\n",
      "tensor(3.2559, device='cuda:0', dtype=torch.float16) tensor(205.8750, device='cuda:0', dtype=torch.float16)\n",
      "\n",
      "subject:  YUI Library\n",
      "Rich Text Format was developed by Microsoft.\n",
      "Itanium was developed by Intel.\n",
      "Amiibo was developed by Nintendo.\n",
      "{} was developed by\n",
      "tensor(5.6406, device='cuda:0', dtype=torch.float16) tensor(197.8750, device='cuda:0', dtype=torch.float16)\n",
      "\n",
      "subject:  Rich Text Format\n",
      "YUI Library was developed by Yahoo.\n",
      "Amiibo was developed by Nintendo.\n",
      "Itanium was developed by Intel.\n",
      "{} was developed by\n",
      "tensor(9.9766, device='cuda:0', dtype=torch.float16) tensor(184.6250, device='cuda:0', dtype=torch.float16)\n",
      "\n",
      "subject:  Amiibo\n",
      "MiniDisc was developed by Sony.\n",
      "Rich Text Format was developed by Microsoft.\n",
      "YUI Library was developed by Yahoo.\n",
      "{} was developed by\n",
      "tensor(9.2891, device='cuda:0', dtype=torch.float16) tensor(209., device='cuda:0', dtype=torch.float16)\n",
      "\n",
      "subject:  MiniDisc\n",
      "Rich Text Format was developed by Microsoft.\n",
      "YUI Library was developed by Yahoo.\n",
      "Itanium was developed by Intel.\n",
      "{} was developed by\n",
      "tensor(17.5625, device='cuda:0', dtype=torch.float16) tensor(189.8750, device='cuda:0', dtype=torch.float16)\n",
      "\n"
     ]
    },
    {
     "data": {
      "application/vnd.jupyter.widget-view+json": {
       "model_id": "a7fb5312c5734d69a62998f59d33e043",
       "version_major": 2,
       "version_minor": 0
      },
      "text/plain": [
       "  0%|          | 0/5 [00:00<?, ?it/s]"
      ]
     },
     "metadata": {},
     "output_type": "display_data"
    },
    {
     "name": "stdout",
     "output_type": "stream",
     "text": [
      "subject:  Itanium\n",
      "YUI Library was developed by Yahoo.\n",
      "Adobe Connect was developed by Adobe.\n",
      "MiniDisc was developed by Sony.\n",
      "{} was developed by\n",
      "tensor(5.6836, device='cuda:0', dtype=torch.float16) tensor(191.2500, device='cuda:0', dtype=torch.float16)\n",
      "\n",
      "subject:  Adobe Connect\n",
      "Itanium was developed by Intel.\n",
      "YUI Library was developed by Yahoo.\n",
      "MiniDisc was developed by Sony.\n",
      "{} was developed by\n",
      "tensor(4.2656, device='cuda:0', dtype=torch.float16) tensor(269., device='cuda:0', dtype=torch.float16)\n",
      "\n",
      "subject:  Samsung Kies\n",
      "Adobe Connect was developed by Adobe.\n",
      "YUI Library was developed by Yahoo.\n",
      "MiniDisc was developed by Sony.\n",
      "{} was developed by\n",
      "tensor(2.5469, device='cuda:0', dtype=torch.float16) tensor(347., device='cuda:0', dtype=torch.float16)\n",
      "\n",
      "subject:  YUI Library\n",
      "Samsung Kies was developed by Samsung.\n",
      "MiniDisc was developed by Sony.\n",
      "Itanium was developed by Intel.\n",
      "{} was developed by\n",
      "tensor(6.9414, device='cuda:0', dtype=torch.float16) tensor(206.3750, device='cuda:0', dtype=torch.float16)\n",
      "\n",
      "subject:  MiniDisc\n",
      "Itanium was developed by Intel.\n",
      "Adobe Connect was developed by Adobe.\n",
      "Samsung Kies was developed by Samsung.\n",
      "{} was developed by\n",
      "tensor(18.4219, device='cuda:0', dtype=torch.float16) tensor(179.3750, device='cuda:0', dtype=torch.float16)\n",
      "\n"
     ]
    },
    {
     "data": {
      "application/vnd.jupyter.widget-view+json": {
       "model_id": "c787e9f444e24e99875c0708045428cb",
       "version_major": 2,
       "version_minor": 0
      },
      "text/plain": [
       "  0%|          | 0/5 [00:00<?, ?it/s]"
      ]
     },
     "metadata": {},
     "output_type": "display_data"
    },
    {
     "name": "stdout",
     "output_type": "stream",
     "text": [
      "subject:  Amiibo\n",
      "Samsung Kies was developed by Samsung.\n",
      "Rich Text Format was developed by Microsoft.\n",
      "MobileMe was developed by Apple.\n",
      "{} was developed by\n",
      "tensor(12.0078, device='cuda:0', dtype=torch.float16) tensor(200.8750, device='cuda:0', dtype=torch.float16)\n",
      "\n",
      "subject:  MobileMe\n",
      "Samsung Kies was developed by Samsung.\n",
      "Amiibo was developed by Nintendo.\n",
      "Adobe Connect was developed by Adobe.\n",
      "{} was developed by\n",
      "tensor(13.0625, device='cuda:0', dtype=torch.float16) tensor(195.1250, device='cuda:0', dtype=torch.float16)\n",
      "\n",
      "subject:  Samsung Kies\n",
      "Adobe Connect was developed by Adobe.\n",
      "MobileMe was developed by Apple.\n",
      "Rich Text Format was developed by Microsoft.\n",
      "{} was developed by\n",
      "tensor(2.7266, device='cuda:0', dtype=torch.float16) tensor(311.2500, device='cuda:0', dtype=torch.float16)\n",
      "\n",
      "subject:  Adobe Connect\n",
      "MobileMe was developed by Apple.\n",
      "Rich Text Format was developed by Microsoft.\n",
      "Samsung Kies was developed by Samsung.\n",
      "{} was developed by\n",
      "tensor(4.1641, device='cuda:0', dtype=torch.float16) tensor(276.5000, device='cuda:0', dtype=torch.float16)\n",
      "\n",
      "subject:  Rich Text Format\n",
      "MobileMe was developed by Apple.\n",
      "Amiibo was developed by Nintendo.\n",
      "Adobe Connect was developed by Adobe.\n",
      "{} was developed by\n",
      "tensor(8.8594, device='cuda:0', dtype=torch.float16) tensor(199.1250, device='cuda:0', dtype=torch.float16)\n",
      "\n"
     ]
    },
    {
     "data": {
      "application/vnd.jupyter.widget-view+json": {
       "model_id": "af0e36798c184982b5b5d78d40c0b707",
       "version_major": 2,
       "version_minor": 0
      },
      "text/plain": [
       "  0%|          | 0/5 [00:00<?, ?it/s]"
      ]
     },
     "metadata": {},
     "output_type": "display_data"
    },
    {
     "name": "stdout",
     "output_type": "stream",
     "text": [
      "subject:  ThinkPad\n",
      "Adobe Connect was developed by Adobe.\n",
      "MobileMe was developed by Apple.\n",
      "Amiibo was developed by Nintendo.\n",
      "{} was developed by\n",
      "tensor(17.7656, device='cuda:0', dtype=torch.float16) tensor(245.7500, device='cuda:0', dtype=torch.float16)\n",
      "\n",
      "subject:  Adobe Connect\n",
      "Amiibo was developed by Nintendo.\n",
      "ThinkPad was developed by IBM.\n",
      "Itanium was developed by Intel.\n",
      "{} was developed by\n",
      "tensor(3.3125, device='cuda:0', dtype=torch.float16) tensor(261., device='cuda:0', dtype=torch.float16)\n",
      "\n",
      "subject:  MobileMe\n",
      "Amiibo was developed by Nintendo.\n",
      "Adobe Connect was developed by Adobe.\n",
      "ThinkPad was developed by IBM.\n",
      "{} was developed by\n",
      "tensor(13.8828, device='cuda:0', dtype=torch.float16) tensor(178.7500, device='cuda:0', dtype=torch.float16)\n",
      "\n",
      "subject:  Amiibo\n",
      "ThinkPad was developed by IBM.\n",
      "MobileMe was developed by Apple.\n",
      "Adobe Connect was developed by Adobe.\n",
      "{} was developed by\n",
      "tensor(9.9531, device='cuda:0', dtype=torch.float16) tensor(209.6250, device='cuda:0', dtype=torch.float16)\n",
      "\n",
      "subject:  Itanium\n",
      "Adobe Connect was developed by Adobe.\n",
      "MobileMe was developed by Apple.\n",
      "Amiibo was developed by Nintendo.\n",
      "{} was developed by\n",
      "tensor(4.9258, device='cuda:0', dtype=torch.float16) tensor(199.3750, device='cuda:0', dtype=torch.float16)\n",
      "\n",
      "Saving weights and biases >>  gpt-j/jacobians_averaged_collection/before__ln_f/P178.npz\n",
      "----------------------------------------------------\n",
      "zzzzzzzzzzzzzzzzzzzzzzzzzzzzzzzzzzzzzzzzzzzzzzzzzzzz\n",
      "P495 {}, that originated in the country of\n",
      "zzzzzzzzzzzzzzzzzzzzzzzzzzzzzzzzzzzzzzzzzzzzzzzzzzzz\n",
      "160\n",
      "{}, that originated in the country of\n"
     ]
    },
    {
     "data": {
      "application/vnd.jupyter.widget-view+json": {
       "model_id": "bf116b6a34d0481fbe878ad16d3c85a3",
       "version_major": 2,
       "version_minor": 0
      },
      "text/plain": [
       "  0%|          | 0/10 [00:00<?, ?it/s]"
      ]
     },
     "metadata": {},
     "output_type": "display_data"
    },
    {
     "data": {
      "application/vnd.jupyter.widget-view+json": {
       "model_id": "1c9d0727388c45668e2e069d43a831a8",
       "version_major": 2,
       "version_minor": 0
      },
      "text/plain": [
       "  0%|          | 0/5 [00:00<?, ?it/s]"
      ]
     },
     "metadata": {},
     "output_type": "display_data"
    },
    {
     "name": "stdout",
     "output_type": "stream",
     "text": [
      "subject:  The Fifth Element\n",
      "Orphan Black, that originated in the country of Canada.\n",
      "Kitchen Princess, that originated in the country of Japan.\n",
      "Dobermann, that originated in the country of Germany.\n",
      "{}, that originated in the country of\n",
      "tensor(17.7500, device='cuda:0', dtype=torch.float16) tensor(238.1250, device='cuda:0', dtype=torch.float16)\n",
      "\n",
      "subject:  Dobermann\n",
      "Kitchen Princess, that originated in the country of Japan.\n",
      "Opeth, that originated in the country of Sweden.\n",
      "The Fifth Element, that originated in the country of France.\n",
      "{}, that originated in the country of\n",
      "tensor(18.2500, device='cuda:0', dtype=torch.float16) tensor(314., device='cuda:0', dtype=torch.float16)\n",
      "\n",
      "subject:  Orphan Black\n",
      "Dobermann, that originated in the country of Germany.\n",
      "Opeth, that originated in the country of Sweden.\n",
      "Kitchen Princess, that originated in the country of Japan.\n",
      "{}, that originated in the country of\n",
      "tensor(15.1875, device='cuda:0', dtype=torch.float16) tensor(231.8750, device='cuda:0', dtype=torch.float16)\n",
      "\n",
      "subject:  Kitchen Princess\n",
      "Opeth, that originated in the country of Sweden.\n",
      "Orphan Black, that originated in the country of Canada.\n",
      "Dobermann, that originated in the country of Germany.\n",
      "{}, that originated in the country of\n",
      "tensor(7.4844, device='cuda:0', dtype=torch.float16) tensor(348.7500, device='cuda:0', dtype=torch.float16)\n",
      "\n",
      "subject:  Opeth\n",
      "Orphan Black, that originated in the country of Canada.\n",
      "The Fifth Element, that originated in the country of France.\n",
      "Kitchen Princess, that originated in the country of Japan.\n",
      "{}, that originated in the country of\n",
      "tensor(7.7539, device='cuda:0', dtype=torch.float16) tensor(282.5000, device='cuda:0', dtype=torch.float16)\n",
      "\n"
     ]
    },
    {
     "data": {
      "application/vnd.jupyter.widget-view+json": {
       "model_id": "d3278ea60b9241a48fb1afaaac87a9e6",
       "version_major": 2,
       "version_minor": 0
      },
      "text/plain": [
       "  0%|          | 0/5 [00:00<?, ?it/s]"
      ]
     },
     "metadata": {},
     "output_type": "display_data"
    },
    {
     "name": "stdout",
     "output_type": "stream",
     "text": [
      "subject:  Opeth\n",
      "Celebridade, that originated in the country of Brazil.\n",
      "The X Factor, that originated in the country of Australia.\n",
      "Orphan Black, that originated in the country of Canada.\n",
      "{}, that originated in the country of\n",
      "tensor(9.5156, device='cuda:0', dtype=torch.float16) tensor(250.8750, device='cuda:0', dtype=torch.float16)\n",
      "\n",
      "subject:  Celebridade\n",
      "The X Factor, that originated in the country of Australia.\n",
      "Orphan Black, that originated in the country of Canada.\n",
      "Opeth, that originated in the country of Sweden.\n",
      "{}, that originated in the country of\n",
      "tensor(11.6875, device='cuda:0', dtype=torch.float16) tensor(311.5000, device='cuda:0', dtype=torch.float16)\n",
      "\n",
      "subject:  Orphan Black\n",
      "The Fifth Element, that originated in the country of France.\n",
      "Opeth, that originated in the country of Sweden.\n",
      "Celebridade, that originated in the country of Brazil.\n",
      "{}, that originated in the country of\n",
      "tensor(15.6172, device='cuda:0', dtype=torch.float16) tensor(247.6250, device='cuda:0', dtype=torch.float16)\n",
      "\n",
      "subject:  The X Factor\n",
      "Opeth, that originated in the country of Sweden.\n",
      "Orphan Black, that originated in the country of Canada.\n",
      "Celebridade, that originated in the country of Brazil.\n",
      "{}, that originated in the country of\n",
      "tensor(9.6172, device='cuda:0', dtype=torch.float16) tensor(247.2500, device='cuda:0', dtype=torch.float16)\n",
      "\n",
      "subject:  The Fifth Element\n",
      "Orphan Black, that originated in the country of Canada.\n",
      "Celebridade, that originated in the country of Brazil.\n",
      "The X Factor, that originated in the country of Australia.\n",
      "{}, that originated in the country of\n",
      "tensor(18.2812, device='cuda:0', dtype=torch.float16) tensor(228.3750, device='cuda:0', dtype=torch.float16)\n",
      "\n"
     ]
    },
    {
     "data": {
      "application/vnd.jupyter.widget-view+json": {
       "model_id": "bd90a2fc2f624d1180415f792c9d4ea0",
       "version_major": 2,
       "version_minor": 0
      },
      "text/plain": [
       "  0%|          | 0/5 [00:00<?, ?it/s]"
      ]
     },
     "metadata": {},
     "output_type": "display_data"
    },
    {
     "name": "stdout",
     "output_type": "stream",
     "text": [
      "subject:  The Fifth Element\n",
      "Opeth, that originated in the country of Sweden.\n",
      "Dobermann, that originated in the country of Germany.\n",
      "Boyzone, that originated in the country of Ireland.\n",
      "{}, that originated in the country of\n",
      "tensor(12.3438, device='cuda:0', dtype=torch.float16) tensor(255.5000, device='cuda:0', dtype=torch.float16)\n",
      "\n",
      "subject:  Opeth\n",
      "Kitchen Princess, that originated in the country of Japan.\n",
      "Boyzone, that originated in the country of Ireland.\n",
      "The Fifth Element, that originated in the country of France.\n",
      "{}, that originated in the country of\n",
      "tensor(6.7422, device='cuda:0', dtype=torch.float16) tensor(269.2500, device='cuda:0', dtype=torch.float16)\n",
      "\n",
      "subject:  Boyzone\n",
      "The Fifth Element, that originated in the country of France.\n",
      "Opeth, that originated in the country of Sweden.\n",
      "Dobermann, that originated in the country of Germany.\n",
      "{}, that originated in the country of\n",
      "tensor(6.7305, device='cuda:0', dtype=torch.float16) tensor(309.5000, device='cuda:0', dtype=torch.float16)\n",
      "\n",
      "subject:  Kitchen Princess\n",
      "Dobermann, that originated in the country of Germany.\n",
      "Opeth, that originated in the country of Sweden.\n",
      "Boyzone, that originated in the country of Ireland.\n",
      "{}, that originated in the country of\n",
      "tensor(6.7773, device='cuda:0', dtype=torch.float16) tensor(338.7500, device='cuda:0', dtype=torch.float16)\n",
      "\n",
      "subject:  Dobermann\n",
      "Boyzone, that originated in the country of Ireland.\n",
      "The Fifth Element, that originated in the country of France.\n",
      "Kitchen Princess, that originated in the country of Japan.\n",
      "{}, that originated in the country of\n",
      "tensor(18.7344, device='cuda:0', dtype=torch.float16) tensor(311., device='cuda:0', dtype=torch.float16)\n",
      "\n"
     ]
    },
    {
     "data": {
      "application/vnd.jupyter.widget-view+json": {
       "model_id": "9a04503dd2864f1ca8553b160f03fda1",
       "version_major": 2,
       "version_minor": 0
      },
      "text/plain": [
       "  0%|          | 0/5 [00:00<?, ?it/s]"
      ]
     },
     "metadata": {},
     "output_type": "display_data"
    },
    {
     "name": "stdout",
     "output_type": "stream",
     "text": [
      "subject:  The Fifth Element\n",
      "Kitchen Princess, that originated in the country of Japan.\n",
      "Boyzone, that originated in the country of Ireland.\n",
      "The X Factor, that originated in the country of Australia.\n",
      "{}, that originated in the country of\n",
      "tensor(15.6172, device='cuda:0', dtype=torch.float16) tensor(227.7500, device='cuda:0', dtype=torch.float16)\n",
      "\n",
      "subject:  Boyzone\n",
      "The Fifth Element, that originated in the country of France.\n",
      "The X Factor, that originated in the country of Australia.\n",
      "Dobermann, that originated in the country of Germany.\n",
      "{}, that originated in the country of\n",
      "tensor(9.9375, device='cuda:0', dtype=torch.float16) tensor(290., device='cuda:0', dtype=torch.float16)\n",
      "\n",
      "subject:  Kitchen Princess\n",
      "The X Factor, that originated in the country of Australia.\n",
      "Boyzone, that originated in the country of Ireland.\n",
      "The Fifth Element, that originated in the country of France.\n",
      "{}, that originated in the country of\n",
      "tensor(6.8086, device='cuda:0', dtype=torch.float16) tensor(334.7500, device='cuda:0', dtype=torch.float16)\n",
      "\n",
      "subject:  Dobermann\n",
      "The Fifth Element, that originated in the country of France.\n",
      "The X Factor, that originated in the country of Australia.\n",
      "Kitchen Princess, that originated in the country of Japan.\n",
      "{}, that originated in the country of\n",
      "tensor(14.1719, device='cuda:0', dtype=torch.float16) tensor(326.7500, device='cuda:0', dtype=torch.float16)\n",
      "\n",
      "subject:  The X Factor\n",
      "Kitchen Princess, that originated in the country of Japan.\n",
      "Boyzone, that originated in the country of Ireland.\n",
      "Dobermann, that originated in the country of Germany.\n",
      "{}, that originated in the country of\n",
      "tensor(5.1719, device='cuda:0', dtype=torch.float16) tensor(261., device='cuda:0', dtype=torch.float16)\n",
      "\n"
     ]
    },
    {
     "data": {
      "application/vnd.jupyter.widget-view+json": {
       "model_id": "386a09cdc39e403bbb23880e72cde151",
       "version_major": 2,
       "version_minor": 0
      },
      "text/plain": [
       "  0%|          | 0/5 [00:00<?, ?it/s]"
      ]
     },
     "metadata": {},
     "output_type": "display_data"
    },
    {
     "name": "stdout",
     "output_type": "stream",
     "text": [
      "subject:  Orphan Black\n",
      "Celebridade, that originated in the country of Brazil.\n",
      "Dobermann, that originated in the country of Germany.\n",
      "Life Is Beautiful, that originated in the country of Italy.\n",
      "{}, that originated in the country of\n",
      "tensor(15.3438, device='cuda:0', dtype=torch.float16) tensor(239.7500, device='cuda:0', dtype=torch.float16)\n",
      "\n",
      "subject:  Dobermann\n",
      "Orphan Black, that originated in the country of Canada.\n",
      "Celebridade, that originated in the country of Brazil.\n",
      "Life Is Beautiful, that originated in the country of Italy.\n",
      "{}, that originated in the country of\n",
      "tensor(26.4062, device='cuda:0', dtype=torch.float16) tensor(290., device='cuda:0', dtype=torch.float16)\n",
      "\n",
      "subject:  Life Is Beautiful\n",
      "Dobermann, that originated in the country of Germany.\n",
      "Orphan Black, that originated in the country of Canada.\n",
      "Celebridade, that originated in the country of Brazil.\n",
      "{}, that originated in the country of\n",
      "tensor(9.5469, device='cuda:0', dtype=torch.float16) tensor(246.7500, device='cuda:0', dtype=torch.float16)\n",
      "\n",
      "subject:  Celebridade\n",
      "Life Is Beautiful, that originated in the country of Italy.\n",
      "Orphan Black, that originated in the country of Canada.\n",
      "Dobermann, that originated in the country of Germany.\n",
      "{}, that originated in the country of\n",
      "tensor(10.4453, device='cuda:0', dtype=torch.float16) tensor(316., device='cuda:0', dtype=torch.float16)\n",
      "\n",
      "subject:  Kitchen Princess\n",
      "Orphan Black, that originated in the country of Canada.\n",
      "Celebridade, that originated in the country of Brazil.\n",
      "Dobermann, that originated in the country of Germany.\n",
      "{}, that originated in the country of\n",
      "tensor(6.6953, device='cuda:0', dtype=torch.float16) tensor(332.2500, device='cuda:0', dtype=torch.float16)\n",
      "\n"
     ]
    },
    {
     "data": {
      "application/vnd.jupyter.widget-view+json": {
       "model_id": "bc693ed2586a4599a3e2b278cb5482ff",
       "version_major": 2,
       "version_minor": 0
      },
      "text/plain": [
       "  0%|          | 0/5 [00:00<?, ?it/s]"
      ]
     },
     "metadata": {},
     "output_type": "display_data"
    },
    {
     "name": "stdout",
     "output_type": "stream",
     "text": [
      "subject:  Celebridade\n",
      "The Fifth Element, that originated in the country of France.\n",
      "Opeth, that originated in the country of Sweden.\n",
      "The X Factor, that originated in the country of Australia.\n",
      "{}, that originated in the country of\n",
      "tensor(12.0938, device='cuda:0', dtype=torch.float16) tensor(325.2500, device='cuda:0', dtype=torch.float16)\n",
      "\n",
      "subject:  The Fifth Element\n",
      "The X Factor, that originated in the country of Australia.\n",
      "Celebridade, that originated in the country of Brazil.\n",
      "Opeth, that originated in the country of Sweden.\n",
      "{}, that originated in the country of\n",
      "tensor(16.1250, device='cuda:0', dtype=torch.float16) tensor(232.6250, device='cuda:0', dtype=torch.float16)\n",
      "\n",
      "subject:  Dobermann\n",
      "The X Factor, that originated in the country of Australia.\n",
      "Celebridade, that originated in the country of Brazil.\n",
      "The Fifth Element, that originated in the country of France.\n",
      "{}, that originated in the country of\n",
      "tensor(21.9062, device='cuda:0', dtype=torch.float16) tensor(313., device='cuda:0', dtype=torch.float16)\n",
      "\n",
      "subject:  The X Factor\n",
      "Celebridade, that originated in the country of Brazil.\n",
      "Opeth, that originated in the country of Sweden.\n",
      "The Fifth Element, that originated in the country of France.\n",
      "{}, that originated in the country of\n",
      "tensor(5.4609, device='cuda:0', dtype=torch.float16) tensor(278.7500, device='cuda:0', dtype=torch.float16)\n",
      "\n",
      "subject:  Opeth\n",
      "The X Factor, that originated in the country of Australia.\n",
      "Celebridade, that originated in the country of Brazil.\n",
      "The Fifth Element, that originated in the country of France.\n",
      "{}, that originated in the country of\n",
      "tensor(7.2773, device='cuda:0', dtype=torch.float16) tensor(264.5000, device='cuda:0', dtype=torch.float16)\n",
      "\n"
     ]
    },
    {
     "data": {
      "application/vnd.jupyter.widget-view+json": {
       "model_id": "52d5577fff7a45bcbbe74a0a51800c50",
       "version_major": 2,
       "version_minor": 0
      },
      "text/plain": [
       "  0%|          | 0/5 [00:00<?, ?it/s]"
      ]
     },
     "metadata": {},
     "output_type": "display_data"
    },
    {
     "name": "stdout",
     "output_type": "stream",
     "text": [
      "subject:  The X Factor\n",
      "The Fifth Element, that originated in the country of France.\n",
      "Celebridade, that originated in the country of Brazil.\n",
      "Dobermann, that originated in the country of Germany.\n",
      "{}, that originated in the country of\n",
      "tensor(4.8008, device='cuda:0', dtype=torch.float16) tensor(299.5000, device='cuda:0', dtype=torch.float16)\n",
      "\n",
      "subject:  Celebridade\n",
      "The X Factor, that originated in the country of Australia.\n",
      "The Fifth Element, that originated in the country of France.\n",
      "Boyzone, that originated in the country of Ireland.\n",
      "{}, that originated in the country of\n",
      "tensor(14.9219, device='cuda:0', dtype=torch.float16) tensor(306.7500, device='cuda:0', dtype=torch.float16)\n",
      "\n",
      "subject:  Boyzone\n",
      "Celebridade, that originated in the country of Brazil.\n",
      "The Fifth Element, that originated in the country of France.\n",
      "The X Factor, that originated in the country of Australia.\n",
      "{}, that originated in the country of\n",
      "tensor(12.0938, device='cuda:0', dtype=torch.float16) tensor(267.2500, device='cuda:0', dtype=torch.float16)\n",
      "\n",
      "subject:  Dobermann\n",
      "The X Factor, that originated in the country of Australia.\n",
      "Boyzone, that originated in the country of Ireland.\n",
      "Celebridade, that originated in the country of Brazil.\n",
      "{}, that originated in the country of\n",
      "tensor(14.5391, device='cuda:0', dtype=torch.float16) tensor(324.2500, device='cuda:0', dtype=torch.float16)\n",
      "\n",
      "subject:  The Fifth Element\n",
      "The X Factor, that originated in the country of Australia.\n",
      "Dobermann, that originated in the country of Germany.\n",
      "Celebridade, that originated in the country of Brazil.\n",
      "{}, that originated in the country of\n",
      "tensor(16.2188, device='cuda:0', dtype=torch.float16) tensor(231., device='cuda:0', dtype=torch.float16)\n",
      "\n"
     ]
    },
    {
     "data": {
      "application/vnd.jupyter.widget-view+json": {
       "model_id": "7384c117ff6e430dbd979d7f4fafc44a",
       "version_major": 2,
       "version_minor": 0
      },
      "text/plain": [
       "  0%|          | 0/5 [00:00<?, ?it/s]"
      ]
     },
     "metadata": {},
     "output_type": "display_data"
    },
    {
     "name": "stdout",
     "output_type": "stream",
     "text": [
      "subject:  The Fifth Element\n",
      "The X Factor, that originated in the country of Australia.\n",
      "Dobermann, that originated in the country of Germany.\n",
      "Kitchen Princess, that originated in the country of Japan.\n",
      "{}, that originated in the country of\n",
      "tensor(15.2344, device='cuda:0', dtype=torch.float16) tensor(250.7500, device='cuda:0', dtype=torch.float16)\n",
      "\n",
      "subject:  The X Factor\n",
      "Opeth, that originated in the country of Sweden.\n",
      "Kitchen Princess, that originated in the country of Japan.\n",
      "Dobermann, that originated in the country of Germany.\n",
      "{}, that originated in the country of\n",
      "tensor(3.9121, device='cuda:0', dtype=torch.float16) tensor(296.2500, device='cuda:0', dtype=torch.float16)\n",
      "\n",
      "subject:  Kitchen Princess\n",
      "The Fifth Element, that originated in the country of France.\n",
      "Opeth, that originated in the country of Sweden.\n",
      "Dobermann, that originated in the country of Germany.\n",
      "{}, that originated in the country of\n",
      "tensor(6.0938, device='cuda:0', dtype=torch.float16) tensor(369.2500, device='cuda:0', dtype=torch.float16)\n",
      "\n",
      "subject:  Opeth\n",
      "The X Factor, that originated in the country of Australia.\n",
      "The Fifth Element, that originated in the country of France.\n",
      "Kitchen Princess, that originated in the country of Japan.\n",
      "{}, that originated in the country of\n",
      "tensor(5.9453, device='cuda:0', dtype=torch.float16) tensor(280.5000, device='cuda:0', dtype=torch.float16)\n",
      "\n",
      "subject:  Dobermann\n",
      "Opeth, that originated in the country of Sweden.\n",
      "The Fifth Element, that originated in the country of France.\n",
      "Kitchen Princess, that originated in the country of Japan.\n",
      "{}, that originated in the country of\n",
      "tensor(18.6875, device='cuda:0', dtype=torch.float16) tensor(316.5000, device='cuda:0', dtype=torch.float16)\n",
      "\n"
     ]
    },
    {
     "data": {
      "application/vnd.jupyter.widget-view+json": {
       "model_id": "4b9b0b1bf55a448b873f23ca58a8f57f",
       "version_major": 2,
       "version_minor": 0
      },
      "text/plain": [
       "  0%|          | 0/5 [00:00<?, ?it/s]"
      ]
     },
     "metadata": {},
     "output_type": "display_data"
    },
    {
     "name": "stdout",
     "output_type": "stream",
     "text": [
      "subject:  Opeth\n",
      "Dobermann, that originated in the country of Germany.\n",
      "Life Is Beautiful, that originated in the country of Italy.\n",
      "The X Factor, that originated in the country of Australia.\n",
      "{}, that originated in the country of\n",
      "tensor(8.8203, device='cuda:0', dtype=torch.float16) tensor(253.1250, device='cuda:0', dtype=torch.float16)\n",
      "\n",
      "subject:  The Fifth Element\n",
      "The X Factor, that originated in the country of Australia.\n",
      "Life Is Beautiful, that originated in the country of Italy.\n",
      "Dobermann, that originated in the country of Germany.\n",
      "{}, that originated in the country of\n",
      "tensor(20.0781, device='cuda:0', dtype=torch.float16) tensor(233.2500, device='cuda:0', dtype=torch.float16)\n",
      "\n",
      "subject:  The X Factor\n",
      "The Fifth Element, that originated in the country of France.\n",
      "Life Is Beautiful, that originated in the country of Italy.\n",
      "Dobermann, that originated in the country of Germany.\n",
      "{}, that originated in the country of\n",
      "tensor(5.7344, device='cuda:0', dtype=torch.float16) tensor(286.5000, device='cuda:0', dtype=torch.float16)\n",
      "\n",
      "subject:  Dobermann\n",
      "Opeth, that originated in the country of Sweden.\n",
      "Life Is Beautiful, that originated in the country of Italy.\n",
      "The X Factor, that originated in the country of Australia.\n",
      "{}, that originated in the country of\n",
      "tensor(24., device='cuda:0', dtype=torch.float16) tensor(303., device='cuda:0', dtype=torch.float16)\n",
      "\n",
      "subject:  Life Is Beautiful\n",
      "Dobermann, that originated in the country of Germany.\n",
      "The Fifth Element, that originated in the country of France.\n",
      "Opeth, that originated in the country of Sweden.\n",
      "{}, that originated in the country of\n",
      "tensor(9.1562, device='cuda:0', dtype=torch.float16) tensor(279.5000, device='cuda:0', dtype=torch.float16)\n",
      "\n"
     ]
    },
    {
     "data": {
      "application/vnd.jupyter.widget-view+json": {
       "model_id": "8cc18f377ecf4a7098b1e46aa0b293f3",
       "version_major": 2,
       "version_minor": 0
      },
      "text/plain": [
       "  0%|          | 0/5 [00:00<?, ?it/s]"
      ]
     },
     "metadata": {},
     "output_type": "display_data"
    },
    {
     "name": "stdout",
     "output_type": "stream",
     "text": [
      "subject:  Orphan Black\n",
      "Boyzone, that originated in the country of Ireland.\n",
      "Life Is Beautiful, that originated in the country of Italy.\n",
      "Opeth, that originated in the country of Sweden.\n",
      "{}, that originated in the country of\n",
      "tensor(17.8594, device='cuda:0', dtype=torch.float16) tensor(225.2500, device='cuda:0', dtype=torch.float16)\n",
      "\n",
      "subject:  Kitchen Princess\n",
      "Life Is Beautiful, that originated in the country of Italy.\n",
      "Orphan Black, that originated in the country of Canada.\n",
      "Opeth, that originated in the country of Sweden.\n",
      "{}, that originated in the country of\n",
      "tensor(6.1523, device='cuda:0', dtype=torch.float16) tensor(336.2500, device='cuda:0', dtype=torch.float16)\n",
      "\n",
      "subject:  Life Is Beautiful\n",
      "Boyzone, that originated in the country of Ireland.\n",
      "Orphan Black, that originated in the country of Canada.\n",
      "Opeth, that originated in the country of Sweden.\n",
      "{}, that originated in the country of\n",
      "tensor(9.3984, device='cuda:0', dtype=torch.float16) tensor(248.3750, device='cuda:0', dtype=torch.float16)\n",
      "\n",
      "subject:  Boyzone\n",
      "Opeth, that originated in the country of Sweden.\n",
      "Life Is Beautiful, that originated in the country of Italy.\n",
      "Kitchen Princess, that originated in the country of Japan.\n",
      "{}, that originated in the country of\n",
      "tensor(9.4609, device='cuda:0', dtype=torch.float16) tensor(289., device='cuda:0', dtype=torch.float16)\n",
      "\n",
      "subject:  Opeth\n",
      "Orphan Black, that originated in the country of Canada.\n",
      "Boyzone, that originated in the country of Ireland.\n",
      "Life Is Beautiful, that originated in the country of Italy.\n",
      "{}, that originated in the country of\n",
      "tensor(9.1875, device='cuda:0', dtype=torch.float16) tensor(258.5000, device='cuda:0', dtype=torch.float16)\n",
      "\n",
      "Saving weights and biases >>  gpt-j/jacobians_averaged_collection/before__ln_f/P495.npz\n",
      "----------------------------------------------------\n",
      "zzzzzzzzzzzzzzzzzzzzzzzzzzzzzzzzzzzzzzzzzzzzzzzzzzzz\n",
      "P127 {} is owned by\n",
      "zzzzzzzzzzzzzzzzzzzzzzzzzzzzzzzzzzzzzzzzzzzzzzzzzzzz\n",
      "105\n",
      "{} is owned by\n"
     ]
    },
    {
     "data": {
      "application/vnd.jupyter.widget-view+json": {
       "model_id": "b254a1b0390e4f1e8baaca91695ff136",
       "version_major": 2,
       "version_minor": 0
      },
      "text/plain": [
       "  0%|          | 0/10 [00:00<?, ?it/s]"
      ]
     },
     "metadata": {},
     "output_type": "display_data"
    },
    {
     "data": {
      "application/vnd.jupyter.widget-view+json": {
       "model_id": "fc7492909ec0492abca559e2680b0fbe",
       "version_major": 2,
       "version_minor": 0
      },
      "text/plain": [
       "  0%|          | 0/5 [00:00<?, ?it/s]"
      ]
     },
     "metadata": {},
     "output_type": "display_data"
    },
    {
     "name": "stdout",
     "output_type": "stream",
     "text": [
      "subject:  Behance\n",
      "Nintendo Software Technology is owned by Nintendo.\n",
      "Yahoo Search is owned by Yahoo.\n",
      "Orkut is owned by Google.\n",
      "{} is owned by\n",
      "tensor(27.7031, device='cuda:0', dtype=torch.float16) tensor(198.7500, device='cuda:0', dtype=torch.float16)\n",
      "\n",
      "subject:  Orkut\n",
      "Behance is owned by Adobe.\n",
      "Cognos is owned by IBM.\n",
      "Nintendo Software Technology is owned by Nintendo.\n",
      "{} is owned by\n",
      "tensor(32.5625, device='cuda:0', dtype=torch.float16) tensor(170.1250, device='cuda:0', dtype=torch.float16)\n",
      "\n",
      "subject:  Yahoo Search\n",
      "Cognos is owned by IBM.\n",
      "Orkut is owned by Google.\n",
      "Nintendo Software Technology is owned by Nintendo.\n",
      "{} is owned by\n",
      "tensor(2.9609, device='cuda:0', dtype=torch.float16) tensor(233.5000, device='cuda:0', dtype=torch.float16)\n",
      "\n",
      "subject:  Nintendo Software Technology\n",
      "Cognos is owned by IBM.\n",
      "Orkut is owned by Google.\n",
      "Yahoo Search is owned by Yahoo.\n",
      "{} is owned by\n",
      "tensor(26.0781, device='cuda:0', dtype=torch.float16) tensor(261., device='cuda:0', dtype=torch.float16)\n",
      "\n",
      "subject:  Cognos\n",
      "Nintendo Software Technology is owned by Nintendo.\n",
      "Yahoo Search is owned by Yahoo.\n",
      "Behance is owned by Adobe.\n",
      "{} is owned by\n",
      "tensor(39.4062, device='cuda:0', dtype=torch.float16) tensor(195.2500, device='cuda:0', dtype=torch.float16)\n",
      "\n"
     ]
    },
    {
     "data": {
      "application/vnd.jupyter.widget-view+json": {
       "model_id": "b0aeeb8b46d040f99ed3ac486bdc2bc2",
       "version_major": 2,
       "version_minor": 0
      },
      "text/plain": [
       "  0%|          | 0/5 [00:00<?, ?it/s]"
      ]
     },
     "metadata": {},
     "output_type": "display_data"
    },
    {
     "name": "stdout",
     "output_type": "stream",
     "text": [
      "subject:  Behance\n",
      "Amazon Music is owned by Amazon.\n",
      "Abarth is owned by Fiat.\n",
      "Yahoo Search is owned by Yahoo.\n",
      "{} is owned by\n",
      "tensor(28.9531, device='cuda:0', dtype=torch.float16) tensor(178.2500, device='cuda:0', dtype=torch.float16)\n",
      "\n",
      "subject:  Yahoo Search\n",
      "Betacam is owned by Sony.\n",
      "Amazon Music is owned by Amazon.\n",
      "Behance is owned by Adobe.\n",
      "{} is owned by\n",
      "tensor(2.6660, device='cuda:0', dtype=torch.float16) tensor(247.8750, device='cuda:0', dtype=torch.float16)\n",
      "\n",
      "subject:  Betacam\n",
      "Yahoo Search is owned by Yahoo.\n",
      "Behance is owned by Adobe.\n",
      "Amazon Music is owned by Amazon.\n",
      "{} is owned by\n",
      "tensor(26.7969, device='cuda:0', dtype=torch.float16) tensor(260., device='cuda:0', dtype=torch.float16)\n",
      "\n",
      "subject:  Abarth\n",
      "Betacam is owned by Sony.\n",
      "Behance is owned by Adobe.\n",
      "Yahoo Search is owned by Yahoo.\n",
      "{} is owned by\n",
      "tensor(13.3750, device='cuda:0', dtype=torch.float16) tensor(225.5000, device='cuda:0', dtype=torch.float16)\n",
      "\n",
      "subject:  Amazon Music\n",
      "Yahoo Search is owned by Yahoo.\n",
      "Abarth is owned by Fiat.\n",
      "Behance is owned by Adobe.\n",
      "{} is owned by\n",
      "tensor(23.6406, device='cuda:0', dtype=torch.float16) tensor(245.7500, device='cuda:0', dtype=torch.float16)\n",
      "\n"
     ]
    },
    {
     "data": {
      "application/vnd.jupyter.widget-view+json": {
       "model_id": "d2b7f22c329b49a3ab3bcc01e45ddaf7",
       "version_major": 2,
       "version_minor": 0
      },
      "text/plain": [
       "  0%|          | 0/5 [00:00<?, ?it/s]"
      ]
     },
     "metadata": {},
     "output_type": "display_data"
    },
    {
     "name": "stdout",
     "output_type": "stream",
     "text": [
      "subject:  Behance\n",
      "Mojang is owned by Microsoft.\n",
      "Amazon Music is owned by Amazon.\n",
      "Cognos is owned by IBM.\n",
      "{} is owned by\n",
      "tensor(25.4062, device='cuda:0', dtype=torch.float16) tensor(188.2500, device='cuda:0', dtype=torch.float16)\n",
      "\n",
      "subject:  Cognos\n",
      "Amazon Music is owned by Amazon.\n",
      "iAd is owned by Apple.\n",
      "Behance is owned by Adobe.\n",
      "{} is owned by\n",
      "tensor(33.8438, device='cuda:0', dtype=torch.float16) tensor(195.6250, device='cuda:0', dtype=torch.float16)\n",
      "\n",
      "subject:  Mojang\n",
      "Cognos is owned by IBM.\n",
      "Amazon Music is owned by Amazon.\n",
      "Behance is owned by Adobe.\n",
      "{} is owned by\n",
      "tensor(24.3125, device='cuda:0', dtype=torch.float16) tensor(226.3750, device='cuda:0', dtype=torch.float16)\n",
      "\n",
      "subject:  iAd\n",
      "Amazon Music is owned by Amazon.\n",
      "Cognos is owned by IBM.\n",
      "Behance is owned by Adobe.\n",
      "{} is owned by\n",
      "tensor(2.6777, device='cuda:0', dtype=torch.float16) tensor(198.5000, device='cuda:0', dtype=torch.float16)\n",
      "\n",
      "subject:  Amazon Music\n",
      "iAd is owned by Apple.\n",
      "Mojang is owned by Microsoft.\n",
      "Behance is owned by Adobe.\n",
      "{} is owned by\n",
      "tensor(21.2031, device='cuda:0', dtype=torch.float16) tensor(270.7500, device='cuda:0', dtype=torch.float16)\n",
      "\n"
     ]
    },
    {
     "data": {
      "application/vnd.jupyter.widget-view+json": {
       "model_id": "80abe0260c184e47bfb301a019461746",
       "version_major": 2,
       "version_minor": 0
      },
      "text/plain": [
       "  0%|          | 0/5 [00:00<?, ?it/s]"
      ]
     },
     "metadata": {},
     "output_type": "display_data"
    },
    {
     "name": "stdout",
     "output_type": "stream",
     "text": [
      "subject:  Cognos\n",
      "Mojang is owned by Microsoft.\n",
      "Amazon Music is owned by Amazon.\n",
      "iAd is owned by Apple.\n",
      "{} is owned by\n",
      "tensor(28.0469, device='cuda:0', dtype=torch.float16) tensor(216.1250, device='cuda:0', dtype=torch.float16)\n",
      "\n",
      "subject:  Amazon Music\n",
      "iAd is owned by Apple.\n",
      "Behance is owned by Adobe.\n",
      "Mojang is owned by Microsoft.\n",
      "{} is owned by\n",
      "tensor(20.7812, device='cuda:0', dtype=torch.float16) tensor(269.2500, device='cuda:0', dtype=torch.float16)\n",
      "\n",
      "subject:  iAd\n",
      "Cognos is owned by IBM.\n",
      "Mojang is owned by Microsoft.\n",
      "Amazon Music is owned by Amazon.\n",
      "{} is owned by\n",
      "tensor(3.0547, device='cuda:0', dtype=torch.float16) tensor(210.8750, device='cuda:0', dtype=torch.float16)\n",
      "\n",
      "subject:  Behance\n",
      "Mojang is owned by Microsoft.\n",
      "Amazon Music is owned by Amazon.\n",
      "Cognos is owned by IBM.\n",
      "{} is owned by\n",
      "tensor(25.4062, device='cuda:0', dtype=torch.float16) tensor(188.2500, device='cuda:0', dtype=torch.float16)\n",
      "\n",
      "subject:  Mojang\n",
      "Cognos is owned by IBM.\n",
      "Amazon Music is owned by Amazon.\n",
      "Behance is owned by Adobe.\n",
      "{} is owned by\n",
      "tensor(24.3125, device='cuda:0', dtype=torch.float16) tensor(226.3750, device='cuda:0', dtype=torch.float16)\n",
      "\n"
     ]
    },
    {
     "data": {
      "application/vnd.jupyter.widget-view+json": {
       "model_id": "e49b956f0dbb4975aa41377ba213313e",
       "version_major": 2,
       "version_minor": 0
      },
      "text/plain": [
       "  0%|          | 0/5 [00:00<?, ?it/s]"
      ]
     },
     "metadata": {},
     "output_type": "display_data"
    },
    {
     "name": "stdout",
     "output_type": "stream",
     "text": [
      "subject:  Abarth\n",
      "Behance is owned by Adobe.\n",
      "Amazon Music is owned by Amazon.\n",
      "Nintendo Software Technology is owned by Nintendo.\n",
      "{} is owned by\n",
      "tensor(15.1094, device='cuda:0', dtype=torch.float16) tensor(206.5000, device='cuda:0', dtype=torch.float16)\n",
      "\n",
      "subject:  Amazon Music\n",
      "iAd is owned by Apple.\n",
      "Abarth is owned by Fiat.\n",
      "Nintendo Software Technology is owned by Nintendo.\n",
      "{} is owned by\n",
      "tensor(27.0156, device='cuda:0', dtype=torch.float16) tensor(240.1250, device='cuda:0', dtype=torch.float16)\n",
      "\n",
      "subject:  Nintendo Software Technology\n",
      "iAd is owned by Apple.\n",
      "Abarth is owned by Fiat.\n",
      "Amazon Music is owned by Amazon.\n",
      "{} is owned by\n",
      "tensor(26.4844, device='cuda:0', dtype=torch.float16) tensor(254.6250, device='cuda:0', dtype=torch.float16)\n",
      "\n",
      "subject:  Behance\n",
      "Nintendo Software Technology is owned by Nintendo.\n",
      "Amazon Music is owned by Amazon.\n",
      "iAd is owned by Apple.\n",
      "{} is owned by\n",
      "tensor(31.7500, device='cuda:0', dtype=torch.float16) tensor(197.7500, device='cuda:0', dtype=torch.float16)\n",
      "\n",
      "subject:  iAd\n",
      "Abarth is owned by Fiat.\n",
      "Behance is owned by Adobe.\n",
      "Nintendo Software Technology is owned by Nintendo.\n",
      "{} is owned by\n",
      "tensor(2.5625, device='cuda:0', dtype=torch.float16) tensor(172.7500, device='cuda:0', dtype=torch.float16)\n",
      "\n"
     ]
    },
    {
     "data": {
      "application/vnd.jupyter.widget-view+json": {
       "model_id": "8e94ac5ed911460bb6520538a3336870",
       "version_major": 2,
       "version_minor": 0
      },
      "text/plain": [
       "  0%|          | 0/5 [00:00<?, ?it/s]"
      ]
     },
     "metadata": {},
     "output_type": "display_data"
    },
    {
     "name": "stdout",
     "output_type": "stream",
     "text": [
      "subject:  Abarth\n",
      "Cognos is owned by IBM.\n",
      "iAd is owned by Apple.\n",
      "Betacam is owned by Sony.\n",
      "{} is owned by\n",
      "tensor(14.1719, device='cuda:0', dtype=torch.float16) tensor(224.8750, device='cuda:0', dtype=torch.float16)\n",
      "\n",
      "subject:  Mojang\n",
      "iAd is owned by Apple.\n",
      "Cognos is owned by IBM.\n",
      "Betacam is owned by Sony.\n",
      "{} is owned by\n",
      "tensor(21.7188, device='cuda:0', dtype=torch.float16) tensor(238., device='cuda:0', dtype=torch.float16)\n",
      "\n",
      "subject:  iAd\n",
      "Cognos is owned by IBM.\n",
      "Betacam is owned by Sony.\n",
      "Mojang is owned by Microsoft.\n",
      "{} is owned by\n",
      "tensor(2.4941, device='cuda:0', dtype=torch.float16) tensor(210.1250, device='cuda:0', dtype=torch.float16)\n",
      "\n",
      "subject:  Betacam\n",
      "Cognos is owned by IBM.\n",
      "iAd is owned by Apple.\n",
      "Abarth is owned by Fiat.\n",
      "{} is owned by\n",
      "tensor(22.4844, device='cuda:0', dtype=torch.float16) tensor(247.3750, device='cuda:0', dtype=torch.float16)\n",
      "\n",
      "subject:  Cognos\n",
      "Abarth is owned by Fiat.\n",
      "iAd is owned by Apple.\n",
      "Mojang is owned by Microsoft.\n",
      "{} is owned by\n",
      "tensor(34.0625, device='cuda:0', dtype=torch.float16) tensor(203.2500, device='cuda:0', dtype=torch.float16)\n",
      "\n"
     ]
    },
    {
     "data": {
      "application/vnd.jupyter.widget-view+json": {
       "model_id": "1d916242781a43129287e7076601deab",
       "version_major": 2,
       "version_minor": 0
      },
      "text/plain": [
       "  0%|          | 0/5 [00:00<?, ?it/s]"
      ]
     },
     "metadata": {},
     "output_type": "display_data"
    },
    {
     "name": "stdout",
     "output_type": "stream",
     "text": [
      "subject:  Yahoo Search\n",
      "Nintendo Software Technology is owned by Nintendo.\n",
      "Cognos is owned by IBM.\n",
      "Behance is owned by Adobe.\n",
      "{} is owned by\n",
      "tensor(3.2070, device='cuda:0', dtype=torch.float16) tensor(226., device='cuda:0', dtype=torch.float16)\n",
      "\n",
      "subject:  Cognos\n",
      "Nintendo Software Technology is owned by Nintendo.\n",
      "Behance is owned by Adobe.\n",
      "Yahoo Search is owned by Yahoo.\n",
      "{} is owned by\n",
      "tensor(38.0938, device='cuda:0', dtype=torch.float16) tensor(196.8750, device='cuda:0', dtype=torch.float16)\n",
      "\n",
      "subject:  Nintendo Software Technology\n",
      "Cognos is owned by IBM.\n",
      "Yahoo Search is owned by Yahoo.\n",
      "Orkut is owned by Google.\n",
      "{} is owned by\n",
      "tensor(24.4531, device='cuda:0', dtype=torch.float16) tensor(260.2500, device='cuda:0', dtype=torch.float16)\n",
      "\n",
      "subject:  Behance\n",
      "Nintendo Software Technology is owned by Nintendo.\n",
      "Cognos is owned by IBM.\n",
      "Yahoo Search is owned by Yahoo.\n",
      "{} is owned by\n",
      "tensor(27.2031, device='cuda:0', dtype=torch.float16) tensor(205.2500, device='cuda:0', dtype=torch.float16)\n",
      "\n",
      "subject:  Orkut\n",
      "Behance is owned by Adobe.\n",
      "Yahoo Search is owned by Yahoo.\n",
      "Cognos is owned by IBM.\n",
      "{} is owned by\n",
      "tensor(31.7812, device='cuda:0', dtype=torch.float16) tensor(171.3750, device='cuda:0', dtype=torch.float16)\n",
      "\n"
     ]
    },
    {
     "data": {
      "application/vnd.jupyter.widget-view+json": {
       "model_id": "270ef68a02f6449386ca0fe53b2ce9de",
       "version_major": 2,
       "version_minor": 0
      },
      "text/plain": [
       "  0%|          | 0/5 [00:00<?, ?it/s]"
      ]
     },
     "metadata": {},
     "output_type": "display_data"
    },
    {
     "name": "stdout",
     "output_type": "stream",
     "text": [
      "subject:  Mojang\n",
      "Yahoo Search is owned by Yahoo.\n",
      "Behance is owned by Adobe.\n",
      "iAd is owned by Apple.\n",
      "{} is owned by\n",
      "tensor(21.4062, device='cuda:0', dtype=torch.float16) tensor(230.3750, device='cuda:0', dtype=torch.float16)\n",
      "\n",
      "subject:  Behance\n",
      "iAd is owned by Apple.\n",
      "Mojang is owned by Microsoft.\n",
      "Yahoo Search is owned by Yahoo.\n",
      "{} is owned by\n",
      "tensor(22.2812, device='cuda:0', dtype=torch.float16) tensor(200.2500, device='cuda:0', dtype=torch.float16)\n",
      "\n",
      "subject:  iAd\n",
      "Yahoo Search is owned by Yahoo.\n",
      "Mojang is owned by Microsoft.\n",
      "Behance is owned by Adobe.\n",
      "{} is owned by\n",
      "tensor(2.4512, device='cuda:0', dtype=torch.float16) tensor(212.2500, device='cuda:0', dtype=torch.float16)\n",
      "\n",
      "subject:  Yahoo Search\n",
      "Behance is owned by Adobe.\n",
      "Mojang is owned by Microsoft.\n",
      "Orkut is owned by Google.\n",
      "{} is owned by\n",
      "tensor(2.1914, device='cuda:0', dtype=torch.float16) tensor(224.3750, device='cuda:0', dtype=torch.float16)\n",
      "\n",
      "subject:  Orkut\n",
      "Mojang is owned by Microsoft.\n",
      "Behance is owned by Adobe.\n",
      "Yahoo Search is owned by Yahoo.\n",
      "{} is owned by\n",
      "tensor(28.7969, device='cuda:0', dtype=torch.float16) tensor(178.1250, device='cuda:0', dtype=torch.float16)\n",
      "\n"
     ]
    },
    {
     "data": {
      "application/vnd.jupyter.widget-view+json": {
       "model_id": "cf049b45372c4dd5a994a78c0d58d65b",
       "version_major": 2,
       "version_minor": 0
      },
      "text/plain": [
       "  0%|          | 0/5 [00:00<?, ?it/s]"
      ]
     },
     "metadata": {},
     "output_type": "display_data"
    },
    {
     "name": "stdout",
     "output_type": "stream",
     "text": [
      "subject:  Behance\n",
      "Nintendo Software Technology is owned by Nintendo.\n",
      "Cognos is owned by IBM.\n",
      "Abarth is owned by Fiat.\n",
      "{} is owned by\n",
      "tensor(29.7969, device='cuda:0', dtype=torch.float16) tensor(183.7500, device='cuda:0', dtype=torch.float16)\n",
      "\n",
      "subject:  Cognos\n",
      "Abarth is owned by Fiat.\n",
      "Nintendo Software Technology is owned by Nintendo.\n",
      "Yahoo Search is owned by Yahoo.\n",
      "{} is owned by\n",
      "tensor(37.1250, device='cuda:0', dtype=torch.float16) tensor(194.3750, device='cuda:0', dtype=torch.float16)\n",
      "\n",
      "subject:  Nintendo Software Technology\n",
      "Behance is owned by Adobe.\n",
      "Cognos is owned by IBM.\n",
      "Abarth is owned by Fiat.\n",
      "{} is owned by\n",
      "tensor(24.5469, device='cuda:0', dtype=torch.float16) tensor(245.3750, device='cuda:0', dtype=torch.float16)\n",
      "\n",
      "subject:  Abarth\n",
      "Behance is owned by Adobe.\n",
      "Cognos is owned by IBM.\n",
      "Nintendo Software Technology is owned by Nintendo.\n",
      "{} is owned by\n",
      "tensor(14.1641, device='cuda:0', dtype=torch.float16) tensor(225.8750, device='cuda:0', dtype=torch.float16)\n",
      "\n",
      "subject:  Yahoo Search\n",
      "Nintendo Software Technology is owned by Nintendo.\n",
      "Abarth is owned by Fiat.\n",
      "Cognos is owned by IBM.\n",
      "{} is owned by\n",
      "tensor(2.9883, device='cuda:0', dtype=torch.float16) tensor(201.3750, device='cuda:0', dtype=torch.float16)\n",
      "\n"
     ]
    },
    {
     "data": {
      "application/vnd.jupyter.widget-view+json": {
       "model_id": "6f6105a30e114657aae1ea74487c2d3e",
       "version_major": 2,
       "version_minor": 0
      },
      "text/plain": [
       "  0%|          | 0/5 [00:00<?, ?it/s]"
      ]
     },
     "metadata": {},
     "output_type": "display_data"
    },
    {
     "name": "stdout",
     "output_type": "stream",
     "text": [
      "subject:  iAd\n",
      "Mojang is owned by Microsoft.\n",
      "Abarth is owned by Fiat.\n",
      "Cognos is owned by IBM.\n",
      "{} is owned by\n",
      "tensor(2.0234, device='cuda:0', dtype=torch.float16) tensor(195.7500, device='cuda:0', dtype=torch.float16)\n",
      "\n",
      "subject:  Mojang\n",
      "Abarth is owned by Fiat.\n",
      "iAd is owned by Apple.\n",
      "Amazon Music is owned by Amazon.\n",
      "{} is owned by\n",
      "tensor(26.2656, device='cuda:0', dtype=torch.float16) tensor(214.2500, device='cuda:0', dtype=torch.float16)\n",
      "\n",
      "subject:  Cognos\n",
      "iAd is owned by Apple.\n",
      "Amazon Music is owned by Amazon.\n",
      "Mojang is owned by Microsoft.\n",
      "{} is owned by\n",
      "tensor(34.3750, device='cuda:0', dtype=torch.float16) tensor(205.1250, device='cuda:0', dtype=torch.float16)\n",
      "\n",
      "subject:  Amazon Music\n",
      "iAd is owned by Apple.\n",
      "Cognos is owned by IBM.\n",
      "Mojang is owned by Microsoft.\n",
      "{} is owned by\n",
      "tensor(20.5469, device='cuda:0', dtype=torch.float16) tensor(278.7500, device='cuda:0', dtype=torch.float16)\n",
      "\n",
      "subject:  Abarth\n",
      "Mojang is owned by Microsoft.\n",
      "iAd is owned by Apple.\n",
      "Cognos is owned by IBM.\n",
      "{} is owned by\n",
      "tensor(12.7422, device='cuda:0', dtype=torch.float16) tensor(226.7500, device='cuda:0', dtype=torch.float16)\n",
      "\n",
      "Saving weights and biases >>  gpt-j/jacobians_averaged_collection/before__ln_f/P127.npz\n",
      "----------------------------------------------------\n",
      "zzzzzzzzzzzzzzzzzzzzzzzzzzzzzzzzzzzzzzzzzzzzzzzzzzzz\n",
      "P159 The headquarter of {} is located in\n",
      "zzzzzzzzzzzzzzzzzzzzzzzzzzzzzzzzzzzzzzzzzzzzzzzzzzzz\n",
      "157\n",
      "The headquarter of {} is located in\n"
     ]
    },
    {
     "data": {
      "application/vnd.jupyter.widget-view+json": {
       "model_id": "68f2df3897af4f4a8fff84347fbe8d8a",
       "version_major": 2,
       "version_minor": 0
      },
      "text/plain": [
       "  0%|          | 0/10 [00:00<?, ?it/s]"
      ]
     },
     "metadata": {},
     "output_type": "display_data"
    },
    {
     "data": {
      "application/vnd.jupyter.widget-view+json": {
       "model_id": "14dac9b505e140849da8b010282bd100",
       "version_major": 2,
       "version_minor": 0
      },
      "text/plain": [
       "  0%|          | 0/5 [00:00<?, ?it/s]"
      ]
     },
     "metadata": {},
     "output_type": "display_data"
    },
    {
     "name": "stdout",
     "output_type": "stream",
     "text": [
      "subject:  Serono\n",
      "The headquarter of Interpol is located in Lyon.\n",
      "The headquarter of United Airlines is located in Chicago.\n",
      "The headquarter of Lenovo is located in Beijing.\n",
      "The headquarter of {} is located in\n",
      "tensor(43.2500, device='cuda:0', dtype=torch.float16) tensor(148.7500, device='cuda:0', dtype=torch.float16)\n",
      "\n",
      "subject:  United Airlines\n",
      "The headquarter of Serono is located in Geneva.\n",
      "The headquarter of Interpol is located in Lyon.\n",
      "The headquarter of SoundCloud is located in Berlin.\n",
      "The headquarter of {} is located in\n",
      "tensor(38.3750, device='cuda:0', dtype=torch.float16) tensor(190.2500, device='cuda:0', dtype=torch.float16)\n",
      "\n",
      "subject:  Interpol\n",
      "The headquarter of SoundCloud is located in Berlin.\n",
      "The headquarter of United Airlines is located in Chicago.\n",
      "The headquarter of Lenovo is located in Beijing.\n",
      "The headquarter of {} is located in\n",
      "tensor(52.2188, device='cuda:0', dtype=torch.float16) tensor(159.3750, device='cuda:0', dtype=torch.float16)\n",
      "\n",
      "subject:  SoundCloud\n",
      "The headquarter of Interpol is located in Lyon.\n",
      "The headquarter of Lenovo is located in Beijing.\n",
      "The headquarter of United Airlines is located in Chicago.\n",
      "The headquarter of {} is located in\n",
      "tensor(41.1250, device='cuda:0', dtype=torch.float16) tensor(171.1250, device='cuda:0', dtype=torch.float16)\n",
      "\n",
      "subject:  Lenovo\n",
      "The headquarter of Serono is located in Geneva.\n",
      "The headquarter of Interpol is located in Lyon.\n",
      "The headquarter of United Airlines is located in Chicago.\n",
      "The headquarter of {} is located in\n",
      "tensor(44.9375, device='cuda:0', dtype=torch.float16) tensor(155.1250, device='cuda:0', dtype=torch.float16)\n",
      "\n"
     ]
    },
    {
     "data": {
      "application/vnd.jupyter.widget-view+json": {
       "model_id": "3274a3f3f45a4df1b4d62e3bce4af06b",
       "version_major": 2,
       "version_minor": 0
      },
      "text/plain": [
       "  0%|          | 0/5 [00:00<?, ?it/s]"
      ]
     },
     "metadata": {},
     "output_type": "display_data"
    },
    {
     "name": "stdout",
     "output_type": "stream",
     "text": [
      "subject:  United Airlines\n",
      "The headquarter of LG Chem is located in Seoul.\n",
      "The headquarter of ChemAxon is located in Budapest.\n",
      "The headquarter of Stelco is located in Hamilton.\n",
      "The headquarter of {} is located in\n",
      "tensor(45.0312, device='cuda:0', dtype=torch.float16) tensor(188.7500, device='cuda:0', dtype=torch.float16)\n",
      "\n",
      "subject:  LG Chem\n",
      "The headquarter of Stelco is located in Hamilton.\n",
      "The headquarter of ChemAxon is located in Budapest.\n",
      "The headquarter of Serono is located in Geneva.\n",
      "The headquarter of {} is located in\n",
      "tensor(25.9844, device='cuda:0', dtype=torch.float16) tensor(183.7500, device='cuda:0', dtype=torch.float16)\n",
      "\n",
      "subject:  ChemAxon\n",
      "The headquarter of Serono is located in Geneva.\n",
      "The headquarter of United Airlines is located in Chicago.\n",
      "The headquarter of LG Chem is located in Seoul.\n",
      "The headquarter of {} is located in\n",
      "tensor(36.6250, device='cuda:0', dtype=torch.float16) tensor(160.3750, device='cuda:0', dtype=torch.float16)\n",
      "\n",
      "subject:  Serono\n",
      "The headquarter of LG Chem is located in Seoul.\n",
      "The headquarter of ChemAxon is located in Budapest.\n",
      "The headquarter of Stelco is located in Hamilton.\n",
      "The headquarter of {} is located in\n",
      "tensor(42.1562, device='cuda:0', dtype=torch.float16) tensor(145.2500, device='cuda:0', dtype=torch.float16)\n",
      "\n",
      "subject:  Stelco\n",
      "The headquarter of United Airlines is located in Chicago.\n",
      "The headquarter of ChemAxon is located in Budapest.\n",
      "The headquarter of Serono is located in Geneva.\n",
      "The headquarter of {} is located in\n",
      "tensor(37.5000, device='cuda:0', dtype=torch.float16) tensor(210.1250, device='cuda:0', dtype=torch.float16)\n",
      "\n"
     ]
    },
    {
     "data": {
      "application/vnd.jupyter.widget-view+json": {
       "model_id": "01a7e3223ac64561b48e3004bd56110f",
       "version_major": 2,
       "version_minor": 0
      },
      "text/plain": [
       "  0%|          | 0/5 [00:00<?, ?it/s]"
      ]
     },
     "metadata": {},
     "output_type": "display_data"
    },
    {
     "name": "stdout",
     "output_type": "stream",
     "text": [
      "subject:  Serono\n",
      "The headquarter of ChemAxon is located in Budapest.\n",
      "The headquarter of SoundCloud is located in Berlin.\n",
      "The headquarter of Stelco is located in Hamilton.\n",
      "The headquarter of {} is located in\n",
      "tensor(42.2500, device='cuda:0', dtype=torch.float16) tensor(144.2500, device='cuda:0', dtype=torch.float16)\n",
      "\n",
      "subject:  Ericsson\n",
      "The headquarter of ChemAxon is located in Budapest.\n",
      "The headquarter of SoundCloud is located in Berlin.\n",
      "The headquarter of Stelco is located in Hamilton.\n",
      "The headquarter of {} is located in\n",
      "tensor(37.2812, device='cuda:0', dtype=torch.float16) tensor(173., device='cuda:0', dtype=torch.float16)\n",
      "\n",
      "subject:  SoundCloud\n",
      "The headquarter of ChemAxon is located in Budapest.\n",
      "The headquarter of Ericsson is located in Stockholm.\n",
      "The headquarter of Serono is located in Geneva.\n",
      "The headquarter of {} is located in\n",
      "tensor(40.1875, device='cuda:0', dtype=torch.float16) tensor(192.1250, device='cuda:0', dtype=torch.float16)\n",
      "\n",
      "subject:  ChemAxon\n",
      "The headquarter of Ericsson is located in Stockholm.\n",
      "The headquarter of Stelco is located in Hamilton.\n",
      "The headquarter of SoundCloud is located in Berlin.\n",
      "The headquarter of {} is located in\n",
      "tensor(31.2812, device='cuda:0', dtype=torch.float16) tensor(168., device='cuda:0', dtype=torch.float16)\n",
      "\n",
      "subject:  Stelco\n",
      "The headquarter of Ericsson is located in Stockholm.\n",
      "The headquarter of Serono is located in Geneva.\n",
      "The headquarter of SoundCloud is located in Berlin.\n",
      "The headquarter of {} is located in\n",
      "tensor(34.9688, device='cuda:0', dtype=torch.float16) tensor(258.2500, device='cuda:0', dtype=torch.float16)\n",
      "\n"
     ]
    },
    {
     "data": {
      "application/vnd.jupyter.widget-view+json": {
       "model_id": "5ebd98ac6bd749f0b110007c5a53e6c4",
       "version_major": 2,
       "version_minor": 0
      },
      "text/plain": [
       "  0%|          | 0/5 [00:00<?, ?it/s]"
      ]
     },
     "metadata": {},
     "output_type": "display_data"
    },
    {
     "name": "stdout",
     "output_type": "stream",
     "text": [
      "subject:  SoundCloud\n",
      "The headquarter of The Weather Channel is located in Atlanta.\n",
      "The headquarter of LG Chem is located in Seoul.\n",
      "The headquarter of ChemAxon is located in Budapest.\n",
      "The headquarter of {} is located in\n",
      "tensor(43.9375, device='cuda:0', dtype=torch.float16) tensor(184.3750, device='cuda:0', dtype=torch.float16)\n",
      "\n",
      "subject:  The Weather Channel\n",
      "The headquarter of LG Chem is located in Seoul.\n",
      "The headquarter of Lenovo is located in Beijing.\n",
      "The headquarter of SoundCloud is located in Berlin.\n",
      "The headquarter of {} is located in\n",
      "tensor(32.2500, device='cuda:0', dtype=torch.float16) tensor(177.8750, device='cuda:0', dtype=torch.float16)\n",
      "\n",
      "subject:  Lenovo\n",
      "The headquarter of ChemAxon is located in Budapest.\n",
      "The headquarter of LG Chem is located in Seoul.\n",
      "The headquarter of The Weather Channel is located in Atlanta.\n",
      "The headquarter of {} is located in\n",
      "tensor(46.5312, device='cuda:0', dtype=torch.float16) tensor(153.1250, device='cuda:0', dtype=torch.float16)\n",
      "\n",
      "subject:  ChemAxon\n",
      "The headquarter of Lenovo is located in Beijing.\n",
      "The headquarter of SoundCloud is located in Berlin.\n",
      "The headquarter of LG Chem is located in Seoul.\n",
      "The headquarter of {} is located in\n",
      "tensor(33.8438, device='cuda:0', dtype=torch.float16) tensor(187.8750, device='cuda:0', dtype=torch.float16)\n",
      "\n",
      "subject:  LG Chem\n",
      "The headquarter of Lenovo is located in Beijing.\n",
      "The headquarter of SoundCloud is located in Berlin.\n",
      "The headquarter of The Weather Channel is located in Atlanta.\n",
      "The headquarter of {} is located in\n",
      "tensor(27.5625, device='cuda:0', dtype=torch.float16) tensor(190.5000, device='cuda:0', dtype=torch.float16)\n",
      "\n"
     ]
    },
    {
     "data": {
      "application/vnd.jupyter.widget-view+json": {
       "model_id": "063cc05fdf734c4c8a2ecf7ba2b1dba0",
       "version_major": 2,
       "version_minor": 0
      },
      "text/plain": [
       "  0%|          | 0/5 [00:00<?, ?it/s]"
      ]
     },
     "metadata": {},
     "output_type": "display_data"
    },
    {
     "name": "stdout",
     "output_type": "stream",
     "text": [
      "subject:  Stelco\n",
      "The headquarter of United Airlines is located in Chicago.\n",
      "The headquarter of Ericsson is located in Stockholm.\n",
      "The headquarter of Interpol is located in Lyon.\n",
      "The headquarter of {} is located in\n",
      "tensor(37.5938, device='cuda:0', dtype=torch.float16) tensor(180., device='cuda:0', dtype=torch.float16)\n",
      "\n",
      "subject:  Serono\n",
      "The headquarter of Interpol is located in Lyon.\n",
      "The headquarter of United Airlines is located in Chicago.\n",
      "The headquarter of Ericsson is located in Stockholm.\n",
      "The headquarter of {} is located in\n",
      "tensor(42.1875, device='cuda:0', dtype=torch.float16) tensor(143.8750, device='cuda:0', dtype=torch.float16)\n",
      "\n",
      "subject:  Interpol\n",
      "The headquarter of Stelco is located in Hamilton.\n",
      "The headquarter of Ericsson is located in Stockholm.\n",
      "The headquarter of Serono is located in Geneva.\n",
      "The headquarter of {} is located in\n",
      "tensor(52.4688, device='cuda:0', dtype=torch.float16) tensor(151.7500, device='cuda:0', dtype=torch.float16)\n",
      "\n",
      "subject:  Ericsson\n",
      "The headquarter of United Airlines is located in Chicago.\n",
      "The headquarter of Serono is located in Geneva.\n",
      "The headquarter of Stelco is located in Hamilton.\n",
      "The headquarter of {} is located in\n",
      "tensor(35.6875, device='cuda:0', dtype=torch.float16) tensor(158.1250, device='cuda:0', dtype=torch.float16)\n",
      "\n",
      "subject:  United Airlines\n",
      "The headquarter of Ericsson is located in Stockholm.\n",
      "The headquarter of Stelco is located in Hamilton.\n",
      "The headquarter of Interpol is located in Lyon.\n",
      "The headquarter of {} is located in\n",
      "tensor(40., device='cuda:0', dtype=torch.float16) tensor(194.2500, device='cuda:0', dtype=torch.float16)\n",
      "\n"
     ]
    },
    {
     "data": {
      "application/vnd.jupyter.widget-view+json": {
       "model_id": "7be311e26ab94acdbea8e408760e65e7",
       "version_major": 2,
       "version_minor": 0
      },
      "text/plain": [
       "  0%|          | 0/5 [00:00<?, ?it/s]"
      ]
     },
     "metadata": {},
     "output_type": "display_data"
    },
    {
     "name": "stdout",
     "output_type": "stream",
     "text": [
      "subject:  Ericsson\n",
      "The headquarter of Interpol is located in Lyon.\n",
      "The headquarter of SoundCloud is located in Berlin.\n",
      "The headquarter of Lenovo is located in Beijing.\n",
      "The headquarter of {} is located in\n",
      "tensor(33.7812, device='cuda:0', dtype=torch.float16) tensor(177., device='cuda:0', dtype=torch.float16)\n",
      "\n",
      "subject:  SoundCloud\n",
      "The headquarter of Lenovo is located in Beijing.\n",
      "The headquarter of ChemAxon is located in Budapest.\n",
      "The headquarter of Ericsson is located in Stockholm.\n",
      "The headquarter of {} is located in\n",
      "tensor(41.9688, device='cuda:0', dtype=torch.float16) tensor(185.8750, device='cuda:0', dtype=torch.float16)\n",
      "\n",
      "subject:  Interpol\n",
      "The headquarter of Ericsson is located in Stockholm.\n",
      "The headquarter of ChemAxon is located in Budapest.\n",
      "The headquarter of Lenovo is located in Beijing.\n",
      "The headquarter of {} is located in\n",
      "tensor(49.5625, device='cuda:0', dtype=torch.float16) tensor(161.6250, device='cuda:0', dtype=torch.float16)\n",
      "\n",
      "subject:  Lenovo\n",
      "The headquarter of Ericsson is located in Stockholm.\n",
      "The headquarter of ChemAxon is located in Budapest.\n",
      "The headquarter of Interpol is located in Lyon.\n",
      "The headquarter of {} is located in\n",
      "tensor(45.3750, device='cuda:0', dtype=torch.float16) tensor(160.2500, device='cuda:0', dtype=torch.float16)\n",
      "\n",
      "subject:  ChemAxon\n",
      "The headquarter of Interpol is located in Lyon.\n",
      "The headquarter of Ericsson is located in Stockholm.\n",
      "The headquarter of SoundCloud is located in Berlin.\n",
      "The headquarter of {} is located in\n",
      "tensor(29.4219, device='cuda:0', dtype=torch.float16) tensor(171.3750, device='cuda:0', dtype=torch.float16)\n",
      "\n"
     ]
    },
    {
     "data": {
      "application/vnd.jupyter.widget-view+json": {
       "model_id": "a4de19733d35477da41b8af1314d1f9f",
       "version_major": 2,
       "version_minor": 0
      },
      "text/plain": [
       "  0%|          | 0/5 [00:00<?, ?it/s]"
      ]
     },
     "metadata": {},
     "output_type": "display_data"
    },
    {
     "name": "stdout",
     "output_type": "stream",
     "text": [
      "subject:  Lenovo\n",
      "The headquarter of Serono is located in Geneva.\n",
      "The headquarter of Ericsson is located in Stockholm.\n",
      "The headquarter of Stelco is located in Hamilton.\n",
      "The headquarter of {} is located in\n",
      "tensor(43.8125, device='cuda:0', dtype=torch.float16) tensor(154.1250, device='cuda:0', dtype=torch.float16)\n",
      "\n",
      "subject:  Stelco\n",
      "The headquarter of LG Chem is located in Seoul.\n",
      "The headquarter of Lenovo is located in Beijing.\n",
      "The headquarter of Ericsson is located in Stockholm.\n",
      "The headquarter of {} is located in\n",
      "tensor(35.2188, device='cuda:0', dtype=torch.float16) tensor(204.7500, device='cuda:0', dtype=torch.float16)\n",
      "\n",
      "subject:  LG Chem\n",
      "The headquarter of Lenovo is located in Beijing.\n",
      "The headquarter of Stelco is located in Hamilton.\n",
      "The headquarter of Ericsson is located in Stockholm.\n",
      "The headquarter of {} is located in\n",
      "tensor(24.9062, device='cuda:0', dtype=torch.float16) tensor(194.3750, device='cuda:0', dtype=torch.float16)\n",
      "\n",
      "subject:  Ericsson\n",
      "The headquarter of LG Chem is located in Seoul.\n",
      "The headquarter of Lenovo is located in Beijing.\n",
      "The headquarter of Stelco is located in Hamilton.\n",
      "The headquarter of {} is located in\n",
      "tensor(35.0312, device='cuda:0', dtype=torch.float16) tensor(173.7500, device='cuda:0', dtype=torch.float16)\n",
      "\n",
      "subject:  Serono\n",
      "The headquarter of LG Chem is located in Seoul.\n",
      "The headquarter of Lenovo is located in Beijing.\n",
      "The headquarter of Stelco is located in Hamilton.\n",
      "The headquarter of {} is located in\n",
      "tensor(43.8750, device='cuda:0', dtype=torch.float16) tensor(145.6250, device='cuda:0', dtype=torch.float16)\n",
      "\n"
     ]
    },
    {
     "data": {
      "application/vnd.jupyter.widget-view+json": {
       "model_id": "134ed43120824394aaea2b7a6413e16c",
       "version_major": 2,
       "version_minor": 0
      },
      "text/plain": [
       "  0%|          | 0/5 [00:00<?, ?it/s]"
      ]
     },
     "metadata": {},
     "output_type": "display_data"
    },
    {
     "name": "stdout",
     "output_type": "stream",
     "text": [
      "subject:  ChemAxon\n",
      "The headquarter of The Weather Channel is located in Atlanta.\n",
      "The headquarter of LG Chem is located in Seoul.\n",
      "The headquarter of Stelco is located in Hamilton.\n",
      "The headquarter of {} is located in\n",
      "tensor(35.8125, device='cuda:0', dtype=torch.float16) tensor(171.1250, device='cuda:0', dtype=torch.float16)\n",
      "\n",
      "subject:  LG Chem\n",
      "The headquarter of Stelco is located in Hamilton.\n",
      "The headquarter of ChemAxon is located in Budapest.\n",
      "The headquarter of The Weather Channel is located in Atlanta.\n",
      "The headquarter of {} is located in\n",
      "tensor(22.0156, device='cuda:0', dtype=torch.float16) tensor(181.6250, device='cuda:0', dtype=torch.float16)\n",
      "\n",
      "subject:  United Airlines\n",
      "The headquarter of ChemAxon is located in Budapest.\n",
      "The headquarter of Stelco is located in Hamilton.\n",
      "The headquarter of The Weather Channel is located in Atlanta.\n",
      "The headquarter of {} is located in\n",
      "tensor(39.8750, device='cuda:0', dtype=torch.float16) tensor(182.7500, device='cuda:0', dtype=torch.float16)\n",
      "\n",
      "subject:  Stelco\n",
      "The headquarter of LG Chem is located in Seoul.\n",
      "The headquarter of United Airlines is located in Chicago.\n",
      "The headquarter of The Weather Channel is located in Atlanta.\n",
      "The headquarter of {} is located in\n",
      "tensor(40.6562, device='cuda:0', dtype=torch.float16) tensor(175.3750, device='cuda:0', dtype=torch.float16)\n",
      "\n",
      "subject:  The Weather Channel\n",
      "The headquarter of United Airlines is located in Chicago.\n",
      "The headquarter of LG Chem is located in Seoul.\n",
      "The headquarter of Stelco is located in Hamilton.\n",
      "The headquarter of {} is located in\n",
      "tensor(34.6562, device='cuda:0', dtype=torch.float16) tensor(159.2500, device='cuda:0', dtype=torch.float16)\n",
      "\n"
     ]
    },
    {
     "data": {
      "application/vnd.jupyter.widget-view+json": {
       "model_id": "0399ab48bb744c3faaceb2f2da555729",
       "version_major": 2,
       "version_minor": 0
      },
      "text/plain": [
       "  0%|          | 0/5 [00:00<?, ?it/s]"
      ]
     },
     "metadata": {},
     "output_type": "display_data"
    },
    {
     "name": "stdout",
     "output_type": "stream",
     "text": [
      "subject:  SoundCloud\n",
      "The headquarter of Serono is located in Geneva.\n",
      "The headquarter of Lenovo is located in Beijing.\n",
      "The headquarter of United Airlines is located in Chicago.\n",
      "The headquarter of {} is located in\n",
      "tensor(41.8125, device='cuda:0', dtype=torch.float16) tensor(176., device='cuda:0', dtype=torch.float16)\n",
      "\n",
      "subject:  United Airlines\n",
      "The headquarter of The Weather Channel is located in Atlanta.\n",
      "The headquarter of SoundCloud is located in Berlin.\n",
      "The headquarter of Lenovo is located in Beijing.\n",
      "The headquarter of {} is located in\n",
      "tensor(38.9062, device='cuda:0', dtype=torch.float16) tensor(177.5000, device='cuda:0', dtype=torch.float16)\n",
      "\n",
      "subject:  Lenovo\n",
      "The headquarter of Serono is located in Geneva.\n",
      "The headquarter of The Weather Channel is located in Atlanta.\n",
      "The headquarter of United Airlines is located in Chicago.\n",
      "The headquarter of {} is located in\n",
      "tensor(46.3438, device='cuda:0', dtype=torch.float16) tensor(152.7500, device='cuda:0', dtype=torch.float16)\n",
      "\n",
      "subject:  Serono\n",
      "The headquarter of United Airlines is located in Chicago.\n",
      "The headquarter of The Weather Channel is located in Atlanta.\n",
      "The headquarter of SoundCloud is located in Berlin.\n",
      "The headquarter of {} is located in\n",
      "tensor(46.8438, device='cuda:0', dtype=torch.float16) tensor(147.3750, device='cuda:0', dtype=torch.float16)\n",
      "\n",
      "subject:  The Weather Channel\n",
      "The headquarter of Serono is located in Geneva.\n",
      "The headquarter of SoundCloud is located in Berlin.\n",
      "The headquarter of Lenovo is located in Beijing.\n",
      "The headquarter of {} is located in\n",
      "tensor(32.2188, device='cuda:0', dtype=torch.float16) tensor(179.6250, device='cuda:0', dtype=torch.float16)\n",
      "\n"
     ]
    },
    {
     "data": {
      "application/vnd.jupyter.widget-view+json": {
       "model_id": "e348676ffc0d4f6fa0322d51b1ec711d",
       "version_major": 2,
       "version_minor": 0
      },
      "text/plain": [
       "  0%|          | 0/5 [00:00<?, ?it/s]"
      ]
     },
     "metadata": {},
     "output_type": "display_data"
    },
    {
     "name": "stdout",
     "output_type": "stream",
     "text": [
      "subject:  LG Chem\n",
      "The headquarter of Serono is located in Geneva.\n",
      "The headquarter of United Airlines is located in Chicago.\n",
      "The headquarter of Ericsson is located in Stockholm.\n",
      "The headquarter of {} is located in\n",
      "tensor(23.0469, device='cuda:0', dtype=torch.float16) tensor(185., device='cuda:0', dtype=torch.float16)\n",
      "\n",
      "subject:  Lenovo\n",
      "The headquarter of LG Chem is located in Seoul.\n",
      "The headquarter of Ericsson is located in Stockholm.\n",
      "The headquarter of Serono is located in Geneva.\n",
      "The headquarter of {} is located in\n",
      "tensor(43.5000, device='cuda:0', dtype=torch.float16) tensor(151., device='cuda:0', dtype=torch.float16)\n",
      "\n",
      "subject:  United Airlines\n",
      "The headquarter of LG Chem is located in Seoul.\n",
      "The headquarter of Ericsson is located in Stockholm.\n",
      "The headquarter of Lenovo is located in Beijing.\n",
      "The headquarter of {} is located in\n",
      "tensor(40.8438, device='cuda:0', dtype=torch.float16) tensor(182.1250, device='cuda:0', dtype=torch.float16)\n",
      "\n",
      "subject:  Serono\n",
      "The headquarter of Lenovo is located in Beijing.\n",
      "The headquarter of LG Chem is located in Seoul.\n",
      "The headquarter of United Airlines is located in Chicago.\n",
      "The headquarter of {} is located in\n",
      "tensor(45.0312, device='cuda:0', dtype=torch.float16) tensor(150.5000, device='cuda:0', dtype=torch.float16)\n",
      "\n",
      "subject:  Ericsson\n",
      "The headquarter of Lenovo is located in Beijing.\n",
      "The headquarter of LG Chem is located in Seoul.\n",
      "The headquarter of Serono is located in Geneva.\n",
      "The headquarter of {} is located in\n",
      "tensor(34.0312, device='cuda:0', dtype=torch.float16) tensor(172.3750, device='cuda:0', dtype=torch.float16)\n",
      "\n",
      "Saving weights and biases >>  gpt-j/jacobians_averaged_collection/before__ln_f/P159.npz\n",
      "----------------------------------------------------\n",
      "zzzzzzzzzzzzzzzzzzzzzzzzzzzzzzzzzzzzzzzzzzzzzzzzzzzz\n",
      "P20 {} died in the city of\n",
      "zzzzzzzzzzzzzzzzzzzzzzzzzzzzzzzzzzzzzzzzzzzzzzzzzzzz\n",
      "144\n",
      "{} died in the city of\n"
     ]
    },
    {
     "data": {
      "application/vnd.jupyter.widget-view+json": {
       "model_id": "b80f3145a4a546b5bcefe2e9542f584d",
       "version_major": 2,
       "version_minor": 0
      },
      "text/plain": [
       "  0%|          | 0/10 [00:00<?, ?it/s]"
      ]
     },
     "metadata": {},
     "output_type": "display_data"
    },
    {
     "data": {
      "application/vnd.jupyter.widget-view+json": {
       "model_id": "0ac6e5de9ab0412ab8959c56ea7e19a6",
       "version_major": 2,
       "version_minor": 0
      },
      "text/plain": [
       "  0%|          | 0/5 [00:00<?, ?it/s]"
      ]
     },
     "metadata": {},
     "output_type": "display_data"
    },
    {
     "name": "stdout",
     "output_type": "stream",
     "text": [
      "subject:  Samuel Adams\n",
      "Rosa Parks died in the city of Detroit.\n",
      "Charles Cowper died in the city of London.\n",
      "Fred Hampton died in the city of Chicago.\n",
      "{} died in the city of\n",
      "tensor(6.4336, device='cuda:0', dtype=torch.float16) tensor(208.6250, device='cuda:0', dtype=torch.float16)\n",
      "\n",
      "subject:  Nicholas V\n",
      "Rosa Parks died in the city of Detroit.\n",
      "Charles Cowper died in the city of London.\n",
      "Fred Hampton died in the city of Chicago.\n",
      "{} died in the city of\n",
      "tensor(14.7969, device='cuda:0', dtype=torch.float16) tensor(257.2500, device='cuda:0', dtype=torch.float16)\n",
      "\n",
      "subject:  Fred Hampton\n",
      "Rosa Parks died in the city of Detroit.\n",
      "Samuel Adams died in the city of Boston.\n",
      "Nicholas V died in the city of Rome.\n",
      "{} died in the city of\n",
      "tensor(10.2969, device='cuda:0', dtype=torch.float16) tensor(167.5000, device='cuda:0', dtype=torch.float16)\n",
      "\n",
      "subject:  Rosa Parks\n",
      "Samuel Adams died in the city of Boston.\n",
      "Fred Hampton died in the city of Chicago.\n",
      "Charles Cowper died in the city of London.\n",
      "{} died in the city of\n",
      "tensor(18.4375, device='cuda:0', dtype=torch.float16) tensor(211.7500, device='cuda:0', dtype=torch.float16)\n",
      "\n",
      "subject:  Charles Cowper\n",
      "Samuel Adams died in the city of Boston.\n",
      "Nicholas V died in the city of Rome.\n",
      "Fred Hampton died in the city of Chicago.\n",
      "{} died in the city of\n",
      "tensor(10.6328, device='cuda:0', dtype=torch.float16) tensor(348., device='cuda:0', dtype=torch.float16)\n",
      "\n"
     ]
    },
    {
     "data": {
      "application/vnd.jupyter.widget-view+json": {
       "model_id": "a114f5cc9a54491fa8d2280f7d19da51",
       "version_major": 2,
       "version_minor": 0
      },
      "text/plain": [
       "  0%|          | 0/5 [00:00<?, ?it/s]"
      ]
     },
     "metadata": {},
     "output_type": "display_data"
    },
    {
     "name": "stdout",
     "output_type": "stream",
     "text": [
      "subject:  Samuel Adams\n",
      "Francisco Franco died in the city of Madrid.\n",
      "Nicholas V died in the city of Rome.\n",
      "Fred Hampton died in the city of Chicago.\n",
      "{} died in the city of\n",
      "tensor(8.9141, device='cuda:0', dtype=torch.float16) tensor(187.8750, device='cuda:0', dtype=torch.float16)\n",
      "\n",
      "subject:  Nicholas V\n",
      "Francisco Franco died in the city of Madrid.\n",
      "Fred Hampton died in the city of Chicago.\n",
      "Samuel Adams died in the city of Boston.\n",
      "{} died in the city of\n",
      "tensor(14.0156, device='cuda:0', dtype=torch.float16) tensor(223., device='cuda:0', dtype=torch.float16)\n",
      "\n",
      "subject:  Fred Hampton\n",
      "Nicholas V died in the city of Rome.\n",
      "Samuel Adams died in the city of Boston.\n",
      "Michael II died in the city of Constantinople.\n",
      "{} died in the city of\n",
      "tensor(7.8281, device='cuda:0', dtype=torch.float16) tensor(206.7500, device='cuda:0', dtype=torch.float16)\n",
      "\n",
      "subject:  Michael II\n",
      "Fred Hampton died in the city of Chicago.\n",
      "Francisco Franco died in the city of Madrid.\n",
      "Samuel Adams died in the city of Boston.\n",
      "{} died in the city of\n",
      "tensor(16.2500, device='cuda:0', dtype=torch.float16) tensor(185., device='cuda:0', dtype=torch.float16)\n",
      "\n",
      "subject:  Francisco Franco\n",
      "Michael II died in the city of Constantinople.\n",
      "Nicholas V died in the city of Rome.\n",
      "Samuel Adams died in the city of Boston.\n",
      "{} died in the city of\n",
      "tensor(4.2422, device='cuda:0', dtype=torch.float16) tensor(203.8750, device='cuda:0', dtype=torch.float16)\n",
      "\n"
     ]
    },
    {
     "data": {
      "application/vnd.jupyter.widget-view+json": {
       "model_id": "c6029d83283940759a1aeb518123d514",
       "version_major": 2,
       "version_minor": 0
      },
      "text/plain": [
       "  0%|          | 0/5 [00:00<?, ?it/s]"
      ]
     },
     "metadata": {},
     "output_type": "display_data"
    },
    {
     "name": "stdout",
     "output_type": "stream",
     "text": [
      "subject:  Charles Cowper\n",
      "Nicholas V died in the city of Rome.\n",
      "Michael II died in the city of Constantinople.\n",
      "Samuel Adams died in the city of Boston.\n",
      "{} died in the city of\n",
      "tensor(12.2891, device='cuda:0', dtype=torch.float16) tensor(312.2500, device='cuda:0', dtype=torch.float16)\n",
      "\n",
      "subject:  Samuel Adams\n",
      "Michael II died in the city of Constantinople.\n",
      "Nicholas V died in the city of Rome.\n",
      "Charles Cowper died in the city of London.\n",
      "{} died in the city of\n",
      "tensor(5.8477, device='cuda:0', dtype=torch.float16) tensor(254.7500, device='cuda:0', dtype=torch.float16)\n",
      "\n",
      "subject:  Rosa Parks\n",
      "Nicholas V died in the city of Rome.\n",
      "Michael II died in the city of Constantinople.\n",
      "Samuel Adams died in the city of Boston.\n",
      "{} died in the city of\n",
      "tensor(16.8594, device='cuda:0', dtype=torch.float16) tensor(212.1250, device='cuda:0', dtype=torch.float16)\n",
      "\n",
      "subject:  Nicholas V\n",
      "Michael II died in the city of Constantinople.\n",
      "Rosa Parks died in the city of Detroit.\n",
      "Charles Cowper died in the city of London.\n",
      "{} died in the city of\n",
      "tensor(12.7734, device='cuda:0', dtype=torch.float16) tensor(240.2500, device='cuda:0', dtype=torch.float16)\n",
      "\n",
      "subject:  Michael II\n",
      "Rosa Parks died in the city of Detroit.\n",
      "Charles Cowper died in the city of London.\n",
      "Nicholas V died in the city of Rome.\n",
      "{} died in the city of\n",
      "tensor(16., device='cuda:0', dtype=torch.float16) tensor(226.6250, device='cuda:0', dtype=torch.float16)\n",
      "\n"
     ]
    },
    {
     "data": {
      "application/vnd.jupyter.widget-view+json": {
       "model_id": "04b8a0e2654447d89f98bb0e740bdba4",
       "version_major": 2,
       "version_minor": 0
      },
      "text/plain": [
       "  0%|          | 0/5 [00:00<?, ?it/s]"
      ]
     },
     "metadata": {},
     "output_type": "display_data"
    },
    {
     "name": "stdout",
     "output_type": "stream",
     "text": [
      "subject:  Rosa Parks\n",
      "Francisco Franco died in the city of Madrid.\n",
      "Samuel Adams died in the city of Boston.\n",
      "Donatello died in the city of Florence.\n",
      "{} died in the city of\n",
      "tensor(15.7344, device='cuda:0', dtype=torch.float16) tensor(210.5000, device='cuda:0', dtype=torch.float16)\n",
      "\n",
      "subject:  Francisco Franco\n",
      "Fred Hampton died in the city of Chicago.\n",
      "Donatello died in the city of Florence.\n",
      "Rosa Parks died in the city of Detroit.\n",
      "{} died in the city of\n",
      "tensor(5.5273, device='cuda:0', dtype=torch.float16) tensor(197.5000, device='cuda:0', dtype=torch.float16)\n",
      "\n",
      "subject:  Donatello\n",
      "Fred Hampton died in the city of Chicago.\n",
      "Samuel Adams died in the city of Boston.\n",
      "Francisco Franco died in the city of Madrid.\n",
      "{} died in the city of\n",
      "tensor(8.9219, device='cuda:0', dtype=torch.float16) tensor(183.5000, device='cuda:0', dtype=torch.float16)\n",
      "\n",
      "subject:  Fred Hampton\n",
      "Samuel Adams died in the city of Boston.\n",
      "Donatello died in the city of Florence.\n",
      "Francisco Franco died in the city of Madrid.\n",
      "{} died in the city of\n",
      "tensor(9.8906, device='cuda:0', dtype=torch.float16) tensor(167.1250, device='cuda:0', dtype=torch.float16)\n",
      "\n",
      "subject:  Samuel Adams\n",
      "Donatello died in the city of Florence.\n",
      "Francisco Franco died in the city of Madrid.\n",
      "Rosa Parks died in the city of Detroit.\n",
      "{} died in the city of\n",
      "tensor(9.7422, device='cuda:0', dtype=torch.float16) tensor(184.8750, device='cuda:0', dtype=torch.float16)\n",
      "\n"
     ]
    },
    {
     "data": {
      "application/vnd.jupyter.widget-view+json": {
       "model_id": "46dc50100542494498b7d54dea30b2cb",
       "version_major": 2,
       "version_minor": 0
      },
      "text/plain": [
       "  0%|          | 0/5 [00:00<?, ?it/s]"
      ]
     },
     "metadata": {},
     "output_type": "display_data"
    },
    {
     "name": "stdout",
     "output_type": "stream",
     "text": [
      "subject:  Rosa Parks\n",
      "Fred Hampton died in the city of Chicago.\n",
      "Donatello died in the city of Florence.\n",
      "Michael II died in the city of Constantinople.\n",
      "{} died in the city of\n",
      "tensor(14.2109, device='cuda:0', dtype=torch.float16) tensor(209.8750, device='cuda:0', dtype=torch.float16)\n",
      "\n",
      "subject:  Michael II\n",
      "Rosa Parks died in the city of Detroit.\n",
      "Fred Hampton died in the city of Chicago.\n",
      "Donatello died in the city of Florence.\n",
      "{} died in the city of\n",
      "tensor(11.6875, device='cuda:0', dtype=torch.float16) tensor(233.5000, device='cuda:0', dtype=torch.float16)\n",
      "\n",
      "subject:  Donatello\n",
      "Rosa Parks died in the city of Detroit.\n",
      "Michael II died in the city of Constantinople.\n",
      "Fred Hampton died in the city of Chicago.\n",
      "{} died in the city of\n",
      "tensor(7.8047, device='cuda:0', dtype=torch.float16) tensor(250.2500, device='cuda:0', dtype=torch.float16)\n",
      "\n",
      "subject:  Charles Cowper\n",
      "Rosa Parks died in the city of Detroit.\n",
      "Fred Hampton died in the city of Chicago.\n",
      "Michael II died in the city of Constantinople.\n",
      "{} died in the city of\n",
      "tensor(7.8906, device='cuda:0', dtype=torch.float16) tensor(345.2500, device='cuda:0', dtype=torch.float16)\n",
      "\n",
      "subject:  Fred Hampton\n",
      "Rosa Parks died in the city of Detroit.\n",
      "Donatello died in the city of Florence.\n",
      "Charles Cowper died in the city of London.\n",
      "{} died in the city of\n",
      "tensor(6.8438, device='cuda:0', dtype=torch.float16) tensor(174.6250, device='cuda:0', dtype=torch.float16)\n",
      "\n"
     ]
    },
    {
     "data": {
      "application/vnd.jupyter.widget-view+json": {
       "model_id": "57e0754160f8484d95147fda9ffa7ee4",
       "version_major": 2,
       "version_minor": 0
      },
      "text/plain": [
       "  0%|          | 0/5 [00:00<?, ?it/s]"
      ]
     },
     "metadata": {},
     "output_type": "display_data"
    },
    {
     "name": "stdout",
     "output_type": "stream",
     "text": [
      "subject:  Fred Hampton\n",
      "Nicholas V died in the city of Rome.\n",
      "Rosa Parks died in the city of Detroit.\n",
      "Samuel Adams died in the city of Boston.\n",
      "{} died in the city of\n",
      "tensor(10.3359, device='cuda:0', dtype=torch.float16) tensor(167.2500, device='cuda:0', dtype=torch.float16)\n",
      "\n",
      "subject:  Samuel Adams\n",
      "Nicholas V died in the city of Rome.\n",
      "Fred Hampton died in the city of Chicago.\n",
      "Michael II died in the city of Constantinople.\n",
      "{} died in the city of\n",
      "tensor(9.4375, device='cuda:0', dtype=torch.float16) tensor(227.2500, device='cuda:0', dtype=torch.float16)\n",
      "\n",
      "subject:  Rosa Parks\n",
      "Nicholas V died in the city of Rome.\n",
      "Michael II died in the city of Constantinople.\n",
      "Fred Hampton died in the city of Chicago.\n",
      "{} died in the city of\n",
      "tensor(20.0938, device='cuda:0', dtype=torch.float16) tensor(205.5000, device='cuda:0', dtype=torch.float16)\n",
      "\n",
      "subject:  Michael II\n",
      "Fred Hampton died in the city of Chicago.\n",
      "Rosa Parks died in the city of Detroit.\n",
      "Samuel Adams died in the city of Boston.\n",
      "{} died in the city of\n",
      "tensor(14.6016, device='cuda:0', dtype=torch.float16) tensor(200.8750, device='cuda:0', dtype=torch.float16)\n",
      "\n",
      "subject:  Nicholas V\n",
      "Michael II died in the city of Constantinople.\n",
      "Rosa Parks died in the city of Detroit.\n",
      "Samuel Adams died in the city of Boston.\n",
      "{} died in the city of\n",
      "tensor(13.0469, device='cuda:0', dtype=torch.float16) tensor(222.6250, device='cuda:0', dtype=torch.float16)\n",
      "\n"
     ]
    },
    {
     "data": {
      "application/vnd.jupyter.widget-view+json": {
       "model_id": "959c1982327d4343abcca808f53183e1",
       "version_major": 2,
       "version_minor": 0
      },
      "text/plain": [
       "  0%|          | 0/5 [00:00<?, ?it/s]"
      ]
     },
     "metadata": {},
     "output_type": "display_data"
    },
    {
     "name": "stdout",
     "output_type": "stream",
     "text": [
      "subject:  Fred Hampton\n",
      "Charles Cowper died in the city of London.\n",
      "Samuel Adams died in the city of Boston.\n",
      "Donatello died in the city of Florence.\n",
      "{} died in the city of\n",
      "tensor(8., device='cuda:0', dtype=torch.float16) tensor(190.1250, device='cuda:0', dtype=torch.float16)\n",
      "\n",
      "subject:  Francisco Franco\n",
      "Fred Hampton died in the city of Chicago.\n",
      "Charles Cowper died in the city of London.\n",
      "Samuel Adams died in the city of Boston.\n",
      "{} died in the city of\n",
      "tensor(4.6250, device='cuda:0', dtype=torch.float16) tensor(213.6250, device='cuda:0', dtype=torch.float16)\n",
      "\n",
      "subject:  Samuel Adams\n",
      "Francisco Franco died in the city of Madrid.\n",
      "Charles Cowper died in the city of London.\n",
      "Fred Hampton died in the city of Chicago.\n",
      "{} died in the city of\n",
      "tensor(6.7695, device='cuda:0', dtype=torch.float16) tensor(201.6250, device='cuda:0', dtype=torch.float16)\n",
      "\n",
      "subject:  Charles Cowper\n",
      "Francisco Franco died in the city of Madrid.\n",
      "Samuel Adams died in the city of Boston.\n",
      "Donatello died in the city of Florence.\n",
      "{} died in the city of\n",
      "tensor(13.9297, device='cuda:0', dtype=torch.float16) tensor(307.7500, device='cuda:0', dtype=torch.float16)\n",
      "\n",
      "subject:  Donatello\n",
      "Charles Cowper died in the city of London.\n",
      "Fred Hampton died in the city of Chicago.\n",
      "Samuel Adams died in the city of Boston.\n",
      "{} died in the city of\n",
      "tensor(8.2422, device='cuda:0', dtype=torch.float16) tensor(257., device='cuda:0', dtype=torch.float16)\n",
      "\n"
     ]
    },
    {
     "data": {
      "application/vnd.jupyter.widget-view+json": {
       "model_id": "73b83f8b20134f91aa082c82e5b10eb2",
       "version_major": 2,
       "version_minor": 0
      },
      "text/plain": [
       "  0%|          | 0/5 [00:00<?, ?it/s]"
      ]
     },
     "metadata": {},
     "output_type": "display_data"
    },
    {
     "name": "stdout",
     "output_type": "stream",
     "text": [
      "subject:  Donatello\n",
      "Fred Hampton died in the city of Chicago.\n",
      "Nicholas V died in the city of Rome.\n",
      "Francisco Franco died in the city of Madrid.\n",
      "{} died in the city of\n",
      "tensor(8.9766, device='cuda:0', dtype=torch.float16) tensor(187.2500, device='cuda:0', dtype=torch.float16)\n",
      "\n",
      "subject:  Nicholas V\n",
      "Francisco Franco died in the city of Madrid.\n",
      "Charles Cowper died in the city of London.\n",
      "Fred Hampton died in the city of Chicago.\n",
      "{} died in the city of\n",
      "tensor(12.9062, device='cuda:0', dtype=torch.float16) tensor(263.7500, device='cuda:0', dtype=torch.float16)\n",
      "\n",
      "subject:  Charles Cowper\n",
      "Donatello died in the city of Florence.\n",
      "Nicholas V died in the city of Rome.\n",
      "Francisco Franco died in the city of Madrid.\n",
      "{} died in the city of\n",
      "tensor(19.8594, device='cuda:0', dtype=torch.float16) tensor(274., device='cuda:0', dtype=torch.float16)\n",
      "\n",
      "subject:  Fred Hampton\n",
      "Donatello died in the city of Florence.\n",
      "Charles Cowper died in the city of London.\n",
      "Francisco Franco died in the city of Madrid.\n",
      "{} died in the city of\n",
      "tensor(8.8984, device='cuda:0', dtype=torch.float16) tensor(170.6250, device='cuda:0', dtype=torch.float16)\n",
      "\n",
      "subject:  Francisco Franco\n",
      "Charles Cowper died in the city of London.\n",
      "Donatello died in the city of Florence.\n",
      "Nicholas V died in the city of Rome.\n",
      "{} died in the city of\n",
      "tensor(4.6953, device='cuda:0', dtype=torch.float16) tensor(209.5000, device='cuda:0', dtype=torch.float16)\n",
      "\n"
     ]
    },
    {
     "data": {
      "application/vnd.jupyter.widget-view+json": {
       "model_id": "328a344247be4002b79fbf665eba05d5",
       "version_major": 2,
       "version_minor": 0
      },
      "text/plain": [
       "  0%|          | 0/5 [00:00<?, ?it/s]"
      ]
     },
     "metadata": {},
     "output_type": "display_data"
    },
    {
     "name": "stdout",
     "output_type": "stream",
     "text": [
      "subject:  Nicholas V\n",
      "Samuel Adams died in the city of Boston.\n",
      "Charles Cowper died in the city of London.\n",
      "Rosa Parks died in the city of Detroit.\n",
      "{} died in the city of\n",
      "tensor(15.4531, device='cuda:0', dtype=torch.float16) tensor(226.8750, device='cuda:0', dtype=torch.float16)\n",
      "\n",
      "subject:  Rosa Parks\n",
      "Donatello died in the city of Florence.\n",
      "Charles Cowper died in the city of London.\n",
      "Samuel Adams died in the city of Boston.\n",
      "{} died in the city of\n",
      "tensor(17.3438, device='cuda:0', dtype=torch.float16) tensor(211.7500, device='cuda:0', dtype=torch.float16)\n",
      "\n",
      "subject:  Charles Cowper\n",
      "Nicholas V died in the city of Rome.\n",
      "Samuel Adams died in the city of Boston.\n",
      "Donatello died in the city of Florence.\n",
      "{} died in the city of\n",
      "tensor(13.0469, device='cuda:0', dtype=torch.float16) tensor(298.5000, device='cuda:0', dtype=torch.float16)\n",
      "\n",
      "subject:  Donatello\n",
      "Nicholas V died in the city of Rome.\n",
      "Charles Cowper died in the city of London.\n",
      "Samuel Adams died in the city of Boston.\n",
      "{} died in the city of\n",
      "tensor(10.2344, device='cuda:0', dtype=torch.float16) tensor(209.6250, device='cuda:0', dtype=torch.float16)\n",
      "\n",
      "subject:  Samuel Adams\n",
      "Donatello died in the city of Florence.\n",
      "Nicholas V died in the city of Rome.\n",
      "Rosa Parks died in the city of Detroit.\n",
      "{} died in the city of\n",
      "tensor(8.7656, device='cuda:0', dtype=torch.float16) tensor(178.2500, device='cuda:0', dtype=torch.float16)\n",
      "\n"
     ]
    },
    {
     "data": {
      "application/vnd.jupyter.widget-view+json": {
       "model_id": "6a8e535df55a43fe9f4aec9b0cf72581",
       "version_major": 2,
       "version_minor": 0
      },
      "text/plain": [
       "  0%|          | 0/5 [00:00<?, ?it/s]"
      ]
     },
     "metadata": {},
     "output_type": "display_data"
    },
    {
     "name": "stdout",
     "output_type": "stream",
     "text": [
      "subject:  Nicholas V\n",
      "Rosa Parks died in the city of Detroit.\n",
      "Francisco Franco died in the city of Madrid.\n",
      "Samuel Adams died in the city of Boston.\n",
      "{} died in the city of\n",
      "tensor(14.3750, device='cuda:0', dtype=torch.float16) tensor(194.8750, device='cuda:0', dtype=torch.float16)\n",
      "\n",
      "subject:  Donatello\n",
      "Samuel Adams died in the city of Boston.\n",
      "Nicholas V died in the city of Rome.\n",
      "Francisco Franco died in the city of Madrid.\n",
      "{} died in the city of\n",
      "tensor(8.7422, device='cuda:0', dtype=torch.float16) tensor(188., device='cuda:0', dtype=torch.float16)\n",
      "\n",
      "subject:  Samuel Adams\n",
      "Rosa Parks died in the city of Detroit.\n",
      "Nicholas V died in the city of Rome.\n",
      "Francisco Franco died in the city of Madrid.\n",
      "{} died in the city of\n",
      "tensor(9.1094, device='cuda:0', dtype=torch.float16) tensor(188.3750, device='cuda:0', dtype=torch.float16)\n",
      "\n",
      "subject:  Rosa Parks\n",
      "Samuel Adams died in the city of Boston.\n",
      "Nicholas V died in the city of Rome.\n",
      "Francisco Franco died in the city of Madrid.\n",
      "{} died in the city of\n",
      "tensor(18.6719, device='cuda:0', dtype=torch.float16) tensor(201.8750, device='cuda:0', dtype=torch.float16)\n",
      "\n",
      "subject:  Francisco Franco\n",
      "Rosa Parks died in the city of Detroit.\n",
      "Donatello died in the city of Florence.\n",
      "Samuel Adams died in the city of Boston.\n",
      "{} died in the city of\n",
      "tensor(5.6406, device='cuda:0', dtype=torch.float16) tensor(195.6250, device='cuda:0', dtype=torch.float16)\n",
      "\n",
      "Saving weights and biases >>  gpt-j/jacobians_averaged_collection/before__ln_f/P20.npz\n",
      "----------------------------------------------------\n",
      "zzzzzzzzzzzzzzzzzzzzzzzzzzzzzzzzzzzzzzzzzzzzzzzzzzzz\n",
      "P106 The profession of {} is\n",
      "zzzzzzzzzzzzzzzzzzzzzzzzzzzzzzzzzzzzzzzzzzzzzzzzzzzz\n",
      "233\n",
      "The profession of {} is\n"
     ]
    },
    {
     "data": {
      "application/vnd.jupyter.widget-view+json": {
       "model_id": "06a478e4e0354064841b127f6d7da8f9",
       "version_major": 2,
       "version_minor": 0
      },
      "text/plain": [
       "  0%|          | 0/10 [00:00<?, ?it/s]"
      ]
     },
     "metadata": {},
     "output_type": "display_data"
    },
    {
     "data": {
      "application/vnd.jupyter.widget-view+json": {
       "model_id": "01e9f6774f30491b9d6ca02998e5bc9f",
       "version_major": 2,
       "version_minor": 0
      },
      "text/plain": [
       "  0%|          | 0/2 [00:00<?, ?it/s]"
      ]
     },
     "metadata": {},
     "output_type": "display_data"
    },
    {
     "name": "stdout",
     "output_type": "stream",
     "text": [
      "subject:  Cigoli\n",
      "The profession of Lucha Villa is actor.\n",
      "The profession of {} is\n",
      "tensor(4.8359, device='cuda:0', dtype=torch.float16) tensor(416.2500, device='cuda:0', dtype=torch.float16)\n",
      "\n",
      "subject:  Lucha Villa\n",
      "The profession of Cigoli is architect.\n",
      "The profession of {} is\n",
      "tensor(1.9912, device='cuda:0', dtype=torch.float16) tensor(418.2500, device='cuda:0', dtype=torch.float16)\n",
      "\n"
     ]
    },
    {
     "data": {
      "application/vnd.jupyter.widget-view+json": {
       "model_id": "3a94cc9f77bd4810bd28608836f5596b",
       "version_major": 2,
       "version_minor": 0
      },
      "text/plain": [
       "  0%|          | 0/2 [00:00<?, ?it/s]"
      ]
     },
     "metadata": {},
     "output_type": "display_data"
    },
    {
     "name": "stdout",
     "output_type": "stream",
     "text": [
      "subject:  Cigoli\n",
      "The profession of Lucha Villa is actor.\n",
      "The profession of {} is\n",
      "tensor(4.8359, device='cuda:0', dtype=torch.float16) tensor(416.2500, device='cuda:0', dtype=torch.float16)\n",
      "\n",
      "subject:  Lucha Villa\n",
      "The profession of Cigoli is architect.\n",
      "The profession of {} is\n",
      "tensor(1.9912, device='cuda:0', dtype=torch.float16) tensor(418.2500, device='cuda:0', dtype=torch.float16)\n",
      "\n"
     ]
    },
    {
     "data": {
      "application/vnd.jupyter.widget-view+json": {
       "model_id": "9d0ebee20b794a2ab4a9c614619f7cf4",
       "version_major": 2,
       "version_minor": 0
      },
      "text/plain": [
       "  0%|          | 0/2 [00:00<?, ?it/s]"
      ]
     },
     "metadata": {},
     "output_type": "display_data"
    },
    {
     "name": "stdout",
     "output_type": "stream",
     "text": [
      "subject:  Lucha Villa\n",
      "The profession of Cigoli is architect.\n",
      "The profession of {} is\n",
      "tensor(1.9912, device='cuda:0', dtype=torch.float16) tensor(418.2500, device='cuda:0', dtype=torch.float16)\n",
      "\n",
      "subject:  Cigoli\n",
      "The profession of Lucha Villa is actor.\n",
      "The profession of {} is\n",
      "tensor(4.8359, device='cuda:0', dtype=torch.float16) tensor(416.2500, device='cuda:0', dtype=torch.float16)\n",
      "\n"
     ]
    },
    {
     "data": {
      "application/vnd.jupyter.widget-view+json": {
       "model_id": "081f1e65632342a8b29ba6d518edf9a5",
       "version_major": 2,
       "version_minor": 0
      },
      "text/plain": [
       "  0%|          | 0/2 [00:00<?, ?it/s]"
      ]
     },
     "metadata": {},
     "output_type": "display_data"
    },
    {
     "name": "stdout",
     "output_type": "stream",
     "text": [
      "subject:  Cigoli\n",
      "The profession of Lucha Villa is actor.\n",
      "The profession of {} is\n",
      "tensor(4.8359, device='cuda:0', dtype=torch.float16) tensor(416.2500, device='cuda:0', dtype=torch.float16)\n",
      "\n",
      "subject:  Lucha Villa\n",
      "The profession of Cigoli is architect.\n",
      "The profession of {} is\n",
      "tensor(1.9912, device='cuda:0', dtype=torch.float16) tensor(418.2500, device='cuda:0', dtype=torch.float16)\n",
      "\n"
     ]
    },
    {
     "data": {
      "application/vnd.jupyter.widget-view+json": {
       "model_id": "1f86093d749a4de0b2abb3bf841598dc",
       "version_major": 2,
       "version_minor": 0
      },
      "text/plain": [
       "  0%|          | 0/2 [00:00<?, ?it/s]"
      ]
     },
     "metadata": {},
     "output_type": "display_data"
    },
    {
     "name": "stdout",
     "output_type": "stream",
     "text": [
      "subject:  Lucha Villa\n",
      "The profession of Cigoli is architect.\n",
      "The profession of {} is\n",
      "tensor(1.9912, device='cuda:0', dtype=torch.float16) tensor(418.2500, device='cuda:0', dtype=torch.float16)\n",
      "\n",
      "subject:  Cigoli\n",
      "The profession of Lucha Villa is actor.\n",
      "The profession of {} is\n",
      "tensor(4.8359, device='cuda:0', dtype=torch.float16) tensor(416.2500, device='cuda:0', dtype=torch.float16)\n",
      "\n"
     ]
    },
    {
     "data": {
      "application/vnd.jupyter.widget-view+json": {
       "model_id": "9172c93865d245409498315fa4fb0110",
       "version_major": 2,
       "version_minor": 0
      },
      "text/plain": [
       "  0%|          | 0/2 [00:00<?, ?it/s]"
      ]
     },
     "metadata": {},
     "output_type": "display_data"
    },
    {
     "name": "stdout",
     "output_type": "stream",
     "text": [
      "subject:  Cigoli\n",
      "The profession of Lucha Villa is actor.\n",
      "The profession of {} is\n",
      "tensor(4.8359, device='cuda:0', dtype=torch.float16) tensor(416.2500, device='cuda:0', dtype=torch.float16)\n",
      "\n",
      "subject:  Lucha Villa\n",
      "The profession of Cigoli is architect.\n",
      "The profession of {} is\n",
      "tensor(1.9912, device='cuda:0', dtype=torch.float16) tensor(418.2500, device='cuda:0', dtype=torch.float16)\n",
      "\n"
     ]
    },
    {
     "data": {
      "application/vnd.jupyter.widget-view+json": {
       "model_id": "b675739285a84043bbea17a0137f9d89",
       "version_major": 2,
       "version_minor": 0
      },
      "text/plain": [
       "  0%|          | 0/2 [00:00<?, ?it/s]"
      ]
     },
     "metadata": {},
     "output_type": "display_data"
    },
    {
     "name": "stdout",
     "output_type": "stream",
     "text": [
      "subject:  Lucha Villa\n",
      "The profession of Cigoli is architect.\n",
      "The profession of {} is\n",
      "tensor(1.9912, device='cuda:0', dtype=torch.float16) tensor(418.2500, device='cuda:0', dtype=torch.float16)\n",
      "\n",
      "subject:  Cigoli\n",
      "The profession of Lucha Villa is actor.\n",
      "The profession of {} is\n",
      "tensor(4.8359, device='cuda:0', dtype=torch.float16) tensor(416.2500, device='cuda:0', dtype=torch.float16)\n",
      "\n"
     ]
    },
    {
     "data": {
      "application/vnd.jupyter.widget-view+json": {
       "model_id": "77430075c30c4434ad309c410d77c202",
       "version_major": 2,
       "version_minor": 0
      },
      "text/plain": [
       "  0%|          | 0/2 [00:00<?, ?it/s]"
      ]
     },
     "metadata": {},
     "output_type": "display_data"
    },
    {
     "name": "stdout",
     "output_type": "stream",
     "text": [
      "subject:  Cigoli\n",
      "The profession of Lucha Villa is actor.\n",
      "The profession of {} is\n",
      "tensor(4.8359, device='cuda:0', dtype=torch.float16) tensor(416.2500, device='cuda:0', dtype=torch.float16)\n",
      "\n",
      "subject:  Lucha Villa\n",
      "The profession of Cigoli is architect.\n",
      "The profession of {} is\n",
      "tensor(1.9912, device='cuda:0', dtype=torch.float16) tensor(418.2500, device='cuda:0', dtype=torch.float16)\n",
      "\n"
     ]
    },
    {
     "data": {
      "application/vnd.jupyter.widget-view+json": {
       "model_id": "0230f07bdb0341138606ccb906de8066",
       "version_major": 2,
       "version_minor": 0
      },
      "text/plain": [
       "  0%|          | 0/2 [00:00<?, ?it/s]"
      ]
     },
     "metadata": {},
     "output_type": "display_data"
    },
    {
     "name": "stdout",
     "output_type": "stream",
     "text": [
      "subject:  Lucha Villa\n",
      "The profession of Cigoli is architect.\n",
      "The profession of {} is\n",
      "tensor(1.9912, device='cuda:0', dtype=torch.float16) tensor(418.2500, device='cuda:0', dtype=torch.float16)\n",
      "\n",
      "subject:  Cigoli\n",
      "The profession of Lucha Villa is actor.\n",
      "The profession of {} is\n",
      "tensor(4.8359, device='cuda:0', dtype=torch.float16) tensor(416.2500, device='cuda:0', dtype=torch.float16)\n",
      "\n"
     ]
    },
    {
     "data": {
      "application/vnd.jupyter.widget-view+json": {
       "model_id": "39858a18917147129099ad1166864f98",
       "version_major": 2,
       "version_minor": 0
      },
      "text/plain": [
       "  0%|          | 0/2 [00:00<?, ?it/s]"
      ]
     },
     "metadata": {},
     "output_type": "display_data"
    },
    {
     "name": "stdout",
     "output_type": "stream",
     "text": [
      "subject:  Cigoli\n",
      "The profession of Lucha Villa is actor.\n",
      "The profession of {} is\n",
      "tensor(4.8359, device='cuda:0', dtype=torch.float16) tensor(416.2500, device='cuda:0', dtype=torch.float16)\n",
      "\n",
      "subject:  Lucha Villa\n",
      "The profession of Cigoli is architect.\n",
      "The profession of {} is\n",
      "tensor(1.9912, device='cuda:0', dtype=torch.float16) tensor(418.2500, device='cuda:0', dtype=torch.float16)\n",
      "\n",
      "Saving weights and biases >>  gpt-j/jacobians_averaged_collection/before__ln_f/P106.npz\n",
      "----------------------------------------------------\n",
      "zzzzzzzzzzzzzzzzzzzzzzzzzzzzzzzzzzzzzzzzzzzzzzzzzzzz\n",
      "P30 {} is located in the continent of\n",
      "zzzzzzzzzzzzzzzzzzzzzzzzzzzzzzzzzzzzzzzzzzzzzzzzzzzz\n",
      "456\n",
      "{} is located in the continent of\n"
     ]
    },
    {
     "data": {
      "application/vnd.jupyter.widget-view+json": {
       "model_id": "90491f902d4349768ab7f7d672fef49c",
       "version_major": 2,
       "version_minor": 0
      },
      "text/plain": [
       "  0%|          | 0/10 [00:00<?, ?it/s]"
      ]
     },
     "metadata": {},
     "output_type": "display_data"
    },
    {
     "data": {
      "application/vnd.jupyter.widget-view+json": {
       "model_id": "1ff6d2246fb14b38b70f2e918b7d485b",
       "version_major": 2,
       "version_minor": 0
      },
      "text/plain": [
       "  0%|          | 0/4 [00:00<?, ?it/s]"
      ]
     },
     "metadata": {},
     "output_type": "display_data"
    },
    {
     "name": "stdout",
     "output_type": "stream",
     "text": [
      "subject:  Chad Basin\n",
      "Ma River is located in the continent of Asia.\n",
      "Romulus Glacier is located in the continent of Antarctica.\n",
      "English Channel is located in the continent of Europe.\n",
      "{} is located in the continent of\n",
      "tensor(23.7500, device='cuda:0', dtype=torch.float16) tensor(227.1250, device='cuda:0', dtype=torch.float16)\n",
      "\n",
      "subject:  Romulus Glacier\n",
      "English Channel is located in the continent of Europe.\n",
      "Ma River is located in the continent of Asia.\n",
      "Chad Basin is located in the continent of Africa.\n",
      "{} is located in the continent of\n",
      "tensor(7.6562, device='cuda:0', dtype=torch.float16) tensor(285.5000, device='cuda:0', dtype=torch.float16)\n",
      "\n",
      "subject:  English Channel\n",
      "Romulus Glacier is located in the continent of Antarctica.\n",
      "Chad Basin is located in the continent of Africa.\n",
      "Ma River is located in the continent of Asia.\n",
      "{} is located in the continent of\n",
      "tensor(7.9727, device='cuda:0', dtype=torch.float16) tensor(254.6250, device='cuda:0', dtype=torch.float16)\n",
      "\n",
      "subject:  Ma River\n",
      "Romulus Glacier is located in the continent of Antarctica.\n",
      "English Channel is located in the continent of Europe.\n",
      "Chad Basin is located in the continent of Africa.\n",
      "{} is located in the continent of\n",
      "tensor(8.6719, device='cuda:0', dtype=torch.float16) tensor(242.8750, device='cuda:0', dtype=torch.float16)\n",
      "\n"
     ]
    },
    {
     "data": {
      "application/vnd.jupyter.widget-view+json": {
       "model_id": "9fc2bb03a41f486eb62fb0bc469a729b",
       "version_major": 2,
       "version_minor": 0
      },
      "text/plain": [
       "  0%|          | 0/4 [00:00<?, ?it/s]"
      ]
     },
     "metadata": {},
     "output_type": "display_data"
    },
    {
     "name": "stdout",
     "output_type": "stream",
     "text": [
      "subject:  English Channel\n",
      "Chad Basin is located in the continent of Africa.\n",
      "Romulus Glacier is located in the continent of Antarctica.\n",
      "Ma River is located in the continent of Asia.\n",
      "{} is located in the continent of\n",
      "tensor(5.9688, device='cuda:0', dtype=torch.float16) tensor(245.1250, device='cuda:0', dtype=torch.float16)\n",
      "\n",
      "subject:  Ma River\n",
      "Romulus Glacier is located in the continent of Antarctica.\n",
      "Chad Basin is located in the continent of Africa.\n",
      "English Channel is located in the continent of Europe.\n",
      "{} is located in the continent of\n",
      "tensor(8.1094, device='cuda:0', dtype=torch.float16) tensor(258.2500, device='cuda:0', dtype=torch.float16)\n",
      "\n",
      "subject:  Romulus Glacier\n",
      "English Channel is located in the continent of Europe.\n",
      "Ma River is located in the continent of Asia.\n",
      "Chad Basin is located in the continent of Africa.\n",
      "{} is located in the continent of\n",
      "tensor(7.6562, device='cuda:0', dtype=torch.float16) tensor(285.5000, device='cuda:0', dtype=torch.float16)\n",
      "\n",
      "subject:  Chad Basin\n",
      "English Channel is located in the continent of Europe.\n",
      "Ma River is located in the continent of Asia.\n",
      "Romulus Glacier is located in the continent of Antarctica.\n",
      "{} is located in the continent of\n",
      "tensor(17.0625, device='cuda:0', dtype=torch.float16) tensor(273.5000, device='cuda:0', dtype=torch.float16)\n",
      "\n"
     ]
    },
    {
     "data": {
      "application/vnd.jupyter.widget-view+json": {
       "model_id": "4ac818568392411f9b634e1e84bd69d1",
       "version_major": 2,
       "version_minor": 0
      },
      "text/plain": [
       "  0%|          | 0/4 [00:00<?, ?it/s]"
      ]
     },
     "metadata": {},
     "output_type": "display_data"
    },
    {
     "name": "stdout",
     "output_type": "stream",
     "text": [
      "subject:  Chad Basin\n",
      "Romulus Glacier is located in the continent of Antarctica.\n",
      "English Channel is located in the continent of Europe.\n",
      "Ma River is located in the continent of Asia.\n",
      "{} is located in the continent of\n",
      "tensor(21.2969, device='cuda:0', dtype=torch.float16) tensor(252., device='cuda:0', dtype=torch.float16)\n",
      "\n",
      "subject:  Ma River\n",
      "Chad Basin is located in the continent of Africa.\n",
      "Romulus Glacier is located in the continent of Antarctica.\n",
      "English Channel is located in the continent of Europe.\n",
      "{} is located in the continent of\n",
      "tensor(7.1055, device='cuda:0', dtype=torch.float16) tensor(261.5000, device='cuda:0', dtype=torch.float16)\n",
      "\n",
      "subject:  English Channel\n",
      "Chad Basin is located in the continent of Africa.\n",
      "Romulus Glacier is located in the continent of Antarctica.\n",
      "Ma River is located in the continent of Asia.\n",
      "{} is located in the continent of\n",
      "tensor(5.9688, device='cuda:0', dtype=torch.float16) tensor(245.1250, device='cuda:0', dtype=torch.float16)\n",
      "\n",
      "subject:  Romulus Glacier\n",
      "Chad Basin is located in the continent of Africa.\n",
      "Ma River is located in the continent of Asia.\n",
      "English Channel is located in the continent of Europe.\n",
      "{} is located in the continent of\n",
      "tensor(7.8711, device='cuda:0', dtype=torch.float16) tensor(262.5000, device='cuda:0', dtype=torch.float16)\n",
      "\n"
     ]
    },
    {
     "data": {
      "application/vnd.jupyter.widget-view+json": {
       "model_id": "2c14221f6e024f44a270a6e57a133ffd",
       "version_major": 2,
       "version_minor": 0
      },
      "text/plain": [
       "  0%|          | 0/4 [00:00<?, ?it/s]"
      ]
     },
     "metadata": {},
     "output_type": "display_data"
    },
    {
     "name": "stdout",
     "output_type": "stream",
     "text": [
      "subject:  Romulus Glacier\n",
      "Chad Basin is located in the continent of Africa.\n",
      "English Channel is located in the continent of Europe.\n",
      "Ma River is located in the continent of Asia.\n",
      "{} is located in the continent of\n",
      "tensor(7.4844, device='cuda:0', dtype=torch.float16) tensor(276.5000, device='cuda:0', dtype=torch.float16)\n",
      "\n",
      "subject:  Chad Basin\n",
      "Ma River is located in the continent of Asia.\n",
      "English Channel is located in the continent of Europe.\n",
      "Romulus Glacier is located in the continent of Antarctica.\n",
      "{} is located in the continent of\n",
      "tensor(20.3906, device='cuda:0', dtype=torch.float16) tensor(244., device='cuda:0', dtype=torch.float16)\n",
      "\n",
      "subject:  English Channel\n",
      "Chad Basin is located in the continent of Africa.\n",
      "Ma River is located in the continent of Asia.\n",
      "Romulus Glacier is located in the continent of Antarctica.\n",
      "{} is located in the continent of\n",
      "tensor(5.8398, device='cuda:0', dtype=torch.float16) tensor(249.5000, device='cuda:0', dtype=torch.float16)\n",
      "\n",
      "subject:  Ma River\n",
      "Romulus Glacier is located in the continent of Antarctica.\n",
      "English Channel is located in the continent of Europe.\n",
      "Chad Basin is located in the continent of Africa.\n",
      "{} is located in the continent of\n",
      "tensor(8.6719, device='cuda:0', dtype=torch.float16) tensor(242.8750, device='cuda:0', dtype=torch.float16)\n",
      "\n"
     ]
    },
    {
     "data": {
      "application/vnd.jupyter.widget-view+json": {
       "model_id": "d2bb298b222c44a2b666a722fd1afe3b",
       "version_major": 2,
       "version_minor": 0
      },
      "text/plain": [
       "  0%|          | 0/4 [00:00<?, ?it/s]"
      ]
     },
     "metadata": {},
     "output_type": "display_data"
    },
    {
     "name": "stdout",
     "output_type": "stream",
     "text": [
      "subject:  Chad Basin\n",
      "English Channel is located in the continent of Europe.\n",
      "Ma River is located in the continent of Asia.\n",
      "Romulus Glacier is located in the continent of Antarctica.\n",
      "{} is located in the continent of\n",
      "tensor(17.0625, device='cuda:0', dtype=torch.float16) tensor(273.5000, device='cuda:0', dtype=torch.float16)\n",
      "\n",
      "subject:  English Channel\n",
      "Romulus Glacier is located in the continent of Antarctica.\n",
      "Chad Basin is located in the continent of Africa.\n",
      "Ma River is located in the continent of Asia.\n",
      "{} is located in the continent of\n",
      "tensor(7.9727, device='cuda:0', dtype=torch.float16) tensor(254.6250, device='cuda:0', dtype=torch.float16)\n",
      "\n",
      "subject:  Romulus Glacier\n",
      "English Channel is located in the continent of Europe.\n",
      "Ma River is located in the continent of Asia.\n",
      "Chad Basin is located in the continent of Africa.\n",
      "{} is located in the continent of\n",
      "tensor(7.6562, device='cuda:0', dtype=torch.float16) tensor(285.5000, device='cuda:0', dtype=torch.float16)\n",
      "\n",
      "subject:  Ma River\n",
      "English Channel is located in the continent of Europe.\n",
      "Romulus Glacier is located in the continent of Antarctica.\n",
      "Chad Basin is located in the continent of Africa.\n",
      "{} is located in the continent of\n",
      "tensor(8.1484, device='cuda:0', dtype=torch.float16) tensor(263.5000, device='cuda:0', dtype=torch.float16)\n",
      "\n"
     ]
    },
    {
     "data": {
      "application/vnd.jupyter.widget-view+json": {
       "model_id": "58d10fdde92f43e1b0a30f1112daa539",
       "version_major": 2,
       "version_minor": 0
      },
      "text/plain": [
       "  0%|          | 0/4 [00:00<?, ?it/s]"
      ]
     },
     "metadata": {},
     "output_type": "display_data"
    },
    {
     "name": "stdout",
     "output_type": "stream",
     "text": [
      "subject:  Ma River\n",
      "Chad Basin is located in the continent of Africa.\n",
      "English Channel is located in the continent of Europe.\n",
      "Romulus Glacier is located in the continent of Antarctica.\n",
      "{} is located in the continent of\n",
      "tensor(6.8789, device='cuda:0', dtype=torch.float16) tensor(263.7500, device='cuda:0', dtype=torch.float16)\n",
      "\n",
      "subject:  English Channel\n",
      "Romulus Glacier is located in the continent of Antarctica.\n",
      "Ma River is located in the continent of Asia.\n",
      "Chad Basin is located in the continent of Africa.\n",
      "{} is located in the continent of\n",
      "tensor(7.5742, device='cuda:0', dtype=torch.float16) tensor(265.7500, device='cuda:0', dtype=torch.float16)\n",
      "\n",
      "subject:  Chad Basin\n",
      "Romulus Glacier is located in the continent of Antarctica.\n",
      "English Channel is located in the continent of Europe.\n",
      "Ma River is located in the continent of Asia.\n",
      "{} is located in the continent of\n",
      "tensor(21.2969, device='cuda:0', dtype=torch.float16) tensor(252., device='cuda:0', dtype=torch.float16)\n",
      "\n",
      "subject:  Romulus Glacier\n",
      "Chad Basin is located in the continent of Africa.\n",
      "Ma River is located in the continent of Asia.\n",
      "English Channel is located in the continent of Europe.\n",
      "{} is located in the continent of\n",
      "tensor(7.8711, device='cuda:0', dtype=torch.float16) tensor(262.5000, device='cuda:0', dtype=torch.float16)\n",
      "\n"
     ]
    },
    {
     "data": {
      "application/vnd.jupyter.widget-view+json": {
       "model_id": "39fc55207cae4daa9217a7a87c3e372a",
       "version_major": 2,
       "version_minor": 0
      },
      "text/plain": [
       "  0%|          | 0/4 [00:00<?, ?it/s]"
      ]
     },
     "metadata": {},
     "output_type": "display_data"
    },
    {
     "name": "stdout",
     "output_type": "stream",
     "text": [
      "subject:  Chad Basin\n",
      "Ma River is located in the continent of Asia.\n",
      "Romulus Glacier is located in the continent of Antarctica.\n",
      "English Channel is located in the continent of Europe.\n",
      "{} is located in the continent of\n",
      "tensor(23.7500, device='cuda:0', dtype=torch.float16) tensor(227.1250, device='cuda:0', dtype=torch.float16)\n",
      "\n",
      "subject:  English Channel\n",
      "Romulus Glacier is located in the continent of Antarctica.\n",
      "Ma River is located in the continent of Asia.\n",
      "Chad Basin is located in the continent of Africa.\n",
      "{} is located in the continent of\n",
      "tensor(7.5742, device='cuda:0', dtype=torch.float16) tensor(265.7500, device='cuda:0', dtype=torch.float16)\n",
      "\n",
      "subject:  Romulus Glacier\n",
      "English Channel is located in the continent of Europe.\n",
      "Ma River is located in the continent of Asia.\n",
      "Chad Basin is located in the continent of Africa.\n",
      "{} is located in the continent of\n",
      "tensor(7.6562, device='cuda:0', dtype=torch.float16) tensor(285.5000, device='cuda:0', dtype=torch.float16)\n",
      "\n",
      "subject:  Ma River\n",
      "Chad Basin is located in the continent of Africa.\n",
      "Romulus Glacier is located in the continent of Antarctica.\n",
      "English Channel is located in the continent of Europe.\n",
      "{} is located in the continent of\n",
      "tensor(7.1055, device='cuda:0', dtype=torch.float16) tensor(261.5000, device='cuda:0', dtype=torch.float16)\n",
      "\n"
     ]
    },
    {
     "data": {
      "application/vnd.jupyter.widget-view+json": {
       "model_id": "8d023118f890477cbe4361c4d20b0fbf",
       "version_major": 2,
       "version_minor": 0
      },
      "text/plain": [
       "  0%|          | 0/4 [00:00<?, ?it/s]"
      ]
     },
     "metadata": {},
     "output_type": "display_data"
    },
    {
     "name": "stdout",
     "output_type": "stream",
     "text": [
      "subject:  Chad Basin\n",
      "Romulus Glacier is located in the continent of Antarctica.\n",
      "English Channel is located in the continent of Europe.\n",
      "Ma River is located in the continent of Asia.\n",
      "{} is located in the continent of\n",
      "tensor(21.2969, device='cuda:0', dtype=torch.float16) tensor(252., device='cuda:0', dtype=torch.float16)\n",
      "\n",
      "subject:  English Channel\n",
      "Chad Basin is located in the continent of Africa.\n",
      "Romulus Glacier is located in the continent of Antarctica.\n",
      "Ma River is located in the continent of Asia.\n",
      "{} is located in the continent of\n",
      "tensor(5.9688, device='cuda:0', dtype=torch.float16) tensor(245.1250, device='cuda:0', dtype=torch.float16)\n",
      "\n",
      "subject:  Romulus Glacier\n",
      "Chad Basin is located in the continent of Africa.\n",
      "Ma River is located in the continent of Asia.\n",
      "English Channel is located in the continent of Europe.\n",
      "{} is located in the continent of\n",
      "tensor(7.8711, device='cuda:0', dtype=torch.float16) tensor(262.5000, device='cuda:0', dtype=torch.float16)\n",
      "\n",
      "subject:  Ma River\n",
      "Chad Basin is located in the continent of Africa.\n",
      "Romulus Glacier is located in the continent of Antarctica.\n",
      "English Channel is located in the continent of Europe.\n",
      "{} is located in the continent of\n",
      "tensor(7.1055, device='cuda:0', dtype=torch.float16) tensor(261.5000, device='cuda:0', dtype=torch.float16)\n",
      "\n"
     ]
    },
    {
     "data": {
      "application/vnd.jupyter.widget-view+json": {
       "model_id": "e7614b523b42497f9e69b00081c21325",
       "version_major": 2,
       "version_minor": 0
      },
      "text/plain": [
       "  0%|          | 0/4 [00:00<?, ?it/s]"
      ]
     },
     "metadata": {},
     "output_type": "display_data"
    },
    {
     "name": "stdout",
     "output_type": "stream",
     "text": [
      "subject:  English Channel\n",
      "Romulus Glacier is located in the continent of Antarctica.\n",
      "Ma River is located in the continent of Asia.\n",
      "Chad Basin is located in the continent of Africa.\n",
      "{} is located in the continent of\n",
      "tensor(7.5742, device='cuda:0', dtype=torch.float16) tensor(265.7500, device='cuda:0', dtype=torch.float16)\n",
      "\n",
      "subject:  Romulus Glacier\n",
      "Chad Basin is located in the continent of Africa.\n",
      "English Channel is located in the continent of Europe.\n",
      "Ma River is located in the continent of Asia.\n",
      "{} is located in the continent of\n",
      "tensor(7.4844, device='cuda:0', dtype=torch.float16) tensor(276.5000, device='cuda:0', dtype=torch.float16)\n",
      "\n",
      "subject:  Chad Basin\n",
      "Romulus Glacier is located in the continent of Antarctica.\n",
      "English Channel is located in the continent of Europe.\n",
      "Ma River is located in the continent of Asia.\n",
      "{} is located in the continent of\n",
      "tensor(21.2969, device='cuda:0', dtype=torch.float16) tensor(252., device='cuda:0', dtype=torch.float16)\n",
      "\n",
      "subject:  Ma River\n",
      "Romulus Glacier is located in the continent of Antarctica.\n",
      "Chad Basin is located in the continent of Africa.\n",
      "English Channel is located in the continent of Europe.\n",
      "{} is located in the continent of\n",
      "tensor(8.1094, device='cuda:0', dtype=torch.float16) tensor(258.2500, device='cuda:0', dtype=torch.float16)\n",
      "\n"
     ]
    },
    {
     "data": {
      "application/vnd.jupyter.widget-view+json": {
       "model_id": "4da732837fd546a49a2a1508f6cb1137",
       "version_major": 2,
       "version_minor": 0
      },
      "text/plain": [
       "  0%|          | 0/4 [00:00<?, ?it/s]"
      ]
     },
     "metadata": {},
     "output_type": "display_data"
    },
    {
     "name": "stdout",
     "output_type": "stream",
     "text": [
      "subject:  Romulus Glacier\n",
      "Chad Basin is located in the continent of Africa.\n",
      "English Channel is located in the continent of Europe.\n",
      "Ma River is located in the continent of Asia.\n",
      "{} is located in the continent of\n",
      "tensor(7.4844, device='cuda:0', dtype=torch.float16) tensor(276.5000, device='cuda:0', dtype=torch.float16)\n",
      "\n",
      "subject:  English Channel\n",
      "Romulus Glacier is located in the continent of Antarctica.\n",
      "Ma River is located in the continent of Asia.\n",
      "Chad Basin is located in the continent of Africa.\n",
      "{} is located in the continent of\n",
      "tensor(7.5742, device='cuda:0', dtype=torch.float16) tensor(265.7500, device='cuda:0', dtype=torch.float16)\n",
      "\n",
      "subject:  Chad Basin\n",
      "Romulus Glacier is located in the continent of Antarctica.\n",
      "Ma River is located in the continent of Asia.\n",
      "English Channel is located in the continent of Europe.\n",
      "{} is located in the continent of\n",
      "tensor(23.2188, device='cuda:0', dtype=torch.float16) tensor(240.3750, device='cuda:0', dtype=torch.float16)\n",
      "\n",
      "subject:  Ma River\n",
      "Romulus Glacier is located in the continent of Antarctica.\n",
      "Chad Basin is located in the continent of Africa.\n",
      "English Channel is located in the continent of Europe.\n",
      "{} is located in the continent of\n",
      "tensor(8.1094, device='cuda:0', dtype=torch.float16) tensor(258.2500, device='cuda:0', dtype=torch.float16)\n",
      "\n",
      "Saving weights and biases >>  gpt-j/jacobians_averaged_collection/before__ln_f/P30.npz\n",
      "----------------------------------------------------\n",
      "zzzzzzzzzzzzzzzzzzzzzzzzzzzzzzzzzzzzzzzzzzzzzzzzzzzz\n",
      "P937 {} worked in the city of\n",
      "zzzzzzzzzzzzzzzzzzzzzzzzzzzzzzzzzzzzzzzzzzzzzzzzzzzz\n",
      "328\n",
      "{} worked in the city of\n"
     ]
    },
    {
     "data": {
      "application/vnd.jupyter.widget-view+json": {
       "model_id": "6a131e3fa3064bb4bf4d865a22dc1e6e",
       "version_major": 2,
       "version_minor": 0
      },
      "text/plain": [
       "  0%|          | 0/10 [00:00<?, ?it/s]"
      ]
     },
     "metadata": {},
     "output_type": "display_data"
    },
    {
     "data": {
      "application/vnd.jupyter.widget-view+json": {
       "model_id": "43b5172b634846e3bf272700266e3f31",
       "version_major": 2,
       "version_minor": 0
      },
      "text/plain": [
       "  0%|          | 0/5 [00:00<?, ?it/s]"
      ]
     },
     "metadata": {},
     "output_type": "display_data"
    },
    {
     "name": "stdout",
     "output_type": "stream",
     "text": [
      "subject:  Halvard Lange\n",
      "Christian Bohr worked in the city of Copenhagen.\n",
      "Joseph Reinach worked in the city of Paris.\n",
      "Howard Florey worked in the city of London.\n",
      "{} worked in the city of\n",
      "tensor(1.8252, device='cuda:0', dtype=torch.float16) tensor(292.2500, device='cuda:0', dtype=torch.float16)\n",
      "\n",
      "subject:  Howard Florey\n",
      "Joseph Reinach worked in the city of Paris.\n",
      "Billy Corgan worked in the city of Chicago.\n",
      "Christian Bohr worked in the city of Copenhagen.\n",
      "{} worked in the city of\n",
      "tensor(39.9375, device='cuda:0', dtype=torch.float16) tensor(211.7500, device='cuda:0', dtype=torch.float16)\n",
      "\n",
      "subject:  Billy Corgan\n",
      "Christian Bohr worked in the city of Copenhagen.\n",
      "Halvard Lange worked in the city of Oslo.\n",
      "Joseph Reinach worked in the city of Paris.\n",
      "{} worked in the city of\n",
      "tensor(28.8750, device='cuda:0', dtype=torch.float16) tensor(249.2500, device='cuda:0', dtype=torch.float16)\n",
      "\n",
      "subject:  Christian Bohr\n",
      "Joseph Reinach worked in the city of Paris.\n",
      "Howard Florey worked in the city of London.\n",
      "Halvard Lange worked in the city of Oslo.\n",
      "{} worked in the city of\n",
      "tensor(34.8750, device='cuda:0', dtype=torch.float16) tensor(260.7500, device='cuda:0', dtype=torch.float16)\n",
      "\n",
      "subject:  Joseph Reinach\n",
      "Christian Bohr worked in the city of Copenhagen.\n",
      "Halvard Lange worked in the city of Oslo.\n",
      "Billy Corgan worked in the city of Chicago.\n",
      "{} worked in the city of\n",
      "tensor(14.5625, device='cuda:0', dtype=torch.float16) tensor(321.7500, device='cuda:0', dtype=torch.float16)\n",
      "\n"
     ]
    },
    {
     "data": {
      "application/vnd.jupyter.widget-view+json": {
       "model_id": "7e9dcec338c64b88841c5462107252c4",
       "version_major": 2,
       "version_minor": 0
      },
      "text/plain": [
       "  0%|          | 0/5 [00:00<?, ?it/s]"
      ]
     },
     "metadata": {},
     "output_type": "display_data"
    },
    {
     "name": "stdout",
     "output_type": "stream",
     "text": [
      "subject:  Carl Mayer\n",
      "Alban Berg worked in the city of Vienna.\n",
      "Billy Corgan worked in the city of Chicago.\n",
      "Albert Einstein worked in the city of Bern.\n",
      "{} worked in the city of\n",
      "tensor(5.7930, device='cuda:0', dtype=torch.float16) tensor(367.2500, device='cuda:0', dtype=torch.float16)\n",
      "\n",
      "subject:  Joseph Reinach\n",
      "Carl Mayer worked in the city of Berlin.\n",
      "Alban Berg worked in the city of Vienna.\n",
      "Albert Einstein worked in the city of Bern.\n",
      "{} worked in the city of\n",
      "tensor(13.5156, device='cuda:0', dtype=torch.float16) tensor(331.2500, device='cuda:0', dtype=torch.float16)\n",
      "\n",
      "subject:  Billy Corgan\n",
      "Joseph Reinach worked in the city of Paris.\n",
      "Alban Berg worked in the city of Vienna.\n",
      "Carl Mayer worked in the city of Berlin.\n",
      "{} worked in the city of\n",
      "tensor(30.2500, device='cuda:0', dtype=torch.float16) tensor(244.3750, device='cuda:0', dtype=torch.float16)\n",
      "\n",
      "subject:  Albert Einstein\n",
      "Billy Corgan worked in the city of Chicago.\n",
      "Alban Berg worked in the city of Vienna.\n",
      "Joseph Reinach worked in the city of Paris.\n",
      "{} worked in the city of\n",
      "tensor(9.2422, device='cuda:0', dtype=torch.float16) tensor(229.7500, device='cuda:0', dtype=torch.float16)\n",
      "\n",
      "subject:  Alban Berg\n",
      "Albert Einstein worked in the city of Bern.\n",
      "Billy Corgan worked in the city of Chicago.\n",
      "Joseph Reinach worked in the city of Paris.\n",
      "{} worked in the city of\n",
      "tensor(1.3633, device='cuda:0', dtype=torch.float16) tensor(210.6250, device='cuda:0', dtype=torch.float16)\n",
      "\n"
     ]
    },
    {
     "data": {
      "application/vnd.jupyter.widget-view+json": {
       "model_id": "b04156d53357477d991f1578b4591fc4",
       "version_major": 2,
       "version_minor": 0
      },
      "text/plain": [
       "  0%|          | 0/5 [00:00<?, ?it/s]"
      ]
     },
     "metadata": {},
     "output_type": "display_data"
    },
    {
     "name": "stdout",
     "output_type": "stream",
     "text": [
      "subject:  Howard Florey\n",
      "Veturia worked in the city of Rome.\n",
      "Christian Bohr worked in the city of Copenhagen.\n",
      "John Goodsir worked in the city of Edinburgh.\n",
      "{} worked in the city of\n",
      "tensor(38.8438, device='cuda:0', dtype=torch.float16) tensor(231.2500, device='cuda:0', dtype=torch.float16)\n",
      "\n",
      "subject:  John Goodsir\n",
      "Howard Florey worked in the city of London.\n",
      "Christian Bohr worked in the city of Copenhagen.\n",
      "Veturia worked in the city of Rome.\n",
      "{} worked in the city of\n",
      "tensor(9.2812, device='cuda:0', dtype=torch.float16) tensor(335., device='cuda:0', dtype=torch.float16)\n",
      "\n",
      "subject:  Albert Einstein\n",
      "Howard Florey worked in the city of London.\n",
      "John Goodsir worked in the city of Edinburgh.\n",
      "Christian Bohr worked in the city of Copenhagen.\n",
      "{} worked in the city of\n",
      "tensor(6.2422, device='cuda:0', dtype=torch.float16) tensor(213.2500, device='cuda:0', dtype=torch.float16)\n",
      "\n",
      "subject:  Veturia\n",
      "Albert Einstein worked in the city of Bern.\n",
      "Howard Florey worked in the city of London.\n",
      "John Goodsir worked in the city of Edinburgh.\n",
      "{} worked in the city of\n",
      "tensor(14.8828, device='cuda:0', dtype=torch.float16) tensor(311.5000, device='cuda:0', dtype=torch.float16)\n",
      "\n",
      "subject:  Christian Bohr\n",
      "Veturia worked in the city of Rome.\n",
      "John Goodsir worked in the city of Edinburgh.\n",
      "Howard Florey worked in the city of London.\n",
      "{} worked in the city of\n",
      "tensor(32.8125, device='cuda:0', dtype=torch.float16) tensor(281.2500, device='cuda:0', dtype=torch.float16)\n",
      "\n"
     ]
    },
    {
     "data": {
      "application/vnd.jupyter.widget-view+json": {
       "model_id": "8545923e57c34a74baca338682e9cd46",
       "version_major": 2,
       "version_minor": 0
      },
      "text/plain": [
       "  0%|          | 0/5 [00:00<?, ?it/s]"
      ]
     },
     "metadata": {},
     "output_type": "display_data"
    },
    {
     "name": "stdout",
     "output_type": "stream",
     "text": [
      "subject:  Albert Einstein\n",
      "Howard Florey worked in the city of London.\n",
      "Christian Bohr worked in the city of Copenhagen.\n",
      "Billy Corgan worked in the city of Chicago.\n",
      "{} worked in the city of\n",
      "tensor(8.2188, device='cuda:0', dtype=torch.float16) tensor(219.5000, device='cuda:0', dtype=torch.float16)\n",
      "\n",
      "subject:  Howard Florey\n",
      "John Goodsir worked in the city of Edinburgh.\n",
      "Christian Bohr worked in the city of Copenhagen.\n",
      "Albert Einstein worked in the city of Bern.\n",
      "{} worked in the city of\n",
      "tensor(36.9062, device='cuda:0', dtype=torch.float16) tensor(239.5000, device='cuda:0', dtype=torch.float16)\n",
      "\n",
      "subject:  Christian Bohr\n",
      "Albert Einstein worked in the city of Bern.\n",
      "Howard Florey worked in the city of London.\n",
      "Billy Corgan worked in the city of Chicago.\n",
      "{} worked in the city of\n",
      "tensor(37.6875, device='cuda:0', dtype=torch.float16) tensor(232.7500, device='cuda:0', dtype=torch.float16)\n",
      "\n",
      "subject:  John Goodsir\n",
      "Howard Florey worked in the city of London.\n",
      "Albert Einstein worked in the city of Bern.\n",
      "Billy Corgan worked in the city of Chicago.\n",
      "{} worked in the city of\n",
      "tensor(8.7578, device='cuda:0', dtype=torch.float16) tensor(342.2500, device='cuda:0', dtype=torch.float16)\n",
      "\n",
      "subject:  Billy Corgan\n",
      "John Goodsir worked in the city of Edinburgh.\n",
      "Christian Bohr worked in the city of Copenhagen.\n",
      "Howard Florey worked in the city of London.\n",
      "{} worked in the city of\n",
      "tensor(23.7969, device='cuda:0', dtype=torch.float16) tensor(260.2500, device='cuda:0', dtype=torch.float16)\n",
      "\n"
     ]
    },
    {
     "data": {
      "application/vnd.jupyter.widget-view+json": {
       "model_id": "3250579a210b4744b8a849044d4b1721",
       "version_major": 2,
       "version_minor": 0
      },
      "text/plain": [
       "  0%|          | 0/5 [00:00<?, ?it/s]"
      ]
     },
     "metadata": {},
     "output_type": "display_data"
    },
    {
     "name": "stdout",
     "output_type": "stream",
     "text": [
      "subject:  John Goodsir\n",
      "Howard Florey worked in the city of London.\n",
      "Carl Mayer worked in the city of Berlin.\n",
      "Alban Berg worked in the city of Vienna.\n",
      "{} worked in the city of\n",
      "tensor(8.6719, device='cuda:0', dtype=torch.float16) tensor(330.2500, device='cuda:0', dtype=torch.float16)\n",
      "\n",
      "subject:  Carl Mayer\n",
      "Howard Florey worked in the city of London.\n",
      "John Goodsir worked in the city of Edinburgh.\n",
      "Joseph Reinach worked in the city of Paris.\n",
      "{} worked in the city of\n",
      "tensor(8.6250, device='cuda:0', dtype=torch.float16) tensor(348., device='cuda:0', dtype=torch.float16)\n",
      "\n",
      "subject:  Howard Florey\n",
      "John Goodsir worked in the city of Edinburgh.\n",
      "Joseph Reinach worked in the city of Paris.\n",
      "Alban Berg worked in the city of Vienna.\n",
      "{} worked in the city of\n",
      "tensor(38.1875, device='cuda:0', dtype=torch.float16) tensor(237., device='cuda:0', dtype=torch.float16)\n",
      "\n",
      "subject:  Alban Berg\n",
      "John Goodsir worked in the city of Edinburgh.\n",
      "Joseph Reinach worked in the city of Paris.\n",
      "Carl Mayer worked in the city of Berlin.\n",
      "{} worked in the city of\n",
      "tensor(1.4756, device='cuda:0', dtype=torch.float16) tensor(243., device='cuda:0', dtype=torch.float16)\n",
      "\n",
      "subject:  Joseph Reinach\n",
      "Howard Florey worked in the city of London.\n",
      "John Goodsir worked in the city of Edinburgh.\n",
      "Carl Mayer worked in the city of Berlin.\n",
      "{} worked in the city of\n",
      "tensor(11.1016, device='cuda:0', dtype=torch.float16) tensor(327., device='cuda:0', dtype=torch.float16)\n",
      "\n"
     ]
    },
    {
     "data": {
      "application/vnd.jupyter.widget-view+json": {
       "model_id": "61763de4c8ae4f16a75376a8fbcf5897",
       "version_major": 2,
       "version_minor": 0
      },
      "text/plain": [
       "  0%|          | 0/5 [00:00<?, ?it/s]"
      ]
     },
     "metadata": {},
     "output_type": "display_data"
    },
    {
     "name": "stdout",
     "output_type": "stream",
     "text": [
      "subject:  John Goodsir\n",
      "Christian Bohr worked in the city of Copenhagen.\n",
      "Joseph Reinach worked in the city of Paris.\n",
      "Albert Einstein worked in the city of Bern.\n",
      "{} worked in the city of\n",
      "tensor(11.1328, device='cuda:0', dtype=torch.float16) tensor(309.2500, device='cuda:0', dtype=torch.float16)\n",
      "\n",
      "subject:  Carl Mayer\n",
      "Albert Einstein worked in the city of Bern.\n",
      "Joseph Reinach worked in the city of Paris.\n",
      "Christian Bohr worked in the city of Copenhagen.\n",
      "{} worked in the city of\n",
      "tensor(7.1797, device='cuda:0', dtype=torch.float16) tensor(291.5000, device='cuda:0', dtype=torch.float16)\n",
      "\n",
      "subject:  Albert Einstein\n",
      "Joseph Reinach worked in the city of Paris.\n",
      "Christian Bohr worked in the city of Copenhagen.\n",
      "Carl Mayer worked in the city of Berlin.\n",
      "{} worked in the city of\n",
      "tensor(6.1289, device='cuda:0', dtype=torch.float16) tensor(219.6250, device='cuda:0', dtype=torch.float16)\n",
      "\n",
      "subject:  Joseph Reinach\n",
      "John Goodsir worked in the city of Edinburgh.\n",
      "Christian Bohr worked in the city of Copenhagen.\n",
      "Carl Mayer worked in the city of Berlin.\n",
      "{} worked in the city of\n",
      "tensor(15.7734, device='cuda:0', dtype=torch.float16) tensor(303.5000, device='cuda:0', dtype=torch.float16)\n",
      "\n",
      "subject:  Christian Bohr\n",
      "Carl Mayer worked in the city of Berlin.\n",
      "John Goodsir worked in the city of Edinburgh.\n",
      "Albert Einstein worked in the city of Bern.\n",
      "{} worked in the city of\n",
      "tensor(42.9062, device='cuda:0', dtype=torch.float16) tensor(233.5000, device='cuda:0', dtype=torch.float16)\n",
      "\n"
     ]
    },
    {
     "data": {
      "application/vnd.jupyter.widget-view+json": {
       "model_id": "81f583e54b6b4e1087d89bb252314158",
       "version_major": 2,
       "version_minor": 0
      },
      "text/plain": [
       "  0%|          | 0/5 [00:00<?, ?it/s]"
      ]
     },
     "metadata": {},
     "output_type": "display_data"
    },
    {
     "name": "stdout",
     "output_type": "stream",
     "text": [
      "subject:  Albert Einstein\n",
      "Carl Mayer worked in the city of Berlin.\n",
      "Veturia worked in the city of Rome.\n",
      "Howard Florey worked in the city of London.\n",
      "{} worked in the city of\n",
      "tensor(7.3203, device='cuda:0', dtype=torch.float16) tensor(237.1250, device='cuda:0', dtype=torch.float16)\n",
      "\n",
      "subject:  Veturia\n",
      "Howard Florey worked in the city of London.\n",
      "Billy Corgan worked in the city of Chicago.\n",
      "Carl Mayer worked in the city of Berlin.\n",
      "{} worked in the city of\n",
      "tensor(9.1562, device='cuda:0', dtype=torch.float16) tensor(410.7500, device='cuda:0', dtype=torch.float16)\n",
      "\n",
      "subject:  Carl Mayer\n",
      "Howard Florey worked in the city of London.\n",
      "Billy Corgan worked in the city of Chicago.\n",
      "Albert Einstein worked in the city of Bern.\n",
      "{} worked in the city of\n",
      "tensor(5.9375, device='cuda:0', dtype=torch.float16) tensor(386.5000, device='cuda:0', dtype=torch.float16)\n",
      "\n",
      "subject:  Howard Florey\n",
      "Albert Einstein worked in the city of Bern.\n",
      "Billy Corgan worked in the city of Chicago.\n",
      "Veturia worked in the city of Rome.\n",
      "{} worked in the city of\n",
      "tensor(37.5938, device='cuda:0', dtype=torch.float16) tensor(229.2500, device='cuda:0', dtype=torch.float16)\n",
      "\n",
      "subject:  Billy Corgan\n",
      "Howard Florey worked in the city of London.\n",
      "Carl Mayer worked in the city of Berlin.\n",
      "Albert Einstein worked in the city of Bern.\n",
      "{} worked in the city of\n",
      "tensor(26.4844, device='cuda:0', dtype=torch.float16) tensor(282.7500, device='cuda:0', dtype=torch.float16)\n",
      "\n"
     ]
    },
    {
     "data": {
      "application/vnd.jupyter.widget-view+json": {
       "model_id": "f0322ab4916c4ad09477583332d7c75e",
       "version_major": 2,
       "version_minor": 0
      },
      "text/plain": [
       "  0%|          | 0/5 [00:00<?, ?it/s]"
      ]
     },
     "metadata": {},
     "output_type": "display_data"
    },
    {
     "name": "stdout",
     "output_type": "stream",
     "text": [
      "subject:  Alban Berg\n",
      "Billy Corgan worked in the city of Chicago.\n",
      "Carl Mayer worked in the city of Berlin.\n",
      "Halvard Lange worked in the city of Oslo.\n",
      "{} worked in the city of\n",
      "tensor(1.5176, device='cuda:0', dtype=torch.float16) tensor(239.8750, device='cuda:0', dtype=torch.float16)\n",
      "\n",
      "subject:  Halvard Lange\n",
      "Howard Florey worked in the city of London.\n",
      "Billy Corgan worked in the city of Chicago.\n",
      "Carl Mayer worked in the city of Berlin.\n",
      "{} worked in the city of\n",
      "tensor(1.1709, device='cuda:0', dtype=torch.float16) tensor(351., device='cuda:0', dtype=torch.float16)\n",
      "\n",
      "subject:  Howard Florey\n",
      "Halvard Lange worked in the city of Oslo.\n",
      "Carl Mayer worked in the city of Berlin.\n",
      "Alban Berg worked in the city of Vienna.\n",
      "{} worked in the city of\n",
      "tensor(39.0938, device='cuda:0', dtype=torch.float16) tensor(216.1250, device='cuda:0', dtype=torch.float16)\n",
      "\n",
      "subject:  Billy Corgan\n",
      "Alban Berg worked in the city of Vienna.\n",
      "Halvard Lange worked in the city of Oslo.\n",
      "Howard Florey worked in the city of London.\n",
      "{} worked in the city of\n",
      "tensor(28.7031, device='cuda:0', dtype=torch.float16) tensor(251.6250, device='cuda:0', dtype=torch.float16)\n",
      "\n",
      "subject:  Carl Mayer\n",
      "Billy Corgan worked in the city of Chicago.\n",
      "Howard Florey worked in the city of London.\n",
      "Halvard Lange worked in the city of Oslo.\n",
      "{} worked in the city of\n",
      "tensor(7.8594, device='cuda:0', dtype=torch.float16) tensor(364.7500, device='cuda:0', dtype=torch.float16)\n",
      "\n"
     ]
    },
    {
     "data": {
      "application/vnd.jupyter.widget-view+json": {
       "model_id": "e319b3de1cf6456ab81a37b2a7478e86",
       "version_major": 2,
       "version_minor": 0
      },
      "text/plain": [
       "  0%|          | 0/5 [00:00<?, ?it/s]"
      ]
     },
     "metadata": {},
     "output_type": "display_data"
    },
    {
     "name": "stdout",
     "output_type": "stream",
     "text": [
      "subject:  Albert Einstein\n",
      "Alban Berg worked in the city of Vienna.\n",
      "Howard Florey worked in the city of London.\n",
      "Halvard Lange worked in the city of Oslo.\n",
      "{} worked in the city of\n",
      "tensor(7.6289, device='cuda:0', dtype=torch.float16) tensor(216.6250, device='cuda:0', dtype=torch.float16)\n",
      "\n",
      "subject:  Alban Berg\n",
      "Halvard Lange worked in the city of Oslo.\n",
      "Howard Florey worked in the city of London.\n",
      "Carl Mayer worked in the city of Berlin.\n",
      "{} worked in the city of\n",
      "tensor(1.1377, device='cuda:0', dtype=torch.float16) tensor(229.7500, device='cuda:0', dtype=torch.float16)\n",
      "\n",
      "subject:  Carl Mayer\n",
      "Albert Einstein worked in the city of Bern.\n",
      "Halvard Lange worked in the city of Oslo.\n",
      "Alban Berg worked in the city of Vienna.\n",
      "{} worked in the city of\n",
      "tensor(6.2891, device='cuda:0', dtype=torch.float16) tensor(347.7500, device='cuda:0', dtype=torch.float16)\n",
      "\n",
      "subject:  Halvard Lange\n",
      "Howard Florey worked in the city of London.\n",
      "Albert Einstein worked in the city of Bern.\n",
      "Carl Mayer worked in the city of Berlin.\n",
      "{} worked in the city of\n",
      "tensor(1.2002, device='cuda:0', dtype=torch.float16) tensor(293., device='cuda:0', dtype=torch.float16)\n",
      "\n",
      "subject:  Howard Florey\n",
      "Carl Mayer worked in the city of Berlin.\n",
      "Halvard Lange worked in the city of Oslo.\n",
      "Albert Einstein worked in the city of Bern.\n",
      "{} worked in the city of\n",
      "tensor(34.8750, device='cuda:0', dtype=torch.float16) tensor(252., device='cuda:0', dtype=torch.float16)\n",
      "\n"
     ]
    },
    {
     "data": {
      "application/vnd.jupyter.widget-view+json": {
       "model_id": "e87f3793de3b40a3aac7840617db86d9",
       "version_major": 2,
       "version_minor": 0
      },
      "text/plain": [
       "  0%|          | 0/5 [00:00<?, ?it/s]"
      ]
     },
     "metadata": {},
     "output_type": "display_data"
    },
    {
     "name": "stdout",
     "output_type": "stream",
     "text": [
      "subject:  Albert Einstein\n",
      "Veturia worked in the city of Rome.\n",
      "Joseph Reinach worked in the city of Paris.\n",
      "Howard Florey worked in the city of London.\n",
      "{} worked in the city of\n",
      "tensor(5.3945, device='cuda:0', dtype=torch.float16) tensor(233.6250, device='cuda:0', dtype=torch.float16)\n",
      "\n",
      "subject:  Veturia\n",
      "Albert Einstein worked in the city of Bern.\n",
      "Joseph Reinach worked in the city of Paris.\n",
      "Alban Berg worked in the city of Vienna.\n",
      "{} worked in the city of\n",
      "tensor(14.7656, device='cuda:0', dtype=torch.float16) tensor(317.7500, device='cuda:0', dtype=torch.float16)\n",
      "\n",
      "subject:  Joseph Reinach\n",
      "Albert Einstein worked in the city of Bern.\n",
      "Howard Florey worked in the city of London.\n",
      "Alban Berg worked in the city of Vienna.\n",
      "{} worked in the city of\n",
      "tensor(17.5625, device='cuda:0', dtype=torch.float16) tensor(292.2500, device='cuda:0', dtype=torch.float16)\n",
      "\n",
      "subject:  Alban Berg\n",
      "Howard Florey worked in the city of London.\n",
      "Joseph Reinach worked in the city of Paris.\n",
      "Veturia worked in the city of Rome.\n",
      "{} worked in the city of\n",
      "tensor(1.4082, device='cuda:0', dtype=torch.float16) tensor(285.5000, device='cuda:0', dtype=torch.float16)\n",
      "\n",
      "subject:  Howard Florey\n",
      "Joseph Reinach worked in the city of Paris.\n",
      "Albert Einstein worked in the city of Bern.\n",
      "Alban Berg worked in the city of Vienna.\n",
      "{} worked in the city of\n",
      "tensor(37.9688, device='cuda:0', dtype=torch.float16) tensor(212.8750, device='cuda:0', dtype=torch.float16)\n",
      "\n",
      "Saving weights and biases >>  gpt-j/jacobians_averaged_collection/before__ln_f/P937.npz\n",
      "----------------------------------------------------\n",
      "zzzzzzzzzzzzzzzzzzzzzzzzzzzzzzzzzzzzzzzzzzzzzzzzzzzz\n",
      "P27 {} is a citizen of\n",
      "zzzzzzzzzzzzzzzzzzzzzzzzzzzzzzzzzzzzzzzzzzzzzzzzzzzz\n",
      "305\n",
      "{} is a citizen of\n"
     ]
    },
    {
     "data": {
      "application/vnd.jupyter.widget-view+json": {
       "model_id": "385409570c264cf2b3aa07c0281b473d",
       "version_major": 2,
       "version_minor": 0
      },
      "text/plain": [
       "  0%|          | 0/10 [00:00<?, ?it/s]"
      ]
     },
     "metadata": {},
     "output_type": "display_data"
    },
    {
     "data": {
      "application/vnd.jupyter.widget-view+json": {
       "model_id": "19bbd7d3732e4bcb980ac25f26aedd34",
       "version_major": 2,
       "version_minor": 0
      },
      "text/plain": [
       "  0%|          | 0/5 [00:00<?, ?it/s]"
      ]
     },
     "metadata": {},
     "output_type": "display_data"
    },
    {
     "name": "stdout",
     "output_type": "stream",
     "text": [
      "subject:  Pierre Cardin\n",
      "Mario Monti is a citizen of Italy.\n",
      "Harashima is a citizen of Japan.\n",
      "Ambar Roy is a citizen of India.\n",
      "{} is a citizen of\n",
      "tensor(6.7109, device='cuda:0', dtype=torch.float16) tensor(239.8750, device='cuda:0', dtype=torch.float16)\n",
      "\n",
      "subject:  Ambar Roy\n",
      "Harashima is a citizen of Japan.\n",
      "Mario Monti is a citizen of Italy.\n",
      "Pierre Cardin is a citizen of France.\n",
      "{} is a citizen of\n",
      "tensor(14.1719, device='cuda:0', dtype=torch.float16) tensor(247.3750, device='cuda:0', dtype=torch.float16)\n",
      "\n",
      "subject:  Mario Monti\n",
      "Harashima is a citizen of Japan.\n",
      "Ronaldinho is a citizen of Brazil.\n",
      "Pierre Cardin is a citizen of France.\n",
      "{} is a citizen of\n",
      "tensor(22.9375, device='cuda:0', dtype=torch.float16) tensor(243.3750, device='cuda:0', dtype=torch.float16)\n",
      "\n",
      "subject:  Harashima\n",
      "Mario Monti is a citizen of Italy.\n",
      "Ambar Roy is a citizen of India.\n",
      "Ronaldinho is a citizen of Brazil.\n",
      "{} is a citizen of\n",
      "tensor(15.5234, device='cuda:0', dtype=torch.float16) tensor(302.2500, device='cuda:0', dtype=torch.float16)\n",
      "\n",
      "subject:  Ronaldinho\n",
      "Ambar Roy is a citizen of India.\n",
      "Harashima is a citizen of Japan.\n",
      "Pierre Cardin is a citizen of France.\n",
      "{} is a citizen of\n",
      "tensor(6.7070, device='cuda:0', dtype=torch.float16) tensor(242.5000, device='cuda:0', dtype=torch.float16)\n",
      "\n"
     ]
    },
    {
     "data": {
      "application/vnd.jupyter.widget-view+json": {
       "model_id": "19bba0721c844d33aeee1fc86aa80630",
       "version_major": 2,
       "version_minor": 0
      },
      "text/plain": [
       "  0%|          | 0/5 [00:00<?, ?it/s]"
      ]
     },
     "metadata": {},
     "output_type": "display_data"
    },
    {
     "name": "stdout",
     "output_type": "stream",
     "text": [
      "subject:  Pierre Cardin\n",
      "Thomas Ong is a citizen of Singapore.\n",
      "Ronaldinho is a citizen of Brazil.\n",
      "Ambar Roy is a citizen of India.\n",
      "{} is a citizen of\n",
      "tensor(8.5234, device='cuda:0', dtype=torch.float16) tensor(251.2500, device='cuda:0', dtype=torch.float16)\n",
      "\n",
      "subject:  Andrew Bogut\n",
      "Thomas Ong is a citizen of Singapore.\n",
      "Ambar Roy is a citizen of India.\n",
      "Ronaldinho is a citizen of Brazil.\n",
      "{} is a citizen of\n",
      "tensor(20.5625, device='cuda:0', dtype=torch.float16) tensor(259.7500, device='cuda:0', dtype=torch.float16)\n",
      "\n",
      "subject:  Thomas Ong\n",
      "Ambar Roy is a citizen of India.\n",
      "Pierre Cardin is a citizen of France.\n",
      "Ronaldinho is a citizen of Brazil.\n",
      "{} is a citizen of\n",
      "tensor(10.6641, device='cuda:0', dtype=torch.float16) tensor(257., device='cuda:0', dtype=torch.float16)\n",
      "\n",
      "subject:  Ambar Roy\n",
      "Ronaldinho is a citizen of Brazil.\n",
      "Andrew Bogut is a citizen of Australia.\n",
      "Pierre Cardin is a citizen of France.\n",
      "{} is a citizen of\n",
      "tensor(12.3516, device='cuda:0', dtype=torch.float16) tensor(280.2500, device='cuda:0', dtype=torch.float16)\n",
      "\n",
      "subject:  Ronaldinho\n",
      "Pierre Cardin is a citizen of France.\n",
      "Thomas Ong is a citizen of Singapore.\n",
      "Ambar Roy is a citizen of India.\n",
      "{} is a citizen of\n",
      "tensor(6.5469, device='cuda:0', dtype=torch.float16) tensor(246.2500, device='cuda:0', dtype=torch.float16)\n",
      "\n"
     ]
    },
    {
     "data": {
      "application/vnd.jupyter.widget-view+json": {
       "model_id": "6850a0b8779b42b099016200a4b62945",
       "version_major": 2,
       "version_minor": 0
      },
      "text/plain": [
       "  0%|          | 0/5 [00:00<?, ?it/s]"
      ]
     },
     "metadata": {},
     "output_type": "display_data"
    },
    {
     "name": "stdout",
     "output_type": "stream",
     "text": [
      "subject:  Thomas Ong\n",
      "Andrew Bogut is a citizen of Australia.\n",
      "Pierre Cardin is a citizen of France.\n",
      "Ambar Roy is a citizen of India.\n",
      "{} is a citizen of\n",
      "tensor(10.5859, device='cuda:0', dtype=torch.float16) tensor(278.2500, device='cuda:0', dtype=torch.float16)\n",
      "\n",
      "subject:  Harashima\n",
      "Pierre Cardin is a citizen of France.\n",
      "Thomas Ong is a citizen of Singapore.\n",
      "Ambar Roy is a citizen of India.\n",
      "{} is a citizen of\n",
      "tensor(10.6328, device='cuda:0', dtype=torch.float16) tensor(315., device='cuda:0', dtype=torch.float16)\n",
      "\n",
      "subject:  Andrew Bogut\n",
      "Ambar Roy is a citizen of India.\n",
      "Harashima is a citizen of Japan.\n",
      "Pierre Cardin is a citizen of France.\n",
      "{} is a citizen of\n",
      "tensor(17.3281, device='cuda:0', dtype=torch.float16) tensor(255.3750, device='cuda:0', dtype=torch.float16)\n",
      "\n",
      "subject:  Ambar Roy\n",
      "Andrew Bogut is a citizen of Australia.\n",
      "Thomas Ong is a citizen of Singapore.\n",
      "Pierre Cardin is a citizen of France.\n",
      "{} is a citizen of\n",
      "tensor(12.7578, device='cuda:0', dtype=torch.float16) tensor(265.2500, device='cuda:0', dtype=torch.float16)\n",
      "\n",
      "subject:  Pierre Cardin\n",
      "Andrew Bogut is a citizen of Australia.\n",
      "Thomas Ong is a citizen of Singapore.\n",
      "Harashima is a citizen of Japan.\n",
      "{} is a citizen of\n",
      "tensor(9.7969, device='cuda:0', dtype=torch.float16) tensor(256.5000, device='cuda:0', dtype=torch.float16)\n",
      "\n"
     ]
    },
    {
     "data": {
      "application/vnd.jupyter.widget-view+json": {
       "model_id": "64b93a94cbcc45fabe2a2d915566a466",
       "version_major": 2,
       "version_minor": 0
      },
      "text/plain": [
       "  0%|          | 0/5 [00:00<?, ?it/s]"
      ]
     },
     "metadata": {},
     "output_type": "display_data"
    },
    {
     "name": "stdout",
     "output_type": "stream",
     "text": [
      "subject:  Harashima\n",
      "Mario Monti is a citizen of Italy.\n",
      "Thomas Ong is a citizen of Singapore.\n",
      "Ambar Roy is a citizen of India.\n",
      "{} is a citizen of\n",
      "tensor(12.3906, device='cuda:0', dtype=torch.float16) tensor(307.7500, device='cuda:0', dtype=torch.float16)\n",
      "\n",
      "subject:  Ambar Roy\n",
      "Mario Monti is a citizen of Italy.\n",
      "Andrew Bogut is a citizen of Australia.\n",
      "Thomas Ong is a citizen of Singapore.\n",
      "{} is a citizen of\n",
      "tensor(13.0938, device='cuda:0', dtype=torch.float16) tensor(271.5000, device='cuda:0', dtype=torch.float16)\n",
      "\n",
      "subject:  Andrew Bogut\n",
      "Harashima is a citizen of Japan.\n",
      "Mario Monti is a citizen of Italy.\n",
      "Thomas Ong is a citizen of Singapore.\n",
      "{} is a citizen of\n",
      "tensor(20.3750, device='cuda:0', dtype=torch.float16) tensor(253.8750, device='cuda:0', dtype=torch.float16)\n",
      "\n",
      "subject:  Thomas Ong\n",
      "Ambar Roy is a citizen of India.\n",
      "Harashima is a citizen of Japan.\n",
      "Mario Monti is a citizen of Italy.\n",
      "{} is a citizen of\n",
      "tensor(12.4453, device='cuda:0', dtype=torch.float16) tensor(263.2500, device='cuda:0', dtype=torch.float16)\n",
      "\n",
      "subject:  Mario Monti\n",
      "Thomas Ong is a citizen of Singapore.\n",
      "Harashima is a citizen of Japan.\n",
      "Ambar Roy is a citizen of India.\n",
      "{} is a citizen of\n",
      "tensor(16.5000, device='cuda:0', dtype=torch.float16) tensor(255.8750, device='cuda:0', dtype=torch.float16)\n",
      "\n"
     ]
    },
    {
     "data": {
      "application/vnd.jupyter.widget-view+json": {
       "model_id": "5fbf6a195992436fbe29e4a65dfe0075",
       "version_major": 2,
       "version_minor": 0
      },
      "text/plain": [
       "  0%|          | 0/5 [00:00<?, ?it/s]"
      ]
     },
     "metadata": {},
     "output_type": "display_data"
    },
    {
     "name": "stdout",
     "output_type": "stream",
     "text": [
      "subject:  Andrew Bogut\n",
      "Ambar Roy is a citizen of India.\n",
      "Thomas Ong is a citizen of Singapore.\n",
      "Ronaldinho is a citizen of Brazil.\n",
      "{} is a citizen of\n",
      "tensor(17.7969, device='cuda:0', dtype=torch.float16) tensor(259., device='cuda:0', dtype=torch.float16)\n",
      "\n",
      "subject:  Ronaldinho\n",
      "Andrew Bogut is a citizen of Australia.\n",
      "Thomas Ong is a citizen of Singapore.\n",
      "Ambar Roy is a citizen of India.\n",
      "{} is a citizen of\n",
      "tensor(8.0312, device='cuda:0', dtype=torch.float16) tensor(243.6250, device='cuda:0', dtype=torch.float16)\n",
      "\n",
      "subject:  Harashima\n",
      "Thomas Ong is a citizen of Singapore.\n",
      "Ambar Roy is a citizen of India.\n",
      "Ronaldinho is a citizen of Brazil.\n",
      "{} is a citizen of\n",
      "tensor(13.2969, device='cuda:0', dtype=torch.float16) tensor(312.7500, device='cuda:0', dtype=torch.float16)\n",
      "\n",
      "subject:  Ambar Roy\n",
      "Harashima is a citizen of Japan.\n",
      "Ronaldinho is a citizen of Brazil.\n",
      "Thomas Ong is a citizen of Singapore.\n",
      "{} is a citizen of\n",
      "tensor(11.0391, device='cuda:0', dtype=torch.float16) tensor(278.5000, device='cuda:0', dtype=torch.float16)\n",
      "\n",
      "subject:  Thomas Ong\n",
      "Ronaldinho is a citizen of Brazil.\n",
      "Andrew Bogut is a citizen of Australia.\n",
      "Harashima is a citizen of Japan.\n",
      "{} is a citizen of\n",
      "tensor(14.8125, device='cuda:0', dtype=torch.float16) tensor(274.5000, device='cuda:0', dtype=torch.float16)\n",
      "\n"
     ]
    },
    {
     "data": {
      "application/vnd.jupyter.widget-view+json": {
       "model_id": "bc2b6eb43b734295a4a44c16e409a2ba",
       "version_major": 2,
       "version_minor": 0
      },
      "text/plain": [
       "  0%|          | 0/5 [00:00<?, ?it/s]"
      ]
     },
     "metadata": {},
     "output_type": "display_data"
    },
    {
     "name": "stdout",
     "output_type": "stream",
     "text": [
      "subject:  Harashima\n",
      "Ronaldinho is a citizen of Brazil.\n",
      "Ambar Roy is a citizen of India.\n",
      "Pierre Cardin is a citizen of France.\n",
      "{} is a citizen of\n",
      "tensor(13.2734, device='cuda:0', dtype=torch.float16) tensor(321., device='cuda:0', dtype=torch.float16)\n",
      "\n",
      "subject:  Ambar Roy\n",
      "Pierre Cardin is a citizen of France.\n",
      "Ronaldinho is a citizen of Brazil.\n",
      "Thomas Ong is a citizen of Singapore.\n",
      "{} is a citizen of\n",
      "tensor(10.3594, device='cuda:0', dtype=torch.float16) tensor(287., device='cuda:0', dtype=torch.float16)\n",
      "\n",
      "subject:  Pierre Cardin\n",
      "Harashima is a citizen of Japan.\n",
      "Thomas Ong is a citizen of Singapore.\n",
      "Ambar Roy is a citizen of India.\n",
      "{} is a citizen of\n",
      "tensor(5.9023, device='cuda:0', dtype=torch.float16) tensor(250.1250, device='cuda:0', dtype=torch.float16)\n",
      "\n",
      "subject:  Thomas Ong\n",
      "Ambar Roy is a citizen of India.\n",
      "Pierre Cardin is a citizen of France.\n",
      "Ronaldinho is a citizen of Brazil.\n",
      "{} is a citizen of\n",
      "tensor(10.6641, device='cuda:0', dtype=torch.float16) tensor(257., device='cuda:0', dtype=torch.float16)\n",
      "\n",
      "subject:  Ronaldinho\n",
      "Thomas Ong is a citizen of Singapore.\n",
      "Harashima is a citizen of Japan.\n",
      "Pierre Cardin is a citizen of France.\n",
      "{} is a citizen of\n",
      "tensor(7.7266, device='cuda:0', dtype=torch.float16) tensor(242., device='cuda:0', dtype=torch.float16)\n",
      "\n"
     ]
    },
    {
     "data": {
      "application/vnd.jupyter.widget-view+json": {
       "model_id": "dc252a4bfc614cb88043014408e5d804",
       "version_major": 2,
       "version_minor": 0
      },
      "text/plain": [
       "  0%|          | 0/5 [00:00<?, ?it/s]"
      ]
     },
     "metadata": {},
     "output_type": "display_data"
    },
    {
     "name": "stdout",
     "output_type": "stream",
     "text": [
      "subject:  Andrew Bogut\n",
      "Mario Monti is a citizen of Italy.\n",
      "Ambar Roy is a citizen of India.\n",
      "Harashima is a citizen of Japan.\n",
      "{} is a citizen of\n",
      "tensor(23.5781, device='cuda:0', dtype=torch.float16) tensor(260., device='cuda:0', dtype=torch.float16)\n",
      "\n",
      "subject:  Ambar Roy\n",
      "Thomas Ong is a citizen of Singapore.\n",
      "Andrew Bogut is a citizen of Australia.\n",
      "Harashima is a citizen of Japan.\n",
      "{} is a citizen of\n",
      "tensor(12.1172, device='cuda:0', dtype=torch.float16) tensor(269.7500, device='cuda:0', dtype=torch.float16)\n",
      "\n",
      "subject:  Thomas Ong\n",
      "Ambar Roy is a citizen of India.\n",
      "Andrew Bogut is a citizen of Australia.\n",
      "Mario Monti is a citizen of Italy.\n",
      "{} is a citizen of\n",
      "tensor(11.6016, device='cuda:0', dtype=torch.float16) tensor(269.5000, device='cuda:0', dtype=torch.float16)\n",
      "\n",
      "subject:  Mario Monti\n",
      "Thomas Ong is a citizen of Singapore.\n",
      "Harashima is a citizen of Japan.\n",
      "Ambar Roy is a citizen of India.\n",
      "{} is a citizen of\n",
      "tensor(16.5000, device='cuda:0', dtype=torch.float16) tensor(255.8750, device='cuda:0', dtype=torch.float16)\n",
      "\n",
      "subject:  Harashima\n",
      "Andrew Bogut is a citizen of Australia.\n",
      "Mario Monti is a citizen of Italy.\n",
      "Thomas Ong is a citizen of Singapore.\n",
      "{} is a citizen of\n",
      "tensor(14.8906, device='cuda:0', dtype=torch.float16) tensor(302., device='cuda:0', dtype=torch.float16)\n",
      "\n"
     ]
    },
    {
     "data": {
      "application/vnd.jupyter.widget-view+json": {
       "model_id": "dd542e9879a540c88ee95e0e7b6a8dfb",
       "version_major": 2,
       "version_minor": 0
      },
      "text/plain": [
       "  0%|          | 0/5 [00:00<?, ?it/s]"
      ]
     },
     "metadata": {},
     "output_type": "display_data"
    },
    {
     "name": "stdout",
     "output_type": "stream",
     "text": [
      "subject:  Ambar Roy\n",
      "Mario Monti is a citizen of Italy.\n",
      "Harashima is a citizen of Japan.\n",
      "Pierre Cardin is a citizen of France.\n",
      "{} is a citizen of\n",
      "tensor(12.5859, device='cuda:0', dtype=torch.float16) tensor(266.7500, device='cuda:0', dtype=torch.float16)\n",
      "\n",
      "subject:  Harashima\n",
      "Pierre Cardin is a citizen of France.\n",
      "Andrew Bogut is a citizen of Australia.\n",
      "Mario Monti is a citizen of Italy.\n",
      "{} is a citizen of\n",
      "tensor(16.4375, device='cuda:0', dtype=torch.float16) tensor(307.7500, device='cuda:0', dtype=torch.float16)\n",
      "\n",
      "subject:  Andrew Bogut\n",
      "Mario Monti is a citizen of Italy.\n",
      "Ambar Roy is a citizen of India.\n",
      "Pierre Cardin is a citizen of France.\n",
      "{} is a citizen of\n",
      "tensor(19.9375, device='cuda:0', dtype=torch.float16) tensor(254.8750, device='cuda:0', dtype=torch.float16)\n",
      "\n",
      "subject:  Pierre Cardin\n",
      "Andrew Bogut is a citizen of Australia.\n",
      "Mario Monti is a citizen of Italy.\n",
      "Ambar Roy is a citizen of India.\n",
      "{} is a citizen of\n",
      "tensor(7.7812, device='cuda:0', dtype=torch.float16) tensor(241.7500, device='cuda:0', dtype=torch.float16)\n",
      "\n",
      "subject:  Mario Monti\n",
      "Andrew Bogut is a citizen of Australia.\n",
      "Pierre Cardin is a citizen of France.\n",
      "Ambar Roy is a citizen of India.\n",
      "{} is a citizen of\n",
      "tensor(22.5156, device='cuda:0', dtype=torch.float16) tensor(245., device='cuda:0', dtype=torch.float16)\n",
      "\n"
     ]
    },
    {
     "data": {
      "application/vnd.jupyter.widget-view+json": {
       "model_id": "bb64e37f9a7641789e7eca5aa645283b",
       "version_major": 2,
       "version_minor": 0
      },
      "text/plain": [
       "  0%|          | 0/5 [00:00<?, ?it/s]"
      ]
     },
     "metadata": {},
     "output_type": "display_data"
    },
    {
     "name": "stdout",
     "output_type": "stream",
     "text": [
      "subject:  Harashima\n",
      "Ronaldinho is a citizen of Brazil.\n",
      "Mario Monti is a citizen of Italy.\n",
      "Ambar Roy is a citizen of India.\n",
      "{} is a citizen of\n",
      "tensor(14.0469, device='cuda:0', dtype=torch.float16) tensor(310.7500, device='cuda:0', dtype=torch.float16)\n",
      "\n",
      "subject:  Thomas Ong\n",
      "Harashima is a citizen of Japan.\n",
      "Ambar Roy is a citizen of India.\n",
      "Mario Monti is a citizen of Italy.\n",
      "{} is a citizen of\n",
      "tensor(12.7109, device='cuda:0', dtype=torch.float16) tensor(272.5000, device='cuda:0', dtype=torch.float16)\n",
      "\n",
      "subject:  Ronaldinho\n",
      "Harashima is a citizen of Japan.\n",
      "Ambar Roy is a citizen of India.\n",
      "Thomas Ong is a citizen of Singapore.\n",
      "{} is a citizen of\n",
      "tensor(6.6289, device='cuda:0', dtype=torch.float16) tensor(258.5000, device='cuda:0', dtype=torch.float16)\n",
      "\n",
      "subject:  Ambar Roy\n",
      "Thomas Ong is a citizen of Singapore.\n",
      "Mario Monti is a citizen of Italy.\n",
      "Ronaldinho is a citizen of Brazil.\n",
      "{} is a citizen of\n",
      "tensor(12.2344, device='cuda:0', dtype=torch.float16) tensor(248.8750, device='cuda:0', dtype=torch.float16)\n",
      "\n",
      "subject:  Mario Monti\n",
      "Ambar Roy is a citizen of India.\n",
      "Ronaldinho is a citizen of Brazil.\n",
      "Thomas Ong is a citizen of Singapore.\n",
      "{} is a citizen of\n",
      "tensor(19.7656, device='cuda:0', dtype=torch.float16) tensor(246.8750, device='cuda:0', dtype=torch.float16)\n",
      "\n"
     ]
    },
    {
     "data": {
      "application/vnd.jupyter.widget-view+json": {
       "model_id": "29c7aaea07a34d2fb2a630e0437629d5",
       "version_major": 2,
       "version_minor": 0
      },
      "text/plain": [
       "  0%|          | 0/5 [00:00<?, ?it/s]"
      ]
     },
     "metadata": {},
     "output_type": "display_data"
    },
    {
     "name": "stdout",
     "output_type": "stream",
     "text": [
      "subject:  Andrew Bogut\n",
      "Ronaldinho is a citizen of Brazil.\n",
      "Mario Monti is a citizen of Italy.\n",
      "Harashima is a citizen of Japan.\n",
      "{} is a citizen of\n",
      "tensor(22.8125, device='cuda:0', dtype=torch.float16) tensor(258.7500, device='cuda:0', dtype=torch.float16)\n",
      "\n",
      "subject:  Harashima\n",
      "Mario Monti is a citizen of Italy.\n",
      "Andrew Bogut is a citizen of Australia.\n",
      "Ronaldinho is a citizen of Brazil.\n",
      "{} is a citizen of\n",
      "tensor(17.0625, device='cuda:0', dtype=torch.float16) tensor(294.5000, device='cuda:0', dtype=torch.float16)\n",
      "\n",
      "subject:  Thomas Ong\n",
      "Andrew Bogut is a citizen of Australia.\n",
      "Harashima is a citizen of Japan.\n",
      "Mario Monti is a citizen of Italy.\n",
      "{} is a citizen of\n",
      "tensor(13.5703, device='cuda:0', dtype=torch.float16) tensor(286.5000, device='cuda:0', dtype=torch.float16)\n",
      "\n",
      "subject:  Ronaldinho\n",
      "Harashima is a citizen of Japan.\n",
      "Mario Monti is a citizen of Italy.\n",
      "Thomas Ong is a citizen of Singapore.\n",
      "{} is a citizen of\n",
      "tensor(8.9062, device='cuda:0', dtype=torch.float16) tensor(237.1250, device='cuda:0', dtype=torch.float16)\n",
      "\n",
      "subject:  Mario Monti\n",
      "Thomas Ong is a citizen of Singapore.\n",
      "Andrew Bogut is a citizen of Australia.\n",
      "Ronaldinho is a citizen of Brazil.\n",
      "{} is a citizen of\n",
      "tensor(22.7188, device='cuda:0', dtype=torch.float16) tensor(242.5000, device='cuda:0', dtype=torch.float16)\n",
      "\n",
      "Saving weights and biases >>  gpt-j/jacobians_averaged_collection/before__ln_f/P27.npz\n",
      "----------------------------------------------------\n",
      "zzzzzzzzzzzzzzzzzzzzzzzzzzzzzzzzzzzzzzzzzzzzzzzzzzzz\n",
      "P101 {} works in the field of\n",
      "zzzzzzzzzzzzzzzzzzzzzzzzzzzzzzzzzzzzzzzzzzzzzzzzzzzz\n",
      "82\n",
      "{} works in the field of\n"
     ]
    },
    {
     "data": {
      "application/vnd.jupyter.widget-view+json": {
       "model_id": "b2d04043c7d0404e9c35e6291348e10a",
       "version_major": 2,
       "version_minor": 0
      },
      "text/plain": [
       "  0%|          | 0/10 [00:00<?, ?it/s]"
      ]
     },
     "metadata": {},
     "output_type": "display_data"
    },
    {
     "data": {
      "application/vnd.jupyter.widget-view+json": {
       "model_id": "52d019ab090245ac83d8a09700bbb357",
       "version_major": 2,
       "version_minor": 0
      },
      "text/plain": [
       "  0%|          | 0/5 [00:00<?, ?it/s]"
      ]
     },
     "metadata": {},
     "output_type": "display_data"
    },
    {
     "name": "stdout",
     "output_type": "stream",
     "text": [
      "subject:  Sima Qian\n",
      "Edwin Hubble works in the field of astronomy.\n",
      "European Physical Journal works in the field of physics.\n",
      "Michael Jackson works in the field of musician.\n",
      "{} works in the field of\n",
      "tensor(4.4336, device='cuda:0', dtype=torch.float16) tensor(290., device='cuda:0', dtype=torch.float16)\n",
      "\n",
      "subject:  Edwin Hubble\n",
      "Michael Jackson works in the field of musician.\n",
      "Sima Qian works in the field of history.\n",
      "European Physical Journal works in the field of physics.\n",
      "{} works in the field of\n",
      "tensor(2.0234, device='cuda:0', dtype=torch.float16) tensor(320., device='cuda:0', dtype=torch.float16)\n",
      "\n",
      "subject:  Michael Jackson\n",
      "Sima Qian works in the field of history.\n",
      "Hypatia works in the field of mathematics.\n",
      "European Physical Journal works in the field of physics.\n",
      "{} works in the field of\n",
      "tensor(4.7891, device='cuda:0', dtype=torch.float16) tensor(323.2500, device='cuda:0', dtype=torch.float16)\n",
      "\n",
      "subject:  Hypatia\n",
      "European Physical Journal works in the field of physics.\n",
      "Sima Qian works in the field of history.\n",
      "Michael Jackson works in the field of musician.\n",
      "{} works in the field of\n",
      "tensor(27.6875, device='cuda:0', dtype=torch.float16) tensor(315.2500, device='cuda:0', dtype=torch.float16)\n",
      "\n",
      "subject:  European Physical Journal\n",
      "Sima Qian works in the field of history.\n",
      "Edwin Hubble works in the field of astronomy.\n",
      "Michael Jackson works in the field of musician.\n",
      "{} works in the field of\n",
      "tensor(1.4219, device='cuda:0', dtype=torch.float16) tensor(346., device='cuda:0', dtype=torch.float16)\n",
      "\n"
     ]
    },
    {
     "data": {
      "application/vnd.jupyter.widget-view+json": {
       "model_id": "8d3b391179b24ffea32452cc92a770cb",
       "version_major": 2,
       "version_minor": 0
      },
      "text/plain": [
       "  0%|          | 0/5 [00:00<?, ?it/s]"
      ]
     },
     "metadata": {},
     "output_type": "display_data"
    },
    {
     "name": "stdout",
     "output_type": "stream",
     "text": [
      "subject:  Max Weber\n",
      "James Hillman works in the field of psychology.\n",
      "Sima Qian works in the field of history.\n",
      "millennialism works in the field of theology.\n",
      "{} works in the field of\n",
      "tensor(1.8105, device='cuda:0', dtype=torch.float16) tensor(279., device='cuda:0', dtype=torch.float16)\n",
      "\n",
      "subject:  Edwin Hubble\n",
      "millennialism works in the field of theology.\n",
      "Sima Qian works in the field of history.\n",
      "Max Weber works in the field of sociology.\n",
      "{} works in the field of\n",
      "tensor(1.7910, device='cuda:0', dtype=torch.float16) tensor(297., device='cuda:0', dtype=torch.float16)\n",
      "\n",
      "subject:  Sima Qian\n",
      "millennialism works in the field of theology.\n",
      "Edwin Hubble works in the field of astronomy.\n",
      "Max Weber works in the field of sociology.\n",
      "{} works in the field of\n",
      "tensor(5.6094, device='cuda:0', dtype=torch.float16) tensor(264.2500, device='cuda:0', dtype=torch.float16)\n",
      "\n",
      "subject:  millennialism\n",
      "Sima Qian works in the field of history.\n",
      "Max Weber works in the field of sociology.\n",
      "Edwin Hubble works in the field of astronomy.\n",
      "{} works in the field of\n",
      "tensor(5.3281, device='cuda:0', dtype=torch.float16) tensor(300.2500, device='cuda:0', dtype=torch.float16)\n",
      "\n",
      "subject:  James Hillman\n",
      "Max Weber works in the field of sociology.\n",
      "Edwin Hubble works in the field of astronomy.\n",
      "millennialism works in the field of theology.\n",
      "{} works in the field of\n",
      "tensor(18.0469, device='cuda:0', dtype=torch.float16) tensor(267., device='cuda:0', dtype=torch.float16)\n",
      "\n"
     ]
    },
    {
     "data": {
      "application/vnd.jupyter.widget-view+json": {
       "model_id": "3780baf3b5eb46bdb1ff9ce5fc0aa806",
       "version_major": 2,
       "version_minor": 0
      },
      "text/plain": [
       "  0%|          | 0/5 [00:00<?, ?it/s]"
      ]
     },
     "metadata": {},
     "output_type": "display_data"
    },
    {
     "name": "stdout",
     "output_type": "stream",
     "text": [
      "subject:  Sima Qian\n",
      "James Hillman works in the field of psychology.\n",
      "Michael Jackson works in the field of musician.\n",
      "Max Weber works in the field of sociology.\n",
      "{} works in the field of\n",
      "tensor(3.8398, device='cuda:0', dtype=torch.float16) tensor(293.7500, device='cuda:0', dtype=torch.float16)\n",
      "\n",
      "subject:  Michael Jackson\n",
      "James Hillman works in the field of psychology.\n",
      "Max Weber works in the field of sociology.\n",
      "Carl Menger works in the field of economics.\n",
      "{} works in the field of\n",
      "tensor(3.4355, device='cuda:0', dtype=torch.float16) tensor(295., device='cuda:0', dtype=torch.float16)\n",
      "\n",
      "subject:  Max Weber\n",
      "Sima Qian works in the field of history.\n",
      "Michael Jackson works in the field of musician.\n",
      "Carl Menger works in the field of economics.\n",
      "{} works in the field of\n",
      "tensor(1.9473, device='cuda:0', dtype=torch.float16) tensor(289.7500, device='cuda:0', dtype=torch.float16)\n",
      "\n",
      "subject:  James Hillman\n",
      "Sima Qian works in the field of history.\n",
      "Carl Menger works in the field of economics.\n",
      "Michael Jackson works in the field of musician.\n",
      "{} works in the field of\n",
      "tensor(16.3594, device='cuda:0', dtype=torch.float16) tensor(287., device='cuda:0', dtype=torch.float16)\n",
      "\n",
      "subject:  Carl Menger\n",
      "Michael Jackson works in the field of musician.\n",
      "James Hillman works in the field of psychology.\n",
      "Sima Qian works in the field of history.\n",
      "{} works in the field of\n",
      "tensor(23.1406, device='cuda:0', dtype=torch.float16) tensor(262.2500, device='cuda:0', dtype=torch.float16)\n",
      "\n"
     ]
    },
    {
     "data": {
      "application/vnd.jupyter.widget-view+json": {
       "model_id": "60843c5d5d0b43088f6ea80962b952ac",
       "version_major": 2,
       "version_minor": 0
      },
      "text/plain": [
       "  0%|          | 0/5 [00:00<?, ?it/s]"
      ]
     },
     "metadata": {},
     "output_type": "display_data"
    },
    {
     "name": "stdout",
     "output_type": "stream",
     "text": [
      "subject:  millennialism\n",
      "Michael Jackson works in the field of musician.\n",
      "Euclid works in the field of geometry.\n",
      "Carl Menger works in the field of economics.\n",
      "{} works in the field of\n",
      "tensor(5.0195, device='cuda:0', dtype=torch.float16) tensor(283., device='cuda:0', dtype=torch.float16)\n",
      "\n",
      "subject:  Euclid\n",
      "Carl Menger works in the field of economics.\n",
      "James Hillman works in the field of psychology.\n",
      "millennialism works in the field of theology.\n",
      "{} works in the field of\n",
      "tensor(1.7490, device='cuda:0', dtype=torch.float16) tensor(268.2500, device='cuda:0', dtype=torch.float16)\n",
      "\n",
      "subject:  Carl Menger\n",
      "millennialism works in the field of theology.\n",
      "Michael Jackson works in the field of musician.\n",
      "Euclid works in the field of geometry.\n",
      "{} works in the field of\n",
      "tensor(25.1250, device='cuda:0', dtype=torch.float16) tensor(259., device='cuda:0', dtype=torch.float16)\n",
      "\n",
      "subject:  Michael Jackson\n",
      "millennialism works in the field of theology.\n",
      "Carl Menger works in the field of economics.\n",
      "James Hillman works in the field of psychology.\n",
      "{} works in the field of\n",
      "tensor(3.5840, device='cuda:0', dtype=torch.float16) tensor(273., device='cuda:0', dtype=torch.float16)\n",
      "\n",
      "subject:  James Hillman\n",
      "Euclid works in the field of geometry.\n",
      "millennialism works in the field of theology.\n",
      "Carl Menger works in the field of economics.\n",
      "{} works in the field of\n",
      "tensor(15.2812, device='cuda:0', dtype=torch.float16) tensor(275.7500, device='cuda:0', dtype=torch.float16)\n",
      "\n"
     ]
    },
    {
     "data": {
      "application/vnd.jupyter.widget-view+json": {
       "model_id": "1e2dfb54862b4ddda39c185f4c5d335a",
       "version_major": 2,
       "version_minor": 0
      },
      "text/plain": [
       "  0%|          | 0/5 [00:00<?, ?it/s]"
      ]
     },
     "metadata": {},
     "output_type": "display_data"
    },
    {
     "name": "stdout",
     "output_type": "stream",
     "text": [
      "subject:  Michael Jackson\n",
      "Carl Menger works in the field of economics.\n",
      "Hypatia works in the field of mathematics.\n",
      "James Hillman works in the field of psychology.\n",
      "{} works in the field of\n",
      "tensor(3.1797, device='cuda:0', dtype=torch.float16) tensor(299.5000, device='cuda:0', dtype=torch.float16)\n",
      "\n",
      "subject:  Hypatia\n",
      "Euclid works in the field of geometry.\n",
      "James Hillman works in the field of psychology.\n",
      "Michael Jackson works in the field of musician.\n",
      "{} works in the field of\n",
      "tensor(29.7656, device='cuda:0', dtype=torch.float16) tensor(276., device='cuda:0', dtype=torch.float16)\n",
      "\n",
      "subject:  Carl Menger\n",
      "Michael Jackson works in the field of musician.\n",
      "James Hillman works in the field of psychology.\n",
      "Hypatia works in the field of mathematics.\n",
      "{} works in the field of\n",
      "tensor(24.4219, device='cuda:0', dtype=torch.float16) tensor(260., device='cuda:0', dtype=torch.float16)\n",
      "\n",
      "subject:  Euclid\n",
      "James Hillman works in the field of psychology.\n",
      "Carl Menger works in the field of economics.\n",
      "Michael Jackson works in the field of musician.\n",
      "{} works in the field of\n",
      "tensor(2.1035, device='cuda:0', dtype=torch.float16) tensor(295.2500, device='cuda:0', dtype=torch.float16)\n",
      "\n",
      "subject:  James Hillman\n",
      "Carl Menger works in the field of economics.\n",
      "Michael Jackson works in the field of musician.\n",
      "Hypatia works in the field of mathematics.\n",
      "{} works in the field of\n",
      "tensor(12.5234, device='cuda:0', dtype=torch.float16) tensor(294.5000, device='cuda:0', dtype=torch.float16)\n",
      "\n"
     ]
    },
    {
     "data": {
      "application/vnd.jupyter.widget-view+json": {
       "model_id": "f4b2302b0d1c40dfbc6819e32d413bf5",
       "version_major": 2,
       "version_minor": 0
      },
      "text/plain": [
       "  0%|          | 0/5 [00:00<?, ?it/s]"
      ]
     },
     "metadata": {},
     "output_type": "display_data"
    },
    {
     "name": "stdout",
     "output_type": "stream",
     "text": [
      "subject:  Sima Qian\n",
      "Max Weber works in the field of sociology.\n",
      "James Hillman works in the field of psychology.\n",
      "Michael Jackson works in the field of musician.\n",
      "{} works in the field of\n",
      "tensor(3.5527, device='cuda:0', dtype=torch.float16) tensor(285.2500, device='cuda:0', dtype=torch.float16)\n",
      "\n",
      "subject:  Michael Jackson\n",
      "Sima Qian works in the field of history.\n",
      "James Hillman works in the field of psychology.\n",
      "millennialism works in the field of theology.\n",
      "{} works in the field of\n",
      "tensor(4.0664, device='cuda:0', dtype=torch.float16) tensor(291., device='cuda:0', dtype=torch.float16)\n",
      "\n",
      "subject:  James Hillman\n",
      "Max Weber works in the field of sociology.\n",
      "millennialism works in the field of theology.\n",
      "Sima Qian works in the field of history.\n",
      "{} works in the field of\n",
      "tensor(17.2031, device='cuda:0', dtype=torch.float16) tensor(269.5000, device='cuda:0', dtype=torch.float16)\n",
      "\n",
      "subject:  Max Weber\n",
      "Sima Qian works in the field of history.\n",
      "Michael Jackson works in the field of musician.\n",
      "millennialism works in the field of theology.\n",
      "{} works in the field of\n",
      "tensor(2.0996, device='cuda:0', dtype=torch.float16) tensor(315.7500, device='cuda:0', dtype=torch.float16)\n",
      "\n",
      "subject:  millennialism\n",
      "Max Weber works in the field of sociology.\n",
      "James Hillman works in the field of psychology.\n",
      "Sima Qian works in the field of history.\n",
      "{} works in the field of\n",
      "tensor(3.7969, device='cuda:0', dtype=torch.float16) tensor(286., device='cuda:0', dtype=torch.float16)\n",
      "\n"
     ]
    },
    {
     "data": {
      "application/vnd.jupyter.widget-view+json": {
       "model_id": "d95e1a4dfbce46cca75aede0e2af05ae",
       "version_major": 2,
       "version_minor": 0
      },
      "text/plain": [
       "  0%|          | 0/5 [00:00<?, ?it/s]"
      ]
     },
     "metadata": {},
     "output_type": "display_data"
    },
    {
     "name": "stdout",
     "output_type": "stream",
     "text": [
      "subject:  millennialism\n",
      "Carl Menger works in the field of economics.\n",
      "Euclid works in the field of geometry.\n",
      "Sima Qian works in the field of history.\n",
      "{} works in the field of\n",
      "tensor(4.7344, device='cuda:0', dtype=torch.float16) tensor(297.5000, device='cuda:0', dtype=torch.float16)\n",
      "\n",
      "subject:  Carl Menger\n",
      "Sima Qian works in the field of history.\n",
      "Euclid works in the field of geometry.\n",
      "Hypatia works in the field of mathematics.\n",
      "{} works in the field of\n",
      "tensor(23.0781, device='cuda:0', dtype=torch.float16) tensor(244.5000, device='cuda:0', dtype=torch.float16)\n",
      "\n",
      "subject:  Hypatia\n",
      "Euclid works in the field of geometry.\n",
      "Sima Qian works in the field of history.\n",
      "Carl Menger works in the field of economics.\n",
      "{} works in the field of\n",
      "tensor(32.6250, device='cuda:0', dtype=torch.float16) tensor(247.3750, device='cuda:0', dtype=torch.float16)\n",
      "\n",
      "subject:  Sima Qian\n",
      "millennialism works in the field of theology.\n",
      "Hypatia works in the field of mathematics.\n",
      "Carl Menger works in the field of economics.\n",
      "{} works in the field of\n",
      "tensor(5.2422, device='cuda:0', dtype=torch.float16) tensor(275., device='cuda:0', dtype=torch.float16)\n",
      "\n",
      "subject:  Euclid\n",
      "Carl Menger works in the field of economics.\n",
      "millennialism works in the field of theology.\n",
      "Hypatia works in the field of mathematics.\n",
      "{} works in the field of\n",
      "tensor(2.2344, device='cuda:0', dtype=torch.float16) tensor(274.2500, device='cuda:0', dtype=torch.float16)\n",
      "\n"
     ]
    },
    {
     "data": {
      "application/vnd.jupyter.widget-view+json": {
       "model_id": "9e915451b01845c383d0300ce8627254",
       "version_major": 2,
       "version_minor": 0
      },
      "text/plain": [
       "  0%|          | 0/5 [00:00<?, ?it/s]"
      ]
     },
     "metadata": {},
     "output_type": "display_data"
    },
    {
     "name": "stdout",
     "output_type": "stream",
     "text": [
      "subject:  European Physical Journal\n",
      "James Hillman works in the field of psychology.\n",
      "Michael Jackson works in the field of musician.\n",
      "Carl Menger works in the field of economics.\n",
      "{} works in the field of\n",
      "tensor(1.3379, device='cuda:0', dtype=torch.float16) tensor(319.2500, device='cuda:0', dtype=torch.float16)\n",
      "\n",
      "subject:  James Hillman\n",
      "Michael Jackson works in the field of musician.\n",
      "millennialism works in the field of theology.\n",
      "Carl Menger works in the field of economics.\n",
      "{} works in the field of\n",
      "tensor(13.3750, device='cuda:0', dtype=torch.float16) tensor(280.5000, device='cuda:0', dtype=torch.float16)\n",
      "\n",
      "subject:  Michael Jackson\n",
      "millennialism works in the field of theology.\n",
      "Carl Menger works in the field of economics.\n",
      "James Hillman works in the field of psychology.\n",
      "{} works in the field of\n",
      "tensor(3.5840, device='cuda:0', dtype=torch.float16) tensor(273., device='cuda:0', dtype=torch.float16)\n",
      "\n",
      "subject:  millennialism\n",
      "Michael Jackson works in the field of musician.\n",
      "European Physical Journal works in the field of physics.\n",
      "Carl Menger works in the field of economics.\n",
      "{} works in the field of\n",
      "tensor(3.7656, device='cuda:0', dtype=torch.float16) tensor(280.7500, device='cuda:0', dtype=torch.float16)\n",
      "\n",
      "subject:  Carl Menger\n",
      "James Hillman works in the field of psychology.\n",
      "Michael Jackson works in the field of musician.\n",
      "European Physical Journal works in the field of physics.\n",
      "{} works in the field of\n",
      "tensor(22.7031, device='cuda:0', dtype=torch.float16) tensor(287.2500, device='cuda:0', dtype=torch.float16)\n",
      "\n"
     ]
    },
    {
     "data": {
      "application/vnd.jupyter.widget-view+json": {
       "model_id": "45aa2c151aea4f1eacb6ae4907de1a15",
       "version_major": 2,
       "version_minor": 0
      },
      "text/plain": [
       "  0%|          | 0/5 [00:00<?, ?it/s]"
      ]
     },
     "metadata": {},
     "output_type": "display_data"
    },
    {
     "name": "stdout",
     "output_type": "stream",
     "text": [
      "subject:  Max Weber\n",
      "European Physical Journal works in the field of physics.\n",
      "Carl Menger works in the field of economics.\n",
      "Edwin Hubble works in the field of astronomy.\n",
      "{} works in the field of\n",
      "tensor(1.7607, device='cuda:0', dtype=torch.float16) tensor(277., device='cuda:0', dtype=torch.float16)\n",
      "\n",
      "subject:  Michael Jackson\n",
      "Max Weber works in the field of sociology.\n",
      "Edwin Hubble works in the field of astronomy.\n",
      "Carl Menger works in the field of economics.\n",
      "{} works in the field of\n",
      "tensor(4., device='cuda:0', dtype=torch.float16) tensor(272.7500, device='cuda:0', dtype=torch.float16)\n",
      "\n",
      "subject:  Edwin Hubble\n",
      "Michael Jackson works in the field of musician.\n",
      "Max Weber works in the field of sociology.\n",
      "European Physical Journal works in the field of physics.\n",
      "{} works in the field of\n",
      "tensor(1.7529, device='cuda:0', dtype=torch.float16) tensor(326.5000, device='cuda:0', dtype=torch.float16)\n",
      "\n",
      "subject:  European Physical Journal\n",
      "Michael Jackson works in the field of musician.\n",
      "Carl Menger works in the field of economics.\n",
      "Max Weber works in the field of sociology.\n",
      "{} works in the field of\n",
      "tensor(1.4326, device='cuda:0', dtype=torch.float16) tensor(332.5000, device='cuda:0', dtype=torch.float16)\n",
      "\n",
      "subject:  Carl Menger\n",
      "Edwin Hubble works in the field of astronomy.\n",
      "Michael Jackson works in the field of musician.\n",
      "Max Weber works in the field of sociology.\n",
      "{} works in the field of\n",
      "tensor(24.4062, device='cuda:0', dtype=torch.float16) tensor(262.7500, device='cuda:0', dtype=torch.float16)\n",
      "\n"
     ]
    },
    {
     "data": {
      "application/vnd.jupyter.widget-view+json": {
       "model_id": "b8c766ff36114ac5a9388419a9cc7c82",
       "version_major": 2,
       "version_minor": 0
      },
      "text/plain": [
       "  0%|          | 0/5 [00:00<?, ?it/s]"
      ]
     },
     "metadata": {},
     "output_type": "display_data"
    },
    {
     "name": "stdout",
     "output_type": "stream",
     "text": [
      "subject:  James Hillman\n",
      "Edwin Hubble works in the field of astronomy.\n",
      "Max Weber works in the field of sociology.\n",
      "Carl Menger works in the field of economics.\n",
      "{} works in the field of\n",
      "tensor(16.5312, device='cuda:0', dtype=torch.float16) tensor(264.5000, device='cuda:0', dtype=torch.float16)\n",
      "\n",
      "subject:  Max Weber\n",
      "James Hillman works in the field of psychology.\n",
      "Carl Menger works in the field of economics.\n",
      "Hypatia works in the field of mathematics.\n",
      "{} works in the field of\n",
      "tensor(1.8516, device='cuda:0', dtype=torch.float16) tensor(284.2500, device='cuda:0', dtype=torch.float16)\n",
      "\n",
      "subject:  Edwin Hubble\n",
      "James Hillman works in the field of psychology.\n",
      "Carl Menger works in the field of economics.\n",
      "Hypatia works in the field of mathematics.\n",
      "{} works in the field of\n",
      "tensor(1.5928, device='cuda:0', dtype=torch.float16) tensor(291.7500, device='cuda:0', dtype=torch.float16)\n",
      "\n",
      "subject:  Hypatia\n",
      "James Hillman works in the field of psychology.\n",
      "Edwin Hubble works in the field of astronomy.\n",
      "Carl Menger works in the field of economics.\n",
      "{} works in the field of\n",
      "tensor(29.1250, device='cuda:0', dtype=torch.float16) tensor(255.3750, device='cuda:0', dtype=torch.float16)\n",
      "\n",
      "subject:  Carl Menger\n",
      "James Hillman works in the field of psychology.\n",
      "Hypatia works in the field of mathematics.\n",
      "Max Weber works in the field of sociology.\n",
      "{} works in the field of\n",
      "tensor(19.6250, device='cuda:0', dtype=torch.float16) tensor(267.2500, device='cuda:0', dtype=torch.float16)\n",
      "\n",
      "Saving weights and biases >>  gpt-j/jacobians_averaged_collection/before__ln_f/P101.npz\n",
      "----------------------------------------------------\n",
      "zzzzzzzzzzzzzzzzzzzzzzzzzzzzzzzzzzzzzzzzzzzzzzzzzzzz\n",
      "P19 {} was born in\n",
      "zzzzzzzzzzzzzzzzzzzzzzzzzzzzzzzzzzzzzzzzzzzzzzzzzzzz\n",
      "128\n",
      "{} was born in\n"
     ]
    },
    {
     "data": {
      "application/vnd.jupyter.widget-view+json": {
       "model_id": "305a38e7ef684810bb15e6fa9ba37e4d",
       "version_major": 2,
       "version_minor": 0
      },
      "text/plain": [
       "  0%|          | 0/10 [00:00<?, ?it/s]"
      ]
     },
     "metadata": {},
     "output_type": "display_data"
    },
    {
     "data": {
      "application/vnd.jupyter.widget-view+json": {
       "model_id": "22a080aaa38646f9b1b7d24b4e4bd36a",
       "version_major": 2,
       "version_minor": 0
      },
      "text/plain": [
       "  0%|          | 0/5 [00:00<?, ?it/s]"
      ]
     },
     "metadata": {},
     "output_type": "display_data"
    },
    {
     "name": "stdout",
     "output_type": "stream",
     "text": [
      "subject:  Mario Caiano\n",
      "The Weeknd was born in Toronto.\n",
      "Sirindhorn was born in Bangkok.\n",
      "Mayumi Tanaka was born in Tokyo.\n",
      "{} was born in\n",
      "tensor(1.5020, device='cuda:0', dtype=torch.float16) tensor(344.5000, device='cuda:0', dtype=torch.float16)\n",
      "\n",
      "subject:  The Weeknd\n",
      "Sirindhorn was born in Bangkok.\n",
      "Mayumi Tanaka was born in Tokyo.\n",
      "Paul Epworth was born in London.\n",
      "{} was born in\n",
      "tensor(22.1406, device='cuda:0', dtype=torch.float16) tensor(149.5000, device='cuda:0', dtype=torch.float16)\n",
      "\n",
      "subject:  Mayumi Tanaka\n",
      "Mario Caiano was born in Rome.\n",
      "Sirindhorn was born in Bangkok.\n",
      "The Weeknd was born in Toronto.\n",
      "{} was born in\n",
      "tensor(1.6211, device='cuda:0', dtype=torch.float16) tensor(352.7500, device='cuda:0', dtype=torch.float16)\n",
      "\n",
      "subject:  Sirindhorn\n",
      "The Weeknd was born in Toronto.\n",
      "Mario Caiano was born in Rome.\n",
      "Paul Epworth was born in London.\n",
      "{} was born in\n",
      "tensor(32.4688, device='cuda:0', dtype=torch.float16) tensor(221.5000, device='cuda:0', dtype=torch.float16)\n",
      "\n",
      "subject:  Paul Epworth\n",
      "Mayumi Tanaka was born in Tokyo.\n",
      "Mario Caiano was born in Rome.\n",
      "Sirindhorn was born in Bangkok.\n",
      "{} was born in\n",
      "tensor(16.8125, device='cuda:0', dtype=torch.float16) tensor(328.7500, device='cuda:0', dtype=torch.float16)\n",
      "\n"
     ]
    },
    {
     "data": {
      "application/vnd.jupyter.widget-view+json": {
       "model_id": "9a6843be87364bca897e145d3ee950a5",
       "version_major": 2,
       "version_minor": 0
      },
      "text/plain": [
       "  0%|          | 0/5 [00:00<?, ?it/s]"
      ]
     },
     "metadata": {},
     "output_type": "display_data"
    },
    {
     "name": "stdout",
     "output_type": "stream",
     "text": [
      "subject:  The Weeknd\n",
      "Edward Said was born in Jerusalem.\n",
      "Paul Epworth was born in London.\n",
      "Mario Caiano was born in Rome.\n",
      "{} was born in\n",
      "tensor(15.9141, device='cuda:0', dtype=torch.float16) tensor(155.1250, device='cuda:0', dtype=torch.float16)\n",
      "\n",
      "subject:  Edward Said\n",
      "Paul Epworth was born in London.\n",
      "The Weeknd was born in Toronto.\n",
      "Sirindhorn was born in Bangkok.\n",
      "{} was born in\n",
      "tensor(6.6992, device='cuda:0', dtype=torch.float16) tensor(145.6250, device='cuda:0', dtype=torch.float16)\n",
      "\n",
      "subject:  Paul Epworth\n",
      "The Weeknd was born in Toronto.\n",
      "Sirindhorn was born in Bangkok.\n",
      "Mario Caiano was born in Rome.\n",
      "{} was born in\n",
      "tensor(10.3984, device='cuda:0', dtype=torch.float16) tensor(358., device='cuda:0', dtype=torch.float16)\n",
      "\n",
      "subject:  Mario Caiano\n",
      "Sirindhorn was born in Bangkok.\n",
      "Edward Said was born in Jerusalem.\n",
      "The Weeknd was born in Toronto.\n",
      "{} was born in\n",
      "tensor(1.5762, device='cuda:0', dtype=torch.float16) tensor(357.2500, device='cuda:0', dtype=torch.float16)\n",
      "\n",
      "subject:  Sirindhorn\n",
      "The Weeknd was born in Toronto.\n",
      "Mario Caiano was born in Rome.\n",
      "Edward Said was born in Jerusalem.\n",
      "{} was born in\n",
      "tensor(37., device='cuda:0', dtype=torch.float16) tensor(224.6250, device='cuda:0', dtype=torch.float16)\n",
      "\n"
     ]
    },
    {
     "data": {
      "application/vnd.jupyter.widget-view+json": {
       "model_id": "77fa0a6d0edf433d96db458c4f51203c",
       "version_major": 2,
       "version_minor": 0
      },
      "text/plain": [
       "  0%|          | 0/5 [00:00<?, ?it/s]"
      ]
     },
     "metadata": {},
     "output_type": "display_data"
    },
    {
     "name": "stdout",
     "output_type": "stream",
     "text": [
      "subject:  Sergey Lavrov\n",
      "Paul Kimmage was born in Dublin.\n",
      "Mayumi Tanaka was born in Tokyo.\n",
      "The Weeknd was born in Toronto.\n",
      "{} was born in\n",
      "tensor(1.1846, device='cuda:0', dtype=torch.float16) tensor(240.8750, device='cuda:0', dtype=torch.float16)\n",
      "\n",
      "subject:  Paul Kimmage\n",
      "Mayumi Tanaka was born in Tokyo.\n",
      "Paul Epworth was born in London.\n",
      "Sergey Lavrov was born in Moscow.\n",
      "{} was born in\n",
      "tensor(2.9316, device='cuda:0', dtype=torch.float16) tensor(324.7500, device='cuda:0', dtype=torch.float16)\n",
      "\n",
      "subject:  The Weeknd\n",
      "Sergey Lavrov was born in Moscow.\n",
      "Mayumi Tanaka was born in Tokyo.\n",
      "Paul Kimmage was born in Dublin.\n",
      "{} was born in\n",
      "tensor(13.6250, device='cuda:0', dtype=torch.float16) tensor(142.2500, device='cuda:0', dtype=torch.float16)\n",
      "\n",
      "subject:  Paul Epworth\n",
      "Mayumi Tanaka was born in Tokyo.\n",
      "Paul Kimmage was born in Dublin.\n",
      "Sergey Lavrov was born in Moscow.\n",
      "{} was born in\n",
      "tensor(15.8828, device='cuda:0', dtype=torch.float16) tensor(334.7500, device='cuda:0', dtype=torch.float16)\n",
      "\n",
      "subject:  Mayumi Tanaka\n",
      "Paul Epworth was born in London.\n",
      "The Weeknd was born in Toronto.\n",
      "Sergey Lavrov was born in Moscow.\n",
      "{} was born in\n",
      "tensor(2.0137, device='cuda:0', dtype=torch.float16) tensor(342.7500, device='cuda:0', dtype=torch.float16)\n",
      "\n"
     ]
    },
    {
     "data": {
      "application/vnd.jupyter.widget-view+json": {
       "model_id": "ac2f41999c6b49b2b3299effc7891f45",
       "version_major": 2,
       "version_minor": 0
      },
      "text/plain": [
       "  0%|          | 0/5 [00:00<?, ?it/s]"
      ]
     },
     "metadata": {},
     "output_type": "display_data"
    },
    {
     "name": "stdout",
     "output_type": "stream",
     "text": [
      "subject:  Maria Altmann\n",
      "Mayumi Tanaka was born in Tokyo.\n",
      "Mario Caiano was born in Rome.\n",
      "Paul Kimmage was born in Dublin.\n",
      "{} was born in\n",
      "tensor(31.9688, device='cuda:0', dtype=torch.float16) tensor(242.7500, device='cuda:0', dtype=torch.float16)\n",
      "\n",
      "subject:  Mario Caiano\n",
      "Maria Altmann was born in Vienna.\n",
      "Mayumi Tanaka was born in Tokyo.\n",
      "Paul Kimmage was born in Dublin.\n",
      "{} was born in\n",
      "tensor(1.4980, device='cuda:0', dtype=torch.float16) tensor(344.7500, device='cuda:0', dtype=torch.float16)\n",
      "\n",
      "subject:  Edward Said\n",
      "Maria Altmann was born in Vienna.\n",
      "Mayumi Tanaka was born in Tokyo.\n",
      "Paul Kimmage was born in Dublin.\n",
      "{} was born in\n",
      "tensor(6.2109, device='cuda:0', dtype=torch.float16) tensor(143.2500, device='cuda:0', dtype=torch.float16)\n",
      "\n",
      "subject:  Mayumi Tanaka\n",
      "Paul Kimmage was born in Dublin.\n",
      "Edward Said was born in Jerusalem.\n",
      "Mario Caiano was born in Rome.\n",
      "{} was born in\n",
      "tensor(1.8926, device='cuda:0', dtype=torch.float16) tensor(336., device='cuda:0', dtype=torch.float16)\n",
      "\n",
      "subject:  Paul Kimmage\n",
      "Mayumi Tanaka was born in Tokyo.\n",
      "Maria Altmann was born in Vienna.\n",
      "Mario Caiano was born in Rome.\n",
      "{} was born in\n",
      "tensor(4.3164, device='cuda:0', dtype=torch.float16) tensor(317., device='cuda:0', dtype=torch.float16)\n",
      "\n"
     ]
    },
    {
     "data": {
      "application/vnd.jupyter.widget-view+json": {
       "model_id": "4814028bfcf44e0ea2bd79b161f2ad9a",
       "version_major": 2,
       "version_minor": 0
      },
      "text/plain": [
       "  0%|          | 0/5 [00:00<?, ?it/s]"
      ]
     },
     "metadata": {},
     "output_type": "display_data"
    },
    {
     "name": "stdout",
     "output_type": "stream",
     "text": [
      "subject:  Mario Caiano\n",
      "The Weeknd was born in Toronto.\n",
      "Paul Epworth was born in London.\n",
      "Maria Altmann was born in Vienna.\n",
      "{} was born in\n",
      "tensor(1.5811, device='cuda:0', dtype=torch.float16) tensor(350.7500, device='cuda:0', dtype=torch.float16)\n",
      "\n",
      "subject:  Paul Kimmage\n",
      "Paul Epworth was born in London.\n",
      "Mario Caiano was born in Rome.\n",
      "Maria Altmann was born in Vienna.\n",
      "{} was born in\n",
      "tensor(3.2910, device='cuda:0', dtype=torch.float16) tensor(328.2500, device='cuda:0', dtype=torch.float16)\n",
      "\n",
      "subject:  The Weeknd\n",
      "Paul Kimmage was born in Dublin.\n",
      "Maria Altmann was born in Vienna.\n",
      "Mario Caiano was born in Rome.\n",
      "{} was born in\n",
      "tensor(12.7188, device='cuda:0', dtype=torch.float16) tensor(156., device='cuda:0', dtype=torch.float16)\n",
      "\n",
      "subject:  Maria Altmann\n",
      "The Weeknd was born in Toronto.\n",
      "Mario Caiano was born in Rome.\n",
      "Paul Kimmage was born in Dublin.\n",
      "{} was born in\n",
      "tensor(30.5938, device='cuda:0', dtype=torch.float16) tensor(243.3750, device='cuda:0', dtype=torch.float16)\n",
      "\n",
      "subject:  Paul Epworth\n",
      "Paul Kimmage was born in Dublin.\n",
      "Maria Altmann was born in Vienna.\n",
      "Mario Caiano was born in Rome.\n",
      "{} was born in\n",
      "tensor(8.4922, device='cuda:0', dtype=torch.float16) tensor(359.7500, device='cuda:0', dtype=torch.float16)\n",
      "\n"
     ]
    },
    {
     "data": {
      "application/vnd.jupyter.widget-view+json": {
       "model_id": "4afd73d6bf804b87b6476f6238536c83",
       "version_major": 2,
       "version_minor": 0
      },
      "text/plain": [
       "  0%|          | 0/5 [00:00<?, ?it/s]"
      ]
     },
     "metadata": {},
     "output_type": "display_data"
    },
    {
     "name": "stdout",
     "output_type": "stream",
     "text": [
      "subject:  Paul Epworth\n",
      "The Weeknd was born in Toronto.\n",
      "Paul Kimmage was born in Dublin.\n",
      "Sirindhorn was born in Bangkok.\n",
      "{} was born in\n",
      "tensor(12.1953, device='cuda:0', dtype=torch.float16) tensor(356.5000, device='cuda:0', dtype=torch.float16)\n",
      "\n",
      "subject:  Sirindhorn\n",
      "The Weeknd was born in Toronto.\n",
      "Mario Caiano was born in Rome.\n",
      "Paul Epworth was born in London.\n",
      "{} was born in\n",
      "tensor(32.4688, device='cuda:0', dtype=torch.float16) tensor(221.5000, device='cuda:0', dtype=torch.float16)\n",
      "\n",
      "subject:  The Weeknd\n",
      "Mario Caiano was born in Rome.\n",
      "Paul Kimmage was born in Dublin.\n",
      "Paul Epworth was born in London.\n",
      "{} was born in\n",
      "tensor(20.8438, device='cuda:0', dtype=torch.float16) tensor(146.1250, device='cuda:0', dtype=torch.float16)\n",
      "\n",
      "subject:  Mario Caiano\n",
      "The Weeknd was born in Toronto.\n",
      "Paul Kimmage was born in Dublin.\n",
      "Sirindhorn was born in Bangkok.\n",
      "{} was born in\n",
      "tensor(1.8730, device='cuda:0', dtype=torch.float16) tensor(353.5000, device='cuda:0', dtype=torch.float16)\n",
      "\n",
      "subject:  Paul Kimmage\n",
      "The Weeknd was born in Toronto.\n",
      "Sirindhorn was born in Bangkok.\n",
      "Paul Epworth was born in London.\n",
      "{} was born in\n",
      "tensor(2.7461, device='cuda:0', dtype=torch.float16) tensor(347.2500, device='cuda:0', dtype=torch.float16)\n",
      "\n"
     ]
    },
    {
     "data": {
      "application/vnd.jupyter.widget-view+json": {
       "model_id": "9a1704251cb94328bf249783915ed478",
       "version_major": 2,
       "version_minor": 0
      },
      "text/plain": [
       "  0%|          | 0/5 [00:00<?, ?it/s]"
      ]
     },
     "metadata": {},
     "output_type": "display_data"
    },
    {
     "name": "stdout",
     "output_type": "stream",
     "text": [
      "subject:  Maria Altmann\n",
      "Mario Caiano was born in Rome.\n",
      "Sirindhorn was born in Bangkok.\n",
      "Sergey Lavrov was born in Moscow.\n",
      "{} was born in\n",
      "tensor(32.1250, device='cuda:0', dtype=torch.float16) tensor(238.7500, device='cuda:0', dtype=torch.float16)\n",
      "\n",
      "subject:  Mario Caiano\n",
      "Maria Altmann was born in Vienna.\n",
      "Daniel Alfredson was born in Stockholm.\n",
      "Sergey Lavrov was born in Moscow.\n",
      "{} was born in\n",
      "tensor(1.8711, device='cuda:0', dtype=torch.float16) tensor(336.2500, device='cuda:0', dtype=torch.float16)\n",
      "\n",
      "subject:  Daniel Alfredson\n",
      "Mario Caiano was born in Rome.\n",
      "Sirindhorn was born in Bangkok.\n",
      "Maria Altmann was born in Vienna.\n",
      "{} was born in\n",
      "tensor(23.9375, device='cuda:0', dtype=torch.float16) tensor(308.7500, device='cuda:0', dtype=torch.float16)\n",
      "\n",
      "subject:  Sirindhorn\n",
      "Mario Caiano was born in Rome.\n",
      "Daniel Alfredson was born in Stockholm.\n",
      "Sergey Lavrov was born in Moscow.\n",
      "{} was born in\n",
      "tensor(42.7500, device='cuda:0', dtype=torch.float16) tensor(204.8750, device='cuda:0', dtype=torch.float16)\n",
      "\n",
      "subject:  Sergey Lavrov\n",
      "Mario Caiano was born in Rome.\n",
      "Sirindhorn was born in Bangkok.\n",
      "Daniel Alfredson was born in Stockholm.\n",
      "{} was born in\n",
      "tensor(2.7676, device='cuda:0', dtype=torch.float16) tensor(240.3750, device='cuda:0', dtype=torch.float16)\n",
      "\n"
     ]
    },
    {
     "data": {
      "application/vnd.jupyter.widget-view+json": {
       "model_id": "d1f65556b7e14d62ad221fe0daf5baf7",
       "version_major": 2,
       "version_minor": 0
      },
      "text/plain": [
       "  0%|          | 0/5 [00:00<?, ?it/s]"
      ]
     },
     "metadata": {},
     "output_type": "display_data"
    },
    {
     "name": "stdout",
     "output_type": "stream",
     "text": [
      "subject:  Edward Said\n",
      "Paul Kimmage was born in Dublin.\n",
      "Mario Caiano was born in Rome.\n",
      "Sergey Lavrov was born in Moscow.\n",
      "{} was born in\n",
      "tensor(9.0625, device='cuda:0', dtype=torch.float16) tensor(143.6250, device='cuda:0', dtype=torch.float16)\n",
      "\n",
      "subject:  Sergey Lavrov\n",
      "Mario Caiano was born in Rome.\n",
      "The Weeknd was born in Toronto.\n",
      "Paul Kimmage was born in Dublin.\n",
      "{} was born in\n",
      "tensor(1.1699, device='cuda:0', dtype=torch.float16) tensor(233.6250, device='cuda:0', dtype=torch.float16)\n",
      "\n",
      "subject:  Paul Kimmage\n",
      "Sergey Lavrov was born in Moscow.\n",
      "Edward Said was born in Jerusalem.\n",
      "The Weeknd was born in Toronto.\n",
      "{} was born in\n",
      "tensor(4.1875, device='cuda:0', dtype=torch.float16) tensor(336.5000, device='cuda:0', dtype=torch.float16)\n",
      "\n",
      "subject:  Mario Caiano\n",
      "The Weeknd was born in Toronto.\n",
      "Sergey Lavrov was born in Moscow.\n",
      "Edward Said was born in Jerusalem.\n",
      "{} was born in\n",
      "tensor(1.6016, device='cuda:0', dtype=torch.float16) tensor(328.2500, device='cuda:0', dtype=torch.float16)\n",
      "\n",
      "subject:  The Weeknd\n",
      "Edward Said was born in Jerusalem.\n",
      "Sergey Lavrov was born in Moscow.\n",
      "Mario Caiano was born in Rome.\n",
      "{} was born in\n",
      "tensor(13.7422, device='cuda:0', dtype=torch.float16) tensor(156.8750, device='cuda:0', dtype=torch.float16)\n",
      "\n"
     ]
    },
    {
     "data": {
      "application/vnd.jupyter.widget-view+json": {
       "model_id": "555ac0d4fc554d45813129e99e090463",
       "version_major": 2,
       "version_minor": 0
      },
      "text/plain": [
       "  0%|          | 0/5 [00:00<?, ?it/s]"
      ]
     },
     "metadata": {},
     "output_type": "display_data"
    },
    {
     "name": "stdout",
     "output_type": "stream",
     "text": [
      "subject:  Mayumi Tanaka\n",
      "Paul Epworth was born in London.\n",
      "Paul Kimmage was born in Dublin.\n",
      "Daniel Alfredson was born in Stockholm.\n",
      "{} was born in\n",
      "tensor(4.4492, device='cuda:0', dtype=torch.float16) tensor(319.7500, device='cuda:0', dtype=torch.float16)\n",
      "\n",
      "subject:  Paul Epworth\n",
      "Paul Kimmage was born in Dublin.\n",
      "Mario Caiano was born in Rome.\n",
      "Mayumi Tanaka was born in Tokyo.\n",
      "{} was born in\n",
      "tensor(11.7734, device='cuda:0', dtype=torch.float16) tensor(349.5000, device='cuda:0', dtype=torch.float16)\n",
      "\n",
      "subject:  Mario Caiano\n",
      "Mayumi Tanaka was born in Tokyo.\n",
      "Paul Kimmage was born in Dublin.\n",
      "Daniel Alfredson was born in Stockholm.\n",
      "{} was born in\n",
      "tensor(3.3320, device='cuda:0', dtype=torch.float16) tensor(346.5000, device='cuda:0', dtype=torch.float16)\n",
      "\n",
      "subject:  Paul Kimmage\n",
      "Mayumi Tanaka was born in Tokyo.\n",
      "Mario Caiano was born in Rome.\n",
      "Daniel Alfredson was born in Stockholm.\n",
      "{} was born in\n",
      "tensor(3.9941, device='cuda:0', dtype=torch.float16) tensor(332.2500, device='cuda:0', dtype=torch.float16)\n",
      "\n",
      "subject:  Daniel Alfredson\n",
      "Paul Kimmage was born in Dublin.\n",
      "Paul Epworth was born in London.\n",
      "Mayumi Tanaka was born in Tokyo.\n",
      "{} was born in\n",
      "tensor(31.8281, device='cuda:0', dtype=torch.float16) tensor(289.7500, device='cuda:0', dtype=torch.float16)\n",
      "\n"
     ]
    },
    {
     "data": {
      "application/vnd.jupyter.widget-view+json": {
       "model_id": "c7da2eb9f37844739d44f80a7fc273f7",
       "version_major": 2,
       "version_minor": 0
      },
      "text/plain": [
       "  0%|          | 0/5 [00:00<?, ?it/s]"
      ]
     },
     "metadata": {},
     "output_type": "display_data"
    },
    {
     "name": "stdout",
     "output_type": "stream",
     "text": [
      "subject:  Sergey Lavrov\n",
      "Maria Altmann was born in Vienna.\n",
      "Daniel Alfredson was born in Stockholm.\n",
      "Paul Kimmage was born in Dublin.\n",
      "{} was born in\n",
      "tensor(1.3193, device='cuda:0', dtype=torch.float16) tensor(231.8750, device='cuda:0', dtype=torch.float16)\n",
      "\n",
      "subject:  Mayumi Tanaka\n",
      "Paul Kimmage was born in Dublin.\n",
      "Maria Altmann was born in Vienna.\n",
      "Daniel Alfredson was born in Stockholm.\n",
      "{} was born in\n",
      "tensor(4.6484, device='cuda:0', dtype=torch.float16) tensor(331.7500, device='cuda:0', dtype=torch.float16)\n",
      "\n",
      "subject:  Maria Altmann\n",
      "Mayumi Tanaka was born in Tokyo.\n",
      "Daniel Alfredson was born in Stockholm.\n",
      "Sergey Lavrov was born in Moscow.\n",
      "{} was born in\n",
      "tensor(32.7500, device='cuda:0', dtype=torch.float16) tensor(231., device='cuda:0', dtype=torch.float16)\n",
      "\n",
      "subject:  Daniel Alfredson\n",
      "Paul Kimmage was born in Dublin.\n",
      "Maria Altmann was born in Vienna.\n",
      "Sergey Lavrov was born in Moscow.\n",
      "{} was born in\n",
      "tensor(26.5625, device='cuda:0', dtype=torch.float16) tensor(295.7500, device='cuda:0', dtype=torch.float16)\n",
      "\n",
      "subject:  Paul Kimmage\n",
      "Sergey Lavrov was born in Moscow.\n",
      "Daniel Alfredson was born in Stockholm.\n",
      "Maria Altmann was born in Vienna.\n",
      "{} was born in\n",
      "tensor(4.0664, device='cuda:0', dtype=torch.float16) tensor(318.5000, device='cuda:0', dtype=torch.float16)\n",
      "\n",
      "Saving weights and biases >>  gpt-j/jacobians_averaged_collection/before__ln_f/P19.npz\n",
      "----------------------------------------------------\n",
      "zzzzzzzzzzzzzzzzzzzzzzzzzzzzzzzzzzzzzzzzzzzzzzzzzzzz\n",
      "P37 In {}, an official language is\n",
      "zzzzzzzzzzzzzzzzzzzzzzzzzzzzzzzzzzzzzzzzzzzzzzzzzzzz\n",
      "156\n",
      "In {}, an official language is\n"
     ]
    },
    {
     "data": {
      "application/vnd.jupyter.widget-view+json": {
       "model_id": "7fc443ab92ac445e8cdac7880b6e41b3",
       "version_major": 2,
       "version_minor": 0
      },
      "text/plain": [
       "  0%|          | 0/10 [00:00<?, ?it/s]"
      ]
     },
     "metadata": {},
     "output_type": "display_data"
    },
    {
     "data": {
      "application/vnd.jupyter.widget-view+json": {
       "model_id": "27d928eaf81c4355a71c27326d595ffc",
       "version_major": 2,
       "version_minor": 0
      },
      "text/plain": [
       "  0%|          | 0/5 [00:00<?, ?it/s]"
      ]
     },
     "metadata": {},
     "output_type": "display_data"
    },
    {
     "name": "stdout",
     "output_type": "stream",
     "text": [
      "subject:  Niue\n",
      "In Bulgaria, an official language is Bulgarian.\n",
      "In Church of Greece, an official language is Greek.\n",
      "In Aruba, an official language is Dutch.\n",
      "In {}, an official language is\n",
      "tensor(34.3750, device='cuda:0', dtype=torch.float16) tensor(206.8750, device='cuda:0', dtype=torch.float16)\n",
      "\n",
      "subject:  Angola\n",
      "In Aruba, an official language is Dutch.\n",
      "In Church of Greece, an official language is Greek.\n",
      "In Bulgaria, an official language is Bulgarian.\n",
      "In {}, an official language is\n",
      "tensor(33.1875, device='cuda:0', dtype=torch.float16) tensor(228.3750, device='cuda:0', dtype=torch.float16)\n",
      "\n",
      "subject:  Aruba\n",
      "In Church of Greece, an official language is Greek.\n",
      "In Bulgaria, an official language is Bulgarian.\n",
      "In Angola, an official language is Portuguese.\n",
      "In {}, an official language is\n",
      "tensor(30.9688, device='cuda:0', dtype=torch.float16) tensor(223.1250, device='cuda:0', dtype=torch.float16)\n",
      "\n",
      "subject:  Church of Greece\n",
      "In Bulgaria, an official language is Bulgarian.\n",
      "In Niue, an official language is English.\n",
      "In Angola, an official language is Portuguese.\n",
      "In {}, an official language is\n",
      "tensor(19.8750, device='cuda:0', dtype=torch.float16) tensor(254.6250, device='cuda:0', dtype=torch.float16)\n",
      "\n",
      "subject:  Bulgaria\n",
      "In Niue, an official language is English.\n",
      "In Angola, an official language is Portuguese.\n",
      "In Aruba, an official language is Dutch.\n",
      "In {}, an official language is\n",
      "tensor(25.5156, device='cuda:0', dtype=torch.float16) tensor(228.1250, device='cuda:0', dtype=torch.float16)\n",
      "\n"
     ]
    },
    {
     "data": {
      "application/vnd.jupyter.widget-view+json": {
       "model_id": "35f9bbd587ca402ba88aa4c763214ed1",
       "version_major": 2,
       "version_minor": 0
      },
      "text/plain": [
       "  0%|          | 0/5 [00:00<?, ?it/s]"
      ]
     },
     "metadata": {},
     "output_type": "display_data"
    },
    {
     "name": "stdout",
     "output_type": "stream",
     "text": [
      "subject:  Banten\n",
      "In Aruba, an official language is Dutch.\n",
      "In Tuva Republic, an official language is Russian.\n",
      "In Bulgaria, an official language is Bulgarian.\n",
      "In {}, an official language is\n",
      "tensor(29.5000, device='cuda:0', dtype=torch.float16) tensor(242.3750, device='cuda:0', dtype=torch.float16)\n",
      "\n",
      "subject:  Aruba\n",
      "In Panama, an official language is Spanish.\n",
      "In Tuva Republic, an official language is Russian.\n",
      "In Bulgaria, an official language is Bulgarian.\n",
      "In {}, an official language is\n",
      "tensor(31.1250, device='cuda:0', dtype=torch.float16) tensor(226.5000, device='cuda:0', dtype=torch.float16)\n",
      "\n",
      "subject:  Panama\n",
      "In Bulgaria, an official language is Bulgarian.\n",
      "In Banten, an official language is Indonesian.\n",
      "In Aruba, an official language is Dutch.\n",
      "In {}, an official language is\n",
      "tensor(30.3750, device='cuda:0', dtype=torch.float16) tensor(230.1250, device='cuda:0', dtype=torch.float16)\n",
      "\n",
      "subject:  Tuva Republic\n",
      "In Panama, an official language is Spanish.\n",
      "In Bulgaria, an official language is Bulgarian.\n",
      "In Aruba, an official language is Dutch.\n",
      "In {}, an official language is\n",
      "tensor(36.2188, device='cuda:0', dtype=torch.float16) tensor(219.7500, device='cuda:0', dtype=torch.float16)\n",
      "\n",
      "subject:  Bulgaria\n",
      "In Banten, an official language is Indonesian.\n",
      "In Panama, an official language is Spanish.\n",
      "In Tuva Republic, an official language is Russian.\n",
      "In {}, an official language is\n",
      "tensor(24.7031, device='cuda:0', dtype=torch.float16) tensor(239.3750, device='cuda:0', dtype=torch.float16)\n",
      "\n"
     ]
    },
    {
     "data": {
      "application/vnd.jupyter.widget-view+json": {
       "model_id": "723c0827942942688ff7fc34d51d5cee",
       "version_major": 2,
       "version_minor": 0
      },
      "text/plain": [
       "  0%|          | 0/5 [00:00<?, ?it/s]"
      ]
     },
     "metadata": {},
     "output_type": "display_data"
    },
    {
     "name": "stdout",
     "output_type": "stream",
     "text": [
      "subject:  Aruba\n",
      "In Niue, an official language is English.\n",
      "In Church of Greece, an official language is Greek.\n",
      "In Tuva Republic, an official language is Russian.\n",
      "In {}, an official language is\n",
      "tensor(30.0938, device='cuda:0', dtype=torch.float16) tensor(235.8750, device='cuda:0', dtype=torch.float16)\n",
      "\n",
      "subject:  Tuva Republic\n",
      "In Aruba, an official language is Dutch.\n",
      "In Comoros, an official language is French.\n",
      "In Niue, an official language is English.\n",
      "In {}, an official language is\n",
      "tensor(33.6562, device='cuda:0', dtype=torch.float16) tensor(231.3750, device='cuda:0', dtype=torch.float16)\n",
      "\n",
      "subject:  Church of Greece\n",
      "In Aruba, an official language is Dutch.\n",
      "In Comoros, an official language is French.\n",
      "In Niue, an official language is English.\n",
      "In {}, an official language is\n",
      "tensor(18.9375, device='cuda:0', dtype=torch.float16) tensor(246.5000, device='cuda:0', dtype=torch.float16)\n",
      "\n",
      "subject:  Niue\n",
      "In Comoros, an official language is French.\n",
      "In Tuva Republic, an official language is Russian.\n",
      "In Aruba, an official language is Dutch.\n",
      "In {}, an official language is\n",
      "tensor(31.2500, device='cuda:0', dtype=torch.float16) tensor(204.5000, device='cuda:0', dtype=torch.float16)\n",
      "\n",
      "subject:  Comoros\n",
      "In Aruba, an official language is Dutch.\n",
      "In Church of Greece, an official language is Greek.\n",
      "In Niue, an official language is English.\n",
      "In {}, an official language is\n",
      "tensor(37.9375, device='cuda:0', dtype=torch.float16) tensor(210.3750, device='cuda:0', dtype=torch.float16)\n",
      "\n"
     ]
    },
    {
     "data": {
      "application/vnd.jupyter.widget-view+json": {
       "model_id": "b11989b3a88249e9b3caf531d7890e6d",
       "version_major": 2,
       "version_minor": 0
      },
      "text/plain": [
       "  0%|          | 0/5 [00:00<?, ?it/s]"
      ]
     },
     "metadata": {},
     "output_type": "display_data"
    },
    {
     "name": "stdout",
     "output_type": "stream",
     "text": [
      "subject:  Bulgaria\n",
      "In Panama, an official language is Spanish.\n",
      "In Paimio, an official language is Finnish.\n",
      "In Niue, an official language is English.\n",
      "In {}, an official language is\n",
      "tensor(24.4062, device='cuda:0', dtype=torch.float16) tensor(237.5000, device='cuda:0', dtype=torch.float16)\n",
      "\n",
      "subject:  Paimio\n",
      "In Niue, an official language is English.\n",
      "In Panama, an official language is Spanish.\n",
      "In Bulgaria, an official language is Bulgarian.\n",
      "In {}, an official language is\n",
      "tensor(34.0938, device='cuda:0', dtype=torch.float16) tensor(252.7500, device='cuda:0', dtype=torch.float16)\n",
      "\n",
      "subject:  Niue\n",
      "In Paimio, an official language is Finnish.\n",
      "In Bulgaria, an official language is Bulgarian.\n",
      "In Panama, an official language is Spanish.\n",
      "In {}, an official language is\n",
      "tensor(35.2188, device='cuda:0', dtype=torch.float16) tensor(197.6250, device='cuda:0', dtype=torch.float16)\n",
      "\n",
      "subject:  Comoros\n",
      "In Niue, an official language is English.\n",
      "In Paimio, an official language is Finnish.\n",
      "In Panama, an official language is Spanish.\n",
      "In {}, an official language is\n",
      "tensor(36.5625, device='cuda:0', dtype=torch.float16) tensor(216.8750, device='cuda:0', dtype=torch.float16)\n",
      "\n",
      "subject:  Panama\n",
      "In Niue, an official language is English.\n",
      "In Paimio, an official language is Finnish.\n",
      "In Comoros, an official language is French.\n",
      "In {}, an official language is\n",
      "tensor(26.5156, device='cuda:0', dtype=torch.float16) tensor(241.1250, device='cuda:0', dtype=torch.float16)\n",
      "\n"
     ]
    },
    {
     "data": {
      "application/vnd.jupyter.widget-view+json": {
       "model_id": "fcbc15ea85ba4c9991f5b3f94caf9e63",
       "version_major": 2,
       "version_minor": 0
      },
      "text/plain": [
       "  0%|          | 0/5 [00:00<?, ?it/s]"
      ]
     },
     "metadata": {},
     "output_type": "display_data"
    },
    {
     "name": "stdout",
     "output_type": "stream",
     "text": [
      "subject:  Angola\n",
      "In Paimio, an official language is Finnish.\n",
      "In Comoros, an official language is French.\n",
      "In Church of Greece, an official language is Greek.\n",
      "In {}, an official language is\n",
      "tensor(30.8594, device='cuda:0', dtype=torch.float16) tensor(236., device='cuda:0', dtype=torch.float16)\n",
      "\n",
      "subject:  Comoros\n",
      "In Panama, an official language is Spanish.\n",
      "In Church of Greece, an official language is Greek.\n",
      "In Paimio, an official language is Finnish.\n",
      "In {}, an official language is\n",
      "tensor(39.4375, device='cuda:0', dtype=torch.float16) tensor(212.6250, device='cuda:0', dtype=torch.float16)\n",
      "\n",
      "subject:  Paimio\n",
      "In Panama, an official language is Spanish.\n",
      "In Church of Greece, an official language is Greek.\n",
      "In Comoros, an official language is French.\n",
      "In {}, an official language is\n",
      "tensor(33.2812, device='cuda:0', dtype=torch.float16) tensor(247.3750, device='cuda:0', dtype=torch.float16)\n",
      "\n",
      "subject:  Panama\n",
      "In Church of Greece, an official language is Greek.\n",
      "In Angola, an official language is Portuguese.\n",
      "In Comoros, an official language is French.\n",
      "In {}, an official language is\n",
      "tensor(29.1406, device='cuda:0', dtype=torch.float16) tensor(232.5000, device='cuda:0', dtype=torch.float16)\n",
      "\n",
      "subject:  Church of Greece\n",
      "In Paimio, an official language is Finnish.\n",
      "In Comoros, an official language is French.\n",
      "In Angola, an official language is Portuguese.\n",
      "In {}, an official language is\n",
      "tensor(19.6875, device='cuda:0', dtype=torch.float16) tensor(247.5000, device='cuda:0', dtype=torch.float16)\n",
      "\n"
     ]
    },
    {
     "data": {
      "application/vnd.jupyter.widget-view+json": {
       "model_id": "2b80549e0c7b47378bad765a979e3a04",
       "version_major": 2,
       "version_minor": 0
      },
      "text/plain": [
       "  0%|          | 0/5 [00:00<?, ?it/s]"
      ]
     },
     "metadata": {},
     "output_type": "display_data"
    },
    {
     "name": "stdout",
     "output_type": "stream",
     "text": [
      "subject:  Banten\n",
      "In Niue, an official language is English.\n",
      "In Bulgaria, an official language is Bulgarian.\n",
      "In Paimio, an official language is Finnish.\n",
      "In {}, an official language is\n",
      "tensor(29.8906, device='cuda:0', dtype=torch.float16) tensor(253.2500, device='cuda:0', dtype=torch.float16)\n",
      "\n",
      "subject:  Church of Greece\n",
      "In Paimio, an official language is Finnish.\n",
      "In Bulgaria, an official language is Bulgarian.\n",
      "In Niue, an official language is English.\n",
      "In {}, an official language is\n",
      "tensor(21., device='cuda:0', dtype=torch.float16) tensor(246.2500, device='cuda:0', dtype=torch.float16)\n",
      "\n",
      "subject:  Niue\n",
      "In Church of Greece, an official language is Greek.\n",
      "In Paimio, an official language is Finnish.\n",
      "In Bulgaria, an official language is Bulgarian.\n",
      "In {}, an official language is\n",
      "tensor(35.9062, device='cuda:0', dtype=torch.float16) tensor(204.7500, device='cuda:0', dtype=torch.float16)\n",
      "\n",
      "subject:  Paimio\n",
      "In Banten, an official language is Indonesian.\n",
      "In Bulgaria, an official language is Bulgarian.\n",
      "In Church of Greece, an official language is Greek.\n",
      "In {}, an official language is\n",
      "tensor(36.1250, device='cuda:0', dtype=torch.float16) tensor(236.8750, device='cuda:0', dtype=torch.float16)\n",
      "\n",
      "subject:  Bulgaria\n",
      "In Church of Greece, an official language is Greek.\n",
      "In Banten, an official language is Indonesian.\n",
      "In Niue, an official language is English.\n",
      "In {}, an official language is\n",
      "tensor(24.2656, device='cuda:0', dtype=torch.float16) tensor(247.6250, device='cuda:0', dtype=torch.float16)\n",
      "\n"
     ]
    },
    {
     "data": {
      "application/vnd.jupyter.widget-view+json": {
       "model_id": "3e9c7dc8c59c4f488c27d86c49cfcc63",
       "version_major": 2,
       "version_minor": 0
      },
      "text/plain": [
       "  0%|          | 0/5 [00:00<?, ?it/s]"
      ]
     },
     "metadata": {},
     "output_type": "display_data"
    },
    {
     "name": "stdout",
     "output_type": "stream",
     "text": [
      "subject:  Niue\n",
      "In Paimio, an official language is Finnish.\n",
      "In Comoros, an official language is French.\n",
      "In Bulgaria, an official language is Bulgarian.\n",
      "In {}, an official language is\n",
      "tensor(33.6875, device='cuda:0', dtype=torch.float16) tensor(200.6250, device='cuda:0', dtype=torch.float16)\n",
      "\n",
      "subject:  Panama\n",
      "In Paimio, an official language is Finnish.\n",
      "In Comoros, an official language is French.\n",
      "In Bulgaria, an official language is Bulgarian.\n",
      "In {}, an official language is\n",
      "tensor(30.9688, device='cuda:0', dtype=torch.float16) tensor(228.1250, device='cuda:0', dtype=torch.float16)\n",
      "\n",
      "subject:  Bulgaria\n",
      "In Panama, an official language is Spanish.\n",
      "In Paimio, an official language is Finnish.\n",
      "In Niue, an official language is English.\n",
      "In {}, an official language is\n",
      "tensor(24.4062, device='cuda:0', dtype=torch.float16) tensor(237.5000, device='cuda:0', dtype=torch.float16)\n",
      "\n",
      "subject:  Comoros\n",
      "In Bulgaria, an official language is Bulgarian.\n",
      "In Paimio, an official language is Finnish.\n",
      "In Niue, an official language is English.\n",
      "In {}, an official language is\n",
      "tensor(37.5625, device='cuda:0', dtype=torch.float16) tensor(212.6250, device='cuda:0', dtype=torch.float16)\n",
      "\n",
      "subject:  Paimio\n",
      "In Niue, an official language is English.\n",
      "In Bulgaria, an official language is Bulgarian.\n",
      "In Comoros, an official language is French.\n",
      "In {}, an official language is\n",
      "tensor(33.0938, device='cuda:0', dtype=torch.float16) tensor(249.7500, device='cuda:0', dtype=torch.float16)\n",
      "\n"
     ]
    },
    {
     "data": {
      "application/vnd.jupyter.widget-view+json": {
       "model_id": "d00cbb401f274681b477a05ed5da4b86",
       "version_major": 2,
       "version_minor": 0
      },
      "text/plain": [
       "  0%|          | 0/5 [00:00<?, ?it/s]"
      ]
     },
     "metadata": {},
     "output_type": "display_data"
    },
    {
     "name": "stdout",
     "output_type": "stream",
     "text": [
      "subject:  Bulgaria\n",
      "In Paimio, an official language is Finnish.\n",
      "In Angola, an official language is Portuguese.\n",
      "In Banten, an official language is Indonesian.\n",
      "In {}, an official language is\n",
      "tensor(23.7969, device='cuda:0', dtype=torch.float16) tensor(236.7500, device='cuda:0', dtype=torch.float16)\n",
      "\n",
      "subject:  Paimio\n",
      "In Bulgaria, an official language is Bulgarian.\n",
      "In Aruba, an official language is Dutch.\n",
      "In Banten, an official language is Indonesian.\n",
      "In {}, an official language is\n",
      "tensor(35.5312, device='cuda:0', dtype=torch.float16) tensor(227.1250, device='cuda:0', dtype=torch.float16)\n",
      "\n",
      "subject:  Aruba\n",
      "In Bulgaria, an official language is Bulgarian.\n",
      "In Banten, an official language is Indonesian.\n",
      "In Angola, an official language is Portuguese.\n",
      "In {}, an official language is\n",
      "tensor(32.0312, device='cuda:0', dtype=torch.float16) tensor(214.6250, device='cuda:0', dtype=torch.float16)\n",
      "\n",
      "subject:  Banten\n",
      "In Bulgaria, an official language is Bulgarian.\n",
      "In Angola, an official language is Portuguese.\n",
      "In Paimio, an official language is Finnish.\n",
      "In {}, an official language is\n",
      "tensor(29.1406, device='cuda:0', dtype=torch.float16) tensor(248.5000, device='cuda:0', dtype=torch.float16)\n",
      "\n",
      "subject:  Angola\n",
      "In Aruba, an official language is Dutch.\n",
      "In Paimio, an official language is Finnish.\n",
      "In Bulgaria, an official language is Bulgarian.\n",
      "In {}, an official language is\n",
      "tensor(32.3125, device='cuda:0', dtype=torch.float16) tensor(229.1250, device='cuda:0', dtype=torch.float16)\n",
      "\n"
     ]
    },
    {
     "data": {
      "application/vnd.jupyter.widget-view+json": {
       "model_id": "d9c3b569a49d491899fce2d22716b85c",
       "version_major": 2,
       "version_minor": 0
      },
      "text/plain": [
       "  0%|          | 0/5 [00:00<?, ?it/s]"
      ]
     },
     "metadata": {},
     "output_type": "display_data"
    },
    {
     "name": "stdout",
     "output_type": "stream",
     "text": [
      "subject:  Banten\n",
      "In Aruba, an official language is Dutch.\n",
      "In Tuva Republic, an official language is Russian.\n",
      "In Comoros, an official language is French.\n",
      "In {}, an official language is\n",
      "tensor(26.3438, device='cuda:0', dtype=torch.float16) tensor(250.1250, device='cuda:0', dtype=torch.float16)\n",
      "\n",
      "subject:  Aruba\n",
      "In Tuva Republic, an official language is Russian.\n",
      "In Church of Greece, an official language is Greek.\n",
      "In Comoros, an official language is French.\n",
      "In {}, an official language is\n",
      "tensor(30.3906, device='cuda:0', dtype=torch.float16) tensor(225.1250, device='cuda:0', dtype=torch.float16)\n",
      "\n",
      "subject:  Comoros\n",
      "In Church of Greece, an official language is Greek.\n",
      "In Aruba, an official language is Dutch.\n",
      "In Banten, an official language is Indonesian.\n",
      "In {}, an official language is\n",
      "tensor(40.0312, device='cuda:0', dtype=torch.float16) tensor(204.7500, device='cuda:0', dtype=torch.float16)\n",
      "\n",
      "subject:  Church of Greece\n",
      "In Tuva Republic, an official language is Russian.\n",
      "In Aruba, an official language is Dutch.\n",
      "In Comoros, an official language is French.\n",
      "In {}, an official language is\n",
      "tensor(19.2656, device='cuda:0', dtype=torch.float16) tensor(241., device='cuda:0', dtype=torch.float16)\n",
      "\n",
      "subject:  Tuva Republic\n",
      "In Banten, an official language is Indonesian.\n",
      "In Aruba, an official language is Dutch.\n",
      "In Church of Greece, an official language is Greek.\n",
      "In {}, an official language is\n",
      "tensor(36.2812, device='cuda:0', dtype=torch.float16) tensor(212., device='cuda:0', dtype=torch.float16)\n",
      "\n"
     ]
    },
    {
     "data": {
      "application/vnd.jupyter.widget-view+json": {
       "model_id": "f03f6a64b1014912ac7149e49ddb1312",
       "version_major": 2,
       "version_minor": 0
      },
      "text/plain": [
       "  0%|          | 0/5 [00:00<?, ?it/s]"
      ]
     },
     "metadata": {},
     "output_type": "display_data"
    },
    {
     "name": "stdout",
     "output_type": "stream",
     "text": [
      "subject:  Banten\n",
      "In Panama, an official language is Spanish.\n",
      "In Angola, an official language is Portuguese.\n",
      "In Paimio, an official language is Finnish.\n",
      "In {}, an official language is\n",
      "tensor(28.0938, device='cuda:0', dtype=torch.float16) tensor(257.2500, device='cuda:0', dtype=torch.float16)\n",
      "\n",
      "subject:  Panama\n",
      "In Banten, an official language is Indonesian.\n",
      "In Angola, an official language is Portuguese.\n",
      "In Paimio, an official language is Finnish.\n",
      "In {}, an official language is\n",
      "tensor(30.2188, device='cuda:0', dtype=torch.float16) tensor(228.5000, device='cuda:0', dtype=torch.float16)\n",
      "\n",
      "subject:  Paimio\n",
      "In Angola, an official language is Portuguese.\n",
      "In Tuva Republic, an official language is Russian.\n",
      "In Panama, an official language is Spanish.\n",
      "In {}, an official language is\n",
      "tensor(34.9062, device='cuda:0', dtype=torch.float16) tensor(243.7500, device='cuda:0', dtype=torch.float16)\n",
      "\n",
      "subject:  Angola\n",
      "In Panama, an official language is Spanish.\n",
      "In Tuva Republic, an official language is Russian.\n",
      "In Banten, an official language is Indonesian.\n",
      "In {}, an official language is\n",
      "tensor(29.9219, device='cuda:0', dtype=torch.float16) tensor(243.8750, device='cuda:0', dtype=torch.float16)\n",
      "\n",
      "subject:  Tuva Republic\n",
      "In Paimio, an official language is Finnish.\n",
      "In Angola, an official language is Portuguese.\n",
      "In Panama, an official language is Spanish.\n",
      "In {}, an official language is\n",
      "tensor(34.5625, device='cuda:0', dtype=torch.float16) tensor(221.2500, device='cuda:0', dtype=torch.float16)\n",
      "\n",
      "Saving weights and biases >>  gpt-j/jacobians_averaged_collection/before__ln_f/P37.npz\n",
      "----------------------------------------------------\n",
      "zzzzzzzzzzzzzzzzzzzzzzzzzzzzzzzzzzzzzzzzzzzzzzzzzzzz\n",
      "P36 The capital of {} is\n",
      "zzzzzzzzzzzzzzzzzzzzzzzzzzzzzzzzzzzzzzzzzzzzzzzzzzzz\n",
      "68\n",
      "The capital of {} is\n"
     ]
    },
    {
     "data": {
      "application/vnd.jupyter.widget-view+json": {
       "model_id": "afe3dc73ef1a4001be783cbfb2b789b0",
       "version_major": 2,
       "version_minor": 0
      },
      "text/plain": [
       "  0%|          | 0/10 [00:00<?, ?it/s]"
      ]
     },
     "metadata": {},
     "output_type": "display_data"
    },
    {
     "data": {
      "application/vnd.jupyter.widget-view+json": {
       "model_id": "d6f2a1296e6b48f084e750796d62787c",
       "version_major": 2,
       "version_minor": 0
      },
      "text/plain": [
       "  0%|          | 0/5 [00:00<?, ?it/s]"
      ]
     },
     "metadata": {},
     "output_type": "display_data"
    },
    {
     "name": "stdout",
     "output_type": "stream",
     "text": [
      "subject:  Lazio\n",
      "The capital of Saxony is Dresden.\n",
      "The capital of United Arab Republic is Cairo.\n",
      "The capital of Portugal is Lisbon.\n",
      "The capital of {} is\n",
      "tensor(28.9062, device='cuda:0', dtype=torch.float16) tensor(196.8750, device='cuda:0', dtype=torch.float16)\n",
      "\n",
      "subject:  Portugal\n",
      "The capital of Norway is Oslo.\n",
      "The capital of Saxony is Dresden.\n",
      "The capital of United Arab Republic is Cairo.\n",
      "The capital of {} is\n",
      "tensor(24.4375, device='cuda:0', dtype=torch.float16) tensor(211.3750, device='cuda:0', dtype=torch.float16)\n",
      "\n",
      "subject:  Norway\n",
      "The capital of Lazio is Rome.\n",
      "The capital of United Arab Republic is Cairo.\n",
      "The capital of Portugal is Lisbon.\n",
      "The capital of {} is\n",
      "tensor(21.5469, device='cuda:0', dtype=torch.float16) tensor(204.3750, device='cuda:0', dtype=torch.float16)\n",
      "\n",
      "subject:  Saxony\n",
      "The capital of United Arab Republic is Cairo.\n",
      "The capital of Norway is Oslo.\n",
      "The capital of Lazio is Rome.\n",
      "The capital of {} is\n",
      "tensor(26.0938, device='cuda:0', dtype=torch.float16) tensor(198.3750, device='cuda:0', dtype=torch.float16)\n",
      "\n",
      "subject:  United Arab Republic\n",
      "The capital of Norway is Oslo.\n",
      "The capital of Portugal is Lisbon.\n",
      "The capital of Lazio is Rome.\n",
      "The capital of {} is\n",
      "tensor(30.5469, device='cuda:0', dtype=torch.float16) tensor(209.6250, device='cuda:0', dtype=torch.float16)\n",
      "\n"
     ]
    },
    {
     "data": {
      "application/vnd.jupyter.widget-view+json": {
       "model_id": "1f982dfe775744d08790e257f1149227",
       "version_major": 2,
       "version_minor": 0
      },
      "text/plain": [
       "  0%|          | 0/5 [00:00<?, ?it/s]"
      ]
     },
     "metadata": {},
     "output_type": "display_data"
    },
    {
     "name": "stdout",
     "output_type": "stream",
     "text": [
      "subject:  South Yemen\n",
      "The capital of Norway is Oslo.\n",
      "The capital of Lazio is Rome.\n",
      "The capital of Portugal is Lisbon.\n",
      "The capital of {} is\n",
      "tensor(41.0625, device='cuda:0', dtype=torch.float16) tensor(200.3750, device='cuda:0', dtype=torch.float16)\n",
      "\n",
      "subject:  Norway\n",
      "The capital of Campania is Naples.\n",
      "The capital of Lazio is Rome.\n",
      "The capital of Portugal is Lisbon.\n",
      "The capital of {} is\n",
      "tensor(21.5000, device='cuda:0', dtype=torch.float16) tensor(210., device='cuda:0', dtype=torch.float16)\n",
      "\n",
      "subject:  Lazio\n",
      "The capital of Portugal is Lisbon.\n",
      "The capital of Campania is Naples.\n",
      "The capital of Norway is Oslo.\n",
      "The capital of {} is\n",
      "tensor(28.0469, device='cuda:0', dtype=torch.float16) tensor(192.8750, device='cuda:0', dtype=torch.float16)\n",
      "\n",
      "subject:  Portugal\n",
      "The capital of Lazio is Rome.\n",
      "The capital of Campania is Naples.\n",
      "The capital of South Yemen is Aden.\n",
      "The capital of {} is\n",
      "tensor(23.7344, device='cuda:0', dtype=torch.float16) tensor(204., device='cuda:0', dtype=torch.float16)\n",
      "\n",
      "subject:  Campania\n",
      "The capital of Norway is Oslo.\n",
      "The capital of Lazio is Rome.\n",
      "The capital of South Yemen is Aden.\n",
      "The capital of {} is\n",
      "tensor(32.1250, device='cuda:0', dtype=torch.float16) tensor(181.8750, device='cuda:0', dtype=torch.float16)\n",
      "\n"
     ]
    },
    {
     "data": {
      "application/vnd.jupyter.widget-view+json": {
       "model_id": "477a7277a5a246bdb18dcb7be6f613d4",
       "version_major": 2,
       "version_minor": 0
      },
      "text/plain": [
       "  0%|          | 0/5 [00:00<?, ?it/s]"
      ]
     },
     "metadata": {},
     "output_type": "display_data"
    },
    {
     "name": "stdout",
     "output_type": "stream",
     "text": [
      "subject:  Norway\n",
      "The capital of Lazio is Rome.\n",
      "The capital of Peru is Lima.\n",
      "The capital of Lebanon is Beirut.\n",
      "The capital of {} is\n",
      "tensor(21.8906, device='cuda:0', dtype=torch.float16) tensor(212.6250, device='cuda:0', dtype=torch.float16)\n",
      "\n",
      "subject:  Peru\n",
      "The capital of Lebanon is Beirut.\n",
      "The capital of Saxony is Dresden.\n",
      "The capital of Lazio is Rome.\n",
      "The capital of {} is\n",
      "tensor(29.7188, device='cuda:0', dtype=torch.float16) tensor(207.2500, device='cuda:0', dtype=torch.float16)\n",
      "\n",
      "subject:  Saxony\n",
      "The capital of Norway is Oslo.\n",
      "The capital of Lazio is Rome.\n",
      "The capital of Peru is Lima.\n",
      "The capital of {} is\n",
      "tensor(28.2969, device='cuda:0', dtype=torch.float16) tensor(191.8750, device='cuda:0', dtype=torch.float16)\n",
      "\n",
      "subject:  Lazio\n",
      "The capital of Lebanon is Beirut.\n",
      "The capital of Norway is Oslo.\n",
      "The capital of Peru is Lima.\n",
      "The capital of {} is\n",
      "tensor(27.5781, device='cuda:0', dtype=torch.float16) tensor(218.8750, device='cuda:0', dtype=torch.float16)\n",
      "\n",
      "subject:  Lebanon\n",
      "The capital of Peru is Lima.\n",
      "The capital of Norway is Oslo.\n",
      "The capital of Saxony is Dresden.\n",
      "The capital of {} is\n",
      "tensor(29.2500, device='cuda:0', dtype=torch.float16) tensor(204.2500, device='cuda:0', dtype=torch.float16)\n",
      "\n"
     ]
    },
    {
     "data": {
      "application/vnd.jupyter.widget-view+json": {
       "model_id": "fa6885f1e19a4c689c41a5f6c8397e7f",
       "version_major": 2,
       "version_minor": 0
      },
      "text/plain": [
       "  0%|          | 0/5 [00:00<?, ?it/s]"
      ]
     },
     "metadata": {},
     "output_type": "display_data"
    },
    {
     "name": "stdout",
     "output_type": "stream",
     "text": [
      "subject:  Lazio\n",
      "The capital of Saxony is Dresden.\n",
      "The capital of Campania is Naples.\n",
      "The capital of United Arab Republic is Cairo.\n",
      "The capital of {} is\n",
      "tensor(31.0312, device='cuda:0', dtype=torch.float16) tensor(187.1250, device='cuda:0', dtype=torch.float16)\n",
      "\n",
      "subject:  Norway\n",
      "The capital of Campania is Naples.\n",
      "The capital of Saxony is Dresden.\n",
      "The capital of Lazio is Rome.\n",
      "The capital of {} is\n",
      "tensor(23.1719, device='cuda:0', dtype=torch.float16) tensor(211.3750, device='cuda:0', dtype=torch.float16)\n",
      "\n",
      "subject:  Campania\n",
      "The capital of Saxony is Dresden.\n",
      "The capital of United Arab Republic is Cairo.\n",
      "The capital of Norway is Oslo.\n",
      "The capital of {} is\n",
      "tensor(34.4688, device='cuda:0', dtype=torch.float16) tensor(176., device='cuda:0', dtype=torch.float16)\n",
      "\n",
      "subject:  Saxony\n",
      "The capital of Campania is Naples.\n",
      "The capital of United Arab Republic is Cairo.\n",
      "The capital of Norway is Oslo.\n",
      "The capital of {} is\n",
      "tensor(27.2656, device='cuda:0', dtype=torch.float16) tensor(180.7500, device='cuda:0', dtype=torch.float16)\n",
      "\n",
      "subject:  United Arab Republic\n",
      "The capital of Campania is Naples.\n",
      "The capital of Lazio is Rome.\n",
      "The capital of Saxony is Dresden.\n",
      "The capital of {} is\n",
      "tensor(32.4688, device='cuda:0', dtype=torch.float16) tensor(209.3750, device='cuda:0', dtype=torch.float16)\n",
      "\n"
     ]
    },
    {
     "data": {
      "application/vnd.jupyter.widget-view+json": {
       "model_id": "3808c5af9ffa44629d0b799b01b6c75d",
       "version_major": 2,
       "version_minor": 0
      },
      "text/plain": [
       "  0%|          | 0/5 [00:00<?, ?it/s]"
      ]
     },
     "metadata": {},
     "output_type": "display_data"
    },
    {
     "name": "stdout",
     "output_type": "stream",
     "text": [
      "subject:  Demerara\n",
      "The capital of Campania is Naples.\n",
      "The capital of United Arab Republic is Cairo.\n",
      "The capital of Lebanon is Beirut.\n",
      "The capital of {} is\n",
      "tensor(44.1250, device='cuda:0', dtype=torch.float16) tensor(181.1250, device='cuda:0', dtype=torch.float16)\n",
      "\n",
      "subject:  United Arab Republic\n",
      "The capital of Lebanon is Beirut.\n",
      "The capital of Lazio is Rome.\n",
      "The capital of Campania is Naples.\n",
      "The capital of {} is\n",
      "tensor(30.7031, device='cuda:0', dtype=torch.float16) tensor(209.7500, device='cuda:0', dtype=torch.float16)\n",
      "\n",
      "subject:  Campania\n",
      "The capital of Lazio is Rome.\n",
      "The capital of United Arab Republic is Cairo.\n",
      "The capital of Lebanon is Beirut.\n",
      "The capital of {} is\n",
      "tensor(31.7969, device='cuda:0', dtype=torch.float16) tensor(174.7500, device='cuda:0', dtype=torch.float16)\n",
      "\n",
      "subject:  Lazio\n",
      "The capital of Lebanon is Beirut.\n",
      "The capital of United Arab Republic is Cairo.\n",
      "The capital of Campania is Naples.\n",
      "The capital of {} is\n",
      "tensor(28.7500, device='cuda:0', dtype=torch.float16) tensor(198.1250, device='cuda:0', dtype=torch.float16)\n",
      "\n",
      "subject:  Lebanon\n",
      "The capital of United Arab Republic is Cairo.\n",
      "The capital of Campania is Naples.\n",
      "The capital of Lazio is Rome.\n",
      "The capital of {} is\n",
      "tensor(29.8125, device='cuda:0', dtype=torch.float16) tensor(205.2500, device='cuda:0', dtype=torch.float16)\n",
      "\n"
     ]
    },
    {
     "data": {
      "application/vnd.jupyter.widget-view+json": {
       "model_id": "edeaa0bc905449299de550186ba97821",
       "version_major": 2,
       "version_minor": 0
      },
      "text/plain": [
       "  0%|          | 0/5 [00:00<?, ?it/s]"
      ]
     },
     "metadata": {},
     "output_type": "display_data"
    },
    {
     "name": "stdout",
     "output_type": "stream",
     "text": [
      "subject:  South Yemen\n",
      "The capital of Peru is Lima.\n",
      "The capital of Campania is Naples.\n",
      "The capital of Demerara is Georgetown.\n",
      "The capital of {} is\n",
      "tensor(37.7812, device='cuda:0', dtype=torch.float16) tensor(200.5000, device='cuda:0', dtype=torch.float16)\n",
      "\n",
      "subject:  Campania\n",
      "The capital of Lebanon is Beirut.\n",
      "The capital of Demerara is Georgetown.\n",
      "The capital of Peru is Lima.\n",
      "The capital of {} is\n",
      "tensor(32.2188, device='cuda:0', dtype=torch.float16) tensor(190.3750, device='cuda:0', dtype=torch.float16)\n",
      "\n",
      "subject:  Lebanon\n",
      "The capital of South Yemen is Aden.\n",
      "The capital of Campania is Naples.\n",
      "The capital of Peru is Lima.\n",
      "The capital of {} is\n",
      "tensor(27.4219, device='cuda:0', dtype=torch.float16) tensor(201.7500, device='cuda:0', dtype=torch.float16)\n",
      "\n",
      "subject:  Demerara\n",
      "The capital of Peru is Lima.\n",
      "The capital of Lebanon is Beirut.\n",
      "The capital of Campania is Naples.\n",
      "The capital of {} is\n",
      "tensor(44.5938, device='cuda:0', dtype=torch.float16) tensor(177.3750, device='cuda:0', dtype=torch.float16)\n",
      "\n",
      "subject:  Peru\n",
      "The capital of Campania is Naples.\n",
      "The capital of Demerara is Georgetown.\n",
      "The capital of Lebanon is Beirut.\n",
      "The capital of {} is\n",
      "tensor(28.4688, device='cuda:0', dtype=torch.float16) tensor(196.8750, device='cuda:0', dtype=torch.float16)\n",
      "\n"
     ]
    },
    {
     "data": {
      "application/vnd.jupyter.widget-view+json": {
       "model_id": "7dfbf90104574a5ea9790219fb14db5b",
       "version_major": 2,
       "version_minor": 0
      },
      "text/plain": [
       "  0%|          | 0/5 [00:00<?, ?it/s]"
      ]
     },
     "metadata": {},
     "output_type": "display_data"
    },
    {
     "name": "stdout",
     "output_type": "stream",
     "text": [
      "subject:  Portugal\n",
      "The capital of South Yemen is Aden.\n",
      "The capital of Campania is Naples.\n",
      "The capital of Peru is Lima.\n",
      "The capital of {} is\n",
      "tensor(23.1406, device='cuda:0', dtype=torch.float16) tensor(205.5000, device='cuda:0', dtype=torch.float16)\n",
      "\n",
      "subject:  Peru\n",
      "The capital of South Yemen is Aden.\n",
      "The capital of Portugal is Lisbon.\n",
      "The capital of Campania is Naples.\n",
      "The capital of {} is\n",
      "tensor(29.6094, device='cuda:0', dtype=torch.float16) tensor(196.7500, device='cuda:0', dtype=torch.float16)\n",
      "\n",
      "subject:  South Yemen\n",
      "The capital of Campania is Naples.\n",
      "The capital of Saxony is Dresden.\n",
      "The capital of Peru is Lima.\n",
      "The capital of {} is\n",
      "tensor(41.6250, device='cuda:0', dtype=torch.float16) tensor(190.6250, device='cuda:0', dtype=torch.float16)\n",
      "\n",
      "subject:  Saxony\n",
      "The capital of South Yemen is Aden.\n",
      "The capital of Portugal is Lisbon.\n",
      "The capital of Peru is Lima.\n",
      "The capital of {} is\n",
      "tensor(29.0312, device='cuda:0', dtype=torch.float16) tensor(185.5000, device='cuda:0', dtype=torch.float16)\n",
      "\n",
      "subject:  Campania\n",
      "The capital of Peru is Lima.\n",
      "The capital of Saxony is Dresden.\n",
      "The capital of Portugal is Lisbon.\n",
      "The capital of {} is\n",
      "tensor(33.1875, device='cuda:0', dtype=torch.float16) tensor(191.2500, device='cuda:0', dtype=torch.float16)\n",
      "\n"
     ]
    },
    {
     "data": {
      "application/vnd.jupyter.widget-view+json": {
       "model_id": "2c42ee60832e41288fdb9316ef8ae09c",
       "version_major": 2,
       "version_minor": 0
      },
      "text/plain": [
       "  0%|          | 0/5 [00:00<?, ?it/s]"
      ]
     },
     "metadata": {},
     "output_type": "display_data"
    },
    {
     "name": "stdout",
     "output_type": "stream",
     "text": [
      "subject:  Lebanon\n",
      "The capital of Campania is Naples.\n",
      "The capital of Saxony is Dresden.\n",
      "The capital of Norway is Oslo.\n",
      "The capital of {} is\n",
      "tensor(30.3750, device='cuda:0', dtype=torch.float16) tensor(190.7500, device='cuda:0', dtype=torch.float16)\n",
      "\n",
      "subject:  Campania\n",
      "The capital of Saxony is Dresden.\n",
      "The capital of Norway is Oslo.\n",
      "The capital of Lebanon is Beirut.\n",
      "The capital of {} is\n",
      "tensor(31.5469, device='cuda:0', dtype=torch.float16) tensor(183.7500, device='cuda:0', dtype=torch.float16)\n",
      "\n",
      "subject:  Lazio\n",
      "The capital of Norway is Oslo.\n",
      "The capital of Lebanon is Beirut.\n",
      "The capital of Saxony is Dresden.\n",
      "The capital of {} is\n",
      "tensor(26.2344, device='cuda:0', dtype=torch.float16) tensor(203.2500, device='cuda:0', dtype=torch.float16)\n",
      "\n",
      "subject:  Norway\n",
      "The capital of Lebanon is Beirut.\n",
      "The capital of Saxony is Dresden.\n",
      "The capital of Lazio is Rome.\n",
      "The capital of {} is\n",
      "tensor(22.1250, device='cuda:0', dtype=torch.float16) tensor(213.2500, device='cuda:0', dtype=torch.float16)\n",
      "\n",
      "subject:  Saxony\n",
      "The capital of Lazio is Rome.\n",
      "The capital of Norway is Oslo.\n",
      "The capital of Lebanon is Beirut.\n",
      "The capital of {} is\n",
      "tensor(28.2344, device='cuda:0', dtype=torch.float16) tensor(182.3750, device='cuda:0', dtype=torch.float16)\n",
      "\n"
     ]
    },
    {
     "data": {
      "application/vnd.jupyter.widget-view+json": {
       "model_id": "dae30eeca0df47f1a04157a918b04457",
       "version_major": 2,
       "version_minor": 0
      },
      "text/plain": [
       "  0%|          | 0/5 [00:00<?, ?it/s]"
      ]
     },
     "metadata": {},
     "output_type": "display_data"
    },
    {
     "name": "stdout",
     "output_type": "stream",
     "text": [
      "subject:  Lebanon\n",
      "The capital of Peru is Lima.\n",
      "The capital of Portugal is Lisbon.\n",
      "The capital of United Arab Republic is Cairo.\n",
      "The capital of {} is\n",
      "tensor(29.5469, device='cuda:0', dtype=torch.float16) tensor(205.1250, device='cuda:0', dtype=torch.float16)\n",
      "\n",
      "subject:  Peru\n",
      "The capital of United Arab Republic is Cairo.\n",
      "The capital of Portugal is Lisbon.\n",
      "The capital of South Yemen is Aden.\n",
      "The capital of {} is\n",
      "tensor(28.3750, device='cuda:0', dtype=torch.float16) tensor(200.7500, device='cuda:0', dtype=torch.float16)\n",
      "\n",
      "subject:  South Yemen\n",
      "The capital of United Arab Republic is Cairo.\n",
      "The capital of Peru is Lima.\n",
      "The capital of Portugal is Lisbon.\n",
      "The capital of {} is\n",
      "tensor(41.5000, device='cuda:0', dtype=torch.float16) tensor(199.2500, device='cuda:0', dtype=torch.float16)\n",
      "\n",
      "subject:  Portugal\n",
      "The capital of United Arab Republic is Cairo.\n",
      "The capital of Lebanon is Beirut.\n",
      "The capital of South Yemen is Aden.\n",
      "The capital of {} is\n",
      "tensor(22.5469, device='cuda:0', dtype=torch.float16) tensor(218.8750, device='cuda:0', dtype=torch.float16)\n",
      "\n",
      "subject:  United Arab Republic\n",
      "The capital of South Yemen is Aden.\n",
      "The capital of Lebanon is Beirut.\n",
      "The capital of Peru is Lima.\n",
      "The capital of {} is\n",
      "tensor(31.1250, device='cuda:0', dtype=torch.float16) tensor(213.6250, device='cuda:0', dtype=torch.float16)\n",
      "\n"
     ]
    },
    {
     "data": {
      "application/vnd.jupyter.widget-view+json": {
       "model_id": "4219f57e08744d6ab02a6b5d16302bf0",
       "version_major": 2,
       "version_minor": 0
      },
      "text/plain": [
       "  0%|          | 0/5 [00:00<?, ?it/s]"
      ]
     },
     "metadata": {},
     "output_type": "display_data"
    },
    {
     "name": "stdout",
     "output_type": "stream",
     "text": [
      "subject:  Lazio\n",
      "The capital of Saxony is Dresden.\n",
      "The capital of Peru is Lima.\n",
      "The capital of South Yemen is Aden.\n",
      "The capital of {} is\n",
      "tensor(30.0312, device='cuda:0', dtype=torch.float16) tensor(191.7500, device='cuda:0', dtype=torch.float16)\n",
      "\n",
      "subject:  Norway\n",
      "The capital of South Yemen is Aden.\n",
      "The capital of Peru is Lima.\n",
      "The capital of Saxony is Dresden.\n",
      "The capital of {} is\n",
      "tensor(21.9531, device='cuda:0', dtype=torch.float16) tensor(215.6250, device='cuda:0', dtype=torch.float16)\n",
      "\n",
      "subject:  South Yemen\n",
      "The capital of Peru is Lima.\n",
      "The capital of Lazio is Rome.\n",
      "The capital of Saxony is Dresden.\n",
      "The capital of {} is\n",
      "tensor(38.6562, device='cuda:0', dtype=torch.float16) tensor(199.2500, device='cuda:0', dtype=torch.float16)\n",
      "\n",
      "subject:  Peru\n",
      "The capital of Norway is Oslo.\n",
      "The capital of South Yemen is Aden.\n",
      "The capital of Saxony is Dresden.\n",
      "The capital of {} is\n",
      "tensor(29.8750, device='cuda:0', dtype=torch.float16) tensor(199.6250, device='cuda:0', dtype=torch.float16)\n",
      "\n",
      "subject:  Saxony\n",
      "The capital of Peru is Lima.\n",
      "The capital of Lazio is Rome.\n",
      "The capital of Norway is Oslo.\n",
      "The capital of {} is\n",
      "tensor(26.1406, device='cuda:0', dtype=torch.float16) tensor(198.8750, device='cuda:0', dtype=torch.float16)\n",
      "\n",
      "Saving weights and biases >>  gpt-j/jacobians_averaged_collection/before__ln_f/P36.npz\n",
      "----------------------------------------------------\n"
     ]
    }
   ],
   "source": [
    "jb_save_path = \"gpt-j/jacobians_averaged_collection/before__ln_f\"\n",
    "os.makedirs(jb_save_path, exist_ok = True)\n",
    "\n",
    "for relation_id in relation_dct:\n",
    "    print(\"zzzzzzzzzzzzzzzzzzzzzzzzzzzzzzzzzzzzzzzzzzzzzzzzzzzz\")\n",
    "    print(relation_id, relation_dct[relation_id]['relation'])\n",
    "    print(\"zzzzzzzzzzzzzzzzzzzzzzzzzzzzzzzzzzzzzzzzzzzzzzzzzzzz\")\n",
    "    path = f\"{root_path}/{relation_id}\"\n",
    "    try:\n",
    "        with open(f\"{path}/correct_prediction_{relation_id}.json\") as f:\n",
    "            correct_predictions = json.load(f)\n",
    "            print(len(correct_predictions))\n",
    "    except:\n",
    "        print(f\"Error opening correct prediction {relation_id} (maybe the scan skipped this relation?)\")\n",
    "        print(\"XXXXXXXXXXXXXXXXXXXXXXXXXXXXXXXXXXXXXXXXXXXXXXXXXXXX\")\n",
    "        continue\n",
    "        \n",
    "    if(len(correct_predictions) < cut_off):\n",
    "        print(f\"skipped {relation_id} >> \", len(correct_predictions))\n",
    "        print(\"XXXXXXXXXXXXXXXXXXXXXXXXXXXXXXXXXXXXXXXXXXXXXXXXXXXX\")\n",
    "        continue\n",
    "\n",
    "    top_performers = get_top_performers(relation_id, consider_top=10)\n",
    "\n",
    "    relation_prompt = relation_dct[relation_id]['relation']\n",
    "    print(relation_prompt)\n",
    "\n",
    "    # weight, bias = get_averaged_JB(top_performers, relation_prompt)\n",
    "    weights_and_biases = get_multiple_averaged_JB(\n",
    "        top_performers, \n",
    "        relation_prompt=relation_prompt, \n",
    "        N = 10, \n",
    "        calculate_at_lnf=False\n",
    "    )\n",
    "\n",
    "    save_path = f\"{jb_save_path}/{relation_id}.npz\"\n",
    "    print(\"Saving weights and biases >> \", save_path)\n",
    "    np.savez(\n",
    "        save_path, \n",
    "        # JB = [{\n",
    "        #     'weight': weight.cpu().numpy(),\n",
    "        #     'bias'  : bias.cpu().numpy()\n",
    "        # }],\n",
    "        weights_and_biases = weights_and_biases,\n",
    "        allow_pickle = True\n",
    "    )\n",
    "    print(\"----------------------------------------------------\")\n"
   ]
  },
  {
   "cell_type": "code",
   "execution_count": null,
   "metadata": {},
   "outputs": [],
   "source": []
  }
 ],
 "metadata": {
  "kernelspec": {
   "display_name": "relation",
   "language": "python",
   "name": "python3"
  },
  "language_info": {
   "codemirror_mode": {
    "name": "ipython",
    "version": 3
   },
   "file_extension": ".py",
   "mimetype": "text/x-python",
   "name": "python",
   "nbconvert_exporter": "python",
   "pygments_lexer": "ipython3",
   "version": "3.10.8"
  },
  "orig_nbformat": 4,
  "vscode": {
   "interpreter": {
    "hash": "3439fe3f7dcaddaf51997811d25ada8e7c0985d2997d22a3ed461af94d2f9f43"
   }
  }
 },
 "nbformat": 4,
 "nbformat_minor": 2
}
