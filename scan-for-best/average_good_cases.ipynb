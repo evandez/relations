{
 "cells": [
  {
   "cell_type": "code",
   "execution_count": 63,
   "metadata": {},
   "outputs": [
    {
     "name": "stdout",
     "output_type": "stream",
     "text": [
      "The autoreload extension is already loaded. To reload it, use:\n",
      "  %reload_ext autoreload\n"
     ]
    }
   ],
   "source": [
    "%load_ext autoreload\n",
    "%autoreload 2"
   ]
  },
  {
   "cell_type": "code",
   "execution_count": 64,
   "metadata": {},
   "outputs": [],
   "source": [
    "import torch\n",
    "import numpy as np\n",
    "import json\n",
    "from tqdm import tqdm\n",
    "\n",
    "import os\n",
    "import sys\n",
    "sys.path.append('..')\n",
    "\n",
    "from relations import estimate\n",
    "from util import model_utils\n",
    "from dsets.counterfact import CounterFactDataset"
   ]
  },
  {
   "cell_type": "code",
   "execution_count": 65,
   "metadata": {},
   "outputs": [],
   "source": [
    "MODEL_NAME = \"gpt2-xl\"  # gpt2-{medium,large,xl} or EleutherAI/gpt-j-6B\n",
    "mt = model_utils.ModelAndTokenizer(MODEL_NAME, low_cpu_mem_usage=False)\n",
    "\n",
    "model = mt.model\n",
    "tokenizer = mt.tokenizer\n",
    "tokenizer.pad_token = tokenizer.eos_token"
   ]
  },
  {
   "cell_type": "code",
   "execution_count": 66,
   "metadata": {},
   "outputs": [],
   "source": [
    "test_cases = [\n",
    "    (\"The Great Wall\", -1, \"China\"),\n",
    "    (\"Niagara Falls\", -2, \"Canada\"),\n",
    "    (\"Valdemarsvik\", -1, \"Sweden\"),\n",
    "    (\"Kyoto University\", -2, \"Japan\"),\n",
    "    (\"Hattfjelldal\", -1, \"Norway\"),\n",
    "    (\"Ginza\", -1, \"Japan\"),\n",
    "    (\"Sydney Hospital\", -2, \"Australia\"),\n",
    "    (\"Mahalangur Himal\", -1, \"Nepal\"),\n",
    "    (\"Higashikagawa\", -1, \"Japan\"),\n",
    "    (\"Trento\", -1, \"Italy\"),\n",
    "    (\"Taj Mahal\", -1, \"India\")\n",
    "]"
   ]
  },
  {
   "cell_type": "code",
   "execution_count": 67,
   "metadata": {},
   "outputs": [],
   "source": [
    "space_needle = estimate.estimate_relation_operator(\n",
    "    model,\n",
    "    tokenizer,\n",
    "    \"The Space Needle\",\n",
    "    \"{} is located in the country of\",\n",
    "    layer=25,\n",
    "    device=model.device,\n",
    ")"
   ]
  },
  {
   "cell_type": "code",
   "execution_count": 68,
   "metadata": {},
   "outputs": [],
   "source": [
    "men_park = estimate.estimate_relation_operator(\n",
    "    model,\n",
    "    tokenizer,\n",
    "    \"Menangle Park\",\n",
    "    \"{} is located in the country of\",\n",
    "    subject_token_index=1,\n",
    "    layer=25,\n",
    "    device=model.device,\n",
    ")"
   ]
  },
  {
   "cell_type": "code",
   "execution_count": 69,
   "metadata": {},
   "outputs": [
    {
     "data": {
      "text/plain": [
       "({'Jh_norm': 44.985111236572266,\n",
       "  'bias_norm': 372.6827087402344,\n",
       "  'h_info': {'h_index': 3, 'token_id': 293, 'token': 'le'},\n",
       "  'consider_residual': False},\n",
       " {'Jh_norm': 22.141036987304688,\n",
       "  'bias_norm': 522.3410034179688,\n",
       "  'h_info': {'h_index': 1, 'token_id': 9248, 'token': 'angle'},\n",
       "  'consider_residual': False})"
      ]
     },
     "execution_count": 69,
     "metadata": {},
     "output_type": "execute_result"
    }
   ],
   "source": [
    "space_needle.misc, men_park.misc"
   ]
  },
  {
   "cell_type": "code",
   "execution_count": 70,
   "metadata": {},
   "outputs": [
    {
     "name": "stdout",
     "output_type": "stream",
     "text": [
      "The Great Wall, target: China   ==>   predicted: [' China', ' India', ' Hong', ' the', ' Z']\n",
      "Niagara Falls, target: Canada   ==>   predicted: [' Newfoundland', ' Ontario', ' New', ' Ireland', ' Canada']\n",
      "Valdemarsvik, target: Sweden   ==>   predicted: [' Australia', ' New', ' the', ' Canada', ' Bh']\n",
      "Kyoto University, target: Japan   ==>   predicted: [' India', ' Bh', ' Nepal', ' Thailand', ' Sri']\n",
      "Hattfjelldal, target: Norway   ==>   predicted: [' Ireland', ' Scotland', ' the', ' Australia', ' Wales']\n",
      "Ginza, target: Japan   ==>   predicted: [' India', ' Australia', ' Hong', ' Japan', ' Bh']\n",
      "Sydney Hospital, target: Australia   ==>   predicted: [' Australia', ' Sydney', ' Queensland', ' NSW', ' New']\n",
      "Mahalangur Himal, target: Nepal   ==>   predicted: [' Bh', ' Nepal', ' India', ' Sri', ' Kashmir']\n",
      "Higashikagawa, target: Japan   ==>   predicted: [' Japan', ' India', ' New', ' Australia', ' the']\n",
      "Trento, target: Italy   ==>   predicted: [' New', ' Australia', ' Ireland', ' the', ' France']\n",
      "Taj Mahal, target: India   ==>   predicted: [' India', ' Bh', ' Sri', ' Ireland', ' Nepal']\n"
     ]
    }
   ],
   "source": [
    "for subject, subject_token_index, target in test_cases:\n",
    "    objects = men_park(\n",
    "        subject,\n",
    "        subject_token_index=subject_token_index,\n",
    "        device=model.device,\n",
    "        return_top_k=5,\n",
    "    )\n",
    "    print(f\"{subject}, target: {target}   ==>   predicted: {objects}\")"
   ]
  },
  {
   "cell_type": "code",
   "execution_count": 71,
   "metadata": {},
   "outputs": [
    {
     "name": "stdout",
     "output_type": "stream",
     "text": [
      "tensor(372.6827, device='cuda:0') tensor(522.3410, device='cuda:0')\n"
     ]
    },
    {
     "data": {
      "text/plain": [
       "tensor(269.9868, device='cuda:0')"
      ]
     },
     "execution_count": 71,
     "metadata": {},
     "output_type": "execute_result"
    }
   ],
   "source": [
    "print(space_needle.bias.norm(), men_park.bias.norm())\n",
    "(space_needle.bias - men_park.bias).norm()"
   ]
  },
  {
   "cell_type": "code",
   "execution_count": 72,
   "metadata": {},
   "outputs": [
    {
     "name": "stdout",
     "output_type": "stream",
     "text": [
      "The Great Wall, target: China   ==>   predicted: [' China', ' Hong', ' Singapore', ' Qing', ' Beijing']\n",
      "Niagara Falls, target: Canada   ==>   predicted: [' Canada', ' Ontario', ' New', ' Newfoundland', ' Niagara']\n",
      "Valdemarsvik, target: Sweden   ==>   predicted: [' Iceland', ' Norway', ' Sweden', ' Denmark', ' Finland']\n",
      "Kyoto University, target: Japan   ==>   predicted: [' Japan', ' Nepal', ' India', ' China', ' Thailand']\n",
      "Hattfjelldal, target: Norway   ==>   predicted: [' Iceland', ' Norway', ' Denmark', ' Sweden', ' Finland']\n",
      "Ginza, target: Japan   ==>   predicted: [' Japan', ' Singapore', ' Hong', ' China', ' India']\n",
      "Sydney Hospital, target: Australia   ==>   predicted: [' Australia', ' Sydney', ' NSW', ' Singapore', ' Australian']\n",
      "Mahalangur Himal, target: Nepal   ==>   predicted: [' Nepal', ' Bh', ' Tibet', ' India', ' Nep']\n",
      "Higashikagawa, target: Japan   ==>   predicted: [' Japan', ' Canada', ' Japanese', ' Tokyo', ' New']\n",
      "Trento, target: Italy   ==>   predicted: [' New', ' Australia', ' the', ' Canada', ' Bel']\n",
      "Taj Mahal, target: India   ==>   predicted: [' India', ' Bh', ' Iceland', ' Ireland', ' Nepal']\n"
     ]
    }
   ],
   "source": [
    "weight = torch.stack([space_needle.weight, men_park.weight]).mean(dim = 0)\n",
    "bias = torch.stack([space_needle.bias, men_park.bias]).mean(dim = 0)\n",
    "\n",
    "avg_located_in = estimate.RelationOperator(\n",
    "    model = model, tokenizer= tokenizer,\n",
    "    layer = 25, relation = \"{} is located in the country of\",\n",
    "    weight= weight, \n",
    "    bias= bias\n",
    ")\n",
    "\n",
    "for subject, subject_token_index, target in test_cases:\n",
    "    objects = avg_located_in(\n",
    "        subject,\n",
    "        subject_token_index=subject_token_index,\n",
    "        device=model.device,\n",
    "        return_top_k=5,\n",
    "    )\n",
    "    print(f\"{subject}, target: {target}   ==>   predicted: {objects}\")"
   ]
  },
  {
   "cell_type": "code",
   "execution_count": 73,
   "metadata": {},
   "outputs": [],
   "source": [
    "wgt = space_needle.weight\n",
    "svd = wgt.svd()"
   ]
  },
  {
   "cell_type": "code",
   "execution_count": 74,
   "metadata": {},
   "outputs": [
    {
     "data": {
      "text/plain": [
       "(torch.Size([1600, 1600]), torch.Size([1600]), torch.Size([1600, 1600]))"
      ]
     },
     "execution_count": 74,
     "metadata": {},
     "output_type": "execute_result"
    }
   ],
   "source": [
    "svd.U.shape, svd.S.shape, svd.V.shape"
   ]
  },
  {
   "cell_type": "code",
   "execution_count": 59,
   "metadata": {},
   "outputs": [
    {
     "data": {
      "text/plain": [
       "tensor(0.0072, device='cuda:0')"
      ]
     },
     "execution_count": 59,
     "metadata": {},
     "output_type": "execute_result"
    }
   ],
   "source": [
    "wgt_est = svd.U @ torch.diag(svd.S) @ svd.V.t()\n",
    "\n",
    "torch.dist(wgt, wgt_est)"
   ]
  },
  {
   "cell_type": "code",
   "execution_count": 60,
   "metadata": {},
   "outputs": [],
   "source": [
    "rank = 50\n",
    "wgt_est = torch.zeros(wgt.shape).to(model.device)\n",
    "dst = []\n",
    "for i in range(rank):\n",
    "    wgt_est += svd.S[i] * (svd.U[:, i][None].T @ svd.V[:, i][None])\n",
    "    dst.append(torch.dist(wgt, wgt_est).item())"
   ]
  },
  {
   "cell_type": "code",
   "execution_count": 61,
   "metadata": {},
   "outputs": [
    {
     "data": {
      "text/plain": [
       "[<matplotlib.lines.Line2D at 0x7f6147e89660>]"
      ]
     },
     "execution_count": 61,
     "metadata": {},
     "output_type": "execute_result"
    },
    {
     "data": {
      "image/png": "[encoded data removed]",
      "text/plain": [
       "<Figure size 640x480 with 1 Axes>"
      ]
     },
     "metadata": {},
     "output_type": "display_data"
    }
   ],
   "source": [
    "import matplotlib.pyplot as plt\n",
    "\n",
    "plt.plot(dst)"
   ]
  },
  {
   "cell_type": "code",
   "execution_count": 56,
   "metadata": {},
   "outputs": [
    {
     "name": "stdout",
     "output_type": "stream",
     "text": [
      "approximation error ==> 46.80177688598633\n"
     ]
    }
   ],
   "source": [
    "space_needle_res = estimate.estimate_relation_operator(\n",
    "    model,\n",
    "    tokenizer,\n",
    "    \"The Space Needle\",\n",
    "    \"{} is located in the country of\",\n",
    "    layer=25,\n",
    "    device=model.device,\n",
    "    consider_residual=True, approximate_rank = 1\n",
    ")"
   ]
  },
  {
   "cell_type": "code",
   "execution_count": null,
   "metadata": {},
   "outputs": [],
   "source": []
  }
 ],
 "metadata": {
  "kernelspec": {
   "display_name": "relation",
   "language": "python",
   "name": "python3"
  },
  "language_info": {
   "codemirror_mode": {
    "name": "ipython",
    "version": 3
   },
   "file_extension": ".py",
   "mimetype": "text/x-python",
   "name": "python",
   "nbconvert_exporter": "python",
   "pygments_lexer": "ipython3",
   "version": "3.10.8"
  },
  "orig_nbformat": 4,
  "vscode": {
   "interpreter": {
    "hash": "3439fe3f7dcaddaf51997811d25ada8e7c0985d2997d22a3ed461af94d2f9f43"
   }
  }
 },
 "nbformat": 4,
 "nbformat_minor": 2
}
