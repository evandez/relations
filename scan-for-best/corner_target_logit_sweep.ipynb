{
 "cells": [
  {
   "cell_type": "code",
   "execution_count": 1,
   "metadata": {},
   "outputs": [],
   "source": [
    "%load_ext autoreload\n",
    "%autoreload 2"
   ]
  },
  {
   "cell_type": "code",
   "execution_count": 2,
   "metadata": {},
   "outputs": [],
   "source": [
    "import torch\n",
    "import numpy as np\n",
    "import json\n",
    "from tqdm.auto import tqdm\n",
    "import random\n",
    "import transformers\n",
    "\n",
    "import os\n",
    "import sys\n",
    "sys.path.append('..')\n",
    "\n",
    "from relations import estimate\n",
    "from util import model_utils\n",
    "from baukit import nethook\n",
    "from operator import itemgetter"
   ]
  },
  {
   "cell_type": "code",
   "execution_count": 3,
   "metadata": {},
   "outputs": [
    {
     "name": "stdout",
     "output_type": "stream",
     "text": [
      "skipped  P1303\n",
      "skipped  P190\n",
      "skipped  P740\n",
      "skipped  P413\n",
      "skipped  P39\n",
      "skipped  P136\n",
      "skipped  P449\n",
      "skipped  P138\n",
      "skipped  P131\n",
      "skipped  P407\n",
      "skipped  P108\n"
     ]
    }
   ],
   "source": [
    "cut_off = 50 # minimum number of correct predictions\n",
    "\n",
    "###########################################################################\n",
    "relation_dct = {\n",
    "    'P17'   : {'relation': '{} is located in the country of', 'correct_predict': None, 'cached_JB': None},\n",
    "    'P641'  : {'relation': '{} plays the sport of', 'correct_predict': None, 'cached_JB': None},\n",
    "    'P103'  : {'relation': 'The mother tongue of {} is', 'correct_predict': None, 'cached_JB': None},\n",
    "    'P176'  : {'relation': '{} is produced by', 'correct_predict': None, 'cached_JB': None},\n",
    "    'P140'  : {'relation': 'The official religion of {} is', 'correct_predict': None, 'cached_JB': None},\n",
    "    'P1303' : {'relation': '{} plays the instrument', 'correct_predict': None, 'cached_JB': None},\n",
    "    'P190'  : {'relation': 'What is the twin city of {}? It is', 'correct_predict': None, 'cached_JB': None},\n",
    "    'P740'  : {'relation': '{} was founded in', 'correct_predict': None, 'cached_JB': None},\n",
    "    'P178'  : {'relation': '{} was developed by', 'correct_predict': None, 'cached_JB': None},\n",
    "    'P495'  : {'relation': '{}, that originated in the country of', 'correct_predict': None, 'cached_JB': None},\n",
    "    'P127'  : {'relation': '{} is owned by', 'correct_predict': None, 'cached_JB': None},\n",
    "    'P413'  : {'relation': '{} plays in the position of', 'correct_predict': None, 'cached_JB': None},\n",
    "    'P39'   : {'relation': '{}, who holds the position of', 'correct_predict': None, 'cached_JB': None},\n",
    "    'P159'  : {'relation': 'The headquarter of {} is located in', 'correct_predict': None, 'cached_JB': None},\n",
    "    'P20'   : {'relation': '{} died in the city of', 'correct_predict': None, 'cached_JB': None},\n",
    "    'P136'  : {'relation': 'What does {} play? They play', 'correct_predict': None, 'cached_JB': None},\n",
    "    'P106'  : {'relation': 'The profession of {} is', 'correct_predict': None, 'cached_JB': None},\n",
    "    'P30'   : {'relation': '{} is located in the continent of', 'correct_predict': None, 'cached_JB': None},\n",
    "    'P937'  : {'relation': '{} worked in the city of', 'correct_predict': None, 'cached_JB': None},\n",
    "    'P449'  : {'relation': '{} was released on', 'correct_predict': None, 'cached_JB': None},\n",
    "    'P27'   : {'relation': '{} is a citizen of', 'correct_predict': None, 'cached_JB': None},\n",
    "    'P101'  : {'relation': '{} works in the field of', 'correct_predict': None, 'cached_JB': None},\n",
    "    'P19'   : {'relation': '{} was born in', 'correct_predict': None, 'cached_JB': None},\n",
    "    'P37'   : {'relation': 'In {}, an official language is', 'correct_predict': None, 'cached_JB': None},\n",
    "    'P138'  : {'relation': '{}, named after', 'correct_predict': None, 'cached_JB': None},\n",
    "    'P131'  : {'relation': '{} is located in', 'correct_predict': None, 'cached_JB': None},\n",
    "    'P407'  : {'relation': '{} was written in', 'correct_predict': None, 'cached_JB': None},\n",
    "    'P108'  : {'relation': '{}, who is employed by', 'correct_predict': None, 'cached_JB': None},\n",
    "    'P36'   : {'relation': 'The capital of {} is', 'correct_predict': None, 'cached_JB': None},\n",
    "}\n",
    "###########################################################################\n",
    "\n",
    "\n",
    "root_path = \"gpt-j\"\n",
    "\n",
    "pop_track = []\n",
    "for relation in relation_dct:\n",
    "    path = f\"{root_path}/{relation}\"\n",
    "    with open(f\"{path}/correct_prediction_{relation}.json\") as f:\n",
    "        correct_predictions = json.load(f)\n",
    "    if(len(correct_predictions) < cut_off):\n",
    "    # if \"performance\" not in os.listdir(path):\n",
    "        print(\"skipped \", relation)\n",
    "        pop_track.append(relation)\n",
    "    \n",
    "for r in pop_track:\n",
    "    relation_dct.pop(r)"
   ]
  },
  {
   "cell_type": "code",
   "execution_count": 4,
   "metadata": {},
   "outputs": [
    {
     "name": "stdout",
     "output_type": "stream",
     "text": [
      "EleutherAI/gpt-j-6B ==> device: cuda:0, memory: 24320971760\n"
     ]
    }
   ],
   "source": [
    "MODEL_NAME = \"EleutherAI/gpt-j-6B\"  # gpt2-{medium,large,xl} or EleutherAI/gpt-j-6B\n",
    "mt = model_utils.ModelAndTokenizer(MODEL_NAME, low_cpu_mem_usage=True, torch_dtype=torch.float32)\n",
    "\n",
    "model = mt.model\n",
    "tokenizer = mt.tokenizer\n",
    "tokenizer.pad_token = tokenizer.eos_token\n",
    "\n",
    "print(f\"{MODEL_NAME} ==> device: {model.device}, memory: {model.get_memory_footprint()}\")"
   ]
  },
  {
   "cell_type": "code",
   "execution_count": 5,
   "metadata": {},
   "outputs": [
    {
     "name": "stdout",
     "output_type": "stream",
     "text": [
      "Loaded dataset with 21919 elements\n"
     ]
    }
   ],
   "source": [
    "from dsets.counterfact import CounterFactDataset\n",
    "counterfact = CounterFactDataset(\"../data/\")"
   ]
  },
  {
   "cell_type": "code",
   "execution_count": 6,
   "metadata": {},
   "outputs": [],
   "source": [
    "jacobian_cache_path = \"/mnt/39a89eb4-27b7-4fce-a6ab-a9d203443a7c/relation_cached/gpt-j/jacobians_averaged_collection/before__ln_f/{}.npz\"\n",
    "cached_jbs = np.load(\n",
    "    jacobian_cache_path.format('P17'),\n",
    "    allow_pickle= True\n",
    ")"
   ]
  },
  {
   "cell_type": "code",
   "execution_count": 7,
   "metadata": {},
   "outputs": [
    {
     "data": {
      "text/plain": [
       "(torch.Size([4096, 4096]), torch.Size([1, 4096]))"
      ]
     },
     "execution_count": 7,
     "metadata": {},
     "output_type": "execute_result"
    }
   ],
   "source": [
    "w = torch.stack(\n",
    "        [wb['weight'] for wb in cached_jbs['weights_and_biases']]\n",
    "    ).mean(dim=0)\n",
    "\n",
    "b = torch.stack(\n",
    "        [wb['bias'] for wb in cached_jbs['weights_and_biases']]\n",
    "    ).mean(dim=0)\n",
    "\n",
    "w.shape, b.shape"
   ]
  },
  {
   "cell_type": "code",
   "execution_count": 8,
   "metadata": {},
   "outputs": [
    {
     "name": "stdout",
     "output_type": "stream",
     "text": [
      "unique objects:  95 [' Ireland', ' Pakistan', ' Australia', ' Ethiopia', ' Turkey']\n"
     ]
    }
   ],
   "source": [
    "relation_id = \"P17\"\n",
    "objects = [c['requested_rewrite'] for c in counterfact if c[\"requested_rewrite\"]['relation_id'] == relation_id]\n",
    "objects = [\" \"+ o['target_true']['str'] for o in objects]\n",
    "objects = list(set(objects))\n",
    "print(\"unique objects: \", len(objects), objects[0:min(5, len(objects))])"
   ]
  },
  {
   "cell_type": "code",
   "execution_count": 26,
   "metadata": {},
   "outputs": [
    {
     "data": {
      "text/plain": [
       "[(' Lithuania', 57.932),\n",
       " (' Estonia', 57.909),\n",
       " (' Nicaragua', 57.906),\n",
       " (' Tanzania', 57.899),\n",
       " (' Bahamas', 57.82)]"
      ]
     },
     "execution_count": 26,
     "metadata": {},
     "output_type": "execute_result"
    }
   ],
   "source": [
    "from relations import corner, evaluate\n",
    "corner_estimator = corner.CornerEstimator(model = model, tokenizer = tokenizer)\n",
    "\n",
    "current_corner = corner_estimator.estimate_average_corner_with_gradient_descent(\n",
    "            objects, \n",
    "            # target_logit_value=30, verbose = True\n",
    "        )\n",
    "\n",
    "corner_estimator.get_vocab_representation(current_corner, get_logits=50)"
   ]
  },
  {
   "cell_type": "code",
   "execution_count": 27,
   "metadata": {},
   "outputs": [
    {
     "data": {
      "application/vnd.jupyter.widget-view+json": {
       "model_id": "df1a5bf981e5451ca4b5a31d8a6dcd98",
       "version_major": 2,
       "version_minor": 0
      },
      "text/plain": [
       "  0%|          | 0/18 [00:00<?, ?it/s]"
      ]
     },
     "metadata": {},
     "output_type": "display_data"
    },
    {
     "name": "stdout",
     "output_type": "stream",
     "text": [
      "relation_id >> P17\n",
      "------------------------------------------------------------------------------------------------------\n",
      "unique objects:  95 [' Ireland', ' Pakistan', ' Australia', ' Ethiopia', ' Turkey']\n",
      "22.859743118286133 >> [(' China', 58.46), (' Albania', 57.86), (' Tunisia', 57.827), (' Estonia', 57.787), (' Bahrain', 57.77)]\n",
      "P17 >> number of requests in counterfact = 875\n",
      "Checking correct prediction with normal calculation ...\n"
     ]
    },
    {
     "data": {
      "application/vnd.jupyter.widget-view+json": {
       "model_id": "20818953c58542948364749fff89acff",
       "version_major": 2,
       "version_minor": 0
      },
      "text/plain": [
       "  0%|          | 0/875 [00:00<?, ?it/s]"
      ]
     },
     "metadata": {},
     "output_type": "display_data"
    },
    {
     "name": "stdout",
     "output_type": "stream",
     "text": [
      "Number of correctly predicted requests = 407\n",
      "validating on 407 subject --> object associations\n"
     ]
    },
    {
     "data": {
      "application/vnd.jupyter.widget-view+json": {
       "model_id": "f57ffa6024e34dadaed76bfb7213e2a4",
       "version_major": 2,
       "version_minor": 0
      },
      "text/plain": [
       "  0%|          | 0/407 [00:00<?, ?it/s]"
      ]
     },
     "metadata": {},
     "output_type": "display_data"
    },
    {
     "name": "stdout",
     "output_type": "stream",
     "text": [
      "w = identity >>  0.7518427518427518\n",
      "validating on 407 subject --> object associations\n"
     ]
    },
    {
     "data": {
      "application/vnd.jupyter.widget-view+json": {
       "model_id": "24f723ddae84459dbb26a68b0aaa96d1",
       "version_major": 2,
       "version_minor": 0
      },
      "text/plain": [
       "  0%|          | 0/407 [00:00<?, ?it/s]"
      ]
     },
     "metadata": {},
     "output_type": "display_data"
    },
    {
     "name": "stdout",
     "output_type": "stream",
     "text": [
      "w = jacobian >>  0.9066339066339066\n",
      "\n",
      "saving results\n",
      "############################################################################################################\n",
      "relation_id >> P641\n",
      "------------------------------------------------------------------------------------------------------\n",
      "unique objects:  5 [' baseball', ' hockey', ' football', ' basketball', ' soccer']\n",
      "21.381254196166992 >> [(' soccer', 116.172), (' baseball', 115.898), (' football', 115.609), (' hockey', 115.401), (' basketball', 115.207)]\n",
      "P641 >> number of requests in counterfact = 318\n",
      "Checking correct prediction with normal calculation ...\n"
     ]
    },
    {
     "data": {
      "application/vnd.jupyter.widget-view+json": {
       "model_id": "40e2d6f408b0419caf7400fda3ca0d15",
       "version_major": 2,
       "version_minor": 0
      },
      "text/plain": [
       "  0%|          | 0/318 [00:00<?, ?it/s]"
      ]
     },
     "metadata": {},
     "output_type": "display_data"
    },
    {
     "name": "stdout",
     "output_type": "stream",
     "text": [
      "Number of correctly predicted requests = 196\n",
      "validating on 196 subject --> object associations\n"
     ]
    },
    {
     "data": {
      "application/vnd.jupyter.widget-view+json": {
       "model_id": "8a07d1f8a3574401be018d9ac2e80634",
       "version_major": 2,
       "version_minor": 0
      },
      "text/plain": [
       "  0%|          | 0/196 [00:00<?, ?it/s]"
      ]
     },
     "metadata": {},
     "output_type": "display_data"
    },
    {
     "name": "stdout",
     "output_type": "stream",
     "text": [
      "w = identity >>  0.9846938775510204\n",
      "validating on 196 subject --> object associations\n"
     ]
    },
    {
     "data": {
      "application/vnd.jupyter.widget-view+json": {
       "model_id": "29162048b09f469aa2ee2018d496c67f",
       "version_major": 2,
       "version_minor": 0
      },
      "text/plain": [
       "  0%|          | 0/196 [00:00<?, ?it/s]"
      ]
     },
     "metadata": {},
     "output_type": "display_data"
    },
    {
     "name": "stdout",
     "output_type": "stream",
     "text": [
      "w = jacobian >>  0.7346938775510204\n",
      "\n",
      "saving results\n",
      "############################################################################################################\n",
      "relation_id >> P103\n",
      "------------------------------------------------------------------------------------------------------\n",
      "unique objects:  30 [' Danish', ' Polish', ' Welsh', ' Chinese', ' Latin']\n",
      "29.54885482788086 >> [(' Croatian', 81.27), (' Turkish', 81.268), (' Swedish', 81.267), (' Italian', 81.206), (' Finnish', 81.194)]\n",
      "P103 >> number of requests in counterfact = 919\n",
      "Checking correct prediction with normal calculation ...\n"
     ]
    },
    {
     "data": {
      "application/vnd.jupyter.widget-view+json": {
       "model_id": "041f0262564a4c86b5491597ed8909c9",
       "version_major": 2,
       "version_minor": 0
      },
      "text/plain": [
       "  0%|          | 0/919 [00:00<?, ?it/s]"
      ]
     },
     "metadata": {},
     "output_type": "display_data"
    },
    {
     "name": "stdout",
     "output_type": "stream",
     "text": [
      "Number of correctly predicted requests = 745\n",
      "validating on 745 subject --> object associations\n"
     ]
    },
    {
     "data": {
      "application/vnd.jupyter.widget-view+json": {
       "model_id": "7f477326ec1b4aeca8ad9bafd12e1f95",
       "version_major": 2,
       "version_minor": 0
      },
      "text/plain": [
       "  0%|          | 0/745 [00:00<?, ?it/s]"
      ]
     },
     "metadata": {},
     "output_type": "display_data"
    },
    {
     "name": "stdout",
     "output_type": "stream",
     "text": [
      "w = identity >>  0.9718120805369127\n",
      "validating on 745 subject --> object associations\n"
     ]
    },
    {
     "data": {
      "application/vnd.jupyter.widget-view+json": {
       "model_id": "c354a50e7c5b4e2baaeef950799ec980",
       "version_major": 2,
       "version_minor": 0
      },
      "text/plain": [
       "  0%|          | 0/745 [00:00<?, ?it/s]"
      ]
     },
     "metadata": {},
     "output_type": "display_data"
    },
    {
     "name": "stdout",
     "output_type": "stream",
     "text": [
      "w = jacobian >>  0.9543624161073826\n",
      "\n",
      "saving results\n",
      "############################################################################################################\n",
      "relation_id >> P176\n",
      "------------------------------------------------------------------------------------------------------\n",
      "unique objects:  37 [' Google', ' Iran', ' Airbus', ' Sony', ' Chrysler']\n",
      "25.52078628540039 >> [(' Ford', 68.284), (' Mercedes', 63.664), (' Volkswagen', 59.98), (' Chrysler', 59.2), (' Renault', 59.177)]\n",
      "P176 >> number of requests in counterfact = 911\n",
      "Checking correct prediction with normal calculation ...\n"
     ]
    },
    {
     "data": {
      "application/vnd.jupyter.widget-view+json": {
       "model_id": "64caa780a6094cb38b7f91625e214e93",
       "version_major": 2,
       "version_minor": 0
      },
      "text/plain": [
       "  0%|          | 0/911 [00:00<?, ?it/s]"
      ]
     },
     "metadata": {},
     "output_type": "display_data"
    },
    {
     "name": "stdout",
     "output_type": "stream",
     "text": [
      "Number of correctly predicted requests = 544\n",
      "validating on 544 subject --> object associations\n"
     ]
    },
    {
     "data": {
      "application/vnd.jupyter.widget-view+json": {
       "model_id": "c22e1719e6964713881e1a66992668a4",
       "version_major": 2,
       "version_minor": 0
      },
      "text/plain": [
       "  0%|          | 0/544 [00:00<?, ?it/s]"
      ]
     },
     "metadata": {},
     "output_type": "display_data"
    },
    {
     "name": "stdout",
     "output_type": "stream",
     "text": [
      "w = identity >>  0.7169117647058824\n",
      "validating on 544 subject --> object associations\n"
     ]
    },
    {
     "data": {
      "application/vnd.jupyter.widget-view+json": {
       "model_id": "3159b37e0288410a96ab399acf011890",
       "version_major": 2,
       "version_minor": 0
      },
      "text/plain": [
       "  0%|          | 0/544 [00:00<?, ?it/s]"
      ]
     },
     "metadata": {},
     "output_type": "display_data"
    },
    {
     "name": "stdout",
     "output_type": "stream",
     "text": [
      "w = jacobian >>  0.4099264705882353\n",
      "\n",
      "saving results\n",
      "############################################################################################################\n",
      "relation_id >> P140\n",
      "------------------------------------------------------------------------------------------------------\n",
      "unique objects:  9 [' Muslim', ' Islam', ' Catholicism', ' Christianity', ' Judaism']\n",
      "27.48402214050293 >> [(' Christianity', 85.081), (' Christian', 84.815), (' Buddhism', 84.729), (' Islam', 84.633), (' Judaism', 84.398)]\n",
      "P140 >> number of requests in counterfact = 430\n",
      "Checking correct prediction with normal calculation ...\n"
     ]
    },
    {
     "data": {
      "application/vnd.jupyter.widget-view+json": {
       "model_id": "eb9c478af03b452e906f5d6fd3066a6f",
       "version_major": 2,
       "version_minor": 0
      },
      "text/plain": [
       "  0%|          | 0/430 [00:00<?, ?it/s]"
      ]
     },
     "metadata": {},
     "output_type": "display_data"
    },
    {
     "name": "stdout",
     "output_type": "stream",
     "text": [
      "Number of correctly predicted requests = 183\n",
      "validating on 183 subject --> object associations\n"
     ]
    },
    {
     "data": {
      "application/vnd.jupyter.widget-view+json": {
       "model_id": "ca6b869f2f704170a208f3c218aa7d0c",
       "version_major": 2,
       "version_minor": 0
      },
      "text/plain": [
       "  0%|          | 0/183 [00:00<?, ?it/s]"
      ]
     },
     "metadata": {},
     "output_type": "display_data"
    },
    {
     "name": "stdout",
     "output_type": "stream",
     "text": [
      "w = identity >>  0.9180327868852459\n",
      "validating on 183 subject --> object associations\n"
     ]
    },
    {
     "data": {
      "application/vnd.jupyter.widget-view+json": {
       "model_id": "04f2333012c24d32b79e3835d1014c4e",
       "version_major": 2,
       "version_minor": 0
      },
      "text/plain": [
       "  0%|          | 0/183 [00:00<?, ?it/s]"
      ]
     },
     "metadata": {},
     "output_type": "display_data"
    },
    {
     "name": "stdout",
     "output_type": "stream",
     "text": [
      "w = jacobian >>  0.9726775956284153\n",
      "\n",
      "saving results\n",
      "############################################################################################################\n",
      "relation_id >> P178\n",
      "------------------------------------------------------------------------------------------------------\n",
      "unique objects:  19 [' Google', ' Airbus', ' Sony', ' BBC', ' Apple']\n",
      "28.995100021362305 >> [(' Microsoft', 71.773), (' Samsung', 71.604), (' IBM', 71.57), (' Boeing', 71.558), (' Sega', 71.524)]\n",
      "P178 >> number of requests in counterfact = 579\n",
      "Checking correct prediction with normal calculation ...\n"
     ]
    },
    {
     "data": {
      "application/vnd.jupyter.widget-view+json": {
       "model_id": "b41067cd552341d991ccb7ef72214fd5",
       "version_major": 2,
       "version_minor": 0
      },
      "text/plain": [
       "  0%|          | 0/579 [00:00<?, ?it/s]"
      ]
     },
     "metadata": {},
     "output_type": "display_data"
    },
    {
     "name": "stdout",
     "output_type": "stream",
     "text": [
      "Number of correctly predicted requests = 401\n",
      "validating on 401 subject --> object associations\n"
     ]
    },
    {
     "data": {
      "application/vnd.jupyter.widget-view+json": {
       "model_id": "b0556c98ded4448fbd6f14b226471ac9",
       "version_major": 2,
       "version_minor": 0
      },
      "text/plain": [
       "  0%|          | 0/401 [00:00<?, ?it/s]"
      ]
     },
     "metadata": {},
     "output_type": "display_data"
    },
    {
     "name": "stdout",
     "output_type": "stream",
     "text": [
      "w = identity >>  0.8503740648379052\n",
      "validating on 401 subject --> object associations\n"
     ]
    },
    {
     "data": {
      "application/vnd.jupyter.widget-view+json": {
       "model_id": "40cfd42cdca6497da45b650e3f320d53",
       "version_major": 2,
       "version_minor": 0
      },
      "text/plain": [
       "  0%|          | 0/401 [00:00<?, ?it/s]"
      ]
     },
     "metadata": {},
     "output_type": "display_data"
    },
    {
     "name": "stdout",
     "output_type": "stream",
     "text": [
      "w = jacobian >>  0.7231920199501247\n",
      "\n",
      "saving results\n",
      "############################################################################################################\n",
      "relation_id >> P495\n",
      "------------------------------------------------------------------------------------------------------\n",
      "unique objects:  67 [' Ireland', ' Lebanon', ' Italy', ' Finland', ' Hungary']\n",
      "24.96476936340332 >> [(' China', 66.813), (' Nigeria', 65.59), (' Belarus', 64.718), (' Lithuania', 64.696), (' Norway', 64.672)]\n",
      "P495 >> number of requests in counterfact = 904\n",
      "Checking correct prediction with normal calculation ...\n"
     ]
    },
    {
     "data": {
      "application/vnd.jupyter.widget-view+json": {
       "model_id": "8389c58c40f544c0a0e29470d140f060",
       "version_major": 2,
       "version_minor": 0
      },
      "text/plain": [
       "  0%|          | 0/904 [00:00<?, ?it/s]"
      ]
     },
     "metadata": {},
     "output_type": "display_data"
    },
    {
     "name": "stdout",
     "output_type": "stream",
     "text": [
      "Number of correctly predicted requests = 160\n",
      "validating on 160 subject --> object associations\n"
     ]
    },
    {
     "data": {
      "application/vnd.jupyter.widget-view+json": {
       "model_id": "0d8b472cfa0e4babbc9825140a815ead",
       "version_major": 2,
       "version_minor": 0
      },
      "text/plain": [
       "  0%|          | 0/160 [00:00<?, ?it/s]"
      ]
     },
     "metadata": {},
     "output_type": "display_data"
    },
    {
     "name": "stdout",
     "output_type": "stream",
     "text": [
      "w = identity >>  0.81875\n",
      "validating on 160 subject --> object associations\n"
     ]
    },
    {
     "data": {
      "application/vnd.jupyter.widget-view+json": {
       "model_id": "b88cc4da69b148cf92c3b5126d32718a",
       "version_major": 2,
       "version_minor": 0
      },
      "text/plain": [
       "  0%|          | 0/160 [00:00<?, ?it/s]"
      ]
     },
     "metadata": {},
     "output_type": "display_data"
    },
    {
     "name": "stdout",
     "output_type": "stream",
     "text": [
      "w = jacobian >>  0.88125\n",
      "\n",
      "saving results\n",
      "############################################################################################################\n",
      "relation_id >> P127\n",
      "------------------------------------------------------------------------------------------------------\n",
      "unique objects:  109 [' Atlanta', ' Berlin', ' Winnipeg', ' Turkey', ' Jakarta']\n",
      "19.64012908935547 >> [(' Tampa', 35.487), (' Bristol', 35.473), (' Brazil', 34.591), (' Lebanon', 34.484), (' Columbia', 34.295)]\n",
      "P127 >> number of requests in counterfact = 433\n",
      "Checking correct prediction with normal calculation ...\n"
     ]
    },
    {
     "data": {
      "application/vnd.jupyter.widget-view+json": {
       "model_id": "b8f1108f27894c08a99fb8abaa2f8cbe",
       "version_major": 2,
       "version_minor": 0
      },
      "text/plain": [
       "  0%|          | 0/433 [00:00<?, ?it/s]"
      ]
     },
     "metadata": {},
     "output_type": "display_data"
    },
    {
     "name": "stdout",
     "output_type": "stream",
     "text": [
      "Number of correctly predicted requests = 105\n",
      "validating on 105 subject --> object associations\n"
     ]
    },
    {
     "data": {
      "application/vnd.jupyter.widget-view+json": {
       "model_id": "de42041ed7284e46a7dcee01dbf91e87",
       "version_major": 2,
       "version_minor": 0
      },
      "text/plain": [
       "  0%|          | 0/105 [00:00<?, ?it/s]"
      ]
     },
     "metadata": {},
     "output_type": "display_data"
    },
    {
     "name": "stdout",
     "output_type": "stream",
     "text": [
      "w = identity >>  0.0380952380952381\n",
      "validating on 105 subject --> object associations\n"
     ]
    },
    {
     "data": {
      "application/vnd.jupyter.widget-view+json": {
       "model_id": "2b997f2ea42d46d18ea58a89ab6ea392",
       "version_major": 2,
       "version_minor": 0
      },
      "text/plain": [
       "  0%|          | 0/105 [00:00<?, ?it/s]"
      ]
     },
     "metadata": {},
     "output_type": "display_data"
    },
    {
     "name": "stdout",
     "output_type": "stream",
     "text": [
      "w = jacobian >>  0.08571428571428572\n",
      "\n",
      "saving results\n",
      "############################################################################################################\n",
      "relation_id >> P159\n",
      "------------------------------------------------------------------------------------------------------\n",
      "unique objects:  178 [' Ireland', ' Dresden', ' Central', ' Georgetown', ' Atlanta']\n",
      "19.516788482666016 >> [(' Bel', 33.981), (' Cal', 33.492), (' Mal', 33.105), (' Buch', 32.949), (' St', 32.88)]\n",
      "P159 >> number of requests in counterfact = 756\n",
      "Checking correct prediction with normal calculation ...\n"
     ]
    },
    {
     "data": {
      "application/vnd.jupyter.widget-view+json": {
       "model_id": "187fdc86cf924c35ae2078654621b020",
       "version_major": 2,
       "version_minor": 0
      },
      "text/plain": [
       "  0%|          | 0/756 [00:00<?, ?it/s]"
      ]
     },
     "metadata": {},
     "output_type": "display_data"
    },
    {
     "name": "stdout",
     "output_type": "stream",
     "text": [
      "Number of correctly predicted requests = 159\n",
      "validating on 159 subject --> object associations\n"
     ]
    },
    {
     "data": {
      "application/vnd.jupyter.widget-view+json": {
       "model_id": "093a5e449f5f40489d11de9de4232dd4",
       "version_major": 2,
       "version_minor": 0
      },
      "text/plain": [
       "  0%|          | 0/159 [00:00<?, ?it/s]"
      ]
     },
     "metadata": {},
     "output_type": "display_data"
    },
    {
     "name": "stdout",
     "output_type": "stream",
     "text": [
      "w = identity >>  0.06918238993710692\n",
      "validating on 159 subject --> object associations\n"
     ]
    },
    {
     "data": {
      "application/vnd.jupyter.widget-view+json": {
       "model_id": "1b8f102cefae4adf852aeb46a5500693",
       "version_major": 2,
       "version_minor": 0
      },
      "text/plain": [
       "  0%|          | 0/159 [00:00<?, ?it/s]"
      ]
     },
     "metadata": {},
     "output_type": "display_data"
    },
    {
     "name": "stdout",
     "output_type": "stream",
     "text": [
      "w = jacobian >>  0.660377358490566\n",
      "\n",
      "saving results\n",
      "############################################################################################################\n",
      "relation_id >> P20\n",
      "------------------------------------------------------------------------------------------------------\n",
      "unique objects:  169 [' Ireland', ' Dresden', ' Greenland', ' Georgetown', ' Atlanta']\n",
      "19.468341827392578 >> [(' Wood', 32.388), (' Richmond', 31.794), (' Normandy', 31.413), (' Kansas', 31.314), (' Sierra', 31.294)]\n",
      "P20 >> number of requests in counterfact = 816\n",
      "Checking correct prediction with normal calculation ...\n"
     ]
    },
    {
     "data": {
      "application/vnd.jupyter.widget-view+json": {
       "model_id": "2964459fac2145368c81d1f48cbb699c",
       "version_major": 2,
       "version_minor": 0
      },
      "text/plain": [
       "  0%|          | 0/816 [00:00<?, ?it/s]"
      ]
     },
     "metadata": {},
     "output_type": "display_data"
    },
    {
     "name": "stdout",
     "output_type": "stream",
     "text": [
      "Number of correctly predicted requests = 145\n",
      "validating on 145 subject --> object associations\n"
     ]
    },
    {
     "data": {
      "application/vnd.jupyter.widget-view+json": {
       "model_id": "01bfc2474946456cafca2488ccc94a27",
       "version_major": 2,
       "version_minor": 0
      },
      "text/plain": [
       "  0%|          | 0/145 [00:00<?, ?it/s]"
      ]
     },
     "metadata": {},
     "output_type": "display_data"
    },
    {
     "name": "stdout",
     "output_type": "stream",
     "text": [
      "w = identity >>  0.06206896551724138\n",
      "validating on 145 subject --> object associations\n"
     ]
    },
    {
     "data": {
      "application/vnd.jupyter.widget-view+json": {
       "model_id": "4b819ab9731344cdb7068782a26018c6",
       "version_major": 2,
       "version_minor": 0
      },
      "text/plain": [
       "  0%|          | 0/145 [00:00<?, ?it/s]"
      ]
     },
     "metadata": {},
     "output_type": "display_data"
    },
    {
     "name": "stdout",
     "output_type": "stream",
     "text": [
      "w = jacobian >>  0.27586206896551724\n",
      "\n",
      "saving results\n",
      "############################################################################################################\n",
      "relation_id >> P106\n",
      "------------------------------------------------------------------------------------------------------\n",
      "unique objects:  31 [' missionary', ' novelist', ' surgeon', ' mathematician', ' journalist']\n",
      "27.038917541503906 >> [(' scientist', 70.657), (' writer', 68.307), (' doctor', 67.04), (' professor', 65.019), (' director', 64.054)]\n",
      "P106 >> number of requests in counterfact = 821\n",
      "Checking correct prediction with normal calculation ...\n"
     ]
    },
    {
     "data": {
      "application/vnd.jupyter.widget-view+json": {
       "model_id": "a7f14e463c614aec880ab995a5c1616e",
       "version_major": 2,
       "version_minor": 0
      },
      "text/plain": [
       "  0%|          | 0/821 [00:00<?, ?it/s]"
      ]
     },
     "metadata": {},
     "output_type": "display_data"
    },
    {
     "name": "stdout",
     "output_type": "stream",
     "text": [
      "Number of correctly predicted requests = 232\n",
      "validating on 232 subject --> object associations\n"
     ]
    },
    {
     "data": {
      "application/vnd.jupyter.widget-view+json": {
       "model_id": "27c55e8af1e94458a120bf25150d1998",
       "version_major": 2,
       "version_minor": 0
      },
      "text/plain": [
       "  0%|          | 0/232 [00:00<?, ?it/s]"
      ]
     },
     "metadata": {},
     "output_type": "display_data"
    },
    {
     "name": "stdout",
     "output_type": "stream",
     "text": [
      "w = identity >>  0.12931034482758622\n",
      "validating on 232 subject --> object associations\n"
     ]
    },
    {
     "data": {
      "application/vnd.jupyter.widget-view+json": {
       "model_id": "1b8f350cd11e43cb99201de0c0b628a6",
       "version_major": 2,
       "version_minor": 0
      },
      "text/plain": [
       "  0%|          | 0/232 [00:00<?, ?it/s]"
      ]
     },
     "metadata": {},
     "output_type": "display_data"
    },
    {
     "name": "stdout",
     "output_type": "stream",
     "text": [
      "w = jacobian >>  0.0\n",
      "\n",
      "saving results\n",
      "############################################################################################################\n",
      "relation_id >> P30\n",
      "------------------------------------------------------------------------------------------------------\n",
      "unique objects:  5 [' Americas', ' Antarctica', ' Africa', ' Asia', ' Europe']\n",
      "24.537059783935547 >> [(' Asia', 102.715), (' Africa', 102.576), (' Antarctica', 102.247), (' Americas', 101.717), (' Europe', 101.357)]\n",
      "P30 >> number of requests in counterfact = 959\n",
      "Checking correct prediction with normal calculation ...\n"
     ]
    },
    {
     "data": {
      "application/vnd.jupyter.widget-view+json": {
       "model_id": "c5eebc8620e1401cb7372df18c545a8f",
       "version_major": 2,
       "version_minor": 0
      },
      "text/plain": [
       "  0%|          | 0/959 [00:00<?, ?it/s]"
      ]
     },
     "metadata": {},
     "output_type": "display_data"
    },
    {
     "name": "stdout",
     "output_type": "stream",
     "text": [
      "Number of correctly predicted requests = 457\n",
      "validating on 457 subject --> object associations\n"
     ]
    },
    {
     "data": {
      "application/vnd.jupyter.widget-view+json": {
       "model_id": "145719f54f56424689a41632726a63c8",
       "version_major": 2,
       "version_minor": 0
      },
      "text/plain": [
       "  0%|          | 0/457 [00:00<?, ?it/s]"
      ]
     },
     "metadata": {},
     "output_type": "display_data"
    },
    {
     "name": "stdout",
     "output_type": "stream",
     "text": [
      "w = identity >>  0.9649890590809628\n",
      "validating on 457 subject --> object associations\n"
     ]
    },
    {
     "data": {
      "application/vnd.jupyter.widget-view+json": {
       "model_id": "a23a5bb9ad97489eae5975b3cc4d139c",
       "version_major": 2,
       "version_minor": 0
      },
      "text/plain": [
       "  0%|          | 0/457 [00:00<?, ?it/s]"
      ]
     },
     "metadata": {},
     "output_type": "display_data"
    },
    {
     "name": "stdout",
     "output_type": "stream",
     "text": [
      "w = jacobian >>  0.9518599562363238\n",
      "\n",
      "saving results\n",
      "############################################################################################################\n",
      "relation_id >> P937\n",
      "------------------------------------------------------------------------------------------------------\n",
      "unique objects:  90 [' Dresden', ' Atlanta', ' Berlin', ' Brisbane', ' Boston']\n",
      "21.75009536743164 >> [(' Albany', 50.201), (' San', 50.129), (' Rochester', 49.191), (' California', 49.117), (' Zurich', 48.539)]\n",
      "P937 >> number of requests in counterfact = 846\n",
      "Checking correct prediction with normal calculation ...\n"
     ]
    },
    {
     "data": {
      "application/vnd.jupyter.widget-view+json": {
       "model_id": "5927b55a1768441d85c49affbc20d880",
       "version_major": 2,
       "version_minor": 0
      },
      "text/plain": [
       "  0%|          | 0/846 [00:00<?, ?it/s]"
      ]
     },
     "metadata": {},
     "output_type": "display_data"
    },
    {
     "name": "stdout",
     "output_type": "stream",
     "text": [
      "Number of correctly predicted requests = 333\n",
      "validating on 333 subject --> object associations\n"
     ]
    },
    {
     "data": {
      "application/vnd.jupyter.widget-view+json": {
       "model_id": "ea74bcfacdab44d187ccf84d17e0f59e",
       "version_major": 2,
       "version_minor": 0
      },
      "text/plain": [
       "  0%|          | 0/333 [00:00<?, ?it/s]"
      ]
     },
     "metadata": {},
     "output_type": "display_data"
    },
    {
     "name": "stdout",
     "output_type": "stream",
     "text": [
      "w = identity >>  0.3153153153153153\n",
      "validating on 333 subject --> object associations\n"
     ]
    },
    {
     "data": {
      "application/vnd.jupyter.widget-view+json": {
       "model_id": "89aa74aa74384b84aac06f1d2d2a7c85",
       "version_major": 2,
       "version_minor": 0
      },
      "text/plain": [
       "  0%|          | 0/333 [00:00<?, ?it/s]"
      ]
     },
     "metadata": {},
     "output_type": "display_data"
    },
    {
     "name": "stdout",
     "output_type": "stream",
     "text": [
      "w = jacobian >>  0.3663663663663664\n",
      "\n",
      "saving results\n",
      "############################################################################################################\n",
      "relation_id >> P27\n",
      "------------------------------------------------------------------------------------------------------\n",
      "unique objects:  97 [' Ireland', ' Pakistan', ' Australia', ' Ecuador', ' Ethiopia']\n",
      "22.210935592651367 >> [(' Kuwait', 54.844), (' Korea', 54.557), (' Africa', 54.261), (' Portugal', 52.875), (' Slovenia', 52.436)]\n",
      "P27 >> number of requests in counterfact = 958\n",
      "Checking correct prediction with normal calculation ...\n"
     ]
    },
    {
     "data": {
      "application/vnd.jupyter.widget-view+json": {
       "model_id": "d22dd688149749319465f713b78f3614",
       "version_major": 2,
       "version_minor": 0
      },
      "text/plain": [
       "  0%|          | 0/958 [00:00<?, ?it/s]"
      ]
     },
     "metadata": {},
     "output_type": "display_data"
    },
    {
     "name": "stdout",
     "output_type": "stream",
     "text": [
      "Number of correctly predicted requests = 308\n",
      "validating on 308 subject --> object associations\n"
     ]
    },
    {
     "data": {
      "application/vnd.jupyter.widget-view+json": {
       "model_id": "a57ccca42fbf4e88951795fe8c5e3846",
       "version_major": 2,
       "version_minor": 0
      },
      "text/plain": [
       "  0%|          | 0/308 [00:00<?, ?it/s]"
      ]
     },
     "metadata": {},
     "output_type": "display_data"
    },
    {
     "name": "stdout",
     "output_type": "stream",
     "text": [
      "w = identity >>  0.7792207792207793\n",
      "validating on 308 subject --> object associations\n"
     ]
    },
    {
     "data": {
      "application/vnd.jupyter.widget-view+json": {
       "model_id": "2e4e001f140948b5bf17c68d8cc575b1",
       "version_major": 2,
       "version_minor": 0
      },
      "text/plain": [
       "  0%|          | 0/308 [00:00<?, ?it/s]"
      ]
     },
     "metadata": {},
     "output_type": "display_data"
    },
    {
     "name": "stdout",
     "output_type": "stream",
     "text": [
      "w = jacobian >>  0.9805194805194806\n",
      "\n",
      "saving results\n",
      "############################################################################################################\n",
      "relation_id >> P101\n",
      "------------------------------------------------------------------------------------------------------\n",
      "unique objects:  83 [' science', ' theology', ' sociology', ' drawing', ' algebra']\n",
      "18.895122528076172 >> [(' military', 32.762), (' nuclear', 32.546), (' Hindu', 32.369), (' the', 32.307), (' water', 32.172)]\n",
      "P101 >> number of requests in counterfact = 545\n",
      "Checking correct prediction with normal calculation ...\n"
     ]
    },
    {
     "data": {
      "application/vnd.jupyter.widget-view+json": {
       "model_id": "4baada1e17de4b658906d1cfe4655ab4",
       "version_major": 2,
       "version_minor": 0
      },
      "text/plain": [
       "  0%|          | 0/545 [00:00<?, ?it/s]"
      ]
     },
     "metadata": {},
     "output_type": "display_data"
    },
    {
     "name": "stdout",
     "output_type": "stream",
     "text": [
      "Number of correctly predicted requests = 84\n",
      "validating on 84 subject --> object associations\n"
     ]
    },
    {
     "data": {
      "application/vnd.jupyter.widget-view+json": {
       "model_id": "3d6fe4d283044694aa4da7ce45737149",
       "version_major": 2,
       "version_minor": 0
      },
      "text/plain": [
       "  0%|          | 0/84 [00:00<?, ?it/s]"
      ]
     },
     "metadata": {},
     "output_type": "display_data"
    },
    {
     "name": "stdout",
     "output_type": "stream",
     "text": [
      "w = identity >>  0.11904761904761904\n",
      "validating on 84 subject --> object associations\n"
     ]
    },
    {
     "data": {
      "application/vnd.jupyter.widget-view+json": {
       "model_id": "f2a57acf334c4eeb965aef69341fc4f8",
       "version_major": 2,
       "version_minor": 0
      },
      "text/plain": [
       "  0%|          | 0/84 [00:00<?, ?it/s]"
      ]
     },
     "metadata": {},
     "output_type": "display_data"
    },
    {
     "name": "stdout",
     "output_type": "stream",
     "text": [
      "w = jacobian >>  0.047619047619047616\n",
      "\n",
      "saving results\n",
      "############################################################################################################\n",
      "relation_id >> P19\n",
      "------------------------------------------------------------------------------------------------------\n",
      "unique objects:  229 [' Ireland', ' Dresden', ' Georgetown', ' Atlanta', ' Berlin']\n",
      "19.185012817382812 >> [(' Vil', 25.314), (' Cord', 24.758), (' Sug', 24.613), (' Ram', 24.533), (' Cas', 24.528)]\n",
      "P19 >> number of requests in counterfact = 779\n",
      "Checking correct prediction with normal calculation ...\n"
     ]
    },
    {
     "data": {
      "application/vnd.jupyter.widget-view+json": {
       "model_id": "fd926da7af874adfb757a3bbdca4b22c",
       "version_major": 2,
       "version_minor": 0
      },
      "text/plain": [
       "  0%|          | 0/779 [00:00<?, ?it/s]"
      ]
     },
     "metadata": {},
     "output_type": "display_data"
    },
    {
     "name": "stdout",
     "output_type": "stream",
     "text": [
      "Number of correctly predicted requests = 129\n",
      "validating on 129 subject --> object associations\n"
     ]
    },
    {
     "data": {
      "application/vnd.jupyter.widget-view+json": {
       "model_id": "45ed53d4d3a549d485547dbe15479a61",
       "version_major": 2,
       "version_minor": 0
      },
      "text/plain": [
       "  0%|          | 0/129 [00:00<?, ?it/s]"
      ]
     },
     "metadata": {},
     "output_type": "display_data"
    },
    {
     "name": "stdout",
     "output_type": "stream",
     "text": [
      "w = identity >>  0.031007751937984496\n",
      "validating on 129 subject --> object associations\n"
     ]
    },
    {
     "data": {
      "application/vnd.jupyter.widget-view+json": {
       "model_id": "788b8d00953145309ac43b1eb32e8d39",
       "version_major": 2,
       "version_minor": 0
      },
      "text/plain": [
       "  0%|          | 0/129 [00:00<?, ?it/s]"
      ]
     },
     "metadata": {},
     "output_type": "display_data"
    },
    {
     "name": "stdout",
     "output_type": "stream",
     "text": [
      "w = jacobian >>  0.4573643410852713\n",
      "\n",
      "saving results\n",
      "############################################################################################################\n",
      "relation_id >> P37\n",
      "------------------------------------------------------------------------------------------------------\n",
      "unique objects:  44 [' Somali', ' Filipino', ' Danish', ' Polish', ' Bulgarian']\n",
      "26.53314971923828 >> [(' Scottish', 70.446), (' Mari', 67.963), (' Somali', 67.924), (' Filipino', 67.904), (' Czech', 67.814)]\n",
      "P37 >> number of requests in counterfact = 891\n",
      "Checking correct prediction with normal calculation ...\n"
     ]
    },
    {
     "data": {
      "application/vnd.jupyter.widget-view+json": {
       "model_id": "fae0ad97b60b45c4b0139e4f7663b6a5",
       "version_major": 2,
       "version_minor": 0
      },
      "text/plain": [
       "  0%|          | 0/891 [00:00<?, ?it/s]"
      ]
     },
     "metadata": {},
     "output_type": "display_data"
    },
    {
     "name": "stdout",
     "output_type": "stream",
     "text": [
      "Number of correctly predicted requests = 155\n",
      "validating on 155 subject --> object associations\n"
     ]
    },
    {
     "data": {
      "application/vnd.jupyter.widget-view+json": {
       "model_id": "b02af218dd93433faeeb6b0c3a0778e6",
       "version_major": 2,
       "version_minor": 0
      },
      "text/plain": [
       "  0%|          | 0/155 [00:00<?, ?it/s]"
      ]
     },
     "metadata": {},
     "output_type": "display_data"
    },
    {
     "name": "stdout",
     "output_type": "stream",
     "text": [
      "w = identity >>  0.7870967741935484\n",
      "validating on 155 subject --> object associations\n"
     ]
    },
    {
     "data": {
      "application/vnd.jupyter.widget-view+json": {
       "model_id": "5ab475c2b42245168cc49275cac9f543",
       "version_major": 2,
       "version_minor": 0
      },
      "text/plain": [
       "  0%|          | 0/155 [00:00<?, ?it/s]"
      ]
     },
     "metadata": {},
     "output_type": "display_data"
    },
    {
     "name": "stdout",
     "output_type": "stream",
     "text": [
      "w = jacobian >>  0.8064516129032258\n",
      "\n",
      "saving results\n",
      "############################################################################################################\n",
      "relation_id >> P36\n",
      "------------------------------------------------------------------------------------------------------\n",
      "unique objects:  62 [' Delhi', ' Kingston', ' Lyon', ' Dresden', ' Georgetown']\n",
      "23.43290138244629 >> [(' Istanbul', 60.317), (' Moscow', 57.738), (' Melbourne', 55.901), (' Alexandria', 55.848), (' Hamburg', 55.506)]\n",
      "P36 >> number of requests in counterfact = 139\n",
      "Checking correct prediction with normal calculation ...\n"
     ]
    },
    {
     "data": {
      "application/vnd.jupyter.widget-view+json": {
       "model_id": "e5439179f83d4d9f99155260194349fb",
       "version_major": 2,
       "version_minor": 0
      },
      "text/plain": [
       "  0%|          | 0/139 [00:00<?, ?it/s]"
      ]
     },
     "metadata": {},
     "output_type": "display_data"
    },
    {
     "name": "stdout",
     "output_type": "stream",
     "text": [
      "Number of correctly predicted requests = 68\n",
      "validating on 68 subject --> object associations\n"
     ]
    },
    {
     "data": {
      "application/vnd.jupyter.widget-view+json": {
       "model_id": "b8ba7e11107042789dbd54fe0a336011",
       "version_major": 2,
       "version_minor": 0
      },
      "text/plain": [
       "  0%|          | 0/68 [00:00<?, ?it/s]"
      ]
     },
     "metadata": {},
     "output_type": "display_data"
    },
    {
     "name": "stdout",
     "output_type": "stream",
     "text": [
      "w = identity >>  0.38235294117647056\n",
      "validating on 68 subject --> object associations\n"
     ]
    },
    {
     "data": {
      "application/vnd.jupyter.widget-view+json": {
       "model_id": "43e0a0f426754bbd9b04578fe6757a25",
       "version_major": 2,
       "version_minor": 0
      },
      "text/plain": [
       "  0%|          | 0/68 [00:00<?, ?it/s]"
      ]
     },
     "metadata": {},
     "output_type": "display_data"
    },
    {
     "name": "stdout",
     "output_type": "stream",
     "text": [
      "w = jacobian >>  0.9411764705882353\n",
      "\n",
      "saving results\n",
      "############################################################################################################\n"
     ]
    },
    {
     "ename": "",
     "evalue": "",
     "output_type": "error",
     "traceback": [
      "\u001b[1;31mThe Kernel crashed while executing code in the the current cell or a previous cell. Please review the code in the cell(s) to identify a possible cause of the failure. Click <a href='https://aka.ms/vscodeJupyterKernelCrash'>here</a> for more info. View Jupyter <a href='command:jupyter.viewOutput'>log</a> for further details."
     ]
    }
   ],
   "source": [
    "from relations import corner, evaluate\n",
    "\n",
    "jacobians_calculated_after_layer = 15\n",
    "precision_at = 3\n",
    "\n",
    "corner_estimator = corner.CornerEstimator(model = model, tokenizer = tokenizer)\n",
    "performance_track = {}\n",
    "\n",
    "for relation_id in tqdm(relation_dct):\n",
    "    print(f\"relation_id >> {relation_id}\")\n",
    "    print(\"------------------------------------------------------------------------------------------------------\")\n",
    "    objects = [c['requested_rewrite'] for c in counterfact if c[\"requested_rewrite\"]['relation_id'] == relation_id]\n",
    "    objects = [\" \"+ o['target_true']['str'] for o in objects]\n",
    "    objects = list(set(objects))\n",
    "    print(\"unique objects: \", len(objects), objects[0:min(5, len(objects))])\n",
    "\n",
    "    performance_track[relation_id] = {}\n",
    "    validation_set = None\n",
    "        \n",
    "    current_corner = corner_estimator.estimate_average_corner_with_gradient_descent(\n",
    "        objects, # target_logit_value=target_logit\n",
    "    )\n",
    "    vocab_repr = corner_estimator.get_vocab_representation(current_corner, get_logits=True)\n",
    "    print(f\"{current_corner.norm().item()} >> {vocab_repr}\")\n",
    "\n",
    "    performance_track[relation_id] = {\n",
    "        'jacobian': -1, 'identity': -1,\n",
    "        'vocab_repr': vocab_repr,\n",
    "        'corner_norm': current_corner.norm().item()\n",
    "    }\n",
    "\n",
    "    relation_identity = estimate.RelationOperator(\n",
    "        model = model,\n",
    "        tokenizer = tokenizer,\n",
    "        relation = relation_dct[relation_id]['relation'],\n",
    "        layer = jacobians_calculated_after_layer,\n",
    "        weight = torch.eye(model.config.n_embd).to(model.dtype).to(model.device),\n",
    "        bias = current_corner\n",
    "    )\n",
    "    precision, ret_dict = evaluate.evaluate(\n",
    "        relation_id= relation_id,\n",
    "        relation_operator= relation_identity,\n",
    "        precision_at = precision_at,\n",
    "        validation_set = validation_set\n",
    "    )\n",
    "\n",
    "    if(validation_set is None):\n",
    "        validation_set = ret_dict[\"validation_set\"]\n",
    "\n",
    "    print(\"w = identity >> \", precision)\n",
    "    ret_dict.pop('validation_set')\n",
    "    ret_dict.pop('predictions')\n",
    "    performance_track[relation_id]['identity'] = (precision, ret_dict)\n",
    "\n",
    "    cached_jbs = np.load(\n",
    "        jacobian_cache_path.format(relation_id),\n",
    "        allow_pickle= True\n",
    "    )\n",
    "    relation_jacobian = estimate.RelationOperator(\n",
    "        model = model,\n",
    "        tokenizer = tokenizer,\n",
    "        relation = relation_dct[relation_id]['relation'],\n",
    "        layer = jacobians_calculated_after_layer,\n",
    "        weight = torch.stack(\n",
    "            [wb['weight'] for wb in cached_jbs['weights_and_biases']]\n",
    "        ).mean(dim=0).to(model.dtype).to(model.device),\n",
    "        bias = current_corner\n",
    "    )\n",
    "    precision, ret_dict = evaluate.evaluate(\n",
    "        relation_id= relation_id,\n",
    "        relation_operator= relation_jacobian,\n",
    "        precision_at = precision_at,\n",
    "        validation_set = validation_set\n",
    "    )\n",
    "        \n",
    "    print(\"w = jacobian >> \", precision)\n",
    "    ret_dict.pop('validation_set')\n",
    "    ret_dict.pop('predictions')\n",
    "    performance_track[relation_id]['jacobian'] = (precision, ret_dict)\n",
    "    print()\n",
    "        \n",
    "\n",
    "    print(\"saving results\")\n",
    "    with open(\"corner_target_logit_sweep/new_loss.json\", \"w\") as f:\n",
    "        json.dump(performance_track, f)\n",
    "    print(\"############################################################################################################\")"
   ]
  },
  {
   "cell_type": "code",
   "execution_count": null,
   "metadata": {},
   "outputs": [],
   "source": []
  }
 ],
 "metadata": {
  "kernelspec": {
   "display_name": "Python 3",
   "language": "python",
   "name": "python3"
  },
  "language_info": {
   "codemirror_mode": {
    "name": "ipython",
    "version": 3
   },
   "file_extension": ".py",
   "mimetype": "text/x-python",
   "name": "python",
   "nbconvert_exporter": "python",
   "pygments_lexer": "ipython3",
   "version": "3.10.8"
  },
  "orig_nbformat": 4,
  "vscode": {
   "interpreter": {
    "hash": "3439fe3f7dcaddaf51997811d25ada8e7c0985d2997d22a3ed461af94d2f9f43"
   }
  }
 },
 "nbformat": 4,
 "nbformat_minor": 2
}
