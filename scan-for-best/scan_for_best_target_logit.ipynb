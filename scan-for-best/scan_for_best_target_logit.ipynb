{
 "cells": [
  {
   "cell_type": "code",
   "execution_count": 1,
   "metadata": {},
   "outputs": [],
   "source": [
    "%load_ext autoreload\n",
    "%autoreload 2"
   ]
  },
  {
   "cell_type": "code",
   "execution_count": 2,
   "metadata": {},
   "outputs": [],
   "source": [
    "import torch\n",
    "import numpy as np\n",
    "import json\n",
    "from tqdm.auto import tqdm\n",
    "import random\n",
    "import transformers\n",
    "\n",
    "import os\n",
    "import sys\n",
    "sys.path.append('..')\n",
    "\n",
    "from relations import estimate\n",
    "from util import model_utils\n",
    "from baukit import nethook\n",
    "from operator import itemgetter"
   ]
  },
  {
   "cell_type": "code",
   "execution_count": 3,
   "metadata": {},
   "outputs": [
    {
     "name": "stdout",
     "output_type": "stream",
     "text": [
      "skipped  P1303\n",
      "skipped  P190\n",
      "skipped  P740\n",
      "skipped  P413\n",
      "skipped  P39\n",
      "skipped  P136\n",
      "skipped  P449\n",
      "skipped  P138\n",
      "skipped  P131\n",
      "skipped  P407\n",
      "skipped  P108\n"
     ]
    }
   ],
   "source": [
    "cut_off = 50 # minimum number of correct predictions\n",
    "\n",
    "###########################################################################\n",
    "relation_dct = {\n",
    "    'P17'   : {'relation': '{} is located in the country of', 'correct_predict': None, 'cached_JB': None},\n",
    "    'P641'  : {'relation': '{} plays the sport of', 'correct_predict': None, 'cached_JB': None},\n",
    "    'P103'  : {'relation': 'The mother tongue of {} is', 'correct_predict': None, 'cached_JB': None},\n",
    "    'P176'  : {'relation': '{} is produced by', 'correct_predict': None, 'cached_JB': None},\n",
    "    'P140'  : {'relation': 'The official religion of {} is', 'correct_predict': None, 'cached_JB': None},\n",
    "    'P1303' : {'relation': '{} plays the instrument', 'correct_predict': None, 'cached_JB': None},\n",
    "    'P190'  : {'relation': 'What is the twin city of {}? It is', 'correct_predict': None, 'cached_JB': None},\n",
    "    'P740'  : {'relation': '{} was founded in', 'correct_predict': None, 'cached_JB': None},\n",
    "    'P178'  : {'relation': '{} was developed by', 'correct_predict': None, 'cached_JB': None},\n",
    "    'P495'  : {'relation': '{}, that originated in the country of', 'correct_predict': None, 'cached_JB': None},\n",
    "    'P127'  : {'relation': '{} is owned by', 'correct_predict': None, 'cached_JB': None},\n",
    "    'P413'  : {'relation': '{} plays in the position of', 'correct_predict': None, 'cached_JB': None},\n",
    "    'P39'   : {'relation': '{}, who holds the position of', 'correct_predict': None, 'cached_JB': None},\n",
    "    'P159'  : {'relation': 'The headquarter of {} is located in', 'correct_predict': None, 'cached_JB': None},\n",
    "    'P20'   : {'relation': '{} died in the city of', 'correct_predict': None, 'cached_JB': None},\n",
    "    'P136'  : {'relation': 'What does {} play? They play', 'correct_predict': None, 'cached_JB': None},\n",
    "    'P106'  : {'relation': 'The profession of {} is', 'correct_predict': None, 'cached_JB': None},\n",
    "    'P30'   : {'relation': '{} is located in the continent of', 'correct_predict': None, 'cached_JB': None},\n",
    "    'P937'  : {'relation': '{} worked in the city of', 'correct_predict': None, 'cached_JB': None},\n",
    "    'P449'  : {'relation': '{} was released on', 'correct_predict': None, 'cached_JB': None},\n",
    "    'P27'   : {'relation': '{} is a citizen of', 'correct_predict': None, 'cached_JB': None},\n",
    "    'P101'  : {'relation': '{} works in the field of', 'correct_predict': None, 'cached_JB': None},\n",
    "    'P19'   : {'relation': '{} was born in', 'correct_predict': None, 'cached_JB': None},\n",
    "    'P37'   : {'relation': 'In {}, an official language is', 'correct_predict': None, 'cached_JB': None},\n",
    "    'P138'  : {'relation': '{}, named after', 'correct_predict': None, 'cached_JB': None},\n",
    "    'P131'  : {'relation': '{} is located in', 'correct_predict': None, 'cached_JB': None},\n",
    "    'P407'  : {'relation': '{} was written in', 'correct_predict': None, 'cached_JB': None},\n",
    "    'P108'  : {'relation': '{}, who is employed by', 'correct_predict': None, 'cached_JB': None},\n",
    "    'P36'   : {'relation': 'The capital of {} is', 'correct_predict': None, 'cached_JB': None},\n",
    "}\n",
    "###########################################################################\n",
    "\n",
    "\n",
    "root_path = \"gpt-j\"\n",
    "\n",
    "pop_track = []\n",
    "for relation in relation_dct:\n",
    "    path = f\"{root_path}/{relation}\"\n",
    "    with open(f\"{path}/correct_prediction_{relation}.json\") as f:\n",
    "        correct_predictions = json.load(f)\n",
    "    if(len(correct_predictions) < cut_off):\n",
    "    # if \"performance\" not in os.listdir(path):\n",
    "        print(\"skipped \", relation)\n",
    "        pop_track.append(relation)\n",
    "    \n",
    "for r in pop_track:\n",
    "    relation_dct.pop(r)"
   ]
  },
  {
   "cell_type": "code",
   "execution_count": 4,
   "metadata": {},
   "outputs": [
    {
     "name": "stdout",
     "output_type": "stream",
     "text": [
      "EleutherAI/gpt-j-6B ==> device: cuda:0, memory: 24320971760\n"
     ]
    }
   ],
   "source": [
    "MODEL_NAME = \"EleutherAI/gpt-j-6B\"  # gpt2-{medium,large,xl} or EleutherAI/gpt-j-6B\n",
    "mt = model_utils.ModelAndTokenizer(MODEL_NAME, low_cpu_mem_usage=True, torch_dtype=torch.float32)\n",
    "\n",
    "model = mt.model\n",
    "tokenizer = mt.tokenizer\n",
    "tokenizer.pad_token = tokenizer.eos_token\n",
    "\n",
    "print(f\"{MODEL_NAME} ==> device: {model.device}, memory: {model.get_memory_footprint()}\")"
   ]
  },
  {
   "cell_type": "code",
   "execution_count": 5,
   "metadata": {},
   "outputs": [
    {
     "name": "stdout",
     "output_type": "stream",
     "text": [
      "Loaded dataset with 21919 elements\n"
     ]
    }
   ],
   "source": [
    "from dsets.counterfact import CounterFactDataset\n",
    "counterfact = CounterFactDataset(\"../data/\")"
   ]
  },
  {
   "cell_type": "code",
   "execution_count": 6,
   "metadata": {},
   "outputs": [],
   "source": [
    "jacobian_cache_path = \"/mnt/39a89eb4-27b7-4fce-a6ab-a9d203443a7c/relation_cached/gpt-j/jacobians_averaged_collection/before__ln_f/{}.npz\"\n",
    "cached_jbs = np.load(\n",
    "    jacobian_cache_path.format('P17'),\n",
    "    allow_pickle= True\n",
    ")"
   ]
  },
  {
   "cell_type": "code",
   "execution_count": 7,
   "metadata": {},
   "outputs": [
    {
     "data": {
      "text/plain": [
       "(torch.Size([4096, 4096]), torch.Size([1, 4096]))"
      ]
     },
     "execution_count": 7,
     "metadata": {},
     "output_type": "execute_result"
    }
   ],
   "source": [
    "w = torch.stack(\n",
    "        [wb['weight'] for wb in cached_jbs['weights_and_biases']]\n",
    "    ).mean(dim=0)\n",
    "\n",
    "b = torch.stack(\n",
    "        [wb['bias'] for wb in cached_jbs['weights_and_biases']]\n",
    "    ).mean(dim=0)\n",
    "\n",
    "w.shape, b.shape"
   ]
  },
  {
   "cell_type": "code",
   "execution_count": 25,
   "metadata": {},
   "outputs": [
    {
     "data": {
      "application/vnd.jupyter.widget-view+json": {
       "model_id": "d85abf02c47944198fe38d408e57336c",
       "version_major": 2,
       "version_minor": 0
      },
      "text/plain": [
       "  0%|          | 0/18 [00:00<?, ?it/s]"
      ]
     },
     "metadata": {},
     "output_type": "display_data"
    },
    {
     "name": "stdout",
     "output_type": "stream",
     "text": [
      "relation_id >> P17\n",
      "------------------------------------------------------------------------------------------------------\n",
      "unique objects:  95 [' Argentina', ' Lithuania', ' Belarus', ' Nepal', ' Albania']\n"
     ]
    },
    {
     "data": {
      "application/vnd.jupyter.widget-view+json": {
       "model_id": "a888c59dc70e40ec80e85d9e269dbe40",
       "version_major": 2,
       "version_minor": 0
      },
      "text/plain": [
       "  0%|          | 0/27 [00:00<?, ?it/s]"
      ]
     },
     "metadata": {},
     "output_type": "display_data"
    },
    {
     "name": "stdout",
     "output_type": "stream",
     "text": [
      "3 >> 13.922257423400879 [('��', 22.322), ('��', 20.073), ('��', 20.028), ('��', 19.219), (' gmaxwell', 18.628)]\n",
      "P17 >> number of requests in counterfact = 875\n",
      "Checking correct prediction with normal calculation ...\n"
     ]
    },
    {
     "data": {
      "application/vnd.jupyter.widget-view+json": {
       "model_id": "04b7f868cad04abab69b063af8c5e222",
       "version_major": 2,
       "version_minor": 0
      },
      "text/plain": [
       "  0%|          | 0/875 [00:00<?, ?it/s]"
      ]
     },
     "metadata": {},
     "output_type": "display_data"
    },
    {
     "name": "stdout",
     "output_type": "stream",
     "text": [
      "Number of correctly predicted requests = 407\n",
      "validating on 407 subject --> object associations\n"
     ]
    },
    {
     "data": {
      "application/vnd.jupyter.widget-view+json": {
       "model_id": "72c801642db644f589aac96990a03289",
       "version_major": 2,
       "version_minor": 0
      },
      "text/plain": [
       "  0%|          | 0/407 [00:00<?, ?it/s]"
      ]
     },
     "metadata": {},
     "output_type": "display_data"
    },
    {
     "name": "stdout",
     "output_type": "stream",
     "text": [
      "w = identity >>  0.3464373464373464\n",
      "validating on 407 subject --> object associations\n"
     ]
    },
    {
     "data": {
      "application/vnd.jupyter.widget-view+json": {
       "model_id": "16c986dac08c4981a3c87b36af5407be",
       "version_major": 2,
       "version_minor": 0
      },
      "text/plain": [
       "  0%|          | 0/407 [00:00<?, ?it/s]"
      ]
     },
     "metadata": {},
     "output_type": "display_data"
    },
    {
     "name": "stdout",
     "output_type": "stream",
     "text": [
      "w = jacobian >>  0.8181818181818182\n",
      "\n",
      "6 >> 14.142260551452637 [('��', 21.587), ('��', 20.141), ('��', 19.925), ('��', 18.192), (' gmaxwell', 18.094)]\n",
      "validating on 407 subject --> object associations\n"
     ]
    },
    {
     "data": {
      "application/vnd.jupyter.widget-view+json": {
       "model_id": "e30ef516c38c444e9fc1f29dc74ce5a9",
       "version_major": 2,
       "version_minor": 0
      },
      "text/plain": [
       "  0%|          | 0/407 [00:00<?, ?it/s]"
      ]
     },
     "metadata": {},
     "output_type": "display_data"
    },
    {
     "name": "stdout",
     "output_type": "stream",
     "text": [
      "w = identity >>  0.37346437346437344\n",
      "validating on 407 subject --> object associations\n"
     ]
    },
    {
     "data": {
      "application/vnd.jupyter.widget-view+json": {
       "model_id": "a30c3a84beb94bd79ecf81888a61ca93",
       "version_major": 2,
       "version_minor": 0
      },
      "text/plain": [
       "  0%|          | 0/407 [00:00<?, ?it/s]"
      ]
     },
     "metadata": {},
     "output_type": "display_data"
    },
    {
     "name": "stdout",
     "output_type": "stream",
     "text": [
      "w = jacobian >>  0.8525798525798526\n",
      "\n",
      "9 >> 16.187219619750977 [('��', 18.972), ('��', 18.196), (' Israelis', 17.637), (' Iranians', 17.283), ('��', 17.263)]\n",
      "validating on 407 subject --> object associations\n"
     ]
    },
    {
     "data": {
      "application/vnd.jupyter.widget-view+json": {
       "model_id": "e1ba2cd7d5a647e194d62867808eaca5",
       "version_major": 2,
       "version_minor": 0
      },
      "text/plain": [
       "  0%|          | 0/407 [00:00<?, ?it/s]"
      ]
     },
     "metadata": {},
     "output_type": "display_data"
    },
    {
     "name": "stdout",
     "output_type": "stream",
     "text": [
      "w = identity >>  0.44471744471744473\n",
      "validating on 407 subject --> object associations\n"
     ]
    },
    {
     "data": {
      "application/vnd.jupyter.widget-view+json": {
       "model_id": "379465fed6734567932e51980a813ca5",
       "version_major": 2,
       "version_minor": 0
      },
      "text/plain": [
       "  0%|          | 0/407 [00:00<?, ?it/s]"
      ]
     },
     "metadata": {},
     "output_type": "display_data"
    },
    {
     "name": "stdout",
     "output_type": "stream",
     "text": [
      "w = jacobian >>  0.8722358722358723\n",
      "\n",
      "12 >> 16.560327529907227 [(' Uruguay', 22.644), (' Iranians', 20.423), (' Israelis', 20.309), (' Slovakia', 19.528), (' Saudis', 19.066)]\n",
      "validating on 407 subject --> object associations\n"
     ]
    },
    {
     "data": {
      "application/vnd.jupyter.widget-view+json": {
       "model_id": "599c1e741f694dd78d2c291d7596d29c",
       "version_major": 2,
       "version_minor": 0
      },
      "text/plain": [
       "  0%|          | 0/407 [00:00<?, ?it/s]"
      ]
     },
     "metadata": {},
     "output_type": "display_data"
    },
    {
     "name": "stdout",
     "output_type": "stream",
     "text": [
      "w = identity >>  0.49385749385749383\n",
      "validating on 407 subject --> object associations\n"
     ]
    },
    {
     "data": {
      "application/vnd.jupyter.widget-view+json": {
       "model_id": "2fc340d29c6d403cbb8e93f3de8a0c22",
       "version_major": 2,
       "version_minor": 0
      },
      "text/plain": [
       "  0%|          | 0/407 [00:00<?, ?it/s]"
      ]
     },
     "metadata": {},
     "output_type": "display_data"
    },
    {
     "name": "stdout",
     "output_type": "stream",
     "text": [
      "w = jacobian >>  0.8697788697788698\n",
      "\n",
      "15 >> 16.820987701416016 [(' Uruguay', 26.394), (' Senegal', 24.039), (' Paragu', 22.995), (' Algeria', 22.804), (' Tunisia', 22.654)]\n",
      "validating on 407 subject --> object associations\n"
     ]
    },
    {
     "data": {
      "application/vnd.jupyter.widget-view+json": {
       "model_id": "9b5962795eef41059e6c7c6ede92cd0b",
       "version_major": 2,
       "version_minor": 0
      },
      "text/plain": [
       "  0%|          | 0/407 [00:00<?, ?it/s]"
      ]
     },
     "metadata": {},
     "output_type": "display_data"
    },
    {
     "name": "stdout",
     "output_type": "stream",
     "text": [
      "w = identity >>  0.5405405405405406\n",
      "validating on 407 subject --> object associations\n"
     ]
    },
    {
     "data": {
      "application/vnd.jupyter.widget-view+json": {
       "model_id": "602518551b9045e28e44ab06c1e90bf7",
       "version_major": 2,
       "version_minor": 0
      },
      "text/plain": [
       "  0%|          | 0/407 [00:00<?, ?it/s]"
      ]
     },
     "metadata": {},
     "output_type": "display_data"
    },
    {
     "name": "stdout",
     "output_type": "stream",
     "text": [
      "w = jacobian >>  0.8918918918918919\n",
      "\n",
      "18 >> 17.203161239624023 [(' Slovakia', 31.866), (' Uruguay', 30.383), (' Algeria', 30.014), (' Tunisia', 29.877), (' Slovenia', 29.551)]\n",
      "validating on 407 subject --> object associations\n"
     ]
    },
    {
     "data": {
      "application/vnd.jupyter.widget-view+json": {
       "model_id": "7745443a21b94757835b06ec42cabdd0",
       "version_major": 2,
       "version_minor": 0
      },
      "text/plain": [
       "  0%|          | 0/407 [00:00<?, ?it/s]"
      ]
     },
     "metadata": {},
     "output_type": "display_data"
    },
    {
     "name": "stdout",
     "output_type": "stream",
     "text": [
      "w = identity >>  0.5798525798525799\n",
      "validating on 407 subject --> object associations\n"
     ]
    },
    {
     "data": {
      "application/vnd.jupyter.widget-view+json": {
       "model_id": "d9e94c8550d147bead2b24e73bc883fe",
       "version_major": 2,
       "version_minor": 0
      },
      "text/plain": [
       "  0%|          | 0/407 [00:00<?, ?it/s]"
      ]
     },
     "metadata": {},
     "output_type": "display_data"
    },
    {
     "name": "stdout",
     "output_type": "stream",
     "text": [
      "w = jacobian >>  0.8943488943488943\n",
      "\n",
      "21 >> 18.435386657714844 [(' Uruguay', 37.382), (' Jamaica', 36.374), (' Algeria', 36.141), (' Tunisia', 36.09), (' Lithuania', 35.834)]\n",
      "validating on 407 subject --> object associations\n"
     ]
    },
    {
     "data": {
      "application/vnd.jupyter.widget-view+json": {
       "model_id": "6bdd6a272cd74e6ab717419dfd096894",
       "version_major": 2,
       "version_minor": 0
      },
      "text/plain": [
       "  0%|          | 0/407 [00:00<?, ?it/s]"
      ]
     },
     "metadata": {},
     "output_type": "display_data"
    },
    {
     "name": "stdout",
     "output_type": "stream",
     "text": [
      "w = identity >>  0.6388206388206388\n",
      "validating on 407 subject --> object associations\n"
     ]
    },
    {
     "data": {
      "application/vnd.jupyter.widget-view+json": {
       "model_id": "6234786560dd49bf9778c5c209384ab3",
       "version_major": 2,
       "version_minor": 0
      },
      "text/plain": [
       "  0%|          | 0/407 [00:00<?, ?it/s]"
      ]
     },
     "metadata": {},
     "output_type": "display_data"
    },
    {
     "name": "stdout",
     "output_type": "stream",
     "text": [
      "w = jacobian >>  0.8943488943488943\n",
      "\n",
      "24 >> 20.377750396728516 [(' Algeria', 41.499), (' Tunisia', 41.455), (' Kazakhstan', 41.05), (' Slovenia', 41.0), (' Rwanda', 40.831)]\n",
      "validating on 407 subject --> object associations\n"
     ]
    },
    {
     "data": {
      "application/vnd.jupyter.widget-view+json": {
       "model_id": "d5f5aa0d8cd24b9eaf61f429ddc09311",
       "version_major": 2,
       "version_minor": 0
      },
      "text/plain": [
       "  0%|          | 0/407 [00:00<?, ?it/s]"
      ]
     },
     "metadata": {},
     "output_type": "display_data"
    },
    {
     "name": "stdout",
     "output_type": "stream",
     "text": [
      "w = identity >>  0.6756756756756757\n",
      "validating on 407 subject --> object associations\n"
     ]
    },
    {
     "data": {
      "application/vnd.jupyter.widget-view+json": {
       "model_id": "8ec10b3855ea410d896f434588e2e91b",
       "version_major": 2,
       "version_minor": 0
      },
      "text/plain": [
       "  0%|          | 0/407 [00:00<?, ?it/s]"
      ]
     },
     "metadata": {},
     "output_type": "display_data"
    },
    {
     "name": "stdout",
     "output_type": "stream",
     "text": [
      "w = jacobian >>  0.8894348894348895\n",
      "\n",
      "27 >> 21.760597229003906 [(' Algeria', 45.108), (' Tunisia', 44.967), (' Indonesia', 44.711), (' Venezuela', 44.706), (' Cambodia', 44.688)]\n",
      "validating on 407 subject --> object associations\n"
     ]
    },
    {
     "data": {
      "application/vnd.jupyter.widget-view+json": {
       "model_id": "45846b2641934e8b8f60adb10415cbf4",
       "version_major": 2,
       "version_minor": 0
      },
      "text/plain": [
       "  0%|          | 0/407 [00:00<?, ?it/s]"
      ]
     },
     "metadata": {},
     "output_type": "display_data"
    },
    {
     "name": "stdout",
     "output_type": "stream",
     "text": [
      "w = identity >>  0.7272727272727273\n",
      "validating on 407 subject --> object associations\n"
     ]
    },
    {
     "data": {
      "application/vnd.jupyter.widget-view+json": {
       "model_id": "a679aa89b22047b083ae1ef978094dfd",
       "version_major": 2,
       "version_minor": 0
      },
      "text/plain": [
       "  0%|          | 0/407 [00:00<?, ?it/s]"
      ]
     },
     "metadata": {},
     "output_type": "display_data"
    },
    {
     "name": "stdout",
     "output_type": "stream",
     "text": [
      "w = jacobian >>  0.8918918918918919\n",
      "\n",
      "30 >> 24.043838500976562 [(' Algeria', 48.935), (' Tunisia', 48.918), (' Bosnia', 48.771), (' Slovenia', 48.759), (' Kazakhstan', 48.688)]\n",
      "validating on 407 subject --> object associations\n"
     ]
    },
    {
     "data": {
      "application/vnd.jupyter.widget-view+json": {
       "model_id": "dafe8f84492e4caeb64687deb241989c",
       "version_major": 2,
       "version_minor": 0
      },
      "text/plain": [
       "  0%|          | 0/407 [00:00<?, ?it/s]"
      ]
     },
     "metadata": {},
     "output_type": "display_data"
    },
    {
     "name": "stdout",
     "output_type": "stream",
     "text": [
      "w = identity >>  0.773955773955774\n",
      "validating on 407 subject --> object associations\n"
     ]
    },
    {
     "data": {
      "application/vnd.jupyter.widget-view+json": {
       "model_id": "9727e54ef42146dc947d58881030c5b0",
       "version_major": 2,
       "version_minor": 0
      },
      "text/plain": [
       "  0%|          | 0/407 [00:00<?, ?it/s]"
      ]
     },
     "metadata": {},
     "output_type": "display_data"
    },
    {
     "name": "stdout",
     "output_type": "stream",
     "text": [
      "w = jacobian >>  0.8869778869778869\n",
      "\n",
      "33 >> 27.0761775970459 [(' Belgium', 50.984), (' Lithuania', 50.914), (' Tunisia', 50.85), (' Indonesia', 50.753), (' Cambodia', 50.746)]\n",
      "validating on 407 subject --> object associations\n"
     ]
    },
    {
     "data": {
      "application/vnd.jupyter.widget-view+json": {
       "model_id": "dc94e1cbeb3049c2b639dc1adff1efd1",
       "version_major": 2,
       "version_minor": 0
      },
      "text/plain": [
       "  0%|          | 0/407 [00:00<?, ?it/s]"
      ]
     },
     "metadata": {},
     "output_type": "display_data"
    },
    {
     "name": "stdout",
     "output_type": "stream",
     "text": [
      "w = identity >>  0.8083538083538083\n",
      "validating on 407 subject --> object associations\n"
     ]
    },
    {
     "data": {
      "application/vnd.jupyter.widget-view+json": {
       "model_id": "3e4fb344b55e4668b13aa81a25883225",
       "version_major": 2,
       "version_minor": 0
      },
      "text/plain": [
       "  0%|          | 0/407 [00:00<?, ?it/s]"
      ]
     },
     "metadata": {},
     "output_type": "display_data"
    },
    {
     "name": "stdout",
     "output_type": "stream",
     "text": [
      "w = jacobian >>  0.8894348894348895\n",
      "\n",
      "36 >> 29.38802719116211 [(' Nigeria', 53.496), (' Ukraine', 53.393), (' Finland', 53.282), (' Bangladesh', 53.168), (' Venezuela', 53.104)]\n",
      "validating on 407 subject --> object associations\n"
     ]
    },
    {
     "data": {
      "application/vnd.jupyter.widget-view+json": {
       "model_id": "1c1f66106f39413f84a70de887a4bc1d",
       "version_major": 2,
       "version_minor": 0
      },
      "text/plain": [
       "  0%|          | 0/407 [00:00<?, ?it/s]"
      ]
     },
     "metadata": {},
     "output_type": "display_data"
    },
    {
     "name": "stdout",
     "output_type": "stream",
     "text": [
      "w = identity >>  0.8353808353808354\n",
      "validating on 407 subject --> object associations\n"
     ]
    },
    {
     "data": {
      "application/vnd.jupyter.widget-view+json": {
       "model_id": "46fd6fcde6d74936b2ecb279045ae499",
       "version_major": 2,
       "version_minor": 0
      },
      "text/plain": [
       "  0%|          | 0/407 [00:00<?, ?it/s]"
      ]
     },
     "metadata": {},
     "output_type": "display_data"
    },
    {
     "name": "stdout",
     "output_type": "stream",
     "text": [
      "w = jacobian >>  0.8771498771498771\n",
      "\n",
      "39 >> 32.19981002807617 [(' Nigeria', 55.881), (' Ukraine', 55.659), (' Bangladesh', 55.59), (' Finland', 55.423), (' Kazakhstan', 55.405)]\n",
      "validating on 407 subject --> object associations\n"
     ]
    },
    {
     "data": {
      "application/vnd.jupyter.widget-view+json": {
       "model_id": "9718a8c7e04b4d15822bfb5e4fd31f45",
       "version_major": 2,
       "version_minor": 0
      },
      "text/plain": [
       "  0%|          | 0/407 [00:00<?, ?it/s]"
      ]
     },
     "metadata": {},
     "output_type": "display_data"
    },
    {
     "name": "stdout",
     "output_type": "stream",
     "text": [
      "w = identity >>  0.8525798525798526\n",
      "validating on 407 subject --> object associations\n"
     ]
    },
    {
     "data": {
      "application/vnd.jupyter.widget-view+json": {
       "model_id": "072f7decbfa44014808dd9c19e7efc15",
       "version_major": 2,
       "version_minor": 0
      },
      "text/plain": [
       "  0%|          | 0/407 [00:00<?, ?it/s]"
      ]
     },
     "metadata": {},
     "output_type": "display_data"
    },
    {
     "name": "stdout",
     "output_type": "stream",
     "text": [
      "w = jacobian >>  0.8722358722358723\n",
      "\n",
      "42 >> 34.59373092651367 [(' Finland', 57.826), (' Cyprus', 57.778), (' Tunisia', 57.675), (' Argentina', 57.665), (' Belgium', 57.636)]\n",
      "validating on 407 subject --> object associations\n"
     ]
    },
    {
     "data": {
      "application/vnd.jupyter.widget-view+json": {
       "model_id": "d99771361473404b82f5e59ff5e2477a",
       "version_major": 2,
       "version_minor": 0
      },
      "text/plain": [
       "  0%|          | 0/407 [00:00<?, ?it/s]"
      ]
     },
     "metadata": {},
     "output_type": "display_data"
    },
    {
     "name": "stdout",
     "output_type": "stream",
     "text": [
      "w = identity >>  0.8574938574938575\n",
      "validating on 407 subject --> object associations\n"
     ]
    },
    {
     "data": {
      "application/vnd.jupyter.widget-view+json": {
       "model_id": "1e27bfbf8c824826b27f404bad3159d3",
       "version_major": 2,
       "version_minor": 0
      },
      "text/plain": [
       "  0%|          | 0/407 [00:00<?, ?it/s]"
      ]
     },
     "metadata": {},
     "output_type": "display_data"
    },
    {
     "name": "stdout",
     "output_type": "stream",
     "text": [
      "w = jacobian >>  0.8820638820638821\n",
      "\n",
      "45 >> 37.3115234375 [(' Finland', 60.0), (' Nigeria', 59.939), (' Haiti', 59.866), (' Albania', 59.807), (' Ukraine', 59.805)]\n",
      "validating on 407 subject --> object associations\n"
     ]
    },
    {
     "data": {
      "application/vnd.jupyter.widget-view+json": {
       "model_id": "fe6c818e0f2d46d28f1d65e21869dd74",
       "version_major": 2,
       "version_minor": 0
      },
      "text/plain": [
       "  0%|          | 0/407 [00:00<?, ?it/s]"
      ]
     },
     "metadata": {},
     "output_type": "display_data"
    },
    {
     "name": "stdout",
     "output_type": "stream",
     "text": [
      "w = identity >>  0.8574938574938575\n",
      "validating on 407 subject --> object associations\n"
     ]
    },
    {
     "data": {
      "application/vnd.jupyter.widget-view+json": {
       "model_id": "a998bea35dc24a95baed1eb20652f33e",
       "version_major": 2,
       "version_minor": 0
      },
      "text/plain": [
       "  0%|          | 0/407 [00:00<?, ?it/s]"
      ]
     },
     "metadata": {},
     "output_type": "display_data"
    },
    {
     "name": "stdout",
     "output_type": "stream",
     "text": [
      "w = jacobian >>  0.8501228501228502\n",
      "\n",
      "48 >> 38.91221237182617 [(' Finland', 62.489), (' Ukraine', 62.03), (' Belgium', 61.991), (' Tunisia', 61.981), (' Bangladesh', 61.97)]\n",
      "validating on 407 subject --> object associations\n"
     ]
    },
    {
     "data": {
      "application/vnd.jupyter.widget-view+json": {
       "model_id": "d6742c0ef96e46a49d4e7bb053a71f95",
       "version_major": 2,
       "version_minor": 0
      },
      "text/plain": [
       "  0%|          | 0/407 [00:00<?, ?it/s]"
      ]
     },
     "metadata": {},
     "output_type": "display_data"
    },
    {
     "name": "stdout",
     "output_type": "stream",
     "text": [
      "w = identity >>  0.8697788697788698\n",
      "validating on 407 subject --> object associations\n"
     ]
    },
    {
     "data": {
      "application/vnd.jupyter.widget-view+json": {
       "model_id": "da21d374b39a4a728b8a76ae0b122f1f",
       "version_major": 2,
       "version_minor": 0
      },
      "text/plain": [
       "  0%|          | 0/407 [00:00<?, ?it/s]"
      ]
     },
     "metadata": {},
     "output_type": "display_data"
    },
    {
     "name": "stdout",
     "output_type": "stream",
     "text": [
      "w = jacobian >>  0.8648648648648649\n",
      "\n",
      "51 >> 41.34619903564453 [(' Nigeria', 64.188), (' Ukraine', 63.861), (' Finland', 63.825), (' Belgium', 63.679), (' Venezuela', 63.539)]\n",
      "validating on 407 subject --> object associations\n"
     ]
    },
    {
     "data": {
      "application/vnd.jupyter.widget-view+json": {
       "model_id": "8893d7e9f05243bda2c342cb0d87550a",
       "version_major": 2,
       "version_minor": 0
      },
      "text/plain": [
       "  0%|          | 0/407 [00:00<?, ?it/s]"
      ]
     },
     "metadata": {},
     "output_type": "display_data"
    },
    {
     "name": "stdout",
     "output_type": "stream",
     "text": [
      "w = identity >>  0.8648648648648649\n",
      "validating on 407 subject --> object associations\n"
     ]
    },
    {
     "data": {
      "application/vnd.jupyter.widget-view+json": {
       "model_id": "322bcf93fbc04400b11883c9160b862a",
       "version_major": 2,
       "version_minor": 0
      },
      "text/plain": [
       "  0%|          | 0/407 [00:00<?, ?it/s]"
      ]
     },
     "metadata": {},
     "output_type": "display_data"
    },
    {
     "name": "stdout",
     "output_type": "stream",
     "text": [
      "w = jacobian >>  0.8378378378378378\n",
      "\n",
      "54 >> 43.53279495239258 [(' Nigeria', 65.782), (' Belgium', 65.724), (' Finland', 65.545), (' Ukraine', 65.514), (' Bangladesh', 65.345)]\n",
      "validating on 407 subject --> object associations\n"
     ]
    },
    {
     "data": {
      "application/vnd.jupyter.widget-view+json": {
       "model_id": "ef1f2d3d0abe466a93406c071de74d90",
       "version_major": 2,
       "version_minor": 0
      },
      "text/plain": [
       "  0%|          | 0/407 [00:00<?, ?it/s]"
      ]
     },
     "metadata": {},
     "output_type": "display_data"
    },
    {
     "name": "stdout",
     "output_type": "stream",
     "text": [
      "w = identity >>  0.8648648648648649\n",
      "validating on 407 subject --> object associations\n"
     ]
    },
    {
     "data": {
      "application/vnd.jupyter.widget-view+json": {
       "model_id": "4b5feb229f154603aa5fdee38d271b8b",
       "version_major": 2,
       "version_minor": 0
      },
      "text/plain": [
       "  0%|          | 0/407 [00:00<?, ?it/s]"
      ]
     },
     "metadata": {},
     "output_type": "display_data"
    },
    {
     "name": "stdout",
     "output_type": "stream",
     "text": [
      "w = jacobian >>  0.8304668304668305\n",
      "\n",
      "57 >> 44.69593811035156 [(' Ukraine', 68.064), (' Nigeria', 67.958), (' Belgium', 67.659), (' Finland', 67.657), (' Malta', 67.4)]\n",
      "validating on 407 subject --> object associations\n"
     ]
    },
    {
     "data": {
      "application/vnd.jupyter.widget-view+json": {
       "model_id": "1c45a0301b284caf94e6b32e4b0542bf",
       "version_major": 2,
       "version_minor": 0
      },
      "text/plain": [
       "  0%|          | 0/407 [00:00<?, ?it/s]"
      ]
     },
     "metadata": {},
     "output_type": "display_data"
    },
    {
     "name": "stdout",
     "output_type": "stream",
     "text": [
      "w = identity >>  0.8697788697788698\n",
      "validating on 407 subject --> object associations\n"
     ]
    },
    {
     "data": {
      "application/vnd.jupyter.widget-view+json": {
       "model_id": "a3a4ff85a9b743d7b78bf841acdd0ee8",
       "version_major": 2,
       "version_minor": 0
      },
      "text/plain": [
       "  0%|          | 0/407 [00:00<?, ?it/s]"
      ]
     },
     "metadata": {},
     "output_type": "display_data"
    },
    {
     "name": "stdout",
     "output_type": "stream",
     "text": [
      "w = jacobian >>  0.8181818181818182\n",
      "\n",
      "60 >> 46.13139343261719 [(' Ukraine', 70.137), (' Nigeria', 69.999), (' Finland', 69.425), (' Belgium', 69.31), (' Bangladesh', 69.208)]\n",
      "validating on 407 subject --> object associations\n"
     ]
    },
    {
     "data": {
      "application/vnd.jupyter.widget-view+json": {
       "model_id": "f890fa4015dd4c7885dc27c8f433ce5f",
       "version_major": 2,
       "version_minor": 0
      },
      "text/plain": [
       "  0%|          | 0/407 [00:00<?, ?it/s]"
      ]
     },
     "metadata": {},
     "output_type": "display_data"
    },
    {
     "name": "stdout",
     "output_type": "stream",
     "text": [
      "w = identity >>  0.8673218673218673\n",
      "validating on 407 subject --> object associations\n"
     ]
    },
    {
     "data": {
      "application/vnd.jupyter.widget-view+json": {
       "model_id": "8281254393434f128cf8bca3d235f798",
       "version_major": 2,
       "version_minor": 0
      },
      "text/plain": [
       "  0%|          | 0/407 [00:00<?, ?it/s]"
      ]
     },
     "metadata": {},
     "output_type": "display_data"
    },
    {
     "name": "stdout",
     "output_type": "stream",
     "text": [
      "w = jacobian >>  0.8108108108108109\n",
      "\n",
      "63 >> 46.82804489135742 [(' Nigeria', 72.78), (' Ukraine', 72.319), (' Belgium', 71.951), (' Finland', 71.701), (' Malaysia', 71.495)]\n",
      "validating on 407 subject --> object associations\n"
     ]
    },
    {
     "data": {
      "application/vnd.jupyter.widget-view+json": {
       "model_id": "1185a8745fab42d6a9ffce128af4d97b",
       "version_major": 2,
       "version_minor": 0
      },
      "text/plain": [
       "  0%|          | 0/407 [00:00<?, ?it/s]"
      ]
     },
     "metadata": {},
     "output_type": "display_data"
    },
    {
     "name": "stdout",
     "output_type": "stream",
     "text": [
      "w = identity >>  0.8648648648648649\n",
      "validating on 407 subject --> object associations\n"
     ]
    },
    {
     "data": {
      "application/vnd.jupyter.widget-view+json": {
       "model_id": "940085d4ef834fa9ad4799ffd1792a0e",
       "version_major": 2,
       "version_minor": 0
      },
      "text/plain": [
       "  0%|          | 0/407 [00:00<?, ?it/s]"
      ]
     },
     "metadata": {},
     "output_type": "display_data"
    },
    {
     "name": "stdout",
     "output_type": "stream",
     "text": [
      "w = jacobian >>  0.8034398034398035\n",
      "\n",
      "66 >> 47.5059700012207 [(' Nigeria', 74.795), (' Ukraine', 74.512), (' Thailand', 73.711), (' Belgium', 73.7), (' Finland', 73.635)]\n",
      "validating on 407 subject --> object associations\n"
     ]
    },
    {
     "data": {
      "application/vnd.jupyter.widget-view+json": {
       "model_id": "e31d0216bd2b43368f2112758a131270",
       "version_major": 2,
       "version_minor": 0
      },
      "text/plain": [
       "  0%|          | 0/407 [00:00<?, ?it/s]"
      ]
     },
     "metadata": {},
     "output_type": "display_data"
    },
    {
     "name": "stdout",
     "output_type": "stream",
     "text": [
      "w = identity >>  0.8746928746928747\n",
      "validating on 407 subject --> object associations\n"
     ]
    },
    {
     "data": {
      "application/vnd.jupyter.widget-view+json": {
       "model_id": "93193a72a41b49d1be7754eb1c78b800",
       "version_major": 2,
       "version_minor": 0
      },
      "text/plain": [
       "  0%|          | 0/407 [00:00<?, ?it/s]"
      ]
     },
     "metadata": {},
     "output_type": "display_data"
    },
    {
     "name": "stdout",
     "output_type": "stream",
     "text": [
      "w = jacobian >>  0.8083538083538083\n",
      "\n",
      "69 >> 47.91767501831055 [(' Nigeria', 77.264), (' Ukraine', 76.193), (' Malaysia', 76.191), (' Thailand', 76.166), (' Finland', 75.959)]\n",
      "validating on 407 subject --> object associations\n"
     ]
    },
    {
     "data": {
      "application/vnd.jupyter.widget-view+json": {
       "model_id": "a8528b8998a7441185ccd2ffaaa909bf",
       "version_major": 2,
       "version_minor": 0
      },
      "text/plain": [
       "  0%|          | 0/407 [00:00<?, ?it/s]"
      ]
     },
     "metadata": {},
     "output_type": "display_data"
    },
    {
     "name": "stdout",
     "output_type": "stream",
     "text": [
      "w = identity >>  0.8771498771498771\n",
      "validating on 407 subject --> object associations\n"
     ]
    },
    {
     "data": {
      "application/vnd.jupyter.widget-view+json": {
       "model_id": "3d132c16a5444ab6bf3c0f727a782fac",
       "version_major": 2,
       "version_minor": 0
      },
      "text/plain": [
       "  0%|          | 0/407 [00:00<?, ?it/s]"
      ]
     },
     "metadata": {},
     "output_type": "display_data"
    },
    {
     "name": "stdout",
     "output_type": "stream",
     "text": [
      "w = jacobian >>  0.8083538083538083\n",
      "\n",
      "72 >> 48.29013442993164 [(' Nigeria', 79.465), (' Thailand', 78.541), (' Malaysia', 78.524), (' Indonesia', 78.502), (' Ukraine', 77.866)]\n",
      "validating on 407 subject --> object associations\n"
     ]
    },
    {
     "data": {
      "application/vnd.jupyter.widget-view+json": {
       "model_id": "40dcb53193e743aab778e498a2f050da",
       "version_major": 2,
       "version_minor": 0
      },
      "text/plain": [
       "  0%|          | 0/407 [00:00<?, ?it/s]"
      ]
     },
     "metadata": {},
     "output_type": "display_data"
    },
    {
     "name": "stdout",
     "output_type": "stream",
     "text": [
      "w = identity >>  0.8673218673218673\n",
      "validating on 407 subject --> object associations\n"
     ]
    },
    {
     "data": {
      "application/vnd.jupyter.widget-view+json": {
       "model_id": "ed428980f3d7493095eb73a9c9018f8b",
       "version_major": 2,
       "version_minor": 0
      },
      "text/plain": [
       "  0%|          | 0/407 [00:00<?, ?it/s]"
      ]
     },
     "metadata": {},
     "output_type": "display_data"
    },
    {
     "name": "stdout",
     "output_type": "stream",
     "text": [
      "w = jacobian >>  0.8206388206388207\n",
      "\n",
      "75 >> 48.14030456542969 [(' Nigeria', 81.905), (' Thailand', 80.92), (' Indonesia', 80.807), (' Malaysia', 80.281), (' Ukraine', 79.557)]\n",
      "validating on 407 subject --> object associations\n"
     ]
    },
    {
     "data": {
      "application/vnd.jupyter.widget-view+json": {
       "model_id": "8d71b1da7b844fb2b1592755427cb329",
       "version_major": 2,
       "version_minor": 0
      },
      "text/plain": [
       "  0%|          | 0/407 [00:00<?, ?it/s]"
      ]
     },
     "metadata": {},
     "output_type": "display_data"
    },
    {
     "name": "stdout",
     "output_type": "stream",
     "text": [
      "w = identity >>  0.85995085995086\n",
      "validating on 407 subject --> object associations\n"
     ]
    },
    {
     "data": {
      "application/vnd.jupyter.widget-view+json": {
       "model_id": "8a62251432ab40d1a21be1a167951ae6",
       "version_major": 2,
       "version_minor": 0
      },
      "text/plain": [
       "  0%|          | 0/407 [00:00<?, ?it/s]"
      ]
     },
     "metadata": {},
     "output_type": "display_data"
    },
    {
     "name": "stdout",
     "output_type": "stream",
     "text": [
      "w = jacobian >>  0.8083538083538083\n",
      "\n",
      "78 >> 48.2558708190918 [(' Nigeria', 83.746), (' Thailand', 83.129), (' Indonesia', 82.724), (' Malaysia', 82.274), (' Argentina', 81.566)]\n",
      "validating on 407 subject --> object associations\n"
     ]
    },
    {
     "data": {
      "application/vnd.jupyter.widget-view+json": {
       "model_id": "d3d2ad0c34494f01b00ab0b00a605da7",
       "version_major": 2,
       "version_minor": 0
      },
      "text/plain": [
       "  0%|          | 0/407 [00:00<?, ?it/s]"
      ]
     },
     "metadata": {},
     "output_type": "display_data"
    },
    {
     "name": "stdout",
     "output_type": "stream",
     "text": [
      "w = identity >>  0.8673218673218673\n",
      "validating on 407 subject --> object associations\n"
     ]
    },
    {
     "data": {
      "application/vnd.jupyter.widget-view+json": {
       "model_id": "adfefc58c7fb431c874740dd6288a2d1",
       "version_major": 2,
       "version_minor": 0
      },
      "text/plain": [
       "  0%|          | 0/407 [00:00<?, ?it/s]"
      ]
     },
     "metadata": {},
     "output_type": "display_data"
    },
    {
     "name": "stdout",
     "output_type": "stream",
     "text": [
      "w = jacobian >>  0.8181818181818182\n",
      "\n",
      "81 >> 48.060646057128906 [(' Nigeria', 85.289), (' Thailand', 84.877), (' Indonesia', 84.689), (' Malaysia', 83.983), (' Argentina', 83.435)]\n",
      "validating on 407 subject --> object associations\n"
     ]
    },
    {
     "data": {
      "application/vnd.jupyter.widget-view+json": {
       "model_id": "3e999b5be8584d84a6ffb6a6bc1d8dff",
       "version_major": 2,
       "version_minor": 0
      },
      "text/plain": [
       "  0%|          | 0/407 [00:00<?, ?it/s]"
      ]
     },
     "metadata": {},
     "output_type": "display_data"
    },
    {
     "name": "stdout",
     "output_type": "stream",
     "text": [
      "w = identity >>  0.8452088452088452\n",
      "validating on 407 subject --> object associations\n"
     ]
    },
    {
     "data": {
      "application/vnd.jupyter.widget-view+json": {
       "model_id": "da1cc14c603e495e963952b372718349",
       "version_major": 2,
       "version_minor": 0
      },
      "text/plain": [
       "  0%|          | 0/407 [00:00<?, ?it/s]"
      ]
     },
     "metadata": {},
     "output_type": "display_data"
    },
    {
     "name": "stdout",
     "output_type": "stream",
     "text": [
      "w = jacobian >>  0.8108108108108109\n",
      "\n",
      "saving results\n",
      "############################################################################################################\n",
      "relation_id >> P641\n",
      "------------------------------------------------------------------------------------------------------\n",
      "unique objects:  5 [' soccer', ' football', ' baseball', ' hockey', ' basketball']\n"
     ]
    },
    {
     "data": {
      "application/vnd.jupyter.widget-view+json": {
       "model_id": "22369d26afac4ba59d3f533bd77ab34b",
       "version_major": 2,
       "version_minor": 0
      },
      "text/plain": [
       "  0%|          | 0/27 [00:00<?, ?it/s]"
      ]
     },
     "metadata": {},
     "output_type": "display_data"
    },
    {
     "name": "stdout",
     "output_type": "stream",
     "text": [
      "3 >> 16.466629028320312 [('��', 21.218), ('��', 20.965), ('��', 20.01), (' unbeliev', 19.926), (' Kinnikuman', 19.703)]\n",
      "P641 >> number of requests in counterfact = 318\n",
      "Checking correct prediction with normal calculation ...\n"
     ]
    },
    {
     "data": {
      "application/vnd.jupyter.widget-view+json": {
       "model_id": "2d874f33029743ab96129c84a2edd32f",
       "version_major": 2,
       "version_minor": 0
      },
      "text/plain": [
       "  0%|          | 0/318 [00:00<?, ?it/s]"
      ]
     },
     "metadata": {},
     "output_type": "display_data"
    },
    {
     "name": "stdout",
     "output_type": "stream",
     "text": [
      "Number of correctly predicted requests = 196\n",
      "validating on 196 subject --> object associations\n"
     ]
    },
    {
     "data": {
      "application/vnd.jupyter.widget-view+json": {
       "model_id": "253300926b8a497a94034f30687fcba9",
       "version_major": 2,
       "version_minor": 0
      },
      "text/plain": [
       "  0%|          | 0/196 [00:00<?, ?it/s]"
      ]
     },
     "metadata": {},
     "output_type": "display_data"
    },
    {
     "name": "stdout",
     "output_type": "stream",
     "text": [
      "w = identity >>  0.8877551020408163\n",
      "validating on 196 subject --> object associations\n"
     ]
    },
    {
     "data": {
      "application/vnd.jupyter.widget-view+json": {
       "model_id": "b88f68f34ad3458c8e3e94053bb2dbee",
       "version_major": 2,
       "version_minor": 0
      },
      "text/plain": [
       "  0%|          | 0/196 [00:00<?, ?it/s]"
      ]
     },
     "metadata": {},
     "output_type": "display_data"
    },
    {
     "name": "stdout",
     "output_type": "stream",
     "text": [
      "w = jacobian >>  0.0\n",
      "\n",
      "6 >> 16.404014587402344 [('��', 21.057), ('��', 20.524), (' partName', 20.237), (' unbeliev', 19.819), ('��', 19.805)]\n",
      "validating on 196 subject --> object associations\n"
     ]
    },
    {
     "data": {
      "application/vnd.jupyter.widget-view+json": {
       "model_id": "76f6e3c0e4d44e74b04a81440bd6f3d6",
       "version_major": 2,
       "version_minor": 0
      },
      "text/plain": [
       "  0%|          | 0/196 [00:00<?, ?it/s]"
      ]
     },
     "metadata": {},
     "output_type": "display_data"
    },
    {
     "name": "stdout",
     "output_type": "stream",
     "text": [
      "w = identity >>  0.923469387755102\n",
      "validating on 196 subject --> object associations\n"
     ]
    },
    {
     "data": {
      "application/vnd.jupyter.widget-view+json": {
       "model_id": "a72b8b345e4d4f0398302e6bb9e6d4cf",
       "version_major": 2,
       "version_minor": 0
      },
      "text/plain": [
       "  0%|          | 0/196 [00:00<?, ?it/s]"
      ]
     },
     "metadata": {},
     "output_type": "display_data"
    },
    {
     "name": "stdout",
     "output_type": "stream",
     "text": [
      "w = jacobian >>  0.0\n",
      "\n",
      "9 >> 16.973718643188477 [('��', 18.208), ('��', 17.683), ('��', 16.902), (' partName', 16.792), ('��', 16.535)]\n",
      "validating on 196 subject --> object associations\n"
     ]
    },
    {
     "data": {
      "application/vnd.jupyter.widget-view+json": {
       "model_id": "b25bbe2c5db143b2acbda4bb270ab35e",
       "version_major": 2,
       "version_minor": 0
      },
      "text/plain": [
       "  0%|          | 0/196 [00:00<?, ?it/s]"
      ]
     },
     "metadata": {},
     "output_type": "display_data"
    },
    {
     "name": "stdout",
     "output_type": "stream",
     "text": [
      "w = identity >>  0.9387755102040817\n",
      "validating on 196 subject --> object associations\n"
     ]
    },
    {
     "data": {
      "application/vnd.jupyter.widget-view+json": {
       "model_id": "271f60c2f2594557a2caac1399f3af24",
       "version_major": 2,
       "version_minor": 0
      },
      "text/plain": [
       "  0%|          | 0/196 [00:00<?, ?it/s]"
      ]
     },
     "metadata": {},
     "output_type": "display_data"
    },
    {
     "name": "stdout",
     "output_type": "stream",
     "text": [
      "w = jacobian >>  0.0\n",
      "\n",
      "12 >> 16.980375289916992 [(' basketball', 18.384), (' soccer', 18.33), (' hockey', 18.326), (' baseball', 18.227), (' football', 18.108)]\n",
      "validating on 196 subject --> object associations\n"
     ]
    },
    {
     "data": {
      "application/vnd.jupyter.widget-view+json": {
       "model_id": "f7bb37b0b047467f87c67743c75ad00c",
       "version_major": 2,
       "version_minor": 0
      },
      "text/plain": [
       "  0%|          | 0/196 [00:00<?, ?it/s]"
      ]
     },
     "metadata": {},
     "output_type": "display_data"
    },
    {
     "name": "stdout",
     "output_type": "stream",
     "text": [
      "w = identity >>  0.9387755102040817\n",
      "validating on 196 subject --> object associations\n"
     ]
    },
    {
     "data": {
      "application/vnd.jupyter.widget-view+json": {
       "model_id": "59fb5445fc7345c9b0faf3e0e6e49f03",
       "version_major": 2,
       "version_minor": 0
      },
      "text/plain": [
       "  0%|          | 0/196 [00:00<?, ?it/s]"
      ]
     },
     "metadata": {},
     "output_type": "display_data"
    },
    {
     "name": "stdout",
     "output_type": "stream",
     "text": [
      "w = jacobian >>  0.8418367346938775\n",
      "\n",
      "15 >> 16.92444610595703 [(' basketball', 24.411), (' soccer', 24.348), (' hockey', 24.345), (' baseball', 24.239), (' football', 24.093)]\n",
      "validating on 196 subject --> object associations\n"
     ]
    },
    {
     "data": {
      "application/vnd.jupyter.widget-view+json": {
       "model_id": "944fa89ab7d341a88b20b33c69d672de",
       "version_major": 2,
       "version_minor": 0
      },
      "text/plain": [
       "  0%|          | 0/196 [00:00<?, ?it/s]"
      ]
     },
     "metadata": {},
     "output_type": "display_data"
    },
    {
     "name": "stdout",
     "output_type": "stream",
     "text": [
      "w = identity >>  0.9438775510204082\n",
      "validating on 196 subject --> object associations\n"
     ]
    },
    {
     "data": {
      "application/vnd.jupyter.widget-view+json": {
       "model_id": "90d77cf9c0fb4c89979c7c5ab199d5f6",
       "version_major": 2,
       "version_minor": 0
      },
      "text/plain": [
       "  0%|          | 0/196 [00:00<?, ?it/s]"
      ]
     },
     "metadata": {},
     "output_type": "display_data"
    },
    {
     "name": "stdout",
     "output_type": "stream",
     "text": [
      "w = jacobian >>  0.8469387755102041\n",
      "\n",
      "18 >> 17.106531143188477 [(' basketball', 31.706), (' hockey', 31.638), (' soccer', 31.609), (' baseball', 31.485), (' football', 31.355)]\n",
      "validating on 196 subject --> object associations\n"
     ]
    },
    {
     "data": {
      "application/vnd.jupyter.widget-view+json": {
       "model_id": "49f991d235814fd882132b99c7526b23",
       "version_major": 2,
       "version_minor": 0
      },
      "text/plain": [
       "  0%|          | 0/196 [00:00<?, ?it/s]"
      ]
     },
     "metadata": {},
     "output_type": "display_data"
    },
    {
     "name": "stdout",
     "output_type": "stream",
     "text": [
      "w = identity >>  0.9489795918367347\n",
      "validating on 196 subject --> object associations\n"
     ]
    },
    {
     "data": {
      "application/vnd.jupyter.widget-view+json": {
       "model_id": "f2fedbdf5222484e8ce5550e1ea3a7d1",
       "version_major": 2,
       "version_minor": 0
      },
      "text/plain": [
       "  0%|          | 0/196 [00:00<?, ?it/s]"
      ]
     },
     "metadata": {},
     "output_type": "display_data"
    },
    {
     "name": "stdout",
     "output_type": "stream",
     "text": [
      "w = jacobian >>  0.8520408163265306\n",
      "\n",
      "21 >> 17.467552185058594 [(' basketball', 38.746), (' hockey', 38.672), (' soccer', 38.663), (' baseball', 38.517), (' football', 38.344)]\n",
      "validating on 196 subject --> object associations\n"
     ]
    },
    {
     "data": {
      "application/vnd.jupyter.widget-view+json": {
       "model_id": "2324dfdc3a1b47129870541c37ad7d0d",
       "version_major": 2,
       "version_minor": 0
      },
      "text/plain": [
       "  0%|          | 0/196 [00:00<?, ?it/s]"
      ]
     },
     "metadata": {},
     "output_type": "display_data"
    },
    {
     "name": "stdout",
     "output_type": "stream",
     "text": [
      "w = identity >>  0.9591836734693877\n",
      "validating on 196 subject --> object associations\n"
     ]
    },
    {
     "data": {
      "application/vnd.jupyter.widget-view+json": {
       "model_id": "2110f6774e124cafb8259cfb4036360e",
       "version_major": 2,
       "version_minor": 0
      },
      "text/plain": [
       "  0%|          | 0/196 [00:00<?, ?it/s]"
      ]
     },
     "metadata": {},
     "output_type": "display_data"
    },
    {
     "name": "stdout",
     "output_type": "stream",
     "text": [
      "w = jacobian >>  0.8520408163265306\n",
      "\n",
      "24 >> 18.421281814575195 [(' basketball', 43.472), (' hockey', 43.432), (' soccer', 43.399), (' baseball', 43.263), (' football', 43.082)]\n",
      "validating on 196 subject --> object associations\n"
     ]
    },
    {
     "data": {
      "application/vnd.jupyter.widget-view+json": {
       "model_id": "ecdb381066144a35b6d2315db2da8eea",
       "version_major": 2,
       "version_minor": 0
      },
      "text/plain": [
       "  0%|          | 0/196 [00:00<?, ?it/s]"
      ]
     },
     "metadata": {},
     "output_type": "display_data"
    },
    {
     "name": "stdout",
     "output_type": "stream",
     "text": [
      "w = identity >>  0.9693877551020408\n",
      "validating on 196 subject --> object associations\n"
     ]
    },
    {
     "data": {
      "application/vnd.jupyter.widget-view+json": {
       "model_id": "25feb35eed9a4dbd9826f93f8b1b543e",
       "version_major": 2,
       "version_minor": 0
      },
      "text/plain": [
       "  0%|          | 0/196 [00:00<?, ?it/s]"
      ]
     },
     "metadata": {},
     "output_type": "display_data"
    },
    {
     "name": "stdout",
     "output_type": "stream",
     "text": [
      "w = jacobian >>  0.8520408163265306\n",
      "\n",
      "27 >> 19.844226837158203 [(' basketball', 49.655), (' hockey', 49.584), (' soccer', 49.562), (' baseball', 49.426), (' football', 49.216)]\n",
      "validating on 196 subject --> object associations\n"
     ]
    },
    {
     "data": {
      "application/vnd.jupyter.widget-view+json": {
       "model_id": "65d1c2a39a674f9d8bfc824bee8079ce",
       "version_major": 2,
       "version_minor": 0
      },
      "text/plain": [
       "  0%|          | 0/196 [00:00<?, ?it/s]"
      ]
     },
     "metadata": {},
     "output_type": "display_data"
    },
    {
     "name": "stdout",
     "output_type": "stream",
     "text": [
      "w = identity >>  0.9795918367346939\n",
      "validating on 196 subject --> object associations\n"
     ]
    },
    {
     "data": {
      "application/vnd.jupyter.widget-view+json": {
       "model_id": "b8c1762739754d41bbaca77f01088713",
       "version_major": 2,
       "version_minor": 0
      },
      "text/plain": [
       "  0%|          | 0/196 [00:00<?, ?it/s]"
      ]
     },
     "metadata": {},
     "output_type": "display_data"
    },
    {
     "name": "stdout",
     "output_type": "stream",
     "text": [
      "w = jacobian >>  0.8724489795918368\n",
      "\n",
      "30 >> 21.2345027923584 [(' basketball', 54.266), (' soccer', 54.217), (' hockey', 54.203), (' baseball', 54.08), (' football', 53.86)]\n",
      "validating on 196 subject --> object associations\n"
     ]
    },
    {
     "data": {
      "application/vnd.jupyter.widget-view+json": {
       "model_id": "20c7213a9095496ca8c3b4322441e48a",
       "version_major": 2,
       "version_minor": 0
      },
      "text/plain": [
       "  0%|          | 0/196 [00:00<?, ?it/s]"
      ]
     },
     "metadata": {},
     "output_type": "display_data"
    },
    {
     "name": "stdout",
     "output_type": "stream",
     "text": [
      "w = identity >>  0.9795918367346939\n",
      "validating on 196 subject --> object associations\n"
     ]
    },
    {
     "data": {
      "application/vnd.jupyter.widget-view+json": {
       "model_id": "036583c6e6e345128777c36b27be8b0f",
       "version_major": 2,
       "version_minor": 0
      },
      "text/plain": [
       "  0%|          | 0/196 [00:00<?, ?it/s]"
      ]
     },
     "metadata": {},
     "output_type": "display_data"
    },
    {
     "name": "stdout",
     "output_type": "stream",
     "text": [
      "w = jacobian >>  0.8724489795918368\n",
      "\n",
      "33 >> 22.274547576904297 [(' basketball', 58.757), (' hockey', 58.699), (' soccer', 58.673), (' baseball', 58.557), (' football', 58.36)]\n",
      "validating on 196 subject --> object associations\n"
     ]
    },
    {
     "data": {
      "application/vnd.jupyter.widget-view+json": {
       "model_id": "48f3702e67a84e6dbd7eea6f458d02b5",
       "version_major": 2,
       "version_minor": 0
      },
      "text/plain": [
       "  0%|          | 0/196 [00:00<?, ?it/s]"
      ]
     },
     "metadata": {},
     "output_type": "display_data"
    },
    {
     "name": "stdout",
     "output_type": "stream",
     "text": [
      "w = identity >>  0.9795918367346939\n",
      "validating on 196 subject --> object associations\n"
     ]
    },
    {
     "data": {
      "application/vnd.jupyter.widget-view+json": {
       "model_id": "a8930fe8acff4c12993fed27ba263a93",
       "version_major": 2,
       "version_minor": 0
      },
      "text/plain": [
       "  0%|          | 0/196 [00:00<?, ?it/s]"
      ]
     },
     "metadata": {},
     "output_type": "display_data"
    },
    {
     "name": "stdout",
     "output_type": "stream",
     "text": [
      "w = jacobian >>  0.8724489795918368\n",
      "\n",
      "36 >> 24.742259979248047 [(' basketball', 61.625), (' hockey', 61.574), (' soccer', 61.518), (' baseball', 61.43), (' football', 61.231)]\n",
      "validating on 196 subject --> object associations\n"
     ]
    },
    {
     "data": {
      "application/vnd.jupyter.widget-view+json": {
       "model_id": "5fcf46902fb64d0daa3c3323907f9036",
       "version_major": 2,
       "version_minor": 0
      },
      "text/plain": [
       "  0%|          | 0/196 [00:00<?, ?it/s]"
      ]
     },
     "metadata": {},
     "output_type": "display_data"
    },
    {
     "name": "stdout",
     "output_type": "stream",
     "text": [
      "w = identity >>  0.9795918367346939\n",
      "validating on 196 subject --> object associations\n"
     ]
    },
    {
     "data": {
      "application/vnd.jupyter.widget-view+json": {
       "model_id": "9adb26cdea2e4ab8aab470cba7ad783a",
       "version_major": 2,
       "version_minor": 0
      },
      "text/plain": [
       "  0%|          | 0/196 [00:00<?, ?it/s]"
      ]
     },
     "metadata": {},
     "output_type": "display_data"
    },
    {
     "name": "stdout",
     "output_type": "stream",
     "text": [
      "w = jacobian >>  0.8826530612244898\n",
      "\n",
      "39 >> 25.682144165039062 [(' basketball', 65.58), (' hockey', 65.567), (' soccer', 65.496), (' baseball', 65.416), (' football', 65.242)]\n",
      "validating on 196 subject --> object associations\n"
     ]
    },
    {
     "data": {
      "application/vnd.jupyter.widget-view+json": {
       "model_id": "32e236dc18a34a73a3e9c04ddc188e7f",
       "version_major": 2,
       "version_minor": 0
      },
      "text/plain": [
       "  0%|          | 0/196 [00:00<?, ?it/s]"
      ]
     },
     "metadata": {},
     "output_type": "display_data"
    },
    {
     "name": "stdout",
     "output_type": "stream",
     "text": [
      "w = identity >>  0.9795918367346939\n",
      "validating on 196 subject --> object associations\n"
     ]
    },
    {
     "data": {
      "application/vnd.jupyter.widget-view+json": {
       "model_id": "5f53d20cbd0b454a97e22eeb85d02364",
       "version_major": 2,
       "version_minor": 0
      },
      "text/plain": [
       "  0%|          | 0/196 [00:00<?, ?it/s]"
      ]
     },
     "metadata": {},
     "output_type": "display_data"
    },
    {
     "name": "stdout",
     "output_type": "stream",
     "text": [
      "w = jacobian >>  0.8673469387755102\n",
      "\n",
      "42 >> 28.54668617248535 [(' basketball', 67.29), (' soccer', 67.282), (' hockey', 67.253), (' baseball', 67.133), (' football', 67.022)]\n",
      "validating on 196 subject --> object associations\n"
     ]
    },
    {
     "data": {
      "application/vnd.jupyter.widget-view+json": {
       "model_id": "b33ca5dd03b04afeb35c081e13a4acf0",
       "version_major": 2,
       "version_minor": 0
      },
      "text/plain": [
       "  0%|          | 0/196 [00:00<?, ?it/s]"
      ]
     },
     "metadata": {},
     "output_type": "display_data"
    },
    {
     "name": "stdout",
     "output_type": "stream",
     "text": [
      "w = identity >>  0.9846938775510204\n",
      "validating on 196 subject --> object associations\n"
     ]
    },
    {
     "data": {
      "application/vnd.jupyter.widget-view+json": {
       "model_id": "eccd8d71617c4738adc012a1b3f96cda",
       "version_major": 2,
       "version_minor": 0
      },
      "text/plain": [
       "  0%|          | 0/196 [00:00<?, ?it/s]"
      ]
     },
     "metadata": {},
     "output_type": "display_data"
    },
    {
     "name": "stdout",
     "output_type": "stream",
     "text": [
      "w = jacobian >>  0.8622448979591837\n",
      "\n",
      "45 >> 29.832517623901367 [(' basketball', 70.369), (' soccer', 70.339), (' hockey', 70.311), (' baseball', 70.206), (' football', 70.042)]\n",
      "validating on 196 subject --> object associations\n"
     ]
    },
    {
     "data": {
      "application/vnd.jupyter.widget-view+json": {
       "model_id": "dc48e038deda49ceb3c5b5e3e1d00db6",
       "version_major": 2,
       "version_minor": 0
      },
      "text/plain": [
       "  0%|          | 0/196 [00:00<?, ?it/s]"
      ]
     },
     "metadata": {},
     "output_type": "display_data"
    },
    {
     "name": "stdout",
     "output_type": "stream",
     "text": [
      "w = identity >>  0.9846938775510204\n",
      "validating on 196 subject --> object associations\n"
     ]
    },
    {
     "data": {
      "application/vnd.jupyter.widget-view+json": {
       "model_id": "300d8e84296a42c5b95a72ba41355e04",
       "version_major": 2,
       "version_minor": 0
      },
      "text/plain": [
       "  0%|          | 0/196 [00:00<?, ?it/s]"
      ]
     },
     "metadata": {},
     "output_type": "display_data"
    },
    {
     "name": "stdout",
     "output_type": "stream",
     "text": [
      "w = jacobian >>  0.8826530612244898\n",
      "\n",
      "48 >> 31.322412490844727 [(' basketball', 73.113), (' soccer', 73.083), (' hockey', 73.069), (' baseball', 72.995), (' football', 72.777)]\n",
      "validating on 196 subject --> object associations\n"
     ]
    },
    {
     "data": {
      "application/vnd.jupyter.widget-view+json": {
       "model_id": "e05e71bb9f034d02a38500934701accc",
       "version_major": 2,
       "version_minor": 0
      },
      "text/plain": [
       "  0%|          | 0/196 [00:00<?, ?it/s]"
      ]
     },
     "metadata": {},
     "output_type": "display_data"
    },
    {
     "name": "stdout",
     "output_type": "stream",
     "text": [
      "w = identity >>  0.9846938775510204\n",
      "validating on 196 subject --> object associations\n"
     ]
    },
    {
     "data": {
      "application/vnd.jupyter.widget-view+json": {
       "model_id": "52f37b44d65746f59b5836428e03e151",
       "version_major": 2,
       "version_minor": 0
      },
      "text/plain": [
       "  0%|          | 0/196 [00:00<?, ?it/s]"
      ]
     },
     "metadata": {},
     "output_type": "display_data"
    },
    {
     "name": "stdout",
     "output_type": "stream",
     "text": [
      "w = jacobian >>  0.8826530612244898\n",
      "\n",
      "51 >> 33.8741340637207 [(' basketball', 74.522), (' hockey', 74.496), (' soccer', 74.478), (' baseball', 74.397), (' football', 74.227)]\n",
      "validating on 196 subject --> object associations\n"
     ]
    },
    {
     "data": {
      "application/vnd.jupyter.widget-view+json": {
       "model_id": "3fa3f0a0ce86453994424480ea5c434b",
       "version_major": 2,
       "version_minor": 0
      },
      "text/plain": [
       "  0%|          | 0/196 [00:00<?, ?it/s]"
      ]
     },
     "metadata": {},
     "output_type": "display_data"
    },
    {
     "name": "stdout",
     "output_type": "stream",
     "text": [
      "w = identity >>  0.9846938775510204\n",
      "validating on 196 subject --> object associations\n"
     ]
    },
    {
     "data": {
      "application/vnd.jupyter.widget-view+json": {
       "model_id": "da58b735b14e4d7aa3b055403101e7b6",
       "version_major": 2,
       "version_minor": 0
      },
      "text/plain": [
       "  0%|          | 0/196 [00:00<?, ?it/s]"
      ]
     },
     "metadata": {},
     "output_type": "display_data"
    },
    {
     "name": "stdout",
     "output_type": "stream",
     "text": [
      "w = jacobian >>  0.8724489795918368\n",
      "\n",
      "54 >> 35.06188201904297 [(' basketball', 77.326), (' hockey', 77.301), (' soccer', 77.268), (' baseball', 77.217), (' football', 77.069)]\n",
      "validating on 196 subject --> object associations\n"
     ]
    },
    {
     "data": {
      "application/vnd.jupyter.widget-view+json": {
       "model_id": "2bfd7de4d96a4d029a3f8f3d4dde6b5a",
       "version_major": 2,
       "version_minor": 0
      },
      "text/plain": [
       "  0%|          | 0/196 [00:00<?, ?it/s]"
      ]
     },
     "metadata": {},
     "output_type": "display_data"
    },
    {
     "name": "stdout",
     "output_type": "stream",
     "text": [
      "w = identity >>  0.9846938775510204\n",
      "validating on 196 subject --> object associations\n"
     ]
    },
    {
     "data": {
      "application/vnd.jupyter.widget-view+json": {
       "model_id": "9c81320297ec447f83151c1e2ce4d6ec",
       "version_major": 2,
       "version_minor": 0
      },
      "text/plain": [
       "  0%|          | 0/196 [00:00<?, ?it/s]"
      ]
     },
     "metadata": {},
     "output_type": "display_data"
    },
    {
     "name": "stdout",
     "output_type": "stream",
     "text": [
      "w = jacobian >>  0.8673469387755102\n",
      "\n",
      "57 >> 36.242576599121094 [(' basketball', 80.044), (' hockey', 79.997), (' soccer', 79.987), (' baseball', 79.917), (' football', 79.791)]\n",
      "validating on 196 subject --> object associations\n"
     ]
    },
    {
     "data": {
      "application/vnd.jupyter.widget-view+json": {
       "model_id": "0b22465e14a14863986905069010302d",
       "version_major": 2,
       "version_minor": 0
      },
      "text/plain": [
       "  0%|          | 0/196 [00:00<?, ?it/s]"
      ]
     },
     "metadata": {},
     "output_type": "display_data"
    },
    {
     "name": "stdout",
     "output_type": "stream",
     "text": [
      "w = identity >>  0.9846938775510204\n",
      "validating on 196 subject --> object associations\n"
     ]
    },
    {
     "data": {
      "application/vnd.jupyter.widget-view+json": {
       "model_id": "fb62d0fa718f4edb990473700d68c609",
       "version_major": 2,
       "version_minor": 0
      },
      "text/plain": [
       "  0%|          | 0/196 [00:00<?, ?it/s]"
      ]
     },
     "metadata": {},
     "output_type": "display_data"
    },
    {
     "name": "stdout",
     "output_type": "stream",
     "text": [
      "w = jacobian >>  0.8724489795918368\n",
      "\n",
      "60 >> 38.21866226196289 [(' basketball', 81.697), (' hockey', 81.651), (' soccer', 81.603), (' baseball', 81.562), (' football', 81.479)]\n",
      "validating on 196 subject --> object associations\n"
     ]
    },
    {
     "data": {
      "application/vnd.jupyter.widget-view+json": {
       "model_id": "1a03ce27c29542c0abb2c45a7b4c314c",
       "version_major": 2,
       "version_minor": 0
      },
      "text/plain": [
       "  0%|          | 0/196 [00:00<?, ?it/s]"
      ]
     },
     "metadata": {},
     "output_type": "display_data"
    },
    {
     "name": "stdout",
     "output_type": "stream",
     "text": [
      "w = identity >>  0.9846938775510204\n",
      "validating on 196 subject --> object associations\n"
     ]
    },
    {
     "data": {
      "application/vnd.jupyter.widget-view+json": {
       "model_id": "788e2f68272149cca62af97547f35cda",
       "version_major": 2,
       "version_minor": 0
      },
      "text/plain": [
       "  0%|          | 0/196 [00:00<?, ?it/s]"
      ]
     },
     "metadata": {},
     "output_type": "display_data"
    },
    {
     "name": "stdout",
     "output_type": "stream",
     "text": [
      "w = jacobian >>  0.8877551020408163\n",
      "\n",
      "63 >> 40.15553665161133 [(' basketball', 83.112), (' hockey', 83.102), (' baseball', 83.012), (' soccer', 83.007), (' football', 82.922)]\n",
      "validating on 196 subject --> object associations\n"
     ]
    },
    {
     "data": {
      "application/vnd.jupyter.widget-view+json": {
       "model_id": "7d541d59f76b44dcb3688319ba892f08",
       "version_major": 2,
       "version_minor": 0
      },
      "text/plain": [
       "  0%|          | 0/196 [00:00<?, ?it/s]"
      ]
     },
     "metadata": {},
     "output_type": "display_data"
    },
    {
     "name": "stdout",
     "output_type": "stream",
     "text": [
      "w = identity >>  0.9846938775510204\n",
      "validating on 196 subject --> object associations\n"
     ]
    },
    {
     "data": {
      "application/vnd.jupyter.widget-view+json": {
       "model_id": "b238c94574844c5d8b73e2cedb6ec8f3",
       "version_major": 2,
       "version_minor": 0
      },
      "text/plain": [
       "  0%|          | 0/196 [00:00<?, ?it/s]"
      ]
     },
     "metadata": {},
     "output_type": "display_data"
    },
    {
     "name": "stdout",
     "output_type": "stream",
     "text": [
      "w = jacobian >>  0.8724489795918368\n",
      "\n",
      "66 >> 41.229164123535156 [(' hockey', 85.261), (' basketball', 85.242), (' baseball', 85.164), (' soccer', 85.159), (' football', 85.033)]\n",
      "validating on 196 subject --> object associations\n"
     ]
    },
    {
     "data": {
      "application/vnd.jupyter.widget-view+json": {
       "model_id": "e273e7e9955947cea957543b58419fd3",
       "version_major": 2,
       "version_minor": 0
      },
      "text/plain": [
       "  0%|          | 0/196 [00:00<?, ?it/s]"
      ]
     },
     "metadata": {},
     "output_type": "display_data"
    },
    {
     "name": "stdout",
     "output_type": "stream",
     "text": [
      "w = identity >>  0.9846938775510204\n",
      "validating on 196 subject --> object associations\n"
     ]
    },
    {
     "data": {
      "application/vnd.jupyter.widget-view+json": {
       "model_id": "4b2a353463924b9b858eb515f030b2db",
       "version_major": 2,
       "version_minor": 0
      },
      "text/plain": [
       "  0%|          | 0/196 [00:00<?, ?it/s]"
      ]
     },
     "metadata": {},
     "output_type": "display_data"
    },
    {
     "name": "stdout",
     "output_type": "stream",
     "text": [
      "w = jacobian >>  0.8622448979591837\n",
      "\n",
      "69 >> 42.600547790527344 [(' hockey', 87.281), (' basketball', 87.267), (' baseball', 87.19), (' soccer', 87.188), (' football', 87.082)]\n",
      "validating on 196 subject --> object associations\n"
     ]
    },
    {
     "data": {
      "application/vnd.jupyter.widget-view+json": {
       "model_id": "53405cd8d5ce47f78819f747b01f6535",
       "version_major": 2,
       "version_minor": 0
      },
      "text/plain": [
       "  0%|          | 0/196 [00:00<?, ?it/s]"
      ]
     },
     "metadata": {},
     "output_type": "display_data"
    },
    {
     "name": "stdout",
     "output_type": "stream",
     "text": [
      "w = identity >>  0.9846938775510204\n",
      "validating on 196 subject --> object associations\n"
     ]
    },
    {
     "data": {
      "application/vnd.jupyter.widget-view+json": {
       "model_id": "e7c788e7e7084f27b709b0f772c78cc8",
       "version_major": 2,
       "version_minor": 0
      },
      "text/plain": [
       "  0%|          | 0/196 [00:00<?, ?it/s]"
      ]
     },
     "metadata": {},
     "output_type": "display_data"
    },
    {
     "name": "stdout",
     "output_type": "stream",
     "text": [
      "w = jacobian >>  0.8520408163265306\n",
      "\n",
      "72 >> 43.87028503417969 [(' basketball', 89.051), (' hockey', 89.036), (' soccer', 88.972), (' baseball', 88.953), (' football', 88.868)]\n",
      "validating on 196 subject --> object associations\n"
     ]
    },
    {
     "data": {
      "application/vnd.jupyter.widget-view+json": {
       "model_id": "46cdaa9a237f4b7399db1648c807176d",
       "version_major": 2,
       "version_minor": 0
      },
      "text/plain": [
       "  0%|          | 0/196 [00:00<?, ?it/s]"
      ]
     },
     "metadata": {},
     "output_type": "display_data"
    },
    {
     "name": "stdout",
     "output_type": "stream",
     "text": [
      "w = identity >>  0.9846938775510204\n",
      "validating on 196 subject --> object associations\n"
     ]
    },
    {
     "data": {
      "application/vnd.jupyter.widget-view+json": {
       "model_id": "23e71fff097a4d5bab1f80ff3f07fbaa",
       "version_major": 2,
       "version_minor": 0
      },
      "text/plain": [
       "  0%|          | 0/196 [00:00<?, ?it/s]"
      ]
     },
     "metadata": {},
     "output_type": "display_data"
    },
    {
     "name": "stdout",
     "output_type": "stream",
     "text": [
      "w = jacobian >>  0.8826530612244898\n",
      "\n",
      "75 >> 44.92728805541992 [(' basketball', 91.105), (' soccer', 91.066), (' hockey', 91.065), (' baseball', 91.002), (' football', 90.984)]\n",
      "validating on 196 subject --> object associations\n"
     ]
    },
    {
     "data": {
      "application/vnd.jupyter.widget-view+json": {
       "model_id": "28aa51d55de04a09aa49f926b6d0ffd3",
       "version_major": 2,
       "version_minor": 0
      },
      "text/plain": [
       "  0%|          | 0/196 [00:00<?, ?it/s]"
      ]
     },
     "metadata": {},
     "output_type": "display_data"
    },
    {
     "name": "stdout",
     "output_type": "stream",
     "text": [
      "w = identity >>  0.9846938775510204\n",
      "validating on 196 subject --> object associations\n"
     ]
    },
    {
     "data": {
      "application/vnd.jupyter.widget-view+json": {
       "model_id": "ae8053d22ae34653a78cb76dccb0f3da",
       "version_major": 2,
       "version_minor": 0
      },
      "text/plain": [
       "  0%|          | 0/196 [00:00<?, ?it/s]"
      ]
     },
     "metadata": {},
     "output_type": "display_data"
    },
    {
     "name": "stdout",
     "output_type": "stream",
     "text": [
      "w = jacobian >>  0.8571428571428571\n",
      "\n",
      "78 >> 45.51046371459961 [(' basketball', 93.759), (' soccer', 93.714), (' hockey', 93.682), (' football', 93.65), (' baseball', 93.625)]\n",
      "validating on 196 subject --> object associations\n"
     ]
    },
    {
     "data": {
      "application/vnd.jupyter.widget-view+json": {
       "model_id": "be25d891e7ac4f2b8e1f54e301ac4217",
       "version_major": 2,
       "version_minor": 0
      },
      "text/plain": [
       "  0%|          | 0/196 [00:00<?, ?it/s]"
      ]
     },
     "metadata": {},
     "output_type": "display_data"
    },
    {
     "name": "stdout",
     "output_type": "stream",
     "text": [
      "w = identity >>  0.9846938775510204\n",
      "validating on 196 subject --> object associations\n"
     ]
    },
    {
     "data": {
      "application/vnd.jupyter.widget-view+json": {
       "model_id": "62e33c13b01347b8ae5a51313bbe6520",
       "version_major": 2,
       "version_minor": 0
      },
      "text/plain": [
       "  0%|          | 0/196 [00:00<?, ?it/s]"
      ]
     },
     "metadata": {},
     "output_type": "display_data"
    },
    {
     "name": "stdout",
     "output_type": "stream",
     "text": [
      "w = jacobian >>  0.8724489795918368\n",
      "\n",
      "81 >> 45.77156066894531 [(' soccer', 95.934), (' basketball', 95.929), (' football', 95.895), (' hockey', 95.876), (' baseball', 95.826)]\n",
      "validating on 196 subject --> object associations\n"
     ]
    },
    {
     "data": {
      "application/vnd.jupyter.widget-view+json": {
       "model_id": "776dfdef9fbe48e382efec076f966d96",
       "version_major": 2,
       "version_minor": 0
      },
      "text/plain": [
       "  0%|          | 0/196 [00:00<?, ?it/s]"
      ]
     },
     "metadata": {},
     "output_type": "display_data"
    },
    {
     "name": "stdout",
     "output_type": "stream",
     "text": [
      "w = identity >>  0.9846938775510204\n",
      "validating on 196 subject --> object associations\n"
     ]
    },
    {
     "data": {
      "application/vnd.jupyter.widget-view+json": {
       "model_id": "636a978564994fd9a5319243f22332a6",
       "version_major": 2,
       "version_minor": 0
      },
      "text/plain": [
       "  0%|          | 0/196 [00:00<?, ?it/s]"
      ]
     },
     "metadata": {},
     "output_type": "display_data"
    },
    {
     "name": "stdout",
     "output_type": "stream",
     "text": [
      "w = jacobian >>  0.8418367346938775\n",
      "\n",
      "saving results\n",
      "############################################################################################################\n",
      "relation_id >> P103\n",
      "------------------------------------------------------------------------------------------------------\n",
      "unique objects:  30 [' Korean', ' Hungarian', ' Italian', ' Hebrew', ' English']\n"
     ]
    },
    {
     "data": {
      "application/vnd.jupyter.widget-view+json": {
       "model_id": "b2a0892060d84c3cb6a5395bbe491048",
       "version_major": 2,
       "version_minor": 0
      },
      "text/plain": [
       "  0%|          | 0/27 [00:00<?, ?it/s]"
      ]
     },
     "metadata": {},
     "output_type": "display_data"
    },
    {
     "name": "stdout",
     "output_type": "stream",
     "text": [
      "3 >> 14.25125789642334 [('��', 22.164), ('��', 20.514), ('��', 19.995), ('��', 19.984), (' Italians', 19.43)]\n",
      "P103 >> number of requests in counterfact = 919\n",
      "Checking correct prediction with normal calculation ...\n"
     ]
    },
    {
     "data": {
      "application/vnd.jupyter.widget-view+json": {
       "model_id": "76bf32a981fb4a6f87e9aee848bdd8f5",
       "version_major": 2,
       "version_minor": 0
      },
      "text/plain": [
       "  0%|          | 0/919 [00:00<?, ?it/s]"
      ]
     },
     "metadata": {},
     "output_type": "display_data"
    },
    {
     "name": "stdout",
     "output_type": "stream",
     "text": [
      "Number of correctly predicted requests = 745\n",
      "validating on 745 subject --> object associations\n"
     ]
    },
    {
     "data": {
      "application/vnd.jupyter.widget-view+json": {
       "model_id": "9684a71e4a474aff9d11cbaf78de05a6",
       "version_major": 2,
       "version_minor": 0
      },
      "text/plain": [
       "  0%|          | 0/745 [00:00<?, ?it/s]"
      ]
     },
     "metadata": {},
     "output_type": "display_data"
    },
    {
     "name": "stdout",
     "output_type": "stream",
     "text": [
      "w = identity >>  0.6550335570469799\n",
      "validating on 745 subject --> object associations\n"
     ]
    },
    {
     "data": {
      "application/vnd.jupyter.widget-view+json": {
       "model_id": "fefaa0bc40794903ba028156fd880fca",
       "version_major": 2,
       "version_minor": 0
      },
      "text/plain": [
       "  0%|          | 0/745 [00:00<?, ?it/s]"
      ]
     },
     "metadata": {},
     "output_type": "display_data"
    },
    {
     "name": "stdout",
     "output_type": "stream",
     "text": [
      "w = jacobian >>  0.8456375838926175\n",
      "\n",
      "6 >> 14.746711730957031 [('��', 22.068), ('��', 20.427), (' Italians', 20.052), ('��', 19.674), ('��', 19.175)]\n",
      "validating on 745 subject --> object associations\n"
     ]
    },
    {
     "data": {
      "application/vnd.jupyter.widget-view+json": {
       "model_id": "57120650650746aeac5f97d9e333f53d",
       "version_major": 2,
       "version_minor": 0
      },
      "text/plain": [
       "  0%|          | 0/745 [00:00<?, ?it/s]"
      ]
     },
     "metadata": {},
     "output_type": "display_data"
    },
    {
     "name": "stdout",
     "output_type": "stream",
     "text": [
      "w = identity >>  0.6751677852348993\n",
      "validating on 745 subject --> object associations\n"
     ]
    },
    {
     "data": {
      "application/vnd.jupyter.widget-view+json": {
       "model_id": "c86aa110783b4dae8da617d1cafb17d8",
       "version_major": 2,
       "version_minor": 0
      },
      "text/plain": [
       "  0%|          | 0/745 [00:00<?, ?it/s]"
      ]
     },
     "metadata": {},
     "output_type": "display_data"
    },
    {
     "name": "stdout",
     "output_type": "stream",
     "text": [
      "w = jacobian >>  0.8523489932885906\n",
      "\n",
      "9 >> 16.349973678588867 [(' Italians', 22.149), ('��', 20.577), (' Germans', 20.196), (' Koreans', 20.179), (' Frenchman', 19.883)]\n",
      "validating on 745 subject --> object associations\n"
     ]
    },
    {
     "data": {
      "application/vnd.jupyter.widget-view+json": {
       "model_id": "deadac40534346e395e19d8544d07d69",
       "version_major": 2,
       "version_minor": 0
      },
      "text/plain": [
       "  0%|          | 0/745 [00:00<?, ?it/s]"
      ]
     },
     "metadata": {},
     "output_type": "display_data"
    },
    {
     "name": "stdout",
     "output_type": "stream",
     "text": [
      "w = identity >>  0.7476510067114094\n",
      "validating on 745 subject --> object associations\n"
     ]
    },
    {
     "data": {
      "application/vnd.jupyter.widget-view+json": {
       "model_id": "231e876f140c46e5a4bcd4ae404f3fe5",
       "version_major": 2,
       "version_minor": 0
      },
      "text/plain": [
       "  0%|          | 0/745 [00:00<?, ?it/s]"
      ]
     },
     "metadata": {},
     "output_type": "display_data"
    },
    {
     "name": "stdout",
     "output_type": "stream",
     "text": [
      "w = jacobian >>  0.8697986577181208\n",
      "\n",
      "12 >> 16.797813415527344 [(' Italians', 23.169), (' Germans', 21.308), (' Koreans', 21.034), (' Frenchman', 20.898), (' Russians', 20.491)]\n",
      "validating on 745 subject --> object associations\n"
     ]
    },
    {
     "data": {
      "application/vnd.jupyter.widget-view+json": {
       "model_id": "bfe7620fc4c94da59bbca8ca5afe510c",
       "version_major": 2,
       "version_minor": 0
      },
      "text/plain": [
       "  0%|          | 0/745 [00:00<?, ?it/s]"
      ]
     },
     "metadata": {},
     "output_type": "display_data"
    },
    {
     "name": "stdout",
     "output_type": "stream",
     "text": [
      "w = identity >>  0.7838926174496644\n",
      "validating on 745 subject --> object associations\n"
     ]
    },
    {
     "data": {
      "application/vnd.jupyter.widget-view+json": {
       "model_id": "6ccc2ccf114541a1b06704245a83f351",
       "version_major": 2,
       "version_minor": 0
      },
      "text/plain": [
       "  0%|          | 0/745 [00:00<?, ?it/s]"
      ]
     },
     "metadata": {},
     "output_type": "display_data"
    },
    {
     "name": "stdout",
     "output_type": "stream",
     "text": [
      "w = jacobian >>  0.8832214765100671\n",
      "\n",
      "15 >> 16.907608032226562 [(' Lithuan', 25.361), (' Italians', 25.339), (' Vietnamese', 25.18), (' Taiwanese', 24.194), (' Sanskrit', 23.835)]\n",
      "validating on 745 subject --> object associations\n"
     ]
    },
    {
     "data": {
      "application/vnd.jupyter.widget-view+json": {
       "model_id": "a1a912dde1844af2999643fe5653a93e",
       "version_major": 2,
       "version_minor": 0
      },
      "text/plain": [
       "  0%|          | 0/745 [00:00<?, ?it/s]"
      ]
     },
     "metadata": {},
     "output_type": "display_data"
    },
    {
     "name": "stdout",
     "output_type": "stream",
     "text": [
      "w = identity >>  0.8187919463087249\n",
      "validating on 745 subject --> object associations\n"
     ]
    },
    {
     "data": {
      "application/vnd.jupyter.widget-view+json": {
       "model_id": "29e47261a294464b8c445f8f18f5bed5",
       "version_major": 2,
       "version_minor": 0
      },
      "text/plain": [
       "  0%|          | 0/745 [00:00<?, ?it/s]"
      ]
     },
     "metadata": {},
     "output_type": "display_data"
    },
    {
     "name": "stdout",
     "output_type": "stream",
     "text": [
      "w = jacobian >>  0.8953020134228188\n",
      "\n",
      "18 >> 17.4373836517334 [(' Romanian', 29.955), (' Serbian', 29.914), (' Portuguese', 29.897), (' Vietnamese', 29.868), (' Finnish', 29.821)]\n",
      "validating on 745 subject --> object associations\n"
     ]
    },
    {
     "data": {
      "application/vnd.jupyter.widget-view+json": {
       "model_id": "8a0147559f204c75ae5d01c9153a2390",
       "version_major": 2,
       "version_minor": 0
      },
      "text/plain": [
       "  0%|          | 0/745 [00:00<?, ?it/s]"
      ]
     },
     "metadata": {},
     "output_type": "display_data"
    },
    {
     "name": "stdout",
     "output_type": "stream",
     "text": [
      "w = identity >>  0.8456375838926175\n",
      "validating on 745 subject --> object associations\n"
     ]
    },
    {
     "data": {
      "application/vnd.jupyter.widget-view+json": {
       "model_id": "005a6e4ab2b44a4bbe16e24c2bf468cc",
       "version_major": 2,
       "version_minor": 0
      },
      "text/plain": [
       "  0%|          | 0/745 [00:00<?, ?it/s]"
      ]
     },
     "metadata": {},
     "output_type": "display_data"
    },
    {
     "name": "stdout",
     "output_type": "stream",
     "text": [
      "w = jacobian >>  0.9060402684563759\n",
      "\n",
      "21 >> 18.342660903930664 [(' Vietnamese', 36.661), (' Romanian', 35.958), (' Serbian', 35.9), (' Portuguese', 35.821), (' Finnish', 35.813)]\n",
      "validating on 745 subject --> object associations\n"
     ]
    },
    {
     "data": {
      "application/vnd.jupyter.widget-view+json": {
       "model_id": "11befe1f3e5940169a07af777eea97e7",
       "version_major": 2,
       "version_minor": 0
      },
      "text/plain": [
       "  0%|          | 0/745 [00:00<?, ?it/s]"
      ]
     },
     "metadata": {},
     "output_type": "display_data"
    },
    {
     "name": "stdout",
     "output_type": "stream",
     "text": [
      "w = identity >>  0.8966442953020134\n",
      "validating on 745 subject --> object associations\n"
     ]
    },
    {
     "data": {
      "application/vnd.jupyter.widget-view+json": {
       "model_id": "7b1e58cb4749450290a13859257ac3dc",
       "version_major": 2,
       "version_minor": 0
      },
      "text/plain": [
       "  0%|          | 0/745 [00:00<?, ?it/s]"
      ]
     },
     "metadata": {},
     "output_type": "display_data"
    },
    {
     "name": "stdout",
     "output_type": "stream",
     "text": [
      "w = jacobian >>  0.9154362416107382\n",
      "\n",
      "24 >> 19.260448455810547 [(' Romanian', 41.584), (' Serbian', 41.516), (' Ukrainian', 41.516), (' Portuguese', 41.446), (' Finnish', 41.414)]\n",
      "validating on 745 subject --> object associations\n"
     ]
    },
    {
     "data": {
      "application/vnd.jupyter.widget-view+json": {
       "model_id": "8ba666dd79af4e99941835923295e901",
       "version_major": 2,
       "version_minor": 0
      },
      "text/plain": [
       "  0%|          | 0/745 [00:00<?, ?it/s]"
      ]
     },
     "metadata": {},
     "output_type": "display_data"
    },
    {
     "name": "stdout",
     "output_type": "stream",
     "text": [
      "w = identity >>  0.9181208053691275\n",
      "validating on 745 subject --> object associations\n"
     ]
    },
    {
     "data": {
      "application/vnd.jupyter.widget-view+json": {
       "model_id": "aee5cd7e10864ce2890e2c886975a485",
       "version_major": 2,
       "version_minor": 0
      },
      "text/plain": [
       "  0%|          | 0/745 [00:00<?, ?it/s]"
      ]
     },
     "metadata": {},
     "output_type": "display_data"
    },
    {
     "name": "stdout",
     "output_type": "stream",
     "text": [
      "w = jacobian >>  0.9234899328859061\n",
      "\n",
      "27 >> 20.997835159301758 [(' Vietnamese', 47.581), (' Serbian', 46.304), (' Romanian', 46.241), (' Portuguese', 46.176), (' Indonesian', 46.148)]\n",
      "validating on 745 subject --> object associations\n"
     ]
    },
    {
     "data": {
      "application/vnd.jupyter.widget-view+json": {
       "model_id": "bdca0e2d7d594a7db23dea357db4cf87",
       "version_major": 2,
       "version_minor": 0
      },
      "text/plain": [
       "  0%|          | 0/745 [00:00<?, ?it/s]"
      ]
     },
     "metadata": {},
     "output_type": "display_data"
    },
    {
     "name": "stdout",
     "output_type": "stream",
     "text": [
      "w = identity >>  0.938255033557047\n",
      "validating on 745 subject --> object associations\n"
     ]
    },
    {
     "data": {
      "application/vnd.jupyter.widget-view+json": {
       "model_id": "85b49c10f91f450e90e36b2df6503676",
       "version_major": 2,
       "version_minor": 0
      },
      "text/plain": [
       "  0%|          | 0/745 [00:00<?, ?it/s]"
      ]
     },
     "metadata": {},
     "output_type": "display_data"
    },
    {
     "name": "stdout",
     "output_type": "stream",
     "text": [
      "w = jacobian >>  0.9302013422818792\n",
      "\n",
      "30 >> 23.239736557006836 [(' Serbian', 49.452), (' Romanian', 49.438), (' Portuguese', 49.397), (' Indonesian', 49.384), (' Finnish', 49.374)]\n",
      "validating on 745 subject --> object associations\n"
     ]
    },
    {
     "data": {
      "application/vnd.jupyter.widget-view+json": {
       "model_id": "251e379eb9744f3dbfa057ce28f1bfa5",
       "version_major": 2,
       "version_minor": 0
      },
      "text/plain": [
       "  0%|          | 0/745 [00:00<?, ?it/s]"
      ]
     },
     "metadata": {},
     "output_type": "display_data"
    },
    {
     "name": "stdout",
     "output_type": "stream",
     "text": [
      "w = identity >>  0.9570469798657718\n",
      "validating on 745 subject --> object associations\n"
     ]
    },
    {
     "data": {
      "application/vnd.jupyter.widget-view+json": {
       "model_id": "dda32b02ed224d10bb9e533d312af0a0",
       "version_major": 2,
       "version_minor": 0
      },
      "text/plain": [
       "  0%|          | 0/745 [00:00<?, ?it/s]"
      ]
     },
     "metadata": {},
     "output_type": "display_data"
    },
    {
     "name": "stdout",
     "output_type": "stream",
     "text": [
      "w = jacobian >>  0.9315436241610738\n",
      "\n",
      "33 >> 25.11420440673828 [(' Finnish', 53.06), (' Serbian', 53.037), (' Portuguese', 53.013), (' Romanian', 52.992), (' Hindi', 52.885)]\n",
      "validating on 745 subject --> object associations\n"
     ]
    },
    {
     "data": {
      "application/vnd.jupyter.widget-view+json": {
       "model_id": "851f11a7dcb243ad83407c16996f78cb",
       "version_major": 2,
       "version_minor": 0
      },
      "text/plain": [
       "  0%|          | 0/745 [00:00<?, ?it/s]"
      ]
     },
     "metadata": {},
     "output_type": "display_data"
    },
    {
     "name": "stdout",
     "output_type": "stream",
     "text": [
      "w = identity >>  0.9583892617449664\n",
      "validating on 745 subject --> object associations\n"
     ]
    },
    {
     "data": {
      "application/vnd.jupyter.widget-view+json": {
       "model_id": "90a708bf117049c7b7ae17d3d35a2237",
       "version_major": 2,
       "version_minor": 0
      },
      "text/plain": [
       "  0%|          | 0/745 [00:00<?, ?it/s]"
      ]
     },
     "metadata": {},
     "output_type": "display_data"
    },
    {
     "name": "stdout",
     "output_type": "stream",
     "text": [
      "w = jacobian >>  0.9369127516778524\n",
      "\n",
      "36 >> 28.03676414489746 [(' Romanian', 55.412), (' Finnish', 55.391), (' Serbian', 55.363), (' Portuguese', 55.316), (' Indonesian', 55.222)]\n",
      "validating on 745 subject --> object associations\n"
     ]
    },
    {
     "data": {
      "application/vnd.jupyter.widget-view+json": {
       "model_id": "83bf692236c14780916f3408a5a0ee8e",
       "version_major": 2,
       "version_minor": 0
      },
      "text/plain": [
       "  0%|          | 0/745 [00:00<?, ?it/s]"
      ]
     },
     "metadata": {},
     "output_type": "display_data"
    },
    {
     "name": "stdout",
     "output_type": "stream",
     "text": [
      "w = identity >>  0.963758389261745\n",
      "validating on 745 subject --> object associations\n"
     ]
    },
    {
     "data": {
      "application/vnd.jupyter.widget-view+json": {
       "model_id": "dc7e1ef1fd8240b48389dcf9a7946a9a",
       "version_major": 2,
       "version_minor": 0
      },
      "text/plain": [
       "  0%|          | 0/745 [00:00<?, ?it/s]"
      ]
     },
     "metadata": {},
     "output_type": "display_data"
    },
    {
     "name": "stdout",
     "output_type": "stream",
     "text": [
      "w = jacobian >>  0.9395973154362416\n",
      "\n",
      "39 >> 30.16738510131836 [(' Serbian', 57.727), (' Romanian', 57.653), (' Ukrainian', 57.574), (' Indonesian', 57.573), (' Finnish', 57.544)]\n",
      "validating on 745 subject --> object associations\n"
     ]
    },
    {
     "data": {
      "application/vnd.jupyter.widget-view+json": {
       "model_id": "cadf4769be3643d39f18d311d6002f20",
       "version_major": 2,
       "version_minor": 0
      },
      "text/plain": [
       "  0%|          | 0/745 [00:00<?, ?it/s]"
      ]
     },
     "metadata": {},
     "output_type": "display_data"
    },
    {
     "name": "stdout",
     "output_type": "stream",
     "text": [
      "w = identity >>  0.9651006711409396\n",
      "validating on 745 subject --> object associations\n"
     ]
    },
    {
     "data": {
      "application/vnd.jupyter.widget-view+json": {
       "model_id": "8a05dacf601448c59637f36b2cba6aae",
       "version_major": 2,
       "version_minor": 0
      },
      "text/plain": [
       "  0%|          | 0/745 [00:00<?, ?it/s]"
      ]
     },
     "metadata": {},
     "output_type": "display_data"
    },
    {
     "name": "stdout",
     "output_type": "stream",
     "text": [
      "w = jacobian >>  0.9449664429530201\n",
      "\n",
      "42 >> 32.74618911743164 [(' Romanian', 59.433), (' Serbian', 59.381), (' Indonesian', 59.301), (' Finnish', 59.296), (' Armenian', 59.259)]\n",
      "validating on 745 subject --> object associations\n"
     ]
    },
    {
     "data": {
      "application/vnd.jupyter.widget-view+json": {
       "model_id": "81c8dd7a317a4eef927d246374513cc3",
       "version_major": 2,
       "version_minor": 0
      },
      "text/plain": [
       "  0%|          | 0/745 [00:00<?, ?it/s]"
      ]
     },
     "metadata": {},
     "output_type": "display_data"
    },
    {
     "name": "stdout",
     "output_type": "stream",
     "text": [
      "w = identity >>  0.9651006711409396\n",
      "validating on 745 subject --> object associations\n"
     ]
    },
    {
     "data": {
      "application/vnd.jupyter.widget-view+json": {
       "model_id": "669eae0d27e3434f96ae2531a74bf559",
       "version_major": 2,
       "version_minor": 0
      },
      "text/plain": [
       "  0%|          | 0/745 [00:00<?, ?it/s]"
      ]
     },
     "metadata": {},
     "output_type": "display_data"
    },
    {
     "name": "stdout",
     "output_type": "stream",
     "text": [
      "w = jacobian >>  0.9463087248322147\n",
      "\n",
      "45 >> 34.9406623840332 [(' Romanian', 61.678), (' Serbian', 61.516), (' Armenian', 61.432), (' Finnish', 61.372), (' Indonesian', 61.368)]\n",
      "validating on 745 subject --> object associations\n"
     ]
    },
    {
     "data": {
      "application/vnd.jupyter.widget-view+json": {
       "model_id": "b359318388d041deae2f2631eea795ae",
       "version_major": 2,
       "version_minor": 0
      },
      "text/plain": [
       "  0%|          | 0/745 [00:00<?, ?it/s]"
      ]
     },
     "metadata": {},
     "output_type": "display_data"
    },
    {
     "name": "stdout",
     "output_type": "stream",
     "text": [
      "w = identity >>  0.9691275167785235\n",
      "validating on 745 subject --> object associations\n"
     ]
    },
    {
     "data": {
      "application/vnd.jupyter.widget-view+json": {
       "model_id": "f6ef3bb35107461f8639c182fa12b0ee",
       "version_major": 2,
       "version_minor": 0
      },
      "text/plain": [
       "  0%|          | 0/745 [00:00<?, ?it/s]"
      ]
     },
     "metadata": {},
     "output_type": "display_data"
    },
    {
     "name": "stdout",
     "output_type": "stream",
     "text": [
      "w = jacobian >>  0.9489932885906041\n",
      "\n",
      "48 >> 37.438541412353516 [(' Romanian', 63.527), (' Finnish', 63.324), (' Serbian', 63.211), (' Armenian', 63.204), (' Spanish', 63.148)]\n",
      "validating on 745 subject --> object associations\n"
     ]
    },
    {
     "data": {
      "application/vnd.jupyter.widget-view+json": {
       "model_id": "e86de285b1484e92b7fffe479496fd49",
       "version_major": 2,
       "version_minor": 0
      },
      "text/plain": [
       "  0%|          | 0/745 [00:00<?, ?it/s]"
      ]
     },
     "metadata": {},
     "output_type": "display_data"
    },
    {
     "name": "stdout",
     "output_type": "stream",
     "text": [
      "w = identity >>  0.9691275167785235\n",
      "validating on 745 subject --> object associations\n"
     ]
    },
    {
     "data": {
      "application/vnd.jupyter.widget-view+json": {
       "model_id": "5d230a1c634f49f89313876773b30222",
       "version_major": 2,
       "version_minor": 0
      },
      "text/plain": [
       "  0%|          | 0/745 [00:00<?, ?it/s]"
      ]
     },
     "metadata": {},
     "output_type": "display_data"
    },
    {
     "name": "stdout",
     "output_type": "stream",
     "text": [
      "w = jacobian >>  0.9530201342281879\n",
      "\n",
      "51 >> 38.96472930908203 [(' Romanian', 65.583), (' Finnish', 65.523), (' Turkish', 65.362), (' Serbian', 65.355), (' Indonesian', 65.343)]\n",
      "validating on 745 subject --> object associations\n"
     ]
    },
    {
     "data": {
      "application/vnd.jupyter.widget-view+json": {
       "model_id": "88396a1db4b848c2be71c1faa99e5601",
       "version_major": 2,
       "version_minor": 0
      },
      "text/plain": [
       "  0%|          | 0/745 [00:00<?, ?it/s]"
      ]
     },
     "metadata": {},
     "output_type": "display_data"
    },
    {
     "name": "stdout",
     "output_type": "stream",
     "text": [
      "w = identity >>  0.9677852348993289\n",
      "validating on 745 subject --> object associations\n"
     ]
    },
    {
     "data": {
      "application/vnd.jupyter.widget-view+json": {
       "model_id": "c3ef305e611a4c2e8410e2aeb6bb6de7",
       "version_major": 2,
       "version_minor": 0
      },
      "text/plain": [
       "  0%|          | 0/745 [00:00<?, ?it/s]"
      ]
     },
     "metadata": {},
     "output_type": "display_data"
    },
    {
     "name": "stdout",
     "output_type": "stream",
     "text": [
      "w = jacobian >>  0.9530201342281879\n",
      "\n",
      "54 >> 41.13733673095703 [(' Romanian', 67.514), (' Finnish', 67.297), (' Spanish', 67.225), (' Hindi', 67.177), (' Turkish', 67.104)]\n",
      "validating on 745 subject --> object associations\n"
     ]
    },
    {
     "data": {
      "application/vnd.jupyter.widget-view+json": {
       "model_id": "3f654cebea404956a1c26116dd12aa05",
       "version_major": 2,
       "version_minor": 0
      },
      "text/plain": [
       "  0%|          | 0/745 [00:00<?, ?it/s]"
      ]
     },
     "metadata": {},
     "output_type": "display_data"
    },
    {
     "name": "stdout",
     "output_type": "stream",
     "text": [
      "w = identity >>  0.9677852348993289\n",
      "validating on 745 subject --> object associations\n"
     ]
    },
    {
     "data": {
      "application/vnd.jupyter.widget-view+json": {
       "model_id": "d4c31310414840a3acb134e25e682e9f",
       "version_major": 2,
       "version_minor": 0
      },
      "text/plain": [
       "  0%|          | 0/745 [00:00<?, ?it/s]"
      ]
     },
     "metadata": {},
     "output_type": "display_data"
    },
    {
     "name": "stdout",
     "output_type": "stream",
     "text": [
      "w = jacobian >>  0.9543624161073826\n",
      "\n",
      "57 >> 42.9627571105957 [(' Romanian', 68.938), (' Spanish', 68.753), (' Hindi', 68.731), (' Finnish', 68.711), (' Danish', 68.689)]\n",
      "validating on 745 subject --> object associations\n"
     ]
    },
    {
     "data": {
      "application/vnd.jupyter.widget-view+json": {
       "model_id": "1a7bede412834a9c9964c9152631a38c",
       "version_major": 2,
       "version_minor": 0
      },
      "text/plain": [
       "  0%|          | 0/745 [00:00<?, ?it/s]"
      ]
     },
     "metadata": {},
     "output_type": "display_data"
    },
    {
     "name": "stdout",
     "output_type": "stream",
     "text": [
      "w = identity >>  0.9704697986577181\n",
      "validating on 745 subject --> object associations\n"
     ]
    },
    {
     "data": {
      "application/vnd.jupyter.widget-view+json": {
       "model_id": "d3a09d4119b64387bcc1d2bafad2f6a5",
       "version_major": 2,
       "version_minor": 0
      },
      "text/plain": [
       "  0%|          | 0/745 [00:00<?, ?it/s]"
      ]
     },
     "metadata": {},
     "output_type": "display_data"
    },
    {
     "name": "stdout",
     "output_type": "stream",
     "text": [
      "w = jacobian >>  0.9543624161073826\n",
      "\n",
      "60 >> 44.537967681884766 [(' Romanian', 70.794), (' Turkish', 70.689), (' Spanish', 70.634), (' Hindi', 70.591), (' Danish', 70.535)]\n",
      "validating on 745 subject --> object associations\n"
     ]
    },
    {
     "data": {
      "application/vnd.jupyter.widget-view+json": {
       "model_id": "e058354ddba74bc2875f8f5c9cd91446",
       "version_major": 2,
       "version_minor": 0
      },
      "text/plain": [
       "  0%|          | 0/745 [00:00<?, ?it/s]"
      ]
     },
     "metadata": {},
     "output_type": "display_data"
    },
    {
     "name": "stdout",
     "output_type": "stream",
     "text": [
      "w = identity >>  0.9691275167785235\n",
      "validating on 745 subject --> object associations\n"
     ]
    },
    {
     "data": {
      "application/vnd.jupyter.widget-view+json": {
       "model_id": "319d13a7bee943269c26d31870eb17f2",
       "version_major": 2,
       "version_minor": 0
      },
      "text/plain": [
       "  0%|          | 0/745 [00:00<?, ?it/s]"
      ]
     },
     "metadata": {},
     "output_type": "display_data"
    },
    {
     "name": "stdout",
     "output_type": "stream",
     "text": [
      "w = jacobian >>  0.9583892617449664\n",
      "\n",
      "63 >> 45.806396484375 [(' Romanian', 72.882), (' Spanish', 72.813), (' Turkish', 72.688), (' Hindi', 72.517), (' Greek', 72.512)]\n",
      "validating on 745 subject --> object associations\n"
     ]
    },
    {
     "data": {
      "application/vnd.jupyter.widget-view+json": {
       "model_id": "b09c1c5edaf64752a590cbc1134ca0ae",
       "version_major": 2,
       "version_minor": 0
      },
      "text/plain": [
       "  0%|          | 0/745 [00:00<?, ?it/s]"
      ]
     },
     "metadata": {},
     "output_type": "display_data"
    },
    {
     "name": "stdout",
     "output_type": "stream",
     "text": [
      "w = identity >>  0.9691275167785235\n",
      "validating on 745 subject --> object associations\n"
     ]
    },
    {
     "data": {
      "application/vnd.jupyter.widget-view+json": {
       "model_id": "05943fd962334fb188fbf4a6bbbc27a7",
       "version_major": 2,
       "version_minor": 0
      },
      "text/plain": [
       "  0%|          | 0/745 [00:00<?, ?it/s]"
      ]
     },
     "metadata": {},
     "output_type": "display_data"
    },
    {
     "name": "stdout",
     "output_type": "stream",
     "text": [
      "w = jacobian >>  0.959731543624161\n",
      "\n",
      "66 >> 46.9708137512207 [(' Spanish', 74.947), (' Turkish', 74.857), (' Greek', 74.719), (' Romanian', 74.648), (' Polish', 74.334)]\n",
      "validating on 745 subject --> object associations\n"
     ]
    },
    {
     "data": {
      "application/vnd.jupyter.widget-view+json": {
       "model_id": "f53cc2513acb47218e0c7c235e1f3bcf",
       "version_major": 2,
       "version_minor": 0
      },
      "text/plain": [
       "  0%|          | 0/745 [00:00<?, ?it/s]"
      ]
     },
     "metadata": {},
     "output_type": "display_data"
    },
    {
     "name": "stdout",
     "output_type": "stream",
     "text": [
      "w = identity >>  0.9718120805369127\n",
      "validating on 745 subject --> object associations\n"
     ]
    },
    {
     "data": {
      "application/vnd.jupyter.widget-view+json": {
       "model_id": "9b4a61b2727843a4b0255622e89a379a",
       "version_major": 2,
       "version_minor": 0
      },
      "text/plain": [
       "  0%|          | 0/745 [00:00<?, ?it/s]"
      ]
     },
     "metadata": {},
     "output_type": "display_data"
    },
    {
     "name": "stdout",
     "output_type": "stream",
     "text": [
      "w = jacobian >>  0.9583892617449664\n",
      "\n",
      "69 >> 47.72136306762695 [(' Spanish', 77.18), (' Turkish', 77.049), (' Greek', 76.719), (' Romanian', 76.617), (' Polish', 76.365)]\n",
      "validating on 745 subject --> object associations\n"
     ]
    },
    {
     "data": {
      "application/vnd.jupyter.widget-view+json": {
       "model_id": "cf462567328c4129a0b2ce42a7ed7f93",
       "version_major": 2,
       "version_minor": 0
      },
      "text/plain": [
       "  0%|          | 0/745 [00:00<?, ?it/s]"
      ]
     },
     "metadata": {},
     "output_type": "display_data"
    },
    {
     "name": "stdout",
     "output_type": "stream",
     "text": [
      "w = identity >>  0.9718120805369127\n",
      "validating on 745 subject --> object associations\n"
     ]
    },
    {
     "data": {
      "application/vnd.jupyter.widget-view+json": {
       "model_id": "a521f7eb9d6448f4977ba90122783609",
       "version_major": 2,
       "version_minor": 0
      },
      "text/plain": [
       "  0%|          | 0/745 [00:00<?, ?it/s]"
      ]
     },
     "metadata": {},
     "output_type": "display_data"
    },
    {
     "name": "stdout",
     "output_type": "stream",
     "text": [
      "w = jacobian >>  0.959731543624161\n",
      "\n",
      "72 >> 48.233131408691406 [(' Spanish', 79.413), (' Turkish', 79.386), (' Greek', 78.9), (' Romanian', 78.628), (' Polish', 78.375)]\n",
      "validating on 745 subject --> object associations\n"
     ]
    },
    {
     "data": {
      "application/vnd.jupyter.widget-view+json": {
       "model_id": "3f2075e683da4264a2b3431f7053ec21",
       "version_major": 2,
       "version_minor": 0
      },
      "text/plain": [
       "  0%|          | 0/745 [00:00<?, ?it/s]"
      ]
     },
     "metadata": {},
     "output_type": "display_data"
    },
    {
     "name": "stdout",
     "output_type": "stream",
     "text": [
      "w = identity >>  0.9704697986577181\n",
      "validating on 745 subject --> object associations\n"
     ]
    },
    {
     "data": {
      "application/vnd.jupyter.widget-view+json": {
       "model_id": "332a46916a2a487e9405c342a82f4e1b",
       "version_major": 2,
       "version_minor": 0
      },
      "text/plain": [
       "  0%|          | 0/745 [00:00<?, ?it/s]"
      ]
     },
     "metadata": {},
     "output_type": "display_data"
    },
    {
     "name": "stdout",
     "output_type": "stream",
     "text": [
      "w = jacobian >>  0.963758389261745\n",
      "\n",
      "75 >> 48.44004440307617 [(' Spanish', 81.931), (' Turkish', 81.724), (' Greek', 81.494), (' Romanian', 80.995), (' Polish', 80.621)]\n",
      "validating on 745 subject --> object associations\n"
     ]
    },
    {
     "data": {
      "application/vnd.jupyter.widget-view+json": {
       "model_id": "1f5cb80b3adb4428b6ad8a4c9d838b75",
       "version_major": 2,
       "version_minor": 0
      },
      "text/plain": [
       "  0%|          | 0/745 [00:00<?, ?it/s]"
      ]
     },
     "metadata": {},
     "output_type": "display_data"
    },
    {
     "name": "stdout",
     "output_type": "stream",
     "text": [
      "w = identity >>  0.9704697986577181\n",
      "validating on 745 subject --> object associations\n"
     ]
    },
    {
     "data": {
      "application/vnd.jupyter.widget-view+json": {
       "model_id": "2874974835834fa18df733568f0d2489",
       "version_major": 2,
       "version_minor": 0
      },
      "text/plain": [
       "  0%|          | 0/745 [00:00<?, ?it/s]"
      ]
     },
     "metadata": {},
     "output_type": "display_data"
    },
    {
     "name": "stdout",
     "output_type": "stream",
     "text": [
      "w = jacobian >>  0.963758389261745\n",
      "\n",
      "78 >> 48.409324645996094 [(' Spanish', 84.334), (' Turkish', 84.224), (' Greek', 83.535), (' Italian', 82.808), (' Romanian', 82.778)]\n",
      "validating on 745 subject --> object associations\n"
     ]
    },
    {
     "data": {
      "application/vnd.jupyter.widget-view+json": {
       "model_id": "1a23b8e4327745f4b75973d40bea9d33",
       "version_major": 2,
       "version_minor": 0
      },
      "text/plain": [
       "  0%|          | 0/745 [00:00<?, ?it/s]"
      ]
     },
     "metadata": {},
     "output_type": "display_data"
    },
    {
     "name": "stdout",
     "output_type": "stream",
     "text": [
      "w = identity >>  0.9704697986577181\n",
      "validating on 745 subject --> object associations\n"
     ]
    },
    {
     "data": {
      "application/vnd.jupyter.widget-view+json": {
       "model_id": "5a1460eb9c054e3ba1b4ad33bf74a83e",
       "version_major": 2,
       "version_minor": 0
      },
      "text/plain": [
       "  0%|          | 0/745 [00:00<?, ?it/s]"
      ]
     },
     "metadata": {},
     "output_type": "display_data"
    },
    {
     "name": "stdout",
     "output_type": "stream",
     "text": [
      "w = jacobian >>  0.9704697986577181\n",
      "\n",
      "81 >> 48.40924072265625 [(' Spanish', 86.773), (' Turkish', 86.591), (' Greek', 85.962), (' Italian', 85.383), (' Polish', 85.065)]\n",
      "validating on 745 subject --> object associations\n"
     ]
    },
    {
     "data": {
      "application/vnd.jupyter.widget-view+json": {
       "model_id": "df2c862a2cb84402a5b7e25b337ac015",
       "version_major": 2,
       "version_minor": 0
      },
      "text/plain": [
       "  0%|          | 0/745 [00:00<?, ?it/s]"
      ]
     },
     "metadata": {},
     "output_type": "display_data"
    },
    {
     "name": "stdout",
     "output_type": "stream",
     "text": [
      "w = identity >>  0.9691275167785235\n",
      "validating on 745 subject --> object associations\n"
     ]
    },
    {
     "data": {
      "application/vnd.jupyter.widget-view+json": {
       "model_id": "0635a028bedd496bb9da865c2bc62b10",
       "version_major": 2,
       "version_minor": 0
      },
      "text/plain": [
       "  0%|          | 0/745 [00:00<?, ?it/s]"
      ]
     },
     "metadata": {},
     "output_type": "display_data"
    },
    {
     "name": "stdout",
     "output_type": "stream",
     "text": [
      "w = jacobian >>  0.9704697986577181\n",
      "\n",
      "saving results\n",
      "############################################################################################################\n",
      "relation_id >> P176\n",
      "------------------------------------------------------------------------------------------------------\n",
      "unique objects:  37 [' Ferrari', ' Iran', ' Chevrolet', ' Microsoft', ' Toyota']\n"
     ]
    },
    {
     "data": {
      "application/vnd.jupyter.widget-view+json": {
       "model_id": "a53ed23966974168895a2e08f77d6a03",
       "version_major": 2,
       "version_minor": 0
      },
      "text/plain": [
       "  0%|          | 0/27 [00:00<?, ?it/s]"
      ]
     },
     "metadata": {},
     "output_type": "display_data"
    },
    {
     "name": "stdout",
     "output_type": "stream",
     "text": [
      "3 >> 13.566705703735352 [(' gmaxwell', 21.424), ('��', 21.059), ('��', 20.919), (' Sakuya', 20.873), (' SetFontSize', 20.836)]\n",
      "P176 >> number of requests in counterfact = 911\n",
      "Checking correct prediction with normal calculation ...\n"
     ]
    },
    {
     "data": {
      "application/vnd.jupyter.widget-view+json": {
       "model_id": "806a124662df4488ae620c77749e3734",
       "version_major": 2,
       "version_minor": 0
      },
      "text/plain": [
       "  0%|          | 0/911 [00:00<?, ?it/s]"
      ]
     },
     "metadata": {},
     "output_type": "display_data"
    },
    {
     "name": "stdout",
     "output_type": "stream",
     "text": [
      "Number of correctly predicted requests = 544\n",
      "validating on 544 subject --> object associations\n"
     ]
    },
    {
     "data": {
      "application/vnd.jupyter.widget-view+json": {
       "model_id": "76f75a1e4bf24494afa9a524f875db8f",
       "version_major": 2,
       "version_minor": 0
      },
      "text/plain": [
       "  0%|          | 0/544 [00:00<?, ?it/s]"
      ]
     },
     "metadata": {},
     "output_type": "display_data"
    },
    {
     "name": "stdout",
     "output_type": "stream",
     "text": [
      "w = identity >>  0.34375\n",
      "validating on 544 subject --> object associations\n"
     ]
    },
    {
     "data": {
      "application/vnd.jupyter.widget-view+json": {
       "model_id": "6c1bcd97eb31404585763c9282ff7478",
       "version_major": 2,
       "version_minor": 0
      },
      "text/plain": [
       "  0%|          | 0/544 [00:00<?, ?it/s]"
      ]
     },
     "metadata": {},
     "output_type": "display_data"
    },
    {
     "name": "stdout",
     "output_type": "stream",
     "text": [
      "w = jacobian >>  0.01838235294117647\n",
      "\n",
      "6 >> 14.349788665771484 [(' Kinnikuman', 20.793), (' gmaxwell', 20.456), (' Sakuya', 20.437), (' Tsukuyomi', 20.43), (' EntityItem', 20.183)]\n",
      "validating on 544 subject --> object associations\n"
     ]
    },
    {
     "data": {
      "application/vnd.jupyter.widget-view+json": {
       "model_id": "750b611e42cb4f5297d4f55f0ef68de2",
       "version_major": 2,
       "version_minor": 0
      },
      "text/plain": [
       "  0%|          | 0/544 [00:00<?, ?it/s]"
      ]
     },
     "metadata": {},
     "output_type": "display_data"
    },
    {
     "name": "stdout",
     "output_type": "stream",
     "text": [
      "w = identity >>  0.38786764705882354\n",
      "validating on 544 subject --> object associations\n"
     ]
    },
    {
     "data": {
      "application/vnd.jupyter.widget-view+json": {
       "model_id": "c70ff001846640fd82adbb5ff2a33479",
       "version_major": 2,
       "version_minor": 0
      },
      "text/plain": [
       "  0%|          | 0/544 [00:00<?, ?it/s]"
      ]
     },
     "metadata": {},
     "output_type": "display_data"
    },
    {
     "name": "stdout",
     "output_type": "stream",
     "text": [
      "w = jacobian >>  0.04595588235294118\n",
      "\n",
      "9 >> 15.768898963928223 [(' Bezos', 20.601), (' Tsukuyomi', 20.442), (' Kinnikuman', 19.882), (' Lenovo', 19.628), (' SetFontSize', 19.605)]\n",
      "validating on 544 subject --> object associations\n"
     ]
    },
    {
     "data": {
      "application/vnd.jupyter.widget-view+json": {
       "model_id": "aae4dc5597f54b21897cb01548f8fd57",
       "version_major": 2,
       "version_minor": 0
      },
      "text/plain": [
       "  0%|          | 0/544 [00:00<?, ?it/s]"
      ]
     },
     "metadata": {},
     "output_type": "display_data"
    },
    {
     "name": "stdout",
     "output_type": "stream",
     "text": [
      "w = identity >>  0.47058823529411764\n",
      "validating on 544 subject --> object associations\n"
     ]
    },
    {
     "data": {
      "application/vnd.jupyter.widget-view+json": {
       "model_id": "bf0a2b297613457d8c0fc77ad498126a",
       "version_major": 2,
       "version_minor": 0
      },
      "text/plain": [
       "  0%|          | 0/544 [00:00<?, ?it/s]"
      ]
     },
     "metadata": {},
     "output_type": "display_data"
    },
    {
     "name": "stdout",
     "output_type": "stream",
     "text": [
      "w = jacobian >>  0.06985294117647059\n",
      "\n",
      "12 >> 16.679710388183594 [(' Lenovo', 22.221), (' Motorola', 21.243), (' Alibaba', 20.62), (' Tsukuyomi', 20.451), (' Bezos', 20.448)]\n",
      "validating on 544 subject --> object associations\n"
     ]
    },
    {
     "data": {
      "application/vnd.jupyter.widget-view+json": {
       "model_id": "02ebaa6aa3434af9a72f6b495892c602",
       "version_major": 2,
       "version_minor": 0
      },
      "text/plain": [
       "  0%|          | 0/544 [00:00<?, ?it/s]"
      ]
     },
     "metadata": {},
     "output_type": "display_data"
    },
    {
     "name": "stdout",
     "output_type": "stream",
     "text": [
      "w = identity >>  0.5422794117647058\n",
      "validating on 544 subject --> object associations\n"
     ]
    },
    {
     "data": {
      "application/vnd.jupyter.widget-view+json": {
       "model_id": "f87658fda0674988ab466e4ddde97e0f",
       "version_major": 2,
       "version_minor": 0
      },
      "text/plain": [
       "  0%|          | 0/544 [00:00<?, ?it/s]"
      ]
     },
     "metadata": {},
     "output_type": "display_data"
    },
    {
     "name": "stdout",
     "output_type": "stream",
     "text": [
      "w = jacobian >>  0.11213235294117647\n",
      "\n",
      "15 >> 17.078426361083984 [(' Motorola', 25.749), (' Lenovo', 25.403), (' Mazda', 24.034), (' Hyundai', 23.669), (' Alibaba', 23.29)]\n",
      "validating on 544 subject --> object associations\n"
     ]
    },
    {
     "data": {
      "application/vnd.jupyter.widget-view+json": {
       "model_id": "41ecb4c93147434f893d727aacdc7a44",
       "version_major": 2,
       "version_minor": 0
      },
      "text/plain": [
       "  0%|          | 0/544 [00:00<?, ?it/s]"
      ]
     },
     "metadata": {},
     "output_type": "display_data"
    },
    {
     "name": "stdout",
     "output_type": "stream",
     "text": [
      "w = identity >>  0.5827205882352942\n",
      "validating on 544 subject --> object associations\n"
     ]
    },
    {
     "data": {
      "application/vnd.jupyter.widget-view+json": {
       "model_id": "b0d7f89428fc4d15bf91613c41e39c70",
       "version_major": 2,
       "version_minor": 0
      },
      "text/plain": [
       "  0%|          | 0/544 [00:00<?, ?it/s]"
      ]
     },
     "metadata": {},
     "output_type": "display_data"
    },
    {
     "name": "stdout",
     "output_type": "stream",
     "text": [
      "w = jacobian >>  0.21323529411764705\n",
      "\n",
      "18 >> 17.556528091430664 [(' Motorola', 29.336), (' Lockheed', 28.558), (' Hyundai', 27.732), (' Mazda', 27.717), (' Mercedes', 27.247)]\n",
      "validating on 544 subject --> object associations\n"
     ]
    },
    {
     "data": {
      "application/vnd.jupyter.widget-view+json": {
       "model_id": "e6c7d7e9ad784ba28a84a874371defb1",
       "version_major": 2,
       "version_minor": 0
      },
      "text/plain": [
       "  0%|          | 0/544 [00:00<?, ?it/s]"
      ]
     },
     "metadata": {},
     "output_type": "display_data"
    },
    {
     "name": "stdout",
     "output_type": "stream",
     "text": [
      "w = identity >>  0.6415441176470589\n",
      "validating on 544 subject --> object associations\n"
     ]
    },
    {
     "data": {
      "application/vnd.jupyter.widget-view+json": {
       "model_id": "2586d839027445ad863aff711f60dd2e",
       "version_major": 2,
       "version_minor": 0
      },
      "text/plain": [
       "  0%|          | 0/544 [00:00<?, ?it/s]"
      ]
     },
     "metadata": {},
     "output_type": "display_data"
    },
    {
     "name": "stdout",
     "output_type": "stream",
     "text": [
      "w = jacobian >>  0.33455882352941174\n",
      "\n",
      "21 >> 18.875232696533203 [(' Volkswagen', 36.22), (' Motorola', 35.916), (' Hyundai', 34.388), (' Mercedes', 34.257), (' Mazda', 33.863)]\n",
      "validating on 544 subject --> object associations\n"
     ]
    },
    {
     "data": {
      "application/vnd.jupyter.widget-view+json": {
       "model_id": "54d01815d05248ffaf444f4a5b7ebc8f",
       "version_major": 2,
       "version_minor": 0
      },
      "text/plain": [
       "  0%|          | 0/544 [00:00<?, ?it/s]"
      ]
     },
     "metadata": {},
     "output_type": "display_data"
    },
    {
     "name": "stdout",
     "output_type": "stream",
     "text": [
      "w = identity >>  0.6985294117647058\n",
      "validating on 544 subject --> object associations\n"
     ]
    },
    {
     "data": {
      "application/vnd.jupyter.widget-view+json": {
       "model_id": "1e23644973d3401fb1f60a0b62c34b74",
       "version_major": 2,
       "version_minor": 0
      },
      "text/plain": [
       "  0%|          | 0/544 [00:00<?, ?it/s]"
      ]
     },
     "metadata": {},
     "output_type": "display_data"
    },
    {
     "name": "stdout",
     "output_type": "stream",
     "text": [
      "w = jacobian >>  0.3805147058823529\n",
      "\n",
      "24 >> 20.811443328857422 [(' Volkswagen', 40.578), (' Motorola', 39.092), (' Ford', 38.825), (' Subaru', 38.526), (' Mercedes', 38.51)]\n",
      "validating on 544 subject --> object associations\n"
     ]
    },
    {
     "data": {
      "application/vnd.jupyter.widget-view+json": {
       "model_id": "2b77ed0447b94f59b4e47f67691e3f0a",
       "version_major": 2,
       "version_minor": 0
      },
      "text/plain": [
       "  0%|          | 0/544 [00:00<?, ?it/s]"
      ]
     },
     "metadata": {},
     "output_type": "display_data"
    },
    {
     "name": "stdout",
     "output_type": "stream",
     "text": [
      "w = identity >>  0.7334558823529411\n",
      "validating on 544 subject --> object associations\n"
     ]
    },
    {
     "data": {
      "application/vnd.jupyter.widget-view+json": {
       "model_id": "8e12edc2441442adb9d6e8fc566de74d",
       "version_major": 2,
       "version_minor": 0
      },
      "text/plain": [
       "  0%|          | 0/544 [00:00<?, ?it/s]"
      ]
     },
     "metadata": {},
     "output_type": "display_data"
    },
    {
     "name": "stdout",
     "output_type": "stream",
     "text": [
      "w = jacobian >>  0.3805147058823529\n",
      "\n",
      "27 >> 22.46088218688965 [(' Volkswagen', 43.735), (' Ford', 43.677), (' Mercedes', 43.555), (' Mazda', 42.376), (' Chrysler', 42.242)]\n",
      "validating on 544 subject --> object associations\n"
     ]
    },
    {
     "data": {
      "application/vnd.jupyter.widget-view+json": {
       "model_id": "8be25c731a02423ca6803d3e03059f32",
       "version_major": 2,
       "version_minor": 0
      },
      "text/plain": [
       "  0%|          | 0/544 [00:00<?, ?it/s]"
      ]
     },
     "metadata": {},
     "output_type": "display_data"
    },
    {
     "name": "stdout",
     "output_type": "stream",
     "text": [
      "w = identity >>  0.7555147058823529\n",
      "validating on 544 subject --> object associations\n"
     ]
    },
    {
     "data": {
      "application/vnd.jupyter.widget-view+json": {
       "model_id": "06480b957f0c4077ad55baa0fb22e247",
       "version_major": 2,
       "version_minor": 0
      },
      "text/plain": [
       "  0%|          | 0/544 [00:00<?, ?it/s]"
      ]
     },
     "metadata": {},
     "output_type": "display_data"
    },
    {
     "name": "stdout",
     "output_type": "stream",
     "text": [
      "w = jacobian >>  0.40625\n",
      "\n",
      "30 >> 25.302560806274414 [(' Ford', 47.931), (' Mercedes', 46.047), (' Hyundai', 45.353), (' Chrysler', 45.187), (' Volvo', 45.182)]\n",
      "validating on 544 subject --> object associations\n"
     ]
    },
    {
     "data": {
      "application/vnd.jupyter.widget-view+json": {
       "model_id": "7bdef8f837294e9fa02198e2c9812a66",
       "version_major": 2,
       "version_minor": 0
      },
      "text/plain": [
       "  0%|          | 0/544 [00:00<?, ?it/s]"
      ]
     },
     "metadata": {},
     "output_type": "display_data"
    },
    {
     "name": "stdout",
     "output_type": "stream",
     "text": [
      "w = identity >>  0.7849264705882353\n",
      "validating on 544 subject --> object associations\n"
     ]
    },
    {
     "data": {
      "application/vnd.jupyter.widget-view+json": {
       "model_id": "4304461403864a64ab0c970b010f0a3b",
       "version_major": 2,
       "version_minor": 0
      },
      "text/plain": [
       "  0%|          | 0/544 [00:00<?, ?it/s]"
      ]
     },
     "metadata": {},
     "output_type": "display_data"
    },
    {
     "name": "stdout",
     "output_type": "stream",
     "text": [
      "w = jacobian >>  0.42463235294117646\n",
      "\n",
      "33 >> 27.825132369995117 [(' Ford', 52.087), (' Mercedes', 49.805), (' Volkswagen', 47.454), (' Airbus', 47.416), (' Chrysler', 47.208)]\n",
      "validating on 544 subject --> object associations\n"
     ]
    },
    {
     "data": {
      "application/vnd.jupyter.widget-view+json": {
       "model_id": "316dfca1247445e29f2b9e271855d7d5",
       "version_major": 2,
       "version_minor": 0
      },
      "text/plain": [
       "  0%|          | 0/544 [00:00<?, ?it/s]"
      ]
     },
     "metadata": {},
     "output_type": "display_data"
    },
    {
     "name": "stdout",
     "output_type": "stream",
     "text": [
      "w = identity >>  0.78125\n",
      "validating on 544 subject --> object associations\n"
     ]
    },
    {
     "data": {
      "application/vnd.jupyter.widget-view+json": {
       "model_id": "34ac1ffb4ad44fa4ab09db88d4542bfa",
       "version_major": 2,
       "version_minor": 0
      },
      "text/plain": [
       "  0%|          | 0/544 [00:00<?, ?it/s]"
      ]
     },
     "metadata": {},
     "output_type": "display_data"
    },
    {
     "name": "stdout",
     "output_type": "stream",
     "text": [
      "w = jacobian >>  0.42830882352941174\n",
      "\n",
      "36 >> 30.701631546020508 [(' Ford', 54.197), (' Mercedes', 52.033), (' Airbus', 49.76), (' Volvo', 49.543), (' Chrysler', 49.504)]\n",
      "validating on 544 subject --> object associations\n"
     ]
    },
    {
     "data": {
      "application/vnd.jupyter.widget-view+json": {
       "model_id": "4b7220e940454177ad45fb2500cf663e",
       "version_major": 2,
       "version_minor": 0
      },
      "text/plain": [
       "  0%|          | 0/544 [00:00<?, ?it/s]"
      ]
     },
     "metadata": {},
     "output_type": "display_data"
    },
    {
     "name": "stdout",
     "output_type": "stream",
     "text": [
      "w = identity >>  0.7904411764705882\n",
      "validating on 544 subject --> object associations\n"
     ]
    },
    {
     "data": {
      "application/vnd.jupyter.widget-view+json": {
       "model_id": "9756e18d1a944f01803be41c4a5857b3",
       "version_major": 2,
       "version_minor": 0
      },
      "text/plain": [
       "  0%|          | 0/544 [00:00<?, ?it/s]"
      ]
     },
     "metadata": {},
     "output_type": "display_data"
    },
    {
     "name": "stdout",
     "output_type": "stream",
     "text": [
      "w = jacobian >>  0.41911764705882354\n",
      "\n",
      "39 >> 34.19633865356445 [(' Ford', 57.427), (' Mercedes', 52.506), (' Volkswagen', 51.798), (' Volvo', 51.16), (' Airbus', 51.156)]\n",
      "validating on 544 subject --> object associations\n"
     ]
    },
    {
     "data": {
      "application/vnd.jupyter.widget-view+json": {
       "model_id": "413dc4f0e0114f2ca84167c065801c7e",
       "version_major": 2,
       "version_minor": 0
      },
      "text/plain": [
       "  0%|          | 0/544 [00:00<?, ?it/s]"
      ]
     },
     "metadata": {},
     "output_type": "display_data"
    },
    {
     "name": "stdout",
     "output_type": "stream",
     "text": [
      "w = identity >>  0.7904411764705882\n",
      "validating on 544 subject --> object associations\n"
     ]
    },
    {
     "data": {
      "application/vnd.jupyter.widget-view+json": {
       "model_id": "e77f0bb972134116b34e3b30315d7cd5",
       "version_major": 2,
       "version_minor": 0
      },
      "text/plain": [
       "  0%|          | 0/544 [00:00<?, ?it/s]"
      ]
     },
     "metadata": {},
     "output_type": "display_data"
    },
    {
     "name": "stdout",
     "output_type": "stream",
     "text": [
      "w = jacobian >>  0.39705882352941174\n",
      "\n",
      "42 >> 37.5716667175293 [(' Ford', 58.956), (' Mercedes', 54.943), (' Volkswagen', 52.71), (' Chrysler', 52.57), (' Volvo', 52.536)]\n",
      "validating on 544 subject --> object associations\n"
     ]
    },
    {
     "data": {
      "application/vnd.jupyter.widget-view+json": {
       "model_id": "fd69bee53101416da224d3b91c328954",
       "version_major": 2,
       "version_minor": 0
      },
      "text/plain": [
       "  0%|          | 0/544 [00:00<?, ?it/s]"
      ]
     },
     "metadata": {},
     "output_type": "display_data"
    },
    {
     "name": "stdout",
     "output_type": "stream",
     "text": [
      "w = identity >>  0.8014705882352942\n",
      "validating on 544 subject --> object associations\n"
     ]
    },
    {
     "data": {
      "application/vnd.jupyter.widget-view+json": {
       "model_id": "56a74412935f4505a846b706533cfa67",
       "version_major": 2,
       "version_minor": 0
      },
      "text/plain": [
       "  0%|          | 0/544 [00:00<?, ?it/s]"
      ]
     },
     "metadata": {},
     "output_type": "display_data"
    },
    {
     "name": "stdout",
     "output_type": "stream",
     "text": [
      "w = jacobian >>  0.3860294117647059\n",
      "\n",
      "45 >> 39.83157730102539 [(' Ford', 62.27), (' Mercedes', 56.64), (' Audi', 55.027), (' Chrysler', 54.508), (' Volvo', 54.505)]\n",
      "validating on 544 subject --> object associations\n"
     ]
    },
    {
     "data": {
      "application/vnd.jupyter.widget-view+json": {
       "model_id": "b1ad65da4ccc4746b5e97d24ff2ca2db",
       "version_major": 2,
       "version_minor": 0
      },
      "text/plain": [
       "  0%|          | 0/544 [00:00<?, ?it/s]"
      ]
     },
     "metadata": {},
     "output_type": "display_data"
    },
    {
     "name": "stdout",
     "output_type": "stream",
     "text": [
      "w = identity >>  0.7977941176470589\n",
      "validating on 544 subject --> object associations\n"
     ]
    },
    {
     "data": {
      "application/vnd.jupyter.widget-view+json": {
       "model_id": "9bb86b5718164b4584673b91177bf450",
       "version_major": 2,
       "version_minor": 0
      },
      "text/plain": [
       "  0%|          | 0/544 [00:00<?, ?it/s]"
      ]
     },
     "metadata": {},
     "output_type": "display_data"
    },
    {
     "name": "stdout",
     "output_type": "stream",
     "text": [
      "w = jacobian >>  0.38786764705882354\n",
      "\n",
      "48 >> 41.77400588989258 [(' Ford', 64.139), (' Mercedes', 59.112), (' Audi', 56.565), (' Chrysler', 56.308), (' Boeing', 56.248)]\n",
      "validating on 544 subject --> object associations\n"
     ]
    },
    {
     "data": {
      "application/vnd.jupyter.widget-view+json": {
       "model_id": "d0e5877096364ec2a833e1c86a8cb818",
       "version_major": 2,
       "version_minor": 0
      },
      "text/plain": [
       "  0%|          | 0/544 [00:00<?, ?it/s]"
      ]
     },
     "metadata": {},
     "output_type": "display_data"
    },
    {
     "name": "stdout",
     "output_type": "stream",
     "text": [
      "w = identity >>  0.7904411764705882\n",
      "validating on 544 subject --> object associations\n"
     ]
    },
    {
     "data": {
      "application/vnd.jupyter.widget-view+json": {
       "model_id": "30f147ade10241ae9524b540b0f59cb8",
       "version_major": 2,
       "version_minor": 0
      },
      "text/plain": [
       "  0%|          | 0/544 [00:00<?, ?it/s]"
      ]
     },
     "metadata": {},
     "output_type": "display_data"
    },
    {
     "name": "stdout",
     "output_type": "stream",
     "text": [
      "w = jacobian >>  0.39889705882352944\n",
      "\n",
      "51 >> 43.99237060546875 [(' Ford', 66.416), (' Mercedes', 60.154), (' Boeing', 58.226), (' Toyota', 58.088), (' Chrysler', 58.047)]\n",
      "validating on 544 subject --> object associations\n"
     ]
    },
    {
     "data": {
      "application/vnd.jupyter.widget-view+json": {
       "model_id": "dc95758365254f48b42d8c27f9d72aee",
       "version_major": 2,
       "version_minor": 0
      },
      "text/plain": [
       "  0%|          | 0/544 [00:00<?, ?it/s]"
      ]
     },
     "metadata": {},
     "output_type": "display_data"
    },
    {
     "name": "stdout",
     "output_type": "stream",
     "text": [
      "w = identity >>  0.8014705882352942\n",
      "validating on 544 subject --> object associations\n"
     ]
    },
    {
     "data": {
      "application/vnd.jupyter.widget-view+json": {
       "model_id": "e464fcbdc00d44bebb3d9c0ce9314787",
       "version_major": 2,
       "version_minor": 0
      },
      "text/plain": [
       "  0%|          | 0/544 [00:00<?, ?it/s]"
      ]
     },
     "metadata": {},
     "output_type": "display_data"
    },
    {
     "name": "stdout",
     "output_type": "stream",
     "text": [
      "w = jacobian >>  0.41360294117647056\n",
      "\n",
      "54 >> 45.00937271118164 [(' Ford', 68.504), (' Mercedes', 62.366), (' Toyota', 60.254), (' Boeing', 60.231), (' Chrysler', 60.069)]\n",
      "validating on 544 subject --> object associations\n"
     ]
    },
    {
     "data": {
      "application/vnd.jupyter.widget-view+json": {
       "model_id": "0e3ea6f8df674ba2a45c158068439cff",
       "version_major": 2,
       "version_minor": 0
      },
      "text/plain": [
       "  0%|          | 0/544 [00:00<?, ?it/s]"
      ]
     },
     "metadata": {},
     "output_type": "display_data"
    },
    {
     "name": "stdout",
     "output_type": "stream",
     "text": [
      "w = identity >>  0.8033088235294118\n",
      "validating on 544 subject --> object associations\n"
     ]
    },
    {
     "data": {
      "application/vnd.jupyter.widget-view+json": {
       "model_id": "99b167a228ef447fb7b60d77e1aaa8fc",
       "version_major": 2,
       "version_minor": 0
      },
      "text/plain": [
       "  0%|          | 0/544 [00:00<?, ?it/s]"
      ]
     },
     "metadata": {},
     "output_type": "display_data"
    },
    {
     "name": "stdout",
     "output_type": "stream",
     "text": [
      "w = jacobian >>  0.4411764705882353\n",
      "\n",
      "57 >> 46.03369140625 [(' Ford', 71.12), (' Mercedes', 64.634), (' Toyota', 62.766), (' Boeing', 62.383), (' Honda', 62.317)]\n",
      "validating on 544 subject --> object associations\n"
     ]
    },
    {
     "data": {
      "application/vnd.jupyter.widget-view+json": {
       "model_id": "287b4117ed3f483c921951fd042637e1",
       "version_major": 2,
       "version_minor": 0
      },
      "text/plain": [
       "  0%|          | 0/544 [00:00<?, ?it/s]"
      ]
     },
     "metadata": {},
     "output_type": "display_data"
    },
    {
     "name": "stdout",
     "output_type": "stream",
     "text": [
      "w = identity >>  0.8033088235294118\n",
      "validating on 544 subject --> object associations\n"
     ]
    },
    {
     "data": {
      "application/vnd.jupyter.widget-view+json": {
       "model_id": "f9193dec90834785aba7b825513bc939",
       "version_major": 2,
       "version_minor": 0
      },
      "text/plain": [
       "  0%|          | 0/544 [00:00<?, ?it/s]"
      ]
     },
     "metadata": {},
     "output_type": "display_data"
    },
    {
     "name": "stdout",
     "output_type": "stream",
     "text": [
      "w = jacobian >>  0.45955882352941174\n",
      "\n",
      "60 >> 46.47229766845703 [(' Ford', 72.802), (' Mercedes', 66.57), (' Toyota', 65.466), (' Apple', 64.833), (' Honda', 64.816)]\n",
      "validating on 544 subject --> object associations\n"
     ]
    },
    {
     "data": {
      "application/vnd.jupyter.widget-view+json": {
       "model_id": "76719fc7cb14434ab7e0e38b866505dd",
       "version_major": 2,
       "version_minor": 0
      },
      "text/plain": [
       "  0%|          | 0/544 [00:00<?, ?it/s]"
      ]
     },
     "metadata": {},
     "output_type": "display_data"
    },
    {
     "name": "stdout",
     "output_type": "stream",
     "text": [
      "w = identity >>  0.8235294117647058\n",
      "validating on 544 subject --> object associations\n"
     ]
    },
    {
     "data": {
      "application/vnd.jupyter.widget-view+json": {
       "model_id": "f9fc154ef2d04d9c9cb3b2617804497d",
       "version_major": 2,
       "version_minor": 0
      },
      "text/plain": [
       "  0%|          | 0/544 [00:00<?, ?it/s]"
      ]
     },
     "metadata": {},
     "output_type": "display_data"
    },
    {
     "name": "stdout",
     "output_type": "stream",
     "text": [
      "w = jacobian >>  0.41911764705882354\n",
      "\n",
      "63 >> 46.552207946777344 [(' Ford', 75.943), (' Mercedes', 69.372), (' Toyota', 68.265), (' Honda', 67.609), (' Apple', 67.474)]\n",
      "validating on 544 subject --> object associations\n"
     ]
    },
    {
     "data": {
      "application/vnd.jupyter.widget-view+json": {
       "model_id": "bbb51419cce54d7a9e451de4d7919240",
       "version_major": 2,
       "version_minor": 0
      },
      "text/plain": [
       "  0%|          | 0/544 [00:00<?, ?it/s]"
      ]
     },
     "metadata": {},
     "output_type": "display_data"
    },
    {
     "name": "stdout",
     "output_type": "stream",
     "text": [
      "w = identity >>  0.8033088235294118\n",
      "validating on 544 subject --> object associations\n"
     ]
    },
    {
     "data": {
      "application/vnd.jupyter.widget-view+json": {
       "model_id": "aba6adde6ed0486e95a20d4678cea1ad",
       "version_major": 2,
       "version_minor": 0
      },
      "text/plain": [
       "  0%|          | 0/544 [00:00<?, ?it/s]"
      ]
     },
     "metadata": {},
     "output_type": "display_data"
    },
    {
     "name": "stdout",
     "output_type": "stream",
     "text": [
      "w = jacobian >>  0.4117647058823529\n",
      "\n",
      "66 >> 46.9334831237793 [(' Ford', 78.235), (' Mercedes', 71.496), (' Toyota', 71.246), (' Honda', 70.553), (' Apple', 70.237)]\n",
      "validating on 544 subject --> object associations\n"
     ]
    },
    {
     "data": {
      "application/vnd.jupyter.widget-view+json": {
       "model_id": "e409ff00bbf74b48aae1c16fa1b2f835",
       "version_major": 2,
       "version_minor": 0
      },
      "text/plain": [
       "  0%|          | 0/544 [00:00<?, ?it/s]"
      ]
     },
     "metadata": {},
     "output_type": "display_data"
    },
    {
     "name": "stdout",
     "output_type": "stream",
     "text": [
      "w = identity >>  0.8051470588235294\n",
      "validating on 544 subject --> object associations\n"
     ]
    },
    {
     "data": {
      "application/vnd.jupyter.widget-view+json": {
       "model_id": "7f86bf1fc5be45a798970df1b5dafeb5",
       "version_major": 2,
       "version_minor": 0
      },
      "text/plain": [
       "  0%|          | 0/544 [00:00<?, ?it/s]"
      ]
     },
     "metadata": {},
     "output_type": "display_data"
    },
    {
     "name": "stdout",
     "output_type": "stream",
     "text": [
      "w = jacobian >>  0.3786764705882353\n",
      "\n",
      "69 >> 46.92643356323242 [(' Ford', 80.44), (' Toyota', 74.056), (' Honda', 73.185), (' Mercedes', 73.054), (' Apple', 72.649)]\n",
      "validating on 544 subject --> object associations\n"
     ]
    },
    {
     "data": {
      "application/vnd.jupyter.widget-view+json": {
       "model_id": "ac40cb2a5d3e4b83beed52474a63ce82",
       "version_major": 2,
       "version_minor": 0
      },
      "text/plain": [
       "  0%|          | 0/544 [00:00<?, ?it/s]"
      ]
     },
     "metadata": {},
     "output_type": "display_data"
    },
    {
     "name": "stdout",
     "output_type": "stream",
     "text": [
      "w = identity >>  0.8069852941176471\n",
      "validating on 544 subject --> object associations\n"
     ]
    },
    {
     "data": {
      "application/vnd.jupyter.widget-view+json": {
       "model_id": "9b6120d8b61a43b7b0ae331e5b69e449",
       "version_major": 2,
       "version_minor": 0
      },
      "text/plain": [
       "  0%|          | 0/544 [00:00<?, ?it/s]"
      ]
     },
     "metadata": {},
     "output_type": "display_data"
    },
    {
     "name": "stdout",
     "output_type": "stream",
     "text": [
      "w = jacobian >>  0.35294117647058826\n",
      "\n",
      "72 >> 46.78799057006836 [(' Ford', 82.014), (' Toyota', 76.524), (' Honda', 75.583), (' Apple', 74.707), (' Mercedes', 74.556)]\n",
      "validating on 544 subject --> object associations\n"
     ]
    },
    {
     "data": {
      "application/vnd.jupyter.widget-view+json": {
       "model_id": "ce51e0f793354d8bbc40aae7ad84b53b",
       "version_major": 2,
       "version_minor": 0
      },
      "text/plain": [
       "  0%|          | 0/544 [00:00<?, ?it/s]"
      ]
     },
     "metadata": {},
     "output_type": "display_data"
    },
    {
     "name": "stdout",
     "output_type": "stream",
     "text": [
      "w = identity >>  0.7977941176470589\n",
      "validating on 544 subject --> object associations\n"
     ]
    },
    {
     "data": {
      "application/vnd.jupyter.widget-view+json": {
       "model_id": "34ce49eec3224f15a11d916d7ab101ab",
       "version_major": 2,
       "version_minor": 0
      },
      "text/plain": [
       "  0%|          | 0/544 [00:00<?, ?it/s]"
      ]
     },
     "metadata": {},
     "output_type": "display_data"
    },
    {
     "name": "stdout",
     "output_type": "stream",
     "text": [
      "w = jacobian >>  0.3180147058823529\n",
      "\n",
      "75 >> 47.032169342041016 [(' Ford', 83.235), (' Toyota', 78.868), (' Honda', 77.563), (' Apple', 76.452), (' Nissan', 75.726)]\n",
      "validating on 544 subject --> object associations\n"
     ]
    },
    {
     "data": {
      "application/vnd.jupyter.widget-view+json": {
       "model_id": "392e1bfb7b35487490e2c55c9c1d59f5",
       "version_major": 2,
       "version_minor": 0
      },
      "text/plain": [
       "  0%|          | 0/544 [00:00<?, ?it/s]"
      ]
     },
     "metadata": {},
     "output_type": "display_data"
    },
    {
     "name": "stdout",
     "output_type": "stream",
     "text": [
      "w = identity >>  0.7941176470588235\n",
      "validating on 544 subject --> object associations\n"
     ]
    },
    {
     "data": {
      "application/vnd.jupyter.widget-view+json": {
       "model_id": "f6d1809b426849129b4230173f4847c1",
       "version_major": 2,
       "version_minor": 0
      },
      "text/plain": [
       "  0%|          | 0/544 [00:00<?, ?it/s]"
      ]
     },
     "metadata": {},
     "output_type": "display_data"
    },
    {
     "name": "stdout",
     "output_type": "stream",
     "text": [
      "w = jacobian >>  0.31066176470588236\n",
      "\n",
      "78 >> 46.97267532348633 [(' Ford', 84.396), (' Toyota', 80.525), (' Honda', 79.389), (' Apple', 77.686), (' Nissan', 77.313)]\n",
      "validating on 544 subject --> object associations\n"
     ]
    },
    {
     "data": {
      "application/vnd.jupyter.widget-view+json": {
       "model_id": "60d36a740407493bb2582c511dcee5f8",
       "version_major": 2,
       "version_minor": 0
      },
      "text/plain": [
       "  0%|          | 0/544 [00:00<?, ?it/s]"
      ]
     },
     "metadata": {},
     "output_type": "display_data"
    },
    {
     "name": "stdout",
     "output_type": "stream",
     "text": [
      "w = identity >>  0.7941176470588235\n",
      "validating on 544 subject --> object associations\n"
     ]
    },
    {
     "data": {
      "application/vnd.jupyter.widget-view+json": {
       "model_id": "070ebfde40174c319fbda08f74599c52",
       "version_major": 2,
       "version_minor": 0
      },
      "text/plain": [
       "  0%|          | 0/544 [00:00<?, ?it/s]"
      ]
     },
     "metadata": {},
     "output_type": "display_data"
    },
    {
     "name": "stdout",
     "output_type": "stream",
     "text": [
      "w = jacobian >>  0.2977941176470588\n",
      "\n",
      "81 >> 47.0162239074707 [(' Ford', 84.851), (' Toyota', 82.081), (' Honda', 80.682), (' Nissan', 78.703), (' Apple', 78.612)]\n",
      "validating on 544 subject --> object associations\n"
     ]
    },
    {
     "data": {
      "application/vnd.jupyter.widget-view+json": {
       "model_id": "83581fbdd0984980b777970153adbaad",
       "version_major": 2,
       "version_minor": 0
      },
      "text/plain": [
       "  0%|          | 0/544 [00:00<?, ?it/s]"
      ]
     },
     "metadata": {},
     "output_type": "display_data"
    },
    {
     "name": "stdout",
     "output_type": "stream",
     "text": [
      "w = identity >>  0.7830882352941176\n",
      "validating on 544 subject --> object associations\n"
     ]
    },
    {
     "data": {
      "application/vnd.jupyter.widget-view+json": {
       "model_id": "75297a0012644c18adb1a331e664f40e",
       "version_major": 2,
       "version_minor": 0
      },
      "text/plain": [
       "  0%|          | 0/544 [00:00<?, ?it/s]"
      ]
     },
     "metadata": {},
     "output_type": "display_data"
    },
    {
     "name": "stdout",
     "output_type": "stream",
     "text": [
      "w = jacobian >>  0.29963235294117646\n",
      "\n",
      "saving results\n",
      "############################################################################################################\n",
      "relation_id >> P140\n",
      "------------------------------------------------------------------------------------------------------\n",
      "unique objects:  9 [' Scientology', ' Zen', ' Judaism', ' Christianity', ' Buddhism']\n"
     ]
    },
    {
     "data": {
      "application/vnd.jupyter.widget-view+json": {
       "model_id": "f3335251de374bdbae636e4a81c832c9",
       "version_major": 2,
       "version_minor": 0
      },
      "text/plain": [
       "  0%|          | 0/27 [00:00<?, ?it/s]"
      ]
     },
     "metadata": {},
     "output_type": "display_data"
    },
    {
     "name": "stdout",
     "output_type": "stream",
     "text": [
      "3 >> 14.794644355773926 [('��', 22.508), (' gmaxwell', 22.271), ('��', 20.48), (' partName', 19.809), ('��', 19.806)]\n",
      "P140 >> number of requests in counterfact = 430\n",
      "Checking correct prediction with normal calculation ...\n"
     ]
    },
    {
     "data": {
      "application/vnd.jupyter.widget-view+json": {
       "model_id": "bfa7beecdb3749d088acc4036beb060a",
       "version_major": 2,
       "version_minor": 0
      },
      "text/plain": [
       "  0%|          | 0/430 [00:00<?, ?it/s]"
      ]
     },
     "metadata": {},
     "output_type": "display_data"
    },
    {
     "name": "stdout",
     "output_type": "stream",
     "text": [
      "Number of correctly predicted requests = 183\n",
      "validating on 183 subject --> object associations\n"
     ]
    },
    {
     "data": {
      "application/vnd.jupyter.widget-view+json": {
       "model_id": "fbfbf805b6514b3d80e389622faab131",
       "version_major": 2,
       "version_minor": 0
      },
      "text/plain": [
       "  0%|          | 0/183 [00:00<?, ?it/s]"
      ]
     },
     "metadata": {},
     "output_type": "display_data"
    },
    {
     "name": "stdout",
     "output_type": "stream",
     "text": [
      "w = identity >>  0.24043715846994534\n",
      "validating on 183 subject --> object associations\n"
     ]
    },
    {
     "data": {
      "application/vnd.jupyter.widget-view+json": {
       "model_id": "f5c76f64bc614807a1b09bbb6852ad5e",
       "version_major": 2,
       "version_minor": 0
      },
      "text/plain": [
       "  0%|          | 0/183 [00:00<?, ?it/s]"
      ]
     },
     "metadata": {},
     "output_type": "display_data"
    },
    {
     "name": "stdout",
     "output_type": "stream",
     "text": [
      "w = jacobian >>  0.07650273224043716\n",
      "\n",
      "6 >> 14.778254508972168 [('��', 22.595), (' gmaxwell', 21.081), ('��', 20.273), (' SetFontSize', 19.45), (' unbeliev', 19.405)]\n",
      "validating on 183 subject --> object associations\n"
     ]
    },
    {
     "data": {
      "application/vnd.jupyter.widget-view+json": {
       "model_id": "9d69cd2c92334d829a27775ccc80dc8b",
       "version_major": 2,
       "version_minor": 0
      },
      "text/plain": [
       "  0%|          | 0/183 [00:00<?, ?it/s]"
      ]
     },
     "metadata": {},
     "output_type": "display_data"
    },
    {
     "name": "stdout",
     "output_type": "stream",
     "text": [
      "w = identity >>  0.26229508196721313\n",
      "validating on 183 subject --> object associations\n"
     ]
    },
    {
     "data": {
      "application/vnd.jupyter.widget-view+json": {
       "model_id": "699b4f6b089346059b06b2a28539ce6c",
       "version_major": 2,
       "version_minor": 0
      },
      "text/plain": [
       "  0%|          | 0/183 [00:00<?, ?it/s]"
      ]
     },
     "metadata": {},
     "output_type": "display_data"
    },
    {
     "name": "stdout",
     "output_type": "stream",
     "text": [
      "w = jacobian >>  0.09289617486338798\n",
      "\n",
      "9 >> 16.594932556152344 [('��', 19.025), (' unbeliev', 17.523), (' gmaxwell', 17.403), (' Reincarnated', 17.148), (' Islamists', 17.107)]\n",
      "validating on 183 subject --> object associations\n"
     ]
    },
    {
     "data": {
      "application/vnd.jupyter.widget-view+json": {
       "model_id": "30965d22bf18405f8fafcb035ec18b88",
       "version_major": 2,
       "version_minor": 0
      },
      "text/plain": [
       "  0%|          | 0/183 [00:00<?, ?it/s]"
      ]
     },
     "metadata": {},
     "output_type": "display_data"
    },
    {
     "name": "stdout",
     "output_type": "stream",
     "text": [
      "w = identity >>  0.3551912568306011\n",
      "validating on 183 subject --> object associations\n"
     ]
    },
    {
     "data": {
      "application/vnd.jupyter.widget-view+json": {
       "model_id": "034d5d7413bb4f1e9d3c6116f140ab87",
       "version_major": 2,
       "version_minor": 0
      },
      "text/plain": [
       "  0%|          | 0/183 [00:00<?, ?it/s]"
      ]
     },
     "metadata": {},
     "output_type": "display_data"
    },
    {
     "name": "stdout",
     "output_type": "stream",
     "text": [
      "w = jacobian >>  0.18032786885245902\n",
      "\n",
      "12 >> 16.787738800048828 [(' Buddhist', 18.91), (' Islamists', 18.383), (' Catholicism', 17.804), (' Christianity', 17.776), (' Judaism', 17.713)]\n",
      "validating on 183 subject --> object associations\n"
     ]
    },
    {
     "data": {
      "application/vnd.jupyter.widget-view+json": {
       "model_id": "88f1ef4b6a584f1c852ae3a3ae8972ea",
       "version_major": 2,
       "version_minor": 0
      },
      "text/plain": [
       "  0%|          | 0/183 [00:00<?, ?it/s]"
      ]
     },
     "metadata": {},
     "output_type": "display_data"
    },
    {
     "name": "stdout",
     "output_type": "stream",
     "text": [
      "w = identity >>  0.41530054644808745\n",
      "validating on 183 subject --> object associations\n"
     ]
    },
    {
     "data": {
      "application/vnd.jupyter.widget-view+json": {
       "model_id": "bd53fe72a57949ebbc2d885e277b04a0",
       "version_major": 2,
       "version_minor": 0
      },
      "text/plain": [
       "  0%|          | 0/183 [00:00<?, ?it/s]"
      ]
     },
     "metadata": {},
     "output_type": "display_data"
    },
    {
     "name": "stdout",
     "output_type": "stream",
     "text": [
      "w = jacobian >>  0.22950819672131148\n",
      "\n",
      "15 >> 16.94866180419922 [(' Catholicism', 22.785), (' Christianity', 22.688), (' Judaism', 22.666), (' Scientology', 22.644), (' Buddhism', 22.596)]\n",
      "validating on 183 subject --> object associations\n"
     ]
    },
    {
     "data": {
      "application/vnd.jupyter.widget-view+json": {
       "model_id": "6dd7cd6f644b466fb57e2c8f64f539c3",
       "version_major": 2,
       "version_minor": 0
      },
      "text/plain": [
       "  0%|          | 0/183 [00:00<?, ?it/s]"
      ]
     },
     "metadata": {},
     "output_type": "display_data"
    },
    {
     "name": "stdout",
     "output_type": "stream",
     "text": [
      "w = identity >>  0.47540983606557374\n",
      "validating on 183 subject --> object associations\n"
     ]
    },
    {
     "data": {
      "application/vnd.jupyter.widget-view+json": {
       "model_id": "15f2a597331647aba455cd63eb03c6f5",
       "version_major": 2,
       "version_minor": 0
      },
      "text/plain": [
       "  0%|          | 0/183 [00:00<?, ?it/s]"
      ]
     },
     "metadata": {},
     "output_type": "display_data"
    },
    {
     "name": "stdout",
     "output_type": "stream",
     "text": [
      "w = jacobian >>  0.36065573770491804\n",
      "\n",
      "18 >> 17.275691986083984 [(' Catholicism', 30.119), (' Christianity', 30.025), (' Judaism', 29.97), (' Scientology', 29.933), (' Buddhism', 29.929)]\n",
      "validating on 183 subject --> object associations\n"
     ]
    },
    {
     "data": {
      "application/vnd.jupyter.widget-view+json": {
       "model_id": "5fa30ca311a948fc9d64b30f56cc2cff",
       "version_major": 2,
       "version_minor": 0
      },
      "text/plain": [
       "  0%|          | 0/183 [00:00<?, ?it/s]"
      ]
     },
     "metadata": {},
     "output_type": "display_data"
    },
    {
     "name": "stdout",
     "output_type": "stream",
     "text": [
      "w = identity >>  0.5846994535519126\n",
      "validating on 183 subject --> object associations\n"
     ]
    },
    {
     "data": {
      "application/vnd.jupyter.widget-view+json": {
       "model_id": "790cd52903be4eb7a828c9ceb3ab659b",
       "version_major": 2,
       "version_minor": 0
      },
      "text/plain": [
       "  0%|          | 0/183 [00:00<?, ?it/s]"
      ]
     },
     "metadata": {},
     "output_type": "display_data"
    },
    {
     "name": "stdout",
     "output_type": "stream",
     "text": [
      "w = jacobian >>  0.5191256830601093\n",
      "\n",
      "21 >> 18.42582130432129 [(' Catholicism', 36.084), (' Christianity', 36.004), (' Judaism', 35.986), (' Buddhism', 35.884), (' Scientology', 35.796)]\n",
      "validating on 183 subject --> object associations\n"
     ]
    },
    {
     "data": {
      "application/vnd.jupyter.widget-view+json": {
       "model_id": "fc5fe0ae81aa4171ac86096f915a89b6",
       "version_major": 2,
       "version_minor": 0
      },
      "text/plain": [
       "  0%|          | 0/183 [00:00<?, ?it/s]"
      ]
     },
     "metadata": {},
     "output_type": "display_data"
    },
    {
     "name": "stdout",
     "output_type": "stream",
     "text": [
      "w = identity >>  0.6775956284153005\n",
      "validating on 183 subject --> object associations\n"
     ]
    },
    {
     "data": {
      "application/vnd.jupyter.widget-view+json": {
       "model_id": "25c56ba9f6304b31841b7ebf065ef177",
       "version_major": 2,
       "version_minor": 0
      },
      "text/plain": [
       "  0%|          | 0/183 [00:00<?, ?it/s]"
      ]
     },
     "metadata": {},
     "output_type": "display_data"
    },
    {
     "name": "stdout",
     "output_type": "stream",
     "text": [
      "w = jacobian >>  0.6010928961748634\n",
      "\n",
      "24 >> 19.535537719726562 [(' Catholicism', 41.441), (' Scientology', 41.363), (' Christianity', 41.321), (' Judaism', 41.262), (' Buddhism', 41.25)]\n",
      "validating on 183 subject --> object associations\n"
     ]
    },
    {
     "data": {
      "application/vnd.jupyter.widget-view+json": {
       "model_id": "398e7686e3eb48d8908545ceae00e360",
       "version_major": 2,
       "version_minor": 0
      },
      "text/plain": [
       "  0%|          | 0/183 [00:00<?, ?it/s]"
      ]
     },
     "metadata": {},
     "output_type": "display_data"
    },
    {
     "name": "stdout",
     "output_type": "stream",
     "text": [
      "w = identity >>  0.726775956284153\n",
      "validating on 183 subject --> object associations\n"
     ]
    },
    {
     "data": {
      "application/vnd.jupyter.widget-view+json": {
       "model_id": "5cf68978783c4e67a391a68f135c3c1e",
       "version_major": 2,
       "version_minor": 0
      },
      "text/plain": [
       "  0%|          | 0/183 [00:00<?, ?it/s]"
      ]
     },
     "metadata": {},
     "output_type": "display_data"
    },
    {
     "name": "stdout",
     "output_type": "stream",
     "text": [
      "w = jacobian >>  0.7213114754098361\n",
      "\n",
      "27 >> 21.64206886291504 [(' Catholicism', 45.363), (' Judaism', 45.231), (' Christianity', 45.165), (' Buddhism', 45.055), (' Scientology', 44.984)]\n",
      "validating on 183 subject --> object associations\n"
     ]
    },
    {
     "data": {
      "application/vnd.jupyter.widget-view+json": {
       "model_id": "2d04e518293d41b0a5502045bc7d09e7",
       "version_major": 2,
       "version_minor": 0
      },
      "text/plain": [
       "  0%|          | 0/183 [00:00<?, ?it/s]"
      ]
     },
     "metadata": {},
     "output_type": "display_data"
    },
    {
     "name": "stdout",
     "output_type": "stream",
     "text": [
      "w = identity >>  0.819672131147541\n",
      "validating on 183 subject --> object associations\n"
     ]
    },
    {
     "data": {
      "application/vnd.jupyter.widget-view+json": {
       "model_id": "e61c273042324e1aa958fc74d2cb6cc9",
       "version_major": 2,
       "version_minor": 0
      },
      "text/plain": [
       "  0%|          | 0/183 [00:00<?, ?it/s]"
      ]
     },
     "metadata": {},
     "output_type": "display_data"
    },
    {
     "name": "stdout",
     "output_type": "stream",
     "text": [
      "w = jacobian >>  0.7923497267759563\n",
      "\n",
      "30 >> 23.37689208984375 [(' Catholicism', 49.166), (' Judaism', 49.023), (' Christianity', 48.989), (' Scientology', 48.962), (' Buddhism', 48.911)]\n",
      "validating on 183 subject --> object associations\n"
     ]
    },
    {
     "data": {
      "application/vnd.jupyter.widget-view+json": {
       "model_id": "9ad16be16fd94e5aa4f4a1a0b5e5d621",
       "version_major": 2,
       "version_minor": 0
      },
      "text/plain": [
       "  0%|          | 0/183 [00:00<?, ?it/s]"
      ]
     },
     "metadata": {},
     "output_type": "display_data"
    },
    {
     "name": "stdout",
     "output_type": "stream",
     "text": [
      "w = identity >>  0.8469945355191257\n",
      "validating on 183 subject --> object associations\n"
     ]
    },
    {
     "data": {
      "application/vnd.jupyter.widget-view+json": {
       "model_id": "6a32263ac2b948f98490222368d7ed8d",
       "version_major": 2,
       "version_minor": 0
      },
      "text/plain": [
       "  0%|          | 0/183 [00:00<?, ?it/s]"
      ]
     },
     "metadata": {},
     "output_type": "display_data"
    },
    {
     "name": "stdout",
     "output_type": "stream",
     "text": [
      "w = jacobian >>  0.8360655737704918\n",
      "\n",
      "33 >> 25.076248168945312 [(' Scientology', 52.82), (' Catholicism', 52.778), (' Christianity', 52.739), (' Judaism', 52.626), (' Buddhism', 52.615)]\n",
      "validating on 183 subject --> object associations\n"
     ]
    },
    {
     "data": {
      "application/vnd.jupyter.widget-view+json": {
       "model_id": "445ea6b1e97b4a0981b87e21af345c6a",
       "version_major": 2,
       "version_minor": 0
      },
      "text/plain": [
       "  0%|          | 0/183 [00:00<?, ?it/s]"
      ]
     },
     "metadata": {},
     "output_type": "display_data"
    },
    {
     "name": "stdout",
     "output_type": "stream",
     "text": [
      "w = identity >>  0.8688524590163934\n",
      "validating on 183 subject --> object associations\n"
     ]
    },
    {
     "data": {
      "application/vnd.jupyter.widget-view+json": {
       "model_id": "60a55dcd0a4f405799c2f7adca2e269c",
       "version_major": 2,
       "version_minor": 0
      },
      "text/plain": [
       "  0%|          | 0/183 [00:00<?, ?it/s]"
      ]
     },
     "metadata": {},
     "output_type": "display_data"
    },
    {
     "name": "stdout",
     "output_type": "stream",
     "text": [
      "w = jacobian >>  0.8524590163934426\n",
      "\n",
      "36 >> 28.37071418762207 [(' Catholicism', 54.767), (' Christianity', 54.699), (' Judaism', 54.609), (' Buddhism', 54.53), (' Scientology', 54.478)]\n",
      "validating on 183 subject --> object associations\n"
     ]
    },
    {
     "data": {
      "application/vnd.jupyter.widget-view+json": {
       "model_id": "18c10d8f21ed4f3e96407e4a01cbfe51",
       "version_major": 2,
       "version_minor": 0
      },
      "text/plain": [
       "  0%|          | 0/183 [00:00<?, ?it/s]"
      ]
     },
     "metadata": {},
     "output_type": "display_data"
    },
    {
     "name": "stdout",
     "output_type": "stream",
     "text": [
      "w = identity >>  0.8961748633879781\n",
      "validating on 183 subject --> object associations\n"
     ]
    },
    {
     "data": {
      "application/vnd.jupyter.widget-view+json": {
       "model_id": "fcabeee7433b4fcc832c85cb340cf02c",
       "version_major": 2,
       "version_minor": 0
      },
      "text/plain": [
       "  0%|          | 0/183 [00:00<?, ?it/s]"
      ]
     },
     "metadata": {},
     "output_type": "display_data"
    },
    {
     "name": "stdout",
     "output_type": "stream",
     "text": [
      "w = jacobian >>  0.8907103825136612\n",
      "\n",
      "39 >> 31.23431968688965 [(' Catholicism', 56.818), (' Judaism', 56.749), (' Buddhism', 56.615), (' Christianity', 56.603), (' Scientology', 56.478)]\n",
      "validating on 183 subject --> object associations\n"
     ]
    },
    {
     "data": {
      "application/vnd.jupyter.widget-view+json": {
       "model_id": "ebf5e2655977488eb884f981bc83c5f8",
       "version_major": 2,
       "version_minor": 0
      },
      "text/plain": [
       "  0%|          | 0/183 [00:00<?, ?it/s]"
      ]
     },
     "metadata": {},
     "output_type": "display_data"
    },
    {
     "name": "stdout",
     "output_type": "stream",
     "text": [
      "w = identity >>  0.8907103825136612\n",
      "validating on 183 subject --> object associations\n"
     ]
    },
    {
     "data": {
      "application/vnd.jupyter.widget-view+json": {
       "model_id": "c9cf9d82709f4aad9ac110900d03a324",
       "version_major": 2,
       "version_minor": 0
      },
      "text/plain": [
       "  0%|          | 0/183 [00:00<?, ?it/s]"
      ]
     },
     "metadata": {},
     "output_type": "display_data"
    },
    {
     "name": "stdout",
     "output_type": "stream",
     "text": [
      "w = jacobian >>  0.9289617486338798\n",
      "\n",
      "42 >> 32.49224090576172 [(' Catholicism', 59.45), (' Judaism', 59.392), (' Buddhism', 59.232), (' Christianity', 59.223), (' Zen', 59.171)]\n",
      "validating on 183 subject --> object associations\n"
     ]
    },
    {
     "data": {
      "application/vnd.jupyter.widget-view+json": {
       "model_id": "41a18239f7b046a8bcd610a14cf5c043",
       "version_major": 2,
       "version_minor": 0
      },
      "text/plain": [
       "  0%|          | 0/183 [00:00<?, ?it/s]"
      ]
     },
     "metadata": {},
     "output_type": "display_data"
    },
    {
     "name": "stdout",
     "output_type": "stream",
     "text": [
      "w = identity >>  0.907103825136612\n",
      "validating on 183 subject --> object associations\n"
     ]
    },
    {
     "data": {
      "application/vnd.jupyter.widget-view+json": {
       "model_id": "0969a0d836fd4974ba863a15bff7b668",
       "version_major": 2,
       "version_minor": 0
      },
      "text/plain": [
       "  0%|          | 0/183 [00:00<?, ?it/s]"
      ]
     },
     "metadata": {},
     "output_type": "display_data"
    },
    {
     "name": "stdout",
     "output_type": "stream",
     "text": [
      "w = jacobian >>  0.9453551912568307\n",
      "\n",
      "45 >> 36.00163269042969 [(' Catholicism', 60.472), (' Scientology', 60.386), (' Judaism', 60.364), (' Christianity', 60.328), (' Muslim', 60.308)]\n",
      "validating on 183 subject --> object associations\n"
     ]
    },
    {
     "data": {
      "application/vnd.jupyter.widget-view+json": {
       "model_id": "a7ca1b5b6330494290909911624673e5",
       "version_major": 2,
       "version_minor": 0
      },
      "text/plain": [
       "  0%|          | 0/183 [00:00<?, ?it/s]"
      ]
     },
     "metadata": {},
     "output_type": "display_data"
    },
    {
     "name": "stdout",
     "output_type": "stream",
     "text": [
      "w = identity >>  0.907103825136612\n",
      "validating on 183 subject --> object associations\n"
     ]
    },
    {
     "data": {
      "application/vnd.jupyter.widget-view+json": {
       "model_id": "87140945231a4e6abf4a5e19a59d1cdf",
       "version_major": 2,
       "version_minor": 0
      },
      "text/plain": [
       "  0%|          | 0/183 [00:00<?, ?it/s]"
      ]
     },
     "metadata": {},
     "output_type": "display_data"
    },
    {
     "name": "stdout",
     "output_type": "stream",
     "text": [
      "w = jacobian >>  0.9508196721311475\n",
      "\n",
      "48 >> 37.72759246826172 [(' Scientology', 62.574), (' Catholicism', 62.567), (' Christianity', 62.525), (' Judaism', 62.462), (' Muslim', 62.461)]\n",
      "validating on 183 subject --> object associations\n"
     ]
    },
    {
     "data": {
      "application/vnd.jupyter.widget-view+json": {
       "model_id": "c316ed4345a7456cb5dbb0137a4ca932",
       "version_major": 2,
       "version_minor": 0
      },
      "text/plain": [
       "  0%|          | 0/183 [00:00<?, ?it/s]"
      ]
     },
     "metadata": {},
     "output_type": "display_data"
    },
    {
     "name": "stdout",
     "output_type": "stream",
     "text": [
      "w = identity >>  0.9234972677595629\n",
      "validating on 183 subject --> object associations\n"
     ]
    },
    {
     "data": {
      "application/vnd.jupyter.widget-view+json": {
       "model_id": "8f9874d4feae46968eeee70368f9a172",
       "version_major": 2,
       "version_minor": 0
      },
      "text/plain": [
       "  0%|          | 0/183 [00:00<?, ?it/s]"
      ]
     },
     "metadata": {},
     "output_type": "display_data"
    },
    {
     "name": "stdout",
     "output_type": "stream",
     "text": [
      "w = jacobian >>  0.9726775956284153\n",
      "\n",
      "51 >> 39.686641693115234 [(' Scientology', 64.695), (' Christianity', 64.627), (' Catholicism', 64.594), (' Judaism', 64.499), (' Buddhism', 64.46)]\n",
      "validating on 183 subject --> object associations\n"
     ]
    },
    {
     "data": {
      "application/vnd.jupyter.widget-view+json": {
       "model_id": "c2b8d463366f45efa8359869a0b0ee5e",
       "version_major": 2,
       "version_minor": 0
      },
      "text/plain": [
       "  0%|          | 0/183 [00:00<?, ?it/s]"
      ]
     },
     "metadata": {},
     "output_type": "display_data"
    },
    {
     "name": "stdout",
     "output_type": "stream",
     "text": [
      "w = identity >>  0.912568306010929\n",
      "validating on 183 subject --> object associations\n"
     ]
    },
    {
     "data": {
      "application/vnd.jupyter.widget-view+json": {
       "model_id": "54e75a9acda24513b2f72bd31b1b1ded",
       "version_major": 2,
       "version_minor": 0
      },
      "text/plain": [
       "  0%|          | 0/183 [00:00<?, ?it/s]"
      ]
     },
     "metadata": {},
     "output_type": "display_data"
    },
    {
     "name": "stdout",
     "output_type": "stream",
     "text": [
      "w = jacobian >>  0.9836065573770492\n",
      "\n",
      "54 >> 41.918365478515625 [(' Christianity', 66.29), (' Scientology', 66.233), (' Catholicism', 66.2), (' Buddhism', 66.135), (' Islam', 66.097)]\n",
      "validating on 183 subject --> object associations\n"
     ]
    },
    {
     "data": {
      "application/vnd.jupyter.widget-view+json": {
       "model_id": "6595173ee4b24fdd867b0f5a9b8b8d65",
       "version_major": 2,
       "version_minor": 0
      },
      "text/plain": [
       "  0%|          | 0/183 [00:00<?, ?it/s]"
      ]
     },
     "metadata": {},
     "output_type": "display_data"
    },
    {
     "name": "stdout",
     "output_type": "stream",
     "text": [
      "w = identity >>  0.912568306010929\n",
      "validating on 183 subject --> object associations\n"
     ]
    },
    {
     "data": {
      "application/vnd.jupyter.widget-view+json": {
       "model_id": "500eeb20623247ac9c8fb7ff33e56cbd",
       "version_major": 2,
       "version_minor": 0
      },
      "text/plain": [
       "  0%|          | 0/183 [00:00<?, ?it/s]"
      ]
     },
     "metadata": {},
     "output_type": "display_data"
    },
    {
     "name": "stdout",
     "output_type": "stream",
     "text": [
      "w = jacobian >>  0.994535519125683\n",
      "\n",
      "57 >> 43.26473617553711 [(' Christianity', 68.525), (' Catholicism', 68.475), (' Buddhism', 68.47), (' Islam', 68.432), (' Scientology', 68.396)]\n",
      "validating on 183 subject --> object associations\n"
     ]
    },
    {
     "data": {
      "application/vnd.jupyter.widget-view+json": {
       "model_id": "15f0688e93e54600a63c7260afaafef6",
       "version_major": 2,
       "version_minor": 0
      },
      "text/plain": [
       "  0%|          | 0/183 [00:00<?, ?it/s]"
      ]
     },
     "metadata": {},
     "output_type": "display_data"
    },
    {
     "name": "stdout",
     "output_type": "stream",
     "text": [
      "w = identity >>  0.9180327868852459\n",
      "validating on 183 subject --> object associations\n"
     ]
    },
    {
     "data": {
      "application/vnd.jupyter.widget-view+json": {
       "model_id": "a9cee1e63d024157b672de91b3032222",
       "version_major": 2,
       "version_minor": 0
      },
      "text/plain": [
       "  0%|          | 0/183 [00:00<?, ?it/s]"
      ]
     },
     "metadata": {},
     "output_type": "display_data"
    },
    {
     "name": "stdout",
     "output_type": "stream",
     "text": [
      "w = jacobian >>  1.0\n",
      "\n",
      "60 >> 44.76430892944336 [(' Buddhism', 70.137), (' Christianity', 70.134), (' Catholicism', 70.119), (' Islam', 70.079), (' Judaism', 70.052)]\n",
      "validating on 183 subject --> object associations\n"
     ]
    },
    {
     "data": {
      "application/vnd.jupyter.widget-view+json": {
       "model_id": "c0cec4020dd245c6b8095f495c8ab3c8",
       "version_major": 2,
       "version_minor": 0
      },
      "text/plain": [
       "  0%|          | 0/183 [00:00<?, ?it/s]"
      ]
     },
     "metadata": {},
     "output_type": "display_data"
    },
    {
     "name": "stdout",
     "output_type": "stream",
     "text": [
      "w = identity >>  0.9289617486338798\n",
      "validating on 183 subject --> object associations\n"
     ]
    },
    {
     "data": {
      "application/vnd.jupyter.widget-view+json": {
       "model_id": "9241bcf2d6054c6c83731f3b55cbdcfe",
       "version_major": 2,
       "version_minor": 0
      },
      "text/plain": [
       "  0%|          | 0/183 [00:00<?, ?it/s]"
      ]
     },
     "metadata": {},
     "output_type": "display_data"
    },
    {
     "name": "stdout",
     "output_type": "stream",
     "text": [
      "w = jacobian >>  1.0\n",
      "\n",
      "63 >> 46.13090515136719 [(' Catholicism', 71.912), (' Buddhism', 71.88), (' Judaism', 71.842), (' Christianity', 71.762), (' Islam', 71.751)]\n",
      "validating on 183 subject --> object associations\n"
     ]
    },
    {
     "data": {
      "application/vnd.jupyter.widget-view+json": {
       "model_id": "fd8902f10e4e44c194c1c0370a5023e6",
       "version_major": 2,
       "version_minor": 0
      },
      "text/plain": [
       "  0%|          | 0/183 [00:00<?, ?it/s]"
      ]
     },
     "metadata": {},
     "output_type": "display_data"
    },
    {
     "name": "stdout",
     "output_type": "stream",
     "text": [
      "w = identity >>  0.9289617486338798\n",
      "validating on 183 subject --> object associations\n"
     ]
    },
    {
     "data": {
      "application/vnd.jupyter.widget-view+json": {
       "model_id": "03c7e180f91f48fbbd4aadc883bd7cf5",
       "version_major": 2,
       "version_minor": 0
      },
      "text/plain": [
       "  0%|          | 0/183 [00:00<?, ?it/s]"
      ]
     },
     "metadata": {},
     "output_type": "display_data"
    },
    {
     "name": "stdout",
     "output_type": "stream",
     "text": [
      "w = jacobian >>  1.0\n",
      "\n",
      "66 >> 46.73650360107422 [(' Catholicism', 74.072), (' Judaism', 73.993), (' Buddhism', 73.973), (' Scientology', 73.901), (' Zen', 73.856)]\n",
      "validating on 183 subject --> object associations\n"
     ]
    },
    {
     "data": {
      "application/vnd.jupyter.widget-view+json": {
       "model_id": "f07b02ede5cc41a29c5f7674b2a188e9",
       "version_major": 2,
       "version_minor": 0
      },
      "text/plain": [
       "  0%|          | 0/183 [00:00<?, ?it/s]"
      ]
     },
     "metadata": {},
     "output_type": "display_data"
    },
    {
     "name": "stdout",
     "output_type": "stream",
     "text": [
      "w = identity >>  0.9289617486338798\n",
      "validating on 183 subject --> object associations\n"
     ]
    },
    {
     "data": {
      "application/vnd.jupyter.widget-view+json": {
       "model_id": "8996061eb3cd47ad89036a7a43350d1e",
       "version_major": 2,
       "version_minor": 0
      },
      "text/plain": [
       "  0%|          | 0/183 [00:00<?, ?it/s]"
      ]
     },
     "metadata": {},
     "output_type": "display_data"
    },
    {
     "name": "stdout",
     "output_type": "stream",
     "text": [
      "w = jacobian >>  1.0\n",
      "\n",
      "69 >> 47.388187408447266 [(' Catholicism', 75.926), (' Judaism', 75.852), (' Scientology', 75.82), (' Zen', 75.795), (' Buddhism', 75.783)]\n",
      "validating on 183 subject --> object associations\n"
     ]
    },
    {
     "data": {
      "application/vnd.jupyter.widget-view+json": {
       "model_id": "b40f2b1b58974e009460cb106e9c2152",
       "version_major": 2,
       "version_minor": 0
      },
      "text/plain": [
       "  0%|          | 0/183 [00:00<?, ?it/s]"
      ]
     },
     "metadata": {},
     "output_type": "display_data"
    },
    {
     "name": "stdout",
     "output_type": "stream",
     "text": [
      "w = identity >>  0.9289617486338798\n",
      "validating on 183 subject --> object associations\n"
     ]
    },
    {
     "data": {
      "application/vnd.jupyter.widget-view+json": {
       "model_id": "7ea09df800eb4e50a9ef9c07ebd2757b",
       "version_major": 2,
       "version_minor": 0
      },
      "text/plain": [
       "  0%|          | 0/183 [00:00<?, ?it/s]"
      ]
     },
     "metadata": {},
     "output_type": "display_data"
    },
    {
     "name": "stdout",
     "output_type": "stream",
     "text": [
      "w = jacobian >>  1.0\n",
      "\n",
      "72 >> 47.593814849853516 [(' Catholicism', 77.681), (' Scientology', 77.639), (' Judaism', 77.62), (' Zen', 77.605), (' Buddhism', 77.562)]\n",
      "validating on 183 subject --> object associations\n"
     ]
    },
    {
     "data": {
      "application/vnd.jupyter.widget-view+json": {
       "model_id": "9215bdce3c644097ad5e606c415a29f5",
       "version_major": 2,
       "version_minor": 0
      },
      "text/plain": [
       "  0%|          | 0/183 [00:00<?, ?it/s]"
      ]
     },
     "metadata": {},
     "output_type": "display_data"
    },
    {
     "name": "stdout",
     "output_type": "stream",
     "text": [
      "w = identity >>  0.9289617486338798\n",
      "validating on 183 subject --> object associations\n"
     ]
    },
    {
     "data": {
      "application/vnd.jupyter.widget-view+json": {
       "model_id": "d1691f96a5134af9a6d562a6f0e37e06",
       "version_major": 2,
       "version_minor": 0
      },
      "text/plain": [
       "  0%|          | 0/183 [00:00<?, ?it/s]"
      ]
     },
     "metadata": {},
     "output_type": "display_data"
    },
    {
     "name": "stdout",
     "output_type": "stream",
     "text": [
      "w = jacobian >>  1.0\n",
      "\n",
      "75 >> 47.929927825927734 [(' Christianity', 79.747), (' Islam', 79.295), (' Buddhism', 79.292), (' Judaism', 79.252), (' Zen', 79.233)]\n",
      "validating on 183 subject --> object associations\n"
     ]
    },
    {
     "data": {
      "application/vnd.jupyter.widget-view+json": {
       "model_id": "8c3e1f10db6d4fcf845971bd57226122",
       "version_major": 2,
       "version_minor": 0
      },
      "text/plain": [
       "  0%|          | 0/183 [00:00<?, ?it/s]"
      ]
     },
     "metadata": {},
     "output_type": "display_data"
    },
    {
     "name": "stdout",
     "output_type": "stream",
     "text": [
      "w = identity >>  0.9289617486338798\n",
      "validating on 183 subject --> object associations\n"
     ]
    },
    {
     "data": {
      "application/vnd.jupyter.widget-view+json": {
       "model_id": "3055d66cfdc64470851d153d28d21d53",
       "version_major": 2,
       "version_minor": 0
      },
      "text/plain": [
       "  0%|          | 0/183 [00:00<?, ?it/s]"
      ]
     },
     "metadata": {},
     "output_type": "display_data"
    },
    {
     "name": "stdout",
     "output_type": "stream",
     "text": [
      "w = jacobian >>  1.0\n",
      "\n",
      "78 >> 47.52384567260742 [(' Christianity', 82.147), (' Islam', 81.546), (' Buddhism', 81.144), (' Judaism', 81.016), (' Muslim', 80.89)]\n",
      "validating on 183 subject --> object associations\n"
     ]
    },
    {
     "data": {
      "application/vnd.jupyter.widget-view+json": {
       "model_id": "540a0a9b6f774883bef34b75f2afbd63",
       "version_major": 2,
       "version_minor": 0
      },
      "text/plain": [
       "  0%|          | 0/183 [00:00<?, ?it/s]"
      ]
     },
     "metadata": {},
     "output_type": "display_data"
    },
    {
     "name": "stdout",
     "output_type": "stream",
     "text": [
      "w = identity >>  0.9508196721311475\n",
      "validating on 183 subject --> object associations\n"
     ]
    },
    {
     "data": {
      "application/vnd.jupyter.widget-view+json": {
       "model_id": "491b9f34a8e841e59349703853b91e91",
       "version_major": 2,
       "version_minor": 0
      },
      "text/plain": [
       "  0%|          | 0/183 [00:00<?, ?it/s]"
      ]
     },
     "metadata": {},
     "output_type": "display_data"
    },
    {
     "name": "stdout",
     "output_type": "stream",
     "text": [
      "w = jacobian >>  1.0\n",
      "\n",
      "81 >> 47.828460693359375 [(' Christianity', 84.47), (' Islam', 83.593), (' Buddhism', 82.494), (' Christian', 82.249), (' Judaism', 82.182)]\n",
      "validating on 183 subject --> object associations\n"
     ]
    },
    {
     "data": {
      "application/vnd.jupyter.widget-view+json": {
       "model_id": "77435c05d2194d25a1cbaee21922704a",
       "version_major": 2,
       "version_minor": 0
      },
      "text/plain": [
       "  0%|          | 0/183 [00:00<?, ?it/s]"
      ]
     },
     "metadata": {},
     "output_type": "display_data"
    },
    {
     "name": "stdout",
     "output_type": "stream",
     "text": [
      "w = identity >>  0.9508196721311475\n",
      "validating on 183 subject --> object associations\n"
     ]
    },
    {
     "data": {
      "application/vnd.jupyter.widget-view+json": {
       "model_id": "bab77de7d4b248bd844c1d68ab6379ef",
       "version_major": 2,
       "version_minor": 0
      },
      "text/plain": [
       "  0%|          | 0/183 [00:00<?, ?it/s]"
      ]
     },
     "metadata": {},
     "output_type": "display_data"
    },
    {
     "name": "stdout",
     "output_type": "stream",
     "text": [
      "w = jacobian >>  1.0\n",
      "\n",
      "saving results\n",
      "############################################################################################################\n",
      "relation_id >> P178\n",
      "------------------------------------------------------------------------------------------------------\n",
      "unique objects:  19 [' Microsoft', ' Amazon', ' Airbus', ' Apple', ' BBC']\n"
     ]
    },
    {
     "data": {
      "application/vnd.jupyter.widget-view+json": {
       "model_id": "fe6a655118b348418cbcc1be338c3fb2",
       "version_major": 2,
       "version_minor": 0
      },
      "text/plain": [
       "  0%|          | 0/27 [00:00<?, ?it/s]"
      ]
     },
     "metadata": {},
     "output_type": "display_data"
    },
    {
     "name": "stdout",
     "output_type": "stream",
     "text": [
      "3 >> 14.375142097473145 [('��', 22.432), (' gmaxwell', 21.652), ('��', 21.228), (' EntityItem', 21.105), (' SetFontSize', 21.09)]\n",
      "P178 >> number of requests in counterfact = 579\n",
      "Checking correct prediction with normal calculation ...\n"
     ]
    },
    {
     "data": {
      "application/vnd.jupyter.widget-view+json": {
       "model_id": "610fc9159ef941c8ba2edea09a0886c7",
       "version_major": 2,
       "version_minor": 0
      },
      "text/plain": [
       "  0%|          | 0/579 [00:00<?, ?it/s]"
      ]
     },
     "metadata": {},
     "output_type": "display_data"
    },
    {
     "name": "stdout",
     "output_type": "stream",
     "text": [
      "Number of correctly predicted requests = 401\n",
      "validating on 401 subject --> object associations\n"
     ]
    },
    {
     "data": {
      "application/vnd.jupyter.widget-view+json": {
       "model_id": "0e5a6a3fd0644a1c8952961711111695",
       "version_major": 2,
       "version_minor": 0
      },
      "text/plain": [
       "  0%|          | 0/401 [00:00<?, ?it/s]"
      ]
     },
     "metadata": {},
     "output_type": "display_data"
    },
    {
     "name": "stdout",
     "output_type": "stream",
     "text": [
      "w = identity >>  0.14962593516209477\n",
      "validating on 401 subject --> object associations\n"
     ]
    },
    {
     "data": {
      "application/vnd.jupyter.widget-view+json": {
       "model_id": "755a5dd5dea44a908685203e2a8efdfa",
       "version_major": 2,
       "version_minor": 0
      },
      "text/plain": [
       "  0%|          | 0/401 [00:00<?, ?it/s]"
      ]
     },
     "metadata": {},
     "output_type": "display_data"
    },
    {
     "name": "stdout",
     "output_type": "stream",
     "text": [
      "w = jacobian >>  0.0\n",
      "\n",
      "6 >> 14.723572731018066 [('��', 21.782), ('��', 20.892), (' gmaxwell', 20.54), (' SetFontSize', 20.28), ('��', 20.071)]\n",
      "validating on 401 subject --> object associations\n"
     ]
    },
    {
     "data": {
      "application/vnd.jupyter.widget-view+json": {
       "model_id": "8c30bf4b6a324ad990992fe8dc4fb30d",
       "version_major": 2,
       "version_minor": 0
      },
      "text/plain": [
       "  0%|          | 0/401 [00:00<?, ?it/s]"
      ]
     },
     "metadata": {},
     "output_type": "display_data"
    },
    {
     "name": "stdout",
     "output_type": "stream",
     "text": [
      "w = identity >>  0.16458852867830423\n",
      "validating on 401 subject --> object associations\n"
     ]
    },
    {
     "data": {
      "application/vnd.jupyter.widget-view+json": {
       "model_id": "37c5168008164d5590e8dca02b385b51",
       "version_major": 2,
       "version_minor": 0
      },
      "text/plain": [
       "  0%|          | 0/401 [00:00<?, ?it/s]"
      ]
     },
     "metadata": {},
     "output_type": "display_data"
    },
    {
     "name": "stdout",
     "output_type": "stream",
     "text": [
      "w = jacobian >>  0.0\n",
      "\n",
      "9 >> 16.026702880859375 [('��', 20.504), (' Sakuya', 19.467), (' SetFontSize', 19.149), (' Bungie', 18.728), (' Bezos', 18.655)]\n",
      "validating on 401 subject --> object associations\n"
     ]
    },
    {
     "data": {
      "application/vnd.jupyter.widget-view+json": {
       "model_id": "e2cf41f48894498daa9b6e0879cea71d",
       "version_major": 2,
       "version_minor": 0
      },
      "text/plain": [
       "  0%|          | 0/401 [00:00<?, ?it/s]"
      ]
     },
     "metadata": {},
     "output_type": "display_data"
    },
    {
     "name": "stdout",
     "output_type": "stream",
     "text": [
      "w = identity >>  0.22942643391521197\n",
      "validating on 401 subject --> object associations\n"
     ]
    },
    {
     "data": {
      "application/vnd.jupyter.widget-view+json": {
       "model_id": "845bc81b477941ccaeac85a54aef9a94",
       "version_major": 2,
       "version_minor": 0
      },
      "text/plain": [
       "  0%|          | 0/401 [00:00<?, ?it/s]"
      ]
     },
     "metadata": {},
     "output_type": "display_data"
    },
    {
     "name": "stdout",
     "output_type": "stream",
     "text": [
      "w = jacobian >>  0.0\n",
      "\n",
      "12 >> 16.53508186340332 [(' Activision', 20.594), (' Bungie', 20.316), (' Motorola', 19.993), (' Qualcomm', 19.574), (' Lenovo', 19.15)]\n",
      "validating on 401 subject --> object associations\n"
     ]
    },
    {
     "data": {
      "application/vnd.jupyter.widget-view+json": {
       "model_id": "e7363489740044cf87ef559edad3452b",
       "version_major": 2,
       "version_minor": 0
      },
      "text/plain": [
       "  0%|          | 0/401 [00:00<?, ?it/s]"
      ]
     },
     "metadata": {},
     "output_type": "display_data"
    },
    {
     "name": "stdout",
     "output_type": "stream",
     "text": [
      "w = identity >>  0.2718204488778055\n",
      "validating on 401 subject --> object associations\n"
     ]
    },
    {
     "data": {
      "application/vnd.jupyter.widget-view+json": {
       "model_id": "b6ea595edafc4ea485447369ee503d42",
       "version_major": 2,
       "version_minor": 0
      },
      "text/plain": [
       "  0%|          | 0/401 [00:00<?, ?it/s]"
      ]
     },
     "metadata": {},
     "output_type": "display_data"
    },
    {
     "name": "stdout",
     "output_type": "stream",
     "text": [
      "w = jacobian >>  0.04987531172069826\n",
      "\n",
      "15 >> 16.921228408813477 [(' Motorola', 24.074), (' Lenovo', 23.521), (' Qualcomm', 22.834), (' Alibaba', 22.582), (' Mozilla', 22.553)]\n",
      "validating on 401 subject --> object associations\n"
     ]
    },
    {
     "data": {
      "application/vnd.jupyter.widget-view+json": {
       "model_id": "95cf4f87090e49ecac5e0fbc959ef36a",
       "version_major": 2,
       "version_minor": 0
      },
      "text/plain": [
       "  0%|          | 0/401 [00:00<?, ?it/s]"
      ]
     },
     "metadata": {},
     "output_type": "display_data"
    },
    {
     "name": "stdout",
     "output_type": "stream",
     "text": [
      "w = identity >>  0.29177057356608477\n",
      "validating on 401 subject --> object associations\n"
     ]
    },
    {
     "data": {
      "application/vnd.jupyter.widget-view+json": {
       "model_id": "55a9c0f881d443558c0ce3a6f87a124e",
       "version_major": 2,
       "version_minor": 0
      },
      "text/plain": [
       "  0%|          | 0/401 [00:00<?, ?it/s]"
      ]
     },
     "metadata": {},
     "output_type": "display_data"
    },
    {
     "name": "stdout",
     "output_type": "stream",
     "text": [
      "w = jacobian >>  0.36658354114713215\n",
      "\n",
      "18 >> 17.40876007080078 [(' Motorola', 28.876), (' Airbus', 28.569), (' Atari', 28.366), (' Nokia', 28.315), (' Nintendo', 28.304)]\n",
      "validating on 401 subject --> object associations\n"
     ]
    },
    {
     "data": {
      "application/vnd.jupyter.widget-view+json": {
       "model_id": "f4b09416db5d4bddb1cf64f523029e8e",
       "version_major": 2,
       "version_minor": 0
      },
      "text/plain": [
       "  0%|          | 0/401 [00:00<?, ?it/s]"
      ]
     },
     "metadata": {},
     "output_type": "display_data"
    },
    {
     "name": "stdout",
     "output_type": "stream",
     "text": [
      "w = identity >>  0.371571072319202\n",
      "validating on 401 subject --> object associations\n"
     ]
    },
    {
     "data": {
      "application/vnd.jupyter.widget-view+json": {
       "model_id": "88d03692f29b420bbc30e4f129da83aa",
       "version_major": 2,
       "version_minor": 0
      },
      "text/plain": [
       "  0%|          | 0/401 [00:00<?, ?it/s]"
      ]
     },
     "metadata": {},
     "output_type": "display_data"
    },
    {
     "name": "stdout",
     "output_type": "stream",
     "text": [
      "w = jacobian >>  0.6184538653366584\n",
      "\n",
      "21 >> 18.324405670166016 [(' Airbus', 34.384), (' Atari', 34.21), (' Nokia', 34.183), (' Sega', 34.111), (' Nintendo', 34.084)]\n",
      "validating on 401 subject --> object associations\n"
     ]
    },
    {
     "data": {
      "application/vnd.jupyter.widget-view+json": {
       "model_id": "df459ff7c85749dd97c6ece02e4a4dd5",
       "version_major": 2,
       "version_minor": 0
      },
      "text/plain": [
       "  0%|          | 0/401 [00:00<?, ?it/s]"
      ]
     },
     "metadata": {},
     "output_type": "display_data"
    },
    {
     "name": "stdout",
     "output_type": "stream",
     "text": [
      "w = identity >>  0.42643391521197005\n",
      "validating on 401 subject --> object associations\n"
     ]
    },
    {
     "data": {
      "application/vnd.jupyter.widget-view+json": {
       "model_id": "f1173cee1bae4040aa238cd5fd6ae398",
       "version_major": 2,
       "version_minor": 0
      },
      "text/plain": [
       "  0%|          | 0/401 [00:00<?, ?it/s]"
      ]
     },
     "metadata": {},
     "output_type": "display_data"
    },
    {
     "name": "stdout",
     "output_type": "stream",
     "text": [
      "w = jacobian >>  0.6309226932668329\n",
      "\n",
      "24 >> 19.913776397705078 [(' Airbus', 39.899), (' Atari', 39.644), (' Sega', 39.525), (' Nintendo', 39.515), (' Nokia', 39.515)]\n",
      "validating on 401 subject --> object associations\n"
     ]
    },
    {
     "data": {
      "application/vnd.jupyter.widget-view+json": {
       "model_id": "ddf686cce3b843c9b695decaa3e4acf7",
       "version_major": 2,
       "version_minor": 0
      },
      "text/plain": [
       "  0%|          | 0/401 [00:00<?, ?it/s]"
      ]
     },
     "metadata": {},
     "output_type": "display_data"
    },
    {
     "name": "stdout",
     "output_type": "stream",
     "text": [
      "w = identity >>  0.5062344139650873\n",
      "validating on 401 subject --> object associations\n"
     ]
    },
    {
     "data": {
      "application/vnd.jupyter.widget-view+json": {
       "model_id": "6cf2ae348e3e48799da9b3699fb62fbf",
       "version_major": 2,
       "version_minor": 0
      },
      "text/plain": [
       "  0%|          | 0/401 [00:00<?, ?it/s]"
      ]
     },
     "metadata": {},
     "output_type": "display_data"
    },
    {
     "name": "stdout",
     "output_type": "stream",
     "text": [
      "w = jacobian >>  0.6359102244389028\n",
      "\n",
      "27 >> 21.692575454711914 [(' Airbus', 43.896), (' Atari', 43.691), (' Sega', 43.597), (' Yahoo', 43.593), (' Nintendo', 43.557)]\n",
      "validating on 401 subject --> object associations\n"
     ]
    },
    {
     "data": {
      "application/vnd.jupyter.widget-view+json": {
       "model_id": "6b4f034125824b3abbde64a0b440df9b",
       "version_major": 2,
       "version_minor": 0
      },
      "text/plain": [
       "  0%|          | 0/401 [00:00<?, ?it/s]"
      ]
     },
     "metadata": {},
     "output_type": "display_data"
    },
    {
     "name": "stdout",
     "output_type": "stream",
     "text": [
      "w = identity >>  0.5660847880299252\n",
      "validating on 401 subject --> object associations\n"
     ]
    },
    {
     "data": {
      "application/vnd.jupyter.widget-view+json": {
       "model_id": "8cc945f761424e74bf451b9a962f0c9d",
       "version_major": 2,
       "version_minor": 0
      },
      "text/plain": [
       "  0%|          | 0/401 [00:00<?, ?it/s]"
      ]
     },
     "metadata": {},
     "output_type": "display_data"
    },
    {
     "name": "stdout",
     "output_type": "stream",
     "text": [
      "w = jacobian >>  0.6084788029925187\n",
      "\n",
      "30 >> 23.993560791015625 [(' Airbus', 46.939), (' Atari', 46.723), (' Nokia', 46.677), (' Nintendo', 46.664), (' Sega', 46.629)]\n",
      "validating on 401 subject --> object associations\n"
     ]
    },
    {
     "data": {
      "application/vnd.jupyter.widget-view+json": {
       "model_id": "4f8881090f9241ecba23c393184f7acb",
       "version_major": 2,
       "version_minor": 0
      },
      "text/plain": [
       "  0%|          | 0/401 [00:00<?, ?it/s]"
      ]
     },
     "metadata": {},
     "output_type": "display_data"
    },
    {
     "name": "stdout",
     "output_type": "stream",
     "text": [
      "w = identity >>  0.6309226932668329\n",
      "validating on 401 subject --> object associations\n"
     ]
    },
    {
     "data": {
      "application/vnd.jupyter.widget-view+json": {
       "model_id": "0206f9a6cd9448f28ef0123b83ed9f7e",
       "version_major": 2,
       "version_minor": 0
      },
      "text/plain": [
       "  0%|          | 0/401 [00:00<?, ?it/s]"
      ]
     },
     "metadata": {},
     "output_type": "display_data"
    },
    {
     "name": "stdout",
     "output_type": "stream",
     "text": [
      "w = jacobian >>  0.6134663341645885\n",
      "\n",
      "33 >> 27.359882354736328 [(' Airbus', 49.668), (' Atari', 49.492), (' Nokia', 49.482), (' Nintendo', 49.379), (' Adobe', 49.373)]\n",
      "validating on 401 subject --> object associations\n"
     ]
    },
    {
     "data": {
      "application/vnd.jupyter.widget-view+json": {
       "model_id": "0365b235d7a940fd8cbe32f7ef795094",
       "version_major": 2,
       "version_minor": 0
      },
      "text/plain": [
       "  0%|          | 0/401 [00:00<?, ?it/s]"
      ]
     },
     "metadata": {},
     "output_type": "display_data"
    },
    {
     "name": "stdout",
     "output_type": "stream",
     "text": [
      "w = identity >>  0.7182044887780549\n",
      "validating on 401 subject --> object associations\n"
     ]
    },
    {
     "data": {
      "application/vnd.jupyter.widget-view+json": {
       "model_id": "9fb982bbff894872851383b2bf322ac4",
       "version_major": 2,
       "version_minor": 0
      },
      "text/plain": [
       "  0%|          | 0/401 [00:00<?, ?it/s]"
      ]
     },
     "metadata": {},
     "output_type": "display_data"
    },
    {
     "name": "stdout",
     "output_type": "stream",
     "text": [
      "w = jacobian >>  0.628428927680798\n",
      "\n",
      "36 >> 30.12855339050293 [(' Airbus', 51.51), (' Atari', 51.299), (' Nokia', 51.168), (' Sega', 51.162), (' Adobe', 51.145)]\n",
      "validating on 401 subject --> object associations\n"
     ]
    },
    {
     "data": {
      "application/vnd.jupyter.widget-view+json": {
       "model_id": "124b004df37048cdafc146542b0c12d6",
       "version_major": 2,
       "version_minor": 0
      },
      "text/plain": [
       "  0%|          | 0/401 [00:00<?, ?it/s]"
      ]
     },
     "metadata": {},
     "output_type": "display_data"
    },
    {
     "name": "stdout",
     "output_type": "stream",
     "text": [
      "w = identity >>  0.773067331670823\n",
      "validating on 401 subject --> object associations\n"
     ]
    },
    {
     "data": {
      "application/vnd.jupyter.widget-view+json": {
       "model_id": "48fb0bd565784383a68d44a2c328b5dc",
       "version_major": 2,
       "version_minor": 0
      },
      "text/plain": [
       "  0%|          | 0/401 [00:00<?, ?it/s]"
      ]
     },
     "metadata": {},
     "output_type": "display_data"
    },
    {
     "name": "stdout",
     "output_type": "stream",
     "text": [
      "w = jacobian >>  0.5935162094763092\n",
      "\n",
      "39 >> 32.02906799316406 [(' Airbus', 54.098), (' Atari', 53.969), (' Yahoo', 53.886), (' Sega', 53.868), (' Boeing', 53.784)]\n",
      "validating on 401 subject --> object associations\n"
     ]
    },
    {
     "data": {
      "application/vnd.jupyter.widget-view+json": {
       "model_id": "1d9ced48340b4aa9a91405575dfe6b04",
       "version_major": 2,
       "version_minor": 0
      },
      "text/plain": [
       "  0%|          | 0/401 [00:00<?, ?it/s]"
      ]
     },
     "metadata": {},
     "output_type": "display_data"
    },
    {
     "name": "stdout",
     "output_type": "stream",
     "text": [
      "w = identity >>  0.8079800498753117\n",
      "validating on 401 subject --> object associations\n"
     ]
    },
    {
     "data": {
      "application/vnd.jupyter.widget-view+json": {
       "model_id": "f27d6c4f100f4954879398bf7c72d8c1",
       "version_major": 2,
       "version_minor": 0
      },
      "text/plain": [
       "  0%|          | 0/401 [00:00<?, ?it/s]"
      ]
     },
     "metadata": {},
     "output_type": "display_data"
    },
    {
     "name": "stdout",
     "output_type": "stream",
     "text": [
      "w = jacobian >>  0.5785536159600998\n",
      "\n",
      "42 >> 35.391780853271484 [(' Airbus', 55.266), (' Yahoo', 55.212), (' Nintendo', 55.173), (' Sega', 55.154), (' Atari', 55.128)]\n",
      "validating on 401 subject --> object associations\n"
     ]
    },
    {
     "data": {
      "application/vnd.jupyter.widget-view+json": {
       "model_id": "1362fc2635e546a0a5a0d1a127c42bc4",
       "version_major": 2,
       "version_minor": 0
      },
      "text/plain": [
       "  0%|          | 0/401 [00:00<?, ?it/s]"
      ]
     },
     "metadata": {},
     "output_type": "display_data"
    },
    {
     "name": "stdout",
     "output_type": "stream",
     "text": [
      "w = identity >>  0.8603491271820449\n",
      "validating on 401 subject --> object associations\n"
     ]
    },
    {
     "data": {
      "application/vnd.jupyter.widget-view+json": {
       "model_id": "a26d0b8df5b44ffba739f8c566489ac6",
       "version_major": 2,
       "version_minor": 0
      },
      "text/plain": [
       "  0%|          | 0/401 [00:00<?, ?it/s]"
      ]
     },
     "metadata": {},
     "output_type": "display_data"
    },
    {
     "name": "stdout",
     "output_type": "stream",
     "text": [
      "w = jacobian >>  0.6134663341645885\n",
      "\n",
      "45 >> 37.996368408203125 [(' Nintendo', 57.127), (' Airbus', 57.076), (' Nokia', 57.074), (' Sony', 57.063), (' IBM', 57.039)]\n",
      "validating on 401 subject --> object associations\n"
     ]
    },
    {
     "data": {
      "application/vnd.jupyter.widget-view+json": {
       "model_id": "7dc425cc4a1549039777c3dca066bbeb",
       "version_major": 2,
       "version_minor": 0
      },
      "text/plain": [
       "  0%|          | 0/401 [00:00<?, ?it/s]"
      ]
     },
     "metadata": {},
     "output_type": "display_data"
    },
    {
     "name": "stdout",
     "output_type": "stream",
     "text": [
      "w = identity >>  0.885286783042394\n",
      "validating on 401 subject --> object associations\n"
     ]
    },
    {
     "data": {
      "application/vnd.jupyter.widget-view+json": {
       "model_id": "e3f8eb8e9ac5409888a86d9d11267916",
       "version_major": 2,
       "version_minor": 0
      },
      "text/plain": [
       "  0%|          | 0/401 [00:00<?, ?it/s]"
      ]
     },
     "metadata": {},
     "output_type": "display_data"
    },
    {
     "name": "stdout",
     "output_type": "stream",
     "text": [
      "w = jacobian >>  0.6583541147132169\n",
      "\n",
      "48 >> 39.98694610595703 [(' Airbus', 59.039), (' Nintendo', 59.012), (' Nokia', 59.0), (' IBM', 58.991), (' Sony', 58.982)]\n",
      "validating on 401 subject --> object associations\n"
     ]
    },
    {
     "data": {
      "application/vnd.jupyter.widget-view+json": {
       "model_id": "1f6d8d3b72354afeac27c1d986a8bd9c",
       "version_major": 2,
       "version_minor": 0
      },
      "text/plain": [
       "  0%|          | 0/401 [00:00<?, ?it/s]"
      ]
     },
     "metadata": {},
     "output_type": "display_data"
    },
    {
     "name": "stdout",
     "output_type": "stream",
     "text": [
      "w = identity >>  0.8952618453865336\n",
      "validating on 401 subject --> object associations\n"
     ]
    },
    {
     "data": {
      "application/vnd.jupyter.widget-view+json": {
       "model_id": "3d9b82afe12f429a882b0f3d430e13db",
       "version_major": 2,
       "version_minor": 0
      },
      "text/plain": [
       "  0%|          | 0/401 [00:00<?, ?it/s]"
      ]
     },
     "metadata": {},
     "output_type": "display_data"
    },
    {
     "name": "stdout",
     "output_type": "stream",
     "text": [
      "w = jacobian >>  0.6733167082294265\n",
      "\n",
      "51 >> 42.36714553833008 [(' Airbus', 60.76), (' Nokia', 60.664), (' Nintendo', 60.638), (' Samsung', 60.621), (' Atari', 60.583)]\n",
      "validating on 401 subject --> object associations\n"
     ]
    },
    {
     "data": {
      "application/vnd.jupyter.widget-view+json": {
       "model_id": "4ee9835550a549ea85144d089366e4f8",
       "version_major": 2,
       "version_minor": 0
      },
      "text/plain": [
       "  0%|          | 0/401 [00:00<?, ?it/s]"
      ]
     },
     "metadata": {},
     "output_type": "display_data"
    },
    {
     "name": "stdout",
     "output_type": "stream",
     "text": [
      "w = identity >>  0.9027431421446384\n",
      "validating on 401 subject --> object associations\n"
     ]
    },
    {
     "data": {
      "application/vnd.jupyter.widget-view+json": {
       "model_id": "06c43c734acb475082095e08dd923bb5",
       "version_major": 2,
       "version_minor": 0
      },
      "text/plain": [
       "  0%|          | 0/401 [00:00<?, ?it/s]"
      ]
     },
     "metadata": {},
     "output_type": "display_data"
    },
    {
     "name": "stdout",
     "output_type": "stream",
     "text": [
      "w = jacobian >>  0.6483790523690773\n",
      "\n",
      "54 >> 44.23917007446289 [(' Airbus', 62.55), (' Atari', 62.317), (' Nokia', 62.315), (' Samsung', 62.27), (' Adobe', 62.224)]\n",
      "validating on 401 subject --> object associations\n"
     ]
    },
    {
     "data": {
      "application/vnd.jupyter.widget-view+json": {
       "model_id": "3caed22bf1034822a7f58ad75599fbed",
       "version_major": 2,
       "version_minor": 0
      },
      "text/plain": [
       "  0%|          | 0/401 [00:00<?, ?it/s]"
      ]
     },
     "metadata": {},
     "output_type": "display_data"
    },
    {
     "name": "stdout",
     "output_type": "stream",
     "text": [
      "w = identity >>  0.9102244389027432\n",
      "validating on 401 subject --> object associations\n"
     ]
    },
    {
     "data": {
      "application/vnd.jupyter.widget-view+json": {
       "model_id": "8ee63d353965417380bc925313c36acd",
       "version_major": 2,
       "version_minor": 0
      },
      "text/plain": [
       "  0%|          | 0/401 [00:00<?, ?it/s]"
      ]
     },
     "metadata": {},
     "output_type": "display_data"
    },
    {
     "name": "stdout",
     "output_type": "stream",
     "text": [
      "w = jacobian >>  0.5935162094763092\n",
      "\n",
      "57 >> 45.3464241027832 [(' Airbus', 64.551), (' Atari', 64.375), (' Adobe', 64.272), (' Nokia', 64.249), (' Sega', 64.226)]\n",
      "validating on 401 subject --> object associations\n"
     ]
    },
    {
     "data": {
      "application/vnd.jupyter.widget-view+json": {
       "model_id": "39799e5e16774e31929c1c56e978f605",
       "version_major": 2,
       "version_minor": 0
      },
      "text/plain": [
       "  0%|          | 0/401 [00:00<?, ?it/s]"
      ]
     },
     "metadata": {},
     "output_type": "display_data"
    },
    {
     "name": "stdout",
     "output_type": "stream",
     "text": [
      "w = identity >>  0.9152119700748129\n",
      "validating on 401 subject --> object associations\n"
     ]
    },
    {
     "data": {
      "application/vnd.jupyter.widget-view+json": {
       "model_id": "56780b46fff4472b8cd935f0ce7662bf",
       "version_major": 2,
       "version_minor": 0
      },
      "text/plain": [
       "  0%|          | 0/401 [00:00<?, ?it/s]"
      ]
     },
     "metadata": {},
     "output_type": "display_data"
    },
    {
     "name": "stdout",
     "output_type": "stream",
     "text": [
      "w = jacobian >>  0.5012468827930174\n",
      "\n",
      "60 >> 46.320289611816406 [(' Airbus', 66.211), (' Atari', 66.122), (' Adobe', 65.984), (' Nokia', 65.963), (' Sega', 65.948)]\n",
      "validating on 401 subject --> object associations\n"
     ]
    },
    {
     "data": {
      "application/vnd.jupyter.widget-view+json": {
       "model_id": "ec4613efa9794f75853934ef00627c88",
       "version_major": 2,
       "version_minor": 0
      },
      "text/plain": [
       "  0%|          | 0/401 [00:00<?, ?it/s]"
      ]
     },
     "metadata": {},
     "output_type": "display_data"
    },
    {
     "name": "stdout",
     "output_type": "stream",
     "text": [
      "w = identity >>  0.9201995012468828\n",
      "validating on 401 subject --> object associations\n"
     ]
    },
    {
     "data": {
      "application/vnd.jupyter.widget-view+json": {
       "model_id": "26e86b8d942f4659baad5fd3bf1a1a1f",
       "version_major": 2,
       "version_minor": 0
      },
      "text/plain": [
       "  0%|          | 0/401 [00:00<?, ?it/s]"
      ]
     },
     "metadata": {},
     "output_type": "display_data"
    },
    {
     "name": "stdout",
     "output_type": "stream",
     "text": [
      "w = jacobian >>  0.5386533665835411\n",
      "\n",
      "63 >> 46.959716796875 [(' Boeing', 67.908), (' Nintendo', 67.834), (' Sony', 67.825), (' Airbus', 67.814), (' Atari', 67.791)]\n",
      "validating on 401 subject --> object associations\n"
     ]
    },
    {
     "data": {
      "application/vnd.jupyter.widget-view+json": {
       "model_id": "d9ef6d55317d478f893caea15c61e04f",
       "version_major": 2,
       "version_minor": 0
      },
      "text/plain": [
       "  0%|          | 0/401 [00:00<?, ?it/s]"
      ]
     },
     "metadata": {},
     "output_type": "display_data"
    },
    {
     "name": "stdout",
     "output_type": "stream",
     "text": [
      "w = identity >>  0.9226932668329177\n",
      "validating on 401 subject --> object associations\n"
     ]
    },
    {
     "data": {
      "application/vnd.jupyter.widget-view+json": {
       "model_id": "f09ada2b931542bc926598fc082ce4a6",
       "version_major": 2,
       "version_minor": 0
      },
      "text/plain": [
       "  0%|          | 0/401 [00:00<?, ?it/s]"
      ]
     },
     "metadata": {},
     "output_type": "display_data"
    },
    {
     "name": "stdout",
     "output_type": "stream",
     "text": [
      "w = jacobian >>  0.6583541147132169\n",
      "\n",
      "66 >> 47.167091369628906 [(' Sony', 70.111), (' Microsoft', 70.07), (' Boeing', 69.899), (' Apple', 69.888), (' IBM', 69.868)]\n",
      "validating on 401 subject --> object associations\n"
     ]
    },
    {
     "data": {
      "application/vnd.jupyter.widget-view+json": {
       "model_id": "9f8444f8cb044084af07dfc894576536",
       "version_major": 2,
       "version_minor": 0
      },
      "text/plain": [
       "  0%|          | 0/401 [00:00<?, ?it/s]"
      ]
     },
     "metadata": {},
     "output_type": "display_data"
    },
    {
     "name": "stdout",
     "output_type": "stream",
     "text": [
      "w = identity >>  0.9251870324189526\n",
      "validating on 401 subject --> object associations\n"
     ]
    },
    {
     "data": {
      "application/vnd.jupyter.widget-view+json": {
       "model_id": "71d8fb62b50644ffaf0d4167afda9a3f",
       "version_major": 2,
       "version_minor": 0
      },
      "text/plain": [
       "  0%|          | 0/401 [00:00<?, ?it/s]"
      ]
     },
     "metadata": {},
     "output_type": "display_data"
    },
    {
     "name": "stdout",
     "output_type": "stream",
     "text": [
      "w = jacobian >>  0.7256857855361596\n",
      "\n",
      "69 >> 47.42445755004883 [(' Microsoft', 72.629), (' Sony', 72.377), (' Apple', 72.288), (' IBM', 72.003), (' Boeing', 71.631)]\n",
      "validating on 401 subject --> object associations\n"
     ]
    },
    {
     "data": {
      "application/vnd.jupyter.widget-view+json": {
       "model_id": "1c226e64cf5c47d688f823dba1f06451",
       "version_major": 2,
       "version_minor": 0
      },
      "text/plain": [
       "  0%|          | 0/401 [00:00<?, ?it/s]"
      ]
     },
     "metadata": {},
     "output_type": "display_data"
    },
    {
     "name": "stdout",
     "output_type": "stream",
     "text": [
      "w = identity >>  0.9376558603491272\n",
      "validating on 401 subject --> object associations\n"
     ]
    },
    {
     "data": {
      "application/vnd.jupyter.widget-view+json": {
       "model_id": "353d7c88cc3347c2b17928a0934e484e",
       "version_major": 2,
       "version_minor": 0
      },
      "text/plain": [
       "  0%|          | 0/401 [00:00<?, ?it/s]"
      ]
     },
     "metadata": {},
     "output_type": "display_data"
    },
    {
     "name": "stdout",
     "output_type": "stream",
     "text": [
      "w = jacobian >>  0.7082294264339152\n",
      "\n",
      "72 >> 47.45055389404297 [(' Microsoft', 75.291), (' Apple', 74.758), (' Sony', 74.529), (' IBM', 74.106), (' Google', 73.445)]\n",
      "validating on 401 subject --> object associations\n"
     ]
    },
    {
     "data": {
      "application/vnd.jupyter.widget-view+json": {
       "model_id": "f3bd738b43524f768c595a7d461541d8",
       "version_major": 2,
       "version_minor": 0
      },
      "text/plain": [
       "  0%|          | 0/401 [00:00<?, ?it/s]"
      ]
     },
     "metadata": {},
     "output_type": "display_data"
    },
    {
     "name": "stdout",
     "output_type": "stream",
     "text": [
      "w = identity >>  0.9326683291770573\n",
      "validating on 401 subject --> object associations\n"
     ]
    },
    {
     "data": {
      "application/vnd.jupyter.widget-view+json": {
       "model_id": "80bf771fc76d4585a7349bbf4199292c",
       "version_major": 2,
       "version_minor": 0
      },
      "text/plain": [
       "  0%|          | 0/401 [00:00<?, ?it/s]"
      ]
     },
     "metadata": {},
     "output_type": "display_data"
    },
    {
     "name": "stdout",
     "output_type": "stream",
     "text": [
      "w = jacobian >>  0.685785536159601\n",
      "\n",
      "75 >> 47.95142364501953 [(' Microsoft', 78.062), (' Apple', 77.287), (' Sony', 76.529), (' IBM', 76.199), (' Google', 75.395)]\n",
      "validating on 401 subject --> object associations\n"
     ]
    },
    {
     "data": {
      "application/vnd.jupyter.widget-view+json": {
       "model_id": "859c09cfb0cd4664a53837e5b9d8ac76",
       "version_major": 2,
       "version_minor": 0
      },
      "text/plain": [
       "  0%|          | 0/401 [00:00<?, ?it/s]"
      ]
     },
     "metadata": {},
     "output_type": "display_data"
    },
    {
     "name": "stdout",
     "output_type": "stream",
     "text": [
      "w = identity >>  0.942643391521197\n",
      "validating on 401 subject --> object associations\n"
     ]
    },
    {
     "data": {
      "application/vnd.jupyter.widget-view+json": {
       "model_id": "94b3a5b87408446a99dfd16c92735a8b",
       "version_major": 2,
       "version_minor": 0
      },
      "text/plain": [
       "  0%|          | 0/401 [00:00<?, ?it/s]"
      ]
     },
     "metadata": {},
     "output_type": "display_data"
    },
    {
     "name": "stdout",
     "output_type": "stream",
     "text": [
      "w = jacobian >>  0.6608478802992519\n",
      "\n",
      "78 >> 47.8111686706543 [(' Microsoft', 80.476), (' Apple', 79.533), (' Sony', 78.259), (' IBM', 77.994), (' Google', 77.185)]\n",
      "validating on 401 subject --> object associations\n"
     ]
    },
    {
     "data": {
      "application/vnd.jupyter.widget-view+json": {
       "model_id": "504c32f5d36e484eb7fb57b7ae38f35e",
       "version_major": 2,
       "version_minor": 0
      },
      "text/plain": [
       "  0%|          | 0/401 [00:00<?, ?it/s]"
      ]
     },
     "metadata": {},
     "output_type": "display_data"
    },
    {
     "name": "stdout",
     "output_type": "stream",
     "text": [
      "w = identity >>  0.940149625935162\n",
      "validating on 401 subject --> object associations\n"
     ]
    },
    {
     "data": {
      "application/vnd.jupyter.widget-view+json": {
       "model_id": "425f38d4adf1484f9f8447068659668c",
       "version_major": 2,
       "version_minor": 0
      },
      "text/plain": [
       "  0%|          | 0/401 [00:00<?, ?it/s]"
      ]
     },
     "metadata": {},
     "output_type": "display_data"
    },
    {
     "name": "stdout",
     "output_type": "stream",
     "text": [
      "w = jacobian >>  0.6608478802992519\n",
      "\n",
      "81 >> 47.587528228759766 [(' Microsoft', 82.643), (' Apple', 81.621), (' Sony', 79.742), (' IBM', 79.643), (' Google', 78.749)]\n",
      "validating on 401 subject --> object associations\n"
     ]
    },
    {
     "data": {
      "application/vnd.jupyter.widget-view+json": {
       "model_id": "0b1a6eebc494486885a36ce83157669b",
       "version_major": 2,
       "version_minor": 0
      },
      "text/plain": [
       "  0%|          | 0/401 [00:00<?, ?it/s]"
      ]
     },
     "metadata": {},
     "output_type": "display_data"
    },
    {
     "name": "stdout",
     "output_type": "stream",
     "text": [
      "w = identity >>  0.9251870324189526\n",
      "validating on 401 subject --> object associations\n"
     ]
    },
    {
     "data": {
      "application/vnd.jupyter.widget-view+json": {
       "model_id": "b43eec5d5c4e498ea28e9244f3ec0413",
       "version_major": 2,
       "version_minor": 0
      },
      "text/plain": [
       "  0%|          | 0/401 [00:00<?, ?it/s]"
      ]
     },
     "metadata": {},
     "output_type": "display_data"
    },
    {
     "name": "stdout",
     "output_type": "stream",
     "text": [
      "w = jacobian >>  0.655860349127182\n",
      "\n",
      "saving results\n",
      "############################################################################################################\n",
      "relation_id >> P495\n",
      "------------------------------------------------------------------------------------------------------\n",
      "unique objects:  67 [' Ecuador', ' Argentina', ' Lithuania', ' Belarus', ' Jamaica']\n"
     ]
    },
    {
     "data": {
      "application/vnd.jupyter.widget-view+json": {
       "model_id": "172e63f086ec466a9b894e57ac45a97d",
       "version_major": 2,
       "version_minor": 0
      },
      "text/plain": [
       "  0%|          | 0/27 [00:00<?, ?it/s]"
      ]
     },
     "metadata": {},
     "output_type": "display_data"
    },
    {
     "name": "stdout",
     "output_type": "stream",
     "text": [
      "3 >> 14.133600234985352 [('��', 22.543), ('��', 20.652), (' gmaxwell', 20.221), ('��', 19.585), (' EntityItem', 19.247)]\n",
      "P495 >> number of requests in counterfact = 904\n",
      "Checking correct prediction with normal calculation ...\n"
     ]
    },
    {
     "data": {
      "application/vnd.jupyter.widget-view+json": {
       "model_id": "fe1a912fed7444c098db9701d9451030",
       "version_major": 2,
       "version_minor": 0
      },
      "text/plain": [
       "  0%|          | 0/904 [00:00<?, ?it/s]"
      ]
     },
     "metadata": {},
     "output_type": "display_data"
    },
    {
     "name": "stdout",
     "output_type": "stream",
     "text": [
      "Number of correctly predicted requests = 160\n",
      "validating on 160 subject --> object associations\n"
     ]
    },
    {
     "data": {
      "application/vnd.jupyter.widget-view+json": {
       "model_id": "6934bcc4f9fe4cc09ba63bbd43722993",
       "version_major": 2,
       "version_minor": 0
      },
      "text/plain": [
       "  0%|          | 0/160 [00:00<?, ?it/s]"
      ]
     },
     "metadata": {},
     "output_type": "display_data"
    },
    {
     "name": "stdout",
     "output_type": "stream",
     "text": [
      "w = identity >>  0.24375\n",
      "validating on 160 subject --> object associations\n"
     ]
    },
    {
     "data": {
      "application/vnd.jupyter.widget-view+json": {
       "model_id": "4ce1c8a626854f58a2b04c0673fe1980",
       "version_major": 2,
       "version_minor": 0
      },
      "text/plain": [
       "  0%|          | 0/160 [00:00<?, ?it/s]"
      ]
     },
     "metadata": {},
     "output_type": "display_data"
    },
    {
     "name": "stdout",
     "output_type": "stream",
     "text": [
      "w = jacobian >>  0.23125\n",
      "\n",
      "6 >> 15.534167289733887 [('��', 20.143), ('��', 19.405), (' Kinnikuman', 18.401), (' EntityItem', 18.365), ('��', 18.114)]\n",
      "validating on 160 subject --> object associations\n"
     ]
    },
    {
     "data": {
      "application/vnd.jupyter.widget-view+json": {
       "model_id": "a0b6ea2c7a144629af20158e074e1f5d",
       "version_major": 2,
       "version_minor": 0
      },
      "text/plain": [
       "  0%|          | 0/160 [00:00<?, ?it/s]"
      ]
     },
     "metadata": {},
     "output_type": "display_data"
    },
    {
     "name": "stdout",
     "output_type": "stream",
     "text": [
      "w = identity >>  0.2875\n",
      "validating on 160 subject --> object associations\n"
     ]
    },
    {
     "data": {
      "application/vnd.jupyter.widget-view+json": {
       "model_id": "c72a7325313f4767b03398ea27d447cf",
       "version_major": 2,
       "version_minor": 0
      },
      "text/plain": [
       "  0%|          | 0/160 [00:00<?, ?it/s]"
      ]
     },
     "metadata": {},
     "output_type": "display_data"
    },
    {
     "name": "stdout",
     "output_type": "stream",
     "text": [
      "w = jacobian >>  0.34375\n",
      "\n",
      "9 >> 15.983983039855957 [(' Algeria', 20.431), (' Tunisia', 18.602), ('��', 18.398), ('��', 17.865), (' Uruguay', 17.838)]\n",
      "validating on 160 subject --> object associations\n"
     ]
    },
    {
     "data": {
      "application/vnd.jupyter.widget-view+json": {
       "model_id": "b53b62a92cbd4a3bbccfb71317cae0dc",
       "version_major": 2,
       "version_minor": 0
      },
      "text/plain": [
       "  0%|          | 0/160 [00:00<?, ?it/s]"
      ]
     },
     "metadata": {},
     "output_type": "display_data"
    },
    {
     "name": "stdout",
     "output_type": "stream",
     "text": [
      "w = identity >>  0.3\n",
      "validating on 160 subject --> object associations\n"
     ]
    },
    {
     "data": {
      "application/vnd.jupyter.widget-view+json": {
       "model_id": "d8129a1f5e2449978436289e52ae6db4",
       "version_major": 2,
       "version_minor": 0
      },
      "text/plain": [
       "  0%|          | 0/160 [00:00<?, ?it/s]"
      ]
     },
     "metadata": {},
     "output_type": "display_data"
    },
    {
     "name": "stdout",
     "output_type": "stream",
     "text": [
      "w = jacobian >>  0.54375\n",
      "\n",
      "12 >> 16.644969940185547 [(' Algeria', 25.289), (' Tunisia', 23.854), (' Slovenia', 22.067), (' Senegal', 21.506), (' Ethiopia', 21.348)]\n",
      "validating on 160 subject --> object associations\n"
     ]
    },
    {
     "data": {
      "application/vnd.jupyter.widget-view+json": {
       "model_id": "cb512ebc7a9d45e79cc576651bc641ef",
       "version_major": 2,
       "version_minor": 0
      },
      "text/plain": [
       "  0%|          | 0/160 [00:00<?, ?it/s]"
      ]
     },
     "metadata": {},
     "output_type": "display_data"
    },
    {
     "name": "stdout",
     "output_type": "stream",
     "text": [
      "w = identity >>  0.4\n",
      "validating on 160 subject --> object associations\n"
     ]
    },
    {
     "data": {
      "application/vnd.jupyter.widget-view+json": {
       "model_id": "83605b8812dd476b8ee4615d96258188",
       "version_major": 2,
       "version_minor": 0
      },
      "text/plain": [
       "  0%|          | 0/160 [00:00<?, ?it/s]"
      ]
     },
     "metadata": {},
     "output_type": "display_data"
    },
    {
     "name": "stdout",
     "output_type": "stream",
     "text": [
      "w = jacobian >>  0.66875\n",
      "\n",
      "15 >> 16.913433074951172 [(' Algeria', 28.603), (' Uruguay', 27.798), (' Tunisia', 26.509), (' Latvia', 26.129), (' Kazakhstan', 26.037)]\n",
      "validating on 160 subject --> object associations\n"
     ]
    },
    {
     "data": {
      "application/vnd.jupyter.widget-view+json": {
       "model_id": "e096e6d3f436412f9d4b46e250d2cd60",
       "version_major": 2,
       "version_minor": 0
      },
      "text/plain": [
       "  0%|          | 0/160 [00:00<?, ?it/s]"
      ]
     },
     "metadata": {},
     "output_type": "display_data"
    },
    {
     "name": "stdout",
     "output_type": "stream",
     "text": [
      "w = identity >>  0.45\n",
      "validating on 160 subject --> object associations\n"
     ]
    },
    {
     "data": {
      "application/vnd.jupyter.widget-view+json": {
       "model_id": "c8ae1a32cbcf4f04b31ea1e7fd6e39ac",
       "version_major": 2,
       "version_minor": 0
      },
      "text/plain": [
       "  0%|          | 0/160 [00:00<?, ?it/s]"
      ]
     },
     "metadata": {},
     "output_type": "display_data"
    },
    {
     "name": "stdout",
     "output_type": "stream",
     "text": [
      "w = jacobian >>  0.74375\n",
      "\n",
      "18 >> 17.458229064941406 [(' Ethiopia', 34.309), (' Tunisia', 34.038), (' Algeria', 32.97), (' Senegal', 32.173), (' Nigeria', 30.693)]\n",
      "validating on 160 subject --> object associations\n"
     ]
    },
    {
     "data": {
      "application/vnd.jupyter.widget-view+json": {
       "model_id": "b2c06e2ad2f44ed0a3b325ca3dba53bf",
       "version_major": 2,
       "version_minor": 0
      },
      "text/plain": [
       "  0%|          | 0/160 [00:00<?, ?it/s]"
      ]
     },
     "metadata": {},
     "output_type": "display_data"
    },
    {
     "name": "stdout",
     "output_type": "stream",
     "text": [
      "w = identity >>  0.50625\n",
      "validating on 160 subject --> object associations\n"
     ]
    },
    {
     "data": {
      "application/vnd.jupyter.widget-view+json": {
       "model_id": "840b3961e6044f6d864dc5eeb7369b2a",
       "version_major": 2,
       "version_minor": 0
      },
      "text/plain": [
       "  0%|          | 0/160 [00:00<?, ?it/s]"
      ]
     },
     "metadata": {},
     "output_type": "display_data"
    },
    {
     "name": "stdout",
     "output_type": "stream",
     "text": [
      "w = jacobian >>  0.73125\n",
      "\n",
      "21 >> 18.40030288696289 [(' Ethiopia', 40.175), (' Tunisia', 39.588), (' Nigeria', 38.578), (' Morocco', 37.845), (' Latvia', 37.733)]\n",
      "validating on 160 subject --> object associations\n"
     ]
    },
    {
     "data": {
      "application/vnd.jupyter.widget-view+json": {
       "model_id": "59faf01b5ec845d39f11f85b78499815",
       "version_major": 2,
       "version_minor": 0
      },
      "text/plain": [
       "  0%|          | 0/160 [00:00<?, ?it/s]"
      ]
     },
     "metadata": {},
     "output_type": "display_data"
    },
    {
     "name": "stdout",
     "output_type": "stream",
     "text": [
      "w = identity >>  0.6\n",
      "validating on 160 subject --> object associations\n"
     ]
    },
    {
     "data": {
      "application/vnd.jupyter.widget-view+json": {
       "model_id": "c8d52a4465ff4a5098e3d883cada9d43",
       "version_major": 2,
       "version_minor": 0
      },
      "text/plain": [
       "  0%|          | 0/160 [00:00<?, ?it/s]"
      ]
     },
     "metadata": {},
     "output_type": "display_data"
    },
    {
     "name": "stdout",
     "output_type": "stream",
     "text": [
      "w = jacobian >>  0.8125\n",
      "\n",
      "24 >> 19.81952667236328 [(' Tunisia', 42.162), (' Nigeria', 42.151), (' Lithuania', 41.329), (' Ethiopia', 41.245), (' Estonia', 41.242)]\n",
      "validating on 160 subject --> object associations\n"
     ]
    },
    {
     "data": {
      "application/vnd.jupyter.widget-view+json": {
       "model_id": "d74552d887554f529906c6b1df820603",
       "version_major": 2,
       "version_minor": 0
      },
      "text/plain": [
       "  0%|          | 0/160 [00:00<?, ?it/s]"
      ]
     },
     "metadata": {},
     "output_type": "display_data"
    },
    {
     "name": "stdout",
     "output_type": "stream",
     "text": [
      "w = identity >>  0.6625\n",
      "validating on 160 subject --> object associations\n"
     ]
    },
    {
     "data": {
      "application/vnd.jupyter.widget-view+json": {
       "model_id": "6bb607c7c15a4b198f2cb1ddb62d5574",
       "version_major": 2,
       "version_minor": 0
      },
      "text/plain": [
       "  0%|          | 0/160 [00:00<?, ?it/s]"
      ]
     },
     "metadata": {},
     "output_type": "display_data"
    },
    {
     "name": "stdout",
     "output_type": "stream",
     "text": [
      "w = jacobian >>  0.85\n",
      "\n",
      "27 >> 22.07660675048828 [(' Nigeria', 47.507), (' Tunisia', 45.669), (' Ethiopia', 45.614), (' Lithuania', 45.084), (' Morocco', 44.973)]\n",
      "validating on 160 subject --> object associations\n"
     ]
    },
    {
     "data": {
      "application/vnd.jupyter.widget-view+json": {
       "model_id": "cdabdc9039b14b92805a571f28a556a0",
       "version_major": 2,
       "version_minor": 0
      },
      "text/plain": [
       "  0%|          | 0/160 [00:00<?, ?it/s]"
      ]
     },
     "metadata": {},
     "output_type": "display_data"
    },
    {
     "name": "stdout",
     "output_type": "stream",
     "text": [
      "w = identity >>  0.7125\n",
      "validating on 160 subject --> object associations\n"
     ]
    },
    {
     "data": {
      "application/vnd.jupyter.widget-view+json": {
       "model_id": "6978ef15a1ed4f278e9a88f4295c2c93",
       "version_major": 2,
       "version_minor": 0
      },
      "text/plain": [
       "  0%|          | 0/160 [00:00<?, ?it/s]"
      ]
     },
     "metadata": {},
     "output_type": "display_data"
    },
    {
     "name": "stdout",
     "output_type": "stream",
     "text": [
      "w = jacobian >>  0.8375\n",
      "\n",
      "30 >> 23.924121856689453 [(' Nigeria', 49.963), (' Lithuania', 48.12), (' Estonia', 48.1), (' Hungary', 48.097), (' Croatia', 48.092)]\n",
      "validating on 160 subject --> object associations\n"
     ]
    },
    {
     "data": {
      "application/vnd.jupyter.widget-view+json": {
       "model_id": "5efb19ce74cf4b979bc712f192d2f543",
       "version_major": 2,
       "version_minor": 0
      },
      "text/plain": [
       "  0%|          | 0/160 [00:00<?, ?it/s]"
      ]
     },
     "metadata": {},
     "output_type": "display_data"
    },
    {
     "name": "stdout",
     "output_type": "stream",
     "text": [
      "w = identity >>  0.775\n",
      "validating on 160 subject --> object associations\n"
     ]
    },
    {
     "data": {
      "application/vnd.jupyter.widget-view+json": {
       "model_id": "61f0e0050cac44a69e43123bbf8634ce",
       "version_major": 2,
       "version_minor": 0
      },
      "text/plain": [
       "  0%|          | 0/160 [00:00<?, ?it/s]"
      ]
     },
     "metadata": {},
     "output_type": "display_data"
    },
    {
     "name": "stdout",
     "output_type": "stream",
     "text": [
      "w = jacobian >>  0.85625\n",
      "\n",
      "33 >> 26.442705154418945 [(' Nigeria', 52.141), (' Thailand', 51.344), (' Hungary', 51.331), (' Romania', 51.187), (' Lithuania', 51.046)]\n",
      "validating on 160 subject --> object associations\n"
     ]
    },
    {
     "data": {
      "application/vnd.jupyter.widget-view+json": {
       "model_id": "5d88b4aa376b46fe86eb1564baeea3ff",
       "version_major": 2,
       "version_minor": 0
      },
      "text/plain": [
       "  0%|          | 0/160 [00:00<?, ?it/s]"
      ]
     },
     "metadata": {},
     "output_type": "display_data"
    },
    {
     "name": "stdout",
     "output_type": "stream",
     "text": [
      "w = identity >>  0.825\n",
      "validating on 160 subject --> object associations\n"
     ]
    },
    {
     "data": {
      "application/vnd.jupyter.widget-view+json": {
       "model_id": "27f0fa9fb17a435380587ac8aa799365",
       "version_major": 2,
       "version_minor": 0
      },
      "text/plain": [
       "  0%|          | 0/160 [00:00<?, ?it/s]"
      ]
     },
     "metadata": {},
     "output_type": "display_data"
    },
    {
     "name": "stdout",
     "output_type": "stream",
     "text": [
      "w = jacobian >>  0.85\n",
      "\n",
      "36 >> 29.505123138427734 [(' Nigeria', 54.947), (' Thailand', 53.575), (' Romania', 53.423), (' Belgium', 53.01), (' Ireland', 52.96)]\n",
      "validating on 160 subject --> object associations\n"
     ]
    },
    {
     "data": {
      "application/vnd.jupyter.widget-view+json": {
       "model_id": "4032cee5a82b4215b164b93607b15f2e",
       "version_major": 2,
       "version_minor": 0
      },
      "text/plain": [
       "  0%|          | 0/160 [00:00<?, ?it/s]"
      ]
     },
     "metadata": {},
     "output_type": "display_data"
    },
    {
     "name": "stdout",
     "output_type": "stream",
     "text": [
      "w = identity >>  0.84375\n",
      "validating on 160 subject --> object associations\n"
     ]
    },
    {
     "data": {
      "application/vnd.jupyter.widget-view+json": {
       "model_id": "17e6ed162bb34db49ae7d38ea9eb1f62",
       "version_major": 2,
       "version_minor": 0
      },
      "text/plain": [
       "  0%|          | 0/160 [00:00<?, ?it/s]"
      ]
     },
     "metadata": {},
     "output_type": "display_data"
    },
    {
     "name": "stdout",
     "output_type": "stream",
     "text": [
      "w = jacobian >>  0.83125\n",
      "\n",
      "39 >> 31.548126220703125 [(' Nigeria', 57.299), (' Thailand', 55.915), (' Romania', 55.697), (' Bangladesh', 55.661), (' Ethiopia', 55.514)]\n",
      "validating on 160 subject --> object associations\n"
     ]
    },
    {
     "data": {
      "application/vnd.jupyter.widget-view+json": {
       "model_id": "22f62d06058344d18391c7b753773225",
       "version_major": 2,
       "version_minor": 0
      },
      "text/plain": [
       "  0%|          | 0/160 [00:00<?, ?it/s]"
      ]
     },
     "metadata": {},
     "output_type": "display_data"
    },
    {
     "name": "stdout",
     "output_type": "stream",
     "text": [
      "w = identity >>  0.8625\n",
      "validating on 160 subject --> object associations\n"
     ]
    },
    {
     "data": {
      "application/vnd.jupyter.widget-view+json": {
       "model_id": "1b35f53457134be789d5e9441cf969c3",
       "version_major": 2,
       "version_minor": 0
      },
      "text/plain": [
       "  0%|          | 0/160 [00:00<?, ?it/s]"
      ]
     },
     "metadata": {},
     "output_type": "display_data"
    },
    {
     "name": "stdout",
     "output_type": "stream",
     "text": [
      "w = jacobian >>  0.81875\n",
      "\n",
      "42 >> 34.09077453613281 [(' Nigeria', 59.483), (' Thailand', 58.489), (' Lebanon', 57.986), (' Ireland', 57.945), (' Romania', 57.896)]\n",
      "validating on 160 subject --> object associations\n"
     ]
    },
    {
     "data": {
      "application/vnd.jupyter.widget-view+json": {
       "model_id": "3059208909f949e6998a0e277153dcba",
       "version_major": 2,
       "version_minor": 0
      },
      "text/plain": [
       "  0%|          | 0/160 [00:00<?, ?it/s]"
      ]
     },
     "metadata": {},
     "output_type": "display_data"
    },
    {
     "name": "stdout",
     "output_type": "stream",
     "text": [
      "w = identity >>  0.8625\n",
      "validating on 160 subject --> object associations\n"
     ]
    },
    {
     "data": {
      "application/vnd.jupyter.widget-view+json": {
       "model_id": "7cf0897c26304ed395343b3ae4ac8f2b",
       "version_major": 2,
       "version_minor": 0
      },
      "text/plain": [
       "  0%|          | 0/160 [00:00<?, ?it/s]"
      ]
     },
     "metadata": {},
     "output_type": "display_data"
    },
    {
     "name": "stdout",
     "output_type": "stream",
     "text": [
      "w = jacobian >>  0.8375\n",
      "\n",
      "45 >> 37.07965087890625 [(' Thailand', 60.458), (' Nigeria', 60.434), (' Belgium', 59.881), (' Lebanon', 59.86), (' Ireland', 59.841)]\n",
      "validating on 160 subject --> object associations\n"
     ]
    },
    {
     "data": {
      "application/vnd.jupyter.widget-view+json": {
       "model_id": "e316ba62294445c3995b75d51381b81e",
       "version_major": 2,
       "version_minor": 0
      },
      "text/plain": [
       "  0%|          | 0/160 [00:00<?, ?it/s]"
      ]
     },
     "metadata": {},
     "output_type": "display_data"
    },
    {
     "name": "stdout",
     "output_type": "stream",
     "text": [
      "w = identity >>  0.86875\n",
      "validating on 160 subject --> object associations\n"
     ]
    },
    {
     "data": {
      "application/vnd.jupyter.widget-view+json": {
       "model_id": "c8b970bf302c40619be156c304b65704",
       "version_major": 2,
       "version_minor": 0
      },
      "text/plain": [
       "  0%|          | 0/160 [00:00<?, ?it/s]"
      ]
     },
     "metadata": {},
     "output_type": "display_data"
    },
    {
     "name": "stdout",
     "output_type": "stream",
     "text": [
      "w = jacobian >>  0.8\n",
      "\n",
      "48 >> 39.15634536743164 [(' Nigeria', 62.668), (' Thailand', 62.56), (' Belgium', 62.157), (' Ireland', 62.096), (' Lebanon', 62.037)]\n",
      "validating on 160 subject --> object associations\n"
     ]
    },
    {
     "data": {
      "application/vnd.jupyter.widget-view+json": {
       "model_id": "e4c298b9e48d4b9887809109cea3e7fb",
       "version_major": 2,
       "version_minor": 0
      },
      "text/plain": [
       "  0%|          | 0/160 [00:00<?, ?it/s]"
      ]
     },
     "metadata": {},
     "output_type": "display_data"
    },
    {
     "name": "stdout",
     "output_type": "stream",
     "text": [
      "w = identity >>  0.85625\n",
      "validating on 160 subject --> object associations\n"
     ]
    },
    {
     "data": {
      "application/vnd.jupyter.widget-view+json": {
       "model_id": "d74f04ea6dc940caa2996ff7dc9e1d9e",
       "version_major": 2,
       "version_minor": 0
      },
      "text/plain": [
       "  0%|          | 0/160 [00:00<?, ?it/s]"
      ]
     },
     "metadata": {},
     "output_type": "display_data"
    },
    {
     "name": "stdout",
     "output_type": "stream",
     "text": [
      "w = jacobian >>  0.8125\n",
      "\n",
      "51 >> 41.01710891723633 [(' Thailand', 65.164), (' Nigeria', 64.589), (' Belgium', 64.523), (' Ireland', 64.279), (' Lebanon', 64.191)]\n",
      "validating on 160 subject --> object associations\n"
     ]
    },
    {
     "data": {
      "application/vnd.jupyter.widget-view+json": {
       "model_id": "98c0327bb0c1484dac659b6f2485a20d",
       "version_major": 2,
       "version_minor": 0
      },
      "text/plain": [
       "  0%|          | 0/160 [00:00<?, ?it/s]"
      ]
     },
     "metadata": {},
     "output_type": "display_data"
    },
    {
     "name": "stdout",
     "output_type": "stream",
     "text": [
      "w = identity >>  0.8625\n",
      "validating on 160 subject --> object associations\n"
     ]
    },
    {
     "data": {
      "application/vnd.jupyter.widget-view+json": {
       "model_id": "0cbc76630d1141209a8a80ab55a26511",
       "version_major": 2,
       "version_minor": 0
      },
      "text/plain": [
       "  0%|          | 0/160 [00:00<?, ?it/s]"
      ]
     },
     "metadata": {},
     "output_type": "display_data"
    },
    {
     "name": "stdout",
     "output_type": "stream",
     "text": [
      "w = jacobian >>  0.775\n",
      "\n",
      "54 >> 43.1766471862793 [(' Thailand', 66.471), (' Ireland', 66.159), (' Lebanon', 66.023), (' Belgium', 65.907), (' Colombia', 65.849)]\n",
      "validating on 160 subject --> object associations\n"
     ]
    },
    {
     "data": {
      "application/vnd.jupyter.widget-view+json": {
       "model_id": "6303cf67721c4d26a7fdf90b5b7191e1",
       "version_major": 2,
       "version_minor": 0
      },
      "text/plain": [
       "  0%|          | 0/160 [00:00<?, ?it/s]"
      ]
     },
     "metadata": {},
     "output_type": "display_data"
    },
    {
     "name": "stdout",
     "output_type": "stream",
     "text": [
      "w = identity >>  0.8625\n",
      "validating on 160 subject --> object associations\n"
     ]
    },
    {
     "data": {
      "application/vnd.jupyter.widget-view+json": {
       "model_id": "864ed6282a8f4161bcd4a16abed06424",
       "version_major": 2,
       "version_minor": 0
      },
      "text/plain": [
       "  0%|          | 0/160 [00:00<?, ?it/s]"
      ]
     },
     "metadata": {},
     "output_type": "display_data"
    },
    {
     "name": "stdout",
     "output_type": "stream",
     "text": [
      "w = jacobian >>  0.7875\n",
      "\n",
      "57 >> 44.89059829711914 [(' Thailand', 68.305), (' Ireland', 67.895), (' Lebanon', 67.68), (' Colombia', 67.588), (' Belgium', 67.577)]\n",
      "validating on 160 subject --> object associations\n"
     ]
    },
    {
     "data": {
      "application/vnd.jupyter.widget-view+json": {
       "model_id": "a8782b04901848688f2693b85b2e3c7f",
       "version_major": 2,
       "version_minor": 0
      },
      "text/plain": [
       "  0%|          | 0/160 [00:00<?, ?it/s]"
      ]
     },
     "metadata": {},
     "output_type": "display_data"
    },
    {
     "name": "stdout",
     "output_type": "stream",
     "text": [
      "w = identity >>  0.88125\n",
      "validating on 160 subject --> object associations\n"
     ]
    },
    {
     "data": {
      "application/vnd.jupyter.widget-view+json": {
       "model_id": "f42d82d5d2394d349b689794decd91c9",
       "version_major": 2,
       "version_minor": 0
      },
      "text/plain": [
       "  0%|          | 0/160 [00:00<?, ?it/s]"
      ]
     },
     "metadata": {},
     "output_type": "display_data"
    },
    {
     "name": "stdout",
     "output_type": "stream",
     "text": [
      "w = jacobian >>  0.7625\n",
      "\n",
      "60 >> 46.16738510131836 [(' Thailand', 70.337), (' Ireland', 69.894), (' Belgium', 69.839), (' Lebanon', 69.615), (' Nigeria', 69.298)]\n",
      "validating on 160 subject --> object associations\n"
     ]
    },
    {
     "data": {
      "application/vnd.jupyter.widget-view+json": {
       "model_id": "1a796c693d8d488e9e84033ee3a7d027",
       "version_major": 2,
       "version_minor": 0
      },
      "text/plain": [
       "  0%|          | 0/160 [00:00<?, ?it/s]"
      ]
     },
     "metadata": {},
     "output_type": "display_data"
    },
    {
     "name": "stdout",
     "output_type": "stream",
     "text": [
      "w = identity >>  0.875\n",
      "validating on 160 subject --> object associations\n"
     ]
    },
    {
     "data": {
      "application/vnd.jupyter.widget-view+json": {
       "model_id": "198d8e22ea3440258e2fb610a7b28041",
       "version_major": 2,
       "version_minor": 0
      },
      "text/plain": [
       "  0%|          | 0/160 [00:00<?, ?it/s]"
      ]
     },
     "metadata": {},
     "output_type": "display_data"
    },
    {
     "name": "stdout",
     "output_type": "stream",
     "text": [
      "w = jacobian >>  0.7625\n",
      "\n",
      "63 >> 46.904319763183594 [(' Thailand', 72.562), (' Ireland', 72.547), (' Nigeria', 72.222), (' Belgium', 72.171), (' Colombia', 71.916)]\n",
      "validating on 160 subject --> object associations\n"
     ]
    },
    {
     "data": {
      "application/vnd.jupyter.widget-view+json": {
       "model_id": "ab27221000cb4262b0c15cd19d60b80b",
       "version_major": 2,
       "version_minor": 0
      },
      "text/plain": [
       "  0%|          | 0/160 [00:00<?, ?it/s]"
      ]
     },
     "metadata": {},
     "output_type": "display_data"
    },
    {
     "name": "stdout",
     "output_type": "stream",
     "text": [
      "w = identity >>  0.875\n",
      "validating on 160 subject --> object associations\n"
     ]
    },
    {
     "data": {
      "application/vnd.jupyter.widget-view+json": {
       "model_id": "bf42a86bde954ada8ac4e1cbec5e52e4",
       "version_major": 2,
       "version_minor": 0
      },
      "text/plain": [
       "  0%|          | 0/160 [00:00<?, ?it/s]"
      ]
     },
     "metadata": {},
     "output_type": "display_data"
    },
    {
     "name": "stdout",
     "output_type": "stream",
     "text": [
      "w = jacobian >>  0.75\n",
      "\n",
      "66 >> 47.79429626464844 [(' Ireland', 74.778), (' Thailand', 74.594), (' Nigeria', 74.503), (' Belgium', 73.845), (' Poland', 73.741)]\n",
      "validating on 160 subject --> object associations\n"
     ]
    },
    {
     "data": {
      "application/vnd.jupyter.widget-view+json": {
       "model_id": "dd65c1b73a50424dac38c8b81c142d6d",
       "version_major": 2,
       "version_minor": 0
      },
      "text/plain": [
       "  0%|          | 0/160 [00:00<?, ?it/s]"
      ]
     },
     "metadata": {},
     "output_type": "display_data"
    },
    {
     "name": "stdout",
     "output_type": "stream",
     "text": [
      "w = identity >>  0.875\n",
      "validating on 160 subject --> object associations\n"
     ]
    },
    {
     "data": {
      "application/vnd.jupyter.widget-view+json": {
       "model_id": "0dcf1d3da21646f1bbdab28e0e722e48",
       "version_major": 2,
       "version_minor": 0
      },
      "text/plain": [
       "  0%|          | 0/160 [00:00<?, ?it/s]"
      ]
     },
     "metadata": {},
     "output_type": "display_data"
    },
    {
     "name": "stdout",
     "output_type": "stream",
     "text": [
      "w = jacobian >>  0.75\n",
      "\n",
      "69 >> 48.101539611816406 [(' Ireland', 77.114), (' Thailand', 77.099), (' Poland', 76.205), (' Belgium', 76.118), (' Romania', 76.034)]\n",
      "validating on 160 subject --> object associations\n"
     ]
    },
    {
     "data": {
      "application/vnd.jupyter.widget-view+json": {
       "model_id": "ced3e14d3df64380ba4c519143f7c8c1",
       "version_major": 2,
       "version_minor": 0
      },
      "text/plain": [
       "  0%|          | 0/160 [00:00<?, ?it/s]"
      ]
     },
     "metadata": {},
     "output_type": "display_data"
    },
    {
     "name": "stdout",
     "output_type": "stream",
     "text": [
      "w = identity >>  0.88125\n",
      "validating on 160 subject --> object associations\n"
     ]
    },
    {
     "data": {
      "application/vnd.jupyter.widget-view+json": {
       "model_id": "634c2094d9af4910ba7f0ee7d931a2e0",
       "version_major": 2,
       "version_minor": 0
      },
      "text/plain": [
       "  0%|          | 0/160 [00:00<?, ?it/s]"
      ]
     },
     "metadata": {},
     "output_type": "display_data"
    },
    {
     "name": "stdout",
     "output_type": "stream",
     "text": [
      "w = jacobian >>  0.76875\n",
      "\n",
      "72 >> 48.42893600463867 [(' Ireland', 79.433), (' Thailand', 79.258), (' Poland', 78.563), (' Spain', 78.032), (' Romania', 77.923)]\n",
      "validating on 160 subject --> object associations\n"
     ]
    },
    {
     "data": {
      "application/vnd.jupyter.widget-view+json": {
       "model_id": "09713f789a8842028df99d349aaa1e87",
       "version_major": 2,
       "version_minor": 0
      },
      "text/plain": [
       "  0%|          | 0/160 [00:00<?, ?it/s]"
      ]
     },
     "metadata": {},
     "output_type": "display_data"
    },
    {
     "name": "stdout",
     "output_type": "stream",
     "text": [
      "w = identity >>  0.88125\n",
      "validating on 160 subject --> object associations\n"
     ]
    },
    {
     "data": {
      "application/vnd.jupyter.widget-view+json": {
       "model_id": "f5562eb60afa4b92b2cc17136f6d0006",
       "version_major": 2,
       "version_minor": 0
      },
      "text/plain": [
       "  0%|          | 0/160 [00:00<?, ?it/s]"
      ]
     },
     "metadata": {},
     "output_type": "display_data"
    },
    {
     "name": "stdout",
     "output_type": "stream",
     "text": [
      "w = jacobian >>  0.8\n",
      "\n",
      "75 >> 48.65999221801758 [(' Ireland', 81.513), (' Thailand', 81.238), (' Poland', 80.864), (' Spain', 80.663), (' France', 80.231)]\n",
      "validating on 160 subject --> object associations\n"
     ]
    },
    {
     "data": {
      "application/vnd.jupyter.widget-view+json": {
       "model_id": "31217b2200084394bd19499d88147a77",
       "version_major": 2,
       "version_minor": 0
      },
      "text/plain": [
       "  0%|          | 0/160 [00:00<?, ?it/s]"
      ]
     },
     "metadata": {},
     "output_type": "display_data"
    },
    {
     "name": "stdout",
     "output_type": "stream",
     "text": [
      "w = identity >>  0.875\n",
      "validating on 160 subject --> object associations\n"
     ]
    },
    {
     "data": {
      "application/vnd.jupyter.widget-view+json": {
       "model_id": "989d21a937604d56a9d6af3f88979197",
       "version_major": 2,
       "version_minor": 0
      },
      "text/plain": [
       "  0%|          | 0/160 [00:00<?, ?it/s]"
      ]
     },
     "metadata": {},
     "output_type": "display_data"
    },
    {
     "name": "stdout",
     "output_type": "stream",
     "text": [
      "w = jacobian >>  0.8125\n",
      "\n",
      "78 >> 48.80443572998047 [(' Ireland', 83.396), (' Thailand', 83.162), (' Spain', 83.143), (' Poland', 82.956), (' France', 82.826)]\n",
      "validating on 160 subject --> object associations\n"
     ]
    },
    {
     "data": {
      "application/vnd.jupyter.widget-view+json": {
       "model_id": "6da50767862941ff82081075991438a4",
       "version_major": 2,
       "version_minor": 0
      },
      "text/plain": [
       "  0%|          | 0/160 [00:00<?, ?it/s]"
      ]
     },
     "metadata": {},
     "output_type": "display_data"
    },
    {
     "name": "stdout",
     "output_type": "stream",
     "text": [
      "w = identity >>  0.86875\n",
      "validating on 160 subject --> object associations\n"
     ]
    },
    {
     "data": {
      "application/vnd.jupyter.widget-view+json": {
       "model_id": "0ca8ebc2ca304ec49cbbacdbedf3d0d6",
       "version_major": 2,
       "version_minor": 0
      },
      "text/plain": [
       "  0%|          | 0/160 [00:00<?, ?it/s]"
      ]
     },
     "metadata": {},
     "output_type": "display_data"
    },
    {
     "name": "stdout",
     "output_type": "stream",
     "text": [
      "w = jacobian >>  0.8\n",
      "\n",
      "81 >> 48.529850006103516 [(' Ireland', 85.746), (' Spain', 85.268), (' France', 85.118), (' Poland', 84.986), (' Thailand', 84.68)]\n",
      "validating on 160 subject --> object associations\n"
     ]
    },
    {
     "data": {
      "application/vnd.jupyter.widget-view+json": {
       "model_id": "9c689b59431e4c13adc8cd4313b2c8e5",
       "version_major": 2,
       "version_minor": 0
      },
      "text/plain": [
       "  0%|          | 0/160 [00:00<?, ?it/s]"
      ]
     },
     "metadata": {},
     "output_type": "display_data"
    },
    {
     "name": "stdout",
     "output_type": "stream",
     "text": [
      "w = identity >>  0.85625\n",
      "validating on 160 subject --> object associations\n"
     ]
    },
    {
     "data": {
      "application/vnd.jupyter.widget-view+json": {
       "model_id": "e4028cad85204336bb08aec52e0dc35b",
       "version_major": 2,
       "version_minor": 0
      },
      "text/plain": [
       "  0%|          | 0/160 [00:00<?, ?it/s]"
      ]
     },
     "metadata": {},
     "output_type": "display_data"
    },
    {
     "name": "stdout",
     "output_type": "stream",
     "text": [
      "w = jacobian >>  0.76875\n",
      "\n",
      "saving results\n",
      "############################################################################################################\n",
      "relation_id >> P127\n",
      "------------------------------------------------------------------------------------------------------\n",
      "unique objects:  109 [' Chicago', ' Indianapolis', ' Toyota', ' Chile', ' Omaha']\n"
     ]
    },
    {
     "data": {
      "application/vnd.jupyter.widget-view+json": {
       "model_id": "8791c5ff58a44f66999e732f82ef4753",
       "version_major": 2,
       "version_minor": 0
      },
      "text/plain": [
       "  0%|          | 0/27 [00:00<?, ?it/s]"
      ]
     },
     "metadata": {},
     "output_type": "display_data"
    },
    {
     "name": "stdout",
     "output_type": "stream",
     "text": [
      "3 >> 12.655292510986328 [('��', 20.077), (' SetFontSize', 19.851), ('��', 19.792), ('��', 19.22), (' EntityItem', 17.955)]\n",
      "P127 >> number of requests in counterfact = 433\n",
      "Checking correct prediction with normal calculation ...\n"
     ]
    },
    {
     "data": {
      "application/vnd.jupyter.widget-view+json": {
       "model_id": "35b2599bc1a84a7c8d773a438a88ebf2",
       "version_major": 2,
       "version_minor": 0
      },
      "text/plain": [
       "  0%|          | 0/433 [00:00<?, ?it/s]"
      ]
     },
     "metadata": {},
     "output_type": "display_data"
    },
    {
     "name": "stdout",
     "output_type": "stream",
     "text": [
      "Number of correctly predicted requests = 105\n",
      "validating on 105 subject --> object associations\n"
     ]
    },
    {
     "data": {
      "application/vnd.jupyter.widget-view+json": {
       "model_id": "c06ce6e7512448fbacd4e3bf7711cc77",
       "version_major": 2,
       "version_minor": 0
      },
      "text/plain": [
       "  0%|          | 0/105 [00:00<?, ?it/s]"
      ]
     },
     "metadata": {},
     "output_type": "display_data"
    },
    {
     "name": "stdout",
     "output_type": "stream",
     "text": [
      "w = identity >>  0.01904761904761905\n",
      "validating on 105 subject --> object associations\n"
     ]
    },
    {
     "data": {
      "application/vnd.jupyter.widget-view+json": {
       "model_id": "47c14d64ade74a459c0b55ffa263eb57",
       "version_major": 2,
       "version_minor": 0
      },
      "text/plain": [
       "  0%|          | 0/105 [00:00<?, ?it/s]"
      ]
     },
     "metadata": {},
     "output_type": "display_data"
    },
    {
     "name": "stdout",
     "output_type": "stream",
     "text": [
      "w = jacobian >>  0.0\n",
      "\n",
      "6 >> 12.255355834960938 [('��', 19.727), (' SetFontSize', 19.505), ('��', 18.959), ('��', 18.345), (' EntityItem', 17.77)]\n",
      "validating on 105 subject --> object associations\n"
     ]
    },
    {
     "data": {
      "application/vnd.jupyter.widget-view+json": {
       "model_id": "df4e4fb780fd45f7b0c5aba97a5aea3b",
       "version_major": 2,
       "version_minor": 0
      },
      "text/plain": [
       "  0%|          | 0/105 [00:00<?, ?it/s]"
      ]
     },
     "metadata": {},
     "output_type": "display_data"
    },
    {
     "name": "stdout",
     "output_type": "stream",
     "text": [
      "w = identity >>  0.01904761904761905\n",
      "validating on 105 subject --> object associations\n"
     ]
    },
    {
     "data": {
      "application/vnd.jupyter.widget-view+json": {
       "model_id": "5b57367ac34341f6afe19ab61880fd7d",
       "version_major": 2,
       "version_minor": 0
      },
      "text/plain": [
       "  0%|          | 0/105 [00:00<?, ?it/s]"
      ]
     },
     "metadata": {},
     "output_type": "display_data"
    },
    {
     "name": "stdout",
     "output_type": "stream",
     "text": [
      "w = jacobian >>  0.009523809523809525\n",
      "\n",
      "9 >> 14.91946029663086 [(' SetFontSize', 18.406), ('��', 18.065), (' Britons', 17.607), (' EntityItem', 17.578), (' BuzzFeed', 17.487)]\n",
      "validating on 105 subject --> object associations\n"
     ]
    },
    {
     "data": {
      "application/vnd.jupyter.widget-view+json": {
       "model_id": "7b7fd10c72814ce6bc193b16e2e778f3",
       "version_major": 2,
       "version_minor": 0
      },
      "text/plain": [
       "  0%|          | 0/105 [00:00<?, ?it/s]"
      ]
     },
     "metadata": {},
     "output_type": "display_data"
    },
    {
     "name": "stdout",
     "output_type": "stream",
     "text": [
      "w = identity >>  0.02857142857142857\n",
      "validating on 105 subject --> object associations\n"
     ]
    },
    {
     "data": {
      "application/vnd.jupyter.widget-view+json": {
       "model_id": "efc2211a2993449fbbbc648e071181a9",
       "version_major": 2,
       "version_minor": 0
      },
      "text/plain": [
       "  0%|          | 0/105 [00:00<?, ?it/s]"
      ]
     },
     "metadata": {},
     "output_type": "display_data"
    },
    {
     "name": "stdout",
     "output_type": "stream",
     "text": [
      "w = jacobian >>  0.02857142857142857\n",
      "\n",
      "12 >> 16.16761589050293 [(' CNBC', 20.738), (' MSNBC', 20.494), (' Pixar', 20.329), (' Qualcomm', 20.157), (' Greenpeace', 19.969)]\n",
      "validating on 105 subject --> object associations\n"
     ]
    },
    {
     "data": {
      "application/vnd.jupyter.widget-view+json": {
       "model_id": "2093f904cc2245769bdceb4a6675ddf4",
       "version_major": 2,
       "version_minor": 0
      },
      "text/plain": [
       "  0%|          | 0/105 [00:00<?, ?it/s]"
      ]
     },
     "metadata": {},
     "output_type": "display_data"
    },
    {
     "name": "stdout",
     "output_type": "stream",
     "text": [
      "w = identity >>  0.02857142857142857\n",
      "validating on 105 subject --> object associations\n"
     ]
    },
    {
     "data": {
      "application/vnd.jupyter.widget-view+json": {
       "model_id": "991c54a0ac394841af0fa473e00a3329",
       "version_major": 2,
       "version_minor": 0
      },
      "text/plain": [
       "  0%|          | 0/105 [00:00<?, ?it/s]"
      ]
     },
     "metadata": {},
     "output_type": "display_data"
    },
    {
     "name": "stdout",
     "output_type": "stream",
     "text": [
      "w = jacobian >>  0.06666666666666667\n",
      "\n",
      "15 >> 16.56499671936035 [(' Qualcomm', 24.568), (' Tucson', 24.227), (' Bahrain', 24.01), (' Burlington', 23.991), (' Tunisia', 23.856)]\n",
      "validating on 105 subject --> object associations\n"
     ]
    },
    {
     "data": {
      "application/vnd.jupyter.widget-view+json": {
       "model_id": "2f722e0c791b4fd1a993112bfd48e28a",
       "version_major": 2,
       "version_minor": 0
      },
      "text/plain": [
       "  0%|          | 0/105 [00:00<?, ?it/s]"
      ]
     },
     "metadata": {},
     "output_type": "display_data"
    },
    {
     "name": "stdout",
     "output_type": "stream",
     "text": [
      "w = identity >>  0.02857142857142857\n",
      "validating on 105 subject --> object associations\n"
     ]
    },
    {
     "data": {
      "application/vnd.jupyter.widget-view+json": {
       "model_id": "8be48f87ace54ef69ece6aa5a19ada0d",
       "version_major": 2,
       "version_minor": 0
      },
      "text/plain": [
       "  0%|          | 0/105 [00:00<?, ?it/s]"
      ]
     },
     "metadata": {},
     "output_type": "display_data"
    },
    {
     "name": "stdout",
     "output_type": "stream",
     "text": [
      "w = jacobian >>  0.12380952380952381\n",
      "\n",
      "18 >> 17.429100036621094 [(' Tampa', 30.739), (' Arizona', 29.96), (' Birmingham', 29.792), (' Munich', 29.473), (' Moscow', 29.327)]\n",
      "validating on 105 subject --> object associations\n"
     ]
    },
    {
     "data": {
      "application/vnd.jupyter.widget-view+json": {
       "model_id": "3b15ca50499344e89393a8439a030089",
       "version_major": 2,
       "version_minor": 0
      },
      "text/plain": [
       "  0%|          | 0/105 [00:00<?, ?it/s]"
      ]
     },
     "metadata": {},
     "output_type": "display_data"
    },
    {
     "name": "stdout",
     "output_type": "stream",
     "text": [
      "w = identity >>  0.02857142857142857\n",
      "validating on 105 subject --> object associations\n"
     ]
    },
    {
     "data": {
      "application/vnd.jupyter.widget-view+json": {
       "model_id": "a23dba2d47ac4339b9ee3298ffbec9da",
       "version_major": 2,
       "version_minor": 0
      },
      "text/plain": [
       "  0%|          | 0/105 [00:00<?, ?it/s]"
      ]
     },
     "metadata": {},
     "output_type": "display_data"
    },
    {
     "name": "stdout",
     "output_type": "stream",
     "text": [
      "w = jacobian >>  0.14285714285714285\n",
      "\n",
      "21 >> 19.490102767944336 [(' Moscow', 35.847), (' Dubai', 35.645), (' Italy', 35.134), (' Burlington', 35.022), (' Arizona', 34.972)]\n",
      "validating on 105 subject --> object associations\n"
     ]
    },
    {
     "data": {
      "application/vnd.jupyter.widget-view+json": {
       "model_id": "d90c560d77274a789e98130afbb0fde3",
       "version_major": 2,
       "version_minor": 0
      },
      "text/plain": [
       "  0%|          | 0/105 [00:00<?, ?it/s]"
      ]
     },
     "metadata": {},
     "output_type": "display_data"
    },
    {
     "name": "stdout",
     "output_type": "stream",
     "text": [
      "w = identity >>  0.06666666666666667\n",
      "validating on 105 subject --> object associations\n"
     ]
    },
    {
     "data": {
      "application/vnd.jupyter.widget-view+json": {
       "model_id": "bfee7db387dd468b946912aad015e3ef",
       "version_major": 2,
       "version_minor": 0
      },
      "text/plain": [
       "  0%|          | 0/105 [00:00<?, ?it/s]"
      ]
     },
     "metadata": {},
     "output_type": "display_data"
    },
    {
     "name": "stdout",
     "output_type": "stream",
     "text": [
      "w = jacobian >>  0.14285714285714285\n",
      "\n",
      "24 >> 21.30860137939453 [(' Denmark', 39.604), (' Barcelona', 39.406), (' Bangkok', 39.38), (' Dubai', 39.328), (' Athens', 39.031)]\n",
      "validating on 105 subject --> object associations\n"
     ]
    },
    {
     "data": {
      "application/vnd.jupyter.widget-view+json": {
       "model_id": "b8cdaf70e7fb4c7b86096dec4bbded37",
       "version_major": 2,
       "version_minor": 0
      },
      "text/plain": [
       "  0%|          | 0/105 [00:00<?, ?it/s]"
      ]
     },
     "metadata": {},
     "output_type": "display_data"
    },
    {
     "name": "stdout",
     "output_type": "stream",
     "text": [
      "w = identity >>  0.09523809523809523\n",
      "validating on 105 subject --> object associations\n"
     ]
    },
    {
     "data": {
      "application/vnd.jupyter.widget-view+json": {
       "model_id": "014f6b72257f468c994a9604f6b338ca",
       "version_major": 2,
       "version_minor": 0
      },
      "text/plain": [
       "  0%|          | 0/105 [00:00<?, ?it/s]"
      ]
     },
     "metadata": {},
     "output_type": "display_data"
    },
    {
     "name": "stdout",
     "output_type": "stream",
     "text": [
      "w = jacobian >>  0.18095238095238095\n",
      "\n",
      "27 >> 24.303787231445312 [(' Dubai', 43.508), (' Arizona', 43.214), (' Moscow', 43.004), (' Argentina', 42.012), (' Zurich', 42.009)]\n",
      "validating on 105 subject --> object associations\n"
     ]
    },
    {
     "data": {
      "application/vnd.jupyter.widget-view+json": {
       "model_id": "44be472219ac483bb78ef20b3969eb08",
       "version_major": 2,
       "version_minor": 0
      },
      "text/plain": [
       "  0%|          | 0/105 [00:00<?, ?it/s]"
      ]
     },
     "metadata": {},
     "output_type": "display_data"
    },
    {
     "name": "stdout",
     "output_type": "stream",
     "text": [
      "w = identity >>  0.13333333333333333\n",
      "validating on 105 subject --> object associations\n"
     ]
    },
    {
     "data": {
      "application/vnd.jupyter.widget-view+json": {
       "model_id": "f7652681afef4f26913f8a32bce0c331",
       "version_major": 2,
       "version_minor": 0
      },
      "text/plain": [
       "  0%|          | 0/105 [00:00<?, ?it/s]"
      ]
     },
     "metadata": {},
     "output_type": "display_data"
    },
    {
     "name": "stdout",
     "output_type": "stream",
     "text": [
      "w = jacobian >>  0.13333333333333333\n",
      "\n",
      "30 >> 27.357664108276367 [(' Tampa', 46.296), (' Dubai', 46.076), (' Argentina', 45.79), (' Columbia', 45.777), (' Amsterdam', 45.366)]\n",
      "validating on 105 subject --> object associations\n"
     ]
    },
    {
     "data": {
      "application/vnd.jupyter.widget-view+json": {
       "model_id": "859cc9f7ba8b4170a06fa1a3691d1014",
       "version_major": 2,
       "version_minor": 0
      },
      "text/plain": [
       "  0%|          | 0/105 [00:00<?, ?it/s]"
      ]
     },
     "metadata": {},
     "output_type": "display_data"
    },
    {
     "name": "stdout",
     "output_type": "stream",
     "text": [
      "w = identity >>  0.18095238095238095\n",
      "validating on 105 subject --> object associations\n"
     ]
    },
    {
     "data": {
      "application/vnd.jupyter.widget-view+json": {
       "model_id": "122889ccac074f2c929162a22277e862",
       "version_major": 2,
       "version_minor": 0
      },
      "text/plain": [
       "  0%|          | 0/105 [00:00<?, ?it/s]"
      ]
     },
     "metadata": {},
     "output_type": "display_data"
    },
    {
     "name": "stdout",
     "output_type": "stream",
     "text": [
      "w = jacobian >>  0.10476190476190476\n",
      "\n",
      "33 >> 30.390390396118164 [(' Arizona', 48.022), (' Dubai', 47.379), (' Georgia', 47.254), (' Argentina', 47.128), (' Boston', 47.117)]\n",
      "validating on 105 subject --> object associations\n"
     ]
    },
    {
     "data": {
      "application/vnd.jupyter.widget-view+json": {
       "model_id": "f283deca0bfc4fbdb5797cea04f875f3",
       "version_major": 2,
       "version_minor": 0
      },
      "text/plain": [
       "  0%|          | 0/105 [00:00<?, ?it/s]"
      ]
     },
     "metadata": {},
     "output_type": "display_data"
    },
    {
     "name": "stdout",
     "output_type": "stream",
     "text": [
      "w = identity >>  0.22857142857142856\n",
      "validating on 105 subject --> object associations\n"
     ]
    },
    {
     "data": {
      "application/vnd.jupyter.widget-view+json": {
       "model_id": "ef7129f5c501478abdb51210523918d9",
       "version_major": 2,
       "version_minor": 0
      },
      "text/plain": [
       "  0%|          | 0/105 [00:00<?, ?it/s]"
      ]
     },
     "metadata": {},
     "output_type": "display_data"
    },
    {
     "name": "stdout",
     "output_type": "stream",
     "text": [
      "w = jacobian >>  0.06666666666666667\n",
      "\n",
      "36 >> 33.904090881347656 [(' Amsterdam', 50.641), (' Arizona', 49.928), (' Barcelona', 49.679), (' Argentina', 49.59), (' Moscow', 49.53)]\n",
      "validating on 105 subject --> object associations\n"
     ]
    },
    {
     "data": {
      "application/vnd.jupyter.widget-view+json": {
       "model_id": "82cb9e9ac6314bff8701f972a7e49aa4",
       "version_major": 2,
       "version_minor": 0
      },
      "text/plain": [
       "  0%|          | 0/105 [00:00<?, ?it/s]"
      ]
     },
     "metadata": {},
     "output_type": "display_data"
    },
    {
     "name": "stdout",
     "output_type": "stream",
     "text": [
      "w = identity >>  0.23809523809523808\n",
      "validating on 105 subject --> object associations\n"
     ]
    },
    {
     "data": {
      "application/vnd.jupyter.widget-view+json": {
       "model_id": "ec9a0361c9f54a2dac3c95f3f43aa47a",
       "version_major": 2,
       "version_minor": 0
      },
      "text/plain": [
       "  0%|          | 0/105 [00:00<?, ?it/s]"
      ]
     },
     "metadata": {},
     "output_type": "display_data"
    },
    {
     "name": "stdout",
     "output_type": "stream",
     "text": [
      "w = jacobian >>  0.0380952380952381\n",
      "\n",
      "39 >> 37.44851303100586 [(' Arizona', 52.398), (' Amsterdam', 51.727), (' Dubai', 51.711), (' Argentina', 51.641), (' Singapore', 51.629)]\n",
      "validating on 105 subject --> object associations\n"
     ]
    },
    {
     "data": {
      "application/vnd.jupyter.widget-view+json": {
       "model_id": "737f291cd8cf4f7684a419d0a0da83ce",
       "version_major": 2,
       "version_minor": 0
      },
      "text/plain": [
       "  0%|          | 0/105 [00:00<?, ?it/s]"
      ]
     },
     "metadata": {},
     "output_type": "display_data"
    },
    {
     "name": "stdout",
     "output_type": "stream",
     "text": [
      "w = identity >>  0.26666666666666666\n",
      "validating on 105 subject --> object associations\n"
     ]
    },
    {
     "data": {
      "application/vnd.jupyter.widget-view+json": {
       "model_id": "8bcaf32e6ed54360bf7b07379767078b",
       "version_major": 2,
       "version_minor": 0
      },
      "text/plain": [
       "  0%|          | 0/105 [00:00<?, ?it/s]"
      ]
     },
     "metadata": {},
     "output_type": "display_data"
    },
    {
     "name": "stdout",
     "output_type": "stream",
     "text": [
      "w = jacobian >>  0.02857142857142857\n",
      "\n",
      "42 >> 40.182559967041016 [(' Arizona', 54.288), (' Amsterdam', 53.811), (' Japan', 53.579), (' Florida', 53.458), (' Moscow', 53.372)]\n",
      "validating on 105 subject --> object associations\n"
     ]
    },
    {
     "data": {
      "application/vnd.jupyter.widget-view+json": {
       "model_id": "195ea0ebf4dd4b778ff5236c79459705",
       "version_major": 2,
       "version_minor": 0
      },
      "text/plain": [
       "  0%|          | 0/105 [00:00<?, ?it/s]"
      ]
     },
     "metadata": {},
     "output_type": "display_data"
    },
    {
     "name": "stdout",
     "output_type": "stream",
     "text": [
      "w = identity >>  0.3047619047619048\n",
      "validating on 105 subject --> object associations\n"
     ]
    },
    {
     "data": {
      "application/vnd.jupyter.widget-view+json": {
       "model_id": "ac6a0b3442ad4e3a925f232389edefaa",
       "version_major": 2,
       "version_minor": 0
      },
      "text/plain": [
       "  0%|          | 0/105 [00:00<?, ?it/s]"
      ]
     },
     "metadata": {},
     "output_type": "display_data"
    },
    {
     "name": "stdout",
     "output_type": "stream",
     "text": [
      "w = jacobian >>  0.0380952380952381\n",
      "\n",
      "45 >> 42.58086013793945 [(' Amsterdam', 56.536), (' Arizona', 56.346), (' Moscow', 56.085), (' Japan', 55.503), (' Singapore', 55.409)]\n",
      "validating on 105 subject --> object associations\n"
     ]
    },
    {
     "data": {
      "application/vnd.jupyter.widget-view+json": {
       "model_id": "2baeabb201a64df7b34cdf8a46cf0f73",
       "version_major": 2,
       "version_minor": 0
      },
      "text/plain": [
       "  0%|          | 0/105 [00:00<?, ?it/s]"
      ]
     },
     "metadata": {},
     "output_type": "display_data"
    },
    {
     "name": "stdout",
     "output_type": "stream",
     "text": [
      "w = identity >>  0.3142857142857143\n",
      "validating on 105 subject --> object associations\n"
     ]
    },
    {
     "data": {
      "application/vnd.jupyter.widget-view+json": {
       "model_id": "b9a8538f66024b8b8db704b52aa2219d",
       "version_major": 2,
       "version_minor": 0
      },
      "text/plain": [
       "  0%|          | 0/105 [00:00<?, ?it/s]"
      ]
     },
     "metadata": {},
     "output_type": "display_data"
    },
    {
     "name": "stdout",
     "output_type": "stream",
     "text": [
      "w = jacobian >>  0.02857142857142857\n",
      "\n",
      "48 >> 43.932289123535156 [(' Japan', 58.261), (' Arizona', 57.892), (' Amsterdam', 57.658), (' Florida', 57.496), (' Singapore', 57.483)]\n",
      "validating on 105 subject --> object associations\n"
     ]
    },
    {
     "data": {
      "application/vnd.jupyter.widget-view+json": {
       "model_id": "abe129d83c9c41a79de0b5b4f98bb203",
       "version_major": 2,
       "version_minor": 0
      },
      "text/plain": [
       "  0%|          | 0/105 [00:00<?, ?it/s]"
      ]
     },
     "metadata": {},
     "output_type": "display_data"
    },
    {
     "name": "stdout",
     "output_type": "stream",
     "text": [
      "w = identity >>  0.3238095238095238\n",
      "validating on 105 subject --> object associations\n"
     ]
    },
    {
     "data": {
      "application/vnd.jupyter.widget-view+json": {
       "model_id": "755b0cc3fc374a88ac296f94434b8128",
       "version_major": 2,
       "version_minor": 0
      },
      "text/plain": [
       "  0%|          | 0/105 [00:00<?, ?it/s]"
      ]
     },
     "metadata": {},
     "output_type": "display_data"
    },
    {
     "name": "stdout",
     "output_type": "stream",
     "text": [
      "w = jacobian >>  0.02857142857142857\n",
      "\n",
      "51 >> 44.97572708129883 [(' Amsterdam', 60.751), (' Japan', 60.698), (' Arizona', 60.468), (' Florida', 59.479), (' Singapore', 59.478)]\n",
      "validating on 105 subject --> object associations\n"
     ]
    },
    {
     "data": {
      "application/vnd.jupyter.widget-view+json": {
       "model_id": "8a5c02f51bb64a06a63d023b00dcec3c",
       "version_major": 2,
       "version_minor": 0
      },
      "text/plain": [
       "  0%|          | 0/105 [00:00<?, ?it/s]"
      ]
     },
     "metadata": {},
     "output_type": "display_data"
    },
    {
     "name": "stdout",
     "output_type": "stream",
     "text": [
      "w = identity >>  0.3142857142857143\n",
      "validating on 105 subject --> object associations\n"
     ]
    },
    {
     "data": {
      "application/vnd.jupyter.widget-view+json": {
       "model_id": "df5ec9c001f2490e9de4fd0aec6486bf",
       "version_major": 2,
       "version_minor": 0
      },
      "text/plain": [
       "  0%|          | 0/105 [00:00<?, ?it/s]"
      ]
     },
     "metadata": {},
     "output_type": "display_data"
    },
    {
     "name": "stdout",
     "output_type": "stream",
     "text": [
      "w = jacobian >>  0.009523809523809525\n",
      "\n",
      "54 >> 45.68231201171875 [(' Japan', 63.758), (' Arizona', 62.609), (' Amsterdam', 61.766), (' San', 61.718), (' Tokyo', 61.564)]\n",
      "validating on 105 subject --> object associations\n"
     ]
    },
    {
     "data": {
      "application/vnd.jupyter.widget-view+json": {
       "model_id": "87f6a6baa5594b5b907d69729719fea8",
       "version_major": 2,
       "version_minor": 0
      },
      "text/plain": [
       "  0%|          | 0/105 [00:00<?, ?it/s]"
      ]
     },
     "metadata": {},
     "output_type": "display_data"
    },
    {
     "name": "stdout",
     "output_type": "stream",
     "text": [
      "w = identity >>  0.29523809523809524\n",
      "validating on 105 subject --> object associations\n"
     ]
    },
    {
     "data": {
      "application/vnd.jupyter.widget-view+json": {
       "model_id": "dd883b6af7594f90b547d3fc0d3a4b4a",
       "version_major": 2,
       "version_minor": 0
      },
      "text/plain": [
       "  0%|          | 0/105 [00:00<?, ?it/s]"
      ]
     },
     "metadata": {},
     "output_type": "display_data"
    },
    {
     "name": "stdout",
     "output_type": "stream",
     "text": [
      "w = jacobian >>  0.01904761904761905\n",
      "\n",
      "57 >> 46.3563117980957 [(' Japan', 66.589), (' San', 64.985), (' Boston', 64.573), (' Tokyo', 64.529), (' Arizona', 64.348)]\n",
      "validating on 105 subject --> object associations\n"
     ]
    },
    {
     "data": {
      "application/vnd.jupyter.widget-view+json": {
       "model_id": "d7dd705d310d49f19f9c4ef78544294d",
       "version_major": 2,
       "version_minor": 0
      },
      "text/plain": [
       "  0%|          | 0/105 [00:00<?, ?it/s]"
      ]
     },
     "metadata": {},
     "output_type": "display_data"
    },
    {
     "name": "stdout",
     "output_type": "stream",
     "text": [
      "w = identity >>  0.3142857142857143\n",
      "validating on 105 subject --> object associations\n"
     ]
    },
    {
     "data": {
      "application/vnd.jupyter.widget-view+json": {
       "model_id": "af00d4c546434ec4af97768d819b2d3c",
       "version_major": 2,
       "version_minor": 0
      },
      "text/plain": [
       "  0%|          | 0/105 [00:00<?, ?it/s]"
      ]
     },
     "metadata": {},
     "output_type": "display_data"
    },
    {
     "name": "stdout",
     "output_type": "stream",
     "text": [
      "w = jacobian >>  0.009523809523809525\n",
      "\n",
      "60 >> 46.65696334838867 [(' Japan', 69.458), (' San', 67.846), (' Tokyo', 67.601), (' Boston', 67.284), (' Washington', 66.379)]\n",
      "validating on 105 subject --> object associations\n"
     ]
    },
    {
     "data": {
      "application/vnd.jupyter.widget-view+json": {
       "model_id": "7a1c264bd9154896b2ed499be9272555",
       "version_major": 2,
       "version_minor": 0
      },
      "text/plain": [
       "  0%|          | 0/105 [00:00<?, ?it/s]"
      ]
     },
     "metadata": {},
     "output_type": "display_data"
    },
    {
     "name": "stdout",
     "output_type": "stream",
     "text": [
      "w = identity >>  0.3142857142857143\n",
      "validating on 105 subject --> object associations\n"
     ]
    },
    {
     "data": {
      "application/vnd.jupyter.widget-view+json": {
       "model_id": "147f4e0b39324b7a83bc5b2884133b66",
       "version_major": 2,
       "version_minor": 0
      },
      "text/plain": [
       "  0%|          | 0/105 [00:00<?, ?it/s]"
      ]
     },
     "metadata": {},
     "output_type": "display_data"
    },
    {
     "name": "stdout",
     "output_type": "stream",
     "text": [
      "w = jacobian >>  0.009523809523809525\n",
      "\n",
      "63 >> 46.689762115478516 [(' Japan', 71.749), (' Tokyo', 70.297), (' San', 70.055), (' Boston', 69.669), (' London', 68.74)]\n",
      "validating on 105 subject --> object associations\n"
     ]
    },
    {
     "data": {
      "application/vnd.jupyter.widget-view+json": {
       "model_id": "f8dc5054c7744e9d8c53608289896304",
       "version_major": 2,
       "version_minor": 0
      },
      "text/plain": [
       "  0%|          | 0/105 [00:00<?, ?it/s]"
      ]
     },
     "metadata": {},
     "output_type": "display_data"
    },
    {
     "name": "stdout",
     "output_type": "stream",
     "text": [
      "w = identity >>  0.3047619047619048\n",
      "validating on 105 subject --> object associations\n"
     ]
    },
    {
     "data": {
      "application/vnd.jupyter.widget-view+json": {
       "model_id": "e2fcd76b3cb64baeb7a6921a2c31e5f7",
       "version_major": 2,
       "version_minor": 0
      },
      "text/plain": [
       "  0%|          | 0/105 [00:00<?, ?it/s]"
      ]
     },
     "metadata": {},
     "output_type": "display_data"
    },
    {
     "name": "stdout",
     "output_type": "stream",
     "text": [
      "w = jacobian >>  0.009523809523809525\n",
      "\n",
      "66 >> 47.09001541137695 [(' Japan', 74.135), (' Tokyo', 72.757), (' Boston', 72.082), (' San', 72.009), (' Chicago', 71.33)]\n",
      "validating on 105 subject --> object associations\n"
     ]
    },
    {
     "data": {
      "application/vnd.jupyter.widget-view+json": {
       "model_id": "d020be130807402d9bcb7c4ca353b6c0",
       "version_major": 2,
       "version_minor": 0
      },
      "text/plain": [
       "  0%|          | 0/105 [00:00<?, ?it/s]"
      ]
     },
     "metadata": {},
     "output_type": "display_data"
    },
    {
     "name": "stdout",
     "output_type": "stream",
     "text": [
      "w = identity >>  0.23809523809523808\n",
      "validating on 105 subject --> object associations\n"
     ]
    },
    {
     "data": {
      "application/vnd.jupyter.widget-view+json": {
       "model_id": "8721f184d30445ff99e214e6f32f3a5c",
       "version_major": 2,
       "version_minor": 0
      },
      "text/plain": [
       "  0%|          | 0/105 [00:00<?, ?it/s]"
      ]
     },
     "metadata": {},
     "output_type": "display_data"
    },
    {
     "name": "stdout",
     "output_type": "stream",
     "text": [
      "w = jacobian >>  0.009523809523809525\n",
      "\n",
      "69 >> 47.126686096191406 [(' Japan', 75.581), (' Tokyo', 74.536), (' Boston', 74.175), (' Chicago', 74.122), (' San', 73.692)]\n",
      "validating on 105 subject --> object associations\n"
     ]
    },
    {
     "data": {
      "application/vnd.jupyter.widget-view+json": {
       "model_id": "711e6c28450c466a90c6f87c33bf7f37",
       "version_major": 2,
       "version_minor": 0
      },
      "text/plain": [
       "  0%|          | 0/105 [00:00<?, ?it/s]"
      ]
     },
     "metadata": {},
     "output_type": "display_data"
    },
    {
     "name": "stdout",
     "output_type": "stream",
     "text": [
      "w = identity >>  0.19047619047619047\n",
      "validating on 105 subject --> object associations\n"
     ]
    },
    {
     "data": {
      "application/vnd.jupyter.widget-view+json": {
       "model_id": "cb7ab08f95b64142b52791d06f8ff70a",
       "version_major": 2,
       "version_minor": 0
      },
      "text/plain": [
       "  0%|          | 0/105 [00:00<?, ?it/s]"
      ]
     },
     "metadata": {},
     "output_type": "display_data"
    },
    {
     "name": "stdout",
     "output_type": "stream",
     "text": [
      "w = jacobian >>  0.0\n",
      "\n",
      "72 >> 47.41599655151367 [(' Japan', 76.648), (' Chicago', 76.194), (' Tokyo', 76.127), (' Boston', 75.88), (' London', 75.089)]\n",
      "validating on 105 subject --> object associations\n"
     ]
    },
    {
     "data": {
      "application/vnd.jupyter.widget-view+json": {
       "model_id": "e15eeae071534e899a97294b93d6191b",
       "version_major": 2,
       "version_minor": 0
      },
      "text/plain": [
       "  0%|          | 0/105 [00:00<?, ?it/s]"
      ]
     },
     "metadata": {},
     "output_type": "display_data"
    },
    {
     "name": "stdout",
     "output_type": "stream",
     "text": [
      "w = identity >>  0.1523809523809524\n",
      "validating on 105 subject --> object associations\n"
     ]
    },
    {
     "data": {
      "application/vnd.jupyter.widget-view+json": {
       "model_id": "a473d7e46e4d4ca28af987cd4357a493",
       "version_major": 2,
       "version_minor": 0
      },
      "text/plain": [
       "  0%|          | 0/105 [00:00<?, ?it/s]"
      ]
     },
     "metadata": {},
     "output_type": "display_data"
    },
    {
     "name": "stdout",
     "output_type": "stream",
     "text": [
      "w = jacobian >>  0.0\n",
      "\n",
      "75 >> 47.40224838256836 [(' Chicago', 77.876), (' Japan', 77.578), (' Tokyo', 77.338), (' Boston', 77.037), (' London', 76.361)]\n",
      "validating on 105 subject --> object associations\n"
     ]
    },
    {
     "data": {
      "application/vnd.jupyter.widget-view+json": {
       "model_id": "2e96905e15c74a149c9118fe55d32d8b",
       "version_major": 2,
       "version_minor": 0
      },
      "text/plain": [
       "  0%|          | 0/105 [00:00<?, ?it/s]"
      ]
     },
     "metadata": {},
     "output_type": "display_data"
    },
    {
     "name": "stdout",
     "output_type": "stream",
     "text": [
      "w = identity >>  0.11428571428571428\n",
      "validating on 105 subject --> object associations\n"
     ]
    },
    {
     "data": {
      "application/vnd.jupyter.widget-view+json": {
       "model_id": "831df934a30f486b9a4881ce62e0662a",
       "version_major": 2,
       "version_minor": 0
      },
      "text/plain": [
       "  0%|          | 0/105 [00:00<?, ?it/s]"
      ]
     },
     "metadata": {},
     "output_type": "display_data"
    },
    {
     "name": "stdout",
     "output_type": "stream",
     "text": [
      "w = jacobian >>  0.0\n",
      "\n",
      "78 >> 47.76295471191406 [(' Chicago', 79.286), (' Japan', 78.387), (' Tokyo', 78.218), (' Boston', 78.184), (' London', 77.565)]\n",
      "validating on 105 subject --> object associations\n"
     ]
    },
    {
     "data": {
      "application/vnd.jupyter.widget-view+json": {
       "model_id": "d699ced53e134896972a3a6a5691b56b",
       "version_major": 2,
       "version_minor": 0
      },
      "text/plain": [
       "  0%|          | 0/105 [00:00<?, ?it/s]"
      ]
     },
     "metadata": {},
     "output_type": "display_data"
    },
    {
     "name": "stdout",
     "output_type": "stream",
     "text": [
      "w = identity >>  0.10476190476190476\n",
      "validating on 105 subject --> object associations\n"
     ]
    },
    {
     "data": {
      "application/vnd.jupyter.widget-view+json": {
       "model_id": "894d793e7c1642edaaa3a02eaa2b557d",
       "version_major": 2,
       "version_minor": 0
      },
      "text/plain": [
       "  0%|          | 0/105 [00:00<?, ?it/s]"
      ]
     },
     "metadata": {},
     "output_type": "display_data"
    },
    {
     "name": "stdout",
     "output_type": "stream",
     "text": [
      "w = jacobian >>  0.0\n",
      "\n",
      "81 >> 47.85319519042969 [(' Chicago', 80.335), (' Tokyo', 79.042), (' Boston', 78.929), (' Japan', 78.826), (' London', 78.421)]\n",
      "validating on 105 subject --> object associations\n"
     ]
    },
    {
     "data": {
      "application/vnd.jupyter.widget-view+json": {
       "model_id": "cba1fd4d8cb445ab88b3ba3b8fac8f28",
       "version_major": 2,
       "version_minor": 0
      },
      "text/plain": [
       "  0%|          | 0/105 [00:00<?, ?it/s]"
      ]
     },
     "metadata": {},
     "output_type": "display_data"
    },
    {
     "name": "stdout",
     "output_type": "stream",
     "text": [
      "w = identity >>  0.09523809523809523\n",
      "validating on 105 subject --> object associations\n"
     ]
    },
    {
     "data": {
      "application/vnd.jupyter.widget-view+json": {
       "model_id": "08fd8a091b3f42a6b1d09186fd1bfd47",
       "version_major": 2,
       "version_minor": 0
      },
      "text/plain": [
       "  0%|          | 0/105 [00:00<?, ?it/s]"
      ]
     },
     "metadata": {},
     "output_type": "display_data"
    },
    {
     "name": "stdout",
     "output_type": "stream",
     "text": [
      "w = jacobian >>  0.0\n",
      "\n",
      "saving results\n",
      "############################################################################################################\n",
      "relation_id >> P159\n",
      "------------------------------------------------------------------------------------------------------\n",
      "unique objects:  178 [' Liverpool', ' Chicago', ' Dublin', ' Lexington', ' Indianapolis']\n"
     ]
    },
    {
     "data": {
      "application/vnd.jupyter.widget-view+json": {
       "model_id": "037ef240f4da4a3f9f0bf206af4e81dd",
       "version_major": 2,
       "version_minor": 0
      },
      "text/plain": [
       "  0%|          | 0/27 [00:00<?, ?it/s]"
      ]
     },
     "metadata": {},
     "output_type": "display_data"
    },
    {
     "name": "stdout",
     "output_type": "stream",
     "text": [
      "3 >> 13.839385986328125 [('��', 19.271), (' SetFontSize', 18.307), ('��', 16.955), (' gmaxwell', 16.883), ('��', 16.331)]\n",
      "P159 >> number of requests in counterfact = 756\n",
      "Checking correct prediction with normal calculation ...\n"
     ]
    },
    {
     "data": {
      "application/vnd.jupyter.widget-view+json": {
       "model_id": "2e8736872ee14583901a1b0edd2593aa",
       "version_major": 2,
       "version_minor": 0
      },
      "text/plain": [
       "  0%|          | 0/756 [00:00<?, ?it/s]"
      ]
     },
     "metadata": {},
     "output_type": "display_data"
    },
    {
     "name": "stdout",
     "output_type": "stream",
     "text": [
      "Number of correctly predicted requests = 159\n",
      "validating on 159 subject --> object associations\n"
     ]
    },
    {
     "data": {
      "application/vnd.jupyter.widget-view+json": {
       "model_id": "b5a08c7692fb40fea726c29903f25a1d",
       "version_major": 2,
       "version_minor": 0
      },
      "text/plain": [
       "  0%|          | 0/159 [00:00<?, ?it/s]"
      ]
     },
     "metadata": {},
     "output_type": "display_data"
    },
    {
     "name": "stdout",
     "output_type": "stream",
     "text": [
      "w = identity >>  0.05660377358490566\n",
      "validating on 159 subject --> object associations\n"
     ]
    },
    {
     "data": {
      "application/vnd.jupyter.widget-view+json": {
       "model_id": "e89df96980c14212a52f686c49d0b200",
       "version_major": 2,
       "version_minor": 0
      },
      "text/plain": [
       "  0%|          | 0/159 [00:00<?, ?it/s]"
      ]
     },
     "metadata": {},
     "output_type": "display_data"
    },
    {
     "name": "stdout",
     "output_type": "stream",
     "text": [
      "w = jacobian >>  0.6352201257861635\n",
      "\n",
      "6 >> 13.40821361541748 [('��', 18.947), (' SetFontSize', 17.643), ('��', 16.888), (' Kinnikuman', 16.731), (' EntityItem', 16.565)]\n",
      "validating on 159 subject --> object associations\n"
     ]
    },
    {
     "data": {
      "application/vnd.jupyter.widget-view+json": {
       "model_id": "225e88d7ac8e49daaf00e47f6c74aa39",
       "version_major": 2,
       "version_minor": 0
      },
      "text/plain": [
       "  0%|          | 0/159 [00:00<?, ?it/s]"
      ]
     },
     "metadata": {},
     "output_type": "display_data"
    },
    {
     "name": "stdout",
     "output_type": "stream",
     "text": [
      "w = identity >>  0.05660377358490566\n",
      "validating on 159 subject --> object associations\n"
     ]
    },
    {
     "data": {
      "application/vnd.jupyter.widget-view+json": {
       "model_id": "0e658821652d43368391bb4805e64989",
       "version_major": 2,
       "version_minor": 0
      },
      "text/plain": [
       "  0%|          | 0/159 [00:00<?, ?it/s]"
      ]
     },
     "metadata": {},
     "output_type": "display_data"
    },
    {
     "name": "stdout",
     "output_type": "stream",
     "text": [
      "w = jacobian >>  0.6352201257861635\n",
      "\n",
      "9 >> 15.555806159973145 [(' Canaver', 16.605), (' EntityItem', 16.564), (' Nanto', 16.544), (' SetFontSize', 16.437), (' Britons', 16.134)]\n",
      "validating on 159 subject --> object associations\n"
     ]
    },
    {
     "data": {
      "application/vnd.jupyter.widget-view+json": {
       "model_id": "fa099e1df3e543929cf4586104e4c160",
       "version_major": 2,
       "version_minor": 0
      },
      "text/plain": [
       "  0%|          | 0/159 [00:00<?, ?it/s]"
      ]
     },
     "metadata": {},
     "output_type": "display_data"
    },
    {
     "name": "stdout",
     "output_type": "stream",
     "text": [
      "w = identity >>  0.08176100628930817\n",
      "validating on 159 subject --> object associations\n"
     ]
    },
    {
     "data": {
      "application/vnd.jupyter.widget-view+json": {
       "model_id": "4807f4ffc14245dca66e4fef734cf7d6",
       "version_major": 2,
       "version_minor": 0
      },
      "text/plain": [
       "  0%|          | 0/159 [00:00<?, ?it/s]"
      ]
     },
     "metadata": {},
     "output_type": "display_data"
    },
    {
     "name": "stdout",
     "output_type": "stream",
     "text": [
      "w = jacobian >>  0.6415094339622641\n",
      "\n",
      "12 >> 16.171964645385742 [(' Denmark', 20.518), (' Cornwall', 20.416), (' Charlottesville', 20.135), (' Zurich', 19.485), (' Tunisia', 19.445)]\n",
      "validating on 159 subject --> object associations\n"
     ]
    },
    {
     "data": {
      "application/vnd.jupyter.widget-view+json": {
       "model_id": "879ddf2393ce41ac835e85fd437216fc",
       "version_major": 2,
       "version_minor": 0
      },
      "text/plain": [
       "  0%|          | 0/159 [00:00<?, ?it/s]"
      ]
     },
     "metadata": {},
     "output_type": "display_data"
    },
    {
     "name": "stdout",
     "output_type": "stream",
     "text": [
      "w = identity >>  0.0880503144654088\n",
      "validating on 159 subject --> object associations\n"
     ]
    },
    {
     "data": {
      "application/vnd.jupyter.widget-view+json": {
       "model_id": "434f8aba0c3140b89710e22bd8effba8",
       "version_major": 2,
       "version_minor": 0
      },
      "text/plain": [
       "  0%|          | 0/159 [00:00<?, ?it/s]"
      ]
     },
     "metadata": {},
     "output_type": "display_data"
    },
    {
     "name": "stdout",
     "output_type": "stream",
     "text": [
      "w = jacobian >>  0.6540880503144654\n",
      "\n",
      "15 >> 16.576623916625977 [(' Canterbury', 26.26), (' Denmark', 26.179), (' Cornwall', 24.855), (' Lowell', 24.614), (' Halifax', 24.589)]\n",
      "validating on 159 subject --> object associations\n"
     ]
    },
    {
     "data": {
      "application/vnd.jupyter.widget-view+json": {
       "model_id": "70084067c0f24c30b52e475c5ae12d90",
       "version_major": 2,
       "version_minor": 0
      },
      "text/plain": [
       "  0%|          | 0/159 [00:00<?, ?it/s]"
      ]
     },
     "metadata": {},
     "output_type": "display_data"
    },
    {
     "name": "stdout",
     "output_type": "stream",
     "text": [
      "w = identity >>  0.11320754716981132\n",
      "validating on 159 subject --> object associations\n"
     ]
    },
    {
     "data": {
      "application/vnd.jupyter.widget-view+json": {
       "model_id": "25230a6513bd483d9830bd6b59ee806b",
       "version_major": 2,
       "version_minor": 0
      },
      "text/plain": [
       "  0%|          | 0/159 [00:00<?, ?it/s]"
      ]
     },
     "metadata": {},
     "output_type": "display_data"
    },
    {
     "name": "stdout",
     "output_type": "stream",
     "text": [
      "w = jacobian >>  0.6540880503144654\n",
      "\n",
      "18 >> 17.650022506713867 [(' Denmark', 33.333), (' Syracuse', 30.998), (' Zurich', 30.553), (' Windsor', 30.405), (' Lowell', 30.399)]\n",
      "validating on 159 subject --> object associations\n"
     ]
    },
    {
     "data": {
      "application/vnd.jupyter.widget-view+json": {
       "model_id": "0ce558b022a546d5892ddea822cb9cba",
       "version_major": 2,
       "version_minor": 0
      },
      "text/plain": [
       "  0%|          | 0/159 [00:00<?, ?it/s]"
      ]
     },
     "metadata": {},
     "output_type": "display_data"
    },
    {
     "name": "stdout",
     "output_type": "stream",
     "text": [
      "w = identity >>  0.12578616352201258\n",
      "validating on 159 subject --> object associations\n"
     ]
    },
    {
     "data": {
      "application/vnd.jupyter.widget-view+json": {
       "model_id": "19a2aa2e397442db8d895366bf64ac9b",
       "version_major": 2,
       "version_minor": 0
      },
      "text/plain": [
       "  0%|          | 0/159 [00:00<?, ?it/s]"
      ]
     },
     "metadata": {},
     "output_type": "display_data"
    },
    {
     "name": "stdout",
     "output_type": "stream",
     "text": [
      "w = jacobian >>  0.6792452830188679\n",
      "\n",
      "21 >> 19.0705623626709 [(' Windsor', 37.219), (' Denmark', 36.372), (' Lebanon', 36.243), (' Syracuse', 36.242), (' Zurich', 36.099)]\n",
      "validating on 159 subject --> object associations\n"
     ]
    },
    {
     "data": {
      "application/vnd.jupyter.widget-view+json": {
       "model_id": "9806bc44595a43a5b980aea0940f18dd",
       "version_major": 2,
       "version_minor": 0
      },
      "text/plain": [
       "  0%|          | 0/159 [00:00<?, ?it/s]"
      ]
     },
     "metadata": {},
     "output_type": "display_data"
    },
    {
     "name": "stdout",
     "output_type": "stream",
     "text": [
      "w = identity >>  0.14465408805031446\n",
      "validating on 159 subject --> object associations\n"
     ]
    },
    {
     "data": {
      "application/vnd.jupyter.widget-view+json": {
       "model_id": "28ed665890174a65a2da9c6d25598225",
       "version_major": 2,
       "version_minor": 0
      },
      "text/plain": [
       "  0%|          | 0/159 [00:00<?, ?it/s]"
      ]
     },
     "metadata": {},
     "output_type": "display_data"
    },
    {
     "name": "stdout",
     "output_type": "stream",
     "text": [
      "w = jacobian >>  0.6855345911949685\n",
      "\n",
      "24 >> 20.957340240478516 [(' Denmark', 41.012), (' Newport', 40.508), (' Windsor', 40.478), (' Jacksonville', 40.419), (' Newark', 40.127)]\n",
      "validating on 159 subject --> object associations\n"
     ]
    },
    {
     "data": {
      "application/vnd.jupyter.widget-view+json": {
       "model_id": "3c235a05c9104f48b4f455c49cb46e82",
       "version_major": 2,
       "version_minor": 0
      },
      "text/plain": [
       "  0%|          | 0/159 [00:00<?, ?it/s]"
      ]
     },
     "metadata": {},
     "output_type": "display_data"
    },
    {
     "name": "stdout",
     "output_type": "stream",
     "text": [
      "w = identity >>  0.16981132075471697\n",
      "validating on 159 subject --> object associations\n"
     ]
    },
    {
     "data": {
      "application/vnd.jupyter.widget-view+json": {
       "model_id": "10951c03912942909bf8288f4a6ad0c0",
       "version_major": 2,
       "version_minor": 0
      },
      "text/plain": [
       "  0%|          | 0/159 [00:00<?, ?it/s]"
      ]
     },
     "metadata": {},
     "output_type": "display_data"
    },
    {
     "name": "stdout",
     "output_type": "stream",
     "text": [
      "w = jacobian >>  0.710691823899371\n",
      "\n",
      "27 >> 23.401643753051758 [(' Denmark', 44.732), (' Lebanon', 44.292), (' Windsor', 43.52), (' Newark', 43.039), (' Richmond', 42.853)]\n",
      "validating on 159 subject --> object associations\n"
     ]
    },
    {
     "data": {
      "application/vnd.jupyter.widget-view+json": {
       "model_id": "4b5c95292161477ba7b8c59ef7916b82",
       "version_major": 2,
       "version_minor": 0
      },
      "text/plain": [
       "  0%|          | 0/159 [00:00<?, ?it/s]"
      ]
     },
     "metadata": {},
     "output_type": "display_data"
    },
    {
     "name": "stdout",
     "output_type": "stream",
     "text": [
      "w = identity >>  0.1949685534591195\n",
      "validating on 159 subject --> object associations\n"
     ]
    },
    {
     "data": {
      "application/vnd.jupyter.widget-view+json": {
       "model_id": "39fd95a14c4c41e18a4d60fb0dc4b65d",
       "version_major": 2,
       "version_minor": 0
      },
      "text/plain": [
       "  0%|          | 0/159 [00:00<?, ?it/s]"
      ]
     },
     "metadata": {},
     "output_type": "display_data"
    },
    {
     "name": "stdout",
     "output_type": "stream",
     "text": [
      "w = jacobian >>  0.6981132075471698\n",
      "\n",
      "30 >> 26.65520668029785 [(' Denmark', 47.231), (' Lebanon', 46.471), (' Windsor', 45.982), (' Portland', 45.471), (' Boise', 45.374)]\n",
      "validating on 159 subject --> object associations\n"
     ]
    },
    {
     "data": {
      "application/vnd.jupyter.widget-view+json": {
       "model_id": "214089b40cc14094adbed65a7c3853ba",
       "version_major": 2,
       "version_minor": 0
      },
      "text/plain": [
       "  0%|          | 0/159 [00:00<?, ?it/s]"
      ]
     },
     "metadata": {},
     "output_type": "display_data"
    },
    {
     "name": "stdout",
     "output_type": "stream",
     "text": [
      "w = identity >>  0.23270440251572327\n",
      "validating on 159 subject --> object associations\n"
     ]
    },
    {
     "data": {
      "application/vnd.jupyter.widget-view+json": {
       "model_id": "b31b1ef3d8264b5d99ba0301843e02d7",
       "version_major": 2,
       "version_minor": 0
      },
      "text/plain": [
       "  0%|          | 0/159 [00:00<?, ?it/s]"
      ]
     },
     "metadata": {},
     "output_type": "display_data"
    },
    {
     "name": "stdout",
     "output_type": "stream",
     "text": [
      "w = jacobian >>  0.7169811320754716\n",
      "\n",
      "33 >> 29.727619171142578 [(' Denmark', 50.123), (' Lebanon', 49.102), (' Syracuse', 48.663), (' Newark', 48.62), (' Windsor', 48.577)]\n",
      "validating on 159 subject --> object associations\n"
     ]
    },
    {
     "data": {
      "application/vnd.jupyter.widget-view+json": {
       "model_id": "af307a8acbe74b2ab59fdb65d6c927ea",
       "version_major": 2,
       "version_minor": 0
      },
      "text/plain": [
       "  0%|          | 0/159 [00:00<?, ?it/s]"
      ]
     },
     "metadata": {},
     "output_type": "display_data"
    },
    {
     "name": "stdout",
     "output_type": "stream",
     "text": [
      "w = identity >>  0.2641509433962264\n",
      "validating on 159 subject --> object associations\n"
     ]
    },
    {
     "data": {
      "application/vnd.jupyter.widget-view+json": {
       "model_id": "d39173e419a54f29ba70fedf1dca29f1",
       "version_major": 2,
       "version_minor": 0
      },
      "text/plain": [
       "  0%|          | 0/159 [00:00<?, ?it/s]"
      ]
     },
     "metadata": {},
     "output_type": "display_data"
    },
    {
     "name": "stdout",
     "output_type": "stream",
     "text": [
      "w = jacobian >>  0.710691823899371\n",
      "\n",
      "36 >> 33.15690612792969 [(' Lebanon', 53.52), (' Denmark', 51.395), (' Newport', 50.549), (' Washington', 50.134), (' Ottawa', 50.067)]\n",
      "validating on 159 subject --> object associations\n"
     ]
    },
    {
     "data": {
      "application/vnd.jupyter.widget-view+json": {
       "model_id": "b9458174c7c14d1ebb127f6b4146e645",
       "version_major": 2,
       "version_minor": 0
      },
      "text/plain": [
       "  0%|          | 0/159 [00:00<?, ?it/s]"
      ]
     },
     "metadata": {},
     "output_type": "display_data"
    },
    {
     "name": "stdout",
     "output_type": "stream",
     "text": [
      "w = identity >>  0.2830188679245283\n",
      "validating on 159 subject --> object associations\n"
     ]
    },
    {
     "data": {
      "application/vnd.jupyter.widget-view+json": {
       "model_id": "8aa080c0e377484b9fd1b09b23467958",
       "version_major": 2,
       "version_minor": 0
      },
      "text/plain": [
       "  0%|          | 0/159 [00:00<?, ?it/s]"
      ]
     },
     "metadata": {},
     "output_type": "display_data"
    },
    {
     "name": "stdout",
     "output_type": "stream",
     "text": [
      "w = jacobian >>  0.7169811320754716\n",
      "\n",
      "39 >> 35.98118209838867 [(' Lebanon', 54.656), (' Denmark', 53.146), (' South', 52.926), (' Holland', 52.457), (' Windsor', 52.08)]\n",
      "validating on 159 subject --> object associations\n"
     ]
    },
    {
     "data": {
      "application/vnd.jupyter.widget-view+json": {
       "model_id": "d9321146d7d74c6482d21862eeccb451",
       "version_major": 2,
       "version_minor": 0
      },
      "text/plain": [
       "  0%|          | 0/159 [00:00<?, ?it/s]"
      ]
     },
     "metadata": {},
     "output_type": "display_data"
    },
    {
     "name": "stdout",
     "output_type": "stream",
     "text": [
      "w = identity >>  0.3333333333333333\n",
      "validating on 159 subject --> object associations\n"
     ]
    },
    {
     "data": {
      "application/vnd.jupyter.widget-view+json": {
       "model_id": "4b350eb818224b528c3c88fab3f17e3e",
       "version_major": 2,
       "version_minor": 0
      },
      "text/plain": [
       "  0%|          | 0/159 [00:00<?, ?it/s]"
      ]
     },
     "metadata": {},
     "output_type": "display_data"
    },
    {
     "name": "stdout",
     "output_type": "stream",
     "text": [
      "w = jacobian >>  0.7358490566037735\n",
      "\n",
      "42 >> 38.50679397583008 [(' Denmark', 54.978), (' Washington', 54.516), (' Birmingham', 54.341), (' Newport', 54.332), (' Lebanon', 54.141)]\n",
      "validating on 159 subject --> object associations\n"
     ]
    },
    {
     "data": {
      "application/vnd.jupyter.widget-view+json": {
       "model_id": "f02a6476c28e490596a8525b2dbf81da",
       "version_major": 2,
       "version_minor": 0
      },
      "text/plain": [
       "  0%|          | 0/159 [00:00<?, ?it/s]"
      ]
     },
     "metadata": {},
     "output_type": "display_data"
    },
    {
     "name": "stdout",
     "output_type": "stream",
     "text": [
      "w = identity >>  0.34591194968553457\n",
      "validating on 159 subject --> object associations\n"
     ]
    },
    {
     "data": {
      "application/vnd.jupyter.widget-view+json": {
       "model_id": "bd3fd5419eb9443199dead85bb2ac886",
       "version_major": 2,
       "version_minor": 0
      },
      "text/plain": [
       "  0%|          | 0/159 [00:00<?, ?it/s]"
      ]
     },
     "metadata": {},
     "output_type": "display_data"
    },
    {
     "name": "stdout",
     "output_type": "stream",
     "text": [
      "w = jacobian >>  0.7232704402515723\n",
      "\n",
      "45 >> 40.556522369384766 [(' Denmark', 57.556), (' Lebanon', 57.414), (' Birmingham', 56.97), (' South', 56.658), (' Portland', 56.461)]\n",
      "validating on 159 subject --> object associations\n"
     ]
    },
    {
     "data": {
      "application/vnd.jupyter.widget-view+json": {
       "model_id": "766b51dd1d1e4e729cb47a06abc468a4",
       "version_major": 2,
       "version_minor": 0
      },
      "text/plain": [
       "  0%|          | 0/159 [00:00<?, ?it/s]"
      ]
     },
     "metadata": {},
     "output_type": "display_data"
    },
    {
     "name": "stdout",
     "output_type": "stream",
     "text": [
      "w = identity >>  0.36477987421383645\n",
      "validating on 159 subject --> object associations\n"
     ]
    },
    {
     "data": {
      "application/vnd.jupyter.widget-view+json": {
       "model_id": "10d1f86423bb4e3da417af673268eb99",
       "version_major": 2,
       "version_minor": 0
      },
      "text/plain": [
       "  0%|          | 0/159 [00:00<?, ?it/s]"
      ]
     },
     "metadata": {},
     "output_type": "display_data"
    },
    {
     "name": "stdout",
     "output_type": "stream",
     "text": [
      "w = jacobian >>  0.7295597484276729\n",
      "\n",
      "48 >> 42.842403411865234 [(' Washington', 59.553), (' South', 59.334), (' Lebanon', 58.995), (' Birmingham', 58.8), (' Denmark', 58.687)]\n",
      "validating on 159 subject --> object associations\n"
     ]
    },
    {
     "data": {
      "application/vnd.jupyter.widget-view+json": {
       "model_id": "fc8a896a2b604df88afcd44deefc64ca",
       "version_major": 2,
       "version_minor": 0
      },
      "text/plain": [
       "  0%|          | 0/159 [00:00<?, ?it/s]"
      ]
     },
     "metadata": {},
     "output_type": "display_data"
    },
    {
     "name": "stdout",
     "output_type": "stream",
     "text": [
      "w = identity >>  0.3836477987421384\n",
      "validating on 159 subject --> object associations\n"
     ]
    },
    {
     "data": {
      "application/vnd.jupyter.widget-view+json": {
       "model_id": "425740c8dd224aa19a0279073c7de5bc",
       "version_major": 2,
       "version_minor": 0
      },
      "text/plain": [
       "  0%|          | 0/159 [00:00<?, ?it/s]"
      ]
     },
     "metadata": {},
     "output_type": "display_data"
    },
    {
     "name": "stdout",
     "output_type": "stream",
     "text": [
      "w = jacobian >>  0.7169811320754716\n",
      "\n",
      "51 >> 44.28791046142578 [(' Washington', 61.993), (' Lebanon', 61.735), (' San', 61.06), (' South', 61.021), (' Birmingham', 60.684)]\n",
      "validating on 159 subject --> object associations\n"
     ]
    },
    {
     "data": {
      "application/vnd.jupyter.widget-view+json": {
       "model_id": "2375c4dcdeb14472a0d55a46c0363d17",
       "version_major": 2,
       "version_minor": 0
      },
      "text/plain": [
       "  0%|          | 0/159 [00:00<?, ?it/s]"
      ]
     },
     "metadata": {},
     "output_type": "display_data"
    },
    {
     "name": "stdout",
     "output_type": "stream",
     "text": [
      "w = identity >>  0.39622641509433965\n",
      "validating on 159 subject --> object associations\n"
     ]
    },
    {
     "data": {
      "application/vnd.jupyter.widget-view+json": {
       "model_id": "ac35b9f33ec64f12b6cd16c13e6f5847",
       "version_major": 2,
       "version_minor": 0
      },
      "text/plain": [
       "  0%|          | 0/159 [00:00<?, ?it/s]"
      ]
     },
     "metadata": {},
     "output_type": "display_data"
    },
    {
     "name": "stdout",
     "output_type": "stream",
     "text": [
      "w = jacobian >>  0.7358490566037735\n",
      "\n",
      "54 >> 45.84153747558594 [(' Washington', 64.694), (' Berlin', 63.442), (' Birmingham', 63.241), (' Athens', 62.723), (' San', 62.67)]\n",
      "validating on 159 subject --> object associations\n"
     ]
    },
    {
     "data": {
      "application/vnd.jupyter.widget-view+json": {
       "model_id": "ec7efa4a23a046d1a71de2fc0af4fb13",
       "version_major": 2,
       "version_minor": 0
      },
      "text/plain": [
       "  0%|          | 0/159 [00:00<?, ?it/s]"
      ]
     },
     "metadata": {},
     "output_type": "display_data"
    },
    {
     "name": "stdout",
     "output_type": "stream",
     "text": [
      "w = identity >>  0.4088050314465409\n",
      "validating on 159 subject --> object associations\n"
     ]
    },
    {
     "data": {
      "application/vnd.jupyter.widget-view+json": {
       "model_id": "34f7a530bd4847a09b1265d7da20aa67",
       "version_major": 2,
       "version_minor": 0
      },
      "text/plain": [
       "  0%|          | 0/159 [00:00<?, ?it/s]"
      ]
     },
     "metadata": {},
     "output_type": "display_data"
    },
    {
     "name": "stdout",
     "output_type": "stream",
     "text": [
      "w = jacobian >>  0.7358490566037735\n",
      "\n",
      "57 >> 46.60429763793945 [(' Washington', 66.888), (' Berlin', 66.021), (' Richmond', 65.9), (' Birmingham', 65.712), (' London', 65.658)]\n",
      "validating on 159 subject --> object associations\n"
     ]
    },
    {
     "data": {
      "application/vnd.jupyter.widget-view+json": {
       "model_id": "706318f7f83b43d6834c3c448f1d0357",
       "version_major": 2,
       "version_minor": 0
      },
      "text/plain": [
       "  0%|          | 0/159 [00:00<?, ?it/s]"
      ]
     },
     "metadata": {},
     "output_type": "display_data"
    },
    {
     "name": "stdout",
     "output_type": "stream",
     "text": [
      "w = identity >>  0.4088050314465409\n",
      "validating on 159 subject --> object associations\n"
     ]
    },
    {
     "data": {
      "application/vnd.jupyter.widget-view+json": {
       "model_id": "28e0d48b9dd341cc89259bbb75b8e372",
       "version_major": 2,
       "version_minor": 0
      },
      "text/plain": [
       "  0%|          | 0/159 [00:00<?, ?it/s]"
      ]
     },
     "metadata": {},
     "output_type": "display_data"
    },
    {
     "name": "stdout",
     "output_type": "stream",
     "text": [
      "w = jacobian >>  0.7484276729559748\n",
      "\n",
      "60 >> 47.05990219116211 [(' Washington', 70.037), (' Berlin', 69.43), (' London', 69.238), (' Birmingham', 68.985), (' Richmond', 68.14)]\n",
      "validating on 159 subject --> object associations\n"
     ]
    },
    {
     "data": {
      "application/vnd.jupyter.widget-view+json": {
       "model_id": "558353f8875f4e40bd66f4230f52daac",
       "version_major": 2,
       "version_minor": 0
      },
      "text/plain": [
       "  0%|          | 0/159 [00:00<?, ?it/s]"
      ]
     },
     "metadata": {},
     "output_type": "display_data"
    },
    {
     "name": "stdout",
     "output_type": "stream",
     "text": [
      "w = identity >>  0.4276729559748428\n",
      "validating on 159 subject --> object associations\n"
     ]
    },
    {
     "data": {
      "application/vnd.jupyter.widget-view+json": {
       "model_id": "74ad4298aa0543428d9234ab68fddd21",
       "version_major": 2,
       "version_minor": 0
      },
      "text/plain": [
       "  0%|          | 0/159 [00:00<?, ?it/s]"
      ]
     },
     "metadata": {},
     "output_type": "display_data"
    },
    {
     "name": "stdout",
     "output_type": "stream",
     "text": [
      "w = jacobian >>  0.7232704402515723\n",
      "\n",
      "63 >> 47.45797348022461 [(' London', 72.756), (' Berlin', 72.408), (' Washington', 72.276), (' Boston', 71.418), (' Birmingham', 71.281)]\n",
      "validating on 159 subject --> object associations\n"
     ]
    },
    {
     "data": {
      "application/vnd.jupyter.widget-view+json": {
       "model_id": "401fc146401a4e86bdc779007d351f51",
       "version_major": 2,
       "version_minor": 0
      },
      "text/plain": [
       "  0%|          | 0/159 [00:00<?, ?it/s]"
      ]
     },
     "metadata": {},
     "output_type": "display_data"
    },
    {
     "name": "stdout",
     "output_type": "stream",
     "text": [
      "w = identity >>  0.44025157232704404\n",
      "validating on 159 subject --> object associations\n"
     ]
    },
    {
     "data": {
      "application/vnd.jupyter.widget-view+json": {
       "model_id": "8a9ccbca083744a6831477e85a7e1be4",
       "version_major": 2,
       "version_minor": 0
      },
      "text/plain": [
       "  0%|          | 0/159 [00:00<?, ?it/s]"
      ]
     },
     "metadata": {},
     "output_type": "display_data"
    },
    {
     "name": "stdout",
     "output_type": "stream",
     "text": [
      "w = jacobian >>  0.7421383647798742\n",
      "\n",
      "66 >> 47.651817321777344 [(' London', 76.623), (' Berlin', 75.473), (' Washington', 74.696), (' Boston', 74.546), (' Birmingham', 73.76)]\n",
      "validating on 159 subject --> object associations\n"
     ]
    },
    {
     "data": {
      "application/vnd.jupyter.widget-view+json": {
       "model_id": "34412c6a710f4053881dd7056d6a819e",
       "version_major": 2,
       "version_minor": 0
      },
      "text/plain": [
       "  0%|          | 0/159 [00:00<?, ?it/s]"
      ]
     },
     "metadata": {},
     "output_type": "display_data"
    },
    {
     "name": "stdout",
     "output_type": "stream",
     "text": [
      "w = identity >>  0.44025157232704404\n",
      "validating on 159 subject --> object associations\n"
     ]
    },
    {
     "data": {
      "application/vnd.jupyter.widget-view+json": {
       "model_id": "fc192390cec5468882d4e96968ba2da8",
       "version_major": 2,
       "version_minor": 0
      },
      "text/plain": [
       "  0%|          | 0/159 [00:00<?, ?it/s]"
      ]
     },
     "metadata": {},
     "output_type": "display_data"
    },
    {
     "name": "stdout",
     "output_type": "stream",
     "text": [
      "w = jacobian >>  0.710691823899371\n",
      "\n",
      "69 >> 47.80234146118164 [(' London', 80.022), (' Berlin', 78.14), (' Boston', 77.261), (' Washington', 76.831), (' Birmingham', 76.379)]\n",
      "validating on 159 subject --> object associations\n"
     ]
    },
    {
     "data": {
      "application/vnd.jupyter.widget-view+json": {
       "model_id": "b2ff825f835447ce96a7e829168bebdf",
       "version_major": 2,
       "version_minor": 0
      },
      "text/plain": [
       "  0%|          | 0/159 [00:00<?, ?it/s]"
      ]
     },
     "metadata": {},
     "output_type": "display_data"
    },
    {
     "name": "stdout",
     "output_type": "stream",
     "text": [
      "w = identity >>  0.44654088050314467\n",
      "validating on 159 subject --> object associations\n"
     ]
    },
    {
     "data": {
      "application/vnd.jupyter.widget-view+json": {
       "model_id": "8d15ee45d2e146059008dee6931b91e9",
       "version_major": 2,
       "version_minor": 0
      },
      "text/plain": [
       "  0%|          | 0/159 [00:00<?, ?it/s]"
      ]
     },
     "metadata": {},
     "output_type": "display_data"
    },
    {
     "name": "stdout",
     "output_type": "stream",
     "text": [
      "w = jacobian >>  0.6981132075471698\n",
      "\n",
      "72 >> 47.869590759277344 [(' London', 82.905), (' Berlin', 80.69), (' Boston', 80.181), (' Paris', 78.881), (' Washington', 78.525)]\n",
      "validating on 159 subject --> object associations\n"
     ]
    },
    {
     "data": {
      "application/vnd.jupyter.widget-view+json": {
       "model_id": "666139cf3df743159b3e4d40414d53e5",
       "version_major": 2,
       "version_minor": 0
      },
      "text/plain": [
       "  0%|          | 0/159 [00:00<?, ?it/s]"
      ]
     },
     "metadata": {},
     "output_type": "display_data"
    },
    {
     "name": "stdout",
     "output_type": "stream",
     "text": [
      "w = identity >>  0.4528301886792453\n",
      "validating on 159 subject --> object associations\n"
     ]
    },
    {
     "data": {
      "application/vnd.jupyter.widget-view+json": {
       "model_id": "56975fbcf4014846a0bc2cd2d767f517",
       "version_major": 2,
       "version_minor": 0
      },
      "text/plain": [
       "  0%|          | 0/159 [00:00<?, ?it/s]"
      ]
     },
     "metadata": {},
     "output_type": "display_data"
    },
    {
     "name": "stdout",
     "output_type": "stream",
     "text": [
      "w = jacobian >>  0.660377358490566\n",
      "\n",
      "75 >> 47.789878845214844 [(' London', 85.645), (' Boston', 82.476), (' Berlin', 82.464), (' Paris', 80.953), (' Chicago', 80.171)]\n",
      "validating on 159 subject --> object associations\n"
     ]
    },
    {
     "data": {
      "application/vnd.jupyter.widget-view+json": {
       "model_id": "9eb5fda16d0b4f5898a5d611bb26f3ff",
       "version_major": 2,
       "version_minor": 0
      },
      "text/plain": [
       "  0%|          | 0/159 [00:00<?, ?it/s]"
      ]
     },
     "metadata": {},
     "output_type": "display_data"
    },
    {
     "name": "stdout",
     "output_type": "stream",
     "text": [
      "w = identity >>  0.4528301886792453\n",
      "validating on 159 subject --> object associations\n"
     ]
    },
    {
     "data": {
      "application/vnd.jupyter.widget-view+json": {
       "model_id": "9bdce425f3fd4bd89b4c07bc64683e41",
       "version_major": 2,
       "version_minor": 0
      },
      "text/plain": [
       "  0%|          | 0/159 [00:00<?, ?it/s]"
      ]
     },
     "metadata": {},
     "output_type": "display_data"
    },
    {
     "name": "stdout",
     "output_type": "stream",
     "text": [
      "w = jacobian >>  0.6289308176100629\n",
      "\n",
      "78 >> 47.785518646240234 [(' London', 87.637), (' Boston', 84.097), (' Berlin', 83.954), (' Paris', 82.537), (' Chicago', 82.024)]\n",
      "validating on 159 subject --> object associations\n"
     ]
    },
    {
     "data": {
      "application/vnd.jupyter.widget-view+json": {
       "model_id": "9b520a67128c4254a22f2c801234e862",
       "version_major": 2,
       "version_minor": 0
      },
      "text/plain": [
       "  0%|          | 0/159 [00:00<?, ?it/s]"
      ]
     },
     "metadata": {},
     "output_type": "display_data"
    },
    {
     "name": "stdout",
     "output_type": "stream",
     "text": [
      "w = identity >>  0.4591194968553459\n",
      "validating on 159 subject --> object associations\n"
     ]
    },
    {
     "data": {
      "application/vnd.jupyter.widget-view+json": {
       "model_id": "ad61d01ac4234b3089e9a8f614ea4e8a",
       "version_major": 2,
       "version_minor": 0
      },
      "text/plain": [
       "  0%|          | 0/159 [00:00<?, ?it/s]"
      ]
     },
     "metadata": {},
     "output_type": "display_data"
    },
    {
     "name": "stdout",
     "output_type": "stream",
     "text": [
      "w = jacobian >>  0.6163522012578616\n",
      "\n",
      "81 >> 48.106754302978516 [(' London', 89.201), (' Boston', 85.356), (' Berlin', 85.062), (' Paris', 83.699), (' Chicago', 83.632)]\n",
      "validating on 159 subject --> object associations\n"
     ]
    },
    {
     "data": {
      "application/vnd.jupyter.widget-view+json": {
       "model_id": "9311fd1f7bad4d6584cd60c0efddd79b",
       "version_major": 2,
       "version_minor": 0
      },
      "text/plain": [
       "  0%|          | 0/159 [00:00<?, ?it/s]"
      ]
     },
     "metadata": {},
     "output_type": "display_data"
    },
    {
     "name": "stdout",
     "output_type": "stream",
     "text": [
      "w = identity >>  0.44654088050314467\n",
      "validating on 159 subject --> object associations\n"
     ]
    },
    {
     "data": {
      "application/vnd.jupyter.widget-view+json": {
       "model_id": "b0bc96b47d644bbba6d989b59da44bd8",
       "version_major": 2,
       "version_minor": 0
      },
      "text/plain": [
       "  0%|          | 0/159 [00:00<?, ?it/s]"
      ]
     },
     "metadata": {},
     "output_type": "display_data"
    },
    {
     "name": "stdout",
     "output_type": "stream",
     "text": [
      "w = jacobian >>  0.5974842767295597\n",
      "\n",
      "saving results\n",
      "############################################################################################################\n",
      "relation_id >> P20\n",
      "------------------------------------------------------------------------------------------------------\n",
      "unique objects:  169 [' Chicago', ' Dublin', ' Lexington', ' Indianapolis', ' Baghdad']\n"
     ]
    },
    {
     "data": {
      "application/vnd.jupyter.widget-view+json": {
       "model_id": "1fd984347ca3424bb36995f8f6b27b16",
       "version_major": 2,
       "version_minor": 0
      },
      "text/plain": [
       "  0%|          | 0/27 [00:00<?, ?it/s]"
      ]
     },
     "metadata": {},
     "output_type": "display_data"
    },
    {
     "name": "stdout",
     "output_type": "stream",
     "text": [
      "3 >> 13.21385669708252 [('��', 19.069), (' SetFontSize', 19.059), (' EntityItem', 17.311), ('��', 17.049), (' gmaxwell', 16.756)]\n",
      "P20 >> number of requests in counterfact = 816\n",
      "Checking correct prediction with normal calculation ...\n"
     ]
    },
    {
     "data": {
      "application/vnd.jupyter.widget-view+json": {
       "model_id": "6f7980d9696a457f82ff5433bccc9199",
       "version_major": 2,
       "version_minor": 0
      },
      "text/plain": [
       "  0%|          | 0/816 [00:00<?, ?it/s]"
      ]
     },
     "metadata": {},
     "output_type": "display_data"
    },
    {
     "name": "stdout",
     "output_type": "stream",
     "text": [
      "Number of correctly predicted requests = 145\n",
      "validating on 145 subject --> object associations\n"
     ]
    },
    {
     "data": {
      "application/vnd.jupyter.widget-view+json": {
       "model_id": "ab17fbf76e4f448bbe8f65a137648bd4",
       "version_major": 2,
       "version_minor": 0
      },
      "text/plain": [
       "  0%|          | 0/145 [00:00<?, ?it/s]"
      ]
     },
     "metadata": {},
     "output_type": "display_data"
    },
    {
     "name": "stdout",
     "output_type": "stream",
     "text": [
      "w = identity >>  0.06896551724137931\n",
      "validating on 145 subject --> object associations\n"
     ]
    },
    {
     "data": {
      "application/vnd.jupyter.widget-view+json": {
       "model_id": "5fc9afad46b34809b4210de33b06d92b",
       "version_major": 2,
       "version_minor": 0
      },
      "text/plain": [
       "  0%|          | 0/145 [00:00<?, ?it/s]"
      ]
     },
     "metadata": {},
     "output_type": "display_data"
    },
    {
     "name": "stdout",
     "output_type": "stream",
     "text": [
      "w = jacobian >>  0.013793103448275862\n",
      "\n",
      "6 >> 13.52425765991211 [(' SetFontSize', 18.614), ('��', 18.473), (' EntityItem', 17.183), ('��', 16.72), ('��', 16.587)]\n",
      "validating on 145 subject --> object associations\n"
     ]
    },
    {
     "data": {
      "application/vnd.jupyter.widget-view+json": {
       "model_id": "3668c787affa43d2ae8ac81c8ce5d761",
       "version_major": 2,
       "version_minor": 0
      },
      "text/plain": [
       "  0%|          | 0/145 [00:00<?, ?it/s]"
      ]
     },
     "metadata": {},
     "output_type": "display_data"
    },
    {
     "name": "stdout",
     "output_type": "stream",
     "text": [
      "w = identity >>  0.0896551724137931\n",
      "validating on 145 subject --> object associations\n"
     ]
    },
    {
     "data": {
      "application/vnd.jupyter.widget-view+json": {
       "model_id": "062713667bd141168bc3797972f7bc90",
       "version_major": 2,
       "version_minor": 0
      },
      "text/plain": [
       "  0%|          | 0/145 [00:00<?, ?it/s]"
      ]
     },
     "metadata": {},
     "output_type": "display_data"
    },
    {
     "name": "stdout",
     "output_type": "stream",
     "text": [
      "w = jacobian >>  0.04827586206896552\n",
      "\n",
      "9 >> 15.628471374511719 [(' EntityItem', 16.806), (' Britons', 16.668), (' Moroc', 16.414), (' Azerb', 16.391), (' Pasadena', 16.358)]\n",
      "validating on 145 subject --> object associations\n"
     ]
    },
    {
     "data": {
      "application/vnd.jupyter.widget-view+json": {
       "model_id": "7875e7621e78442daf369b78ce0044f6",
       "version_major": 2,
       "version_minor": 0
      },
      "text/plain": [
       "  0%|          | 0/145 [00:00<?, ?it/s]"
      ]
     },
     "metadata": {},
     "output_type": "display_data"
    },
    {
     "name": "stdout",
     "output_type": "stream",
     "text": [
      "w = identity >>  0.12413793103448276\n",
      "validating on 145 subject --> object associations\n"
     ]
    },
    {
     "data": {
      "application/vnd.jupyter.widget-view+json": {
       "model_id": "ce21e3664b894989aacab16244fde7b8",
       "version_major": 2,
       "version_minor": 0
      },
      "text/plain": [
       "  0%|          | 0/145 [00:00<?, ?it/s]"
      ]
     },
     "metadata": {},
     "output_type": "display_data"
    },
    {
     "name": "stdout",
     "output_type": "stream",
     "text": [
      "w = jacobian >>  0.14482758620689656\n",
      "\n",
      "12 >> 16.124958038330078 [(' Berkshire', 21.145), (' Algeria', 20.988), (' Pasadena', 20.298), (' Tunisia', 19.759), (' Sussex', 19.704)]\n",
      "validating on 145 subject --> object associations\n"
     ]
    },
    {
     "data": {
      "application/vnd.jupyter.widget-view+json": {
       "model_id": "4d55a7ad77f648d5b9163c33139c971c",
       "version_major": 2,
       "version_minor": 0
      },
      "text/plain": [
       "  0%|          | 0/145 [00:00<?, ?it/s]"
      ]
     },
     "metadata": {},
     "output_type": "display_data"
    },
    {
     "name": "stdout",
     "output_type": "stream",
     "text": [
      "w = identity >>  0.1310344827586207\n",
      "validating on 145 subject --> object associations\n"
     ]
    },
    {
     "data": {
      "application/vnd.jupyter.widget-view+json": {
       "model_id": "d3d0121da0294ab89c8d9b6a8f45d097",
       "version_major": 2,
       "version_minor": 0
      },
      "text/plain": [
       "  0%|          | 0/145 [00:00<?, ?it/s]"
      ]
     },
     "metadata": {},
     "output_type": "display_data"
    },
    {
     "name": "stdout",
     "output_type": "stream",
     "text": [
      "w = jacobian >>  0.2\n",
      "\n",
      "15 >> 16.675155639648438 [(' Buenos', 24.999), (' Wyoming', 24.699), (' Berkshire', 24.659), (' Sussex', 24.489), (' Latvia', 24.462)]\n",
      "validating on 145 subject --> object associations\n"
     ]
    },
    {
     "data": {
      "application/vnd.jupyter.widget-view+json": {
       "model_id": "b0d6bdeb373f4f498f4a8c443215daa1",
       "version_major": 2,
       "version_minor": 0
      },
      "text/plain": [
       "  0%|          | 0/145 [00:00<?, ?it/s]"
      ]
     },
     "metadata": {},
     "output_type": "display_data"
    },
    {
     "name": "stdout",
     "output_type": "stream",
     "text": [
      "w = identity >>  0.1724137931034483\n",
      "validating on 145 subject --> object associations\n"
     ]
    },
    {
     "data": {
      "application/vnd.jupyter.widget-view+json": {
       "model_id": "4c2c868815e94973851a924367b9ce01",
       "version_major": 2,
       "version_minor": 0
      },
      "text/plain": [
       "  0%|          | 0/145 [00:00<?, ?it/s]"
      ]
     },
     "metadata": {},
     "output_type": "display_data"
    },
    {
     "name": "stdout",
     "output_type": "stream",
     "text": [
      "w = jacobian >>  0.2482758620689655\n",
      "\n",
      "18 >> 17.61728858947754 [(' Jacksonville', 32.208), (' Sussex', 31.372), (' Pasadena', 31.328), (' Normandy', 30.932), (' Albuquerque', 30.347)]\n",
      "validating on 145 subject --> object associations\n"
     ]
    },
    {
     "data": {
      "application/vnd.jupyter.widget-view+json": {
       "model_id": "9b503023072e4afab7f1031e6b3ce004",
       "version_major": 2,
       "version_minor": 0
      },
      "text/plain": [
       "  0%|          | 0/145 [00:00<?, ?it/s]"
      ]
     },
     "metadata": {},
     "output_type": "display_data"
    },
    {
     "name": "stdout",
     "output_type": "stream",
     "text": [
      "w = identity >>  0.23448275862068965\n",
      "validating on 145 subject --> object associations\n"
     ]
    },
    {
     "data": {
      "application/vnd.jupyter.widget-view+json": {
       "model_id": "01369b0e05904205b67c575f7df2eecc",
       "version_major": 2,
       "version_minor": 0
      },
      "text/plain": [
       "  0%|          | 0/145 [00:00<?, ?it/s]"
      ]
     },
     "metadata": {},
     "output_type": "display_data"
    },
    {
     "name": "stdout",
     "output_type": "stream",
     "text": [
      "w = jacobian >>  0.27586206896551724\n",
      "\n",
      "21 >> 18.678926467895508 [(' Arizona', 36.457), (' Wyoming', 36.199), (' Jacksonville', 35.971), (' Florida', 35.552), (' Tucson', 35.192)]\n",
      "validating on 145 subject --> object associations\n"
     ]
    },
    {
     "data": {
      "application/vnd.jupyter.widget-view+json": {
       "model_id": "e0ac25baf6914eab9016f049a8e79218",
       "version_major": 2,
       "version_minor": 0
      },
      "text/plain": [
       "  0%|          | 0/145 [00:00<?, ?it/s]"
      ]
     },
     "metadata": {},
     "output_type": "display_data"
    },
    {
     "name": "stdout",
     "output_type": "stream",
     "text": [
      "w = identity >>  0.2689655172413793\n",
      "validating on 145 subject --> object associations\n"
     ]
    },
    {
     "data": {
      "application/vnd.jupyter.widget-view+json": {
       "model_id": "ec57d216ed9c466088f29089fb620572",
       "version_major": 2,
       "version_minor": 0
      },
      "text/plain": [
       "  0%|          | 0/145 [00:00<?, ?it/s]"
      ]
     },
     "metadata": {},
     "output_type": "display_data"
    },
    {
     "name": "stdout",
     "output_type": "stream",
     "text": [
      "w = jacobian >>  0.32413793103448274\n",
      "\n",
      "24 >> 20.996782302856445 [(' Jacksonville', 40.476), (' Wyoming', 40.159), (' Kansas', 40.144), (' Sussex', 39.822), (' Arizona', 39.56)]\n",
      "validating on 145 subject --> object associations\n"
     ]
    },
    {
     "data": {
      "application/vnd.jupyter.widget-view+json": {
       "model_id": "fca3177777dc49a2a3a3d20b5d155d8f",
       "version_major": 2,
       "version_minor": 0
      },
      "text/plain": [
       "  0%|          | 0/145 [00:00<?, ?it/s]"
      ]
     },
     "metadata": {},
     "output_type": "display_data"
    },
    {
     "name": "stdout",
     "output_type": "stream",
     "text": [
      "w = identity >>  0.3448275862068966\n",
      "validating on 145 subject --> object associations\n"
     ]
    },
    {
     "data": {
      "application/vnd.jupyter.widget-view+json": {
       "model_id": "e269ef9c9b4047c4b060f4a66e37b936",
       "version_major": 2,
       "version_minor": 0
      },
      "text/plain": [
       "  0%|          | 0/145 [00:00<?, ?it/s]"
      ]
     },
     "metadata": {},
     "output_type": "display_data"
    },
    {
     "name": "stdout",
     "output_type": "stream",
     "text": [
      "w = jacobian >>  0.25517241379310346\n",
      "\n",
      "27 >> 24.3159236907959 [(' Arizona', 44.56), (' Iceland', 43.114), (' Lebanon', 43.046), (' Florida', 42.647), (' Holland', 42.24)]\n",
      "validating on 145 subject --> object associations\n"
     ]
    },
    {
     "data": {
      "application/vnd.jupyter.widget-view+json": {
       "model_id": "3581a904fc4f4261b17d3e2e04cd39bd",
       "version_major": 2,
       "version_minor": 0
      },
      "text/plain": [
       "  0%|          | 0/145 [00:00<?, ?it/s]"
      ]
     },
     "metadata": {},
     "output_type": "display_data"
    },
    {
     "name": "stdout",
     "output_type": "stream",
     "text": [
      "w = identity >>  0.4068965517241379\n",
      "validating on 145 subject --> object associations\n"
     ]
    },
    {
     "data": {
      "application/vnd.jupyter.widget-view+json": {
       "model_id": "295bf85e05ec4ec49d9c1eba38794b33",
       "version_major": 2,
       "version_minor": 0
      },
      "text/plain": [
       "  0%|          | 0/145 [00:00<?, ?it/s]"
      ]
     },
     "metadata": {},
     "output_type": "display_data"
    },
    {
     "name": "stdout",
     "output_type": "stream",
     "text": [
      "w = jacobian >>  0.296551724137931\n",
      "\n",
      "30 >> 27.116151809692383 [(' Lebanon', 47.663), (' Albuquerque', 45.299), (' Valencia', 45.013), (' Florida', 44.891), (' Arizona', 44.451)]\n",
      "validating on 145 subject --> object associations\n"
     ]
    },
    {
     "data": {
      "application/vnd.jupyter.widget-view+json": {
       "model_id": "0eb5a55186354e78911c7515e6c9fa8c",
       "version_major": 2,
       "version_minor": 0
      },
      "text/plain": [
       "  0%|          | 0/145 [00:00<?, ?it/s]"
      ]
     },
     "metadata": {},
     "output_type": "display_data"
    },
    {
     "name": "stdout",
     "output_type": "stream",
     "text": [
      "w = identity >>  0.4482758620689655\n",
      "validating on 145 subject --> object associations\n"
     ]
    },
    {
     "data": {
      "application/vnd.jupyter.widget-view+json": {
       "model_id": "c6e4e3528c4f41458b5d307d8c66d2fa",
       "version_major": 2,
       "version_minor": 0
      },
      "text/plain": [
       "  0%|          | 0/145 [00:00<?, ?it/s]"
      ]
     },
     "metadata": {},
     "output_type": "display_data"
    },
    {
     "name": "stdout",
     "output_type": "stream",
     "text": [
      "w = jacobian >>  0.27586206896551724\n",
      "\n",
      "33 >> 29.681032180786133 [(' Lebanon', 49.991), (' Maine', 48.516), (' Arizona', 48.228), (' Kansas', 47.726), (' Cape', 47.492)]\n",
      "validating on 145 subject --> object associations\n"
     ]
    },
    {
     "data": {
      "application/vnd.jupyter.widget-view+json": {
       "model_id": "e66ae6bbf8d843ba8b441ee3e8a8eb03",
       "version_major": 2,
       "version_minor": 0
      },
      "text/plain": [
       "  0%|          | 0/145 [00:00<?, ?it/s]"
      ]
     },
     "metadata": {},
     "output_type": "display_data"
    },
    {
     "name": "stdout",
     "output_type": "stream",
     "text": [
      "w = identity >>  0.46206896551724136\n",
      "validating on 145 subject --> object associations\n"
     ]
    },
    {
     "data": {
      "application/vnd.jupyter.widget-view+json": {
       "model_id": "182336f68d2947ebae5314afb2ca5168",
       "version_major": 2,
       "version_minor": 0
      },
      "text/plain": [
       "  0%|          | 0/145 [00:00<?, ?it/s]"
      ]
     },
     "metadata": {},
     "output_type": "display_data"
    },
    {
     "name": "stdout",
     "output_type": "stream",
     "text": [
      "w = jacobian >>  0.2689655172413793\n",
      "\n",
      "36 >> 33.205299377441406 [(' Lebanon', 53.306), (' Arizona', 50.924), (' Florida', 49.884), (' Albany', 49.533), (' Kansas', 49.442)]\n",
      "validating on 145 subject --> object associations\n"
     ]
    },
    {
     "data": {
      "application/vnd.jupyter.widget-view+json": {
       "model_id": "a3e4c41f3a0d44138217e94147c751ef",
       "version_major": 2,
       "version_minor": 0
      },
      "text/plain": [
       "  0%|          | 0/145 [00:00<?, ?it/s]"
      ]
     },
     "metadata": {},
     "output_type": "display_data"
    },
    {
     "name": "stdout",
     "output_type": "stream",
     "text": [
      "w = identity >>  0.47586206896551725\n",
      "validating on 145 subject --> object associations\n"
     ]
    },
    {
     "data": {
      "application/vnd.jupyter.widget-view+json": {
       "model_id": "d98eba077bb442859146f0ff69c49985",
       "version_major": 2,
       "version_minor": 0
      },
      "text/plain": [
       "  0%|          | 0/145 [00:00<?, ?it/s]"
      ]
     },
     "metadata": {},
     "output_type": "display_data"
    },
    {
     "name": "stdout",
     "output_type": "stream",
     "text": [
      "w = jacobian >>  0.19310344827586207\n",
      "\n",
      "39 >> 35.949310302734375 [(' Lebanon', 53.424), (' Georgia', 52.437), (' Cape', 52.283), (' Florida', 52.184), (' Alaska', 52.075)]\n",
      "validating on 145 subject --> object associations\n"
     ]
    },
    {
     "data": {
      "application/vnd.jupyter.widget-view+json": {
       "model_id": "791a073466a84276ba30d440facedbdd",
       "version_major": 2,
       "version_minor": 0
      },
      "text/plain": [
       "  0%|          | 0/145 [00:00<?, ?it/s]"
      ]
     },
     "metadata": {},
     "output_type": "display_data"
    },
    {
     "name": "stdout",
     "output_type": "stream",
     "text": [
      "w = identity >>  0.47586206896551725\n",
      "validating on 145 subject --> object associations\n"
     ]
    },
    {
     "data": {
      "application/vnd.jupyter.widget-view+json": {
       "model_id": "2b3a630f1e73419095c59bd4ede9edb5",
       "version_major": 2,
       "version_minor": 0
      },
      "text/plain": [
       "  0%|          | 0/145 [00:00<?, ?it/s]"
      ]
     },
     "metadata": {},
     "output_type": "display_data"
    },
    {
     "name": "stdout",
     "output_type": "stream",
     "text": [
      "w = jacobian >>  0.1793103448275862\n",
      "\n",
      "42 >> 38.18031692504883 [(' Lebanon', 55.613), (' Florida', 54.845), (' Georgia', 54.801), (' Alaska', 54.175), (' Moscow', 53.827)]\n",
      "validating on 145 subject --> object associations\n"
     ]
    },
    {
     "data": {
      "application/vnd.jupyter.widget-view+json": {
       "model_id": "bcee5565988d4cbc8826627984084e70",
       "version_major": 2,
       "version_minor": 0
      },
      "text/plain": [
       "  0%|          | 0/145 [00:00<?, ?it/s]"
      ]
     },
     "metadata": {},
     "output_type": "display_data"
    },
    {
     "name": "stdout",
     "output_type": "stream",
     "text": [
      "w = identity >>  0.5241379310344828\n",
      "validating on 145 subject --> object associations\n"
     ]
    },
    {
     "data": {
      "application/vnd.jupyter.widget-view+json": {
       "model_id": "faf91e7f32d0419a820034a9744b7e21",
       "version_major": 2,
       "version_minor": 0
      },
      "text/plain": [
       "  0%|          | 0/145 [00:00<?, ?it/s]"
      ]
     },
     "metadata": {},
     "output_type": "display_data"
    },
    {
     "name": "stdout",
     "output_type": "stream",
     "text": [
      "w = jacobian >>  0.15862068965517243\n",
      "\n",
      "45 >> 40.54482650756836 [(' Lebanon', 58.289), (' Cairo', 56.24), (' Athens', 56.169), (' Alaska', 56.001), (' Florida', 55.949)]\n",
      "validating on 145 subject --> object associations\n"
     ]
    },
    {
     "data": {
      "application/vnd.jupyter.widget-view+json": {
       "model_id": "416dccbc017d46dfb0e38f4d801a1a87",
       "version_major": 2,
       "version_minor": 0
      },
      "text/plain": [
       "  0%|          | 0/145 [00:00<?, ?it/s]"
      ]
     },
     "metadata": {},
     "output_type": "display_data"
    },
    {
     "name": "stdout",
     "output_type": "stream",
     "text": [
      "w = identity >>  0.5379310344827586\n",
      "validating on 145 subject --> object associations\n"
     ]
    },
    {
     "data": {
      "application/vnd.jupyter.widget-view+json": {
       "model_id": "a5a4234f54154e0da14df60bddfdfe93",
       "version_major": 2,
       "version_minor": 0
      },
      "text/plain": [
       "  0%|          | 0/145 [00:00<?, ?it/s]"
      ]
     },
     "metadata": {},
     "output_type": "display_data"
    },
    {
     "name": "stdout",
     "output_type": "stream",
     "text": [
      "w = jacobian >>  0.15862068965517243\n",
      "\n",
      "48 >> 42.914005279541016 [(' Lebanon', 60.422), (' Florida', 59.146), (' Albany', 58.698), (' Cairo', 58.416), (' Arizona', 58.137)]\n",
      "validating on 145 subject --> object associations\n"
     ]
    },
    {
     "data": {
      "application/vnd.jupyter.widget-view+json": {
       "model_id": "106bd8f7dfce404782d982c28a896e23",
       "version_major": 2,
       "version_minor": 0
      },
      "text/plain": [
       "  0%|          | 0/145 [00:00<?, ?it/s]"
      ]
     },
     "metadata": {},
     "output_type": "display_data"
    },
    {
     "name": "stdout",
     "output_type": "stream",
     "text": [
      "w = identity >>  0.5724137931034483\n",
      "validating on 145 subject --> object associations\n"
     ]
    },
    {
     "data": {
      "application/vnd.jupyter.widget-view+json": {
       "model_id": "6859004a31fa4bb2aeac9af7fc4623b4",
       "version_major": 2,
       "version_minor": 0
      },
      "text/plain": [
       "  0%|          | 0/145 [00:00<?, ?it/s]"
      ]
     },
     "metadata": {},
     "output_type": "display_data"
    },
    {
     "name": "stdout",
     "output_type": "stream",
     "text": [
      "w = jacobian >>  0.0896551724137931\n",
      "\n",
      "51 >> 44.51199722290039 [(' Lebanon', 62.14), (' Cairo', 61.183), (' Moscow', 60.711), (' Athens', 60.365), (' Florida', 60.162)]\n",
      "validating on 145 subject --> object associations\n"
     ]
    },
    {
     "data": {
      "application/vnd.jupyter.widget-view+json": {
       "model_id": "504ce4dbbead40a8b3e5ca99bc868d53",
       "version_major": 2,
       "version_minor": 0
      },
      "text/plain": [
       "  0%|          | 0/145 [00:00<?, ?it/s]"
      ]
     },
     "metadata": {},
     "output_type": "display_data"
    },
    {
     "name": "stdout",
     "output_type": "stream",
     "text": [
      "w = identity >>  0.5862068965517241\n",
      "validating on 145 subject --> object associations\n"
     ]
    },
    {
     "data": {
      "application/vnd.jupyter.widget-view+json": {
       "model_id": "6432dcc634824e0689332e84313c3506",
       "version_major": 2,
       "version_minor": 0
      },
      "text/plain": [
       "  0%|          | 0/145 [00:00<?, ?it/s]"
      ]
     },
     "metadata": {},
     "output_type": "display_data"
    },
    {
     "name": "stdout",
     "output_type": "stream",
     "text": [
      "w = jacobian >>  0.18620689655172415\n",
      "\n",
      "54 >> 45.93484115600586 [(' Lebanon', 63.908), (' Cairo', 63.581), (' Washington', 63.178), (' Moscow', 62.945), (' Athens', 62.837)]\n",
      "validating on 145 subject --> object associations\n"
     ]
    },
    {
     "data": {
      "application/vnd.jupyter.widget-view+json": {
       "model_id": "526993eb7af8406d9681e0c96de553c5",
       "version_major": 2,
       "version_minor": 0
      },
      "text/plain": [
       "  0%|          | 0/145 [00:00<?, ?it/s]"
      ]
     },
     "metadata": {},
     "output_type": "display_data"
    },
    {
     "name": "stdout",
     "output_type": "stream",
     "text": [
      "w = identity >>  0.6068965517241379\n",
      "validating on 145 subject --> object associations\n"
     ]
    },
    {
     "data": {
      "application/vnd.jupyter.widget-view+json": {
       "model_id": "806b15dffd1a49f4bebe765bb8241d4a",
       "version_major": 2,
       "version_minor": 0
      },
      "text/plain": [
       "  0%|          | 0/145 [00:00<?, ?it/s]"
      ]
     },
     "metadata": {},
     "output_type": "display_data"
    },
    {
     "name": "stdout",
     "output_type": "stream",
     "text": [
      "w = jacobian >>  0.25517241379310346\n",
      "\n",
      "57 >> 47.05454635620117 [(' Cairo', 66.119), (' Lebanon', 65.912), (' Washington', 65.736), (' Moscow', 65.628), (' London', 65.607)]\n",
      "validating on 145 subject --> object associations\n"
     ]
    },
    {
     "data": {
      "application/vnd.jupyter.widget-view+json": {
       "model_id": "1e67f2fdef634d60a3aea3323c49b6a8",
       "version_major": 2,
       "version_minor": 0
      },
      "text/plain": [
       "  0%|          | 0/145 [00:00<?, ?it/s]"
      ]
     },
     "metadata": {},
     "output_type": "display_data"
    },
    {
     "name": "stdout",
     "output_type": "stream",
     "text": [
      "w = identity >>  0.6206896551724138\n",
      "validating on 145 subject --> object associations\n"
     ]
    },
    {
     "data": {
      "application/vnd.jupyter.widget-view+json": {
       "model_id": "1119bfd49b1a40a08839481521aef962",
       "version_major": 2,
       "version_minor": 0
      },
      "text/plain": [
       "  0%|          | 0/145 [00:00<?, ?it/s]"
      ]
     },
     "metadata": {},
     "output_type": "display_data"
    },
    {
     "name": "stdout",
     "output_type": "stream",
     "text": [
      "w = jacobian >>  0.32413793103448274\n",
      "\n",
      "60 >> 47.40764236450195 [(' London', 69.17), (' Boston', 68.675), (' Cairo', 68.541), (' Moscow', 68.461), (' Washington', 68.232)]\n",
      "validating on 145 subject --> object associations\n"
     ]
    },
    {
     "data": {
      "application/vnd.jupyter.widget-view+json": {
       "model_id": "fb6dc751e670473a91b02d15cbdedb8b",
       "version_major": 2,
       "version_minor": 0
      },
      "text/plain": [
       "  0%|          | 0/145 [00:00<?, ?it/s]"
      ]
     },
     "metadata": {},
     "output_type": "display_data"
    },
    {
     "name": "stdout",
     "output_type": "stream",
     "text": [
      "w = identity >>  0.6413793103448275\n",
      "validating on 145 subject --> object associations\n"
     ]
    },
    {
     "data": {
      "application/vnd.jupyter.widget-view+json": {
       "model_id": "6c0704e57849442798da063d695ded84",
       "version_major": 2,
       "version_minor": 0
      },
      "text/plain": [
       "  0%|          | 0/145 [00:00<?, ?it/s]"
      ]
     },
     "metadata": {},
     "output_type": "display_data"
    },
    {
     "name": "stdout",
     "output_type": "stream",
     "text": [
      "w = jacobian >>  0.3724137931034483\n",
      "\n",
      "63 >> 47.46908187866211 [(' London', 72.778), (' Moscow', 71.142), (' Boston', 70.992), (' Cairo', 70.862), (' Washington', 70.801)]\n",
      "validating on 145 subject --> object associations\n"
     ]
    },
    {
     "data": {
      "application/vnd.jupyter.widget-view+json": {
       "model_id": "cea4643c764443b69855937a2100715d",
       "version_major": 2,
       "version_minor": 0
      },
      "text/plain": [
       "  0%|          | 0/145 [00:00<?, ?it/s]"
      ]
     },
     "metadata": {},
     "output_type": "display_data"
    },
    {
     "name": "stdout",
     "output_type": "stream",
     "text": [
      "w = identity >>  0.6620689655172414\n",
      "validating on 145 subject --> object associations\n"
     ]
    },
    {
     "data": {
      "application/vnd.jupyter.widget-view+json": {
       "model_id": "e01e21c59d724841910e292b1d161e19",
       "version_major": 2,
       "version_minor": 0
      },
      "text/plain": [
       "  0%|          | 0/145 [00:00<?, ?it/s]"
      ]
     },
     "metadata": {},
     "output_type": "display_data"
    },
    {
     "name": "stdout",
     "output_type": "stream",
     "text": [
      "w = jacobian >>  0.4413793103448276\n",
      "\n",
      "66 >> 47.6346549987793 [(' London', 76.13), (' Boston', 73.941), (' Berlin', 73.575), (' Moscow', 73.382), (' Washington', 73.331)]\n",
      "validating on 145 subject --> object associations\n"
     ]
    },
    {
     "data": {
      "application/vnd.jupyter.widget-view+json": {
       "model_id": "64d1299d020846619de3b25d3aae6c6d",
       "version_major": 2,
       "version_minor": 0
      },
      "text/plain": [
       "  0%|          | 0/145 [00:00<?, ?it/s]"
      ]
     },
     "metadata": {},
     "output_type": "display_data"
    },
    {
     "name": "stdout",
     "output_type": "stream",
     "text": [
      "w = identity >>  0.6413793103448275\n",
      "validating on 145 subject --> object associations\n"
     ]
    },
    {
     "data": {
      "application/vnd.jupyter.widget-view+json": {
       "model_id": "5db68430a1db4cdfa7a8073f3637c9d9",
       "version_major": 2,
       "version_minor": 0
      },
      "text/plain": [
       "  0%|          | 0/145 [00:00<?, ?it/s]"
      ]
     },
     "metadata": {},
     "output_type": "display_data"
    },
    {
     "name": "stdout",
     "output_type": "stream",
     "text": [
      "w = jacobian >>  0.4689655172413793\n",
      "\n",
      "69 >> 47.530242919921875 [(' London', 79.527), (' Boston', 76.487), (' Berlin', 76.349), (' Moscow', 75.849), (' Paris', 75.664)]\n",
      "validating on 145 subject --> object associations\n"
     ]
    },
    {
     "data": {
      "application/vnd.jupyter.widget-view+json": {
       "model_id": "5de586677f064fb6ac54c7bc555daad8",
       "version_major": 2,
       "version_minor": 0
      },
      "text/plain": [
       "  0%|          | 0/145 [00:00<?, ?it/s]"
      ]
     },
     "metadata": {},
     "output_type": "display_data"
    },
    {
     "name": "stdout",
     "output_type": "stream",
     "text": [
      "w = identity >>  0.6275862068965518\n",
      "validating on 145 subject --> object associations\n"
     ]
    },
    {
     "data": {
      "application/vnd.jupyter.widget-view+json": {
       "model_id": "c02e31cb249a42f5b5dfad25d0d6f179",
       "version_major": 2,
       "version_minor": 0
      },
      "text/plain": [
       "  0%|          | 0/145 [00:00<?, ?it/s]"
      ]
     },
     "metadata": {},
     "output_type": "display_data"
    },
    {
     "name": "stdout",
     "output_type": "stream",
     "text": [
      "w = jacobian >>  0.4896551724137931\n",
      "\n",
      "72 >> 47.653133392333984 [(' London', 82.665), (' Boston', 79.246), (' Berlin', 78.896), (' Paris', 78.025), (' Moscow', 77.708)]\n",
      "validating on 145 subject --> object associations\n"
     ]
    },
    {
     "data": {
      "application/vnd.jupyter.widget-view+json": {
       "model_id": "5165731551f04083bfe98bc211f38c65",
       "version_major": 2,
       "version_minor": 0
      },
      "text/plain": [
       "  0%|          | 0/145 [00:00<?, ?it/s]"
      ]
     },
     "metadata": {},
     "output_type": "display_data"
    },
    {
     "name": "stdout",
     "output_type": "stream",
     "text": [
      "w = identity >>  0.6068965517241379\n",
      "validating on 145 subject --> object associations\n"
     ]
    },
    {
     "data": {
      "application/vnd.jupyter.widget-view+json": {
       "model_id": "8f7c81f601ac4208b59034d084ac4f5e",
       "version_major": 2,
       "version_minor": 0
      },
      "text/plain": [
       "  0%|          | 0/145 [00:00<?, ?it/s]"
      ]
     },
     "metadata": {},
     "output_type": "display_data"
    },
    {
     "name": "stdout",
     "output_type": "stream",
     "text": [
      "w = jacobian >>  0.503448275862069\n",
      "\n",
      "75 >> 47.81734085083008 [(' London', 85.436), (' Boston', 81.267), (' Berlin', 80.958), (' Paris', 80.432), (' Moscow', 79.44)]\n",
      "validating on 145 subject --> object associations\n"
     ]
    },
    {
     "data": {
      "application/vnd.jupyter.widget-view+json": {
       "model_id": "8bdc712e645043caa2f1fbff8f000af1",
       "version_major": 2,
       "version_minor": 0
      },
      "text/plain": [
       "  0%|          | 0/145 [00:00<?, ?it/s]"
      ]
     },
     "metadata": {},
     "output_type": "display_data"
    },
    {
     "name": "stdout",
     "output_type": "stream",
     "text": [
      "w = identity >>  0.6137931034482759\n",
      "validating on 145 subject --> object associations\n"
     ]
    },
    {
     "data": {
      "application/vnd.jupyter.widget-view+json": {
       "model_id": "91178b86f51448ea8c1cf4ede651169c",
       "version_major": 2,
       "version_minor": 0
      },
      "text/plain": [
       "  0%|          | 0/145 [00:00<?, ?it/s]"
      ]
     },
     "metadata": {},
     "output_type": "display_data"
    },
    {
     "name": "stdout",
     "output_type": "stream",
     "text": [
      "w = jacobian >>  0.4896551724137931\n",
      "\n",
      "78 >> 47.847625732421875 [(' London', 87.273), (' Boston', 82.815), (' Berlin', 82.405), (' Paris', 82.056), (' Dublin', 80.625)]\n",
      "validating on 145 subject --> object associations\n"
     ]
    },
    {
     "data": {
      "application/vnd.jupyter.widget-view+json": {
       "model_id": "fc827e2d0d4247369343bf10c904706c",
       "version_major": 2,
       "version_minor": 0
      },
      "text/plain": [
       "  0%|          | 0/145 [00:00<?, ?it/s]"
      ]
     },
     "metadata": {},
     "output_type": "display_data"
    },
    {
     "name": "stdout",
     "output_type": "stream",
     "text": [
      "w = identity >>  0.6137931034482759\n",
      "validating on 145 subject --> object associations\n"
     ]
    },
    {
     "data": {
      "application/vnd.jupyter.widget-view+json": {
       "model_id": "d9a002d2b611406fa0b043b071b702c8",
       "version_major": 2,
       "version_minor": 0
      },
      "text/plain": [
       "  0%|          | 0/145 [00:00<?, ?it/s]"
      ]
     },
     "metadata": {},
     "output_type": "display_data"
    },
    {
     "name": "stdout",
     "output_type": "stream",
     "text": [
      "w = jacobian >>  0.4689655172413793\n",
      "\n",
      "81 >> 48.18648147583008 [(' London', 88.846), (' Boston', 84.247), (' Berlin', 83.801), (' Paris', 83.33), (' Dublin', 82.055)]\n",
      "validating on 145 subject --> object associations\n"
     ]
    },
    {
     "data": {
      "application/vnd.jupyter.widget-view+json": {
       "model_id": "24caa6042cf84bc7a74a177c6bc89a0a",
       "version_major": 2,
       "version_minor": 0
      },
      "text/plain": [
       "  0%|          | 0/145 [00:00<?, ?it/s]"
      ]
     },
     "metadata": {},
     "output_type": "display_data"
    },
    {
     "name": "stdout",
     "output_type": "stream",
     "text": [
      "w = identity >>  0.6\n",
      "validating on 145 subject --> object associations\n"
     ]
    },
    {
     "data": {
      "application/vnd.jupyter.widget-view+json": {
       "model_id": "756976ba08554bb1aa999976007d0268",
       "version_major": 2,
       "version_minor": 0
      },
      "text/plain": [
       "  0%|          | 0/145 [00:00<?, ?it/s]"
      ]
     },
     "metadata": {},
     "output_type": "display_data"
    },
    {
     "name": "stdout",
     "output_type": "stream",
     "text": [
      "w = jacobian >>  0.4689655172413793\n",
      "\n",
      "saving results\n",
      "############################################################################################################\n",
      "relation_id >> P106\n",
      "------------------------------------------------------------------------------------------------------\n",
      "unique objects:  31 [' poet', ' prophet', ' astronomer', ' model', ' physician']\n"
     ]
    },
    {
     "data": {
      "application/vnd.jupyter.widget-view+json": {
       "model_id": "b48c407a22c84f09bf89fb169ddebcfc",
       "version_major": 2,
       "version_minor": 0
      },
      "text/plain": [
       "  0%|          | 0/27 [00:00<?, ?it/s]"
      ]
     },
     "metadata": {},
     "output_type": "display_data"
    },
    {
     "name": "stdout",
     "output_type": "stream",
     "text": [
      "3 >> 13.80353832244873 [(' partName', 21.533), ('��', 20.578), ('��', 20.512), ('��', 18.925), (' actionGroup', 18.46)]\n",
      "P106 >> number of requests in counterfact = 821\n",
      "Checking correct prediction with normal calculation ...\n"
     ]
    },
    {
     "data": {
      "application/vnd.jupyter.widget-view+json": {
       "model_id": "903c87f581614afbb49f59c911f76f2a",
       "version_major": 2,
       "version_minor": 0
      },
      "text/plain": [
       "  0%|          | 0/821 [00:00<?, ?it/s]"
      ]
     },
     "metadata": {},
     "output_type": "display_data"
    },
    {
     "name": "stdout",
     "output_type": "stream",
     "text": [
      "Number of correctly predicted requests = 232\n",
      "validating on 232 subject --> object associations\n"
     ]
    },
    {
     "data": {
      "application/vnd.jupyter.widget-view+json": {
       "model_id": "325ac01a0e54413abee3cd6ef0bec80b",
       "version_major": 2,
       "version_minor": 0
      },
      "text/plain": [
       "  0%|          | 0/232 [00:00<?, ?it/s]"
      ]
     },
     "metadata": {},
     "output_type": "display_data"
    },
    {
     "name": "stdout",
     "output_type": "stream",
     "text": [
      "w = identity >>  0.06465517241379311\n",
      "validating on 232 subject --> object associations\n"
     ]
    },
    {
     "data": {
      "application/vnd.jupyter.widget-view+json": {
       "model_id": "bd32cada1d2f4660a4408a5c508e8028",
       "version_major": 2,
       "version_minor": 0
      },
      "text/plain": [
       "  0%|          | 0/232 [00:00<?, ?it/s]"
      ]
     },
     "metadata": {},
     "output_type": "display_data"
    },
    {
     "name": "stdout",
     "output_type": "stream",
     "text": [
      "w = jacobian >>  0.0\n",
      "\n",
      "6 >> 13.85257625579834 [(' partName', 20.932), ('��', 19.789), ('��', 18.901), ('��', 18.196), (' gmaxwell', 18.095)]\n",
      "validating on 232 subject --> object associations\n"
     ]
    },
    {
     "data": {
      "application/vnd.jupyter.widget-view+json": {
       "model_id": "5a1c9a8115ea4626b8550e96fef120f1",
       "version_major": 2,
       "version_minor": 0
      },
      "text/plain": [
       "  0%|          | 0/232 [00:00<?, ?it/s]"
      ]
     },
     "metadata": {},
     "output_type": "display_data"
    },
    {
     "name": "stdout",
     "output_type": "stream",
     "text": [
      "w = identity >>  0.07327586206896551\n",
      "validating on 232 subject --> object associations\n"
     ]
    },
    {
     "data": {
      "application/vnd.jupyter.widget-view+json": {
       "model_id": "1c60298f656047469907f7a747269d50",
       "version_major": 2,
       "version_minor": 0
      },
      "text/plain": [
       "  0%|          | 0/232 [00:00<?, ?it/s]"
      ]
     },
     "metadata": {},
     "output_type": "display_data"
    },
    {
     "name": "stdout",
     "output_type": "stream",
     "text": [
      "w = jacobian >>  0.0\n",
      "\n",
      "9 >> 15.601532936096191 [(' partName', 20.093), ('��', 18.245), ('��', 17.661), (' gmaxwell', 17.345), ('��', 17.232)]\n",
      "validating on 232 subject --> object associations\n"
     ]
    },
    {
     "data": {
      "application/vnd.jupyter.widget-view+json": {
       "model_id": "09712779723d4d3f920679a6b2ec8b59",
       "version_major": 2,
       "version_minor": 0
      },
      "text/plain": [
       "  0%|          | 0/232 [00:00<?, ?it/s]"
      ]
     },
     "metadata": {},
     "output_type": "display_data"
    },
    {
     "name": "stdout",
     "output_type": "stream",
     "text": [
      "w = identity >>  0.07327586206896551\n",
      "validating on 232 subject --> object associations\n"
     ]
    },
    {
     "data": {
      "application/vnd.jupyter.widget-view+json": {
       "model_id": "f12c816122114c98bb00eaf7f6256d48",
       "version_major": 2,
       "version_minor": 0
      },
      "text/plain": [
       "  0%|          | 0/232 [00:00<?, ?it/s]"
      ]
     },
     "metadata": {},
     "output_type": "display_data"
    },
    {
     "name": "stdout",
     "output_type": "stream",
     "text": [
      "w = jacobian >>  0.0\n",
      "\n",
      "12 >> 16.945764541625977 [(' partName', 19.783), (' legislator', 19.6), (' theorist', 18.973), (' actress', 18.415), (' counselor', 18.028)]\n",
      "validating on 232 subject --> object associations\n"
     ]
    },
    {
     "data": {
      "application/vnd.jupyter.widget-view+json": {
       "model_id": "63d261249b7b41ea9fef28936edb66c9",
       "version_major": 2,
       "version_minor": 0
      },
      "text/plain": [
       "  0%|          | 0/232 [00:00<?, ?it/s]"
      ]
     },
     "metadata": {},
     "output_type": "display_data"
    },
    {
     "name": "stdout",
     "output_type": "stream",
     "text": [
      "w = identity >>  0.07758620689655173\n",
      "validating on 232 subject --> object associations\n"
     ]
    },
    {
     "data": {
      "application/vnd.jupyter.widget-view+json": {
       "model_id": "bd2aced9c6c84ed4b89bf0dd6aa965ee",
       "version_major": 2,
       "version_minor": 0
      },
      "text/plain": [
       "  0%|          | 0/232 [00:00<?, ?it/s]"
      ]
     },
     "metadata": {},
     "output_type": "display_data"
    },
    {
     "name": "stdout",
     "output_type": "stream",
     "text": [
      "w = jacobian >>  0.0\n",
      "\n",
      "15 >> 17.586162567138672 [(' preacher', 23.885), (' legislator', 23.636), (' filmmaker', 22.906), (' salesman', 22.643), (' solicitor', 22.618)]\n",
      "validating on 232 subject --> object associations\n"
     ]
    },
    {
     "data": {
      "application/vnd.jupyter.widget-view+json": {
       "model_id": "575d5b59ee824ce59ec71d17ed674805",
       "version_major": 2,
       "version_minor": 0
      },
      "text/plain": [
       "  0%|          | 0/232 [00:00<?, ?it/s]"
      ]
     },
     "metadata": {},
     "output_type": "display_data"
    },
    {
     "name": "stdout",
     "output_type": "stream",
     "text": [
      "w = identity >>  0.09913793103448276\n",
      "validating on 232 subject --> object associations\n"
     ]
    },
    {
     "data": {
      "application/vnd.jupyter.widget-view+json": {
       "model_id": "a9bc0f2954814dcfb7d139024c81a0c6",
       "version_major": 2,
       "version_minor": 0
      },
      "text/plain": [
       "  0%|          | 0/232 [00:00<?, ?it/s]"
      ]
     },
     "metadata": {},
     "output_type": "display_data"
    },
    {
     "name": "stdout",
     "output_type": "stream",
     "text": [
      "w = jacobian >>  0.01293103448275862\n",
      "\n",
      "18 >> 17.94257354736328 [(' preacher', 28.541), (' legislator', 27.609), (' mathematician', 27.444), (' novelist', 27.411), (' psychiatrist', 27.294)]\n",
      "validating on 232 subject --> object associations\n"
     ]
    },
    {
     "data": {
      "application/vnd.jupyter.widget-view+json": {
       "model_id": "bf5327b544744fdfa447d027f31a0157",
       "version_major": 2,
       "version_minor": 0
      },
      "text/plain": [
       "  0%|          | 0/232 [00:00<?, ?it/s]"
      ]
     },
     "metadata": {},
     "output_type": "display_data"
    },
    {
     "name": "stdout",
     "output_type": "stream",
     "text": [
      "w = identity >>  0.11206896551724138\n",
      "validating on 232 subject --> object associations\n"
     ]
    },
    {
     "data": {
      "application/vnd.jupyter.widget-view+json": {
       "model_id": "e1b2c7ecbf1645e7916173ad14746e25",
       "version_major": 2,
       "version_minor": 0
      },
      "text/plain": [
       "  0%|          | 0/232 [00:00<?, ?it/s]"
      ]
     },
     "metadata": {},
     "output_type": "display_data"
    },
    {
     "name": "stdout",
     "output_type": "stream",
     "text": [
      "w = jacobian >>  0.04310344827586207\n",
      "\n",
      "21 >> 19.220623016357422 [(' scientist', 35.279), (' preacher', 34.175), (' novelist', 33.734), (' mathematician', 33.691), (' psychiatrist', 33.596)]\n",
      "validating on 232 subject --> object associations\n"
     ]
    },
    {
     "data": {
      "application/vnd.jupyter.widget-view+json": {
       "model_id": "a7d354d227e74a4ba2bd52ad5da02858",
       "version_major": 2,
       "version_minor": 0
      },
      "text/plain": [
       "  0%|          | 0/232 [00:00<?, ?it/s]"
      ]
     },
     "metadata": {},
     "output_type": "display_data"
    },
    {
     "name": "stdout",
     "output_type": "stream",
     "text": [
      "w = identity >>  0.11206896551724138\n",
      "validating on 232 subject --> object associations\n"
     ]
    },
    {
     "data": {
      "application/vnd.jupyter.widget-view+json": {
       "model_id": "d7f4bc0b3e27447e9503b579b8da0779",
       "version_major": 2,
       "version_minor": 0
      },
      "text/plain": [
       "  0%|          | 0/232 [00:00<?, ?it/s]"
      ]
     },
     "metadata": {},
     "output_type": "display_data"
    },
    {
     "name": "stdout",
     "output_type": "stream",
     "text": [
      "w = jacobian >>  0.021551724137931036\n",
      "\n",
      "24 >> 20.724050521850586 [(' scientist', 41.624), (' mathematician', 38.371), (' engineer', 38.269), (' astronomer', 38.187), (' novelist', 38.144)]\n",
      "validating on 232 subject --> object associations\n"
     ]
    },
    {
     "data": {
      "application/vnd.jupyter.widget-view+json": {
       "model_id": "9868c02e9aab4d0d86ba8477df25226f",
       "version_major": 2,
       "version_minor": 0
      },
      "text/plain": [
       "  0%|          | 0/232 [00:00<?, ?it/s]"
      ]
     },
     "metadata": {},
     "output_type": "display_data"
    },
    {
     "name": "stdout",
     "output_type": "stream",
     "text": [
      "w = identity >>  0.1206896551724138\n",
      "validating on 232 subject --> object associations\n"
     ]
    },
    {
     "data": {
      "application/vnd.jupyter.widget-view+json": {
       "model_id": "96d8a4bbd9454a51838b0a8d0290d6c1",
       "version_major": 2,
       "version_minor": 0
      },
      "text/plain": [
       "  0%|          | 0/232 [00:00<?, ?it/s]"
      ]
     },
     "metadata": {},
     "output_type": "display_data"
    },
    {
     "name": "stdout",
     "output_type": "stream",
     "text": [
      "w = jacobian >>  0.03017241379310345\n",
      "\n",
      "27 >> 22.25831413269043 [(' scientist', 45.415), (' mathematician', 42.207), (' novelist', 42.084), (' rabbi', 42.031), (' astronomer', 41.999)]\n",
      "validating on 232 subject --> object associations\n"
     ]
    },
    {
     "data": {
      "application/vnd.jupyter.widget-view+json": {
       "model_id": "d99ef3bebc0a453f96e122c0eaf2a69c",
       "version_major": 2,
       "version_minor": 0
      },
      "text/plain": [
       "  0%|          | 0/232 [00:00<?, ?it/s]"
      ]
     },
     "metadata": {},
     "output_type": "display_data"
    },
    {
     "name": "stdout",
     "output_type": "stream",
     "text": [
      "w = identity >>  0.14655172413793102\n",
      "validating on 232 subject --> object associations\n"
     ]
    },
    {
     "data": {
      "application/vnd.jupyter.widget-view+json": {
       "model_id": "3d8f68465ff044389c5dedb0f592ac20",
       "version_major": 2,
       "version_minor": 0
      },
      "text/plain": [
       "  0%|          | 0/232 [00:00<?, ?it/s]"
      ]
     },
     "metadata": {},
     "output_type": "display_data"
    },
    {
     "name": "stdout",
     "output_type": "stream",
     "text": [
      "w = jacobian >>  0.03017241379310345\n",
      "\n",
      "30 >> 25.588233947753906 [(' scientist', 49.987), (' writer', 46.229), (' mathematician', 45.376), (' novelist', 45.287), (' psychiatrist', 45.17)]\n",
      "validating on 232 subject --> object associations\n"
     ]
    },
    {
     "data": {
      "application/vnd.jupyter.widget-view+json": {
       "model_id": "8a8afffb480940e49a991dee51aeaeed",
       "version_major": 2,
       "version_minor": 0
      },
      "text/plain": [
       "  0%|          | 0/232 [00:00<?, ?it/s]"
      ]
     },
     "metadata": {},
     "output_type": "display_data"
    },
    {
     "name": "stdout",
     "output_type": "stream",
     "text": [
      "w = identity >>  0.13793103448275862\n",
      "validating on 232 subject --> object associations\n"
     ]
    },
    {
     "data": {
      "application/vnd.jupyter.widget-view+json": {
       "model_id": "2e4cd86b0da7411ea851761732b266f0",
       "version_major": 2,
       "version_minor": 0
      },
      "text/plain": [
       "  0%|          | 0/232 [00:00<?, ?it/s]"
      ]
     },
     "metadata": {},
     "output_type": "display_data"
    },
    {
     "name": "stdout",
     "output_type": "stream",
     "text": [
      "w = jacobian >>  0.004310344827586207\n",
      "\n",
      "33 >> 28.53670310974121 [(' scientist', 53.991), (' writer', 49.391), (' historian', 47.893), (' researcher', 47.846), (' mathematician', 47.786)]\n",
      "validating on 232 subject --> object associations\n"
     ]
    },
    {
     "data": {
      "application/vnd.jupyter.widget-view+json": {
       "model_id": "36581ab8b56148ea9a7d3c2464a788bd",
       "version_major": 2,
       "version_minor": 0
      },
      "text/plain": [
       "  0%|          | 0/232 [00:00<?, ?it/s]"
      ]
     },
     "metadata": {},
     "output_type": "display_data"
    },
    {
     "name": "stdout",
     "output_type": "stream",
     "text": [
      "w = identity >>  0.12931034482758622\n",
      "validating on 232 subject --> object associations\n"
     ]
    },
    {
     "data": {
      "application/vnd.jupyter.widget-view+json": {
       "model_id": "6d81ca77381944d8bb74630d3eb77697",
       "version_major": 2,
       "version_minor": 0
      },
      "text/plain": [
       "  0%|          | 0/232 [00:00<?, ?it/s]"
      ]
     },
     "metadata": {},
     "output_type": "display_data"
    },
    {
     "name": "stdout",
     "output_type": "stream",
     "text": [
      "w = jacobian >>  0.004310344827586207\n",
      "\n",
      "36 >> 31.228740692138672 [(' scientist', 54.847), (' writer', 52.531), (' director', 49.824), (' mathematician', 49.815), (' astronomer', 49.621)]\n",
      "validating on 232 subject --> object associations\n"
     ]
    },
    {
     "data": {
      "application/vnd.jupyter.widget-view+json": {
       "model_id": "482b6900850a471db8bc3ffe2067fe42",
       "version_major": 2,
       "version_minor": 0
      },
      "text/plain": [
       "  0%|          | 0/232 [00:00<?, ?it/s]"
      ]
     },
     "metadata": {},
     "output_type": "display_data"
    },
    {
     "name": "stdout",
     "output_type": "stream",
     "text": [
      "w = identity >>  0.12931034482758622\n",
      "validating on 232 subject --> object associations\n"
     ]
    },
    {
     "data": {
      "application/vnd.jupyter.widget-view+json": {
       "model_id": "aa295e02d13d49888c55d88b081c5fbf",
       "version_major": 2,
       "version_minor": 0
      },
      "text/plain": [
       "  0%|          | 0/232 [00:00<?, ?it/s]"
      ]
     },
     "metadata": {},
     "output_type": "display_data"
    },
    {
     "name": "stdout",
     "output_type": "stream",
     "text": [
      "w = jacobian >>  0.0\n",
      "\n",
      "39 >> 33.71391296386719 [(' scientist', 57.629), (' writer', 54.887), (' historian', 52.908), (' mathematician', 52.096), (' director', 51.956)]\n",
      "validating on 232 subject --> object associations\n"
     ]
    },
    {
     "data": {
      "application/vnd.jupyter.widget-view+json": {
       "model_id": "477d5accf9464f2985573c083f1ba5dc",
       "version_major": 2,
       "version_minor": 0
      },
      "text/plain": [
       "  0%|          | 0/232 [00:00<?, ?it/s]"
      ]
     },
     "metadata": {},
     "output_type": "display_data"
    },
    {
     "name": "stdout",
     "output_type": "stream",
     "text": [
      "w = identity >>  0.12931034482758622\n",
      "validating on 232 subject --> object associations\n"
     ]
    },
    {
     "data": {
      "application/vnd.jupyter.widget-view+json": {
       "model_id": "e7264ad4769a43a893deff022077683d",
       "version_major": 2,
       "version_minor": 0
      },
      "text/plain": [
       "  0%|          | 0/232 [00:00<?, ?it/s]"
      ]
     },
     "metadata": {},
     "output_type": "display_data"
    },
    {
     "name": "stdout",
     "output_type": "stream",
     "text": [
      "w = jacobian >>  0.0\n",
      "\n",
      "42 >> 36.87849044799805 [(' scientist', 60.33), (' writer', 56.864), (' director', 55.623), (' doctor', 55.402), (' historian', 54.469)]\n",
      "validating on 232 subject --> object associations\n"
     ]
    },
    {
     "data": {
      "application/vnd.jupyter.widget-view+json": {
       "model_id": "82fed52d580045ba84d23e07608d0601",
       "version_major": 2,
       "version_minor": 0
      },
      "text/plain": [
       "  0%|          | 0/232 [00:00<?, ?it/s]"
      ]
     },
     "metadata": {},
     "output_type": "display_data"
    },
    {
     "name": "stdout",
     "output_type": "stream",
     "text": [
      "w = identity >>  0.1206896551724138\n",
      "validating on 232 subject --> object associations\n"
     ]
    },
    {
     "data": {
      "application/vnd.jupyter.widget-view+json": {
       "model_id": "0f49f4756aba4d7ebff92a3f48329843",
       "version_major": 2,
       "version_minor": 0
      },
      "text/plain": [
       "  0%|          | 0/232 [00:00<?, ?it/s]"
      ]
     },
     "metadata": {},
     "output_type": "display_data"
    },
    {
     "name": "stdout",
     "output_type": "stream",
     "text": [
      "w = jacobian >>  0.0\n",
      "\n",
      "45 >> 39.5654296875 [(' scientist', 62.14), (' writer', 60.159), (' doctor', 57.651), (' director', 56.789), (' historian', 56.493)]\n",
      "validating on 232 subject --> object associations\n"
     ]
    },
    {
     "data": {
      "application/vnd.jupyter.widget-view+json": {
       "model_id": "a70b63ae60154d64b1c217dde28bc67e",
       "version_major": 2,
       "version_minor": 0
      },
      "text/plain": [
       "  0%|          | 0/232 [00:00<?, ?it/s]"
      ]
     },
     "metadata": {},
     "output_type": "display_data"
    },
    {
     "name": "stdout",
     "output_type": "stream",
     "text": [
      "w = identity >>  0.1206896551724138\n",
      "validating on 232 subject --> object associations\n"
     ]
    },
    {
     "data": {
      "application/vnd.jupyter.widget-view+json": {
       "model_id": "c351d5806c1e478eac0e4f862fb1ccee",
       "version_major": 2,
       "version_minor": 0
      },
      "text/plain": [
       "  0%|          | 0/232 [00:00<?, ?it/s]"
      ]
     },
     "metadata": {},
     "output_type": "display_data"
    },
    {
     "name": "stdout",
     "output_type": "stream",
     "text": [
      "w = jacobian >>  0.0\n",
      "\n",
      "48 >> 41.458282470703125 [(' scientist', 64.703), (' writer', 60.739), (' doctor', 59.267), (' director', 58.321), (' historian', 57.692)]\n",
      "validating on 232 subject --> object associations\n"
     ]
    },
    {
     "data": {
      "application/vnd.jupyter.widget-view+json": {
       "model_id": "c158ebc05af348afa61af92876d43050",
       "version_major": 2,
       "version_minor": 0
      },
      "text/plain": [
       "  0%|          | 0/232 [00:00<?, ?it/s]"
      ]
     },
     "metadata": {},
     "output_type": "display_data"
    },
    {
     "name": "stdout",
     "output_type": "stream",
     "text": [
      "w = identity >>  0.12931034482758622\n",
      "validating on 232 subject --> object associations\n"
     ]
    },
    {
     "data": {
      "application/vnd.jupyter.widget-view+json": {
       "model_id": "6839a84a4b1c4bada1f45c17dbd02aff",
       "version_major": 2,
       "version_minor": 0
      },
      "text/plain": [
       "  0%|          | 0/232 [00:00<?, ?it/s]"
      ]
     },
     "metadata": {},
     "output_type": "display_data"
    },
    {
     "name": "stdout",
     "output_type": "stream",
     "text": [
      "w = jacobian >>  0.0\n",
      "\n",
      "51 >> 43.274513244628906 [(' scientist', 66.461), (' writer', 62.586), (' doctor', 60.437), (' director', 60.029), (' professor', 59.293)]\n",
      "validating on 232 subject --> object associations\n"
     ]
    },
    {
     "data": {
      "application/vnd.jupyter.widget-view+json": {
       "model_id": "6bcf74aa2e334470bbc10301976855a4",
       "version_major": 2,
       "version_minor": 0
      },
      "text/plain": [
       "  0%|          | 0/232 [00:00<?, ?it/s]"
      ]
     },
     "metadata": {},
     "output_type": "display_data"
    },
    {
     "name": "stdout",
     "output_type": "stream",
     "text": [
      "w = identity >>  0.125\n",
      "validating on 232 subject --> object associations\n"
     ]
    },
    {
     "data": {
      "application/vnd.jupyter.widget-view+json": {
       "model_id": "c2c5de900f324893ba91420bb262b2ec",
       "version_major": 2,
       "version_minor": 0
      },
      "text/plain": [
       "  0%|          | 0/232 [00:00<?, ?it/s]"
      ]
     },
     "metadata": {},
     "output_type": "display_data"
    },
    {
     "name": "stdout",
     "output_type": "stream",
     "text": [
      "w = jacobian >>  0.0\n",
      "\n",
      "54 >> 44.702247619628906 [(' scientist', 68.84), (' writer', 64.485), (' doctor', 62.766), (' professor', 61.776), (' director', 61.72)]\n",
      "validating on 232 subject --> object associations\n"
     ]
    },
    {
     "data": {
      "application/vnd.jupyter.widget-view+json": {
       "model_id": "2820e8ecaa994f99bf2e7754069e4673",
       "version_major": 2,
       "version_minor": 0
      },
      "text/plain": [
       "  0%|          | 0/232 [00:00<?, ?it/s]"
      ]
     },
     "metadata": {},
     "output_type": "display_data"
    },
    {
     "name": "stdout",
     "output_type": "stream",
     "text": [
      "w = identity >>  0.125\n",
      "validating on 232 subject --> object associations\n"
     ]
    },
    {
     "data": {
      "application/vnd.jupyter.widget-view+json": {
       "model_id": "85adf2b7cffb4468a4990acea115da16",
       "version_major": 2,
       "version_minor": 0
      },
      "text/plain": [
       "  0%|          | 0/232 [00:00<?, ?it/s]"
      ]
     },
     "metadata": {},
     "output_type": "display_data"
    },
    {
     "name": "stdout",
     "output_type": "stream",
     "text": [
      "w = jacobian >>  0.0\n",
      "\n",
      "57 >> 46.054203033447266 [(' scientist', 70.44), (' writer', 66.705), (' doctor', 64.605), (' professor', 63.766), (' director', 63.391)]\n",
      "validating on 232 subject --> object associations\n"
     ]
    },
    {
     "data": {
      "application/vnd.jupyter.widget-view+json": {
       "model_id": "f4de3eb9f2464897a09a2ea89d2345af",
       "version_major": 2,
       "version_minor": 0
      },
      "text/plain": [
       "  0%|          | 0/232 [00:00<?, ?it/s]"
      ]
     },
     "metadata": {},
     "output_type": "display_data"
    },
    {
     "name": "stdout",
     "output_type": "stream",
     "text": [
      "w = identity >>  0.125\n",
      "validating on 232 subject --> object associations\n"
     ]
    },
    {
     "data": {
      "application/vnd.jupyter.widget-view+json": {
       "model_id": "5161602bd023492da5eb1df189c4aaf8",
       "version_major": 2,
       "version_minor": 0
      },
      "text/plain": [
       "  0%|          | 0/232 [00:00<?, ?it/s]"
      ]
     },
     "metadata": {},
     "output_type": "display_data"
    },
    {
     "name": "stdout",
     "output_type": "stream",
     "text": [
      "w = jacobian >>  0.0\n",
      "\n",
      "60 >> 46.34416580200195 [(' scientist', 73.209), (' writer', 68.48), (' doctor', 66.716), (' professor', 66.321), (' director', 65.142)]\n",
      "validating on 232 subject --> object associations\n"
     ]
    },
    {
     "data": {
      "application/vnd.jupyter.widget-view+json": {
       "model_id": "9db6c0eb32da4b91971620b08f39bee6",
       "version_major": 2,
       "version_minor": 0
      },
      "text/plain": [
       "  0%|          | 0/232 [00:00<?, ?it/s]"
      ]
     },
     "metadata": {},
     "output_type": "display_data"
    },
    {
     "name": "stdout",
     "output_type": "stream",
     "text": [
      "w = identity >>  0.12931034482758622\n",
      "validating on 232 subject --> object associations\n"
     ]
    },
    {
     "data": {
      "application/vnd.jupyter.widget-view+json": {
       "model_id": "18e398319f5a4a779d287ad291f0b488",
       "version_major": 2,
       "version_minor": 0
      },
      "text/plain": [
       "  0%|          | 0/232 [00:00<?, ?it/s]"
      ]
     },
     "metadata": {},
     "output_type": "display_data"
    },
    {
     "name": "stdout",
     "output_type": "stream",
     "text": [
      "w = jacobian >>  0.0\n",
      "\n",
      "63 >> 46.640438079833984 [(' scientist', 75.392), (' writer', 70.527), (' doctor', 68.389), (' professor', 68.254), (' director', 66.976)]\n",
      "validating on 232 subject --> object associations\n"
     ]
    },
    {
     "data": {
      "application/vnd.jupyter.widget-view+json": {
       "model_id": "b3a2ee5e174a40478dff3969fc91368e",
       "version_major": 2,
       "version_minor": 0
      },
      "text/plain": [
       "  0%|          | 0/232 [00:00<?, ?it/s]"
      ]
     },
     "metadata": {},
     "output_type": "display_data"
    },
    {
     "name": "stdout",
     "output_type": "stream",
     "text": [
      "w = identity >>  0.125\n",
      "validating on 232 subject --> object associations\n"
     ]
    },
    {
     "data": {
      "application/vnd.jupyter.widget-view+json": {
       "model_id": "0eeadfb61045435db23686a9fc911619",
       "version_major": 2,
       "version_minor": 0
      },
      "text/plain": [
       "  0%|          | 0/232 [00:00<?, ?it/s]"
      ]
     },
     "metadata": {},
     "output_type": "display_data"
    },
    {
     "name": "stdout",
     "output_type": "stream",
     "text": [
      "w = jacobian >>  0.0\n",
      "\n",
      "66 >> 46.8851318359375 [(' scientist', 77.326), (' writer', 72.647), (' doctor', 70.212), (' professor', 70.042), (' philosopher', 69.288)]\n",
      "validating on 232 subject --> object associations\n"
     ]
    },
    {
     "data": {
      "application/vnd.jupyter.widget-view+json": {
       "model_id": "5c3b221e608242d18c86241150b34f23",
       "version_major": 2,
       "version_minor": 0
      },
      "text/plain": [
       "  0%|          | 0/232 [00:00<?, ?it/s]"
      ]
     },
     "metadata": {},
     "output_type": "display_data"
    },
    {
     "name": "stdout",
     "output_type": "stream",
     "text": [
      "w = identity >>  0.125\n",
      "validating on 232 subject --> object associations\n"
     ]
    },
    {
     "data": {
      "application/vnd.jupyter.widget-view+json": {
       "model_id": "e27cd9246d9b40a181d035b81daa4120",
       "version_major": 2,
       "version_minor": 0
      },
      "text/plain": [
       "  0%|          | 0/232 [00:00<?, ?it/s]"
      ]
     },
     "metadata": {},
     "output_type": "display_data"
    },
    {
     "name": "stdout",
     "output_type": "stream",
     "text": [
      "w = jacobian >>  0.0\n",
      "\n",
      "69 >> 47.24712371826172 [(' scientist', 78.772), (' writer', 74.02), (' doctor', 71.955), (' philosopher', 71.5), (' journalist', 71.313)]\n",
      "validating on 232 subject --> object associations\n"
     ]
    },
    {
     "data": {
      "application/vnd.jupyter.widget-view+json": {
       "model_id": "b336126a609f4a08b89372ca6182b597",
       "version_major": 2,
       "version_minor": 0
      },
      "text/plain": [
       "  0%|          | 0/232 [00:00<?, ?it/s]"
      ]
     },
     "metadata": {},
     "output_type": "display_data"
    },
    {
     "name": "stdout",
     "output_type": "stream",
     "text": [
      "w = identity >>  0.1206896551724138\n",
      "validating on 232 subject --> object associations\n"
     ]
    },
    {
     "data": {
      "application/vnd.jupyter.widget-view+json": {
       "model_id": "5964ead4e3bc483d95e21168de89fd6c",
       "version_major": 2,
       "version_minor": 0
      },
      "text/plain": [
       "  0%|          | 0/232 [00:00<?, ?it/s]"
      ]
     },
     "metadata": {},
     "output_type": "display_data"
    },
    {
     "name": "stdout",
     "output_type": "stream",
     "text": [
      "w = jacobian >>  0.0\n",
      "\n",
      "72 >> 46.99060821533203 [(' scientist', 80.536), (' writer', 75.531), (' philosopher', 73.464), (' doctor', 73.355), (' journalist', 73.003)]\n",
      "validating on 232 subject --> object associations\n"
     ]
    },
    {
     "data": {
      "application/vnd.jupyter.widget-view+json": {
       "model_id": "245b16f6990e44188b06f178ecdcf436",
       "version_major": 2,
       "version_minor": 0
      },
      "text/plain": [
       "  0%|          | 0/232 [00:00<?, ?it/s]"
      ]
     },
     "metadata": {},
     "output_type": "display_data"
    },
    {
     "name": "stdout",
     "output_type": "stream",
     "text": [
      "w = identity >>  0.11206896551724138\n",
      "validating on 232 subject --> object associations\n"
     ]
    },
    {
     "data": {
      "application/vnd.jupyter.widget-view+json": {
       "model_id": "a3950c0ea5db4df89b3b971485ac81f6",
       "version_major": 2,
       "version_minor": 0
      },
      "text/plain": [
       "  0%|          | 0/232 [00:00<?, ?it/s]"
      ]
     },
     "metadata": {},
     "output_type": "display_data"
    },
    {
     "name": "stdout",
     "output_type": "stream",
     "text": [
      "w = jacobian >>  0.0\n",
      "\n",
      "75 >> 47.03287124633789 [(' scientist', 81.855), (' writer', 76.544), (' philosopher', 75.178), (' physicist', 74.728), (' journalist', 74.613)]\n",
      "validating on 232 subject --> object associations\n"
     ]
    },
    {
     "data": {
      "application/vnd.jupyter.widget-view+json": {
       "model_id": "d742a172b7714865852708ded326ac17",
       "version_major": 2,
       "version_minor": 0
      },
      "text/plain": [
       "  0%|          | 0/232 [00:00<?, ?it/s]"
      ]
     },
     "metadata": {},
     "output_type": "display_data"
    },
    {
     "name": "stdout",
     "output_type": "stream",
     "text": [
      "w = identity >>  0.10775862068965517\n",
      "validating on 232 subject --> object associations\n"
     ]
    },
    {
     "data": {
      "application/vnd.jupyter.widget-view+json": {
       "model_id": "b865e58263204e5dbb206c5bf85346e3",
       "version_major": 2,
       "version_minor": 0
      },
      "text/plain": [
       "  0%|          | 0/232 [00:00<?, ?it/s]"
      ]
     },
     "metadata": {},
     "output_type": "display_data"
    },
    {
     "name": "stdout",
     "output_type": "stream",
     "text": [
      "w = jacobian >>  0.0\n",
      "\n",
      "78 >> 47.1165657043457 [(' scientist', 82.716), (' writer', 77.398), (' philosopher', 76.514), (' physicist', 76.139), (' psychologist', 75.855)]\n",
      "validating on 232 subject --> object associations\n"
     ]
    },
    {
     "data": {
      "application/vnd.jupyter.widget-view+json": {
       "model_id": "8fd6fb2f351a47ffaf9633d8a67a9ff8",
       "version_major": 2,
       "version_minor": 0
      },
      "text/plain": [
       "  0%|          | 0/232 [00:00<?, ?it/s]"
      ]
     },
     "metadata": {},
     "output_type": "display_data"
    },
    {
     "name": "stdout",
     "output_type": "stream",
     "text": [
      "w = identity >>  0.09482758620689655\n",
      "validating on 232 subject --> object associations\n"
     ]
    },
    {
     "data": {
      "application/vnd.jupyter.widget-view+json": {
       "model_id": "0c7b682b2545426b8b016066502fa9ac",
       "version_major": 2,
       "version_minor": 0
      },
      "text/plain": [
       "  0%|          | 0/232 [00:00<?, ?it/s]"
      ]
     },
     "metadata": {},
     "output_type": "display_data"
    },
    {
     "name": "stdout",
     "output_type": "stream",
     "text": [
      "w = jacobian >>  0.0\n",
      "\n",
      "81 >> 47.405269622802734 [(' scientist', 83.4), (' writer', 78.212), (' philosopher', 77.555), (' psychologist', 77.209), (' physicist', 77.197)]\n",
      "validating on 232 subject --> object associations\n"
     ]
    },
    {
     "data": {
      "application/vnd.jupyter.widget-view+json": {
       "model_id": "55491c0ef7454989806b1aa093ed71b2",
       "version_major": 2,
       "version_minor": 0
      },
      "text/plain": [
       "  0%|          | 0/232 [00:00<?, ?it/s]"
      ]
     },
     "metadata": {},
     "output_type": "display_data"
    },
    {
     "name": "stdout",
     "output_type": "stream",
     "text": [
      "w = identity >>  0.09482758620689655\n",
      "validating on 232 subject --> object associations\n"
     ]
    },
    {
     "data": {
      "application/vnd.jupyter.widget-view+json": {
       "model_id": "9b6fc4cf10b649aa8069ad0e17bc1826",
       "version_major": 2,
       "version_minor": 0
      },
      "text/plain": [
       "  0%|          | 0/232 [00:00<?, ?it/s]"
      ]
     },
     "metadata": {},
     "output_type": "display_data"
    },
    {
     "name": "stdout",
     "output_type": "stream",
     "text": [
      "w = jacobian >>  0.0\n",
      "\n",
      "saving results\n",
      "############################################################################################################\n",
      "relation_id >> P30\n",
      "------------------------------------------------------------------------------------------------------\n",
      "unique objects:  5 [' Africa', ' Antarctica', ' Asia', ' Americas', ' Europe']\n"
     ]
    },
    {
     "data": {
      "application/vnd.jupyter.widget-view+json": {
       "model_id": "e50844fde03341d59c429e61b512cff5",
       "version_major": 2,
       "version_minor": 0
      },
      "text/plain": [
       "  0%|          | 0/27 [00:00<?, ?it/s]"
      ]
     },
     "metadata": {},
     "output_type": "display_data"
    },
    {
     "name": "stdout",
     "output_type": "stream",
     "text": [
      "3 >> 15.595309257507324 [('��', 24.164), ('��', 22.512), (' unbeliev', 21.762), (' partName', 21.282), (' SetFontSize', 21.056)]\n",
      "P30 >> number of requests in counterfact = 959\n",
      "Checking correct prediction with normal calculation ...\n"
     ]
    },
    {
     "data": {
      "application/vnd.jupyter.widget-view+json": {
       "model_id": "70b935bd3946473ab6596326f0df34ed",
       "version_major": 2,
       "version_minor": 0
      },
      "text/plain": [
       "  0%|          | 0/959 [00:00<?, ?it/s]"
      ]
     },
     "metadata": {},
     "output_type": "display_data"
    },
    {
     "name": "stdout",
     "output_type": "stream",
     "text": [
      "Number of correctly predicted requests = 457\n",
      "validating on 457 subject --> object associations\n"
     ]
    },
    {
     "data": {
      "application/vnd.jupyter.widget-view+json": {
       "model_id": "9b54f8f258524f89a0595a4ba406c4d3",
       "version_major": 2,
       "version_minor": 0
      },
      "text/plain": [
       "  0%|          | 0/457 [00:00<?, ?it/s]"
      ]
     },
     "metadata": {},
     "output_type": "display_data"
    },
    {
     "name": "stdout",
     "output_type": "stream",
     "text": [
      "w = identity >>  0.31947483588621445\n",
      "validating on 457 subject --> object associations\n"
     ]
    },
    {
     "data": {
      "application/vnd.jupyter.widget-view+json": {
       "model_id": "c526fcd816d247e2906874c5c4bcc81f",
       "version_major": 2,
       "version_minor": 0
      },
      "text/plain": [
       "  0%|          | 0/457 [00:00<?, ?it/s]"
      ]
     },
     "metadata": {},
     "output_type": "display_data"
    },
    {
     "name": "stdout",
     "output_type": "stream",
     "text": [
      "w = jacobian >>  0.13347921225382933\n",
      "\n",
      "6 >> 16.0789852142334 [('��', 25.074), ('��', 21.434), (' SetFontSize', 20.63), ('��', 20.594), (' partName', 20.51)]\n",
      "validating on 457 subject --> object associations\n"
     ]
    },
    {
     "data": {
      "application/vnd.jupyter.widget-view+json": {
       "model_id": "0505027dda084f4285c8f34d673c8c9a",
       "version_major": 2,
       "version_minor": 0
      },
      "text/plain": [
       "  0%|          | 0/457 [00:00<?, ?it/s]"
      ]
     },
     "metadata": {},
     "output_type": "display_data"
    },
    {
     "name": "stdout",
     "output_type": "stream",
     "text": [
      "w = identity >>  0.36323851203501095\n",
      "validating on 457 subject --> object associations\n"
     ]
    },
    {
     "data": {
      "application/vnd.jupyter.widget-view+json": {
       "model_id": "af78ef714ee54931af47faab9bd242c4",
       "version_major": 2,
       "version_minor": 0
      },
      "text/plain": [
       "  0%|          | 0/457 [00:00<?, ?it/s]"
      ]
     },
     "metadata": {},
     "output_type": "display_data"
    },
    {
     "name": "stdout",
     "output_type": "stream",
     "text": [
      "w = jacobian >>  0.29540481400437635\n",
      "\n",
      "9 >> 16.648984909057617 [('��', 20.579), ('��', 18.724), (' partName', 18.422), (' Tsukuyomi', 17.943), (' Kinnikuman', 17.809)]\n",
      "validating on 457 subject --> object associations\n"
     ]
    },
    {
     "data": {
      "application/vnd.jupyter.widget-view+json": {
       "model_id": "8473d01c0aab45879d89a047358ed00e",
       "version_major": 2,
       "version_minor": 0
      },
      "text/plain": [
       "  0%|          | 0/457 [00:00<?, ?it/s]"
      ]
     },
     "metadata": {},
     "output_type": "display_data"
    },
    {
     "name": "stdout",
     "output_type": "stream",
     "text": [
      "w = identity >>  0.4113785557986871\n",
      "validating on 457 subject --> object associations\n"
     ]
    },
    {
     "data": {
      "application/vnd.jupyter.widget-view+json": {
       "model_id": "b0ac1e369ec74b878cb5dc2716c2a440",
       "version_major": 2,
       "version_minor": 0
      },
      "text/plain": [
       "  0%|          | 0/457 [00:00<?, ?it/s]"
      ]
     },
     "metadata": {},
     "output_type": "display_data"
    },
    {
     "name": "stdout",
     "output_type": "stream",
     "text": [
      "w = jacobian >>  0.5514223194748359\n",
      "\n",
      "12 >> 16.928333282470703 [(' Antarctica', 18.323), (' Americas', 18.208), (' Africa', 17.944), (' Asia', 17.917), (' Europe', 17.806)]\n",
      "validating on 457 subject --> object associations\n"
     ]
    },
    {
     "data": {
      "application/vnd.jupyter.widget-view+json": {
       "model_id": "c6d5f504eb0c4a7caa40309cab007ecc",
       "version_major": 2,
       "version_minor": 0
      },
      "text/plain": [
       "  0%|          | 0/457 [00:00<?, ?it/s]"
      ]
     },
     "metadata": {},
     "output_type": "display_data"
    },
    {
     "name": "stdout",
     "output_type": "stream",
     "text": [
      "w = identity >>  0.44638949671772427\n",
      "validating on 457 subject --> object associations\n"
     ]
    },
    {
     "data": {
      "application/vnd.jupyter.widget-view+json": {
       "model_id": "d8d941739f15417c9e0b3ad9a32e7bf1",
       "version_major": 2,
       "version_minor": 0
      },
      "text/plain": [
       "  0%|          | 0/457 [00:00<?, ?it/s]"
      ]
     },
     "metadata": {},
     "output_type": "display_data"
    },
    {
     "name": "stdout",
     "output_type": "stream",
     "text": [
      "w = jacobian >>  0.7024070021881839\n",
      "\n",
      "15 >> 16.798032760620117 [(' Antarctica', 24.356), (' Americas', 24.218), (' Africa', 23.954), (' Asia', 23.942), (' Europe', 23.818)]\n",
      "validating on 457 subject --> object associations\n"
     ]
    },
    {
     "data": {
      "application/vnd.jupyter.widget-view+json": {
       "model_id": "9214932f678a4388891c426a95b23705",
       "version_major": 2,
       "version_minor": 0
      },
      "text/plain": [
       "  0%|          | 0/457 [00:00<?, ?it/s]"
      ]
     },
     "metadata": {},
     "output_type": "display_data"
    },
    {
     "name": "stdout",
     "output_type": "stream",
     "text": [
      "w = identity >>  0.4726477024070022\n",
      "validating on 457 subject --> object associations\n"
     ]
    },
    {
     "data": {
      "application/vnd.jupyter.widget-view+json": {
       "model_id": "7e6ee463a4b44afc911db06c95666cb4",
       "version_major": 2,
       "version_minor": 0
      },
      "text/plain": [
       "  0%|          | 0/457 [00:00<?, ?it/s]"
      ]
     },
     "metadata": {},
     "output_type": "display_data"
    },
    {
     "name": "stdout",
     "output_type": "stream",
     "text": [
      "w = jacobian >>  0.7702407002188184\n",
      "\n",
      "18 >> 17.05258560180664 [(' Antarctica', 31.187), (' Americas', 31.005), (' Africa', 30.714), (' Asia', 30.69), (' Europe', 30.503)]\n",
      "validating on 457 subject --> object associations\n"
     ]
    },
    {
     "data": {
      "application/vnd.jupyter.widget-view+json": {
       "model_id": "f9e66aa400474cc79dd1426358c8b0f7",
       "version_major": 2,
       "version_minor": 0
      },
      "text/plain": [
       "  0%|          | 0/457 [00:00<?, ?it/s]"
      ]
     },
     "metadata": {},
     "output_type": "display_data"
    },
    {
     "name": "stdout",
     "output_type": "stream",
     "text": [
      "w = identity >>  0.5207877461706784\n",
      "validating on 457 subject --> object associations\n"
     ]
    },
    {
     "data": {
      "application/vnd.jupyter.widget-view+json": {
       "model_id": "06d52530b1c54e618cbd119206647db3",
       "version_major": 2,
       "version_minor": 0
      },
      "text/plain": [
       "  0%|          | 0/457 [00:00<?, ?it/s]"
      ]
     },
     "metadata": {},
     "output_type": "display_data"
    },
    {
     "name": "stdout",
     "output_type": "stream",
     "text": [
      "w = jacobian >>  0.8358862144420132\n",
      "\n",
      "21 >> 18.086275100708008 [(' Antarctica', 37.422), (' Americas', 37.361), (' Africa', 36.917), (' Asia', 36.866), (' Europe', 36.778)]\n",
      "validating on 457 subject --> object associations\n"
     ]
    },
    {
     "data": {
      "application/vnd.jupyter.widget-view+json": {
       "model_id": "809c58bde33b4c2eaab1749271c61cc9",
       "version_major": 2,
       "version_minor": 0
      },
      "text/plain": [
       "  0%|          | 0/457 [00:00<?, ?it/s]"
      ]
     },
     "metadata": {},
     "output_type": "display_data"
    },
    {
     "name": "stdout",
     "output_type": "stream",
     "text": [
      "w = identity >>  0.5864332603938731\n",
      "validating on 457 subject --> object associations\n"
     ]
    },
    {
     "data": {
      "application/vnd.jupyter.widget-view+json": {
       "model_id": "2ae1b1cae360498197f02cd57bb80ad6",
       "version_major": 2,
       "version_minor": 0
      },
      "text/plain": [
       "  0%|          | 0/457 [00:00<?, ?it/s]"
      ]
     },
     "metadata": {},
     "output_type": "display_data"
    },
    {
     "name": "stdout",
     "output_type": "stream",
     "text": [
      "w = jacobian >>  0.9080962800875274\n",
      "\n",
      "24 >> 18.703672409057617 [(' Antarctica', 43.025), (' Americas', 42.812), (' Africa', 42.433), (' Asia', 42.354), (' Europe', 42.169)]\n",
      "validating on 457 subject --> object associations\n"
     ]
    },
    {
     "data": {
      "application/vnd.jupyter.widget-view+json": {
       "model_id": "173b639d82aa42959c7265640c8914b3",
       "version_major": 2,
       "version_minor": 0
      },
      "text/plain": [
       "  0%|          | 0/457 [00:00<?, ?it/s]"
      ]
     },
     "metadata": {},
     "output_type": "display_data"
    },
    {
     "name": "stdout",
     "output_type": "stream",
     "text": [
      "w = identity >>  0.6039387308533917\n",
      "validating on 457 subject --> object associations\n"
     ]
    },
    {
     "data": {
      "application/vnd.jupyter.widget-view+json": {
       "model_id": "1ef28352e0d44eb581dbafb281bdba6c",
       "version_major": 2,
       "version_minor": 0
      },
      "text/plain": [
       "  0%|          | 0/457 [00:00<?, ?it/s]"
      ]
     },
     "metadata": {},
     "output_type": "display_data"
    },
    {
     "name": "stdout",
     "output_type": "stream",
     "text": [
      "w = jacobian >>  0.9168490153172867\n",
      "\n",
      "27 >> 20.505718231201172 [(' Antarctica', 48.193), (' Americas', 48.125), (' Asia', 47.758), (' Africa', 47.703), (' Europe', 47.573)]\n",
      "validating on 457 subject --> object associations\n"
     ]
    },
    {
     "data": {
      "application/vnd.jupyter.widget-view+json": {
       "model_id": "2f549541612d4c1d85f579dce3c80220",
       "version_major": 2,
       "version_minor": 0
      },
      "text/plain": [
       "  0%|          | 0/457 [00:00<?, ?it/s]"
      ]
     },
     "metadata": {},
     "output_type": "display_data"
    },
    {
     "name": "stdout",
     "output_type": "stream",
     "text": [
      "w = identity >>  0.687089715536105\n",
      "validating on 457 subject --> object associations\n"
     ]
    },
    {
     "data": {
      "application/vnd.jupyter.widget-view+json": {
       "model_id": "86d7791f6c80462e8783ee27f1897a4a",
       "version_major": 2,
       "version_minor": 0
      },
      "text/plain": [
       "  0%|          | 0/457 [00:00<?, ?it/s]"
      ]
     },
     "metadata": {},
     "output_type": "display_data"
    },
    {
     "name": "stdout",
     "output_type": "stream",
     "text": [
      "w = jacobian >>  0.936542669584245\n",
      "\n",
      "30 >> 22.3023624420166 [(' Antarctica', 52.274), (' Americas', 52.161), (' Africa', 51.795), (' Asia', 51.778), (' Europe', 51.615)]\n",
      "validating on 457 subject --> object associations\n"
     ]
    },
    {
     "data": {
      "application/vnd.jupyter.widget-view+json": {
       "model_id": "041932dff0bb4c6696a3877f297312bc",
       "version_major": 2,
       "version_minor": 0
      },
      "text/plain": [
       "  0%|          | 0/457 [00:00<?, ?it/s]"
      ]
     },
     "metadata": {},
     "output_type": "display_data"
    },
    {
     "name": "stdout",
     "output_type": "stream",
     "text": [
      "w = identity >>  0.7768052516411379\n",
      "validating on 457 subject --> object associations\n"
     ]
    },
    {
     "data": {
      "application/vnd.jupyter.widget-view+json": {
       "model_id": "ba6ebb3ecf1049d19c67fbedc042105b",
       "version_major": 2,
       "version_minor": 0
      },
      "text/plain": [
       "  0%|          | 0/457 [00:00<?, ?it/s]"
      ]
     },
     "metadata": {},
     "output_type": "display_data"
    },
    {
     "name": "stdout",
     "output_type": "stream",
     "text": [
      "w = jacobian >>  0.9409190371991247\n",
      "\n",
      "33 >> 23.603914260864258 [(' Antarctica', 56.701), (' Americas', 56.458), (' Africa', 56.083), (' Asia', 56.053), (' Europe', 55.858)]\n",
      "validating on 457 subject --> object associations\n"
     ]
    },
    {
     "data": {
      "application/vnd.jupyter.widget-view+json": {
       "model_id": "2d4b2b4ceec74509b3b73ea61c1ea102",
       "version_major": 2,
       "version_minor": 0
      },
      "text/plain": [
       "  0%|          | 0/457 [00:00<?, ?it/s]"
      ]
     },
     "metadata": {},
     "output_type": "display_data"
    },
    {
     "name": "stdout",
     "output_type": "stream",
     "text": [
      "w = identity >>  0.8140043763676149\n",
      "validating on 457 subject --> object associations\n"
     ]
    },
    {
     "data": {
      "application/vnd.jupyter.widget-view+json": {
       "model_id": "32bf5f3326b74411bcb5a29d078b68e2",
       "version_major": 2,
       "version_minor": 0
      },
      "text/plain": [
       "  0%|          | 0/457 [00:00<?, ?it/s]"
      ]
     },
     "metadata": {},
     "output_type": "display_data"
    },
    {
     "name": "stdout",
     "output_type": "stream",
     "text": [
      "w = jacobian >>  0.9409190371991247\n",
      "\n",
      "36 >> 25.799047470092773 [(' Antarctica', 59.025), (' Americas', 58.952), (' Asia', 58.683), (' Africa', 58.67), (' Europe', 58.561)]\n",
      "validating on 457 subject --> object associations\n"
     ]
    },
    {
     "data": {
      "application/vnd.jupyter.widget-view+json": {
       "model_id": "ed695993ee734e40a47d7a2524b69bbc",
       "version_major": 2,
       "version_minor": 0
      },
      "text/plain": [
       "  0%|          | 0/457 [00:00<?, ?it/s]"
      ]
     },
     "metadata": {},
     "output_type": "display_data"
    },
    {
     "name": "stdout",
     "output_type": "stream",
     "text": [
      "w = identity >>  0.8687089715536105\n",
      "validating on 457 subject --> object associations\n"
     ]
    },
    {
     "data": {
      "application/vnd.jupyter.widget-view+json": {
       "model_id": "a350d36f9d0742e98a9cd35ba2561852",
       "version_major": 2,
       "version_minor": 0
      },
      "text/plain": [
       "  0%|          | 0/457 [00:00<?, ?it/s]"
      ]
     },
     "metadata": {},
     "output_type": "display_data"
    },
    {
     "name": "stdout",
     "output_type": "stream",
     "text": [
      "w = jacobian >>  0.9431072210065645\n",
      "\n",
      "39 >> 28.235584259033203 [(' Antarctica', 61.754), (' Americas', 61.703), (' Asia', 61.586), (' Europe', 61.53), (' Africa', 61.519)]\n",
      "validating on 457 subject --> object associations\n"
     ]
    },
    {
     "data": {
      "application/vnd.jupyter.widget-view+json": {
       "model_id": "b3645dfa32c64dd9b6f32938f63d2972",
       "version_major": 2,
       "version_minor": 0
      },
      "text/plain": [
       "  0%|          | 0/457 [00:00<?, ?it/s]"
      ]
     },
     "metadata": {},
     "output_type": "display_data"
    },
    {
     "name": "stdout",
     "output_type": "stream",
     "text": [
      "w = identity >>  0.912472647702407\n",
      "validating on 457 subject --> object associations\n"
     ]
    },
    {
     "data": {
      "application/vnd.jupyter.widget-view+json": {
       "model_id": "886eb4c7a77643d1a8743283f8c8fe86",
       "version_major": 2,
       "version_minor": 0
      },
      "text/plain": [
       "  0%|          | 0/457 [00:00<?, ?it/s]"
      ]
     },
     "metadata": {},
     "output_type": "display_data"
    },
    {
     "name": "stdout",
     "output_type": "stream",
     "text": [
      "w = jacobian >>  0.9452954048140044\n",
      "\n",
      "42 >> 30.1337833404541 [(' Antarctica', 64.406), (' Americas', 64.183), (' Africa', 63.888), (' Asia', 63.798), (' Europe', 63.694)]\n",
      "validating on 457 subject --> object associations\n"
     ]
    },
    {
     "data": {
      "application/vnd.jupyter.widget-view+json": {
       "model_id": "4281367fb1934370a7fdc64525cd4385",
       "version_major": 2,
       "version_minor": 0
      },
      "text/plain": [
       "  0%|          | 0/457 [00:00<?, ?it/s]"
      ]
     },
     "metadata": {},
     "output_type": "display_data"
    },
    {
     "name": "stdout",
     "output_type": "stream",
     "text": [
      "w = identity >>  0.9409190371991247\n",
      "validating on 457 subject --> object associations\n"
     ]
    },
    {
     "data": {
      "application/vnd.jupyter.widget-view+json": {
       "model_id": "85d8101f65fd4715bec18464f08053db",
       "version_major": 2,
       "version_minor": 0
      },
      "text/plain": [
       "  0%|          | 0/457 [00:00<?, ?it/s]"
      ]
     },
     "metadata": {},
     "output_type": "display_data"
    },
    {
     "name": "stdout",
     "output_type": "stream",
     "text": [
      "w = jacobian >>  0.9452954048140044\n",
      "\n",
      "45 >> 32.330013275146484 [(' Antarctica', 66.327), (' Americas', 66.06), (' Africa', 65.765), (' Asia', 65.561), (' Europe', 65.393)]\n",
      "validating on 457 subject --> object associations\n"
     ]
    },
    {
     "data": {
      "application/vnd.jupyter.widget-view+json": {
       "model_id": "4dadc7755d544abe81c60b937fd0d032",
       "version_major": 2,
       "version_minor": 0
      },
      "text/plain": [
       "  0%|          | 0/457 [00:00<?, ?it/s]"
      ]
     },
     "metadata": {},
     "output_type": "display_data"
    },
    {
     "name": "stdout",
     "output_type": "stream",
     "text": [
      "w = identity >>  0.9540481400437637\n",
      "validating on 457 subject --> object associations\n"
     ]
    },
    {
     "data": {
      "application/vnd.jupyter.widget-view+json": {
       "model_id": "31b6d7564b87456c9df5997a1fd4425b",
       "version_major": 2,
       "version_minor": 0
      },
      "text/plain": [
       "  0%|          | 0/457 [00:00<?, ?it/s]"
      ]
     },
     "metadata": {},
     "output_type": "display_data"
    },
    {
     "name": "stdout",
     "output_type": "stream",
     "text": [
      "w = jacobian >>  0.9474835886214442\n",
      "\n",
      "48 >> 34.25040054321289 [(' Antarctica', 68.592), (' Americas', 68.428), (' Africa', 68.244), (' Asia', 68.114), (' Europe', 67.933)]\n",
      "validating on 457 subject --> object associations\n"
     ]
    },
    {
     "data": {
      "application/vnd.jupyter.widget-view+json": {
       "model_id": "a71b835f0aff4b259da5e12562ffb3eb",
       "version_major": 2,
       "version_minor": 0
      },
      "text/plain": [
       "  0%|          | 0/457 [00:00<?, ?it/s]"
      ]
     },
     "metadata": {},
     "output_type": "display_data"
    },
    {
     "name": "stdout",
     "output_type": "stream",
     "text": [
      "w = identity >>  0.9584245076586433\n",
      "validating on 457 subject --> object associations\n"
     ]
    },
    {
     "data": {
      "application/vnd.jupyter.widget-view+json": {
       "model_id": "34ed584dc4604e9d9c3fe6652314b18f",
       "version_major": 2,
       "version_minor": 0
      },
      "text/plain": [
       "  0%|          | 0/457 [00:00<?, ?it/s]"
      ]
     },
     "metadata": {},
     "output_type": "display_data"
    },
    {
     "name": "stdout",
     "output_type": "stream",
     "text": [
      "w = jacobian >>  0.9452954048140044\n",
      "\n",
      "51 >> 36.92570114135742 [(' Asia', 69.847), (' Americas', 69.796), (' Africa', 69.74), (' Europe', 69.737), (' Antarctica', 69.702)]\n",
      "validating on 457 subject --> object associations\n"
     ]
    },
    {
     "data": {
      "application/vnd.jupyter.widget-view+json": {
       "model_id": "8a3070aafa9d419fa58d824d1b280895",
       "version_major": 2,
       "version_minor": 0
      },
      "text/plain": [
       "  0%|          | 0/457 [00:00<?, ?it/s]"
      ]
     },
     "metadata": {},
     "output_type": "display_data"
    },
    {
     "name": "stdout",
     "output_type": "stream",
     "text": [
      "w = identity >>  0.962800875273523\n",
      "validating on 457 subject --> object associations\n"
     ]
    },
    {
     "data": {
      "application/vnd.jupyter.widget-view+json": {
       "model_id": "bbde2cb4c3dd40bb8471453e1c20b41e",
       "version_major": 2,
       "version_minor": 0
      },
      "text/plain": [
       "  0%|          | 0/457 [00:00<?, ?it/s]"
      ]
     },
     "metadata": {},
     "output_type": "display_data"
    },
    {
     "name": "stdout",
     "output_type": "stream",
     "text": [
      "w = jacobian >>  0.949671772428884\n",
      "\n",
      "54 >> 37.71940231323242 [(' Asia', 72.63), (' Americas', 72.55), (' Europe', 72.536), (' Africa', 72.505), (' Antarctica', 72.445)]\n",
      "validating on 457 subject --> object associations\n"
     ]
    },
    {
     "data": {
      "application/vnd.jupyter.widget-view+json": {
       "model_id": "9b67fe94642f45dc89929649088521a8",
       "version_major": 2,
       "version_minor": 0
      },
      "text/plain": [
       "  0%|          | 0/457 [00:00<?, ?it/s]"
      ]
     },
     "metadata": {},
     "output_type": "display_data"
    },
    {
     "name": "stdout",
     "output_type": "stream",
     "text": [
      "w = identity >>  0.9649890590809628\n",
      "validating on 457 subject --> object associations\n"
     ]
    },
    {
     "data": {
      "application/vnd.jupyter.widget-view+json": {
       "model_id": "1cee6dbc72a141fda07ddb1c00b596ed",
       "version_major": 2,
       "version_minor": 0
      },
      "text/plain": [
       "  0%|          | 0/457 [00:00<?, ?it/s]"
      ]
     },
     "metadata": {},
     "output_type": "display_data"
    },
    {
     "name": "stdout",
     "output_type": "stream",
     "text": [
      "w = jacobian >>  0.9474835886214442\n",
      "\n",
      "57 >> 39.811065673828125 [(' Asia', 74.267), (' Europe', 74.263), (' Americas', 74.198), (' Africa', 74.11), (' Antarctica', 74.102)]\n",
      "validating on 457 subject --> object associations\n"
     ]
    },
    {
     "data": {
      "application/vnd.jupyter.widget-view+json": {
       "model_id": "d4c4fbe69b3e4c57ae23e3d5553afd42",
       "version_major": 2,
       "version_minor": 0
      },
      "text/plain": [
       "  0%|          | 0/457 [00:00<?, ?it/s]"
      ]
     },
     "metadata": {},
     "output_type": "display_data"
    },
    {
     "name": "stdout",
     "output_type": "stream",
     "text": [
      "w = identity >>  0.9693654266958425\n",
      "validating on 457 subject --> object associations\n"
     ]
    },
    {
     "data": {
      "application/vnd.jupyter.widget-view+json": {
       "model_id": "66bf5212a0e3490695df9341322f6e30",
       "version_major": 2,
       "version_minor": 0
      },
      "text/plain": [
       "  0%|          | 0/457 [00:00<?, ?it/s]"
      ]
     },
     "metadata": {},
     "output_type": "display_data"
    },
    {
     "name": "stdout",
     "output_type": "stream",
     "text": [
      "w = jacobian >>  0.9474835886214442\n",
      "\n",
      "60 >> 41.36130905151367 [(' Antarctica', 76.218), (' Europe', 76.19), (' Americas', 76.185), (' Asia', 76.143), (' Africa', 76.016)]\n",
      "validating on 457 subject --> object associations\n"
     ]
    },
    {
     "data": {
      "application/vnd.jupyter.widget-view+json": {
       "model_id": "d1df41039f28483eaa7ce73da92cf589",
       "version_major": 2,
       "version_minor": 0
      },
      "text/plain": [
       "  0%|          | 0/457 [00:00<?, ?it/s]"
      ]
     },
     "metadata": {},
     "output_type": "display_data"
    },
    {
     "name": "stdout",
     "output_type": "stream",
     "text": [
      "w = identity >>  0.9693654266958425\n",
      "validating on 457 subject --> object associations\n"
     ]
    },
    {
     "data": {
      "application/vnd.jupyter.widget-view+json": {
       "model_id": "c15b675acf4d4ce0b0945fade0d4bc7b",
       "version_major": 2,
       "version_minor": 0
      },
      "text/plain": [
       "  0%|          | 0/457 [00:00<?, ?it/s]"
      ]
     },
     "metadata": {},
     "output_type": "display_data"
    },
    {
     "name": "stdout",
     "output_type": "stream",
     "text": [
      "w = jacobian >>  0.9452954048140044\n",
      "\n",
      "63 >> 42.70902633666992 [(' Antarctica', 78.706), (' Americas', 78.558), (' Europe', 78.352), (' Africa', 78.351), (' Asia', 78.349)]\n",
      "validating on 457 subject --> object associations\n"
     ]
    },
    {
     "data": {
      "application/vnd.jupyter.widget-view+json": {
       "model_id": "f684a5a74bcc4f8aa5cd9a7246118d59",
       "version_major": 2,
       "version_minor": 0
      },
      "text/plain": [
       "  0%|          | 0/457 [00:00<?, ?it/s]"
      ]
     },
     "metadata": {},
     "output_type": "display_data"
    },
    {
     "name": "stdout",
     "output_type": "stream",
     "text": [
      "w = identity >>  0.9693654266958425\n",
      "validating on 457 subject --> object associations\n"
     ]
    },
    {
     "data": {
      "application/vnd.jupyter.widget-view+json": {
       "model_id": "927180126075476982d18ef5f4bb24d4",
       "version_major": 2,
       "version_minor": 0
      },
      "text/plain": [
       "  0%|          | 0/457 [00:00<?, ?it/s]"
      ]
     },
     "metadata": {},
     "output_type": "display_data"
    },
    {
     "name": "stdout",
     "output_type": "stream",
     "text": [
      "w = jacobian >>  0.9452954048140044\n",
      "\n",
      "66 >> 43.58186721801758 [(' Antarctica', 80.845), (' Americas', 80.706), (' Europe', 80.507), (' Asia', 80.472), (' Africa', 80.446)]\n",
      "validating on 457 subject --> object associations\n"
     ]
    },
    {
     "data": {
      "application/vnd.jupyter.widget-view+json": {
       "model_id": "558c78407aed412187e9b1959bb8c99d",
       "version_major": 2,
       "version_minor": 0
      },
      "text/plain": [
       "  0%|          | 0/457 [00:00<?, ?it/s]"
      ]
     },
     "metadata": {},
     "output_type": "display_data"
    },
    {
     "name": "stdout",
     "output_type": "stream",
     "text": [
      "w = identity >>  0.9693654266958425\n",
      "validating on 457 subject --> object associations\n"
     ]
    },
    {
     "data": {
      "application/vnd.jupyter.widget-view+json": {
       "model_id": "274e1ea967b64be5a9c64d29834f959e",
       "version_major": 2,
       "version_minor": 0
      },
      "text/plain": [
       "  0%|          | 0/457 [00:00<?, ?it/s]"
      ]
     },
     "metadata": {},
     "output_type": "display_data"
    },
    {
     "name": "stdout",
     "output_type": "stream",
     "text": [
      "w = jacobian >>  0.9431072210065645\n",
      "\n",
      "69 >> 44.981143951416016 [(' Antarctica', 82.784), (' Americas', 82.608), (' Africa', 82.381), (' Asia', 82.281), (' Europe', 82.252)]\n",
      "validating on 457 subject --> object associations\n"
     ]
    },
    {
     "data": {
      "application/vnd.jupyter.widget-view+json": {
       "model_id": "12b195111a82482fb30f066e5cd0b07d",
       "version_major": 2,
       "version_minor": 0
      },
      "text/plain": [
       "  0%|          | 0/457 [00:00<?, ?it/s]"
      ]
     },
     "metadata": {},
     "output_type": "display_data"
    },
    {
     "name": "stdout",
     "output_type": "stream",
     "text": [
      "w = identity >>  0.9671772428884027\n",
      "validating on 457 subject --> object associations\n"
     ]
    },
    {
     "data": {
      "application/vnd.jupyter.widget-view+json": {
       "model_id": "9f84215f32144f63a63e93e46b6805e7",
       "version_major": 2,
       "version_minor": 0
      },
      "text/plain": [
       "  0%|          | 0/457 [00:00<?, ?it/s]"
      ]
     },
     "metadata": {},
     "output_type": "display_data"
    },
    {
     "name": "stdout",
     "output_type": "stream",
     "text": [
      "w = jacobian >>  0.9452954048140044\n",
      "\n",
      "72 >> 46.40810012817383 [(' Antarctica', 84.256), (' Americas', 84.129), (' Africa', 84.026), (' Asia', 83.867), (' Europe', 83.81)]\n",
      "validating on 457 subject --> object associations\n"
     ]
    },
    {
     "data": {
      "application/vnd.jupyter.widget-view+json": {
       "model_id": "b45ba40395f84d3ea54d7564f05093b3",
       "version_major": 2,
       "version_minor": 0
      },
      "text/plain": [
       "  0%|          | 0/457 [00:00<?, ?it/s]"
      ]
     },
     "metadata": {},
     "output_type": "display_data"
    },
    {
     "name": "stdout",
     "output_type": "stream",
     "text": [
      "w = identity >>  0.9671772428884027\n",
      "validating on 457 subject --> object associations\n"
     ]
    },
    {
     "data": {
      "application/vnd.jupyter.widget-view+json": {
       "model_id": "e3abfae81d0449659ce5e820db588994",
       "version_major": 2,
       "version_minor": 0
      },
      "text/plain": [
       "  0%|          | 0/457 [00:00<?, ?it/s]"
      ]
     },
     "metadata": {},
     "output_type": "display_data"
    },
    {
     "name": "stdout",
     "output_type": "stream",
     "text": [
      "w = jacobian >>  0.9474835886214442\n",
      "\n",
      "75 >> 46.671688079833984 [(' Antarctica', 86.56), (' Americas', 86.476), (' Africa', 86.427), (' Asia', 86.27), (' Europe', 86.196)]\n",
      "validating on 457 subject --> object associations\n"
     ]
    },
    {
     "data": {
      "application/vnd.jupyter.widget-view+json": {
       "model_id": "6ba13fa5d5a04bafb8a488d397271686",
       "version_major": 2,
       "version_minor": 0
      },
      "text/plain": [
       "  0%|          | 0/457 [00:00<?, ?it/s]"
      ]
     },
     "metadata": {},
     "output_type": "display_data"
    },
    {
     "name": "stdout",
     "output_type": "stream",
     "text": [
      "w = identity >>  0.9693654266958425\n",
      "validating on 457 subject --> object associations\n"
     ]
    },
    {
     "data": {
      "application/vnd.jupyter.widget-view+json": {
       "model_id": "46b705acc6ed405786df10f4d78790bc",
       "version_major": 2,
       "version_minor": 0
      },
      "text/plain": [
       "  0%|          | 0/457 [00:00<?, ?it/s]"
      ]
     },
     "metadata": {},
     "output_type": "display_data"
    },
    {
     "name": "stdout",
     "output_type": "stream",
     "text": [
      "w = jacobian >>  0.9474835886214442\n",
      "\n",
      "78 >> 47.68248748779297 [(' Africa', 87.989), (' Americas', 87.936), (' Antarctica', 87.897), (' Asia', 87.872), (' Europe', 87.749)]\n",
      "validating on 457 subject --> object associations\n"
     ]
    },
    {
     "data": {
      "application/vnd.jupyter.widget-view+json": {
       "model_id": "c089bab5b1254df49ab5b544cc1255ed",
       "version_major": 2,
       "version_minor": 0
      },
      "text/plain": [
       "  0%|          | 0/457 [00:00<?, ?it/s]"
      ]
     },
     "metadata": {},
     "output_type": "display_data"
    },
    {
     "name": "stdout",
     "output_type": "stream",
     "text": [
      "w = identity >>  0.9693654266958425\n",
      "validating on 457 subject --> object associations\n"
     ]
    },
    {
     "data": {
      "application/vnd.jupyter.widget-view+json": {
       "model_id": "23007e6b56074c28ae6d2945af72c84e",
       "version_major": 2,
       "version_minor": 0
      },
      "text/plain": [
       "  0%|          | 0/457 [00:00<?, ?it/s]"
      ]
     },
     "metadata": {},
     "output_type": "display_data"
    },
    {
     "name": "stdout",
     "output_type": "stream",
     "text": [
      "w = jacobian >>  0.949671772428884\n",
      "\n",
      "81 >> 47.79254913330078 [(' Africa', 90.362), (' Americas', 90.276), (' Asia', 90.27), (' Antarctica', 90.2), (' Europe', 90.144)]\n",
      "validating on 457 subject --> object associations\n"
     ]
    },
    {
     "data": {
      "application/vnd.jupyter.widget-view+json": {
       "model_id": "fe87123d85234d449435ec0b56ed1031",
       "version_major": 2,
       "version_minor": 0
      },
      "text/plain": [
       "  0%|          | 0/457 [00:00<?, ?it/s]"
      ]
     },
     "metadata": {},
     "output_type": "display_data"
    },
    {
     "name": "stdout",
     "output_type": "stream",
     "text": [
      "w = identity >>  0.9693654266958425\n",
      "validating on 457 subject --> object associations\n"
     ]
    },
    {
     "data": {
      "application/vnd.jupyter.widget-view+json": {
       "model_id": "a22b26e70cc94e9aa0b6a4f38cebc4c6",
       "version_major": 2,
       "version_minor": 0
      },
      "text/plain": [
       "  0%|          | 0/457 [00:00<?, ?it/s]"
      ]
     },
     "metadata": {},
     "output_type": "display_data"
    },
    {
     "name": "stdout",
     "output_type": "stream",
     "text": [
      "w = jacobian >>  0.9474835886214442\n",
      "\n",
      "saving results\n",
      "############################################################################################################\n",
      "relation_id >> P937\n",
      "------------------------------------------------------------------------------------------------------\n",
      "unique objects:  90 [' Chicago', ' Dublin', ' Indianapolis', ' London', ' Berlin']\n"
     ]
    },
    {
     "data": {
      "application/vnd.jupyter.widget-view+json": {
       "model_id": "248749cd18944c6db4b8b66b4b5518d0",
       "version_major": 2,
       "version_minor": 0
      },
      "text/plain": [
       "  0%|          | 0/27 [00:00<?, ?it/s]"
      ]
     },
     "metadata": {},
     "output_type": "display_data"
    },
    {
     "name": "stdout",
     "output_type": "stream",
     "text": [
      "3 >> 14.1664400100708 [('��', 20.443), (' SetFontSize', 18.928), ('��', 18.835), ('��', 18.698), (' gmaxwell', 18.242)]\n",
      "P937 >> number of requests in counterfact = 846\n",
      "Checking correct prediction with normal calculation ...\n"
     ]
    },
    {
     "data": {
      "application/vnd.jupyter.widget-view+json": {
       "model_id": "3b071aa29df647c89f5bee3acb279794",
       "version_major": 2,
       "version_minor": 0
      },
      "text/plain": [
       "  0%|          | 0/846 [00:00<?, ?it/s]"
      ]
     },
     "metadata": {},
     "output_type": "display_data"
    },
    {
     "name": "stdout",
     "output_type": "stream",
     "text": [
      "Number of correctly predicted requests = 333\n",
      "validating on 333 subject --> object associations\n"
     ]
    },
    {
     "data": {
      "application/vnd.jupyter.widget-view+json": {
       "model_id": "c03616e6ffa24acba6bc7676f40051c1",
       "version_major": 2,
       "version_minor": 0
      },
      "text/plain": [
       "  0%|          | 0/333 [00:00<?, ?it/s]"
      ]
     },
     "metadata": {},
     "output_type": "display_data"
    },
    {
     "name": "stdout",
     "output_type": "stream",
     "text": [
      "w = identity >>  0.10510510510510511\n",
      "validating on 333 subject --> object associations\n"
     ]
    },
    {
     "data": {
      "application/vnd.jupyter.widget-view+json": {
       "model_id": "0b71b8a417424e4aab9aa79e13450662",
       "version_major": 2,
       "version_minor": 0
      },
      "text/plain": [
       "  0%|          | 0/333 [00:00<?, ?it/s]"
      ]
     },
     "metadata": {},
     "output_type": "display_data"
    },
    {
     "name": "stdout",
     "output_type": "stream",
     "text": [
      "w = jacobian >>  0.0\n",
      "\n",
      "6 >> 14.463726997375488 [('��', 19.816), ('��', 18.766), (' SetFontSize', 18.471), ('��', 17.995), ('��', 17.547)]\n",
      "validating on 333 subject --> object associations\n"
     ]
    },
    {
     "data": {
      "application/vnd.jupyter.widget-view+json": {
       "model_id": "c903a713493a4ff9abdc42374de39951",
       "version_major": 2,
       "version_minor": 0
      },
      "text/plain": [
       "  0%|          | 0/333 [00:00<?, ?it/s]"
      ]
     },
     "metadata": {},
     "output_type": "display_data"
    },
    {
     "name": "stdout",
     "output_type": "stream",
     "text": [
      "w = identity >>  0.13513513513513514\n",
      "validating on 333 subject --> object associations\n"
     ]
    },
    {
     "data": {
      "application/vnd.jupyter.widget-view+json": {
       "model_id": "8eb2ea1a34a741ba93a28937b7d1e90a",
       "version_major": 2,
       "version_minor": 0
      },
      "text/plain": [
       "  0%|          | 0/333 [00:00<?, ?it/s]"
      ]
     },
     "metadata": {},
     "output_type": "display_data"
    },
    {
     "name": "stdout",
     "output_type": "stream",
     "text": [
      "w = jacobian >>  0.012012012012012012\n",
      "\n",
      "9 >> 16.00119400024414 [('��', 18.126), (' Riyadh', 17.507), (' SetFontSize', 17.161), ('��', 17.057), (' Tunisia', 16.569)]\n",
      "validating on 333 subject --> object associations\n"
     ]
    },
    {
     "data": {
      "application/vnd.jupyter.widget-view+json": {
       "model_id": "77a45bc1b6da45349afa8fd4cb5f211f",
       "version_major": 2,
       "version_minor": 0
      },
      "text/plain": [
       "  0%|          | 0/333 [00:00<?, ?it/s]"
      ]
     },
     "metadata": {},
     "output_type": "display_data"
    },
    {
     "name": "stdout",
     "output_type": "stream",
     "text": [
      "w = identity >>  0.18618618618618618\n",
      "validating on 333 subject --> object associations\n"
     ]
    },
    {
     "data": {
      "application/vnd.jupyter.widget-view+json": {
       "model_id": "7712a151d6974032abe0e4e9f955ed24",
       "version_major": 2,
       "version_minor": 0
      },
      "text/plain": [
       "  0%|          | 0/333 [00:00<?, ?it/s]"
      ]
     },
     "metadata": {},
     "output_type": "display_data"
    },
    {
     "name": "stdout",
     "output_type": "stream",
     "text": [
      "w = jacobian >>  0.13513513513513514\n",
      "\n",
      "12 >> 16.450828552246094 [(' Riyadh', 21.74), (' Honolulu', 21.537), (' Bangkok', 20.694), (' Tunisia', 20.362), (' Buenos', 20.16)]\n",
      "validating on 333 subject --> object associations\n"
     ]
    },
    {
     "data": {
      "application/vnd.jupyter.widget-view+json": {
       "model_id": "6d100b58bed64891b3e0d3363ca89a77",
       "version_major": 2,
       "version_minor": 0
      },
      "text/plain": [
       "  0%|          | 0/333 [00:00<?, ?it/s]"
      ]
     },
     "metadata": {},
     "output_type": "display_data"
    },
    {
     "name": "stdout",
     "output_type": "stream",
     "text": [
      "w = identity >>  0.2222222222222222\n",
      "validating on 333 subject --> object associations\n"
     ]
    },
    {
     "data": {
      "application/vnd.jupyter.widget-view+json": {
       "model_id": "fb11f5b2a996485895fceb3e5bb27bf6",
       "version_major": 2,
       "version_minor": 0
      },
      "text/plain": [
       "  0%|          | 0/333 [00:00<?, ?it/s]"
      ]
     },
     "metadata": {},
     "output_type": "display_data"
    },
    {
     "name": "stdout",
     "output_type": "stream",
     "text": [
      "w = jacobian >>  0.23123123123123124\n",
      "\n",
      "15 >> 16.79680061340332 [(' Honolulu', 26.554), (' Bangkok', 25.802), (' Riyadh', 24.774), (' Naples', 24.667), (' Baghdad', 24.654)]\n",
      "validating on 333 subject --> object associations\n"
     ]
    },
    {
     "data": {
      "application/vnd.jupyter.widget-view+json": {
       "model_id": "006abff43ea743309e4dc0f82e1188ec",
       "version_major": 2,
       "version_minor": 0
      },
      "text/plain": [
       "  0%|          | 0/333 [00:00<?, ?it/s]"
      ]
     },
     "metadata": {},
     "output_type": "display_data"
    },
    {
     "name": "stdout",
     "output_type": "stream",
     "text": [
      "w = identity >>  0.26126126126126126\n",
      "validating on 333 subject --> object associations\n"
     ]
    },
    {
     "data": {
      "application/vnd.jupyter.widget-view+json": {
       "model_id": "3e356e64108d4b99a334d3b19372c747",
       "version_major": 2,
       "version_minor": 0
      },
      "text/plain": [
       "  0%|          | 0/333 [00:00<?, ?it/s]"
      ]
     },
     "metadata": {},
     "output_type": "display_data"
    },
    {
     "name": "stdout",
     "output_type": "stream",
     "text": [
      "w = jacobian >>  0.33933933933933935\n",
      "\n",
      "18 >> 17.701108932495117 [(' Tucson', 30.675), (' Zurich', 30.54), (' Buenos', 30.396), (' Honolulu', 30.298), (' Bangkok', 29.945)]\n",
      "validating on 333 subject --> object associations\n"
     ]
    },
    {
     "data": {
      "application/vnd.jupyter.widget-view+json": {
       "model_id": "27081c764b174cc5adfb1cc0d646ea0d",
       "version_major": 2,
       "version_minor": 0
      },
      "text/plain": [
       "  0%|          | 0/333 [00:00<?, ?it/s]"
      ]
     },
     "metadata": {},
     "output_type": "display_data"
    },
    {
     "name": "stdout",
     "output_type": "stream",
     "text": [
      "w = identity >>  0.30930930930930933\n",
      "validating on 333 subject --> object associations\n"
     ]
    },
    {
     "data": {
      "application/vnd.jupyter.widget-view+json": {
       "model_id": "75e1958122da4113b954ee8199cbd749",
       "version_major": 2,
       "version_minor": 0
      },
      "text/plain": [
       "  0%|          | 0/333 [00:00<?, ?it/s]"
      ]
     },
     "metadata": {},
     "output_type": "display_data"
    },
    {
     "name": "stdout",
     "output_type": "stream",
     "text": [
      "w = jacobian >>  0.3483483483483483\n",
      "\n",
      "21 >> 18.58281898498535 [(' Bangkok', 36.619), (' Tucson', 35.608), (' Brighton', 35.262), (' Naples', 35.183), (' Bristol', 35.151)]\n",
      "validating on 333 subject --> object associations\n"
     ]
    },
    {
     "data": {
      "application/vnd.jupyter.widget-view+json": {
       "model_id": "c897a7d26f6c410c88f6af98e85ffd8e",
       "version_major": 2,
       "version_minor": 0
      },
      "text/plain": [
       "  0%|          | 0/333 [00:00<?, ?it/s]"
      ]
     },
     "metadata": {},
     "output_type": "display_data"
    },
    {
     "name": "stdout",
     "output_type": "stream",
     "text": [
      "w = identity >>  0.34234234234234234\n",
      "validating on 333 subject --> object associations\n"
     ]
    },
    {
     "data": {
      "application/vnd.jupyter.widget-view+json": {
       "model_id": "811b83edeb304c48ba9f22b64a719262",
       "version_major": 2,
       "version_minor": 0
      },
      "text/plain": [
       "  0%|          | 0/333 [00:00<?, ?it/s]"
      ]
     },
     "metadata": {},
     "output_type": "display_data"
    },
    {
     "name": "stdout",
     "output_type": "stream",
     "text": [
      "w = jacobian >>  0.37237237237237236\n",
      "\n",
      "24 >> 20.998783111572266 [(' Minneapolis', 41.614), (' Honolulu', 41.077), (' Melbourne', 41.026), (' Hawaii', 40.815), (' Bangkok', 40.735)]\n",
      "validating on 333 subject --> object associations\n"
     ]
    },
    {
     "data": {
      "application/vnd.jupyter.widget-view+json": {
       "model_id": "72b37299be944b448bb46b32eda6757e",
       "version_major": 2,
       "version_minor": 0
      },
      "text/plain": [
       "  0%|          | 0/333 [00:00<?, ?it/s]"
      ]
     },
     "metadata": {},
     "output_type": "display_data"
    },
    {
     "name": "stdout",
     "output_type": "stream",
     "text": [
      "w = identity >>  0.42342342342342343\n",
      "validating on 333 subject --> object associations\n"
     ]
    },
    {
     "data": {
      "application/vnd.jupyter.widget-view+json": {
       "model_id": "8a484dd1918b4d01b869829414d6dda6",
       "version_major": 2,
       "version_minor": 0
      },
      "text/plain": [
       "  0%|          | 0/333 [00:00<?, ?it/s]"
      ]
     },
     "metadata": {},
     "output_type": "display_data"
    },
    {
     "name": "stdout",
     "output_type": "stream",
     "text": [
      "w = jacobian >>  0.34534534534534533\n",
      "\n",
      "27 >> 22.443418502807617 [(' Seattle', 44.528), (' Minneapolis', 44.147), (' Bangkok', 44.013), (' Istanbul', 43.441), (' Alexandria', 43.353)]\n",
      "validating on 333 subject --> object associations\n"
     ]
    },
    {
     "data": {
      "application/vnd.jupyter.widget-view+json": {
       "model_id": "de1c978e56a24051b5551228338e8dc1",
       "version_major": 2,
       "version_minor": 0
      },
      "text/plain": [
       "  0%|          | 0/333 [00:00<?, ?it/s]"
      ]
     },
     "metadata": {},
     "output_type": "display_data"
    },
    {
     "name": "stdout",
     "output_type": "stream",
     "text": [
      "w = identity >>  0.4864864864864865\n",
      "validating on 333 subject --> object associations\n"
     ]
    },
    {
     "data": {
      "application/vnd.jupyter.widget-view+json": {
       "model_id": "772e121bf1cd4383ba2d08155b7d6266",
       "version_major": 2,
       "version_minor": 0
      },
      "text/plain": [
       "  0%|          | 0/333 [00:00<?, ?it/s]"
      ]
     },
     "metadata": {},
     "output_type": "display_data"
    },
    {
     "name": "stdout",
     "output_type": "stream",
     "text": [
      "w = jacobian >>  0.35435435435435436\n",
      "\n",
      "30 >> 25.92325782775879 [(' Rochester', 48.423), (' Seattle', 48.212), (' Naples', 47.853), (' Melbourne', 46.699), (' Honolulu', 46.62)]\n",
      "validating on 333 subject --> object associations\n"
     ]
    },
    {
     "data": {
      "application/vnd.jupyter.widget-view+json": {
       "model_id": "8161b4acd3934ff697d2d2ca1f349774",
       "version_major": 2,
       "version_minor": 0
      },
      "text/plain": [
       "  0%|          | 0/333 [00:00<?, ?it/s]"
      ]
     },
     "metadata": {},
     "output_type": "display_data"
    },
    {
     "name": "stdout",
     "output_type": "stream",
     "text": [
      "w = identity >>  0.5435435435435435\n",
      "validating on 333 subject --> object associations\n"
     ]
    },
    {
     "data": {
      "application/vnd.jupyter.widget-view+json": {
       "model_id": "4a15a7ea949249d5a16ce49a0b35eb7e",
       "version_major": 2,
       "version_minor": 0
      },
      "text/plain": [
       "  0%|          | 0/333 [00:00<?, ?it/s]"
      ]
     },
     "metadata": {},
     "output_type": "display_data"
    },
    {
     "name": "stdout",
     "output_type": "stream",
     "text": [
      "w = jacobian >>  0.3213213213213213\n",
      "\n",
      "33 >> 27.8075008392334 [(' Bangkok', 49.681), (' Seattle', 49.222), (' Minneapolis', 49.042), (' Melbourne', 48.657), (' Ottawa', 48.657)]\n",
      "validating on 333 subject --> object associations\n"
     ]
    },
    {
     "data": {
      "application/vnd.jupyter.widget-view+json": {
       "model_id": "1295290285a849e4b9827bcf56990a9f",
       "version_major": 2,
       "version_minor": 0
      },
      "text/plain": [
       "  0%|          | 0/333 [00:00<?, ?it/s]"
      ]
     },
     "metadata": {},
     "output_type": "display_data"
    },
    {
     "name": "stdout",
     "output_type": "stream",
     "text": [
      "w = identity >>  0.5945945945945946\n",
      "validating on 333 subject --> object associations\n"
     ]
    },
    {
     "data": {
      "application/vnd.jupyter.widget-view+json": {
       "model_id": "18a6fe1072d9453b861f1d1058788577",
       "version_major": 2,
       "version_minor": 0
      },
      "text/plain": [
       "  0%|          | 0/333 [00:00<?, ?it/s]"
      ]
     },
     "metadata": {},
     "output_type": "display_data"
    },
    {
     "name": "stdout",
     "output_type": "stream",
     "text": [
      "w = jacobian >>  0.3333333333333333\n",
      "\n",
      "36 >> 30.846065521240234 [(' Minneapolis', 53.043), (' Melbourne', 52.956), (' Seattle', 52.645), (' Washington', 50.949), (' California', 50.909)]\n",
      "validating on 333 subject --> object associations\n"
     ]
    },
    {
     "data": {
      "application/vnd.jupyter.widget-view+json": {
       "model_id": "3a4278e31cf54e8183b3b7b6042f9c24",
       "version_major": 2,
       "version_minor": 0
      },
      "text/plain": [
       "  0%|          | 0/333 [00:00<?, ?it/s]"
      ]
     },
     "metadata": {},
     "output_type": "display_data"
    },
    {
     "name": "stdout",
     "output_type": "stream",
     "text": [
      "w = identity >>  0.6216216216216216\n",
      "validating on 333 subject --> object associations\n"
     ]
    },
    {
     "data": {
      "application/vnd.jupyter.widget-view+json": {
       "model_id": "af1f09caa7044ed69b38331c4d51de5a",
       "version_major": 2,
       "version_minor": 0
      },
      "text/plain": [
       "  0%|          | 0/333 [00:00<?, ?it/s]"
      ]
     },
     "metadata": {},
     "output_type": "display_data"
    },
    {
     "name": "stdout",
     "output_type": "stream",
     "text": [
      "w = jacobian >>  0.2732732732732733\n",
      "\n",
      "39 >> 33.89356994628906 [(' Seattle', 54.44), (' Rochester', 54.377), (' Minneapolis', 54.081), (' Melbourne', 53.791), (' Poland', 53.31)]\n",
      "validating on 333 subject --> object associations\n"
     ]
    },
    {
     "data": {
      "application/vnd.jupyter.widget-view+json": {
       "model_id": "47affa6eff944bfaba8439f51701b495",
       "version_major": 2,
       "version_minor": 0
      },
      "text/plain": [
       "  0%|          | 0/333 [00:00<?, ?it/s]"
      ]
     },
     "metadata": {},
     "output_type": "display_data"
    },
    {
     "name": "stdout",
     "output_type": "stream",
     "text": [
      "w = identity >>  0.6816816816816816\n",
      "validating on 333 subject --> object associations\n"
     ]
    },
    {
     "data": {
      "application/vnd.jupyter.widget-view+json": {
       "model_id": "3b4e12b26e1a4cd4b4f7c582f5ab1f74",
       "version_major": 2,
       "version_minor": 0
      },
      "text/plain": [
       "  0%|          | 0/333 [00:00<?, ?it/s]"
      ]
     },
     "metadata": {},
     "output_type": "display_data"
    },
    {
     "name": "stdout",
     "output_type": "stream",
     "text": [
      "w = jacobian >>  0.25225225225225223\n",
      "\n",
      "42 >> 36.52998733520508 [(' Seattle', 57.687), (' Minneapolis', 56.352), (' Rochester', 55.761), (' Washington', 55.689), (' Poland', 55.142)]\n",
      "validating on 333 subject --> object associations\n"
     ]
    },
    {
     "data": {
      "application/vnd.jupyter.widget-view+json": {
       "model_id": "5d8dcd4a3fce4ceeb57281cecc7923b8",
       "version_major": 2,
       "version_minor": 0
      },
      "text/plain": [
       "  0%|          | 0/333 [00:00<?, ?it/s]"
      ]
     },
     "metadata": {},
     "output_type": "display_data"
    },
    {
     "name": "stdout",
     "output_type": "stream",
     "text": [
      "w = identity >>  0.6846846846846847\n",
      "validating on 333 subject --> object associations\n"
     ]
    },
    {
     "data": {
      "application/vnd.jupyter.widget-view+json": {
       "model_id": "54538c84660d448db55415eed34bf00f",
       "version_major": 2,
       "version_minor": 0
      },
      "text/plain": [
       "  0%|          | 0/333 [00:00<?, ?it/s]"
      ]
     },
     "metadata": {},
     "output_type": "display_data"
    },
    {
     "name": "stdout",
     "output_type": "stream",
     "text": [
      "w = jacobian >>  0.23723723723723725\n",
      "\n",
      "45 >> 39.27041244506836 [(' Seattle', 59.176), (' Washington', 58.023), (' Melbourne', 57.668), (' Birmingham', 57.381), (' Athens', 56.974)]\n",
      "validating on 333 subject --> object associations\n"
     ]
    },
    {
     "data": {
      "application/vnd.jupyter.widget-view+json": {
       "model_id": "0649fbc490d14428a4ac4a5c0ca1371a",
       "version_major": 2,
       "version_minor": 0
      },
      "text/plain": [
       "  0%|          | 0/333 [00:00<?, ?it/s]"
      ]
     },
     "metadata": {},
     "output_type": "display_data"
    },
    {
     "name": "stdout",
     "output_type": "stream",
     "text": [
      "w = identity >>  0.7027027027027027\n",
      "validating on 333 subject --> object associations\n"
     ]
    },
    {
     "data": {
      "application/vnd.jupyter.widget-view+json": {
       "model_id": "e13c55f71960435db33a5b930e0b2644",
       "version_major": 2,
       "version_minor": 0
      },
      "text/plain": [
       "  0%|          | 0/333 [00:00<?, ?it/s]"
      ]
     },
     "metadata": {},
     "output_type": "display_data"
    },
    {
     "name": "stdout",
     "output_type": "stream",
     "text": [
      "w = jacobian >>  0.2852852852852853\n",
      "\n",
      "48 >> 41.651283264160156 [(' Seattle', 59.809), (' Minneapolis', 59.252), (' Birmingham', 59.227), (' Melbourne', 59.192), (' Lebanon', 59.164)]\n",
      "validating on 333 subject --> object associations\n"
     ]
    },
    {
     "data": {
      "application/vnd.jupyter.widget-view+json": {
       "model_id": "9c69dcb64bb54431bf1c4a871db5c5e5",
       "version_major": 2,
       "version_minor": 0
      },
      "text/plain": [
       "  0%|          | 0/333 [00:00<?, ?it/s]"
      ]
     },
     "metadata": {},
     "output_type": "display_data"
    },
    {
     "name": "stdout",
     "output_type": "stream",
     "text": [
      "w = identity >>  0.7207207207207207\n",
      "validating on 333 subject --> object associations\n"
     ]
    },
    {
     "data": {
      "application/vnd.jupyter.widget-view+json": {
       "model_id": "7eedb9e22ac0483b9a74ac5e009afb5a",
       "version_major": 2,
       "version_minor": 0
      },
      "text/plain": [
       "  0%|          | 0/333 [00:00<?, ?it/s]"
      ]
     },
     "metadata": {},
     "output_type": "display_data"
    },
    {
     "name": "stdout",
     "output_type": "stream",
     "text": [
      "w = jacobian >>  0.29429429429429427\n",
      "\n",
      "51 >> 43.24386215209961 [(' Seattle', 62.582), (' Washington', 61.971), (' Birmingham', 61.372), (' Melbourne', 61.309), (' Denver', 60.96)]\n",
      "validating on 333 subject --> object associations\n"
     ]
    },
    {
     "data": {
      "application/vnd.jupyter.widget-view+json": {
       "model_id": "828a56765b7142ba8797bd3a9a19033e",
       "version_major": 2,
       "version_minor": 0
      },
      "text/plain": [
       "  0%|          | 0/333 [00:00<?, ?it/s]"
      ]
     },
     "metadata": {},
     "output_type": "display_data"
    },
    {
     "name": "stdout",
     "output_type": "stream",
     "text": [
      "w = identity >>  0.7387387387387387\n",
      "validating on 333 subject --> object associations\n"
     ]
    },
    {
     "data": {
      "application/vnd.jupyter.widget-view+json": {
       "model_id": "d5fad67534c14db0a07c868fcef1761c",
       "version_major": 2,
       "version_minor": 0
      },
      "text/plain": [
       "  0%|          | 0/333 [00:00<?, ?it/s]"
      ]
     },
     "metadata": {},
     "output_type": "display_data"
    },
    {
     "name": "stdout",
     "output_type": "stream",
     "text": [
      "w = jacobian >>  0.2732732732732733\n",
      "\n",
      "54 >> 44.89540100097656 [(' Washington', 63.919), (' Birmingham', 63.576), (' Seattle', 63.475), (' Melbourne', 63.216), (' Berlin', 63.174)]\n",
      "validating on 333 subject --> object associations\n"
     ]
    },
    {
     "data": {
      "application/vnd.jupyter.widget-view+json": {
       "model_id": "37e2774f4cd64ab79b81d28e2e1e5af9",
       "version_major": 2,
       "version_minor": 0
      },
      "text/plain": [
       "  0%|          | 0/333 [00:00<?, ?it/s]"
      ]
     },
     "metadata": {},
     "output_type": "display_data"
    },
    {
     "name": "stdout",
     "output_type": "stream",
     "text": [
      "w = identity >>  0.7657657657657657\n",
      "validating on 333 subject --> object associations\n"
     ]
    },
    {
     "data": {
      "application/vnd.jupyter.widget-view+json": {
       "model_id": "8a7ec342573c48089515994a42a9ee6f",
       "version_major": 2,
       "version_minor": 0
      },
      "text/plain": [
       "  0%|          | 0/333 [00:00<?, ?it/s]"
      ]
     },
     "metadata": {},
     "output_type": "display_data"
    },
    {
     "name": "stdout",
     "output_type": "stream",
     "text": [
      "w = jacobian >>  0.4924924924924925\n",
      "\n",
      "57 >> 46.3616828918457 [(' Seattle', 66.374), (' Birmingham', 66.006), (' Berlin', 65.994), (' Washington', 65.951), (' Melbourne', 65.352)]\n",
      "validating on 333 subject --> object associations\n"
     ]
    },
    {
     "data": {
      "application/vnd.jupyter.widget-view+json": {
       "model_id": "39f702eddbb0471086f499bd3d37c6d4",
       "version_major": 2,
       "version_minor": 0
      },
      "text/plain": [
       "  0%|          | 0/333 [00:00<?, ?it/s]"
      ]
     },
     "metadata": {},
     "output_type": "display_data"
    },
    {
     "name": "stdout",
     "output_type": "stream",
     "text": [
      "w = identity >>  0.7747747747747747\n",
      "validating on 333 subject --> object associations\n"
     ]
    },
    {
     "data": {
      "application/vnd.jupyter.widget-view+json": {
       "model_id": "1981e046e2e04e0384262b6c1cad6b24",
       "version_major": 2,
       "version_minor": 0
      },
      "text/plain": [
       "  0%|          | 0/333 [00:00<?, ?it/s]"
      ]
     },
     "metadata": {},
     "output_type": "display_data"
    },
    {
     "name": "stdout",
     "output_type": "stream",
     "text": [
      "w = jacobian >>  0.5255255255255256\n",
      "\n",
      "60 >> 47.25048065185547 [(' Berlin', 68.624), (' Washington', 68.332), (' Seattle', 68.137), (' Birmingham', 68.069), (' London', 67.821)]\n",
      "validating on 333 subject --> object associations\n"
     ]
    },
    {
     "data": {
      "application/vnd.jupyter.widget-view+json": {
       "model_id": "acb1044b36dc4ef086f68a0b63976184",
       "version_major": 2,
       "version_minor": 0
      },
      "text/plain": [
       "  0%|          | 0/333 [00:00<?, ?it/s]"
      ]
     },
     "metadata": {},
     "output_type": "display_data"
    },
    {
     "name": "stdout",
     "output_type": "stream",
     "text": [
      "w = identity >>  0.7807807807807807\n",
      "validating on 333 subject --> object associations\n"
     ]
    },
    {
     "data": {
      "application/vnd.jupyter.widget-view+json": {
       "model_id": "271b54bcba90414dbe82fd31de3395c9",
       "version_major": 2,
       "version_minor": 0
      },
      "text/plain": [
       "  0%|          | 0/333 [00:00<?, ?it/s]"
      ]
     },
     "metadata": {},
     "output_type": "display_data"
    },
    {
     "name": "stdout",
     "output_type": "stream",
     "text": [
      "w = jacobian >>  0.5555555555555556\n",
      "\n",
      "63 >> 47.37455749511719 [(' Berlin', 71.913), (' Washington', 70.986), (' Seattle', 70.938), (' London', 70.821), (' Birmingham', 70.52)]\n",
      "validating on 333 subject --> object associations\n"
     ]
    },
    {
     "data": {
      "application/vnd.jupyter.widget-view+json": {
       "model_id": "32185e5b14034432984bcf4a59fee94a",
       "version_major": 2,
       "version_minor": 0
      },
      "text/plain": [
       "  0%|          | 0/333 [00:00<?, ?it/s]"
      ]
     },
     "metadata": {},
     "output_type": "display_data"
    },
    {
     "name": "stdout",
     "output_type": "stream",
     "text": [
      "w = identity >>  0.7897897897897898\n",
      "validating on 333 subject --> object associations\n"
     ]
    },
    {
     "data": {
      "application/vnd.jupyter.widget-view+json": {
       "model_id": "ce1c3cf0570b4057b99ff871fd733d9c",
       "version_major": 2,
       "version_minor": 0
      },
      "text/plain": [
       "  0%|          | 0/333 [00:00<?, ?it/s]"
      ]
     },
     "metadata": {},
     "output_type": "display_data"
    },
    {
     "name": "stdout",
     "output_type": "stream",
     "text": [
      "w = jacobian >>  0.5765765765765766\n",
      "\n",
      "66 >> 47.737308502197266 [(' Berlin', 74.645), (' London', 73.992), (' Amsterdam', 72.798), (' Seattle', 72.663), (' Washington', 72.614)]\n",
      "validating on 333 subject --> object associations\n"
     ]
    },
    {
     "data": {
      "application/vnd.jupyter.widget-view+json": {
       "model_id": "5ae2d1ccebe54c22a28d4bcdcff4f236",
       "version_major": 2,
       "version_minor": 0
      },
      "text/plain": [
       "  0%|          | 0/333 [00:00<?, ?it/s]"
      ]
     },
     "metadata": {},
     "output_type": "display_data"
    },
    {
     "name": "stdout",
     "output_type": "stream",
     "text": [
      "w = identity >>  0.8048048048048048\n",
      "validating on 333 subject --> object associations\n"
     ]
    },
    {
     "data": {
      "application/vnd.jupyter.widget-view+json": {
       "model_id": "243d21f1515f4778b85e1d3fb12b93a0",
       "version_major": 2,
       "version_minor": 0
      },
      "text/plain": [
       "  0%|          | 0/333 [00:00<?, ?it/s]"
      ]
     },
     "metadata": {},
     "output_type": "display_data"
    },
    {
     "name": "stdout",
     "output_type": "stream",
     "text": [
      "w = jacobian >>  0.6036036036036037\n",
      "\n",
      "69 >> 48.034034729003906 [(' London', 77.464), (' Berlin', 77.45), (' Amsterdam', 75.424), (' Seattle', 75.102), (' Birmingham', 74.896)]\n",
      "validating on 333 subject --> object associations\n"
     ]
    },
    {
     "data": {
      "application/vnd.jupyter.widget-view+json": {
       "model_id": "262ef6dbbd0445398d21e38cae783256",
       "version_major": 2,
       "version_minor": 0
      },
      "text/plain": [
       "  0%|          | 0/333 [00:00<?, ?it/s]"
      ]
     },
     "metadata": {},
     "output_type": "display_data"
    },
    {
     "name": "stdout",
     "output_type": "stream",
     "text": [
      "w = identity >>  0.8108108108108109\n",
      "validating on 333 subject --> object associations\n"
     ]
    },
    {
     "data": {
      "application/vnd.jupyter.widget-view+json": {
       "model_id": "f92955178ae242f1a083bc9b5c197bcc",
       "version_major": 2,
       "version_minor": 0
      },
      "text/plain": [
       "  0%|          | 0/333 [00:00<?, ?it/s]"
      ]
     },
     "metadata": {},
     "output_type": "display_data"
    },
    {
     "name": "stdout",
     "output_type": "stream",
     "text": [
      "w = jacobian >>  0.6546546546546547\n",
      "\n",
      "72 >> 48.11424255371094 [(' London', 80.458), (' Berlin', 79.999), (' Amsterdam', 77.798), (' Dublin', 77.222), (' Boston', 76.965)]\n",
      "validating on 333 subject --> object associations\n"
     ]
    },
    {
     "data": {
      "application/vnd.jupyter.widget-view+json": {
       "model_id": "6999b998a2aa4d1faf4775bec6d3a9c1",
       "version_major": 2,
       "version_minor": 0
      },
      "text/plain": [
       "  0%|          | 0/333 [00:00<?, ?it/s]"
      ]
     },
     "metadata": {},
     "output_type": "display_data"
    },
    {
     "name": "stdout",
     "output_type": "stream",
     "text": [
      "w = identity >>  0.8168168168168168\n",
      "validating on 333 subject --> object associations\n"
     ]
    },
    {
     "data": {
      "application/vnd.jupyter.widget-view+json": {
       "model_id": "f45c1fc261594cb29bb4f6a0e9fec0f8",
       "version_major": 2,
       "version_minor": 0
      },
      "text/plain": [
       "  0%|          | 0/333 [00:00<?, ?it/s]"
      ]
     },
     "metadata": {},
     "output_type": "display_data"
    },
    {
     "name": "stdout",
     "output_type": "stream",
     "text": [
      "w = jacobian >>  0.6906906906906907\n",
      "\n",
      "75 >> 47.85249710083008 [(' London', 83.56), (' Berlin', 82.544), (' Amsterdam', 79.992), (' Dublin', 79.467), (' Chicago', 79.21)]\n",
      "validating on 333 subject --> object associations\n"
     ]
    },
    {
     "data": {
      "application/vnd.jupyter.widget-view+json": {
       "model_id": "02ab447cd3784d09989f8bbbc209c292",
       "version_major": 2,
       "version_minor": 0
      },
      "text/plain": [
       "  0%|          | 0/333 [00:00<?, ?it/s]"
      ]
     },
     "metadata": {},
     "output_type": "display_data"
    },
    {
     "name": "stdout",
     "output_type": "stream",
     "text": [
      "w = identity >>  0.8078078078078078\n",
      "validating on 333 subject --> object associations\n"
     ]
    },
    {
     "data": {
      "application/vnd.jupyter.widget-view+json": {
       "model_id": "611669645d784aada2c8af0db3af6acf",
       "version_major": 2,
       "version_minor": 0
      },
      "text/plain": [
       "  0%|          | 0/333 [00:00<?, ?it/s]"
      ]
     },
     "metadata": {},
     "output_type": "display_data"
    },
    {
     "name": "stdout",
     "output_type": "stream",
     "text": [
      "w = jacobian >>  0.6756756756756757\n",
      "\n",
      "78 >> 48.10235595703125 [(' London', 86.263), (' Berlin', 84.754), (' Amsterdam', 82.23), (' Paris', 81.691), (' Chicago', 81.541)]\n",
      "validating on 333 subject --> object associations\n"
     ]
    },
    {
     "data": {
      "application/vnd.jupyter.widget-view+json": {
       "model_id": "62eb1abca8ef424dab138942234df3b8",
       "version_major": 2,
       "version_minor": 0
      },
      "text/plain": [
       "  0%|          | 0/333 [00:00<?, ?it/s]"
      ]
     },
     "metadata": {},
     "output_type": "display_data"
    },
    {
     "name": "stdout",
     "output_type": "stream",
     "text": [
      "w = identity >>  0.8048048048048048\n",
      "validating on 333 subject --> object associations\n"
     ]
    },
    {
     "data": {
      "application/vnd.jupyter.widget-view+json": {
       "model_id": "c45d2bcd93a446febe2837f28aa7f004",
       "version_major": 2,
       "version_minor": 0
      },
      "text/plain": [
       "  0%|          | 0/333 [00:00<?, ?it/s]"
      ]
     },
     "metadata": {},
     "output_type": "display_data"
    },
    {
     "name": "stdout",
     "output_type": "stream",
     "text": [
      "w = jacobian >>  0.6726726726726727\n",
      "\n",
      "81 >> 48.18254852294922 [(' London', 88.478), (' Berlin', 86.789), (' Amsterdam', 83.938), (' Paris', 83.641), (' Chicago', 83.539)]\n",
      "validating on 333 subject --> object associations\n"
     ]
    },
    {
     "data": {
      "application/vnd.jupyter.widget-view+json": {
       "model_id": "09517886b2a046618f4c9b2527e598bb",
       "version_major": 2,
       "version_minor": 0
      },
      "text/plain": [
       "  0%|          | 0/333 [00:00<?, ?it/s]"
      ]
     },
     "metadata": {},
     "output_type": "display_data"
    },
    {
     "name": "stdout",
     "output_type": "stream",
     "text": [
      "w = identity >>  0.7927927927927928\n",
      "validating on 333 subject --> object associations\n"
     ]
    },
    {
     "data": {
      "application/vnd.jupyter.widget-view+json": {
       "model_id": "dd69eb52de204c839b86bb9480c181ba",
       "version_major": 2,
       "version_minor": 0
      },
      "text/plain": [
       "  0%|          | 0/333 [00:00<?, ?it/s]"
      ]
     },
     "metadata": {},
     "output_type": "display_data"
    },
    {
     "name": "stdout",
     "output_type": "stream",
     "text": [
      "w = jacobian >>  0.6696696696696697\n",
      "\n",
      "saving results\n",
      "############################################################################################################\n",
      "relation_id >> P27\n",
      "------------------------------------------------------------------------------------------------------\n",
      "unique objects:  97 [' Ecuador', ' Argentina', ' Lithuania', ' Belarus', ' Nepal']\n"
     ]
    },
    {
     "data": {
      "application/vnd.jupyter.widget-view+json": {
       "model_id": "046f1b5d088a42f09b58d8f293e7731c",
       "version_major": 2,
       "version_minor": 0
      },
      "text/plain": [
       "  0%|          | 0/27 [00:00<?, ?it/s]"
      ]
     },
     "metadata": {},
     "output_type": "display_data"
    },
    {
     "name": "stdout",
     "output_type": "stream",
     "text": [
      "3 >> 14.144137382507324 [('��', 22.491), ('��', 19.949), ('��', 19.925), (' gmaxwell', 18.758), ('��', 18.55)]\n",
      "P27 >> number of requests in counterfact = 958\n",
      "Checking correct prediction with normal calculation ...\n"
     ]
    },
    {
     "data": {
      "application/vnd.jupyter.widget-view+json": {
       "model_id": "d64f7dab5c504eb0bfd9b7fe1405fd69",
       "version_major": 2,
       "version_minor": 0
      },
      "text/plain": [
       "  0%|          | 0/958 [00:00<?, ?it/s]"
      ]
     },
     "metadata": {},
     "output_type": "display_data"
    },
    {
     "name": "stdout",
     "output_type": "stream",
     "text": [
      "Number of correctly predicted requests = 308\n",
      "validating on 308 subject --> object associations\n"
     ]
    },
    {
     "data": {
      "application/vnd.jupyter.widget-view+json": {
       "model_id": "d28e888d64f947a29a0a61175fe1f447",
       "version_major": 2,
       "version_minor": 0
      },
      "text/plain": [
       "  0%|          | 0/308 [00:00<?, ?it/s]"
      ]
     },
     "metadata": {},
     "output_type": "display_data"
    },
    {
     "name": "stdout",
     "output_type": "stream",
     "text": [
      "w = identity >>  0.29545454545454547\n",
      "validating on 308 subject --> object associations\n"
     ]
    },
    {
     "data": {
      "application/vnd.jupyter.widget-view+json": {
       "model_id": "0bee2f2e2125409fa0d38fecbb672542",
       "version_major": 2,
       "version_minor": 0
      },
      "text/plain": [
       "  0%|          | 0/308 [00:00<?, ?it/s]"
      ]
     },
     "metadata": {},
     "output_type": "display_data"
    },
    {
     "name": "stdout",
     "output_type": "stream",
     "text": [
      "w = jacobian >>  0.8474025974025974\n",
      "\n",
      "6 >> 14.936623573303223 [('��', 22.382), ('��', 19.178), ('��', 18.666), ('��', 18.39), (' gmaxwell', 17.614)]\n",
      "validating on 308 subject --> object associations\n"
     ]
    },
    {
     "data": {
      "application/vnd.jupyter.widget-view+json": {
       "model_id": "fdac97590b224f69990e93d49c58a2b1",
       "version_major": 2,
       "version_minor": 0
      },
      "text/plain": [
       "  0%|          | 0/308 [00:00<?, ?it/s]"
      ]
     },
     "metadata": {},
     "output_type": "display_data"
    },
    {
     "name": "stdout",
     "output_type": "stream",
     "text": [
      "w = identity >>  0.37337662337662336\n",
      "validating on 308 subject --> object associations\n"
     ]
    },
    {
     "data": {
      "application/vnd.jupyter.widget-view+json": {
       "model_id": "cae25c9b4cae4ddd93bd2742f882257f",
       "version_major": 2,
       "version_minor": 0
      },
      "text/plain": [
       "  0%|          | 0/308 [00:00<?, ?it/s]"
      ]
     },
     "metadata": {},
     "output_type": "display_data"
    },
    {
     "name": "stdout",
     "output_type": "stream",
     "text": [
      "w = jacobian >>  0.922077922077922\n",
      "\n",
      "9 >> 16.19515037536621 [('��', 20.734), (' Iranians', 17.883), (' Uruguay', 17.449), ('��', 17.405), (' Israelis', 17.111)]\n",
      "validating on 308 subject --> object associations\n"
     ]
    },
    {
     "data": {
      "application/vnd.jupyter.widget-view+json": {
       "model_id": "9b0515f618d1408b8493b21c0373271c",
       "version_major": 2,
       "version_minor": 0
      },
      "text/plain": [
       "  0%|          | 0/308 [00:00<?, ?it/s]"
      ]
     },
     "metadata": {},
     "output_type": "display_data"
    },
    {
     "name": "stdout",
     "output_type": "stream",
     "text": [
      "w = identity >>  0.4707792207792208\n",
      "validating on 308 subject --> object associations\n"
     ]
    },
    {
     "data": {
      "application/vnd.jupyter.widget-view+json": {
       "model_id": "fffc12abd4414196af6c01238530cbee",
       "version_major": 2,
       "version_minor": 0
      },
      "text/plain": [
       "  0%|          | 0/308 [00:00<?, ?it/s]"
      ]
     },
     "metadata": {},
     "output_type": "display_data"
    },
    {
     "name": "stdout",
     "output_type": "stream",
     "text": [
      "w = jacobian >>  0.9642857142857143\n",
      "\n",
      "12 >> 16.44436264038086 [(' Uruguay', 20.294), (' Iranians', 20.118), (' Israelis', 19.566), ('��', 18.878), (' Nicaragua', 18.732)]\n",
      "validating on 308 subject --> object associations\n"
     ]
    },
    {
     "data": {
      "application/vnd.jupyter.widget-view+json": {
       "model_id": "1e954a62d1644c0b9705bb9fd62e7093",
       "version_major": 2,
       "version_minor": 0
      },
      "text/plain": [
       "  0%|          | 0/308 [00:00<?, ?it/s]"
      ]
     },
     "metadata": {},
     "output_type": "display_data"
    },
    {
     "name": "stdout",
     "output_type": "stream",
     "text": [
      "w = identity >>  0.5357142857142857\n",
      "validating on 308 subject --> object associations\n"
     ]
    },
    {
     "data": {
      "application/vnd.jupyter.widget-view+json": {
       "model_id": "524755c64070402a8e1a7e4ce803d9a6",
       "version_major": 2,
       "version_minor": 0
      },
      "text/plain": [
       "  0%|          | 0/308 [00:00<?, ?it/s]"
      ]
     },
     "metadata": {},
     "output_type": "display_data"
    },
    {
     "name": "stdout",
     "output_type": "stream",
     "text": [
      "w = jacobian >>  0.9772727272727273\n",
      "\n",
      "15 >> 16.698408126831055 [(' Uruguay', 25.896), (' Portugal', 25.425), (' Nicaragua', 25.191), (' Newfoundland', 24.128), (' Paragu', 23.504)]\n",
      "validating on 308 subject --> object associations\n"
     ]
    },
    {
     "data": {
      "application/vnd.jupyter.widget-view+json": {
       "model_id": "d11f47a6e0fc4b7a91e211525b82b0ea",
       "version_major": 2,
       "version_minor": 0
      },
      "text/plain": [
       "  0%|          | 0/308 [00:00<?, ?it/s]"
      ]
     },
     "metadata": {},
     "output_type": "display_data"
    },
    {
     "name": "stdout",
     "output_type": "stream",
     "text": [
      "w = identity >>  0.6038961038961039\n",
      "validating on 308 subject --> object associations\n"
     ]
    },
    {
     "data": {
      "application/vnd.jupyter.widget-view+json": {
       "model_id": "89f146594c7c418bb0b32c3e8a5628dc",
       "version_major": 2,
       "version_minor": 0
      },
      "text/plain": [
       "  0%|          | 0/308 [00:00<?, ?it/s]"
      ]
     },
     "metadata": {},
     "output_type": "display_data"
    },
    {
     "name": "stdout",
     "output_type": "stream",
     "text": [
      "w = jacobian >>  0.9805194805194806\n",
      "\n",
      "18 >> 17.346609115600586 [(' Portugal', 30.608), (' Uruguay', 30.489), (' Kuwait', 30.16), (' Algeria', 30.138), (' Tunisia', 30.035)]\n",
      "validating on 308 subject --> object associations\n"
     ]
    },
    {
     "data": {
      "application/vnd.jupyter.widget-view+json": {
       "model_id": "6985bc3ace12410693a459ad38165162",
       "version_major": 2,
       "version_minor": 0
      },
      "text/plain": [
       "  0%|          | 0/308 [00:00<?, ?it/s]"
      ]
     },
     "metadata": {},
     "output_type": "display_data"
    },
    {
     "name": "stdout",
     "output_type": "stream",
     "text": [
      "w = identity >>  0.672077922077922\n",
      "validating on 308 subject --> object associations\n"
     ]
    },
    {
     "data": {
      "application/vnd.jupyter.widget-view+json": {
       "model_id": "b0ef474924cc42838d530df4a4279003",
       "version_major": 2,
       "version_minor": 0
      },
      "text/plain": [
       "  0%|          | 0/308 [00:00<?, ?it/s]"
      ]
     },
     "metadata": {},
     "output_type": "display_data"
    },
    {
     "name": "stdout",
     "output_type": "stream",
     "text": [
      "w = jacobian >>  0.9805194805194806\n",
      "\n",
      "21 >> 18.445966720581055 [(' Yemen', 37.631), (' Honduras', 37.001), (' Portugal', 36.156), (' Uruguay', 36.142), (' Nicaragua', 35.763)]\n",
      "validating on 308 subject --> object associations\n"
     ]
    },
    {
     "data": {
      "application/vnd.jupyter.widget-view+json": {
       "model_id": "496ef43c765a48b9ba3206e1f5196824",
       "version_major": 2,
       "version_minor": 0
      },
      "text/plain": [
       "  0%|          | 0/308 [00:00<?, ?it/s]"
      ]
     },
     "metadata": {},
     "output_type": "display_data"
    },
    {
     "name": "stdout",
     "output_type": "stream",
     "text": [
      "w = identity >>  0.7175324675324676\n",
      "validating on 308 subject --> object associations\n"
     ]
    },
    {
     "data": {
      "application/vnd.jupyter.widget-view+json": {
       "model_id": "1b7304c1f687495f95836d399a309c3c",
       "version_major": 2,
       "version_minor": 0
      },
      "text/plain": [
       "  0%|          | 0/308 [00:00<?, ?it/s]"
      ]
     },
     "metadata": {},
     "output_type": "display_data"
    },
    {
     "name": "stdout",
     "output_type": "stream",
     "text": [
      "w = jacobian >>  0.9805194805194806\n",
      "\n",
      "24 >> 19.855648040771484 [(' Portugal', 42.521), (' Guatemala', 41.32), (' Malta', 41.123), (' Algeria', 40.948), (' Cambodia', 40.783)]\n",
      "validating on 308 subject --> object associations\n"
     ]
    },
    {
     "data": {
      "application/vnd.jupyter.widget-view+json": {
       "model_id": "5aa284d4437a44bfa4754c0289571a5a",
       "version_major": 2,
       "version_minor": 0
      },
      "text/plain": [
       "  0%|          | 0/308 [00:00<?, ?it/s]"
      ]
     },
     "metadata": {},
     "output_type": "display_data"
    },
    {
     "name": "stdout",
     "output_type": "stream",
     "text": [
      "w = identity >>  0.788961038961039\n",
      "validating on 308 subject --> object associations\n"
     ]
    },
    {
     "data": {
      "application/vnd.jupyter.widget-view+json": {
       "model_id": "3039bc64480e477d87307a8ff186391e",
       "version_major": 2,
       "version_minor": 0
      },
      "text/plain": [
       "  0%|          | 0/308 [00:00<?, ?it/s]"
      ]
     },
     "metadata": {},
     "output_type": "display_data"
    },
    {
     "name": "stdout",
     "output_type": "stream",
     "text": [
      "w = jacobian >>  0.9805194805194806\n",
      "\n",
      "27 >> 22.11928939819336 [(' Iceland', 46.347), (' Portugal', 45.777), (' Nigeria', 44.67), (' Serbia', 44.658), (' Algeria', 44.63)]\n",
      "validating on 308 subject --> object associations\n"
     ]
    },
    {
     "data": {
      "application/vnd.jupyter.widget-view+json": {
       "model_id": "6f6f6799743a4eebaa1fb1a6c6328b6e",
       "version_major": 2,
       "version_minor": 0
      },
      "text/plain": [
       "  0%|          | 0/308 [00:00<?, ?it/s]"
      ]
     },
     "metadata": {},
     "output_type": "display_data"
    },
    {
     "name": "stdout",
     "output_type": "stream",
     "text": [
      "w = identity >>  0.827922077922078\n",
      "validating on 308 subject --> object associations\n"
     ]
    },
    {
     "data": {
      "application/vnd.jupyter.widget-view+json": {
       "model_id": "686dabe98c1d460fb06bd4910010369f",
       "version_major": 2,
       "version_minor": 0
      },
      "text/plain": [
       "  0%|          | 0/308 [00:00<?, ?it/s]"
      ]
     },
     "metadata": {},
     "output_type": "display_data"
    },
    {
     "name": "stdout",
     "output_type": "stream",
     "text": [
      "w = jacobian >>  0.9805194805194806\n",
      "\n",
      "30 >> 25.20051383972168 [(' Portugal', 47.985), (' Iceland', 47.621), (' Lithuania', 47.123), (' Nigeria', 47.121), (' Kazakhstan', 47.004)]\n",
      "validating on 308 subject --> object associations\n"
     ]
    },
    {
     "data": {
      "application/vnd.jupyter.widget-view+json": {
       "model_id": "bf0ad9a8ff40438ab1423b409aaff9ec",
       "version_major": 2,
       "version_minor": 0
      },
      "text/plain": [
       "  0%|          | 0/308 [00:00<?, ?it/s]"
      ]
     },
     "metadata": {},
     "output_type": "display_data"
    },
    {
     "name": "stdout",
     "output_type": "stream",
     "text": [
      "w = identity >>  0.8863636363636364\n",
      "validating on 308 subject --> object associations\n"
     ]
    },
    {
     "data": {
      "application/vnd.jupyter.widget-view+json": {
       "model_id": "61daeda657104f5191019b2ccacf40be",
       "version_major": 2,
       "version_minor": 0
      },
      "text/plain": [
       "  0%|          | 0/308 [00:00<?, ?it/s]"
      ]
     },
     "metadata": {},
     "output_type": "display_data"
    },
    {
     "name": "stdout",
     "output_type": "stream",
     "text": [
      "w = jacobian >>  0.9805194805194806\n",
      "\n",
      "33 >> 27.09804344177246 [(' Portugal', 52.747), (' Iceland', 51.063), (' Nigeria', 50.762), (' Finland', 50.309), (' Lithuania', 50.213)]\n",
      "validating on 308 subject --> object associations\n"
     ]
    },
    {
     "data": {
      "application/vnd.jupyter.widget-view+json": {
       "model_id": "d3c48df05a6f411d9bc392aaf79d300b",
       "version_major": 2,
       "version_minor": 0
      },
      "text/plain": [
       "  0%|          | 0/308 [00:00<?, ?it/s]"
      ]
     },
     "metadata": {},
     "output_type": "display_data"
    },
    {
     "name": "stdout",
     "output_type": "stream",
     "text": [
      "w = identity >>  0.922077922077922\n",
      "validating on 308 subject --> object associations\n"
     ]
    },
    {
     "data": {
      "application/vnd.jupyter.widget-view+json": {
       "model_id": "debd70157e324723b6365671826bd8c6",
       "version_major": 2,
       "version_minor": 0
      },
      "text/plain": [
       "  0%|          | 0/308 [00:00<?, ?it/s]"
      ]
     },
     "metadata": {},
     "output_type": "display_data"
    },
    {
     "name": "stdout",
     "output_type": "stream",
     "text": [
      "w = jacobian >>  0.9805194805194806\n",
      "\n",
      "36 >> 30.23073959350586 [(' Portugal', 53.113), (' Nigeria', 52.889), (' Finland', 52.474), (' Lithuania', 51.967), (' Bangladesh', 51.956)]\n",
      "validating on 308 subject --> object associations\n"
     ]
    },
    {
     "data": {
      "application/vnd.jupyter.widget-view+json": {
       "model_id": "eff0a348bb62419b8d4e9f319a6c06b7",
       "version_major": 2,
       "version_minor": 0
      },
      "text/plain": [
       "  0%|          | 0/308 [00:00<?, ?it/s]"
      ]
     },
     "metadata": {},
     "output_type": "display_data"
    },
    {
     "name": "stdout",
     "output_type": "stream",
     "text": [
      "w = identity >>  0.935064935064935\n",
      "validating on 308 subject --> object associations\n"
     ]
    },
    {
     "data": {
      "application/vnd.jupyter.widget-view+json": {
       "model_id": "f34eaa31ae914039a76b2c6dc3808ef2",
       "version_major": 2,
       "version_minor": 0
      },
      "text/plain": [
       "  0%|          | 0/308 [00:00<?, ?it/s]"
      ]
     },
     "metadata": {},
     "output_type": "display_data"
    },
    {
     "name": "stdout",
     "output_type": "stream",
     "text": [
      "w = jacobian >>  0.9772727272727273\n",
      "\n",
      "39 >> 33.249412536621094 [(' Nigeria', 55.045), (' Portugal', 54.74), (' Iceland', 54.512), (' Finland', 54.367), (' Lithuania', 54.356)]\n",
      "validating on 308 subject --> object associations\n"
     ]
    },
    {
     "data": {
      "application/vnd.jupyter.widget-view+json": {
       "model_id": "35904821d32949c0884dc684692a8900",
       "version_major": 2,
       "version_minor": 0
      },
      "text/plain": [
       "  0%|          | 0/308 [00:00<?, ?it/s]"
      ]
     },
     "metadata": {},
     "output_type": "display_data"
    },
    {
     "name": "stdout",
     "output_type": "stream",
     "text": [
      "w = identity >>  0.9318181818181818\n",
      "validating on 308 subject --> object associations\n"
     ]
    },
    {
     "data": {
      "application/vnd.jupyter.widget-view+json": {
       "model_id": "38226d88c0c8487ea64b6a73336c9b15",
       "version_major": 2,
       "version_minor": 0
      },
      "text/plain": [
       "  0%|          | 0/308 [00:00<?, ?it/s]"
      ]
     },
     "metadata": {},
     "output_type": "display_data"
    },
    {
     "name": "stdout",
     "output_type": "stream",
     "text": [
      "w = jacobian >>  0.9772727272727273\n",
      "\n",
      "42 >> 35.84473419189453 [(' Nigeria', 57.457), (' Portugal', 57.386), (' Ghana', 56.797), (' Cyprus', 56.529), (' Finland', 56.468)]\n",
      "validating on 308 subject --> object associations\n"
     ]
    },
    {
     "data": {
      "application/vnd.jupyter.widget-view+json": {
       "model_id": "0d3611d8d1bb4145ac101976b794787b",
       "version_major": 2,
       "version_minor": 0
      },
      "text/plain": [
       "  0%|          | 0/308 [00:00<?, ?it/s]"
      ]
     },
     "metadata": {},
     "output_type": "display_data"
    },
    {
     "name": "stdout",
     "output_type": "stream",
     "text": [
      "w = identity >>  0.9383116883116883\n",
      "validating on 308 subject --> object associations\n"
     ]
    },
    {
     "data": {
      "application/vnd.jupyter.widget-view+json": {
       "model_id": "3aec36a894f642b6b4b06851f2159865",
       "version_major": 2,
       "version_minor": 0
      },
      "text/plain": [
       "  0%|          | 0/308 [00:00<?, ?it/s]"
      ]
     },
     "metadata": {},
     "output_type": "display_data"
    },
    {
     "name": "stdout",
     "output_type": "stream",
     "text": [
      "w = jacobian >>  0.9707792207792207\n",
      "\n",
      "45 >> 37.84275436401367 [(' Portugal', 60.043), (' Nigeria', 59.82), (' Cyprus', 58.97), (' Bangladesh', 58.929), (' Finland', 58.91)]\n",
      "validating on 308 subject --> object associations\n"
     ]
    },
    {
     "data": {
      "application/vnd.jupyter.widget-view+json": {
       "model_id": "8b214dab25744e168a2650597bfe7aeb",
       "version_major": 2,
       "version_minor": 0
      },
      "text/plain": [
       "  0%|          | 0/308 [00:00<?, ?it/s]"
      ]
     },
     "metadata": {},
     "output_type": "display_data"
    },
    {
     "name": "stdout",
     "output_type": "stream",
     "text": [
      "w = identity >>  0.9415584415584416\n",
      "validating on 308 subject --> object associations\n"
     ]
    },
    {
     "data": {
      "application/vnd.jupyter.widget-view+json": {
       "model_id": "eec3e632bebd49cfac03f04a4390a5f2",
       "version_major": 2,
       "version_minor": 0
      },
      "text/plain": [
       "  0%|          | 0/308 [00:00<?, ?it/s]"
      ]
     },
     "metadata": {},
     "output_type": "display_data"
    },
    {
     "name": "stdout",
     "output_type": "stream",
     "text": [
      "w = jacobian >>  0.9707792207792207\n",
      "\n",
      "48 >> 40.43390655517578 [(' Portugal', 61.746), (' Nigeria', 61.661), (' Cyprus', 61.013), (' Bangladesh', 61.01), (' Finland', 60.794)]\n",
      "validating on 308 subject --> object associations\n"
     ]
    },
    {
     "data": {
      "application/vnd.jupyter.widget-view+json": {
       "model_id": "487d8ffb2bb34039a64bfb97f44d9ff8",
       "version_major": 2,
       "version_minor": 0
      },
      "text/plain": [
       "  0%|          | 0/308 [00:00<?, ?it/s]"
      ]
     },
     "metadata": {},
     "output_type": "display_data"
    },
    {
     "name": "stdout",
     "output_type": "stream",
     "text": [
      "w = identity >>  0.9318181818181818\n",
      "validating on 308 subject --> object associations\n"
     ]
    },
    {
     "data": {
      "application/vnd.jupyter.widget-view+json": {
       "model_id": "b87ea736a4324495b6579ee62be6a079",
       "version_major": 2,
       "version_minor": 0
      },
      "text/plain": [
       "  0%|          | 0/308 [00:00<?, ?it/s]"
      ]
     },
     "metadata": {},
     "output_type": "display_data"
    },
    {
     "name": "stdout",
     "output_type": "stream",
     "text": [
      "w = jacobian >>  0.9675324675324676\n",
      "\n",
      "51 >> 42.077674865722656 [(' Nigeria', 63.935), (' Portugal', 63.463), (' Belgium', 62.812), (' Cyprus', 62.618), (' Thailand', 62.466)]\n",
      "validating on 308 subject --> object associations\n"
     ]
    },
    {
     "data": {
      "application/vnd.jupyter.widget-view+json": {
       "model_id": "81932c661f1341afa31d3db1f5e2092f",
       "version_major": 2,
       "version_minor": 0
      },
      "text/plain": [
       "  0%|          | 0/308 [00:00<?, ?it/s]"
      ]
     },
     "metadata": {},
     "output_type": "display_data"
    },
    {
     "name": "stdout",
     "output_type": "stream",
     "text": [
      "w = identity >>  0.9383116883116883\n",
      "validating on 308 subject --> object associations\n"
     ]
    },
    {
     "data": {
      "application/vnd.jupyter.widget-view+json": {
       "model_id": "acfa67777e9c46a79c07d1d469d24cac",
       "version_major": 2,
       "version_minor": 0
      },
      "text/plain": [
       "  0%|          | 0/308 [00:00<?, ?it/s]"
      ]
     },
     "metadata": {},
     "output_type": "display_data"
    },
    {
     "name": "stdout",
     "output_type": "stream",
     "text": [
      "w = jacobian >>  0.9675324675324676\n",
      "\n",
      "54 >> 44.038414001464844 [(' Nigeria', 66.01), (' Portugal', 65.147), (' Finland', 64.802), (' Lebanon', 64.776), (' Bangladesh', 64.588)]\n",
      "validating on 308 subject --> object associations\n"
     ]
    },
    {
     "data": {
      "application/vnd.jupyter.widget-view+json": {
       "model_id": "777155d8b9174f7987e44814e446f995",
       "version_major": 2,
       "version_minor": 0
      },
      "text/plain": [
       "  0%|          | 0/308 [00:00<?, ?it/s]"
      ]
     },
     "metadata": {},
     "output_type": "display_data"
    },
    {
     "name": "stdout",
     "output_type": "stream",
     "text": [
      "w = identity >>  0.9383116883116883\n",
      "validating on 308 subject --> object associations\n"
     ]
    },
    {
     "data": {
      "application/vnd.jupyter.widget-view+json": {
       "model_id": "10937ba0447148039ca8bbdc93632fe1",
       "version_major": 2,
       "version_minor": 0
      },
      "text/plain": [
       "  0%|          | 0/308 [00:00<?, ?it/s]"
      ]
     },
     "metadata": {},
     "output_type": "display_data"
    },
    {
     "name": "stdout",
     "output_type": "stream",
     "text": [
      "w = jacobian >>  0.961038961038961\n",
      "\n",
      "57 >> 45.5965576171875 [(' Nigeria', 68.132), (' Portugal', 67.604), (' Belgium', 66.758), (' Lebanon', 66.742), (' Finland', 66.661)]\n",
      "validating on 308 subject --> object associations\n"
     ]
    },
    {
     "data": {
      "application/vnd.jupyter.widget-view+json": {
       "model_id": "2f3c4a797d364354861c104038f8fc9b",
       "version_major": 2,
       "version_minor": 0
      },
      "text/plain": [
       "  0%|          | 0/308 [00:00<?, ?it/s]"
      ]
     },
     "metadata": {},
     "output_type": "display_data"
    },
    {
     "name": "stdout",
     "output_type": "stream",
     "text": [
      "w = identity >>  0.935064935064935\n",
      "validating on 308 subject --> object associations\n"
     ]
    },
    {
     "data": {
      "application/vnd.jupyter.widget-view+json": {
       "model_id": "091bd780960e4c088ff562dfdde30cb3",
       "version_major": 2,
       "version_minor": 0
      },
      "text/plain": [
       "  0%|          | 0/308 [00:00<?, ?it/s]"
      ]
     },
     "metadata": {},
     "output_type": "display_data"
    },
    {
     "name": "stdout",
     "output_type": "stream",
     "text": [
      "w = jacobian >>  0.9577922077922078\n",
      "\n",
      "60 >> 46.18345642089844 [(' Nigeria', 71.023), (' Finland', 69.385), (' Portugal', 68.982), (' Belgium', 68.873), (' Ukraine', 68.817)]\n",
      "validating on 308 subject --> object associations\n"
     ]
    },
    {
     "data": {
      "application/vnd.jupyter.widget-view+json": {
       "model_id": "c78bd51c3316497196d6a23361647c42",
       "version_major": 2,
       "version_minor": 0
      },
      "text/plain": [
       "  0%|          | 0/308 [00:00<?, ?it/s]"
      ]
     },
     "metadata": {},
     "output_type": "display_data"
    },
    {
     "name": "stdout",
     "output_type": "stream",
     "text": [
      "w = identity >>  0.935064935064935\n",
      "validating on 308 subject --> object associations\n"
     ]
    },
    {
     "data": {
      "application/vnd.jupyter.widget-view+json": {
       "model_id": "735b80a377b74e7d9c48f736f8aaaf46",
       "version_major": 2,
       "version_minor": 0
      },
      "text/plain": [
       "  0%|          | 0/308 [00:00<?, ?it/s]"
      ]
     },
     "metadata": {},
     "output_type": "display_data"
    },
    {
     "name": "stdout",
     "output_type": "stream",
     "text": [
      "w = jacobian >>  0.9642857142857143\n",
      "\n",
      "63 >> 47.28050231933594 [(' Nigeria', 73.696), (' Portugal', 71.577), (' Belgium', 71.576), (' Finland', 71.52), (' Thailand', 71.133)]\n",
      "validating on 308 subject --> object associations\n"
     ]
    },
    {
     "data": {
      "application/vnd.jupyter.widget-view+json": {
       "model_id": "8b6e7aa2ef8b4df78a94f4e03ca617aa",
       "version_major": 2,
       "version_minor": 0
      },
      "text/plain": [
       "  0%|          | 0/308 [00:00<?, ?it/s]"
      ]
     },
     "metadata": {},
     "output_type": "display_data"
    },
    {
     "name": "stdout",
     "output_type": "stream",
     "text": [
      "w = identity >>  0.935064935064935\n",
      "validating on 308 subject --> object associations\n"
     ]
    },
    {
     "data": {
      "application/vnd.jupyter.widget-view+json": {
       "model_id": "1b44f435f24d4f80a4fc4ecf2b26aa1a",
       "version_major": 2,
       "version_minor": 0
      },
      "text/plain": [
       "  0%|          | 0/308 [00:00<?, ?it/s]"
      ]
     },
     "metadata": {},
     "output_type": "display_data"
    },
    {
     "name": "stdout",
     "output_type": "stream",
     "text": [
      "w = jacobian >>  0.948051948051948\n",
      "\n",
      "66 >> 47.89188003540039 [(' Nigeria', 75.536), (' Portugal', 73.407), (' Thailand', 73.382), (' Finland', 73.264), (' Egypt', 72.96)]\n",
      "validating on 308 subject --> object associations\n"
     ]
    },
    {
     "data": {
      "application/vnd.jupyter.widget-view+json": {
       "model_id": "f092a9d327dc41db916fc3a0617da3b4",
       "version_major": 2,
       "version_minor": 0
      },
      "text/plain": [
       "  0%|          | 0/308 [00:00<?, ?it/s]"
      ]
     },
     "metadata": {},
     "output_type": "display_data"
    },
    {
     "name": "stdout",
     "output_type": "stream",
     "text": [
      "w = identity >>  0.9383116883116883\n",
      "validating on 308 subject --> object associations\n"
     ]
    },
    {
     "data": {
      "application/vnd.jupyter.widget-view+json": {
       "model_id": "e856f6772f324f6a87035be5d8d32372",
       "version_major": 2,
       "version_minor": 0
      },
      "text/plain": [
       "  0%|          | 0/308 [00:00<?, ?it/s]"
      ]
     },
     "metadata": {},
     "output_type": "display_data"
    },
    {
     "name": "stdout",
     "output_type": "stream",
     "text": [
      "w = jacobian >>  0.948051948051948\n",
      "\n",
      "69 >> 48.00790786743164 [(' Nigeria', 78.124), (' Portugal', 75.862), (' Thailand', 75.792), (' Egypt', 75.561), (' Romania', 75.406)]\n",
      "validating on 308 subject --> object associations\n"
     ]
    },
    {
     "data": {
      "application/vnd.jupyter.widget-view+json": {
       "model_id": "9b2ea692e3324698bb60d363735c5602",
       "version_major": 2,
       "version_minor": 0
      },
      "text/plain": [
       "  0%|          | 0/308 [00:00<?, ?it/s]"
      ]
     },
     "metadata": {},
     "output_type": "display_data"
    },
    {
     "name": "stdout",
     "output_type": "stream",
     "text": [
      "w = identity >>  0.935064935064935\n",
      "validating on 308 subject --> object associations\n"
     ]
    },
    {
     "data": {
      "application/vnd.jupyter.widget-view+json": {
       "model_id": "bb6525d4e54145fbbf2b4d69297660d0",
       "version_major": 2,
       "version_minor": 0
      },
      "text/plain": [
       "  0%|          | 0/308 [00:00<?, ?it/s]"
      ]
     },
     "metadata": {},
     "output_type": "display_data"
    },
    {
     "name": "stdout",
     "output_type": "stream",
     "text": [
      "w = jacobian >>  0.9188311688311688\n",
      "\n",
      "72 >> 47.96920394897461 [(' Nigeria', 80.351), (' Thailand', 78.095), (' Portugal', 77.714), (' Germany', 77.666), (' Egypt', 77.5)]\n",
      "validating on 308 subject --> object associations\n"
     ]
    },
    {
     "data": {
      "application/vnd.jupyter.widget-view+json": {
       "model_id": "ea41a61d904a47a0aaa563fce80de184",
       "version_major": 2,
       "version_minor": 0
      },
      "text/plain": [
       "  0%|          | 0/308 [00:00<?, ?it/s]"
      ]
     },
     "metadata": {},
     "output_type": "display_data"
    },
    {
     "name": "stdout",
     "output_type": "stream",
     "text": [
      "w = identity >>  0.9415584415584416\n",
      "validating on 308 subject --> object associations\n"
     ]
    },
    {
     "data": {
      "application/vnd.jupyter.widget-view+json": {
       "model_id": "5d7f90d1346c4434b2bc456eef19173c",
       "version_major": 2,
       "version_minor": 0
      },
      "text/plain": [
       "  0%|          | 0/308 [00:00<?, ?it/s]"
      ]
     },
     "metadata": {},
     "output_type": "display_data"
    },
    {
     "name": "stdout",
     "output_type": "stream",
     "text": [
      "w = jacobian >>  0.9188311688311688\n",
      "\n",
      "75 >> 48.201026916503906 [(' Nigeria', 82.627), (' Thailand', 80.665), (' Egypt', 79.969), (' Germany', 79.883), (' France', 79.661)]\n",
      "validating on 308 subject --> object associations\n"
     ]
    },
    {
     "data": {
      "application/vnd.jupyter.widget-view+json": {
       "model_id": "1f9d336e00624d33a49c163c8ef6f613",
       "version_major": 2,
       "version_minor": 0
      },
      "text/plain": [
       "  0%|          | 0/308 [00:00<?, ?it/s]"
      ]
     },
     "metadata": {},
     "output_type": "display_data"
    },
    {
     "name": "stdout",
     "output_type": "stream",
     "text": [
      "w = identity >>  0.9253246753246753\n",
      "validating on 308 subject --> object associations\n"
     ]
    },
    {
     "data": {
      "application/vnd.jupyter.widget-view+json": {
       "model_id": "5c977cff212d412d99dbd8d5c5c6ed51",
       "version_major": 2,
       "version_minor": 0
      },
      "text/plain": [
       "  0%|          | 0/308 [00:00<?, ?it/s]"
      ]
     },
     "metadata": {},
     "output_type": "display_data"
    },
    {
     "name": "stdout",
     "output_type": "stream",
     "text": [
      "w = jacobian >>  0.9155844155844156\n",
      "\n",
      "78 >> 48.15663146972656 [(' Nigeria', 84.641), (' Thailand', 82.761), (' Egypt', 82.139), (' Germany', 81.957), (' France', 81.795)]\n",
      "validating on 308 subject --> object associations\n"
     ]
    },
    {
     "data": {
      "application/vnd.jupyter.widget-view+json": {
       "model_id": "1a44ac8bfd9a4f988ec5fdc712650105",
       "version_major": 2,
       "version_minor": 0
      },
      "text/plain": [
       "  0%|          | 0/308 [00:00<?, ?it/s]"
      ]
     },
     "metadata": {},
     "output_type": "display_data"
    },
    {
     "name": "stdout",
     "output_type": "stream",
     "text": [
      "w = identity >>  0.9155844155844156\n",
      "validating on 308 subject --> object associations\n"
     ]
    },
    {
     "data": {
      "application/vnd.jupyter.widget-view+json": {
       "model_id": "0528b839d29145f3aa8a9c51cd377b7f",
       "version_major": 2,
       "version_minor": 0
      },
      "text/plain": [
       "  0%|          | 0/308 [00:00<?, ?it/s]"
      ]
     },
     "metadata": {},
     "output_type": "display_data"
    },
    {
     "name": "stdout",
     "output_type": "stream",
     "text": [
      "w = jacobian >>  0.9090909090909091\n",
      "\n",
      "81 >> 48.36906814575195 [(' Nigeria', 86.249), (' Thailand', 84.761), (' Germany', 84.09), (' France', 83.735), (' Egypt', 83.611)]\n",
      "validating on 308 subject --> object associations\n"
     ]
    },
    {
     "data": {
      "application/vnd.jupyter.widget-view+json": {
       "model_id": "fd270e3222004835b28a10d0c7cacc24",
       "version_major": 2,
       "version_minor": 0
      },
      "text/plain": [
       "  0%|          | 0/308 [00:00<?, ?it/s]"
      ]
     },
     "metadata": {},
     "output_type": "display_data"
    },
    {
     "name": "stdout",
     "output_type": "stream",
     "text": [
      "w = identity >>  0.9155844155844156\n",
      "validating on 308 subject --> object associations\n"
     ]
    },
    {
     "data": {
      "application/vnd.jupyter.widget-view+json": {
       "model_id": "06933b5f711446ec8f24ec5be5557a2a",
       "version_major": 2,
       "version_minor": 0
      },
      "text/plain": [
       "  0%|          | 0/308 [00:00<?, ?it/s]"
      ]
     },
     "metadata": {},
     "output_type": "display_data"
    },
    {
     "name": "stdout",
     "output_type": "stream",
     "text": [
      "w = jacobian >>  0.8993506493506493\n",
      "\n",
      "saving results\n",
      "############################################################################################################\n",
      "relation_id >> P101\n",
      "------------------------------------------------------------------------------------------------------\n",
      "unique objects:  83 [' anatomy', ' chemistry', ' Greek', ' genetics', ' manga']\n"
     ]
    },
    {
     "data": {
      "application/vnd.jupyter.widget-view+json": {
       "model_id": "d8430d83d2494703a248cf00304355b1",
       "version_major": 2,
       "version_minor": 0
      },
      "text/plain": [
       "  0%|          | 0/27 [00:00<?, ?it/s]"
      ]
     },
     "metadata": {},
     "output_type": "display_data"
    },
    {
     "name": "stdout",
     "output_type": "stream",
     "text": [
      "3 >> 10.744436264038086 [('��', 17.296), ('��', 16.281), ('��', 15.726), (' partName', 14.964), ('��', 14.279)]\n",
      "P101 >> number of requests in counterfact = 545\n",
      "Checking correct prediction with normal calculation ...\n"
     ]
    },
    {
     "data": {
      "application/vnd.jupyter.widget-view+json": {
       "model_id": "277bc7a2bb534adabc8763c1b13fe749",
       "version_major": 2,
       "version_minor": 0
      },
      "text/plain": [
       "  0%|          | 0/545 [00:00<?, ?it/s]"
      ]
     },
     "metadata": {},
     "output_type": "display_data"
    },
    {
     "name": "stdout",
     "output_type": "stream",
     "text": [
      "Number of correctly predicted requests = 84\n",
      "validating on 84 subject --> object associations\n"
     ]
    },
    {
     "data": {
      "application/vnd.jupyter.widget-view+json": {
       "model_id": "4c9684703de646a8b152c7b121e1d8f6",
       "version_major": 2,
       "version_minor": 0
      },
      "text/plain": [
       "  0%|          | 0/84 [00:00<?, ?it/s]"
      ]
     },
     "metadata": {},
     "output_type": "display_data"
    },
    {
     "name": "stdout",
     "output_type": "stream",
     "text": [
      "w = identity >>  0.08333333333333333\n",
      "validating on 84 subject --> object associations\n"
     ]
    },
    {
     "data": {
      "application/vnd.jupyter.widget-view+json": {
       "model_id": "38c5dbd2ffb14c20bd64a63f8fbbb907",
       "version_major": 2,
       "version_minor": 0
      },
      "text/plain": [
       "  0%|          | 0/84 [00:00<?, ?it/s]"
      ]
     },
     "metadata": {},
     "output_type": "display_data"
    },
    {
     "name": "stdout",
     "output_type": "stream",
     "text": [
      "w = jacobian >>  0.0\n",
      "\n",
      "6 >> 10.790496826171875 [('��', 16.257), (' filmmaking', 15.238), ('��', 15.041), (' artwork', 14.781), (' histories', 14.751)]\n",
      "validating on 84 subject --> object associations\n"
     ]
    },
    {
     "data": {
      "application/vnd.jupyter.widget-view+json": {
       "model_id": "33de2e10ca844184910a2effaa08fa76",
       "version_major": 2,
       "version_minor": 0
      },
      "text/plain": [
       "  0%|          | 0/84 [00:00<?, ?it/s]"
      ]
     },
     "metadata": {},
     "output_type": "display_data"
    },
    {
     "name": "stdout",
     "output_type": "stream",
     "text": [
      "w = identity >>  0.09523809523809523\n",
      "validating on 84 subject --> object associations\n"
     ]
    },
    {
     "data": {
      "application/vnd.jupyter.widget-view+json": {
       "model_id": "c795e97fa75743d193dd92f883624a79",
       "version_major": 2,
       "version_minor": 0
      },
      "text/plain": [
       "  0%|          | 0/84 [00:00<?, ?it/s]"
      ]
     },
     "metadata": {},
     "output_type": "display_data"
    },
    {
     "name": "stdout",
     "output_type": "stream",
     "text": [
      "w = jacobian >>  0.0\n",
      "\n",
      "9 >> 14.837922096252441 [(' linguistic', 18.165), (' filmmaking', 17.958), (' internet', 17.782), (' french', 17.442), (' artistic', 17.068)]\n",
      "validating on 84 subject --> object associations\n"
     ]
    },
    {
     "data": {
      "application/vnd.jupyter.widget-view+json": {
       "model_id": "8d6066462c36451aa434650b47471fbd",
       "version_major": 2,
       "version_minor": 0
      },
      "text/plain": [
       "  0%|          | 0/84 [00:00<?, ?it/s]"
      ]
     },
     "metadata": {},
     "output_type": "display_data"
    },
    {
     "name": "stdout",
     "output_type": "stream",
     "text": [
      "w = identity >>  0.16666666666666666\n",
      "validating on 84 subject --> object associations\n"
     ]
    },
    {
     "data": {
      "application/vnd.jupyter.widget-view+json": {
       "model_id": "ce7afcaf77c442a88dac606bb9060667",
       "version_major": 2,
       "version_minor": 0
      },
      "text/plain": [
       "  0%|          | 0/84 [00:00<?, ?it/s]"
      ]
     },
     "metadata": {},
     "output_type": "display_data"
    },
    {
     "name": "stdout",
     "output_type": "stream",
     "text": [
      "w = jacobian >>  0.0\n",
      "\n",
      "12 >> 16.04231834411621 [(' internet', 21.852), (' linguistic', 21.024), (' automobile', 20.158), (' artwork', 20.137), (' artistic', 20.116)]\n",
      "validating on 84 subject --> object associations\n"
     ]
    },
    {
     "data": {
      "application/vnd.jupyter.widget-view+json": {
       "model_id": "16f58c94ba1c47bdb2e1daf5ebe597e9",
       "version_major": 2,
       "version_minor": 0
      },
      "text/plain": [
       "  0%|          | 0/84 [00:00<?, ?it/s]"
      ]
     },
     "metadata": {},
     "output_type": "display_data"
    },
    {
     "name": "stdout",
     "output_type": "stream",
     "text": [
      "w = identity >>  0.19047619047619047\n",
      "validating on 84 subject --> object associations\n"
     ]
    },
    {
     "data": {
      "application/vnd.jupyter.widget-view+json": {
       "model_id": "7dc794f8127e46ae98026a970b0d5552",
       "version_major": 2,
       "version_minor": 0
      },
      "text/plain": [
       "  0%|          | 0/84 [00:00<?, ?it/s]"
      ]
     },
     "metadata": {},
     "output_type": "display_data"
    },
    {
     "name": "stdout",
     "output_type": "stream",
     "text": [
      "w = jacobian >>  0.0\n",
      "\n",
      "15 >> 16.746854782104492 [(' internet', 26.382), (' linguistic', 23.826), (' homosexual', 23.799), (' archaeological', 23.187), (' feminist', 23.056)]\n",
      "validating on 84 subject --> object associations\n"
     ]
    },
    {
     "data": {
      "application/vnd.jupyter.widget-view+json": {
       "model_id": "58454f06c5b84c158c7e2ce83b48980b",
       "version_major": 2,
       "version_minor": 0
      },
      "text/plain": [
       "  0%|          | 0/84 [00:00<?, ?it/s]"
      ]
     },
     "metadata": {},
     "output_type": "display_data"
    },
    {
     "name": "stdout",
     "output_type": "stream",
     "text": [
      "w = identity >>  0.23809523809523808\n",
      "validating on 84 subject --> object associations\n"
     ]
    },
    {
     "data": {
      "application/vnd.jupyter.widget-view+json": {
       "model_id": "1ba289c41fb94445942e9345e5468999",
       "version_major": 2,
       "version_minor": 0
      },
      "text/plain": [
       "  0%|          | 0/84 [00:00<?, ?it/s]"
      ]
     },
     "metadata": {},
     "output_type": "display_data"
    },
    {
     "name": "stdout",
     "output_type": "stream",
     "text": [
      "w = jacobian >>  0.0\n",
      "\n",
      "18 >> 18.097152709960938 [(' internet', 31.431), (' literature', 28.736), (' religion', 28.648), (' feminist', 28.162), (' Iranian', 28.118)]\n",
      "validating on 84 subject --> object associations\n"
     ]
    },
    {
     "data": {
      "application/vnd.jupyter.widget-view+json": {
       "model_id": "40979ea7fd974dd5b05148833b06985a",
       "version_major": 2,
       "version_minor": 0
      },
      "text/plain": [
       "  0%|          | 0/84 [00:00<?, ?it/s]"
      ]
     },
     "metadata": {},
     "output_type": "display_data"
    },
    {
     "name": "stdout",
     "output_type": "stream",
     "text": [
      "w = identity >>  0.2619047619047619\n",
      "validating on 84 subject --> object associations\n"
     ]
    },
    {
     "data": {
      "application/vnd.jupyter.widget-view+json": {
       "model_id": "8b3316a8085841c4b1001ce5e6e92775",
       "version_major": 2,
       "version_minor": 0
      },
      "text/plain": [
       "  0%|          | 0/84 [00:00<?, ?it/s]"
      ]
     },
     "metadata": {},
     "output_type": "display_data"
    },
    {
     "name": "stdout",
     "output_type": "stream",
     "text": [
      "w = jacobian >>  0.011904761904761904\n",
      "\n",
      "21 >> 20.103519439697266 [(' internet', 36.314), (' feminist', 34.425), (' archae', 33.212), (' yoga', 33.193), (' anime', 33.121)]\n",
      "validating on 84 subject --> object associations\n"
     ]
    },
    {
     "data": {
      "application/vnd.jupyter.widget-view+json": {
       "model_id": "3e050d878c544977af529d56699b37d7",
       "version_major": 2,
       "version_minor": 0
      },
      "text/plain": [
       "  0%|          | 0/84 [00:00<?, ?it/s]"
      ]
     },
     "metadata": {},
     "output_type": "display_data"
    },
    {
     "name": "stdout",
     "output_type": "stream",
     "text": [
      "w = identity >>  0.32142857142857145\n",
      "validating on 84 subject --> object associations\n"
     ]
    },
    {
     "data": {
      "application/vnd.jupyter.widget-view+json": {
       "model_id": "43f2401bcc1a4103895205322b1265d8",
       "version_major": 2,
       "version_minor": 0
      },
      "text/plain": [
       "  0%|          | 0/84 [00:00<?, ?it/s]"
      ]
     },
     "metadata": {},
     "output_type": "display_data"
    },
    {
     "name": "stdout",
     "output_type": "stream",
     "text": [
      "w = jacobian >>  0.047619047619047616\n",
      "\n",
      "24 >> 23.74509048461914 [(' internet', 38.637), (' yoga', 38.524), (' cultural', 37.991), (' international', 37.862), (' feminist', 37.567)]\n",
      "validating on 84 subject --> object associations\n"
     ]
    },
    {
     "data": {
      "application/vnd.jupyter.widget-view+json": {
       "model_id": "991643a24e6d489a90dbc4b549882898",
       "version_major": 2,
       "version_minor": 0
      },
      "text/plain": [
       "  0%|          | 0/84 [00:00<?, ?it/s]"
      ]
     },
     "metadata": {},
     "output_type": "display_data"
    },
    {
     "name": "stdout",
     "output_type": "stream",
     "text": [
      "w = identity >>  0.34523809523809523\n",
      "validating on 84 subject --> object associations\n"
     ]
    },
    {
     "data": {
      "application/vnd.jupyter.widget-view+json": {
       "model_id": "b6dac3d951dd401298702b82ff1cb5e4",
       "version_major": 2,
       "version_minor": 0
      },
      "text/plain": [
       "  0%|          | 0/84 [00:00<?, ?it/s]"
      ]
     },
     "metadata": {},
     "output_type": "display_data"
    },
    {
     "name": "stdout",
     "output_type": "stream",
     "text": [
      "w = jacobian >>  0.047619047619047616\n",
      "\n",
      "27 >> 26.328664779663086 [(' internet', 41.896), (' feminist', 41.841), (' yoga', 41.293), (' military', 40.989), (' nuclear', 40.969)]\n",
      "validating on 84 subject --> object associations\n"
     ]
    },
    {
     "data": {
      "application/vnd.jupyter.widget-view+json": {
       "model_id": "92877710219b42a7bd052b4d29dfcdcd",
       "version_major": 2,
       "version_minor": 0
      },
      "text/plain": [
       "  0%|          | 0/84 [00:00<?, ?it/s]"
      ]
     },
     "metadata": {},
     "output_type": "display_data"
    },
    {
     "name": "stdout",
     "output_type": "stream",
     "text": [
      "w = identity >>  0.3333333333333333\n",
      "validating on 84 subject --> object associations\n"
     ]
    },
    {
     "data": {
      "application/vnd.jupyter.widget-view+json": {
       "model_id": "59f794618ad444c188a3de2a5535ef25",
       "version_major": 2,
       "version_minor": 0
      },
      "text/plain": [
       "  0%|          | 0/84 [00:00<?, ?it/s]"
      ]
     },
     "metadata": {},
     "output_type": "display_data"
    },
    {
     "name": "stdout",
     "output_type": "stream",
     "text": [
      "w = jacobian >>  0.047619047619047616\n",
      "\n",
      "30 >> 31.2495059967041 [(' classical', 43.879), (' military', 43.516), (' social', 43.459), (' nuclear', 43.178), (' political', 43.035)]\n",
      "validating on 84 subject --> object associations\n"
     ]
    },
    {
     "data": {
      "application/vnd.jupyter.widget-view+json": {
       "model_id": "b7cbf4b861ff4d4bb4a4bc0c45023dd6",
       "version_major": 2,
       "version_minor": 0
      },
      "text/plain": [
       "  0%|          | 0/84 [00:00<?, ?it/s]"
      ]
     },
     "metadata": {},
     "output_type": "display_data"
    },
    {
     "name": "stdout",
     "output_type": "stream",
     "text": [
      "w = identity >>  0.34523809523809523\n",
      "validating on 84 subject --> object associations\n"
     ]
    },
    {
     "data": {
      "application/vnd.jupyter.widget-view+json": {
       "model_id": "981953d8562f40e59338bfa0af565804",
       "version_major": 2,
       "version_minor": 0
      },
      "text/plain": [
       "  0%|          | 0/84 [00:00<?, ?it/s]"
      ]
     },
     "metadata": {},
     "output_type": "display_data"
    },
    {
     "name": "stdout",
     "output_type": "stream",
     "text": [
      "w = jacobian >>  0.047619047619047616\n",
      "\n",
      "33 >> 34.48716735839844 [(' classical', 46.08), (' military', 45.833), (' medical', 45.419), (' classic', 45.21), (' nuclear', 45.193)]\n",
      "validating on 84 subject --> object associations\n"
     ]
    },
    {
     "data": {
      "application/vnd.jupyter.widget-view+json": {
       "model_id": "4cb9ff2b9bfd49c189e1aac17abc1c61",
       "version_major": 2,
       "version_minor": 0
      },
      "text/plain": [
       "  0%|          | 0/84 [00:00<?, ?it/s]"
      ]
     },
     "metadata": {},
     "output_type": "display_data"
    },
    {
     "name": "stdout",
     "output_type": "stream",
     "text": [
      "w = identity >>  0.32142857142857145\n",
      "validating on 84 subject --> object associations\n"
     ]
    },
    {
     "data": {
      "application/vnd.jupyter.widget-view+json": {
       "model_id": "2a4301fd10bb4b2c8f373353f87f8e6a",
       "version_major": 2,
       "version_minor": 0
      },
      "text/plain": [
       "  0%|          | 0/84 [00:00<?, ?it/s]"
      ]
     },
     "metadata": {},
     "output_type": "display_data"
    },
    {
     "name": "stdout",
     "output_type": "stream",
     "text": [
      "w = jacobian >>  0.047619047619047616\n",
      "\n",
      "36 >> 37.60812759399414 [(' military', 48.499), (' classical', 47.801), (' music', 47.785), (' yoga', 47.783), (' nuclear', 47.702)]\n",
      "validating on 84 subject --> object associations\n"
     ]
    },
    {
     "data": {
      "application/vnd.jupyter.widget-view+json": {
       "model_id": "100b265ab4f9423a83897fe1410525c6",
       "version_major": 2,
       "version_minor": 0
      },
      "text/plain": [
       "  0%|          | 0/84 [00:00<?, ?it/s]"
      ]
     },
     "metadata": {},
     "output_type": "display_data"
    },
    {
     "name": "stdout",
     "output_type": "stream",
     "text": [
      "w = identity >>  0.2857142857142857\n",
      "validating on 84 subject --> object associations\n"
     ]
    },
    {
     "data": {
      "application/vnd.jupyter.widget-view+json": {
       "model_id": "8d02519c040643f9b1ea62a6f362a608",
       "version_major": 2,
       "version_minor": 0
      },
      "text/plain": [
       "  0%|          | 0/84 [00:00<?, ?it/s]"
      ]
     },
     "metadata": {},
     "output_type": "display_data"
    }
   ],
   "source": [
    "from relations import corner, evaluate\n",
    "\n",
    "jacobians_calculated_after_layer = 15\n",
    "precision_at = 3\n",
    "\n",
    "corner_estimator = corner.CornerEstimator(model = model, tokenizer = tokenizer)\n",
    "target_logit_range = range(3, 82, 3)\n",
    "performance_track = {}\n",
    "\n",
    "for relation_id in tqdm(relation_dct):\n",
    "    print(f\"relation_id >> {relation_id}\")\n",
    "    print(\"------------------------------------------------------------------------------------------------------\")\n",
    "    objects = [c['requested_rewrite'] for c in counterfact if c[\"requested_rewrite\"]['relation_id'] == relation_id]\n",
    "    objects = [\" \"+ o['target_true']['str'] for o in objects]\n",
    "    objects = list(set(objects))\n",
    "    print(\"unique objects: \", len(objects), objects[0:min(5, len(objects))])\n",
    "\n",
    "    performance_track[relation_id] = {}\n",
    "    validation_set = None\n",
    "    for target_logit in tqdm(target_logit_range):\n",
    "        \n",
    "        current_corner = corner_estimator.estimate_average_corner_with_gradient_descent(\n",
    "            objects, target_logit_value=target_logit\n",
    "        )\n",
    "        vocab_repr = corner_estimator.get_vocab_representation(current_corner, get_logits=True)\n",
    "        print(f\"{target_logit} >> {current_corner.norm().item()} {vocab_repr}\")\n",
    "\n",
    "        performance_track[relation_id][target_logit] = {\n",
    "            'jacobian': -1, 'identity': -1,\n",
    "            'vocab_repr': vocab_repr,\n",
    "            'corner_norm': current_corner.norm().item()\n",
    "        }\n",
    "\n",
    "        relation_identity = estimate.RelationOperator(\n",
    "            model = model,\n",
    "            tokenizer = tokenizer,\n",
    "            relation = relation_dct[relation_id]['relation'],\n",
    "            layer = jacobians_calculated_after_layer,\n",
    "            weight = torch.eye(model.config.n_embd).to(model.dtype).to(model.device),\n",
    "            bias = current_corner\n",
    "        )\n",
    "        precision, ret_dict = evaluate.evaluate(\n",
    "            relation_id= relation_id,\n",
    "            relation_operator= relation_identity,\n",
    "            precision_at = precision_at,\n",
    "            validation_set = validation_set\n",
    "        )\n",
    "\n",
    "        if(validation_set is None):\n",
    "            validation_set = ret_dict[\"validation_set\"]\n",
    "\n",
    "        print(\"w = identity >> \", precision)\n",
    "        ret_dict.pop('validation_set')\n",
    "        ret_dict.pop('predictions')\n",
    "        performance_track[relation_id][target_logit]['identity'] = (precision, ret_dict)\n",
    "\n",
    "        cached_jbs = np.load(\n",
    "            jacobian_cache_path.format(relation_id),\n",
    "            allow_pickle= True\n",
    "        )\n",
    "        relation_jacobian = estimate.RelationOperator(\n",
    "            model = model,\n",
    "            tokenizer = tokenizer,\n",
    "            relation = relation_dct[relation_id]['relation'],\n",
    "            layer = jacobians_calculated_after_layer,\n",
    "            weight = torch.stack(\n",
    "                [wb['weight'] for wb in cached_jbs['weights_and_biases']]\n",
    "            ).mean(dim=0).to(model.dtype).to(model.device),\n",
    "            bias = current_corner\n",
    "        )\n",
    "        precision, ret_dict = evaluate.evaluate(\n",
    "            relation_id= relation_id,\n",
    "            relation_operator= relation_jacobian,\n",
    "            precision_at = precision_at,\n",
    "            validation_set = validation_set\n",
    "        )\n",
    "        \n",
    "        print(\"w = jacobian >> \", precision)\n",
    "        ret_dict.pop('validation_set')\n",
    "        ret_dict.pop('predictions')\n",
    "        performance_track[relation_id][target_logit]['jacobian'] = (precision, ret_dict)\n",
    "        print()\n",
    "        \n",
    "\n",
    "    print(\"saving results\")\n",
    "    with open(\"corner_gradient_scan.json\", \"w\") as f:\n",
    "        json.dump(performance_track, f)\n",
    "    print(\"############################################################################################################\")"
   ]
  },
  {
   "cell_type": "code",
   "execution_count": null,
   "metadata": {},
   "outputs": [],
   "source": []
  }
 ],
 "metadata": {
  "kernelspec": {
   "display_name": "Python 3",
   "language": "python",
   "name": "python3"
  },
  "language_info": {
   "codemirror_mode": {
    "name": "ipython",
    "version": 3
   },
   "file_extension": ".py",
   "mimetype": "text/x-python",
   "name": "python",
   "nbconvert_exporter": "python",
   "pygments_lexer": "ipython3",
   "version": "3.10.8"
  },
  "orig_nbformat": 4,
  "vscode": {
   "interpreter": {
    "hash": "3439fe3f7dcaddaf51997811d25ada8e7c0985d2997d22a3ed461af94d2f9f43"
   }
  }
 },
 "nbformat": 4,
 "nbformat_minor": 2
}
