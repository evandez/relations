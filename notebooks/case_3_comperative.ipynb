{
 "cells": [
  {
   "cell_type": "code",
   "execution_count": 4,
   "metadata": {},
   "outputs": [
    {
     "name": "stdout",
     "output_type": "stream",
     "text": [
      "The autoreload extension is already loaded. To reload it, use:\n",
      "  %reload_ext autoreload\n"
     ]
    }
   ],
   "source": [
    "%load_ext autoreload\n",
    "%autoreload 2"
   ]
  },
  {
   "cell_type": "code",
   "execution_count": 5,
   "metadata": {},
   "outputs": [],
   "source": [
    "import torch\n",
    "import numpy as np\n",
    "import json\n",
    "from tqdm.auto import tqdm\n",
    "import random\n",
    "import transformers\n",
    "\n",
    "import os\n",
    "import sys\n",
    "sys.path.append('..')\n",
    "\n",
    "from relations import estimate\n",
    "from util import model_utils\n",
    "from baukit import nethook\n",
    "from operator import itemgetter"
   ]
  },
  {
   "cell_type": "code",
   "execution_count": 7,
   "metadata": {},
   "outputs": [
    {
     "name": "stdout",
     "output_type": "stream",
     "text": [
      "EleutherAI/gpt-j-6B ==> device: cuda:0, memory: 12219206136\n"
     ]
    }
   ],
   "source": [
    "MODEL_NAME = \"EleutherAI/gpt-j-6B\" # \"facebook/galactica-6.7b\"  # gpt2-{medium,large,xl} or EleutherAI/gpt-j-6B\n",
    "n_embd_field = \"hidden_size\"\n",
    "mt = model_utils.ModelAndTokenizer(MODEL_NAME, low_cpu_mem_usage=True, torch_dtype=torch.float16)\n",
    "\n",
    "model = mt.model\n",
    "tokenizer = mt.tokenizer\n",
    "tokenizer.pad_token = tokenizer.eos_token\n",
    "# tokenizer.add_special_tokens({'pad_token': '[PAD]'})\n",
    "\n",
    "print(f\"{MODEL_NAME} ==> device: {model.device}, memory: {model.get_memory_footprint()}\")"
   ]
  },
  {
   "cell_type": "code",
   "execution_count": 9,
   "metadata": {},
   "outputs": [
    {
     "data": {
      "text/plain": [
       "[('angry', 'angrier', 'angriest'),\n",
       " ('bad', 'worse', 'worst'),\n",
       " ('big', 'bigger', 'biggest'),\n",
       " ('bitter', 'bitterer', 'bitterest'),\n",
       " ('black', 'blacker', 'blackest'),\n",
       " ('bland', 'blander', 'blandest'),\n",
       " ('bloody', 'bloodier', 'bloodiest'),\n",
       " ('blue', 'bluer', 'bluest'),\n",
       " ('bold', 'bolder', 'boldest'),\n",
       " ('bossy', 'bossier', 'bossiest'),\n",
       " ('brave', 'braver', 'bravest'),\n",
       " ('brief', 'briefer', 'briefest'),\n",
       " ('bright', 'brighter', 'brightest'),\n",
       " ('broad', 'broader', 'broadest'),\n",
       " ('busy', 'busier', 'busiest'),\n",
       " ('calm', 'calmer', 'calmest'),\n",
       " ('cheap', 'cheaper', 'cheapest'),\n",
       " ('chewy', 'chewier', 'chewiest'),\n",
       " ('chubby', 'chubbier', 'chubbiest'),\n",
       " ('classy', 'classier', 'classiest'),\n",
       " ('clean', 'cleaner', 'cleanest'),\n",
       " ('clear', 'clear', 'clearest'),\n",
       " ('clever', 'cleverer', 'cleverest'),\n",
       " ('close', 'closer', 'closest'),\n",
       " ('cloudy', 'cloudier', 'cloudiest'),\n",
       " ('clumsy', 'clumsier', 'clumsiest'),\n",
       " ('coarse', 'coarser', 'coarsest'),\n",
       " ('cold', 'colder', 'coldest'),\n",
       " ('cool', 'cooler', 'coolest'),\n",
       " ('crazy', 'crazier', 'craziest'),\n",
       " ('creamy', 'creamier', 'creamiest'),\n",
       " ('creepy', 'creepier', 'creepiest'),\n",
       " ('crispy', 'crispier', 'crispiest'),\n",
       " ('cruel', 'crueller', 'cruellest'),\n",
       " ('crunchy', 'crunchier', 'crunchiest'),\n",
       " ('curly', 'curly', 'curliest'),\n",
       " ('curvy', 'curvier', 'curviest'),\n",
       " ('cute', 'cuter', 'cutest'),\n",
       " ('damp', 'damper', 'dampest'),\n",
       " ('dark', 'darker', 'darkest'),\n",
       " ('deadly', 'deadlier', 'deadliest'),\n",
       " ('deep', 'deeper', 'deepest'),\n",
       " ('dense', 'denser', 'densest'),\n",
       " ('dirty', 'dirtier', 'dirtiest'),\n",
       " ('dry', 'drier', 'driest'),\n",
       " ('dull', 'duller', 'dullest'),\n",
       " ('dumb', 'dumber', 'dumbest'),\n",
       " ('dusty', 'dustier', 'dustiest'),\n",
       " ('early', 'earlier', 'earliest'),\n",
       " ('easy', 'easier', 'easiest'),\n",
       " ('faint', 'fainter', 'faintest'),\n",
       " ('fair', 'fairer', 'fairest'),\n",
       " ('fancy', 'fancier', 'fanciest'),\n",
       " ('far', 'further/farther', 'furthest/farthest'),\n",
       " ('fast', 'faster', 'fastest'),\n",
       " ('fat', 'fatter', 'fattest'),\n",
       " ('few', 'fewer', 'fewest'),\n",
       " ('fierce', 'fiercer', 'fiercest'),\n",
       " ('filthy', 'filthier', 'filthiest'),\n",
       " ('fine', 'finer', 'finest'),\n",
       " ('firm', 'firmer', 'firmest'),\n",
       " ('fit', 'fitter', 'fittest'),\n",
       " ('flaky', 'flakier', 'flakiest'),\n",
       " ('flat', 'flatter', 'flattest'),\n",
       " ('fresh', 'fresher', 'freshest'),\n",
       " ('friendly', 'friendlier', 'friendliest'),\n",
       " ('full', 'fuller', 'fullest'),\n",
       " ('funny', 'funnier', 'funniest'),\n",
       " ('gentle', 'gentler', 'gentlest'),\n",
       " ('gloomy', 'gloomier', 'gloomiest'),\n",
       " ('good', 'better', 'best'),\n",
       " ('grand', 'grander', 'grandest'),\n",
       " ('grave', 'graver', 'gravest'),\n",
       " ('greasy', 'greasier', 'greasiest'),\n",
       " ('great', 'greater', 'greatest'),\n",
       " ('greedy', 'greedier', 'greediest'),\n",
       " ('gross', 'grosser', 'grossest'),\n",
       " ('guilty', 'guilter', 'guiltiest'),\n",
       " ('hairy', 'hairier', 'hairiest'),\n",
       " ('handy', 'handier', 'handiest'),\n",
       " ('happy', 'happier', 'happiest'),\n",
       " ('hard', 'harder', 'hardest'),\n",
       " ('harsh', 'harsher', 'harshest'),\n",
       " ('healthy', 'healthier', 'healthiest'),\n",
       " ('heavy', 'heavier', 'heaviest'),\n",
       " ('high', 'higher', 'highest'),\n",
       " ('hip', 'hipper', 'hippest'),\n",
       " ('hot', 'hotter', 'hottest'),\n",
       " ('humble', 'humbler', 'humblest'),\n",
       " ('hungry', 'hungrier', 'hungriest'),\n",
       " ('icy', 'icier', 'iciest'),\n",
       " ('itchy', 'itchier', 'itchiest'),\n",
       " ('juicy', 'juicier', 'juiciest'),\n",
       " ('kind', 'kinder', 'kindest'),\n",
       " ('large', 'larger', 'largest'),\n",
       " ('late', 'later', 'latest'),\n",
       " ('lazy', 'lazier', 'laziest'),\n",
       " ('light', 'lighter', 'lightest'),\n",
       " ('likely', 'likelier', 'likeliest'),\n",
       " ('little', 'littler', 'littlest'),\n",
       " ('lively', 'livelier', 'liveliest'),\n",
       " ('lonely', 'lonlier', 'loneliest'),\n",
       " ('long', 'longer', 'longest'),\n",
       " ('loud', 'louder', 'loudest'),\n",
       " ('lovely', 'lovelier', 'loveliest'),\n",
       " ('low', 'lower', 'lowest'),\n",
       " ('mad', 'madder', 'maddest'),\n",
       " ('mean', 'meaner', 'meanest'),\n",
       " ('messy', 'messier', 'messiest'),\n",
       " ('mild', 'milder', 'mildest'),\n",
       " ('moist', 'moister', 'moistest'),\n",
       " ('narrow', 'narrower', 'narrowest'),\n",
       " ('nasty', 'nastier', 'nastiest'),\n",
       " ('naughty', 'naughtier', 'naughtiest'),\n",
       " ('near', 'nearer', 'nearest'),\n",
       " ('neat', 'neater', 'neatest'),\n",
       " ('needy', 'needier', 'neediest'),\n",
       " ('new', 'newer', 'newest'),\n",
       " ('nice', 'nicer', 'nicest'),\n",
       " ('noisy', 'noisier', 'noisiest'),\n",
       " ('odd', 'odder', 'oddest'),\n",
       " ('oily', 'oilier', 'oiliest'),\n",
       " ('old', 'older/elder', 'oldest/eldest'),\n",
       " ('plain', 'plainer', 'plainest'),\n",
       " ('polite', 'politer', 'politest'),\n",
       " ('poor', 'poorer', 'poorest'),\n",
       " ('pretty', 'prettier', 'prettiest'),\n",
       " ('proud', 'prouder', 'proudest'),\n",
       " ('pure', 'purer', 'purest'),\n",
       " ('quick', 'quicker', 'quickest'),\n",
       " ('quiet', 'quieter', 'quietest'),\n",
       " ('rare', 'rarer', 'rarest'),\n",
       " ('raw', 'rawer', 'rawest'),\n",
       " ('rich', 'richer', 'richest'),\n",
       " ('ripe', 'riper', 'ripest'),\n",
       " ('risky', 'riskier', 'riskiest'),\n",
       " ('roomy', 'roomier', 'roomiest'),\n",
       " ('rough', 'rougher', 'roughest'),\n",
       " ('rude', 'ruder', 'rudest'),\n",
       " ('rusty', 'rustier', 'rustiest'),\n",
       " ('sad', 'sadder', 'saddest'),\n",
       " ('safe', 'safer', 'safest'),\n",
       " ('salty', 'saltier', 'saltiest'),\n",
       " ('sane', 'saner', 'sanest'),\n",
       " ('scary', 'scarier', 'scariest'),\n",
       " ('shallow', 'shallower', 'shallowest'),\n",
       " ('sharp', 'sharper', 'sharpest'),\n",
       " ('shiny', 'shinier', 'shiniest'),\n",
       " ('short', 'shorter', 'shortest'),\n",
       " ('shy', 'shyer', 'shyest'),\n",
       " ('silly', 'sillier', 'silliest'),\n",
       " ('simple', 'simpler', 'simplest'),\n",
       " ('sincere', 'sincerer', 'sincerest'),\n",
       " ('skinny', 'skinnier', 'skinniest'),\n",
       " ('sleepy', 'sleepier', 'sleepiest'),\n",
       " ('slim', 'slimmer', 'slimmest'),\n",
       " ('slimy', 'slimier', 'slimiest'),\n",
       " ('slow', 'slower', 'slowest'),\n",
       " ('small', 'smaller', 'smallest'),\n",
       " ('smart', 'smarter', 'smartest'),\n",
       " ('smelly', 'smellier', 'smelliest'),\n",
       " ('smoky', 'smokier', 'smokiest'),\n",
       " ('smooth', 'smoother', 'smoothest'),\n",
       " ('soft', 'softer', 'softest'),\n",
       " ('soon', 'sooner', 'soonest'),\n",
       " ('sore', 'sorer', 'sorest'),\n",
       " ('sorry', 'sorrier', 'sorriest'),\n",
       " ('sour', 'sourer', 'sourest'),\n",
       " ('spicy', 'spicier', 'spiciest'),\n",
       " ('steep', 'steeper', 'steepest'),\n",
       " ('stingy', 'stingier', 'stingiest'),\n",
       " ('strange', 'stranger', 'strangest'),\n",
       " ('strict', 'stricter', 'strictest'),\n",
       " ('strong', 'stronger', 'strongest'),\n",
       " ('sunny', 'sunnier', 'sunniest'),\n",
       " ('sweaty', 'sweatier', 'sweatiest'),\n",
       " ('sweet', 'sweeter', 'sweetest'),\n",
       " ('tall', 'taller', 'tallest'),\n",
       " ('tan', 'tanner', 'tannest'),\n",
       " ('tasty', 'tastier', 'tastiest'),\n",
       " ('thick', 'thicker', 'thickest'),\n",
       " ('thin', 'thinner', 'thinnest'),\n",
       " ('thirsty', 'thirstier', 'thirstiest'),\n",
       " ('tiny', 'tinier', 'tiniest'),\n",
       " ('tough', 'tougher', 'toughest'),\n",
       " ('true', 'truer', 'truest'),\n",
       " ('ugly', 'uglier', 'ugliest'),\n",
       " ('warm', 'warmer', 'warmest'),\n",
       " ('weak', 'weaker', 'weakest'),\n",
       " ('wealthy', 'wealthier', 'wealthiest'),\n",
       " ('weird', 'weirder', 'weirdest'),\n",
       " ('wet', 'wetter', 'wettest'),\n",
       " ('wide', 'wider', 'widest'),\n",
       " ('wild', 'wilder', 'wildest'),\n",
       " ('windy', 'windier', 'windiest'),\n",
       " ('wise', 'wiser', 'wisest'),\n",
       " ('worldly', 'worldlier', 'worldliest'),\n",
       " ('worthy', 'worthier', 'worthiest'),\n",
       " ('young', 'younger', 'youngest')]"
      ]
     },
     "execution_count": 9,
     "metadata": {},
     "output_type": "execute_result"
    }
   ],
   "source": [
    "with open(\"data/comperative-superlative.txt\") as f:\n",
    "    lines = f.readlines()\n",
    "    words = []\n",
    "    for line in lines:\n",
    "        w = line.strip()\n",
    "        if(len(w) == 0):\n",
    "            continue\n",
    "        words.append(w)\n",
    "\n",
    "base = words[0 : len(words) : 3]\n",
    "comparative = words[1 : len(words) : 3]\n",
    "superlative = words[2 : len(words) : 3]\n",
    "\n",
    "list(zip(base, comparative, superlative))"
   ]
  },
  {
   "cell_type": "code",
   "execution_count": 10,
   "metadata": {},
   "outputs": [
    {
     "data": {
      "text/plain": [
       "{'input_ids': tensor([[ 1398, 50256],\n",
       "        [48486, 50256],\n",
       "        [ 1398,   959],\n",
       "        [ 1398,  6386]]), 'attention_mask': tensor([[1, 0],\n",
       "        [1, 0],\n",
       "        [1, 1],\n",
       "        [1, 1]])}"
      ]
     },
     "execution_count": 10,
     "metadata": {},
     "output_type": "execute_result"
    }
   ],
   "source": [
    "tokenizer([' class', ' classy', ' classier', ' classiest'], padding=True, return_tensors='pt')"
   ]
  },
  {
   "cell_type": "code",
   "execution_count": 11,
   "metadata": {},
   "outputs": [
    {
     "data": {
      "text/plain": [
       "[('bad', 'worse', 'worst'),\n",
       " ('big', 'bigger', 'biggest'),\n",
       " ('bright', 'brighter', 'brightest'),\n",
       " ('cheap', 'cheaper', 'cheapest'),\n",
       " ('close', 'closer', 'closest'),\n",
       " ('cool', 'cooler', 'coolest'),\n",
       " ('dark', 'darker', 'darkest'),\n",
       " ('deep', 'deeper', 'deepest'),\n",
       " ('early', 'earlier', 'earliest'),\n",
       " ('easy', 'easier', 'easiest'),\n",
       " ('fast', 'faster', 'fastest'),\n",
       " ('fine', 'finer', 'finest'),\n",
       " ('full', 'fuller', 'fullest'),\n",
       " ('good', 'better', 'best'),\n",
       " ('great', 'greater', 'greatest'),\n",
       " ('happy', 'happier', 'happiest'),\n",
       " ('hard', 'harder', 'hardest'),\n",
       " ('heavy', 'heavier', 'heaviest'),\n",
       " ('high', 'higher', 'highest'),\n",
       " ('hot', 'hotter', 'hottest'),\n",
       " ('large', 'larger', 'largest'),\n",
       " ('late', 'later', 'latest'),\n",
       " ('long', 'longer', 'longest'),\n",
       " ('low', 'lower', 'lowest'),\n",
       " ('near', 'nearer', 'nearest'),\n",
       " ('new', 'newer', 'newest'),\n",
       " ('poor', 'poorer', 'poorest'),\n",
       " ('quick', 'quicker', 'quickest'),\n",
       " ('rich', 'richer', 'richest'),\n",
       " ('safe', 'safer', 'safest'),\n",
       " ('short', 'shorter', 'shortest'),\n",
       " ('simple', 'simpler', 'simplest'),\n",
       " ('small', 'smaller', 'smallest'),\n",
       " ('smart', 'smarter', 'smartest'),\n",
       " ('strong', 'stronger', 'strongest'),\n",
       " ('tall', 'taller', 'tallest'),\n",
       " ('tough', 'tougher', 'toughest'),\n",
       " ('weak', 'weaker', 'weakest'),\n",
       " ('wealthy', 'wealthier', 'wealthiest'),\n",
       " ('wide', 'wider', 'widest'),\n",
       " ('young', 'younger', 'youngest')]"
      ]
     },
     "execution_count": 11,
     "metadata": {},
     "output_type": "execute_result"
    }
   ],
   "source": [
    "filter_single_token = []\n",
    "for b, c, s in zip(base, comparative, superlative):\n",
    "    tokenized = tokenizer([\" \" + b, \" \" + c, \" \" + s], padding=True, return_tensors='pt').input_ids\n",
    "    if(tokenized.shape[1] > 1):\n",
    "        continue\n",
    "    filter_single_token.append((b, c, s))\n",
    "filter_single_token"
   ]
  },
  {
   "cell_type": "code",
   "execution_count": 13,
   "metadata": {},
   "outputs": [
    {
     "name": "stdout",
     "output_type": "stream",
     "text": [
      "strong ===>  strongest\n",
      "big ===>  biggest\n",
      "deep ===>  deepest\n",
      "young ===>  youngest\n"
     ]
    }
   ],
   "source": [
    "prompt = \"\"\"superlative of late is latest\n",
    "superlative of strong is strongest\n",
    "superlaitve of {} is\"\"\"\n",
    "\n",
    "# prompt = \"\"\"grape ends with E\n",
    "# monitor ends with R\n",
    "# glass ends with\"\"\"\n",
    "\n",
    "words = ['strong', 'big', 'deep', 'young']\n",
    "\n",
    "for w in words:\n",
    "    txt, ret_dict = model_utils.generate_fast(\n",
    "        model, tokenizer, \n",
    "        prompts=[prompt.format(w)], max_new_tokens=10, \n",
    "        get_answer_tokens=True, argmax_greedy=True\n",
    "    )\n",
    "    print(f\"{w} ===> {ret_dict['answer'][0]['top_token']}\")\n"
   ]
  },
  {
   "cell_type": "code",
   "execution_count": 15,
   "metadata": {},
   "outputs": [],
   "source": [
    "objects = [\" \" + o[2] for o in filter_single_token]\n",
    "\n",
    "from relations.corner import CornerEstimator\n",
    "corner_estimator = CornerEstimator(\n",
    "    model=model, tokenizer=tokenizer,\n",
    "    # ln_f_name= \"model.decoder.final_layer_norm\", \n",
    "    # unembedder_module_name=\"lm_head\"\n",
    ")"
   ]
  },
  {
   "cell_type": "code",
   "execution_count": 16,
   "metadata": {},
   "outputs": [
    {
     "name": "stdout",
     "output_type": "stream",
     "text": [
      "51.53125 [(' largest', 104.312), (' highest', 103.062), (' longest', 99.688), (' strongest', 99.375), (' smallest', 99.125)]\n"
     ]
    }
   ],
   "source": [
    "simple_corner = corner_estimator.estimate_simple_corner(objects, scale_up=70)\n",
    "print(simple_corner.norm().item(), corner_estimator.get_vocab_representation(simple_corner, get_logits=True))"
   ]
  },
  {
   "cell_type": "code",
   "execution_count": 18,
   "metadata": {},
   "outputs": [],
   "source": [
    "# print(-simple_corner.norm().item(), corner_estimator.get_vocab_representation(-simple_corner, get_logits=True))"
   ]
  },
  {
   "cell_type": "code",
   "execution_count": 19,
   "metadata": {},
   "outputs": [
    {
     "name": "stdout",
     "output_type": "stream",
     "text": [
      "calculating inverse of unbedding weights . . .\n",
      "48.71875 [(' strongest', 74.875), (' fastest', 73.938), (' longest', 73.375), (' largest', 72.0), (' smallest', 70.562)]\n"
     ]
    }
   ],
   "source": [
    "lin_inv_corner = corner_estimator.estimate_lin_inv_corner(objects, target_logit_value=50)\n",
    "print(lin_inv_corner.norm().item(), corner_estimator.get_vocab_representation(lin_inv_corner, get_logits=True))"
   ]
  },
  {
   "cell_type": "code",
   "execution_count": 21,
   "metadata": {},
   "outputs": [
    {
     "name": "stdout",
     "output_type": "stream",
     "text": [
      "39.90625 [(' highest', 88.875), (' largest', 88.625), (' best', 88.5), (' closest', 88.312), (' worst', 88.062)]\n"
     ]
    }
   ],
   "source": [
    "lst_sq_corner = corner_estimator.estimate_corner_lstsq_solve(objects[:15], target_logit=30)\n",
    "print(lst_sq_corner.norm().item(), corner_estimator.get_vocab_representation(lst_sq_corner, get_logits=True))"
   ]
  },
  {
   "cell_type": "code",
   "execution_count": 29,
   "metadata": {},
   "outputs": [
    {
     "name": "stderr",
     "output_type": "stream",
     "text": [
      "/home/local_arnab/Codes/relations/notebooks/../relations/corner.py:159: UserWarning: \n",
      "                model.dtype == torch.float16\n",
      "                the unembedder head will be typecasted to float32 in order to avoid precision underflows.\n",
      "                \n",
      "  \n"
     ]
    },
    {
     "name": "stdout",
     "output_type": "stream",
     "text": [
      "49.5 [(' oldest', 53.219), (' richest', 51.906), (' closest', 50.969), (' fastest', 50.75), (' smallest', 50.531)]\n"
     ]
    }
   ],
   "source": [
    "grad_dsc_corner = corner_estimator.estimate_corner_with_gradient_descent(objects, target_logit_value=50, verbose=False)\n",
    "print(grad_dsc_corner.norm().item(), corner_estimator.get_vocab_representation(grad_dsc_corner, get_logits=True))"
   ]
  },
  {
   "cell_type": "code",
   "execution_count": 30,
   "metadata": {},
   "outputs": [],
   "source": [
    "def check_with_test_cases(relation_operator):\n",
    "    test_cases = [\n",
    "        (b, -1, s) for b, c, s in filter_single_token[15:]\n",
    "    ]\n",
    "    # print(test_cases)\n",
    "    for subject, subject_token_index, target in test_cases:\n",
    "        answer = relation_operator(\n",
    "            subject,\n",
    "            subject_token_index=subject_token_index,\n",
    "            device=model.device,\n",
    "            return_top_k=5,\n",
    "        )\n",
    "        print(f\"{subject}, target: {target}   ==>   predicted: {answer}\")"
   ]
  },
  {
   "cell_type": "code",
   "execution_count": 31,
   "metadata": {},
   "outputs": [
    {
     "name": "stdout",
     "output_type": "stream",
     "text": [
      "happy, target: happiest   ==>   predicted: [' smallest', ' best', ' tallest', ' largest', ' biggest']\n",
      "hard, target: hardest   ==>   predicted: [' smallest', ' lowest', ' closest', ' largest', ' cheapest']\n",
      "heavy, target: heaviest   ==>   predicted: [' heaviest', ' lowest', ' smallest', ' largest', ' best']\n",
      "high, target: highest   ==>   predicted: [' tallest', ' largest', ' smallest', ' best', ' greatest']\n",
      "hot, target: hottest   ==>   predicted: [' largest', ' lowest', ' highest', ' best', ' tallest']\n",
      "large, target: largest   ==>   predicted: [' smallest', ' best', ' greatest', ' lowest', ' largest']\n",
      "late, target: latest   ==>   predicted: [' greatest', ' smallest', ' largest', ' lowest', ' worst']\n",
      "long, target: longest   ==>   predicted: [' tallest', ' largest', ' smallest', ' greatest', ' lowest']\n",
      "low, target: lowest   ==>   predicted: [' tallest', ' smallest', ' greatest', ' largest', ' best']\n",
      "near, target: nearest   ==>   predicted: [' smallest', ' least', ' tallest', ' largest', ' lowest']\n",
      "new, target: newest   ==>   predicted: [' largest', ' tallest', ' best', ' longest', ' highest']\n",
      "poor, target: poorest   ==>   predicted: [' smallest', ' tallest', ' weakest', ' highest', ' lowest']\n",
      "quick, target: quickest   ==>   predicted: [' largest', ' greatest', ' highest', ' fastest', ' smallest']\n",
      "rich, target: richest   ==>   predicted: [' highest', ' best', ' smallest', ' greatest', ' tallest']\n",
      "safe, target: safest   ==>   predicted: [' largest', ' smallest', ' greatest', ' tallest', ' highest']\n",
      "short, target: shortest   ==>   predicted: [' highest', ' largest', ' tallest', ' smallest', ' greatest']\n",
      "simple, target: simplest   ==>   predicted: [' lowest', ' largest', ' highest', ' greatest', ' smallest']\n",
      "small, target: smallest   ==>   predicted: [' highest', ' tallest', ' smallest', ' largest', ' best']\n",
      "smart, target: smartest   ==>   predicted: [' highest', ' smallest', ' closest', ' tallest', ' lowest']\n",
      "strong, target: strongest   ==>   predicted: [' nearest', ' oldest', ' highest', ' lowest', ' worst']\n",
      "tall, target: tallest   ==>   predicted: [' tallest', ' smallest', ' largest', ' highest', ' best']\n",
      "tough, target: toughest   ==>   predicted: [' lowest', ' highest', ' best', ' worst', ' smallest']\n",
      "weak, target: weakest   ==>   predicted: [' lowest', ' smallest', ' largest', ' highest', ' weakest']\n",
      "wealthy, target: wealthiest   ==>   predicted: [' largest', ' greatest', ' smallest', ' highest', ' tallest']\n",
      "wide, target: widest   ==>   predicted: [' widest', ' smallest', ' greatest', ' largest', ' tallest']\n",
      "young, target: youngest   ==>   predicted: [' largest', ' smallest', ' oldest', ' lowest', ' tallest']\n"
     ]
    }
   ],
   "source": [
    "relation = estimate.RelationOperator(\n",
    "    model = model,\n",
    "    tokenizer = tokenizer,\n",
    "    relation = prompt,\n",
    "    layer = 15, \n",
    "    # layer_name_format = \"model.decoder.layers.{}\",\n",
    "    weight = torch.eye(getattr(model.config, n_embd_field)).to(model.dtype).to(model.device),\n",
    "    bias = grad_dsc_corner,\n",
    "\n",
    "    # ln_f_name = \"model.decoder.final_layer_norm\"\n",
    ")\n",
    "\n",
    "check_with_test_cases(relation)"
   ]
  },
  {
   "cell_type": "code",
   "execution_count": 47,
   "metadata": {},
   "outputs": [],
   "source": [
    "def get_averaged_JB(top_performers, relation_prompt, num_icl = 3, calculate_at_lnf = False):\n",
    "    try:\n",
    "        jbs = []\n",
    "        for s, s_idx, o in tqdm(top_performers):\n",
    "            others = set(top_performers) - {(s, s_idx, o)}\n",
    "            others = random.sample(list(others), k = min(num_icl, len(list(others)))) \n",
    "            prompt = \"\"\n",
    "            prompt += \"\\n\".join(relation_prompt.format(s_other) + f\" {o_other}.\" for s_other, idx_other, o_other in others) + \"\\n\"\n",
    "            prompt += relation_prompt\n",
    "            print(\"subject: \", s)\n",
    "            print(prompt)\n",
    "\n",
    "            jb, _ = estimate.relation_operator_from_sample(\n",
    "                model, tokenizer,\n",
    "                s, prompt,\n",
    "                subject_token_index= s_idx,\n",
    "                layer = 15,\n",
    "                device = model.device,\n",
    "                # calculate_at_lnf = calculate_at_lnf,\n",
    "                # layer_name_format = \"model.decoder.layers.{}\",\n",
    "                # ln_f_name = \"model.decoder.final_layer_norm\",\n",
    "                # n_layer_field = \"num_hidden_layers\"\n",
    "            )\n",
    "            print(jb.weight.norm(), jb.bias.norm())\n",
    "            print()\n",
    "            jbs.append(jb)\n",
    "        \n",
    "        weight = torch.stack([jb.weight for jb in jbs]).mean(dim=0)\n",
    "        bias  = torch.stack([jb.bias for jb in jbs]).mean(dim=0)\n",
    "\n",
    "        return weight, bias\n",
    "    except RuntimeError as e:\n",
    "        if(str(e).startswith(\"CUDA out of memory\")):\n",
    "            print(\"CUDA out of memory\")\n",
    "        if(num_icl > 1):\n",
    "            num_icl -= 1\n",
    "            print(\"trying with smaller icl >> \", num_icl)\n",
    "            return get_averaged_JB(top_performers, relation_prompt, num_icl, calculate_at_lnf)\n",
    "        else:\n",
    "            raise Exception(\"RuntimeError >> can't calculate Jacobian with minimum number of icl examples\")\n",
    "\n",
    "def get_multiple_averaged_JB(top_performers, relation_prompt, N = 3, num_icl = 2, calculate_at_lnf = False):\n",
    "    weights_and_biases = []\n",
    "    sample_size = min(len(top_performers), num_icl + 2)\n",
    "    for _ in tqdm(range(N)):\n",
    "        cur_sample = random.sample(top_performers, k = sample_size)\n",
    "        weight, bias = get_averaged_JB(cur_sample, relation_prompt, num_icl, calculate_at_lnf)\n",
    "        weights_and_biases.append({\n",
    "            'weight': weight,\n",
    "            'bias'  : bias\n",
    "        })\n",
    "    return weights_and_biases"
   ]
  },
  {
   "cell_type": "code",
   "execution_count": 48,
   "metadata": {},
   "outputs": [
    {
     "name": "stdout",
     "output_type": "stream",
     "text": [
      "[('bad', -1, 'worst'), ('big', -1, 'biggest'), ('bright', -1, 'brightest'), ('cheap', -1, 'cheapest'), ('close', -1, 'closest'), ('cool', -1, 'coolest'), ('dark', -1, 'darkest'), ('deep', -1, 'deepest'), ('early', -1, 'earliest'), ('easy', -1, 'easiest')]\n"
     ]
    },
    {
     "data": {
      "application/vnd.jupyter.widget-view+json": {
       "model_id": "6b5c256c26654639bb832e39b48e020e",
       "version_major": 2,
       "version_minor": 0
      },
      "text/plain": [
       "  0%|          | 0/3 [00:00<?, ?it/s]"
      ]
     },
     "metadata": {},
     "output_type": "display_data"
    },
    {
     "data": {
      "application/vnd.jupyter.widget-view+json": {
       "model_id": "21eb933afa7146a3b069cfa66a1719fb",
       "version_major": 2,
       "version_minor": 0
      },
      "text/plain": [
       "  0%|          | 0/4 [00:00<?, ?it/s]"
      ]
     },
     "metadata": {},
     "output_type": "display_data"
    },
    {
     "name": "stdout",
     "output_type": "stream",
     "text": [
      "subject:  close\n",
      "superlative of early is earliest.\n",
      "superlative of bright is brightest.\n",
      "superlative of {} is\n",
      "tensor(34.2500, device='cuda:0', dtype=torch.float16) tensor(308.7500, device='cuda:0', dtype=torch.float16)\n",
      "\n",
      "subject:  dark\n",
      "superlative of close is closest.\n",
      "superlative of bright is brightest.\n",
      "superlative of {} is\n",
      "tensor(28.5781, device='cuda:0', dtype=torch.float16) tensor(252.1250, device='cuda:0', dtype=torch.float16)\n",
      "\n",
      "subject:  bright\n",
      "superlative of dark is darkest.\n",
      "superlative of close is closest.\n",
      "superlative of {} is\n",
      "tensor(29.7656, device='cuda:0', dtype=torch.float16) tensor(298., device='cuda:0', dtype=torch.float16)\n",
      "\n",
      "subject:  early\n",
      "superlative of dark is darkest.\n",
      "superlative of close is closest.\n",
      "superlative of {} is\n",
      "tensor(34.7500, device='cuda:0', dtype=torch.float16) tensor(302.2500, device='cuda:0', dtype=torch.float16)\n",
      "\n"
     ]
    },
    {
     "data": {
      "application/vnd.jupyter.widget-view+json": {
       "model_id": "f933f99a9dbf4e8a9fb4e89b0caf7867",
       "version_major": 2,
       "version_minor": 0
      },
      "text/plain": [
       "  0%|          | 0/4 [00:00<?, ?it/s]"
      ]
     },
     "metadata": {},
     "output_type": "display_data"
    },
    {
     "name": "stdout",
     "output_type": "stream",
     "text": [
      "subject:  close\n",
      "superlative of early is earliest.\n",
      "superlative of dark is darkest.\n",
      "superlative of {} is\n",
      "tensor(32.5312, device='cuda:0', dtype=torch.float16) tensor(307.7500, device='cuda:0', dtype=torch.float16)\n",
      "\n",
      "subject:  cheap\n",
      "superlative of early is earliest.\n",
      "superlative of close is closest.\n",
      "superlative of {} is\n",
      "tensor(30.8906, device='cuda:0', dtype=torch.float16) tensor(304., device='cuda:0', dtype=torch.float16)\n",
      "\n",
      "subject:  dark\n",
      "superlative of close is closest.\n",
      "superlative of cheap is cheapest.\n",
      "superlative of {} is\n",
      "tensor(32.5625, device='cuda:0', dtype=torch.float16) tensor(277.7500, device='cuda:0', dtype=torch.float16)\n",
      "\n",
      "subject:  early\n",
      "superlative of close is closest.\n",
      "superlative of cheap is cheapest.\n",
      "superlative of {} is\n",
      "tensor(34.9375, device='cuda:0', dtype=torch.float16) tensor(287.2500, device='cuda:0', dtype=torch.float16)\n",
      "\n"
     ]
    },
    {
     "data": {
      "application/vnd.jupyter.widget-view+json": {
       "model_id": "a3877dcf7e0e412baa052a7a5939725e",
       "version_major": 2,
       "version_minor": 0
      },
      "text/plain": [
       "  0%|          | 0/4 [00:00<?, ?it/s]"
      ]
     },
     "metadata": {},
     "output_type": "display_data"
    },
    {
     "name": "stdout",
     "output_type": "stream",
     "text": [
      "subject:  early\n",
      "superlative of big is biggest.\n",
      "superlative of bright is brightest.\n",
      "superlative of {} is\n",
      "tensor(35.6875, device='cuda:0', dtype=torch.float16) tensor(297.2500, device='cuda:0', dtype=torch.float16)\n",
      "\n",
      "subject:  big\n",
      "superlative of early is earliest.\n",
      "superlative of bright is brightest.\n",
      "superlative of {} is\n",
      "tensor(28.6406, device='cuda:0', dtype=torch.float16) tensor(276.7500, device='cuda:0', dtype=torch.float16)\n",
      "\n",
      "subject:  bright\n",
      "superlative of bad is worst.\n",
      "superlative of early is earliest.\n",
      "superlative of {} is\n",
      "tensor(30.4062, device='cuda:0', dtype=torch.float16) tensor(262., device='cuda:0', dtype=torch.float16)\n",
      "\n",
      "subject:  bad\n",
      "superlative of big is biggest.\n",
      "superlative of bright is brightest.\n",
      "superlative of {} is\n",
      "tensor(31.9062, device='cuda:0', dtype=torch.float16) tensor(290.7500, device='cuda:0', dtype=torch.float16)\n",
      "\n"
     ]
    }
   ],
   "source": [
    "samples = [\n",
    "        (b, -1, s) for b, c, s in filter_single_token[:10]\n",
    "    ]\n",
    "print(samples)\n",
    "\n",
    "weights_and_biases = get_multiple_averaged_JB(\n",
    "    samples, \n",
    "    relation_prompt=\"superlative of {} is\", \n",
    "    N = 3, \n",
    "    calculate_at_lnf=False\n",
    ")"
   ]
  },
  {
   "cell_type": "code",
   "execution_count": 49,
   "metadata": {},
   "outputs": [
    {
     "data": {
      "text/plain": [
       "False"
      ]
     },
     "execution_count": 49,
     "metadata": {},
     "output_type": "execute_result"
    }
   ],
   "source": [
    "'shortest' in objects[:30]"
   ]
  },
  {
   "cell_type": "code",
   "execution_count": 50,
   "metadata": {},
   "outputs": [
    {
     "name": "stdout",
     "output_type": "stream",
     "text": [
      "happy, target: happiest   ==>   predicted: [' happiest', ' best', ' quickest', ' happy', ' richest']\n",
      "hard, target: hardest   ==>   predicted: [' hardest', ' toughest', ' easiest', ' strongest', ' closest']\n",
      "heavy, target: heaviest   ==>   predicted: [' heaviest', ' darkest', ' hardest', ' strongest', ' worst']\n",
      "high, target: highest   ==>   predicted: [' highest', ' tallest', ' lowest', ' richest', ' cheapest']\n",
      "hot, target: hottest   ==>   predicted: [' hottest', ' coolest', ' fastest', ' quickest', ' worst']\n",
      "large, target: largest   ==>   predicted: [' largest', ' biggest', ' widest', ' smallest', ' greatest']\n",
      "late, target: latest   ==>   predicted: [' latest', ' newest', ' oldest', ' earliest', ' longest']\n",
      "long, target: longest   ==>   predicted: [' longest', ' shortest', ' oldest', ' tallest', ' earliest']\n",
      "low, target: lowest   ==>   predicted: [' lowest', ' poorest', ' cheapest', ' weakest', ' smallest']\n",
      "near, target: nearest   ==>   predicted: [' nearest', ' closest', ' oldest', ' newest', ' shortest']\n",
      "new, target: newest   ==>   predicted: [' newest', ' latest', ' oldest', ' youngest', ' earliest']\n",
      "poor, target: poorest   ==>   predicted: [' poorest', ' worst', ' cheapest', ' weakest', ' richest']\n",
      "quick, target: quickest   ==>   predicted: [' quickest', ' fastest', ' shortest', ' easiest', ' earliest']\n",
      "rich, target: richest   ==>   predicted: [' richest', ' wealthiest', ' cheapest', ' poorest', ' deepest']\n",
      "safe, target: safest   ==>   predicted: [' safest', ' cheapest', ' easiest', ' safer', ' quickest']\n",
      "short, target: shortest   ==>   predicted: [' shortest', ' quickest', ' longest', ' smallest', ' tallest']\n",
      "simple, target: simplest   ==>   predicted: [' simplest', ' easiest', ' cheapest', ' smallest', ' earliest']\n",
      "small, target: smallest   ==>   predicted: [' smallest', ' weakest', ' lowest', ' shortest', ' cheapest']\n",
      "smart, target: smartest   ==>   predicted: [' smartest', ' quickest', ' brightest', ' best', ' fastest']\n",
      "strong, target: strongest   ==>   predicted: [' strongest', ' weakest', ' fastest', ' heaviest', ' hardest']\n",
      "tall, target: tallest   ==>   predicted: [' tallest', ' longest', ' shortest', ' highest', ' oldest']\n",
      "tough, target: toughest   ==>   predicted: [' toughest', ' hardest', ' weakest', ' strongest', ' worst']\n",
      "weak, target: weakest   ==>   predicted: [' weakest', ' poorest', ' strongest', ' lowest', ' worst']\n",
      "wealthy, target: wealthiest   ==>   predicted: [' wealthiest', ' richest', ' cheapest', ' poorest', ' happiest']\n",
      "wide, target: widest   ==>   predicted: [' widest', ' largest', ' fullest', ' biggest', ' deepest']\n",
      "young, target: youngest   ==>   predicted: [' youngest', ' newest', ' oldest', ' latest', ' earliest']\n"
     ]
    }
   ],
   "source": [
    "relation_operator = estimate.RelationOperator(\n",
    "    model = model,\n",
    "    tokenizer= tokenizer,\n",
    "    relation = prompt,\n",
    "    layer = 15,\n",
    "    weight = torch.stack(\n",
    "        [wb['weight'] for wb in weights_and_biases]\n",
    "    ).mean(dim=0),\n",
    "    # bias = torch.stack(\n",
    "    #     [wb['bias'] for wb in weights_and_biases]\n",
    "    # ).mean(dim=0),\n",
    "    bias = grad_dsc_corner,\n",
    "\n",
    "    # layer_name_format = \"model.decoder.layers.{}\",\n",
    "    # ln_f_name = \"model.decoder.final_layer_norm\",\n",
    ")\n",
    "\n",
    "check_with_test_cases(relation_operator)"
   ]
  },
  {
   "cell_type": "code",
   "execution_count": 51,
   "metadata": {},
   "outputs": [
    {
     "data": {
      "text/plain": [
       "[(' most', 20.312),\n",
       " ('\\n', 19.234),\n",
       " (' the', 19.109),\n",
       " (' least', 17.797),\n",
       " (' ', 16.922)]"
      ]
     },
     "execution_count": 51,
     "metadata": {},
     "output_type": "execute_result"
    }
   ],
   "source": [
    "corner_estimator.get_vocab_representation(\n",
    "    torch.stack(\n",
    "        [wb['bias'] for wb in weights_and_biases]\n",
    "    ).mean(dim=0), get_logits=True\n",
    ")"
   ]
  },
  {
   "cell_type": "code",
   "execution_count": 56,
   "metadata": {},
   "outputs": [],
   "source": [
    "from relations.utils import visualize_matrix, low_rank_approximation"
   ]
  },
  {
   "cell_type": "code",
   "execution_count": 57,
   "metadata": {},
   "outputs": [
    {
     "data": {
      "image/png": "[encoded data removed]",
      "text/plain": [
       "<Figure size 640x480 with 2 Axes>"
      ]
     },
     "metadata": {},
     "output_type": "display_data"
    }
   ],
   "source": [
    "mean_jacobian = torch.stack(\n",
    "        [wb['weight'] for wb in weights_and_biases]\n",
    "    ).mean(dim=0)\n",
    "\n",
    "visualize_matrix(mean_jacobian)"
   ]
  },
  {
   "cell_type": "code",
   "execution_count": 70,
   "metadata": {},
   "outputs": [
    {
     "name": "stdout",
     "output_type": "stream",
     "text": [
      "rank 300 >>  tensor(60.8318, device='cuda:0')\n"
     ]
    },
    {
     "data": {
      "image/png": "[encoded data removed]",
      "text/plain": [
       "<Figure size 640x480 with 2 Axes>"
      ]
     },
     "metadata": {},
     "output_type": "display_data"
    }
   ],
   "source": [
    "I = torch.eye(model.config.n_embd).to(model.dtype).to(model.device)\n",
    "residual_add = mean_jacobian - I\n",
    "\n",
    "residual_add_approx = low_rank_approximation(residual_add, rank = 300)\n",
    "jacobian_approx = I + residual_add_approx\n",
    "visualize_matrix(jacobian_approx)"
   ]
  },
  {
   "cell_type": "code",
   "execution_count": 71,
   "metadata": {},
   "outputs": [
    {
     "name": "stdout",
     "output_type": "stream",
     "text": [
      "happy, target: happiest   ==>   predicted: [' happiest', ' quickest', ' fastest', ' best', ' richest']\n",
      "hard, target: hardest   ==>   predicted: [' hardest', ' closest', ' poorest', ' fastest', ' smallest']\n",
      "heavy, target: heaviest   ==>   predicted: [' heaviest', ' lowest', ' largest', ' hardest', ' highest']\n",
      "high, target: highest   ==>   predicted: [' tallest', ' highest', ' largest', ' greatest', ' best']\n",
      "hot, target: hottest   ==>   predicted: [' hottest', ' highest', ' fastest', ' largest', ' quickest']\n",
      "large, target: largest   ==>   predicted: [' largest', ' smallest', ' biggest', ' greatest', ' tallest']\n",
      "late, target: latest   ==>   predicted: [' latest', ' largest', ' longest', ' newest', ' lowest']\n",
      "long, target: longest   ==>   predicted: [' longest', ' tallest', ' shortest', ' largest', ' oldest']\n",
      "low, target: lowest   ==>   predicted: [' lowest', ' poorest', ' smallest', ' tallest', ' least']\n",
      "near, target: nearest   ==>   predicted: [' nearest', ' smallest', ' least', ' tallest', ' largest']\n",
      "new, target: newest   ==>   predicted: [' largest', ' latest', ' newest', ' youngest', ' earliest']\n",
      "poor, target: poorest   ==>   predicted: [' poorest', ' worst', ' cheapest', ' lowest', ' weakest']\n",
      "quick, target: quickest   ==>   predicted: [' quickest', ' fastest', ' shortest', ' easiest', ' largest']\n",
      "rich, target: richest   ==>   predicted: [' richest', ' wealthiest', ' cheapest', ' deepest', ' best']\n",
      "safe, target: safest   ==>   predicted: [' safest', ' best', ' easiest', ' cheapest', ' smallest']\n",
      "short, target: shortest   ==>   predicted: [' shortest', ' smallest', ' tallest', ' quickest', ' lowest']\n",
      "simple, target: simplest   ==>   predicted: [' easiest', ' smallest', ' lowest', ' cheapest', ' simplest']\n",
      "small, target: smallest   ==>   predicted: [' smallest', ' lowest', ' shortest', ' largest', ' poorest']\n",
      "smart, target: smartest   ==>   predicted: [' smartest', ' quickest', ' closest', ' smallest', ' best']\n",
      "strong, target: strongest   ==>   predicted: [' strongest', ' weakest', ' nearest', ' oldest', ' highest']\n",
      "tall, target: tallest   ==>   predicted: [' tallest', ' largest', ' smallest', ' highest', ' lowest']\n",
      "tough, target: toughest   ==>   predicted: [' toughest', ' worst', ' hardest', ' best', ' strongest']\n",
      "weak, target: weakest   ==>   predicted: [' weakest', ' lowest', ' poorest', ' smallest', ' largest']\n",
      "wealthy, target: wealthiest   ==>   predicted: [' wealthiest', ' richest', ' cheapest', ' largest', ' best']\n",
      "wide, target: widest   ==>   predicted: [' widest', ' largest', ' smallest', ' greatest', ' biggest']\n",
      "young, target: youngest   ==>   predicted: [' youngest', ' smallest', ' lowest', ' earliest', ' largest']\n"
     ]
    }
   ],
   "source": [
    "relation_operator = estimate.RelationOperator(\n",
    "    model = model,\n",
    "    tokenizer= tokenizer,\n",
    "    relation = prompt,\n",
    "    layer = 15,\n",
    "    weight = jacobian_approx,\n",
    "    bias = grad_dsc_corner,\n",
    "\n",
    "    # layer_name_format = \"model.decoder.layers.{}\",\n",
    "    # ln_f_name = \"model.decoder.final_layer_norm\",\n",
    ")\n",
    "\n",
    "check_with_test_cases(relation_operator)"
   ]
  },
  {
   "cell_type": "code",
   "execution_count": null,
   "metadata": {},
   "outputs": [],
   "source": []
  }
 ],
 "metadata": {
  "kernelspec": {
   "display_name": "Python 3 (ipykernel)",
   "language": "python",
   "name": "python3"
  },
  "language_info": {
   "codemirror_mode": {
    "name": "ipython",
    "version": 3
   },
   "file_extension": ".py",
   "mimetype": "text/x-python",
   "name": "python",
   "nbconvert_exporter": "python",
   "pygments_lexer": "ipython3",
   "version": "3.10.10"
  },
  "vscode": {
   "interpreter": {
    "hash": "4104f34302edfbfea7294aa0a5e7d82342a152e8e30f6673f70b28d5f99d4ac0"
   }
  }
 },
 "nbformat": 4,
 "nbformat_minor": 2
}
