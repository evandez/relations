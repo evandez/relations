{
 "cells": [
  {
   "cell_type": "code",
   "execution_count": 1,
   "metadata": {},
   "outputs": [],
   "source": [
    "%load_ext autoreload\n",
    "%autoreload 2"
   ]
  },
  {
   "cell_type": "code",
   "execution_count": 2,
   "metadata": {},
   "outputs": [],
   "source": [
    "import matplotlib.pyplot as plt\n",
    "import os\n",
    "import json\n",
    "import sys\n",
    "import numpy as np\n",
    "sys.path.append(\"..\")\n",
    "import copy"
   ]
  },
  {
   "cell_type": "code",
   "execution_count": 3,
   "metadata": {},
   "outputs": [],
   "source": [
    "from src import models, data, operators, utils, functional, metrics, lens\n",
    "from src.utils import logging_utils\n",
    "import logging\n",
    "import torch\n",
    "import baukit\n",
    "\n",
    "logger = logging.getLogger(__name__)\n",
    "\n",
    "logging.basicConfig(\n",
    "    level=logging.INFO,\n",
    "    format = logging_utils.DEFAULT_FORMAT,\n",
    "    datefmt=logging_utils.DEFAULT_DATEFMT,\n",
    "    stream=sys.stdout\n",
    ")"
   ]
  },
  {
   "cell_type": "code",
   "execution_count": 4,
   "metadata": {},
   "outputs": [
    {
     "name": "stdout",
     "output_type": "stream",
     "text": [
      "2023-06-13 23:24:28 src.models INFO     loading EleutherAI/gpt-j-6B (device=cuda, fp16=True)\n"
     ]
    }
   ],
   "source": [
    "mt = models.load_model(name = \"gptj\", fp16 = True, device = \"cuda\")"
   ]
  },
  {
   "cell_type": "code",
   "execution_count": 113,
   "metadata": {},
   "outputs": [],
   "source": [
    "relation = data.load_dataset().filter(relation_names=[\"country capital city\"])[0].set(prompt_templates=[\" {}:\"])\n",
    "train, test = relation.split(5)"
   ]
  },
  {
   "cell_type": "code",
   "execution_count": 114,
   "metadata": {},
   "outputs": [
    {
     "name": "stdout",
     "output_type": "stream",
     "text": [
      "<|endoftext|> South Korea: Seoul\n",
      " China: Beijing\n",
      " Italy: Rome\n",
      " Russia: Moscow\n",
      " France: Paris\n",
      " {}:\n"
     ]
    }
   ],
   "source": [
    "icl_prompt = functional.make_prompt(\n",
    "    prompt_template = train.prompt_templates[0],\n",
    "    subject = \"{}\",\n",
    "    examples = train.samples,\n",
    "    mt = mt\n",
    ")\n",
    "print(icl_prompt)"
   ]
  },
  {
   "cell_type": "code",
   "execution_count": 115,
   "metadata": {},
   "outputs": [
    {
     "data": {
      "text/plain": [
       "14"
      ]
     },
     "execution_count": 115,
     "metadata": {},
     "output_type": "execute_result"
    }
   ],
   "source": [
    "test = functional.filter_relation_samples_based_on_provided_fewshots(\n",
    "    mt = mt, \n",
    "    test_relation=test,\n",
    "    prompt_template = icl_prompt,\n",
    "    batch_size=4\n",
    ")\n",
    "len(test.samples)"
   ]
  },
  {
   "attachments": {},
   "cell_type": "markdown",
   "metadata": {},
   "source": [
    "### Current Method => Calculate $b_r$ and $W_r$ individually and average them."
   ]
  },
  {
   "cell_type": "code",
   "execution_count": 118,
   "metadata": {},
   "outputs": [
    {
     "name": "stdout",
     "output_type": "stream",
     "text": [
      "South Korea -> Seoul | z_norm=244.5 | z_proj=24.53125 || o_pred=([(' inter', 0.083), (' San', 0.029), (' Alaska', 0.027)], {})\n",
      "China -> Beijing | z_norm=265.0 | z_proj=21.328125 || o_pred=([(' Washington', 0.815), ('Washington', 0.028), (' Moscow', 0.012)], {})\n",
      "Italy -> Rome | z_norm=262.0 | z_proj=20.890625 || o_pred=([(' Madrid', 0.188), (' Moscow', 0.139), (' Paris', 0.089)], {})\n",
      "Russia -> Moscow | z_norm=250.75 | z_proj=22.703125 || o_pred=([(' Taiwanese', 0.283), (' Taiwan', 0.139), (' Hungary', 0.076)], {})\n",
      "France -> Paris | z_norm=261.25 | z_proj=19.3125 || o_pred=([(' Bon', 0.16), (' Rome', 0.033), (' Jerusalem', 0.016)], {})\n",
      "\n",
      "projection with mean weight\n",
      "South Korea -> Seoul | z_norm=244.5 | z_proj=35.84375 || o_pred=([(' Seoul', 0.999), (' Korean', 0.001), (' Korea', 0.0)], {})\n",
      "China -> Beijing | z_norm=265.0 | z_proj=38.65625 || o_pred=([(' Chinese', 0.487), (' Shanghai', 0.176), (' Beijing', 0.158)], {})\n",
      "Italy -> Rome | z_norm=262.0 | z_proj=35.46875 || o_pred=([(' Italy', 0.594), (' Rome', 0.193), (' Italian', 0.091)], {})\n",
      "Russia -> Moscow | z_norm=250.75 | z_proj=33.1875 || o_pred=([(' Moscow', 0.62), (' Russian', 0.08), (' Russia', 0.063)], {})\n",
      "France -> Paris | z_norm=261.25 | z_proj=31.0 || o_pred=([('\\xad', 0.08), ('\\xa0', 0.011), (' \\xad', 0.011)], {})\n"
     ]
    }
   ],
   "source": [
    "estimator = operators.JacobianIclMeanEstimator(\n",
    "    mt = mt, h_layer=7, beta=0.2\n",
    ")\n",
    "operator = estimator(train)"
   ]
  },
  {
   "cell_type": "code",
   "execution_count": 119,
   "metadata": {},
   "outputs": [
    {
     "name": "stdout",
     "output_type": "stream",
     "text": [
      "sample.subject='Argentina' -> sample.object='Buenos Aires' | pred=' Buenos (p=0.956)'\n",
      "sample.subject='Chile' -> sample.object='Santiago' | pred=' Santiago (p=0.637)'\n",
      "sample.subject='Colombia' -> sample.object='Bogot\\\\u00e1' | pred=' Bog (p=0.736)'\n",
      "sample.subject='Egypt' -> sample.object='Cairo' | pred=' Cairo (p=0.970)'\n",
      "sample.subject='Germany' -> sample.object='Berlin' | pred=' Berlin (p=0.958)'\n",
      "sample.subject='India' -> sample.object='New Delhi' | pred=' Delhi (p=0.574)'\n",
      "sample.subject='Japan' -> sample.object='Tokyo' | pred=' Tokyo (p=0.986)'\n",
      "sample.subject='Mexico' -> sample.object='Mexico City' | pred=' Mexico (p=0.990)'\n",
      "sample.subject='Pakistan' -> sample.object='Islamabad' | pred=' Islamabad (p=0.558)'\n",
      "sample.subject='Peru' -> sample.object='Lima' | pred=' Lima (p=0.923)'\n",
      "sample.subject='Saudi Arabia' -> sample.object='Riyadh' | pred=' Riyadh (p=0.233)'\n",
      "sample.subject='Spain' -> sample.object='Madrid' | pred=' Madrid (p=0.784)'\n",
      "sample.subject='United States' -> sample.object='Washington D.C.' | pred=' Washington (p=0.623)'\n",
      "sample.subject='Venezuela' -> sample.object='Caracas' | pred=' Car (p=0.572)'\n"
     ]
    },
    {
     "data": {
      "text/plain": [
       "[0.9285714285714286, 0.9285714285714286, 0.9285714285714286]"
      ]
     },
     "execution_count": 119,
     "metadata": {},
     "output_type": "execute_result"
    }
   ],
   "source": [
    "# calculate faithfulness\n",
    "def evaluate_operator(operator, test_samples):\n",
    "    pred_objects = []\n",
    "    test_objects = []\n",
    "    for sample in test_samples:\n",
    "        test_objects.append(sample.object)\n",
    "        preds = operator(sample.subject, k=3)\n",
    "        pred = str(preds.predictions[0])\n",
    "        print(f\"{sample.subject=} -> {sample.object=} | {pred=}\")\n",
    "        pred_objects.append([p.token for p in preds.predictions])\n",
    "\n",
    "    recall = metrics.recall(pred_objects, test_objects)\n",
    "    return recall\n",
    "\n",
    "evaluate_operator(operator, test.samples)"
   ]
  },
  {
   "cell_type": "code",
   "execution_count": 120,
   "metadata": {},
   "outputs": [
    {
     "data": {
      "text/plain": [
       "([(' Paris', 0.174),\n",
       "  (' ', 0.126),\n",
       "  ('\\n', 0.068),\n",
       "  (' London', 0.057),\n",
       "  (' Beijing', 0.051),\n",
       "  (' New', 0.025),\n",
       "  (' Rome', 0.025),\n",
       "  (' Moscow', 0.024),\n",
       "  (' P', 0.018),\n",
       "  (' B', 0.015)],\n",
       " {})"
      ]
     },
     "execution_count": 120,
     "metadata": {},
     "output_type": "execute_result"
    }
   ],
   "source": [
    "lens.logit_lens(mt = mt, h = operator.bias, get_proba=True, k = 10)"
   ]
  },
  {
   "attachments": {},
   "cell_type": "markdown",
   "metadata": {},
   "source": [
    "### Get rid of the $\\beta$ by setting $\\beta = 1$"
   ]
  },
  {
   "cell_type": "code",
   "execution_count": 121,
   "metadata": {},
   "outputs": [
    {
     "name": "stdout",
     "output_type": "stream",
     "text": [
      "sample.subject='Argentina' -> sample.object='Buenos Aires' | pred='  (p=0.162)'\n",
      "sample.subject='Chile' -> sample.object='Santiago' | pred='  (p=0.208)'\n",
      "sample.subject='Colombia' -> sample.object='Bogot\\\\u00e1' | pred='  (p=0.197)'\n",
      "sample.subject='Egypt' -> sample.object='Cairo' | pred='  (p=0.162)'\n",
      "sample.subject='Germany' -> sample.object='Berlin' | pred=' Berlin (p=0.312)'\n",
      "sample.subject='India' -> sample.object='New Delhi' | pred=' New (p=0.155)'\n",
      "sample.subject='Japan' -> sample.object='Tokyo' | pred=' Tokyo (p=0.550)'\n",
      "sample.subject='Mexico' -> sample.object='Mexico City' | pred='  (p=0.152)'\n",
      "sample.subject='Pakistan' -> sample.object='Islamabad' | pred=' Beijing (p=0.148)'\n",
      "sample.subject='Peru' -> sample.object='Lima' | pred='  (p=0.166)'\n",
      "sample.subject='Saudi Arabia' -> sample.object='Riyadh' | pred='  (p=0.202)'\n",
      "sample.subject='Spain' -> sample.object='Madrid' | pred='  (p=0.151)'\n",
      "sample.subject='United States' -> sample.object='Washington D.C.' | pred=' New (p=0.130)'\n",
      "sample.subject='Venezuela' -> sample.object='Caracas' | pred='  (p=0.247)'\n"
     ]
    },
    {
     "data": {
      "text/plain": [
       "[0.21428571428571427, 0.21428571428571427, 0.2857142857142857]"
      ]
     },
     "execution_count": 121,
     "metadata": {},
     "output_type": "execute_result"
    }
   ],
   "source": [
    "# operator_dct = deepcopy(operator.__dict__)\n",
    "operator_dct = operator.__dict__.copy()\n",
    "operator_dct[\"beta\"] = None\n",
    "operator_no_beta = operators.LinearRelationOperator(**operator_dct)\n",
    "\n",
    "evaluate_operator(operator_no_beta, test.samples)"
   ]
  },
  {
   "cell_type": "code",
   "execution_count": 122,
   "metadata": {},
   "outputs": [],
   "source": [
    "hs_and_zs = functional.compute_hs_and_zs(\n",
    "    mt = mt,\n",
    "    prompt_template = train.prompt_templates[0],\n",
    "    subjects = [sample.subject for sample in relation.samples],\n",
    "    h_layer= operator.h_layer,\n",
    "    z_layer=-1,\n",
    "    batch_size=4,\n",
    "    examples= train.samples\n",
    ")"
   ]
  },
  {
   "cell_type": "code",
   "execution_count": 123,
   "metadata": {},
   "outputs": [
    {
     "name": "stdout",
     "output_type": "stream",
     "text": [
      "subj='South Korea' -> obj='Seoul' | h_norm=69.6875 | z_norm=244.625 || pred=PredictedToken(token=' Seoul', prob=0.9904340505599976)\n",
      "subj='China' -> obj='Beijing' | h_norm=71.3125 | z_norm=265.0 || pred=PredictedToken(token=' Beijing', prob=0.9328234791755676)\n",
      "subj='Italy' -> obj='Rome' | h_norm=70.875 | z_norm=262.0 || pred=PredictedToken(token=' Rome', prob=0.8342717885971069)\n",
      "subj='Russia' -> obj='Moscow' | h_norm=69.875 | z_norm=250.625 || pred=PredictedToken(token=' Moscow', prob=0.936684250831604)\n",
      "subj='France' -> obj='Paris' | h_norm=71.75 | z_norm=261.0 || pred=PredictedToken(token=' Paris', prob=0.9446226358413696)\n"
     ]
    }
   ],
   "source": [
    "for sample in train.samples:\n",
    "    subj = sample.subject\n",
    "    obj = sample.object\n",
    "    pred = functional.predict_next_token(\n",
    "        mt = mt,\n",
    "        prompt = functional.make_prompt(\n",
    "            prompt_template = train.prompt_templates[0],\n",
    "            subject = subj,\n",
    "            examples = train.samples,\n",
    "            mt = mt\n",
    "        )\n",
    "    )[0][0]\n",
    "    h_norm = hs_and_zs.h_by_subj[subj].norm().item()\n",
    "    z_norm = hs_and_zs.z_by_subj[subj].norm().item()\n",
    "    print(f\"{subj=} -> {obj=} | {h_norm=} | {z_norm=} || {pred=}\")"
   ]
  },
  {
   "attachments": {},
   "cell_type": "markdown",
   "metadata": {},
   "source": [
    "### $b_r = \\mathbf{o}_{mean} - J\\mathbf{s}_{mean}$"
   ]
  },
  {
   "cell_type": "code",
   "execution_count": 124,
   "metadata": {},
   "outputs": [
    {
     "name": "stdout",
     "output_type": "stream",
     "text": [
      "tensor(19.5469, device='cuda:0', dtype=torch.float16, grad_fn=<DistBackward0>)\n"
     ]
    }
   ],
   "source": [
    "z_mean = torch.stack([hs_and_zs.z_by_subj[sample.subject] for sample in train.samples]).mean(dim = 0)\n",
    "h_mean = torch.stack([hs_and_zs.h_by_subj[sample.subject] for sample in train.samples]).mean(dim = 0)\n",
    "\n",
    "bias_mean = z_mean - operator.weight @ h_mean\n",
    "print(torch.dist(bias_mean, operator.bias))"
   ]
  },
  {
   "cell_type": "code",
   "execution_count": 125,
   "metadata": {},
   "outputs": [
    {
     "name": "stdout",
     "output_type": "stream",
     "text": [
      "sample.subject='Argentina' -> sample.object='Buenos Aires' | pred='  (p=0.129)'\n",
      "sample.subject='Chile' -> sample.object='Santiago' | pred='  (p=0.174)'\n",
      "sample.subject='Colombia' -> sample.object='Bogot\\\\u00e1' | pred=' Paris (p=0.170)'\n",
      "sample.subject='Egypt' -> sample.object='Cairo' | pred='\\n (p=0.134)'\n",
      "sample.subject='Germany' -> sample.object='Berlin' | pred=' Berlin (p=0.378)'\n",
      "sample.subject='India' -> sample.object='New Delhi' | pred=' New (p=0.200)'\n",
      "sample.subject='Japan' -> sample.object='Tokyo' | pred=' Tokyo (p=0.456)'\n",
      "sample.subject='Mexico' -> sample.object='Mexico City' | pred=' Paris (p=0.156)'\n",
      "sample.subject='Pakistan' -> sample.object='Islamabad' | pred='  (p=0.098)'\n",
      "sample.subject='Peru' -> sample.object='Lima' | pred='  (p=0.137)'\n",
      "sample.subject='Saudi Arabia' -> sample.object='Riyadh' | pred='  (p=0.163)'\n",
      "sample.subject='Spain' -> sample.object='Madrid' | pred=' Paris (p=0.196)'\n",
      "sample.subject='United States' -> sample.object='Washington D.C.' | pred=' New (p=0.159)'\n",
      "sample.subject='Venezuela' -> sample.object='Caracas' | pred='  (p=0.208)'\n"
     ]
    },
    {
     "data": {
      "text/plain": [
       "[0.21428571428571427, 0.35714285714285715, 0.35714285714285715]"
      ]
     },
     "execution_count": 125,
     "metadata": {},
     "output_type": "execute_result"
    }
   ],
   "source": [
    "operator_dct = operator.__dict__.copy()\n",
    "operator_dct[\"beta\"] = 1 #.2\n",
    "operator_dct[\"bias\"] = bias_mean\n",
    "operator_bias_J = operators.LinearRelationOperator(**operator_dct)\n",
    "\n",
    "evaluate_operator(operator_bias_J, test.samples)"
   ]
  },
  {
   "attachments": {},
   "cell_type": "markdown",
   "metadata": {},
   "source": [
    "### $b_r = F(\\mathbf{s}_{mean}) -J\\mathbf{s}_{mean}$"
   ]
  },
  {
   "cell_type": "code",
   "execution_count": 126,
   "metadata": {},
   "outputs": [],
   "source": [
    "h_layer_name, z_layer_name = models.determine_layer_paths(mt, layers = [operator.h_layer, operator.z_layer])"
   ]
  },
  {
   "cell_type": "code",
   "execution_count": 127,
   "metadata": {},
   "outputs": [
    {
     "data": {
      "text/plain": [
       "dict_keys(['United States', 'Canada', 'Mexico', 'Brazil', 'Argentina', 'Chile', 'Peru', 'Colombia', 'Venezuela', 'Spain', 'France', 'Germany', 'Italy', 'Russia', 'China', 'Japan', 'South Korea', 'India', 'Pakistan', 'Nigeria', 'Egypt', 'Saudi Arabia', 'Turkey', 'Australia'])"
      ]
     },
     "execution_count": 127,
     "metadata": {},
     "output_type": "execute_result"
    }
   ],
   "source": [
    "hs_and_zs.h_by_subj.keys()"
   ]
  },
  {
   "cell_type": "code",
   "execution_count": 128,
   "metadata": {},
   "outputs": [
    {
     "data": {
      "text/plain": [
       "[(' Beijing', 0.665),\n",
       " (' Shanghai', 0.131),\n",
       " (' Tokyo', 0.065),\n",
       " (' Seoul', 0.035),\n",
       " (' Hong', 0.015),\n",
       " (' P', 0.007),\n",
       " (' Paris', 0.006),\n",
       " (' Xi', 0.005),\n",
       " (' Guang', 0.004),\n",
       " (' Tai', 0.003)]"
      ]
     },
     "execution_count": 128,
     "metadata": {},
     "output_type": "execute_result"
    }
   ],
   "source": [
    "def get_intervention(h, int_layer, subj_idx):\n",
    "    def edit_output(output, layer):\n",
    "        if(layer != int_layer):\n",
    "            return output\n",
    "        functional.untuple(output)[:, subj_idx] = h\n",
    "        return output\n",
    "    return edit_output\n",
    "\n",
    "subject = \"Russia\"\n",
    "prompt = icl_prompt.format(subject)\n",
    "\n",
    "h_index, inputs = functional.find_subject_token_index(\n",
    "    mt=mt,\n",
    "    prompt=prompt,\n",
    "    subject=subject,\n",
    ")\n",
    "\n",
    "with baukit.TraceDict(\n",
    "    mt.model, layers = [h_layer_name, z_layer_name],\n",
    "    edit_output=get_intervention(h_mean, h_layer_name, h_index)\n",
    ") as traces:\n",
    "    outputs = mt.model(\n",
    "        input_ids = inputs.input_ids,\n",
    "        attention_mask = inputs.attention_mask,\n",
    "    )\n",
    "\n",
    "lens.interpret_logits(\n",
    "    mt = mt, \n",
    "    logits = outputs.logits[0][-1], \n",
    "    get_proba=True\n",
    ")"
   ]
  },
  {
   "cell_type": "code",
   "execution_count": 129,
   "metadata": {},
   "outputs": [
    {
     "data": {
      "text/plain": [
       "torch.Size([4096])"
      ]
     },
     "execution_count": 129,
     "metadata": {},
     "output_type": "execute_result"
    }
   ],
   "source": [
    "s = functional.untuple(traces[h_layer_name].output)[0][h_index]\n",
    "s.shape"
   ]
  },
  {
   "cell_type": "code",
   "execution_count": 130,
   "metadata": {},
   "outputs": [
    {
     "name": "stdout",
     "output_type": "stream",
     "text": [
      "tensor(71.5625, device='cuda:0', dtype=torch.float16, grad_fn=<DistBackward0>)\n"
     ]
    },
    {
     "data": {
      "text/plain": [
       "([(' Beijing', 0.627),\n",
       "  (' Shanghai', 0.116),\n",
       "  (' Tokyo', 0.051),\n",
       "  (' Seoul', 0.027),\n",
       "  (' Hong', 0.024),\n",
       "  (' Paris', 0.015),\n",
       "  (' Guang', 0.01),\n",
       "  (' Nan', 0.009),\n",
       "  (' P', 0.009),\n",
       "  (' Xi', 0.007)],\n",
       " {})"
      ]
     },
     "execution_count": 130,
     "metadata": {},
     "output_type": "execute_result"
    }
   ],
   "source": [
    "z_mean_F = traces[z_layer_name].output[0][-1][-1]\n",
    "# lens.logit_lens(mt = mt, h = z_mean_F, get_proba=True)\n",
    "bias_F = z_mean_F - operator.weight @ h_mean\n",
    "print(torch.dist(bias_F, operator.bias))\n",
    "lens.logit_lens(mt = mt, h = bias_F, get_proba=True)"
   ]
  },
  {
   "cell_type": "code",
   "execution_count": 131,
   "metadata": {},
   "outputs": [
    {
     "name": "stdout",
     "output_type": "stream",
     "text": [
      "sample.subject='Argentina' -> sample.object='Buenos Aires' | pred=' Beijing (p=0.687)'\n",
      "sample.subject='Chile' -> sample.object='Santiago' | pred=' Beijing (p=0.712)'\n",
      "sample.subject='Colombia' -> sample.object='Bogot\\\\u00e1' | pred=' Beijing (p=0.531)'\n",
      "sample.subject='Egypt' -> sample.object='Cairo' | pred=' Beijing (p=0.725)'\n",
      "sample.subject='Germany' -> sample.object='Berlin' | pred=' Beijing (p=0.528)'\n",
      "sample.subject='India' -> sample.object='New Delhi' | pred=' Beijing (p=0.600)'\n",
      "sample.subject='Japan' -> sample.object='Tokyo' | pred=' Tokyo (p=0.790)'\n",
      "sample.subject='Mexico' -> sample.object='Mexico City' | pred=' Beijing (p=0.710)'\n",
      "sample.subject='Pakistan' -> sample.object='Islamabad' | pred=' Beijing (p=0.729)'\n",
      "sample.subject='Peru' -> sample.object='Lima' | pred=' Beijing (p=0.648)'\n",
      "sample.subject='Saudi Arabia' -> sample.object='Riyadh' | pred=' Beijing (p=0.644)'\n",
      "sample.subject='Spain' -> sample.object='Madrid' | pred=' Beijing (p=0.547)'\n",
      "sample.subject='United States' -> sample.object='Washington D.C.' | pred=' Beijing (p=0.553)'\n",
      "sample.subject='Venezuela' -> sample.object='Caracas' | pred=' Beijing (p=0.664)'\n"
     ]
    },
    {
     "data": {
      "text/plain": [
       "[0.07142857142857142, 0.07142857142857142, 0.07142857142857142]"
      ]
     },
     "execution_count": 131,
     "metadata": {},
     "output_type": "execute_result"
    }
   ],
   "source": [
    "operator_dct = operator.__dict__.copy()\n",
    "operator_dct[\"beta\"] = 1 #.2\n",
    "operator_dct[\"bias\"] = bias_F\n",
    "operator_bias_J = operators.LinearRelationOperator(**operator_dct)\n",
    "\n",
    "evaluate_operator(operator_bias_J, test.samples)"
   ]
  },
  {
   "attachments": {},
   "cell_type": "markdown",
   "metadata": {},
   "source": [
    "### Make all the $|\\mathbf{o}|$ similar"
   ]
  },
  {
   "cell_type": "code",
   "execution_count": 132,
   "metadata": {},
   "outputs": [
    {
     "name": "stdout",
     "output_type": "stream",
     "text": [
      "tensor(22.9219, device='cuda:0', dtype=torch.float16, grad_fn=<DistBackward0>)\n"
     ]
    },
    {
     "data": {
      "text/plain": [
       "([(' Paris', 0.243),\n",
       "  (' ', 0.089),\n",
       "  (' London', 0.071),\n",
       "  ('\\n', 0.053),\n",
       "  (' New', 0.031),\n",
       "  (' Beijing', 0.025),\n",
       "  (' Moscow', 0.024),\n",
       "  (' Brussels', 0.022),\n",
       "  (' Rome', 0.022),\n",
       "  (' T', 0.016)],\n",
       " {})"
      ]
     },
     "execution_count": 132,
     "metadata": {},
     "output_type": "execute_result"
    }
   ],
   "source": [
    "z_s = torch.stack([hs_and_zs.z_by_subj[sample.subject] for sample in train.samples])\n",
    "min_norm = z_s.norm(dim = 1).min()\n",
    "z_s = torch.stack([(z*min_norm)/z.norm() for z in z_s])\n",
    "\n",
    "z_mean = z_s.mean(dim = 0)\n",
    "bias_mean = z_mean - operator.weight @ h_mean\n",
    "\n",
    "print(torch.dist(bias_mean, operator.bias))\n",
    "lens.logit_lens(mt = mt, h = bias_mean, get_proba=True)"
   ]
  },
  {
   "cell_type": "code",
   "execution_count": 133,
   "metadata": {},
   "outputs": [
    {
     "name": "stdout",
     "output_type": "stream",
     "text": [
      "sample.subject='Argentina' -> sample.object='Buenos Aires' | pred='  (p=0.129)'\n",
      "sample.subject='Chile' -> sample.object='Santiago' | pred='  (p=0.177)'\n",
      "sample.subject='Colombia' -> sample.object='Bogot\\\\u00e1' | pred=' Paris (p=0.164)'\n",
      "sample.subject='Egypt' -> sample.object='Cairo' | pred='\\n (p=0.138)'\n",
      "sample.subject='Germany' -> sample.object='Berlin' | pred=' Berlin (p=0.427)'\n",
      "sample.subject='India' -> sample.object='New Delhi' | pred=' New (p=0.216)'\n",
      "sample.subject='Japan' -> sample.object='Tokyo' | pred=' Tokyo (p=0.507)'\n",
      "sample.subject='Mexico' -> sample.object='Mexico City' | pred=' Paris (p=0.150)'\n",
      "sample.subject='Pakistan' -> sample.object='Islamabad' | pred='  (p=0.096)'\n",
      "sample.subject='Peru' -> sample.object='Lima' | pred='  (p=0.136)'\n",
      "sample.subject='Saudi Arabia' -> sample.object='Riyadh' | pred='  (p=0.165)'\n",
      "sample.subject='Spain' -> sample.object='Madrid' | pred=' Paris (p=0.188)'\n",
      "sample.subject='United States' -> sample.object='Washington D.C.' | pred=' New (p=0.169)'\n",
      "sample.subject='Venezuela' -> sample.object='Caracas' | pred='  (p=0.211)'\n"
     ]
    },
    {
     "data": {
      "text/plain": [
       "[0.21428571428571427, 0.35714285714285715, 0.35714285714285715]"
      ]
     },
     "execution_count": 133,
     "metadata": {},
     "output_type": "execute_result"
    }
   ],
   "source": [
    "operator_dct = operator.__dict__.copy()\n",
    "operator_dct[\"beta\"] = 1 #.2\n",
    "operator_dct[\"bias\"] = bias_mean\n",
    "operator_similar_o = operators.LinearRelationOperator(**operator_dct)\n",
    "\n",
    "evaluate_operator(operator_similar_o, test.samples)"
   ]
  },
  {
   "attachments": {},
   "cell_type": "markdown",
   "metadata": {},
   "source": [
    "### Automatically *tune* $\\beta$ for each training sample "
   ]
  },
  {
   "cell_type": "code",
   "execution_count": 134,
   "metadata": {},
   "outputs": [
    {
     "name": "stdout",
     "output_type": "stream",
     "text": [
      "subj='South Korea' | h_norm=69.6875 | z_norm=244.625 || b_norm=239.125\n",
      "obj='Seoul' | beta=0.0 | z_est=35.84375 | pred=[(' Seoul', 0.999), (' Korean', 0.001), (' Korea', 0.0)]\n",
      "\n",
      "subj='China' | h_norm=71.3125 | z_norm=265.0 || b_norm=251.0\n",
      "obj='Beijing' | beta=0.0 | z_est=38.65625 | pred=[(' Chinese', 0.489), (' Shanghai', 0.177), (' Beijing', 0.156)]\n",
      "obj='Beijing' | beta=0.1111111111111111 | z_est=53.9375 | pred=[(' Beijing', 0.837), (' Shanghai', 0.135), (' Chinese', 0.013)]\n",
      "\n",
      "subj='Italy' | h_norm=70.875 | z_norm=262.0 || b_norm=251.75\n",
      "obj='Rome' | beta=0.0 | z_est=35.46875 | pred=[(' Italy', 0.591), (' Rome', 0.195), (' Italian', 0.091)]\n",
      "obj='Rome' | beta=0.1111111111111111 | z_est=49.8125 | pred=[(' Rome', 0.866), (' Milan', 0.075), (' Italy', 0.05)]\n",
      "\n",
      "subj='Russia' | h_norm=69.875 | z_norm=250.625 || b_norm=244.75\n",
      "obj='Moscow' | beta=0.0 | z_est=33.1875 | pred=[(' Moscow', 0.619), (' Russian', 0.08), (' Russians', 0.064)]\n",
      "\n",
      "subj='France' | h_norm=71.75 | z_norm=261.0 || b_norm=258.75\n",
      "obj='Paris' | beta=0.0 | z_est=31.0 | pred=[('\\xad', 0.08), ('\\xa0', 0.011), (' \\xad', 0.011)]\n",
      "obj='Paris' | beta=0.1111111111111111 | z_est=42.53125 | pred=[(' Paris', 0.974), (' Lyon', 0.003), (' ', 0.002)]\n",
      "\n"
     ]
    }
   ],
   "source": [
    "training_hs = torch.stack([hs_and_zs.h_by_subj[sample.subject] for sample in train.samples])\n",
    "training_zs = torch.stack([hs_and_zs.z_by_subj[sample.subject] for sample in train.samples])\n",
    "\n",
    "biases = []\n",
    "for sample in train.samples:\n",
    "    subj = sample.subject\n",
    "    obj = sample.object\n",
    "    h = hs_and_zs.h_by_subj[subj]\n",
    "    z = hs_and_zs.z_by_subj[subj]\n",
    "    b_sample = z - operator.weight @ h\n",
    "    print(f\"{subj=} | h_norm={h.norm()} | z_norm={z.norm()} || b_norm={b_sample.norm()}\")\n",
    "    for beta in np.linspace(0, 1, 10):\n",
    "        z_est = operator.weight @ h + b_sample * beta\n",
    "        pred, _ = lens.logit_lens(mt = mt, h = z_est, get_proba=True, k = 3)\n",
    "        print(f\"{obj=} | {beta=} | z_est={z_est.norm()} | {pred=}\")\n",
    "        top_token = pred[0][0]\n",
    "        if functional.is_nontrivial_prefix(prediction=top_token, target=sample.object):\n",
    "            biases.append(b_sample * beta)\n",
    "            break\n",
    "    print()"
   ]
  },
  {
   "cell_type": "code",
   "execution_count": 135,
   "metadata": {},
   "outputs": [
    {
     "name": "stdout",
     "output_type": "stream",
     "text": [
      "South Korea -> Seoul | z_norm=244.5 | z_proj=24.53125 || o_pred=([(' inter', 0.083), (' San', 0.029), (' Alaska', 0.027)], {})\n",
      "China -> Beijing | z_norm=265.0 | z_proj=21.328125 || o_pred=([(' Washington', 0.815), ('Washington', 0.028), (' Moscow', 0.012)], {})\n",
      "Italy -> Rome | z_norm=262.0 | z_proj=20.890625 || o_pred=([(' Madrid', 0.188), (' Moscow', 0.139), (' Paris', 0.089)], {})\n",
      "Russia -> Moscow | z_norm=250.75 | z_proj=22.703125 || o_pred=([(' Taiwanese', 0.283), (' Taiwan', 0.139), (' Hungary', 0.076)], {})\n",
      "France -> Paris | z_norm=261.25 | z_proj=19.3125 || o_pred=([(' Bon', 0.16), (' Rome', 0.033), (' Jerusalem', 0.016)], {})\n",
      "\n",
      "projection with mean weight\n",
      "South Korea -> Seoul | z_norm=244.5 | z_proj=35.84375 || o_pred=([(' Seoul', 0.999), (' Korean', 0.001), (' Korea', 0.0)], {})\n",
      "China -> Beijing | z_norm=265.0 | z_proj=38.65625 || o_pred=([(' Chinese', 0.487), (' Shanghai', 0.176), (' Beijing', 0.158)], {})\n",
      "Italy -> Rome | z_norm=262.0 | z_proj=35.46875 || o_pred=([(' Italy', 0.594), (' Rome', 0.193), (' Italian', 0.091)], {})\n",
      "Russia -> Moscow | z_norm=250.75 | z_proj=33.1875 || o_pred=([(' Moscow', 0.62), (' Russian', 0.08), (' Russia', 0.063)], {})\n",
      "France -> Paris | z_norm=261.25 | z_proj=31.0 || o_pred=([('\\xad', 0.08), ('\\xa0', 0.011), (' \\xad', 0.011)], {})\n"
     ]
    }
   ],
   "source": [
    "operator = estimator(train)"
   ]
  },
  {
   "cell_type": "code",
   "execution_count": 136,
   "metadata": {},
   "outputs": [
    {
     "name": "stdout",
     "output_type": "stream",
     "text": [
      "subj='South Korea' | h_norm=69.6875 | z_norm=244.5 || b_norm=242.375\n",
      "obj='Seoul' | beta=0.0 | z_est=24.53125 | pred=[(' inter', 0.083), (' San', 0.029), (' Alaska', 0.027)]\n",
      "obj='Seoul' | beta=0.1111111111111111 | z_est=37.09375 | pred=[(' Seoul', 0.843), (' Tokyo', 0.039), (' Los', 0.015)]\n",
      "\n",
      "subj='China' | h_norm=71.3125 | z_norm=265.0 || b_norm=261.25\n",
      "obj='Beijing' | beta=0.0 | z_est=21.328125 | pred=[(' Washington', 0.815), ('Washington', 0.028), (' Moscow', 0.012)]\n",
      "obj='Beijing' | beta=0.1111111111111111 | z_est=38.3125 | pred=[(' Beijing', 0.925), (' Shanghai', 0.016), (' Washington', 0.015)]\n",
      "\n",
      "subj='Italy' | h_norm=70.875 | z_norm=262.0 || b_norm=259.0\n",
      "obj='Rome' | beta=0.0 | z_est=20.890625 | pred=[(' Madrid', 0.187), (' Moscow', 0.138), (' Paris', 0.088)]\n",
      "obj='Rome' | beta=0.1111111111111111 | z_est=37.34375 | pred=[(' Rome', 0.863), (' Madrid', 0.024), (' London', 0.023)]\n",
      "\n",
      "subj='Russia' | h_norm=69.875 | z_norm=250.75 || b_norm=249.75\n",
      "obj='Moscow' | beta=0.0 | z_est=22.703125 | pred=[(' Taiwanese', 0.283), (' Taiwan', 0.139), (' Hungary', 0.077)]\n",
      "obj='Moscow' | beta=0.1111111111111111 | z_est=35.8125 | pred=[(' Moscow', 0.797), (' Berlin', 0.021), (' Seoul', 0.014)]\n",
      "\n",
      "subj='France' | h_norm=71.75 | z_norm=261.25 || b_norm=256.25\n",
      "obj='Paris' | beta=0.0 | z_est=19.3125 | pred=[(' Bon', 0.16), (' Rome', 0.033), (' Jerusalem', 0.017)]\n",
      "obj='Paris' | beta=0.1111111111111111 | z_est=37.65625 | pred=[(' Paris', 0.933), (' Lyon', 0.011), (' T', 0.009)]\n",
      "\n"
     ]
    }
   ],
   "source": [
    "biases = []\n",
    "for sample, approx in zip(train.samples, operator.metadata[\"approxes\"]):\n",
    "    subj = sample.subject\n",
    "    obj = sample.object\n",
    "    h = approx.h\n",
    "    z = approx.z\n",
    "    print(f\"{subj=} | h_norm={h.norm()} | z_norm={z.norm()} || b_norm={approx.bias.norm()}\")\n",
    "    for beta in np.linspace(0, 1, 10):\n",
    "        z_est = approx.weight @ h + approx.bias * beta\n",
    "        pred, _ = lens.logit_lens(mt = mt, h = z_est, get_proba=True, k = 3)\n",
    "        print(f\"{obj=} | {beta=} | z_est={z_est.norm()} | {pred=}\")\n",
    "        top_token = pred[0][0]\n",
    "        if functional.is_nontrivial_prefix(prediction=top_token, target=sample.object):\n",
    "            biases.append(b_sample * beta)\n",
    "            break\n",
    "    print()"
   ]
  },
  {
   "cell_type": "code",
   "execution_count": 137,
   "metadata": {},
   "outputs": [
    {
     "name": "stdout",
     "output_type": "stream",
     "text": [
      "sample.subject='Argentina' -> sample.object='Buenos Aires' | pred=' Buenos (p=0.802)'\n",
      "sample.subject='Chile' -> sample.object='Santiago' | pred=' Santiago (p=0.547)'\n",
      "sample.subject='Colombia' -> sample.object='Bogot\\\\u00e1' | pred=' Colombia (p=0.397)'\n",
      "sample.subject='Egypt' -> sample.object='Cairo' | pred=' Cairo (p=0.946)'\n",
      "sample.subject='Germany' -> sample.object='Berlin' | pred=' Berlin (p=0.898)'\n",
      "sample.subject='India' -> sample.object='New Delhi' | pred=' India (p=0.560)'\n",
      "sample.subject='Japan' -> sample.object='Tokyo' | pred=' Tokyo (p=0.981)'\n",
      "sample.subject='Mexico' -> sample.object='Mexico City' | pred=' Mexico (p=0.983)'\n",
      "sample.subject='Pakistan' -> sample.object='Islamabad' | pred=' Pakistan (p=0.488)'\n",
      "sample.subject='Peru' -> sample.object='Lima' | pred=' Lima (p=0.838)'\n",
      "sample.subject='Saudi Arabia' -> sample.object='Riyadh' | pred=' Riyadh (p=0.506)'\n",
      "sample.subject='Spain' -> sample.object='Madrid' | pred=' Madrid (p=0.676)'\n",
      "sample.subject='United States' -> sample.object='Washington D.C.' | pred=' Washington (p=0.782)'\n",
      "sample.subject='Venezuela' -> sample.object='Caracas' | pred=' Venezuela (p=0.537)'\n"
     ]
    },
    {
     "data": {
      "text/plain": [
       "[0.7142857142857143, 0.9285714285714286, 0.9285714285714286]"
      ]
     },
     "execution_count": 137,
     "metadata": {},
     "output_type": "execute_result"
    }
   ],
   "source": [
    "b_mean = torch.stack(biases).mean(dim = 0)\n",
    "\n",
    "operator_dct = operator.__dict__.copy()\n",
    "operator_dct[\"beta\"] = 1 #.2\n",
    "operator_dct[\"bias\"] = b_mean\n",
    "operator_auto_beta = operators.LinearRelationOperator(**operator_dct)\n",
    "\n",
    "evaluate_operator(operator_auto_beta, test.samples)"
   ]
  },
  {
   "attachments": {},
   "cell_type": "markdown",
   "metadata": {},
   "source": [
    "### Drop $J\\mathbf{s}$ entirely from bias estimation. (basically the corner method?)"
   ]
  },
  {
   "cell_type": "code",
   "execution_count": 138,
   "metadata": {},
   "outputs": [
    {
     "name": "stdout",
     "output_type": "stream",
     "text": [
      "tensor(10.5078, device='cuda:0', dtype=torch.float16, grad_fn=<DistBackward0>)\n"
     ]
    },
    {
     "data": {
      "text/plain": [
       "([(' Paris', 0.172),\n",
       "  (' ', 0.128),\n",
       "  ('\\n', 0.068),\n",
       "  (' London', 0.058),\n",
       "  (' Beijing', 0.049),\n",
       "  (' New', 0.026),\n",
       "  (' Moscow', 0.025),\n",
       "  (' Rome', 0.024),\n",
       "  (' P', 0.018),\n",
       "  (' Seoul', 0.015)],\n",
       " {})"
      ]
     },
     "execution_count": 138,
     "metadata": {},
     "output_type": "execute_result"
    }
   ],
   "source": [
    "biases = torch.stack([approx.bias[0] for approx in operator.metadata[\"approxes\"]])\n",
    "min_norm = biases.norm(dim = 1).min()\n",
    "\n",
    "biases = torch.stack([(b*min_norm)/b.norm() for b in biases])\n",
    "b_mean = biases.mean(dim = 0)\n",
    "\n",
    "print(torch.dist(b_mean, operator.bias))\n",
    "lens.logit_lens(mt = mt, h = b_mean, get_proba=True)"
   ]
  },
  {
   "cell_type": "code",
   "execution_count": 139,
   "metadata": {},
   "outputs": [
    {
     "data": {
      "text/plain": [
       "(222.25, 232.75)"
      ]
     },
     "execution_count": 139,
     "metadata": {},
     "output_type": "execute_result"
    }
   ],
   "source": [
    "b_mean.norm().item(), operator.bias.norm().item()"
   ]
  },
  {
   "cell_type": "code",
   "execution_count": 140,
   "metadata": {},
   "outputs": [
    {
     "name": "stdout",
     "output_type": "stream",
     "text": [
      "sample.subject='Argentina' -> sample.object='Buenos Aires' | pred=' Buenos (p=0.953)'\n",
      "sample.subject='Chile' -> sample.object='Santiago' | pred=' Santiago (p=0.637)'\n",
      "sample.subject='Colombia' -> sample.object='Bogot\\\\u00e1' | pred=' Bog (p=0.743)'\n",
      "sample.subject='Egypt' -> sample.object='Cairo' | pred=' Cairo (p=0.969)'\n",
      "sample.subject='Germany' -> sample.object='Berlin' | pred=' Berlin (p=0.956)'\n",
      "sample.subject='India' -> sample.object='New Delhi' | pred=' Delhi (p=0.567)'\n",
      "sample.subject='Japan' -> sample.object='Tokyo' | pred=' Tokyo (p=0.986)'\n",
      "sample.subject='Mexico' -> sample.object='Mexico City' | pred=' Mexico (p=0.991)'\n",
      "sample.subject='Pakistan' -> sample.object='Islamabad' | pred=' Islamabad (p=0.549)'\n",
      "sample.subject='Peru' -> sample.object='Lima' | pred=' Lima (p=0.928)'\n",
      "sample.subject='Saudi Arabia' -> sample.object='Riyadh' | pred=' Riyadh (p=0.270)'\n",
      "sample.subject='Spain' -> sample.object='Madrid' | pred=' Madrid (p=0.778)'\n",
      "sample.subject='United States' -> sample.object='Washington D.C.' | pred=' Washington (p=0.639)'\n",
      "sample.subject='Venezuela' -> sample.object='Caracas' | pred=' Car (p=0.547)'\n"
     ]
    },
    {
     "data": {
      "text/plain": [
       "[0.9285714285714286, 0.9285714285714286, 0.9285714285714286]"
      ]
     },
     "execution_count": 140,
     "metadata": {},
     "output_type": "execute_result"
    }
   ],
   "source": [
    "operator_dct = operator.__dict__.copy()\n",
    "operator_dct[\"beta\"] = .2 #.2\n",
    "operator_dct[\"bias\"] = b_mean\n",
    "operator_dropped_js = operators.LinearRelationOperator(**operator_dct)\n",
    "\n",
    "evaluate_operator(operator_dropped_js, test.samples)"
   ]
  },
  {
   "cell_type": "code",
   "execution_count": 141,
   "metadata": {},
   "outputs": [
    {
     "name": "stdout",
     "output_type": "stream",
     "text": [
      "tensor(230.1250, device='cuda:0', dtype=torch.float16, grad_fn=<DistBackward0>)\n"
     ]
    },
    {
     "data": {
      "text/plain": [
       "([(' Paris', 0.452),\n",
       "  (' Moscow', 0.375),\n",
       "  (' Madrid', 0.114),\n",
       "  (' Berlin', 0.026),\n",
       "  (' Tokyo', 0.019),\n",
       "  (' Beijing', 0.014),\n",
       "  (' London', 0.0),\n",
       "  (' Rome', 0.0),\n",
       "  (' Cairo', 0.0),\n",
       "  (' Washington', 0.0)],\n",
       " {})"
      ]
     },
     "execution_count": 141,
     "metadata": {},
     "output_type": "execute_result"
    }
   ],
   "source": [
    "translation_estimator = operators.OffsetEstimatorBaseline(\n",
    "    mt = mt,\n",
    "    h_layer = operator.h_layer,\n",
    "    z_layer=operator.z_layer,\n",
    "    mode = \"icl\",\n",
    ")\n",
    "\n",
    "translation = translation_estimator(\n",
    "    relation.set(\n",
    "        samples = train.samples + test.samples\n",
    "    )\n",
    ")\n",
    "corner = translation.bias\n",
    "\n",
    "print(torch.dist(corner, operator.bias))\n",
    "lens.logit_lens(mt = mt, h = corner, get_proba=True)"
   ]
  },
  {
   "cell_type": "code",
   "execution_count": 142,
   "metadata": {},
   "outputs": [
    {
     "name": "stdout",
     "output_type": "stream",
     "text": [
      "sample.subject='Argentina' -> sample.object='Buenos Aires' | pred=' Paris (p=0.819)'\n",
      "sample.subject='Chile' -> sample.object='Santiago' | pred=' Paris (p=0.596)'\n",
      "sample.subject='Colombia' -> sample.object='Bogot\\\\u00e1' | pred=' Paris (p=0.631)'\n",
      "sample.subject='Egypt' -> sample.object='Cairo' | pred=' Beijing (p=0.431)'\n",
      "sample.subject='Germany' -> sample.object='Berlin' | pred=' Paris (p=0.592)'\n",
      "sample.subject='India' -> sample.object='New Delhi' | pred=' Paris (p=0.328)'\n",
      "sample.subject='Japan' -> sample.object='Tokyo' | pred=' Paris (p=0.828)'\n",
      "sample.subject='Mexico' -> sample.object='Mexico City' | pred=' Paris (p=0.538)'\n",
      "sample.subject='Pakistan' -> sample.object='Islamabad' | pred=' Beijing (p=0.280)'\n",
      "sample.subject='Peru' -> sample.object='Lima' | pred=' Madrid (p=0.304)'\n",
      "sample.subject='Saudi Arabia' -> sample.object='Riyadh' | pred=' Paris (p=0.505)'\n",
      "sample.subject='Spain' -> sample.object='Madrid' | pred=' Paris (p=0.682)'\n",
      "sample.subject='United States' -> sample.object='Washington D.C.' | pred=' Paris (p=0.647)'\n",
      "sample.subject='Venezuela' -> sample.object='Caracas' | pred=' Paris (p=0.561)'\n"
     ]
    },
    {
     "data": {
      "text/plain": [
       "[0.0, 0.07142857142857142, 0.07142857142857142]"
      ]
     },
     "execution_count": 142,
     "metadata": {},
     "output_type": "execute_result"
    }
   ],
   "source": [
    "evaluate_operator(translation, test.samples)"
   ]
  },
  {
   "cell_type": "code",
   "execution_count": 145,
   "metadata": {},
   "outputs": [
    {
     "name": "stdout",
     "output_type": "stream",
     "text": [
      "sample.subject='Argentina' -> sample.object='Buenos Aires' | pred=' Buenos (p=1.000)'\n",
      "sample.subject='Chile' -> sample.object='Santiago' | pred=' Santiago (p=0.732)'\n",
      "sample.subject='Colombia' -> sample.object='Bogot\\\\u00e1' | pred=' Madrid (p=0.718)'\n",
      "sample.subject='Egypt' -> sample.object='Cairo' | pred=' Cairo (p=1.000)'\n",
      "sample.subject='Germany' -> sample.object='Berlin' | pred=' Berlin (p=1.000)'\n",
      "sample.subject='India' -> sample.object='New Delhi' | pred=' Delhi (p=0.849)'\n",
      "sample.subject='Japan' -> sample.object='Tokyo' | pred=' Tokyo (p=1.000)'\n",
      "sample.subject='Mexico' -> sample.object='Mexico City' | pred=' Mexico (p=0.997)'\n",
      "sample.subject='Pakistan' -> sample.object='Islamabad' | pred=' Beijing (p=0.519)'\n",
      "sample.subject='Peru' -> sample.object='Lima' | pred=' Lima (p=0.973)'\n",
      "sample.subject='Saudi Arabia' -> sample.object='Riyadh' | pred=' Beijing (p=0.484)'\n",
      "sample.subject='Spain' -> sample.object='Madrid' | pred=' Madrid (p=1.000)'\n",
      "sample.subject='United States' -> sample.object='Washington D.C.' | pred=' Washington (p=0.913)'\n",
      "sample.subject='Venezuela' -> sample.object='Caracas' | pred=' Madrid (p=0.479)'\n"
     ]
    },
    {
     "data": {
      "text/plain": [
       "[0.6428571428571429, 0.7142857142857143, 0.7142857142857143]"
      ]
     },
     "execution_count": 145,
     "metadata": {},
     "output_type": "execute_result"
    }
   ],
   "source": [
    "operator_dct = operator.__dict__.copy()\n",
    "operator_dct[\"beta\"] = 1 #.2\n",
    "operator_dct[\"bias\"] = corner\n",
    "operator_corner = operators.LinearRelationOperator(**operator_dct)\n",
    "\n",
    "evaluate_operator(operator_corner, test.samples)"
   ]
  },
  {
   "cell_type": "code",
   "execution_count": null,
   "metadata": {},
   "outputs": [],
   "source": []
  },
  {
   "cell_type": "code",
   "execution_count": null,
   "metadata": {},
   "outputs": [],
   "source": []
  },
  {
   "cell_type": "code",
   "execution_count": null,
   "metadata": {},
   "outputs": [],
   "source": []
  },
  {
   "cell_type": "code",
   "execution_count": null,
   "metadata": {},
   "outputs": [],
   "source": []
  },
  {
   "cell_type": "code",
   "execution_count": 3,
   "metadata": {},
   "outputs": [],
   "source": [
    "from scripts.explain_beta import TrialResult, AllTrialResults"
   ]
  },
  {
   "cell_type": "code",
   "execution_count": 4,
   "metadata": {},
   "outputs": [],
   "source": [
    "beta_path = \"../results/explain_beta/gptj\"\n",
    "\n",
    "results = {}\n",
    "for relation_folder in os.listdir(beta_path):\n",
    "    relation_path = os.path.join(beta_path, relation_folder)\n",
    "    for n_train in os.listdir(relation_path):\n",
    "        n_train_path = os.path.join(relation_path, n_train)\n",
    "        for file in os.listdir(n_train_path):\n",
    "            with open(f\"{n_train_path}/{file}\") as f:\n",
    "                data = json.load(f)\n",
    "                data = AllTrialResults.from_dict(data)\n",
    "                if(data.relation_name not in results):\n",
    "                    results[data.relation_name] = {}\n",
    "                _n_train = len(data.trials[0].train_samples)\n",
    "                if _n_train not in results[data.relation_name]:\n",
    "                    results[data.relation_name][_n_train] = data                   \n",
    "                else:\n",
    "                    results[data.relation_name][_n_train].trials.extend(data.trials)"
   ]
  },
  {
   "cell_type": "code",
   "execution_count": 16,
   "metadata": {},
   "outputs": [],
   "source": [
    "relations = list(results.keys())\n",
    "relation = relations[0]\n",
    "# relations"
   ]
  },
  {
   "cell_type": "code",
   "execution_count": 17,
   "metadata": {},
   "outputs": [
    {
     "data": {
      "text/plain": [
       "[1, 2, 3, 4, 5, 6, 7, 8, 9, 10, 11, 12, 13, 14, 15]"
      ]
     },
     "execution_count": 17,
     "metadata": {},
     "output_type": "execute_result"
    }
   ],
   "source": [
    "train_options = sorted(list(results[relation].keys()))\n",
    "train_options"
   ]
  },
  {
   "cell_type": "code",
   "execution_count": 31,
   "metadata": {},
   "outputs": [],
   "source": [
    "bias_norms = [\n",
    "    np.array([trial.W_norm for trial in results[relation][n_train].trials])\n",
    "    for n_train in train_options\n",
    "]\n",
    "\n",
    "means = np.array([np.mean(bias_norm) for bias_norm in bias_norms])\n",
    "stds = np.array([np.std(bias_norm) for bias_norm in bias_norms])"
   ]
  },
  {
   "cell_type": "code",
   "execution_count": 33,
   "metadata": {},
   "outputs": [
    {
     "data": {
      "text/plain": [
       "Text(0, 0.5, 'bias norm')"
      ]
     },
     "execution_count": 33,
     "metadata": {},
     "output_type": "execute_result"
    },
    {
     "data": {
      "image/png": "[encoded data removed]",
      "text/plain": [
       "<Figure size 1280x960 with 1 Axes>"
      ]
     },
     "metadata": {},
     "output_type": "display_data"
    }
   ],
   "source": [
    "plt.rcdefaults()\n",
    "#####################################################################################\n",
    "plt.rcParams[\"figure.dpi\"] = 200\n",
    "plt.rcParams[\"font.family\"] = \"Times New Roman\"\n",
    "\n",
    "SMALL_SIZE = 18\n",
    "MEDIUM_SIZE = 20\n",
    "BIGGER_SIZE = 24\n",
    "\n",
    "plt.rc(\"font\", size=SMALL_SIZE)  # controls default text sizes\n",
    "plt.rc(\"axes\", titlesize=BIGGER_SIZE)  # fontsize of the axes title\n",
    "plt.rc(\"axes\", labelsize=MEDIUM_SIZE+5)  # fontsize of the x and y labels\n",
    "plt.rc(\"xtick\", labelsize=SMALL_SIZE)  # fontsize of the tick labels\n",
    "plt.rc(\"ytick\", labelsize=MEDIUM_SIZE)  # fontsize of the tick labels\n",
    "plt.rc(\"legend\", fontsize=SMALL_SIZE)  # legend fontsize\n",
    "plt.rc(\"axes\", titlesize=BIGGER_SIZE)  # fontsize of the figure title\n",
    "plt.rc(\"figure\", titlesize=BIGGER_SIZE)  # fontsize of the figure title\n",
    "#####################################################################################\n",
    "\n",
    "plt.plot(train_options, means)\n",
    "plt.fill_between(train_options, means - stds, means + stds, alpha=0.2)\n",
    "# plt.ylim(bottom = 270)\n",
    "plt.xticks(train_options)\n",
    "plt.xlabel(\"n_train\")\n",
    "plt.ylabel(\"bias norm\")"
   ]
  },
  {
   "cell_type": "code",
   "execution_count": null,
   "metadata": {},
   "outputs": [],
   "source": []
  }
 ],
 "metadata": {
  "kernelspec": {
   "display_name": "Python 3",
   "language": "python",
   "name": "python3"
  },
  "language_info": {
   "codemirror_mode": {
    "name": "ipython",
    "version": 3
   },
   "file_extension": ".py",
   "mimetype": "text/x-python",
   "name": "python",
   "nbconvert_exporter": "python",
   "pygments_lexer": "ipython3",
   "version": "3.10.11"
  },
  "orig_nbformat": 4
 },
 "nbformat": 4,
 "nbformat_minor": 2
}
