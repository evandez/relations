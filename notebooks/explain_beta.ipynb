{
 "cells": [
  {
   "cell_type": "code",
   "execution_count": 1,
   "metadata": {},
   "outputs": [],
   "source": [
    "%load_ext autoreload\n",
    "%autoreload 2"
   ]
  },
  {
   "cell_type": "code",
   "execution_count": 2,
   "metadata": {},
   "outputs": [],
   "source": [
    "import matplotlib.pyplot as plt\n",
    "import os\n",
    "import json\n",
    "import sys\n",
    "import numpy as np\n",
    "sys.path.append(\"..\")\n",
    "import copy"
   ]
  },
  {
   "cell_type": "code",
   "execution_count": 3,
   "metadata": {},
   "outputs": [],
   "source": [
    "from src import models, data, operators, utils, functional, metrics, lens\n",
    "from src.utils import logging_utils\n",
    "import logging\n",
    "import torch\n",
    "import baukit\n",
    "\n",
    "logger = logging.getLogger(__name__)\n",
    "\n",
    "logging.basicConfig(\n",
    "    level=logging.INFO,\n",
    "    format = logging_utils.DEFAULT_FORMAT,\n",
    "    datefmt=logging_utils.DEFAULT_DATEFMT,\n",
    "    stream=sys.stdout\n",
    ")"
   ]
  },
  {
   "cell_type": "code",
   "execution_count": 4,
   "metadata": {},
   "outputs": [
    {
     "name": "stdout",
     "output_type": "stream",
     "text": [
      "2023-06-14 15:09:17 src.models INFO     loading EleutherAI/gpt-j-6B (device=cuda, fp16=True)\n"
     ]
    }
   ],
   "source": [
    "mt = models.load_model(name = \"gptj\", fp16 = True, device = \"cuda\")"
   ]
  },
  {
   "cell_type": "code",
   "execution_count": 5,
   "metadata": {},
   "outputs": [],
   "source": [
    "relation = data.load_dataset().filter(relation_names=[\"country capital city\"])[0].set(prompt_templates=[\" {}:\"])\n",
    "train, test = relation.split(5)"
   ]
  },
  {
   "cell_type": "code",
   "execution_count": 6,
   "metadata": {},
   "outputs": [
    {
     "name": "stdout",
     "output_type": "stream",
     "text": [
      "<|endoftext|> India: New Delhi\n",
      " South Korea: Seoul\n",
      " France: Paris\n",
      " Colombia: Bogot\\u00e1\n",
      " Russia: Moscow\n",
      " {}:\n"
     ]
    }
   ],
   "source": [
    "icl_prompt = functional.make_prompt(\n",
    "    prompt_template = train.prompt_templates[0],\n",
    "    subject = \"{}\",\n",
    "    examples = train.samples,\n",
    "    mt = mt\n",
    ")\n",
    "print(icl_prompt)"
   ]
  },
  {
   "cell_type": "code",
   "execution_count": 7,
   "metadata": {},
   "outputs": [
    {
     "data": {
      "text/plain": [
       "14"
      ]
     },
     "execution_count": 7,
     "metadata": {},
     "output_type": "execute_result"
    }
   ],
   "source": [
    "test = functional.filter_relation_samples_based_on_provided_fewshots(\n",
    "    mt = mt, \n",
    "    test_relation=test,\n",
    "    prompt_template = icl_prompt,\n",
    "    batch_size=4\n",
    ")\n",
    "len(test.samples)"
   ]
  },
  {
   "attachments": {},
   "cell_type": "markdown",
   "metadata": {},
   "source": [
    "### Current Method => Calculate $b_r$ and $W_r$ individually and average them."
   ]
  },
  {
   "cell_type": "code",
   "execution_count": 8,
   "metadata": {},
   "outputs": [
    {
     "name": "stdout",
     "output_type": "stream",
     "text": [
      "India -> New Delhi | z_norm=294.25 | z_proj=21.765625 || o_pred=([(' Houston', 0.142), (' Toronto', 0.142), (' Tai', 0.093)], {})\n",
      "South Korea -> Seoul | z_norm=270.0 | z_proj=23.640625 || o_pred=([('Tok', 0.136), (' inter', 0.051), (' San', 0.049)], {})\n",
      "France -> Paris | z_norm=270.75 | z_proj=21.78125 || o_pred=([(' Pal', 0.102), (' Rome', 0.037), (' Lisbon', 0.03)], {})\n",
      "Colombia -> Bogot\\u00e1 | z_norm=241.875 | z_proj=29.265625 || o_pred=([(' wherever', 0.042), (' where', 0.036), (' back', 0.026)], {})\n",
      "Russia -> Moscow | z_norm=280.75 | z_proj=21.890625 || o_pred=([(' Hungarian', 0.15), (' Taiwanese', 0.097), (' Hungary', 0.062)], {})\n",
      "\n",
      "projection with mean weight\n",
      "India -> New Delhi | z_norm=294.25 | z_proj=42.03125 || o_pred=([(' Delhi', 0.818), (' India', 0.122), (' Indian', 0.041)], {})\n",
      "South Korea -> Seoul | z_norm=270.0 | z_proj=38.34375 || o_pred=([(' Seoul', 0.992), (' Korean', 0.008), (' Koreans', 0.0)], {})\n",
      "France -> Paris | z_norm=270.75 | z_proj=36.34375 || o_pred=([(' Paris', 0.741), (' French', 0.11), ('Paris', 0.094)], {})\n",
      "Colombia -> Bogot\\u00e1 | z_norm=241.875 | z_proj=44.65625 || o_pred=([(' Colombian', 0.172), ('colo', 0.075), ('gc', 0.045)], {})\n",
      "Russia -> Moscow | z_norm=280.75 | z_proj=30.734375 || o_pred=([(' Moscow', 0.408), ('Moscow', 0.145), (' Russians', 0.106)], {})\n"
     ]
    }
   ],
   "source": [
    "estimator = operators.JacobianIclMeanEstimator(\n",
    "    mt = mt, h_layer=7, beta=0.2\n",
    ")\n",
    "operator = estimator(train)"
   ]
  },
  {
   "cell_type": "code",
   "execution_count": 19,
   "metadata": {},
   "outputs": [
    {
     "name": "stdout",
     "output_type": "stream",
     "text": [
      "sample.subject='Argentina' -> sample.object='Buenos Aires' | pred=' Buenos (p=0.896)'\n",
      "sample.subject='Chile' -> sample.object='Santiago' | pred=' Santiago (p=0.976)'\n",
      "sample.subject='China' -> sample.object='Beijing' | pred=' Beijing (p=0.936)'\n",
      "sample.subject='Egypt' -> sample.object='Cairo' | pred=' Cairo (p=0.947)'\n",
      "sample.subject='Germany' -> sample.object='Berlin' | pred=' Berlin (p=0.950)'\n",
      "sample.subject='Italy' -> sample.object='Rome' | pred=' Rome (p=0.731)'\n",
      "sample.subject='Japan' -> sample.object='Tokyo' | pred=' Tokyo (p=0.977)'\n",
      "sample.subject='Mexico' -> sample.object='Mexico City' | pred=' Mexico (p=0.987)'\n",
      "sample.subject='Pakistan' -> sample.object='Islamabad' | pred=' Islamabad (p=0.862)'\n",
      "sample.subject='Peru' -> sample.object='Lima' | pred=' Lima (p=0.970)'\n",
      "sample.subject='Saudi Arabia' -> sample.object='Riyadh' | pred=' Riyadh (p=0.617)'\n",
      "sample.subject='Spain' -> sample.object='Madrid' | pred=' Madrid (p=0.927)'\n",
      "sample.subject='United States' -> sample.object='Washington D.C.' | pred=' Washington (p=0.589)'\n",
      "sample.subject='Venezuela' -> sample.object='Caracas' | pred=' Car (p=0.967)'\n"
     ]
    },
    {
     "data": {
      "text/plain": [
       "[1.0, 1.0, 1.0]"
      ]
     },
     "execution_count": 19,
     "metadata": {},
     "output_type": "execute_result"
    }
   ],
   "source": [
    "# calculate faithfulness\n",
    "def evaluate_operator(operator, test_samples):\n",
    "    pred_objects = []\n",
    "    test_objects = []\n",
    "    for sample in test_samples:\n",
    "        test_objects.append(sample.object)\n",
    "        preds = operator(sample.subject, k=3)\n",
    "        pred = str(preds.predictions[0])\n",
    "        print(f\"{sample.subject=} -> {sample.object=} | {pred=}\")\n",
    "        pred_objects.append([p.token for p in preds.predictions])\n",
    "\n",
    "    recall = metrics.recall(pred_objects, test_objects)\n",
    "    return recall\n",
    "\n",
    "evaluate_operator(operator, test.samples)"
   ]
  },
  {
   "cell_type": "code",
   "execution_count": 20,
   "metadata": {},
   "outputs": [
    {
     "data": {
      "text/plain": [
       "([(' New', 0.229),\n",
       "  (' ', 0.195),\n",
       "  (' Moscow', 0.061),\n",
       "  ('\\n', 0.053),\n",
       "  (' Paris', 0.046),\n",
       "  (' K', 0.02),\n",
       "  (' N', 0.019),\n",
       "  (' London', 0.014),\n",
       "  (' S', 0.013),\n",
       "  (' M', 0.013)],\n",
       " {})"
      ]
     },
     "execution_count": 20,
     "metadata": {},
     "output_type": "execute_result"
    }
   ],
   "source": [
    "lens.logit_lens(mt = mt, h = operator.bias, get_proba=True, k = 10)"
   ]
  },
  {
   "cell_type": "code",
   "execution_count": 43,
   "metadata": {},
   "outputs": [
    {
     "data": {
      "text/plain": [
       "49999.99999999999"
      ]
     },
     "execution_count": 43,
     "metadata": {},
     "output_type": "execute_result"
    }
   ],
   "source": [
    "1/.00002"
   ]
  },
  {
   "attachments": {},
   "cell_type": "markdown",
   "metadata": {},
   "source": [
    "### Get rid of the $\\beta$ by setting $\\beta = 1$"
   ]
  },
  {
   "cell_type": "code",
   "execution_count": 66,
   "metadata": {},
   "outputs": [
    {
     "name": "stdout",
     "output_type": "stream",
     "text": [
      "sample.subject='Argentina' -> sample.object='Buenos Aires' | pred=' Buenos (p=0.012)'\n",
      "sample.subject='Chile' -> sample.object='Santiago' | pred=' Santiago (p=0.023)'\n",
      "sample.subject='China' -> sample.object='Beijing' | pred=' Beijing (p=0.100)'\n",
      "sample.subject='Egypt' -> sample.object='Cairo' | pred=' Cairo (p=0.010)'\n",
      "sample.subject='Germany' -> sample.object='Berlin' | pred=' Berlin (p=0.021)'\n",
      "sample.subject='Italy' -> sample.object='Rome' | pred=' Rome (p=0.016)'\n",
      "sample.subject='Japan' -> sample.object='Tokyo' | pred=' Tokyo (p=0.119)'\n",
      "sample.subject='Mexico' -> sample.object='Mexico City' | pred=' Mexico (p=0.025)'\n",
      "sample.subject='Pakistan' -> sample.object='Islamabad' | pred=' Islamabad (p=0.026)'\n",
      "sample.subject='Peru' -> sample.object='Lima' | pred=' Lima (p=0.007)'\n",
      "sample.subject='Saudi Arabia' -> sample.object='Riyadh' | pred='  (p=0.007)'\n",
      "sample.subject='Spain' -> sample.object='Madrid' | pred=' Madrid (p=0.013)'\n",
      "sample.subject='United States' -> sample.object='Washington D.C.' | pred=' New (p=0.012)'\n",
      "sample.subject='Venezuela' -> sample.object='Caracas' | pred=' Car (p=0.008)'\n"
     ]
    },
    {
     "data": {
      "text/plain": [
       "[0.8571428571428571, 0.9285714285714286, 0.9285714285714286]"
      ]
     },
     "execution_count": 66,
     "metadata": {},
     "output_type": "execute_result"
    }
   ],
   "source": [
    "# operator_dct = deepcopy(operator.__dict__)\n",
    "\n",
    "# set beta and omega such that beta/omega = c\n",
    "c = 0.2\n",
    "beta = 0.0002\n",
    "omega = beta/c\n",
    "\n",
    "omega = 5\n",
    "beta = omega * c\n",
    "\n",
    "operator_dct = operator.__dict__.copy()\n",
    "operator_dct[\"beta\"] = beta\n",
    "operator_dct[\"weight\"] = operator.weight * omega\n",
    "operator_no_beta = operators.LinearRelationOperator(**operator_dct)\n",
    "\n",
    "evaluate_operator(operator_no_beta, test.samples)"
   ]
  },
  {
   "cell_type": "code",
   "execution_count": 49,
   "metadata": {},
   "outputs": [
    {
     "data": {
      "text/plain": [
       "5.0"
      ]
     },
     "execution_count": 49,
     "metadata": {},
     "output_type": "execute_result"
    }
   ],
   "source": [
    "1 / operator_dct[\"beta\"]"
   ]
  },
  {
   "cell_type": "code",
   "execution_count": 22,
   "metadata": {},
   "outputs": [],
   "source": [
    "hs_and_zs = functional.compute_hs_and_zs(\n",
    "    mt = mt,\n",
    "    prompt_template = train.prompt_templates[0],\n",
    "    subjects = [sample.subject for sample in relation.samples],\n",
    "    h_layer= operator.h_layer,\n",
    "    z_layer=-1,\n",
    "    batch_size=4,\n",
    "    examples= train.samples\n",
    ")"
   ]
  },
  {
   "cell_type": "code",
   "execution_count": 23,
   "metadata": {},
   "outputs": [
    {
     "name": "stdout",
     "output_type": "stream",
     "text": [
      "subj='India' -> obj='New Delhi' | h_norm=69.5625 | z_norm=294.25 || pred=PredictedToken(token=' New', prob=0.6054127812385559)\n",
      "subj='South Korea' -> obj='Seoul' | h_norm=68.375 | z_norm=270.0 || pred=PredictedToken(token=' Seoul', prob=0.9704020023345947)\n",
      "subj='France' -> obj='Paris' | h_norm=70.875 | z_norm=270.75 || pred=PredictedToken(token=' Paris', prob=0.9210968613624573)\n",
      "subj='Colombia' -> obj='Bogot\\\\u00e1' | h_norm=76.8125 | z_norm=242.125 || pred=PredictedToken(token=' Bog', prob=0.8252081274986267)\n",
      "subj='Russia' -> obj='Moscow' | h_norm=68.1875 | z_norm=280.5 || pred=PredictedToken(token=' Moscow', prob=0.9483776688575745)\n"
     ]
    }
   ],
   "source": [
    "for sample in train.samples:\n",
    "    subj = sample.subject\n",
    "    obj = sample.object\n",
    "    pred = functional.predict_next_token(\n",
    "        mt = mt,\n",
    "        prompt = functional.make_prompt(\n",
    "            prompt_template = train.prompt_templates[0],\n",
    "            subject = subj,\n",
    "            examples = train.samples,\n",
    "            mt = mt\n",
    "        )\n",
    "    )[0][0]\n",
    "    h_norm = hs_and_zs.h_by_subj[subj].norm().item()\n",
    "    z_norm = hs_and_zs.z_by_subj[subj].norm().item()\n",
    "    print(f\"{subj=} -> {obj=} | {h_norm=} | {z_norm=} || {pred=}\")"
   ]
  },
  {
   "cell_type": "code",
   "execution_count": 31,
   "metadata": {},
   "outputs": [
    {
     "name": "stdout",
     "output_type": "stream",
     "text": [
      "subj='United States' | h.norm()=tensor(66.8125, device='cuda:0', dtype=torch.float16) | jh.norm()=tensor(40.4062, device='cuda:0', dtype=torch.float16) | h.mean()=tensor(0.0115, device='cuda:0', dtype=torch.float16) | h.std()=tensor(1.0439, device='cuda:0', dtype=torch.float16)\n",
      "subj='Canada' | h.norm()=tensor(68.1250, device='cuda:0', dtype=torch.float16) | jh.norm()=tensor(47.6250, device='cuda:0', dtype=torch.float16) | h.mean()=tensor(0.0131, device='cuda:0', dtype=torch.float16) | h.std()=tensor(1.0645, device='cuda:0', dtype=torch.float16)\n",
      "subj='Mexico' | h.norm()=tensor(68.7500, device='cuda:0', dtype=torch.float16) | jh.norm()=tensor(46.7500, device='cuda:0', dtype=torch.float16) | h.mean()=tensor(0.0131, device='cuda:0', dtype=torch.float16) | h.std()=tensor(1.0742, device='cuda:0', dtype=torch.float16)\n",
      "subj='Brazil' | h.norm()=tensor(69.3125, device='cuda:0', dtype=torch.float16) | jh.norm()=tensor(44.5000, device='cuda:0', dtype=torch.float16) | h.mean()=tensor(0.0148, device='cuda:0', dtype=torch.float16) | h.std()=tensor(1.0830, device='cuda:0', dtype=torch.float16)\n",
      "subj='Argentina' | h.norm()=tensor(70.3125, device='cuda:0', dtype=torch.float16) | jh.norm()=tensor(47.8438, device='cuda:0', dtype=torch.float16) | h.mean()=tensor(0.0173, device='cuda:0', dtype=torch.float16) | h.std()=tensor(1.0986, device='cuda:0', dtype=torch.float16)\n",
      "subj='Chile' | h.norm()=tensor(74.5000, device='cuda:0', dtype=torch.float16) | jh.norm()=tensor(53.6250, device='cuda:0', dtype=torch.float16) | h.mean()=tensor(0.0149, device='cuda:0', dtype=torch.float16) | h.std()=tensor(1.1641, device='cuda:0', dtype=torch.float16)\n",
      "subj='Peru' | h.norm()=tensor(72.5625, device='cuda:0', dtype=torch.float16) | jh.norm()=tensor(49.1562, device='cuda:0', dtype=torch.float16) | h.mean()=tensor(0.0146, device='cuda:0', dtype=torch.float16) | h.std()=tensor(1.1338, device='cuda:0', dtype=torch.float16)\n",
      "subj='Colombia' | h.norm()=tensor(76.8125, device='cuda:0', dtype=torch.float16) | jh.norm()=tensor(44.6562, device='cuda:0', dtype=torch.float16) | h.mean()=tensor(0.0174, device='cuda:0', dtype=torch.float16) | h.std()=tensor(1.2002, device='cuda:0', dtype=torch.float16)\n",
      "subj='Venezuela' | h.norm()=tensor(73.7500, device='cuda:0', dtype=torch.float16) | jh.norm()=tensor(49.0312, device='cuda:0', dtype=torch.float16) | h.mean()=tensor(0.0175, device='cuda:0', dtype=torch.float16) | h.std()=tensor(1.1523, device='cuda:0', dtype=torch.float16)\n",
      "subj='Spain' | h.norm()=tensor(70.8125, device='cuda:0', dtype=torch.float16) | jh.norm()=tensor(46.3750, device='cuda:0', dtype=torch.float16) | h.mean()=tensor(0.0135, device='cuda:0', dtype=torch.float16) | h.std()=tensor(1.1064, device='cuda:0', dtype=torch.float16)\n",
      "subj='France' | h.norm()=tensor(70.8750, device='cuda:0', dtype=torch.float16) | jh.norm()=tensor(36.3438, device='cuda:0', dtype=torch.float16) | h.mean()=tensor(0.0126, device='cuda:0', dtype=torch.float16) | h.std()=tensor(1.1074, device='cuda:0', dtype=torch.float16)\n",
      "subj='Germany' | h.norm()=tensor(67.1875, device='cuda:0', dtype=torch.float16) | jh.norm()=tensor(41.7812, device='cuda:0', dtype=torch.float16) | h.mean()=tensor(0.0142, device='cuda:0', dtype=torch.float16) | h.std()=tensor(1.0498, device='cuda:0', dtype=torch.float16)\n",
      "subj='Italy' | h.norm()=tensor(69.8750, device='cuda:0', dtype=torch.float16) | jh.norm()=tensor(42.5625, device='cuda:0', dtype=torch.float16) | h.mean()=tensor(0.0127, device='cuda:0', dtype=torch.float16) | h.std()=tensor(1.0918, device='cuda:0', dtype=torch.float16)\n",
      "subj='Russia' | h.norm()=tensor(68.1875, device='cuda:0', dtype=torch.float16) | jh.norm()=tensor(30.7188, device='cuda:0', dtype=torch.float16) | h.mean()=tensor(0.0120, device='cuda:0', dtype=torch.float16) | h.std()=tensor(1.0654, device='cuda:0', dtype=torch.float16)\n",
      "subj='China' | h.norm()=tensor(68.5625, device='cuda:0', dtype=torch.float16) | jh.norm()=tensor(53.0312, device='cuda:0', dtype=torch.float16) | h.mean()=tensor(0.0114, device='cuda:0', dtype=torch.float16) | h.std()=tensor(1.0713, device='cuda:0', dtype=torch.float16)\n",
      "subj='Japan' | h.norm()=tensor(69.3750, device='cuda:0', dtype=torch.float16) | jh.norm()=tensor(49.2188, device='cuda:0', dtype=torch.float16) | h.mean()=tensor(0.0120, device='cuda:0', dtype=torch.float16) | h.std()=tensor(1.0850, device='cuda:0', dtype=torch.float16)\n",
      "subj='South Korea' | h.norm()=tensor(68.3750, device='cuda:0', dtype=torch.float16) | jh.norm()=tensor(38.3438, device='cuda:0', dtype=torch.float16) | h.mean()=tensor(0.0120, device='cuda:0', dtype=torch.float16) | h.std()=tensor(1.0684, device='cuda:0', dtype=torch.float16)\n",
      "subj='India' | h.norm()=tensor(69.5625, device='cuda:0', dtype=torch.float16) | jh.norm()=tensor(42.0312, device='cuda:0', dtype=torch.float16) | h.mean()=tensor(0.0122, device='cuda:0', dtype=torch.float16) | h.std()=tensor(1.0869, device='cuda:0', dtype=torch.float16)\n",
      "subj='Pakistan' | h.norm()=tensor(70.9375, device='cuda:0', dtype=torch.float16) | jh.norm()=tensor(49.9688, device='cuda:0', dtype=torch.float16) | h.mean()=tensor(0.0156, device='cuda:0', dtype=torch.float16) | h.std()=tensor(1.1084, device='cuda:0', dtype=torch.float16)\n",
      "subj='Nigeria' | h.norm()=tensor(73.5000, device='cuda:0', dtype=torch.float16) | jh.norm()=tensor(46.9688, device='cuda:0', dtype=torch.float16) | h.mean()=tensor(0.0154, device='cuda:0', dtype=torch.float16) | h.std()=tensor(1.1484, device='cuda:0', dtype=torch.float16)\n",
      "subj='Egypt' | h.norm()=tensor(70.5000, device='cuda:0', dtype=torch.float16) | jh.norm()=tensor(45.8438, device='cuda:0', dtype=torch.float16) | h.mean()=tensor(0.0131, device='cuda:0', dtype=torch.float16) | h.std()=tensor(1.1016, device='cuda:0', dtype=torch.float16)\n",
      "subj='Saudi Arabia' | h.norm()=tensor(67.8125, device='cuda:0', dtype=torch.float16) | jh.norm()=tensor(35.5312, device='cuda:0', dtype=torch.float16) | h.mean()=tensor(0.0126, device='cuda:0', dtype=torch.float16) | h.std()=tensor(1.0596, device='cuda:0', dtype=torch.float16)\n",
      "subj='Turkey' | h.norm()=tensor(70.5625, device='cuda:0', dtype=torch.float16) | jh.norm()=tensor(45.5938, device='cuda:0', dtype=torch.float16) | h.mean()=tensor(0.0143, device='cuda:0', dtype=torch.float16) | h.std()=tensor(1.1025, device='cuda:0', dtype=torch.float16)\n",
      "subj='Australia' | h.norm()=tensor(67.3750, device='cuda:0', dtype=torch.float16) | jh.norm()=tensor(44.5625, device='cuda:0', dtype=torch.float16) | h.mean()=tensor(0.0144, device='cuda:0', dtype=torch.float16) | h.std()=tensor(1.0527, device='cuda:0', dtype=torch.float16)\n",
      "h_norms: 70.18 +/- 2.46\n",
      "h_norms: 44.69 +/- 5.39\n"
     ]
    }
   ],
   "source": [
    "h_norms = []\n",
    "jh_norms = []\n",
    "for subj in hs_and_zs.h_by_subj.keys():\n",
    "    h = hs_and_zs.h_by_subj[subj]\n",
    "    jh = operator.weight @ h\n",
    "    h_norms.append(h.norm().item())\n",
    "    jh_norms.append(jh.norm().item())\n",
    "    print(f\"{subj=} | {h.norm()=} | {jh.norm()=} | {h.mean()=} | {h.std()=}\")\n",
    "\n",
    "print(f\"h_norms: {np.mean(h_norms):.2f} +/- {np.std(h_norms):.2f}\")\n",
    "print(f\"jh_norms: {np.mean(jh_norms):.2f} +/- {np.std(jh_norms):.2f}\")"
   ]
  },
  {
   "attachments": {},
   "cell_type": "markdown",
   "metadata": {},
   "source": [
    "### $b_r = \\mathbf{o}_{mean} - J\\mathbf{s}_{mean}$"
   ]
  },
  {
   "cell_type": "code",
   "execution_count": 14,
   "metadata": {},
   "outputs": [
    {
     "name": "stdout",
     "output_type": "stream",
     "text": [
      "tensor(23.8281, device='cuda:0', dtype=torch.float16, grad_fn=<DistBackward0>)\n"
     ]
    }
   ],
   "source": [
    "z_mean = torch.stack([hs_and_zs.z_by_subj[sample.subject] for sample in train.samples]).mean(dim = 0)\n",
    "h_mean = torch.stack([hs_and_zs.h_by_subj[sample.subject] for sample in train.samples]).mean(dim = 0)\n",
    "\n",
    "bias_mean = z_mean - operator.weight @ h_mean\n",
    "print(torch.dist(bias_mean, operator.bias))"
   ]
  },
  {
   "cell_type": "code",
   "execution_count": 15,
   "metadata": {},
   "outputs": [
    {
     "name": "stdout",
     "output_type": "stream",
     "text": [
      "sample.subject='Argentina' -> sample.object='Buenos Aires' | pred=' Buenos (p=0.199)'\n",
      "sample.subject='Chile' -> sample.object='Santiago' | pred=' Santiago (p=0.153)'\n",
      "sample.subject='China' -> sample.object='Beijing' | pred=' Moscow (p=0.200)'\n",
      "sample.subject='Egypt' -> sample.object='Cairo' | pred=' Moscow (p=0.173)'\n",
      "sample.subject='France' -> sample.object='Paris' | pred=' Paris (p=0.527)'\n",
      "sample.subject='Germany' -> sample.object='Berlin' | pred=' Berlin (p=0.196)'\n",
      "sample.subject='India' -> sample.object='New Delhi' | pred=' New (p=0.187)'\n",
      "sample.subject='Italy' -> sample.object='Rome' | pred=' Rome (p=0.268)'\n",
      "sample.subject='Japan' -> sample.object='Tokyo' | pred=' Moscow (p=0.205)'\n",
      "sample.subject='Mexico' -> sample.object='Mexico City' | pred=' Mexico (p=0.281)'\n",
      "sample.subject='Pakistan' -> sample.object='Islamabad' | pred=' Moscow (p=0.172)'\n",
      "sample.subject='Peru' -> sample.object='Lima' | pred=' Moscow (p=0.223)'\n",
      "sample.subject='Saudi Arabia' -> sample.object='Riyadh' | pred=' Moscow (p=0.184)'\n",
      "sample.subject='South Korea' -> sample.object='Seoul' | pred=' Moscow (p=0.216)'\n",
      "sample.subject='United States' -> sample.object='Washington D.C.' | pred=' Washington (p=0.212)'\n",
      "sample.subject='Venezuela' -> sample.object='Caracas' | pred='  (p=0.105)'\n"
     ]
    },
    {
     "data": {
      "text/plain": [
       "[0.5, 0.625, 0.625]"
      ]
     },
     "execution_count": 15,
     "metadata": {},
     "output_type": "execute_result"
    }
   ],
   "source": [
    "operator_dct = operator.__dict__.copy()\n",
    "operator_dct[\"beta\"] = 1 #.2\n",
    "operator_dct[\"bias\"] = bias_mean\n",
    "operator_bias_J = operators.LinearRelationOperator(**operator_dct)\n",
    "\n",
    "evaluate_operator(operator_bias_J, test.samples)"
   ]
  },
  {
   "attachments": {},
   "cell_type": "markdown",
   "metadata": {},
   "source": [
    "### $b_r = F(\\mathbf{s}_{mean}) -J\\mathbf{s}_{mean}$"
   ]
  },
  {
   "cell_type": "code",
   "execution_count": 16,
   "metadata": {},
   "outputs": [],
   "source": [
    "h_layer_name, z_layer_name = models.determine_layer_paths(mt, layers = [operator.h_layer, operator.z_layer])"
   ]
  },
  {
   "cell_type": "code",
   "execution_count": 17,
   "metadata": {},
   "outputs": [
    {
     "data": {
      "text/plain": [
       "dict_keys(['United States', 'Canada', 'Mexico', 'Brazil', 'Argentina', 'Chile', 'Peru', 'Colombia', 'Venezuela', 'Spain', 'France', 'Germany', 'Italy', 'Russia', 'China', 'Japan', 'South Korea', 'India', 'Pakistan', 'Nigeria', 'Egypt', 'Saudi Arabia', 'Turkey', 'Australia'])"
      ]
     },
     "execution_count": 17,
     "metadata": {},
     "output_type": "execute_result"
    }
   ],
   "source": [
    "hs_and_zs.h_by_subj.keys()"
   ]
  },
  {
   "cell_type": "code",
   "execution_count": 18,
   "metadata": {},
   "outputs": [
    {
     "data": {
      "text/plain": [
       "[(' Bog', 0.637),\n",
       " (' Mexico', 0.072),\n",
       " (' Madrid', 0.032),\n",
       " (' Barcelona', 0.024),\n",
       " (' Colombia', 0.02),\n",
       " (' Havana', 0.018),\n",
       " (' Car', 0.017),\n",
       " (' Buenos', 0.011),\n",
       " (' Moscow', 0.011),\n",
       " (' Med', 0.01)]"
      ]
     },
     "execution_count": 18,
     "metadata": {},
     "output_type": "execute_result"
    }
   ],
   "source": [
    "def get_intervention(h, int_layer, subj_idx):\n",
    "    def edit_output(output, layer):\n",
    "        if(layer != int_layer):\n",
    "            return output\n",
    "        functional.untuple(output)[:, subj_idx] = h\n",
    "        return output\n",
    "    return edit_output\n",
    "\n",
    "subject = \"Russia\"\n",
    "prompt = icl_prompt.format(subject)\n",
    "\n",
    "h_index, inputs = functional.find_subject_token_index(\n",
    "    mt=mt,\n",
    "    prompt=prompt,\n",
    "    subject=subject,\n",
    ")\n",
    "\n",
    "with baukit.TraceDict(\n",
    "    mt.model, layers = [h_layer_name, z_layer_name],\n",
    "    edit_output=get_intervention(h_mean, h_layer_name, h_index)\n",
    ") as traces:\n",
    "    outputs = mt.model(\n",
    "        input_ids = inputs.input_ids,\n",
    "        attention_mask = inputs.attention_mask,\n",
    "    )\n",
    "\n",
    "lens.interpret_logits(\n",
    "    mt = mt, \n",
    "    logits = outputs.logits[0][-1], \n",
    "    get_proba=True\n",
    ")"
   ]
  },
  {
   "cell_type": "code",
   "execution_count": 19,
   "metadata": {},
   "outputs": [
    {
     "data": {
      "text/plain": [
       "torch.Size([4096])"
      ]
     },
     "execution_count": 19,
     "metadata": {},
     "output_type": "execute_result"
    }
   ],
   "source": [
    "s = functional.untuple(traces[h_layer_name].output)[0][h_index]\n",
    "s.shape"
   ]
  },
  {
   "cell_type": "code",
   "execution_count": 40,
   "metadata": {},
   "outputs": [
    {
     "data": {
      "text/plain": [
       "62.59375"
      ]
     },
     "execution_count": 40,
     "metadata": {},
     "output_type": "execute_result"
    }
   ],
   "source": [
    "s.norm().item()"
   ]
  },
  {
   "cell_type": "code",
   "execution_count": 42,
   "metadata": {},
   "outputs": [
    {
     "data": {
      "text/plain": [
       "62.59375"
      ]
     },
     "execution_count": 42,
     "metadata": {},
     "output_type": "execute_result"
    }
   ],
   "source": [
    "h_mean.norm().item()"
   ]
  },
  {
   "cell_type": "code",
   "execution_count": 20,
   "metadata": {},
   "outputs": [
    {
     "name": "stdout",
     "output_type": "stream",
     "text": [
      "tensor(80.3125, device='cuda:0', dtype=torch.float16, grad_fn=<DistBackward0>)\n"
     ]
    },
    {
     "data": {
      "text/plain": [
       "([(' Bog', 0.656),\n",
       "  (' Mexico', 0.056),\n",
       "  (' Madrid', 0.025),\n",
       "  (' Colombia', 0.019),\n",
       "  (' Havana', 0.019),\n",
       "  (' Car', 0.018),\n",
       "  (' Barcelona', 0.016),\n",
       "  (' Moscow', 0.015),\n",
       "  (' Buenos', 0.012),\n",
       "  (' Med', 0.011)],\n",
       " {})"
      ]
     },
     "execution_count": 20,
     "metadata": {},
     "output_type": "execute_result"
    }
   ],
   "source": [
    "z_mean_F = traces[z_layer_name].output[0][-1][-1]\n",
    "# lens.logit_lens(mt = mt, h = z_mean_F, get_proba=True)\n",
    "bias_F = z_mean_F - operator.weight @ h_mean\n",
    "print(torch.dist(bias_F, operator.bias))\n",
    "lens.logit_lens(mt = mt, h = bias_F, get_proba=True)"
   ]
  },
  {
   "cell_type": "code",
   "execution_count": 21,
   "metadata": {},
   "outputs": [
    {
     "name": "stdout",
     "output_type": "stream",
     "text": [
      "sample.subject='Argentina' -> sample.object='Buenos Aires' | pred=' Bog (p=0.464)'\n",
      "sample.subject='Chile' -> sample.object='Santiago' | pred=' Bog (p=0.472)'\n",
      "sample.subject='China' -> sample.object='Beijing' | pred=' Bog (p=0.471)'\n",
      "sample.subject='Egypt' -> sample.object='Cairo' | pred=' Bog (p=0.472)'\n",
      "sample.subject='France' -> sample.object='Paris' | pred=' Bog (p=0.487)'\n",
      "sample.subject='Germany' -> sample.object='Berlin' | pred=' Bog (p=0.483)'\n"
     ]
    },
    {
     "name": "stdout",
     "output_type": "stream",
     "text": [
      "sample.subject='India' -> sample.object='New Delhi' | pred=' Bog (p=0.546)'\n",
      "sample.subject='Italy' -> sample.object='Rome' | pred=' Bog (p=0.524)'\n",
      "sample.subject='Japan' -> sample.object='Tokyo' | pred=' Bog (p=0.436)'\n",
      "sample.subject='Mexico' -> sample.object='Mexico City' | pred=' Mexico (p=0.764)'\n",
      "sample.subject='Pakistan' -> sample.object='Islamabad' | pred=' Bog (p=0.523)'\n",
      "sample.subject='Peru' -> sample.object='Lima' | pred=' Bog (p=0.485)'\n",
      "sample.subject='Saudi Arabia' -> sample.object='Riyadh' | pred=' Bog (p=0.560)'\n",
      "sample.subject='South Korea' -> sample.object='Seoul' | pred=' Bog (p=0.609)'\n",
      "sample.subject='United States' -> sample.object='Washington D.C.' | pred=' Bog (p=0.560)'\n",
      "sample.subject='Venezuela' -> sample.object='Caracas' | pred=' Bog (p=0.456)'\n"
     ]
    },
    {
     "data": {
      "text/plain": [
       "[0.0625, 0.25, 0.3125]"
      ]
     },
     "execution_count": 21,
     "metadata": {},
     "output_type": "execute_result"
    }
   ],
   "source": [
    "operator_dct = operator.__dict__.copy()\n",
    "operator_dct[\"beta\"] = 1 #.2\n",
    "operator_dct[\"bias\"] = bias_F\n",
    "operator_bias_J = operators.LinearRelationOperator(**operator_dct)\n",
    "\n",
    "evaluate_operator(operator_bias_J, test.samples)"
   ]
  },
  {
   "attachments": {},
   "cell_type": "markdown",
   "metadata": {},
   "source": [
    "### Make all the $|\\mathbf{o}|$ similar"
   ]
  },
  {
   "cell_type": "code",
   "execution_count": 22,
   "metadata": {},
   "outputs": [
    {
     "name": "stdout",
     "output_type": "stream",
     "text": [
      "tensor(36.2500, device='cuda:0', dtype=torch.float16, grad_fn=<DistBackward0>)\n"
     ]
    },
    {
     "data": {
      "text/plain": [
       "([(' Moscow', 0.312),\n",
       "  (' ', 0.049),\n",
       "  ('\\n', 0.044),\n",
       "  (' New', 0.03),\n",
       "  (' Paris', 0.026),\n",
       "  (' London', 0.021),\n",
       "  (' Washington', 0.021),\n",
       "  (' Madrid', 0.021),\n",
       "  (' Bog', 0.02),\n",
       "  (' T', 0.015)],\n",
       " {})"
      ]
     },
     "execution_count": 22,
     "metadata": {},
     "output_type": "execute_result"
    }
   ],
   "source": [
    "z_s = torch.stack([hs_and_zs.z_by_subj[sample.subject] for sample in train.samples])\n",
    "min_norm = z_s.norm(dim = 1).min()\n",
    "z_s = torch.stack([(z*min_norm)/z.norm() for z in z_s])\n",
    "\n",
    "z_mean = z_s.mean(dim = 0)\n",
    "bias_mean = z_mean - operator.weight @ h_mean\n",
    "\n",
    "print(torch.dist(bias_mean, operator.bias))\n",
    "lens.logit_lens(mt = mt, h = bias_mean, get_proba=True)"
   ]
  },
  {
   "cell_type": "code",
   "execution_count": 23,
   "metadata": {},
   "outputs": [
    {
     "name": "stdout",
     "output_type": "stream",
     "text": [
      "sample.subject='Argentina' -> sample.object='Buenos Aires' | pred=' Buenos (p=0.265)'\n",
      "sample.subject='Chile' -> sample.object='Santiago' | pred=' Santiago (p=0.210)'\n",
      "sample.subject='China' -> sample.object='Beijing' | pred=' Beijing (p=0.258)'\n",
      "sample.subject='Egypt' -> sample.object='Cairo' | pred=' Moscow (p=0.168)'\n",
      "sample.subject='France' -> sample.object='Paris' | pred=' Paris (p=0.605)'\n",
      "sample.subject='Germany' -> sample.object='Berlin' | pred=' Berlin (p=0.247)'\n",
      "sample.subject='India' -> sample.object='New Delhi' | pred=' New (p=0.210)'\n",
      "sample.subject='Italy' -> sample.object='Rome' | pred=' Rome (p=0.326)'\n",
      "sample.subject='Japan' -> sample.object='Tokyo' | pred=' Tokyo (p=0.208)'\n",
      "sample.subject='Mexico' -> sample.object='Mexico City' | pred=' Mexico (p=0.358)'\n",
      "sample.subject='Pakistan' -> sample.object='Islamabad' | pred=' Moscow (p=0.167)'\n",
      "sample.subject='Peru' -> sample.object='Lima' | pred=' Moscow (p=0.219)'\n",
      "sample.subject='Saudi Arabia' -> sample.object='Riyadh' | pred=' Moscow (p=0.182)'\n",
      "sample.subject='South Korea' -> sample.object='Seoul' | pred=' Moscow (p=0.212)'\n",
      "sample.subject='United States' -> sample.object='Washington D.C.' | pred=' Washington (p=0.242)'\n",
      "sample.subject='Venezuela' -> sample.object='Caracas' | pred='  (p=0.105)'\n"
     ]
    },
    {
     "data": {
      "text/plain": [
       "[0.625, 0.625, 0.625]"
      ]
     },
     "execution_count": 23,
     "metadata": {},
     "output_type": "execute_result"
    }
   ],
   "source": [
    "operator_dct = operator.__dict__.copy()\n",
    "operator_dct[\"beta\"] = 1 #.2\n",
    "operator_dct[\"bias\"] = bias_mean\n",
    "operator_similar_o = operators.LinearRelationOperator(**operator_dct)\n",
    "\n",
    "evaluate_operator(operator_similar_o, test.samples)"
   ]
  },
  {
   "attachments": {},
   "cell_type": "markdown",
   "metadata": {},
   "source": [
    "### Automatically *tune* $\\beta$ for each training sample "
   ]
  },
  {
   "cell_type": "code",
   "execution_count": 24,
   "metadata": {},
   "outputs": [
    {
     "name": "stdout",
     "output_type": "stream",
     "text": [
      "subj='Colombia' | h_norm=76.25 | z_norm=242.125 || b_norm=232.125\n",
      "obj='Bogot\\\\u00e1' | beta=0.0 | z_est=44.15625 | pred=[(' Colombian', 0.284), (' Colombia', 0.091), (' Bog', 0.062)]\n",
      "obj='Bogot\\\\u00e1' | beta=0.1111111111111111 | z_est=54.125 | pred=[(' Bog', 0.826), (' Colombia', 0.088), (' Colombian', 0.023)]\n",
      "\n",
      "subj='Canada' | h_norm=69.3125 | z_norm=279.0 || b_norm=261.5\n",
      "obj='Ottawa' | beta=0.0 | z_est=41.71875 | pred=[(' Canada', 0.425), (' Toronto', 0.306), (' Quebec', 0.134)]\n",
      "obj='Ottawa' | beta=0.1111111111111111 | z_est=58.6875 | pred=[(' Toronto', 0.526), (' Canada', 0.156), (' Ottawa', 0.142)]\n",
      "obj='Ottawa' | beta=0.2222222222222222 | z_est=82.6875 | pred=[(' Toronto', 0.523), (' Ottawa', 0.189), (' Montreal', 0.101)]\n",
      "obj='Ottawa' | beta=0.3333333333333333 | z_est=109.125 | pred=[(' Toronto', 0.488), (' Ottawa', 0.217), (' Montreal', 0.12)]\n",
      "obj='Ottawa' | beta=0.4444444444444444 | z_est=136.75 | pred=[(' Toronto', 0.464), (' Ottawa', 0.226), (' Montreal', 0.129)]\n",
      "obj='Ottawa' | beta=0.5555555555555556 | z_est=164.75 | pred=[(' Toronto', 0.439), (' Ottawa', 0.231), (' Montreal', 0.136)]\n",
      "obj='Ottawa' | beta=0.6666666666666666 | z_est=193.125 | pred=[(' Toronto', 0.416), (' Ottawa', 0.233), (' Montreal', 0.139)]\n",
      "obj='Ottawa' | beta=0.7777777777777777 | z_est=221.625 | pred=[(' Toronto', 0.401), (' Ottawa', 0.232), (' Montreal', 0.141)]\n",
      "obj='Ottawa' | beta=0.8888888888888888 | z_est=250.25 | pred=[(' Toronto', 0.386), (' Ottawa', 0.231), (' Montreal', 0.14)]\n",
      "obj='Ottawa' | beta=1.0 | z_est=279.0 | pred=[(' Toronto', 0.371), (' Ottawa', 0.228), (' Montreal', 0.141)]\n",
      "\n",
      "subj='Spain' | h_norm=70.875 | z_norm=265.25 || b_norm=243.375\n",
      "obj='Madrid' | beta=0.0 | z_est=42.28125 | pred=[(' Madrid', 0.548), (' Barcelona', 0.275), (' Spain', 0.157)]\n",
      "\n",
      "subj='Turkey' | h_norm=71.1875 | z_norm=268.0 || b_norm=250.625\n",
      "obj='Ankara' | beta=0.0 | z_est=37.3125 | pred=[(' Istanbul', 0.505), (' Ankara', 0.321), (' Turkish', 0.086)]\n",
      "obj='Ankara' | beta=0.1111111111111111 | z_est=54.875 | pred=[(' Istanbul', 0.588), (' Ankara', 0.398), (' Turkey', 0.011)]\n",
      "obj='Ankara' | beta=0.2222222222222222 | z_est=78.625 | pred=[(' Istanbul', 0.58), (' Ankara', 0.411), (' Turkey', 0.005)]\n",
      "obj='Ankara' | beta=0.3333333333333333 | z_est=104.4375 | pred=[(' Istanbul', 0.57), (' Ankara', 0.417), (' Turkey', 0.004)]\n",
      "obj='Ankara' | beta=0.4444444444444444 | z_est=131.0 | pred=[(' Istanbul', 0.566), (' Ankara', 0.414), (' Turkey', 0.004)]\n",
      "obj='Ankara' | beta=0.5555555555555556 | z_est=158.125 | pred=[(' Istanbul', 0.556), (' Ankara', 0.413), (' Iz', 0.005)]\n",
      "obj='Ankara' | beta=0.6666666666666666 | z_est=185.375 | pred=[(' Istanbul', 0.545), (' Ankara', 0.411), (' Iz', 0.007)]\n",
      "obj='Ankara' | beta=0.7777777777777777 | z_est=212.875 | pred=[(' Istanbul', 0.534), (' Ankara', 0.409), (' Iz', 0.01)]\n",
      "obj='Ankara' | beta=0.8888888888888888 | z_est=240.375 | pred=[(' Istanbul', 0.53), (' Ankara', 0.4), (' Iz', 0.012)]\n",
      "obj='Ankara' | beta=1.0 | z_est=268.0 | pred=[(' Istanbul', 0.522), (' Ankara', 0.394), (' Iz', 0.014)]\n",
      "\n",
      "subj='Russia' | h_norm=67.8125 | z_norm=257.5 || b_norm=249.75\n",
      "obj='Moscow' | beta=0.0 | z_est=32.0625 | pred=[(' Moscow', 0.056), (' Vlad', 0.052), (' Kremlin', 0.042)]\n",
      "\n"
     ]
    }
   ],
   "source": [
    "training_hs = torch.stack([hs_and_zs.h_by_subj[sample.subject] for sample in train.samples])\n",
    "training_zs = torch.stack([hs_and_zs.z_by_subj[sample.subject] for sample in train.samples])\n",
    "\n",
    "biases = []\n",
    "for sample in train.samples:\n",
    "    subj = sample.subject\n",
    "    obj = sample.object\n",
    "    h = hs_and_zs.h_by_subj[subj]\n",
    "    z = hs_and_zs.z_by_subj[subj]\n",
    "    b_sample = z - operator.weight @ h\n",
    "    print(f\"{subj=} | h_norm={h.norm()} | z_norm={z.norm()} || b_norm={b_sample.norm()}\")\n",
    "    for beta in np.linspace(0, 1, 10):\n",
    "        z_est = operator.weight @ h + b_sample * beta\n",
    "        pred, _ = lens.logit_lens(mt = mt, h = z_est, get_proba=True, k = 3)\n",
    "        print(f\"{obj=} | {beta=} | z_est={z_est.norm()} | {pred=}\")\n",
    "        top_token = pred[0][0]\n",
    "        if functional.is_nontrivial_prefix(prediction=top_token, target=sample.object):\n",
    "            biases.append(b_sample * beta)\n",
    "            break\n",
    "    print()"
   ]
  },
  {
   "cell_type": "code",
   "execution_count": 25,
   "metadata": {},
   "outputs": [
    {
     "name": "stdout",
     "output_type": "stream",
     "text": [
      "Colombia -> Bogot\\u00e1 | z_norm=242.125 | z_proj=34.78125 || o_pred=([(' back', 0.026), (' where', 0.018), (' wherever', 0.017)], {})\n",
      "Canada -> Ottawa | z_norm=279.0 | z_proj=21.890625 || o_pred=([('\\\\', 0.018), (' routine', 0.017), (' command', 0.015)], {})\n",
      "Spain -> Madrid | z_norm=265.25 | z_proj=21.296875 || o_pred=([(' Moscow', 0.043), (' National', 0.026), (' Rome', 0.019)], {})\n",
      "Turkey -> Ankara | z_norm=268.0 | z_proj=20.640625 || o_pred=([(' New', 0.374), (' Roma', 0.031), (' Buddh', 0.019)], {})\n",
      "Russia -> Moscow | z_norm=257.5 | z_proj=20.40625 || o_pred=([(' La', 0.216), (' Cas', 0.032), (' Cal', 0.026)], {})\n",
      "\n",
      "projection with mean weight\n",
      "Colombia -> Bogot\\u00e1 | z_norm=242.125 | z_proj=44.1875 || o_pred=([(' Colombian', 0.283), (' Colombia', 0.09), (' Bog', 0.061)], {})\n",
      "Canada -> Ottawa | z_norm=279.0 | z_proj=41.75 || o_pred=([(' Canada', 0.425), (' Toronto', 0.306), (' Quebec', 0.134)], {})\n",
      "Spain -> Madrid | z_norm=265.25 | z_proj=42.28125 || o_pred=([(' Madrid', 0.545), (' Barcelona', 0.279), (' Spain', 0.156)], {})\n",
      "Turkey -> Ankara | z_norm=268.0 | z_proj=37.3125 || o_pred=([(' Istanbul', 0.505), (' Ankara', 0.321), (' Turkish', 0.086)], {})\n",
      "Russia -> Moscow | z_norm=257.5 | z_proj=32.0625 || o_pred=([(' Moscow', 0.056), (' Vlad', 0.052), (' Kremlin', 0.042)], {})\n"
     ]
    }
   ],
   "source": [
    "operator = estimator(train)"
   ]
  },
  {
   "cell_type": "code",
   "execution_count": 26,
   "metadata": {},
   "outputs": [
    {
     "name": "stdout",
     "output_type": "stream",
     "text": [
      "subj='Colombia' | h_norm=76.25 | z_norm=242.125 || b_norm=254.375\n",
      "obj='Bogot\\\\u00e1' | beta=0.0 | z_est=34.78125 | pred=[(' back', 0.026), (' where', 0.018), (' wherever', 0.017)]\n",
      "obj='Bogot\\\\u00e1' | beta=0.1111111111111111 | z_est=34.59375 | pred=[(' New', 0.185), (' Amsterdam', 0.068), (' NY', 0.056)]\n",
      "obj='Bogot\\\\u00e1' | beta=0.2222222222222222 | z_est=52.71875 | pred=[(' Bog', 0.44), (' New', 0.154), (' Madrid', 0.047)]\n",
      "\n",
      "subj='Canada' | h_norm=69.3125 | z_norm=279.0 || b_norm=276.25\n",
      "obj='Ottawa' | beta=0.0 | z_est=21.890625 | pred=[('\\\\', 0.018), (' routine', 0.017), (' command', 0.015)]\n",
      "obj='Ottawa' | beta=0.1111111111111111 | z_est=39.15625 | pred=[(' Toronto', 0.263), (' Vancouver', 0.191), (' Montreal', 0.105)]\n",
      "obj='Ottawa' | beta=0.2222222222222222 | z_est=66.875 | pred=[(' Toronto', 0.376), (' Ottawa', 0.164), (' Vancouver', 0.154)]\n",
      "obj='Ottawa' | beta=0.3333333333333333 | z_est=96.4375 | pred=[(' Toronto', 0.384), (' Ottawa', 0.193), (' Montreal', 0.146)]\n",
      "obj='Ottawa' | beta=0.4444444444444444 | z_est=126.5 | pred=[(' Toronto', 0.382), (' Ottawa', 0.208), (' Montreal', 0.145)]\n",
      "obj='Ottawa' | beta=0.5555555555555556 | z_est=156.875 | pred=[(' Toronto', 0.381), (' Ottawa', 0.214), (' Montreal', 0.145)]\n",
      "obj='Ottawa' | beta=0.6666666666666666 | z_est=187.25 | pred=[(' Toronto', 0.378), (' Ottawa', 0.219), (' Montreal', 0.144)]\n",
      "obj='Ottawa' | beta=0.7777777777777777 | z_est=217.875 | pred=[(' Toronto', 0.375), (' Ottawa', 0.224), (' Montreal', 0.142)]\n",
      "obj='Ottawa' | beta=0.8888888888888888 | z_est=248.5 | pred=[(' Toronto', 0.372), (' Ottawa', 0.226), (' Montreal', 0.141)]\n",
      "obj='Ottawa' | beta=1.0 | z_est=279.0 | pred=[(' Toronto', 0.371), (' Ottawa', 0.228), (' Montreal', 0.141)]\n",
      "\n",
      "subj='Spain' | h_norm=70.875 | z_norm=265.25 || b_norm=259.5\n",
      "obj='Madrid' | beta=0.0 | z_est=21.296875 | pred=[(' Moscow', 0.043), (' National', 0.026), (' Rome', 0.019)]\n",
      "obj='Madrid' | beta=0.1111111111111111 | z_est=39.46875 | pred=[(' Madrid', 0.572), (' Barcelona', 0.069), (' Moscow', 0.038)]\n",
      "\n",
      "subj='Turkey' | h_norm=71.1875 | z_norm=268.0 || b_norm=262.5\n",
      "obj='Ankara' | beta=0.0 | z_est=20.640625 | pred=[(' New', 0.376), (' Roma', 0.031), (' Buddh', 0.019)]\n",
      "obj='Ankara' | beta=0.1111111111111111 | z_est=39.28125 | pred=[(' Ankara', 0.425), (' Istanbul', 0.381), (' New', 0.055)]\n",
      "\n",
      "subj='Russia' | h_norm=67.8125 | z_norm=257.5 || b_norm=254.75\n",
      "obj='Moscow' | beta=0.0 | z_est=20.40625 | pred=[(' La', 0.216), (' Cas', 0.032), (' Cal', 0.026)]\n",
      "obj='Moscow' | beta=0.1111111111111111 | z_est=36.46875 | pred=[(' Moscow', 0.872), (' Mos', 0.015), (' St', 0.009)]\n",
      "\n"
     ]
    }
   ],
   "source": [
    "biases = []\n",
    "for sample, approx in zip(train.samples, operator.metadata[\"approxes\"]):\n",
    "    subj = sample.subject\n",
    "    obj = sample.object\n",
    "    h = approx.h\n",
    "    z = approx.z\n",
    "    print(f\"{subj=} | h_norm={h.norm()} | z_norm={z.norm()} || b_norm={approx.bias.norm()}\")\n",
    "    for beta in np.linspace(0, 1, 10):\n",
    "        z_est = approx.weight @ h + approx.bias * beta\n",
    "        pred, _ = lens.logit_lens(mt = mt, h = z_est, get_proba=True, k = 3)\n",
    "        print(f\"{obj=} | {beta=} | z_est={z_est.norm()} | {pred=}\")\n",
    "        top_token = pred[0][0]\n",
    "        if functional.is_nontrivial_prefix(prediction=top_token, target=sample.object):\n",
    "            biases.append(b_sample * beta)\n",
    "            break\n",
    "    print()"
   ]
  },
  {
   "cell_type": "code",
   "execution_count": 27,
   "metadata": {},
   "outputs": [
    {
     "name": "stdout",
     "output_type": "stream",
     "text": [
      "sample.subject='Argentina' -> sample.object='Buenos Aires' | pred=' Buenos (p=0.964)'\n",
      "sample.subject='Chile' -> sample.object='Santiago' | pred=' Santiago (p=0.995)'\n",
      "sample.subject='China' -> sample.object='Beijing' | pred=' Beijing (p=0.944)'\n",
      "sample.subject='Egypt' -> sample.object='Cairo' | pred=' Cairo (p=0.854)'\n",
      "sample.subject='France' -> sample.object='Paris' | pred=' Paris (p=0.930)'\n",
      "sample.subject='Germany' -> sample.object='Berlin' | pred=' Berlin (p=0.895)'\n",
      "sample.subject='India' -> sample.object='New Delhi' | pred=' Delhi (p=0.649)'\n",
      "sample.subject='Italy' -> sample.object='Rome' | pred=' Rome (p=0.820)'\n",
      "sample.subject='Japan' -> sample.object='Tokyo' | pred=' Tokyo (p=0.974)'\n",
      "sample.subject='Mexico' -> sample.object='Mexico City' | pred=' Mexico (p=0.983)'\n",
      "sample.subject='Pakistan' -> sample.object='Islamabad' | pred=' Islamabad (p=0.982)'\n",
      "sample.subject='Peru' -> sample.object='Lima' | pred=' Lima (p=0.942)'\n",
      "sample.subject='Saudi Arabia' -> sample.object='Riyadh' | pred=' Riyadh (p=0.775)'\n",
      "sample.subject='South Korea' -> sample.object='Seoul' | pred=' Seoul (p=0.999)'\n",
      "sample.subject='United States' -> sample.object='Washington D.C.' | pred=' Washington (p=0.947)'\n",
      "sample.subject='Venezuela' -> sample.object='Caracas' | pred=' Car (p=0.780)'\n"
     ]
    },
    {
     "data": {
      "text/plain": [
       "[0.9375, 0.9375, 0.9375]"
      ]
     },
     "execution_count": 27,
     "metadata": {},
     "output_type": "execute_result"
    }
   ],
   "source": [
    "b_mean = torch.stack(biases).mean(dim = 0)\n",
    "\n",
    "operator_dct = operator.__dict__.copy()\n",
    "operator_dct[\"beta\"] = 1 #.2\n",
    "operator_dct[\"bias\"] = b_mean\n",
    "operator_auto_beta = operators.LinearRelationOperator(**operator_dct)\n",
    "\n",
    "evaluate_operator(operator_auto_beta, test.samples)"
   ]
  },
  {
   "attachments": {},
   "cell_type": "markdown",
   "metadata": {},
   "source": [
    "### Drop $J\\mathbf{s}$ entirely from bias estimation. (basically the corner method?)"
   ]
  },
  {
   "cell_type": "code",
   "execution_count": 28,
   "metadata": {},
   "outputs": [
    {
     "name": "stdout",
     "output_type": "stream",
     "text": [
      "tensor(6.6914, device='cuda:0', dtype=torch.float16, grad_fn=<DistBackward0>)\n"
     ]
    },
    {
     "data": {
      "text/plain": [
       "([(' Moscow', 0.195),\n",
       "  (' ', 0.076),\n",
       "  ('\\n', 0.072),\n",
       "  (' Bog', 0.038),\n",
       "  (' Madrid', 0.031),\n",
       "  (' New', 0.025),\n",
       "  (' London', 0.019),\n",
       "  (' Washington', 0.018),\n",
       "  (' Paris', 0.017),\n",
       "  (' San', 0.016)],\n",
       " {})"
      ]
     },
     "execution_count": 28,
     "metadata": {},
     "output_type": "execute_result"
    }
   ],
   "source": [
    "biases = torch.stack([approx.bias[0] for approx in operator.metadata[\"approxes\"]])\n",
    "min_norm = biases.norm(dim = 1).min()\n",
    "\n",
    "biases = torch.stack([(b*min_norm)/b.norm() for b in biases])\n",
    "b_mean = biases.mean(dim = 0)\n",
    "\n",
    "print(torch.dist(b_mean, operator.bias))\n",
    "lens.logit_lens(mt = mt, h = b_mean, get_proba=True)"
   ]
  },
  {
   "cell_type": "code",
   "execution_count": 29,
   "metadata": {},
   "outputs": [
    {
     "data": {
      "text/plain": [
       "(231.25, 237.75)"
      ]
     },
     "execution_count": 29,
     "metadata": {},
     "output_type": "execute_result"
    }
   ],
   "source": [
    "b_mean.norm().item(), operator.bias.norm().item()"
   ]
  },
  {
   "cell_type": "code",
   "execution_count": 30,
   "metadata": {},
   "outputs": [
    {
     "name": "stdout",
     "output_type": "stream",
     "text": [
      "sample.subject='Argentina' -> sample.object='Buenos Aires' | pred=' Buenos (p=0.966)'\n",
      "sample.subject='Chile' -> sample.object='Santiago' | pred=' Santiago (p=0.996)'\n",
      "sample.subject='China' -> sample.object='Beijing' | pred=' Beijing (p=0.956)'\n",
      "sample.subject='Egypt' -> sample.object='Cairo' | pred=' Cairo (p=0.910)'\n",
      "sample.subject='France' -> sample.object='Paris' | pred=' Paris (p=0.951)'\n"
     ]
    },
    {
     "name": "stdout",
     "output_type": "stream",
     "text": [
      "sample.subject='Germany' -> sample.object='Berlin' | pred=' Berlin (p=0.921)'\n",
      "sample.subject='India' -> sample.object='New Delhi' | pred=' Delhi (p=0.581)'\n",
      "sample.subject='Italy' -> sample.object='Rome' | pred=' Rome (p=0.890)'\n",
      "sample.subject='Japan' -> sample.object='Tokyo' | pred=' Tokyo (p=0.986)'\n",
      "sample.subject='Mexico' -> sample.object='Mexico City' | pred=' Mexico (p=0.992)'\n",
      "sample.subject='Pakistan' -> sample.object='Islamabad' | pred=' Islamabad (p=0.960)'\n",
      "sample.subject='Peru' -> sample.object='Lima' | pred=' Lima (p=0.948)'\n",
      "sample.subject='Saudi Arabia' -> sample.object='Riyadh' | pred=' Riyadh (p=0.564)'\n",
      "sample.subject='South Korea' -> sample.object='Seoul' | pred=' Seoul (p=0.998)'\n",
      "sample.subject='United States' -> sample.object='Washington D.C.' | pred=' Washington (p=0.878)'\n",
      "sample.subject='Venezuela' -> sample.object='Caracas' | pred=' Car (p=0.900)'\n"
     ]
    },
    {
     "data": {
      "text/plain": [
       "[0.9375, 0.9375, 0.9375]"
      ]
     },
     "execution_count": 30,
     "metadata": {},
     "output_type": "execute_result"
    }
   ],
   "source": [
    "operator_dct = operator.__dict__.copy()\n",
    "operator_dct[\"beta\"] = .2 #.2\n",
    "operator_dct[\"bias\"] = b_mean\n",
    "operator_dropped_js = operators.LinearRelationOperator(**operator_dct)\n",
    "\n",
    "evaluate_operator(operator_dropped_js, test.samples)"
   ]
  },
  {
   "cell_type": "code",
   "execution_count": 31,
   "metadata": {},
   "outputs": [
    {
     "name": "stdout",
     "output_type": "stream",
     "text": [
      "tensor(235.1250, device='cuda:0', dtype=torch.float16, grad_fn=<DistBackward0>)\n"
     ]
    },
    {
     "data": {
      "text/plain": [
       "([(' Moscow', 0.666),\n",
       "  (' Paris', 0.216),\n",
       "  (' Madrid', 0.055),\n",
       "  (' Tokyo', 0.023),\n",
       "  (' Beijing', 0.023),\n",
       "  (' Berlin', 0.018),\n",
       "  (' London', 0.0),\n",
       "  (' Washington', 0.0),\n",
       "  (' Cairo', 0.0),\n",
       "  (' Rome', 0.0)],\n",
       " {})"
      ]
     },
     "execution_count": 31,
     "metadata": {},
     "output_type": "execute_result"
    }
   ],
   "source": [
    "translation_estimator = operators.OffsetEstimatorBaseline(\n",
    "    mt = mt,\n",
    "    h_layer = operator.h_layer,\n",
    "    z_layer=operator.z_layer,\n",
    "    mode = \"icl\",\n",
    ")\n",
    "\n",
    "translation = translation_estimator(\n",
    "    relation.set(\n",
    "        samples = train.samples + test.samples\n",
    "    )\n",
    ")\n",
    "corner = translation.bias\n",
    "\n",
    "print(torch.dist(corner, operator.bias))\n",
    "lens.logit_lens(mt = mt, h = corner, get_proba=True)"
   ]
  },
  {
   "cell_type": "code",
   "execution_count": 32,
   "metadata": {},
   "outputs": [
    {
     "name": "stdout",
     "output_type": "stream",
     "text": [
      "sample.subject='Argentina' -> sample.object='Buenos Aires' | pred=' Paris (p=0.702)'\n",
      "sample.subject='Chile' -> sample.object='Santiago' | pred=' Paris (p=0.501)'\n",
      "sample.subject='China' -> sample.object='Beijing' | pred=' Paris (p=0.423)'\n",
      "sample.subject='Egypt' -> sample.object='Cairo' | pred=' Beijing (p=0.541)'\n"
     ]
    },
    {
     "name": "stdout",
     "output_type": "stream",
     "text": [
      "sample.subject='France' -> sample.object='Paris' | pred=' Paris (p=0.657)'\n",
      "sample.subject='Germany' -> sample.object='Berlin' | pred=' Paris (p=0.355)'\n",
      "sample.subject='India' -> sample.object='New Delhi' | pred=' Berlin (p=0.245)'\n",
      "sample.subject='Italy' -> sample.object='Rome' | pred=' Paris (p=0.682)'\n",
      "sample.subject='Japan' -> sample.object='Tokyo' | pred=' Paris (p=0.761)'\n",
      "sample.subject='Mexico' -> sample.object='Mexico City' | pred=' Paris (p=0.454)'\n",
      "sample.subject='Pakistan' -> sample.object='Islamabad' | pred=' Beijing (p=0.371)'\n",
      "sample.subject='Peru' -> sample.object='Lima' | pred=' Paris (p=0.359)'\n",
      "sample.subject='Saudi Arabia' -> sample.object='Riyadh' | pred=' Beijing (p=0.370)'\n",
      "sample.subject='South Korea' -> sample.object='Seoul' | pred=' Paris (p=0.451)'\n",
      "sample.subject='United States' -> sample.object='Washington D.C.' | pred=' Paris (p=0.556)'\n",
      "sample.subject='Venezuela' -> sample.object='Caracas' | pred=' Paris (p=0.413)'\n"
     ]
    },
    {
     "data": {
      "text/plain": [
       "[0.0625, 0.0625, 0.0625]"
      ]
     },
     "execution_count": 32,
     "metadata": {},
     "output_type": "execute_result"
    }
   ],
   "source": [
    "evaluate_operator(translation, test.samples)"
   ]
  },
  {
   "cell_type": "code",
   "execution_count": 33,
   "metadata": {},
   "outputs": [
    {
     "name": "stdout",
     "output_type": "stream",
     "text": [
      "sample.subject='Argentina' -> sample.object='Buenos Aires' | pred=' Buenos (p=1.000)'\n",
      "sample.subject='Chile' -> sample.object='Santiago' | pred=' Santiago (p=0.994)'\n",
      "sample.subject='China' -> sample.object='Beijing' | pred=' Beijing (p=1.000)'\n",
      "sample.subject='Egypt' -> sample.object='Cairo' | pred=' Cairo (p=1.000)'\n",
      "sample.subject='France' -> sample.object='Paris' | pred=' Paris (p=1.000)'\n",
      "sample.subject='Germany' -> sample.object='Berlin' | pred=' Berlin (p=1.000)'\n",
      "sample.subject='India' -> sample.object='New Delhi' | pred=' Delhi (p=0.989)'\n",
      "sample.subject='Italy' -> sample.object='Rome' | pred=' Rome (p=1.000)'\n",
      "sample.subject='Japan' -> sample.object='Tokyo' | pred=' Tokyo (p=1.000)'\n",
      "sample.subject='Mexico' -> sample.object='Mexico City' | pred=' Mexico (p=1.000)'\n",
      "sample.subject='Pakistan' -> sample.object='Islamabad' | pred=' Islamabad (p=0.939)'\n",
      "sample.subject='Peru' -> sample.object='Lima' | pred=' Lima (p=0.837)'\n",
      "sample.subject='Saudi Arabia' -> sample.object='Riyadh' | pred=' Tokyo (p=0.302)'\n",
      "sample.subject='South Korea' -> sample.object='Seoul' | pred=' Seoul (p=1.000)'\n",
      "sample.subject='United States' -> sample.object='Washington D.C.' | pred=' Washington (p=0.996)'\n",
      "sample.subject='Venezuela' -> sample.object='Caracas' | pred=' Madrid (p=0.910)'\n"
     ]
    },
    {
     "data": {
      "text/plain": [
       "[0.8125, 0.875, 0.875]"
      ]
     },
     "execution_count": 33,
     "metadata": {},
     "output_type": "execute_result"
    }
   ],
   "source": [
    "operator_dct = operator.__dict__.copy()\n",
    "operator_dct[\"beta\"] = 1 #.2\n",
    "operator_dct[\"bias\"] = corner\n",
    "operator_corner = operators.LinearRelationOperator(**operator_dct)\n",
    "\n",
    "evaluate_operator(operator_corner, test.samples)"
   ]
  },
  {
   "cell_type": "code",
   "execution_count": null,
   "metadata": {},
   "outputs": [],
   "source": []
  },
  {
   "cell_type": "code",
   "execution_count": null,
   "metadata": {},
   "outputs": [],
   "source": []
  },
  {
   "cell_type": "code",
   "execution_count": null,
   "metadata": {},
   "outputs": [],
   "source": []
  },
  {
   "cell_type": "code",
   "execution_count": null,
   "metadata": {},
   "outputs": [],
   "source": []
  },
  {
   "cell_type": "code",
   "execution_count": 34,
   "metadata": {},
   "outputs": [],
   "source": [
    "from scripts.explain_beta import TrialResult, AllTrialResults"
   ]
  },
  {
   "cell_type": "code",
   "execution_count": 35,
   "metadata": {},
   "outputs": [],
   "source": [
    "beta_path = \"../results/explain_beta/gptj\"\n",
    "\n",
    "results = {}\n",
    "for relation_folder in os.listdir(beta_path):\n",
    "    relation_path = os.path.join(beta_path, relation_folder)\n",
    "    for n_train in os.listdir(relation_path):\n",
    "        n_train_path = os.path.join(relation_path, n_train)\n",
    "        for file in os.listdir(n_train_path):\n",
    "            with open(f\"{n_train_path}/{file}\") as f:\n",
    "                data = json.load(f)\n",
    "                data = AllTrialResults.from_dict(data)\n",
    "                if(data.relation_name not in results):\n",
    "                    results[data.relation_name] = {}\n",
    "                _n_train = len(data.trials[0].train_samples)\n",
    "                if _n_train not in results[data.relation_name]:\n",
    "                    results[data.relation_name][_n_train] = data                   \n",
    "                else:\n",
    "                    results[data.relation_name][_n_train].trials.extend(data.trials)"
   ]
  },
  {
   "cell_type": "code",
   "execution_count": 36,
   "metadata": {},
   "outputs": [],
   "source": [
    "relations = list(results.keys())\n",
    "relation = relations[0]\n",
    "# relations"
   ]
  },
  {
   "cell_type": "code",
   "execution_count": 37,
   "metadata": {},
   "outputs": [
    {
     "data": {
      "text/plain": [
       "[1, 2, 3, 4, 5, 6, 7, 8, 9, 10, 11, 12, 13, 14, 15]"
      ]
     },
     "execution_count": 37,
     "metadata": {},
     "output_type": "execute_result"
    }
   ],
   "source": [
    "train_options = sorted(list(results[relation].keys()))\n",
    "train_options"
   ]
  },
  {
   "cell_type": "code",
   "execution_count": 38,
   "metadata": {},
   "outputs": [],
   "source": [
    "bias_norms = [\n",
    "    np.array([trial.bias_norm for trial in results[relation][n_train].trials])\n",
    "    for n_train in train_options\n",
    "]\n",
    "\n",
    "means = np.array([np.mean(bias_norm) for bias_norm in bias_norms])\n",
    "stds = np.array([np.std(bias_norm) for bias_norm in bias_norms])"
   ]
  },
  {
   "cell_type": "code",
   "execution_count": 39,
   "metadata": {},
   "outputs": [
    {
     "data": {
      "text/plain": [
       "Text(0, 0.5, 'bias norm')"
      ]
     },
     "execution_count": 39,
     "metadata": {},
     "output_type": "execute_result"
    },
    {
     "data": {
      "image/png": "[encoded data removed]",
      "text/plain": [
       "<Figure size 1280x960 with 1 Axes>"
      ]
     },
     "metadata": {},
     "output_type": "display_data"
    }
   ],
   "source": [
    "plt.rcdefaults()\n",
    "#####################################################################################\n",
    "plt.rcParams[\"figure.dpi\"] = 200\n",
    "plt.rcParams[\"font.family\"] = \"Times New Roman\"\n",
    "\n",
    "SMALL_SIZE = 18\n",
    "MEDIUM_SIZE = 20\n",
    "BIGGER_SIZE = 24\n",
    "\n",
    "plt.rc(\"font\", size=SMALL_SIZE)  # controls default text sizes\n",
    "plt.rc(\"axes\", titlesize=BIGGER_SIZE)  # fontsize of the axes title\n",
    "plt.rc(\"axes\", labelsize=MEDIUM_SIZE+5)  # fontsize of the x and y labels\n",
    "plt.rc(\"xtick\", labelsize=SMALL_SIZE)  # fontsize of the tick labels\n",
    "plt.rc(\"ytick\", labelsize=MEDIUM_SIZE)  # fontsize of the tick labels\n",
    "plt.rc(\"legend\", fontsize=SMALL_SIZE)  # legend fontsize\n",
    "plt.rc(\"axes\", titlesize=BIGGER_SIZE)  # fontsize of the figure title\n",
    "plt.rc(\"figure\", titlesize=BIGGER_SIZE)  # fontsize of the figure title\n",
    "#####################################################################################\n",
    "\n",
    "plt.plot(train_options, means)\n",
    "plt.fill_between(train_options, means - stds, means + stds, alpha=0.2)\n",
    "# plt.ylim(bottom = 270)\n",
    "plt.xticks(train_options)\n",
    "plt.xlabel(\"n_train\")\n",
    "plt.ylabel(\"bias norm\")"
   ]
  },
  {
   "cell_type": "code",
   "execution_count": null,
   "metadata": {},
   "outputs": [],
   "source": []
  }
 ],
 "metadata": {
  "kernelspec": {
   "display_name": "Python 3",
   "language": "python",
   "name": "python3"
  },
  "language_info": {
   "codemirror_mode": {
    "name": "ipython",
    "version": 3
   },
   "file_extension": ".py",
   "mimetype": "text/x-python",
   "name": "python",
   "nbconvert_exporter": "python",
   "pygments_lexer": "ipython3",
   "version": "3.10.11"
  },
  "orig_nbformat": 4
 },
 "nbformat": 4,
 "nbformat_minor": 2
}
