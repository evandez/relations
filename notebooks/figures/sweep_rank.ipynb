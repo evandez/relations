{
 "cells": [
  {
   "cell_type": "code",
   "execution_count": 1,
   "metadata": {},
   "outputs": [],
   "source": [
    "%load_ext autoreload\n",
    "%autoreload 2"
   ]
  },
  {
   "cell_type": "code",
   "execution_count": 7,
   "metadata": {},
   "outputs": [],
   "source": [
    "import sys\n",
    "sys.path.append(\"../..\")\n",
    "\n",
    "import numpy as np\n",
    "import matplotlib.pyplot as plt\n",
    "import os\n",
    "from src import data\n",
    "import json\n",
    "from tqdm.auto import tqdm\n",
    "from src.metrics import AggregateMetric\n",
    "import logging\n",
    "\n",
    "from src.utils import logging_utils\n",
    "from src.utils.sweep_utils import read_sweep_results, relation_from_dict"
   ]
  },
  {
   "cell_type": "code",
   "execution_count": 8,
   "metadata": {},
   "outputs": [],
   "source": [
    "############################################\n",
    "sweep_root = \"../../results/sweep-full-rank\"\n",
    "model_name = \"gptj\"\n",
    "############################################\n",
    "\n",
    "sweep_path = f\"{sweep_root}/{model_name}\""
   ]
  },
  {
   "cell_type": "code",
   "execution_count": 9,
   "metadata": {},
   "outputs": [
    {
     "name": "stderr",
     "output_type": "stream",
     "text": [
      "ERROR reading ../../results/sweep-full-rank/gptj/person_occupation/1_person_occupation_seed_71745/args-20230713-202800.json: 'trials'\n",
      "ERROR reading ../../results/sweep-full-rank/gptj/landmark_in_country/1_landmark_in_country_seed_71745/args-20230713-202800.json: 'trials'\n",
      "ERROR reading ../../results/sweep-full-rank/gptj/country_capital_city/sweep_full_rank/args-20230713-152241.json: 'trials'\n",
      "ERROR reading ../../results/sweep-full-rank/gptj/country_capital_city/sweep_full_rank/args-20230713-152857.json: 'trials'\n",
      "ERROR reading ../../results/sweep-full-rank/gptj/country_capital_city/1_country_capital_city_seed_71745/args-20230713-202756.json: 'trials'\n",
      "ERROR reading ../../results/sweep-full-rank/gptj/plays_pro_sport/1_plays_pro_sport_seed_71745/args-20230713-202800.json: 'trials'\n",
      "ERROR reading ../../results/sweep-full-rank/gptj/person_plays_instrument/1_person_plays_instrument_seed_71745/person_plays_instrument.json: 'trials'\n",
      "ERROR reading ../../results/sweep-full-rank/gptj/person_university/1_person_university_seed_71745/person_university.json: 'trials'\n",
      "ERROR reading ../../results/sweep-full-rank/gptj/city_in_country/1_city_in_country_seed_71745/city_in_country.json: 'trials'\n",
      "ERROR reading ../../results/sweep-full-rank/gptj/food_from_country/1_food_from_country_seed_71745/args-20230713-202800.json: 'trials'\n",
      "ERROR reading ../../results/sweep-full-rank/gptj/company_hq/1_company_hq_seed_71745/args-20230713-202756.json: 'trials'\n",
      "ERROR reading ../../results/sweep-full-rank/gptj/country_language/1_country_language_seed_71745/args-20230713-202758.json: 'trials'\n",
      "ERROR reading ../../results/sweep-full-rank/gptj/superhero_archnemesis/1_superhero_archnemesis_seed_71745/args-20230713-202758.json: 'trials'\n",
      "ERROR reading ../../results/sweep-full-rank/gptj/landmark_on_continent/1_landmark_on_continent_seed_71745/args-20230713-202800.json: 'trials'\n",
      "ERROR reading ../../results/sweep-full-rank/gptj/person_lead_singer_of_band/1_person_lead_singer_of_band_seed_71745/person_lead_singer_of_band.json: 'trials'\n",
      "ERROR reading ../../results/sweep-full-rank/gptj/country_largest_city/1_country_largest_city_seed_71745/args-20230713-202802.json: 'trials'\n",
      "ERROR reading ../../results/sweep-full-rank/gptj/country_currency/1_country_currency_seed_71745/country_currency.json: 'trials'\n",
      "ERROR reading ../../results/sweep-full-rank/gptj/star_constellation_name/1_star_constellation_name_seed_71745/star_constellation_name.json: 'trials'\n",
      "ERROR reading ../../results/sweep-full-rank/gptj/pokemon_evolution/1_pokemon_evolution_seed_71745/pokemon_evolution.json: 'trials'\n",
      "ERROR reading ../../results/sweep-full-rank/gptj/product_by_company/1_product_by_company_seed_71745/product_by_company.json: 'trials'\n",
      "ERROR reading ../../results/sweep-full-rank/gptj/superhero_person/1_superhero_person_seed_71745/args-20230713-202758.json: 'trials'\n",
      "ERROR reading ../../results/sweep-full-rank/gptj/person_sport_position/1_person_sport_position_seed_71745/args-20230713-202800.json: 'trials'\n"
     ]
    },
    {
     "data": {
      "text/plain": [
       "['person occupation',\n",
       " 'landmark in country',\n",
       " 'country capital city',\n",
       " 'plays pro sport',\n",
       " 'person plays instrument',\n",
       " 'person university',\n",
       " 'city in country',\n",
       " 'food from country',\n",
       " 'company hq',\n",
       " 'country language',\n",
       " 'president election year',\n",
       " 'superhero archnemesis',\n",
       " 'landmark on continent',\n",
       " 'person lead singer of band',\n",
       " 'country largest city',\n",
       " 'country currency',\n",
       " 'star constellation name',\n",
       " 'pokemon evolution',\n",
       " 'president birth year',\n",
       " 'product by company',\n",
       " 'company CEO',\n",
       " 'superhero person',\n",
       " 'person sport position']"
      ]
     },
     "execution_count": 9,
     "metadata": {},
     "output_type": "execute_result"
    }
   ],
   "source": [
    "sweep_results = read_sweep_results(sweep_path)\n",
    "list(sweep_results.keys())"
   ]
  },
  {
   "cell_type": "code",
   "execution_count": 11,
   "metadata": {},
   "outputs": [],
   "source": [
    "relation = \"country capital city\"\n",
    "relation_result = relation_from_dict(sweep_results[relation])"
   ]
  },
  {
   "cell_type": "code",
   "execution_count": 16,
   "metadata": {},
   "outputs": [
    {
     "data": {
      "text/plain": [
       "SweepBetaResults(beta=2.25, recall=[0.0, 0.05555555555555555, 0.05555555555555555], faithfulness_successes=[])"
      ]
     },
     "execution_count": 16,
     "metadata": {},
     "output_type": "execute_result"
    }
   ],
   "source": [
    "ranks = []\n",
    "recalls = []\n",
    "relation_result.trials[0].layers[0].result.betas[0]"
   ]
  },
  {
   "cell_type": "code",
   "execution_count": null,
   "metadata": {},
   "outputs": [],
   "source": []
  }
 ],
 "metadata": {
  "kernelspec": {
   "display_name": "Python 3",
   "language": "python",
   "name": "python3"
  },
  "language_info": {
   "codemirror_mode": {
    "name": "ipython",
    "version": 3
   },
   "file_extension": ".py",
   "mimetype": "text/x-python",
   "name": "python",
   "nbconvert_exporter": "python",
   "pygments_lexer": "ipython3",
   "version": "3.10.11"
  },
  "orig_nbformat": 4
 },
 "nbformat": 4,
 "nbformat_minor": 2
}
