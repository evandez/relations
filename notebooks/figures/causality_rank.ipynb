{
 "cells": [
  {
   "cell_type": "code",
   "execution_count": null,
   "id": "d64887c5",
   "metadata": {},
   "outputs": [],
   "source": [
    "import sys\n",
    "sys.path.append(\"../..\")"
   ]
  },
  {
   "cell_type": "code",
   "execution_count": null,
   "id": "ff459424",
   "metadata": {},
   "outputs": [],
   "source": [
    "from pathlib import Path\n",
    "\n",
    "from src import benchmarks\n",
    "\n",
    "import importlib\n",
    "importlib.reload(benchmarks)\n",
    "\n",
    "results_file = Path(\"../../results/test/causality/j-icl-mean/lr/all.json\")\n",
    "with results_file.open(\"r\") as handle:\n",
    "    results = benchmarks.CausalityBenchmarkResults.from_json(handle.read())"
   ]
  },
  {
   "cell_type": "code",
   "execution_count": null,
   "id": "93427c1e",
   "metadata": {},
   "outputs": [],
   "source": [
    "from collections import defaultdict\n",
    "\n",
    "efficacies_by_rank = defaultdict(list)\n",
    "faithfulness_by_rank = defaultdict(list)\n",
    "for trial in results.relations[0].trials:\n",
    "    for rank in trial.ranks:\n",
    "        efficacies_by_rank[rank.rank].append(rank.efficacy_score_hard().mean)\n",
    "        faithfulness_by_rank[rank.rank].append(rank.faithfulness_score())"
   ]
  },
  {
   "cell_type": "code",
   "execution_count": null,
   "id": "6b357dca",
   "metadata": {},
   "outputs": [],
   "source": [
    "import matplotlib.pyplot as plt\n",
    "\n",
    "ranks = sorted(efficacies_by_rank)\n",
    "efficacies = [sum(efficacies_by_rank[rank]) / len(efficacies_by_rank[rank]) for rank in ranks]\n",
    "faithfulness = [sum(faithfulness_by_rank[rank]) / len(faithfulness_by_rank[rank]) for rank in ranks]\n",
    "\n",
    "plt.title(\"LRE Performance vs. Rank\")\n",
    "plt.plot(ranks, efficacies, label=\"Edit Efficacy\")\n",
    "plt.plot(ranks, faithfulness, label=\"LRE Recall@1\")\n",
    "plt.xlabel(\"Rank\")\n",
    "plt.legend()"
   ]
  },
  {
   "cell_type": "code",
   "execution_count": null,
   "id": "96046b09",
   "metadata": {},
   "outputs": [],
   "source": [
    "results.relations[0].trials[2].ranks[-1].samples[0].edited_lm_generations"
   ]
  },
  {
   "cell_type": "code",
   "execution_count": null,
   "id": "697acae1",
   "metadata": {},
   "outputs": [],
   "source": []
  }
 ],
 "metadata": {
  "kernelspec": {
   "display_name": "Python 3 (ipykernel)",
   "language": "python",
   "name": "python3"
  },
  "language_info": {
   "codemirror_mode": {
    "name": "ipython",
    "version": 3
   },
   "file_extension": ".py",
   "mimetype": "text/x-python",
   "name": "python",
   "nbconvert_exporter": "python",
   "pygments_lexer": "ipython3",
   "version": "3.10.0"
  }
 },
 "nbformat": 4,
 "nbformat_minor": 5
}
