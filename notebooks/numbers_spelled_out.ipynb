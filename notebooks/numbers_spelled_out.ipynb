{
 "cells": [
  {
   "cell_type": "code",
   "execution_count": 1,
   "metadata": {},
   "outputs": [],
   "source": [
    "%load_ext autoreload\n",
    "%autoreload 2"
   ]
  },
  {
   "cell_type": "code",
   "execution_count": 2,
   "metadata": {},
   "outputs": [],
   "source": [
    "import torch\n",
    "import numpy as np\n",
    "import json\n",
    "from tqdm.auto import tqdm\n",
    "import random\n",
    "import transformers\n",
    "\n",
    "import os\n",
    "import sys\n",
    "sys.path.append('..')\n",
    "\n",
    "from relations import estimate\n",
    "from util import model_utils\n",
    "from baukit import nethook\n",
    "from operator import itemgetter"
   ]
  },
  {
   "cell_type": "code",
   "execution_count": 3,
   "metadata": {},
   "outputs": [
    {
     "name": "stdout",
     "output_type": "stream",
     "text": [
      "EleutherAI/gpt-j-6B ==> device: cuda:0, memory: 12219206136\n"
     ]
    }
   ],
   "source": [
    "MODEL_NAME = \"EleutherAI/gpt-j-6B\"  # gpt2-{medium,large,xl} or EleutherAI/gpt-j-6B\n",
    "mt = model_utils.ModelAndTokenizer(MODEL_NAME, low_cpu_mem_usage=True, torch_dtype=torch.float16)\n",
    "\n",
    "model = mt.model\n",
    "tokenizer = mt.tokenizer\n",
    "tokenizer.pad_token = tokenizer.eos_token\n",
    "\n",
    "print(f\"{MODEL_NAME} ==> device: {model.device}, memory: {model.get_memory_footprint()}\")"
   ]
  },
  {
   "cell_type": "code",
   "execution_count": 8,
   "metadata": {},
   "outputs": [],
   "source": [
    "import pandas as pd\n",
    "\n",
    "df = pd.read_csv(\"numbers_spelled_out.tsv\", delimiter='\\t')\n",
    "objects = list(df['words'])"
   ]
  },
  {
   "cell_type": "code",
   "execution_count": 9,
   "metadata": {},
   "outputs": [
    {
     "name": "stdout",
     "output_type": "stream",
     "text": [
      "eleven ===>  ten\n",
      "twelve ===>  eleven\n",
      "thirteen ===>  twelve\n",
      "fourteen ===>  thirteen\n"
     ]
    }
   ],
   "source": [
    "prompt = \"\"\"three comes after two\n",
    "six comes after five\n",
    "{} comes after\"\"\"\n",
    "\n",
    "# prompt = \"\"\"grape ends with E\n",
    "# monitor ends with R\n",
    "# glass ends with\"\"\"\n",
    "\n",
    "words = [ 'eleven', 'twelve', 'thirteen', 'fourteen']\n",
    "\n",
    "for w in words:\n",
    "    txt, ret_dict = model_utils.generate_fast(\n",
    "        model, tokenizer, \n",
    "        prompts=[prompt.format(w)], max_new_tokens=10, \n",
    "        get_answer_tokens=True, argmax_greedy=True\n",
    "    )\n",
    "    print(f\"{w} ===> {ret_dict['answer'][0]['top_token']}\")\n"
   ]
  },
  {
   "cell_type": "code",
   "execution_count": 20,
   "metadata": {},
   "outputs": [],
   "source": [
    "objects = [\" \" + o for o in df['words']]\n",
    "\n",
    "from relations.corner import CornerEstimator\n",
    "corner_estimator = CornerEstimator(model=model, tokenizer=tokenizer)"
   ]
  },
  {
   "cell_type": "code",
   "execution_count": 21,
   "metadata": {},
   "outputs": [
    {
     "name": "stdout",
     "output_type": "stream",
     "text": [
      "62.5 [' twelve', ' seven', ' fourteen', ' fifteen', ' six']\n"
     ]
    }
   ],
   "source": [
    "simple_corner = corner_estimator.estimate_simple_corner(objects, scale_up=70)\n",
    "print(simple_corner.norm().item(), corner_estimator.get_vocab_representation(simple_corner))"
   ]
  },
  {
   "cell_type": "code",
   "execution_count": 22,
   "metadata": {},
   "outputs": [],
   "source": [
    "# lin_inv_corner = corner_estimator.estimate_lin_inv_corner(objects, target_logit_value=50)\n",
    "# print(lin_inv_corner.norm().item(), corner_estimator.get_vocab_representation(lin_inv_corner))"
   ]
  },
  {
   "cell_type": "code",
   "execution_count": 23,
   "metadata": {},
   "outputs": [],
   "source": [
    "# avg_corner = corner_estimator.estimate_average_corner_with_gradient_descent(objects, average_on=5, target_logit_value=50, verbose=False)\n",
    "# print(avg_corner.norm().item(), corner_estimator.get_vocab_representation(avg_corner))"
   ]
  },
  {
   "cell_type": "code",
   "execution_count": 24,
   "metadata": {},
   "outputs": [],
   "source": [
    "def check_with_test_cases(relation_operator):\n",
    "\n",
    "    test_cases = [\n",
    "        (objects[i+1], -1, objects[i]) for i in range(len(objects) - 1)\n",
    "    ]\n",
    "\n",
    "    for subject, subject_token_index, target in test_cases:\n",
    "        answer = relation_operator(\n",
    "            subject,\n",
    "            subject_token_index=subject_token_index,\n",
    "            device=model.device,\n",
    "            return_top_k=5,\n",
    "        )\n",
    "        print(f\"{subject}, target: {target}   ==>   predicted: {answer}\")"
   ]
  },
  {
   "cell_type": "code",
   "execution_count": 25,
   "metadata": {},
   "outputs": [
    {
     "name": "stdout",
     "output_type": "stream",
     "text": [
      " two, target:  one   ==>   predicted: [' seven', ' twelve', ' eight', ' six', ' nine']\n",
      " three, target:  two   ==>   predicted: [' twelve', ' twenty', ' ten', ' seven', ' fourteen']\n",
      " four, target:  three   ==>   predicted: [' twelve', ' seven', ' ten', ' five', ' twenty']\n",
      " five, target:  four   ==>   predicted: [' twelve', ' nine', ' twenty', ' eight', ' seven']\n",
      " six, target:  five   ==>   predicted: [' seven', ' twelve', ' eight', ' five', ' ten']\n",
      " seven, target:  six   ==>   predicted: [' eight', ' twelve', ' nine', ' eleven', ' twenty']\n",
      " eight, target:  seven   ==>   predicted: [' twelve', ' seven', ' nine', ' ten', ' five']\n",
      " nine, target:  eight   ==>   predicted: [' twelve', ' seven', ' eight', ' ten', ' twenty']\n",
      " ten, target:  nine   ==>   predicted: [' twelve', ' eight', ' seven', ' twenty', ' eleven']\n",
      " eleven, target:  ten   ==>   predicted: [' twelve', ' eight', ' seven', ' twenty', ' six']\n",
      " twelve, target:  eleven   ==>   predicted: [' seven', ' five', ' eight', ' twelve', ' twenty']\n",
      " thirteen, target:  twelve   ==>   predicted: [' twelve', ' seven', ' eight', ' five', ' nine']\n",
      " fourteen, target:  thirteen   ==>   predicted: [' twelve', ' seven', ' five', ' eight', ' nine']\n",
      " fifteen, target:  fourteen   ==>   predicted: [' twelve', ' seven', ' eight', ' six', ' twenty']\n",
      " sixteen, target:  fifteen   ==>   predicted: [' twelve', ' seven', ' eight', ' five', ' ten']\n",
      " seventeen, target:  sixteen   ==>   predicted: [' twelve', ' eight', ' five', ' seven', ' twenty']\n",
      " eighteen, target:  seventeen   ==>   predicted: [' seven', ' twelve', ' five', ' eight', ' nine']\n",
      " nineteen, target:  eighteen   ==>   predicted: [' seven', ' twelve', ' eight', ' six', ' twenty']\n",
      " twenty, target:  nineteen   ==>   predicted: [' seven', ' eight', ' five', ' nine', ' six']\n"
     ]
    }
   ],
   "source": [
    "relation = estimate.RelationOperator(\n",
    "    model = model,\n",
    "    tokenizer = tokenizer,\n",
    "    relation = prompt,\n",
    "    layer = 15,\n",
    "    weight = torch.eye(model.config.n_embd).to(model.dtype).to(model.device),\n",
    "    bias = simple_corner\n",
    ")\n",
    "check_with_test_cases(relation)"
   ]
  },
  {
   "cell_type": "code",
   "execution_count": 26,
   "metadata": {},
   "outputs": [],
   "source": [
    "def get_averaged_JB(top_performers, relation_prompt, num_icl = 3, calculate_at_lnf = False):\n",
    "    try:\n",
    "        jbs = []\n",
    "        for s, s_idx, o in tqdm(top_performers):\n",
    "            others = set(top_performers) - {(s, s_idx, o)}\n",
    "            others = random.sample(list(others), k = min(num_icl, len(list(others)))) \n",
    "            prompt = \"\"\n",
    "            prompt += \"\\n\".join(relation_prompt.format(s_other) + f\" {o_other}.\" for s_other, idx_other, o_other in others) + \"\\n\"\n",
    "            prompt += relation_prompt\n",
    "            print(\"subject: \", s)\n",
    "            print(prompt)\n",
    "\n",
    "            jb, _ = estimate.relation_operator_from_sample(\n",
    "                model, tokenizer,\n",
    "                s, prompt,\n",
    "                subject_token_index= s_idx,\n",
    "                layer = 15,\n",
    "                device = model.device,\n",
    "                # calculate_at_lnf = calculate_at_lnf\n",
    "            )\n",
    "            print(jb.weight.norm(), jb.bias.norm())\n",
    "            print()\n",
    "            jbs.append(jb)\n",
    "        \n",
    "        weight = torch.stack([jb.weight for jb in jbs]).mean(dim=0)\n",
    "        bias  = torch.stack([jb.bias for jb in jbs]).mean(dim=0)\n",
    "\n",
    "        return weight, bias\n",
    "    except RuntimeError as e:\n",
    "        if(str(e).startswith(\"CUDA out of memory\")):\n",
    "            print(\"CUDA out of memory\")\n",
    "        if(num_icl > 1):\n",
    "            num_icl -= 1\n",
    "            print(\"trying with smaller icl >> \", num_icl)\n",
    "            return get_averaged_JB(top_performers, relation_prompt, num_icl, calculate_at_lnf)\n",
    "        else:\n",
    "            raise Exception(\"RuntimeError >> can't calculate Jacobian with minimum number of icl examples\")\n",
    "\n",
    "def get_multiple_averaged_JB(top_performers, relation_prompt, N = 3, num_icl = 2, calculate_at_lnf = False):\n",
    "    weights_and_biases = []\n",
    "    sample_size = min(len(top_performers), num_icl + 2)\n",
    "    for _ in tqdm(range(N)):\n",
    "        cur_sample = random.sample(top_performers, k = sample_size)\n",
    "        weight, bias = get_averaged_JB(cur_sample, relation_prompt, num_icl, calculate_at_lnf)\n",
    "        weights_and_biases.append({\n",
    "            'weight': weight,\n",
    "            'bias'  : bias\n",
    "        })\n",
    "    return weights_and_biases"
   ]
  },
  {
   "cell_type": "code",
   "execution_count": 28,
   "metadata": {},
   "outputs": [
    {
     "name": "stdout",
     "output_type": "stream",
     "text": [
      "[(' two', -1, ' one'), (' three', -1, ' two'), (' four', -1, ' three'), (' five', -1, ' four'), (' six', -1, ' five'), (' seven', -1, ' six'), (' eight', -1, ' seven'), (' nine', -1, ' eight'), (' ten', -1, ' nine'), (' eleven', -1, ' ten'), (' twelve', -1, ' eleven'), (' thirteen', -1, ' twelve'), (' fourteen', -1, ' thirteen'), (' fifteen', -1, ' fourteen'), (' sixteen', -1, ' fifteen'), (' seventeen', -1, ' sixteen'), (' eighteen', -1, ' seventeen'), (' nineteen', -1, ' eighteen'), (' twenty', -1, ' nineteen')]\n"
     ]
    },
    {
     "data": {
      "application/vnd.jupyter.widget-view+json": {
       "model_id": "38b01aeae4c14db099de7f3288147eea",
       "version_major": 2,
       "version_minor": 0
      },
      "text/plain": [
       "  0%|          | 0/3 [00:00<?, ?it/s]"
      ]
     },
     "metadata": {},
     "output_type": "display_data"
    },
    {
     "data": {
      "application/vnd.jupyter.widget-view+json": {
       "model_id": "f2b6548e04b04beb8fc76985eead2281",
       "version_major": 2,
       "version_minor": 0
      },
      "text/plain": [
       "  0%|          | 0/4 [00:00<?, ?it/s]"
      ]
     },
     "metadata": {},
     "output_type": "display_data"
    },
    {
     "name": "stdout",
     "output_type": "stream",
     "text": [
      "subject:   two\n",
      " four starts with  three.\n",
      " ten starts with  nine.\n",
      "{} starts with\n",
      "tensor(8.0703, device='cuda:0', dtype=torch.float16) tensor(359.5000, device='cuda:0', dtype=torch.float16)\n",
      "\n",
      "subject:   ten\n",
      " four starts with  three.\n",
      " two starts with  one.\n",
      "{} starts with\n",
      "tensor(8.9453, device='cuda:0', dtype=torch.float16) tensor(365.5000, device='cuda:0', dtype=torch.float16)\n",
      "\n",
      "subject:   four\n",
      " ten starts with  nine.\n",
      " two starts with  one.\n",
      "{} starts with\n",
      "tensor(6.2578, device='cuda:0', dtype=torch.float16) tensor(348.5000, device='cuda:0', dtype=torch.float16)\n",
      "\n",
      "subject:   six\n",
      " ten starts with  nine.\n",
      " two starts with  one.\n",
      "{} starts with\n",
      "tensor(6.3398, device='cuda:0', dtype=torch.float16) tensor(345.7500, device='cuda:0', dtype=torch.float16)\n",
      "\n"
     ]
    },
    {
     "data": {
      "application/vnd.jupyter.widget-view+json": {
       "model_id": "a64703ed65764787ba694ef0db0f43fa",
       "version_major": 2,
       "version_minor": 0
      },
      "text/plain": [
       "  0%|          | 0/4 [00:00<?, ?it/s]"
      ]
     },
     "metadata": {},
     "output_type": "display_data"
    },
    {
     "name": "stdout",
     "output_type": "stream",
     "text": [
      "subject:   four\n",
      " eighteen starts with  seventeen.\n",
      " nineteen starts with  eighteen.\n",
      "{} starts with\n",
      "tensor(8.5938, device='cuda:0', dtype=torch.float16) tensor(388.7500, device='cuda:0', dtype=torch.float16)\n",
      "\n",
      "subject:   eighteen\n",
      " four starts with  three.\n",
      " nineteen starts with  eighteen.\n",
      "{} starts with\n",
      "tensor(10.8828, device='cuda:0', dtype=torch.float16) tensor(392.7500, device='cuda:0', dtype=torch.float16)\n",
      "\n",
      "subject:   nineteen\n",
      " three starts with  two.\n",
      " four starts with  three.\n",
      "{} starts with\n",
      "tensor(6.3789, device='cuda:0', dtype=torch.float16) tensor(376., device='cuda:0', dtype=torch.float16)\n",
      "\n",
      "subject:   three\n",
      " nineteen starts with  eighteen.\n",
      " four starts with  three.\n",
      "{} starts with\n",
      "tensor(10.2422, device='cuda:0', dtype=torch.float16) tensor(369.7500, device='cuda:0', dtype=torch.float16)\n",
      "\n"
     ]
    },
    {
     "data": {
      "application/vnd.jupyter.widget-view+json": {
       "model_id": "a0dfc155399e4f90b9a2c5119d92c8a0",
       "version_major": 2,
       "version_minor": 0
      },
      "text/plain": [
       "  0%|          | 0/4 [00:00<?, ?it/s]"
      ]
     },
     "metadata": {},
     "output_type": "display_data"
    },
    {
     "name": "stdout",
     "output_type": "stream",
     "text": [
      "subject:   twenty\n",
      " five starts with  four.\n",
      " three starts with  two.\n",
      "{} starts with\n",
      "tensor(11.3906, device='cuda:0', dtype=torch.float16) tensor(393.2500, device='cuda:0', dtype=torch.float16)\n",
      "\n",
      "subject:   five\n",
      " twenty starts with  nineteen.\n",
      " three starts with  two.\n",
      "{} starts with\n",
      "tensor(5.8828, device='cuda:0', dtype=torch.float16) tensor(367.5000, device='cuda:0', dtype=torch.float16)\n",
      "\n",
      "subject:   three\n",
      " twenty starts with  nineteen.\n",
      " five starts with  four.\n",
      "{} starts with\n",
      "tensor(6.7773, device='cuda:0', dtype=torch.float16) tensor(382.7500, device='cuda:0', dtype=torch.float16)\n",
      "\n",
      "subject:   eight\n",
      " twenty starts with  nineteen.\n",
      " five starts with  four.\n",
      "{} starts with\n",
      "tensor(7.4492, device='cuda:0', dtype=torch.float16) tensor(381.7500, device='cuda:0', dtype=torch.float16)\n",
      "\n"
     ]
    }
   ],
   "source": [
    "samples = [\n",
    "        (objects[i+1], -1, objects[i]) for i in range(len(objects) - 1)\n",
    "    ]\n",
    "print(samples)\n",
    "\n",
    "weights_and_biases = get_multiple_averaged_JB(\n",
    "    samples, \n",
    "    relation_prompt=\"{} starts with\", \n",
    "    N = 3, \n",
    "    calculate_at_lnf=False\n",
    ")"
   ]
  },
  {
   "cell_type": "code",
   "execution_count": 29,
   "metadata": {},
   "outputs": [
    {
     "data": {
      "text/plain": [
       "'three comes after two\\nsix comes after five\\n{} comes after'"
      ]
     },
     "execution_count": 29,
     "metadata": {},
     "output_type": "execute_result"
    }
   ],
   "source": [
    "prompt"
   ]
  },
  {
   "cell_type": "code",
   "execution_count": 31,
   "metadata": {},
   "outputs": [
    {
     "name": "stdout",
     "output_type": "stream",
     "text": [
      " two, target:  one   ==>   predicted: [' ', '.', ' one', ' two', ' three']\n",
      " three, target:  two   ==>   predicted: [' ', '.', ' one', ' three', ' two']\n",
      " four, target:  three   ==>   predicted: [' ', '.', ' one', ' three', ' four']\n",
      " five, target:  four   ==>   predicted: [' ', '.', ' one', ' three', ' two']\n",
      " six, target:  five   ==>   predicted: [' ', '.', ' one', ' three', '\\n']\n",
      " seven, target:  six   ==>   predicted: [' ', '.', ' one', ' three', '\\n']\n",
      " eight, target:  seven   ==>   predicted: [' ', '.', ' one', ' three', ' two']\n",
      " nine, target:  eight   ==>   predicted: [' ', '.', ' one', ' three', ' two']\n",
      " ten, target:  nine   ==>   predicted: [' ', '.', ' one', ' three', ' two']\n",
      " eleven, target:  ten   ==>   predicted: [' ', '.', ' one', ' three', ' two']\n",
      " twelve, target:  eleven   ==>   predicted: [' ', '.', ' one', ' three', ' two']\n",
      " thirteen, target:  twelve   ==>   predicted: [' ', '.', ' one', ' three', ' two']\n",
      " fourteen, target:  thirteen   ==>   predicted: [' ', '.', ' one', ' three', ' two']\n",
      " fifteen, target:  fourteen   ==>   predicted: [' ', '.', ' one', ' three', ' two']\n",
      " sixteen, target:  fifteen   ==>   predicted: [' ', '.', ' one', ' three', ' two']\n",
      " seventeen, target:  sixteen   ==>   predicted: [' ', '.', ' one', ' three', ' two']\n",
      " eighteen, target:  seventeen   ==>   predicted: [' ', '.', ' one', ' three', ' two']\n",
      " nineteen, target:  eighteen   ==>   predicted: [' ', '.', ' one', ' three', ' two']\n",
      " twenty, target:  nineteen   ==>   predicted: [' ', '.', ' one', ' two', ' three']\n"
     ]
    }
   ],
   "source": [
    "relation_operator = estimate.RelationOperator(\n",
    "    model = model,\n",
    "    tokenizer= tokenizer,\n",
    "    relation = prompt,\n",
    "    layer = 15,\n",
    "    weight = torch.stack(\n",
    "        [wb['weight'] for wb in weights_and_biases]\n",
    "    ).mean(dim=0),\n",
    "    bias = torch.stack(\n",
    "        [wb['bias'] for wb in weights_and_biases]\n",
    "    ).mean(dim=0),\n",
    "    # bias = simple_corner\n",
    ")\n",
    "\n",
    "check_with_test_cases(relation_operator)"
   ]
  },
  {
   "cell_type": "code",
   "execution_count": 32,
   "metadata": {},
   "outputs": [
    {
     "data": {
      "text/plain": [
       "[' ', '.', ' one', ' three', ' two']"
      ]
     },
     "execution_count": 32,
     "metadata": {},
     "output_type": "execute_result"
    }
   ],
   "source": [
    "corner_estimator.get_vocab_representation(\n",
    "    torch.stack(\n",
    "        [wb['bias'] for wb in weights_and_biases]\n",
    "    ).mean(dim=0)\n",
    ")"
   ]
  },
  {
   "cell_type": "code",
   "execution_count": null,
   "metadata": {},
   "outputs": [],
   "source": []
  }
 ],
 "metadata": {
  "kernelspec": {
   "display_name": "relation",
   "language": "python",
   "name": "python3"
  },
  "language_info": {
   "codemirror_mode": {
    "name": "ipython",
    "version": 3
   },
   "file_extension": ".py",
   "mimetype": "text/x-python",
   "name": "python",
   "nbconvert_exporter": "python",
   "pygments_lexer": "ipython3",
   "version": "3.10.8"
  },
  "orig_nbformat": 4,
  "vscode": {
   "interpreter": {
    "hash": "3439fe3f7dcaddaf51997811d25ada8e7c0985d2997d22a3ed461af94d2f9f43"
   }
  }
 },
 "nbformat": 4,
 "nbformat_minor": 2
}
