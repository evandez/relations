{
 "cells": [
  {
   "cell_type": "code",
   "execution_count": null,
   "id": "d465f696",
   "metadata": {},
   "outputs": [],
   "source": [
    "%load_ext autoreload\n",
    "%autoreload 2"
   ]
  },
  {
   "cell_type": "code",
   "execution_count": null,
   "id": "9bdfca4c",
   "metadata": {},
   "outputs": [],
   "source": [
    "# enable high-resolution figure\n",
    "%matplotlib inline\n",
    "%config InlineBackend.figure_format = 'retina'\n",
    "import matplotlib.pyplot as plt\n",
    "from experiments.summarize import main as summarize_main\n",
    "from pathlib import Path\n",
    "import math"
   ]
  },
  {
   "cell_type": "code",
   "execution_count": null,
   "id": "451eb471",
   "metadata": {},
   "outputs": [],
   "source": [
    "RESULTS_DIR = Path(\"results/sweeps\")\n",
    "DATA = {}\n",
    "KEYS = None\n",
    "for method_dir in RESULTS_DIR.iterdir():\n",
    "    method_name = str(method_dir).split(\"/\")[-1]\n",
    "    print(method_name)\n",
    "    n_edit_folders = list(method_dir.glob(\"*_edits_setting_*\"))\n",
    "    for n_edit_folder in n_edit_folders:\n",
    "        n_edits = int(str(n_edit_folder.name).split(\"/\")[-1].split(\"_\")[0])\n",
    "        setting_id = str(n_edit_folder.name).split(\"/\")[-1].split(\"_\")[-1]\n",
    "        try:\n",
    "            res = summarize_main(n_edit_folder.relative_to(\"results\"), [\"run_000\"])[0]\n",
    "\n",
    "            DATA[method_name] = DATA.get(method_name, {})\n",
    "            DATA[method_name][n_edits] = DATA[method_name].get(n_edits, {})\n",
    "            DATA[method_name][n_edits][setting_id] = res\n",
    "\n",
    "            if KEYS is None:\n",
    "                KEYS = list(res.keys())\n",
    "        except:\n",
    "            pass\n",
    "\n",
    "print({k: list(v.keys()) for k, v in DATA.items()})"
   ]
  },
  {
   "cell_type": "code",
   "execution_count": null,
   "id": "49efeea0",
   "metadata": {
    "scrolled": false
   },
   "outputs": [],
   "source": [
    "for method, all_n_edits in sorted([(k, v) for k, v in DATA.items()]):\n",
    "    for n_edits, results in sorted([(k, v) for k, v in all_n_edits.items()]):\n",
    "        w = 4\n",
    "        h = math.ceil(len(KEYS) / w)\n",
    "        plt.figure(figsize=(w * 3.5, h * 2.5))\n",
    "        if \"run_dir\" in KEYS:\n",
    "            KEYS.pop(KEYS.index(\"run_dir\"))\n",
    "        for i, key in enumerate(KEYS):\n",
    "            plt.subplot(w, h, i + 1)\n",
    "\n",
    "            try:\n",
    "                setting_ids = list(map(int, results.keys()))\n",
    "                values = [\n",
    "                    f[0] if (type(f := results[str(n)][key]) is tuple) else f\n",
    "                    for n in setting_ids\n",
    "                ]\n",
    "                plt.plot(setting_ids, values, marker=\"o\", markersize=4, label=method)\n",
    "                plt.xlabel(\"setting_id\")\n",
    "                plt.ylabel(\"metric value\")\n",
    "                plt.title(f\"{n_edits} edits: {key}\")\n",
    "                plt.legend()\n",
    "            except:\n",
    "                pass\n",
    "\n",
    "        plt.tight_layout()\n",
    "        plt.show()"
   ]
  },
  {
   "cell_type": "code",
   "execution_count": null,
   "id": "ae8e7ea4",
   "metadata": {},
   "outputs": [],
   "source": []
  }
 ],
 "metadata": {
  "accelerator": "GPU",
  "kernelspec": {
   "display_name": "Python 3 (ipykernel)",
   "language": "python",
   "name": "python3"
  },
  "language_info": {
   "codemirror_mode": {
    "name": "ipython",
    "version": 3
   },
   "file_extension": ".py",
   "mimetype": "text/x-python",
   "name": "python",
   "nbconvert_exporter": "python",
   "pygments_lexer": "ipython3",
   "version": "3.9.7"
  },
  "vscode": {
   "interpreter": {
    "hash": "2c3ec9f9cb0aa45979d92499665f4b05f2a3528d3b2ca0efacea2020d32b93f4"
   }
  }
 },
 "nbformat": 4,
 "nbformat_minor": 5
}
