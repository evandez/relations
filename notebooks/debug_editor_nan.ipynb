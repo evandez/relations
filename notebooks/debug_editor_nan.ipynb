{
 "cells": [
  {
   "cell_type": "code",
   "execution_count": 1,
   "metadata": {},
   "outputs": [],
   "source": [
    "%load_ext autoreload\n",
    "%autoreload 2"
   ]
  },
  {
   "cell_type": "code",
   "execution_count": 2,
   "metadata": {},
   "outputs": [
    {
     "data": {
      "text/plain": [
       "('1.13.1+cu117', '11.7')"
      ]
     },
     "execution_count": 2,
     "metadata": {},
     "output_type": "execute_result"
    }
   ],
   "source": [
    "import sys\n",
    "sys.path.append('..')\n",
    "\n",
    "import torch\n",
    "torch.__version__, torch.version.cuda"
   ]
  },
  {
   "cell_type": "code",
   "execution_count": 3,
   "metadata": {},
   "outputs": [],
   "source": [
    "from src import models, data, lens, functional\n",
    "from src.utils import experiment_utils\n",
    "\n",
    "import logging\n",
    "from src.utils import logging_utils\n",
    "logger = logging.getLogger(__name__)\n",
    "logging.basicConfig(\n",
    "    level=logging.DEBUG,\n",
    "    format=logging_utils.DEFAULT_FORMAT,\n",
    "    datefmt=logging_utils.DEFAULT_DATEFMT,\n",
    "    stream=sys.stdout,\n",
    ")"
   ]
  },
  {
   "cell_type": "code",
   "execution_count": 4,
   "metadata": {},
   "outputs": [
    {
     "name": "stdout",
     "output_type": "stream",
     "text": [
      "2024-02-22 11:46:22 src.models INFO     loading state-spaces/mamba-2.8b-slimpj (device=cuda:0, fp16=False)\n",
      "2024-02-22 11:46:22 urllib3.connectionpool DEBUG    Starting new HTTPS connection (1): huggingface.co:443\n",
      "2024-02-22 11:46:22 urllib3.connectionpool DEBUG    https://huggingface.co:443 \"HEAD /state-spaces/mamba-2.8b-slimpj/resolve/main/config.json HTTP/1.1\" 200 0\n",
      "2024-02-22 11:46:22 root WARNING  !!! turning off fused_add_norm for to avoid using Triton !!! CAIS cluster can't import triton functions (temporary patch)\n",
      "2024-02-22 11:46:22 mamba.mamba_ssm.models.mixer_seq_simple INFO     {'d_model': 2560, 'n_layer': 64, 'vocab_size': 50277, 'ssm_cfg': {}, 'rms_norm': True, 'residual_in_fp32': True, 'fused_add_norm': False, 'pad_vocab_size_multiple': 8}\n",
      "2024-02-22 11:46:40 urllib3.connectionpool DEBUG    https://huggingface.co:443 \"HEAD /state-spaces/mamba-2.8b-slimpj/resolve/main/pytorch_model.bin HTTP/1.1\" 302 0\n",
      "2024-02-22 11:46:49 urllib3.connectionpool DEBUG    https://huggingface.co:443 \"HEAD /EleutherAI/gpt-neox-20b/resolve/main/tokenizer_config.json HTTP/1.1\" 200 0\n"
     ]
    },
    {
     "name": "stderr",
     "output_type": "stream",
     "text": [
      "Special tokens have been added in the vocabulary, make sure the associated word embeddings are fine-tuned or trained.\n"
     ]
    },
    {
     "name": "stdout",
     "output_type": "stream",
     "text": [
      "2024-02-22 11:46:49 src.models INFO     dtype: torch.float32, device: cuda:0, memory: 10.31 GB\n"
     ]
    }
   ],
   "source": [
    "device = \"cuda:0\"\n",
    "mt = models.load_model(\"mamba-3b\", device=device, fp16=False)\n",
    "# mt = models.load_model(\"gptj\", device=device, fp16=True)"
   ]
  },
  {
   "cell_type": "code",
   "execution_count": 7,
   "metadata": {},
   "outputs": [
    {
     "name": "stdout",
     "output_type": "stream",
     "text": [
      "2024-02-22 11:48:30 src.data DEBUG    no paths provided, using default data dir: /home/local_arnab/Codes/relations/notebooks/../data\n",
      "2024-02-22 11:48:30 src.data DEBUG    /home/local_arnab/Codes/relations/notebooks/../data is directory, globbing for json files...\n",
      "2024-02-22 11:48:30 src.data DEBUG    found relation file: /home/local_arnab/Codes/relations/notebooks/../data/bias/characteristic_gender.json\n",
      "2024-02-22 11:48:30 src.data DEBUG    found relation file: /home/local_arnab/Codes/relations/notebooks/../data/bias/degree_gender.json\n",
      "2024-02-22 11:48:30 src.data DEBUG    found relation file: /home/local_arnab/Codes/relations/notebooks/../data/bias/name_birthplace.json\n",
      "2024-02-22 11:48:30 src.data DEBUG    found relation file: /home/local_arnab/Codes/relations/notebooks/../data/bias/name_gender.json\n",
      "2024-02-22 11:48:30 src.data DEBUG    found relation file: /home/local_arnab/Codes/relations/notebooks/../data/bias/name_religion.json\n",
      "2024-02-22 11:48:30 src.data DEBUG    found relation file: /home/local_arnab/Codes/relations/notebooks/../data/bias/occupation_age.json\n",
      "2024-02-22 11:48:30 src.data DEBUG    found relation file: /home/local_arnab/Codes/relations/notebooks/../data/bias/occupation_gender.json\n",
      "2024-02-22 11:48:30 src.data DEBUG    found relation file: /home/local_arnab/Codes/relations/notebooks/../data/commonsense/fruit_inside_color.json\n",
      "2024-02-22 11:48:30 src.data DEBUG    found relation file: /home/local_arnab/Codes/relations/notebooks/../data/commonsense/fruit_outside_color.json\n",
      "2024-02-22 11:48:30 src.data DEBUG    found relation file: /home/local_arnab/Codes/relations/notebooks/../data/commonsense/object_superclass.json\n",
      "2024-02-22 11:48:30 src.data DEBUG    found relation file: /home/local_arnab/Codes/relations/notebooks/../data/commonsense/substance_phase.json\n",
      "2024-02-22 11:48:30 src.data DEBUG    found relation file: /home/local_arnab/Codes/relations/notebooks/../data/commonsense/task_done_by_person.json\n",
      "2024-02-22 11:48:30 src.data DEBUG    found relation file: /home/local_arnab/Codes/relations/notebooks/../data/commonsense/task_done_by_tool.json\n",
      "2024-02-22 11:48:30 src.data DEBUG    found relation file: /home/local_arnab/Codes/relations/notebooks/../data/commonsense/word_sentiment.json\n",
      "2024-02-22 11:48:30 src.data DEBUG    found relation file: /home/local_arnab/Codes/relations/notebooks/../data/commonsense/work_location.json\n",
      "2024-02-22 11:48:30 src.data DEBUG    found relation file: /home/local_arnab/Codes/relations/notebooks/../data/factual/city_in_country.json\n",
      "2024-02-22 11:48:30 src.data DEBUG    found relation file: /home/local_arnab/Codes/relations/notebooks/../data/factual/company_ceo.json\n",
      "2024-02-22 11:48:30 src.data DEBUG    found relation file: /home/local_arnab/Codes/relations/notebooks/../data/factual/company_hq.json\n",
      "2024-02-22 11:48:30 src.data DEBUG    found relation file: /home/local_arnab/Codes/relations/notebooks/../data/factual/country_capital_city.json\n",
      "2024-02-22 11:48:30 src.data DEBUG    found relation file: /home/local_arnab/Codes/relations/notebooks/../data/factual/country_currency.json\n",
      "2024-02-22 11:48:30 src.data DEBUG    found relation file: /home/local_arnab/Codes/relations/notebooks/../data/factual/country_language.json\n",
      "2024-02-22 11:48:30 src.data DEBUG    found relation file: /home/local_arnab/Codes/relations/notebooks/../data/factual/country_largest_city.json\n",
      "2024-02-22 11:48:30 src.data DEBUG    found relation file: /home/local_arnab/Codes/relations/notebooks/../data/factual/food_from_country.json\n",
      "2024-02-22 11:48:30 src.data DEBUG    found relation file: /home/local_arnab/Codes/relations/notebooks/../data/factual/landmark_in_country.json\n",
      "2024-02-22 11:48:30 src.data DEBUG    found relation file: /home/local_arnab/Codes/relations/notebooks/../data/factual/landmark_on_continent.json\n",
      "2024-02-22 11:48:30 src.data DEBUG    found relation file: /home/local_arnab/Codes/relations/notebooks/../data/factual/person_band_lead_singer.json\n",
      "2024-02-22 11:48:30 src.data DEBUG    found relation file: /home/local_arnab/Codes/relations/notebooks/../data/factual/person_father.json\n",
      "2024-02-22 11:48:30 src.data DEBUG    found relation file: /home/local_arnab/Codes/relations/notebooks/../data/factual/person_mother.json\n",
      "2024-02-22 11:48:30 src.data DEBUG    found relation file: /home/local_arnab/Codes/relations/notebooks/../data/factual/person_native_language.json\n",
      "2024-02-22 11:48:30 src.data DEBUG    found relation file: /home/local_arnab/Codes/relations/notebooks/../data/factual/person_occupation.json\n",
      "2024-02-22 11:48:30 src.data DEBUG    found relation file: /home/local_arnab/Codes/relations/notebooks/../data/factual/person_plays_instrument.json\n",
      "2024-02-22 11:48:30 src.data DEBUG    found relation file: /home/local_arnab/Codes/relations/notebooks/../data/factual/person_plays_position_in_sport.json\n",
      "2024-02-22 11:48:30 src.data DEBUG    found relation file: /home/local_arnab/Codes/relations/notebooks/../data/factual/person_plays_pro_sport.json\n",
      "2024-02-22 11:48:30 src.data DEBUG    found relation file: /home/local_arnab/Codes/relations/notebooks/../data/factual/person_university.json\n",
      "2024-02-22 11:48:30 src.data DEBUG    found relation file: /home/local_arnab/Codes/relations/notebooks/../data/factual/pokemon_evolutions.json\n",
      "2024-02-22 11:48:30 src.data DEBUG    found relation file: /home/local_arnab/Codes/relations/notebooks/../data/factual/presidents_birth_year.json\n",
      "2024-02-22 11:48:30 src.data DEBUG    found relation file: /home/local_arnab/Codes/relations/notebooks/../data/factual/presidents_election_year.json\n",
      "2024-02-22 11:48:30 src.data DEBUG    found relation file: /home/local_arnab/Codes/relations/notebooks/../data/factual/product_by_company.json\n",
      "2024-02-22 11:48:30 src.data DEBUG    found relation file: /home/local_arnab/Codes/relations/notebooks/../data/factual/star_constellation.json\n",
      "2024-02-22 11:48:30 src.data DEBUG    found relation file: /home/local_arnab/Codes/relations/notebooks/../data/factual/superhero_archnemesis.json\n",
      "2024-02-22 11:48:30 src.data DEBUG    found relation file: /home/local_arnab/Codes/relations/notebooks/../data/factual/superhero_person.json\n",
      "2024-02-22 11:48:30 src.data DEBUG    found relation file: /home/local_arnab/Codes/relations/notebooks/../data/linguistic/adj_antonym.json\n",
      "2024-02-22 11:48:30 src.data DEBUG    found relation file: /home/local_arnab/Codes/relations/notebooks/../data/linguistic/adj_comparative.json\n",
      "2024-02-22 11:48:30 src.data DEBUG    found relation file: /home/local_arnab/Codes/relations/notebooks/../data/linguistic/adj_superlative.json\n",
      "2024-02-22 11:48:30 src.data DEBUG    found relation file: /home/local_arnab/Codes/relations/notebooks/../data/linguistic/verb_past_tense.json\n",
      "2024-02-22 11:48:30 src.data DEBUG    found relation file: /home/local_arnab/Codes/relations/notebooks/../data/linguistic/word_first_letter.json\n",
      "2024-02-22 11:48:30 src.data DEBUG    found relation file: /home/local_arnab/Codes/relations/notebooks/../data/linguistic/word_last_letter.json\n",
      "2024-02-22 11:48:30 src.data DEBUG    found 47 relation files total, loading...\n"
     ]
    }
   ],
   "source": [
    "dataset = data.load_dataset()"
   ]
  },
  {
   "cell_type": "code",
   "execution_count": 8,
   "metadata": {},
   "outputs": [
    {
     "name": "stdout",
     "output_type": "stream",
     "text": [
      "2024-02-22 11:48:33 src.data DEBUG    filtering to only relations: ['name gender']\n",
      "name gender -- 19 samples\n",
      "------------------------------------------------------\n"
     ]
    }
   ],
   "source": [
    "relation_name = \"name gender\"\n",
    "relation = dataset.filter(relation_names=[relation_name])[0]\n",
    "print(f\"{relation.name} -- {len(relation.samples)} samples\")\n",
    "print(\"------------------------------------------------------\")"
   ]
  },
  {
   "cell_type": "code",
   "execution_count": 42,
   "metadata": {},
   "outputs": [],
   "source": [
    "from src.sweeps import load_o1_approxes\n",
    "\n",
    "training_subjects = [\n",
    "    'Michael', 'Benjamin', 'Scarlett', 'Oliver', 'Tom'\n",
    "]\n",
    "training_subjects = [s.lower().replace(\" \", \"_\") for s in training_subjects]\n",
    "\n",
    "layer = 18\n",
    "\n",
    "path = f\"../results/cache_o1_approxes/{mt.name}/{relation_name.lower().replace(' ', '_')}/{layer}\"\n",
    "\n",
    "train_approxes = load_o1_approxes(\n",
    "     path=path, sample_subjects=training_subjects\n",
    ")\n",
    "\n",
    "train_samples = [\n",
    "    data.RelationSample.from_dict(approx.metadata[\"sample\"])\n",
    "    for approx in train_approxes\n",
    "]\n",
    "train_relation = relation.set(samples=train_samples)\n",
    "test_relation = relation.set(\n",
    "    samples=list(set(relation.samples) - set(train_relation.samples))\n",
    ")"
   ]
  },
  {
   "cell_type": "code",
   "execution_count": 43,
   "metadata": {},
   "outputs": [],
   "source": [
    "prompt_template = relation.prompt_templates[0]"
   ]
  },
  {
   "cell_type": "code",
   "execution_count": 44,
   "metadata": {},
   "outputs": [],
   "source": [
    "weight = torch.stack(\n",
    "    [approx.weight for approx in train_approxes]\n",
    ").mean(dim=0)\n",
    "bias = torch.stack([approx.bias for approx in train_approxes]).mean(\n",
    "    dim=0\n",
    ")\n",
    "prompt_template_icl = functional.make_prompt(\n",
    "    mt=mt,\n",
    "    prompt_template=prompt_template,\n",
    "    subject=\"{}\",\n",
    "    examples=train_samples,\n",
    ")\n",
    "\n",
    "from src.operators import LinearRelationOperator\n",
    "\n",
    "operator = LinearRelationOperator(\n",
    "    mt=mt,\n",
    "    weight=weight,\n",
    "    bias=bias,\n",
    "    h_layer=train_approxes[0].h_layer,\n",
    "    z_layer=train_approxes[0].z_layer,\n",
    "    prompt_template=prompt_template_icl,\n",
    "    metadata={\n",
    "        \"Jh\": [\n",
    "            (approx.weight @ approx.h).detach().cpu()\n",
    "            for approx in train_approxes\n",
    "        ],\n",
    "        \"|w|\": [\n",
    "            approx.weight.norm().item() for approx in train_approxes\n",
    "        ],\n",
    "        \"|b|\": [\n",
    "            approx.bias.norm().item() for approx in train_approxes\n",
    "        ],\n",
    "    },\n",
    ")"
   ]
  },
  {
   "cell_type": "code",
   "execution_count": 45,
   "metadata": {},
   "outputs": [],
   "source": [
    "weight = operator.weight.clone()\n",
    "svd = torch.svd(weight.float())"
   ]
  },
  {
   "cell_type": "code",
   "execution_count": 47,
   "metadata": {},
   "outputs": [
    {
     "name": "stdout",
     "output_type": "stream",
     "text": [
      "2024-02-22 14:26:15 src.utils.experiment_utils INFO     setting all seeds to 71745\n"
     ]
    },
    {
     "name": "stdout",
     "output_type": "stream",
     "text": [
      "2024-02-22 14:26:15 src.editors DEBUG    computing low-rank pinv (rel=<|endoftext|> Michael is usually a name for a man\n",
      "Benjamin is usually a name for a man\n",
      "Scarlett is usually a name for a woman\n",
      "Oliver is usually a name for a man\n",
      "Tom is usually a name for a man\n",
      "{} is usually a name for a)\n",
      "2024-02-22 14:26:15 __main__ DEBUG    editing: layer=18 rank=tensor(250) sample.subject='Evan' | target.subject='Mia' -> target.object='woman' |>> pred=\"' woman' (p=0.920)\" (✓)\n",
      "2024-02-22 14:26:15 __main__ DEBUG    editing: layer=18 rank=tensor(250) sample.subject='Emily' | target.subject='Caleb' -> target.object='man' |>> pred=\"' man' (p=0.936)\" (✓)\n",
      "2024-02-22 14:26:16 __main__ DEBUG    editing: layer=18 rank=tensor(250) sample.subject='David' | target.subject='Sofia' -> target.object='woman' |>> pred=\"' woman' (p=0.929)\" (✓)\n",
      "2024-02-22 14:26:16 __main__ DEBUG    editing: layer=18 rank=tensor(250) sample.subject='William' | target.subject='Sofia' -> target.object='woman' |>> pred=\"' woman' (p=0.784)\" (✓)\n",
      "2024-02-22 14:26:16 __main__ DEBUG    editing: layer=18 rank=tensor(250) sample.subject='Mia' | target.subject='Caleb' -> target.object='man' |>> pred=\"' man' (p=0.965)\" (✓)\n",
      "2024-02-22 14:26:16 __main__ DEBUG    editing: layer=18 rank=tensor(250) sample.subject='Connor' | target.subject='Emily' -> target.object='woman' |>> pred=\"' woman' (p=0.935)\" (✓)\n",
      "2024-02-22 14:26:16 __main__ DEBUG    editing: layer=18 rank=tensor(250) sample.subject='Caleb' | target.subject='Natalie' -> target.object='woman' |>> pred=\"' woman' (p=0.963)\" (✓)\n",
      "2024-02-22 14:26:16 __main__ DEBUG    editing: layer=18 rank=tensor(250) sample.subject='Lucas' | target.subject='Natalie' -> target.object='woman' |>> pred=\"' woman' (p=0.957)\" (✓)\n",
      "2024-02-22 14:26:16 __main__ DEBUG    editing: layer=18 rank=tensor(250) sample.subject='Hannah' | target.subject='Evan' -> target.object='man' |>> pred=\"' man' (p=0.874)\" (✓)\n",
      "2024-02-22 14:26:16 __main__ DEBUG    editing: layer=18 rank=tensor(250) sample.subject='Sofia' | target.subject='Evan' -> target.object='man' |>> pred=\"' man' (p=0.908)\" (✓)\n",
      "2024-02-22 14:26:16 __main__ DEBUG    editing: layer=18 rank=tensor(250) sample.subject='Lisa' | target.subject='David' -> target.object='man' |>> pred=\"' man' (p=0.919)\" (✓)\n",
      "2024-02-22 14:26:16 __main__ DEBUG    editing: layer=18 rank=tensor(250) sample.subject='Dylan' | target.subject='Emily' -> target.object='woman' |>> pred=\"' woman' (p=0.971)\" (✓)\n",
      "2024-02-22 14:26:16 __main__ DEBUG    editing: layer=18 rank=tensor(250) sample.subject='Natalie' | target.subject='William' -> target.object='man' |>> pred=\"' man' (p=0.913)\" (✓)\n",
      "2024-02-22 14:26:16 __main__ INFO     --------------------------------------------------------------------------------\n",
      "2024-02-22 14:26:16 __main__ INFO     editing finished: layer=18 rank=tensor(250) efficacy=[1.0, 1.0, 1.0, 1.0, 1.0, 1.0, 1.0, 1.0, 1.0, 1.0]\n",
      "2024-02-22 14:26:16 __main__ INFO     --------------------------------------------------------------------------------\n",
      "2024-02-22 14:26:16 src.editors DEBUG    computing low-rank pinv (rel=<|endoftext|> Michael is usually a name for a man\n",
      "Benjamin is usually a name for a man\n",
      "Scarlett is usually a name for a woman\n",
      "Oliver is usually a name for a man\n",
      "Tom is usually a name for a man\n",
      "{} is usually a name for a)\n",
      "2024-02-22 14:26:16 __main__ DEBUG    editing: layer=18 rank=tensor(252) sample.subject='Evan' | target.subject='Mia' -> target.object='woman' |>> pred=\"' woman' (p=0.919)\" (✓)\n",
      "2024-02-22 14:26:16 __main__ DEBUG    editing: layer=18 rank=tensor(252) sample.subject='Emily' | target.subject='Caleb' -> target.object='man' |>> pred=\"' man' (p=0.934)\" (✓)\n",
      "2024-02-22 14:26:16 __main__ DEBUG    editing: layer=18 rank=tensor(252) sample.subject='David' | target.subject='Sofia' -> target.object='woman' |>> pred=\"' woman' (p=0.929)\" (✓)\n",
      "2024-02-22 14:26:16 __main__ DEBUG    editing: layer=18 rank=tensor(252) sample.subject='William' | target.subject='Sofia' -> target.object='woman' |>> pred=\"' woman' (p=0.789)\" (✓)\n",
      "2024-02-22 14:26:16 __main__ DEBUG    editing: layer=18 rank=tensor(252) sample.subject='Mia' | target.subject='Caleb' -> target.object='man' |>> pred=\"' man' (p=0.965)\" (✓)\n",
      "2024-02-22 14:26:17 __main__ DEBUG    editing: layer=18 rank=tensor(252) sample.subject='Connor' | target.subject='Emily' -> target.object='woman' |>> pred=\"' woman' (p=0.942)\" (✓)\n",
      "2024-02-22 14:26:17 __main__ DEBUG    editing: layer=18 rank=tensor(252) sample.subject='Caleb' | target.subject='Natalie' -> target.object='woman' |>> pred=\"' woman' (p=0.964)\" (✓)\n",
      "2024-02-22 14:26:17 __main__ DEBUG    editing: layer=18 rank=tensor(252) sample.subject='Lucas' | target.subject='Natalie' -> target.object='woman' |>> pred=\"' woman' (p=0.958)\" (✓)\n",
      "2024-02-22 14:26:17 __main__ DEBUG    editing: layer=18 rank=tensor(252) sample.subject='Hannah' | target.subject='Evan' -> target.object='man' |>> pred=\"' man' (p=0.868)\" (✓)\n",
      "2024-02-22 14:26:17 __main__ DEBUG    editing: layer=18 rank=tensor(252) sample.subject='Sofia' | target.subject='Evan' -> target.object='man' |>> pred=\"' man' (p=0.907)\" (✓)\n",
      "2024-02-22 14:26:17 __main__ DEBUG    editing: layer=18 rank=tensor(252) sample.subject='Lisa' | target.subject='David' -> target.object='man' |>> pred=\"' man' (p=0.919)\" (✓)\n",
      "2024-02-22 14:26:17 __main__ DEBUG    editing: layer=18 rank=tensor(252) sample.subject='Dylan' | target.subject='Emily' -> target.object='woman' |>> pred=\"' woman' (p=0.972)\" (✓)\n",
      "2024-02-22 14:26:17 __main__ DEBUG    editing: layer=18 rank=tensor(252) sample.subject='Natalie' | target.subject='William' -> target.object='man' |>> pred=\"' man' (p=0.907)\" (✓)\n",
      "2024-02-22 14:26:17 __main__ INFO     --------------------------------------------------------------------------------\n",
      "2024-02-22 14:26:17 __main__ INFO     editing finished: layer=18 rank=tensor(252) efficacy=[1.0, 1.0, 1.0, 1.0, 1.0, 1.0, 1.0, 1.0, 1.0, 1.0]\n",
      "2024-02-22 14:26:17 __main__ INFO     --------------------------------------------------------------------------------\n",
      "2024-02-22 14:26:17 src.editors DEBUG    computing low-rank pinv (rel=<|endoftext|> Michael is usually a name for a man\n",
      "Benjamin is usually a name for a man\n",
      "Scarlett is usually a name for a woman\n",
      "Oliver is usually a name for a man\n",
      "Tom is usually a name for a man\n",
      "{} is usually a name for a)\n",
      "2024-02-22 14:26:17 __main__ DEBUG    editing: layer=18 rank=tensor(254) sample.subject='Evan' | target.subject='Mia' -> target.object='woman' |>> pred=\"' woman' (p=0.917)\" (✓)\n",
      "2024-02-22 14:26:17 __main__ DEBUG    editing: layer=18 rank=tensor(254) sample.subject='Emily' | target.subject='Caleb' -> target.object='man' |>> pred=\"' man' (p=0.934)\" (✓)\n",
      "2024-02-22 14:26:17 __main__ DEBUG    editing: layer=18 rank=tensor(254) sample.subject='David' | target.subject='Sofia' -> target.object='woman' |>> pred=\"' woman' (p=0.925)\" (✓)\n",
      "2024-02-22 14:26:17 __main__ DEBUG    editing: layer=18 rank=tensor(254) sample.subject='William' | target.subject='Sofia' -> target.object='woman' |>> pred=\"' woman' (p=0.775)\" (✓)\n",
      "2024-02-22 14:26:17 __main__ DEBUG    editing: layer=18 rank=tensor(254) sample.subject='Mia' | target.subject='Caleb' -> target.object='man' |>> pred=\"' man' (p=0.965)\" (✓)\n",
      "2024-02-22 14:26:17 __main__ DEBUG    editing: layer=18 rank=tensor(254) sample.subject='Connor' | target.subject='Emily' -> target.object='woman' |>> pred=\"' woman' (p=0.939)\" (✓)\n",
      "2024-02-22 14:26:17 __main__ DEBUG    editing: layer=18 rank=tensor(254) sample.subject='Caleb' | target.subject='Natalie' -> target.object='woman' |>> pred=\"' woman' (p=0.963)\" (✓)\n",
      "2024-02-22 14:26:18 __main__ DEBUG    editing: layer=18 rank=tensor(254) sample.subject='Lucas' | target.subject='Natalie' -> target.object='woman' |>> pred=\"' woman' (p=0.958)\" (✓)\n",
      "2024-02-22 14:26:18 __main__ DEBUG    editing: layer=18 rank=tensor(254) sample.subject='Hannah' | target.subject='Evan' -> target.object='man' |>> pred=\"' man' (p=0.876)\" (✓)\n",
      "2024-02-22 14:26:18 __main__ DEBUG    editing: layer=18 rank=tensor(254) sample.subject='Sofia' | target.subject='Evan' -> target.object='man' |>> pred=\"' man' (p=0.911)\" (✓)\n",
      "2024-02-22 14:26:18 __main__ DEBUG    editing: layer=18 rank=tensor(254) sample.subject='Lisa' | target.subject='David' -> target.object='man' |>> pred=\"' man' (p=0.921)\" (✓)\n",
      "2024-02-22 14:26:18 __main__ DEBUG    editing: layer=18 rank=tensor(254) sample.subject='Dylan' | target.subject='Emily' -> target.object='woman' |>> pred=\"' woman' (p=0.972)\" (✓)\n",
      "2024-02-22 14:26:18 __main__ DEBUG    editing: layer=18 rank=tensor(254) sample.subject='Natalie' | target.subject='William' -> target.object='man' |>> pred=\"' man' (p=0.908)\" (✓)\n",
      "2024-02-22 14:26:18 __main__ INFO     --------------------------------------------------------------------------------\n",
      "2024-02-22 14:26:18 __main__ INFO     editing finished: layer=18 rank=tensor(254) efficacy=[1.0, 1.0, 1.0, 1.0, 1.0, 1.0, 1.0, 1.0, 1.0, 1.0]\n",
      "2024-02-22 14:26:18 __main__ INFO     --------------------------------------------------------------------------------\n",
      "2024-02-22 14:26:18 src.editors DEBUG    computing low-rank pinv (rel=<|endoftext|> Michael is usually a name for a man\n",
      "Benjamin is usually a name for a man\n",
      "Scarlett is usually a name for a woman\n",
      "Oliver is usually a name for a man\n",
      "Tom is usually a name for a man\n",
      "{} is usually a name for a)\n",
      "2024-02-22 14:26:18 __main__ DEBUG    editing: layer=18 rank=tensor(256) sample.subject='Evan' | target.subject='Mia' -> target.object='woman' |>> pred=\"' woman' (p=0.921)\" (✓)\n",
      "2024-02-22 14:26:18 __main__ DEBUG    editing: layer=18 rank=tensor(256) sample.subject='Emily' | target.subject='Caleb' -> target.object='man' |>> pred=\"' man' (p=0.935)\" (✓)\n",
      "2024-02-22 14:26:18 __main__ DEBUG    editing: layer=18 rank=tensor(256) sample.subject='David' | target.subject='Sofia' -> target.object='woman' |>> pred=\"' woman' (p=0.936)\" (✓)\n",
      "2024-02-22 14:26:18 __main__ DEBUG    editing: layer=18 rank=tensor(256) sample.subject='William' | target.subject='Sofia' -> target.object='woman' |>> pred=\"' woman' (p=0.816)\" (✓)\n",
      "2024-02-22 14:26:18 __main__ DEBUG    editing: layer=18 rank=tensor(256) sample.subject='Mia' | target.subject='Caleb' -> target.object='man' |>> pred=\"' man' (p=0.964)\" (✓)\n",
      "2024-02-22 14:26:18 __main__ DEBUG    editing: layer=18 rank=tensor(256) sample.subject='Connor' | target.subject='Emily' -> target.object='woman' |>> pred=\"' woman' (p=0.941)\" (✓)\n",
      "2024-02-22 14:26:18 __main__ DEBUG    editing: layer=18 rank=tensor(256) sample.subject='Caleb' | target.subject='Natalie' -> target.object='woman' |>> pred=\"' woman' (p=0.964)\" (✓)\n",
      "2024-02-22 14:26:18 __main__ DEBUG    editing: layer=18 rank=tensor(256) sample.subject='Lucas' | target.subject='Natalie' -> target.object='woman' |>> pred=\"' woman' (p=0.958)\" (✓)\n",
      "2024-02-22 14:26:18 __main__ DEBUG    editing: layer=18 rank=tensor(256) sample.subject='Hannah' | target.subject='Evan' -> target.object='man' |>> pred=\"' man' (p=0.876)\" (✓)\n",
      "2024-02-22 14:26:18 __main__ DEBUG    editing: layer=18 rank=tensor(256) sample.subject='Sofia' | target.subject='Evan' -> target.object='man' |>> pred=\"' man' (p=0.918)\" (✓)\n",
      "2024-02-22 14:26:19 __main__ DEBUG    editing: layer=18 rank=tensor(256) sample.subject='Lisa' | target.subject='David' -> target.object='man' |>> pred=\"' man' (p=0.919)\" (✓)\n",
      "2024-02-22 14:26:19 __main__ DEBUG    editing: layer=18 rank=tensor(256) sample.subject='Dylan' | target.subject='Emily' -> target.object='woman' |>> pred=\"' woman' (p=0.972)\" (✓)\n",
      "2024-02-22 14:26:19 __main__ DEBUG    editing: layer=18 rank=tensor(256) sample.subject='Natalie' | target.subject='William' -> target.object='man' |>> pred=\"' man' (p=0.907)\" (✓)\n",
      "2024-02-22 14:26:19 __main__ INFO     --------------------------------------------------------------------------------\n",
      "2024-02-22 14:26:19 __main__ INFO     editing finished: layer=18 rank=tensor(256) efficacy=[1.0, 1.0, 1.0, 1.0, 1.0, 1.0, 1.0, 1.0, 1.0, 1.0]\n",
      "2024-02-22 14:26:19 __main__ INFO     --------------------------------------------------------------------------------\n",
      "2024-02-22 14:26:19 src.editors DEBUG    computing low-rank pinv (rel=<|endoftext|> Michael is usually a name for a man\n",
      "Benjamin is usually a name for a man\n",
      "Scarlett is usually a name for a woman\n",
      "Oliver is usually a name for a man\n",
      "Tom is usually a name for a man\n",
      "{} is usually a name for a)\n",
      "2024-02-22 14:26:19 __main__ DEBUG    editing: layer=18 rank=tensor(258) sample.subject='Evan' | target.subject='Mia' -> target.object='woman' |>> pred=\"' woman' (p=0.923)\" (✓)\n",
      "2024-02-22 14:26:19 __main__ DEBUG    editing: layer=18 rank=tensor(258) sample.subject='Emily' | target.subject='Caleb' -> target.object='man' |>> pred=\"' man' (p=0.933)\" (✓)\n",
      "2024-02-22 14:26:19 __main__ DEBUG    editing: layer=18 rank=tensor(258) sample.subject='David' | target.subject='Sofia' -> target.object='woman' |>> pred=\"' woman' (p=0.930)\" (✓)\n",
      "2024-02-22 14:26:19 __main__ DEBUG    editing: layer=18 rank=tensor(258) sample.subject='William' | target.subject='Sofia' -> target.object='woman' |>> pred=\"' woman' (p=0.809)\" (✓)\n",
      "2024-02-22 14:26:19 __main__ DEBUG    editing: layer=18 rank=tensor(258) sample.subject='Mia' | target.subject='Caleb' -> target.object='man' |>> pred=\"' man' (p=0.964)\" (✓)\n",
      "2024-02-22 14:26:19 __main__ DEBUG    editing: layer=18 rank=tensor(258) sample.subject='Connor' | target.subject='Emily' -> target.object='woman' |>> pred=\"' woman' (p=0.942)\" (✓)\n",
      "2024-02-22 14:26:19 __main__ DEBUG    editing: layer=18 rank=tensor(258) sample.subject='Caleb' | target.subject='Natalie' -> target.object='woman' |>> pred=\"' woman' (p=0.964)\" (✓)\n",
      "2024-02-22 14:26:19 __main__ DEBUG    editing: layer=18 rank=tensor(258) sample.subject='Lucas' | target.subject='Natalie' -> target.object='woman' |>> pred=\"' woman' (p=0.961)\" (✓)\n",
      "2024-02-22 14:26:19 __main__ DEBUG    editing: layer=18 rank=tensor(258) sample.subject='Hannah' | target.subject='Evan' -> target.object='man' |>> pred=\"' man' (p=0.881)\" (✓)\n",
      "2024-02-22 14:26:19 __main__ DEBUG    editing: layer=18 rank=tensor(258) sample.subject='Sofia' | target.subject='Evan' -> target.object='man' |>> pred=\"' man' (p=0.918)\" (✓)\n",
      "2024-02-22 14:26:19 __main__ DEBUG    editing: layer=18 rank=tensor(258) sample.subject='Lisa' | target.subject='David' -> target.object='man' |>> pred=\"' man' (p=0.920)\" (✓)\n",
      "2024-02-22 14:26:19 __main__ DEBUG    editing: layer=18 rank=tensor(258) sample.subject='Dylan' | target.subject='Emily' -> target.object='woman' |>> pred=\"' woman' (p=0.972)\" (✓)\n",
      "2024-02-22 14:26:19 __main__ DEBUG    editing: layer=18 rank=tensor(258) sample.subject='Natalie' | target.subject='William' -> target.object='man' |>> pred=\"' man' (p=0.908)\" (✓)\n",
      "2024-02-22 14:26:19 __main__ INFO     --------------------------------------------------------------------------------\n",
      "2024-02-22 14:26:19 __main__ INFO     editing finished: layer=18 rank=tensor(258) efficacy=[1.0, 1.0, 1.0, 1.0, 1.0, 1.0, 1.0, 1.0, 1.0, 1.0]\n",
      "2024-02-22 14:26:19 __main__ INFO     --------------------------------------------------------------------------------\n"
     ]
    }
   ],
   "source": [
    "ranks = torch.arange(250, 260, 2)\n",
    "\n",
    "from src import editors, metrics\n",
    "from src.utils import experiment_utils\n",
    "\n",
    "experiment_utils.set_seed(71745)\n",
    "\n",
    "test_samples = test_relation.samples\n",
    "test_targets = functional.random_edit_targets(test_samples)\n",
    "\n",
    "\n",
    "hs_by_subj, zs_by_subj = functional.compute_hs_and_zs(\n",
    "    mt=mt,\n",
    "    prompt_template=prompt_template,\n",
    "    subjects=[x.subject for x in test_relation.samples],\n",
    "    h_layer=[layer],\n",
    "    z_layer=-1,\n",
    "    batch_size=4,\n",
    "    examples=train_samples,\n",
    ")\n",
    "\n",
    "\n",
    "for rank in ranks:\n",
    "    editor = editors.LowRankPInvEditor(\n",
    "        lre=operator,\n",
    "        rank=rank,\n",
    "        n_samples=1,\n",
    "        n_new_tokens=1,\n",
    "        svd=svd,\n",
    "    )\n",
    "\n",
    "    pred_objects = []\n",
    "    targ_objects = []\n",
    "    efficacy_successes = []\n",
    "    for sample in test_samples:\n",
    "        target = test_targets.get(sample)\n",
    "        assert target is not None\n",
    "        if target is None:\n",
    "            logger.debug(f\"cannot edit {target}, skipping\")\n",
    "            continue\n",
    "\n",
    "        z_original = zs_by_subj[sample.subject]\n",
    "        z_target = zs_by_subj[target.subject]\n",
    "        result = editor(\n",
    "            sample.subject,\n",
    "            target.subject,\n",
    "            z_original=z_original,\n",
    "            z_target=z_target,\n",
    "        )\n",
    "\n",
    "        pred = str(result.predicted_tokens[0])\n",
    "\n",
    "        tick = \"✗\"\n",
    "        if functional.is_nontrivial_prefix(\n",
    "            prediction=result.predicted_tokens[0].token,\n",
    "            target=target.object,\n",
    "        ):\n",
    "            tick = \"✓\"\n",
    "\n",
    "        logger.debug(\n",
    "            f\"editing: {layer=} {rank=} {sample.subject=} | {target.subject=} -> {target.object=} |>> {pred=} ({tick})\"\n",
    "        )\n",
    "\n",
    "        pred_objects.append([p.token for p in result.predicted_tokens])\n",
    "        targ_objects.append(target.object)\n",
    "\n",
    "\n",
    "    efficacy = metrics.recall(pred_objects, targ_objects)\n",
    "    logger.info(\"-\" * 80)\n",
    "    logger.info(f\"editing finished: {layer=} {rank=} {efficacy=}\")\n",
    "    logger.info(\"-\" * 80)"
   ]
  },
  {
   "cell_type": "code",
   "execution_count": null,
   "metadata": {},
   "outputs": [],
   "source": []
  }
 ],
 "metadata": {
  "kernelspec": {
   "display_name": "fact",
   "language": "python",
   "name": "python3"
  },
  "language_info": {
   "codemirror_mode": {
    "name": "ipython",
    "version": 3
   },
   "file_extension": ".py",
   "mimetype": "text/x-python",
   "name": "python",
   "nbconvert_exporter": "python",
   "pygments_lexer": "ipython3",
   "version": "3.10.13"
  }
 },
 "nbformat": 4,
 "nbformat_minor": 2
}
