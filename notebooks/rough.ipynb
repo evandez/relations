{
 "cells": [
  {
   "cell_type": "code",
   "execution_count": 31,
   "metadata": {},
   "outputs": [
    {
     "name": "stdout",
     "output_type": "stream",
     "text": [
      "The autoreload extension is already loaded. To reload it, use:\n",
      "  %reload_ext autoreload\n"
     ]
    }
   ],
   "source": [
    "%load_ext autoreload\n",
    "%autoreload 2"
   ]
  },
  {
   "cell_type": "code",
   "execution_count": 32,
   "metadata": {},
   "outputs": [],
   "source": [
    "import sys\n",
    "sys.path.append('..')\n",
    "\n",
    "import torch\n",
    "import matplotlib.pyplot as plt\n",
    "from src import models, data\n",
    "from tqdm.auto import tqdm\n",
    "import json\n",
    "import os\n",
    "import numpy as np\n",
    "import copy\n",
    "\n",
    "from src import models, data, operators, functional, lens"
   ]
  },
  {
   "cell_type": "code",
   "execution_count": 33,
   "metadata": {},
   "outputs": [],
   "source": [
    "mt = models.load_model(name='gptj', fp16=True, device='cuda')"
   ]
  },
  {
   "cell_type": "code",
   "execution_count": 34,
   "metadata": {},
   "outputs": [],
   "source": [
    "dataset = data.load_dataset()\n",
    "relation_name = \"country capital city\"\n",
    "relation = dataset.filter(\n",
    "    relation_names=[relation_name],\n",
    ")[0]"
   ]
  },
  {
   "cell_type": "code",
   "execution_count": 35,
   "metadata": {},
   "outputs": [],
   "source": [
    "train, test = relation.split(train_size=5)"
   ]
  },
  {
   "cell_type": "code",
   "execution_count": 36,
   "metadata": {},
   "outputs": [
    {
     "data": {
      "text/plain": [
       "array(['Canberra', 'Riyadh', 'Berlin', 'New Delhi', 'Cairo', 'Islamabad',\n",
       "       'Ankara', 'Beijing', 'Lima', 'Islamabad', 'Mexico City',\n",
       "       'Canberra', 'Tokyo', 'Madrid'], dtype='<U15')"
      ]
     },
     "execution_count": 36,
     "metadata": {},
     "output_type": "execute_result"
    }
   ],
   "source": [
    "_range = list(relation.range) + [sample.object for sample in train.samples]\n",
    "\n",
    "np.random.seed(123456)\n",
    "np.random.choice(_range, len(_range)//2, replace=False)"
   ]
  },
  {
   "cell_type": "code",
   "execution_count": 37,
   "metadata": {},
   "outputs": [],
   "source": [
    "corner = functional.corner_gd(\n",
    "    mt = mt,\n",
    "    words = _range,\n",
    ")"
   ]
  },
  {
   "cell_type": "code",
   "execution_count": 38,
   "metadata": {},
   "outputs": [
    {
     "name": "stderr",
     "output_type": "stream",
     "text": [
      "relation has > 1 prompt_templates, will use first (The capital city of {} is)\n"
     ]
    }
   ],
   "source": [
    "offset_estimator = operators.OffsetEstimatorBaseline(\n",
    "    mt = mt,\n",
    "    h_layer=15,\n",
    ")\n",
    "offset_operator = offset_estimator(relation)"
   ]
  },
  {
   "cell_type": "code",
   "execution_count": 39,
   "metadata": {},
   "outputs": [
    {
     "data": {
      "text/plain": [
       "([(' Moscow', 96.562),\n",
       "  (' Paris', 95.938),\n",
       "  (' Madrid', 94.312),\n",
       "  (' Beijing', 94.188),\n",
       "  (' Tokyo', 93.75),\n",
       "  (' Berlin', 93.438),\n",
       "  (' London', 89.875),\n",
       "  (' Washington', 89.688),\n",
       "  (' Cairo', 88.875),\n",
       "  (' Rome', 87.75)],\n",
       " {})"
      ]
     },
     "execution_count": 39,
     "metadata": {},
     "output_type": "execute_result"
    }
   ],
   "source": [
    "lens.logit_lens(\n",
    "    mt = mt,\n",
    "    h = offset_operator.bias,\n",
    "    # get_proba=True\n",
    ")"
   ]
  },
  {
   "cell_type": "code",
   "execution_count": 40,
   "metadata": {},
   "outputs": [
    {
     "name": "stderr",
     "output_type": "stream",
     "text": [
      "relation has > 1 prompt_templates, will use first (The capital city of {} is)\n"
     ]
    }
   ],
   "source": [
    "estimator = operators.JacobianIclMeanEstimator(\n",
    "    mt = mt,\n",
    "    h_layer=15,\n",
    ")\n",
    "\n",
    "operator = estimator(relation = train)"
   ]
  },
  {
   "cell_type": "code",
   "execution_count": 41,
   "metadata": {},
   "outputs": [
    {
     "data": {
      "text/plain": [
       "'<|endoftext|>The capital city of Turkey is Ankara\\nThe capital city of Colombia is Bogot\\\\u00e1\\nThe capital city of Pakistan is Islamabad\\nThe capital city of Italy is Rome\\nThe capital city of Australia is Canberra\\nThe capital city of {} is'"
      ]
     },
     "execution_count": 41,
     "metadata": {},
     "output_type": "execute_result"
    }
   ],
   "source": [
    "operator.prompt_template"
   ]
  },
  {
   "cell_type": "code",
   "execution_count": 42,
   "metadata": {},
   "outputs": [],
   "source": [
    "from src import editors\n",
    "from src.utils import dataclasses_utils\n",
    "\n",
    "BASELINE_EDITOR_TYPES = {\n",
    "    editors.HiddenBaselineEditor,\n",
    "    editors.EmbedBaselineEditor,\n",
    "}\n",
    "\n",
    "svd = torch.svd(operator.weight.float())"
   ]
  },
  {
   "cell_type": "code",
   "execution_count": 43,
   "metadata": {},
   "outputs": [
    {
     "name": "stdout",
     "output_type": "stream",
     "text": [
      "<class 'src.editors.HiddenBaselineEditor'>\n",
      "<class 'src.editors.EmbedBaselineEditor'>\n"
     ]
    }
   ],
   "source": [
    "for editor_class in BASELINE_EDITOR_TYPES:\n",
    "    # editor_class = BASELINE_EDITOR_TYPES[editor_type]\n",
    "    print(editor_class)\n",
    "    editor = dataclasses_utils.create_with_optional_kwargs(\n",
    "        editor_class,\n",
    "        h_layer=10,\n",
    "        rank=100,\n",
    "        lre=operator,\n",
    "        svd=svd,\n",
    "        prompt_template=\" {} :\",\n",
    "        mt=mt,\n",
    "        n_samples=1,\n",
    "        n_new_tokens=1,\n",
    "    )"
   ]
  },
  {
   "cell_type": "code",
   "execution_count": 44,
   "metadata": {},
   "outputs": [
    {
     "data": {
      "text/plain": [
       "FullArgSpec(args=['self', 'subject', 'target'], varargs=None, varkw='kwargs', defaults=None, kwonlyargs=[], kwonlydefaults=None, annotations={'return': <class 'src.editors.LinearRelationEditResult'>, 'subject': <class 'str'>, 'target': <class 'str'>, 'kwargs': typing.Any})"
      ]
     },
     "execution_count": 44,
     "metadata": {},
     "output_type": "execute_result"
    }
   ],
   "source": [
    "import inspect\n",
    "\n",
    "inspect.getfullargspec(editors.HiddenBaselineEditor.__call__)"
   ]
  },
  {
   "cell_type": "code",
   "execution_count": 46,
   "metadata": {},
   "outputs": [],
   "source": [
    "hs_by_subj, zs_by_subj = functional.compute_hs_and_zs(\n",
    "    mt=mt,\n",
    "    prompt_template=\" {} :\",\n",
    "    subjects=[x.subject for x in test.samples],\n",
    "    h_layer=[10, 12, 15],\n",
    "    z_layer=-1,\n",
    "    batch_size=8,\n",
    "    examples=train.samples,\n",
    ")"
   ]
  },
  {
   "cell_type": "code",
   "execution_count": 50,
   "metadata": {},
   "outputs": [
    {
     "data": {
      "text/plain": [
       "{10: tensor([ 0.0481,  0.7690,  0.6006,  ...,  2.2207,  1.8809, -0.6162],\n",
       "        device='cuda:0', dtype=torch.float16),\n",
       " 12: tensor([-0.0894,  1.6426,  0.0806,  ...,  1.2031,  3.1211, -0.7783],\n",
       "        device='cuda:0', dtype=torch.float16),\n",
       " 15: tensor([ 0.1697,  1.0459,  0.4585,  ...,  0.7285,  4.1094, -2.3164],\n",
       "        device='cuda:0', dtype=torch.float16)}"
      ]
     },
     "execution_count": 50,
     "metadata": {},
     "output_type": "execute_result"
    }
   ],
   "source": [
    "hs_by_subj[\"United States\"]"
   ]
  },
  {
   "cell_type": "code",
   "execution_count": null,
   "metadata": {},
   "outputs": [],
   "source": []
  }
 ],
 "metadata": {
  "kernelspec": {
   "display_name": "Python 3",
   "language": "python",
   "name": "python3"
  },
  "language_info": {
   "codemirror_mode": {
    "name": "ipython",
    "version": 3
   },
   "file_extension": ".py",
   "mimetype": "text/x-python",
   "name": "python",
   "nbconvert_exporter": "python",
   "pygments_lexer": "ipython3",
   "version": "3.10.11"
  },
  "orig_nbformat": 4
 },
 "nbformat": 4,
 "nbformat_minor": 2
}
