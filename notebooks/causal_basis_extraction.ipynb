{
 "cells": [
  {
   "cell_type": "code",
   "execution_count": 2,
   "metadata": {},
   "outputs": [],
   "source": [
    "%load_ext autoreload\n",
    "%autoreload 2"
   ]
  },
  {
   "cell_type": "code",
   "execution_count": 3,
   "metadata": {},
   "outputs": [],
   "source": [
    "import torch\n",
    "import numpy as np\n",
    "import json\n",
    "from tqdm.auto import tqdm\n",
    "import random\n",
    "import transformers\n",
    "\n",
    "import os\n",
    "import sys\n",
    "sys.path.append('..')\n",
    "\n",
    "from relations import estimate\n",
    "from util import model_utils\n",
    "from baukit import nethook\n",
    "from operator import itemgetter"
   ]
  },
  {
   "cell_type": "code",
   "execution_count": 4,
   "metadata": {},
   "outputs": [
    {
     "name": "stdout",
     "output_type": "stream",
     "text": [
      "EleutherAI/gpt-j-6B ==> device: cuda:0, memory: 12219206136\n"
     ]
    }
   ],
   "source": [
    "MODEL_NAME = \"EleutherAI/gpt-j-6B\" # \"facebook/galactica-6.7b\"  # gpt2-{medium,large,xl} or EleutherAI/gpt-j-6B\n",
    "n_embd_field = \"hidden_size\"\n",
    "mt = model_utils.ModelAndTokenizer(MODEL_NAME, low_cpu_mem_usage=True, torch_dtype=torch.float16)\n",
    "\n",
    "model = mt.model\n",
    "tokenizer = mt.tokenizer\n",
    "tokenizer.pad_token = tokenizer.eos_token\n",
    "# tokenizer.add_special_tokens({'pad_token': '[PAD]'})\n",
    "\n",
    "print(f\"{MODEL_NAME} ==> device: {model.device}, memory: {model.get_memory_footprint()}\")"
   ]
  },
  {
   "cell_type": "code",
   "execution_count": 5,
   "metadata": {},
   "outputs": [
    {
     "data": {
      "text/plain": [
       "[('angry', 'angrier', 'angriest'),\n",
       " ('bad', 'worse', 'worst'),\n",
       " ('big', 'bigger', 'biggest'),\n",
       " ('bitter', 'bitterer', 'bitterest'),\n",
       " ('black', 'blacker', 'blackest'),\n",
       " ('bland', 'blander', 'blandest'),\n",
       " ('bloody', 'bloodier', 'bloodiest'),\n",
       " ('blue', 'bluer', 'bluest'),\n",
       " ('bold', 'bolder', 'boldest'),\n",
       " ('bossy', 'bossier', 'bossiest'),\n",
       " ('brave', 'braver', 'bravest'),\n",
       " ('brief', 'briefer', 'briefest'),\n",
       " ('bright', 'brighter', 'brightest'),\n",
       " ('broad', 'broader', 'broadest'),\n",
       " ('busy', 'busier', 'busiest'),\n",
       " ('calm', 'calmer', 'calmest'),\n",
       " ('cheap', 'cheaper', 'cheapest'),\n",
       " ('chewy', 'chewier', 'chewiest'),\n",
       " ('chubby', 'chubbier', 'chubbiest'),\n",
       " ('classy', 'classier', 'classiest'),\n",
       " ('clean', 'cleaner', 'cleanest'),\n",
       " ('clear', 'clear', 'clearest'),\n",
       " ('clever', 'cleverer', 'cleverest'),\n",
       " ('close', 'closer', 'closest'),\n",
       " ('cloudy', 'cloudier', 'cloudiest'),\n",
       " ('clumsy', 'clumsier', 'clumsiest'),\n",
       " ('coarse', 'coarser', 'coarsest'),\n",
       " ('cold', 'colder', 'coldest'),\n",
       " ('cool', 'cooler', 'coolest'),\n",
       " ('crazy', 'crazier', 'craziest'),\n",
       " ('creamy', 'creamier', 'creamiest'),\n",
       " ('creepy', 'creepier', 'creepiest'),\n",
       " ('crispy', 'crispier', 'crispiest'),\n",
       " ('cruel', 'crueller', 'cruellest'),\n",
       " ('crunchy', 'crunchier', 'crunchiest'),\n",
       " ('curly', 'curly', 'curliest'),\n",
       " ('curvy', 'curvier', 'curviest'),\n",
       " ('cute', 'cuter', 'cutest'),\n",
       " ('damp', 'damper', 'dampest'),\n",
       " ('dark', 'darker', 'darkest'),\n",
       " ('deadly', 'deadlier', 'deadliest'),\n",
       " ('deep', 'deeper', 'deepest'),\n",
       " ('dense', 'denser', 'densest'),\n",
       " ('dirty', 'dirtier', 'dirtiest'),\n",
       " ('dry', 'drier', 'driest'),\n",
       " ('dull', 'duller', 'dullest'),\n",
       " ('dumb', 'dumber', 'dumbest'),\n",
       " ('dusty', 'dustier', 'dustiest'),\n",
       " ('early', 'earlier', 'earliest'),\n",
       " ('easy', 'easier', 'easiest'),\n",
       " ('faint', 'fainter', 'faintest'),\n",
       " ('fair', 'fairer', 'fairest'),\n",
       " ('fancy', 'fancier', 'fanciest'),\n",
       " ('far', 'further/farther', 'furthest/farthest'),\n",
       " ('fast', 'faster', 'fastest'),\n",
       " ('fat', 'fatter', 'fattest'),\n",
       " ('few', 'fewer', 'fewest'),\n",
       " ('fierce', 'fiercer', 'fiercest'),\n",
       " ('filthy', 'filthier', 'filthiest'),\n",
       " ('fine', 'finer', 'finest'),\n",
       " ('firm', 'firmer', 'firmest'),\n",
       " ('fit', 'fitter', 'fittest'),\n",
       " ('flaky', 'flakier', 'flakiest'),\n",
       " ('flat', 'flatter', 'flattest'),\n",
       " ('fresh', 'fresher', 'freshest'),\n",
       " ('friendly', 'friendlier', 'friendliest'),\n",
       " ('full', 'fuller', 'fullest'),\n",
       " ('funny', 'funnier', 'funniest'),\n",
       " ('gentle', 'gentler', 'gentlest'),\n",
       " ('gloomy', 'gloomier', 'gloomiest'),\n",
       " ('good', 'better', 'best'),\n",
       " ('grand', 'grander', 'grandest'),\n",
       " ('grave', 'graver', 'gravest'),\n",
       " ('greasy', 'greasier', 'greasiest'),\n",
       " ('great', 'greater', 'greatest'),\n",
       " ('greedy', 'greedier', 'greediest'),\n",
       " ('gross', 'grosser', 'grossest'),\n",
       " ('guilty', 'guilter', 'guiltiest'),\n",
       " ('hairy', 'hairier', 'hairiest'),\n",
       " ('handy', 'handier', 'handiest'),\n",
       " ('happy', 'happier', 'happiest'),\n",
       " ('hard', 'harder', 'hardest'),\n",
       " ('harsh', 'harsher', 'harshest'),\n",
       " ('healthy', 'healthier', 'healthiest'),\n",
       " ('heavy', 'heavier', 'heaviest'),\n",
       " ('high', 'higher', 'highest'),\n",
       " ('hip', 'hipper', 'hippest'),\n",
       " ('hot', 'hotter', 'hottest'),\n",
       " ('humble', 'humbler', 'humblest'),\n",
       " ('hungry', 'hungrier', 'hungriest'),\n",
       " ('icy', 'icier', 'iciest'),\n",
       " ('itchy', 'itchier', 'itchiest'),\n",
       " ('juicy', 'juicier', 'juiciest'),\n",
       " ('kind', 'kinder', 'kindest'),\n",
       " ('large', 'larger', 'largest'),\n",
       " ('late', 'later', 'latest'),\n",
       " ('lazy', 'lazier', 'laziest'),\n",
       " ('light', 'lighter', 'lightest'),\n",
       " ('likely', 'likelier', 'likeliest'),\n",
       " ('little', 'littler', 'littlest'),\n",
       " ('lively', 'livelier', 'liveliest'),\n",
       " ('lonely', 'lonlier', 'loneliest'),\n",
       " ('long', 'longer', 'longest'),\n",
       " ('loud', 'louder', 'loudest'),\n",
       " ('lovely', 'lovelier', 'loveliest'),\n",
       " ('low', 'lower', 'lowest'),\n",
       " ('mad', 'madder', 'maddest'),\n",
       " ('mean', 'meaner', 'meanest'),\n",
       " ('messy', 'messier', 'messiest'),\n",
       " ('mild', 'milder', 'mildest'),\n",
       " ('moist', 'moister', 'moistest'),\n",
       " ('narrow', 'narrower', 'narrowest'),\n",
       " ('nasty', 'nastier', 'nastiest'),\n",
       " ('naughty', 'naughtier', 'naughtiest'),\n",
       " ('near', 'nearer', 'nearest'),\n",
       " ('neat', 'neater', 'neatest'),\n",
       " ('needy', 'needier', 'neediest'),\n",
       " ('new', 'newer', 'newest'),\n",
       " ('nice', 'nicer', 'nicest'),\n",
       " ('noisy', 'noisier', 'noisiest'),\n",
       " ('odd', 'odder', 'oddest'),\n",
       " ('oily', 'oilier', 'oiliest'),\n",
       " ('old', 'older/elder', 'oldest/eldest'),\n",
       " ('plain', 'plainer', 'plainest'),\n",
       " ('polite', 'politer', 'politest'),\n",
       " ('poor', 'poorer', 'poorest'),\n",
       " ('pretty', 'prettier', 'prettiest'),\n",
       " ('proud', 'prouder', 'proudest'),\n",
       " ('pure', 'purer', 'purest'),\n",
       " ('quick', 'quicker', 'quickest'),\n",
       " ('quiet', 'quieter', 'quietest'),\n",
       " ('rare', 'rarer', 'rarest'),\n",
       " ('raw', 'rawer', 'rawest'),\n",
       " ('rich', 'richer', 'richest'),\n",
       " ('ripe', 'riper', 'ripest'),\n",
       " ('risky', 'riskier', 'riskiest'),\n",
       " ('roomy', 'roomier', 'roomiest'),\n",
       " ('rough', 'rougher', 'roughest'),\n",
       " ('rude', 'ruder', 'rudest'),\n",
       " ('rusty', 'rustier', 'rustiest'),\n",
       " ('sad', 'sadder', 'saddest'),\n",
       " ('safe', 'safer', 'safest'),\n",
       " ('salty', 'saltier', 'saltiest'),\n",
       " ('sane', 'saner', 'sanest'),\n",
       " ('scary', 'scarier', 'scariest'),\n",
       " ('shallow', 'shallower', 'shallowest'),\n",
       " ('sharp', 'sharper', 'sharpest'),\n",
       " ('shiny', 'shinier', 'shiniest'),\n",
       " ('short', 'shorter', 'shortest'),\n",
       " ('shy', 'shyer', 'shyest'),\n",
       " ('silly', 'sillier', 'silliest'),\n",
       " ('simple', 'simpler', 'simplest'),\n",
       " ('sincere', 'sincerer', 'sincerest'),\n",
       " ('skinny', 'skinnier', 'skinniest'),\n",
       " ('sleepy', 'sleepier', 'sleepiest'),\n",
       " ('slim', 'slimmer', 'slimmest'),\n",
       " ('slimy', 'slimier', 'slimiest'),\n",
       " ('slow', 'slower', 'slowest'),\n",
       " ('small', 'smaller', 'smallest'),\n",
       " ('smart', 'smarter', 'smartest'),\n",
       " ('smelly', 'smellier', 'smelliest'),\n",
       " ('smoky', 'smokier', 'smokiest'),\n",
       " ('smooth', 'smoother', 'smoothest'),\n",
       " ('soft', 'softer', 'softest'),\n",
       " ('soon', 'sooner', 'soonest'),\n",
       " ('sore', 'sorer', 'sorest'),\n",
       " ('sorry', 'sorrier', 'sorriest'),\n",
       " ('sour', 'sourer', 'sourest'),\n",
       " ('spicy', 'spicier', 'spiciest'),\n",
       " ('steep', 'steeper', 'steepest'),\n",
       " ('stingy', 'stingier', 'stingiest'),\n",
       " ('strange', 'stranger', 'strangest'),\n",
       " ('strict', 'stricter', 'strictest'),\n",
       " ('strong', 'stronger', 'strongest'),\n",
       " ('sunny', 'sunnier', 'sunniest'),\n",
       " ('sweaty', 'sweatier', 'sweatiest'),\n",
       " ('sweet', 'sweeter', 'sweetest'),\n",
       " ('tall', 'taller', 'tallest'),\n",
       " ('tan', 'tanner', 'tannest'),\n",
       " ('tasty', 'tastier', 'tastiest'),\n",
       " ('thick', 'thicker', 'thickest'),\n",
       " ('thin', 'thinner', 'thinnest'),\n",
       " ('thirsty', 'thirstier', 'thirstiest'),\n",
       " ('tiny', 'tinier', 'tiniest'),\n",
       " ('tough', 'tougher', 'toughest'),\n",
       " ('true', 'truer', 'truest'),\n",
       " ('ugly', 'uglier', 'ugliest'),\n",
       " ('warm', 'warmer', 'warmest'),\n",
       " ('weak', 'weaker', 'weakest'),\n",
       " ('wealthy', 'wealthier', 'wealthiest'),\n",
       " ('weird', 'weirder', 'weirdest'),\n",
       " ('wet', 'wetter', 'wettest'),\n",
       " ('wide', 'wider', 'widest'),\n",
       " ('wild', 'wilder', 'wildest'),\n",
       " ('windy', 'windier', 'windiest'),\n",
       " ('wise', 'wiser', 'wisest'),\n",
       " ('worldly', 'worldlier', 'worldliest'),\n",
       " ('worthy', 'worthier', 'worthiest'),\n",
       " ('young', 'younger', 'youngest')]"
      ]
     },
     "execution_count": 5,
     "metadata": {},
     "output_type": "execute_result"
    }
   ],
   "source": [
    "with open(\"data/comperative-superlative.txt\") as f:\n",
    "    lines = f.readlines()\n",
    "    words = []\n",
    "    for line in lines:\n",
    "        w = line.strip()\n",
    "        if(len(w) == 0):\n",
    "            continue\n",
    "        words.append(w)\n",
    "\n",
    "base = words[0 : len(words) : 3]\n",
    "comparative = words[1 : len(words) : 3]\n",
    "superlative = words[2 : len(words) : 3]\n",
    "\n",
    "list(zip(base, comparative, superlative))"
   ]
  },
  {
   "cell_type": "code",
   "execution_count": 6,
   "metadata": {},
   "outputs": [
    {
     "data": {
      "text/plain": [
       "{'input_ids': tensor([[ 1398, 50256],\n",
       "        [48486, 50256],\n",
       "        [ 1398,   959],\n",
       "        [ 1398,  6386]]), 'attention_mask': tensor([[1, 0],\n",
       "        [1, 0],\n",
       "        [1, 1],\n",
       "        [1, 1]])}"
      ]
     },
     "execution_count": 6,
     "metadata": {},
     "output_type": "execute_result"
    }
   ],
   "source": [
    "tokenizer([' class', ' classy', ' classier', ' classiest'], padding=True, return_tensors='pt')"
   ]
  },
  {
   "cell_type": "code",
   "execution_count": 7,
   "metadata": {},
   "outputs": [
    {
     "data": {
      "text/plain": [
       "[('bad', 'worse', 'worst'),\n",
       " ('big', 'bigger', 'biggest'),\n",
       " ('bright', 'brighter', 'brightest'),\n",
       " ('cheap', 'cheaper', 'cheapest'),\n",
       " ('close', 'closer', 'closest'),\n",
       " ('cool', 'cooler', 'coolest'),\n",
       " ('dark', 'darker', 'darkest'),\n",
       " ('deep', 'deeper', 'deepest'),\n",
       " ('early', 'earlier', 'earliest'),\n",
       " ('easy', 'easier', 'easiest'),\n",
       " ('fast', 'faster', 'fastest'),\n",
       " ('fine', 'finer', 'finest'),\n",
       " ('full', 'fuller', 'fullest'),\n",
       " ('good', 'better', 'best'),\n",
       " ('great', 'greater', 'greatest'),\n",
       " ('happy', 'happier', 'happiest'),\n",
       " ('hard', 'harder', 'hardest'),\n",
       " ('heavy', 'heavier', 'heaviest'),\n",
       " ('high', 'higher', 'highest'),\n",
       " ('hot', 'hotter', 'hottest'),\n",
       " ('large', 'larger', 'largest'),\n",
       " ('late', 'later', 'latest'),\n",
       " ('long', 'longer', 'longest'),\n",
       " ('low', 'lower', 'lowest'),\n",
       " ('near', 'nearer', 'nearest'),\n",
       " ('new', 'newer', 'newest'),\n",
       " ('poor', 'poorer', 'poorest'),\n",
       " ('quick', 'quicker', 'quickest'),\n",
       " ('rich', 'richer', 'richest'),\n",
       " ('safe', 'safer', 'safest'),\n",
       " ('short', 'shorter', 'shortest'),\n",
       " ('simple', 'simpler', 'simplest'),\n",
       " ('small', 'smaller', 'smallest'),\n",
       " ('smart', 'smarter', 'smartest'),\n",
       " ('strong', 'stronger', 'strongest'),\n",
       " ('tall', 'taller', 'tallest'),\n",
       " ('tough', 'tougher', 'toughest'),\n",
       " ('weak', 'weaker', 'weakest'),\n",
       " ('wealthy', 'wealthier', 'wealthiest'),\n",
       " ('wide', 'wider', 'widest'),\n",
       " ('young', 'younger', 'youngest')]"
      ]
     },
     "execution_count": 7,
     "metadata": {},
     "output_type": "execute_result"
    }
   ],
   "source": [
    "filter_single_token = []\n",
    "for b, c, s in zip(base, comparative, superlative):\n",
    "    tokenized = tokenizer([\" \" + b, \" \" + c, \" \" + s], padding=True, return_tensors='pt').input_ids\n",
    "    if(tokenized.shape[1] > 1):\n",
    "        continue\n",
    "    filter_single_token.append((b, c, s))\n",
    "filter_single_token"
   ]
  },
  {
   "cell_type": "code",
   "execution_count": 8,
   "metadata": {},
   "outputs": [
    {
     "name": "stdout",
     "output_type": "stream",
     "text": [
      "strong ===>  strongest\n",
      "big ===>  biggest\n",
      "deep ===>  deepest\n",
      "young ===>  youngest\n"
     ]
    }
   ],
   "source": [
    "prompt = \"\"\"superlative of late is latest\n",
    "superlative of strong is strongest\n",
    "superlaitve of {} is\"\"\"\n",
    "\n",
    "# prompt = \"\"\"grape ends with E\n",
    "# monitor ends with R\n",
    "# glass ends with\"\"\"\n",
    "\n",
    "words = ['strong', 'big', 'deep', 'young']\n",
    "\n",
    "for w in words:\n",
    "    txt, ret_dict = model_utils.generate_fast(\n",
    "        model, tokenizer, \n",
    "        prompts=[prompt.format(w)], max_new_tokens=10, \n",
    "        get_answer_tokens=True, argmax_greedy=True\n",
    "    )\n",
    "    print(f\"{w} ===> {ret_dict['answer'][0]['top_token']}\")\n"
   ]
  },
  {
   "cell_type": "code",
   "execution_count": 9,
   "metadata": {},
   "outputs": [],
   "source": [
    "objects = [\" \" + o[2] for o in filter_single_token]\n",
    "\n",
    "from relations.corner import CornerEstimator\n",
    "corner_estimator = CornerEstimator(\n",
    "    model=model, tokenizer=tokenizer,\n",
    "    # ln_f_name= \"model.decoder.final_layer_norm\", \n",
    "    # unembedder_module_name=\"lm_head\"\n",
    ")"
   ]
  },
  {
   "cell_type": "code",
   "execution_count": 10,
   "metadata": {},
   "outputs": [
    {
     "name": "stdout",
     "output_type": "stream",
     "text": [
      "51.53125 [(' largest', 104.312), (' highest', 103.062), (' longest', 99.688), (' strongest', 99.375), (' smallest', 99.125)]\n"
     ]
    }
   ],
   "source": [
    "simple_corner = corner_estimator.estimate_simple_corner(objects, scale_up=70)\n",
    "print(simple_corner.norm().item(), corner_estimator.get_vocab_representation(simple_corner, get_logits=True))"
   ]
  },
  {
   "cell_type": "code",
   "execution_count": 11,
   "metadata": {},
   "outputs": [],
   "source": [
    "# print(-simple_corner.norm().item(), corner_estimator.get_vocab_representation(-simple_corner, get_logits=True))"
   ]
  },
  {
   "cell_type": "code",
   "execution_count": 12,
   "metadata": {},
   "outputs": [
    {
     "name": "stdout",
     "output_type": "stream",
     "text": [
      "calculating inverse of unbedding weights . . .\n",
      "48.71875 [(' strongest', 74.875), (' fastest', 73.938), (' longest', 73.375), (' largest', 72.0), (' smallest', 70.562)]\n"
     ]
    }
   ],
   "source": [
    "lin_inv_corner = corner_estimator.estimate_lin_inv_corner(objects, target_logit_value=50)\n",
    "print(lin_inv_corner.norm().item(), corner_estimator.get_vocab_representation(lin_inv_corner, get_logits=True))"
   ]
  },
  {
   "cell_type": "code",
   "execution_count": 13,
   "metadata": {},
   "outputs": [
    {
     "name": "stdout",
     "output_type": "stream",
     "text": [
      "39.90625 [(' highest', 88.875), (' largest', 88.625), (' best', 88.5), (' closest', 88.312), (' worst', 88.062)]\n"
     ]
    }
   ],
   "source": [
    "lst_sq_corner = corner_estimator.estimate_corner_lstsq_solve(objects[:15], target_logit=30)\n",
    "print(lst_sq_corner.norm().item(), corner_estimator.get_vocab_representation(lst_sq_corner, get_logits=True))"
   ]
  },
  {
   "cell_type": "code",
   "execution_count": 14,
   "metadata": {},
   "outputs": [
    {
     "name": "stdout",
     "output_type": "stream",
     "text": [
      "transformer.ln_f.weight torch.Size([4096]) torch.float32\n",
      "transformer.ln_f.bias torch.Size([4096]) torch.float32\n",
      "lm_head.weight torch.Size([50400, 4096]) torch.float32\n",
      "lm_head.bias torch.Size([50400]) torch.float32\n"
     ]
    },
    {
     "name": "stderr",
     "output_type": "stream",
     "text": [
      "/home/local_arnab/Codes/relations/notebooks/../relations/corner.py:159: UserWarning: \n",
      "                model.dtype == torch.float16\n",
      "                the unembedder head will be typecasted to float32 in order to avoid precision underflows.\n",
      "                \n",
      "  warnings.warn(\n"
     ]
    },
    {
     "name": "stdout",
     "output_type": "stream",
     "text": [
      "torch.float16\n",
      "50.21875 [(' oldest', 53.438), (' richest', 52.0), (' closest', 50.875), (' fastest', 50.781), (' brightest', 50.562)]\n"
     ]
    }
   ],
   "source": [
    "grad_dsc_corner = corner_estimator.estimate_corner_with_gradient_descent(objects, target_logit_value=50, verbose=False)\n",
    "print(grad_dsc_corner.norm().item(), corner_estimator.get_vocab_representation(grad_dsc_corner, get_logits=True))"
   ]
  },
  {
   "cell_type": "code",
   "execution_count": 15,
   "metadata": {},
   "outputs": [],
   "source": [
    "def check_with_test_cases(relation_operator):\n",
    "    test_cases = [\n",
    "        (b, -1, s) for b, c, s in filter_single_token[15:]\n",
    "    ]\n",
    "    # print(test_cases)\n",
    "    for subject, subject_token_index, target in test_cases:\n",
    "        answer = relation_operator(\n",
    "            subject,\n",
    "            subject_token_index=subject_token_index,\n",
    "            device=model.device,\n",
    "            return_top_k=5,\n",
    "        )\n",
    "        print(f\"{subject}, target: {target}   ==>   predicted: {answer}\")"
   ]
  },
  {
   "cell_type": "code",
   "execution_count": 16,
   "metadata": {},
   "outputs": [
    {
     "name": "stdout",
     "output_type": "stream",
     "text": [
      "happy, target: happiest   ==>   predicted: [' smallest', ' best', ' largest', ' tallest', ' biggest']\n",
      "hard, target: hardest   ==>   predicted: [' smallest', ' lowest', ' largest', ' closest', ' cheapest']\n",
      "heavy, target: heaviest   ==>   predicted: [' heaviest', ' lowest', ' largest', ' smallest', ' best']\n",
      "high, target: highest   ==>   predicted: [' largest', ' tallest', ' smallest', ' best', ' greatest']\n",
      "hot, target: hottest   ==>   predicted: [' largest', ' lowest', ' highest', ' best', ' tallest']\n",
      "large, target: largest   ==>   predicted: [' smallest', ' best', ' greatest', ' lowest', ' largest']\n",
      "late, target: latest   ==>   predicted: [' greatest', ' smallest', ' largest', ' lowest', ' richest']\n",
      "long, target: longest   ==>   predicted: [' tallest', ' largest', ' smallest', ' greatest', ' lowest']\n",
      "low, target: lowest   ==>   predicted: [' tallest', ' smallest', ' largest', ' greatest', ' best']\n",
      "near, target: nearest   ==>   predicted: [' smallest', ' least', ' largest', ' tallest', ' lowest']\n",
      "new, target: newest   ==>   predicted: [' largest', ' tallest', ' best', ' longest', ' highest']\n",
      "poor, target: poorest   ==>   predicted: [' smallest', ' tallest', ' weakest', ' highest', ' lowest']\n",
      "quick, target: quickest   ==>   predicted: [' largest', ' greatest', ' highest', ' fastest', ' best']\n",
      "rich, target: richest   ==>   predicted: [' highest', ' best', ' greatest', ' smallest', ' richest']\n",
      "safe, target: safest   ==>   predicted: [' largest', ' greatest', ' smallest', ' tallest', ' highest']\n",
      "short, target: shortest   ==>   predicted: [' largest', ' highest', ' tallest', ' greatest', ' smallest']\n",
      "simple, target: simplest   ==>   predicted: [' lowest', ' largest', ' highest', ' greatest', ' cheapest']\n",
      "small, target: smallest   ==>   predicted: [' highest', ' tallest', ' largest', ' smallest', ' best']\n",
      "smart, target: smartest   ==>   predicted: [' highest', ' closest', ' smallest', ' lowest', ' tallest']\n",
      "strong, target: strongest   ==>   predicted: [' nearest', ' oldest', ' lowest', ' highest', ' greatest']\n",
      "tall, target: tallest   ==>   predicted: [' tallest', ' smallest', ' largest', ' highest', ' best']\n",
      "tough, target: toughest   ==>   predicted: [' lowest', ' highest', ' best', ' worst', ' smallest']\n",
      "weak, target: weakest   ==>   predicted: [' lowest', ' largest', ' smallest', ' highest', ' weakest']\n",
      "wealthy, target: wealthiest   ==>   predicted: [' largest', ' greatest', ' smallest', ' highest', ' best']\n",
      "wide, target: widest   ==>   predicted: [' widest', ' smallest', ' greatest', ' largest', ' tallest']\n",
      "young, target: youngest   ==>   predicted: [' largest', ' smallest', ' oldest', ' lowest', ' tallest']\n"
     ]
    }
   ],
   "source": [
    "relation = estimate.RelationOperator(\n",
    "    model = model,\n",
    "    tokenizer = tokenizer,\n",
    "    relation = prompt,\n",
    "    layer = 15, \n",
    "    # layer_name_format = \"model.decoder.layers.{}\",\n",
    "    weight = torch.eye(getattr(model.config, n_embd_field)).to(model.dtype).to(model.device),\n",
    "    bias = grad_dsc_corner,\n",
    "\n",
    "    # ln_f_name = \"model.decoder.final_layer_norm\"\n",
    ")\n",
    "\n",
    "check_with_test_cases(relation)"
   ]
  },
  {
   "cell_type": "code",
   "execution_count": 17,
   "metadata": {},
   "outputs": [],
   "source": [
    "def get_averaged_JB(top_performers, relation_prompt, num_icl = 3, calculate_at_lnf = False):\n",
    "    try:\n",
    "        jbs = []\n",
    "        for s, s_idx, o in tqdm(top_performers):\n",
    "            others = set(top_performers) - {(s, s_idx, o)}\n",
    "            others = random.sample(list(others), k = min(num_icl, len(list(others)))) \n",
    "            prompt = \"\"\n",
    "            prompt += \"\\n\".join(relation_prompt.format(s_other) + f\" {o_other}.\" for s_other, idx_other, o_other in others) + \"\\n\"\n",
    "            prompt += relation_prompt\n",
    "            print(\"subject: \", s)\n",
    "            print(prompt)\n",
    "\n",
    "            jb = estimate.estimate_relation_operator(\n",
    "                model, tokenizer,\n",
    "                s, prompt,\n",
    "                subject_token_index= s_idx,\n",
    "                layer = 15,\n",
    "                device = model.device,\n",
    "                # calculate_at_lnf = calculate_at_lnf,\n",
    "                # layer_name_format = \"model.decoder.layers.{}\",\n",
    "                # ln_f_name = \"model.decoder.final_layer_norm\",\n",
    "                # n_layer_field = \"num_hidden_layers\"\n",
    "            )\n",
    "            print(jb.weight.norm(), jb.bias.norm())\n",
    "            print()\n",
    "            jbs.append(jb)\n",
    "        \n",
    "        weight = torch.stack([jb.weight for jb in jbs]).mean(dim=0)\n",
    "        bias  = torch.stack([jb.bias for jb in jbs]).mean(dim=0)\n",
    "\n",
    "        return weight, bias\n",
    "    except RuntimeError as e:\n",
    "        if(str(e).startswith(\"CUDA out of memory\")):\n",
    "            print(\"CUDA out of memory\")\n",
    "        if(num_icl > 1):\n",
    "            num_icl -= 1\n",
    "            print(\"trying with smaller icl >> \", num_icl)\n",
    "            return get_averaged_JB(top_performers, relation_prompt, num_icl, calculate_at_lnf)\n",
    "        else:\n",
    "            raise Exception(\"RuntimeError >> can't calculate Jacobian with minimum number of icl examples\")\n",
    "\n",
    "def get_multiple_averaged_JB(top_performers, relation_prompt, N = 3, num_icl = 2, calculate_at_lnf = False):\n",
    "    weights_and_biases = []\n",
    "    sample_size = min(len(top_performers), num_icl + 2)\n",
    "    for _ in tqdm(range(N)):\n",
    "        cur_sample = random.sample(top_performers, k = sample_size)\n",
    "        weight, bias = get_averaged_JB(cur_sample, relation_prompt, num_icl, calculate_at_lnf)\n",
    "        weights_and_biases.append({\n",
    "            'weight': weight,\n",
    "            'bias'  : bias\n",
    "        })\n",
    "    return weights_and_biases"
   ]
  },
  {
   "cell_type": "code",
   "execution_count": 18,
   "metadata": {},
   "outputs": [
    {
     "name": "stdout",
     "output_type": "stream",
     "text": [
      "[('bad', -1, 'worst'), ('big', -1, 'biggest'), ('bright', -1, 'brightest'), ('cheap', -1, 'cheapest'), ('close', -1, 'closest'), ('cool', -1, 'coolest'), ('dark', -1, 'darkest'), ('deep', -1, 'deepest'), ('early', -1, 'earliest'), ('easy', -1, 'easiest')]\n"
     ]
    },
    {
     "data": {
      "application/vnd.jupyter.widget-view+json": {
       "model_id": "3456a9412625479eb4d9c6037bee82f2",
       "version_major": 2,
       "version_minor": 0
      },
      "text/plain": [
       "  0%|          | 0/3 [00:00<?, ?it/s]"
      ]
     },
     "metadata": {},
     "output_type": "display_data"
    },
    {
     "data": {
      "application/vnd.jupyter.widget-view+json": {
       "model_id": "b6135462355d4e13a713299668997134",
       "version_major": 2,
       "version_minor": 0
      },
      "text/plain": [
       "  0%|          | 0/4 [00:00<?, ?it/s]"
      ]
     },
     "metadata": {},
     "output_type": "display_data"
    },
    {
     "name": "stdout",
     "output_type": "stream",
     "text": [
      "subject:  deep\n",
      "superlative of cool is coolest.\n",
      "superlative of early is earliest.\n",
      "superlative of {} is\n",
      "tensor(29.3438, device='cuda:0', dtype=torch.float16) tensor(315., device='cuda:0', dtype=torch.float16)\n",
      "\n",
      "subject:  early\n",
      "superlative of close is closest.\n",
      "superlative of deep is deepest.\n",
      "superlative of {} is\n",
      "tensor(34.5625, device='cuda:0', dtype=torch.float16) tensor(284.2500, device='cuda:0', dtype=torch.float16)\n",
      "\n",
      "subject:  cool\n",
      "superlative of deep is deepest.\n",
      "superlative of close is closest.\n",
      "superlative of {} is\n",
      "tensor(35.5312, device='cuda:0', dtype=torch.float16) tensor(314.5000, device='cuda:0', dtype=torch.float16)\n",
      "\n",
      "subject:  close\n",
      "superlative of deep is deepest.\n",
      "superlative of early is earliest.\n",
      "superlative of {} is\n",
      "tensor(31.2812, device='cuda:0', dtype=torch.float16) tensor(328.2500, device='cuda:0', dtype=torch.float16)\n",
      "\n"
     ]
    },
    {
     "data": {
      "application/vnd.jupyter.widget-view+json": {
       "model_id": "61a95f27ea904b2cbb68878805997b73",
       "version_major": 2,
       "version_minor": 0
      },
      "text/plain": [
       "  0%|          | 0/4 [00:00<?, ?it/s]"
      ]
     },
     "metadata": {},
     "output_type": "display_data"
    },
    {
     "name": "stdout",
     "output_type": "stream",
     "text": [
      "subject:  big\n",
      "superlative of bright is brightest.\n",
      "superlative of easy is easiest.\n",
      "superlative of {} is\n",
      "tensor(28.3906, device='cuda:0', dtype=torch.float16) tensor(298.2500, device='cuda:0', dtype=torch.float16)\n",
      "\n",
      "subject:  bright\n",
      "superlative of easy is easiest.\n",
      "superlative of cool is coolest.\n",
      "superlative of {} is\n",
      "tensor(31.6719, device='cuda:0', dtype=torch.float16) tensor(308.2500, device='cuda:0', dtype=torch.float16)\n",
      "\n",
      "subject:  cool\n",
      "superlative of big is biggest.\n",
      "superlative of easy is easiest.\n",
      "superlative of {} is\n",
      "tensor(32.9688, device='cuda:0', dtype=torch.float16) tensor(281.5000, device='cuda:0', dtype=torch.float16)\n",
      "\n",
      "subject:  easy\n",
      "superlative of cool is coolest.\n",
      "superlative of big is biggest.\n",
      "superlative of {} is\n",
      "tensor(32.7500, device='cuda:0', dtype=torch.float16) tensor(291., device='cuda:0', dtype=torch.float16)\n",
      "\n"
     ]
    },
    {
     "data": {
      "application/vnd.jupyter.widget-view+json": {
       "model_id": "8d4db7858fa94d75856d866e40f29264",
       "version_major": 2,
       "version_minor": 0
      },
      "text/plain": [
       "  0%|          | 0/4 [00:00<?, ?it/s]"
      ]
     },
     "metadata": {},
     "output_type": "display_data"
    },
    {
     "name": "stdout",
     "output_type": "stream",
     "text": [
      "subject:  bad\n",
      "superlative of bright is brightest.\n",
      "superlative of cheap is cheapest.\n",
      "superlative of {} is\n",
      "tensor(32.1562, device='cuda:0', dtype=torch.float16) tensor(307., device='cuda:0', dtype=torch.float16)\n",
      "\n",
      "subject:  dark\n",
      "superlative of bad is worst.\n",
      "superlative of bright is brightest.\n",
      "superlative of {} is\n",
      "tensor(26.6406, device='cuda:0', dtype=torch.float16) tensor(274.2500, device='cuda:0', dtype=torch.float16)\n",
      "\n",
      "subject:  cheap\n",
      "superlative of bright is brightest.\n",
      "superlative of bad is worst.\n",
      "superlative of {} is\n",
      "tensor(28.7344, device='cuda:0', dtype=torch.float16) tensor(315.7500, device='cuda:0', dtype=torch.float16)\n",
      "\n",
      "subject:  bright\n",
      "superlative of dark is darkest.\n",
      "superlative of cheap is cheapest.\n",
      "superlative of {} is\n",
      "tensor(29.9531, device='cuda:0', dtype=torch.float16) tensor(306.2500, device='cuda:0', dtype=torch.float16)\n",
      "\n"
     ]
    }
   ],
   "source": [
    "samples = [\n",
    "        (b, -1, s) for b, c, s in filter_single_token[:10]\n",
    "    ]\n",
    "print(samples)\n",
    "\n",
    "weights_and_biases = get_multiple_averaged_JB(\n",
    "    samples, \n",
    "    relation_prompt=\"superlative of {} is\", \n",
    "    N = 3, \n",
    "    calculate_at_lnf=False\n",
    ")"
   ]
  },
  {
   "cell_type": "code",
   "execution_count": 19,
   "metadata": {},
   "outputs": [
    {
     "data": {
      "text/plain": [
       "False"
      ]
     },
     "execution_count": 19,
     "metadata": {},
     "output_type": "execute_result"
    }
   ],
   "source": [
    "'shortest' in objects[:30]"
   ]
  },
  {
   "cell_type": "code",
   "execution_count": 20,
   "metadata": {},
   "outputs": [
    {
     "name": "stdout",
     "output_type": "stream",
     "text": [
      "happy, target: happiest   ==>   predicted: [' happiest', ' richest', ' happy', ' best', ' brightest']\n",
      "hard, target: hardest   ==>   predicted: [' hardest', ' toughest', ' easiest', ' strongest', ' closest']\n",
      "heavy, target: heaviest   ==>   predicted: [' heaviest', ' darkest', ' hardest', ' richest', ' strongest']\n",
      "high, target: highest   ==>   predicted: [' highest', ' tallest', ' lowest', ' richest', ' cheapest']\n",
      "hot, target: hottest   ==>   predicted: [' hottest', ' coolest', ' hot', ' hardest', ' worst']\n",
      "large, target: largest   ==>   predicted: [' largest', ' biggest', ' smallest', ' widest', ' heaviest']\n",
      "late, target: latest   ==>   predicted: [' latest', ' earliest', ' newest', ' oldest', ' lowest']\n",
      "long, target: longest   ==>   predicted: [' longest', ' shortest', ' oldest', ' tallest', ' earliest']\n",
      "low, target: lowest   ==>   predicted: [' lowest', ' poorest', ' cheapest', ' weakest', ' smallest']\n",
      "near, target: nearest   ==>   predicted: [' nearest', ' closest', ' oldest', ' shortest', ' smallest']\n",
      "new, target: newest   ==>   predicted: [' newest', ' latest', ' oldest', ' youngest', ' earliest']\n",
      "poor, target: poorest   ==>   predicted: [' poorest', ' worst', ' cheapest', ' richest', ' weakest']\n",
      "quick, target: quickest   ==>   predicted: [' quickest', ' fastest', ' shortest', ' quick', ' easiest']\n",
      "rich, target: richest   ==>   predicted: [' richest', ' wealthiest', ' poorest', ' cheapest', ' deepest']\n",
      "safe, target: safest   ==>   predicted: [' safest', ' safe', ' safer', ' cheapest', ' safety']\n",
      "short, target: shortest   ==>   predicted: [' shortest', ' longest', ' smallest', ' quickest', ' tallest']\n",
      "simple, target: simplest   ==>   predicted: [' simplest', ' easiest', ' cheapest', ' smallest', ' poorest']\n",
      "small, target: smallest   ==>   predicted: [' smallest', ' weakest', ' lowest', ' largest', ' cheapest']\n",
      "smart, target: smartest   ==>   predicted: [' smartest', ' brightest', ' quickest', ' easiest', ' best']\n",
      "strong, target: strongest   ==>   predicted: [' strongest', ' weakest', ' hardest', ' heaviest', ' toughest']\n",
      "tall, target: tallest   ==>   predicted: [' tallest', ' longest', ' shortest', ' highest', ' largest']\n",
      "tough, target: toughest   ==>   predicted: [' toughest', ' hardest', ' strongest', ' weakest', ' worst']\n",
      "weak, target: weakest   ==>   predicted: [' weakest', ' strongest', ' poorest', ' lowest', ' worst']\n",
      "wealthy, target: wealthiest   ==>   predicted: [' wealthiest', ' richest', ' cheapest', ' poorest', ' happiest']\n",
      "wide, target: widest   ==>   predicted: [' widest', ' largest', ' biggest', ' fullest', ' deepest']\n",
      "young, target: youngest   ==>   predicted: [' youngest', ' oldest', ' newest', ' earliest', ' latest']\n"
     ]
    }
   ],
   "source": [
    "relation_operator = estimate.RelationOperator(\n",
    "    model = model,\n",
    "    tokenizer= tokenizer,\n",
    "    relation = prompt,\n",
    "    layer = 15,\n",
    "    weight = torch.stack(\n",
    "        [wb['weight'] for wb in weights_and_biases]\n",
    "    ).mean(dim=0),\n",
    "    # bias = torch.stack(\n",
    "    #     [wb['bias'] for wb in weights_and_biases]\n",
    "    # ).mean(dim=0),\n",
    "    bias = grad_dsc_corner,\n",
    "\n",
    "    # layer_name_format = \"model.decoder.layers.{}\",\n",
    "    # ln_f_name = \"model.decoder.final_layer_norm\",\n",
    ")\n",
    "\n",
    "check_with_test_cases(relation_operator)"
   ]
  },
  {
   "cell_type": "code",
   "execution_count": 21,
   "metadata": {},
   "outputs": [
    {
     "data": {
      "text/plain": [
       "[(' most', 20.234),\n",
       " ('\\n', 18.641),\n",
       " (' the', 18.531),\n",
       " (' least', 16.922),\n",
       " (' ', 16.516)]"
      ]
     },
     "execution_count": 21,
     "metadata": {},
     "output_type": "execute_result"
    }
   ],
   "source": [
    "corner_estimator.get_vocab_representation(\n",
    "    torch.stack(\n",
    "        [wb['bias'] for wb in weights_and_biases]\n",
    "    ).mean(dim=0), get_logits=True\n",
    ")"
   ]
  },
  {
   "cell_type": "code",
   "execution_count": 22,
   "metadata": {},
   "outputs": [
    {
     "data": {
      "text/plain": [
       "3"
      ]
     },
     "execution_count": 22,
     "metadata": {},
     "output_type": "execute_result"
    }
   ],
   "source": [
    "len(weights_and_biases)"
   ]
  },
  {
   "cell_type": "code",
   "execution_count": 23,
   "metadata": {},
   "outputs": [],
   "source": [
    "from relations.utils import visualize_matrix, low_rank_approximation"
   ]
  },
  {
   "cell_type": "code",
   "execution_count": 24,
   "metadata": {},
   "outputs": [
    {
     "data": {
      "image/png": "[encoded data removed]",
      "text/plain": [
       "<Figure size 640x480 with 2 Axes>"
      ]
     },
     "metadata": {},
     "output_type": "display_data"
    }
   ],
   "source": [
    "mean_jacobian = torch.stack(\n",
    "        [wb['weight'] for wb in weights_and_biases]\n",
    "    ).mean(dim=0)\n",
    "\n",
    "visualize_matrix(mean_jacobian)"
   ]
  },
  {
   "cell_type": "code",
   "execution_count": 25,
   "metadata": {},
   "outputs": [
    {
     "name": "stdout",
     "output_type": "stream",
     "text": [
      "rank 300 >>  tensor(60.6522, device='cuda:0')\n"
     ]
    },
    {
     "data": {
      "image/png": "[encoded data removed]",
      "text/plain": [
       "<Figure size 640x480 with 2 Axes>"
      ]
     },
     "metadata": {},
     "output_type": "display_data"
    }
   ],
   "source": [
    "I = torch.eye(model.config.n_embd).to(model.dtype).to(model.device)\n",
    "residual_add = mean_jacobian - I\n",
    "\n",
    "residual_add_approx = low_rank_approximation(residual_add, rank = 300)\n",
    "jacobian_approx = I + residual_add_approx\n",
    "visualize_matrix(jacobian_approx)"
   ]
  },
  {
   "cell_type": "code",
   "execution_count": 26,
   "metadata": {},
   "outputs": [
    {
     "name": "stdout",
     "output_type": "stream",
     "text": [
      "happy, target: happiest   ==>   predicted: [' happiest', ' quickest', ' richest', ' best', ' fastest']\n",
      "hard, target: hardest   ==>   predicted: [' hardest', ' closest', ' poorest', ' lowest', ' toughest']\n",
      "heavy, target: heaviest   ==>   predicted: [' heaviest', ' lowest', ' largest', ' hardest', ' weight']\n",
      "high, target: highest   ==>   predicted: [' tallest', ' highest', ' largest', ' lowest', ' greatest']\n",
      "hot, target: hottest   ==>   predicted: [' hottest', ' highest', ' lowest', ' fastest', ' largest']\n",
      "large, target: largest   ==>   predicted: [' largest', ' lowest', ' smallest', ' biggest', ' greatest']\n",
      "late, target: latest   ==>   predicted: [' latest', ' lowest', ' largest', ' longest', ' oldest']\n",
      "long, target: longest   ==>   predicted: [' longest', ' tallest', ' shortest', ' largest', ' oldest']\n",
      "low, target: lowest   ==>   predicted: [' lowest', ' poorest', ' smallest', ' tallest', ' cheapest']\n",
      "near, target: nearest   ==>   predicted: [' smallest', ' lowest', ' nearest', ' least', ' poorest']\n",
      "new, target: newest   ==>   predicted: [' largest', ' earliest', ' youngest', ' oldest', ' latest']\n",
      "poor, target: poorest   ==>   predicted: [' poorest', ' cheapest', ' lowest', ' worst', ' weakest']\n",
      "quick, target: quickest   ==>   predicted: [' quickest', ' fastest', ' shortest', ' earliest', ' cheapest']\n",
      "rich, target: richest   ==>   predicted: [' richest', ' wealthiest', ' cheapest', ' best', ' poorest']\n",
      "safe, target: safest   ==>   predicted: [' safest', ' lowest', ' cheapest', ' best', ' quickest']\n",
      "short, target: shortest   ==>   predicted: [' shortest', ' tallest', ' smallest', ' quickest', ' lowest']\n",
      "simple, target: simplest   ==>   predicted: [' lowest', ' cheapest', ' smallest', ' easiest', ' simplest']\n",
      "small, target: smallest   ==>   predicted: [' smallest', ' lowest', ' largest', ' tallest', ' poorest']\n",
      "smart, target: smartest   ==>   predicted: [' smartest', ' quickest', ' best', ' fastest', ' smallest']\n",
      "strong, target: strongest   ==>   predicted: [' strongest', ' weakest', ' oldest', ' highest', ' lowest']\n",
      "tall, target: tallest   ==>   predicted: [' tallest', ' largest', ' highest', ' smallest', ' lowest']\n",
      "tough, target: toughest   ==>   predicted: [' toughest', ' hardest', ' worst', ' best', ' strongest']\n",
      "weak, target: weakest   ==>   predicted: [' weakest', ' lowest', ' poorest', ' smallest', ' strongest']\n",
      "wealthy, target: wealthiest   ==>   predicted: [' wealthiest', ' richest', ' cheapest', ' poorest', ' largest']\n",
      "wide, target: widest   ==>   predicted: [' widest', ' largest', ' smallest', ' greatest', ' biggest']\n",
      "young, target: youngest   ==>   predicted: [' youngest', ' earliest', ' smallest', ' oldest', ' lowest']\n"
     ]
    }
   ],
   "source": [
    "relation_operator = estimate.RelationOperator(\n",
    "    model = model,\n",
    "    tokenizer= tokenizer,\n",
    "    relation = prompt,\n",
    "    layer = 15,\n",
    "    weight = jacobian_approx,\n",
    "    bias = grad_dsc_corner,\n",
    "\n",
    "    # layer_name_format = \"model.decoder.layers.{}\",\n",
    "    # ln_f_name = \"model.decoder.final_layer_norm\",\n",
    ")\n",
    "\n",
    "check_with_test_cases(relation_operator)"
   ]
  },
  {
   "cell_type": "code",
   "execution_count": 27,
   "metadata": {},
   "outputs": [
    {
     "data": {
      "text/plain": [
       "(torch.Size([4096]), torch.Size([4096]))"
      ]
     },
     "execution_count": 27,
     "metadata": {},
     "output_type": "execute_result"
    }
   ],
   "source": [
    "import baukit\n",
    "\n",
    "def untuple(x):\n",
    "    if(isinstance(x, tuple)):\n",
    "        return x[0]\n",
    "    return x\n",
    "\n",
    "def extract_zh(subject, relation, layer):\n",
    "    prompt = relation.format(subject)\n",
    "    inputs = tokenizer(\n",
    "        prompt, return_tensors=\"pt\", return_offsets_mapping=True\n",
    "    ).to(model.device)\n",
    "    offset_mapping = inputs.pop(\"offset_mapping\")\n",
    "    subject_i, subject_j = estimate.find_token_range(\n",
    "        prompt, subject, offset_mapping=offset_mapping[0]\n",
    "    )\n",
    "\n",
    "    h_token_index = estimate.determine_token_index(subject_i, subject_j, -1)\n",
    "    h_layer_name = f\"transformer.h.{layer}\"\n",
    "    z_layer_name = f\"transformer.h.{model.config.n_layer-1}\"\n",
    "    with baukit.TraceDict(\n",
    "        model, [h_layer_name, z_layer_name]\n",
    "    ) as traces:\n",
    "        model(**inputs)\n",
    "\n",
    "    return (\n",
    "        untuple(traces[h_layer_name].output)[0, h_token_index], \n",
    "        untuple(traces[z_layer_name].output)[0, -1]\n",
    "    )\n",
    "\n",
    "h, z = extract_zh(\n",
    "    subject = \"large\", relation=prompt,\n",
    "    layer = 15\n",
    ")\n",
    "\n",
    "h.shape, z.shape"
   ]
  },
  {
   "cell_type": "code",
   "execution_count": 28,
   "metadata": {},
   "outputs": [
    {
     "data": {
      "text/plain": [
       "[' largest', ' larg', ' biggest', ' greatest', ' larger']"
      ]
     },
     "execution_count": 28,
     "metadata": {},
     "output_type": "execute_result"
    }
   ],
   "source": [
    "corner_estimator.get_vocab_representation(z)"
   ]
  },
  {
   "cell_type": "code",
   "execution_count": 29,
   "metadata": {},
   "outputs": [
    {
     "data": {
      "text/plain": [
       "[' largest', ' biggest', ' smallest', ' widest', ' heaviest']"
      ]
     },
     "execution_count": 29,
     "metadata": {},
     "output_type": "execute_result"
    }
   ],
   "source": [
    "z_jacobian = mean_jacobian.to(model.dtype) @ h + grad_dsc_corner\n",
    "corner_estimator.get_vocab_representation(z_jacobian)"
   ]
  },
  {
   "cell_type": "code",
   "execution_count": 30,
   "metadata": {},
   "outputs": [
    {
     "data": {
      "text/plain": [
       "(torch.Size([4096, 15]), torch.Size([4096, 15]))"
      ]
     },
     "execution_count": 30,
     "metadata": {},
     "output_type": "execute_result"
    }
   ],
   "source": [
    "test_samples = [\n",
    "        b for b, c, s in filter_single_token[:15]\n",
    "    ]\n",
    "\n",
    "sample_zh = [\n",
    "    extract_zh(\n",
    "        subject = s, relation = prompt, layer = 15\n",
    "    ) for s in test_samples\n",
    "]\n",
    "\n",
    "sample_h = [h for h,z in sample_zh]\n",
    "sample_z = [z for h,z in sample_zh]\n",
    "\n",
    "sample_h = torch.stack(sample_h).T\n",
    "sample_z = torch.stack(sample_z).T\n",
    "\n",
    "sample_h.shape, sample_z.shape"
   ]
  },
  {
   "cell_type": "code",
   "execution_count": 31,
   "metadata": {},
   "outputs": [],
   "source": [
    "# z = sample_h + (residual_add@sample_h.to(dtype)) + grad_dsc_corner[None].T\n",
    "# z.shape"
   ]
  },
  {
   "cell_type": "code",
   "execution_count": 32,
   "metadata": {},
   "outputs": [],
   "source": [
    "# logits = lm_head(z.T)\n",
    "# logits.shape"
   ]
  },
  {
   "cell_type": "code",
   "execution_count": 33,
   "metadata": {},
   "outputs": [],
   "source": [
    "# gather_indices = target_tokenized.input_ids.reshape(len(objects))\n",
    "# gather_indices = torch.stack([gather_indices] * logits.shape[0])\n",
    "# gather_indices.shape"
   ]
  },
  {
   "cell_type": "code",
   "execution_count": 34,
   "metadata": {},
   "outputs": [],
   "source": [
    "# torch.gather(logits[3], 0, target_tokenized.input_ids.reshape(len(objects)))"
   ]
  },
  {
   "cell_type": "code",
   "execution_count": 35,
   "metadata": {},
   "outputs": [],
   "source": [
    "# target_logits = torch.gather(logits, 1, gather_indices)"
   ]
  },
  {
   "cell_type": "code",
   "execution_count": 36,
   "metadata": {},
   "outputs": [],
   "source": [
    "# distributions = torch.nn.functional.softmax(target_logits, dim = 1)\n",
    "# distributions.shape"
   ]
  },
  {
   "cell_type": "code",
   "execution_count": 37,
   "metadata": {},
   "outputs": [],
   "source": [
    "# # distributions.shape\n",
    "# distributions.sum(dim = 1)"
   ]
  },
  {
   "cell_type": "code",
   "execution_count": 38,
   "metadata": {},
   "outputs": [],
   "source": [
    "# target_tokenized = tokenizer(objects, padding=True, return_tensors=\"pt\").to(model.device)"
   ]
  },
  {
   "cell_type": "code",
   "execution_count": 39,
   "metadata": {},
   "outputs": [],
   "source": [
    "# lm_head = torch.nn.Sequential(\n",
    "#                 model.transformer.ln_f,\n",
    "#                 model.lm_head,\n",
    "#             )\n",
    "\n",
    "# h = sample_h[:, 4]\n",
    "# z_true = h.to(dtype) + (residual_add@h.to(dtype)) + grad_dsc_corner.to(dtype)\n",
    "# # corner_estimator.get_vocab_representation(z_true.to(model.dtype))\n",
    "# logits_true = lm_head(z_true.to(model.dtype))\n",
    "\n",
    "# distribution_true = torch.nn.functional.softmax(logits_true.to(dtype), dim = 0)\n",
    "# distribution_true.sum(), distribution_true.shape"
   ]
  },
  {
   "cell_type": "code",
   "execution_count": 40,
   "metadata": {},
   "outputs": [],
   "source": [
    "# z_est = h.to(dtype) + (projection@h.to(dtype)) + grad_dsc_corner.to(dtype)\n",
    "# logits_est = lm_head(z_est.to(model.dtype))\n",
    "\n",
    "# distribution_est = torch.nn.functional.softmax(logits_est.to(dtype), dim = 0)\n",
    "# distribution_est.sum(), distribution_est.shape"
   ]
  },
  {
   "cell_type": "code",
   "execution_count": 41,
   "metadata": {},
   "outputs": [],
   "source": [
    "# kl_loss = torch.nn.KLDivLoss(reduction=\"sum\", log_target=True)\n",
    "# loss = kl_loss(distribution_est, distribution_true)\n",
    "# # loss = kl_loss(input = logits_est[:10].to(dtype), target = logits_true[:10].to(dtype))\n",
    "# loss"
   ]
  },
  {
   "cell_type": "code",
   "execution_count": 42,
   "metadata": {},
   "outputs": [],
   "source": [
    "# target_logits_true = torch.gather(logits_true, 0, target_tokenized.input_ids.reshape(len(objects)))\n",
    "# target_logits_est = torch.gather(logits_est, 0, target_tokenized.input_ids.reshape(len(objects)))\n",
    "\n",
    "\n",
    "# distribution_true = torch.nn.functional.softmax(target_logits_true.to(dtype), dim = 0)\n",
    "# distribution_est = torch.nn.functional.softmax(target_logits_est.to(dtype), dim = 0)"
   ]
  },
  {
   "cell_type": "code",
   "execution_count": 43,
   "metadata": {},
   "outputs": [],
   "source": [
    "# kl_loss = torch.nn.KLDivLoss(reduction=\"sum\", log_target=True)\n",
    "\n",
    "# loss = kl_loss(input = distribution_est, target = distribution_true)\n",
    "# loss.item()"
   ]
  },
  {
   "cell_type": "code",
   "execution_count": 44,
   "metadata": {},
   "outputs": [],
   "source": [
    "# logits_true.to(dtype).log_softmax(dim = 0).sum()"
   ]
  },
  {
   "attachments": {},
   "cell_type": "markdown",
   "metadata": {},
   "source": [
    "## Causal Basis Extraction"
   ]
  },
  {
   "cell_type": "code",
   "execution_count": 45,
   "metadata": {},
   "outputs": [],
   "source": [
    "dtype = torch.float32"
   ]
  },
  {
   "cell_type": "code",
   "execution_count": 46,
   "metadata": {},
   "outputs": [],
   "source": [
    "all_jacobians = [wb['bias'].to(dtype) for wb in weights_and_biases]\n",
    "I = torch.eye(model.config.n_embd).to(model.dtype).to(model.device)\n",
    "\n",
    "all_additionals = [(wb['bias'] - I).to(dtype) for wb in weights_and_biases]\n",
    "\n",
    "mean_jacobian = torch.stack(\n",
    "        [wb['weight'] for wb in weights_and_biases]\n",
    "    ).mean(dim=0).to(dtype)"
   ]
  },
  {
   "cell_type": "code",
   "execution_count": 47,
   "metadata": {},
   "outputs": [
    {
     "data": {
      "text/plain": [
       "(torch.Size([4096, 4096]), torch.Size([4096]), torch.Size([4096, 4096]))"
      ]
     },
     "execution_count": 47,
     "metadata": {},
     "output_type": "execute_result"
    }
   ],
   "source": [
    "low_rank = 10\n",
    "\n",
    "svd = mean_jacobian.svd()\n",
    "svd.U.shape, svd.S.shape, svd.V.shape"
   ]
  },
  {
   "cell_type": "code",
   "execution_count": 48,
   "metadata": {},
   "outputs": [
    {
     "data": {
      "text/plain": [
       "torch.Size([4096, 10])"
      ]
     },
     "execution_count": 48,
     "metadata": {},
     "output_type": "execute_result"
    }
   ],
   "source": [
    "causal_basis = svd.U[:low_rank].T.clone()\n",
    "causal_basis.shape"
   ]
  },
  {
   "cell_type": "code",
   "execution_count": 49,
   "metadata": {},
   "outputs": [],
   "source": [
    "learning_rate = 5e-1\n",
    "weight_decay = 2e-2\n",
    "max_iter = 100\n",
    "verbose = True"
   ]
  },
  {
   "cell_type": "code",
   "execution_count": 50,
   "metadata": {},
   "outputs": [],
   "source": [
    "import matplotlib.pyplot as plt\n",
    "from torch.autograd import Variable"
   ]
  },
  {
   "cell_type": "code",
   "execution_count": 51,
   "metadata": {},
   "outputs": [
    {
     "data": {
      "text/plain": [
       "torch.float16"
      ]
     },
     "execution_count": 51,
     "metadata": {},
     "output_type": "execute_result"
    }
   ],
   "source": [
    "model.dtype"
   ]
  },
  {
   "cell_type": "code",
   "execution_count": 123,
   "metadata": {},
   "outputs": [
    {
     "data": {
      "text/plain": [
       "(torch.Size([4096, 15]), torch.Size([4096, 15]))"
      ]
     },
     "execution_count": 123,
     "metadata": {},
     "output_type": "execute_result"
    }
   ],
   "source": [
    "sample_h.shape, sample_z.shape"
   ]
  },
  {
   "cell_type": "code",
   "execution_count": 130,
   "metadata": {},
   "outputs": [
    {
     "data": {
      "text/plain": [
       "torch.Size([50400])"
      ]
     },
     "execution_count": 130,
     "metadata": {},
     "output_type": "execute_result"
    }
   ],
   "source": [
    "\n",
    "lm_head = torch.nn.Sequential(\n",
    "            model.transformer.ln_f,\n",
    "            model.lm_head,\n",
    "        )\n",
    "\n",
    "lm_head(sample_h[:, 10].to(model.dtype)).shape"
   ]
  },
  {
   "cell_type": "code",
   "execution_count": 143,
   "metadata": {},
   "outputs": [
    {
     "data": {
      "image/png": "[encoded data removed]",
      "text/plain": [
       "<Figure size 640x480 with 2 Axes>"
      ]
     },
     "metadata": {},
     "output_type": "display_data"
    },
    {
     "data": {
      "application/vnd.jupyter.widget-view+json": {
       "model_id": "d1130601fbc9400ebb7b73111fb9c89f",
       "version_major": 2,
       "version_minor": 0
      },
      "text/plain": [
       "  0%|          | 0/300 [00:00<?, ?it/s]"
      ]
     },
     "metadata": {},
     "output_type": "display_data"
    },
    {
     "name": "stdout",
     "output_type": "stream",
     "text": [
      "torch.Size([4096, 0]) torch.Size([4096, 1])\n",
      "torch.Size([4096, 1]) torch.Size([4096, 1])\n",
      "torch.Size([4096, 2]) torch.Size([4096, 1])\n",
      "torch.Size([4096, 3]) torch.Size([4096, 1])\n",
      "torch.Size([4096, 4]) torch.Size([4096, 1])\n",
      "torch.Size([4096, 5]) torch.Size([4096, 1])\n",
      "torch.Size([4096, 6]) torch.Size([4096, 1])\n",
      "torch.Size([4096, 7]) torch.Size([4096, 1])\n",
      "torch.Size([4096, 8]) torch.Size([4096, 1])\n",
      "torch.Size([4096, 9]) torch.Size([4096, 1])\n",
      "torch.Size([4096, 10]) torch.Size([4096, 1])\n",
      "torch.Size([4096, 11]) torch.Size([4096, 1])\n",
      "torch.Size([4096, 12]) torch.Size([4096, 1])\n",
      "torch.Size([4096, 13]) torch.Size([4096, 1])\n",
      "torch.Size([4096, 14]) torch.Size([4096, 1])\n",
      "torch.Size([4096, 15]) torch.Size([4096, 1])\n",
      "torch.Size([4096, 16]) torch.Size([4096, 1])\n",
      "torch.Size([4096, 17]) torch.Size([4096, 1])\n",
      "torch.Size([4096, 18]) torch.Size([4096, 1])\n",
      "torch.Size([4096, 19]) torch.Size([4096, 1])\n",
      "torch.Size([4096, 20]) torch.Size([4096, 1])\n",
      "torch.Size([4096, 21]) torch.Size([4096, 1])\n",
      "torch.Size([4096, 22]) torch.Size([4096, 1])\n",
      "torch.Size([4096, 23]) torch.Size([4096, 1])\n",
      "torch.Size([4096, 24]) torch.Size([4096, 1])\n",
      "torch.Size([4096, 25]) torch.Size([4096, 1])\n",
      "torch.Size([4096, 26]) torch.Size([4096, 1])\n",
      "torch.Size([4096, 27]) torch.Size([4096, 1])\n",
      "torch.Size([4096, 28]) torch.Size([4096, 1])\n",
      "torch.Size([4096, 29]) torch.Size([4096, 1])\n",
      "torch.Size([4096, 30]) torch.Size([4096, 1])\n",
      "torch.Size([4096, 31]) torch.Size([4096, 1])\n",
      "torch.Size([4096, 32]) torch.Size([4096, 1])\n",
      "torch.Size([4096, 33]) torch.Size([4096, 1])\n",
      "torch.Size([4096, 34]) torch.Size([4096, 1])\n",
      "torch.Size([4096, 35]) torch.Size([4096, 1])\n",
      "torch.Size([4096, 36]) torch.Size([4096, 1])\n",
      "torch.Size([4096, 37]) torch.Size([4096, 1])\n",
      "torch.Size([4096, 38]) torch.Size([4096, 1])\n",
      "torch.Size([4096, 39]) torch.Size([4096, 1])\n",
      "torch.Size([4096, 40]) torch.Size([4096, 1])\n",
      "torch.Size([4096, 41]) torch.Size([4096, 1])\n",
      "torch.Size([4096, 42]) torch.Size([4096, 1])\n",
      "torch.Size([4096, 43]) torch.Size([4096, 1])\n",
      "torch.Size([4096, 44]) torch.Size([4096, 1])\n",
      "torch.Size([4096, 45]) torch.Size([4096, 1])\n",
      "torch.Size([4096, 46]) torch.Size([4096, 1])\n",
      "torch.Size([4096, 47]) torch.Size([4096, 1])\n",
      "torch.Size([4096, 48]) torch.Size([4096, 1])\n",
      "torch.Size([4096, 49]) torch.Size([4096, 1])\n",
      "torch.Size([4096, 50]) torch.Size([4096, 1])\n",
      "torch.Size([4096, 51]) torch.Size([4096, 1])\n",
      "torch.Size([4096, 52]) torch.Size([4096, 1])\n",
      "torch.Size([4096, 53]) torch.Size([4096, 1])\n",
      "torch.Size([4096, 54]) torch.Size([4096, 1])\n",
      "torch.Size([4096, 55]) torch.Size([4096, 1])\n",
      "torch.Size([4096, 56]) torch.Size([4096, 1])\n",
      "torch.Size([4096, 57]) torch.Size([4096, 1])\n",
      "torch.Size([4096, 58]) torch.Size([4096, 1])\n",
      "torch.Size([4096, 59]) torch.Size([4096, 1])\n",
      "torch.Size([4096, 60]) torch.Size([4096, 1])\n",
      "torch.Size([4096, 61]) torch.Size([4096, 1])\n",
      "torch.Size([4096, 62]) torch.Size([4096, 1])\n",
      "torch.Size([4096, 63]) torch.Size([4096, 1])\n",
      "torch.Size([4096, 64]) torch.Size([4096, 1])\n",
      "torch.Size([4096, 65]) torch.Size([4096, 1])\n",
      "torch.Size([4096, 66]) torch.Size([4096, 1])\n",
      "torch.Size([4096, 67]) torch.Size([4096, 1])\n",
      "torch.Size([4096, 68]) torch.Size([4096, 1])\n",
      "torch.Size([4096, 69]) torch.Size([4096, 1])\n",
      "torch.Size([4096, 70]) torch.Size([4096, 1])\n",
      "torch.Size([4096, 71]) torch.Size([4096, 1])\n",
      "torch.Size([4096, 72]) torch.Size([4096, 1])\n",
      "torch.Size([4096, 73]) torch.Size([4096, 1])\n",
      "torch.Size([4096, 74]) torch.Size([4096, 1])\n",
      "torch.Size([4096, 75]) torch.Size([4096, 1])\n",
      "torch.Size([4096, 76]) torch.Size([4096, 1])\n",
      "torch.Size([4096, 77]) torch.Size([4096, 1])\n",
      "torch.Size([4096, 78]) torch.Size([4096, 1])\n",
      "torch.Size([4096, 79]) torch.Size([4096, 1])\n",
      "torch.Size([4096, 80]) torch.Size([4096, 1])\n",
      "torch.Size([4096, 81]) torch.Size([4096, 1])\n",
      "torch.Size([4096, 82]) torch.Size([4096, 1])\n",
      "torch.Size([4096, 83]) torch.Size([4096, 1])\n",
      "torch.Size([4096, 84]) torch.Size([4096, 1])\n",
      "torch.Size([4096, 85]) torch.Size([4096, 1])\n",
      "torch.Size([4096, 86]) torch.Size([4096, 1])\n",
      "torch.Size([4096, 87]) torch.Size([4096, 1])\n",
      "torch.Size([4096, 88]) torch.Size([4096, 1])\n",
      "torch.Size([4096, 89]) torch.Size([4096, 1])\n",
      "torch.Size([4096, 90]) torch.Size([4096, 1])\n",
      "torch.Size([4096, 91]) torch.Size([4096, 1])\n",
      "torch.Size([4096, 92]) torch.Size([4096, 1])\n",
      "torch.Size([4096, 93]) torch.Size([4096, 1])\n",
      "torch.Size([4096, 94]) torch.Size([4096, 1])\n",
      "torch.Size([4096, 95]) torch.Size([4096, 1])\n",
      "torch.Size([4096, 96]) torch.Size([4096, 1])\n",
      "torch.Size([4096, 97]) torch.Size([4096, 1])\n",
      "torch.Size([4096, 98]) torch.Size([4096, 1])\n",
      "torch.Size([4096, 99]) torch.Size([4096, 1])\n",
      "torch.Size([4096, 100]) torch.Size([4096, 1])\n",
      "torch.Size([4096, 101]) torch.Size([4096, 1])\n",
      "torch.Size([4096, 102]) torch.Size([4096, 1])\n",
      "torch.Size([4096, 103]) torch.Size([4096, 1])\n",
      "torch.Size([4096, 104]) torch.Size([4096, 1])\n",
      "torch.Size([4096, 105]) torch.Size([4096, 1])\n",
      "torch.Size([4096, 106]) torch.Size([4096, 1])\n",
      "torch.Size([4096, 107]) torch.Size([4096, 1])\n",
      "torch.Size([4096, 108]) torch.Size([4096, 1])\n",
      "torch.Size([4096, 109]) torch.Size([4096, 1])\n",
      "torch.Size([4096, 110]) torch.Size([4096, 1])\n",
      "torch.Size([4096, 111]) torch.Size([4096, 1])\n",
      "torch.Size([4096, 112]) torch.Size([4096, 1])\n",
      "torch.Size([4096, 113]) torch.Size([4096, 1])\n",
      "torch.Size([4096, 114]) torch.Size([4096, 1])\n",
      "torch.Size([4096, 115]) torch.Size([4096, 1])\n",
      "torch.Size([4096, 116]) torch.Size([4096, 1])\n",
      "torch.Size([4096, 117]) torch.Size([4096, 1])\n",
      "torch.Size([4096, 118]) torch.Size([4096, 1])\n",
      "torch.Size([4096, 119]) torch.Size([4096, 1])\n",
      "torch.Size([4096, 120]) torch.Size([4096, 1])\n",
      "torch.Size([4096, 121]) torch.Size([4096, 1])\n",
      "torch.Size([4096, 122]) torch.Size([4096, 1])\n",
      "torch.Size([4096, 123]) torch.Size([4096, 1])\n",
      "torch.Size([4096, 124]) torch.Size([4096, 1])\n",
      "torch.Size([4096, 125]) torch.Size([4096, 1])\n",
      "torch.Size([4096, 126]) torch.Size([4096, 1])\n",
      "torch.Size([4096, 127]) torch.Size([4096, 1])\n",
      "torch.Size([4096, 128]) torch.Size([4096, 1])\n",
      "torch.Size([4096, 129]) torch.Size([4096, 1])\n",
      "torch.Size([4096, 130]) torch.Size([4096, 1])\n",
      "torch.Size([4096, 131]) torch.Size([4096, 1])\n",
      "torch.Size([4096, 132]) torch.Size([4096, 1])\n",
      "torch.Size([4096, 133]) torch.Size([4096, 1])\n",
      "torch.Size([4096, 134]) torch.Size([4096, 1])\n",
      "torch.Size([4096, 135]) torch.Size([4096, 1])\n",
      "torch.Size([4096, 136]) torch.Size([4096, 1])\n",
      "torch.Size([4096, 137]) torch.Size([4096, 1])\n",
      "torch.Size([4096, 138]) torch.Size([4096, 1])\n",
      "torch.Size([4096, 139]) torch.Size([4096, 1])\n",
      "torch.Size([4096, 140]) torch.Size([4096, 1])\n",
      "torch.Size([4096, 141]) torch.Size([4096, 1])\n",
      "torch.Size([4096, 142]) torch.Size([4096, 1])\n",
      "torch.Size([4096, 143]) torch.Size([4096, 1])\n",
      "torch.Size([4096, 144]) torch.Size([4096, 1])\n",
      "torch.Size([4096, 145]) torch.Size([4096, 1])\n",
      "torch.Size([4096, 146]) torch.Size([4096, 1])\n",
      "torch.Size([4096, 147]) torch.Size([4096, 1])\n",
      "torch.Size([4096, 148]) torch.Size([4096, 1])\n",
      "torch.Size([4096, 149]) torch.Size([4096, 1])\n",
      "torch.Size([4096, 150]) torch.Size([4096, 1])\n",
      "torch.Size([4096, 151]) torch.Size([4096, 1])\n",
      "torch.Size([4096, 152]) torch.Size([4096, 1])\n",
      "torch.Size([4096, 153]) torch.Size([4096, 1])\n",
      "torch.Size([4096, 154]) torch.Size([4096, 1])\n",
      "torch.Size([4096, 155]) torch.Size([4096, 1])\n",
      "torch.Size([4096, 156]) torch.Size([4096, 1])\n",
      "torch.Size([4096, 157]) torch.Size([4096, 1])\n",
      "torch.Size([4096, 158]) torch.Size([4096, 1])\n",
      "torch.Size([4096, 159]) torch.Size([4096, 1])\n",
      "torch.Size([4096, 160]) torch.Size([4096, 1])\n",
      "torch.Size([4096, 161]) torch.Size([4096, 1])\n",
      "torch.Size([4096, 162]) torch.Size([4096, 1])\n",
      "torch.Size([4096, 163]) torch.Size([4096, 1])\n",
      "torch.Size([4096, 164]) torch.Size([4096, 1])\n",
      "torch.Size([4096, 165]) torch.Size([4096, 1])\n",
      "torch.Size([4096, 166]) torch.Size([4096, 1])\n",
      "torch.Size([4096, 167]) torch.Size([4096, 1])\n",
      "torch.Size([4096, 168]) torch.Size([4096, 1])\n",
      "torch.Size([4096, 169]) torch.Size([4096, 1])\n",
      "torch.Size([4096, 170]) torch.Size([4096, 1])\n",
      "torch.Size([4096, 171]) torch.Size([4096, 1])\n",
      "torch.Size([4096, 172]) torch.Size([4096, 1])\n",
      "torch.Size([4096, 173]) torch.Size([4096, 1])\n",
      "torch.Size([4096, 174]) torch.Size([4096, 1])\n",
      "torch.Size([4096, 175]) torch.Size([4096, 1])\n",
      "torch.Size([4096, 176]) torch.Size([4096, 1])\n",
      "torch.Size([4096, 177]) torch.Size([4096, 1])\n",
      "torch.Size([4096, 178]) torch.Size([4096, 1])\n",
      "torch.Size([4096, 179]) torch.Size([4096, 1])\n",
      "torch.Size([4096, 180]) torch.Size([4096, 1])\n",
      "torch.Size([4096, 181]) torch.Size([4096, 1])\n",
      "torch.Size([4096, 182]) torch.Size([4096, 1])\n",
      "torch.Size([4096, 183]) torch.Size([4096, 1])\n",
      "torch.Size([4096, 184]) torch.Size([4096, 1])\n",
      "torch.Size([4096, 185]) torch.Size([4096, 1])\n",
      "torch.Size([4096, 186]) torch.Size([4096, 1])\n",
      "torch.Size([4096, 187]) torch.Size([4096, 1])\n",
      "torch.Size([4096, 188]) torch.Size([4096, 1])\n",
      "torch.Size([4096, 189]) torch.Size([4096, 1])\n",
      "torch.Size([4096, 190]) torch.Size([4096, 1])\n",
      "torch.Size([4096, 191]) torch.Size([4096, 1])\n",
      "torch.Size([4096, 192]) torch.Size([4096, 1])\n",
      "torch.Size([4096, 193]) torch.Size([4096, 1])\n",
      "torch.Size([4096, 194]) torch.Size([4096, 1])\n",
      "torch.Size([4096, 195]) torch.Size([4096, 1])\n",
      "torch.Size([4096, 196]) torch.Size([4096, 1])\n",
      "torch.Size([4096, 197]) torch.Size([4096, 1])\n",
      "torch.Size([4096, 198]) torch.Size([4096, 1])\n",
      "torch.Size([4096, 199]) torch.Size([4096, 1])\n",
      "torch.Size([4096, 200]) torch.Size([4096, 1])\n",
      "torch.Size([4096, 201]) torch.Size([4096, 1])\n",
      "torch.Size([4096, 202]) torch.Size([4096, 1])\n",
      "torch.Size([4096, 203]) torch.Size([4096, 1])\n",
      "torch.Size([4096, 204]) torch.Size([4096, 1])\n",
      "torch.Size([4096, 205]) torch.Size([4096, 1])\n",
      "torch.Size([4096, 206]) torch.Size([4096, 1])\n",
      "torch.Size([4096, 207]) torch.Size([4096, 1])\n",
      "torch.Size([4096, 208]) torch.Size([4096, 1])\n",
      "torch.Size([4096, 209]) torch.Size([4096, 1])\n",
      "torch.Size([4096, 210]) torch.Size([4096, 1])\n",
      "torch.Size([4096, 211]) torch.Size([4096, 1])\n",
      "torch.Size([4096, 212]) torch.Size([4096, 1])\n",
      "torch.Size([4096, 213]) torch.Size([4096, 1])\n",
      "torch.Size([4096, 214]) torch.Size([4096, 1])\n",
      "torch.Size([4096, 215]) torch.Size([4096, 1])\n",
      "torch.Size([4096, 216]) torch.Size([4096, 1])\n",
      "torch.Size([4096, 217]) torch.Size([4096, 1])\n",
      "torch.Size([4096, 218]) torch.Size([4096, 1])\n",
      "torch.Size([4096, 219]) torch.Size([4096, 1])\n",
      "torch.Size([4096, 220]) torch.Size([4096, 1])\n",
      "torch.Size([4096, 221]) torch.Size([4096, 1])\n",
      "torch.Size([4096, 222]) torch.Size([4096, 1])\n",
      "torch.Size([4096, 223]) torch.Size([4096, 1])\n",
      "torch.Size([4096, 224]) torch.Size([4096, 1])\n",
      "torch.Size([4096, 225]) torch.Size([4096, 1])\n",
      "torch.Size([4096, 226]) torch.Size([4096, 1])\n",
      "torch.Size([4096, 227]) torch.Size([4096, 1])\n",
      "torch.Size([4096, 228]) torch.Size([4096, 1])\n",
      "torch.Size([4096, 229]) torch.Size([4096, 1])\n",
      "torch.Size([4096, 230]) torch.Size([4096, 1])\n",
      "torch.Size([4096, 231]) torch.Size([4096, 1])\n",
      "torch.Size([4096, 232]) torch.Size([4096, 1])\n",
      "torch.Size([4096, 233]) torch.Size([4096, 1])\n",
      "torch.Size([4096, 234]) torch.Size([4096, 1])\n",
      "torch.Size([4096, 235]) torch.Size([4096, 1])\n",
      "torch.Size([4096, 236]) torch.Size([4096, 1])\n",
      "torch.Size([4096, 237]) torch.Size([4096, 1])\n",
      "torch.Size([4096, 238]) torch.Size([4096, 1])\n",
      "torch.Size([4096, 239]) torch.Size([4096, 1])\n",
      "torch.Size([4096, 240]) torch.Size([4096, 1])\n",
      "torch.Size([4096, 241]) torch.Size([4096, 1])\n",
      "torch.Size([4096, 242]) torch.Size([4096, 1])\n",
      "torch.Size([4096, 243]) torch.Size([4096, 1])\n",
      "torch.Size([4096, 244]) torch.Size([4096, 1])\n",
      "torch.Size([4096, 245]) torch.Size([4096, 1])\n",
      "torch.Size([4096, 246]) torch.Size([4096, 1])\n",
      "torch.Size([4096, 247]) torch.Size([4096, 1])\n",
      "torch.Size([4096, 248]) torch.Size([4096, 1])\n",
      "torch.Size([4096, 249]) torch.Size([4096, 1])\n",
      "torch.Size([4096, 250]) torch.Size([4096, 1])\n",
      "torch.Size([4096, 251]) torch.Size([4096, 1])\n",
      "torch.Size([4096, 252]) torch.Size([4096, 1])\n",
      "torch.Size([4096, 253]) torch.Size([4096, 1])\n",
      "torch.Size([4096, 254]) torch.Size([4096, 1])\n",
      "torch.Size([4096, 255]) torch.Size([4096, 1])\n",
      "torch.Size([4096, 256]) torch.Size([4096, 1])\n",
      "torch.Size([4096, 257]) torch.Size([4096, 1])\n",
      "torch.Size([4096, 258]) torch.Size([4096, 1])\n",
      "torch.Size([4096, 259]) torch.Size([4096, 1])\n",
      "torch.Size([4096, 260]) torch.Size([4096, 1])\n",
      "torch.Size([4096, 261]) torch.Size([4096, 1])\n",
      "torch.Size([4096, 262]) torch.Size([4096, 1])\n",
      "torch.Size([4096, 263]) torch.Size([4096, 1])\n",
      "torch.Size([4096, 264]) torch.Size([4096, 1])\n",
      "torch.Size([4096, 265]) torch.Size([4096, 1])\n",
      "torch.Size([4096, 266]) torch.Size([4096, 1])\n",
      "torch.Size([4096, 267]) torch.Size([4096, 1])\n",
      "torch.Size([4096, 268]) torch.Size([4096, 1])\n",
      "torch.Size([4096, 269]) torch.Size([4096, 1])\n",
      "torch.Size([4096, 270]) torch.Size([4096, 1])\n",
      "torch.Size([4096, 271]) torch.Size([4096, 1])\n",
      "torch.Size([4096, 272]) torch.Size([4096, 1])\n",
      "torch.Size([4096, 273]) torch.Size([4096, 1])\n",
      "torch.Size([4096, 274]) torch.Size([4096, 1])\n",
      "torch.Size([4096, 275]) torch.Size([4096, 1])\n",
      "torch.Size([4096, 276]) torch.Size([4096, 1])\n",
      "torch.Size([4096, 277]) torch.Size([4096, 1])\n",
      "torch.Size([4096, 278]) torch.Size([4096, 1])\n",
      "torch.Size([4096, 279]) torch.Size([4096, 1])\n",
      "torch.Size([4096, 280]) torch.Size([4096, 1])\n",
      "torch.Size([4096, 281]) torch.Size([4096, 1])\n",
      "torch.Size([4096, 282]) torch.Size([4096, 1])\n",
      "torch.Size([4096, 283]) torch.Size([4096, 1])\n",
      "torch.Size([4096, 284]) torch.Size([4096, 1])\n",
      "torch.Size([4096, 285]) torch.Size([4096, 1])\n",
      "torch.Size([4096, 286]) torch.Size([4096, 1])\n",
      "torch.Size([4096, 287]) torch.Size([4096, 1])\n",
      "torch.Size([4096, 288]) torch.Size([4096, 1])\n",
      "torch.Size([4096, 289]) torch.Size([4096, 1])\n",
      "torch.Size([4096, 290]) torch.Size([4096, 1])\n",
      "torch.Size([4096, 291]) torch.Size([4096, 1])\n",
      "torch.Size([4096, 292]) torch.Size([4096, 1])\n",
      "torch.Size([4096, 293]) torch.Size([4096, 1])\n",
      "torch.Size([4096, 294]) torch.Size([4096, 1])\n",
      "torch.Size([4096, 295]) torch.Size([4096, 1])\n",
      "torch.Size([4096, 296]) torch.Size([4096, 1])\n",
      "torch.Size([4096, 297]) torch.Size([4096, 1])\n",
      "torch.Size([4096, 298]) torch.Size([4096, 1])\n",
      "torch.Size([4096, 299]) torch.Size([4096, 1])\n"
     ]
    },
    {
     "data": {
      "image/png": "[encoded data removed]",
      "text/plain": [
       "<Figure size 640x480 with 2 Axes>"
      ]
     },
     "metadata": {},
     "output_type": "display_data"
    }
   ],
   "source": [
    "def causal_basis_extraction(\n",
    "        matrix, sample_h, target_words, low_rank = 10, sample_z = None\n",
    "    ):\n",
    "    model.to(dtype)\n",
    "    # mean_additional = torch.stack(all_additionals).mean(dim=0).to(dtype)\n",
    "    visualize_matrix(matrix)\n",
    "    svd = matrix.svd()\n",
    "    causal_basis = svd.U[:low_rank].T.clone()\n",
    "    # causal_basis = torch.zeros(model.config.n_embd, low_rank).to(dtype).to(model.device)\n",
    "\n",
    "    lm_head = torch.nn.Sequential(\n",
    "                model.transformer.ln_f,\n",
    "                model.lm_head,\n",
    "            )\n",
    "    target_tokenized = tokenizer(target_words, padding=True, return_tensors=\"pt\").to(model.device)\n",
    "    # expected = matrix.to(dtype) @ sample_h\n",
    "    # z_true = sample_h.to(dtype) + matrix.to(dtype) @ sample_h.to(dtype) + grad_dsc_corner.to(dtype)[None].T\n",
    "    z_true = sample_z.to(dtype)\n",
    "    logits_true = lm_head(z_true.T)\n",
    "    gather_indices = target_tokenized.input_ids.reshape(len(objects))\n",
    "    gather_indices = torch.stack([gather_indices] * logits_true.shape[0])\n",
    "    target_logits_true = torch.gather(logits_true, 1, gather_indices)\n",
    "    distribution_true = torch.nn.functional.softmax(target_logits_true, dim = 1)\n",
    "\n",
    "\n",
    "    for r in tqdm(range(low_rank)):\n",
    "        prev_basises = causal_basis[:, :r]\n",
    "        cur_basis = Variable(causal_basis[:, r].clone()[None].T, requires_grad = True)\n",
    "        # cur_basis = torch.FloatTensor(model.config.n_embd).uniform_(-1.001 , 1.001).to(dtype).to(model.device)[None].T\n",
    "        cur_basis.requires_grad = True\n",
    "        print(prev_basises.shape, cur_basis.shape)\n",
    "        # print(cur_basis.shape, cur_basis.is_leaf)\n",
    "\n",
    "        # because by design the basises are orthonormal to each other\n",
    "        # https://en.wikipedia.org/wiki/Projection_(linear_algebra)#Properties_and_special_cases\n",
    "        previous_basis_removal = I - (prev_basises @ prev_basises.T) \n",
    "        def remove_previous_basis(x):\n",
    "            x = previous_basis_removal @ x\n",
    "            # project to unit sphere\n",
    "            return x/(x.norm() + torch.finfo(dtype).eps)\n",
    "\n",
    "        def remove_subspace(x, subspace):\n",
    "            \"\"\"\n",
    "            calculates the projection of `x` onto the span of the `subspace` and then removes it from x\n",
    "            \"\"\"\n",
    "            projector = subspace @ subspace.T\n",
    "            projection = projector @ x\n",
    "            return x - projection\n",
    "        \n",
    "        optimizer = torch.optim.Adam(\n",
    "            [cur_basis],\n",
    "            lr=learning_rate,\n",
    "            weight_decay=weight_decay,\n",
    "        )\n",
    "        kl_loss = torch.nn.KLDivLoss(reduction=\"batchmean\", log_target=True)\n",
    "\n",
    "        loss_track = []\n",
    "\n",
    "        for epoch in range(max_iter):\n",
    "            cur_basis_ = remove_previous_basis(x = cur_basis)\n",
    "            cur_subspace = torch.cat((prev_basises, cur_basis), dim = 1)\n",
    "            # projector = cur_subspace @ torch.linalg.solve(cur_subspace.mT @ cur_subspace, cur_subspace.mT) # A @ (A.T @ A).pinverse() @ A.T\n",
    "            projector = cur_subspace @ cur_subspace.T\n",
    "            # projection = cur_A @ (cur_A.T @ cur_A).pinverse() @ cur_A.T\n",
    "            # predicted = projection @ sample_h\n",
    "            # loss = (expected - predicted).square().sum()\n",
    "            # loss = (matrix - projection).square().sum()\n",
    "\n",
    "            orthogonal_projection = remove_subspace(sample_h, cur_subspace)\n",
    "            orthogonal_mean = orthogonal_projection.mean(dim = 1)\n",
    "            # print(\"orthogonal >> \", orthogonal_projection.shape, orthogonal_mean.shape)\n",
    "\n",
    "            z_est = projector @ sample_h.to(dtype) + orthogonal_mean[None].T # + grad_dsc_corner.to(dtype)[None].T\n",
    "            logits_est = lm_head(z_est.T)\n",
    "            target_logits_est = torch.gather(logits_est, 1, gather_indices)\n",
    "            distribution_est = torch.nn.functional.softmax(target_logits_est, dim = 1)\n",
    "\n",
    "            loss = kl_loss(input = distribution_est, target = distribution_true)\n",
    "\n",
    "            # print(loss)\n",
    "            loss_track.append(loss.item())\n",
    "\n",
    "            optimizer.zero_grad()\n",
    "            loss.backward(retain_graph=True)\n",
    "            optimizer.step()\n",
    "            cur_basis.grad.zero_()\n",
    "        \n",
    "        cur_basis.requires_grad = False\n",
    "        cur_basis_ = remove_previous_basis(cur_basis)\n",
    "        causal_basis[:, r] = torch.tensor([i.item() for i in cur_basis_])\n",
    "\n",
    "        # if(verbose):\n",
    "        #     plt.rcdefaults()\n",
    "        #     plt.plot(loss_track)\n",
    "        #     plt.xticks(range(0, len(loss_track), 10))\n",
    "        #     plt.xlabel(\"Iteration\")\n",
    "        #     plt.ylabel(\"loss\")\n",
    "        #     plt.show()\n",
    "        #     visualize_matrix(causal_basis[:, :r+1] @ causal_basis[:, :r+1].T)\n",
    "\n",
    "    B = causal_basis\n",
    "    # projector = B @ torch.linalg.solve(B.mT @ B, B.mT)\n",
    "    projector = B @ B.T\n",
    "    visualize_matrix(projector)\n",
    "\n",
    "    orthogonal_projection = remove_subspace(sample_h, cur_subspace)\n",
    "    orthogonal_mean = orthogonal_projection.mean(dim = 1)\n",
    "\n",
    "    model.to(torch.float16)\n",
    "    return B, projector, orthogonal_mean\n",
    "\n",
    "basis, projector, orthogonal_mean = causal_basis_extraction(\n",
    "    mean_jacobian, sample_h.to(dtype), target_words=objects,\n",
    "    low_rank=300, sample_z=sample_z\n",
    ")"
   ]
  },
  {
   "cell_type": "code",
   "execution_count": 141,
   "metadata": {},
   "outputs": [
    {
     "data": {
      "text/plain": [
       "tensor(0., device='cuda:0')"
      ]
     },
     "execution_count": 141,
     "metadata": {},
     "output_type": "execute_result"
    }
   ],
   "source": [
    "torch.dist(projector, basis@basis.T)"
   ]
  },
  {
   "cell_type": "code",
   "execution_count": 142,
   "metadata": {},
   "outputs": [
    {
     "data": {
      "image/png": "[encoded data removed]",
      "text/plain": [
       "<Figure size 640x480 with 2 Axes>"
      ]
     },
     "metadata": {},
     "output_type": "display_data"
    }
   ],
   "source": [
    "visualize_matrix(projector)"
   ]
  },
  {
   "cell_type": "code",
   "execution_count": 134,
   "metadata": {},
   "outputs": [],
   "source": [
    "# mean_additional = torch.stack(all_additionals).mean(dim=0).to(dtype)\n",
    "# residual_add = mean_jacobian - I\n",
    "# visualize_matrix(residual_add)"
   ]
  },
  {
   "cell_type": "code",
   "execution_count": 135,
   "metadata": {},
   "outputs": [
    {
     "name": "stdout",
     "output_type": "stream",
     "text": [
      "tensor(50.2188, device='cuda:0', dtype=torch.float16)\n"
     ]
    },
    {
     "data": {
      "text/plain": [
       "[(' oldest', 53.438),\n",
       " (' richest', 52.0),\n",
       " (' closest', 50.875),\n",
       " (' fastest', 50.781),\n",
       " (' brightest', 50.562)]"
      ]
     },
     "execution_count": 135,
     "metadata": {},
     "output_type": "execute_result"
    }
   ],
   "source": [
    "# visualize_matrix(residual_add_approx)\n",
    "print(grad_dsc_corner.norm())\n",
    "corner_estimator.get_vocab_representation(grad_dsc_corner, get_logits=True)"
   ]
  },
  {
   "cell_type": "code",
   "execution_count": 136,
   "metadata": {},
   "outputs": [
    {
     "name": "stdout",
     "output_type": "stream",
     "text": [
      "tensor(302.3705, device='cuda:0', grad_fn=<CopyBackwards>)\n"
     ]
    },
    {
     "data": {
      "text/plain": [
       "[(' darkest', 20.234),\n",
       " (' highest', 12.391),\n",
       " (' darker', 11.18),\n",
       " (' dark', 10.867),\n",
       " (' colour', 10.789)]"
      ]
     },
     "execution_count": 136,
     "metadata": {},
     "output_type": "execute_result"
    }
   ],
   "source": [
    "print(orthogonal_mean.norm())\n",
    "corner_estimator.get_vocab_representation(orthogonal_mean.to(model.dtype), get_logits=True)"
   ]
  },
  {
   "cell_type": "code",
   "execution_count": 137,
   "metadata": {},
   "outputs": [
    {
     "name": "stdout",
     "output_type": "stream",
     "text": [
      "tensor(307.7746, device='cuda:0', grad_fn=<CopyBackwards>)\n"
     ]
    },
    {
     "data": {
      "text/plain": [
       "[(' darkest', 28.031),\n",
       " (' highest', 20.219),\n",
       " (' deepest', 17.094),\n",
       " (' heaviest', 16.594),\n",
       " (' brightest', 16.078)]"
      ]
     },
     "execution_count": 137,
     "metadata": {},
     "output_type": "execute_result"
    }
   ],
   "source": [
    "print((grad_dsc_corner + orthogonal_mean).norm())\n",
    "corner_estimator.get_vocab_representation((grad_dsc_corner + orthogonal_mean).to(model.dtype),  get_logits=True)"
   ]
  },
  {
   "cell_type": "code",
   "execution_count": 138,
   "metadata": {},
   "outputs": [
    {
     "name": "stdout",
     "output_type": "stream",
     "text": [
      "happy, target: happiest   ==>   predicted: [' darkest', ' highest', ' deepest', ' heaviest', ' brightest']\n",
      "hard, target: hardest   ==>   predicted: [' darkest', ' highest', ' deepest', ' heaviest', ' brightest']\n",
      "heavy, target: heaviest   ==>   predicted: [' darkest', ' highest', ' deepest', ' heaviest', ' brightest']\n",
      "high, target: highest   ==>   predicted: [' darkest', ' highest', ' deepest', ' heaviest', ' brightest']\n",
      "hot, target: hottest   ==>   predicted: [' darkest', ' highest', ' deepest', ' heaviest', ' brightest']\n",
      "large, target: largest   ==>   predicted: [' darkest', ' highest', ' deepest', ' heaviest', ' brightest']\n",
      "late, target: latest   ==>   predicted: [' darkest', ' highest', ' deepest', ' heaviest', ' brightest']\n",
      "long, target: longest   ==>   predicted: [' darkest', ' highest', ' deepest', ' heaviest', ' brightest']\n",
      "low, target: lowest   ==>   predicted: [' darkest', ' highest', ' deepest', ' heaviest', ' brightest']\n",
      "near, target: nearest   ==>   predicted: [' darkest', ' highest', ' deepest', ' heaviest', ' brightest']\n",
      "new, target: newest   ==>   predicted: [' darkest', ' highest', ' deepest', ' heaviest', ' brightest']\n",
      "poor, target: poorest   ==>   predicted: [' darkest', ' highest', ' deepest', ' heaviest', ' brightest']\n",
      "quick, target: quickest   ==>   predicted: [' darkest', ' highest', ' deepest', ' heaviest', ' brightest']\n",
      "rich, target: richest   ==>   predicted: [' darkest', ' highest', ' deepest', ' heaviest', ' brightest']\n",
      "safe, target: safest   ==>   predicted: [' darkest', ' highest', ' deepest', ' heaviest', ' brightest']\n",
      "short, target: shortest   ==>   predicted: [' darkest', ' highest', ' deepest', ' heaviest', ' brightest']\n",
      "simple, target: simplest   ==>   predicted: [' darkest', ' highest', ' deepest', ' heaviest', ' brightest']\n",
      "small, target: smallest   ==>   predicted: [' darkest', ' highest', ' deepest', ' heaviest', ' brightest']\n",
      "smart, target: smartest   ==>   predicted: [' darkest', ' highest', ' deepest', ' heaviest', ' brightest']\n",
      "strong, target: strongest   ==>   predicted: [' darkest', ' highest', ' deepest', ' heaviest', ' brightest']\n",
      "tall, target: tallest   ==>   predicted: [' darkest', ' highest', ' deepest', ' heaviest', ' brightest']\n",
      "tough, target: toughest   ==>   predicted: [' darkest', ' highest', ' deepest', ' heaviest', ' brightest']\n",
      "weak, target: weakest   ==>   predicted: [' darkest', ' highest', ' deepest', ' heaviest', ' brightest']\n",
      "wealthy, target: wealthiest   ==>   predicted: [' darkest', ' highest', ' deepest', ' heaviest', ' brightest']\n",
      "wide, target: widest   ==>   predicted: [' darkest', ' highest', ' deepest', ' heaviest', ' brightest']\n",
      "young, target: youngest   ==>   predicted: [' darkest', ' highest', ' deepest', ' heaviest', ' brightest']\n"
     ]
    }
   ],
   "source": [
    "relation_operator = estimate.RelationOperator(\n",
    "    model = model,\n",
    "    tokenizer= tokenizer,\n",
    "    relation = prompt,\n",
    "    layer = 15,\n",
    "    weight = projector.to(model.dtype),\n",
    "    bias = (grad_dsc_corner + orthogonal_mean).to(model.dtype)\n",
    "    # bias = torch.zeros(model.config.n_embd).to(model.dtype).to(model.device)\n",
    "\n",
    "    # layer_name_format = \"model.decoder.layers.{}\",\n",
    "    # ln_f_name = \"model.decoder.final_layer_norm\",\n",
    ")\n",
    "\n",
    "check_with_test_cases(relation_operator)"
   ]
  },
  {
   "cell_type": "code",
   "execution_count": 56,
   "metadata": {},
   "outputs": [
    {
     "name": "stdout",
     "output_type": "stream",
     "text": [
      "happy, target: happiest   ==>   predicted: [' happiest', ' richest', ' happy', ' best', ' brightest']\n",
      "hard, target: hardest   ==>   predicted: [' hardest', ' toughest', ' easiest', ' strongest', ' closest']\n",
      "heavy, target: heaviest   ==>   predicted: [' heaviest', ' darkest', ' hardest', ' richest', ' strongest']\n",
      "high, target: highest   ==>   predicted: [' highest', ' tallest', ' lowest', ' richest', ' cheapest']\n",
      "hot, target: hottest   ==>   predicted: [' hottest', ' coolest', ' hot', ' hardest', ' worst']\n",
      "large, target: largest   ==>   predicted: [' largest', ' biggest', ' smallest', ' widest', ' heaviest']\n",
      "late, target: latest   ==>   predicted: [' latest', ' earliest', ' newest', ' oldest', ' lowest']\n",
      "long, target: longest   ==>   predicted: [' longest', ' shortest', ' oldest', ' tallest', ' earliest']\n",
      "low, target: lowest   ==>   predicted: [' lowest', ' poorest', ' cheapest', ' weakest', ' smallest']\n",
      "near, target: nearest   ==>   predicted: [' nearest', ' closest', ' oldest', ' shortest', ' smallest']\n",
      "new, target: newest   ==>   predicted: [' newest', ' latest', ' oldest', ' youngest', ' earliest']\n",
      "poor, target: poorest   ==>   predicted: [' poorest', ' worst', ' cheapest', ' richest', ' weakest']\n",
      "quick, target: quickest   ==>   predicted: [' quickest', ' fastest', ' shortest', ' quick', ' easiest']\n",
      "rich, target: richest   ==>   predicted: [' richest', ' wealthiest', ' poorest', ' cheapest', ' deepest']\n",
      "safe, target: safest   ==>   predicted: [' safest', ' safe', ' safer', ' cheapest', ' safety']\n",
      "short, target: shortest   ==>   predicted: [' shortest', ' longest', ' smallest', ' quickest', ' tallest']\n",
      "simple, target: simplest   ==>   predicted: [' simplest', ' easiest', ' cheapest', ' smallest', ' poorest']\n",
      "small, target: smallest   ==>   predicted: [' smallest', ' weakest', ' lowest', ' largest', ' cheapest']\n",
      "smart, target: smartest   ==>   predicted: [' smartest', ' brightest', ' quickest', ' easiest', ' best']\n",
      "strong, target: strongest   ==>   predicted: [' strongest', ' weakest', ' hardest', ' heaviest', ' toughest']\n",
      "tall, target: tallest   ==>   predicted: [' tallest', ' longest', ' shortest', ' highest', ' largest']\n",
      "tough, target: toughest   ==>   predicted: [' toughest', ' hardest', ' strongest', ' weakest', ' worst']\n",
      "weak, target: weakest   ==>   predicted: [' weakest', ' strongest', ' poorest', ' lowest', ' worst']\n",
      "wealthy, target: wealthiest   ==>   predicted: [' wealthiest', ' richest', ' cheapest', ' poorest', ' happiest']\n",
      "wide, target: widest   ==>   predicted: [' widest', ' largest', ' biggest', ' fullest', ' deepest']\n",
      "young, target: youngest   ==>   predicted: [' youngest', ' oldest', ' newest', ' earliest', ' latest']\n"
     ]
    }
   ],
   "source": [
    "relation_operator = estimate.RelationOperator(\n",
    "    model = model,\n",
    "    tokenizer= tokenizer,\n",
    "    relation = prompt,\n",
    "    layer = 15,\n",
    "    weight = mean_jacobian.to(model.dtype),\n",
    "    bias = grad_dsc_corner,\n",
    "\n",
    "    # layer_name_format = \"model.decoder.layers.{}\",\n",
    "    # ln_f_name = \"model.decoder.final_layer_norm\",\n",
    ")\n",
    "\n",
    "check_with_test_cases(relation_operator)"
   ]
  },
  {
   "cell_type": "code",
   "execution_count": null,
   "metadata": {},
   "outputs": [],
   "source": []
  }
 ],
 "metadata": {
  "kernelspec": {
   "display_name": "relation",
   "language": "python",
   "name": "python3"
  },
  "language_info": {
   "codemirror_mode": {
    "name": "ipython",
    "version": 3
   },
   "file_extension": ".py",
   "mimetype": "text/x-python",
   "name": "python",
   "nbconvert_exporter": "python",
   "pygments_lexer": "ipython3",
   "version": "3.10.8"
  },
  "orig_nbformat": 4,
  "vscode": {
   "interpreter": {
    "hash": "4104f34302edfbfea7294aa0a5e7d82342a152e8e30f6673f70b28d5f99d4ac0"
   }
  }
 },
 "nbformat": 4,
 "nbformat_minor": 2
}
