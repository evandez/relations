{
 "cells": [
  {
   "cell_type": "code",
   "execution_count": 1,
   "id": "5b360b04",
   "metadata": {},
   "outputs": [],
   "source": [
    "%load_ext autoreload\n",
    "%autoreload 2"
   ]
  },
  {
   "cell_type": "code",
   "execution_count": 2,
   "id": "115a4228",
   "metadata": {},
   "outputs": [
    {
     "data": {
      "text/plain": [
       "'1.13.1'"
      ]
     },
     "execution_count": 2,
     "metadata": {},
     "output_type": "execute_result"
    }
   ],
   "source": [
    "import sys\n",
    "sys.path.append('..')\n",
    "\n",
    "import torch\n",
    "from src import models, data, lens, functional\n",
    "from src.utils import experiment_utils\n",
    "\n",
    "import logging\n",
    "from src.utils import logging_utils\n",
    "logger = logging.getLogger(__name__)\n",
    "logging.basicConfig(\n",
    "    level=logging.DEBUG,\n",
    "    format=logging_utils.DEFAULT_FORMAT,\n",
    "    datefmt=logging_utils.DEFAULT_DATEFMT,\n",
    "    stream=sys.stdout,\n",
    ")\n",
    "\n",
    "torch.__version__"
   ]
  },
  {
   "cell_type": "code",
   "execution_count": 3,
   "id": "9d46d0c3",
   "metadata": {},
   "outputs": [
    {
     "name": "stdout",
     "output_type": "stream",
     "text": [
      "2024-02-01 13:49:45 src.models INFO     loading state-spaces/mamba-2.8b-slimpj (device=cuda:0, fp16=False)\n",
      "2024-02-01 13:49:45 urllib3.connectionpool DEBUG    Starting new HTTPS connection (1): huggingface.co:443\n"
     ]
    },
    {
     "name": "stdout",
     "output_type": "stream",
     "text": [
      "2024-02-01 13:49:45 urllib3.connectionpool DEBUG    https://huggingface.co:443 \"HEAD /state-spaces/mamba-2.8b-slimpj/resolve/main/config.json HTTP/1.1\" 200 0\n",
      "2024-02-01 13:50:02 urllib3.connectionpool DEBUG    https://huggingface.co:443 \"HEAD /state-spaces/mamba-2.8b-slimpj/resolve/main/pytorch_model.bin HTTP/1.1\" 302 0\n",
      "2024-02-01 13:50:11 urllib3.connectionpool DEBUG    https://huggingface.co:443 \"HEAD /EleutherAI/gpt-neox-20b/resolve/main/tokenizer_config.json HTTP/1.1\" 200 0\n",
      "2024-02-01 13:50:11 src.models INFO     dtype: torch.float32, device: cuda:0, memory: 10.31 GB\n"
     ]
    }
   ],
   "source": [
    "device = \"cuda:0\"\n",
    "mt = models.load_model(\"mamba-3b\", device=device, fp16=False)\n",
    "# mt = models.load_model(\"gptj\", device=device, fp16=True)"
   ]
  },
  {
   "cell_type": "code",
   "execution_count": 4,
   "id": "5f51154e",
   "metadata": {},
   "outputs": [
    {
     "name": "stdout",
     "output_type": "stream",
     "text": [
      "2024-02-01 13:50:11 src.data DEBUG    no paths provided, using default data dir: /home/local_arnab/Codes/relations/notebooks/../data\n",
      "2024-02-01 13:50:11 src.data DEBUG    /home/local_arnab/Codes/relations/notebooks/../data is directory, globbing for json files...\n",
      "2024-02-01 13:50:11 src.data DEBUG    found relation file: /home/local_arnab/Codes/relations/notebooks/../data/bias/characteristic_gender.json\n",
      "2024-02-01 13:50:11 src.data DEBUG    found relation file: /home/local_arnab/Codes/relations/notebooks/../data/bias/degree_gender.json\n",
      "2024-02-01 13:50:11 src.data DEBUG    found relation file: /home/local_arnab/Codes/relations/notebooks/../data/bias/name_birthplace.json\n",
      "2024-02-01 13:50:11 src.data DEBUG    found relation file: /home/local_arnab/Codes/relations/notebooks/../data/bias/name_gender.json\n",
      "2024-02-01 13:50:11 src.data DEBUG    found relation file: /home/local_arnab/Codes/relations/notebooks/../data/bias/name_religion.json\n",
      "2024-02-01 13:50:11 src.data DEBUG    found relation file: /home/local_arnab/Codes/relations/notebooks/../data/bias/occupation_age.json\n",
      "2024-02-01 13:50:11 src.data DEBUG    found relation file: /home/local_arnab/Codes/relations/notebooks/../data/bias/occupation_gender.json\n",
      "2024-02-01 13:50:11 src.data DEBUG    found relation file: /home/local_arnab/Codes/relations/notebooks/../data/commonsense/fruit_inside_color.json\n",
      "2024-02-01 13:50:11 src.data DEBUG    found relation file: /home/local_arnab/Codes/relations/notebooks/../data/commonsense/fruit_outside_color.json\n"
     ]
    },
    {
     "name": "stdout",
     "output_type": "stream",
     "text": [
      "2024-02-01 13:50:11 src.data DEBUG    found relation file: /home/local_arnab/Codes/relations/notebooks/../data/commonsense/object_superclass.json\n",
      "2024-02-01 13:50:11 src.data DEBUG    found relation file: /home/local_arnab/Codes/relations/notebooks/../data/commonsense/substance_phase.json\n",
      "2024-02-01 13:50:11 src.data DEBUG    found relation file: /home/local_arnab/Codes/relations/notebooks/../data/commonsense/task_done_by_person.json\n",
      "2024-02-01 13:50:11 src.data DEBUG    found relation file: /home/local_arnab/Codes/relations/notebooks/../data/commonsense/task_done_by_tool.json\n",
      "2024-02-01 13:50:11 src.data DEBUG    found relation file: /home/local_arnab/Codes/relations/notebooks/../data/commonsense/word_sentiment.json\n",
      "2024-02-01 13:50:11 src.data DEBUG    found relation file: /home/local_arnab/Codes/relations/notebooks/../data/commonsense/work_location.json\n",
      "2024-02-01 13:50:11 src.data DEBUG    found relation file: /home/local_arnab/Codes/relations/notebooks/../data/factual/city_in_country.json\n",
      "2024-02-01 13:50:11 src.data DEBUG    found relation file: /home/local_arnab/Codes/relations/notebooks/../data/factual/company_ceo.json\n",
      "2024-02-01 13:50:11 src.data DEBUG    found relation file: /home/local_arnab/Codes/relations/notebooks/../data/factual/company_hq.json\n",
      "2024-02-01 13:50:11 src.data DEBUG    found relation file: /home/local_arnab/Codes/relations/notebooks/../data/factual/country_capital_city.json\n",
      "2024-02-01 13:50:11 src.data DEBUG    found relation file: /home/local_arnab/Codes/relations/notebooks/../data/factual/country_currency.json\n",
      "2024-02-01 13:50:11 src.data DEBUG    found relation file: /home/local_arnab/Codes/relations/notebooks/../data/factual/country_language.json\n",
      "2024-02-01 13:50:11 src.data DEBUG    found relation file: /home/local_arnab/Codes/relations/notebooks/../data/factual/country_largest_city.json\n",
      "2024-02-01 13:50:11 src.data DEBUG    found relation file: /home/local_arnab/Codes/relations/notebooks/../data/factual/food_from_country.json\n",
      "2024-02-01 13:50:11 src.data DEBUG    found relation file: /home/local_arnab/Codes/relations/notebooks/../data/factual/landmark_in_country.json\n",
      "2024-02-01 13:50:11 src.data DEBUG    found relation file: /home/local_arnab/Codes/relations/notebooks/../data/factual/landmark_on_continent.json\n",
      "2024-02-01 13:50:11 src.data DEBUG    found relation file: /home/local_arnab/Codes/relations/notebooks/../data/factual/person_band_lead_singer.json\n",
      "2024-02-01 13:50:11 src.data DEBUG    found relation file: /home/local_arnab/Codes/relations/notebooks/../data/factual/person_father.json\n",
      "2024-02-01 13:50:11 src.data DEBUG    found relation file: /home/local_arnab/Codes/relations/notebooks/../data/factual/person_mother.json\n",
      "2024-02-01 13:50:11 src.data DEBUG    found relation file: /home/local_arnab/Codes/relations/notebooks/../data/factual/person_native_language.json\n",
      "2024-02-01 13:50:11 src.data DEBUG    found relation file: /home/local_arnab/Codes/relations/notebooks/../data/factual/person_occupation.json\n",
      "2024-02-01 13:50:11 src.data DEBUG    found relation file: /home/local_arnab/Codes/relations/notebooks/../data/factual/person_plays_instrument.json\n",
      "2024-02-01 13:50:11 src.data DEBUG    found relation file: /home/local_arnab/Codes/relations/notebooks/../data/factual/person_plays_position_in_sport.json\n",
      "2024-02-01 13:50:11 src.data DEBUG    found relation file: /home/local_arnab/Codes/relations/notebooks/../data/factual/person_plays_pro_sport.json\n",
      "2024-02-01 13:50:11 src.data DEBUG    found relation file: /home/local_arnab/Codes/relations/notebooks/../data/factual/person_university.json\n",
      "2024-02-01 13:50:11 src.data DEBUG    found relation file: /home/local_arnab/Codes/relations/notebooks/../data/factual/pokemon_evolutions.json\n",
      "2024-02-01 13:50:11 src.data DEBUG    found relation file: /home/local_arnab/Codes/relations/notebooks/../data/factual/presidents_birth_year.json\n",
      "2024-02-01 13:50:11 src.data DEBUG    found relation file: /home/local_arnab/Codes/relations/notebooks/../data/factual/presidents_election_year.json\n",
      "2024-02-01 13:50:11 src.data DEBUG    found relation file: /home/local_arnab/Codes/relations/notebooks/../data/factual/product_by_company.json\n",
      "2024-02-01 13:50:11 src.data DEBUG    found relation file: /home/local_arnab/Codes/relations/notebooks/../data/factual/star_constellation.json\n",
      "2024-02-01 13:50:11 src.data DEBUG    found relation file: /home/local_arnab/Codes/relations/notebooks/../data/factual/superhero_archnemesis.json\n",
      "2024-02-01 13:50:11 src.data DEBUG    found relation file: /home/local_arnab/Codes/relations/notebooks/../data/factual/superhero_person.json\n",
      "2024-02-01 13:50:11 src.data DEBUG    found relation file: /home/local_arnab/Codes/relations/notebooks/../data/linguistic/adj_antonym.json\n",
      "2024-02-01 13:50:11 src.data DEBUG    found relation file: /home/local_arnab/Codes/relations/notebooks/../data/linguistic/adj_comparative.json\n",
      "2024-02-01 13:50:11 src.data DEBUG    found relation file: /home/local_arnab/Codes/relations/notebooks/../data/linguistic/adj_superlative.json\n",
      "2024-02-01 13:50:11 src.data DEBUG    found relation file: /home/local_arnab/Codes/relations/notebooks/../data/linguistic/verb_past_tense.json\n",
      "2024-02-01 13:50:11 src.data DEBUG    found relation file: /home/local_arnab/Codes/relations/notebooks/../data/linguistic/word_first_letter.json\n",
      "2024-02-01 13:50:11 src.data DEBUG    found relation file: /home/local_arnab/Codes/relations/notebooks/../data/linguistic/word_last_letter.json\n",
      "2024-02-01 13:50:11 src.data DEBUG    found 47 relation files total, loading...\n"
     ]
    }
   ],
   "source": [
    "dataset = data.load_dataset()\n",
    "\n",
    "# relation_names = [r.name for r in dataset.relations]\n",
    "# relation_options = Menu(choices = relation_names, value = relation_names)\n",
    "# show(relation_options) # !caution: tested in a juputer-notebook. baukit visualizations are not supported in vscode."
   ]
  },
  {
   "cell_type": "code",
   "execution_count": 5,
   "id": "3a17444f",
   "metadata": {},
   "outputs": [
    {
     "name": "stdout",
     "output_type": "stream",
     "text": [
      "2024-02-01 13:50:11 src.data DEBUG    filtering to only relations: ['country capital city']\n",
      "country capital city -- 24 samples\n",
      "------------------------------------------------------\n",
      "2024-02-01 13:50:11 src.utils.experiment_utils INFO     setting all seeds to 12345\n",
      "China -> Beijing\n",
      "Japan -> Tokyo\n",
      "Italy -> Rome\n",
      "Brazil -> Bras\\u00edlia\n",
      "Turkey -> Ankara\n"
     ]
    }
   ],
   "source": [
    "relation_name = \"country capital city\"\n",
    "relation = dataset.filter(relation_names=[relation_name])[0]\n",
    "print(f\"{relation.name} -- {len(relation.samples)} samples\")\n",
    "print(\"------------------------------------------------------\")\n",
    "\n",
    "experiment_utils.set_seed(12345) # set seed to a constant value for sampling consistency\n",
    "train, test = relation.split(5)\n",
    "print(\"\\n\".join([sample.__str__() for sample in train.samples]))"
   ]
  },
  {
   "cell_type": "code",
   "execution_count": 6,
   "id": "145bf9dd",
   "metadata": {},
   "outputs": [],
   "source": [
    "################### hparams ###################\n",
    "layer = 20\n",
    "beta = 8\n",
    "###############################################"
   ]
  },
  {
   "cell_type": "code",
   "execution_count": 7,
   "id": "674c3c72",
   "metadata": {},
   "outputs": [
    {
     "data": {
      "text/plain": [
       "5"
      ]
     },
     "execution_count": 7,
     "metadata": {},
     "output_type": "execute_result"
    }
   ],
   "source": [
    "len(train.samples)"
   ]
  },
  {
   "cell_type": "code",
   "execution_count": 8,
   "id": "9b0dd2e6",
   "metadata": {},
   "outputs": [
    {
     "data": {
      "text/plain": [
       "True"
      ]
     },
     "execution_count": 8,
     "metadata": {},
     "output_type": "execute_result"
    }
   ],
   "source": [
    "hasattr(mt.model, \"backbone\")"
   ]
  },
  {
   "cell_type": "code",
   "execution_count": 9,
   "id": "39a1c8e5",
   "metadata": {},
   "outputs": [
    {
     "data": {
      "text/plain": [
       "'backbone.layers.20'"
      ]
     },
     "execution_count": 9,
     "metadata": {},
     "output_type": "execute_result"
    }
   ],
   "source": [
    "models.determine_layer_paths(mt)[layer]"
   ]
  },
  {
   "cell_type": "code",
   "execution_count": 10,
   "id": "9f6748a5",
   "metadata": {},
   "outputs": [],
   "source": [
    "prompt = mt.tokenizer.eos_token + \" Michael Jordan professionally played the sport of\"\n",
    "\n",
    "tokenized = mt.tokenizer(prompt, return_tensors=\"pt\").to(device)"
   ]
  },
  {
   "cell_type": "code",
   "execution_count": 11,
   "id": "887cda89",
   "metadata": {},
   "outputs": [
    {
     "data": {
      "text/plain": [
       "'backbone.norm_f'"
      ]
     },
     "execution_count": 11,
     "metadata": {},
     "output_type": "execute_result"
    }
   ],
   "source": [
    "models.determine_final_layer_norm_path(mt)"
   ]
  },
  {
   "cell_type": "code",
   "execution_count": 12,
   "id": "9f5fa043",
   "metadata": {},
   "outputs": [],
   "source": [
    "import baukit\n",
    "\n",
    "layer_out = models.determine_layer_paths(mt)[layer]\n",
    "mixer_out = models.determine_layer_paths(mt)[layer] + \".mixer\"\n",
    "layer_in = models.determine_layer_paths(mt)[layer+1]\n",
    "final_layer = models.determine_layer_paths(mt)[-1]\n",
    "final_mixer = models.determine_layer_paths(mt)[-1] + \".mixer\"\n",
    "\n",
    "with baukit.TraceDict(\n",
    "    module=mt.model,\n",
    "    layers=[\n",
    "        layer_out,\n",
    "        mixer_out,\n",
    "        layer_in,\n",
    "        final_mixer,\n",
    "        final_layer,\n",
    "        \"backbone\"\n",
    "    ],\n",
    "    retain_input=True,\n",
    ") as traces:\n",
    "    output = mt(**tokenized)"
   ]
  },
  {
   "cell_type": "code",
   "execution_count": 13,
   "id": "5fd99bb8",
   "metadata": {},
   "outputs": [
    {
     "data": {
      "text/plain": [
       "RMSNorm()"
      ]
     },
     "execution_count": 13,
     "metadata": {},
     "output_type": "execute_result"
    }
   ],
   "source": [
    "baukit.get_module(mt.model, \"backbone.norm_f\")"
   ]
  },
  {
   "cell_type": "code",
   "execution_count": 14,
   "id": "2368bb85",
   "metadata": {},
   "outputs": [
    {
     "data": {
      "text/plain": [
       "tensor([[[-2.8400e-01,  3.3097e-01,  2.6135e-01,  ...,  3.9824e-01,\n",
       "          -3.1995e-01, -1.3488e-01],\n",
       "         [ 6.9976e-02,  1.3667e-01, -1.0784e-02,  ...,  4.0056e-01,\n",
       "          -5.1812e-01,  4.9508e-01],\n",
       "         [-4.9874e-02, -6.2232e-03, -1.4993e-01,  ..., -2.2583e-01,\n",
       "           6.6746e-04, -7.6109e-02],\n",
       "         ...,\n",
       "         [ 1.2778e+00,  4.1307e-01, -3.9810e-01,  ..., -7.6271e-01,\n",
       "          -5.7157e-01, -9.6000e-01],\n",
       "         [-4.3011e-01, -6.2957e-01, -6.3809e-01,  ..., -1.0444e+00,\n",
       "          -9.1710e-01, -1.6055e-01],\n",
       "         [ 1.8030e-01, -4.9389e-01, -7.1039e-01,  ..., -6.1373e-01,\n",
       "          -3.5799e-01, -3.7761e-01]]], device='cuda:0',\n",
       "       grad_fn=<LayerNormFnBackward>)"
      ]
     },
     "execution_count": 14,
     "metadata": {},
     "output_type": "execute_result"
    }
   ],
   "source": [
    "traces[\"backbone\"].output"
   ]
  },
  {
   "cell_type": "code",
   "execution_count": 15,
   "id": "b400e94f",
   "metadata": {},
   "outputs": [
    {
     "data": {
      "text/plain": [
       "(tensor([[[ 0.5940,  1.9729, -0.7331,  ...,  2.2618, -2.4105,  0.6027],\n",
       "          [ 1.2616,  0.6781, -0.8456,  ...,  1.3468, -2.0678,  3.0296],\n",
       "          [-0.0950,  1.0767, -0.0086,  ..., -0.8217,  0.7617,  0.6352],\n",
       "          ...,\n",
       "          [ 7.5944,  2.9077, -2.3740,  ..., -2.0662,  0.9440, -1.2279],\n",
       "          [-7.4484, -2.3972, -2.6358,  ..., -4.6405, -0.2366,  1.1990],\n",
       "          [-2.2326, -0.7476, -2.6844,  ..., -3.6317,  1.6523, -0.6629]]],\n",
       "        device='cuda:0', grad_fn=<MambaInnerFnBackward>),\n",
       " tensor([[[-2.9466,  0.8577,  3.0205,  ...,  0.9754, -0.4319, -1.6834],\n",
       "          [-0.6205,  0.6147,  0.7412,  ...,  2.2544, -3.0231,  1.3576],\n",
       "          [-0.1985, -1.1145, -0.9235,  ..., -0.4823, -0.7575, -1.0683],\n",
       "          ...,\n",
       "          [ 4.5634,  1.1499, -1.6278,  ..., -5.0547, -6.7761, -7.6065],\n",
       "          [ 3.3821, -3.7479, -3.7378,  ..., -5.0487, -9.0620, -2.6670],\n",
       "          [ 3.8406, -3.8000, -4.0094,  ..., -1.7394, -5.0764, -2.5944]]],\n",
       "        device='cuda:0', grad_fn=<LayerNormFnBackward>))"
      ]
     },
     "execution_count": 15,
     "metadata": {},
     "output_type": "execute_result"
    }
   ],
   "source": [
    "traces[final_layer].output"
   ]
  },
  {
   "cell_type": "code",
   "execution_count": 16,
   "id": "b309c9f4",
   "metadata": {},
   "outputs": [
    {
     "data": {
      "text/plain": [
       "tensor([[[-2.8400e-01,  3.3097e-01,  2.6135e-01,  ...,  3.9824e-01,\n",
       "          -3.1995e-01, -1.3488e-01],\n",
       "         [ 6.9976e-02,  1.3667e-01, -1.0784e-02,  ...,  4.0055e-01,\n",
       "          -5.1812e-01,  4.9508e-01],\n",
       "         [-4.9874e-02, -6.2232e-03, -1.4993e-01,  ..., -2.2583e-01,\n",
       "           6.6746e-04, -7.6109e-02],\n",
       "         ...,\n",
       "         [ 1.2778e+00,  4.1307e-01, -3.9810e-01,  ..., -7.6271e-01,\n",
       "          -5.7157e-01, -9.6000e-01],\n",
       "         [-4.3011e-01, -6.2957e-01, -6.3809e-01,  ..., -1.0444e+00,\n",
       "          -9.1710e-01, -1.6055e-01],\n",
       "         [ 1.8030e-01, -4.9389e-01, -7.1039e-01,  ..., -6.1373e-01,\n",
       "          -3.5799e-01, -3.7761e-01]]], device='cuda:0', grad_fn=<MulBackward0>)"
      ]
     },
     "execution_count": 16,
     "metadata": {},
     "output_type": "execute_result"
    }
   ],
   "source": [
    "from torch import nn\n",
    "\n",
    "class RMSNorm(nn.Module):\n",
    "    def __init__(self,\n",
    "                 d_model: int,\n",
    "                 eps: float = 1e-5):\n",
    "        super().__init__()\n",
    "        self.eps = eps\n",
    "        self.weight = baukit.get_module(mt.model, \"backbone.norm_f\").weight\n",
    "\n",
    "\n",
    "    def forward(self, x):\n",
    "        output = x * torch.rsqrt(x.pow(2).mean(-1, keepdim=True) + self.eps) * self.weight\n",
    "\n",
    "        return output\n",
    "\n",
    "custom_rms = RMSNorm(d_model = models.determine_hidden_size(mt))\n",
    "block_output, residual = traces[final_layer].output\n",
    "backbone_output = custom_rms(block_output + residual)\n",
    "\n",
    "backbone_output"
   ]
  },
  {
   "cell_type": "code",
   "execution_count": 17,
   "id": "3e90b6b0",
   "metadata": {},
   "outputs": [
    {
     "data": {
      "text/plain": [
       "True"
      ]
     },
     "execution_count": 17,
     "metadata": {},
     "output_type": "execute_result"
    }
   ],
   "source": [
    "torch.allclose(traces[mixer_out].output, traces[layer_out].output[0])"
   ]
  },
  {
   "cell_type": "code",
   "execution_count": 18,
   "id": "b620d9c6",
   "metadata": {},
   "outputs": [],
   "source": [
    "baukit.get_module(mt.model, \"backbone.norm_f\").bias"
   ]
  },
  {
   "cell_type": "code",
   "execution_count": 19,
   "id": "5d238f98",
   "metadata": {},
   "outputs": [
    {
     "data": {
      "text/plain": [
       "True"
      ]
     },
     "execution_count": 19,
     "metadata": {},
     "output_type": "execute_result"
    }
   ],
   "source": [
    "hasattr(mt.model, \"backbone\")"
   ]
  },
  {
   "cell_type": "code",
   "execution_count": 20,
   "id": "83b33032",
   "metadata": {},
   "outputs": [
    {
     "name": "stdout",
     "output_type": "stream",
     "text": [
      "2024-02-01 13:50:13 src.utils.experiment_utils INFO     setting all seeds to 12345\n",
      "2024-02-01 13:50:13 src.operators WARNING  relation has > 1 prompt_templates, will use first (The capital city of {} is)\n",
      "2024-02-01 13:50:13 src.operators DEBUG    estimating J for prompt:\n",
      "<|endoftext|> The capital city of Brazil is Bras\\u00edlia\n",
      "The capital city of Italy is Rome\n",
      "The capital city of China is\n",
      "2024-02-01 13:50:13 src.operators DEBUG    note that subject=China, h_index=26\n",
      "h.shape=torch.Size([2560]) | h.requires_grad=True\n",
      "Calculating Jacobians ...\n"
     ]
    },
    {
     "data": {
      "application/vnd.jupyter.widget-view+json": {
       "model_id": "cddd9480a42744d998f9ee47a77e24ad",
       "version_major": 2,
       "version_minor": 0
      },
      "text/plain": [
       "  0%|          | 0/2560 [00:00<?, ?it/s]"
      ]
     },
     "metadata": {},
     "output_type": "display_data"
    },
    {
     "name": "stdout",
     "output_type": "stream",
     "text": [
      "2024-02-01 13:57:11 src.operators DEBUG    estimating J for prompt:\n",
      "<|endoftext|> The capital city of China is Beijing\n",
      "The capital city of Brazil is Bras\\u00edlia\n",
      "The capital city of Japan is\n",
      "2024-02-01 13:57:11 src.operators DEBUG    note that subject=Japan, h_index=26\n",
      "h.shape=torch.Size([2560]) | h.requires_grad=True\n",
      "Calculating Jacobians ...\n"
     ]
    },
    {
     "data": {
      "application/vnd.jupyter.widget-view+json": {
       "model_id": "b6c9dd0c4ef2407fb2aa4d16102d238d",
       "version_major": 2,
       "version_minor": 0
      },
      "text/plain": [
       "  0%|          | 0/2560 [00:00<?, ?it/s]"
      ]
     },
     "metadata": {},
     "output_type": "display_data"
    },
    {
     "name": "stdout",
     "output_type": "stream",
     "text": [
      "2024-02-01 14:04:01 src.operators DEBUG    estimating J for prompt:\n",
      "<|endoftext|> The capital city of Brazil is Bras\\u00edlia\n",
      "The capital city of China is Beijing\n",
      "The capital city of Italy is\n",
      "2024-02-01 14:04:01 src.operators DEBUG    note that subject=Italy, h_index=26\n",
      "h.shape=torch.Size([2560]) | h.requires_grad=True\n",
      "Calculating Jacobians ...\n"
     ]
    },
    {
     "data": {
      "application/vnd.jupyter.widget-view+json": {
       "model_id": "e1ddedbb35a94f76a25d78d1c4653fca",
       "version_major": 2,
       "version_minor": 0
      },
      "text/plain": [
       "  0%|          | 0/2560 [00:00<?, ?it/s]"
      ]
     },
     "metadata": {},
     "output_type": "display_data"
    },
    {
     "name": "stdout",
     "output_type": "stream",
     "text": [
      "2024-02-01 14:10:50 src.operators DEBUG    estimating J for prompt:\n",
      "<|endoftext|> The capital city of Italy is Rome\n",
      "The capital city of China is Beijing\n",
      "The capital city of Brazil is\n",
      "2024-02-01 14:10:50 src.operators DEBUG    note that subject=Brazil, h_index=21\n",
      "h.shape=torch.Size([2560]) | h.requires_grad=True\n",
      "Calculating Jacobians ...\n"
     ]
    },
    {
     "data": {
      "application/vnd.jupyter.widget-view+json": {
       "model_id": "192592eae0154304a6942eb5503d628e",
       "version_major": 2,
       "version_minor": 0
      },
      "text/plain": [
       "  0%|          | 0/2560 [00:00<?, ?it/s]"
      ]
     },
     "metadata": {},
     "output_type": "display_data"
    },
    {
     "name": "stdout",
     "output_type": "stream",
     "text": [
      "2024-02-01 14:17:41 src.operators DEBUG    estimating J for prompt:\n",
      "<|endoftext|> The capital city of Italy is Rome\n",
      "The capital city of Brazil is Bras\\u00edlia\n",
      "The capital city of Turkey is\n",
      "2024-02-01 14:17:41 src.operators DEBUG    note that subject=Turkey, h_index=26\n",
      "h.shape=torch.Size([2560]) | h.requires_grad=True\n",
      "Calculating Jacobians ...\n"
     ]
    },
    {
     "data": {
      "application/vnd.jupyter.widget-view+json": {
       "model_id": "98020cee9178455bb629b3f1e43b4473",
       "version_major": 2,
       "version_minor": 0
      },
      "text/plain": [
       "  0%|          | 0/2560 [00:00<?, ?it/s]"
      ]
     },
     "metadata": {},
     "output_type": "display_data"
    }
   ],
   "source": [
    "from src.operators import JacobianIclMeanEstimator\n",
    "experiment_utils.set_seed(12345)\n",
    "\n",
    "estimator = JacobianIclMeanEstimator(\n",
    "    mt = mt, \n",
    "    h_layer = layer,\n",
    "    beta = beta\n",
    ")\n",
    "operator = estimator(\n",
    "    relation.set(\n",
    "        samples=train.samples, \n",
    "    )\n",
    ")"
   ]
  },
  {
   "cell_type": "code",
   "execution_count": 21,
   "id": "e1dac42d",
   "metadata": {},
   "outputs": [
    {
     "data": {
      "text/plain": [
       "{'Jh': [tensor([ 0.0294,  0.0021,  0.1181,  ..., -0.0475,  0.1220, -0.1429]),\n",
       "  tensor([ 0.1958, -0.0681,  0.1216,  ..., -0.1533,  0.1851,  0.0289]),\n",
       "  tensor([ 0.0258,  0.0113,  0.0721,  ...,  0.0790,  0.1656, -0.2051]),\n",
       "  tensor([-0.1199,  0.1173,  0.0563,  ..., -0.0231,  0.0688, -0.1298]),\n",
       "  tensor([ 0.2618, -0.0363, -0.0281,  ...,  0.0333, -0.2836, -0.1635])],\n",
       " '|w|': [69.82915496826172,\n",
       "  71.52497100830078,\n",
       "  60.89453125,\n",
       "  83.10833740234375,\n",
       "  88.31616973876953],\n",
       " '|b|': [245.52316284179688,\n",
       "  252.23367309570312,\n",
       "  240.4381103515625,\n",
       "  281.2376403808594,\n",
       "  278.8184509277344]}"
      ]
     },
     "execution_count": 21,
     "metadata": {},
     "output_type": "execute_result"
    }
   ],
   "source": [
    "operator.metadata"
   ]
  },
  {
   "cell_type": "code",
   "execution_count": 22,
   "id": "1dfcbb0a",
   "metadata": {},
   "outputs": [
    {
     "data": {
      "text/plain": [
       "([(' ', 46.49),\n",
       "  ('\\n', 44.75),\n",
       "  (' (', 43.876),\n",
       "  (' -', 43.401),\n",
       "  ('.', 42.901),\n",
       "  (' \\\\', 42.75),\n",
       "  ('?', 42.646),\n",
       "  (' Be', 42.488),\n",
       "  ('...', 42.423),\n",
       "  (' S', 42.323)],\n",
       " {})"
      ]
     },
     "execution_count": 22,
     "metadata": {},
     "output_type": "execute_result"
    }
   ],
   "source": [
    "from src.lens import logit_lens\n",
    "from src import models\n",
    "\n",
    "logit_lens(mt = mt, h = operator.metadata[\"Jh\"][0].to(models.determine_device(mt)) + operator.bias)"
   ]
  },
  {
   "cell_type": "code",
   "execution_count": 23,
   "id": "e4ad24c9",
   "metadata": {},
   "outputs": [
    {
     "data": {
      "text/plain": [
       "[[PredictedToken(token=' \"', prob=0.09106151759624481),\n",
       "  PredictedToken(token=' not', prob=0.08697706460952759),\n",
       "  PredictedToken(token=' good', prob=0.071841299533844),\n",
       "  PredictedToken(token=' the', prob=0.06490865349769592),\n",
       "  PredictedToken(token=' better', prob=0.06266635656356812)]]"
      ]
     },
     "execution_count": 23,
     "metadata": {},
     "output_type": "execute_result"
    }
   ],
   "source": [
    "from src.functional import predict_next_token\n",
    "\n",
    "predict_next_token(\n",
    "    mt = mt, \n",
    "    # prompt = mt.tokenizer.eos_token + \" The capital of {} is\".format(\"France\"),\n",
    "    prompt = mt.tokenizer.eos_token + \" The superlative of {} is\".format(\"good\"),\n",
    ")"
   ]
  },
  {
   "cell_type": "markdown",
   "id": "6c1b6eda",
   "metadata": {},
   "source": [
    "# Checking $faithfulness$"
   ]
  },
  {
   "cell_type": "code",
   "execution_count": 24,
   "id": "9d79b613",
   "metadata": {},
   "outputs": [
    {
     "name": "stdout",
     "output_type": "stream",
     "text": [
      "2024-02-01 14:24:30 src.functional DEBUG    filtering for knowns using prompt \"<|endoftext|> The capital city of China is Beijing\n",
      "The capital city of Japan is Tokyo\n",
      "The capital city of Italy is Rome\n",
      "The capital city of Brazil is Bras\\u00edlia\n",
      "The capital city of Turkey is Ankara\n",
      "The capital city of {} is\"\n"
     ]
    },
    {
     "name": "stdout",
     "output_type": "stream",
     "text": [
      "2024-02-01 14:24:30 src.functional DEBUG    sample.subject='South Korea', sample.object='Seoul', predicted=' Seoul' (p=0.960), known=(✓)\n",
      "2024-02-01 14:24:30 src.functional DEBUG    sample.subject='Colombia', sample.object='Bogot\\\\u00e1', predicted=' Bog' (p=0.971), known=(✓)\n",
      "2024-02-01 14:24:30 src.functional DEBUG    sample.subject='Saudi Arabia', sample.object='Riyadh', predicted=' R' (p=0.739), known=(✓)\n",
      "2024-02-01 14:24:30 src.functional DEBUG    sample.subject='France', sample.object='Paris', predicted=' Paris' (p=0.984), known=(✓)\n",
      "2024-02-01 14:24:30 src.functional DEBUG    sample.subject='Mexico', sample.object='Mexico City', predicted=' Mexico' (p=0.956), known=(✓)\n",
      "2024-02-01 14:24:30 src.functional DEBUG    sample.subject='Pakistan', sample.object='Islamabad', predicted=' Islam' (p=0.924), known=(✓)\n",
      "2024-02-01 14:24:30 src.functional DEBUG    sample.subject='Argentina', sample.object='Buenos Aires', predicted=' Buenos' (p=0.940), known=(✓)\n",
      "2024-02-01 14:24:30 src.functional DEBUG    sample.subject='Nigeria', sample.object='Abuja', predicted=' Abu' (p=0.684), known=(✓)\n",
      "2024-02-01 14:24:30 src.functional DEBUG    sample.subject='India', sample.object='New Delhi', predicted=' New' (p=0.798), known=(✓)\n",
      "2024-02-01 14:24:30 src.functional DEBUG    sample.subject='Canada', sample.object='Ottawa', predicted=' Ottawa' (p=0.923), known=(✓)\n",
      "2024-02-01 14:24:30 src.functional DEBUG    sample.subject='Egypt', sample.object='Cairo', predicted=' Cairo' (p=0.973), known=(✓)\n",
      "2024-02-01 14:24:30 src.functional DEBUG    sample.subject='Chile', sample.object='Santiago', predicted=' Santiago' (p=0.956), known=(✓)\n",
      "2024-02-01 14:24:30 src.functional DEBUG    sample.subject='Australia', sample.object='Canberra', predicted=' Can' (p=0.880), known=(✓)\n",
      "2024-02-01 14:24:30 src.functional DEBUG    sample.subject='Venezuela', sample.object='Caracas', predicted=' Car' (p=0.965), known=(✓)\n",
      "2024-02-01 14:24:30 src.functional DEBUG    sample.subject='Peru', sample.object='Lima', predicted=' L' (p=0.952), known=(✓)\n",
      "2024-02-01 14:24:30 src.functional DEBUG    sample.subject='Germany', sample.object='Berlin', predicted=' Berlin' (p=0.979), known=(✓)\n",
      "2024-02-01 14:24:30 src.functional DEBUG    sample.subject='Spain', sample.object='Madrid', predicted=' Madrid' (p=0.972), known=(✓)\n",
      "2024-02-01 14:24:30 src.functional DEBUG    sample.subject='United States', sample.object='Washington D.C.', predicted=' Washington' (p=0.958), known=(✓)\n",
      "2024-02-01 14:24:30 src.functional DEBUG    sample.subject='Russia', sample.object='Moscow', predicted=' Moscow' (p=0.955), known=(✓)\n"
     ]
    }
   ],
   "source": [
    "test = functional.filter_relation_samples_based_on_provided_fewshots(\n",
    "    mt=mt, test_relation=test, prompt_template=operator.prompt_template, batch_size=4\n",
    ")"
   ]
  },
  {
   "cell_type": "code",
   "execution_count": 36,
   "id": "6ad18a70",
   "metadata": {},
   "outputs": [
    {
     "name": "stdout",
     "output_type": "stream",
     "text": [
      "Canada -> Ottawa\n",
      "2024-02-01 17:54:42 src.operators DEBUG    computing h from prompt \"<|endoftext|> The capital city of China is Beijing\n",
      "The capital city of Japan is Tokyo\n",
      "The capital city of Italy is Rome\n",
      "The capital city of Brazil is Bras\\u00edlia\n",
      "The capital city of Turkey is Ankara\n",
      "The capital city of Canada is\"\n"
     ]
    },
    {
     "data": {
      "text/plain": [
       "[PredictedToken(token=' Ottawa', prob=0.39848828315734863),\n",
       " PredictedToken(token=' Washington', prob=0.1733689308166504),\n",
       " PredictedToken(token=' ', prob=0.15794815123081207),\n",
       " PredictedToken(token=' Tokyo', prob=0.08120059967041016),\n",
       " PredictedToken(token=' Capital', prob=0.0415043868124485)]"
      ]
     },
     "execution_count": 36,
     "metadata": {},
     "output_type": "execute_result"
    }
   ],
   "source": [
    "sample = [s for s in test.samples if s.subject == \"Canada\"][0]\n",
    "print(sample)\n",
    "operator(subject = sample.subject).predictions"
   ]
  },
  {
   "cell_type": "code",
   "execution_count": 37,
   "id": "e717d47f",
   "metadata": {},
   "outputs": [],
   "source": [
    "hs_and_zs = functional.compute_hs_and_zs(\n",
    "    mt = mt,\n",
    "    prompt_template = operator.prompt_template,\n",
    "    subjects = [sample.subject],\n",
    "    h_layer= operator.h_layer,\n",
    ")\n",
    "h = hs_and_zs.h_by_subj[sample.subject]"
   ]
  },
  {
   "cell_type": "markdown",
   "id": "3c69136b",
   "metadata": {},
   "source": [
    "## Approximating LM computation $F$ as an affine transformation\n",
    "\n",
    "### $$ F(\\mathbf{s}, c_r) \\approx \\beta \\, W_r \\mathbf{s} + b_r $$"
   ]
  },
  {
   "cell_type": "code",
   "execution_count": 38,
   "id": "d8bf8b1d",
   "metadata": {},
   "outputs": [
    {
     "data": {
      "text/plain": [
       "([(' ', 0.469),\n",
       "  (' Washington', 0.094),\n",
       "  (' Tokyo', 0.075),\n",
       "  ('\\n', 0.072),\n",
       "  (' Capital', 0.051),\n",
       "  (' -', 0.027),\n",
       "  (' capital', 0.025),\n",
       "  (' Ottawa', 0.023),\n",
       "  (' the', 0.019),\n",
       "  (' (', 0.017)],\n",
       " {})"
      ]
     },
     "execution_count": 38,
     "metadata": {},
     "output_type": "execute_result"
    }
   ],
   "source": [
    "z = 5 * (operator.weight @ h) + operator.bias\n",
    "\n",
    "lens.logit_lens(\n",
    "    mt = mt,\n",
    "    h = z,\n",
    "    get_proba = True\n",
    ")"
   ]
  },
  {
   "cell_type": "code",
   "execution_count": 39,
   "id": "e0725d34",
   "metadata": {},
   "outputs": [
    {
     "name": "stdout",
     "output_type": "stream",
     "text": [
      "2024-02-01 17:54:46 src.operators DEBUG    computing h from prompt \"<|endoftext|> The capital city of China is Beijing\n",
      "The capital city of Japan is Tokyo\n",
      "The capital city of Italy is Rome\n",
      "The capital city of Brazil is Bras\\u00edlia\n",
      "The capital city of Turkey is Ankara\n",
      "The capital city of Argentina is\"\n"
     ]
    },
    {
     "name": "stdout",
     "output_type": "stream",
     "text": [
      "sample.subject='Argentina', sample.object='Buenos Aires', predicted=\" Buenos\", (p=0.9405075907707214), known=(✓)\n",
      "2024-02-01 17:54:46 src.operators DEBUG    computing h from prompt \"<|endoftext|> The capital city of China is Beijing\n",
      "The capital city of Japan is Tokyo\n",
      "The capital city of Italy is Rome\n",
      "The capital city of Brazil is Bras\\u00edlia\n",
      "The capital city of Turkey is Ankara\n",
      "The capital city of Australia is\"\n",
      "sample.subject='Australia', sample.object='Canberra', predicted=\" Sydney\", (p=0.7758105397224426), known=(✗)\n",
      "2024-02-01 17:54:46 src.operators DEBUG    computing h from prompt \"<|endoftext|> The capital city of China is Beijing\n",
      "The capital city of Japan is Tokyo\n",
      "The capital city of Italy is Rome\n",
      "The capital city of Brazil is Bras\\u00edlia\n",
      "The capital city of Turkey is Ankara\n",
      "The capital city of Canada is\"\n",
      "sample.subject='Canada', sample.object='Ottawa', predicted=\" Ottawa\", (p=0.39848828315734863), known=(✓)\n",
      "2024-02-01 17:54:46 src.operators DEBUG    computing h from prompt \"<|endoftext|> The capital city of China is Beijing\n",
      "The capital city of Japan is Tokyo\n",
      "The capital city of Italy is Rome\n",
      "The capital city of Brazil is Bras\\u00edlia\n",
      "The capital city of Turkey is Ankara\n",
      "The capital city of Chile is\"\n",
      "sample.subject='Chile', sample.object='Santiago', predicted=\" Santiago\", (p=0.7556735873222351), known=(✓)\n",
      "2024-02-01 17:54:46 src.operators DEBUG    computing h from prompt \"<|endoftext|> The capital city of China is Beijing\n",
      "The capital city of Japan is Tokyo\n",
      "The capital city of Italy is Rome\n",
      "The capital city of Brazil is Bras\\u00edlia\n",
      "The capital city of Turkey is Ankara\n",
      "The capital city of Colombia is\"\n",
      "sample.subject='Colombia', sample.object='Bogot\\\\u00e1', predicted=\" Bog\", (p=0.9892266988754272), known=(✓)\n",
      "2024-02-01 17:54:46 src.operators DEBUG    computing h from prompt \"<|endoftext|> The capital city of China is Beijing\n",
      "The capital city of Japan is Tokyo\n",
      "The capital city of Italy is Rome\n",
      "The capital city of Brazil is Bras\\u00edlia\n",
      "The capital city of Turkey is Ankara\n",
      "The capital city of Egypt is\"\n",
      "sample.subject='Egypt', sample.object='Cairo', predicted=\" Cairo\", (p=0.9987480640411377), known=(✓)\n",
      "2024-02-01 17:54:46 src.operators DEBUG    computing h from prompt \"<|endoftext|> The capital city of China is Beijing\n",
      "The capital city of Japan is Tokyo\n",
      "The capital city of Italy is Rome\n",
      "The capital city of Brazil is Bras\\u00edlia\n",
      "The capital city of Turkey is Ankara\n",
      "The capital city of France is\"\n",
      "sample.subject='France', sample.object='Paris', predicted=\" Paris\", (p=0.9998879432678223), known=(✓)\n",
      "2024-02-01 17:54:46 src.operators DEBUG    computing h from prompt \"<|endoftext|> The capital city of China is Beijing\n",
      "The capital city of Japan is Tokyo\n",
      "The capital city of Italy is Rome\n",
      "The capital city of Brazil is Bras\\u00edlia\n",
      "The capital city of Turkey is Ankara\n",
      "The capital city of Germany is\"\n",
      "sample.subject='Germany', sample.object='Berlin', predicted=\" Berlin\", (p=0.9997020363807678), known=(✓)\n",
      "2024-02-01 17:54:46 src.operators DEBUG    computing h from prompt \"<|endoftext|> The capital city of China is Beijing\n",
      "The capital city of Japan is Tokyo\n",
      "The capital city of Italy is Rome\n",
      "The capital city of Brazil is Bras\\u00edlia\n",
      "The capital city of Turkey is Ankara\n",
      "The capital city of India is\"\n",
      "sample.subject='India', sample.object='New Delhi', predicted=\" Delhi\", (p=0.5473014116287231), known=(✗)\n",
      "2024-02-01 17:54:46 src.operators DEBUG    computing h from prompt \"<|endoftext|> The capital city of China is Beijing\n",
      "The capital city of Japan is Tokyo\n",
      "The capital city of Italy is Rome\n",
      "The capital city of Brazil is Bras\\u00edlia\n",
      "The capital city of Turkey is Ankara\n",
      "The capital city of Mexico is\"\n",
      "sample.subject='Mexico', sample.object='Mexico City', predicted=\" Mexico\", (p=0.9978938698768616), known=(✓)\n",
      "2024-02-01 17:54:46 src.operators DEBUG    computing h from prompt \"<|endoftext|> The capital city of China is Beijing\n",
      "The capital city of Japan is Tokyo\n",
      "The capital city of Italy is Rome\n",
      "The capital city of Brazil is Bras\\u00edlia\n",
      "The capital city of Turkey is Ankara\n",
      "The capital city of Nigeria is\"\n",
      "sample.subject='Nigeria', sample.object='Abuja', predicted=\" Ank\", (p=0.4969010353088379), known=(✗)\n",
      "2024-02-01 17:54:46 src.operators DEBUG    computing h from prompt \"<|endoftext|> The capital city of China is Beijing\n",
      "The capital city of Japan is Tokyo\n",
      "The capital city of Italy is Rome\n",
      "The capital city of Brazil is Bras\\u00edlia\n",
      "The capital city of Turkey is Ankara\n",
      "The capital city of Pakistan is\"\n",
      "sample.subject='Pakistan', sample.object='Islamabad', predicted=\" Islam\", (p=0.9235263466835022), known=(✓)\n",
      "2024-02-01 17:54:46 src.operators DEBUG    computing h from prompt \"<|endoftext|> The capital city of China is Beijing\n",
      "The capital city of Japan is Tokyo\n",
      "The capital city of Italy is Rome\n",
      "The capital city of Brazil is Bras\\u00edlia\n",
      "The capital city of Turkey is Ankara\n",
      "The capital city of Peru is\"\n",
      "sample.subject='Peru', sample.object='Lima', predicted=\" Ank\", (p=0.21027874946594238), known=(✗)\n",
      "2024-02-01 17:54:46 src.operators DEBUG    computing h from prompt \"<|endoftext|> The capital city of China is Beijing\n",
      "The capital city of Japan is Tokyo\n",
      "The capital city of Italy is Rome\n",
      "The capital city of Brazil is Bras\\u00edlia\n",
      "The capital city of Turkey is Ankara\n",
      "The capital city of Russia is\"\n",
      "sample.subject='Russia', sample.object='Moscow', predicted=\" Moscow\", (p=0.9978075623512268), known=(✓)\n",
      "2024-02-01 17:54:47 src.operators DEBUG    computing h from prompt \"<|endoftext|> The capital city of China is Beijing\n",
      "The capital city of Japan is Tokyo\n",
      "The capital city of Italy is Rome\n",
      "The capital city of Brazil is Bras\\u00edlia\n",
      "The capital city of Turkey is Ankara\n",
      "The capital city of Saudi Arabia is\"\n",
      "sample.subject='Saudi Arabia', sample.object='Riyadh', predicted=\" \", (p=0.24333006143569946), known=(✗)\n",
      "2024-02-01 17:54:47 src.operators DEBUG    computing h from prompt \"<|endoftext|> The capital city of China is Beijing\n",
      "The capital city of Japan is Tokyo\n",
      "The capital city of Italy is Rome\n",
      "The capital city of Brazil is Bras\\u00edlia\n",
      "The capital city of Turkey is Ankara\n",
      "The capital city of South Korea is\"\n",
      "sample.subject='South Korea', sample.object='Seoul', predicted=\" Seoul\", (p=0.9896257519721985), known=(✓)\n",
      "2024-02-01 17:54:47 src.operators DEBUG    computing h from prompt \"<|endoftext|> The capital city of China is Beijing\n",
      "The capital city of Japan is Tokyo\n",
      "The capital city of Italy is Rome\n",
      "The capital city of Brazil is Bras\\u00edlia\n",
      "The capital city of Turkey is Ankara\n",
      "The capital city of Spain is\"\n",
      "sample.subject='Spain', sample.object='Madrid', predicted=\" Madrid\", (p=0.8133060932159424), known=(✓)\n",
      "2024-02-01 17:54:47 src.operators DEBUG    computing h from prompt \"<|endoftext|> The capital city of China is Beijing\n",
      "The capital city of Japan is Tokyo\n",
      "The capital city of Italy is Rome\n",
      "The capital city of Brazil is Bras\\u00edlia\n",
      "The capital city of Turkey is Ankara\n",
      "The capital city of United States is\"\n",
      "sample.subject='United States', sample.object='Washington D.C.', predicted=\" Washington\", (p=0.5996508598327637), known=(✓)\n",
      "2024-02-01 17:54:47 src.operators DEBUG    computing h from prompt \"<|endoftext|> The capital city of China is Beijing\n",
      "The capital city of Japan is Tokyo\n",
      "The capital city of Italy is Rome\n",
      "The capital city of Brazil is Bras\\u00edlia\n",
      "The capital city of Turkey is Ankara\n",
      "The capital city of Venezuela is\"\n",
      "sample.subject='Venezuela', sample.object='Caracas', predicted=\" Richmond\", (p=0.4721432626247406), known=(✗)\n",
      "------------------------------------------------------------\n",
      "Faithfulness (@1) = 0.6842105263157895\n",
      "------------------------------------------------------------\n"
     ]
    }
   ],
   "source": [
    "correct = 0\n",
    "wrong = 0\n",
    "for sample in test.samples:\n",
    "    predictions = operator(subject = sample.subject).predictions\n",
    "    known_flag = functional.is_nontrivial_prefix(\n",
    "        prediction=predictions[0].token, target=sample.object\n",
    "    )\n",
    "    print(f\"{sample.subject=}, {sample.object=}, \", end=\"\")\n",
    "    print(f'predicted=\"{functional.format_whitespace(predictions[0].token)}\", (p={predictions[0].prob}), known=({functional.get_tick_marker(known_flag)})')\n",
    "    \n",
    "    correct += known_flag\n",
    "    wrong += not known_flag\n",
    "    \n",
    "faithfulness = correct/(correct + wrong)\n",
    "\n",
    "print(\"------------------------------------------------------------\")\n",
    "print(f\"Faithfulness (@1) = {faithfulness}\")\n",
    "print(\"------------------------------------------------------------\")"
   ]
  },
  {
   "cell_type": "markdown",
   "id": "d9a13389",
   "metadata": {},
   "source": [
    "# $causality$"
   ]
  },
  {
   "cell_type": "code",
   "execution_count": 40,
   "id": "da2f8eb9",
   "metadata": {},
   "outputs": [],
   "source": [
    "################### hparams ###################\n",
    "rank = 100\n",
    "###############################################"
   ]
  },
  {
   "cell_type": "code",
   "execution_count": 41,
   "id": "25ac7213",
   "metadata": {},
   "outputs": [
    {
     "name": "stdout",
     "output_type": "stream",
     "text": [
      "2024-02-01 17:54:49 src.utils.experiment_utils INFO     setting all seeds to 12345\n"
     ]
    }
   ],
   "source": [
    "experiment_utils.set_seed(12345) # set seed to a constant value for sampling consistency\n",
    "test_targets = functional.random_edit_targets(test.samples)"
   ]
  },
  {
   "cell_type": "markdown",
   "id": "70d83c9b",
   "metadata": {},
   "source": [
    "## setup"
   ]
  },
  {
   "cell_type": "code",
   "execution_count": 42,
   "id": "1a13c0ff",
   "metadata": {},
   "outputs": [
    {
     "data": {
      "text/plain": [
       "'Changing the mapping (Argentina -> Buenos Aires) to (Argentina -> Riyadh)'"
      ]
     },
     "execution_count": 42,
     "metadata": {},
     "output_type": "execute_result"
    }
   ],
   "source": [
    "source = test.samples[0]\n",
    "target = test_targets[source]\n",
    "\n",
    "f\"Changing the mapping ({source}) to ({source.subject} -> {target.object})\""
   ]
  },
  {
   "cell_type": "markdown",
   "id": "e98f67c8",
   "metadata": {},
   "source": [
    "### Calculate $\\Delta \\mathbf{s}$ such that $\\mathbf{s} + \\Delta \\mathbf{s} \\approx \\mathbf{s}'$\n",
    "\n",
    "<p align=\"center\">\n",
    "    <img align=\"center\" src=\"../causality_crop\" style=\"width:80%;\"/>\n",
    "</p>\n",
    "\n",
    "Under the relation $r =\\, $*plays the instrument*, and given the subject $s =\\, $*Miles Davis*, the model will predict $o =\\, $*trumpet* **(a)**; and given the subject $s' =\\, $*Cat Stevens*, the model will now predict $o' =\\, $*guiter* **(b)**. \n",
    "\n",
    "If the computation from $\\mathbf{s}$ to $\\mathbf{o}$ is well-approximated by $operator$ parameterized by $W_r$ and $b_r$ **(c)**, then $\\Delta{\\mathbf{s}}$ **(d)** should tell us the direction of change from $\\mathbf{s}$ to $\\mathbf{s}'$. Thus, $\\tilde{\\mathbf{s}}=\\mathbf{s}+\\Delta\\mathbf{s}$ would be an approximation of $\\mathbf{s}'$ and patching $\\tilde{\\mathbf{s}}$ in place of $\\mathbf{s}$ should change the prediction to $o'$ = *guitar* "
   ]
  },
  {
   "cell_type": "code",
   "execution_count": 43,
   "id": "53c632ed",
   "metadata": {},
   "outputs": [],
   "source": [
    "def get_delta_s(\n",
    "    operator, \n",
    "    source_subject, \n",
    "    target_subject,\n",
    "    rank = 100,\n",
    "    fix_latent_norm = None, # if set, will fix the norms of z_source and z_target\n",
    "):\n",
    "    w_p_inv = functional.low_rank_pinv(\n",
    "        matrix = operator.weight,\n",
    "        rank=rank,\n",
    "    )\n",
    "    hs_and_zs = functional.compute_hs_and_zs(\n",
    "        mt = mt,\n",
    "        prompt_template = operator.prompt_template,\n",
    "        subjects = [source_subject, target_subject],\n",
    "        h_layer= operator.h_layer,\n",
    "        z_layer=-1,\n",
    "    )\n",
    "\n",
    "    z_source = hs_and_zs.z_by_subj[source_subject]\n",
    "    z_target = hs_and_zs.z_by_subj[target_subject]\n",
    "    \n",
    "    z_source *= fix_latent_norm / z_source.norm() if fix_latent_norm is not None else 1.0\n",
    "    z_target *= z_source.norm() / z_target.norm() if fix_latent_norm is not None else 1.0\n",
    "\n",
    "    delta_s = w_p_inv @  (z_target.squeeze() - z_source.squeeze())\n",
    "\n",
    "    return delta_s, hs_and_zs\n",
    "\n",
    "delta_s, hs_and_zs = get_delta_s(\n",
    "    operator = operator,\n",
    "    source_subject = source.subject,\n",
    "    target_subject = target.subject,\n",
    "    rank = rank\n",
    ")"
   ]
  },
  {
   "cell_type": "code",
   "execution_count": 44,
   "id": "ab1c7e88",
   "metadata": {},
   "outputs": [
    {
     "data": {
      "text/plain": [
       "[(' R', 0.661),\n",
       " (' Me', 0.106),\n",
       " (' Jed', 0.029),\n",
       " (' Saudi', 0.027),\n",
       " (' Ri', 0.022),\n",
       " ('\\n', 0.01),\n",
       " (' Dh', 0.007),\n",
       " (' Mak', 0.006),\n",
       " (' Med', 0.005),\n",
       " (' J', 0.004)]"
      ]
     },
     "execution_count": 44,
     "metadata": {},
     "output_type": "execute_result"
    }
   ],
   "source": [
    "import baukit\n",
    "\n",
    "def get_intervention(h, int_layer, subj_idx):\n",
    "    def edit_output(output, layer):\n",
    "        if(layer != int_layer):\n",
    "            return output\n",
    "        functional.untuple(output)[:, subj_idx] = h \n",
    "        return output\n",
    "    return edit_output\n",
    "\n",
    "prompt = operator.prompt_template.format(source.subject)\n",
    "\n",
    "h_index, inputs = functional.find_subject_token_index(\n",
    "    mt=mt,\n",
    "    prompt=prompt,\n",
    "    subject=source.subject,\n",
    ")\n",
    "\n",
    "h_layer, z_layer = models.determine_layer_paths(model = mt, layers = [layer, -1])\n",
    "\n",
    "with baukit.TraceDict(\n",
    "    mt.model, layers = [h_layer, z_layer],\n",
    "    edit_output=get_intervention(\n",
    "#         h = hs_and_zs.h_by_subj[source.subject],         # let the computation proceed as usual\n",
    "        h = hs_and_zs.h_by_subj[source.subject] + delta_s, # replace s with s + delta_s\n",
    "        int_layer = h_layer, \n",
    "        subj_idx = h_index\n",
    "    )\n",
    ") as traces:\n",
    "    outputs = mt(\n",
    "        input_ids = inputs.input_ids,\n",
    "        attention_mask = inputs.attention_mask,\n",
    "    )\n",
    "\n",
    "logits = outputs.logits[0][-1] if hasattr(outputs, \"logits\") else outputs[0][-1]\n",
    "lens.interpret_logits(\n",
    "    mt = mt, \n",
    "    logits = logits, \n",
    "    get_proba=True\n",
    ")"
   ]
  },
  {
   "cell_type": "markdown",
   "id": "b3c272c1",
   "metadata": {},
   "source": [
    "## Measuring causality"
   ]
  },
  {
   "cell_type": "code",
   "execution_count": 45,
   "id": "51efa257",
   "metadata": {},
   "outputs": [],
   "source": [
    "from src.editors import LowRankPInvEditor\n",
    "\n",
    "svd = torch.svd(operator.weight.float())\n",
    "editor = LowRankPInvEditor(\n",
    "    lre=operator,\n",
    "    rank=rank,\n",
    "    svd=svd,\n",
    ")"
   ]
  },
  {
   "cell_type": "code",
   "execution_count": 46,
   "id": "88be35dd",
   "metadata": {},
   "outputs": [
    {
     "name": "stdout",
     "output_type": "stream",
     "text": [
      "2024-02-01 17:54:54 src.editors DEBUG    computing low-rank pinv (rel=<|endoftext|> The capital city of China is Beijing\n",
      "The capital city of Japan is Tokyo\n",
      "The capital city of Italy is Rome\n",
      "The capital city of Brazil is Bras\\u00edlia\n",
      "The capital city of Turkey is Ankara\n",
      "The capital city of {} is)\n",
      "Mapping Argentina -> Riyadh | edit result=' R' (p=0.521) | success=(✓)\n",
      "Mapping Australia -> Buenos Aires | edit result=' Buenos' (p=0.885) | success=(✓)\n",
      "Mapping Canada -> Abuja | edit result=' Lag' (p=0.632) | success=(✗)\n",
      "Mapping Chile -> Lima | edit result=' L' (p=0.926) | success=(✓)\n",
      "Mapping Colombia -> Berlin | edit result=' Berlin' (p=0.852) | success=(✓)\n",
      "Mapping Egypt -> Mexico City | edit result=' Mexico' (p=0.955) | success=(✓)\n",
      "Mapping France -> Riyadh | edit result=' Me' (p=0.514) | success=(✗)\n",
      "Mapping Germany -> Cairo | edit result=' Cairo' (p=0.923) | success=(✓)\n",
      "Mapping India -> Lima | edit result=' L' (p=0.928) | success=(✓)\n",
      "Mapping Mexico -> Santiago | edit result=' Santiago' (p=0.702) | success=(✓)\n",
      "Mapping Nigeria -> Riyadh | edit result=' R' (p=0.385) | success=(✓)\n",
      "Mapping Pakistan -> New Delhi | edit result=' New' (p=0.730) | success=(✓)\n",
      "Mapping Peru -> Caracas | edit result=' Car' (p=0.509) | success=(✓)\n",
      "Mapping Russia -> Cairo | edit result=' Cairo' (p=0.883) | success=(✓)\n",
      "Mapping Saudi Arabia -> Caracas | edit result=' Car' (p=0.354) | success=(✓)\n",
      "Mapping South Korea -> Cairo | edit result=' Cairo' (p=0.908) | success=(✓)\n",
      "Mapping Spain -> Islamabad | edit result=' Islam' (p=0.746) | success=(✓)\n",
      "Mapping United States -> Ottawa | edit result=' Ottawa' (p=0.800) | success=(✓)\n",
      "Mapping Venezuela -> Madrid | edit result=' Madrid' (p=0.958) | success=(✓)\n",
      "------------------------------------------------------------\n",
      "Causality (@1) = 0.8947368421052632\n",
      "------------------------------------------------------------\n"
     ]
    }
   ],
   "source": [
    "# precomputing latents to speed things up\n",
    "hs_and_zs = functional.compute_hs_and_zs(\n",
    "    mt = mt,\n",
    "    prompt_template = operator.prompt_template,\n",
    "    subjects = [sample.subject for sample in test.samples],\n",
    "    h_layer= operator.h_layer,\n",
    "    z_layer=-1,\n",
    "    batch_size = 2\n",
    ")\n",
    "\n",
    "success = 0\n",
    "fails = 0\n",
    "\n",
    "for sample in test.samples:\n",
    "    target = test_targets.get(sample)\n",
    "    assert target is not None\n",
    "    edit_result = editor(\n",
    "        subject = sample.subject,\n",
    "        target = target.subject\n",
    "    )\n",
    "    \n",
    "    success_flag = functional.is_nontrivial_prefix(\n",
    "        prediction=edit_result.predicted_tokens[0].token, target=target.object\n",
    "    )\n",
    "    \n",
    "    print(f\"Mapping {sample.subject} -> {target.object} | edit result={edit_result.predicted_tokens[0]} | success=({functional.get_tick_marker(success_flag)})\")\n",
    "    \n",
    "    success += success_flag\n",
    "    fails += not success_flag\n",
    "    \n",
    "causality = success / (success + fails)\n",
    "\n",
    "print(\"------------------------------------------------------------\")\n",
    "print(f\"Causality (@1) = {causality}\")\n",
    "print(\"------------------------------------------------------------\")"
   ]
  },
  {
   "cell_type": "code",
   "execution_count": null,
   "id": "d14acef6",
   "metadata": {},
   "outputs": [],
   "source": []
  }
 ],
 "metadata": {
  "kernelspec": {
   "display_name": "Python 3 (ipykernel)",
   "language": "python",
   "name": "python3"
  },
  "language_info": {
   "codemirror_mode": {
    "name": "ipython",
    "version": 3
   },
   "file_extension": ".py",
   "mimetype": "text/x-python",
   "name": "python",
   "nbconvert_exporter": "python",
   "pygments_lexer": "ipython3",
   "version": "3.10.13"
  }
 },
 "nbformat": 4,
 "nbformat_minor": 5
}
