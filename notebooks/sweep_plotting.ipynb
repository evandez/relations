{
 "cells": [
  {
   "cell_type": "code",
   "execution_count": 1,
   "metadata": {},
   "outputs": [],
   "source": [
    "%load_ext autoreload\n",
    "%autoreload 2"
   ]
  },
  {
   "cell_type": "code",
   "execution_count": 2,
   "metadata": {},
   "outputs": [],
   "source": [
    "import sys\n",
    "sys.path.append('..')\n",
    "\n",
    "import torch\n",
    "import matplotlib.pyplot as plt\n",
    "from src import models, data\n",
    "from tqdm.auto import tqdm\n",
    "import json\n",
    "import os\n",
    "import numpy as np\n",
    "import copy"
   ]
  },
  {
   "attachments": {},
   "cell_type": "markdown",
   "metadata": {},
   "source": [
    "## Layer Sweep"
   ]
  },
  {
   "cell_type": "code",
   "execution_count": 3,
   "metadata": {},
   "outputs": [],
   "source": [
    "def plot_faithfulness_results(\n",
    "        results, x_tick_step=2, x_tick_rotation=0,\n",
    "        truncate_keys=False\n",
    "    ): \n",
    "    for bias_scale_factor in results.keys():\n",
    "        results[bias_scale_factor] = np.array(results[bias_scale_factor])\n",
    "\n",
    "    recall_upto = 3\n",
    "    linewidth = 3\n",
    "    alpha = 0.2\n",
    "    for recall_at in range(recall_upto):\n",
    "        mean = np.array([\n",
    "            results[tick][:, recall_at].mean()\n",
    "            for tick in results.keys()\n",
    "        ])\n",
    "        low = np.array([\n",
    "            results[tick][:, recall_at].min()\n",
    "            for tick in results.keys()\n",
    "        ])\n",
    "        high = np.array([\n",
    "            results[tick][:, recall_at].max()\n",
    "            for tick in results.keys()\n",
    "        ])\n",
    "\n",
    "        plt.plot(mean, linewidth=linewidth, label=f\"recall@{recall_at + 1}\")\n",
    "        plt.fill_between(\n",
    "            range(len(mean)),\n",
    "            low,    # lower bound\n",
    "            high,   # upper bound\n",
    "            alpha=alpha\n",
    "        )\n",
    "        linewidth /= 2\n",
    "        alpha /= 2\n",
    "    \n",
    "    plt.xticks(\n",
    "        range(0, len(results.keys()), x_tick_step), \n",
    "        [\n",
    "            layer_name.split(\".\")[-1] if truncate_keys else layer_name\n",
    "            for layer_name in list(results.keys())\n",
    "        ][::x_tick_step],\n",
    "        rotation = x_tick_rotation\n",
    "    )\n",
    "    plt.xlabel(\"Layer\")\n",
    "    plt.ylabel(\"faithfulness\")\n",
    "    plt.legend()\n",
    "    \n",
    "    return plt"
   ]
  },
  {
   "cell_type": "code",
   "execution_count": 4,
   "metadata": {},
   "outputs": [],
   "source": [
    "def plot_faithfulness_results_individual_rays(\n",
    "        results, recall_at = 0,\n",
    "        linewidth = 3, alpha = 0.2,\n",
    "        x_tick_step=2, x_tick_rotation=90,\n",
    "        truncate_keys = False    \n",
    "    ):\n",
    "    shape_0 = -1 \n",
    "    for bias_scale_factor in results.keys():\n",
    "        results[bias_scale_factor] = np.array(results[bias_scale_factor])\n",
    "        shape_0 = results[bias_scale_factor].shape[0] if shape_0 == -1 else shape_0\n",
    "\n",
    "    layerwise_results = []\n",
    "    for r in range(shape_0):\n",
    "        r_result = np.array([\n",
    "            results[bias_scale_factor][r, recall_at]\n",
    "            for bias_scale_factor in results.keys()\n",
    "        ])\n",
    "        r_result = r_result\n",
    "        plt.plot(\n",
    "            r_result,\n",
    "            alpha=alpha\n",
    "        )\n",
    "        layerwise_results.append(r_result)\n",
    "\n",
    "    layerwise_results = np.array(layerwise_results)\n",
    "    plt.plot(layerwise_results.mean(axis = 0), linewidth=linewidth, color=\"darkblue\")\n",
    "\n",
    "    plt.xticks(\n",
    "        range(0, len(results.keys()), x_tick_step), \n",
    "        [\n",
    "            layer_name.split(\".\")[-1] if truncate_keys else layer_name\n",
    "            for layer_name in list(results.keys())\n",
    "        ][::x_tick_step],\n",
    "        rotation = x_tick_rotation\n",
    "    )\n",
    "    plt.xlabel(\"Layer\")\n",
    "    plt.ylabel(\"faithfulness\")\n",
    "    \n",
    "    return plt"
   ]
  },
  {
   "cell_type": "code",
   "execution_count": 11,
   "metadata": {},
   "outputs": [],
   "source": [
    "def scrape_results(path, bench_key = \"faithfulness\", bench_subkey = \"recall_lre_if_lm_correct\"):\n",
    "    results = {}\n",
    "    xticks = None\n",
    "    for relation_name in os.listdir(path):\n",
    "        print(\"relation_name:\", relation_name)\n",
    "        with open(f\"{path}/{relation_name}\") as f:\n",
    "            sweep_results = json.load(f)\n",
    "            if(\"faithfulness\"in sweep_results):\n",
    "                sweep_results = sweep_results[bench_key]\n",
    "            else:\n",
    "                sweep_results = {\n",
    "                    key: sweep_results[key][bench_key] for key in sweep_results.keys() if key != \"layer_n\"\n",
    "                }\n",
    "            if xticks is None:\n",
    "                xticks = list(sweep_results.keys())\n",
    "                results = {bias_scale_factor: [] for bias_scale_factor in sweep_results.keys()}\n",
    "                \n",
    "            for tick in xticks:\n",
    "                results[tick].append(\n",
    "                    sweep_results[tick][bench_subkey]\n",
    "                )\n",
    "\n",
    "    return results\n"
   ]
  },
  {
   "cell_type": "code",
   "execution_count": 30,
   "metadata": {},
   "outputs": [
    {
     "data": {
      "text/plain": [
       "['work location.json',\n",
       " 'outside color of fruits and vegetables.json',\n",
       " 'word comparative.json',\n",
       " 'name religion.json',\n",
       " 'country capital city.json',\n",
       " 'landmark in country.json',\n",
       " 'word past tense.json',\n",
       " 'task done by person NEEDS REVISION.json',\n",
       " 'name gender.json']"
      ]
     },
     "execution_count": 30,
     "metadata": {},
     "output_type": "execute_result"
    }
   ],
   "source": [
    "model_name = \"gptj\"\n",
    "path_root = f\"../results/layer_sweep/{model_name}\"\n",
    "os.listdir(path_root)"
   ]
  },
  {
   "cell_type": "code",
   "execution_count": 31,
   "metadata": {},
   "outputs": [],
   "source": [
    "# faithfulness_results = scrape_results(path_root)\n",
    "# plot_faithfulness_results(faithfulness_results, x_tick_step=2, x_tick_rotation=0)\n",
    "# # plot_faithfulness_results_individual_rays(faithfulness_results, x_tick_step=2, x_tick_rotation=0)"
   ]
  },
  {
   "cell_type": "code",
   "execution_count": 36,
   "metadata": {},
   "outputs": [
    {
     "name": "stdout",
     "output_type": "stream",
     "text": [
      "relation_name: work location.json\n",
      "relation_name: outside color of fruits and vegetables.json\n",
      "relation_name: word comparative.json\n",
      "relation_name: name religion.json\n",
      "relation_name: country capital city.json\n",
      "relation_name: landmark in country.json\n",
      "relation_name: word past tense.json\n",
      "relation_name: task done by person NEEDS REVISION.json\n",
      "relation_name: name gender.json\n"
     ]
    }
   ],
   "source": [
    "causality_results = scrape_results(\n",
    "    path_root, \n",
    "    bench_key=\"causality\", \n",
    "    # bench_subkey=\"low_rank_pinv\"\n",
    "    bench_subkey=\"low_rank_pinv_embed\"\n",
    ")"
   ]
  },
  {
   "cell_type": "code",
   "execution_count": 37,
   "metadata": {},
   "outputs": [],
   "source": [
    "def plot_causality_results(\n",
    "        results, x_tick_step=2, x_tick_rotation=0,\n",
    "        truncate_keys=False\n",
    "    ): \n",
    "    linewidth = 3\n",
    "    alpha = 0.2\n",
    "    mean = []\n",
    "    std = []\n",
    "    for tick in results.keys():\n",
    "        mean.append(np.array([\n",
    "            r['efficacy_mean'] for r in results[tick]\n",
    "        ]).mean())\n",
    "        std.append(np.array([\n",
    "            r['efficacy_std'] for r in results[tick]\n",
    "        ]).mean())\n",
    "\n",
    "    mean = np.array(mean)\n",
    "    std = np.array(std)\n",
    "    plt.plot(mean, linewidth=linewidth)\n",
    "    plt.fill_between(\n",
    "        range(len(mean)),\n",
    "        mean - std,    # lower bound\n",
    "        mean + std,   # upper bound\n",
    "        alpha=alpha\n",
    "    )\n",
    "    \n",
    "    plt.xticks(\n",
    "        range(0, len(results.keys()), x_tick_step), \n",
    "        [\n",
    "            layer_name.split(\".\")[-1] if truncate_keys else layer_name\n",
    "            for layer_name in list(results.keys())\n",
    "        ][::x_tick_step],\n",
    "        rotation = x_tick_rotation\n",
    "    )\n",
    "    plt.xlabel(\"Layer\")\n",
    "    plt.ylabel(\"causality\")\n",
    "    plt.legend()\n",
    "    \n",
    "    return plt"
   ]
  },
  {
   "cell_type": "code",
   "execution_count": 38,
   "metadata": {},
   "outputs": [
    {
     "name": "stderr",
     "output_type": "stream",
     "text": [
      "No artists with labels found to put in legend.  Note that artists whose label start with an underscore are ignored when legend() is called with no argument.\n"
     ]
    },
    {
     "data": {
      "text/plain": [
       "<module 'matplotlib.pyplot' from '/home/local_arnab/miniconda3/envs/relations/lib/python3.10/site-packages/matplotlib/pyplot.py'>"
      ]
     },
     "execution_count": 38,
     "metadata": {},
     "output_type": "execute_result"
    },
    {
     "data": {
      "image/png": "[encoded data removed]",
      "text/plain": [
       "<Figure size 640x480 with 1 Axes>"
      ]
     },
     "metadata": {},
     "output_type": "display_data"
    }
   ],
   "source": [
    "plot_causality_results(causality_results, x_tick_rotation=90, truncate_keys=True)"
   ]
  },
  {
   "cell_type": "code",
   "execution_count": null,
   "metadata": {},
   "outputs": [],
   "source": []
  }
 ],
 "metadata": {
  "kernelspec": {
   "display_name": "relations",
   "language": "python",
   "name": "python3"
  },
  "language_info": {
   "codemirror_mode": {
    "name": "ipython",
    "version": 3
   },
   "file_extension": ".py",
   "mimetype": "text/x-python",
   "name": "python",
   "nbconvert_exporter": "python",
   "pygments_lexer": "ipython3",
   "version": "3.10.11"
  },
  "orig_nbformat": 4
 },
 "nbformat": 4,
 "nbformat_minor": 2
}
