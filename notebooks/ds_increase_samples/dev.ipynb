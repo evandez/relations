{
 "cells": [
  {
   "cell_type": "code",
   "execution_count": null,
   "metadata": {},
   "outputs": [],
   "source": [
    "%load_ext autoreload\n",
    "%autoreload 2"
   ]
  },
  {
   "cell_type": "code",
   "execution_count": null,
   "metadata": {},
   "outputs": [],
   "source": [
    "import sys\n",
    "sys.path.append(\"../..\")\n",
    "\n",
    "import numpy as np\n",
    "import matplotlib.pyplot as plt\n",
    "import os\n",
    "from src import data\n",
    "import json\n",
    "from tqdm.auto import tqdm"
   ]
  },
  {
   "cell_type": "code",
   "execution_count": null,
   "metadata": {},
   "outputs": [],
   "source": [
    "from src import models, data, functional\n",
    "\n",
    "###############################################\n",
    "relation_name = \"person university\"\n",
    "###############################################"
   ]
  },
  {
   "cell_type": "code",
   "execution_count": null,
   "metadata": {},
   "outputs": [],
   "source": [
    "mt = models.load_model(name=\"gptj\", fp16=True, device=\"cuda\")"
   ]
  },
  {
   "cell_type": "code",
   "execution_count": null,
   "metadata": {},
   "outputs": [],
   "source": [
    "dataset = data.load_dataset()\n",
    "relation = dataset.filter(\n",
    "    relation_names=[relation_name]\n",
    ")[0]\n",
    "\n",
    "len(relation.samples)"
   ]
  },
  {
   "cell_type": "code",
   "execution_count": null,
   "metadata": {},
   "outputs": [],
   "source": [
    "train, test = relation.split(6)\n",
    "icl_prompt = functional.make_prompt(\n",
    "    mt=mt,\n",
    "    prompt_template= \" {} :\",\n",
    "    subject=\"{}\",\n",
    "    examples=train.samples,\n",
    ")"
   ]
  },
  {
   "cell_type": "code",
   "execution_count": null,
   "metadata": {},
   "outputs": [],
   "source": [
    "test_relation = (\n",
    "    functional.filter_relation_samples_based_on_provided_fewshots(\n",
    "        mt=mt,\n",
    "        test_relation=test,\n",
    "        prompt_template=icl_prompt,\n",
    "    )\n",
    ")"
   ]
  },
  {
   "cell_type": "code",
   "execution_count": null,
   "metadata": {},
   "outputs": [],
   "source": [
    "f\"{len(test_relation.samples)}/{len(relation.samples) - len(train.samples)}\""
   ]
  },
  {
   "cell_type": "code",
   "execution_count": null,
   "metadata": {},
   "outputs": [],
   "source": [
    "subj_to_obj = {sample.subject: sample.object for sample in relation.samples}\n",
    "\n",
    "for query in os.listdir(relation_name.replace(\" \", \"_\")):\n",
    "    query_path = os.path.join(relation_name.replace(\" \", \"_\"), query)\n",
    "    with open(query_path, \"r\") as f:\n",
    "        query_result = json.load(f)\n",
    "    \n",
    "    for const_info in query_result:\n",
    "        star = const_info[\"subjectLabel\"]\n",
    "        constellation = const_info[\"objectLabel\"]\n",
    "        # if star.startswith(\"HR\") or star.startswith(\"HD\"):\n",
    "        #     continue\n",
    "        if \"University\" not in constellation:\n",
    "            continue\n",
    "        if star in subj_to_obj:\n",
    "            subj_to_obj.pop(star)\n",
    "        subj_to_obj[star] = constellation"
   ]
  },
  {
   "cell_type": "code",
   "execution_count": null,
   "metadata": {},
   "outputs": [],
   "source": [
    "relation.samples"
   ]
  },
  {
   "cell_type": "code",
   "execution_count": null,
   "metadata": {},
   "outputs": [],
   "source": [
    "candidate_samples = [\n",
    "    data.RelationSample(\n",
    "        subject=star,\n",
    "        object = constellation\n",
    "    ) for star, constellation in subj_to_obj.items()\n",
    "]"
   ]
  },
  {
   "cell_type": "code",
   "execution_count": null,
   "metadata": {},
   "outputs": [],
   "source": [
    "import torch\n",
    "with torch.no_grad():\n",
    "    correct_prediction = (\n",
    "        functional.filter_relation_samples_based_on_provided_fewshots(\n",
    "            mt=mt,\n",
    "            test_relation=relation.set(samples=candidate_samples[:1000]),\n",
    "            prompt_template=icl_prompt,\n",
    "            batch_size=4\n",
    "        )\n",
    "    )"
   ]
  },
  {
   "cell_type": "code",
   "execution_count": null,
   "metadata": {},
   "outputs": [],
   "source": [
    "f\"{len(correct_prediction.samples)} / {len(candidate_samples)}\""
   ]
  },
  {
   "cell_type": "code",
   "execution_count": null,
   "metadata": {},
   "outputs": [],
   "source": [
    "with open(f\"{relation_name.lower().replace(' ', '_')}.json\", \"w\") as f:\n",
    "    json.dump(relation.set(samples = candidate_samples[:1000]).to_dict(), f)"
   ]
  },
  {
   "cell_type": "code",
   "execution_count": null,
   "metadata": {},
   "outputs": [],
   "source": [
    "correct_prediction.samples"
   ]
  },
  {
   "cell_type": "code",
   "execution_count": null,
   "metadata": {},
   "outputs": [],
   "source": []
  }
 ],
 "metadata": {
  "kernelspec": {
   "display_name": "Python 3",
   "language": "python",
   "name": "python3"
  },
  "language_info": {
   "codemirror_mode": {
    "name": "ipython",
    "version": 3
   },
   "file_extension": ".py",
   "mimetype": "text/x-python",
   "name": "python",
   "nbconvert_exporter": "python",
   "pygments_lexer": "ipython3",
   "version": "3.10.11"
  },
  "orig_nbformat": 4
 },
 "nbformat": 4,
 "nbformat_minor": 2
}
