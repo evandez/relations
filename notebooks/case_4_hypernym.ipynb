{
 "cells": [
  {
   "cell_type": "code",
   "execution_count": 1,
   "metadata": {},
   "outputs": [],
   "source": [
    "%load_ext autoreload\n",
    "%autoreload 2"
   ]
  },
  {
   "cell_type": "code",
   "execution_count": 2,
   "metadata": {},
   "outputs": [],
   "source": [
    "import torch\n",
    "import numpy as np\n",
    "import json\n",
    "from tqdm.auto import tqdm\n",
    "import random\n",
    "import transformers\n",
    "\n",
    "import os\n",
    "import sys\n",
    "sys.path.append('..')\n",
    "\n",
    "from relations import estimate\n",
    "from util import model_utils\n",
    "from baukit import nethook\n",
    "from operator import itemgetter"
   ]
  },
  {
   "cell_type": "code",
   "execution_count": 3,
   "metadata": {},
   "outputs": [
    {
     "name": "stdout",
     "output_type": "stream",
     "text": [
      "facebook/galactica-6.7b ==> device: cuda:0, memory: 13314719744\n"
     ]
    }
   ],
   "source": [
    "MODEL_NAME = \"facebook/galactica-6.7b\"  # gpt2-{medium,large,xl} or EleutherAI/gpt-j-6B\n",
    "n_embd_field = \"hidden_size\"\n",
    "\n",
    "mt = model_utils.ModelAndTokenizer(MODEL_NAME, low_cpu_mem_usage=True, torch_dtype=torch.float16)\n",
    "\n",
    "model = mt.model\n",
    "tokenizer = mt.tokenizer\n",
    "# tokenizer.pad_token = tokenizer.eos_token\n",
    "tokenizer.add_special_tokens({'pad_token': '[PAD]'})\n",
    "\n",
    "print(f\"{MODEL_NAME} ==> device: {model.device}, memory: {model.get_memory_footprint()}\")"
   ]
  },
  {
   "cell_type": "code",
   "execution_count": 7,
   "metadata": {},
   "outputs": [
    {
     "data": {
      "text/plain": [
       "[('oak', 'tree'),\n",
       " ('dog', 'animal'),\n",
       " ('opera', 'music'),\n",
       " ('tea', 'drink'),\n",
       " ('diamond', 'gem'),\n",
       " ('happiness', 'feeling'),\n",
       " ('family', 'group'),\n",
       " ('apple', 'fruit'),\n",
       " ('comfort', 'satisfaction'),\n",
       " ('grandma', 'grandparent'),\n",
       " ('thesaurus', 'dictionary'),\n",
       " ('crow', 'bird'),\n",
       " ('tennis', 'sport'),\n",
       " ('salmon', 'fish'),\n",
       " ('health', 'condition'),\n",
       " ('flower', 'plant'),\n",
       " ('jacket', 'garment'),\n",
       " ('tiger', 'cat'),\n",
       " ('green', 'colour'),\n",
       " ('unicorn', 'creature'),\n",
       " ('hat', 'headdress'),\n",
       " ('go', 'move'),\n",
       " ('writer', 'literate'),\n",
       " ('ultramarine', 'blue'),\n",
       " ('rosemary', 'herb'),\n",
       " ('prose', 'genre'),\n",
       " ('cucumber', 'vegetable'),\n",
       " ('computer', 'machine'),\n",
       " ('roulette', 'game'),\n",
       " ('emerald', 'gemstone'),\n",
       " ('cow', 'cattle'),\n",
       " ('physics', 'science'),\n",
       " ('earth', 'planet'),\n",
       " ('grocery', 'market'),\n",
       " ('fork', 'utensil'),\n",
       " ('sun', 'star'),\n",
       " ('room', 'area'),\n",
       " ('roof', 'cover'),\n",
       " ('nut', 'seed'),\n",
       " ('necklace', 'jewellery'),\n",
       " ('flirt', 'play'),\n",
       " ('romance', 'relationship'),\n",
       " ('communication', 'act'),\n",
       " ('coffee', 'beverage'),\n",
       " ('citadel', 'building'),\n",
       " ('car', 'vehicle'),\n",
       " ('planning', 'thought'),\n",
       " ('love', 'emotion'),\n",
       " ('yellow', 'color'),\n",
       " ('table', 'furniture'),\n",
       " ('offer', 'message'),\n",
       " ('home', 'abode'),\n",
       " ('show', 'amusement'),\n",
       " ('fan', 'device'),\n",
       " ('sister', 'member'),\n",
       " ('meter', 'measure'),\n",
       " ('judaism', 'religion'),\n",
       " ('work', 'activity'),\n",
       " ('success', 'prosperity'),\n",
       " ('monarchy', 'state'),\n",
       " ('party', 'pastime'),\n",
       " ('summer', 'season'),\n",
       " ('meat', 'food'),\n",
       " ('doll', 'toy'),\n",
       " ('art', 'creation'),\n",
       " ('friend', 'associate'),\n",
       " ('lion', 'predator'),\n",
       " ('gold', 'metal'),\n",
       " ('rumba', 'dance'),\n",
       " ('round', 'shape'),\n",
       " ('mother', 'parent'),\n",
       " ('cookie', 'cake'),\n",
       " ('nature', 'world'),\n",
       " ('breeze', 'wind'),\n",
       " ('bakery', 'store'),\n",
       " ('lollipop', 'candy'),\n",
       " ('charity', 'gift'),\n",
       " ('power', 'quality'),\n",
       " ('man', 'human'),\n",
       " ('hologram', 'picture'),\n",
       " ('paper', 'material'),\n",
       " ('ear', 'organ'),\n",
       " ('photographer', 'person'),\n",
       " ('birthday', 'date'),\n",
       " ('allergy', 'reaction'),\n",
       " ('snake', 'reptile'),\n",
       " ('curiosity', 'attention'),\n",
       " ('drawing', 'artwork'),\n",
       " ('documentary', 'film'),\n",
       " ('pie', 'pastry'),\n",
       " ('griffin', 'monster'),\n",
       " ('anesthetic', 'drug'),\n",
       " ('superhero', 'character'),\n",
       " ('salad', 'dish'),\n",
       " ('sweetie', 'lover'),\n",
       " ('female', 'gender'),\n",
       " ('rabbit', 'pet'),\n",
       " ('head', 'body'),\n",
       " ('time', 'instance'),\n",
       " ('thumb', 'finger')]"
      ]
     },
     "execution_count": 7,
     "metadata": {},
     "output_type": "execute_result"
    }
   ],
   "source": [
    "with open(\"hypernym.txt\") as f:\n",
    "    lines = f.readlines()\n",
    "    base, hypernym = [], []\n",
    "    for line in lines:\n",
    "        words = line.strip().split()\n",
    "        base.append(words[0])\n",
    "        hypernym.append(words[2])\n",
    "\n",
    "list(zip(base, hypernym))"
   ]
  },
  {
   "cell_type": "code",
   "execution_count": 8,
   "metadata": {},
   "outputs": [],
   "source": [
    "# prompt = \"\"\"superman is Clark Kent\n",
    "# flash is Barry Allen\n",
    "# Wolverine is\"\"\"\n",
    "\n",
    "# txt, ret_dict = model_utils.generate_fast(\n",
    "#     model, tokenizer, \n",
    "#     prompts=[prompt], max_new_tokens=10, \n",
    "#     get_answer_tokens=True, argmax_greedy=True\n",
    "# )\n",
    "# txt"
   ]
  },
  {
   "cell_type": "code",
   "execution_count": 9,
   "metadata": {},
   "outputs": [
    {
     "name": "stdout",
     "output_type": "stream",
     "text": [
      "oak >> tree ===> [(' tree', 0.3376), (' hard', 0.1385), (' fruit', 0.0916), (' kind', 0.064), (' type', 0.062)] :: True\n",
      "dog >> animal ===> [(' mammal', 0.6353), (' dog', 0.0746), (' pet', 0.0439), (' carniv', 0.0283), (' animal', 0.0275)] :: False\n",
      "opera >> music ===> [(' musical', 0.457), (' type', 0.0879), (' music', 0.0478), (' form', 0.0375), (' play', 0.0355)] :: False\n",
      "tea >> drink ===> [(' beverage', 0.4783), (' drink', 0.4287), (' liquid', 0.0613), (' plant', 0.0038), (' fluid', 0.0032)] :: False\n",
      "diamond >> gem ===> [(' gem', 0.4329), (' mineral', 0.152), (' precious', 0.0669), (' stone', 0.0471), (' material', 0.0186)] :: True\n",
      "happiness >> feeling ===> [(' feeling', 0.7178), (' mood', 0.1692), (' state', 0.0246), (' emotion', 0.0156), (' word', 0.0102)] :: True\n",
      "family >> group ===> [(' group', 0.7422), (' social', 0.0302), (' set', 0.0181), (' type', 0.0125), (' grouping', 0.0124)] :: True\n",
      "apple >> fruit ===> [(' tree', 0.1466), (' fruit', 0.1421), (' kind', 0.0869), (' plant', 0.0785), (' type', 0.0565)] :: False\n",
      "comfort >> satisfaction ===> [(' feeling', 0.1254), (' word', 0.072), (' good', 0.0407), (' service', 0.0401), (' verb', 0.0395)] :: False\n",
      "grandma >> grandparent ===> [(' woman', 0.4922), (' person', 0.2004), (' female', 0.1179), (' l', 0.0267), (' girl', 0.0232)] :: False\n",
      "thesaurus >> dictionary ===> [(' dictionary', 0.6001), (' collection', 0.0516), (' reference', 0.0336), (' classification', 0.0296), (' book', 0.022)] :: True\n",
      "crow >> bird ===> [(' bird', 0.877), (' mammal', 0.0102), (' person', 0.01), (' small', 0.007), (' kind', 0.005)] :: True\n",
      "tennis >> sport ===> [(' sport', 0.6182), (' game', 0.193), (' ball', 0.1161), (' sports', 0.0134), (' court', 0.0062)] :: True\n",
      "salmon >> fish ===> [(' fish', 0.9102), (' type', 0.0152), (' food', 0.0122), (' kind', 0.0076), (' freshwater', 0.0061)] :: True\n",
      "health >> condition ===> [(' state', 0.1134), (' virtue', 0.0631), (' condition', 0.0588), (' good', 0.0515), (' word', 0.0444)] :: False\n",
      "flower >> plant ===> [(' plant', 0.6138), (' flower', 0.0994), (' part', 0.0411), (' reproductive', 0.0298), (' vegetable', 0.0144)] :: True\n",
      "jacket >> garment ===> [(' clothing', 0.1118), (' hat', 0.0799), (' type', 0.0647), (' piece', 0.0536), (' cloth', 0.0516)] :: False\n",
      "tiger >> cat ===> [(' mammal', 0.1876), (' large', 0.1427), (' carniv', 0.1138), (' big', 0.1044), (' wild', 0.0542)] :: False\n",
      "green >> colour ===> [(' color', 0.7095), (' colour', 0.2064), (' leaf', 0.0104), (' shade', 0.0094), (' flower', 0.0089)] :: False\n",
      "unicorn >> creature ===> [(' horn', 0.2629), (' rep', 0.1088), (' be', 0.0991), (' mammal', 0.0901), (' horse', 0.0406)] :: False\n",
      "hat >> headdress ===> [(' hat', 0.49), (' head', 0.1288), (' gar', 0.0529), (' piece', 0.0405), (' cap', 0.0344)] :: False\n",
      "go >> move ===> [(' verb', 0.4792), (' word', 0.1157), (' game', 0.0517), (' noun', 0.0242), (' bird', 0.0216)] :: False\n",
      "writer >> literate ===> [(' person', 0.6069), (' human', 0.2869), (' man', 0.041), (' type', 0.0048), (' writer', 0.0047)] :: False\n",
      "ultramarine >> blue ===> [(' color', 0.4731), (' flower', 0.1882), (' colour', 0.1098), (' pigment', 0.0544), (' dye', 0.031)] :: False\n",
      "rosemary >> herb ===> [(' herb', 0.4619), (' plant', 0.2673), (' shrub', 0.0539), (' flowering', 0.0506), (' flower', 0.0343)] :: True\n",
      "prose >> genre ===> [(' type', 0.1175), (' book', 0.1045), (' literary', 0.077), (' written', 0.0696), (' form', 0.0644)] :: False\n",
      "cucumber >> vegetable ===> [(' vegetable', 0.5771), (' fruit', 0.2424), (' plant', 0.0545), (' green', 0.0117), (' type', 0.0096)] :: True\n",
      "computer >> machine ===> [(' device', 0.4077), (' machine', 0.3174), (' tool', 0.0379), (' thing', 0.0337), (' piece', 0.0253)] :: False\n",
      "roulette >> game ===> [(' game', 0.7095), (' gambling', 0.1088), (' cas', 0.0249), (' wheel', 0.0232), (' spinning', 0.0154)] :: True\n",
      "emerald >> gemstone ===> [(' gem', 0.7485), (' stone', 0.0724), (' mineral', 0.0639), (' precious', 0.0379), (' metal', 0.0118)] :: False\n",
      "cow >> cattle ===> [(' mammal', 0.7275), (' cow', 0.0465), (' domestic', 0.0289), (' farm', 0.0158), (' rum', 0.014)] :: False\n",
      "physics >> science ===> [(' science', 0.2408), (' subject', 0.2142), (' field', 0.2012), (' branch', 0.0839), (' study', 0.0301)] :: True\n",
      "earth >> planet ===> [(' planet', 0.2333), (' material', 0.0832), (' substance', 0.0485), (' soil', 0.0396), (' mineral', 0.0378)] :: True\n",
      "grocery >> market ===> [(' store', 0.4724), (' place', 0.157), (' shop', 0.0789), (' business', 0.0765), (' food', 0.0233)] :: False\n",
      "fork >> utensil ===> [(' tool', 0.3899), (' ut', 0.1401), (' knife', 0.1041), (' device', 0.0566), (' piece', 0.032)] :: False\n",
      "sun >> star ===> [(' star', 0.3674), (' light', 0.0685), (' weather', 0.0396), (' planet', 0.0364), (' part', 0.0316)] :: True\n",
      "room >> area ===> [(' place', 0.375), (' building', 0.2537), (' house', 0.078), (' room', 0.0448), (' space', 0.0354)] :: False\n",
      "roof >> cover ===> [(' building', 0.207), (' structure', 0.1991), (' surface', 0.0876), (' flat', 0.0677), (' house', 0.0427)] :: False\n",
      "nut >> seed ===> [(' fruit', 0.377), (' seed', 0.2612), (' nut', 0.0909), (' tree', 0.0514), (' food', 0.0417)] :: False\n",
      "necklace >> jewellery ===> [(' nec', 0.2529), (' string', 0.1545), (' ring', 0.0457), (' chain', 0.0453), (' piece', 0.0379)] :: False\n",
      "flirt >> play ===> [(' woman', 0.1267), (' person', 0.1093), (' girl', 0.0745), (' man', 0.0642), (' word', 0.0576)] :: False\n",
      "romance >> relationship ===> [(' rom', 0.0985), (' love', 0.0869), (' type', 0.075), (' novel', 0.0584), (' story', 0.0548)] :: False\n",
      "communication >> act ===> [(' way', 0.1896), (' verb', 0.1124), (' form', 0.0574), (' means', 0.0535), (' process', 0.0426)] :: False\n",
      "coffee >> beverage ===> [(' beverage', 0.6816), (' drink', 0.2842), (' liquid', 0.0066), (' plant', 0.0038), (' coffee', 0.0017)] :: True\n",
      "citadel >> building ===> [(' castle', 0.3628), (' fort', 0.1796), (' building', 0.0778), (' city', 0.0645), (' place', 0.0423)] :: False\n",
      "car >> vehicle ===> [(' vehicle', 0.4792), (' car', 0.1497), (' motor', 0.1045), (' transport', 0.0286), (' type', 0.0235)] :: True\n",
      "planning >> thought ===> [(' job', 0.1102), (' process', 0.095), (' skill', 0.0563), (' way', 0.0501), (' task', 0.0497)] :: False\n",
      "love >> emotion ===> [(' feeling', 0.7324), (' word', 0.0385), (' relationship', 0.0226), (' verb', 0.0195), (' mood', 0.0135)] :: False\n",
      "yellow >> color ===> [(' color', 0.7979), (' colour', 0.1621), (' shade', 0.0146), (' flower', 0.0069), (' hue', 0.0029)] :: True\n",
      "table >> furniture ===> [(' surface', 0.2939), (' flat', 0.1116), (' place', 0.0939), (' table', 0.0646), (' piece', 0.0483)] :: False\n",
      "offer >> message ===> [(' verb', 0.2306), (' request', 0.0703), (' gre', 0.0703), (' verbal', 0.0579), (' gesture', 0.0544)] :: False\n",
      "home >> abode ===> [(' place', 0.5215), (' building', 0.1787), (' house', 0.0652), (' d', 0.0648), (' location', 0.0222)] :: False\n",
      "show >> amusement ===> [(' performance', 0.1963), (' musical', 0.0481), (' game', 0.0445), (' concert', 0.0431), (' type', 0.0418)] :: False\n",
      "fan >> device ===> [(' device', 0.3022), (' piece', 0.1138), (' fan', 0.0735), (' tool', 0.0629), (' machine', 0.0453)] :: True\n",
      "sister >> member ===> [(' person', 0.1836), (' female', 0.1185), (' woman', 0.1149), (' girl', 0.1079), (' sister', 0.0887)] :: False\n",
      "meter >> measure ===> [(' unit', 0.4893), (' measure', 0.2384), (' measurement', 0.0673), (' length', 0.0652), (' distance', 0.0386)] :: False\n",
      "judaism >> religion ===> [(' religion', 0.8955), (' faith', 0.035), (' religious', 0.0326), (' belief', 0.0063), (' relig', 0.003)] :: True\n",
      "work >> activity ===> [(' job', 0.2559), (' business', 0.0549), (' profession', 0.0466), (' process', 0.0455), (' person', 0.0411)] :: False\n",
      "success >> prosperity ===> [(' result', 0.1544), (' number', 0.1156), (' good', 0.0497), (' positive', 0.0493), (' thing', 0.0412)] :: False\n",
      "monarchy >> state ===> [(' political', 0.2944), (' government', 0.1744), (' country', 0.1527), (' state', 0.0488), (' social', 0.0234)] :: False\n",
      "party >> pastime ===> [(' social', 0.1918), (' gathering', 0.0594), (' place', 0.0594), (' party', 0.0549), (' group', 0.0545)] :: False\n",
      "summer >> season ===> [(' season', 0.6465), (' time', 0.1007), (' warm', 0.0842), (' hot', 0.0286), (' period', 0.0213)] :: True\n",
      "meat >> food ===> [(' food', 0.6416), (' meat', 0.0698), (' product', 0.0426), (' protein', 0.0343), (' type', 0.0335)] :: True\n",
      "doll >> toy ===> [(' toy', 0.3652), (' doll', 0.1158), (' cre', 0.0522), (' small', 0.0514), (' pet', 0.0305)] :: True\n",
      "art >> creation ===> [(' work', 0.2015), (' form', 0.0945), (' medium', 0.0486), (' creative', 0.045), (' skill', 0.0339)] :: False\n",
      "friend >> associate ===> [(' person', 0.5415), (' human', 0.2832), (' man', 0.0236), (' male', 0.0095), (' ', 0.0086)] :: False\n",
      "lion >> predator ===> [(' mammal', 0.3723), (' carniv', 0.0745), (' wild', 0.0448), (' big', 0.0392), (' lion', 0.0344)] :: False\n",
      "gold >> metal ===> [(' metal', 0.7407), (' precious', 0.1002), (' material', 0.028), (' coin', 0.0244), (' mineral', 0.01)] :: True\n",
      "rumba >> dance ===> [(' leaf', 0.2263), (' plant', 0.124), (' grass', 0.1012), (' fruit', 0.0577), (' vegetable', 0.0396)] :: False\n",
      "round >> shape ===> [(' shape', 0.8403), (' geometric', 0.0201), (' geometrical', 0.0096), (' form', 0.0078), (' circle', 0.0073)] :: True\n",
      "mother >> parent ===> [(' woman', 0.5386), (' female', 0.1655), (' person', 0.1543), (' human', 0.0633), (' ', 0.0073)] :: False\n",
      "cookie >> cake ===> [(' food', 0.2759), (' sn', 0.1224), (' sweet', 0.0506), (' b', 0.045), (' dish', 0.0443)] :: False\n",
      "nature >> world ===> [(' place', 0.2041), (' forest', 0.0533), (' thing', 0.0375), (' natural', 0.0349), (' tree', 0.0316)] :: False\n",
      "breeze >> wind ===> [(' wind', 0.5933), (' weather', 0.1476), (' natural', 0.0257), (' type', 0.0148), (' sound', 0.0132)] :: True\n",
      "bakery >> store ===> [(' business', 0.3911), (' place', 0.3293), (' food', 0.0538), (' shop', 0.0393), (' store', 0.035)] :: False\n",
      "lollipop >> candy ===> [(' sweet', 0.366), (' cand', 0.3083), (' drink', 0.0462), (' toy', 0.0371), (' small', 0.0365)] :: False\n",
      "charity >> gift ===> [(' cause', 0.0927), (' non', 0.0667), (' charity', 0.058), (' social', 0.0536), (' service', 0.0512)] :: False\n",
      "power >> quality ===> [(' verb', 0.1915), (' state', 0.0898), (' device', 0.0386), (' thing', 0.036), (' word', 0.036)] :: False\n",
      "man >> human ===> [(' human', 0.4768), (' person', 0.3772), (' male', 0.0305), (' man', 0.0221), (' noun', 0.0098)] :: True\n",
      "hologram >> picture ===> [(' picture', 0.1432), (' ', 0.1048), (' three', 0.091), ('\\n', 0.0354), (' visual', 0.0265)] :: True\n",
      "paper >> material ===> [(' material', 0.3396), (' sheet', 0.0586), (' type', 0.0442), (' thing', 0.0418), (' product', 0.0347)] :: True\n",
      "ear >> organ ===> [(' part', 0.3767), (' structure', 0.0596), (' body', 0.0439), (' mammal', 0.0203), (' hollow', 0.0186)] :: False\n",
      "photographer >> person ===> [(' person', 0.7612), (' man', 0.0407), (' professional', 0.0317), (' type', 0.0239), (' profession', 0.0195)] :: True\n",
      "birthday >> date ===> [(' celeb', 0.2303), (' hol', 0.1499), (' date', 0.108), (' day', 0.1055), (' party', 0.0596)] :: False\n",
      "allergy >> reaction ===> [(' disease', 0.2976), (' reaction', 0.1509), (' medical', 0.1086), (' condition', 0.1013), (' health', 0.0568)] :: False\n",
      "snake >> reptile ===> [(' rep', 0.8438), (' cre', 0.0322), (' vertebrate', 0.0105), (' snake', 0.0101), (' type', 0.0095)] :: False\n",
      "curiosity >> attention ===> [(' thing', 0.1038), (' type', 0.0821), (' book', 0.0482), (' question', 0.0337), (' word', 0.0297)] :: False\n",
      "drawing >> artwork ===> [(' picture', 0.3909), (' drawing', 0.0943), (' piece', 0.0449), (' painting', 0.0402), (' visual', 0.0328)] :: False\n",
      "documentary >> film ===> [(' film', 0.3481), (' type', 0.1938), (' movie', 0.1893), (' documentary', 0.0316), (' genre', 0.0271)] :: True\n",
      "pie >> pastry ===> [(' d', 0.3184), (' food', 0.2024), (' dish', 0.1075), (' sweet', 0.036), (' sn', 0.0194)] :: False\n",
      "griffin >> monster ===> [(' bird', 0.6646), (' cre', 0.0363), (' mammal', 0.0264), (' rep', 0.0219), (' myth', 0.0164)] :: False\n",
      "anesthetic >> drug ===> [(' drug', 0.4739), (' medicine', 0.27), (' chemical', 0.0602), (' substance', 0.0557), (' medication', 0.036)] :: True\n",
      "superhero >> character ===> [(' person', 0.3945), (' character', 0.1486), (' fictional', 0.0685), (' comic', 0.0555), (' type', 0.0518)] :: False\n",
      "salad >> dish ===> [(' dish', 0.302), (' food', 0.2522), (' vegetable', 0.2209), (' meal', 0.0412), (' sal', 0.0299)] :: True\n",
      "sweetie >> lover ===> [(' toy', 0.0906), (' bird', 0.0892), (' flower', 0.0734), (' type', 0.0424), (' kind', 0.0411)] :: False\n",
      "female >> gender ===> [(' person', 0.2542), (' woman', 0.1904), (' female', 0.135), (' gender', 0.0415), (' human', 0.0363)] :: False\n",
      "rabbit >> pet ===> [(' mammal', 0.7529), (' small', 0.0393), (' rabbit', 0.039), (' rodent', 0.0111), (' fur', 0.011)] :: False\n",
      "head >> body ===> [(' part', 0.1693), (' noun', 0.0478), (' person', 0.0352), (' group', 0.0321), (' face', 0.029)] :: False\n",
      "time >> instance ===> [(' number', 0.079), (' day', 0.0778), (' date', 0.0649), (' period', 0.061), (' season', 0.0494)] :: False\n",
      "thumb >> finger ===> [(' finger', 0.2922), (' hand', 0.1516), (' part', 0.1317), (' digit', 0.1277), (' small', 0.0414)] :: True\n"
     ]
    }
   ],
   "source": [
    "prompt = \"\"\"oak is a tree\n",
    "apple is a fruit\n",
    "{} is a\"\"\"\n",
    "\n",
    "filter_by_model_knowledge = []\n",
    "for bs, hyper in zip(base, hypernym):\n",
    "    txt, ret_dict = model_utils.generate_fast(\n",
    "        model, tokenizer, \n",
    "        prompts=[prompt.format(bs)], max_new_tokens=10, \n",
    "        get_answer_tokens=True, argmax_greedy=True\n",
    "    )\n",
    "    # tick = hyper.startswith(ret_dict['answer'][0]['top_token'].strip())\n",
    "    tick = hyper == ret_dict['answer'][0]['top_token'].strip()\n",
    "    print(f\"{bs} >> {hyper} ===> {[(ans['token'], ans['p']) for ans in ret_dict['answer'][0]['candidates']]} :: {tick}\")\n",
    "    if(tick):\n",
    "        filter_by_model_knowledge.append((bs, hyper))\n"
   ]
  },
  {
   "cell_type": "code",
   "execution_count": 10,
   "metadata": {},
   "outputs": [
    {
     "data": {
      "text/plain": [
       "34"
      ]
     },
     "execution_count": 10,
     "metadata": {},
     "output_type": "execute_result"
    }
   ],
   "source": [
    "len(filter_by_model_knowledge)"
   ]
  },
  {
   "cell_type": "code",
   "execution_count": 12,
   "metadata": {},
   "outputs": [],
   "source": [
    "objects = [\" \" + o[1] for o in filter_by_model_knowledge]\n",
    "\n",
    "from relations.corner import CornerEstimator\n",
    "corner_estimator = CornerEstimator(\n",
    "    model=model, tokenizer=tokenizer,\n",
    "    ln_f_name= \"model.decoder.final_layer_norm\", \n",
    "    unembedder_module_name=\"lm_head\"\n",
    ")"
   ]
  },
  {
   "cell_type": "code",
   "execution_count": 15,
   "metadata": {},
   "outputs": [
    {
     "name": "stdout",
     "output_type": "stream",
     "text": [
      "28.171875 [(' bird', 39.188), (' plant', 37.25), (' fish', 35.812), (' food', 33.125), (' game', 32.438)]\n"
     ]
    }
   ],
   "source": [
    "simple_corner = corner_estimator.estimate_simple_corner(objects, scale_up=70)\n",
    "print(simple_corner.norm().item(), corner_estimator.get_vocab_representation(simple_corner, get_logits=True))"
   ]
  },
  {
   "cell_type": "code",
   "execution_count": 16,
   "metadata": {},
   "outputs": [
    {
     "name": "stdout",
     "output_type": "stream",
     "text": [
      "calculating inverse of unbedding weights . . .\n",
      "18.265625 [(' plant', 23.969), (' bird', 22.859), (' game', 21.344), (' person', 20.828), (' drug', 20.594)]\n"
     ]
    }
   ],
   "source": [
    "lin_inv_corner = corner_estimator.estimate_lin_inv_corner(objects, target_logit_value=50)\n",
    "print(lin_inv_corner.norm().item(), corner_estimator.get_vocab_representation(lin_inv_corner, get_logits=True))"
   ]
  },
  {
   "cell_type": "code",
   "execution_count": 17,
   "metadata": {},
   "outputs": [
    {
     "name": "stdout",
     "output_type": "stream",
     "text": [
      "131.875 [(' galaxy', 24.406), (' material', 24.266), (' group', 24.266), (' star', 24.266), (' human', 24.266)]\n"
     ]
    }
   ],
   "source": [
    "lst_sq_corner = corner_estimator.estimate_corner_lstsq_solve(objects, target_logit=50)\n",
    "print(lst_sq_corner.norm().item(), corner_estimator.get_vocab_representation(lst_sq_corner, get_logits=True))"
   ]
  },
  {
   "cell_type": "code",
   "execution_count": 18,
   "metadata": {},
   "outputs": [],
   "source": [
    "# avg_corner = corner_estimator.estimate_average_corner_with_gradient_descent(objects, average_on=5, target_logit_value=50, verbose=False)\n",
    "# print(avg_corner.norm().item(), corner_estimator.get_vocab_representation(avg_corner))"
   ]
  },
  {
   "cell_type": "code",
   "execution_count": 19,
   "metadata": {},
   "outputs": [],
   "source": [
    "def check_with_test_cases(relation_operator):\n",
    "    test_cases = [\n",
    "        (b, -1, h) for b, h in filter_by_model_knowledge[20:]\n",
    "    ]\n",
    "    for subject, subject_token_index, target in test_cases:\n",
    "        answer = relation_operator(\n",
    "            subject,\n",
    "            subject_token_index=subject_token_index,\n",
    "            device=model.device,\n",
    "            return_top_k=5,\n",
    "        )\n",
    "        print(f\"{subject}, target: {target}   ==>   predicted: {answer}\")"
   ]
  },
  {
   "cell_type": "code",
   "execution_count": 21,
   "metadata": {},
   "outputs": [
    {
     "name": "stdout",
     "output_type": "stream",
     "text": [
      "summer, target: season   ==>   predicted: [' season', ' group', ' color', ' wind', ' plant']\n",
      "meat, target: food   ==>   predicted: [' science', ' group', ' color', ' plant', ' food']\n",
      "doll, target: toy   ==>   predicted: [' tree', ' shape', ' fish', ' star', ' group']\n",
      "gold, target: metal   ==>   predicted: [' metal', ' tree', ' wind', ' star', ' color']\n",
      "round, target: shape   ==>   predicted: [' shape', ' plant', ' wind', ' food', ' color']\n",
      "breeze, target: wind   ==>   predicted: [' color', ' tree', ' metal', ' plant', ' season']\n",
      "man, target: human   ==>   predicted: [' group', ' person', ' plant', ' color', ' food']\n",
      "hologram, target: picture   ==>   predicted: [' metal', ' color', ' device', ' tree', ' plant']\n",
      "paper, target: material   ==>   predicted: [' science', ' plant', ' wind', ' material', ' group']\n",
      "photographer, target: person   ==>   predicted: [' group', ' fish', ' tree', ' game', ' drug']\n",
      "documentary, target: film   ==>   predicted: [' film', ' material', ' science', ' group', ' star']\n",
      "anesthetic, target: drug   ==>   predicted: [' group', ' plant', ' drug', ' color', ' material']\n",
      "salad, target: dish   ==>   predicted: [' tree', ' group', ' plant', ' food', ' color']\n",
      "thumb, target: finger   ==>   predicted: [' group', ' food', ' tree', ' shape', ' plant']\n"
     ]
    }
   ],
   "source": [
    "relation = estimate.RelationOperator(\n",
    "    model = model,\n",
    "    tokenizer = tokenizer,\n",
    "    relation = prompt,\n",
    "    layer = 15,\n",
    "    weight = torch.eye(getattr(model.config, n_embd_field)).to(model.dtype).to(model.device),\n",
    "    bias = lst_sq_corner,\n",
    "\n",
    "    layer_name_format = \"model.decoder.layers.{}\",\n",
    "    ln_f_name = \"model.decoder.final_layer_norm\"\n",
    ")\n",
    "check_with_test_cases(relation)"
   ]
  },
  {
   "cell_type": "code",
   "execution_count": 22,
   "metadata": {},
   "outputs": [],
   "source": [
    "def get_averaged_JB(top_performers, relation_prompt, num_icl = 3, calculate_at_lnf = False):\n",
    "    try:\n",
    "        jbs = []\n",
    "        for s, s_idx, o in tqdm(top_performers):\n",
    "            others = set(top_performers) - {(s, s_idx, o)}\n",
    "            others = random.sample(list(others), k = min(num_icl, len(list(others)))) \n",
    "            prompt = \"\"\n",
    "            prompt += \"\\n\".join(relation_prompt.format(s_other) + f\" {o_other}.\" for s_other, idx_other, o_other in others) + \"\\n\"\n",
    "            prompt += relation_prompt\n",
    "            print(\"subject: \", s)\n",
    "            print(prompt)\n",
    "\n",
    "            jb, _ = estimate.relation_operator_from_sample(\n",
    "                model, tokenizer,\n",
    "                s, prompt,\n",
    "                subject_token_index= s_idx,\n",
    "                layer = 15,\n",
    "                device = model.device,\n",
    "                # calculate_at_lnf = calculate_at_lnf\n",
    "\n",
    "                layer_name_format = \"model.decoder.layers.{}\",\n",
    "                ln_f_name = \"model.decoder.final_layer_norm\",\n",
    "                n_layer_field = \"num_hidden_layers\"\n",
    "            )\n",
    "            print(jb.weight.norm(), jb.bias.norm())\n",
    "            print()\n",
    "            jbs.append(jb)\n",
    "        \n",
    "        weight = torch.stack([jb.weight for jb in jbs]).mean(dim=0)\n",
    "        bias  = torch.stack([jb.bias for jb in jbs]).mean(dim=0)\n",
    "\n",
    "        return weight, bias\n",
    "    except RuntimeError as e:\n",
    "        if(str(e).startswith(\"CUDA out of memory\")):\n",
    "            print(\"CUDA out of memory\")\n",
    "        if(num_icl > 1):\n",
    "            num_icl -= 1\n",
    "            print(\"trying with smaller icl >> \", num_icl)\n",
    "            return get_averaged_JB(top_performers, relation_prompt, num_icl, calculate_at_lnf)\n",
    "        else:\n",
    "            raise Exception(\"RuntimeError >> can't calculate Jacobian with minimum number of icl examples\")\n",
    "\n",
    "def get_multiple_averaged_JB(top_performers, relation_prompt, N = 3, num_icl = 2, calculate_at_lnf = False):\n",
    "    weights_and_biases = []\n",
    "    sample_size = min(len(top_performers), num_icl + 2)\n",
    "    for _ in tqdm(range(N)):\n",
    "        cur_sample = random.sample(top_performers, k = sample_size)\n",
    "        weight, bias = get_averaged_JB(cur_sample, relation_prompt, num_icl, calculate_at_lnf)\n",
    "        weights_and_biases.append({\n",
    "            'weight': weight,\n",
    "            'bias'  : bias\n",
    "        })\n",
    "    return weights_and_biases"
   ]
  },
  {
   "cell_type": "code",
   "execution_count": 23,
   "metadata": {},
   "outputs": [
    {
     "name": "stdout",
     "output_type": "stream",
     "text": [
      "[('oak', -1, 'tree'), ('diamond', -1, 'gem'), ('happiness', -1, 'feeling'), ('family', -1, 'group'), ('thesaurus', -1, 'dictionary'), ('crow', -1, 'bird'), ('tennis', -1, 'sport'), ('salmon', -1, 'fish'), ('flower', -1, 'plant'), ('rosemary', -1, 'herb'), ('cucumber', -1, 'vegetable'), ('roulette', -1, 'game'), ('physics', -1, 'science'), ('earth', -1, 'planet'), ('sun', -1, 'star'), ('coffee', -1, 'beverage'), ('car', -1, 'vehicle'), ('yellow', -1, 'color'), ('fan', -1, 'device'), ('judaism', -1, 'religion')]\n"
     ]
    },
    {
     "data": {
      "application/vnd.jupyter.widget-view+json": {
       "model_id": "0589753fcff74a319bddbdd904813c06",
       "version_major": 2,
       "version_minor": 0
      },
      "text/plain": [
       "  0%|          | 0/3 [00:00<?, ?it/s]"
      ]
     },
     "metadata": {},
     "output_type": "display_data"
    },
    {
     "data": {
      "application/vnd.jupyter.widget-view+json": {
       "model_id": "eb7d793af820478d9c790a86a8efc35a",
       "version_major": 2,
       "version_minor": 0
      },
      "text/plain": [
       "  0%|          | 0/4 [00:00<?, ?it/s]"
      ]
     },
     "metadata": {},
     "output_type": "display_data"
    },
    {
     "name": "stdout",
     "output_type": "stream",
     "text": [
      "subject:  cucumber\n",
      " family is a group.\n",
      " roulette is a game.\n",
      " {} is a\n",
      "tensor(43.0938, device='cuda:0', dtype=torch.float16) tensor(248.8750, device='cuda:0', dtype=torch.float16)\n",
      "\n",
      "subject:  roulette\n",
      " coffee is a beverage.\n",
      " cucumber is a vegetable.\n",
      " {} is a\n",
      "tensor(57.5938, device='cuda:0', dtype=torch.float16) tensor(274.2500, device='cuda:0', dtype=torch.float16)\n",
      "\n",
      "subject:  family\n",
      " roulette is a game.\n",
      " coffee is a beverage.\n",
      " {} is a\n",
      "tensor(46.7500, device='cuda:0', dtype=torch.float16) tensor(253.7500, device='cuda:0', dtype=torch.float16)\n",
      "\n",
      "subject:  coffee\n",
      " roulette is a game.\n",
      " cucumber is a vegetable.\n",
      " {} is a\n",
      "tensor(40.3438, device='cuda:0', dtype=torch.float16) tensor(264., device='cuda:0', dtype=torch.float16)\n",
      "\n"
     ]
    },
    {
     "data": {
      "application/vnd.jupyter.widget-view+json": {
       "model_id": "e79e747018ab493eb81bd7843e20d963",
       "version_major": 2,
       "version_minor": 0
      },
      "text/plain": [
       "  0%|          | 0/4 [00:00<?, ?it/s]"
      ]
     },
     "metadata": {},
     "output_type": "display_data"
    },
    {
     "name": "stdout",
     "output_type": "stream",
     "text": [
      "subject:  happiness\n",
      " roulette is a game.\n",
      " yellow is a color.\n",
      " {} is a\n",
      "tensor(38., device='cuda:0', dtype=torch.float16) tensor(259.7500, device='cuda:0', dtype=torch.float16)\n",
      "\n",
      "subject:  roulette\n",
      " happiness is a feeling.\n",
      " yellow is a color.\n",
      " {} is a\n",
      "tensor(53.2812, device='cuda:0', dtype=torch.float16) tensor(281.2500, device='cuda:0', dtype=torch.float16)\n",
      "\n",
      "subject:  yellow\n",
      " fan is a device.\n",
      " roulette is a game.\n",
      " {} is a\n",
      "tensor(43.8750, device='cuda:0', dtype=torch.float16) tensor(227.2500, device='cuda:0', dtype=torch.float16)\n",
      "\n",
      "subject:  fan\n",
      " roulette is a game.\n",
      " happiness is a feeling.\n",
      " {} is a\n",
      "tensor(52.8750, device='cuda:0', dtype=torch.float16) tensor(256.2500, device='cuda:0', dtype=torch.float16)\n",
      "\n"
     ]
    },
    {
     "data": {
      "application/vnd.jupyter.widget-view+json": {
       "model_id": "24ec468fe8aa458db75f7dad43c60405",
       "version_major": 2,
       "version_minor": 0
      },
      "text/plain": [
       "  0%|          | 0/4 [00:00<?, ?it/s]"
      ]
     },
     "metadata": {},
     "output_type": "display_data"
    },
    {
     "name": "stdout",
     "output_type": "stream",
     "text": [
      "subject:  happiness\n",
      " cucumber is a vegetable.\n",
      " diamond is a gem.\n",
      " {} is a\n",
      "tensor(40.4375, device='cuda:0', dtype=torch.float16) tensor(250.3750, device='cuda:0', dtype=torch.float16)\n",
      "\n",
      "subject:  diamond\n",
      " earth is a planet.\n",
      " happiness is a feeling.\n",
      " {} is a\n",
      "tensor(45.1875, device='cuda:0', dtype=torch.float16) tensor(254.3750, device='cuda:0', dtype=torch.float16)\n",
      "\n",
      "subject:  cucumber\n",
      " earth is a planet.\n",
      " happiness is a feeling.\n",
      " {} is a\n",
      "tensor(40.7812, device='cuda:0', dtype=torch.float16) tensor(249.6250, device='cuda:0', dtype=torch.float16)\n",
      "\n",
      "subject:  earth\n",
      " cucumber is a vegetable.\n",
      " diamond is a gem.\n",
      " {} is a\n",
      "tensor(49.3125, device='cuda:0', dtype=torch.float16) tensor(235.6250, device='cuda:0', dtype=torch.float16)\n",
      "\n"
     ]
    }
   ],
   "source": [
    "samples = [\n",
    "        (b, -1, h) for b, h in filter_by_model_knowledge[:20]\n",
    "    ]\n",
    "print(samples)\n",
    "\n",
    "weights_and_biases = get_multiple_averaged_JB(\n",
    "    samples, \n",
    "    relation_prompt=\" {} is a\", \n",
    "    N = 3, \n",
    "    calculate_at_lnf=False\n",
    ")"
   ]
  },
  {
   "cell_type": "code",
   "execution_count": 24,
   "metadata": {},
   "outputs": [
    {
     "name": "stdout",
     "output_type": "stream",
     "text": [
      "summer, target: season   ==>   predicted: [' season', ' color', ' wind', ' herb', ' plant']\n",
      "meat, target: food   ==>   predicted: [' food', ' dish', ' vegetable', ' material', ' meat']\n",
      "doll, target: toy   ==>   predicted: [' toy', ' shape', ' picture', ' bird', ' person']\n",
      "gold, target: metal   ==>   predicted: [' metal', ' material', ' gem', ' color', ' religion']\n",
      "round, target: shape   ==>   predicted: [' shape', ' sport', ' season', ' wind', ' galaxy']\n",
      "breeze, target: wind   ==>   predicted: [' wind', ' season', ' feeling', ' herb', ' color']\n",
      "man, target: human   ==>   predicted: [' human', ' person', ' vehicle', ' fish', ' sport']\n",
      "hologram, target: picture   ==>   predicted: [' device', ' picture', ' material', ' science', ' film']\n",
      "paper, target: material   ==>   predicted: [' material', ' wind', ' dish', ' dictionary', ' vehicle']\n",
      "photographer, target: person   ==>   predicted: [' person', ' science', ' star', ' human', ' sport']\n",
      "documentary, target: film   ==>   predicted: [' film', ' picture', ' wind', ' dish', ' science']\n",
      "anesthetic, target: drug   ==>   predicted: [' drug', ' herb', ' feeling', ' beverage', ' material']\n",
      "salad, target: dish   ==>   predicted: [' dish', ' food', ' vegetable', ' season', ' beverage']\n",
      "thumb, target: finger   ==>   predicted: [' finger', ' shape', ' fish', ' device', ' star']\n"
     ]
    }
   ],
   "source": [
    "relation_operator = estimate.RelationOperator(\n",
    "    model = model,\n",
    "    tokenizer= tokenizer,\n",
    "    relation = prompt,\n",
    "    layer = 15,\n",
    "    weight = torch.stack(\n",
    "        [wb['weight'] for wb in weights_and_biases]\n",
    "    ).mean(dim=0),\n",
    "    # bias = torch.stack(\n",
    "    #     [wb['bias'] for wb in weights_and_biases]\n",
    "    # ).mean(dim=0),\n",
    "    bias = lst_sq_corner,\n",
    "\n",
    "    layer_name_format = \"model.decoder.layers.{}\",\n",
    "    ln_f_name = \"model.decoder.final_layer_norm\",\n",
    ")\n",
    "\n",
    "check_with_test_cases(relation_operator)"
   ]
  },
  {
   "cell_type": "code",
   "execution_count": 25,
   "metadata": {},
   "outputs": [
    {
     "data": {
      "text/plain": [
       "[' type', ' kind', ' good', ' ', ' very']"
      ]
     },
     "execution_count": 25,
     "metadata": {},
     "output_type": "execute_result"
    }
   ],
   "source": [
    "corner_estimator.get_vocab_representation(\n",
    "    torch.stack(\n",
    "        [wb['bias'] for wb in weights_and_biases]\n",
    "    ).mean(dim=0)\n",
    ")"
   ]
  },
  {
   "cell_type": "code",
   "execution_count": null,
   "metadata": {},
   "outputs": [],
   "source": []
  }
 ],
 "metadata": {
  "kernelspec": {
   "display_name": "relation",
   "language": "python",
   "name": "python3"
  },
  "language_info": {
   "codemirror_mode": {
    "name": "ipython",
    "version": 3
   },
   "file_extension": ".py",
   "mimetype": "text/x-python",
   "name": "python",
   "nbconvert_exporter": "python",
   "pygments_lexer": "ipython3",
   "version": "3.10.8"
  },
  "orig_nbformat": 4,
  "vscode": {
   "interpreter": {
    "hash": "4104f34302edfbfea7294aa0a5e7d82342a152e8e30f6673f70b28d5f99d4ac0"
   }
  }
 },
 "nbformat": 4,
 "nbformat_minor": 2
}
