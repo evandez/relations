{
 "cells": [
  {
   "cell_type": "code",
   "execution_count": 1,
   "metadata": {},
   "outputs": [],
   "source": [
    "%load_ext autoreload\n",
    "%autoreload 2"
   ]
  },
  {
   "cell_type": "code",
   "execution_count": 2,
   "metadata": {},
   "outputs": [],
   "source": [
    "import torch\n",
    "import numpy as np\n",
    "import json\n",
    "from tqdm.auto import tqdm\n",
    "import random\n",
    "import transformers\n",
    "\n",
    "import os\n",
    "import sys\n",
    "sys.path.append('..')\n",
    "\n",
    "from relations import estimate\n",
    "from util import model_utils\n",
    "from baukit import nethook\n",
    "from operator import itemgetter"
   ]
  },
  {
   "cell_type": "code",
   "execution_count": 3,
   "metadata": {},
   "outputs": [
    {
     "name": "stdout",
     "output_type": "stream",
     "text": [
      "EleutherAI/gpt-j-6B ==> device: cuda:0, memory: 12219206136\n"
     ]
    }
   ],
   "source": [
    "MODEL_NAME = \"EleutherAI/gpt-j-6B\"  # gpt2-{medium,large,xl} or EleutherAI/gpt-j-6B\n",
    "mt = model_utils.ModelAndTokenizer(MODEL_NAME, low_cpu_mem_usage=True, torch_dtype=torch.float16)\n",
    "\n",
    "model = mt.model\n",
    "tokenizer = mt.tokenizer\n",
    "tokenizer.pad_token = tokenizer.eos_token\n",
    "\n",
    "print(f\"{MODEL_NAME} ==> device: {model.device}, memory: {model.get_memory_footprint()}\")"
   ]
  },
  {
   "cell_type": "code",
   "execution_count": 11,
   "metadata": {},
   "outputs": [],
   "source": [
    "with open(\"hypernym.txt\") as f:\n",
    "    lines = f.readlines()\n",
    "    base, hypernym = [], []\n",
    "    for line in lines:\n",
    "        words = line.strip().split()\n",
    "        base.append(words[0])\n",
    "        hypernym.append(words[2])\n",
    "\n",
    "# list(zip(base, hypernym))"
   ]
  },
  {
   "cell_type": "code",
   "execution_count": 15,
   "metadata": {},
   "outputs": [],
   "source": [
    "# prompt = \"\"\"superman is Clark Kent\n",
    "# flash is Barry Allen\n",
    "# Wolverine is\"\"\"\n",
    "\n",
    "# txt, ret_dict = model_utils.generate_fast(\n",
    "#     model, tokenizer, \n",
    "#     prompts=[prompt], max_new_tokens=10, \n",
    "#     get_answer_tokens=True, argmax_greedy=True\n",
    "# )\n",
    "# txt"
   ]
  },
  {
   "cell_type": "code",
   "execution_count": 16,
   "metadata": {},
   "outputs": [
    {
     "data": {
      "text/plain": [
       "[{'top_token': ' James',\n",
       "  'candidates': [{'token': ' James', 'token_id': 3700, 'p': 0.1595},\n",
       "   {'token': ' Logan', 'token_id': 22221, 'p': 0.084},\n",
       "   {'token': ' Charles', 'token_id': 7516, 'p': 0.049},\n",
       "   {'token': ' Hank', 'token_id': 24386, 'p': 0.0443},\n",
       "   {'token': ' a', 'token_id': 257, 'p': 0.0413}]}]"
      ]
     },
     "execution_count": 16,
     "metadata": {},
     "output_type": "execute_result"
    }
   ],
   "source": [
    "ret_dict['answer']"
   ]
  },
  {
   "cell_type": "code",
   "execution_count": 26,
   "metadata": {},
   "outputs": [
    {
     "name": "stdout",
     "output_type": "stream",
     "text": [
      "oak >> tree ===> [(' tree', 0.6543), (' type', 0.0712), (' fruit', 0.047), (' wood', 0.0467), (' plant', 0.026)] :: True\n",
      "dog >> animal ===> [(' mammal', 0.2701), (' domest', 0.1446), (' four', 0.0877), (' pet', 0.075), (' type', 0.0524)] :: False\n",
      "opera >> music ===> [(' form', 0.2663), (' musical', 0.2173), (' type', 0.1238), (' music', 0.0489), (' performance', 0.0418)] :: False\n",
      "tea >> drink ===> [(' drink', 0.5667), (' beverage', 0.2986), (' plant', 0.0179), (' liquid', 0.0171), (' herb', 0.0166)] :: True\n",
      "diamond >> gem ===> [(' mineral', 0.2899), (' gem', 0.281), (' stone', 0.0941), (' precious', 0.0857), (' rock', 0.0608)] :: False\n",
      "happiness >> feeling ===> [(' feeling', 0.4196), (' state', 0.2428), (' emotion', 0.0453), (' good', 0.0409), (' quality', 0.0168)] :: True\n",
      "family >> group ===> [(' group', 0.6809), (' category', 0.0361), (' collection', 0.029), (' large', 0.0195), (' grouping', 0.0189)] :: True\n",
      "apple >> fruit ===> [(' fruit', 0.296), (' tree', 0.1972), (' type', 0.0903), (' vegetable', 0.0461), (' plant', 0.0365)] :: True\n",
      "comfort >> satisfaction ===> [(' feeling', 0.5011), (' noun', 0.0452), (' state', 0.0341), (' word', 0.0177), (' thing', 0.0157)] :: False\n",
      "grandma >> grandparent ===> [(' woman', 0.5018), (' person', 0.1507), (' female', 0.0723), (' human', 0.0497), (' lady', 0.0445)] :: False\n",
      "thesaurus >> dictionary ===> [(' dictionary', 0.3075), (' tool', 0.0675), (' book', 0.066), (' word', 0.0625), (' the', 0.0522)] :: True\n",
      "crow >> bird ===> [(' bird', 0.9662), (' type', 0.0045), (' large', 0.0017), (' birds', 0.0016), (' chicken', 0.0013)] :: True\n",
      "tennis >> sport ===> [(' game', 0.506), (' sport', 0.382), (' ball', 0.0309), (' racket', 0.0277), (' rac', 0.0096)] :: False\n",
      "salmon >> fish ===> [(' fish', 0.9018), (' type', 0.0219), (' kind', 0.0179), (' food', 0.0074), (' meat', 0.0056)] :: True\n",
      "health >> condition ===> [(' state', 0.4039), (' quality', 0.0518), (' noun', 0.0409), (' condition', 0.0391), (' property', 0.0379)] :: False\n",
      "flower >> plant ===> [(' plant', 0.4818), (' type', 0.1257), (' flower', 0.0613), (' part', 0.0414), (' thing', 0.0257)] :: True\n",
      "jacket >> garment ===> [(' piece', 0.2975), (' coat', 0.2428), (' garment', 0.1833), (' clothing', 0.0486), (' cloth', 0.0435)] :: False\n",
      "tiger >> cat ===> [(' cat', 0.3382), (' mammal', 0.1754), (' wild', 0.1031), (' big', 0.0791), (' f', 0.0362)] :: True\n",
      "green >> colour ===> [(' color', 0.6287), (' colour', 0.3261), (' plant', 0.0119), (' leaf', 0.007), (' shade', 0.003)] :: False\n",
      "unicorn >> creature ===> [(' mythical', 0.3605), (' horse', 0.1703), (' myth', 0.087), (' mammal', 0.0553), (' animal', 0.0222)] :: False\n",
      "hat >> headdress ===> [(' head', 0.3713), (' piece', 0.1345), (' hat', 0.1047), (' thing', 0.0855), (' type', 0.0437)] :: False\n",
      "go >> move ===> [(' verb', 0.6246), (' motion', 0.0746), (' method', 0.0294), (' direction', 0.027), (' way', 0.0138)] :: False\n",
      "writer >> literate ===> [(' person', 0.3457), (' profession', 0.2452), (' job', 0.1054), (' human', 0.065), (' noun', 0.0284)] :: False\n",
      "ultramarine >> blue ===> [(' mineral', 0.2962), (' pigment', 0.0917), (' color', 0.0875), (' gem', 0.0592), (' colour', 0.0461)] :: False\n",
      "rosemary >> herb ===> [(' herb', 0.6591), (' plant', 0.111), (' bush', 0.0533), (' shr', 0.0415), (' perennial', 0.0153)] :: True\n",
      "prose >> genre ===> [(' form', 0.1896), (' writing', 0.0999), (' language', 0.0803), (' type', 0.0709), (' way', 0.0687)] :: False\n",
      "cucumber >> vegetable ===> [(' vegetable', 0.5675), (' ve', 0.1369), (' fruit', 0.0857), (' plant', 0.052), (' vine', 0.0392)] :: True\n",
      "computer >> machine ===> [(' machine', 0.5672), (' device', 0.0897), (' tool', 0.0657), (' piece', 0.0374), (' thing', 0.0338)] :: True\n",
      "roulette >> game ===> [(' game', 0.5464), (' wheel', 0.1774), (' casino', 0.0477), (' gambling', 0.0336), (' dice', 0.0186)] :: True\n",
      "emerald >> gemstone ===> [(' gem', 0.2902), (' jewel', 0.1603), (' stone', 0.1392), (' mineral', 0.1154), (' precious', 0.0942)] :: False\n",
      "cow >> cattle ===> [(' mammal', 0.2561), (' herb', 0.1172), (' four', 0.0689), (' animal', 0.0496), (' quadru', 0.0418)] :: False\n",
      "physics >> science ===> [(' science', 0.4322), (' branch', 0.1888), (' subject', 0.0775), (' study', 0.0594), (' field', 0.0287)] :: True\n",
      "earth >> planet ===> [(' planet', 0.8611), (' rock', 0.0153), (' ball', 0.0114), (' land', 0.0091), (' sphere', 0.0074)] :: True\n",
      "grocery >> market ===> [(' store', 0.5104), (' place', 0.1121), (' shop', 0.0747), (' supermarket', 0.0629), (' food', 0.0505)] :: False\n",
      "fork >> utensil ===> [(' tool', 0.7269), (' ut', 0.0569), (' device', 0.0241), (' thing', 0.0172), (' piece', 0.0112)] :: False\n",
      "sun >> star ===> [(' star', 0.849), (' light', 0.0233), (' planet', 0.0185), (' heavenly', 0.0095), (' ball', 0.007)] :: True\n",
      "room >> area ===> [(' place', 0.5442), (' space', 0.0961), (' building', 0.0946), (' room', 0.076), (' house', 0.0382)] :: False\n",
      "roof >> cover ===> [(' structure', 0.2559), (' covering', 0.119), (' cover', 0.1153), (' top', 0.0438), (' flat', 0.0349)] :: False\n",
      "nut >> seed ===> [(' seed', 0.4073), (' fruit', 0.1894), (' nut', 0.0968), (' tree', 0.0479), (' type', 0.0472)] :: True\n",
      "necklace >> jewellery ===> [(' necklace', 0.2605), (' piece', 0.179), (' string', 0.1461), (' chain', 0.0529), (' jewelry', 0.0387)] :: False\n",
      "flirt >> play ===> [(' verb', 0.3629), (' flower', 0.0755), (' plant', 0.0423), (' person', 0.033), (' word', 0.0282)] :: False\n",
      "romance >> relationship ===> [(' feeling', 0.551), (' state', 0.0653), (' emotion', 0.0256), (' noun', 0.0231), (' type', 0.015)] :: False\n",
      "communication >> act ===> [(' process', 0.2888), (' form', 0.0771), (' method', 0.0506), (' way', 0.0433), (' type', 0.0246)] :: False\n",
      "coffee >> beverage ===> [(' drink', 0.3794), (' bean', 0.2162), (' beverage', 0.1311), (' plant', 0.0808), (' fruit', 0.023)] :: False\n",
      "citadel >> building ===> [(' castle', 0.1837), (' fort', 0.1523), (' fortress', 0.0968), (' place', 0.0635), (' wall', 0.0587)] :: False\n",
      "car >> vehicle ===> [(' vehicle', 0.4275), (' wheel', 0.1477), (' motor', 0.0896), (' type', 0.048), (' machine', 0.0472)] :: True\n",
      "planning >> thought ===> [(' process', 0.2632), (' hobby', 0.0615), (' job', 0.056), (' profession', 0.0426), (' task', 0.0298)] :: False\n",
      "love >> emotion ===> [(' feeling', 0.6722), (' emotion', 0.0803), (' verb', 0.0645), (' flower', 0.0247), (' state', 0.0147)] :: False\n",
      "yellow >> color ===> [(' color', 0.6709), (' colour', 0.2586), (' fruit', 0.016), (' flower', 0.0089), (' car', 0.0029)] :: True\n",
      "table >> furniture ===> [(' piece', 0.2989), (' flat', 0.2328), (' furniture', 0.1152), (' thing', 0.0503), (' place', 0.0315)] :: False\n",
      "offer >> message ===> [(' verb', 0.1063), (' gift', 0.0991), (' thing', 0.0766), (' noun', 0.063), (' present', 0.0534)] :: False\n",
      "home >> abode ===> [(' house', 0.4029), (' place', 0.3042), (' building', 0.1933), (' dwelling', 0.017), (' residence', 0.0099)] :: False\n",
      "show >> amusement ===> [(' verb', 0.5531), (' type', 0.0495), (' noun', 0.0461), (' word', 0.0232), (' game', 0.0164)] :: False\n",
      "fan >> device ===> [(' person', 0.1395), (' device', 0.0639), (' type', 0.06), (' thing', 0.0546), (' wind', 0.0449)] :: False\n",
      "sister >> member ===> [(' female', 0.4755), (' woman', 0.088), (' person', 0.0826), (' sister', 0.0624), (' girl', 0.0505)] :: False\n",
      "meter >> measure ===> [(' device', 0.1731), (' measuring', 0.1731), (' measure', 0.1135), (' tool', 0.0844), (' unit', 0.0768)] :: False\n",
      "judaism >> religion ===> [(' religion', 0.8828), (' belief', 0.0189), (' religious', 0.0108), (' relig', 0.0087), (' way', 0.006)] :: True\n",
      "work >> activity ===> [(' job', 0.2247), (' verb', 0.1983), (' noun', 0.152), (' type', 0.0453), (' task', 0.0347)] :: False\n",
      "success >> prosperity ===> [(' state', 0.1593), (' result', 0.0712), (' word', 0.055), (' noun', 0.0538), (' matter', 0.0396)] :: False\n",
      "monarchy >> state ===> [(' form', 0.3517), (' system', 0.1942), (' government', 0.1912), (' political', 0.0703), (' type', 0.0257)] :: False\n",
      "party >> pastime ===> [(' gathering', 0.1998), (' celebration', 0.1709), (' social', 0.1631), (' function', 0.0456), (' party', 0.0449)] :: False\n",
      "summer >> season ===> [(' season', 0.8727), (' time', 0.092), (' period', 0.0062), (' month', 0.0059), (' plant', 0.0018)] :: True\n",
      "meat >> food ===> [(' food', 0.6674), (' part', 0.0414), (' type', 0.0354), (' flesh', 0.0194), (' product', 0.0179)] :: True\n",
      "doll >> toy ===> [(' toy', 0.5695), (' doll', 0.067), (' person', 0.0639), (' human', 0.0426), (' play', 0.0284)] :: True\n",
      "art >> creation ===> [(' form', 0.2475), (' medium', 0.1444), (' type', 0.0444), (' way', 0.0317), (' creative', 0.0291)] :: False\n",
      "friend >> associate ===> [(' person', 0.5729), (' human', 0.1259), (' noun', 0.0638), (' relation', 0.0176), (' relationship', 0.0149)] :: False\n",
      "lion >> predator ===> [(' cat', 0.299), (' mammal', 0.2154), (' big', 0.0986), (' wild', 0.0627), (' large', 0.038)] :: False\n",
      "gold >> metal ===> [(' metal', 0.5366), (' precious', 0.2918), (' mineral', 0.0515), (' yellow', 0.0195), (' metallic', 0.0157)] :: True\n",
      "rumba >> dance ===> [(' dance', 0.6926), (' type', 0.0697), (' kind', 0.0277), (' rhythm', 0.0206), (' song', 0.019)] :: True\n",
      "round >> shape ===> [(' shape', 0.6985), (' circle', 0.0714), (' ball', 0.0447), (' fruit', 0.0198), (' type', 0.015)] :: True\n",
      "mother >> parent ===> [(' female', 0.3444), (' woman', 0.2682), (' person', 0.1577), (' mother', 0.0473), (' human', 0.0418)] :: False\n",
      "cookie >> cake ===> [(' food', 0.1968), (' dessert', 0.1374), (' sweet', 0.1332), (' cake', 0.0901), (' bisc', 0.0538)] :: False\n",
      "nature >> world ===> [(' tree', 0.1505), (' thing', 0.092), (' force', 0.05), (' noun', 0.0441), (' natural', 0.0264)] :: False\n",
      "breeze >> wind ===> [(' wind', 0.606), (' breeze', 0.0724), (' gust', 0.0275), (' movement', 0.0187), (' flow', 0.0137)] :: True\n",
      "bakery >> store ===> [(' place', 0.3105), (' store', 0.1662), (' business', 0.1636), (' shop', 0.1294), (' building', 0.0583)] :: False\n",
      "lollipop >> candy ===> [(' candy', 0.3845), (' stick', 0.0858), (' sweet', 0.0689), (' conf', 0.0572), (' food', 0.0285)] :: True\n",
      "charity >> gift ===> [(' good', 0.2332), (' noun', 0.1641), (' virtue', 0.0449), (' gift', 0.0299), (' cause', 0.0258)] :: False\n",
      "power >> quality ===> [(' thing', 0.1059), (' source', 0.0781), (' force', 0.07), (' resource', 0.0477), (' noun', 0.0463)] :: False\n",
      "man >> human ===> [(' mammal', 0.5563), (' human', 0.1045), (' animal', 0.0376), (' person', 0.0356), (' bip', 0.0324)] :: False\n",
      "hologram >> picture ===> [(' 3', 0.0893), (' holog', 0.06), (' three', 0.0486), (' type', 0.0314), (' thing', 0.0275)] :: False\n",
      "paper >> material ===> [(' sheet', 0.2506), (' material', 0.2014), (' product', 0.0559), (' tree', 0.0409), (' medium', 0.039)] :: False\n",
      "ear >> organ ===> [(' part', 0.2672), (' fruit', 0.1546), (' flower', 0.1186), (' plant', 0.1186), (' structure', 0.0391)] :: False\n",
      "photographer >> person ===> [(' person', 0.5679), (' profession', 0.0913), (' job', 0.0899), (' camera', 0.0283), (' photographer', 0.0169)] :: True\n",
      "birthday >> date ===> [(' day', 0.2888), (' holiday', 0.2843), (' celebration', 0.1204), (' date', 0.0605), (' festival', 0.0486)] :: False\n",
      "allergy >> reaction ===> [(' medical', 0.221), (' disease', 0.195), (' condition', 0.0965), (' reaction', 0.0525), (' disorder', 0.0306)] :: False\n",
      "snake >> reptile ===> [(' rept', 0.7842), (' snake', 0.0334), (' type', 0.0152), (' creature', 0.0118), (' verte', 0.0109)] :: False\n",
      "curiosity >> attention ===> [(' thing', 0.0605), (' strange', 0.0498), (' small', 0.0429), (' weird', 0.0397), (' curiosity', 0.0319)] :: False\n",
      "drawing >> artwork ===> [(' form', 0.1476), (' picture', 0.0902), (' process', 0.0778), (' way', 0.061), (' medium', 0.0587)] :: False\n",
      "documentary >> film ===> [(' film', 0.3434), (' movie', 0.2435), (' type', 0.0882), (' form', 0.033), (' kind', 0.0302)] :: True\n",
      "pie >> pastry ===> [(' dessert', 0.5305), (' food', 0.1147), (' cake', 0.055), (' baked', 0.0416), (' dish', 0.0409)] :: False\n",
      "griffin >> monster ===> [(' bird', 0.3684), (' mythical', 0.1334), (' type', 0.0703), (' myth', 0.0433), (' creature', 0.033)] :: False\n",
      "anesthetic >> drug ===> [(' drug', 0.3657), (' medicine', 0.1701), (' chemical', 0.0816), (' pain', 0.0767), (' medication', 0.0544)] :: True\n",
      "superhero >> character ===> [(' person', 0.2912), (' human', 0.1097), (' superhero', 0.0975), (' fictional', 0.0502), (' hero', 0.045)] :: False\n",
      "salad >> dish ===> [(' dish', 0.2091), (' salad', 0.1681), (' vegetable', 0.0858), (' plate', 0.0723), (' mixture', 0.0529)] :: True\n",
      "sweetie >> lover ===> [(' girl', 0.14), (' dessert', 0.116), (' candy', 0.0904), (' type', 0.0484), (' person', 0.048)] :: False\n",
      "female >> gender ===> [(' gender', 0.3151), (' sex', 0.2341), (' female', 0.1293), (' person', 0.0423), (' noun', 0.0282)] :: True\n",
      "rabbit >> pet ===> [(' mammal', 0.3247), (' small', 0.1271), (' furry', 0.1252), (' rodent', 0.0601), (' animal', 0.0327)] :: False\n",
      "head >> body ===> [(' part', 0.4721), (' body', 0.1353), (' person', 0.0457), (' human', 0.0297), (' thing', 0.0254)] :: False\n",
      "time >> instance ===> [(' dimension', 0.1286), (' measure', 0.101), (' number', 0.0824), (' measurement', 0.0571), (' concept', 0.0566)] :: False\n",
      "thumb >> finger ===> [(' digit', 0.2907), (' finger', 0.1439), (' hand', 0.1417), (' bone', 0.0959), (' part', 0.0846)] :: False\n"
     ]
    }
   ],
   "source": [
    "prompt = \"\"\"oak is a tree\n",
    "apple is a fruit\n",
    "{} is a\"\"\"\n",
    "\n",
    "filter_by_model_knowledge = []\n",
    "for bs, hyper in zip(base, hypernym):\n",
    "    txt, ret_dict = model_utils.generate_fast(\n",
    "        model, tokenizer, \n",
    "        prompts=[prompt.format(bs)], max_new_tokens=10, \n",
    "        get_answer_tokens=True, argmax_greedy=True\n",
    "    )\n",
    "    # tick = hyper.startswith(ret_dict['answer'][0]['top_token'].strip())\n",
    "    tick = hyper == ret_dict['answer'][0]['top_token'].strip()\n",
    "    print(f\"{bs} >> {hyper} ===> {[(ans['token'], ans['p']) for ans in ret_dict['answer'][0]['candidates']]} :: {tick}\")\n",
    "    if(tick):\n",
    "        filter_by_model_knowledge.append((bs, hyper))\n"
   ]
  },
  {
   "cell_type": "code",
   "execution_count": 27,
   "metadata": {},
   "outputs": [
    {
     "data": {
      "text/plain": [
       "34"
      ]
     },
     "execution_count": 27,
     "metadata": {},
     "output_type": "execute_result"
    }
   ],
   "source": [
    "len(filter_by_model_knowledge)"
   ]
  },
  {
   "cell_type": "code",
   "execution_count": 28,
   "metadata": {},
   "outputs": [],
   "source": [
    "objects = [\" \" + o[1] for o in filter_by_model_knowledge]\n",
    "\n",
    "from relations.corner import CornerEstimator\n",
    "corner_estimator = CornerEstimator(model=model, tokenizer=tokenizer)"
   ]
  },
  {
   "cell_type": "code",
   "execution_count": 35,
   "metadata": {},
   "outputs": [
    {
     "data": {
      "text/plain": [
       "[' bird',\n",
       " ' candy',\n",
       " ' cat',\n",
       " ' color',\n",
       " ' dance',\n",
       " ' dictionary',\n",
       " ' dish',\n",
       " ' drink',\n",
       " ' drug',\n",
       " ' feeling',\n",
       " ' film',\n",
       " ' fish',\n",
       " ' food',\n",
       " ' fruit',\n",
       " ' game',\n",
       " ' gender',\n",
       " ' group',\n",
       " ' herb',\n",
       " ' machine',\n",
       " ' metal',\n",
       " ' person',\n",
       " ' planet',\n",
       " ' plant',\n",
       " ' religion',\n",
       " ' science',\n",
       " ' season',\n",
       " ' seed',\n",
       " ' shape',\n",
       " ' star',\n",
       " ' toy',\n",
       " ' tree',\n",
       " ' vegetable',\n",
       " ' vehicle',\n",
       " ' wind']"
      ]
     },
     "execution_count": 35,
     "metadata": {},
     "output_type": "execute_result"
    }
   ],
   "source": [
    "sorted(objects)"
   ]
  },
  {
   "cell_type": "code",
   "execution_count": 29,
   "metadata": {},
   "outputs": [
    {
     "name": "stdout",
     "output_type": "stream",
     "text": [
      "43.40625 [(' plant', 92.125), (' food', 85.438), (' tree', 84.812), (' group', 82.688), (' game', 82.688)]\n"
     ]
    }
   ],
   "source": [
    "simple_corner = corner_estimator.estimate_simple_corner(objects, scale_up=70)\n",
    "print(simple_corner.norm().item(), corner_estimator.get_vocab_representation(simple_corner, get_logits=True))"
   ]
  },
  {
   "cell_type": "code",
   "execution_count": 30,
   "metadata": {},
   "outputs": [
    {
     "name": "stdout",
     "output_type": "stream",
     "text": [
      "calculating inverse of unbedding weights . . .\n",
      "25.609375 [(' plant', 37.125), (' tree', 30.438), (' bird', 30.344), (' game', 29.578), (' fruit', 29.328)]\n"
     ]
    }
   ],
   "source": [
    "lin_inv_corner = corner_estimator.estimate_lin_inv_corner(objects, target_logit_value=50)\n",
    "print(lin_inv_corner.norm().item(), corner_estimator.get_vocab_representation(lin_inv_corner, get_logits=True))"
   ]
  },
  {
   "cell_type": "code",
   "execution_count": 39,
   "metadata": {},
   "outputs": [
    {
     "name": "stdout",
     "output_type": "stream",
     "text": [
      "87.5 [(' water', 72.438), (' car', 72.312), (' model', 69.75), (' non', 69.438), (' g', 69.25)]\n"
     ]
    }
   ],
   "source": [
    "lst_sq_corner = corner_estimator.estimate_corner_lstsq_solve(objects, target_logit=50)\n",
    "print(lst_sq_corner.norm().item(), corner_estimator.get_vocab_representation(lst_sq_corner, get_logits=True))"
   ]
  },
  {
   "cell_type": "code",
   "execution_count": 40,
   "metadata": {},
   "outputs": [],
   "source": [
    "# avg_corner = corner_estimator.estimate_average_corner_with_gradient_descent(objects, average_on=5, target_logit_value=50, verbose=False)\n",
    "# print(avg_corner.norm().item(), corner_estimator.get_vocab_representation(avg_corner))"
   ]
  },
  {
   "cell_type": "code",
   "execution_count": 41,
   "metadata": {},
   "outputs": [],
   "source": [
    "def check_with_test_cases(relation_operator):\n",
    "    test_cases = [\n",
    "        (b, -1, h) for b, h in filter_by_model_knowledge[20:]\n",
    "    ]\n",
    "    for subject, subject_token_index, target in test_cases:\n",
    "        answer = relation_operator(\n",
    "            subject,\n",
    "            subject_token_index=subject_token_index,\n",
    "            device=model.device,\n",
    "            return_top_k=5,\n",
    "        )\n",
    "        print(f\"{subject}, target: {target}   ==>   predicted: {answer}\")"
   ]
  },
  {
   "cell_type": "code",
   "execution_count": 47,
   "metadata": {},
   "outputs": [
    {
     "name": "stdout",
     "output_type": "stream",
     "text": [
      "judaism, target: religion   ==>   predicted: [' religion', ' car', ' culture', ' a', ' religious']\n",
      "summer, target: season   ==>   predicted: [' season', ' time', ' water', ' car', ' fruit']\n",
      "meat, target: food   ==>   predicted: [' car', ' food', ' water', ' cat', ' fish']\n",
      "doll, target: toy   ==>   predicted: [' car', ' child', ' toy', ' water', ' body']\n",
      "gold, target: metal   ==>   predicted: [' car', ' fish', ' water', ' metal', ' star']\n",
      "rumba, target: dance   ==>   predicted: [' dance', ' music', ' car', ' song', ' cat']\n",
      "round, target: shape   ==>   predicted: [' shape', ' water', ' car', ' fruit', ' ball']\n",
      "breeze, target: wind   ==>   predicted: [' water', ' wind', ' car', ' a', ' drink']\n",
      "lollipop, target: candy   ==>   predicted: [' candy', ' water', ' a', ' car', ' drink']\n",
      "photographer, target: person   ==>   predicted: [' car', ' person', ' man', ' water', ' a']\n",
      "documentary, target: film   ==>   predicted: [' film', ' science', ' car', ' water', ' movie']\n",
      "anesthetic, target: drug   ==>   predicted: [' car', ' drink', ' water', ' drug', ' body']\n",
      "salad, target: dish   ==>   predicted: [' water', ' dish', ' drink', ' a', ' vegetable']\n",
      "female, target: gender   ==>   predicted: [' gender', ' sex', ' car', ' person', ' water']\n"
     ]
    }
   ],
   "source": [
    "relation = estimate.RelationOperator(\n",
    "    model = model,\n",
    "    tokenizer = tokenizer,\n",
    "    relation = prompt,\n",
    "    layer = 15,\n",
    "    weight = torch.eye(model.config.n_embd).to(model.dtype).to(model.device),\n",
    "    bias = lst_sq_corner\n",
    ")\n",
    "check_with_test_cases(relation)"
   ]
  },
  {
   "cell_type": "code",
   "execution_count": 48,
   "metadata": {},
   "outputs": [],
   "source": [
    "def get_averaged_JB(top_performers, relation_prompt, num_icl = 3, calculate_at_lnf = False):\n",
    "    try:\n",
    "        jbs = []\n",
    "        for s, s_idx, o in tqdm(top_performers):\n",
    "            others = set(top_performers) - {(s, s_idx, o)}\n",
    "            others = random.sample(list(others), k = min(num_icl, len(list(others)))) \n",
    "            prompt = \"\"\n",
    "            prompt += \"\\n\".join(relation_prompt.format(s_other) + f\" {o_other}.\" for s_other, idx_other, o_other in others) + \"\\n\"\n",
    "            prompt += relation_prompt\n",
    "            print(\"subject: \", s)\n",
    "            print(prompt)\n",
    "\n",
    "            jb, _ = estimate.relation_operator_from_sample(\n",
    "                model, tokenizer,\n",
    "                s, prompt,\n",
    "                subject_token_index= s_idx,\n",
    "                layer = 15,\n",
    "                device = model.device,\n",
    "                # calculate_at_lnf = calculate_at_lnf\n",
    "            )\n",
    "            print(jb.weight.norm(), jb.bias.norm())\n",
    "            print()\n",
    "            jbs.append(jb)\n",
    "        \n",
    "        weight = torch.stack([jb.weight for jb in jbs]).mean(dim=0)\n",
    "        bias  = torch.stack([jb.bias for jb in jbs]).mean(dim=0)\n",
    "\n",
    "        return weight, bias\n",
    "    except RuntimeError as e:\n",
    "        if(str(e).startswith(\"CUDA out of memory\")):\n",
    "            print(\"CUDA out of memory\")\n",
    "        if(num_icl > 1):\n",
    "            num_icl -= 1\n",
    "            print(\"trying with smaller icl >> \", num_icl)\n",
    "            return get_averaged_JB(top_performers, relation_prompt, num_icl, calculate_at_lnf)\n",
    "        else:\n",
    "            raise Exception(\"RuntimeError >> can't calculate Jacobian with minimum number of icl examples\")\n",
    "\n",
    "def get_multiple_averaged_JB(top_performers, relation_prompt, N = 3, num_icl = 2, calculate_at_lnf = False):\n",
    "    weights_and_biases = []\n",
    "    sample_size = min(len(top_performers), num_icl + 2)\n",
    "    for _ in tqdm(range(N)):\n",
    "        cur_sample = random.sample(top_performers, k = sample_size)\n",
    "        weight, bias = get_averaged_JB(cur_sample, relation_prompt, num_icl, calculate_at_lnf)\n",
    "        weights_and_biases.append({\n",
    "            'weight': weight,\n",
    "            'bias'  : bias\n",
    "        })\n",
    "    return weights_and_biases"
   ]
  },
  {
   "cell_type": "code",
   "execution_count": 51,
   "metadata": {},
   "outputs": [
    {
     "name": "stdout",
     "output_type": "stream",
     "text": [
      "[('oak', -1, 'tree'), ('tea', -1, 'drink'), ('happiness', -1, 'feeling'), ('family', -1, 'group'), ('apple', -1, 'fruit'), ('thesaurus', -1, 'dictionary'), ('crow', -1, 'bird'), ('salmon', -1, 'fish'), ('flower', -1, 'plant'), ('tiger', -1, 'cat'), ('rosemary', -1, 'herb'), ('cucumber', -1, 'vegetable'), ('computer', -1, 'machine'), ('roulette', -1, 'game'), ('physics', -1, 'science'), ('earth', -1, 'planet'), ('sun', -1, 'star'), ('nut', -1, 'seed'), ('car', -1, 'vehicle'), ('yellow', -1, 'color')]\n"
     ]
    },
    {
     "data": {
      "application/vnd.jupyter.widget-view+json": {
       "model_id": "a504560ce73440798b441f3a1c507513",
       "version_major": 2,
       "version_minor": 0
      },
      "text/plain": [
       "  0%|          | 0/3 [00:00<?, ?it/s]"
      ]
     },
     "metadata": {},
     "output_type": "display_data"
    },
    {
     "data": {
      "application/vnd.jupyter.widget-view+json": {
       "model_id": "c9615e290184444a9f5e94017279d0ac",
       "version_major": 2,
       "version_minor": 0
      },
      "text/plain": [
       "  0%|          | 0/4 [00:00<?, ?it/s]"
      ]
     },
     "metadata": {},
     "output_type": "display_data"
    },
    {
     "name": "stdout",
     "output_type": "stream",
     "text": [
      "subject:  happiness\n",
      " salmon is a fish.\n",
      " apple is a fruit.\n",
      " {} is a\n",
      "tensor(16.3594, device='cuda:0', dtype=torch.float16) tensor(272.2500, device='cuda:0', dtype=torch.float16)\n",
      "\n",
      "subject:  salmon\n",
      " nut is a seed.\n",
      " happiness is a feeling.\n",
      " {} is a\n",
      "tensor(27.6562, device='cuda:0', dtype=torch.float16) tensor(281., device='cuda:0', dtype=torch.float16)\n",
      "\n",
      "subject:  nut\n",
      " salmon is a fish.\n",
      " apple is a fruit.\n",
      " {} is a\n",
      "tensor(27.2344, device='cuda:0', dtype=torch.float16) tensor(282.5000, device='cuda:0', dtype=torch.float16)\n",
      "\n",
      "subject:  apple\n",
      " happiness is a feeling.\n",
      " salmon is a fish.\n",
      " {} is a\n",
      "tensor(25.3281, device='cuda:0', dtype=torch.float16) tensor(310.7500, device='cuda:0', dtype=torch.float16)\n",
      "\n"
     ]
    },
    {
     "data": {
      "application/vnd.jupyter.widget-view+json": {
       "model_id": "6418742529054ce19519b0517bb68a5e",
       "version_major": 2,
       "version_minor": 0
      },
      "text/plain": [
       "  0%|          | 0/4 [00:00<?, ?it/s]"
      ]
     },
     "metadata": {},
     "output_type": "display_data"
    },
    {
     "name": "stdout",
     "output_type": "stream",
     "text": [
      "subject:  crow\n",
      " salmon is a fish.\n",
      " car is a vehicle.\n",
      " {} is a\n",
      "tensor(27.7812, device='cuda:0', dtype=torch.float16) tensor(277.7500, device='cuda:0', dtype=torch.float16)\n",
      "\n",
      "subject:  nut\n",
      " car is a vehicle.\n",
      " salmon is a fish.\n",
      " {} is a\n",
      "tensor(31.5781, device='cuda:0', dtype=torch.float16) tensor(286., device='cuda:0', dtype=torch.float16)\n",
      "\n",
      "subject:  salmon\n",
      " nut is a seed.\n",
      " car is a vehicle.\n",
      " {} is a\n",
      "tensor(28.4688, device='cuda:0', dtype=torch.float16) tensor(267.7500, device='cuda:0', dtype=torch.float16)\n",
      "\n",
      "subject:  car\n",
      " nut is a seed.\n",
      " salmon is a fish.\n",
      " {} is a\n",
      "tensor(18.2812, device='cuda:0', dtype=torch.float16) tensor(279.5000, device='cuda:0', dtype=torch.float16)\n",
      "\n"
     ]
    },
    {
     "data": {
      "application/vnd.jupyter.widget-view+json": {
       "model_id": "44f39d5206334161946f6c6bbd8a34e5",
       "version_major": 2,
       "version_minor": 0
      },
      "text/plain": [
       "  0%|          | 0/4 [00:00<?, ?it/s]"
      ]
     },
     "metadata": {},
     "output_type": "display_data"
    },
    {
     "name": "stdout",
     "output_type": "stream",
     "text": [
      "subject:  sun\n",
      " computer is a machine.\n",
      " cucumber is a vegetable.\n",
      " {} is a\n",
      "tensor(20.9688, device='cuda:0', dtype=torch.float16) tensor(280.7500, device='cuda:0', dtype=torch.float16)\n",
      "\n",
      "subject:  computer\n",
      " sun is a star.\n",
      " cucumber is a vegetable.\n",
      " {} is a\n",
      "tensor(22.6406, device='cuda:0', dtype=torch.float16) tensor(272.5000, device='cuda:0', dtype=torch.float16)\n",
      "\n",
      "subject:  cucumber\n",
      " happiness is a feeling.\n",
      " sun is a star.\n",
      " {} is a\n",
      "tensor(26.5000, device='cuda:0', dtype=torch.float16) tensor(275.7500, device='cuda:0', dtype=torch.float16)\n",
      "\n",
      "subject:  happiness\n",
      " sun is a star.\n",
      " computer is a machine.\n",
      " {} is a\n",
      "tensor(15.9375, device='cuda:0', dtype=torch.float16) tensor(237.8750, device='cuda:0', dtype=torch.float16)\n",
      "\n"
     ]
    }
   ],
   "source": [
    "samples = [\n",
    "        (b, -1, h) for b, h in filter_by_model_knowledge[:20]\n",
    "    ]\n",
    "print(samples)\n",
    "\n",
    "weights_and_biases = get_multiple_averaged_JB(\n",
    "    samples, \n",
    "    relation_prompt=\" {} is a\", \n",
    "    N = 3, \n",
    "    calculate_at_lnf=False\n",
    ")"
   ]
  },
  {
   "cell_type": "code",
   "execution_count": 56,
   "metadata": {},
   "outputs": [
    {
     "name": "stdout",
     "output_type": "stream",
     "text": [
      "judaism, target: religion   ==>   predicted: [' religion', ' car', ' water', ' d', ' g']\n",
      "summer, target: season   ==>   predicted: [' season', ' water', ' car', ' g', ' time']\n",
      "meat, target: food   ==>   predicted: [' high', ' car', ' game', ' red', ' g']\n",
      "doll, target: toy   ==>   predicted: [' toy', ' child', ' model', ' car', ' water']\n",
      "gold, target: metal   ==>   predicted: [' metal', ' car', ' g', ' water', ' color']\n",
      "rumba, target: dance   ==>   predicted: [' dance', ' car', ' g', ' game', ' d']\n",
      "round, target: shape   ==>   predicted: [' car', ' water', ' shape', ' game', ' ball']\n",
      "breeze, target: wind   ==>   predicted: [' wind', ' water', ' drink', ' season', ' car']\n",
      "lollipop, target: candy   ==>   predicted: [' candy', ' toy', ' child', ' car', ' water']\n",
      "photographer, target: person   ==>   predicted: [' car', ' water', ' high', ' film', ' d']\n",
      "documentary, target: film   ==>   predicted: [' film', ' car', ' water', ' high', ' non']\n",
      "anesthetic, target: drug   ==>   predicted: [' drug', ' non', ' car', ' water', ' high']\n",
      "salad, target: dish   ==>   predicted: [' dish', ' car', ' high', ' water', ' g']\n",
      "female, target: gender   ==>   predicted: [' sex', ' gender', ' car', ' water', ' d']\n"
     ]
    }
   ],
   "source": [
    "relation_operator = estimate.RelationOperator(\n",
    "    model = model,\n",
    "    tokenizer= tokenizer,\n",
    "    relation = prompt,\n",
    "    layer = 15,\n",
    "    weight = torch.stack(\n",
    "        [wb['weight'] for wb in weights_and_biases]\n",
    "    ).mean(dim=0),\n",
    "    # bias = torch.stack(\n",
    "    #     [wb['bias'] for wb in weights_and_biases]\n",
    "    # ).mean(dim=0),\n",
    "    bias = lst_sq_corner\n",
    ")\n",
    "\n",
    "check_with_test_cases(relation_operator)"
   ]
  },
  {
   "cell_type": "code",
   "execution_count": 77,
   "metadata": {},
   "outputs": [
    {
     "data": {
      "text/plain": [
       "[' most', ' the', '\\n', ' least', ' ']"
      ]
     },
     "execution_count": 77,
     "metadata": {},
     "output_type": "execute_result"
    }
   ],
   "source": [
    "corner_estimator.get_vocab_representation(\n",
    "    torch.stack(\n",
    "        [wb['bias'] for wb in weights_and_biases]\n",
    "    ).mean(dim=0)\n",
    ")"
   ]
  },
  {
   "cell_type": "code",
   "execution_count": 90,
   "metadata": {},
   "outputs": [
    {
     "name": "stdout",
     "output_type": "stream",
     "text": [
      "tensor([50.0028, 49.9846, 50.0143, 49.9919, 50.0005, 50.0105, 49.9887, 50.0128,\n",
      "        50.0124, 49.9906, 49.9848, 49.9848, 49.9904, 50.0138, 49.9965, 49.9854,\n",
      "        49.9973, 50.0067, 50.0075, 50.0016, 49.9978, 49.9894, 50.0059, 50.0106,\n",
      "        50.0045, 50.0000, 50.0047, 50.0028, 49.9897, 50.0096, 50.0153, 50.0059,\n",
      "        50.0144, 50.0063, 50.0045, 49.9968, 50.0085, 49.9871, 49.9907, 50.0133,\n",
      "        50.0077], device='cuda:0')\n"
     ]
    },
    {
     "data": {
      "text/plain": [
       "(torch.Size([4096]), tensor(74., device='cuda:0', dtype=torch.float16))"
      ]
     },
     "execution_count": 90,
     "metadata": {},
     "output_type": "execute_result"
    }
   ],
   "source": [
    "from typing import Any, Sequence, TypeAlias, List\n",
    "\n",
    "unembedder = nethook.get_module(model, \"lm_head\")\n",
    "ln_f = nethook.get_module(model, \"transformer.ln_f\")\n",
    "\n",
    "def estimate_corner_lstsq_solve(\n",
    "    target_words: List[str],\n",
    "    target_logit: int = 50,\n",
    "):\n",
    "    target_tokenized = tokenizer(target_words, padding=True, return_tensors=\"pt\").to(model.device)\n",
    "    # print(target_tokenized)\n",
    "    W = torch.stack([unembedder.weight[r[0].item()] for r in target_tokenized.input_ids])\n",
    "    # print(target_tokenized.input_ids.shape, W.shape)\n",
    "    b = unembedder.bias[target_tokenized.input_ids]\n",
    "    b = b.reshape(b.shape[0])\n",
    "    y = (torch.ones(len(target_words)) * target_logit).to(model.dtype).to(model.device) - b\n",
    "    # print(b.shape, y.shape)\n",
    "    if(model.dtype == torch.float16):\n",
    "        W = W.to(torch.float32)\n",
    "        y = y.to(torch.float32)\n",
    "    x = torch.linalg.lstsq(W, y).solution\n",
    "    print(W@x + b)\n",
    "    return x.to(model.dtype)\n",
    "\n",
    "corner = estimate_corner_lstsq_solve(objects)\n",
    "corner.shape, corner.norm()"
   ]
  },
  {
   "cell_type": "code",
   "execution_count": 28,
   "metadata": {},
   "outputs": [
    {
     "data": {
      "text/plain": [
       "[(' more', 75.688),\n",
       " (' lighter', 75.5),\n",
       " (' later', 74.438),\n",
       " (' lower', 74.312),\n",
       " (' better', 74.312)]"
      ]
     },
     "execution_count": 28,
     "metadata": {},
     "output_type": "execute_result"
    }
   ],
   "source": [
    "def get_vocab_representation(\n",
    "    h, \n",
    "    perform_layer_norm = True, return_top_k = 5, get_logits = False\n",
    "):\n",
    "    \"\"\"\n",
    "    get representation of vector `h` in the vocabulary space. basically applied logit lens\n",
    "    \"\"\"\n",
    "    z = h.clone()\n",
    "    if(perform_layer_norm == True):\n",
    "        z = ln_f(z)\n",
    "    logits = unembedder(z)\n",
    "    token_ids = logits.topk(dim=-1, k=return_top_k).indices.squeeze().tolist()\n",
    "    logit_values = logits.topk(dim=-1, k=return_top_k).values.squeeze().tolist()\n",
    "    return [\n",
    "        tokenizer.decode(t) if get_logits == False else (tokenizer.decode(t), np.round(v, 3))\n",
    "        for t, v in zip(token_ids, logit_values)\n",
    "    ]\n",
    "\n",
    "get_vocab_representation(corner, get_logits=True)"
   ]
  },
  {
   "cell_type": "code",
   "execution_count": null,
   "metadata": {},
   "outputs": [],
   "source": []
  }
 ],
 "metadata": {
  "kernelspec": {
   "display_name": "relation",
   "language": "python",
   "name": "python3"
  },
  "language_info": {
   "codemirror_mode": {
    "name": "ipython",
    "version": 3
   },
   "file_extension": ".py",
   "mimetype": "text/x-python",
   "name": "python",
   "nbconvert_exporter": "python",
   "pygments_lexer": "ipython3",
   "version": "3.10.8"
  },
  "orig_nbformat": 4,
  "vscode": {
   "interpreter": {
    "hash": "3439fe3f7dcaddaf51997811d25ada8e7c0985d2997d22a3ed461af94d2f9f43"
   }
  }
 },
 "nbformat": 4,
 "nbformat_minor": 2
}
