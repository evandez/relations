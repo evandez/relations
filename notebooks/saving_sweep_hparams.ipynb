{
 "cells": [
  {
   "cell_type": "code",
   "execution_count": 1,
   "metadata": {},
   "outputs": [],
   "source": [
    "%load_ext autoreload\n",
    "%autoreload 2"
   ]
  },
  {
   "cell_type": "code",
   "execution_count": 2,
   "metadata": {},
   "outputs": [],
   "source": [
    "import sys\n",
    "sys.path.append(\"..\")\n",
    "\n",
    "import numpy as np\n",
    "import matplotlib.pyplot as plt\n",
    "import os\n",
    "from src import data\n",
    "import json\n",
    "from tqdm.auto import tqdm\n",
    "from src.metrics import AggregateMetric\n",
    "\n",
    "from src.utils.sweep_utils import read_sweep_results, relation_from_dict\n",
    "import logging\n",
    "from src.utils import logging_utils\n",
    "from src import hparams\n",
    "\n",
    "# logger = logging.getLogger(__name__)\n",
    "\n",
    "# logging.basicConfig(\n",
    "#     level=logging.DEBUG,\n",
    "#     format = logging_utils.DEFAULT_FORMAT,\n",
    "#     datefmt=logging_utils.DEFAULT_DATEFMT,\n",
    "#     stream=sys.stdout\n",
    "# )"
   ]
  },
  {
   "cell_type": "code",
   "execution_count": 3,
   "metadata": {},
   "outputs": [],
   "source": [
    "############################################\n",
    "sweep_root = \"../results/sweep-24-trials\"\n",
    "model_name = \"gptj\"\n",
    "############################################\n",
    "\n",
    "sweep_path = f\"{sweep_root}/{model_name}\""
   ]
  },
  {
   "cell_type": "code",
   "execution_count": 4,
   "metadata": {},
   "outputs": [
    {
     "data": {
      "text/plain": [
       "['person occupation',\n",
       " 'landmark in country',\n",
       " 'adjective antonym',\n",
       " 'person mother',\n",
       " 'country capital city',\n",
       " 'plays pro sport',\n",
       " 'person plays instrument',\n",
       " 'person university',\n",
       " 'city in country',\n",
       " 'food from country',\n",
       " 'company hq',\n",
       " 'occupation age',\n",
       " 'word first letter',\n",
       " 'country language',\n",
       " 'object superclass',\n",
       " 'name religion',\n",
       " 'person native language',\n",
       " 'fruit outside color',\n",
       " 'superhero archnemesis',\n",
       " 'work location',\n",
       " 'landmark on continent',\n",
       " 'person lead singer of band',\n",
       " 'task person type',\n",
       " 'country largest city',\n",
       " 'country currency',\n",
       " 'fruit inside color',\n",
       " 'task done by tool',\n",
       " 'verb past tense',\n",
       " 'star constellation name',\n",
       " 'pokemon evolution',\n",
       " 'product by company',\n",
       " 'name birthplace',\n",
       " 'word last letter',\n",
       " 'word sentiment',\n",
       " 'company CEO',\n",
       " 'superhero person',\n",
       " 'person father',\n",
       " 'substance phase of matter',\n",
       " 'person sport position',\n",
       " 'adjective superlative',\n",
       " 'adjective comparative',\n",
       " 'univ degree gender']"
      ]
     },
     "execution_count": 4,
     "metadata": {},
     "output_type": "execute_result"
    }
   ],
   "source": [
    "sweep_results = read_sweep_results(\n",
    "    sweep_path, \n",
    "    # relation_names=[\"country capital city\"]\n",
    ")\n",
    "list(sweep_results.keys())"
   ]
  },
  {
   "cell_type": "code",
   "execution_count": 5,
   "metadata": {},
   "outputs": [
    {
     "data": {
      "application/vnd.jupyter.widget-view+json": {
       "model_id": "b31b0574d64747f9ad2fc4dc72c7f49c",
       "version_major": 2,
       "version_minor": 0
      },
      "text/plain": [
       "  0%|          | 0/42 [00:00<?, ?it/s]"
      ]
     },
     "metadata": {},
     "output_type": "display_data"
    }
   ],
   "source": [
    "relation_dict = {}\n",
    "for relation_name, sweep_dict in tqdm(sweep_results.items()):\n",
    "    relation_dict[relation_name] = relation_from_dict(sweep_dict)\n",
    "    "
   ]
  },
  {
   "cell_type": "code",
   "execution_count": 13,
   "metadata": {},
   "outputs": [
    {
     "name": "stdout",
     "output_type": "stream",
     "text": [
      "person occupation >> layer=8 | beta=2.2395833333333335 | rank=178 <> efficacy=0.706 | faithfulness=0.548\n",
      "landmark in country >> layer=3 | beta=4.5 | rank=127 <> efficacy=0.711 | faithfulness=0.292\n",
      "adjective antonym >> layer=8 | beta=3.28125 | rank=220 <> efficacy=0.895 | faithfulness=0.824\n",
      "person mother >> layer=7 | beta=2.0104166666666665 | rank=174 <> efficacy=0.428 | faithfulness=0.215\n",
      "country capital city >> layer=4 | beta=2.8541666666666665 | rank=53 <> efficacy=0.966 | faithfulness=0.946\n",
      "plays pro sport >> layer=6 | beta=2.3020833333333335 | rank=98 <> efficacy=0.941 | faithfulness=0.834\n",
      "person plays instrument >> layer=9 | beta=1.1458333333333333 | rank=172 <> efficacy=0.687 | faithfulness=0.660\n",
      "person university >> layer=7 | beta=0.2708333333333333 | rank=113 <> efficacy=0.940 | faithfulness=0.870\n",
      "city in country >> layer=1 | beta=3.0208333333333335 | rank=127 <> efficacy=0.956 | faithfulness=0.675\n",
      "food from country >> layer=3 | beta=3.7916666666666665 | rank=116 <> efficacy=0.963 | faithfulness=0.704\n",
      "company hq >> layer=5 | beta=3.3333333333333335 | rank=127 <> efficacy=0.526 | faithfulness=0.254\n",
      "occupation age >> layer=0 | beta=3.0 | rank=88 <> efficacy=1.000 | faithfulness=1.000\n",
      "word first letter >> layer=7 | beta=3.3333333333333335 | rank=174 <> efficacy=0.896 | faithfulness=0.654\n",
      "country language >> layer=1 | beta=2.4375 | rank=70 <> efficacy=0.988 | faithfulness=0.954\n",
      "object superclass >> layer=3 | beta=2.34375 | rank=84 <> efficacy=0.929 | faithfulness=0.847\n",
      "name religion >> layer=5 | beta=2.6931818181818183 | rank=40 <> efficacy=0.990 | faithfulness=0.931\n",
      "person native language >> layer=3 | beta=3.0416666666666665 | rank=121 <> efficacy=0.841 | faithfulness=0.640\n",
      "fruit outside color >> layer=8 | beta=1.015625 | rank=126 <> efficacy=0.849 | faithfulness=0.836\n",
      "superhero archnemesis >> layer=7 | beta=1.1956521739130435 | rank=197 <> efficacy=0.623 | faithfulness=0.384\n",
      "work location >> layer=5 | beta=3.5208333333333335 | rank=123 <> efficacy=0.887 | faithfulness=0.645\n",
      "landmark on continent >> layer=4 | beta=3.375 | rank=130 <> efficacy=0.928 | faithfulness=0.820\n",
      "person lead singer of band >> layer=9 | beta=2.34375 | rank=170 <> efficacy=0.852 | faithfulness=0.670\n",
      "task person type >> layer=8 | beta=2.8333333333333335 | rank=141 <> efficacy=0.856 | faithfulness=0.600\n",
      "country largest city >> layer=5 | beta=2.5208333333333335 | rank=62 <> efficacy=0.987 | faithfulness=0.947\n",
      "country currency >> layer=1 | beta=2.6458333333333335 | rank=81 <> efficacy=0.976 | faithfulness=0.646\n",
      "fruit inside color >> layer=3 | beta=1.0952380952380953 | rank=95 <> efficacy=0.909 | faithfulness=0.747\n",
      "task done by tool >> layer=8 | beta=2.9375 | rank=123 <> efficacy=0.755 | faithfulness=0.468\n",
      "verb past tense >> layer=10 | beta=1.4166666666666667 | rank=128 <> efficacy=0.981 | faithfulness=0.975\n",
      "star constellation name >> layer=6 | beta=4.489583333333333 | rank=218 <> efficacy=0.267 | faithfulness=0.517\n",
      "pokemon evolution >> layer=7 | beta=2.09375 | rank=209 <> efficacy=0.312 | faithfulness=0.230\n",
      "product by company >> layer=3 | beta=2.8333333333333335 | rank=172 <> efficacy=0.556 | faithfulness=0.434\n",
      "name birthplace >> layer=4 | beta=3.2291666666666665 | rank=93 <> efficacy=0.960 | faithfulness=0.878\n",
      "word last letter >> layer=6 | beta=2.533333333333333 | rank=98 <> efficacy=0.821 | faithfulness=0.659\n",
      "word sentiment >> layer=8 | beta=2.4166666666666665 | rank=59 <> efficacy=0.940 | faithfulness=0.964\n",
      "company CEO >> layer=5 | beta=2.3958333333333335 | rank=169 <> efficacy=0.293 | faithfulness=0.111\n",
      "superhero person >> layer=9 | beta=1.7708333333333333 | rank=200 <> efficacy=0.678 | faithfulness=0.483\n",
      "person father >> layer=6 | beta=1.6875 | rank=243 <> efficacy=0.353 | faithfulness=0.169\n",
      "substance phase of matter >> layer=6 | beta=1.6666666666666667 | rank=89 <> efficacy=0.972 | faithfulness=0.964\n",
      "person sport position >> layer=6 | beta=4.352941176470588 | rank=60 <> efficacy=0.783 | faithfulness=0.591\n",
      "adjective superlative >> layer=10 | beta=2.0208333333333335 | rank=156 <> efficacy=0.987 | faithfulness=0.939\n",
      "adjective comparative >> layer=8 | beta=2.4270833333333335 | rank=131 <> efficacy=0.931 | faithfulness=0.983\n",
      "univ degree gender >> layer=7 | beta=1.90625 | rank=126 <> efficacy=0.863 | faithfulness=0.902\n"
     ]
    }
   ],
   "source": [
    "for relation_name, relation in relation_dict.items():\n",
    "    best_hparams = relation.best_by_efficacy()\n",
    "    performance = f\"efficacy={best_hparams.efficacy.mean:.3f} | faithfulness={best_hparams.recall.mean:.3f}\"\n",
    "    print(f\"{relation_name} >> layer={best_hparams.layer} | beta={best_hparams.beta.mean} | rank={int(best_hparams.rank.mean)} <> {performance}\")\n",
    "\n",
    "    hparams.RelationHParams(\n",
    "        relation_name=relation.relation_name,\n",
    "        h_layer=best_hparams.layer,\n",
    "        h_layer_edit=best_hparams.layer,\n",
    "        z_layer=-1,\n",
    "        beta=best_hparams.beta.mean,\n",
    "        rank=int(np.floor(best_hparams.rank.mean)),\n",
    "        model_name=model_name,\n",
    "    ).save()"
   ]
  },
  {
   "cell_type": "code",
   "execution_count": 11,
   "metadata": {},
   "outputs": [
    {
     "name": "stdout",
     "output_type": "stream",
     "text": [
      "person occupation >> layer=12 | beta=2.2083333333333335 | rank=114 <> efficacy=0.522 | faithfulness=0.615\n",
      "landmark in country >> layer=18 | beta=4.333333333333333 | rank=82 <> efficacy=0.363 | faithfulness=0.891\n",
      "adjective antonym >> layer=8 | beta=3.28125 | rank=220 <> efficacy=0.895 | faithfulness=0.824\n",
      "person mother >> layer=12 | beta=2.0104166666666665 | rank=139 <> efficacy=0.269 | faithfulness=0.225\n",
      "country capital city >> layer=1 | beta=2.6979166666666665 | rank=63 <> efficacy=0.959 | faithfulness=0.959\n",
      "plays pro sport >> layer=18 | beta=2.96875 | rank=30 <> efficacy=0.371 | faithfulness=0.916\n",
      "person plays instrument >> layer=17 | beta=2.96875 | rank=71 <> efficacy=0.270 | faithfulness=0.714\n",
      "person university >> layer=0 | beta=1.0104166666666667 | rank=93 <> efficacy=0.919 | faithfulness=0.879\n",
      "city in country >> layer=7 | beta=2.7395833333333335 | rank=137 <> efficacy=0.931 | faithfulness=0.874\n",
      "food from country >> layer=18 | beta=1.6979166666666667 | rank=99 <> efficacy=0.718 | faithfulness=0.905\n",
      "company hq >> layer=15 | beta=3.611111111111111 | rank=67 <> efficacy=0.459 | faithfulness=0.607\n",
      "occupation age >> layer=0 | beta=3.0 | rank=88 <> efficacy=1.000 | faithfulness=1.000\n",
      "word first letter >> layer=12 | beta=2.125 | rank=85 <> efficacy=0.697 | faithfulness=0.818\n",
      "country language >> layer=8 | beta=2.0 | rank=51 <> efficacy=0.950 | faithfulness=0.982\n",
      "object superclass >> layer=9 | beta=2.34375 | rank=108 <> efficacy=0.901 | faithfulness=0.906\n",
      "name religion >> layer=10 | beta=1.8295454545454546 | rank=46 <> efficacy=0.946 | faithfulness=1.000\n",
      "person native language >> layer=18 | beta=3.3333333333333335 | rank=53 <> efficacy=0.459 | faithfulness=0.974\n",
      "fruit outside color >> layer=9 | beta=0.84375 | rank=156 <> efficacy=0.830 | faithfulness=0.853\n",
      "superhero archnemesis >> layer=9 | beta=1.3695652173913044 | rank=178 <> efficacy=0.618 | faithfulness=0.416\n",
      "work location >> layer=9 | beta=2.46875 | rank=91 <> efficacy=0.849 | faithfulness=0.738\n",
      "landmark on continent >> layer=9 | beta=2.7916666666666665 | rank=57 <> efficacy=0.876 | faithfulness=0.924\n",
      "person lead singer of band >> layer=13 | beta=2.375 | rank=159 <> efficacy=0.784 | faithfulness=0.693\n",
      "task person type >> layer=12 | beta=2.375 | rank=85 <> efficacy=0.616 | faithfulness=0.613\n",
      "country largest city >> layer=8 | beta=2.0625 | rank=70 <> efficacy=0.983 | faithfulness=0.960\n",
      "country currency >> layer=3 | beta=2.2916666666666665 | rank=71 <> efficacy=0.976 | faithfulness=0.652\n",
      "fruit inside color >> layer=7 | beta=1.1071428571428572 | rank=120 <> efficacy=0.901 | faithfulness=0.841\n",
      "task done by tool >> layer=13 | beta=2.9166666666666665 | rank=84 <> efficacy=0.427 | faithfulness=0.493\n",
      "verb past tense >> layer=12 | beta=1.1458333333333333 | rank=162 <> efficacy=0.979 | faithfulness=0.978\n",
      "star constellation name >> layer=12 | beta=4.135416666666667 | rank=128 <> efficacy=0.143 | faithfulness=0.562\n",
      "pokemon evolution >> layer=12 | beta=2.0833333333333335 | rank=157 <> efficacy=0.203 | faithfulness=0.311\n",
      "product by company >> layer=13 | beta=2.8333333333333335 | rank=92 <> efficacy=0.380 | faithfulness=0.740\n",
      "name birthplace >> layer=15 | beta=1.6145833333333333 | rank=55 <> efficacy=0.872 | faithfulness=0.984\n",
      "word last letter >> layer=10 | beta=1.7 | rank=80 <> efficacy=0.821 | faithfulness=0.795\n",
      "word sentiment >> layer=8 | beta=2.4166666666666665 | rank=59 <> efficacy=0.940 | faithfulness=0.964\n",
      "company CEO >> layer=15 | beta=2.9166666666666665 | rank=126 <> efficacy=0.141 | faithfulness=0.134\n",
      "superhero person >> layer=9 | beta=1.7708333333333333 | rank=200 <> efficacy=0.678 | faithfulness=0.483\n",
      "person father >> layer=12 | beta=1.6666666666666667 | rank=221 <> efficacy=0.183 | faithfulness=0.217\n",
      "substance phase of matter >> layer=9 | beta=1.34375 | rank=65 <> efficacy=0.966 | faithfulness=0.968\n",
      "person sport position >> layer=14 | beta=4.1911764705882355 | rank=31 <> efficacy=0.566 | faithfulness=0.764\n",
      "adjective superlative >> layer=5 | beta=3.1666666666666665 | rank=170 <> efficacy=0.982 | faithfulness=0.947\n",
      "adjective comparative >> layer=11 | beta=1.8541666666666667 | rank=128 <> efficacy=0.920 | faithfulness=0.984\n",
      "univ degree gender >> layer=8 | beta=2.625 | rank=109 <> efficacy=0.811 | faithfulness=0.925\n"
     ]
    }
   ],
   "source": [
    "for relation_name, relation in relation_dict.items():\n",
    "    best_hparams = relation.best_by_faithfulness()\n",
    "    performance = f\"efficacy={best_hparams.efficacy.mean:.3f} | faithfulness={best_hparams.recall.mean:.3f}\"\n",
    "    print(f\"{relation_name} >> layer={best_hparams.layer} | beta={best_hparams.beta.mean} | rank={int(best_hparams.rank.mean)} <> {performance}\")\n",
    "\n",
    "    hparams.RelationHParams(\n",
    "        relation_name=relation.relation_name,\n",
    "        h_layer=best_hparams.layer,\n",
    "        h_layer_edit=best_hparams.layer,\n",
    "        z_layer=-1,\n",
    "        beta=best_hparams.beta.mean,\n",
    "        rank=int(np.floor(best_hparams.rank.mean)),\n",
    "        model_name=model_name,\n",
    "    ).save()"
   ]
  },
  {
   "cell_type": "code",
   "execution_count": null,
   "metadata": {},
   "outputs": [],
   "source": []
  }
 ],
 "metadata": {
  "kernelspec": {
   "display_name": "relations",
   "language": "python",
   "name": "python3"
  },
  "language_info": {
   "codemirror_mode": {
    "name": "ipython",
    "version": 3
   },
   "file_extension": ".py",
   "mimetype": "text/x-python",
   "name": "python",
   "nbconvert_exporter": "python",
   "pygments_lexer": "ipython3",
   "version": "3.10.11"
  },
  "orig_nbformat": 4
 },
 "nbformat": 4,
 "nbformat_minor": 2
}
