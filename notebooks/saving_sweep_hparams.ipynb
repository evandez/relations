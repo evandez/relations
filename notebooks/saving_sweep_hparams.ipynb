{
 "cells": [
  {
   "cell_type": "code",
   "execution_count": 1,
   "metadata": {},
   "outputs": [],
   "source": [
    "%load_ext autoreload\n",
    "%autoreload 2"
   ]
  },
  {
   "cell_type": "code",
   "execution_count": 1,
   "metadata": {},
   "outputs": [],
   "source": [
    "import sys\n",
    "sys.path.append(\"..\")\n",
    "\n",
    "import numpy as np\n",
    "import matplotlib.pyplot as plt\n",
    "import os\n",
    "from src import data\n",
    "import json\n",
    "from tqdm.auto import tqdm\n",
    "from src.metrics import AggregateMetric\n",
    "\n",
    "from src.utils.sweep_utils import read_sweep_results, relation_from_dict\n",
    "import logging\n",
    "from src.utils import logging_utils\n",
    "\n",
    "logger = logging.getLogger(__name__)\n",
    "\n",
    "logging.basicConfig(\n",
    "    level=logging.DEBUG,\n",
    "    format = logging_utils.DEFAULT_FORMAT,\n",
    "    datefmt=logging_utils.DEFAULT_DATEFMT,\n",
    "    stream=sys.stdout\n",
    ")"
   ]
  },
  {
   "cell_type": "code",
   "execution_count": 2,
   "metadata": {},
   "outputs": [],
   "source": [
    "############################################\n",
    "sweep_root = \"../results/sweep-24-trials\"\n",
    "model_name = \"gptj\"\n",
    "############################################\n",
    "\n",
    "sweep_path = f\"{sweep_root}/{model_name}\""
   ]
  },
  {
   "cell_type": "code",
   "execution_count": 3,
   "metadata": {},
   "outputs": [
    {
     "name": "stdout",
     "output_type": "stream",
     "text": [
      "2023-07-08 15:17:50 src.utils.sweep_utils DEBUG    depth=0 || --> ../results/sweep-24-trials/gptj\n",
      "2023-07-08 15:17:50 src.utils.sweep_utils DEBUG    depth=1 ||     --> ../results/sweep-24-trials/gptj/person_occupation\n",
      "2023-07-08 15:17:50 src.utils.sweep_utils DEBUG    depth=2 ||         --> ../results/sweep-24-trials/gptj/person_occupation/1_person_occupation_seed_71745\n",
      "2023-07-08 15:17:50 src.utils.sweep_utils DEBUG    depth=3 ||             --> ../results/sweep-24-trials/gptj/person_occupation/1_person_occupation_seed_71745/args-20230629-173306.json\n",
      "2023-07-08 15:17:50 src.utils.sweep_utils DEBUG    depth=3 ||             --> ../results/sweep-24-trials/gptj/person_occupation/1_person_occupation_seed_71745/results_all.json\n",
      "2023-07-08 15:17:53 src.utils.sweep_utils DEBUG    depth=3 ||             --> ../results/sweep-24-trials/gptj/person_occupation/1_person_occupation_seed_71745/person_occupation.json\n",
      "2023-07-08 15:17:55 src.utils.sweep_utils DEBUG    depth=2 ||         --> ../results/sweep-24-trials/gptj/person_occupation/3_person_occupation_seed_709106\n",
      "2023-07-08 15:17:55 src.utils.sweep_utils DEBUG    depth=3 ||             --> ../results/sweep-24-trials/gptj/person_occupation/3_person_occupation_seed_709106/args-20230629-181740.json\n",
      "2023-07-08 15:17:55 src.utils.sweep_utils DEBUG    depth=3 ||             --> ../results/sweep-24-trials/gptj/person_occupation/3_person_occupation_seed_709106/results_all.json\n",
      "2023-07-08 15:17:57 src.utils.sweep_utils DEBUG    depth=3 ||             --> ../results/sweep-24-trials/gptj/person_occupation/3_person_occupation_seed_709106/person_occupation.json\n",
      "2023-07-08 15:18:00 src.utils.sweep_utils DEBUG    depth=2 ||         --> ../results/sweep-24-trials/gptj/person_occupation/2_person_occupation_seed_88810\n",
      "2023-07-08 15:18:00 src.utils.sweep_utils DEBUG    depth=3 ||             --> ../results/sweep-24-trials/gptj/person_occupation/2_person_occupation_seed_88810/results_all.json\n",
      "2023-07-08 15:18:03 src.utils.sweep_utils DEBUG    depth=3 ||             --> ../results/sweep-24-trials/gptj/person_occupation/2_person_occupation_seed_88810/person_occupation.json\n"
     ]
    },
    {
     "ename": "KeyboardInterrupt",
     "evalue": "",
     "output_type": "error",
     "traceback": [
      "\u001b[0;31m---------------------------------------------------------------------------\u001b[0m",
      "\u001b[0;31mKeyboardInterrupt\u001b[0m                         Traceback (most recent call last)",
      "Cell \u001b[0;32mIn[3], line 1\u001b[0m\n\u001b[0;32m----> 1\u001b[0m sweep_results \u001b[39m=\u001b[39m read_sweep_results(sweep_path, relation_names\u001b[39m=\u001b[39;49m\u001b[39m\"\u001b[39;49m\u001b[39mcountry capital city\u001b[39;49m\u001b[39m\"\u001b[39;49m)\n\u001b[1;32m      2\u001b[0m \u001b[39mlist\u001b[39m(sweep_results\u001b[39m.\u001b[39mkeys())\n",
      "File \u001b[0;32m~/Codes/relations/notebooks/../src/utils/sweep_utils.py:321\u001b[0m, in \u001b[0;36mread_sweep_results\u001b[0;34m(sweep_dir, results, depth, relation_names)\u001b[0m\n\u001b[1;32m    319\u001b[0m         \u001b[39mreturn\u001b[39;00m results\n\u001b[1;32m    320\u001b[0m     \u001b[39mfor\u001b[39;00m file \u001b[39min\u001b[39;00m os\u001b[39m.\u001b[39mlistdir(sweep_dir):\n\u001b[0;32m--> 321\u001b[0m         read_sweep_results(\n\u001b[1;32m    322\u001b[0m             \u001b[39mf\u001b[39;49m\u001b[39m\"\u001b[39;49m\u001b[39m{\u001b[39;49;00msweep_dir\u001b[39m}\u001b[39;49;00m\u001b[39m/\u001b[39;49m\u001b[39m{\u001b[39;49;00mfile\u001b[39m}\u001b[39;49;00m\u001b[39m\"\u001b[39;49m, results, depth \u001b[39m+\u001b[39;49m \u001b[39m1\u001b[39;49m, relation_names\n\u001b[1;32m    323\u001b[0m         )\n\u001b[1;32m    324\u001b[0m \u001b[39melif\u001b[39;00m sweep_dir\u001b[39m.\u001b[39mendswith(\u001b[39m\"\u001b[39m\u001b[39m.json\u001b[39m\u001b[39m\"\u001b[39m):\n\u001b[1;32m    325\u001b[0m     \u001b[39mwith\u001b[39;00m \u001b[39mopen\u001b[39m(sweep_dir) \u001b[39mas\u001b[39;00m f:\n",
      "File \u001b[0;32m~/Codes/relations/notebooks/../src/utils/sweep_utils.py:321\u001b[0m, in \u001b[0;36mread_sweep_results\u001b[0;34m(sweep_dir, results, depth, relation_names)\u001b[0m\n\u001b[1;32m    319\u001b[0m         \u001b[39mreturn\u001b[39;00m results\n\u001b[1;32m    320\u001b[0m     \u001b[39mfor\u001b[39;00m file \u001b[39min\u001b[39;00m os\u001b[39m.\u001b[39mlistdir(sweep_dir):\n\u001b[0;32m--> 321\u001b[0m         read_sweep_results(\n\u001b[1;32m    322\u001b[0m             \u001b[39mf\u001b[39;49m\u001b[39m\"\u001b[39;49m\u001b[39m{\u001b[39;49;00msweep_dir\u001b[39m}\u001b[39;49;00m\u001b[39m/\u001b[39;49m\u001b[39m{\u001b[39;49;00mfile\u001b[39m}\u001b[39;49;00m\u001b[39m\"\u001b[39;49m, results, depth \u001b[39m+\u001b[39;49m \u001b[39m1\u001b[39;49m, relation_names\n\u001b[1;32m    323\u001b[0m         )\n\u001b[1;32m    324\u001b[0m \u001b[39melif\u001b[39;00m sweep_dir\u001b[39m.\u001b[39mendswith(\u001b[39m\"\u001b[39m\u001b[39m.json\u001b[39m\u001b[39m\"\u001b[39m):\n\u001b[1;32m    325\u001b[0m     \u001b[39mwith\u001b[39;00m \u001b[39mopen\u001b[39m(sweep_dir) \u001b[39mas\u001b[39;00m f:\n",
      "File \u001b[0;32m~/Codes/relations/notebooks/../src/utils/sweep_utils.py:321\u001b[0m, in \u001b[0;36mread_sweep_results\u001b[0;34m(sweep_dir, results, depth, relation_names)\u001b[0m\n\u001b[1;32m    319\u001b[0m         \u001b[39mreturn\u001b[39;00m results\n\u001b[1;32m    320\u001b[0m     \u001b[39mfor\u001b[39;00m file \u001b[39min\u001b[39;00m os\u001b[39m.\u001b[39mlistdir(sweep_dir):\n\u001b[0;32m--> 321\u001b[0m         read_sweep_results(\n\u001b[1;32m    322\u001b[0m             \u001b[39mf\u001b[39;49m\u001b[39m\"\u001b[39;49m\u001b[39m{\u001b[39;49;00msweep_dir\u001b[39m}\u001b[39;49;00m\u001b[39m/\u001b[39;49m\u001b[39m{\u001b[39;49;00mfile\u001b[39m}\u001b[39;49;00m\u001b[39m\"\u001b[39;49m, results, depth \u001b[39m+\u001b[39;49m \u001b[39m1\u001b[39;49m, relation_names\n\u001b[1;32m    323\u001b[0m         )\n\u001b[1;32m    324\u001b[0m \u001b[39melif\u001b[39;00m sweep_dir\u001b[39m.\u001b[39mendswith(\u001b[39m\"\u001b[39m\u001b[39m.json\u001b[39m\u001b[39m\"\u001b[39m):\n\u001b[1;32m    325\u001b[0m     \u001b[39mwith\u001b[39;00m \u001b[39mopen\u001b[39m(sweep_dir) \u001b[39mas\u001b[39;00m f:\n",
      "File \u001b[0;32m~/Codes/relations/notebooks/../src/utils/sweep_utils.py:327\u001b[0m, in \u001b[0;36mread_sweep_results\u001b[0;34m(sweep_dir, results, depth, relation_names)\u001b[0m\n\u001b[1;32m    325\u001b[0m \u001b[39mwith\u001b[39;00m \u001b[39mopen\u001b[39m(sweep_dir) \u001b[39mas\u001b[39;00m f:\n\u001b[1;32m    326\u001b[0m     \u001b[39mtry\u001b[39;00m:\n\u001b[0;32m--> 327\u001b[0m         res \u001b[39m=\u001b[39m json\u001b[39m.\u001b[39;49mload(f)\n\u001b[1;32m    328\u001b[0m         \u001b[39mif\u001b[39;00m \u001b[39misinstance\u001b[39m(res, \u001b[39mdict\u001b[39m) \u001b[39mand\u001b[39;00m \u001b[39m\"\u001b[39m\u001b[39mrelation_name\u001b[39m\u001b[39m\"\u001b[39m \u001b[39min\u001b[39;00m res:\n\u001b[1;32m    329\u001b[0m             \u001b[39mif\u001b[39;00m res[\u001b[39m\"\u001b[39m\u001b[39mrelation_name\u001b[39m\u001b[39m\"\u001b[39m] \u001b[39mnot\u001b[39;00m \u001b[39min\u001b[39;00m results:\n",
      "File \u001b[0;32m~/miniconda3/envs/relations/lib/python3.10/json/__init__.py:293\u001b[0m, in \u001b[0;36mload\u001b[0;34m(fp, cls, object_hook, parse_float, parse_int, parse_constant, object_pairs_hook, **kw)\u001b[0m\n\u001b[1;32m    274\u001b[0m \u001b[39mdef\u001b[39;00m \u001b[39mload\u001b[39m(fp, \u001b[39m*\u001b[39m, \u001b[39mcls\u001b[39m\u001b[39m=\u001b[39m\u001b[39mNone\u001b[39;00m, object_hook\u001b[39m=\u001b[39m\u001b[39mNone\u001b[39;00m, parse_float\u001b[39m=\u001b[39m\u001b[39mNone\u001b[39;00m,\n\u001b[1;32m    275\u001b[0m         parse_int\u001b[39m=\u001b[39m\u001b[39mNone\u001b[39;00m, parse_constant\u001b[39m=\u001b[39m\u001b[39mNone\u001b[39;00m, object_pairs_hook\u001b[39m=\u001b[39m\u001b[39mNone\u001b[39;00m, \u001b[39m*\u001b[39m\u001b[39m*\u001b[39mkw):\n\u001b[1;32m    276\u001b[0m \u001b[39m    \u001b[39m\u001b[39m\"\"\"Deserialize ``fp`` (a ``.read()``-supporting file-like object containing\u001b[39;00m\n\u001b[1;32m    277\u001b[0m \u001b[39m    a JSON document) to a Python object.\u001b[39;00m\n\u001b[1;32m    278\u001b[0m \n\u001b[0;32m   (...)\u001b[0m\n\u001b[1;32m    291\u001b[0m \u001b[39m    kwarg; otherwise ``JSONDecoder`` is used.\u001b[39;00m\n\u001b[1;32m    292\u001b[0m \u001b[39m    \"\"\"\u001b[39;00m\n\u001b[0;32m--> 293\u001b[0m     \u001b[39mreturn\u001b[39;00m loads(fp\u001b[39m.\u001b[39;49mread(),\n\u001b[1;32m    294\u001b[0m         \u001b[39mcls\u001b[39;49m\u001b[39m=\u001b[39;49m\u001b[39mcls\u001b[39;49m, object_hook\u001b[39m=\u001b[39;49mobject_hook,\n\u001b[1;32m    295\u001b[0m         parse_float\u001b[39m=\u001b[39;49mparse_float, parse_int\u001b[39m=\u001b[39;49mparse_int,\n\u001b[1;32m    296\u001b[0m         parse_constant\u001b[39m=\u001b[39;49mparse_constant, object_pairs_hook\u001b[39m=\u001b[39;49mobject_pairs_hook, \u001b[39m*\u001b[39;49m\u001b[39m*\u001b[39;49mkw)\n",
      "File \u001b[0;32m~/miniconda3/envs/relations/lib/python3.10/json/__init__.py:346\u001b[0m, in \u001b[0;36mloads\u001b[0;34m(s, cls, object_hook, parse_float, parse_int, parse_constant, object_pairs_hook, **kw)\u001b[0m\n\u001b[1;32m    341\u001b[0m     s \u001b[39m=\u001b[39m s\u001b[39m.\u001b[39mdecode(detect_encoding(s), \u001b[39m'\u001b[39m\u001b[39msurrogatepass\u001b[39m\u001b[39m'\u001b[39m)\n\u001b[1;32m    343\u001b[0m \u001b[39mif\u001b[39;00m (\u001b[39mcls\u001b[39m \u001b[39mis\u001b[39;00m \u001b[39mNone\u001b[39;00m \u001b[39mand\u001b[39;00m object_hook \u001b[39mis\u001b[39;00m \u001b[39mNone\u001b[39;00m \u001b[39mand\u001b[39;00m\n\u001b[1;32m    344\u001b[0m         parse_int \u001b[39mis\u001b[39;00m \u001b[39mNone\u001b[39;00m \u001b[39mand\u001b[39;00m parse_float \u001b[39mis\u001b[39;00m \u001b[39mNone\u001b[39;00m \u001b[39mand\u001b[39;00m\n\u001b[1;32m    345\u001b[0m         parse_constant \u001b[39mis\u001b[39;00m \u001b[39mNone\u001b[39;00m \u001b[39mand\u001b[39;00m object_pairs_hook \u001b[39mis\u001b[39;00m \u001b[39mNone\u001b[39;00m \u001b[39mand\u001b[39;00m \u001b[39mnot\u001b[39;00m kw):\n\u001b[0;32m--> 346\u001b[0m     \u001b[39mreturn\u001b[39;00m _default_decoder\u001b[39m.\u001b[39;49mdecode(s)\n\u001b[1;32m    347\u001b[0m \u001b[39mif\u001b[39;00m \u001b[39mcls\u001b[39m \u001b[39mis\u001b[39;00m \u001b[39mNone\u001b[39;00m:\n\u001b[1;32m    348\u001b[0m     \u001b[39mcls\u001b[39m \u001b[39m=\u001b[39m JSONDecoder\n",
      "File \u001b[0;32m~/miniconda3/envs/relations/lib/python3.10/json/decoder.py:337\u001b[0m, in \u001b[0;36mJSONDecoder.decode\u001b[0;34m(self, s, _w)\u001b[0m\n\u001b[1;32m    332\u001b[0m \u001b[39mdef\u001b[39;00m \u001b[39mdecode\u001b[39m(\u001b[39mself\u001b[39m, s, _w\u001b[39m=\u001b[39mWHITESPACE\u001b[39m.\u001b[39mmatch):\n\u001b[1;32m    333\u001b[0m \u001b[39m    \u001b[39m\u001b[39m\"\"\"Return the Python representation of ``s`` (a ``str`` instance\u001b[39;00m\n\u001b[1;32m    334\u001b[0m \u001b[39m    containing a JSON document).\u001b[39;00m\n\u001b[1;32m    335\u001b[0m \n\u001b[1;32m    336\u001b[0m \u001b[39m    \"\"\"\u001b[39;00m\n\u001b[0;32m--> 337\u001b[0m     obj, end \u001b[39m=\u001b[39m \u001b[39mself\u001b[39;49m\u001b[39m.\u001b[39;49mraw_decode(s, idx\u001b[39m=\u001b[39;49m_w(s, \u001b[39m0\u001b[39;49m)\u001b[39m.\u001b[39;49mend())\n\u001b[1;32m    338\u001b[0m     end \u001b[39m=\u001b[39m _w(s, end)\u001b[39m.\u001b[39mend()\n\u001b[1;32m    339\u001b[0m     \u001b[39mif\u001b[39;00m end \u001b[39m!=\u001b[39m \u001b[39mlen\u001b[39m(s):\n",
      "File \u001b[0;32m~/miniconda3/envs/relations/lib/python3.10/json/decoder.py:353\u001b[0m, in \u001b[0;36mJSONDecoder.raw_decode\u001b[0;34m(self, s, idx)\u001b[0m\n\u001b[1;32m    344\u001b[0m \u001b[39m\u001b[39m\u001b[39m\"\"\"Decode a JSON document from ``s`` (a ``str`` beginning with\u001b[39;00m\n\u001b[1;32m    345\u001b[0m \u001b[39ma JSON document) and return a 2-tuple of the Python\u001b[39;00m\n\u001b[1;32m    346\u001b[0m \u001b[39mrepresentation and the index in ``s`` where the document ended.\u001b[39;00m\n\u001b[0;32m   (...)\u001b[0m\n\u001b[1;32m    350\u001b[0m \n\u001b[1;32m    351\u001b[0m \u001b[39m\"\"\"\u001b[39;00m\n\u001b[1;32m    352\u001b[0m \u001b[39mtry\u001b[39;00m:\n\u001b[0;32m--> 353\u001b[0m     obj, end \u001b[39m=\u001b[39m \u001b[39mself\u001b[39;49m\u001b[39m.\u001b[39;49mscan_once(s, idx)\n\u001b[1;32m    354\u001b[0m \u001b[39mexcept\u001b[39;00m \u001b[39mStopIteration\u001b[39;00m \u001b[39mas\u001b[39;00m err:\n\u001b[1;32m    355\u001b[0m     \u001b[39mraise\u001b[39;00m JSONDecodeError(\u001b[39m\"\u001b[39m\u001b[39mExpecting value\u001b[39m\u001b[39m\"\u001b[39m, s, err\u001b[39m.\u001b[39mvalue) \u001b[39mfrom\u001b[39;00m \u001b[39mNone\u001b[39;00m\n",
      "\u001b[0;31mKeyboardInterrupt\u001b[0m: "
     ]
    }
   ],
   "source": [
    "sweep_results = read_sweep_results(sweep_path, relation_names=\"country capital city\")\n",
    "list(sweep_results.keys())"
   ]
  },
  {
   "cell_type": "code",
   "execution_count": null,
   "metadata": {},
   "outputs": [],
   "source": []
  }
 ],
 "metadata": {
  "kernelspec": {
   "display_name": "relations",
   "language": "python",
   "name": "python3"
  },
  "language_info": {
   "codemirror_mode": {
    "name": "ipython",
    "version": 3
   },
   "file_extension": ".py",
   "mimetype": "text/x-python",
   "name": "python",
   "nbconvert_exporter": "python",
   "pygments_lexer": "ipython3",
   "version": "3.10.11"
  },
  "orig_nbformat": 4
 },
 "nbformat": 4,
 "nbformat_minor": 2
}
