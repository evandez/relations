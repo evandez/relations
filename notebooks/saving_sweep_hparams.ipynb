{
 "cells": [
  {
   "cell_type": "code",
   "execution_count": 1,
   "metadata": {},
   "outputs": [],
   "source": [
    "%load_ext autoreload\n",
    "%autoreload 2"
   ]
  },
  {
   "cell_type": "code",
   "execution_count": 2,
   "metadata": {},
   "outputs": [],
   "source": [
    "import sys\n",
    "sys.path.append(\"..\")\n",
    "\n",
    "import numpy as np\n",
    "import matplotlib.pyplot as plt\n",
    "import os\n",
    "from src import data\n",
    "import json\n",
    "from tqdm.auto import tqdm\n",
    "from src.metrics import AggregateMetric\n",
    "\n",
    "from src.utils.sweep_utils import read_sweep_results, relation_from_dict\n",
    "import logging\n",
    "from src.utils import logging_utils\n",
    "from src import hparams\n",
    "\n",
    "# logger = logging.getLogger(__name__)\n",
    "\n",
    "# logging.basicConfig(\n",
    "#     level=logging.DEBUG,\n",
    "#     format = logging_utils.DEFAULT_FORMAT,\n",
    "#     datefmt=logging_utils.DEFAULT_DATEFMT,\n",
    "#     stream=sys.stdout\n",
    "# )"
   ]
  },
  {
   "cell_type": "code",
   "execution_count": 3,
   "metadata": {},
   "outputs": [],
   "source": [
    "############################################\n",
    "sweep_root = \"../results/sweep-24-trials\"\n",
    "model_name = \"gptj\"\n",
    "############################################\n",
    "\n",
    "sweep_path = f\"{sweep_root}/{model_name}\""
   ]
  },
  {
   "cell_type": "code",
   "execution_count": 4,
   "metadata": {},
   "outputs": [
    {
     "data": {
      "text/plain": [
       "['person occupation',\n",
       " 'landmark in country',\n",
       " 'adjective antonym',\n",
       " 'person mother',\n",
       " 'country capital city',\n",
       " 'plays pro sport',\n",
       " 'person plays instrument',\n",
       " 'person university',\n",
       " 'city in country',\n",
       " 'food from country',\n",
       " 'company hq',\n",
       " 'occupation age',\n",
       " 'word first letter',\n",
       " 'country language',\n",
       " 'object superclass',\n",
       " 'name religion',\n",
       " 'person native language',\n",
       " 'fruit outside color',\n",
       " 'superhero archnemesis',\n",
       " 'work location',\n",
       " 'landmark on continent',\n",
       " 'person lead singer of band',\n",
       " 'task person type',\n",
       " 'country largest city',\n",
       " 'country currency',\n",
       " 'fruit inside color',\n",
       " 'task done by tool',\n",
       " 'verb past tense',\n",
       " 'star constellation name',\n",
       " 'pokemon evolution',\n",
       " 'product by company',\n",
       " 'name birthplace',\n",
       " 'word last letter',\n",
       " 'word sentiment',\n",
       " 'company CEO',\n",
       " 'superhero person',\n",
       " 'person father',\n",
       " 'substance phase of matter',\n",
       " 'person sport position',\n",
       " 'adjective superlative',\n",
       " 'adjective comparative',\n",
       " 'univ degree gender']"
      ]
     },
     "execution_count": 4,
     "metadata": {},
     "output_type": "execute_result"
    }
   ],
   "source": [
    "sweep_results = read_sweep_results(\n",
    "    sweep_path, \n",
    "    # relation_names=[\"country capital city\"]\n",
    ")\n",
    "list(sweep_results.keys())"
   ]
  },
  {
   "cell_type": "code",
   "execution_count": 5,
   "metadata": {},
   "outputs": [
    {
     "data": {
      "application/vnd.jupyter.widget-view+json": {
       "model_id": "b31b0574d64747f9ad2fc4dc72c7f49c",
       "version_major": 2,
       "version_minor": 0
      },
      "text/plain": [
       "  0%|          | 0/42 [00:00<?, ?it/s]"
      ]
     },
     "metadata": {},
     "output_type": "display_data"
    }
   ],
   "source": [
    "relation_dict = {}\n",
    "for relation_name, sweep_dict in tqdm(sweep_results.items()):\n",
    "    relation_dict[relation_name] = relation_from_dict(sweep_dict)\n",
    "    "
   ]
  },
  {
   "cell_type": "code",
   "execution_count": 16,
   "metadata": {},
   "outputs": [
    {
     "name": "stdout",
     "output_type": "stream",
     "text": [
      "person occupation >> layer=8 | beta=2.5 | rank=178 <> efficacy=0.706 | faithfulness=0.525\n",
      "landmark in country >> layer=3 | beta=2.5 | rank=127 <> efficacy=0.711 | faithfulness=0.252\n",
      "adjective antonym >> layer=8 | beta=2.5 | rank=220 <> efficacy=0.895 | faithfulness=0.789\n",
      "person mother >> layer=7 | beta=2.5 | rank=174 <> efficacy=0.428 | faithfulness=0.172\n",
      "country capital city >> layer=4 | beta=2.5 | rank=53 <> efficacy=0.966 | faithfulness=0.874\n",
      "plays pro sport >> layer=6 | beta=2.5 | rank=98 <> efficacy=0.941 | faithfulness=0.825\n",
      "person plays instrument >> layer=9 | beta=2.5 | rank=172 <> efficacy=0.687 | faithfulness=0.550\n",
      "person university >> layer=7 | beta=2.5 | rank=113 <> efficacy=0.940 | faithfulness=0.501\n",
      "city in country >> layer=1 | beta=2.5 | rank=127 <> efficacy=0.956 | faithfulness=0.606\n",
      "food from country >> layer=3 | beta=2.5 | rank=116 <> efficacy=0.963 | faithfulness=0.570\n",
      "company hq >> layer=5 | beta=2.5 | rank=127 <> efficacy=0.526 | faithfulness=0.220\n",
      "occupation age >> layer=0 | beta=2.5 | rank=88 <> efficacy=1.000 | faithfulness=0.957\n",
      "word first letter >> layer=7 | beta=2.5 | rank=174 <> efficacy=0.896 | faithfulness=0.618\n",
      "country language >> layer=1 | beta=2.5 | rank=70 <> efficacy=0.988 | faithfulness=0.928\n",
      "object superclass >> layer=3 | beta=2.5 | rank=84 <> efficacy=0.929 | faithfulness=0.822\n",
      "name religion >> layer=5 | beta=2.5 | rank=40 <> efficacy=0.990 | faithfulness=0.873\n",
      "person native language >> layer=3 | beta=2.5 | rank=121 <> efficacy=0.841 | faithfulness=0.596\n",
      "fruit outside color >> layer=8 | beta=2.5 | rank=126 <> efficacy=0.849 | faithfulness=0.651\n",
      "superhero archnemesis >> layer=7 | beta=2.5 | rank=197 <> efficacy=0.623 | faithfulness=0.250\n",
      "work location >> layer=5 | beta=2.5 | rank=123 <> efficacy=0.887 | faithfulness=0.513\n",
      "landmark on continent >> layer=4 | beta=2.5 | rank=130 <> efficacy=0.928 | faithfulness=0.776\n",
      "person lead singer of band >> layer=9 | beta=2.5 | rank=170 <> efficacy=0.852 | faithfulness=0.557\n",
      "task person type >> layer=8 | beta=2.5 | rank=141 <> efficacy=0.856 | faithfulness=0.524\n",
      "country largest city >> layer=5 | beta=2.5 | rank=62 <> efficacy=0.987 | faithfulness=0.890\n",
      "country currency >> layer=1 | beta=2.5 | rank=81 <> efficacy=0.976 | faithfulness=0.591\n",
      "fruit inside color >> layer=3 | beta=2.5 | rank=95 <> efficacy=0.909 | faithfulness=0.662\n",
      "task done by tool >> layer=8 | beta=2.5 | rank=123 <> efficacy=0.755 | faithfulness=0.407\n",
      "verb past tense >> layer=10 | beta=2.5 | rank=128 <> efficacy=0.981 | faithfulness=0.958\n",
      "star constellation name >> layer=6 | beta=2.5 | rank=218 <> efficacy=0.267 | faithfulness=0.421\n",
      "pokemon evolution >> layer=7 | beta=2.5 | rank=209 <> efficacy=0.312 | faithfulness=0.184\n",
      "product by company >> layer=3 | beta=2.5 | rank=172 <> efficacy=0.556 | faithfulness=0.411\n",
      "name birthplace >> layer=4 | beta=2.5 | rank=93 <> efficacy=0.960 | faithfulness=0.804\n",
      "word last letter >> layer=6 | beta=2.5 | rank=98 <> efficacy=0.821 | faithfulness=0.587\n",
      "word sentiment >> layer=8 | beta=2.5 | rank=59 <> efficacy=0.940 | faithfulness=0.936\n",
      "company CEO >> layer=5 | beta=2.5 | rank=169 <> efficacy=0.293 | faithfulness=0.084\n",
      "superhero person >> layer=9 | beta=2.5 | rank=200 <> efficacy=0.678 | faithfulness=0.433\n",
      "person father >> layer=6 | beta=2.5 | rank=243 <> efficacy=0.353 | faithfulness=0.144\n",
      "substance phase of matter >> layer=6 | beta=2.5 | rank=89 <> efficacy=0.972 | faithfulness=0.942\n",
      "person sport position >> layer=6 | beta=2.5 | rank=60 <> efficacy=0.783 | faithfulness=0.523\n",
      "adjective superlative >> layer=10 | beta=2.5 | rank=156 <> efficacy=0.987 | faithfulness=0.929\n",
      "adjective comparative >> layer=8 | beta=2.5 | rank=131 <> efficacy=0.931 | faithfulness=0.971\n",
      "univ degree gender >> layer=7 | beta=2.5 | rank=126 <> efficacy=0.863 | faithfulness=0.891\n"
     ]
    }
   ],
   "source": [
    "for relation_name, relation in relation_dict.items():\n",
    "    best_hparams = relation.best_by_efficacy(beta=2.5)\n",
    "    performance = f\"efficacy={best_hparams.efficacy.mean:.3f} | faithfulness={best_hparams.recall.mean:.3f}\"\n",
    "    print(f\"{relation_name} >> layer={best_hparams.layer} | beta={best_hparams.beta.mean} | rank={int(best_hparams.rank.mean)} <> {performance}\")\n",
    "\n",
    "    hparams.RelationHParams(\n",
    "        relation_name=relation.relation_name,\n",
    "        h_layer=best_hparams.layer,\n",
    "        h_layer_edit=best_hparams.layer,\n",
    "        z_layer=-1,\n",
    "        beta=best_hparams.beta.mean,\n",
    "        rank=int(np.floor(best_hparams.rank.mean)),\n",
    "        model_name=model_name,\n",
    "    ).save()"
   ]
  },
  {
   "cell_type": "code",
   "execution_count": 17,
   "metadata": {},
   "outputs": [
    {
     "name": "stdout",
     "output_type": "stream",
     "text": [
      "person occupation >> layer=12 | beta=2.5 | rank=114 <> efficacy=0.522 | faithfulness=0.590\n",
      "landmark in country >> layer=15 | beta=2.5 | rank=89 <> efficacy=0.640 | faithfulness=0.841\n",
      "adjective antonym >> layer=10 | beta=2.5 | rank=239 <> efficacy=0.890 | faithfulness=0.804\n",
      "person mother >> layer=7 | beta=2.5 | rank=174 <> efficacy=0.428 | faithfulness=0.172\n",
      "country capital city >> layer=1 | beta=2.5 | rank=63 <> efficacy=0.959 | faithfulness=0.895\n",
      "plays pro sport >> layer=18 | beta=2.5 | rank=30 <> efficacy=0.371 | faithfulness=0.895\n",
      "person plays instrument >> layer=17 | beta=2.5 | rank=71 <> efficacy=0.270 | faithfulness=0.674\n",
      "person university >> layer=16 | beta=2.5 | rank=52 <> efficacy=0.820 | faithfulness=0.866\n",
      "city in country >> layer=10 | beta=2.5 | rank=116 <> efficacy=0.869 | faithfulness=0.811\n",
      "food from country >> layer=18 | beta=2.5 | rank=99 <> efficacy=0.718 | faithfulness=0.902\n",
      "company hq >> layer=15 | beta=2.5 | rank=67 <> efficacy=0.459 | faithfulness=0.559\n",
      "occupation age >> layer=2 | beta=2.5 | rank=24 <> efficacy=1.000 | faithfulness=1.000\n",
      "word first letter >> layer=12 | beta=2.5 | rank=85 <> efficacy=0.697 | faithfulness=0.799\n",
      "country language >> layer=7 | beta=2.5 | rank=44 <> efficacy=0.953 | faithfulness=0.960\n",
      "object superclass >> layer=9 | beta=2.5 | rank=108 <> efficacy=0.901 | faithfulness=0.883\n",
      "name religion >> layer=9 | beta=2.5 | rank=46 <> efficacy=0.961 | faithfulness=0.975\n",
      "person native language >> layer=18 | beta=2.5 | rank=53 <> efficacy=0.459 | faithfulness=0.968\n",
      "fruit outside color >> layer=4 | beta=2.5 | rank=122 <> efficacy=0.821 | faithfulness=0.745\n",
      "superhero archnemesis >> layer=9 | beta=2.5 | rank=178 <> efficacy=0.618 | faithfulness=0.308\n",
      "work location >> layer=9 | beta=2.5 | rank=91 <> efficacy=0.849 | faithfulness=0.695\n",
      "landmark on continent >> layer=8 | beta=2.5 | rank=100 <> efficacy=0.912 | faithfulness=0.917\n",
      "person lead singer of band >> layer=10 | beta=2.5 | rank=143 <> efficacy=0.818 | faithfulness=0.580\n",
      "task person type >> layer=12 | beta=2.5 | rank=85 <> efficacy=0.616 | faithfulness=0.539\n",
      "country largest city >> layer=8 | beta=2.5 | rank=70 <> efficacy=0.983 | faithfulness=0.943\n",
      "country currency >> layer=3 | beta=2.5 | rank=71 <> efficacy=0.976 | faithfulness=0.617\n",
      "fruit inside color >> layer=17 | beta=2.5 | rank=51 <> efficacy=0.243 | faithfulness=0.738\n",
      "task done by tool >> layer=13 | beta=2.5 | rank=84 <> efficacy=0.427 | faithfulness=0.437\n",
      "verb past tense >> layer=9 | beta=2.5 | rank=131 <> efficacy=0.980 | faithfulness=0.968\n",
      "star constellation name >> layer=12 | beta=2.5 | rank=128 <> efficacy=0.143 | faithfulness=0.455\n",
      "pokemon evolution >> layer=12 | beta=2.5 | rank=157 <> efficacy=0.203 | faithfulness=0.249\n",
      "product by company >> layer=13 | beta=2.5 | rank=92 <> efficacy=0.380 | faithfulness=0.716\n",
      "name birthplace >> layer=18 | beta=2.5 | rank=77 <> efficacy=0.471 | faithfulness=0.966\n",
      "word last letter >> layer=10 | beta=2.5 | rank=80 <> efficacy=0.821 | faithfulness=0.747\n",
      "word sentiment >> layer=8 | beta=2.5 | rank=59 <> efficacy=0.940 | faithfulness=0.936\n",
      "company CEO >> layer=13 | beta=2.5 | rank=134 <> efficacy=0.155 | faithfulness=0.107\n",
      "superhero person >> layer=9 | beta=2.5 | rank=200 <> efficacy=0.678 | faithfulness=0.433\n",
      "person father >> layer=15 | beta=2.5 | rank=169 <> efficacy=0.108 | faithfulness=0.177\n",
      "substance phase of matter >> layer=5 | beta=2.5 | rank=66 <> efficacy=0.970 | faithfulness=0.951\n",
      "person sport position >> layer=13 | beta=2.5 | rank=32 <> efficacy=0.585 | faithfulness=0.650\n",
      "adjective superlative >> layer=9 | beta=2.5 | rank=162 <> efficacy=0.986 | faithfulness=0.941\n",
      "adjective comparative >> layer=11 | beta=2.5 | rank=128 <> efficacy=0.920 | faithfulness=0.977\n",
      "univ degree gender >> layer=7 | beta=2.5 | rank=126 <> efficacy=0.863 | faithfulness=0.891\n"
     ]
    }
   ],
   "source": [
    "for relation_name, relation in relation_dict.items():\n",
    "    best_hparams = relation.best_by_faithfulness(beta=2.5)\n",
    "    performance = f\"efficacy={best_hparams.efficacy.mean:.3f} | faithfulness={best_hparams.recall.mean:.3f}\"\n",
    "    print(f\"{relation_name} >> layer={best_hparams.layer} | beta={best_hparams.beta.mean} | rank={int(best_hparams.rank.mean)} <> {performance}\")\n",
    "\n",
    "    hparams.RelationHParams(\n",
    "        relation_name=relation.relation_name,\n",
    "        h_layer=best_hparams.layer,\n",
    "        h_layer_edit=best_hparams.layer,\n",
    "        z_layer=-1,\n",
    "        beta=best_hparams.beta.mean,\n",
    "        rank=int(np.floor(best_hparams.rank.mean)),\n",
    "        model_name=model_name,\n",
    "    ).save()"
   ]
  },
  {
   "cell_type": "code",
   "execution_count": null,
   "metadata": {},
   "outputs": [],
   "source": []
  }
 ],
 "metadata": {
  "kernelspec": {
   "display_name": "relations",
   "language": "python",
   "name": "python3"
  },
  "language_info": {
   "codemirror_mode": {
    "name": "ipython",
    "version": 3
   },
   "file_extension": ".py",
   "mimetype": "text/x-python",
   "name": "python",
   "nbconvert_exporter": "python",
   "pygments_lexer": "ipython3",
   "version": "3.10.11"
  },
  "orig_nbformat": 4
 },
 "nbformat": 4,
 "nbformat_minor": 2
}
