{
 "cells": [
  {
   "cell_type": "code",
   "execution_count": null,
   "metadata": {},
   "outputs": [],
   "source": [
    "%load_ext autoreload\n",
    "%autoreload 2"
   ]
  },
  {
   "cell_type": "code",
   "execution_count": null,
   "metadata": {},
   "outputs": [],
   "source": [
    "import sys\n",
    "sys.path.append('..')\n",
    "\n",
    "import torch\n",
    "import copy\n",
    "import numpy as np\n",
    "import matplotlib.pyplot as plt\n",
    "from src import models, data\n",
    "from src.metrics import recall"
   ]
  },
  {
   "cell_type": "code",
   "execution_count": null,
   "metadata": {},
   "outputs": [],
   "source": [
    "device = \"cuda:0\"\n",
    "mt = models.load_model(\"gptj\", device=device)\n",
    "print(f\"dtype: {mt.model.dtype}, device: {mt.model.device}, memory: {mt.model.get_memory_footprint()}\")"
   ]
  },
  {
   "cell_type": "code",
   "execution_count": null,
   "metadata": {},
   "outputs": [],
   "source": [
    "dataset = data.load_dataset()\n",
    "print('\\n'.join([d.name for d in dataset]))\n",
    "datums =[d for d in dataset if d.name == \"country capital city\"][0]\n",
    "print(datums)\n",
    "# capital_cities.__dict__.keys()\n",
    "len(datums.samples)"
   ]
  },
  {
   "cell_type": "code",
   "execution_count": null,
   "metadata": {},
   "outputs": [],
   "source": [
    "indices = np.random.choice(range(len(datums.samples)), 3, replace=False)\n",
    "samples = [datums.samples[i] for i in indices]\n",
    "\n",
    "training_samples = copy.deepcopy(datums.__dict__)\n",
    "training_samples[\"samples\"] = samples\n",
    "training_samples = data.Relation(**training_samples)\n",
    "\n",
    "training_samples.samples"
   ]
  },
  {
   "cell_type": "code",
   "execution_count": null,
   "metadata": {},
   "outputs": [],
   "source": [
    "from src.operators import JacobianIclMeanEstimator\n",
    "\n",
    "mean_estimator = JacobianIclMeanEstimator(\n",
    "    mt=mt,\n",
    "    h_layer=12,\n",
    "    bias_scale_factor=0.2       # so that the bias doesn't knock out the prediction too much in the direction of training examples\n",
    ") \n",
    "\n",
    "operator = mean_estimator(training_samples)"
   ]
  },
  {
   "cell_type": "code",
   "execution_count": null,
   "metadata": {},
   "outputs": [],
   "source": [
    "operator(\"United States\", k = 10).predictions"
   ]
  },
  {
   "cell_type": "code",
   "execution_count": null,
   "metadata": {},
   "outputs": [],
   "source": [
    "test_samples = list(set(datums.samples) - set(training_samples.samples))\n",
    "\n",
    "predictions = []\n",
    "target = []\n",
    "\n",
    "for sample in test_samples:\n",
    "    cur_predictions = operator(sample.subject, k = 5).predictions\n",
    "    predictions.append([\n",
    "        p.token for p in cur_predictions\n",
    "    ])\n",
    "    target.append(sample.object)\n",
    "\n",
    "recall(predictions, target)"
   ]
  },
  {
   "cell_type": "code",
   "execution_count": null,
   "metadata": {},
   "outputs": [],
   "source": [
    "from src.attributelens.attributelens import Attribute_Lens\n",
    "import src.attributelens.utils as lens_utils"
   ]
  },
  {
   "cell_type": "code",
   "execution_count": null,
   "metadata": {},
   "outputs": [],
   "source": [
    "lens = Attribute_Lens(mt=mt, top_k=10)\n",
    "att_info = lens.apply_attribute_lens(\n",
    "    prompt=\"Germany, Germany, Germany. Canberra is the capital of the country of\",\n",
    "    relation_operator=operator\n",
    ")\n",
    "print('prediction:', att_info['nextwords'][-1])"
   ]
  },
  {
   "cell_type": "code",
   "execution_count": null,
   "metadata": {},
   "outputs": [],
   "source": [
    "import plotly.graph_objs as go\n",
    "    \n",
    "f = lens_utils.visualize_attribute_lens(\n",
    "    att_info, layer_skip=2, must_have_layers=[15, 25],\n",
    "    # expected_answers=[' Beijing']\n",
    ")\n",
    "f"
   ]
  }
 ],
 "metadata": {
  "kernelspec": {
   "display_name": "Python 3 (ipykernel)",
   "language": "python",
   "name": "python3"
  },
  "language_info": {
   "codemirror_mode": {
    "name": "ipython",
    "version": 3
   },
   "file_extension": ".py",
   "mimetype": "text/x-python",
   "name": "python",
   "nbconvert_exporter": "python",
   "pygments_lexer": "ipython3",
   "version": "3.10.10"
  }
 },
 "nbformat": 4,
 "nbformat_minor": 2
}
