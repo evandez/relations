{
 "cells": [
  {
   "cell_type": "code",
   "execution_count": 1,
   "metadata": {},
   "outputs": [],
   "source": [
    "%load_ext autoreload\n",
    "%autoreload 2"
   ]
  },
  {
   "cell_type": "code",
   "execution_count": 2,
   "metadata": {},
   "outputs": [],
   "source": [
    "import matplotlib.pyplot as plt\n",
    "import os\n",
    "import json\n",
    "import sys\n",
    "import numpy as np\n",
    "sys.path.append(\"..\")\n",
    "import copy\n",
    "from tqdm.auto import tqdm"
   ]
  },
  {
   "cell_type": "code",
   "execution_count": 3,
   "metadata": {},
   "outputs": [],
   "source": [
    "from src import models, data, operators, utils, functional, metrics, lens\n",
    "from src.utils import logging_utils, experiment_utils\n",
    "import logging\n",
    "import torch\n",
    "import baukit\n",
    "import random\n",
    "import numpy as np\n",
    "import torch\n",
    "experiment_utils.set_seed(123456)\n",
    "\n",
    "logger = logging.getLogger(__name__)\n",
    "\n",
    "logging.basicConfig(\n",
    "    level=logging.INFO,\n",
    "    format = logging_utils.DEFAULT_FORMAT,\n",
    "    datefmt=logging_utils.DEFAULT_DATEFMT,\n",
    "    stream=sys.stdout\n",
    ")"
   ]
  },
  {
   "cell_type": "code",
   "execution_count": 4,
   "metadata": {},
   "outputs": [],
   "source": [
    "#################################################\n",
    "h_layer = 7\n",
    "beta = 0.4\n",
    "n_training = 10\n",
    "#################################################"
   ]
  },
  {
   "cell_type": "code",
   "execution_count": 5,
   "metadata": {},
   "outputs": [
    {
     "name": "stdout",
     "output_type": "stream",
     "text": [
      "2023-06-23 17:01:09 src.models INFO     loading EleutherAI/gpt-j-6B (device=cuda, fp16=True)\n"
     ]
    }
   ],
   "source": [
    "mt = models.load_model(name = \"gptj\", fp16 = True, device = \"cuda\")"
   ]
  },
  {
   "cell_type": "code",
   "execution_count": 7,
   "metadata": {},
   "outputs": [],
   "source": [
    "relation = data.load_dataset().filter(relation_names=[\"country capital city\"])[0].set(prompt_templates=[\" {}:\"])\n",
    "train, test = relation.split(n_training)"
   ]
  },
  {
   "cell_type": "code",
   "execution_count": 8,
   "metadata": {},
   "outputs": [
    {
     "name": "stdout",
     "output_type": "stream",
     "text": [
      "<|endoftext|> Pakistan: Islamabad\n",
      " Argentina: Buenos Aires\n",
      " Peru: Lima\n",
      " Australia: Canberra\n",
      " Germany: Berlin\n",
      " Saudi Arabia: Riyadh\n",
      " Russia: Moscow\n",
      " Italy: Rome\n",
      " India: New Delhi\n",
      " South Korea: Seoul\n",
      " {}:\n"
     ]
    }
   ],
   "source": [
    "icl_prompt = functional.make_prompt(\n",
    "    prompt_template = train.prompt_templates[0],\n",
    "    subject = \"{}\",\n",
    "    examples = train.samples,\n",
    "    mt = mt\n",
    ")\n",
    "print(icl_prompt)"
   ]
  },
  {
   "cell_type": "code",
   "execution_count": 9,
   "metadata": {},
   "outputs": [
    {
     "data": {
      "text/plain": [
       "14"
      ]
     },
     "execution_count": 9,
     "metadata": {},
     "output_type": "execute_result"
    }
   ],
   "source": [
    "test = functional.filter_relation_samples_based_on_provided_fewshots(\n",
    "    mt = mt, \n",
    "    test_relation=test,\n",
    "    prompt_template = icl_prompt,\n",
    "    batch_size=4\n",
    ")\n",
    "len(test.samples)"
   ]
  },
  {
   "cell_type": "code",
   "execution_count": 10,
   "metadata": {},
   "outputs": [],
   "source": [
    "estimator = operators.JacobianIclMeanEstimator(\n",
    "    mt = mt, h_layer=h_layer, beta=beta\n",
    ")\n",
    "operator = estimator(train)"
   ]
  },
  {
   "cell_type": "code",
   "execution_count": 11,
   "metadata": {},
   "outputs": [
    {
     "name": "stdout",
     "output_type": "stream",
     "text": [
      "Brazil -> Bras\\u00edlia | pred: [' Bras (0.74)', ' Rio (0.11)', ' Sao (0.04)']\n",
      "Canada -> Ottawa | pred: [' Toronto (0.28)', ' Ottawa (0.23)', ' Vancouver (0.10)']\n",
      "Chile -> Santiago | pred: [' Santiago (0.98)', '  (0.01)', ' Chile (0.01)']\n",
      "China -> Beijing | pred: [' Beijing (0.96)', ' Shanghai (0.03)', ' China (0.00)']\n",
      "Colombia -> Bogot\\u00e1 | pred: [' Bog (0.76)', '  (0.12)', '\\n (0.02)']\n",
      "Egypt -> Cairo | pred: [' Cairo (0.98)', '  (0.00)', ' Egypt (0.00)']\n",
      "France -> Paris | pred: [' Paris (0.99)', ' France (0.00)', '  (0.00)']\n",
      "Japan -> Tokyo | pred: [' Tokyo (1.00)', ' Osaka (0.00)', ' Japan (0.00)']\n",
      "Mexico -> Mexico City | pred: [' Mexico (0.90)', '  (0.02)', ' New (0.02)']\n",
      "Nigeria -> Abuja | pred: [' New (0.18)', '  (0.15)', ' Abu (0.09)']\n",
      "Spain -> Madrid | pred: [' Madrid (0.91)', ' Barcelona (0.03)', '  (0.01)']\n",
      "Turkey -> Ankara | pred: [' Istanbul (0.52)', ' Ankara (0.46)', ' Turkey (0.01)']\n",
      "United States -> Washington D.C. | pred: [' Washington (0.82)', ' New (0.11)', ' Los (0.03)']\n",
      "Venezuela -> Caracas | pred: [' Car (0.73)', '  (0.15)', '\\n (0.04)']\n"
     ]
    }
   ],
   "source": [
    "for sample in test.samples:\n",
    "    pred = operator(sample.subject).predictions[:3]\n",
    "    print(f\"{sample} | pred: {[f'{p.token} ({p.prob:.2f})' for p in pred]}\")"
   ]
  },
  {
   "cell_type": "code",
   "execution_count": 12,
   "metadata": {},
   "outputs": [
    {
     "data": {
      "application/vnd.jupyter.widget-view+json": {
       "model_id": "37be87efc4c0484ba0a6b6ef69e97127",
       "version_major": 2,
       "version_minor": 0
      },
      "text/plain": [
       "  0%|          | 0/6 [00:00<?, ?it/s]"
      ]
     },
     "metadata": {},
     "output_type": "display_data"
    }
   ],
   "source": [
    "imaginary_operators = []\n",
    "for interpolate_on in tqdm(range(2, 8)):\n",
    "    estimator_i = operators.JacobianIclMeanEstimator_Imaginary(\n",
    "        mt = mt, h_layer=7, beta=1, interpolate_on=interpolate_on, n_trials=8\n",
    "    )\n",
    "    operator_i = estimator_i(train)\n",
    "    imaginary_operators.append(operator_i)\n",
    "    # print(\"---------------------------------------------------\")"
   ]
  },
  {
   "cell_type": "code",
   "execution_count": 13,
   "metadata": {},
   "outputs": [
    {
     "data": {
      "text/plain": [
       "(22.515625, 213.0)"
      ]
     },
     "execution_count": 13,
     "metadata": {},
     "output_type": "execute_result"
    }
   ],
   "source": [
    "operator.weight.norm().item(), operator.bias.norm().item()"
   ]
  },
  {
   "cell_type": "code",
   "execution_count": 14,
   "metadata": {},
   "outputs": [
    {
     "data": {
      "text/plain": [
       "Text(0.5, 0, 'n_points')"
      ]
     },
     "execution_count": 14,
     "metadata": {},
     "output_type": "execute_result"
    },
    {
     "data": {
      "image/png": "[encoded data removed]",
      "text/plain": [
       "<Figure size 640x480 with 1 Axes>"
      ]
     },
     "metadata": {},
     "output_type": "display_data"
    }
   ],
   "source": [
    "w_norms = [op.weight.norm().item() for op in imaginary_operators]\n",
    "plt.plot(range(2, 8), w_norms, label = \"|| J_imaginary ||\")\n",
    "plt.hlines(operator.weight.norm().item(), 2, 7, color=\"red\", label = \"|| J_real ||\")\n",
    "plt.ylim(bottom=0)\n",
    "plt.legend()\n",
    "plt.ylabel(\"|| J ||\")\n",
    "plt.xlabel(\"n_points\")"
   ]
  },
  {
   "cell_type": "code",
   "execution_count": 23,
   "metadata": {},
   "outputs": [
    {
     "name": "stdout",
     "output_type": "stream",
     "text": [
      "70.25 214.125\n",
      "Brazil -> Bras\\u00edlia | pred: [' Bras (0.74)', ' Brazil (0.12)', ' Sao (0.06)']\n",
      "Canada -> Ottawa | pred: [' Ottawa (0.44)', ' Vancouver (0.24)', ' Toronto (0.17)']\n",
      "Chile -> Santiago | pred: [' Santiago (1.00)', ' Chile (0.00)', ' Chilean (0.00)']\n",
      "China -> Beijing | pred: [' Beijing (0.99)', ' Shanghai (0.01)', ' China (0.00)']\n",
      "Colombia -> Bogot\\u00e1 | pred: [' Bog (0.88)', ' Colombia (0.10)', ' Santiago (0.01)']\n",
      "Egypt -> Cairo | pred: [' Cairo (0.99)', ' Egypt (0.00)', ' Buenos (0.00)']\n",
      "France -> Paris | pred: [' Paris (0.90)', ' France (0.09)', ' French (0.01)']\n",
      "Japan -> Tokyo | pred: [' Tokyo (0.99)', ' Japan (0.00)', ' Osaka (0.00)']\n",
      "Mexico -> Mexico City | pred: [' Mexico (1.00)', 'Mexico (0.00)', ' Mexican (0.00)']\n",
      "Nigeria -> Abuja | pred: [' Abu (0.60)', ' Nigeria (0.19)', ' Mexico (0.10)']\n",
      "Spain -> Madrid | pred: [' Madrid (0.87)', ' Spain (0.10)', ' Barcelona (0.01)']\n",
      "Turkey -> Ankara | pred: [' Ankara (0.88)', ' Istanbul (0.12)', ' Turkey (0.01)']\n",
      "United States -> Washington D.C. | pred: [' Washington (0.73)', ' Los (0.21)', ' Mexico (0.01)']\n",
      "Venezuela -> Caracas | pred: [' Buenos (0.69)', ' Santiago (0.11)', ' Venezuela (0.06)']\n"
     ]
    }
   ],
   "source": [
    "operator_dict = imaginary_operators[2].__dict__.copy()\n",
    "operator_dict[\"beta\"] = 1\n",
    "img_operator = operators.LinearRelationOperator(**operator_dict)\n",
    "\n",
    "print(img_operator.weight.norm().item(), img_operator.bias.norm().item())\n",
    "\n",
    "for sample in test.samples:\n",
    "    pred = img_operator(sample.subject).predictions[:3]\n",
    "    print(f\"{sample} | pred: {[f'{p.token} ({p.prob:.2f})' for p in pred]}\")"
   ]
  },
  {
   "cell_type": "code",
   "execution_count": null,
   "metadata": {},
   "outputs": [],
   "source": []
  },
  {
   "cell_type": "code",
   "execution_count": 16,
   "metadata": {},
   "outputs": [
    {
     "data": {
      "text/plain": [
       "Text(0.5, 0, 'n_points')"
      ]
     },
     "execution_count": 16,
     "metadata": {},
     "output_type": "execute_result"
    },
    {
     "data": {
      "image/png": "[encoded data removed]",
      "text/plain": [
       "<Figure size 640x480 with 1 Axes>"
      ]
     },
     "metadata": {},
     "output_type": "display_data"
    }
   ],
   "source": [
    "b_norms = [op.bias.norm().item() for op in imaginary_operators]\n",
    "plt.plot(range(2, 8), b_norms, label = \"|| bias_imaginary ||\")\n",
    "plt.hlines(operator.bias.norm().item(), 2, 7, color=\"red\", label = \"|| bias_real ||\")\n",
    "plt.ylim(bottom=200)\n",
    "plt.legend()\n",
    "plt.ylabel(\"|| bias ||\")\n",
    "plt.xlabel(\"n_points\")"
   ]
  },
  {
   "cell_type": "code",
   "execution_count": 17,
   "metadata": {},
   "outputs": [
    {
     "name": "stdout",
     "output_type": "stream",
     "text": [
      "Brazil -> Bras\\u00edlia | pred: [' Bras (0.67)', ' Brazil (0.30)', ' Rio (0.02)']\n",
      "Canada -> Ottawa | pred: [' Ottawa (0.37)', ' Canada (0.28)', ' Vancouver (0.22)']\n",
      "Chile -> Santiago | pred: [' Santiago (1.00)', ' Chile (0.00)', ' Chilean (0.00)']\n",
      "China -> Beijing | pred: [' Beijing (0.98)', ' Shanghai (0.01)', ' China (0.00)']\n",
      "Colombia -> Bogot\\u00e1 | pred: [' Bog (0.50)', ' Colombia (0.48)', ' Colombian (0.02)']\n",
      "Egypt -> Cairo | pred: [' Cairo (0.99)', ' Egypt (0.01)', ' Egyptian (0.00)']\n",
      "France -> Paris | pred: [' Paris (0.78)', ' France (0.20)', ' French (0.02)']\n",
      "Japan -> Tokyo | pred: [' Tokyo (0.97)', ' Japan (0.02)', ' Japanese (0.01)']\n",
      "Mexico -> Mexico City | pred: [' Mexico (1.00)', 'Mexico (0.00)', ' Mexican (0.00)']\n",
      "Nigeria -> Abuja | pred: [' Nigeria (0.89)', ' Abu (0.07)', ' Nigerian (0.03)']\n",
      "Spain -> Madrid | pred: [' Madrid (0.84)', ' Spain (0.15)', ' Barcelona (0.01)']\n",
      "Turkey -> Ankara | pred: [' Ankara (0.81)', ' Istanbul (0.17)', ' Turkey (0.02)']\n",
      "United States -> Washington D.C. | pred: [' Washington (0.88)', ' Los (0.06)', ' Seattle (0.02)']\n",
      "Venezuela -> Caracas | pred: [' Venezuela (0.90)', ' Venezuelan (0.04)', ' Buenos (0.03)']\n"
     ]
    }
   ],
   "source": [
    "for sample in test.samples:\n",
    "    pred = operator_i(sample.subject).predictions[:3]\n",
    "    print(f\"{sample} | pred: {[f'{p.token} ({p.prob:.2f})' for p in pred]}\")"
   ]
  },
  {
   "cell_type": "code",
   "execution_count": null,
   "metadata": {},
   "outputs": [],
   "source": []
  }
 ],
 "metadata": {
  "kernelspec": {
   "display_name": "relations",
   "language": "python",
   "name": "python3"
  },
  "language_info": {
   "codemirror_mode": {
    "name": "ipython",
    "version": 3
   },
   "file_extension": ".py",
   "mimetype": "text/x-python",
   "name": "python",
   "nbconvert_exporter": "python",
   "pygments_lexer": "ipython3",
   "version": "3.10.11"
  },
  "orig_nbformat": 4
 },
 "nbformat": 4,
 "nbformat_minor": 2
}
