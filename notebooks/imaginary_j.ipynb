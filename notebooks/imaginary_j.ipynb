{
 "cells": [
  {
   "cell_type": "code",
   "execution_count": 1,
   "metadata": {},
   "outputs": [],
   "source": [
    "%load_ext autoreload\n",
    "%autoreload 2"
   ]
  },
  {
   "cell_type": "code",
   "execution_count": 2,
   "metadata": {},
   "outputs": [],
   "source": [
    "import matplotlib.pyplot as plt\n",
    "import os\n",
    "import json\n",
    "import sys\n",
    "import numpy as np\n",
    "sys.path.append(\"..\")\n",
    "import copy\n",
    "from tqdm.auto import tqdm"
   ]
  },
  {
   "cell_type": "code",
   "execution_count": 3,
   "metadata": {},
   "outputs": [],
   "source": [
    "from src import models, data, operators, utils, functional, metrics, lens\n",
    "from src.utils import logging_utils, experiment_utils\n",
    "import logging\n",
    "import torch\n",
    "import baukit\n",
    "\n",
    "experiment_utils.set_seed(123456)\n",
    "\n",
    "logger = logging.getLogger(__name__)\n",
    "\n",
    "logging.basicConfig(\n",
    "    level=logging.INFO,\n",
    "    format = logging_utils.DEFAULT_FORMAT,\n",
    "    datefmt=logging_utils.DEFAULT_DATEFMT,\n",
    "    stream=sys.stdout\n",
    ")"
   ]
  },
  {
   "cell_type": "code",
   "execution_count": 39,
   "metadata": {},
   "outputs": [],
   "source": [
    "#################################################\n",
    "h_layer = 7\n",
    "beta = 0.4\n",
    "n_training = 10\n",
    "#################################################"
   ]
  },
  {
   "cell_type": "code",
   "execution_count": 5,
   "metadata": {},
   "outputs": [
    {
     "name": "stdout",
     "output_type": "stream",
     "text": [
      "2023-06-21 15:38:34 src.models INFO     loading EleutherAI/gpt-j-6B (device=cuda, fp16=True)\n"
     ]
    }
   ],
   "source": [
    "mt = models.load_model(name = \"gptj\", fp16 = True, device = \"cuda\")"
   ]
  },
  {
   "cell_type": "code",
   "execution_count": 40,
   "metadata": {},
   "outputs": [],
   "source": [
    "relation = data.load_dataset().filter(relation_names=[\"country capital city\"])[0].set(prompt_templates=[\" {}:\"])\n",
    "train, test = relation.split(n_training)"
   ]
  },
  {
   "cell_type": "code",
   "execution_count": 17,
   "metadata": {},
   "outputs": [
    {
     "name": "stdout",
     "output_type": "stream",
     "text": [
      "<|endoftext|> United States: Washington D.C.\n",
      " Japan: Tokyo\n",
      " Germany: Berlin\n",
      " Pakistan: Islamabad\n",
      " Argentina: Buenos Aires\n",
      " Colombia: Bogot\\u00e1\n",
      " Peru: Lima\n",
      " Mexico: Mexico City\n",
      " {}:\n"
     ]
    }
   ],
   "source": [
    "icl_prompt = functional.make_prompt(\n",
    "    prompt_template = train.prompt_templates[0],\n",
    "    subject = \"{}\",\n",
    "    examples = train.samples,\n",
    "    mt = mt\n",
    ")\n",
    "print(icl_prompt)"
   ]
  },
  {
   "cell_type": "code",
   "execution_count": 18,
   "metadata": {},
   "outputs": [
    {
     "data": {
      "text/plain": [
       "15"
      ]
     },
     "execution_count": 18,
     "metadata": {},
     "output_type": "execute_result"
    }
   ],
   "source": [
    "test = functional.filter_relation_samples_based_on_provided_fewshots(\n",
    "    mt = mt, \n",
    "    test_relation=test,\n",
    "    prompt_template = icl_prompt,\n",
    "    batch_size=4\n",
    ")\n",
    "len(test.samples)"
   ]
  },
  {
   "cell_type": "code",
   "execution_count": 19,
   "metadata": {},
   "outputs": [],
   "source": [
    "estimator = operators.JacobianIclMeanEstimator(\n",
    "    mt = mt, h_layer=h_layer, beta=beta\n",
    ")\n",
    "operator = estimator(train)"
   ]
  },
  {
   "cell_type": "code",
   "execution_count": 20,
   "metadata": {},
   "outputs": [
    {
     "name": "stdout",
     "output_type": "stream",
     "text": [
      "Brazil -> Bras\\u00edlia | pred: [' Bras (0.72)', ' Rio (0.10)', ' Brazil (0.09)']\n",
      "Canada -> Ottawa | pred: [' Toronto (0.29)', ' Ottawa (0.21)', ' Montreal (0.13)']\n",
      "Chile -> Santiago | pred: [' Santiago (0.99)', ' Chile (0.00)', '  (0.00)']\n",
      "China -> Beijing | pred: [' Beijing (0.97)', ' Shanghai (0.02)', ' China (0.01)']\n",
      "Egypt -> Cairo | pred: [' Cairo (0.96)', '  (0.01)', ' Egypt (0.01)']\n",
      "France -> Paris | pred: [' Paris (0.90)', ' Buenos (0.02)', ' France (0.01)']\n",
      "India -> New Delhi | pred: [' Delhi (0.45)', ' New (0.39)', ' Mumbai (0.09)']\n",
      "Italy -> Rome | pred: [' Rome (0.81)', ' Milan (0.07)', ' New (0.04)']\n",
      "Nigeria -> Abuja | pred: [' Lag (0.20)', ' Abu (0.19)', '  (0.11)']\n",
      "Russia -> Moscow | pred: [' Moscow (0.98)', ' Russia (0.01)', ' Kremlin (0.00)']\n",
      "Saudi Arabia -> Riyadh | pred: ['  (0.28)', '\\n (0.10)', ' Riyadh (0.08)']\n",
      "South Korea -> Seoul | pred: [' Seoul (0.98)', ' Los (0.00)', ' Tokyo (0.00)']\n",
      "Spain -> Madrid | pred: [' Madrid (0.87)', ' Barcelona (0.05)', ' Spain (0.01)']\n",
      "Turkey -> Ankara | pred: [' Ankara (0.48)', ' Istanbul (0.42)', '  (0.02)']\n",
      "Venezuela -> Caracas | pred: [' Car (0.95)', '  (0.02)', '\\n (0.01)']\n"
     ]
    }
   ],
   "source": [
    "for sample in test.samples:\n",
    "    pred = operator(sample.subject).predictions[:3]\n",
    "    print(f\"{sample} | pred: {[f'{p.token} ({p.prob:.2f})' for p in pred]}\")"
   ]
  },
  {
   "cell_type": "code",
   "execution_count": 45,
   "metadata": {},
   "outputs": [],
   "source": [
    "estimator_i = operators.JacobianIclMeanEstimator_Imaginary(\n",
    "    mt = mt, h_layer=h_layer, beta=1, interpolate_on=4, n_trials=8\n",
    ")\n",
    "operator_i = estimator_i(train)"
   ]
  },
  {
   "cell_type": "code",
   "execution_count": 46,
   "metadata": {},
   "outputs": [
    {
     "data": {
      "text/plain": [
       "(60.34375, 238.875)"
      ]
     },
     "execution_count": 46,
     "metadata": {},
     "output_type": "execute_result"
    }
   ],
   "source": [
    "operator_i.weight.norm().item(), operator_i.bias.norm().item()"
   ]
  },
  {
   "cell_type": "code",
   "execution_count": 47,
   "metadata": {},
   "outputs": [
    {
     "data": {
      "text/plain": [
       "(24.125, 245.375)"
      ]
     },
     "execution_count": 47,
     "metadata": {},
     "output_type": "execute_result"
    }
   ],
   "source": [
    "operator.weight.norm().item(), operator.bias.norm().item()"
   ]
  },
  {
   "cell_type": "code",
   "execution_count": 48,
   "metadata": {},
   "outputs": [
    {
     "name": "stdout",
     "output_type": "stream",
     "text": [
      "Russia -> Moscow | pred: [' Moscow (0.94)', ' Buenos (0.02)', ' Russia (0.01)']\n",
      "United States -> Washington D.C. | pred: [' Mexico (0.39)', ' Buenos (0.27)', ' Washington (0.12)']\n",
      "Japan -> Tokyo | pred: [' Tokyo (0.99)', ' Japan (0.00)', ' Manila (0.00)']\n",
      "Australia -> Canberra | pred: [' Sydney (0.60)', ' Buenos (0.13)', ' Canberra (0.12)']\n",
      "Saudi Arabia -> Riyadh | pred: [' Riyadh (0.61)', ' Madrid (0.12)', ' Buenos (0.07)']\n",
      "Peru -> Lima | pred: [' Lima (0.97)', ' Peru (0.02)', ' Bog (0.00)']\n",
      "Egypt -> Cairo | pred: [' Cairo (0.62)', ' Buenos (0.14)', ' Madrid (0.07)']\n",
      "Mexico -> Mexico City | pred: [' Mexico (0.99)', ' Mé (0.00)', 'Mexico (0.00)']\n",
      "Nigeria -> Abuja | pred: [' Mexico (0.63)', ' Lag (0.08)', ' Nigeria (0.06)']\n",
      "Turkey -> Ankara | pred: [' Ankara (0.33)', ' Istanbul (0.25)', ' Madrid (0.15)']\n",
      "Brazil -> Bras\\u00edlia | pred: [' Bras (0.93)', ' Brazil (0.02)', ' Sao (0.02)']\n",
      "Colombia -> Bogot\\u00e1 | pred: [' Bog (0.98)', ' Colombia (0.01)', ' Lima (0.00)']\n",
      "Venezuela -> Caracas | pred: [' Car (0.85)', ' Bog (0.07)', ' Venezuela (0.02)']\n",
      "Germany -> Berlin | pred: [' Berlin (0.63)', ' Madrid (0.30)', ' Buenos (0.02)']\n"
     ]
    }
   ],
   "source": [
    "for sample in test.samples:\n",
    "    pred = operator_i(sample.subject).predictions[:3]\n",
    "    print(f\"{sample} | pred: {[f'{p.token} ({p.prob:.2f})' for p in pred]}\")"
   ]
  },
  {
   "cell_type": "code",
   "execution_count": null,
   "metadata": {},
   "outputs": [],
   "source": []
  }
 ],
 "metadata": {
  "kernelspec": {
   "display_name": "relations",
   "language": "python",
   "name": "python3"
  },
  "language_info": {
   "codemirror_mode": {
    "name": "ipython",
    "version": 3
   },
   "file_extension": ".py",
   "mimetype": "text/x-python",
   "name": "python",
   "nbconvert_exporter": "python",
   "pygments_lexer": "ipython3",
   "version": "3.10.11"
  },
  "orig_nbformat": 4
 },
 "nbformat": 4,
 "nbformat_minor": 2
}
