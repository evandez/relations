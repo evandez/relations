{
 "cells": [
  {
   "cell_type": "code",
   "execution_count": 1,
   "metadata": {},
   "outputs": [],
   "source": [
    "%load_ext autoreload\n",
    "%autoreload 2"
   ]
  },
  {
   "cell_type": "code",
   "execution_count": 2,
   "metadata": {},
   "outputs": [],
   "source": [
    "import matplotlib.pyplot as plt\n",
    "import os\n",
    "import json\n",
    "import sys\n",
    "import numpy as np\n",
    "sys.path.append(\"..\")\n",
    "import copy\n",
    "from tqdm.auto import tqdm"
   ]
  },
  {
   "cell_type": "code",
   "execution_count": 3,
   "metadata": {},
   "outputs": [],
   "source": [
    "from src import models, data, operators, utils, functional, metrics, lens\n",
    "from src.utils import logging_utils, experiment_utils\n",
    "import logging\n",
    "import torch\n",
    "import baukit\n",
    "import random\n",
    "import numpy as np\n",
    "import torch\n",
    "experiment_utils.set_seed(123456)\n",
    "\n",
    "logger = logging.getLogger(__name__)\n",
    "\n",
    "logging.basicConfig(\n",
    "    level=logging.INFO,\n",
    "    format = logging_utils.DEFAULT_FORMAT,\n",
    "    datefmt=logging_utils.DEFAULT_DATEFMT,\n",
    "    stream=sys.stdout\n",
    ")"
   ]
  },
  {
   "cell_type": "code",
   "execution_count": 4,
   "metadata": {},
   "outputs": [],
   "source": [
    "#################################################\n",
    "h_layer = 7\n",
    "beta = 2.5\n",
    "n_training = 10\n",
    "#################################################"
   ]
  },
  {
   "cell_type": "code",
   "execution_count": 5,
   "metadata": {},
   "outputs": [
    {
     "name": "stdout",
     "output_type": "stream",
     "text": [
      "2023-06-27 12:52:06 src.models INFO     loading EleutherAI/gpt-j-6B (device=cuda, fp16=True)\n"
     ]
    }
   ],
   "source": [
    "mt = models.load_model(name = \"gptj\", fp16 = True, device = \"cuda\")"
   ]
  },
  {
   "cell_type": "code",
   "execution_count": 6,
   "metadata": {},
   "outputs": [],
   "source": [
    "relation = data.load_dataset().filter(relation_names=[\"country capital city\"])[0].set(prompt_templates=[\" {}:\"])\n",
    "train, test = relation.split(n_training)"
   ]
  },
  {
   "cell_type": "code",
   "execution_count": 7,
   "metadata": {},
   "outputs": [
    {
     "name": "stdout",
     "output_type": "stream",
     "text": [
      "<|endoftext|> Pakistan: Islamabad\n",
      " Argentina: Buenos Aires\n",
      " Peru: Lima\n",
      " Australia: Canberra\n",
      " Germany: Berlin\n",
      " Saudi Arabia: Riyadh\n",
      " Russia: Moscow\n",
      " Italy: Rome\n",
      " India: New Delhi\n",
      " South Korea: Seoul\n",
      " {}:\n"
     ]
    }
   ],
   "source": [
    "icl_prompt = functional.make_prompt(\n",
    "    prompt_template = train.prompt_templates[0],\n",
    "    subject = \"{}\",\n",
    "    examples = train.samples,\n",
    "    mt = mt\n",
    ")\n",
    "print(icl_prompt)"
   ]
  },
  {
   "cell_type": "code",
   "execution_count": 8,
   "metadata": {},
   "outputs": [
    {
     "data": {
      "text/plain": [
       "14"
      ]
     },
     "execution_count": 8,
     "metadata": {},
     "output_type": "execute_result"
    }
   ],
   "source": [
    "test = functional.filter_relation_samples_based_on_provided_fewshots(\n",
    "    mt = mt, \n",
    "    test_relation=test,\n",
    "    prompt_template = icl_prompt,\n",
    "    batch_size=4\n",
    ")\n",
    "len(test.samples)"
   ]
  },
  {
   "cell_type": "code",
   "execution_count": 9,
   "metadata": {},
   "outputs": [],
   "source": [
    "estimator = operators.JacobianIclMeanEstimator(\n",
    "    mt = mt, h_layer=h_layer, beta=beta\n",
    ")\n",
    "operator = estimator(train)"
   ]
  },
  {
   "cell_type": "code",
   "execution_count": 17,
   "metadata": {},
   "outputs": [],
   "source": [
    "operator_dict = operator.__dict__.copy()\n",
    "operator_dict[\"beta\"] = 1.0\n",
    "no_beta = operators.LinearRelationOperator(**operator_dict)"
   ]
  },
  {
   "cell_type": "code",
   "execution_count": 19,
   "metadata": {},
   "outputs": [
    {
     "name": "stdout",
     "output_type": "stream",
     "text": [
      "Brazil -> Bras\\u00edlia | pred: [' Bras (0.74)', ' Rio (0.11)', ' Sao (0.04)'] | no_beta: ['  (0.26)', ' New (0.11)', ' Bras (0.06)']\n",
      "Canada -> Ottawa | pred: [' Toronto (0.28)', ' Ottawa (0.23)', ' Vancouver (0.10)'] | no_beta: ['  (0.22)', ' New (0.18)', ' Washington (0.08)']\n",
      "Chile -> Santiago | pred: [' Santiago (0.98)', '  (0.01)', ' Chile (0.01)'] | no_beta: ['  (0.34)', ' Santiago (0.14)', '\\n (0.09)']\n",
      "China -> Beijing | pred: [' Beijing (0.96)', ' Shanghai (0.03)', ' China (0.00)'] | no_beta: [' Beijing (0.71)', ' New (0.07)', '  (0.05)']\n",
      "Colombia -> Bogot\\u00e1 | pred: [' Bog (0.76)', '  (0.12)', '\\n (0.02)'] | no_beta: ['  (0.40)', ' New (0.17)', '\\n (0.10)']\n",
      "Egypt -> Cairo | pred: [' Cairo (0.98)', '  (0.00)', '\\n (0.00)'] | no_beta: ['  (0.27)', ' Cairo (0.24)', '\\n (0.11)']\n",
      "France -> Paris | pred: [' Paris (0.99)', ' France (0.00)', '  (0.00)'] | no_beta: [' Paris (0.58)', '  (0.11)', ' New (0.06)']\n",
      "Japan -> Tokyo | pred: [' Tokyo (1.00)', ' Osaka (0.00)', ' Japan (0.00)'] | no_beta: [' Tokyo (0.68)', '  (0.07)', ' New (0.06)']\n",
      "Mexico -> Mexico City | pred: [' Mexico (0.90)', '  (0.02)', ' New (0.02)'] | no_beta: [' New (0.26)', '  (0.24)', '\\n (0.07)']\n",
      "Nigeria -> Abuja | pred: [' New (0.18)', '  (0.15)', ' Abu (0.09)'] | no_beta: [' New (0.26)', '  (0.22)', '\\n (0.08)']\n",
      "Spain -> Madrid | pred: [' Madrid (0.91)', ' Barcelona (0.03)', '  (0.01)'] | no_beta: ['  (0.22)', ' Madrid (0.14)', ' New (0.12)']\n",
      "Turkey -> Ankara | pred: [' Istanbul (0.52)', ' Ankara (0.46)', ' Turkey (0.01)'] | no_beta: ['  (0.18)', ' Ankara (0.17)', ' Istanbul (0.17)']\n",
      "United States -> Washington D.C. | pred: [' Washington (0.82)', ' New (0.11)', ' Los (0.03)'] | no_beta: [' New (0.35)', ' Washington (0.31)', '  (0.10)']\n",
      "Venezuela -> Caracas | pred: [' Car (0.73)', '  (0.15)', '\\n (0.04)'] | no_beta: ['  (0.44)', '\\n (0.14)', ' New (0.11)']\n"
     ]
    }
   ],
   "source": [
    "for sample in test.samples:\n",
    "    pred = operator(sample.subject).predictions[:3]\n",
    "    no_beta_pred = no_beta(sample.subject).predictions[:3]\n",
    "    print(f\"{sample} | pred: {[f'{p.token} ({p.prob:.2f})' for p in pred]} | no_beta: {[f'{p.token} ({p.prob:.2f})' for p in no_beta_pred]}\")"
   ]
  },
  {
   "cell_type": "code",
   "execution_count": 11,
   "metadata": {},
   "outputs": [
    {
     "name": "stdout",
     "output_type": "stream",
     "text": [
      "h.norm()=69.938 | weight.norm()=37.688 | bias.norm()=249.500\n",
      "h.norm()=69.625 | weight.norm()=41.125 | bias.norm()=229.750\n",
      "h.norm()=72.812 | weight.norm()=49.156 | bias.norm()=231.250\n",
      "h.norm()=68.688 | weight.norm()=31.344 | bias.norm()=238.375\n",
      "h.norm()=68.250 | weight.norm()=34.656 | bias.norm()=236.250\n",
      "h.norm()=65.875 | weight.norm()=17.297 | bias.norm()=249.750\n",
      "h.norm()=69.312 | weight.norm()=30.594 | bias.norm()=238.250\n",
      "h.norm()=69.625 | weight.norm()=34.469 | bias.norm()=247.875\n",
      "h.norm()=66.375 | weight.norm()=33.594 | bias.norm()=261.500\n",
      "h.norm()=67.812 | weight.norm()=31.797 | bias.norm()=229.125\n"
     ]
    }
   ],
   "source": [
    "for approx in operator.metadata[\"approxes\"]:\n",
    "    h = approx.h\n",
    "    weight = approx.weight\n",
    "    bias = approx.bias\n",
    "    print(f\"{h.norm()=:.3f} | {weight.norm()=:.3f} | {bias.norm()=:.3f}\")"
   ]
  },
  {
   "cell_type": "code",
   "execution_count": 38,
   "metadata": {},
   "outputs": [
    {
     "name": "stdout",
     "output_type": "stream",
     "text": [
      "2023-06-26 12:39:58 src.operators INFO     note that subject=Peru, h_index=37\n"
     ]
    },
    {
     "name": "stdout",
     "output_type": "stream",
     "text": [
      "2023-06-26 12:39:58 src.operators INFO     l2_norm=65.000\n",
      "2023-06-26 12:39:58 src.operators INFO     subj='Peru' | h_norm=65.0\n",
      "2023-06-26 12:39:58 src.operators INFO     subj='Germany' | h_norm=65.0\n",
      "2023-06-26 12:39:58 src.operators INFO     mythical_h_norm=59.40625\n",
      "2023-06-26 12:40:02 src.operators INFO     ----------------------------------\n",
      "2023-06-26 12:40:02 src.operators INFO     note that subject=Australia, h_index=36\n",
      "2023-06-26 12:40:03 src.operators INFO     l2_norm=65.000\n",
      "2023-06-26 12:40:03 src.operators INFO     subj='Australia' | h_norm=65.0\n",
      "2023-06-26 12:40:03 src.operators INFO     subj='South Korea' | h_norm=65.0\n",
      "2023-06-26 12:40:03 src.operators INFO     mythical_h_norm=59.96875\n",
      "2023-06-26 12:40:07 src.operators INFO     ----------------------------------\n",
      "2023-06-26 12:40:07 src.operators INFO     note that subject=Germany, h_index=36\n",
      "2023-06-26 12:40:07 src.operators INFO     l2_norm=65.000\n",
      "2023-06-26 12:40:07 src.operators INFO     subj='Germany' | h_norm=65.0\n",
      "2023-06-26 12:40:07 src.operators INFO     subj='India' | h_norm=65.0\n",
      "2023-06-26 12:40:07 src.operators INFO     mythical_h_norm=60.375\n",
      "2023-06-26 12:40:11 src.operators INFO     ----------------------------------\n",
      "2023-06-26 12:40:11 src.operators INFO     note that subject=Pakistan, h_index=37\n",
      "2023-06-26 12:40:11 src.operators INFO     l2_norm=65.000\n",
      "2023-06-26 12:40:11 src.operators INFO     subj='Pakistan' | h_norm=65.0\n",
      "2023-06-26 12:40:11 src.operators INFO     subj='Russia' | h_norm=65.0\n",
      "2023-06-26 12:40:11 src.operators INFO     mythical_h_norm=60.09375\n",
      "2023-06-26 12:40:15 src.operators INFO     ----------------------------------\n",
      "2023-06-26 12:40:15 src.operators INFO     note that subject=Argentina, h_index=35\n",
      "2023-06-26 12:40:15 src.operators INFO     l2_norm=65.000\n",
      "2023-06-26 12:40:15 src.operators INFO     subj='Argentina' | h_norm=65.0\n",
      "2023-06-26 12:40:15 src.operators INFO     subj='India' | h_norm=65.0\n",
      "2023-06-26 12:40:15 src.operators INFO     mythical_h_norm=59.78125\n",
      "2023-06-26 12:40:19 src.operators INFO     ----------------------------------\n"
     ]
    }
   ],
   "source": [
    "mythical_estimator = operators.JacobianIclMeanEstimator_Imaginary(\n",
    "    mt = mt, h_layer=h_layer, beta=1.0, magnitude_h=65.0\n",
    ")\n",
    "mythical_operator = mythical_estimator(train)"
   ]
  },
  {
   "cell_type": "code",
   "execution_count": 40,
   "metadata": {},
   "outputs": [
    {
     "name": "stdout",
     "output_type": "stream",
     "text": [
      "h.norm()=59.406 | weight.norm()=89.125 | bias.norm()=232.250\n",
      "h.norm()=59.969 | weight.norm()=58.625 | bias.norm()=235.625\n",
      "h.norm()=60.375 | weight.norm()=58.312 | bias.norm()=251.000\n",
      "h.norm()=60.094 | weight.norm()=68.938 | bias.norm()=254.500\n",
      "h.norm()=59.781 | weight.norm()=66.562 | bias.norm()=236.750\n"
     ]
    }
   ],
   "source": [
    "for approx in mythical_operator.metadata[\"approxes\"]:\n",
    "    h = approx.h\n",
    "    weight = approx.weight\n",
    "    bias = approx.bias\n",
    "    print(f\"{h.norm()=:.3f} | {weight.norm()=:.3f} | {bias.norm()=:.3f}\")"
   ]
  },
  {
   "cell_type": "code",
   "execution_count": 49,
   "metadata": {},
   "outputs": [
    {
     "name": "stdout",
     "output_type": "stream",
     "text": [
      "operator.weight.norm()=22.516 | mythical_operator.weight.norm()=46.750\n",
      "operator.bias.norm()=213.000 | mythical_operator.bias.norm()=219.000\n"
     ]
    }
   ],
   "source": [
    "print(f\"{operator.weight.norm()=:.3f} | {mythical_operator.weight.norm()=:.3f}\")\n",
    "print(f\"{operator.bias.norm()=:.3f} | {mythical_operator.bias.norm()=:.3f}\")\n"
   ]
  },
  {
   "cell_type": "code",
   "execution_count": 55,
   "metadata": {},
   "outputs": [],
   "source": [
    "s1 = operator.metadata[\"approxes\"][0].h\n",
    "s2 = operator.metadata[\"approxes\"][1].h\n",
    "\n",
    "j_delta_h = operator.weight @ (s1 - s2)\n",
    "myth_j_delta_h = mythical_operator.weight @ (s1 - s2)"
   ]
  },
  {
   "cell_type": "code",
   "execution_count": 60,
   "metadata": {},
   "outputs": [
    {
     "data": {
      "text/plain": [
       "tensor(0.5620, device='cuda:0', dtype=torch.float16, grad_fn=<SumBackward1>)"
      ]
     },
     "execution_count": 60,
     "metadata": {},
     "output_type": "execute_result"
    }
   ],
   "source": [
    "torch.cosine_similarity(j_delta_h, myth_j_delta_h, dim=-1)"
   ]
  },
  {
   "cell_type": "code",
   "execution_count": 62,
   "metadata": {},
   "outputs": [
    {
     "data": {
      "text/plain": [
       "tensor([0.9702], device='cuda:0', dtype=torch.float16, grad_fn=<SumBackward1>)"
      ]
     },
     "execution_count": 62,
     "metadata": {},
     "output_type": "execute_result"
    }
   ],
   "source": [
    "torch.cosine_similarity(operator.bias, mythical_operator.bias, dim=-1)"
   ]
  },
  {
   "cell_type": "code",
   "execution_count": null,
   "metadata": {},
   "outputs": [],
   "source": []
  },
  {
   "cell_type": "code",
   "execution_count": null,
   "metadata": {},
   "outputs": [],
   "source": []
  },
  {
   "attachments": {},
   "cell_type": "markdown",
   "metadata": {},
   "source": [
    "### Fixing the hparams"
   ]
  },
  {
   "cell_type": "code",
   "execution_count": 42,
   "metadata": {},
   "outputs": [
    {
     "data": {
      "application/vnd.jupyter.widget-view+json": {
       "model_id": "77888089ceec49c6813927cecd5086cb",
       "version_major": 2,
       "version_minor": 0
      },
      "text/plain": [
       "  0%|          | 0/6 [00:00<?, ?it/s]"
      ]
     },
     "metadata": {},
     "output_type": "display_data"
    },
    {
     "name": "stdout",
     "output_type": "stream",
     "text": [
      "2023-06-26 12:41:37 src.operators INFO     note that subject=Pakistan, h_index=36\n"
     ]
    },
    {
     "name": "stdout",
     "output_type": "stream",
     "text": [
      "2023-06-26 12:41:37 src.operators INFO     l2_norm=65.000\n",
      "2023-06-26 12:41:37 src.operators INFO     subj='Pakistan' | h_norm=65.0\n",
      "2023-06-26 12:41:37 src.operators INFO     subj='South Korea' | h_norm=65.0\n",
      "2023-06-26 12:41:37 src.operators INFO     mythical_h_norm=59.65625\n",
      "2023-06-26 12:41:41 src.operators INFO     ----------------------------------\n",
      "2023-06-26 12:41:41 src.operators INFO     note that subject=Germany, h_index=36\n",
      "2023-06-26 12:41:41 src.operators INFO     l2_norm=65.000\n",
      "2023-06-26 12:41:41 src.operators INFO     subj='Germany' | h_norm=65.0\n",
      "2023-06-26 12:41:41 src.operators INFO     subj='India' | h_norm=65.0\n",
      "2023-06-26 12:41:41 src.operators INFO     mythical_h_norm=60.375\n",
      "2023-06-26 12:41:45 src.operators INFO     ----------------------------------\n",
      "2023-06-26 12:41:45 src.operators INFO     note that subject=Pakistan, h_index=37\n",
      "2023-06-26 12:41:45 src.operators INFO     l2_norm=65.000\n",
      "2023-06-26 12:41:45 src.operators INFO     subj='Pakistan' | h_norm=65.0\n",
      "2023-06-26 12:41:45 src.operators INFO     subj='Germany' | h_norm=65.0\n",
      "2023-06-26 12:41:45 src.operators INFO     mythical_h_norm=59.53125\n",
      "2023-06-26 12:41:49 src.operators INFO     ----------------------------------\n",
      "2023-06-26 12:41:49 src.operators INFO     note that subject=Pakistan, h_index=37\n",
      "2023-06-26 12:41:49 src.operators INFO     l2_norm=65.000\n",
      "2023-06-26 12:41:49 src.operators INFO     subj='Pakistan' | h_norm=65.0\n",
      "2023-06-26 12:41:49 src.operators INFO     subj='Australia' | h_norm=65.0\n",
      "2023-06-26 12:41:49 src.operators INFO     mythical_h_norm=60.0625\n",
      "2023-06-26 12:41:53 src.operators INFO     ----------------------------------\n",
      "2023-06-26 12:41:53 src.operators INFO     note that subject=Saudi Arabia, h_index=36\n",
      "2023-06-26 12:41:53 src.operators INFO     l2_norm=65.000\n",
      "2023-06-26 12:41:53 src.operators INFO     subj='Saudi Arabia' | h_norm=65.0\n",
      "2023-06-26 12:41:53 src.operators INFO     subj='South Korea' | h_norm=65.0\n",
      "2023-06-26 12:41:53 src.operators INFO     mythical_h_norm=60.21875\n",
      "2023-06-26 12:41:57 src.operators INFO     ----------------------------------\n",
      "2023-06-26 12:41:57 src.operators INFO     note that subject=Peru, h_index=37\n",
      "2023-06-26 12:41:57 src.operators INFO     l2_norm=65.000\n",
      "2023-06-26 12:41:57 src.operators INFO     subj='Peru' | h_norm=65.0\n",
      "2023-06-26 12:41:57 src.operators INFO     subj='Australia' | h_norm=65.0\n",
      "2023-06-26 12:41:57 src.operators INFO     mythical_h_norm=59.5625\n",
      "2023-06-26 12:42:01 src.operators INFO     ----------------------------------\n",
      "2023-06-26 12:42:01 src.operators INFO     note that subject=Russia, h_index=36\n",
      "2023-06-26 12:42:01 src.operators INFO     l2_norm=65.000\n",
      "2023-06-26 12:42:01 src.operators INFO     subj='Russia' | h_norm=65.0\n",
      "2023-06-26 12:42:01 src.operators INFO     subj='South Korea' | h_norm=65.0\n",
      "2023-06-26 12:42:01 src.operators INFO     mythical_h_norm=59.90625\n",
      "2023-06-26 12:42:05 src.operators INFO     ----------------------------------\n",
      "2023-06-26 12:42:05 src.operators INFO     note that subject=Peru, h_index=36\n",
      "2023-06-26 12:42:05 src.operators INFO     l2_norm=65.000\n",
      "2023-06-26 12:42:05 src.operators INFO     subj='Peru' | h_norm=65.0\n",
      "2023-06-26 12:42:05 src.operators INFO     subj='South Korea' | h_norm=65.0\n",
      "2023-06-26 12:42:05 src.operators INFO     mythical_h_norm=59.0625\n",
      "2023-06-26 12:42:09 src.operators INFO     ----------------------------------\n",
      "++++++++++++++++++++++++++++++++++++++++++++++++++++++++++\n",
      "2023-06-26 12:42:09 src.operators INFO     note that subject=Germany, h_index=33\n",
      "2023-06-26 12:42:09 src.operators INFO     l2_norm=65.000\n",
      "2023-06-26 12:42:09 src.operators INFO     subj='Germany' | h_norm=65.0\n",
      "2023-06-26 12:42:09 src.operators INFO     subj='Russia' | h_norm=65.0\n",
      "2023-06-26 12:42:09 src.operators INFO     subj='Italy' | h_norm=65.0\n",
      "2023-06-26 12:42:09 src.operators INFO     mythical_h_norm=60.625\n",
      "2023-06-26 12:42:13 src.operators INFO     ----------------------------------\n",
      "2023-06-26 12:42:13 src.operators INFO     note that subject=Australia, h_index=32\n",
      "2023-06-26 12:42:13 src.operators INFO     l2_norm=65.000\n",
      "2023-06-26 12:42:13 src.operators INFO     subj='Australia' | h_norm=65.0\n",
      "2023-06-26 12:42:13 src.operators INFO     subj='Italy' | h_norm=65.0\n",
      "2023-06-26 12:42:13 src.operators INFO     subj='India' | h_norm=65.0\n",
      "2023-06-26 12:42:13 src.operators INFO     mythical_h_norm=59.53125\n",
      "2023-06-26 12:42:17 src.operators INFO     ----------------------------------\n",
      "2023-06-26 12:42:17 src.operators INFO     note that subject=Argentina, h_index=32\n",
      "2023-06-26 12:42:17 src.operators INFO     l2_norm=65.000\n",
      "2023-06-26 12:42:17 src.operators INFO     subj='Argentina' | h_norm=65.0\n",
      "2023-06-26 12:42:17 src.operators INFO     subj='Germany' | h_norm=65.0\n",
      "2023-06-26 12:42:17 src.operators INFO     subj='Italy' | h_norm=65.0\n",
      "2023-06-26 12:42:17 src.operators INFO     mythical_h_norm=60.40625\n",
      "2023-06-26 12:42:21 src.operators INFO     ----------------------------------\n",
      "2023-06-26 12:42:21 src.operators INFO     note that subject=Pakistan, h_index=32\n",
      "2023-06-26 12:42:21 src.operators INFO     l2_norm=65.000\n",
      "2023-06-26 12:42:21 src.operators INFO     subj='Pakistan' | h_norm=65.0\n",
      "2023-06-26 12:42:21 src.operators INFO     subj='Saudi Arabia' | h_norm=65.0\n",
      "2023-06-26 12:42:21 src.operators INFO     subj='Italy' | h_norm=65.0\n",
      "2023-06-26 12:42:21 src.operators INFO     mythical_h_norm=57.46875\n",
      "2023-06-26 12:42:25 src.operators INFO     ----------------------------------\n",
      "2023-06-26 12:42:25 src.operators INFO     note that subject=Peru, h_index=32\n",
      "2023-06-26 12:42:25 src.operators INFO     l2_norm=65.000\n",
      "2023-06-26 12:42:25 src.operators INFO     subj='Peru' | h_norm=65.0\n",
      "2023-06-26 12:42:25 src.operators INFO     subj='Germany' | h_norm=65.0\n",
      "2023-06-26 12:42:25 src.operators INFO     subj='Saudi Arabia' | h_norm=65.0\n",
      "2023-06-26 12:42:25 src.operators INFO     mythical_h_norm=56.9375\n",
      "2023-06-26 12:42:29 src.operators INFO     ----------------------------------\n",
      "2023-06-26 12:42:29 src.operators INFO     note that subject=Argentina, h_index=31\n",
      "2023-06-26 12:42:29 src.operators INFO     l2_norm=65.000\n",
      "2023-06-26 12:42:29 src.operators INFO     subj='Argentina' | h_norm=65.0\n",
      "2023-06-26 12:42:29 src.operators INFO     subj='Peru' | h_norm=65.0\n",
      "2023-06-26 12:42:29 src.operators INFO     subj='South Korea' | h_norm=65.0\n",
      "2023-06-26 12:42:29 src.operators INFO     mythical_h_norm=57.84375\n",
      "2023-06-26 12:42:32 src.operators INFO     ----------------------------------\n",
      "2023-06-26 12:42:32 src.operators INFO     note that subject=Saudi Arabia, h_index=33\n",
      "2023-06-26 12:42:33 src.operators INFO     l2_norm=65.000\n",
      "2023-06-26 12:42:33 src.operators INFO     subj='Saudi Arabia' | h_norm=65.0\n",
      "2023-06-26 12:42:33 src.operators INFO     subj='Russia' | h_norm=65.0\n",
      "2023-06-26 12:42:33 src.operators INFO     subj='Italy' | h_norm=65.0\n",
      "2023-06-26 12:42:33 src.operators INFO     mythical_h_norm=58.25\n",
      "2023-06-26 12:42:36 src.operators INFO     ----------------------------------\n",
      "2023-06-26 12:42:36 src.operators INFO     note that subject=Australia, h_index=32\n",
      "2023-06-26 12:42:37 src.operators INFO     l2_norm=65.000\n",
      "2023-06-26 12:42:37 src.operators INFO     subj='Australia' | h_norm=65.0625\n",
      "2023-06-26 12:42:37 src.operators INFO     subj='Saudi Arabia' | h_norm=65.0\n",
      "2023-06-26 12:42:37 src.operators INFO     subj='Russia' | h_norm=65.0\n",
      "2023-06-26 12:42:37 src.operators INFO     mythical_h_norm=58.0625\n",
      "2023-06-26 12:42:40 src.operators INFO     ----------------------------------\n",
      "++++++++++++++++++++++++++++++++++++++++++++++++++++++++++\n",
      "2023-06-26 12:42:40 src.operators INFO     note that subject=Argentina, h_index=27\n",
      "2023-06-26 12:42:41 src.operators INFO     l2_norm=65.000\n",
      "2023-06-26 12:42:41 src.operators INFO     subj='Argentina' | h_norm=65.0\n",
      "2023-06-26 12:42:41 src.operators INFO     subj='Germany' | h_norm=65.0\n",
      "2023-06-26 12:42:41 src.operators INFO     subj='Russia' | h_norm=65.0\n",
      "2023-06-26 12:42:41 src.operators INFO     subj='India' | h_norm=65.0\n",
      "2023-06-26 12:42:41 src.operators INFO     mythical_h_norm=58.15625\n",
      "2023-06-26 12:42:44 src.operators INFO     ----------------------------------\n",
      "2023-06-26 12:42:44 src.operators INFO     note that subject=Pakistan, h_index=28\n",
      "2023-06-26 12:42:44 src.operators INFO     l2_norm=65.000\n",
      "2023-06-26 12:42:44 src.operators INFO     subj='Pakistan' | h_norm=65.0\n",
      "2023-06-26 12:42:44 src.operators INFO     subj='Argentina' | h_norm=65.0\n",
      "2023-06-26 12:42:44 src.operators INFO     subj='Australia' | h_norm=65.0\n",
      "2023-06-26 12:42:44 src.operators INFO     subj='Italy' | h_norm=65.0\n",
      "2023-06-26 12:42:44 src.operators INFO     mythical_h_norm=58.25\n",
      "2023-06-26 12:42:48 src.operators INFO     ----------------------------------\n",
      "2023-06-26 12:42:48 src.operators INFO     note that subject=Peru, h_index=29\n",
      "2023-06-26 12:42:48 src.operators INFO     l2_norm=65.000\n",
      "2023-06-26 12:42:48 src.operators INFO     subj='Peru' | h_norm=65.0\n",
      "2023-06-26 12:42:48 src.operators INFO     subj='Australia' | h_norm=65.0\n",
      "2023-06-26 12:42:48 src.operators INFO     subj='Russia' | h_norm=65.0\n",
      "2023-06-26 12:42:48 src.operators INFO     subj='Italy' | h_norm=65.0\n",
      "2023-06-26 12:42:48 src.operators INFO     mythical_h_norm=57.71875\n",
      "2023-06-26 12:42:52 src.operators INFO     ----------------------------------\n",
      "2023-06-26 12:42:52 src.operators INFO     note that subject=Pakistan, h_index=28\n",
      "2023-06-26 12:42:52 src.operators INFO     l2_norm=65.000\n",
      "2023-06-26 12:42:52 src.operators INFO     subj='Pakistan' | h_norm=65.0\n",
      "2023-06-26 12:42:52 src.operators INFO     subj='Peru' | h_norm=65.0\n",
      "2023-06-26 12:42:52 src.operators INFO     subj='Australia' | h_norm=65.0\n",
      "2023-06-26 12:42:52 src.operators INFO     subj='India' | h_norm=65.0\n",
      "2023-06-26 12:42:52 src.operators INFO     mythical_h_norm=58.15625\n",
      "2023-06-26 12:42:56 src.operators INFO     ----------------------------------\n",
      "2023-06-26 12:42:56 src.operators INFO     note that subject=Pakistan, h_index=27\n",
      "2023-06-26 12:42:56 src.operators INFO     l2_norm=65.000\n",
      "2023-06-26 12:42:56 src.operators INFO     subj='Pakistan' | h_norm=65.0\n",
      "2023-06-26 12:42:56 src.operators INFO     subj='Peru' | h_norm=65.0\n",
      "2023-06-26 12:42:56 src.operators INFO     subj='Saudi Arabia' | h_norm=65.0\n",
      "2023-06-26 12:42:56 src.operators INFO     subj='India' | h_norm=65.0\n",
      "2023-06-26 12:42:56 src.operators INFO     mythical_h_norm=57.40625\n",
      "2023-06-26 12:43:00 src.operators INFO     ----------------------------------\n",
      "2023-06-26 12:43:00 src.operators INFO     note that subject=Argentina, h_index=26\n",
      "2023-06-26 12:43:00 src.operators INFO     l2_norm=65.000\n",
      "2023-06-26 12:43:00 src.operators INFO     subj='Argentina' | h_norm=65.0\n",
      "2023-06-26 12:43:00 src.operators INFO     subj='Germany' | h_norm=65.0\n",
      "2023-06-26 12:43:00 src.operators INFO     subj='Saudi Arabia' | h_norm=65.0\n",
      "2023-06-26 12:43:00 src.operators INFO     subj='South Korea' | h_norm=65.0\n",
      "2023-06-26 12:43:00 src.operators INFO     mythical_h_norm=57.125\n",
      "2023-06-26 12:43:04 src.operators INFO     ----------------------------------\n",
      "2023-06-26 12:43:04 src.operators INFO     note that subject=Peru, h_index=28\n",
      "2023-06-26 12:43:04 src.operators INFO     l2_norm=65.000\n",
      "2023-06-26 12:43:04 src.operators INFO     subj='Peru' | h_norm=65.0\n",
      "2023-06-26 12:43:04 src.operators INFO     subj='Russia' | h_norm=64.9375\n",
      "2023-06-26 12:43:04 src.operators INFO     subj='Italy' | h_norm=65.0\n",
      "2023-06-26 12:43:04 src.operators INFO     subj='India' | h_norm=65.0\n",
      "2023-06-26 12:43:04 src.operators INFO     mythical_h_norm=57.8125\n",
      "2023-06-26 12:43:08 src.operators INFO     ----------------------------------\n",
      "2023-06-26 12:43:08 src.operators INFO     note that subject=Peru, h_index=29\n",
      "2023-06-26 12:43:08 src.operators INFO     l2_norm=65.000\n",
      "2023-06-26 12:43:08 src.operators INFO     subj='Peru' | h_norm=65.0\n",
      "2023-06-26 12:43:08 src.operators INFO     subj='Australia' | h_norm=65.0\n",
      "2023-06-26 12:43:08 src.operators INFO     subj='Germany' | h_norm=65.0\n",
      "2023-06-26 12:43:08 src.operators INFO     subj='Italy' | h_norm=65.0\n",
      "2023-06-26 12:43:08 src.operators INFO     mythical_h_norm=58.8125\n",
      "2023-06-26 12:43:12 src.operators INFO     ----------------------------------\n",
      "++++++++++++++++++++++++++++++++++++++++++++++++++++++++++\n",
      "2023-06-26 12:43:12 src.operators INFO     note that subject=Peru, h_index=23\n",
      "2023-06-26 12:43:12 src.operators INFO     l2_norm=65.000\n",
      "2023-06-26 12:43:12 src.operators INFO     subj='Peru' | h_norm=65.0\n",
      "2023-06-26 12:43:12 src.operators INFO     subj='Germany' | h_norm=65.0\n",
      "2023-06-26 12:43:12 src.operators INFO     subj='Saudi Arabia' | h_norm=65.0\n",
      "2023-06-26 12:43:12 src.operators INFO     subj='Italy' | h_norm=65.0\n",
      "2023-06-26 12:43:12 src.operators INFO     subj='South Korea' | h_norm=65.0\n",
      "2023-06-26 12:43:12 src.operators INFO     mythical_h_norm=56.9375\n",
      "2023-06-26 12:43:16 src.operators INFO     ----------------------------------\n",
      "2023-06-26 12:43:16 src.operators INFO     note that subject=Pakistan, h_index=24\n",
      "2023-06-26 12:43:16 src.operators INFO     l2_norm=65.000\n",
      "2023-06-26 12:43:16 src.operators INFO     subj='Pakistan' | h_norm=65.0\n",
      "2023-06-26 12:43:16 src.operators INFO     subj='Peru' | h_norm=65.0\n",
      "2023-06-26 12:43:16 src.operators INFO     subj='Australia' | h_norm=65.0\n",
      "2023-06-26 12:43:16 src.operators INFO     subj='Germany' | h_norm=65.0\n",
      "2023-06-26 12:43:16 src.operators INFO     subj='India' | h_norm=65.0\n",
      "2023-06-26 12:43:16 src.operators INFO     mythical_h_norm=57.71875\n",
      "2023-06-26 12:43:19 src.operators INFO     ----------------------------------\n",
      "2023-06-26 12:43:19 src.operators INFO     note that subject=Australia, h_index=22\n",
      "2023-06-26 12:43:19 src.operators INFO     l2_norm=65.000\n",
      "2023-06-26 12:43:19 src.operators INFO     subj='Australia' | h_norm=65.0\n",
      "2023-06-26 12:43:19 src.operators INFO     subj='Germany' | h_norm=65.0\n",
      "2023-06-26 12:43:19 src.operators INFO     subj='Saudi Arabia' | h_norm=65.0\n",
      "2023-06-26 12:43:19 src.operators INFO     subj='India' | h_norm=65.0\n",
      "2023-06-26 12:43:19 src.operators INFO     subj='South Korea' | h_norm=65.0\n",
      "2023-06-26 12:43:19 src.operators INFO     mythical_h_norm=57.21875\n",
      "2023-06-26 12:43:23 src.operators INFO     ----------------------------------\n",
      "2023-06-26 12:43:23 src.operators INFO     note that subject=Pakistan, h_index=24\n",
      "2023-06-26 12:43:23 src.operators INFO     l2_norm=65.000\n",
      "2023-06-26 12:43:23 src.operators INFO     subj='Pakistan' | h_norm=65.0\n",
      "2023-06-26 12:43:23 src.operators INFO     subj='Peru' | h_norm=65.0\n",
      "2023-06-26 12:43:23 src.operators INFO     subj='Saudi Arabia' | h_norm=65.0\n",
      "2023-06-26 12:43:23 src.operators INFO     subj='Russia' | h_norm=65.0\n",
      "2023-06-26 12:43:23 src.operators INFO     subj='Italy' | h_norm=65.0\n",
      "2023-06-26 12:43:23 src.operators INFO     mythical_h_norm=56.4375\n",
      "2023-06-26 12:43:27 src.operators INFO     ----------------------------------\n",
      "2023-06-26 12:43:27 src.operators INFO     note that subject=Pakistan, h_index=23\n",
      "2023-06-26 12:43:27 src.operators INFO     l2_norm=65.000\n",
      "2023-06-26 12:43:27 src.operators INFO     subj='Pakistan' | h_norm=65.0\n",
      "2023-06-26 12:43:27 src.operators INFO     subj='Peru' | h_norm=65.0\n",
      "2023-06-26 12:43:27 src.operators INFO     subj='Saudi Arabia' | h_norm=65.0\n",
      "2023-06-26 12:43:27 src.operators INFO     subj='Russia' | h_norm=65.0\n",
      "2023-06-26 12:43:27 src.operators INFO     subj='South Korea' | h_norm=65.0\n",
      "2023-06-26 12:43:27 src.operators INFO     mythical_h_norm=56.25\n",
      "2023-06-26 12:43:31 src.operators INFO     ----------------------------------\n",
      "2023-06-26 12:43:31 src.operators INFO     note that subject=Pakistan, h_index=23\n",
      "2023-06-26 12:43:31 src.operators INFO     l2_norm=65.000\n",
      "2023-06-26 12:43:31 src.operators INFO     subj='Pakistan' | h_norm=65.0\n",
      "2023-06-26 12:43:31 src.operators INFO     subj='Argentina' | h_norm=65.0\n",
      "2023-06-26 12:43:31 src.operators INFO     subj='Australia' | h_norm=65.0\n",
      "2023-06-26 12:43:31 src.operators INFO     subj='Saudi Arabia' | h_norm=65.0\n",
      "2023-06-26 12:43:31 src.operators INFO     subj='Russia' | h_norm=65.0\n",
      "2023-06-26 12:43:31 src.operators INFO     mythical_h_norm=56.78125\n",
      "2023-06-26 12:43:35 src.operators INFO     ----------------------------------\n",
      "2023-06-26 12:43:35 src.operators INFO     note that subject=Pakistan, h_index=24\n",
      "2023-06-26 12:43:35 src.operators INFO     l2_norm=65.000\n",
      "2023-06-26 12:43:35 src.operators INFO     subj='Pakistan' | h_norm=65.0\n",
      "2023-06-26 12:43:35 src.operators INFO     subj='Peru' | h_norm=65.0\n",
      "2023-06-26 12:43:35 src.operators INFO     subj='Australia' | h_norm=65.0\n",
      "2023-06-26 12:43:35 src.operators INFO     subj='Italy' | h_norm=65.0\n",
      "2023-06-26 12:43:35 src.operators INFO     subj='South Korea' | h_norm=65.0\n",
      "2023-06-26 12:43:35 src.operators INFO     mythical_h_norm=56.96875\n",
      "2023-06-26 12:43:39 src.operators INFO     ----------------------------------\n",
      "2023-06-26 12:43:39 src.operators INFO     note that subject=Pakistan, h_index=23\n",
      "2023-06-26 12:43:39 src.operators INFO     l2_norm=65.000\n",
      "2023-06-26 12:43:39 src.operators INFO     subj='Pakistan' | h_norm=65.0\n",
      "2023-06-26 12:43:39 src.operators INFO     subj='Argentina' | h_norm=65.0\n",
      "2023-06-26 12:43:39 src.operators INFO     subj='Peru' | h_norm=65.0\n",
      "2023-06-26 12:43:39 src.operators INFO     subj='Australia' | h_norm=65.0\n",
      "2023-06-26 12:43:39 src.operators INFO     subj='India' | h_norm=64.9375\n",
      "2023-06-26 12:43:39 src.operators INFO     mythical_h_norm=58.0625\n",
      "2023-06-26 12:43:42 src.operators INFO     ----------------------------------\n",
      "++++++++++++++++++++++++++++++++++++++++++++++++++++++++++\n",
      "2023-06-26 12:43:42 src.operators INFO     note that subject=Peru, h_index=19\n",
      "2023-06-26 12:43:42 src.operators INFO     l2_norm=65.000\n",
      "2023-06-26 12:43:42 src.operators INFO     subj='Peru' | h_norm=65.0\n",
      "2023-06-26 12:43:42 src.operators INFO     subj='Australia' | h_norm=65.0\n",
      "2023-06-26 12:43:42 src.operators INFO     subj='Russia' | h_norm=65.0\n",
      "2023-06-26 12:43:42 src.operators INFO     subj='Italy' | h_norm=65.0\n",
      "2023-06-26 12:43:42 src.operators INFO     subj='India' | h_norm=65.0\n",
      "2023-06-26 12:43:42 src.operators INFO     subj='South Korea' | h_norm=65.0\n",
      "2023-06-26 12:43:42 src.operators INFO     mythical_h_norm=57.28125\n",
      "2023-06-26 12:43:46 src.operators INFO     ----------------------------------\n",
      "2023-06-26 12:43:46 src.operators INFO     note that subject=Pakistan, h_index=19\n",
      "2023-06-26 12:43:46 src.operators INFO     l2_norm=65.000\n",
      "2023-06-26 12:43:46 src.operators INFO     subj='Pakistan' | h_norm=65.0\n",
      "2023-06-26 12:43:46 src.operators INFO     subj='Argentina' | h_norm=65.0\n",
      "2023-06-26 12:43:46 src.operators INFO     subj='Peru' | h_norm=65.0\n",
      "2023-06-26 12:43:46 src.operators INFO     subj='Australia' | h_norm=64.9375\n",
      "2023-06-26 12:43:46 src.operators INFO     subj='Germany' | h_norm=65.0\n",
      "2023-06-26 12:43:46 src.operators INFO     subj='Saudi Arabia' | h_norm=65.0\n",
      "2023-06-26 12:43:46 src.operators INFO     mythical_h_norm=56.71875\n",
      "2023-06-26 12:43:50 src.operators INFO     ----------------------------------\n",
      "2023-06-26 12:43:50 src.operators INFO     note that subject=Pakistan, h_index=19\n",
      "2023-06-26 12:43:50 src.operators INFO     l2_norm=65.000\n",
      "2023-06-26 12:43:50 src.operators INFO     subj='Pakistan' | h_norm=65.0\n",
      "2023-06-26 12:43:50 src.operators INFO     subj='Peru' | h_norm=65.0\n",
      "2023-06-26 12:43:50 src.operators INFO     subj='Saudi Arabia' | h_norm=65.0\n",
      "2023-06-26 12:43:50 src.operators INFO     subj='Russia' | h_norm=64.9375\n",
      "2023-06-26 12:43:50 src.operators INFO     subj='Italy' | h_norm=65.0\n",
      "2023-06-26 12:43:50 src.operators INFO     subj='India' | h_norm=65.0\n",
      "2023-06-26 12:43:50 src.operators INFO     mythical_h_norm=56.96875\n",
      "2023-06-26 12:43:54 src.operators INFO     ----------------------------------\n",
      "2023-06-26 12:43:54 src.operators INFO     note that subject=Pakistan, h_index=19\n",
      "2023-06-26 12:43:54 src.operators INFO     l2_norm=65.000\n",
      "2023-06-26 12:43:54 src.operators INFO     subj='Pakistan' | h_norm=65.0\n",
      "2023-06-26 12:43:54 src.operators INFO     subj='Peru' | h_norm=65.0\n",
      "2023-06-26 12:43:54 src.operators INFO     subj='Germany' | h_norm=65.0\n",
      "2023-06-26 12:43:54 src.operators INFO     subj='Italy' | h_norm=65.0\n",
      "2023-06-26 12:43:54 src.operators INFO     subj='India' | h_norm=65.0\n",
      "2023-06-26 12:43:54 src.operators INFO     subj='South Korea' | h_norm=65.0\n",
      "2023-06-26 12:43:54 src.operators INFO     mythical_h_norm=57.34375\n",
      "2023-06-26 12:43:58 src.operators INFO     ----------------------------------\n",
      "2023-06-26 12:43:58 src.operators INFO     note that subject=Pakistan, h_index=18\n",
      "2023-06-26 12:43:58 src.operators INFO     l2_norm=65.000\n",
      "2023-06-26 12:43:58 src.operators INFO     subj='Pakistan' | h_norm=65.0\n",
      "2023-06-26 12:43:58 src.operators INFO     subj='Germany' | h_norm=65.0\n",
      "2023-06-26 12:43:58 src.operators INFO     subj='Saudi Arabia' | h_norm=65.0\n",
      "2023-06-26 12:43:58 src.operators INFO     subj='Russia' | h_norm=65.0\n",
      "2023-06-26 12:43:58 src.operators INFO     subj='India' | h_norm=65.0\n",
      "2023-06-26 12:43:58 src.operators INFO     subj='South Korea' | h_norm=65.0\n",
      "2023-06-26 12:43:58 src.operators INFO     mythical_h_norm=57.3125\n",
      "2023-06-26 12:44:02 src.operators INFO     ----------------------------------\n",
      "2023-06-26 12:44:02 src.operators INFO     note that subject=Argentina, h_index=17\n",
      "2023-06-26 12:44:02 src.operators INFO     l2_norm=65.000\n",
      "2023-06-26 12:44:02 src.operators INFO     subj='Argentina' | h_norm=65.0\n",
      "2023-06-26 12:44:02 src.operators INFO     subj='Germany' | h_norm=65.0\n",
      "2023-06-26 12:44:02 src.operators INFO     subj='Saudi Arabia' | h_norm=65.0\n",
      "2023-06-26 12:44:02 src.operators INFO     subj='Italy' | h_norm=65.0\n",
      "2023-06-26 12:44:02 src.operators INFO     subj='India' | h_norm=65.0\n",
      "2023-06-26 12:44:02 src.operators INFO     subj='South Korea' | h_norm=65.0\n",
      "2023-06-26 12:44:02 src.operators INFO     mythical_h_norm=57.125\n",
      "2023-06-26 12:44:05 src.operators INFO     ----------------------------------\n",
      "2023-06-26 12:44:05 src.operators INFO     note that subject=Australia, h_index=18\n",
      "2023-06-26 12:44:05 src.operators INFO     l2_norm=65.000\n",
      "2023-06-26 12:44:05 src.operators INFO     subj='Australia' | h_norm=65.0\n",
      "2023-06-26 12:44:05 src.operators INFO     subj='Germany' | h_norm=65.0\n",
      "2023-06-26 12:44:05 src.operators INFO     subj='Saudi Arabia' | h_norm=65.0\n",
      "2023-06-26 12:44:05 src.operators INFO     subj='Russia' | h_norm=65.0\n",
      "2023-06-26 12:44:05 src.operators INFO     subj='India' | h_norm=65.0\n",
      "2023-06-26 12:44:05 src.operators INFO     subj='South Korea' | h_norm=65.0\n",
      "2023-06-26 12:44:05 src.operators INFO     mythical_h_norm=57.375\n",
      "2023-06-26 12:44:09 src.operators INFO     ----------------------------------\n",
      "2023-06-26 12:44:09 src.operators INFO     note that subject=Argentina, h_index=19\n",
      "2023-06-26 12:44:09 src.operators INFO     l2_norm=65.000\n",
      "2023-06-26 12:44:09 src.operators INFO     subj='Argentina' | h_norm=65.0\n",
      "2023-06-26 12:44:09 src.operators INFO     subj='Peru' | h_norm=65.0\n",
      "2023-06-26 12:44:09 src.operators INFO     subj='Germany' | h_norm=65.0625\n",
      "2023-06-26 12:44:09 src.operators INFO     subj='Russia' | h_norm=65.0\n",
      "2023-06-26 12:44:09 src.operators INFO     subj='Italy' | h_norm=65.0\n",
      "2023-06-26 12:44:09 src.operators INFO     subj='South Korea' | h_norm=65.0\n",
      "2023-06-26 12:44:09 src.operators INFO     mythical_h_norm=57.90625\n",
      "2023-06-26 12:44:13 src.operators INFO     ----------------------------------\n",
      "++++++++++++++++++++++++++++++++++++++++++++++++++++++++++\n",
      "2023-06-26 12:44:13 src.operators INFO     note that subject=Pakistan, h_index=14\n",
      "2023-06-26 12:44:13 src.operators INFO     l2_norm=65.000\n",
      "2023-06-26 12:44:13 src.operators INFO     subj='Pakistan' | h_norm=65.0\n",
      "2023-06-26 12:44:13 src.operators INFO     subj='Australia' | h_norm=65.0\n",
      "2023-06-26 12:44:13 src.operators INFO     subj='Germany' | h_norm=65.0\n",
      "2023-06-26 12:44:13 src.operators INFO     subj='Saudi Arabia' | h_norm=65.0\n",
      "2023-06-26 12:44:13 src.operators INFO     subj='Russia' | h_norm=65.0\n",
      "2023-06-26 12:44:13 src.operators INFO     subj='India' | h_norm=65.0\n",
      "2023-06-26 12:44:13 src.operators INFO     subj='South Korea' | h_norm=65.0\n",
      "2023-06-26 12:44:13 src.operators INFO     mythical_h_norm=57.34375\n",
      "2023-06-26 12:44:17 src.operators INFO     ----------------------------------\n",
      "2023-06-26 12:44:17 src.operators INFO     note that subject=Argentina, h_index=14\n",
      "2023-06-26 12:44:17 src.operators INFO     l2_norm=65.000\n",
      "2023-06-26 12:44:17 src.operators INFO     subj='Argentina' | h_norm=65.0\n",
      "2023-06-26 12:44:17 src.operators INFO     subj='Peru' | h_norm=65.0\n",
      "2023-06-26 12:44:17 src.operators INFO     subj='Germany' | h_norm=65.0\n",
      "2023-06-26 12:44:17 src.operators INFO     subj='Saudi Arabia' | h_norm=65.0\n",
      "2023-06-26 12:44:17 src.operators INFO     subj='Russia' | h_norm=65.0\n",
      "2023-06-26 12:44:17 src.operators INFO     subj='Italy' | h_norm=65.0\n",
      "2023-06-26 12:44:17 src.operators INFO     subj='India' | h_norm=65.0\n",
      "2023-06-26 12:44:17 src.operators INFO     mythical_h_norm=57.3125\n",
      "2023-06-26 12:44:20 src.operators INFO     ----------------------------------\n",
      "2023-06-26 12:44:20 src.operators INFO     note that subject=Peru, h_index=15\n",
      "2023-06-26 12:44:20 src.operators INFO     l2_norm=65.000\n",
      "2023-06-26 12:44:20 src.operators INFO     subj='Peru' | h_norm=65.0\n",
      "2023-06-26 12:44:20 src.operators INFO     subj='Australia' | h_norm=65.0\n",
      "2023-06-26 12:44:20 src.operators INFO     subj='Germany' | h_norm=65.0\n",
      "2023-06-26 12:44:20 src.operators INFO     subj='Russia' | h_norm=65.0\n",
      "2023-06-26 12:44:20 src.operators INFO     subj='Italy' | h_norm=65.0\n",
      "2023-06-26 12:44:20 src.operators INFO     subj='India' | h_norm=65.0\n",
      "2023-06-26 12:44:20 src.operators INFO     subj='South Korea' | h_norm=65.0\n",
      "2023-06-26 12:44:20 src.operators INFO     mythical_h_norm=57.75\n",
      "2023-06-26 12:44:24 src.operators INFO     ----------------------------------\n",
      "2023-06-26 12:44:24 src.operators INFO     note that subject=Argentina, h_index=14\n",
      "2023-06-26 12:44:24 src.operators INFO     l2_norm=65.000\n",
      "2023-06-26 12:44:24 src.operators INFO     subj='Argentina' | h_norm=65.0\n",
      "2023-06-26 12:44:24 src.operators INFO     subj='Australia' | h_norm=65.0\n",
      "2023-06-26 12:44:24 src.operators INFO     subj='Germany' | h_norm=65.0\n",
      "2023-06-26 12:44:24 src.operators INFO     subj='Saudi Arabia' | h_norm=65.0\n",
      "2023-06-26 12:44:24 src.operators INFO     subj='Russia' | h_norm=65.0\n",
      "2023-06-26 12:44:24 src.operators INFO     subj='Italy' | h_norm=65.0\n",
      "2023-06-26 12:44:24 src.operators INFO     subj='India' | h_norm=65.0\n",
      "2023-06-26 12:44:24 src.operators INFO     mythical_h_norm=57.875\n",
      "2023-06-26 12:44:28 src.operators INFO     ----------------------------------\n",
      "2023-06-26 12:44:28 src.operators INFO     note that subject=Pakistan, h_index=13\n",
      "2023-06-26 12:44:28 src.operators INFO     l2_norm=65.000\n",
      "2023-06-26 12:44:28 src.operators INFO     subj='Pakistan' | h_norm=65.0\n",
      "2023-06-26 12:44:28 src.operators INFO     subj='Argentina' | h_norm=65.0\n",
      "2023-06-26 12:44:28 src.operators INFO     subj='Peru' | h_norm=65.0\n",
      "2023-06-26 12:44:28 src.operators INFO     subj='Saudi Arabia' | h_norm=65.0\n",
      "2023-06-26 12:44:28 src.operators INFO     subj='Italy' | h_norm=65.0\n",
      "2023-06-26 12:44:28 src.operators INFO     subj='India' | h_norm=65.0\n",
      "2023-06-26 12:44:28 src.operators INFO     subj='South Korea' | h_norm=65.0\n",
      "2023-06-26 12:44:28 src.operators INFO     mythical_h_norm=56.96875\n",
      "2023-06-26 12:44:32 src.operators INFO     ----------------------------------\n",
      "2023-06-26 12:44:32 src.operators INFO     note that subject=Argentina, h_index=13\n",
      "2023-06-26 12:44:32 src.operators INFO     l2_norm=65.000\n",
      "2023-06-26 12:44:32 src.operators INFO     subj='Argentina' | h_norm=65.0\n",
      "2023-06-26 12:44:32 src.operators INFO     subj='Germany' | h_norm=65.0\n",
      "2023-06-26 12:44:32 src.operators INFO     subj='Saudi Arabia' | h_norm=65.0\n",
      "2023-06-26 12:44:32 src.operators INFO     subj='Russia' | h_norm=65.0\n",
      "2023-06-26 12:44:32 src.operators INFO     subj='Italy' | h_norm=65.0\n",
      "2023-06-26 12:44:32 src.operators INFO     subj='India' | h_norm=65.0\n",
      "2023-06-26 12:44:32 src.operators INFO     subj='South Korea' | h_norm=65.0\n",
      "2023-06-26 12:44:32 src.operators INFO     mythical_h_norm=57.46875\n",
      "2023-06-26 12:44:35 src.operators INFO     ----------------------------------\n",
      "2023-06-26 12:44:35 src.operators INFO     note that subject=Argentina, h_index=14\n",
      "2023-06-26 12:44:35 src.operators INFO     l2_norm=65.000\n",
      "2023-06-26 12:44:35 src.operators INFO     subj='Argentina' | h_norm=65.0\n",
      "2023-06-26 12:44:35 src.operators INFO     subj='Peru' | h_norm=65.0\n",
      "2023-06-26 12:44:35 src.operators INFO     subj='Australia' | h_norm=65.0\n",
      "2023-06-26 12:44:35 src.operators INFO     subj='Germany' | h_norm=65.0\n",
      "2023-06-26 12:44:35 src.operators INFO     subj='Saudi Arabia' | h_norm=65.0\n",
      "2023-06-26 12:44:35 src.operators INFO     subj='Italy' | h_norm=65.0\n",
      "2023-06-26 12:44:35 src.operators INFO     subj='India' | h_norm=65.0\n",
      "2023-06-26 12:44:35 src.operators INFO     mythical_h_norm=57.34375\n",
      "2023-06-26 12:44:39 src.operators INFO     ----------------------------------\n",
      "2023-06-26 12:44:39 src.operators INFO     note that subject=Pakistan, h_index=16\n",
      "2023-06-26 12:44:39 src.operators INFO     l2_norm=65.000\n",
      "2023-06-26 12:44:39 src.operators INFO     subj='Pakistan' | h_norm=65.0\n",
      "2023-06-26 12:44:39 src.operators INFO     subj='Argentina' | h_norm=65.0\n",
      "2023-06-26 12:44:39 src.operators INFO     subj='Peru' | h_norm=65.0\n",
      "2023-06-26 12:44:39 src.operators INFO     subj='Australia' | h_norm=65.0\n",
      "2023-06-26 12:44:39 src.operators INFO     subj='Germany' | h_norm=65.0\n",
      "2023-06-26 12:44:39 src.operators INFO     subj='Russia' | h_norm=65.0\n",
      "2023-06-26 12:44:39 src.operators INFO     subj='Italy' | h_norm=65.0\n",
      "2023-06-26 12:44:39 src.operators INFO     mythical_h_norm=58.125\n",
      "2023-06-26 12:44:43 src.operators INFO     ----------------------------------\n",
      "++++++++++++++++++++++++++++++++++++++++++++++++++++++++++\n"
     ]
    }
   ],
   "source": [
    "imaginary_operators = []\n",
    "for interpolate_on in tqdm(range(2, 8)):\n",
    "    estimator_i = operators.JacobianIclMeanEstimator_Imaginary(\n",
    "        mt = mt, h_layer=7, beta=1, interpolate_on=interpolate_on, n_trials=8, magnitude_h=65.0\n",
    "    )\n",
    "    operator_i = estimator_i(train)\n",
    "    imaginary_operators.append(operator_i)\n",
    "    print(\"++++++++++++++++++++++++++++++++++++++++++++++++++++++++++\")"
   ]
  },
  {
   "cell_type": "code",
   "execution_count": 43,
   "metadata": {},
   "outputs": [
    {
     "data": {
      "text/plain": [
       "(22.515625, 213.0)"
      ]
     },
     "execution_count": 43,
     "metadata": {},
     "output_type": "execute_result"
    }
   ],
   "source": [
    "operator.weight.norm().item(), operator.bias.norm().item()"
   ]
  },
  {
   "cell_type": "code",
   "execution_count": 44,
   "metadata": {},
   "outputs": [
    {
     "data": {
      "text/plain": [
       "Text(0.5, 0, 'n_points')"
      ]
     },
     "execution_count": 44,
     "metadata": {},
     "output_type": "execute_result"
    },
    {
     "data": {
      "image/png": "[encoded data removed]",
      "text/plain": [
       "<Figure size 640x480 with 1 Axes>"
      ]
     },
     "metadata": {},
     "output_type": "display_data"
    }
   ],
   "source": [
    "w_norms = [op.weight.norm().item() for op in imaginary_operators]\n",
    "plt.plot(range(2, 8), w_norms, label = \"|| J_imaginary ||\")\n",
    "plt.hlines(operator.weight.norm().item(), 2, 7, color=\"red\", label = \"|| J_real ||\")\n",
    "plt.ylim(bottom=0)\n",
    "plt.legend()\n",
    "plt.ylabel(\"|| J ||\")\n",
    "plt.xlabel(\"n_points\")"
   ]
  },
  {
   "cell_type": "code",
   "execution_count": 45,
   "metadata": {},
   "outputs": [
    {
     "name": "stdout",
     "output_type": "stream",
     "text": [
      "64.5625 225.625\n",
      "Brazil -> Bras\\u00edlia | pred: [' Bras (0.76)', ' Brazil (0.11)', ' Rio (0.06)']\n",
      "Canada -> Ottawa | pred: [' Ottawa (0.31)', ' Canada (0.23)', ' Toronto (0.21)']\n",
      "Chile -> Santiago | pred: [' Santiago (1.00)', ' Chile (0.00)', ' Buenos (0.00)']\n",
      "China -> Beijing | pred: [' Beijing (0.98)', ' Shanghai (0.01)', ' China (0.01)']\n",
      "Colombia -> Bogot\\u00e1 | pred: [' Bog (0.60)', ' Colombia (0.31)', ' Santiago (0.03)']\n",
      "Egypt -> Cairo | pred: [' Cairo (0.99)', ' Egypt (0.01)', ' Buenos (0.00)']\n",
      "France -> Paris | pred: [' Paris (0.89)', ' France (0.10)', ' French (0.01)']\n",
      "Japan -> Tokyo | pred: [' Tokyo (0.99)', ' Japan (0.01)', ' Osaka (0.00)']\n",
      "Mexico -> Mexico City | pred: [' Mexico (1.00)', 'Mexico (0.00)', ' Buenos (0.00)']\n",
      "Nigeria -> Abuja | pred: [' Mexico (0.37)', ' Nigeria (0.25)', ' Buenos (0.13)']\n",
      "Spain -> Madrid | pred: [' Madrid (0.75)', ' Buenos (0.09)', ' Spain (0.09)']\n",
      "Turkey -> Ankara | pred: [' Ankara (0.64)', ' Istanbul (0.35)', ' Turkey (0.01)']\n",
      "United States -> Washington D.C. | pred: [' Washington (0.45)', ' Los (0.22)', ' Mexico (0.09)']\n",
      "Venezuela -> Caracas | pred: [' Buenos (0.72)', ' Santiago (0.08)', ' Venezuela (0.06)']\n"
     ]
    }
   ],
   "source": [
    "operator_dict = imaginary_operators[2].__dict__.copy()\n",
    "operator_dict[\"beta\"] = 1\n",
    "img_operator = operators.LinearRelationOperator(**operator_dict)\n",
    "\n",
    "print(img_operator.weight.norm().item(), img_operator.bias.norm().item())\n",
    "\n",
    "for sample in test.samples:\n",
    "    pred = img_operator(sample.subject).predictions[:3]\n",
    "    print(f\"{sample} | pred: {[f'{p.token} ({p.prob:.2f})' for p in pred]}\")"
   ]
  },
  {
   "cell_type": "code",
   "execution_count": 51,
   "metadata": {},
   "outputs": [
    {
     "data": {
      "text/plain": [
       "Text(0.5, 0, 'n_points')"
      ]
     },
     "execution_count": 51,
     "metadata": {},
     "output_type": "execute_result"
    },
    {
     "data": {
      "image/png": "[encoded data removed]",
      "text/plain": [
       "<Figure size 640x480 with 1 Axes>"
      ]
     },
     "metadata": {},
     "output_type": "display_data"
    }
   ],
   "source": [
    "b_norms = [op.bias.norm().item() for op in imaginary_operators]\n",
    "plt.plot(range(2, 8), b_norms, label = \"|| bias_imaginary ||\")\n",
    "plt.hlines(operator.bias.norm().item(), 2, 7, color=\"red\", label = \"|| bias_real ||\")\n",
    "plt.ylim(bottom=200)\n",
    "plt.legend()\n",
    "plt.ylabel(\"|| bias ||\")\n",
    "plt.xlabel(\"n_points\")"
   ]
  },
  {
   "cell_type": "code",
   "execution_count": 47,
   "metadata": {},
   "outputs": [
    {
     "name": "stdout",
     "output_type": "stream",
     "text": [
      "Brazil -> Bras\\u00edlia | pred: [' Bras (0.82)', ' Brazil (0.15)', ' Rio (0.02)']\n",
      "Canada -> Ottawa | pred: [' Canada (0.55)', ' Toronto (0.16)', ' Ottawa (0.15)']\n",
      "Chile -> Santiago | pred: [' Santiago (1.00)', ' Chile (0.00)', ' Chilean (0.00)']\n",
      "China -> Beijing | pred: [' Beijing (0.98)', ' Shanghai (0.01)', ' China (0.00)']\n",
      "Colombia -> Bogot\\u00e1 | pred: [' Bog (0.72)', ' Colombia (0.26)', ' Colombian (0.01)']\n",
      "Egypt -> Cairo | pred: [' Cairo (0.98)', ' Egypt (0.02)', ' Egyptian (0.00)']\n",
      "France -> Paris | pred: [' Paris (0.71)', ' France (0.29)', ' French (0.01)']\n",
      "Japan -> Tokyo | pred: [' Tokyo (0.98)', ' Japan (0.02)', ' Japanese (0.00)']\n",
      "Mexico -> Mexico City | pred: [' Mexico (1.00)', 'Mexico (0.00)', ' Mex (0.00)']\n",
      "Nigeria -> Abuja | pred: [' Nigeria (0.86)', ' Abu (0.08)', ' Nigerian (0.02)']\n",
      "Spain -> Madrid | pred: [' Madrid (0.83)', ' Spain (0.14)', ' Barcelona (0.01)']\n",
      "Turkey -> Ankara | pred: [' Ankara (0.70)', ' Istanbul (0.27)', ' Turkey (0.03)']\n",
      "United States -> Washington D.C. | pred: [' Washington (0.75)', ' Los (0.11)', ' Seattle (0.02)']\n",
      "Venezuela -> Caracas | pred: [' Venezuela (0.60)', ' Car (0.17)', ' Ci (0.04)']\n"
     ]
    }
   ],
   "source": [
    "for sample in test.samples:\n",
    "    pred = operator_i(sample.subject).predictions[:3]\n",
    "    print(f\"{sample} | pred: {[f'{p.token} ({p.prob:.2f})' for p in pred]}\")"
   ]
  },
  {
   "cell_type": "code",
   "execution_count": 26,
   "metadata": {},
   "outputs": [
    {
     "data": {
      "text/plain": [
       "32.0"
      ]
     },
     "execution_count": 26,
     "metadata": {},
     "output_type": "execute_result"
    }
   ],
   "source": [
    "256 / 8"
   ]
  },
  {
   "cell_type": "code",
   "execution_count": 27,
   "metadata": {},
   "outputs": [
    {
     "data": {
      "text/plain": [
       "320"
      ]
     },
     "execution_count": 27,
     "metadata": {},
     "output_type": "execute_result"
    }
   ],
   "source": [
    "8 * 40"
   ]
  },
  {
   "cell_type": "code",
   "execution_count": null,
   "metadata": {},
   "outputs": [],
   "source": []
  }
 ],
 "metadata": {
  "kernelspec": {
   "display_name": "relations",
   "language": "python",
   "name": "python3"
  },
  "language_info": {
   "codemirror_mode": {
    "name": "ipython",
    "version": 3
   },
   "file_extension": ".py",
   "mimetype": "text/x-python",
   "name": "python",
   "nbconvert_exporter": "python",
   "pygments_lexer": "ipython3",
   "version": "3.10.11"
  },
  "orig_nbformat": 4
 },
 "nbformat": 4,
 "nbformat_minor": 2
}
