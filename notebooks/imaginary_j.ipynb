{
 "cells": [
  {
   "cell_type": "code",
   "execution_count": 1,
   "metadata": {},
   "outputs": [],
   "source": [
    "%load_ext autoreload\n",
    "%autoreload 2"
   ]
  },
  {
   "cell_type": "code",
   "execution_count": 2,
   "metadata": {},
   "outputs": [],
   "source": [
    "import matplotlib.pyplot as plt\n",
    "import os\n",
    "import json\n",
    "import sys\n",
    "import numpy as np\n",
    "sys.path.append(\"..\")\n",
    "import copy\n",
    "from tqdm.auto import tqdm"
   ]
  },
  {
   "cell_type": "code",
   "execution_count": 3,
   "metadata": {},
   "outputs": [],
   "source": [
    "from src import models, data, operators, utils, functional, metrics, lens\n",
    "from src.utils import logging_utils, experiment_utils\n",
    "import logging\n",
    "import torch\n",
    "import baukit\n",
    "import random\n",
    "import numpy as np\n",
    "import torch\n",
    "experiment_utils.set_seed(123456)\n",
    "\n",
    "logger = logging.getLogger(__name__)\n",
    "\n",
    "logging.basicConfig(\n",
    "    level=logging.INFO,\n",
    "    format = logging_utils.DEFAULT_FORMAT,\n",
    "    datefmt=logging_utils.DEFAULT_DATEFMT,\n",
    "    stream=sys.stdout\n",
    ")"
   ]
  },
  {
   "cell_type": "code",
   "execution_count": 4,
   "metadata": {},
   "outputs": [],
   "source": [
    "#################################################\n",
    "h_layer = 7\n",
    "beta = 0.4\n",
    "n_training = 10\n",
    "#################################################"
   ]
  },
  {
   "cell_type": "code",
   "execution_count": 5,
   "metadata": {},
   "outputs": [
    {
     "name": "stdout",
     "output_type": "stream",
     "text": [
      "2023-06-23 16:38:49 src.models INFO     loading EleutherAI/gpt-j-6B (device=cuda, fp16=True)\n"
     ]
    }
   ],
   "source": [
    "mt = models.load_model(name = \"gptj\", fp16 = True, device = \"cuda\")"
   ]
  },
  {
   "cell_type": "code",
   "execution_count": 6,
   "metadata": {},
   "outputs": [],
   "source": [
    "relation = data.load_dataset().filter(relation_names=[\"work location\"])[0].set(prompt_templates=[\" {}:\"])\n",
    "train, test = relation.split(n_training)"
   ]
  },
  {
   "cell_type": "code",
   "execution_count": 7,
   "metadata": {},
   "outputs": [
    {
     "name": "stdout",
     "output_type": "stream",
     "text": [
      "<|endoftext|> pharmacist: pharmacy\n",
      " fashion designer: studio\n",
      " secretary: office\n",
      " baker: bakery\n",
      " doctor: hospital\n",
      " mechanic: garage\n",
      " teacher: school\n",
      " researcher: laboratory\n",
      " pilot: airplane\n",
      " chef: kitchen\n",
      " {}:\n"
     ]
    }
   ],
   "source": [
    "icl_prompt = functional.make_prompt(\n",
    "    prompt_template = train.prompt_templates[0],\n",
    "    subject = \"{}\",\n",
    "    examples = train.samples,\n",
    "    mt = mt\n",
    ")\n",
    "print(icl_prompt)"
   ]
  },
  {
   "cell_type": "code",
   "execution_count": 8,
   "metadata": {},
   "outputs": [
    {
     "data": {
      "text/plain": [
       "17"
      ]
     },
     "execution_count": 8,
     "metadata": {},
     "output_type": "execute_result"
    }
   ],
   "source": [
    "test = functional.filter_relation_samples_based_on_provided_fewshots(\n",
    "    mt = mt, \n",
    "    test_relation=test,\n",
    "    prompt_template = icl_prompt,\n",
    "    batch_size=4\n",
    ")\n",
    "len(test.samples)"
   ]
  },
  {
   "cell_type": "code",
   "execution_count": 9,
   "metadata": {},
   "outputs": [],
   "source": [
    "estimator = operators.JacobianIclMeanEstimator(\n",
    "    mt = mt, h_layer=h_layer, beta=beta\n",
    ")\n",
    "operator = estimator(train)"
   ]
  },
  {
   "cell_type": "code",
   "execution_count": 10,
   "metadata": {},
   "outputs": [
    {
     "name": "stdout",
     "output_type": "stream",
     "text": [
      "accountant -> office | pred: [' office (0.84)', ' business (0.06)', ' bank (0.01)']\n",
      "barber -> barbershop | pred: [' clinic (0.29)', ' shop (0.18)', ' salon (0.08)']\n",
      "farmer -> farm | pred: [' farm (0.48)', ' garden (0.10)', ' agricultural (0.04)']\n",
      "firefighter -> fire station | pred: [' office (0.09)', ' fire (0.07)', ' hospital (0.03)']\n",
      "hairdresser -> salon | pred: [' office (0.13)', ' shop (0.12)', ' clinic (0.08)']\n",
      "lawyer -> courthouse | pred: [' office (0.85)', ' law (0.03)', ' business (0.01)']\n",
      "librarian -> library | pred: [' library (0.83)', ' school (0.04)', ' office (0.02)']\n",
      "musician -> concert hall | pred: [' studio (0.60)', ' music (0.07)', ' theater (0.03)']\n",
      "nurse -> hospital | pred: [' hospital (0.86)', ' clinic (0.05)', ' nursing (0.02)']\n",
      "photographer -> studio | pred: [' studio (0.79)', ' office (0.08)', ' art (0.01)']\n",
      "salesperson -> store | pred: [' office (0.35)', ' shop (0.18)', ' store (0.04)']\n",
      "scientist -> laboratory | pred: [' laboratory (0.70)', ' lab (0.20)', ' research (0.05)']\n",
      "software engineer -> office | pred: [' factory (0.24)', ' office (0.15)', ' laboratory (0.14)']\n",
      "trainer -> gym | pred: [' office (0.22)', ' gym (0.10)', ' school (0.06)']\n",
      "truck driver -> truck | pred: [' office (0.14)', ' car (0.06)', ' garage (0.06)']\n",
      "waiter -> restaurant | pred: [' restaurant (0.68)', ' cafe (0.05)', ' hotel (0.04)']\n",
      "waitress -> restaurant | pred: [' restaurant (0.63)', ' cafe (0.08)', ' café (0.06)']\n"
     ]
    }
   ],
   "source": [
    "for sample in test.samples:\n",
    "    pred = operator(sample.subject).predictions[:3]\n",
    "    print(f\"{sample} | pred: {[f'{p.token} ({p.prob:.2f})' for p in pred]}\")"
   ]
  },
  {
   "cell_type": "code",
   "execution_count": 11,
   "metadata": {},
   "outputs": [
    {
     "data": {
      "application/vnd.jupyter.widget-view+json": {
       "model_id": "2e858d657915481a9881598bacf011f1",
       "version_major": 2,
       "version_minor": 0
      },
      "text/plain": [
       "  0%|          | 0/6 [00:00<?, ?it/s]"
      ]
     },
     "metadata": {},
     "output_type": "display_data"
    },
    {
     "name": "stdout",
     "output_type": "stream",
     "text": [
      "---------------------------------------------------\n",
      "---------------------------------------------------\n",
      "---------------------------------------------------\n",
      "---------------------------------------------------\n",
      "---------------------------------------------------\n",
      "---------------------------------------------------\n"
     ]
    }
   ],
   "source": [
    "imaginary_operators = []\n",
    "for interpolate_on in tqdm(range(2, 8)):\n",
    "    estimator_i = operators.JacobianIclMeanEstimator_Imaginary(\n",
    "        mt = mt, h_layer=7, beta=1, interpolate_on=interpolate_on, n_trials=8\n",
    "    )\n",
    "    operator_i = estimator_i(train)\n",
    "    imaginary_operators.append(operator_i)\n",
    "    # print(\"---------------------------------------------------\")"
   ]
  },
  {
   "cell_type": "code",
   "execution_count": 12,
   "metadata": {},
   "outputs": [
    {
     "data": {
      "text/plain": [
       "(24.25, 282.5)"
      ]
     },
     "execution_count": 12,
     "metadata": {},
     "output_type": "execute_result"
    }
   ],
   "source": [
    "operator.weight.norm().item(), operator.bias.norm().item()"
   ]
  },
  {
   "cell_type": "code",
   "execution_count": 13,
   "metadata": {},
   "outputs": [
    {
     "data": {
      "text/plain": [
       "Text(0.5, 0, 'n_points')"
      ]
     },
     "execution_count": 13,
     "metadata": {},
     "output_type": "execute_result"
    },
    {
     "data": {
      "image/png": "[encoded data removed]",
      "text/plain": [
       "<Figure size 640x480 with 1 Axes>"
      ]
     },
     "metadata": {},
     "output_type": "display_data"
    }
   ],
   "source": [
    "w_norms = [op.weight.norm().item() for op in imaginary_operators]\n",
    "plt.plot(range(2, 8), w_norms, label = \"|| J_imaginary ||\")\n",
    "plt.hlines(operator.weight.norm().item(), 2, 7, color=\"red\", label = \"|| J_real ||\")\n",
    "plt.ylim(bottom=0)\n",
    "plt.legend()\n",
    "plt.ylabel(\"|| J ||\")\n",
    "plt.xlabel(\"n_points\")"
   ]
  },
  {
   "cell_type": "code",
   "execution_count": 18,
   "metadata": {},
   "outputs": [
    {
     "name": "stdout",
     "output_type": "stream",
     "text": [
      "49.96875 279.0\n",
      "accountant -> office | pred: [' office (0.65)', ' business (0.11)', ' store (0.05)']\n",
      "barber -> barbershop | pred: [' clinic (0.23)', ' surgery (0.22)', ' salon (0.13)']\n",
      "farmer -> farm | pred: [' farm (0.21)', ' plant (0.15)', ' factory (0.14)']\n",
      "firefighter -> fire station | pred: [' hospital (0.27)', ' fire (0.13)', ' emergency (0.07)']\n",
      "hairdresser -> salon | pred: [' shop (0.21)', ' store (0.18)', ' clinic (0.11)']\n",
      "lawyer -> courthouse | pred: [' office (0.38)', ' law (0.38)', ' lawyer (0.09)']\n",
      "librarian -> library | pred: [' library (0.95)', ' school (0.01)', ' store (0.00)']\n",
      "musician -> concert hall | pred: [' studio (0.32)', ' music (0.07)', ' workshop (0.04)']\n",
      "nurse -> hospital | pred: [' hospital (0.93)', ' clinic (0.03)', ' nursing (0.01)']\n",
      "photographer -> studio | pred: [' studio (0.58)', ' office (0.16)', ' photo (0.03)']\n",
      "salesperson -> store | pred: [' store (0.31)', ' office (0.18)', ' shop (0.15)']\n",
      "scientist -> laboratory | pred: [' lab (0.52)', ' laboratory (0.41)', ' research (0.05)']\n",
      "software engineer -> office | pred: [' factory (0.48)', ' lab (0.18)', ' laboratory (0.11)']\n",
      "trainer -> gym | pred: [' training (0.22)', ' gym (0.22)', ' school (0.11)']\n",
      "truck driver -> truck | pred: [' car (0.08)', ' airport (0.07)', ' store (0.07)']\n",
      "waiter -> restaurant | pred: [' restaurant (0.69)', ' hotel (0.06)', ' bar (0.02)']\n",
      "waitress -> restaurant | pred: [' restaurant (0.62)', ' hotel (0.03)', ' cafe (0.03)']\n"
     ]
    }
   ],
   "source": [
    "operator_dict = imaginary_operators[1].__dict__.copy()\n",
    "operator_dict[\"beta\"] = 1\n",
    "img_operator = operators.LinearRelationOperator(**operator_dict)\n",
    "\n",
    "print(img_operator.weight.norm().item(), img_operator.bias.norm().item())\n",
    "\n",
    "for sample in test.samples:\n",
    "    pred = img_operator(sample.subject).predictions[:3]\n",
    "    print(f\"{sample} | pred: {[f'{p.token} ({p.prob:.2f})' for p in pred]}\")"
   ]
  },
  {
   "cell_type": "code",
   "execution_count": null,
   "metadata": {},
   "outputs": [],
   "source": []
  },
  {
   "cell_type": "code",
   "execution_count": 15,
   "metadata": {},
   "outputs": [
    {
     "data": {
      "text/plain": [
       "Text(0.5, 0, 'n_points')"
      ]
     },
     "execution_count": 15,
     "metadata": {},
     "output_type": "execute_result"
    },
    {
     "data": {
      "image/png": "[encoded data removed]",
      "text/plain": [
       "<Figure size 640x480 with 1 Axes>"
      ]
     },
     "metadata": {},
     "output_type": "display_data"
    }
   ],
   "source": [
    "b_norms = [op.bias.norm().item() for op in imaginary_operators]\n",
    "plt.plot(range(2, 8), b_norms, label = \"|| bias_imaginary ||\")\n",
    "plt.hlines(operator.bias.norm().item(), 2, 7, color=\"red\", label = \"|| bias_real ||\")\n",
    "plt.ylim(bottom=200)\n",
    "plt.legend()\n",
    "plt.ylabel(\"|| bias ||\")\n",
    "plt.xlabel(\"n_points\")"
   ]
  },
  {
   "cell_type": "code",
   "execution_count": 16,
   "metadata": {},
   "outputs": [
    {
     "name": "stdout",
     "output_type": "stream",
     "text": [
      "accountant -> office | pred: [' office (0.32)', ' accountant (0.19)', ' accounting (0.10)']\n",
      "barber -> barbershop | pred: [' hair (0.29)', ' beauty (0.27)', ' dentist (0.09)']\n",
      "farmer -> farm | pred: [' farm (0.42)', ' plant (0.19)', ' agriculture (0.07)']\n",
      "firefighter -> fire station | pred: [' fire (0.37)', ' firefighter (0.25)', ' ambulance (0.11)']\n",
      "hairdresser -> salon | pred: [' beauty (0.23)', ' store (0.13)', ' pharmacy (0.07)']\n",
      "lawyer -> courthouse | pred: [' lawyer (0.41)', ' law (0.40)', ' lawyers (0.08)']\n",
      "librarian -> library | pred: [' library (0.93)', ' store (0.01)', ' pharmacy (0.01)']\n",
      "musician -> concert hall | pred: [' music (0.63)', ' studio (0.07)', ' concert (0.04)']\n",
      "nurse -> hospital | pred: [' nursing (0.30)', ' nurses (0.28)', ' hospital (0.23)']\n",
      "photographer -> studio | pred: [' studio (0.44)', ' photography (0.16)', ' photo (0.07)']\n",
      "salesperson -> store | pred: [' sales (0.37)', ' retail (0.21)', ' store (0.20)']\n",
      "scientist -> laboratory | pred: [' research (0.49)', ' laboratory (0.32)', ' lab (0.11)']\n",
      "software engineer -> office | pred: [' engineering (0.28)', ' factory (0.27)', ' research (0.10)']\n",
      "trainer -> gym | pred: [' training (0.74)', ' trainer (0.09)', ' gym (0.04)']\n",
      "truck driver -> truck | pred: [' airport (0.17)', ' truck (0.05)', ' warehouse (0.05)']\n",
      "waiter -> restaurant | pred: [' restaurant (0.73)', ' restaurants (0.03)', ' reception (0.03)']\n",
      "waitress -> restaurant | pred: [' restaurant (0.53)', ' waiting (0.07)', ' reception (0.05)']\n"
     ]
    }
   ],
   "source": [
    "for sample in test.samples:\n",
    "    pred = operator_i(sample.subject).predictions[:3]\n",
    "    print(f\"{sample} | pred: {[f'{p.token} ({p.prob:.2f})' for p in pred]}\")"
   ]
  },
  {
   "cell_type": "code",
   "execution_count": null,
   "metadata": {},
   "outputs": [],
   "source": []
  }
 ],
 "metadata": {
  "kernelspec": {
   "display_name": "relations",
   "language": "python",
   "name": "python3"
  },
  "language_info": {
   "codemirror_mode": {
    "name": "ipython",
    "version": 3
   },
   "file_extension": ".py",
   "mimetype": "text/x-python",
   "name": "python",
   "nbconvert_exporter": "python",
   "pygments_lexer": "ipython3",
   "version": "3.10.11"
  },
  "orig_nbformat": 4
 },
 "nbformat": 4,
 "nbformat_minor": 2
}
