{
 "cells": [
  {
   "cell_type": "code",
   "execution_count": 1,
   "metadata": {},
   "outputs": [],
   "source": [
    "%load_ext autoreload\n",
    "%autoreload 2"
   ]
  },
  {
   "cell_type": "code",
   "execution_count": 2,
   "metadata": {},
   "outputs": [],
   "source": [
    "import sys\n",
    "sys.path.append('..')\n",
    "\n",
    "import torch\n",
    "import matplotlib.pyplot as plt\n",
    "from src import models, data\n",
    "from tqdm.auto import tqdm\n",
    "import json\n",
    "import os\n",
    "import numpy as np\n",
    "import copy\n"
   ]
  },
  {
   "cell_type": "code",
   "execution_count": 3,
   "metadata": {},
   "outputs": [],
   "source": [
    "mt = models.load_model(\"gptj\", fp16=True, device=\"cuda\")"
   ]
  },
  {
   "cell_type": "code",
   "execution_count": 4,
   "metadata": {},
   "outputs": [],
   "source": [
    "dataset = data.load_dataset()\n",
    "relation = dataset.filter(\n",
    "    relation_names = [\"task done by tool\"]\n",
    ")[0]"
   ]
  },
  {
   "cell_type": "code",
   "execution_count": 6,
   "metadata": {},
   "outputs": [],
   "source": [
    "train, test = relation.split(5)"
   ]
  },
  {
   "cell_type": "code",
   "execution_count": 66,
   "metadata": {},
   "outputs": [],
   "source": [
    "from src.sweeps import (\n",
    "    SweepRelationResults,\n",
    "    SweepTrialResults,\n",
    "    SweepLayerResults,\n",
    "    SweepTrainResults,\n",
    "    SweepBetaResults, SweepRankResults, EfficacyTestPair\n",
    ")\n",
    "from src.data import RelationSample\n",
    "\n",
    "def parse_results(sweep_result):\n",
    "    relation_results = SweepRelationResults(\n",
    "        relation_name=sweep_result[\"relation_name\"],\n",
    "        trials = []\n",
    "    )\n",
    "\n",
    "    for trial in sweep_result[\"trials\"]:\n",
    "        trial_results = SweepTrialResults(\n",
    "            prompt_template=trial[\"prompt_template\"],\n",
    "            train_samples=[RelationSample.from_dict(s) for s in trial[\"train_samples\"]],\n",
    "            layers = [],\n",
    "            n_test_samples=trial[\"n_test_samples\"],\n",
    "        )\n",
    "        for layer in trial[\"layers\"]:\n",
    "            train_results = SweepTrainResults(\n",
    "                samples = [RelationSample.from_dict(s) for s in layer[\"result\"][\"samples\"]],\n",
    "                betas = [],\n",
    "                ranks = [],\n",
    "                jh_norm=layer[\"result\"][\"jh_norm\"],\n",
    "            )\n",
    "            for beta in layer[\"result\"][\"betas\"]:\n",
    "                beta_results = SweepBetaResults(\n",
    "                    beta = beta[\"beta\"],\n",
    "                    recall = beta[\"recall\"],\n",
    "                    faithfulness_successes=[\n",
    "                        RelationSample.from_dict(s) for s in beta[\"faithfulness_successes\"]\n",
    "                    ]\n",
    "                )\n",
    "                train_results.betas.append(beta_results)\n",
    "\n",
    "            for rank in layer[\"result\"][\"ranks\"]:\n",
    "                rank_results = SweepRankResults(\n",
    "                    rank = rank[\"rank\"],\n",
    "                    efficacy = rank[\"efficacy\"],\n",
    "                    efficacy_successes=[\n",
    "                        EfficacyTestPair(\n",
    "                            source=RelationSample.from_dict(s[\"source\"]),\n",
    "                            target=RelationSample.from_dict(s[\"target\"]),\n",
    "                        )\n",
    "                        for s in rank[\"efficacy_successes\"]\n",
    "                    ]\n",
    "                )\n",
    "                train_results.ranks.append(rank_results)\n",
    "            \n",
    "            layer_results = SweepLayerResults(\n",
    "                layer=layer[\"layer\"],\n",
    "                result=train_results\n",
    "            )\n",
    "\n",
    "            trial_results.layers.append(layer_results)\n",
    "        relation_results.trials.append(trial_results)\n",
    "    return relation_results"
   ]
  },
  {
   "cell_type": "code",
   "execution_count": 67,
   "metadata": {},
   "outputs": [],
   "source": [
    "path = \"/home/local_arnab/Codes/relations/results/sweep-test/gptj/task done by tool/task_done_by_tool.json\"\n",
    "with open(path, \"r\") as f:\n",
    "    sweep_result = json.load(f)\n",
    "\n",
    "relation_results = parse_results(sweep_result)"
   ]
  },
  {
   "cell_type": "code",
   "execution_count": 68,
   "metadata": {},
   "outputs": [
    {
     "data": {
      "text/plain": [
       "dict_keys(['samples', 'betas', 'ranks', 'jh_norm'])"
      ]
     },
     "execution_count": 68,
     "metadata": {},
     "output_type": "execute_result"
    }
   ],
   "source": [
    "relation_results.trials[0].layers[0].result.__dict__.keys()"
   ]
  },
  {
   "cell_type": "code",
   "execution_count": 69,
   "metadata": {},
   "outputs": [
    {
     "name": "stdout",
     "output_type": "stream",
     "text": [
      "[0.21875, 0.21875, 0.25]\n"
     ]
    },
    {
     "data": {
      "text/plain": [
       "[RelationSample(subject='drawing', object='pencil and sketchbook'),\n",
       " RelationSample(subject='drying clothes', object='clothesline'),\n",
       " RelationSample(subject='hitting nails', object='hammer'),\n",
       " RelationSample(subject='playing sports', object='ball'),\n",
       " RelationSample(subject='polishing shoes', object='shoe polish'),\n",
       " RelationSample(subject='sewing', object='needle and thread'),\n",
       " RelationSample(subject='sweeping floors', object='broom')]"
      ]
     },
     "execution_count": 69,
     "metadata": {},
     "output_type": "execute_result"
    }
   ],
   "source": [
    "beta_1 = relation_results.trials[0].layers[0].result.betas[-1]\n",
    "print(beta_1.recall)\n",
    "beta_1.faithfulness_successes"
   ]
  },
  {
   "cell_type": "code",
   "execution_count": 70,
   "metadata": {},
   "outputs": [
    {
     "data": {
      "text/plain": [
       "[EfficacyTestPair(source=RelationSample(subject='birdwatching', object='binoculars'), target=RelationSample(subject='cooking', object='stove')),\n",
       " EfficacyTestPair(source=RelationSample(subject='boating', object='boat'), target=RelationSample(subject='sweeping floors', object='broom')),\n",
       " EfficacyTestPair(source=RelationSample(subject='cooking', object='stove'), target=RelationSample(subject='drying clothes', object='clothesline')),\n",
       " EfficacyTestPair(source=RelationSample(subject='dancing', object='music'), target=RelationSample(subject='taking photographs', object='camera')),\n",
       " EfficacyTestPair(source=RelationSample(subject='doing makeup', object='makeup brushes'), target=RelationSample(subject='boating', object='boat')),\n",
       " EfficacyTestPair(source=RelationSample(subject='drying clothes', object='clothesline'), target=RelationSample(subject='taking photographs', object='camera')),\n",
       " EfficacyTestPair(source=RelationSample(subject='hitting nails', object='hammer'), target=RelationSample(subject='vacuuming carpets', object='vacuum cleaner')),\n",
       " EfficacyTestPair(source=RelationSample(subject='hunting', object='gun'), target=RelationSample(subject='digging soil', object='shovel')),\n",
       " EfficacyTestPair(source=RelationSample(subject='listening to music', object='headphones'), target=RelationSample(subject='sawing wood', object='saw')),\n",
       " EfficacyTestPair(source=RelationSample(subject='painting furniture', object='paint roller'), target=RelationSample(subject='stirring food', object='spoon')),\n",
       " EfficacyTestPair(source=RelationSample(subject='photography', object='camera'), target=RelationSample(subject='vacuuming carpets', object='vacuum cleaner')),\n",
       " EfficacyTestPair(source=RelationSample(subject='playing basketball', object='basketball'), target=RelationSample(subject='birdwatching', object='binoculars')),\n",
       " EfficacyTestPair(source=RelationSample(subject='playing sports', object='ball'), target=RelationSample(subject='baking', object='oven')),\n",
       " EfficacyTestPair(source=RelationSample(subject='singing', object='microphone'), target=RelationSample(subject='dancing', object='music')),\n",
       " EfficacyTestPair(source=RelationSample(subject='taking photographs', object='camera'), target=RelationSample(subject='skateboarding', object='skateboard')),\n",
       " EfficacyTestPair(source=RelationSample(subject='turning screws', object='screwdriver'), target=RelationSample(subject='baking', object='oven'))]"
      ]
     },
     "execution_count": 70,
     "metadata": {},
     "output_type": "execute_result"
    }
   ],
   "source": [
    "rank_result = relation_results.trials[0].layers[0].result.ranks[-1]\n",
    "rank_result.efficacy_successes"
   ]
  },
  {
   "cell_type": "code",
   "execution_count": 85,
   "metadata": {},
   "outputs": [],
   "source": [
    "from src import functional, operators, editors"
   ]
  },
  {
   "cell_type": "code",
   "execution_count": 72,
   "metadata": {},
   "outputs": [],
   "source": [
    "prompt_template = relation_results.trials[0].prompt_template\n",
    "train_samples = relation_results.trials[0].train_samples\n",
    "\n",
    "estimator = operators.JacobianIclMeanEstimator(\n",
    "    mt = mt,\n",
    "    h_layer = relation_results.trials[0].layers[0].layer,\n",
    ")\n",
    "\n",
    "operator = estimator(\n",
    "    relation.set(\n",
    "        samples = train_samples,\n",
    "        prompt_templates = [prompt_template],\n",
    "    )\n",
    ")"
   ]
  },
  {
   "cell_type": "code",
   "execution_count": 78,
   "metadata": {},
   "outputs": [
    {
     "data": {
      "text/plain": [
       "LinearRelationOutput(predictions=[PredictedToken(token=' kitchen', prob=0.11502338945865631), PredictedToken(token=' a', prob=0.05874820426106453), PredictedToken(token=' cooking', prob=0.037342626601457596), PredictedToken(token=' dish', prob=0.036193713545799255), PredictedToken(token=' food', prob=0.02753472700715065)], h=tensor([[ 1.0977,  1.8662,  1.1016,  ..., -0.1838,  0.8428, -0.9453]],\n",
       "       device='cuda:0', dtype=torch.float16), z=tensor([[-3.3438,  2.2910, -0.1855,  ..., -1.3213,  0.7910,  0.9106]],\n",
       "       device='cuda:0', dtype=torch.float16, grad_fn=<AddBackward0>))"
      ]
     },
     "execution_count": 78,
     "metadata": {},
     "output_type": "execute_result"
    }
   ],
   "source": [
    "subject = \"cooking\"\n",
    "operator(subject=subject)"
   ]
  },
  {
   "cell_type": "code",
   "execution_count": 79,
   "metadata": {},
   "outputs": [
    {
     "data": {
      "text/plain": [
       "[[PredictedToken(token=' stove', prob=0.21862821280956268),\n",
       "  PredictedToken(token=' pan', prob=0.14115698635578156),\n",
       "  PredictedToken(token=' pots', prob=0.11886609345674515),\n",
       "  PredictedToken(token=' pot', prob=0.10167156904935837),\n",
       "  PredictedToken(token=' kitchen', prob=0.06166691705584526)]]"
      ]
     },
     "execution_count": 79,
     "metadata": {},
     "output_type": "execute_result"
    }
   ],
   "source": [
    "functional.predict_next_token(\n",
    "    mt = mt,\n",
    "    prompt = operator.prompt_template.format(subject)\n",
    ")"
   ]
  },
  {
   "cell_type": "code",
   "execution_count": 83,
   "metadata": {},
   "outputs": [],
   "source": [
    "efficacy_test_pair = rank_result.efficacy_successes[0]\n",
    "source = efficacy_test_pair.source\n",
    "target = efficacy_test_pair.target"
   ]
  },
  {
   "cell_type": "code",
   "execution_count": 88,
   "metadata": {},
   "outputs": [],
   "source": [
    "svd = torch.svd(operator.weight.float())\n",
    "editor = editors.LowRankPInvEditor(\n",
    "    lre = operator,\n",
    "    rank = rank_result.rank,\n",
    "    n_samples=1, n_new_tokens=1,\n",
    "    svd = svd\n",
    ")"
   ]
  },
  {
   "cell_type": "code",
   "execution_count": 90,
   "metadata": {},
   "outputs": [
    {
     "data": {
      "text/plain": [
       "LinearRelationEditResult(predicted_tokens=[PredictedToken(token=' stove', prob=0.1845376342535019), PredictedToken(token=' oven', prob=0.1288280338048935), PredictedToken(token=' pan', prob=0.1288280338048935), PredictedToken(token=' pot', prob=0.1051463708281517), PredictedToken(token=' pots', prob=0.08993646502494812), PredictedToken(token=' frying', prob=0.05124425143003464), PredictedToken(token=' kitchen', prob=0.049667634069919586), PredictedToken(token=' food', prob=0.032067831605672836), PredictedToken(token=' cooking', prob=0.030839335173368454), PredictedToken(token=' cook', prob=0.021361783146858215)], model_logits=tensor([-inf, -inf, -inf,  ..., -inf, -inf, -inf], device='cuda:0'), model_generations=[' playing soccer : soccer ball\\n painting walls : paintbrush\\n knitting : yarn\\n washing dishes : sponge\\n writing : pen and paper\\n birdwatching : stove'])"
      ]
     },
     "execution_count": 90,
     "metadata": {},
     "output_type": "execute_result"
    }
   ],
   "source": [
    "editor(\n",
    "    subject = source.subject,\n",
    "    target = target.subject,\n",
    ")"
   ]
  },
  {
   "cell_type": "code",
   "execution_count": null,
   "metadata": {},
   "outputs": [],
   "source": []
  }
 ],
 "metadata": {
  "kernelspec": {
   "display_name": "Python 3",
   "language": "python",
   "name": "python3"
  },
  "language_info": {
   "codemirror_mode": {
    "name": "ipython",
    "version": 3
   },
   "file_extension": ".py",
   "mimetype": "text/x-python",
   "name": "python",
   "nbconvert_exporter": "python",
   "pygments_lexer": "ipython3",
   "version": "3.10.11"
  },
  "orig_nbformat": 4
 },
 "nbformat": 4,
 "nbformat_minor": 2
}
