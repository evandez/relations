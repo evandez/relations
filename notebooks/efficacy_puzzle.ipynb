{
 "cells": [
  {
   "cell_type": "code",
   "execution_count": 1,
   "metadata": {},
   "outputs": [],
   "source": [
    "%load_ext autoreload\n",
    "%autoreload 2"
   ]
  },
  {
   "cell_type": "code",
   "execution_count": 2,
   "metadata": {},
   "outputs": [],
   "source": [
    "import sys\n",
    "sys.path.append('..')\n",
    "\n",
    "import torch\n",
    "import matplotlib.pyplot as plt\n",
    "from src import models, data\n",
    "from tqdm.auto import tqdm\n",
    "import json\n",
    "import os\n",
    "import numpy as np\n",
    "import copy\n"
   ]
  },
  {
   "cell_type": "code",
   "execution_count": 3,
   "metadata": {},
   "outputs": [],
   "source": [
    "mt = models.load_model(\"gptj\", fp16=True, device=\"cuda\")"
   ]
  },
  {
   "cell_type": "code",
   "execution_count": 4,
   "metadata": {},
   "outputs": [],
   "source": [
    "dataset = data.load_dataset()\n",
    "relation = dataset.filter(\n",
    "    relation_names = [\"task done by tool\"]\n",
    ")[0]"
   ]
  },
  {
   "cell_type": "code",
   "execution_count": 5,
   "metadata": {},
   "outputs": [],
   "source": [
    "train, test = relation.split(5)"
   ]
  },
  {
   "cell_type": "code",
   "execution_count": 6,
   "metadata": {},
   "outputs": [],
   "source": [
    "from src.sweeps import (\n",
    "    SweepRelationResults,\n",
    "    SweepTrialResults,\n",
    "    SweepLayerResults,\n",
    "    SweepTrainResults,\n",
    "    SweepBetaResults, SweepRankResults, EfficacyTestPair\n",
    ")\n",
    "from src.data import RelationSample\n",
    "\n",
    "def parse_results(sweep_result):\n",
    "    relation_results = SweepRelationResults(\n",
    "        relation_name=sweep_result[\"relation_name\"],\n",
    "        trials = []\n",
    "    )\n",
    "\n",
    "    for trial in sweep_result[\"trials\"]:\n",
    "        trial_results = SweepTrialResults(\n",
    "            prompt_template=trial[\"prompt_template\"],\n",
    "            train_samples=[RelationSample.from_dict(s) for s in trial[\"train_samples\"]],\n",
    "            layers = [],\n",
    "            n_test_samples=trial[\"n_test_samples\"],\n",
    "        )\n",
    "        for layer in trial[\"layers\"]:\n",
    "            train_results = SweepTrainResults(\n",
    "                samples = [RelationSample.from_dict(s) for s in layer[\"result\"][\"samples\"]],\n",
    "                betas = [],\n",
    "                ranks = [],\n",
    "                jh_norm=layer[\"result\"][\"jh_norm\"],\n",
    "            )\n",
    "            for beta in layer[\"result\"][\"betas\"]:\n",
    "                beta_results = SweepBetaResults(\n",
    "                    beta = beta[\"beta\"],\n",
    "                    recall = beta[\"recall\"],\n",
    "                    faithfulness_successes=[\n",
    "                        RelationSample.from_dict(s) for s in beta[\"faithfulness_successes\"]\n",
    "                    ]\n",
    "                )\n",
    "                train_results.betas.append(beta_results)\n",
    "\n",
    "            for rank in layer[\"result\"][\"ranks\"]:\n",
    "                rank_results = SweepRankResults(\n",
    "                    rank = rank[\"rank\"],\n",
    "                    efficacy = rank[\"efficacy\"],\n",
    "                    efficacy_successes=[\n",
    "                        EfficacyTestPair(\n",
    "                            source=RelationSample.from_dict(s[\"source\"]),\n",
    "                            target=RelationSample.from_dict(s[\"target\"]),\n",
    "                        )\n",
    "                        for s in rank[\"efficacy_successes\"]\n",
    "                    ]\n",
    "                )\n",
    "                train_results.ranks.append(rank_results)\n",
    "            \n",
    "            layer_results = SweepLayerResults(\n",
    "                layer=layer[\"layer\"],\n",
    "                result=train_results\n",
    "            )\n",
    "\n",
    "            trial_results.layers.append(layer_results)\n",
    "        relation_results.trials.append(trial_results)\n",
    "    return relation_results"
   ]
  },
  {
   "cell_type": "code",
   "execution_count": 7,
   "metadata": {},
   "outputs": [],
   "source": [
    "path = \"../results/sweep/gptj/task_person_type/task_person_type.json\"\n",
    "with open(path, \"r\") as f:\n",
    "    sweep_result = json.load(f)\n",
    "\n",
    "relation_results = parse_results(sweep_result)"
   ]
  },
  {
   "cell_type": "code",
   "execution_count": 8,
   "metadata": {},
   "outputs": [
    {
     "name": "stdout",
     "output_type": "stream",
     "text": [
      "trial_options=[0, 1, 2]\n",
      "layer_options=['emb', 0, 1, 2, 3, 4, 5, 6, 7, 8, 9, 10, 11, 12, 13, 14, 15, 16, 17, 18, 19, 20, 21, 22, 23, 24, 25, 26, 27]\n",
      "rank_options=[0, 10, 20, 30, 40, 50, 60, 70, 80, 90, 100, 110, 120, 130, 140, 150, 160, 170, 180, 190, 200, 210, 220, 230, 240]\n"
     ]
    }
   ],
   "source": [
    "trial_options = list(range(len(relation_results.trials)))\n",
    "print(f\"{trial_options=}\")\n",
    "\n",
    "layer_options = [layer.layer for layer in relation_results.trials[0].layers]\n",
    "print(f\"{layer_options=}\")\n",
    "\n",
    "rank_options = [rank.rank for rank in relation_results.trials[0].layers[0].result.ranks]\n",
    "print(f\"{rank_options=}\")"
   ]
  },
  {
   "cell_type": "code",
   "execution_count": 10,
   "metadata": {},
   "outputs": [
    {
     "data": {
      "text/plain": [
       "{'layer': 10,\n",
       " 'beta': AggregateMetric(mean=0.350000003973643, stdev=0.1080123431340252, stderr=0.062360955384231684, values=[0.30000001192092896, 0.25, 0.5]),\n",
       " 'recall': AggregateMetric(mean=0.5380690287811031, stdev=0.05643727737962378, stderr=0.03258407728745537, values=[0.47368421052631576, 0.5294117647058824, 0.6111111111111112]),\n",
       " 'rank': AggregateMetric(mean=143.33333333333334, stdev=69.44222218666553, stderr=40.09248567259715, values=[230, 60, 140]),\n",
       " 'efficacy': AggregateMetric(mean=0.8515078546038298, stdev=0.027498749752319394, stderr=0.01587641057187976, values=[0.8421052631578947, 0.8235294117647058, 0.8888888888888888])}"
      ]
     },
     "execution_count": 10,
     "metadata": {},
     "output_type": "execute_result"
    }
   ],
   "source": [
    "relation_results.best_by_efficacy().__dict__"
   ]
  },
  {
   "cell_type": "code",
   "execution_count": 25,
   "metadata": {},
   "outputs": [],
   "source": [
    "#########################################################################################################\n",
    "TRIAL_NO = 1\n",
    "RANK = 200\n",
    "LAYER = 10\n",
    "#########################################################################################################"
   ]
  },
  {
   "cell_type": "code",
   "execution_count": 26,
   "metadata": {},
   "outputs": [
    {
     "data": {
      "text/plain": [
       "SweepRankResults(rank=200, efficacy=0.8235294117647058, efficacy_successes=[EfficacyTestPair(source=RelationSample(subject='baking cakes', object='baker'), target=RelationSample(subject='providing legal advice', object='lawyer')), EfficacyTestPair(source=RelationSample(subject='cooking meals', object='chef'), target=RelationSample(subject='making clothes', object='fashion designer')), EfficacyTestPair(source=RelationSample(subject='designing buildings', object='architect'), target=RelationSample(subject='translating books', object='translator')), EfficacyTestPair(source=RelationSample(subject='directing movies', object='director'), target=RelationSample(subject='teaching students', object='teacher')), EfficacyTestPair(source=RelationSample(subject='farming', object='farmer'), target=RelationSample(subject='managing hotels', object='hotel manager')), EfficacyTestPair(source=RelationSample(subject='investigating crimes', object='detective'), target=RelationSample(subject='making clothes', object='fashion designer')), EfficacyTestPair(source=RelationSample(subject='making clothes', object='fashion designer'), target=RelationSample(subject='flying airplanes', object='pilot')), EfficacyTestPair(source=RelationSample(subject='managing hotels', object='hotel manager'), target=RelationSample(subject='investigating crimes', object='detective')), EfficacyTestPair(source=RelationSample(subject='performing surgeries', object='surgeon'), target=RelationSample(subject='managing hotels', object='hotel manager')), EfficacyTestPair(source=RelationSample(subject='reporting news', object='journalist'), target=RelationSample(subject='selling houses', object='real estate agent')), EfficacyTestPair(source=RelationSample(subject='selling houses', object='real estate agent'), target=RelationSample(subject='treating animals', object='veterinarian')), EfficacyTestPair(source=RelationSample(subject='teaching students', object='teacher'), target=RelationSample(subject='reporting news', object='journalist')), EfficacyTestPair(source=RelationSample(subject='translating books', object='translator'), target=RelationSample(subject='flying airplanes', object='pilot')), EfficacyTestPair(source=RelationSample(subject='treating animals', object='veterinarian'), target=RelationSample(subject='flying airplanes', object='pilot'))])"
      ]
     },
     "execution_count": 26,
     "metadata": {},
     "output_type": "execute_result"
    }
   ],
   "source": [
    "layer_result = [layer for layer in relation_results.trials[TRIAL_NO].layers if layer.layer == LAYER][0]\n",
    "rank_result = [rank for rank in layer_result.result.ranks if rank.rank == RANK][0]\n",
    "rank_result"
   ]
  },
  {
   "cell_type": "code",
   "execution_count": 27,
   "metadata": {},
   "outputs": [
    {
     "name": "stdout",
     "output_type": "stream",
     "text": [
      "Edit: performing surgeries -> surgeon <to> managing hotels -> hotel manager -- found in beta: 0.0\n",
      "Edit: directing movies -> director <to> teaching students -> teacher -- found in beta: 0.0\n",
      "Edit: baking cakes -> baker <to> providing legal advice -> lawyer -- found in beta: 0.10000000149011612\n",
      "Edit: treating animals -> veterinarian <to> flying airplanes -> pilot -- found in beta: 0.20000000298023224\n",
      "Edit: managing hotels -> hotel manager <to> investigating crimes -> detective -- found in beta: 0.20000000298023224\n",
      "Edit: investigating crimes -> detective <to> making clothes -> fashion designer -- found in beta: 0.20000000298023224\n",
      "Edit: selling houses -> real estate agent <to> treating animals -> veterinarian -- found in beta: 0.6000000238418579\n",
      "Edit: teaching students -> teacher <to> reporting news -> journalist -- found in beta: 0.699999988079071\n"
     ]
    }
   ],
   "source": [
    "efficacy_successes = {s.target.subject : s for s in rank_result.efficacy_successes}\n",
    "\n",
    "for beta_result in layer_result.result.betas:\n",
    "    faithfulness_successes = beta_result.faithfulness_successes\n",
    "    for sample in faithfulness_successes:\n",
    "        if(sample.subject in efficacy_successes):\n",
    "            print(f\"Edit: {efficacy_successes[sample.subject].source} <to> {efficacy_successes[sample.subject].target} -- found in beta: {beta_result.beta}\")\n",
    "            efficacy_successes.pop(sample.subject)\n",
    "        "
   ]
  },
  {
   "cell_type": "code",
   "execution_count": 28,
   "metadata": {},
   "outputs": [
    {
     "name": "stdout",
     "output_type": "stream",
     "text": [
      "No target match found in faithfulness successes for the following:\n",
      "Edit: designing buildings -> architect <to> translating books -> translator\n",
      "Edit: reporting news -> journalist <to> selling houses -> real estate agent\n"
     ]
    }
   ],
   "source": [
    "print(\"No target match found in faithfulness successes for the following:\")\n",
    "for sample in efficacy_successes.values():\n",
    "    print(f\"Edit: {sample.source} <to> {sample.target}\")"
   ]
  },
  {
   "cell_type": "code",
   "execution_count": 29,
   "metadata": {},
   "outputs": [
    {
     "data": {
      "text/plain": [
       "[RelationSample(subject='researching history', object='historian'),\n",
       " RelationSample(subject='exploring space', object='astronaut'),\n",
       " RelationSample(subject='repairing computers', object='technician'),\n",
       " RelationSample(subject='driving trucks', object='truck driver'),\n",
       " RelationSample(subject='conducting an orchestra', object='conductor')]"
      ]
     },
     "execution_count": 29,
     "metadata": {},
     "output_type": "execute_result"
    }
   ],
   "source": [
    "train_samples = layer_result.result.samples\n",
    "train_samples"
   ]
  },
  {
   "cell_type": "code",
   "execution_count": 30,
   "metadata": {},
   "outputs": [
    {
     "data": {
      "text/plain": [
       "' {} :'"
      ]
     },
     "execution_count": 30,
     "metadata": {},
     "output_type": "execute_result"
    }
   ],
   "source": [
    "prompt_template = relation_results.trials[TRIAL_NO].prompt_template\n",
    "prompt_template"
   ]
  },
  {
   "cell_type": "code",
   "execution_count": 31,
   "metadata": {},
   "outputs": [],
   "source": [
    "from src import functional, operators, editors"
   ]
  },
  {
   "cell_type": "code",
   "execution_count": 32,
   "metadata": {},
   "outputs": [],
   "source": [
    "estimator = operators.JacobianIclMeanEstimator(\n",
    "    mt = mt,\n",
    "    h_layer = LAYER,\n",
    ")\n",
    "\n",
    "operator = estimator(\n",
    "    relation.set(\n",
    "        samples = train_samples,\n",
    "        prompt_templates = [prompt_template],\n",
    "    )\n",
    ")"
   ]
  },
  {
   "cell_type": "code",
   "execution_count": 33,
   "metadata": {},
   "outputs": [],
   "source": [
    "############################################\n",
    "subject = \"translating books\"\n",
    "############################################"
   ]
  },
  {
   "cell_type": "code",
   "execution_count": 34,
   "metadata": {},
   "outputs": [
    {
     "data": {
      "text/plain": [
       "[[PredictedToken(token=' translator', prob=0.3305882215499878),\n",
       "  PredictedToken(token=' l', prob=0.24186350405216217),\n",
       "  PredictedToken(token=' editor', prob=0.07610572874546051),\n",
       "  PredictedToken(token=' interpreter', prob=0.051495712250471115),\n",
       "  PredictedToken(token=' book', prob=0.05069734901189804)]]"
      ]
     },
     "execution_count": 34,
     "metadata": {},
     "output_type": "execute_result"
    }
   ],
   "source": [
    "functional.predict_next_token(\n",
    "    mt = mt,\n",
    "    prompt = operator.prompt_template.format(subject)\n",
    ")"
   ]
  },
  {
   "cell_type": "code",
   "execution_count": 35,
   "metadata": {},
   "outputs": [
    {
     "data": {
      "text/plain": [
       "LinearRelationOutput(predictions=[PredictedToken(token=' l', prob=0.5602270364761353), PredictedToken(token=' professional', prob=0.03782724589109421), PredictedToken(token=' professor', prob=0.021722357720136642), PredictedToken(token='\\n', prob=0.02138558402657509), PredictedToken(token=' engineer', prob=0.020566314458847046)], h=tensor([[ 2.1621,  0.3286, -0.2878,  ..., -0.0443,  0.5449, -0.5127]],\n",
       "       device='cuda:0', dtype=torch.float16), z=tensor([[-1.2969, -3.3984, -5.6367,  ..., -3.6172,  0.0963,  3.2578]],\n",
       "       device='cuda:0', dtype=torch.float16, grad_fn=<AddBackward0>))"
      ]
     },
     "execution_count": 35,
     "metadata": {},
     "output_type": "execute_result"
    }
   ],
   "source": [
    "operator(subject=subject)"
   ]
  },
  {
   "cell_type": "code",
   "execution_count": 36,
   "metadata": {},
   "outputs": [],
   "source": [
    "svd = torch.svd(operator.weight.float())\n",
    "editor = editors.LowRankPInvEditor(\n",
    "    lre = operator,\n",
    "    rank = rank_result.rank,\n",
    "    n_samples=1, n_new_tokens=1,\n",
    "    svd = svd\n",
    ")"
   ]
  },
  {
   "cell_type": "code",
   "execution_count": 37,
   "metadata": {},
   "outputs": [
    {
     "data": {
      "text/plain": [
       "'Editing: designing buildings -> architect <to> translating books -> translator'"
      ]
     },
     "execution_count": 37,
     "metadata": {},
     "output_type": "execute_result"
    }
   ],
   "source": [
    "efficacy_test_pair = efficacy_successes[subject]\n",
    "f\"Editing: {efficacy_test_pair.source} <to> {efficacy_test_pair.target}\""
   ]
  },
  {
   "cell_type": "code",
   "execution_count": 38,
   "metadata": {},
   "outputs": [
    {
     "data": {
      "text/plain": [
       "LinearRelationEditResult(predicted_tokens=[PredictedToken(token=' translator', prob=0.31065207719802856), PredictedToken(token=' editor', prob=0.15378393232822418), PredictedToken(token=' l', prob=0.14222688972949982), PredictedToken(token=' teacher', prob=0.05928898975253105), PredictedToken(token=' publisher', prob=0.05071255937218666), PredictedToken(token=' proof', prob=0.031243102625012398), PredictedToken(token=' language', prob=0.021811198443174362), PredictedToken(token=' typ', prob=0.018802430480718613), PredictedToken(token=' book', prob=0.01711980625987053), PredictedToken(token=' lingu', prob=0.01711980625987053)], model_logits=tensor([-inf, -inf, -inf,  ..., -inf, -inf, -inf], device='cuda:0'), model_generations=[' researching history : historian\\n exploring space : astronaut\\n repairing computers : technician\\n driving trucks : truck driver\\n conducting an orchestra : conductor\\n designing buildings : translator'])"
      ]
     },
     "execution_count": 38,
     "metadata": {},
     "output_type": "execute_result"
    }
   ],
   "source": [
    "editor(\n",
    "    subject = efficacy_test_pair.source.subject,\n",
    "    target = efficacy_test_pair.target.subject,\n",
    ")"
   ]
  },
  {
   "cell_type": "code",
   "execution_count": null,
   "metadata": {},
   "outputs": [],
   "source": []
  }
 ],
 "metadata": {
  "kernelspec": {
   "display_name": "Python 3",
   "language": "python",
   "name": "python3"
  },
  "language_info": {
   "codemirror_mode": {
    "name": "ipython",
    "version": 3
   },
   "file_extension": ".py",
   "mimetype": "text/x-python",
   "name": "python",
   "nbconvert_exporter": "python",
   "pygments_lexer": "ipython3",
   "version": "3.10.11"
  },
  "orig_nbformat": 4
 },
 "nbformat": 4,
 "nbformat_minor": 2
}
