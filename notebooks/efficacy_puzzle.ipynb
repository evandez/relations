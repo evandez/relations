{
 "cells": [
  {
   "cell_type": "code",
   "execution_count": 1,
   "metadata": {},
   "outputs": [],
   "source": [
    "%load_ext autoreload\n",
    "%autoreload 2"
   ]
  },
  {
   "cell_type": "code",
   "execution_count": 2,
   "metadata": {},
   "outputs": [],
   "source": [
    "import sys\n",
    "sys.path.append('..')\n",
    "\n",
    "import torch\n",
    "import matplotlib.pyplot as plt\n",
    "from src import models, data\n",
    "from tqdm.auto import tqdm\n",
    "import json\n",
    "import os\n",
    "import numpy as np\n",
    "import copy\n"
   ]
  },
  {
   "cell_type": "code",
   "execution_count": 3,
   "metadata": {},
   "outputs": [],
   "source": [
    "mt = models.load_model(\"gptj\", fp16=True, device=\"cuda\")"
   ]
  },
  {
   "cell_type": "code",
   "execution_count": 12,
   "metadata": {},
   "outputs": [],
   "source": [
    "#####################################\n",
    "relation_name = \"country currency\"\n",
    "#####################################"
   ]
  },
  {
   "cell_type": "code",
   "execution_count": 14,
   "metadata": {},
   "outputs": [],
   "source": [
    "dataset = data.load_dataset()\n",
    "relation = dataset.filter(\n",
    "    relation_names = [relation_name]\n",
    ")[0]"
   ]
  },
  {
   "cell_type": "code",
   "execution_count": 15,
   "metadata": {},
   "outputs": [],
   "source": [
    "from src.utils.sweep_utils import read_sweep_results, relation_from_dict"
   ]
  },
  {
   "cell_type": "code",
   "execution_count": 25,
   "metadata": {},
   "outputs": [
    {
     "name": "stdout",
     "output_type": "stream",
     "text": [
      "--> ../results/sweep-24-trials/gptj/country_currency\n",
      "    --> ../results/sweep-24-trials/gptj/country_currency/2_country_currency_seed_88810\n",
      "        --> ../results/sweep-24-trials/gptj/country_currency/2_country_currency_seed_88810/args-20230606-213844.json\n",
      "        --> ../results/sweep-24-trials/gptj/country_currency/2_country_currency_seed_88810/results_all.json\n",
      "        --> ../results/sweep-24-trials/gptj/country_currency/2_country_currency_seed_88810/country_currency.json\n",
      "    --> ../results/sweep-24-trials/gptj/country_currency/3_country_currency_seed_709106\n",
      "        --> ../results/sweep-24-trials/gptj/country_currency/3_country_currency_seed_709106/args-20230607-005634.json\n",
      "        --> ../results/sweep-24-trials/gptj/country_currency/3_country_currency_seed_709106/results_all.json\n",
      "        --> ../results/sweep-24-trials/gptj/country_currency/3_country_currency_seed_709106/country_currency.json\n",
      "    --> ../results/sweep-24-trials/gptj/country_currency/1_country_currency_seed_71745\n",
      "        --> ../results/sweep-24-trials/gptj/country_currency/1_country_currency_seed_71745/results_all.json\n",
      "        --> ../results/sweep-24-trials/gptj/country_currency/1_country_currency_seed_71745/args-20230606-210430.json\n",
      "        --> ../results/sweep-24-trials/gptj/country_currency/1_country_currency_seed_71745/country_currency.json\n"
     ]
    }
   ],
   "source": [
    "sweep_dict = read_sweep_results(\"../results/sweep-24-trials/gptj/country_currency\")"
   ]
  },
  {
   "cell_type": "code",
   "execution_count": 27,
   "metadata": {},
   "outputs": [],
   "source": [
    "relation_result = relation_from_dict(sweep_dict[relation_name])"
   ]
  },
  {
   "cell_type": "code",
   "execution_count": 28,
   "metadata": {},
   "outputs": [
    {
     "name": "stdout",
     "output_type": "stream",
     "text": [
      "trial_options=[0, 1, 2, 3, 4, 5, 6, 7, 8, 9, 10, 11, 12, 13, 14, 15, 16, 17, 18, 19, 20, 21, 22, 23]\n",
      "layer_options=['emb', 0, 1, 2, 3, 4, 5, 6, 7, 8, 9, 10, 11, 12, 13, 14, 15, 16, 17, 18, 19, 20, 21, 22, 23, 24, 25, 26, 27]\n",
      "rank_options=[0, 10, 20, 30, 40, 50, 60, 70, 80, 90, 100, 110, 120, 130, 140, 150, 160, 170, 180, 190, 200, 210, 220, 230, 240]\n"
     ]
    }
   ],
   "source": [
    "trial_options = list(range(len(relation_result.trials)))\n",
    "print(f\"{trial_options=}\")\n",
    "\n",
    "layer_options = [layer.layer for layer in relation_result.trials[0].layers]\n",
    "print(f\"{layer_options=}\")\n",
    "\n",
    "rank_options = [rank.rank for rank in relation_result.trials[0].layers[0].result.ranks]\n",
    "print(f\"{rank_options=}\")"
   ]
  },
  {
   "cell_type": "code",
   "execution_count": 29,
   "metadata": {},
   "outputs": [
    {
     "data": {
      "text/plain": [
       "{'layer': 3,\n",
       " 'beta': AggregateMetric(mean=0.3437500049670537, stdev=0.08454843411382523, stderr=0.017258376844182854, values=[0.5, 0.25, 0.25, 0.30000001192092896, 0.4000000059604645, 0.3499999940395355, 0.30000001192092896, 0.30000001192092896, 0.30000001192092896, 0.45000001788139343, 0.20000000298023224, 0.3499999940395355, 0.20000000298023224, 0.25, 0.3499999940395355, 0.4000000059604645, 0.5, 0.3499999940395355, 0.45000001788139343, 0.4000000059604645, 0.30000001192092896, 0.30000001192092896, 0.3499999940395355, 0.45000001788139343]),\n",
       " 'recall': AggregateMetric(mean=0.6476973684210526, stdev=0.07518332304912685, stderr=0.015346731553099194, values=[0.8, 0.6111111111111112, 0.47368421052631576, 0.6842105263157895, 0.6, 0.631578947368421, 0.5789473684210527, 0.5263157894736842, 0.631578947368421, 0.7777777777777778, 0.6111111111111112, 0.65, 0.6111111111111112, 0.6111111111111112, 0.631578947368421, 0.6666666666666666, 0.7368421052631579, 0.6666666666666666, 0.7368421052631579, 0.7222222222222222, 0.7222222222222222, 0.6, 0.5789473684210527, 0.6842105263157895]),\n",
       " 'rank': AggregateMetric(mean=76.66666666666667, stdev=31.841621957571334, stderr=6.499643864887551, values=[40, 150, 50, 130, 80, 60, 80, 80, 70, 40, 150, 60, 60, 40, 50, 60, 50, 100, 70, 100, 120, 60, 70, 70]),\n",
       " 'efficacy': AggregateMetric(mean=0.9778143274853802, stdev=0.03394062998210194, stderr=0.006928102083729826, values=[1.0, 0.9444444444444444, 1.0, 1.0, 1.0, 0.9473684210526315, 1.0, 1.0, 0.8947368421052632, 0.9444444444444444, 1.0, 0.95, 0.9444444444444444, 1.0, 1.0, 1.0, 0.8947368421052632, 1.0, 1.0, 1.0, 1.0, 1.0, 1.0, 0.9473684210526315])}"
      ]
     },
     "execution_count": 29,
     "metadata": {},
     "output_type": "execute_result"
    }
   ],
   "source": [
    "relation_result.best_by_efficacy().__dict__"
   ]
  },
  {
   "cell_type": "code",
   "execution_count": 30,
   "metadata": {},
   "outputs": [],
   "source": [
    "#########################################################################################################\n",
    "TRIAL_NO = 10\n",
    "RANK = 70\n",
    "LAYER = 3\n",
    "#########################################################################################################"
   ]
  },
  {
   "cell_type": "code",
   "execution_count": 31,
   "metadata": {},
   "outputs": [
    {
     "data": {
      "text/plain": [
       "SweepRankResults(rank=70, efficacy=[0.8888888888888888, 0.9444444444444444, 0.9444444444444444], efficacy_successes=[EfficacyTestPair(source=RelationSample(subject='Australia', object='Dollar'), target=RelationSample(subject='Japan', object='Yen')), EfficacyTestPair(source=RelationSample(subject='Hungary', object='Forint'), target=RelationSample(subject='Switzerland', object='Franc')), EfficacyTestPair(source=RelationSample(subject='Japan', object='Yen'), target=RelationSample(subject='Hungary', object='Forint')), EfficacyTestPair(source=RelationSample(subject='Malaysia', object='Ringgit'), target=RelationSample(subject='United Arab Emirates', object='Dirham')), EfficacyTestPair(source=RelationSample(subject='Mexico', object='Peso'), target=RelationSample(subject='Singapore', object='Dollar')), EfficacyTestPair(source=RelationSample(subject='New Zealand', object='Dollar'), target=RelationSample(subject='United Arab Emirates', object='Dirham')), EfficacyTestPair(source=RelationSample(subject='Norway', object='Krone'), target=RelationSample(subject='United Kingdom', object='Pound')), EfficacyTestPair(source=RelationSample(subject='Philippines', object='Peso'), target=RelationSample(subject='Singapore', object='Dollar')), EfficacyTestPair(source=RelationSample(subject='Saudi Arabia', object='Riyal'), target=RelationSample(subject='Malaysia', object='Ringgit')), EfficacyTestPair(source=RelationSample(subject='Singapore', object='Dollar'), target=RelationSample(subject='Indonesia', object='Rupiah')), EfficacyTestPair(source=RelationSample(subject='South Africa', object='Rand'), target=RelationSample(subject='Norway', object='Krone')), EfficacyTestPair(source=RelationSample(subject='Sweden', object='Krona'), target=RelationSample(subject='Norway', object='Krone')), EfficacyTestPair(source=RelationSample(subject='Switzerland', object='Franc'), target=RelationSample(subject='United Kingdom', object='Pound')), EfficacyTestPair(source=RelationSample(subject='United Arab Emirates', object='Dirham'), target=RelationSample(subject='Norway', object='Krone')), EfficacyTestPair(source=RelationSample(subject='United Kingdom', object='Pound'), target=RelationSample(subject='Switzerland', object='Franc')), EfficacyTestPair(source=RelationSample(subject='United States', object='Dollar'), target=RelationSample(subject='Japan', object='Yen'))])"
      ]
     },
     "execution_count": 31,
     "metadata": {},
     "output_type": "execute_result"
    }
   ],
   "source": [
    "layer_result = [layer for layer in relation_result.trials[TRIAL_NO].layers if layer.layer == LAYER][0]\n",
    "rank_result = [rank for rank in layer_result.result.ranks if rank.rank == RANK][0]\n",
    "rank_result"
   ]
  },
  {
   "cell_type": "code",
   "execution_count": 32,
   "metadata": {},
   "outputs": [
    {
     "name": "stdout",
     "output_type": "stream",
     "text": [
      "Edit: United States -> Dollar <to> Japan -> Yen -- found in beta: 0.0\n",
      "Edit: Saudi Arabia -> Riyal <to> Malaysia -> Ringgit -- found in beta: 0.05000000074505806\n",
      "Edit: Singapore -> Dollar <to> Indonesia -> Rupiah -- found in beta: 0.10000000149011612\n",
      "Edit: Philippines -> Peso <to> Singapore -> Dollar -- found in beta: 0.15000000596046448\n",
      "Edit: New Zealand -> Dollar <to> United Arab Emirates -> Dirham -- found in beta: 0.15000000596046448\n",
      "Edit: Switzerland -> Franc <to> United Kingdom -> Pound -- found in beta: 0.15000000596046448\n",
      "Edit: United Kingdom -> Pound <to> Switzerland -> Franc -- found in beta: 0.4000000059604645\n"
     ]
    }
   ],
   "source": [
    "efficacy_successes = {s.target.subject : s for s in rank_result.efficacy_successes}\n",
    "\n",
    "for beta_result in layer_result.result.betas:\n",
    "    faithfulness_successes = beta_result.faithfulness_successes\n",
    "    for sample in faithfulness_successes:\n",
    "        if(sample.subject in efficacy_successes):\n",
    "            print(f\"Edit: {efficacy_successes[sample.subject].source} <to> {efficacy_successes[sample.subject].target} -- found in beta: {beta_result.beta}\")\n",
    "            efficacy_successes.pop(sample.subject)\n",
    "        "
   ]
  },
  {
   "cell_type": "code",
   "execution_count": 33,
   "metadata": {},
   "outputs": [
    {
     "name": "stdout",
     "output_type": "stream",
     "text": [
      "No target match found in faithfulness successes for the following:\n",
      "Edit: Japan -> Yen <to> Hungary -> Forint\n",
      "Edit: United Arab Emirates -> Dirham <to> Norway -> Krone\n"
     ]
    }
   ],
   "source": [
    "print(\"No target match found in faithfulness successes for the following:\")\n",
    "for sample in efficacy_successes.values():\n",
    "    print(f\"Edit: {sample.source} <to> {sample.target}\")"
   ]
  },
  {
   "cell_type": "code",
   "execution_count": 34,
   "metadata": {},
   "outputs": [
    {
     "data": {
      "text/plain": [
       "[RelationSample(subject='Brazil', object='Real'),\n",
       " RelationSample(subject='Argentina', object='Peso'),\n",
       " RelationSample(subject='Russia', object='Ruble'),\n",
       " RelationSample(subject='Poland', object='Zloty'),\n",
       " RelationSample(subject='India', object='Rupee'),\n",
       " RelationSample(subject='China', object='Yuan'),\n",
       " RelationSample(subject='South Korea', object='Won'),\n",
       " RelationSample(subject='Canada', object='Dollar'),\n",
       " RelationSample(subject='Turkey', object='Lira'),\n",
       " RelationSample(subject='Thailand', object='Baht')]"
      ]
     },
     "execution_count": 34,
     "metadata": {},
     "output_type": "execute_result"
    }
   ],
   "source": [
    "train_samples = layer_result.result.samples\n",
    "train_samples"
   ]
  },
  {
   "cell_type": "code",
   "execution_count": 35,
   "metadata": {},
   "outputs": [
    {
     "data": {
      "text/plain": [
       "' {} :'"
      ]
     },
     "execution_count": 35,
     "metadata": {},
     "output_type": "execute_result"
    }
   ],
   "source": [
    "prompt_template = relation_result.trials[TRIAL_NO].prompt_template\n",
    "prompt_template"
   ]
  },
  {
   "cell_type": "code",
   "execution_count": 36,
   "metadata": {},
   "outputs": [],
   "source": [
    "from src import functional, operators, editors"
   ]
  },
  {
   "cell_type": "code",
   "execution_count": 37,
   "metadata": {},
   "outputs": [],
   "source": [
    "estimator = operators.JacobianIclMeanEstimator(\n",
    "    mt = mt,\n",
    "    h_layer = LAYER,\n",
    ")\n",
    "\n",
    "operator = estimator(\n",
    "    relation.set(\n",
    "        samples = train_samples,\n",
    "        prompt_templates = [prompt_template],\n",
    "    )\n",
    ")"
   ]
  },
  {
   "cell_type": "code",
   "execution_count": 38,
   "metadata": {},
   "outputs": [],
   "source": [
    "############################################\n",
    "subject = \"Hungary\"\n",
    "############################################"
   ]
  },
  {
   "cell_type": "code",
   "execution_count": 41,
   "metadata": {},
   "outputs": [
    {
     "data": {
      "text/plain": [
       "[[PredictedToken(token=' For', prob=0.970029890537262),\n",
       "  PredictedToken(token=' Ft', prob=0.0120215630158782),\n",
       "  PredictedToken(token=' for', prob=0.003609527600929141),\n",
       "  PredictedToken(token=' F', prob=0.0023671858943998814),\n",
       "  PredictedToken(token=' Kor', prob=0.0018725981935858727)]]"
      ]
     },
     "execution_count": 41,
     "metadata": {},
     "output_type": "execute_result"
    }
   ],
   "source": [
    "# model predicts correctly\n",
    "functional.predict_next_token(\n",
    "    mt = mt,\n",
    "    prompt = operator.prompt_template.format(subject)\n",
    ")"
   ]
  },
  {
   "cell_type": "code",
   "execution_count": 42,
   "metadata": {},
   "outputs": [
    {
     "data": {
      "text/plain": [
       "LinearRelationOutput(predictions=[PredictedToken(token=' New', prob=0.4707508981227875), PredictedToken(token=' Dollar', prob=0.1228027194738388), PredictedToken(token=' Euro', prob=0.08984438329935074), PredictedToken(token=' ', prob=0.03573762625455856), PredictedToken(token=' Pes', prob=0.034101083874702454)], h=tensor([[-0.3643, -0.0974, -0.7529,  ...,  1.1895, -0.2173,  0.6777]],\n",
       "       device='cuda:0', dtype=torch.float16), z=tensor([[ 0.5054, -0.1365, -2.2422,  ..., -0.3159,  2.8867,  1.0400]],\n",
       "       device='cuda:0', dtype=torch.float16, grad_fn=<AddBackward0>))"
      ]
     },
     "execution_count": 42,
     "metadata": {},
     "output_type": "execute_result"
    }
   ],
   "source": [
    "# LRE fails (low faithfulness)\n",
    "operator(subject=subject)"
   ]
  },
  {
   "cell_type": "code",
   "execution_count": 43,
   "metadata": {},
   "outputs": [],
   "source": [
    "svd = torch.svd(operator.weight.float())\n",
    "editor = editors.LowRankPInvEditor(\n",
    "    lre = operator,\n",
    "    rank = rank_result.rank,\n",
    "    n_samples=1, n_new_tokens=1,\n",
    "    svd = svd\n",
    ")"
   ]
  },
  {
   "cell_type": "code",
   "execution_count": 44,
   "metadata": {},
   "outputs": [
    {
     "data": {
      "text/plain": [
       "'Editing: Japan -> Yen <to> Hungary -> Forint'"
      ]
     },
     "execution_count": 44,
     "metadata": {},
     "output_type": "execute_result"
    }
   ],
   "source": [
    "efficacy_test_pair = efficacy_successes[subject]\n",
    "f\"Editing: {efficacy_test_pair.source} <to> {efficacy_test_pair.target}\""
   ]
  },
  {
   "cell_type": "code",
   "execution_count": 45,
   "metadata": {},
   "outputs": [
    {
     "data": {
      "text/plain": [
       "LinearRelationEditResult(predicted_tokens=[PredictedToken(token=' For', prob=0.8955066204071045), PredictedToken(token=' H', prob=0.0679834708571434), PredictedToken(token=' Kor', prob=0.009948180057108402)], model_logits=tensor([-inf, -inf, -inf,  ..., -inf, -inf, -inf], device='cuda:0'), model_generations=[' Brazil : Real\\n Argentina : Peso\\n Russia : Ruble\\n Poland : Zloty\\n India : Rupee\\n China : Yuan\\n South Korea : Won\\n Canada : Dollar\\n Turkey : Lira\\n Thailand : Baht\\n Japan : For'])"
      ]
     },
     "execution_count": 45,
     "metadata": {},
     "output_type": "execute_result"
    }
   ],
   "source": [
    "# editing succeeds (high efficacy)\n",
    "editor(\n",
    "    subject = efficacy_test_pair.source.subject,\n",
    "    target = efficacy_test_pair.target.subject,\n",
    ")"
   ]
  },
  {
   "cell_type": "code",
   "execution_count": null,
   "metadata": {},
   "outputs": [],
   "source": []
  }
 ],
 "metadata": {
  "kernelspec": {
   "display_name": "Python 3",
   "language": "python",
   "name": "python3"
  },
  "language_info": {
   "codemirror_mode": {
    "name": "ipython",
    "version": 3
   },
   "file_extension": ".py",
   "mimetype": "text/x-python",
   "name": "python",
   "nbconvert_exporter": "python",
   "pygments_lexer": "ipython3",
   "version": "3.10.11"
  },
  "orig_nbformat": 4
 },
 "nbformat": 4,
 "nbformat_minor": 2
}
