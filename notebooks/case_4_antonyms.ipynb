{
 "cells": [
  {
   "cell_type": "code",
   "execution_count": 36,
   "metadata": {},
   "outputs": [
    {
     "name": "stdout",
     "output_type": "stream",
     "text": [
      "The autoreload extension is already loaded. To reload it, use:\n",
      "  %reload_ext autoreload\n"
     ]
    }
   ],
   "source": [
    "%load_ext autoreload\n",
    "%autoreload 2"
   ]
  },
  {
   "cell_type": "code",
   "execution_count": 37,
   "metadata": {},
   "outputs": [],
   "source": [
    "import torch\n",
    "import numpy as np\n",
    "import json\n",
    "from tqdm.auto import tqdm\n",
    "import random\n",
    "import transformers\n",
    "\n",
    "import os\n",
    "import sys\n",
    "sys.path.append('..')\n",
    "\n",
    "from relations import estimate\n",
    "from util import model_utils\n",
    "from baukit import nethook\n",
    "from operator import itemgetter\n",
    "from wordhoard import Antonyms"
   ]
  },
  {
   "cell_type": "code",
   "execution_count": 38,
   "metadata": {},
   "outputs": [
    {
     "name": "stdout",
     "output_type": "stream",
     "text": [
      "facebook/galactica-6.7b ==> device: cuda:0, memory: 13314719744\n"
     ]
    }
   ],
   "source": [
    "MODEL_NAME = \"facebook/galactica-6.7b\"  # gpt2-{medium,large,xl} or EleutherAI/gpt-j-6B\n",
    "n_embd_field = \"hidden_size\"\n",
    "\n",
    "mt = model_utils.ModelAndTokenizer(MODEL_NAME, low_cpu_mem_usage=True, torch_dtype=torch.float16)\n",
    "\n",
    "model = mt.model\n",
    "tokenizer = mt.tokenizer\n",
    "# tokenizer.pad_token = tokenizer.eos_token\n",
    "tokenizer.add_special_tokens({'pad_token': '[PAD]'})\n",
    "\n",
    "print(f\"{MODEL_NAME} ==> device: {model.device}, memory: {model.get_memory_footprint()}\")"
   ]
  },
  {
   "cell_type": "code",
   "execution_count": 39,
   "metadata": {},
   "outputs": [
    {
     "data": {
      "text/plain": [
       "['dwarf', 'minor']"
      ]
     },
     "execution_count": 39,
     "metadata": {},
     "output_type": "execute_result"
    }
   ],
   "source": [
    "word = \"giant\"\n",
    "Antonyms(search_string=word).find_antonyms()"
   ]
  },
  {
   "cell_type": "code",
   "execution_count": 40,
   "metadata": {},
   "outputs": [
    {
     "data": {
      "application/vnd.jupyter.widget-view+json": {
       "model_id": "3277656bec2a43efa8a4d26f83cbfa80",
       "version_major": 2,
       "version_minor": 0
      },
      "text/plain": [
       "  0%|          | 0/60 [00:00<?, ?it/s]"
      ]
     },
     "metadata": {},
     "output_type": "display_data"
    },
    {
     "name": "stdout",
     "output_type": "stream",
     "text": [
      "achieve\n",
      "giant\n",
      "random\n",
      "afraid\n",
      "gloomy\n",
      "rigid\n",
      "ancient\n",
      "individual\n",
      "shame\n",
      "arrive\n",
      "innocent\n",
      "simple\n",
      "arrogant\n",
      "knowledge\n",
      "single\n",
      "attack\n",
      "liquid\n",
      "sunny\n",
      "blunt\n",
      "marvelous\n",
      "timid\n",
      "brave\n",
      "noisy\n",
      "toward\n",
      "cautious\n",
      "partial\n",
      "tragic\n",
      "complex\n",
      "passive\n",
      "transparent\n",
      "crazy\n"
     ]
    },
    {
     "ename": "TypeError",
     "evalue": "Antonyms._backoff_handler() takes 1 positional argument but 2 were given",
     "output_type": "error",
     "traceback": [
      "\u001b[0;31m---------------------------------------------------------------------------\u001b[0m",
      "\u001b[0;31mRateLimitException\u001b[0m                        Traceback (most recent call last)",
      "File \u001b[0;32m~/miniconda3/envs/relation/lib/python3.10/site-packages/backoff/_sync.py:105\u001b[0m, in \u001b[0;36mretry_exception.<locals>.retry\u001b[0;34m(*args, **kwargs)\u001b[0m\n\u001b[1;32m    104\u001b[0m \u001b[39mtry\u001b[39;00m:\n\u001b[0;32m--> 105\u001b[0m     ret \u001b[39m=\u001b[39m target(\u001b[39m*\u001b[39;49margs, \u001b[39m*\u001b[39;49m\u001b[39m*\u001b[39;49mkwargs)\n\u001b[1;32m    106\u001b[0m \u001b[39mexcept\u001b[39;00m exception \u001b[39mas\u001b[39;00m e:\n",
      "File \u001b[0;32m~/miniconda3/envs/relation/lib/python3.10/site-packages/ratelimit/decorators.py:146\u001b[0m, in \u001b[0;36mRateLimitDecorator.__call__.<locals>.wrapper\u001b[0;34m(*args, **kargs)\u001b[0m\n\u001b[1;32m    135\u001b[0m \u001b[39m\"\"\"\u001b[39;00m\n\u001b[1;32m    136\u001b[0m \u001b[39mExtend the behaviour of the decorated function, forwarding function\u001b[39;00m\n\u001b[1;32m    137\u001b[0m \u001b[39minvocations previously called no sooner than a specified period of\u001b[39;00m\n\u001b[0;32m   (...)\u001b[0m\n\u001b[1;32m    144\u001b[0m \u001b[39m:raises: RateLimitException\u001b[39;00m\n\u001b[1;32m    145\u001b[0m \u001b[39m\"\"\"\u001b[39;00m\n\u001b[0;32m--> 146\u001b[0m \u001b[39mif\u001b[39;00m \u001b[39mself\u001b[39;49m\u001b[39m.\u001b[39;49m_can_call():\n\u001b[1;32m    147\u001b[0m     \u001b[39mreturn\u001b[39;00m func(\u001b[39m*\u001b[39margs, \u001b[39m*\u001b[39m\u001b[39m*\u001b[39mkargs)\n",
      "File \u001b[0;32m~/miniconda3/envs/relation/lib/python3.10/site-packages/ratelimit/decorators.py:110\u001b[0m, in \u001b[0;36mRateLimitDecorator._can_call\u001b[0;34m(self)\u001b[0m\n\u001b[1;32m    109\u001b[0m \u001b[39mwith\u001b[39;00m \u001b[39mself\u001b[39m\u001b[39m.\u001b[39mdatabase, \u001b[39mself\u001b[39m\u001b[39m.\u001b[39mlock:\n\u001b[0;32m--> 110\u001b[0m     \u001b[39mif\u001b[39;00m \u001b[39mself\u001b[39;49m\u001b[39m.\u001b[39;49m_too_many_calls:\n\u001b[1;32m    111\u001b[0m         \u001b[39mreturn\u001b[39;00m \u001b[39mFalse\u001b[39;00m\n",
      "File \u001b[0;32m~/miniconda3/envs/relation/lib/python3.10/site-packages/ratelimit/decorators.py:103\u001b[0m, in \u001b[0;36mRateLimitDecorator._too_many_calls\u001b[0;34m(self)\u001b[0m\n\u001b[1;32m    102\u001b[0m \u001b[39mif\u001b[39;00m \u001b[39mself\u001b[39m\u001b[39m.\u001b[39mraise_on_limit:\n\u001b[0;32m--> 103\u001b[0m     \u001b[39mraise\u001b[39;00m RateLimitException(\u001b[39m\"\u001b[39m\u001b[39mtoo many calls\u001b[39m\u001b[39m\"\u001b[39m, \u001b[39mself\u001b[39m\u001b[39m.\u001b[39m_period_remaining)\n\u001b[1;32m    104\u001b[0m \u001b[39mreturn\u001b[39;00m \u001b[39mTrue\u001b[39;00m\n",
      "\u001b[0;31mRateLimitException\u001b[0m: too many calls",
      "\nDuring handling of the above exception, another exception occurred:\n",
      "\u001b[0;31mTypeError\u001b[0m                                 Traceback (most recent call last)",
      "Cell \u001b[0;32mIn[40], line 12\u001b[0m\n\u001b[1;32m     10\u001b[0m word \u001b[39m=\u001b[39m pair[\u001b[39m0\u001b[39m]\n\u001b[1;32m     11\u001b[0m \u001b[39mprint\u001b[39m(word)\n\u001b[0;32m---> 12\u001b[0m antonyms \u001b[39m=\u001b[39m Antonyms(search_string\u001b[39m=\u001b[39;49mword)\u001b[39m.\u001b[39;49mfind_antonyms()\n\u001b[1;32m     13\u001b[0m time\u001b[39m.\u001b[39msleep(\u001b[39m0.2\u001b[39m)\n\u001b[1;32m     14\u001b[0m antonym_dict[word] \u001b[39m=\u001b[39m antonyms\n",
      "File \u001b[0;32m~/miniconda3/envs/relation/lib/python3.10/site-packages/backoff/_sync.py:124\u001b[0m, in \u001b[0;36mretry_exception.<locals>.retry\u001b[0;34m(*args, **kwargs)\u001b[0m\n\u001b[1;32m    121\u001b[0m         _call_handlers(on_giveup, \u001b[39m*\u001b[39m\u001b[39m*\u001b[39mdetails, exception\u001b[39m=\u001b[39me)\n\u001b[1;32m    122\u001b[0m         \u001b[39mraise\u001b[39;00m e\n\u001b[0;32m--> 124\u001b[0m     _call_handlers(on_backoff, \u001b[39m*\u001b[39;49m\u001b[39m*\u001b[39;49mdetails, wait\u001b[39m=\u001b[39;49mseconds,\n\u001b[1;32m    125\u001b[0m                    exception\u001b[39m=\u001b[39;49me)\n\u001b[1;32m    127\u001b[0m     time\u001b[39m.\u001b[39msleep(seconds)\n\u001b[1;32m    128\u001b[0m \u001b[39melse\u001b[39;00m:\n",
      "File \u001b[0;32m~/miniconda3/envs/relation/lib/python3.10/site-packages/backoff/_sync.py:20\u001b[0m, in \u001b[0;36m_call_handlers\u001b[0;34m(hdlrs, target, args, kwargs, tries, elapsed, **extra)\u001b[0m\n\u001b[1;32m     18\u001b[0m details\u001b[39m.\u001b[39mupdate(extra)\n\u001b[1;32m     19\u001b[0m \u001b[39mfor\u001b[39;00m hdlr \u001b[39min\u001b[39;00m hdlrs:\n\u001b[0;32m---> 20\u001b[0m     hdlr(details)\n",
      "\u001b[0;31mTypeError\u001b[0m: Antonyms._backoff_handler() takes 1 positional argument but 2 were given"
     ]
    }
   ],
   "source": [
    "import time\n",
    "with open(\"data/antonym_word_list.txt\") as f:\n",
    "    lines = f.readlines()\n",
    "    word_pairs = []\n",
    "    for s in lines[0::2]:\n",
    "        word_pairs.append(s.strip().split(\" - \"))\n",
    "\n",
    "antonym_dict = {}\n",
    "for pair in tqdm(word_pairs):\n",
    "    word = pair[0]\n",
    "    print(word)\n",
    "    antonyms = Antonyms(search_string=word).find_antonyms()\n",
    "    time.sleep(0.2)\n",
    "    antonym_dict[word] = antonyms"
   ]
  },
  {
   "cell_type": "code",
   "execution_count": null,
   "metadata": {},
   "outputs": [
    {
     "name": "stdout",
     "output_type": "stream",
     "text": [
      "achieve ['abandon', 'abstain', 'avoid', 'bear', 'behave', 'break', 'cancel', 'cease', 'compliment', 'cost', 'create', 'demolish', 'deny', 'depart', 'desist', 'destroy', 'direct', 'discontinue', 'discourage', 'disorganize', 'disregard', 'dissuade', 'dodge', 'end', 'exceed', 'fail', 'fail at', 'fail in', 'fail to reach', 'fall short of', 'forfeit', 'forget', 'give', 'give in', 'give up', 'halt', 'hinder', 'hold', 'idle', 'ignore', 'keep', 'keep from', 'languish', 'leave', 'loaf', 'lose', 'maintain', 'mend', 'miss', 'miss out on', 'neglect', 'not finish', 'obey', 'omit', 'overlook', 'pass', 'prevent', 'question', 'raze', 'refuse', 'rest', 'ruin', 'shirk', 'skimp', 'slight', 'slur', 'smooth', 'spend', 'stop', 'surrender', 'throw away', 'unsettle', 'wait', 'waste', 'wreck', 'yield']\n",
      "giant ['dwarf', 'minor']\n",
      "random ['definite', 'particular', 'specific']\n",
      "afraid ['able', 'adventuresome', 'adventurous', 'aggressive', 'assertive', 'assured', 'audacious', 'aweless', 'backboned', 'ballsy', 'believing', 'bellicose', 'bold', 'brassy', 'brave', 'brazen', 'calm', 'can-do', 'certain', 'clear', 'cocky', 'collected', 'comforted', 'composed', 'conceited', 'confident', 'cool', 'courageous', 'daredevil', 'daring', 'dashing', 'dauntless', 'decisive', 'defiant', 'definite', 'delighted', 'determined', 'disconcerted', 'dogmatic', 'doughty', 'eager', 'easy-going', 'egotistical', 'encouraged', 'enthusiastic', 'extroverted', 'fearless', 'feisty', 'fierce', 'firm', 'forceful', 'forthcoming', 'forward', 'frightless', 'gallant', 'game', 'good', 'greathearted', 'gritty', 'gutsy', 'gutty', 'happy', 'hard', 'hardy', 'heroic', 'heroical', 'imperturbable', 'inapprehensive', 'indifferent', 'indomitable', 'intrepid', 'keen', 'laid-back', 'lion-hearted', 'lionhearted', 'loud', 'manful', 'mettlesome', 'nervy', 'nice', 'not scared', 'pleasant', 'plucky', 'positive', 'presumptuous', 'proud', 'ready', 'reckless', 'relaxed', 'resilient', 'resolute', 'self-assertive', 'self-assured', 'self-confident', 'self-controlled', 'self-possessed', 'serene', 'shameless', 'spartan', 'spirited', 'spunky', 'stable', 'stalwart', 'steadfast', 'stout', 'stout-hearted', 'stouthearted', 'strong', 'strong-willed', 'sure', 'sure of oneself', 'temerarious', 'together', 'tough', 'unabashed', 'unafraid', 'unblenching', 'undauntable', 'undaunted', 'undismayed', 'unexcitable', 'unfazed', 'unfearful', 'unfearing', 'unflappable', 'unflinching', 'unfrightened', 'unhesitant', 'unhesitating', 'unruffled', 'unscared', 'unshakable', 'unshrinking', 'untroubled', 'unvexed', 'unwavering', 'unworried', 'valiant', 'valorous', 'venturesome', 'venturous', 'willing']\n",
      "gloomy ['animated', 'content', 'encouraged', 'encouraging', 'exhilarating', 'sparkling', 'uplifting', 'vivacious']\n",
      "rigid ['adaptable', 'adjustable', 'bendable', 'bending', 'bendsome', 'bendy', 'bouncy', 'compromising', 'cottony', 'cushioned', 'cushiony', 'cushy', 'delicate', 'ductile', 'elastic', 'extensible', 'extensile', 'fine', 'flabby', 'flaccid', 'flexible', 'flexile', 'flexuous', 'floppy', 'fluffy', 'forgiving', 'formable', 'formative', 'gentle', 'lax', 'limber', 'limp', 'lissom', 'lissome', 'lithe', 'lithesome', 'loose', 'malleable', 'modifiable', 'moldable', 'mouldable', 'movable', 'mushy', 'plastic', 'pliable', 'pliant', 'puttylike', 'reasonable', 'resilient', 'rubberlike', 'rubbery', 'slack', 'soft', 'spongy', 'springy', 'squashy', 'squishy', 'stretch', 'stretchable', 'stretchy', 'supple', 'tensile', 'tractable', 'tractile', 'velvety', 'versatile', 'whippy', 'willing', 'workable', 'yielding']\n",
      "ancient ['all the rage', 'artful', 'avant-garde', 'chic', 'clean', 'clear', 'clever', 'common', 'considered', 'contemporary', 'conventional', 'creative', 'culty', 'current', 'cutting-edge', 'derivative', 'different', 'du jour', 'ensuing', 'exciting', 'existent', 'existing', 'experimental', 'extant', 'fashionable', 'following', 'forward-looking', 'french', 'fresh', 'future', 'ground-breaking', 'groundbreaking', 'happening', 'hi-tech', 'high-tech', 'hip', 'hot', 'imaginative', 'immediate', 'in', 'in fashion', 'in style', 'in vogue', 'ingenious', 'innovational', 'innovative', 'innovatory', 'interesting', 'inventive', 'last', 'late', 'lately', 'latest', 'latter-day', 'lively', 'memorable', 'mod', 'modern', 'modern-day', 'modernised', 'modernist', 'modernistic', 'modernized', 'modish', 'neoteric', 'new', 'new age', 'new-fangled', 'new-fashioned', 'newfangled', 'nouvelle', 'novel', 'novelle', 'of late', 'ongoing', 'original', 'pioneering', 'popular', 'present', 'present day', 'present-day', 'present-time', 'progressive', 'recent', 'red-hot', 'regular', 'revolutionary', 'space-age', 'state-of-the-art', 'stylish', 'subsequent', 'succeeding', 'sweet-smelling', 'the new', 'trendy', 'ultra-modern', 'ultramodern', 'unconventional', 'unfamiliar', 'unhackneyed', 'unprecedented', 'unused', 'unusual', 'up to date', 'up-to-date', 'up-to-the-minute', 'updated', 'usual', 'variational', 'voguish', 'with it', 'young']\n",
      "individual []\n",
      "shame ['arrogance', 'big-headedness', 'bigheadedness', 'cockiness', 'conceit', 'conceitedness', 'condescension', 'egoism', 'egotism', 'haughtiness', 'hauteur', 'hubris', 'immodesty', 'insolence', 'narcissism', 'overconfidence', 'pomposity', 'pompousness', 'pretentiousness', 'pride', 'self-admiration', 'self-adulation', 'self-conceit', 'self-congratulation', 'self-glorification', 'self-glory', 'self-importance', 'self-love', 'self-opinion', 'self-satisfaction', 'smugness', 'snobbery', 'snobbishness', 'superciliousness', 'swagger', 'swellheadedness', 'vaingloriousness', 'vainglory', 'vainness', 'vanity']\n",
      "arrive ['disappear']\n",
      "innocent ['bad', 'blamable', 'corrupt', 'cunning', 'evil', 'experienced', 'impure', 'knowledgeable']\n",
      "simple ['abstruse', 'agonising', 'agonizing', 'ambitious', 'arduous', 'aware', 'awkward', 'back-breaking', 'backbreaking', 'bothersome', 'bruising', 'brutal', 'burdensome', 'careful', 'challenging', 'cloudy', 'clumsy', 'cluttered', 'colossal', 'complex', 'complicated', 'confusing', 'convoluted', 'crippling', 'cruel', 'crushing', 'cryptic', 'cumbersome', 'daedal', 'daunting', 'debilitating', 'decorated', 'demanding', 'depleting', 'detailed', 'dicey', 'difficult', 'difficult to understand', 'discomforting', 'distressful', 'distressing', 'draining', 'drudgy', 'easier said than done', 'effortful', 'elaborate', 'embellished', 'energy-consuming', 'exacting', 'excruciating', 'exhausting', 'extreme', 'fancy', 'fatiguing', 'ferocious', 'fiddly', 'fierce', 'forbidding', 'formidable', 'galling', 'gargantuan', 'grievous', 'grim', 'grinding', 'grueling', 'gruelling', 'hairy', 'hard', 'hard-won', 'harrowing', 'harsh', 'hazardous', 'heavy', 'hellish', 'herculean', 'high-impact', 'high-pressure', 'immense', 'impossible', 'incomprehensible', 'inscrutable', 'insufferable', 'intelligent', 'intense', 'intimidating', 'intolerable', 'intractable', 'intricate', 'involute', 'involuted', 'involved', 'jarring', 'jumbled', 'killer', 'killing', 'knackering', 'knotty', 'labored', 'laborious', 'laboured', 'like getting blood out of a stone', 'maladroit', 'marathon', 'mature', 'merciless', 'mighty', 'mind-bending', 'mind-boggling', 'moiling', 'murderous', 'nerve-racking', 'no picnic', 'not easy', 'obscure', 'older', 'ominous', 'on-the-ball', 'onerous', 'opaque', 'operose', 'oppressive', 'ornate', 'painful', 'painstaking', 'perplexing', 'ponderous', 'problematic', 'problematical', 'profound', 'prohibitive', 'punishing', 'puzzling', 'recondite', 'rigorous', 'rough', 'rugged', 'sapping', 'savage', 'scabrous', 'serious', 'severe', 'shattering', 'slavish', 'slow', 'smart', 'solemn', 'sophisticated', 'staggering', 'sticky', 'stiff', 'strenuous', 'stressful', 'sweaty', 'tall', 'tangled', 'taxing', 'tedious', 'testing', 'thorny', 'thoughtful', 'tiresome', 'tiring', 'titanic', 'toilful', 'toilsome', 'tormenting', 'tortuous', 'torturesome', 'torturous', 'tough', 'tough going', 'tricky', 'troublesome', 'troubling', 'trying', 'unbearable', 'unclear', 'uncomfortable', 'undecipherable', 'uneasy', 'unendurable', 'unforgiving', 'unintelligible', 'unnerving', 'unpleasant', 'unremitting', 'unskilful', 'unsparing', 'unyielding', 'uphill', 'uphill battle', 'upstream', 'vague', 'vicious', 'vigorous', 'wearing', 'wearisome', 'wearying', 'weighty', 'worksome']\n",
      "arrogant ['meek', 'servile']\n",
      "knowledge ['absurdity', 'amateurishness', 'artlessness', 'asininity', 'avocation', 'avoidance', 'awkwardness', 'bad judgment', 'blindness', 'boneheadedness', 'brainlessness', 'calmness', 'carelessness', 'clumsiness', 'confusion', 'craziness', 'denseness', 'density', 'destruction', 'dim-wittedness', 'dimness', 'disability', 'doltishness', 'dull-headedness', 'dull-wittedness', 'dullness', 'dulness', 'dumbness', 'ease', 'entertainment', 'failure', 'fatuity', 'fatuousness', 'feeble-mindedness', 'folly', 'foolishness', 'gaucheness', 'gormlessness', 'gullibility', 'idiocy', 'ignorance', 'illiteracy', 'illiterateness', 'illogicality', 'imbecility', 'imperception', 'impotence', 'impracticality', 'improvidence', 'imprudence', 'inability', 'inadequacy', 'inadvisability', 'inanity', 'inappropriateness', 'incapability', 'incapableness', 'incapacity', 'incaution', 'incompetence', 'incompetency', 'incomprehension', 'indecision', 'indiscretion', 'inefficience', 'inefficiency', 'ineptitude', 'ineptness', 'inexperience', 'injudiciousness', 'insanity', 'insensibility', 'insensitivity', 'instability', 'irrationality', 'irresponsibility', 'lack', 'lack of intelligence', 'lunacy', 'maladroitness', 'mindlessness', 'misapprehension', 'misconception', 'misinterpretation', 'misjudgement', 'misjudgment', 'mistake', 'misunderstanding', 'nitwittedness', 'noncomprehension', 'nonsense', 'nonsensicalness', 'oafishness', 'obscurity', 'obtuseness', 'release', 'science', 'senselessness', 'shallowness', 'silliness', 'simpleness', 'simplicity', 'slow-wittedness', 'slowness', 'stupidity', 'stupidness', 'superficiality', 'surrender', 'thick-headedness', 'thickness', 'thing', 'thoughtlessness', 'unawareness', 'unbelief', 'unconsciousness', 'unintelligence', 'unreasonableness', 'unskill', 'unskillfulness', 'unsoundness', 'unwariness', 'unwisdom', 'unwiseness', 'uselessness', 'vacancy', 'vacuity', 'vagueness', 'want', 'weak-mindedness', 'weakness', 'witlessness', 'writing']\n",
      "single ['assorted', 'collective', 'different', 'diverse', 'diversified', 'double', 'manifold', 'many', 'married', 'mixed', 'multifarious', 'multifold', 'multiple', 'multitudinous', 'myriad', 'numerous', 'several', 'united', 'varied', 'various', 'voluminous', 'wed', 'wedded']\n",
      "attack ['aid', 'defense', 'flight', 'health', 'protection', 'reprisal', 'resistance', 'shelter', 'shield', 'submission', 'support', 'surrender', 'sustenance']\n",
      "liquid ['close', 'condensed', 'dense', 'firm', 'frozen', 'hard', 'solid', 'unavailable']\n",
      "sunny ['afflictive', 'annoyed', 'beclouded', 'black', 'bleak', 'blowy', 'blustering', 'blustery', 'cheerless', 'clouded', 'clouded over', 'cloudy', 'cold', 'comfortless', 'damp', 'dark', 'darkened', 'depressed', 'depressing', 'depressive', 'desolate', 'dim', 'dingy', 'dire', 'dirty', 'disconsolate', 'disheartening', 'dismal', 'dispiriting', 'doleful', 'dolorous', 'dour', 'drab', 'drear', 'dreary', 'dreich', 'dull', 'dusky', 'foggy', 'forlorn', 'foul', 'funereal', 'gloomy', 'glum', 'godforsaken', 'gray', 'grey', 'gusty', 'harsh', 'hazed', 'hazy', 'heavy', 'horrible', 'howling', 'inclement', 'joyless', 'lackluster', 'lacklustre', 'leaden', 'lightless', 'louring', 'lowering', 'lugubrious', 'melancholy', 'menacing', 'miserable', 'misty', 'monotonous', 'morbid', 'morose', 'murky', 'nasty', 'nebulous', 'nubilous', 'oppressive', 'overcast', 'overclouded', 'pale', 'pallid', 'pouring', 'promising rain', 'raging', 'rainy', 'raw', 'repulsive', 'rough', 'sad', 'saturnine', 'severe', 'shaded', 'shadowy', 'shady', 'solemn', 'somber', 'sombre', 'sorrowful', 'squally', 'storm-wracked', 'stormful', 'storming', 'stormy', 'sulky', 'sullen', 'sunless', 'tedious', 'tempestuous', 'tenebrific', 'tenebrous', 'threatening', 'thundery', 'torrid', 'troublesome', 'turbulent', 'unbright', 'unbrilliant', 'unclear', 'unfortunate', 'unhappy', 'unlit', 'unpleasant', 'unreasonable', 'upset', 'volatile', 'wan', 'wet', 'wild', 'windy', 'wintery', 'wintry', 'wretched']\n",
      "blunt ['acuate', 'acuminate', 'acute', 'acute-angled', 'barbed', 'bright', 'cutting', 'edged', 'edgy', 'ground', 'honed', 'intelligent', 'jagged', 'keen', 'keen-edged', 'knife-edged', 'knife-like', 'knifelike', 'lacerating', 'needle-pointed', 'needled', 'needlelike', 'notched', 'pointed', 'pointy', 'polite', 'prickly', 'pronged', 'quick', 'razor', 'razor-edged', 'razor-sharp', 'saw-edged', 'saw-like', 'saw-toothed', 'sawlike', 'sawtooth', 'sawtoothed', 'serrate', 'serrated', 'serratiform', 'serriform', 'serrulate', 'serrulated', 'sharp', 'sharp-edged', 'sharpened', 'smart', 'spiked', 'spikelike', 'spikey', 'spiky', 'spiny', 'subtle', 'tactful', 'tapered', 'thorny', 'toothed', 'trenchant', 'ultrasharp', 'unblunted', 'whetted']\n",
      "marvelous ['accepted', 'accustomed', 'average', 'bad', 'banal', 'basic', 'believable', 'bog-standard', 'boring', 'common', 'commonplace', 'constant', 'conventional', 'credible', 'customary', 'cut-and-dried', 'cut-and-dry', 'daily', 'discreet', 'dull', 'established', 'everyday', 'expected', 'familiar', 'frequent', 'general', 'habitual', 'half-pie', 'household', 'humdrum', 'imperfect', 'inconsiderable', 'inconspicuous', 'indifferent', 'inferior', 'insignificant', 'likely', 'little', 'mainstream', 'mediocre', 'moderate', 'mundane', 'natural', 'no great shakes', 'normal', 'not special', 'ordinary', 'paltry', 'plain', 'plausible', 'poor', 'popular', 'possible', 'predictable', 'prosaic', 'quotidian', 'recognised', 'recognized', 'regular', 'routine', 'run-of-the-mill', 'second-rate', 'small', 'standard', 'standard-issue', 'stock', 'tenable', 'tiny', 'traditional', 'typical', 'ugly', 'undistinguished', 'unexceptional', 'unextraordinary', 'unremarkable', 'usual', 'vanilla', 'well-known', 'wonted', 'worthless']\n",
      "timid ['daring', 'fearless']\n",
      "brave ['frightened', 'humble', 'reticent', 'retiring']\n",
      "noisy ['calm', 'faint', 'gentle', 'hushed', 'inaudible', 'incomplete', 'introverted', 'lazy', 'lethargic', 'low', 'low-key', 'meek', 'mellow', 'moderate', 'muffled', 'mute', 'muted', 'needy', 'noiseless', 'orderly', 'peaceful', 'quiet', 'quieted', 'restrained', 'serious', 'shy', 'silent', 'soft', 'solemn', 'soundless', 'speechless', 'still', 'stilled', 'stilly', 'tame', 'thin', 'tinny', 'tranquil', 'unpronounced', 'weak']\n",
      "toward ['against', 'averse to', 'away from', 'in competition with', 'in opposition to', 'opposed to', 'set against']\n",
      "cautious ['absent', 'absent-minded', 'absentminded', 'abstracted', 'adventuresome', 'adventurous', 'amateurish', 'apathetic', 'asleep', 'audacious', 'awkward', 'badly thought out', 'bold', 'brash', 'bumbling', 'capricious', 'carefree', 'careless', 'casual', 'cavalier', 'certain', 'clueless', 'clumsy', 'complacent', 'cursory', 'daring', 'daydreaming', 'depthless', 'derelict', 'disorganised', 'disorganized', 'disregardful', 'distracted', 'distrait', 'diverted', 'dreamy', 'empty', 'erroneous', 'error-ridden', 'extroverted', 'false', 'fast and loose', 'fatuous', 'flimsy', 'flippant', 'foolhardy', 'foolish', 'haphazard', 'hare-brained', 'harebrained', 'harsh', 'harum-scarum', 'hasty', 'headlong', 'heavy', 'heedless', 'honest', 'hurried', 'idiotic', 'ignorant', 'ill-advised', 'ill-conceived', 'ill-considered', 'ill-judged', 'ill-thought-out', 'illogical', 'imbecile', 'impetuous', 'imprecise', 'improvident', 'imprudent', 'impulsive', 'inaccurate', 'inadvisable', 'inane', 'inattentive', 'incautious', 'incognizant', 'inconsiderate', 'inconversant', 'incorrect', 'indelicate', 'indifferent', 'indiscreet', 'inept', 'inexact', 'injudicious', 'innocent', 'inobservant', 'insensible', 'insensitive', 'irrational', 'irresponsible', 'lackadaisical', 'lax', 'lazy', 'light', 'loose', 'lumpen', 'madcap', 'messy', 'mindless', 'misguided', 'misjudged', 'neglectful', 'neglecting', 'negligent', 'nescient', 'nonchalant', 'not thought through', 'oblivious', 'obtuse', 'obvious', 'offhand', 'one-dimensional', 'open', 'outgoing', 'over-adventurous', 'over-venturesome', 'overbold', 'overconfident', 'overhasty', 'perfunctory', 'peripheral', 'precipitate', 'precipitous', 'premature', 'preoccupied', 'questionable', 'quiet', 'rash', 'reckless', 'regardless', 'remiss', 'revealing', 'rough', 'scatterbrained', 'scrappy', 'seat-of-the-pants', 'senseless', 'shallow', 'shoddy', 'silly', 'slack', 'slap-happy', 'slapdash', 'slipshod', 'sloppy', 'slovenly', 'spur-of-the-moment', 'stupid', 'superficial', 'tactless', 'tearaway', 'temerarious', 'thoughtless', 'token', 'trivial', 'unafraid', 'unalert', 'unaware', 'uncareful', 'uncaring', 'uncautious', 'uncircumspect', 'unconcerned', 'unconscious', 'unconsidered', 'uncontrolled', 'uncritical', 'undemanding', 'undetailed', 'undiplomatic', 'undiscerning', 'unguarded', 'unheedful', 'unheeding', 'uninformed', 'uninstructed', 'unintelligent', 'unknowing', 'unmindful', 'unnoticing', 'unobservant', 'unobserving', 'unperceiving', 'unperceptive', 'unprepared', 'unrealistic', 'unreasonable', 'unresponsive', 'unsafe', 'unscrupulous', 'unskilled', 'unsmart', 'unsound', 'unsuspecting', 'unsuspicious', 'untactful', 'unthinking', 'unthoughtful', 'unwary', 'unwatchful', 'unwise', 'unwitting', 'unworried', 'venturesome', 'venturous', 'wild', 'willing', 'woolgathering', 'wrong']\n",
      "partial ['absolute', 'aggregate', 'all', 'all in one piece', 'complete', 'comprehensive', 'entire', 'fair', 'faultless', 'finished', 'flawless', 'full', 'grand', 'intact', 'integral', 'inviolate', 'just', 'overall', 'perfect', 'plenary', 'pristine', 'scatheless', 'solid', 'sound', 'thorough', 'together', 'total', 'unbiased', 'unblemished', 'unbroken', 'uncut', 'undamaged', 'undefiled', 'undivided', 'unflawed', 'unharmed', 'unhurt', 'unimpaired', 'uninjured', 'unmarked', 'unmarred', 'unmitigated', 'unmutilated', 'unprejudiced', 'unscathed', 'unsevered', 'unspoiled', 'unspoilt', 'unsullied', 'untouched', 'unviolated', 'virgin', 'whole']\n",
      "tragic ['advantageous', 'agreeable', 'aiding', 'anastrophic', 'appealing', 'appropriate', 'approved', 'apt', 'assisting', 'auspicious', 'becoming', 'beneficial', 'benign', 'blessed', 'bright', 'celebrated', 'cheerful', 'comforting', 'commendable', 'convenient', 'desirable', 'desired', 'encouraging', 'excellent', 'favorable', 'favored', 'favourable', 'favoured', 'felicitous', 'fortuitous', 'fortunate', 'fruitful', 'gainful', 'golden', 'good', 'great', 'happy', 'harmless', 'healthful', 'healthy', 'helpful', 'hopeful', 'innocuous', 'inoffensive', 'insignificant', 'joyous', 'life-giving', 'liked', 'lucky', 'miraculous', 'nice', 'non-lethal', 'non-toxic', 'nondestructive', 'nonfatal', 'nonlethal', 'nourishing', 'opportune', 'pleasant', 'pleasing', 'preferred', 'profitable', 'promising', 'propitious', 'prosperous', 'providential', 'rewarding', 'right', 'salutary', 'satisfactory', 'satisfying', 'successful', 'superficial', 'timely', 'triumphant', 'trivial', 'unimportant', 'unnecessary', 'useful', 'valuable', 'vital', 'vitalizing', 'wanted', 'welcome', 'wholesome', 'win-win', 'winning', 'wonderful', 'wondrous', 'worthwhile']\n",
      "complex ['apparent', 'clear', 'direct', 'discernible', 'easy', 'evident', 'homogeneous', 'obvious', 'plain']\n",
      "passive ['active', 'adventuresome', 'adventurous', 'aggressive', 'agitated', 'agonistic', 'alert', 'alive', 'alive and kicking', 'ambitious', 'anarchistic', 'animate', 'animated', 'antagonistic', 'anti', 'anti-democratic', 'ardent', 'argumentative', 'arrogant', 'assaultive', 'assertive', 'attentive', 'audacious', 'autarchic', 'authoritarian', 'authoritative', 'autocratic', 'autocratical', 'averse to', 'avid', 'awake', 'awkward', 'balky', 'bellicose', 'belligerent', 'bloody-minded', 'boisterous', 'bold', 'bolshie', 'bossy', 'brawly', 'bright', 'brisk', 'bull-headed', 'bullheaded', 'bullish', 'busy', 'cantankerous', 'careful', 'caring', 'challenging', 'chippy', 'cocky', 'coercive', 'combative', 'concerned', 'confident', 'confrontational', 'contentious', 'contrary', 'controlling', 'contumacious', 'courageous', 'daring', 'dashing', 'dead set against', 'defiant', 'despotic', 'determined', 'dictatorial', 'difficult', 'diligent', 'discordant', 'disinclined to accept', 'disloyal', 'disobedient', 'disorderly', 'disputatious', 'disrespectful', 'dissenting', 'dissentious', 'dissident', 'dogged', 'dominant', 'dominating', 'domineering', 'draconian', 'dynamic', 'eager', 'egotistic', 'emotional', 'energetic', 'enterprising', 'enthusiastic', 'excitable', 'excited', 'factious', 'feisty', 'fiery', 'firm', 'forceful', 'fractious', 'froward', 'full of beans', 'full of life', 'gladiatorial', 'gutsy', 'hard', 'hard-line', 'hard-working', 'hardheaded', 'hardy', 'harsh', 'haughty', 'headstrong', 'high and mighty', 'hostile', 'hostile to', 'immovable', 'impatient', 'imperative', 'imperial', 'imperious', 'implacable', 'incompliant', 'inconsiderate', 'inconstant', 'incorrigible', 'independent', 'indocile', 'indomitable', 'industrious', 'inexorable', 'inflexible', 'inimical to', 'insolent', 'inspired', 'insubmissive', 'insubordinate', 'insurgent', 'insurrectionary', 'interested', 'intolerant', 'intractable', 'intransigent', 'iron-fisted', 'keen', 'lively', 'loud', 'macho', 'magisterial', 'masterful', 'militant', 'misbehaving', 'mobile', 'motivated', 'moving', 'mulish', 'mutinous', 'neglectful', 'non-compliant', 'noncompliant', 'nonconformist', 'obdurate', 'obstinate', 'obstreperous', 'officious', 'opinionated', 'opposed', 'opposed to', 'opposing', 'oppressive', 'ornery', 'overbearing', 'overriding', 'passionate', 'peremptory', 'pertinacious', 'perverse', 'petulant', 'pig-headed', 'pigheaded', 'protesting', 'provocative', 'pugnacious', 'pushful', 'pushy', 'quarrelsome', 'querulous', 'quick', 'reactive', 'ready for a fight', 'rebel', 'rebellious', 'recalcitrant', 'reckless', 'recusant', 'refractory', 'reluctant to accept', 'renitent', 'repellent', 'resistant', 'resisting', 'resistive', 'resolute', 'responsive', 'restive', 'rigid', 'rock-ribbed', 'rough', 'roused', 'scrappy', 'seditious', 'self-assertive', 'self-willed', 'sensitive', 'severe', 'single-minded', 'solid', 'sparky', 'spirited', 'spoiling for a fight', 'spunky', 'steadfast', 'stiff-necked', 'stimulated', 'strict', 'strong', 'stroppy', 'stubborn', 'subjugating', 'subversive', 'superior', 'swift', 'tenacious', \"throwing one's weight about\", 'touchy', 'tough', 'treacherous', 'treasonable', 'treasonous', 'troubled', 'troublesome', 'truculent', 'trying', 'tyrannic', 'tyrannical', 'tyrannous', 'unaccommodating', 'unadaptable', 'unamenable', 'unbendable', 'unbending', 'uncompliant', 'uncomplying', 'uncompromising', 'uncontrollable', 'uncooperative', 'undemocratic', 'undutiful', 'unenthusiastic about', 'unfaithful', 'unflexible', 'ungovernable', 'unhelpful', 'unmalleable', 'unmanageable', 'unnecessary', 'unpliable', 'unprepared', 'unreasonable', 'unrelenting', 'unruly', 'unshakable', 'unsubmissive', 'untired', 'untoward', 'unwilling', 'unwilling to accept', 'unyielding', 'useless', 'venturesome', 'venturous', 'vibrant', 'vigorous', 'violent', 'vital', 'vivacious', 'warlike', 'warm', 'wayward', 'wholehearted', 'wide-awake', 'wild', 'wilful', 'willful', 'zealous', 'zippy']\n"
     ]
    }
   ],
   "source": [
    "for w in antonym_dict:\n",
    "    print(w, antonym_dict[w])"
   ]
  },
  {
   "cell_type": "code",
   "execution_count": 41,
   "metadata": {},
   "outputs": [
    {
     "name": "stdout",
     "output_type": "stream",
     "text": [
      "achieve  ==>  [(' fail', 0.2705), (' avoid', 0.1298), (' lose', 0.0706), (' prevent', 0.0638), (' achieve', 0.0164)]\n",
      "giant  ==>  [(' dwarf', 0.5088), (' small', 0.1306), (' tiny', 0.0417), (' giant', 0.0141), (' light', 0.0067)]\n",
      "random  ==>  [(' regular', 0.1708), (' systematic', 0.1616), (' predictable', 0.1289), (' ordered', 0.0581), (' order', 0.0533)]\n",
      "afraid  ==>  [(' not', 0.1445), (' happy', 0.0637), (' calm', 0.0473), (' safe', 0.0469), (' af', 0.0438)]\n",
      "gloomy  ==>  [(' che', 0.1497), (' happy', 0.1193), (' bright', 0.0701), (' l', 0.0609), (' beautiful', 0.0479)]\n",
      "rigid  ==>  [(' flexible', 0.2406), (' soft', 0.1288), (' elastic', 0.1019), (' malle', 0.0334), (' fl', 0.0308)]\n",
      "ancient  ==>  [(' modern', 0.7485), (' new', 0.0747), (' young', 0.0659), (' recent', 0.0517), (' contemporary', 0.0095)]\n",
      "individual  ==>  [(' social', 0.2747), (' group', 0.1666), (' collective', 0.0979), (' society', 0.05), (' mass', 0.0349)]\n",
      "shame  ==>  [(' pr', 0.1874), (' gl', 0.1102), (' honor', 0.0906), (' happiness', 0.0892), (' bl', 0.055)]\n",
      "arrive  ==>  [(' depart', 0.6313), (' leave', 0.1647), (' arrive', 0.0243), (' disappear', 0.0137), (' de', 0.0136)]\n",
      "innocent  ==>  [(' guilty', 0.2225), (' r', 0.07), (' malicious', 0.0562), (' violent', 0.0545), (' v', 0.047)]\n",
      "simple  ==>  [(' complex', 0.7808), (' complicated', 0.1525), (' compound', 0.0108), (' difficult', 0.0081), (' sophisticated', 0.0069)]\n",
      "arrogant  ==>  [(' hum', 0.1914), (' modest', 0.1276), (' gentle', 0.0401), (' tim', 0.031), (' grac', 0.0272)]\n",
      "knowledge  ==>  [(' ignor', 0.8433), (' wisdom', 0.0243), (' l', 0.0069), (' st', 0.0061), (' false', 0.0039)]\n",
      "single  ==>  [(' multiple', 0.2708), (' many', 0.1832), (' plural', 0.0734), (' multi', 0.0456), (' double', 0.0361)]\n",
      "attack  ==>  [(' defend', 0.2054), (' defense', 0.1638), (' defence', 0.1445), (' retreat', 0.1423), (' escape', 0.0395)]\n",
      "liquid  ==>  [(' gas', 0.6294), (' gaseous', 0.163), (' solid', 0.0706), (' g', 0.0432), (' plastic', 0.0184)]\n",
      "sunny  ==>  [(' cloudy', 0.2974), (' sh', 0.2583), (' rainy', 0.1427), (' cold', 0.0695), (' ', 0.0235)]\n",
      "blunt  ==>  [(' sharp', 0.707), (' pointed', 0.1802), (' point', 0.0094), (' acute', 0.0086), (' angular', 0.0055)]\n",
      "marvelous  ==>  [(' d', 0.1191), (' ordinary', 0.0949), (' b', 0.0673), (' aw', 0.0668), (' un', 0.0528)]\n",
      "timid  ==>  [(' bold', 0.6626), (' aggressive', 0.0444), (' cour', 0.0247), (' bra', 0.02), (' vigorous', 0.0171)]\n",
      "brave  ==>  [(' cow', 0.2725), (' tim', 0.1602), (' f', 0.0722), (' c', 0.0637), (' d', 0.0545)]\n",
      "noisy  ==>  [(' quiet', 0.7861), (' silent', 0.0539), (' calm', 0.0362), (' clean', 0.0257), (' t', 0.0142)]\n",
      "toward  ==>  [(' away', 0.9497), (' from', 0.0086), (' toward', 0.0079), (' opposite', 0.0038), (' far', 0.0035)]\n",
      "cautious  ==>  [(' bold', 0.2291), (' advent', 0.0933), (' rec', 0.0392), (' confident', 0.032), (' f', 0.0253)]\n",
      "partial  ==>  [(' complete', 0.4355), (' total', 0.2173), (' full', 0.0906), (' whole', 0.0643), (' entire', 0.027)]\n",
      "tragic  ==>  [(' comic', 0.1735), (' happy', 0.1077), (' hum', 0.0623), (' hero', 0.0609), (' upl', 0.0474)]\n",
      "complex  ==>  [(' simple', 0.9487), (' uncomplicated', 0.0097), (' simpl', 0.008), (' easy', 0.0057), (' primitive', 0.0025)]\n",
      "passive  ==>  [(' active', 0.9497), (' aggressive', 0.0143), (' proactive', 0.0049), (' reactive', 0.0037), (' dynamic', 0.0024)]\n",
      "transparent  ==>  [(' opaque', 0.957), (' turbid', 0.0141), (' transl', 0.0067), (' cloudy', 0.0035), (' op', 0.0018)]\n"
     ]
    }
   ],
   "source": [
    "prompt = \"\"\"the antonym of light is dark\n",
    "the antonym of giant is dwarf\n",
    "the antonym of rigid is adaptable\n",
    "the antonym of {} is\"\"\"\n",
    "\n",
    "filter_by_model_knowledge = []\n",
    "for word in antonym_dict:\n",
    "    txt, ret_dict = model_utils.generate_fast(\n",
    "        model, tokenizer, \n",
    "        prompts=[prompt.format(word)], max_new_tokens=10, \n",
    "        get_answer_tokens=True, argmax_greedy=True\n",
    "    )\n",
    "    print(word, \" ==> \", [(ans['token'], ans['p']) for ans in ret_dict['answer'][0]['candidates']])\n",
    "    # # tick = hyper.startswith(ret_dict['answer'][0]['top_token'].strip())\n",
    "    # tick = hyper == ret_dict['answer'][0]['top_token'].strip()\n",
    "    # print(f\"{bs} >> {hyper} ===> {[(ans['token'], ans['p']) for ans in ret_dict['answer'][0]['candidates']]} :: {tick}\")\n",
    "    # if(tick):\n",
    "    #     filter_by_model_knowledge.append((bs, hyper))\n"
   ]
  },
  {
   "cell_type": "code",
   "execution_count": 57,
   "metadata": {},
   "outputs": [
    {
     "name": "stdout",
     "output_type": "stream",
     "text": [
      "[' abandon', ' abst', ' avoid', ' bear', ' behave', ' break', ' cancel', ' cease', ' compl', ' cost', ' create', ' demol', ' den', ' depart', ' des', ' destroy', ' direct', ' dis', ' discour', ' dis', ' disreg', ' diss', ' d', ' end', ' exceed', ' fail', ' fail', ' fail', ' fail', ' fall', ' for', ' forget', ' give', ' give', ' give', ' halt', ' hinder', ' hold', ' idle', ' ignore', ' keep', ' keep', ' l', ' leave', ' lo', ' lose', ' maintain', ' m', ' miss', ' miss', ' neglect', ' not', ' obey', ' omit', ' over', ' pass', ' prevent', ' question', ' ra', ' ref', ' rest', ' ru', ' sh', ' sk', ' slight', ' sl', ' smooth', ' spend', ' stop', ' sur', ' throw', ' un', ' wait', ' waste', ' w', ' yield', ' dwarf', ' minor', ' definite', ' particular', ' specific', ' able', ' advent', ' advent', ' aggressive', ' asser', ' assured', ' aud', ' aw', ' back', ' ball', ' belie', ' bell', ' bold', ' brass', ' bra', ' b', ' calm', ' can', ' certain', ' clear', ' cock', ' collected', ' com', ' composed', ' conce', ' confident', ' cool', ' cour', ' d', ' d', ' d', ' da', ' decisive', ' def', ' definite', ' del', ' determined', ' dis', ' dog', ' dough', ' e', ' easy', ' ego', ' encouraged', ' enthus', ' ext', ' fear', ' fe', ' f', ' firm', ' force', ' forthcoming', ' forward', ' f', ' gall', ' game', ' good', ' great', ' gr', ' gut', ' gut', ' happy', ' hard', ' hard', ' hero', ' hero', ' im', ' in', ' indiff', ' ind', ' int', ' k', ' laid', ' lion', ' lion', ' loud', ' man', ' met', ' nerv', ' nice', ' not', ' pleasant', ' pl', ' positive', ' presum', ' pro', ' ready', ' rec', ' relaxed', ' resilient', ' res', ' self', ' self', ' self', ' self', ' self', ' s', ' sham', ' sp', ' spir', ' spun', ' stable', ' st', ' stead', ' st', ' st', ' st', ' strong', ' strong', ' sure', ' sure', ' tem', ' together', ' tough', ' un', ' un', ' un', ' und', ' und', ' und', ' un', ' unf', ' unf', ' unf', ' un', ' un', ' unf', ' un', ' un', ' un', ' un', ' un', ' un', ' un', ' un', ' un', ' unw', ' val', ' val', ' vent', ' vent', ' willing', ' animated', ' content', ' encouraged', ' encouraging', ' ex', ' spark', ' upl', ' viv', ' adaptable', ' adjustable', ' bend', ' bending', ' b', ' bend', ' bo', ' compromising', ' cotton', ' c', ' c', ' cus', ' delicate', ' ductile', ' elastic', ' extens', ' extens', ' fine', ' fl', ' fl', ' flexible', ' flex', ' flex', ' fl', ' flu', ' for', ' form', ' form', ' gentle', ' lax', ' lim', ' lim', ' l', ' l', ' lit', ' lit', ' loose', ' malle', ' modifiable', ' mold', ' mould', ' movable', ' mus', ' plastic', ' pl', ' pl', ' put', ' reasonable', ' resilient', ' rubber', ' rubber', ' slack', ' soft', ' spong', ' spring', ' squ', ' squ', ' stretch', ' stretch', ' stretch', ' sup', ' tensile', ' tractable', ' trac', ' vel', ' versatile', ' wh', ' willing', ' work', ' yielding', ' all', ' art', ' av', ' ch', ' clean', ' clear', ' cle', ' common', ' considered', ' contemporary', ' conventional', ' creative', ' cult', ' current', ' cutting', ' derivative', ' different', ' du', ' ensuing', ' exciting', ' exist', ' existing', ' experimental', ' extant', ' fashion', ' following', ' forward', ' f', ' fresh', ' future', ' ground', ' ground', ' happening', ' hi', ' high', ' hip', ' hot', ' imag', ' immediate', ' in', ' in', ' in', ' in', ' in', ' innov', ' innovative', ' innov', ' interesting', ' inv', ' last', ' late', ' l', ' latest', ' latter', ' l', ' memor', ' mod', ' modern', ' modern', ' modern', ' modern', ' modern', ' modern', ' mod', ' ne', ' new', ' new', ' new', ' new', ' new', ' no', ' novel', ' novel', ' of', ' ongoing', ' original', ' pioneering', ' popular', ' present', ' present', ' present', ' present', ' progressive', ' recent', ' red', ' regular', ' revolution', ' space', ' state', ' styl', ' subsequent', ' succeed', ' sweet', ' the', ' trend', ' ultra', ' ultram', ' unconventional', ' unfamiliar', ' un', ' unprecedented', ' unused', ' unusual', ' up', ' up', ' up', ' updated', ' usual', ' variational', ' v', ' with', ' young', ' ar', ' big', ' big', ' cock', ' conce', ' conce', ' con', ' ego', ' ego', ' ha', ' ha', ' hub', ' im', ' ins', ' narc', ' over', ' pom', ' p', ' pret', ' pr', ' self', ' self', ' self', ' self', ' self', ' self', ' self', ' self', ' self', ' self', ' sm', ' sn', ' sn', ' super', ' sw', ' swell', ' va', ' va', ' v', ' van', ' disappear', ' bad', ' bl', ' cor', ' c', ' evil', ' experienced', ' imp', ' knowledge', ' ab', ' agon', ' agon', ' amb', ' ar', ' aware', ' aw', ' back', ' back', ' b', ' b', ' br', ' burdens', ' careful', ' challenging', ' cloudy', ' cl', ' cl', ' col', ' complex', ' complicated', ' confusing', ' convol', ' cri', ' cr', ' crushing', ' cryptic', ' cumbersome', ' da', ' da', ' deb', ' decorated', ' demanding', ' deple', ' detailed', ' d', ' difficult', ' difficult', ' discom', ' distress', ' dist', ' draining', ' dr', ' easier', ' effort', ' elaborate', ' emb', ' energy', ' exact', ' exc', ' exhaust', ' extreme', ' f', ' fat', ' fer', ' f', ' f', ' forb', ' form', ' g', ' g', ' g', ' g', ' grinding', ' g', ' g', ' hairy', ' hard', ' hard', ' h', ' harsh', ' hazardous', ' heavy', ' he', ' her', ' high', ' high', ' immense', ' impossible', ' incomp', ' in', ' insu', ' intelligent', ' intense', ' intim', ' int', ' intractable', ' intricate', ' invol', ' invol', ' involved', ' j', ' j', ' killer', ' killing', ' kn', ' knot', ' lab', ' labor', ' lab', ' like', ' mal', ' mar', ' mature', ' merc', ' might', ' mind', ' mind', ' mo', ' murder', ' nerve', ' no', ' not', ' obscure', ' older', ' o', ' on', ' on', ' opaque', ' oper', ' op', ' orn', ' painful', ' pain', ' per', ' p', ' problematic', ' problem', ' profound', ' prohib', ' pun', ' puzz', ' rec', ' rigorous', ' rough', ' r', ' s', ' s', ' sc', ' serious', ' severe', ' sh', ' sl', ' slow', ' smart', ' so', ' sophisticated', ' st', ' sticky', ' stiff', ' st', ' stressful', ' swe', ' tall', ' tang', ' tax', ' tedious', ' testing', ' th', ' thought', ' t', ' t', ' tit', ' to', ' to', ' tor', ' tort', ' tort', ' tort', ' tough', ' tough', ' tric', ' troubles', ' tro', ' trying', ' un', ' unclear', ' uncom', ' undec', ' une', ' un', ' un', ' unint', ' un', ' unpleasant', ' un', ' un', ' uns', ' un', ' u', ' u', ' upstream', ' vague', ' v', ' vigorous', ' wearing', ' wear', ' we', ' weight', ' works', ' me', ' ser', ' abs', ' amateur', ' art', ' as', ' av', ' avoidance', ' aw', ' bad', ' blindness', ' bone', ' brain', ' calm', ' care', ' cl', ' confusion', ' c', ' dens', ' density', ' destruction', ' dim', ' dim', ' disability', ' dol', ' d', ' d', ' d', ' d', ' d', ' ease', ' entertainment', ' failure', ' fat', ' fat', ' fee', ' fol', ' f', ' ga', ' g', ' g', ' idi', ' ignor', ' ill', ' ill', ' ill', ' im', ' imper', ' imp', ' impractical', ' impro', ' im', ' inability', ' inadequ', ' in', ' in', ' in', ' incap', ' incap', ' incap', ' inc', ' incomp', ' incomp', ' incomp', ' ind', ' in', ' ine', ' ine', ' in', ' in', ' in', ' inj', ' ins', ' ins', ' ins', ' instability', ' irrational', ' ir', ' lack', ' lack', ' l', ' mal', ' mind', ' mis', ' miscon', ' mis', ' mis', ' mis', ' mistake', ' mis', ' nit', ' non', ' nonsense', ' nons', ' o', ' obsc', ' ob', ' release', ' science', ' sens', ' shall', ' s', ' simpl', ' simplicity', ' slow', ' slow', ' st', ' st', ' superficial', ' sur', ' thick', ' thickness', ' thing', ' thought', ' unaware', ' un', ' unconscious', ' unint', ' un', ' un', ' un', ' uns', ' un', ' unw', ' unw', ' useless', ' vacancy', ' vacu', ' vag', ' want', ' weak', ' weakness', ' w', ' writing', ' ass', ' collective', ' different', ' diverse', ' diversified', ' double', ' manifold', ' many', ' married', ' mixed', ' multif', ' multi', ' multiple', ' multi', ' myriad', ' numerous', ' several', ' united', ' varied', ' various', ' vol', ' wed', ' wed', ' aid', ' defense', ' flight', ' health', ' protection', ' re', ' resistance', ' shelter', ' shield', ' submission', ' support', ' sur', ' s', ' close', ' condensed', ' dense', ' firm', ' frozen', ' hard', ' solid', ' unavailable', ' aff', ' annoy', ' bec', ' black', ' ble', ' blow', ' bl', ' bl', ' che', ' cloud', ' cloud', ' cloudy', ' cold', ' comfort', ' damp', ' dark', ' dark', ' depressed', ' dep', ' depressive', ' des', ' dim', ' d', ' di', ' dirty', ' disc', ' dis', ' dis', ' dis', ' do', ' dol', ' d', ' d', ' d', ' d', ' d', ' d', ' d', ' fog', ' for', ' fo', ' fun', ' gl', ' gl', ' god', ' gray', ' grey', ' gust', ' harsh', ' haz', ' haz', ' heavy', ' hor', ' how', ' inc', ' jo', ' lack', ' lack', ' lead', ' light', ' l', ' lowering', ' l', ' melan', ' men', ' mis', ' mist', ' monoton', ' m', ' mor', ' mur', ' n', ' nebul', ' n', ' op', ' over', ' over', ' pale', ' pall', ' pour', ' promising', ' ra', ' rainy', ' raw', ' repulsive', ' rough', ' sad', ' sat', ' severe', ' shaded', ' shadow', ' sh', ' so', ' som', ' som', ' sor', ' squ', ' storm', ' storm', ' storm', ' storm', ' sul', ' s', ' sun', ' tedious', ' temp', ' t', ' t', ' threatening', ' th', ' tor', ' troubles', ' turbulent', ' un', ' un', ' unclear', ' un', ' un', ' un', ' unpleasant', ' un', ' up', ' volatile', ' w', ' wet', ' wild', ' wind', ' winter', ' w', ' w', ' ac', ' ac', ' acute', ' acute', ' bar', ' bright', ' cutting', ' ed', ' ed', ' ground', ' hon', ' intelligent', ' j', ' k', ' k', ' knife', ' knife', ' kn', ' lac', ' needle', ' need', ' needle', ' not', ' pointed', ' point', ' pol', ' p', ' pr', ' quick', ' ra', ' ra', ' ra', ' saw', ' saw', ' saw', ' saw', ' saw', ' saw', ' serr', ' serr', ' serr', ' serr', ' serr', ' serr', ' sharp', ' sharp', ' sharpen', ' smart', ' spiked', ' spik', ' spik', ' spik', ' spin', ' subtle', ' t', ' tapered', ' th', ' to', ' tren', ' ultr', ' un', ' whe', ' accepted', ' acc', ' average', ' bad', ' b', ' basic', ' belie', ' bog', ' b', ' common', ' common', ' constant', ' conventional', ' credible', ' customary', ' cut', ' cut', ' daily', ' discre', ' d', ' established', ' everyday', ' expected', ' familiar', ' frequent', ' general', ' habitual', ' half', ' household', ' hum', ' imperfect', ' incons', ' incons', ' indiff', ' inferior', ' insignificant', ' likely', ' little', ' mainstream', ' medi', ' moderate', ' m', ' natural', ' no', ' normal', ' not', ' ordinary', ' pal', ' plain', ' plausible', ' poor', ' popular', ' possible', ' predictable', ' pro', ' quoti', ' recognised', ' recognized', ' regular', ' routine', ' run', ' second', ' small', ' standard', ' standard', ' stock', ' ten', ' tiny', ' traditional', ' typical', ' ug', ' undist', ' un', ' un', ' un', ' usual', ' vanilla', ' well', ' won', ' worth', ' d', ' fear', ' f', ' hum', ' retic', ' reti', ' calm', ' faint', ' gentle', ' hus', ' in', ' incomplete', ' intro', ' lazy', ' leth', ' low', ' low', ' me', ' m', ' moderate', ' m', ' m', ' mut', ' need', ' nois', ' order', ' peace', ' quiet', ' quiet', ' restrained', ' serious', ' sh', ' silent', ' soft', ' so', ' sound', ' speech', ' still', ' still', ' s', ' tame', ' thin', ' t', ' tran', ' un', ' weak', ' against', ' a', ' away', ' in', ' in', ' opposed', ' set', ' absent', ' absent', ' absent', ' abstracted', ' advent', ' advent', ' amateur', ' ap', ' as', ' aud', ' aw', ' badly', ' bold', ' br', ' bum', ' cap', ' care', ' care', ' casual', ' cav', ' certain', ' cl', ' cl', ' com', ' cur', ' d', ' day', ' depth', ' dere', ' dis', ' dis', ' disreg', ' dist', ' dist', ' diver', ' dream', ' empty', ' erroneous', ' error', ' ext', ' false', ' fast', ' fat', ' fl', ' fl', ' f', ' f', ' ha', ' h', ' h', ' harsh', ' har', ' h', ' head', ' heavy', ' he', ' honest', ' hur', ' id', ' ignor', ' ill', ' ill', ' ill', ' ill', ' ill', ' ill', ' im', ' imp', ' imprecise', ' impro', ' im', ' impulsive', ' inaccurate', ' in', ' in', ' in', ' inc', ' inc', ' incons', ' incon', ' incorrect', ' ind', ' indiff', ' in', ' in', ' in', ' inj', ' inn', ' in', ' ins', ' insensitive', ' irrational', ' ir', ' lack', ' lax', ' lazy', ' light', ' loose', ' lum', ' m', ' mess', ' mind', ' mis', ' mis', ' neglect', ' neglecting', ' neglig', ' n', ' non', ' not', ' obl', ' ob', ' obvious', ' off', ' one', ' open', ' outgoing', ' over', ' over', ' over', ' over', ' over', ' perf', ' peripheral', ' precipitate', ' precipit', ' premature', ' pre', ' questionable', ' quiet', ' rash', ' rec', ' regardless', ' rem', ' revealing', ' rough', ' scatter', ' scrap', ' seat', ' sens', ' shallow', ' sh', ' sil', ' slack', ' sl', ' sl', ' sl', ' sl', ' sl', ' spur', ' st', ' superficial', ' t', ' tear', ' tem', ' thought', ' token', ' trivial', ' un', ' un', ' unaware', ' unc', ' unc', ' unc', ' unc', ' uncon', ' unconscious', ' uncons', ' uncontrolled', ' unc', ' und', ' undet', ' und', ' und', ' un', ' un', ' un', ' un', ' un', ' unint', ' un', ' un', ' un', ' un', ' un', ' un', ' un', ' unp', ' unrealistic', ' un', ' un', ' unsafe', ' un', ' un', ' un', ' uns', ' uns', ' uns', ' un', ' un', ' un', ' unw', ' unw', ' un', ' unw', ' unw', ' vent', ' vent', ' wild', ' willing', ' wool', ' wrong', ' absolute', ' aggregate', ' all', ' all', ' complete', ' comprehensive', ' entire', ' fair', ' fault', ' finished', ' flaw', ' full', ' grand', ' intact', ' integral', ' in', ' just', ' overall', ' perfect', ' pl', ' pristine', ' sc', ' solid', ' sound', ' thorough', ' together', ' total', ' unbiased', ' un', ' unbroken', ' unc', ' und', ' und', ' und', ' un', ' un', ' un', ' un', ' un', ' un', ' un', ' un', ' un', ' un', ' un', ' un', ' un', ' un', ' uns', ' un', ' un', ' virgin', ' whole', ' advantageous', ' agree', ' a', ' an', ' appealing', ' appropriate', ' approved', ' apt', ' assisting', ' a', ' becoming', ' beneficial', ' benign', ' bl', ' bright', ' celebrated', ' che', ' com', ' comm', ' convenient', ' desirable', ' desired', ' encouraging', ' excellent', ' favorable', ' favored', ' favourable', ' favoured', ' f', ' fort', ' for', ' fruitful', ' gain', ' golden', ' good', ' great', ' happy', ' harm', ' health', ' healthy', ' helpful', ' hop', ' inn', ' in', ' insignificant', ' j', ' life', ' liked', ' l', ' mir', ' nice', ' non', ' non', ' nond', ' non', ' non', ' n', ' op', ' pleasant', ' ple', ' preferred', ' profitable', ' promising', ' prop', ' pros', ' provid', ' reward', ' right', ' sal', ' satisfactory', ' satisfying', ' successful', ' superficial', ' timely', ' tri', ' trivial', ' unimportant', ' unnecessary', ' useful', ' valuable', ' vital', ' vital', ' wanted', ' welcome', ' wh', ' win', ' winning', ' wonder', ' wond', ' worthwhile', ' apparent', ' clear', ' direct', ' discernible', ' easy', ' evident', ' homogeneous', ' obvious', ' plain', ' active', ' advent', ' advent', ' aggressive', ' ag', ' agon', ' alert', ' alive', ' alive', ' amb', ' an', ' an', ' animated', ' antagonistic', ' anti', ' anti', ' ar', ' argument', ' ar', ' ass', ' asser', ' att', ' aud', ' aut', ' author', ' author', ' aut', ' aut', ' a', ' avid', ' awake', ' aw', ' b', ' bell', ' b', ' blood', ' bo', ' bold', ' bol', ' boss', ' b', ' bright', ' br', ' bull', ' bull', ' bull', ' busy', ' cant', ' careful', ' caring', ' challenging', ' chip', ' cock', ' coercive', ' comb', ' concerned', ' confident', ' confront', ' cont', ' contrary', ' controlling', ' cont', ' cour', ' d', ' d', ' dead', ' def', ' des', ' determined', ' dict', ' difficult', ' dil', ' discordant', ' dis', ' dis', ' dis', ' disorder', ' dis', ' dis', ' diss', ' diss', ' diss', ' dog', ' dominant', ' dominating', ' dom', ' d', ' dynamic', ' e', ' ego', ' emotional', ' energetic', ' enter', ' enthus', ' exc', ' excited', ' fac', ' fe', ' f', ' firm', ' force', ' frac', ' f', ' full', ' full', ' gl', ' gut', ' hard', ' hard', ' hard', ' hard', ' hard', ' harsh', ' ha', ' head', ' high', ' hostile', ' hostile', ' imm', ' imp', ' imperative', ' imperial', ' imper', ' im', ' incom', ' incons', ' incon', ' incor', ' independent', ' ind', ' ind', ' ind', ' in', ' inf', ' in', ' ins', ' inspired', ' ins', ' ins', ' ins', ' ins', ' interested', ' int', ' intractable', ' int', ' iron', ' k', ' l', ' loud', ' mach', ' mag', ' master', ' milit', ' mis', ' mobile', ' motivated', ' moving', ' mul', ' mut', ' neglect', ' non', ' non', ' non', ' ob', ' obst', ' obst', ' off', ' opinion', ' opposed', ' opposed', ' opposing', ' op', ' or', ' over', ' over', ' pass', ' p', ' pertin', ' per', ' pet', ' pig', ' pig', ' protest', ' prov', ' p', ' push', ' p', ' quar', ' quer', ' quick', ' reactive', ' ready', ' re', ' re', ' recalc', ' rec', ' rec', ' refractory', ' reluct', ' re', ' repell', ' resistant', ' res', ' resistive', ' res', ' responsive', ' res', ' rigid', ' rock', ' rough', ' ro', ' scrap', ' sed', ' self', ' self', ' sensitive', ' severe', ' single', ' solid', ' spark', ' spir', ' spo', ' spun', ' stead', ' stiff', ' stimulated', ' strict', ' strong', ' st', ' stub', ' sub', ' sub', ' superior', ' sw', ' ten', ' throwing', ' touch', ' tough', ' tre', ' tre', ' tre', ' tro', ' troubles', ' tr', ' trying', ' ty', ' ty', ' ty', ' un', ' un', ' un', ' un', ' un', ' uncom', ' uncomp', ' uncomp', ' uncont', ' unco', ' und', ' und', ' un', ' un', ' unf', ' un', ' un', ' un', ' un', ' unnecessary', ' un', ' unp', ' un', ' un', ' un', ' un', ' un', ' un', ' un', ' unw', ' unw', ' un', ' useless', ' vent', ' vent', ' vibr', ' vigorous', ' violent', ' vital', ' viv', ' war', ' warm', ' way', ' whole', ' wide', ' wild', ' wil', ' will', ' ze', ' zip', ' dark', ' opaque', ' questionable', ' unclear', ' unint', ' vague']\n"
     ]
    }
   ],
   "source": [
    "objects = []\n",
    "for word in antonym_dict:\n",
    "    antonyms = [\" \" + ant for ant in antonym_dict[word]]\n",
    "    objects += [tokenizer.decode(tokenizer(ant)['input_ids'][0]) for ant in antonyms]\n",
    "print(objects)\n"
   ]
  },
  {
   "cell_type": "code",
   "execution_count": 58,
   "metadata": {},
   "outputs": [],
   "source": [
    "from relations.corner import CornerEstimator\n",
    "corner_estimator = CornerEstimator(\n",
    "    model=model, tokenizer=tokenizer,\n",
    "    ln_f_name= \"model.decoder.final_layer_norm\", \n",
    "    unembedder_module_name=\"lm_head\"\n",
    ")"
   ]
  },
  {
   "cell_type": "code",
   "execution_count": 59,
   "metadata": {},
   "outputs": [
    {
     "name": "stdout",
     "output_type": "stream",
     "text": [
      "18.59375 [(' un', 62.781), (' ', 44.125), (' in', 37.094), (' a', 36.406), (' d', 36.219)]\n"
     ]
    }
   ],
   "source": [
    "simple_corner = corner_estimator.estimate_simple_corner(objects, scale_up=70)\n",
    "print(simple_corner.norm().item(), corner_estimator.get_vocab_representation(simple_corner, get_logits=True))"
   ]
  },
  {
   "cell_type": "code",
   "execution_count": 60,
   "metadata": {},
   "outputs": [
    {
     "name": "stdout",
     "output_type": "stream",
     "text": [
      "calculating inverse of unbedding weights . . .\n",
      "138.0 [(' un', 16.375), (' good', 15.844), (' hard', 15.406), (' ins', 15.398), (' uns', 14.609)]\n"
     ]
    }
   ],
   "source": [
    "lin_inv_corner = corner_estimator.estimate_lin_inv_corner(objects, target_logit_value=50)\n",
    "print(lin_inv_corner.norm().item(), corner_estimator.get_vocab_representation(lin_inv_corner, get_logits=True))"
   ]
  },
  {
   "cell_type": "code",
   "execution_count": 61,
   "metadata": {},
   "outputs": [
    {
     "name": "stdout",
     "output_type": "stream",
     "text": [
      "nan [('<pad>', nan), ('<s>', nan), ('</s>', nan), ('[START_REF]', nan), ('<unk>', nan)]\n"
     ]
    }
   ],
   "source": [
    "lst_sq_corner = corner_estimator.estimate_corner_lstsq_solve(objects, target_logit=50)\n",
    "print(lst_sq_corner.norm().item(), corner_estimator.get_vocab_representation(lst_sq_corner, get_logits=True))"
   ]
  },
  {
   "cell_type": "code",
   "execution_count": null,
   "metadata": {},
   "outputs": [],
   "source": [
    "# avg_corner = corner_estimator.estimate_average_corner_with_gradient_descent(objects, average_on=5, target_logit_value=50, verbose=False)\n",
    "# print(avg_corner.norm().item(), corner_estimator.get_vocab_representation(avg_corner))"
   ]
  },
  {
   "cell_type": "code",
   "execution_count": null,
   "metadata": {},
   "outputs": [],
   "source": [
    "def check_with_test_cases(relation_operator):\n",
    "    test_cases = [\n",
    "        (b, -1, h) for b, h in filter_by_model_knowledge[20:]\n",
    "    ]\n",
    "    for subject, subject_token_index, target in test_cases:\n",
    "        answer = relation_operator(\n",
    "            subject,\n",
    "            subject_token_index=subject_token_index,\n",
    "            device=model.device,\n",
    "            return_top_k=5,\n",
    "        )\n",
    "        print(f\"{subject}, target: {target}   ==>   predicted: {answer}\")"
   ]
  },
  {
   "cell_type": "code",
   "execution_count": null,
   "metadata": {},
   "outputs": [
    {
     "name": "stdout",
     "output_type": "stream",
     "text": [
      "summer, target: season   ==>   predicted: [' season', ' group', ' color', ' wind', ' plant']\n",
      "meat, target: food   ==>   predicted: [' science', ' group', ' color', ' plant', ' food']\n",
      "doll, target: toy   ==>   predicted: [' tree', ' shape', ' fish', ' star', ' group']\n",
      "gold, target: metal   ==>   predicted: [' metal', ' tree', ' wind', ' star', ' color']\n",
      "round, target: shape   ==>   predicted: [' shape', ' plant', ' wind', ' food', ' color']\n",
      "breeze, target: wind   ==>   predicted: [' color', ' tree', ' metal', ' plant', ' season']\n",
      "man, target: human   ==>   predicted: [' group', ' person', ' plant', ' color', ' food']\n",
      "hologram, target: picture   ==>   predicted: [' metal', ' color', ' device', ' tree', ' plant']\n",
      "paper, target: material   ==>   predicted: [' science', ' plant', ' wind', ' material', ' group']\n",
      "photographer, target: person   ==>   predicted: [' group', ' fish', ' tree', ' game', ' drug']\n",
      "documentary, target: film   ==>   predicted: [' film', ' material', ' science', ' group', ' star']\n",
      "anesthetic, target: drug   ==>   predicted: [' group', ' plant', ' drug', ' color', ' material']\n",
      "salad, target: dish   ==>   predicted: [' tree', ' group', ' plant', ' food', ' color']\n",
      "thumb, target: finger   ==>   predicted: [' group', ' food', ' tree', ' shape', ' plant']\n"
     ]
    }
   ],
   "source": [
    "relation = estimate.RelationOperator(\n",
    "    model = model,\n",
    "    tokenizer = tokenizer,\n",
    "    relation = prompt,\n",
    "    layer = 15,\n",
    "    weight = torch.eye(getattr(model.config, n_embd_field)).to(model.dtype).to(model.device),\n",
    "    bias = lst_sq_corner,\n",
    "\n",
    "    layer_name_format = \"model.decoder.layers.{}\",\n",
    "    ln_f_name = \"model.decoder.final_layer_norm\"\n",
    ")\n",
    "check_with_test_cases(relation)"
   ]
  },
  {
   "cell_type": "code",
   "execution_count": null,
   "metadata": {},
   "outputs": [],
   "source": [
    "def get_averaged_JB(top_performers, relation_prompt, num_icl = 3, calculate_at_lnf = False):\n",
    "    try:\n",
    "        jbs = []\n",
    "        for s, s_idx, o in tqdm(top_performers):\n",
    "            others = set(top_performers) - {(s, s_idx, o)}\n",
    "            others = random.sample(list(others), k = min(num_icl, len(list(others)))) \n",
    "            prompt = \"\"\n",
    "            prompt += \"\\n\".join(relation_prompt.format(s_other) + f\" {o_other}.\" for s_other, idx_other, o_other in others) + \"\\n\"\n",
    "            prompt += relation_prompt\n",
    "            print(\"subject: \", s)\n",
    "            print(prompt)\n",
    "\n",
    "            jb, _ = estimate.relation_operator_from_sample(\n",
    "                model, tokenizer,\n",
    "                s, prompt,\n",
    "                subject_token_index= s_idx,\n",
    "                layer = 15,\n",
    "                device = model.device,\n",
    "                # calculate_at_lnf = calculate_at_lnf\n",
    "\n",
    "                layer_name_format = \"model.decoder.layers.{}\",\n",
    "                ln_f_name = \"model.decoder.final_layer_norm\",\n",
    "                n_layer_field = \"num_hidden_layers\"\n",
    "            )\n",
    "            print(jb.weight.norm(), jb.bias.norm())\n",
    "            print()\n",
    "            jbs.append(jb)\n",
    "        \n",
    "        weight = torch.stack([jb.weight for jb in jbs]).mean(dim=0)\n",
    "        bias  = torch.stack([jb.bias for jb in jbs]).mean(dim=0)\n",
    "\n",
    "        return weight, bias\n",
    "    except RuntimeError as e:\n",
    "        if(str(e).startswith(\"CUDA out of memory\")):\n",
    "            print(\"CUDA out of memory\")\n",
    "        if(num_icl > 1):\n",
    "            num_icl -= 1\n",
    "            print(\"trying with smaller icl >> \", num_icl)\n",
    "            return get_averaged_JB(top_performers, relation_prompt, num_icl, calculate_at_lnf)\n",
    "        else:\n",
    "            raise Exception(\"RuntimeError >> can't calculate Jacobian with minimum number of icl examples\")\n",
    "\n",
    "def get_multiple_averaged_JB(top_performers, relation_prompt, N = 3, num_icl = 2, calculate_at_lnf = False):\n",
    "    weights_and_biases = []\n",
    "    sample_size = min(len(top_performers), num_icl + 2)\n",
    "    for _ in tqdm(range(N)):\n",
    "        cur_sample = random.sample(top_performers, k = sample_size)\n",
    "        weight, bias = get_averaged_JB(cur_sample, relation_prompt, num_icl, calculate_at_lnf)\n",
    "        weights_and_biases.append({\n",
    "            'weight': weight,\n",
    "            'bias'  : bias\n",
    "        })\n",
    "    return weights_and_biases"
   ]
  },
  {
   "cell_type": "code",
   "execution_count": null,
   "metadata": {},
   "outputs": [
    {
     "name": "stdout",
     "output_type": "stream",
     "text": [
      "[('oak', -1, 'tree'), ('diamond', -1, 'gem'), ('happiness', -1, 'feeling'), ('family', -1, 'group'), ('thesaurus', -1, 'dictionary'), ('crow', -1, 'bird'), ('tennis', -1, 'sport'), ('salmon', -1, 'fish'), ('flower', -1, 'plant'), ('rosemary', -1, 'herb'), ('cucumber', -1, 'vegetable'), ('roulette', -1, 'game'), ('physics', -1, 'science'), ('earth', -1, 'planet'), ('sun', -1, 'star'), ('coffee', -1, 'beverage'), ('car', -1, 'vehicle'), ('yellow', -1, 'color'), ('fan', -1, 'device'), ('judaism', -1, 'religion')]\n"
     ]
    },
    {
     "data": {
      "application/vnd.jupyter.widget-view+json": {
       "model_id": "0589753fcff74a319bddbdd904813c06",
       "version_major": 2,
       "version_minor": 0
      },
      "text/plain": [
       "  0%|          | 0/3 [00:00<?, ?it/s]"
      ]
     },
     "metadata": {},
     "output_type": "display_data"
    },
    {
     "data": {
      "application/vnd.jupyter.widget-view+json": {
       "model_id": "eb7d793af820478d9c790a86a8efc35a",
       "version_major": 2,
       "version_minor": 0
      },
      "text/plain": [
       "  0%|          | 0/4 [00:00<?, ?it/s]"
      ]
     },
     "metadata": {},
     "output_type": "display_data"
    },
    {
     "name": "stdout",
     "output_type": "stream",
     "text": [
      "subject:  cucumber\n",
      " family is a group.\n",
      " roulette is a game.\n",
      " {} is a\n",
      "tensor(43.0938, device='cuda:0', dtype=torch.float16) tensor(248.8750, device='cuda:0', dtype=torch.float16)\n",
      "\n",
      "subject:  roulette\n",
      " coffee is a beverage.\n",
      " cucumber is a vegetable.\n",
      " {} is a\n",
      "tensor(57.5938, device='cuda:0', dtype=torch.float16) tensor(274.2500, device='cuda:0', dtype=torch.float16)\n",
      "\n",
      "subject:  family\n",
      " roulette is a game.\n",
      " coffee is a beverage.\n",
      " {} is a\n",
      "tensor(46.7500, device='cuda:0', dtype=torch.float16) tensor(253.7500, device='cuda:0', dtype=torch.float16)\n",
      "\n",
      "subject:  coffee\n",
      " roulette is a game.\n",
      " cucumber is a vegetable.\n",
      " {} is a\n",
      "tensor(40.3438, device='cuda:0', dtype=torch.float16) tensor(264., device='cuda:0', dtype=torch.float16)\n",
      "\n"
     ]
    },
    {
     "data": {
      "application/vnd.jupyter.widget-view+json": {
       "model_id": "e79e747018ab493eb81bd7843e20d963",
       "version_major": 2,
       "version_minor": 0
      },
      "text/plain": [
       "  0%|          | 0/4 [00:00<?, ?it/s]"
      ]
     },
     "metadata": {},
     "output_type": "display_data"
    },
    {
     "name": "stdout",
     "output_type": "stream",
     "text": [
      "subject:  happiness\n",
      " roulette is a game.\n",
      " yellow is a color.\n",
      " {} is a\n",
      "tensor(38., device='cuda:0', dtype=torch.float16) tensor(259.7500, device='cuda:0', dtype=torch.float16)\n",
      "\n",
      "subject:  roulette\n",
      " happiness is a feeling.\n",
      " yellow is a color.\n",
      " {} is a\n",
      "tensor(53.2812, device='cuda:0', dtype=torch.float16) tensor(281.2500, device='cuda:0', dtype=torch.float16)\n",
      "\n",
      "subject:  yellow\n",
      " fan is a device.\n",
      " roulette is a game.\n",
      " {} is a\n",
      "tensor(43.8750, device='cuda:0', dtype=torch.float16) tensor(227.2500, device='cuda:0', dtype=torch.float16)\n",
      "\n",
      "subject:  fan\n",
      " roulette is a game.\n",
      " happiness is a feeling.\n",
      " {} is a\n",
      "tensor(52.8750, device='cuda:0', dtype=torch.float16) tensor(256.2500, device='cuda:0', dtype=torch.float16)\n",
      "\n"
     ]
    },
    {
     "data": {
      "application/vnd.jupyter.widget-view+json": {
       "model_id": "24ec468fe8aa458db75f7dad43c60405",
       "version_major": 2,
       "version_minor": 0
      },
      "text/plain": [
       "  0%|          | 0/4 [00:00<?, ?it/s]"
      ]
     },
     "metadata": {},
     "output_type": "display_data"
    },
    {
     "name": "stdout",
     "output_type": "stream",
     "text": [
      "subject:  happiness\n",
      " cucumber is a vegetable.\n",
      " diamond is a gem.\n",
      " {} is a\n",
      "tensor(40.4375, device='cuda:0', dtype=torch.float16) tensor(250.3750, device='cuda:0', dtype=torch.float16)\n",
      "\n",
      "subject:  diamond\n",
      " earth is a planet.\n",
      " happiness is a feeling.\n",
      " {} is a\n",
      "tensor(45.1875, device='cuda:0', dtype=torch.float16) tensor(254.3750, device='cuda:0', dtype=torch.float16)\n",
      "\n",
      "subject:  cucumber\n",
      " earth is a planet.\n",
      " happiness is a feeling.\n",
      " {} is a\n",
      "tensor(40.7812, device='cuda:0', dtype=torch.float16) tensor(249.6250, device='cuda:0', dtype=torch.float16)\n",
      "\n",
      "subject:  earth\n",
      " cucumber is a vegetable.\n",
      " diamond is a gem.\n",
      " {} is a\n",
      "tensor(49.3125, device='cuda:0', dtype=torch.float16) tensor(235.6250, device='cuda:0', dtype=torch.float16)\n",
      "\n"
     ]
    }
   ],
   "source": [
    "samples = [\n",
    "        (b, -1, h) for b, h in filter_by_model_knowledge[:20]\n",
    "    ]\n",
    "print(samples)\n",
    "\n",
    "weights_and_biases = get_multiple_averaged_JB(\n",
    "    samples, \n",
    "    relation_prompt=\" {} is a\", \n",
    "    N = 3, \n",
    "    calculate_at_lnf=False\n",
    ")"
   ]
  },
  {
   "cell_type": "code",
   "execution_count": null,
   "metadata": {},
   "outputs": [
    {
     "name": "stdout",
     "output_type": "stream",
     "text": [
      "summer, target: season   ==>   predicted: [' season', ' color', ' wind', ' herb', ' plant']\n",
      "meat, target: food   ==>   predicted: [' food', ' dish', ' vegetable', ' material', ' meat']\n",
      "doll, target: toy   ==>   predicted: [' toy', ' shape', ' picture', ' bird', ' person']\n",
      "gold, target: metal   ==>   predicted: [' metal', ' material', ' gem', ' color', ' religion']\n",
      "round, target: shape   ==>   predicted: [' shape', ' sport', ' season', ' wind', ' galaxy']\n",
      "breeze, target: wind   ==>   predicted: [' wind', ' season', ' feeling', ' herb', ' color']\n",
      "man, target: human   ==>   predicted: [' human', ' person', ' vehicle', ' fish', ' sport']\n",
      "hologram, target: picture   ==>   predicted: [' device', ' picture', ' material', ' science', ' film']\n",
      "paper, target: material   ==>   predicted: [' material', ' wind', ' dish', ' dictionary', ' vehicle']\n",
      "photographer, target: person   ==>   predicted: [' person', ' science', ' star', ' human', ' sport']\n",
      "documentary, target: film   ==>   predicted: [' film', ' picture', ' wind', ' dish', ' science']\n",
      "anesthetic, target: drug   ==>   predicted: [' drug', ' herb', ' feeling', ' beverage', ' material']\n",
      "salad, target: dish   ==>   predicted: [' dish', ' food', ' vegetable', ' season', ' beverage']\n",
      "thumb, target: finger   ==>   predicted: [' finger', ' shape', ' fish', ' device', ' star']\n"
     ]
    }
   ],
   "source": [
    "relation_operator = estimate.RelationOperator(\n",
    "    model = model,\n",
    "    tokenizer= tokenizer,\n",
    "    relation = prompt,\n",
    "    layer = 15,\n",
    "    weight = torch.stack(\n",
    "        [wb['weight'] for wb in weights_and_biases]\n",
    "    ).mean(dim=0),\n",
    "    # bias = torch.stack(\n",
    "    #     [wb['bias'] for wb in weights_and_biases]\n",
    "    # ).mean(dim=0),\n",
    "    bias = lst_sq_corner,\n",
    "\n",
    "    layer_name_format = \"model.decoder.layers.{}\",\n",
    "    ln_f_name = \"model.decoder.final_layer_norm\",\n",
    ")\n",
    "\n",
    "check_with_test_cases(relation_operator)"
   ]
  },
  {
   "cell_type": "code",
   "execution_count": null,
   "metadata": {},
   "outputs": [
    {
     "data": {
      "text/plain": [
       "[' type', ' kind', ' good', ' ', ' very']"
      ]
     },
     "execution_count": 25,
     "metadata": {},
     "output_type": "execute_result"
    }
   ],
   "source": [
    "corner_estimator.get_vocab_representation(\n",
    "    torch.stack(\n",
    "        [wb['bias'] for wb in weights_and_biases]\n",
    "    ).mean(dim=0)\n",
    ")"
   ]
  },
  {
   "cell_type": "code",
   "execution_count": null,
   "metadata": {},
   "outputs": [],
   "source": []
  }
 ],
 "metadata": {
  "kernelspec": {
   "display_name": "relation",
   "language": "python",
   "name": "python3"
  },
  "language_info": {
   "codemirror_mode": {
    "name": "ipython",
    "version": 3
   },
   "file_extension": ".py",
   "mimetype": "text/x-python",
   "name": "python",
   "nbconvert_exporter": "python",
   "pygments_lexer": "ipython3",
   "version": "3.10.8"
  },
  "orig_nbformat": 4,
  "vscode": {
   "interpreter": {
    "hash": "4104f34302edfbfea7294aa0a5e7d82342a152e8e30f6673f70b28d5f99d4ac0"
   }
  }
 },
 "nbformat": 4,
 "nbformat_minor": 2
}
